{
 "cells": [
  {
   "cell_type": "markdown",
   "metadata": {},
   "source": [
    "# 数组嵌套\n",
    "\n",
    "**题目来源：力扣（LeetCode）**\n",
    "\n",
    "**链接：https://leetcode-cn.com/problems/array-nesting/**\n",
    "\n",
    "## 一、题目\n",
    "\n",
    "索引从0开始长度为N的数组A，包含0到N - 1的所有整数。找到最大的集合S并返回其大小，其中 S[i] = {A[i], A[A[i]], A[A[A[i]]], ... }且遵守以下的规则。\n",
    "\n",
    "假设选择索引为i的元素A[i]为S的第一个元素，S的下一个元素应该是A[A[i]]，之后是A[A[A[i]]]... 以此类推，不断添加直到S出现重复的元素。\n",
    "\n",
    "### 提示：\n",
    "\n",
    "- N是[1, 20,000]之间的整数。\n",
    "- A中不含有重复的元素。\n",
    "- A中的元素大小在[0, N-1]之间。\n",
    "\n",
    "## 二、示例\n",
    "\n",
    "输入: A = [5,4,0,3,1,6,2]\n",
    "\n",
    "输出: 4\n",
    "\n",
    "解释: \n",
    "\n",
    "A[0] = 5, A[1] = 4, A[2] = 0, A[3] = 3, A[4] = 1, A[5] = 6, A[6] = 2.\n",
    "\n",
    "其中一种最长的 S[K]: S[0] = {A[0], A[5], A[6], A[2]} = {5, 6, 2, 0}\n",
    "\n",
    "## 三、解题思路\n",
    "\n",
    "### 一、暴力（超时）"
   ]
  },
  {
   "cell_type": "code",
   "execution_count": 1,
   "metadata": {},
   "outputs": [],
   "source": [
    "def arrayNesting(nums) -> int:\n",
    "    def getLength(i):\n",
    "        index_set = set()\n",
    "        index = i\n",
    "        while True:\n",
    "            if index in index_set:\n",
    "                break\n",
    "            index_set.add(index)\n",
    "            index = nums[index]\n",
    "        return len(index_set)\n",
    "    ret = 0\n",
    "    for i in range(len(nums)):\n",
    "        ret = max(ret, getLength(i))\n",
    "    return ret"
   ]
  },
  {
   "cell_type": "code",
   "execution_count": 2,
   "metadata": {},
   "outputs": [
    {
     "data": {
      "text/plain": [
       "4"
      ]
     },
     "execution_count": 2,
     "metadata": {},
     "output_type": "execute_result"
    }
   ],
   "source": [
    "arrayNesting([5,4,0,3,1,6,2])"
   ]
  },
  {
   "cell_type": "markdown",
   "metadata": {},
   "source": [
    "### 二、暴力优化（使用数组记忆访问过的节点）"
   ]
  },
  {
   "cell_type": "code",
   "execution_count": 3,
   "metadata": {},
   "outputs": [],
   "source": [
    "def arrayNesting(nums) -> int:\n",
    "    ret = 0\n",
    "    n = len(nums)\n",
    "    visited = [False] * n\n",
    "    for i in range(n):\n",
    "        if not visited[i]:\n",
    "            visited[i] = True\n",
    "            startIndex, count = i, 1\n",
    "            index = i\n",
    "            while True:\n",
    "                index = nums[index]\n",
    "                if startIndex == index:\n",
    "                    break\n",
    "                count += 1\n",
    "                visited[index] = True\n",
    "            ret = max(ret, count)\n",
    "    return ret"
   ]
  },
  {
   "cell_type": "code",
   "execution_count": 4,
   "metadata": {},
   "outputs": [
    {
     "data": {
      "text/plain": [
       "4"
      ]
     },
     "execution_count": 4,
     "metadata": {},
     "output_type": "execute_result"
    }
   ],
   "source": [
    "arrayNesting([5,4,0,3,1,6,2])"
   ]
  },
  {
   "cell_type": "code",
   "execution_count": null,
   "metadata": {},
   "outputs": [],
   "source": []
  }
 ],
 "metadata": {
  "kernelspec": {
   "display_name": "Python 3",
   "language": "python",
   "name": "python3"
  },
  "language_info": {
   "codemirror_mode": {
    "name": "ipython",
    "version": 3
   },
   "file_extension": ".py",
   "mimetype": "text/x-python",
   "name": "python",
   "nbconvert_exporter": "python",
   "pygments_lexer": "ipython3",
   "version": "3.6.5"
  }
 },
 "nbformat": 4,
 "nbformat_minor": 2
}
