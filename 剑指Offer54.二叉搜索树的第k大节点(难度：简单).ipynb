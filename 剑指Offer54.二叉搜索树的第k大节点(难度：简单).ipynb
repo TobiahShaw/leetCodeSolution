{
 "cells": [
  {
   "cell_type": "markdown",
   "metadata": {},
   "source": [
    "# 二叉搜索树的第k大节点\n",
    "\n",
    "**题目来源：力扣（LeetCode）**\n",
    "\n",
    "**链接：https://leetcode.cn/problems/er-cha-sou-suo-shu-de-di-kda-jie-dian-lcof/**\n",
    "\n",
    "## 一、题目\n",
    "\n",
    "给定一棵二叉搜索树，请找出其中第 k 大的节点的值。\n",
    "\n",
    "### 提示：\n",
    "\n",
    "- 1 ≤ k ≤ 二叉搜索树元素个数\n",
    "\n",
    "## 二、示例\n",
    "\n",
    "### 示例 1：\n",
    "\n",
    "输入: root = [3,1,4,null,2], k = 1\n",
    "```\n",
    "\n",
    "   3\n",
    "  / \\\n",
    " 1   4\n",
    "  \\\n",
    "   2\n",
    "```\n",
    "\n",
    "输出: 4\n",
    "\n",
    "### 示例 2:\n",
    "\n",
    "输入: root = [5,3,6,2,4,null,null,1], k = 3\n",
    "\n",
    "```\n",
    "       5\n",
    "      / \\\n",
    "     3   6\n",
    "    / \\\n",
    "   2   4\n",
    "  /\n",
    " 1\n",
    "```\n",
    "\n",
    "输出: 4\n",
    "\n",
    "## 三、解题思路\n",
    "\n",
    "### DFS"
   ]
  },
  {
   "cell_type": "code",
   "execution_count": 1,
   "metadata": {},
   "outputs": [],
   "source": [
    "def kthLargest(root, k: int) -> int:\n",
    "    def dfs(node, arr):\n",
    "        if not node:\n",
    "            return\n",
    "        dfs(node.right, arr)\n",
    "        if len(arr) >= k:\n",
    "            return\n",
    "        arr.append(node.val)\n",
    "        dfs(node.left, arr)\n",
    "    arr = []\n",
    "    dfs(root, arr)\n",
    "    return arr[-1]"
   ]
  },
  {
   "cell_type": "code",
   "execution_count": null,
   "metadata": {},
   "outputs": [],
   "source": []
  }
 ],
 "metadata": {
  "kernelspec": {
   "display_name": "Python 3",
   "language": "python",
   "name": "python3"
  },
  "language_info": {
   "codemirror_mode": {
    "name": "ipython",
    "version": 3
   },
   "file_extension": ".py",
   "mimetype": "text/x-python",
   "name": "python",
   "nbconvert_exporter": "python",
   "pygments_lexer": "ipython3",
   "version": "3.6.5"
  }
 },
 "nbformat": 4,
 "nbformat_minor": 2
}
