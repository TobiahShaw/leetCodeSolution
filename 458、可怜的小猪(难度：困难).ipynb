{
 "cells": [
  {
   "cell_type": "markdown",
   "metadata": {},
   "source": [
    "# 可怜的小猪\n",
    "\n",
    "**题目来源：力扣（LeetCode）**\n",
    "\n",
    "**链接：https://leetcode-cn.com/problems/poor-pigs/**\n",
    "\n",
    "## 一、题目\n",
    "\n",
    "有 buckets 桶液体，其中 正好 有一桶含有毒药，其余装的都是水。它们从外观看起来都一样。为了弄清楚哪只水桶含有毒药，你可以喂一些猪喝，通过观察猪是否会死进行判断。不幸的是，你只有 minutesToTest 分钟时间来确定哪桶液体是有毒的。\n",
    "\n",
    "喂猪的规则如下：\n",
    "\n",
    "- 选择若干活猪进行喂养\n",
    "- 可以允许小猪同时饮用任意数量的桶中的水，并且该过程不需要时间。\n",
    "- 小猪喝完水后，必须有 minutesToDie 分钟的冷却时间。在这段时间里，你只能观察，而不允许继续喂猪。\n",
    "- 过了 minutesToDie 分钟后，所有喝到毒药的猪都会死去，其他所有猪都会活下来。\n",
    "- 重复这一过程，直到时间用完。\n",
    "\n",
    "给你桶的数目 buckets ，minutesToDie 和 minutesToTest ，返回在规定时间内判断哪个桶有毒所需的 最小 猪数。\n",
    "\n",
    "### 提示：\n",
    "\n",
    "- 1 <= buckets <= 1000\n",
    "- 1 <= minutesToDie <= minutesToTest <= 100\n",
    "\n",
    "## 二、示例\n",
    "\n",
    "### 示例 1：\n",
    "\n",
    "输入：buckets = 1000, minutesToDie = 15, minutesToTest = 60\n",
    "\n",
    "输出：5\n",
    "\n",
    "### 示例 2：\n",
    "\n",
    "输入：buckets = 4, minutesToDie = 15, minutesToTest = 15\n",
    "\n",
    "输出：2\n",
    "\n",
    "### 示例 3：\n",
    "\n",
    "输入：buckets = 4, minutesToDie = 15, minutesToTest = 30\n",
    "\n",
    "输出：2\n",
    "\n",
    "## 三、解题思路\n",
    "\n",
    "### 信息论——香农\n",
    "\n",
    "香农已经在《信息论》（信息熵）中给过我们结论了——我们一共可以进行n轮实验（n = minutesToTest / minutesToDie）：\n",
    "\n",
    "- 经过所有实验，一只小猪能有多少种状态？第一轮就死、第二轮死、...、第n轮死，以及生还，所以一共有n + 1种状态\n",
    "- n + 1种状态所携带的信息为log_2(n + 1)比特，这也是一只小猪最多提供的信息量\n",
    "- 而”buckets瓶液体中哪一瓶是毒“这件事，也有buckets种可能性，所以需要的信息量是log_2(buckets)\n",
    "\n",
    "注：以上所有事件、状态都是先验等概的，所以可以直接对2取对数得到信息熵\n",
    "\n",
    "因此一定存在一种“合理设计”的实验，使得我们只要有k只猪猪：满足 k * log_2(n + 1) >= log_2(buckets)时，则我们一定能得到足够的信息量去判断哪一瓶是毒。"
   ]
  },
  {
   "cell_type": "code",
   "execution_count": 1,
   "metadata": {},
   "outputs": [],
   "source": [
    "def poorPigs(buckets: int, minutesToDie: int, minutesToTest: int) -> int:\n",
    "    from math import ceil\n",
    "    from math import log\n",
    "    states = minutesToTest // minutesToDie + 1\n",
    "    return ceil(log(buckets)/ log(states))"
   ]
  },
  {
   "cell_type": "code",
   "execution_count": 2,
   "metadata": {},
   "outputs": [
    {
     "data": {
      "text/plain": [
       "5"
      ]
     },
     "execution_count": 2,
     "metadata": {},
     "output_type": "execute_result"
    }
   ],
   "source": [
    "poorPigs(1000,15,60)"
   ]
  },
  {
   "cell_type": "code",
   "execution_count": 3,
   "metadata": {},
   "outputs": [
    {
     "data": {
      "text/plain": [
       "2"
      ]
     },
     "execution_count": 3,
     "metadata": {},
     "output_type": "execute_result"
    }
   ],
   "source": [
    "poorPigs(4,15,15)"
   ]
  },
  {
   "cell_type": "code",
   "execution_count": 4,
   "metadata": {},
   "outputs": [
    {
     "data": {
      "text/plain": [
       "2"
      ]
     },
     "execution_count": 4,
     "metadata": {},
     "output_type": "execute_result"
    }
   ],
   "source": [
    "poorPigs(4,15,30)"
   ]
  },
  {
   "cell_type": "code",
   "execution_count": null,
   "metadata": {},
   "outputs": [],
   "source": []
  }
 ],
 "metadata": {
  "kernelspec": {
   "display_name": "Python 3",
   "language": "python",
   "name": "python3"
  },
  "language_info": {
   "codemirror_mode": {
    "name": "ipython",
    "version": 3
   },
   "file_extension": ".py",
   "mimetype": "text/x-python",
   "name": "python",
   "nbconvert_exporter": "python",
   "pygments_lexer": "ipython3",
   "version": "3.6.5"
  }
 },
 "nbformat": 4,
 "nbformat_minor": 2
}
