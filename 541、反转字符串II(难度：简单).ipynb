{
 "cells": [
  {
   "cell_type": "markdown",
   "metadata": {},
   "source": [
    "# 反转字符串II\n",
    "\n",
    "**题目来源：力扣（LeetCode）**\n",
    "\n",
    "**链接：https://leetcode-cn.com/problems/reverse-string-ii/**\n",
    "\n",
    "## 一、题目\n",
    "\n",
    "给定一个字符串 s 和一个整数 k，你需要对从字符串开头算起的每隔 2k 个字符的前 k 个字符进行反转。\n",
    "\n",
    "- 如果剩余字符少于 k 个，则将剩余字符全部反转。\n",
    "- 如果剩余字符小于 2k 但大于或等于 k 个，则反转前 k 个字符，其余字符保持原样。\n",
    "\n",
    "## 二、示例\n",
    "\n",
    "输入: s = \"abcdefg\", k = 2\n",
    "\n",
    "输出: \"bacdfeg\"\n",
    "\n",
    "## 三、解题思路\n",
    "\n",
    "### 迭代"
   ]
  },
  {
   "cell_type": "code",
   "execution_count": 1,
   "metadata": {},
   "outputs": [],
   "source": [
    "def reverseStr(s: str, k: int) -> str:\n",
    "    ret = ''\n",
    "    for i in range(0, len(s), 2*k):\n",
    "        tmp = s[i:i+k]\n",
    "        ret += (tmp[::-1] + s[i+k:i+2*k])\n",
    "    return ret"
   ]
  },
  {
   "cell_type": "code",
   "execution_count": 2,
   "metadata": {},
   "outputs": [
    {
     "data": {
      "text/plain": [
       "'bacdfeg'"
      ]
     },
     "execution_count": 2,
     "metadata": {},
     "output_type": "execute_result"
    }
   ],
   "source": [
    "reverseStr(s = \"abcdefg\", k = 2)"
   ]
  },
  {
   "cell_type": "code",
   "execution_count": null,
   "metadata": {},
   "outputs": [],
   "source": []
  }
 ],
 "metadata": {
  "kernelspec": {
   "display_name": "Python 3",
   "language": "python",
   "name": "python3"
  },
  "language_info": {
   "codemirror_mode": {
    "name": "ipython",
    "version": 3
   },
   "file_extension": ".py",
   "mimetype": "text/x-python",
   "name": "python",
   "nbconvert_exporter": "python",
   "pygments_lexer": "ipython3",
   "version": "3.6.5"
  }
 },
 "nbformat": 4,
 "nbformat_minor": 2
}
