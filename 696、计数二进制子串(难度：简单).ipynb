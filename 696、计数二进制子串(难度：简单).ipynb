{
 "cells": [
  {
   "cell_type": "markdown",
   "metadata": {},
   "source": [
    "# 计数二进制子串\n",
    "\n",
    "**题目来源：力扣（LeetCode）**\n",
    "\n",
    "**链接：https://leetcode-cn.com/problems/count-binary-substrings/**\n",
    "\n",
    "## 一、题目\n",
    "\n",
    "给定一个字符串 s，计算具有相同数量0和1的非空(连续)子字符串的数量，并且这些子字符串中的所有0和所有1都是组合在一起的。\n",
    "\n",
    "重复出现的子串要计算它们出现的次数。\n",
    "\n",
    "## 二、示例\n",
    "\n",
    "### 示例 1：\n",
    "\n",
    "输入: \"00110011\"\n",
    "\n",
    "输出: 6\n",
    "\n",
    "解释: 有6个子串具有相同数量的连续1和0：“0011”，“01”，“1100”，“10”，“0011” 和 “01”。\n",
    "\n",
    "请注意，一些重复出现的子串要计算它们出现的次数。\n",
    "\n",
    "另外，“00110011”不是有效的子串，因为所有的0（和1）没有组合在一起。\n",
    "\n",
    "### 示例 2：\n",
    "\n",
    "输入: \"10101\"\n",
    "\n",
    "输出: 4\n",
    "\n",
    "解释: 有4个子串：“10”，“01”，“10”，“01”，它们具有相同数量的连续1和0。\n",
    "\n",
    "## 三、解题思路"
   ]
  },
  {
   "cell_type": "code",
   "execution_count": 1,
   "metadata": {},
   "outputs": [],
   "source": [
    "def countBinarySubstrings(s: str) -> int:\n",
    "    ans, last, j, k = 0, \"\", 0, 0\n",
    "    for i in s:\n",
    "        if last == i:\n",
    "            j += 1\n",
    "        else:\n",
    "            last = i\n",
    "            ans += min(j, k)\n",
    "            k,j = j, 1\n",
    "    return ans + min(j, k)"
   ]
  },
  {
   "cell_type": "code",
   "execution_count": 2,
   "metadata": {},
   "outputs": [
    {
     "data": {
      "text/plain": [
       "6"
      ]
     },
     "execution_count": 2,
     "metadata": {},
     "output_type": "execute_result"
    }
   ],
   "source": [
    "countBinarySubstrings(\"00110011\")"
   ]
  },
  {
   "cell_type": "code",
   "execution_count": 3,
   "metadata": {},
   "outputs": [
    {
     "data": {
      "text/plain": [
       "4"
      ]
     },
     "execution_count": 3,
     "metadata": {},
     "output_type": "execute_result"
    }
   ],
   "source": [
    "countBinarySubstrings(\"10101\")"
   ]
  },
  {
   "cell_type": "code",
   "execution_count": null,
   "metadata": {},
   "outputs": [],
   "source": []
  }
 ],
 "metadata": {
  "kernelspec": {
   "display_name": "Python 3",
   "language": "python",
   "name": "python3"
  },
  "language_info": {
   "codemirror_mode": {
    "name": "ipython",
    "version": 3
   },
   "file_extension": ".py",
   "mimetype": "text/x-python",
   "name": "python",
   "nbconvert_exporter": "python",
   "pygments_lexer": "ipython3",
   "version": "3.6.5"
  }
 },
 "nbformat": 4,
 "nbformat_minor": 2
}
