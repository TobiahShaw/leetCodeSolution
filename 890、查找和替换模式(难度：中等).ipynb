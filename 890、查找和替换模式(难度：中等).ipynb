{
 "cells": [
  {
   "cell_type": "markdown",
   "metadata": {},
   "source": [
    "# 查找和替换模式\n",
    "\n",
    "**题目来源：力扣（LeetCode）**\n",
    "\n",
    "**链接：https://leetcode.cn/problems/find-and-replace-pattern/**\n",
    "\n",
    "## 一、题目\n",
    "\n",
    "你有一个单词列表 words 和一个模式  pattern，你想知道 words 中的哪些单词与模式匹配。\n",
    "\n",
    "如果存在字母的排列 p ，使得将模式中的每个字母 x 替换为 p(x) 之后，我们就得到了所需的单词，那么单词与模式是匹配的。\n",
    "\n",
    "（回想一下，字母的排列是从字母到字母的双射：每个字母映射到另一个字母，没有两个字母映射到同一个字母。）\n",
    "\n",
    "返回 words 中与给定模式匹配的单词列表。\n",
    "\n",
    "你可以按任何顺序返回答案。\n",
    "\n",
    "### 提示：\n",
    "\n",
    "- 1 <= words.length <= 50\n",
    "- 1 <= pattern.length = words[i].length <= 20\n",
    "\n",
    "## 二、示例\n",
    "\n",
    "输入：words = [\"abc\",\"deq\",\"mee\",\"aqq\",\"dkd\",\"ccc\"], pattern = \"abb\"\n",
    "\n",
    "输出：[\"mee\",\"aqq\"]\n",
    "\n",
    "解释：\n",
    "\n",
    "\"mee\" 与模式匹配，因为存在排列 {a -> m, b -> e, ...}。\n",
    "\n",
    "\"ccc\" 与模式不匹配，因为 {a -> c, b -> c, ...} 不是排列。\n",
    "\n",
    "因为 a 和 b 映射到同一个字母。\n",
    "\n",
    "## 三、解题思路\n",
    "\n",
    "### 利用map"
   ]
  },
  {
   "cell_type": "code",
   "execution_count": 1,
   "metadata": {},
   "outputs": [],
   "source": [
    "def findAndReplacePattern(words, pattern: str):\n",
    "    def match(s: str) -> bool:\n",
    "        ab, ba = dict(), dict()\n",
    "        for w, p in zip(s, pattern):\n",
    "            if w in ab or p in ba:\n",
    "                if ab.get(w, p) != p or ba.get(p, w) != w:\n",
    "                    return False\n",
    "            else:\n",
    "                ab[w] = p\n",
    "                ba[p] = w\n",
    "        return True\n",
    "    return [word for word in words if match(word)]"
   ]
  },
  {
   "cell_type": "code",
   "execution_count": 2,
   "metadata": {},
   "outputs": [
    {
     "data": {
      "text/plain": [
       "['mee', 'aqq']"
      ]
     },
     "execution_count": 2,
     "metadata": {},
     "output_type": "execute_result"
    }
   ],
   "source": [
    "findAndReplacePattern(words = [\"abc\",\"deq\",\"mee\",\"aqq\",\"dkd\",\"ccc\"], pattern = \"abb\")"
   ]
  },
  {
   "cell_type": "code",
   "execution_count": null,
   "metadata": {},
   "outputs": [],
   "source": []
  }
 ],
 "metadata": {
  "kernelspec": {
   "display_name": "Python 3",
   "language": "python",
   "name": "python3"
  },
  "language_info": {
   "codemirror_mode": {
    "name": "ipython",
    "version": 3
   },
   "file_extension": ".py",
   "mimetype": "text/x-python",
   "name": "python",
   "nbconvert_exporter": "python",
   "pygments_lexer": "ipython3",
   "version": "3.6.5"
  }
 },
 "nbformat": 4,
 "nbformat_minor": 2
}
