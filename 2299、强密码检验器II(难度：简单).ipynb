{
 "cells": [
  {
   "cell_type": "markdown",
   "id": "c016541c",
   "metadata": {},
   "source": [
    "# 强密码检验器II\n",
    "\n",
    "**题目来源：力扣（LeetCode）**\n",
    "\n",
    "**链接：https://leetcode.cn/problems/strong-password-checker-ii/**\n",
    "\n",
    "## 一、题目\n",
    "\n",
    "如果一个密码满足以下所有条件，我们称它是一个 强 密码：\n",
    "\n",
    "- 它有至少 8 个字符。\n",
    "- 至少包含 一个小写英文 字母。\n",
    "- 至少包含 一个大写英文 字母。\n",
    "- 至少包含 一个数字 。\n",
    "- 至少包含 一个特殊字符 。特殊字符为：\"!@#$\\%^&*()-+\" 中的一个。\n",
    "- 它不包含 2 个连续相同的字符（比方说 \"aab\" 不符合该条件，但是 \"aba\" 符合该条件）。\n",
    "\n",
    "给你一个字符串 password ，如果它是一个 强 密码，返回 true，否则返回 false 。\n",
    "\n",
    "### 提示：\n",
    "\n",
    "- 1 <= password.length <= 100\n",
    "- password 包含字母，数字和 \"!@#$\\%^&\\*()-+\" 这些特殊字符。\n",
    "\n",
    "## 二、示例\n",
    "\n",
    "### 示例 1：\n",
    "\n",
    "输入：password = \"IloveLe3tcode!\"\n",
    "\n",
    "输出：true\n",
    "\n",
    "解释：密码满足所有的要求，所以我们返回 true 。\n",
    "\n",
    "### 示例 2：\n",
    "\n",
    "输入：password = \"Me+You--IsMyDream\"\n",
    "\n",
    "输出：false\n",
    "\n",
    "解释：密码不包含数字，且包含 2 个连续相同的字符。所以我们返回 false 。\n",
    "\n",
    "### 示例 3：\n",
    "\n",
    "输入：password = \"1aB!\"\n",
    "\n",
    "输出：false\n",
    "\n",
    "解释：密码不符合长度要求。所以我们返回 false 。\n",
    "\n",
    "## 三、解题思路\n",
    "\n",
    "### 模拟过程"
   ]
  },
  {
   "cell_type": "code",
   "execution_count": 1,
   "id": "b89cd42b",
   "metadata": {},
   "outputs": [],
   "source": [
    "class Solution:\n",
    "    def strongPasswordCheckerII(self, password: str) -> bool:\n",
    "        if len(password) < 8:\n",
    "            return False\n",
    "        specials = set(\"!@#$%^&*()-+\")\n",
    "        hasLower = hasUpper = hasDigit = hasSpecial = False\n",
    "        for i, ch in enumerate(password):\n",
    "            if i != len(password) - 1 and password[i] == password[i + 1]:\n",
    "                return False\n",
    "            if ch.islower():\n",
    "                hasLower = True\n",
    "            elif ch.isupper():\n",
    "                hasUpper = True\n",
    "            elif ch.isdigit():\n",
    "                hasDigit = True\n",
    "            elif ch in specials:\n",
    "                hasSpecial = True\n",
    "        return hasLower and hasUpper and hasDigit and hasSpecial"
   ]
  },
  {
   "cell_type": "code",
   "execution_count": 2,
   "id": "93665bc1",
   "metadata": {},
   "outputs": [],
   "source": [
    "s = Solution()"
   ]
  },
  {
   "cell_type": "code",
   "execution_count": 3,
   "id": "e771fbce",
   "metadata": {},
   "outputs": [
    {
     "data": {
      "text/plain": [
       "True"
      ]
     },
     "execution_count": 3,
     "metadata": {},
     "output_type": "execute_result"
    }
   ],
   "source": [
    "s.strongPasswordCheckerII(\"IloveLe3tcode!\")"
   ]
  },
  {
   "cell_type": "code",
   "execution_count": 4,
   "id": "f789891d",
   "metadata": {},
   "outputs": [
    {
     "data": {
      "text/plain": [
       "False"
      ]
     },
     "execution_count": 4,
     "metadata": {},
     "output_type": "execute_result"
    }
   ],
   "source": [
    "s.strongPasswordCheckerII(\"Me+You--IsMyDream\")"
   ]
  },
  {
   "cell_type": "code",
   "execution_count": 5,
   "id": "2e41f1f3",
   "metadata": {},
   "outputs": [
    {
     "data": {
      "text/plain": [
       "False"
      ]
     },
     "execution_count": 5,
     "metadata": {},
     "output_type": "execute_result"
    }
   ],
   "source": [
    "s.strongPasswordCheckerII(\"1aB!\")"
   ]
  },
  {
   "cell_type": "code",
   "execution_count": null,
   "id": "c472b0ab",
   "metadata": {},
   "outputs": [],
   "source": []
  }
 ],
 "metadata": {
  "kernelspec": {
   "display_name": "Python 3 (ipykernel)",
   "language": "python",
   "name": "python3"
  },
  "language_info": {
   "codemirror_mode": {
    "name": "ipython",
    "version": 3
   },
   "file_extension": ".py",
   "mimetype": "text/x-python",
   "name": "python",
   "nbconvert_exporter": "python",
   "pygments_lexer": "ipython3",
   "version": "3.11.0"
  }
 },
 "nbformat": 4,
 "nbformat_minor": 5
}
