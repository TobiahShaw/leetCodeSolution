{
  "cells": [
    {
      "metadata": {
        "collapsed": true
      },
      "cell_type": "markdown",
      "source": "# 翻转图像\n\n**题目来源：力扣（LeetCode）**\n\n**链接：https://leetcode-cn.com/problems/flipping-an-image/**\n\n## 一、题目\n\n给定一个二进制矩阵 A，我们想先水平翻转图像，然后反转图像并返回结果。\n\n水平翻转图片就是将图片的每一行都进行翻转，即逆序。例如，水平翻转 [1, 1, 0] 的结果是 [0, 1, 1]。\n\n反转图片的意思是图片中的 0 全部被 1 替换， 1 全部被 0 替换。例如，反转 [0, 1, 1] 的结果是 [1, 0, 0]。\n\n## 二、示例\n\n### 示例 1:\n\n输入: [[1,1,0],[1,0,1],[0,0,0]]\n\n输出: [[1,0,0],[0,1,0],[1,1,1]]\n\n解释: 首先翻转每一行: [[0,1,1],[1,0,1],[0,0,0]]；然后反转图片: [[1,0,0],[0,1,0],[1,1,1]]\n\n### 示例 2:\n\n输入: [[1,1,0,0],[1,0,0,1],[0,1,1,1],[1,0,1,0]]\n\n输出: [[1,1,0,0],[0,1,1,0],[0,0,0,1],[1,0,1,0]]\n\n解释: 首先翻转每一行: [[0,0,1,1],[1,0,0,1],[1,1,1,0],[0,1,0,1]]；然后反转图片: [[1,1,0,0],[0,1,1,0],[0,0,0,1],[1,0,1,0]]"
    },
    {
      "metadata": {
        "trusted": true
      },
      "cell_type": "code",
      "source": "",
      "execution_count": null,
      "outputs": []
    }
  ],
  "metadata": {
    "kernelspec": {
      "name": "python36",
      "display_name": "Python 3.6",
      "language": "python"
    },
    "language_info": {
      "mimetype": "text/x-python",
      "nbconvert_exporter": "python",
      "name": "python",
      "pygments_lexer": "ipython3",
      "version": "3.6.6",
      "file_extension": ".py",
      "codemirror_mode": {
        "version": 3,
        "name": "ipython"
      }
    }
  },
  "nbformat": 4,
  "nbformat_minor": 2
}