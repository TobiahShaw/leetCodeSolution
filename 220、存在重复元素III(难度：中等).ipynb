{
 "cells": [
  {
   "cell_type": "markdown",
   "metadata": {},
   "source": [
    "# 存在重复元素III\n",
    "\n",
    "**题目来源：力扣（LeetCode）**\n",
    "\n",
    "**链接：https://leetcode-cn.com/problems/contains-duplicate-iii/**\n",
    "\n",
    "## 一、题目\n",
    "\n",
    "给你一个整数数组 nums 和两个整数 k 和 t 。请你判断是否存在两个下标 i 和 j，使得 abs(nums[i] - nums[j]) <= t ，同时又满足 abs(i - j) <= k 。\n",
    "\n",
    "如果存在则返回 true，不存在返回 false。\n",
    "\n",
    "## 二、示例\n",
    "\n",
    "### 示例 1：\n",
    "\n",
    "输入：nums = [1,2,3,1], k = 3, t = 0\n",
    "\n",
    "输出：true\n",
    "\n",
    "### 示例 2：\n",
    "\n",
    "输入：nums = [1,0,1,1], k = 1, t = 2\n",
    "\n",
    "输出：true\n",
    "\n",
    "### 示例 3：\n",
    "\n",
    "输入：nums = [1,5,9,1,5,9], k = 2, t = 3\n",
    "\n",
    "输出：false\n",
    "\n",
    "## 三、解题思路\n",
    "\n",
    "### 桶思想"
   ]
  },
  {
   "cell_type": "code",
   "execution_count": 1,
   "metadata": {},
   "outputs": [],
   "source": [
    "def containsNearbyAlmostDuplicate(nums, k: int, t: int) -> bool:\n",
    "    if t < 0 or k < 0:\n",
    "        return False\n",
    "    all_buckets = {}\n",
    "    bucket_size = t + 1                     # 桶的大小设成t+1更加方便\n",
    "    for i in range(len(nums)):\n",
    "        bucket_num = nums[i] // bucket_size # 放入哪个桶\n",
    "        if bucket_num in all_buckets:       # 桶中已经有元素了\n",
    "            return True\n",
    "        all_buckets[bucket_num] = nums[i]   # 把nums[i]放入桶中\n",
    "        if (bucket_num - 1) in all_buckets and abs(all_buckets[bucket_num - 1] - nums[i]) <= t: # 检查前一个桶\n",
    "            return True\n",
    "        if (bucket_num + 1) in all_buckets and abs(all_buckets[bucket_num + 1] - nums[i]) <= t: # 检查后一个桶\n",
    "            return True\n",
    "        # 如果不构成返回条件，那么当i >= k 的时候就要删除旧桶了，以维持桶中的元素索引跟下一个i+1索引只差不超过k\n",
    "        if i >= k:\n",
    "            all_buckets.pop(nums[i-k]//bucket_size)\n",
    "            \n",
    "    return False"
   ]
  },
  {
   "cell_type": "code",
   "execution_count": 2,
   "metadata": {},
   "outputs": [
    {
     "data": {
      "text/plain": [
       "True"
      ]
     },
     "execution_count": 2,
     "metadata": {},
     "output_type": "execute_result"
    }
   ],
   "source": [
    "containsNearbyAlmostDuplicate(nums = [1,2,3,1], k = 3, t = 0)"
   ]
  },
  {
   "cell_type": "code",
   "execution_count": 3,
   "metadata": {},
   "outputs": [
    {
     "data": {
      "text/plain": [
       "True"
      ]
     },
     "execution_count": 3,
     "metadata": {},
     "output_type": "execute_result"
    }
   ],
   "source": [
    "containsNearbyAlmostDuplicate(nums = [1,0,1,1], k = 1, t = 2)"
   ]
  },
  {
   "cell_type": "code",
   "execution_count": 4,
   "metadata": {},
   "outputs": [
    {
     "data": {
      "text/plain": [
       "False"
      ]
     },
     "execution_count": 4,
     "metadata": {},
     "output_type": "execute_result"
    }
   ],
   "source": [
    "containsNearbyAlmostDuplicate(nums = [1,5,9,1,5,9], k = 2, t = 3)"
   ]
  },
  {
   "cell_type": "code",
   "execution_count": null,
   "metadata": {},
   "outputs": [],
   "source": []
  }
 ],
 "metadata": {
  "kernelspec": {
   "display_name": "Python 3",
   "language": "python",
   "name": "python3"
  },
  "language_info": {
   "codemirror_mode": {
    "name": "ipython",
    "version": 3
   },
   "file_extension": ".py",
   "mimetype": "text/x-python",
   "name": "python",
   "nbconvert_exporter": "python",
   "pygments_lexer": "ipython3",
   "version": "3.6.5"
  }
 },
 "nbformat": 4,
 "nbformat_minor": 2
}
