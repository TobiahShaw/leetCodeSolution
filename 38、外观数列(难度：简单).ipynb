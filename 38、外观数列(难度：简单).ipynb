{
  "cells": [
    {
      "metadata": {
        "collapsed": true
      },
      "cell_type": "markdown",
      "source": "# 外观数列\n\n**题目来源：力扣（LeetCode）**\n\n**链接：https://leetcode-cn.com/problems/count-and-say/**\n\n## 一、题目\n\n「外观数列」是一个整数序列，从数字 1 开始，序列中的每一项都是对前一项的描述。前五项如下：\n\n1.     1\n\n2.     11\n\n3.     21\n\n4.     1211\n\n5.     111221\n\n1 被读作  \"one 1\"  (\"一个一\") , 即 11。\n\n11 被读作 \"two 1s\" (\"两个一\"）, 即 21。\n\n21 被读作 \"one 2\",  \"one 1\" （\"一个二\" ,  \"一个一\") , 即 1211。\n\n给定一个正整数 n（1 ≤ n ≤ 30），输出外观数列的第 n 项。\n\n注意：整数序列中的每一项将表示为一个字符串。\n\n## 二、示例\n\n### 示例 1:\n\n输入: 1\n\n输出: \"1\"\n\n解释：这是一个基本样例。\n\n### 示例 2:\n\n输入: 4\n\n输出: \"1211\"\n\n解释：当 n = 3 时，序列是 \"21\"，其中我们有 \"2\" 和 \"1\" 两组，\"2\" 可以读作 \"12\"，也就是出现频次 = 1 而 值 = 2；类似 \"1\" 可以读作 \"11\"。所以答案是 \"12\" 和 \"11\" 组合在一起，也就是 \"1211\"。\n\n## 三、解题思路\n\n### 递归"
    },
    {
      "metadata": {
        "trusted": true
      },
      "cell_type": "code",
      "source": "def countAndSay(n):\n    if n == 1:\n        return \"1\"\n    prev = countAndSay(n - 1)\n    result = \"\"\n    count = 0\n    curr = ''\n    for c in prev:\n        if c == curr:\n            count += 1\n        else:\n            if count != 0:\n                result += str(count)\n                result += curr\n            curr = c\n            count = 1\n    if count != 0:\n        result += str(count)\n        result += curr\n    return result",
      "execution_count": 1,
      "outputs": []
    },
    {
      "metadata": {
        "trusted": true
      },
      "cell_type": "code",
      "source": "countAndSay(1)",
      "execution_count": 2,
      "outputs": [
        {
          "output_type": "execute_result",
          "execution_count": 2,
          "data": {
            "text/plain": "'1'"
          },
          "metadata": {}
        }
      ]
    },
    {
      "metadata": {
        "trusted": true
      },
      "cell_type": "code",
      "source": "countAndSay(5)",
      "execution_count": 3,
      "outputs": [
        {
          "output_type": "execute_result",
          "execution_count": 3,
          "data": {
            "text/plain": "'111221'"
          },
          "metadata": {}
        }
      ]
    },
    {
      "metadata": {
        "trusted": true
      },
      "cell_type": "code",
      "source": "",
      "execution_count": null,
      "outputs": []
    }
  ],
  "metadata": {
    "kernelspec": {
      "name": "python36",
      "display_name": "Python 3.6",
      "language": "python"
    },
    "language_info": {
      "mimetype": "text/x-python",
      "nbconvert_exporter": "python",
      "name": "python",
      "pygments_lexer": "ipython3",
      "version": "3.6.6",
      "file_extension": ".py",
      "codemirror_mode": {
        "version": 3,
        "name": "ipython"
      }
    }
  },
  "nbformat": 4,
  "nbformat_minor": 2
}