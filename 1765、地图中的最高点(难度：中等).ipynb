{
 "cells": [
  {
   "cell_type": "markdown",
   "metadata": {},
   "source": [
    "# 地图中的最高点\n",
    "\n",
    "**题目来源：力扣（LeetCode）**\n",
    "\n",
    "**链接：https://leetcode-cn.com/problems/map-of-highest-peak/**\n",
    "\n",
    "## 一、题目\n",
    "\n",
    "给你一个大小为 m x n 的整数矩阵 isWater ，它代表了一个由 陆地 和 水域 单元格组成的地图。\n",
    "\n",
    "- 如果 isWater[i][j] == 0 ，格子 (i, j) 是一个 陆地 格子。\n",
    "- 如果 isWater[i][j] == 1 ，格子 (i, j) 是一个 水域 格子。\n",
    "\n",
    "你需要按照如下规则给每个单元格安排高度：\n",
    "\n",
    "- 每个格子的高度都必须是非负的。\n",
    "- 如果一个格子是是 水域 ，那么它的高度必须为 0 。\n",
    "- 任意相邻的格子高度差 至多 为 1 。当两个格子在正东、南、西、北方向上相互紧挨着，就称它们为相邻的格子。（也就是说它们有一条公共边）\n",
    "\n",
    "找到一种安排高度的方案，使得矩阵中的最高高度值 最大 。\n",
    "\n",
    "请你返回一个大小为 m x n 的整数矩阵 height ，其中 height[i][j] 是格子 (i, j) 的高度。如果有多种解法，请返回 任意一个 。\n",
    "\n",
    "### 提示：\n",
    "\n",
    "- m == isWater.length\n",
    "- n == isWater[i].length\n",
    "- 1 <= m, n <= 1000\n",
    "- isWater[i][j] 要么是 0 ，要么是 1 。\n",
    "- 至少有 1 个水域格子。\n",
    "\n",
    "## 二、示例\n",
    "\n",
    "### 示例 1：\n",
    "\n",
    "输入：isWater = [[0,1],[0,0]]\n",
    "\n",
    "输出：[[1,0],[2,1]]\n",
    "\n",
    "### 示例 2：\n",
    "\n",
    "输入：isWater = [[0,0,1],[1,0,0],[0,0,0]]\n",
    "\n",
    "输出：[[1,1,0],[0,1,1],[1,2,2]]\n",
    "\n",
    "解释：所有安排方案中，最高可行高度为 2 。任意安排方案中，只要最高高度为 2 且符合上述规则的，都为可行方案。\n",
    "\n",
    "## 三、解题思路\n",
    "\n",
    "### BFS"
   ]
  },
  {
   "cell_type": "code",
   "execution_count": 1,
   "metadata": {},
   "outputs": [],
   "source": [
    "def highestPeak(isWater):\n",
    "    from collections import deque\n",
    "    m, n = len(isWater), len(isWater[0])\n",
    "    ans = [[0] * n for _ in range(m)]\n",
    "    d = deque()\n",
    "    for i in range(m):\n",
    "        for j in range(n):\n",
    "            if isWater[i][j]:\n",
    "                d.append((i, j))\n",
    "            ans[i][j] = 0 if isWater[i][j] else -1\n",
    "\n",
    "    dirs = [(1, 0), (-1, 0), (0, 1), (0, -1)]\n",
    "    h = 1\n",
    "    while d:\n",
    "        size = len(d)\n",
    "        for _ in range(size):\n",
    "            x, y = d.popleft()\n",
    "            for di in dirs:\n",
    "                nx, ny = x + di[0], y + di[1]\n",
    "                if 0 <= nx < m and 0 <= ny < n and ans[nx][ny] == -1:\n",
    "                    ans[nx][ny] = h\n",
    "                    d.append((nx, ny))\n",
    "        h += 1\n",
    "    return ans"
   ]
  },
  {
   "cell_type": "code",
   "execution_count": 2,
   "metadata": {},
   "outputs": [
    {
     "data": {
      "text/plain": [
       "[[1, 0], [2, 1]]"
      ]
     },
     "execution_count": 2,
     "metadata": {},
     "output_type": "execute_result"
    }
   ],
   "source": [
    "highestPeak([[0,1],[0,0]])"
   ]
  },
  {
   "cell_type": "code",
   "execution_count": 3,
   "metadata": {},
   "outputs": [
    {
     "data": {
      "text/plain": [
       "[[1, 1, 0], [0, 1, 1], [1, 2, 2]]"
      ]
     },
     "execution_count": 3,
     "metadata": {},
     "output_type": "execute_result"
    }
   ],
   "source": [
    "highestPeak([[0,0,1],[1,0,0],[0,0,0]])"
   ]
  },
  {
   "cell_type": "code",
   "execution_count": null,
   "metadata": {},
   "outputs": [],
   "source": []
  }
 ],
 "metadata": {
  "kernelspec": {
   "display_name": "Python 3",
   "language": "python",
   "name": "python3"
  },
  "language_info": {
   "codemirror_mode": {
    "name": "ipython",
    "version": 3
   },
   "file_extension": ".py",
   "mimetype": "text/x-python",
   "name": "python",
   "nbconvert_exporter": "python",
   "pygments_lexer": "ipython3",
   "version": "3.6.5"
  }
 },
 "nbformat": 4,
 "nbformat_minor": 2
}
