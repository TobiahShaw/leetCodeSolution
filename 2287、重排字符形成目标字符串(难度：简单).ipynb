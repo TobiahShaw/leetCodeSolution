{
 "cells": [
  {
   "cell_type": "markdown",
   "id": "adaaba53",
   "metadata": {},
   "source": [
    "# 重排字符形成目标字符串\n",
    "\n",
    "**题目来源：力扣（LeetCode）**\n",
    "\n",
    "**链接：https://leetcode.cn/problems/rearrange-characters-to-make-target-string/**\n",
    "\n",
    "## 一、题目\n",
    "\n",
    "给你两个下标从 0 开始的字符串 s 和 target 。你可以从 s 取出一些字符并将其重排，得到若干新的字符串。\n",
    "\n",
    "从 s 中取出字符并重新排列，返回可以形成 target 的 最大 副本数。\n",
    "\n",
    "### 提示：\n",
    "\n",
    "- 1 <= words.length <= 100\n",
    "- 1 <= words[i].length <= 100\n",
    "- words[i] 由小写英文字母组成\n",
    "\n",
    "## 二、示例\n",
    "\n",
    "### 示例 1：\n",
    "\n",
    "输入：s = \"ilovecodingonleetcode\", target = \"code\"\n",
    "\n",
    "输出：2\n",
    "\n",
    "解释：\n",
    "\n",
    "- 对于 \"code\" 的第 1 个副本，选取下标为 4 、5 、6 和 7 的字符。\n",
    "- 对于 \"code\" 的第 2 个副本，选取下标为 17 、18 、19 和 20 的字符。\n",
    "\n",
    "形成的字符串分别是 \"ecod\" 和 \"code\" ，都可以重排为 \"code\" 。可以形成最多 2 个 \"code\" 的副本，所以返回 2 。\n",
    "\n",
    "### 示例 2：\n",
    "\n",
    "输入：s = \"abcba\", target = \"abc\"\n",
    "\n",
    "输出：1\n",
    "\n",
    "解释：\n",
    "\n",
    "- 选取下标为 0 、1 和 2 的字符，可以形成 \"abc\" 的 1 个副本。 \n",
    "\n",
    "可以形成最多 1 个 \"abc\" 的副本，所以返回 1 。注意，尽管下标 3 和 4 分别有额外的 'a' 和 'b' ，但不能重用下标 2 处的 'c' ，所以无法形成 \"abc\" 的第 2 个副本。\n",
    "\n",
    "### 示例 3：\n",
    "\n",
    "输入：s = \"abbaccaddaeea\", target = \"aaaaa\"\n",
    "\n",
    "输出：1\n",
    "\n",
    "解释：\n",
    "\n",
    "- 选取下标为 0 、3 、6 、9 和 12 的字符，可以形成 \"aaaaa\" 的 1 个副本。\n",
    "\n",
    "可以形成最多 1 个 \"aaaaa\" 的副本，所以返回 1 。\n",
    "\n",
    "## 三、解题思路\n",
    "\n",
    "### 利用字典"
   ]
  },
  {
   "cell_type": "code",
   "execution_count": 1,
   "id": "c2078166",
   "metadata": {},
   "outputs": [],
   "source": [
    "class Solution:\n",
    "    def rearrangeCharacters(self, s: str, target: str) -> int:\n",
    "        targetDic = {}\n",
    "        for ch in target:\n",
    "            targetDic[ch] = targetDic.get(ch, 0) + 1\n",
    "        dic = {}\n",
    "        for ch in s:\n",
    "            if ch in targetDic:\n",
    "                dic[ch] = dic.get(ch, 0) + 1\n",
    "        ret = len(s)\n",
    "        for key in targetDic:\n",
    "            ret = min(ret, dic.get(key, 0) // targetDic[key])\n",
    "            if ret == 0:\n",
    "                return 0\n",
    "        return ret"
   ]
  },
  {
   "cell_type": "code",
   "execution_count": 2,
   "id": "4cfdd69b",
   "metadata": {},
   "outputs": [
    {
     "data": {
      "text/plain": [
       "2"
      ]
     },
     "execution_count": 2,
     "metadata": {},
     "output_type": "execute_result"
    }
   ],
   "source": [
    "s = Solution()\n",
    "s.rearrangeCharacters(s = \"ilovecodingonleetcode\", target = \"code\")"
   ]
  },
  {
   "cell_type": "code",
   "execution_count": 3,
   "id": "a56802d3",
   "metadata": {},
   "outputs": [
    {
     "data": {
      "text/plain": [
       "1"
      ]
     },
     "execution_count": 3,
     "metadata": {},
     "output_type": "execute_result"
    }
   ],
   "source": [
    "s.rearrangeCharacters(s = \"abcba\", target = \"abc\")"
   ]
  },
  {
   "cell_type": "code",
   "execution_count": 4,
   "id": "1c166927",
   "metadata": {},
   "outputs": [
    {
     "data": {
      "text/plain": [
       "1"
      ]
     },
     "execution_count": 4,
     "metadata": {},
     "output_type": "execute_result"
    }
   ],
   "source": [
    "s.rearrangeCharacters(s = \"abbaccaddaeea\", target = \"aaaaa\")"
   ]
  },
  {
   "cell_type": "code",
   "execution_count": null,
   "id": "21b98116",
   "metadata": {},
   "outputs": [],
   "source": []
  }
 ],
 "metadata": {
  "kernelspec": {
   "display_name": "Python 3 (ipykernel)",
   "language": "python",
   "name": "python3"
  },
  "language_info": {
   "codemirror_mode": {
    "name": "ipython",
    "version": 3
   },
   "file_extension": ".py",
   "mimetype": "text/x-python",
   "name": "python",
   "nbconvert_exporter": "python",
   "pygments_lexer": "ipython3",
   "version": "3.11.0"
  }
 },
 "nbformat": 4,
 "nbformat_minor": 5
}
