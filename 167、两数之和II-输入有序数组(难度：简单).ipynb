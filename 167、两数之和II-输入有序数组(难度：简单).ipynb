{
 "cells": [
  {
   "cell_type": "markdown",
   "metadata": {},
   "source": [
    "# 两数之和II-输入有序数组\n",
    "\n",
    "**题目来源：力扣（LeetCode）**\n",
    "\n",
    "**链接：https://leetcode-cn.com/problems/two-sum-ii-input-array-is-sorted/**\n",
    "\n",
    "## 一、题目\n",
    "\n",
    "给定一个已按照升序排列 的有序数组，找到两个数使得它们相加之和等于目标数。\n",
    "\n",
    "函数应该返回这两个下标值 index1 和 index2，其中 index1 必须小于 index2。\n",
    "\n",
    "说明:\n",
    "\n",
    "- 返回的下标值（index1 和 index2）不是从零开始的。\n",
    "- 你可以假设每个输入只对应唯一的答案，而且你不可以重复使用相同的元素。\n",
    "\n",
    "## 二、示例\n",
    "\n",
    "输入: numbers = [2, 7, 11, 15], target = 9\n",
    "\n",
    "输出: [1,2]\n",
    "\n",
    "解释: 2 与 7 之和等于目标数 9 。因此 index1 = 1, index2 = 2 。\n",
    "\n",
    "## 三、解题思路\n",
    "\n",
    "### 利用字典的特性"
   ]
  },
  {
   "cell_type": "code",
   "execution_count": 1,
   "metadata": {},
   "outputs": [],
   "source": [
    "def twoSum(numbers, target: int):\n",
    "    nums_dic = {}\n",
    "    for i in range(len(numbers)):\n",
    "        if target - numbers[i] in nums_dic:\n",
    "            return [nums_dic[target - numbers[i]], i + 1]\n",
    "        else:\n",
    "            nums_dic[numbers[i]] = i + 1\n",
    "    return None"
   ]
  },
  {
   "cell_type": "code",
   "execution_count": 2,
   "metadata": {},
   "outputs": [
    {
     "data": {
      "text/plain": [
       "[1, 2]"
      ]
     },
     "execution_count": 2,
     "metadata": {},
     "output_type": "execute_result"
    }
   ],
   "source": [
    "twoSum(numbers = [2, 7, 11, 15], target = 9)"
   ]
  },
  {
   "cell_type": "code",
   "execution_count": null,
   "metadata": {},
   "outputs": [],
   "source": []
  }
 ],
 "metadata": {
  "kernelspec": {
   "display_name": "Python 3",
   "language": "python",
   "name": "python3"
  },
  "language_info": {
   "codemirror_mode": {
    "name": "ipython",
    "version": 3
   },
   "file_extension": ".py",
   "mimetype": "text/x-python",
   "name": "python",
   "nbconvert_exporter": "python",
   "pygments_lexer": "ipython3",
   "version": "3.6.5"
  }
 },
 "nbformat": 4,
 "nbformat_minor": 2
}
