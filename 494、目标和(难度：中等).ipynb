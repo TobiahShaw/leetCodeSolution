{
 "cells": [
  {
   "cell_type": "markdown",
   "metadata": {},
   "source": [
    "# 目标和\n",
    "\n",
    "**题目来源：力扣（LeetCode）**\n",
    "\n",
    "**链接：https://leetcode-cn.com/problems/target-sum/**\n",
    "\n",
    "## 一、题目\n",
    "\n",
    "给你一个整数数组 nums 和一个整数 target 。\n",
    "\n",
    "向数组中的每个整数前添加 '+' 或 '-' ，然后串联起所有整数，可以构造一个 表达式 ：\n",
    "\n",
    "- 例如，nums = [2, 1] ，可以在 2 之前添加 '+' ，在 1 之前添加 '-' ，然后串联起来得到表达式 \"+2-1\" 。\n",
    "\n",
    "返回可以通过上述方法构造的、运算结果等于 target 的不同 表达式 的数目。\n",
    "\n",
    "### 提示：\n",
    "\n",
    "- 1 <= nums.length <= 20\n",
    "- 0 <= nums[i] <= 1000\n",
    "- 0 <= sum(nums[i]) <= 1000\n",
    "- -1000 <= target <= 100\n",
    "\n",
    "## 二、示例\n",
    "\n",
    "### 示例 1：\n",
    "\n",
    "输入：nums = [1,1,1,1,1], target = 3\n",
    "\n",
    "输出：5\n",
    "\n",
    "解释：一共有 5 种方法让最终目标和为 3 。\n",
    "\n",
    "-1 + 1 + 1 + 1 + 1 = 3\n",
    "\n",
    "+1 - 1 + 1 + 1 + 1 = 3\n",
    "\n",
    "+1 + 1 - 1 + 1 + 1 = 3\n",
    "\n",
    "+1 + 1 + 1 - 1 + 1 = 3\n",
    "\n",
    "+1 + 1 + 1 + 1 - 1 = 3\n",
    "\n",
    "### 示例 2：\n",
    "\n",
    "输入：nums = [1], target = 1\n",
    "\n",
    "输出：1\n",
    "\n",
    "## 三、解题思路\n",
    "\n",
    "### 记忆化回溯"
   ]
  },
  {
   "cell_type": "code",
   "execution_count": 1,
   "metadata": {},
   "outputs": [],
   "source": [
    "def findTargetSumWays(nums, S: int) -> int:\n",
    "    from functools import lru_cache\n",
    "    n = len(nums)\n",
    "    @lru_cache(None)\n",
    "    def backtrace(i, soa):\n",
    "        if i == n:\n",
    "            if soa == S:\n",
    "                return 1\n",
    "            return 0\n",
    "        return backtrace(i+1, soa + nums[i]) + backtrace(i+1, soa - nums[i])\n",
    "    return backtrace(0, 0)"
   ]
  },
  {
   "cell_type": "code",
   "execution_count": 2,
   "metadata": {},
   "outputs": [
    {
     "data": {
      "text/plain": [
       "5"
      ]
     },
     "execution_count": 2,
     "metadata": {},
     "output_type": "execute_result"
    }
   ],
   "source": [
    "findTargetSumWays(nums = [1,1,1,1,1], S = 3)"
   ]
  },
  {
   "cell_type": "code",
   "execution_count": 3,
   "metadata": {},
   "outputs": [
    {
     "data": {
      "text/plain": [
       "1"
      ]
     },
     "execution_count": 3,
     "metadata": {},
     "output_type": "execute_result"
    }
   ],
   "source": [
    "findTargetSumWays(nums = [1], S = 1)"
   ]
  },
  {
   "cell_type": "code",
   "execution_count": null,
   "metadata": {},
   "outputs": [],
   "source": []
  }
 ],
 "metadata": {
  "kernelspec": {
   "display_name": "Python 3",
   "language": "python",
   "name": "python3"
  },
  "language_info": {
   "codemirror_mode": {
    "name": "ipython",
    "version": 3
   },
   "file_extension": ".py",
   "mimetype": "text/x-python",
   "name": "python",
   "nbconvert_exporter": "python",
   "pygments_lexer": "ipython3",
   "version": "3.6.5"
  }
 },
 "nbformat": 4,
 "nbformat_minor": 2
}
