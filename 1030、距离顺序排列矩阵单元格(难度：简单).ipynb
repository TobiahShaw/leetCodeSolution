{
 "cells": [
  {
   "cell_type": "markdown",
   "metadata": {},
   "source": [
    "# 距离顺序排列矩阵单元格\n",
    "\n",
    "**题目来源：力扣（LeetCode）**\n",
    "\n",
    "**链接：https://leetcode-cn.com/problems/matrix-cells-in-distance-order/**\n",
    "\n",
    "## 一、题目\n",
    "\n",
    "给定四个整数 rows ,   cols ,  rCenter 和 cCenter 。有一个 rows x cols 的矩阵，你在单元格上的坐标是 (rCenter, cCenter) 。\n",
    "\n",
    "返回矩阵中的所有单元格的坐标，并按与 (rCenter, cCenter) 的 距离 从最小到最大的顺序排。你可以按 任何 满足此条件的顺序返回答案。\n",
    "\n",
    "单元格(r1, c1) 和 (r2, c2) 之间的距离为|r1 - r2| + |c1 - c2|。\n",
    "\n",
    "### 提示：\n",
    "\n",
    "- 1 <= rows, cols <= 100\n",
    "- 0 <= rCenter < rows\n",
    "- 0 <= cCenter < cols\n",
    "\n",
    "## 二、示例\n",
    "\n",
    "### 示例 1：\n",
    "\n",
    "输入：rows = 1, cols = 2, rCenter = 0, cCenter = 0\n",
    "\n",
    "输出：[[0,0],[0,1]]\n",
    "\n",
    "解释：从 (r0, c0) 到其他单元格的距离为：[0,1]\n",
    "\n",
    "### 示例 2：\n",
    "\n",
    "输入：rows = 2, cols = 2, rCenter = 0, cCenter = 1\n",
    "\n",
    "输出：[[0,1],[0,0],[1,1],[1,0]]\n",
    "\n",
    "解释：从 (r0, c0) 到其他单元格的距离为：[0,1,1,2]，[[0,1],[1,1],[0,0],[1,0]] 也会被视作正确答案。\n",
    "\n",
    "### 示例 3：\n",
    "\n",
    "输入：rows = 2, cols = 3, rCenter = 1, cCenter = 2\n",
    "\n",
    "输出：[[1,2],[0,2],[1,1],[0,1],[1,0],[0,0]]\n",
    "\n",
    "解释：从 (r0, c0) 到其他单元格的距离为：[0,1,1,2,2,3]，其他满足题目要求的答案也会被视为正确，例如 [[1,2],[1,1],[0,2],[1,0],[0,1],[0,0]]。\n",
    "\n",
    "## 三、解题思路\n",
    "\n",
    "### 一、直接排序"
   ]
  },
  {
   "cell_type": "code",
   "execution_count": 1,
   "metadata": {},
   "outputs": [],
   "source": [
    "class Solution:\n",
    "    def allCellsDistOrder(self, rows: int, cols: int, rCenter: int, cCenter: int):\n",
    "        ret = []\n",
    "        for i in range(rows):\n",
    "            for j in range(cols):\n",
    "                ret.append([i, j])\n",
    "        return sorted(ret, key=lambda x : abs(rCenter-x[0]) + abs(cCenter-x[1]))"
   ]
  },
  {
   "cell_type": "code",
   "execution_count": 2,
   "metadata": {},
   "outputs": [
    {
     "data": {
      "text/plain": [
       "[[0, 0], [0, 1]]"
      ]
     },
     "execution_count": 2,
     "metadata": {},
     "output_type": "execute_result"
    }
   ],
   "source": [
    "s = Solution()\n",
    "s.allCellsDistOrder(1,2,0,0)"
   ]
  },
  {
   "cell_type": "code",
   "execution_count": 3,
   "metadata": {},
   "outputs": [
    {
     "data": {
      "text/plain": [
       "[[0, 1], [0, 0], [1, 1], [1, 0]]"
      ]
     },
     "execution_count": 3,
     "metadata": {},
     "output_type": "execute_result"
    }
   ],
   "source": [
    "s.allCellsDistOrder(2,2,0,1)"
   ]
  },
  {
   "cell_type": "code",
   "execution_count": 4,
   "metadata": {},
   "outputs": [
    {
     "data": {
      "text/plain": [
       "[[1, 2], [0, 2], [1, 1], [0, 1], [1, 0], [0, 0]]"
      ]
     },
     "execution_count": 4,
     "metadata": {},
     "output_type": "execute_result"
    }
   ],
   "source": [
    "s.allCellsDistOrder(2,3,1,2)"
   ]
  },
  {
   "cell_type": "markdown",
   "metadata": {},
   "source": [
    "### 二、桶排序"
   ]
  },
  {
   "cell_type": "code",
   "execution_count": 5,
   "metadata": {},
   "outputs": [],
   "source": [
    "class Solution:\n",
    "    def allCellsDistOrder(self, rows: int, cols: int, rCenter: int, cCenter: int):\n",
    "        aar = [[] for _ in range(rows+cols)]\n",
    "        for i in range(rows):\n",
    "            for j in range(cols):\n",
    "                aar[abs(rCenter-i) + abs(cCenter-j)].append([i, j])\n",
    "        ret = []\n",
    "        for a in aar:\n",
    "            ret.extend(a)\n",
    "        return ret"
   ]
  },
  {
   "cell_type": "code",
   "execution_count": 6,
   "metadata": {},
   "outputs": [
    {
     "data": {
      "text/plain": [
       "[[0, 0], [0, 1]]"
      ]
     },
     "execution_count": 6,
     "metadata": {},
     "output_type": "execute_result"
    }
   ],
   "source": [
    "s = Solution()\n",
    "s.allCellsDistOrder(1,2,0,0)"
   ]
  },
  {
   "cell_type": "code",
   "execution_count": 7,
   "metadata": {},
   "outputs": [
    {
     "data": {
      "text/plain": [
       "[[0, 1], [0, 0], [1, 1], [1, 0]]"
      ]
     },
     "execution_count": 7,
     "metadata": {},
     "output_type": "execute_result"
    }
   ],
   "source": [
    "s.allCellsDistOrder(2,2,0,1)"
   ]
  },
  {
   "cell_type": "code",
   "execution_count": 8,
   "metadata": {},
   "outputs": [
    {
     "data": {
      "text/plain": [
       "[[1, 2], [0, 2], [1, 1], [0, 1], [1, 0], [0, 0]]"
      ]
     },
     "execution_count": 8,
     "metadata": {},
     "output_type": "execute_result"
    }
   ],
   "source": [
    "s.allCellsDistOrder(2,3,1,2)"
   ]
  },
  {
   "cell_type": "code",
   "execution_count": null,
   "metadata": {},
   "outputs": [],
   "source": []
  }
 ],
 "metadata": {
  "kernelspec": {
   "display_name": "Python 3.10.4 64-bit",
   "language": "python",
   "name": "python3"
  },
  "language_info": {
   "codemirror_mode": {
    "name": "ipython",
    "version": 3
   },
   "file_extension": ".py",
   "mimetype": "text/x-python",
   "name": "python",
   "nbconvert_exporter": "python",
   "pygments_lexer": "ipython3",
   "version": "3.10.4"
  },
  "vscode": {
   "interpreter": {
    "hash": "4f946df053fbf2b937619d3c5458e7af74262f9a954d8797ba0b27400bcafe06"
   }
  }
 },
 "nbformat": 4,
 "nbformat_minor": 2
}
