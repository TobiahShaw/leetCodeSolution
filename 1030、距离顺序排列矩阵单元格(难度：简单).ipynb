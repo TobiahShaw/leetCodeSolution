{
 "cells": [
  {
   "cell_type": "markdown",
   "metadata": {},
   "source": [
    "# 距离顺序排列矩阵单元格\n",
    "\n",
    "**题目来源：力扣（LeetCode）**\n",
    "\n",
    "**链接：https://leetcode-cn.com/problems/matrix-cells-in-distance-order/**\n",
    "\n",
    "## 一、题目\n",
    "\n",
    "给出 R 行 C 列的矩阵，其中的单元格的整数坐标为 (r, c)，满足 0 <= r < R 且 0 <= c < C。\n",
    "\n",
    "另外，我们在该矩阵中给出了一个坐标为 (r0, c0) 的单元格。\n",
    "\n",
    "返回矩阵中的所有单元格的坐标，并按到 (r0, c0) 的距离从最小到最大的顺序排，其中，两单元格(r1, c1) 和 (r2, c2) 之间的距离是曼哈顿距离，|r1 - r2| + |c1 - c2|。（你可以按任何满足此条件的顺序返回答案。）\n",
    "\n",
    "## 二、示例\n",
    "\n",
    "### 示例 1：\n",
    "\n",
    "输入：R = 1, C = 2, r0 = 0, c0 = 0\n",
    "\n",
    "输出：[[0,0],[0,1]]\n",
    "\n",
    "解释：从 (r0, c0) 到其他单元格的距离为：[0,1]\n",
    "\n",
    "### 示例 2：\n",
    "\n",
    "输入：R = 2, C = 2, r0 = 0, c0 = 1\n",
    "\n",
    "输出：[[0,1],[0,0],[1,1],[1,0]]\n",
    "\n",
    "解释：从 (r0, c0) 到其他单元格的距离为：[0,1,1,2]\n",
    "\n",
    "[[0,1],[1,1],[0,0],[1,0]] 也会被视作正确答案。\n",
    "\n",
    "### 示例 3：\n",
    "\n",
    "输入：R = 2, C = 3, r0 = 1, c0 = 2\n",
    "\n",
    "输出：[[1,2],[0,2],[1,1],[0,1],[1,0],[0,0]]\n",
    "\n",
    "解释：从 (r0, c0) 到其他单元格的距离为：[0,1,1,2,2,3]\n",
    "\n",
    "其他满足题目要求的答案也会被视为正确，例如 [[1,2],[1,1],[0,2],[1,0],[0,1],[0,0]]。\n",
    "\n",
    "## 三、解题思路\n",
    "\n",
    "### 一、直接排序"
   ]
  },
  {
   "cell_type": "code",
   "execution_count": 1,
   "metadata": {},
   "outputs": [],
   "source": [
    "def allCellsDistOrder(R: int, C: int, r0: int, c0: int):\n",
    "    ret = []\n",
    "    for i in range(R):\n",
    "        for j in range(C):\n",
    "            ret.append([i, j])\n",
    "    return sorted(ret, key=lambda x : abs(r0-x[0]) + abs(c0-x[1]))"
   ]
  },
  {
   "cell_type": "code",
   "execution_count": 2,
   "metadata": {},
   "outputs": [
    {
     "data": {
      "text/plain": [
       "[[0, 0], [0, 1]]"
      ]
     },
     "execution_count": 2,
     "metadata": {},
     "output_type": "execute_result"
    }
   ],
   "source": [
    "allCellsDistOrder(R = 1, C = 2, r0 = 0, c0 = 0)"
   ]
  },
  {
   "cell_type": "code",
   "execution_count": 3,
   "metadata": {},
   "outputs": [
    {
     "data": {
      "text/plain": [
       "[[0, 1], [0, 0], [1, 1], [1, 0]]"
      ]
     },
     "execution_count": 3,
     "metadata": {},
     "output_type": "execute_result"
    }
   ],
   "source": [
    "allCellsDistOrder(R = 2, C = 2, r0 = 0, c0 = 1)"
   ]
  },
  {
   "cell_type": "code",
   "execution_count": 4,
   "metadata": {},
   "outputs": [
    {
     "data": {
      "text/plain": [
       "[[1, 2], [0, 2], [1, 1], [0, 1], [1, 0], [0, 0]]"
      ]
     },
     "execution_count": 4,
     "metadata": {},
     "output_type": "execute_result"
    }
   ],
   "source": [
    "allCellsDistOrder(R = 2, C = 3, r0 = 1, c0 = 2)"
   ]
  },
  {
   "cell_type": "markdown",
   "metadata": {},
   "source": [
    "### 二、桶排序"
   ]
  },
  {
   "cell_type": "code",
   "execution_count": 5,
   "metadata": {},
   "outputs": [],
   "source": [
    "def allCellsDistOrder(R: int, C: int, r0: int, c0: int):\n",
    "    aar = [[] for _ in range(R+C)]\n",
    "    for i in range(R):\n",
    "        for j in range(C):\n",
    "            aar[abs(r0-i) + abs(c0-j)].append([i, j])\n",
    "    ret = []\n",
    "    for a in aar:\n",
    "        ret.extend(a)\n",
    "    return ret"
   ]
  },
  {
   "cell_type": "code",
   "execution_count": 6,
   "metadata": {},
   "outputs": [
    {
     "data": {
      "text/plain": [
       "[[0, 0], [0, 1]]"
      ]
     },
     "execution_count": 6,
     "metadata": {},
     "output_type": "execute_result"
    }
   ],
   "source": [
    "allCellsDistOrder(R = 1, C = 2, r0 = 0, c0 = 0)"
   ]
  },
  {
   "cell_type": "code",
   "execution_count": 7,
   "metadata": {},
   "outputs": [
    {
     "data": {
      "text/plain": [
       "[[0, 1], [0, 0], [1, 1], [1, 0]]"
      ]
     },
     "execution_count": 7,
     "metadata": {},
     "output_type": "execute_result"
    }
   ],
   "source": [
    "allCellsDistOrder(R = 2, C = 2, r0 = 0, c0 = 1)"
   ]
  },
  {
   "cell_type": "code",
   "execution_count": 8,
   "metadata": {},
   "outputs": [
    {
     "data": {
      "text/plain": [
       "[[1, 2], [0, 2], [1, 1], [0, 1], [1, 0], [0, 0]]"
      ]
     },
     "execution_count": 8,
     "metadata": {},
     "output_type": "execute_result"
    }
   ],
   "source": [
    "allCellsDistOrder(R = 2, C = 3, r0 = 1, c0 = 2)"
   ]
  },
  {
   "cell_type": "code",
   "execution_count": null,
   "metadata": {},
   "outputs": [],
   "source": []
  }
 ],
 "metadata": {
  "kernelspec": {
   "display_name": "Python 3",
   "language": "python",
   "name": "python3"
  },
  "language_info": {
   "codemirror_mode": {
    "name": "ipython",
    "version": 3
   },
   "file_extension": ".py",
   "mimetype": "text/x-python",
   "name": "python",
   "nbconvert_exporter": "python",
   "pygments_lexer": "ipython3",
   "version": "3.6.5"
  }
 },
 "nbformat": 4,
 "nbformat_minor": 2
}
