{
 "cells": [
  {
   "cell_type": "markdown",
   "metadata": {
    "collapsed": true
   },
   "source": [
    "# 有效的括号\n",
    "\n",
    "**题目来源：力扣（LeetCode）**\n",
    "\n",
    "**链接：https://leetcode-cn.com/problems/valid-parentheses/**\n",
    "\n",
    "## 一、题目\n",
    "\n",
    "给定一个只包括 '('，')'，'{'，'}'，'['，']' 的字符串 s ，判断字符串是否有效。\n",
    "\n",
    "有效字符串需满足：\n",
    "\n",
    "左括号必须用相同类型的右括号闭合。\n",
    "\n",
    "左括号必须以正确的顺序闭合。\n",
    "\n",
    "每个右括号都有一个对应的相同类型的左括号。\n",
    "\n",
    "### 提示：\n",
    "\n",
    "- 1 <= s.length <= 10^4\n",
    "- s 仅由括号 '()[]{}' 组成\n",
    "\n",
    "## 二、示例\n",
    "\n",
    "### 示例 1:\n",
    "\n",
    "输入: \"()\"\n",
    "\n",
    "输出: true\n",
    "\n",
    "### 示例 2:\n",
    "\n",
    "输入: \"()[]{}\"\n",
    "\n",
    "输出: true\n",
    "\n",
    "### 示例 3:\n",
    "\n",
    "输入: \"(]\"\n",
    "\n",
    "输出: false\n",
    "\n",
    "## 三、解题思路\n",
    "\n",
    "### 栈"
   ]
  },
  {
   "cell_type": "code",
   "execution_count": 1,
   "metadata": {},
   "outputs": [],
   "source": [
    "class Solution:\n",
    "    def isValid(self, s: str) -> bool:\n",
    "        stack = []\n",
    "        mapping = { ')' : '(', \n",
    "                    '}' : '{',\n",
    "                    ']' : '['}\n",
    "        for i in s:\n",
    "            if i in mapping:\n",
    "                pat = mapping[i]\n",
    "                if not stack:\n",
    "                    return False\n",
    "                if stack[-1] == pat:\n",
    "                    stack.pop()\n",
    "                else:\n",
    "                    stack.append(i)\n",
    "            else:\n",
    "                stack.append(i)\n",
    "        return not stack"
   ]
  },
  {
   "cell_type": "code",
   "execution_count": 2,
   "metadata": {},
   "outputs": [
    {
     "data": {
      "text/plain": [
       "True"
      ]
     },
     "execution_count": 2,
     "metadata": {},
     "output_type": "execute_result"
    }
   ],
   "source": [
    "s = Solution()\n",
    "s.isValid(\"()\")"
   ]
  },
  {
   "cell_type": "code",
   "execution_count": 3,
   "metadata": {},
   "outputs": [
    {
     "data": {
      "text/plain": [
       "True"
      ]
     },
     "execution_count": 3,
     "metadata": {},
     "output_type": "execute_result"
    }
   ],
   "source": [
    "s.isValid(\"()[]{}\")"
   ]
  },
  {
   "cell_type": "code",
   "execution_count": 4,
   "metadata": {},
   "outputs": [
    {
     "data": {
      "text/plain": [
       "False"
      ]
     },
     "execution_count": 4,
     "metadata": {},
     "output_type": "execute_result"
    }
   ],
   "source": [
    "s.isValid(\"(]\")"
   ]
  },
  {
   "cell_type": "code",
   "execution_count": null,
   "metadata": {},
   "outputs": [],
   "source": []
  }
 ],
 "metadata": {
  "kernelspec": {
   "display_name": "Python 3 (ipykernel)",
   "language": "python",
   "name": "python3"
  },
  "language_info": {
   "codemirror_mode": {
    "name": "ipython",
    "version": 3
   },
   "file_extension": ".py",
   "mimetype": "text/x-python",
   "name": "python",
   "nbconvert_exporter": "python",
   "pygments_lexer": "ipython3",
   "version": "3.11.0"
  }
 },
 "nbformat": 4,
 "nbformat_minor": 2
}
