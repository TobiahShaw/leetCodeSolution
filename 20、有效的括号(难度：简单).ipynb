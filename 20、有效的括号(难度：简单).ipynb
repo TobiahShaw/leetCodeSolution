{
  "cells": [
    {
      "metadata": {
        "collapsed": true
      },
      "cell_type": "markdown",
      "source": "# 有效的括号\n\n**题目来源：力扣（LeetCode）**\n\n**链接：https://leetcode-cn.com/problems/valid-parentheses/**\n\n## 一、题目\n\n给定一个只包括 '('，')'，'{'，'}'，'['，']' 的字符串，判断字符串是否有效。\n\n有效字符串需满足：\n\n- 左括号必须用相同类型的右括号闭合。\n\n- 左括号必须以正确的顺序闭合。\n\n- 注意空字符串可被认为是有效字符串。\n\n## 二、示例\n\n### 示例 1:\n\n输入: \"()\"\n\n输出: true\n\n### 示例 2:\n\n输入: \"()[]{}\"\n\n输出: true\n\n### 示例 3:\n\n输入: \"(]\"\n\n输出: false\n\n### 示例 4:\n\n输入: \"([)]\"\n\n输出: false\n\n### 示例 4:\n\n输入: \"{[]}\"\n\n输出: true\n\n## 三、解题思路\n\n### 栈"
    },
    {
      "metadata": {
        "trusted": true
      },
      "cell_type": "code",
      "source": "def isValid(s: str) -> bool:\n    stack = []\n    mapping = { ')' : '(', \n                '}' : '{',\n                ']' : '['}\n    for i in s:\n        if i in mapping:\n            pat = mapping[i]\n            if not stack:\n                return False\n            if stack[-1] == pat:\n                stack.pop()\n            else:\n                stack.append(i)\n        else:\n            stack.append(i)\n    return not stack",
      "execution_count": 1,
      "outputs": []
    },
    {
      "metadata": {
        "trusted": true
      },
      "cell_type": "code",
      "source": "isValid(\"()\")",
      "execution_count": 2,
      "outputs": [
        {
          "output_type": "execute_result",
          "execution_count": 2,
          "data": {
            "text/plain": "True"
          },
          "metadata": {}
        }
      ]
    },
    {
      "metadata": {
        "trusted": true
      },
      "cell_type": "code",
      "source": "isValid(\"()[]{}\")",
      "execution_count": 3,
      "outputs": [
        {
          "output_type": "execute_result",
          "execution_count": 3,
          "data": {
            "text/plain": "True"
          },
          "metadata": {}
        }
      ]
    },
    {
      "metadata": {
        "trusted": true
      },
      "cell_type": "code",
      "source": "isValid(\"(]\")",
      "execution_count": 4,
      "outputs": [
        {
          "output_type": "execute_result",
          "execution_count": 4,
          "data": {
            "text/plain": "False"
          },
          "metadata": {}
        }
      ]
    },
    {
      "metadata": {
        "trusted": true
      },
      "cell_type": "code",
      "source": "isValid(\"([)]\")",
      "execution_count": 5,
      "outputs": [
        {
          "output_type": "execute_result",
          "execution_count": 5,
          "data": {
            "text/plain": "False"
          },
          "metadata": {}
        }
      ]
    },
    {
      "metadata": {
        "trusted": true
      },
      "cell_type": "code",
      "source": "isValid(\"{[]}\")",
      "execution_count": 6,
      "outputs": [
        {
          "output_type": "execute_result",
          "execution_count": 6,
          "data": {
            "text/plain": "True"
          },
          "metadata": {}
        }
      ]
    },
    {
      "metadata": {
        "trusted": true
      },
      "cell_type": "code",
      "source": "isValid(\"\")",
      "execution_count": 7,
      "outputs": [
        {
          "output_type": "execute_result",
          "execution_count": 7,
          "data": {
            "text/plain": "True"
          },
          "metadata": {}
        }
      ]
    },
    {
      "metadata": {
        "trusted": true
      },
      "cell_type": "code",
      "source": "",
      "execution_count": null,
      "outputs": []
    }
  ],
  "metadata": {
    "kernelspec": {
      "name": "python36",
      "display_name": "Python 3.6",
      "language": "python"
    },
    "language_info": {
      "mimetype": "text/x-python",
      "nbconvert_exporter": "python",
      "name": "python",
      "pygments_lexer": "ipython3",
      "version": "3.6.6",
      "file_extension": ".py",
      "codemirror_mode": {
        "version": 3,
        "name": "ipython"
      }
    }
  },
  "nbformat": 4,
  "nbformat_minor": 2
}