{
  "cells": [
    {
      "metadata": {
        "collapsed": true
      },
      "cell_type": "markdown",
      "source": "# 二进制求和\n\n**题目来源：力扣（LeetCode）**\n\n**链接：https://leetcode-cn.com/problems/add-binary/**\n\n## 一、题目\n\n给定两个二进制字符串，返回他们的和（用二进制表示）。\n\n输入为非空字符串且只包含数字 1 和 0。\n\n## 二、示例\n\n### 示例 1:\n\n输入: a = \"11\", b = \"1\"\n\n输出: \"100\"\n\n### 示例 2:\n\n输入: a = \"1010\", b = \"1011\"\n\n输出: \"10101\"\n\n## 三、解题思路\n\n### 模拟\n\n先补位，后模拟加法"
    },
    {
      "metadata": {
        "trusted": true
      },
      "cell_type": "code",
      "source": "def addBinary(a: str, b: str):\n    lenA, lenB = len(a), len(b)\n    length = max(lenA, lenB)\n    if lenA > lenB:\n        b = \"0\" * (lenA - lenB) + b\n    elif lenA < lenB:\n        a = \"0\" * (lenB - lenA) + a\n    add = False\n    res = \"\"\n    for i in range(length - 1, -1, -1):\n        if a[i] == b[i] == \"0\":\n            res = (\"1\" if add else \"0\") + res\n            add = False\n        elif a[i] == b[i] == \"1\":\n            res = (\"1\" if add else \"0\") + res\n            add = True\n        else:\n            res = (\"0\" if add else \"1\") + res\n    return \"1\" + res if add else res",
      "execution_count": 1,
      "outputs": []
    },
    {
      "metadata": {
        "trusted": true
      },
      "cell_type": "code",
      "source": "addBinary(a = \"11\", b = \"1\")",
      "execution_count": 2,
      "outputs": [
        {
          "output_type": "execute_result",
          "execution_count": 2,
          "data": {
            "text/plain": "'100'"
          },
          "metadata": {}
        }
      ]
    },
    {
      "metadata": {
        "trusted": true
      },
      "cell_type": "code",
      "source": "addBinary(a = \"1010\", b = \"1011\")",
      "execution_count": 3,
      "outputs": [
        {
          "output_type": "execute_result",
          "execution_count": 3,
          "data": {
            "text/plain": "'10101'"
          },
          "metadata": {}
        }
      ]
    },
    {
      "metadata": {
        "trusted": true
      },
      "cell_type": "code",
      "source": "",
      "execution_count": null,
      "outputs": []
    }
  ],
  "metadata": {
    "kernelspec": {
      "name": "python36",
      "display_name": "Python 3.6",
      "language": "python"
    },
    "language_info": {
      "mimetype": "text/x-python",
      "nbconvert_exporter": "python",
      "name": "python",
      "pygments_lexer": "ipython3",
      "version": "3.6.6",
      "file_extension": ".py",
      "codemirror_mode": {
        "version": 3,
        "name": "ipython"
      }
    }
  },
  "nbformat": 4,
  "nbformat_minor": 2
}