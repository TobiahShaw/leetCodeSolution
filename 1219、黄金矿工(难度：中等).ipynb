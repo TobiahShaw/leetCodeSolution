{
 "cells": [
  {
   "cell_type": "markdown",
   "metadata": {},
   "source": [
    "# 黄金矿工\n",
    "\n",
    "**题目来源：力扣（LeetCode）**\n",
    "\n",
    "**链接：https://leetcode-cn.com/problems/path-with-maximum-gold/**\n",
    "\n",
    "## 一、题目\n",
    "\n",
    "你要开发一座金矿，地质勘测学家已经探明了这座金矿中的资源分布，并用大小为 m * n 的网格 grid 进行了标注。每个单元格中的整数就表示这一单元格中的黄金数量；如果该单元格是空的，那么就是 0。\n",
    "\n",
    "为了使收益最大化，矿工需要按以下规则来开采黄金：\n",
    "\n",
    "- 每当矿工进入一个单元，就会收集该单元格中的所有黄金。\n",
    "- 矿工每次可以从当前位置向上下左右四个方向走。\n",
    "- 每个单元格只能被开采（进入）一次。\n",
    "- 不得开采（进入）黄金数目为 0 的单元格。\n",
    "- 矿工可以从网格中 任意一个 有黄金的单元格出发或者是停止。\n",
    "\n",
    "### 提示：\n",
    "\n",
    "- 1 <= grid.length, grid[i].length <= 15\n",
    "- 0 <= grid[i][j] <= 100\n",
    "- 最多 25 个单元格中有黄金。\n",
    "\n",
    "## 二、示例\n",
    "\n",
    "### 示例 1：\n",
    "\n",
    "输入：grid = [[0,6,0],[5,8,7],[0,9,0]]\n",
    "\n",
    "输出：24\n",
    "\n",
    "解释：\n",
    "\n",
    "```\n",
    "[[0,6,0],\n",
    " [5,8,7],\n",
    " [0,9,0]]\n",
    "```\n",
    "\n",
    "一种收集最多黄金的路线是：9 -> 8 -> 7。\n",
    "\n",
    "### 示例 2：\n",
    "\n",
    "输入：grid = [[1,0,7],[2,0,6],[3,4,5],[0,3,0],[9,0,20]]\n",
    "\n",
    "输出：28\n",
    "\n",
    "解释：\n",
    "\n",
    "```\n",
    "[[1,0,7],\n",
    " [2,0,6],\n",
    " [3,4,5],\n",
    " [0,3,0],\n",
    " [9,0,20]]\n",
    "```\n",
    "\n",
    "一种收集最多黄金的路线是：1 -> 2 -> 3 -> 4 -> 5 -> 6 -> 7。\n",
    "\n",
    "## 三、解题思路\n",
    "\n",
    "### 深度优先搜索"
   ]
  },
  {
   "cell_type": "code",
   "execution_count": 1,
   "metadata": {},
   "outputs": [],
   "source": [
    "def getMaximumGold(grid) -> int:\n",
    "    dx = [0, 0, 1, -1]\n",
    "    dy = [1, -1, 0, 0]\n",
    "    m, n = len(grid), len(grid[0])\n",
    "    def dfs(x, y, visited):\n",
    "        if (x, y) in visited:\n",
    "            return 0\n",
    "        visited.add((x, y))\n",
    "        cur = grid[x][y]\n",
    "        if cur == 0:\n",
    "            return 0\n",
    "        tmp = 0\n",
    "        for i in range(4):\n",
    "            new_x = x + dx[i]\n",
    "            new_y = y + dy[i]\n",
    "            if 0 <= new_x < m and 0 <= new_y < n:\n",
    "                new_g = dfs(new_x, new_y, visited)\n",
    "                if new_g > tmp:\n",
    "                    tmp = new_g\n",
    "        visited.remove((x, y))\n",
    "        return cur + tmp\n",
    "    visited = set()\n",
    "    ret = 0\n",
    "    for x in range(m):\n",
    "        for y in range(n):\n",
    "            tmp = dfs(x, y, visited)\n",
    "            if tmp > ret:\n",
    "                ret = tmp\n",
    "    return ret"
   ]
  },
  {
   "cell_type": "code",
   "execution_count": 2,
   "metadata": {},
   "outputs": [
    {
     "data": {
      "text/plain": [
       "24"
      ]
     },
     "execution_count": 2,
     "metadata": {},
     "output_type": "execute_result"
    }
   ],
   "source": [
    "getMaximumGold([[0,6,0],[5,8,7],[0,9,0]])"
   ]
  },
  {
   "cell_type": "code",
   "execution_count": 3,
   "metadata": {},
   "outputs": [
    {
     "data": {
      "text/plain": [
       "28"
      ]
     },
     "execution_count": 3,
     "metadata": {},
     "output_type": "execute_result"
    }
   ],
   "source": [
    "getMaximumGold([[1,0,7],[2,0,6],[3,4,5],[0,3,0],[9,0,20]])"
   ]
  },
  {
   "cell_type": "code",
   "execution_count": null,
   "metadata": {},
   "outputs": [],
   "source": []
  }
 ],
 "metadata": {
  "kernelspec": {
   "display_name": "Python 3",
   "language": "python",
   "name": "python3"
  },
  "language_info": {
   "codemirror_mode": {
    "name": "ipython",
    "version": 3
   },
   "file_extension": ".py",
   "mimetype": "text/x-python",
   "name": "python",
   "nbconvert_exporter": "python",
   "pygments_lexer": "ipython3",
   "version": "3.6.5"
  }
 },
 "nbformat": 4,
 "nbformat_minor": 2
}
