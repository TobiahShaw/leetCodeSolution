{
 "cells": [
  {
   "cell_type": "markdown",
   "metadata": {},
   "source": [
    "# 两个回文子序列长度的最大乘积\n",
    "\n",
    "**题目来源：力扣（LeetCode）**\n",
    "\n",
    "**链接：https://leetcode-cn.com/problems/maximum-product-of-the-length-of-two-palindromic-subsequences/**\n",
    "\n",
    "## 一、题目\n",
    "\n",
    "给你一个字符串 s ，请你找到 s 中两个 不相交回文子序列 ，使得它们长度的 乘积最大 。两个子序列在原字符串中如果没有任何相同下标的字符，则它们是 不相交 的。\n",
    "\n",
    "请你返回两个回文子序列长度可以达到的 最大乘积 。\n",
    "\n",
    "子序列 指的是从原字符串中删除若干个字符（可以一个也不删除）后，剩余字符不改变顺序而得到的结果。如果一个字符串从前往后读和从后往前读一模一样，那么这个字符串是一个 回文字符串 。\n",
    "\n",
    "### 提示：\n",
    "\n",
    "- 2 <= s.length <= 12\n",
    "- s 只含有小写英文字母。\n",
    "\n",
    "## 二、示例\n",
    "\n",
    "### 示例 1：\n",
    "\n",
    "输入：s = \"leetcodecom\"\n",
    "\n",
    "输出：9\n",
    "\n",
    "解释：最优方案是选择 \"ete\" 作为第一个子序列，\"cdc\" 作为第二个子序列。它们的乘积为 3 * 3 = 9 。\n",
    "\n",
    "### 示例 2：\n",
    "\n",
    "输入：s = \"bb\"\n",
    "\n",
    "输出：1\n",
    "\n",
    "解释：最优方案为选择 \"b\" （第一个字符）作为第一个子序列，\"b\" （第二个字符）作为第二个子序列。它们的乘积为 1 * 1 = 1 。\n",
    "\n",
    "### 示例 3：\n",
    "\n",
    "输入：s = \"accbcaxxcxx\"\n",
    "\n",
    "输出：25\n",
    "\n",
    "解释：最优方案为选择 \"accca\" 作为第一个子序列，\"xxcxx\" 作为第二个子序列。它们的乘积为 5 * 5 = 25 。\n",
    "\n",
    "## 三、解题思路\n",
    "\n",
    "### dfs"
   ]
  },
  {
   "cell_type": "code",
   "execution_count": 1,
   "metadata": {},
   "outputs": [],
   "source": [
    "def maxProduct(s: str) -> int:\n",
    "    n = len(s)\n",
    "    def dfs(pos, item, itemIndex, result):\n",
    "        if pos >= n:\n",
    "            if item == item[::-1]:\n",
    "                result.append(itemIndex.copy())\n",
    "            return\n",
    "        item.append(s[pos])\n",
    "        itemIndex.add(pos)\n",
    "        dfs(pos + 1, item, itemIndex, result)\n",
    "        item.pop()\n",
    "        itemIndex.remove(pos)\n",
    "        dfs(pos + 1, item, itemIndex, result)\n",
    "    result = []\n",
    "    dfs(0, [], set(), result)\n",
    "    result.sort(key=lambda x : len(x), reverse=True)\n",
    "    count = len(result)\n",
    "    ret = 0\n",
    "    for i in range(count):\n",
    "        for j in range(i+1, count):\n",
    "            if result[i] & result[j]:\n",
    "                continue\n",
    "            ret = max(ret, len(result[i]) * len(result[j]))\n",
    "    return ret"
   ]
  },
  {
   "cell_type": "code",
   "execution_count": 2,
   "metadata": {},
   "outputs": [
    {
     "data": {
      "text/plain": [
       "9"
      ]
     },
     "execution_count": 2,
     "metadata": {},
     "output_type": "execute_result"
    }
   ],
   "source": [
    "maxProduct(\"leetcodecom\")"
   ]
  },
  {
   "cell_type": "code",
   "execution_count": 3,
   "metadata": {},
   "outputs": [
    {
     "data": {
      "text/plain": [
       "1"
      ]
     },
     "execution_count": 3,
     "metadata": {},
     "output_type": "execute_result"
    }
   ],
   "source": [
    "maxProduct(\"bb\")"
   ]
  },
  {
   "cell_type": "code",
   "execution_count": 4,
   "metadata": {},
   "outputs": [
    {
     "data": {
      "text/plain": [
       "25"
      ]
     },
     "execution_count": 4,
     "metadata": {},
     "output_type": "execute_result"
    }
   ],
   "source": [
    "maxProduct(\"accbcaxxcxx\")"
   ]
  },
  {
   "cell_type": "code",
   "execution_count": null,
   "metadata": {},
   "outputs": [],
   "source": []
  }
 ],
 "metadata": {
  "kernelspec": {
   "display_name": "Python 3",
   "language": "python",
   "name": "python3"
  },
  "language_info": {
   "codemirror_mode": {
    "name": "ipython",
    "version": 3
   },
   "file_extension": ".py",
   "mimetype": "text/x-python",
   "name": "python",
   "nbconvert_exporter": "python",
   "pygments_lexer": "ipython3",
   "version": "3.6.5"
  }
 },
 "nbformat": 4,
 "nbformat_minor": 2
}
