{
  "cells": [
    {
      "metadata": {
        "collapsed": true
      },
      "cell_type": "markdown",
      "source": "# 基本计算器\n\n**题目来源：力扣（LeetCode）**\n\n**链接：https://leetcode-cn.com/problems/basic-calculator/**\n\n## 一、题目\n\n实现一个基本的计算器来计算一个简单的字符串表达式的值。\n\n字符串表达式可以包含左括号(，右括号)，加号+，减号-，非负整数和空格。\n\n## 二、示例\n\n### 示例 1:\n\n输入: \"1 + 1\"\n\n输出: 2\n\n### 示例 2:\n\n输入: \" 2-1 + 2 \"\n\n输出: 3\n\n### 示例 3:\n\n输入: \"(1+(4+5+2)-3)+(6+8)\"\n\n输出: 23\n\n## 三、解题思路\n\n### 利用栈\n\n- 将输入整理为列表\n- 实例化数字栈和操作栈与计算标记\n- 迭代输入，遇到数字进数字栈、遇到+和-入操作栈且计算标记置为True，遇到(则将计算标记置为False，遇到)将计算标记置为True。最后当计算标记为True且当前输入不为+、-时，进行计算\n- 计算函数中如果栈位数不够则不进行计算"
    },
    {
      "metadata": {
        "trusted": true
      },
      "cell_type": "code",
      "source": "class Solution:\n    def calculate(self, s: str) -> int:\n        def compute(num_stack, op_stack):\n            if len(num_stack) < 2:\n                return None\n            num1 = num_stack.pop()\n            num2 = num_stack.pop()\n            op = op_stack.pop()\n            return num1 + num2 if op == '+' else num2 - num1\n        def handleStr(s):\n            res = []\n            num = ''\n            for i in s:\n                if i.isdigit():\n                    num = num + i\n                if i == '+' or i == '-' or i == '(' or i == ')':\n                    if num:\n                        res.append(num)\n                        num = ''\n                    res.append(i)\n                if i == ' ' and num:\n                    res.append(num)\n                    num = ''\n            if num:\n                res.append(num)\n                num = ''\n            return res\n        stack = handleStr(s)\n        num_stack = []\n        op_stack = []\n        comp_flag = False\n        for i in stack:\n            if i.isdigit():\n                num_stack.append(int(i))\n            if i == '+' or i == '-':\n                comp_flag = True\n                op_stack.append(i)\n            if i == '(':\n                comp_flag = False\n            if i == ')':\n                comp_flag = True\n            if comp_flag and i != '+' and i != '-':\n                res = compute(num_stack, op_stack)\n                if res is not None:\n                    num_stack.append(res)\n        return num_stack.pop()",
      "execution_count": 1,
      "outputs": []
    },
    {
      "metadata": {
        "trusted": true
      },
      "cell_type": "code",
      "source": "so = Solution()",
      "execution_count": 2,
      "outputs": []
    },
    {
      "metadata": {
        "trusted": true
      },
      "cell_type": "code",
      "source": "so.calculate(\"1 + 1\")",
      "execution_count": 3,
      "outputs": [
        {
          "output_type": "execute_result",
          "execution_count": 3,
          "data": {
            "text/plain": "2"
          },
          "metadata": {}
        }
      ]
    },
    {
      "metadata": {
        "trusted": true
      },
      "cell_type": "code",
      "source": "so.calculate(\" 2-1 + 2 \")",
      "execution_count": 4,
      "outputs": [
        {
          "output_type": "execute_result",
          "execution_count": 4,
          "data": {
            "text/plain": "3"
          },
          "metadata": {}
        }
      ]
    },
    {
      "metadata": {
        "trusted": true
      },
      "cell_type": "code",
      "source": "so.calculate(\"(1+(4+5+2)-3)+(6+8)\")",
      "execution_count": 5,
      "outputs": [
        {
          "output_type": "execute_result",
          "execution_count": 5,
          "data": {
            "text/plain": "23"
          },
          "metadata": {}
        }
      ]
    },
    {
      "metadata": {
        "trusted": true
      },
      "cell_type": "code",
      "source": "",
      "execution_count": null,
      "outputs": []
    }
  ],
  "metadata": {
    "kernelspec": {
      "name": "python36",
      "display_name": "Python 3.6",
      "language": "python"
    },
    "language_info": {
      "mimetype": "text/x-python",
      "nbconvert_exporter": "python",
      "name": "python",
      "pygments_lexer": "ipython3",
      "version": "3.6.6",
      "file_extension": ".py",
      "codemirror_mode": {
        "version": 3,
        "name": "ipython"
      }
    }
  },
  "nbformat": 4,
  "nbformat_minor": 2
}