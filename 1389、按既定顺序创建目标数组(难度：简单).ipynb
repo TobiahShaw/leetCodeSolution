{
  "cells": [
    {
      "metadata": {
        "collapsed": true
      },
      "cell_type": "markdown",
      "source": "# 按既定顺序创建目标数组\n\n\n**题目来源：力扣（LeetCode）**\n\n**链接：https://leetcode-cn.com/problems/create-target-array-in-the-given-order/**\n\n## 一、题目\n\n给你两个整数数组 nums 和 index。你需要按照以下规则创建目标数组：\n\n- 目标数组 target 最初为空。\n- 按从左到右的顺序依次读取 nums[i] 和 index[i]，在 target 数组中的下标 index[i] 处插入值 nums[i] 。\n- 重复上一步，直到在 nums 和 index 中都没有要读取的元素。\n- 请你返回目标数组。\n\n题目保证数字插入位置总是存在。\n\n## 二、示例\n\n### 示例 1：\n\n输入：nums = [0,1,2,3,4], index = [0,1,2,2,1]\n\n输出：[0,4,1,3,2]\n\n解释：\n\n| nums | index | target |\n|  --  | ----  | ------ |\n|0 | 0 | [0] |\n|1 | 1 | [0,1] |\n|2 | 2 | [0,1,2] |\n|3 | 2 | [0,1,3,2] |\n|4 | 1 | [0,4,1,3,2] |\n\n### 示例 2：\n\n输入：nums = [1,2,3,4,0], index = [0,1,2,3,0]\n\n输出：[0,1,2,3,4]\n\n解释：\n\n| nums | index | target |\n|  --  | ----  | ------ |\n| 1 | 0 | [1] |\n| 2 | 1 | [1,2] |\n| 3 | 2 | [1,2,3] |\n| 4 | 3 | [1,2,3,4] |\n| 0 | 0 | [0,1,2,3,4] |\n\n### 示例 3：\n\n输入：nums = [1], index = [0]\n\n输出：[1]\n\n## 三、解题思路"
    },
    {
      "metadata": {
        "trusted": true
      },
      "cell_type": "code",
      "source": "",
      "execution_count": null,
      "outputs": []
    }
  ],
  "metadata": {
    "kernelspec": {
      "name": "python36",
      "display_name": "Python 3.6",
      "language": "python"
    },
    "language_info": {
      "mimetype": "text/x-python",
      "nbconvert_exporter": "python",
      "name": "python",
      "pygments_lexer": "ipython3",
      "version": "3.6.6",
      "file_extension": ".py",
      "codemirror_mode": {
        "version": 3,
        "name": "ipython"
      }
    }
  },
  "nbformat": 4,
  "nbformat_minor": 2
}