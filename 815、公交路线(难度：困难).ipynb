{
 "cells": [
  {
   "cell_type": "markdown",
   "metadata": {},
   "source": [
    "# 公交路线\n",
    "\n",
    "**题目来源：力扣（LeetCode）**\n",
    "\n",
    "**链接：https://leetcode-cn.com/problems/bus-routes/**\n",
    "\n",
    "## 一、题目\n",
    "\n",
    "给你一个数组 routes ，表示一系列公交线路，其中每个 routes[i] 表示一条公交线路，第 i 辆公交车将会在上面循环行驶。\n",
    "\n",
    "例如，路线 routes[0] = [1, 5, 7] 表示第 0 辆公交车会一直按序列 1 -> 5 -> 7 -> 1 -> 5 -> 7 -> 1 -> ... 这样的车站路线行驶。\n",
    "现在从 source 车站出发（初始时不在公交车上），要前往 target 车站。 期间仅可乘坐公交车。\n",
    "\n",
    "求出 **最少乘坐的公交车数量** 。如果不可能到达终点车站，返回 -1 。\n",
    "\n",
    "### 提示：\n",
    "\n",
    "- 1 <= routes.length <= 500.\n",
    "- 1 <= routes[i].length <= 10^5\n",
    "- routes[i] 中的所有值 互不相同\n",
    "- sum(routes[i].length) <= 10^5\n",
    "- 0 <= routes[i][j] < 10^6\n",
    "- 0 <= source, target < 10^6\n",
    "\n",
    "## 二、示例\n",
    "\n",
    "### 示例 1：\n",
    "\n",
    "输入：routes = [[1,2,7],[3,6,7]], source = 1, target = 6\n",
    "\n",
    "输出：2\n",
    "\n",
    "解释：最优策略是先乘坐第一辆公交车到达车站 7 , 然后换乘第二辆公交车到车站 6 。 \n",
    "\n",
    "### 示例 2：\n",
    "\n",
    "输入：routes = [[7,12],[4,5,15],[6],[15,19],[9,12,13]], source = 15, target = 12\n",
    "\n",
    "输出：-1\n",
    "\n",
    "## 三、解题思路\n",
    "\n",
    "### 广度优先搜索"
   ]
  },
  {
   "cell_type": "code",
   "execution_count": 1,
   "metadata": {},
   "outputs": [],
   "source": [
    "def numBusesToDestination(routes, source: int, target: int) -> int:\n",
    "    if source == target:\n",
    "        return 0\n",
    "    # num of buses\n",
    "    N = len(routes)\n",
    "    # stop -> {buses}\n",
    "    m = {}\n",
    "    for i in range(N):\n",
    "        for stop in routes[i]:\n",
    "            if stop in m:\n",
    "                m[stop].append(i)\n",
    "            else:\n",
    "                m[stop] = [i]\n",
    "    visited = [False for _ in range(N)]\n",
    "    queue = []\n",
    "    queue.append(source)\n",
    "    ret = 0\n",
    "    while queue:\n",
    "        size = len(queue)\n",
    "        ret += 1\n",
    "        while size:\n",
    "            size -= 1\n",
    "            cur = queue[0]\n",
    "            del queue[0]\n",
    "            for bus in m[cur]:\n",
    "                if visited[bus]:\n",
    "                    continue\n",
    "                visited[bus] = True\n",
    "                for stop in routes[bus]:\n",
    "                    if stop == target:\n",
    "                        return ret\n",
    "                    queue.append(stop)\n",
    "    return -1"
   ]
  },
  {
   "cell_type": "code",
   "execution_count": 2,
   "metadata": {},
   "outputs": [
    {
     "data": {
      "text/plain": [
       "2"
      ]
     },
     "execution_count": 2,
     "metadata": {},
     "output_type": "execute_result"
    }
   ],
   "source": [
    "numBusesToDestination(routes = [[1,2,7],[3,6,7]], source = 1, target = 6)"
   ]
  },
  {
   "cell_type": "code",
   "execution_count": 3,
   "metadata": {},
   "outputs": [
    {
     "data": {
      "text/plain": [
       "-1"
      ]
     },
     "execution_count": 3,
     "metadata": {},
     "output_type": "execute_result"
    }
   ],
   "source": [
    "numBusesToDestination(routes = [[7,12],[4,5,15],[6],[15,19],[9,12,13]], source = 15, target = 12)"
   ]
  },
  {
   "cell_type": "code",
   "execution_count": null,
   "metadata": {},
   "outputs": [],
   "source": []
  }
 ],
 "metadata": {
  "kernelspec": {
   "display_name": "Python 3",
   "language": "python",
   "name": "python3"
  },
  "language_info": {
   "codemirror_mode": {
    "name": "ipython",
    "version": 3
   },
   "file_extension": ".py",
   "mimetype": "text/x-python",
   "name": "python",
   "nbconvert_exporter": "python",
   "pygments_lexer": "ipython3",
   "version": "3.6.5"
  }
 },
 "nbformat": 4,
 "nbformat_minor": 2
}
