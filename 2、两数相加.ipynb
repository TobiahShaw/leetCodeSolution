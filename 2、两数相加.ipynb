{
 "cells": [
  {
   "cell_type": "markdown",
   "metadata": {},
   "source": [
    "# 两数相加\n",
    "\n",
    "**题目来源：力扣（LeetCode）**\n",
    "\n",
    "**链接：https://leetcode-cn.com/problems/add-two-numbers**\n",
    "\n",
    "## 一、题目\n",
    "\n",
    "给出两个 非空 的链表用来表示两个非负的整数。其中，它们各自的位数是按照 逆序 的方式存储的，并且它们的每个节点只能存储 一位 数字。\n",
    "\n",
    "如果，我们将这两个数相加起来，则会返回一个新的链表来表示它们的和。\n",
    "\n",
    "您可以假设除了数字 0 之外，这两个数都不会以 0 开头。\n",
    "\n",
    "## 二、实例\n",
    "\n",
    "输入：(2 -> 4 -> 3) + (5 -> 6 -> 4)\n",
    "\n",
    "输出：7 -> 0 -> 8\n",
    "\n",
    "原因：342 + 465 = 807\n",
    "\n",
    "## 三、解题思路\n",
    "\n",
    "1、首先先定义一个简单的链表"
   ]
  },
  {
   "cell_type": "code",
   "execution_count": 1,
   "metadata": {},
   "outputs": [],
   "source": [
    "class ListNode:\n",
    "    def __init__(self, x):\n",
    "        self.val = x\n",
    "        self.next = None"
   ]
  },
  {
   "cell_type": "code",
   "execution_count": 6,
   "metadata": {},
   "outputs": [],
   "source": [
    "def addTwoNumbers(l1: ListNode, l2: ListNode) -> ListNode:\n",
    "        result = None\n",
    "        resultHeader = None;\n",
    "        carry = False\n",
    "        while(True):\n",
    "            if l1 == None and l2 == None:\n",
    "                if carry:\n",
    "                    result.next = ListNode(1)\n",
    "                return resultHeader;\n",
    "            p = (l1.val if l1 else 0) + (l2.val if l2 else 0) + (1 if carry else 0)\n",
    "            carry = p // 10\n",
    "            if result:\n",
    "                result.next = ListNode(p % 10)\n",
    "                result = result.next\n",
    "            elif carry:\n",
    "                result = ListNode(p % 10)\n",
    "                resultHeader = result\n",
    "                result.next = ListNode(p // 10)\n",
    "            else:\n",
    "                result = ListNode(p % 10)\n",
    "                resultHeader = result\n",
    "            \n",
    "            l1,l2 = l1.next if l1 else None, l2.next if l2 else None"
   ]
  },
  {
   "cell_type": "code",
   "execution_count": 7,
   "metadata": {},
   "outputs": [],
   "source": [
    "l1 = ListNode(2)\n",
    "l1.next = ListNode(4)\n",
    "l1.next.next = ListNode(3)"
   ]
  },
  {
   "cell_type": "code",
   "execution_count": 8,
   "metadata": {},
   "outputs": [],
   "source": [
    "l2 = ListNode(5)\n",
    "l2.next = ListNode(6)\n",
    "l2.next.next = ListNode(4)"
   ]
  },
  {
   "cell_type": "code",
   "execution_count": 14,
   "metadata": {},
   "outputs": [],
   "source": [
    "result = addTwoNumbers(l1, l2)"
   ]
  },
  {
   "cell_type": "code",
   "execution_count": 21,
   "metadata": {},
   "outputs": [],
   "source": [
    "def printListNode(node):\n",
    "    while(node):\n",
    "        print(node.val, end='')\n",
    "        node = node.next\n",
    "        if node:\n",
    "            print('->', end='')"
   ]
  },
  {
   "cell_type": "code",
   "execution_count": 22,
   "metadata": {},
   "outputs": [
    {
     "name": "stdout",
     "output_type": "stream",
     "text": [
      "7->0->8"
     ]
    }
   ],
   "source": [
    "printListNode(result)"
   ]
  },
  {
   "cell_type": "code",
   "execution_count": null,
   "metadata": {},
   "outputs": [],
   "source": []
  }
 ],
 "metadata": {
  "kernelspec": {
   "display_name": "Python 3",
   "language": "python",
   "name": "python3"
  },
  "language_info": {
   "codemirror_mode": {
    "name": "ipython",
    "version": 3
   },
   "file_extension": ".py",
   "mimetype": "text/x-python",
   "name": "python",
   "nbconvert_exporter": "python",
   "pygments_lexer": "ipython3",
   "version": "3.6.5"
  }
 },
 "nbformat": 4,
 "nbformat_minor": 2
}
