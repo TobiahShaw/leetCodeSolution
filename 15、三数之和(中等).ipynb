{
  "cells": [
    {
      "metadata": {
        "collapsed": true
      },
      "cell_type": "markdown",
      "source": "# 三数之和\n\n**题目来源：力扣（LeetCode）**\n\n**链接：https://leetcode-cn.com/problems/3sum/**\n\n## 一、题目\n\n给你一个包含 n 个整数的数组 nums，判断 nums 中是否存在三个元素 a，b，c ，使得 a + b + c = 0 ？请你找出所有满足条件且不重复的三元组。\n\n### 注意：\n\n答案中不可以包含重复的三元组。\n\n## 二、示例\n\n给定数组 nums = [-1, 0, 1, 2, -1, -4]\n\n满足要求的三元组集合为：\n\n```python\n[\n  [-1, 0, 1],\n  [-1, -1, 2]\n]\n```\n\n## 三、解题思路\n\n- 首先排序，轮询数组获得第一个数字，当当前数字和上一个一样时则跳过，避免重复\n- 获取第一个数字后，化简为target为负第一个数字的两数值和的问题\n- 利用双指针分别从先后寻找两数之和问题结果"
    },
    {
      "metadata": {
        "trusted": true
      },
      "cell_type": "code",
      "source": "def threeSum(nums):\n    length = len(nums)\n    # 排序\n    nums.sort()\n    ret = []\n    # 取第一个值\n    for foo in range(length):\n        # 跳过重复值\n        if foo > 0 and nums[foo] == nums[foo - 1]:\n            continue\n        gux = length - 1\n        # target\n        target = -nums[foo]\n        for bar in range(foo + 1, length):\n            # 跳过重复值\n            if bar > foo + 1 and nums[bar] == nums[bar - 1]:\n                continue\n            while bar < gux and nums[bar] + nums[gux] > target:\n                gux -= 1\n            if gux == bar:\n                break\n            if nums[bar] + nums[gux] == target:\n                ret.append([nums[foo], nums[bar], nums[gux]])\n    return ret",
      "execution_count": 1,
      "outputs": []
    },
    {
      "metadata": {
        "trusted": true
      },
      "cell_type": "code",
      "source": "threeSum([-1, 0, 1, 2, -1, -4])",
      "execution_count": 2,
      "outputs": [
        {
          "output_type": "execute_result",
          "execution_count": 2,
          "data": {
            "text/plain": "[[-1, -1, 2], [-1, 0, 1]]"
          },
          "metadata": {}
        }
      ]
    },
    {
      "metadata": {
        "trusted": true
      },
      "cell_type": "code",
      "source": "",
      "execution_count": null,
      "outputs": []
    }
  ],
  "metadata": {
    "kernelspec": {
      "name": "python36",
      "display_name": "Python 3.6",
      "language": "python"
    },
    "language_info": {
      "mimetype": "text/x-python",
      "nbconvert_exporter": "python",
      "name": "python",
      "pygments_lexer": "ipython3",
      "version": "3.6.6",
      "file_extension": ".py",
      "codemirror_mode": {
        "version": 3,
        "name": "ipython"
      }
    }
  },
  "nbformat": 4,
  "nbformat_minor": 2
}