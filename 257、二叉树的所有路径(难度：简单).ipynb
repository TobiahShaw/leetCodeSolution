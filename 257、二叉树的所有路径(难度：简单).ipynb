{
  "cells": [
    {
      "metadata": {
        "collapsed": true
      },
      "cell_type": "markdown",
      "source": "# 二叉树的所有路径\n\n**题目来源：力扣（LeetCode）**\n\n**链接：https://leetcode-cn.com/problems/binary-tree-paths/**\n\n## 一、题目\n\n给定一个二叉树，返回所有从根节点到叶子节点的路径。\n\n说明: 叶子节点是指没有子节点的节点。\n\n## 二、示例\n\n输入:\n\n```\n   1\n /   \\\n2     3\n \\\n  5\n```\n\n输出: [\"1->2->5\", \"1->3\"]\n\n解释: 所有根节点到叶子节点的路径为: 1->2->5, 1->3\n\n## 三、解题思路\n\n### 深度优先搜索"
    },
    {
      "metadata": {
        "trusted": true
      },
      "cell_type": "code",
      "source": "class TreeNode:\n    def __init__(self, x):\n        self.val = x\n        self.left = None\n        self.right = None\n\nroot = TreeNode(1)\n\nroot.left = TreeNode(2)\nroot.right = TreeNode(3)\n\nroot.left.right = TreeNode(5)",
      "execution_count": 1,
      "outputs": []
    },
    {
      "metadata": {
        "trusted": true
      },
      "cell_type": "code",
      "source": "def binaryTreePaths(root: TreeNode):\n    def generate(item, node, result):\n        if not node:\n            return\n        item.append(str(node.val))\n        if not node.left and not node.right:\n            result.append(\"->\".join(item[:]))\n        if node.left:\n            generate(item, node.left, result)\n        if node.right:\n            generate(item, node.right, result)\n        item.pop()\n    result = []\n    generate([], root, result)\n    return result",
      "execution_count": 2,
      "outputs": []
    },
    {
      "metadata": {
        "trusted": true
      },
      "cell_type": "code",
      "source": "binaryTreePaths(root)",
      "execution_count": 3,
      "outputs": [
        {
          "output_type": "execute_result",
          "execution_count": 3,
          "data": {
            "text/plain": "['1->2->5', '1->3']"
          },
          "metadata": {}
        }
      ]
    },
    {
      "metadata": {
        "trusted": true
      },
      "cell_type": "code",
      "source": "",
      "execution_count": null,
      "outputs": []
    }
  ],
  "metadata": {
    "kernelspec": {
      "name": "python36",
      "display_name": "Python 3.6",
      "language": "python"
    },
    "language_info": {
      "mimetype": "text/x-python",
      "nbconvert_exporter": "python",
      "name": "python",
      "pygments_lexer": "ipython3",
      "version": "3.6.6",
      "file_extension": ".py",
      "codemirror_mode": {
        "version": 3,
        "name": "ipython"
      }
    }
  },
  "nbformat": 4,
  "nbformat_minor": 2
}