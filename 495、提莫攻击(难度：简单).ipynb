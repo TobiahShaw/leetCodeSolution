{
 "cells": [
  {
   "cell_type": "markdown",
   "metadata": {},
   "source": [
    "# 提莫攻击\n",
    "\n",
    "**题目来源：力扣（LeetCode）**\n",
    "\n",
    "**链接：https://leetcode-cn.com/problems/teemo-attacking/**\n",
    "\n",
    "## 一、题目\n",
    "\n",
    "在《英雄联盟》的世界中，有一个叫 “提莫” 的英雄，他的攻击可以让敌方英雄艾希（编者注：寒冰射手）进入中毒状态。现在，给出提莫对艾希的攻击时间序列和提莫攻击的中毒持续时间，你需要输出艾希的中毒状态总时长。\n",
    "\n",
    "你可以认为提莫在给定的时间点进行攻击，并立即使艾希处于中毒状态。\n",
    "\n",
    "### 提示：\n",
    "\n",
    "- 你可以假定时间序列数组的总长度不超过 10000。\n",
    "- 你可以假定提莫攻击时间序列中的数字和提莫攻击的中毒持续时间都是非负整数，并且不超过 10,000,000。\n",
    "\n",
    "## 二、示例\n",
    "\n",
    "### 示例 1：\n",
    "\n",
    "输入: [1,4], 2\n",
    "\n",
    "输出: 4\n",
    "\n",
    "原因: 第 1 秒初，提莫开始对艾希进行攻击并使其立即中毒。中毒状态会维持 2 秒钟，直到第 2 秒末结束。第 4 秒初，提莫再次攻击艾希，使得艾希获得另外 2 秒中毒时间。所以最终输出 4 秒。\n",
    "\n",
    "### 示例 2：\n",
    "\n",
    "输入: [1,2], 2\n",
    "\n",
    "输出: 3\n",
    "\n",
    "原因: 第 1 秒初，提莫开始对艾希进行攻击并使其立即中毒。中毒状态会维持 2 秒钟，直到第 2 秒末结束。但是第 2 秒初，提莫再次攻击了已经处于中毒状态的艾希。由于中毒状态不可叠加，提莫在第 2 秒初的这次攻击会在第 3 秒末结束。所以最终输出 3 。\n",
    "\n",
    "## 三、解题思路\n",
    "\n",
    "### 单次扫描"
   ]
  },
  {
   "cell_type": "code",
   "execution_count": 1,
   "metadata": {},
   "outputs": [],
   "source": [
    "def findPoisonedDuration(timeSeries, duration: int) -> int:\n",
    "    n = len(timeSeries)\n",
    "    if n == 0:\n",
    "        return 0\n",
    "    \n",
    "    total = 0\n",
    "    for i in range(n - 1):\n",
    "        total += min(timeSeries[i + 1] - timeSeries[i], duration)\n",
    "    return total + duration"
   ]
  },
  {
   "cell_type": "code",
   "execution_count": 2,
   "metadata": {},
   "outputs": [
    {
     "data": {
      "text/plain": [
       "4"
      ]
     },
     "execution_count": 2,
     "metadata": {},
     "output_type": "execute_result"
    }
   ],
   "source": [
    "findPoisonedDuration([1,4], 2)"
   ]
  },
  {
   "cell_type": "code",
   "execution_count": 3,
   "metadata": {},
   "outputs": [
    {
     "data": {
      "text/plain": [
       "3"
      ]
     },
     "execution_count": 3,
     "metadata": {},
     "output_type": "execute_result"
    }
   ],
   "source": [
    "findPoisonedDuration([1,2], 2)"
   ]
  },
  {
   "cell_type": "code",
   "execution_count": null,
   "metadata": {},
   "outputs": [],
   "source": []
  }
 ],
 "metadata": {
  "kernelspec": {
   "display_name": "Python 3",
   "language": "python",
   "name": "python3"
  },
  "language_info": {
   "codemirror_mode": {
    "name": "ipython",
    "version": 3
   },
   "file_extension": ".py",
   "mimetype": "text/x-python",
   "name": "python",
   "nbconvert_exporter": "python",
   "pygments_lexer": "ipython3",
   "version": "3.6.5"
  }
 },
 "nbformat": 4,
 "nbformat_minor": 2
}
