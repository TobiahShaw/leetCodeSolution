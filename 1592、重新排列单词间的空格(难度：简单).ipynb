{
 "cells": [
  {
   "cell_type": "markdown",
   "metadata": {},
   "source": [
    "# 重新排列单词间的空格\n",
    "\n",
    "\n",
    "**题目来源：力扣（LeetCode）**\n",
    "\n",
    "**链接：https://leetcode.cn/problems/rearrange-spaces-between-words/**\n",
    "\n",
    "## 一、题目\n",
    "\n",
    "给你一个字符串 text ，该字符串由若干被空格包围的单词组成。每个单词由一个或者多个小写英文字母组成，并且两个单词之间至少存在一个空格。题目测试用例保证 text 至少包含一个单词 。\n",
    "\n",
    "请你重新排列空格，使每对相邻单词之间的空格数目都 相等 ，并尽可能 最大化 该数目。如果不能重新平均分配所有空格，请 将多余的空格放置在字符串末尾 ，这也意味着返回的字符串应当与原 text 字符串的长度相等。\n",
    "\n",
    "返回 重新排列空格后的字符串 。\n",
    "\n",
    "### 提示：\n",
    "\n",
    "- 1 <= text.length <= 100\n",
    "- text 由小写英文字母和 ' ' 组成\n",
    "- text 中至少包含一个单词\n",
    "\n",
    "## 二、示例\n",
    "\n",
    "### 示例 1：\n",
    "\n",
    "输入：text = \"  this   is  a sentence \"\n",
    "\n",
    "输出：\"this   is   a   sentence\"\n",
    "\n",
    "解释：总共有 9 个空格和 4 个单词。可以将 9 个空格平均分配到相邻单词之间，相邻单词间空格数为：9 / (4-1) = 3 个。\n",
    "\n",
    "### 示例 2：\n",
    "\n",
    "输入：text = \" practice   makes   perfect\"\n",
    "\n",
    "输出：\"practice   makes   perfect \"\n",
    "\n",
    "解释：总共有 7 个空格和 3 个单词。7 / (3-1) = 3 个空格加上 1 个多余的空格。多余的空格需要放在字符串的末尾。\n",
    "\n",
    "### 示例 3：\n",
    "\n",
    "输入：text = \"hello   world\"\n",
    "\n",
    "输出：\"hello   world\"\n",
    "\n",
    "### 示例 4：\n",
    "\n",
    "输入：text = \"  walks  udp package   into  bar a\"\n",
    "\n",
    "输出：\"walks  udp  package  into  bar  a \"\n",
    "\n",
    "### 示例 5：\n",
    "\n",
    "输入：text = \"a\"\n",
    "\n",
    "输出：\"a\"\n",
    "\n",
    "## 三、解题思路\n",
    "\n",
    "### 模拟过程"
   ]
  },
  {
   "cell_type": "code",
   "execution_count": 1,
   "metadata": {},
   "outputs": [],
   "source": [
    "class Solution:\n",
    "    def reorderSpaces(self, text: str) -> str:\n",
    "        spaceCount = 0\n",
    "        words = []\n",
    "        tmp = \"\"\n",
    "        for ch in text:\n",
    "            if ch == \" \":\n",
    "                spaceCount += 1\n",
    "                if tmp:\n",
    "                    words.append(tmp)\n",
    "                    tmp = \"\"\n",
    "            else:\n",
    "                tmp += ch\n",
    "        if tmp:\n",
    "            words.append(tmp)\n",
    "            tmp = \"\"\n",
    "        if spaceCount == 0:\n",
    "            return text\n",
    "        dividerNum = len(words) - 1\n",
    "        if dividerNum == 0:\n",
    "            return words[0] + (\" \" * spaceCount)\n",
    "        inner, end = spaceCount // dividerNum, spaceCount % dividerNum\n",
    "        divider = \" \" * inner\n",
    "        return divider.join(words) + (\" \" * end)"
   ]
  },
  {
   "cell_type": "code",
   "execution_count": 2,
   "metadata": {},
   "outputs": [
    {
     "data": {
      "text/plain": [
       "'this   is   a   sentence'"
      ]
     },
     "execution_count": 2,
     "metadata": {},
     "output_type": "execute_result"
    }
   ],
   "source": [
    "s = Solution()\n",
    "s.reorderSpaces(\"  this   is  a sentence \")"
   ]
  },
  {
   "cell_type": "code",
   "execution_count": 3,
   "metadata": {},
   "outputs": [
    {
     "data": {
      "text/plain": [
       "'practice   makes   perfect '"
      ]
     },
     "execution_count": 3,
     "metadata": {},
     "output_type": "execute_result"
    }
   ],
   "source": [
    "s.reorderSpaces(\" practice   makes   perfect\")"
   ]
  },
  {
   "cell_type": "code",
   "execution_count": 4,
   "metadata": {},
   "outputs": [
    {
     "data": {
      "text/plain": [
       "'hello   world'"
      ]
     },
     "execution_count": 4,
     "metadata": {},
     "output_type": "execute_result"
    }
   ],
   "source": [
    "s.reorderSpaces(\"hello   world\")"
   ]
  },
  {
   "cell_type": "code",
   "execution_count": 5,
   "metadata": {},
   "outputs": [
    {
     "data": {
      "text/plain": [
       "'walks  udp  package  into  bar  a '"
      ]
     },
     "execution_count": 5,
     "metadata": {},
     "output_type": "execute_result"
    }
   ],
   "source": [
    "s.reorderSpaces(\"  walks  udp package   into  bar a\")"
   ]
  },
  {
   "cell_type": "code",
   "execution_count": 6,
   "metadata": {},
   "outputs": [
    {
     "data": {
      "text/plain": [
       "'a'"
      ]
     },
     "execution_count": 6,
     "metadata": {},
     "output_type": "execute_result"
    }
   ],
   "source": [
    "s.reorderSpaces(\"a\")"
   ]
  },
  {
   "cell_type": "code",
   "execution_count": null,
   "metadata": {},
   "outputs": [],
   "source": []
  }
 ],
 "metadata": {
  "kernelspec": {
   "display_name": "Python 3.10.4 64-bit",
   "language": "python",
   "name": "python3"
  },
  "language_info": {
   "codemirror_mode": {
    "name": "ipython",
    "version": 3
   },
   "file_extension": ".py",
   "mimetype": "text/x-python",
   "name": "python",
   "nbconvert_exporter": "python",
   "pygments_lexer": "ipython3",
   "version": "3.10.4"
  },
  "orig_nbformat": 4,
  "vscode": {
   "interpreter": {
    "hash": "4f946df053fbf2b937619d3c5458e7af74262f9a954d8797ba0b27400bcafe06"
   }
  }
 },
 "nbformat": 4,
 "nbformat_minor": 2
}
