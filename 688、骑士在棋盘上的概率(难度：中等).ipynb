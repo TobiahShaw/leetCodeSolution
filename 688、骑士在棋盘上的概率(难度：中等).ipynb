{
 "cells": [
  {
   "cell_type": "markdown",
   "metadata": {},
   "source": [
    "# 骑士在棋盘上的概率\n",
    "\n",
    "**题目来源：力扣（LeetCode）**\n",
    "\n",
    "**链接：https://leetcode-cn.com/problems/knight-probability-in-chessboard/**\n",
    "\n",
    "## 一、题目\n",
    "\n",
    "在一个 n x n 的国际象棋棋盘上，一个骑士从单元格 (row, column) 开始，并尝试进行 k 次移动。行和列是 从 0 开始 的，所以左上单元格是 (0,0) ，右下单元格是 (n - 1, n - 1) 。\n",
    "\n",
    "象棋骑士有8种可能的走法。每次移动在基本方向上是两个单元格，然后在正交方向上是一个单元格。\n",
    "\n",
    "每次骑士要移动时，它都会随机从8种可能的移动中选择一种(即使棋子会离开棋盘)，然后移动到那里。\n",
    "\n",
    "骑士继续移动，直到它走了 k 步或离开了棋盘。\n",
    "\n",
    "返回 骑士在棋盘停止移动后仍留在棋盘上的概率 。\n",
    "\n",
    "### 提示:\n",
    "\n",
    "- 1 <= n <= 25\n",
    "- 0 <= k <= 100\n",
    "- 0 <= row, column <= n\n",
    "\n",
    "## 二、示例\n",
    "\n",
    "### 示例 1：\n",
    "\n",
    "输入: n = 3, k = 2, row = 0, column = 0\n",
    "\n",
    "输出: 0.0625\n",
    "\n",
    "解释: 有两步(到(1,2)，(2,1))可以让骑士留在棋盘上。在每一个位置上，也有两种移动可以让骑士留在棋盘上。骑士留在棋盘上的总概率是0.0625。\n",
    "\n",
    "### 示例 2：\n",
    "\n",
    "输入: n = 1, k = 0, row = 0, column = 0\n",
    "\n",
    "输出: 1.00000\n",
    "\n",
    "## 三、解题思路\n",
    "\n",
    "### dp"
   ]
  },
  {
   "cell_type": "code",
   "execution_count": 1,
   "metadata": {},
   "outputs": [],
   "source": [
    "def knightProbability(n: int, k: int, row: int, column: int) -> float:\n",
    "    dp = [[[0] * n for _ in range(n)] for _ in range(k + 1)]\n",
    "    dy = [-2, -2, -1, 1, 2, 2, 1, -1]\n",
    "    dx = [-1, 1, 2, 2, 1, -1, -2, -2]\n",
    "    for step in range(k+1):\n",
    "        for x in range(n):\n",
    "            for y in range(n):\n",
    "                if step == 0:\n",
    "                    dp[step][x][y] = 1\n",
    "                else:\n",
    "                    for i in range(8):\n",
    "                        new_x = x + dx[i]\n",
    "                        new_y = y + dy[i]\n",
    "                        if 0 <= new_x < n and 0 <= new_y < n:\n",
    "                            dp[step][x][y] += dp[step-1][new_x][new_y] / 8\n",
    "    return dp[k][row][column]"
   ]
  },
  {
   "cell_type": "code",
   "execution_count": 2,
   "metadata": {},
   "outputs": [
    {
     "data": {
      "text/plain": [
       "0.0625"
      ]
     },
     "execution_count": 2,
     "metadata": {},
     "output_type": "execute_result"
    }
   ],
   "source": [
    "knightProbability(3,2,0,0)"
   ]
  },
  {
   "cell_type": "code",
   "execution_count": 3,
   "metadata": {},
   "outputs": [
    {
     "data": {
      "text/plain": [
       "1"
      ]
     },
     "execution_count": 3,
     "metadata": {},
     "output_type": "execute_result"
    }
   ],
   "source": [
    "knightProbability(1,0,0,0)"
   ]
  },
  {
   "cell_type": "code",
   "execution_count": null,
   "metadata": {},
   "outputs": [],
   "source": []
  }
 ],
 "metadata": {
  "kernelspec": {
   "display_name": "Python 3",
   "language": "python",
   "name": "python3"
  },
  "language_info": {
   "codemirror_mode": {
    "name": "ipython",
    "version": 3
   },
   "file_extension": ".py",
   "mimetype": "text/x-python",
   "name": "python",
   "nbconvert_exporter": "python",
   "pygments_lexer": "ipython3",
   "version": "3.6.5"
  }
 },
 "nbformat": 4,
 "nbformat_minor": 2
}
