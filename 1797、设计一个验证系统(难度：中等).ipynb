{
 "cells": [
  {
   "cell_type": "markdown",
   "id": "9aa26685",
   "metadata": {},
   "source": [
    "# 设计一个验证系统\n",
    "\n",
    "**题目来源：力扣（LeetCode）**\n",
    "\n",
    "**链接：https://leetcode.cn/problems/design-authentication-manager/**\n",
    "\n",
    "## 一、题目\n",
    "\n",
    "你需要设计一个包含验证码的验证系统。每一次验证中，用户会收到一个新的验证码，这个验证码在 currentTime 时刻之后 timeToLive 秒过期。如果验证码被更新了，那么它会在 currentTime （可能与之前的 currentTime 不同）时刻延长 timeToLive 秒。\n",
    "\n",
    "请你实现 AuthenticationManager 类：\n",
    "\n",
    "- AuthenticationManager(int timeToLive) 构造 AuthenticationManager 并设置 timeToLive 参数。\n",
    "- generate(string tokenId, int currentTime) 给定 tokenId ，在当前时间 currentTime 生成一个新的验证码。\n",
    "- renew(string tokenId, int currentTime) 将给定 tokenId 且 未过期 的验证码在 currentTime 时刻更新。如果给定 tokenId 对应的验证码不存在或已过期，请你忽略该操作，不会有任何更新操作发生。\n",
    "- countUnexpiredTokens(int currentTime) 请返回在给定 currentTime 时刻，未过期 的验证码数目。\n",
    "\n",
    "如果一个验证码在时刻 t 过期，且另一个操作恰好在时刻 t 发生（renew 或者 countUnexpiredTokens 操作），过期事件 优先于 其他操作。\n",
    "\n",
    "### 提示：\n",
    "\n",
    "- 1 <= words.length <= 100\n",
    "- 1 <= words[i].length <= 100\n",
    "- words[i] 由小写英文字母组成\n",
    "\n",
    "## 二、示例\n",
    "\n",
    "输入：\n",
    "\n",
    "[\"AuthenticationManager\", \"renew\", \"generate\", \"countUnexpiredTokens\", \"generate\", \"renew\", \"renew\", \"countUnexpiredTokens\"]\n",
    "\n",
    "[[5], [\"aaa\", 1], [\"aaa\", 2], [6], [\"bbb\", 7], [\"aaa\", 8], [\"bbb\", 10], [15]]\n",
    "\n",
    "输出：\n",
    "\n",
    "[null, null, null, 1, null, null, null, 0]\n",
    "\n",
    "解释：\n",
    "\n",
    "```\n",
    "authenticationManager = AuthenticationManager(5) # 构造 AuthenticationManager ，设置 timeToLive = 5 秒。\n",
    "authenticationManager.renew(\"aaa\", 1) # 时刻 1 时，没有验证码的 tokenId 为 \"aaa\" ，没有验证码被更新。\n",
    "authenticationManager.generate(\"aaa\", 2) # 时刻 2 时，生成一个 tokenId 为 \"aaa\" 的新验证码。\n",
    "authenticationManager.countUnexpiredTokens(6) # 时刻 6 时，只有 tokenId 为 \"aaa\" 的验证码未过期，所以返回 1 。\n",
    "authenticationManager.generate(\"bbb\", 7) # 时刻 7 时，生成一个 tokenId 为 \"bbb\" 的新验证码。\n",
    "authenticationManager.renew(\"aaa\", 8) # tokenId 为 \"aaa\" 的验证码在时刻 7 过期，且 8 >= 7 ，所以时刻 8 的renew 操作被忽略，没有验证码被更新。\n",
    "authenticationManager.renew(\"bbb\", 10) # tokenId 为 \"bbb\" 的验证码在时刻 10 没有过期，所以 renew 操作会执行，该 token 将在时刻 15 过期。\n",
    "authenticationManager.countUnexpiredTokens(15) # tokenId 为 \"bbb\" 的验证码在时刻 15 过期，tokenId 为 \"aaa\" 的验证码在时刻 7 过期，所有验证码均已过期，所以返回 0 。\n",
    "```\n",
    "\n",
    "## 三、解题思路"
   ]
  },
  {
   "cell_type": "code",
   "execution_count": 1,
   "id": "ced7eb4c",
   "metadata": {},
   "outputs": [],
   "source": [
    "class AuthenticationManager:\n",
    "\n",
    "    def __init__(self, timeToLive: int):\n",
    "        self.timeToLive = timeToLive\n",
    "        self.tokens = {}\n",
    "\n",
    "    def generate(self, tokenId: str, currentTime: int) -> None:\n",
    "        self.tokens[tokenId] = currentTime\n",
    "\n",
    "    def renew(self, tokenId: str, currentTime: int) -> None:\n",
    "        if tokenId in self.tokens and currentTime - self.tokens[tokenId] < self.timeToLive:\n",
    "            self.tokens[tokenId] = currentTime\n",
    "\n",
    "    def countUnexpiredTokens(self, currentTime: int) -> int:\n",
    "        ret = 0\n",
    "        for tokenId in self.tokens:\n",
    "            if currentTime - self.tokens[tokenId] < self.timeToLive:\n",
    "                ret += 1\n",
    "        return ret"
   ]
  },
  {
   "cell_type": "code",
   "execution_count": 2,
   "id": "0de209ca",
   "metadata": {},
   "outputs": [],
   "source": [
    "authenticationManager = AuthenticationManager(5)"
   ]
  },
  {
   "cell_type": "code",
   "execution_count": 3,
   "id": "3e4b089b",
   "metadata": {},
   "outputs": [],
   "source": [
    "authenticationManager.renew(\"aaa\", 1)"
   ]
  },
  {
   "cell_type": "code",
   "execution_count": 4,
   "id": "c8e0f64f",
   "metadata": {},
   "outputs": [],
   "source": [
    "authenticationManager.generate(\"aaa\", 2)"
   ]
  },
  {
   "cell_type": "code",
   "execution_count": 5,
   "id": "35915f09",
   "metadata": {},
   "outputs": [
    {
     "data": {
      "text/plain": [
       "1"
      ]
     },
     "execution_count": 5,
     "metadata": {},
     "output_type": "execute_result"
    }
   ],
   "source": [
    "authenticationManager.countUnexpiredTokens(6)"
   ]
  },
  {
   "cell_type": "code",
   "execution_count": 6,
   "id": "61d4367d",
   "metadata": {},
   "outputs": [],
   "source": [
    "authenticationManager.generate(\"bbb\", 7)"
   ]
  },
  {
   "cell_type": "code",
   "execution_count": 7,
   "id": "eab3e940",
   "metadata": {},
   "outputs": [],
   "source": [
    "authenticationManager.renew(\"aaa\", 8)"
   ]
  },
  {
   "cell_type": "code",
   "execution_count": 8,
   "id": "9a935f6f",
   "metadata": {},
   "outputs": [],
   "source": [
    "authenticationManager.renew(\"bbb\", 10)"
   ]
  },
  {
   "cell_type": "code",
   "execution_count": 9,
   "id": "a8599e03",
   "metadata": {},
   "outputs": [
    {
     "data": {
      "text/plain": [
       "0"
      ]
     },
     "execution_count": 9,
     "metadata": {},
     "output_type": "execute_result"
    }
   ],
   "source": [
    "authenticationManager.countUnexpiredTokens(15)"
   ]
  },
  {
   "cell_type": "code",
   "execution_count": null,
   "id": "54b1681e",
   "metadata": {},
   "outputs": [],
   "source": []
  }
 ],
 "metadata": {
  "kernelspec": {
   "display_name": "Python 3 (ipykernel)",
   "language": "python",
   "name": "python3"
  },
  "language_info": {
   "codemirror_mode": {
    "name": "ipython",
    "version": 3
   },
   "file_extension": ".py",
   "mimetype": "text/x-python",
   "name": "python",
   "nbconvert_exporter": "python",
   "pygments_lexer": "ipython3",
   "version": "3.11.0"
  }
 },
 "nbformat": 4,
 "nbformat_minor": 5
}
