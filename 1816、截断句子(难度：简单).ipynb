{
 "cells": [
  {
   "cell_type": "markdown",
   "metadata": {},
   "source": [
    "# 截断句子\n",
    "\n",
    "**题目来源：力扣（LeetCode）**\n",
    "\n",
    "**链接：https://leetcode-cn.com/problems/truncate-sentence/**\n",
    "\n",
    "## 一、题目\n",
    "\n",
    "句子 是一个单词列表，列表中的单词之间用单个空格隔开，且不存在前导或尾随空格。每个单词仅由大小写英文字母组成（不含标点符号）。\n",
    "\n",
    "- 例如，\"Hello World\"、\"HELLO\" 和 \"hello world hello world\" 都是句子。\n",
    "\n",
    "给你一个句子 s 和一个整数 k ，请你将 s 截断，使截断后的句子仅含 前 k 个单词。返回 截断 s 后得到的句子。\n",
    "\n",
    "## 二、示例\n",
    "\n",
    "### 示例 1：\n",
    "\n",
    "输入：s = \"Hello how are you Contestant\", k = 4\n",
    "\n",
    "输出：\"Hello how are you\"\n",
    "\n",
    "解释：\n",
    "\n",
    "s 中的单词为 [\"Hello\", \"how\" \"are\", \"you\", \"Contestant\"]\n",
    "\n",
    "前 4 个单词为 [\"Hello\", \"how\", \"are\", \"you\"]\n",
    "\n",
    "因此，应当返回 \"Hello how are you\"\n",
    "\n",
    "### 示例 2：\n",
    "\n",
    "输入：s = \"What is the solution to this problem\", k = 4\n",
    "\n",
    "输出：\"What is the solution\"\n",
    "\n",
    "解释：\n",
    "\n",
    "s 中的单词为 [\"What\", \"is\" \"the\", \"solution\", \"to\", \"this\", \"problem\"]\n",
    "\n",
    "前 4 个单词为 [\"What\", \"is\", \"the\", \"solution\"]\n",
    "\n",
    "因此，应当返回 \"What is the solution\"\n",
    "\n",
    "### 示例 3：\n",
    "\n",
    "输入：s = \"chopper is not a tanuki\", k = 5\n",
    "\n",
    "输出：\"chopper is not a tanuki\"\n",
    "\n",
    "## 三、解题思路\n",
    "\n",
    "### split"
   ]
  },
  {
   "cell_type": "code",
   "execution_count": 1,
   "metadata": {},
   "outputs": [],
   "source": [
    "def truncateSentence(s: str, k: int) -> str:\n",
    "    return \" \".join(s.split(\" \")[:k])"
   ]
  },
  {
   "cell_type": "code",
   "execution_count": 2,
   "metadata": {},
   "outputs": [
    {
     "data": {
      "text/plain": [
       "'Hello how are you'"
      ]
     },
     "execution_count": 2,
     "metadata": {},
     "output_type": "execute_result"
    }
   ],
   "source": [
    "truncateSentence(s = \"Hello how are you Contestant\", k = 4)"
   ]
  },
  {
   "cell_type": "code",
   "execution_count": 3,
   "metadata": {},
   "outputs": [
    {
     "data": {
      "text/plain": [
       "'What is the solution'"
      ]
     },
     "execution_count": 3,
     "metadata": {},
     "output_type": "execute_result"
    }
   ],
   "source": [
    "truncateSentence(s = \"What is the solution to this problem\", k = 4)"
   ]
  },
  {
   "cell_type": "code",
   "execution_count": 4,
   "metadata": {},
   "outputs": [
    {
     "data": {
      "text/plain": [
       "'chopper is not a tanuki'"
      ]
     },
     "execution_count": 4,
     "metadata": {},
     "output_type": "execute_result"
    }
   ],
   "source": [
    "truncateSentence(s = \"chopper is not a tanuki\", k = 5)"
   ]
  },
  {
   "cell_type": "code",
   "execution_count": null,
   "metadata": {},
   "outputs": [],
   "source": []
  }
 ],
 "metadata": {
  "kernelspec": {
   "display_name": "Python 3",
   "language": "python",
   "name": "python3"
  },
  "language_info": {
   "codemirror_mode": {
    "name": "ipython",
    "version": 3
   },
   "file_extension": ".py",
   "mimetype": "text/x-python",
   "name": "python",
   "nbconvert_exporter": "python",
   "pygments_lexer": "ipython3",
   "version": "3.6.5"
  }
 },
 "nbformat": 4,
 "nbformat_minor": 2
}
