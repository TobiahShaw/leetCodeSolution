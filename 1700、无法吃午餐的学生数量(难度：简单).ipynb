{
 "cells": [
  {
   "cell_type": "markdown",
   "metadata": {},
   "source": [
    "# 无法吃午餐的学生数量\n",
    "\n",
    "**题目来源：力扣（LeetCode）**\n",
    "\n",
    "**链接：https://leetcode.cn/problems/number-of-students-unable-to-eat-lunch/**\n",
    "\n",
    "## 一、题目\n",
    "\n",
    "学校的自助午餐提供圆形和方形的三明治，分别用数字 0 和 1 表示。所有学生站在一个队列里，每个学生要么喜欢圆形的要么喜欢方形的。\n",
    "餐厅里三明治的数量与学生的数量相同。所有三明治都放在一个 栈 里，每一轮：\n",
    "\n",
    "- 如果队列最前面的学生 喜欢 栈顶的三明治，那么会 拿走它 并离开队列。\n",
    "- 否则，这名学生会 放弃这个三明治 并回到队列的尾部。\n",
    "这个过程会一直持续到队列里所有学生都不喜欢栈顶的三明治为止。\n",
    "\n",
    "给你两个整数数组 students 和 sandwiches ，其中 sandwiches[i] 是栈里面第 i​​​​​​ 个三明治的类型（i = 0 是栈的顶部）， students[j] 是初始队列里第 j​​​​​​ 名学生对三明治的喜好（j = 0 是队列的最开始位置）。请你返回无法吃午餐的学生数量。\n",
    "\n",
    "### 提示：\n",
    "\n",
    "- 1 <= students.length, sandwiches.length <= 100\n",
    "- students.length == sandwiches.length\n",
    "- sandwiches[i] 要么是 0 ，要么是 1 。\n",
    "- students[i] 要么是 0 ，要么是 1 。\n",
    "\n",
    "## 二、示例\n",
    "\n",
    "### 示例 1：\n",
    "\n",
    "输入：students = [1,1,0,0], sandwiches = [0,1,0,1]\n",
    "\n",
    "输出：0 \n",
    "\n",
    "解释：\n",
    "\n",
    "- 最前面的学生放弃最顶上的三明治，并回到队列的末尾，学生队列变为 students = [1,0,0,1]。\n",
    "- 最前面的学生放弃最顶上的三明治，并回到队列的末尾，学生队列变为 students = [0,0,1,1]。\n",
    "- 最前面的学生拿走最顶上的三明治，剩余学生队列为 students = [0,1,1]，三明治栈为 sandwiches = [1,0,1]。\n",
    "- 最前面的学生放弃最顶上的三明治，并回到队列的末尾，学生队列变为 students = [1,1,0]。\n",
    "- 最前面的学生拿走最顶上的三明治，剩余学生队列为 students = [1,0]，三明治栈为 sandwiches = [0,1]。\n",
    "- 最前面的学生放弃最顶上的三明治，并回到队列的末尾，学生队列变为 students = [0,1]。\n",
    "- 最前面的学生拿走最顶上的三明治，剩余学生队列为 students = [1]，三明治栈为 sandwiches = [1]。\n",
    "- 最前面的学生拿走最顶上的三明治，剩余学生队列为 students = []，三明治栈为 sandwiches = []。\n",
    "所以所有学生都有三明治吃。\n",
    "\n",
    "### 示例 2：\n",
    "\n",
    "输入：students = [1,1,1,0,0,1], sandwiches = [1,0,0,0,1,1]\n",
    "\n",
    "输出：3\n",
    "\n",
    "## 三、解题思路\n",
    "\n",
    "### 模拟过程"
   ]
  },
  {
   "cell_type": "code",
   "execution_count": 1,
   "metadata": {},
   "outputs": [],
   "source": [
    "class Solution:\n",
    "    def countStudents(self, students, sandwiches) -> int:\n",
    "        s1 = sum(students)\n",
    "        s0 = len(students) - s1\n",
    "        for x in sandwiches:\n",
    "            if x == 0 and s0:\n",
    "                s0 -= 1\n",
    "            elif x == 1 and s1:\n",
    "                s1 -= 1\n",
    "            else:\n",
    "                break\n",
    "        return s0 + s1"
   ]
  },
  {
   "cell_type": "code",
   "execution_count": 2,
   "metadata": {},
   "outputs": [
    {
     "data": {
      "text/plain": [
       "0"
      ]
     },
     "execution_count": 2,
     "metadata": {},
     "output_type": "execute_result"
    }
   ],
   "source": [
    "s = Solution()\n",
    "s.countStudents(students = [1,1,0,0], sandwiches = [0,1,0,1])"
   ]
  },
  {
   "cell_type": "code",
   "execution_count": 3,
   "metadata": {},
   "outputs": [
    {
     "data": {
      "text/plain": [
       "3"
      ]
     },
     "execution_count": 3,
     "metadata": {},
     "output_type": "execute_result"
    }
   ],
   "source": [
    "s.countStudents(students = [1,1,1,0,0,1], sandwiches = [1,0,0,0,1,1])"
   ]
  },
  {
   "cell_type": "code",
   "execution_count": null,
   "metadata": {},
   "outputs": [],
   "source": []
  }
 ],
 "metadata": {
  "kernelspec": {
   "display_name": "Python 3.10.4 64-bit",
   "language": "python",
   "name": "python3"
  },
  "language_info": {
   "codemirror_mode": {
    "name": "ipython",
    "version": 3
   },
   "file_extension": ".py",
   "mimetype": "text/x-python",
   "name": "python",
   "nbconvert_exporter": "python",
   "pygments_lexer": "ipython3",
   "version": "3.10.4"
  },
  "orig_nbformat": 4,
  "vscode": {
   "interpreter": {
    "hash": "4f946df053fbf2b937619d3c5458e7af74262f9a954d8797ba0b27400bcafe06"
   }
  }
 },
 "nbformat": 4,
 "nbformat_minor": 2
}
