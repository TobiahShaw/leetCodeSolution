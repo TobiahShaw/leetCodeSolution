{
 "cells": [
  {
   "cell_type": "markdown",
   "metadata": {},
   "source": [
    "# 两数之和IV-输入BST\n",
    "\n",
    "**题目来源：力扣（LeetCode）**\n",
    "\n",
    "**链接：https://leetcode-cn.com/problems/two-sum-iv-input-is-a-bst/**\n",
    "\n",
    "## 一、题目\n",
    "\n",
    "给定一个二叉搜索树 root 和一个目标结果 k，如果 BST 中存在两个元素且它们的和等于给定的目标结果，则返回 true。\n",
    "\n",
    "### 提示:\n",
    "\n",
    "- 二叉树的节点个数的范围是  [1, 104].\n",
    "- -104 <= Node.val <= 104\n",
    "- root 为二叉搜索树\n",
    "- -105 <= k <= 105\n",
    "\n",
    "## 二、示例\n",
    "\n",
    "### 示例 1：\n",
    "\n",
    "输入: root = [5,3,6,2,4,null,7], k = 9\n",
    "\n",
    "输出: true\n",
    "\n",
    "### 示例 2：\n",
    "\n",
    "输入: root = [5,3,6,2,4,null,7], k = 28\n",
    "\n",
    "输出: false\n",
    "\n",
    "## 三、解题思路"
   ]
  },
  {
   "cell_type": "code",
   "execution_count": 1,
   "metadata": {},
   "outputs": [],
   "source": [
    "class TreeNode:\n",
    "    def __init__(self, val=0, left=None, right=None):\n",
    "        self.val = val\n",
    "        self.left = left\n",
    "        self.right = right\n",
    "\n",
    "root = TreeNode(5)\n",
    "\n",
    "root.left = TreeNode(3)\n",
    "root.right = TreeNode(6)\n",
    "\n",
    "root.left.left = TreeNode(2)\n",
    "root.left.right = TreeNode(4)\n",
    "\n",
    "root.right.right = TreeNode(7)"
   ]
  },
  {
   "cell_type": "markdown",
   "metadata": {},
   "source": [
    "### DFS + Set"
   ]
  },
  {
   "cell_type": "code",
   "execution_count": 2,
   "metadata": {},
   "outputs": [],
   "source": [
    "def findTarget(root, k: int) -> bool:\n",
    "    def dfs(node, visited):\n",
    "        if not node:\n",
    "            return False\n",
    "        cur = node.val\n",
    "        if (k - cur) in visited:\n",
    "            return True\n",
    "        visited.add(cur)\n",
    "        return dfs(node.left, visited) or dfs(node.right, visited)\n",
    "    return dfs(root, set())"
   ]
  },
  {
   "cell_type": "code",
   "execution_count": 3,
   "metadata": {},
   "outputs": [
    {
     "data": {
      "text/plain": [
       "True"
      ]
     },
     "execution_count": 3,
     "metadata": {},
     "output_type": "execute_result"
    }
   ],
   "source": [
    "findTarget(root, 9)"
   ]
  },
  {
   "cell_type": "code",
   "execution_count": 4,
   "metadata": {},
   "outputs": [
    {
     "data": {
      "text/plain": [
       "False"
      ]
     },
     "execution_count": 4,
     "metadata": {},
     "output_type": "execute_result"
    }
   ],
   "source": [
    "findTarget(root, 28)"
   ]
  },
  {
   "cell_type": "code",
   "execution_count": null,
   "metadata": {},
   "outputs": [],
   "source": []
  }
 ],
 "metadata": {
  "kernelspec": {
   "display_name": "Python 3",
   "language": "python",
   "name": "python3"
  },
  "language_info": {
   "codemirror_mode": {
    "name": "ipython",
    "version": 3
   },
   "file_extension": ".py",
   "mimetype": "text/x-python",
   "name": "python",
   "nbconvert_exporter": "python",
   "pygments_lexer": "ipython3",
   "version": "3.6.5"
  }
 },
 "nbformat": 4,
 "nbformat_minor": 2
}
