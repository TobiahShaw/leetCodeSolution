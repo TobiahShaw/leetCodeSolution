{
 "cells": [
  {
   "cell_type": "markdown",
   "metadata": {},
   "source": [
    "# 子数组范围和\n",
    "\n",
    "**题目来源：力扣（LeetCode）**\n",
    "\n",
    "**链接：https://leetcode-cn.com/problems/sum-of-subarray-ranges/**\n",
    "\n",
    "## 一、题目\n",
    "\n",
    "给你一个整数数组 nums 。nums 中，子数组的 范围 是子数组中最大元素和最小元素的差值。\n",
    "\n",
    "返回 nums 中 所有 子数组范围的 和 。\n",
    "\n",
    "子数组是数组中一个连续 非空 的元素序列。\n",
    "\n",
    "### 提示：\n",
    "\n",
    "- 1 <= nums.length <= 1000\n",
    "- -10^9 <= nums[i] <= 10^9\n",
    "\n",
    "### 进阶：\n",
    "\n",
    "你可以设计一种时间复杂度为 O(n) 的解决方案吗？\n",
    "\n",
    "## 二、示例\n",
    "\n",
    "### 示例 1：\n",
    "\n",
    "输入：nums = [1,2,3]\n",
    "\n",
    "输出：4\n",
    "\n",
    "解释：nums 的 6 个子数组如下所示：\n",
    "\n",
    "- [1]，范围 = 最大 - 最小 = 1 - 1 = 0 \n",
    "- [2]，范围 = 2 - 2 = 0\n",
    "- [3]，范围 = 3 - 3 = 0\n",
    "- [1,2]，范围 = 2 - 1 = 1\n",
    "- [2,3]，范围 = 3 - 2 = 1\n",
    "- [1,2,3]，范围 = 3 - 1 = 2\n",
    "\n",
    "所有范围的和是 0 + 0 + 0 + 1 + 1 + 2 = 4\n",
    "\n",
    "### 示例 2：\n",
    "\n",
    "输入：nums = [1,3,3]\n",
    "\n",
    "输出：4\n",
    "\n",
    "解释：nums 的 6 个子数组如下所示：\n",
    "\n",
    "- [1]，范围 = 最大 - 最小 = 1 - 1 = 0\n",
    "- [3]，范围 = 3 - 3 = 0\n",
    "- [3]，范围 = 3 - 3 = 0\n",
    "- [1,3]，范围 = 3 - 1 = 2\n",
    "- [3,3]，范围 = 3 - 3 = 0\n",
    "- [1,3,3]，范围 = 3 - 1 = 2\n",
    "\n",
    "所有范围的和是 0 + 0 + 0 + 2 + 0 + 2 = 4\n",
    "\n",
    "### 示例 3：\n",
    "\n",
    "输入：nums = [4,-2,-3,4,1]\n",
    "\n",
    "输出：59\n",
    "\n",
    "解释：nums 中所有子数组范围的和是 59\n",
    "\n",
    "## 三、解题思路\n",
    "\n",
    "### 遍历数组"
   ]
  },
  {
   "cell_type": "code",
   "execution_count": 1,
   "metadata": {},
   "outputs": [],
   "source": [
    "class Solution:\n",
    "    def subArrayRanges(self, nums) -> int:\n",
    "        ret, n = 0, len(nums)\n",
    "        for i in range(n):\n",
    "            minVal, maxVal = float('inf'), float('-inf')\n",
    "            for j in range(i, n):\n",
    "                minVal = min(minVal, nums[j])\n",
    "                maxVal = max(maxVal, nums[j])\n",
    "                ret += maxVal - minVal\n",
    "        return ret"
   ]
  },
  {
   "cell_type": "code",
   "execution_count": 2,
   "metadata": {},
   "outputs": [
    {
     "data": {
      "text/plain": [
       "4"
      ]
     },
     "execution_count": 2,
     "metadata": {},
     "output_type": "execute_result"
    }
   ],
   "source": [
    "s = Solution()\n",
    "s.subArrayRanges([1,2,3])"
   ]
  },
  {
   "cell_type": "code",
   "execution_count": 3,
   "metadata": {},
   "outputs": [
    {
     "data": {
      "text/plain": [
       "4"
      ]
     },
     "execution_count": 3,
     "metadata": {},
     "output_type": "execute_result"
    }
   ],
   "source": [
    "s.subArrayRanges([1,3,3])"
   ]
  },
  {
   "cell_type": "code",
   "execution_count": 4,
   "metadata": {},
   "outputs": [
    {
     "data": {
      "text/plain": [
       "59"
      ]
     },
     "execution_count": 4,
     "metadata": {},
     "output_type": "execute_result"
    }
   ],
   "source": [
    "s.subArrayRanges([4,-2,-3,4,1])"
   ]
  },
  {
   "cell_type": "code",
   "execution_count": null,
   "metadata": {},
   "outputs": [],
   "source": []
  }
 ],
 "metadata": {
  "kernelspec": {
   "display_name": "Python 3 (ipykernel)",
   "language": "python",
   "name": "python3"
  },
  "language_info": {
   "codemirror_mode": {
    "name": "ipython",
    "version": 3
   },
   "file_extension": ".py",
   "mimetype": "text/x-python",
   "name": "python",
   "nbconvert_exporter": "python",
   "pygments_lexer": "ipython3",
   "version": "3.11.0"
  }
 },
 "nbformat": 4,
 "nbformat_minor": 2
}
