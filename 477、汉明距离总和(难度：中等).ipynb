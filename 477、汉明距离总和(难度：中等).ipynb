{
 "cells": [
  {
   "cell_type": "markdown",
   "metadata": {},
   "source": [
    "# 汉明距离总和\n",
    "\n",
    "**题目来源：力扣（LeetCode）**\n",
    "\n",
    "**链接：https://leetcode-cn.com/problems/total-hamming-distance/**\n",
    "\n",
    "## 一、题目\n",
    "\n",
    "两个整数的 汉明距离 指的是这两个数字的二进制数对应位不同的数量。\n",
    "\n",
    "计算一个数组中，任意两个数之间汉明距离的总和。\n",
    "\n",
    "## 二、示例\n",
    "\n",
    "输入: 4, 14, 2\n",
    "\n",
    "输出: 6\n",
    "\n",
    "解释: 在二进制表示中，4表示为0100，14表示为1110，2表示为0010。（这样表示是为了体现后四位之间关系）\n",
    "\n",
    "所以答案为：\n",
    "\n",
    "HammingDistance(4, 14) + HammingDistance(4, 2) + HammingDistance(14, 2) = 2 + 2 + 2 = 6.\n",
    "\n",
    "## 三、解题思路\n",
    "\n",
    "就是求这些数字的32位下的2进制，每位上有多少个1和0，比如题目中的示例的\n",
    "\n",
    "```\n",
    "4： 0 1 0 0\n",
    "14：1 1 1 0\n",
    "2： 0 0 1 0\n",
    "\n",
    "第高位：两个0，一个1， 有2*1个\n",
    "其次为：两个1，一个0， 有2*1个\n",
    "其次位：两个1，一个0， 有2*1个\n",
    "最低位：三个零，      有3*0个\n",
    "最后得6\n",
    "```\n",
    "\n",
    "### 利用字符串"
   ]
  },
  {
   "cell_type": "code",
   "execution_count": 1,
   "metadata": {},
   "outputs": [],
   "source": [
    "def totalHammingDistance(nums) -> int:\n",
    "    s_nums = [bin(s)[2:].rjust(32, \"0\") for s in nums]\n",
    "    res = 0\n",
    "    for item in zip(*s_nums):\n",
    "        res += item.count(\"1\") * item.count(\"0\")\n",
    "    return res"
   ]
  },
  {
   "cell_type": "code",
   "execution_count": 2,
   "metadata": {},
   "outputs": [
    {
     "data": {
      "text/plain": [
       "6"
      ]
     },
     "execution_count": 2,
     "metadata": {},
     "output_type": "execute_result"
    }
   ],
   "source": [
    "totalHammingDistance([4, 14, 2])"
   ]
  },
  {
   "cell_type": "code",
   "execution_count": null,
   "metadata": {},
   "outputs": [],
   "source": []
  }
 ],
 "metadata": {
  "kernelspec": {
   "display_name": "Python 3",
   "language": "python",
   "name": "python3"
  },
  "language_info": {
   "codemirror_mode": {
    "name": "ipython",
    "version": 3
   },
   "file_extension": ".py",
   "mimetype": "text/x-python",
   "name": "python",
   "nbconvert_exporter": "python",
   "pygments_lexer": "ipython3",
   "version": "3.7.8"
  }
 },
 "nbformat": 4,
 "nbformat_minor": 4
}
