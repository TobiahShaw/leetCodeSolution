{
 "cells": [
  {
   "cell_type": "markdown",
   "metadata": {},
   "source": [
    "# 数组中两元素的最大乘积\n",
    "\n",
    "**题目来源：力扣（LeetCode）**\n",
    "\n",
    "**链接：https://leetcode-cn.com/problems/maximum-product-of-two-elements-in-an-array/**\n",
    "\n",
    "## 一、题目\n",
    "\n",
    "给你一个整数数组 nums，请你选择数组的两个不同下标 i 和 j，使 (nums[i]-1)*(nums[j]-1) 取得最大值。\n",
    "\n",
    "请你计算并返回该式的最大值。\n",
    "\n",
    "## 二、示例\n",
    "\n",
    "### 示例 1：\n",
    "\n",
    "输入：nums = [3,4,5,2]\n",
    "\n",
    "输出：12 \n",
    "\n",
    "解释：如果选择下标 i=1 和 j=2（下标从 0 开始），则可以获得最大值，(nums[1]-1) * (nums[2]-1) = (4-1) * (5-1) = 3 * 4 = 12 。\n",
    "\n",
    "### 示例 2：\n",
    "\n",
    "输入：nums = [1,5,4,5]\n",
    "\n",
    "输出：16\n",
    "\n",
    "解释：选择下标 i=1 和 j=3（下标从 0 开始），则可以获得最大值 (5-1) * (5-1) = 16 。\n",
    "\n",
    "### 示例 3：\n",
    "\n",
    "输入：nums = [3,7]\n",
    "\n",
    "输出：12\n",
    "\n",
    "## 三、解题思路\n",
    "\n",
    "### 轮询"
   ]
  },
  {
   "cell_type": "code",
   "execution_count": 1,
   "metadata": {},
   "outputs": [],
   "source": [
    "def maxProduct(nums) -> int:\n",
    "    max1, max2 = 0, 0\n",
    "    for i in range(len(nums)):\n",
    "        num = nums[i] - 1\n",
    "        if num > max1:\n",
    "            max2 = max1\n",
    "            max1 = num\n",
    "        elif num == max1 or num > max2:\n",
    "            max2 = num\n",
    "    return max1 * max2"
   ]
  },
  {
   "cell_type": "code",
   "execution_count": 2,
   "metadata": {},
   "outputs": [
    {
     "data": {
      "text/plain": [
       "12"
      ]
     },
     "execution_count": 2,
     "metadata": {},
     "output_type": "execute_result"
    }
   ],
   "source": [
    "maxProduct([3,4,5,2])"
   ]
  },
  {
   "cell_type": "code",
   "execution_count": 3,
   "metadata": {},
   "outputs": [
    {
     "data": {
      "text/plain": [
       "16"
      ]
     },
     "execution_count": 3,
     "metadata": {},
     "output_type": "execute_result"
    }
   ],
   "source": [
    "maxProduct([1,5,4,5])"
   ]
  },
  {
   "cell_type": "code",
   "execution_count": 4,
   "metadata": {},
   "outputs": [
    {
     "data": {
      "text/plain": [
       "12"
      ]
     },
     "execution_count": 4,
     "metadata": {},
     "output_type": "execute_result"
    }
   ],
   "source": [
    "maxProduct([3,7])"
   ]
  },
  {
   "cell_type": "code",
   "execution_count": null,
   "metadata": {},
   "outputs": [],
   "source": []
  }
 ],
 "metadata": {
  "kernelspec": {
   "display_name": "Python 3",
   "language": "python",
   "name": "python3"
  },
  "language_info": {
   "codemirror_mode": {
    "name": "ipython",
    "version": 3
   },
   "file_extension": ".py",
   "mimetype": "text/x-python",
   "name": "python",
   "nbconvert_exporter": "python",
   "pygments_lexer": "ipython3",
   "version": "3.6.5"
  }
 },
 "nbformat": 4,
 "nbformat_minor": 2
}
