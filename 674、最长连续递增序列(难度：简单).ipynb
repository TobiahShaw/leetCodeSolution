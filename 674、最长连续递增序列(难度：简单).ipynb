{
 "cells": [
  {
   "cell_type": "markdown",
   "metadata": {},
   "source": [
    "# 最长连续递增序列\n",
    "\n",
    "**题目来源：力扣（LeetCode）**\n",
    "\n",
    "**链接：https://leetcode-cn.com/problems/longest-continuous-increasing-subsequence/**\n",
    "\n",
    "## 一、题目\n",
    "\n",
    "给定一个未经排序的整数数组，找到最长且 连续递增的子序列，并返回该序列的长度。\n",
    "\n",
    "连续递增的子序列 可以由两个下标 l 和 r（l < r）确定，如果对于每个 l <= i < r，都有 nums[i] < nums[i + 1] ，那么子序列 [nums[l], nums[l + 1], ..., nums[r - 1], nums[r]] 就是连续递增子序列。\n",
    "\n",
    "### 提示：\n",
    "\n",
    "- 0 <= nums.length <= 104\n",
    "- -109 <= nums[i] <= 109\n",
    "\n",
    "## 二、示例\n",
    "\n",
    "### 示例 1：\n",
    "\n",
    "输入：nums = [1,3,5,4,7]\n",
    "\n",
    "输出：3\n",
    "\n",
    "解释：最长连续递增序列是 [1,3,5], 长度为3。\n",
    "\n",
    "尽管 [1,3,5,7] 也是升序的子序列, 但它不是连续的，因为 5 和 7 在原数组里被 4 隔开。 \n",
    "\n",
    "### 示例 2：\n",
    "\n",
    "输入：nums = [2,2,2,2,2]\n",
    "\n",
    "输出：1\n",
    "\n",
    "解释：最长连续递增序列是 [2], 长度为1。\n",
    "\n",
    "## 三、解题思路\n",
    "\n",
    "### 轮询"
   ]
  },
  {
   "cell_type": "code",
   "execution_count": 1,
   "metadata": {},
   "outputs": [],
   "source": [
    "def findLengthOfLCIS(nums) -> int:\n",
    "    if not nums:\n",
    "        return 0\n",
    "    maxlength = 0\n",
    "    curlen = 1\n",
    "    for i in range(1, len(nums)):\n",
    "        if nums[i] > nums[i-1]:\n",
    "            curlen += 1\n",
    "        else:\n",
    "            maxlength = max(curlen, maxlength)\n",
    "            curlen = 1\n",
    "    maxlength = max(curlen, maxlength)\n",
    "    return maxlength"
   ]
  },
  {
   "cell_type": "code",
   "execution_count": 2,
   "metadata": {},
   "outputs": [
    {
     "data": {
      "text/plain": [
       "3"
      ]
     },
     "execution_count": 2,
     "metadata": {},
     "output_type": "execute_result"
    }
   ],
   "source": [
    "findLengthOfLCIS(nums = [1,3,5,4,7])"
   ]
  },
  {
   "cell_type": "code",
   "execution_count": 3,
   "metadata": {},
   "outputs": [
    {
     "data": {
      "text/plain": [
       "1"
      ]
     },
     "execution_count": 3,
     "metadata": {},
     "output_type": "execute_result"
    }
   ],
   "source": [
    "findLengthOfLCIS(nums = [2,2,2,2,2])"
   ]
  },
  {
   "cell_type": "code",
   "execution_count": null,
   "metadata": {},
   "outputs": [],
   "source": []
  }
 ],
 "metadata": {
  "kernelspec": {
   "display_name": "Python 3",
   "language": "python",
   "name": "python3"
  },
  "language_info": {
   "codemirror_mode": {
    "name": "ipython",
    "version": 3
   },
   "file_extension": ".py",
   "mimetype": "text/x-python",
   "name": "python",
   "nbconvert_exporter": "python",
   "pygments_lexer": "ipython3",
   "version": "3.6.5"
  }
 },
 "nbformat": 4,
 "nbformat_minor": 2
}
