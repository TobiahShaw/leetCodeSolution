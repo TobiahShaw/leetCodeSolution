{
 "cells": [
  {
   "cell_type": "markdown",
   "metadata": {},
   "source": [
    "# 拼写单词\n",
    "\n",
    "**题目来源：力扣（LeetCode）**\n",
    "\n",
    "**链接：https://leetcode-cn.com/problems/find-words-that-can-be-formed-by-characters/**\n",
    "\n",
    "## 一、题目\n",
    "\n",
    "给你一份『词汇表』（字符串数组） words 和一张『字母表』（字符串） chars。\n",
    "\n",
    "假如你可以用 chars 中的『字母』（字符）拼写出 words 中的某个『单词』（字符串），那么我们就认为你掌握了这个单词。\n",
    "\n",
    "注意：每次拼写（指拼写词汇表中的一个单词）时，chars 中的每个字母都只能用一次。\n",
    "\n",
    "返回词汇表 words 中你掌握的所有单词的 长度之和。\n",
    "\n",
    "### 提示：\n",
    "\n",
    "- 1 <= words.length <= 1000\n",
    "- 1 <= words[i].length, chars.length <= 100\n",
    "- 所有字符串中都仅包含小写英文字母\n",
    "\n",
    "## 二、示例\n",
    "\n",
    "### 示例 1：\n",
    "\n",
    "输入：words = [\"cat\",\"bt\",\"hat\",\"tree\"], chars = \"atach\"\n",
    "\n",
    "输出：6\n",
    "\n",
    "解释： 可以形成字符串 \"cat\" 和 \"hat\"，所以答案是 3 + 3 = 6。\n",
    "\n",
    "### 示例 2：\n",
    "\n",
    "输入：words = [\"hello\",\"world\",\"leetcode\"], chars = \"welldonehoneyr\"\n",
    "\n",
    "输出：10\n",
    "\n",
    "解释：可以形成字符串 \"hello\" 和 \"world\"，所以答案是 5 + 5 = 10。\n",
    "\n",
    "## 三、解题思路\n",
    "\n",
    "### 利用字典"
   ]
  },
  {
   "cell_type": "code",
   "execution_count": 1,
   "metadata": {},
   "outputs": [],
   "source": [
    "def countCharacters(words, chars: str) -> int:\n",
    "    def group(str):\n",
    "        ret = {}\n",
    "        for ch in str:\n",
    "            ret[ch] = ret.get(ch, 0) + 1\n",
    "        return ret\n",
    "    ret = 0\n",
    "    alpha = group(chars)\n",
    "    for word in words:\n",
    "        word_cnt = group(word)\n",
    "        for ch in word_cnt:\n",
    "            if alpha.get(ch, 0) < word_cnt[ch]:\n",
    "                break\n",
    "        else:\n",
    "            ret += len(word)\n",
    "    return ret"
   ]
  },
  {
   "cell_type": "code",
   "execution_count": 2,
   "metadata": {},
   "outputs": [
    {
     "data": {
      "text/plain": [
       "6"
      ]
     },
     "execution_count": 2,
     "metadata": {},
     "output_type": "execute_result"
    }
   ],
   "source": [
    "countCharacters(words = [\"cat\",\"bt\",\"hat\",\"tree\"], chars = \"atach\")"
   ]
  },
  {
   "cell_type": "code",
   "execution_count": 3,
   "metadata": {},
   "outputs": [
    {
     "data": {
      "text/plain": [
       "10"
      ]
     },
     "execution_count": 3,
     "metadata": {},
     "output_type": "execute_result"
    }
   ],
   "source": [
    "countCharacters(words = [\"hello\",\"world\",\"leetcode\"], chars = \"welldonehoneyr\")"
   ]
  },
  {
   "cell_type": "code",
   "execution_count": null,
   "metadata": {},
   "outputs": [],
   "source": []
  }
 ],
 "metadata": {
  "kernelspec": {
   "display_name": "Python 3",
   "language": "python",
   "name": "python3"
  },
  "language_info": {
   "codemirror_mode": {
    "name": "ipython",
    "version": 3
   },
   "file_extension": ".py",
   "mimetype": "text/x-python",
   "name": "python",
   "nbconvert_exporter": "python",
   "pygments_lexer": "ipython3",
   "version": "3.6.5"
  }
 },
 "nbformat": 4,
 "nbformat_minor": 2
}
