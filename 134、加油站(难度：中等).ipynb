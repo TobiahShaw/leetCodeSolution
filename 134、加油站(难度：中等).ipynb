{
 "cells": [
  {
   "cell_type": "markdown",
   "metadata": {},
   "source": [
    "# 加油站\n",
    "\n",
    "**题目来源：力扣（LeetCode）**\n",
    "\n",
    "**链接：https://leetcode-cn.com/problems/gas-station/**\n",
    "\n",
    "## 一、题目\n",
    "\n",
    "在一条环路上有 n 个加油站，其中第 i 个加油站有汽油 gas[i] 升。\n",
    "\n",
    "你有一辆油箱容量无限的的汽车，从第 i 个加油站开往第 i+1 个加油站需要消耗汽油 cost[i] 升。你从其中的一个加油站出发，开始时油箱为空。\n",
    "\n",
    "给定两个整数数组 gas 和 cost ，如果你可以绕环路行驶一周，则返回出发时加油站的编号，否则返回 -1 。如果存在解，则保证它是唯一的。\n",
    "\n",
    "### 提示:\n",
    "\n",
    "- gas.length == n\n",
    "- cost.length == n\n",
    "- 1 <= n <= 10^5\n",
    "- 0 <= gas[i], cost[i] <= 10^4\n",
    "\n",
    "## 二、示例\n",
    "\n",
    "### 示例 1：\n",
    "\n",
    "输入: \n",
    "\n",
    "gas  = [1,2,3,4,5]\n",
    "\n",
    "cost = [3,4,5,1,2]\n",
    "\n",
    "输出: 3\n",
    "\n",
    "解释:\n",
    "\n",
    "从 3 号加油站(索引为 3 处)出发，可获得 4 升汽油。此时油箱有 = 0 + 4 = 4 升汽油\n",
    "\n",
    "开往 4 号加油站，此时油箱有 4 - 1 + 5 = 8 升汽油\n",
    "\n",
    "开往 0 号加油站，此时油箱有 8 - 2 + 1 = 7 升汽油\n",
    "\n",
    "开往 1 号加油站，此时油箱有 7 - 3 + 2 = 6 升汽油\n",
    "\n",
    "开往 2 号加油站，此时油箱有 6 - 4 + 3 = 5 升汽油\n",
    "\n",
    "开往 3 号加油站，你需要消耗 5 升汽油，正好足够你返回到 3 号加油站。\n",
    "\n",
    "因此，3 可为起始索引。\n",
    "\n",
    "### 示例 2:\n",
    "\n",
    "输入: \n",
    "\n",
    "gas  = [2,3,4]\n",
    "\n",
    "cost = [3,4,3]\n",
    "\n",
    "输出: -1\n",
    "\n",
    "解释:\n",
    "\n",
    "你不能从 0 号或 1 号加油站出发，因为没有足够的汽油可以让你行驶到下一个加油站。\n",
    "\n",
    "我们从 2 号加油站出发，可以获得 4 升汽油。 此时油箱有 = 0 + 4 = 4 升汽油\n",
    "\n",
    "开往 0 号加油站，此时油箱有 4 - 3 + 2 = 3 升汽油\n",
    "\n",
    "开往 1 号加油站，此时油箱有 3 - 3 + 3 = 3 升汽油\n",
    "\n",
    "你无法返回 2 号加油站，因为返程需要消耗 4 升汽油，但是你的油箱只有 3 升汽油。\n",
    "\n",
    "因此，无论怎样，你都不可能绕环路行驶一周。\n",
    "\n",
    "## 三、解题思路\n",
    "\n",
    "### 暴力法"
   ]
  },
  {
   "cell_type": "code",
   "execution_count": 1,
   "metadata": {},
   "outputs": [],
   "source": [
    "class Solution:\n",
    "    def canCompleteCircuit(self, gas, cost) -> int:\n",
    "        n = len(gas)\n",
    "        for i in range(n):\n",
    "            start = i\n",
    "            car_gas = gas[i]\n",
    "            complete = True\n",
    "            for j in range(n):\n",
    "                spend = cost[(j + i) % n]\n",
    "                add = gas[(j + i + 1) % n]\n",
    "                if car_gas < spend:\n",
    "                    complete = False\n",
    "                    break\n",
    "                car_gas = car_gas - spend + add\n",
    "                if car_gas < cost[(j + i + 1) % n]:\n",
    "                    complete = False\n",
    "                    break\n",
    "            if complete:\n",
    "                return start\n",
    "        return -1"
   ]
  },
  {
   "cell_type": "code",
   "execution_count": 2,
   "metadata": {},
   "outputs": [
    {
     "data": {
      "text/plain": [
       "3"
      ]
     },
     "execution_count": 2,
     "metadata": {},
     "output_type": "execute_result"
    }
   ],
   "source": [
    "s = Solution()\n",
    "s.canCompleteCircuit([1,2,3,4,5], [3,4,5,1,2])"
   ]
  },
  {
   "cell_type": "code",
   "execution_count": 3,
   "metadata": {},
   "outputs": [
    {
     "data": {
      "text/plain": [
       "-1"
      ]
     },
     "execution_count": 3,
     "metadata": {},
     "output_type": "execute_result"
    }
   ],
   "source": [
    "s.canCompleteCircuit([2,3,4], [3,4,3])"
   ]
  },
  {
   "cell_type": "code",
   "execution_count": null,
   "metadata": {},
   "outputs": [],
   "source": []
  }
 ],
 "metadata": {
  "kernelspec": {
   "display_name": "Python 3 (ipykernel)",
   "language": "python",
   "name": "python3"
  },
  "language_info": {
   "codemirror_mode": {
    "name": "ipython",
    "version": 3
   },
   "file_extension": ".py",
   "mimetype": "text/x-python",
   "name": "python",
   "nbconvert_exporter": "python",
   "pygments_lexer": "ipython3",
   "version": "3.9.10+"
  }
 },
 "nbformat": 4,
 "nbformat_minor": 2
}
