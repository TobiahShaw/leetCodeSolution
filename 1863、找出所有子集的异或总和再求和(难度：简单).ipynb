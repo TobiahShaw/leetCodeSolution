{
 "cells": [
  {
   "cell_type": "markdown",
   "metadata": {},
   "source": [
    "# 找出所有子集的异或总和再求和\n",
    "\n",
    "**题目来源：力扣（LeetCode）**\n",
    "\n",
    "**链接：https://leetcode-cn.com/problems/sum-of-all-subset-xor-totals/**\n",
    "\n",
    "## 一、题目\n",
    "\n",
    "一个数组的 异或总和 定义为数组中所有元素按位 XOR 的结果；如果数组为 空 ，则异或总和为 0 。\n",
    "\n",
    "- 例如，数组 [2,5,6] 的 异或总和 为 2 XOR 5 XOR 6 = 1 。\n",
    "\n",
    "给你一个数组 nums ，请你求出 nums 中每个 子集 的 异或总和 ，计算并返回这些值相加之 和 。\n",
    "\n",
    "注意：在本题中，元素 相同 的不同子集应 多次 计数。\n",
    "\n",
    "数组 a 是数组 b 的一个 子集 的前提条件是：从 b 删除几个（也可能不删除）元素能够得到 a 。\n",
    "\n",
    "## 二、示例\n",
    "\n",
    "### 示例 1：\n",
    "\n",
    "输入：nums = [1,3]\n",
    "\n",
    "输出：6\n",
    "\n",
    "解释：[1,3] 共有 4 个子集：\n",
    "\n",
    "- 空子集的异或总和是 0 。\n",
    "- [1] 的异或总和为 1 。\n",
    "- [3] 的异或总和为 3 。\n",
    "- [1,3] 的异或总和为 1 XOR 3 = 2 。\n",
    "\n",
    "0 + 1 + 3 + 2 = 6\n",
    "\n",
    "### 示例 2：\n",
    "\n",
    "输入：nums = [5,1,6]\n",
    "\n",
    "输出：28\n",
    "\n",
    "解释：[5,1,6] 共有 8 个子集：\n",
    "\n",
    "- 空子集的异或总和是 0 。\n",
    "- [5] 的异或总和为 5 。\n",
    "- [1] 的异或总和为 1 。\n",
    "- [6] 的异或总和为 6 。\n",
    "- [5,1] 的异或总和为 5 XOR 1 = 4 。\n",
    "- [5,6] 的异或总和为 5 XOR 6 = 3 。\n",
    "- [1,6] 的异或总和为 1 XOR 6 = 7 。\n",
    "- [5,1,6] 的异或总和为 5 XOR 1 XOR 6 = 2 。\n",
    "\n",
    "0 + 5 + 1 + 6 + 4 + 3 + 7 + 2 = 28\n",
    "\n",
    "### 示例 3：\n",
    "\n",
    "输入：nums = [3,4,5,6,7,8]\n",
    "\n",
    "输出：480\n",
    "\n",
    "解释：每个子集的全部异或总和值之和为 480 。\n",
    "\n",
    "## 三、解题思路\n",
    "\n",
    "### 回溯法"
   ]
  },
  {
   "cell_type": "code",
   "execution_count": 1,
   "metadata": {},
   "outputs": [],
   "source": [
    "def subsetXORSum(nums) -> int:\n",
    "    def backtrace(i, item, result):\n",
    "        if i == len(nums):\n",
    "            xorsum = 0\n",
    "            for num in item:\n",
    "                xorsum ^= num\n",
    "            result[0] += xorsum\n",
    "            return\n",
    "        item.append(nums[i])\n",
    "        backtrace(i + 1, item, result)\n",
    "        item.pop()\n",
    "        backtrace(i + 1, item, result)\n",
    "    result = [0]\n",
    "    backtrace(0, [], result)\n",
    "    return result[0]"
   ]
  },
  {
   "cell_type": "code",
   "execution_count": 2,
   "metadata": {},
   "outputs": [
    {
     "data": {
      "text/plain": [
       "6"
      ]
     },
     "execution_count": 2,
     "metadata": {},
     "output_type": "execute_result"
    }
   ],
   "source": [
    "subsetXORSum([1,3])"
   ]
  },
  {
   "cell_type": "code",
   "execution_count": 3,
   "metadata": {},
   "outputs": [
    {
     "data": {
      "text/plain": [
       "28"
      ]
     },
     "execution_count": 3,
     "metadata": {},
     "output_type": "execute_result"
    }
   ],
   "source": [
    "subsetXORSum([5, 1, 6])"
   ]
  },
  {
   "cell_type": "code",
   "execution_count": 4,
   "metadata": {},
   "outputs": [
    {
     "data": {
      "text/plain": [
       "480"
      ]
     },
     "execution_count": 4,
     "metadata": {},
     "output_type": "execute_result"
    }
   ],
   "source": [
    "subsetXORSum([3,4,5,6,7,8])"
   ]
  },
  {
   "cell_type": "code",
   "execution_count": null,
   "metadata": {},
   "outputs": [],
   "source": []
  }
 ],
 "metadata": {
  "kernelspec": {
   "display_name": "Python 3",
   "language": "python",
   "name": "python3"
  },
  "language_info": {
   "codemirror_mode": {
    "name": "ipython",
    "version": 3
   },
   "file_extension": ".py",
   "mimetype": "text/x-python",
   "name": "python",
   "nbconvert_exporter": "python",
   "pygments_lexer": "ipython3",
   "version": "3.6.5"
  }
 },
 "nbformat": 4,
 "nbformat_minor": 2
}
