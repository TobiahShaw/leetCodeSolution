{
 "cells": [
  {
   "cell_type": "markdown",
   "metadata": {
    "collapsed": true
   },
   "source": [
    "# 将数字变成0的操作次数\n",
    "\n",
    "**题目来源：力扣（LeetCode）**\n",
    "\n",
    "**链接：https://leetcode-cn.com/problems/number-of-steps-to-reduce-a-number-to-zero/**\n",
    "\n",
    "## 一、题目\n",
    "\n",
    "给你一个非负整数 num ，请你返回将它变成 0 所需要的步数。 如果当前数字是偶数，你需要把它除以 2 ；否则，减去 1。\n",
    "\n",
    "## 二、示例\n",
    "\n",
    "### 示例 1：\n",
    "\n",
    "输入：num = 14\n",
    "\n",
    "输出：6\n",
    "\n",
    "解释：\n",
    "\n",
    "步骤 1) 14 是偶数，除以 2 得到 7 。\n",
    "\n",
    "步骤 2） 7 是奇数，减 1 得到 6 。\n",
    "\n",
    "步骤 3） 6 是偶数，除以 2 得到 3 。\n",
    "\n",
    "步骤 4） 3 是奇数，减 1 得到 2 。\n",
    "\n",
    "步骤 5） 2 是偶数，除以 2 得到 1 。\n",
    "\n",
    "步骤 6） 1 是奇数，减 1 得到 0 。\n",
    "\n",
    "### 示例 2：\n",
    "\n",
    "输入：num = 8\n",
    "\n",
    "输出：4\n",
    "\n",
    "解释：\n",
    "\n",
    "步骤 1） 8 是偶数，除以 2 得到 4 。\n",
    "\n",
    "步骤 2） 4 是偶数，除以 2 得到 2 。\n",
    "\n",
    "步骤 3） 2 是偶数，除以 2 得到 1 。\n",
    "\n",
    "步骤 4） 1 是奇数，减 1 得到 0 。\n",
    "\n",
    "### 示例 3：\n",
    "\n",
    "输入：num = 123\n",
    "\n",
    "输出：12\n",
    "\n",
    "## 三、解题思路\n",
    "\n",
    "### 一、模拟"
   ]
  },
  {
   "cell_type": "code",
   "execution_count": 1,
   "metadata": {},
   "outputs": [],
   "source": [
    "def numberOfSteps (num):\n",
    "    res = 0\n",
    "    while num:\n",
    "        if num % 2:\n",
    "            num -= 1\n",
    "        else:\n",
    "            num //= 2\n",
    "        res += 1\n",
    "    return res"
   ]
  },
  {
   "cell_type": "code",
   "execution_count": 2,
   "metadata": {},
   "outputs": [
    {
     "data": {
      "text/plain": [
       "6"
      ]
     },
     "execution_count": 2,
     "metadata": {},
     "output_type": "execute_result"
    }
   ],
   "source": [
    "numberOfSteps(14)"
   ]
  },
  {
   "cell_type": "code",
   "execution_count": 3,
   "metadata": {},
   "outputs": [
    {
     "data": {
      "text/plain": [
       "4"
      ]
     },
     "execution_count": 3,
     "metadata": {},
     "output_type": "execute_result"
    }
   ],
   "source": [
    "numberOfSteps(8)"
   ]
  },
  {
   "cell_type": "code",
   "execution_count": 4,
   "metadata": {},
   "outputs": [
    {
     "data": {
      "text/plain": [
       "12"
      ]
     },
     "execution_count": 4,
     "metadata": {},
     "output_type": "execute_result"
    }
   ],
   "source": [
    "numberOfSteps(123)"
   ]
  },
  {
   "cell_type": "markdown",
   "metadata": {},
   "source": [
    "### 二、位运算"
   ]
  },
  {
   "cell_type": "code",
   "execution_count": 5,
   "metadata": {},
   "outputs": [],
   "source": [
    "def numberOfSteps(num: int) -> int:\n",
    "    def length(num: int) -> int:\n",
    "        clz = 0\n",
    "        if (num >> 16) == 0:\n",
    "            clz += 16\n",
    "            num <<= 16\n",
    "        if (num >> 24) == 0:\n",
    "            clz += 8\n",
    "            num <<= 8\n",
    "        if (num >> 28) == 0:\n",
    "            clz += 4\n",
    "            num <<= 4\n",
    "        if (num >> 30) == 0:\n",
    "            clz += 2\n",
    "            num <<= 2\n",
    "        if (num >> 31) == 0:\n",
    "            clz += 1\n",
    "        return 32 - clz\n",
    "    def count(num: int) -> int:\n",
    "        num = (num & 0x55555555) + ((num >> 1) & 0x55555555)\n",
    "        num = (num & 0x33333333) + ((num >> 2) & 0x33333333)\n",
    "        num = (num & 0x0F0F0F0F) + ((num >> 4) & 0x0F0F0F0F)\n",
    "        num = (num & 0x00FF00FF) + ((num >> 8) & 0x00FF00FF)\n",
    "        num = (num & 0x0000FFFF) + ((num >> 16) & 0x0000FFFF)\n",
    "        return num\n",
    "    return length(num) - 1 + count(num) if num else 0"
   ]
  },
  {
   "cell_type": "code",
   "execution_count": 6,
   "metadata": {},
   "outputs": [
    {
     "data": {
      "text/plain": [
       "6"
      ]
     },
     "execution_count": 6,
     "metadata": {},
     "output_type": "execute_result"
    }
   ],
   "source": [
    "numberOfSteps(14)"
   ]
  },
  {
   "cell_type": "code",
   "execution_count": 7,
   "metadata": {},
   "outputs": [
    {
     "data": {
      "text/plain": [
       "4"
      ]
     },
     "execution_count": 7,
     "metadata": {},
     "output_type": "execute_result"
    }
   ],
   "source": [
    "numberOfSteps(8)"
   ]
  },
  {
   "cell_type": "code",
   "execution_count": 8,
   "metadata": {},
   "outputs": [
    {
     "data": {
      "text/plain": [
       "12"
      ]
     },
     "execution_count": 8,
     "metadata": {},
     "output_type": "execute_result"
    }
   ],
   "source": [
    "numberOfSteps(123)"
   ]
  },
  {
   "cell_type": "code",
   "execution_count": null,
   "metadata": {},
   "outputs": [],
   "source": []
  }
 ],
 "metadata": {
  "kernelspec": {
   "display_name": "Python 3",
   "language": "python",
   "name": "python3"
  },
  "language_info": {
   "codemirror_mode": {
    "name": "ipython",
    "version": 3
   },
   "file_extension": ".py",
   "mimetype": "text/x-python",
   "name": "python",
   "nbconvert_exporter": "python",
   "pygments_lexer": "ipython3",
   "version": "3.6.5"
  }
 },
 "nbformat": 4,
 "nbformat_minor": 2
}
