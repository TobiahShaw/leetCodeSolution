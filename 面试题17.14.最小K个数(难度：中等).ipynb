{
 "cells": [
  {
   "cell_type": "markdown",
   "metadata": {},
   "source": [
    "# 最小K个数\n",
    "\n",
    "**题目来源：力扣（LeetCode）**\n",
    "\n",
    "**链接：https://leetcode-cn.com/problems/smallest-k-lcci/**\n",
    "\n",
    "## 一、题目\n",
    "\n",
    "设计一个算法，找出数组中最小的k个数。以任意顺序返回这k个数均可。\n",
    "\n",
    "### 提示：\n",
    "\n",
    "- 0 <= len(arr) <= 100000\n",
    "- 0 <= k <= min(100000, len(arr))\n",
    "\n",
    "## 二、示例\n",
    "\n",
    "输入： arr = [1,3,5,7,2,4,6,8], k = 4\n",
    "\n",
    "输出： [1,2,3,4]\n",
    "\n",
    "## 三、解题思路\n",
    "\n",
    "### 堆"
   ]
  },
  {
   "cell_type": "code",
   "execution_count": 1,
   "metadata": {},
   "outputs": [],
   "source": [
    "def smallestK(arr, k: int):\n",
    "    import heapq\n",
    "    heap = []\n",
    "    for num in arr:\n",
    "        if len(heap) < k:\n",
    "            heapq.heappush(heap, -num)\n",
    "        else:\n",
    "            heapq.heappushpop(heap, -num)\n",
    "    return [-num for num in heap]"
   ]
  },
  {
   "cell_type": "code",
   "execution_count": 2,
   "metadata": {},
   "outputs": [
    {
     "data": {
      "text/plain": [
       "[4, 2, 3, 1]"
      ]
     },
     "execution_count": 2,
     "metadata": {},
     "output_type": "execute_result"
    }
   ],
   "source": [
    "smallestK(arr = [1,3,5,7,2,4,6,8], k = 4)"
   ]
  },
  {
   "cell_type": "code",
   "execution_count": null,
   "metadata": {},
   "outputs": [],
   "source": []
  }
 ],
 "metadata": {
  "kernelspec": {
   "display_name": "Python 3",
   "language": "python",
   "name": "python3"
  },
  "language_info": {
   "codemirror_mode": {
    "name": "ipython",
    "version": 3
   },
   "file_extension": ".py",
   "mimetype": "text/x-python",
   "name": "python",
   "nbconvert_exporter": "python",
   "pygments_lexer": "ipython3",
   "version": "3.6.5"
  }
 },
 "nbformat": 4,
 "nbformat_minor": 2
}
