{
 "cells": [
  {
   "cell_type": "markdown",
   "metadata": {},
   "source": [
    "# 使每位学生都有座位的最少移动次数\n",
    "\n",
    "**题目来源：力扣（LeetCode）**\n",
    "\n",
    "**链接：https://leetcode-cn.com/problems/minimum-number-of-moves-to-seat-everyone/**\n",
    "\n",
    "## 一、题目\n",
    "\n",
    "一个房间里有 n 个座位和 n 名学生，房间用一个数轴表示。给你一个长度为 n 的数组 seats ，其中 seats[i] 是第 i 个座位的位置。同时给你一个长度为 n 的数组 students ，其中 students[j] 是第 j 位学生的位置。\n",
    "\n",
    "你可以执行以下操作任意次：\n",
    "\n",
    "- 增加或者减少第 i 位学生的位置，每次变化量为 1 （也就是将第 i 位学生从位置 x 移动到 x + 1 或者 x - 1）\n",
    "\n",
    "请你返回使所有学生都有座位坐的 最少移动次数 ，并确保没有两位学生的座位相同。\n",
    "\n",
    "请注意，初始时有可能有多个座位或者多位学生在 同一 位置。\n",
    "\n",
    "### 提示：\n",
    "\n",
    "- n == seats.length == students.length\n",
    "- 1 <= n <= 100\n",
    "- 1 <= seats[i], students[j] <= 100\n",
    "\n",
    "## 二、示例\n",
    "\n",
    "### 示例 1：\n",
    "\n",
    "输入：seats = [3,1,5], students = [2,7,4]\n",
    "\n",
    "输出：4\n",
    "\n",
    "解释：学生移动方式如下：\n",
    "\n",
    "- 第一位学生从位置 2 移动到位置 1 ，移动 1 次。\n",
    "- 第二位学生从位置 7 移动到位置 5 ，移动 2 次。\n",
    "- 第三位学生从位置 4 移动到位置 3 ，移动 1 次。\n",
    "\n",
    "总共 1 + 2 + 1 = 4 次移动。\n",
    "\n",
    "### 示例 2：\n",
    "\n",
    "输入：seats = [4,1,5,9], students = [1,3,2,6]\n",
    "\n",
    "输出：7\n",
    "\n",
    "解释：学生移动方式如下：\n",
    "\n",
    "- 第一位学生不移动。\n",
    "- 第二位学生从位置 3 移动到位置 4 ，移动 1 次。\n",
    "- 第三位学生从位置 2 移动到位置 5 ，移动 3 次。\n",
    "- 第四位学生从位置 6 移动到位置 9 ，移动 3 次。\n",
    "\n",
    "总共 0 + 1 + 3 + 3 = 7 次移动。\n",
    "\n",
    "### 示例 3：\n",
    "\n",
    "输入：seats = [2,2,6,6], students = [1,3,2,6]\n",
    "\n",
    "输出：4\n",
    "\n",
    "解释：学生移动方式如下：\n",
    "\n",
    "- 第一位学生从位置 1 移动到位置 2 ，移动 1 次。\n",
    "- 第二位学生从位置 3 移动到位置 6 ，移动 3 次。\n",
    "- 第三位学生不移动。\n",
    "- 第四位学生不移动。\n",
    "\n",
    "总共 1 + 3 + 0 + 0 = 4 次移动。\n",
    "\n",
    "## 三、解题思路\n",
    "\n",
    "### 排序"
   ]
  },
  {
   "cell_type": "code",
   "execution_count": 1,
   "metadata": {},
   "outputs": [],
   "source": [
    "class Solution:\n",
    "    def minMovesToSeat(self, seats, students) -> int:\n",
    "        ret = 0\n",
    "        seats.sort()\n",
    "        students.sort()\n",
    "        n = len(seats)\n",
    "        for i in range(n):\n",
    "            ret += abs(seats[i] - students[i])\n",
    "        return ret"
   ]
  },
  {
   "cell_type": "code",
   "execution_count": 2,
   "metadata": {},
   "outputs": [
    {
     "data": {
      "text/plain": [
       "4"
      ]
     },
     "execution_count": 2,
     "metadata": {},
     "output_type": "execute_result"
    }
   ],
   "source": [
    "s = Solution()\n",
    "s.minMovesToSeat(seats = [3,1,5], students = [2,7,4])"
   ]
  },
  {
   "cell_type": "code",
   "execution_count": 3,
   "metadata": {},
   "outputs": [
    {
     "data": {
      "text/plain": [
       "7"
      ]
     },
     "execution_count": 3,
     "metadata": {},
     "output_type": "execute_result"
    }
   ],
   "source": [
    "s.minMovesToSeat(seats = [4,1,5,9], students = [1,3,2,6])"
   ]
  },
  {
   "cell_type": "code",
   "execution_count": 4,
   "metadata": {},
   "outputs": [
    {
     "data": {
      "text/plain": [
       "4"
      ]
     },
     "execution_count": 4,
     "metadata": {},
     "output_type": "execute_result"
    }
   ],
   "source": [
    "s.minMovesToSeat(seats = [2,2,6,6], students = [1,3,2,6])"
   ]
  },
  {
   "cell_type": "code",
   "execution_count": null,
   "metadata": {},
   "outputs": [],
   "source": []
  }
 ],
 "metadata": {
  "kernelspec": {
   "display_name": "Python 3 (ipykernel)",
   "language": "python",
   "name": "python3"
  },
  "language_info": {
   "codemirror_mode": {
    "name": "ipython",
    "version": 3
   },
   "file_extension": ".py",
   "mimetype": "text/x-python",
   "name": "python",
   "nbconvert_exporter": "python",
   "pygments_lexer": "ipython3",
   "version": "3.11.0"
  }
 },
 "nbformat": 4,
 "nbformat_minor": 2
}
