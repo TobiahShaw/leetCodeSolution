{
 "cells": [
  {
   "cell_type": "markdown",
   "metadata": {},
   "source": [
    "# 累加数\n",
    "\n",
    "**题目来源：力扣（LeetCode）**\n",
    "\n",
    "**链接：https://leetcode-cn.com/problems/additive-number/**\n",
    "\n",
    "## 一、题目\n",
    "\n",
    "累加数 是一个字符串，组成它的数字可以形成累加序列。\n",
    "\n",
    "一个有效的 累加序列 必须 至少 包含 3 个数。除了最开始的两个数以外，字符串中的其他数都等于它之前两个数相加的和。\n",
    "\n",
    "给你一个只包含数字 '0'-'9' 的字符串，编写一个算法来判断给定输入是否是 累加数 。如果是，返回 true ；否则，返回 false 。\n",
    "\n",
    "说明：累加序列里的数 不会 以 0 开头，所以不会出现 1, 2, 03 或者 1, 02, 3 的情况。\n",
    "\n",
    "### 提示：\n",
    "\n",
    "- 1 <= num.length <= 35\n",
    "- num 仅由数字（0 - 9）组成\n",
    "\n",
    "## 二、示例\n",
    "\n",
    "### 示例 1：\n",
    "\n",
    "输入：\"112358\"\n",
    "\n",
    "输出：true \n",
    "\n",
    "解释：累加序列为: 1, 1, 2, 3, 5, 8 。1 + 1 = 2, 1 + 2 = 3, 2 + 3 = 5, 3 + 5 = 8\n",
    "\n",
    "### 示例 2：\n",
    "\n",
    "输入：\"199100199\"\n",
    "\n",
    "输出：true \n",
    "\n",
    "解释：累加序列为: 1, 99, 100, 199。1 + 99 = 100, 99 + 100 = 199\n",
    "\n",
    "## 三、解题思路\n",
    "\n",
    "### 穷举"
   ]
  },
  {
   "cell_type": "code",
   "execution_count": 1,
   "metadata": {},
   "outputs": [],
   "source": [
    "def isAdditiveNumber(num: str) -> bool:\n",
    "    n = len(num)\n",
    "    if n < 3:\n",
    "        return False\n",
    "\n",
    "    def check(p1, p2, j):\n",
    "        while j < n:\n",
    "            p = str(int(p1) + int(p2))\n",
    "            if num[j: j+len(p)] != p:\n",
    "                return False\n",
    "            j += len(p)\n",
    "            p1, p2 = p2, p\n",
    "        return True\n",
    "\n",
    "\n",
    "    for i in range(1, n//2+1) if num[0] != \"0\" else [1]:\n",
    "        for j in range(i+1, n) if num[i] != \"0\" else [i+1]:\n",
    "            p1 = num[:i]\n",
    "            p2 = num[i:j]\n",
    "            if check(p1, p2, j):\n",
    "                return True\n",
    "\n",
    "    return False"
   ]
  },
  {
   "cell_type": "code",
   "execution_count": 2,
   "metadata": {},
   "outputs": [
    {
     "data": {
      "text/plain": [
       "True"
      ]
     },
     "execution_count": 2,
     "metadata": {},
     "output_type": "execute_result"
    }
   ],
   "source": [
    "isAdditiveNumber(\"112358\")"
   ]
  },
  {
   "cell_type": "code",
   "execution_count": 3,
   "metadata": {},
   "outputs": [
    {
     "data": {
      "text/plain": [
       "True"
      ]
     },
     "execution_count": 3,
     "metadata": {},
     "output_type": "execute_result"
    }
   ],
   "source": [
    "isAdditiveNumber(\"199100199\")"
   ]
  },
  {
   "cell_type": "code",
   "execution_count": null,
   "metadata": {},
   "outputs": [],
   "source": []
  }
 ],
 "metadata": {
  "kernelspec": {
   "display_name": "Python 3",
   "language": "python",
   "name": "python3"
  },
  "language_info": {
   "codemirror_mode": {
    "name": "ipython",
    "version": 3
   },
   "file_extension": ".py",
   "mimetype": "text/x-python",
   "name": "python",
   "nbconvert_exporter": "python",
   "pygments_lexer": "ipython3",
   "version": "3.6.5"
  }
 },
 "nbformat": 4,
 "nbformat_minor": 2
}
