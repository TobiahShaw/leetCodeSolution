{
 "cells": [
  {
   "cell_type": "markdown",
   "metadata": {},
   "source": [
    "# 最短无序连续子数组\n",
    "\n",
    "**题目来源：力扣（LeetCode）**\n",
    "\n",
    "**链接：https://leetcode-cn.com/problems/shortest-unsorted-continuous-subarray/**\n",
    "\n",
    "## 一、题目\n",
    "\n",
    "给你一个整数数组 nums ，你需要找出一个 连续子数组 ，如果对这个子数组进行升序排序，那么整个数组都会变为升序排序。\n",
    "\n",
    "请你找出符合题意的 最短 子数组，并输出它的长度。\n",
    "\n",
    "### 提示：\n",
    "\n",
    "- 1 <= nums.length <= 10000\n",
    "- -100000 <= nums[i] <= 100000\n",
    "\n",
    "### 进阶：\n",
    "\n",
    "你可以设计一个时间复杂度为 O(n) 的解决方案吗？\n",
    "\n",
    "## 二、示例\n",
    "\n",
    "### 示例 1：\n",
    "\n",
    "输入：nums = [2,6,4,8,10,9,15]\n",
    "\n",
    "输出：5\n",
    "\n",
    "解释：你只需要对 [6, 4, 8, 10, 9] 进行升序排序，那么整个表都会变为升序排序。\n",
    "\n",
    "### 示例 2：\n",
    "\n",
    "输入：nums = [1,2,3,4]\n",
    "\n",
    "输出：0\n",
    "\n",
    "### 示例 3：\n",
    "\n",
    "输入：nums = [1]\n",
    "\n",
    "输出：0\n",
    "\n",
    "## 三、解题思路\n",
    "\n",
    "### 一、排序"
   ]
  },
  {
   "cell_type": "code",
   "execution_count": 1,
   "metadata": {},
   "outputs": [],
   "source": [
    "def findUnsortedSubarray(nums) -> int:\n",
    "    sortedNums = sorted(nums)\n",
    "    start, end = 0, 0\n",
    "    n = len(nums)\n",
    "    for i in range(n):\n",
    "        if sortedNums[i] != nums[i]:\n",
    "            start = i\n",
    "            break\n",
    "    for i in range(n-1, -1, -1):\n",
    "        if sortedNums[i] != nums[i]:\n",
    "            end = i\n",
    "            break\n",
    "    return end - start + 1 if start != end else 0"
   ]
  },
  {
   "cell_type": "code",
   "execution_count": 2,
   "metadata": {},
   "outputs": [
    {
     "data": {
      "text/plain": [
       "5"
      ]
     },
     "execution_count": 2,
     "metadata": {},
     "output_type": "execute_result"
    }
   ],
   "source": [
    "findUnsortedSubarray([2,6,4,8,10,9,15])"
   ]
  },
  {
   "cell_type": "code",
   "execution_count": 3,
   "metadata": {},
   "outputs": [
    {
     "data": {
      "text/plain": [
       "0"
      ]
     },
     "execution_count": 3,
     "metadata": {},
     "output_type": "execute_result"
    }
   ],
   "source": [
    "findUnsortedSubarray([1, 2, 3, 4])"
   ]
  },
  {
   "cell_type": "code",
   "execution_count": 4,
   "metadata": {},
   "outputs": [
    {
     "data": {
      "text/plain": [
       "0"
      ]
     },
     "execution_count": 4,
     "metadata": {},
     "output_type": "execute_result"
    }
   ],
   "source": [
    "findUnsortedSubarray([1])"
   ]
  },
  {
   "cell_type": "markdown",
   "metadata": {},
   "source": [
    "### 二、遍历 O(n)"
   ]
  },
  {
   "cell_type": "code",
   "execution_count": 5,
   "metadata": {},
   "outputs": [],
   "source": [
    "def findUnsortedSubarray(nums) -> int:\n",
    "    start, end = 0, 0\n",
    "    foo = -100001\n",
    "    bar = 100001\n",
    "    n = len(nums)\n",
    "    for i in range(1, n):\n",
    "        if nums[i] < nums[i-1]:\n",
    "            foo = max(foo, nums[i-1])\n",
    "            bar = min(bar, nums[i])\n",
    "            end = i\n",
    "        else:\n",
    "            if nums[i] < foo:\n",
    "                end = i\n",
    "    for i in range(n):\n",
    "        if nums[i] > bar:\n",
    "            start = i\n",
    "            break\n",
    "    return end - start + 1 if start < end else 0"
   ]
  },
  {
   "cell_type": "code",
   "execution_count": 6,
   "metadata": {},
   "outputs": [
    {
     "data": {
      "text/plain": [
       "5"
      ]
     },
     "execution_count": 6,
     "metadata": {},
     "output_type": "execute_result"
    }
   ],
   "source": [
    "findUnsortedSubarray([2,6,4,8,10,9,15])"
   ]
  },
  {
   "cell_type": "code",
   "execution_count": 7,
   "metadata": {},
   "outputs": [
    {
     "data": {
      "text/plain": [
       "0"
      ]
     },
     "execution_count": 7,
     "metadata": {},
     "output_type": "execute_result"
    }
   ],
   "source": [
    "findUnsortedSubarray([1, 2, 3, 4])"
   ]
  },
  {
   "cell_type": "code",
   "execution_count": 8,
   "metadata": {},
   "outputs": [
    {
     "data": {
      "text/plain": [
       "0"
      ]
     },
     "execution_count": 8,
     "metadata": {},
     "output_type": "execute_result"
    }
   ],
   "source": [
    "findUnsortedSubarray([1])"
   ]
  },
  {
   "cell_type": "code",
   "execution_count": null,
   "metadata": {},
   "outputs": [],
   "source": []
  }
 ],
 "metadata": {
  "kernelspec": {
   "display_name": "Python 3",
   "language": "python",
   "name": "python3"
  },
  "language_info": {
   "codemirror_mode": {
    "name": "ipython",
    "version": 3
   },
   "file_extension": ".py",
   "mimetype": "text/x-python",
   "name": "python",
   "nbconvert_exporter": "python",
   "pygments_lexer": "ipython3",
   "version": "3.6.5"
  }
 },
 "nbformat": 4,
 "nbformat_minor": 2
}
