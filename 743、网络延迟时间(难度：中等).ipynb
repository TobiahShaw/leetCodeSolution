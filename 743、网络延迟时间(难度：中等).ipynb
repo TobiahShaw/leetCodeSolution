{
 "cells": [
  {
   "cell_type": "markdown",
   "metadata": {},
   "source": [
    "# 网络延迟时间\n",
    "\n",
    "**题目来源：力扣（LeetCode）**\n",
    "\n",
    "**链接：https://leetcode-cn.com/problems/network-delay-time/**\n",
    "\n",
    "## 一、题目\n",
    "\n",
    "有 n 个网络节点，标记为 1 到 n。\n",
    "\n",
    "给你一个列表 times，表示信号经过 有向 边的传递时间。 times[i] = (ui, vi, wi)，其中 ui 是源节点，vi 是目标节点， wi 是一个信号从源节点传递到目标节点的时间。\n",
    "\n",
    "现在，从某个节点 K 发出一个信号。需要多久才能使所有节点都收到信号？如果不能使所有节点收到信号，返回 -1 。\n",
    "\n",
    "### 提示：\n",
    "\n",
    "- 1 <= k <= n <= 100\n",
    "- 1 <= times.length <= 6000\n",
    "- times[i].length == 3\n",
    "- 1 <= ui, vi <= n\n",
    "- ui != vi\n",
    "- 0 <= wi <= 100\n",
    "- 所有 (ui, vi) 对都 互不相同（即，不含重复边）\n",
    "\n",
    "## 二、示例\n",
    "\n",
    "### 示例 1：\n",
    "\n",
    "输入：times = [[2,1,1],[2,3,1],[3,4,1]], n = 4, k = 2\n",
    "\n",
    "输出：2\n",
    "\n",
    "### 示例 2：\n",
    "\n",
    "输入：times = [[1,2,1]], n = 2, k = 1\n",
    "\n",
    "输出：1\n",
    "\n",
    "### 示例 3：\n",
    "\n",
    "输入：times = [[1,2,1]], n = 2, k = 2\n",
    "\n",
    "输出：-1\n",
    "\n",
    "## 三、解题思路\n",
    "\n",
    "### 深度优先搜索"
   ]
  },
  {
   "cell_type": "code",
   "execution_count": 1,
   "metadata": {},
   "outputs": [],
   "source": [
    "def networkDelayTime(times, n: int, k: int) -> int:\n",
    "    ret = [-1] * n\n",
    "    dic = {}\n",
    "    for time in times:\n",
    "        start, end, spend = time[0], time[1], time[2]\n",
    "        if start in dic:\n",
    "            dic[start][0].append(end)\n",
    "            dic[start][1].append(spend)\n",
    "        else:\n",
    "            dic[start] = ([end], [spend])\n",
    "    if k not in dic:\n",
    "        return -1\n",
    "    visited = set()\n",
    "    def dfs(k, t):\n",
    "        ret[k-1] = t\n",
    "        visited.add(k)\n",
    "        if k not in dic:\n",
    "            return\n",
    "        for i in range(len(dic[k][0])):\n",
    "            end, spend = dic[k][0][i], dic[k][1][i]\n",
    "            if end in visited:\n",
    "                if ret[end-1] > t + spend:\n",
    "                    dfs(end, t + spend)\n",
    "                continue\n",
    "            dfs(end, t + spend)\n",
    "    dfs(k, 0)\n",
    "    if len(visited) < n:\n",
    "        return -1\n",
    "    return max(ret)"
   ]
  },
  {
   "cell_type": "code",
   "execution_count": 2,
   "metadata": {},
   "outputs": [
    {
     "data": {
      "text/plain": [
       "2"
      ]
     },
     "execution_count": 2,
     "metadata": {},
     "output_type": "execute_result"
    }
   ],
   "source": [
    "networkDelayTime(times = [[2,1,1],[2,3,1],[3,4,1]], n = 4, k = 2)"
   ]
  },
  {
   "cell_type": "code",
   "execution_count": 3,
   "metadata": {},
   "outputs": [
    {
     "data": {
      "text/plain": [
       "1"
      ]
     },
     "execution_count": 3,
     "metadata": {},
     "output_type": "execute_result"
    }
   ],
   "source": [
    "networkDelayTime(times = [[1,2,1]], n = 2, k = 1)"
   ]
  },
  {
   "cell_type": "code",
   "execution_count": 4,
   "metadata": {},
   "outputs": [
    {
     "data": {
      "text/plain": [
       "-1"
      ]
     },
     "execution_count": 4,
     "metadata": {},
     "output_type": "execute_result"
    }
   ],
   "source": [
    "networkDelayTime(times = [[1,2,1]], n = 2, k = 2)"
   ]
  },
  {
   "cell_type": "code",
   "execution_count": null,
   "metadata": {},
   "outputs": [],
   "source": []
  }
 ],
 "metadata": {
  "kernelspec": {
   "display_name": "Python 3",
   "language": "python",
   "name": "python3"
  },
  "language_info": {
   "codemirror_mode": {
    "name": "ipython",
    "version": 3
   },
   "file_extension": ".py",
   "mimetype": "text/x-python",
   "name": "python",
   "nbconvert_exporter": "python",
   "pygments_lexer": "ipython3",
   "version": "3.6.5"
  }
 },
 "nbformat": 4,
 "nbformat_minor": 2
}
