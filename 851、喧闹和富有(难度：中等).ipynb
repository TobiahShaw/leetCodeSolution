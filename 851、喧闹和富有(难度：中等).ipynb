{
 "cells": [
  {
   "cell_type": "markdown",
   "metadata": {},
   "source": [
    "# 喧闹和富有\n",
    "\n",
    "**题目来源：力扣（LeetCode）**\n",
    "\n",
    "**链接：https://leetcode-cn.com/problems/loud-and-rich/**\n",
    "\n",
    "## 一、题目\n",
    "\n",
    "有一组 n 个人作为实验对象，从 0 到 n - 1 编号，其中每个人都有不同数目的钱，以及不同程度的安静值（quietness）。为了方便起见，我们将编号为 x 的人简称为 \"person x \"。\n",
    "\n",
    "给你一个数组 richer ，其中 richer[i] = [ai, bi] 表示 person ai 比 person bi 更有钱。另给你一个整数数组 quiet ，其中 quiet[i] 是 person i 的安静值。richer 中所给出的数据 逻辑自恰（也就是说，在 person x 比 person y 更有钱的同时，不会出现 person y 比 person x 更有钱的情况 ）。\n",
    "\n",
    "现在，返回一个整数数组 answer 作为答案，其中 answer[x] = y 的前提是，在所有拥有的钱肯定不少于 person x 的人中，person y 是最安静的人（也就是安静值 quiet[y] 最小的人）。\n",
    "\n",
    "### 提示：\n",
    "\n",
    "- n == quiet.length\n",
    "- 1 <= n <= 500\n",
    "- 0 <= quiet[i] < n\n",
    "- quiet 的所有值 互不相同\n",
    "- 0 <= richer.length <= n * (n - 1) / 2\n",
    "- 0 <= ai, bi < n\n",
    "- ai != bi\n",
    "- richer 中的所有数对 互不相同\n",
    "- 对 richer 的观察在逻辑上是一致的\n",
    "\n",
    "## 二、示例\n",
    "\n",
    "### 示例 1：\n",
    "\n",
    "输入：richer = [[1,0],[2,1],[3,1],[3,7],[4,3],[5,3],[6,3]], quiet = [3,2,5,4,6,1,7,0]\n",
    "\n",
    "输出：[5,5,2,5,4,5,6,7]\n",
    "\n",
    "解释： \n",
    "\n",
    "answer[0] = 5，person 5 比 person 3 有更多的钱，person 3 比 person 1 有更多的钱，person 1 比 person 0 有更多的钱。唯一较为安静（有较低的安静值 quiet[x]）的人是 person 7，但是目前还不清楚他是否比 person 0 更有钱。\n",
    "\n",
    "answer[7] = 7，在所有拥有的钱肯定不少于 person 7 的人中（这可能包括 person 3，4，5，6 以及 7），最安静（有较低安静值 quiet[x]）的人是 person 7。\n",
    "\n",
    "其他的答案也可以用类似的推理来解释。\n",
    "\n",
    "### 示例 2：\n",
    "\n",
    "输入：richer = [], quiet = [0]\n",
    "\n",
    "输出：[0]\n",
    "\n",
    "## 三、解题思路\n",
    "\n",
    "### DFS"
   ]
  },
  {
   "cell_type": "code",
   "execution_count": 1,
   "metadata": {},
   "outputs": [],
   "source": [
    "def loudAndRich(richer, quiet):\n",
    "    n = len(quiet)\n",
    "    g = [[] for _ in range(n)]\n",
    "    for r in richer:\n",
    "        g[r[1]].append(r[0])\n",
    "\n",
    "    ans = [-1] * n\n",
    "    def dfs(x: int):\n",
    "        if ans[x] != -1:\n",
    "            return\n",
    "        ans[x] = x\n",
    "        for y in g[x]:\n",
    "            dfs(y)\n",
    "            if quiet[ans[y]] < quiet[ans[x]]:\n",
    "                ans[x] = ans[y]\n",
    "    for i in range(n):\n",
    "        dfs(i)\n",
    "    return ans"
   ]
  },
  {
   "cell_type": "code",
   "execution_count": 2,
   "metadata": {},
   "outputs": [
    {
     "data": {
      "text/plain": [
       "[5, 5, 2, 5, 4, 5, 6, 7]"
      ]
     },
     "execution_count": 2,
     "metadata": {},
     "output_type": "execute_result"
    }
   ],
   "source": [
    "loudAndRich(richer = [[1,0],[2,1],[3,1],[3,7],[4,3],[5,3],[6,3]], quiet = [3,2,5,4,6,1,7,0])"
   ]
  },
  {
   "cell_type": "code",
   "execution_count": 3,
   "metadata": {},
   "outputs": [
    {
     "data": {
      "text/plain": [
       "[0]"
      ]
     },
     "execution_count": 3,
     "metadata": {},
     "output_type": "execute_result"
    }
   ],
   "source": [
    "loudAndRich(richer = [], quiet = [0])"
   ]
  },
  {
   "cell_type": "code",
   "execution_count": null,
   "metadata": {},
   "outputs": [],
   "source": []
  }
 ],
 "metadata": {
  "kernelspec": {
   "display_name": "Python 3",
   "language": "python",
   "name": "python3"
  },
  "language_info": {
   "codemirror_mode": {
    "name": "ipython",
    "version": 3
   },
   "file_extension": ".py",
   "mimetype": "text/x-python",
   "name": "python",
   "nbconvert_exporter": "python",
   "pygments_lexer": "ipython3",
   "version": "3.6.5"
  }
 },
 "nbformat": 4,
 "nbformat_minor": 2
}
