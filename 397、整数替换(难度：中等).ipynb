{
 "cells": [
  {
   "cell_type": "markdown",
   "metadata": {},
   "source": [
    "# 整数替换\n",
    "\n",
    "**题目来源：力扣（LeetCode）**\n",
    "\n",
    "**链接：https://leetcode-cn.com/problems/integer-replacement/**\n",
    "\n",
    "## 一、题目\n",
    "\n",
    "给定一个正整数 n ，你可以做如下操作：\n",
    "\n",
    "- 如果 n 是偶数，则用 n / 2替换 n 。\n",
    "- 如果 n 是奇数，则可以用 n + 1或n - 1替换 n 。\n",
    "\n",
    "n 变为 1 所需的最小替换次数是多少？\n",
    "\n",
    "### 提示：\n",
    "\n",
    "- 1 <= n <= 2^31 - 1\n",
    "\n",
    "## 二、示例\n",
    "\n",
    "### 示例 1：\n",
    "\n",
    "输入：n = 8\n",
    "\n",
    "输出：3\n",
    "\n",
    "解释：8 -> 4 -> 2 -> 1\n",
    "\n",
    "### 示例 2：\n",
    "\n",
    "输入：n = 7\n",
    "\n",
    "输出：4\n",
    "\n",
    "解释：7 -> 8 -> 4 -> 2 -> 1或 7 -> 6 -> 3 -> 2 -> 1\n",
    "\n",
    "### 示例 3：\n",
    "\n",
    "输入：n = 4\n",
    "\n",
    "输出：2\n",
    "\n",
    "## 三、解题思路\n",
    "\n",
    "### 递归"
   ]
  },
  {
   "cell_type": "code",
   "execution_count": 1,
   "metadata": {},
   "outputs": [],
   "source": [
    "def integerReplacement(n: int) -> int:\n",
    "    if n == 1:\n",
    "        return 0\n",
    "    if n % 2 == 0:\n",
    "        return 1 + integerReplacement(n // 2)\n",
    "    return 1 + min(integerReplacement(n + 1), integerReplacement(n - 1))"
   ]
  },
  {
   "cell_type": "code",
   "execution_count": 2,
   "metadata": {},
   "outputs": [
    {
     "data": {
      "text/plain": [
       "3"
      ]
     },
     "execution_count": 2,
     "metadata": {},
     "output_type": "execute_result"
    }
   ],
   "source": [
    "integerReplacement(8)"
   ]
  },
  {
   "cell_type": "code",
   "execution_count": 3,
   "metadata": {},
   "outputs": [
    {
     "data": {
      "text/plain": [
       "4"
      ]
     },
     "execution_count": 3,
     "metadata": {},
     "output_type": "execute_result"
    }
   ],
   "source": [
    "integerReplacement(7)"
   ]
  },
  {
   "cell_type": "code",
   "execution_count": 4,
   "metadata": {},
   "outputs": [
    {
     "data": {
      "text/plain": [
       "2"
      ]
     },
     "execution_count": 4,
     "metadata": {},
     "output_type": "execute_result"
    }
   ],
   "source": [
    "integerReplacement(4)"
   ]
  },
  {
   "cell_type": "code",
   "execution_count": null,
   "metadata": {},
   "outputs": [],
   "source": []
  }
 ],
 "metadata": {
  "kernelspec": {
   "display_name": "Python 3",
   "language": "python",
   "name": "python3"
  },
  "language_info": {
   "codemirror_mode": {
    "name": "ipython",
    "version": 3
   },
   "file_extension": ".py",
   "mimetype": "text/x-python",
   "name": "python",
   "nbconvert_exporter": "python",
   "pygments_lexer": "ipython3",
   "version": "3.6.5"
  }
 },
 "nbformat": 4,
 "nbformat_minor": 2
}
