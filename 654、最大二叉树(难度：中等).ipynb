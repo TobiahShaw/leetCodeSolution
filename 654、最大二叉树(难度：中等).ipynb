{
  "cells": [
    {
      "metadata": {
        "collapsed": true
      },
      "cell_type": "markdown",
      "source": "# 最大二叉树\n\n**题目来源：力扣（LeetCode）**\n\n**链接：https://leetcode-cn.com/problems/maximum-binary-tree/submissions/**\n\n## 一、题目\n\n给定一个不含重复元素的整数数组。一个以此数组构建的最大二叉树定义如下：\n\n- 二叉树的根是数组中的最大元素。\n- 左子树是通过数组中最大值左边部分构造出的最大二叉树。\n- 右子树是通过数组中最大值右边部分构造出的最大二叉树。\n- 通过给定的数组构建最大二叉树，并且输出这个树的根节点。\n\n## 二、示例\n\n输入：[3,2,1,6,0,5]\n\n输出：返回下面这棵树的根节点：\n\n[6,3,5,null,2,0,null,null,1]\n\n## 三、解题思路\n\n### 递归"
    },
    {
      "metadata": {
        "trusted": true
      },
      "cell_type": "code",
      "source": "",
      "execution_count": null,
      "outputs": []
    }
  ],
  "metadata": {
    "kernelspec": {
      "name": "python36",
      "display_name": "Python 3.6",
      "language": "python"
    },
    "language_info": {
      "mimetype": "text/x-python",
      "nbconvert_exporter": "python",
      "name": "python",
      "pygments_lexer": "ipython3",
      "version": "3.6.6",
      "file_extension": ".py",
      "codemirror_mode": {
        "version": 3,
        "name": "ipython"
      }
    }
  },
  "nbformat": 4,
  "nbformat_minor": 2
}