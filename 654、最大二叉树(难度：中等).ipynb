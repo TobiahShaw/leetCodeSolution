{
  "cells": [
    {
      "cell_type": "markdown",
      "metadata": {
        "collapsed": true
      },
      "source": [
        "# 最大二叉树\n",
        "\n",
        "**题目来源：力扣（LeetCode）**\n",
        "\n",
        "**链接：https://leetcode.cn/problems/maximum-binary-tree/**\n",
        "\n",
        "## 一、题目\n",
        "\n",
        "给定一个不重复的整数数组 nums 。 最大二叉树 可以用下面的算法从 nums 递归地构建:\n",
        "\n",
        "1. 创建一个根节点，其值为 nums 中的最大值。\n",
        "2. 递归地在最大值 左边 的 子数组前缀上 构建左子树。\n",
        "3. 递归地在最大值 右边 的 子数组后缀上 构建右子树。\n",
        "\n",
        "返回 nums 构建的 最大二叉树 。\n",
        "\n",
        "### 提示：\n",
        "\n",
        "- 1 <= nums.length <= 1000\n",
        "- 0 <= nums[i] <= 1000\n",
        "- nums 中的所有整数 互不相同\n",
        "\n",
        "## 二、示例\n",
        "\n",
        "### 示例 1：\n",
        "\n",
        "输入：[3,2,1,6,0,5]\n",
        "\n",
        "输出：返回下面这棵树的根节点：\n",
        "\n",
        "[6,3,5,null,2,0,null,null,1]\n",
        "\n",
        "### 示例 2：\n",
        "\n",
        "输入：nums = [3,2,1]\n",
        "\n",
        "输出：[3,null,2,null,1]\n",
        "\n",
        "## 三、解题思路\n",
        "\n",
        "### 递归"
      ]
    },
    {
      "cell_type": "code",
      "execution_count": 1,
      "metadata": {
        "trusted": true
      },
      "outputs": [],
      "source": [
        "# 定义树结构\n",
        "class TreeNode:\n",
        "    def __init__(self, x):\n",
        "        self.val = x\n",
        "        self.left = None\n",
        "        self.right = None"
      ]
    },
    {
      "cell_type": "code",
      "execution_count": 2,
      "metadata": {
        "trusted": true
      },
      "outputs": [],
      "source": [
        "# 遍历树\n",
        "def Tree2listFromTopToBottom(root):\n",
        "    ans=[]\n",
        "    if root==None:\n",
        "        return ans\n",
        "    q=[root]\n",
        "    while q:\n",
        "        node=q.pop(0)\n",
        "        if node.val == None:\n",
        "            ans.append('null')\n",
        "            continue\n",
        "        else:\n",
        "            ans.append(node.val)\n",
        "        if node.left:\n",
        "            q.append(node.left)\n",
        "        else:\n",
        "            q.append(TreeNode(None))\n",
        "        if node.right:\n",
        "            q.append(node.right)\n",
        "        else:\n",
        "            q.append(TreeNode(None))\n",
        "    return ans\n",
        "def printTree(root):\n",
        "    print(Tree2listFromTopToBottom(root))"
      ]
    },
    {
      "cell_type": "code",
      "execution_count": 3,
      "metadata": {
        "trusted": true
      },
      "outputs": [],
      "source": [
        "class Solution:\n",
        "    def constructMaximumBinaryTree(self, nums):\n",
        "        if not nums:\n",
        "            return None\n",
        "        index = self.findMax(nums)\n",
        "        val = nums[index]\n",
        "        root = TreeNode(val)\n",
        "        root.left = self.constructMaximumBinaryTree(nums[:index])\n",
        "        root.right = self.constructMaximumBinaryTree(nums[index+1:])\n",
        "        return root\n",
        "        \n",
        "    def findMax(self, nums):\n",
        "        max_val = -float('inf')\n",
        "        max_index = -1\n",
        "        n = len(nums)\n",
        "        for i in range(n):\n",
        "            if nums[i] > max_val:\n",
        "                max_val = nums[i]\n",
        "                max_index = i\n",
        "        return max_index"
      ]
    },
    {
      "cell_type": "code",
      "execution_count": 4,
      "metadata": {
        "trusted": true
      },
      "outputs": [
        {
          "name": "stdout",
          "output_type": "stream",
          "text": [
            "[6, 3, 5, 'null', 2, 0, 'null', 'null', 1, 'null', 'null', 'null', 'null']\n"
          ]
        }
      ],
      "source": [
        "s = Solution()\n",
        "printTree(s.constructMaximumBinaryTree([3,2,1,6,0,5]))"
      ]
    },
    {
      "cell_type": "code",
      "execution_count": 5,
      "metadata": {
        "trusted": true
      },
      "outputs": [
        {
          "name": "stdout",
          "output_type": "stream",
          "text": [
            "[3, 'null', 2, 'null', 1, 'null', 'null']\n"
          ]
        }
      ],
      "source": [
        "printTree(s.constructMaximumBinaryTree([3,2,1]))"
      ]
    },
    {
      "cell_type": "code",
      "execution_count": null,
      "metadata": {
        "trusted": true
      },
      "outputs": [],
      "source": []
    }
  ],
  "metadata": {
    "kernelspec": {
      "display_name": "Python 3.10.4 64-bit",
      "language": "python",
      "name": "python3"
    },
    "language_info": {
      "codemirror_mode": {
        "name": "ipython",
        "version": 3
      },
      "file_extension": ".py",
      "mimetype": "text/x-python",
      "name": "python",
      "nbconvert_exporter": "python",
      "pygments_lexer": "ipython3",
      "version": "3.10.4"
    },
    "vscode": {
      "interpreter": {
        "hash": "4f946df053fbf2b937619d3c5458e7af74262f9a954d8797ba0b27400bcafe06"
      }
    }
  },
  "nbformat": 4,
  "nbformat_minor": 2
}
