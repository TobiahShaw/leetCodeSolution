{
 "cells": [
  {
   "cell_type": "markdown",
   "metadata": {},
   "source": [
    "# 最长和谐子序列\n",
    "\n",
    "**题目来源：力扣（LeetCode）**\n",
    "\n",
    "**链接：https://leetcode-cn.com/problems/longest-harmonious-subsequence/**\n",
    "\n",
    "## 一、题目\n",
    "\n",
    "和谐数组是指一个数组里元素的最大值和最小值之间的差别 正好是 1 。\n",
    "\n",
    "现在，给你一个整数数组 nums ，请你在所有可能的子序列中找到最长的和谐子序列的长度。\n",
    "\n",
    "数组的子序列是一个由数组派生出来的序列，它可以通过删除一些元素或不删除元素、且不改变其余元素的顺序而得到。\n",
    "\n",
    "### 提示：\n",
    "\n",
    "- 1 <= nums.length <= 2 * 10^4\n",
    "- -10^9 <= nums[i] <= 10^9\n",
    "\n",
    "## 二、示例\n",
    "\n",
    "### 示例 1：\n",
    "\n",
    "输入：nums = [1,3,2,2,5,2,3,7]\n",
    "\n",
    "输出：5\n",
    "\n",
    "解释：最长的和谐子序列是 [3,2,2,2,3]\n",
    "\n",
    "### 示例 2：\n",
    "\n",
    "输入：nums = [1,2,3,4]\n",
    "\n",
    "输出：2\n",
    "\n",
    "### 示例 3：\n",
    "\n",
    "输入：nums = [1,1,1,1]\n",
    "\n",
    "输出：0\n",
    "\n",
    "## 三、解题思路\n",
    "\n",
    "### 利用字典"
   ]
  },
  {
   "cell_type": "code",
   "execution_count": 1,
   "metadata": {},
   "outputs": [],
   "source": [
    "def findLHS(nums) -> int:\n",
    "    dic = {}\n",
    "    for num in nums:\n",
    "        dic[num] = dic.get(num, 0) + 1\n",
    "    ret = 0\n",
    "    for key in dic.keys():\n",
    "        if key + 1 in dic:\n",
    "            ret = max(ret, dic[key] + dic[key+1])\n",
    "    return ret"
   ]
  },
  {
   "cell_type": "code",
   "execution_count": 2,
   "metadata": {},
   "outputs": [
    {
     "data": {
      "text/plain": [
       "5"
      ]
     },
     "execution_count": 2,
     "metadata": {},
     "output_type": "execute_result"
    }
   ],
   "source": [
    "findLHS([1,3,2,2,5,2,3,7])"
   ]
  },
  {
   "cell_type": "code",
   "execution_count": 3,
   "metadata": {},
   "outputs": [
    {
     "data": {
      "text/plain": [
       "2"
      ]
     },
     "execution_count": 3,
     "metadata": {},
     "output_type": "execute_result"
    }
   ],
   "source": [
    "findLHS([1,2,3,4])"
   ]
  },
  {
   "cell_type": "code",
   "execution_count": 4,
   "metadata": {},
   "outputs": [
    {
     "data": {
      "text/plain": [
       "0"
      ]
     },
     "execution_count": 4,
     "metadata": {},
     "output_type": "execute_result"
    }
   ],
   "source": [
    "findLHS([1,1,1,1])"
   ]
  },
  {
   "cell_type": "code",
   "execution_count": null,
   "metadata": {},
   "outputs": [],
   "source": []
  }
 ],
 "metadata": {
  "kernelspec": {
   "display_name": "Python 3",
   "language": "python",
   "name": "python3"
  },
  "language_info": {
   "codemirror_mode": {
    "name": "ipython",
    "version": 3
   },
   "file_extension": ".py",
   "mimetype": "text/x-python",
   "name": "python",
   "nbconvert_exporter": "python",
   "pygments_lexer": "ipython3",
   "version": "3.6.5"
  }
 },
 "nbformat": 4,
 "nbformat_minor": 2
}
