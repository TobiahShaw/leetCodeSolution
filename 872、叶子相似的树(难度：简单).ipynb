{
 "cells": [
  {
   "cell_type": "markdown",
   "metadata": {},
   "source": [
    "# 叶子相似的树\n",
    "\n",
    "**题目来源：力扣（LeetCode）**\n",
    "\n",
    "**链接：https://leetcode-cn.com/problems/leaf-similar-trees/**\n",
    "\n",
    "## 一、题目\n",
    "\n",
    "请考虑一棵二叉树上所有的叶子，这些叶子的值按从左到右的顺序排列形成一个 叶值序列 。\n",
    "\n",
    "如果有两棵二叉树的叶值序列是相同，那么我们就认为它们是 叶相似 的。\n",
    "\n",
    "如果给定的两个头结点分别为 root1 和 root2 的树是叶相似的，则返回 true；否则返回 false 。\n",
    "\n",
    "## 二、示例\n",
    "\n",
    "### 示例 1:\n",
    "\n",
    "输入：root1 = [3,5,1,6,2,9,8,null,null,7,4], root2 = [3,5,1,6,7,4,2,null,null,null,null,null,null,9,8]\n",
    "\n",
    "输出：true\n",
    "\n",
    "### 示例 2：\n",
    "\n",
    "输入：root1 = [1], root2 = [1]\n",
    "\n",
    "输出：true\n",
    "\n",
    "### 示例 3：\n",
    "\n",
    "输入：root1 = [1], root2 = [2]\n",
    "\n",
    "输出：false\n",
    "\n",
    "### 示例 4：\n",
    "\n",
    "输入：root1 = [1,2], root2 = [2,2]\n",
    "\n",
    "输出：true\n",
    "\n",
    "### 示例 5：\n",
    "\n",
    "输入：root1 = [1,2,3], root2 = [1,3,2]\n",
    "\n",
    "输出：false\n",
    "\n",
    "## 三、解题思路"
   ]
  },
  {
   "cell_type": "code",
   "execution_count": 1,
   "metadata": {},
   "outputs": [],
   "source": [
    "class TreeNode:\n",
    "    def __init__(self, x):\n",
    "        self.val = x\n",
    "        self.left = None\n",
    "        self.right = None"
   ]
  },
  {
   "cell_type": "code",
   "execution_count": 2,
   "metadata": {},
   "outputs": [],
   "source": [
    "root1 = TreeNode(1)\n",
    "root1.left =  TreeNode(2)\n",
    "\n",
    "root2 = TreeNode(2)\n",
    "root2.left =  TreeNode(2)"
   ]
  },
  {
   "cell_type": "markdown",
   "metadata": {},
   "source": [
    "### dfs"
   ]
  },
  {
   "cell_type": "code",
   "execution_count": 3,
   "metadata": {},
   "outputs": [],
   "source": [
    "def leafSimilar(root1: TreeNode, root2: TreeNode) -> bool:\n",
    "    def generateLeafValue(node, leaf):\n",
    "        if not node:\n",
    "            return\n",
    "        if not node.left and not node.right:\n",
    "            leaf.append(node.val)\n",
    "        generateLeafValue(node.left, leaf)\n",
    "        generateLeafValue(node.right, leaf)\n",
    "    leaf1, leaf2 = [], []\n",
    "    generateLeafValue(root1, leaf1)\n",
    "    generateLeafValue(root2, leaf2)\n",
    "    return leaf1 == leaf2"
   ]
  },
  {
   "cell_type": "code",
   "execution_count": 4,
   "metadata": {},
   "outputs": [
    {
     "data": {
      "text/plain": [
       "True"
      ]
     },
     "execution_count": 4,
     "metadata": {},
     "output_type": "execute_result"
    }
   ],
   "source": [
    "leafSimilar(root1, root2)"
   ]
  },
  {
   "cell_type": "markdown",
   "metadata": {},
   "source": [
    "### dfs 非递归"
   ]
  },
  {
   "cell_type": "code",
   "execution_count": 5,
   "metadata": {},
   "outputs": [],
   "source": [
    "def leafSimilar(root1: TreeNode, root2: TreeNode) -> bool:\n",
    "    def generateLeafValue(root):\n",
    "        res = []\n",
    "        if root == None:\n",
    "            return res\n",
    "        stk = []\n",
    "        p = root\n",
    "        while p or stk:\n",
    "            if p:\n",
    "                if p.left == None and p.right == None:  #叶节点\n",
    "                    res.append(p.val)\n",
    "                stk.append(p)\n",
    "                p = p.left\n",
    "            else:\n",
    "                p = stk.pop(-1)\n",
    "                p = p.right\n",
    "        return res\n",
    "    return generateLeafValue(root1) == generateLeafValue(root2)"
   ]
  },
  {
   "cell_type": "code",
   "execution_count": 6,
   "metadata": {},
   "outputs": [
    {
     "data": {
      "text/plain": [
       "True"
      ]
     },
     "execution_count": 6,
     "metadata": {},
     "output_type": "execute_result"
    }
   ],
   "source": [
    "leafSimilar(root1, root2)"
   ]
  },
  {
   "cell_type": "code",
   "execution_count": null,
   "metadata": {},
   "outputs": [],
   "source": []
  }
 ],
 "metadata": {
  "kernelspec": {
   "display_name": "Python 3",
   "language": "python",
   "name": "python3"
  },
  "language_info": {
   "codemirror_mode": {
    "name": "ipython",
    "version": 3
   },
   "file_extension": ".py",
   "mimetype": "text/x-python",
   "name": "python",
   "nbconvert_exporter": "python",
   "pygments_lexer": "ipython3",
   "version": "3.6.5"
  }
 },
 "nbformat": 4,
 "nbformat_minor": 2
}
