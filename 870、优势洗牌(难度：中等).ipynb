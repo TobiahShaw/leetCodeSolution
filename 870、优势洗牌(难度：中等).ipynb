{
 "cells": [
  {
   "cell_type": "markdown",
   "metadata": {},
   "source": [
    "# 优势洗牌\n",
    "\n",
    "**题目来源：力扣（LeetCode）**\n",
    "\n",
    "**链接：https://leetcode.cn/problems/advantage-shuffle/**\n",
    "\n",
    "## 一、题目\n",
    "\n",
    "给定两个大小相等的数组 nums1 和 nums2，nums1 相对于 nums 的优势可以用满足 nums1[i] > nums2[i] 的索引 i 的数目来描述。\n",
    "\n",
    "返回 nums1 的任意排列，使其相对于 nums2 的优势最大化。\n",
    "\n",
    "### 提示：\n",
    "\n",
    "- 1 <= nums1.length <= 10^5\n",
    "- nums2.length == nums1.length\n",
    "- 0 <= nums1[i], nums2[i] <= 10^9\n",
    "\n",
    "## 二、示例\n",
    "\n",
    "### 示例 1：\n",
    "\n",
    "输入：nums1 = [2,7,11,15], nums2 = [1,10,4,11]\n",
    "\n",
    "输出：[2,11,7,15]\n",
    "\n",
    "### 示例 2：\n",
    "\n",
    "输入：nums1 = [12,24,8,32], nums2 = [13,25,32,11]\n",
    "\n",
    "输出：[24,32,8,12]\n",
    "\n",
    "## 三、解题思路\n",
    "\n",
    "### 田忌赛马"
   ]
  },
  {
   "cell_type": "code",
   "execution_count": 1,
   "metadata": {},
   "outputs": [],
   "source": [
    "class Solution:\n",
    "    def advantageCount(self, nums1, nums2):\n",
    "        n = len(nums1)\n",
    "        ret = [0] * n\n",
    "        nums1.sort()\n",
    "        ids = sorted(range(n), key=lambda i: nums2[i])\n",
    "        left, right = 0, n - 1\n",
    "        for x in nums1:\n",
    "            if x > nums2[ids[left]]:\n",
    "                ret[ids[left]] = x  # 用下等马比下等马\n",
    "                left += 1\n",
    "            else:\n",
    "                ret[ids[right]] = x  # 用下等马比上等马\n",
    "                right -= 1\n",
    "        return ret"
   ]
  },
  {
   "cell_type": "code",
   "execution_count": 2,
   "metadata": {},
   "outputs": [
    {
     "data": {
      "text/plain": [
       "[2, 11, 7, 15]"
      ]
     },
     "execution_count": 2,
     "metadata": {},
     "output_type": "execute_result"
    }
   ],
   "source": [
    "s = Solution()\n",
    "s.advantageCount(nums1 = [2,7,11,15], nums2 = [1,10,4,11])"
   ]
  },
  {
   "cell_type": "code",
   "execution_count": 3,
   "metadata": {},
   "outputs": [
    {
     "data": {
      "text/plain": [
       "[24, 32, 8, 12]"
      ]
     },
     "execution_count": 3,
     "metadata": {},
     "output_type": "execute_result"
    }
   ],
   "source": [
    "s.advantageCount(nums1 = [12,24,8,32], nums2 = [13,25,32,11])"
   ]
  },
  {
   "cell_type": "code",
   "execution_count": null,
   "metadata": {},
   "outputs": [],
   "source": []
  }
 ],
 "metadata": {
  "kernelspec": {
   "display_name": "Python 3.10.4 64-bit",
   "language": "python",
   "name": "python3"
  },
  "language_info": {
   "codemirror_mode": {
    "name": "ipython",
    "version": 3
   },
   "file_extension": ".py",
   "mimetype": "text/x-python",
   "name": "python",
   "nbconvert_exporter": "python",
   "pygments_lexer": "ipython3",
   "version": "3.10.4"
  },
  "orig_nbformat": 4,
  "vscode": {
   "interpreter": {
    "hash": "4f946df053fbf2b937619d3c5458e7af74262f9a954d8797ba0b27400bcafe06"
   }
  }
 },
 "nbformat": 4,
 "nbformat_minor": 2
}
