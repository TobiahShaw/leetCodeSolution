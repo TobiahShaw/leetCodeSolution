{
 "cells": [
  {
   "cell_type": "markdown",
   "id": "bff87bcc",
   "metadata": {},
   "source": [
    "# 你能构造出连续值的最大数目\n",
    "\n",
    "**题目来源：力扣（LeetCode）**\n",
    "\n",
    "**链接：https://leetcode.cn/problems/maximum-number-of-consecutive-values-you-can-make/**\n",
    "\n",
    "## 一、题目\n",
    "\n",
    "给你一个长度为 n 的整数数组 coins ，它代表你拥有的 n 个硬币。第 i 个硬币的值为 coins[i] 。如果你从这些硬币中选出一部分硬币，它们的和为 x ，那么称，你可以 构造 出 x 。\n",
    "\n",
    "请返回从 0 开始（包括 0 ），你最多能 构造 出多少个连续整数。\n",
    "\n",
    "你可能有多个相同值的硬币。\n",
    "\n",
    "### 提示：\n",
    "\n",
    "- coins.length == n\n",
    "- 1 <= n <= 4 * 10^4\n",
    "- 1 <= coins[i] <= 4 * 10^4\n",
    "\n",
    "## 二、示例\n",
    "\n",
    "### 示例 1：\n",
    "\n",
    "输入：coins = [1,3]\n",
    "\n",
    "输出：2\n",
    "\n",
    "解释：你可以得到以下这些值：\n",
    "\n",
    "- 0：什么都不取 []\n",
    "- 1：取 [1]\n",
    "\n",
    "从 0 开始，你可以构造出 2 个连续整数。\n",
    "\n",
    "### 示例 2：\n",
    "\n",
    "输入：coins = [1,1,1,4]\n",
    "\n",
    "输出：8\n",
    "\n",
    "解释：你可以得到以下这些值：\n",
    "\n",
    "- 0：什么都不取 []\n",
    "- 1：取 [1]\n",
    "- 2：取 [1,1]\n",
    "- 3：取 [1,1,1]\n",
    "- 4：取 [4]\n",
    "- 5：取 [4,1]\n",
    "- 6：取 [4,1,1]\n",
    "- 7：取 [4,1,1,1]\n",
    "\n",
    "从 0 开始，你可以构造出 8 个连续整数。\n",
    "\n",
    "## 三、解题思路\n",
    "\n",
    "### 贪心"
   ]
  },
  {
   "cell_type": "code",
   "execution_count": 1,
   "id": "71446990",
   "metadata": {},
   "outputs": [],
   "source": [
    "class Solution:\n",
    "    def getMaximumConsecutive(self, coins) -> int:\n",
    "        coins.sort()\n",
    "        ret = 1\n",
    "        for i in coins:\n",
    "            if i > ret:\n",
    "                break\n",
    "            ret += i\n",
    "        return ret"
   ]
  },
  {
   "cell_type": "code",
   "execution_count": 2,
   "id": "4c2c3a27",
   "metadata": {},
   "outputs": [
    {
     "data": {
      "text/plain": [
       "2"
      ]
     },
     "execution_count": 2,
     "metadata": {},
     "output_type": "execute_result"
    }
   ],
   "source": [
    "s = Solution()\n",
    "s.getMaximumConsecutive([1, 3])"
   ]
  },
  {
   "cell_type": "code",
   "execution_count": 3,
   "id": "c762969b",
   "metadata": {},
   "outputs": [
    {
     "data": {
      "text/plain": [
       "8"
      ]
     },
     "execution_count": 3,
     "metadata": {},
     "output_type": "execute_result"
    }
   ],
   "source": [
    "s.getMaximumConsecutive([1, 1, 1, 4])"
   ]
  },
  {
   "cell_type": "code",
   "execution_count": null,
   "id": "c14c3e26",
   "metadata": {},
   "outputs": [],
   "source": []
  }
 ],
 "metadata": {
  "kernelspec": {
   "display_name": "Python 3 (ipykernel)",
   "language": "python",
   "name": "python3"
  },
  "language_info": {
   "codemirror_mode": {
    "name": "ipython",
    "version": 3
   },
   "file_extension": ".py",
   "mimetype": "text/x-python",
   "name": "python",
   "nbconvert_exporter": "python",
   "pygments_lexer": "ipython3",
   "version": "3.11.0"
  }
 },
 "nbformat": 4,
 "nbformat_minor": 5
}
