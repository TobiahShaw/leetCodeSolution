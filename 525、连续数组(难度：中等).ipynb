{
 "cells": [
  {
   "cell_type": "markdown",
   "metadata": {},
   "source": [
    "# 连续数组\n",
    "\n",
    "**题目来源：力扣（LeetCode）**\n",
    "\n",
    "**链接：https://leetcode-cn.com/problems/contiguous-array/**\n",
    "\n",
    "## 一、题目\n",
    "\n",
    "给定一个二进制数组 nums , 找到含有相同数量的 0 和 1 的最长连续子数组，并返回该子数组的长度。\n",
    "\n",
    "### 提示：\n",
    "\n",
    "- 1 <= nums.length <= 105\n",
    "- nums[i] 不是 0 就是 1\n",
    "\n",
    "## 二、示例\n",
    "\n",
    "### 示例 1：\n",
    "\n",
    "输入: nums = [0,1]\n",
    "\n",
    "输出: 2\n",
    "\n",
    "说明: [0, 1] 是具有相同数量0和1的最长连续子数组。\n",
    "\n",
    "### 示例 2:\n",
    "\n",
    "输入: nums = [0,1,0]\n",
    "\n",
    "输出: 2\n",
    "\n",
    "说明: [0, 1] (或 [1, 0]) 是具有相同数量0和1的最长连续子数组。\n",
    "\n",
    "## 三、解题思路\n",
    "\n",
    "### 前缀和"
   ]
  },
  {
   "cell_type": "code",
   "execution_count": 1,
   "metadata": {},
   "outputs": [],
   "source": [
    "def findMaxLength(nums) -> int:\n",
    "    prefixsum = [0]\n",
    "    for num in nums:\n",
    "        if num == 0: \n",
    "            num = -1\n",
    "        prefixsum.append(prefixsum[-1] + num)\n",
    "    h = {}  # 存储相同前缀和首次出现的位置\n",
    "    res = 0\n",
    "    for i in range(len(prefixsum)):\n",
    "        if prefixsum[i] in h:\n",
    "            res = max(res, i-h[prefixsum[i]])\n",
    "        else:\n",
    "            h[prefixsum[i]] = i\n",
    "    return res"
   ]
  },
  {
   "cell_type": "code",
   "execution_count": 2,
   "metadata": {},
   "outputs": [
    {
     "data": {
      "text/plain": [
       "2"
      ]
     },
     "execution_count": 2,
     "metadata": {},
     "output_type": "execute_result"
    }
   ],
   "source": [
    "findMaxLength([0,1])"
   ]
  },
  {
   "cell_type": "code",
   "execution_count": 3,
   "metadata": {},
   "outputs": [
    {
     "data": {
      "text/plain": [
       "2"
      ]
     },
     "execution_count": 3,
     "metadata": {},
     "output_type": "execute_result"
    }
   ],
   "source": [
    "findMaxLength([0,1,0])"
   ]
  },
  {
   "cell_type": "code",
   "execution_count": null,
   "metadata": {},
   "outputs": [],
   "source": []
  }
 ],
 "metadata": {
  "kernelspec": {
   "display_name": "Python 3",
   "language": "python",
   "name": "python3"
  },
  "language_info": {
   "codemirror_mode": {
    "name": "ipython",
    "version": 3
   },
   "file_extension": ".py",
   "mimetype": "text/x-python",
   "name": "python",
   "nbconvert_exporter": "python",
   "pygments_lexer": "ipython3",
   "version": "3.6.5"
  }
 },
 "nbformat": 4,
 "nbformat_minor": 2
}
