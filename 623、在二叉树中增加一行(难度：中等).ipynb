{
 "cells": [
  {
   "cell_type": "markdown",
   "metadata": {},
   "source": [
    "# 在二叉树中增加一行\n",
    "\n",
    "**题目来源：力扣（LeetCode）**\n",
    "\n",
    "**链接：https://leetcode.cn/problems/add-one-row-to-tree/**\n",
    "\n",
    "## 一、题目\n",
    "\n",
    "给定一个二叉树的根 root 和两个整数 val 和 depth ，在给定的深度 depth 处添加一个值为 val 的节点行。\n",
    "\n",
    "注意，根节点 root 位于深度 1 。\n",
    "\n",
    "加法规则如下:\n",
    "\n",
    "- 给定整数 depth，对于深度为 depth - 1 的每个非空树节点 cur ，创建两个值为 val 的树节点作为 cur 的左子树根和右子树根。\n",
    "- cur 原来的左子树应该是新的左子树根的左子树。\n",
    "- cur 原来的右子树应该是新的右子树根的右子树。\n",
    "- 如果 depth == 1 意味着 depth - 1 根本没有深度，那么创建一个树节点，值 val 作为整个原始树的新根，而原始树就是新根的左子树。\n",
    "\n",
    "### 提示:\n",
    "\n",
    "- 节点数在 [1, 104] 范围内\n",
    "- 树的深度在 [1, 104]范围内\n",
    "- -100 <= Node.val <= 100\n",
    "- -10^5 <= val <= 10^5\n",
    "- 1 <= depth <= the depth of tree + 1\n",
    "\n",
    "## 二、示例\n",
    "\n",
    "### 示例 1：\n",
    "\n",
    "输入: root = [4,2,6,3,1,5], val = 1, depth = 2\n",
    "\n",
    "输出: [4,1,1,2,null,null,6,3,1,5]\n",
    "\n",
    "### 示例 2:\n",
    "\n",
    "输入: root = [4,2,null,3,1], val = 1, depth = 3\n",
    "\n",
    "输出:  [4,2,null,1,1,3,null,null,1]\n",
    "\n",
    "## 三、解题思路\n",
    "\n",
    "### 一、DFS"
   ]
  },
  {
   "cell_type": "code",
   "execution_count": 1,
   "metadata": {},
   "outputs": [],
   "source": [
    "class TreeNode:\n",
    "    def __init__(self, val=0, left=None, right=None):\n",
    "        self.val = val\n",
    "        self.left = left\n",
    "        self.right = right\n",
    "\n",
    "def addOneRow(root, val: int, depth: int):\n",
    "    if depth == 1:\n",
    "        return TreeNode(val, left = root)\n",
    "    def dfs(node, d):\n",
    "        if not node:\n",
    "            return\n",
    "        if d == depth - 1:\n",
    "            orig_l = node.left\n",
    "            orig_r = node.right\n",
    "            node.left = TreeNode(val)\n",
    "            node.left.left = orig_l\n",
    "            node.right = TreeNode(val)\n",
    "            node.right.right = orig_r\n",
    "            return\n",
    "        dfs(node.left, d+1)\n",
    "        dfs(node.right, d+1)\n",
    "    dfs(root, 1)\n",
    "    return root"
   ]
  },
  {
   "cell_type": "code",
   "execution_count": null,
   "metadata": {},
   "outputs": [],
   "source": []
  }
 ],
 "metadata": {
  "kernelspec": {
   "display_name": "Python 3.10.4 64-bit",
   "language": "python",
   "name": "python3"
  },
  "language_info": {
   "codemirror_mode": {
    "name": "ipython",
    "version": 3
   },
   "file_extension": ".py",
   "mimetype": "text/x-python",
   "name": "python",
   "nbconvert_exporter": "python",
   "pygments_lexer": "ipython3",
   "version": "3.10.4"
  },
  "orig_nbformat": 4,
  "vscode": {
   "interpreter": {
    "hash": "4f946df053fbf2b937619d3c5458e7af74262f9a954d8797ba0b27400bcafe06"
   }
  }
 },
 "nbformat": 4,
 "nbformat_minor": 2
}
