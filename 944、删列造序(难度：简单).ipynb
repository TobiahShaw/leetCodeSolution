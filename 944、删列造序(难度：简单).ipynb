{
 "cells": [
  {
   "cell_type": "markdown",
   "metadata": {},
   "source": [
    "# 删列造序\n",
    "\n",
    "**题目来源：力扣（LeetCode）**\n",
    "\n",
    "**链接：https://leetcode-cn.com/problems/delete-columns-to-make-sorted/**\n",
    "\n",
    "## 一、题目\n",
    "\n",
    "给你由 n 个小写字母字符串组成的数组 strs，其中每个字符串长度相等。\n",
    "\n",
    "这些字符串可以每个一行，排成一个网格。例如，strs = [\"abc\", \"bce\", \"cae\"] 可以排列为：\n",
    "\n",
    "```\n",
    "abc\n",
    "bce\n",
    "cae\n",
    "```\n",
    "\n",
    "你需要找出并删除 不是按字典序升序排列的 列。在上面的例子（下标从 0 开始）中，列 0（'a', 'b', 'c'）和列 2（'c', 'e', 'e'）都是按升序排列的，而列 1（'b', 'c', 'a'）不是，所以要删除列 1 。\n",
    "\n",
    "返回你需要删除的列数。\n",
    "\n",
    "### 提示：\n",
    "\n",
    "- n == strs.length\n",
    "- 1 <= n <= 100\n",
    "- 1 <= strs[i].length <= 1000\n",
    "- strs[i] 由小写英文字母组成\n",
    "\n",
    "## 二、示例\n",
    "\n",
    "### 示例 1：\n",
    "\n",
    "输入：strs = [\"cba\",\"daf\",\"ghi\"]\n",
    "\n",
    "输出：1\n",
    "\n",
    "解释：网格示意如下：\n",
    "\n",
    "```\n",
    "  cba\n",
    "  daf\n",
    "  ghi\n",
    "```\n",
    "\n",
    "列 0 和列 2 按升序排列，但列 1 不是，所以只需要删除列 1 。\n",
    "\n",
    "### 示例 2：\n",
    "\n",
    "输入：strs = [\"a\",\"b\"]\n",
    "\n",
    "输出：0\n",
    "\n",
    "解释：网格示意如下：\n",
    "\n",
    "```\n",
    "  a\n",
    "  b\n",
    "```\n",
    "\n",
    "只有列 0 这一列，且已经按升序排列，所以不用删除任何列。\n",
    "\n",
    "### 示例 3：\n",
    "\n",
    "输入：strs = [\"zyx\",\"wvu\",\"tsr\"]\n",
    "\n",
    "输出：3\n",
    "\n",
    "解释：网格示意如下：\n",
    "\n",
    "```\n",
    "  zyx\n",
    "  wvu\n",
    "  tsr\n",
    "```\n",
    "\n",
    "所有 3 列都是非升序排列的，所以都要删除。\n",
    "\n",
    "## 三、解题思路\n",
    "\n",
    "### 模拟过程"
   ]
  },
  {
   "cell_type": "code",
   "execution_count": 1,
   "metadata": {},
   "outputs": [],
   "source": [
    "def minDeletionSize(A) -> int:\n",
    "    m, n = len(A), len(A[0])\n",
    "    ret = 0\n",
    "    for col in range(n):\n",
    "        pre = None\n",
    "        for row in range(m):\n",
    "            cur = A[row][col]\n",
    "            if not pre:\n",
    "                pre = cur\n",
    "            elif ord(cur) < ord(pre):\n",
    "                ret += 1\n",
    "                break\n",
    "            else:\n",
    "                pre = cur\n",
    "    return ret"
   ]
  },
  {
   "cell_type": "code",
   "execution_count": 2,
   "metadata": {},
   "outputs": [
    {
     "data": {
      "text/plain": [
       "1"
      ]
     },
     "execution_count": 2,
     "metadata": {},
     "output_type": "execute_result"
    }
   ],
   "source": [
    "minDeletionSize([\"cba\",\"daf\",\"ghi\"])"
   ]
  },
  {
   "cell_type": "code",
   "execution_count": 3,
   "metadata": {},
   "outputs": [
    {
     "data": {
      "text/plain": [
       "0"
      ]
     },
     "execution_count": 3,
     "metadata": {},
     "output_type": "execute_result"
    }
   ],
   "source": [
    "minDeletionSize([\"a\",\"b\"])"
   ]
  },
  {
   "cell_type": "code",
   "execution_count": 4,
   "metadata": {},
   "outputs": [
    {
     "data": {
      "text/plain": [
       "3"
      ]
     },
     "execution_count": 4,
     "metadata": {},
     "output_type": "execute_result"
    }
   ],
   "source": [
    "minDeletionSize([\"zyx\",\"wvu\",\"tsr\"])"
   ]
  },
  {
   "cell_type": "code",
   "execution_count": null,
   "metadata": {},
   "outputs": [],
   "source": []
  }
 ],
 "metadata": {
  "kernelspec": {
   "display_name": "Python 3",
   "language": "python",
   "name": "python3"
  },
  "language_info": {
   "codemirror_mode": {
    "name": "ipython",
    "version": 3
   },
   "file_extension": ".py",
   "mimetype": "text/x-python",
   "name": "python",
   "nbconvert_exporter": "python",
   "pygments_lexer": "ipython3",
   "version": "3.6.5"
  }
 },
 "nbformat": 4,
 "nbformat_minor": 2
}
