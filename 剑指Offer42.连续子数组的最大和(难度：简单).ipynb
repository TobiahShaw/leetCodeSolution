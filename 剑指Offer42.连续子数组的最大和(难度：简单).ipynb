{
 "cells": [
  {
   "cell_type": "markdown",
   "metadata": {},
   "source": [
    "# 连续子数组的最大和\n",
    "\n",
    "**题目来源：力扣（LeetCode）**\n",
    "\n",
    "**链接：https://leetcode-cn.com/problems/lian-xu-zi-shu-zu-de-zui-da-he-lcof/**\n",
    "\n",
    "## 一、题目\n",
    "\n",
    "输入一个整型数组，数组中的一个或连续多个整数组成一个子数组。求所有子数组的和的最大值。\n",
    "\n",
    "要求时间复杂度为O(n)。\n",
    "\n",
    "### 提示：\n",
    "\n",
    "- 1 <= arr.length <= 10^5\n",
    "- -100 <= arr[i] <= 100\n",
    "\n",
    "## 二、示例\n",
    "\n",
    "输入: nums = [-2,1,-3,4,-1,2,1,-5,4]\n",
    "\n",
    "输出: 6\n",
    "\n",
    "解释: 连续子数组 [4,-1,2,1] 的和最大，为 6。\n",
    "\n",
    "## 三、解题思路\n",
    "\n",
    "### 一、dp\n",
    "\n",
    "- dp[i]代表以nums[i]结尾的连续子数组最大和\n",
    "- 初始状态dp[0]是nums[0]\n",
    "- 状态转移为当以nums[i-1]为结尾的连续子数组最大和（即dp[i-1]）大于0则，dp[i] = dp[i-1] + nums[i]，当小于等于0时则dp[i] = nums[i]"
   ]
  },
  {
   "cell_type": "code",
   "execution_count": 1,
   "metadata": {},
   "outputs": [],
   "source": [
    "def maxSubArray(nums) -> int:\n",
    "    dp = []\n",
    "    dp.append(nums[0])\n",
    "    ret = dp[0]\n",
    "    for i in range(1, len(nums)):\n",
    "        dp.append(max(nums[i], dp[i-1] + nums[i]))\n",
    "        if dp[-1] > ret:\n",
    "            ret = dp[-1]\n",
    "    return ret"
   ]
  },
  {
   "cell_type": "code",
   "execution_count": 2,
   "metadata": {},
   "outputs": [
    {
     "data": {
      "text/plain": [
       "6"
      ]
     },
     "execution_count": 2,
     "metadata": {},
     "output_type": "execute_result"
    }
   ],
   "source": [
    "maxSubArray([-2,1,-3,4,-1,2,1,-5,4])"
   ]
  },
  {
   "cell_type": "markdown",
   "metadata": {},
   "source": [
    "### 二、dp+滚动变量\n",
    "\n",
    "我们发现dp[i]之和dp[i-1]和nums[i]有关，则可以不使用dp数组"
   ]
  },
  {
   "cell_type": "code",
   "execution_count": 3,
   "metadata": {},
   "outputs": [],
   "source": [
    "def maxSubArray(nums) -> int:\n",
    "    foo = nums[0]\n",
    "    ret = foo\n",
    "    for i in range(1, len(nums)):\n",
    "        foo = max(nums[i], foo + nums[i])\n",
    "        if foo > ret:\n",
    "            ret = foo\n",
    "    return ret"
   ]
  },
  {
   "cell_type": "code",
   "execution_count": 4,
   "metadata": {},
   "outputs": [
    {
     "data": {
      "text/plain": [
       "6"
      ]
     },
     "execution_count": 4,
     "metadata": {},
     "output_type": "execute_result"
    }
   ],
   "source": [
    "maxSubArray([-2,1,-3,4,-1,2,1,-5,4])"
   ]
  },
  {
   "cell_type": "code",
   "execution_count": null,
   "metadata": {},
   "outputs": [],
   "source": []
  }
 ],
 "metadata": {
  "kernelspec": {
   "display_name": "Python 3",
   "language": "python",
   "name": "python3"
  },
  "language_info": {
   "codemirror_mode": {
    "name": "ipython",
    "version": 3
   },
   "file_extension": ".py",
   "mimetype": "text/x-python",
   "name": "python",
   "nbconvert_exporter": "python",
   "pygments_lexer": "ipython3",
   "version": "3.6.5"
  }
 },
 "nbformat": 4,
 "nbformat_minor": 2
}
