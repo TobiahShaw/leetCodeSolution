{
 "cells": [
  {
   "cell_type": "markdown",
   "metadata": {},
   "source": [
    "# 重构2行二进制矩阵\n",
    "\n",
    "**题目来源：力扣（LeetCode）**\n",
    "\n",
    "**链接：https://leetcode-cn.com/problems/reconstruct-a-2-row-binary-matrix/**\n",
    "\n",
    "## 一、题目\n",
    "\n",
    "给你一个 2 行 n 列的二进制数组：\n",
    "\n",
    "- 矩阵是一个二进制矩阵，这意味着矩阵中的每个元素不是 0 就是 1。\n",
    "- 第 0 行的元素之和为 upper。\n",
    "- 第 1 行的元素之和为 lower。\n",
    "- 第 i 列（从 0 开始编号）的元素之和为 colsum[i]，colsum 是一个长度为 n 的整数数组。\n",
    "\n",
    "你需要利用 upper，lower 和 colsum 来重构这个矩阵，并以二维整数数组的形式返回它。\n",
    "\n",
    "如果有多个不同的答案，那么任意一个都可以通过本题。\n",
    "\n",
    "如果不存在符合要求的答案，就请返回一个空的二维数组。\n",
    "\n",
    "### 提示：\n",
    "\n",
    "- 1 <= colsum.length <= 10^5\n",
    "- 0 <= upper, lower <= colsum.length\n",
    "- 0 <= colsum[i] <= 2\n",
    "\n",
    "## 二、示例\n",
    "\n",
    "### 示例 1：\n",
    "\n",
    "输入：upper = 2, lower = 1, colsum = [1,1,1]\n",
    "\n",
    "输出：[[1,1,0],[0,0,1]]\n",
    "\n",
    "解释：[[1,0,1],[0,1,0]] 和 [[0,1,1],[1,0,0]] 也是正确答案。\n",
    "\n",
    "### 示例 2：\n",
    "\n",
    "输入：upper = 2, lower = 3, colsum = [2,2,1,1]\n",
    "\n",
    "输出：[]\n",
    "\n",
    "### 示例 3：\n",
    "\n",
    "输入：upper = 5, lower = 5, colsum = [2,1,2,0,1,0,1,2,0,1]\n",
    "\n",
    "输出：[[1,1,1,0,1,0,0,1,0,0],[1,0,1,0,0,0,1,1,0,1]]\n",
    "\n",
    "## 三、解题思路\n",
    "\n",
    "### 贪心"
   ]
  },
  {
   "cell_type": "code",
   "execution_count": 1,
   "metadata": {},
   "outputs": [],
   "source": [
    "def reconstructMatrix(upper: int, lower: int, colsum):\n",
    "    n = len(colsum)\n",
    "    count0, count1, count2 = 0, 0, 0\n",
    "    for i in colsum:\n",
    "        if i == 0:\n",
    "            count0 += 1\n",
    "        elif i == 1:\n",
    "            count1 += 1\n",
    "        elif i == 2:\n",
    "            count2 += 1\n",
    "        else:\n",
    "            return []\n",
    "    only_up_one = upper - count2\n",
    "    only_low_one = lower - count2\n",
    "    if only_low_one < 0 or only_low_one < 0 or count1 != only_up_one + only_low_one:\n",
    "        return []\n",
    "    up, low = [0] * n, [0] * n\n",
    "    for i in range(n):\n",
    "        if colsum[i] == 2:\n",
    "            up[i] = 1\n",
    "            low[i] = 1\n",
    "        elif colsum[i] == 0:\n",
    "            continue\n",
    "        else:\n",
    "            if only_up_one > 0:\n",
    "                only_up_one -= 1\n",
    "                up[i] = 1\n",
    "            else:\n",
    "                only_low_one -= 1\n",
    "                low[i] = 1\n",
    "    return [up, low]"
   ]
  },
  {
   "cell_type": "code",
   "execution_count": 2,
   "metadata": {},
   "outputs": [
    {
     "data": {
      "text/plain": [
       "[[1, 1, 0], [0, 0, 1]]"
      ]
     },
     "execution_count": 2,
     "metadata": {},
     "output_type": "execute_result"
    }
   ],
   "source": [
    "reconstructMatrix(upper = 2, lower = 1, colsum = [1,1,1])"
   ]
  },
  {
   "cell_type": "code",
   "execution_count": 3,
   "metadata": {},
   "outputs": [
    {
     "data": {
      "text/plain": [
       "[]"
      ]
     },
     "execution_count": 3,
     "metadata": {},
     "output_type": "execute_result"
    }
   ],
   "source": [
    "reconstructMatrix(upper = 2, lower = 3, colsum = [2,2,1,1])"
   ]
  },
  {
   "cell_type": "code",
   "execution_count": 4,
   "metadata": {},
   "outputs": [
    {
     "data": {
      "text/plain": [
       "[[1, 1, 1, 0, 1, 0, 0, 1, 0, 0], [1, 0, 1, 0, 0, 0, 1, 1, 0, 1]]"
      ]
     },
     "execution_count": 4,
     "metadata": {},
     "output_type": "execute_result"
    }
   ],
   "source": [
    "reconstructMatrix(upper = 5, lower = 5, colsum = [2,1,2,0,1,0,1,2,0,1])"
   ]
  },
  {
   "cell_type": "code",
   "execution_count": null,
   "metadata": {},
   "outputs": [],
   "source": []
  }
 ],
 "metadata": {
  "kernelspec": {
   "display_name": "Python 3",
   "language": "python",
   "name": "python3"
  },
  "language_info": {
   "codemirror_mode": {
    "name": "ipython",
    "version": 3
   },
   "file_extension": ".py",
   "mimetype": "text/x-python",
   "name": "python",
   "nbconvert_exporter": "python",
   "pygments_lexer": "ipython3",
   "version": "3.6.5"
  }
 },
 "nbformat": 4,
 "nbformat_minor": 2
}
