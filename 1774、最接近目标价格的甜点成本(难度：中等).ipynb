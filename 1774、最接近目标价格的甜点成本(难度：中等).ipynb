{
 "cells": [
  {
   "cell_type": "markdown",
   "id": "fa6dbc62",
   "metadata": {},
   "source": [
    "# 最接近目标价格的甜点成本\n",
    "\n",
    "**题目来源：力扣（LeetCode）**\n",
    "\n",
    "**链接：https://leetcode.cn/problems/closest-dessert-cost/**\n",
    "\n",
    "## 一、题目\n",
    "\n",
    "你打算做甜点，现在需要购买配料。目前共有 n 种冰激凌基料和 m 种配料可供选购。而制作甜点需要遵循以下几条规则：\n",
    "\n",
    "- 必须选择 一种 冰激凌基料。\n",
    "- 可以添加 一种或多种 配料，也可以不添加任何配料。\n",
    "- 每种类型的配料 最多两份 。\n",
    "\n",
    "给你以下三个输入：\n",
    "\n",
    "- baseCosts ，一个长度为 n 的整数数组，其中每个 baseCosts[i] 表示第 i 种冰激凌基料的价格。\n",
    "- toppingCosts，一个长度为 m 的整数数组，其中每个 toppingCosts[i] 表示 一份 第 i 种冰激凌配料的价格。\n",
    "- target ，一个整数，表示你制作甜点的目标价格。\n",
    "\n",
    "你希望自己做的甜点总成本尽可能接近目标价格 target 。\n",
    "\n",
    "返回最接近 target 的甜点成本。如果有多种方案，返回 成本相对较低 的一种。\n",
    "\n",
    "### 提示：\n",
    "\n",
    "- n == baseCosts.length\n",
    "- m == toppingCosts.length\n",
    "- 1 <= n, m <= 10\n",
    "- 1 <= baseCosts[i], toppingCosts[i] <= 10^4\n",
    "- 1 <= target <= 10^4\n",
    "\n",
    "## 二、示例\n",
    "\n",
    "### 示例 1：\n",
    "\n",
    "输入：baseCosts = [1,7], toppingCosts = [3,4], target = 10\n",
    "\n",
    "输出：10\n",
    "\n",
    "解释：考虑下面的方案组合（所有下标均从 0 开始）：\n",
    "\n",
    "- 选择 1 号基料：成本 7\n",
    "- 选择 1 份 0 号配料：成本 1 x 3 = 3\n",
    "- 选择 0 份 1 号配料：成本 0 x 4 = 0\n",
    "\n",
    "总成本：7 + 3 + 0 = 10 。\n",
    "\n",
    "### 示例 2：\n",
    "\n",
    "输入：baseCosts = [2,3], toppingCosts = [4,5,100], target = 18\n",
    "\n",
    "输出：17\n",
    "\n",
    "解释：考虑下面的方案组合（所有下标均从 0 开始）：\n",
    "\n",
    "- 选择 1 号基料：成本 3\n",
    "- 选择 1 份 0 号配料：成本 1 x 4 = 4\n",
    "- 选择 2 份 1 号配料：成本 2 x 5 = 10\n",
    "- 选择 0 份 2 号配料：成本 0 x 100 = 0\n",
    "\n",
    "总成本：3 + 4 + 10 + 0 = 17 。不存在总成本为 18 的甜点制作方案。\n",
    "\n",
    "### 示例 3：\n",
    "\n",
    "输入：baseCosts = [3,10], toppingCosts = [2,5], target = 9\n",
    "\n",
    "输出：8\n",
    "\n",
    "解释：可以制作总成本为 8 和 10 的甜点。返回 8 ，因为这是成本更低的方案。\n",
    "\n",
    "### 示例 4：\n",
    "\n",
    "输入：baseCosts = [10], toppingCosts = [1], target = 1\n",
    "\n",
    "输出：10\n",
    "\n",
    "解释：注意，你可以选择不添加任何配料，但你必须选择一种基料。\n",
    "\n",
    "## 三、解题思路\n",
    "\n",
    "### 回溯"
   ]
  },
  {
   "cell_type": "code",
   "execution_count": 1,
   "id": "64a0f1f3",
   "metadata": {},
   "outputs": [],
   "source": [
    "class Solution:\n",
    "    def closestCost(self, baseCosts, toppingCosts, target: int) -> int:\n",
    "        ret = min(baseCosts)\n",
    "        def dfs(p: int, cur_cost: int) -> None:\n",
    "            nonlocal ret\n",
    "            if abs(ret - target) < cur_cost - target:\n",
    "                return\n",
    "            if abs(ret - target) >= abs(cur_cost - target):\n",
    "                if abs(ret - target) > abs(cur_cost - target):\n",
    "                    ret = cur_cost\n",
    "                else:\n",
    "                    ret = min(ret, cur_cost)\n",
    "            if p == len(toppingCosts):\n",
    "                return\n",
    "            dfs(p + 1, cur_cost + toppingCosts[p] * 2)\n",
    "            dfs(p + 1, cur_cost + toppingCosts[p])\n",
    "            dfs(p + 1, cur_cost)\n",
    "        for c in baseCosts:\n",
    "            dfs(0, c)\n",
    "        return ret"
   ]
  },
  {
   "cell_type": "code",
   "execution_count": 2,
   "id": "094085a8",
   "metadata": {},
   "outputs": [
    {
     "data": {
      "text/plain": [
       "10"
      ]
     },
     "execution_count": 2,
     "metadata": {},
     "output_type": "execute_result"
    }
   ],
   "source": [
    "s = Solution()\n",
    "s.closestCost([1,7], [3,4], 10)"
   ]
  },
  {
   "cell_type": "code",
   "execution_count": 3,
   "id": "f26ec58f",
   "metadata": {},
   "outputs": [
    {
     "data": {
      "text/plain": [
       "17"
      ]
     },
     "execution_count": 3,
     "metadata": {},
     "output_type": "execute_result"
    }
   ],
   "source": [
    "s.closestCost([2,3], [4,5,100], 18)"
   ]
  },
  {
   "cell_type": "code",
   "execution_count": 4,
   "id": "d0776d96",
   "metadata": {},
   "outputs": [
    {
     "data": {
      "text/plain": [
       "8"
      ]
     },
     "execution_count": 4,
     "metadata": {},
     "output_type": "execute_result"
    }
   ],
   "source": [
    "s.closestCost([3,10], [2,5], 9)"
   ]
  },
  {
   "cell_type": "code",
   "execution_count": 5,
   "id": "515a4b38",
   "metadata": {},
   "outputs": [
    {
     "data": {
      "text/plain": [
       "10"
      ]
     },
     "execution_count": 5,
     "metadata": {},
     "output_type": "execute_result"
    }
   ],
   "source": [
    "s.closestCost([10], [1], 1)"
   ]
  },
  {
   "cell_type": "code",
   "execution_count": null,
   "id": "e83eda9c",
   "metadata": {},
   "outputs": [],
   "source": []
  }
 ],
 "metadata": {
  "kernelspec": {
   "display_name": "Python 3 (ipykernel)",
   "language": "python",
   "name": "python3"
  },
  "language_info": {
   "codemirror_mode": {
    "name": "ipython",
    "version": 3
   },
   "file_extension": ".py",
   "mimetype": "text/x-python",
   "name": "python",
   "nbconvert_exporter": "python",
   "pygments_lexer": "ipython3",
   "version": "3.9.10+"
  }
 },
 "nbformat": 4,
 "nbformat_minor": 5
}
