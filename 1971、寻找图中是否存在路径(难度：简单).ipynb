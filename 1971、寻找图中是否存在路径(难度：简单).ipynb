{
 "cells": [
  {
   "cell_type": "markdown",
   "id": "f49f4de6",
   "metadata": {},
   "source": [
    "# 寻找图中是否存在路径\n",
    "\n",
    "**题目来源：力扣（LeetCode）**\n",
    "\n",
    "**链接：https://leetcode.cn/problems/find-if-path-exists-in-graph/**\n",
    "\n",
    "## 一、题目\n",
    "\n",
    "有一个具有 n 个顶点的 双向 图，其中每个顶点标记从 0 到 n - 1（包含 0 和 n - 1）。图中的边用一个二维整数数组 edges 表示，其中 edges[i] = [ui, vi] 表示顶点 ui 和顶点 vi 之间的双向边。 每个顶点对由 最多一条 边连接，并且没有顶点存在与自身相连的边。\n",
    "\n",
    "请你确定是否存在从顶点 source 开始，到顶点 destination 结束的 有效路径 。\n",
    "\n",
    "给你数组 edges 和整数 n、source 和 destination，如果从 source 到 destination 存在 有效路径 ，则返回 true，否则返回 false 。\n",
    "\n",
    "### 提示：\n",
    "\n",
    "- 1 <= n <= 2 * 10^5\n",
    "- 0 <= edges.length <= 2 * 10^5\n",
    "- edges[i].length == 2\n",
    "- 0 <= ui, vi <= n - 1\n",
    "- ui != vi\n",
    "- 0 <= source, destination <= n - 1\n",
    "- 不存在重复边\n",
    "- 不存在指向顶点自身的边\n",
    "\n",
    "## 二、示例\n",
    "\n",
    "### 示例 1：\n",
    "\n",
    "输入：n = 3, edges = [[0,1],[1,2],[2,0]], source = 0, destination = 2\n",
    "\n",
    "输出：true\n",
    "\n",
    "解释：存在由顶点 0 到顶点 2 的路径:\n",
    "\n",
    "- 0 → 1 → 2 \n",
    "- 0 → 2\n",
    "\n",
    "### 示例 2：\n",
    "\n",
    "输入：n = 6, edges = [[0,1],[0,2],[3,5],[5,4],[4,3]], source = 0, destination = 5\n",
    "\n",
    "输出：false\n",
    "\n",
    "解释：不存在由顶点 0 到顶点 5 的路径.\n",
    "\n",
    "## 三、解题思路\n",
    "\n",
    "### 一、DFS"
   ]
  },
  {
   "cell_type": "code",
   "execution_count": 1,
   "id": "4c883223",
   "metadata": {},
   "outputs": [],
   "source": [
    "class Solution:\n",
    "    def validPath(self, n: int, edges, source: int, destination: int) -> bool:\n",
    "        visited = set()\n",
    "        dic = {}\n",
    "        for edge in edges:\n",
    "            if edge[0] in dic:\n",
    "                dic[edge[0]].append(edge[1])\n",
    "            else:\n",
    "                dic[edge[0]] = [edge[1]]\n",
    "            if edge[1] in dic:\n",
    "                dic[edge[1]].append(edge[0])\n",
    "            else:\n",
    "                dic[edge[1]] = [edge[0]]\n",
    "        def dfs(cur, visited):\n",
    "            if cur in visited:\n",
    "                return\n",
    "            visited.add(cur)\n",
    "            if cur not in dic:\n",
    "                return\n",
    "            for node in dic[cur]:\n",
    "                dfs(node, visited)\n",
    "        dfs(source, visited)\n",
    "        return destination in visited"
   ]
  },
  {
   "cell_type": "code",
   "execution_count": 2,
   "id": "8ccd467e",
   "metadata": {},
   "outputs": [
    {
     "data": {
      "text/plain": [
       "True"
      ]
     },
     "execution_count": 2,
     "metadata": {},
     "output_type": "execute_result"
    }
   ],
   "source": [
    "s = Solution()\n",
    "s.validPath(n = 3, edges = [[0,1],[1,2],[2,0]], source = 0, destination = 2)"
   ]
  },
  {
   "cell_type": "code",
   "execution_count": 3,
   "id": "9e7206d7",
   "metadata": {},
   "outputs": [
    {
     "data": {
      "text/plain": [
       "False"
      ]
     },
     "execution_count": 3,
     "metadata": {},
     "output_type": "execute_result"
    }
   ],
   "source": [
    "s.validPath(n = 6, edges = [[0,1],[0,2],[3,5],[5,4],[4,3]], source = 0, destination = 5)"
   ]
  },
  {
   "cell_type": "code",
   "execution_count": null,
   "id": "bcc4ae53",
   "metadata": {},
   "outputs": [],
   "source": []
  }
 ],
 "metadata": {
  "kernelspec": {
   "display_name": "Python 3 (ipykernel)",
   "language": "python",
   "name": "python3"
  },
  "language_info": {
   "codemirror_mode": {
    "name": "ipython",
    "version": 3
   },
   "file_extension": ".py",
   "mimetype": "text/x-python",
   "name": "python",
   "nbconvert_exporter": "python",
   "pygments_lexer": "ipython3",
   "version": "3.11.0"
  }
 },
 "nbformat": 4,
 "nbformat_minor": 5
}
