{
  "cells": [
    {
      "cell_type": "markdown",
      "metadata": {
        "collapsed": true
      },
      "source": [
        "# 字母大小写全排列\n",
        "\n",
        "**题目来源：力扣（LeetCode）**\n",
        "\n",
        "**链接：https://leetcode-cn.com/problems/letter-case-permutation/**\n",
        "\n",
        "## 一、题目\n",
        "\n",
        "给定一个字符串 s ，通过将字符串 s 中的每个字母转变大小写，我们可以获得一个新的字符串。\n",
        "\n",
        "返回 所有可能得到的字符串集合 。以 任意顺序 返回输出。\n",
        "\n",
        "### 提示:\n",
        "\n",
        "- 1 <= s.length <= 12\n",
        "- s 由小写英文字母、大写英文字母和数字组成\n",
        "\n",
        "## 二、示例\n",
        "\n",
        "### 示例1:\n",
        "\n",
        "输入: S = \"a1b2\"\n",
        "\n",
        "输出: [\"a1b2\", \"a1B2\", \"A1b2\", \"A1B2\"]\n",
        "\n",
        "### 示例2:\n",
        "\n",
        "输入: S = \"3z4\"\n",
        "\n",
        "输出: [\"3z4\", \"3Z4\"]\n",
        "\n",
        "### 示例3:\n",
        "\n",
        "输入: S = \"12345\"\n",
        "\n",
        "输出: [\"12345\"]\n",
        "\n",
        "## 三、解题思路\n",
        "\n",
        "### 回溯法"
      ]
    },
    {
      "cell_type": "code",
      "execution_count": 1,
      "metadata": {
        "trusted": true
      },
      "outputs": [],
      "source": [
        "class Solution:\n",
        "    def letterCasePermutation(self, S: str):\n",
        "        n = len(S)\n",
        "        def generator(item, i, result):\n",
        "            if i == n:\n",
        "                result.append(item)\n",
        "                return\n",
        "            if S[i].isdigit():\n",
        "                generator(item + S[i], i + 1, result)\n",
        "            else:\n",
        "                generator(item + S[i].upper(), i + 1, result)\n",
        "                generator(item + S[i].lower(), i + 1, result)\n",
        "        result = []\n",
        "        generator(\"\", 0, result)\n",
        "        return result"
      ]
    },
    {
      "cell_type": "code",
      "execution_count": 2,
      "metadata": {
        "trusted": true
      },
      "outputs": [
        {
          "data": {
            "text/plain": [
              "['A1B2', 'A1b2', 'a1B2', 'a1b2']"
            ]
          },
          "execution_count": 2,
          "metadata": {},
          "output_type": "execute_result"
        }
      ],
      "source": [
        "s = Solution()\n",
        "s.letterCasePermutation(\"a1b2\")"
      ]
    },
    {
      "cell_type": "code",
      "execution_count": 3,
      "metadata": {
        "trusted": true
      },
      "outputs": [
        {
          "data": {
            "text/plain": [
              "['3Z4', '3z4']"
            ]
          },
          "execution_count": 3,
          "metadata": {},
          "output_type": "execute_result"
        }
      ],
      "source": [
        "s.letterCasePermutation(\"3z4\")"
      ]
    },
    {
      "cell_type": "code",
      "execution_count": 4,
      "metadata": {
        "trusted": true
      },
      "outputs": [
        {
          "data": {
            "text/plain": [
              "['12345']"
            ]
          },
          "execution_count": 4,
          "metadata": {},
          "output_type": "execute_result"
        }
      ],
      "source": [
        "s.letterCasePermutation(\"12345\")"
      ]
    },
    {
      "cell_type": "code",
      "execution_count": null,
      "metadata": {},
      "outputs": [],
      "source": []
    }
  ],
  "metadata": {
    "kernelspec": {
      "display_name": "Python 3.10.4 64-bit",
      "language": "python",
      "name": "python3"
    },
    "language_info": {
      "codemirror_mode": {
        "name": "ipython",
        "version": 3
      },
      "file_extension": ".py",
      "mimetype": "text/x-python",
      "name": "python",
      "nbconvert_exporter": "python",
      "pygments_lexer": "ipython3",
      "version": "3.10.4"
    },
    "vscode": {
      "interpreter": {
        "hash": "4f946df053fbf2b937619d3c5458e7af74262f9a954d8797ba0b27400bcafe06"
      }
    }
  },
  "nbformat": 4,
  "nbformat_minor": 2
}
