{
 "cells": [
  {
   "cell_type": "markdown",
   "metadata": {},
   "source": [
    "# 子域名访问计数\n",
    "\n",
    "**题目来源：力扣（LeetCode）**\n",
    "\n",
    "**链接：https://leetcode-cn.com/problems/subdomain-visit-count/**\n",
    "\n",
    "## 一、题目\n",
    "\n",
    "网站域名 \"discuss.leetcode.com\" 由多个子域名组成。顶级域名为 \"com\" ，二级域名为 \"leetcode.com\" ，最低一级为 \"discuss.leetcode.com\" 。当访问域名 \"discuss.leetcode.com\" 时，同时也会隐式访问其父域名 \"leetcode.com\" 以及 \"com\" 。\n",
    "\n",
    "计数配对域名 是遵循 \"rep d1.d2.d3\" 或 \"rep d1.d2\" 格式的一个域名表示，其中 rep 表示访问域名的次数，d1.d2.d3 为域名本身。\n",
    "\n",
    "例如，\"9001 discuss.leetcode.com\" 就是一个 计数配对域名 ，表示 discuss.leetcode.com 被访问了 9001 次。\n",
    "给你一个 计数配对域名 组成的数组 cpdomains ，解析得到输入中每个子域名对应的 计数配对域名 ，并以数组形式返回。可以按 任意顺序 返回答案。\n",
    "\n",
    "### 提示：\n",
    "\n",
    "- 1 <= cpdomain.length <= 100\n",
    "- 1 <= cpdomain[i].length <= 100\n",
    "- cpdomain[i] 会遵循 \"repi d1i.d2i.d3i\" 或 \"repi d1i.d2i\" 格式\n",
    "- repi 是范围 [1, 104] 内的一个整数\n",
    "- d1i、d2i 和 d3i 由小写英文字母组成\n",
    "\n",
    "## 二、示例\n",
    "\n",
    "### 示例 1：\n",
    "\n",
    "输入: \n",
    "\n",
    "[\"9001 discuss.leetcode.com\"]\n",
    "\n",
    "输出: \n",
    "\n",
    "[\"9001 discuss.leetcode.com\", \"9001 leetcode.com\", \"9001 com\"]\n",
    "\n",
    "说明: \n",
    "\n",
    "例子中仅包含一个网站域名：\"discuss.leetcode.com\"。按照前文假设，子域名\"leetcode.com\"和\"com\"都会被访问，所以它们都被访问了9001次。\n",
    "\n",
    "### 示例 2\n",
    "\n",
    "输入: \n",
    "\n",
    "[\"900 google.mail.com\", \"50 yahoo.com\", \"1 intel.mail.com\", \"5 wiki.org\"]\n",
    "\n",
    "输出: \n",
    "\n",
    "[\"901 mail.com\",\"50 yahoo.com\",\"900 google.mail.com\",\"5 wiki.org\",\"5 org\",\"1 intel.mail.com\",\"951 com\"]\n",
    "\n",
    "说明: \n",
    "\n",
    "按照假设，会访问\"google.mail.com\" 900次，\"yahoo.com\" 50次，\"intel.mail.com\" 1次，\"wiki.org\" 5次。而对于父域名，会访问\"mail.com\" 900+1 = 901次，\"com\" 900 + 50 + 1 = 951次，和 \"org\" 5 次。\n",
    "\n",
    "## 三、解题思路\n",
    "\n",
    "### 递归求解"
   ]
  },
  {
   "cell_type": "code",
   "execution_count": 1,
   "metadata": {},
   "outputs": [],
   "source": [
    "class Solution:\n",
    "    def subdomainVisits(self, cpdomains):\n",
    "        dic = {}\n",
    "        def helper(cpdomain, count, dic):\n",
    "            if cpdomain in dic:\n",
    "                dic[cpdomain] += count\n",
    "            else:\n",
    "                dic[cpdomain] = count\n",
    "            n = len(cpdomain)\n",
    "            for i in range(n):\n",
    "                if cpdomain[i] == '.':\n",
    "                    helper(cpdomain[i+1:n], count, dic)\n",
    "                    return\n",
    "        for cp in cpdomains:\n",
    "            count, cpdomain = cp.split(' ', 1)\n",
    "            helper(cpdomain, int(count), dic)\n",
    "        ret = []\n",
    "        for key in dic.keys():\n",
    "            ret.append(str(dic[key]) + \" \" + key)\n",
    "        return ret"
   ]
  },
  {
   "cell_type": "code",
   "execution_count": 2,
   "metadata": {},
   "outputs": [
    {
     "data": {
      "text/plain": [
       "['9001 discuss.leetcode.com', '9001 leetcode.com', '9001 com']"
      ]
     },
     "execution_count": 2,
     "metadata": {},
     "output_type": "execute_result"
    }
   ],
   "source": [
    "s = Solution()\n",
    "s.subdomainVisits([\"9001 discuss.leetcode.com\"])"
   ]
  },
  {
   "cell_type": "code",
   "execution_count": 3,
   "metadata": {},
   "outputs": [
    {
     "data": {
      "text/plain": [
       "['900 google.mail.com',\n",
       " '901 mail.com',\n",
       " '951 com',\n",
       " '50 yahoo.com',\n",
       " '1 intel.mail.com',\n",
       " '5 wiki.org',\n",
       " '5 org']"
      ]
     },
     "execution_count": 3,
     "metadata": {},
     "output_type": "execute_result"
    }
   ],
   "source": [
    "s.subdomainVisits([\"900 google.mail.com\", \"50 yahoo.com\", \"1 intel.mail.com\", \"5 wiki.org\"])"
   ]
  },
  {
   "cell_type": "code",
   "execution_count": null,
   "metadata": {},
   "outputs": [],
   "source": []
  }
 ],
 "metadata": {
  "kernelspec": {
   "display_name": "Python 3.10.4 64-bit",
   "language": "python",
   "name": "python3"
  },
  "language_info": {
   "codemirror_mode": {
    "name": "ipython",
    "version": 3
   },
   "file_extension": ".py",
   "mimetype": "text/x-python",
   "name": "python",
   "nbconvert_exporter": "python",
   "pygments_lexer": "ipython3",
   "version": "3.10.4"
  },
  "vscode": {
   "interpreter": {
    "hash": "4f946df053fbf2b937619d3c5458e7af74262f9a954d8797ba0b27400bcafe06"
   }
  }
 },
 "nbformat": 4,
 "nbformat_minor": 2
}
