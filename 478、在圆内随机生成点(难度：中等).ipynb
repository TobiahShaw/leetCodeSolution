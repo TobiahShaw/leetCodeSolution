{
 "cells": [
  {
   "cell_type": "markdown",
   "metadata": {},
   "source": [
    "# 在圆内随机生成点\n",
    "\n",
    "**题目来源：力扣（LeetCode）**\n",
    "\n",
    "**链接：https://leetcode.cn/problems/generate-random-point-in-a-circle/**\n",
    "\n",
    "## 一、题目\n",
    "\n",
    "给定圆的半径和圆心的位置，实现函数 randPoint ，在圆中产生均匀随机点。\n",
    "\n",
    "实现 Solution 类:\n",
    "\n",
    "- Solution(double radius, double x_center, double y_center) 用圆的半径 radius 和圆心的位置 (x_center, y_center) 初始化对象\n",
    "- randPoint() 返回圆内的一个随机点。圆周上的一点被认为在圆内。答案作为数组返回 [x, y] 。\n",
    "\n",
    "### 提示：\n",
    "\n",
    "- 0 < radius <= 10^8\n",
    "- -10^7 <= x_center, y_center <= 10^7\n",
    "- randPoint 最多被调用 3 * 10^4 次\n",
    "\n",
    "## 二、示例\n",
    "\n",
    "输入: \n",
    "\n",
    "[\"Solution\",\"randPoint\",\"randPoint\",\"randPoint\"]\n",
    "[[1.0, 0.0, 0.0], [], [], []]\n",
    "\n",
    "输出: [null, [-0.02493, -0.38077], [0.82314, 0.38945], [0.36572, 0.17248]]\n",
    "\n",
    "解释:\n",
    "\n",
    "```\n",
    "solution = Solution(1.0, 0.0, 0.0)\n",
    "solution.randPoint ()#返回[-0.02493，-0.38077]\n",
    "solution.randPoint ()#返回[0.82314,0.38945]\n",
    "solution.randPoint ()#返回[0.36572,0.17248]\n",
    "```\n",
    "\n",
    "## 三、解题思路\n",
    "\n",
    "### 一、拒绝采样"
   ]
  },
  {
   "cell_type": "code",
   "execution_count": 1,
   "metadata": {},
   "outputs": [],
   "source": [
    "import random\n",
    "class Solution:\n",
    "\n",
    "    def __init__(self, radius: float, x_center: float, y_center: float):\n",
    "        self.radius = radius\n",
    "        self.x_center = x_center\n",
    "        self.y_center = y_center\n",
    "\n",
    "    def randPoint(self):\n",
    "        while True:\n",
    "            x, y = random.uniform(-self.radius, self.radius), random.uniform(-self.radius, self.radius)\n",
    "            if x * x + y * y <= self.radius * self.radius:\n",
    "                return [self.x_center + x, self.y_center + y]"
   ]
  },
  {
   "cell_type": "code",
   "execution_count": 2,
   "metadata": {},
   "outputs": [
    {
     "name": "stdout",
     "output_type": "stream",
     "text": [
      "[0.8339244988605572, -0.23173723133420676]\n",
      "[0.5370999673613419, -0.6949398836999505]\n",
      "[0.38383830725076584, 0.002490780232769829]\n"
     ]
    }
   ],
   "source": [
    "solution = Solution(1.0, 0.0, 0.0)\n",
    "print(solution.randPoint ())\n",
    "print(solution.randPoint ())\n",
    "print(solution.randPoint ())"
   ]
  },
  {
   "cell_type": "markdown",
   "metadata": {},
   "source": [
    "### 二、数学"
   ]
  },
  {
   "cell_type": "code",
   "execution_count": 3,
   "metadata": {},
   "outputs": [],
   "source": [
    "import random\n",
    "import math\n",
    "class Solution:\n",
    "\n",
    "    def __init__(self, radius: float, x_center: float, y_center: float):\n",
    "        self.radius = radius\n",
    "        self.x_center = x_center\n",
    "        self.y_center = y_center\n",
    "\n",
    "    def randPoint(self):\n",
    "        u, theta = random.random(), random.random() * 2 * math.pi\n",
    "        r = math.sqrt(u)\n",
    "        return [self.x_center + r * math.cos(theta) * self.radius, self.y_center + r * math.sin(theta) * self.radius]"
   ]
  },
  {
   "cell_type": "code",
   "execution_count": 4,
   "metadata": {},
   "outputs": [
    {
     "name": "stdout",
     "output_type": "stream",
     "text": [
      "[0.540995937191045, 0.8293266284868542]\n",
      "[0.7257044793405093, -0.6177378771806707]\n",
      "[-0.3638412673151585, -0.4038447981898965]\n"
     ]
    }
   ],
   "source": [
    "solution = Solution(1.0, 0.0, 0.0)\n",
    "print(solution.randPoint ())\n",
    "print(solution.randPoint ())\n",
    "print(solution.randPoint ())"
   ]
  },
  {
   "cell_type": "code",
   "execution_count": null,
   "metadata": {},
   "outputs": [],
   "source": []
  }
 ],
 "metadata": {
  "kernelspec": {
   "display_name": "Python 3",
   "language": "python",
   "name": "python3"
  },
  "language_info": {
   "codemirror_mode": {
    "name": "ipython",
    "version": 3
   },
   "file_extension": ".py",
   "mimetype": "text/x-python",
   "name": "python",
   "nbconvert_exporter": "python",
   "pygments_lexer": "ipython3",
   "version": "3.6.5"
  }
 },
 "nbformat": 4,
 "nbformat_minor": 2
}
