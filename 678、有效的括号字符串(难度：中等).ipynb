{
 "cells": [
  {
   "cell_type": "markdown",
   "metadata": {},
   "source": [
    "# 有效的括号字符串\n",
    "\n",
    "**题目来源：力扣（LeetCode）**\n",
    "\n",
    "**链接：https://leetcode-cn.com/problems/valid-parenthesis-string/**\n",
    "\n",
    "## 一、题目\n",
    "\n",
    "给定一个只包含三种字符的字符串：（ ，） 和 *，写一个函数来检验这个字符串是否为有效字符串。有效字符串具有如下规则：\n",
    "\n",
    "- 任何左括号 ( 必须有相应的右括号 )。\n",
    "- 任何右括号 ) 必须有相应的左括号 ( 。\n",
    "- 左括号 ( 必须在对应的右括号之前 )。\n",
    "- * 可以被视为单个右括号 ) ，或单个左括号 ( ，或一个空字符串。\n",
    "- 一个空字符串也被视为有效字符串。\n",
    "\n",
    "### 注意:\n",
    "\n",
    "- 字符串大小将在 [1，100] 范围内。\n",
    "\n",
    "## 二、示例\n",
    "\n",
    "### 示例 1：\n",
    "\n",
    "输入: \"()\"\n",
    "\n",
    "输出: True\n",
    "\n",
    "### 示例 2:\n",
    "\n",
    "输入: \"(*)\"\n",
    "\n",
    "输出: True\n",
    "\n",
    "### 示例 3:\n",
    "\n",
    "输入: \"(*))\"\n",
    "\n",
    "输出: True\n",
    "\n",
    "## 三、解题思路\n",
    "\n",
    "### dp"
   ]
  },
  {
   "cell_type": "code",
   "execution_count": 1,
   "metadata": {},
   "outputs": [],
   "source": [
    "def checkValidString(s: str) -> bool:\n",
    "    n = len(s)\n",
    "    dp = [[False] * n for _ in range(n)]\n",
    "    for i in range(n):\n",
    "        if s[i] == '*':\n",
    "            dp[i][i] = True\n",
    "    for i in range(1, n):\n",
    "        c1, c2 = s[i-1], s[i]\n",
    "        dp[i-1][i] = (c1 == '(' or c1 == '*') and (c2 == ')' or c2 == '*')\n",
    "    for i in range(n-3, -1, -1):\n",
    "        c1 = s[i]\n",
    "        for j in range(i+2, n):\n",
    "            c2 = s[j]\n",
    "            if (c1 == '(' or c1 == '*') and (c2 == ')' or c2 == '*'):\n",
    "                dp[i][j] = dp[i+1][j-1]\n",
    "            for k in range(i, j):\n",
    "                if dp[i][j]:\n",
    "                    break\n",
    "                dp[i][j] = dp[i][k] and dp[k+1][j]\n",
    "    return dp[0][n-1]"
   ]
  },
  {
   "cell_type": "code",
   "execution_count": 2,
   "metadata": {},
   "outputs": [
    {
     "data": {
      "text/plain": [
       "True"
      ]
     },
     "execution_count": 2,
     "metadata": {},
     "output_type": "execute_result"
    }
   ],
   "source": [
    "checkValidString(\"()\")"
   ]
  },
  {
   "cell_type": "code",
   "execution_count": 3,
   "metadata": {},
   "outputs": [
    {
     "data": {
      "text/plain": [
       "True"
      ]
     },
     "execution_count": 3,
     "metadata": {},
     "output_type": "execute_result"
    }
   ],
   "source": [
    "checkValidString(\"(*)\")"
   ]
  },
  {
   "cell_type": "code",
   "execution_count": 4,
   "metadata": {},
   "outputs": [
    {
     "data": {
      "text/plain": [
       "True"
      ]
     },
     "execution_count": 4,
     "metadata": {},
     "output_type": "execute_result"
    }
   ],
   "source": [
    "checkValidString(\"(*))\")"
   ]
  },
  {
   "cell_type": "code",
   "execution_count": null,
   "metadata": {},
   "outputs": [],
   "source": []
  }
 ],
 "metadata": {
  "kernelspec": {
   "display_name": "Python 3",
   "language": "python",
   "name": "python3"
  },
  "language_info": {
   "codemirror_mode": {
    "name": "ipython",
    "version": 3
   },
   "file_extension": ".py",
   "mimetype": "text/x-python",
   "name": "python",
   "nbconvert_exporter": "python",
   "pygments_lexer": "ipython3",
   "version": "3.6.5"
  }
 },
 "nbformat": 4,
 "nbformat_minor": 2
}
