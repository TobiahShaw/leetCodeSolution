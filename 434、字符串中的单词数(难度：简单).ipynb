{
 "cells": [
  {
   "cell_type": "markdown",
   "metadata": {},
   "source": [
    "# 字符串中的单词数\n",
    "\n",
    "**题目来源：力扣（LeetCode）**\n",
    "\n",
    "**链接：https://leetcode-cn.com/problems/number-of-segments-in-a-string/**\n",
    "\n",
    "## 一、题目\n",
    "\n",
    "统计字符串中的单词个数，这里的单词指的是连续的不是空格的字符。\n",
    "\n",
    "请注意，你可以假定字符串里不包括任何不可打印的字符。\n",
    "\n",
    "## 二、示例\n",
    "\n",
    "输入: \"Hello, my name is John\"\n",
    "\n",
    "输出: 5\n",
    "\n",
    "解释: 这里的单词是指连续的不是空格的字符，所以 \"Hello,\" 算作 1 个单词。\n",
    "\n",
    "## 三、解题思路\n",
    "\n",
    "### 状态机"
   ]
  },
  {
   "cell_type": "code",
   "execution_count": 1,
   "metadata": {},
   "outputs": [],
   "source": [
    "def countSegments(s: str) -> int:\n",
    "    if not s:\n",
    "        return 0\n",
    "    status = 0\n",
    "    ret = 0\n",
    "    for ch in s:\n",
    "        if ch == ' ':\n",
    "            if status == 0:\n",
    "                continue\n",
    "            else:\n",
    "                status = 0\n",
    "                ret += 1\n",
    "        else:\n",
    "            if status == 0:\n",
    "                status = 1\n",
    "            else:\n",
    "                continue\n",
    "    if status == 1:\n",
    "        ret += 1\n",
    "    return ret"
   ]
  },
  {
   "cell_type": "code",
   "execution_count": 2,
   "metadata": {},
   "outputs": [
    {
     "data": {
      "text/plain": [
       "5"
      ]
     },
     "execution_count": 2,
     "metadata": {},
     "output_type": "execute_result"
    }
   ],
   "source": [
    "countSegments(\"Hello, my name is John\")"
   ]
  },
  {
   "cell_type": "code",
   "execution_count": 3,
   "metadata": {},
   "outputs": [
    {
     "data": {
      "text/plain": [
       "0"
      ]
     },
     "execution_count": 3,
     "metadata": {},
     "output_type": "execute_result"
    }
   ],
   "source": [
    "countSegments(\"                    \")"
   ]
  },
  {
   "cell_type": "code",
   "execution_count": null,
   "metadata": {},
   "outputs": [],
   "source": []
  }
 ],
 "metadata": {
  "kernelspec": {
   "display_name": "Python 3",
   "language": "python",
   "name": "python3"
  },
  "language_info": {
   "codemirror_mode": {
    "name": "ipython",
    "version": 3
   },
   "file_extension": ".py",
   "mimetype": "text/x-python",
   "name": "python",
   "nbconvert_exporter": "python",
   "pygments_lexer": "ipython3",
   "version": "3.6.5"
  }
 },
 "nbformat": 4,
 "nbformat_minor": 2
}
