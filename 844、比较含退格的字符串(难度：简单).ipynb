{
 "cells": [
  {
   "cell_type": "markdown",
   "metadata": {},
   "source": [
    "# 比较含退格的字符串\n",
    "\n",
    "**题目来源：力扣（LeetCode）**\n",
    "\n",
    "**链接：https://leetcode-cn.com/problems/backspace-string-compare/**\n",
    "\n",
    "## 一、题目\n",
    "\n",
    "给定 S 和 T 两个字符串，当它们分别被输入到空白的文本编辑器后，判断二者是否相等，并返回结果。 # 代表退格字符。\n",
    "\n",
    "### 注意：\n",
    "\n",
    "如果对空文本输入退格字符，文本继续为空。\n",
    "\n",
    "## 二、示例\n",
    "\n",
    "### 示例 1：\n",
    "\n",
    "输入：S = \"ab#c\", T = \"ad#c\"\n",
    "\n",
    "输出：true\n",
    "\n",
    "解释：S 和 T 都会变成 “ac”。\n",
    "\n",
    "### 示例 2：\n",
    "\n",
    "输入：S = \"ab##\", T = \"c#d#\"\n",
    "\n",
    "输出：true\n",
    "\n",
    "解释：S 和 T 都会变成 “”。\n",
    "\n",
    "### 示例 3：\n",
    "\n",
    "输入：S = \"a##c\", T = \"#a#c\"\n",
    "\n",
    "输出：true\n",
    "\n",
    "解释：S 和 T 都会变成 “c”。\n",
    "\n",
    "### 示例 4：\n",
    "\n",
    "输入：S = \"a#c\", T = \"b\"\n",
    "\n",
    "输出：false\n",
    "\n",
    "解释：S 会变成 “c”，但 T 仍然是 “b”。\n",
    "\n",
    "## 三、解题思路\n",
    "\n",
    "### 一、利用栈的结构"
   ]
  },
  {
   "cell_type": "code",
   "execution_count": 1,
   "metadata": {},
   "outputs": [],
   "source": [
    "def backspaceCompare(S: str, T: str) -> bool:\n",
    "    ns, nt = len(S), len(T)\n",
    "    stackS, stackT = [], []\n",
    "    for i in range(max(ns, nt)):\n",
    "        if i < ns:\n",
    "            if S[i] == '#':\n",
    "                if stackS:\n",
    "                    stackS.pop()\n",
    "            else:\n",
    "                stackS.append(S[i])\n",
    "        if i < nt:\n",
    "            if T[i] == '#':\n",
    "                if stackT:\n",
    "                    stackT.pop()\n",
    "            else:\n",
    "                stackT.append(T[i])\n",
    "    return stackT == stackS"
   ]
  },
  {
   "cell_type": "code",
   "execution_count": 2,
   "metadata": {},
   "outputs": [
    {
     "data": {
      "text/plain": [
       "True"
      ]
     },
     "execution_count": 2,
     "metadata": {},
     "output_type": "execute_result"
    }
   ],
   "source": [
    "backspaceCompare(S = \"ab#c\", T = \"ad#c\")"
   ]
  },
  {
   "cell_type": "code",
   "execution_count": 3,
   "metadata": {},
   "outputs": [
    {
     "data": {
      "text/plain": [
       "True"
      ]
     },
     "execution_count": 3,
     "metadata": {},
     "output_type": "execute_result"
    }
   ],
   "source": [
    "backspaceCompare(S = \"ab##\", T = \"c#d#\")"
   ]
  },
  {
   "cell_type": "code",
   "execution_count": 4,
   "metadata": {},
   "outputs": [
    {
     "data": {
      "text/plain": [
       "True"
      ]
     },
     "execution_count": 4,
     "metadata": {},
     "output_type": "execute_result"
    }
   ],
   "source": [
    "backspaceCompare(S = \"a##c\", T = \"#a#c\")"
   ]
  },
  {
   "cell_type": "code",
   "execution_count": 5,
   "metadata": {},
   "outputs": [
    {
     "data": {
      "text/plain": [
       "False"
      ]
     },
     "execution_count": 5,
     "metadata": {},
     "output_type": "execute_result"
    }
   ],
   "source": [
    "backspaceCompare(S = \"a#c\", T = \"b\")"
   ]
  },
  {
   "cell_type": "markdown",
   "metadata": {},
   "source": [
    "### 二、双指针"
   ]
  },
  {
   "cell_type": "code",
   "execution_count": 6,
   "metadata": {},
   "outputs": [],
   "source": [
    "def backspaceCompare(S: str, T: str) -> bool:\n",
    "    i, j = len(S) - 1, len(T) - 1\n",
    "    skipS = skipT = 0\n",
    "    while i >= 0 or j >= 0:\n",
    "        while i >= 0:\n",
    "            if S[i] == \"#\":\n",
    "                skipS += 1\n",
    "                i -= 1\n",
    "            elif skipS > 0:\n",
    "                skipS -= 1\n",
    "                i -= 1\n",
    "            else:\n",
    "                break\n",
    "        while j >= 0:\n",
    "            if T[j] == \"#\":\n",
    "                skipT += 1\n",
    "                j -= 1\n",
    "            elif skipT > 0:\n",
    "                skipT -= 1\n",
    "                j -= 1\n",
    "            else:\n",
    "                break\n",
    "        if i >= 0 and j >= 0:\n",
    "            if S[i] != T[j]:\n",
    "                return False\n",
    "        elif i >= 0 or j >= 0:\n",
    "            return False\n",
    "        i -= 1\n",
    "        j -= 1\n",
    "    \n",
    "    return True"
   ]
  },
  {
   "cell_type": "code",
   "execution_count": 7,
   "metadata": {},
   "outputs": [
    {
     "data": {
      "text/plain": [
       "True"
      ]
     },
     "execution_count": 7,
     "metadata": {},
     "output_type": "execute_result"
    }
   ],
   "source": [
    "backspaceCompare(S = \"ab#c\", T = \"ad#c\")"
   ]
  },
  {
   "cell_type": "code",
   "execution_count": 8,
   "metadata": {},
   "outputs": [
    {
     "data": {
      "text/plain": [
       "True"
      ]
     },
     "execution_count": 8,
     "metadata": {},
     "output_type": "execute_result"
    }
   ],
   "source": [
    "backspaceCompare(S = \"ab##\", T = \"c#d#\")"
   ]
  },
  {
   "cell_type": "code",
   "execution_count": 9,
   "metadata": {},
   "outputs": [
    {
     "data": {
      "text/plain": [
       "True"
      ]
     },
     "execution_count": 9,
     "metadata": {},
     "output_type": "execute_result"
    }
   ],
   "source": [
    "backspaceCompare(S = \"a##c\", T = \"#a#c\")"
   ]
  },
  {
   "cell_type": "code",
   "execution_count": 10,
   "metadata": {},
   "outputs": [
    {
     "data": {
      "text/plain": [
       "False"
      ]
     },
     "execution_count": 10,
     "metadata": {},
     "output_type": "execute_result"
    }
   ],
   "source": [
    "backspaceCompare(S = \"a#c\", T = \"b\")"
   ]
  },
  {
   "cell_type": "code",
   "execution_count": null,
   "metadata": {},
   "outputs": [],
   "source": []
  }
 ],
 "metadata": {
  "kernelspec": {
   "display_name": "Python 3",
   "language": "python",
   "name": "python3"
  },
  "language_info": {
   "codemirror_mode": {
    "name": "ipython",
    "version": 3
   },
   "file_extension": ".py",
   "mimetype": "text/x-python",
   "name": "python",
   "nbconvert_exporter": "python",
   "pygments_lexer": "ipython3",
   "version": "3.6.5"
  }
 },
 "nbformat": 4,
 "nbformat_minor": 2
}
