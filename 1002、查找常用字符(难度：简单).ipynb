{
 "cells": [
  {
   "cell_type": "markdown",
   "metadata": {
    "collapsed": true
   },
   "source": [
    "# 查找常用字符\n",
    "\n",
    "**题目来源：力扣（LeetCode）**\n",
    "\n",
    "**链接：https://leetcode-cn.com/problems/find-common-characters/**\n",
    "\n",
    "## 一、题目\n",
    "\n",
    "给定仅有小写字母组成的字符串数组 A，返回列表中的每个字符串中都显示的全部字符（包括重复字符）组成的列表。例如，如果一个字符在每个字符串中出现 3 次，但不是 4 次，则需要在最终答案中包含该字符 3 次。\n",
    "\n",
    "你可以按任意顺序返回答案。\n",
    "\n",
    "### 提示：\n",
    "\n",
    "- 1 <= words.length <= 100\n",
    "- 1 <= words[i].length <= 100\n",
    "- words[i] 由小写英文字母组成\n",
    "\n",
    "## 二、示例\n",
    "\n",
    "### 示例 1：\n",
    "\n",
    "输入：[\"bella\",\"label\",\"roller\"]\n",
    "\n",
    "输出：[\"e\",\"l\",\"l\"]\n",
    "\n",
    "### 示例 2：\n",
    "\n",
    "输入：[\"cool\",\"lock\",\"cook\"]\n",
    "\n",
    "输出：[\"c\",\"o\"]\n",
    "\n",
    "## 三、解题思路\n",
    "\n",
    "### 一、利用字典\n",
    "\n",
    "利用字典将每个词的按字母分组，再找到所有组都出现的字母，取其最小出现次数，添加这个字母入结果中。"
   ]
  },
  {
   "cell_type": "code",
   "execution_count": 1,
   "metadata": {},
   "outputs": [],
   "source": [
    "def commonChars(A):\n",
    "    groups = []\n",
    "    for s in A:\n",
    "        group = {}\n",
    "        for c in s:\n",
    "            if c in group:\n",
    "                group[c] += 1\n",
    "            else:\n",
    "                group[c] = 1\n",
    "        groups.append(group)\n",
    "    result = []\n",
    "    if groups:\n",
    "        for key in groups[0].keys():\n",
    "            num = min(group[key] if key in group else 0 for group in groups)\n",
    "            if num:\n",
    "                result.extend([key] * num)\n",
    "    return result"
   ]
  },
  {
   "cell_type": "code",
   "execution_count": 2,
   "metadata": {},
   "outputs": [
    {
     "data": {
      "text/plain": [
       "['e', 'l', 'l']"
      ]
     },
     "execution_count": 2,
     "metadata": {},
     "output_type": "execute_result"
    }
   ],
   "source": [
    "commonChars([\"bella\",\"label\",\"roller\"])"
   ]
  },
  {
   "cell_type": "code",
   "execution_count": 3,
   "metadata": {},
   "outputs": [
    {
     "data": {
      "text/plain": [
       "['c', 'o']"
      ]
     },
     "execution_count": 3,
     "metadata": {},
     "output_type": "execute_result"
    }
   ],
   "source": [
    "commonChars([\"cool\",\"lock\",\"cook\"])"
   ]
  },
  {
   "cell_type": "markdown",
   "metadata": {},
   "source": [
    "### 二、修改字符串\n",
    "\n",
    "- 从最短子字符开始\n",
    "- 每次获取完后，要修改原始字符减少相同的字母，避免重复字母的问题"
   ]
  },
  {
   "cell_type": "code",
   "execution_count": 4,
   "metadata": {},
   "outputs": [],
   "source": [
    "def commonChars(A):\n",
    "    res = []\n",
    "    min_length_char = min(A, key=len)\n",
    "    for char in min_length_char:\n",
    "        if all(char in item  for item in A):\n",
    "            res.append(char)\n",
    "            A = [i.replace(char,'',1)  for i in A]\n",
    "    return res"
   ]
  },
  {
   "cell_type": "code",
   "execution_count": 5,
   "metadata": {},
   "outputs": [
    {
     "data": {
      "text/plain": [
       "['e', 'l', 'l']"
      ]
     },
     "execution_count": 5,
     "metadata": {},
     "output_type": "execute_result"
    }
   ],
   "source": [
    "commonChars([\"bella\",\"label\",\"roller\"])"
   ]
  },
  {
   "cell_type": "code",
   "execution_count": 6,
   "metadata": {},
   "outputs": [
    {
     "data": {
      "text/plain": [
       "['c', 'o']"
      ]
     },
     "execution_count": 6,
     "metadata": {},
     "output_type": "execute_result"
    }
   ],
   "source": [
    "commonChars([\"cool\",\"lock\",\"cook\"])"
   ]
  },
  {
   "cell_type": "code",
   "execution_count": null,
   "metadata": {},
   "outputs": [],
   "source": []
  }
 ],
 "metadata": {
  "kernelspec": {
   "display_name": "Python 3 (ipykernel)",
   "language": "python",
   "name": "python3"
  },
  "language_info": {
   "codemirror_mode": {
    "name": "ipython",
    "version": 3
   },
   "file_extension": ".py",
   "mimetype": "text/x-python",
   "name": "python",
   "nbconvert_exporter": "python",
   "pygments_lexer": "ipython3",
   "version": "3.9.10+"
  }
 },
 "nbformat": 4,
 "nbformat_minor": 2
}
