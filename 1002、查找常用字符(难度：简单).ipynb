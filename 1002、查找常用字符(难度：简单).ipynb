{
  "cells": [
    {
      "metadata": {
        "collapsed": true
      },
      "cell_type": "markdown",
      "source": "# 查找常用字符\n\n**题目来源：力扣（LeetCode）**\n\n**链接：https://leetcode-cn.com/problems/same-tree/**\n\n## 一、题目\n\n给定仅有小写字母组成的字符串数组 A，返回列表中的每个字符串中都显示的全部字符（包括重复字符）组成的列表。例如，如果一个字符在每个字符串中出现 3 次，但不是 4 次，则需要在最终答案中包含该字符 3 次。\n\n你可以按任意顺序返回答案。\n\n## 二、示例\n\n### 示例 1：\n\n输入：[\"bella\",\"label\",\"roller\"]\n\n输出：[\"e\",\"l\",\"l\"]\n\n### 示例 2：\n\n输入：[\"cool\",\"lock\",\"cook\"]\n\n输出：[\"c\",\"o\"]\n\n## 三、解题思路\n\n### 利用字典\n\n利用字典将每个词的按字母分组，再找到所有组都出现的字母，取其最小出现次数，添加这个字母入结果中。"
    },
    {
      "metadata": {
        "trusted": true
      },
      "cell_type": "code",
      "source": "def commonChars(A):\n    groups = []\n    for s in A:\n        group = {}\n        for c in s:\n            if c in group:\n                group[c] += 1\n            else:\n                group[c] = 1\n        groups.append(group)\n    result = []\n    if groups:\n        for key in groups[0].keys():\n            num = min(group[key] if key in group else 0 for group in groups)\n            if num:\n                result.extend([key] * num)\n    return result",
      "execution_count": 1,
      "outputs": []
    },
    {
      "metadata": {
        "trusted": true
      },
      "cell_type": "code",
      "source": "commonChars([\"bella\",\"label\",\"roller\"])",
      "execution_count": 2,
      "outputs": [
        {
          "output_type": "execute_result",
          "execution_count": 2,
          "data": {
            "text/plain": "['e', 'l', 'l']"
          },
          "metadata": {}
        }
      ]
    },
    {
      "metadata": {
        "trusted": true
      },
      "cell_type": "code",
      "source": "commonChars([\"cool\",\"lock\",\"cook\"])",
      "execution_count": 3,
      "outputs": [
        {
          "output_type": "execute_result",
          "execution_count": 3,
          "data": {
            "text/plain": "['c', 'o']"
          },
          "metadata": {}
        }
      ]
    },
    {
      "metadata": {
        "trusted": true
      },
      "cell_type": "code",
      "source": "",
      "execution_count": null,
      "outputs": []
    }
  ],
  "metadata": {
    "kernelspec": {
      "name": "python36",
      "display_name": "Python 3.6",
      "language": "python"
    },
    "language_info": {
      "mimetype": "text/x-python",
      "nbconvert_exporter": "python",
      "name": "python",
      "pygments_lexer": "ipython3",
      "version": "3.6.6",
      "file_extension": ".py",
      "codemirror_mode": {
        "version": 3,
        "name": "ipython"
      }
    }
  },
  "nbformat": 4,
  "nbformat_minor": 2
}