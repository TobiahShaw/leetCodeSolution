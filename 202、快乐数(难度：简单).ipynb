{
  "cells": [
    {
      "metadata": {
        "collapsed": true
      },
      "cell_type": "markdown",
      "source": "# 快乐数\n\n**题目来源：力扣（LeetCode）**\n\n**链接：https://leetcode-cn.com/problems/happy-number/**\n\n## 一、题目\n\n编写一个算法来判断一个数是不是“快乐数”。\n\n一个“快乐数”定义为：对于一个正整数，每一次将该数替换为它每个位置上的数字的平方和，然后重复这个过程直到这个数变为 1，也可能是无限循环但始终变不到 1。如果可以变为 1，那么这个数就是快乐数。\n\n## 二、示例\n\n输入: 19\n\n输出: true\n\n解释: \n\n12 + 92 = 82\n\n82 + 22 = 68\n\n62 + 82 = 100\n\n12 + 02 + 02 = 1\n\n## 解题思路\n\n### 模拟\n\n- 实例化一个set用于存储每次循环的结果\n- 当n不等于1的时候，循环模拟过程更新n，得到的结果如果set中已存在则说明陷入循环，不是快乐数，如果结果是1则返回true，否则继续模拟"
    },
    {
      "metadata": {
        "trusted": true
      },
      "cell_type": "code",
      "source": "def isHappy(n: int) -> bool:\n    pasted = set()\n    pasted.add(n)\n    while n != 1:\n        num = str(n)\n        n = 0\n        for i in num:\n            n += pow(int(i), 2)\n        if n in pasted:\n            return False\n        else:\n            pasted.add(n)\n    return True",
      "execution_count": 1,
      "outputs": []
    },
    {
      "metadata": {
        "trusted": true
      },
      "cell_type": "code",
      "source": "isHappy(19)",
      "execution_count": 2,
      "outputs": [
        {
          "output_type": "execute_result",
          "execution_count": 2,
          "data": {
            "text/plain": "True"
          },
          "metadata": {}
        }
      ]
    },
    {
      "metadata": {
        "trusted": true
      },
      "cell_type": "code",
      "source": "isHappy(2)",
      "execution_count": 3,
      "outputs": [
        {
          "output_type": "execute_result",
          "execution_count": 3,
          "data": {
            "text/plain": "False"
          },
          "metadata": {}
        }
      ]
    },
    {
      "metadata": {
        "trusted": true
      },
      "cell_type": "code",
      "source": "",
      "execution_count": null,
      "outputs": []
    }
  ],
  "metadata": {
    "kernelspec": {
      "name": "python36",
      "display_name": "Python 3.6",
      "language": "python"
    },
    "language_info": {
      "mimetype": "text/x-python",
      "nbconvert_exporter": "python",
      "name": "python",
      "pygments_lexer": "ipython3",
      "version": "3.6.6",
      "file_extension": ".py",
      "codemirror_mode": {
        "version": 3,
        "name": "ipython"
      }
    }
  },
  "nbformat": 4,
  "nbformat_minor": 2
}