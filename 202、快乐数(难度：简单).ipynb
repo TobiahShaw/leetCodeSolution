{
 "cells": [
  {
   "cell_type": "markdown",
   "metadata": {
    "collapsed": true
   },
   "source": [
    "# 快乐数\n",
    "\n",
    "**题目来源：力扣（LeetCode）**\n",
    "\n",
    "**链接：https://leetcode-cn.com/problems/happy-number/**\n",
    "\n",
    "## 一、题目\n",
    "\n",
    "编写一个算法来判断一个数 n 是不是快乐数。\n",
    "\n",
    "「快乐数」 定义为：\n",
    "\n",
    "- 对于一个正整数，每一次将该数替换为它每个位置上的数字的平方和。\n",
    "- 然后重复这个过程直到这个数变为 1，也可能是 无限循环 但始终变不到 1。\n",
    "- 如果这个过程 结果为 1，那么这个数就是快乐数。\n",
    "\n",
    "如果 n 是 快乐数 就返回 true ；不是，则返回 false 。\n",
    "\n",
    "### 提示：\n",
    "\n",
    "- 1 <= n <= 2^31 - 1\n",
    "\n",
    "## 二、示例\n",
    "\n",
    "### 示例 1：\n",
    "\n",
    "输入: 19\n",
    "\n",
    "输出: true\n",
    "\n",
    "解释: \n",
    "\n",
    "12 + 92 = 82\n",
    "\n",
    "82 + 22 = 68\n",
    "\n",
    "62 + 82 = 100\n",
    "\n",
    "12 + 02 + 02 = 1\n",
    "\n",
    "### 示例 2：\n",
    "\n",
    "输入：n = 2\n",
    "\n",
    "输出：false\n",
    "\n",
    "## 解题思路\n",
    "\n",
    "### 模拟\n",
    "\n",
    "- 实例化一个set用于存储每次循环的结果\n",
    "- 当n不等于1的时候，循环模拟过程更新n，得到的结果如果set中已存在则说明陷入循环，不是快乐数，如果结果是1则返回true，否则继续模拟"
   ]
  },
  {
   "cell_type": "code",
   "execution_count": 1,
   "metadata": {},
   "outputs": [],
   "source": [
    "class Solution:\n",
    "    def isHappy(self, n: int) -> bool:\n",
    "        pasted = set()\n",
    "        pasted.add(n)\n",
    "        while n != 1:\n",
    "            num = str(n)\n",
    "            n = 0\n",
    "            for i in num:\n",
    "                n += pow(int(i), 2)\n",
    "            if n in pasted:\n",
    "                return False\n",
    "            else:\n",
    "                pasted.add(n)\n",
    "        return True"
   ]
  },
  {
   "cell_type": "code",
   "execution_count": 2,
   "metadata": {},
   "outputs": [
    {
     "data": {
      "text/plain": [
       "True"
      ]
     },
     "execution_count": 2,
     "metadata": {},
     "output_type": "execute_result"
    }
   ],
   "source": [
    "s = Solution()\n",
    "s.isHappy(19)"
   ]
  },
  {
   "cell_type": "code",
   "execution_count": 3,
   "metadata": {},
   "outputs": [
    {
     "data": {
      "text/plain": [
       "False"
      ]
     },
     "execution_count": 3,
     "metadata": {},
     "output_type": "execute_result"
    }
   ],
   "source": [
    "s.isHappy(2)"
   ]
  },
  {
   "cell_type": "code",
   "execution_count": null,
   "metadata": {},
   "outputs": [],
   "source": []
  }
 ],
 "metadata": {
  "kernelspec": {
   "display_name": "Python 3 (ipykernel)",
   "language": "python",
   "name": "python3"
  },
  "language_info": {
   "codemirror_mode": {
    "name": "ipython",
    "version": 3
   },
   "file_extension": ".py",
   "mimetype": "text/x-python",
   "name": "python",
   "nbconvert_exporter": "python",
   "pygments_lexer": "ipython3",
   "version": "3.11.0"
  }
 },
 "nbformat": 4,
 "nbformat_minor": 2
}
