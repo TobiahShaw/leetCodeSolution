{
 "cells": [
  {
   "cell_type": "markdown",
   "metadata": {},
   "source": [
    "# 二叉树寻路\n",
    "\n",
    "**题目来源：力扣（LeetCode）**\n",
    "\n",
    "**链接：https://leetcode-cn.com/problems/path-in-zigzag-labelled-binary-tree/**\n",
    "\n",
    "## 一、题目\n",
    "\n",
    "在一棵无限的二叉树上，每个节点都有两个子节点，树中的节点 逐行 依次按 “之” 字形进行标记。\n",
    "\n",
    "如下图所示，在奇数行（即，第一行、第三行、第五行……）中，按从左到右的顺序进行标记；\n",
    "\n",
    "而偶数行（即，第二行、第四行、第六行……）中，按从右到左的顺序进行标记。\n",
    "\n",
    "给你树上某一个节点的标号 label，请你返回从根节点到该标号为 label 节点的路径，该路径是由途经的节点标号所组成的。\n",
    "\n",
    "### 提示：\n",
    "\n",
    "- 1 <= label <= 10^6\n",
    "\n",
    "## 二、示例\n",
    "\n",
    "### 示例 1：\n",
    "\n",
    "输入：label = 14\n",
    "\n",
    "输出：[1,3,4,14]\n",
    "\n",
    "### 示例 2：\n",
    "\n",
    "输入：label = 26\n",
    "\n",
    "输出：[1,2,6,10,26]\n",
    "\n",
    "## 三、解题思路\n",
    "\n",
    "### 二叉树与二进制\n",
    "\n",
    "- 为了方便，一下层数都从0开始，而非1\n",
    "- label的最高位1所在的位置即为层数\n",
    "- 每层所组曾的数字为 [2^n, 2^(n+1)) 其中奇数行要反转\n",
    "- 找到最后一行label的位置后，上一行的位置为这一行除以二"
   ]
  },
  {
   "cell_type": "code",
   "execution_count": 1,
   "metadata": {},
   "outputs": [],
   "source": [
    "def pathInZigZagTree(label: int):\n",
    "    import bisect\n",
    "    def getDepth(label):\n",
    "        d = 0\n",
    "        binStrLabel = str(bin(label))\n",
    "        n = len(binStrLabel)\n",
    "        for i in range(n - 1, -1, -1):\n",
    "            if binStrLabel[i] == \"1\":\n",
    "                d = n - 1 - i\n",
    "        return d\n",
    "    layerNum = getDepth(label)\n",
    "    ret = [label]\n",
    "    lastLayer = list(range(2 ** layerNum, 2 ** (layerNum + 1)))\n",
    "    pos = bisect.bisect_left(lastLayer, label)\n",
    "    if layerNum % 2 == 1:\n",
    "        lastLayer = lastLayer[::-1]\n",
    "        pos = len(lastLayer) - pos - 1\n",
    "    layerNum -= 1\n",
    "    while layerNum >= 0:\n",
    "        pos //= 2\n",
    "        lastLayer = list(range(2 ** layerNum, 2 ** (layerNum + 1)))\n",
    "        if layerNum % 2 == 1:\n",
    "            lastLayer = lastLayer[::-1]\n",
    "        ret.append(lastLayer[pos])\n",
    "        layerNum -= 1\n",
    "    return ret[::-1]"
   ]
  },
  {
   "cell_type": "code",
   "execution_count": 2,
   "metadata": {},
   "outputs": [
    {
     "data": {
      "text/plain": [
       "[1, 3, 4, 14]"
      ]
     },
     "execution_count": 2,
     "metadata": {},
     "output_type": "execute_result"
    }
   ],
   "source": [
    "pathInZigZagTree(14)"
   ]
  },
  {
   "cell_type": "code",
   "execution_count": 3,
   "metadata": {},
   "outputs": [
    {
     "data": {
      "text/plain": [
       "[1, 2, 6, 10, 26]"
      ]
     },
     "execution_count": 3,
     "metadata": {},
     "output_type": "execute_result"
    }
   ],
   "source": [
    "pathInZigZagTree(26)"
   ]
  },
  {
   "cell_type": "code",
   "execution_count": null,
   "metadata": {},
   "outputs": [],
   "source": []
  }
 ],
 "metadata": {
  "kernelspec": {
   "display_name": "Python 3",
   "language": "python",
   "name": "python3"
  },
  "language_info": {
   "codemirror_mode": {
    "name": "ipython",
    "version": 3
   },
   "file_extension": ".py",
   "mimetype": "text/x-python",
   "name": "python",
   "nbconvert_exporter": "python",
   "pygments_lexer": "ipython3",
   "version": "3.6.5"
  }
 },
 "nbformat": 4,
 "nbformat_minor": 2
}
