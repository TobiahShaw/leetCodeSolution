{
 "cells": [
  {
   "cell_type": "markdown",
   "metadata": {},
   "source": [
    "# 随机翻转矩阵\n",
    "\n",
    "**题目来源：力扣（LeetCode）**\n",
    "\n",
    "**链接：https://leetcode-cn.com/problems/random-flip-matrix/**\n",
    "\n",
    "## 一、题目\n",
    "\n",
    "给你一个 m x n 的二元矩阵 matrix ，且所有值被初始化为 0 。请你设计一个算法，随机选取一个满足 matrix[i][j] == 0 的下标 (i, j) ，并将它的值变为 1 。所有满足 matrix[i][j] == 0 的下标 (i, j) 被选取的概率应当均等。\n",
    "\n",
    "尽量最少调用内置的随机函数，并且优化时间和空间复杂度。\n",
    "\n",
    "实现 Solution 类：\n",
    "\n",
    "- Solution(int m, int n) 使用二元矩阵的大小 m 和 n 初始化该对象\n",
    "- int[] flip() 返回一个满足 matrix[i][j] == 0 的随机下标 [i, j] ，并将其对应格子中的值变为 1\n",
    "- void reset() 将矩阵中所有的值重置为 0\n",
    "\n",
    "### 提示：\n",
    "\n",
    "- 1 <= m, n <= 10^4\n",
    "- 每次调用flip 时，矩阵中至少存在一个值为 0 的格子。\n",
    "- 最多调用 1000 次 flip 和 reset 方法。\n",
    "\n",
    "## 二、示例\n",
    "\n",
    "输入\n",
    "\n",
    "[\"Solution\", \"flip\", \"flip\", \"flip\", \"reset\", \"flip\"]\n",
    "[[3, 1], [], [], [], [], []]\n",
    "\n",
    "输出\n",
    "\n",
    "[null, [1, 0], [2, 0], [0, 0], null, [2, 0]]\n",
    "\n",
    "解释\n",
    "\n",
    "```\n",
    "solution = Solution(3, 1)\n",
    "solution.flip()  # 返回 [1, 0]，此时返回 [0,0]、[1,0] 和 [2,0] 的概率应当相同\n",
    "solution.flip()  # 返回 [2, 0]，因为 [1,0] 已经返回过了，此时返回 [2,0] 和 [0,0] 的概率应当相同\n",
    "solution.flip()  # 返回 [0, 0]，根据前面已经返回过的下标，此时只能返回 [0,0]\n",
    "solution.reset() # 所有值都重置为 0 ，并可以再次选择下标返回\n",
    "solution.flip()  # 返回 [2, 0]，此时返回 [0,0]、[1,0] 和 [2,0] 的概率应当相同\n",
    "```\n",
    "\n",
    "## 三、解题思路"
   ]
  },
  {
   "cell_type": "code",
   "execution_count": 1,
   "metadata": {},
   "outputs": [],
   "source": [
    "import random\n",
    "\n",
    "class Solution:\n",
    "\n",
    "    def __init__(self, n_rows: int, n_cols: int):\n",
    "        self.n_rows, self.n_cols = n_rows, n_cols\n",
    "        self.count = self.n_rows * self.n_cols\n",
    "        self.visited = set()\n",
    "\n",
    "    def flip(self):\n",
    "        while True:\n",
    "            x = random.randint(0, self.count - 1)\n",
    "            if x in self.visited:pass\n",
    "            else: break\n",
    "        self.visited.add(x)\n",
    "        return [x // self.n_cols, x % self.n_cols]\n",
    "\n",
    "    def reset(self) -> None:\n",
    "        self.count = self.n_rows * self.n_cols\n",
    "        self.visited = set()"
   ]
  },
  {
   "cell_type": "code",
   "execution_count": 2,
   "metadata": {},
   "outputs": [
    {
     "name": "stdout",
     "output_type": "stream",
     "text": [
      "[1, 0]\n",
      "[0, 0]\n",
      "[2, 0]\n",
      "[1, 0]\n"
     ]
    }
   ],
   "source": [
    "solution = Solution(3, 1)\n",
    "print(solution.flip())  # 返回 [1, 0]，此时返回 [0,0]、[1,0] 和 [2,0] 的概率应当相同\n",
    "print(solution.flip())  # 返回 [2, 0]，因为 [1,0] 已经返回过了，此时返回 [2,0] 和 [0,0] 的概率应当相同\n",
    "print(solution.flip())  # 返回 [0, 0]，根据前面已经返回过的下标，此时只能返回 [0,0]\n",
    "solution.reset() # 所有值都重置为 0 ，并可以再次选择下标返回\n",
    "print(solution.flip())  # 返回 [2, 0]，此时返回 [0,0]、[1,0] 和 [2,0] 的概率应当相同"
   ]
  },
  {
   "cell_type": "code",
   "execution_count": null,
   "metadata": {},
   "outputs": [],
   "source": []
  }
 ],
 "metadata": {
  "kernelspec": {
   "display_name": "Python 3",
   "language": "python",
   "name": "python3"
  },
  "language_info": {
   "codemirror_mode": {
    "name": "ipython",
    "version": 3
   },
   "file_extension": ".py",
   "mimetype": "text/x-python",
   "name": "python",
   "nbconvert_exporter": "python",
   "pygments_lexer": "ipython3",
   "version": "3.6.5"
  }
 },
 "nbformat": 4,
 "nbformat_minor": 2
}
