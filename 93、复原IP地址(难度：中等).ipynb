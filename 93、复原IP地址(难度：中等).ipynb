{
 "cells": [
  {
   "cell_type": "markdown",
   "metadata": {},
   "source": [
    "# 复原IP地址\n",
    "\n",
    "**题目来源：力扣（LeetCode）**\n",
    "\n",
    "**链接：https://leetcode-cn.com/problems/restore-ip-addresses/**\n",
    "\n",
    "## 一、题目\n",
    "\n",
    "给定一个只包含数字的字符串，复原它并返回所有可能的 IP 地址格式。\n",
    "\n",
    "有效的 IP 地址正好由四个整数（每个整数位于 0 到 255 之间组成），整数之间用 '.' 分隔。\n",
    "\n",
    "## 二、示例\n",
    "\n",
    "输入: \"25525511135\"\n",
    "\n",
    "输出: [\"255.255.11.135\", \"255.255.111.35\"]\n",
    "\n",
    "## 三、解题思路\n",
    "\n",
    "### 回溯法"
   ]
  },
  {
   "cell_type": "code",
   "execution_count": 1,
   "metadata": {},
   "outputs": [],
   "source": [
    "def restoreIpAddresses(s: str):\n",
    "    def generate(ip, item, result):\n",
    "        if len(item) > 4:\n",
    "            return\n",
    "        if not ip and len(item) < 4:\n",
    "            return\n",
    "        if not ip:\n",
    "            result.append(\".\".join(item))\n",
    "            return\n",
    "        item.append(ip[0])\n",
    "        generate(ip[1:], item, result)\n",
    "        item.pop()\n",
    "        if ip[0] == \"0\" or len(ip) < 2:\n",
    "            return\n",
    "        item.append(ip[:2])\n",
    "        generate(ip[2:], item, result)\n",
    "        item.pop()\n",
    "        if len(ip) < 3 or int(ip[:3]) > 255:\n",
    "            return\n",
    "        item.append(ip[:3])\n",
    "        generate(ip[3:], item, result)\n",
    "        item.pop()\n",
    "    result = []\n",
    "    generate(s, [], result)\n",
    "    return result"
   ]
  },
  {
   "cell_type": "code",
   "execution_count": 2,
   "metadata": {},
   "outputs": [
    {
     "data": {
      "text/plain": [
       "['255.255.11.135', '255.255.111.35']"
      ]
     },
     "execution_count": 2,
     "metadata": {},
     "output_type": "execute_result"
    }
   ],
   "source": [
    "restoreIpAddresses(\"25525511135\")"
   ]
  },
  {
   "cell_type": "code",
   "execution_count": 3,
   "metadata": {},
   "outputs": [
    {
     "data": {
      "text/plain": [
       "['1.1.1.1']"
      ]
     },
     "execution_count": 3,
     "metadata": {},
     "output_type": "execute_result"
    }
   ],
   "source": [
    "restoreIpAddresses(\"1111\")"
   ]
  },
  {
   "cell_type": "code",
   "execution_count": null,
   "metadata": {},
   "outputs": [],
   "source": []
  }
 ],
 "metadata": {
  "kernelspec": {
   "display_name": "Python 3",
   "language": "python",
   "name": "python3"
  },
  "language_info": {
   "codemirror_mode": {
    "name": "ipython",
    "version": 3
   },
   "file_extension": ".py",
   "mimetype": "text/x-python",
   "name": "python",
   "nbconvert_exporter": "python",
   "pygments_lexer": "ipython3",
   "version": "3.6.5"
  }
 },
 "nbformat": 4,
 "nbformat_minor": 2
}
