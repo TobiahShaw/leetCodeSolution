{
 "cells": [
  {
   "cell_type": "markdown",
   "metadata": {},
   "source": [
    "# 路径交叉\n",
    "\n",
    "**题目来源：力扣（LeetCode）**\n",
    "\n",
    "**链接：https://leetcode-cn.com/problems/self-crossing/**\n",
    "\n",
    "## 一、题目\n",
    "\n",
    "给你一个整数数组 distance 。\n",
    "\n",
    "从 X-Y 平面上的点 (0,0) 开始，先向北移动 distance[0] 米，然后向西移动 distance[1] 米，向南移动 distance[2] 米，向东移动 distance[3] 米，持续移动。也就是说，每次移动后你的方位会发生逆时针变化。\n",
    "\n",
    "判断你所经过的路径是否相交。如果相交，返回 true ；否则，返回 false 。\n",
    "\n",
    "### 提示：\n",
    "\n",
    "- 1 <= distance.length <= 10^5\n",
    "- 1 <= distance[i] <= 10^5\n",
    "\n",
    "## 二、示例\n",
    "\n",
    "### 示例 1：\n",
    "\n",
    "输入：distance = [2,1,1,2]\n",
    "\n",
    "输出：true\n",
    "\n",
    "### 示例 2：\n",
    "\n",
    "输入：distance = [1,2,3,4]\n",
    "\n",
    "输出：false\n",
    "\n",
    "### 示例 3：\n",
    "\n",
    "输入：distance = [1,1,1,1]\n",
    "\n",
    "输出：true\n",
    "\n",
    "## 三、解题思路\n",
    "\n",
    "### 枚举所有情况"
   ]
  },
  {
   "cell_type": "code",
   "execution_count": 1,
   "metadata": {},
   "outputs": [],
   "source": [
    "def isSelfCrossing(distance) -> bool:\n",
    "    n = len(distance)\n",
    "\n",
    "    i = 0\n",
    "    while i < n and (i < 2 or distance[i] > distance[i - 2]):\n",
    "        i += 1\n",
    "\n",
    "    if i == n:\n",
    "        return False\n",
    "\n",
    "    if ((i == 3 and distance[i] == distance[i - 2])\n",
    "            or (i >= 4 and distance[i] >= distance[i - 2] - distance[i - 4])):\n",
    "        distance[i - 1] -= distance[i - 3]\n",
    "    i += 1\n",
    "\n",
    "    while i < n and distance[i] < distance[i - 2]:\n",
    "        i += 1\n",
    "\n",
    "    return i != n"
   ]
  },
  {
   "cell_type": "code",
   "execution_count": 2,
   "metadata": {},
   "outputs": [
    {
     "data": {
      "text/plain": [
       "True"
      ]
     },
     "execution_count": 2,
     "metadata": {},
     "output_type": "execute_result"
    }
   ],
   "source": [
    "isSelfCrossing([2,1,1,2])"
   ]
  },
  {
   "cell_type": "code",
   "execution_count": 3,
   "metadata": {},
   "outputs": [
    {
     "data": {
      "text/plain": [
       "False"
      ]
     },
     "execution_count": 3,
     "metadata": {},
     "output_type": "execute_result"
    }
   ],
   "source": [
    "isSelfCrossing([1,2,3,4])"
   ]
  },
  {
   "cell_type": "code",
   "execution_count": 4,
   "metadata": {},
   "outputs": [
    {
     "data": {
      "text/plain": [
       "True"
      ]
     },
     "execution_count": 4,
     "metadata": {},
     "output_type": "execute_result"
    }
   ],
   "source": [
    "isSelfCrossing([1,1,1,1])"
   ]
  },
  {
   "cell_type": "code",
   "execution_count": null,
   "metadata": {},
   "outputs": [],
   "source": []
  }
 ],
 "metadata": {
  "kernelspec": {
   "display_name": "Python 3",
   "language": "python",
   "name": "python3"
  },
  "language_info": {
   "codemirror_mode": {
    "name": "ipython",
    "version": 3
   },
   "file_extension": ".py",
   "mimetype": "text/x-python",
   "name": "python",
   "nbconvert_exporter": "python",
   "pygments_lexer": "ipython3",
   "version": "3.6.5"
  }
 },
 "nbformat": 4,
 "nbformat_minor": 2
}
