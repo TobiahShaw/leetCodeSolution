{
 "cells": [
  {
   "cell_type": "markdown",
   "metadata": {
    "collapsed": true
   },
   "source": [
    "# 分隔链表\n",
    "\n",
    "**题目来源：力扣（LeetCode）**\n",
    "\n",
    "**链接：https://leetcode-cn.com/problems/partition-list/**\n",
    "\n",
    "## 一、题目\n",
    "\n",
    "给定一个链表和一个特定值 x，对链表进行分隔，使得所有小于 x 的节点都在大于或等于 x 的节点之前。\n",
    "\n",
    "你应当保留两个分区中每个节点的初始相对位置。\n",
    "\n",
    "## 二、示例\n",
    "\n",
    "输入: head = 1->4->3->2->5->2, x = 3\n",
    "\n",
    "输出: 1->2->2->4->3->5\n",
    "\n",
    "## 三、解题思路"
   ]
  },
  {
   "cell_type": "code",
   "execution_count": 1,
   "metadata": {},
   "outputs": [],
   "source": [
    "class ListNode:\n",
    "    def __init__(self, x):\n",
    "        self.val = x\n",
    "        self.next = None"
   ]
  },
  {
   "cell_type": "markdown",
   "metadata": {},
   "source": [
    "### 一、模拟"
   ]
  },
  {
   "cell_type": "code",
   "execution_count": 2,
   "metadata": {},
   "outputs": [],
   "source": [
    "head = ListNode(1)\n",
    "head.next = ListNode(4)\n",
    "head.next.next = ListNode(3)\n",
    "head.next.next.next = ListNode(2)\n",
    "head.next.next.next.next = ListNode(5)\n",
    "head.next.next.next.next.next = ListNode(2)"
   ]
  },
  {
   "cell_type": "code",
   "execution_count": 3,
   "metadata": {},
   "outputs": [],
   "source": [
    "def partition(head: ListNode, x: int) -> ListNode:\n",
    "    holderL, holderB = ListNode(0), ListNode(0)\n",
    "    hL, hB = holderL, holderB\n",
    "    while head:\n",
    "        if head.val < x:\n",
    "            hL.next = head\n",
    "            hL = hL.next\n",
    "        else:\n",
    "            hB.next = head\n",
    "            hB = hB.next\n",
    "        head = head.next\n",
    "    hL.next = None\n",
    "    hB.next = None\n",
    "    if not holderL.next:\n",
    "        return holderB.next\n",
    "    hL.next = holderB.next\n",
    "    return holderL.next"
   ]
  },
  {
   "cell_type": "code",
   "execution_count": 4,
   "metadata": {},
   "outputs": [
    {
     "name": "stdout",
     "output_type": "stream",
     "text": [
      "1 2 2 4 3 5 "
     ]
    }
   ],
   "source": [
    "res = partition(head, 3)\n",
    "while res:\n",
    "    print(res.val, end=' ')\n",
    "    res = res.next"
   ]
  },
  {
   "cell_type": "markdown",
   "metadata": {},
   "source": [
    "### 二、利用数组"
   ]
  },
  {
   "cell_type": "code",
   "execution_count": 5,
   "metadata": {},
   "outputs": [],
   "source": [
    "def partition(head: ListNode, x: int) -> ListNode:\n",
    "    result1,result2=[],[]\n",
    "    while head:\n",
    "        if head.val<x:\n",
    "            result1.append(head.val)\n",
    "        else:\n",
    "            result2.append(head.val)\n",
    "        head=head.next\n",
    "    head=ListNode(0)\n",
    "    currentnode=head\n",
    "    while result1:\n",
    "        currentnode.next=ListNode(result1[0])\n",
    "        result1.pop(0)\n",
    "        currentnode=currentnode.next\n",
    "    while result2:\n",
    "        currentnode.next=ListNode(result2[0])\n",
    "        result2.pop(0)\n",
    "        currentnode=currentnode.next\n",
    "    return head.next"
   ]
  },
  {
   "cell_type": "code",
   "execution_count": 6,
   "metadata": {},
   "outputs": [
    {
     "name": "stdout",
     "output_type": "stream",
     "text": [
      "1 2 2 4 3 5 "
     ]
    }
   ],
   "source": [
    "res = partition(head, 3)\n",
    "while res:\n",
    "    print(res.val, end=' ')\n",
    "    res = res.next"
   ]
  },
  {
   "cell_type": "code",
   "execution_count": null,
   "metadata": {},
   "outputs": [],
   "source": []
  }
 ],
 "metadata": {
  "kernelspec": {
   "display_name": "Python 3",
   "language": "python",
   "name": "python3"
  },
  "language_info": {
   "codemirror_mode": {
    "name": "ipython",
    "version": 3
   },
   "file_extension": ".py",
   "mimetype": "text/x-python",
   "name": "python",
   "nbconvert_exporter": "python",
   "pygments_lexer": "ipython3",
   "version": "3.6.5"
  }
 },
 "nbformat": 4,
 "nbformat_minor": 2
}
