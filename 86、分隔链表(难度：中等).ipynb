{
  "cells": [
    {
      "metadata": {
        "collapsed": true
      },
      "cell_type": "markdown",
      "source": "# 分隔链表\n\n**题目来源：力扣（LeetCode）**\n\n**链接：https://leetcode-cn.com/problems/partition-list/**\n\n## 一、题目\n\n给定一个链表和一个特定值 x，对链表进行分隔，使得所有小于 x 的节点都在大于或等于 x 的节点之前。\n\n你应当保留两个分区中每个节点的初始相对位置。\n\n## 二、示例\n\n输入: head = 1->4->3->2->5->2, x = 3\n\n输出: 1->2->2->4->3->5\n\n## 三、解题思路"
    },
    {
      "metadata": {
        "trusted": true
      },
      "cell_type": "code",
      "source": "class ListNode:\n    def __init__(self, x):\n        self.val = x\n        self.next = None",
      "execution_count": 1,
      "outputs": []
    },
    {
      "metadata": {},
      "cell_type": "markdown",
      "source": "### 模拟"
    },
    {
      "metadata": {
        "trusted": true
      },
      "cell_type": "code",
      "source": "head = ListNode(1)\nhead.next = ListNode(4)\nhead.next.next = ListNode(3)\nhead.next.next.next = ListNode(2)\nhead.next.next.next.next = ListNode(5)\nhead.next.next.next.next.next = ListNode(2)",
      "execution_count": 2,
      "outputs": []
    },
    {
      "metadata": {
        "trusted": true
      },
      "cell_type": "code",
      "source": "def partition(head: ListNode, x: int) -> ListNode:\n    holderL, holderB = ListNode(0), ListNode(0)\n    hL, hB = holderL, holderB\n    while head:\n        if head.val < x:\n            hL.next = head\n            hL = hL.next\n        else:\n            hB.next = head\n            hB = hB.next\n        head = head.next\n    hL.next = None\n    hB.next = None\n    if not holderL.next:\n        return holderB.next\n    hL.next = holderB.next\n    return holderL.next",
      "execution_count": 3,
      "outputs": []
    },
    {
      "metadata": {
        "trusted": true
      },
      "cell_type": "code",
      "source": "res = partition(head, 3)\nwhile res:\n    print(res.val, end=' ')\n    res = res.next",
      "execution_count": 4,
      "outputs": [
        {
          "output_type": "stream",
          "text": "1 2 2 4 3 5 ",
          "name": "stdout"
        }
      ]
    },
    {
      "metadata": {
        "trusted": true
      },
      "cell_type": "code",
      "source": "",
      "execution_count": null,
      "outputs": []
    }
  ],
  "metadata": {
    "kernelspec": {
      "name": "python36",
      "display_name": "Python 3.6",
      "language": "python"
    },
    "language_info": {
      "mimetype": "text/x-python",
      "nbconvert_exporter": "python",
      "name": "python",
      "pygments_lexer": "ipython3",
      "version": "3.6.6",
      "file_extension": ".py",
      "codemirror_mode": {
        "version": 3,
        "name": "ipython"
      }
    }
  },
  "nbformat": 4,
  "nbformat_minor": 2
}