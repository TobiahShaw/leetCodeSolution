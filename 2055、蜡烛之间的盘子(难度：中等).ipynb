{
 "cells": [
  {
   "cell_type": "markdown",
   "metadata": {},
   "source": [
    "# 蜡烛之间的盘子\n",
    "\n",
    "**题目来源：力扣（LeetCode）**\n",
    "\n",
    "**链接：https://leetcode-cn.com/problems/plates-between-candles/**\n",
    "\n",
    "## 一、题目\n",
    "\n",
    "给你一个长桌子，桌子上盘子和蜡烛排成一列。给你一个下标从 0 开始的字符串 s ，它只包含字符 '\\*' 和 '|' ，其中 '\\*' 表示一个 盘子 ，'|' 表示一支 蜡烛 。\n",
    "\n",
    "同时给你一个下标从 0 开始的二维整数数组 queries ，其中 queries[i] = [lefti, righti] 表示 子字符串 s[lefti...righti] （包含左右端点的字符）。对于每个查询，你需要找到 子字符串中 在 两支蜡烛之间 的盘子的 数目 。如果一个盘子在 子字符串中 左边和右边 都 至少有一支蜡烛，那么这个盘子满足在 两支蜡烛之间 。\n",
    "\n",
    "- 比方说，s = \"||\\*\\*||\\*\\*|\\*\" ，查询 [3, 8] ，表示的是子字符串 \"\\*||\\*\\*|\" 。子字符串中在两支蜡烛之间的盘子数目为 2 ，子字符串中右边两个盘子在它们左边和右边 都 至少有一支蜡烛。\n",
    "\n",
    "请你返回一个整数数组 answer ，其中 answer[i] 是第 i 个查询的答案。\n",
    "\n",
    "### 提示：\n",
    "\n",
    "- 3 <= s.length <= 10^5\n",
    "- s 只包含字符 '\\*' 和 '|' 。\n",
    "- 1 <= queries.length <= 10^5\n",
    "- queries[i].length == 2\n",
    "- 0 <= lefti <= righti < s.length\n",
    "\n",
    "## 二、示例\n",
    "\n",
    "### 示例 1：\n",
    "\n",
    "输入：s = \"\\*\\*|\\*\\*|\\*\\*\\*|\", queries = [[2,5],[5,9]]\n",
    "\n",
    "输出：[2,3]\n",
    "\n",
    "解释：\n",
    "\n",
    "- queries[0] 有两个盘子在蜡烛之间。\n",
    "- queries[1] 有三个盘子在蜡烛之间。\n",
    "\n",
    "### 示例 2:\n",
    "\n",
    "输入：s = \"\\*\\*\\*|\\*\\*|\\*\\*\\*\\*\\*|\\*\\*||\\*\\*|\\*\", queries = [[1,17],[4,5],[14,17],[5,11],[15,16]]\n",
    "\n",
    "输出：[9,0,0,0,0]\n",
    "\n",
    "解释：\n",
    "\n",
    "- queries[0] 有 9 个盘子在蜡烛之间。\n",
    "- 另一个查询没有盘子在蜡烛之间。\n",
    "\n",
    "## 三、解题思路\n",
    "\n",
    "### 前缀+后缀"
   ]
  },
  {
   "cell_type": "code",
   "execution_count": 1,
   "metadata": {},
   "outputs": [],
   "source": [
    "def platesBetweenCandles(s: str, queries):\n",
    "    n = len(s)\n",
    "    prefix = [0] * n\n",
    "    cur = 0\n",
    "    next_asc = [0] * n\n",
    "    next_desc = [0] * n\n",
    "    last_asc = -1\n",
    "    last_desc = -1\n",
    "    for i in range(n):\n",
    "        cur += 1 if s[i] == '|' else 0\n",
    "        prefix[i] = cur\n",
    "\n",
    "        if s[n-i-1] == '|':\n",
    "            last_asc = n-i-1\n",
    "        next_asc[n-i-1] = last_asc\n",
    "\n",
    "        if s[i] == '|':\n",
    "            last_desc = i\n",
    "        next_desc[i] = last_desc\n",
    "\n",
    "    ret = []\n",
    "    for q in queries:\n",
    "        start = next_asc[q[0]]\n",
    "        end = next_desc[q[1]]\n",
    "        e = prefix[end] - prefix[start] - 1\n",
    "        if start < end and start >= 0 and end < n:\n",
    "            ret.append(max(0, end-start-e-1))\n",
    "        else:\n",
    "            ret.append(0)\n",
    "    return ret"
   ]
  },
  {
   "cell_type": "code",
   "execution_count": 2,
   "metadata": {},
   "outputs": [
    {
     "data": {
      "text/plain": [
       "[2, 3]"
      ]
     },
     "execution_count": 2,
     "metadata": {},
     "output_type": "execute_result"
    }
   ],
   "source": [
    "platesBetweenCandles(s = \"**|**|***|\", queries = [[2,5],[5,9]])"
   ]
  },
  {
   "cell_type": "code",
   "execution_count": 3,
   "metadata": {},
   "outputs": [
    {
     "data": {
      "text/plain": [
       "[9, 0, 0, 0, 0]"
      ]
     },
     "execution_count": 3,
     "metadata": {},
     "output_type": "execute_result"
    }
   ],
   "source": [
    "platesBetweenCandles(s = \"***|**|*****|**||**|*\", queries = [[1,17],[4,5],[14,17],[5,11],[15,16]])"
   ]
  },
  {
   "cell_type": "code",
   "execution_count": null,
   "metadata": {},
   "outputs": [],
   "source": []
  }
 ],
 "metadata": {
  "kernelspec": {
   "display_name": "Python 3",
   "language": "python",
   "name": "python3"
  },
  "language_info": {
   "codemirror_mode": {
    "name": "ipython",
    "version": 3
   },
   "file_extension": ".py",
   "mimetype": "text/x-python",
   "name": "python",
   "nbconvert_exporter": "python",
   "pygments_lexer": "ipython3",
   "version": "3.6.5"
  }
 },
 "nbformat": 4,
 "nbformat_minor": 2
}
