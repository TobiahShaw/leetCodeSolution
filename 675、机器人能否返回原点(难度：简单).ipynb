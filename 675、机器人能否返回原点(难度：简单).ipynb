{
  "cells": [
    {
      "cell_type": "markdown",
      "metadata": {
        "collapsed": true
      },
      "source": [
        "# 机器人能否返回原点\n",
        "\n",
        "**题目来源：力扣（LeetCode）**\n",
        "\n",
        "**链接：https://leetcode-cn.com/problems/robot-return-to-origin/**\n",
        "\n",
        "## 一、题目\n",
        "\n",
        "在二维平面上，有一个机器人从原点 (0, 0) 开始。给出它的移动顺序，判断这个机器人在完成移动后是否在 (0, 0) 处结束。\n",
        "\n",
        "移动顺序由字符串表示。字符 move[i] 表示其第 i 次移动。机器人的有效动作有 R（右），L（左），U（上）和 D（下）。如果机器人在完成所有动作后返回原点，则返回 true。否则，返回 false。\n",
        "\n",
        "注意：机器人“面朝”的方向无关紧要。 “R” 将始终使机器人向右移动一次，“L” 将始终向左移动等。此外，假设每次移动机器人的移动幅度相同。\n",
        "\n",
        "### 提示:\n",
        "\n",
        "- 1 <= moves.length <= 2 * 10^4\n",
        "- moves 只包含字符 'U', 'D', 'L' 和 'R'\n",
        "\n",
        "## 二、示例\n",
        "\n",
        "### 示例 1:\n",
        "\n",
        "输入: \"UD\"\n",
        "\n",
        "输出: true\n",
        "\n",
        "解释：机器人向上移动一次，然后向下移动一次。所有动作都具有相同的幅度，因此它最终回到它开始的原点。因此，我们返回 true。\n",
        "\n",
        "### 示例 2:\n",
        "\n",
        "输入: \"LL\"\n",
        "\n",
        "输出: false\n",
        "\n",
        "解释：机器人向左移动两次。它最终位于原点的左侧，距原点有两次 “移动” 的距离。我们返回 false，因为它在移动结束时没有返回原点。\n",
        "\n",
        "## 解题思路\n",
        "\n",
        "### 模拟\n",
        "\n",
        "用两个数字分别记录移动坐标"
      ]
    },
    {
      "cell_type": "code",
      "execution_count": 1,
      "metadata": {
        "trusted": true
      },
      "outputs": [],
      "source": [
        "def judgeCircle(moves):\n",
        "    x,y = 0, 0\n",
        "    for o in moves:\n",
        "        if o == 'R':\n",
        "            x += 1\n",
        "        elif o == 'L':\n",
        "            x -= 1\n",
        "        elif o == 'U':\n",
        "            y += 1\n",
        "        elif o == 'D':\n",
        "            y -= 1\n",
        "    return not x  and not y"
      ]
    },
    {
      "cell_type": "code",
      "execution_count": 2,
      "metadata": {
        "trusted": true
      },
      "outputs": [
        {
          "data": {
            "text/plain": [
              "True"
            ]
          },
          "execution_count": 2,
          "metadata": {},
          "output_type": "execute_result"
        }
      ],
      "source": [
        "judgeCircle(\"UD\")"
      ]
    },
    {
      "cell_type": "code",
      "execution_count": 3,
      "metadata": {
        "trusted": true
      },
      "outputs": [
        {
          "data": {
            "text/plain": [
              "False"
            ]
          },
          "execution_count": 3,
          "metadata": {},
          "output_type": "execute_result"
        }
      ],
      "source": [
        "judgeCircle(\"LL\")"
      ]
    },
    {
      "cell_type": "code",
      "execution_count": null,
      "metadata": {
        "trusted": true
      },
      "outputs": [],
      "source": []
    }
  ],
  "metadata": {
    "kernelspec": {
      "display_name": "Python 3.6",
      "language": "python",
      "name": "python36"
    },
    "language_info": {
      "codemirror_mode": {
        "name": "ipython",
        "version": 3
      },
      "file_extension": ".py",
      "mimetype": "text/x-python",
      "name": "python",
      "nbconvert_exporter": "python",
      "pygments_lexer": "ipython3",
      "version": "3.6.6"
    }
  },
  "nbformat": 4,
  "nbformat_minor": 2
}
