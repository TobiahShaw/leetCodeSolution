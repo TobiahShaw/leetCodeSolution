{
 "cells": [
  {
   "cell_type": "markdown",
   "metadata": {},
   "source": [
    "# 重复的子字符串\n",
    "\n",
    "**题目来源：力扣（LeetCode）**\n",
    "\n",
    "**链接：https://leetcode-cn.com/problems/repeated-substring-pattern/**\n",
    "\n",
    "## 一、题目\n",
    "\n",
    "给定一个非空的字符串，判断它是否可以由它的一个子串重复多次构成。给定的字符串只含有小写英文字母，并且长度不超过10000。\n",
    "\n",
    "## 二、示例\n",
    "\n",
    "### 示例 1:\n",
    "\n",
    "输入: \"abab\"\n",
    "\n",
    "输出: True\n",
    "\n",
    "解释: 可由子字符串 \"ab\" 重复两次构成。\n",
    "\n",
    "### 示例 2:\n",
    "\n",
    "输入: \"aba\"\n",
    "\n",
    "输出: False\n",
    "\n",
    "### 示例 3:\n",
    "\n",
    "输入: \"abcabcabcabc\"\n",
    "\n",
    "输出: True\n",
    "\n",
    "解释: 可由子字符串 \"abc\" 重复四次构成。 (或者子字符串 \"abcabc\" 重复两次构成。)\n",
    "\n",
    "## 三、解题思路\n",
    "\n",
    "### 枚举\n",
    "\n",
    "如果一个长度为 n 的字符串 s 可以由它的一个长度为 n'的子串 s'重复多次构成，那么：\n",
    "\n",
    "- n 一定是 n'的倍数；\n",
    "\n",
    "- s'一定是 s 的前缀；\n",
    "\n",
    "对于任意的 $ i \\in [n', n)，有 s[i] = s[i-n'] $。\n",
    "\n",
    "也就是说，s 中长度为 n'的前缀就是 s'，并且在这之后的每一个位置上的字符 s[i]，都需要与它之前的第 n'个字符 s[i-n'] 相同。"
   ]
  },
  {
   "cell_type": "code",
   "execution_count": 1,
   "metadata": {},
   "outputs": [],
   "source": [
    "def repeatedSubstringPattern(s: str) -> bool:\n",
    "    n = len(s)\n",
    "    for i in range(1, n // 2 + 1):\n",
    "        if n % i == 0:\n",
    "            if all(s[j] == s[j - i] for j in range(i, n)):\n",
    "                return True\n",
    "    return False"
   ]
  },
  {
   "cell_type": "code",
   "execution_count": 2,
   "metadata": {},
   "outputs": [
    {
     "data": {
      "text/plain": [
       "True"
      ]
     },
     "execution_count": 2,
     "metadata": {},
     "output_type": "execute_result"
    }
   ],
   "source": [
    "repeatedSubstringPattern(\"abab\")"
   ]
  },
  {
   "cell_type": "code",
   "execution_count": 3,
   "metadata": {},
   "outputs": [
    {
     "data": {
      "text/plain": [
       "False"
      ]
     },
     "execution_count": 3,
     "metadata": {},
     "output_type": "execute_result"
    }
   ],
   "source": [
    "repeatedSubstringPattern(\"aba\")"
   ]
  },
  {
   "cell_type": "code",
   "execution_count": 4,
   "metadata": {},
   "outputs": [
    {
     "data": {
      "text/plain": [
       "True"
      ]
     },
     "execution_count": 4,
     "metadata": {},
     "output_type": "execute_result"
    }
   ],
   "source": [
    "repeatedSubstringPattern(\"abcabcabcabc\")"
   ]
  },
  {
   "cell_type": "code",
   "execution_count": null,
   "metadata": {},
   "outputs": [],
   "source": []
  }
 ],
 "metadata": {
  "kernelspec": {
   "display_name": "Python 3",
   "language": "python",
   "name": "python3"
  },
  "language_info": {
   "codemirror_mode": {
    "name": "ipython",
    "version": 3
   },
   "file_extension": ".py",
   "mimetype": "text/x-python",
   "name": "python",
   "nbconvert_exporter": "python",
   "pygments_lexer": "ipython3",
   "version": "3.6.5"
  }
 },
 "nbformat": 4,
 "nbformat_minor": 2
}
