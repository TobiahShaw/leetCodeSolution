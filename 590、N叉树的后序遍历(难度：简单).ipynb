{
  "cells": [
    {
      "metadata": {
        "collapsed": true
      },
      "cell_type": "markdown",
      "source": "# N叉树的后序遍历\n\n**题目来源：力扣（LeetCode）**\n\n**链接：https://leetcode-cn.com/problems/n-ary-tree-postorder-traversal/**\n\n## 一、题目\n\n给定一个 N 叉树，返回其节点值的后序遍历。\n\n## 二、示例\n\n例如，给定一个 3叉树\n\n&emsp;&emsp;&emsp;&emsp;1\n\n&emsp;&emsp;&emsp;/&emsp;|&emsp;\\\n\n&emsp;&emsp;3&emsp;&emsp;2&emsp;&emsp;4\n\n&emsp;/&emsp;&emsp;\\\n\n5&emsp;&emsp;&emsp;&emsp;6\n\n返回其后序遍历: [5,6,3,2,4,1].\n\n## 三、解题思路\n\n### 一、递归"
    },
    {
      "metadata": {
        "trusted": true
      },
      "cell_type": "code",
      "source": "class Node:\n    def __init__(self, val=None, children=None):\n        self.val = val\n        self.children = children",
      "execution_count": 1,
      "outputs": []
    },
    {
      "metadata": {
        "trusted": true
      },
      "cell_type": "code",
      "source": "root = Node(val=1)\nnode_1 = Node(val=3)\nnode_2 = Node(val=2, children=[])\nnode_3 = Node(val=4, children=[])\nnode_1_1 = Node(val=5, children=[])\nnode_1_2 = Node(val=6, children=[])\n\nroot.children = [node_1,node_2,node_3]\nnode_1.children = [node_1_1, node_1_2]",
      "execution_count": 6,
      "outputs": []
    },
    {
      "metadata": {
        "trusted": true
      },
      "cell_type": "code",
      "source": "def postorder(root):\n    vals = []\n    if root is not None:\n        for child in root.children:\n            vals.extend(postorder(child))\n        vals.append(root.val)\n    return vals",
      "execution_count": 7,
      "outputs": []
    },
    {
      "metadata": {
        "trusted": true
      },
      "cell_type": "code",
      "source": "postorder(root)",
      "execution_count": 8,
      "outputs": [
        {
          "output_type": "execute_result",
          "execution_count": 8,
          "data": {
            "text/plain": "[5, 6, 3, 2, 4, 1]"
          },
          "metadata": {}
        }
      ]
    },
    {
      "metadata": {},
      "cell_type": "markdown",
      "source": "### 二、迭代"
    },
    {
      "metadata": {
        "trusted": true
      },
      "cell_type": "code",
      "source": "",
      "execution_count": null,
      "outputs": []
    }
  ],
  "metadata": {
    "kernelspec": {
      "name": "python36",
      "display_name": "Python 3.6",
      "language": "python"
    },
    "language_info": {
      "mimetype": "text/x-python",
      "nbconvert_exporter": "python",
      "name": "python",
      "pygments_lexer": "ipython3",
      "version": "3.6.6",
      "file_extension": ".py",
      "codemirror_mode": {
        "version": 3,
        "name": "ipython"
      }
    }
  },
  "nbformat": 4,
  "nbformat_minor": 2
}