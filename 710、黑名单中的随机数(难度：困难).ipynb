{
 "cells": [
  {
   "cell_type": "markdown",
   "metadata": {},
   "source": [
    "# 黑名单中的随机数\n",
    "\n",
    "**题目来源：力扣（LeetCode）**\n",
    "\n",
    "**链接：https://leetcode.cn/problems/random-pick-with-blacklist/**\n",
    "\n",
    "## 一、题目\n",
    "\n",
    "给定一个整数 n 和一个 无重复 黑名单整数数组 blacklist 。设计一种算法，从 [0, n - 1] 范围内的任意整数中选取一个 未加入 黑名单 blacklist 的整数。任何在上述范围内且不在黑名单 blacklist 中的整数都应该有 同等的可能性 被返回。\n",
    "\n",
    "优化你的算法，使它最小化调用语言 内置 随机函数的次数。\n",
    "\n",
    "实现 Solution 类:\n",
    "\n",
    "- Solution(int n, int[] blacklist) 初始化整数 n 和被加入黑名单 blacklist 的整数\n",
    "- int pick() 返回一个范围为 [0, n - 1] 且不在黑名单 blacklist 中的随机整数\n",
    "\n",
    "### 提示:\n",
    "\n",
    "- 1 <= n <= 10^9\n",
    "- 0 <= blacklist.length <= min(10^5, n - 1)\n",
    "- 0 <= blacklist[i] < n\n",
    "- blacklist 中所有值都 不同\n",
    "- pick 最多被调用 2 * 10^4 次\n",
    "\n",
    "## 二、示例\n",
    "\n",
    "输入\n",
    "\n",
    "[\"Solution\", \"pick\", \"pick\", \"pick\", \"pick\", \"pick\", \"pick\", \"pick\"]\n",
    "[[7, [2, 3, 5]], [], [], [], [], [], [], []]\n",
    "\n",
    "输出\n",
    "\n",
    "[null, 0, 4, 1, 6, 1, 0, 4]\n",
    "\n",
    "解释\n",
    "\n",
    "```\n",
    "solution = Solution(7, [2, 3, 5])\n",
    "solution.pick() # 返回0，任何[0,1,4,6]的整数都可以。注意，对于每一个pick的调用，0、1、4和6的返回概率必须相等(即概率为1/4)。\n",
    "solution.pick() # 返回 4\n",
    "solution.pick() # 返回 1\n",
    "solution.pick() # 返回 6\n",
    "solution.pick() # 返回 1\n",
    "solution.pick() # 返回 0\n",
    "solution.pick() # 返回 4\n",
    "```\n",
    "\n",
    "## 三、解题思路\n",
    "\n",
    "### 映射\n",
    "\n",
    "把黑名单全部映射到范围的尾部，这样随机一个 0 到 n-m 的值即可"
   ]
  },
  {
   "cell_type": "code",
   "execution_count": 1,
   "metadata": {},
   "outputs": [],
   "source": [
    "from random import randrange\n",
    "\n",
    "class Solution:\n",
    "\n",
    "    def __init__(self, n: int, blacklist):\n",
    "        m = len(blacklist)\n",
    "        self.bound = w = n - m\n",
    "        black = {b for b in blacklist if b >= self.bound}\n",
    "        self.b2w = {}\n",
    "        for b in blacklist:\n",
    "            if b < self.bound:\n",
    "                while w in black:\n",
    "                    w += 1\n",
    "                self.b2w[b] = w\n",
    "                w += 1\n",
    "\n",
    "    def pick(self) -> int:\n",
    "        x = randrange(self.bound)\n",
    "        return self.b2w.get(x, x)"
   ]
  },
  {
   "cell_type": "code",
   "execution_count": 2,
   "metadata": {},
   "outputs": [
    {
     "name": "stdout",
     "output_type": "stream",
     "text": [
      "6\n",
      "1\n",
      "6\n",
      "4\n",
      "0\n",
      "4\n",
      "6\n"
     ]
    }
   ],
   "source": [
    "solution = Solution(7, [2, 3, 5])\n",
    "print(solution.pick()) # 返回0，任何[0,1,4,6]的整数都可以。注意，对于每一个pick的调用，0、1、4和6的返回概率必须相等(即概率为1/4)。\n",
    "print(solution.pick())\n",
    "print(solution.pick())\n",
    "print(solution.pick())\n",
    "print(solution.pick())\n",
    "print(solution.pick())\n",
    "print(solution.pick())"
   ]
  },
  {
   "cell_type": "code",
   "execution_count": null,
   "metadata": {},
   "outputs": [],
   "source": []
  }
 ],
 "metadata": {
  "kernelspec": {
   "display_name": "Python 3",
   "language": "python",
   "name": "python3"
  },
  "language_info": {
   "codemirror_mode": {
    "name": "ipython",
    "version": 3
   },
   "file_extension": ".py",
   "mimetype": "text/x-python",
   "name": "python",
   "nbconvert_exporter": "python",
   "pygments_lexer": "ipython3",
   "version": "3.6.5"
  }
 },
 "nbformat": 4,
 "nbformat_minor": 2
}
