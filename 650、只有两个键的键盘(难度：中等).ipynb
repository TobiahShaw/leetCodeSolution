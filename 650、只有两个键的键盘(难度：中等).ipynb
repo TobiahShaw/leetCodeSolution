{
 "cells": [
  {
   "cell_type": "markdown",
   "metadata": {},
   "source": [
    "# 只有两个键的键盘\n",
    "\n",
    "**题目来源：力扣（LeetCode）**\n",
    "\n",
    "**链接：https://leetcode-cn.com/problems/2-keys-keyboard/**\n",
    "\n",
    "## 一、题目\n",
    "\n",
    "最初记事本上只有一个字符 'A' 。你每次可以对这个记事本进行两种操作：\n",
    "\n",
    "- Copy All（复制全部）：复制这个记事本中的所有字符（不允许仅复制部分字符）。\n",
    "- Paste（粘贴）：粘贴 上一次 复制的字符。\n",
    "\n",
    "给你一个数字 n ，你需要使用最少的操作次数，在记事本上输出 恰好 n 个 'A' 。返回能够打印出 n 个 'A' 的最少操作次数。\n",
    "\n",
    "### 提示：\n",
    "\n",
    "- 1 <= n <= 1000\n",
    "\n",
    "## 二、示例\n",
    "\n",
    "### 示例 1：\n",
    "\n",
    "输入：3\n",
    "\n",
    "输出：3\n",
    "\n",
    "解释：\n",
    "\n",
    "- 最初, 只有一个字符 'A'。\n",
    "- 第 1 步, 使用 Copy All 操作。\n",
    "- 第 2 步, 使用 Paste 操作来获得 'AA'。\n",
    "- 第 3 步, 使用 Paste 操作来获得 'AAA'。\n",
    "\n",
    "### 示例 2：\n",
    "\n",
    "输入：n = 1\n",
    "\n",
    "输出：0\n",
    "\n",
    "## 三、解题思路\n",
    "\n",
    "### DFS"
   ]
  },
  {
   "cell_type": "code",
   "execution_count": 1,
   "metadata": {},
   "outputs": [],
   "source": [
    "def minSteps(n: int) -> int:\n",
    "    from functools import lru_cache\n",
    "    inf = float('inf')\n",
    "    @lru_cache(None)\n",
    "    def dfs(cur, paste):\n",
    "        if cur == n:\n",
    "            return 0\n",
    "        elif cur > n:\n",
    "            return inf\n",
    "        if paste and (n - cur) % paste:\n",
    "            return inf\n",
    "        return min(dfs(cur, cur), dfs(cur + paste, paste)) + 1 if paste and paste != cur else (dfs(cur + paste, paste) + 1 if paste else dfs(cur, cur) + 1)\n",
    "    return dfs(1, 0)"
   ]
  },
  {
   "cell_type": "code",
   "execution_count": 2,
   "metadata": {},
   "outputs": [
    {
     "data": {
      "text/plain": [
       "3"
      ]
     },
     "execution_count": 2,
     "metadata": {},
     "output_type": "execute_result"
    }
   ],
   "source": [
    "minSteps(3)"
   ]
  },
  {
   "cell_type": "code",
   "execution_count": 3,
   "metadata": {},
   "outputs": [
    {
     "data": {
      "text/plain": [
       "0"
      ]
     },
     "execution_count": 3,
     "metadata": {},
     "output_type": "execute_result"
    }
   ],
   "source": [
    "minSteps(1)"
   ]
  },
  {
   "cell_type": "code",
   "execution_count": null,
   "metadata": {},
   "outputs": [],
   "source": []
  }
 ],
 "metadata": {
  "kernelspec": {
   "display_name": "Python 3",
   "language": "python",
   "name": "python3"
  },
  "language_info": {
   "codemirror_mode": {
    "name": "ipython",
    "version": 3
   },
   "file_extension": ".py",
   "mimetype": "text/x-python",
   "name": "python",
   "nbconvert_exporter": "python",
   "pygments_lexer": "ipython3",
   "version": "3.6.5"
  }
 },
 "nbformat": 4,
 "nbformat_minor": 2
}
