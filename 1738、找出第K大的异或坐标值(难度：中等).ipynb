{
 "cells": [
  {
   "cell_type": "markdown",
   "metadata": {},
   "source": [
    "# 找出第K大的异或坐标值\n",
    "\n",
    "**题目来源：力扣（LeetCode）**\n",
    "\n",
    "**链接：https://leetcode-cn.com/problems/find-kth-largest-xor-coordinate-value/**\n",
    "\n",
    "## 一、题目\n",
    "\n",
    "给你一个二维矩阵 matrix 和一个整数 k ，矩阵大小为 m x n 由非负整数组成。\n",
    "\n",
    "矩阵中坐标 (a, b) 的 值 可由对所有满足 0 <= i <= a < m 且 0 <= j <= b < n 的元素 matrix[i][j]（下标从 0 开始计数）执行异或运算得到。\n",
    "\n",
    "请你找出 matrix 的所有坐标中第 k 大的值（k 的值从 1 开始计数）。\n",
    "\n",
    "### 提示：\n",
    "\n",
    "- m == matrix.length\n",
    "- n == matrix[i].length\n",
    "- 1 <= m, n <= 1000\n",
    "- 0 <= matrix[i][j] <= 10^6\n",
    "- 1 <= k <= m * n\n",
    "\n",
    "## 二、示例\n",
    "\n",
    "### 示例 1：\n",
    "\n",
    "输入：matrix = [[5,2],[1,6]], k = 1\n",
    "\n",
    "输出：7\n",
    "\n",
    "解释：坐标 (0,1) 的值是 5 XOR 2 = 7 ，为最大的值。\n",
    "\n",
    "### 示例 2：\n",
    "\n",
    "输入：matrix = [[5,2],[1,6]], k = 2\n",
    "\n",
    "输出：5\n",
    "\n",
    "解释：坐标 (0,0) 的值是 5 = 5 ，为第 2 大的值。\n",
    "\n",
    "### 示例 3：\n",
    "\n",
    "输入：matrix = [[5,2],[1,6]], k = 3\n",
    "\n",
    "输出：4\n",
    "\n",
    "解释：坐标 (1,0) 的值是 5 XOR 1 = 4 ，为第 3 大的值。\n",
    "\n",
    "### 示例 4：\n",
    "\n",
    "输入：matrix = [[5,2],[1,6]], k = 4\n",
    "\n",
    "输出：0\n",
    "\n",
    "解释：坐标 (1,1) 的值是 5 XOR 2 XOR 1 XOR 6 = 0 ，为第 4 大的值。\n",
    "\n",
    "## 三、解题思路\n",
    "\n",
    "### 前缀异或 + 排序"
   ]
  },
  {
   "cell_type": "code",
   "execution_count": 1,
   "metadata": {},
   "outputs": [],
   "source": [
    "def kthLargestValue(matrix, k: int) -> int:\n",
    "    m, n = len(matrix), len(matrix[0])\n",
    "    pre = [[0] * (n + 1) for _ in range(m + 1)]\n",
    "    results = list()\n",
    "    for i in range(1, m + 1):\n",
    "        for j in range(1, n + 1):\n",
    "            pre[i][j] = pre[i - 1][j] ^ pre[i][j - 1] ^ pre[i - 1][j - 1] ^ matrix[i - 1][j - 1]\n",
    "            results.append(pre[i][j])\n",
    "    results.sort(reverse=True)\n",
    "    return results[k - 1]"
   ]
  },
  {
   "cell_type": "code",
   "execution_count": 2,
   "metadata": {},
   "outputs": [
    {
     "data": {
      "text/plain": [
       "7"
      ]
     },
     "execution_count": 2,
     "metadata": {},
     "output_type": "execute_result"
    }
   ],
   "source": [
    "kthLargestValue(matrix = [[5,2],[1,6]], k = 1)"
   ]
  },
  {
   "cell_type": "code",
   "execution_count": null,
   "metadata": {},
   "outputs": [],
   "source": []
  }
 ],
 "metadata": {
  "kernelspec": {
   "display_name": "Python 3",
   "language": "python",
   "name": "python3"
  },
  "language_info": {
   "codemirror_mode": {
    "name": "ipython",
    "version": 3
   },
   "file_extension": ".py",
   "mimetype": "text/x-python",
   "name": "python",
   "nbconvert_exporter": "python",
   "pygments_lexer": "ipython3",
   "version": "3.6.5"
  }
 },
 "nbformat": 4,
 "nbformat_minor": 2
}
