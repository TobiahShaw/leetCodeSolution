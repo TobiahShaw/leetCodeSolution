{
 "cells": [
  {
   "cell_type": "markdown",
   "metadata": {},
   "source": [
    "# 数组元素的最小非零乘积\n",
    "\n",
    "**题目来源：力扣（LeetCode）**\n",
    "\n",
    "**链接：https://leetcode-cn.com/problems/minimum-non-zero-product-of-the-array-elements/**\n",
    "\n",
    "## 一、题目\n",
    "\n",
    "给你一个正整数 p 。你有一个下标从 1 开始的数组 nums ，这个数组包含范围 [1, 2^p - 1] 内所有整数的二进制形式（两端都 包含）。你可以进行以下操作 任意 次：\n",
    "\n",
    "- 从 nums 中选择两个元素 x 和 y  。\n",
    "- 选择 x 中的一位与 y 对应位置的位交换。对应位置指的是两个整数 相同位置 的二进制位。\n",
    "\n",
    "比方说，如果 x = 1101 且 y = 0011 ，交换右边数起第 2 位后，我们得到 x = 1111 和 y = 0001 。\n",
    "\n",
    "请你算出进行以上操作 任意次 以后，nums 能得到的 最小非零 乘积。将乘积对 109 + 7 取余 后返回。\n",
    "\n",
    "注意：答案应为取余 之前 的最小值。\n",
    "\n",
    "### 提示：\n",
    "\n",
    "- 1 <= p <= 60\n",
    "\n",
    "## 二、示例\n",
    "\n",
    "### 示例 1：\n",
    "\n",
    "输入：p = 1\n",
    "\n",
    "输出：1\n",
    "\n",
    "解释：nums = [1] 。\n",
    "\n",
    "只有一个元素，所以乘积为该元素。\n",
    "\n",
    "### 示例 2：\n",
    "\n",
    "输入：p = 2\n",
    "\n",
    "输出：6\n",
    "\n",
    "解释：nums = [01, 10, 11] 。\n",
    "\n",
    "所有交换要么使乘积变为 0 ，要么乘积与初始乘积相同。\n",
    "\n",
    "所以，数组乘积 1 * 2 * 3 = 6 已经是最小值。\n",
    "\n",
    "### 示例 3：\n",
    "\n",
    "输入：p = 3\n",
    "\n",
    "输出：1512\n",
    "\n",
    "解释：nums = [001, 010, 011, 100, 101, 110, 111]\n",
    "\n",
    "- 第一次操作中，我们交换第二个和第五个元素最左边的数位。\n",
    "    - 结果数组为 [001, 110, 011, 100, 001, 110, 111] 。\n",
    "- 第二次操作中，我们交换第三个和第四个元素中间的数位。\n",
    "    - 结果数组为 [001, 110, 001, 110, 001, 110, 111] 。\n",
    "    \n",
    "数组乘积 1 * 6 * 1 * 6 * 1 * 6 * 7 = 1512 是最小乘积。\n",
    "\n",
    "## 三、解题思路\n",
    "\n",
    "### 数学归纳 + 快速幂\n",
    "\n",
    "其实可以总结出规律 1 * (2^n-1-1) * 1 * (2^n-1-1) * ...* (2^n-1)"
   ]
  },
  {
   "cell_type": "code",
   "execution_count": 1,
   "metadata": {},
   "outputs": [],
   "source": [
    "def minNonZeroProduct(p: int) -> int:\n",
    "    def power(base,exponent):\n",
    "        res = 1\n",
    "        while exponent:\n",
    "            if exponent & 1:\n",
    "                res *= base\n",
    "            base = base * base % (10**9 + 7)\n",
    "            exponent = exponent >> 1\n",
    "        return res % (10**9 + 7)\n",
    "    mod = 10**9 + 7 \n",
    "    if p == 1:\n",
    "        return 1\n",
    "    if p == 2:\n",
    "        return 6\n",
    "    maxVal = 2**p - 1\n",
    "    surplus = max(0, (maxVal - 3) // 2) + 1\n",
    "    powerRet = power(maxVal - 1, surplus)\n",
    "    return maxVal * powerRet % mod"
   ]
  },
  {
   "cell_type": "code",
   "execution_count": 2,
   "metadata": {},
   "outputs": [
    {
     "data": {
      "text/plain": [
       "1"
      ]
     },
     "execution_count": 2,
     "metadata": {},
     "output_type": "execute_result"
    }
   ],
   "source": [
    "minNonZeroProduct(1)"
   ]
  },
  {
   "cell_type": "code",
   "execution_count": 3,
   "metadata": {},
   "outputs": [
    {
     "data": {
      "text/plain": [
       "6"
      ]
     },
     "execution_count": 3,
     "metadata": {},
     "output_type": "execute_result"
    }
   ],
   "source": [
    "minNonZeroProduct(2)"
   ]
  },
  {
   "cell_type": "code",
   "execution_count": 4,
   "metadata": {},
   "outputs": [
    {
     "data": {
      "text/plain": [
       "1512"
      ]
     },
     "execution_count": 4,
     "metadata": {},
     "output_type": "execute_result"
    }
   ],
   "source": [
    "minNonZeroProduct(3)"
   ]
  },
  {
   "cell_type": "code",
   "execution_count": null,
   "metadata": {},
   "outputs": [],
   "source": []
  }
 ],
 "metadata": {
  "kernelspec": {
   "display_name": "Python 3",
   "language": "python",
   "name": "python3"
  },
  "language_info": {
   "codemirror_mode": {
    "name": "ipython",
    "version": 3
   },
   "file_extension": ".py",
   "mimetype": "text/x-python",
   "name": "python",
   "nbconvert_exporter": "python",
   "pygments_lexer": "ipython3",
   "version": "3.6.5"
  }
 },
 "nbformat": 4,
 "nbformat_minor": 2
}
