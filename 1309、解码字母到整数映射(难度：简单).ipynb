{
  "cells": [
    {
      "metadata": {
        "collapsed": true
      },
      "cell_type": "markdown",
      "source": "# 解码字母到整数映射\n\n**题目来源：力扣（LeetCode）**\n\n**链接：https://leetcode-cn.com/problems/decrypt-string-from-alphabet-to-integer-mapping/**\n\n## 一、题目\n\n给你一个字符串 s，它由数字（'0' - '9'）和 '#' 组成。我们希望按下述规则将 s 映射为一些小写英文字符：\n\n字符（'a' - 'i'）分别用（'1' - '9'）表示。\n\n字符（'j' - 'z'）分别用（'10#' - '26#'）表示。 \n\n返回映射之后形成的新字符串。\n\n题目数据保证映射始终唯一。\n\n## 二、示例\n\n### 示例 1：\n\n输入：s = \"10#11#12\"\n\n输出：\"jkab\"\n\n解释：\"j\" -> \"10#\" , \"k\" -> \"11#\" , \"a\" -> \"1\" , \"b\" -> \"2\".\n\n### 示例 2：\n\n输入：s = \"1326#\"\n\n输出：\"acz\"\n\n### 示例 3：\n\n输入：s = \"25#\"\n\n输出：\"y\"\n\n### 示例 4：\n\n输入：s = \"12345678910#11#12#13#14#15#16#17#18#19#20#21#22#23#24#25#26#\"\n\n输出：\"abcdefghijklmnopqrstuvwxyz\"\n\n## 三、解题思路\n\n### 迭代"
    },
    {
      "metadata": {
        "trusted": true
      },
      "cell_type": "code",
      "source": "def freqAlphabets(s):\n    pos = 0\n    res = ''\n    while pos < len(s):\n        if pos + 2 < len(s) and s[pos + 2] == '#':\n            res += chr(int(s[pos : pos + 2]) + 96)\n            pos += 3\n        else:\n            res += chr(int(s[pos]) + 96)\n            pos += 1\n    return res",
      "execution_count": 1,
      "outputs": []
    },
    {
      "metadata": {
        "trusted": true
      },
      "cell_type": "code",
      "source": "freqAlphabets(\"10#11#12\")",
      "execution_count": 2,
      "outputs": [
        {
          "output_type": "execute_result",
          "execution_count": 2,
          "data": {
            "text/plain": "'jkab'"
          },
          "metadata": {}
        }
      ]
    },
    {
      "metadata": {
        "trusted": true
      },
      "cell_type": "code",
      "source": "freqAlphabets(\"1326#\")",
      "execution_count": 3,
      "outputs": [
        {
          "output_type": "execute_result",
          "execution_count": 3,
          "data": {
            "text/plain": "'acz'"
          },
          "metadata": {}
        }
      ]
    },
    {
      "metadata": {
        "trusted": true
      },
      "cell_type": "code",
      "source": "freqAlphabets(\"25#\")",
      "execution_count": 4,
      "outputs": [
        {
          "output_type": "execute_result",
          "execution_count": 4,
          "data": {
            "text/plain": "'y'"
          },
          "metadata": {}
        }
      ]
    },
    {
      "metadata": {
        "trusted": true
      },
      "cell_type": "code",
      "source": "freqAlphabets(\"12345678910#11#12#13#14#15#16#17#18#19#20#21#22#23#24#25#26#\")",
      "execution_count": 5,
      "outputs": [
        {
          "output_type": "execute_result",
          "execution_count": 5,
          "data": {
            "text/plain": "'abcdefghijklmnopqrstuvwxyz'"
          },
          "metadata": {}
        }
      ]
    },
    {
      "metadata": {
        "trusted": true
      },
      "cell_type": "code",
      "source": "",
      "execution_count": null,
      "outputs": []
    }
  ],
  "metadata": {
    "kernelspec": {
      "name": "python36",
      "display_name": "Python 3.6",
      "language": "python"
    },
    "language_info": {
      "mimetype": "text/x-python",
      "nbconvert_exporter": "python",
      "name": "python",
      "pygments_lexer": "ipython3",
      "version": "3.6.6",
      "file_extension": ".py",
      "codemirror_mode": {
        "version": 3,
        "name": "ipython"
      }
    }
  },
  "nbformat": 4,
  "nbformat_minor": 2
}