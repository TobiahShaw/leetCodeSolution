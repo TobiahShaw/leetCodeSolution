{
 "cells": [
  {
   "cell_type": "markdown",
   "metadata": {
    "collapsed": true
   },
   "source": [
    "# 解码字母到整数映射\n",
    "\n",
    "**题目来源：力扣（LeetCode）**\n",
    "\n",
    "**链接：https://leetcode-cn.com/problems/decrypt-string-from-alphabet-to-integer-mapping/**\n",
    "\n",
    "## 一、题目\n",
    "\n",
    "给你一个字符串 s，它由数字（'0' - '9'）和 '#' 组成。我们希望按下述规则将 s 映射为一些小写英文字符：\n",
    "\n",
    "- 字符（'a' - 'i'）分别用（'1' - '9'）表示。\n",
    "- 字符（'j' - 'z'）分别用（'10#' - '26#'）表示。 \n",
    "\n",
    "返回映射之后形成的新字符串。\n",
    "\n",
    "题目数据保证映射始终唯一。\n",
    "\n",
    "### 提示：\n",
    "\n",
    "- 1 <= s.length <= 1000\n",
    "- s[i] 只包含数字（'0'-'9'）和 '#' 字符。\n",
    "- s 是映射始终存在的有效字符串。\n",
    "\n",
    "## 二、示例\n",
    "\n",
    "### 示例 1：\n",
    "\n",
    "输入：s = \"10#11#12\"\n",
    "\n",
    "输出：\"jkab\"\n",
    "\n",
    "解释：\"j\" -> \"10#\" , \"k\" -> \"11#\" , \"a\" -> \"1\" , \"b\" -> \"2\".\n",
    "\n",
    "### 示例 2：\n",
    "\n",
    "输入：s = \"1326#\"\n",
    "\n",
    "输出：\"acz\"\n",
    "\n",
    "### 示例 3：\n",
    "\n",
    "输入：s = \"25#\"\n",
    "\n",
    "输出：\"y\"\n",
    "\n",
    "### 示例 4：\n",
    "\n",
    "输入：s = \"12345678910#11#12#13#14#15#16#17#18#19#20#21#22#23#24#25#26#\"\n",
    "\n",
    "输出：\"abcdefghijklmnopqrstuvwxyz\"\n",
    "\n",
    "## 三、解题思路\n",
    "\n",
    "### 迭代"
   ]
  },
  {
   "cell_type": "code",
   "execution_count": 1,
   "metadata": {},
   "outputs": [],
   "source": [
    "def freqAlphabets(s):\n",
    "    pos = 0\n",
    "    res = ''\n",
    "    while pos < len(s):\n",
    "        if pos + 2 < len(s) and s[pos + 2] == '#':\n",
    "            res += chr(int(s[pos : pos + 2]) + 96)\n",
    "            pos += 3\n",
    "        else:\n",
    "            res += chr(int(s[pos]) + 96)\n",
    "            pos += 1\n",
    "    return res"
   ]
  },
  {
   "cell_type": "code",
   "execution_count": 2,
   "metadata": {},
   "outputs": [
    {
     "data": {
      "text/plain": [
       "'jkab'"
      ]
     },
     "execution_count": 2,
     "metadata": {},
     "output_type": "execute_result"
    }
   ],
   "source": [
    "freqAlphabets(\"10#11#12\")"
   ]
  },
  {
   "cell_type": "code",
   "execution_count": 3,
   "metadata": {},
   "outputs": [
    {
     "data": {
      "text/plain": [
       "'acz'"
      ]
     },
     "execution_count": 3,
     "metadata": {},
     "output_type": "execute_result"
    }
   ],
   "source": [
    "freqAlphabets(\"1326#\")"
   ]
  },
  {
   "cell_type": "code",
   "execution_count": 4,
   "metadata": {},
   "outputs": [
    {
     "data": {
      "text/plain": [
       "'y'"
      ]
     },
     "execution_count": 4,
     "metadata": {},
     "output_type": "execute_result"
    }
   ],
   "source": [
    "freqAlphabets(\"25#\")"
   ]
  },
  {
   "cell_type": "code",
   "execution_count": 5,
   "metadata": {},
   "outputs": [
    {
     "data": {
      "text/plain": [
       "'abcdefghijklmnopqrstuvwxyz'"
      ]
     },
     "execution_count": 5,
     "metadata": {},
     "output_type": "execute_result"
    }
   ],
   "source": [
    "freqAlphabets(\"12345678910#11#12#13#14#15#16#17#18#19#20#21#22#23#24#25#26#\")"
   ]
  },
  {
   "cell_type": "code",
   "execution_count": null,
   "metadata": {},
   "outputs": [],
   "source": []
  }
 ],
 "metadata": {
  "kernelspec": {
   "display_name": "Python 3",
   "language": "python",
   "name": "python3"
  },
  "language_info": {
   "codemirror_mode": {
    "name": "ipython",
    "version": 3
   },
   "file_extension": ".py",
   "mimetype": "text/x-python",
   "name": "python",
   "nbconvert_exporter": "python",
   "pygments_lexer": "ipython3",
   "version": "3.6.5"
  }
 },
 "nbformat": 4,
 "nbformat_minor": 2
}
