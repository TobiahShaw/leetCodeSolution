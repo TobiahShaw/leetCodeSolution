{
 "cells": [
  {
   "cell_type": "markdown",
   "metadata": {},
   "source": [
    "# 最小时间差\n",
    "\n",
    "**题目来源：力扣（LeetCode）**\n",
    "\n",
    "**链接：https://leetcode-cn.com/problems/minimum-time-difference/**\n",
    "\n",
    "## 一、题目\n",
    "\n",
    "给定一个 24 小时制（小时:分钟 \"HH:MM\"）的时间列表，找出列表中任意两个时间的最小时间差并以分钟数表示。\n",
    "\n",
    "### 提示：\n",
    "\n",
    "- 2 <= timePoints <= 2 * 10000\n",
    "- timePoints[i] 格式为 \"HH:MM\"\n",
    "\n",
    "## 二、示例\n",
    "\n",
    "### 示例 1：\n",
    "\n",
    "输入：timePoints = [\"23:59\",\"00:00\"]\n",
    "\n",
    "输出：1\n",
    "\n",
    "### 示例 2：\n",
    "\n",
    "输入：timePoints = [\"00:00\",\"23:59\",\"00:00\"]\n",
    "\n",
    "输出：0\n",
    "\n",
    "## 三、解题思路\n",
    "\n",
    "### 排序"
   ]
  },
  {
   "cell_type": "code",
   "execution_count": 1,
   "metadata": {},
   "outputs": [],
   "source": [
    "def findMinDifference(timePoints) -> int:\n",
    "    def duration(time1, time2):\n",
    "        t1_spl = time1.split(\":\")\n",
    "        t2_spl = time2.split(\":\")\n",
    "        d = abs(int(t1_spl[0]) * 60 + int(t1_spl[1]) - int(t2_spl[0]) * 60 - int(t2_spl[1]))\n",
    "        return d if d < 720 else 1440 - d\n",
    "    timePoints.sort()\n",
    "    ret = duration(timePoints[-1], timePoints[0])\n",
    "    for i in range(1, len(timePoints)):\n",
    "        ret = min(ret, duration(timePoints[i-1], timePoints[i]))\n",
    "    return ret"
   ]
  },
  {
   "cell_type": "code",
   "execution_count": 2,
   "metadata": {},
   "outputs": [
    {
     "data": {
      "text/plain": [
       "1"
      ]
     },
     "execution_count": 2,
     "metadata": {},
     "output_type": "execute_result"
    }
   ],
   "source": [
    "findMinDifference([\"23:59\",\"00:00\"])"
   ]
  },
  {
   "cell_type": "code",
   "execution_count": 3,
   "metadata": {},
   "outputs": [
    {
     "data": {
      "text/plain": [
       "0"
      ]
     },
     "execution_count": 3,
     "metadata": {},
     "output_type": "execute_result"
    }
   ],
   "source": [
    "findMinDifference([\"00:00\",\"23:59\",\"00:00\"])"
   ]
  },
  {
   "cell_type": "code",
   "execution_count": null,
   "metadata": {},
   "outputs": [],
   "source": []
  }
 ],
 "metadata": {
  "kernelspec": {
   "display_name": "Python 3",
   "language": "python",
   "name": "python3"
  },
  "language_info": {
   "codemirror_mode": {
    "name": "ipython",
    "version": 3
   },
   "file_extension": ".py",
   "mimetype": "text/x-python",
   "name": "python",
   "nbconvert_exporter": "python",
   "pygments_lexer": "ipython3",
   "version": "3.6.5"
  }
 },
 "nbformat": 4,
 "nbformat_minor": 2
}
