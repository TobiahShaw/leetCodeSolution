{
 "cells": [
  {
   "cell_type": "markdown",
   "metadata": {},
   "source": [
    "# 原子的数量\n",
    "\n",
    "**题目来源：力扣（LeetCode）**\n",
    "\n",
    "**链接：https://leetcode-cn.com/problems/number-of-atoms/**\n",
    "\n",
    "## 一、题目\n",
    "\n",
    "给定一个化学式formula（作为字符串），返回每种原子的数量。\n",
    "\n",
    "原子总是以一个大写字母开始，接着跟随0个或任意个小写字母，表示原子的名字。\n",
    "\n",
    "如果数量大于 1，原子后会跟着数字表示原子的数量。如果数量等于 1 则不会跟数字。例如，H2O 和 H2O2 是可行的，但 H1O2 这个表达是不可行的。\n",
    "\n",
    "两个化学式连在一起是新的化学式。例如 H2O2He3Mg4 也是化学式。\n",
    "\n",
    "一个括号中的化学式和数字（可选择性添加）也是化学式。例如 (H2O2) 和 (H2O2)3 是化学式。\n",
    "\n",
    "给定一个化学式，输出所有原子的数量。格式为：第一个（按字典序）原子的名子，跟着它的数量（如果数量大于 1），然后是第二个原子的名字（按字典序），跟着它的数量（如果数量大于 1），以此类推。\n",
    "\n",
    "### 注意:\n",
    "\n",
    "- 所有原子的第一个字母为大写，剩余字母都是小写。\n",
    "- formula的长度在[1, 1000]之间。\n",
    "- formula只包含字母、数字和圆括号，并且题目中给定的是合法的化学式。\n",
    "\n",
    "## 二、示例\n",
    "\n",
    "### 示例 1：\n",
    "\n",
    "输入: formula = \"H2O\"\n",
    "\n",
    "输出: \"H2O\"\n",
    "\n",
    "解释: 原子的数量是 {'H': 2, 'O': 1}。\n",
    "\n",
    "### 示例 2:\n",
    "\n",
    "输入: formula = \"Mg(OH)2\"\n",
    "\n",
    "输出: \"H2MgO2\"\n",
    "\n",
    "解释: 原子的数量是 {'H': 2, 'Mg': 1, 'O': 2}。\n",
    "\n",
    "### 示例 3:\n",
    "\n",
    "输入: formula = \"K4(ON(SO3)2)2\"\n",
    "\n",
    "输出: \"K4N2O14S4\"\n",
    "\n",
    "解释: 原子的数量是 {'K': 4, 'N': 2, 'O': 14, 'S': 4}。\n",
    "\n",
    "## 三、解题思路\n",
    "\n",
    "### 利用栈"
   ]
  },
  {
   "cell_type": "code",
   "execution_count": 1,
   "metadata": {},
   "outputs": [],
   "source": [
    "def countOfAtoms(formula: str) -> str:\n",
    "    i = 0\n",
    "    n = len(formula)\n",
    "    element_info = list()   # list of [element_name, number_of_element, number_of_parentheses]\n",
    "    parentheses_stack = list()\n",
    "    # atom = str()\n",
    "    distribution = dict()\n",
    "    while i < n:\n",
    "        # 如果遇到的是字母\n",
    "        # 如果遇到的是大写字母\n",
    "        atom = str()\n",
    "        if formula[i].isupper():\n",
    "            atom = formula[i]\n",
    "            i += 1\n",
    "        # 跟着小写字母\n",
    "        while i < n and formula[i].islower():\n",
    "            atom += formula[i]\n",
    "            i += 1\n",
    "        cnt = str()\n",
    "        # 如果后面有数\n",
    "        if i < n and formula[i].isdigit():\n",
    "            # 遍历所有的数\n",
    "            while i < n and formula[i].isdigit():\n",
    "                cnt += formula[i]\n",
    "                i += 1\n",
    "            element_info.append([atom, int(cnt), len(parentheses_stack)])\n",
    "        # 如果后面没有数\n",
    "        else:\n",
    "            # 如果前面的if都执行过（即得到了某一个atom，而不是一开始就从(开头）\n",
    "            # print(\"i, atom:\", i, atom)\n",
    "            if len(atom) and len(cnt) == 0:\n",
    "                element_info.append([atom, 1, len(parentheses_stack)])\n",
    "            if i < n and formula[i] == '(':\n",
    "                parentheses_stack.append('(')\n",
    "                i += 1\n",
    "            elif i < n and formula[i] == ')':\n",
    "                i += 1\n",
    "                cnt = str()\n",
    "                if i < n and formula[i].isdigit():\n",
    "                    # 遍历所有的数\n",
    "                    while i < n and formula[i].isdigit():\n",
    "                        cnt += formula[i]\n",
    "                        i += 1\n",
    "                    cnt = int(cnt)\n",
    "                else: cnt = 1\n",
    "                # parentheses_stack.pop()\n",
    "                for k in range(len(element_info)-1,-1,-1):\n",
    "                    if element_info[k][2] == len(parentheses_stack):\n",
    "                        element_info[k][1] *= cnt\n",
    "                        element_info[k][2] -= 1\n",
    "                    else:\n",
    "                        break\n",
    "                parentheses_stack.pop()\n",
    "    \n",
    "    # print(element_info)\n",
    "    for ele in element_info:\n",
    "        if ele[0] in distribution:\n",
    "            distribution[ele[0]] += ele[1]\n",
    "        else:\n",
    "            distribution[ele[0]] = ele[1]\n",
    "\n",
    "    # print(distribution)\n",
    "    lst = sorted(distribution.items(), key=lambda obj: obj[0])\n",
    "    # print(lst)\n",
    "    ans = str()\n",
    "    for name, number in lst:\n",
    "        if number == 1:\n",
    "            ans += name\n",
    "        else:\n",
    "            ans += name + str(number)\n",
    "    return ans"
   ]
  },
  {
   "cell_type": "code",
   "execution_count": 2,
   "metadata": {},
   "outputs": [
    {
     "data": {
      "text/plain": [
       "'H2O'"
      ]
     },
     "execution_count": 2,
     "metadata": {},
     "output_type": "execute_result"
    }
   ],
   "source": [
    "countOfAtoms(\"H2O\")"
   ]
  },
  {
   "cell_type": "code",
   "execution_count": 3,
   "metadata": {},
   "outputs": [
    {
     "data": {
      "text/plain": [
       "'H2MgO2'"
      ]
     },
     "execution_count": 3,
     "metadata": {},
     "output_type": "execute_result"
    }
   ],
   "source": [
    "countOfAtoms(\"Mg(OH)2\")"
   ]
  },
  {
   "cell_type": "code",
   "execution_count": 4,
   "metadata": {},
   "outputs": [
    {
     "data": {
      "text/plain": [
       "'K4N2O14S4'"
      ]
     },
     "execution_count": 4,
     "metadata": {},
     "output_type": "execute_result"
    }
   ],
   "source": [
    "countOfAtoms(\"K4(ON(SO3)2)2\")"
   ]
  },
  {
   "cell_type": "code",
   "execution_count": null,
   "metadata": {},
   "outputs": [],
   "source": []
  }
 ],
 "metadata": {
  "kernelspec": {
   "display_name": "Python 3",
   "language": "python",
   "name": "python3"
  },
  "language_info": {
   "codemirror_mode": {
    "name": "ipython",
    "version": 3
   },
   "file_extension": ".py",
   "mimetype": "text/x-python",
   "name": "python",
   "nbconvert_exporter": "python",
   "pygments_lexer": "ipython3",
   "version": "3.6.5"
  }
 },
 "nbformat": 4,
 "nbformat_minor": 2
}
