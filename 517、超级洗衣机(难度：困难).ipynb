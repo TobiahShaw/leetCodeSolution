{
 "cells": [
  {
   "cell_type": "markdown",
   "id": "59c3c35a-ee7a-480a-ae04-4172245cdd7c",
   "metadata": {},
   "source": [
    "# 超级洗衣机\n",
    "\n",
    "**题目来源：力扣（LeetCode）**\n",
    "\n",
    "**链接：https://leetcode-cn.com/problems/super-washing-machines/**\n",
    "\n",
    "## 一、题目\n",
    "\n",
    "假设有 n 台超级洗衣机放在同一排上。开始的时候，每台洗衣机内可能有一定量的衣服，也可能是空的。\n",
    "\n",
    "在每一步操作中，你可以选择任意 m (1 <= m <= n) 台洗衣机，与此同时将每台洗衣机的一件衣服送到相邻的一台洗衣机。\n",
    "\n",
    "给定一个整数数组 machines 代表从左至右每台洗衣机中的衣物数量，请给出能让所有洗衣机中剩下的衣物的数量相等的 最少的操作步数 。如果不能使每台洗衣机中衣物的数量相等，则返回 -1 。\n",
    "\n",
    "## 二、示例\n",
    "\n",
    "### 示例 1：\n",
    "\n",
    "输入：machines = [1,0,5]\n",
    "\n",
    "输出：3\n",
    "\n",
    "解释：\n",
    "\n",
    "```\n",
    "第一步:    1     0 <-- 5    =>    1     1     4\n",
    "第二步:    1 <-- 1 <-- 4    =>    2     1     3    \n",
    "第三步:    2     1 <-- 3    =>    2     2     2   \n",
    "```\n",
    "\n",
    "### 示例 2：\n",
    "\n",
    "输入：machines = [0,3,0]\n",
    "\n",
    "输出：2\n",
    "\n",
    "解释：\n",
    "\n",
    "```\n",
    "第一步:    0 <-- 3     0    =>    1     2     0    \n",
    "第二步:    1     2 --> 0    =>    1     1     1     \n",
    "```\n",
    "\n",
    "### 示例 3：\n",
    "\n",
    "输入：machines = [0,2,0]\n",
    "\n",
    "输出：-1\n",
    "\n",
    "解释：不可能让所有三个洗衣机同时剩下相同数量的衣物。\n",
    "\n",
    "## 三、解题思路\n",
    "\n",
    "### 贪心"
   ]
  },
  {
   "cell_type": "code",
   "execution_count": 1,
   "id": "588758f7-7eff-407e-b70f-b71d6f704e2b",
   "metadata": {},
   "outputs": [],
   "source": [
    "def findMinMoves(machines) -> int:\n",
    "    tot = sum(machines)\n",
    "    n = len(machines)\n",
    "    if tot % n:\n",
    "        return -1\n",
    "    avg = tot // n\n",
    "    ans, s = 0, 0\n",
    "    for num in machines:\n",
    "        num -= avg\n",
    "        s += num\n",
    "        ans = max(ans, abs(s), num)\n",
    "    return ans"
   ]
  },
  {
   "cell_type": "code",
   "execution_count": 2,
   "id": "98ac6d1d-22ab-4b33-84a6-4b73aa90dcaf",
   "metadata": {},
   "outputs": [
    {
     "data": {
      "text/plain": [
       "3"
      ]
     },
     "execution_count": 2,
     "metadata": {},
     "output_type": "execute_result"
    }
   ],
   "source": [
    "findMinMoves([1,0,5])"
   ]
  },
  {
   "cell_type": "code",
   "execution_count": 3,
   "id": "dc4dbcd8-87eb-4c31-b202-e82cea44fd79",
   "metadata": {},
   "outputs": [
    {
     "data": {
      "text/plain": [
       "2"
      ]
     },
     "execution_count": 3,
     "metadata": {},
     "output_type": "execute_result"
    }
   ],
   "source": [
    "findMinMoves([0,3,0])"
   ]
  },
  {
   "cell_type": "code",
   "execution_count": 4,
   "id": "df0786cf-c3ab-4459-b537-5ef7fcc0f902",
   "metadata": {},
   "outputs": [
    {
     "data": {
      "text/plain": [
       "-1"
      ]
     },
     "execution_count": 4,
     "metadata": {},
     "output_type": "execute_result"
    }
   ],
   "source": [
    "findMinMoves([0,2,0])"
   ]
  },
  {
   "cell_type": "code",
   "execution_count": null,
   "id": "fea77eae-c334-49a8-bcec-565b10c7a735",
   "metadata": {},
   "outputs": [],
   "source": []
  }
 ],
 "metadata": {
  "kernelspec": {
   "display_name": "Python 3 (ipykernel)",
   "language": "python",
   "name": "python3"
  },
  "language_info": {
   "codemirror_mode": {
    "name": "ipython",
    "version": 3
   },
   "file_extension": ".py",
   "mimetype": "text/x-python",
   "name": "python",
   "nbconvert_exporter": "python",
   "pygments_lexer": "ipython3",
   "version": "3.7.10"
  }
 },
 "nbformat": 4,
 "nbformat_minor": 5
}
