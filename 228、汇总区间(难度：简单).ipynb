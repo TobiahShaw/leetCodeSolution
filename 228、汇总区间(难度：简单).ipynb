{
 "cells": [
  {
   "cell_type": "markdown",
   "metadata": {},
   "source": [
    "# 汇总区间\n",
    "\n",
    "**题目来源：力扣（LeetCode）**\n",
    "\n",
    "**链接：https://leetcode-cn.com/problems/summary-ranges/**\n",
    "\n",
    "## 一、题目\n",
    "\n",
    "给定一个无重复元素的有序整数数组 nums 。\n",
    "\n",
    "返回 恰好覆盖数组中所有数字 的 最小有序 区间范围列表。也就是说，nums 的每个元素都恰好被某个区间范围所覆盖，并且不存在属于某个范围但不属于 nums 的数字 x 。\n",
    "\n",
    "列表中的每个区间范围 [a,b] 应该按如下格式输出：\n",
    "\n",
    "- \"a->b\" ，如果 a != b\n",
    "- \"a\" ，如果 a == b\n",
    "\n",
    "### 提示：\n",
    "\n",
    "- 0 <= nums.length <= 20\n",
    "- -231 <= nums[i] <= 231 - 1\n",
    "- nums 中的所有值都 互不相同\n",
    "\n",
    "## 二、示例\n",
    "\n",
    "### 示例 1：\n",
    "\n",
    "输入：nums = [0,1,2,4,5,7]\n",
    "\n",
    "输出：[\"0->2\",\"4->5\",\"7\"]\n",
    "\n",
    "解释：区间范围是：\n",
    "\n",
    "[0,2] --> \"0->2\"\n",
    "\n",
    "[4,5] --> \"4->5\"\n",
    "\n",
    "[7,7] --> \"7\"\n",
    "\n",
    "### 示例 2：\n",
    "\n",
    "输入：nums = [0,2,3,4,6,8,9]\n",
    "\n",
    "输出：[\"0\",\"2->4\",\"6\",\"8->9\"]\n",
    "\n",
    "解释：区间范围是：\n",
    "\n",
    "[0,0] --> \"0\"\n",
    "\n",
    "[2,4] --> \"2->4\"\n",
    "\n",
    "[6,6] --> \"6\"\n",
    "\n",
    "[8,9] --> \"8->9\"\n",
    "\n",
    "### 示例 3：\n",
    "\n",
    "输入：nums = []\n",
    "\n",
    "输出：[]\n",
    "\n",
    "### 示例 4：\n",
    "\n",
    "输入：nums = [-1]\n",
    "\n",
    "输出：[\"-1\"]\n",
    "\n",
    "### 示例 5：\n",
    "\n",
    "输入：nums = [0]\n",
    "\n",
    "输出：[\"0\"]\n",
    "\n",
    "## 三、解题思路\n",
    "\n",
    "### 迭代"
   ]
  },
  {
   "cell_type": "code",
   "execution_count": 1,
   "metadata": {},
   "outputs": [],
   "source": [
    "def summaryRanges(nums):\n",
    "    if not nums:\n",
    "        return []\n",
    "    def assembleRange(start, end):\n",
    "        if start == end:\n",
    "            return str(start)\n",
    "        return str(start) + \"->\" + str(end)\n",
    "    ret = []\n",
    "    start, end = nums[0], nums[0]\n",
    "    n = len(nums)\n",
    "    for i in range(1, n):\n",
    "        if nums[i] != nums[i-1] + 1:\n",
    "            ret.append(assembleRange(start, end))\n",
    "            start = nums[i]\n",
    "            end = nums[i]\n",
    "        else:\n",
    "            end = nums[i]\n",
    "    ret.append(assembleRange(start, end))\n",
    "    return ret"
   ]
  },
  {
   "cell_type": "code",
   "execution_count": 2,
   "metadata": {},
   "outputs": [
    {
     "data": {
      "text/plain": [
       "['0->2', '4->5', '7']"
      ]
     },
     "execution_count": 2,
     "metadata": {},
     "output_type": "execute_result"
    }
   ],
   "source": [
    "summaryRanges([0,1,2,4,5,7])"
   ]
  },
  {
   "cell_type": "code",
   "execution_count": 3,
   "metadata": {},
   "outputs": [
    {
     "data": {
      "text/plain": [
       "['0', '2->4', '6', '8->9']"
      ]
     },
     "execution_count": 3,
     "metadata": {},
     "output_type": "execute_result"
    }
   ],
   "source": [
    "summaryRanges([0,2,3,4,6,8,9])"
   ]
  },
  {
   "cell_type": "code",
   "execution_count": 4,
   "metadata": {},
   "outputs": [
    {
     "data": {
      "text/plain": [
       "[]"
      ]
     },
     "execution_count": 4,
     "metadata": {},
     "output_type": "execute_result"
    }
   ],
   "source": [
    "summaryRanges([])"
   ]
  },
  {
   "cell_type": "code",
   "execution_count": 5,
   "metadata": {},
   "outputs": [
    {
     "data": {
      "text/plain": [
       "['-1']"
      ]
     },
     "execution_count": 5,
     "metadata": {},
     "output_type": "execute_result"
    }
   ],
   "source": [
    "summaryRanges([-1])"
   ]
  },
  {
   "cell_type": "code",
   "execution_count": 6,
   "metadata": {},
   "outputs": [
    {
     "data": {
      "text/plain": [
       "['0']"
      ]
     },
     "execution_count": 6,
     "metadata": {},
     "output_type": "execute_result"
    }
   ],
   "source": [
    "summaryRanges([0])"
   ]
  },
  {
   "cell_type": "code",
   "execution_count": null,
   "metadata": {},
   "outputs": [],
   "source": []
  }
 ],
 "metadata": {
  "kernelspec": {
   "display_name": "Python 3",
   "language": "python",
   "name": "python3"
  },
  "language_info": {
   "codemirror_mode": {
    "name": "ipython",
    "version": 3
   },
   "file_extension": ".py",
   "mimetype": "text/x-python",
   "name": "python",
   "nbconvert_exporter": "python",
   "pygments_lexer": "ipython3",
   "version": "3.6.5"
  }
 },
 "nbformat": 4,
 "nbformat_minor": 2
}
