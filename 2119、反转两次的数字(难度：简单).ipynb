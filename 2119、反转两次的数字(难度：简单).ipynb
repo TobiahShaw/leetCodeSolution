{
 "cells": [
  {
   "cell_type": "markdown",
   "metadata": {},
   "source": [
    "# 反转两次的数字\n",
    "\n",
    "**题目来源：力扣（LeetCode）**\n",
    "\n",
    "**链接：https://leetcode-cn.com/problems/a-number-after-a-double-reversal/**\n",
    "\n",
    "## 一、题目\n",
    "\n",
    "反转 一个整数意味着倒置它的所有位。\n",
    "\n",
    "- 例如，反转 2021 得到 1202 。反转 12300 得到 321 ，不保留前导零 。\n",
    "\n",
    "给你一个整数 num ，反转 num 得到 reversed1 ，接着反转 reversed1 得到 reversed2 。如果 reversed2 等于 num ，返回 true ；否则，返回 false 。\n",
    "\n",
    "### 提示：\n",
    "\n",
    "- 0 <= num <= 10^6\n",
    "\n",
    "## 二、示例\n",
    "\n",
    "### 示例 1：\n",
    "\n",
    "输入：num = 526\n",
    "\n",
    "输出：true\n",
    "\n",
    "解释：反转 num 得到 625 ，接着反转 625 得到 526 ，等于 num 。\n",
    "\n",
    "### 示例 2：\n",
    "\n",
    "输入：num = 1800\n",
    "\n",
    "输出：false\n",
    "\n",
    "解释：反转 num 得到 81 ，接着反转 81 得到 18 ，不等于 num 。 \n",
    "\n",
    "### 示例 3：\n",
    "\n",
    "输入：num = 0\n",
    "\n",
    "输出：true\n",
    "\n",
    "解释：反转 num 得到 0 ，接着反转 0 得到 0 ，等于 num 。\n",
    "\n",
    "## 三、解题思路\n",
    "\n",
    "### 数学\n",
    "\n",
    "num 等于 0，或者num不是10的整数倍即可"
   ]
  },
  {
   "cell_type": "code",
   "execution_count": 1,
   "metadata": {},
   "outputs": [],
   "source": [
    "def isSameAfterReversals(num: int) -> bool:\n",
    "    return num == 0 or num % 10 != 0"
   ]
  },
  {
   "cell_type": "code",
   "execution_count": 2,
   "metadata": {},
   "outputs": [
    {
     "data": {
      "text/plain": [
       "True"
      ]
     },
     "execution_count": 2,
     "metadata": {},
     "output_type": "execute_result"
    }
   ],
   "source": [
    "isSameAfterReversals(526)"
   ]
  },
  {
   "cell_type": "code",
   "execution_count": 3,
   "metadata": {},
   "outputs": [
    {
     "data": {
      "text/plain": [
       "False"
      ]
     },
     "execution_count": 3,
     "metadata": {},
     "output_type": "execute_result"
    }
   ],
   "source": [
    "isSameAfterReversals(1800)"
   ]
  },
  {
   "cell_type": "code",
   "execution_count": 4,
   "metadata": {},
   "outputs": [
    {
     "data": {
      "text/plain": [
       "True"
      ]
     },
     "execution_count": 4,
     "metadata": {},
     "output_type": "execute_result"
    }
   ],
   "source": [
    "isSameAfterReversals(0)"
   ]
  },
  {
   "cell_type": "code",
   "execution_count": null,
   "metadata": {},
   "outputs": [],
   "source": []
  }
 ],
 "metadata": {
  "kernelspec": {
   "display_name": "Python 3",
   "language": "python",
   "name": "python3"
  },
  "language_info": {
   "codemirror_mode": {
    "name": "ipython",
    "version": 3
   },
   "file_extension": ".py",
   "mimetype": "text/x-python",
   "name": "python",
   "nbconvert_exporter": "python",
   "pygments_lexer": "ipython3",
   "version": "3.6.5"
  }
 },
 "nbformat": 4,
 "nbformat_minor": 2
}
