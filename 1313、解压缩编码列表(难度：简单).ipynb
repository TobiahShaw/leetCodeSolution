{
  "cells": [
    {
      "metadata": {
        "collapsed": true
      },
      "cell_type": "markdown",
      "source": "# 解压缩编码列表\n\n**题目来源：力扣（LeetCode）**\n\n**链接：https://leetcode-cn.com/problems/decompress-run-length-encoded-list/**\n\n## 一、题目\n\n给你一个以行程长度编码压缩的整数列表 nums 。\n\n考虑每对相邻的两个元素 [a, b] = [nums[2*i], nums[2*i+1]] （其中 i >= 0 ），每一对都表示解压后有 a 个值为 b 的元素。\n\n请你返回解压后的列表。\n\n## 二、示例\n\n输入：nums = [1,2,3,4]\n\n输出：[2,4,4,4]\n\n解释：第一对 [1,2] 代表着 2 的出现频次为 1，所以生成数组 [2]。第二对 [3,4] 代表着 4 的出现频次为 3，所以生成数组 [4,4,4]。最后将它们串联到一起 [2] + [4,4,4] = [2,4,4,4]\n\n## 三、解题思路\n\n### 模拟"
    },
    {
      "metadata": {
        "trusted": true
      },
      "cell_type": "code",
      "source": "def decompressRLElist(nums):\n    res = []\n    n = 0\n    while n < len(nums):\n        res = res + nums[n] * [nums[n + 1]]\n        n += 2\n    return res",
      "execution_count": 1,
      "outputs": []
    },
    {
      "metadata": {
        "trusted": true
      },
      "cell_type": "code",
      "source": "decompressRLElist([1,2,3,4])",
      "execution_count": 2,
      "outputs": [
        {
          "output_type": "execute_result",
          "execution_count": 2,
          "data": {
            "text/plain": "[2, 4, 4, 4]"
          },
          "metadata": {}
        }
      ]
    },
    {
      "metadata": {
        "trusted": true
      },
      "cell_type": "code",
      "source": "",
      "execution_count": null,
      "outputs": []
    }
  ],
  "metadata": {
    "kernelspec": {
      "name": "python36",
      "display_name": "Python 3.6",
      "language": "python"
    },
    "language_info": {
      "mimetype": "text/x-python",
      "nbconvert_exporter": "python",
      "name": "python",
      "pygments_lexer": "ipython3",
      "version": "3.6.6",
      "file_extension": ".py",
      "codemirror_mode": {
        "version": 3,
        "name": "ipython"
      }
    }
  },
  "nbformat": 4,
  "nbformat_minor": 2
}