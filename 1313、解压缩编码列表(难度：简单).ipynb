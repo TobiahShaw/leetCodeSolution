{
 "cells": [
  {
   "cell_type": "markdown",
   "metadata": {
    "collapsed": true
   },
   "source": [
    "# 解压缩编码列表\n",
    "\n",
    "**题目来源：力扣（LeetCode）**\n",
    "\n",
    "**链接：https://leetcode-cn.com/problems/decompress-run-length-encoded-list/**\n",
    "\n",
    "## 一、题目\n",
    "\n",
    "给你一个以行程长度编码压缩的整数列表 nums 。\n",
    "\n",
    "考虑每对相邻的两个元素 [a, b] = [nums[2 * i], nums[2 * i+1]] （其中 i >= 0 ），每一对都表示解压后有 a 个值为 b 的元素。\n",
    "\n",
    "请你返回解压后的列表。\n",
    "\n",
    "### 提示：\n",
    "\n",
    "- 2 <= nums.length <= 100\n",
    "- nums.length % 2 == 0\n",
    "- 1 <= nums[i] <= 100\n",
    "\n",
    "## 二、示例\n",
    "\n",
    "### 示例 1：\n",
    "\n",
    "输入：nums = [1,2,3,4]\n",
    "\n",
    "输出：[2,4,4,4]\n",
    "\n",
    "解释：第一对 [1,2] 代表着 2 的出现频次为 1，所以生成数组 [2]。第二对 [3,4] 代表着 4 的出现频次为 3，所以生成数组 [4,4,4]。最后将它们串联到一起 [2] + [4,4,4] = [2,4,4,4]。\n",
    "\n",
    "### 示例 2：\n",
    "\n",
    "输入：nums = [1,1,2,3]\n",
    "\n",
    "输出：[1,3,3]\n",
    "\n",
    "## 三、解题思路\n",
    "\n",
    "### 模拟"
   ]
  },
  {
   "cell_type": "code",
   "execution_count": 1,
   "metadata": {},
   "outputs": [],
   "source": [
    "def decompressRLElist(nums):\n",
    "    res = []\n",
    "    n = 0\n",
    "    while n < len(nums):\n",
    "        res = res + nums[n] * [nums[n + 1]]\n",
    "        n += 2\n",
    "    return res"
   ]
  },
  {
   "cell_type": "code",
   "execution_count": 2,
   "metadata": {},
   "outputs": [
    {
     "data": {
      "text/plain": [
       "[2, 4, 4, 4]"
      ]
     },
     "execution_count": 2,
     "metadata": {},
     "output_type": "execute_result"
    }
   ],
   "source": [
    "decompressRLElist([1,2,3,4])"
   ]
  },
  {
   "cell_type": "code",
   "execution_count": null,
   "metadata": {},
   "outputs": [],
   "source": []
  }
 ],
 "metadata": {
  "kernelspec": {
   "display_name": "Python 3.10.4 64-bit",
   "language": "python",
   "name": "python3"
  },
  "language_info": {
   "codemirror_mode": {
    "name": "ipython",
    "version": 3
   },
   "file_extension": ".py",
   "mimetype": "text/x-python",
   "name": "python",
   "nbconvert_exporter": "python",
   "pygments_lexer": "ipython3",
   "version": "3.10.4"
  },
  "vscode": {
   "interpreter": {
    "hash": "4f946df053fbf2b937619d3c5458e7af74262f9a954d8797ba0b27400bcafe06"
   }
  }
 },
 "nbformat": 4,
 "nbformat_minor": 2
}
