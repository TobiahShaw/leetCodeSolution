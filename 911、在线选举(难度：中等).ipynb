{
 "cells": [
  {
   "cell_type": "markdown",
   "metadata": {},
   "source": [
    "# 在线选举\n",
    "\n",
    "**题目来源：力扣（LeetCode）**\n",
    "\n",
    "**链接：https://leetcode-cn.com/problems/online-election/**\n",
    "\n",
    "## 一、题目\n",
    "\n",
    "给你两个整数数组 persons 和 times 。在选举中，第 i 张票是在时刻为 times[i] 时投给候选人 persons[i] 的。\n",
    "\n",
    "对于发生在时刻 t 的每个查询，需要找出在 t 时刻在选举中领先的候选人的编号。\n",
    "\n",
    "在 t 时刻投出的选票也将被计入我们的查询之中。在平局的情况下，最近获得投票的候选人将会获胜。\n",
    "\n",
    "实现 TopVotedCandidate 类：\n",
    "\n",
    "- TopVotedCandidate(int[] persons, int[] times) 使用 persons 和 times 数组初始化对象。\n",
    "- int q(int t) 根据前面描述的规则，返回在时刻 t 在选举中领先的候选人的编号。\n",
    "\n",
    "### 提示：\n",
    "\n",
    "- 1 <= persons.length <= 5000\n",
    "- times.length == persons.length\n",
    "- 0 <= persons[i] < persons.length\n",
    "- 0 <= times[i] <= 10^9\n",
    "- times 是一个严格递增的有序数组\n",
    "- times[0] <= t <= 10^9\n",
    "- 每个测试用例最多调用 10^4 次 q\n",
    "\n",
    "## 二、示例\n",
    "\n",
    "输入：\n",
    "\n",
    "[\"TopVotedCandidate\", \"q\", \"q\", \"q\", \"q\", \"q\", \"q\"]\n",
    "\n",
    "[[[0, 1, 1, 0, 0, 1, 0], [0, 5, 10, 15, 20, 25, 30]], [3], [12], [25], [15], [24], [8]]\n",
    "\n",
    "输出：\n",
    "\n",
    "[null, 0, 1, 1, 0, 0, 1]\n",
    "\n",
    "解释：\n",
    "\n",
    "```\n",
    "topVotedCandidate = TopVotedCandidate([0, 1, 1, 0, 0, 1, 0], [0, 5, 10, 15, 20, 25, 30])\n",
    "topVotedCandidate.q(3) # 返回 0 ，在时刻 3 ，票数分布为 [0] ，编号为 0 的候选人领先。\n",
    "topVotedCandidate.q(12) # 返回 1 ，在时刻 12 ，票数分布为 [0,1,1] ，编号为 1 的候选人领先。\n",
    "topVotedCandidate.q(25) # 返回 1 ，在时刻 25 ，票数分布为 [0,1,1,0,0,1] ，编号为 1 的候选人领先。（在平局的情况下，1 是最近获得投票的候选人）。\n",
    "topVotedCandidate.q(15) # 返回 0\n",
    "topVotedCandidate.q(24) # 返回 0\n",
    "topVotedCandidate.q(8) # 返回 1\n",
    "```\n",
    "\n",
    "## 三、解题思路\n",
    "\n",
    "### 二分"
   ]
  },
  {
   "cell_type": "code",
   "execution_count": 1,
   "metadata": {},
   "outputs": [],
   "source": [
    "from collections import defaultdict\n",
    "\n",
    "class TopVotedCandidate:\n",
    "\n",
    "    def __init__(self, persons, times):\n",
    "        tops = []\n",
    "        voteCounts = defaultdict()\n",
    "        voteCounts[-1] = -1\n",
    "        top = -1\n",
    "        for p in persons:\n",
    "            voteCounts[p] = voteCounts.get(p, 0) + 1\n",
    "            if voteCounts[p] >= voteCounts[top]:\n",
    "                top = p\n",
    "            tops.append(top)\n",
    "        self.tops = tops\n",
    "        self.times = times\n",
    "\n",
    "    def q(self, t: int) -> int:\n",
    "        l, r = 0, len(self.times) - 1\n",
    "        # 找到满足 times[l] <= t 的最大的 l\n",
    "        while l < r:\n",
    "            m = l + (r - l + 1) // 2\n",
    "            if self.times[m] <= t:\n",
    "                l = m\n",
    "            else:\n",
    "                r = m - 1\n",
    "        # 也可以使用内置的二分查找的包来确定 l\n",
    "        # l = bisect.bisect(self.times, t) - 1\n",
    "        return self.tops[l]"
   ]
  },
  {
   "cell_type": "code",
   "execution_count": 2,
   "metadata": {},
   "outputs": [
    {
     "name": "stdout",
     "output_type": "stream",
     "text": [
      "0\n",
      "1\n",
      "1\n",
      "0\n",
      "0\n",
      "1\n"
     ]
    }
   ],
   "source": [
    "topVotedCandidate = TopVotedCandidate([0, 1, 1, 0, 0, 1, 0], [0, 5, 10, 15, 20, 25, 30])\n",
    "print(topVotedCandidate.q(3)) # 返回 0 ，在时刻 3 ，票数分布为 [0] ，编号为 0 的候选人领先。\n",
    "print(topVotedCandidate.q(12)) # 返回 1 ，在时刻 12 ，票数分布为 [0,1,1] ，编号为 1 的候选人领先。\n",
    "print(topVotedCandidate.q(25)) # 返回 1 ，在时刻 25 ，票数分布为 [0,1,1,0,0,1] ，编号为 1 的候选人领先。（在平局的情况下，1 是最近获得投票的候选人）。\n",
    "print(topVotedCandidate.q(15)) # 返回 0\n",
    "print(topVotedCandidate.q(24)) # 返回 0\n",
    "print(topVotedCandidate.q(8)) # 返回 1"
   ]
  },
  {
   "cell_type": "code",
   "execution_count": null,
   "metadata": {},
   "outputs": [],
   "source": []
  }
 ],
 "metadata": {
  "kernelspec": {
   "display_name": "Python 3",
   "language": "python",
   "name": "python3"
  },
  "language_info": {
   "codemirror_mode": {
    "name": "ipython",
    "version": 3
   },
   "file_extension": ".py",
   "mimetype": "text/x-python",
   "name": "python",
   "nbconvert_exporter": "python",
   "pygments_lexer": "ipython3",
   "version": "3.6.5"
  }
 },
 "nbformat": 4,
 "nbformat_minor": 2
}
