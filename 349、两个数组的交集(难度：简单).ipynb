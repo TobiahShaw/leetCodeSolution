{
  "cells": [
    {
      "metadata": {
        "collapsed": true
      },
      "cell_type": "markdown",
      "source": "# 两个数组的交集\n\n**题目来源：力扣（LeetCode）**\n\n**链接：https://leetcode-cn.com/problems/intersection-of-two-arrays/**\n\n## 一、题目\n\n给定两个数组，编写一个函数来计算它们的交集。\n\n## 二、示例\n\n### 示例 1:\n\n输入: nums1 = [1,2,2,1], nums2 = [2,2]\n\n输出: [2]\n\n### 示例 2:\n\n输入: nums1 = [4,9,5], nums2 = [9,4,9,8,4]\n\n输出: [9,4]\n\n\n## 三、解题思路\n\n### 内置函数"
    },
    {
      "metadata": {
        "trusted": true
      },
      "cell_type": "code",
      "source": "def intersection(nums1, nums2):\n    return list(set(nums1) & set(nums2))",
      "execution_count": 1,
      "outputs": []
    },
    {
      "metadata": {
        "trusted": true
      },
      "cell_type": "code",
      "source": "intersection([1,2,2,1], [2,2])",
      "execution_count": 2,
      "outputs": [
        {
          "output_type": "execute_result",
          "execution_count": 2,
          "data": {
            "text/plain": "[2]"
          },
          "metadata": {}
        }
      ]
    },
    {
      "metadata": {
        "trusted": true
      },
      "cell_type": "code",
      "source": "intersection([4,9,5], [9,4,9,8,4])",
      "execution_count": 3,
      "outputs": [
        {
          "output_type": "execute_result",
          "execution_count": 3,
          "data": {
            "text/plain": "[9, 4]"
          },
          "metadata": {}
        }
      ]
    },
    {
      "metadata": {},
      "cell_type": "markdown",
      "source": "### 暴力解法，时间复杂度比较高"
    },
    {
      "metadata": {
        "trusted": true
      },
      "cell_type": "code",
      "source": "def intersection(nums1, nums2):\n    return list(set(i for i in nums1 if i in nums2))",
      "execution_count": 4,
      "outputs": []
    },
    {
      "metadata": {
        "trusted": true
      },
      "cell_type": "code",
      "source": "intersection([1,2,2,1], [2,2])",
      "execution_count": 5,
      "outputs": [
        {
          "output_type": "execute_result",
          "execution_count": 5,
          "data": {
            "text/plain": "[2]"
          },
          "metadata": {}
        }
      ]
    },
    {
      "metadata": {
        "trusted": true
      },
      "cell_type": "code",
      "source": "intersection([4,9,5], [9,4,9,8,4])",
      "execution_count": 6,
      "outputs": [
        {
          "output_type": "execute_result",
          "execution_count": 6,
          "data": {
            "text/plain": "[9, 4]"
          },
          "metadata": {}
        }
      ]
    },
    {
      "metadata": {
        "trusted": true
      },
      "cell_type": "code",
      "source": "",
      "execution_count": null,
      "outputs": []
    }
  ],
  "metadata": {
    "kernelspec": {
      "name": "python36",
      "display_name": "Python 3.6",
      "language": "python"
    },
    "language_info": {
      "mimetype": "text/x-python",
      "nbconvert_exporter": "python",
      "name": "python",
      "pygments_lexer": "ipython3",
      "version": "3.6.6",
      "file_extension": ".py",
      "codemirror_mode": {
        "version": 3,
        "name": "ipython"
      }
    }
  },
  "nbformat": 4,
  "nbformat_minor": 2
}