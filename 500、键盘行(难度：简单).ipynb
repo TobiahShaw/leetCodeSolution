{
  "cells": [
    {
      "metadata": {
        "collapsed": true
      },
      "cell_type": "markdown",
      "source": "# 键盘行\n\n**题目来源：力扣（LeetCode）**\n\n**链接：https://leetcode-cn.com/problems/keyboard-row/**\n\n## 一、题目\n\n给定一个单词列表，只返回可以使用在键盘同一行的字母打印出来的单词。键盘如下图所示。\n\n## 二、示例\n\n输入: [\"Hello\", \"Alaska\", \"Dad\", \"Peace\"]\n\n输出: [\"Alaska\", \"Dad\"]\n\n## 三、解题思路\n\n### 利用交集\n\n如果单词满足上述条件，则和对应行字母的交集仍为本身。"
    },
    {
      "metadata": {
        "trusted": true
      },
      "cell_type": "code",
      "source": "def findWords(words):\n    l1 = set('qwertyuiop')\n    l2 = set('asdfghjkl')\n    l3 = set('zxcvbnm')\n    res = []\n    for i in words:\n        t = set(i.lower())\n        if l1 & t == t or l2 & t == t or l3 & t == t:\n            res.append(i)\n    return res",
      "execution_count": 1,
      "outputs": []
    },
    {
      "metadata": {
        "trusted": true
      },
      "cell_type": "code",
      "source": "findWords([\"Hello\", \"Alaska\", \"Dad\", \"Peace\"])",
      "execution_count": 2,
      "outputs": [
        {
          "output_type": "execute_result",
          "execution_count": 2,
          "data": {
            "text/plain": "['Alaska', 'Dad']"
          },
          "metadata": {}
        }
      ]
    },
    {
      "metadata": {
        "trusted": true
      },
      "cell_type": "code",
      "source": "",
      "execution_count": null,
      "outputs": []
    }
  ],
  "metadata": {
    "kernelspec": {
      "name": "python36",
      "display_name": "Python 3.6",
      "language": "python"
    },
    "language_info": {
      "mimetype": "text/x-python",
      "nbconvert_exporter": "python",
      "name": "python",
      "pygments_lexer": "ipython3",
      "version": "3.6.6",
      "file_extension": ".py",
      "codemirror_mode": {
        "version": 3,
        "name": "ipython"
      }
    }
  },
  "nbformat": 4,
  "nbformat_minor": 2
}