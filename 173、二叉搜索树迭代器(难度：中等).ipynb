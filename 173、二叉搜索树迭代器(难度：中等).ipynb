{
 "cells": [
  {
   "cell_type": "markdown",
   "metadata": {},
   "source": [
    "# 二叉搜索树迭代器\n",
    "\n",
    "**题目来源：力扣（LeetCode）**\n",
    "\n",
    "**链接：https://leetcode-cn.com/problems/binary-search-tree-iterator/**\n",
    "\n",
    "## 一、题目\n",
    "\n",
    "实现一个二叉搜索树迭代器类BSTIterator ，表示一个按中序遍历二叉搜索树（BST）的迭代器：\n",
    "\n",
    "- BSTIterator(TreeNode root) 初始化 BSTIterator 类的一个对象。BST 的根节点 root 会作为构造函数的一部分给出。指针应初始化为一个不存在于 BST 中的数字，且该数字小于 BST 中的任何元素。\n",
    "- boolean hasNext() 如果向指针右侧遍历存在数字，则返回 true ；否则返回 false 。\n",
    "- int next()将指针向右移动，然后返回指针处的数字。\n",
    "\n",
    "注意，指针初始化为一个不存在于 BST 中的数字，所以对 next() 的首次调用将返回 BST 中的最小元素。\n",
    "\n",
    "你可以假设 next() 调用总是有效的，也就是说，当调用 next() 时，BST 的中序遍历中至少存在一个下一个数字。\n",
    "\n",
    "提示：\n",
    "\n",
    "- 树中节点的数目在范围 [1, 105] 内\n",
    "- 0 <= Node.val <= 106\n",
    "- 最多调用 105 次 hasNext 和 next 操作\n",
    "\n",
    "## 二、示例\n",
    "\n",
    "### 示例 1：\n",
    "\n",
    "输入\n",
    "\n",
    "[\"BSTIterator\", \"next\", \"next\", \"hasNext\", \"next\", \"hasNext\", \"next\", \"hasNext\", \"next\", \"hasNext\"]\n",
    "\n",
    "[[[7, 3, 15, null, null, 9, 20]], [], [], [], [], [], [], [], [], []]\n",
    "\n",
    "输出\n",
    "\n",
    "[null, 3, 7, true, 9, true, 15, true, 20, false]\n",
    "\n",
    "解释\n",
    "\n",
    "```\n",
    "bSTIterator = new BSTIterator(root)\n",
    "bSTIterator.next()    # 返回 3\n",
    "bSTIterator.next()    # 返回 7\n",
    "bSTIterator.hasNext()  # 返回 True\n",
    "bSTIterator.next()    # 返回 9\n",
    "bSTIterator.hasNext()  # 返回 True\n",
    "bSTIterator.next()    # 返回 15\n",
    "bSTIterator.hasNext()  # 返回 True\n",
    "bSTIterator.next()    # 返回 20\n",
    "bSTIterator.hasNext()  # 返回 False\n",
    "```\n",
    "\n",
    "## 三、解题思路"
   ]
  },
  {
   "cell_type": "code",
   "execution_count": 1,
   "metadata": {},
   "outputs": [],
   "source": [
    "class TreeNode:\n",
    "    def __init__(self, val=0, left=None, right=None):\n",
    "        self.val = val\n",
    "        self.left = left\n",
    "        self.right = right"
   ]
  },
  {
   "cell_type": "code",
   "execution_count": 2,
   "metadata": {},
   "outputs": [],
   "source": [
    "root = TreeNode(7)\n",
    "root.left = TreeNode(3)\n",
    "root.right = TreeNode(15)\n",
    "root.right.left = TreeNode(9)\n",
    "root.right.right = TreeNode(20)"
   ]
  },
  {
   "cell_type": "markdown",
   "metadata": {},
   "source": [
    "### 深度优先搜索"
   ]
  },
  {
   "cell_type": "code",
   "execution_count": 3,
   "metadata": {},
   "outputs": [],
   "source": [
    "class BSTIterator:\n",
    "\n",
    "    def __init__(self, root: TreeNode):\n",
    "        self._data = []\n",
    "        self.dfs(root)\n",
    "        self.index = 0\n",
    "    \n",
    "    def dfs(self, node):\n",
    "        if not node:\n",
    "            return\n",
    "        self.dfs(node.left)\n",
    "        self._data.append(node.val)\n",
    "        self.dfs(node.right)\n",
    "\n",
    "    def next(self) -> int:\n",
    "        cur = self._data[self.index]\n",
    "        self.index += 1\n",
    "        return cur\n",
    "\n",
    "    def hasNext(self) -> bool:\n",
    "        return self.index < len(self._data)"
   ]
  },
  {
   "cell_type": "code",
   "execution_count": 4,
   "metadata": {},
   "outputs": [
    {
     "name": "stdout",
     "output_type": "stream",
     "text": [
      "3\n",
      "7\n",
      "True\n",
      "9\n",
      "True\n",
      "15\n",
      "True\n",
      "20\n",
      "False\n"
     ]
    }
   ],
   "source": [
    "bSTIterator = BSTIterator(root)\n",
    "print(bSTIterator.next())    # 返回 3\n",
    "print(bSTIterator.next())    # 返回 7\n",
    "print(bSTIterator.hasNext()) # 返回 True\n",
    "print(bSTIterator.next())    # 返回 9\n",
    "print(bSTIterator.hasNext()) # 返回 True\n",
    "print(bSTIterator.next())    # 返回 15\n",
    "print(bSTIterator.hasNext()) # 返回 True\n",
    "print(bSTIterator.next())    # 返回 20\n",
    "print(bSTIterator.hasNext()) # 返回 False"
   ]
  },
  {
   "cell_type": "code",
   "execution_count": null,
   "metadata": {},
   "outputs": [],
   "source": []
  }
 ],
 "metadata": {
  "kernelspec": {
   "display_name": "Python 3",
   "language": "python",
   "name": "python3"
  },
  "language_info": {
   "codemirror_mode": {
    "name": "ipython",
    "version": 3
   },
   "file_extension": ".py",
   "mimetype": "text/x-python",
   "name": "python",
   "nbconvert_exporter": "python",
   "pygments_lexer": "ipython3",
   "version": "3.6.5"
  }
 },
 "nbformat": 4,
 "nbformat_minor": 2
}
