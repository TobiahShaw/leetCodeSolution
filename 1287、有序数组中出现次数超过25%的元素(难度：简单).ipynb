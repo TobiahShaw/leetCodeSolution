{
 "cells": [
  {
   "cell_type": "markdown",
   "metadata": {},
   "source": [
    "# 有序数组中出现次数超过25%的元素\n",
    "\n",
    "**题目来源：力扣（LeetCode）**\n",
    "\n",
    "**链接：https://leetcode-cn.com/problems/element-appearing-more-than-25-in-sorted-array/**\n",
    "\n",
    "## 一、题目\n",
    "\n",
    "给你一个非递减的 有序 整数数组，已知这个数组中恰好有一个整数，它的出现次数超过数组元素总数的 25%。\n",
    "\n",
    "请你找到并返回这个整数\n",
    "\n",
    "## 二、示例\n",
    "\n",
    "输入：arr = [1,2,2,6,6,6,6,7,10]\n",
    "\n",
    "输出：6\n",
    "\n",
    "## 三、解题思路\n",
    "\n",
    "### 轮询"
   ]
  },
  {
   "cell_type": "code",
   "execution_count": 1,
   "metadata": {},
   "outputs": [],
   "source": [
    "def findSpecialInteger(arr) -> int:\n",
    "    n = len(arr)\n",
    "    count = 0\n",
    "    cur = float('-inf')\n",
    "    for i in arr:\n",
    "        if i != cur:\n",
    "            cur = i\n",
    "            count = 1\n",
    "        else:\n",
    "            count += 1\n",
    "        if count > n / 4:\n",
    "            return i\n",
    "    return None"
   ]
  },
  {
   "cell_type": "code",
   "execution_count": 2,
   "metadata": {},
   "outputs": [
    {
     "data": {
      "text/plain": [
       "6"
      ]
     },
     "execution_count": 2,
     "metadata": {},
     "output_type": "execute_result"
    }
   ],
   "source": [
    "findSpecialInteger([1,2,2,6,6,6,6,7,10])"
   ]
  },
  {
   "cell_type": "code",
   "execution_count": null,
   "metadata": {},
   "outputs": [],
   "source": []
  }
 ],
 "metadata": {
  "kernelspec": {
   "display_name": "Python 3",
   "language": "python",
   "name": "python3"
  },
  "language_info": {
   "codemirror_mode": {
    "name": "ipython",
    "version": 3
   },
   "file_extension": ".py",
   "mimetype": "text/x-python",
   "name": "python",
   "nbconvert_exporter": "python",
   "pygments_lexer": "ipython3",
   "version": "3.6.5"
  }
 },
 "nbformat": 4,
 "nbformat_minor": 2
}
