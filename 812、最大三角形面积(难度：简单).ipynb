{
 "cells": [
  {
   "cell_type": "markdown",
   "metadata": {},
   "source": [
    "# 最大三角形面积\n",
    "\n",
    "**题目来源：力扣（LeetCode）**\n",
    "\n",
    "**链接：https://leetcode-cn.com/problems/largest-triangle-area/**\n",
    "\n",
    "## 一、题目\n",
    "\n",
    "给定包含多个点的集合，从其中取三个点组成三角形，返回能组成的最大三角形的面积。\n",
    "\n",
    "注意:\n",
    "\n",
    "- 3 <= points.length <= 50.\n",
    "- 不存在重复的点。\n",
    "- -50 <= points[i][j] <= 50.\n",
    "- 结果误差值在 10^-6 以内都认为是正确答案。\n",
    "\n",
    "## 二、示例\n",
    "\n",
    "输入: points = [[0,0],[0,1],[1,0],[0,2],[2,0]]\n",
    "\n",
    "输出: 2\n",
    "\n",
    "## 三、解题思路"
   ]
  },
  {
   "cell_type": "code",
   "execution_count": 1,
   "metadata": {},
   "outputs": [],
   "source": [
    "def largestTriangleArea(points) -> float:\n",
    "    def area(p, q, r):\n",
    "        return .5 * abs(p[0]*q[1]+q[0]*r[1]+r[0]*p[1]\n",
    "                       -p[1]*q[0]-q[1]*r[0]-r[1]*p[0])\n",
    "    import itertools\n",
    "    return max(area(*triangle)\n",
    "        for triangle in itertools.combinations(points, 3))"
   ]
  },
  {
   "cell_type": "code",
   "execution_count": 2,
   "metadata": {},
   "outputs": [
    {
     "data": {
      "text/plain": [
       "2.0"
      ]
     },
     "execution_count": 2,
     "metadata": {},
     "output_type": "execute_result"
    }
   ],
   "source": [
    "largestTriangleArea([[0,0],[0,1],[1,0],[0,2],[2,0]])"
   ]
  },
  {
   "cell_type": "code",
   "execution_count": null,
   "metadata": {},
   "outputs": [],
   "source": []
  }
 ],
 "metadata": {
  "kernelspec": {
   "display_name": "Python 3",
   "language": "python",
   "name": "python3"
  },
  "language_info": {
   "codemirror_mode": {
    "name": "ipython",
    "version": 3
   },
   "file_extension": ".py",
   "mimetype": "text/x-python",
   "name": "python",
   "nbconvert_exporter": "python",
   "pygments_lexer": "ipython3",
   "version": "3.6.5"
  }
 },
 "nbformat": 4,
 "nbformat_minor": 2
}
