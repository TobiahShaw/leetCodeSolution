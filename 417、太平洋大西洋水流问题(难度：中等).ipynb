{
 "cells": [
  {
   "cell_type": "markdown",
   "metadata": {},
   "source": [
    "# 太平洋大西洋水流问题\n",
    "\n",
    "**题目来源：力扣（LeetCode）**\n",
    "\n",
    "**链接：https://leetcode-cn.com/problems/pacific-atlantic-water-flow/**\n",
    "\n",
    "## 一、题目\n",
    "\n",
    "有一个 m × n 的矩形岛屿，与 太平洋 和 大西洋 相邻。 “太平洋” 处于大陆的左边界和上边界，而 “大西洋” 处于大陆的右边界和下边界。\n",
    "\n",
    "这个岛被分割成一个由若干方形单元格组成的网格。给定一个 m x n 的整数矩阵 heights ， heights[r][c] 表示坐标 (r, c) 上单元格 高于海平面的高度 。\n",
    "\n",
    "岛上雨水较多，如果相邻单元格的高度 小于或等于 当前单元格的高度，雨水可以直接向北、南、东、西流向相邻单元格。水可以从海洋附近的任何单元格流入海洋。\n",
    "\n",
    "返回 网格坐标 result 的 2D列表 ，其中 result[i] = [ri, ci] 表示雨水可以从单元格 (ri, ci) 流向 太平洋和大西洋 。\n",
    "\n",
    "### 提示：\n",
    "\n",
    "- m == heights.length\n",
    "- n == heights[r].length\n",
    "- 1 <= m, n <= 200\n",
    "- 0 <= heights[r][c] <= 10^5\n",
    "\n",
    "## 二、示例\n",
    "\n",
    "### 示例 1：\n",
    "\n",
    "输入: heights = [[1,2,2,3,5],[3,2,3,4,4],[2,4,5,3,1],[6,7,1,4,5],[5,1,1,2,4]]\n",
    "\n",
    "输出: [[0,4],[1,3],[1,4],[2,2],[3,0],[3,1],[4,0]]\n",
    "\n",
    "### 示例 2：\n",
    "\n",
    "输入: heights = [[2,1],[1,2]]\n",
    "\n",
    "输出: [[0,0],[0,1],[1,0],[1,1]]\n",
    "\n",
    "## 三、解题思路\n",
    "\n",
    "### BFS\n",
    "\n",
    "沿着边界广度优先分别倒着找能流到大西洋和太平洋的区块，然后求交集"
   ]
  },
  {
   "cell_type": "code",
   "execution_count": 1,
   "metadata": {},
   "outputs": [],
   "source": [
    "def pacificAtlantic(heights):\n",
    "    m, n = len(heights), len(heights[0])\n",
    "    dx = [0, 0, 1, -1]\n",
    "    dy = [1, -1, 0, 0]\n",
    "    p_set, a_set = set(), set()\n",
    "    def bfs(x, y, visited):\n",
    "        visited.add((x, y))\n",
    "        curH = heights[x][y]\n",
    "        for i in range(4):\n",
    "            new_x, new_y = x + dx[i], y + dy[i]\n",
    "            if 0 <= new_x < m and 0 <= new_y < n and (new_x, new_y) not in visited and heights[new_x][new_y] >= curH:\n",
    "                bfs(new_x, new_y, visited)\n",
    "    for i in range(m):\n",
    "        bfs(i, 0, p_set)\n",
    "        bfs(i, n-1, a_set)\n",
    "    for i in range(n):\n",
    "        bfs(0, i, p_set)\n",
    "        bfs(m-1, i, a_set)\n",
    "    return [list(item) for item in list(p_set & a_set)]"
   ]
  },
  {
   "cell_type": "code",
   "execution_count": 2,
   "metadata": {},
   "outputs": [
    {
     "data": {
      "text/plain": [
       "[[1, 3], [3, 0], [3, 1], [1, 4], [0, 4], [2, 2], [4, 0]]"
      ]
     },
     "execution_count": 2,
     "metadata": {},
     "output_type": "execute_result"
    }
   ],
   "source": [
    "pacificAtlantic([[1,2,2,3,5],[3,2,3,4,4],[2,4,5,3,1],[6,7,1,4,5],[5,1,1,2,4]])"
   ]
  },
  {
   "cell_type": "code",
   "execution_count": 3,
   "metadata": {},
   "outputs": [
    {
     "data": {
      "text/plain": [
       "[[0, 1], [1, 0], [0, 0], [1, 1]]"
      ]
     },
     "execution_count": 3,
     "metadata": {},
     "output_type": "execute_result"
    }
   ],
   "source": [
    "pacificAtlantic([[2,1],[1,2]])"
   ]
  },
  {
   "cell_type": "code",
   "execution_count": null,
   "metadata": {},
   "outputs": [],
   "source": []
  }
 ],
 "metadata": {
  "kernelspec": {
   "display_name": "Python 3",
   "language": "python",
   "name": "python3"
  },
  "language_info": {
   "codemirror_mode": {
    "name": "ipython",
    "version": 3
   },
   "file_extension": ".py",
   "mimetype": "text/x-python",
   "name": "python",
   "nbconvert_exporter": "python",
   "pygments_lexer": "ipython3",
   "version": "3.6.5"
  }
 },
 "nbformat": 4,
 "nbformat_minor": 2
}
