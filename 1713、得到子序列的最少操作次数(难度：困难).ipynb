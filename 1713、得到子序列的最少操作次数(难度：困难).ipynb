{
 "cells": [
  {
   "cell_type": "markdown",
   "metadata": {},
   "source": [
    "# 得到子序列的最少操作次数\n",
    "\n",
    "**题目来源：力扣（LeetCode）**\n",
    "\n",
    "**链接：https://leetcode-cn.com/problems/minimum-operations-to-make-a-subsequence/**\n",
    "\n",
    "## 一、题目\n",
    "\n",
    "给你一个数组 target ，包含若干 互不相同 的整数，以及另一个整数数组 arr ，arr 可能 包含重复元素。\n",
    "\n",
    "每一次操作中，你可以在 arr 的任意位置插入任一整数。比方说，如果 arr = [1,4,1,2] ，那么你可以在中间添加 3 得到 [1,4,3,1,2] 。你可以在数组最开始或最后面添加整数。\n",
    "\n",
    "请你返回 最少 操作次数，使得 target 成为 arr 的一个子序列。\n",
    "\n",
    "一个数组的 子序列 指的是删除原数组的某些元素（可能一个元素都不删除），同时不改变其余元素的相对顺序得到的数组。比方说，[2,7,4] 是 [4,2,3,7,2,1,4] 的子序列（加粗元素），但 [2,4,2] 不是子序列。\n",
    "\n",
    "### 提示：\n",
    "\n",
    "- 1 <= target.length, arr.length <= 105\n",
    "- 1 <= target[i], arr[i] <= 109\n",
    "- target 不包含任何重复元素。\n",
    "\n",
    "## 二、示例\n",
    "\n",
    "### 示例 1：\n",
    "\n",
    "输入：target = [5,1,3], arr = [9,4,2,3,4]\n",
    "\n",
    "输出：2\n",
    "\n",
    "解释：你可以添加 5 和 1 ，使得 arr 变为 [5,9,4,1,2,3,4] ，target 为 arr 的子序列。\n",
    "\n",
    "### 示例 2：\n",
    "\n",
    "输入：target = [6,4,8,1,3,2], arr = [4,7,6,2,3,8,6,1]\n",
    "\n",
    "输出：3\n",
    "\n",
    "## 三、解题思路\n",
    "\n",
    "### 倒排索引 + 最长递增子序列\n",
    "\n",
    "1. 首先题目是要增加arr的元素使target成为arr的子序列，求最少增加的元素操作次数。那么就是求arr里已有的子序列最长和target重合的部分的长度，与target的差。\n",
    "2. arr里target没有的元素对本题没有意义，可以忽略。\n",
    "3. 已知target里的元素不会重复，即可以值和索引一一对应。\n",
    "4. 因为子序要求的是前后顺序不变，即索引升序，我们可以将arr中target里没有的元素去掉，将其他元素对饮target里的索引组成一个新数组。这样最长递增子序列对应的arr子序列就是我们找的需要在arr上操作次数最少的序列。问题变成求最长递增子序列。\n",
    "5. target的长度减去最长递增子序列的长度即为操作次数"
   ]
  },
  {
   "cell_type": "code",
   "execution_count": 1,
   "metadata": {},
   "outputs": [],
   "source": [
    "def minOperations(target, arr) -> int:\n",
    "    def lengthOfLIS(nums):\n",
    "        # leetcode 300\n",
    "        if not nums:\n",
    "            return 0\n",
    "        stack = [nums[0]]\n",
    "        for i in range(1, len(nums)):\n",
    "            if nums[i] > stack[-1]:\n",
    "                stack.append(nums[i])\n",
    "            else:\n",
    "                for j in range(len(stack)):\n",
    "                    if stack[j] >= nums[i]:\n",
    "                        stack[j] = nums[i]\n",
    "                        break\n",
    "        return len(stack)\n",
    "    dic = {}\n",
    "    for i in range(len(target)):\n",
    "        dic[target[i]] = i\n",
    "    indexArr = []\n",
    "    for i in arr:\n",
    "        if i in dic:\n",
    "            indexArr.append(dic[i])\n",
    "    return len(target) - lengthOfLIS(indexArr)"
   ]
  },
  {
   "cell_type": "code",
   "execution_count": 2,
   "metadata": {},
   "outputs": [
    {
     "data": {
      "text/plain": [
       "2"
      ]
     },
     "execution_count": 2,
     "metadata": {},
     "output_type": "execute_result"
    }
   ],
   "source": [
    "minOperations(target = [5,1,3], arr = [9,4,2,3,4])"
   ]
  },
  {
   "cell_type": "code",
   "execution_count": 3,
   "metadata": {},
   "outputs": [
    {
     "data": {
      "text/plain": [
       "3"
      ]
     },
     "execution_count": 3,
     "metadata": {},
     "output_type": "execute_result"
    }
   ],
   "source": [
    "minOperations(target = [6,4,8,1,3,2], arr = [4,7,6,2,3,8,6,1])"
   ]
  },
  {
   "cell_type": "code",
   "execution_count": null,
   "metadata": {},
   "outputs": [],
   "source": []
  }
 ],
 "metadata": {
  "kernelspec": {
   "display_name": "Python 3",
   "language": "python",
   "name": "python3"
  },
  "language_info": {
   "codemirror_mode": {
    "name": "ipython",
    "version": 3
   },
   "file_extension": ".py",
   "mimetype": "text/x-python",
   "name": "python",
   "nbconvert_exporter": "python",
   "pygments_lexer": "ipython3",
   "version": "3.6.5"
  }
 },
 "nbformat": 4,
 "nbformat_minor": 2
}
