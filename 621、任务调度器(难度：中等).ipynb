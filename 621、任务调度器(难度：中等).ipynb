{
 "cells": [
  {
   "cell_type": "markdown",
   "metadata": {},
   "source": [
    "# 任务调度器\n",
    "\n",
    "**题目来源：力扣（LeetCode）**\n",
    "\n",
    "**链接：https://leetcode-cn.com/problems/find-common-characters/**\n",
    "\n",
    "## 一、题目\n",
    "\n",
    "给你一个用字符数组 tasks 表示的 CPU 需要执行的任务列表。其中每个字母表示一种不同种类的任务。任务可以以任意顺序执行，并且每个任务都可以在 1 个单位时间内执行完。在任何一个单位时间，CPU 可以完成一个任务，或者处于待命状态。\n",
    "\n",
    "然而，两个 相同种类 的任务之间必须有长度为整数 n 的冷却时间，因此至少有连续 n 个单位时间内 CPU 在执行不同的任务，或者在待命状态。\n",
    "\n",
    "你需要计算完成所有任务所需要的 最短时间 。\n",
    "\n",
    "## 二、示例\n",
    "\n",
    "### 示例 1：\n",
    "\n",
    "输入：tasks = [\"A\",\"A\",\"A\",\"B\",\"B\",\"B\"], n = 2\n",
    "\n",
    "输出：8\n",
    "\n",
    "解释：\n",
    "\n",
    "A -> B -> (待命) -> A -> B -> (待命) -> A -> B\n",
    "\n",
    "在本示例中，两个相同类型任务之间必须间隔长度为 n = 2 的冷却时间，而执行一个任务只需要一个单位时间，所以中间出现了（待命）状态。 \n",
    "\n",
    "### 示例 2：\n",
    "\n",
    "输入：tasks = [\"A\",\"A\",\"A\",\"B\",\"B\",\"B\"], n = 0\n",
    "\n",
    "输出：6\n",
    "\n",
    "解释：\n",
    "\n",
    "在这种情况下，任何大小为 6 的排列都可以满足要求，因为 n = 0\n",
    "\n",
    "[\"A\",\"A\",\"A\",\"B\",\"B\",\"B\"]\n",
    "\n",
    "[\"A\",\"B\",\"A\",\"B\",\"A\",\"B\"]\n",
    "\n",
    "[\"B\",\"B\",\"B\",\"A\",\"A\",\"A\"]\n",
    "\n",
    "...\n",
    "\n",
    "诸如此类\n",
    "\n",
    "### 示例 3：\n",
    "\n",
    "输入：tasks = [\"A\",\"A\",\"A\",\"A\",\"A\",\"A\",\"B\",\"C\",\"D\",\"E\",\"F\",\"G\"], n = 2\n",
    "\n",
    "输出：16\n",
    "\n",
    "解释：\n",
    "\n",
    "一种可能的解决方案是：\n",
    "\n",
    "A -> B -> C -> A -> D -> E -> A -> F -> G -> A -> (待命) -> (待命) -> A -> (待命) -> (待命) -> A\n",
    "\n",
    "## 三、解题思路\n",
    "\n",
    "### 模拟过程"
   ]
  },
  {
   "cell_type": "code",
   "execution_count": 1,
   "metadata": {},
   "outputs": [],
   "source": [
    "def leastInterval(tasks, n: int) -> int:\n",
    "    if not tasks:\n",
    "        return 0\n",
    "    taskCount = len(tasks)\n",
    "    if n == 0:\n",
    "        return taskCount\n",
    "    # 处理任务为[个数，CD]的列表的形式\n",
    "    tmpTaskArray = [[0, 0] for _ in range(26)]\n",
    "    for t in tasks:\n",
    "        tmpTaskArray[ord(t) - ord('A')][0] += 1\n",
    "    # 真正需要处理的任务\n",
    "    taskArray = []\n",
    "    for task in tmpTaskArray:\n",
    "        if task[0] != 0:\n",
    "            taskArray.append(task)\n",
    "    taskKinds = len(taskArray)\n",
    "    time = 0\n",
    "    while taskCount:\n",
    "        exe = None\n",
    "        for i in range(taskKinds):\n",
    "            task = taskArray[i]\n",
    "            if task[0] != 0 and task[1] <= 0:\n",
    "                # 能处理的任务中个数最多的那个\n",
    "                if not exe or exe[0] < task[0]:\n",
    "                    exe = task\n",
    "            else:\n",
    "                # 不能处理的任务减cd\n",
    "                task[1] -= 1\n",
    "        time += 1\n",
    "        # 处理任务\n",
    "        if exe:\n",
    "            taskCount -= 1\n",
    "            exe[0] -= 1\n",
    "            exe[1] = n\n",
    "    return time"
   ]
  },
  {
   "cell_type": "code",
   "execution_count": 2,
   "metadata": {},
   "outputs": [
    {
     "data": {
      "text/plain": [
       "8"
      ]
     },
     "execution_count": 2,
     "metadata": {},
     "output_type": "execute_result"
    }
   ],
   "source": [
    "leastInterval(tasks = [\"A\",\"A\",\"A\",\"B\",\"B\",\"B\"], n = 2)"
   ]
  },
  {
   "cell_type": "code",
   "execution_count": 3,
   "metadata": {},
   "outputs": [
    {
     "data": {
      "text/plain": [
       "6"
      ]
     },
     "execution_count": 3,
     "metadata": {},
     "output_type": "execute_result"
    }
   ],
   "source": [
    "leastInterval(tasks = [\"A\",\"A\",\"A\",\"B\",\"B\",\"B\"], n = 0)"
   ]
  },
  {
   "cell_type": "code",
   "execution_count": 4,
   "metadata": {},
   "outputs": [
    {
     "data": {
      "text/plain": [
       "16"
      ]
     },
     "execution_count": 4,
     "metadata": {},
     "output_type": "execute_result"
    }
   ],
   "source": [
    "leastInterval(tasks = [\"A\",\"A\",\"A\",\"A\",\"A\",\"A\",\"B\",\"C\",\"D\",\"E\",\"F\",\"G\"], n = 2)"
   ]
  },
  {
   "cell_type": "code",
   "execution_count": null,
   "metadata": {},
   "outputs": [],
   "source": []
  }
 ],
 "metadata": {
  "kernelspec": {
   "display_name": "Python 3",
   "language": "python",
   "name": "python3"
  },
  "language_info": {
   "codemirror_mode": {
    "name": "ipython",
    "version": 3
   },
   "file_extension": ".py",
   "mimetype": "text/x-python",
   "name": "python",
   "nbconvert_exporter": "python",
   "pygments_lexer": "ipython3",
   "version": "3.6.5"
  }
 },
 "nbformat": 4,
 "nbformat_minor": 2
}
