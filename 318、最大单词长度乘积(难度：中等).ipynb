{
 "cells": [
  {
   "cell_type": "markdown",
   "metadata": {},
   "source": [
    "# 最大单词长度乘积\n",
    "\n",
    "**题目来源：力扣（LeetCode）**\n",
    "\n",
    "**链接：https://leetcode-cn.com/problems/maximum-product-of-word-lengths/**\n",
    "\n",
    "## 一、题目\n",
    "\n",
    "给定一个字符串数组 words，找到 length(word[i]) * length(word[j]) 的最大值，并且这两个单词不含有公共字母。你可以认为每个单词只包含小写字母。如果不存在这样的两个单词，返回 0。\n",
    "\n",
    "### 提示：\n",
    "\n",
    "- 2 <= words.length <= 1000\n",
    "- 1 <= words[i].length <= 1000\n",
    "- words[i] 仅包含小写字母\n",
    "\n",
    "## 二、示例\n",
    "\n",
    "### 示例 1：\n",
    "\n",
    "输入: [\"abcw\",\"baz\",\"foo\",\"bar\",\"xtfn\",\"abcdef\"]\n",
    "\n",
    "输出: 16 \n",
    "\n",
    "解释: 这两个单词为 \"abcw\", \"xtfn\"。\n",
    "\n",
    "### 示例 2:\n",
    "\n",
    "输入: [\"a\",\"ab\",\"abc\",\"d\",\"cd\",\"bcd\",\"abcd\"]\n",
    "\n",
    "输出: 4 \n",
    "\n",
    "解释: 这两个单词为 \"ab\", \"cd\"。\n",
    "\n",
    "### 示例 3:\n",
    "\n",
    "输入: [\"a\",\"aa\",\"aaa\",\"aaaa\"]\n",
    "\n",
    "输出: 0 \n",
    "\n",
    "解释: 不存在这样的两个单词。\n",
    "\n",
    "## 三、解题思路\n",
    "\n",
    "### 利用集合"
   ]
  },
  {
   "cell_type": "code",
   "execution_count": 1,
   "metadata": {},
   "outputs": [],
   "source": [
    "def maxProduct(words) -> int:\n",
    "    n = len(words)\n",
    "    ret = 0\n",
    "    wordsSet = [(set(word), len(word)) for word in words]\n",
    "    for i in range(n):\n",
    "        word_i = wordsSet[i]\n",
    "        for j in range(i+1, n):\n",
    "            word_j = wordsSet[j]\n",
    "            if len(word_i[0] & word_j[0]) == 0:\n",
    "                ret = max(ret, word_i[1] * word_j[1])\n",
    "    return ret"
   ]
  },
  {
   "cell_type": "code",
   "execution_count": 2,
   "metadata": {},
   "outputs": [
    {
     "data": {
      "text/plain": [
       "16"
      ]
     },
     "execution_count": 2,
     "metadata": {},
     "output_type": "execute_result"
    }
   ],
   "source": [
    "maxProduct([\"abcw\",\"baz\",\"foo\",\"bar\",\"xtfn\",\"abcdef\"])"
   ]
  },
  {
   "cell_type": "code",
   "execution_count": 3,
   "metadata": {},
   "outputs": [
    {
     "data": {
      "text/plain": [
       "4"
      ]
     },
     "execution_count": 3,
     "metadata": {},
     "output_type": "execute_result"
    }
   ],
   "source": [
    "maxProduct([\"a\",\"ab\",\"abc\",\"d\",\"cd\",\"bcd\",\"abcd\"])"
   ]
  },
  {
   "cell_type": "code",
   "execution_count": 4,
   "metadata": {},
   "outputs": [
    {
     "data": {
      "text/plain": [
       "0"
      ]
     },
     "execution_count": 4,
     "metadata": {},
     "output_type": "execute_result"
    }
   ],
   "source": [
    "maxProduct([\"a\",\"aa\",\"aaa\",\"aaaa\"])"
   ]
  },
  {
   "cell_type": "code",
   "execution_count": null,
   "metadata": {},
   "outputs": [],
   "source": []
  }
 ],
 "metadata": {
  "kernelspec": {
   "display_name": "Python 3",
   "language": "python",
   "name": "python3"
  },
  "language_info": {
   "codemirror_mode": {
    "name": "ipython",
    "version": 3
   },
   "file_extension": ".py",
   "mimetype": "text/x-python",
   "name": "python",
   "nbconvert_exporter": "python",
   "pygments_lexer": "ipython3",
   "version": "3.6.5"
  }
 },
 "nbformat": 4,
 "nbformat_minor": 2
}
