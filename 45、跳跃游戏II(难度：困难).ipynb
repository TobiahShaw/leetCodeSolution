{
  "cells": [
    {
      "metadata": {
        "collapsed": true
      },
      "cell_type": "markdown",
      "source": "# 跳跃游戏II\n\n**题目来源：力扣（LeetCode）**\n\n**链接：https://leetcode-cn.com/problems/jump-game-ii/**\n\n## 一、题目\n\n给定一个非负整数数组，你最初位于数组的第一个位置。\n\n数组中的每个元素代表你在该位置可以跳跃的最大长度。\n\n你的目标是使用最少的跳跃次数到达数组的最后一个位置。\n\n## 二、示例\n\n输入: [2,3,1,1,4]\n\n输出: 2\n\n解释: 跳到最后一个位置的最小跳跃数是 2。从下标为 0 跳到下标为 1 的位置，跳 1 步，然后跳 3 步到达数组的最后一个位置。\n\n## 三、解题思路\n\n思考：\n\n从0位置开始，最少需要跳几次达到最后一个位置？\n\n如果希望最少跳跃到达终点，则需明确何时跳跃是最合适的。\n\n在到达某个位置之前：\n\n- 如果提早跳跃，则可能增加跳跃次数\n- 如果在位置之前都未跳，则可能无法达到这个位置之后的地方\n\n贪心规律：\n\n在到达某点之前一直不跳，发现从该点无法跳跃到更远的地方，在这之前肯定有次必要的跳跃。\n\n在无法到达更远的地方时，在这之前应该跳到一个可以到达更远的位置。\n\n### 贪心\n\n- 设置current_max_index为当前可到达的最远的位置\n- 设置pre_max_max_index为在遍历各个位置过程中，各个位置可到达最远的位置\n- 设置jump_min为最小的跳跃次数\n- 利用i遍历数组nums，若i超过current_max_index，则jump_min加一，current_max_index = pre_max_max_index（i超过当前最远跳跃位置，必须要跳）\n- 遍历过程中，若nums[i]+i更大，则pre_max_max_index = nums[i]+i"
    },
    {
      "metadata": {
        "trusted": true
      },
      "cell_type": "code",
      "source": "",
      "execution_count": null,
      "outputs": []
    }
  ],
  "metadata": {
    "kernelspec": {
      "name": "python36",
      "display_name": "Python 3.6",
      "language": "python"
    },
    "language_info": {
      "mimetype": "text/x-python",
      "nbconvert_exporter": "python",
      "name": "python",
      "pygments_lexer": "ipython3",
      "version": "3.6.6",
      "file_extension": ".py",
      "codemirror_mode": {
        "version": 3,
        "name": "ipython"
      }
    }
  },
  "nbformat": 4,
  "nbformat_minor": 2
}