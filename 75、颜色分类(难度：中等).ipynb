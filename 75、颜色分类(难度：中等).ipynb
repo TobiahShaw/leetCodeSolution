{
 "cells": [
  {
   "cell_type": "markdown",
   "metadata": {},
   "source": [
    "# 颜色分类\n",
    "\n",
    "**题目来源：力扣（LeetCode）**\n",
    "**链接：https://leetcode-cn.com/problems/sort-colors/**\n",
    "\n",
    "## 一、题目\n",
    "\n",
    "给定一个包含红色、白色和蓝色，一共 n 个元素的数组，原地对它们进行排序，使得相同颜色的元素相邻，并按照红色、白色、蓝色顺序排列。\n",
    "\n",
    "此题中，我们使用整数 0、 1 和 2 分别表示红色、白色和蓝色。\n",
    "\n",
    "### 注意:\n",
    "\n",
    "不能使用代码库中的排序函数来解决这道题。\n",
    "\n",
    "## 二、示例\n",
    "\n",
    "输入: [2,0,2,1,1,0]\n",
    "\n",
    "输出: [0,0,1,1,2,2]\n",
    "\n",
    "## 三、解题思路\n",
    "\n",
    "### 遍历交换"
   ]
  },
  {
   "cell_type": "code",
   "execution_count": 1,
   "metadata": {},
   "outputs": [],
   "source": [
    "def sortColors(nums):\n",
    "    index = 0\n",
    "    for i in range(len(nums)):\n",
    "        if nums[i] == 0:\n",
    "            nums[i], nums[index] = nums[index], nums[i]\n",
    "            index+=1\n",
    "    for i in range(index, len(nums)):\n",
    "        if nums[i] == 1:\n",
    "            nums[i], nums[index] = nums[index], nums[i]\n",
    "            index+=1\n",
    "    return nums"
   ]
  },
  {
   "cell_type": "code",
   "execution_count": 2,
   "metadata": {},
   "outputs": [
    {
     "data": {
      "text/plain": [
       "[0, 0, 1, 1, 2, 2]"
      ]
     },
     "execution_count": 2,
     "metadata": {},
     "output_type": "execute_result"
    }
   ],
   "source": [
    "sortColors([2,0,2,1,1,0])"
   ]
  },
  {
   "cell_type": "code",
   "execution_count": null,
   "metadata": {},
   "outputs": [],
   "source": []
  }
 ],
 "metadata": {
  "kernelspec": {
   "display_name": "Python 3",
   "language": "python",
   "name": "python3"
  },
  "language_info": {
   "codemirror_mode": {
    "name": "ipython",
    "version": 3
   },
   "file_extension": ".py",
   "mimetype": "text/x-python",
   "name": "python",
   "nbconvert_exporter": "python",
   "pygments_lexer": "ipython3",
   "version": "3.7.8"
  }
 },
 "nbformat": 4,
 "nbformat_minor": 4
}
