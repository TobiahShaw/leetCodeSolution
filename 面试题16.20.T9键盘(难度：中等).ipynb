{
 "cells": [
  {
   "cell_type": "markdown",
   "metadata": {},
   "source": [
    "# T9键盘\n",
    "\n",
    "**题目来源：力扣（LeetCode）**\n",
    "\n",
    "**链接：https://leetcode-cn.com/problems/t9-lcci/**\n",
    "\n",
    "## 一、题目\n",
    "\n",
    "在老式手机上，用户通过数字键盘输入，手机将提供与这些数字相匹配的单词列表。每个数字映射到0至4个字母。给定一个数字序列，实现一个算法来返回匹配单词的列表。你会得到一张含有有效单词的列表。\n",
    "\n",
    "### 提示：\n",
    "\n",
    "- num.length <= 1000\n",
    "- words.length <= 500\n",
    "- words[i].length == num.length\n",
    "- num中不会出现 0, 1 这两个数字\n",
    "\n",
    "## 二、示例\n",
    "\n",
    "### 示例 1:\n",
    "\n",
    "输入: num = \"8733\", words = [\"tree\", \"used\"]\n",
    "\n",
    "输出: [\"tree\", \"used\"]\n",
    "\n",
    "### 示例 2:\n",
    "\n",
    "输入: num = \"2\", words = [\"a\", \"b\", \"c\", \"d\"]\n",
    "\n",
    "输出: [\"a\", \"b\", \"c\"]\n",
    "\n",
    "## 三、解题思路\n",
    "\n",
    "### 哈希表"
   ]
  },
  {
   "cell_type": "code",
   "execution_count": 1,
   "metadata": {},
   "outputs": [],
   "source": [
    "def getValidT9Words(num: str, words):\n",
    "    keyboard = {\"2\": {\"a\", \"b\", \"c\"}, \"3\": {\"d\", \"e\", \"f\"}, \"4\": {\"g\", \"h\", \"i\"},\n",
    "                \"5\": {\"j\", \"k\", \"l\"}, \"6\": {\"m\", \"o\", \"n\"}, \"7\": {\"p\", \"q\", \"r\", \"s\"},\n",
    "                \"8\": {\"t\", \"u\", \"v\"}, \"9\": {\"w\", \"x\", \"y\", \"z\"}}\n",
    "    candidate = words[:]\n",
    "    n = len(num)\n",
    "    for i in range(n):\n",
    "        chars = keyboard[num[i]]\n",
    "        new_candidate = []\n",
    "        for word in candidate:\n",
    "            if word[i] in chars:\n",
    "                new_candidate.append(word)\n",
    "        candidate = new_candidate\n",
    "    return candidate"
   ]
  },
  {
   "cell_type": "code",
   "execution_count": 2,
   "metadata": {},
   "outputs": [
    {
     "data": {
      "text/plain": [
       "['tree', 'used']"
      ]
     },
     "execution_count": 2,
     "metadata": {},
     "output_type": "execute_result"
    }
   ],
   "source": [
    "getValidT9Words(num = \"8733\", words = [\"tree\", \"used\"])"
   ]
  },
  {
   "cell_type": "code",
   "execution_count": 3,
   "metadata": {},
   "outputs": [
    {
     "data": {
      "text/plain": [
       "['a', 'b', 'c']"
      ]
     },
     "execution_count": 3,
     "metadata": {},
     "output_type": "execute_result"
    }
   ],
   "source": [
    "getValidT9Words(num = \"2\", words = [\"a\", \"b\", \"c\", \"d\"])"
   ]
  },
  {
   "cell_type": "code",
   "execution_count": null,
   "metadata": {},
   "outputs": [],
   "source": []
  }
 ],
 "metadata": {
  "kernelspec": {
   "display_name": "Python 3",
   "language": "python",
   "name": "python3"
  },
  "language_info": {
   "codemirror_mode": {
    "name": "ipython",
    "version": 3
   },
   "file_extension": ".py",
   "mimetype": "text/x-python",
   "name": "python",
   "nbconvert_exporter": "python",
   "pygments_lexer": "ipython3",
   "version": "3.6.5"
  }
 },
 "nbformat": 4,
 "nbformat_minor": 2
}
