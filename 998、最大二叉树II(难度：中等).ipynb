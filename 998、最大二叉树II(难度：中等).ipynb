{
 "cells": [
  {
   "cell_type": "markdown",
   "metadata": {},
   "source": [
    "# 最大二叉树II\n",
    "\n",
    "**题目来源：力扣（LeetCode）**\n",
    "\n",
    "**链接：https://leetcode.cn/problems/maximum-binary-tree-ii/**\n",
    "\n",
    "## 一、题目\n",
    "\n",
    "最大树 定义：一棵树，并满足：其中每个节点的值都大于其子树中的任何其他值。\n",
    "\n",
    "给你最大树的根节点 root 和一个整数 val 。\n",
    "\n",
    "就像 之前的问题 那样，给定的树是利用 Construct(a) 例程从列表 a（root = Construct(a)）递归地构建的：\n",
    "\n",
    "- 如果 a 为空，返回 null 。\n",
    "- 否则，令 a[i] 作为 a 的最大元素。创建一个值为 a[i] 的根节点 root 。\n",
    "- root 的左子树将被构建为 Construct([a[0], a[1], ..., a[i - 1]]) 。\n",
    "- root 的右子树将被构建为 Construct([a[i + 1], a[i + 2], ..., a[a.length - 1]]) 。\n",
    "- 返回 root 。\n",
    "\n",
    "请注意，题目没有直接给出 a ，只是给出一个根节点 root = Construct(a) 。\n",
    "\n",
    "假设 b 是 a 的副本，并在末尾附加值 val。题目数据保证 b 中的值互不相同。\n",
    "\n",
    "返回 Construct(b) 。\n",
    "\n",
    "### 提示：\n",
    "\n",
    "- 树中节点数目在范围 [1, 100] 内\n",
    "- 1 <= Node.val <= 100\n",
    "- 树中的所有值 互不相同\n",
    "- 1 <= val <= 100\n",
    "\n",
    "## 二、示例\n",
    "\n",
    "### 示例 1：\n",
    "\n",
    "输入：root = [4,1,3,null,null,2], val = 5\n",
    "\n",
    "输出：[5,4,null,1,3,null,null,2]\n",
    "\n",
    "解释：a = [1,4,2,3], b = [1,4,2,3,5]\n",
    "\n",
    "### 示例 2：\n",
    "\n",
    "输入：root = [5,2,4,null,1], val = 3\n",
    "\n",
    "输出：[5,2,4,null,1,null,3]\n",
    "\n",
    "解释：a = [2,1,5,4], b = [2,1,5,4,3]\n",
    "\n",
    "### 示例 3：\n",
    "\n",
    "输入：root = [5,2,3,null,1], val = 4\n",
    "\n",
    "输出：[5,2,4,null,1,3]\n",
    "\n",
    "解释：a = [2,1,5,3], b = [2,1,5,3,4]\n",
    "\n",
    "## 三、解题思路\n",
    "\n",
    "### 递归"
   ]
  },
  {
   "cell_type": "code",
   "execution_count": 1,
   "metadata": {},
   "outputs": [],
   "source": [
    "class TreeNode:\n",
    "    def __init__(self, val=0, left=None, right=None):\n",
    "        self.val = val\n",
    "        self.left = left\n",
    "        self.right = right\n",
    "class Solution:\n",
    "    def insertIntoMaxTree(self, root: TreeNode, val: int) -> TreeNode:\n",
    "        if not root:\n",
    "            return TreeNode(val)\n",
    "        if root.val < val:\n",
    "            return TreeNode(val, root)\n",
    "        root.right = self.insertIntoMaxTree(root.right, val)\n",
    "        return root"
   ]
  },
  {
   "cell_type": "code",
   "execution_count": null,
   "metadata": {},
   "outputs": [],
   "source": []
  }
 ],
 "metadata": {
  "kernelspec": {
   "display_name": "Python 3.10.4 64-bit",
   "language": "python",
   "name": "python3"
  },
  "language_info": {
   "codemirror_mode": {
    "name": "ipython",
    "version": 3
   },
   "file_extension": ".py",
   "mimetype": "text/x-python",
   "name": "python",
   "nbconvert_exporter": "python",
   "pygments_lexer": "ipython3",
   "version": "3.10.4"
  },
  "orig_nbformat": 4,
  "vscode": {
   "interpreter": {
    "hash": "4f946df053fbf2b937619d3c5458e7af74262f9a954d8797ba0b27400bcafe06"
   }
  }
 },
 "nbformat": 4,
 "nbformat_minor": 2
}
