{
 "cells": [
  {
   "cell_type": "markdown",
   "metadata": {},
   "source": [
    "# 最长快乐字符串\n",
    "\n",
    "**题目来源：力扣（LeetCode）**\n",
    "\n",
    "**链接：https://leetcode-cn.com/problems/longest-happy-string/**\n",
    "\n",
    "## 一、题目\n",
    "\n",
    "如果字符串中不含有任何 'aaa'，'bbb' 或 'ccc' 这样的字符串作为子串，那么该字符串就是一个「快乐字符串」。\n",
    "\n",
    "给你三个整数 a，b ，c，请你返回 任意一个 满足下列全部条件的字符串 s：\n",
    "\n",
    "- s 是一个尽可能长的快乐字符串。\n",
    "- s 中 最多 有a 个字母 'a'、b 个字母 'b'、c 个字母 'c' 。\n",
    "- s 中只含有 'a'、'b' 、'c' 三种字母。\n",
    "\n",
    "如果不存在这样的字符串 s ，请返回一个空字符串 \"\"。\n",
    "\n",
    "### 提示：\n",
    "\n",
    "- 0 <= a, b, c <= 100\n",
    "- a + b + c > 0\n",
    "\n",
    "## 二、示例\n",
    "\n",
    "### 示例 1：\n",
    "\n",
    "输入：a = 1, b = 1, c = 7\n",
    "\n",
    "输出：\"ccaccbcc\"\n",
    "\n",
    "解释：\"ccbccacc\" 也是一种正确答案。\n",
    "\n",
    "### 示例 2：\n",
    "\n",
    "输入：a = 2, b = 2, c = 1\n",
    "\n",
    "输出：\"aabbc\"\n",
    "\n",
    "### 示例 3：\n",
    "\n",
    "输入：a = 7, b = 1, c = 0\n",
    "\n",
    "输出：\"aabaa\"\n",
    "\n",
    "解释：这是该测试用例的唯一正确答案。\n",
    "\n",
    "## 三、解题思路\n",
    "\n",
    "### 一、贪心"
   ]
  },
  {
   "cell_type": "code",
   "execution_count": 1,
   "metadata": {},
   "outputs": [],
   "source": [
    "def longestDiverseString(a: int, b: int, c: int) -> str:\n",
    "    ret = []\n",
    "    while a > 0 or b > 0 or c > 0:\n",
    "        if len(ret) >= 2 and ret[-1] == ret [-2]:\n",
    "            if ret[-1] == \"a\":\n",
    "                if b >= c and b > 0:\n",
    "                    ret.append(\"b\")\n",
    "                    b -= 1\n",
    "                elif c > 0:\n",
    "                    ret.append(\"c\")\n",
    "                    c -= 1\n",
    "                else:\n",
    "                    break\n",
    "            elif ret[-1] == \"b\":\n",
    "                if a >= c and a > 0:\n",
    "                    ret.append(\"a\")\n",
    "                    a -= 1\n",
    "                elif c > 0:\n",
    "                    ret.append(\"c\")\n",
    "                    c -= 1\n",
    "                else:\n",
    "                    break\n",
    "            else:\n",
    "                if a >= b and a > 0:\n",
    "                    ret.append(\"a\")\n",
    "                    a -= 1\n",
    "                elif b > 0:\n",
    "                    ret.append(\"b\")\n",
    "                    b -= 1\n",
    "                else:\n",
    "                    break\n",
    "        else:\n",
    "            if a >= b and a >= c:\n",
    "                ret.append(\"a\")\n",
    "                a -= 1\n",
    "            elif b >= a and b >= c:\n",
    "                ret.append(\"b\")\n",
    "                b -= 1\n",
    "            elif c >= a and c >= b:\n",
    "                ret.append(\"c\")\n",
    "                c -= 1\n",
    "            else:\n",
    "                break\n",
    "    return \"\".join(ret)"
   ]
  },
  {
   "cell_type": "code",
   "execution_count": 2,
   "metadata": {},
   "outputs": [
    {
     "data": {
      "text/plain": [
       "'ccaccbcc'"
      ]
     },
     "execution_count": 2,
     "metadata": {},
     "output_type": "execute_result"
    }
   ],
   "source": [
    "longestDiverseString(1,1,7)"
   ]
  },
  {
   "cell_type": "code",
   "execution_count": 3,
   "metadata": {},
   "outputs": [
    {
     "data": {
      "text/plain": [
       "'ababc'"
      ]
     },
     "execution_count": 3,
     "metadata": {},
     "output_type": "execute_result"
    }
   ],
   "source": [
    "longestDiverseString(2,2,1)"
   ]
  },
  {
   "cell_type": "code",
   "execution_count": 4,
   "metadata": {},
   "outputs": [
    {
     "data": {
      "text/plain": [
       "'aabaa'"
      ]
     },
     "execution_count": 4,
     "metadata": {},
     "output_type": "execute_result"
    }
   ],
   "source": [
    "longestDiverseString(7,1,0)"
   ]
  },
  {
   "cell_type": "markdown",
   "metadata": {},
   "source": [
    "### 二、贪心优化"
   ]
  },
  {
   "cell_type": "code",
   "execution_count": 5,
   "metadata": {},
   "outputs": [],
   "source": [
    "def longestDiverseString(a: int, b: int, c: int) -> str:\n",
    "    ret = []\n",
    "    cnt = [[a, 'a'], [b, 'b'], [c, 'c']]\n",
    "    while True:\n",
    "        cnt.sort(key=lambda x: -x[0])\n",
    "        hasNext = False\n",
    "        for i, (c, ch) in enumerate(cnt):\n",
    "            if c <= 0:\n",
    "                break\n",
    "            if len(ret) >= 2 and ret[-2] == ch and ret[-1] == ch:\n",
    "                continue\n",
    "            hasNext = True\n",
    "            ret.append(ch)\n",
    "            cnt[i][0] -= 1\n",
    "            break\n",
    "        if not hasNext:\n",
    "            break\n",
    "    return ''.join(ret)"
   ]
  },
  {
   "cell_type": "code",
   "execution_count": 6,
   "metadata": {},
   "outputs": [
    {
     "data": {
      "text/plain": [
       "'ccaccbcc'"
      ]
     },
     "execution_count": 6,
     "metadata": {},
     "output_type": "execute_result"
    }
   ],
   "source": [
    "longestDiverseString(1,1,7)"
   ]
  },
  {
   "cell_type": "code",
   "execution_count": 7,
   "metadata": {},
   "outputs": [
    {
     "data": {
      "text/plain": [
       "'abbac'"
      ]
     },
     "execution_count": 7,
     "metadata": {},
     "output_type": "execute_result"
    }
   ],
   "source": [
    "longestDiverseString(2,2,1)"
   ]
  },
  {
   "cell_type": "code",
   "execution_count": 8,
   "metadata": {},
   "outputs": [
    {
     "data": {
      "text/plain": [
       "'aabaa'"
      ]
     },
     "execution_count": 8,
     "metadata": {},
     "output_type": "execute_result"
    }
   ],
   "source": [
    "longestDiverseString(7,1,0)"
   ]
  },
  {
   "cell_type": "code",
   "execution_count": null,
   "metadata": {},
   "outputs": [],
   "source": []
  }
 ],
 "metadata": {
  "kernelspec": {
   "display_name": "Python 3",
   "language": "python",
   "name": "python3"
  },
  "language_info": {
   "codemirror_mode": {
    "name": "ipython",
    "version": 3
   },
   "file_extension": ".py",
   "mimetype": "text/x-python",
   "name": "python",
   "nbconvert_exporter": "python",
   "pygments_lexer": "ipython3",
   "version": "3.6.5"
  }
 },
 "nbformat": 4,
 "nbformat_minor": 2
}
