{
 "cells": [
  {
   "cell_type": "markdown",
   "metadata": {},
   "source": [
    "# 最小高度树\n",
    "\n",
    "**题目来源：力扣（LeetCode）**\n",
    "\n",
    "**链接：https://leetcode-cn.com/problems/minimum-height-trees/**\n",
    "\n",
    "## 一、题目\n",
    "\n",
    "树是一个无向图，其中任何两个顶点只通过一条路径连接。 换句话说，一个任何没有简单环路的连通图都是一棵树。\n",
    "\n",
    "给你一棵包含 n 个节点的树，标记为 0 到 n - 1 。给定数字 n 和一个有 n - 1 条无向边的 edges 列表（每一个边都是一对标签），其中 edges[i] = [ai, bi] 表示树中节点 ai 和 bi 之间存在一条无向边。\n",
    "\n",
    "可选择树中任何一个节点作为根。当选择节点 x 作为根节点时，设结果树的高度为 h 。在所有可能的树中，具有最小高度的树（即，min(h)）被称为 最小高度树 。\n",
    "\n",
    "请你找到所有的 最小高度树 并按 任意顺序 返回它们的根节点标签列表。\n",
    "\n",
    "树的 高度 是指根节点和叶子节点之间最长向下路径上边的数量。\n",
    "\n",
    "### 提示：\n",
    "\n",
    "- 1 <= n <= 2 * 10^4\n",
    "- edges.length == n - 1\n",
    "- 0 <= ai, bi < n\n",
    "- ai != bi\n",
    "- 所有 (ai, bi) 互不相同\n",
    "- 给定的输入 保证 是一棵树，并且 不会有重复的边\n",
    "\n",
    "## 二、示例\n",
    "\n",
    "### 示例 1：\n",
    "\n",
    "输入：n = 4, edges = [[1,0],[1,2],[1,3]]\n",
    "\n",
    "输出：[1]\n",
    "\n",
    "解释：如图所示，当根是标签为 1 的节点时，树的高度是 1 ，这是唯一的最小高度树。\n",
    "\n",
    "### 示例 2：\n",
    "\n",
    "输入：n = 6, edges = [[3,0],[3,1],[3,2],[3,4],[5,4]]\n",
    "\n",
    "输出：[3,4]\n",
    "\n",
    "## 三、解题思路\n",
    "\n",
    "### DFS(超时)"
   ]
  },
  {
   "cell_type": "code",
   "execution_count": 1,
   "metadata": {},
   "outputs": [],
   "source": [
    "def findMinHeightTrees(n: int, edges):\n",
    "    from functools import lru_cache\n",
    "    dic = {}\n",
    "    for edge in edges:\n",
    "        if edge[0] in dic:\n",
    "            dic[edge[0]].append(edge[1])\n",
    "        else:\n",
    "            dic[edge[0]] = [edge[1]]\n",
    "        if edge[1] in dic:\n",
    "            dic[edge[1]].append(edge[0])\n",
    "        else:\n",
    "            dic[edge[1]] = [edge[0]]\n",
    "    @lru_cache(None)\n",
    "    def getDepth(node, pre):\n",
    "        if node not in dic:\n",
    "            return 1\n",
    "        maxD = 0\n",
    "        for next_node in dic[node]:\n",
    "            if next_node != node and next_node != pre:\n",
    "                maxD = max(maxD, getDepth(next_node, node))\n",
    "        return maxD + 1\n",
    "    minDepth = float('inf')\n",
    "    ret = []\n",
    "    for i in range(n):\n",
    "        depth = getDepth(i, -1)\n",
    "        if depth < minDepth:\n",
    "            minDepth = depth\n",
    "            ret = [i]\n",
    "        elif depth == minDepth:\n",
    "            ret.append(i)\n",
    "    return ret"
   ]
  },
  {
   "cell_type": "code",
   "execution_count": 2,
   "metadata": {},
   "outputs": [
    {
     "data": {
      "text/plain": [
       "[1]"
      ]
     },
     "execution_count": 2,
     "metadata": {},
     "output_type": "execute_result"
    }
   ],
   "source": [
    "findMinHeightTrees(n = 4, edges = [[1,0],[1,2],[1,3]])"
   ]
  },
  {
   "cell_type": "code",
   "execution_count": 3,
   "metadata": {},
   "outputs": [
    {
     "data": {
      "text/plain": [
       "[3, 4]"
      ]
     },
     "execution_count": 3,
     "metadata": {},
     "output_type": "execute_result"
    }
   ],
   "source": [
    "findMinHeightTrees(n = 6, edges = [[3,0],[3,1],[3,2],[3,4],[5,4]])"
   ]
  },
  {
   "cell_type": "code",
   "execution_count": null,
   "metadata": {},
   "outputs": [],
   "source": []
  }
 ],
 "metadata": {
  "kernelspec": {
   "display_name": "Python 3",
   "language": "python",
   "name": "python3"
  },
  "language_info": {
   "codemirror_mode": {
    "name": "ipython",
    "version": 3
   },
   "file_extension": ".py",
   "mimetype": "text/x-python",
   "name": "python",
   "nbconvert_exporter": "python",
   "pygments_lexer": "ipython3",
   "version": "3.6.5"
  }
 },
 "nbformat": 4,
 "nbformat_minor": 2
}
