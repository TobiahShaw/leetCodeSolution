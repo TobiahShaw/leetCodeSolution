{
 "cells": [
  {
   "cell_type": "markdown",
   "metadata": {},
   "source": [
    "# 统计按位或能得到最大值的子集数目\n",
    "\n",
    "**题目来源：力扣（LeetCode）**\n",
    "\n",
    "**链接：https://leetcode-cn.com/problems/count-number-of-maximum-bitwise-or-subsets/**\n",
    "\n",
    "## 一、题目\n",
    "\n",
    "给你一个整数数组 nums ，请你找出 nums 子集 按位或 可能得到的 最大值 ，并返回按位或能得到最大值的 不同非空子集的数目 。\n",
    "\n",
    "如果数组 a 可以由数组 b 删除一些元素（或不删除）得到，则认为数组 a 是数组 b 的一个 子集 。如果选中的元素下标位置不一样，则认为两个子集 不同 。\n",
    "\n",
    "对数组 a 执行 按位或 ，结果等于 a[0] OR a[1] OR ... OR a[a.length - 1]（下标从 0 开始）。\n",
    "\n",
    "### 提示：\n",
    "\n",
    "- 1 <= nums.length <= 16\n",
    "- 1 <= nums[i] <= 10^5\n",
    "\n",
    "## 二、示例\n",
    "\n",
    "### 示例 1：\n",
    "\n",
    "输入：nums = [3,1]\n",
    "\n",
    "输出：2\n",
    "\n",
    "解释：子集按位或能得到的最大值是 3 。有 2 个子集按位或可以得到 3 ：\n",
    "\n",
    "- [3]\n",
    "- [3,1]\n",
    "\n",
    "### 示例 2：\n",
    "\n",
    "输入：nums = [2,2,2]\n",
    "\n",
    "输出：7\n",
    "\n",
    "解释：[2,2,2] 的所有非空子集的按位或都可以得到 2 。总共有 23 - 1 = 7 个子集。\n",
    "\n",
    "### 示例 3：\n",
    "\n",
    "输入：nums = [3,2,1,5]\n",
    "\n",
    "输出：6\n",
    "\n",
    "解释：子集按位或可能的最大值是 7 。有 6 个子集按位或可以得到 7 ：\n",
    "\n",
    "- [3,5]\n",
    "- [3,1,5]\n",
    "- [3,2,5]\n",
    "- [3,2,1,5]\n",
    "- [2,5]\n",
    "- [2,1,5]\n",
    "\n",
    "## 三、解题思路\n",
    "\n",
    "### 回溯法"
   ]
  },
  {
   "cell_type": "code",
   "execution_count": 1,
   "metadata": {},
   "outputs": [],
   "source": [
    "def countMaxOrSubsets(nums) -> int:\n",
    "    maxVal, ret = 0, 0\n",
    "    n = len(nums)\n",
    "    def backtrace(pos, val):\n",
    "        if pos == n:\n",
    "            nonlocal maxVal, ret\n",
    "            if val > maxVal:\n",
    "                maxVal, ret = val, 1\n",
    "            elif val == maxVal:\n",
    "                ret += 1\n",
    "            return\n",
    "        backtrace(pos + 1, val | nums[pos])\n",
    "        backtrace(pos + 1, val)\n",
    "    backtrace(0, 0)\n",
    "    return ret"
   ]
  },
  {
   "cell_type": "code",
   "execution_count": 2,
   "metadata": {},
   "outputs": [
    {
     "data": {
      "text/plain": [
       "2"
      ]
     },
     "execution_count": 2,
     "metadata": {},
     "output_type": "execute_result"
    }
   ],
   "source": [
    "countMaxOrSubsets([3,1])"
   ]
  },
  {
   "cell_type": "code",
   "execution_count": 3,
   "metadata": {},
   "outputs": [
    {
     "data": {
      "text/plain": [
       "7"
      ]
     },
     "execution_count": 3,
     "metadata": {},
     "output_type": "execute_result"
    }
   ],
   "source": [
    "countMaxOrSubsets([2,2,2])"
   ]
  },
  {
   "cell_type": "code",
   "execution_count": 4,
   "metadata": {},
   "outputs": [
    {
     "data": {
      "text/plain": [
       "6"
      ]
     },
     "execution_count": 4,
     "metadata": {},
     "output_type": "execute_result"
    }
   ],
   "source": [
    "countMaxOrSubsets([3,2,1,5])"
   ]
  },
  {
   "cell_type": "code",
   "execution_count": null,
   "metadata": {},
   "outputs": [],
   "source": []
  }
 ],
 "metadata": {
  "kernelspec": {
   "display_name": "Python 3",
   "language": "python",
   "name": "python3"
  },
  "language_info": {
   "codemirror_mode": {
    "name": "ipython",
    "version": 3
   },
   "file_extension": ".py",
   "mimetype": "text/x-python",
   "name": "python",
   "nbconvert_exporter": "python",
   "pygments_lexer": "ipython3",
   "version": "3.6.5"
  }
 },
 "nbformat": 4,
 "nbformat_minor": 2
}
