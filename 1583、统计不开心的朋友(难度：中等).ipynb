{
 "cells": [
  {
   "cell_type": "markdown",
   "metadata": {},
   "source": [
    "# 统计不开心的朋友\n",
    "\n",
    "**题目来源：力扣（LeetCode）**\n",
    "\n",
    "**链接：https://leetcode-cn.com/problems/count-unhappy-friends/**\n",
    "\n",
    "## 一、题目\n",
    "\n",
    "给你一份 n 位朋友的亲近程度列表，其中 n 总是 偶数 。\n",
    "\n",
    "对每位朋友 i，preferences[i] 包含一份 按亲近程度从高到低排列 的朋友列表。换句话说，排在列表前面的朋友与 i 的亲近程度比排在列表后面的朋友更高。每个列表中的朋友均以 0 到 n-1 之间的整数表示。\n",
    "\n",
    "所有的朋友被分成几对，配对情况以列表 pairs 给出，其中 pairs[i] = [xi, yi] 表示 xi 与 yi 配对，且 yi 与 xi 配对。\n",
    "\n",
    "但是，这样的配对情况可能会是其中部分朋友感到不开心。在 x 与 y 配对且 u 与 v 配对的情况下，如果同时满足下述两个条件，x 就会不开心：\n",
    "\n",
    "- x 与 u 的亲近程度胜过 x 与 y，且\n",
    "- u 与 x 的亲近程度胜过 u 与 v\n",
    "\n",
    "返回 不开心的朋友的数目 。\n",
    "\n",
    "## 二、示例\n",
    "\n",
    "### 示例 1：\n",
    "\n",
    "输入：n = 4, preferences = [[1, 2, 3], [3, 2, 0], [3, 1, 0], [1, 2, 0]], pairs = [[0, 1], [2, 3]]\n",
    "\n",
    "输出：2\n",
    "\n",
    "解释：\n",
    "\n",
    "朋友 1 不开心，因为：\n",
    "\n",
    "- 1 与 0 配对，但 1 与 3 的亲近程度比 1 与 0 高，且\n",
    "- 3 与 1 的亲近程度比 3 与 2 高。\n",
    "\n",
    "朋友 3 不开心，因为：\n",
    "\n",
    "- 3 与 2 配对，但 3 与 1 的亲近程度比 3 与 2 高，且\n",
    "- 1 与 3 的亲近程度比 1 与 0 高。\n",
    "\n",
    "朋友 0 和 2 都是开心的。\n",
    "\n",
    "### 示例 2：\n",
    "\n",
    "输入：n = 2, preferences = [[1], [0]], pairs = [[1, 0]]\n",
    "\n",
    "输出：0\n",
    "\n",
    "解释：朋友 0 和 1 都开心。\n",
    "\n",
    "### 示例 3：\n",
    "\n",
    "输入：n = 4, preferences = [[1, 3, 2], [2, 3, 0], [1, 3, 0], [0, 2, 1]], pairs = [[1, 3], [0, 2]]\n",
    "\n",
    "输出：4\n",
    "\n",
    "## 三、解题思路\n",
    "\n",
    "### 模拟过程（利用哈希表和图）"
   ]
  },
  {
   "cell_type": "code",
   "execution_count": 1,
   "metadata": {},
   "outputs": [],
   "source": [
    "def unhappyFriends(n: int, preferences, pairs) -> int:\n",
    "    def isXHappy(x, y, graph, pairMap):\n",
    "        relOfX = preferences[x]\n",
    "        for u in relOfX:\n",
    "            if u == y:\n",
    "                break\n",
    "            v = pairMap[u]\n",
    "            relUX = graph[u][x]\n",
    "            relUV = graph[u][v]\n",
    "            if relUX < relUV:\n",
    "                return 1\n",
    "        return 0\n",
    "    graph = [[0] * n for _ in range(n)]\n",
    "    for i in range(n):\n",
    "        for j in range(n-1):\n",
    "            graph[i][preferences[i][j]] = j\n",
    "    pairMap = {}\n",
    "    for pair in pairs:\n",
    "        pairMap[pair[0]] = pair[1]\n",
    "        pairMap[pair[1]] = pair[0]\n",
    "    ret = 0\n",
    "    for pair in pairs:\n",
    "        ret += isXHappy(pair[0], pair[1], graph, pairMap)\n",
    "        ret += isXHappy(pair[1], pair[0], graph, pairMap)\n",
    "    return ret"
   ]
  },
  {
   "cell_type": "code",
   "execution_count": 2,
   "metadata": {},
   "outputs": [
    {
     "data": {
      "text/plain": [
       "2"
      ]
     },
     "execution_count": 2,
     "metadata": {},
     "output_type": "execute_result"
    }
   ],
   "source": [
    "unhappyFriends(n = 4, preferences = [[1, 2, 3], [3, 2, 0], [3, 1, 0], [1, 2, 0]], pairs = [[0, 1], [2, 3]])"
   ]
  },
  {
   "cell_type": "code",
   "execution_count": 3,
   "metadata": {},
   "outputs": [
    {
     "data": {
      "text/plain": [
       "0"
      ]
     },
     "execution_count": 3,
     "metadata": {},
     "output_type": "execute_result"
    }
   ],
   "source": [
    "unhappyFriends(n = 2, preferences = [[1], [0]], pairs = [[1, 0]])"
   ]
  },
  {
   "cell_type": "code",
   "execution_count": 4,
   "metadata": {},
   "outputs": [
    {
     "data": {
      "text/plain": [
       "4"
      ]
     },
     "execution_count": 4,
     "metadata": {},
     "output_type": "execute_result"
    }
   ],
   "source": [
    "unhappyFriends(n = 4, preferences = [[1, 3, 2], [2, 3, 0], [1, 3, 0], [0, 2, 1]], pairs = [[1, 3], [0, 2]])"
   ]
  },
  {
   "cell_type": "code",
   "execution_count": null,
   "metadata": {},
   "outputs": [],
   "source": []
  }
 ],
 "metadata": {
  "kernelspec": {
   "display_name": "Python 3",
   "language": "python",
   "name": "python3"
  },
  "language_info": {
   "codemirror_mode": {
    "name": "ipython",
    "version": 3
   },
   "file_extension": ".py",
   "mimetype": "text/x-python",
   "name": "python",
   "nbconvert_exporter": "python",
   "pygments_lexer": "ipython3",
   "version": "3.6.5"
  }
 },
 "nbformat": 4,
 "nbformat_minor": 2
}
