{
  "cells": [
    {
      "metadata": {
        "collapsed": true
      },
      "cell_type": "markdown",
      "source": "# 搜索插入位置\n\n**题目来源：力扣（LeetCode）**\n\n**链接：https://leetcode-cn.com/problems/search-insert-position/**\n\n## 一、题目\n\n给定一个排序数组和一个目标值，在数组中找到目标值，并返回其索引。如果目标值不存在于数组中，返回它将会被按顺序插入的位置。\n\n你可以假设数组中无重复元素。\n\n## 二、示例\n\n### 示例 1:\n\n输入: [1,3,5,6], 5\n\n输出: 2\n\n### 示例 2:\n\n输入: [1,3,5,6], 2\n\n输出: 1\n\n### 示例 3:\n\n输入: [1,3,5,6], 7\n\n输出: 4\n\n### 示例 4:\n\n输入: [1,3,5,6], 0\n\n输出: 0\n\n## 三、解题思路\n\n### 线性搜索"
    },
    {
      "metadata": {
        "trusted": true
      },
      "cell_type": "code",
      "source": "def searchInsert(nums, target):\n    for i in range(len(nums)):\n        if nums[i] >= target:\n            return i\n    return len(nums)",
      "execution_count": 1,
      "outputs": []
    },
    {
      "metadata": {
        "trusted": true
      },
      "cell_type": "code",
      "source": "searchInsert([1,3,5,6], 5)",
      "execution_count": 2,
      "outputs": [
        {
          "output_type": "execute_result",
          "execution_count": 2,
          "data": {
            "text/plain": "2"
          },
          "metadata": {}
        }
      ]
    },
    {
      "metadata": {
        "trusted": true
      },
      "cell_type": "code",
      "source": "searchInsert([1,3,5,6], 2)",
      "execution_count": 3,
      "outputs": [
        {
          "output_type": "execute_result",
          "execution_count": 3,
          "data": {
            "text/plain": "1"
          },
          "metadata": {}
        }
      ]
    },
    {
      "metadata": {
        "trusted": true
      },
      "cell_type": "code",
      "source": "searchInsert([1,3,5,6], 7)",
      "execution_count": 4,
      "outputs": [
        {
          "output_type": "execute_result",
          "execution_count": 4,
          "data": {
            "text/plain": "4"
          },
          "metadata": {}
        }
      ]
    },
    {
      "metadata": {
        "trusted": true
      },
      "cell_type": "code",
      "source": "searchInsert([1,3,5,6], 0)",
      "execution_count": 5,
      "outputs": [
        {
          "output_type": "execute_result",
          "execution_count": 5,
          "data": {
            "text/plain": "0"
          },
          "metadata": {}
        }
      ]
    },
    {
      "metadata": {},
      "cell_type": "markdown",
      "source": "### 二分查找\n\n1. 当target在nums中出现时，二分查找流程无变化\n2. 当target在nums中未出现：\n    1. nums[mid-1] < target < nums[mid]\n    2. nums[mid] < target < nums[mid+1]\n    3. mid == 0 or mid == len(nums) - 1 的边界条件处理\n    \n在二分查找的过程中：\n\n1. target == nums[mid] : index = mid\n2. target < nums[mid] and (mid == 0 or target > nums[mid_1]) : index = mid\n3. target > nums[mid] and (mid = len(nums) - 1 or target < nums[mid+1]) : index = mid + 1"
    },
    {
      "metadata": {
        "trusted": true
      },
      "cell_type": "code",
      "source": "def searchInsert(nums, target):\n    left = 0\n    right = len(nums) - 1\n    while left <= right:\n        mid = (right + left) // 2\n        if target < nums[mid]:\n            right = mid - 1\n        elif target > nums[mid]:\n            left = mid + 1\n        else:\n            return mid\n    return left",
      "execution_count": 6,
      "outputs": []
    },
    {
      "metadata": {
        "trusted": true
      },
      "cell_type": "code",
      "source": "searchInsert([1,3,5,6], 5)",
      "execution_count": 7,
      "outputs": [
        {
          "output_type": "execute_result",
          "execution_count": 7,
          "data": {
            "text/plain": "2"
          },
          "metadata": {}
        }
      ]
    },
    {
      "metadata": {
        "trusted": true
      },
      "cell_type": "code",
      "source": "searchInsert([1,3,5,6], 2)",
      "execution_count": 8,
      "outputs": [
        {
          "output_type": "execute_result",
          "execution_count": 8,
          "data": {
            "text/plain": "1"
          },
          "metadata": {}
        }
      ]
    },
    {
      "metadata": {
        "trusted": true
      },
      "cell_type": "code",
      "source": "searchInsert([1,3,5,6], 7)",
      "execution_count": 9,
      "outputs": [
        {
          "output_type": "execute_result",
          "execution_count": 9,
          "data": {
            "text/plain": "4"
          },
          "metadata": {}
        }
      ]
    },
    {
      "metadata": {
        "trusted": true
      },
      "cell_type": "code",
      "source": "searchInsert([1,3,5,6], 0)",
      "execution_count": 10,
      "outputs": [
        {
          "output_type": "execute_result",
          "execution_count": 10,
          "data": {
            "text/plain": "0"
          },
          "metadata": {}
        }
      ]
    },
    {
      "metadata": {
        "trusted": true
      },
      "cell_type": "code",
      "source": "",
      "execution_count": null,
      "outputs": []
    }
  ],
  "metadata": {
    "kernelspec": {
      "name": "python36",
      "display_name": "Python 3.6",
      "language": "python"
    },
    "language_info": {
      "mimetype": "text/x-python",
      "nbconvert_exporter": "python",
      "name": "python",
      "pygments_lexer": "ipython3",
      "version": "3.6.6",
      "file_extension": ".py",
      "codemirror_mode": {
        "version": 3,
        "name": "ipython"
      }
    }
  },
  "nbformat": 4,
  "nbformat_minor": 2
}