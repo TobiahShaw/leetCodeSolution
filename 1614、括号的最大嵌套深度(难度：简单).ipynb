{
 "cells": [
  {
   "cell_type": "markdown",
   "metadata": {},
   "source": [
    "# 括号的最大嵌套深度\n",
    "\n",
    "**题目来源：力扣（LeetCode）**\n",
    "\n",
    "**链接：https://leetcode-cn.com/problems/maximum-nesting-depth-of-the-parentheses/**\n",
    "\n",
    "## 一、题目\n",
    "\n",
    "如果字符串满足以下条件之一，则可以称之为 有效括号字符串（valid parentheses string，可以简写为 VPS）：\n",
    "\n",
    "- 字符串是一个空字符串 \"\"，或者是一个不为 \"(\" 或 \")\" 的单字符。\n",
    "- 字符串可以写为 AB（A 与 B 字符串连接），其中 A 和 B 都是 有效括号字符串 。\n",
    "- 字符串可以写为 (A)，其中 A 是一个 有效括号字符串 。\n",
    "\n",
    "类似地，可以定义任何有效括号字符串 S 的 嵌套深度 depth(S)：\n",
    "\n",
    "- depth(\"\") = 0\n",
    "- depth(C) = 0，其中 C 是单个字符的字符串，且该字符不是 \"(\" 或者 \")\"\n",
    "- depth(A + B) = max(depth(A), depth(B))，其中 A 和 B 都是 有效括号字符串\n",
    "- depth(\"(\" + A + \")\") = 1 + depth(A)，其中 A 是一个 有效括号字符串\n",
    "\n",
    "例如：\"\"、\"()()\"、\"()(()())\" 都是 有效括号字符串（嵌套深度分别为 0、1、2），而 \")(\" 、\"(()\" 都不是 有效括号字符串 。\n",
    "\n",
    "给你一个 有效括号字符串 s，返回该字符串的 s 嵌套深度 。\n",
    "\n",
    "### 提示：\n",
    "\n",
    "- 1 <= s.length <= 100\n",
    "- s 由数字 0-9 和字符 '+'、'-'、'* '、'/'、'('、')' 组成\n",
    "- 题目数据保证括号表达式 s 是 有效的括号表达式\n",
    "\n",
    "## 二、示例\n",
    "\n",
    "### 示例 1：\n",
    "\n",
    "输入：s = \"(1+(2* 3)+((8)/4))+1\"\n",
    "\n",
    "输出：3\n",
    "\n",
    "解释：数字 8 在嵌套的 3 层括号中。\n",
    "\n",
    "### 示例 2：\n",
    "\n",
    "输入：s = \"(1)+((2))+(((3)))\"\n",
    "\n",
    "输出：3\n",
    "\n",
    "### 示例 3：\n",
    "\n",
    "输入：s = \"1+(2* 3)/(2-1)\"\n",
    "\n",
    "输出：1\n",
    "\n",
    "### 示例 4：\n",
    "\n",
    "输入：s = \"1\"\n",
    "\n",
    "输出：0\n",
    "\n",
    "## 三、解题思路\n",
    "\n",
    "### 循环计数"
   ]
  },
  {
   "cell_type": "code",
   "execution_count": 1,
   "metadata": {},
   "outputs": [],
   "source": [
    "def maxDepth(s: str) -> int:\n",
    "    deep = 0\n",
    "    ret = 0\n",
    "    for ch in s:\n",
    "        if ch == '(':\n",
    "            deep += 1\n",
    "            if deep > ret:\n",
    "                ret = deep\n",
    "        elif ch == ')':\n",
    "            deep -= 1\n",
    "    return ret"
   ]
  },
  {
   "cell_type": "code",
   "execution_count": 2,
   "metadata": {},
   "outputs": [
    {
     "data": {
      "text/plain": [
       "3"
      ]
     },
     "execution_count": 2,
     "metadata": {},
     "output_type": "execute_result"
    }
   ],
   "source": [
    "maxDepth(\"(1+(2* 3)+((8)/4))+1\")"
   ]
  },
  {
   "cell_type": "code",
   "execution_count": 3,
   "metadata": {},
   "outputs": [
    {
     "data": {
      "text/plain": [
       "3"
      ]
     },
     "execution_count": 3,
     "metadata": {},
     "output_type": "execute_result"
    }
   ],
   "source": [
    "maxDepth(\"(1)+((2))+(((3)))\")"
   ]
  },
  {
   "cell_type": "code",
   "execution_count": 4,
   "metadata": {},
   "outputs": [
    {
     "data": {
      "text/plain": [
       "1"
      ]
     },
     "execution_count": 4,
     "metadata": {},
     "output_type": "execute_result"
    }
   ],
   "source": [
    "maxDepth(\"1+(2* 3)/(2-1)\")"
   ]
  },
  {
   "cell_type": "code",
   "execution_count": 5,
   "metadata": {},
   "outputs": [
    {
     "data": {
      "text/plain": [
       "0"
      ]
     },
     "execution_count": 5,
     "metadata": {},
     "output_type": "execute_result"
    }
   ],
   "source": [
    "maxDepth(\"1\")"
   ]
  },
  {
   "cell_type": "code",
   "execution_count": null,
   "metadata": {},
   "outputs": [],
   "source": []
  }
 ],
 "metadata": {
  "kernelspec": {
   "display_name": "Python 3",
   "language": "python",
   "name": "python3"
  },
  "language_info": {
   "codemirror_mode": {
    "name": "ipython",
    "version": 3
   },
   "file_extension": ".py",
   "mimetype": "text/x-python",
   "name": "python",
   "nbconvert_exporter": "python",
   "pygments_lexer": "ipython3",
   "version": "3.6.5"
  }
 },
 "nbformat": 4,
 "nbformat_minor": 2
}
