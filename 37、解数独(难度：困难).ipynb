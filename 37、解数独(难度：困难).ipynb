{
 "cells": [
  {
   "attachments": {
    "250px-Sudoku-by-L2G-20050714_solution.svg.webp": {
     "image/webp": "[encoded data removed]"
    }
   },
   "cell_type": "markdown",
   "metadata": {},
   "source": [
    "# 解数独\n",
    "\n",
    "**题目来源：力扣（LeetCode）**\n",
    "\n",
    "**链接：https://leetcode-cn.com/problems/sudoku-solver/**\n",
    "\n",
    "## 一、题目\n",
    "\n",
    "编写一个程序，通过已填充的空格来解决数独问题。\n",
    "\n",
    "一个数独的解法需遵循如下规则：\n",
    "\n",
    "数字 1-9 在每一行只能出现一次。\n",
    "数字 1-9 在每一列只能出现一次。\n",
    "数字 1-9 在每一个以粗实线分隔的 3x3 宫内只能出现一次。\n",
    "空白格用 '.' 表示。\n",
    "\n",
    "## 二、示例\n",
    "\n",
    "![250px-Sudoku-by-L2G-20050714_solution.svg.webp](attachment:250px-Sudoku-by-L2G-20050714_solution.svg.webp)\n",
    "\n",
    "## 三、解题思路\n",
    "\n",
    "### 递归回溯"
   ]
  },
  {
   "cell_type": "code",
   "execution_count": 1,
   "metadata": {},
   "outputs": [],
   "source": [
    "def solveSudoku(board) -> None:\n",
    "    \"\"\"\n",
    "    Do not return anything, modify board in-place instead.\n",
    "    \"\"\"\n",
    "    def dfs(pos: int):\n",
    "        nonlocal valid\n",
    "        if pos == len(spaces):\n",
    "            valid = True\n",
    "            return\n",
    "        \n",
    "        i, j = spaces[pos]\n",
    "        for digit in range(9):\n",
    "            if line[i][digit] == column[j][digit] == block[i // 3][j // 3][digit] == False:\n",
    "                line[i][digit] = column[j][digit] = block[i // 3][j // 3][digit] = True\n",
    "                board[i][j] = str(digit + 1)\n",
    "                dfs(pos + 1)\n",
    "                line[i][digit] = column[j][digit] = block[i // 3][j // 3][digit] = False\n",
    "            if valid:\n",
    "                return\n",
    "        \n",
    "    line = [[False] * 9 for _ in range(9)]\n",
    "    column = [[False] * 9 for _ in range(9)]\n",
    "    block = [[[False] * 9 for _a in range(3)] for _b in range(3)]\n",
    "    valid = False\n",
    "    spaces = list()\n",
    "\n",
    "    for i in range(9):\n",
    "        for j in range(9):\n",
    "            if board[i][j] == \".\":\n",
    "                spaces.append((i, j))\n",
    "            else:\n",
    "                digit = int(board[i][j]) - 1\n",
    "                line[i][digit] = column[j][digit] = block[i // 3][j // 3][digit] = True\n",
    "\n",
    "    dfs(0)"
   ]
  },
  {
   "cell_type": "code",
   "execution_count": 2,
   "metadata": {},
   "outputs": [],
   "source": [
    "board = [[\"5\",\"3\",\".\",\".\",\"7\",\".\",\".\",\".\",\".\"],[\"6\",\".\",\".\",\"1\",\"9\",\"5\",\".\",\".\",\".\"],[\".\",\"9\",\"8\",\".\",\".\",\".\",\".\",\"6\",\".\"],[\"8\",\".\",\".\",\".\",\"6\",\".\",\".\",\".\",\"3\"],[\"4\",\".\",\".\",\"8\",\".\",\"3\",\".\",\".\",\"1\"],[\"7\",\".\",\".\",\".\",\"2\",\".\",\".\",\".\",\"6\"],[\".\",\"6\",\".\",\".\",\".\",\".\",\"2\",\"8\",\".\"],[\".\",\".\",\".\",\"4\",\"1\",\"9\",\".\",\".\",\"5\"],[\".\",\".\",\".\",\".\",\"8\",\".\",\".\",\"7\",\"9\"]]"
   ]
  },
  {
   "cell_type": "code",
   "execution_count": 3,
   "metadata": {},
   "outputs": [],
   "source": [
    "solveSudoku(board)"
   ]
  },
  {
   "cell_type": "code",
   "execution_count": 4,
   "metadata": {},
   "outputs": [
    {
     "data": {
      "text/plain": [
       "[['5', '3', '4', '6', '7', '8', '9', '1', '2'],\n",
       " ['6', '7', '2', '1', '9', '5', '3', '4', '8'],\n",
       " ['1', '9', '8', '3', '4', '2', '5', '6', '7'],\n",
       " ['8', '5', '9', '7', '6', '1', '4', '2', '3'],\n",
       " ['4', '2', '6', '8', '5', '3', '7', '9', '1'],\n",
       " ['7', '1', '3', '9', '2', '4', '8', '5', '6'],\n",
       " ['9', '6', '1', '5', '3', '7', '2', '8', '4'],\n",
       " ['2', '8', '7', '4', '1', '9', '6', '3', '5'],\n",
       " ['3', '4', '5', '2', '8', '6', '1', '7', '9']]"
      ]
     },
     "execution_count": 4,
     "metadata": {},
     "output_type": "execute_result"
    }
   ],
   "source": [
    "board"
   ]
  },
  {
   "cell_type": "code",
   "execution_count": null,
   "metadata": {},
   "outputs": [],
   "source": []
  }
 ],
 "metadata": {
  "kernelspec": {
   "display_name": "Python 3",
   "language": "python",
   "name": "python3"
  },
  "language_info": {
   "codemirror_mode": {
    "name": "ipython",
    "version": 3
   },
   "file_extension": ".py",
   "mimetype": "text/x-python",
   "name": "python",
   "nbconvert_exporter": "python",
   "pygments_lexer": "ipython3",
   "version": "3.6.5"
  }
 },
 "nbformat": 4,
 "nbformat_minor": 2
}
