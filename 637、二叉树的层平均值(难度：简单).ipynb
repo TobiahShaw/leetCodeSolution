{
  "cells": [
    {
      "metadata": {
        "collapsed": true
      },
      "cell_type": "markdown",
      "source": "# 二叉树的层平均值\n\n**题目来源：力扣（LeetCode）**\n\n**链接：https://leetcode-cn.com/problems/average-of-levels-in-binary-tree/**\n\n## 一、题目\n\n给定一个非空二叉树, 返回一个由每层节点平均值组成的数组.\n\n## 二、示例\n\n输入:\n\n```\n    3\n   / \\\n  9  20\n    /  \\\n   15   7\n```\n\n输出: [3, 14.5, 11]\n\n解释:\n\n第0层的平均值是 3,  第1层是 14.5, 第2层是 11. 因此返回 [3, 14.5, 11].\n\n## 三、解题思路\n\n### 层序遍历"
    },
    {
      "metadata": {
        "trusted": true
      },
      "cell_type": "code",
      "source": "class TreeNode:\n    def __init__(self, x):\n        self.val = x\n        self.left = None\n        self.right = None\n\nroot = TreeNode(3)\n\nroot.left = TreeNode(9)\nroot.right = TreeNode(20)\n\nroot.right.left = TreeNode(15)\nroot.right.right = TreeNode(7)",
      "execution_count": 1,
      "outputs": []
    },
    {
      "metadata": {
        "trusted": true
      },
      "cell_type": "code",
      "source": "def averageOfLevels(root):\n    if not root:\n        return []\n    layer, output = [root], []\n    while layer:\n        next_layer = []\n        layer_value = []\n        for node in layer:\n            layer_value.append(node.val)\n            if node.left:\n                next_layer.append(node.left)\n            if node.right:\n                next_layer.append(node.right)\n        layer = next_layer\n        output.append(sum(layer_value) / len(layer_value))\n    return output",
      "execution_count": 2,
      "outputs": []
    },
    {
      "metadata": {
        "trusted": true
      },
      "cell_type": "code",
      "source": "averageOfLevels(root)",
      "execution_count": 3,
      "outputs": [
        {
          "output_type": "execute_result",
          "execution_count": 3,
          "data": {
            "text/plain": "[3.0, 14.5, 11.0]"
          },
          "metadata": {}
        }
      ]
    },
    {
      "metadata": {
        "trusted": true
      },
      "cell_type": "code",
      "source": "",
      "execution_count": null,
      "outputs": []
    }
  ],
  "metadata": {
    "kernelspec": {
      "name": "python36",
      "display_name": "Python 3.6",
      "language": "python"
    },
    "language_info": {
      "mimetype": "text/x-python",
      "nbconvert_exporter": "python",
      "name": "python",
      "pygments_lexer": "ipython3",
      "version": "3.6.6",
      "file_extension": ".py",
      "codemirror_mode": {
        "version": 3,
        "name": "ipython"
      }
    }
  },
  "nbformat": 4,
  "nbformat_minor": 2
}