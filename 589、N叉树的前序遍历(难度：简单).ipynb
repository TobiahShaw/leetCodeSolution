{
 "cells": [
  {
   "cell_type": "markdown",
   "metadata": {
    "collapsed": true
   },
   "source": [
    "# N叉树的前序遍历\n",
    "\n",
    "**题目来源：力扣（LeetCode）**\n",
    "\n",
    "**链接：https://leetcode-cn.com/problems/n-ary-tree-preorder-traversal/**\n",
    "\n",
    "## 一、题目\n",
    "\n",
    "给定一个 N 叉树，返回其节点值的前序遍历。\n",
    "\n",
    "## 二、示例\n",
    "\n",
    "例如，给定一个 3叉树 :\n",
    "\n",
    "&emsp;&emsp;&emsp;&emsp;1\n",
    "\n",
    "&emsp;&emsp;&emsp;/&emsp;|&emsp;\\\n",
    "\n",
    "&emsp;&emsp;3&emsp;&emsp;2&emsp;&emsp;4\n",
    "\n",
    "&emsp;/&emsp;&emsp;\\\n",
    "\n",
    "5&emsp;&emsp;&emsp;&emsp;6\n",
    "\n",
    "返回其前序遍历: [1,3,5,6,2,4]。\n",
    "\n",
    "## 三、解题思路"
   ]
  },
  {
   "cell_type": "code",
   "execution_count": 1,
   "metadata": {},
   "outputs": [],
   "source": [
    "class Node:\n",
    "    def __init__(self, val=None, children=None):\n",
    "        self.val = val\n",
    "        self.children = children"
   ]
  },
  {
   "cell_type": "code",
   "execution_count": 2,
   "metadata": {},
   "outputs": [],
   "source": [
    "root = Node(val=1)\n",
    "node_1 = Node(val=3)\n",
    "node_2 = Node(val=2, children=[])\n",
    "node_3 = Node(val=4, children=[])\n",
    "node_1_1 = Node(val=5, children=[])\n",
    "node_1_2 = Node(val=6, children=[])\n",
    "\n",
    "root.children = [node_1,node_2,node_3]\n",
    "node_1.children = [node_1_1, node_1_2]"
   ]
  },
  {
   "cell_type": "markdown",
   "metadata": {},
   "source": [
    "### 一、递归求解"
   ]
  },
  {
   "cell_type": "code",
   "execution_count": 3,
   "metadata": {},
   "outputs": [],
   "source": [
    "def preorder(root):\n",
    "    res = []\n",
    "    if root is None:\n",
    "        return []\n",
    "    res.append(root.val)\n",
    "    for node in root.children:\n",
    "        tmp = preorder(node)\n",
    "        res.extend(tmp)\n",
    "    return res"
   ]
  },
  {
   "cell_type": "code",
   "execution_count": 4,
   "metadata": {},
   "outputs": [
    {
     "data": {
      "text/plain": [
       "[1, 3, 5, 6, 2, 4]"
      ]
     },
     "execution_count": 4,
     "metadata": {},
     "output_type": "execute_result"
    }
   ],
   "source": [
    "preorder(root)"
   ]
  },
  {
   "cell_type": "markdown",
   "metadata": {},
   "source": [
    "### 二、迭代求解"
   ]
  },
  {
   "cell_type": "code",
   "execution_count": 5,
   "metadata": {},
   "outputs": [],
   "source": [
    "def preorder(root):\n",
    "    if root is None:\n",
    "        return []\n",
    "    stack, output = [root, ], []\n",
    "    while stack:\n",
    "        root = stack.pop()\n",
    "        output.append(root.val)\n",
    "        stack.extend(root.children[::-1])\n",
    "    return output"
   ]
  },
  {
   "cell_type": "code",
   "execution_count": 6,
   "metadata": {},
   "outputs": [
    {
     "data": {
      "text/plain": [
       "[1, 3, 5, 6, 2, 4]"
      ]
     },
     "execution_count": 6,
     "metadata": {},
     "output_type": "execute_result"
    }
   ],
   "source": [
    "preorder(root)"
   ]
  },
  {
   "cell_type": "code",
   "execution_count": null,
   "metadata": {},
   "outputs": [],
   "source": []
  }
 ],
 "metadata": {
  "kernelspec": {
   "display_name": "Python 3",
   "language": "python",
   "name": "python3"
  },
  "language_info": {
   "codemirror_mode": {
    "name": "ipython",
    "version": 3
   },
   "file_extension": ".py",
   "mimetype": "text/x-python",
   "name": "python",
   "nbconvert_exporter": "python",
   "pygments_lexer": "ipython3",
   "version": "3.6.5"
  }
 },
 "nbformat": 4,
 "nbformat_minor": 2
}
