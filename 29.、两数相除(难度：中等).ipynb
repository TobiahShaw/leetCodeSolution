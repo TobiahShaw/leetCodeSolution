{
 "cells": [
  {
   "cell_type": "markdown",
   "metadata": {},
   "source": [
    "# 两数相除\n",
    "\n",
    "**题目来源：力扣（LeetCode）**\n",
    "\n",
    "**链接：https://leetcode-cn.com/problems/divide-two-integers/**\n",
    "\n",
    "## 一、题目\n",
    "\n",
    "给定两个整数，被除数 dividend 和除数 divisor。将两数相除，要求不使用乘法、除法和 mod 运算符。\n",
    "\n",
    "返回被除数 dividend 除以除数 divisor 得到的商。\n",
    "\n",
    "整数除法的结果应当截去（truncate）其小数部分，例如：truncate(8.345) = 8 以及 truncate(-2.7335) = -2\n",
    "\n",
    "## 二、示例\n",
    "\n",
    "### 示例 1：\n",
    "\n",
    "输入: dividend = 10, divisor = 3\n",
    "\n",
    "输出: 3\n",
    "\n",
    "解释: 10/3 = truncate(3.33333..) = truncate(3) = 3\n",
    "\n",
    "### 示例 2:\n",
    "\n",
    "输入: dividend = 7, divisor = -3\n",
    "\n",
    "输出: -2\n",
    "\n",
    "解释: 7/-3 = truncate(-2.33333..) = -2\n",
    "\n",
    "## 三、解题思路\n",
    "\n",
    "### 循环相减"
   ]
  },
  {
   "cell_type": "code",
   "execution_count": 1,
   "metadata": {},
   "outputs": [],
   "source": [
    "def divide(dividend: int, divisor: int) -> int:\n",
    "    if dividend == 0:\n",
    "        return 0\n",
    "    if divisor == 0:\n",
    "        return float(\"inf\")\n",
    "    minus = (dividend > 0 and divisor < 0) or (dividend < 0 and divisor > 0)\n",
    "    dividend = abs(dividend)\n",
    "    divisor = abs(divisor)\n",
    "    res = 0\n",
    "    while dividend >= divisor:\n",
    "        dividend -= divisor\n",
    "        res += 1\n",
    "    return -res if minus else res"
   ]
  },
  {
   "cell_type": "code",
   "execution_count": 2,
   "metadata": {},
   "outputs": [
    {
     "data": {
      "text/plain": [
       "3"
      ]
     },
     "execution_count": 2,
     "metadata": {},
     "output_type": "execute_result"
    }
   ],
   "source": [
    "divide(10, 3)"
   ]
  },
  {
   "cell_type": "code",
   "execution_count": 3,
   "metadata": {},
   "outputs": [
    {
     "data": {
      "text/plain": [
       "2"
      ]
     },
     "execution_count": 3,
     "metadata": {},
     "output_type": "execute_result"
    }
   ],
   "source": [
    "divide(7, 3)"
   ]
  },
  {
   "cell_type": "code",
   "execution_count": null,
   "metadata": {},
   "outputs": [],
   "source": []
  }
 ],
 "metadata": {
  "kernelspec": {
   "display_name": "Python 3",
   "language": "python",
   "name": "python3"
  },
  "language_info": {
   "codemirror_mode": {
    "name": "ipython",
    "version": 3
   },
   "file_extension": ".py",
   "mimetype": "text/x-python",
   "name": "python",
   "nbconvert_exporter": "python",
   "pygments_lexer": "ipython3",
   "version": "3.6.5"
  }
 },
 "nbformat": 4,
 "nbformat_minor": 2
}
