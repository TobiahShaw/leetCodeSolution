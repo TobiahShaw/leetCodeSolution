{
 "cells": [
  {
   "cell_type": "markdown",
   "metadata": {},
   "source": [
    "# 最长定差子序列\n",
    "\n",
    "**题目来源：力扣（LeetCode）**\n",
    "\n",
    "**链接：https://leetcode-cn.com/problems/longest-arithmetic-subsequence-of-given-difference/**\n",
    "\n",
    "## 一、题目\n",
    "\n",
    "给你一个整数数组 arr 和一个整数 difference，请你找出并返回 arr 中最长等差子序列的长度，该子序列中相邻元素之间的差等于 difference 。\n",
    "\n",
    "子序列 是指在不改变其余元素顺序的情况下，通过删除一些元素或不删除任何元素而从 arr 派生出来的序列。\n",
    "\n",
    "### 提示：\n",
    "\n",
    "- 1 <= arr.length <= 105\n",
    "- -10^4 <= arr[i], difference <= 10^4\n",
    "\n",
    "## 二、示例\n",
    "\n",
    "### 示例 1：\n",
    "\n",
    "输入：arr = [1,2,3,4], difference = 1\n",
    "\n",
    "输出：4\n",
    "\n",
    "解释：最长的等差子序列是 [1,2,3,4]。\n",
    "\n",
    "### 示例 2：\n",
    "\n",
    "输入：arr = [1,3,5,7], difference = 1\n",
    "\n",
    "输出：1\n",
    "\n",
    "解释：最长的等差子序列是任意单个元素。\n",
    "\n",
    "### 示例 3：\n",
    "\n",
    "输入：arr = [1,5,7,8,5,3,4,2,1], difference = -2\n",
    "\n",
    "输出：4\n",
    "\n",
    "解释：最长的等差子序列是 [7,5,3,1]。\n",
    "\n",
    "## 三、解题思路\n",
    "\n",
    "### dp"
   ]
  },
  {
   "cell_type": "code",
   "execution_count": 1,
   "metadata": {},
   "outputs": [],
   "source": [
    "def longestSubsequence(arr, difference: int) -> int:\n",
    "    dp = {}\n",
    "    for value in arr:\n",
    "        dp[value] = dp.get(value-difference, 0) + 1\n",
    "    return max(dp.values())"
   ]
  },
  {
   "cell_type": "code",
   "execution_count": 2,
   "metadata": {},
   "outputs": [
    {
     "data": {
      "text/plain": [
       "4"
      ]
     },
     "execution_count": 2,
     "metadata": {},
     "output_type": "execute_result"
    }
   ],
   "source": [
    "longestSubsequence(arr = [1,2,3,4], difference = 1)"
   ]
  },
  {
   "cell_type": "code",
   "execution_count": 3,
   "metadata": {},
   "outputs": [
    {
     "data": {
      "text/plain": [
       "1"
      ]
     },
     "execution_count": 3,
     "metadata": {},
     "output_type": "execute_result"
    }
   ],
   "source": [
    "longestSubsequence(arr = [1,3,5,7], difference = 1)"
   ]
  },
  {
   "cell_type": "code",
   "execution_count": 4,
   "metadata": {},
   "outputs": [
    {
     "data": {
      "text/plain": [
       "4"
      ]
     },
     "execution_count": 4,
     "metadata": {},
     "output_type": "execute_result"
    }
   ],
   "source": [
    "longestSubsequence(arr = [1,5,7,8,5,3,4,2,1], difference = -2)"
   ]
  },
  {
   "cell_type": "code",
   "execution_count": null,
   "metadata": {},
   "outputs": [],
   "source": []
  }
 ],
 "metadata": {
  "kernelspec": {
   "display_name": "Python 3",
   "language": "python",
   "name": "python3"
  },
  "language_info": {
   "codemirror_mode": {
    "name": "ipython",
    "version": 3
   },
   "file_extension": ".py",
   "mimetype": "text/x-python",
   "name": "python",
   "nbconvert_exporter": "python",
   "pygments_lexer": "ipython3",
   "version": "3.6.5"
  }
 },
 "nbformat": 4,
 "nbformat_minor": 2
}
