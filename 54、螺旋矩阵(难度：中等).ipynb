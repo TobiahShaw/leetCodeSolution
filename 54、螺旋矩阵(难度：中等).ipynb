{
  "cells": [
    {
      "metadata": {
        "collapsed": true
      },
      "cell_type": "markdown",
      "source": "# 螺旋矩阵\n\n**题目来源：力扣（LeetCode）**\n\n**链接：https://leetcode-cn.com/problems/spiral-matrix/**\n\n## 一、题目\n\n给定一个包含 m x n 个元素的矩阵（m 行, n 列），请按照顺时针螺旋顺序，返回矩阵中的所有元素。\n\n## 二、示例\n\n### 示例 1:\n\n输入:\n\n```\n[\n [ 1, 2, 3 ],\n [ 4, 5, 6 ],\n [ 7, 8, 9 ]\n]\n```\n\n输出: [1,2,3,6,9,8,7,4,5]\n\n### 示例 2:\n\n输入:\n\n```\n[\n  [1, 2, 3, 4],\n  [5, 6, 7, 8],\n  [9,10,11,12]\n]\n```\n\n输出: [1,2,3,4,8,12,11,10,9,5,6,7]\n\n## 三、解题思路\n\n### 模拟过程（递归）"
    },
    {
      "metadata": {
        "trusted": true
      },
      "cell_type": "code",
      "source": "def spiralOrder(matrix):\n    if not matrix or len(matrix) == 0 or not matrix[0] or len(matrix[0]) == 0:\n        return []\n    result = []\n    def helper(matrix, l, t, r, b, i):\n        if l >= r or t >= b:\n            return\n        if i % 4 == 0:\n            result.extend(matrix[t][l:r])\n            t+=1\n        elif i % 4 == 1:\n            for row in range(t, b):\n                result.append(matrix[row][r-1])\n            r-=1\n        elif i % 4 == 2:\n            result.extend(matrix[b-1][l:r][::-1])\n            b-=1\n        else:\n            for row in range(b-1, t-1, -1):\n                result.append(matrix[row][l])\n            l+=1\n        helper(matrix, l, t, r, b, i+1)\n    l, t, r, b = 0, 0, len(matrix[0]), len(matrix)\n    helper(matrix, l, t, r, b, 0)\n    return result",
      "execution_count": 1,
      "outputs": []
    },
    {
      "metadata": {
        "trusted": true
      },
      "cell_type": "code",
      "source": "spiralOrder([\n [ 1, 2, 3 ],\n [ 4, 5, 6 ],\n [ 7, 8, 9 ]\n])",
      "execution_count": 2,
      "outputs": [
        {
          "output_type": "execute_result",
          "execution_count": 2,
          "data": {
            "text/plain": "[1, 2, 3, 6, 9, 8, 7, 4, 5]"
          },
          "metadata": {}
        }
      ]
    },
    {
      "metadata": {
        "trusted": true
      },
      "cell_type": "code",
      "source": "spiralOrder([\n  [1, 2, 3, 4],\n  [5, 6, 7, 8],\n  [9,10,11,12]\n])",
      "execution_count": 3,
      "outputs": [
        {
          "output_type": "execute_result",
          "execution_count": 3,
          "data": {
            "text/plain": "[1, 2, 3, 4, 8, 12, 11, 10, 9, 5, 6, 7]"
          },
          "metadata": {}
        }
      ]
    },
    {
      "metadata": {
        "trusted": true
      },
      "cell_type": "code",
      "source": "def spiralOrder(matrix):\n    if not matrix or len(matrix) == 0 or not matrix[0] or len(matrix[0]) == 0:\n        return []\n    result = []\n    l, t, r, b = 0, 0, len(matrix[0]), len(matrix)\n    i = 0\n    while True:\n        if l >= r or t >= b:\n            break\n        if i % 4 == 0:\n            result.extend(matrix[t][l:r])\n            t+=1\n        elif i % 4 == 1:\n            for row in range(t, b):\n                result.append(matrix[row][r-1])\n            r-=1\n        elif i % 4 == 2:\n            result.extend(matrix[b-1][l:r][::-1])\n            b-=1\n        else:\n            for row in range(b-1, t-1, -1):\n                result.append(matrix[row][l])\n            l+=1\n        i+=1\n    return result",
      "execution_count": 4,
      "outputs": []
    },
    {
      "metadata": {
        "trusted": true
      },
      "cell_type": "code",
      "source": "spiralOrder([\n [ 1, 2, 3 ],\n [ 4, 5, 6 ],\n [ 7, 8, 9 ]\n])",
      "execution_count": 5,
      "outputs": [
        {
          "output_type": "execute_result",
          "execution_count": 5,
          "data": {
            "text/plain": "[1, 2, 3, 6, 9, 8, 7, 4, 5]"
          },
          "metadata": {}
        }
      ]
    },
    {
      "metadata": {
        "trusted": true
      },
      "cell_type": "code",
      "source": "spiralOrder([\n  [1, 2, 3, 4],\n  [5, 6, 7, 8],\n  [9,10,11,12]\n])",
      "execution_count": 6,
      "outputs": [
        {
          "output_type": "execute_result",
          "execution_count": 6,
          "data": {
            "text/plain": "[1, 2, 3, 4, 8, 12, 11, 10, 9, 5, 6, 7]"
          },
          "metadata": {}
        }
      ]
    },
    {
      "metadata": {
        "trusted": true
      },
      "cell_type": "code",
      "source": "",
      "execution_count": null,
      "outputs": []
    }
  ],
  "metadata": {
    "kernelspec": {
      "name": "python36",
      "display_name": "Python 3.6",
      "language": "python"
    },
    "language_info": {
      "mimetype": "text/x-python",
      "nbconvert_exporter": "python",
      "name": "python",
      "pygments_lexer": "ipython3",
      "version": "3.6.6",
      "file_extension": ".py",
      "codemirror_mode": {
        "version": 3,
        "name": "ipython"
      }
    }
  },
  "nbformat": 4,
  "nbformat_minor": 2
}