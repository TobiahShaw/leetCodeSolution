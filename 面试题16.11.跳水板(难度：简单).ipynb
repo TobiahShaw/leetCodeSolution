{
  "cells": [
    {
      "metadata": {
        "collapsed": true
      },
      "cell_type": "markdown",
      "source": "# 跳水板\n\n**题目来源：力扣（LeetCode）**\n\n**链接：https://leetcode-cn.com/problems/diving-board-lcci/**\n\n## 一、题目\n\n你正在使用一堆木板建造跳水板。有两种类型的木板，其中长度较短的木板长度为shorter，长度较长的木板长度为longer。你必须正好使用k块木板。编写一个方法，生成跳水板所有可能的长度。\n\n返回的长度需要从小到大排列。\n\n## 二、示例\n\n输入：\n\nshorter = 1\n\nlonger = 2\n\nk = 3\n\n输出： {3,4,5,6}\n\n## 三、解题思路\n\n### 轮询\n\n只有两种板，且有板的总数量，则知道一个板的数量则可知另一个"
    },
    {
      "metadata": {
        "trusted": true
      },
      "cell_type": "code",
      "source": "def divingBoard(shorter: int, longer: int, k: int):\n    if k == 0:\n        return []\n    if shorter == longer:\n        return [shorter * k]\n    result = [0] * (k + 1)\n    for i in range(k + 1):\n        result[i] = shorter * (k-i) + longer * i\n    return result",
      "execution_count": 1,
      "outputs": []
    },
    {
      "metadata": {
        "trusted": true
      },
      "cell_type": "code",
      "source": "divingBoard(1,2,3)",
      "execution_count": 2,
      "outputs": [
        {
          "output_type": "execute_result",
          "execution_count": 2,
          "data": {
            "text/plain": "[3, 4, 5, 6]"
          },
          "metadata": {}
        }
      ]
    },
    {
      "metadata": {
        "trusted": true
      },
      "cell_type": "code",
      "source": "",
      "execution_count": null,
      "outputs": []
    }
  ],
  "metadata": {
    "kernelspec": {
      "name": "python36",
      "display_name": "Python 3.6",
      "language": "python"
    },
    "language_info": {
      "mimetype": "text/x-python",
      "nbconvert_exporter": "python",
      "name": "python",
      "pygments_lexer": "ipython3",
      "version": "3.6.6",
      "file_extension": ".py",
      "codemirror_mode": {
        "version": 3,
        "name": "ipython"
      }
    }
  },
  "nbformat": 4,
  "nbformat_minor": 2
}