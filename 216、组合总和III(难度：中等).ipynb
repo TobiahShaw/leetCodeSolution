{
  "cells": [
    {
      "metadata": {
        "collapsed": true
      },
      "cell_type": "markdown",
      "source": "# 组合总和III\n\n**题目来源：力扣（LeetCode）**\n\n**链接：https://leetcode-cn.com/problems/combination-sum-iii/**\n\n## 一、题目\n\n找出所有相加之和为 n 的 k 个数的组合。组合中只允许含有 1 - 9 的正整数，并且每种组合中不存在重复的数字。\n\n### 说明：\n\n- 所有数字都是正整数。\n- 解集不能包含重复的组合。 \n\n## 二、示例\n\n### 示例 1:\n\n输入: k = 3, n = 7\n\n输出: [[1,2,4]]\n\n### 示例 2:\n\n输入: k = 3, n = 9\n\n输出: [[1,2,6], [1,3,5], [2,3,4]]\n\n## 三、解题思路\n\n### 回溯法"
    },
    {
      "metadata": {
        "trusted": true
      },
      "cell_type": "code",
      "source": "def combinationSum3(k, n):\n    def generate(item, i, result):\n        if len(item) > k:\n            return\n        if sum(item) == n and len(item) == k:\n            result.append(item[:])\n            return\n        for c in range(i, 10):\n            if sum(item) + c > n:\n                return\n            item.append(c)\n            generate(item, c + 1, result)\n            item.pop()\n    result = []\n    generate([], 1, result)\n    return result",
      "execution_count": 1,
      "outputs": []
    },
    {
      "metadata": {
        "trusted": true
      },
      "cell_type": "code",
      "source": "combinationSum3(k = 3, n = 7)",
      "execution_count": 2,
      "outputs": [
        {
          "output_type": "execute_result",
          "execution_count": 2,
          "data": {
            "text/plain": "[[1, 2, 4]]"
          },
          "metadata": {}
        }
      ]
    },
    {
      "metadata": {
        "trusted": true
      },
      "cell_type": "code",
      "source": "combinationSum3(k = 3, n = 9)",
      "execution_count": 3,
      "outputs": [
        {
          "output_type": "execute_result",
          "execution_count": 3,
          "data": {
            "text/plain": "[[1, 2, 6], [1, 3, 5], [2, 3, 4]]"
          },
          "metadata": {}
        }
      ]
    },
    {
      "metadata": {
        "trusted": true
      },
      "cell_type": "code",
      "source": "",
      "execution_count": null,
      "outputs": []
    }
  ],
  "metadata": {
    "kernelspec": {
      "name": "python36",
      "display_name": "Python 3.6",
      "language": "python"
    },
    "language_info": {
      "mimetype": "text/x-python",
      "nbconvert_exporter": "python",
      "name": "python",
      "pygments_lexer": "ipython3",
      "version": "3.6.6",
      "file_extension": ".py",
      "codemirror_mode": {
        "version": 3,
        "name": "ipython"
      }
    }
  },
  "nbformat": 4,
  "nbformat_minor": 2
}