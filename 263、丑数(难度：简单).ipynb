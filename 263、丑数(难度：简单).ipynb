{
 "cells": [
  {
   "cell_type": "markdown",
   "metadata": {},
   "source": [
    "# 丑数\n",
    "\n",
    "**题目来源：力扣（LeetCode）**\n",
    "\n",
    "**链接：https://leetcode-cn.com/problems/ugly-number/**\n",
    "\n",
    "## 一、题目\n",
    "\n",
    "编写一个程序判断给定的数是否为丑数。\n",
    "\n",
    "丑数就是只包含质因数 2, 3, 5 的正整数。\n",
    "\n",
    "说明：\n",
    "\n",
    "- 1 是丑数。\n",
    "- 输入不会超过 32 位有符号整数的范围: [−231,  231 − 1]。\n",
    "\n",
    "## 二、示例\n",
    "\n",
    "### 示例 1：\n",
    "\n",
    "输入: 6\n",
    "\n",
    "输出: true\n",
    "\n",
    "解释: 6 = 2 × 3\n",
    "\n",
    "### 示例 2:\n",
    "\n",
    "输入: 8\n",
    "\n",
    "输出: true\n",
    "\n",
    "解释: 8 = 2 × 2 × 2\n",
    "\n",
    "### 示例 3:\n",
    "\n",
    "输入: 14\n",
    "\n",
    "输出: false \n",
    "\n",
    "解释: 14 不是丑数，因为它包含了另外一个质因数 7。\n",
    "\n",
    "## 三、解题思路\n",
    "\n",
    "### 一、递归"
   ]
  },
  {
   "cell_type": "code",
   "execution_count": 1,
   "metadata": {},
   "outputs": [],
   "source": [
    "def isUgly(num: int) -> bool:\n",
    "    if num == 0:\n",
    "        return False\n",
    "    if num == 1:\n",
    "        return True\n",
    "    if num % 2 == 0:\n",
    "        return isUgly(num // 2)\n",
    "    if num % 3 == 0:\n",
    "        return isUgly(num // 3)\n",
    "    if num % 5 == 0:\n",
    "        return isUgly(num // 5)\n",
    "    return False"
   ]
  },
  {
   "cell_type": "code",
   "execution_count": 2,
   "metadata": {},
   "outputs": [
    {
     "data": {
      "text/plain": [
       "True"
      ]
     },
     "execution_count": 2,
     "metadata": {},
     "output_type": "execute_result"
    }
   ],
   "source": [
    "isUgly(6)"
   ]
  },
  {
   "cell_type": "code",
   "execution_count": 3,
   "metadata": {},
   "outputs": [
    {
     "data": {
      "text/plain": [
       "True"
      ]
     },
     "execution_count": 3,
     "metadata": {},
     "output_type": "execute_result"
    }
   ],
   "source": [
    "isUgly(8)"
   ]
  },
  {
   "cell_type": "code",
   "execution_count": 4,
   "metadata": {},
   "outputs": [
    {
     "data": {
      "text/plain": [
       "False"
      ]
     },
     "execution_count": 4,
     "metadata": {},
     "output_type": "execute_result"
    }
   ],
   "source": [
    "isUgly(14)"
   ]
  },
  {
   "cell_type": "markdown",
   "metadata": {},
   "source": [
    "### 二、迭代"
   ]
  },
  {
   "cell_type": "code",
   "execution_count": 5,
   "metadata": {},
   "outputs": [],
   "source": [
    "def isUgly(num: int) -> bool:\n",
    "    while True:\n",
    "        if num == 0:\n",
    "            return False\n",
    "        if num == 1:\n",
    "            return True\n",
    "        if num % 2 == 0:\n",
    "            num //= 2\n",
    "        elif num % 3 == 0:\n",
    "            num //= 3\n",
    "        elif num % 5 == 0:\n",
    "            num //= 5\n",
    "        else:\n",
    "            return False"
   ]
  },
  {
   "cell_type": "code",
   "execution_count": 6,
   "metadata": {},
   "outputs": [
    {
     "data": {
      "text/plain": [
       "True"
      ]
     },
     "execution_count": 6,
     "metadata": {},
     "output_type": "execute_result"
    }
   ],
   "source": [
    "isUgly(6)"
   ]
  },
  {
   "cell_type": "code",
   "execution_count": 7,
   "metadata": {},
   "outputs": [
    {
     "data": {
      "text/plain": [
       "True"
      ]
     },
     "execution_count": 7,
     "metadata": {},
     "output_type": "execute_result"
    }
   ],
   "source": [
    "isUgly(8)"
   ]
  },
  {
   "cell_type": "code",
   "execution_count": 8,
   "metadata": {},
   "outputs": [
    {
     "data": {
      "text/plain": [
       "False"
      ]
     },
     "execution_count": 8,
     "metadata": {},
     "output_type": "execute_result"
    }
   ],
   "source": [
    "isUgly(14)"
   ]
  },
  {
   "cell_type": "code",
   "execution_count": null,
   "metadata": {},
   "outputs": [],
   "source": []
  }
 ],
 "metadata": {
  "kernelspec": {
   "display_name": "Python 3",
   "language": "python",
   "name": "python3"
  },
  "language_info": {
   "codemirror_mode": {
    "name": "ipython",
    "version": 3
   },
   "file_extension": ".py",
   "mimetype": "text/x-python",
   "name": "python",
   "nbconvert_exporter": "python",
   "pygments_lexer": "ipython3",
   "version": "3.6.5"
  }
 },
 "nbformat": 4,
 "nbformat_minor": 2
}
