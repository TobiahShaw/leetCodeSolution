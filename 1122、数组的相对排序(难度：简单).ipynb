{
 "cells": [
  {
   "cell_type": "markdown",
   "metadata": {},
   "source": [
    "# 数组的相对排序\n",
    "\n",
    "**题目来源：力扣（LeetCode）**\n",
    "\n",
    "**链接：https://leetcode-cn.com/problems/relative-sort-array/**\n",
    "\n",
    "## 一、题目\n",
    "\n",
    "给你两个数组，arr1 和 arr2，\n",
    "\n",
    "- arr2 中的元素各不相同\n",
    "- arr2 中的每个元素都出现在 arr1 中\n",
    "\n",
    "对 arr1 中的元素进行排序，使 arr1 中项的相对顺序和 arr2 中的相对顺序相同。未在 arr2 中出现过的元素需要按照升序放在 arr1 的末尾。\n",
    "\n",
    "### 提示：\n",
    "\n",
    "- arr1.length, arr2.length <= 1000\n",
    "- 0 <= arr1[i], arr2[i] <= 1000\n",
    "- arr2 中的元素 arr2[i] 各不相同\n",
    "- arr2 中的每个元素 arr2[i] 都出现在 arr1 中\n",
    "\n",
    "## 二、示例\n",
    "\n",
    "输入：arr1 = [2,3,1,3,2,4,6,7,9,2,19], arr2 = [2,1,4,3,9,6]\n",
    "\n",
    "输出：[2,2,2,1,4,3,3,9,6,7,19]\n",
    "\n",
    "## 三、解题思路\n",
    "\n",
    "### 一、自定义排序"
   ]
  },
  {
   "cell_type": "code",
   "execution_count": 1,
   "metadata": {},
   "outputs": [],
   "source": [
    "def relativeSortArray(arr1, arr2):\n",
    "    dic = {}\n",
    "    n = len(arr2)\n",
    "    for i in range(n):\n",
    "        dic[arr2[i]] = i\n",
    "    # 不在数组2种的权重要加n，防止数字太小，影响排序\n",
    "    return sorted(arr1, key=lambda x : dic[x] if x in dic else x + n)"
   ]
  },
  {
   "cell_type": "code",
   "execution_count": 2,
   "metadata": {},
   "outputs": [
    {
     "data": {
      "text/plain": [
       "[2, 2, 2, 1, 4, 3, 3, 9, 6, 7, 19]"
      ]
     },
     "execution_count": 2,
     "metadata": {},
     "output_type": "execute_result"
    }
   ],
   "source": [
    "relativeSortArray(arr1 = [2,3,1,3,2,4,6,7,9,2,19], arr2 = [2,1,4,3,9,6])"
   ]
  },
  {
   "cell_type": "markdown",
   "metadata": {},
   "source": [
    "### 二、计数法\n",
    "\n",
    "1. 记下每个数出现的顺序\n",
    "2. 根据相对数组的顺序放入结果计入的个数个\n",
    "3. 放入相对数组没出现过的元素"
   ]
  },
  {
   "cell_type": "code",
   "execution_count": 3,
   "metadata": {},
   "outputs": [],
   "source": [
    "def relativeSortArray(arr1, arr2):\n",
    "    # 记录频次\n",
    "    upper = max(arr1)\n",
    "    frequency = [0] * (upper + 1)\n",
    "    for x in arr1:\n",
    "        frequency[x] += 1\n",
    "    \n",
    "    ans = list()\n",
    "    # 按相对顺序放入\n",
    "    for x in arr2:\n",
    "        ans.extend([x] * frequency[x])\n",
    "        frequency[x] = 0\n",
    "    # 处理剩余相对位置没有的元素\n",
    "    for x in range(upper + 1):\n",
    "        if frequency[x] > 0:\n",
    "            ans.extend([x] * frequency[x])\n",
    "    return ans"
   ]
  },
  {
   "cell_type": "code",
   "execution_count": 4,
   "metadata": {},
   "outputs": [
    {
     "data": {
      "text/plain": [
       "[2, 2, 2, 1, 4, 3, 3, 9, 6, 7, 19]"
      ]
     },
     "execution_count": 4,
     "metadata": {},
     "output_type": "execute_result"
    }
   ],
   "source": [
    "relativeSortArray(arr1 = [2,3,1,3,2,4,6,7,9,2,19], arr2 = [2,1,4,3,9,6])"
   ]
  },
  {
   "cell_type": "markdown",
   "metadata": {},
   "source": [
    "### 三、元组排序（语言特性）"
   ]
  },
  {
   "cell_type": "code",
   "execution_count": 5,
   "metadata": {},
   "outputs": [],
   "source": [
    "def relativeSortArray(arr1, arr2):\n",
    "    def mycmp(x: int) -> (int, int):\n",
    "        return (0, rank[x]) if x in rank else (1, x)\n",
    "    \n",
    "    rank = {x: i for i, x in enumerate(arr2)}\n",
    "    arr1.sort(key=mycmp)\n",
    "    return arr1"
   ]
  },
  {
   "cell_type": "code",
   "execution_count": 6,
   "metadata": {},
   "outputs": [
    {
     "data": {
      "text/plain": [
       "[2, 2, 2, 1, 4, 3, 3, 9, 6, 7, 19]"
      ]
     },
     "execution_count": 6,
     "metadata": {},
     "output_type": "execute_result"
    }
   ],
   "source": [
    "relativeSortArray(arr1 = [2,3,1,3,2,4,6,7,9,2,19], arr2 = [2,1,4,3,9,6])"
   ]
  },
  {
   "cell_type": "code",
   "execution_count": null,
   "metadata": {},
   "outputs": [],
   "source": []
  }
 ],
 "metadata": {
  "kernelspec": {
   "display_name": "Python 3",
   "language": "python",
   "name": "python3"
  },
  "language_info": {
   "codemirror_mode": {
    "name": "ipython",
    "version": 3
   },
   "file_extension": ".py",
   "mimetype": "text/x-python",
   "name": "python",
   "nbconvert_exporter": "python",
   "pygments_lexer": "ipython3",
   "version": "3.6.5"
  }
 },
 "nbformat": 4,
 "nbformat_minor": 2
}
