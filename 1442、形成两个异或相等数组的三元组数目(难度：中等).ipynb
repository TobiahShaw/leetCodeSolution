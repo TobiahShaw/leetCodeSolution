{
 "cells": [
  {
   "cell_type": "markdown",
   "metadata": {},
   "source": [
    "# 形成两个异或相等数组的三元组数目\n",
    "\n",
    "**题目来源：力扣（LeetCode）**\n",
    "\n",
    "**链接：https://leetcode-cn.com/problems/count-triplets-that-can-form-two-arrays-of-equal-xor/**\n",
    "\n",
    "## 一、题目\n",
    "\n",
    "给你一个整数数组 arr 。\n",
    "\n",
    "现需要从数组中取三个下标 i、j 和 k ，其中 (0 <= i < j <= k < arr.length) 。\n",
    "\n",
    "a 和 b 定义如下：\n",
    "\n",
    "- a = arr[i] ^ arr[i + 1] ^ ... ^ arr[j - 1]\n",
    "- b = arr[j] ^ arr[j + 1] ^ ... ^ arr[k]\n",
    "\n",
    "注意：^ 表示 按位异或 操作。\n",
    "\n",
    "请返回能够令 a == b 成立的三元组 (i, j , k) 的数目。\n",
    "\n",
    "## 二、示例\n",
    "\n",
    "### 示例 1：\n",
    "\n",
    "输入：arr = [2,3,1,6,7]\n",
    "\n",
    "输出：4\n",
    "\n",
    "解释：满足题意的三元组分别是 (0,1,2), (0,2,2), (2,3,4) 以及 (2,4,4)\n",
    "\n",
    "### 示例 2：\n",
    "\n",
    "输入：arr = [1,1,1,1,1]\n",
    "\n",
    "输出：10\n",
    "\n",
    "### 示例 3：\n",
    "\n",
    "输入：arr = [2,3]\n",
    "\n",
    "输出：0\n",
    "\n",
    "### 示例 4：\n",
    "\n",
    "输入：arr = [1,3,5,7,9]\n",
    "\n",
    "输出：3\n",
    "\n",
    "### 示例 5：\n",
    "\n",
    "输入：arr = [7,11,12,9,5,2,7,17,22]\n",
    "\n",
    "输出：8\n",
    "\n",
    "## 三、解题思路\n",
    "\n",
    "### 前缀异或+循环\n",
    "\n",
    "$$ S_i = \\begin{cases} \n",
    "0 & i=0 \\\\ \n",
    "arr_0 \\oplus arr_1 \\oplus ... \\oplus arr_{i-1} & 1 \\leq i \\leq n \\\\\n",
    "\\end{cases} $$\n",
    "\n",
    "$$ a = S_i \\oplus S_j $$\n",
    "\n",
    "$$ b = S_j \\oplus S_{k+1} $$\n",
    "\n",
    "则 a = b 等价于\n",
    "\n",
    "$$ S_i \\oplus S_j = S_j \\oplus S_{k+1} $$\n",
    "\n",
    "$$ S_i = S_{k+1} $$"
   ]
  },
  {
   "cell_type": "code",
   "execution_count": 1,
   "metadata": {},
   "outputs": [],
   "source": [
    "def countTriplets(arr) -> int:\n",
    "    n = len(arr)\n",
    "    s = [0]\n",
    "    for num in arr:\n",
    "        s.append(s[-1] ^ num)\n",
    "    ret = 0\n",
    "    for i in range(n):\n",
    "        for j in range(i+1, n):\n",
    "            for k in range(j, n):\n",
    "                if s[i] == s[k+1]:\n",
    "                    ret += 1\n",
    "    return ret"
   ]
  },
  {
   "cell_type": "code",
   "execution_count": 2,
   "metadata": {},
   "outputs": [
    {
     "data": {
      "text/plain": [
       "4"
      ]
     },
     "execution_count": 2,
     "metadata": {},
     "output_type": "execute_result"
    }
   ],
   "source": [
    "countTriplets([2,3,1,6,7])"
   ]
  },
  {
   "cell_type": "code",
   "execution_count": null,
   "metadata": {},
   "outputs": [],
   "source": []
  }
 ],
 "metadata": {
  "kernelspec": {
   "display_name": "Python 3",
   "language": "python",
   "name": "python3"
  },
  "language_info": {
   "codemirror_mode": {
    "name": "ipython",
    "version": 3
   },
   "file_extension": ".py",
   "mimetype": "text/x-python",
   "name": "python",
   "nbconvert_exporter": "python",
   "pygments_lexer": "ipython3",
   "version": "3.6.5"
  }
 },
 "nbformat": 4,
 "nbformat_minor": 2
}
