{
 "cells": [
  {
   "cell_type": "markdown",
   "metadata": {},
   "source": [
    "# 插入区间\n",
    "\n",
    "**题目来源：力扣（LeetCode）**\n",
    "\n",
    "**链接：https://leetcode-cn.com/problems/insert-interval/**\n",
    "\n",
    "## 一、题目\n",
    "\n",
    "给你一个 无重叠的 ，按照区间起始端点排序的区间列表。\n",
    "\n",
    "在列表中插入一个新的区间，你需要确保列表中的区间仍然有序且不重叠（如果有必要的话，可以合并区间）。\n",
    "\n",
    "### 提示：\n",
    "\n",
    "- 0 <= intervals.length <= 10^4\n",
    "- intervals[i].length == 2\n",
    "- 0 <= intervals[i][0] <= intervals[i][1] <= 10^5\n",
    "- intervals 根据 intervals[i][0] 按 升序 排列\n",
    "- newInterval.length == 2\n",
    "- 0 <= newInterval[0] <= newInterval[1] <= 10^5\n",
    "\n",
    "## 二、示例\n",
    "\n",
    "### 示例 1：\n",
    "\n",
    "输入：intervals = [[1,3],[6,9]], newInterval = [2,5]\n",
    "\n",
    "输出：[[1,5],[6,9]]\n",
    "\n",
    "### 示例 2：\n",
    "\n",
    "输入：intervals = [[1,2],[3,5],[6,7],[8,10],[12,16]], newInterval = [4,8]\n",
    "\n",
    "输出：[[1,2],[3,10],[12,16]]\n",
    "\n",
    "解释：这是因为新的区间 [4,8] 与 [3,5],[6,7],[8,10] 重叠。\n",
    "\n",
    "### 示例 3：\n",
    "\n",
    "输入：intervals = [], newInterval = [5,7]\n",
    "\n",
    "输出：[[5,7]]\n",
    "\n",
    "### 示例 4：\n",
    "\n",
    "输入：intervals = [[1,5]], newInterval = [2,3]\n",
    "\n",
    "输出：[[1,5]]\n",
    "\n",
    "### 示例 5：\n",
    "\n",
    "输入：intervals = [[1,5]], newInterval = [2,7]\n",
    "\n",
    "输出：[[1,7]]\n",
    "\n",
    "## 三、解题思路\n",
    "\n",
    "### 模拟"
   ]
  },
  {
   "cell_type": "code",
   "execution_count": 1,
   "metadata": {},
   "outputs": [],
   "source": [
    "def insert(intervals, newInterval):\n",
    "    left, right = newInterval\n",
    "    placed = False\n",
    "    ret = []\n",
    "    for li, ri in intervals:\n",
    "        if li > right:\n",
    "            # 在插入区间的右侧且无交集\n",
    "            if not placed:\n",
    "                ret.append([left, right])\n",
    "                placed = True\n",
    "            ret.append([li, ri])\n",
    "        elif ri < left:\n",
    "            # 在插入区间的左侧且无交集\n",
    "            ret.append([li, ri])\n",
    "        else:\n",
    "            # 与插入区间有交集，计算它们的并集\n",
    "            left = min(left, li)\n",
    "            right = max(right, ri)\n",
    "    \n",
    "    if not placed:\n",
    "        ret.append([left, right])\n",
    "    return ret"
   ]
  },
  {
   "cell_type": "code",
   "execution_count": 2,
   "metadata": {},
   "outputs": [
    {
     "data": {
      "text/plain": [
       "[[1, 5], [6, 9]]"
      ]
     },
     "execution_count": 2,
     "metadata": {},
     "output_type": "execute_result"
    }
   ],
   "source": [
    "insert(intervals = [[1,3],[6,9]], newInterval = [2,5])"
   ]
  },
  {
   "cell_type": "code",
   "execution_count": 3,
   "metadata": {},
   "outputs": [
    {
     "data": {
      "text/plain": [
       "[[1, 2], [3, 10], [12, 16]]"
      ]
     },
     "execution_count": 3,
     "metadata": {},
     "output_type": "execute_result"
    }
   ],
   "source": [
    "insert(intervals = [[1,2],[3,5],[6,7],[8,10],[12,16]], newInterval = [4,8])"
   ]
  },
  {
   "cell_type": "code",
   "execution_count": 4,
   "metadata": {},
   "outputs": [
    {
     "data": {
      "text/plain": [
       "[[5, 7]]"
      ]
     },
     "execution_count": 4,
     "metadata": {},
     "output_type": "execute_result"
    }
   ],
   "source": [
    "insert(intervals = [], newInterval = [5,7])"
   ]
  },
  {
   "cell_type": "code",
   "execution_count": 5,
   "metadata": {},
   "outputs": [
    {
     "data": {
      "text/plain": [
       "[[1, 5]]"
      ]
     },
     "execution_count": 5,
     "metadata": {},
     "output_type": "execute_result"
    }
   ],
   "source": [
    "insert(intervals = [[1,5]], newInterval = [2,3])"
   ]
  },
  {
   "cell_type": "code",
   "execution_count": 6,
   "metadata": {},
   "outputs": [
    {
     "data": {
      "text/plain": [
       "[[1, 7]]"
      ]
     },
     "execution_count": 6,
     "metadata": {},
     "output_type": "execute_result"
    }
   ],
   "source": [
    "insert(intervals = [[1,5]], newInterval = [2,7])"
   ]
  },
  {
   "cell_type": "code",
   "execution_count": null,
   "metadata": {},
   "outputs": [],
   "source": []
  }
 ],
 "metadata": {
  "kernelspec": {
   "display_name": "Python 3",
   "language": "python",
   "name": "python3"
  },
  "language_info": {
   "codemirror_mode": {
    "name": "ipython",
    "version": 3
   },
   "file_extension": ".py",
   "mimetype": "text/x-python",
   "name": "python",
   "nbconvert_exporter": "python",
   "pygments_lexer": "ipython3",
   "version": "3.6.5"
  }
 },
 "nbformat": 4,
 "nbformat_minor": 2
}
