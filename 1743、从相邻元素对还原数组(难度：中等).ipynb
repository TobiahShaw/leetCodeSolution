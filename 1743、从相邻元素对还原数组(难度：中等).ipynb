{
 "cells": [
  {
   "cell_type": "markdown",
   "metadata": {},
   "source": [
    "# 从相邻元素对还原数组\n",
    "\n",
    "**题目来源：力扣（LeetCode）**\n",
    "\n",
    "**链接：https://leetcode-cn.com/problems/restore-the-array-from-adjacent-pairs/**\n",
    "\n",
    "## 一、题目\n",
    "\n",
    "存在一个由 n 个不同元素组成的整数数组 nums ，但你已经记不清具体内容。好在你还记得 nums 中的每一对相邻元素。\n",
    "\n",
    "给你一个二维整数数组 adjacentPairs ，大小为 n - 1 ，其中每个 adjacentPairs[i] = [ui, vi] 表示元素 ui 和 vi 在 nums 中相邻。\n",
    "\n",
    "题目数据保证所有由元素 nums[i] 和 nums[i+1] 组成的相邻元素对都存在于 adjacentPairs 中，存在形式可能是 [nums[i], nums[i+1]] ，也可能是 [nums[i+1], nums[i]] 。这些相邻元素对可以 按任意顺序 出现。\n",
    "\n",
    "返回 原始数组 nums 。如果存在多种解答，返回 其中任意一个 即可。\n",
    "\n",
    "### 提示：\n",
    "\n",
    "- nums.length == n\n",
    "- adjacentPairs.length == n - 1\n",
    "- adjacentPairs[i].length == 2\n",
    "- 2 <= n <= 10^5\n",
    "- -10^5 <= nums[i], ui, vi <= 10^5\n",
    "- 题目数据保证存在一些以 adjacentPairs 作为元素对的数组 nums\n",
    "\n",
    "## 二、示例\n",
    "\n",
    "### 示例 1：\n",
    "\n",
    "输入：adjacentPairs = [[2,1],[3,4],[3,2]]\n",
    "\n",
    "输出：[1,2,3,4]\n",
    "\n",
    "解释：数组的所有相邻元素对都在 adjacentPairs 中。特别要注意的是，adjacentPairs[i] 只表示两个元素相邻，并不保证其 左-右 顺序。\n",
    "\n",
    "### 示例 2：\n",
    "\n",
    "输入：adjacentPairs = [[4,-2],[1,4],[-3,1]]\n",
    "\n",
    "输出：[-2,4,1,-3]\n",
    "\n",
    "解释：数组中可能存在负数。另一种解答是 [-3,1,4,-2] ，也会被视作正确答案。\n",
    "\n",
    "### 示例 3：\n",
    "\n",
    "输入：adjacentPairs = [[100000,-100000]]\n",
    "\n",
    "输出：[100000,-100000]\n",
    "\n",
    "## 三、解题思路\n",
    "\n",
    "### 利用集合和字典\n",
    "\n",
    "- 利用集合求端点（出现奇数次的为端点）\n",
    "- 找出所有点邻接点的关系，并在使用后移除"
   ]
  },
  {
   "cell_type": "code",
   "execution_count": 1,
   "metadata": {},
   "outputs": [],
   "source": [
    "def restoreArray(adjacentPairs):\n",
    "    edge = set()\n",
    "    adjacentMap = {}\n",
    "    for adjacentPair in adjacentPairs:\n",
    "        if adjacentPair[0] in edge:\n",
    "            edge.remove(adjacentPair[0])\n",
    "        else:\n",
    "            edge.add(adjacentPair[0])\n",
    "        if adjacentPair[1] in edge:\n",
    "            edge.remove(adjacentPair[1])\n",
    "        else:\n",
    "            edge.add(adjacentPair[1])\n",
    "        if adjacentPair[0] in adjacentMap:\n",
    "            adjacentMap[adjacentPair[0]].add(adjacentPair[1])\n",
    "        else:\n",
    "            adjacentMap[adjacentPair[0]] = set([adjacentPair[1]])\n",
    "        if adjacentPair[1] in adjacentMap:\n",
    "            adjacentMap[adjacentPair[1]].add(adjacentPair[0])\n",
    "        else:\n",
    "            adjacentMap[adjacentPair[1]] = set([adjacentPair[0]])\n",
    "    current = edge.pop()\n",
    "    ret = [current]\n",
    "    while adjacentMap[current]:\n",
    "        nextE = adjacentMap[current].pop()\n",
    "        adjacentMap[nextE].remove(current)\n",
    "        current = nextE\n",
    "        ret.append(nextE)\n",
    "    return ret"
   ]
  },
  {
   "cell_type": "code",
   "execution_count": 2,
   "metadata": {},
   "outputs": [
    {
     "data": {
      "text/plain": [
       "[1, 2, 3, 4]"
      ]
     },
     "execution_count": 2,
     "metadata": {},
     "output_type": "execute_result"
    }
   ],
   "source": [
    "restoreArray([[2,1],[3,4],[3,2]])"
   ]
  },
  {
   "cell_type": "code",
   "execution_count": 3,
   "metadata": {},
   "outputs": [
    {
     "data": {
      "text/plain": [
       "[-3, 1, 4, -2]"
      ]
     },
     "execution_count": 3,
     "metadata": {},
     "output_type": "execute_result"
    }
   ],
   "source": [
    "restoreArray([[4,-2],[1,4],[-3,1]])"
   ]
  },
  {
   "cell_type": "code",
   "execution_count": 4,
   "metadata": {},
   "outputs": [
    {
     "data": {
      "text/plain": [
       "[100000, -100000]"
      ]
     },
     "execution_count": 4,
     "metadata": {},
     "output_type": "execute_result"
    }
   ],
   "source": [
    "restoreArray([[100000,-100000]])"
   ]
  },
  {
   "cell_type": "code",
   "execution_count": null,
   "metadata": {},
   "outputs": [],
   "source": []
  }
 ],
 "metadata": {
  "kernelspec": {
   "display_name": "Python 3",
   "language": "python",
   "name": "python3"
  },
  "language_info": {
   "codemirror_mode": {
    "name": "ipython",
    "version": 3
   },
   "file_extension": ".py",
   "mimetype": "text/x-python",
   "name": "python",
   "nbconvert_exporter": "python",
   "pygments_lexer": "ipython3",
   "version": "3.6.5"
  }
 },
 "nbformat": 4,
 "nbformat_minor": 2
}
