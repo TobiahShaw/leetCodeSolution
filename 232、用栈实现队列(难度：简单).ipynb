{
  "cells": [
    {
      "metadata": {
        "collapsed": true
      },
      "cell_type": "markdown",
      "source": "# 用栈实现队列\n\n**题目来源：力扣（LeetCode）**\n\n**链接：https://leetcode-cn.com/problems/implement-queue-using-stacks**\n\n## 一、题目\n\n使用栈实现队列的下列操作：\n\n- push(x) -- 将一个元素放入队列的尾部。\n- pop() -- 从队列首部移除元素。\n- peek() -- 返回队列首部的元素。\n- empty() -- 返回队列是否为空。\n\n## 二、示例\n\n```python\nqueue = MyQueue()\n\nqueue.push(1)\nqueue.push(2)  \nqueue.peek()  # 返回 1\nqueue.pop()   # 返回 1\nqueue.empty() # 返回 false\n```\n\n## 三、解题思路\n\n- 实例化两个栈，一个用于进队，一个用于出队\n- 进队时，将元素压入进队栈\n- 出队时，判断出队栈是否为空，为空则将入队栈的元素一次出栈，压入入队栈\n\n如此，经过两次压栈弹栈，即可实现队列"
    },
    {
      "metadata": {
        "trusted": true
      },
      "cell_type": "code",
      "source": "class MyQueue:\n\n    def __init__(self):\n        \"\"\"\n        Initialize your data structure here.\n        \"\"\"\n        self._into = []\n        self._out = []\n        \n\n    def push(self, x: int) -> None:\n        \"\"\"\n        Push element x to the back of queue.\n        \"\"\"\n        self._into.append(x)\n        \n\n    def pop(self) -> int:\n        \"\"\"\n        Removes the element from in front of queue and returns that element.\n        \"\"\"\n        if not self._out:\n            # 如果之前out栈已经全部出栈，则将into的元素全部压进栈，模拟进队\n            while self._into:\n                self._out.append(self._into.pop())\n        return self._out.pop()\n\n        \n\n    def peek(self) -> int:\n        \"\"\"\n        Get the front element.\n        \"\"\"\n        if not self._out:\n            while self._into:\n                self._out.append(self._into.pop())\n        # 替代栈的top方法\n        return self._out[-1]\n        \n\n    def empty(self) -> bool:\n        \"\"\"\n        Returns whether the queue is empty.\n        \"\"\"\n        # 两个都为空即为空\n        return not self._into and not self._out",
      "execution_count": 1,
      "outputs": []
    },
    {
      "metadata": {
        "trusted": true
      },
      "cell_type": "code",
      "source": "queue = MyQueue()",
      "execution_count": 2,
      "outputs": []
    },
    {
      "metadata": {
        "trusted": true
      },
      "cell_type": "code",
      "source": "queue.push(1)",
      "execution_count": 3,
      "outputs": []
    },
    {
      "metadata": {
        "trusted": true
      },
      "cell_type": "code",
      "source": "queue.push(2)",
      "execution_count": 4,
      "outputs": []
    },
    {
      "metadata": {
        "trusted": true
      },
      "cell_type": "code",
      "source": "queue.peek()",
      "execution_count": 5,
      "outputs": [
        {
          "output_type": "execute_result",
          "execution_count": 5,
          "data": {
            "text/plain": "1"
          },
          "metadata": {}
        }
      ]
    },
    {
      "metadata": {
        "trusted": true
      },
      "cell_type": "code",
      "source": "queue.pop()",
      "execution_count": 6,
      "outputs": [
        {
          "output_type": "execute_result",
          "execution_count": 6,
          "data": {
            "text/plain": "1"
          },
          "metadata": {}
        }
      ]
    },
    {
      "metadata": {
        "trusted": true
      },
      "cell_type": "code",
      "source": "queue.empty()",
      "execution_count": 7,
      "outputs": [
        {
          "output_type": "execute_result",
          "execution_count": 7,
          "data": {
            "text/plain": "False"
          },
          "metadata": {}
        }
      ]
    },
    {
      "metadata": {
        "trusted": true
      },
      "cell_type": "code",
      "source": "",
      "execution_count": null,
      "outputs": []
    }
  ],
  "metadata": {
    "kernelspec": {
      "name": "python36",
      "display_name": "Python 3.6",
      "language": "python"
    },
    "language_info": {
      "mimetype": "text/x-python",
      "nbconvert_exporter": "python",
      "name": "python",
      "pygments_lexer": "ipython3",
      "version": "3.6.6",
      "file_extension": ".py",
      "codemirror_mode": {
        "version": 3,
        "name": "ipython"
      }
    }
  },
  "nbformat": 4,
  "nbformat_minor": 2
}