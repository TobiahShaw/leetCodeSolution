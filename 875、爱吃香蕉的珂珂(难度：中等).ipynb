{
 "cells": [
  {
   "cell_type": "markdown",
   "metadata": {},
   "source": [
    "# 爱吃香蕉的珂珂\n",
    "\n",
    "**题目来源：力扣（LeetCode）**\n",
    "\n",
    "**链接：https://leetcode.cn/problems/koko-eating-bananas/**\n",
    "\n",
    "## 一、题目\n",
    "\n",
    "珂珂喜欢吃香蕉。这里有 n 堆香蕉，第 i 堆中有 piles[i] 根香蕉。警卫已经离开了，将在 h 小时后回来。\n",
    "\n",
    "珂珂可以决定她吃香蕉的速度 k （单位：根/小时）。每个小时，她将会选择一堆香蕉，从中吃掉 k 根。如果这堆香蕉少于 k 根，她将吃掉这堆的所有香蕉，然后这一小时内不会再吃更多的香蕉。  \n",
    "\n",
    "珂珂喜欢慢慢吃，但仍然想在警卫回来前吃掉所有的香蕉。\n",
    "\n",
    "返回她可以在 h 小时内吃掉所有香蕉的最小速度 k（k 为整数）。\n",
    "\n",
    "### 提示：\n",
    "\n",
    "- 1 <= piles.length <= 10^4\n",
    "- piles.length <= h <= 10^9\n",
    "- 1 <= piles[i] <= 10^9\n",
    "\n",
    "## 二、示例\n",
    "\n",
    "### 示例 1：\n",
    "\n",
    "输入：piles = [3,6,7,11], h = 8\n",
    "\n",
    "输出：4\n",
    "\n",
    "### 示例 2：\n",
    "\n",
    "输入：piles = [30,11,23,4,20], h = 5\n",
    "\n",
    "输出：30\n",
    "\n",
    "### 示例 3：\n",
    "\n",
    "输入：piles = [30,11,23,4,20], h = 6\n",
    "\n",
    "输出：23\n",
    "\n",
    "## 三、解题思路\n",
    "\n",
    "### 二分"
   ]
  },
  {
   "cell_type": "code",
   "execution_count": 1,
   "metadata": {},
   "outputs": [],
   "source": [
    "from bisect import bisect_left\n",
    "def minEatingSpeed(piles, h: int) -> int:\n",
    "    return bisect_left(range(max(piles)), -h, 1, key=lambda k: -sum((pile + k - 1) // k for pile in piles))"
   ]
  },
  {
   "cell_type": "code",
   "execution_count": null,
   "metadata": {},
   "outputs": [],
   "source": []
  }
 ],
 "metadata": {
  "kernelspec": {
   "display_name": "Python 3",
   "language": "python",
   "name": "python3"
  },
  "language_info": {
   "codemirror_mode": {
    "name": "ipython",
    "version": 3
   },
   "file_extension": ".py",
   "mimetype": "text/x-python",
   "name": "python",
   "nbconvert_exporter": "python",
   "pygments_lexer": "ipython3",
   "version": "3.6.5"
  }
 },
 "nbformat": 4,
 "nbformat_minor": 2
}
