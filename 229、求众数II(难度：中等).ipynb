{
 "cells": [
  {
   "cell_type": "markdown",
   "metadata": {},
   "source": [
    "# 求众数II\n",
    "\n",
    "**题目来源：力扣（LeetCode）**\n",
    "\n",
    "**链接：https://leetcode-cn.com/problems/majority-element-ii/**\n",
    "\n",
    "## 一、题目\n",
    "\n",
    "给定一个大小为 n 的整数数组，找出其中所有出现超过 ⌊ n/3 ⌋ 次的元素。\n",
    "\n",
    "进阶：尝试设计时间复杂度为 O(n)、空间复杂度为 O(1)的算法解决此问题。\n",
    "\n",
    "## 二、示例\n",
    "\n",
    "### 示例 1：\n",
    "\n",
    "输入：[3,2,3]\n",
    "\n",
    "输出：[3]\n",
    "\n",
    "### 示例 2：\n",
    "\n",
    "输入：nums = [1]\n",
    "\n",
    "输出：[1]\n",
    "\n",
    "### 示例 3：\n",
    "\n",
    "输入：[1,1,1,3,3,2,2,2]\n",
    "\n",
    "输出：[1,2]\n",
    "\n",
    "## 三、解题思路\n",
    "\n",
    "### 一、计数"
   ]
  },
  {
   "cell_type": "code",
   "execution_count": 1,
   "metadata": {},
   "outputs": [],
   "source": [
    "def majorityElement(nums):\n",
    "    dic = {}\n",
    "    for i in nums:\n",
    "        if i in dic:\n",
    "            dic[i] += 1\n",
    "        else:\n",
    "            dic[i] = 1\n",
    "    ret = []\n",
    "    threshold = len(nums) / 3\n",
    "    for i in dic.keys():\n",
    "        if dic[i] > threshold:\n",
    "            ret.append(i)\n",
    "    return ret"
   ]
  },
  {
   "cell_type": "code",
   "execution_count": 2,
   "metadata": {},
   "outputs": [
    {
     "data": {
      "text/plain": [
       "[3]"
      ]
     },
     "execution_count": 2,
     "metadata": {},
     "output_type": "execute_result"
    }
   ],
   "source": [
    "majorityElement([3,2,3])"
   ]
  },
  {
   "cell_type": "code",
   "execution_count": 3,
   "metadata": {},
   "outputs": [
    {
     "data": {
      "text/plain": [
       "[1]"
      ]
     },
     "execution_count": 3,
     "metadata": {},
     "output_type": "execute_result"
    }
   ],
   "source": [
    "majorityElement([1])"
   ]
  },
  {
   "cell_type": "code",
   "execution_count": 4,
   "metadata": {},
   "outputs": [
    {
     "data": {
      "text/plain": [
       "[1, 2]"
      ]
     },
     "execution_count": 4,
     "metadata": {},
     "output_type": "execute_result"
    }
   ],
   "source": [
    "majorityElement([1,1,1,3,3,2,2,2])"
   ]
  },
  {
   "cell_type": "markdown",
   "metadata": {},
   "source": [
    "### 二、摩尔投票法\n",
    "\n",
    "设c为众数以外的数的总和，a, b为超过1/3的众数的频数，有三种情况：\n",
    "\n",
    "1. a,b均超过1/3;\n",
    "2. a,b中有一个超过;\n",
    "3. a,b中没有一个超过\n",
    "\n",
    "首先明确，A、B指的是出现次数最大的两个，不一定满足n/3，但我们先要找到它们\n",
    "\n",
    "核心就一句话：\n",
    "\n",
    "每次都拿走3个不一样的数, 那么最后剩下的, 一定是A, B."
   ]
  },
  {
   "cell_type": "code",
   "execution_count": 5,
   "metadata": {},
   "outputs": [],
   "source": [
    "def majorityElement(nums):\n",
    "    a, b, count_a, count_b = 0, 0, 0, 0 # 设定1号众数和2号众数\n",
    "    res = []\n",
    "    for i in nums:\n",
    "        if a == i: # 频数统计的优先顺序要大于频数为0的判断\n",
    "            count_a += 1\n",
    "            continue\n",
    "        if b == i:\n",
    "            count_b += 1\n",
    "            continue\n",
    "        if count_a == 0:\n",
    "            a = i\n",
    "            count_a = 1\n",
    "            continue\n",
    "        if count_b == 0:\n",
    "            b = i\n",
    "            count_b = 1\n",
    "            continue\n",
    "        count_a -= 1\n",
    "        count_b -= 1        \n",
    "\n",
    "    count_a, count_b = 0, 0\n",
    "    for j in nums: # 再检验\n",
    "        if j == a:\n",
    "            count_a += 1\n",
    "        elif j == b:\n",
    "            count_b += 1\n",
    "    if count_a > len(nums)/3:\n",
    "        res.append(a)\n",
    "    if count_b > len(nums)/3:\n",
    "        res.append(b)\n",
    "    return res"
   ]
  },
  {
   "cell_type": "code",
   "execution_count": 6,
   "metadata": {},
   "outputs": [
    {
     "data": {
      "text/plain": [
       "[3]"
      ]
     },
     "execution_count": 6,
     "metadata": {},
     "output_type": "execute_result"
    }
   ],
   "source": [
    "majorityElement([3,2,3])"
   ]
  },
  {
   "cell_type": "code",
   "execution_count": 7,
   "metadata": {},
   "outputs": [
    {
     "data": {
      "text/plain": [
       "[1]"
      ]
     },
     "execution_count": 7,
     "metadata": {},
     "output_type": "execute_result"
    }
   ],
   "source": [
    "majorityElement([1])"
   ]
  },
  {
   "cell_type": "code",
   "execution_count": 8,
   "metadata": {},
   "outputs": [
    {
     "data": {
      "text/plain": [
       "[1, 2]"
      ]
     },
     "execution_count": 8,
     "metadata": {},
     "output_type": "execute_result"
    }
   ],
   "source": [
    "majorityElement([1,1,1,3,3,2,2,2])"
   ]
  },
  {
   "cell_type": "code",
   "execution_count": null,
   "metadata": {},
   "outputs": [],
   "source": []
  }
 ],
 "metadata": {
  "kernelspec": {
   "display_name": "Python 3",
   "language": "python",
   "name": "python3"
  },
  "language_info": {
   "codemirror_mode": {
    "name": "ipython",
    "version": 3
   },
   "file_extension": ".py",
   "mimetype": "text/x-python",
   "name": "python",
   "nbconvert_exporter": "python",
   "pygments_lexer": "ipython3",
   "version": "3.6.5"
  }
 },
 "nbformat": 4,
 "nbformat_minor": 2
}
