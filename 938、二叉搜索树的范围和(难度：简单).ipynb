{
  "cells": [
    {
      "metadata": {
        "collapsed": true
      },
      "cell_type": "markdown",
      "source": "# 二叉搜索树的范围和\n\n**题目来源：力扣（LeetCode）**\n\n**链接：https://leetcode-cn.com/problems/range-sum-of-bst/submissions/**\n\n## 一、题目\n\n给定二叉搜索树的根结点 root，返回 L 和 R（含）之间的所有结点的值的和。\n\n二叉搜索树保证具有唯一的值。\n\n## 二、示例\n\n### 示例 1:\n\n输入：root = [10,5,15,3,7,null,18], L = 7, R = 15\n\n输出：32\n\n### 示例 2:\n\n输入：root = [10,5,15,3,7,13,18,1,null,6], L = 6, R = 10\n\n输出：23\n\n## 解题思路"
    },
    {
      "metadata": {
        "trusted": true
      },
      "cell_type": "code",
      "source": "class TreeNode:\n    def __init__(self, x):\n        self.val = x\n        self.left = None\n        self.right = None",
      "execution_count": 1,
      "outputs": []
    },
    {
      "metadata": {},
      "cell_type": "markdown",
      "source": "### 递归"
    },
    {
      "metadata": {
        "trusted": true
      },
      "cell_type": "code",
      "source": "def rangeSumBST(root, L, R):\n    result = 0\n    if not root:\n        return 0\n    if L <= root.val <= R:\n        result += root.val\n    result += rangeSumBST(root.left,L,R)\n    result += rangeSumBST(root.right,L,R)\n    return result",
      "execution_count": 2,
      "outputs": []
    },
    {
      "metadata": {},
      "cell_type": "markdown",
      "source": "### 优化\n\n根据值进行搜索优化"
    },
    {
      "metadata": {
        "trusted": true
      },
      "cell_type": "code",
      "source": "def rangeSumBST(root, L, R):\n    result = 0\n    if not root:\n        return 0\n    if L <= root.val <= R:\n        result += root.val\n    if L < root.val:\n        result += rangeSumBST(root.left,L,R)\n    if root.val < R:\n        result += rangeSumBST(root.right,L,R)\n    return result",
      "execution_count": 3,
      "outputs": []
    },
    {
      "metadata": {
        "trusted": true
      },
      "cell_type": "code",
      "source": "",
      "execution_count": null,
      "outputs": []
    }
  ],
  "metadata": {
    "kernelspec": {
      "name": "python36",
      "display_name": "Python 3.6",
      "language": "python"
    },
    "language_info": {
      "mimetype": "text/x-python",
      "nbconvert_exporter": "python",
      "name": "python",
      "pygments_lexer": "ipython3",
      "version": "3.6.6",
      "file_extension": ".py",
      "codemirror_mode": {
        "version": 3,
        "name": "ipython"
      }
    }
  },
  "nbformat": 4,
  "nbformat_minor": 2
}