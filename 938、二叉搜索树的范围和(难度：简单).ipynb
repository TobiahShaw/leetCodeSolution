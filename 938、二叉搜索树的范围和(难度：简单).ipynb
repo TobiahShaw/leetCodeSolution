{
 "cells": [
  {
   "cell_type": "markdown",
   "metadata": {
    "collapsed": true
   },
   "source": [
    "# 二叉搜索树的范围和\n",
    "\n",
    "**题目来源：力扣（LeetCode）**\n",
    "\n",
    "**链接：https://leetcode-cn.com/problems/range-sum-of-bst/submissions/**\n",
    "\n",
    "## 一、题目\n",
    "\n",
    "给定二叉搜索树的根结点 root，返回 L 和 R（含）之间的所有结点的值的和。\n",
    "\n",
    "二叉搜索树保证具有唯一的值。\n",
    "\n",
    "### 提示：\n",
    "\n",
    "- 树中节点数目在范围 [1, 2 * 104] 内\n",
    "- 1 <= Node.val <= 105\n",
    "- 1 <= low <= high <= 105\n",
    "- 所有 Node.val 互不相同\n",
    "\n",
    "## 二、示例\n",
    "\n",
    "### 示例 1:\n",
    "\n",
    "输入：root = [10,5,15,3,7,null,18], L = 7, R = 15\n",
    "\n",
    "输出：32\n",
    "\n",
    "### 示例 2:\n",
    "\n",
    "输入：root = [10,5,15,3,7,13,18,1,null,6], L = 6, R = 10\n",
    "\n",
    "输出：23\n",
    "\n",
    "## 解题思路"
   ]
  },
  {
   "cell_type": "code",
   "execution_count": 1,
   "metadata": {},
   "outputs": [],
   "source": [
    "class TreeNode:\n",
    "    def __init__(self, x):\n",
    "        self.val = x\n",
    "        self.left = None\n",
    "        self.right = None"
   ]
  },
  {
   "cell_type": "code",
   "execution_count": 2,
   "metadata": {},
   "outputs": [],
   "source": [
    "def initTreeNode():\n",
    "    root = TreeNode(10)\n",
    "    root.left = TreeNode(5)\n",
    "    root.right = TreeNode(15)\n",
    "    \n",
    "    root.left.left = TreeNode(3)\n",
    "    root.left.right = TreeNode(7)\n",
    "    \n",
    "    root.right.right = TreeNode(18)\n",
    "    return root"
   ]
  },
  {
   "cell_type": "markdown",
   "metadata": {},
   "source": [
    "### 递归"
   ]
  },
  {
   "cell_type": "code",
   "execution_count": 3,
   "metadata": {},
   "outputs": [],
   "source": [
    "def rangeSumBST(root, L, R):\n",
    "    result = 0\n",
    "    if not root:\n",
    "        return 0\n",
    "    if L <= root.val <= R:\n",
    "        result += root.val\n",
    "    result += rangeSumBST(root.left,L,R)\n",
    "    result += rangeSumBST(root.right,L,R)\n",
    "    return result"
   ]
  },
  {
   "cell_type": "code",
   "execution_count": 4,
   "metadata": {},
   "outputs": [
    {
     "data": {
      "text/plain": [
       "32"
      ]
     },
     "execution_count": 4,
     "metadata": {},
     "output_type": "execute_result"
    }
   ],
   "source": [
    "rangeSumBST(initTreeNode(), 7, 15)"
   ]
  },
  {
   "cell_type": "markdown",
   "metadata": {},
   "source": [
    "### 优化\n",
    "\n",
    "根据值进行搜索优化"
   ]
  },
  {
   "cell_type": "code",
   "execution_count": 5,
   "metadata": {},
   "outputs": [],
   "source": [
    "def rangeSumBST(root, L, R):\n",
    "    result = 0\n",
    "    if not root:\n",
    "        return 0\n",
    "    if L <= root.val <= R:\n",
    "        result += root.val\n",
    "    if L < root.val:\n",
    "        result += rangeSumBST(root.left,L,R)\n",
    "    if root.val < R:\n",
    "        result += rangeSumBST(root.right,L,R)\n",
    "    return result"
   ]
  },
  {
   "cell_type": "code",
   "execution_count": 6,
   "metadata": {},
   "outputs": [
    {
     "data": {
      "text/plain": [
       "32"
      ]
     },
     "execution_count": 6,
     "metadata": {},
     "output_type": "execute_result"
    }
   ],
   "source": [
    "rangeSumBST(initTreeNode(), 7, 15)"
   ]
  },
  {
   "cell_type": "markdown",
   "metadata": {},
   "source": [
    "### 广度优先搜索"
   ]
  },
  {
   "cell_type": "code",
   "execution_count": 7,
   "metadata": {},
   "outputs": [],
   "source": [
    "def rangeSumBST(root, L: int, R: int) -> int:\n",
    "    ret = 0\n",
    "    layer = [root]\n",
    "    while layer:\n",
    "        cur_layer = layer\n",
    "        next_layer = []\n",
    "        for node in cur_layer:\n",
    "            if L <= node.val <= R:\n",
    "                ret += node.val\n",
    "            if L < node.val and node.left:\n",
    "                next_layer.append(node.left)\n",
    "            if node.val < R and node.right:\n",
    "                next_layer.append(node.right)\n",
    "        if next_layer:\n",
    "            layer = next_layer\n",
    "        else:\n",
    "            layer = []\n",
    "    return ret"
   ]
  },
  {
   "cell_type": "code",
   "execution_count": 8,
   "metadata": {},
   "outputs": [
    {
     "data": {
      "text/plain": [
       "32"
      ]
     },
     "execution_count": 8,
     "metadata": {},
     "output_type": "execute_result"
    }
   ],
   "source": [
    "rangeSumBST(initTreeNode(), 7, 15)"
   ]
  },
  {
   "cell_type": "code",
   "execution_count": null,
   "metadata": {},
   "outputs": [],
   "source": []
  }
 ],
 "metadata": {
  "kernelspec": {
   "display_name": "Python 3",
   "language": "python",
   "name": "python3"
  },
  "language_info": {
   "codemirror_mode": {
    "name": "ipython",
    "version": 3
   },
   "file_extension": ".py",
   "mimetype": "text/x-python",
   "name": "python",
   "nbconvert_exporter": "python",
   "pygments_lexer": "ipython3",
   "version": "3.6.5"
  }
 },
 "nbformat": 4,
 "nbformat_minor": 2
}
