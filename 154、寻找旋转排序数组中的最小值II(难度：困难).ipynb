{
  "cells": [
    {
      "metadata": {
        "collapsed": true
      },
      "cell_type": "markdown",
      "source": "# 寻找旋转排序数组中的最小值II\n\n**题目来源：力扣（LeetCode）**\n\n**链接：https://leetcode-cn.com/problems/find-minimum-in-rotated-sorted-array-ii/**\n\n## 一、题目\n\n假设按照升序排序的数组在预先未知的某个点上进行了旋转。\n\n( 例如，数组 [0,1,2,4,5,6,7] 可能变为 [4,5,6,7,0,1,2] )。\n\n请找出其中最小的元素。\n\n注意数组中可能存在重复的元素。\n\n## 二、示例\n\n### 示例 1：\n\n输入: [1,3,5]\n\n输出: 1\n\n### 示例 2：\n\n输入: [2,2,2,0,1]\n\n输出: 0\n\n## 三、解题思路\n\n### 二分法"
    },
    {
      "metadata": {
        "trusted": true
      },
      "cell_type": "code",
      "source": "def findMin(nums) -> int:\n    l, r = 0, len(nums) - 1\n    while l < r:\n        m = l + (r-l)//2\n        if nums[m] > nums[r]:\n            l = m + 1\n        elif nums[m] < nums[r]:\n            r = m\n        else:\n            r -= 1\n    return nums[l]",
      "execution_count": 1,
      "outputs": []
    },
    {
      "metadata": {
        "trusted": true
      },
      "cell_type": "code",
      "source": "findMin([1,3,5])",
      "execution_count": 2,
      "outputs": [
        {
          "output_type": "execute_result",
          "execution_count": 2,
          "data": {
            "text/plain": "1"
          },
          "metadata": {}
        }
      ]
    },
    {
      "metadata": {
        "trusted": true
      },
      "cell_type": "code",
      "source": "findMin([2,2,2,0,1])",
      "execution_count": 3,
      "outputs": [
        {
          "output_type": "execute_result",
          "execution_count": 3,
          "data": {
            "text/plain": "0"
          },
          "metadata": {}
        }
      ]
    },
    {
      "metadata": {
        "trusted": true
      },
      "cell_type": "code",
      "source": "",
      "execution_count": null,
      "outputs": []
    }
  ],
  "metadata": {
    "kernelspec": {
      "name": "python36",
      "display_name": "Python 3.6",
      "language": "python"
    },
    "language_info": {
      "mimetype": "text/x-python",
      "nbconvert_exporter": "python",
      "name": "python",
      "pygments_lexer": "ipython3",
      "version": "3.6.6",
      "file_extension": ".py",
      "codemirror_mode": {
        "version": 3,
        "name": "ipython"
      }
    }
  },
  "nbformat": 4,
  "nbformat_minor": 2
}