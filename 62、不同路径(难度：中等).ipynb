{
 "cells": [
  {
   "cell_type": "markdown",
   "metadata": {},
   "source": [
    "# 不同路径\n",
    "\n",
    "**题目来源：力扣（LeetCode）**\n",
    "\n",
    "**链接：https://leetcode-cn.com/problems/unique-paths/**\n",
    "\n",
    "## 一、题目\n",
    "\n",
    "一个机器人位于一个 m x n 网格的左上角 （起始点在下图中标记为“Start” ）。\n",
    "\n",
    "机器人每次只能向下或者向右移动一步。机器人试图达到网格的右下角（在下图中标记为“Finish”）。\n",
    "\n",
    "问总共有多少条不同的路径？\n",
    "\n",
    "### 提示：\n",
    "\n",
    "- 1 <= m, n <= 100\n",
    "- 题目数据保证答案小于等于 2 * 10 ^ 9\n",
    "\n",
    "## 二、示例\n",
    "\n",
    "### 示例 1：\n",
    "\n",
    "输入: m = 3, n = 2\n",
    "\n",
    "输出: 3\n",
    "\n",
    "解释:\n",
    "\n",
    "从左上角开始，总共有 3 条路径可以到达右下角。\n",
    "\n",
    "1. 向右 -> 向右 -> 向下\n",
    "2. 向右 -> 向下 -> 向右\n",
    "3. 向下 -> 向右 -> 向右\n",
    "\n",
    "### 示例 2:\n",
    "\n",
    "输入: m = 7, n = 3\n",
    "\n",
    "输出: 28\n",
    "\n",
    "## 三、解题思路\n",
    "\n",
    "### 动态规划\n",
    "\n",
    "1. 第一行和第一列的任意位置都只有一条路径可到达；\n",
    "2. 其余位置到达的路径等于左边格子和上面格子的路径和，即状态转移方程：dp[i][j] = dp[i-1][j] + dp[i][j-1]"
   ]
  },
  {
   "cell_type": "code",
   "execution_count": 1,
   "metadata": {},
   "outputs": [],
   "source": [
    "def uniquePaths(m: int, n: int) -> int:\n",
    "    dp = [[1] * m for _ in range(n)]\n",
    "    for i in range(1, n):\n",
    "        for j in range(1, m):\n",
    "            dp[i][j] = dp[i-1][j] + dp[i][j-1]\n",
    "    return dp[-1][-1]"
   ]
  },
  {
   "cell_type": "code",
   "execution_count": 2,
   "metadata": {},
   "outputs": [
    {
     "data": {
      "text/plain": [
       "3"
      ]
     },
     "execution_count": 2,
     "metadata": {},
     "output_type": "execute_result"
    }
   ],
   "source": [
    "uniquePaths(3,2)"
   ]
  },
  {
   "cell_type": "code",
   "execution_count": 3,
   "metadata": {},
   "outputs": [
    {
     "data": {
      "text/plain": [
       "28"
      ]
     },
     "execution_count": 3,
     "metadata": {},
     "output_type": "execute_result"
    }
   ],
   "source": [
    "uniquePaths(7,3)"
   ]
  },
  {
   "cell_type": "code",
   "execution_count": null,
   "metadata": {},
   "outputs": [],
   "source": []
  }
 ],
 "metadata": {
  "kernelspec": {
   "display_name": "Python 3",
   "language": "python",
   "name": "python3"
  },
  "language_info": {
   "codemirror_mode": {
    "name": "ipython",
    "version": 3
   },
   "file_extension": ".py",
   "mimetype": "text/x-python",
   "name": "python",
   "nbconvert_exporter": "python",
   "pygments_lexer": "ipython3",
   "version": "3.6.5"
  }
 },
 "nbformat": 4,
 "nbformat_minor": 2
}
