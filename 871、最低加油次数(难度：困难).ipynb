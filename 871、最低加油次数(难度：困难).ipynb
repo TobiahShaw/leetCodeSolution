{
  "cells": [
    {
      "metadata": {
        "collapsed": true
      },
      "cell_type": "markdown",
      "source": "# 最低加油次数\n\n**题目来源：力扣（LeetCode）**\n\n**链接：https://leetcode-cn.com/problems/minimum-number-of-refueling-stops/**\n\n## 一、题目\n\n汽车从起点出发驶向目的地，该目的地位于出发位置东面 target 英里处。\n\n沿途有加油站，每个 station[i] 代表一个加油站，它位于出发位置东面 station[i][0] 英里处，并且有 station[i][1] 升汽油。\n\n假设汽车油箱的容量是无限的，其中最初有 startFuel 升燃料。它每行驶 1 英里就会用掉 1 升汽油。\n\n当汽车到达加油站时，它可能停下来加油，将所有汽油从加油站转移到汽车中。\n\n为了到达目的地，汽车所必要的最低加油次数是多少？如果无法到达目的地，则返回 -1 。\n\n注意：如果汽车到达加油站时剩余燃料为 0，它仍然可以在那里加油。如果汽车到达目的地时剩余燃料为 0，仍然认为它已经到达目的地。\n\n## 二、示例\n\n### 示例 1：\n\n输入：target = 1, startFuel = 1, stations = []\n\n输出：0\n\n解释：我们可以在不加油的情况下到达目的地。\n\n### 示例 2：\n\n输入：target = 100, startFuel = 1, stations = [[10,100]]\n\n输出：-1\n\n解释：我们无法抵达目的地，甚至无法到达第一个加油站。\n\n### 示例 3：\n\n输入：target = 100, startFuel = 10, stations = [[10,60],[20,30],[30,30],[60,40]]\n\n输出：2\n\n解释：\n\n我们出发时有 10 升燃料。\n\n我们开车来到距起点 10 英里处的加油站，消耗 10 升燃料。将汽油从 0 升加到 60 升。\n\n然后，我们从 10 英里处的加油站开到 60 英里处的加油站（消耗 50 升燃料），\n\n并将汽油从 10 升加到 50 升。然后我们开车抵达目的地。\n\n我们沿途在1两个加油站停靠，所以返回 2 。\n\n## 三、解题思路"
    },
    {
      "metadata": {
        "trusted": true
      },
      "cell_type": "code",
      "source": "",
      "execution_count": null,
      "outputs": []
    }
  ],
  "metadata": {
    "kernelspec": {
      "name": "python36",
      "display_name": "Python 3.6",
      "language": "python"
    },
    "language_info": {
      "mimetype": "text/x-python",
      "nbconvert_exporter": "python",
      "name": "python",
      "pygments_lexer": "ipython3",
      "version": "3.6.6",
      "file_extension": ".py",
      "codemirror_mode": {
        "version": 3,
        "name": "ipython"
      }
    }
  },
  "nbformat": 4,
  "nbformat_minor": 2
}