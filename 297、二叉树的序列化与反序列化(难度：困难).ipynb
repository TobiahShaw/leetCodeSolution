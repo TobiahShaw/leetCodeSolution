{
 "cells": [
  {
   "cell_type": "markdown",
   "metadata": {},
   "source": [
    "# 二叉树的序列化与反序列化\n",
    "\n",
    "**题目来源：力扣（LeetCode）**\n",
    "\n",
    "**链接：https://leetcode-cn.com/problems/serialize-and-deserialize-binary-tree/**\n",
    "\n",
    "## 一、题目\n",
    "\n",
    "序列化是将一个数据结构或者对象转换为连续的比特位的操作，进而可以将转换后的数据存储在一个文件或者内存中，同时也可以通过网络传输到另一个计算机环境，采取相反方式重构得到原数据。\n",
    "\n",
    "请设计一个算法来实现二叉树的序列化与反序列化。这里不限定你的序列 / 反序列化算法执行逻辑，你只需要保证一个二叉树可以被序列化为一个字符串并且将这个字符串反序列化为原始的树结构。\n",
    "\n",
    "### 提示：\n",
    "\n",
    "- 树中结点数在范围 [0, 104] 内\n",
    "- -1000 <= Node.val <= 1000\n",
    "\n",
    "## 二、示例\n",
    "\n",
    "### 示例 1：\n",
    "\n",
    "输入：root = [1,2,3,null,null,4,5]\n",
    "\n",
    "输出：[1,2,3,null,null,4,5]\n",
    "\n",
    "### 示例 2：\n",
    "\n",
    "输入：root = []\n",
    "\n",
    "输出：[]\n",
    "\n",
    "### 示例 3：\n",
    "\n",
    "输入：root = [1]\n",
    "\n",
    "输出：[1]\n",
    "\n",
    "### 示例 4：\n",
    "\n",
    "输入：root = [1,2]\n",
    "\n",
    "输出：[1,2]\n",
    "\n",
    "## 三、解题思路\n",
    "\n",
    "### 深度优先搜索"
   ]
  },
  {
   "cell_type": "code",
   "execution_count": 1,
   "metadata": {},
   "outputs": [],
   "source": [
    "class TreeNode(object):\n",
    "    def __init__(self, x):\n",
    "        self.val = x\n",
    "        self.left = None\n",
    "        self.right = None"
   ]
  },
  {
   "cell_type": "code",
   "execution_count": 2,
   "metadata": {},
   "outputs": [],
   "source": [
    "root = TreeNode(1)\n",
    "\n",
    "root.left = TreeNode(2)\n",
    "root.right = TreeNode(3)\n",
    "\n",
    "root.right.left = TreeNode(4)\n",
    "root.right.right = TreeNode(5)"
   ]
  },
  {
   "cell_type": "code",
   "execution_count": 3,
   "metadata": {},
   "outputs": [],
   "source": [
    "def printTree(node):\n",
    "    if not node:\n",
    "        print(\"None\", end = ' ')\n",
    "        return\n",
    "    print(str(node.val), end = ' ')\n",
    "    printTree(node.left)\n",
    "    printTree(node.right)"
   ]
  },
  {
   "cell_type": "code",
   "execution_count": 4,
   "metadata": {},
   "outputs": [
    {
     "name": "stdout",
     "output_type": "stream",
     "text": [
      "1 2 None None 3 4 None None 5 None None "
     ]
    }
   ],
   "source": [
    "printTree(root)"
   ]
  },
  {
   "cell_type": "code",
   "execution_count": 5,
   "metadata": {},
   "outputs": [],
   "source": [
    "class Codec:\n",
    "\n",
    "    def serialize(self, root):\n",
    "        \"\"\"Encodes a tree to a single string.\n",
    "        \n",
    "        :type root: TreeNode\n",
    "        :rtype: str\n",
    "        \"\"\"\n",
    "        return self._rserialize(root, \"\")\n",
    "    \n",
    "    def _rserialize(self, node, s):\n",
    "        if not node:\n",
    "            s += \"None,\"\n",
    "        else:\n",
    "            s += (str(node.val) + \",\")\n",
    "            s = self._rserialize(node.left, s)\n",
    "            s = self._rserialize(node.right, s)\n",
    "        return s\n",
    "\n",
    "    def deserialize(self, data):\n",
    "        \"\"\"Decodes your encoded data to tree.\n",
    "        \n",
    "        :type data: str\n",
    "        :rtype: TreeNode\n",
    "        \"\"\"\n",
    "        if not data:\n",
    "            return None\n",
    "        arr = data.split(\",\")\n",
    "        return self._rdeserialize(arr)\n",
    "    \n",
    "    def _rdeserialize(self, arr):\n",
    "        if not arr or not arr[0] or arr[0] == \"None\":\n",
    "            del arr[0]\n",
    "            return None\n",
    "        root = TreeNode(int(arr[0]))\n",
    "        del arr[0]\n",
    "        root.left = self._rdeserialize(arr)\n",
    "        root.right = self._rdeserialize(arr)\n",
    "        return root"
   ]
  },
  {
   "cell_type": "code",
   "execution_count": 6,
   "metadata": {},
   "outputs": [
    {
     "name": "stdout",
     "output_type": "stream",
     "text": [
      "1 2 None None 3 4 None None 5 None None "
     ]
    }
   ],
   "source": [
    "codec = Codec()\n",
    "printTree(codec.deserialize(codec.serialize(root)))"
   ]
  },
  {
   "cell_type": "code",
   "execution_count": null,
   "metadata": {},
   "outputs": [],
   "source": []
  }
 ],
 "metadata": {
  "kernelspec": {
   "display_name": "Python 3",
   "language": "python",
   "name": "python3"
  },
  "language_info": {
   "codemirror_mode": {
    "name": "ipython",
    "version": 3
   },
   "file_extension": ".py",
   "mimetype": "text/x-python",
   "name": "python",
   "nbconvert_exporter": "python",
   "pygments_lexer": "ipython3",
   "version": "3.6.5"
  }
 },
 "nbformat": 4,
 "nbformat_minor": 2
}
