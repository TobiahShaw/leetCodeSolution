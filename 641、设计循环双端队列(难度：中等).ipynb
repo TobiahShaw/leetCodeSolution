{
 "cells": [
  {
   "cell_type": "markdown",
   "metadata": {},
   "source": [
    "# 设计循环双端队列\n",
    "\n",
    "**题目来源：力扣（LeetCode）**\n",
    "\n",
    "**链接：https://leetcode.cn/problems/design-circular-deque/**\n",
    "\n",
    "## 一、题目\n",
    "\n",
    "设计实现双端队列。\n",
    "\n",
    "实现 MyCircularDeque 类:\n",
    "\n",
    "- MyCircularDeque(int k) ：构造函数,双端队列最大为 k 。\n",
    "- boolean insertFront()：将一个元素添加到双端队列头部。 如果操作成功返回 true ，否则返回 false 。\n",
    "- boolean insertLast() ：将一个元素添加到双端队列尾部。如果操作成功返回 true ，否则返回 false 。\n",
    "- boolean deleteFront() ：从双端队列头部删除一个元素。 如果操作成功返回 true ，否则返回 false 。\n",
    "- boolean deleteLast() ：从双端队列尾部删除一个元素。如果操作成功返回 true ，否则返回 false 。\n",
    "- int getFront() )：从双端队列头部获得一个元素。如果双端队列为空，返回 -1 。\n",
    "- int getRear() ：获得双端队列的最后一个元素。 如果双端队列为空，返回 -1 。\n",
    "- boolean isEmpty() ：若双端队列为空，则返回 true ，否则返回 false  。\n",
    "- boolean isFull() ：若双端队列满了，则返回 true ，否则返回 false 。\n",
    "\n",
    "### 提示：\n",
    "\n",
    "- 1 <= k <= 1000\n",
    "- 0 <= value <= 1000\n",
    "- insertFront, insertLast, deleteFront, deleteLast, getFront, getRear, isEmpty, isFull  调用次数不大于 2000 次\n",
    "\n",
    "## 二、示例\n",
    "\n",
    "输入\n",
    "\n",
    "[\"MyCircularDeque\", \"insertLast\", \"insertLast\", \"insertFront\", \"insertFront\", \"getRear\", \"isFull\", \"deleteLast\", \"insertFront\", \"getFront\"]\n",
    "\n",
    "[[3], [1], [2], [3], [4], [], [], [], [4], []]\n",
    "\n",
    "输出\n",
    "\n",
    "[null, true, true, true, false, 2, true, true, true, 4]\n",
    "\n",
    "解释\n",
    "\n",
    "```\n",
    "circularDeque = MycircularDeque(3)                      # 设置容量大小为3\n",
    "circularDeque.insertLast(1)\t\t\t        # 返回 true\n",
    "circularDeque.insertLast(2)\t\t\t        # 返回 true\n",
    "circularDeque.insertFront(3)\t\t\t        # 返回 true\n",
    "circularDeque.insertFront(4)\t\t\t        # 已经满了，返回 false\n",
    "circularDeque.getRear()  \t\t\t\t# 返回 2\n",
    "circularDeque.isFull()\t\t\t\t        # 返回 true\n",
    "circularDeque.deleteLast()\t\t\t        # 返回 true\n",
    "circularDeque.insertFront(4)\t\t\t        # 返回 true\n",
    "circularDeque.getFront()\t\t\t\t# 返回 4\n",
    "```\n",
    "\n",
    "## 三、解题思路\n",
    "\n",
    "### 一、利用数组"
   ]
  },
  {
   "cell_type": "code",
   "execution_count": 1,
   "metadata": {},
   "outputs": [],
   "source": [
    "class MyCircularDeque:\n",
    "    def __init__(self, k: int):\n",
    "        self.front = self.rear = 0\n",
    "        self.elements = [0] * (k + 1)\n",
    "\n",
    "    def insertFront(self, value: int) -> bool:\n",
    "        if self.isFull():\n",
    "            return False\n",
    "        self.front = (self.front - 1) % len(self.elements)\n",
    "        self.elements[self.front] = value\n",
    "        return True\n",
    "\n",
    "    def insertLast(self, value: int) -> bool:\n",
    "        if self.isFull():\n",
    "            return False\n",
    "        self.elements[self.rear] = value\n",
    "        self.rear = (self.rear + 1) % len(self.elements)\n",
    "        return True\n",
    "\n",
    "    def deleteFront(self) -> bool:\n",
    "        if self.isEmpty():\n",
    "            return False\n",
    "        self.front = (self.front + 1) % len(self.elements)\n",
    "        return True\n",
    "\n",
    "    def deleteLast(self) -> bool:\n",
    "        if self.isEmpty():\n",
    "            return False\n",
    "        self.rear = (self.rear - 1) % len(self.elements)\n",
    "        return True\n",
    "\n",
    "    def getFront(self) -> int:\n",
    "        return -1 if self.isEmpty() else self.elements[self.front]\n",
    "\n",
    "    def getRear(self) -> int:\n",
    "        return -1 if self.isEmpty() else self.elements[(self.rear - 1) % len(self.elements)]\n",
    "\n",
    "    def isEmpty(self) -> bool:\n",
    "        return self.rear == self.front\n",
    "\n",
    "    def isFull(self) -> bool:\n",
    "        return (self.rear + 1) % len(self.elements) == self.front"
   ]
  },
  {
   "cell_type": "code",
   "execution_count": 2,
   "metadata": {},
   "outputs": [
    {
     "name": "stdout",
     "output_type": "stream",
     "text": [
      "True\n",
      "True\n",
      "True\n",
      "False\n",
      "2\n",
      "True\n",
      "True\n",
      "True\n",
      "4\n"
     ]
    }
   ],
   "source": [
    "circularDeque = MyCircularDeque(3)\n",
    "print(circularDeque.insertLast(1))\n",
    "print(circularDeque.insertLast(2))\n",
    "print(circularDeque.insertFront(3))\n",
    "print(circularDeque.insertFront(4))\n",
    "print(circularDeque.getRear())\n",
    "print(circularDeque.isFull())\n",
    "print(circularDeque.deleteLast())\n",
    "print(circularDeque.insertFront(4))\n",
    "print(circularDeque.getFront())"
   ]
  },
  {
   "cell_type": "code",
   "execution_count": null,
   "metadata": {},
   "outputs": [],
   "source": []
  }
 ],
 "metadata": {
  "kernelspec": {
   "display_name": "Python 3.10.4 64-bit",
   "language": "python",
   "name": "python3"
  },
  "language_info": {
   "codemirror_mode": {
    "name": "ipython",
    "version": 3
   },
   "file_extension": ".py",
   "mimetype": "text/x-python",
   "name": "python",
   "nbconvert_exporter": "python",
   "pygments_lexer": "ipython3",
   "version": "3.10.4"
  },
  "orig_nbformat": 4,
  "vscode": {
   "interpreter": {
    "hash": "4f946df053fbf2b937619d3c5458e7af74262f9a954d8797ba0b27400bcafe06"
   }
  }
 },
 "nbformat": 4,
 "nbformat_minor": 2
}
