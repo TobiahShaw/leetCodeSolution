{
  "cells": [
    {
      "metadata": {
        "collapsed": true
      },
      "cell_type": "markdown",
      "source": "# 存在重复元素\n\n**题目来源：力扣（LeetCode）**\n\n**链接：https://leetcode-cn.com/problems/contains-duplicate/**\n\n## 一、题目\n\n给定一个整数数组，判断是否存在重复元素。\n\n如果任何值在数组中出现至少两次，函数返回 true。如果数组中每个元素都不相同，则返回 false。\n\n## 二、示例\n\n### 示例 1:\n\n输入: [1,2,3,1]\n\n输出: true\n\n### 示例 2:\n\n输入: [1,2,3,4]\n\n输出: false\n\n### 示例 3:\n\n输入: [1,1,1,3,3,4,3,2,4,2]\n\n输出: true\n\n## 三、解题思路\n\n### 利用集合"
    },
    {
      "metadata": {
        "trusted": true
      },
      "cell_type": "code",
      "source": "def containsDuplicate(nums):\n    numSet = set()\n    for num in nums:\n        if num in numSet:\n            return True\n        else:\n            numSet.add(num)\n    return False",
      "execution_count": 1,
      "outputs": []
    },
    {
      "metadata": {
        "trusted": true
      },
      "cell_type": "code",
      "source": "containsDuplicate([1,2,3,1])",
      "execution_count": 2,
      "outputs": [
        {
          "output_type": "execute_result",
          "execution_count": 2,
          "data": {
            "text/plain": "True"
          },
          "metadata": {}
        }
      ]
    },
    {
      "metadata": {
        "trusted": true
      },
      "cell_type": "code",
      "source": "containsDuplicate([1,2,3,4])",
      "execution_count": 3,
      "outputs": [
        {
          "output_type": "execute_result",
          "execution_count": 3,
          "data": {
            "text/plain": "False"
          },
          "metadata": {}
        }
      ]
    },
    {
      "metadata": {
        "trusted": true
      },
      "cell_type": "code",
      "source": "containsDuplicate([1,1,1,3,3,4,3,2,4,2])",
      "execution_count": 4,
      "outputs": [
        {
          "output_type": "execute_result",
          "execution_count": 4,
          "data": {
            "text/plain": "True"
          },
          "metadata": {}
        }
      ]
    },
    {
      "metadata": {},
      "cell_type": "markdown",
      "source": "### 利用集合 II"
    },
    {
      "metadata": {
        "trusted": true
      },
      "cell_type": "code",
      "source": "def containsDuplicate(nums):\n    return len(set(nums)) != len(nums)",
      "execution_count": 5,
      "outputs": []
    },
    {
      "metadata": {
        "trusted": true
      },
      "cell_type": "code",
      "source": "containsDuplicate([1,2,3,1])",
      "execution_count": 6,
      "outputs": [
        {
          "output_type": "execute_result",
          "execution_count": 6,
          "data": {
            "text/plain": "True"
          },
          "metadata": {}
        }
      ]
    },
    {
      "metadata": {
        "trusted": true
      },
      "cell_type": "code",
      "source": "containsDuplicate([1,2,3,4])",
      "execution_count": 7,
      "outputs": [
        {
          "output_type": "execute_result",
          "execution_count": 7,
          "data": {
            "text/plain": "False"
          },
          "metadata": {}
        }
      ]
    },
    {
      "metadata": {
        "trusted": true
      },
      "cell_type": "code",
      "source": "containsDuplicate([1,1,1,3,3,4,3,2,4,2])",
      "execution_count": 8,
      "outputs": [
        {
          "output_type": "execute_result",
          "execution_count": 8,
          "data": {
            "text/plain": "True"
          },
          "metadata": {}
        }
      ]
    },
    {
      "metadata": {
        "trusted": true
      },
      "cell_type": "code",
      "source": "",
      "execution_count": null,
      "outputs": []
    }
  ],
  "metadata": {
    "kernelspec": {
      "name": "python36",
      "display_name": "Python 3.6",
      "language": "python"
    },
    "language_info": {
      "mimetype": "text/x-python",
      "nbconvert_exporter": "python",
      "name": "python",
      "pygments_lexer": "ipython3",
      "version": "3.6.6",
      "file_extension": ".py",
      "codemirror_mode": {
        "version": 3,
        "name": "ipython"
      }
    }
  },
  "nbformat": 4,
  "nbformat_minor": 2
}