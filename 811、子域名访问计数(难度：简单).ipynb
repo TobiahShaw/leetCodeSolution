{
 "cells": [
  {
   "cell_type": "markdown",
   "metadata": {},
   "source": [
    "# 子域名访问计数\n",
    "\n",
    "**题目来源：力扣（LeetCode）**\n",
    "\n",
    "**链接：https://leetcode-cn.com/problems/subdomain-visit-count/**\n",
    "\n",
    "## 一、题目\n",
    "\n",
    "一个网站域名，如\"discuss.leetcode.com\"，包含了多个子域名。作为顶级域名，常用的有\"com\"，下一级则有\"leetcode.com\"，最低的一级为\"discuss.leetcode.com\"。当我们访问域名\"discuss.leetcode.com\"时，也同时访问了其父域名\"leetcode.com\"以及顶级域名 \"com\"。\n",
    "\n",
    "给定一个带访问次数和域名的组合，要求分别计算每个域名被访问的次数。其格式为访问次数+空格+地址，例如：\"9001 discuss.leetcode.com\"。\n",
    "\n",
    "接下来会给出一组访问次数和域名组合的列表cpdomains 。要求解析出所有域名的访问次数，输出格式和输入格式相同，不限定先后顺序。\n",
    "\n",
    "### 注意事项：\n",
    "\n",
    "- cpdomains 的长度小于 100。\n",
    "- 每个域名的长度小于100。\n",
    "- 每个域名地址包含一个或两个\".\"符号。\n",
    "- 输入中任意一个域名的访问次数都小于10000。\n",
    "\n",
    "## 二、示例\n",
    "\n",
    "### 示例 1：\n",
    "\n",
    "输入: \n",
    "\n",
    "[\"9001 discuss.leetcode.com\"]\n",
    "\n",
    "输出: \n",
    "\n",
    "[\"9001 discuss.leetcode.com\", \"9001 leetcode.com\", \"9001 com\"]\n",
    "\n",
    "说明: \n",
    "\n",
    "例子中仅包含一个网站域名：\"discuss.leetcode.com\"。按照前文假设，子域名\"leetcode.com\"和\"com\"都会被访问，所以它们都被访问了9001次。\n",
    "\n",
    "### 示例 2\n",
    "\n",
    "输入: \n",
    "\n",
    "[\"900 google.mail.com\", \"50 yahoo.com\", \"1 intel.mail.com\", \"5 wiki.org\"]\n",
    "\n",
    "输出: \n",
    "\n",
    "[\"901 mail.com\",\"50 yahoo.com\",\"900 google.mail.com\",\"5 wiki.org\",\"5 org\",\"1 intel.mail.com\",\"951 com\"]\n",
    "\n",
    "说明: \n",
    "\n",
    "按照假设，会访问\"google.mail.com\" 900次，\"yahoo.com\" 50次，\"intel.mail.com\" 1次，\"wiki.org\" 5次。而对于父域名，会访问\"mail.com\" 900+1 = 901次，\"com\" 900 + 50 + 1 = 951次，和 \"org\" 5 次。\n",
    "\n",
    "## 三、解题思路\n",
    "\n",
    "### 递归求解"
   ]
  },
  {
   "cell_type": "code",
   "execution_count": 1,
   "metadata": {},
   "outputs": [],
   "source": [
    "def subdomainVisits(cpdomains):\n",
    "    dic = {}\n",
    "    def helper(cpdomain, count, dic):\n",
    "        if cpdomain in dic:\n",
    "            dic[cpdomain] += count\n",
    "        else:\n",
    "            dic[cpdomain] = count\n",
    "        n = len(cpdomain)\n",
    "        for i in range(n):\n",
    "            if cpdomain[i] == '.':\n",
    "                helper(cpdomain[i+1:n], count, dic)\n",
    "                return\n",
    "    for cp in cpdomains:\n",
    "        count, cpdomain = cp.split(' ', 1)\n",
    "        helper(cpdomain, int(count), dic)\n",
    "    ret = []\n",
    "    for key in dic.keys():\n",
    "        ret.append(str(dic[key]) + \" \" + key)\n",
    "    return ret"
   ]
  },
  {
   "cell_type": "code",
   "execution_count": 2,
   "metadata": {},
   "outputs": [
    {
     "data": {
      "text/plain": [
       "['9001 discuss.leetcode.com', '9001 leetcode.com', '9001 com']"
      ]
     },
     "execution_count": 2,
     "metadata": {},
     "output_type": "execute_result"
    }
   ],
   "source": [
    "subdomainVisits([\"9001 discuss.leetcode.com\"])"
   ]
  },
  {
   "cell_type": "code",
   "execution_count": 3,
   "metadata": {},
   "outputs": [
    {
     "data": {
      "text/plain": [
       "['900 google.mail.com',\n",
       " '901 mail.com',\n",
       " '951 com',\n",
       " '50 yahoo.com',\n",
       " '1 intel.mail.com',\n",
       " '5 wiki.org',\n",
       " '5 org']"
      ]
     },
     "execution_count": 3,
     "metadata": {},
     "output_type": "execute_result"
    }
   ],
   "source": [
    "subdomainVisits([\"900 google.mail.com\", \"50 yahoo.com\", \"1 intel.mail.com\", \"5 wiki.org\"])"
   ]
  },
  {
   "cell_type": "code",
   "execution_count": null,
   "metadata": {},
   "outputs": [],
   "source": []
  }
 ],
 "metadata": {
  "kernelspec": {
   "display_name": "Python 3",
   "language": "python",
   "name": "python3"
  },
  "language_info": {
   "codemirror_mode": {
    "name": "ipython",
    "version": 3
   },
   "file_extension": ".py",
   "mimetype": "text/x-python",
   "name": "python",
   "nbconvert_exporter": "python",
   "pygments_lexer": "ipython3",
   "version": "3.6.5"
  }
 },
 "nbformat": 4,
 "nbformat_minor": 2
}
