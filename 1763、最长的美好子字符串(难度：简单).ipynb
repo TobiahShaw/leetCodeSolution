{
 "cells": [
  {
   "cell_type": "markdown",
   "metadata": {},
   "source": [
    "# 最长的美好子字符串\n",
    "\n",
    "**题目来源：力扣（LeetCode）**\n",
    "\n",
    "**链接：https://leetcode-cn.com/problems/longest-nice-substring/**\n",
    "\n",
    "## 一、题目\n",
    "\n",
    "当一个字符串 s 包含的每一种字母的大写和小写形式 同时 出现在 s 中，就称这个字符串 s 是 美好 字符串。比方说，\"abABB\" 是美好字符串，因为 'A' 和 'a' 同时出现了，且 'B' 和 'b' 也同时出现了。然而，\"abA\" 不是美好字符串因为 'b' 出现了，而 'B' 没有出现。\n",
    "\n",
    "给你一个字符串 s ，请你返回 s 最长的 美好子字符串 。如果有多个答案，请你返回 最早 出现的一个。如果不存在美好子字符串，请你返回一个空字符串。\n",
    "\n",
    "### 提示：\n",
    "\n",
    "- 1 <= s.length <= 100\n",
    "- s 只包含大写和小写英文字母。\n",
    "\n",
    "## 二、示例\n",
    "\n",
    "### 示例 1：\n",
    "\n",
    "输入：s = \"YazaAay\"\n",
    "\n",
    "输出：\"aAa\"\n",
    "\n",
    "解释：\"aAa\" 是一个美好字符串，因为这个子串中仅含一种字母，其小写形式 'a' 和大写形式 'A' 也同时出现了。\"aAa\" 是最长的美好子字符串。\n",
    "\n",
    "### 示例 2：\n",
    "\n",
    "输入：s = \"Bb\"\n",
    "\n",
    "输出：\"Bb\"\n",
    "\n",
    "解释：\"Bb\" 是美好字符串，因为 'B' 和 'b' 都出现了。整个字符串也是原字符串的子字符串。\n",
    "\n",
    "### 示例 3：\n",
    "\n",
    "输入：s = \"c\"\n",
    "\n",
    "输出：\"\"\n",
    "\n",
    "解释：没有美好子字符串。\n",
    "\n",
    "### 示例 4：\n",
    "\n",
    "输入：s = \"dDzeE\"\n",
    "\n",
    "输出：\"dD\"\n",
    "\n",
    "解释：\"dD\" 和 \"eE\" 都是最长美好子字符串。由于有多个美好子字符串，返回 \"dD\" ，因为它出现得最早。\n",
    "\n",
    "## 三、解题思路\n",
    "\n",
    "### 枚举"
   ]
  },
  {
   "cell_type": "code",
   "execution_count": 1,
   "metadata": {},
   "outputs": [],
   "source": [
    "def longestNiceSubstring(s: str) -> str:\n",
    "    from collections import Counter\n",
    "    for i in range(len(s) - 1, 0, -1):\n",
    "        for j in range(len(s) - i):\n",
    "            temp = s[j:j+i+1]\n",
    "            temp_dict = Counter(temp)\n",
    "            temp_set = set()\n",
    "            flag = True\n",
    "            for key in temp_dict:\n",
    "                if key not in temp_set:\n",
    "                    temp_set.add(key.lower())\n",
    "                    if key.islower():\n",
    "                        key_ = key.upper()\n",
    "                    else:\n",
    "                        key_ = key.lower()\n",
    "                    if key_ not in temp_dict:\n",
    "                        flag = False\n",
    "                        break\n",
    "            if flag:\n",
    "                return temp\n",
    "    return \"\""
   ]
  },
  {
   "cell_type": "code",
   "execution_count": 2,
   "metadata": {},
   "outputs": [
    {
     "data": {
      "text/plain": [
       "'aAa'"
      ]
     },
     "execution_count": 2,
     "metadata": {},
     "output_type": "execute_result"
    }
   ],
   "source": [
    "longestNiceSubstring(\"YazaAay\")"
   ]
  },
  {
   "cell_type": "code",
   "execution_count": 3,
   "metadata": {},
   "outputs": [
    {
     "data": {
      "text/plain": [
       "'Bb'"
      ]
     },
     "execution_count": 3,
     "metadata": {},
     "output_type": "execute_result"
    }
   ],
   "source": [
    "longestNiceSubstring(\"Bb\")"
   ]
  },
  {
   "cell_type": "code",
   "execution_count": 4,
   "metadata": {},
   "outputs": [
    {
     "data": {
      "text/plain": [
       "''"
      ]
     },
     "execution_count": 4,
     "metadata": {},
     "output_type": "execute_result"
    }
   ],
   "source": [
    "longestNiceSubstring(\"c\")"
   ]
  },
  {
   "cell_type": "code",
   "execution_count": 5,
   "metadata": {},
   "outputs": [
    {
     "data": {
      "text/plain": [
       "'dD'"
      ]
     },
     "execution_count": 5,
     "metadata": {},
     "output_type": "execute_result"
    }
   ],
   "source": [
    "longestNiceSubstring(\"dDzeE\")"
   ]
  },
  {
   "cell_type": "code",
   "execution_count": null,
   "metadata": {},
   "outputs": [],
   "source": []
  }
 ],
 "metadata": {
  "kernelspec": {
   "display_name": "Python 3",
   "language": "python",
   "name": "python3"
  },
  "language_info": {
   "codemirror_mode": {
    "name": "ipython",
    "version": 3
   },
   "file_extension": ".py",
   "mimetype": "text/x-python",
   "name": "python",
   "nbconvert_exporter": "python",
   "pygments_lexer": "ipython3",
   "version": "3.6.5"
  }
 },
 "nbformat": 4,
 "nbformat_minor": 2
}
