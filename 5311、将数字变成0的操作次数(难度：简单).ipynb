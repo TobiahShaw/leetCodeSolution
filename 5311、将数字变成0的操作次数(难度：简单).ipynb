{
  "cells": [
    {
      "metadata": {
        "collapsed": true
      },
      "cell_type": "markdown",
      "source": "# 将数字变成0的操作次数\n\n**题目来源：力扣（LeetCode）**\n\n**链接：https://leetcode-cn.com/problems/number-of-steps-to-reduce-a-number-to-zero/**\n\n## 一、题目\n\n给你一个非负整数 num ，请你返回将它变成 0 所需要的步数。 如果当前数字是偶数，你需要把它除以 2 ；否则，减去 1。\n\n## 二、示例\n\n### 示例 1：\n\n输入：num = 14\n\n输出：6\n\n解释：\n\n步骤 1) 14 是偶数，除以 2 得到 7 。\n\n步骤 2） 7 是奇数，减 1 得到 6 。\n\n步骤 3） 6 是偶数，除以 2 得到 3 。\n\n步骤 4） 3 是奇数，减 1 得到 2 。\n\n步骤 5） 2 是偶数，除以 2 得到 1 。\n\n步骤 6） 1 是奇数，减 1 得到 0 。\n\n### 示例 2：\n\n输入：num = 8\n\n输出：4\n\n解释：\n\n步骤 1） 8 是偶数，除以 2 得到 4 。\n\n步骤 2） 4 是偶数，除以 2 得到 2 。\n\n步骤 3） 2 是偶数，除以 2 得到 1 。\n\n步骤 4） 1 是奇数，减 1 得到 0 。\n\n### 示例 3：\n\n输入：num = 123\n\n输出：12\n\n## 三、解题思路\n\n### 模拟"
    },
    {
      "metadata": {
        "trusted": true
      },
      "cell_type": "code",
      "source": "def numberOfSteps (num):\n    res = 0\n    while num:\n        if num % 2:\n            num -= 1\n        else:\n            num //= 2\n        res += 1\n    return res",
      "execution_count": 1,
      "outputs": []
    },
    {
      "metadata": {
        "trusted": true
      },
      "cell_type": "code",
      "source": "numberOfSteps(14)",
      "execution_count": 2,
      "outputs": [
        {
          "output_type": "execute_result",
          "execution_count": 2,
          "data": {
            "text/plain": "6"
          },
          "metadata": {}
        }
      ]
    },
    {
      "metadata": {
        "trusted": true
      },
      "cell_type": "code",
      "source": "numberOfSteps(8)",
      "execution_count": 3,
      "outputs": [
        {
          "output_type": "execute_result",
          "execution_count": 3,
          "data": {
            "text/plain": "4"
          },
          "metadata": {}
        }
      ]
    },
    {
      "metadata": {
        "trusted": true
      },
      "cell_type": "code",
      "source": "numberOfSteps(123)",
      "execution_count": 4,
      "outputs": [
        {
          "output_type": "execute_result",
          "execution_count": 4,
          "data": {
            "text/plain": "12"
          },
          "metadata": {}
        }
      ]
    },
    {
      "metadata": {
        "trusted": true
      },
      "cell_type": "code",
      "source": "",
      "execution_count": null,
      "outputs": []
    }
  ],
  "metadata": {
    "kernelspec": {
      "name": "python36",
      "display_name": "Python 3.6",
      "language": "python"
    },
    "language_info": {
      "mimetype": "text/x-python",
      "nbconvert_exporter": "python",
      "name": "python",
      "pygments_lexer": "ipython3",
      "version": "3.6.6",
      "file_extension": ".py",
      "codemirror_mode": {
        "version": 3,
        "name": "ipython"
      }
    }
  },
  "nbformat": 4,
  "nbformat_minor": 2
}