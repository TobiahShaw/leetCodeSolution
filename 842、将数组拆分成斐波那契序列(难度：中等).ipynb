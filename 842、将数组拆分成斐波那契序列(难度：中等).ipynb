{
 "cells": [
  {
   "cell_type": "markdown",
   "metadata": {},
   "source": [
    "# 将数组拆分成斐波那契序列\n",
    "\n",
    "**题目来源：力扣（LeetCode）**\n",
    "\n",
    "**链接：https://leetcode-cn.com/problems/find-common-characters/**\n",
    "\n",
    "## 一、题目\n",
    "\n",
    "给定一个数字字符串 S，比如 S = \"123456579\"，我们可以将它分成斐波那契式的序列 [123, 456, 579]。\n",
    "\n",
    "形式上，斐波那契式序列是一个非负整数列表 F，且满足：\n",
    "\n",
    "- 0 <= F[i] <= 2^31 - 1，（也就是说，每个整数都符合 32 位有符号整数类型）；\n",
    "- F.length >= 3；\n",
    "- 对于所有的0 <= i < F.length - 2，都有 F[i] + F[i+1] = F[i+2] 成立。\n",
    "\n",
    "另外，请注意，将字符串拆分成小块时，每个块的数字一定不要以零开头，除非这个块是数字 0 本身。\n",
    "\n",
    "返回从 S 拆分出来的任意一组斐波那契式的序列块，如果不能拆分则返回 []。\n",
    "\n",
    "### 提示：\n",
    "\n",
    "- 1 <= S.length <= 200\n",
    "- 字符串 S 中只含有数字。\n",
    "\n",
    "## 二、示例\n",
    "\n",
    "### 示例 1：\n",
    "\n",
    "输入：\"123456579\"\n",
    "\n",
    "输出：[123,456,579]\n",
    "\n",
    "### 示例 2：\n",
    "\n",
    "输入: \"11235813\"\n",
    "\n",
    "输出: [1,1,2,3,5,8,13]\n",
    "\n",
    "### 示例 3：\n",
    "\n",
    "输入: \"112358130\"\n",
    "\n",
    "输出: []\n",
    "\n",
    "解释: 这项任务无法完成。\n",
    "\n",
    "### 示例 4：\n",
    "\n",
    "输入：\"0123\"\n",
    "\n",
    "输出：[]\n",
    "\n",
    "解释：每个块的数字不能以零开头，因此 \"01\"，\"2\"，\"3\" 不是有效答案。\n",
    "\n",
    "### 示例 5：\n",
    "\n",
    "输入: \"1101111\"\n",
    "\n",
    "输出: [110, 1, 111]\n",
    "\n",
    "解释: 输出 [11,0,11,11] 也同样被接受。\n",
    "\n",
    "## 三、解题思路\n",
    "\n",
    "### 回溯+剪枝"
   ]
  },
  {
   "cell_type": "code",
   "execution_count": 1,
   "metadata": {},
   "outputs": [],
   "source": [
    "def splitIntoFibonacci(S: str):\n",
    "    ret = []\n",
    "    n = len(S)\n",
    "    def backtrace(index):\n",
    "        if index == n:\n",
    "            # 达到最后返回结果\n",
    "            return len(ret) >= 3\n",
    "        cur = 0\n",
    "        for i in range(index, n):\n",
    "            if i > index and S[index] == \"0\":\n",
    "                # 0开头的情况剪枝\n",
    "                return False\n",
    "            cur = cur * 10 + ord(S[i]) - ord(\"0\")\n",
    "            if cur > 2 ** 31 - 1:\n",
    "                # 越界剪枝\n",
    "                return False\n",
    "            if len(ret) < 2 or cur == ret[-1] + ret[-2]:\n",
    "                # 回溯\n",
    "                ret.append(cur)\n",
    "                if backtrace(i + 1):\n",
    "                    return True\n",
    "                ret.pop()\n",
    "            elif len(ret) > 2 and cur > ret[-1] + ret[-2]:\n",
    "                # 当前数字大于前两个之和时，则后续都不可能是结果，剪枝\n",
    "                return False\n",
    "        return False\n",
    "    backtrace(0)\n",
    "    return ret"
   ]
  },
  {
   "cell_type": "code",
   "execution_count": 2,
   "metadata": {},
   "outputs": [
    {
     "data": {
      "text/plain": [
       "[123, 456, 579]"
      ]
     },
     "execution_count": 2,
     "metadata": {},
     "output_type": "execute_result"
    }
   ],
   "source": [
    "splitIntoFibonacci(\"123456579\")"
   ]
  },
  {
   "cell_type": "code",
   "execution_count": 3,
   "metadata": {},
   "outputs": [
    {
     "data": {
      "text/plain": [
       "[1, 1, 2, 3, 5, 8, 13]"
      ]
     },
     "execution_count": 3,
     "metadata": {},
     "output_type": "execute_result"
    }
   ],
   "source": [
    "splitIntoFibonacci(\"11235813\")"
   ]
  },
  {
   "cell_type": "code",
   "execution_count": 4,
   "metadata": {},
   "outputs": [
    {
     "data": {
      "text/plain": [
       "[]"
      ]
     },
     "execution_count": 4,
     "metadata": {},
     "output_type": "execute_result"
    }
   ],
   "source": [
    "splitIntoFibonacci(\"112358130\")"
   ]
  },
  {
   "cell_type": "code",
   "execution_count": 5,
   "metadata": {},
   "outputs": [
    {
     "data": {
      "text/plain": [
       "[]"
      ]
     },
     "execution_count": 5,
     "metadata": {},
     "output_type": "execute_result"
    }
   ],
   "source": [
    "splitIntoFibonacci(\"0123\")"
   ]
  },
  {
   "cell_type": "code",
   "execution_count": 6,
   "metadata": {},
   "outputs": [
    {
     "data": {
      "text/plain": [
       "[11, 0, 11, 11]"
      ]
     },
     "execution_count": 6,
     "metadata": {},
     "output_type": "execute_result"
    }
   ],
   "source": [
    "splitIntoFibonacci(\"1101111\")"
   ]
  },
  {
   "cell_type": "code",
   "execution_count": null,
   "metadata": {},
   "outputs": [],
   "source": []
  }
 ],
 "metadata": {
  "kernelspec": {
   "display_name": "Python 3",
   "language": "python",
   "name": "python3"
  },
  "language_info": {
   "codemirror_mode": {
    "name": "ipython",
    "version": 3
   },
   "file_extension": ".py",
   "mimetype": "text/x-python",
   "name": "python",
   "nbconvert_exporter": "python",
   "pygments_lexer": "ipython3",
   "version": "3.6.5"
  }
 },
 "nbformat": 4,
 "nbformat_minor": 2
}
