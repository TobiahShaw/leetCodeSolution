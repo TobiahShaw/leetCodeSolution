{
 "cells": [
  {
   "cell_type": "markdown",
   "metadata": {},
   "source": [
    "# 公平的糖果棒交换\n",
    "\n",
    "**题目来源：力扣（LeetCode）**\n",
    "\n",
    "**链接：https://leetcode-cn.com/problems/fair-candy-swap/**\n",
    "\n",
    "## 一、题目\n",
    "\n",
    "爱丽丝和鲍勃有不同大小的糖果棒：A[i] 是爱丽丝拥有的第 i 根糖果棒的大小，B[j] 是鲍勃拥有的第 j 根糖果棒的大小。\n",
    "\n",
    "因为他们是朋友，所以他们想交换一根糖果棒，这样交换后，他们都有相同的糖果总量。（一个人拥有的糖果总量是他们拥有的糖果棒大小的总和。）\n",
    "\n",
    "返回一个整数数组 ans，其中 ans[0] 是爱丽丝必须交换的糖果棒的大小，ans[1] 是 Bob 必须交换的糖果棒的大小。\n",
    "\n",
    "如果有多个答案，你可以返回其中任何一个。保证答案存在。\n",
    "\n",
    "## 二、示例\n",
    "\n",
    "### 示例 1：\n",
    "\n",
    "输入：A = [1,1], B = [2,2]\n",
    "\n",
    "输出：[1,2]\n",
    "\n",
    "### 示例 2：\n",
    "\n",
    "输入：A = [1,2], B = [2,3]\n",
    "\n",
    "输出：[1,2]\n",
    "\n",
    "### 示例 3：\n",
    "\n",
    "输入：A = [2], B = [1,3]\n",
    "\n",
    "输出：[2,3]\n",
    "\n",
    "### 示例 4：\n",
    "\n",
    "输入：A = [1,2,5], B = [2,4]\n",
    "\n",
    "输出：[5,4]\n",
    "\n",
    "## 三、解题思路\n",
    "\n",
    "### 利用集合"
   ]
  },
  {
   "cell_type": "code",
   "execution_count": 1,
   "metadata": {},
   "outputs": [],
   "source": [
    "def fairCandySwap(A, B):\n",
    "    aliasSum, bobSum = sum(A), sum(B)\n",
    "    delta = (aliasSum - bobSum) // 2\n",
    "    setA = set(A)\n",
    "    for y in B:\n",
    "        x = y +delta\n",
    "        if x in setA:\n",
    "            return [x, y]\n",
    "    return None"
   ]
  },
  {
   "cell_type": "code",
   "execution_count": 2,
   "metadata": {},
   "outputs": [
    {
     "data": {
      "text/plain": [
       "[1, 2]"
      ]
     },
     "execution_count": 2,
     "metadata": {},
     "output_type": "execute_result"
    }
   ],
   "source": [
    "fairCandySwap(A = [1,1], B = [2,2])"
   ]
  },
  {
   "cell_type": "code",
   "execution_count": 3,
   "metadata": {},
   "outputs": [
    {
     "data": {
      "text/plain": [
       "[1, 2]"
      ]
     },
     "execution_count": 3,
     "metadata": {},
     "output_type": "execute_result"
    }
   ],
   "source": [
    "fairCandySwap(A = [1,2], B = [2,3])"
   ]
  },
  {
   "cell_type": "code",
   "execution_count": 4,
   "metadata": {},
   "outputs": [
    {
     "data": {
      "text/plain": [
       "[2, 3]"
      ]
     },
     "execution_count": 4,
     "metadata": {},
     "output_type": "execute_result"
    }
   ],
   "source": [
    "fairCandySwap(A = [2], B = [1,3])"
   ]
  },
  {
   "cell_type": "code",
   "execution_count": 5,
   "metadata": {},
   "outputs": [
    {
     "data": {
      "text/plain": [
       "[5, 4]"
      ]
     },
     "execution_count": 5,
     "metadata": {},
     "output_type": "execute_result"
    }
   ],
   "source": [
    "fairCandySwap(A = [1,2,5], B = [2,4])"
   ]
  },
  {
   "cell_type": "code",
   "execution_count": null,
   "metadata": {},
   "outputs": [],
   "source": []
  }
 ],
 "metadata": {
  "kernelspec": {
   "display_name": "Python 3",
   "language": "python",
   "name": "python3"
  },
  "language_info": {
   "codemirror_mode": {
    "name": "ipython",
    "version": 3
   },
   "file_extension": ".py",
   "mimetype": "text/x-python",
   "name": "python",
   "nbconvert_exporter": "python",
   "pygments_lexer": "ipython3",
   "version": "3.6.5"
  }
 },
 "nbformat": 4,
 "nbformat_minor": 2
}
