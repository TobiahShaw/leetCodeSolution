{
 "cells": [
  {
   "cell_type": "markdown",
   "metadata": {},
   "source": [
    "# 添加与搜索单词-数据结构设计\n",
    "\n",
    "**题目来源：力扣（LeetCode）**\n",
    "\n",
    "**链接：https://leetcode-cn.com/problems/design-add-and-search-words-data-structure/**\n",
    "\n",
    "## 一、题目\n",
    "\n",
    "请你设计一个数据结构，支持 添加新单词 和 查找字符串是否与任何先前添加的字符串匹配 。\n",
    "\n",
    "实现词典类 WordDictionary ：\n",
    "\n",
    "- WordDictionary() 初始化词典对象\n",
    "- void addWord(word) 将 word 添加到数据结构中，之后可以对它进行匹配\n",
    "- bool search(word) 如果数据结构中存在字符串与 word 匹配，则返回 true ；否则，返回  false 。word 中可能包含一些 '.' ，每个 . 都可以表示任何一个字母。\n",
    "\n",
    "### 提示：\n",
    "\n",
    "- 1 <= word.length <= 500\n",
    "- addWord 中的 word 由小写英文字母组成\n",
    "- search 中的 word 由 '.' 或小写英文字母组成\n",
    "- 最多调用 50000 次 addWord 和 search\n",
    "\n",
    "## 二、示例\n",
    "\n",
    "输入：\n",
    "\n",
    "[\"WordDictionary\",\"addWord\",\"addWord\",\"addWord\",\"search\",\"search\",\"search\",\"search\"]\n",
    "\n",
    "[[],[\"bad\"],[\"dad\"],[\"mad\"],[\"pad\"],[\"bad\"],[\".ad\"],[\"b..\"]]\n",
    "\n",
    "输出：\n",
    "\n",
    "[null,null,null,null,false,true,true,true]\n",
    "\n",
    "解释：\n",
    "\n",
    "```\n",
    "wordDictionary = WordDictionary()\n",
    "wordDictionary.addWord(\"bad\")\n",
    "wordDictionary.addWord(\"dad\")\n",
    "wordDictionary.addWord(\"mad\")\n",
    "wordDictionary.search(\"pad\") # return False\n",
    "wordDictionary.search(\"bad\") # return True\n",
    "wordDictionary.search(\".ad\") # return True\n",
    "wordDictionary.search(\"b..\") # return True\n",
    "```\n",
    "\n",
    "## 三、解题思路\n",
    "\n",
    "### 字典树"
   ]
  },
  {
   "cell_type": "code",
   "execution_count": 1,
   "metadata": {},
   "outputs": [],
   "source": [
    "class TrieNode:\n",
    "    def __init__(self):\n",
    "        self.children = [None] * 26\n",
    "        self.isEnd = False\n",
    "    \n",
    "    def insert(self, word):\n",
    "        node = self\n",
    "        for ch in word:\n",
    "            ascii_ch = ord(ch) - ord('a')\n",
    "            if not node.children[ascii_ch]:\n",
    "                node.children[ascii_ch] = TrieNode()\n",
    "            node = node.children[ascii_ch]\n",
    "        node.isEnd = True\n",
    "\n",
    "class WordDictionary:\n",
    "\n",
    "    def __init__(self):\n",
    "        self.trieRoot = TrieNode()\n",
    "\n",
    "    def addWord(self, word: str) -> None:\n",
    "        self.trieRoot.insert(word)\n",
    "\n",
    "    def search(self, word: str) -> bool:\n",
    "        def dfs(index, node):\n",
    "            if index == len(word):\n",
    "                return node.isEnd\n",
    "            ch = word[index]\n",
    "            if ch == \".\":\n",
    "                for child in node.children:\n",
    "                    if child is not None and dfs(index + 1, child):\n",
    "                        return True\n",
    "            else:\n",
    "                child = node.children[ord(ch) - ord('a')]\n",
    "                if child is not None and dfs(index + 1, child):\n",
    "                    return True\n",
    "            return False\n",
    "        return dfs(0, self.trieRoot)"
   ]
  },
  {
   "cell_type": "code",
   "execution_count": 2,
   "metadata": {},
   "outputs": [
    {
     "name": "stdout",
     "output_type": "stream",
     "text": [
      "False\n",
      "True\n",
      "True\n",
      "True\n"
     ]
    }
   ],
   "source": [
    "wordDictionary = WordDictionary()\n",
    "wordDictionary.addWord(\"bad\")\n",
    "wordDictionary.addWord(\"dad\")\n",
    "wordDictionary.addWord(\"mad\")\n",
    "print(wordDictionary.search(\"pad\")) # return False\n",
    "print(wordDictionary.search(\"bad\")) # return True\n",
    "print(wordDictionary.search(\".ad\")) # return True\n",
    "print(wordDictionary.search(\"b..\")) # return True"
   ]
  },
  {
   "cell_type": "code",
   "execution_count": null,
   "metadata": {},
   "outputs": [],
   "source": []
  }
 ],
 "metadata": {
  "kernelspec": {
   "display_name": "Python 3",
   "language": "python",
   "name": "python3"
  },
  "language_info": {
   "codemirror_mode": {
    "name": "ipython",
    "version": 3
   },
   "file_extension": ".py",
   "mimetype": "text/x-python",
   "name": "python",
   "nbconvert_exporter": "python",
   "pygments_lexer": "ipython3",
   "version": "3.6.5"
  }
 },
 "nbformat": 4,
 "nbformat_minor": 2
}
