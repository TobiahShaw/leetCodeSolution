{
  "cells": [
    {
      "metadata": {
        "collapsed": true
      },
      "cell_type": "markdown",
      "source": "# 高度检查器\n\n**题目来源：力扣（LeetCode）**\n\n**链接：https://leetcode-cn.com/problems/height-checker/submissions/**\n\n## 一、题目\n\n学校在拍年度纪念照时，一般要求学生按照 非递减 的高度顺序排列。\n\n请你返回至少有多少个学生没有站在正确位置数量。该人数指的是：能让所有学生以 非递减 高度排列的必要移动人数。\n\n## 二、示例\n\n输入：[1,1,4,2,1,3]\n\n输出：3\n\n解释：\n\n高度为 4、3 和最后一个 1 的学生，没有站在正确的位置。\n\n## 三、解题思路\n\n### 排序后迭代"
    },
    {
      "metadata": {
        "trusted": true
      },
      "cell_type": "code",
      "source": "def heightChecker(heights):\n    sorted_stu = sorted(heights)\n    return sum(sorted_stu[i] != heights[i] for i in range(len(heights)))",
      "execution_count": 1,
      "outputs": []
    },
    {
      "metadata": {
        "trusted": true
      },
      "cell_type": "code",
      "source": "heightChecker([1,1,4,2,1,3])",
      "execution_count": 2,
      "outputs": [
        {
          "output_type": "execute_result",
          "execution_count": 2,
          "data": {
            "text/plain": "3"
          },
          "metadata": {}
        }
      ]
    },
    {
      "metadata": {
        "trusted": true
      },
      "cell_type": "code",
      "source": "",
      "execution_count": null,
      "outputs": []
    }
  ],
  "metadata": {
    "kernelspec": {
      "name": "python36",
      "display_name": "Python 3.6",
      "language": "python"
    },
    "language_info": {
      "mimetype": "text/x-python",
      "nbconvert_exporter": "python",
      "name": "python",
      "pygments_lexer": "ipython3",
      "version": "3.6.6",
      "file_extension": ".py",
      "codemirror_mode": {
        "version": 3,
        "name": "ipython"
      }
    }
  },
  "nbformat": 4,
  "nbformat_minor": 2
}