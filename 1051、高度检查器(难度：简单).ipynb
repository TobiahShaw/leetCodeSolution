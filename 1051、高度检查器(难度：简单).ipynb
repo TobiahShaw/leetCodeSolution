{
 "cells": [
  {
   "cell_type": "markdown",
   "metadata": {
    "collapsed": true
   },
   "source": [
    "# 高度检查器\n",
    "\n",
    "**题目来源：力扣（LeetCode）**\n",
    "\n",
    "**链接：https://leetcode-cn.com/problems/height-checker/submissions/**\n",
    "\n",
    "## 一、题目\n",
    "\n",
    "学校打算为全体学生拍一张年度纪念照。根据要求，学生需要按照 非递减 的高度顺序排成一行。\n",
    "\n",
    "排序后的高度情况用整数数组 expected 表示，其中 expected[i] 是预计排在这一行中第 i 位的学生的高度（下标从 0 开始）。\n",
    "\n",
    "给你一个整数数组 heights ，表示 当前学生站位 的高度情况。heights[i] 是这一行中第 i 位学生的高度（下标从 0 开始）。\n",
    "\n",
    "返回满足 heights[i] != expected[i] 的 下标数量 。\n",
    "\n",
    "### 提示：\n",
    "\n",
    "- 1 <= heights.length <= 100\n",
    "- 1 <= heights[i] <= 100\n",
    "\n",
    "## 二、示例\n",
    "\n",
    "### 示例 1：\n",
    "\n",
    "输入：heights = [1,1,4,2,1,3\n",
    "\n",
    "输出：3 \n",
    "\n",
    "解释：\n",
    "\n",
    "高度：[1,1,4,2,1,3]\n",
    "\n",
    "预期：[1,1,1,2,3,4]\n",
    "\n",
    "下标 2 、4 、5 处的学生高度不匹配。\n",
    "\n",
    "### 示例 2：\n",
    "\n",
    "输入：heights = [5,1,2,3,4]\n",
    "\n",
    "输出：5\n",
    "\n",
    "解释：\n",
    "\n",
    "高度：[5,1,2,3,4]\n",
    "\n",
    "预期：[1,2,3,4,5]\n",
    "\n",
    "所有下标的对应学生高度都不匹配。\n",
    "\n",
    "### 示例 3：\n",
    "\n",
    "输入：heights = [1,2,3,4,5]\n",
    "\n",
    "输出：0\n",
    "\n",
    "解释：\n",
    "\n",
    "高度：[1,2,3,4,5]\n",
    "\n",
    "预期：[1,2,3,4,5]\n",
    "\n",
    "所有下标的对应学生高度都匹配。\n",
    "\n",
    "## 三、解题思路\n",
    "\n",
    "### 排序后迭代"
   ]
  },
  {
   "cell_type": "code",
   "execution_count": 1,
   "metadata": {},
   "outputs": [],
   "source": [
    "def heightChecker(heights):\n",
    "    sorted_stu = sorted(heights)\n",
    "    return sum(sorted_stu[i] != heights[i] for i in range(len(heights)))"
   ]
  },
  {
   "cell_type": "code",
   "execution_count": 2,
   "metadata": {},
   "outputs": [
    {
     "data": {
      "text/plain": [
       "3"
      ]
     },
     "execution_count": 2,
     "metadata": {},
     "output_type": "execute_result"
    }
   ],
   "source": [
    "heightChecker([1,1,4,2,1,3])"
   ]
  },
  {
   "cell_type": "code",
   "execution_count": 3,
   "metadata": {},
   "outputs": [
    {
     "data": {
      "text/plain": [
       "5"
      ]
     },
     "execution_count": 3,
     "metadata": {},
     "output_type": "execute_result"
    }
   ],
   "source": [
    "heightChecker([5,1,2,3,4])"
   ]
  },
  {
   "cell_type": "code",
   "execution_count": 4,
   "metadata": {},
   "outputs": [
    {
     "data": {
      "text/plain": [
       "0"
      ]
     },
     "execution_count": 4,
     "metadata": {},
     "output_type": "execute_result"
    }
   ],
   "source": [
    "heightChecker([1,2,3,4,5])"
   ]
  },
  {
   "cell_type": "code",
   "execution_count": null,
   "metadata": {},
   "outputs": [],
   "source": []
  }
 ],
 "metadata": {
  "kernelspec": {
   "display_name": "Python 3",
   "language": "python",
   "name": "python3"
  },
  "language_info": {
   "codemirror_mode": {
    "name": "ipython",
    "version": 3
   },
   "file_extension": ".py",
   "mimetype": "text/x-python",
   "name": "python",
   "nbconvert_exporter": "python",
   "pygments_lexer": "ipython3",
   "version": "3.6.5"
  }
 },
 "nbformat": 4,
 "nbformat_minor": 2
}
