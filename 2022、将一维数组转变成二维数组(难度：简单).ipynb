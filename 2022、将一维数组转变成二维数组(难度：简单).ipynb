{
 "cells": [
  {
   "cell_type": "markdown",
   "metadata": {},
   "source": [
    "# 将一维数组转变成二维数组\n",
    "\n",
    "**题目来源：力扣（LeetCode）**\n",
    "\n",
    "**链接：https://leetcode-cn.com/problems/convert-1d-array-into-2d-array/**\n",
    "\n",
    "## 一、题目\n",
    "\n",
    "给你一个下标从 0 开始的一维整数数组 original 和两个整数 m 和  n 。你需要使用 original 中 所有 元素创建一个 m 行 n 列的二维数组。\n",
    "\n",
    "original 中下标从 0 到 n - 1 （都 包含 ）的元素构成二维数组的第一行，下标从 n 到 2 * n - 1 （都 包含 ）的元素构成二维数组的第二行，依此类推。\n",
    "\n",
    "请你根据上述过程返回一个 m x n 的二维数组。如果无法构成这样的二维数组，请你返回一个空的二维数组。\n",
    "\n",
    "### 提示：\n",
    "\n",
    "- 1 <= original.length <= 5 * 10^4\n",
    "- 1 <= original[i] <= 10^5\n",
    "- 1 <= m, n <= 4 * 10^4\n",
    "\n",
    "## 二、示例\n",
    "\n",
    "### 示例 1：\n",
    "\n",
    "输入：original = [1,2,3,4], m = 2, n = 2\n",
    "\n",
    "输出：[[1,2],[3,4]]\n",
    "\n",
    "解释：构造出的二维数组应该包含 2 行 2 列。original 中第一个 n=2 的部分为 [1,2] ，构成二维数组的第一行。original 中第二个 n=2 的部分为 [3,4] ，构成二维数组的第二行。\n",
    "\n",
    "### 示例 2：\n",
    "\n",
    "输入：original = [1,2,3], m = 1, n = 3\n",
    "\n",
    "输出：[[1,2,3]]\n",
    "\n",
    "解释：构造出的二维数组应该包含 1 行 3 列。将 original 中所有三个元素放入第一行中，构成要求的二维数组。\n",
    "\n",
    "### 示例 3：\n",
    "\n",
    "输入：original = [1,2], m = 1, n = 1\n",
    "\n",
    "输出：[]\n",
    "\n",
    "解释：original 中有 2 个元素。无法将 2 个元素放入到一个 1x1 的二维数组中，所以返回一个空的二维数组。\n",
    "\n",
    "### 示例 4：\n",
    "\n",
    "输入：original = [3], m = 1, n = 2\n",
    "\n",
    "输出：[]\n",
    "\n",
    "解释：original 中只有 1 个元素。无法将 1 个元素放满一个 1x2 的二维数组，所以返回一个空的二维数组。\n",
    "\n",
    "## 三、解题思路\n",
    "\n",
    "### 一、模拟过程"
   ]
  },
  {
   "cell_type": "code",
   "execution_count": 1,
   "metadata": {},
   "outputs": [],
   "source": [
    "def construct2DArray(original, m: int, n: int):\n",
    "    length = len(original)\n",
    "    if m * n != length:\n",
    "        return []\n",
    "    index = 0\n",
    "    ret = []\n",
    "    for i in range(m):\n",
    "        item = []\n",
    "        for j in range(n):\n",
    "            item.append(original[index])\n",
    "            index += 1\n",
    "        ret.append(item)\n",
    "    return ret"
   ]
  },
  {
   "cell_type": "code",
   "execution_count": 2,
   "metadata": {},
   "outputs": [
    {
     "data": {
      "text/plain": [
       "[[1, 2], [3, 4]]"
      ]
     },
     "execution_count": 2,
     "metadata": {},
     "output_type": "execute_result"
    }
   ],
   "source": [
    "construct2DArray(original = [1,2,3,4], m = 2, n = 2)"
   ]
  },
  {
   "cell_type": "code",
   "execution_count": 3,
   "metadata": {},
   "outputs": [
    {
     "data": {
      "text/plain": [
       "[[1, 2, 3]]"
      ]
     },
     "execution_count": 3,
     "metadata": {},
     "output_type": "execute_result"
    }
   ],
   "source": [
    "construct2DArray(original = [1,2,3], m = 1, n = 3)"
   ]
  },
  {
   "cell_type": "code",
   "execution_count": 4,
   "metadata": {},
   "outputs": [
    {
     "data": {
      "text/plain": [
       "[]"
      ]
     },
     "execution_count": 4,
     "metadata": {},
     "output_type": "execute_result"
    }
   ],
   "source": [
    "construct2DArray(original = [1,2], m = 1, n = 1)"
   ]
  },
  {
   "cell_type": "code",
   "execution_count": 5,
   "metadata": {},
   "outputs": [
    {
     "data": {
      "text/plain": [
       "[]"
      ]
     },
     "execution_count": 5,
     "metadata": {},
     "output_type": "execute_result"
    }
   ],
   "source": [
    "construct2DArray(original = [3], m = 1, n = 2)"
   ]
  },
  {
   "cell_type": "markdown",
   "metadata": {},
   "source": [
    "### 二、模拟过程-单行"
   ]
  },
  {
   "cell_type": "code",
   "execution_count": 6,
   "metadata": {},
   "outputs": [],
   "source": [
    "def construct2DArray(original, m: int, n: int):\n",
    "    return [original[i: i + n] for i in range(0, len(original), n)] if len(original) == m * n else []"
   ]
  },
  {
   "cell_type": "code",
   "execution_count": 7,
   "metadata": {},
   "outputs": [
    {
     "data": {
      "text/plain": [
       "[[1, 2], [3, 4]]"
      ]
     },
     "execution_count": 7,
     "metadata": {},
     "output_type": "execute_result"
    }
   ],
   "source": [
    "construct2DArray(original = [1,2,3,4], m = 2, n = 2)"
   ]
  },
  {
   "cell_type": "code",
   "execution_count": 8,
   "metadata": {},
   "outputs": [
    {
     "data": {
      "text/plain": [
       "[[1, 2, 3]]"
      ]
     },
     "execution_count": 8,
     "metadata": {},
     "output_type": "execute_result"
    }
   ],
   "source": [
    "construct2DArray(original = [1,2,3], m = 1, n = 3)"
   ]
  },
  {
   "cell_type": "code",
   "execution_count": 9,
   "metadata": {},
   "outputs": [
    {
     "data": {
      "text/plain": [
       "[]"
      ]
     },
     "execution_count": 9,
     "metadata": {},
     "output_type": "execute_result"
    }
   ],
   "source": [
    "construct2DArray(original = [1,2], m = 1, n = 1)"
   ]
  },
  {
   "cell_type": "code",
   "execution_count": 10,
   "metadata": {},
   "outputs": [
    {
     "data": {
      "text/plain": [
       "[]"
      ]
     },
     "execution_count": 10,
     "metadata": {},
     "output_type": "execute_result"
    }
   ],
   "source": [
    "construct2DArray(original = [3], m = 1, n = 2)"
   ]
  },
  {
   "cell_type": "code",
   "execution_count": null,
   "metadata": {},
   "outputs": [],
   "source": []
  }
 ],
 "metadata": {
  "kernelspec": {
   "display_name": "Python 3",
   "language": "python",
   "name": "python3"
  },
  "language_info": {
   "codemirror_mode": {
    "name": "ipython",
    "version": 3
   },
   "file_extension": ".py",
   "mimetype": "text/x-python",
   "name": "python",
   "nbconvert_exporter": "python",
   "pygments_lexer": "ipython3",
   "version": "3.6.5"
  }
 },
 "nbformat": 4,
 "nbformat_minor": 2
}
