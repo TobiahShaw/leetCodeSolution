{
 "cells": [
  {
   "cell_type": "markdown",
   "metadata": {},
   "source": [
    "# 同构字符串\n",
    "\n",
    "**题目来源：力扣（LeetCode）**\n",
    "\n",
    "**链接：https://leetcode-cn.com/problems/isomorphic-strings/**\n",
    "\n",
    "## 一、题目\n",
    "\n",
    "给定两个字符串 s 和 t，判断它们是否是同构的。\n",
    "\n",
    "如果 s 中的字符可以被替换得到 t ，那么这两个字符串是同构的。\n",
    "\n",
    "所有出现的字符都必须用另一个字符替换，同时保留字符的顺序。两个字符不能映射到同一个字符上，但字符可以映射自己本身。\n",
    "\n",
    "## 二、示例\n",
    "\n",
    "### 示例 1：\n",
    "\n",
    "输入: s = \"egg\", t = \"add\"\n",
    "\n",
    "输出: true\n",
    "\n",
    "### 示例 2:\n",
    "\n",
    "输入: s = \"foo\", t = \"bar\"\n",
    "\n",
    "输出: false\n",
    "\n",
    "### 示例 3:\n",
    "\n",
    "输入: s = \"paper\", t = \"title\"\n",
    "\n",
    "输出: true\n",
    "\n",
    "## 三、解题思路\n",
    "\n",
    "### 记录相对位置"
   ]
  },
  {
   "cell_type": "code",
   "execution_count": 1,
   "metadata": {},
   "outputs": [],
   "source": [
    "def isIsomorphic(s: str, t: str) -> bool:\n",
    "    n, m = len(s), len(t)\n",
    "    if n != m:\n",
    "        return False\n",
    "    dicS, dicT, arrS, arrT = {}, {}, [], []\n",
    "    for i in range(n):\n",
    "        if s[i] not in dicS:\n",
    "            dicS[s[i]] = len(arrS) - 1\n",
    "        arrS.append(dicS[s[i]])\n",
    "        if t[i] not in dicT:\n",
    "            dicT[t[i]] = len(arrT) - 1\n",
    "        arrT.append(dicT[t[i]])\n",
    "    return arrS == arrT"
   ]
  },
  {
   "cell_type": "code",
   "execution_count": 2,
   "metadata": {},
   "outputs": [
    {
     "data": {
      "text/plain": [
       "True"
      ]
     },
     "execution_count": 2,
     "metadata": {},
     "output_type": "execute_result"
    }
   ],
   "source": [
    "isIsomorphic(s = \"egg\", t = \"add\")"
   ]
  },
  {
   "cell_type": "code",
   "execution_count": 3,
   "metadata": {},
   "outputs": [
    {
     "data": {
      "text/plain": [
       "False"
      ]
     },
     "execution_count": 3,
     "metadata": {},
     "output_type": "execute_result"
    }
   ],
   "source": [
    "isIsomorphic(s = \"foo\", t = \"bar\")"
   ]
  },
  {
   "cell_type": "code",
   "execution_count": 4,
   "metadata": {},
   "outputs": [
    {
     "data": {
      "text/plain": [
       "True"
      ]
     },
     "execution_count": 4,
     "metadata": {},
     "output_type": "execute_result"
    }
   ],
   "source": [
    "isIsomorphic(s = \"paper\", t = \"title\")"
   ]
  },
  {
   "cell_type": "code",
   "execution_count": null,
   "metadata": {},
   "outputs": [],
   "source": []
  }
 ],
 "metadata": {
  "kernelspec": {
   "display_name": "Python 3",
   "language": "python",
   "name": "python3"
  },
  "language_info": {
   "codemirror_mode": {
    "name": "ipython",
    "version": 3
   },
   "file_extension": ".py",
   "mimetype": "text/x-python",
   "name": "python",
   "nbconvert_exporter": "python",
   "pygments_lexer": "ipython3",
   "version": "3.6.5"
  }
 },
 "nbformat": 4,
 "nbformat_minor": 2
}
