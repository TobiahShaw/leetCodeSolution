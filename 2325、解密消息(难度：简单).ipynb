{
 "cells": [
  {
   "cell_type": "markdown",
   "id": "8845cbb3",
   "metadata": {},
   "source": [
    "# 解密消息\n",
    "\n",
    "**题目来源：力扣（LeetCode）**\n",
    "\n",
    "**链接：https://leetcode.cn/problems/decode-the-message/**\n",
    "\n",
    "## 一、题目\n",
    "\n",
    "给你字符串 key 和 message ，分别表示一个加密密钥和一段加密消息。解密 message 的步骤如下：\n",
    "\n",
    "使用 key 中 26 个英文小写字母第一次出现的顺序作为替换表中的字母 顺序 。\n",
    "\n",
    "将替换表与普通英文字母表对齐，形成对照表。\n",
    "\n",
    "按照对照表 替换 message 中的每个字母。\n",
    "\n",
    "空格 ' ' 保持不变。\n",
    "\n",
    "- 例如，key = \"happy boy\"（实际的加密密钥会包含字母表中每个字母 至少一次），据此，可以得到部分对照表（'h' -> 'a'、'a' -> 'b'、'p' -> 'c'、'y' -> 'd'、'b' -> 'e'、'o' -> 'f'）。\n",
    "\n",
    "返回解密后的消息。\n",
    "\n",
    "### 提示：\n",
    "\n",
    "- 26 <= key.length <= 2000\n",
    "- key 由小写英文字母及 ' ' 组成\n",
    "- key 包含英文字母表中每个字符（'a' 到 'z'）至少一次\n",
    "- 1 <= message.length <= 2000\n",
    "- message 由小写英文字母和 ' ' 组成\n",
    "\n",
    "## 二、示例\n",
    "\n",
    "### 示例 1：\n",
    "\n",
    "输入：key = \"the quick brown fox jumps over the lazy dog\", message = \"vkbs bs t suepuv\"\n",
    "\n",
    "输出：\"this is a secret\"\n",
    "\n",
    "解释：提取 \"the quick brown fox jumps over the lazy dog\" 中每个字母的首次出现可以得到替换表。\n",
    "\n",
    "### 示例 2：\n",
    "\n",
    "输入：key = \"eljuxhpwnyrdgtqkviszcfmabo\", message = \"zwx hnfx lqantp mnoeius ycgk vcnjrdb\"\n",
    "\n",
    "输出：\"the five boxing wizards jump quickly\"\n",
    "\n",
    "解释：提取 \"eljuxhpwnyrdgtqkviszcfmabo\" 中每个字母的首次出现可以得到替换表。\n",
    "\n",
    "## 三、解题思路\n",
    "\n",
    "### 模拟过程"
   ]
  },
  {
   "cell_type": "code",
   "execution_count": 1,
   "id": "5a3dd260",
   "metadata": {},
   "outputs": [],
   "source": [
    "class Solution:\n",
    "    def decodeMessage(self, key: str, message: str) -> str:\n",
    "        cur = \"a\"\n",
    "        rules = {}\n",
    "\n",
    "        for c in key:\n",
    "            if c != \" \" and c not in rules:\n",
    "                rules[c] = cur\n",
    "                cur = chr(ord(cur) + 1)\n",
    "\n",
    "        return \"\".join(rules.get(c, \" \") for c in message) "
   ]
  },
  {
   "cell_type": "code",
   "execution_count": 2,
   "id": "71467977",
   "metadata": {},
   "outputs": [
    {
     "data": {
      "text/plain": [
       "'this is a secret'"
      ]
     },
     "execution_count": 2,
     "metadata": {},
     "output_type": "execute_result"
    }
   ],
   "source": [
    "s = Solution()\n",
    "s.decodeMessage(key = \"the quick brown fox jumps over the lazy dog\", message = \"vkbs bs t suepuv\")"
   ]
  },
  {
   "cell_type": "code",
   "execution_count": 3,
   "id": "268569cd",
   "metadata": {},
   "outputs": [
    {
     "data": {
      "text/plain": [
       "'the five boxing wizards jump quickly'"
      ]
     },
     "execution_count": 3,
     "metadata": {},
     "output_type": "execute_result"
    }
   ],
   "source": [
    "s.decodeMessage(key = \"eljuxhpwnyrdgtqkviszcfmabo\", message = \"zwx hnfx lqantp mnoeius ycgk vcnjrdb\")"
   ]
  },
  {
   "cell_type": "code",
   "execution_count": null,
   "id": "7ceb2165",
   "metadata": {},
   "outputs": [],
   "source": []
  }
 ],
 "metadata": {
  "kernelspec": {
   "display_name": "Python 3 (ipykernel)",
   "language": "python",
   "name": "python3"
  },
  "language_info": {
   "codemirror_mode": {
    "name": "ipython",
    "version": 3
   },
   "file_extension": ".py",
   "mimetype": "text/x-python",
   "name": "python",
   "nbconvert_exporter": "python",
   "pygments_lexer": "ipython3",
   "version": "3.11.0"
  }
 },
 "nbformat": 4,
 "nbformat_minor": 5
}
