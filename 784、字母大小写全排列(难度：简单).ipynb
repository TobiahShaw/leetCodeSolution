{
  "cells": [
    {
      "metadata": {
        "collapsed": true
      },
      "cell_type": "markdown",
      "source": "# 字母大小写全排列\n\n**题目来源：力扣（LeetCode）**\n\n**链接：https://leetcode-cn.com/problems/letter-case-permutation/**\n\n## 一、题目\n\n给定一个字符串S，通过将字符串S中的每个字母转变大小写，我们可以获得一个新的字符串。返回所有可能得到的字符串集合。\n\n## 二、示例\n\n### 示例1:\n\n输入: S = \"a1b2\"\n\n输出: [\"a1b2\", \"a1B2\", \"A1b2\", \"A1B2\"]\n\n### 示例2:\n\n输入: S = \"3z4\"\n\n输出: [\"3z4\", \"3Z4\"]\n\n### 示例3:\n\n输入: S = \"12345\"\n\n输出: [\"12345\"]\n\n## 三、解题思路\n\n### 回溯法"
    },
    {
      "metadata": {
        "trusted": true
      },
      "cell_type": "code",
      "source": "def letterCasePermutation(S):\n    n = len(S)\n    def generator(item, i, result):\n        if i == n:\n            result.append(item)\n            return\n        if S[i].isdigit():\n            generator(item + S[i], i + 1, result)\n        else:\n            generator(item + S[i].upper(), i + 1, result)\n            generator(item + S[i].lower(), i + 1, result)\n    result = []\n    generator(\"\", 0, result)\n    return result",
      "execution_count": 1,
      "outputs": []
    },
    {
      "metadata": {
        "trusted": true
      },
      "cell_type": "code",
      "source": "letterCasePermutation(\"a1b2\")",
      "execution_count": 2,
      "outputs": [
        {
          "output_type": "execute_result",
          "execution_count": 2,
          "data": {
            "text/plain": "['A1B2', 'A1b2', 'a1B2', 'a1b2']"
          },
          "metadata": {}
        }
      ]
    },
    {
      "metadata": {
        "trusted": true
      },
      "cell_type": "code",
      "source": "letterCasePermutation(\"3z4\")",
      "execution_count": 3,
      "outputs": [
        {
          "output_type": "execute_result",
          "execution_count": 3,
          "data": {
            "text/plain": "['3Z4', '3z4']"
          },
          "metadata": {}
        }
      ]
    },
    {
      "metadata": {
        "trusted": true
      },
      "cell_type": "code",
      "source": "letterCasePermutation(\"12345\")",
      "execution_count": 4,
      "outputs": [
        {
          "output_type": "execute_result",
          "execution_count": 4,
          "data": {
            "text/plain": "['12345']"
          },
          "metadata": {}
        }
      ]
    }
  ],
  "metadata": {
    "kernelspec": {
      "name": "python36",
      "display_name": "Python 3.6",
      "language": "python"
    },
    "language_info": {
      "mimetype": "text/x-python",
      "nbconvert_exporter": "python",
      "name": "python",
      "pygments_lexer": "ipython3",
      "version": "3.6.6",
      "file_extension": ".py",
      "codemirror_mode": {
        "version": 3,
        "name": "ipython"
      }
    }
  },
  "nbformat": 4,
  "nbformat_minor": 2
}