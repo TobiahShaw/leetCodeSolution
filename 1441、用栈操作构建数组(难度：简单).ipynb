{
  "cells": [
    {
      "metadata": {
        "collapsed": true
      },
      "cell_type": "markdown",
      "source": "# 用栈操作构建数组\n\n**题目来源：力扣（LeetCode）**\n\n**链接：https://leetcode-cn.com/problems/build-an-array-with-stack-operations/**\n\n## 一、题目\n\n给你一个目标数组 target 和一个整数 n。每次迭代，需要从  list = {1,2,3..., n} 中依序读取一个数字。\n\n请使用下述操作来构建目标数组 target ：\n\n- Push：从 list 中读取一个新元素， 并将其推入数组中。\n- Pop：删除数组中的最后一个元素。\n- 如果目标数组构建完成，就停止读取更多元素。\n\n题目数据保证目标数组严格递增，并且只包含 1 到 n 之间的数字。\n\n请返回构建目标数组所用的操作序列。\n\n题目数据保证答案是唯一的。\n\n## 二、示例\n\n### 示例 1：\n\n输入：target = [1,3], n = 3\n\n输出：[\"Push\",\"Push\",\"Pop\",\"Push\"]\n\n解释： \n\n读取 1 并自动推入数组 -> [1]\n\n读取 2 并自动推入数组，然后删除它 -> [1]\n\n读取 3 并自动推入数组 -> [1,3]\n\n### 示例 2：\n\n输入：target = [1,2,3], n = 3\n\n输出：[\"Push\",\"Push\",\"Push\"]\n\n### 示例 3：\n\n输入：target = [1,2], n = 4\n\n输出：[\"Push\",\"Push\"]\n\n解释：只需要读取前 2 个数字就可以停止。\n\n### 示例 4：\n\n输入：target = [2,3,4], n = 4\n\n输出：[\"Push\",\"Pop\",\"Push\",\"Push\",\"Push\"]\n\n## 三、解题思路\n\n### 一次遍历"
    },
    {
      "metadata": {
        "trusted": true
      },
      "cell_type": "code",
      "source": "def buildArray(target, n):\n    ret = []\n    tarIndex = 0\n    for i in range(1, n+1):\n        if tarIndex == len(target):\n            break\n        if i == target[tarIndex]:\n            ret.append(\"Push\")\n            tarIndex += 1\n        else:\n            ret.append(\"Push\")\n            ret.append(\"Pop\")\n    return ret",
      "execution_count": 1,
      "outputs": []
    },
    {
      "metadata": {
        "trusted": true
      },
      "cell_type": "code",
      "source": "buildArray(target = [1,3], n = 3)",
      "execution_count": 2,
      "outputs": [
        {
          "output_type": "execute_result",
          "execution_count": 2,
          "data": {
            "text/plain": "['Push', 'Push', 'Pop', 'Push']"
          },
          "metadata": {}
        }
      ]
    },
    {
      "metadata": {
        "trusted": true
      },
      "cell_type": "code",
      "source": "buildArray(target = [1,2,3], n = 3)",
      "execution_count": 3,
      "outputs": [
        {
          "output_type": "execute_result",
          "execution_count": 3,
          "data": {
            "text/plain": "['Push', 'Push', 'Push']"
          },
          "metadata": {}
        }
      ]
    },
    {
      "metadata": {
        "trusted": true
      },
      "cell_type": "code",
      "source": "buildArray(target = [1,2], n = 4)",
      "execution_count": 4,
      "outputs": [
        {
          "output_type": "execute_result",
          "execution_count": 4,
          "data": {
            "text/plain": "['Push', 'Push']"
          },
          "metadata": {}
        }
      ]
    },
    {
      "metadata": {
        "trusted": true
      },
      "cell_type": "code",
      "source": "buildArray(target = [2,3,4], n = 4)",
      "execution_count": 5,
      "outputs": [
        {
          "output_type": "execute_result",
          "execution_count": 5,
          "data": {
            "text/plain": "['Push', 'Pop', 'Push', 'Push', 'Push']"
          },
          "metadata": {}
        }
      ]
    },
    {
      "metadata": {
        "trusted": true
      },
      "cell_type": "code",
      "source": "",
      "execution_count": null,
      "outputs": []
    }
  ],
  "metadata": {
    "kernelspec": {
      "name": "python36",
      "display_name": "Python 3.6",
      "language": "python"
    },
    "language_info": {
      "mimetype": "text/x-python",
      "nbconvert_exporter": "python",
      "name": "python",
      "pygments_lexer": "ipython3",
      "version": "3.6.6",
      "file_extension": ".py",
      "codemirror_mode": {
        "version": 3,
        "name": "ipython"
      }
    }
  },
  "nbformat": 4,
  "nbformat_minor": 2
}