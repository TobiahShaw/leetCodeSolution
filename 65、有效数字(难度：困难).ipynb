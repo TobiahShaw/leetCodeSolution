{
 "cells": [
  {
   "cell_type": "markdown",
   "metadata": {},
   "source": [
    "# 有效数字\n",
    "\n",
    "**题目来源：力扣（LeetCode）**\n",
    "\n",
    "**链接：https://leetcode-cn.com/problems/valid-number/**\n",
    "\n",
    "## 一、题目\n",
    "\n",
    "有效数字（按顺序）可以分成以下几个部分：\n",
    "\n",
    "- 一个 小数 或者 整数\n",
    "- （可选）一个 'e' 或 'E' ，后面跟着一个 整数\n",
    "小数（按顺序）可以分成以下几个部分：\n",
    "\n",
    "- （可选）一个符号字符（'+' 或 '-'）\n",
    "- 下述格式之一：\n",
    "    - 至少一位数字，后面跟着一个点 '.'\n",
    "    - 至少一位数字，后面跟着一个点 '.' ，后面再跟着至少一位数字\n",
    "    - 一个点 '.' ，后面跟着至少一位数字\n",
    "整数（按顺序）可以分成以下几个部分：\n",
    "\n",
    "- （可选）一个符号字符（'+' 或 '-'）\n",
    "- 至少一位数字\n",
    "\n",
    "部分有效数字列举如下：\n",
    "\n",
    "[\"2\", \"0089\", \"-0.1\", \"+3.14\", \"4.\", \"-.9\", \"2e10\", \"-90E3\", \"3e+7\", \"+6e-1\", \"53.5e93\", \"-123.456e789\"]\n",
    "\n",
    "部分无效数字列举如下：\n",
    "\n",
    "[\"abc\", \"1a\", \"1e\", \"e3\", \"99e2.5\", \"--6\", \"-+3\", \"95a54e53\"]\n",
    "\n",
    "给你一个字符串 s ，如果 s 是一个 有效数字 ，请返回 true 。\n",
    "\n",
    "### 提示：\n",
    "\n",
    "- 1 <= s.length <= 20\n",
    "- s 仅含英文字母（大写和小写），数字（0-9），加号 '+' ，减号 '-' ，或者点 '.' 。\n",
    "\n",
    "## 二、示例\n",
    "\n",
    "### 示例 1：\n",
    "\n",
    "输入：s = \"0\"\n",
    "\n",
    "输出：true\n",
    "\n",
    "### 示例 2：\n",
    "\n",
    "输入：s = \"e\"\n",
    "\n",
    "输出：false\n",
    "\n",
    "### 示例 3：\n",
    "\n",
    "输入：s = \".\"\n",
    "\n",
    "输出：false\n",
    "\n",
    "### 示例 4：\n",
    "\n",
    "输入：s = \".1\"\n",
    "\n",
    "输出：true\n",
    "\n",
    "## 三、解题思路\n",
    "\n",
    "### 模拟过程"
   ]
  },
  {
   "cell_type": "code",
   "execution_count": 1,
   "metadata": {},
   "outputs": [],
   "source": [
    "def isNumber(s: str) -> bool:\n",
    "    legalCh = {\"0\", \"1\", \"2\", \"3\", \"4\", \"5\", \"6\", \"7\", \"8\", \"9\", \"e\", \"E\", \".\", \"+\", \"-\"}\n",
    "    def isInt(num):\n",
    "        if num[0] == \"+\" or num[0] == \"-\":\n",
    "            if len(num) == 1:\n",
    "                return False\n",
    "            return num[1:].isdigit()\n",
    "        return num.isdigit()\n",
    "    def isFloat(num):\n",
    "        if num[0] == \"+\" or num[0] == \"-\":\n",
    "            if len(num) == 1:\n",
    "                return False\n",
    "            num = num[1:]\n",
    "        if num[0] == \".\":\n",
    "            if len(num) == 1:\n",
    "                return False\n",
    "            return num[1:].isdigit()\n",
    "        spArr = num.split(\".\")\n",
    "        if len(spArr) > 2:\n",
    "            return False\n",
    "        if len(spArr) == 2:\n",
    "            return isInt(spArr[0]) and (spArr[1] == \"\" or isInt(spArr[1]))\n",
    "        return isInt(spArr[0])\n",
    "    splitArr = []\n",
    "    cur = []\n",
    "    hasE = False\n",
    "    for ch in s:\n",
    "        if ch not in legalCh:\n",
    "            return False\n",
    "        if ch == \"e\" or ch == \"E\":\n",
    "            if hasE:\n",
    "                return False\n",
    "            hasE = True\n",
    "            if cur:\n",
    "                splitArr.append(\"\".join(cur))\n",
    "            elif not splitArr:\n",
    "                return False\n",
    "            cur.clear()\n",
    "            continue\n",
    "        cur.append(ch)\n",
    "    if cur:\n",
    "        splitArr.append(\"\".join(cur))\n",
    "        cur.clear()\n",
    "    elif hasE:\n",
    "        return False\n",
    "    if not splitArr or len(splitArr) > 2:\n",
    "        return False\n",
    "    if len(splitArr) == 1:\n",
    "        return isInt(splitArr[0]) or isFloat(splitArr[0])\n",
    "    return (isInt(splitArr[0]) or isFloat(splitArr[0])) and isInt(splitArr[1])"
   ]
  },
  {
   "cell_type": "code",
   "execution_count": 2,
   "metadata": {},
   "outputs": [
    {
     "data": {
      "text/plain": [
       "True"
      ]
     },
     "execution_count": 2,
     "metadata": {},
     "output_type": "execute_result"
    }
   ],
   "source": [
    "isNumber(\"0\")"
   ]
  },
  {
   "cell_type": "code",
   "execution_count": 3,
   "metadata": {},
   "outputs": [
    {
     "data": {
      "text/plain": [
       "False"
      ]
     },
     "execution_count": 3,
     "metadata": {},
     "output_type": "execute_result"
    }
   ],
   "source": [
    "isNumber(\"e\")"
   ]
  },
  {
   "cell_type": "code",
   "execution_count": 4,
   "metadata": {},
   "outputs": [
    {
     "data": {
      "text/plain": [
       "False"
      ]
     },
     "execution_count": 4,
     "metadata": {},
     "output_type": "execute_result"
    }
   ],
   "source": [
    "isNumber(\".\")"
   ]
  },
  {
   "cell_type": "code",
   "execution_count": 5,
   "metadata": {},
   "outputs": [
    {
     "data": {
      "text/plain": [
       "True"
      ]
     },
     "execution_count": 5,
     "metadata": {},
     "output_type": "execute_result"
    }
   ],
   "source": [
    "isNumber(\".1\")"
   ]
  },
  {
   "cell_type": "code",
   "execution_count": null,
   "metadata": {},
   "outputs": [],
   "source": []
  }
 ],
 "metadata": {
  "kernelspec": {
   "display_name": "Python 3",
   "language": "python",
   "name": "python3"
  },
  "language_info": {
   "codemirror_mode": {
    "name": "ipython",
    "version": 3
   },
   "file_extension": ".py",
   "mimetype": "text/x-python",
   "name": "python",
   "nbconvert_exporter": "python",
   "pygments_lexer": "ipython3",
   "version": "3.6.5"
  }
 },
 "nbformat": 4,
 "nbformat_minor": 2
}
