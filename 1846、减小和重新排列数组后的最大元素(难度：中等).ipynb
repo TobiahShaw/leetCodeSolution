{
 "cells": [
  {
   "cell_type": "markdown",
   "metadata": {},
   "source": [
    "# 减小和重新排列数组后的最大元素\n",
    "\n",
    "**题目来源：力扣（LeetCode）**\n",
    "\n",
    "**链接：https://leetcode-cn.com/problems/maximum-element-after-decreasing-and-rearranging/**\n",
    "\n",
    "## 一、题目\n",
    "\n",
    "给你一个正整数数组 arr 。请你对 arr 执行一些操作（也可以不进行任何操作），使得数组满足以下条件：\n",
    "\n",
    "- arr 中 第一个 元素必须为 1 。\n",
    "- 任意相邻两个元素的差的绝对值 小于等于 1 ，也就是说，对于任意的 1 <= i < arr.length （数组下标从 0 开始），都满足 abs(arr[i] - arr[i - 1]) <= 1 。abs(x) 为 x 的绝对值。\n",
    "\n",
    "你可以执行以下 2 种操作任意次：\n",
    "\n",
    "- 减小 arr 中任意元素的值，使其变为一个 更小的正整数 。\n",
    "- 重新排列 arr 中的元素，你可以以任意顺序重新排列。\n",
    "\n",
    "请你返回执行以上操作后，在满足前文所述的条件下，arr 中可能的 最大值 。\n",
    "\n",
    "## 二、示例\n",
    "\n",
    "### 示例 1：\n",
    "\n",
    "输入：arr = [2,2,1,2,1]\n",
    "\n",
    "输出：2\n",
    "\n",
    "解释：\n",
    "\n",
    "我们可以重新排列 arr 得到 [1,2,2,2,1] ，该数组满足所有条件。arr 中最大元素为 2 。\n",
    "\n",
    "### 示例 2：\n",
    "\n",
    "输入：arr = [100,1,1000]\n",
    "\n",
    "输出：3\n",
    "\n",
    "解释：\n",
    "\n",
    "一个可行的方案如下：\n",
    "\n",
    "1. 重新排列 arr 得到 [1,100,1000] 。\n",
    "2. 将第二个元素减小为 2 。\n",
    "3. 将第三个元素减小为 3 。\n",
    "\n",
    "现在 arr = [1,2,3] ，满足所有条件。arr 中最大元素为 3 。\n",
    "\n",
    "### 示例 3：\n",
    "\n",
    "输入：arr = [1,2,3,4,5]\n",
    "\n",
    "输出：5\n",
    "\n",
    "解释：数组已经满足所有条件，最大元素为 5 。\n",
    "\n",
    "## 三、解题思路\n",
    "\n",
    "### 贪心\n",
    "\n",
    "求最大值，理想情况下，相邻两数，只要 后数 = 前数 + 1，最后数即最大值\n",
    "\n",
    "题目限制数只能减小，可能存在数组中没有数 >= 前数 + 1 的情况\n",
    "\n",
    "局部最优解：后数 = min( 后数, 前数 + 1 )"
   ]
  },
  {
   "cell_type": "code",
   "execution_count": 1,
   "metadata": {},
   "outputs": [],
   "source": [
    "def maximumElementAfterDecrementingAndRearranging(arr) -> int:\n",
    "    arr.sort()\n",
    "    ret = [1]\n",
    "    for i in range(1, len(arr)):\n",
    "        ret.append(min(arr[i], ret[i-1] + 1))\n",
    "    return ret[-1]"
   ]
  },
  {
   "cell_type": "code",
   "execution_count": 2,
   "metadata": {},
   "outputs": [
    {
     "data": {
      "text/plain": [
       "2"
      ]
     },
     "execution_count": 2,
     "metadata": {},
     "output_type": "execute_result"
    }
   ],
   "source": [
    "maximumElementAfterDecrementingAndRearranging([2,2,1,2,1])"
   ]
  },
  {
   "cell_type": "code",
   "execution_count": 3,
   "metadata": {},
   "outputs": [
    {
     "data": {
      "text/plain": [
       "3"
      ]
     },
     "execution_count": 3,
     "metadata": {},
     "output_type": "execute_result"
    }
   ],
   "source": [
    "maximumElementAfterDecrementingAndRearranging([100,1,1000])"
   ]
  },
  {
   "cell_type": "code",
   "execution_count": 4,
   "metadata": {},
   "outputs": [
    {
     "data": {
      "text/plain": [
       "5"
      ]
     },
     "execution_count": 4,
     "metadata": {},
     "output_type": "execute_result"
    }
   ],
   "source": [
    "maximumElementAfterDecrementingAndRearranging([1,2,3,4,5])"
   ]
  },
  {
   "cell_type": "code",
   "execution_count": null,
   "metadata": {},
   "outputs": [],
   "source": []
  }
 ],
 "metadata": {
  "kernelspec": {
   "display_name": "Python 3",
   "language": "python",
   "name": "python3"
  },
  "language_info": {
   "codemirror_mode": {
    "name": "ipython",
    "version": 3
   },
   "file_extension": ".py",
   "mimetype": "text/x-python",
   "name": "python",
   "nbconvert_exporter": "python",
   "pygments_lexer": "ipython3",
   "version": "3.6.5"
  }
 },
 "nbformat": 4,
 "nbformat_minor": 2
}
