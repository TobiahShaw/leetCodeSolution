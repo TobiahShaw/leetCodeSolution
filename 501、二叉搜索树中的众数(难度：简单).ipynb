{
 "cells": [
  {
   "cell_type": "markdown",
   "metadata": {},
   "source": [
    "# 二叉搜索树中的众数\n",
    "\n",
    "**题目来源：力扣（LeetCode）**\n",
    "\n",
    "**链接：https://leetcode-cn.com/problems/find-mode-in-binary-search-tree/**\n",
    "\n",
    "## 一、题目\n",
    "\n",
    "给定一个有相同值的二叉搜索树（BST），找出 BST 中的所有众数（出现频率最高的元素）。\n",
    "\n",
    "假定 BST 有如下定义：\n",
    "\n",
    "- 结点左子树中所含结点的值小于等于当前结点的值\n",
    "- 结点右子树中所含结点的值大于等于当前结点的值\n",
    "- 左子树和右子树都是二叉搜索树\n",
    "\n",
    "## 二、示例\n",
    "\n",
    "给定 BST [1,null,2,2],\n",
    "\n",
    "```\n",
    "   1\n",
    "    \\\n",
    "     2\n",
    "    /\n",
    "   2\n",
    "```\n",
    "\n",
    "返回[2].\n",
    "\n",
    "提示：如果众数超过1个，不需考虑输出顺序\n",
    "\n",
    "进阶：你可以不使用额外的空间吗？（假设由递归产生的隐式调用栈的开销不被计算在内）\n",
    "\n",
    "## 三、解题思路"
   ]
  },
  {
   "cell_type": "code",
   "execution_count": 1,
   "metadata": {},
   "outputs": [],
   "source": [
    "class TreeNode:\n",
    "    def __init__(self, x):\n",
    "        self.val = x\n",
    "        self.left = None\n",
    "        self.right = None"
   ]
  },
  {
   "cell_type": "code",
   "execution_count": 2,
   "metadata": {},
   "outputs": [],
   "source": [
    "root = TreeNode(1)\n",
    "\n",
    "root.right = TreeNode(2)\n",
    "root.right.left = TreeNode(2)"
   ]
  },
  {
   "cell_type": "markdown",
   "metadata": {},
   "source": [
    "### 深度优先遍历"
   ]
  },
  {
   "cell_type": "code",
   "execution_count": 3,
   "metadata": {},
   "outputs": [],
   "source": [
    "def findMode(root: TreeNode):\n",
    "    group = {}\n",
    "    maxCount = 0\n",
    "    def dfs(node):\n",
    "        nonlocal group\n",
    "        nonlocal maxCount\n",
    "        if not node:\n",
    "            return\n",
    "        if node.val in group:\n",
    "            group[node.val] += 1\n",
    "        else:\n",
    "            group[node.val] = 1\n",
    "        maxCount = max(maxCount, group[node.val])\n",
    "        dfs(node.left)\n",
    "        dfs(node.right)\n",
    "    dfs(root)\n",
    "    ret = []\n",
    "    for key in group.keys():\n",
    "        if group[key] == maxCount:\n",
    "            ret.append(key)\n",
    "    return ret"
   ]
  },
  {
   "cell_type": "code",
   "execution_count": 4,
   "metadata": {},
   "outputs": [
    {
     "data": {
      "text/plain": [
       "[2]"
      ]
     },
     "execution_count": 4,
     "metadata": {},
     "output_type": "execute_result"
    }
   ],
   "source": [
    "findMode(root)"
   ]
  },
  {
   "cell_type": "code",
   "execution_count": null,
   "metadata": {},
   "outputs": [],
   "source": []
  }
 ],
 "metadata": {
  "kernelspec": {
   "display_name": "Python 3",
   "language": "python",
   "name": "python3"
  },
  "language_info": {
   "codemirror_mode": {
    "name": "ipython",
    "version": 3
   },
   "file_extension": ".py",
   "mimetype": "text/x-python",
   "name": "python",
   "nbconvert_exporter": "python",
   "pygments_lexer": "ipython3",
   "version": "3.6.5"
  }
 },
 "nbformat": 4,
 "nbformat_minor": 2
}
