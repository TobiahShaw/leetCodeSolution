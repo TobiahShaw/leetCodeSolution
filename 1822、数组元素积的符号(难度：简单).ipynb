{
 "cells": [
  {
   "cell_type": "markdown",
   "metadata": {},
   "source": [
    "# 数组元素积的符号\n",
    "\n",
    "**题目来源：力扣（LeetCode）**\n",
    "\n",
    "**链接：https://leetcode-cn.com/problems/sign-of-the-product-of-an-array/**\n",
    "\n",
    "## 一、题目\n",
    "\n",
    "已知函数 signFunc(x) 将会根据 x 的正负返回特定值：\n",
    "\n",
    "- 如果 x 是正数，返回 1 。\n",
    "- 如果 x 是负数，返回 -1 。\n",
    "- 如果 x 是等于 0 ，返回 0 。\n",
    "\n",
    "给你一个整数数组 nums 。令 product 为数组 nums 中所有元素值的乘积。\n",
    "\n",
    "返回 signFunc(product) 。\n",
    "\n",
    "### 提示：\n",
    "\n",
    "- 1 <= nums.length <= 1000\n",
    "- -100 <= nums[i] <= 100\n",
    "\n",
    "## 二、示例\n",
    "\n",
    "### 示例 1：\n",
    "\n",
    "输入：nums = [-1,-2,-3,-4,3,2,1]\n",
    "\n",
    "输出：1\n",
    "\n",
    "解释：数组中所有值的乘积是 144 ，且 signFunc(144) = 1\n",
    "\n",
    "### 示例 2：\n",
    "\n",
    "输入：nums = [1,5,0,2,-3]\n",
    "\n",
    "输出：0\n",
    "\n",
    "解释：数组中所有值的乘积是 0 ，且 signFunc(0) = 0\n",
    "\n",
    "### 示例 3：\n",
    "\n",
    "输入：nums = [-1,1,-1,1,-1]\n",
    "\n",
    "输出：-1\n",
    "\n",
    "解释：数组中所有值的乘积是 -1 ，且 signFunc(-1) = -1\n",
    "\n",
    "## 三、解题思路\n",
    "\n",
    "### 循环"
   ]
  },
  {
   "cell_type": "code",
   "execution_count": 1,
   "metadata": {},
   "outputs": [],
   "source": [
    "def arraySign(nums) -> int:\n",
    "    ret = 1\n",
    "    for n in nums:\n",
    "        if n < 0:\n",
    "            ret *= -1\n",
    "        elif n == 0:\n",
    "            return 0\n",
    "    return ret"
   ]
  },
  {
   "cell_type": "code",
   "execution_count": 2,
   "metadata": {},
   "outputs": [
    {
     "data": {
      "text/plain": [
       "1"
      ]
     },
     "execution_count": 2,
     "metadata": {},
     "output_type": "execute_result"
    }
   ],
   "source": [
    "arraySign([-1,-2,-3,-4,3,2,1])"
   ]
  },
  {
   "cell_type": "code",
   "execution_count": 3,
   "metadata": {},
   "outputs": [
    {
     "data": {
      "text/plain": [
       "0"
      ]
     },
     "execution_count": 3,
     "metadata": {},
     "output_type": "execute_result"
    }
   ],
   "source": [
    "arraySign([1,5,0,2,-3])"
   ]
  },
  {
   "cell_type": "code",
   "execution_count": 4,
   "metadata": {},
   "outputs": [
    {
     "data": {
      "text/plain": [
       "-1"
      ]
     },
     "execution_count": 4,
     "metadata": {},
     "output_type": "execute_result"
    }
   ],
   "source": [
    "arraySign([-1,1,-1,1,-1])"
   ]
  },
  {
   "cell_type": "code",
   "execution_count": null,
   "metadata": {},
   "outputs": [],
   "source": []
  }
 ],
 "metadata": {
  "kernelspec": {
   "display_name": "Python 3",
   "language": "python",
   "name": "python3"
  },
  "language_info": {
   "codemirror_mode": {
    "name": "ipython",
    "version": 3
   },
   "file_extension": ".py",
   "mimetype": "text/x-python",
   "name": "python",
   "nbconvert_exporter": "python",
   "pygments_lexer": "ipython3",
   "version": "3.6.5"
  }
 },
 "nbformat": 4,
 "nbformat_minor": 2
}
