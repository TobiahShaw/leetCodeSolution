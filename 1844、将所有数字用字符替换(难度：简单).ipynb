{
 "cells": [
  {
   "cell_type": "markdown",
   "id": "isolated-stupid",
   "metadata": {},
   "source": [
    "# 将所有数字用字符替换\n",
    "\n",
    "**题目来源：力扣（LeetCode）**\n",
    "\n",
    "**链接：https://leetcode-cn.com/problems/replace-all-digits-with-characters/**\n",
    "\n",
    "## 一、题目\n",
    "\n",
    "给你一个下标从 0 开始的字符串 s ，它的 偶数 下标处为小写英文字母，奇数 下标处为数字。\n",
    "\n",
    "定义一个函数 shift(c, x) ，其中 c 是一个字符且 x 是一个数字，函数返回字母表中 c 后面第 x 个字符。\n",
    "\n",
    "- 比方说，shift('a', 5) = 'f' 和 shift('x', 0) = 'x' 。\n",
    "\n",
    "对于每个 奇数 下标 i ，你需要将数字 s[i] 用 shift(s[i-1], s[i]) 替换。\n",
    "\n",
    "请你替换所有数字以后，将字符串 s 返回。题目 保证 shift(s[i-1], s[i]) 不会超过 'z' 。\n",
    "\n",
    "### 提示：\n",
    "\n",
    "- 1 <= s.length <= 100\n",
    "- s 只包含小写英文字母和数字。\n",
    "- 对所有 奇数 下标处的 i ，满足 shift(s[i-1], s[i]) <= 'z' 。\n",
    "\n",
    "## 二、示例\n",
    "\n",
    "### 示例 1：\n",
    "\n",
    "输入：s = \"a1c1e1\"\n",
    "\n",
    "输出：\"abcdef\"\n",
    "\n",
    "解释：数字被替换结果如下：\n",
    "\n",
    "- s[1] -> shift('a',1) = 'b'\n",
    "- s[3] -> shift('c',1) = 'd'\n",
    "- s[5] -> shift('e',1) = 'f'\n",
    "\n",
    "### 示例 2：\n",
    "\n",
    "输入：s = \"a1b2c3d4e\"\n",
    "\n",
    "输出：\"abbdcfdhe\"\n",
    "\n",
    "解释：数字被替换结果如下：\n",
    "\n",
    "- s[1] -> shift('a',1) = 'b'\n",
    "- s[3] -> shift('b',2) = 'd'\n",
    "- s[5] -> shift('c',3) = 'f'\n",
    "- s[7] -> shift('d',4) = 'h'\n",
    "\n",
    "## 三、解题思路\n",
    "\n",
    "### 循环"
   ]
  },
  {
   "cell_type": "code",
   "execution_count": 1,
   "id": "nearby-glossary",
   "metadata": {},
   "outputs": [],
   "source": [
    "def replaceDigits(s: str) -> str:\n",
    "    ret = []\n",
    "    for ch in s:\n",
    "        if ch.isdigit():\n",
    "            ch = chr(ord(ret[-1]) + int(ch))\n",
    "        ret.append(ch)\n",
    "    return \"\".join(ret)"
   ]
  },
  {
   "cell_type": "code",
   "execution_count": 2,
   "id": "advanced-essence",
   "metadata": {},
   "outputs": [
    {
     "data": {
      "text/plain": [
       "'abcdef'"
      ]
     },
     "execution_count": 2,
     "metadata": {},
     "output_type": "execute_result"
    }
   ],
   "source": [
    "replaceDigits(\"a1c1e1\")"
   ]
  },
  {
   "cell_type": "code",
   "execution_count": 3,
   "id": "permanent-ladder",
   "metadata": {},
   "outputs": [
    {
     "data": {
      "text/plain": [
       "'abbdcfdhe'"
      ]
     },
     "execution_count": 3,
     "metadata": {},
     "output_type": "execute_result"
    }
   ],
   "source": [
    "replaceDigits(\"a1b2c3d4e\")"
   ]
  },
  {
   "cell_type": "code",
   "execution_count": null,
   "id": "funded-riverside",
   "metadata": {},
   "outputs": [],
   "source": []
  }
 ],
 "metadata": {
  "kernelspec": {
   "display_name": "Python 3",
   "language": "python",
   "name": "python3"
  },
  "language_info": {
   "codemirror_mode": {
    "name": "ipython",
    "version": 3
   },
   "file_extension": ".py",
   "mimetype": "text/x-python",
   "name": "python",
   "nbconvert_exporter": "python",
   "pygments_lexer": "ipython3",
   "version": "3.7.10"
  }
 },
 "nbformat": 4,
 "nbformat_minor": 5
}
