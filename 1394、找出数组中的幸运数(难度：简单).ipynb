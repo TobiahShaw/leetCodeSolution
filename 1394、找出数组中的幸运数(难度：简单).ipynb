{
  "cells": [
    {
      "metadata": {
        "collapsed": true
      },
      "cell_type": "markdown",
      "source": "# 找出数组中的幸运数\n\n**题目来源：力扣（LeetCode）**\n\n**链接：https://leetcode-cn.com/problems/find-lucky-integer-in-an-array/**\n\n## 一、题目\n\n在整数数组中，如果一个整数的出现频次和它的数值大小相等，我们就称这个整数为「幸运数」。\n\n给你一个整数数组 arr，请你从中找出并返回一个幸运数。\n\n- 如果数组中存在多个幸运数，只需返回 最大 的那个。\n- 如果数组中不含幸运数，则返回 -1 。\n\n## 二、示例\n\n### 示例 1：\n\n输入：arr = [2,2,3,4]\n\n输出：2\n\n解释：数组中唯一的幸运数是 2 ，因为数值 2 的出现频次也是 2 。\n\n### 示例 2：\n\n输入：arr = [1,2,2,3,3,3]\n\n输出：3\n\n解释：1、2 以及 3 都是幸运数，只需要返回其中最大的 3 。\n\n### 示例 3：\n\n输入：arr = [2,2,2,3,3]\n\n输出：-1\n\n解释：数组中不存在幸运数。\n\n### 示例 4：\n\n输入：arr = [5]\n\n输出：-1\n\n### 示例 5：\n\n输入：arr = [7,7,7,7,7,7,7]\n\n输出：7\n\n## 三、解题思路\n\n### 利用字典\n\n- 遍历数组，以数组元素为key，出现次数为value，建立字典\n- 遍历字典，找到最大的幸运数"
    },
    {
      "metadata": {
        "trusted": true
      },
      "cell_type": "code",
      "source": "def findLucky(arr):\n    group = {}\n    for i in arr:\n        if i in group:\n            group[i] += 1\n        else:\n            group[i] = 1\n    res = -1\n    for key in group.keys():\n        if key > res and key == group[key]:\n            res = key\n    return res",
      "execution_count": 1,
      "outputs": []
    },
    {
      "metadata": {
        "trusted": true
      },
      "cell_type": "code",
      "source": "findLucky([2,2,3,4])",
      "execution_count": 2,
      "outputs": [
        {
          "output_type": "execute_result",
          "execution_count": 2,
          "data": {
            "text/plain": "2"
          },
          "metadata": {}
        }
      ]
    },
    {
      "metadata": {
        "trusted": true
      },
      "cell_type": "code",
      "source": "findLucky([1,2,2,3,3,3])",
      "execution_count": 3,
      "outputs": [
        {
          "output_type": "execute_result",
          "execution_count": 3,
          "data": {
            "text/plain": "3"
          },
          "metadata": {}
        }
      ]
    },
    {
      "metadata": {
        "trusted": true
      },
      "cell_type": "code",
      "source": "findLucky([2,2,2,3,3])",
      "execution_count": 4,
      "outputs": [
        {
          "output_type": "execute_result",
          "execution_count": 4,
          "data": {
            "text/plain": "-1"
          },
          "metadata": {}
        }
      ]
    },
    {
      "metadata": {
        "trusted": true
      },
      "cell_type": "code",
      "source": "findLucky([5])",
      "execution_count": 5,
      "outputs": [
        {
          "output_type": "execute_result",
          "execution_count": 5,
          "data": {
            "text/plain": "-1"
          },
          "metadata": {}
        }
      ]
    },
    {
      "metadata": {
        "trusted": true
      },
      "cell_type": "code",
      "source": "findLucky([7,7,7,7,7,7,7])",
      "execution_count": 6,
      "outputs": [
        {
          "output_type": "execute_result",
          "execution_count": 6,
          "data": {
            "text/plain": "7"
          },
          "metadata": {}
        }
      ]
    },
    {
      "metadata": {
        "trusted": true
      },
      "cell_type": "code",
      "source": "",
      "execution_count": null,
      "outputs": []
    }
  ],
  "metadata": {
    "kernelspec": {
      "name": "python36",
      "display_name": "Python 3.6",
      "language": "python"
    },
    "language_info": {
      "mimetype": "text/x-python",
      "nbconvert_exporter": "python",
      "name": "python",
      "pygments_lexer": "ipython3",
      "version": "3.6.6",
      "file_extension": ".py",
      "codemirror_mode": {
        "version": 3,
        "name": "ipython"
      }
    }
  },
  "nbformat": 4,
  "nbformat_minor": 2
}