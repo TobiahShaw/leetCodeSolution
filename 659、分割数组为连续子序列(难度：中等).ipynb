{
 "cells": [
  {
   "cell_type": "markdown",
   "metadata": {},
   "source": [
    "# 分割数组为连续子序列\n",
    "\n",
    "**题目来源：力扣（LeetCode）**\n",
    "\n",
    "**链接：https://leetcode-cn.com/problems/split-array-into-consecutive-subsequences/**\n",
    "\n",
    "## 一、题目\n",
    "\n",
    "给你一个按升序排序的整数数组 num（可能包含重复数字），请你将它们分割成一个或多个子序列，其中每个子序列都由连续整数组成且长度至少为 3 。\n",
    "\n",
    "如果可以完成上述分割，则返回 true ；否则，返回 false 。\n",
    "\n",
    "## 二、示例\n",
    "\n",
    "### 示例 1：\n",
    "\n",
    "输入: [1,2,3,3,4,5]\n",
    "\n",
    "输出: True\n",
    "\n",
    "解释:\n",
    "\n",
    "你可以分割出这样两个连续子序列 : \n",
    "\n",
    "1, 2, 3\n",
    "\n",
    "3, 4, 5\n",
    "\n",
    "### 示例 2：\n",
    "\n",
    "输入: [1,2,3,3,4,4,5,5]\n",
    "\n",
    "输出: True\n",
    "\n",
    "解释:\n",
    "\n",
    "你可以分割出这样两个连续子序列 : \n",
    "\n",
    "1, 2, 3, 4, 5\n",
    "\n",
    "3, 4, 5\n",
    "\n",
    "### 示例 3：\n",
    "\n",
    "输入: [1,2,3,4,4,5]\n",
    "\n",
    "输出: False\n",
    "\n",
    "## 三、解题思路\n",
    "\n",
    "### 贪心\n",
    "\n",
    "1. 扫描数组\n",
    "2. 扫描所有已产生的子数组的末尾，如果当前数字能接上某个子数组的末尾（由于数组递增，通常只能接上上一个的末尾）则接上\n",
    "3. 如果不行则新增一个子数组，内如是当前数组，继续扫描\n",
    "4. 如果扫描结束后，子序列存在长度小于3的返回false"
   ]
  },
  {
   "cell_type": "code",
   "execution_count": 1,
   "metadata": {},
   "outputs": [],
   "source": [
    "def isPossible(nums) -> bool:\n",
    "    # 存放子序列\n",
    "    subArr = []\n",
    "    for i in nums:\n",
    "        # 遍历子序列\n",
    "        for arr in subArr:\n",
    "            # 子序列尾部可接上\n",
    "            if i == arr[-1] + 1:\n",
    "                arr.append(i)\n",
    "                break\n",
    "        else:\n",
    "            # break 不会走进这个分支，说明没有子数组尾部能接上当前数字，则当前数字作为一个新的子序列放入子序列数组头\n",
    "            # 放头部是因为数组单调递增，如果能接上，没有重复数字就会接上上一个\n",
    "            subArr.insert(0, [i])\n",
    "    # 检测是否存在长度小于3的子序列\n",
    "    for arr in subArr:\n",
    "        if len(arr) < 3:\n",
    "            return False\n",
    "    return True"
   ]
  },
  {
   "cell_type": "code",
   "execution_count": 2,
   "metadata": {},
   "outputs": [
    {
     "data": {
      "text/plain": [
       "True"
      ]
     },
     "execution_count": 2,
     "metadata": {},
     "output_type": "execute_result"
    }
   ],
   "source": [
    "isPossible([1,2,3,3,4,5])"
   ]
  },
  {
   "cell_type": "code",
   "execution_count": 3,
   "metadata": {},
   "outputs": [
    {
     "data": {
      "text/plain": [
       "True"
      ]
     },
     "execution_count": 3,
     "metadata": {},
     "output_type": "execute_result"
    }
   ],
   "source": [
    "isPossible([1,2,3,3,4,4,5,5])"
   ]
  },
  {
   "cell_type": "code",
   "execution_count": 4,
   "metadata": {},
   "outputs": [
    {
     "data": {
      "text/plain": [
       "False"
      ]
     },
     "execution_count": 4,
     "metadata": {},
     "output_type": "execute_result"
    }
   ],
   "source": [
    "isPossible([1,2,3,4,4,5])"
   ]
  },
  {
   "cell_type": "code",
   "execution_count": null,
   "metadata": {},
   "outputs": [],
   "source": []
  }
 ],
 "metadata": {
  "kernelspec": {
   "display_name": "Python 3",
   "language": "python",
   "name": "python3"
  },
  "language_info": {
   "codemirror_mode": {
    "name": "ipython",
    "version": 3
   },
   "file_extension": ".py",
   "mimetype": "text/x-python",
   "name": "python",
   "nbconvert_exporter": "python",
   "pygments_lexer": "ipython3",
   "version": "3.6.5"
  }
 },
 "nbformat": 4,
 "nbformat_minor": 2
}
