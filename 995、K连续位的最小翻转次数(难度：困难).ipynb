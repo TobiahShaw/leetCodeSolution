{
 "cells": [
  {
   "cell_type": "markdown",
   "metadata": {},
   "source": [
    "# K 连续位的最小翻转次数\n",
    "\n",
    "**题目来源：力扣（LeetCode）**\n",
    "\n",
    "**链接：https://leetcode-cn.com/problems/minimum-number-of-k-consecutive-bit-flips/**\n",
    "\n",
    "## 一、题目\n",
    "\n",
    "在仅包含 0 和 1 的数组 A 中，一次 K 位翻转包括选择一个长度为 K 的（连续）子数组，同时将子数组中的每个 0 更改为 1，而每个 1 更改为 0。\n",
    "\n",
    "返回所需的 K 位翻转的最小次数，以便数组没有值为 0 的元素。如果不可能，返回 -1。\n",
    "\n",
    "### 提示：\n",
    "\n",
    "- 1 <= A.length <= 30000\n",
    "- 1 <= K <= A.length\n",
    "\n",
    "## 二、示例\n",
    "\n",
    "### 示例 1：\n",
    "\n",
    "输入：A = [0,1,0], K = 1\n",
    "\n",
    "输出：2\n",
    "\n",
    "解释：先翻转 A[0]，然后翻转 A[2]。\n",
    "\n",
    "### 示例 2：\n",
    "\n",
    "输入：A = [1,1,0], K = 2\n",
    "\n",
    "输出：-1\n",
    "\n",
    "解释：无论我们怎样翻转大小为 2 的子数组，我们都不能使数组变为 [1,1,1]。\n",
    "\n",
    "### 示例 3：\n",
    "\n",
    "输入：A = [0,0,0,1,0,1,1,0], K = 3\n",
    "\n",
    "输出：3\n",
    "\n",
    "解释：\n",
    "\n",
    "翻转 A[0],A[1],A[2]: A变成 [1,1,1,1,0,1,1,0]\n",
    "\n",
    "翻转 A[4],A[5],A[6]: A变成 [1,1,1,1,1,0,0,0]\n",
    "\n",
    "翻转 A[5],A[6],A[7]: A变成 [1,1,1,1,1,1,1,1]\n",
    "\n",
    "## 三、解题思路\n",
    "\n",
    "### 滑动窗口"
   ]
  },
  {
   "cell_type": "code",
   "execution_count": 1,
   "metadata": {},
   "outputs": [],
   "source": [
    "def minKBitFlips(A, K: int) -> int:\n",
    "    n = len(A)\n",
    "    ret, revCnt = 0, 0\n",
    "    for i in range(n):\n",
    "        if i >= K and A[i - K] > 1:\n",
    "            revCnt ^= 1\n",
    "            A[i - K] -= 2\n",
    "        if A[i] == revCnt:\n",
    "            if i + K > n:\n",
    "                return -1\n",
    "            ret += 1\n",
    "            revCnt ^= 1\n",
    "            A[i] += 2\n",
    "    return ret"
   ]
  },
  {
   "cell_type": "code",
   "execution_count": 2,
   "metadata": {},
   "outputs": [
    {
     "data": {
      "text/plain": [
       "2"
      ]
     },
     "execution_count": 2,
     "metadata": {},
     "output_type": "execute_result"
    }
   ],
   "source": [
    "minKBitFlips(A = [0,1,0], K = 1)"
   ]
  },
  {
   "cell_type": "code",
   "execution_count": 3,
   "metadata": {},
   "outputs": [
    {
     "data": {
      "text/plain": [
       "-1"
      ]
     },
     "execution_count": 3,
     "metadata": {},
     "output_type": "execute_result"
    }
   ],
   "source": [
    "minKBitFlips(A = [1,1,0], K = 2)"
   ]
  },
  {
   "cell_type": "code",
   "execution_count": 4,
   "metadata": {},
   "outputs": [
    {
     "data": {
      "text/plain": [
       "3"
      ]
     },
     "execution_count": 4,
     "metadata": {},
     "output_type": "execute_result"
    }
   ],
   "source": [
    "minKBitFlips(A = [0,0,0,1,0,1,1,0], K = 3)"
   ]
  },
  {
   "cell_type": "code",
   "execution_count": null,
   "metadata": {},
   "outputs": [],
   "source": []
  }
 ],
 "metadata": {
  "kernelspec": {
   "display_name": "Python 3",
   "language": "python",
   "name": "python3"
  },
  "language_info": {
   "codemirror_mode": {
    "name": "ipython",
    "version": 3
   },
   "file_extension": ".py",
   "mimetype": "text/x-python",
   "name": "python",
   "nbconvert_exporter": "python",
   "pygments_lexer": "ipython3",
   "version": "3.7.8"
  }
 },
 "nbformat": 4,
 "nbformat_minor": 4
}
