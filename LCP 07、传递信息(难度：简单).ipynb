{
 "cells": [
  {
   "cell_type": "markdown",
   "metadata": {},
   "source": [
    "# 传递信息\n",
    "\n",
    "**题目来源：力扣（LeetCode）**\n",
    "\n",
    "**链接：https://leetcode-cn.com/problems/chuan-di-xin-xi/**\n",
    "\n",
    "## 一、题目\n",
    "\n",
    "小朋友 A 在和 ta 的小伙伴们玩传信息游戏，游戏规则如下：\n",
    "\n",
    "- 有 n 名玩家，所有玩家编号分别为 0 ～ n-1，其中小朋友 A 的编号为 0\n",
    "- 每个玩家都有固定的若干个可传信息的其他玩家（也可能没有）。传信息的关系是单向的（比如 A 可以向 B 传信息，但 B 不能向 A 传信息）。\n",
    "- 每轮信息必须需要传递给另一个人，且信息可重复经过同一个人\n",
    "\n",
    "给定总玩家数 n，以及按 [玩家编号,对应可传递玩家编号] 关系组成的二维数组 relation。返回信息从小 A (编号 0 ) 经过 k 轮传递到编号为 n-1 的小伙伴处的方案数；若不能到达，返回 0。\n",
    "\n",
    "### 限制：\n",
    "\n",
    "- 2 <= n <= 10\n",
    "- 1 <= k <= 5\n",
    "- 1 <= relation.length <= 90, 且 relation[i].length == 2\n",
    "- 0 <= relation[i][0],relation[i][1] < n 且 relation[i][0] != relation[i][1]\n",
    "\n",
    "## 二、示例\n",
    "\n",
    "### 示例 1：\n",
    "\n",
    "输入：n = 5, relation = [[0,2],[2,1],[3,4],[2,3],[1,4],[2,0],[0,4]], k = 3\n",
    "\n",
    "输出：3\n",
    "\n",
    "解释：信息从小 A 编号 0 处开始，经 3 轮传递，到达编号 4。共有 3 种方案，分别是 0->2->0->4， 0->2->1->4， 0->2->3->4。\n",
    "\n",
    "### 示例 2：\n",
    "\n",
    "输入：n = 3, relation = [[0,2],[2,1]], k = 2\n",
    "\n",
    "输出：0\n",
    "\n",
    "解释：信息不能从小 A 处经过 2 轮传递到编号 2\n",
    "\n",
    "## 三、解题思路\n",
    "\n",
    "### 深度优先搜索"
   ]
  },
  {
   "cell_type": "code",
   "execution_count": 1,
   "metadata": {},
   "outputs": [],
   "source": [
    "def numWays(n: int, relation, k: int) -> int:\n",
    "    dic = {}\n",
    "    for p in relation:\n",
    "        if p[0] in dic:\n",
    "            dic[p[0]].add(p[1])\n",
    "        else:\n",
    "            dic[p[0]] = {p[1]}\n",
    "    ret = 0\n",
    "    def dfs(cur,k):\n",
    "        nonlocal ret\n",
    "        if k == 0 and cur == n - 1:\n",
    "            ret += 1\n",
    "            return\n",
    "        if k == 0 or cur not in dic:\n",
    "            return\n",
    "        for nxt in dic[cur]:\n",
    "            dfs(nxt, k-1)\n",
    "    dfs(0, k)\n",
    "    return ret"
   ]
  },
  {
   "cell_type": "code",
   "execution_count": 2,
   "metadata": {},
   "outputs": [
    {
     "data": {
      "text/plain": [
       "3"
      ]
     },
     "execution_count": 2,
     "metadata": {},
     "output_type": "execute_result"
    }
   ],
   "source": [
    "numWays(n = 5, relation = [[0,2],[2,1],[3,4],[2,3],[1,4],[2,0],[0,4]], k = 3)"
   ]
  },
  {
   "cell_type": "code",
   "execution_count": 3,
   "metadata": {},
   "outputs": [
    {
     "data": {
      "text/plain": [
       "0"
      ]
     },
     "execution_count": 3,
     "metadata": {},
     "output_type": "execute_result"
    }
   ],
   "source": [
    "numWays(n = 3, relation = [[0,2],[2,1]], k = 2)"
   ]
  },
  {
   "cell_type": "code",
   "execution_count": null,
   "metadata": {},
   "outputs": [],
   "source": []
  }
 ],
 "metadata": {
  "kernelspec": {
   "display_name": "Python 3",
   "language": "python",
   "name": "python3"
  },
  "language_info": {
   "codemirror_mode": {
    "name": "ipython",
    "version": 3
   },
   "file_extension": ".py",
   "mimetype": "text/x-python",
   "name": "python",
   "nbconvert_exporter": "python",
   "pygments_lexer": "ipython3",
   "version": "3.6.5"
  }
 },
 "nbformat": 4,
 "nbformat_minor": 2
}
