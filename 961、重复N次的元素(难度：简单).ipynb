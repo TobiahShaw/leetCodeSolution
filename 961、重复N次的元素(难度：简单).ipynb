{
 "cells": [
  {
   "cell_type": "markdown",
   "metadata": {
    "collapsed": true
   },
   "source": [
    "# 重复N次的元素\n",
    "\n",
    "**题目来源：力扣（LeetCode）**\n",
    "\n",
    "**链接：https://leetcode-cn.com/problems/n-repeated-element-in-size-2n-array/**\n",
    "\n",
    "## 一、题目\n",
    "\n",
    "给你一个整数数组 nums ，该数组具有以下属性：\n",
    "\n",
    "- nums.length == 2 * n.\n",
    "- nums 包含 n + 1 个 不同的 元素\n",
    "- nums 中恰有一个元素重复 n 次\n",
    "\n",
    "找出并返回重复了 n 次的那个元素。\n",
    "\n",
    "### 提示：\n",
    "\n",
    "- 2 <= n <= 5000\n",
    "- nums.length == 2 * n\n",
    "- 0 <= nums[i] <= 104\n",
    "- nums 由 n + 1 个 不同的 元素组成，且其中一个元素恰好重复 n 次\n",
    "\n",
    "## 二、示例\n",
    "\n",
    "### 示例 1：\n",
    "\n",
    "输入：[1,2,3,3]\n",
    "\n",
    "输出：3\n",
    "\n",
    "### 示例 2：\n",
    "\n",
    "输入：[2,1,2,5,3,2]\n",
    "\n",
    "输出：2\n",
    "\n",
    "### 示例 3：\n",
    "\n",
    "输入：[5,1,5,2,5,3,5,4]\n",
    "\n",
    "输出：5\n",
    "\n",
    "## 三、解题思路\n",
    "\n",
    "### 一、计数"
   ]
  },
  {
   "cell_type": "code",
   "execution_count": 1,
   "metadata": {},
   "outputs": [],
   "source": [
    "def repeatedNTimes(A):\n",
    "    dict = {}\n",
    "    for i in A:\n",
    "        if i in dict:\n",
    "            dict[i] += 1\n",
    "            if dict[i] == len(A) / 2:\n",
    "                return i\n",
    "        else:\n",
    "            dict[i] = 1"
   ]
  },
  {
   "cell_type": "code",
   "execution_count": 2,
   "metadata": {},
   "outputs": [
    {
     "data": {
      "text/plain": [
       "3"
      ]
     },
     "execution_count": 2,
     "metadata": {},
     "output_type": "execute_result"
    }
   ],
   "source": [
    "repeatedNTimes([1,2,3,3])"
   ]
  },
  {
   "cell_type": "code",
   "execution_count": 3,
   "metadata": {},
   "outputs": [
    {
     "data": {
      "text/plain": [
       "2"
      ]
     },
     "execution_count": 3,
     "metadata": {},
     "output_type": "execute_result"
    }
   ],
   "source": [
    "repeatedNTimes([2,1,2,5,3,2])"
   ]
  },
  {
   "cell_type": "code",
   "execution_count": 4,
   "metadata": {},
   "outputs": [
    {
     "data": {
      "text/plain": [
       "5"
      ]
     },
     "execution_count": 4,
     "metadata": {},
     "output_type": "execute_result"
    }
   ],
   "source": [
    "repeatedNTimes([5,1,5,2,5,3,5,4])"
   ]
  },
  {
   "cell_type": "markdown",
   "metadata": {},
   "source": [
    "### 二、随机选择"
   ]
  },
  {
   "cell_type": "code",
   "execution_count": 5,
   "metadata": {},
   "outputs": [],
   "source": [
    "def repeatedNTimes(A) -> int:\n",
    "    import random\n",
    "    n = len(A)\n",
    "    while True:\n",
    "        x, y = random.randrange(n), random.randrange(n)\n",
    "        if x != y and A[x] == A[y]:\n",
    "            return A[x]"
   ]
  },
  {
   "cell_type": "code",
   "execution_count": 6,
   "metadata": {},
   "outputs": [
    {
     "data": {
      "text/plain": [
       "3"
      ]
     },
     "execution_count": 6,
     "metadata": {},
     "output_type": "execute_result"
    }
   ],
   "source": [
    "repeatedNTimes([1,2,3,3])"
   ]
  },
  {
   "cell_type": "code",
   "execution_count": 7,
   "metadata": {},
   "outputs": [
    {
     "data": {
      "text/plain": [
       "2"
      ]
     },
     "execution_count": 7,
     "metadata": {},
     "output_type": "execute_result"
    }
   ],
   "source": [
    "repeatedNTimes([2,1,2,5,3,2])"
   ]
  },
  {
   "cell_type": "code",
   "execution_count": 8,
   "metadata": {},
   "outputs": [
    {
     "data": {
      "text/plain": [
       "5"
      ]
     },
     "execution_count": 8,
     "metadata": {},
     "output_type": "execute_result"
    }
   ],
   "source": [
    "repeatedNTimes([5,1,5,2,5,3,5,4])"
   ]
  },
  {
   "cell_type": "code",
   "execution_count": null,
   "metadata": {},
   "outputs": [],
   "source": []
  }
 ],
 "metadata": {
  "kernelspec": {
   "display_name": "Python 3",
   "language": "python",
   "name": "python3"
  },
  "language_info": {
   "codemirror_mode": {
    "name": "ipython",
    "version": 3
   },
   "file_extension": ".py",
   "mimetype": "text/x-python",
   "name": "python",
   "nbconvert_exporter": "python",
   "pygments_lexer": "ipython3",
   "version": "3.6.5"
  }
 },
 "nbformat": 4,
 "nbformat_minor": 2
}
