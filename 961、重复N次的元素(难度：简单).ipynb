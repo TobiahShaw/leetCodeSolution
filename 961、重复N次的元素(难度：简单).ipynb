{
  "cells": [
    {
      "metadata": {
        "collapsed": true
      },
      "cell_type": "markdown",
      "source": "# 重复N次的元素\n\n**题目来源：力扣（LeetCode）**\n\n**链接：https://leetcode-cn.com/problems/n-repeated-element-in-size-2n-array/**\n\n## 一、题目\n\n在大小为 2N 的数组 A 中有 N+1 个不同的元素，其中有一个元素重复了 N 次。\n\n返回重复了 N 次的那个元素。\n\n## 二、示例\n\n### 示例 1：\n\n输入：[1,2,3,3]\n\n输出：3\n\n### 示例 2：\n\n输入：[2,1,2,5,3,2]\n\n输出：2\n\n### 示例 3：\n\n输入：[5,1,5,2,5,3,5,4]\n\n输出：5\n\n## 三、解题思路\n\n### 计数"
    },
    {
      "metadata": {
        "trusted": true
      },
      "cell_type": "code",
      "source": "def repeatedNTimes(A):\n    dict = {}\n    for i in A:\n        if i in dict:\n            dict[i] += 1\n            if dict[i] == len(A) / 2:\n                return i\n        else:\n            dict[i] = 1",
      "execution_count": 1,
      "outputs": []
    },
    {
      "metadata": {
        "trusted": true
      },
      "cell_type": "code",
      "source": "repeatedNTimes([1,2,3,3])",
      "execution_count": 2,
      "outputs": [
        {
          "output_type": "execute_result",
          "execution_count": 2,
          "data": {
            "text/plain": "3"
          },
          "metadata": {}
        }
      ]
    },
    {
      "metadata": {
        "trusted": true
      },
      "cell_type": "code",
      "source": "repeatedNTimes([2,1,2,5,3,2])",
      "execution_count": 3,
      "outputs": [
        {
          "output_type": "execute_result",
          "execution_count": 3,
          "data": {
            "text/plain": "2"
          },
          "metadata": {}
        }
      ]
    },
    {
      "metadata": {
        "trusted": true
      },
      "cell_type": "code",
      "source": "repeatedNTimes([5,1,5,2,5,3,5,4])",
      "execution_count": 4,
      "outputs": [
        {
          "output_type": "execute_result",
          "execution_count": 4,
          "data": {
            "text/plain": "5"
          },
          "metadata": {}
        }
      ]
    },
    {
      "metadata": {
        "trusted": true
      },
      "cell_type": "code",
      "source": "",
      "execution_count": null,
      "outputs": []
    }
  ],
  "metadata": {
    "kernelspec": {
      "name": "python36",
      "display_name": "Python 3.6",
      "language": "python"
    },
    "language_info": {
      "mimetype": "text/x-python",
      "nbconvert_exporter": "python",
      "name": "python",
      "pygments_lexer": "ipython3",
      "version": "3.6.6",
      "file_extension": ".py",
      "codemirror_mode": {
        "version": 3,
        "name": "ipython"
      }
    }
  },
  "nbformat": 4,
  "nbformat_minor": 2
}