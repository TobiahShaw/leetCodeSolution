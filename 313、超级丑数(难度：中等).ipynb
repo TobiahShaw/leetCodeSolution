{
 "cells": [
  {
   "cell_type": "markdown",
   "metadata": {},
   "source": [
    "# 超级丑数\n",
    "\n",
    "**题目来源：力扣（LeetCode）**\n",
    "\n",
    "**链接：https://leetcode-cn.com/problems/super-ugly-number/**\n",
    "\n",
    "## 一、题目\n",
    "\n",
    "超级丑数 是一个正整数，并满足其所有质因数都出现在质数数组 primes 中。\n",
    "\n",
    "给你一个整数 n 和一个整数数组 primes ，返回第 n 个 超级丑数 。\n",
    "\n",
    "题目数据保证第 n 个 超级丑数 在 32-bit 带符号整数范围内。\n",
    "\n",
    "### 提示：\n",
    "\n",
    "- 1 <= n <= 106\n",
    "- 1 <= primes.length <= 100\n",
    "- 2 <= primes[i] <= 1000\n",
    "- 题目数据 保证 primes[i] 是一个质数\n",
    "- primes 中的所有值都 互不相同 ，且按 递增顺序 排列\n",
    "\n",
    "## 二、示例\n",
    "\n",
    "### 示例 1：\n",
    "\n",
    "输入：n = 12, primes = [2,7,13,19]\n",
    "\n",
    "输出：32 \n",
    "\n",
    "解释：给定长度为 4 的质数数组 primes = [2,7,13,19]，前 12 个超级丑数序列为：[1,2,4,7,8,13,14,16,19,26,28,32] 。\n",
    "\n",
    "### 示例 2：\n",
    "\n",
    "输入：n = 1, primes = [2,3,5]\n",
    "\n",
    "输出：1\n",
    "\n",
    "解释：1 不含质因数，因此它的所有质因数都在质数数组 primes = [2,3,5] 中。\n",
    "\n",
    "## 三、解题思路\n",
    "\n",
    "### 小顶堆"
   ]
  },
  {
   "cell_type": "code",
   "execution_count": 1,
   "metadata": {},
   "outputs": [],
   "source": [
    "def nthSuperUglyNumber(n: int, primes) -> int:\n",
    "    import heapq\n",
    "    seen = {1}\n",
    "    heap = [1]\n",
    "    for i in range(n):\n",
    "        ugly = heapq.heappop(heap)\n",
    "        for prime in primes:\n",
    "            nxt = ugly * prime\n",
    "            if nxt not in seen:\n",
    "                seen.add(nxt)\n",
    "                heapq.heappush(heap, nxt)\n",
    "    return ugly"
   ]
  },
  {
   "cell_type": "code",
   "execution_count": 2,
   "metadata": {},
   "outputs": [
    {
     "data": {
      "text/plain": [
       "32"
      ]
     },
     "execution_count": 2,
     "metadata": {},
     "output_type": "execute_result"
    }
   ],
   "source": [
    "nthSuperUglyNumber(n = 12, primes = [2,7,13,19])"
   ]
  },
  {
   "cell_type": "code",
   "execution_count": 3,
   "metadata": {},
   "outputs": [
    {
     "data": {
      "text/plain": [
       "1"
      ]
     },
     "execution_count": 3,
     "metadata": {},
     "output_type": "execute_result"
    }
   ],
   "source": [
    "nthSuperUglyNumber(n = 1, primes = [2,3,5])"
   ]
  },
  {
   "cell_type": "code",
   "execution_count": null,
   "metadata": {},
   "outputs": [],
   "source": []
  }
 ],
 "metadata": {
  "kernelspec": {
   "display_name": "Python 3",
   "language": "python",
   "name": "python3"
  },
  "language_info": {
   "codemirror_mode": {
    "name": "ipython",
    "version": 3
   },
   "file_extension": ".py",
   "mimetype": "text/x-python",
   "name": "python",
   "nbconvert_exporter": "python",
   "pygments_lexer": "ipython3",
   "version": "3.6.5"
  }
 },
 "nbformat": 4,
 "nbformat_minor": 2
}
