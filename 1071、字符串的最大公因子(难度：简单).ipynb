{
 "cells": [
  {
   "cell_type": "markdown",
   "metadata": {},
   "source": [
    "# 字符串的最大公因子\n",
    "\n",
    "**题目来源：力扣（LeetCode）**\n",
    "\n",
    "**链接：https://leetcode-cn.com/problems/greatest-common-divisor-of-strings/**\n",
    "\n",
    "## 一、题目\n",
    "\n",
    "对于字符串 S 和 T，只有在 S = T + ... + T（T 自身连接 1 次或多次）时，我们才认定 “T 能除尽 S”。\n",
    "\n",
    "返回最长字符串 X，要求满足 X 能除尽 str1 且 X 能除尽 str2。\n",
    "\n",
    "### 提示：\n",
    "\n",
    "- 1 <= str1.length <= 1000\n",
    "- 1 <= str2.length <= 1000\n",
    "- str1[i] 和 str2[i] 为大写英文字母\n",
    "\n",
    "## 二、示例\n",
    "\n",
    "### 示例 1：\n",
    "\n",
    "输入：str1 = \"ABCABC\", str2 = \"ABC\"\n",
    "\n",
    "输出：\"ABC\"\n",
    "\n",
    "### 示例 2：\n",
    "\n",
    "输入：str1 = \"ABABAB\", str2 = \"ABAB\"\n",
    "\n",
    "输出：\"AB\"\n",
    "\n",
    "### 示例 3：\n",
    "\n",
    "输入：str1 = \"LEET\", str2 = \"CODE\"\n",
    "\n",
    "输出：\"\"\n",
    "\n",
    "## 三、解题思路\n",
    "\n",
    "### 一、枚举"
   ]
  },
  {
   "cell_type": "code",
   "execution_count": 1,
   "metadata": {},
   "outputs": [],
   "source": [
    "def gcdOfStrings(str1: str, str2: str) -> str:\n",
    "    for i in range(min(len(str1), len(str2)), 0, -1):\n",
    "        if (len(str1) % i) == 0 and (len(str2) % i) == 0:\n",
    "            if str1[: i] * (len(str1) // i) == str1 and str1[: i] * (len(str2) // i) == str2:\n",
    "                return str1[: i]\n",
    "    return ''"
   ]
  },
  {
   "cell_type": "code",
   "execution_count": 2,
   "metadata": {},
   "outputs": [
    {
     "data": {
      "text/plain": [
       "'ABC'"
      ]
     },
     "execution_count": 2,
     "metadata": {},
     "output_type": "execute_result"
    }
   ],
   "source": [
    "gcdOfStrings(str1 = \"ABCABC\", str2 = \"ABC\")"
   ]
  },
  {
   "cell_type": "code",
   "execution_count": 3,
   "metadata": {},
   "outputs": [
    {
     "data": {
      "text/plain": [
       "'AB'"
      ]
     },
     "execution_count": 3,
     "metadata": {},
     "output_type": "execute_result"
    }
   ],
   "source": [
    "gcdOfStrings(str1 = \"ABABAB\", str2 = \"ABAB\")"
   ]
  },
  {
   "cell_type": "code",
   "execution_count": 4,
   "metadata": {},
   "outputs": [
    {
     "data": {
      "text/plain": [
       "''"
      ]
     },
     "execution_count": 4,
     "metadata": {},
     "output_type": "execute_result"
    }
   ],
   "source": [
    "gcdOfStrings(str1 = \"LEET\", str2 = \"CODE\")"
   ]
  },
  {
   "cell_type": "markdown",
   "metadata": {},
   "source": [
    "### 二、枚举优化"
   ]
  },
  {
   "cell_type": "code",
   "execution_count": 5,
   "metadata": {},
   "outputs": [],
   "source": [
    "def gcdOfStrings(str1: str, str2: str) -> str:\n",
    "    import math\n",
    "    candidate_len = math.gcd(len(str1), len(str2))\n",
    "    candidate = str1[: candidate_len]\n",
    "    if candidate * (len(str1) // candidate_len) == str1 and candidate * (len(str2) // candidate_len) == str2:\n",
    "        return candidate\n",
    "    return ''"
   ]
  },
  {
   "cell_type": "code",
   "execution_count": 6,
   "metadata": {},
   "outputs": [
    {
     "data": {
      "text/plain": [
       "'ABC'"
      ]
     },
     "execution_count": 6,
     "metadata": {},
     "output_type": "execute_result"
    }
   ],
   "source": [
    "gcdOfStrings(str1 = \"ABCABC\", str2 = \"ABC\")"
   ]
  },
  {
   "cell_type": "code",
   "execution_count": 7,
   "metadata": {},
   "outputs": [
    {
     "data": {
      "text/plain": [
       "'AB'"
      ]
     },
     "execution_count": 7,
     "metadata": {},
     "output_type": "execute_result"
    }
   ],
   "source": [
    "gcdOfStrings(str1 = \"ABABAB\", str2 = \"ABAB\")"
   ]
  },
  {
   "cell_type": "code",
   "execution_count": 8,
   "metadata": {},
   "outputs": [
    {
     "data": {
      "text/plain": [
       "''"
      ]
     },
     "execution_count": 8,
     "metadata": {},
     "output_type": "execute_result"
    }
   ],
   "source": [
    "gcdOfStrings(str1 = \"LEET\", str2 = \"CODE\")"
   ]
  },
  {
   "cell_type": "code",
   "execution_count": null,
   "metadata": {},
   "outputs": [],
   "source": []
  }
 ],
 "metadata": {
  "kernelspec": {
   "display_name": "Python 3",
   "language": "python",
   "name": "python3"
  },
  "language_info": {
   "codemirror_mode": {
    "name": "ipython",
    "version": 3
   },
   "file_extension": ".py",
   "mimetype": "text/x-python",
   "name": "python",
   "nbconvert_exporter": "python",
   "pygments_lexer": "ipython3",
   "version": "3.6.5"
  }
 },
 "nbformat": 4,
 "nbformat_minor": 2
}
