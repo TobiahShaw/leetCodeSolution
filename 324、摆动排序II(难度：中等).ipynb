{
 "cells": [
  {
   "cell_type": "markdown",
   "metadata": {},
   "source": [
    "# 摆动排序II\n",
    "\n",
    "**题目来源：力扣（LeetCode）**\n",
    "\n",
    "**链接：https://leetcode.cn/problems/wiggle-sort-ii/**\n",
    "\n",
    "## 一、题目\n",
    "\n",
    "给你一个整数数组 nums，将它重新排列成 nums[0] < nums[1] > nums[2] < nums[3]... 的顺序。\n",
    "\n",
    "你可以假设所有输入数组都可以得到满足题目要求的结果。\n",
    "\n",
    "### 提示：\n",
    "\n",
    "- 1 <= nums.length <= 5 * 10^4\n",
    "- 0 <= nums[i] <= 5000\n",
    "- 题目数据保证，对于给定的输入 nums ，总能产生满足题目要求的结果\n",
    "\n",
    "## 二、示例\n",
    "\n",
    "### 示例 1：\n",
    "\n",
    "输入：nums = [1,5,1,1,6,4]\n",
    "\n",
    "输出：[1,6,1,5,1,4]\n",
    "\n",
    "解释：[1,4,1,5,1,6] 同样是符合题目要求的结果，可以被判题程序接受。\n",
    "\n",
    "### 示例 2：\n",
    "\n",
    "输入：nums = [1,3,2,2,3,1]\n",
    "\n",
    "输出：[2,3,1,3,1,2]\n",
    "\n",
    "## 三、解题思路\n",
    "\n",
    "### 排序"
   ]
  },
  {
   "cell_type": "code",
   "execution_count": 1,
   "metadata": {},
   "outputs": [],
   "source": [
    "def wiggleSort(nums) -> None:\n",
    "    \"\"\"\n",
    "    Do not return anything, modify nums in-place instead.\n",
    "    \"\"\"\n",
    "    n = len(nums)\n",
    "    arr = sorted(nums)\n",
    "    x = (n + 1) // 2\n",
    "    j, k = x - 1, n - 1\n",
    "    for i in range(0, n, 2):\n",
    "        nums[i] = arr[j]\n",
    "        if i + 1 < n:\n",
    "            nums[i + 1] = arr[k]\n",
    "        j -= 1\n",
    "        k -= 1"
   ]
  },
  {
   "cell_type": "code",
   "execution_count": 2,
   "metadata": {},
   "outputs": [],
   "source": [
    "nums = [1,5,1,1,6,4]"
   ]
  },
  {
   "cell_type": "code",
   "execution_count": 3,
   "metadata": {},
   "outputs": [],
   "source": [
    "wiggleSort(nums)"
   ]
  },
  {
   "cell_type": "code",
   "execution_count": 4,
   "metadata": {},
   "outputs": [
    {
     "data": {
      "text/plain": [
       "[1, 6, 1, 5, 1, 4]"
      ]
     },
     "execution_count": 4,
     "metadata": {},
     "output_type": "execute_result"
    }
   ],
   "source": [
    "nums"
   ]
  },
  {
   "cell_type": "code",
   "execution_count": null,
   "metadata": {},
   "outputs": [],
   "source": []
  }
 ],
 "metadata": {
  "kernelspec": {
   "display_name": "Python 3",
   "language": "python",
   "name": "python3"
  },
  "language_info": {
   "codemirror_mode": {
    "name": "ipython",
    "version": 3
   },
   "file_extension": ".py",
   "mimetype": "text/x-python",
   "name": "python",
   "nbconvert_exporter": "python",
   "pygments_lexer": "ipython3",
   "version": "3.6.5"
  }
 },
 "nbformat": 4,
 "nbformat_minor": 2
}
