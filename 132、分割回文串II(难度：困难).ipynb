{
 "cells": [
  {
   "cell_type": "markdown",
   "metadata": {},
   "source": [
    "# 分割回文串II\n",
    "\n",
    "**题目来源：力扣（LeetCode）**\n",
    "\n",
    "**链接：https://leetcode-cn.com/problems/palindrome-partitioning-ii/**\n",
    "\n",
    "## 一、题目\n",
    "\n",
    "给你一个字符串 s，请你将 s 分割成一些子串，使每个子串都是回文。\n",
    "\n",
    "返回符合要求的 最少分割次数 。\n",
    "\n",
    "## 二、示例\n",
    "\n",
    "### 示例 1：\n",
    "\n",
    "输入：s = \"aab\"\n",
    "\n",
    "输出：1\n",
    "\n",
    "解释：只需一次分割就可将 s 分割成 [\"aa\",\"b\"] 这样两个回文子串。\n",
    "\n",
    "### 示例 2：\n",
    "\n",
    "输入：s = \"a\"\n",
    "\n",
    "输出：0\n",
    "\n",
    "### 示例 3：\n",
    "\n",
    "输入：s = \"ab\"\n",
    "\n",
    "输出：1\n",
    "\n",
    "## 三、解题思路\n",
    "\n",
    "### 回溯"
   ]
  },
  {
   "cell_type": "code",
   "execution_count": 1,
   "metadata": {},
   "outputs": [],
   "source": [
    "def minCut(s: str) -> int:\n",
    "    n = len(s)\n",
    "    ans = []\n",
    "    def helper(tmp,j):\n",
    "        if j == n :\n",
    "            ans.append(tmp)\n",
    "        for i in range(j,n):\n",
    "            if s[j:i+1] != s[j:i+1][::-1]:\n",
    "                continue\n",
    "            helper(tmp+[s[j:i+1]],i+1)\n",
    "    helper([],0)\n",
    "    ret = float('inf')\n",
    "    for i in ans:\n",
    "        time = len(i) - 1\n",
    "        if time < ret:\n",
    "            ret = time\n",
    "    return ret"
   ]
  },
  {
   "cell_type": "code",
   "execution_count": 2,
   "metadata": {},
   "outputs": [
    {
     "data": {
      "text/plain": [
       "1"
      ]
     },
     "execution_count": 2,
     "metadata": {},
     "output_type": "execute_result"
    }
   ],
   "source": [
    "minCut(\"aab\")"
   ]
  },
  {
   "cell_type": "code",
   "execution_count": 3,
   "metadata": {},
   "outputs": [
    {
     "data": {
      "text/plain": [
       "0"
      ]
     },
     "execution_count": 3,
     "metadata": {},
     "output_type": "execute_result"
    }
   ],
   "source": [
    "minCut(\"a\")"
   ]
  },
  {
   "cell_type": "code",
   "execution_count": 4,
   "metadata": {},
   "outputs": [
    {
     "data": {
      "text/plain": [
       "1"
      ]
     },
     "execution_count": 4,
     "metadata": {},
     "output_type": "execute_result"
    }
   ],
   "source": [
    "minCut(\"ab\")"
   ]
  },
  {
   "cell_type": "code",
   "execution_count": null,
   "metadata": {},
   "outputs": [],
   "source": []
  }
 ],
 "metadata": {
  "kernelspec": {
   "display_name": "Python 3",
   "language": "python",
   "name": "python3"
  },
  "language_info": {
   "codemirror_mode": {
    "name": "ipython",
    "version": 3
   },
   "file_extension": ".py",
   "mimetype": "text/x-python",
   "name": "python",
   "nbconvert_exporter": "python",
   "pygments_lexer": "ipython3",
   "version": "3.6.5"
  }
 },
 "nbformat": 4,
 "nbformat_minor": 2
}
