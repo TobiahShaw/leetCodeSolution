{
 "cells": [
  {
   "cell_type": "markdown",
   "metadata": {},
   "source": [
    "# 两个数组间的距离值\n",
    "\n",
    "**题目来源：力扣（LeetCode）**\n",
    "\n",
    "**链接：https://leetcode-cn.com/problems/find-the-distance-value-between-two-arrays/**\n",
    "\n",
    "## 一、题目\n",
    "\n",
    "给你两个整数数组 arr1 ， arr2 和一个整数 d ，请你返回两个数组之间的 距离值 。\n",
    "\n",
    "「距离值」 定义为符合此距离要求的元素数目：对于元素 arr1[i] ，不存在任何元素 arr2[j] 满足 |arr1[i]-arr2[j]| <= d 。\n",
    "\n",
    "### 提示：\n",
    "\n",
    "- 1 <= arr1.length, arr2.length <= 500\n",
    "- -10^3 <= arr1[i], arr2[j] <= 10^3\n",
    "- 0 <= d <= 100\n",
    "\n",
    "## 二、示例\n",
    "\n",
    "### 示例 1：\n",
    "\n",
    "输入：arr1 = [4,5,8], arr2 = [10,9,1,8], d = 2\n",
    "\n",
    "输出：2\n",
    "\n",
    "解释：\n",
    "\n",
    "对于 arr1[0]=4 我们有：\n",
    "```\n",
    "|4-10|=6 > d=2 \n",
    "|4-9|=5 > d=2 \n",
    "|4-1|=3 > d=2 \n",
    "|4-8|=4 > d=2 \n",
    "```\n",
    "所以 arr1[0]=4 符合距离要求\n",
    "\n",
    "对于 arr1[1]=5 我们有：\n",
    "```\n",
    "|5-10|=5 > d=2 \n",
    "|5-9|=4 > d=2 \n",
    "|5-1|=4 > d=2 \n",
    "|5-8|=3 > d=2\n",
    "```\n",
    "所以 arr1[1]=5 也符合距离要求\n",
    "\n",
    "对于 arr1[2]=8 我们有：\n",
    "```\n",
    "|8-10|=2 <= d=2\n",
    "|8-9|=1 <= d=2\n",
    "|8-1|=7 > d=2\n",
    "|8-8|=0 <= d=2\n",
    "```\n",
    "存在距离小于等于 2 的情况，不符合距离要求 \n",
    "\n",
    "故而只有 arr1[0]=4 和 arr1[1]=5 两个符合距离要求，距离值为 2\n",
    "\n",
    "### 示例 2：\n",
    "\n",
    "输入：arr1 = [1,4,2,3], arr2 = [-4,-3,6,10,20,30], d = 3\n",
    "\n",
    "输出：2\n",
    "\n",
    "### 示例 3：\n",
    "\n",
    "输入：arr1 = [2,1,100,3], arr2 = [-5,-2,10,-3,7], d = 6\n",
    "\n",
    "输出：1\n",
    "\n",
    "## 三、解题思路\n",
    "\n",
    "### 模拟"
   ]
  },
  {
   "cell_type": "code",
   "execution_count": 1,
   "metadata": {},
   "outputs": [],
   "source": [
    "def findTheDistanceValue(arr1, arr2, d: int) -> int:\n",
    "    ret = 0\n",
    "    for i in arr1:\n",
    "        if all(abs(i-j) > d for j in arr2):\n",
    "            ret += 1\n",
    "    return ret"
   ]
  },
  {
   "cell_type": "code",
   "execution_count": 2,
   "metadata": {},
   "outputs": [
    {
     "data": {
      "text/plain": [
       "2"
      ]
     },
     "execution_count": 2,
     "metadata": {},
     "output_type": "execute_result"
    }
   ],
   "source": [
    "findTheDistanceValue(arr1 = [4,5,8], arr2 = [10,9,1,8], d = 2)"
   ]
  },
  {
   "cell_type": "code",
   "execution_count": 3,
   "metadata": {},
   "outputs": [
    {
     "data": {
      "text/plain": [
       "2"
      ]
     },
     "execution_count": 3,
     "metadata": {},
     "output_type": "execute_result"
    }
   ],
   "source": [
    "findTheDistanceValue(arr1 = [1,4,2,3], arr2 = [-4,-3,6,10,20,30], d = 3)"
   ]
  },
  {
   "cell_type": "code",
   "execution_count": 4,
   "metadata": {},
   "outputs": [
    {
     "data": {
      "text/plain": [
       "1"
      ]
     },
     "execution_count": 4,
     "metadata": {},
     "output_type": "execute_result"
    }
   ],
   "source": [
    "findTheDistanceValue(arr1 = [2,1,100,3], arr2 = [-5,-2,10,-3,7], d = 6)"
   ]
  },
  {
   "cell_type": "code",
   "execution_count": null,
   "metadata": {},
   "outputs": [],
   "source": []
  }
 ],
 "metadata": {
  "kernelspec": {
   "display_name": "Python 3",
   "language": "python",
   "name": "python3"
  },
  "language_info": {
   "codemirror_mode": {
    "name": "ipython",
    "version": 3
   },
   "file_extension": ".py",
   "mimetype": "text/x-python",
   "name": "python",
   "nbconvert_exporter": "python",
   "pygments_lexer": "ipython3",
   "version": "3.6.5"
  }
 },
 "nbformat": 4,
 "nbformat_minor": 2
}
