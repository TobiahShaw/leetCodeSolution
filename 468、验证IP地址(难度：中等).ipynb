{
 "cells": [
  {
   "cell_type": "markdown",
   "metadata": {},
   "source": [
    "# 验证IP地址\n",
    "\n",
    "**题目来源：力扣（LeetCode）**\n",
    "\n",
    "**链接：https://leetcode.cn/problems/validate-ip-address/**\n",
    "\n",
    "## 一、题目\n",
    "\n",
    "给定一个字符串 queryIP。如果是有效的 IPv4 地址，返回 \"IPv4\" ；如果是有效的 IPv6 地址，返回 \"IPv6\" ；如果不是上述类型的 IP 地址，返回 \"Neither\" 。\n",
    "\n",
    "有效的IPv4地址 是 “x1.x2.x3.x4” 形式的IP地址。 其中 0 <= xi <= 255 且 xi 不能包含 前导零。例如: “192.168.1.1” 、 “192.168.1.0” 为有效IPv4地址， “192.168.01.1” 为无效IPv4地址; “192.168.1.00” 、 “192.168@1.1” 为无效IPv4地址。\n",
    "\n",
    "一个有效的IPv6地址 是一个格式为“x1:x2:x3:x4:x5:x6:x7:x8” 的IP地址，其中:\n",
    "\n",
    "- 1 <= xi.length <= 4\n",
    "- xi 是一个 十六进制字符串 ，可以包含数字、小写英文字母( 'a' 到 'f' )和大写英文字母( 'A' 到 'F' )。\n",
    "- 在 xi 中允许前导零。\n",
    "\n",
    "例如 \"2001:0db8:85a3:0000:0000:8a2e:0370:7334\" 和 \"2001:db8:85a3:0:0:8A2E:0370:7334\" 是有效的 IPv6 地址，而 \"2001:0db8:85a3::8A2E:037j:7334\" 和 \"02001:0db8:85a3:0000:0000:8a2e:0370:7334\" 是无效的 IPv6 地址。\n",
    "\n",
    "### 提示：\n",
    "\n",
    "- queryIP 仅由英文字母，数字，字符 '.' 和 ':' 组成。\n",
    "\n",
    "## 二、示例\n",
    "\n",
    "### 示例 1：\n",
    "\n",
    "输入：queryIP = \"172.16.254.1\"\n",
    "\n",
    "输出：\"IPv4\"\n",
    "\n",
    "解释：有效的 IPv4 地址，返回 \"IPv4\"\n",
    "\n",
    "### 示例 2：\n",
    "\n",
    "输入：queryIP = \"2001:0db8:85a3:0:0:8A2E:0370:7334\"\n",
    "\n",
    "输出：\"IPv6\"\n",
    "\n",
    "解释：有效的 IPv6 地址，返回 \"IPv6\"\n",
    "\n",
    "### 示例 3：\n",
    "\n",
    "输入：queryIP = \"256.256.256.256\"\n",
    "\n",
    "输出：\"Neither\"\n",
    "\n",
    "解释：既不是 IPv4 地址，又不是 IPv6 地址\n",
    "\n",
    "## 三、解题思路\n",
    "\n",
    "### 模拟过程"
   ]
  },
  {
   "cell_type": "code",
   "execution_count": 1,
   "metadata": {},
   "outputs": [],
   "source": [
    "def validIPAddress(queryIP: str) -> str:\n",
    "    if queryIP.find(\".\") != -1:\n",
    "        # IPv4\n",
    "        last = -1\n",
    "        for i in range(4):\n",
    "            cur = (len(queryIP) if i == 3 else queryIP.find(\".\", last + 1))\n",
    "            if cur == -1:\n",
    "                return \"Neither\"\n",
    "            if not 1 <= cur - last - 1 <= 3:\n",
    "                return \"Neither\"\n",
    "            \n",
    "            addr = 0\n",
    "            for j in range(last + 1, cur):\n",
    "                if not queryIP[j].isdigit():\n",
    "                    return \"Neither\"\n",
    "                addr = addr * 10 + int(queryIP[j])\n",
    "            \n",
    "            if addr > 255:\n",
    "                return \"Neither\"\n",
    "            if addr > 0 and queryIP[last + 1] == \"0\":\n",
    "                return \"Neither\"\n",
    "            if addr == 0 and cur - last - 1 > 1:\n",
    "                return \"Neither\"\n",
    "            \n",
    "            last = cur\n",
    "        \n",
    "        return \"IPv4\"\n",
    "    else:\n",
    "        # IPv6\n",
    "        last = -1\n",
    "        for i in range(8):\n",
    "            cur = (len(queryIP) if i == 7 else queryIP.find(\":\", last + 1))\n",
    "            if cur == -1:\n",
    "                return \"Neither\"\n",
    "            if not 1 <= cur - last - 1 <= 4:\n",
    "                return \"Neither\"\n",
    "\n",
    "            for j in range(last + 1, cur):\n",
    "                if not queryIP[j].isdigit() and not(\"a\" <= queryIP[j].lower() <= \"f\"):\n",
    "                    return \"Neither\"\n",
    "            \n",
    "            last = cur\n",
    "        \n",
    "        return \"IPv6\""
   ]
  },
  {
   "cell_type": "code",
   "execution_count": 2,
   "metadata": {},
   "outputs": [
    {
     "data": {
      "text/plain": [
       "'IPv4'"
      ]
     },
     "execution_count": 2,
     "metadata": {},
     "output_type": "execute_result"
    }
   ],
   "source": [
    "validIPAddress(\"172.16.254.1\")"
   ]
  },
  {
   "cell_type": "code",
   "execution_count": 3,
   "metadata": {},
   "outputs": [
    {
     "data": {
      "text/plain": [
       "'IPv6'"
      ]
     },
     "execution_count": 3,
     "metadata": {},
     "output_type": "execute_result"
    }
   ],
   "source": [
    "validIPAddress(\"2001:0db8:85a3:0:0:8A2E:0370:7334\")"
   ]
  },
  {
   "cell_type": "code",
   "execution_count": 4,
   "metadata": {},
   "outputs": [
    {
     "data": {
      "text/plain": [
       "'Neither'"
      ]
     },
     "execution_count": 4,
     "metadata": {},
     "output_type": "execute_result"
    }
   ],
   "source": [
    "validIPAddress(\"256.256.256.256\")"
   ]
  },
  {
   "cell_type": "code",
   "execution_count": null,
   "metadata": {},
   "outputs": [],
   "source": []
  }
 ],
 "metadata": {
  "kernelspec": {
   "display_name": "Python 3",
   "language": "python",
   "name": "python3"
  },
  "language_info": {
   "codemirror_mode": {
    "name": "ipython",
    "version": 3
   },
   "file_extension": ".py",
   "mimetype": "text/x-python",
   "name": "python",
   "nbconvert_exporter": "python",
   "pygments_lexer": "ipython3",
   "version": "3.6.5"
  }
 },
 "nbformat": 4,
 "nbformat_minor": 2
}
