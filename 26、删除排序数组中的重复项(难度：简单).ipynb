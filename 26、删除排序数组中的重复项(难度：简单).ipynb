{
  "cells": [
    {
      "metadata": {
        "collapsed": true
      },
      "cell_type": "markdown",
      "source": "# 删除排序数组中的重复项\n\n**题目来源：力扣（LeetCode）**\n\n**链接：https://leetcode-cn.com/problems/remove-duplicates-from-sorted-array/**\n\n## 一、题目\n\n给定一个排序数组，你需要在原地删除重复出现的元素，使得每个元素只出现一次，返回移除后数组的新长度。\n\n不要使用额外的数组空间，你必须在原地修改输入数组并在使用 O(1) 额外空间的条件下完成。\n\n## 二、示例\n\n### 示例1：\n\n给定数组 nums = [1,1,2], \n\n函数应该返回新的长度 2, 并且原数组 nums 的前两个元素被修改为 1, 2。 \n\n你不需要考虑数组中超出新长度后面的元素。\n\n### 示例2：\n\n给定 nums = [0,0,1,1,1,2,2,3,3,4],\n\n函数应该返回新的长度 5, 并且原数组 nums 的前五个元素被修改为 0, 1, 2, 3, 4。\n\n你不需要考虑数组中超出新长度后面的元素。\n\n## 三、说明\n\n为什么返回数值是整数，但输出的答案是数组呢?\n\n请注意，输入数组是以“引用”方式传递的，这意味着在函数里修改输入数组对于调用者是可见的。\n\n内部操作如下:"
    },
    {
      "metadata": {
        "trusted": true
      },
      "cell_type": "code",
      "source": "def printArray(nums, length):\n    for i in range(length):\n        print(nums[i], end=',')",
      "execution_count": 1,
      "outputs": []
    },
    {
      "metadata": {},
      "cell_type": "markdown",
      "source": "## 四、解题思路\n\n### 一、双指针\n\n将非重复的值覆盖到数组前方"
    },
    {
      "metadata": {
        "trusted": true
      },
      "cell_type": "code",
      "source": "def removeDuplicates(nums):\n    res = 0\n    for i in range(len(nums)):\n        if nums[i] != nums[res]:\n            res += 1\n            nums[res] = nums[i]\n    return res + 1",
      "execution_count": 2,
      "outputs": []
    },
    {
      "metadata": {
        "trusted": true
      },
      "cell_type": "code",
      "source": "nums = [1,1,2]\nlength = removeDuplicates(nums)",
      "execution_count": 3,
      "outputs": []
    },
    {
      "metadata": {
        "trusted": true
      },
      "cell_type": "code",
      "source": "printArray(nums, length)",
      "execution_count": 4,
      "outputs": [
        {
          "output_type": "stream",
          "text": "1,2,",
          "name": "stdout"
        }
      ]
    },
    {
      "metadata": {
        "trusted": true
      },
      "cell_type": "code",
      "source": "nums = [0,0,1,1,1,2,2,3,3,4]\nlength = removeDuplicates(nums)",
      "execution_count": 5,
      "outputs": []
    },
    {
      "metadata": {
        "trusted": true
      },
      "cell_type": "code",
      "source": "printArray(nums, length)",
      "execution_count": 6,
      "outputs": [
        {
          "output_type": "stream",
          "text": "0,1,2,3,4,",
          "name": "stdout"
        }
      ]
    },
    {
      "metadata": {
        "trusted": true
      },
      "cell_type": "code",
      "source": "",
      "execution_count": null,
      "outputs": []
    }
  ],
  "metadata": {
    "kernelspec": {
      "name": "python36",
      "display_name": "Python 3.6",
      "language": "python"
    },
    "language_info": {
      "mimetype": "text/x-python",
      "nbconvert_exporter": "python",
      "name": "python",
      "pygments_lexer": "ipython3",
      "version": "3.6.6",
      "file_extension": ".py",
      "codemirror_mode": {
        "version": 3,
        "name": "ipython"
      }
    }
  },
  "nbformat": 4,
  "nbformat_minor": 2
}