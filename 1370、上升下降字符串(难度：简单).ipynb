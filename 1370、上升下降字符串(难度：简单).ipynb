{
 "cells": [
  {
   "cell_type": "markdown",
   "metadata": {},
   "source": [
    "# 上升下降字符串\n",
    "\n",
    "**题目来源：力扣（LeetCode）**\n",
    "\n",
    "**链接：https://leetcode-cn.com/problems/increasing-decreasing-string/**\n",
    "\n",
    "## 一、题目\n",
    "\n",
    "给你一个字符串 s ，请你根据下面的算法重新构造字符串：\n",
    "\n",
    "1. 从 s 中选出 最小 的字符，将它 接在 结果字符串的后面。\n",
    "1. 从 s 剩余字符中选出 最小 的字符，且该字符比上一个添加的字符大，将它 接在 结果字符串后面。\n",
    "1. 重复步骤 2 ，直到你没法从 s 中选择字符。\n",
    "1. 从 s 中选出 最大 的字符，将它 接在 结果字符串的后面。\n",
    "1. 从 s 剩余字符中选出 最大 的字符，且该字符比上一个添加的字符小，将它 接在 结果字符串后面。\n",
    "1. 重复步骤 5 ，直到你没法从 s 中选择字符。\n",
    "1. 重复步骤 1 到 6 ，直到 s 中所有字符都已经被选过。\n",
    "1. 在任何一步中，如果最小或者最大字符不止一个 ，你可以选择其中任意一个，并将其添加到结果字符串。\n",
    "\n",
    "请你返回将 s 中字符重新排序后的 结果字符串 。\n",
    "\n",
    "## 二、示例\n",
    "\n",
    "### 示例 1：\n",
    "\n",
    "输入：s = \"aaaabbbbcccc\"\n",
    "\n",
    "输出：\"abccbaabccba\"\n",
    "\n",
    "解释：第一轮的步骤 1，2，3 后，结果字符串为 result = \"abc\"\n",
    "\n",
    "第一轮的步骤 4，5，6 后，结果字符串为 result = \"abccba\"\n",
    "\n",
    "第一轮结束，现在 s = \"aabbcc\" ，我们再次回到步骤 1\n",
    "\n",
    "第二轮的步骤 1，2，3 后，结果字符串为 result = \"abccbaabc\"\n",
    "\n",
    "第二轮的步骤 4，5，6 后，结果字符串为 result = \"abccbaabccba\"\n",
    "\n",
    "### 示例 2：\n",
    "\n",
    "输入：s = \"rat\"\n",
    "\n",
    "输出：\"art\"\n",
    "\n",
    "解释：单词 \"rat\" 在上述算法重排序以后变成 \"art\"\n",
    "\n",
    "### 示例 3：\n",
    "\n",
    "输入：s = \"leetcode\"\n",
    "\n",
    "输出：\"cdelotee\"\n",
    "\n",
    "### 示例 4：\n",
    "\n",
    "输入：s = \"ggggggg\"\n",
    "\n",
    "输出：\"ggggggg\"\n",
    "\n",
    "### 示例 5：\n",
    "\n",
    "输入：s = \"spo\"\n",
    "\n",
    "输出：\"ops\"\n",
    "\n",
    "## 三、解题思路\n",
    "\n",
    "### 模拟过程"
   ]
  },
  {
   "cell_type": "code",
   "execution_count": 1,
   "metadata": {},
   "outputs": [],
   "source": [
    "def sortString(s: str) -> str:\n",
    "    arr = list(sorted(s))\n",
    "    n = len(arr)\n",
    "    ret = []\n",
    "    handled = 0\n",
    "    asc = True\n",
    "    while handled < n:\n",
    "        if asc:\n",
    "            asc = False\n",
    "            i = 0\n",
    "            while i < n - handled:\n",
    "                if not ret or arr[i] > ret[-1]:\n",
    "                    ret.append(arr[i])\n",
    "                    handled += 1\n",
    "                    del arr[i]\n",
    "                else:\n",
    "                    i+=1\n",
    "            if arr:\n",
    "                ret.append(arr.pop())\n",
    "                handled += 1\n",
    "        else:\n",
    "            asc = True\n",
    "            i = n - handled - 1\n",
    "            while i >= 0:\n",
    "                if not ret or arr[i] < ret[-1]:\n",
    "                    ret.append(arr[i])\n",
    "                    handled += 1\n",
    "                    del arr[i]\n",
    "                i-=1\n",
    "            if arr:\n",
    "                ret.append(arr[0])\n",
    "                del arr[0]\n",
    "                handled += 1\n",
    "    return \"\".join(ret)"
   ]
  },
  {
   "cell_type": "code",
   "execution_count": 2,
   "metadata": {},
   "outputs": [
    {
     "data": {
      "text/plain": [
       "'abccbaabccba'"
      ]
     },
     "execution_count": 2,
     "metadata": {},
     "output_type": "execute_result"
    }
   ],
   "source": [
    "sortString(\"aaaabbbbcccc\")"
   ]
  },
  {
   "cell_type": "code",
   "execution_count": 3,
   "metadata": {},
   "outputs": [
    {
     "data": {
      "text/plain": [
       "'art'"
      ]
     },
     "execution_count": 3,
     "metadata": {},
     "output_type": "execute_result"
    }
   ],
   "source": [
    "sortString(\"rat\")"
   ]
  },
  {
   "cell_type": "code",
   "execution_count": 4,
   "metadata": {},
   "outputs": [
    {
     "data": {
      "text/plain": [
       "'cdelotee'"
      ]
     },
     "execution_count": 4,
     "metadata": {},
     "output_type": "execute_result"
    }
   ],
   "source": [
    "sortString(\"leetcode\")"
   ]
  },
  {
   "cell_type": "code",
   "execution_count": 5,
   "metadata": {},
   "outputs": [
    {
     "data": {
      "text/plain": [
       "'ggggggg'"
      ]
     },
     "execution_count": 5,
     "metadata": {},
     "output_type": "execute_result"
    }
   ],
   "source": [
    "sortString(\"ggggggg\")"
   ]
  },
  {
   "cell_type": "code",
   "execution_count": 6,
   "metadata": {},
   "outputs": [
    {
     "data": {
      "text/plain": [
       "'ops'"
      ]
     },
     "execution_count": 6,
     "metadata": {},
     "output_type": "execute_result"
    }
   ],
   "source": [
    "sortString(\"spo\")"
   ]
  },
  {
   "cell_type": "markdown",
   "metadata": {},
   "source": [
    "### 二、桶计数"
   ]
  },
  {
   "cell_type": "code",
   "execution_count": 7,
   "metadata": {},
   "outputs": [],
   "source": [
    "def sortString(s: str) -> str:\n",
    "    num = [0] * 26\n",
    "    for ch in s:\n",
    "        num[ord(ch) - ord('a')] += 1\n",
    "    \n",
    "    ret = list()\n",
    "    while len(ret) < len(s):\n",
    "        for i in range(26):\n",
    "            if num[i]:\n",
    "                ret.append(chr(i + ord('a')))\n",
    "                num[i] -= 1\n",
    "        for i in range(25, -1, -1):\n",
    "            if num[i]:\n",
    "                ret.append(chr(i + ord('a')))\n",
    "                num[i] -= 1\n",
    "    return \"\".join(ret)"
   ]
  },
  {
   "cell_type": "code",
   "execution_count": 8,
   "metadata": {},
   "outputs": [
    {
     "data": {
      "text/plain": [
       "'abccbaabccba'"
      ]
     },
     "execution_count": 8,
     "metadata": {},
     "output_type": "execute_result"
    }
   ],
   "source": [
    "sortString(\"aaaabbbbcccc\")"
   ]
  },
  {
   "cell_type": "code",
   "execution_count": 9,
   "metadata": {},
   "outputs": [
    {
     "data": {
      "text/plain": [
       "'art'"
      ]
     },
     "execution_count": 9,
     "metadata": {},
     "output_type": "execute_result"
    }
   ],
   "source": [
    "sortString(\"rat\")"
   ]
  },
  {
   "cell_type": "code",
   "execution_count": 10,
   "metadata": {},
   "outputs": [
    {
     "data": {
      "text/plain": [
       "'cdelotee'"
      ]
     },
     "execution_count": 10,
     "metadata": {},
     "output_type": "execute_result"
    }
   ],
   "source": [
    "sortString(\"leetcode\")"
   ]
  },
  {
   "cell_type": "code",
   "execution_count": 11,
   "metadata": {},
   "outputs": [
    {
     "data": {
      "text/plain": [
       "'ggggggg'"
      ]
     },
     "execution_count": 11,
     "metadata": {},
     "output_type": "execute_result"
    }
   ],
   "source": [
    "sortString(\"ggggggg\")"
   ]
  },
  {
   "cell_type": "code",
   "execution_count": 12,
   "metadata": {},
   "outputs": [
    {
     "data": {
      "text/plain": [
       "'ops'"
      ]
     },
     "execution_count": 12,
     "metadata": {},
     "output_type": "execute_result"
    }
   ],
   "source": [
    "sortString(\"spo\")"
   ]
  },
  {
   "cell_type": "code",
   "execution_count": null,
   "metadata": {},
   "outputs": [],
   "source": []
  }
 ],
 "metadata": {
  "kernelspec": {
   "display_name": "Python 3",
   "language": "python",
   "name": "python3"
  },
  "language_info": {
   "codemirror_mode": {
    "name": "ipython",
    "version": 3
   },
   "file_extension": ".py",
   "mimetype": "text/x-python",
   "name": "python",
   "nbconvert_exporter": "python",
   "pygments_lexer": "ipython3",
   "version": "3.6.5"
  }
 },
 "nbformat": 4,
 "nbformat_minor": 2
}
