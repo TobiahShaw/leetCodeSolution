{
 "cells": [
  {
   "cell_type": "markdown",
   "metadata": {},
   "source": [
    "# 分数加减运算\n",
    "\n",
    "**题目来源：力扣（LeetCode）**\n",
    "\n",
    "**链接：https://leetcode.cn/problems/fraction-addition-and-subtraction/**\n",
    "\n",
    "## 一、题目\n",
    "\n",
    "给定一个表示分数加减运算的字符串 expression ，你需要返回一个字符串形式的计算结果。 \n",
    "\n",
    "这个结果应该是不可约分的分数，即最简分数。 如果最终结果是一个整数，例如 2，你需要将它转换成分数形式，其分母为 1。所以在上述例子中, 2 应该被转换为 2/1。\n",
    "\n",
    "### 提示：\n",
    "\n",
    "- 输入和输出字符串只包含 '0' 到 '9' 的数字，以及 '/', '+' 和 '-'。 \n",
    "- 输入和输出分数格式均为 ±分子/分母。如果输入的第一个分数或者输出的分数是正数，则 '+' 会被省略掉。\n",
    "- 输入只包含合法的最简分数，每个分数的分子与分母的范围是  [1,10]。 如果分母是1，意味着这个分数实际上是一个整数。\n",
    "- 输入的分数个数范围是 [1,10]。\n",
    "- 最终结果的分子与分母保证是 32 位整数范围内的有效整数。\n",
    "\n",
    "## 二、示例\n",
    "\n",
    "### 示例 1：\n",
    "\n",
    "输入: expression = \"-1/2+1/2\"\n",
    "\n",
    "输出: \"0/1\"\n",
    "\n",
    "### 示例 2:\n",
    "\n",
    "输入: expression = \"-1/2+1/2+1/3\"\n",
    "\n",
    "输出: \"1/3\"\n",
    "\n",
    "### 示例 3:\n",
    "\n",
    "输入: expression = \"1/3-1/2\"\n",
    "\n",
    "输出: \"-1/6\"\n",
    "\n",
    "## 三、解题思路\n",
    "\n",
    "### 模拟"
   ]
  },
  {
   "cell_type": "code",
   "execution_count": 1,
   "metadata": {},
   "outputs": [],
   "source": [
    "from math import gcd\n",
    "\n",
    "def fractionAddition(expression: str) -> str:\n",
    "    denominator, numerator = 0, 1  # 分子，分母\n",
    "    i, n = 0, len(expression)\n",
    "    while i < n:\n",
    "        # 读取分子\n",
    "        denominator1, sign = 0, 1\n",
    "        if expression[i] == '-' or expression[i] == '+':\n",
    "            if expression[i] == '-':\n",
    "                sign = -1\n",
    "            i += 1\n",
    "        while i < n and expression[i].isdigit():\n",
    "            denominator1 = denominator1 * 10 + int(expression[i])\n",
    "            i += 1\n",
    "        denominator1 = sign * denominator1\n",
    "        i += 1\n",
    "\n",
    "        # 读取分母\n",
    "        numerator1 = 0\n",
    "        while i < n and expression[i].isdigit():\n",
    "            numerator1 = numerator1 * 10 + int(expression[i])\n",
    "            i += 1\n",
    "\n",
    "        denominator = denominator * numerator1 + denominator1 * numerator\n",
    "        numerator *= numerator1\n",
    "    if denominator == 0:\n",
    "        return \"0/1\"\n",
    "    g = gcd(abs(denominator), numerator)\n",
    "    return f\"{denominator // g}/{numerator // g}\""
   ]
  },
  {
   "cell_type": "code",
   "execution_count": 2,
   "metadata": {},
   "outputs": [
    {
     "data": {
      "text/plain": [
       "'0/1'"
      ]
     },
     "execution_count": 2,
     "metadata": {},
     "output_type": "execute_result"
    }
   ],
   "source": [
    "fractionAddition(\"-1/2+1/2\")"
   ]
  },
  {
   "cell_type": "code",
   "execution_count": 3,
   "metadata": {},
   "outputs": [
    {
     "data": {
      "text/plain": [
       "'1/3'"
      ]
     },
     "execution_count": 3,
     "metadata": {},
     "output_type": "execute_result"
    }
   ],
   "source": [
    "fractionAddition(\"-1/2+1/2+1/3\")"
   ]
  },
  {
   "cell_type": "code",
   "execution_count": 4,
   "metadata": {},
   "outputs": [
    {
     "data": {
      "text/plain": [
       "'-1/6'"
      ]
     },
     "execution_count": 4,
     "metadata": {},
     "output_type": "execute_result"
    }
   ],
   "source": [
    "fractionAddition(\"1/3-1/2\")"
   ]
  },
  {
   "cell_type": "code",
   "execution_count": null,
   "metadata": {},
   "outputs": [],
   "source": []
  }
 ],
 "metadata": {
  "kernelspec": {
   "display_name": "Python 3",
   "language": "python",
   "name": "python3"
  },
  "language_info": {
   "codemirror_mode": {
    "name": "ipython",
    "version": 3
   },
   "file_extension": ".py",
   "mimetype": "text/x-python",
   "name": "python",
   "nbconvert_exporter": "python",
   "pygments_lexer": "ipython3",
   "version": "3.6.5"
  }
 },
 "nbformat": 4,
 "nbformat_minor": 2
}
