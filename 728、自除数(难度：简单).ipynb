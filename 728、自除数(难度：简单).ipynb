{
 "cells": [
  {
   "cell_type": "markdown",
   "metadata": {
    "collapsed": true
   },
   "source": [
    "# 自除数\n",
    "\n",
    "**题目来源：力扣（LeetCode）**\n",
    "\n",
    "**链接：https://leetcode-cn.com/problems/self-dividing-numbers/**\n",
    "\n",
    "## 一、题目\n",
    "\n",
    "自除数 是指可以被它包含的每一位数整除的数。\n",
    "\n",
    "例如，128 是一个 自除数 ，因为 128 % 1 == 0，128 % 2 == 0，128 % 8 == 0。\n",
    "\n",
    "自除数 不允许包含 0 。\n",
    "\n",
    "给定两个整数 left 和 right ，返回一个列表，列表的元素是范围 [left, right] 内所有的 自除数 。\n",
    "\n",
    "### 提示：\n",
    "\n",
    "- 1 <= left <= right <= 10^4\n",
    "\n",
    "## 二、示例\n",
    "\n",
    "### 示例 1：\n",
    "\n",
    "输入：left = 1, right = 22\n",
    "\n",
    "输出：[1, 2, 3, 4, 5, 6, 7, 8, 9, 11, 12, 15, 22]\n",
    "\n",
    "### 示例 2:\n",
    "\n",
    "输入：left = 47, right = 85\n",
    "\n",
    "输出：[48,55,66,77]\n",
    "\n",
    "## 三、解题思路\n",
    "\n",
    "### 一、轮询"
   ]
  },
  {
   "cell_type": "code",
   "execution_count": 1,
   "metadata": {},
   "outputs": [],
   "source": [
    "def selfDividingNumbers(left, right):\n",
    "    result = []\n",
    "    for i in range(left, right + 1):\n",
    "        c,length = 0,len(str(i))\n",
    "        for d in str(i):\n",
    "            c+=1\n",
    "            if d == '0' or i % int(d):\n",
    "                break\n",
    "            if c == length and i % int(d) == 0:\n",
    "                result.append(i)\n",
    "    return result"
   ]
  },
  {
   "cell_type": "code",
   "execution_count": 2,
   "metadata": {
    "scrolled": true
   },
   "outputs": [
    {
     "data": {
      "text/plain": [
       "[1, 2, 3, 4, 5, 6, 7, 8, 9, 11, 12, 15, 22]"
      ]
     },
     "execution_count": 2,
     "metadata": {},
     "output_type": "execute_result"
    }
   ],
   "source": [
    "selfDividingNumbers(left = 1, right = 22)"
   ]
  },
  {
   "cell_type": "code",
   "execution_count": 3,
   "metadata": {},
   "outputs": [
    {
     "data": {
      "text/plain": [
       "[48, 55, 66, 77]"
      ]
     },
     "execution_count": 3,
     "metadata": {},
     "output_type": "execute_result"
    }
   ],
   "source": [
    "selfDividingNumbers(left = 47, right = 85)"
   ]
  },
  {
   "cell_type": "markdown",
   "metadata": {},
   "source": [
    "### 二、pythonic\n",
    "\n",
    "和上述算法基本原理一致，但是比较有python风格"
   ]
  },
  {
   "cell_type": "code",
   "execution_count": 4,
   "metadata": {},
   "outputs": [],
   "source": [
    "def selfDividingNumbers(left, right):\n",
    "    return [n for n in range(left, right + 1) if '0' not in str(n) and all([n % int(b) == 0 for b in str(n)])]"
   ]
  },
  {
   "cell_type": "code",
   "execution_count": 5,
   "metadata": {},
   "outputs": [
    {
     "data": {
      "text/plain": [
       "[1, 2, 3, 4, 5, 6, 7, 8, 9, 11, 12, 15, 22]"
      ]
     },
     "execution_count": 5,
     "metadata": {},
     "output_type": "execute_result"
    }
   ],
   "source": [
    "selfDividingNumbers(left = 1, right = 22)"
   ]
  },
  {
   "cell_type": "code",
   "execution_count": 6,
   "metadata": {},
   "outputs": [
    {
     "data": {
      "text/plain": [
       "[48, 55, 66, 77]"
      ]
     },
     "execution_count": 6,
     "metadata": {},
     "output_type": "execute_result"
    }
   ],
   "source": [
    "selfDividingNumbers(left = 47, right = 85)"
   ]
  },
  {
   "cell_type": "markdown",
   "metadata": {},
   "source": [
    "### 三、递归"
   ]
  },
  {
   "cell_type": "code",
   "execution_count": 7,
   "metadata": {},
   "outputs": [],
   "source": [
    "def selfDividingNumbers(left, right):\n",
    "    def isSelfDividing(num: int) -> bool:\n",
    "        x = num\n",
    "        while x:\n",
    "            x, d = divmod(x, 10)\n",
    "            if d == 0 or num % d:\n",
    "                return False\n",
    "        return True\n",
    "    return [i for i in range(left, right + 1) if isSelfDividing(i)]"
   ]
  },
  {
   "cell_type": "code",
   "execution_count": 8,
   "metadata": {},
   "outputs": [
    {
     "data": {
      "text/plain": [
       "[1, 2, 3, 4, 5, 6, 7, 8, 9, 11, 12, 15, 22]"
      ]
     },
     "execution_count": 8,
     "metadata": {},
     "output_type": "execute_result"
    }
   ],
   "source": [
    "selfDividingNumbers(left = 1, right = 22)"
   ]
  },
  {
   "cell_type": "code",
   "execution_count": 9,
   "metadata": {},
   "outputs": [
    {
     "data": {
      "text/plain": [
       "[48, 55, 66, 77]"
      ]
     },
     "execution_count": 9,
     "metadata": {},
     "output_type": "execute_result"
    }
   ],
   "source": [
    "selfDividingNumbers(left = 47, right = 85)"
   ]
  },
  {
   "cell_type": "code",
   "execution_count": null,
   "metadata": {},
   "outputs": [],
   "source": []
  }
 ],
 "metadata": {
  "kernelspec": {
   "display_name": "Python 3",
   "language": "python",
   "name": "python3"
  },
  "language_info": {
   "codemirror_mode": {
    "name": "ipython",
    "version": 3
   },
   "file_extension": ".py",
   "mimetype": "text/x-python",
   "name": "python",
   "nbconvert_exporter": "python",
   "pygments_lexer": "ipython3",
   "version": "3.6.5"
  }
 },
 "nbformat": 4,
 "nbformat_minor": 2
}
