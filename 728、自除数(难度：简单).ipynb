{
  "cells": [
    {
      "metadata": {
        "collapsed": true
      },
      "cell_type": "markdown",
      "source": "# 自除数\n\n**题目来源：力扣（LeetCode）**\n\n**链接：https://leetcode-cn.com/problems/self-dividing-numbers/**\n\n## 一、题目\n\n自除数 是指可以被它包含的每一位数除尽的数。\n\n例如，128 是一个自除数，因为 128 % 1 == 0，128 % 2 == 0，128 % 8 == 0。\n\n还有，自除数不允许包含 0 。\n\n给定上边界和下边界数字，输出一个列表，列表的元素是边界（含边界）内所有的自除数。\n\n## 二、示例\n\n输入： \n\n上边界left = 1, 下边界right = 22\n\n输出： \n\n[1, 2, 3, 4, 5, 6, 7, 8, 9, 11, 12, 15, 22]\n\n## 三、解题思路\n\n### 一、轮询"
    },
    {
      "metadata": {
        "trusted": true
      },
      "cell_type": "code",
      "source": "def selfDividingNumbers(left, right):\n    result = []\n    for i in range(left, right + 1):\n        c,length = 0,len(str(i))\n        for d in str(i):\n            c+=1\n            if d == '0' or i % int(d):\n                break\n            if c == length and i % int(d) == 0:\n                result.append(i)\n    return result",
      "execution_count": 1,
      "outputs": []
    },
    {
      "metadata": {
        "trusted": true
      },
      "cell_type": "code",
      "source": "selfDividingNumbers(1, 22)",
      "execution_count": 2,
      "outputs": [
        {
          "output_type": "execute_result",
          "execution_count": 2,
          "data": {
            "text/plain": "[1, 2, 3, 4, 5, 6, 7, 8, 9, 11, 12, 15, 22]"
          },
          "metadata": {}
        }
      ]
    },
    {
      "metadata": {
        "trusted": true
      },
      "cell_type": "markdown",
      "source": "### 二、pythonic\n\n和上述算法基本原理一致，但是比较有python风格"
    },
    {
      "metadata": {
        "trusted": true
      },
      "cell_type": "code",
      "source": "def selfDividingNumbers(left, right):\n    return [n for n in range(left, right + 1) if '0' not in str(n) and all([n % int(b) == 0 for b in str(n)])]",
      "execution_count": 3,
      "outputs": []
    },
    {
      "metadata": {
        "trusted": true
      },
      "cell_type": "code",
      "source": "selfDividingNumbers(1, 22)",
      "execution_count": 4,
      "outputs": [
        {
          "output_type": "execute_result",
          "execution_count": 4,
          "data": {
            "text/plain": "[1, 2, 3, 4, 5, 6, 7, 8, 9, 11, 12, 15, 22]"
          },
          "metadata": {}
        }
      ]
    },
    {
      "metadata": {
        "trusted": true
      },
      "cell_type": "code",
      "source": "",
      "execution_count": null,
      "outputs": []
    }
  ],
  "metadata": {
    "kernelspec": {
      "name": "python36",
      "display_name": "Python 3.6",
      "language": "python"
    },
    "language_info": {
      "mimetype": "text/x-python",
      "nbconvert_exporter": "python",
      "name": "python",
      "pygments_lexer": "ipython3",
      "version": "3.6.6",
      "file_extension": ".py",
      "codemirror_mode": {
        "version": 3,
        "name": "ipython"
      }
    }
  },
  "nbformat": 4,
  "nbformat_minor": 2
}