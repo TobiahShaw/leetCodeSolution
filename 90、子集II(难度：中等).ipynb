{
  "cells": [
    {
      "metadata": {
        "collapsed": true
      },
      "cell_type": "markdown",
      "source": "# 子集II\n\n**题目来源：力扣（LeetCode）**\n\n**链接：https://leetcode-cn.com/problems/subsets-ii/**\n\n## 一、题目\n\n给定一个可能包含重复元素的整数数组 nums，返回该数组所有可能的子集（幂集）。\n\n说明：解集不能包含重复的子集。\n\n此题与《78、子集》的区别是，78题中给定的集合内无重复元素，所以得到的结果不会有重复集合，而此题给定的集合内有重复元素，则可能导致有重复子集出现\n\n## 二、示例\n\n输入: [1,2,2]\n\n输出:\n\n[\n  [2],\n  [1],\n  [1,2,2],\n  [2,2],\n  [1,2],\n  []\n]\n\n## 三、解题思路\n\n重复的原因：\n\n- 不同位置的元素组成的集合是同一个子集，顺序相同。例如[2, 1, 2, 2]，选择第1，2，3个元素组成[2, 1, 2]，选择第1，2，4个元素组成[2, 1, 2]。\n- 不同位置的元素组成的集合是同一个子集，虽然顺序不同，但仍代表了同一个子集，因为集合内的元素是无序的。例如：[2, 1, 2, 2]，选择第1，2，3个元素组成[2, 1, 2]，选择第2，3，4个元素组成[1, 2, 2]。\n\n解决方案：\n\n先对原始集合nums排序[2, 1, 2, 2] -> [1, 2, 2, 2]，然后添加子集的时候去重，因为这时只会出现第一种重复的情况了。"
    },
    {
      "metadata": {
        "trusted": true
      },
      "cell_type": "code",
      "source": "",
      "execution_count": null,
      "outputs": []
    }
  ],
  "metadata": {
    "kernelspec": {
      "name": "python36",
      "display_name": "Python 3.6",
      "language": "python"
    },
    "language_info": {
      "mimetype": "text/x-python",
      "nbconvert_exporter": "python",
      "name": "python",
      "pygments_lexer": "ipython3",
      "version": "3.6.6",
      "file_extension": ".py",
      "codemirror_mode": {
        "version": 3,
        "name": "ipython"
      }
    }
  },
  "nbformat": 4,
  "nbformat_minor": 2
}