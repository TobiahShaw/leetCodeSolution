{
 "cells": [
  {
   "cell_type": "markdown",
   "metadata": {
    "collapsed": true
   },
   "source": [
    "# 子集II\n",
    "\n",
    "**题目来源：力扣（LeetCode）**\n",
    "\n",
    "**链接：https://leetcode-cn.com/problems/subsets-ii/**\n",
    "\n",
    "## 一、题目\n",
    "\n",
    "给定一个可能包含重复元素的整数数组 nums，返回该数组所有可能的子集（幂集）。\n",
    "\n",
    "说明：解集不能包含重复的子集。\n",
    "\n",
    "此题与《78、子集》的区别是，78题中给定的集合内无重复元素，所以得到的结果不会有重复集合，而此题给定的集合内有重复元素，则可能导致有重复子集出现\n",
    "\n",
    "## 二、示例\n",
    "\n",
    "输入: [1,2,2]\n",
    "\n",
    "输出:\n",
    "\n",
    "[\n",
    "  [2],\n",
    "  [1],\n",
    "  [1,2,2],\n",
    "  [2,2],\n",
    "  [1,2],\n",
    "  []\n",
    "]\n",
    "\n",
    "## 三、解题思路\n",
    "\n",
    "重复的原因：\n",
    "\n",
    "- 不同位置的元素组成的集合是同一个子集，顺序相同。例如[2, 1, 2, 2]，选择第1，2，3个元素组成[2, 1, 2]，选择第1，2，4个元素组成[2, 1, 2]。\n",
    "- 不同位置的元素组成的集合是同一个子集，虽然顺序不同，但仍代表了同一个子集，因为集合内的元素是无序的。例如：[2, 1, 2, 2]，选择第1，2，3个元素组成[2, 1, 2]，选择第2，3，4个元素组成[1, 2, 2]。\n",
    "\n",
    "解决方案：\n",
    "\n",
    "先对原始集合nums排序[2, 1, 2, 2] -> [1, 2, 2, 2]，然后添加子集的时候去重，因为这时只会出现第一种重复的情况了。\n",
    "\n",
    "### 回溯法"
   ]
  },
  {
   "cell_type": "code",
   "execution_count": 1,
   "metadata": {},
   "outputs": [],
   "source": [
    "def subsetsWithDup(nums):\n",
    "    def generate(i, nums, item, result):\n",
    "        if i >= len(nums):\n",
    "            return\n",
    "        item.append(nums[i])\n",
    "        if item not in result:\n",
    "            # 去重添加\n",
    "            result.append(item[:])\n",
    "        generate(i + 1, nums, item, result)\n",
    "        item.pop()\n",
    "        generate(i + 1, nums, item, result)\n",
    "    # 排序原始数据\n",
    "    nums = sorted(nums)\n",
    "    item = []\n",
    "    result = []\n",
    "    result.append(item[:])\n",
    "    generate(0, nums, item, result)\n",
    "    return result"
   ]
  },
  {
   "cell_type": "code",
   "execution_count": 2,
   "metadata": {},
   "outputs": [
    {
     "data": {
      "text/plain": [
       "[[], [1], [1, 2], [1, 2, 2], [2], [2, 2]]"
      ]
     },
     "execution_count": 2,
     "metadata": {},
     "output_type": "execute_result"
    }
   ],
   "source": [
    "subsetsWithDup([1,2,2])"
   ]
  },
  {
   "cell_type": "markdown",
   "metadata": {},
   "source": [
    "### 二、利用内置函数combinations"
   ]
  },
  {
   "cell_type": "code",
   "execution_count": 3,
   "metadata": {},
   "outputs": [],
   "source": [
    "import itertools\n",
    "def subsetsWithDup(nums):\n",
    "    res=[[]]\n",
    "    nums.sort() #关键行\n",
    "    for i in range(1, len(nums)+1):\n",
    "        res.extend(set(itertools.combinations(nums, i)))\n",
    "    return res"
   ]
  },
  {
   "cell_type": "code",
   "execution_count": 4,
   "metadata": {},
   "outputs": [
    {
     "data": {
      "text/plain": [
       "[[], (2,), (1,), (1, 2), (2, 2), (1, 2, 2)]"
      ]
     },
     "execution_count": 4,
     "metadata": {},
     "output_type": "execute_result"
    }
   ],
   "source": [
    "subsetsWithDup([1,2,2])"
   ]
  },
  {
   "cell_type": "code",
   "execution_count": null,
   "metadata": {},
   "outputs": [],
   "source": []
  }
 ],
 "metadata": {
  "kernelspec": {
   "display_name": "Python 3",
   "language": "python",
   "name": "python3"
  },
  "language_info": {
   "codemirror_mode": {
    "name": "ipython",
    "version": 3
   },
   "file_extension": ".py",
   "mimetype": "text/x-python",
   "name": "python",
   "nbconvert_exporter": "python",
   "pygments_lexer": "ipython3",
   "version": "3.6.5"
  }
 },
 "nbformat": 4,
 "nbformat_minor": 2
}
