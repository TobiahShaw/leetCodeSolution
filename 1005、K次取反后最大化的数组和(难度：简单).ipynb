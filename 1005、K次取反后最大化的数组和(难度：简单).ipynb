{
 "cells": [
  {
   "cell_type": "markdown",
   "metadata": {},
   "source": [
    "# K 次取反后最大化的数组和\n",
    "\n",
    "**题目来源：力扣（LeetCode）**\n",
    "\n",
    "**链接：https://leetcode-cn.com/problems/maximize-sum-of-array-after-k-negations/**\n",
    "\n",
    "## 一、题目\n",
    "\n",
    "给你一个整数数组 nums 和一个整数 k ，按以下方法修改该数组：\n",
    "\n",
    "- 选择某个下标 i 并将 nums[i] 替换为 -nums[i] 。\n",
    "\n",
    "重复这个过程恰好 k 次。可以多次选择同一个下标 i 。\n",
    "\n",
    "以这种方式修改数组后，返回数组 可能的最大和 \n",
    "\n",
    "### 提示：\n",
    "\n",
    "- 1 <= nums.length <= 10000\n",
    "- -100 <= nums[i] <= 100\n",
    "- 1 <= k <= 10000\n",
    "\n",
    "## 二、示例\n",
    "\n",
    "### 示例 1：\n",
    "\n",
    "输入：nums = [4,2,3], k = 1\n",
    "\n",
    "输出：5\n",
    "\n",
    "解释：选择下标 1 ，nums 变为 [4,-2,3] \n",
    "。\n",
    "### 示例 2：\n",
    "\n",
    "输入：nums = [3,-1,0,2], k = 3\n",
    "\n",
    "输出：6\n",
    "\n",
    "解释：选择下标 (1, 2, 2) ，nums 变为 [3,1,0,2] 。\n",
    "\n",
    "### 示例 3：\n",
    "\n",
    "输入：nums = [2,-3,-1,5,-4], k = 2\n",
    "\n",
    "输出：13\n",
    "\n",
    "解释：选择下标 (1, 4) ，nums 变为 [2,3,-1,5,4] 。\n",
    "\n",
    "## 三、解题思路\n",
    "\n",
    "### 贪心"
   ]
  },
  {
   "cell_type": "code",
   "execution_count": 1,
   "metadata": {},
   "outputs": [],
   "source": [
    "class Solution:\n",
    "    def largestSumAfterKNegations(self, nums, k: int) -> int:\n",
    "        from collections import Counter\n",
    "        freq = Counter(nums)\n",
    "        ans = sum(nums)\n",
    "        for i in range(-100, 0):\n",
    "            if freq[i]:\n",
    "                ops = min(k, freq[i])\n",
    "                ans += -i * ops * 2\n",
    "                freq[i] -= ops\n",
    "                freq[-i] += ops\n",
    "                k -= ops\n",
    "                if k == 0:\n",
    "                    break\n",
    "    \n",
    "        if k > 0 and k % 2 == 1 and not freq[0]:\n",
    "            for i in range(1, 101):\n",
    "                if freq[i]:\n",
    "                    ans -= i * 2\n",
    "                    break\n",
    "    \n",
    "        return ans"
   ]
  },
  {
   "cell_type": "code",
   "execution_count": 2,
   "metadata": {},
   "outputs": [
    {
     "data": {
      "text/plain": [
       "5"
      ]
     },
     "execution_count": 2,
     "metadata": {},
     "output_type": "execute_result"
    }
   ],
   "source": [
    "s = Solution()\n",
    "s.largestSumAfterKNegations(nums = [4,2,3], k = 1)"
   ]
  },
  {
   "cell_type": "code",
   "execution_count": 3,
   "metadata": {},
   "outputs": [
    {
     "data": {
      "text/plain": [
       "6"
      ]
     },
     "execution_count": 3,
     "metadata": {},
     "output_type": "execute_result"
    }
   ],
   "source": [
    "s.largestSumAfterKNegations(nums = [3,-1,0,2], k = 3)"
   ]
  },
  {
   "cell_type": "code",
   "execution_count": 4,
   "metadata": {},
   "outputs": [
    {
     "data": {
      "text/plain": [
       "13"
      ]
     },
     "execution_count": 4,
     "metadata": {},
     "output_type": "execute_result"
    }
   ],
   "source": [
    "s.largestSumAfterKNegations(nums = [2,-3,-1,5,-4], k = 2)"
   ]
  },
  {
   "cell_type": "code",
   "execution_count": null,
   "metadata": {},
   "outputs": [],
   "source": []
  }
 ],
 "metadata": {
  "kernelspec": {
   "display_name": "Python 3 (ipykernel)",
   "language": "python",
   "name": "python3"
  },
  "language_info": {
   "codemirror_mode": {
    "name": "ipython",
    "version": 3
   },
   "file_extension": ".py",
   "mimetype": "text/x-python",
   "name": "python",
   "nbconvert_exporter": "python",
   "pygments_lexer": "ipython3",
   "version": "3.11.0"
  }
 },
 "nbformat": 4,
 "nbformat_minor": 2
}
