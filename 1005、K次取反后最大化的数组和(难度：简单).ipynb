{
 "cells": [
  {
   "cell_type": "markdown",
   "metadata": {},
   "source": [
    "# K 次取反后最大化的数组和\n",
    "\n",
    "**题目来源：力扣（LeetCode）**\n",
    "\n",
    "**链接：https://leetcode-cn.com/problems/maximize-sum-of-array-after-k-negations/**\n",
    "\n",
    "## 一、题目\n",
    "\n",
    "给定一个整数数组 A，我们只能用以下方法修改该数组：我们选择某个索引 i 并将 A[i] 替换为 -A[i]，然后总共重复这个过程 K 次。（我们可以多次选择同一个索引 i。）\n",
    "\n",
    "以这种方式修改数组后，返回数组可能的最大和。\n",
    "\n",
    "### 提示：\n",
    "\n",
    "- 1 <= A.length <= 10000\n",
    "- 1 <= K <= 10000\n",
    "- -100 <= A[i] <= 100\n",
    "\n",
    "## 二、示例\n",
    "\n",
    "### 示例 1：\n",
    "\n",
    "输入：A = [4,2,3], K = 1\n",
    "\n",
    "输出：5\n",
    "\n",
    "解释：选择索引 (1,) ，然后 A 变为 [4,-2,3]。\n",
    "\n",
    "### 示例 2：\n",
    "\n",
    "输入：A = [3,-1,0,2], K = 3\n",
    "\n",
    "输出：6\n",
    "\n",
    "解释：选择索引 (1, 2, 2) ，然后 A 变为 [3,1,0,2]。\n",
    "\n",
    "### 示例 3：\n",
    "\n",
    "输入：A = [2,-3,-1,5,-4], K = 2\n",
    "\n",
    "输出：13\n",
    "\n",
    "解释：选择索引 (1, 4) ，然后 A 变为 [2,3,-1,5,4]。\n",
    "\n",
    "## 三、解题思路\n",
    "\n",
    "### 一、排序"
   ]
  },
  {
   "cell_type": "code",
   "execution_count": 1,
   "metadata": {},
   "outputs": [],
   "source": [
    "def largestSumAfterKNegations(A, K: int) -> int:\n",
    "    for i in range(K):\n",
    "        A.sort()\n",
    "        A[0] = -A[0]\n",
    "    return sum(A)"
   ]
  },
  {
   "cell_type": "code",
   "execution_count": 2,
   "metadata": {},
   "outputs": [
    {
     "data": {
      "text/plain": [
       "5"
      ]
     },
     "execution_count": 2,
     "metadata": {},
     "output_type": "execute_result"
    }
   ],
   "source": [
    "largestSumAfterKNegations(A = [4,2,3], K = 1)"
   ]
  },
  {
   "cell_type": "code",
   "execution_count": 3,
   "metadata": {},
   "outputs": [
    {
     "data": {
      "text/plain": [
       "6"
      ]
     },
     "execution_count": 3,
     "metadata": {},
     "output_type": "execute_result"
    }
   ],
   "source": [
    "largestSumAfterKNegations(A = [3,-1,0,2], K = 3)"
   ]
  },
  {
   "cell_type": "code",
   "execution_count": 4,
   "metadata": {},
   "outputs": [
    {
     "data": {
      "text/plain": [
       "13"
      ]
     },
     "execution_count": 4,
     "metadata": {},
     "output_type": "execute_result"
    }
   ],
   "source": [
    "largestSumAfterKNegations(A = [2,-3,-1,5,-4], K = 2)"
   ]
  },
  {
   "cell_type": "markdown",
   "metadata": {},
   "source": [
    "### 二、一次排序"
   ]
  },
  {
   "cell_type": "code",
   "execution_count": 5,
   "metadata": {},
   "outputs": [],
   "source": [
    "def largestSumAfterKNegations(A, K: int) -> int:\n",
    "    A.sort()\n",
    "    i=0\n",
    "    while i<K:\n",
    "        if A[i]<0:\n",
    "            A[i]=-A[i]\n",
    "            i+=1\n",
    "        else:\n",
    "            if (K-i)%2==0:\n",
    "                break\n",
    "            else:\n",
    "                if i!=0 and A[i]>A[i-1]:\n",
    "                    A[i-1]=-A[i-1]\n",
    "                else:\n",
    "                    A[i]=-A[i]\n",
    "                break\n",
    "    return sum(A)"
   ]
  },
  {
   "cell_type": "code",
   "execution_count": 6,
   "metadata": {},
   "outputs": [
    {
     "data": {
      "text/plain": [
       "5"
      ]
     },
     "execution_count": 6,
     "metadata": {},
     "output_type": "execute_result"
    }
   ],
   "source": [
    "largestSumAfterKNegations(A = [4,2,3], K = 1)"
   ]
  },
  {
   "cell_type": "code",
   "execution_count": 7,
   "metadata": {},
   "outputs": [
    {
     "data": {
      "text/plain": [
       "6"
      ]
     },
     "execution_count": 7,
     "metadata": {},
     "output_type": "execute_result"
    }
   ],
   "source": [
    "largestSumAfterKNegations(A = [3,-1,0,2], K = 3)"
   ]
  },
  {
   "cell_type": "code",
   "execution_count": 8,
   "metadata": {},
   "outputs": [
    {
     "data": {
      "text/plain": [
       "13"
      ]
     },
     "execution_count": 8,
     "metadata": {},
     "output_type": "execute_result"
    }
   ],
   "source": [
    "largestSumAfterKNegations(A = [2,-3,-1,5,-4], K = 2)"
   ]
  },
  {
   "cell_type": "code",
   "execution_count": null,
   "metadata": {},
   "outputs": [],
   "source": []
  }
 ],
 "metadata": {
  "kernelspec": {
   "display_name": "Python 3",
   "language": "python",
   "name": "python3"
  },
  "language_info": {
   "codemirror_mode": {
    "name": "ipython",
    "version": 3
   },
   "file_extension": ".py",
   "mimetype": "text/x-python",
   "name": "python",
   "nbconvert_exporter": "python",
   "pygments_lexer": "ipython3",
   "version": "3.6.5"
  }
 },
 "nbformat": 4,
 "nbformat_minor": 2
}
