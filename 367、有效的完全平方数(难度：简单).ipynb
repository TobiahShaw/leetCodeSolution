{
 "cells": [
  {
   "cell_type": "markdown",
   "metadata": {},
   "source": [
    "# 有效的完全平方数\n",
    "\n",
    "**题目来源：力扣（LeetCode）**\n",
    "\n",
    "**链接：https://leetcode-cn.com/problems/valid-perfect-square/**\n",
    "\n",
    "## 一、题目\n",
    "\n",
    "给定一个正整数 num，编写一个函数，如果 num 是一个完全平方数，则返回 True，否则返回 False。\n",
    "\n",
    "说明：不要使用任何内置的库函数，如  sqrt。\n",
    "\n",
    "## 二、示例\n",
    "\n",
    "### 示例 1：\n",
    "\n",
    "输入：16\n",
    "\n",
    "输出：True\n",
    "\n",
    "### 示例 2：\n",
    "\n",
    "输入：14\n",
    "\n",
    "输出：False\n",
    "\n",
    "## 三、解题思路\n",
    "\n",
    "### 二分法"
   ]
  },
  {
   "cell_type": "code",
   "execution_count": 1,
   "metadata": {},
   "outputs": [],
   "source": [
    "def isPerfectSquare(num: int) -> bool:\n",
    "    if num < 2:\n",
    "        return True\n",
    "    \n",
    "    left, right = 2, num // 2\n",
    "    \n",
    "    while left <= right:\n",
    "        x = left + (right - left) // 2\n",
    "        guess_squared = x * x\n",
    "        if guess_squared == num:\n",
    "            return True\n",
    "        if guess_squared > num:\n",
    "            right = x - 1\n",
    "        else:\n",
    "            left = x + 1\n",
    "    \n",
    "    return False"
   ]
  },
  {
   "cell_type": "code",
   "execution_count": 2,
   "metadata": {},
   "outputs": [
    {
     "data": {
      "text/plain": [
       "True"
      ]
     },
     "execution_count": 2,
     "metadata": {},
     "output_type": "execute_result"
    }
   ],
   "source": [
    "isPerfectSquare(16)"
   ]
  },
  {
   "cell_type": "code",
   "execution_count": 3,
   "metadata": {},
   "outputs": [
    {
     "data": {
      "text/plain": [
       "False"
      ]
     },
     "execution_count": 3,
     "metadata": {},
     "output_type": "execute_result"
    }
   ],
   "source": [
    "isPerfectSquare(14)"
   ]
  },
  {
   "cell_type": "code",
   "execution_count": null,
   "metadata": {},
   "outputs": [],
   "source": []
  }
 ],
 "metadata": {
  "kernelspec": {
   "display_name": "Python 3",
   "language": "python",
   "name": "python3"
  },
  "language_info": {
   "codemirror_mode": {
    "name": "ipython",
    "version": 3
   },
   "file_extension": ".py",
   "mimetype": "text/x-python",
   "name": "python",
   "nbconvert_exporter": "python",
   "pygments_lexer": "ipython3",
   "version": "3.6.5"
  }
 },
 "nbformat": 4,
 "nbformat_minor": 2
}
