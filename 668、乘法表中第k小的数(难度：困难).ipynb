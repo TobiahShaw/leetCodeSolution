{
 "cells": [
  {
   "cell_type": "markdown",
   "metadata": {},
   "source": [
    "# 乘法表中第k小的数\n",
    "\n",
    "**题目来源：力扣（LeetCode）**\n",
    "\n",
    "**链接：https://leetcode.cn/problems/kth-smallest-number-in-multiplication-table/**\n",
    "\n",
    "## 一、题目\n",
    "\n",
    "几乎每一个人都用 乘法表。但是你能在乘法表中快速找到第k小的数字吗？\n",
    "\n",
    "给定高度m 、宽度n 的一张 m * n的乘法表，以及正整数k，你需要返回表中第k 小的数字。\n",
    "\n",
    "### 提示：\n",
    "\n",
    "- m 和 n 的范围在 [1, 30000] 之间。\n",
    "- k 的范围在 [1, m * n] 之间。\n",
    "\n",
    "## 二、示例\n",
    "\n",
    "### 示例 1：\n",
    "\n",
    "输入: m = 3, n = 3, k = 5\n",
    "\n",
    "输出: 3\n",
    "\n",
    "解释: \n",
    "\n",
    "乘法表:\n",
    "\n",
    "```\n",
    "1\t2\t3\n",
    "2\t4\t6\n",
    "3\t6\t9\n",
    "```\n",
    "\n",
    "第5小的数字是 3 (1, 2, 2, 3, 3).\n",
    "\n",
    "### 示例 2：\n",
    "\n",
    "输入: m = 2, n = 3, k = 6\n",
    "\n",
    "输出: 6\n",
    "\n",
    "解释: \n",
    "\n",
    "乘法表:\n",
    "\n",
    "```\n",
    "1\t2\t3\n",
    "2\t4\t6\n",
    "```\n",
    "\n",
    "第6小的数字是 6 (1, 2, 2, 3, 4, 6).\n",
    "\n",
    "## 三、解题思路\n",
    "\n",
    "### 二分"
   ]
  },
  {
   "cell_type": "code",
   "execution_count": 1,
   "metadata": {},
   "outputs": [],
   "source": [
    "def findKthNumber(m: int, n: int, k: int) -> int:\n",
    "    from bisect import bisect_left\n",
    "    return bisect_left(range(m * n), k, key=lambda x: x // n * n + sum(x // i for i in range(x // n + 1, m + 1)))"
   ]
  },
  {
   "cell_type": "code",
   "execution_count": null,
   "metadata": {},
   "outputs": [],
   "source": []
  }
 ],
 "metadata": {
  "kernelspec": {
   "display_name": "Python 3",
   "language": "python",
   "name": "python3"
  },
  "language_info": {
   "codemirror_mode": {
    "name": "ipython",
    "version": 3
   },
   "file_extension": ".py",
   "mimetype": "text/x-python",
   "name": "python",
   "nbconvert_exporter": "python",
   "pygments_lexer": "ipython3",
   "version": "3.6.5"
  }
 },
 "nbformat": 4,
 "nbformat_minor": 2
}
