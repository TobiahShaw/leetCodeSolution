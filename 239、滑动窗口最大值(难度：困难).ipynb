{
 "cells": [
  {
   "cell_type": "markdown",
   "metadata": {},
   "source": [
    "# 滑动窗口最大值\n",
    "\n",
    "**题目来源：力扣（LeetCode）**\n",
    "\n",
    "**链接：https://leetcode-cn.com/problems/sliding-window-maximum/**\n",
    "\n",
    "## 一、题目\n",
    "\n",
    "给定一个数组 nums，有一个大小为 k 的滑动窗口从数组的最左侧移动到数组的最右侧。你只可以看到在滑动窗口内的 k 个数字。滑动窗口每次只向右移动一位。\n",
    "\n",
    "返回滑动窗口中的最大值。\n",
    "\n",
    "## 二、示例\n",
    "\n",
    "输入: nums = [1,3,-1,-3,5,3,6,7], 和 k = 3\n",
    "\n",
    "输出: [3,3,5,5,6,7] \n",
    "\n",
    "解释: \n",
    "\n",
    "```\n",
    "  滑动窗口的位置                最大值\n",
    "---------------               -----\n",
    "[1  3  -1] -3  5  3  6  7       3\n",
    " 1 [3  -1  -3] 5  3  6  7       3\n",
    " 1  3 [-1  -3  5] 3  6  7       5\n",
    " 1  3  -1 [-3  5  3] 6  7       5\n",
    " 1  3  -1  -3 [5  3  6] 7       6\n",
    " 1  3  -1  -3  5 [3  6  7]      7\n",
    "```\n",
    "\n",
    "## 三、解题思路\n",
    "\n",
    "### 一、暴力法"
   ]
  },
  {
   "cell_type": "code",
   "execution_count": 1,
   "metadata": {},
   "outputs": [],
   "source": [
    "def maxSlidingWindow(nums, k):\n",
    "    window = [0, k]\n",
    "    rst = []\n",
    "    while window[1] <= len(nums):\n",
    "        rst.append(max(nums[window[0] : window[1]]))\n",
    "        window[0] += 1\n",
    "        window[1] += 1\n",
    "    return rst"
   ]
  },
  {
   "cell_type": "code",
   "execution_count": 2,
   "metadata": {},
   "outputs": [
    {
     "data": {
      "text/plain": [
       "[3, 3, 5, 5, 6, 7]"
      ]
     },
     "execution_count": 2,
     "metadata": {},
     "output_type": "execute_result"
    }
   ],
   "source": [
    "maxSlidingWindow(nums = [1,3,-1,-3,5,3,6,7], k = 3)"
   ]
  },
  {
   "cell_type": "markdown",
   "metadata": {},
   "source": [
    "### 二、双端队列"
   ]
  },
  {
   "cell_type": "code",
   "execution_count": 3,
   "metadata": {},
   "outputs": [],
   "source": [
    "def maxSlidingWindow(nums, k):\n",
    "    from collections import deque\n",
    "    dq = deque([])\n",
    "    rst = []\n",
    "    for i in range(k):\n",
    "        while dq and nums[dq[0]] < nums[i]:\n",
    "            dq.popleft()\n",
    "        dq.appendleft(i)\n",
    "    rst.append(nums[dq[-1]])\n",
    "    j = 0\n",
    "    for i in range(k,len(nums)):\n",
    "        while dq and dq[-1] <= j:\n",
    "            dq.pop()\n",
    "        while dq and nums[dq[0]] < nums[i]:\n",
    "            dq.popleft()\n",
    "        dq.appendleft(i)\n",
    "        rst.append(nums[dq[-1]])\n",
    "        j += 1\n",
    "    return rst"
   ]
  },
  {
   "cell_type": "code",
   "execution_count": 4,
   "metadata": {},
   "outputs": [
    {
     "data": {
      "text/plain": [
       "[3, 3, 5, 5, 6, 7]"
      ]
     },
     "execution_count": 4,
     "metadata": {},
     "output_type": "execute_result"
    }
   ],
   "source": [
    "maxSlidingWindow(nums = [1,3,-1,-3,5,3,6,7], k = 3)"
   ]
  },
  {
   "cell_type": "markdown",
   "metadata": {},
   "source": [
    "### 三、优先队列\n",
    "\n",
    "初始时，我们将数组 nums 的前 k 个元素放入优先队列中。每当我们向右移动窗口时，我们就可以把一个新的元素放入优先队列中，此时堆顶的元素就是堆中所有元素的最大值。然而这个最大值可能并不在滑动窗口中，在这种情况下，这个值在数组 nums 中的位置出现在滑动窗口左边界的左侧。因此，当我们后续继续向右移动窗口时，这个值就永远不可能出现在滑动窗口中了，我们可以将其永久地从优先队列中移除。\n",
    "\n",
    "我们不断地移除堆顶的元素，直到其确实出现在滑动窗口中。此时，堆顶元素就是滑动窗口中的最大值。为了方便判断堆顶元素与滑动窗口的位置关系，我们可以在优先队列中存储二元组 (num,index)，表示元素 \\textit{num}num 在数组中的下标为 index。\n",
    "\n",
    "作者：LeetCode-Solution\n",
    "链接：https://leetcode-cn.com/problems/sliding-window-maximum/solution/hua-dong-chuang-kou-zui-da-zhi-by-leetco-ki6m/"
   ]
  },
  {
   "cell_type": "code",
   "execution_count": 5,
   "metadata": {},
   "outputs": [],
   "source": [
    "def maxSlidingWindow(nums, k):\n",
    "    import heapq\n",
    "    n = len(nums)\n",
    "    # 注意 Python 默认的优先队列是小根堆\n",
    "    q = [(-nums[i], i) for i in range(k)]\n",
    "    heapq.heapify(q)\n",
    "    ans = [-q[0][0]]\n",
    "    for i in range(k, n):\n",
    "        heapq.heappush(q, (-nums[i], i))\n",
    "        while q[0][1] <= i - k:\n",
    "            heapq.heappop(q)\n",
    "        ans.append(-q[0][0])\n",
    "    return ans"
   ]
  },
  {
   "cell_type": "code",
   "execution_count": 6,
   "metadata": {},
   "outputs": [
    {
     "data": {
      "text/plain": [
       "[3, 3, 5, 5, 6, 7]"
      ]
     },
     "execution_count": 6,
     "metadata": {},
     "output_type": "execute_result"
    }
   ],
   "source": [
    "maxSlidingWindow(nums = [1,3,-1,-3,5,3,6,7], k = 3)"
   ]
  },
  {
   "cell_type": "code",
   "execution_count": null,
   "metadata": {},
   "outputs": [],
   "source": []
  }
 ],
 "metadata": {
  "kernelspec": {
   "display_name": "Python 3",
   "language": "python",
   "name": "python3"
  },
  "language_info": {
   "codemirror_mode": {
    "name": "ipython",
    "version": 3
   },
   "file_extension": ".py",
   "mimetype": "text/x-python",
   "name": "python",
   "nbconvert_exporter": "python",
   "pygments_lexer": "ipython3",
   "version": "3.6.5"
  }
 },
 "nbformat": 4,
 "nbformat_minor": 2
}
