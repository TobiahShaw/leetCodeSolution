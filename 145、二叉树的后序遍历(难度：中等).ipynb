{
 "cells": [
  {
   "cell_type": "markdown",
   "metadata": {},
   "source": [
    "# 二叉树的后序遍历\n",
    "\n",
    "**题目来源：力扣（LeetCode）**\n",
    "\n",
    "**链接：https://leetcode-cn.com/problems/binary-tree-postorder-traversal/**\n",
    "\n",
    "## 一、题目\n",
    "\n",
    "给定一个二叉树，返回它的 后序 遍历。\n",
    "\n",
    "进阶: 递归算法很简单，你可以通过迭代算法完成吗？\n",
    "\n",
    "### 提示：\n",
    "\n",
    "- 树中节点的数目在范围 [0, 100] 内\n",
    "- -100 <= Node.val <= 100\n",
    "\n",
    "## 二、示例\n",
    "\n",
    "### 示例 1：\n",
    "\n",
    "输入: [1,null,2,3]  \n",
    "\n",
    "```\n",
    "   1\n",
    "    \\\n",
    "     2\n",
    "    /\n",
    "   3 \n",
    "```\n",
    "\n",
    "输出: [3,2,1]\n",
    "\n",
    "### 示例 2：\n",
    "\n",
    "输入：root = []\n",
    "\n",
    "输出：[]\n",
    "\n",
    "### 示例 3：\n",
    "\n",
    "输入：root = [1]\n",
    "\n",
    "输出：[1]\n",
    "\n",
    "## 三、解题思路"
   ]
  },
  {
   "cell_type": "code",
   "execution_count": 1,
   "metadata": {},
   "outputs": [],
   "source": [
    "class TreeNode:\n",
    "    def __init__(self, x):\n",
    "        self.val = x\n",
    "        self.left = None\n",
    "        self.right = None"
   ]
  },
  {
   "cell_type": "code",
   "execution_count": 2,
   "metadata": {},
   "outputs": [],
   "source": [
    "root = TreeNode(1)\n",
    "\n",
    "root.right = TreeNode(2)\n",
    "\n",
    "root.left = TreeNode(3)\n",
    "\n",
    "root2 = None\n",
    "\n",
    "root3 = TreeNode(1)"
   ]
  },
  {
   "cell_type": "markdown",
   "metadata": {},
   "source": [
    "### 一、递归"
   ]
  },
  {
   "cell_type": "code",
   "execution_count": 3,
   "metadata": {},
   "outputs": [],
   "source": [
    "class Solution:\n",
    "    def postorderTraversal(self, root: TreeNode):\n",
    "        ret = []\n",
    "        def traversal(node):\n",
    "            if not node:\n",
    "                return\n",
    "            traversal(node.left)\n",
    "            traversal(node.right)\n",
    "            nonlocal ret\n",
    "            ret.append(node.val)\n",
    "        traversal(root)\n",
    "        return ret"
   ]
  },
  {
   "cell_type": "code",
   "execution_count": 4,
   "metadata": {},
   "outputs": [
    {
     "data": {
      "text/plain": [
       "[3, 2, 1]"
      ]
     },
     "execution_count": 4,
     "metadata": {},
     "output_type": "execute_result"
    }
   ],
   "source": [
    "s = Solution()\n",
    "s.postorderTraversal(root)"
   ]
  },
  {
   "cell_type": "code",
   "execution_count": 5,
   "metadata": {},
   "outputs": [
    {
     "data": {
      "text/plain": [
       "[]"
      ]
     },
     "execution_count": 5,
     "metadata": {},
     "output_type": "execute_result"
    }
   ],
   "source": [
    "s.postorderTraversal(root2)"
   ]
  },
  {
   "cell_type": "code",
   "execution_count": 6,
   "metadata": {},
   "outputs": [
    {
     "data": {
      "text/plain": [
       "[1]"
      ]
     },
     "execution_count": 6,
     "metadata": {},
     "output_type": "execute_result"
    }
   ],
   "source": [
    "s.postorderTraversal(root3)"
   ]
  },
  {
   "cell_type": "markdown",
   "metadata": {},
   "source": [
    "### 二、迭代\n",
    "\n",
    "递归维护了一个隐式的栈，这个方法和递归原理一样，只是显式的维护一个栈"
   ]
  },
  {
   "cell_type": "code",
   "execution_count": 7,
   "metadata": {},
   "outputs": [],
   "source": [
    "class Solution:\n",
    "    def postorderTraversal(self, root: TreeNode):\n",
    "        if not root:\n",
    "            return []\n",
    "        res = []\n",
    "        stack = []\n",
    "        prev = None\n",
    "        while root or stack:\n",
    "            while root:\n",
    "                stack.append(root)\n",
    "                root = root.left\n",
    "            root = stack.pop()\n",
    "            if not root.right or root.right == prev:\n",
    "                res.append(root.val)\n",
    "                prev = root\n",
    "                root = None\n",
    "            else:\n",
    "                stack.append(root)\n",
    "                root = root.right\n",
    "        return res"
   ]
  },
  {
   "cell_type": "code",
   "execution_count": 8,
   "metadata": {},
   "outputs": [
    {
     "data": {
      "text/plain": [
       "[3, 2, 1]"
      ]
     },
     "execution_count": 8,
     "metadata": {},
     "output_type": "execute_result"
    }
   ],
   "source": [
    "s = Solution()\n",
    "s.postorderTraversal(root)"
   ]
  },
  {
   "cell_type": "code",
   "execution_count": 9,
   "metadata": {},
   "outputs": [
    {
     "data": {
      "text/plain": [
       "[]"
      ]
     },
     "execution_count": 9,
     "metadata": {},
     "output_type": "execute_result"
    }
   ],
   "source": [
    "s.postorderTraversal(root2)"
   ]
  },
  {
   "cell_type": "code",
   "execution_count": 10,
   "metadata": {},
   "outputs": [
    {
     "data": {
      "text/plain": [
       "[1]"
      ]
     },
     "execution_count": 10,
     "metadata": {},
     "output_type": "execute_result"
    }
   ],
   "source": [
    "s.postorderTraversal(root3)"
   ]
  },
  {
   "cell_type": "code",
   "execution_count": null,
   "metadata": {},
   "outputs": [],
   "source": []
  }
 ],
 "metadata": {
  "kernelspec": {
   "display_name": "Python 3 (ipykernel)",
   "language": "python",
   "name": "python3"
  },
  "language_info": {
   "codemirror_mode": {
    "name": "ipython",
    "version": 3
   },
   "file_extension": ".py",
   "mimetype": "text/x-python",
   "name": "python",
   "nbconvert_exporter": "python",
   "pygments_lexer": "ipython3",
   "version": "3.9.10+"
  }
 },
 "nbformat": 4,
 "nbformat_minor": 2
}
