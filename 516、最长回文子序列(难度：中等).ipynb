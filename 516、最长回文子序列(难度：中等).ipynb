{
 "cells": [
  {
   "cell_type": "markdown",
   "metadata": {},
   "source": [
    "# 最长回文子序列\n",
    "\n",
    "**题目来源：力扣（LeetCode）**\n",
    "\n",
    "**链接：https://leetcode-cn.com/problems/longest-palindromic-subsequence/**\n",
    "\n",
    "## 一、题目\n",
    "\n",
    "给你一个字符串 s ，找出其中最长的回文子序列，并返回该序列的长度。\n",
    "\n",
    "子序列定义为：不改变剩余字符顺序的情况下，删除某些字符或者不删除任何字符形成的一个序列。\n",
    "\n",
    "### 提示：\n",
    "\n",
    "- 1 <= s.length <= 1000\n",
    "- s 仅由小写英文字母组成\n",
    "\n",
    "## 二、示例\n",
    "\n",
    "### 示例 1：\n",
    "\n",
    "输入：s = \"bbbab\"\n",
    "\n",
    "输出：4\n",
    "\n",
    "解释：一个可能的最长回文子序列为 \"bbbb\" 。\n",
    "\n",
    "### 示例 2：\n",
    "\n",
    "输入：s = \"cbbd\"\n",
    "\n",
    "输出：2\n",
    "\n",
    "解释：一个可能的最长回文子序列为 \"bb\" 。\n",
    "\n",
    "## 三、解题思路\n",
    "\n",
    "### 动态规划\n",
    "\n",
    "- dp[i][j] 代表从i到j最长的回文子序列长度（闭区间）\n",
    "- dp[i][i] = 1 因为单个字母也是回文\n",
    "- 当s[i] == s[j]则可以再i+1到j-1最长的回文子序列长度再加2，即 dp[i][j] = dp[i+1][j-1] + 2\n",
    "- 当s[i] != s[j]则这两个字母不能同时成为回文的两个端点此时：dp[i][j] = max(dp[i+1][j], dp[i][j-1])\n",
    "- 最终答案是dp[0][n-1]即从头到尾整个字符串最长回文子序列的长度"
   ]
  },
  {
   "cell_type": "code",
   "execution_count": 1,
   "metadata": {},
   "outputs": [],
   "source": [
    "def longestPalindromeSubseq(s: str) -> int:\n",
    "    n = len(s)\n",
    "    dp = [[0] * n for _ in range(n)]\n",
    "    for i in range(n-1, -1, -1):\n",
    "        dp[i][i] = 1\n",
    "        for j in range(i+1, n):\n",
    "            if s[i] == s[j]:\n",
    "                dp[i][j] = dp[i+1][j-1] + 2\n",
    "            else:\n",
    "                dp[i][j] = max(dp[i+1][j], dp[i][j-1])\n",
    "    return dp[0][n-1]"
   ]
  },
  {
   "cell_type": "code",
   "execution_count": 2,
   "metadata": {},
   "outputs": [
    {
     "data": {
      "text/plain": [
       "4"
      ]
     },
     "execution_count": 2,
     "metadata": {},
     "output_type": "execute_result"
    }
   ],
   "source": [
    "longestPalindromeSubseq(\"bbbab\")"
   ]
  },
  {
   "cell_type": "code",
   "execution_count": 3,
   "metadata": {},
   "outputs": [
    {
     "data": {
      "text/plain": [
       "2"
      ]
     },
     "execution_count": 3,
     "metadata": {},
     "output_type": "execute_result"
    }
   ],
   "source": [
    "longestPalindromeSubseq(\"cbbd\")"
   ]
  },
  {
   "cell_type": "code",
   "execution_count": null,
   "metadata": {},
   "outputs": [],
   "source": []
  }
 ],
 "metadata": {
  "kernelspec": {
   "display_name": "Python 3",
   "language": "python",
   "name": "python3"
  },
  "language_info": {
   "codemirror_mode": {
    "name": "ipython",
    "version": 3
   },
   "file_extension": ".py",
   "mimetype": "text/x-python",
   "name": "python",
   "nbconvert_exporter": "python",
   "pygments_lexer": "ipython3",
   "version": "3.6.5"
  }
 },
 "nbformat": 4,
 "nbformat_minor": 2
}
