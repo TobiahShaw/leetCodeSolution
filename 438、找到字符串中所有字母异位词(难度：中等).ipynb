{
 "cells": [
  {
   "cell_type": "markdown",
   "metadata": {},
   "source": [
    "# 找到字符串中所有字母异位词\n",
    "\n",
    "**题目来源：力扣（LeetCode）**\n",
    "\n",
    "**链接：https://leetcode-cn.com/problems/find-all-anagrams-in-a-string/**\n",
    "\n",
    "## 一、题目\n",
    "\n",
    "给定两个字符串 s 和 p，找到 s 中所有 p 的 异位词 的子串，返回这些子串的起始索引。不考虑答案输出的顺序。\n",
    "\n",
    "异位词 指由相同字母重排列形成的字符串（包括相同的字符串）。\n",
    "\n",
    "### 提示:\n",
    "\n",
    "- 1 <= s.length, p.length <= 3 * 10^4\n",
    "- s 和 p 仅包含小写字母\n",
    "\n",
    "## 二、示例\n",
    "\n",
    "### 示例 1：\n",
    "\n",
    "输入: s = \"cbaebabacd\", p = \"abc\"\n",
    "\n",
    "输出: [0,6]\n",
    "\n",
    "解释:\n",
    "\n",
    "起始索引等于 0 的子串是 \"cba\", 它是 \"abc\" 的异位词。\n",
    "\n",
    "起始索引等于 6 的子串是 \"bac\", 它是 \"abc\" 的异位词。\n",
    "\n",
    "### 示例 2:\n",
    "\n",
    "输入: s = \"abab\", p = \"ab\"\n",
    "\n",
    "输出: [0,1,2]\n",
    "\n",
    "解释:\n",
    "\n",
    "起始索引等于 0 的子串是 \"ab\", 它是 \"ab\" 的异位词。\n",
    "\n",
    "起始索引等于 1 的子串是 \"ba\", 它是 \"ab\" 的异位词。\n",
    "\n",
    "起始索引等于 2 的子串是 \"ab\", 它是 \"ab\" 的异位词。\n",
    "\n",
    "## 三、解题思路\n",
    "\n",
    "### 滑动窗口"
   ]
  },
  {
   "cell_type": "code",
   "execution_count": 1,
   "metadata": {},
   "outputs": [],
   "source": [
    "def findAnagrams(s: str, p: str):\n",
    "    s_len, p_len = len(s), len(p)\n",
    "    if s_len < p_len:\n",
    "        return []\n",
    "    ret = []\n",
    "    s_alphabet = [0] * 26\n",
    "    p_alphabet = [0] * 26\n",
    "    ord_a = ord('a')\n",
    "    for i in range(p_len):\n",
    "        s_alphabet[ord(s[i]) - ord_a] += 1\n",
    "        p_alphabet[ord(p[i]) - ord_a] += 1\n",
    "    if s_alphabet == p_alphabet:\n",
    "        ret.append(0)\n",
    "    for i in range(s_len - p_len):\n",
    "        s_alphabet[ord(s[i]) - ord_a] -= 1\n",
    "        s_alphabet[ord(s[i+p_len]) - ord_a] += 1\n",
    "        if s_alphabet == p_alphabet:\n",
    "            ret.append(i+1)\n",
    "    return ret"
   ]
  },
  {
   "cell_type": "code",
   "execution_count": 2,
   "metadata": {},
   "outputs": [
    {
     "data": {
      "text/plain": [
       "[0, 6]"
      ]
     },
     "execution_count": 2,
     "metadata": {},
     "output_type": "execute_result"
    }
   ],
   "source": [
    "findAnagrams(s = \"cbaebabacd\", p = \"abc\")"
   ]
  },
  {
   "cell_type": "code",
   "execution_count": 3,
   "metadata": {},
   "outputs": [
    {
     "data": {
      "text/plain": [
       "[0, 1, 2]"
      ]
     },
     "execution_count": 3,
     "metadata": {},
     "output_type": "execute_result"
    }
   ],
   "source": [
    "findAnagrams(s = \"abab\", p = \"ab\")"
   ]
  },
  {
   "cell_type": "code",
   "execution_count": null,
   "metadata": {},
   "outputs": [],
   "source": []
  }
 ],
 "metadata": {
  "kernelspec": {
   "display_name": "Python 3",
   "language": "python",
   "name": "python3"
  },
  "language_info": {
   "codemirror_mode": {
    "name": "ipython",
    "version": 3
   },
   "file_extension": ".py",
   "mimetype": "text/x-python",
   "name": "python",
   "nbconvert_exporter": "python",
   "pygments_lexer": "ipython3",
   "version": "3.6.5"
  }
 },
 "nbformat": 4,
 "nbformat_minor": 2
}
