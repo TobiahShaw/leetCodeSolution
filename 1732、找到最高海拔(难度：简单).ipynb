{
 "cells": [
  {
   "cell_type": "markdown",
   "metadata": {},
   "source": [
    "# 找到最高海拔\n",
    "\n",
    "**题目来源：力扣（LeetCode）**\n",
    "\n",
    "**链接：https://leetcode-cn.com/problems/find-the-highest-altitude/**\n",
    "\n",
    "## 一、题目\n",
    "\n",
    "有一个自行车手打算进行一场公路骑行，这条路线总共由 n + 1 个不同海拔的点组成。自行车手从海拔为 0 的点 0 开始骑行。\n",
    "\n",
    "给你一个长度为 n 的整数数组 gain ，其中 gain[i] 是点 i 和点 i + 1 的 净海拔高度差（0 <= i < n）。请你返回最高点的海拔 。\n",
    "\n",
    "### 提示：\n",
    "\n",
    "- n == gain.length\n",
    "- 1 <= n <= 100\n",
    "- -100 <= gain[i] <= 100\n",
    "\n",
    "## 二、示例\n",
    "\n",
    "### 示例 1：\n",
    "\n",
    "输入：gain = [-5,1,5,0,-7]\n",
    "\n",
    "输出：1\n",
    "\n",
    "解释：海拔高度依次为 [0,-5,-4,1,1,-6] 。最高海拔为 1 。\n",
    "\n",
    "### 示例 2：\n",
    "\n",
    "输入：gain = [-4,-3,-2,-1,4,3,2]\n",
    "\n",
    "输出：0\n",
    "\n",
    "解释：海拔高度依次为 [0,-4,-7,-9,-10,-6,-3,-1] 。最高海拔为 0 。\n",
    "\n",
    "## 三、解题思路\n",
    "\n",
    "### 循环"
   ]
  },
  {
   "cell_type": "code",
   "execution_count": 1,
   "metadata": {},
   "outputs": [],
   "source": [
    "class Solution:\n",
    "    def largestAltitude(self, gain) -> int:\n",
    "        largest = 0\n",
    "        cur = 0\n",
    "        for delta in gain:\n",
    "            cur += delta\n",
    "            if cur > largest:\n",
    "                largest = cur\n",
    "        return largest"
   ]
  },
  {
   "cell_type": "code",
   "execution_count": 2,
   "metadata": {},
   "outputs": [
    {
     "data": {
      "text/plain": [
       "1"
      ]
     },
     "execution_count": 2,
     "metadata": {},
     "output_type": "execute_result"
    }
   ],
   "source": [
    "s = Solution()\n",
    "s.largestAltitude([-5,1,5,0,-7])"
   ]
  },
  {
   "cell_type": "code",
   "execution_count": 3,
   "metadata": {},
   "outputs": [
    {
     "data": {
      "text/plain": [
       "0"
      ]
     },
     "execution_count": 3,
     "metadata": {},
     "output_type": "execute_result"
    }
   ],
   "source": [
    "s.largestAltitude([-4,-3,-2,-1,4,3,2])"
   ]
  },
  {
   "cell_type": "code",
   "execution_count": null,
   "metadata": {},
   "outputs": [],
   "source": []
  }
 ],
 "metadata": {
  "kernelspec": {
   "display_name": "Python 3 (ipykernel)",
   "language": "python",
   "name": "python3"
  },
  "language_info": {
   "codemirror_mode": {
    "name": "ipython",
    "version": 3
   },
   "file_extension": ".py",
   "mimetype": "text/x-python",
   "name": "python",
   "nbconvert_exporter": "python",
   "pygments_lexer": "ipython3",
   "version": "3.9.10+"
  }
 },
 "nbformat": 4,
 "nbformat_minor": 2
}
