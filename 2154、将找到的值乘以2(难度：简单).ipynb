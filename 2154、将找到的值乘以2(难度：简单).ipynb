{
 "cells": [
  {
   "cell_type": "markdown",
   "metadata": {},
   "source": [
    "# 将找到的值乘以2\n",
    "\n",
    "**题目来源：力扣（LeetCode）**\n",
    "\n",
    "**链接：https://leetcode-cn.com/problems/keep-multiplying-found-values-by-two/**\n",
    "\n",
    "## 一、题目\n",
    "\n",
    "给你一个整数数组 nums ，另给你一个整数 original ，这是需要在 nums 中搜索的第一个数字。\n",
    "\n",
    "接下来，你需要按下述步骤操作：\n",
    "\n",
    "- 如果在 nums 中找到 original ，将 original 乘以 2 ，得到新 original（即，令 original = 2 * original）。\n",
    "- 否则，停止这一过程。\n",
    "- 只要能在数组中找到新 original ，就对新 original 继续 重复 这一过程。\n",
    "\n",
    "返回 original 的 最终 值。\n",
    "\n",
    "### 提示：\n",
    "\n",
    "- 1 <= nums.length <= 1000\n",
    "- 1 <= nums[i], original <= 1000\n",
    "\n",
    "## 二、示例\n",
    "\n",
    "### 示例 1：\n",
    "\n",
    "输入：nums = [5,3,6,1,12], original = 3\n",
    "\n",
    "输出：24\n",
    "\n",
    "解释： \n",
    "\n",
    "- 3 能在 nums 中找到。3 * 2 = 6 。\n",
    "- 6 能在 nums 中找到。6 * 2 = 12 。\n",
    "- 12 能在 nums 中找到。12 * 2 = 24 。\n",
    "- 24 不能在 nums 中找到。因此，返回 24 。\n",
    "\n",
    "### 示例 2：\n",
    "\n",
    "输入：nums = [2,7,9], original = 4\n",
    "\n",
    "输出：4\n",
    "\n",
    "解释：\n",
    "\n",
    "- 4 不能在 nums 中找到。因此，返回 4 。\n",
    "\n",
    "## 三、解题思路\n",
    "\n",
    "### 利用集合"
   ]
  },
  {
   "cell_type": "code",
   "execution_count": 1,
   "metadata": {},
   "outputs": [],
   "source": [
    "def findFinalValue(nums, original: int) -> int:\n",
    "    num_set = set()\n",
    "    for num in nums:\n",
    "        num_set.add(num)\n",
    "    while original in num_set:\n",
    "        original *= 2\n",
    "    return original"
   ]
  },
  {
   "cell_type": "code",
   "execution_count": 2,
   "metadata": {},
   "outputs": [
    {
     "data": {
      "text/plain": [
       "24"
      ]
     },
     "execution_count": 2,
     "metadata": {},
     "output_type": "execute_result"
    }
   ],
   "source": [
    "findFinalValue(nums = [5,3,6,1,12], original = 3)"
   ]
  },
  {
   "cell_type": "code",
   "execution_count": 3,
   "metadata": {},
   "outputs": [
    {
     "data": {
      "text/plain": [
       "4"
      ]
     },
     "execution_count": 3,
     "metadata": {},
     "output_type": "execute_result"
    }
   ],
   "source": [
    "findFinalValue(nums = [2,7,9], original = 4)"
   ]
  },
  {
   "cell_type": "code",
   "execution_count": null,
   "metadata": {},
   "outputs": [],
   "source": []
  }
 ],
 "metadata": {
  "kernelspec": {
   "display_name": "Python 3",
   "language": "python",
   "name": "python3"
  },
  "language_info": {
   "codemirror_mode": {
    "name": "ipython",
    "version": 3
   },
   "file_extension": ".py",
   "mimetype": "text/x-python",
   "name": "python",
   "nbconvert_exporter": "python",
   "pygments_lexer": "ipython3",
   "version": "3.6.5"
  }
 },
 "nbformat": 4,
 "nbformat_minor": 2
}
