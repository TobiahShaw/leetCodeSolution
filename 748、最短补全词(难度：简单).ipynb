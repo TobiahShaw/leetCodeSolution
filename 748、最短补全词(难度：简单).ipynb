{
 "cells": [
  {
   "cell_type": "markdown",
   "metadata": {},
   "source": [
    "# 最短补全词\n",
    "\n",
    "**题目来源：力扣（LeetCode）**\n",
    "\n",
    "**链接：https://leetcode-cn.com/problems/shortest-completing-word/**\n",
    "\n",
    "## 一、题目\n",
    "\n",
    "给定一个字符串牌照 licensePlate 和一个字符串数组 words ，请你找出并返回 words 中的 最短补全词 。\n",
    "\n",
    "如果单词列表（words）中的一个单词包含牌照（licensePlate）中所有的字母，那么我们称之为 补全词 。在所有完整词中，最短的单词我们称之为 最短补全词 。\n",
    "\n",
    "单词在匹配牌照中的字母时要：\n",
    "\n",
    "- 忽略牌照中的数字和空格。\n",
    "- 不区分大小写，比如牌照中的 \"P\" 依然可以匹配单词中的 \"p\" 字母。\n",
    "- 如果某个字母在牌照中出现不止一次，那么该字母在补全词中的出现次数应当一致或者更多。\n",
    "\n",
    "例如：licensePlate = \"aBc 12c\"，那么它由字母 'a'、'b' （忽略大写）和两个 'c' 。可能的 补全词 是 \"abccdef\"、\"caaacab\" 以及 \"cbca\" 。\n",
    "\n",
    "题目数据保证一定存在一个最短补全词。当有多个单词都符合最短补全词的匹配条件时取单词列表中最靠前的一个。\n",
    "\n",
    "### 提示：\n",
    "\n",
    "- 1 <= licensePlate.length <= 7\n",
    "- licensePlate 由数字、大小写字母或空格 ' ' 组成\n",
    "- 1 <= words.length <= 1000\n",
    "- 1 <= words[i].length <= 15\n",
    "- words[i] 由小写英文字母组成\n",
    "\n",
    "## 二、示例\n",
    "\n",
    "### 示例 1：\n",
    "\n",
    "输入：licensePlate = \"1s3 PSt\", words = [\"step\", \"steps\", \"stripe\", \"stepple\"]\n",
    "\n",
    "输出：\"steps\"\n",
    "\n",
    "说明：最短补全词应该包括 \"s\"、\"p\"、\"s\" 以及 \"t\"。在匹配过程中我们忽略牌照中的大小写。\n",
    "\n",
    "- \"step\" 包含 \"t\"、\"p\"，但只包含一个 \"s\"，所以它不符合条件。\n",
    "- \"steps\" 包含 \"t\"、\"p\" 和两个 \"s\"。\n",
    "- \"stripe\" 缺一个 \"s\"。\n",
    "- \"stepple\" 缺一个 \"s\"。\n",
    "\n",
    "因此，\"steps\" 是唯一一个包含所有字母的单词，也是本样例的答案。\n",
    "\n",
    "### 示例 2：\n",
    "\n",
    "输入：licensePlate = \"1s3 456\", words = [\"looks\", \"pest\", \"stew\", \"show\"]\n",
    "\n",
    "输出：\"pest\"\n",
    "\n",
    "说明：存在 3 个包含字母 \"s\" 且有着最短长度的补全词，\"pest\"、\"stew\"、和 \"show\" 三者长度相同，但我们返回最先出现的补全词 \"pest\" 。\n",
    "\n",
    "### 示例 3：\n",
    "\n",
    "输入：licensePlate = \"Ah71752\", words = [\"suggest\",\"letter\",\"of\",\"husband\",\"easy\",\"education\",\"drug\",\"prevent\",\"writer\",\"old\"]\n",
    "\n",
    "输出：\"husband\"\n",
    "\n",
    "### 示例 4：\n",
    "\n",
    "输入：licensePlate = \"OgEu755\", words = [\"enough\",\"these\",\"play\",\"wide\",\"wonder\",\"box\",\"arrive\",\"money\",\"tax\",\"thus\"]\n",
    "\n",
    "输出：\"enough\"\n",
    "\n",
    "### 示例 5：\n",
    "\n",
    "输入：licensePlate = \"iMSlpe4\", words = [\"claim\",\"consumer\",\"student\",\"camera\",\"public\",\"never\",\"wonder\",\"simple\",\"thought\",\"use\"]\n",
    "\n",
    "输出：\"simple\"\n",
    "\n",
    "## 三、解题思路\n",
    "\n",
    "### 模拟过程"
   ]
  },
  {
   "cell_type": "code",
   "execution_count": 1,
   "metadata": {},
   "outputs": [],
   "source": [
    "def shortestCompletingWord(licensePlate: str, words) -> str:\n",
    "    alphas = []\n",
    "    for ch in licensePlate:\n",
    "        if ch.isalpha():\n",
    "            alphas.append(ch.lower())\n",
    "    n = len(alphas)\n",
    "    ret = None\n",
    "    def isCompletingWord(word):\n",
    "        if len(word) < n:\n",
    "            return False\n",
    "        dic = {}\n",
    "        for ch in word:\n",
    "            dic[ch] = dic.get(ch, 0) + 1\n",
    "        for ch in alphas:\n",
    "            if dic.get(ch, 0) <= 0:\n",
    "                return False\n",
    "            dic[ch] = dic.get(ch, 0) - 1\n",
    "        return True\n",
    "    for word in words:\n",
    "        if ret and len(word) >= len(ret):\n",
    "            continue\n",
    "        if isCompletingWord(word):\n",
    "            ret = word\n",
    "    return ret"
   ]
  },
  {
   "cell_type": "code",
   "execution_count": 2,
   "metadata": {},
   "outputs": [
    {
     "data": {
      "text/plain": [
       "'steps'"
      ]
     },
     "execution_count": 2,
     "metadata": {},
     "output_type": "execute_result"
    }
   ],
   "source": [
    "shortestCompletingWord(licensePlate = \"1s3 PSt\", words = [\"step\", \"steps\", \"stripe\", \"stepple\"])"
   ]
  },
  {
   "cell_type": "code",
   "execution_count": 3,
   "metadata": {},
   "outputs": [
    {
     "data": {
      "text/plain": [
       "'pest'"
      ]
     },
     "execution_count": 3,
     "metadata": {},
     "output_type": "execute_result"
    }
   ],
   "source": [
    "shortestCompletingWord(licensePlate = \"1s3 456\", words = [\"looks\", \"pest\", \"stew\", \"show\"])"
   ]
  },
  {
   "cell_type": "code",
   "execution_count": 4,
   "metadata": {},
   "outputs": [
    {
     "data": {
      "text/plain": [
       "'husband'"
      ]
     },
     "execution_count": 4,
     "metadata": {},
     "output_type": "execute_result"
    }
   ],
   "source": [
    "shortestCompletingWord(licensePlate = \"Ah71752\", words = [\"suggest\",\"letter\",\"of\",\"husband\",\"easy\",\"education\",\"drug\",\"prevent\",\"writer\",\"old\"])"
   ]
  },
  {
   "cell_type": "code",
   "execution_count": 5,
   "metadata": {},
   "outputs": [
    {
     "data": {
      "text/plain": [
       "'enough'"
      ]
     },
     "execution_count": 5,
     "metadata": {},
     "output_type": "execute_result"
    }
   ],
   "source": [
    "shortestCompletingWord(licensePlate = \"OgEu755\", words = [\"enough\",\"these\",\"play\",\"wide\",\"wonder\",\"box\",\"arrive\",\"money\",\"tax\",\"thus\"])"
   ]
  },
  {
   "cell_type": "code",
   "execution_count": 6,
   "metadata": {},
   "outputs": [
    {
     "data": {
      "text/plain": [
       "'simple'"
      ]
     },
     "execution_count": 6,
     "metadata": {},
     "output_type": "execute_result"
    }
   ],
   "source": [
    "shortestCompletingWord(licensePlate = \"iMSlpe4\", words = [\"claim\",\"consumer\",\"student\",\"camera\",\"public\",\"never\",\"wonder\",\"simple\",\"thought\",\"use\"])"
   ]
  },
  {
   "cell_type": "code",
   "execution_count": null,
   "metadata": {},
   "outputs": [],
   "source": []
  }
 ],
 "metadata": {
  "kernelspec": {
   "display_name": "Python 3",
   "language": "python",
   "name": "python3"
  },
  "language_info": {
   "codemirror_mode": {
    "name": "ipython",
    "version": 3
   },
   "file_extension": ".py",
   "mimetype": "text/x-python",
   "name": "python",
   "nbconvert_exporter": "python",
   "pygments_lexer": "ipython3",
   "version": "3.6.5"
  }
 },
 "nbformat": 4,
 "nbformat_minor": 2
}
