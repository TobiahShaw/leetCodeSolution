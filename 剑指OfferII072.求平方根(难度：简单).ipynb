{
 "cells": [
  {
   "cell_type": "markdown",
   "metadata": {},
   "source": [
    "# 求平方根\n",
    "\n",
    "**题目来源：力扣（LeetCode）**\n",
    "\n",
    "**链接：https://leetcode.cn/problems/jJ0w9p/**\n",
    "\n",
    "## 一、题目\n",
    "\n",
    "给定一个非负整数 x ，计算并返回 x 的平方根，即实现 int sqrt(int x) 函数。\n",
    "\n",
    "正数的平方根有两个，只输出其中的正数平方根。\n",
    "\n",
    "如果平方根不是整数，输出只保留整数的部分，小数部分将被舍去。\n",
    "\n",
    "### 提示：\n",
    "\n",
    "- 0 <= x <= 2^31 - 1\n",
    "\n",
    "## 二、示例\n",
    "\n",
    "### 示例 1：\n",
    "\n",
    "输入: x = 4\n",
    "\n",
    "输出: 2\n",
    "\n",
    "### 示例 2:\n",
    "\n",
    "输入: x = 8\n",
    "\n",
    "输出: 2\n",
    "\n",
    "解释: 8 的平方根是 2.82842...，由于小数部分将被舍去，所以返回 2\n",
    "\n",
    "## 三、解题思路\n",
    "\n",
    "### 二分"
   ]
  },
  {
   "cell_type": "code",
   "execution_count": 1,
   "metadata": {},
   "outputs": [],
   "source": [
    "def mySqrt(x: int) -> int:\n",
    "    l, h = 0, x\n",
    "    while l < h:\n",
    "        m = (l + h) // 2\n",
    "        if m**2 <= x < (m+1)**2:\n",
    "            return m\n",
    "        elif m**2 < x:\n",
    "            l = m + 1\n",
    "        else:\n",
    "            h = m - 1\n",
    "    return l"
   ]
  },
  {
   "cell_type": "code",
   "execution_count": 2,
   "metadata": {},
   "outputs": [
    {
     "data": {
      "text/plain": [
       "2"
      ]
     },
     "execution_count": 2,
     "metadata": {},
     "output_type": "execute_result"
    }
   ],
   "source": [
    "mySqrt(4)"
   ]
  },
  {
   "cell_type": "code",
   "execution_count": 3,
   "metadata": {},
   "outputs": [
    {
     "data": {
      "text/plain": [
       "2"
      ]
     },
     "execution_count": 3,
     "metadata": {},
     "output_type": "execute_result"
    }
   ],
   "source": [
    "mySqrt(8)"
   ]
  },
  {
   "cell_type": "code",
   "execution_count": null,
   "metadata": {},
   "outputs": [],
   "source": []
  }
 ],
 "metadata": {
  "kernelspec": {
   "display_name": "Python 3",
   "language": "python",
   "name": "python3"
  },
  "language_info": {
   "codemirror_mode": {
    "name": "ipython",
    "version": 3
   },
   "file_extension": ".py",
   "mimetype": "text/x-python",
   "name": "python",
   "nbconvert_exporter": "python",
   "pygments_lexer": "ipython3",
   "version": "3.6.5"
  }
 },
 "nbformat": 4,
 "nbformat_minor": 2
}
