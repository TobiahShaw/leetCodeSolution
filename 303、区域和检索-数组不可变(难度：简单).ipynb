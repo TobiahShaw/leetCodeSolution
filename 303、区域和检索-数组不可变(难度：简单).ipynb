{
 "cells": [
  {
   "cell_type": "markdown",
   "metadata": {},
   "source": [
    "# 区域和检索-数组不可变\n",
    "\n",
    "**题目来源：力扣（LeetCode）**\n",
    "\n",
    "**链接：https://leetcode-cn.com/problems/range-sum-query-immutable/**\n",
    "\n",
    "## 一、题目\n",
    "\n",
    "给定一个整数数组  nums，求出数组从索引 i 到 j（i ≤ j）范围内元素的总和，包含 i、j 两点。\n",
    "\n",
    "实现 NumArray 类：\n",
    "\n",
    "- NumArray(int[] nums) 使用数组 nums 初始化对象\n",
    "- int sumRange(int i, int j) 返回数组 nums 从索引 i 到 j（i ≤ j）范围内元素的总和，包含 i、j 两点（也就是 sum(nums[i], nums[i + 1], ... , nums[j])）\n",
    "\n",
    "## 二、示例\n",
    "\n",
    "输入：\n",
    "[\"NumArray\", \"sumRange\", \"sumRange\", \"sumRange\"]\n",
    "[[[-2, 0, 3, -5, 2, -1]], [0, 2], [2, 5], [0, 5]]\n",
    "输出：\n",
    "[null, 1, -1, -3]\n",
    "\n",
    "解释：\n",
    "\n",
    "```\n",
    "numArray = NumArray([-2, 0, 3, -5, 2, -1])\n",
    "numArray.sumRange(0, 2) // return 1 ((-2) + 0 + 3)\n",
    "numArray.sumRange(2, 5) // return -1 (3 + (-5) + 2 + (-1)) \n",
    "numArray.sumRange(0, 5) // return -3 ((-2) + 0 + 3 + (-5) + 2 + (-1))\n",
    "```\n",
    "\n",
    "## 三、解题思路\n",
    "\n",
    "### 前缀和\n",
    "\n",
    "用数组储存从开始到每个元素的和，求解时用到两个为止的和相减即可"
   ]
  },
  {
   "cell_type": "code",
   "execution_count": 1,
   "metadata": {},
   "outputs": [],
   "source": [
    "class NumArray:\n",
    "\n",
    "    def __init__(self, nums):\n",
    "        self._sums = [0]\n",
    "        for i in nums:\n",
    "            self._sums.append(self._sums[-1] + i)\n",
    "\n",
    "    def sumRange(self, i: int, j: int) -> int:\n",
    "        return self._sums[j+1] - self._sums[i]"
   ]
  },
  {
   "cell_type": "code",
   "execution_count": 2,
   "metadata": {},
   "outputs": [],
   "source": [
    "numArray = NumArray([-2, 0, 3, -5, 2, -1])"
   ]
  },
  {
   "cell_type": "code",
   "execution_count": 3,
   "metadata": {},
   "outputs": [
    {
     "data": {
      "text/plain": [
       "1"
      ]
     },
     "execution_count": 3,
     "metadata": {},
     "output_type": "execute_result"
    }
   ],
   "source": [
    "numArray.sumRange(0, 2)"
   ]
  },
  {
   "cell_type": "code",
   "execution_count": 4,
   "metadata": {},
   "outputs": [
    {
     "data": {
      "text/plain": [
       "-1"
      ]
     },
     "execution_count": 4,
     "metadata": {},
     "output_type": "execute_result"
    }
   ],
   "source": [
    "numArray.sumRange(2, 5)"
   ]
  },
  {
   "cell_type": "code",
   "execution_count": 5,
   "metadata": {},
   "outputs": [
    {
     "data": {
      "text/plain": [
       "-3"
      ]
     },
     "execution_count": 5,
     "metadata": {},
     "output_type": "execute_result"
    }
   ],
   "source": [
    "numArray.sumRange(0, 5)"
   ]
  },
  {
   "cell_type": "code",
   "execution_count": null,
   "metadata": {},
   "outputs": [],
   "source": []
  }
 ],
 "metadata": {
  "kernelspec": {
   "display_name": "Python 3",
   "language": "python",
   "name": "python3"
  },
  "language_info": {
   "codemirror_mode": {
    "name": "ipython",
    "version": 3
   },
   "file_extension": ".py",
   "mimetype": "text/x-python",
   "name": "python",
   "nbconvert_exporter": "python",
   "pygments_lexer": "ipython3",
   "version": "3.6.5"
  }
 },
 "nbformat": 4,
 "nbformat_minor": 2
}
