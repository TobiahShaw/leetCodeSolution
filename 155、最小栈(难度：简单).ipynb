{
  "cells": [
    {
      "metadata": {
        "collapsed": true
      },
      "cell_type": "markdown",
      "source": "# 最小栈\n\n**题目来源：力扣（LeetCode）**\n\n**链接：https://leetcode-cn.com/problems/min-stack/**\n\n## 一、题目\n\n设计一个支持 push，pop，top 操作，并能在常数时间内检索到最小元素的栈。\n\n- push(x) -- 将元素 x 推入栈中。\n- pop() -- 删除栈顶的元素。\n- top() -- 获取栈顶元素。\n- getMin() -- 检索栈中的最小元素。\n\n## 二、示例\n\n```python\nminStack = MinStack()\nminStack.push(-2)\nminStack.push(0)\nminStack.push(-3)\nminStack.getMin()   # 返回 -3.\nminStack.pop()\nminStack.top()     # 返回 0.\nminStack.getMin()   # 返回 -2.\n```\n\n## 三、解题思路\n\n### 维护一个最小值"
    },
    {
      "metadata": {
        "trusted": true
      },
      "cell_type": "code",
      "source": "class MinStack:\n\n    def __init__(self):\n        \"\"\"\n        initialize your data structure here.\n        \"\"\"\n        self._data = []\n        self._min = None\n\n    def push(self, x: int) -> None:\n        if self._min is None or x < self._min:\n            self._min = x\n        self._data.append(x)\n\n    def pop(self) -> None:\n        i = self._data.pop()\n        if self._min == i:\n            self._min = None\n            for d in self._data:\n                if self._min is None or d < self._min:\n                    self._min = d\n\n    def top(self) -> int:\n        return self._data[-1]\n\n    def getMin(self) -> int:\n        return self._min",
      "execution_count": 1,
      "outputs": []
    },
    {
      "metadata": {
        "trusted": true
      },
      "cell_type": "code",
      "source": "minStack = MinStack()\nminStack.push(-2)\nminStack.push(0)\nminStack.push(-3)",
      "execution_count": 2,
      "outputs": []
    },
    {
      "metadata": {
        "trusted": true
      },
      "cell_type": "code",
      "source": "minStack.getMin()",
      "execution_count": 3,
      "outputs": [
        {
          "output_type": "execute_result",
          "execution_count": 3,
          "data": {
            "text/plain": "-3"
          },
          "metadata": {}
        }
      ]
    },
    {
      "metadata": {
        "trusted": true
      },
      "cell_type": "code",
      "source": "minStack.pop()",
      "execution_count": 4,
      "outputs": []
    },
    {
      "metadata": {
        "trusted": true
      },
      "cell_type": "code",
      "source": "minStack.top()",
      "execution_count": 5,
      "outputs": [
        {
          "output_type": "execute_result",
          "execution_count": 5,
          "data": {
            "text/plain": "0"
          },
          "metadata": {}
        }
      ]
    },
    {
      "metadata": {
        "trusted": true
      },
      "cell_type": "code",
      "source": "minStack.getMin()",
      "execution_count": 6,
      "outputs": [
        {
          "output_type": "execute_result",
          "execution_count": 6,
          "data": {
            "text/plain": "-2"
          },
          "metadata": {}
        }
      ]
    },
    {
      "metadata": {
        "trusted": true
      },
      "cell_type": "code",
      "source": "",
      "execution_count": null,
      "outputs": []
    }
  ],
  "metadata": {
    "kernelspec": {
      "name": "python36",
      "display_name": "Python 3.6",
      "language": "python"
    },
    "language_info": {
      "mimetype": "text/x-python",
      "nbconvert_exporter": "python",
      "name": "python",
      "pygments_lexer": "ipython3",
      "version": "3.6.6",
      "file_extension": ".py",
      "codemirror_mode": {
        "version": 3,
        "name": "ipython"
      }
    }
  },
  "nbformat": 4,
  "nbformat_minor": 2
}