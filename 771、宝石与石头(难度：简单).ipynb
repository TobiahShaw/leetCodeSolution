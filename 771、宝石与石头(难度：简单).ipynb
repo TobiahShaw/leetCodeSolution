{
  "cells": [
    {
      "metadata": {
        "collapsed": true
      },
      "cell_type": "markdown",
      "source": "# 宝石和石头\n\n**题目来源：力扣（LeetCode）**\n\n**链接：https://leetcode-cn.com/problems/jewels-and-stones/**\n\n## 一、题目\n\n给定字符串J 代表石头中宝石的类型，和字符串 S代表你拥有的石头。 S 中每个字符代表了一种你拥有的石头的类型，你想知道你拥有的石头中有多少是宝石。\n\nJ 中的字母不重复，J 和 S中的所有字符都是字母。字母区分大小写，因此\"a\"和\"A\"是不同类型的石头。\n\n## 二、示例\n\n### 示例 1:\n\n输入: J = \"aA\", S = \"aAAbbbb\"\n输出: 3\n\n### 示例 2:\n\n输入: J = \"z\", S = \"ZZ\"\n输出: 0\n\n## 三、解题思路\n\n### 一、暴力破解法\n\n遍历每块石头，检查是不是宝石。检查步骤用简单的线性搜索来实现。"
    },
    {
      "metadata": {
        "trusted": true
      },
      "cell_type": "code",
      "source": "def numJewelsInStones(J, S):\n    return sum(s in J for s in S)",
      "execution_count": 1,
      "outputs": []
    },
    {
      "metadata": {
        "trusted": true
      },
      "cell_type": "code",
      "source": "numJewelsInStones(\"aA\",  \"aAAbbbb\")",
      "execution_count": 2,
      "outputs": [
        {
          "output_type": "execute_result",
          "execution_count": 2,
          "data": {
            "text/plain": "3"
          },
          "metadata": {}
        }
      ]
    },
    {
      "metadata": {
        "trusted": true
      },
      "cell_type": "code",
      "source": "numJewelsInStones(\"z\",  \"ZZ\")",
      "execution_count": 3,
      "outputs": [
        {
          "output_type": "execute_result",
          "execution_count": 3,
          "data": {
            "text/plain": "0"
          },
          "metadata": {}
        }
      ]
    },
    {
      "metadata": {
        "trusted": true
      },
      "cell_type": "code",
      "source": "",
      "execution_count": null,
      "outputs": []
    }
  ],
  "metadata": {
    "kernelspec": {
      "name": "python36",
      "display_name": "Python 3.6",
      "language": "python"
    },
    "language_info": {
      "mimetype": "text/x-python",
      "nbconvert_exporter": "python",
      "name": "python",
      "pygments_lexer": "ipython3",
      "version": "3.6.6",
      "file_extension": ".py",
      "codemirror_mode": {
        "version": 3,
        "name": "ipython"
      }
    }
  },
  "nbformat": 4,
  "nbformat_minor": 2
}