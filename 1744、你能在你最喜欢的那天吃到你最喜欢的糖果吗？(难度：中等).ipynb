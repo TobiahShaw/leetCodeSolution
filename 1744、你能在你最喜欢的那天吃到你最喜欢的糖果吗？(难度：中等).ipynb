{
 "cells": [
  {
   "cell_type": "markdown",
   "metadata": {},
   "source": [
    "# 你能在你最喜欢的那天吃到你最喜欢的糖果吗？\n",
    "\n",
    "**题目来源：力扣（LeetCode）**\n",
    "\n",
    "**链接：https://leetcode-cn.com/problems/can-you-eat-your-favorite-candy-on-your-favorite-day/**\n",
    "\n",
    "## 一、题目\n",
    "\n",
    "给你一个下标从 0 开始的正整数数组 candiesCount ，其中 candiesCount[i] 表示你拥有的第 i 类糖果的数目。同时给你一个二维数组 queries ，其中 queries[i] = [favoriteTypei, favoriteDayi, dailyCapi] 。\n",
    "\n",
    "你按照如下规则进行一场游戏：\n",
    "\n",
    "- 你从第 0 天开始吃糖果。\n",
    "- 你在吃完 所有 第 i - 1 类糖果之前，不能 吃任何一颗第 i 类糖果。\n",
    "- 在吃完所有糖果之前，你必须每天 至少 吃 一颗 糖果。\n",
    "\n",
    "请你构建一个布尔型数组 answer ，满足 answer.length == queries.length 。answer[i] 为 true 的条件是：在每天吃 不超过 dailyCapi 颗糖果的前提下，你可以在第 favoriteDayi 天吃到第 favoriteTypei 类糖果；否则 answer[i] 为 false 。注意，只要满足上面 3 条规则中的第二条规则，你就可以在同一天吃不同类型的糖果。\n",
    "\n",
    "请你返回得到的数组 answer 。\n",
    "\n",
    "### 提示：\n",
    "\n",
    "- 1 <= candiesCount.length <= 10^5\n",
    "- 1 <= candiesCount[i] <= 10^5\n",
    "- 1 <= queries.length <= 10^5\n",
    "- queries[i].length == 3\n",
    "- 0 <= favoriteTypei < candiesCount.length\n",
    "- 0 <= favoriteDayi <= 10^9\n",
    "- 1 <= dailyCapi <= 10^9\n",
    "\n",
    "## 二、示例\n",
    "\n",
    "### 示例 1：\n",
    "\n",
    "输入：candiesCount = [7,4,5,3,8], queries = [[0,2,2],[4,2,4],[2,13,1000000000]]\n",
    "\n",
    "输出：[true,false,true]\n",
    "\n",
    "提示：\n",
    "\n",
    "1- 在第 0 天吃 2 颗糖果(类型 0），第 1 天吃 2 颗糖果（类型 0），第 2 天你可以吃到类型 0 的糖果。\n",
    "2- 每天你最多吃 4 颗糖果。即使第 0 天吃 4 颗糖果（类型 0），第 1 天吃 4 颗糖果（类型 0 和类型 1），你也没办法在第 2 天吃到类型 4 的糖果。换言之，你没法在每天吃 4 颗糖果的限制下在第 2 天吃到第 4 类糖果。\n",
    "3- 如果你每天吃 1 颗糖果，你可以在第 13 天吃到类型 2 的糖果。\n",
    "\n",
    "### 示例 2：\n",
    "\n",
    "输入：candiesCount = [5,2,6,4,1], queries = [[3,1,2],[4,10,3],[3,10,100],[4,100,30],[1,3,1]]\n",
    "\n",
    "输出：[false,true,true,false,false]\n",
    "\n",
    "## 三、解题思路\n",
    "\n",
    "### 前缀和"
   ]
  },
  {
   "cell_type": "code",
   "execution_count": 1,
   "metadata": {},
   "outputs": [],
   "source": [
    "def canEat(candiesCount, queries):\n",
    "    from itertools import accumulate\n",
    "    # 前缀和\n",
    "    total = list(accumulate(candiesCount))\n",
    "    \n",
    "    ret = []\n",
    "    for favoriteType, favoriteDay, dailyCap in queries:\n",
    "        x1 = favoriteDay + 1\n",
    "        y1 = (favoriteDay + 1) * dailyCap\n",
    "        x2 = 1 if favoriteType == 0 else total[favoriteType - 1] + 1\n",
    "        y2 = total[favoriteType]\n",
    "        \n",
    "        ret.append(not(x1 > y2 or y1 < x2))\n",
    "    \n",
    "    return ret"
   ]
  },
  {
   "cell_type": "code",
   "execution_count": 2,
   "metadata": {},
   "outputs": [
    {
     "data": {
      "text/plain": [
       "[True, False, True]"
      ]
     },
     "execution_count": 2,
     "metadata": {},
     "output_type": "execute_result"
    }
   ],
   "source": [
    "canEat(candiesCount = [7,4,5,3,8], queries = [[0,2,2],[4,2,4],[2,13,1000000000]])"
   ]
  },
  {
   "cell_type": "code",
   "execution_count": 3,
   "metadata": {},
   "outputs": [
    {
     "data": {
      "text/plain": [
       "[False, True, True, False, False]"
      ]
     },
     "execution_count": 3,
     "metadata": {},
     "output_type": "execute_result"
    }
   ],
   "source": [
    "canEat(candiesCount = [5,2,6,4,1], queries = [[3,1,2],[4,10,3],[3,10,100],[4,100,30],[1,3,1]])"
   ]
  },
  {
   "cell_type": "code",
   "execution_count": null,
   "metadata": {},
   "outputs": [],
   "source": []
  }
 ],
 "metadata": {
  "kernelspec": {
   "display_name": "Python 3",
   "language": "python",
   "name": "python3"
  },
  "language_info": {
   "codemirror_mode": {
    "name": "ipython",
    "version": 3
   },
   "file_extension": ".py",
   "mimetype": "text/x-python",
   "name": "python",
   "nbconvert_exporter": "python",
   "pygments_lexer": "ipython3",
   "version": "3.6.5"
  }
 },
 "nbformat": 4,
 "nbformat_minor": 2
}
