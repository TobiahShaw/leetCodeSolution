{
 "cells": [
  {
   "cell_type": "markdown",
   "metadata": {},
   "source": [
    "# Dota2参议院\n",
    "\n",
    "**题目来源：力扣（LeetCode）**\n",
    "\n",
    "**链接：https://leetcode-cn.com/problems/dota2-senate/**\n",
    "\n",
    "## 一、题目\n",
    "\n",
    "Dota2 的世界里有两个阵营：Radiant(天辉)和 Dire(夜魇)\n",
    "\n",
    "Dota2 参议院由来自两派的参议员组成。现在参议院希望对一个 Dota2 游戏里的改变作出决定。他们以一个基于轮为过程的投票进行。在每一轮中，每一位参议员都可以行使两项权利中的一项：\n",
    "\n",
    "1. 禁止一名参议员的权利：\n",
    "\n",
    "    参议员可以让另一位参议员在这一轮和随后的几轮中丧失所有的权利。\n",
    "\n",
    "2. 宣布胜利：\n",
    "\n",
    "    如果参议员发现有权利投票的参议员都是同一个阵营的，他可以宣布胜利并决定在游戏中的有关变化。\n",
    "\n",
    " \n",
    "\n",
    "给定一个字符串代表每个参议员的阵营。字母 “R” 和 “D” 分别代表了 Radiant（天辉）和 Dire（夜魇）。然后，如果有 n 个参议员，给定字符串的大小将是 n。\n",
    "\n",
    "以轮为基础的过程从给定顺序的第一个参议员开始到最后一个参议员结束。这一过程将持续到投票结束。所有失去权利的参议员将在过程中被跳过。\n",
    "\n",
    "假设每一位参议员都足够聪明，会为自己的政党做出最好的策略，你需要预测哪一方最终会宣布胜利并在 Dota2 游戏中决定改变。输出应该是 Radiant 或 Dire。\n",
    "\n",
    "## 二、示例\n",
    "\n",
    "### 示例 1：\n",
    "\n",
    "输入：\"RD\"\n",
    "\n",
    "输出：\"Radiant\"\n",
    "\n",
    "解释：第一个参议员来自 Radiant 阵营并且他可以使用第一项权利让第二个参议员失去权力，因此第二个参议员将被跳过因为他没有任何权利。然后在第二轮的时候，第一个参议员可以宣布胜利，因为他是唯一一个有投票权的人\n",
    "\n",
    "### 示例 2：\n",
    "\n",
    "输入：\"RDD\"\n",
    "\n",
    "输出：\"Dire\"\n",
    "\n",
    "解释：\n",
    "\n",
    "第一轮中,第一个来自 Radiant 阵营的参议员可以使用第一项权利禁止第二个参议员的权利\n",
    "\n",
    "第二个来自 Dire 阵营的参议员会被跳过因为他的权利被禁止\n",
    "\n",
    "第三个来自 Dire 阵营的参议员可以使用他的第一项权利禁止第一个参议员的权利\n",
    "\n",
    "因此在第二轮只剩下第三个参议员拥有投票的权利,于是他可以宣布胜利\n",
    "\n",
    "## 三、解题思路\n",
    "\n",
    "### 模拟过程"
   ]
  },
  {
   "cell_type": "code",
   "execution_count": 1,
   "metadata": {},
   "outputs": [],
   "source": [
    "def predictPartyVictory(senate: str) -> str:\n",
    "    RadiantIndex, DireIndex = [], []\n",
    "    RadiantSet, DireSet = set(), set()\n",
    "    n = len(senate)\n",
    "    for i in range(n):\n",
    "        if senate[i] == \"R\":\n",
    "            RadiantIndex.append(i)\n",
    "            RadiantSet.add(i)\n",
    "        else:\n",
    "            DireIndex.append(i)\n",
    "            DireSet.add(i)\n",
    "    while RadiantIndex and DireIndex:\n",
    "        for i in range(n):\n",
    "            if senate[i] == \"R\" and i in RadiantSet:\n",
    "                if not DireIndex:\n",
    "                    break\n",
    "                indexD = 0\n",
    "                for d in range(len(DireIndex)):\n",
    "                    if DireIndex[d] > i:\n",
    "                        indexD = d\n",
    "                        break\n",
    "                DireSet.remove(DireIndex[indexD])\n",
    "                del DireIndex[indexD]\n",
    "            elif senate[i] == \"D\" and i in DireSet:\n",
    "                if not RadiantIndex:\n",
    "                    break\n",
    "                indexR = 0\n",
    "                for r in range(len(RadiantIndex)):\n",
    "                    if RadiantIndex[r] > i:\n",
    "                        indexR = r\n",
    "                        break\n",
    "                RadiantSet.remove(RadiantIndex[indexR])\n",
    "                del RadiantIndex[indexR]\n",
    "    return \"Radiant\" if RadiantIndex else \"Dire\""
   ]
  },
  {
   "cell_type": "code",
   "execution_count": 2,
   "metadata": {},
   "outputs": [
    {
     "data": {
      "text/plain": [
       "'Radiant'"
      ]
     },
     "execution_count": 2,
     "metadata": {},
     "output_type": "execute_result"
    }
   ],
   "source": [
    "predictPartyVictory(\"RD\")"
   ]
  },
  {
   "cell_type": "code",
   "execution_count": 3,
   "metadata": {},
   "outputs": [
    {
     "data": {
      "text/plain": [
       "'Dire'"
      ]
     },
     "execution_count": 3,
     "metadata": {},
     "output_type": "execute_result"
    }
   ],
   "source": [
    "predictPartyVictory(\"RDD\")"
   ]
  },
  {
   "cell_type": "code",
   "execution_count": null,
   "metadata": {},
   "outputs": [],
   "source": []
  }
 ],
 "metadata": {
  "kernelspec": {
   "display_name": "Python 3",
   "language": "python",
   "name": "python3"
  },
  "language_info": {
   "codemirror_mode": {
    "name": "ipython",
    "version": 3
   },
   "file_extension": ".py",
   "mimetype": "text/x-python",
   "name": "python",
   "nbconvert_exporter": "python",
   "pygments_lexer": "ipython3",
   "version": "3.6.5"
  }
 },
 "nbformat": 4,
 "nbformat_minor": 2
}
