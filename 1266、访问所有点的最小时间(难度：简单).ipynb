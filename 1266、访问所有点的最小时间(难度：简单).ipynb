{
  "cells": [
    {
      "metadata": {
        "collapsed": true
      },
      "cell_type": "markdown",
      "source": "# 访问所有点的最小时间\n\n**题目来源：力扣（LeetCode）**\n\n**链接：https://leetcode-cn.com/problems/minimum-time-visiting-all-points/**\n\n## 一、题目\n\n平面上有 n 个点，点的位置用整数坐标表示 points[i] = [xi, yi]。请你计算访问所有这些点需要的最小时间（以秒为单位）。\n\n你可以按照下面的规则在平面上移动：\n\n- 每一秒沿水平或者竖直方向移动一个单位长度，或者跨过对角线（可以看作在一秒内向水平和竖直方向各移动一个单位长度）。\n\n- 必须按照数组中出现的顺序来访问这些点。\n\n## 二、示例\n\n### 示例一\n\n输入：points = [[1,1],[3,4],[-1,0]]\n\n输出：7\n\n解释：一条最佳的访问路径是： [1,1] -> [2,2] -> [3,3] -> [3,4] -> [2,3] -> [1,2] -> [0,1] -> [-1,0]   \n\n从 [1,1] 到 [3,4] 需要 3 秒 \n\n从 [3,4] 到 [-1,0] 需要 4 秒\n\n一共需要 7 秒\n\n### 示例二\n\n输入：points = [[3,2],[-2,2]]\n\n输出：5\n\n## 三、注意\n\npoints.length == n\n\n1 <= n <= 100\n\npoints[i].length == 2\n\n-1000 <= points[i][0], points[i][1] <= 1000\n\n## 四、解题思路"
    },
    {
      "metadata": {
        "trusted": true
      },
      "cell_type": "code",
      "source": "",
      "execution_count": null,
      "outputs": []
    }
  ],
  "metadata": {
    "kernelspec": {
      "name": "python36",
      "display_name": "Python 3.6",
      "language": "python"
    },
    "language_info": {
      "mimetype": "text/x-python",
      "nbconvert_exporter": "python",
      "name": "python",
      "pygments_lexer": "ipython3",
      "version": "3.6.6",
      "file_extension": ".py",
      "codemirror_mode": {
        "version": 3,
        "name": "ipython"
      }
    }
  },
  "nbformat": 4,
  "nbformat_minor": 2
}