{
 "cells": [
  {
   "cell_type": "markdown",
   "metadata": {
    "collapsed": true
   },
   "source": [
    "# 访问所有点的最小时间\n",
    "\n",
    "**题目来源：力扣（LeetCode）**\n",
    "\n",
    "**链接：https://leetcode-cn.com/problems/minimum-time-visiting-all-points/**\n",
    "\n",
    "## 一、题目\n",
    "\n",
    "平面上有 n 个点，点的位置用整数坐标表示 points[i] = [xi, yi]。请你计算访问所有这些点需要的最小时间（以秒为单位）。\n",
    "\n",
    "你可以按照下面的规则在平面上移动：\n",
    "\n",
    "- 每一秒沿水平或者竖直方向移动一个单位长度，或者跨过对角线（可以看作在一秒内向水平和竖直方向各移动一个单位长度）。\n",
    "\n",
    "- 必须按照数组中出现的顺序来访问这些点。\n",
    "\n",
    "## 二、示例\n",
    "\n",
    "### 示例一\n",
    "\n",
    "输入：points = [[1,1],[3,4],[-1,0]]\n",
    "\n",
    "输出：7\n",
    "\n",
    "解释：一条最佳的访问路径是： [1,1] -> [2,2] -> [3,3] -> [3,4] -> [2,3] -> [1,2] -> [0,1] -> [-1,0]   \n",
    "\n",
    "从 [1,1] 到 [3,4] 需要 3 秒 \n",
    "\n",
    "从 [3,4] 到 [-1,0] 需要 4 秒\n",
    "\n",
    "一共需要 7 秒\n",
    "\n",
    "### 示例二\n",
    "\n",
    "输入：points = [[3,2],[-2,2]]\n",
    "\n",
    "输出：5\n",
    "\n",
    "## 三、注意\n",
    "\n",
    "points.length == n\n",
    "\n",
    "1 <= n <= 100\n",
    "\n",
    "points[i].length == 2\n",
    "\n",
    "-1000 <= points[i][0], points[i][1] <= 1000\n",
    "\n",
    "## 四、解题思路\n",
    "\n",
    "### 切比雪夫距离\n",
    "\n",
    "对于平面上的两个点 x = (x0, x1) 和 y = (y0, y1)，设它们横坐标距离之差为 dx = |x0 - y0|，纵坐标距离之差为 dy = |x1 - y1|，对于以下三种情况，我们可以分别计算出从 x 移动到 y 的最少次数：\n",
    "\n",
    "- dx < dy：沿对角线移动 dx 次，再竖直移动 dy - dx 次，总计 dx + (dy - dx) = dy 次；\n",
    "\n",
    "- dx == dy：沿对角线移动 dx 次；\n",
    "\n",
    "- dx > dy：沿对角线移动 dy 次，再水平移动 dx - dy 次，总计 dy + (dx - dy) = dx 次。\n",
    "\n",
    "可以发现，对于任意一种情况，从 x 移动到 y 的最少次数为 dx 和 dy 中的较大值 max(dx, dy)，这也被称作 x 和 y 之间的 切比雪夫距离。\n",
    "\n",
    "**作者：LeetCode**\n",
    "\n",
    "**链接：https://leetcode-cn.com/problems/minimum-time-visiting-all-points/solution/fang-wen-suo-you-dian-de-zui-xiao-shi-jian-by-leet/**\n",
    "\n",
    "**来源：力扣（LeetCode）**"
   ]
  },
  {
   "cell_type": "code",
   "execution_count": 1,
   "metadata": {},
   "outputs": [],
   "source": [
    "def minTimeToVisitAllPoints(points):\n",
    "    spend = 0\n",
    "    x0, y0 = points[0]\n",
    "    for i in range(1, len(points)):\n",
    "        x1, y1 = points[i]\n",
    "        spend += max(abs(x0 - x1), abs(y0 - y1))\n",
    "        x0, y0 = x1, y1\n",
    "    return spend"
   ]
  },
  {
   "cell_type": "code",
   "execution_count": 2,
   "metadata": {},
   "outputs": [
    {
     "data": {
      "text/plain": [
       "7"
      ]
     },
     "execution_count": 2,
     "metadata": {},
     "output_type": "execute_result"
    }
   ],
   "source": [
    "minTimeToVisitAllPoints([[1,1],[3,4],[-1,0]])"
   ]
  },
  {
   "cell_type": "code",
   "execution_count": null,
   "metadata": {},
   "outputs": [],
   "source": []
  }
 ],
 "metadata": {
  "kernelspec": {
   "display_name": "Python 3",
   "language": "python",
   "name": "python3"
  },
  "language_info": {
   "codemirror_mode": {
    "name": "ipython",
    "version": 3
   },
   "file_extension": ".py",
   "mimetype": "text/x-python",
   "name": "python",
   "nbconvert_exporter": "python",
   "pygments_lexer": "ipython3",
   "version": "3.6.5"
  }
 },
 "nbformat": 4,
 "nbformat_minor": 2
}
