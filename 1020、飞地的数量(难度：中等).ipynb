{
 "cells": [
  {
   "cell_type": "markdown",
   "metadata": {},
   "source": [
    "# 飞地的数量\n",
    "\n",
    "**题目来源：力扣（LeetCode）**\n",
    "\n",
    "**链接：https://leetcode-cn.com/problems/number-of-enclaves/**\n",
    "\n",
    "## 一、题目\n",
    "\n",
    "给你一个大小为 m x n 的二进制矩阵 grid ，其中 0 表示一个海洋单元格、1 表示一个陆地单元格。\n",
    "\n",
    "一次 移动 是指从一个陆地单元格走到另一个相邻（上、下、左、右）的陆地单元格或跨过 grid 的边界。\n",
    "\n",
    "返回网格中 无法 在任意次数的移动中离开网格边界的陆地单元格的数量。\n",
    "\n",
    "### 提示：\n",
    "\n",
    "- m == grid.length\n",
    "- n == grid[i].length\n",
    "- 1 <= m, n <= 500\n",
    "- grid[i][j] 的值为 0 或 1\n",
    "\n",
    "## 二、示例\n",
    "\n",
    "### 示例 1：\n",
    "\n",
    "输入：grid = [[0,0,0,0],[1,0,1,0],[0,1,1,0],[0,0,0,0]]\n",
    "\n",
    "输出：3\n",
    "\n",
    "解释：有三个 1 被 0 包围。一个 1 没有被包围，因为它在边界上。\n",
    "\n",
    "```\n",
    "[[0,0,0,0]\n",
    ",[1,0,1,0]\n",
    ",[0,1,1,0]\n",
    ",[0,0,0,0]]\n",
    "```\n",
    "\n",
    "### 示例 2：\n",
    "\n",
    "输入：grid = [[0,1,1,0],[0,0,1,0],[0,0,1,0],[0,0,0,0]]\n",
    "\n",
    "输出：0\n",
    "\n",
    "解释：所有 1 都在边界上或可以到达边界。\n",
    "\n",
    "```\n",
    "[[0,1,1,0]\n",
    ",[0,0,1,0]\n",
    ",[0,0,1,0]\n",
    ",[0,0,0,0]]\n",
    "```\n",
    "\n",
    "## 三、解题思路\n",
    "\n",
    "### dfs"
   ]
  },
  {
   "cell_type": "code",
   "execution_count": 1,
   "metadata": {},
   "outputs": [],
   "source": [
    "class Solution:\n",
    "    def numEnclaves(self, A) -> int:\n",
    "        m, n = len(A), len(A[0])\n",
    "        dx, dy = [0,0,1,-1], [1,-1,0,0]\n",
    "        def dfs(x, y):\n",
    "            if A[x][y] != 1:\n",
    "                return\n",
    "            A[x][y] = 0\n",
    "            for i in range(4):\n",
    "                new_x, new_y = x + dx[i], y + dy[i]\n",
    "                if 0 <= new_x < m and 0 <= new_y < n:\n",
    "                    dfs(new_x, new_y)\n",
    "        for x in range(m):\n",
    "            dfs(x, 0)\n",
    "            dfs(x, n-1)\n",
    "        for y in range(n):\n",
    "            dfs(0, y)\n",
    "            dfs(m-1, y)\n",
    "        return sum([sum(row) for row in A])"
   ]
  },
  {
   "cell_type": "code",
   "execution_count": 2,
   "metadata": {},
   "outputs": [
    {
     "data": {
      "text/plain": [
       "3"
      ]
     },
     "execution_count": 2,
     "metadata": {},
     "output_type": "execute_result"
    }
   ],
   "source": [
    "s = Solution()\n",
    "s.numEnclaves([[0,0,0,0],[1,0,1,0],[0,1,1,0],[0,0,0,0]])"
   ]
  },
  {
   "cell_type": "code",
   "execution_count": 3,
   "metadata": {},
   "outputs": [
    {
     "data": {
      "text/plain": [
       "0"
      ]
     },
     "execution_count": 3,
     "metadata": {},
     "output_type": "execute_result"
    }
   ],
   "source": [
    "s.numEnclaves([[0,1,1,0],[0,0,1,0],[0,0,1,0],[0,0,0,0]])"
   ]
  },
  {
   "cell_type": "code",
   "execution_count": null,
   "metadata": {},
   "outputs": [],
   "source": []
  }
 ],
 "metadata": {
  "kernelspec": {
   "display_name": "Python 3 (ipykernel)",
   "language": "python",
   "name": "python3"
  },
  "language_info": {
   "codemirror_mode": {
    "name": "ipython",
    "version": 3
   },
   "file_extension": ".py",
   "mimetype": "text/x-python",
   "name": "python",
   "nbconvert_exporter": "python",
   "pygments_lexer": "ipython3",
   "version": "3.11.0"
  }
 },
 "nbformat": 4,
 "nbformat_minor": 2
}
