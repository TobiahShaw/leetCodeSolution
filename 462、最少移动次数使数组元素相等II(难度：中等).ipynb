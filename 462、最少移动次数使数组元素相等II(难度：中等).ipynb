{
 "cells": [
  {
   "cell_type": "markdown",
   "metadata": {},
   "source": [
    "# 最少移动次数使数组元素相等II\n",
    "\n",
    "**题目来源：力扣（LeetCode）**\n",
    "\n",
    "**链接：https://leetcode-cn.com/problems/minimum-moves-to-equal-array-elements-ii/**\n",
    "\n",
    "## 一、题目\n",
    "\n",
    "给定一个非空整数数组，找到使所有数组元素相等所需的最小移动数，其中每次移动可将选定的一个元素加1或减1。 您可以假设数组的长度最多为10000。\n",
    "\n",
    "## 二、示例\n",
    "\n",
    "输入:[1,2,3]\n",
    "\n",
    "输出:2\n",
    "\n",
    "说明：只有两个动作是必要的（记得每一步仅可使其中一个元素加1或减1）： \n",
    "\n",
    "```\n",
    "[1,2,3]  =>  [2,2,3]  =>  [2,2,2]\n",
    "```\n",
    "\n",
    "## 三、解题思路\n",
    "\n",
    "### 排序 + 中位数\n",
    "\n",
    "中位数证明：\n",
    "\n",
    "很多人不明白为什么中位数是最优解，其实证明非常简单，下面来看看吧：\n",
    "\n",
    "为了方便，我们先假设一共有2n+1个数，它们从小到大排序之后如下：\n",
    "```\n",
    " . . . a m b . . .\n",
    "```\n",
    "其中m是中位数。此时，m左边有n个数，m右边也有n个数。我们假设把m左边所有数变成m需要的代价是x，把m右边所有数变成m的代价是y，此时的总代价就是t = x+y\n",
    "\n",
    "好，如果你觉得中位数不是最优解，我们来看看把所有数都变成a的总代价是多少。 由于之前m右边n个数变成m的代价是y，现在让右边的数全变成a，此时右边的数的代价是y+(m-a)\\*n；m左边的n个数全变成a，它们的代价会减少到x-(m-a)\\*n。所以两边相加，结果还是 x-(m-a)\\*n + y+(m-a)\\*n == x+y。 但是，别忘了，m也要变成a，所以总代价是x+y+m-a，大于x+y。同理，如果让所有数都变成比m大的b，总代价则变为x+y+b-m（你可以自己算一下），依然比x+y大。并且越往左移或者往右移，这个值都会越来越大。 因此，在有2n+1个数的时候，选择中位数就是最优解。\n",
    "\n",
    "这个证明同样可以很简单地推广到2n个数。\n",
    "```\n",
    ". . . a b . . .\n",
    "```\n",
    "假设a左边有n-1个数，b右边也有n-1个数。如果我们选择把所有数都变成a，设a左边所有数变成a的代价是x，b右边所有数变成a的代价是y，因此总代价是x+y+b-a（b也要变成a）。 现在尝试下如果把所有数变成b，那么a左边的总代价变成了x+(b-a)*(n-1)，b右边总代价变成了y-(b-a)*(n-1)，同时还要把a变成b，因此总代价同样为x+(b-a)*(n-1)+y-(b-a)*(n-1) == x+y+b-a。也就是说当总个数为2n时，两个中位数选哪个最终结果都一样，但是继续左移和继续右移，都会使总代价增加（可以自己试试）。\n",
    "\n",
    "至此，证明了中位数是最优策略\n",
    "\n",
    "因此，这道题你只需要找到中位数，然后简单计算一下就能得出结果了\n",
    "\n",
    "来源：https://leetcode-cn.com/u/caibirdme/"
   ]
  },
  {
   "cell_type": "code",
   "execution_count": 1,
   "metadata": {},
   "outputs": [],
   "source": [
    "def minMoves2(nums) -> int:\n",
    "    nums.sort()\n",
    "    ret = 0\n",
    "    mid = nums[len(nums) // 2]\n",
    "    for num in nums:\n",
    "        ret += abs(num-mid)\n",
    "    return ret"
   ]
  },
  {
   "cell_type": "code",
   "execution_count": 2,
   "metadata": {},
   "outputs": [
    {
     "data": {
      "text/plain": [
       "2"
      ]
     },
     "execution_count": 2,
     "metadata": {},
     "output_type": "execute_result"
    }
   ],
   "source": [
    "minMoves2([1,2,3])"
   ]
  },
  {
   "cell_type": "code",
   "execution_count": null,
   "metadata": {},
   "outputs": [],
   "source": []
  }
 ],
 "metadata": {
  "kernelspec": {
   "display_name": "Python 3",
   "language": "python",
   "name": "python3"
  },
  "language_info": {
   "codemirror_mode": {
    "name": "ipython",
    "version": 3
   },
   "file_extension": ".py",
   "mimetype": "text/x-python",
   "name": "python",
   "nbconvert_exporter": "python",
   "pygments_lexer": "ipython3",
   "version": "3.6.5"
  }
 },
 "nbformat": 4,
 "nbformat_minor": 2
}
