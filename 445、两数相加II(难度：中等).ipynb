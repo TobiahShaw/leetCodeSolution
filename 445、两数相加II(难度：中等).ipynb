{
  "cells": [
    {
      "metadata": {
        "collapsed": true
      },
      "cell_type": "markdown",
      "source": "# 两数相加II\n\n**题目来源：力扣（LeetCode）**\n\n**链接：https://leetcode-cn.com/problems/add-two-numbers-ii/**\n\n## 一、题目\n\n给你两个 非空 链表来代表两个非负整数。数字最高位位于链表开始位置。它们的每个节点只存储一位数字。将这两数相加会返回一个新的链表。\n\n你可以假设除了数字 0 之外，这两个数字都不会以零开头。\n\n### 进阶：\n\n如果输入链表不能修改该如何处理？换句话说，你不能对列表中的节点进行翻转。\n\n## 二、示例\n\n输入：(7 -> 2 -> 4 -> 3) + (5 -> 6 -> 4)\n\n输出：7 -> 8 -> 0 -> 7\n\n## 三、解题思路\n\n### 利用栈的结构\n\n由于题目中加和所需的顺序与链表的顺序是相反的，那么如果不能修改输入链表，反转指针，那么就可以使用栈的特性来完成。"
    },
    {
      "metadata": {
        "trusted": true
      },
      "cell_type": "code",
      "source": "class ListNode:\n    def __init__(self, x):\n        self.val = x\n        self.next = None",
      "execution_count": 1,
      "outputs": []
    },
    {
      "metadata": {
        "trusted": true
      },
      "cell_type": "code",
      "source": "def addTwoNumbers(l1: ListNode, l2: ListNode) -> ListNode:\n    stack_1, stack_2 = [], []\n    while l1 or l2:\n        if l1:\n            stack_1.append(l1)\n            l1 = l1.next\n        if l2:\n            stack_2.append(l2)\n            l2 = l2.next\n    result = []\n    ad = False\n    while stack_1 or stack_2:\n        n1 = stack_1.pop().val if stack_1 else 0\n        n2 = stack_2.pop().val if stack_2 else 0\n        res = n1 + n2 + (1 if ad else 0)\n        if res >= 10:\n            ad = True\n            res -= 10\n        else:\n            ad = False\n        result.append(ListNode(res))\n    if ad:\n        result.append(ListNode(1))\n    holder = ListNode(0)\n    cur = holder\n    while result:\n        cur.next = result.pop()\n        cur = cur.next\n    return holder.next",
      "execution_count": 2,
      "outputs": []
    },
    {
      "metadata": {
        "trusted": true
      },
      "cell_type": "code",
      "source": "l1 = ListNode(7)\nl1.next = ListNode(2)\nl1.next.next = ListNode(4)\nl1.next.next.next = ListNode(3)",
      "execution_count": 3,
      "outputs": []
    },
    {
      "metadata": {
        "trusted": true
      },
      "cell_type": "code",
      "source": "l2 = ListNode(5)\nl2.next = ListNode(6)\nl2.next.next = ListNode(4)",
      "execution_count": 4,
      "outputs": []
    },
    {
      "metadata": {
        "trusted": true
      },
      "cell_type": "code",
      "source": "res = addTwoNumbers(l1, l2)\nwhile res:\n    print(res.val, end=' ')\n    res = res.next",
      "execution_count": 5,
      "outputs": [
        {
          "output_type": "stream",
          "text": "7 8 0 7 ",
          "name": "stdout"
        }
      ]
    },
    {
      "metadata": {
        "trusted": true
      },
      "cell_type": "code",
      "source": "",
      "execution_count": null,
      "outputs": []
    }
  ],
  "metadata": {
    "kernelspec": {
      "name": "python36",
      "display_name": "Python 3.6",
      "language": "python"
    },
    "language_info": {
      "mimetype": "text/x-python",
      "nbconvert_exporter": "python",
      "name": "python",
      "pygments_lexer": "ipython3",
      "version": "3.6.6",
      "file_extension": ".py",
      "codemirror_mode": {
        "version": 3,
        "name": "ipython"
      }
    }
  },
  "nbformat": 4,
  "nbformat_minor": 2
}