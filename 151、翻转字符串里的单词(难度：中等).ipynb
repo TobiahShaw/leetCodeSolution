{
 "cells": [
  {
   "cell_type": "markdown",
   "metadata": {},
   "source": [
    "# 翻转字符串里的单词\n",
    "\n",
    "**题目来源：力扣（LeetCode）**\n",
    "\n",
    "**链接：https://leetcode-cn.com/problems/reverse-words-in-a-string/**\n",
    "\n",
    "## 一、题目\n",
    "\n",
    "给定一个字符串，逐个翻转字符串中的每个单词。\n",
    "\n",
    "说明：\n",
    "\n",
    "- 无空格字符构成一个 单词 。\n",
    "- 输入字符串可以在前面或者后面包含多余的空格，但是反转后的字符不能包括。\n",
    "- 如果两个单词间有多余的空格，将反转后单词间的空格减少到只含一个。\n",
    "\n",
    "## 二、示例\n",
    "\n",
    "### 示例 1：\n",
    "\n",
    "输入：\"the sky is blue\"\n",
    "\n",
    "输出：\"blue is sky the\"\n",
    "\n",
    "### 示例 2：\n",
    "\n",
    "输入：\"  hello world!  \"\n",
    "\n",
    "输出：\"world! hello\"\n",
    "\n",
    "解释：输入字符串可以在前面或者后面包含多余的空格，但是反转后的字符不能包括。\n",
    "\n",
    "### 示例 3：\n",
    "\n",
    "输入：\"a good   example\"\n",
    "\n",
    "输出：\"example good a\"\n",
    "\n",
    "解释：如果两个单词间有多余的空格，将反转后单词间的空格减少到只含一个。\n",
    "\n",
    "### 示例 4：\n",
    "\n",
    "输入：s = \"  Bob    Loves  Alice   \"\n",
    "\n",
    "输出：\"Alice Loves Bob\"\n",
    "\n",
    "### 示例 5：\n",
    "\n",
    "输入：s = \"Alice does not even like bob\"\n",
    "\n",
    "输出：\"bob like even not does Alice\"\n",
    "\n",
    "## 三、解题思路\n",
    "\n",
    "### 一、分割反转字符串"
   ]
  },
  {
   "cell_type": "code",
   "execution_count": 1,
   "metadata": {},
   "outputs": [],
   "source": [
    "def reverseWords(s: str) -> str:\n",
    "    if not s:\n",
    "        return s\n",
    "    arr = s.split(\" \")\n",
    "    ret = \"\"\n",
    "    for word in arr[::-1]:\n",
    "        if word != ' ' and word != '':\n",
    "            ret += (' ' + word)\n",
    "    return ret[1:] if len(ret)>=1 else ''"
   ]
  },
  {
   "cell_type": "code",
   "execution_count": 2,
   "metadata": {},
   "outputs": [
    {
     "data": {
      "text/plain": [
       "'blue is sky the'"
      ]
     },
     "execution_count": 2,
     "metadata": {},
     "output_type": "execute_result"
    }
   ],
   "source": [
    "reverseWords(\"the sky is blue\")"
   ]
  },
  {
   "cell_type": "code",
   "execution_count": 3,
   "metadata": {},
   "outputs": [
    {
     "data": {
      "text/plain": [
       "'world! hello'"
      ]
     },
     "execution_count": 3,
     "metadata": {},
     "output_type": "execute_result"
    }
   ],
   "source": [
    "reverseWords(\" hello world! \")"
   ]
  },
  {
   "cell_type": "code",
   "execution_count": 4,
   "metadata": {},
   "outputs": [
    {
     "data": {
      "text/plain": [
       "'example good a'"
      ]
     },
     "execution_count": 4,
     "metadata": {},
     "output_type": "execute_result"
    }
   ],
   "source": [
    "reverseWords(\"a good example\")"
   ]
  },
  {
   "cell_type": "code",
   "execution_count": 5,
   "metadata": {},
   "outputs": [
    {
     "data": {
      "text/plain": [
       "'Alice Loves Bob'"
      ]
     },
     "execution_count": 5,
     "metadata": {},
     "output_type": "execute_result"
    }
   ],
   "source": [
    "reverseWords(\" Bob Loves Alice \")"
   ]
  },
  {
   "cell_type": "code",
   "execution_count": 6,
   "metadata": {},
   "outputs": [
    {
     "data": {
      "text/plain": [
       "'bob like even not does Alice'"
      ]
     },
     "execution_count": 6,
     "metadata": {},
     "output_type": "execute_result"
    }
   ],
   "source": [
    "reverseWords(\"Alice does not even like bob\")"
   ]
  },
  {
   "cell_type": "markdown",
   "metadata": {},
   "source": [
    "### 二、内置函数"
   ]
  },
  {
   "cell_type": "code",
   "execution_count": 7,
   "metadata": {},
   "outputs": [],
   "source": [
    "def reverseWords(s: str) -> str:\n",
    "    return \" \".join(reversed(s.split()))"
   ]
  },
  {
   "cell_type": "code",
   "execution_count": 8,
   "metadata": {},
   "outputs": [
    {
     "data": {
      "text/plain": [
       "'blue is sky the'"
      ]
     },
     "execution_count": 8,
     "metadata": {},
     "output_type": "execute_result"
    }
   ],
   "source": [
    "reverseWords(\"the sky is blue\")"
   ]
  },
  {
   "cell_type": "code",
   "execution_count": 9,
   "metadata": {},
   "outputs": [
    {
     "data": {
      "text/plain": [
       "'world! hello'"
      ]
     },
     "execution_count": 9,
     "metadata": {},
     "output_type": "execute_result"
    }
   ],
   "source": [
    "reverseWords(\" hello world! \")"
   ]
  },
  {
   "cell_type": "code",
   "execution_count": 10,
   "metadata": {},
   "outputs": [
    {
     "data": {
      "text/plain": [
       "'example good a'"
      ]
     },
     "execution_count": 10,
     "metadata": {},
     "output_type": "execute_result"
    }
   ],
   "source": [
    "reverseWords(\"a good example\")"
   ]
  },
  {
   "cell_type": "code",
   "execution_count": 11,
   "metadata": {},
   "outputs": [
    {
     "data": {
      "text/plain": [
       "'Alice Loves Bob'"
      ]
     },
     "execution_count": 11,
     "metadata": {},
     "output_type": "execute_result"
    }
   ],
   "source": [
    "reverseWords(\" Bob Loves Alice \")"
   ]
  },
  {
   "cell_type": "code",
   "execution_count": 12,
   "metadata": {},
   "outputs": [
    {
     "data": {
      "text/plain": [
       "'bob like even not does Alice'"
      ]
     },
     "execution_count": 12,
     "metadata": {},
     "output_type": "execute_result"
    }
   ],
   "source": [
    "reverseWords(\"Alice does not even like bob\")"
   ]
  },
  {
   "cell_type": "markdown",
   "metadata": {},
   "source": [
    "### 三、自行实现内置函数"
   ]
  },
  {
   "cell_type": "code",
   "execution_count": 13,
   "metadata": {},
   "outputs": [],
   "source": [
    "def reverseWords(s):\n",
    "    def trim_spaces(str):\n",
    "        left, right = 0, len(s) - 1\n",
    "        # 去掉字符串开头的空白字符\n",
    "        while left <= right and s[left] == ' ':\n",
    "            left += 1\n",
    "        \n",
    "        # 去掉字符串末尾的空白字符\n",
    "        while left <= right and s[right] == ' ':\n",
    "            right -= 1\n",
    "        \n",
    "        # 将字符串间多余的空白字符去除\n",
    "        output = []\n",
    "        while left <= right:\n",
    "            if s[left] != ' ':\n",
    "                output.append(s[left])\n",
    "            elif output[-1] != ' ':\n",
    "                output.append(s[left])\n",
    "            left += 1\n",
    "        return output\n",
    "\n",
    "    def reverse(l, left, right):\n",
    "        while left < right:\n",
    "            l[left], l[right] = l[right], l[left]\n",
    "            left, right = left + 1, right - 1\n",
    "\n",
    "    def reverse_each_word(l):\n",
    "        n = len(l)\n",
    "        start = end = 0\n",
    "        \n",
    "        while start < n:\n",
    "            # 循环至单词的末尾\n",
    "            while end < n and l[end] != ' ':\n",
    "                end += 1\n",
    "            # 翻转单词\n",
    "            reverse(l, start, end - 1)\n",
    "            # 更新start，去找下一个单词\n",
    "            start = end + 1\n",
    "            end += 1\n",
    "\n",
    "    l = trim_spaces(s)\n",
    "    \n",
    "    # 翻转字符串\n",
    "    reverse(l, 0, len(l) - 1)\n",
    "    \n",
    "    # 翻转每个单词\n",
    "    reverse_each_word(l)\n",
    "    \n",
    "    return ''.join(l)"
   ]
  },
  {
   "cell_type": "code",
   "execution_count": 14,
   "metadata": {},
   "outputs": [
    {
     "data": {
      "text/plain": [
       "'blue is sky the'"
      ]
     },
     "execution_count": 14,
     "metadata": {},
     "output_type": "execute_result"
    }
   ],
   "source": [
    "reverseWords(\"the sky is blue\")"
   ]
  },
  {
   "cell_type": "code",
   "execution_count": 15,
   "metadata": {},
   "outputs": [
    {
     "data": {
      "text/plain": [
       "'world! hello'"
      ]
     },
     "execution_count": 15,
     "metadata": {},
     "output_type": "execute_result"
    }
   ],
   "source": [
    "reverseWords(\" hello world! \")"
   ]
  },
  {
   "cell_type": "code",
   "execution_count": 16,
   "metadata": {},
   "outputs": [
    {
     "data": {
      "text/plain": [
       "'example good a'"
      ]
     },
     "execution_count": 16,
     "metadata": {},
     "output_type": "execute_result"
    }
   ],
   "source": [
    "reverseWords(\"a good example\")"
   ]
  },
  {
   "cell_type": "code",
   "execution_count": 17,
   "metadata": {},
   "outputs": [
    {
     "data": {
      "text/plain": [
       "'Alice Loves Bob'"
      ]
     },
     "execution_count": 17,
     "metadata": {},
     "output_type": "execute_result"
    }
   ],
   "source": [
    "reverseWords(\" Bob Loves Alice \")"
   ]
  },
  {
   "cell_type": "code",
   "execution_count": 18,
   "metadata": {},
   "outputs": [
    {
     "data": {
      "text/plain": [
       "'bob like even not does Alice'"
      ]
     },
     "execution_count": 18,
     "metadata": {},
     "output_type": "execute_result"
    }
   ],
   "source": [
    "reverseWords(\"Alice does not even like bob\")"
   ]
  },
  {
   "cell_type": "code",
   "execution_count": null,
   "metadata": {},
   "outputs": [],
   "source": []
  }
 ],
 "metadata": {
  "kernelspec": {
   "display_name": "Python 3",
   "language": "python",
   "name": "python3"
  },
  "language_info": {
   "codemirror_mode": {
    "name": "ipython",
    "version": 3
   },
   "file_extension": ".py",
   "mimetype": "text/x-python",
   "name": "python",
   "nbconvert_exporter": "python",
   "pygments_lexer": "ipython3",
   "version": "3.6.5"
  }
 },
 "nbformat": 4,
 "nbformat_minor": 2
}
