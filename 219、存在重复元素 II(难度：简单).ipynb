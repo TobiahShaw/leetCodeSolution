{
  "cells": [
    {
      "metadata": {
        "collapsed": true
      },
      "cell_type": "markdown",
      "source": "# 存在重复元素 II\n\n**题目来源：力扣（LeetCode）**\n\n**链接：https://leetcode-cn.com/problems/contains-duplicate-ii/**\n\n## 一、题目\n\n给定一个整数数组和一个整数 k，判断数组中是否存在两个不同的索引 i 和 j，使得 nums [i] = nums [j]，并且 i 和 j 的差的绝对值最大为 k。\n\n## 二、示例\n\n### 示例 1:\n\n输入: nums = [1,2,3,1], k = 3\n\n输出: true\n\n### 示例 2:\n\n输入: nums = [1,0,1,1], k = 1\n\n输出: true\n\n### 示例 3:\n\n输入: nums = [1,2,3,1,2,3], k = 2\n\n输出: false\n\n## 三、解题思路\n\n### 一、滑动窗口、线性搜索"
    },
    {
      "metadata": {
        "trusted": true
      },
      "cell_type": "code",
      "source": "def containsNearbyDuplicate(nums, k) -> bool:\n    for i in range(len(nums)):\n        for n in nums[i+1:i+k+1]:\n            if nums[i] == n:\n                return True\n    return False",
      "execution_count": 1,
      "outputs": []
    },
    {
      "metadata": {
        "trusted": true
      },
      "cell_type": "code",
      "source": "containsNearbyDuplicate(nums = [1,2,3,1], k = 3)",
      "execution_count": 2,
      "outputs": [
        {
          "output_type": "execute_result",
          "execution_count": 2,
          "data": {
            "text/plain": "True"
          },
          "metadata": {}
        }
      ]
    },
    {
      "metadata": {
        "trusted": true
      },
      "cell_type": "code",
      "source": "containsNearbyDuplicate(nums = [1,0,1,1], k = 1)",
      "execution_count": 3,
      "outputs": [
        {
          "output_type": "execute_result",
          "execution_count": 3,
          "data": {
            "text/plain": "True"
          },
          "metadata": {}
        }
      ]
    },
    {
      "metadata": {
        "trusted": true
      },
      "cell_type": "code",
      "source": "containsNearbyDuplicate(nums = [1,2,3,1,2,3], k = 2)",
      "execution_count": 4,
      "outputs": [
        {
          "output_type": "execute_result",
          "execution_count": 4,
          "data": {
            "text/plain": "False"
          },
          "metadata": {}
        }
      ]
    },
    {
      "metadata": {},
      "cell_type": "markdown",
      "source": "### 二、字典"
    },
    {
      "metadata": {
        "trusted": true
      },
      "cell_type": "code",
      "source": "def containsNearbyDuplicate(nums, k) -> bool:\n    d = {}\n    for i in range(len(nums)):\n        if nums[i] not in d:\n            d[nums[i]] = i\n        else:\n            if i - d[nums[i]] > k:\n                d[nums[i]] = i\n            else:\n                return True\n    return False",
      "execution_count": 5,
      "outputs": []
    },
    {
      "metadata": {
        "trusted": true
      },
      "cell_type": "code",
      "source": "containsNearbyDuplicate(nums = [1,2,3,1], k = 3)",
      "execution_count": 6,
      "outputs": [
        {
          "output_type": "execute_result",
          "execution_count": 6,
          "data": {
            "text/plain": "True"
          },
          "metadata": {}
        }
      ]
    },
    {
      "metadata": {
        "trusted": true
      },
      "cell_type": "code",
      "source": "containsNearbyDuplicate(nums = [1,0,1,1], k = 1)",
      "execution_count": 7,
      "outputs": [
        {
          "output_type": "execute_result",
          "execution_count": 7,
          "data": {
            "text/plain": "True"
          },
          "metadata": {}
        }
      ]
    },
    {
      "metadata": {
        "trusted": true
      },
      "cell_type": "code",
      "source": "containsNearbyDuplicate(nums = [1,2,3,1,2,3], k = 2)",
      "execution_count": 8,
      "outputs": [
        {
          "output_type": "execute_result",
          "execution_count": 8,
          "data": {
            "text/plain": "False"
          },
          "metadata": {}
        }
      ]
    },
    {
      "metadata": {
        "trusted": true
      },
      "cell_type": "code",
      "source": "",
      "execution_count": null,
      "outputs": []
    }
  ],
  "metadata": {
    "kernelspec": {
      "name": "python36",
      "display_name": "Python 3.6",
      "language": "python"
    },
    "language_info": {
      "mimetype": "text/x-python",
      "nbconvert_exporter": "python",
      "name": "python",
      "pygments_lexer": "ipython3",
      "version": "3.6.6",
      "file_extension": ".py",
      "codemirror_mode": {
        "version": 3,
        "name": "ipython"
      }
    }
  },
  "nbformat": 4,
  "nbformat_minor": 2
}