{
 "cells": [
  {
   "cell_type": "markdown",
   "metadata": {},
   "source": [
    "# 两个相同字符之间的最长子字符串\n",
    "\n",
    "**题目来源：力扣（LeetCode）**\n",
    "\n",
    "**链接：https://leetcode-cn.com/problems/largest-substring-between-two-equal-characters/**\n",
    "\n",
    "## 一、题目\n",
    "\n",
    "给你一个字符串 s，请你返回 两个相同字符之间的最长子字符串的长度 ，计算长度时不含这两个字符。如果不存在这样的子字符串，返回 -1 。\n",
    "\n",
    "子字符串 是字符串中的一个连续字符序列。\n",
    "\n",
    "### 提示：\n",
    "\n",
    "- 1 <= s.length <= 300\n",
    "- s 只含小写英文字母\n",
    "\n",
    "## 二、示例\n",
    "\n",
    "### 示例 1：\n",
    "\n",
    "输入：s = \"aa\"\n",
    "\n",
    "输出：0\n",
    "\n",
    "解释：最优的子字符串是两个 'a' 之间的空子字符串。\n",
    "\n",
    "### 示例 2：\n",
    "\n",
    "输入：s = \"abca\"\n",
    "\n",
    "输出：2\n",
    "\n",
    "解释：最优的子字符串是 \"bc\" 。\n",
    "\n",
    "### 示例 3：\n",
    "\n",
    "输入：s = \"cbzxy\"\n",
    "\n",
    "输出：-1\n",
    "\n",
    "解释：s 中不存在出现出现两次的字符，所以返回 -1 。\n",
    "\n",
    "### 示例 4：\n",
    "\n",
    "输入：s = \"cabbac\"\n",
    "\n",
    "输出：4\n",
    "\n",
    "解释：最优的子字符串是 \"abba\" ，其他的非最优解包括 \"bb\" 和 \"\" 。\n",
    "\n",
    "## 三、解题思路\n",
    "\n",
    "### 暴力法"
   ]
  },
  {
   "cell_type": "code",
   "execution_count": 1,
   "metadata": {},
   "outputs": [],
   "source": [
    "def maxLengthBetweenEqualCharacters(s: str) -> int:\n",
    "    n = len(s)\n",
    "    ret = -1\n",
    "    for i in range(n):\n",
    "        for j in range(n-1, i, -1):\n",
    "            if s[i] == s[j]:\n",
    "                ret = max(ret, j-i-1)\n",
    "    return ret"
   ]
  },
  {
   "cell_type": "code",
   "execution_count": 2,
   "metadata": {},
   "outputs": [
    {
     "data": {
      "text/plain": [
       "0"
      ]
     },
     "execution_count": 2,
     "metadata": {},
     "output_type": "execute_result"
    }
   ],
   "source": [
    "maxLengthBetweenEqualCharacters(\"aa\")"
   ]
  },
  {
   "cell_type": "code",
   "execution_count": 3,
   "metadata": {},
   "outputs": [
    {
     "data": {
      "text/plain": [
       "2"
      ]
     },
     "execution_count": 3,
     "metadata": {},
     "output_type": "execute_result"
    }
   ],
   "source": [
    "maxLengthBetweenEqualCharacters(\"abca\")"
   ]
  },
  {
   "cell_type": "code",
   "execution_count": 4,
   "metadata": {},
   "outputs": [
    {
     "data": {
      "text/plain": [
       "-1"
      ]
     },
     "execution_count": 4,
     "metadata": {},
     "output_type": "execute_result"
    }
   ],
   "source": [
    "maxLengthBetweenEqualCharacters(\"cbzxy\")"
   ]
  },
  {
   "cell_type": "code",
   "execution_count": 5,
   "metadata": {},
   "outputs": [
    {
     "data": {
      "text/plain": [
       "4"
      ]
     },
     "execution_count": 5,
     "metadata": {},
     "output_type": "execute_result"
    }
   ],
   "source": [
    "maxLengthBetweenEqualCharacters(\"cabbac\")"
   ]
  },
  {
   "cell_type": "code",
   "execution_count": null,
   "metadata": {},
   "outputs": [],
   "source": []
  }
 ],
 "metadata": {
  "kernelspec": {
   "display_name": "Python 3",
   "language": "python",
   "name": "python3"
  },
  "language_info": {
   "codemirror_mode": {
    "name": "ipython",
    "version": 3
   },
   "file_extension": ".py",
   "mimetype": "text/x-python",
   "name": "python",
   "nbconvert_exporter": "python",
   "pygments_lexer": "ipython3",
   "version": "3.6.5"
  }
 },
 "nbformat": 4,
 "nbformat_minor": 2
}
