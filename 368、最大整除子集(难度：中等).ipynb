{
 "cells": [
  {
   "cell_type": "markdown",
   "metadata": {},
   "source": [
    "# 最大整除子集\n",
    "\n",
    "**题目来源：力扣（LeetCode）**\n",
    "\n",
    "**链接：https://leetcode-cn.com/problems/largest-divisible-subset/**\n",
    "\n",
    "## 一、题目\n",
    "\n",
    "给你一个由 无重复 正整数组成的集合 nums ，请你找出并返回其中最大的整除子集 answer ，子集中每一元素对 (answer[i], answer[j]) 都应当满足：\n",
    "\n",
    "- answer[i] % answer[j] == 0 ，或\n",
    "- answer[j] % answer[i] == 0\n",
    "\n",
    "如果存在多个有效解子集，返回其中任何一个均可。\n",
    "\n",
    "提示：\n",
    "\n",
    "- 1 <= nums.length <= 1000\n",
    "- 1 <= nums[i] <= 2 * 109\n",
    "- nums 中的所有整数 **互不相同**\n",
    "\n",
    "## 二、示例\n",
    "\n",
    "### 示例 1：\n",
    "\n",
    "输入：nums = [1,2,3]\n",
    "\n",
    "输出：[1,2]\n",
    "\n",
    "解释：[1,3] 也会被视为正确答案。\n",
    "\n",
    "### 示例 2：\n",
    "\n",
    "输入：nums = [1,2,4,8]\n",
    "\n",
    "输出：[1,2,4,8]\n",
    "\n",
    "## 三、解题思路\n",
    "\n",
    "### dfs + 记忆化（lru_cache）"
   ]
  },
  {
   "cell_type": "code",
   "execution_count": 1,
   "metadata": {},
   "outputs": [],
   "source": [
    "def largestDivisibleSubset(nums):\n",
    "    from functools import lru_cache\n",
    "    nums.sort()\n",
    "    n = len(nums)\n",
    "    @lru_cache(None)\n",
    "    def dfs(num, i):\n",
    "        ans = []\n",
    "        for j in range(i, n):\n",
    "            if nums[j] % num == 0:\n",
    "                tmp = [nums[j]] + dfs(nums[j], j+1)\n",
    "                if len(tmp) > len(ans):\n",
    "                    ans = tmp\n",
    "        return ans\n",
    "    return dfs(1, 0)"
   ]
  },
  {
   "cell_type": "code",
   "execution_count": 2,
   "metadata": {},
   "outputs": [
    {
     "data": {
      "text/plain": [
       "[1, 2]"
      ]
     },
     "execution_count": 2,
     "metadata": {},
     "output_type": "execute_result"
    }
   ],
   "source": [
    "largestDivisibleSubset([1,2,3])"
   ]
  },
  {
   "cell_type": "code",
   "execution_count": 3,
   "metadata": {},
   "outputs": [
    {
     "data": {
      "text/plain": [
       "[1, 2, 4, 8]"
      ]
     },
     "execution_count": 3,
     "metadata": {},
     "output_type": "execute_result"
    }
   ],
   "source": [
    "largestDivisibleSubset([1,2,4,8])"
   ]
  },
  {
   "cell_type": "code",
   "execution_count": null,
   "metadata": {},
   "outputs": [],
   "source": []
  }
 ],
 "metadata": {
  "kernelspec": {
   "display_name": "Python 3",
   "language": "python",
   "name": "python3"
  },
  "language_info": {
   "codemirror_mode": {
    "name": "ipython",
    "version": 3
   },
   "file_extension": ".py",
   "mimetype": "text/x-python",
   "name": "python",
   "nbconvert_exporter": "python",
   "pygments_lexer": "ipython3",
   "version": "3.6.5"
  }
 },
 "nbformat": 4,
 "nbformat_minor": 2
}
