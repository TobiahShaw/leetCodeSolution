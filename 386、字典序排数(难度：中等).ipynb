{
 "cells": [
  {
   "cell_type": "markdown",
   "metadata": {},
   "source": [
    "# 字典序排数\n",
    "\n",
    "**题目来源：力扣（LeetCode）**\n",
    "\n",
    "**链接：https://leetcode-cn.com/problems/lexicographical-numbers/**\n",
    "\n",
    "## 一、题目\n",
    "\n",
    "给你一个整数 n ，按字典序返回范围 [1, n] 内所有整数。\n",
    "\n",
    "你必须设计一个时间复杂度为 O(n) 且使用 O(1) 额外空间的算法。\n",
    "\n",
    "### 提示：\n",
    "\n",
    "- 1 <= n <= 5 * 10^4\n",
    "\n",
    "## 二、示例\n",
    "\n",
    "### 示例 1：\n",
    "\n",
    "输入：n = 13\n",
    "\n",
    "输出：[1,10,11,12,13,2,3,4,5,6,7,8,9]\n",
    "\n",
    "### 示例 2：\n",
    "\n",
    "输入：n = 2\n",
    "\n",
    "输出：[1,2]\n",
    "\n",
    "## 三、解题思路\n",
    "\n",
    "### 一、调用内置函数"
   ]
  },
  {
   "cell_type": "code",
   "execution_count": 1,
   "metadata": {},
   "outputs": [],
   "source": [
    "def lexicalOrder(n: int):\n",
    "    return sorted([str(i) for i in range(1, n + 1)])"
   ]
  },
  {
   "cell_type": "code",
   "execution_count": 2,
   "metadata": {},
   "outputs": [
    {
     "data": {
      "text/plain": [
       "['1', '10', '11', '12', '13', '2', '3', '4', '5', '6', '7', '8', '9']"
      ]
     },
     "execution_count": 2,
     "metadata": {},
     "output_type": "execute_result"
    }
   ],
   "source": [
    "lexicalOrder(13)"
   ]
  },
  {
   "cell_type": "markdown",
   "metadata": {},
   "source": [
    "### 二、深度优先搜索"
   ]
  },
  {
   "cell_type": "code",
   "execution_count": 3,
   "metadata": {},
   "outputs": [],
   "source": [
    "def lexicalOrder(n: int):\n",
    "    if n < 1:\n",
    "        return []\n",
    "    ret = []\n",
    "    def dfs(cur):\n",
    "        if cur > n:\n",
    "            return\n",
    "        ret.append(cur)\n",
    "\n",
    "        for i in range(10):\n",
    "            dfs(cur * 10 + i)\n",
    "\n",
    "    for i in range(1, 10):\n",
    "        dfs(i)\n",
    "    return ret"
   ]
  },
  {
   "cell_type": "code",
   "execution_count": 4,
   "metadata": {},
   "outputs": [
    {
     "data": {
      "text/plain": [
       "[1, 10, 11, 12, 13, 2, 3, 4, 5, 6, 7, 8, 9]"
      ]
     },
     "execution_count": 4,
     "metadata": {},
     "output_type": "execute_result"
    }
   ],
   "source": [
    "lexicalOrder(13)"
   ]
  },
  {
   "cell_type": "code",
   "execution_count": null,
   "metadata": {},
   "outputs": [],
   "source": []
  }
 ],
 "metadata": {
  "kernelspec": {
   "display_name": "Python 3",
   "language": "python",
   "name": "python3"
  },
  "language_info": {
   "codemirror_mode": {
    "name": "ipython",
    "version": 3
   },
   "file_extension": ".py",
   "mimetype": "text/x-python",
   "name": "python",
   "nbconvert_exporter": "python",
   "pygments_lexer": "ipython3",
   "version": "3.6.5"
  }
 },
 "nbformat": 4,
 "nbformat_minor": 2
}
