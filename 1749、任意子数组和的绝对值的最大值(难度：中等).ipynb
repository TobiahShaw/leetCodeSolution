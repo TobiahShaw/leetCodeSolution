{
 "cells": [
  {
   "cell_type": "markdown",
   "metadata": {},
   "source": [
    "# 任意子数组和的绝对值的最大值\n",
    "\n",
    "**题目来源：力扣（LeetCode）**\n",
    "\n",
    "**链接：https://leetcode-cn.com/problems/maximum-absolute-sum-of-any-subarray/**\n",
    "\n",
    "## 一、题目\n",
    "\n",
    "给你一个整数数组 nums 。一个子数组 [numsl, numsl+1, ..., numsr-1, numsr] 的 和的绝对值 为 abs(numsl + numsl+1 + ... + numsr-1 + numsr) 。\n",
    "\n",
    "请你找出 nums 中 和的绝对值 最大的任意子数组（可能为空），并返回该 最大值 。\n",
    "\n",
    "abs(x) 定义如下：\n",
    "\n",
    "- 如果 x 是负整数，那么 abs(x) = -x 。\n",
    "- 如果 x 是非负整数，那么 abs(x) = x 。\n",
    "\n",
    "### 提示：\n",
    "\n",
    "- 1 <= nums.length <= 10^5\n",
    "- -10^4 <= nums[i] <= 10^4\n",
    "\n",
    "## 二、示例\n",
    "\n",
    "### 示例 1：\n",
    "\n",
    "输入：nums = [1,-3,2,3,-4]\n",
    "\n",
    "输出：5\n",
    "\n",
    "解释：子数组 [2,3] 和的绝对值最大，为 abs(2+3) = abs(5) = 5 。\n",
    "\n",
    "### 示例 2：\n",
    "\n",
    "输入：nums = [2,-5,1,-4,3,-2]\n",
    "\n",
    "输出：8\n",
    "\n",
    "解释：子数组 [-5,1,-4] 和的绝对值最大，为 abs(-5+1-4) = abs(-8) = 8 。\n",
    "\n",
    "## 三、解题思路\n",
    "\n",
    "### 一、dp\n",
    "\n",
    "分别求最大、最小子数组和"
   ]
  },
  {
   "cell_type": "code",
   "execution_count": 1,
   "metadata": {},
   "outputs": [],
   "source": [
    "def maxAbsoluteSum(nums) -> int:\n",
    "    n = len(nums)\n",
    "    dp = [(0, 0)] * n\n",
    "    dp[0] = (nums[0], nums[0])\n",
    "    max_sum, min_sum = dp[0]\n",
    "    for i in range(1, n):\n",
    "        dp[i] = (max(dp[i-1][0]+nums[i], nums[i]), min(dp[i-1][1]+nums[i], nums[i]))\n",
    "        max_sum = max(max_sum, dp[i][0])\n",
    "        min_sum = min(min_sum, dp[i][1])\n",
    "    return max(abs(max_sum), abs(min_sum))"
   ]
  },
  {
   "cell_type": "code",
   "execution_count": 2,
   "metadata": {},
   "outputs": [
    {
     "data": {
      "text/plain": [
       "5"
      ]
     },
     "execution_count": 2,
     "metadata": {},
     "output_type": "execute_result"
    }
   ],
   "source": [
    "maxAbsoluteSum([1,-3,2,3,-4])"
   ]
  },
  {
   "cell_type": "code",
   "execution_count": 3,
   "metadata": {},
   "outputs": [
    {
     "data": {
      "text/plain": [
       "8"
      ]
     },
     "execution_count": 3,
     "metadata": {},
     "output_type": "execute_result"
    }
   ],
   "source": [
    "maxAbsoluteSum([2,-5,1,-4,3,-2])"
   ]
  },
  {
   "cell_type": "markdown",
   "metadata": {},
   "source": [
    "### 二、前缀和"
   ]
  },
  {
   "cell_type": "code",
   "execution_count": 4,
   "metadata": {},
   "outputs": [],
   "source": [
    "def maxAbsoluteSum(nums) -> int:\n",
    "    def quick_sort(arr, start, end):\n",
    "        if start == end:\n",
    "            return\n",
    "        p, l, r, flag = arr[start], start, end, 0\n",
    "        while l < r:\n",
    "            if flag == 0:\n",
    "                r -= 1\n",
    "                if arr[r] < p:\n",
    "                    arr[l] = arr[r]\n",
    "                    flag = 1\n",
    "            else:\n",
    "                l += 1\n",
    "                if arr[l] > p:\n",
    "                    arr[r] = arr[l]\n",
    "                    flag = 0\n",
    "        arr[l] = p\n",
    "        quick_sort(arr, start, l)\n",
    "        quick_sort(arr, l+1, end)\n",
    "    nums = [0] + nums\n",
    "    for i in range(1, len(nums)):\n",
    "        nums[i] += nums[i - 1]\n",
    "    quick_sort(nums, 0, len(nums))\n",
    "    return nums[-1] - nums[0]"
   ]
  },
  {
   "cell_type": "code",
   "execution_count": 5,
   "metadata": {},
   "outputs": [
    {
     "data": {
      "text/plain": [
       "5"
      ]
     },
     "execution_count": 5,
     "metadata": {},
     "output_type": "execute_result"
    }
   ],
   "source": [
    "maxAbsoluteSum([1,-3,2,3,-4])"
   ]
  },
  {
   "cell_type": "code",
   "execution_count": 6,
   "metadata": {},
   "outputs": [
    {
     "data": {
      "text/plain": [
       "8"
      ]
     },
     "execution_count": 6,
     "metadata": {},
     "output_type": "execute_result"
    }
   ],
   "source": [
    "maxAbsoluteSum([2,-5,1,-4,3,-2])"
   ]
  },
  {
   "cell_type": "code",
   "execution_count": null,
   "metadata": {},
   "outputs": [],
   "source": []
  }
 ],
 "metadata": {
  "kernelspec": {
   "display_name": "Python 3",
   "language": "python",
   "name": "python3"
  },
  "language_info": {
   "codemirror_mode": {
    "name": "ipython",
    "version": 3
   },
   "file_extension": ".py",
   "mimetype": "text/x-python",
   "name": "python",
   "nbconvert_exporter": "python",
   "pygments_lexer": "ipython3",
   "version": "3.6.5"
  }
 },
 "nbformat": 4,
 "nbformat_minor": 2
}
