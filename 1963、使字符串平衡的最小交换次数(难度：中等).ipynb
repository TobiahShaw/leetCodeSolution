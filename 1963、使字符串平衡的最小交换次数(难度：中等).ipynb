{
 "cells": [
  {
   "cell_type": "markdown",
   "metadata": {},
   "source": [
    "# 使字符串平衡的最小交换次数\n",
    "\n",
    "**题目来源：力扣（LeetCode）**\n",
    "\n",
    "**链接：https://leetcode-cn.com/problems/minimum-number-of-swaps-to-make-the-string-balanced/**\n",
    "\n",
    "## 一、题目\n",
    "\n",
    "给你一个字符串 s ，下标从 0 开始 ，且长度为偶数 n 。字符串 恰好 由 n / 2 个开括号 '[' 和 n / 2 个闭括号 ']' 组成。\n",
    "\n",
    "只有能满足下述所有条件的字符串才能称为 平衡字符串 ：\n",
    "\n",
    "- 字符串是一个空字符串，或者\n",
    "- 字符串可以记作 AB ，其中 A 和 B 都是 平衡字符串 ，或者\n",
    "- 字符串可以写成 [C] ，其中 C 是一个 平衡字符串 。\n",
    "\n",
    "你可以交换 任意 两个下标所对应的括号 任意 次数。\n",
    "\n",
    "返回使 s 变成 平衡字符串 所需要的 最小 交换次数。\n",
    "\n",
    "### 提示：\n",
    "\n",
    "- n == s.length\n",
    "- 2 <= n <= 106\n",
    "- n 为偶数\n",
    "- s[i] 为'[' 或 ']'\n",
    "- 开括号 '[' 的数目为 n / 2 ，闭括号 ']' 的数目也是 n / 2\n",
    "\n",
    "## 二、示例\n",
    "\n",
    "### 示例 1：\n",
    "\n",
    "输入：s = \"][][\"\n",
    "\n",
    "输出：1\n",
    "\n",
    "解释：交换下标 0 和下标 3 对应的括号，可以使字符串变成平衡字符串。\n",
    "\n",
    "最终字符串变成 \"[[]]\" 。\n",
    "\n",
    "### 示例 2：\n",
    "\n",
    "输入：s = \"]]][[[\"\n",
    "\n",
    "输出：2\n",
    "\n",
    "解释：执行下述操作可以使字符串变成平衡字符串：\n",
    "\n",
    "- 交换下标 0 和下标 4 对应的括号，s = \"[]][][\" 。\n",
    "- 交换下标 1 和下标 5 对应的括号，s = \"[[][]]\" 。\n",
    "\n",
    "最终字符串变成 \"[[][]]\" 。\n",
    "\n",
    "### 示例 3：\n",
    "\n",
    "输入：s = \"[]\"\n",
    "\n",
    "输出：0\n",
    "\n",
    "解释：这个字符串已经是平衡字符串。\n",
    "\n",
    "## 三、解题思路\n",
    "\n",
    "### 利用栈"
   ]
  },
  {
   "cell_type": "code",
   "execution_count": 1,
   "metadata": {},
   "outputs": [],
   "source": [
    "def minSwaps(s: str) -> int:\n",
    "    n = len(s)\n",
    "    maxVal = 0\n",
    "    stack = []\n",
    "    for ch in s:\n",
    "        if not stack:\n",
    "            stack.append(ch)\n",
    "            continue\n",
    "        if stack[-1] == \"[\" and ch ==\"]\":\n",
    "            stack.pop()\n",
    "        else:\n",
    "            stack.append(ch)\n",
    "    maxVal = len(stack) // 2\n",
    "    return maxVal // 2 + (maxVal % 2)"
   ]
  },
  {
   "cell_type": "code",
   "execution_count": 2,
   "metadata": {},
   "outputs": [
    {
     "data": {
      "text/plain": [
       "1"
      ]
     },
     "execution_count": 2,
     "metadata": {},
     "output_type": "execute_result"
    }
   ],
   "source": [
    "minSwaps(\"][][\")"
   ]
  },
  {
   "cell_type": "code",
   "execution_count": 3,
   "metadata": {},
   "outputs": [
    {
     "data": {
      "text/plain": [
       "2"
      ]
     },
     "execution_count": 3,
     "metadata": {},
     "output_type": "execute_result"
    }
   ],
   "source": [
    "minSwaps(\"]]][[[\")"
   ]
  },
  {
   "cell_type": "code",
   "execution_count": 4,
   "metadata": {},
   "outputs": [
    {
     "data": {
      "text/plain": [
       "0"
      ]
     },
     "execution_count": 4,
     "metadata": {},
     "output_type": "execute_result"
    }
   ],
   "source": [
    "minSwaps(\"[]\")"
   ]
  },
  {
   "cell_type": "code",
   "execution_count": null,
   "metadata": {},
   "outputs": [],
   "source": []
  }
 ],
 "metadata": {
  "kernelspec": {
   "display_name": "Python 3",
   "language": "python",
   "name": "python3"
  },
  "language_info": {
   "codemirror_mode": {
    "name": "ipython",
    "version": 3
   },
   "file_extension": ".py",
   "mimetype": "text/x-python",
   "name": "python",
   "nbconvert_exporter": "python",
   "pygments_lexer": "ipython3",
   "version": "3.6.5"
  }
 },
 "nbformat": 4,
 "nbformat_minor": 2
}
