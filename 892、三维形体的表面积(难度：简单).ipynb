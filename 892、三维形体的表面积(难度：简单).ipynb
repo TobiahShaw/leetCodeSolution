{
 "cells": [
  {
   "cell_type": "markdown",
   "metadata": {},
   "source": [
    "# 三维形体的表面积\n",
    "\n",
    "**题目来源：力扣（LeetCode）**\n",
    "\n",
    "**链接：https://leetcode-cn.com/problems/surface-area-of-3d-shapes/**\n",
    "\n",
    "## 一、题目\n",
    "\n",
    "给你一个 n * n 的网格 grid ，上面放置着一些 1 x 1 x 1 的正方体。每个值 v = grid[i][j] 表示 v 个正方体叠放在对应单元格 (i, j) 上。\n",
    "\n",
    "放置好正方体后，任何直接相邻的正方体都会互相粘在一起，形成一些不规则的三维形体。\n",
    "\n",
    "请你返回最终这些形体的总表面积。\n",
    "\n",
    "注意：每个形体的底面也需要计入表面积中。\n",
    "\n",
    "### 提示：\n",
    "\n",
    "- n == grid.length\n",
    "- n == grid[i].length\n",
    "- 1 <= n <= 50\n",
    "- 0 <= grid[i][j] <= 50\n",
    "\n",
    "## 二、示例\n",
    "\n",
    "### 示例 1：\n",
    "\n",
    "输入：grid = [[1,2],[3,4]]\n",
    "\n",
    "输出：34\n",
    "\n",
    "### 示例 2：\n",
    "\n",
    "输入：grid = [[1,1,1],[1,0,1],[1,1,1]]\n",
    "\n",
    "输出：32\n",
    "\n",
    "### 示例 3：\n",
    "\n",
    "输入：grid = [[2,2,2],[2,1,2],[2,2,2]]\n",
    "\n",
    "输出：46\n",
    "\n",
    "## 三、解题思路\n",
    "\n",
    "### 总表面积减去不可见表面积"
   ]
  },
  {
   "cell_type": "code",
   "execution_count": 1,
   "metadata": {},
   "outputs": [],
   "source": [
    "def surfaceArea(grid) -> int:\n",
    "    count = 0\n",
    "    duplicate = 0\n",
    "    m, n = len(grid), len(grid[0])\n",
    "    dx = [0, 0, 1, -1]\n",
    "    dy = [1, -1, 0, 0]\n",
    "    for row in range(m):\n",
    "        for col in range(n):\n",
    "            cur_count = grid[row][col]\n",
    "            if cur_count == 0:\n",
    "                continue\n",
    "            count += cur_count\n",
    "            duplicate += (cur_count - 1) * 2\n",
    "            for i in range(4):\n",
    "                new_row = row + dx[i]\n",
    "                new_col = col + dy[i]\n",
    "                if new_row < 0 or new_row >= m or new_col < 0 or new_col >= n:\n",
    "                    continue\n",
    "                duplicate += min(cur_count, grid[new_row][new_col])\n",
    "    return count * 6 - duplicate"
   ]
  },
  {
   "cell_type": "code",
   "execution_count": 2,
   "metadata": {},
   "outputs": [
    {
     "data": {
      "text/plain": [
       "34"
      ]
     },
     "execution_count": 2,
     "metadata": {},
     "output_type": "execute_result"
    }
   ],
   "source": [
    "surfaceArea([[1,2],[3,4]])"
   ]
  },
  {
   "cell_type": "code",
   "execution_count": 3,
   "metadata": {},
   "outputs": [
    {
     "data": {
      "text/plain": [
       "32"
      ]
     },
     "execution_count": 3,
     "metadata": {},
     "output_type": "execute_result"
    }
   ],
   "source": [
    "surfaceArea([[1,1,1],[1,0,1],[1,1,1]])"
   ]
  },
  {
   "cell_type": "code",
   "execution_count": 4,
   "metadata": {},
   "outputs": [
    {
     "data": {
      "text/plain": [
       "46"
      ]
     },
     "execution_count": 4,
     "metadata": {},
     "output_type": "execute_result"
    }
   ],
   "source": [
    "surfaceArea([[2,2,2],[2,1,2],[2,2,2]])"
   ]
  },
  {
   "cell_type": "code",
   "execution_count": null,
   "metadata": {},
   "outputs": [],
   "source": []
  }
 ],
 "metadata": {
  "kernelspec": {
   "display_name": "Python 3",
   "language": "python",
   "name": "python3"
  },
  "language_info": {
   "codemirror_mode": {
    "name": "ipython",
    "version": 3
   },
   "file_extension": ".py",
   "mimetype": "text/x-python",
   "name": "python",
   "nbconvert_exporter": "python",
   "pygments_lexer": "ipython3",
   "version": "3.6.5"
  }
 },
 "nbformat": 4,
 "nbformat_minor": 2
}
