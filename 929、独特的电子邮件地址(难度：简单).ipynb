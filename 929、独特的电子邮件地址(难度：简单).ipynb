{
  "cells": [
    {
      "metadata": {
        "collapsed": true
      },
      "cell_type": "markdown",
      "source": "# 独特的电子邮件地址\n\n**题目来源：力扣（LeetCode）**\n\n**链接：https://leetcode-cn.com/problems/unique-email-addresses/**\n\n## 一、题目\n\n每封电子邮件都由一个本地名称和一个域名组成，以 @ 符号分隔。\n\n例如，在 alice@leetcode.com中， alice 是本地名称，而 leetcode.com 是域名。\n\n除了小写字母，这些电子邮件还可能包含 '.' 或 '+'。\n\n如果在电子邮件地址的本地名称部分中的某些字符之间添加句点（'.'），则发往那里的邮件将会转发到本地名称中没有点的同一地址。例如，\"alice.z@leetcode.com” 和 “alicez@leetcode.com” 会转发到同一电子邮件地址。 （请注意，此规则不适用于域名。）\n\n如果在本地名称中添加加号（'+'），则会忽略第一个加号后面的所有内容。这允许过滤某些电子邮件，例如 m.y+name@email.com 将转发到 my@email.com。 （同样，此规则不适用于域名。）\n\n可以同时使用这两个规则。\n\n给定电子邮件列表 emails，我们会向列表中的每个地址发送一封电子邮件。实际收到邮件的不同地址有多少？\n\n## 二、示例\n\n输入：[\"test.email+alex@leetcode.com\",\"test.e.mail+bob.cathy@leetcode.com\",\"testemail+david@lee.tcode.com\"]\n\n输出：2\n\n解释：实际收到邮件的是 \"testemail@leetcode.com\" 和 \"testemail@lee.tcode.com\"。\n\n## 三、解题思路\n\n### 模拟过程\n\n- 初始化一个集合存放真正发送的地址\n- 将地址分为本地名称和域名\n- 将本地名称的‘.’去掉\n- 将本地名称的第一个“+”后的内容去掉\n- 将邮件地址组装，并放入集合\n- 返回集合的长度"
    },
    {
      "metadata": {
        "trusted": true
      },
      "cell_type": "code",
      "source": "def numUniqueEmails(emails):\n    result = set()\n    for email in emails:\n        local,domain = email.split('@')[0],email.split('@')[1]\n        local = local.replace('.', '')\n        local = local.split('+')[0]\n        email_real = local + '@' + domain\n        result.add(email_real)\n    return len(result)",
      "execution_count": 1,
      "outputs": []
    },
    {
      "metadata": {
        "trusted": true
      },
      "cell_type": "code",
      "source": "numUniqueEmails([\"test.email+alex@leetcode.com\",\"test.e.mail+bob.cathy@leetcode.com\",\"testemail+david@lee.tcode.com\"])",
      "execution_count": 2,
      "outputs": [
        {
          "output_type": "execute_result",
          "execution_count": 2,
          "data": {
            "text/plain": "2"
          },
          "metadata": {}
        }
      ]
    },
    {
      "metadata": {
        "trusted": true
      },
      "cell_type": "code",
      "source": "",
      "execution_count": null,
      "outputs": []
    }
  ],
  "metadata": {
    "kernelspec": {
      "name": "python36",
      "display_name": "Python 3.6",
      "language": "python"
    },
    "language_info": {
      "mimetype": "text/x-python",
      "nbconvert_exporter": "python",
      "name": "python",
      "pygments_lexer": "ipython3",
      "version": "3.6.6",
      "file_extension": ".py",
      "codemirror_mode": {
        "version": 3,
        "name": "ipython"
      }
    }
  },
  "nbformat": 4,
  "nbformat_minor": 2
}