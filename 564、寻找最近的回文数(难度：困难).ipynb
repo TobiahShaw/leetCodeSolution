{
 "cells": [
  {
   "cell_type": "markdown",
   "metadata": {},
   "source": [
    "# 寻找最近的回文数\n",
    "\n",
    "**题目来源：力扣（LeetCode）**\n",
    "\n",
    "**链接：https://leetcode-cn.com/problems/find-the-closest-palindrome/**\n",
    "\n",
    "## 一、题目\n",
    "\n",
    "给定一个表示整数的字符串 n ，返回与它最近的回文整数（不包括自身）。如果不止一个，返回较小的那个。\n",
    "\n",
    "“最近的”定义为两个整数差的绝对值最小。\n",
    "\n",
    "### 提示:\n",
    "\n",
    "- 1 <= n.length <= 18\n",
    "- n 只由数字组成\n",
    "- n 不含前导 0\n",
    "- n 代表在 [1, 10^18 - 1] 范围内的整数\n",
    "\n",
    "## 二、示例\n",
    "\n",
    "### 示例 1：\n",
    "\n",
    "输入: n = \"123\"\n",
    "\n",
    "输出: \"121\"\n",
    "\n",
    "### 示例 2:\n",
    "\n",
    "输入: n = \"1\"\n",
    "\n",
    "输出: \"0\"\n",
    "\n",
    "解释: 0 和 2是最近的回文，但我们返回最小的，也就是 0。\n",
    "\n",
    "## 三、解题思路\n",
    "\n",
    "### 模拟\n",
    "\n",
    "- 用原数的前半部分替换后半部分得到的回文整数。\n",
    "- 用原数的前半部分加一后的结果替换后半部分得到的回文整数。\n",
    "- 用原数的前半部分减一后的结果替换后半部分得到的回文整数。\n",
    "- 为防止位数变化导致构造的回文整数错误，因此直接构造 999\\dots 999999…999 和 100\\dots 001100…001 作为备选答案。\n",
    "```\n",
    "作者：LeetCode-Solution\n",
    "链接：https://leetcode-cn.com/problems/find-the-closest-palindrome/solution/xun-zhao-zui-jin-de-hui-wen-shu-by-leetc-biyt/\n",
    "来源：力扣（LeetCode）\n",
    "著作权归作者所有。商业转载请联系作者获得授权，非商业转载请注明出处。\n",
    "```"
   ]
  },
  {
   "cell_type": "code",
   "execution_count": 1,
   "metadata": {},
   "outputs": [],
   "source": [
    "def nearestPalindromic(n: str) -> str:\n",
    "    m = len(n)\n",
    "    candidates = [10 ** (m - 1) - 1, 10 ** m + 1]\n",
    "    selfPrefix = int(n[:(m + 1) // 2])\n",
    "    for x in range(selfPrefix - 1, selfPrefix + 2):\n",
    "        y = x if m % 2 == 0 else x // 10\n",
    "        while y:\n",
    "            x = x * 10 + y % 10\n",
    "            y //= 10\n",
    "        candidates.append(x)\n",
    "\n",
    "    ans = -1\n",
    "    selfNumber = int(n)\n",
    "    for candidate in candidates:\n",
    "        if candidate != selfNumber:\n",
    "            if ans == -1 or \\\n",
    "                    abs(candidate - selfNumber) < abs(ans - selfNumber) or \\\n",
    "                    abs(candidate - selfNumber) == abs(ans - selfNumber) and candidate < ans:\n",
    "                ans = candidate\n",
    "    return str(ans)"
   ]
  },
  {
   "cell_type": "code",
   "execution_count": 2,
   "metadata": {},
   "outputs": [
    {
     "data": {
      "text/plain": [
       "'121'"
      ]
     },
     "execution_count": 2,
     "metadata": {},
     "output_type": "execute_result"
    }
   ],
   "source": [
    "nearestPalindromic(\"123\")"
   ]
  },
  {
   "cell_type": "code",
   "execution_count": 3,
   "metadata": {},
   "outputs": [
    {
     "data": {
      "text/plain": [
       "'0'"
      ]
     },
     "execution_count": 3,
     "metadata": {},
     "output_type": "execute_result"
    }
   ],
   "source": [
    "nearestPalindromic(\"1\")"
   ]
  },
  {
   "cell_type": "code",
   "execution_count": null,
   "metadata": {},
   "outputs": [],
   "source": []
  }
 ],
 "metadata": {
  "kernelspec": {
   "display_name": "Python 3",
   "language": "python",
   "name": "python3"
  },
  "language_info": {
   "codemirror_mode": {
    "name": "ipython",
    "version": 3
   },
   "file_extension": ".py",
   "mimetype": "text/x-python",
   "name": "python",
   "nbconvert_exporter": "python",
   "pygments_lexer": "ipython3",
   "version": "3.6.5"
  }
 },
 "nbformat": 4,
 "nbformat_minor": 2
}
