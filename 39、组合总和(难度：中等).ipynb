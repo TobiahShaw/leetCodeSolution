{
  "cells": [
    {
      "metadata": {
        "collapsed": true
      },
      "cell_type": "markdown",
      "source": "# 组合总和\n\n**题目来源：力扣（LeetCode）**\n\n**链接：https://leetcode-cn.com/problems/combination-sum/**\n\n## 一、题目\n\n给定一个无重复元素的数组 candidates 和一个目标数 target ，找出 candidates 中所有可以使数字和为 target 的组合。\n\ncandidates 中的数字可以无限制重复被选取。\n\n说明：\n\n- 所有数字（包括目标数）都是正整数。\n- 解集不能包含重复的组合。 \n\n## 二、示例\n\n### 示例 1:\n\n输入: candidates = [2,3,6,7], target = 7,\n\n所求解集为:\n\n```\n[\n  [7],\n  [2,2,3]\n]\n```\n\n### 示例 2:\n\n输入: candidates = [2,3,5], target = 8,\n\n所求解集为:\n\n```\n[\n  [2,2,2,2],\n  [2,3,3],\n  [3,5]\n]\n```\n\n## 三、解题思路\n\n### 回溯法+剪枝\n\n- 防止重复（不尝试上次选择的数字之前的数字）\n- 超过不再继续尝试"
    },
    {
      "metadata": {
        "trusted": true
      },
      "cell_type": "code",
      "source": "",
      "execution_count": null,
      "outputs": []
    }
  ],
  "metadata": {
    "kernelspec": {
      "name": "python36",
      "display_name": "Python 3.6",
      "language": "python"
    },
    "language_info": {
      "mimetype": "text/x-python",
      "nbconvert_exporter": "python",
      "name": "python",
      "pygments_lexer": "ipython3",
      "version": "3.6.6",
      "file_extension": ".py",
      "codemirror_mode": {
        "version": 3,
        "name": "ipython"
      }
    }
  },
  "nbformat": 4,
  "nbformat_minor": 2
}