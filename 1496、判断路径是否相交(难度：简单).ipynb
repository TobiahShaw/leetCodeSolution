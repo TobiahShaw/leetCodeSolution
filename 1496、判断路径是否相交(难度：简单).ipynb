{
 "cells": [
  {
   "cell_type": "markdown",
   "metadata": {},
   "source": [
    "# 判断路径是否相交\n",
    "\n",
    "**题目来源：力扣（LeetCode）**\n",
    "\n",
    "**链接：https://leetcode-cn.com/problems/path-crossing/**\n",
    "\n",
    "## 一、题目\n",
    "\n",
    "给你一个字符串 path，其中 path[i] 的值可以是 'N'、'S'、'E' 或者 'W'，分别表示向北、向南、向东、向西移动一个单位。\n",
    "\n",
    "机器人从二维平面上的原点 (0, 0) 处开始出发，按 path 所指示的路径行走。\n",
    "\n",
    "如果路径在任何位置上出现相交的情况，也就是走到之前已经走过的位置，请返回 True ；否则，返回 False 。\n",
    "\n",
    "### 提示：\n",
    "\n",
    "- 1 <= path.length <= 10^4\n",
    "- path 仅由 {'N', 'S', 'E', 'W} 中的字符组成\n",
    "\n",
    "## 二、示例\n",
    "\n",
    "### 示例 1：\n",
    "\n",
    "输入：path = \"NES\"\n",
    "\n",
    "输出：false \n",
    "\n",
    "解释：该路径没有在任何位置相交。\n",
    "\n",
    "### 示例 2：\n",
    "\n",
    "输入：path = \"NESWW\"\n",
    "\n",
    "输出：true\n",
    "\n",
    "解释：该路径经过原点两次。\n",
    "\n",
    "## 三、解题思路\n",
    "\n",
    "### 模拟过程"
   ]
  },
  {
   "cell_type": "code",
   "execution_count": 1,
   "metadata": {},
   "outputs": [],
   "source": [
    "def isPathCrossing(path: str) -> bool:\n",
    "    has = set()\n",
    "    cur = (0, 0)\n",
    "    has.add(cur)\n",
    "    for ch in path:\n",
    "        x, y = cur\n",
    "        if ch == 'N':\n",
    "            y+=1\n",
    "            pass\n",
    "        elif ch =='S':\n",
    "            y-=1\n",
    "            pass\n",
    "        elif ch == 'E':\n",
    "            x+=1\n",
    "            pass\n",
    "        elif ch == 'W':\n",
    "            x-=1\n",
    "            pass\n",
    "        newCur = (x, y)\n",
    "        if newCur in has:\n",
    "            return True\n",
    "        cur = newCur\n",
    "        has.add(cur)\n",
    "    return False"
   ]
  },
  {
   "cell_type": "code",
   "execution_count": 2,
   "metadata": {},
   "outputs": [
    {
     "data": {
      "text/plain": [
       "False"
      ]
     },
     "execution_count": 2,
     "metadata": {},
     "output_type": "execute_result"
    }
   ],
   "source": [
    "isPathCrossing(\"NES\")"
   ]
  },
  {
   "cell_type": "code",
   "execution_count": 3,
   "metadata": {},
   "outputs": [
    {
     "data": {
      "text/plain": [
       "True"
      ]
     },
     "execution_count": 3,
     "metadata": {},
     "output_type": "execute_result"
    }
   ],
   "source": [
    "isPathCrossing(\"NESWW\")"
   ]
  },
  {
   "cell_type": "code",
   "execution_count": null,
   "metadata": {},
   "outputs": [],
   "source": []
  }
 ],
 "metadata": {
  "kernelspec": {
   "display_name": "Python 3",
   "language": "python",
   "name": "python3"
  },
  "language_info": {
   "codemirror_mode": {
    "name": "ipython",
    "version": 3
   },
   "file_extension": ".py",
   "mimetype": "text/x-python",
   "name": "python",
   "nbconvert_exporter": "python",
   "pygments_lexer": "ipython3",
   "version": "3.6.5"
  }
 },
 "nbformat": 4,
 "nbformat_minor": 2
}
