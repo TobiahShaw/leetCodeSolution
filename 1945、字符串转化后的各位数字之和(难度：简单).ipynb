{
 "cells": [
  {
   "cell_type": "markdown",
   "metadata": {},
   "source": [
    "# 字符串转化后的各位数字之和\n",
    "\n",
    "**题目来源：力扣（LeetCode）**\n",
    "\n",
    "**链接：https://leetcode-cn.com/problems/sum-of-digits-of-string-after-convert/**\n",
    "\n",
    "## 一、题目\n",
    "\n",
    "给你一个由小写字母组成的字符串 s ，以及一个整数 k 。\n",
    "\n",
    "首先，用字母在字母表中的位置替换该字母，将 s 转化 为一个整数（也就是，'a' 用 1 替换，'b' 用 2 替换，... 'z' 用 26 替换）。接着，将整数 转换 为其 各位数字之和 。共重复 转换 操作 k 次 。\n",
    "\n",
    "例如，如果 s = \"zbax\" 且 k = 2 ，那么执行下述步骤后得到的结果是整数 8 ：\n",
    "\n",
    "- 转化：\"zbax\" ➝ \"(26)(2)(1)(24)\" ➝ \"262124\" ➝ 262124\n",
    "- 转换 #1：262124 ➝ 2 + 6 + 2 + 1 + 2 + 4 ➝ 17\n",
    "- 转换 #2：17 ➝ 1 + 7 ➝ 8\n",
    "\n",
    "返回执行上述操作后得到的结果整数。\n",
    "\n",
    "### 提示：\n",
    "\n",
    "- 1 <= s.length <= 100\n",
    "- 1 <= k <= 10\n",
    "- s 由小写英文字母组成\n",
    "\n",
    "## 二、示例\n",
    "\n",
    "### 示例 1：\n",
    "\n",
    "输入：s = \"iiii\", k = 1\n",
    "\n",
    "输出：36\n",
    "\n",
    "解释：操作如下：\n",
    "\n",
    "- 转化：\"iiii\" ➝ \"(9)(9)(9)(9)\" ➝ \"9999\" ➝ 9999\n",
    "- 转换 #1：9999 ➝ 9 + 9 + 9 + 9 ➝ 36\n",
    "\n",
    "因此，结果整数为 36 。\n",
    "\n",
    "### 示例 2：\n",
    "\n",
    "输入：s = \"leetcode\", k = 2\n",
    "\n",
    "输出：6\n",
    "\n",
    "解释：操作如下：\n",
    "\n",
    "- 转化：\"leetcode\" ➝ \"(12)(5)(5)(20)(3)(15)(4)(5)\" ➝ \"12552031545\" ➝ 12552031545\n",
    "- 转换 #1：12552031545 ➝ 1 + 2 + 5 + 5 + 2 + 0 + 3 + 1 + 5 + 4 + 5 ➝ 33\n",
    "- 转换 #2：33 ➝ 3 + 3 ➝ 6\n",
    "\n",
    "因此，结果整数为 6 。\n",
    "\n",
    "## 三、解题思路\n",
    "\n",
    "### 模拟过程"
   ]
  },
  {
   "cell_type": "code",
   "execution_count": 1,
   "metadata": {},
   "outputs": [],
   "source": [
    "def getLucky(s: str, k: int) -> int:\n",
    "    def help(sNum):\n",
    "        ret = 0\n",
    "        for ch in sNum:\n",
    "            ret += int(ch)\n",
    "        return str(ret)\n",
    "    tmp = []\n",
    "    for ch in s:\n",
    "        tmp.append(str(ord(ch) - ord('a') + 1))\n",
    "    ret = \"\".join(tmp)\n",
    "    for _ in range(k):\n",
    "        ret = help(ret)\n",
    "    return int(ret)"
   ]
  },
  {
   "cell_type": "code",
   "execution_count": 2,
   "metadata": {},
   "outputs": [
    {
     "data": {
      "text/plain": [
       "36"
      ]
     },
     "execution_count": 2,
     "metadata": {},
     "output_type": "execute_result"
    }
   ],
   "source": [
    "getLucky(\"iiii\", 1)"
   ]
  },
  {
   "cell_type": "code",
   "execution_count": 3,
   "metadata": {},
   "outputs": [
    {
     "data": {
      "text/plain": [
       "6"
      ]
     },
     "execution_count": 3,
     "metadata": {},
     "output_type": "execute_result"
    }
   ],
   "source": [
    "getLucky(\"leetcode\", 2)"
   ]
  },
  {
   "cell_type": "code",
   "execution_count": null,
   "metadata": {},
   "outputs": [],
   "source": []
  }
 ],
 "metadata": {
  "kernelspec": {
   "display_name": "Python 3",
   "language": "python",
   "name": "python3"
  },
  "language_info": {
   "codemirror_mode": {
    "name": "ipython",
    "version": 3
   },
   "file_extension": ".py",
   "mimetype": "text/x-python",
   "name": "python",
   "nbconvert_exporter": "python",
   "pygments_lexer": "ipython3",
   "version": "3.6.5"
  }
 },
 "nbformat": 4,
 "nbformat_minor": 2
}
