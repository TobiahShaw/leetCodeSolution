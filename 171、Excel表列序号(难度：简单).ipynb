{
  "cells": [
    {
      "metadata": {
        "collapsed": true
      },
      "cell_type": "markdown",
      "source": "# Excel表列序号\n\n**题目来源：力扣（LeetCode）**\n\n**链接：https://leetcode-cn.com/problems/excel-sheet-column-number/**\n\n## 一、题目\n\n给定一个Excel表格中的列名称，返回其相应的列序号。\n\n例如，\n\nA -> 1\n\nB -> 2\n\nC -> 3\n\n...\n\nZ -> 26\n\nAA -> 27\n\nAB -> 28 \n\n...\n\n## 二、示例\n\n### 示例 1:\n\n输入: \"A\"\n\n输出: 1\n\n### 示例 2:\n\n输入: \"AB\"\n\n输出: 28\n\n### 示例 3:\n\n输入: \"ZY\"\n\n输出: 701\n\n## 三、解题思路\n\n### 遍历字符串"
    },
    {
      "metadata": {
        "trusted": true
      },
      "cell_type": "code",
      "source": "def titleToNumber(s: str) -> int:\n    result = 0\n    for i in s:\n        result = result * 26 + ord(i) - 64\n    return result",
      "execution_count": 1,
      "outputs": []
    },
    {
      "metadata": {
        "trusted": true
      },
      "cell_type": "code",
      "source": "titleToNumber(\"A\")",
      "execution_count": null,
      "outputs": [
        {
          "output_type": "execute_result",
          "execution_count": 2,
          "data": {
            "text/plain": "1"
          },
          "metadata": {}
        }
      ]
    },
    {
      "metadata": {
        "trusted": true
      },
      "cell_type": "code",
      "source": "titleToNumber(\"AB\")",
      "execution_count": 3,
      "outputs": [
        {
          "output_type": "execute_result",
          "execution_count": 3,
          "data": {
            "text/plain": "28"
          },
          "metadata": {}
        }
      ]
    },
    {
      "metadata": {
        "trusted": true
      },
      "cell_type": "code",
      "source": "titleToNumber(\"ZY\")",
      "execution_count": 4,
      "outputs": [
        {
          "output_type": "execute_result",
          "execution_count": 4,
          "data": {
            "text/plain": "701"
          },
          "metadata": {}
        }
      ]
    },
    {
      "metadata": {
        "trusted": true
      },
      "cell_type": "code",
      "source": "",
      "execution_count": null,
      "outputs": []
    }
  ],
  "metadata": {
    "kernelspec": {
      "name": "python36",
      "display_name": "Python 3.6",
      "language": "python"
    },
    "language_info": {
      "mimetype": "text/x-python",
      "nbconvert_exporter": "python",
      "name": "python",
      "pygments_lexer": "ipython3",
      "version": "3.6.6",
      "file_extension": ".py",
      "codemirror_mode": {
        "version": 3,
        "name": "ipython"
      }
    }
  },
  "nbformat": 4,
  "nbformat_minor": 2
}