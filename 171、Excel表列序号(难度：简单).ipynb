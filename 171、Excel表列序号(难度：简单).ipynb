{
  "cells": [
    {
      "cell_type": "markdown",
      "metadata": {
        "collapsed": true
      },
      "source": [
        "# Excel表列序号\n",
        "\n",
        "**题目来源：力扣（LeetCode）**\n",
        "\n",
        "**链接：https://leetcode-cn.com/problems/excel-sheet-column-number/**\n",
        "\n",
        "## 一、题目\n",
        "\n",
        "给定一个Excel表格中的列名称，返回其相应的列序号。\n",
        "\n",
        "例如，\n",
        "\n",
        "A -> 1\n",
        "\n",
        "B -> 2\n",
        "\n",
        "C -> 3\n",
        "\n",
        "...\n",
        "\n",
        "Z -> 26\n",
        "\n",
        "AA -> 27\n",
        "\n",
        "AB -> 28 \n",
        "\n",
        "...\n",
        "\n",
        "### 提示：\n",
        "\n",
        "- 1 <= columnTitle.length <= 7\n",
        "- columnTitle 仅由大写英文组成\n",
        "- columnTitle 在范围 [\"A\", \"FXSHRXW\"] 内\n",
        "\n",
        "## 二、示例\n",
        "\n",
        "### 示例 1:\n",
        "\n",
        "输入: \"A\"\n",
        "\n",
        "输出: 1\n",
        "\n",
        "### 示例 2:\n",
        "\n",
        "输入: \"AB\"\n",
        "\n",
        "输出: 28\n",
        "\n",
        "### 示例 3:\n",
        "\n",
        "输入: \"ZY\"\n",
        "\n",
        "输出: 701\n",
        "\n",
        "## 三、解题思路\n",
        "\n",
        "### 遍历字符串"
      ]
    },
    {
      "cell_type": "code",
      "execution_count": 1,
      "metadata": {
        "trusted": true
      },
      "outputs": [],
      "source": [
        "def titleToNumber(s: str) -> int:\n",
        "    result = 0\n",
        "    for i in s:\n",
        "        result = result * 26 + ord(i) - 64\n",
        "    return result"
      ]
    },
    {
      "cell_type": "code",
      "execution_count": null,
      "metadata": {
        "trusted": true
      },
      "outputs": [
        {
          "data": {
            "text/plain": [
              "1"
            ]
          },
          "execution_count": 2,
          "metadata": {},
          "output_type": "execute_result"
        }
      ],
      "source": [
        "titleToNumber(\"A\")"
      ]
    },
    {
      "cell_type": "code",
      "execution_count": 3,
      "metadata": {
        "trusted": true
      },
      "outputs": [
        {
          "data": {
            "text/plain": [
              "28"
            ]
          },
          "execution_count": 3,
          "metadata": {},
          "output_type": "execute_result"
        }
      ],
      "source": [
        "titleToNumber(\"AB\")"
      ]
    },
    {
      "cell_type": "code",
      "execution_count": 4,
      "metadata": {
        "trusted": true
      },
      "outputs": [
        {
          "data": {
            "text/plain": [
              "701"
            ]
          },
          "execution_count": 4,
          "metadata": {},
          "output_type": "execute_result"
        }
      ],
      "source": [
        "titleToNumber(\"ZY\")"
      ]
    },
    {
      "cell_type": "code",
      "execution_count": null,
      "metadata": {
        "trusted": true
      },
      "outputs": [],
      "source": []
    }
  ],
  "metadata": {
    "kernelspec": {
      "display_name": "Python 3.6",
      "language": "python",
      "name": "python36"
    },
    "language_info": {
      "codemirror_mode": {
        "name": "ipython",
        "version": 3
      },
      "file_extension": ".py",
      "mimetype": "text/x-python",
      "name": "python",
      "nbconvert_exporter": "python",
      "pygments_lexer": "ipython3",
      "version": "3.6.6"
    }
  },
  "nbformat": 4,
  "nbformat_minor": 2
}
