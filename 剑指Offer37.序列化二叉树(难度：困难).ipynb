{
 "cells": [
  {
   "cell_type": "markdown",
   "metadata": {},
   "source": [
    "# 序列化二叉树\n",
    "\n",
    "**题目来源：力扣（LeetCode）**\n",
    "\n",
    "**链接：https://leetcode-cn.com/problems/xu-lie-hua-er-cha-shu-lcof/**\n",
    "\n",
    "## 一、题目\n",
    "\n",
    "请实现两个函数，分别用来序列化和反序列化二叉树。\n",
    "\n",
    "你需要设计一个算法来实现二叉树的序列化与反序列化。这里不限定你的序列 / 反序列化算法执行逻辑，你只需要保证一个二叉树可以被序列化为一个字符串并且将这个字符串反序列化为原始的树结构。\n",
    "\n",
    "## 二、示例\n",
    "\n",
    "输入：root = [1,2,3,null,null,4,5]\n",
    "\n",
    "输出：[1,2,3,null,null,4,5]\n",
    "\n",
    "## 三、解题思路\n",
    "\n",
    "### 深度优先搜索"
   ]
  },
  {
   "cell_type": "code",
   "execution_count": 1,
   "metadata": {},
   "outputs": [],
   "source": [
    "class TreeNode(object):\n",
    "    def __init__(self, x):\n",
    "        self.val = x\n",
    "        self.left = None\n",
    "        self.right = None"
   ]
  },
  {
   "cell_type": "code",
   "execution_count": 2,
   "metadata": {},
   "outputs": [],
   "source": [
    "root = TreeNode(1)\n",
    "\n",
    "root.left = TreeNode(2)\n",
    "root.right = TreeNode(3)\n",
    "\n",
    "root.right.left = TreeNode(4)\n",
    "root.right.right = TreeNode(5)"
   ]
  },
  {
   "cell_type": "code",
   "execution_count": 3,
   "metadata": {},
   "outputs": [],
   "source": [
    "def printTree(node):\n",
    "    if not node:\n",
    "        print(\"None\", end = ' ')\n",
    "        return\n",
    "    print(str(node.val), end = ' ')\n",
    "    printTree(node.left)\n",
    "    printTree(node.right)"
   ]
  },
  {
   "cell_type": "code",
   "execution_count": 4,
   "metadata": {},
   "outputs": [
    {
     "name": "stdout",
     "output_type": "stream",
     "text": [
      "1 2 None None 3 4 None None 5 None None "
     ]
    }
   ],
   "source": [
    "printTree(root)"
   ]
  },
  {
   "cell_type": "code",
   "execution_count": 5,
   "metadata": {},
   "outputs": [],
   "source": [
    "class Codec:\n",
    "\n",
    "    def serialize(self, root):\n",
    "        \"\"\"Encodes a tree to a single string.\n",
    "        \n",
    "        :type root: TreeNode\n",
    "        :rtype: str\n",
    "        \"\"\"\n",
    "        return str(root.val) + \",\" + self.serialize(root.left) + \",\" + self.serialize(root.right) if root else \"None\"\n",
    "\n",
    "    def deserialize(self, data):\n",
    "        \"\"\"Decodes your encoded data to tree.\n",
    "        \n",
    "        :type data: str\n",
    "        :rtype: TreeNode\n",
    "        \"\"\"\n",
    "        if not data:\n",
    "            return None\n",
    "        def dfs(arr):\n",
    "            if not arr:\n",
    "                return None\n",
    "            val = arr.pop(0)\n",
    "            if not val or val == \"None\":\n",
    "                return None\n",
    "            root = TreeNode(int(val))\n",
    "            root.left = dfs(arr)\n",
    "            root.right = dfs(arr)\n",
    "            return root\n",
    "        arr = data.split(\",\")\n",
    "        return dfs(arr)"
   ]
  },
  {
   "cell_type": "code",
   "execution_count": 6,
   "metadata": {},
   "outputs": [
    {
     "name": "stdout",
     "output_type": "stream",
     "text": [
      "1 2 None None 3 4 None None 5 None None "
     ]
    }
   ],
   "source": [
    "codec = Codec()\n",
    "printTree(codec.deserialize(codec.serialize(root)))"
   ]
  },
  {
   "cell_type": "code",
   "execution_count": null,
   "metadata": {},
   "outputs": [],
   "source": []
  }
 ],
 "metadata": {
  "kernelspec": {
   "display_name": "Python 3",
   "language": "python",
   "name": "python3"
  },
  "language_info": {
   "codemirror_mode": {
    "name": "ipython",
    "version": 3
   },
   "file_extension": ".py",
   "mimetype": "text/x-python",
   "name": "python",
   "nbconvert_exporter": "python",
   "pygments_lexer": "ipython3",
   "version": "3.6.5"
  }
 },
 "nbformat": 4,
 "nbformat_minor": 2
}
