{
 "cells": [
  {
   "cell_type": "markdown",
   "metadata": {},
   "source": [
    "# 搜索旋转排序数组II\n",
    "\n",
    "**题目来源：力扣（LeetCode）**\n",
    "\n",
    "**链接：https://leetcode-cn.com/problems/search-in-rotated-sorted-array-ii/**\n",
    "\n",
    "## 一、题目\n",
    "\n",
    "已知存在一个按非降序排列的整数数组 nums ，数组中的值不必互不相同。\n",
    "\n",
    "在传递给函数之前，nums 在预先未知的某个下标 k（0 <= k < nums.length）上进行了 旋转 ，使数组变为 [nums[k], nums[k+1], ..., nums[n-1], nums[0], nums[1], ..., nums[k-1]]（下标 从 0 开始 计数）。例如， [0,1,2,4,4,4,5,6,6,7] 在下标 5 处经旋转后可能变为 [4,5,6,6,7,0,1,2,4,4] 。\n",
    "\n",
    "给你 旋转后 的数组 nums 和一个整数 target ，请你编写一个函数来判断给定的目标值是否存在于数组中。如果 nums 中存在这个目标值 target ，则返回 true ，否则返回 false 。\n",
    "\n",
    "## 二、示例\n",
    "\n",
    "### 示例 1：\n",
    "\n",
    "输入：nums = [2,5,6,0,0,1,2], target = 0\n",
    "\n",
    "输出：true\n",
    "\n",
    "## 示例 2：\n",
    "\n",
    "输入：nums = [2,5,6,0,0,1,2], target = 3\n",
    "\n",
    "输出：false\n",
    "\n",
    "## 三、解题思路\n",
    "\n",
    "### 一、暴力"
   ]
  },
  {
   "cell_type": "code",
   "execution_count": 1,
   "metadata": {},
   "outputs": [],
   "source": [
    "def search(nums, target: int) -> bool:\n",
    "    # return target in nums\n",
    "    for i in nums:\n",
    "        if i == target:\n",
    "            return True\n",
    "    return False"
   ]
  },
  {
   "cell_type": "code",
   "execution_count": 2,
   "metadata": {},
   "outputs": [
    {
     "data": {
      "text/plain": [
       "True"
      ]
     },
     "execution_count": 2,
     "metadata": {},
     "output_type": "execute_result"
    }
   ],
   "source": [
    "search(nums = [2,5,6,0,0,1,2], target = 0)"
   ]
  },
  {
   "cell_type": "code",
   "execution_count": 3,
   "metadata": {},
   "outputs": [
    {
     "data": {
      "text/plain": [
       "False"
      ]
     },
     "execution_count": 3,
     "metadata": {},
     "output_type": "execute_result"
    }
   ],
   "source": [
    "search(nums = [2,5,6,0,0,1,2], target = 3)"
   ]
  },
  {
   "cell_type": "markdown",
   "metadata": {},
   "source": [
    "### 二、二分法"
   ]
  },
  {
   "cell_type": "code",
   "execution_count": 4,
   "metadata": {},
   "outputs": [],
   "source": [
    "def search(nums, target: int) -> bool:\n",
    "    l = 0\n",
    "    r = len(nums) - 1\n",
    "    while l<=r:\n",
    "        mid = (l+r) // 2\n",
    "        if nums[mid] == target:\n",
    "            return True\n",
    "\n",
    "        if nums[mid] == nums[l]:  # l和mid重复，l加一\n",
    "            l += 1\n",
    "        elif nums[mid] == nums[r]:  # mid和r重复，r减一\n",
    "            r -= 1\n",
    "        elif nums[mid] > nums[l]:  # l到mid是有序的，判断target是否在其中\n",
    "            if nums[l] <= target < nums[mid]:  # target在其中，选择l到mid这段\n",
    "                r = mid - 1\n",
    "            else:  # target不在其中，扔掉l到mid这段\n",
    "                l = mid + 1\n",
    "        elif nums[mid] < nums[r]:  # mid到r是有序的，判断target是否在其中\n",
    "            if nums[mid] < target <= nums[r]:\n",
    "                l = mid + 1\n",
    "            else:\n",
    "                r = mid - 1 \n",
    "    return False"
   ]
  },
  {
   "cell_type": "code",
   "execution_count": 5,
   "metadata": {},
   "outputs": [
    {
     "data": {
      "text/plain": [
       "True"
      ]
     },
     "execution_count": 5,
     "metadata": {},
     "output_type": "execute_result"
    }
   ],
   "source": [
    "search(nums = [2,5,6,0,0,1,2], target = 0)"
   ]
  },
  {
   "cell_type": "code",
   "execution_count": 6,
   "metadata": {},
   "outputs": [
    {
     "data": {
      "text/plain": [
       "False"
      ]
     },
     "execution_count": 6,
     "metadata": {},
     "output_type": "execute_result"
    }
   ],
   "source": [
    "search(nums = [2,5,6,0,0,1,2], target = 3)"
   ]
  },
  {
   "cell_type": "code",
   "execution_count": null,
   "metadata": {},
   "outputs": [],
   "source": []
  }
 ],
 "metadata": {
  "kernelspec": {
   "display_name": "Python 3",
   "language": "python",
   "name": "python3"
  },
  "language_info": {
   "codemirror_mode": {
    "name": "ipython",
    "version": 3
   },
   "file_extension": ".py",
   "mimetype": "text/x-python",
   "name": "python",
   "nbconvert_exporter": "python",
   "pygments_lexer": "ipython3",
   "version": "3.6.5"
  }
 },
 "nbformat": 4,
 "nbformat_minor": 2
}
