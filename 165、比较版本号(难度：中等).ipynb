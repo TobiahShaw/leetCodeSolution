{
 "cells": [
  {
   "cell_type": "markdown",
   "metadata": {},
   "source": [
    "# 比较版本号\n",
    "\n",
    "**题目来源：力扣（LeetCode）**\n",
    "\n",
    "**链接：https://leetcode-cn.com/problems/compare-version-numbers/**\n",
    "\n",
    "## 一、题目\n",
    "\n",
    "给你两个版本号 version1 和 version2 ，请你比较它们。\n",
    "\n",
    "版本号由一个或多个修订号组成，各修订号由一个 '.' 连接。每个修订号由 多位数字 组成，可能包含 前导零 。每个版本号至少包含一个字符。修订号从左到右编号，下标从 0 开始，最左边的修订号下标为 0 ，下一个修订号下标为 1 ，以此类推。例如，2.5.33 和 0.1 都是有效的版本号。\n",
    "\n",
    "比较版本号时，请按从左到右的顺序依次比较它们的修订号。比较修订号时，只需比较 忽略任何前导零后的整数值 。也就是说，修订号 1 和修订号 001 相等 。如果版本号没有指定某个下标处的修订号，则该修订号视为 0 。例如，版本 1.0 小于版本 1.1 ，因为它们下标为 0 的修订号相同，而下标为 1 的修订号分别为 0 和 1 ，0 < 1 。\n",
    "\n",
    "返回规则如下：\n",
    "\n",
    "- 如果 version1 > version2 返回 1，\n",
    "- 如果 version1 < version2 返回 -1，\n",
    "- 除此之外返回 0。\n",
    "\n",
    "### 提示：\n",
    "\n",
    "- 1 <= version1.length, version2.length <= 500\n",
    "- version1 和 version2 仅包含数字和 '.'\n",
    "- version1 和 version2 都是 有效版本号\n",
    "- version1 和 version2 的所有修订号都可以存储在 32 位整数 中\n",
    "\n",
    "## 二、示例\n",
    "\n",
    "### 示例 1：\n",
    "\n",
    "输入：version1 = \"1.01\", version2 = \"1.001\"\n",
    "\n",
    "输出：0\n",
    "\n",
    "解释：忽略前导零，\"01\" 和 \"001\" 都表示相同的整数 \"1\"\n",
    "\n",
    "### 示例 2：\n",
    "\n",
    "输入：version1 = \"1.0\", version2 = \"1.0.0\"\n",
    "\n",
    "输出：0\n",
    "\n",
    "解释：version1 没有指定下标为 2 的修订号，即视为 \"0\"\n",
    "\n",
    "### 示例 3：\n",
    "\n",
    "输入：version1 = \"0.1\", version2 = \"1.1\"\n",
    "\n",
    "输出：-1\n",
    "\n",
    "解释：version1 中下标为 0 的修订号是 \"0\"，version2 中下标为 0 的修订号是 \"1\" 。0 < 1，所以 version1 < version2\n",
    "\n",
    "### 示例 4：\n",
    "\n",
    "输入：version1 = \"1.0.1\", version2 = \"1\"\n",
    "\n",
    "输出：1\n",
    "\n",
    "### 示例 5：\n",
    "\n",
    "输入：version1 = \"7.5.2.4\", version2 = \"7.5.3\"\n",
    "\n",
    "输出：-1\n",
    "\n",
    "## 三、解题思路\n",
    "\n",
    "### 模拟过程"
   ]
  },
  {
   "cell_type": "code",
   "execution_count": 1,
   "metadata": {},
   "outputs": [],
   "source": [
    "def compareVersion(version1: str, version2: str) -> int:\n",
    "    v1a, v2a = version1.split('.'), version2.split('.')\n",
    "    l1, l2 = len(v1a), len(v2a)\n",
    "    n = max(l1, l2)\n",
    "    for i in range(n):\n",
    "        subV1 = 0\n",
    "        subV2 = 0\n",
    "        if i < l1:\n",
    "            subV1 = int(v1a[i])\n",
    "        if i < l2:\n",
    "            subV2 = int(v2a[i])\n",
    "        if subV1 > subV2:\n",
    "            return 1\n",
    "        if subV1 < subV2:\n",
    "            return -1\n",
    "    return 0"
   ]
  },
  {
   "cell_type": "code",
   "execution_count": 2,
   "metadata": {},
   "outputs": [
    {
     "data": {
      "text/plain": [
       "0"
      ]
     },
     "execution_count": 2,
     "metadata": {},
     "output_type": "execute_result"
    }
   ],
   "source": [
    "compareVersion(\"1.01\", \"1.001\")"
   ]
  },
  {
   "cell_type": "code",
   "execution_count": 3,
   "metadata": {},
   "outputs": [
    {
     "data": {
      "text/plain": [
       "0"
      ]
     },
     "execution_count": 3,
     "metadata": {},
     "output_type": "execute_result"
    }
   ],
   "source": [
    "compareVersion(\"1.0\", \"1.0.0\")"
   ]
  },
  {
   "cell_type": "code",
   "execution_count": 4,
   "metadata": {},
   "outputs": [
    {
     "data": {
      "text/plain": [
       "-1"
      ]
     },
     "execution_count": 4,
     "metadata": {},
     "output_type": "execute_result"
    }
   ],
   "source": [
    "compareVersion(\"0.1\", \"1.1\")"
   ]
  },
  {
   "cell_type": "code",
   "execution_count": 5,
   "metadata": {},
   "outputs": [
    {
     "data": {
      "text/plain": [
       "1"
      ]
     },
     "execution_count": 5,
     "metadata": {},
     "output_type": "execute_result"
    }
   ],
   "source": [
    "compareVersion(\"1.0.1\", \"1\")"
   ]
  },
  {
   "cell_type": "code",
   "execution_count": 6,
   "metadata": {},
   "outputs": [
    {
     "data": {
      "text/plain": [
       "-1"
      ]
     },
     "execution_count": 6,
     "metadata": {},
     "output_type": "execute_result"
    }
   ],
   "source": [
    "compareVersion(\"7.5.2.4\", \"7.5.3\")"
   ]
  },
  {
   "cell_type": "code",
   "execution_count": null,
   "metadata": {},
   "outputs": [],
   "source": []
  }
 ],
 "metadata": {
  "kernelspec": {
   "display_name": "Python 3",
   "language": "python",
   "name": "python3"
  },
  "language_info": {
   "codemirror_mode": {
    "name": "ipython",
    "version": 3
   },
   "file_extension": ".py",
   "mimetype": "text/x-python",
   "name": "python",
   "nbconvert_exporter": "python",
   "pygments_lexer": "ipython3",
   "version": "3.6.5"
  }
 },
 "nbformat": 4,
 "nbformat_minor": 2
}
