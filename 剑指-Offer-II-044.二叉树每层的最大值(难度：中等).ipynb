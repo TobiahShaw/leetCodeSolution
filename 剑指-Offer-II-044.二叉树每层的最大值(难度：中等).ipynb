{
 "cells": [
  {
   "cell_type": "markdown",
   "metadata": {},
   "source": [
    "# 二叉树每层的最大值\n",
    "\n",
    "**题目来源：力扣（LeetCode）**\n",
    "\n",
    "**链接：https://leetcode-cn.com/problems/hPov7L/**\n",
    "\n",
    "## 一、题目\n",
    "\n",
    "给定一棵二叉树的根节点 root ，请找出该二叉树中每一层的最大值。\n",
    "\n",
    "### 提示：\n",
    "\n",
    "- 二叉树的节点个数的范围是 [0,10^4]\n",
    "- -2^31 <= Node.val <= 2^31 - 1\n",
    "\n",
    "## 二、示例\n",
    "\n",
    "### 示例 1：\n",
    "\n",
    "输入: root = [1,3,2,5,3,null,9]\n",
    "\n",
    "输出: [1,3,9]\n",
    "\n",
    "解释:\n",
    "\n",
    "```\n",
    "          1\n",
    "         / \\\n",
    "        3   2\n",
    "       / \\   \\  \n",
    "      5   3   9 \n",
    "```\n",
    "\n",
    "### 示例2：\n",
    "\n",
    "输入: root = [1,2,3]\n",
    "\n",
    "输出: [1,3]\n",
    "\n",
    "解释:\n",
    "\n",
    "```\n",
    "          1\n",
    "         / \\\n",
    "        2   3\n",
    "```\n",
    "\n",
    "### 示例3：\n",
    "\n",
    "输入: root = [1]\n",
    "\n",
    "输出: [1]\n",
    "\n",
    "### 示例4：\n",
    "\n",
    "输入: root = [1,null,2]\n",
    "\n",
    "输出: [1,2]\n",
    "\n",
    "解释:\n",
    "\n",
    "```\n",
    "           1 \n",
    "            \\\n",
    "             2  \n",
    "```\n",
    "\n",
    "### 示例5：\n",
    "\n",
    "输入: root = []\n",
    "\n",
    "输出: []\n",
    "\n",
    "## 三、解题思路"
   ]
  },
  {
   "cell_type": "code",
   "execution_count": 1,
   "metadata": {},
   "outputs": [],
   "source": [
    "class TreeNode:\n",
    "    def __init__(self, val=0, left=None, right=None):\n",
    "        self.val = val\n",
    "        self.left = left\n",
    "        self.right = right"
   ]
  },
  {
   "cell_type": "code",
   "execution_count": 2,
   "metadata": {},
   "outputs": [],
   "source": [
    "root = TreeNode(1)\n",
    "\n",
    "root.left = TreeNode(3)\n",
    "root.right = TreeNode(2)\n",
    "\n",
    "root.left.left = TreeNode(5)\n",
    "root.left.right = TreeNode(3)\n",
    "\n",
    "root.right.right = TreeNode(9)"
   ]
  },
  {
   "cell_type": "markdown",
   "metadata": {},
   "source": [
    "### 一、dfs（先序遍历）"
   ]
  },
  {
   "cell_type": "code",
   "execution_count": 3,
   "metadata": {},
   "outputs": [],
   "source": [
    "def largestValues(root: TreeNode):\n",
    "    def dfs(node, depth, max_values):\n",
    "        if not node:\n",
    "            return\n",
    "        if len(max_values) == depth:\n",
    "            max_values.append(node.val)\n",
    "        else:\n",
    "            max_values[depth] = max(max_values[depth], node.val)\n",
    "        dfs(node.left, depth + 1, max_values)\n",
    "        dfs(node.right, depth + 1, max_values)\n",
    "    ret = []\n",
    "    dfs(root, 0, ret)\n",
    "    return ret"
   ]
  },
  {
   "cell_type": "code",
   "execution_count": 4,
   "metadata": {},
   "outputs": [
    {
     "data": {
      "text/plain": [
       "[1, 3, 9]"
      ]
     },
     "execution_count": 4,
     "metadata": {},
     "output_type": "execute_result"
    }
   ],
   "source": [
    "largestValues(root)"
   ]
  },
  {
   "cell_type": "markdown",
   "metadata": {},
   "source": [
    "### 二、bfs（层序遍历）"
   ]
  },
  {
   "cell_type": "code",
   "execution_count": 5,
   "metadata": {},
   "outputs": [],
   "source": [
    "def largestValues(root: TreeNode):\n",
    "    if not root:\n",
    "        return []\n",
    "    layer = [root]\n",
    "    ret = []\n",
    "    while layer:\n",
    "        tmp = float('-inf')\n",
    "        next_layer = []\n",
    "        for node in layer:\n",
    "            tmp = max(tmp, node.val)\n",
    "            if node.left:\n",
    "                next_layer.append(node.left)\n",
    "            if node.right:\n",
    "                next_layer.append(node.right)\n",
    "        ret.append(tmp)\n",
    "        layer = next_layer\n",
    "    return ret"
   ]
  },
  {
   "cell_type": "code",
   "execution_count": 6,
   "metadata": {},
   "outputs": [
    {
     "data": {
      "text/plain": [
       "[1, 3, 9]"
      ]
     },
     "execution_count": 6,
     "metadata": {},
     "output_type": "execute_result"
    }
   ],
   "source": [
    "largestValues(root)"
   ]
  },
  {
   "cell_type": "code",
   "execution_count": null,
   "metadata": {},
   "outputs": [],
   "source": []
  }
 ],
 "metadata": {
  "kernelspec": {
   "display_name": "Python 3",
   "language": "python",
   "name": "python3"
  },
  "language_info": {
   "codemirror_mode": {
    "name": "ipython",
    "version": 3
   },
   "file_extension": ".py",
   "mimetype": "text/x-python",
   "name": "python",
   "nbconvert_exporter": "python",
   "pygments_lexer": "ipython3",
   "version": "3.6.5"
  }
 },
 "nbformat": 4,
 "nbformat_minor": 2
}
