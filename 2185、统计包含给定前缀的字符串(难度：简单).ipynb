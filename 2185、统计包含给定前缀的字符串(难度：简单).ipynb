{
 "cells": [
  {
   "cell_type": "markdown",
   "id": "3ec2a1bb",
   "metadata": {},
   "source": [
    "# 统计包含给定前缀的字符串\n",
    "\n",
    "**题目来源：力扣（LeetCode）**\n",
    "\n",
    "**链接：https://leetcode.cn/problems/counting-words-with-a-given-prefix/**\n",
    "\n",
    "## 一、题目\n",
    "\n",
    "给你一个字符串数组 words 和一个字符串 pref 。\n",
    "\n",
    "返回 words 中以 pref 作为 前缀 的字符串的数目。\n",
    "\n",
    "字符串 s 的 前缀 就是  s 的任一前导连续字符串。\n",
    "\n",
    "### 提示：\n",
    "\n",
    "- 1 <= words.length <= 100\n",
    "- 1 <= words[i].length, pref.length <= 100\n",
    "- words[i] 和 pref 由小写英文字母组成\n",
    "\n",
    "## 二、示例\n",
    "\n",
    "### 示例 1：\n",
    "\n",
    "输入：words = [\"pay\",\"attention\",\"practice\",\"attend\"], pref = \"at\"\n",
    "\n",
    "输出：2\n",
    "\n",
    "解释：以 \"at\" 作为前缀的字符串有两个，分别是：\"attention\" 和 \"attend\" 。\n",
    "\n",
    "### 示例 2：\n",
    "\n",
    "输入：words = [\"leetcode\",\"win\",\"loops\",\"success\"], pref = \"code\"\n",
    "\n",
    "输出：0\n",
    "\n",
    "解释：不存在以 \"code\" 作为前缀的字符串。\n",
    "\n",
    "## 三、解题思路\n",
    "\n",
    "### 模拟过程"
   ]
  },
  {
   "cell_type": "code",
   "execution_count": 1,
   "id": "5019fe47",
   "metadata": {},
   "outputs": [],
   "source": [
    "class Solution:\n",
    "    def prefixCount(self, words, pref: str) -> int:\n",
    "        return sum(w.startswith(pref) for w in words)"
   ]
  },
  {
   "cell_type": "code",
   "execution_count": 2,
   "id": "fd8423b5",
   "metadata": {},
   "outputs": [
    {
     "data": {
      "text/plain": [
       "2"
      ]
     },
     "execution_count": 2,
     "metadata": {},
     "output_type": "execute_result"
    }
   ],
   "source": [
    "s = Solution()\n",
    "s.prefixCount(words = [\"pay\",\"attention\",\"practice\",\"attend\"], pref = \"at\")"
   ]
  },
  {
   "cell_type": "code",
   "execution_count": 3,
   "id": "0dcd5bc4",
   "metadata": {},
   "outputs": [
    {
     "data": {
      "text/plain": [
       "0"
      ]
     },
     "execution_count": 3,
     "metadata": {},
     "output_type": "execute_result"
    }
   ],
   "source": [
    "s.prefixCount(words = [\"leetcode\",\"win\",\"loops\",\"success\"], pref = \"code\")"
   ]
  },
  {
   "cell_type": "code",
   "execution_count": null,
   "id": "f5cf443c",
   "metadata": {},
   "outputs": [],
   "source": []
  }
 ],
 "metadata": {
  "kernelspec": {
   "display_name": "Python 3 (ipykernel)",
   "language": "python",
   "name": "python3"
  },
  "language_info": {
   "codemirror_mode": {
    "name": "ipython",
    "version": 3
   },
   "file_extension": ".py",
   "mimetype": "text/x-python",
   "name": "python",
   "nbconvert_exporter": "python",
   "pygments_lexer": "ipython3",
   "version": "3.11.0"
  }
 },
 "nbformat": 4,
 "nbformat_minor": 5
}
