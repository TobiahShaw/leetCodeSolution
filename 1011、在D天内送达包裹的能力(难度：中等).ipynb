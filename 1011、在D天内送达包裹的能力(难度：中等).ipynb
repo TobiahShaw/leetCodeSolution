{
 "cells": [
  {
   "cell_type": "markdown",
   "metadata": {},
   "source": [
    "# 在D天内送达包裹的能力\n",
    "\n",
    "**题目来源：力扣（LeetCode）**\n",
    "\n",
    "**链接：https://leetcode-cn.com/problems/capacity-to-ship-packages-within-d-days/**\n",
    "\n",
    "## 一、题目\n",
    "\n",
    "传送带上的包裹必须在 D 天内从一个港口运送到另一个港口。\n",
    "\n",
    "传送带上的第 i 个包裹的重量为 weights[i]。每一天，我们都会按给出重量的顺序往传送带上装载包裹。我们装载的重量不会超过船的最大运载重量。\n",
    "\n",
    "返回能在 D 天内将传送带上的所有包裹送达的船的最低运载能力。\n",
    "\n",
    "### 提示：\n",
    "\n",
    "- 1 <= D <= weights.length <= 50000\n",
    "- 1 <= weights[i] <= 500\n",
    "\n",
    "## 二、示例\n",
    "\n",
    "### 示例 1：\n",
    "\n",
    "输入：weights = [1,2,3,4,5,6,7,8,9,10], D = 5\n",
    "\n",
    "输出：15\n",
    "\n",
    "解释：\n",
    "\n",
    "船舶最低载重 15 就能够在 5 天内送达所有包裹，如下所示：\n",
    "\n",
    "- 第 1 天：1, 2, 3, 4, 5\n",
    "- 第 2 天：6, 7\n",
    "- 第 3 天：8\n",
    "- 第 4 天：9\n",
    "- 第 5 天：10\n",
    "\n",
    "请注意，货物必须按照给定的顺序装运，因此使用载重能力为 14 的船舶并将包装分成 (2, 3, 4, 5), (1, 6, 7), (8), (9), (10) 是不允许的。 \n",
    "### 示例 2：\n",
    "\n",
    "输入：weights = [3,2,2,4,1,4], D = 3\n",
    "\n",
    "输出：6\n",
    "\n",
    "解释：\n",
    "\n",
    "船舶最低载重 6 就能够在 3 天内送达所有包裹，如下所示：\n",
    "\n",
    "- 第 1 天：3, 2\n",
    "- 第 2 天：2, 4\n",
    "- 第 3 天：1, 4\n",
    "\n",
    "### 示例 3：\n",
    "\n",
    "输入：weights = [1,2,3,1,1], D = 4\n",
    "\n",
    "输出：3\n",
    "\n",
    "解释：\n",
    "\n",
    "- 第 1 天：1\n",
    "- 第 2 天：2\n",
    "- 第 3 天：3\n",
    "- 第 4 天：1, 1\n",
    "\n",
    "## 三、解题思路\n",
    "\n",
    "### 二分法\n",
    "\n",
    "左边界为最重的货物量，否则永远无法运完，有边界为货物总量，即一天运完"
   ]
  },
  {
   "cell_type": "code",
   "execution_count": 1,
   "metadata": {},
   "outputs": [],
   "source": [
    "class Solution:\n",
    "    def shipWithinDays(self, weights, D: int) -> int:\n",
    "        left, right = max(weights), sum(weights)\n",
    "        while left < right:\n",
    "            mid = (left + right) // 2\n",
    "            need, cur = 1, 0\n",
    "            for weight in weights:\n",
    "                if cur + weight > mid:\n",
    "                    need += 1\n",
    "                    cur = 0\n",
    "                cur += weight\n",
    "            if need <= D:\n",
    "                right = mid\n",
    "            else:\n",
    "                left = mid + 1\n",
    "        return left"
   ]
  },
  {
   "cell_type": "code",
   "execution_count": 2,
   "metadata": {},
   "outputs": [
    {
     "data": {
      "text/plain": [
       "15"
      ]
     },
     "execution_count": 2,
     "metadata": {},
     "output_type": "execute_result"
    }
   ],
   "source": [
    "s = Solution()\n",
    "s.shipWithinDays(weights = [1,2,3,4,5,6,7,8,9,10], D = 5)"
   ]
  },
  {
   "cell_type": "code",
   "execution_count": 3,
   "metadata": {},
   "outputs": [
    {
     "data": {
      "text/plain": [
       "6"
      ]
     },
     "execution_count": 3,
     "metadata": {},
     "output_type": "execute_result"
    }
   ],
   "source": [
    "s.shipWithinDays(weights = [3,2,2,4,1,4], D = 3)"
   ]
  },
  {
   "cell_type": "code",
   "execution_count": 4,
   "metadata": {},
   "outputs": [
    {
     "data": {
      "text/plain": [
       "3"
      ]
     },
     "execution_count": 4,
     "metadata": {},
     "output_type": "execute_result"
    }
   ],
   "source": [
    "s.shipWithinDays(weights = [1,2,3,1,1], D = 4)"
   ]
  },
  {
   "cell_type": "code",
   "execution_count": null,
   "metadata": {},
   "outputs": [],
   "source": []
  }
 ],
 "metadata": {
  "kernelspec": {
   "display_name": "Python 3 (ipykernel)",
   "language": "python",
   "name": "python3"
  },
  "language_info": {
   "codemirror_mode": {
    "name": "ipython",
    "version": 3
   },
   "file_extension": ".py",
   "mimetype": "text/x-python",
   "name": "python",
   "nbconvert_exporter": "python",
   "pygments_lexer": "ipython3",
   "version": "3.11.0"
  }
 },
 "nbformat": 4,
 "nbformat_minor": 2
}
