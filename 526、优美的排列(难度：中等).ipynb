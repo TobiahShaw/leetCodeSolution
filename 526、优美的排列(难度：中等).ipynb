{
 "cells": [
  {
   "cell_type": "markdown",
   "metadata": {},
   "source": [
    "# 优美的排列\n",
    "\n",
    "**题目来源：力扣（LeetCode）**\n",
    "\n",
    "**链接：https://leetcode-cn.com/problems/beautiful-arrangement/**\n",
    "\n",
    "## 一、题目\n",
    "\n",
    "假设有从 1 到 N 的 N 个整数，如果从这 N 个数字中成功构造出一个数组，使得数组的第 i 位 (1 <= i <= N) 满足如下两个条件中的一个，我们就称这个数组为一个优美的排列。条件：\n",
    "\n",
    "- 第 i 位的数字能被 i 整除\n",
    "- i 能被第 i 位上的数字整除\n",
    "\n",
    "现在给定一个整数 N，请问可以构造多少个优美的排列？\n",
    "\n",
    "### 说明:\n",
    "\n",
    "- N 是一个正整数，并且不会超过15。\n",
    "\n",
    "## 二、示例\n",
    "\n",
    "输入: 2\n",
    "\n",
    "输出: 2\n",
    "\n",
    "解释: \n",
    "\n",
    "第 1 个优美的排列是 [1, 2]:\n",
    "\n",
    "- 第 1 个位置（i=1）上的数字是1，1能被 i（i=1）整除\n",
    "- 第 2 个位置（i=2）上的数字是2，2能被 i（i=2）整除\n",
    "\n",
    "第 2 个优美的排列是 [2, 1]:\n",
    "\n",
    "- 第 1 个位置（i=1）上的数字是2，2能被 i（i=1）整除\n",
    "- 第 2 个位置（i=2）上的数字是1，i（i=2）能被 1 整除\n",
    "\n",
    "## 三、解题思路\n",
    "\n",
    "### 回溯法"
   ]
  },
  {
   "cell_type": "code",
   "execution_count": 1,
   "metadata": {},
   "outputs": [],
   "source": [
    "def countArrangement(n: int) -> int:\n",
    "    match = {}\n",
    "    for i in range(1, n+1):\n",
    "        for j in range(1, n+1):\n",
    "            if i % j == 0 or j % i == 0:\n",
    "                if i in match:\n",
    "                    match[i].append(j)\n",
    "                else:\n",
    "                    match[i] = [j]\n",
    "    ret = 0\n",
    "    visited = set()\n",
    "    def backtrace(index):\n",
    "        if index == n+1:\n",
    "            nonlocal ret\n",
    "            ret += 1\n",
    "            return\n",
    "        for num in match[index]:\n",
    "            if num not in visited:\n",
    "                visited.add(num)\n",
    "                backtrace(index + 1)\n",
    "                visited.discard(num)\n",
    "    backtrace(1)\n",
    "    return ret"
   ]
  },
  {
   "cell_type": "code",
   "execution_count": 2,
   "metadata": {},
   "outputs": [
    {
     "data": {
      "text/plain": [
       "2"
      ]
     },
     "execution_count": 2,
     "metadata": {},
     "output_type": "execute_result"
    }
   ],
   "source": [
    "countArrangement(2)"
   ]
  },
  {
   "cell_type": "code",
   "execution_count": 3,
   "metadata": {},
   "outputs": [
    {
     "data": {
      "text/plain": [
       "24679"
      ]
     },
     "execution_count": 3,
     "metadata": {},
     "output_type": "execute_result"
    }
   ],
   "source": [
    "countArrangement(15)"
   ]
  },
  {
   "cell_type": "code",
   "execution_count": null,
   "metadata": {},
   "outputs": [],
   "source": []
  }
 ],
 "metadata": {
  "kernelspec": {
   "display_name": "Python 3",
   "language": "python",
   "name": "python3"
  },
  "language_info": {
   "codemirror_mode": {
    "name": "ipython",
    "version": 3
   },
   "file_extension": ".py",
   "mimetype": "text/x-python",
   "name": "python",
   "nbconvert_exporter": "python",
   "pygments_lexer": "ipython3",
   "version": "3.6.5"
  }
 },
 "nbformat": 4,
 "nbformat_minor": 2
}
