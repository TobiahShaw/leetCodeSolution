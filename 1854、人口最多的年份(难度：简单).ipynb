{
 "cells": [
  {
   "cell_type": "markdown",
   "metadata": {},
   "source": [
    "# 人口最多的年份\n",
    "\n",
    "**题目来源：力扣（LeetCode）**\n",
    "\n",
    "**链接：https://leetcode-cn.com/problems/maximum-population-year/**\n",
    "\n",
    "## 一、题目\n",
    "\n",
    "给你一个二维整数数组 logs ，其中每个 logs[i] = [birthi, deathi] 表示第 i 个人的出生和死亡年份。\n",
    "\n",
    "年份 x 的 人口 定义为这一年期间活着的人的数目。第 i 个人被计入年份 x 的人口需要满足：x 在闭区间 [birthi, deathi - 1] 内。注意，人不应当计入他们死亡当年的人口中。\n",
    "\n",
    "返回 人口最多 且 最早 的年份。\n",
    "\n",
    "### 提示：\n",
    "\n",
    "- 1 <= logs.length <= 100\n",
    "- 1950 <= birthi < deathi <= 2050\n",
    "\n",
    "## 二、示例\n",
    "\n",
    "### 示例 1：\n",
    "\n",
    "输入：logs = [[1993,1999],[2000,2010]]\n",
    "\n",
    "输出：1993\n",
    "\n",
    "解释：人口最多为 1 ，而 1993 是人口为 1 的最早年份。\n",
    "\n",
    "### 示例 2：\n",
    "\n",
    "输入：logs = [[1950,1961],[1960,1971],[1970,1981]]\n",
    "\n",
    "输出：1960\n",
    "\n",
    "解释： 人口最多为 2 ，分别出现在 1960 和 1970 。其中最早年份是 1960 。\n",
    "\n",
    "## 三、解题思路\n",
    "\n",
    "### 差分"
   ]
  },
  {
   "cell_type": "code",
   "execution_count": 1,
   "metadata": {},
   "outputs": [],
   "source": [
    "def maximumPopulation(logs) -> int:\n",
    "    delta = [0] * 101\n",
    "    offset = 1950\n",
    "    for log in logs:\n",
    "        delta[log[0] - offset] += 1\n",
    "        delta[log[1] - offset] -= 1\n",
    "    maxP = 0\n",
    "    maxY = 0\n",
    "    cur = 0\n",
    "    for i in range(len(delta)):\n",
    "        cur += delta[i]\n",
    "        if cur > maxP:\n",
    "            maxP = cur\n",
    "            maxY = i\n",
    "    return maxY + offset"
   ]
  },
  {
   "cell_type": "code",
   "execution_count": 2,
   "metadata": {},
   "outputs": [
    {
     "data": {
      "text/plain": [
       "1993"
      ]
     },
     "execution_count": 2,
     "metadata": {},
     "output_type": "execute_result"
    }
   ],
   "source": [
    "maximumPopulation([[1993,1999],[2000,2010]])"
   ]
  },
  {
   "cell_type": "code",
   "execution_count": 3,
   "metadata": {},
   "outputs": [
    {
     "data": {
      "text/plain": [
       "1960"
      ]
     },
     "execution_count": 3,
     "metadata": {},
     "output_type": "execute_result"
    }
   ],
   "source": [
    "maximumPopulation([[1950,1961],[1960,1971],[1970,1981]])"
   ]
  },
  {
   "cell_type": "code",
   "execution_count": null,
   "metadata": {},
   "outputs": [],
   "source": []
  }
 ],
 "metadata": {
  "kernelspec": {
   "display_name": "Python 3",
   "language": "python",
   "name": "python3"
  },
  "language_info": {
   "codemirror_mode": {
    "name": "ipython",
    "version": 3
   },
   "file_extension": ".py",
   "mimetype": "text/x-python",
   "name": "python",
   "nbconvert_exporter": "python",
   "pygments_lexer": "ipython3",
   "version": "3.6.5"
  }
 },
 "nbformat": 4,
 "nbformat_minor": 2
}
