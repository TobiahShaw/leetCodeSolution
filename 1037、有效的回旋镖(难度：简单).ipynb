{
  "cells": [
    {
      "metadata": {
        "collapsed": true
      },
      "cell_type": "markdown",
      "source": "# 有效的回旋镖\n\n**题目来源：力扣（LeetCode）**\n\n**链接：https://leetcode-cn.com/problems/valid-boomerang/**\n\n## 一、题目\n\n回旋镖定义为一组三个点，这些点各不相同且不在一条直线上。\n\n给出平面上三个点组成的列表，判断这些点是否可以构成回旋镖。\n\n## 二、示例\n\n### 示例 1：\n\n输入：[[1,1],[2,3],[3,2]]\n\n输出：true\n\n### 示例 2：\n\n输入：[[1,1],[2,2],[3,3]]\n\n输出：false\n\n## 三、解题思路\n\n### 计算三个点围成的面积，不为0则可以组成三角形"
    },
    {
      "metadata": {
        "trusted": true
      },
      "cell_type": "code",
      "source": "def isBoomerang(points) -> bool:\n    (x1,y1),(x2,y2),(x3,y3) = points\n    return (x1*y2+x2*y3+x3*y1-y1*x2-y2*x3-y3*x1) != 0",
      "execution_count": 1,
      "outputs": []
    },
    {
      "metadata": {
        "trusted": true
      },
      "cell_type": "code",
      "source": "isBoomerang([[1,1],[2,3],[3,2]])",
      "execution_count": 2,
      "outputs": [
        {
          "output_type": "execute_result",
          "execution_count": 2,
          "data": {
            "text/plain": "True"
          },
          "metadata": {}
        }
      ]
    },
    {
      "metadata": {
        "trusted": true
      },
      "cell_type": "code",
      "source": "isBoomerang([[1,1],[2,2],[3,3]])",
      "execution_count": 3,
      "outputs": [
        {
          "output_type": "execute_result",
          "execution_count": 3,
          "data": {
            "text/plain": "False"
          },
          "metadata": {}
        }
      ]
    },
    {
      "metadata": {
        "trusted": true
      },
      "cell_type": "code",
      "source": "",
      "execution_count": null,
      "outputs": []
    }
  ],
  "metadata": {
    "kernelspec": {
      "name": "python36",
      "display_name": "Python 3.6",
      "language": "python"
    },
    "language_info": {
      "mimetype": "text/x-python",
      "nbconvert_exporter": "python",
      "name": "python",
      "pygments_lexer": "ipython3",
      "version": "3.6.6",
      "file_extension": ".py",
      "codemirror_mode": {
        "version": 3,
        "name": "ipython"
      }
    }
  },
  "nbformat": 4,
  "nbformat_minor": 2
}