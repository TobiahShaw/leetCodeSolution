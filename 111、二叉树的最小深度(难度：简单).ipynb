{
 "cells": [
  {
   "cell_type": "markdown",
   "metadata": {
    "collapsed": true
   },
   "source": [
    "# 111. 二叉树的最小深度\n",
    "\n",
    "**题目来源：力扣（LeetCode）**\n",
    "\n",
    "**链接：https://leetcode-cn.com/problems/minimum-depth-of-binary-tree/**\n",
    "\n",
    "## 一、题目\n",
    "\n",
    "给定一个二叉树，找出其最小深度。\n",
    "\n",
    "最小深度是从根节点到最近叶子节点的最短路径上的节点数量。\n",
    "\n",
    "说明: 叶子节点是指没有子节点的节点。\n",
    "\n",
    "### 提示：\n",
    "\n",
    "- 树中节点数的范围在 [0, 10^5] 内\n",
    "- -1000 <= Node.val <= 1000\n",
    "\n",
    "## 二、示例\n",
    "\n",
    "给定二叉树\n",
    "\n",
    "[3,9,20,null,null,15,7],\n",
    "\n",
    "```\n",
    "    3\n",
    "   / \\\n",
    "  9  20\n",
    "    /  \\\n",
    "   15   7\n",
    "```\n",
    " \n",
    "返回它的最小深度2.\n",
    "\n",
    "\n",
    "## 三、解题思路\n",
    "\n",
    "首先本题求得是最小深度，那么，其最小深度是从根节点到最近叶子节点的最短路径上的节点数量，而并不是最小层数。\n",
    "\n",
    "叶子节点是指没有子节点的节点。\n",
    "\n",
    "则我们可以确定一个递归条件：\n",
    "\n",
    "- 叶子节点的定义是左孩子和右孩子都为 None 时叫做叶子节点\n",
    "- 当 root 节点左右孩子都为空时，返回 1\n",
    "- 当 root 节点左右孩子有一个为空时，返回不为空的孩子节点的深度\n",
    "- 当 root 节点左右孩子都不为空时，返回左右孩子较小深度的节点值"
   ]
  },
  {
   "cell_type": "code",
   "execution_count": 1,
   "metadata": {},
   "outputs": [],
   "source": [
    "class TreeNode:\n",
    "    def __init__(self, x):\n",
    "        self.val = x\n",
    "        self.left = None\n",
    "        self.right = None"
   ]
  },
  {
   "cell_type": "code",
   "execution_count": 2,
   "metadata": {},
   "outputs": [],
   "source": [
    "root = TreeNode(3)\n",
    "\n",
    "root.left = TreeNode(9)\n",
    "root.right = TreeNode(20)\n",
    "\n",
    "root.right.left = TreeNode(15)\n",
    "root.right.right = TreeNode(7)"
   ]
  },
  {
   "cell_type": "markdown",
   "metadata": {},
   "source": [
    "### 递归"
   ]
  },
  {
   "cell_type": "code",
   "execution_count": 3,
   "metadata": {},
   "outputs": [],
   "source": [
    "def minDepth(root):\n",
    "    def helper(node, curr):\n",
    "        if not node:\n",
    "            return curr - 1\n",
    "        if not node.left and not node.right:\n",
    "            return curr\n",
    "        if node.left and node.right:\n",
    "            l = helper(node.left, curr + 1)\n",
    "            r = helper(node.right, curr + 1)\n",
    "            return l if l < r else r\n",
    "        if node.left:\n",
    "            return helper(node.left, curr + 1)\n",
    "        else:\n",
    "            return helper(node.right, curr + 1)\n",
    "    return helper(root, 1)"
   ]
  },
  {
   "cell_type": "code",
   "execution_count": 4,
   "metadata": {},
   "outputs": [
    {
     "data": {
      "text/plain": [
       "2"
      ]
     },
     "execution_count": 4,
     "metadata": {},
     "output_type": "execute_result"
    }
   ],
   "source": [
    "minDepth(root)"
   ]
  },
  {
   "cell_type": "code",
   "execution_count": null,
   "metadata": {},
   "outputs": [],
   "source": []
  }
 ],
 "metadata": {
  "kernelspec": {
   "display_name": "Python 3",
   "language": "python",
   "name": "python3"
  },
  "language_info": {
   "codemirror_mode": {
    "name": "ipython",
    "version": 3
   },
   "file_extension": ".py",
   "mimetype": "text/x-python",
   "name": "python",
   "nbconvert_exporter": "python",
   "pygments_lexer": "ipython3",
   "version": "3.6.5"
  }
 },
 "nbformat": 4,
 "nbformat_minor": 2
}
