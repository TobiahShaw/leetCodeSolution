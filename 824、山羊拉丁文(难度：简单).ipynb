{
 "cells": [
  {
   "cell_type": "markdown",
   "metadata": {},
   "source": [
    "# 山羊拉丁文\n",
    "\n",
    "**题目来源：力扣（LeetCode）**\n",
    "\n",
    "**链接：https://leetcode-cn.com/problems/goat-latin/**\n",
    "\n",
    "## 一、题目\n",
    "\n",
    "给定一个由空格分割单词的句子 S。每个单词只包含大写或小写字母。\n",
    "\n",
    "我们要将句子转换为 “Goat Latin”（一种类似于 猪拉丁文 - Pig Latin 的虚构语言）。\n",
    "\n",
    "山羊拉丁文的规则如下：\n",
    "\n",
    "- 如果单词以元音开头（a, e, i, o, u），在单词后添加\"ma\"。例如，单词\"apple\"变为\"applema\"。\n",
    "\n",
    "- 如果单词以辅音字母开头（即非元音字母），移除第一个字符并将它放到末尾，之后再添加\"ma\"。例如，单词\"goat\"变为\"oatgma\"。\n",
    "\n",
    "- 根据单词在句子中的索引，在单词最后添加与索引相同数量的字母'a'，索引从1开始。例如，在第一个单词后添加\"a\"，在第二个单词后添加\"aa\"，以此类推。\n",
    "\n",
    "返回将 S 转换为山羊拉丁文后的句子。\n",
    "\n",
    "## 二、示例\n",
    "\n",
    "### 示例 1：\n",
    "\n",
    "输入: \"I speak Goat Latin\"\n",
    "\n",
    "输出: \"Imaa peaksmaaa oatGmaaaa atinLmaaaaa\"\n",
    "\n",
    "### 示例 2:\n",
    "\n",
    "输入: \"The quick brown fox jumped over the lazy dog\"\n",
    "\n",
    "输出: \"heTmaa uickqmaaa rownbmaaaa oxfmaaaaa umpedjmaaaaaa overmaaaaaaa hetmaaaaaaaa azylmaaaaaaaaa ogdmaaaaaaaaaa\"\n",
    "\n",
    "## 三、解题思路\n",
    "\n",
    "### 一、字符串处理"
   ]
  },
  {
   "cell_type": "code",
   "execution_count": 1,
   "metadata": {},
   "outputs": [],
   "source": [
    "def toGoatLatin(S: str) -> str:\n",
    "    def convert(word):\n",
    "        if word[0] not in 'aeiouAEIOU':\n",
    "            word = word[1:] + word[:1]\n",
    "        return word + 'ma'\n",
    "\n",
    "    return \" \".join(convert(word) + 'a' * i\n",
    "                    for i, word in enumerate(S.split(), 1))"
   ]
  },
  {
   "cell_type": "code",
   "execution_count": 2,
   "metadata": {},
   "outputs": [
    {
     "data": {
      "text/plain": [
       "'Imaa peaksmaaa oatGmaaaa atinLmaaaaa'"
      ]
     },
     "execution_count": 2,
     "metadata": {},
     "output_type": "execute_result"
    }
   ],
   "source": [
    "toGoatLatin(\"I speak Goat Latin\")"
   ]
  },
  {
   "cell_type": "code",
   "execution_count": 3,
   "metadata": {},
   "outputs": [
    {
     "data": {
      "text/plain": [
       "'heTmaa uickqmaaa rownbmaaaa oxfmaaaaa umpedjmaaaaaa overmaaaaaaa hetmaaaaaaaa azylmaaaaaaaaa ogdmaaaaaaaaaa'"
      ]
     },
     "execution_count": 3,
     "metadata": {},
     "output_type": "execute_result"
    }
   ],
   "source": [
    "toGoatLatin(\"The quick brown fox jumped over the lazy dog\")"
   ]
  },
  {
   "cell_type": "markdown",
   "metadata": {},
   "source": [
    "### 二、暴力破解"
   ]
  },
  {
   "cell_type": "code",
   "execution_count": 4,
   "metadata": {},
   "outputs": [],
   "source": [
    "def toGoatLatin(S: str) -> str:\n",
    "    vowel_set={'a','A','e','E','i','I','o','O','u','U'}\n",
    "    return ' '.join( word+'ma'+(idx+1)*'a' if word[0] in vowel_set  else word[1:]+word[0]+'ma'+(idx+1)*'a'\n",
    "                        for idx,word in enumerate(S.split()))"
   ]
  },
  {
   "cell_type": "code",
   "execution_count": 5,
   "metadata": {},
   "outputs": [
    {
     "data": {
      "text/plain": [
       "'Imaa peaksmaaa oatGmaaaa atinLmaaaaa'"
      ]
     },
     "execution_count": 5,
     "metadata": {},
     "output_type": "execute_result"
    }
   ],
   "source": [
    "toGoatLatin(\"I speak Goat Latin\")"
   ]
  },
  {
   "cell_type": "code",
   "execution_count": 6,
   "metadata": {},
   "outputs": [
    {
     "data": {
      "text/plain": [
       "'heTmaa uickqmaaa rownbmaaaa oxfmaaaaa umpedjmaaaaaa overmaaaaaaa hetmaaaaaaaa azylmaaaaaaaaa ogdmaaaaaaaaaa'"
      ]
     },
     "execution_count": 6,
     "metadata": {},
     "output_type": "execute_result"
    }
   ],
   "source": [
    "toGoatLatin(\"The quick brown fox jumped over the lazy dog\")"
   ]
  },
  {
   "cell_type": "markdown",
   "metadata": {},
   "source": [
    "### 三、数组"
   ]
  },
  {
   "cell_type": "code",
   "execution_count": 7,
   "metadata": {},
   "outputs": [],
   "source": [
    "def toGoatLatin(S: str) -> str:\n",
    "    meteLst = ['a','e','i','o','u']\n",
    "    output = []\n",
    "    ind = 1\n",
    "    S = S.split()\n",
    "    for item in S:\n",
    "        if item[0].lower() in meteLst:\n",
    "            item = item + 'ma' + \"a\" * ind\n",
    "        else:\n",
    "            first = item[0]\n",
    "            item = item[1:]\n",
    "            item = item + first + \"ma\" + \"a\" * ind\n",
    "        output.append(item) #纳入数据集\n",
    "\n",
    "        ind += 1\n",
    "\n",
    "    s = \" \".join(output)\n",
    "    return s"
   ]
  },
  {
   "cell_type": "code",
   "execution_count": 8,
   "metadata": {},
   "outputs": [
    {
     "data": {
      "text/plain": [
       "'Imaa peaksmaaa oatGmaaaa atinLmaaaaa'"
      ]
     },
     "execution_count": 8,
     "metadata": {},
     "output_type": "execute_result"
    }
   ],
   "source": [
    "toGoatLatin(\"I speak Goat Latin\")"
   ]
  },
  {
   "cell_type": "code",
   "execution_count": 9,
   "metadata": {},
   "outputs": [
    {
     "data": {
      "text/plain": [
       "'heTmaa uickqmaaa rownbmaaaa oxfmaaaaa umpedjmaaaaaa overmaaaaaaa hetmaaaaaaaa azylmaaaaaaaaa ogdmaaaaaaaaaa'"
      ]
     },
     "execution_count": 9,
     "metadata": {},
     "output_type": "execute_result"
    }
   ],
   "source": [
    "toGoatLatin(\"The quick brown fox jumped over the lazy dog\")"
   ]
  },
  {
   "cell_type": "code",
   "execution_count": null,
   "metadata": {},
   "outputs": [],
   "source": []
  }
 ],
 "metadata": {
  "kernelspec": {
   "display_name": "Python 3",
   "language": "python",
   "name": "python3"
  },
  "language_info": {
   "codemirror_mode": {
    "name": "ipython",
    "version": 3
   },
   "file_extension": ".py",
   "mimetype": "text/x-python",
   "name": "python",
   "nbconvert_exporter": "python",
   "pygments_lexer": "ipython3",
   "version": "3.6.5"
  }
 },
 "nbformat": 4,
 "nbformat_minor": 2
}
