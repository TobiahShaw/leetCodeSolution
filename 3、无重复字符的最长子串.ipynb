{
 "cells": [
  {
   "cell_type": "markdown",
   "metadata": {},
   "source": [
    "# 无重复字符的最长子串\n",
    "\n",
    "**题目来源：力扣（LeetCode）**\n",
    "\n",
    "**链接：https://leetcode-cn.com/problems/longest-substring-without-repeating-characters**\n",
    "\n",
    "## 一、题目\n",
    "\n",
    "给定一个字符串，请你找出其中不含有重复字符的 最长子串 的长度。\n",
    "\n",
    "## 二、示例\n",
    "\n",
    "### 示例 1:\n",
    "\n",
    "输入: \"abcabcbb\"\n",
    "\n",
    "输出: 3 \n",
    "\n",
    "解释: 因为无重复字符的最长子串是 \"abc\"，所以其长度为 3。\n",
    "\n",
    "### 示例 2:\n",
    "\n",
    "输入: \"bbbbb\"\n",
    "\n",
    "输出: 1\n",
    "\n",
    "解释: 因为无重复字符的最长子串是 \"b\"，所以其长度为 1。\n",
    "\n",
    "### 示例 3:\n",
    "\n",
    "输入: \"pwwkew\"\n",
    "\n",
    "输出: 3\n",
    "\n",
    "解释: 因为无重复字符的最长子串是 \"wke\"，所以其长度为 3。请注意，你的答案必须是 子串 的长度，\"pwke\" 是一个子序列，不是子串。\n",
    "\n",
    "\n",
    "## 三、解题思路\n",
    "\n",
    "### 方法一：暴力法\n",
    "\n",
    "逐个检查所有的子字符串，看它是否不含有重复的字符。\n",
    "\n",
    "即先穷举所有字串后，检查每个子串是否有重复字符，然后找出无重复字符子串中长度最长的。\n",
    "\n",
    "这种方法比较麻烦，我这里就不去实现了。\n",
    "\n",
    "### 方法二：\n",
    "\n",
    "简单的做法，从重复字符后一个开始作为新的子串，再去校验，同时计算有重复字符时的长度，去更新最大值，这样只需要遍历一次字符串，也只保存一个字串和一个数字。 也就是时间复杂度O(n)，空间复杂度O(m + 1),其中m时最长子串的长度"
   ]
  },
  {
   "cell_type": "code",
   "execution_count": 1,
   "metadata": {},
   "outputs": [],
   "source": [
    "def lengthOfLongestSubstring(s: str) -> int:\n",
    "    sub = ''\n",
    "    max = 0\n",
    "    for i in s:\n",
    "        if i in sub:\n",
    "            max = len(sub) if max < len(sub) else max\n",
    "            sub = sub[sub.index(i) + 1:] + i\n",
    "        else:\n",
    "            sub += i\n",
    "    max = len(sub) if max < len(sub) else max\n",
    "    return max"
   ]
  },
  {
   "cell_type": "code",
   "execution_count": 2,
   "metadata": {},
   "outputs": [
    {
     "name": "stdout",
     "output_type": "stream",
     "text": [
      "3\n"
     ]
    }
   ],
   "source": [
    "print(lengthOfLongestSubstring(\"abcabcbb\"))"
   ]
  },
  {
   "cell_type": "code",
   "execution_count": 3,
   "metadata": {},
   "outputs": [
    {
     "name": "stdout",
     "output_type": "stream",
     "text": [
      "1\n"
     ]
    }
   ],
   "source": [
    "print(lengthOfLongestSubstring(\"bbbbbb\"))"
   ]
  },
  {
   "cell_type": "code",
   "execution_count": 4,
   "metadata": {},
   "outputs": [
    {
     "name": "stdout",
     "output_type": "stream",
     "text": [
      "3\n"
     ]
    }
   ],
   "source": [
    "print(lengthOfLongestSubstring(\"pwwkew\"))"
   ]
  },
  {
   "cell_type": "code",
   "execution_count": 5,
   "metadata": {},
   "outputs": [
    {
     "name": "stdout",
     "output_type": "stream",
     "text": [
      "0\n"
     ]
    }
   ],
   "source": [
    "print(lengthOfLongestSubstring(\"\"))"
   ]
  },
  {
   "cell_type": "code",
   "execution_count": 6,
   "metadata": {},
   "outputs": [
    {
     "name": "stdout",
     "output_type": "stream",
     "text": [
      "1\n"
     ]
    }
   ],
   "source": [
    "print(lengthOfLongestSubstring(\" \"))"
   ]
  },
  {
   "cell_type": "code",
   "execution_count": null,
   "metadata": {},
   "outputs": [],
   "source": []
  }
 ],
 "metadata": {
  "kernelspec": {
   "display_name": "Python 3",
   "language": "python",
   "name": "python3"
  },
  "language_info": {
   "codemirror_mode": {
    "name": "ipython",
    "version": 3
   },
   "file_extension": ".py",
   "mimetype": "text/x-python",
   "name": "python",
   "nbconvert_exporter": "python",
   "pygments_lexer": "ipython3",
   "version": "3.6.5"
  }
 },
 "nbformat": 4,
 "nbformat_minor": 2
}
