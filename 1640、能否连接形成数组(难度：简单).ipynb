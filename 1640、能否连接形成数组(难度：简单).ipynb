{
 "cells": [
  {
   "cell_type": "markdown",
   "metadata": {},
   "source": [
    "# 能否连接形成数组\n",
    "\n",
    "**题目来源：力扣（LeetCode）**\n",
    "\n",
    "**链接：https://leetcode.cn/problems/check-array-formation-through-concatenation/**\n",
    "\n",
    "## 一、题目\n",
    "\n",
    "给你一个整数数组 arr ，数组中的每个整数 互不相同 。另有一个由整数数组构成的数组 pieces，其中的整数也 互不相同 。请你以 任意顺序 连接 pieces 中的数组以形成 arr 。但是，不允许 对每个数组 pieces[i] 中的整数重新排序。\n",
    "\n",
    "如果可以连接 pieces 中的数组形成 arr ，返回 true ；否则，返回 false 。\n",
    "\n",
    "### 提示：\n",
    "\n",
    "- 1 <= pieces.length <= arr.length <= 100\n",
    "- sum(pieces[i].length) == arr.length\n",
    "- 1 <= pieces[i].length <= arr.length\n",
    "- 1 <= arr[i], pieces[i][j] <= 100\n",
    "- arr 中的整数 互不相同\n",
    "- pieces 中的整数 互不相同（也就是说，如果将 pieces 扁平化成一维数组，数组中的所有整数互不相同）\n",
    "\n",
    "## 二、示例\n",
    "\n",
    "### 示例 1：\n",
    "\n",
    "输入：arr = [15,88], pieces = [[88],[15]]\n",
    "\n",
    "输出：true\n",
    "\n",
    "解释：依次连接 [15] 和 [88]\n",
    "\n",
    "### 示例 2：\n",
    "\n",
    "输入：arr = [49,18,16], pieces = [[16,18,49]]\n",
    "\n",
    "输出：false\n",
    "\n",
    "解释：即便数字相符，也不能重新排列 pieces[0]\n",
    "\n",
    "### 示例 3：\n",
    "\n",
    "输入：arr = [91,4,64,78], pieces = [[78],[4,64],[91]]\n",
    "\n",
    "输出：true\n",
    "\n",
    "解释：依次连接 [91]、[4,64] 和 [78]\n",
    "\n",
    "## 三、解题思路\n",
    "\n",
    "### 字典"
   ]
  },
  {
   "cell_type": "code",
   "execution_count": 1,
   "metadata": {},
   "outputs": [],
   "source": [
    "class Solution:\n",
    "    def canFormArray(self, arr, pieces) -> bool:\n",
    "        dic = {}\n",
    "        for p in pieces:\n",
    "            dic[p[0]] = p\n",
    "        index = 0\n",
    "        while index < len(arr):\n",
    "            if arr[index] not in dic:\n",
    "                return False\n",
    "            tmp = dic[arr[index]]\n",
    "            i = 0\n",
    "            while i < len(tmp):\n",
    "                if arr[index] != tmp[i]:\n",
    "                    return False\n",
    "                i += 1\n",
    "                index += 1\n",
    "        return True"
   ]
  },
  {
   "cell_type": "code",
   "execution_count": 2,
   "metadata": {},
   "outputs": [
    {
     "data": {
      "text/plain": [
       "True"
      ]
     },
     "execution_count": 2,
     "metadata": {},
     "output_type": "execute_result"
    }
   ],
   "source": [
    "s = Solution()\n",
    "s.canFormArray(arr = [15,88], pieces = [[88],[15]])"
   ]
  },
  {
   "cell_type": "code",
   "execution_count": 3,
   "metadata": {},
   "outputs": [
    {
     "data": {
      "text/plain": [
       "False"
      ]
     },
     "execution_count": 3,
     "metadata": {},
     "output_type": "execute_result"
    }
   ],
   "source": [
    "s.canFormArray(arr = [49,18,16], pieces = [[16,18,49]])"
   ]
  },
  {
   "cell_type": "code",
   "execution_count": 4,
   "metadata": {},
   "outputs": [
    {
     "data": {
      "text/plain": [
       "True"
      ]
     },
     "execution_count": 4,
     "metadata": {},
     "output_type": "execute_result"
    }
   ],
   "source": [
    "s.canFormArray(arr = [91,4,64,78], pieces = [[78],[4,64],[91]])"
   ]
  },
  {
   "cell_type": "code",
   "execution_count": null,
   "metadata": {},
   "outputs": [],
   "source": []
  }
 ],
 "metadata": {
  "kernelspec": {
   "display_name": "Python 3.10.4 64-bit",
   "language": "python",
   "name": "python3"
  },
  "language_info": {
   "codemirror_mode": {
    "name": "ipython",
    "version": 3
   },
   "file_extension": ".py",
   "mimetype": "text/x-python",
   "name": "python",
   "nbconvert_exporter": "python",
   "pygments_lexer": "ipython3",
   "version": "3.10.4"
  },
  "orig_nbformat": 4,
  "vscode": {
   "interpreter": {
    "hash": "4f946df053fbf2b937619d3c5458e7af74262f9a954d8797ba0b27400bcafe06"
   }
  }
 },
 "nbformat": 4,
 "nbformat_minor": 2
}
