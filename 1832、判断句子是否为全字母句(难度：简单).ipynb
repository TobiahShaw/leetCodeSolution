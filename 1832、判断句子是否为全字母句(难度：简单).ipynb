{
 "cells": [
  {
   "cell_type": "markdown",
   "metadata": {},
   "source": [
    "# 判断句子是否为全字母句\n",
    "\n",
    "**题目来源：力扣（LeetCode）**\n",
    "\n",
    "**链接：https://leetcode-cn.com/problems/check-if-the-sentence-is-pangram/**\n",
    "\n",
    "## 一、题目\n",
    "\n",
    "全字母句 指包含英语字母表中每个字母至少一次的句子。\n",
    "\n",
    "给你一个仅由小写英文字母组成的字符串 sentence ，请你判断 sentence 是否为 全字母句 。\n",
    "\n",
    "如果是，返回 true ；否则，返回 false 。\n",
    "\n",
    "### 提示：\n",
    "\n",
    "- 1 <= sentence.length <= 1000\n",
    "- sentence 由小写英语字母组成\n",
    "\n",
    "## 二、示例\n",
    "\n",
    "### 示例 1：\n",
    "\n",
    "输入：sentence = \"thequickbrownfoxjumpsoverthelazydog\"\n",
    "\n",
    "输出：true\n",
    "\n",
    "解释：sentence 包含英语字母表中每个字母至少一次。\n",
    "\n",
    "### 示例 2：\n",
    "\n",
    "输入：sentence = \"leetcode\"\n",
    "\n",
    "输出：false\n",
    "\n",
    "## 三、解题思路\n",
    "\n",
    "### 利用集合"
   ]
  },
  {
   "cell_type": "code",
   "execution_count": 1,
   "metadata": {},
   "outputs": [],
   "source": [
    "def checkIfPangram(sentence: str) -> bool:\n",
    "    alphabet = {'a','b','c','d','e','f','g','h','i','j','k','l','m','n','o','p','q','r','s','t','u','v','w','x','y','z'}\n",
    "    for ch in sentence:\n",
    "        alphabet.discard(ch)\n",
    "    return not alphabet"
   ]
  },
  {
   "cell_type": "code",
   "execution_count": 2,
   "metadata": {},
   "outputs": [
    {
     "data": {
      "text/plain": [
       "True"
      ]
     },
     "execution_count": 2,
     "metadata": {},
     "output_type": "execute_result"
    }
   ],
   "source": [
    "checkIfPangram(\"thequickbrownfoxjumpsoverthelazydog\")"
   ]
  },
  {
   "cell_type": "code",
   "execution_count": 3,
   "metadata": {},
   "outputs": [
    {
     "data": {
      "text/plain": [
       "False"
      ]
     },
     "execution_count": 3,
     "metadata": {},
     "output_type": "execute_result"
    }
   ],
   "source": [
    "checkIfPangram(\"leetcode\")"
   ]
  },
  {
   "cell_type": "code",
   "execution_count": null,
   "metadata": {},
   "outputs": [],
   "source": []
  }
 ],
 "metadata": {
  "kernelspec": {
   "display_name": "Python 3",
   "language": "python",
   "name": "python3"
  },
  "language_info": {
   "codemirror_mode": {
    "name": "ipython",
    "version": 3
   },
   "file_extension": ".py",
   "mimetype": "text/x-python",
   "name": "python",
   "nbconvert_exporter": "python",
   "pygments_lexer": "ipython3",
   "version": "3.6.5"
  }
 },
 "nbformat": 4,
 "nbformat_minor": 2
}
