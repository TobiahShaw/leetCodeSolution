{
  "cells": [
    {
      "metadata": {
        "collapsed": true
      },
      "cell_type": "markdown",
      "source": "# 链表的中间结点\n\n**题目来源：力扣（LeetCode）**\n\n**链接：https://leetcode-cn.com/problems/transpose-matrix/**\n\n## 一、题目\n\n给定一个带有头结点 head 的非空单链表，返回链表的中间结点。\n\n如果有两个中间结点，则返回第二个中间结点。\n\n## 二、示例\n\n### 示例 1：\n\n输入：[1,2,3,4,5]\n\n输出：此列表中的结点 3 (序列化形式：[3,4,5])返回的结点值为 3 。 (测评系统对该结点序列化表述是 [3,4,5])。注意，我们返回了一个 ListNode 类型的对象 ans，这样：ans.val = 3, ans.next.val = 4, ans.next.next.val = 5, 以及 ans.next.next.next = NULL.\n\n### 示例 2：\n\n输入：[1,2,3,4,5,6]\n\n输出：此列表中的结点 4 (序列化形式：[4,5,6])，由于该列表有两个中间结点，值分别为 3 和 4，我们返回第二个结点。\n\n## 三、解题思路"
    },
    {
      "metadata": {
        "trusted": true
      },
      "cell_type": "code",
      "source": "class ListNode:\n    def __init__(self, x):\n        self.val = x\n        self.next = None",
      "execution_count": 1,
      "outputs": []
    },
    {
      "metadata": {},
      "cell_type": "markdown",
      "source": "### 快慢指针"
    },
    {
      "metadata": {
        "trusted": true
      },
      "cell_type": "code",
      "source": "def middleNode(head):\n    quick = slow = head\n    while quick and quick.next:\n        slow = slow.next\n        quick = quick.next.next\n    return slow",
      "execution_count": 2,
      "outputs": []
    },
    {
      "metadata": {
        "trusted": true
      },
      "cell_type": "code",
      "source": "head = ListNode(1)\nhead.next = ListNode(2)\nhead.next.next = ListNode(3)\nhead.next.next.next = ListNode(4)\nhead.next.next.next.next = ListNode(5)",
      "execution_count": 3,
      "outputs": []
    },
    {
      "metadata": {
        "trusted": true
      },
      "cell_type": "code",
      "source": "middle = middleNode(head)",
      "execution_count": 4,
      "outputs": []
    },
    {
      "metadata": {
        "trusted": true
      },
      "cell_type": "code",
      "source": "while middle:\n    print(middle.val, end=' ')\n    middle = middle.next",
      "execution_count": 5,
      "outputs": [
        {
          "output_type": "stream",
          "text": "3 4 5 ",
          "name": "stdout"
        }
      ]
    },
    {
      "metadata": {
        "trusted": true
      },
      "cell_type": "markdown",
      "source": "### 利用数组"
    },
    {
      "metadata": {
        "trusted": true
      },
      "cell_type": "code",
      "source": "def middleNode(head):\n    arr = [head]\n    while arr[-1].next:\n        arr.append(arr[-1].next)\n    return arr[len(arr) // 2]",
      "execution_count": 6,
      "outputs": []
    },
    {
      "metadata": {
        "trusted": true
      },
      "cell_type": "code",
      "source": "head = ListNode(1)\nhead.next = ListNode(2)\nhead.next.next = ListNode(3)\nhead.next.next.next = ListNode(4)\nhead.next.next.next.next = ListNode(5)",
      "execution_count": 7,
      "outputs": []
    },
    {
      "metadata": {
        "trusted": true
      },
      "cell_type": "code",
      "source": "middle = middleNode(head)",
      "execution_count": 8,
      "outputs": []
    },
    {
      "metadata": {
        "trusted": true
      },
      "cell_type": "code",
      "source": "while middle:\n    print(middle.val, end=' ')\n    middle = middle.next",
      "execution_count": 9,
      "outputs": [
        {
          "output_type": "stream",
          "text": "3 4 5 ",
          "name": "stdout"
        }
      ]
    },
    {
      "metadata": {
        "trusted": true
      },
      "cell_type": "code",
      "source": "",
      "execution_count": null,
      "outputs": []
    }
  ],
  "metadata": {
    "kernelspec": {
      "name": "python36",
      "display_name": "Python 3.6",
      "language": "python"
    },
    "language_info": {
      "mimetype": "text/x-python",
      "nbconvert_exporter": "python",
      "name": "python",
      "pygments_lexer": "ipython3",
      "version": "3.6.6",
      "file_extension": ".py",
      "codemirror_mode": {
        "version": 3,
        "name": "ipython"
      }
    }
  },
  "nbformat": 4,
  "nbformat_minor": 2
}