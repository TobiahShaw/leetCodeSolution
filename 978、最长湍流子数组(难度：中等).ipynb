{
 "cells": [
  {
   "cell_type": "markdown",
   "metadata": {},
   "source": [
    "# 最长湍流子数组\n",
    "\n",
    "**题目来源：力扣（LeetCode）**\n",
    "\n",
    "**链接：https://leetcode-cn.com/problems/longest-turbulent-subarray/**\n",
    "\n",
    "## 一、题目\n",
    "\n",
    "当 A 的子数组 A[i], A[i+1], ..., A[j] 满足下列条件时，我们称其为湍流子数组：\n",
    "\n",
    "- 若 i <= k < j，当 k 为奇数时， A[k] > A[k+1]，且当 k 为偶数时，A[k] < A[k+1]；\n",
    "- 或 若 i <= k < j，当 k 为偶数时，A[k] > A[k+1] ，且当 k 为奇数时， A[k] < A[k+1]。\n",
    "\n",
    "也就是说，如果比较符号在子数组中的每个相邻元素对之间翻转，则该子数组是湍流子数组。\n",
    "\n",
    "返回 A 的最大湍流子数组的长度。\n",
    "\n",
    "提示：\n",
    "\n",
    "- 1 <= A.length <= 40000\n",
    "- 0 <= A[i] <= 10^9\n",
    "\n",
    "## 二、示例\n",
    "\n",
    "### 示例 1：\n",
    "\n",
    "输入：[9,4,2,10,7,8,8,1,9]\n",
    "\n",
    "输出：5\n",
    "\n",
    "解释：(A[1] > A[2] < A[3] > A[4] < A[5])\n",
    "\n",
    "### 示例 2：\n",
    "\n",
    "输入：[4,8,12,16]\n",
    "\n",
    "输出：2\n",
    "\n",
    "### 示例 3：\n",
    "\n",
    "输入：[100]\n",
    "\n",
    "输出：1\n",
    "\n",
    "## 三、解题思路\n",
    "\n",
    "### 模拟过程"
   ]
  },
  {
   "cell_type": "code",
   "execution_count": 1,
   "metadata": {},
   "outputs": [],
   "source": [
    "def maxTurbulenceSize(A) -> int:\n",
    "    n=len(A)\n",
    "    if n<=1: return n\n",
    "    if n==2:\n",
    "        if A[0]==A[1]: return 1\n",
    "        else: return 2\n",
    "    ans=c=1 if A[0]==A[1] else 2\n",
    "    for i in range(2,n):\n",
    "        if A[i-2]<A[i-1]>A[i] or A[i-2]>A[i-1]<A[i]:\n",
    "            c+=1\n",
    "            if c>ans: ans=c\n",
    "        else:\n",
    "            if A[i-1]==A[i]: c=1\n",
    "            else: c=2\n",
    "    return ans"
   ]
  },
  {
   "cell_type": "code",
   "execution_count": 2,
   "metadata": {},
   "outputs": [
    {
     "data": {
      "text/plain": [
       "5"
      ]
     },
     "execution_count": 2,
     "metadata": {},
     "output_type": "execute_result"
    }
   ],
   "source": [
    "maxTurbulenceSize([9,4,2,10,7,8,8,1,9])"
   ]
  },
  {
   "cell_type": "code",
   "execution_count": 3,
   "metadata": {},
   "outputs": [
    {
     "data": {
      "text/plain": [
       "2"
      ]
     },
     "execution_count": 3,
     "metadata": {},
     "output_type": "execute_result"
    }
   ],
   "source": [
    "maxTurbulenceSize([4,8,12,16])"
   ]
  },
  {
   "cell_type": "code",
   "execution_count": 4,
   "metadata": {},
   "outputs": [
    {
     "data": {
      "text/plain": [
       "1"
      ]
     },
     "execution_count": 4,
     "metadata": {},
     "output_type": "execute_result"
    }
   ],
   "source": [
    "maxTurbulenceSize([100])"
   ]
  },
  {
   "cell_type": "code",
   "execution_count": null,
   "metadata": {},
   "outputs": [],
   "source": []
  }
 ],
 "metadata": {
  "kernelspec": {
   "display_name": "Python 3",
   "language": "python",
   "name": "python3"
  },
  "language_info": {
   "codemirror_mode": {
    "name": "ipython",
    "version": 3
   },
   "file_extension": ".py",
   "mimetype": "text/x-python",
   "name": "python",
   "nbconvert_exporter": "python",
   "pygments_lexer": "ipython3",
   "version": "3.6.5"
  }
 },
 "nbformat": 4,
 "nbformat_minor": 2
}
