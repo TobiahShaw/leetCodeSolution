{
 "cells": [
  {
   "cell_type": "markdown",
   "metadata": {},
   "source": [
    "# 密钥格式化\n",
    "\n",
    "**题目来源：力扣（LeetCode）**\n",
    "\n",
    "**链接：https://leetcode-cn.com/problems/license-key-formatting/**\n",
    "\n",
    "## 一、题目\n",
    "\n",
    "有一个密钥字符串 S ，只包含字母，数字以及 '-'（破折号）。其中， N 个 '-' 将字符串分成了 N+1 组。\n",
    "\n",
    "给你一个数字 K，请你重新格式化字符串，使每个分组恰好包含 K 个字符。特别地，第一个分组包含的字符个数必须小于等于 K，但至少要包含 1 个字符。两个分组之间需要用 '-'（破折号）隔开，并且将所有的小写字母转换为大写字母。\n",
    "\n",
    "给定非空字符串 S 和数字 K，按照上面描述的规则进行格式化。\n",
    "\n",
    "提示:\n",
    "\n",
    "- S 的长度可能很长，请按需分配大小。K 为正整数。\n",
    "- S 只包含字母数字（a-z，A-Z，0-9）以及破折号'-'\n",
    "- S 非空\n",
    "\n",
    "## 二、示例\n",
    "\n",
    "### 示例 1：\n",
    "\n",
    "输入：S = \"5F3Z-2e-9-w\", K = 4\n",
    "\n",
    "输出：\"5F3Z-2E9W\"\n",
    "\n",
    "解释：字符串 S 被分成了两个部分，每部分 4 个字符；注意，两个额外的破折号需要删掉。\n",
    "\n",
    "### 示例 2：\n",
    "\n",
    "输入：S = \"2-5g-3-J\", K = 2\n",
    "\n",
    "输出：\"2-5G-3J\"\n",
    "\n",
    "解释：字符串 S 被分成了 3 个部分，按照前面的规则描述，第一部分的字符可以少于给定的数量，其余部分皆为 2 个字符。\n",
    "\n",
    "## 三、解题思路\n",
    "\n",
    "### 从后向前取"
   ]
  },
  {
   "cell_type": "code",
   "execution_count": 1,
   "metadata": {},
   "outputs": [],
   "source": [
    "def licenseKeyFormatting(S: str, K: int) -> str:\n",
    "    ret = []\n",
    "    stack = []\n",
    "    for ch in S[::-1]:\n",
    "        if ch == \"-\":\n",
    "            continue\n",
    "        stack.append(ch.upper())\n",
    "        if len(stack) == K:\n",
    "            ret.append(\"\".join(stack[::-1]))\n",
    "            stack.clear()\n",
    "    if stack:\n",
    "        ret.append(\"\".join(stack[::-1]))\n",
    "    return \"-\".join(ret[::-1])"
   ]
  },
  {
   "cell_type": "code",
   "execution_count": 2,
   "metadata": {},
   "outputs": [
    {
     "data": {
      "text/plain": [
       "'5F3Z-2E9W'"
      ]
     },
     "execution_count": 2,
     "metadata": {},
     "output_type": "execute_result"
    }
   ],
   "source": [
    "licenseKeyFormatting(S = \"5F3Z-2e-9-w\", K = 4)"
   ]
  },
  {
   "cell_type": "code",
   "execution_count": 3,
   "metadata": {},
   "outputs": [
    {
     "data": {
      "text/plain": [
       "'2-5G-3J'"
      ]
     },
     "execution_count": 3,
     "metadata": {},
     "output_type": "execute_result"
    }
   ],
   "source": [
    "licenseKeyFormatting(S = \"2-5g-3-J\", K = 2)"
   ]
  },
  {
   "cell_type": "code",
   "execution_count": null,
   "metadata": {},
   "outputs": [],
   "source": []
  }
 ],
 "metadata": {
  "kernelspec": {
   "display_name": "Python 3",
   "language": "python",
   "name": "python3"
  },
  "language_info": {
   "codemirror_mode": {
    "name": "ipython",
    "version": 3
   },
   "file_extension": ".py",
   "mimetype": "text/x-python",
   "name": "python",
   "nbconvert_exporter": "python",
   "pygments_lexer": "ipython3",
   "version": "3.6.5"
  }
 },
 "nbformat": 4,
 "nbformat_minor": 2
}
