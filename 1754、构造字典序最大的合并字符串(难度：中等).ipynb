{
 "cells": [
  {
   "cell_type": "markdown",
   "id": "91373101",
   "metadata": {},
   "source": [
    "# 构造字典序最大的合并字符串\n",
    "\n",
    "**题目来源：力扣（LeetCode）**\n",
    "\n",
    "**链接：https://leetcode.cn/problems/largest-merge-of-two-strings/**\n",
    "\n",
    "## 一、题目\n",
    "\n",
    "给你两个字符串 word1 和 word2 。你需要按下述方式构造一个新字符串 merge ：如果 word1 或 word2 非空，选择 下面选项之一 继续操作：\n",
    "\n",
    "如果 word1 非空，将 word1 中的第一个字符附加到 merge 的末尾，并将其从 word1 中移除。\n",
    "例如，word1 = \"abc\" 且 merge = \"dv\" ，在执行此选项操作之后，word1 = \"bc\" ，同时 merge = \"dva\" 。\n",
    "如果 word2 非空，将 word2 中的第一个字符附加到 merge 的末尾，并将其从 word2 中移除。\n",
    "例如，word2 = \"abc\" 且 merge = \"\" ，在执行此选项操作之后，word2 = \"bc\" ，同时 merge = \"a\" 。\n",
    "返回你可以构造的字典序 最大 的合并字符串 merge 。\n",
    "\n",
    "长度相同的两个字符串 a 和 b 比较字典序大小，如果在 a 和 b 出现不同的第一个位置，a 中字符在字母表中的出现顺序位于 b 中相应字符之后，就认为字符串 a 按字典序比字符串 b 更大。例如，\"abcd\" 按字典序比 \"abcc\" 更大，因为两个字符串出现不同的第一个位置是第四个字符，而 d 在字母表中的出现顺序位于 c 之后。\n",
    "\n",
    "### 提示：\n",
    "\n",
    "- 1 <= word1.length, word2.length <= 3000\n",
    "- word1 和 word2 仅由小写英文组成\n",
    "\n",
    "## 二、示例\n",
    "\n",
    "### 示例 1：\n",
    "\n",
    "输入：word1 = \"cabaa\", word2 = \"bcaaa\"\n",
    "\n",
    "输出：\"cbcabaaaaa\"\n",
    "\n",
    "解释：构造字典序最大的合并字符串，可行的一种方法如下所示：\n",
    "\n",
    "- 从 word1 中取第一个字符：merge = \"c\"，word1 = \"abaa\"，word2 = \"bcaaa\"\n",
    "- 从 word2 中取第一个字符：merge = \"cb\"，word1 = \"abaa\"，word2 = \"caaa\"\n",
    "- 从 word2 中取第一个字符：merge = \"cbc\"，word1 = \"abaa\"，word2 = \"aaa\"\n",
    "- 从 word1 中取第一个字符：merge = \"cbca\"，word1 = \"baa\"，word2 = \"aaa\"\n",
    "- 从 word1 中取第一个字符：merge = \"cbcab\"，word1 = \"aa\"，word2 = \"aaa\"\n",
    "- 将 word1 和 word2 中剩下的 5 个 a 附加到 merge 的末尾。\n",
    "\n",
    "### 示例 2：\n",
    "\n",
    "输入：word1 = \"abcabc\", word2 = \"abdcaba\"\n",
    "\n",
    "输出：\"abdcabcabcaba\"\n",
    "\n",
    "## 三、解题思路\n",
    "\n",
    "### 贪心"
   ]
  },
  {
   "cell_type": "code",
   "execution_count": 1,
   "id": "74379c39",
   "metadata": {},
   "outputs": [],
   "source": [
    "class Solution:\n",
    "    def largestMerge(self, word1: str, word2: str) -> str:\n",
    "        merge = []\n",
    "        i, j, n, m = 0, 0, len(word1), len(word2)\n",
    "        while i < n or j < m:\n",
    "            if i < n and word1[i:] > word2[j:]:\n",
    "                merge.append(word1[i])\n",
    "                i += 1\n",
    "            else:\n",
    "                merge.append(word2[j])\n",
    "                j += 1\n",
    "        return ''.join(merge)"
   ]
  },
  {
   "cell_type": "code",
   "execution_count": 2,
   "id": "4514b5e7",
   "metadata": {},
   "outputs": [
    {
     "data": {
      "text/plain": [
       "'cbcabaaaaa'"
      ]
     },
     "execution_count": 2,
     "metadata": {},
     "output_type": "execute_result"
    }
   ],
   "source": [
    "s = Solution()\n",
    "s.largestMerge(word1 = \"cabaa\", word2 = \"bcaaa\")"
   ]
  },
  {
   "cell_type": "code",
   "execution_count": 3,
   "id": "c9ddb808",
   "metadata": {},
   "outputs": [
    {
     "data": {
      "text/plain": [
       "'abdcabcabcaba'"
      ]
     },
     "execution_count": 3,
     "metadata": {},
     "output_type": "execute_result"
    }
   ],
   "source": [
    "s.largestMerge(word1 = \"abcabc\", word2 = \"abdcaba\")"
   ]
  },
  {
   "cell_type": "code",
   "execution_count": null,
   "id": "5cacaaa1",
   "metadata": {},
   "outputs": [],
   "source": []
  }
 ],
 "metadata": {
  "kernelspec": {
   "display_name": "Python 3 (ipykernel)",
   "language": "python",
   "name": "python3"
  },
  "language_info": {
   "codemirror_mode": {
    "name": "ipython",
    "version": 3
   },
   "file_extension": ".py",
   "mimetype": "text/x-python",
   "name": "python",
   "nbconvert_exporter": "python",
   "pygments_lexer": "ipython3",
   "version": "3.11.0"
  }
 },
 "nbformat": 4,
 "nbformat_minor": 5
}
