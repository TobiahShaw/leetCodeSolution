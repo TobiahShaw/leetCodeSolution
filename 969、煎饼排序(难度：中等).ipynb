{
 "cells": [
  {
   "cell_type": "markdown",
   "metadata": {},
   "source": [
    "# 煎饼排序\n",
    "\n",
    "**题目来源：力扣（LeetCode）**\n",
    "\n",
    "**链接：https://leetcode-cn.com/problems/pancake-sorting/**\n",
    "\n",
    "## 一、题目\n",
    "\n",
    "给你一个整数数组 arr ，请使用 煎饼翻转 完成对数组的排序。\n",
    "\n",
    "一次煎饼翻转的执行过程如下：\n",
    "\n",
    "选择一个整数 k ，1 <= k <= arr.length\n",
    "反转子数组 arr[0...k-1]（下标从 0 开始）\n",
    "例如，arr = [3,2,1,4] ，选择 k = 3 进行一次煎饼翻转，反转子数组 [3,2,1] ，得到 arr = [1,2,3,4] 。\n",
    "\n",
    "以数组形式返回能使 arr 有序的煎饼翻转操作所对应的 k 值序列。任何将数组排序且翻转次数在 10 * arr.length 范围内的有效答案都将被判断为正确。\n",
    "\n",
    "### 提示：\n",
    "\n",
    "- 1 <= arr.length <= 100\n",
    "- 1 <= arr[i] <= arr.length\n",
    "- arr 中的所有整数互不相同（即，arr 是从 1 到 arr.length 整数的一个排列）\n",
    "\n",
    "## 二、示例\n",
    "\n",
    "### 示例 1：\n",
    "\n",
    "输入：[3,2,4,1]\n",
    "\n",
    "输出：[4,2,4,3]\n",
    "\n",
    "解释：\n",
    "\n",
    "我们执行 4 次煎饼翻转，k 值分别为 4，2，4，和 3。  \n",
    "初始状态 arr = [3, 2, 4, 1]  \n",
    "第一次翻转后（k = 4）：arr = [1, 4, 2, 3]  \n",
    "第二次翻转后（k = 2）：arr = [4, 1, 2, 3]  \n",
    "第三次翻转后（k = 4）：arr = [3, 2, 1, 4]  \n",
    "第四次翻转后（k = 3）：arr = [1, 2, 3, 4]，此时已完成排序。  \n",
    "\n",
    "### 示例 2：\n",
    "\n",
    "输入：[1,2,3]\n",
    "\n",
    "输出：[]\n",
    "\n",
    "解释：\n",
    "\n",
    "输入已经排序，因此不需要翻转任何内容。请注意，其他可能的答案，如 [3，3] ，也将被判断为正确。\n",
    "\n",
    "## 三、解题思路\n",
    "\n",
    "### 将最大值逐步放到最右侧"
   ]
  },
  {
   "cell_type": "code",
   "execution_count": 1,
   "metadata": {},
   "outputs": [],
   "source": [
    "def pancakeSort(arr):\n",
    "    n = len(arr)\n",
    "    def find_i(i):\n",
    "        for index in range(n):\n",
    "            if arr[index] == i:\n",
    "                return index\n",
    "        return -1\n",
    "    ret = []\n",
    "    while n > 1:\n",
    "        # 先找最大值的位置\n",
    "        index = find_i(n)\n",
    "        # 如果最大值在最后则右侧有序，继续处理\n",
    "        if index == n-1:\n",
    "            n -= 1\n",
    "            continue\n",
    "        # 如当前最大值在不在最左边，反转一次将其放到最左\n",
    "        if index != 0:\n",
    "            ret.append(index+1)\n",
    "            arr[:index+1] = arr[:index+1][::-1]\n",
    "        # 此时最大值在最左边，反转左侧无序的最右边，此时n:有序\n",
    "        ret.append(n)\n",
    "        arr[:n] = arr[:n][::-1]\n",
    "        n -= 1\n",
    "    return ret"
   ]
  },
  {
   "cell_type": "code",
   "execution_count": 2,
   "metadata": {},
   "outputs": [
    {
     "data": {
      "text/plain": [
       "[3, 4, 2, 3, 2]"
      ]
     },
     "execution_count": 2,
     "metadata": {},
     "output_type": "execute_result"
    }
   ],
   "source": [
    "pancakeSort([3,2,4,1])"
   ]
  },
  {
   "cell_type": "code",
   "execution_count": 3,
   "metadata": {},
   "outputs": [
    {
     "data": {
      "text/plain": [
       "[]"
      ]
     },
     "execution_count": 3,
     "metadata": {},
     "output_type": "execute_result"
    }
   ],
   "source": [
    "pancakeSort([1,2,3])"
   ]
  },
  {
   "cell_type": "code",
   "execution_count": null,
   "metadata": {},
   "outputs": [],
   "source": []
  }
 ],
 "metadata": {
  "kernelspec": {
   "display_name": "Python 3",
   "language": "python",
   "name": "python3"
  },
  "language_info": {
   "codemirror_mode": {
    "name": "ipython",
    "version": 3
   },
   "file_extension": ".py",
   "mimetype": "text/x-python",
   "name": "python",
   "nbconvert_exporter": "python",
   "pygments_lexer": "ipython3",
   "version": "3.6.5"
  }
 },
 "nbformat": 4,
 "nbformat_minor": 2
}
