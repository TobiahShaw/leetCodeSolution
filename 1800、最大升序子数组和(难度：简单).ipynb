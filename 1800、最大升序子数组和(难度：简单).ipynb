{
 "cells": [
  {
   "cell_type": "markdown",
   "metadata": {},
   "source": [
    "# 最大升序子数组和\n",
    "\n",
    "**题目来源：力扣（LeetCode）**\n",
    "\n",
    "**链接：https://leetcode.cn/problems/maximum-ascending-subarray-sum/**\n",
    "\n",
    "## 一、题目\n",
    "\n",
    "给你一个正整数组成的数组 nums ，返回 nums 中一个 升序 子数组的最大可能元素和。\n",
    "\n",
    "子数组是数组中的一个连续数字序列。\n",
    "\n",
    "已知子数组 $ [nums_l, nums_{l+1}, ..., nums_{r-1}, nums_r] $ ，若对所有 i（l <= i < r），$ nums_i < nums_{i+1} $ 都成立，则称这一子数组为 升序 子数组。注意，大小为 1 的子数组也视作 升序 子数组。\n",
    "\n",
    "### 提示：\n",
    "\n",
    "- 1 <= nums.length <= 100\n",
    "- 1 <= nums[i] <= 100\n",
    "\n",
    "## 二、示例\n",
    "\n",
    "### 示例 1：\n",
    "\n",
    "输入：nums = [10,20,30,5,10,50]\n",
    "\n",
    "输出：65\n",
    "\n",
    "解释：[5,10,50] 是元素和最大的升序子数组，最大元素和为 65 。\n",
    "\n",
    "### 示例 2：\n",
    "\n",
    "输入：nums = [10,20,30,40,50]\n",
    "\n",
    "输出：150\n",
    "\n",
    "解释：[10,20,30,40,50] 是元素和最大的升序子数组，最大元素和为 150 。 \n",
    "\n",
    "### 示例 3：\n",
    "\n",
    "输入：nums = [12,17,15,13,10,11,12]\n",
    "\n",
    "输出：33\n",
    "\n",
    "解释：[10,11,12] 是元素和最大的升序子数组，最大元素和为 33 。 \n",
    "\n",
    "### 示例 4：\n",
    "\n",
    "输入：nums = [100,10,1]\n",
    "\n",
    "输出：100\n",
    "\n",
    "## 三、解题思路\n",
    "\n",
    "### 模拟过程"
   ]
  },
  {
   "cell_type": "code",
   "execution_count": 1,
   "metadata": {},
   "outputs": [],
   "source": [
    "class Solution:\n",
    "    def maxAscendingSum(self, nums) -> int:\n",
    "        ret = 0\n",
    "        n = len(nums)\n",
    "        tmp = nums[0]\n",
    "        for i in range(1, n):\n",
    "            if nums[i-1] < nums[i]:\n",
    "                tmp += nums[i]\n",
    "            else:\n",
    "                ret = max(ret, tmp)\n",
    "                tmp = nums[i]\n",
    "        ret = max(ret, tmp)\n",
    "        return ret"
   ]
  },
  {
   "cell_type": "code",
   "execution_count": 2,
   "metadata": {},
   "outputs": [
    {
     "data": {
      "text/plain": [
       "65"
      ]
     },
     "execution_count": 2,
     "metadata": {},
     "output_type": "execute_result"
    }
   ],
   "source": [
    "s = Solution()\n",
    "s.maxAscendingSum([10,20,30,5,10,50])"
   ]
  },
  {
   "cell_type": "code",
   "execution_count": 3,
   "metadata": {},
   "outputs": [
    {
     "data": {
      "text/plain": [
       "150"
      ]
     },
     "execution_count": 3,
     "metadata": {},
     "output_type": "execute_result"
    }
   ],
   "source": [
    "s.maxAscendingSum([10,20,30,40,50])"
   ]
  },
  {
   "cell_type": "code",
   "execution_count": 4,
   "metadata": {},
   "outputs": [
    {
     "data": {
      "text/plain": [
       "33"
      ]
     },
     "execution_count": 4,
     "metadata": {},
     "output_type": "execute_result"
    }
   ],
   "source": [
    "s.maxAscendingSum([12,17,15,13,10,11,12])"
   ]
  },
  {
   "cell_type": "code",
   "execution_count": 5,
   "metadata": {},
   "outputs": [
    {
     "data": {
      "text/plain": [
       "100"
      ]
     },
     "execution_count": 5,
     "metadata": {},
     "output_type": "execute_result"
    }
   ],
   "source": [
    "s.maxAscendingSum([100,10,1])"
   ]
  },
  {
   "cell_type": "code",
   "execution_count": null,
   "metadata": {},
   "outputs": [],
   "source": []
  }
 ],
 "metadata": {
  "kernelspec": {
   "display_name": "Python 3.10.4 64-bit",
   "language": "python",
   "name": "python3"
  },
  "language_info": {
   "codemirror_mode": {
    "name": "ipython",
    "version": 3
   },
   "file_extension": ".py",
   "mimetype": "text/x-python",
   "name": "python",
   "nbconvert_exporter": "python",
   "pygments_lexer": "ipython3",
   "version": "3.10.4"
  },
  "orig_nbformat": 4,
  "vscode": {
   "interpreter": {
    "hash": "4f946df053fbf2b937619d3c5458e7af74262f9a954d8797ba0b27400bcafe06"
   }
  }
 },
 "nbformat": 4,
 "nbformat_minor": 2
}
