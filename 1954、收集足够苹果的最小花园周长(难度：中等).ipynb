{
 "cells": [
  {
   "cell_type": "markdown",
   "metadata": {},
   "source": [
    "# 收集足够苹果的最小花园周长\n",
    "\n",
    "**题目来源：力扣（LeetCode）**\n",
    "\n",
    "**链接：https://leetcode-cn.com/problems/find-common-characters/**\n",
    "\n",
    "## 一、题目\n",
    "\n",
    "给你一个用无限二维网格表示的花园，每一个 整数坐标处都有一棵苹果树。整数坐标 (i, j) 处的苹果树有 |i| + |j| 个苹果。\n",
    "\n",
    "你将会买下正中心坐标是 (0, 0) 的一块 正方形土地 ，且每条边都与两条坐标轴之一平行。\n",
    "\n",
    "给你一个整数 neededApples ，请你返回土地的 最小周长 ，使得 至少 有 neededApples 个苹果在土地 里面或者边缘上。\n",
    "\n",
    "|x| 的值定义为：\n",
    "\n",
    "- 如果 x >= 0 ，那么值为 x\n",
    "- 如果 x < 0 ，那么值为 -x\n",
    "\n",
    "### 提示：\n",
    "\n",
    "- 1 <= neededApples <= 10^15\n",
    "\n",
    "## 二、示例\n",
    "\n",
    "### 示例 1：\n",
    "\n",
    "输入：neededApples = 1\n",
    "\n",
    "输出：8\n",
    "\n",
    "解释：边长长度为 1 的正方形不包含任何苹果。但是边长为 2 的正方形包含 12 个苹果（如上图所示）。周长为 2 * 4 = 8 。\n",
    "\n",
    "### 示例 2：\n",
    "\n",
    "输入：neededApples = 13\n",
    "\n",
    "输出：16\n",
    "\n",
    "### 示例 3：\n",
    "\n",
    "输入：neededApples = 1000000000\n",
    "\n",
    "输出：5040\n",
    "\n",
    "## 三、解题思路\n",
    "\n",
    "### 数学规律\n",
    "\n",
    "假设边长为i，则可以的得到的苹果数量为f(i)，可以总结出规律 f(i) = i * i * 3 + f(i-2)，其中f(2) = 12。且i % 2 = 0；i > 0;"
   ]
  },
  {
   "cell_type": "code",
   "execution_count": 1,
   "metadata": {},
   "outputs": [],
   "source": [
    "def minimumPerimeter(neededApples: int) -> int:\n",
    "    num = 0\n",
    "    # num = 10^15 时，边长不会大于503970\n",
    "    for i in range(2, 503970, 2):\n",
    "        num = i * i * 3 + num\n",
    "        if num >= neededApples:\n",
    "            return i * 4\n",
    "    return 0"
   ]
  },
  {
   "cell_type": "code",
   "execution_count": 2,
   "metadata": {},
   "outputs": [
    {
     "data": {
      "text/plain": [
       "8"
      ]
     },
     "execution_count": 2,
     "metadata": {},
     "output_type": "execute_result"
    }
   ],
   "source": [
    "minimumPerimeter(1)"
   ]
  },
  {
   "cell_type": "code",
   "execution_count": 3,
   "metadata": {},
   "outputs": [
    {
     "data": {
      "text/plain": [
       "16"
      ]
     },
     "execution_count": 3,
     "metadata": {},
     "output_type": "execute_result"
    }
   ],
   "source": [
    "minimumPerimeter(13)"
   ]
  },
  {
   "cell_type": "code",
   "execution_count": 4,
   "metadata": {},
   "outputs": [
    {
     "data": {
      "text/plain": [
       "5040"
      ]
     },
     "execution_count": 4,
     "metadata": {},
     "output_type": "execute_result"
    }
   ],
   "source": [
    "minimumPerimeter(1000000000)"
   ]
  },
  {
   "cell_type": "code",
   "execution_count": null,
   "metadata": {},
   "outputs": [],
   "source": []
  }
 ],
 "metadata": {
  "kernelspec": {
   "display_name": "Python 3",
   "language": "python",
   "name": "python3"
  },
  "language_info": {
   "codemirror_mode": {
    "name": "ipython",
    "version": 3
   },
   "file_extension": ".py",
   "mimetype": "text/x-python",
   "name": "python",
   "nbconvert_exporter": "python",
   "pygments_lexer": "ipython3",
   "version": "3.6.5"
  }
 },
 "nbformat": 4,
 "nbformat_minor": 2
}
