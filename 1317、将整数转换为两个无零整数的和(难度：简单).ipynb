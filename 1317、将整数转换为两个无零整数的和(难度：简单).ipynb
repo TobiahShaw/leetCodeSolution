{
 "cells": [
  {
   "cell_type": "markdown",
   "metadata": {},
   "source": [
    "# 将整数转换为两个无零整数的和\n",
    "\n",
    "**题目来源：力扣（LeetCode）**\n",
    "\n",
    "**链接：https://leetcode-cn.com/problems/convert-integer-to-the-sum-of-two-no-zero-integers/**\n",
    "\n",
    "## 一、题目\n",
    "\n",
    "「无零整数」是十进制表示中 不含任何 0 的正整数。\n",
    "\n",
    "给你一个整数 n，请你返回一个 由两个整数组成的列表 [A, B]，满足：\n",
    "\n",
    "A 和 B 都是无零整数\n",
    "A + B = n\n",
    "题目数据保证至少有一个有效的解决方案。\n",
    "\n",
    "如果存在多个有效解决方案，你可以返回其中任意一个。\n",
    "\n",
    "## 二、示例\n",
    "\n",
    "### 示例 1：\n",
    "\n",
    "输入：n = 2\n",
    "\n",
    "输出：[1,1]\n",
    "\n",
    "解释：A = 1, B = 1. A + B = n 并且 A 和 B 的十进制表示形式都不包含任何 0 。\n",
    "\n",
    "### 示例 2：\n",
    "\n",
    "输入：n = 11\n",
    "\n",
    "输出：[2,9]\n",
    "\n",
    "### 示例 3：\n",
    "\n",
    "输入：n = 10000\n",
    "\n",
    "输出：[1,9999]\n",
    "\n",
    "### 示例 4：\n",
    "\n",
    "输入：n = 69\n",
    "\n",
    "输出：[1,68]\n",
    "\n",
    "### 示例 5：\n",
    "\n",
    "输入：n = 1010\n",
    "\n",
    "输出：[11,999]\n",
    "\n",
    "## 三、解题思路\n",
    "\n",
    "### 一、迭代"
   ]
  },
  {
   "cell_type": "code",
   "execution_count": 1,
   "metadata": {},
   "outputs": [],
   "source": [
    "def getNoZeroIntegers(n: int):\n",
    "    for i in range(1, n // 2 + 1):\n",
    "        if str(i).count(\"0\") == 0 and str(n-i).count(\"0\") == 0:\n",
    "            return [i, n-i]\n",
    "    return []"
   ]
  },
  {
   "cell_type": "code",
   "execution_count": 2,
   "metadata": {},
   "outputs": [
    {
     "data": {
      "text/plain": [
       "[1, 1]"
      ]
     },
     "execution_count": 2,
     "metadata": {},
     "output_type": "execute_result"
    }
   ],
   "source": [
    "getNoZeroIntegers(2)"
   ]
  },
  {
   "cell_type": "code",
   "execution_count": 3,
   "metadata": {},
   "outputs": [
    {
     "data": {
      "text/plain": [
       "[2, 9]"
      ]
     },
     "execution_count": 3,
     "metadata": {},
     "output_type": "execute_result"
    }
   ],
   "source": [
    "getNoZeroIntegers(11)"
   ]
  },
  {
   "cell_type": "code",
   "execution_count": 4,
   "metadata": {},
   "outputs": [
    {
     "data": {
      "text/plain": [
       "[1, 9999]"
      ]
     },
     "execution_count": 4,
     "metadata": {},
     "output_type": "execute_result"
    }
   ],
   "source": [
    "getNoZeroIntegers(10000)"
   ]
  },
  {
   "cell_type": "code",
   "execution_count": 5,
   "metadata": {},
   "outputs": [
    {
     "data": {
      "text/plain": [
       "[11, 999]"
      ]
     },
     "execution_count": 5,
     "metadata": {},
     "output_type": "execute_result"
    }
   ],
   "source": [
    "getNoZeroIntegers(1010)"
   ]
  },
  {
   "cell_type": "markdown",
   "metadata": {},
   "source": [
    "### 二、随机数"
   ]
  },
  {
   "cell_type": "code",
   "execution_count": 6,
   "metadata": {},
   "outputs": [],
   "source": [
    "def getNoZeroIntegers(n: int):\n",
    "    import random\n",
    "    while True:\n",
    "        i = random.randint(1,n)\n",
    "        if str(i).count(\"0\") == 0 and str(n-i).count(\"0\") == 0:\n",
    "            return [i, n-i]"
   ]
  },
  {
   "cell_type": "code",
   "execution_count": 7,
   "metadata": {},
   "outputs": [
    {
     "data": {
      "text/plain": [
       "[1, 1]"
      ]
     },
     "execution_count": 7,
     "metadata": {},
     "output_type": "execute_result"
    }
   ],
   "source": [
    "getNoZeroIntegers(2)"
   ]
  },
  {
   "cell_type": "code",
   "execution_count": 8,
   "metadata": {},
   "outputs": [
    {
     "data": {
      "text/plain": [
       "[7, 4]"
      ]
     },
     "execution_count": 8,
     "metadata": {},
     "output_type": "execute_result"
    }
   ],
   "source": [
    "getNoZeroIntegers(11)"
   ]
  },
  {
   "cell_type": "code",
   "execution_count": 9,
   "metadata": {},
   "outputs": [
    {
     "data": {
      "text/plain": [
       "[8726, 1274]"
      ]
     },
     "execution_count": 9,
     "metadata": {},
     "output_type": "execute_result"
    }
   ],
   "source": [
    "getNoZeroIntegers(10000)"
   ]
  },
  {
   "cell_type": "code",
   "execution_count": 10,
   "metadata": {},
   "outputs": [
    {
     "data": {
      "text/plain": [
       "[211, 799]"
      ]
     },
     "execution_count": 10,
     "metadata": {},
     "output_type": "execute_result"
    }
   ],
   "source": [
    "getNoZeroIntegers(1010)"
   ]
  },
  {
   "cell_type": "code",
   "execution_count": null,
   "metadata": {},
   "outputs": [],
   "source": []
  }
 ],
 "metadata": {
  "kernelspec": {
   "display_name": "Python 3",
   "language": "python",
   "name": "python3"
  },
  "language_info": {
   "codemirror_mode": {
    "name": "ipython",
    "version": 3
   },
   "file_extension": ".py",
   "mimetype": "text/x-python",
   "name": "python",
   "nbconvert_exporter": "python",
   "pygments_lexer": "ipython3",
   "version": "3.6.5"
  }
 },
 "nbformat": 4,
 "nbformat_minor": 2
}
