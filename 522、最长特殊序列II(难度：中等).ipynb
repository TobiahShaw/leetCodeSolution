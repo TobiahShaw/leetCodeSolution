{
 "cells": [
  {
   "cell_type": "markdown",
   "metadata": {},
   "source": [
    "# 最长特殊序列II\n",
    "\n",
    "**题目来源：力扣（LeetCode）**\n",
    "\n",
    "**链接：https://leetcode-cn.com/problems/longest-uncommon-subsequence-ii/**\n",
    "\n",
    "## 一、题目\n",
    "\n",
    "给定字符串列表 strs ，返回 它们中 最长的特殊序列 。如果最长特殊序列不存在，返回 -1 。\n",
    "\n",
    "最长特殊序列 定义如下：该序列为某字符串 独有的最长子序列（即不能是其他字符串的子序列）。\n",
    "\n",
    "s 的 子序列可以通过删去字符串 s 中的某些字符实现。\n",
    "\n",
    "- 例如，\"abc\" 是 \"aebdc\" 的子序列，因为您可以删除\"aebdc\"中的下划线字符来得到 \"abc\" 。\"aebdc\"的子序列还包括\"aebdc\"、 \"aeb\" 和 \"\" (空字符串)。\n",
    "\n",
    "### 提示:\n",
    "\n",
    "- 2 <= strs.length <= 50\n",
    "- 1 <= strs[i].length <= 10\n",
    "- strs[i] 只包含小写英文字母\n",
    "\n",
    "## 二、示例\n",
    "\n",
    "### 示例 1：\n",
    "\n",
    "输入: strs = [\"aba\",\"cdc\",\"eae\"]\n",
    "\n",
    "输出: 3\n",
    "\n",
    "### 示例 2:\n",
    "\n",
    "输入: strs = [\"aaa\",\"aaa\",\"aa\"]\n",
    "\n",
    "输出: -1\n",
    "\n",
    "## 三、解题思路\n",
    "\n",
    "### 暴力"
   ]
  },
  {
   "cell_type": "code",
   "execution_count": 1,
   "metadata": {},
   "outputs": [],
   "source": [
    "def findLUSlength(strs) -> int:\n",
    "    # 判读s1是否是s2的子序列\n",
    "    def check(s1, s2):\n",
    "        if len(s1) > len(s2): return False\n",
    "        if s1 == s2: return True\n",
    "        i, loc = 0, -1\n",
    "        loc = s2.find(s1[i], loc + 1)\n",
    "        while i < len(s1) and loc != -1:\n",
    "            i += 1\n",
    "            if i < len(s1):\n",
    "                loc = s2.find(s1[i], loc + 1)\n",
    "        return i == len(s1)\n",
    "    \n",
    "    # 按长度从长到短排序\n",
    "    strs.sort(key=len, reverse=True)\n",
    "    for idx1, s1 in enumerate(strs):\n",
    "        # 看s1是否全不是其他字符串的子序列的\n",
    "        if all(not check(s1, s2) for idx2, s2 in enumerate(strs) if idx1 != idx2): return len(s1)\n",
    "    return -1"
   ]
  },
  {
   "cell_type": "code",
   "execution_count": 2,
   "metadata": {},
   "outputs": [
    {
     "data": {
      "text/plain": [
       "3"
      ]
     },
     "execution_count": 2,
     "metadata": {},
     "output_type": "execute_result"
    }
   ],
   "source": [
    "findLUSlength([\"aba\",\"cdc\",\"eae\"])"
   ]
  },
  {
   "cell_type": "code",
   "execution_count": 3,
   "metadata": {},
   "outputs": [
    {
     "data": {
      "text/plain": [
       "-1"
      ]
     },
     "execution_count": 3,
     "metadata": {},
     "output_type": "execute_result"
    }
   ],
   "source": [
    "findLUSlength([\"aaa\",\"aaa\",\"aa\"])"
   ]
  },
  {
   "cell_type": "code",
   "execution_count": null,
   "metadata": {},
   "outputs": [],
   "source": []
  }
 ],
 "metadata": {
  "kernelspec": {
   "display_name": "Python 3",
   "language": "python",
   "name": "python3"
  },
  "language_info": {
   "codemirror_mode": {
    "name": "ipython",
    "version": 3
   },
   "file_extension": ".py",
   "mimetype": "text/x-python",
   "name": "python",
   "nbconvert_exporter": "python",
   "pygments_lexer": "ipython3",
   "version": "3.6.5"
  }
 },
 "nbformat": 4,
 "nbformat_minor": 2
}
