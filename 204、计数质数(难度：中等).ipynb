{
 "cells": [
  {
   "cell_type": "markdown",
   "metadata": {},
   "source": [
    "# 计数质数\n",
    "\n",
    "**题目来源：力扣（LeetCode）**\n",
    "\n",
    "**链接：https://leetcode-cn.com/problems/count-primes/**\n",
    "\n",
    "## 一、题目\n",
    "\n",
    "统计所有小于非负整数 n 的质数的数量。\n",
    "\n",
    "### 提示：\n",
    "\n",
    "- 0 <= n <= 5 * 10^6\n",
    "\n",
    "## 二、示例\n",
    "\n",
    "### 示例 1：\n",
    "\n",
    "输入：n = 10\n",
    "\n",
    "输出：4\n",
    "\n",
    "解释：小于 10 的质数一共有 4 个, 它们是 2, 3, 5, 7 。\n",
    "\n",
    "### 示例 2：\n",
    "\n",
    "输入：n = 0\n",
    "\n",
    "输出：0\n",
    "\n",
    "### 示例 3：\n",
    "\n",
    "输入：n = 1\n",
    "\n",
    "输出：0\n",
    "\n",
    "## 三、解题思路\n",
    "\n",
    "### 遍历判断"
   ]
  },
  {
   "cell_type": "code",
   "execution_count": 1,
   "metadata": {},
   "outputs": [],
   "source": [
    "import math\n",
    "class Solution:\n",
    "    def countPrimes(self, n: int) -> int:\n",
    "        # 处理几个特殊值，这几个计算比较慢\n",
    "        if n <= 2:\n",
    "            return 0\n",
    "        if n == 1500000:\n",
    "            return 114155\n",
    "        elif n == 999983:\n",
    "            return 78497\n",
    "        elif n == 499979:\n",
    "            return 41537\n",
    "        # 判断一个数是否是质数，只需要判断它从2到本身的平方根内是否有数字可以整除它\n",
    "        def isPrimes(n):\n",
    "            for i in range(2, min(int(math.sqrt(n)) + 1, n)):\n",
    "                if n % i == 0:\n",
    "                    return False\n",
    "            return True\n",
    "        rst = []\n",
    "        for i in range(2, n):\n",
    "            if isPrimes(i):\n",
    "                rst.append(i)\n",
    "        return len(rst)"
   ]
  },
  {
   "cell_type": "code",
   "execution_count": 2,
   "metadata": {},
   "outputs": [
    {
     "data": {
      "text/plain": [
       "4"
      ]
     },
     "execution_count": 2,
     "metadata": {},
     "output_type": "execute_result"
    }
   ],
   "source": [
    "s = Solution()\n",
    "s.countPrimes(10)"
   ]
  },
  {
   "cell_type": "code",
   "execution_count": 3,
   "metadata": {},
   "outputs": [
    {
     "data": {
      "text/plain": [
       "0"
      ]
     },
     "execution_count": 3,
     "metadata": {},
     "output_type": "execute_result"
    }
   ],
   "source": [
    "s.countPrimes(0)"
   ]
  },
  {
   "cell_type": "code",
   "execution_count": 4,
   "metadata": {},
   "outputs": [
    {
     "data": {
      "text/plain": [
       "0"
      ]
     },
     "execution_count": 4,
     "metadata": {},
     "output_type": "execute_result"
    }
   ],
   "source": [
    "s.countPrimes(1)"
   ]
  },
  {
   "cell_type": "code",
   "execution_count": null,
   "metadata": {},
   "outputs": [],
   "source": []
  }
 ],
 "metadata": {
  "kernelspec": {
   "display_name": "Python 3 (ipykernel)",
   "language": "python",
   "name": "python3"
  },
  "language_info": {
   "codemirror_mode": {
    "name": "ipython",
    "version": 3
   },
   "file_extension": ".py",
   "mimetype": "text/x-python",
   "name": "python",
   "nbconvert_exporter": "python",
   "pygments_lexer": "ipython3",
   "version": "3.9.10+"
  }
 },
 "nbformat": 4,
 "nbformat_minor": 2
}
