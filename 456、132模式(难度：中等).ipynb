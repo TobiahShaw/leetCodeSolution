{
 "cells": [
  {
   "cell_type": "markdown",
   "metadata": {},
   "source": [
    "# 132模式\n",
    "\n",
    "**题目来源：力扣（LeetCode）**\n",
    "\n",
    "**链接：https://leetcode-cn.com/problems/132-pattern/**\n",
    "\n",
    "## 一、题目\n",
    "\n",
    "给定一个整数序列：a1, a2, ..., an，一个132模式的子序列 ai, aj, ak 被定义为：当 i < j < k 时，ai < ak < aj。设计一个算法，当给定有 n 个数字的序列时，验证这个序列中是否含有132模式的子序列。\n",
    "\n",
    "注意：n 的值小于15000。\n",
    "\n",
    "## 二、示例\n",
    "\n",
    "### 示例 1：\n",
    "\n",
    "输入: [1, 2, 3, 4]\n",
    "\n",
    "输出: False\n",
    "\n",
    "解释: 序列中不存在132模式的子序列。\n",
    "\n",
    "### 示例 2:\n",
    "\n",
    "输入: [3, 1, 4, 2]\n",
    "\n",
    "输出: True\n",
    "\n",
    "解释: 序列中有 1 个132模式的子序列： [1, 4, 2].\n",
    "\n",
    "### 示例 3:\n",
    "\n",
    "输入: [-1, 3, 2, 0]\n",
    "\n",
    "输出: True\n",
    "\n",
    "解释: 序列中有 3 个132模式的的子序列: [-1, 3, 2], [-1, 3, 0] 和 [-1, 2, 0].\n",
    "\n",
    "## 三、解题思路\n",
    "\n",
    "### 利用栈"
   ]
  },
  {
   "cell_type": "code",
   "execution_count": 1,
   "metadata": {},
   "outputs": [],
   "source": [
    "def find132pattern(nums) -> bool:\n",
    "    ak = float(\"-inf\")\n",
    "    stack = []\n",
    "    for num in reversed(nums):\n",
    "        if ak > num: return True\n",
    "        while stack and stack[-1] < num:\n",
    "            ak = stack.pop()\n",
    "        stack.append(num)\n",
    "    return False"
   ]
  },
  {
   "cell_type": "code",
   "execution_count": 2,
   "metadata": {},
   "outputs": [
    {
     "data": {
      "text/plain": [
       "False"
      ]
     },
     "execution_count": 2,
     "metadata": {},
     "output_type": "execute_result"
    }
   ],
   "source": [
    "find132pattern([1, 2, 3, 4])"
   ]
  },
  {
   "cell_type": "code",
   "execution_count": 3,
   "metadata": {},
   "outputs": [
    {
     "data": {
      "text/plain": [
       "True"
      ]
     },
     "execution_count": 3,
     "metadata": {},
     "output_type": "execute_result"
    }
   ],
   "source": [
    "find132pattern([3, 1, 4, 2])"
   ]
  },
  {
   "cell_type": "code",
   "execution_count": 4,
   "metadata": {},
   "outputs": [
    {
     "data": {
      "text/plain": [
       "True"
      ]
     },
     "execution_count": 4,
     "metadata": {},
     "output_type": "execute_result"
    }
   ],
   "source": [
    "find132pattern([-1, 3, 2, 0])"
   ]
  },
  {
   "cell_type": "code",
   "execution_count": null,
   "metadata": {},
   "outputs": [],
   "source": []
  }
 ],
 "metadata": {
  "kernelspec": {
   "display_name": "Python 3",
   "language": "python",
   "name": "python3"
  },
  "language_info": {
   "codemirror_mode": {
    "name": "ipython",
    "version": 3
   },
   "file_extension": ".py",
   "mimetype": "text/x-python",
   "name": "python",
   "nbconvert_exporter": "python",
   "pygments_lexer": "ipython3",
   "version": "3.6.5"
  }
 },
 "nbformat": 4,
 "nbformat_minor": 2
}
