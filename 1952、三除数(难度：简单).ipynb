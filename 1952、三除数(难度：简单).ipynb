{
 "cells": [
  {
   "cell_type": "markdown",
   "metadata": {},
   "source": [
    "# 三除数\n",
    "\n",
    "**题目来源：力扣（LeetCode）**\n",
    "\n",
    "**链接：https://leetcode-cn.com/problems/three-divisors/**\n",
    "\n",
    "## 一、题目\n",
    "\n",
    "给你一个整数 n 。如果 n 恰好有三个正除数 ，返回 true ；否则，返回 false 。\n",
    "\n",
    "如果存在整数 k ，满足 n = k * m ，那么整数 m 就是 n 的一个 除数 。\n",
    "\n",
    "### 提示：\n",
    "\n",
    "1 <= n <= 10000\n",
    "\n",
    "## 二、示例\n",
    "\n",
    "### 示例 1：\n",
    "\n",
    "输入：n = 2\n",
    "\n",
    "输出：false\n",
    "\n",
    "解释：2 只有两个除数：1 和 2 。\n",
    "\n",
    "### 示例 2：\n",
    "\n",
    "输入：n = 4\n",
    "\n",
    "输出：true\n",
    "\n",
    "解释：4 有三个除数：1、2 和 4 。\n",
    "\n",
    "## 三、解题思路\n",
    "\n",
    "### 暴力"
   ]
  },
  {
   "cell_type": "code",
   "execution_count": 1,
   "metadata": {},
   "outputs": [],
   "source": [
    "def isThree(n: int) -> bool:\n",
    "    count = 0\n",
    "    for i in range(1, n + 1):\n",
    "        if n % i == 0:\n",
    "            count += 1\n",
    "        if count > 3:\n",
    "            return False\n",
    "    return count == 3"
   ]
  },
  {
   "cell_type": "code",
   "execution_count": 2,
   "metadata": {},
   "outputs": [
    {
     "data": {
      "text/plain": [
       "False"
      ]
     },
     "execution_count": 2,
     "metadata": {},
     "output_type": "execute_result"
    }
   ],
   "source": [
    "isThree(2)"
   ]
  },
  {
   "cell_type": "code",
   "execution_count": 3,
   "metadata": {},
   "outputs": [
    {
     "data": {
      "text/plain": [
       "True"
      ]
     },
     "execution_count": 3,
     "metadata": {},
     "output_type": "execute_result"
    }
   ],
   "source": [
    "isThree(4)"
   ]
  },
  {
   "cell_type": "code",
   "execution_count": null,
   "metadata": {},
   "outputs": [],
   "source": []
  }
 ],
 "metadata": {
  "kernelspec": {
   "display_name": "Python 3",
   "language": "python",
   "name": "python3"
  },
  "language_info": {
   "codemirror_mode": {
    "name": "ipython",
    "version": 3
   },
   "file_extension": ".py",
   "mimetype": "text/x-python",
   "name": "python",
   "nbconvert_exporter": "python",
   "pygments_lexer": "ipython3",
   "version": "3.6.5"
  }
 },
 "nbformat": 4,
 "nbformat_minor": 2
}
