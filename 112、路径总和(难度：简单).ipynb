{
 "cells": [
  {
   "cell_type": "markdown",
   "metadata": {
    "collapsed": true
   },
   "source": [
    "# 路径总和\n",
    "\n",
    "**题目来源：力扣（LeetCode）**\n",
    "\n",
    "**链接：https://leetcode-cn.com/problems/path-sum/**\n",
    "\n",
    "## 一、题目\n",
    "\n",
    "给定一个二叉树和一个目标和，判断该树中是否存在根节点到叶子节点的路径，这条路径上所有节点值相加等于目标和。\n",
    "\n",
    "说明: 叶子节点是指没有子节点的节点。\n",
    "\n",
    "### 提示：\n",
    "\n",
    "- 树中节点的数目在范围 [0, 5000] 内\n",
    "- -1000 <= Node.val <= 1000\n",
    "- -1000 <= targetSum <= 1000\n",
    "\n",
    "## 二、示例\n",
    "\n",
    "### 示例 1：\n",
    "\n",
    "输入：root = [5,4,8,11,null,13,4,7,2,null,null,null,1], targetSum = 22\n",
    "输出：true\n",
    "解释：\n",
    "\n",
    "给定如下二叉树，以及目标和 sum = 22，\n",
    "\n",
    "```\n",
    "              5\n",
    "             / \\\n",
    "            4   8\n",
    "           /   / \\\n",
    "          11  13  4\n",
    "         /  \\    / \\\n",
    "        7    2  5   1\n",
    "\n",
    "```\n",
    "\n",
    "返回: true, 因为存在目标和为 22 的根节点到叶子节点的路径 5->4->11->2。\n",
    "\n",
    "### 示例 2：\n",
    "\n",
    "输入：root = [1,2,3], targetSum = 5\n",
    "\n",
    "输出：false\n",
    "\n",
    "解释：树中存在两条根节点到叶子节点的路径：\n",
    "\n",
    "(1 --> 2): 和为 3\n",
    "\n",
    "(1 --> 3): 和为 4\n",
    "\n",
    "不存在 sum = 5 的根节点到叶子节点的路径。\n",
    "\n",
    "```\n",
    "  1\n",
    " / \\\n",
    "2   3\n",
    "```\n",
    "\n",
    "### 示例 3：\n",
    "\n",
    "输入：root = [], targetSum = 0\n",
    "\n",
    "输出：false\n",
    "\n",
    "解释：由于树是空的，所以不存在根节点到叶子节点的路径。\n",
    "\n",
    "## 三、解题思路"
   ]
  },
  {
   "cell_type": "code",
   "execution_count": 1,
   "metadata": {},
   "outputs": [],
   "source": [
    "class TreeNode:\n",
    "    def __init__(self, x):\n",
    "        self.val = x\n",
    "        self.left = None\n",
    "        self.right = None"
   ]
  },
  {
   "cell_type": "code",
   "execution_count": 2,
   "metadata": {},
   "outputs": [],
   "source": [
    "root = TreeNode(5)\n",
    "\n",
    "root.left = TreeNode(4)\n",
    "root.right = TreeNode(8)\n",
    "\n",
    "root.left.left = TreeNode(11)\n",
    "\n",
    "root.right.left = TreeNode(13)\n",
    "root.right.right = TreeNode(4)\n",
    "\n",
    "root.left.left.left = TreeNode(7)\n",
    "root.left.left.right = TreeNode(2)\n",
    "\n",
    "root.right.right.left = TreeNode(5)\n",
    "root.right.right.right = TreeNode(1)"
   ]
  },
  {
   "cell_type": "markdown",
   "metadata": {},
   "source": [
    "### 递归\n",
    "\n",
    "- 将sum减去节点值\n",
    "- 判断是否为叶子节点\n",
    "- 如果是，返回sum是否减到0\n",
    "- 如果不是将左右节点和新的sum作为两个新的条件进行递归"
   ]
  },
  {
   "cell_type": "code",
   "execution_count": 3,
   "metadata": {},
   "outputs": [],
   "source": [
    "def hasPathSum(root, sum):\n",
    "    if not root:\n",
    "        return False\n",
    "    sum -= root.val\n",
    "    if not root.left and not root.right:\n",
    "        return sum == 0\n",
    "    return hasPathSum(root.left, sum) or hasPathSum(root.right, sum)"
   ]
  },
  {
   "cell_type": "code",
   "execution_count": 4,
   "metadata": {},
   "outputs": [
    {
     "data": {
      "text/plain": [
       "True"
      ]
     },
     "execution_count": 4,
     "metadata": {},
     "output_type": "execute_result"
    }
   ],
   "source": [
    "hasPathSum(root, 22)"
   ]
  },
  {
   "cell_type": "code",
   "execution_count": null,
   "metadata": {},
   "outputs": [],
   "source": []
  }
 ],
 "metadata": {
  "kernelspec": {
   "display_name": "Python 3",
   "language": "python",
   "name": "python3"
  },
  "language_info": {
   "codemirror_mode": {
    "name": "ipython",
    "version": 3
   },
   "file_extension": ".py",
   "mimetype": "text/x-python",
   "name": "python",
   "nbconvert_exporter": "python",
   "pygments_lexer": "ipython3",
   "version": "3.6.5"
  }
 },
 "nbformat": 4,
 "nbformat_minor": 2
}
