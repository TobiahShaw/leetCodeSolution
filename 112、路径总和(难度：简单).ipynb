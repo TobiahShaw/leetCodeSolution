{
  "cells": [
    {
      "metadata": {
        "collapsed": true
      },
      "cell_type": "markdown",
      "source": "# 路径总和\n\n**题目来源：力扣（LeetCode）**\n\n**链接：https://leetcode-cn.com/problems/path-sum/**\n\n## 一、题目\n\n给定一个二叉树和一个目标和，判断该树中是否存在根节点到叶子节点的路径，这条路径上所有节点值相加等于目标和。\n\n说明: 叶子节点是指没有子节点的节点。\n\n## 二、示例\n\n给定如下二叉树，以及目标和 sum = 22，\n\n```\n              5\n             / \\\n            4   8\n           /   / \\\n          11  13  4\n         /  \\    / \\\n        7    2  5   1\n\n```\n\n返回: true, 因为存在目标和为 22 的根节点到叶子节点的路径 5->4->11->2。\n\n\n## 三、解题思路"
    },
    {
      "metadata": {
        "trusted": true
      },
      "cell_type": "code",
      "source": "class TreeNode:\n    def __init__(self, x):\n        self.val = x\n        self.left = None\n        self.right = None",
      "execution_count": 1,
      "outputs": []
    },
    {
      "metadata": {
        "trusted": true
      },
      "cell_type": "code",
      "source": "root = TreeNode(5)\n\nroot.left = TreeNode(4)\nroot.right = TreeNode(8)\n\nroot.left.left = TreeNode(11)\n\nroot.right.left = TreeNode(13)\nroot.right.right = TreeNode(4)\n\nroot.left.left.left = TreeNode(7)\nroot.left.left.right = TreeNode(2)\n\nroot.right.right.left = TreeNode(5)\nroot.right.right.right = TreeNode(1)",
      "execution_count": 2,
      "outputs": []
    },
    {
      "metadata": {},
      "cell_type": "markdown",
      "source": "### 递归\n\n- 将sum减去节点值\n- 判断是否为叶子节点\n- 如果是，返回sum是否减到0\n- 如果不是将左右节点和新的sum作为两个新的条件进行递归"
    },
    {
      "metadata": {
        "trusted": true
      },
      "cell_type": "code",
      "source": "def hasPathSum(root, sum):\n    if not root:\n        return False\n    sum -= root.val\n    if not root.left and not root.right:\n        return sum == 0\n    return hasPathSum(root.left, sum) or hasPathSum(root.right, sum)",
      "execution_count": 3,
      "outputs": []
    },
    {
      "metadata": {
        "trusted": true
      },
      "cell_type": "code",
      "source": "hasPathSum(root, 22)",
      "execution_count": 4,
      "outputs": [
        {
          "output_type": "execute_result",
          "execution_count": 4,
          "data": {
            "text/plain": "True"
          },
          "metadata": {}
        }
      ]
    },
    {
      "metadata": {
        "trusted": true
      },
      "cell_type": "code",
      "source": "",
      "execution_count": null,
      "outputs": []
    }
  ],
  "metadata": {
    "kernelspec": {
      "name": "python36",
      "display_name": "Python 3.6",
      "language": "python"
    },
    "language_info": {
      "mimetype": "text/x-python",
      "nbconvert_exporter": "python",
      "name": "python",
      "pygments_lexer": "ipython3",
      "version": "3.6.6",
      "file_extension": ".py",
      "codemirror_mode": {
        "version": 3,
        "name": "ipython"
      }
    }
  },
  "nbformat": 4,
  "nbformat_minor": 2
}