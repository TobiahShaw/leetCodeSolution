{
 "cells": [
  {
   "cell_type": "markdown",
   "metadata": {},
   "source": [
    "# 最优除法\n",
    "\n",
    "**题目来源：力扣（LeetCode）**\n",
    "\n",
    "**链接：https://leetcode-cn.com/problems/optimal-division/**\n",
    "\n",
    "## 一、题目\n",
    "\n",
    "给定一组正整数，相邻的整数之间将会进行浮点除法操作。例如， [2,3,4] -> 2 / 3 / 4 。\n",
    "\n",
    "但是，你可以在任意位置添加任意数目的括号，来改变算数的优先级。你需要找出怎么添加括号，才能得到最大的结果，并且返回相应的字符串格式的表达式。你的表达式不应该含有冗余的括号。\n",
    "\n",
    "### 说明:\n",
    "\n",
    "- 输入数组的长度在 [1, 10] 之间。\n",
    "- 数组中每个元素的大小都在 [2, 1000] 之间。\n",
    "- 每个测试用例只有一个最优除法解。\n",
    "\n",
    "## 二、示例\n",
    "\n",
    "输入: [1000,100,10,2]\n",
    "\n",
    "输出: \"1000/(100/10/2)\"\n",
    "\n",
    "解释:\n",
    "\n",
    "1000/(100/10/2) = 1000/((100/10)/2) = 200\n",
    "\n",
    "但是，以下加粗的括号 \"1000/((100/10)/2)\" 是冗余的，\n",
    "\n",
    "因为他们并不影响操作的优先级，所以你需要返回 \"1000/(100/10/2)\"。\n",
    "\n",
    "其他用例:\n",
    "\n",
    "1000/(100/10)/2 = 50\n",
    "\n",
    "1000/(100/(10/2)) = 50\n",
    "\n",
    "1000/100/10/2 = 0.5\n",
    "\n",
    "1000/100/(10/2) = 2\n",
    "\n",
    "## 三、解题思路\n",
    "\n",
    "### 贪心"
   ]
  },
  {
   "cell_type": "code",
   "execution_count": 1,
   "metadata": {},
   "outputs": [],
   "source": [
    "def optimalDivision(nums) -> str:\n",
    "    if len(nums) == 1:\n",
    "        return str(nums[0])\n",
    "    if len(nums) == 2:\n",
    "        return str(nums[0]) + \"/\" + str(nums[1])\n",
    "    return str(nums[0]) + \"/(\" + \"/\".join(map(str, nums[1:])) + \")\""
   ]
  },
  {
   "cell_type": "code",
   "execution_count": 2,
   "metadata": {},
   "outputs": [
    {
     "data": {
      "text/plain": [
       "'1000/(100/10/2)'"
      ]
     },
     "execution_count": 2,
     "metadata": {},
     "output_type": "execute_result"
    }
   ],
   "source": [
    "optimalDivision([1000,100,10,2])"
   ]
  },
  {
   "cell_type": "code",
   "execution_count": null,
   "metadata": {},
   "outputs": [],
   "source": []
  }
 ],
 "metadata": {
  "kernelspec": {
   "display_name": "Python 3",
   "language": "python",
   "name": "python3"
  },
  "language_info": {
   "codemirror_mode": {
    "name": "ipython",
    "version": 3
   },
   "file_extension": ".py",
   "mimetype": "text/x-python",
   "name": "python",
   "nbconvert_exporter": "python",
   "pygments_lexer": "ipython3",
   "version": "3.6.5"
  }
 },
 "nbformat": 4,
 "nbformat_minor": 2
}
