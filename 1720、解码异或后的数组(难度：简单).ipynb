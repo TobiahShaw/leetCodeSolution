{
 "cells": [
  {
   "cell_type": "markdown",
   "metadata": {},
   "source": [
    "# 解码异或后的数组\n",
    "\n",
    "**题目来源：力扣（LeetCode）**\n",
    "\n",
    "**链接：https://leetcode-cn.com/problems/decode-xored-array/**\n",
    "\n",
    "## 一、题目\n",
    "\n",
    "未知 整数数组 arr 由 n 个非负整数组成。\n",
    "\n",
    "经编码后变为长度为 n - 1 的另一个整数数组 encoded ，其中 encoded[i] = arr[i] XOR arr[i + 1] 。例如，arr = [1,0,2,1] 经编码后得到 encoded = [1,2,3] 。\n",
    "\n",
    "给你编码后的数组 encoded 和原数组 arr 的第一个元素 first（arr[0]）。\n",
    "\n",
    "请解码返回原数组 arr 。可以证明答案存在并且是唯一的。\n",
    "\n",
    "### 提示：\n",
    "\n",
    "- 2 <= n <= 10^4\n",
    "- encoded.length == n - 1\n",
    "- 0 <= encoded[i] <= 10^5\n",
    "- 0 <= first <= 10^5\n",
    "\n",
    "## 二、示例\n",
    "\n",
    "### 示例 1：\n",
    "\n",
    "输入：encoded = [1,2,3], first = 1\n",
    "\n",
    "输出：[1,0,2,1]\n",
    "\n",
    "解释：若 arr = [1,0,2,1] ，那么 first = 1 且 encoded = [1 XOR 0, 0 XOR 2, 2 XOR 1] = [1,2,3]\n",
    "\n",
    "### 示例 2：\n",
    "\n",
    "输入：encoded = [6,2,7,3], first = 4\n",
    "\n",
    "输出：[4,2,0,7,4]\n",
    "\n",
    "## 三、解题思路\n",
    "\n",
    "### 轮询"
   ]
  },
  {
   "cell_type": "code",
   "execution_count": 1,
   "metadata": {},
   "outputs": [],
   "source": [
    "def decode(encoded, first: int):\n",
    "    encoded.insert(0, first)\n",
    "    for i in range(1, len(encoded)):\n",
    "        encoded[i] ^= encoded[i-1]\n",
    "    return encoded"
   ]
  },
  {
   "cell_type": "code",
   "execution_count": 2,
   "metadata": {},
   "outputs": [
    {
     "data": {
      "text/plain": [
       "[1, 0, 2, 1]"
      ]
     },
     "execution_count": 2,
     "metadata": {},
     "output_type": "execute_result"
    }
   ],
   "source": [
    "decode(encoded = [1,2,3], first = 1)"
   ]
  },
  {
   "cell_type": "code",
   "execution_count": 3,
   "metadata": {},
   "outputs": [
    {
     "data": {
      "text/plain": [
       "[4, 2, 0, 7, 4]"
      ]
     },
     "execution_count": 3,
     "metadata": {},
     "output_type": "execute_result"
    }
   ],
   "source": [
    "decode(encoded = [6,2,7,3], first = 4)"
   ]
  },
  {
   "cell_type": "code",
   "execution_count": null,
   "metadata": {},
   "outputs": [],
   "source": []
  }
 ],
 "metadata": {
  "kernelspec": {
   "display_name": "Python 3",
   "language": "python",
   "name": "python3"
  },
  "language_info": {
   "codemirror_mode": {
    "name": "ipython",
    "version": 3
   },
   "file_extension": ".py",
   "mimetype": "text/x-python",
   "name": "python",
   "nbconvert_exporter": "python",
   "pygments_lexer": "ipython3",
   "version": "3.6.5"
  }
 },
 "nbformat": 4,
 "nbformat_minor": 2
}
