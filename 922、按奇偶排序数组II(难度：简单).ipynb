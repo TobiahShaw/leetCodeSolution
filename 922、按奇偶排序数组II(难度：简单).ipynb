{
 "cells": [
  {
   "cell_type": "markdown",
   "metadata": {},
   "source": [
    "# 按奇偶排序数组II\n",
    "\n",
    "**题目来源：力扣（LeetCode）**\n",
    "\n",
    "**链接：https://leetcode-cn.com/problems/sort-array-by-parity-ii/**\n",
    "\n",
    "## 一、题目\n",
    "\n",
    "给定一个非负整数数组 A， A 中一半整数是奇数，一半整数是偶数。\n",
    "\n",
    "对数组进行排序，以便当 A[i] 为奇数时，i 也是奇数；当 A[i] 为偶数时， i 也是偶数。\n",
    "\n",
    "你可以返回任何满足上述条件的数组作为答案。\n",
    "\n",
    "## 二、示例\n",
    "\n",
    "输入：[4,2,5,7]\n",
    "\n",
    "输出：[4,5,2,7]\n",
    "\n",
    "解释：[4,7,2,5]，[2,5,4,7]，[2,7,4,5] 也会被接受。\n",
    "\n",
    "## 三、解题思路\n",
    "\n",
    "### 一、双指针\n",
    "\n",
    "1. 一个指针从前向后，标识当前处理的位置\n",
    "2. 如不需要处理则直接跳过\n",
    "3. 如不符合要求，第二个指针从后向前找符合要求的找到之后交换\n",
    "4. 然后重复上述步骤即可"
   ]
  },
  {
   "cell_type": "code",
   "execution_count": 1,
   "metadata": {},
   "outputs": [],
   "source": [
    "def sortArrayByParityII(A):\n",
    "    n = len(A)\n",
    "    for i in range(n):\n",
    "        if i % 2 == A[i] % 2:\n",
    "            continue\n",
    "        j = n-1\n",
    "        while j > i:\n",
    "            if i % 2 == A[j] % 2:\n",
    "                A[i], A[j] = A[j], A[i]\n",
    "                break\n",
    "            j-=1\n",
    "    return A"
   ]
  },
  {
   "cell_type": "code",
   "execution_count": 2,
   "metadata": {},
   "outputs": [
    {
     "data": {
      "text/plain": [
       "[4, 7, 2, 5]"
      ]
     },
     "execution_count": 2,
     "metadata": {},
     "output_type": "execute_result"
    }
   ],
   "source": [
    "sortArrayByParityII([4,2,5,7])"
   ]
  },
  {
   "cell_type": "markdown",
   "metadata": {},
   "source": [
    "### 二、两次循环"
   ]
  },
  {
   "cell_type": "code",
   "execution_count": 3,
   "metadata": {},
   "outputs": [],
   "source": [
    "def sortArrayByParityII(A):\n",
    "    n = len(A)\n",
    "    odd, even = [], []\n",
    "    for i in range(n):\n",
    "        if A[i] % 2 == 0:\n",
    "            even.append(A[i])\n",
    "        else:\n",
    "            odd.append(A[i])\n",
    "    for i in range(n):\n",
    "        if i % 2 == 0:\n",
    "            A[i] = even.pop()\n",
    "        else:\n",
    "            A[i] = odd.pop()\n",
    "    return A"
   ]
  },
  {
   "cell_type": "code",
   "execution_count": 4,
   "metadata": {},
   "outputs": [
    {
     "data": {
      "text/plain": [
       "[2, 7, 4, 5]"
      ]
     },
     "execution_count": 4,
     "metadata": {},
     "output_type": "execute_result"
    }
   ],
   "source": [
    "sortArrayByParityII([4,2,5,7])"
   ]
  },
  {
   "cell_type": "code",
   "execution_count": null,
   "metadata": {},
   "outputs": [],
   "source": []
  }
 ],
 "metadata": {
  "kernelspec": {
   "display_name": "Python 3",
   "language": "python",
   "name": "python3"
  },
  "language_info": {
   "codemirror_mode": {
    "name": "ipython",
    "version": 3
   },
   "file_extension": ".py",
   "mimetype": "text/x-python",
   "name": "python",
   "nbconvert_exporter": "python",
   "pygments_lexer": "ipython3",
   "version": "3.6.5"
  }
 },
 "nbformat": 4,
 "nbformat_minor": 2
}
