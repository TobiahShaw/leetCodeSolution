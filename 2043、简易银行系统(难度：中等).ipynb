{
 "cells": [
  {
   "cell_type": "markdown",
   "metadata": {},
   "source": [
    "# 简易银行系统\n",
    "\n",
    "**题目来源：力扣（LeetCode）**\n",
    "\n",
    "**链接：https://leetcode-cn.com/problems/simple-bank-system/**\n",
    "\n",
    "## 一、题目\n",
    "\n",
    "你的任务是为一个很受欢迎的银行设计一款程序，以自动化执行所有传入的交易（转账，存款和取款）。银行共有 n 个账户，编号从 1 到 n 。每个账号的初始余额存储在一个下标从 0 开始的整数数组 balance 中，其中第 (i + 1) 个账户的初始余额是 balance[i] 。\n",
    "\n",
    "请你执行所有 有效的 交易。如果满足下面全部条件，则交易 有效 ：\n",
    "\n",
    "- 指定的账户数量在 1 和 n 之间，且\n",
    "- 取款或者转账需要的钱的总数 小于或者等于 账户余额。\n",
    "\n",
    "实现 Bank 类：\n",
    "\n",
    "- Bank(long[] balance) 使用下标从 0 开始的整数数组 balance 初始化该对象。\n",
    "- boolean transfer(int account1, int account2, long money) 从编号为 account1 的账户向编号为 account2 的账户转帐 money 美元。如果交易成功，返回 true ，否则，返回 false 。\n",
    "- boolean deposit(int account, long money) 向编号为 account 的账户存款 money 美元。如果交易成功，返回 true ；否则，返回 false 。\n",
    "- boolean withdraw(int account, long money) 从编号为 account 的账户取款 money 美元。如果交易成功，返回 true ；否则，返回 false 。\n",
    "\n",
    "### 提示：\n",
    "\n",
    "- n == balance.length\n",
    "- 1 <= n, account, account1, account2 <= 10^5\n",
    "- 0 <= balance[i], money <= 10^12\n",
    "- transfer, deposit, withdraw 三个函数，每个 最多调用 10^4 次\n",
    "\n",
    "## 二、示例\n",
    "\n",
    "输入：\n",
    "\n",
    "[\"Bank\", \"withdraw\", \"transfer\", \"deposit\", \"transfer\", \"withdraw\"]\n",
    "\n",
    "[[[10, 100, 20, 50, 30]], [3, 10], [5, 1, 20], [5, 20], [3, 4, 15], [10, 50]]\n",
    "\n",
    "输出：\n",
    "\n",
    "[null, true, true, true, false, false]\n",
    "\n",
    "解释：\n",
    "\n",
    "```\n",
    "bank = Bank([10, 100, 20, 50, 30])\n",
    "bank.withdraw(3, 10)    # 返回 true ，账户 3 的余额是 $20 ，所以可以取款 $10 。 账户 3 余额为 $20 - $10 = $10 。\n",
    "bank.transfer(5, 1, 20) # 返回 true ，账户 5 的余额是 $30 ，所以可以转账 $20 。 账户 5 的余额为 $30 - $20 = $10 ，账户 1 的余额为 $10 + $20 = $30 。\n",
    "bank.deposit(5, 20)     # 返回 true ，可以向账户 5 存款 $20 。 账户 5 的余额为 $10 + $20 = $30 。\n",
    "bank.transfer(3, 4, 15) # 返回 false ，账户 3 的当前余额是 $10 。 所以无法转账 $15 。\n",
    "bank.withdraw(10, 50)   # 返回 false ，交易无效，因为账户 10 并不存在。\n",
    "```\n",
    "\n",
    "## 三、解题思路"
   ]
  },
  {
   "cell_type": "code",
   "execution_count": 1,
   "metadata": {},
   "outputs": [],
   "source": [
    "class Bank:\n",
    "\n",
    "    def __init__(self, balance):\n",
    "        self.balance = balance\n",
    "        self.balLen = len(balance)\n",
    "\n",
    "    def transfer(self, account1: int, account2: int, money: int) -> bool:\n",
    "        account1 -= 1\n",
    "        account2 -= 1\n",
    "        if account1 >= self.balLen or account1 < 0 or account2 >= self.balLen or account2 < 0:\n",
    "            return False\n",
    "        if money > self.balance[account1]:\n",
    "            return False\n",
    "        self.balance[account1] -= money\n",
    "        self.balance[account2] += money\n",
    "        return True\n",
    "\n",
    "    def deposit(self, account: int, money: int) -> bool:\n",
    "        account -= 1\n",
    "        if account >= self.balLen or account < 0:\n",
    "            return False\n",
    "        if self.balance[account] + money < 0:\n",
    "            return False\n",
    "        self.balance[account] += money\n",
    "        return True\n",
    "\n",
    "    def withdraw(self, account: int, money: int) -> bool:\n",
    "        account -= 1\n",
    "        if account >= self.balLen or account < 0:\n",
    "            return False\n",
    "        if self.balance[account] - money < 0:\n",
    "            return False\n",
    "        self.balance[account] -= money\n",
    "        return True"
   ]
  },
  {
   "cell_type": "code",
   "execution_count": 2,
   "metadata": {},
   "outputs": [
    {
     "name": "stdout",
     "output_type": "stream",
     "text": [
      "True\n",
      "True\n",
      "True\n",
      "False\n",
      "False\n"
     ]
    }
   ],
   "source": [
    "bank = Bank([10, 100, 20, 50, 30])\n",
    "print(bank.withdraw(3, 10))    # 返回 true ，账户 3 的余额是 $20 ，所以可以取款 $10 。 账户 3 余额为 $20 - $10 = $10 。\n",
    "print(bank.transfer(5, 1, 20)) # 返回 true ，账户 5 的余额是 $30 ，所以可以转账 $20 。 账户 5 的余额为 $30 - $20 = $10 ，账户 1 的余额为 $10 + $20 = $30 。\n",
    "print(bank.deposit(5, 20))     # 返回 true ，可以向账户 5 存款 $20 。 账户 5 的余额为 $10 + $20 = $30 。\n",
    "print(bank.transfer(3, 4, 15)) # 返回 false ，账户 3 的当前余额是 $10 。 所以无法转账 $15 。\n",
    "print(bank.withdraw(10, 50))   # 返回 false ，交易无效，因为账户 10 并不存在。"
   ]
  },
  {
   "cell_type": "code",
   "execution_count": null,
   "metadata": {},
   "outputs": [],
   "source": []
  }
 ],
 "metadata": {
  "kernelspec": {
   "display_name": "Python 3",
   "language": "python",
   "name": "python3"
  },
  "language_info": {
   "codemirror_mode": {
    "name": "ipython",
    "version": 3
   },
   "file_extension": ".py",
   "mimetype": "text/x-python",
   "name": "python",
   "nbconvert_exporter": "python",
   "pygments_lexer": "ipython3",
   "version": "3.6.5"
  }
 },
 "nbformat": 4,
 "nbformat_minor": 2
}
