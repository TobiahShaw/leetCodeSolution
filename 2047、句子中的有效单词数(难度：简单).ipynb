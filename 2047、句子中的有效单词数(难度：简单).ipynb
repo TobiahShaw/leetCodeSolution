{
 "cells": [
  {
   "cell_type": "markdown",
   "metadata": {},
   "source": [
    "# 句子中的有效单词数\n",
    "\n",
    "**题目来源：力扣（LeetCode）**\n",
    "\n",
    "**链接：https://leetcode-cn.com/problems/number-of-valid-words-in-a-sentence/**\n",
    "\n",
    "## 一、题目\n",
    "\n",
    "句子仅由小写字母（'a' 到 'z'）、数字（'0' 到 '9'）、连字符（'-'）、标点符号（'!'、'.' 和 ','）以及空格（' '）组成。每个句子可以根据空格分解成 一个或者多个 token ，这些 token 之间由一个或者多个空格 ' ' 分隔。\n",
    "\n",
    "如果一个 token 同时满足下述条件，则认为这个 token 是一个有效单词：\n",
    "\n",
    "- 仅由小写字母、连字符和/或标点（不含数字）。\n",
    "- 至多一个 连字符 '-' 。如果存在，连字符两侧应当都存在小写字母（\"a-b\" 是一个有效单词，但 \"-ab\" 和 \"ab-\" 不是有效单词）。\n",
    "- 至多一个 标点符号。如果存在，标点符号应当位于 token 的 末尾 。\n",
    "\n",
    "这里给出几个有效单词的例子：\"a-b.\"、\"afad\"、\"ba-c\"、\"a!\" 和 \"!\" 。\n",
    "\n",
    "给你一个字符串 sentence ，请你找出并返回 sentence 中 有效单词的数目 。\n",
    "\n",
    "### 提示：\n",
    "\n",
    "- 1 <= sentence.length <= 1000\n",
    "- sentence 由小写英文字母、数字（0-9）、以及字符（' '、'-'、'!'、'.' 和 ','）组成\n",
    "- 句子中至少有 1 个 token\n",
    "\n",
    "## 二、示例\n",
    "\n",
    "### 示例 1：\n",
    "\n",
    "输入：sentence = \"cat and  dog\"\n",
    "\n",
    "输出：3\n",
    "\n",
    "解释：句子中的有效单词是 \"cat\"、\"and\" 和 \"dog\"\n",
    "\n",
    "### 示例 2：\n",
    "\n",
    "输入：sentence = \"!this  1-s b8d!\"\n",
    "\n",
    "输出：0\n",
    "\n",
    "解释：句子中没有有效单词\n",
    "\n",
    "\"!this\" 不是有效单词，因为它以一个标点开头\n",
    "\n",
    "\"1-s\" 和 \"b8d\" 也不是有效单词，因为它们都包含数字\n",
    "\n",
    "### 示例 3：\n",
    "\n",
    "输入：sentence = \"alice and  bob are playing stone-game10\"\n",
    "\n",
    "输出：5\n",
    "\n",
    "解释：句子中的有效单词是 \"alice\"、\"and\"、\"bob\"、\"are\" 和 \"playing\"\n",
    "\n",
    "\"stone-game10\" 不是有效单词，因为它含有数字\n",
    "\n",
    "### 示例 4：\n",
    "\n",
    "输入：sentence = \"he bought 2 pencils, 3 erasers, and 1  pencil-sharpener.\"\n",
    "\n",
    "输出：6\n",
    "\n",
    "解释：句子中的有效单词是 \"he\"、\"bought\"、\"pencils,\"、\"erasers,\"、\"and\" 和 \"pencil-sharpener.\"\n",
    "\n",
    "## 三、解题思路\n",
    "\n",
    "### 正则"
   ]
  },
  {
   "cell_type": "code",
   "execution_count": 1,
   "metadata": {},
   "outputs": [],
   "source": [
    "import re\n",
    "class Solution:\n",
    "    def countValidWords(self, sentence: str) -> int:\n",
    "        return sum(bool(re.match(r'[a-z]*([a-z]-[a-z]+)?[!.,]?$', w)) for w in sentence.split())"
   ]
  },
  {
   "cell_type": "code",
   "execution_count": 2,
   "metadata": {},
   "outputs": [
    {
     "data": {
      "text/plain": [
       "3"
      ]
     },
     "execution_count": 2,
     "metadata": {},
     "output_type": "execute_result"
    }
   ],
   "source": [
    "s = Solution()\n",
    "s.countValidWords(\"cat and dog\")"
   ]
  },
  {
   "cell_type": "code",
   "execution_count": 3,
   "metadata": {},
   "outputs": [
    {
     "data": {
      "text/plain": [
       "0"
      ]
     },
     "execution_count": 3,
     "metadata": {},
     "output_type": "execute_result"
    }
   ],
   "source": [
    "s.countValidWords(\"!this 1-s b8d!\")"
   ]
  },
  {
   "cell_type": "code",
   "execution_count": 4,
   "metadata": {},
   "outputs": [
    {
     "data": {
      "text/plain": [
       "5"
      ]
     },
     "execution_count": 4,
     "metadata": {},
     "output_type": "execute_result"
    }
   ],
   "source": [
    "s.countValidWords(\"alice and bob are playing stone-game10\")"
   ]
  },
  {
   "cell_type": "code",
   "execution_count": 5,
   "metadata": {},
   "outputs": [
    {
     "data": {
      "text/plain": [
       "6"
      ]
     },
     "execution_count": 5,
     "metadata": {},
     "output_type": "execute_result"
    }
   ],
   "source": [
    "s.countValidWords(\"he bought 2 pencils, 3 erasers, and 1 pencil-sharpener.\")"
   ]
  },
  {
   "cell_type": "code",
   "execution_count": null,
   "metadata": {},
   "outputs": [],
   "source": []
  }
 ],
 "metadata": {
  "kernelspec": {
   "display_name": "Python 3 (ipykernel)",
   "language": "python",
   "name": "python3"
  },
  "language_info": {
   "codemirror_mode": {
    "name": "ipython",
    "version": 3
   },
   "file_extension": ".py",
   "mimetype": "text/x-python",
   "name": "python",
   "nbconvert_exporter": "python",
   "pygments_lexer": "ipython3",
   "version": "3.11.0"
  }
 },
 "nbformat": 4,
 "nbformat_minor": 2
}
