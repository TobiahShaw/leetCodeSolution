{
 "cells": [
  {
   "cell_type": "markdown",
   "metadata": {},
   "source": [
    "# 按要求补齐数组\n",
    "\n",
    "**题目来源：力扣（LeetCode）**\n",
    "\n",
    "**链接：https://leetcode-cn.com/problems/patching-array/**\n",
    "\n",
    "## 一、题目\n",
    "\n",
    "给定一个已排序的正整数数组 nums，和一个正整数 n 。从 [1, n] 区间内选取任意个数字补充到 nums 中，使得 [1, n] 区间内的任何数字都可以用 nums 中某几个数字的和来表示。请输出满足上述要求的最少需要补充的数字个数。\n",
    "\n",
    "## 二、示例\n",
    "\n",
    "### 示例 1：\n",
    "\n",
    "输入: nums = [1,3], n = 6\n",
    "\n",
    "输出: 1 \n",
    "\n",
    "解释:\n",
    "\n",
    "根据 nums 里现有的组合 [1], [3], [1,3]，可以得出 1, 3, 4。\n",
    "\n",
    "现在如果我们将 2 添加到 nums 中， 组合变为: [1], [2], [3], [1,3], [2,3], [1,2,3]。\n",
    "\n",
    "其和可以表示数字 1, 2, 3, 4, 5, 6，能够覆盖 [1, 6] 区间里所有的数。\n",
    "\n",
    "所以我们最少需要添加一个数字。\n",
    "\n",
    "### 示例 2:\n",
    "\n",
    "输入: nums = [1,5,10], n = 20\n",
    "\n",
    "输出: 2\n",
    "\n",
    "解释: 我们需要添加 [2, 4]。\n",
    "\n",
    "### 示例 3:\n",
    "\n",
    "输入: nums = [1,2,2], n = 5\n",
    "\n",
    "输出: 0\n",
    "\n",
    "## 三、解题思路\n",
    "\n",
    "### 贪心"
   ]
  },
  {
   "cell_type": "code",
   "execution_count": 1,
   "metadata": {},
   "outputs": [],
   "source": [
    "def minPatches(nums, n: int) -> int:\n",
    "    # added 代表覆盖范围的有边界\n",
    "    added, i, count = 1, 0, 0\n",
    "    while added <= n:\n",
    "        if i < len(nums) and nums[i] <= added:\n",
    "            # 如果nums[i] <= added 则覆盖范围可增加 nums[i] 构成连续的[1, added+nums[i]]\n",
    "            # 累加右边界，移动索引\n",
    "            added += nums[i]\n",
    "            i+=1\n",
    "        else:\n",
    "            # 此时nums[i]不存在或者nums[i]大于 added 直接累加会导致不连续，则需要补一个added\n",
    "            added += added\n",
    "            count += 1\n",
    "    return count"
   ]
  },
  {
   "cell_type": "code",
   "execution_count": 2,
   "metadata": {},
   "outputs": [
    {
     "data": {
      "text/plain": [
       "1"
      ]
     },
     "execution_count": 2,
     "metadata": {},
     "output_type": "execute_result"
    }
   ],
   "source": [
    "minPatches(nums = [1,3], n = 6)"
   ]
  },
  {
   "cell_type": "code",
   "execution_count": 3,
   "metadata": {},
   "outputs": [
    {
     "data": {
      "text/plain": [
       "2"
      ]
     },
     "execution_count": 3,
     "metadata": {},
     "output_type": "execute_result"
    }
   ],
   "source": [
    "minPatches(nums = [1,5,10], n = 20)"
   ]
  },
  {
   "cell_type": "code",
   "execution_count": 4,
   "metadata": {},
   "outputs": [
    {
     "data": {
      "text/plain": [
       "0"
      ]
     },
     "execution_count": 4,
     "metadata": {},
     "output_type": "execute_result"
    }
   ],
   "source": [
    "minPatches(nums = [1,2,2], n = 5)"
   ]
  },
  {
   "cell_type": "code",
   "execution_count": null,
   "metadata": {},
   "outputs": [],
   "source": []
  }
 ],
 "metadata": {
  "kernelspec": {
   "display_name": "Python 3",
   "language": "python",
   "name": "python3"
  },
  "language_info": {
   "codemirror_mode": {
    "name": "ipython",
    "version": 3
   },
   "file_extension": ".py",
   "mimetype": "text/x-python",
   "name": "python",
   "nbconvert_exporter": "python",
   "pygments_lexer": "ipython3",
   "version": "3.6.5"
  }
 },
 "nbformat": 4,
 "nbformat_minor": 2
}
