{
 "cells": [
  {
   "cell_type": "markdown",
   "metadata": {},
   "source": [
    "# 实现 Trie 前缀树\n",
    "\n",
    "**题目来源：力扣（LeetCode）**\n",
    "\n",
    "**链接：https://leetcode-cn.com/problems/implement-trie-prefix-tree/**\n",
    "\n",
    "## 一、题目\n",
    "\n",
    "Trie（发音类似 \"try\"）或者说 前缀树 是一种树形数据结构，用于高效地存储和检索字符串数据集中的键。这一数据结构有相当多的应用情景，例如自动补完和拼写检查。\n",
    "\n",
    "请你实现 Trie 类：\n",
    "\n",
    "- Trie() 初始化前缀树对象。\n",
    "- void insert(String word) 向前缀树中插入字符串 word 。\n",
    "- boolean search(String word) 如果字符串 word 在前缀树中，返回 true（即，在检索之前已经插入）；否则，返回 false 。\n",
    "- boolean startsWith(String prefix) 如果之前已经插入的字符串 word 的前缀之一为 prefix ，返回 true ；否则，返回 false 。\n",
    "\n",
    "### 提示：\n",
    "\n",
    "- 1 <= word.length, prefix.length <= 2000\n",
    "- word 和 prefix 仅由小写英文字母组成\n",
    "- insert、search 和 startsWith 调用次数 总计 不超过 3 * 104 次\n",
    "\n",
    "## 二、示例\n",
    "\n",
    "输入\n",
    "\n",
    "[\"Trie\", \"insert\", \"search\", \"search\", \"startsWith\", \"insert\", \"search\"]\n",
    "\n",
    "[[], [\"apple\"], [\"apple\"], [\"app\"], [\"app\"], [\"app\"], [\"app\"]]\n",
    "\n",
    "输出\n",
    "\n",
    "[null, null, true, false, true, null, true]\n",
    "\n",
    "解释\n",
    "\n",
    "```\n",
    "trie = Trie()\n",
    "trie.insert(\"apple\")\n",
    "trie.search(\"apple\")   # 返回 True\n",
    "trie.search(\"app\")     # 返回 False\n",
    "trie.startsWith(\"app\") # 返回 True\n",
    "trie.insert(\"app\")\n",
    "trie.search(\"app\")     # 返回 True\n",
    "```\n",
    "\n",
    "## 三、解题思路\n",
    "\n",
    "### 字典树"
   ]
  },
  {
   "cell_type": "code",
   "execution_count": 1,
   "metadata": {},
   "outputs": [],
   "source": [
    "class Trie:\n",
    "\n",
    "    def __init__(self):\n",
    "        self.children = [None] * 26\n",
    "        self.isEnd = False\n",
    "\n",
    "    def _searchPrefix(self, prefix: str) -> \"Trie\":\n",
    "        node = self\n",
    "        for ch in prefix:\n",
    "            ch = ord(ch) - ord(\"a\")\n",
    "            if not node.children[ch]:\n",
    "                return None\n",
    "            node = node.children[ch]\n",
    "        return node\n",
    "\n",
    "    def insert(self, word: str) -> None:\n",
    "        node = self\n",
    "        for ch in word:\n",
    "            ch = ord(ch) - ord(\"a\")\n",
    "            if not node.children[ch]:\n",
    "                node.children[ch] = Trie()\n",
    "            node = node.children[ch]\n",
    "        node.isEnd = True\n",
    "\n",
    "    def search(self, word: str) -> bool:\n",
    "        node = self._searchPrefix(word)\n",
    "        # is not None 是为了防止短路后直接返回None\n",
    "        return node is not None and node.isEnd\n",
    "\n",
    "\n",
    "    def startsWith(self, prefix: str) -> bool:\n",
    "        return self._searchPrefix(prefix) is not None"
   ]
  },
  {
   "cell_type": "code",
   "execution_count": 2,
   "metadata": {},
   "outputs": [
    {
     "name": "stdout",
     "output_type": "stream",
     "text": [
      "True\n",
      "False\n",
      "True\n",
      "True\n"
     ]
    }
   ],
   "source": [
    "trie = Trie()\n",
    "trie.insert(\"apple\")\n",
    "print(trie.search(\"apple\"))   # 返回 True\n",
    "print(trie.search(\"app\"))     # 返回 False\n",
    "print(trie.startsWith(\"app\")) # 返回 True\n",
    "trie.insert(\"app\")\n",
    "print(trie.search(\"app\"))     # 返回 True"
   ]
  },
  {
   "cell_type": "code",
   "execution_count": null,
   "metadata": {},
   "outputs": [],
   "source": []
  }
 ],
 "metadata": {
  "kernelspec": {
   "display_name": "Python 3",
   "language": "python",
   "name": "python3"
  },
  "language_info": {
   "codemirror_mode": {
    "name": "ipython",
    "version": 3
   },
   "file_extension": ".py",
   "mimetype": "text/x-python",
   "name": "python",
   "nbconvert_exporter": "python",
   "pygments_lexer": "ipython3",
   "version": "3.6.5"
  }
 },
 "nbformat": 4,
 "nbformat_minor": 2
}
