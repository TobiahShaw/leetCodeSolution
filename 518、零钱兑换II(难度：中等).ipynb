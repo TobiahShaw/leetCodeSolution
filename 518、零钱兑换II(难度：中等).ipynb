{
 "cells": [
  {
   "cell_type": "markdown",
   "metadata": {},
   "source": [
    "# 零钱兑换II\n",
    "\n",
    "**题目来源：力扣（LeetCode）**\n",
    "\n",
    "**链接：https://leetcode-cn.com/problems/coin-change-2/**\n",
    "\n",
    "## 一、题目\n",
    "\n",
    "给定不同面额的硬币和一个总金额。写出函数来计算可以凑成总金额的硬币组合数。假设每一种面额的硬币有无限个。 \n",
    "\n",
    "### 注意:\n",
    "\n",
    "你可以假设：\n",
    "\n",
    "- 0 <= amount (总金额) <= 5000\n",
    "- 1 <= coin (硬币面额) <= 5000\n",
    "- 硬币种类不超过 500 种\n",
    "- 结果符合 32 位符号整数\n",
    "\n",
    "## 二、示例\n",
    "\n",
    "### 示例 1：\n",
    "\n",
    "输入: amount = 5, coins = [1, 2, 5]\n",
    "\n",
    "输出: 4\n",
    "\n",
    "解释: 有四种方式可以凑成总金额:\n",
    "\n",
    "5=5\n",
    "\n",
    "5=2+2+1\n",
    "\n",
    "5=2+1+1+1\n",
    "\n",
    "5=1+1+1+1+1\n",
    "\n",
    "### 示例 2：\n",
    "\n",
    "输入: amount = 3, coins = [2]\n",
    "\n",
    "输出: 0\n",
    "\n",
    "解释: 只用面额2的硬币不能凑成总金额3。\n",
    "\n",
    "### 示例 3:\n",
    "\n",
    "输入: amount = 10, coins = [10] \n",
    "\n",
    "输出: 1\n",
    "\n",
    "## 三、解题思路\n",
    "\n",
    "### 记忆化搜索"
   ]
  },
  {
   "cell_type": "code",
   "execution_count": 1,
   "metadata": {},
   "outputs": [],
   "source": [
    "def change(amount: int, coins) -> int:\n",
    "    from functools import lru_cache\n",
    "    n = len(coins)\n",
    "    @lru_cache(None)\n",
    "    def backtrace(index, amount):\n",
    "        if amount < 0:\n",
    "            return 0\n",
    "        if amount == 0:\n",
    "            return 1\n",
    "        if index >= n:\n",
    "            return 0\n",
    "        # 选当前硬币和不选的情况之和\n",
    "        return backtrace(index, amount - coins[index]) + backtrace(index + 1, amount)\n",
    "    return backtrace(0, amount)"
   ]
  },
  {
   "cell_type": "code",
   "execution_count": 2,
   "metadata": {},
   "outputs": [
    {
     "data": {
      "text/plain": [
       "4"
      ]
     },
     "execution_count": 2,
     "metadata": {},
     "output_type": "execute_result"
    }
   ],
   "source": [
    "change(amount = 5, coins = [1, 2, 5])"
   ]
  },
  {
   "cell_type": "code",
   "execution_count": 3,
   "metadata": {},
   "outputs": [
    {
     "data": {
      "text/plain": [
       "0"
      ]
     },
     "execution_count": 3,
     "metadata": {},
     "output_type": "execute_result"
    }
   ],
   "source": [
    "change(amount = 3, coins = [2])"
   ]
  },
  {
   "cell_type": "code",
   "execution_count": 4,
   "metadata": {},
   "outputs": [
    {
     "data": {
      "text/plain": [
       "1"
      ]
     },
     "execution_count": 4,
     "metadata": {},
     "output_type": "execute_result"
    }
   ],
   "source": [
    "change(amount = 10, coins = [10])"
   ]
  },
  {
   "cell_type": "code",
   "execution_count": null,
   "metadata": {},
   "outputs": [],
   "source": []
  }
 ],
 "metadata": {
  "kernelspec": {
   "display_name": "Python 3",
   "language": "python",
   "name": "python3"
  },
  "language_info": {
   "codemirror_mode": {
    "name": "ipython",
    "version": 3
   },
   "file_extension": ".py",
   "mimetype": "text/x-python",
   "name": "python",
   "nbconvert_exporter": "python",
   "pygments_lexer": "ipython3",
   "version": "3.6.5"
  }
 },
 "nbformat": 4,
 "nbformat_minor": 2
}
