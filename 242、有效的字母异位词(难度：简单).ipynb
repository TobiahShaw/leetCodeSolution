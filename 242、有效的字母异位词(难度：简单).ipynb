{
  "cells": [
    {
      "metadata": {
        "collapsed": true
      },
      "cell_type": "markdown",
      "source": "# 有效的字母异位词\n\n**题目来源：力扣（LeetCode）**\n\n**链接：https://leetcode-cn.com/problems/valid-anagram/**\n\n## 一、题目\n\n给定两个字符串 s 和 t ，编写一个函数来判断 t 是否是 s 的字母异位词。\n\n## 二、示例\n\n### 示例 1:\n\n输入: s = \"anagram\", t = \"nagaram\"\n\n输出: true\n\n### 示例 2:\n\n输入: s = \"rat\", t = \"car\"\n\n输出: false\n\n## 三、解题思路\n\n### 一、排序"
    },
    {
      "metadata": {
        "trusted": true
      },
      "cell_type": "code",
      "source": "def isAnagram(s: str, t: str) -> bool:\n    return sorted(s) == sorted(t)",
      "execution_count": 1,
      "outputs": []
    },
    {
      "metadata": {
        "trusted": true
      },
      "cell_type": "code",
      "source": "isAnagram(s = \"anagram\", t = \"nagaram\")",
      "execution_count": 2,
      "outputs": [
        {
          "output_type": "execute_result",
          "execution_count": 2,
          "data": {
            "text/plain": "True"
          },
          "metadata": {}
        }
      ]
    },
    {
      "metadata": {
        "trusted": true
      },
      "cell_type": "code",
      "source": "isAnagram(s = \"rat\", t = \"car\")",
      "execution_count": 3,
      "outputs": [
        {
          "output_type": "execute_result",
          "execution_count": 3,
          "data": {
            "text/plain": "False"
          },
          "metadata": {}
        }
      ]
    },
    {
      "metadata": {},
      "cell_type": "markdown",
      "source": "### 利用字典"
    },
    {
      "metadata": {
        "trusted": true
      },
      "cell_type": "code",
      "source": "def isAnagram(s: str, t: str) -> bool:\n    if len(s) != len(t):\n        return False\n    d = {}\n    for i in range(len(s)):\n        if s[i] not in d:\n            d[s[i]] = 0\n        if t[i] not in d:\n            d[t[i]] = 0\n        d[s[i]] += 1\n        d[t[i]] -= 1\n    values = d.values()\n    for i in values:\n        if i != 0:\n            return False\n    return True",
      "execution_count": 4,
      "outputs": []
    },
    {
      "metadata": {
        "trusted": true
      },
      "cell_type": "code",
      "source": "isAnagram(s = \"anagram\", t = \"nagaram\")",
      "execution_count": 5,
      "outputs": [
        {
          "output_type": "execute_result",
          "execution_count": 5,
          "data": {
            "text/plain": "True"
          },
          "metadata": {}
        }
      ]
    },
    {
      "metadata": {
        "trusted": true
      },
      "cell_type": "code",
      "source": "isAnagram(s = \"rat\", t = \"car\")",
      "execution_count": 6,
      "outputs": [
        {
          "output_type": "execute_result",
          "execution_count": 6,
          "data": {
            "text/plain": "False"
          },
          "metadata": {}
        }
      ]
    },
    {
      "metadata": {
        "trusted": true
      },
      "cell_type": "code",
      "source": "",
      "execution_count": null,
      "outputs": []
    }
  ],
  "metadata": {
    "kernelspec": {
      "name": "python36",
      "display_name": "Python 3.6",
      "language": "python"
    },
    "language_info": {
      "mimetype": "text/x-python",
      "nbconvert_exporter": "python",
      "name": "python",
      "pygments_lexer": "ipython3",
      "version": "3.6.6",
      "file_extension": ".py",
      "codemirror_mode": {
        "version": 3,
        "name": "ipython"
      }
    }
  },
  "nbformat": 4,
  "nbformat_minor": 2
}