{
 "cells": [
  {
   "cell_type": "markdown",
   "metadata": {},
   "source": [
    "# 如果相邻两个颜色均相同则删除当前颜色\n",
    "\n",
    "**题目来源：力扣（LeetCode）**\n",
    "\n",
    "**链接：https://leetcode-cn.com/problems/remove-colored-pieces-if-both-neighbors-are-the-same-color/**\n",
    "\n",
    "## 一、题目\n",
    "\n",
    "总共有 n 个颜色片段排成一列，每个颜色片段要么是 'A' 要么是 'B' 。给你一个长度为 n 的字符串 colors ，其中 colors[i] 表示第 i 个颜色片段的颜色。\n",
    "\n",
    "Alice 和 Bob 在玩一个游戏，他们 轮流 从这个字符串中删除颜色。Alice 先手 。\n",
    "\n",
    "- 如果一个颜色片段为 'A' 且 相邻两个颜色 都是颜色 'A' ，那么 Alice 可以删除该颜色片段。Alice 不可以 删除任何颜色 'B' 片段。\n",
    "- 如果一个颜色片段为 'B' 且 相邻两个颜色 都是颜色 'B' ，那么 Bob 可以删除该颜色片段。Bob 不可以 删除任何颜色 'A' 片段。\n",
    "- Alice 和 Bob 不能 从字符串两端删除颜色片段。\n",
    "- 如果其中一人无法继续操作，则该玩家 输 掉游戏且另一玩家 获胜 。\n",
    "\n",
    "假设 Alice 和 Bob 都采用最优策略，如果 Alice 获胜，请返回 true，否则 Bob 获胜，返回 false。\n",
    "\n",
    "### 提示：\n",
    "\n",
    "- 1 <= colors.length <= 10^5\n",
    "- colors 只包含字母 'A' 和 'B'\n",
    "\n",
    "## 二、示例\n",
    "\n",
    "### 示例 1：\n",
    "\n",
    "输入：colors = \"AAABABB\"\n",
    "\n",
    "输出：true\n",
    "\n",
    "解释：\n",
    "\n",
    "AAABABB -> AABABB\n",
    "\n",
    "Alice 先操作。\n",
    "\n",
    "她删除从左数第二个 'A' ，这也是唯一一个相邻颜色片段都是 'A' 的 'A' 。\n",
    "\n",
    "现在轮到 Bob 操作。\n",
    "\n",
    "Bob 无法执行任何操作，因为没有相邻位置都是 'B' 的颜色片段 'B' 。\n",
    "\n",
    "因此，Alice 获胜，返回 true 。\n",
    "\n",
    "### 示例 2：\n",
    "\n",
    "输入：colors = \"AA\"\n",
    "\n",
    "输出：false\n",
    "\n",
    "解释：\n",
    "\n",
    "Alice 先操作。\n",
    "\n",
    "只有 2 个 'A' 且它们都在字符串的两端，所以她无法执行任何操作。\n",
    "\n",
    "因此，Bob 获胜，返回 false 。\n",
    "\n",
    "### 示例 3：\n",
    "\n",
    "输入：colors = \"ABBBBBBBAAA\"\n",
    "\n",
    "输出：false\n",
    "\n",
    "解释：\n",
    "\n",
    "ABBBBBBBAAA -> ABBBBBBBAA\n",
    "\n",
    "Alice 先操作。\n",
    "\n",
    "她唯一的选择是删除从右数起第二个 'A' 。\n",
    "\n",
    "ABBBBBBBAA -> ABBBBBBAA\n",
    "\n",
    "接下来轮到 Bob 操作。\n",
    "\n",
    "他有许多选择，他可以选择任何一个 'B' 删除。\n",
    "\n",
    "然后轮到 Alice 操作，她无法删除任何片段。\n",
    "\n",
    "所以 Bob 获胜，返回 false 。\n",
    "\n",
    "## 三、解题思路\n",
    "\n",
    "### 贪心"
   ]
  },
  {
   "cell_type": "code",
   "execution_count": 1,
   "metadata": {},
   "outputs": [],
   "source": [
    "def winnerOfGame(colors: str) -> bool:\n",
    "    freq = [0, 0]\n",
    "    cur, cnt = 'C', 0\n",
    "    for c in colors:\n",
    "        if c != cur:\n",
    "            cur = c\n",
    "            cnt = 1\n",
    "        else:\n",
    "            cnt += 1\n",
    "            if cnt >= 3:\n",
    "                freq[ord(cur) - ord('A')] += 1\n",
    "    return freq[0] > freq[1]"
   ]
  },
  {
   "cell_type": "code",
   "execution_count": 2,
   "metadata": {},
   "outputs": [
    {
     "data": {
      "text/plain": [
       "True"
      ]
     },
     "execution_count": 2,
     "metadata": {},
     "output_type": "execute_result"
    }
   ],
   "source": [
    "winnerOfGame(\"AAABABB\")"
   ]
  },
  {
   "cell_type": "code",
   "execution_count": 3,
   "metadata": {},
   "outputs": [
    {
     "data": {
      "text/plain": [
       "False"
      ]
     },
     "execution_count": 3,
     "metadata": {},
     "output_type": "execute_result"
    }
   ],
   "source": [
    "winnerOfGame(\"AA\")"
   ]
  },
  {
   "cell_type": "code",
   "execution_count": 4,
   "metadata": {},
   "outputs": [
    {
     "data": {
      "text/plain": [
       "False"
      ]
     },
     "execution_count": 4,
     "metadata": {},
     "output_type": "execute_result"
    }
   ],
   "source": [
    "winnerOfGame(\"ABBBBBBBAAA\")"
   ]
  },
  {
   "cell_type": "code",
   "execution_count": null,
   "metadata": {},
   "outputs": [],
   "source": []
  }
 ],
 "metadata": {
  "kernelspec": {
   "display_name": "Python 3",
   "language": "python",
   "name": "python3"
  },
  "language_info": {
   "codemirror_mode": {
    "name": "ipython",
    "version": 3
   },
   "file_extension": ".py",
   "mimetype": "text/x-python",
   "name": "python",
   "nbconvert_exporter": "python",
   "pygments_lexer": "ipython3",
   "version": "3.6.5"
  }
 },
 "nbformat": 4,
 "nbformat_minor": 2
}
