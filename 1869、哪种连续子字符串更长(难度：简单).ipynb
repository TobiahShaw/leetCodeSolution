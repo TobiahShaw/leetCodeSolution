{
 "cells": [
  {
   "cell_type": "markdown",
   "metadata": {},
   "source": [
    "# 哪种连续子字符串更长\n",
    "\n",
    "**题目来源：力扣（LeetCode）**\n",
    "\n",
    "**链接：https://leetcode-cn.com/problems/longer-contiguous-segments-of-ones-than-zeros/**\n",
    "\n",
    "## 一、题目\n",
    "\n",
    "给你一个二进制字符串 s 。如果字符串中由 1 组成的 最长 连续子字符串 严格长于 由 0 组成的 最长 连续子字符串，返回 true ；否则，返回 false 。\n",
    "\n",
    "例如，s = \"110100010\" 中，由 1 组成的最长连续子字符串的长度是 2 ，由 0 组成的最长连续子字符串的长度是 3 。\n",
    "\n",
    "注意，如果字符串中不存在 0 ，此时认为由 0 组成的最长连续子字符串的长度是 0 。字符串中不存在 1 的情况也适用此规则。\n",
    "\n",
    "### 提示：\n",
    "\n",
    "- 1 <= s.length <= 100\n",
    "- s[i] 不是 '0' 就是 '1'\n",
    "\n",
    "## 二、示例\n",
    "\n",
    "### 示例 1：\n",
    "\n",
    "输入：s = \"1101\"\n",
    "\n",
    "输出：true\n",
    "\n",
    "解释：\n",
    "\n",
    "由 1 组成的最长连续子字符串的长度是 2：\"1101\"\n",
    "\n",
    "由 0 组成的最长连续子字符串的长度是 1：\"1101\"\n",
    "\n",
    "由 1 组成的子字符串更长，故返回 true 。\n",
    "\n",
    "### 示例 2：\n",
    "\n",
    "输入：s = \"111000\"\n",
    "\n",
    "输出：false\n",
    "\n",
    "解释：\n",
    "\n",
    "由 1 组成的最长连续子字符串的长度是 3：\"111000\"\n",
    "\n",
    "由 0 组成的最长连续子字符串的长度是 3：\"111000\"\n",
    "\n",
    "由 1 组成的子字符串不比由 0 组成的子字符串长，故返回 false 。\n",
    "\n",
    "### 示例 3：\n",
    "\n",
    "输入：s = \"110100010\"\n",
    "\n",
    "输出：false\n",
    "\n",
    "解释：\n",
    "\n",
    "由 1 组成的最长连续子字符串的长度是 2：\"110100010\"\n",
    "\n",
    "由 0 组成的最长连续子字符串的长度是 3：\"110100010\"\n",
    "\n",
    "由 1 组成的子字符串不比由 0 组成的子字符串长，故返回 false 。\n",
    "\n",
    "## 三、解题思路\n",
    "\n",
    "### 状态机"
   ]
  },
  {
   "cell_type": "code",
   "execution_count": 1,
   "metadata": {},
   "outputs": [],
   "source": [
    "def checkZeroOnes(s: str) -> bool:\n",
    "    maxOne = 0\n",
    "    maxZero = 0\n",
    "    state = -1\n",
    "    leng = 0\n",
    "    for ch in s:\n",
    "        if ch == '0':\n",
    "            if state != 0:\n",
    "                if state == 1:\n",
    "                    maxOne = leng if leng > maxOne else maxOne\n",
    "                leng = 1\n",
    "                state = 0\n",
    "            else:\n",
    "                leng += 1\n",
    "        elif ch == '1':\n",
    "            if state != 1:\n",
    "                if state == 0:\n",
    "                    maxZero = leng if leng > maxZero else maxZero\n",
    "                leng = 1\n",
    "                state = 1\n",
    "            else:\n",
    "                leng += 1\n",
    "    if state == 0:\n",
    "        maxZero = leng if leng > maxZero else maxZero\n",
    "    if state == 1:\n",
    "        maxOne = leng if leng > maxOne else maxOne\n",
    "    return maxOne > maxZero"
   ]
  },
  {
   "cell_type": "code",
   "execution_count": 2,
   "metadata": {},
   "outputs": [
    {
     "data": {
      "text/plain": [
       "True"
      ]
     },
     "execution_count": 2,
     "metadata": {},
     "output_type": "execute_result"
    }
   ],
   "source": [
    "checkZeroOnes(\"1101\")"
   ]
  },
  {
   "cell_type": "code",
   "execution_count": 3,
   "metadata": {},
   "outputs": [
    {
     "data": {
      "text/plain": [
       "False"
      ]
     },
     "execution_count": 3,
     "metadata": {},
     "output_type": "execute_result"
    }
   ],
   "source": [
    "checkZeroOnes(\"111000\")"
   ]
  },
  {
   "cell_type": "code",
   "execution_count": 4,
   "metadata": {},
   "outputs": [
    {
     "data": {
      "text/plain": [
       "False"
      ]
     },
     "execution_count": 4,
     "metadata": {},
     "output_type": "execute_result"
    }
   ],
   "source": [
    "checkZeroOnes(\"110100010\")"
   ]
  },
  {
   "cell_type": "code",
   "execution_count": null,
   "metadata": {},
   "outputs": [],
   "source": []
  }
 ],
 "metadata": {
  "kernelspec": {
   "display_name": "Python 3",
   "language": "python",
   "name": "python3"
  },
  "language_info": {
   "codemirror_mode": {
    "name": "ipython",
    "version": 3
   },
   "file_extension": ".py",
   "mimetype": "text/x-python",
   "name": "python",
   "nbconvert_exporter": "python",
   "pygments_lexer": "ipython3",
   "version": "3.6.5"
  }
 },
 "nbformat": 4,
 "nbformat_minor": 2
}
