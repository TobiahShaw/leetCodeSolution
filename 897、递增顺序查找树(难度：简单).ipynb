{
  "cells": [
    {
      "metadata": {
        "collapsed": true
      },
      "cell_type": "markdown",
      "source": "# 递增顺序查找树\n\n**题目来源：力扣（LeetCode）**\n\n**链接：https://leetcode-cn.com/problems/increasing-order-search-tree/**\n\n## 一、题目\n\n给你一个树，请你 按中序遍历 重新排列树，使树中最左边的结点现在是树的根，并且每个结点没有左子结点，只有一个右子结点。\n\n## 二、示例\n\n输入：[5,3,6,2,4,null,8,1,null,null,null,7,9]\n\n```\n       5\n      / \\\n    3    6\n   / \\    \\\n  2   4    8\n /        / \\ \n1        7   9\n```\n\n输出：[1,null,2,null,3,null,4,null,5,null,6,null,7,null,8,null,9]\n\n```\n 1\n  \\\n   2\n    \\\n     3\n      \\\n       4\n        \\\n         5\n          \\\n           6\n            \\\n             7\n              \\\n               8\n                \\\n                 9  \n```\n\n\n## 三、解题思路\n\n### 中序遍历后重新连接即可"
    },
    {
      "metadata": {
        "trusted": true
      },
      "cell_type": "code",
      "source": "class TreeNode:\n    def __init__(self, x):\n        self.val = x\n        self.left = None\n        self.right = None\n\ndef increasingBST(root: TreeNode) -> TreeNode:\n    def inorder(node, nodeList):\n        if not node:\n            return\n        inorder(node.left, nodeList)\n        nodeList.append(node)\n        inorder(node.right, nodeList)\n    nodeList = []\n    inorder(root, nodeList)\n    for i in range(1, len(nodeList)):\n        nodeList[i-1].left = None\n        nodeList[i-1].right = nodeList[i]\n        nodeList[i].right = None\n    return nodeList[0]",
      "execution_count": 1,
      "outputs": []
    },
    {
      "metadata": {
        "trusted": true
      },
      "cell_type": "code",
      "source": "",
      "execution_count": null,
      "outputs": []
    }
  ],
  "metadata": {
    "kernelspec": {
      "name": "python36",
      "display_name": "Python 3.6",
      "language": "python"
    },
    "language_info": {
      "mimetype": "text/x-python",
      "nbconvert_exporter": "python",
      "name": "python",
      "pygments_lexer": "ipython3",
      "version": "3.6.6",
      "file_extension": ".py",
      "codemirror_mode": {
        "version": 3,
        "name": "ipython"
      }
    }
  },
  "nbformat": 4,
  "nbformat_minor": 2
}