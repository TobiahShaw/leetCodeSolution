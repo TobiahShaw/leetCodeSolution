{
 "cells": [
  {
   "cell_type": "markdown",
   "metadata": {
    "collapsed": true
   },
   "source": [
    "# 递增顺序查找树\n",
    "\n",
    "**题目来源：力扣（LeetCode）**\n",
    "\n",
    "**链接：https://leetcode-cn.com/problems/increasing-order-search-tree/**\n",
    "\n",
    "## 一、题目\n",
    "\n",
    "给你一个树，请你 按中序遍历 重新排列树，使树中最左边的结点现在是树的根，并且每个结点没有左子结点，只有一个右子结点。\n",
    "\n",
    "## 二、示例\n",
    "\n",
    "输入：[5,3,6,2,4,null,8,1,null,null,null,7,9]\n",
    "\n",
    "```\n",
    "       5\n",
    "      / \\\n",
    "    3    6\n",
    "   / \\    \\\n",
    "  2   4    8\n",
    " /        / \\ \n",
    "1        7   9\n",
    "```\n",
    "\n",
    "输出：[1,null,2,null,3,null,4,null,5,null,6,null,7,null,8,null,9]\n",
    "\n",
    "```\n",
    " 1\n",
    "  \\\n",
    "   2\n",
    "    \\\n",
    "     3\n",
    "      \\\n",
    "       4\n",
    "        \\\n",
    "         5\n",
    "          \\\n",
    "           6\n",
    "            \\\n",
    "             7\n",
    "              \\\n",
    "               8\n",
    "                \\\n",
    "                 9  \n",
    "```\n",
    "\n",
    "\n",
    "## 三、解题思路"
   ]
  },
  {
   "cell_type": "code",
   "execution_count": 1,
   "metadata": {},
   "outputs": [],
   "source": [
    "class TreeNode:\n",
    "    def __init__(self, x):\n",
    "        self.val = x\n",
    "        self.left = None\n",
    "        self.right = None"
   ]
  },
  {
   "cell_type": "markdown",
   "metadata": {},
   "source": [
    "### 中序遍历后重新连接即可(递归)"
   ]
  },
  {
   "cell_type": "code",
   "execution_count": 2,
   "metadata": {},
   "outputs": [],
   "source": [
    "def increasingBST(root: TreeNode) -> TreeNode:\n",
    "    def inorder(node, nodeList):\n",
    "        if not node:\n",
    "            return\n",
    "        inorder(node.left, nodeList)\n",
    "        nodeList.append(node)\n",
    "        inorder(node.right, nodeList)\n",
    "    nodeList = []\n",
    "    inorder(root, nodeList)\n",
    "    for i in range(1, len(nodeList)):\n",
    "        nodeList[i-1].left = None\n",
    "        nodeList[i-1].right = nodeList[i]\n",
    "        nodeList[i].right = None\n",
    "    return nodeList[0]"
   ]
  },
  {
   "cell_type": "code",
   "execution_count": 3,
   "metadata": {},
   "outputs": [
    {
     "name": "stdout",
     "output_type": "stream",
     "text": [
      "1 5 7 "
     ]
    }
   ],
   "source": [
    "root = TreeNode(5)\n",
    "root.left = TreeNode(1)\n",
    "root.right = TreeNode(7)\n",
    "\n",
    "root = increasingBST(root)\n",
    "\n",
    "while root:\n",
    "    print(root.val, end=' ')\n",
    "    root = root.right"
   ]
  },
  {
   "cell_type": "markdown",
   "metadata": {},
   "source": [
    "### 中序遍历后重新连接即可(迭代)"
   ]
  },
  {
   "cell_type": "code",
   "execution_count": 4,
   "metadata": {},
   "outputs": [],
   "source": [
    "def increasingBST(root: TreeNode) -> TreeNode:\n",
    "    cur = root\n",
    "    stack = []\n",
    "    while cur is not None:\n",
    "        stack.append(cur)\n",
    "        cur = cur.left\n",
    "    root = stack[-1]\n",
    "    while len(stack):\n",
    "        node = stack.pop()\n",
    "        if node.right is not None:\n",
    "            cur = node.right\n",
    "            while cur is not None:\n",
    "                stack.append(cur)\n",
    "                cur = cur.left\n",
    "        if len(stack):\n",
    "            node.right = stack[-1]\n",
    "            stack[-1].left = None\n",
    "    return root"
   ]
  },
  {
   "cell_type": "code",
   "execution_count": 5,
   "metadata": {},
   "outputs": [
    {
     "name": "stdout",
     "output_type": "stream",
     "text": [
      "1 5 7 "
     ]
    }
   ],
   "source": [
    "root = TreeNode(5)\n",
    "root.left = TreeNode(1)\n",
    "root.right = TreeNode(7)\n",
    "\n",
    "root = increasingBST(root)\n",
    "\n",
    "while root:\n",
    "    print(root.val, end=' ')\n",
    "    root = root.right"
   ]
  },
  {
   "cell_type": "code",
   "execution_count": null,
   "metadata": {},
   "outputs": [],
   "source": []
  }
 ],
 "metadata": {
  "kernelspec": {
   "display_name": "Python 3",
   "language": "python",
   "name": "python3"
  },
  "language_info": {
   "codemirror_mode": {
    "name": "ipython",
    "version": 3
   },
   "file_extension": ".py",
   "mimetype": "text/x-python",
   "name": "python",
   "nbconvert_exporter": "python",
   "pygments_lexer": "ipython3",
   "version": "3.6.5"
  }
 },
 "nbformat": 4,
 "nbformat_minor": 2
}
