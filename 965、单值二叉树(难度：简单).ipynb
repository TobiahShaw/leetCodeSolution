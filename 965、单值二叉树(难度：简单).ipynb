{
 "cells": [
  {
   "cell_type": "markdown",
   "metadata": {
    "collapsed": true
   },
   "source": [
    "# 单值二叉树\n",
    "\n",
    "**题目来源：力扣（LeetCode）**\n",
    "\n",
    "**链接：https://leetcode-cn.com/problems/univalued-binary-tree/**\n",
    "\n",
    "## 一、题目\n",
    "\n",
    "如果二叉树每个节点都具有相同的值，那么该二叉树就是单值二叉树。\n",
    "\n",
    "只有给定的树是单值二叉树时，才返回 true；否则返回 false。\n",
    "\n",
    "### 提示：\n",
    "\n",
    "- 给定树的节点数范围是 [1, 100]。\n",
    "- 每个节点的值都是整数，范围为 [0, 99] 。\n",
    "\n",
    "## 二、示例\n",
    "\n",
    "### 示例 1:\n",
    "\n",
    "输入：[1,1,1,1,1,null,1]\n",
    "\n",
    "输出：true\n",
    "\n",
    "### 示例 2:\n",
    "\n",
    "输入：[2,2,2,5,2]\n",
    "\n",
    "输出：false\n",
    "\n",
    "## 三、解题思路\n",
    "\n",
    "### 一、DFS"
   ]
  },
  {
   "cell_type": "code",
   "execution_count": 1,
   "metadata": {},
   "outputs": [],
   "source": [
    "def isUnivalTree(root):\n",
    "    if root is None:\n",
    "        return True\n",
    "    if root.left is not None:\n",
    "        if root.left.val != root.val:\n",
    "            return False\n",
    "        if not isUnivalTree(root.left):\n",
    "            return False\n",
    "    if root.right is not None:\n",
    "        if root.right.val == root.val:\n",
    "            return isUnivalTree(root.right)\n",
    "        else:\n",
    "            return False\n",
    "    return True"
   ]
  },
  {
   "cell_type": "markdown",
   "metadata": {},
   "source": []
  }
 ],
 "metadata": {
  "kernelspec": {
   "display_name": "Python 3",
   "language": "python",
   "name": "python3"
  },
  "language_info": {
   "codemirror_mode": {
    "name": "ipython",
    "version": 3
   },
   "file_extension": ".py",
   "mimetype": "text/x-python",
   "name": "python",
   "nbconvert_exporter": "python",
   "pygments_lexer": "ipython3",
   "version": "3.6.5"
  }
 },
 "nbformat": 4,
 "nbformat_minor": 2
}
