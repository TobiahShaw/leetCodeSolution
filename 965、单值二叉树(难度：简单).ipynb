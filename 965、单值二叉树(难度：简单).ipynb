{
  "cells": [
    {
      "metadata": {
        "collapsed": true
      },
      "cell_type": "markdown",
      "source": "# 单值二叉树\n\n**题目来源：力扣（LeetCode）**\n\n**链接：https://leetcode-cn.com/problems/univalued-binary-tree/**\n\n## 一、题目\n\n如果二叉树每个节点都具有相同的值，那么该二叉树就是单值二叉树。\n\n只有给定的树是单值二叉树时，才返回 true；否则返回 false。\n\n## 二、示例\n\n### 示例 1:\n\n输入：[1,1,1,1,1,null,1]\n\n输出：true\n\n### 示例 2:\n\n输入：[2,2,2,5,2]\n\n输出：false\n\n## 三、解题思路\n\n### 递归"
    },
    {
      "metadata": {
        "trusted": true
      },
      "cell_type": "code",
      "source": "def isUnivalTree(root):\n    if root is None:\n        return True\n    if root.left is not None:\n        if root.left.val != root.val:\n            return False\n        if not isUnivalTree(root.left):\n            return False\n    if root.right is not None:\n        if root.right.val == root.val:\n            return isUnivalTree(root.right)\n        else:\n            return False\n    return True",
      "execution_count": 1,
      "outputs": []
    },
    {
      "metadata": {
        "trusted": true
      },
      "cell_type": "code",
      "source": "",
      "execution_count": null,
      "outputs": []
    }
  ],
  "metadata": {
    "kernelspec": {
      "name": "python36",
      "display_name": "Python 3.6",
      "language": "python"
    },
    "language_info": {
      "mimetype": "text/x-python",
      "nbconvert_exporter": "python",
      "name": "python",
      "pygments_lexer": "ipython3",
      "version": "3.6.6",
      "file_extension": ".py",
      "codemirror_mode": {
        "version": 3,
        "name": "ipython"
      }
    }
  },
  "nbformat": 4,
  "nbformat_minor": 2
}