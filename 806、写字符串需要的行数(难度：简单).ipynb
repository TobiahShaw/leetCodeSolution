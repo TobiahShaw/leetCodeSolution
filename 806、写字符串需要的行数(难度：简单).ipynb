{
 "cells": [
  {
   "cell_type": "markdown",
   "metadata": {},
   "source": [
    "# 写字符串需要的行数\n",
    "\n",
    "**题目来源：力扣（LeetCode）**\n",
    "\n",
    "**链接：https://leetcode-cn.com/problems/number-of-lines-to-write-string/**\n",
    "\n",
    "## 一、题目\n",
    "\n",
    "我们要把给定的字符串 S 从左到右写到每一行上，每一行的最大宽度为100个单位，如果我们在写某个字母的时候会使这行超过了100 个单位，那么我们应该把这个字母写到下一行。我们给定了一个数组 widths ，这个数组 widths[0] 代表 'a' 需要的单位， widths[1] 代表 'b' 需要的单位，...， widths[25] 代表 'z' 需要的单位。\n",
    "\n",
    "现在回答两个问题：至少多少行能放下S，以及最后一行使用的宽度是多少个单位？将你的答案作为长度为2的整数列表返回。\n",
    "\n",
    "### 注:\n",
    "\n",
    "- 字符串 S 的长度在 [1, 1000] 的范围。\n",
    "- S 只包含小写字母。\n",
    "- widths 是长度为 26的数组。\n",
    "- widths[i] 值的范围在 [2, 10]。\n",
    "\n",
    "## 二、示例\n",
    "\n",
    "### 示例 1：\n",
    "\n",
    "输入: \n",
    "\n",
    "widths = [10,10,10,10,10,10,10,10,10,10,10,10,10,10,10,10,10,10,10,10,10,10,10,10,10,10]\n",
    "\n",
    "S = \"abcdefghijklmnopqrstuvwxyz\"\n",
    "\n",
    "输出: [3, 60]\n",
    "\n",
    "解释: \n",
    "\n",
    "所有的字符拥有相同的占用单位10。所以书写所有的26个字母，我们需要2个整行和占用60个单位的一行。\n",
    "\n",
    "### 示例 2：\n",
    "\n",
    "输入: \n",
    "widths = [4,10,10,10,10,10,10,10,10,10,10,10,10,10,10,10,10,10,10,10,10,10,10,10,10,10]\n",
    "\n",
    "S = \"bbbcccdddaaa\"\n",
    "\n",
    "输出: [2, 4]\n",
    "\n",
    "解释: \n",
    "\n",
    "除去字母'a'所有的字符都是相同的单位10，并且字符串 \"bbbcccdddaa\" 将会覆盖 9 * 10 + 2 * 4 = 98 个单位.最后一个字母 'a' 将会被写到第二行，因为第一行只剩下2个单位了。所以，这个答案是2行，第二行有4个单位宽度。\n",
    "\n",
    "## 三、解题思路\n",
    "\n",
    "### 迭代计数"
   ]
  },
  {
   "cell_type": "code",
   "execution_count": 1,
   "metadata": {},
   "outputs": [],
   "source": [
    "def numberOfLines(widths, s: str):\n",
    "    row, index = 1, 0\n",
    "    for ch in s:\n",
    "        need = widths[ord(ch) - ord('a')]\n",
    "        if index + need > 100:\n",
    "            row += 1\n",
    "            index = need\n",
    "        else:\n",
    "            index += need\n",
    "    return [row, index]"
   ]
  },
  {
   "cell_type": "code",
   "execution_count": 2,
   "metadata": {},
   "outputs": [
    {
     "data": {
      "text/plain": [
       "[3, 60]"
      ]
     },
     "execution_count": 2,
     "metadata": {},
     "output_type": "execute_result"
    }
   ],
   "source": [
    "numberOfLines([10,10,10,10,10,10,10,10,10,10,10,10,10,10,10,10,10,10,10,10,10,10,10,10,10,10], \"abcdefghijklmnopqrstuvwxyz\")"
   ]
  },
  {
   "cell_type": "code",
   "execution_count": 3,
   "metadata": {},
   "outputs": [
    {
     "data": {
      "text/plain": [
       "[2, 4]"
      ]
     },
     "execution_count": 3,
     "metadata": {},
     "output_type": "execute_result"
    }
   ],
   "source": [
    "numberOfLines([4,10,10,10,10,10,10,10,10,10,10,10,10,10,10,10,10,10,10,10,10,10,10,10,10,10], \"bbbcccdddaaa\")"
   ]
  },
  {
   "cell_type": "code",
   "execution_count": null,
   "metadata": {},
   "outputs": [],
   "source": []
  }
 ],
 "metadata": {
  "kernelspec": {
   "display_name": "Python 3",
   "language": "python",
   "name": "python3"
  },
  "language_info": {
   "codemirror_mode": {
    "name": "ipython",
    "version": 3
   },
   "file_extension": ".py",
   "mimetype": "text/x-python",
   "name": "python",
   "nbconvert_exporter": "python",
   "pygments_lexer": "ipython3",
   "version": "3.6.5"
  }
 },
 "nbformat": 4,
 "nbformat_minor": 2
}
