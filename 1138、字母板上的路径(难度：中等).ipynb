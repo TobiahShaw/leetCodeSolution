{
 "cells": [
  {
   "cell_type": "markdown",
   "metadata": {},
   "source": [
    "# 字母板上的路径\n",
    "\n",
    "**题目来源：力扣（LeetCode）**\n",
    "\n",
    "**链接：https://leetcode-cn.com/problems/alphabet-board-path/**\n",
    "\n",
    "## 一、题目\n",
    "\n",
    "我们从一块字母板上的位置 (0, 0) 出发，该坐标对应的字符为 board[0][0]。\n",
    "\n",
    "在本题里，字母板为board = [\"abcde\", \"fghij\", \"klmno\", \"pqrst\", \"uvwxy\", \"z\"]。\n",
    "\n",
    "我们可以按下面的指令规则行动：\n",
    "\n",
    "- 如果方格存在，'U' 意味着将我们的位置上移一行；\n",
    "- 如果方格存在，'D' 意味着将我们的位置下移一行；\n",
    "- 如果方格存在，'L' 意味着将我们的位置左移一列；\n",
    "- 如果方格存在，'R' 意味着将我们的位置右移一列；\n",
    "- '!' 会把在我们当前位置 (r, c) 的字符 board[r][c] 添加到答案中。\n",
    "\n",
    "### （注意，字母板上只存在有字母的位置。）\n",
    "\n",
    "返回指令序列，用最小的行动次数让答案和目标 target 相同。你可以返回任何达成目标的路径。\n",
    "\n",
    "## 二、示例\n",
    "\n",
    "### 示例 1：\n",
    "\n",
    "输入：target = \"leet\"\n",
    "\n",
    "输出：\"DDR!UURRR!!DDD!\"\n",
    "\n",
    "### 示例 2：\n",
    "\n",
    "输入：target = \"code\"\n",
    "\n",
    "输出：\"RR!DDRR!UUL!R!\"\n",
    "\n",
    "## 三、解题思路\n",
    "\n",
    "### 一、模拟过程"
   ]
  },
  {
   "cell_type": "code",
   "execution_count": 1,
   "metadata": {},
   "outputs": [],
   "source": [
    "def alphabetBoardPath(target: str) -> str:\n",
    "    dic = {}\n",
    "    for i in range(26):\n",
    "        dic[chr(ord('a') + i)] = [i//5, i% 5]\n",
    "    ret = []\n",
    "    origin = [0, 0]\n",
    "    for c in target:\n",
    "        dx, dy = dic[c][0] - origin[0], dic[c][1] - origin[1]\n",
    "        # 注意要先左、上，后右，下，否则走到 z 向右，向下都是错误答案\n",
    "        if dx < 0:\n",
    "            ret += ['U'] * (-dx)\n",
    "        if dy < 0:\n",
    "            ret += ['L'] * (-dy)\n",
    "        if dx > 0:\n",
    "            ret += ['D'] * dx\n",
    "        if dy > 0:\n",
    "            ret += ['R'] * dy\n",
    "        ret.append(\"!\")\n",
    "        origin = dic[c]\n",
    "    return \"\".join(ret)"
   ]
  },
  {
   "cell_type": "code",
   "execution_count": 2,
   "metadata": {},
   "outputs": [
    {
     "data": {
      "text/plain": [
       "'DDR!UURRR!!DDD!'"
      ]
     },
     "execution_count": 2,
     "metadata": {},
     "output_type": "execute_result"
    }
   ],
   "source": [
    "alphabetBoardPath(\"leet\")"
   ]
  },
  {
   "cell_type": "code",
   "execution_count": 3,
   "metadata": {},
   "outputs": [
    {
     "data": {
      "text/plain": [
       "'RR!DDRR!UUL!R!'"
      ]
     },
     "execution_count": 3,
     "metadata": {},
     "output_type": "execute_result"
    }
   ],
   "source": [
    "alphabetBoardPath(\"code\")"
   ]
  },
  {
   "cell_type": "markdown",
   "metadata": {},
   "source": [
    "### 二、Pythonic"
   ]
  },
  {
   "cell_type": "code",
   "execution_count": 4,
   "metadata": {},
   "outputs": [],
   "source": [
    "def alphabetBoardPath(target: str) -> str:\n",
    "    res=''\n",
    "    c,d=0,0\n",
    "    for i in target:\n",
    "        a,b,c,d=c,d,*divmod(ord(i)-ord('a'),5)\n",
    "        if i=='z':\n",
    "            res+='L'*(b-d)+'R'*(d-b)+'U'*(a-c)+'D'*(c-a)+'!'\n",
    "        else:\n",
    "            res+='U'*(a-c)+'D'*(c-a)+'L'*(b-d)+'R'*(d-b)+'!'\n",
    "    return res"
   ]
  },
  {
   "cell_type": "code",
   "execution_count": 5,
   "metadata": {},
   "outputs": [
    {
     "data": {
      "text/plain": [
       "'DDR!UURRR!!DDD!'"
      ]
     },
     "execution_count": 5,
     "metadata": {},
     "output_type": "execute_result"
    }
   ],
   "source": [
    "alphabetBoardPath(\"leet\")"
   ]
  },
  {
   "cell_type": "code",
   "execution_count": 6,
   "metadata": {},
   "outputs": [
    {
     "data": {
      "text/plain": [
       "'RR!DDRR!UUL!R!'"
      ]
     },
     "execution_count": 6,
     "metadata": {},
     "output_type": "execute_result"
    }
   ],
   "source": [
    "alphabetBoardPath(\"code\")"
   ]
  },
  {
   "cell_type": "code",
   "execution_count": null,
   "metadata": {},
   "outputs": [],
   "source": []
  }
 ],
 "metadata": {
  "kernelspec": {
   "display_name": "Python 3",
   "language": "python",
   "name": "python3"
  },
  "language_info": {
   "codemirror_mode": {
    "name": "ipython",
    "version": 3
   },
   "file_extension": ".py",
   "mimetype": "text/x-python",
   "name": "python",
   "nbconvert_exporter": "python",
   "pygments_lexer": "ipython3",
   "version": "3.6.5"
  }
 },
 "nbformat": 4,
 "nbformat_minor": 2
}
