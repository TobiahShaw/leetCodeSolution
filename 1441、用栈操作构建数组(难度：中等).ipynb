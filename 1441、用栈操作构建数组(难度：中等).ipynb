{
  "cells": [
    {
      "cell_type": "markdown",
      "metadata": {
        "collapsed": true
      },
      "source": [
        "# 用栈操作构建数组\n",
        "\n",
        "**题目来源：力扣（LeetCode）**\n",
        "\n",
        "**链接：https://leetcode-cn.com/problems/build-an-array-with-stack-operations/**\n",
        "\n",
        "## 一、题目\n",
        "\n",
        "给你一个目标数组 target 和一个整数 n。每次迭代，需要从  list = {1,2,3..., n} 中依序读取一个数字。\n",
        "\n",
        "请使用下述操作来构建目标数组 target ：\n",
        "\n",
        "- Push：从 list 中读取一个新元素， 并将其推入数组中。\n",
        "- Pop：删除数组中的最后一个元素。\n",
        "- 如果目标数组构建完成，就停止读取更多元素。\n",
        "\n",
        "题目数据保证目标数组严格递增，并且只包含 1 到 n 之间的数字。\n",
        "\n",
        "请返回构建目标数组所用的操作序列。如果存在多个可行方案，返回任一即可。\n",
        "\n",
        "### 提示：\n",
        "\n",
        "- 1 <= target.length <= 100\n",
        "- 1 <= n <= 100\n",
        "- 1 <= target[i] <= n\n",
        "- target 严格递增\n",
        "\n",
        "## 二、示例\n",
        "\n",
        "### 示例 1：\n",
        "\n",
        "输入：target = [1,3], n = 3\n",
        "\n",
        "输出：[\"Push\",\"Push\",\"Pop\",\"Push\"]\n",
        "\n",
        "解释： \n",
        "\n",
        "读取 1 并自动推入数组 -> [1]\n",
        "\n",
        "读取 2 并自动推入数组，然后删除它 -> [1]\n",
        "\n",
        "读取 3 并自动推入数组 -> [1,3]\n",
        "\n",
        "### 示例 2：\n",
        "\n",
        "输入：target = [1,2,3], n = 3\n",
        "\n",
        "输出：[\"Push\",\"Push\",\"Push\"]\n",
        "\n",
        "### 示例 3：\n",
        "\n",
        "输入：target = [1,2], n = 4\n",
        "\n",
        "输出：[\"Push\",\"Push\"]\n",
        "\n",
        "解释：只需要读取前 2 个数字就可以停止。\n",
        "\n",
        "### 示例 4：\n",
        "\n",
        "输入：target = [2,3,4], n = 4\n",
        "\n",
        "输出：[\"Push\",\"Pop\",\"Push\",\"Push\",\"Push\"]\n",
        "\n",
        "## 三、解题思路\n",
        "\n",
        "### 一次遍历"
      ]
    },
    {
      "cell_type": "code",
      "execution_count": 1,
      "metadata": {
        "trusted": true
      },
      "outputs": [],
      "source": [
        "def buildArray(target, n):\n",
        "    ret = []\n",
        "    tarIndex = 0\n",
        "    for i in range(1, n+1):\n",
        "        if tarIndex == len(target):\n",
        "            break\n",
        "        if i == target[tarIndex]:\n",
        "            ret.append(\"Push\")\n",
        "            tarIndex += 1\n",
        "        else:\n",
        "            ret.append(\"Push\")\n",
        "            ret.append(\"Pop\")\n",
        "    return ret"
      ]
    },
    {
      "cell_type": "code",
      "execution_count": 2,
      "metadata": {
        "trusted": true
      },
      "outputs": [
        {
          "data": {
            "text/plain": [
              "['Push', 'Push', 'Pop', 'Push']"
            ]
          },
          "execution_count": 2,
          "metadata": {},
          "output_type": "execute_result"
        }
      ],
      "source": [
        "buildArray(target = [1,3], n = 3)"
      ]
    },
    {
      "cell_type": "code",
      "execution_count": 3,
      "metadata": {
        "trusted": true
      },
      "outputs": [
        {
          "data": {
            "text/plain": [
              "['Push', 'Push', 'Push']"
            ]
          },
          "execution_count": 3,
          "metadata": {},
          "output_type": "execute_result"
        }
      ],
      "source": [
        "buildArray(target = [1,2,3], n = 3)"
      ]
    },
    {
      "cell_type": "code",
      "execution_count": 4,
      "metadata": {
        "trusted": true
      },
      "outputs": [
        {
          "data": {
            "text/plain": [
              "['Push', 'Push']"
            ]
          },
          "execution_count": 4,
          "metadata": {},
          "output_type": "execute_result"
        }
      ],
      "source": [
        "buildArray(target = [1,2], n = 4)"
      ]
    },
    {
      "cell_type": "code",
      "execution_count": 5,
      "metadata": {
        "trusted": true
      },
      "outputs": [
        {
          "data": {
            "text/plain": [
              "['Push', 'Pop', 'Push', 'Push', 'Push']"
            ]
          },
          "execution_count": 5,
          "metadata": {},
          "output_type": "execute_result"
        }
      ],
      "source": [
        "buildArray(target = [2,3,4], n = 4)"
      ]
    },
    {
      "cell_type": "code",
      "execution_count": null,
      "metadata": {
        "trusted": true
      },
      "outputs": [],
      "source": []
    }
  ],
  "metadata": {
    "kernelspec": {
      "display_name": "Python 3.6",
      "language": "python",
      "name": "python36"
    },
    "language_info": {
      "codemirror_mode": {
        "name": "ipython",
        "version": 3
      },
      "file_extension": ".py",
      "mimetype": "text/x-python",
      "name": "python",
      "nbconvert_exporter": "python",
      "pygments_lexer": "ipython3",
      "version": "3.6.6"
    }
  },
  "nbformat": 4,
  "nbformat_minor": 2
}
