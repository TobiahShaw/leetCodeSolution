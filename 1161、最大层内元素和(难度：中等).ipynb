{
 "cells": [
  {
   "cell_type": "markdown",
   "metadata": {},
   "source": [
    "# 最大层内元素和\n",
    "\n",
    "**题目来源：力扣（LeetCode）**\n",
    "\n",
    "**链接：https://leetcode.cn/problems/maximum-level-sum-of-a-binary-tree/**\n",
    "\n",
    "## 一、题目\n",
    "\n",
    "给你一个二叉树的根节点 root。设根节点位于二叉树的第 1 层，而根节点的子节点位于第 2 层，依此类推。\n",
    "\n",
    "请返回层内元素之和 最大 的那几层（可能只有一层）的层号，并返回其中 最小 的那个。\n",
    "\n",
    "### 提示：\n",
    "\n",
    "- 树中的节点数在 [1, 10^4]范围内\n",
    "- -10^5 <= Node.val <= 10^5\n",
    "\n",
    "## 二、示例\n",
    "\n",
    "### 示例 1：\n",
    "\n",
    "输入：root = [1,7,0,7,-8,null,null]\n",
    "\n",
    "输出：2\n",
    "\n",
    "解释：\n",
    "\n",
    "第 1 层各元素之和为 1，\n",
    "\n",
    "第 2 层各元素之和为 7 + 0 = 7，\n",
    "\n",
    "第 3 层各元素之和为 7 + -8 = -1，\n",
    "\n",
    "所以我们返回第 2 层的层号，它的层内元素之和最大。\n",
    "\n",
    "### 示例 2：\n",
    "\n",
    "输入：root = [989,null,10250,98693,-89388,null,null,null,-32127]\n",
    "\n",
    "输出：2\n",
    "\n",
    "## 三、解题思路"
   ]
  },
  {
   "cell_type": "code",
   "execution_count": 1,
   "metadata": {},
   "outputs": [],
   "source": [
    "class TreeNode:\n",
    "    def __init__(self, val=0, left=None, right=None):\n",
    "        self.val = val\n",
    "        self.left = left\n",
    "        self.right = right"
   ]
  },
  {
   "cell_type": "code",
   "execution_count": 2,
   "metadata": {},
   "outputs": [],
   "source": [
    "root = TreeNode(1)\n",
    "\n",
    "root.left = TreeNode(7)\n",
    "root.right = TreeNode(0)\n",
    "\n",
    "root.left.left = TreeNode(7)\n",
    "root.left.right = TreeNode(-8)"
   ]
  },
  {
   "cell_type": "markdown",
   "metadata": {},
   "source": [
    "### 层序遍历"
   ]
  },
  {
   "cell_type": "code",
   "execution_count": 3,
   "metadata": {},
   "outputs": [],
   "source": [
    "def maxLevelSum(root) -> int:\n",
    "    max_val = - float('inf')\n",
    "    max_lay = -1\n",
    "    lay_index = 1\n",
    "    layer = [root]\n",
    "    while layer:\n",
    "        next_layer = []\n",
    "        cur = 0\n",
    "        for node in layer:\n",
    "            cur += node.val\n",
    "            if node.left:\n",
    "                next_layer.append(node.left)\n",
    "            if node.right:\n",
    "                next_layer.append(node.right)\n",
    "        if cur > max_val:\n",
    "            max_lay = lay_index\n",
    "            max_val = cur\n",
    "        layer = next_layer\n",
    "        lay_index += 1\n",
    "    return max_lay"
   ]
  },
  {
   "cell_type": "code",
   "execution_count": 4,
   "metadata": {},
   "outputs": [
    {
     "data": {
      "text/plain": [
       "2"
      ]
     },
     "execution_count": 4,
     "metadata": {},
     "output_type": "execute_result"
    }
   ],
   "source": [
    "maxLevelSum(root)"
   ]
  },
  {
   "cell_type": "code",
   "execution_count": null,
   "metadata": {},
   "outputs": [],
   "source": []
  }
 ],
 "metadata": {
  "kernelspec": {
   "display_name": "Python 3.10.4 64-bit",
   "language": "python",
   "name": "python3"
  },
  "language_info": {
   "codemirror_mode": {
    "name": "ipython",
    "version": 3
   },
   "file_extension": ".py",
   "mimetype": "text/x-python",
   "name": "python",
   "nbconvert_exporter": "python",
   "pygments_lexer": "ipython3",
   "version": "3.10.4"
  },
  "orig_nbformat": 4,
  "vscode": {
   "interpreter": {
    "hash": "4f946df053fbf2b937619d3c5458e7af74262f9a954d8797ba0b27400bcafe06"
   }
  }
 },
 "nbformat": 4,
 "nbformat_minor": 2
}
