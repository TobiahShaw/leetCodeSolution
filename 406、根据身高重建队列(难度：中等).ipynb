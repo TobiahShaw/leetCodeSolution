{
 "cells": [
  {
   "cell_type": "markdown",
   "metadata": {},
   "source": [
    "# 根据身高重建队列\n",
    "\n",
    "**题目来源：力扣（LeetCode）**\n",
    "\n",
    "**链接：https://leetcode-cn.com/problems/queue-reconstruction-by-height/**\n",
    "\n",
    "## 一、题目\n",
    "\n",
    "假设有打乱顺序的一群人站成一个队列。 每个人由一个整数对(h, k)表示，其中h是这个人的身高，k是排在这个人前面且身高大于或等于h的人数。 编写一个算法来重建这个队列。\n",
    "\n",
    "### 注意：\n",
    "\n",
    "总人数少于1100人。\n",
    "\n",
    "## 二、示例\n",
    "\n",
    "输入:\n",
    "\n",
    "[[7,0], [4,4], [7,1], [5,0], [6,1], [5,2]]\n",
    "\n",
    "输出:\n",
    "\n",
    "[[5,0], [7,0], [5,2], [6,1], [4,4], [7,1]]\n",
    "\n",
    "## 三、解题思路\n",
    "\n",
    "### 从低到高排列\n",
    "\n",
    "1. 首先将他们按照身高升序排列\n",
    "2. 按照排好的顺序放入空队伍中\n",
    "    1. 已经放入的比当前的低，不影响当前放入位置\n",
    "    2. 需要比当前高的人数为需要空出来放比自己高的位置，如果相等也需要考虑，此时只需要将队伍前身高大于等于资金人数少的排在前即可\n",
    "    3. 后面放入的会插入之前空的空间，而后面放的都是大于等于当前身高的，满足题目条件"
   ]
  },
  {
   "cell_type": "code",
   "execution_count": 1,
   "metadata": {},
   "outputs": [],
   "source": [
    "def reconstructQueue(people):\n",
    "    people.sort(key = lambda x : (x[0], -x[1]))\n",
    "    n = len(people)\n",
    "    ret = [[] for _ in range(n)]\n",
    "    for person in people:\n",
    "        spaces = person[1] + 1\n",
    "        for i in range(n):\n",
    "            if not ret[i]:\n",
    "                spaces -= 1\n",
    "                if spaces == 0:\n",
    "                    ret[i] = person\n",
    "    return ret"
   ]
  },
  {
   "cell_type": "code",
   "execution_count": 2,
   "metadata": {},
   "outputs": [
    {
     "data": {
      "text/plain": [
       "[[5, 0], [7, 0], [5, 2], [6, 1], [4, 4], [7, 1]]"
      ]
     },
     "execution_count": 2,
     "metadata": {},
     "output_type": "execute_result"
    }
   ],
   "source": [
    "reconstructQueue([[7,0], [4,4], [7,1], [5,0], [6,1], [5,2]])"
   ]
  },
  {
   "cell_type": "code",
   "execution_count": null,
   "metadata": {},
   "outputs": [],
   "source": []
  }
 ],
 "metadata": {
  "kernelspec": {
   "display_name": "Python 3",
   "language": "python",
   "name": "python3"
  },
  "language_info": {
   "codemirror_mode": {
    "name": "ipython",
    "version": 3
   },
   "file_extension": ".py",
   "mimetype": "text/x-python",
   "name": "python",
   "nbconvert_exporter": "python",
   "pygments_lexer": "ipython3",
   "version": "3.6.5"
  }
 },
 "nbformat": 4,
 "nbformat_minor": 2
}
