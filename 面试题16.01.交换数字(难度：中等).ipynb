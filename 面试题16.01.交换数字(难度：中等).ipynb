{
 "cells": [
  {
   "cell_type": "markdown",
   "metadata": {},
   "source": [
    "# 交换数字\n",
    "\n",
    "**题目来源：力扣（LeetCode）**\n",
    "\n",
    "**链接：https://leetcode-cn.com/problems/swap-numbers-lcci/**\n",
    "\n",
    "## 一、题目\n",
    "\n",
    "编写一个函数，不用临时变量，直接交换numbers = [a, b]中a与b的值。\n",
    "\n",
    "## 二、示例\n",
    "\n",
    "输入: numbers = [1,2]\n",
    "\n",
    "输出: [2,1]\n",
    "\n",
    "## 三、解题思路\n",
    "\n",
    "### 利用加法\n",
    "\n",
    "numbers=[x, y]\n",
    "\n",
    "numbers[0] = numbers[0] + numbers[1] = x + y\n",
    "\n",
    "numbers[1] = numbers[0] - numbers[1] = x + y - y = x\n",
    "\n",
    "numbers[0] = numbers[0] - numbers[1] = x + y - x = y"
   ]
  },
  {
   "cell_type": "code",
   "execution_count": 1,
   "metadata": {},
   "outputs": [],
   "source": [
    "def swapNumbers(numbers):\n",
    "    numbers[0] = numbers[0] + numbers[1]\n",
    "    numbers[1] = numbers[0] - numbers[1]\n",
    "    numbers[0] = numbers[0] - numbers[1]\n",
    "    return numbers"
   ]
  },
  {
   "cell_type": "code",
   "execution_count": 2,
   "metadata": {},
   "outputs": [
    {
     "data": {
      "text/plain": [
       "[2, 1]"
      ]
     },
     "execution_count": 2,
     "metadata": {},
     "output_type": "execute_result"
    }
   ],
   "source": [
    "swapNumbers([1, 2])"
   ]
  },
  {
   "cell_type": "code",
   "execution_count": null,
   "metadata": {},
   "outputs": [],
   "source": []
  }
 ],
 "metadata": {
  "kernelspec": {
   "display_name": "Python 3",
   "language": "python",
   "name": "python3"
  },
  "language_info": {
   "codemirror_mode": {
    "name": "ipython",
    "version": 3
   },
   "file_extension": ".py",
   "mimetype": "text/x-python",
   "name": "python",
   "nbconvert_exporter": "python",
   "pygments_lexer": "ipython3",
   "version": "3.6.5"
  }
 },
 "nbformat": 4,
 "nbformat_minor": 2
}
