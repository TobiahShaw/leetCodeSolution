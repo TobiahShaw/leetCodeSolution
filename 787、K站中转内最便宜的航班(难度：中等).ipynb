{
 "cells": [
  {
   "cell_type": "markdown",
   "metadata": {},
   "source": [
    "# K站中转内最便宜的航班\n",
    "\n",
    "**题目来源：力扣（LeetCode）**\n",
    "\n",
    "**链接：https://leetcode-cn.com/problems/cheapest-flights-within-k-stops/**\n",
    "\n",
    "## 一、题目\n",
    "\n",
    "有 n 个城市通过一些航班连接。给你一个数组 flights ，其中 flights[i] = [fromi, toi, pricei] ，表示该航班都从城市 fromi 开始，以价格 toi 抵达 pricei。\n",
    "\n",
    "现在给定所有的城市和航班，以及出发城市 src 和目的地 dst，你的任务是找到出一条最多经过 k 站中转的路线，使得从 src 到 dst 的 价格最便宜 ，并返回该价格。 如果不存在这样的路线，则输出 -1。\n",
    "\n",
    "## 二、示例\n",
    "\n",
    "### 示例 1：\n",
    "\n",
    "输入: n = 3, edges = [[0,1,100],[1,2,100],[0,2,500]], src = 0, dst = 2, k = 1\n",
    "\n",
    "输出: 200\n",
    "\n",
    "解释: 从城市 0 到城市 2 在 1 站中转以内的最便宜价格是 200。\n",
    "\n",
    "### 示例 2：\n",
    "\n",
    "输入: n = 3, edges = [[0,1,100],[1,2,100],[0,2,500]], src = 0, dst = 2, k = 0\n",
    "\n",
    "输出: 500\n",
    "\n",
    "解释: 从城市 0 到城市 2 在 0 站中转以内的最便宜价格是 500。\n",
    "\n",
    "## 三、解题思路"
   ]
  }
 ],
 "metadata": {
  "kernelspec": {
   "display_name": "Python 3",
   "language": "python",
   "name": "python3"
  },
  "language_info": {
   "codemirror_mode": {
    "name": "ipython",
    "version": 3
   },
   "file_extension": ".py",
   "mimetype": "text/x-python",
   "name": "python",
   "nbconvert_exporter": "python",
   "pygments_lexer": "ipython3",
   "version": "3.6.5"
  }
 },
 "nbformat": 4,
 "nbformat_minor": 2
}
