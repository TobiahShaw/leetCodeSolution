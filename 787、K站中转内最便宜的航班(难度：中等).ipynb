{
 "cells": [
  {
   "cell_type": "markdown",
   "metadata": {},
   "source": [
    "# K站中转内最便宜的航班\n",
    "\n",
    "**题目来源：力扣（LeetCode）**\n",
    "\n",
    "**链接：https://leetcode-cn.com/problems/cheapest-flights-within-k-stops/**\n",
    "\n",
    "## 一、题目\n",
    "\n",
    "有 n 个城市通过一些航班连接。给你一个数组 flights ，其中 flights[i] = [fromi, toi, pricei] ，表示该航班都从城市 fromi 开始，以价格 toi 抵达 pricei。\n",
    "\n",
    "现在给定所有的城市和航班，以及出发城市 src 和目的地 dst，你的任务是找到出一条最多经过 k 站中转的路线，使得从 src 到 dst 的 价格最便宜 ，并返回该价格。 如果不存在这样的路线，则输出 -1。\n",
    "\n",
    "### 提示：\n",
    "\n",
    "- 1 <= n <= 100\n",
    "- 0 <= flights.length <= (n * (n - 1) / 2)\n",
    "- flights[i].length == 3\n",
    "- 0 <= fromi, toi < n\n",
    "- fromi != toi\n",
    "- 1 <= pricei <= 104\n",
    "- 航班没有重复，且不存在自环\n",
    "- 0 <= src, dst, k < n\n",
    "- src != dst\n",
    "\n",
    "## 二、示例\n",
    "\n",
    "### 示例 1：\n",
    "\n",
    "输入: n = 3, flights = [[0,1,100],[1,2,100],[0,2,500]], src = 0, dst = 2, K = 1\n",
    "\n",
    "输出: 200\n",
    "\n",
    "解释: 从城市 0 到城市 2 在 1 站中转以内的最便宜价格是 200。\n",
    "\n",
    "### 示例 2：\n",
    "\n",
    "输入: n = 3, flights = [[0,1,100],[1,2,100],[0,2,500]], src = 0, dst = 2, K = 0\n",
    "\n",
    "输出: 500\n",
    "\n",
    "解释: 从城市 0 到城市 2 在 0 站中转以内的最便宜价格是 500。\n",
    "\n",
    "## 三、解题思路\n",
    "\n",
    "### 一、回溯（超时）"
   ]
  },
  {
   "cell_type": "code",
   "execution_count": 1,
   "metadata": {},
   "outputs": [],
   "source": [
    "def findCheapestPrice(n: int, flights, src: int, dst: int, K: int) -> int:\n",
    "    flightsMap = {}\n",
    "    for flight in flights:\n",
    "        if flight[0] in flightsMap:\n",
    "            flightsMap[flight[0]].append((flight[1], flight[2]))\n",
    "        else:\n",
    "            flightsMap[flight[0]] = [(flight[1], flight[2])]\n",
    "    ret = -1\n",
    "    def dfs(current, time, item):\n",
    "        if time - 1 > K:\n",
    "            return\n",
    "        if current[0] == dst:\n",
    "            nonlocal ret\n",
    "            cost = sum(point[1] for point in item)\n",
    "            if ret == -1 or cost < ret:\n",
    "                ret = cost\n",
    "            return\n",
    "        if current[0] not in flightsMap:\n",
    "            return\n",
    "        for point in flightsMap[current[0]]:\n",
    "            item.append(point)\n",
    "            dfs(point, time + 1, item)\n",
    "            item.pop()\n",
    "    dfs((src, 0), 0, [])\n",
    "    return ret"
   ]
  },
  {
   "cell_type": "code",
   "execution_count": 2,
   "metadata": {},
   "outputs": [
    {
     "data": {
      "text/plain": [
       "200"
      ]
     },
     "execution_count": 2,
     "metadata": {},
     "output_type": "execute_result"
    }
   ],
   "source": [
    "findCheapestPrice(n = 3, flights = [[0,1,100],[1,2,100],[0,2,500]], src = 0, dst = 2, K = 1)"
   ]
  },
  {
   "cell_type": "code",
   "execution_count": 3,
   "metadata": {},
   "outputs": [
    {
     "data": {
      "text/plain": [
       "500"
      ]
     },
     "execution_count": 3,
     "metadata": {},
     "output_type": "execute_result"
    }
   ],
   "source": [
    "findCheapestPrice(n = 3, flights = [[0,1,100],[1,2,100],[0,2,500]], src = 0, dst = 2, K = 0)"
   ]
  },
  {
   "cell_type": "markdown",
   "metadata": {},
   "source": [
    "### 二、dp"
   ]
  },
  {
   "cell_type": "code",
   "execution_count": 4,
   "metadata": {},
   "outputs": [],
   "source": [
    "def findCheapestPrice(n: int, flights, src: int, dst: int, K: int) -> int:\n",
    "    # dp[i][j]代表飞行i此到达j的花费\n",
    "    dp = [[float('inf')] * n for _ in range(K+2)]\n",
    "    # 起点花费为0\n",
    "    dp[0][src] = 0\n",
    "    for i in range(K+2):\n",
    "        for start, to, cost in flights:\n",
    "            # dp[i][to]为i-1次飞到start的花费加上start到to的花费\n",
    "            dp[i][to] = min(dp[i][to], dp[i-1][start] + cost)\n",
    "    ret = min(dp[i][dst] for i in range(K+2))\n",
    "    return -1 if ret == float('inf') else ret"
   ]
  },
  {
   "cell_type": "code",
   "execution_count": 5,
   "metadata": {},
   "outputs": [
    {
     "data": {
      "text/plain": [
       "200"
      ]
     },
     "execution_count": 5,
     "metadata": {},
     "output_type": "execute_result"
    }
   ],
   "source": [
    "findCheapestPrice(n = 3, flights = [[0,1,100],[1,2,100],[0,2,500]], src = 0, dst = 2, K = 1)"
   ]
  },
  {
   "cell_type": "code",
   "execution_count": 6,
   "metadata": {},
   "outputs": [
    {
     "data": {
      "text/plain": [
       "500"
      ]
     },
     "execution_count": 6,
     "metadata": {},
     "output_type": "execute_result"
    }
   ],
   "source": [
    "findCheapestPrice(n = 3, flights = [[0,1,100],[1,2,100],[0,2,500]], src = 0, dst = 2, K = 0)"
   ]
  },
  {
   "cell_type": "code",
   "execution_count": null,
   "metadata": {},
   "outputs": [],
   "source": []
  }
 ],
 "metadata": {
  "kernelspec": {
   "display_name": "Python 3",
   "language": "python",
   "name": "python3"
  },
  "language_info": {
   "codemirror_mode": {
    "name": "ipython",
    "version": 3
   },
   "file_extension": ".py",
   "mimetype": "text/x-python",
   "name": "python",
   "nbconvert_exporter": "python",
   "pygments_lexer": "ipython3",
   "version": "3.6.5"
  }
 },
 "nbformat": 4,
 "nbformat_minor": 2
}
