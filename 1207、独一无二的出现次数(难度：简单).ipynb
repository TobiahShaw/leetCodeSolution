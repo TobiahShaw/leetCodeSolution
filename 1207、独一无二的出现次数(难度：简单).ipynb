{
  "cells": [
    {
      "metadata": {
        "collapsed": true
      },
      "cell_type": "markdown",
      "source": "# 独一无二的出现次数\n\n**题目来源：力扣（LeetCode）**\n\n**链接：https://leetcode-cn.com/problems/unique-number-of-occurrences/**\n\n## 一、题目\n\n给你一个整数数组 arr，请你帮忙统计数组中每个数的出现次数。\n\n如果每个数的出现次数都是独一无二的，就返回 true；否则返回 false。\n\n## 二、示例\n\n### 示例 1：\n\n输入：arr = [1,2,2,1,1,3]\n\n输出：true\n\n解释：在该数组中，1 出现了 3 次，2 出现了 2 次，3 只出现了 1 次。没有两个数的出现次数相同。\n\n### 示例 2：\n\n输入：arr = [1,2]\n\n输出：false\n\n### 示例 3：\n\n输入：arr = [-3,0,1,-3,1,1,1,-3,10,0]\n\n输出：true\n\n## 三、解题思路\n\n### 利用字典"
    },
    {
      "metadata": {
        "trusted": true
      },
      "cell_type": "code",
      "source": "def uniqueOccurrences(arr):\n    dic = {}\n    for i in arr:\n        if i in dic:\n            dic[i] += 1\n        else :\n            dic[i] = 1\n    return len(dic) == len(set(dic.values()))",
      "execution_count": 1,
      "outputs": []
    },
    {
      "metadata": {
        "trusted": true
      },
      "cell_type": "code",
      "source": "uniqueOccurrences([1,2,2,1,1,3])",
      "execution_count": 2,
      "outputs": [
        {
          "output_type": "execute_result",
          "execution_count": 2,
          "data": {
            "text/plain": "True"
          },
          "metadata": {}
        }
      ]
    },
    {
      "metadata": {
        "trusted": true
      },
      "cell_type": "code",
      "source": "uniqueOccurrences([1,2])",
      "execution_count": 3,
      "outputs": [
        {
          "output_type": "execute_result",
          "execution_count": 3,
          "data": {
            "text/plain": "False"
          },
          "metadata": {}
        }
      ]
    },
    {
      "metadata": {
        "trusted": true
      },
      "cell_type": "code",
      "source": "uniqueOccurrences([-3,0,1,-3,1,1,1,-3,10,0])",
      "execution_count": 4,
      "outputs": [
        {
          "output_type": "execute_result",
          "execution_count": 4,
          "data": {
            "text/plain": "True"
          },
          "metadata": {}
        }
      ]
    },
    {
      "metadata": {
        "trusted": true
      },
      "cell_type": "code",
      "source": "",
      "execution_count": null,
      "outputs": []
    }
  ],
  "metadata": {
    "kernelspec": {
      "name": "python36",
      "display_name": "Python 3.6",
      "language": "python"
    },
    "language_info": {
      "mimetype": "text/x-python",
      "nbconvert_exporter": "python",
      "name": "python",
      "pygments_lexer": "ipython3",
      "version": "3.6.6",
      "file_extension": ".py",
      "codemirror_mode": {
        "version": 3,
        "name": "ipython"
      }
    }
  },
  "nbformat": 4,
  "nbformat_minor": 2
}