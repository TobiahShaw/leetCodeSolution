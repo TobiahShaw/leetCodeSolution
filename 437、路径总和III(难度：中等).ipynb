{
 "cells": [
  {
   "cell_type": "markdown",
   "metadata": {},
   "source": [
    "# 路径总和III\n",
    "\n",
    "**题目来源：力扣（LeetCode）**\n",
    "\n",
    "**链接：https://leetcode-cn.com/problems/path-sum-iii/**\n",
    "\n",
    "## 一、题目\n",
    "\n",
    "给定一个二叉树的根节点 root ，和一个整数 targetSum ，求该二叉树里节点值之和等于 targetSum 的 路径 的数目。\n",
    "\n",
    "路径 不需要从根节点开始，也不需要在叶子节点结束，但是路径方向必须是向下的（只能从父节点到子节点）。\n",
    "\n",
    "### 提示:\n",
    "\n",
    "- 二叉树的节点个数的范围是 [0,1000]\n",
    "- -10^9 <= Node.val <= 10^9 \n",
    "- -1000 <= targetSum <= 1000 \n",
    "\n",
    "## 二、示例\n",
    "\n",
    "### 示例 1：\n",
    "\n",
    "输入：root = [10,5,-3,3,2,null,11,3,-2,null,1], targetSum = 8\n",
    "\n",
    "输出：3\n",
    "\n",
    "### 示例 2：\n",
    "\n",
    "输入：root = [5,4,8,11,null,13,4,7,2,null,null,5,1], targetSum = 22\n",
    "\n",
    "输出：3\n",
    "\n",
    "## 三、解题思路"
   ]
  },
  {
   "cell_type": "code",
   "execution_count": 1,
   "metadata": {},
   "outputs": [],
   "source": [
    "class TreeNode:\n",
    "    def __init__(self, val=0, left=None, right=None):\n",
    "        self.val = val\n",
    "        self.left = left\n",
    "        self.right = right"
   ]
  },
  {
   "cell_type": "markdown",
   "metadata": {},
   "source": [
    "### DFS"
   ]
  },
  {
   "cell_type": "code",
   "execution_count": 2,
   "metadata": {},
   "outputs": [],
   "source": [
    "def pathSum(root: TreeNode, targetSum: int) -> int:\n",
    "    def dfs(node, targetSum):\n",
    "        if not node:\n",
    "            return 0\n",
    "        ret = 1 if node.val == targetSum else 0\n",
    "        ret += dfs(node.left, targetSum - node.val)\n",
    "        ret += dfs(node.right, targetSum - node.val)\n",
    "        return ret\n",
    "    if not root:\n",
    "        return 0\n",
    "    ret = dfs(root, targetSum)\n",
    "    # 不从根节点开始\n",
    "    ret += pathSum(root.left, targetSum)\n",
    "    ret += pathSum(root.right, targetSum)\n",
    "    return ret"
   ]
  },
  {
   "cell_type": "code",
   "execution_count": null,
   "metadata": {},
   "outputs": [],
   "source": []
  }
 ],
 "metadata": {
  "kernelspec": {
   "display_name": "Python 3",
   "language": "python",
   "name": "python3"
  },
  "language_info": {
   "codemirror_mode": {
    "name": "ipython",
    "version": 3
   },
   "file_extension": ".py",
   "mimetype": "text/x-python",
   "name": "python",
   "nbconvert_exporter": "python",
   "pygments_lexer": "ipython3",
   "version": "3.6.5"
  }
 },
 "nbformat": 4,
 "nbformat_minor": 2
}
