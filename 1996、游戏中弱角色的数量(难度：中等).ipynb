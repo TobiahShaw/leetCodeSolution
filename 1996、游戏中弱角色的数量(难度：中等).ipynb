{
 "cells": [
  {
   "cell_type": "markdown",
   "metadata": {},
   "source": [
    "# 游戏中弱角色的数量\n",
    "\n",
    "**题目来源：力扣（LeetCode）**\n",
    "\n",
    "**链接：https://leetcode-cn.com/problems/the-number-of-weak-characters-in-the-game/**\n",
    "\n",
    "## 一、题目\n",
    "\n",
    "你正在参加一个多角色游戏，每个角色都有两个主要属性：攻击 和 防御 。给你一个二维整数数组 properties ，其中 properties[i] = [attacki, defensei] 表示游戏中第 i 个角色的属性。\n",
    "\n",
    "如果存在一个其他角色的攻击和防御等级 都严格高于 该角色的攻击和防御等级，则认为该角色为 弱角色 。更正式地，如果认为角色 i 弱于 存在的另一个角色 j ，那么 attackj > attacki 且 defensej > defensei 。\n",
    "\n",
    "返回 弱角色 的数量。\n",
    "\n",
    "### 提示：\n",
    "\n",
    "- 2 <= properties.length <= 10^5\n",
    "- properties[i].length == 2\n",
    "- 1 <= attacki, defensei <= 10^5\n",
    "\n",
    "## 二、示例\n",
    "\n",
    "### 示例 1：\n",
    "\n",
    "输入：properties = [[5,5],[6,3],[3,6]]\n",
    "\n",
    "输出：0\n",
    "\n",
    "解释：不存在攻击和防御都严格高于其他角色的角色。\n",
    "\n",
    "### 示例 2：\n",
    "\n",
    "输入：properties = [[2,2],[3,3]]\n",
    "\n",
    "输出：1\n",
    "\n",
    "解释：第一个角色是弱角色，因为第二个角色的攻击和防御严格大于该角色。\n",
    "\n",
    "### 示例 3：\n",
    "\n",
    "输入：properties = [[1,5],[10,4],[4,3]]\n",
    "\n",
    "输出：1\n",
    "\n",
    "解释：第三个角色是弱角色，因为第二个角色的攻击和防御严格大于该角色。\n",
    "\n",
    "## 三、解题思路\n",
    "\n",
    "### 一、排序+二分（超时）"
   ]
  },
  {
   "cell_type": "code",
   "execution_count": 1,
   "metadata": {},
   "outputs": [],
   "source": [
    "def numberOfWeakCharacters(properties) -> int:\n",
    "    import bisect\n",
    "    ret = set()\n",
    "    n = len(properties)\n",
    "    rank = sorted(properties, key = lambda x : (-x[0] -x[1], -x[0], -x[1]))\n",
    "    nexts = []\n",
    "    score = sum(rank[0])\n",
    "    for i in range(n):\n",
    "        newScore= sum(rank[i])\n",
    "        if newScore != score:\n",
    "            nexts.append(i)\n",
    "            score = newScore\n",
    "    for i in range(n):\n",
    "        if i in ret:\n",
    "            continue\n",
    "        nextIndex = bisect.bisect(nexts, i)\n",
    "        if nextIndex < len(nexts):\n",
    "            nextIndex = nexts[nextIndex]\n",
    "        for j in range(n-1, nextIndex -1, -1):\n",
    "            if j in ret:\n",
    "                continue\n",
    "            if rank[i][0] <= rank[j][0] and rank[i][1] <= rank[j][1]:\n",
    "                break\n",
    "            elif rank[i][0] > rank[j][0] and rank[i][1] > rank[j][1]:\n",
    "                ret.add(j)\n",
    "    return len(ret)"
   ]
  },
  {
   "cell_type": "code",
   "execution_count": 2,
   "metadata": {},
   "outputs": [
    {
     "data": {
      "text/plain": [
       "0"
      ]
     },
     "execution_count": 2,
     "metadata": {},
     "output_type": "execute_result"
    }
   ],
   "source": [
    "numberOfWeakCharacters([[5,5],[6,3],[3,6]])"
   ]
  },
  {
   "cell_type": "code",
   "execution_count": 3,
   "metadata": {},
   "outputs": [
    {
     "data": {
      "text/plain": [
       "1"
      ]
     },
     "execution_count": 3,
     "metadata": {},
     "output_type": "execute_result"
    }
   ],
   "source": [
    "numberOfWeakCharacters([[2,2],[3,3]])"
   ]
  },
  {
   "cell_type": "code",
   "execution_count": 4,
   "metadata": {},
   "outputs": [
    {
     "data": {
      "text/plain": [
       "1"
      ]
     },
     "execution_count": 4,
     "metadata": {},
     "output_type": "execute_result"
    }
   ],
   "source": [
    "numberOfWeakCharacters([[1,5],[10,4],[4,3]])"
   ]
  },
  {
   "cell_type": "markdown",
   "metadata": {},
   "source": [
    "### 二、排序"
   ]
  },
  {
   "cell_type": "code",
   "execution_count": 5,
   "metadata": {},
   "outputs": [],
   "source": [
    "def numberOfWeakCharacters(properties) -> int:\n",
    "    properties.sort(key=lambda x: (-x[0], x[1]))\n",
    "    ans = 0\n",
    "    maxDef = 0\n",
    "    for _, def_ in properties:\n",
    "        if maxDef > def_:\n",
    "            ans += 1\n",
    "        else:\n",
    "            maxDef = max(maxDef, def_)\n",
    "    return ans"
   ]
  },
  {
   "cell_type": "code",
   "execution_count": 6,
   "metadata": {},
   "outputs": [
    {
     "data": {
      "text/plain": [
       "0"
      ]
     },
     "execution_count": 6,
     "metadata": {},
     "output_type": "execute_result"
    }
   ],
   "source": [
    "numberOfWeakCharacters([[5,5],[6,3],[3,6]])"
   ]
  },
  {
   "cell_type": "code",
   "execution_count": 7,
   "metadata": {},
   "outputs": [
    {
     "data": {
      "text/plain": [
       "1"
      ]
     },
     "execution_count": 7,
     "metadata": {},
     "output_type": "execute_result"
    }
   ],
   "source": [
    "numberOfWeakCharacters([[2,2],[3,3]])"
   ]
  },
  {
   "cell_type": "code",
   "execution_count": 8,
   "metadata": {},
   "outputs": [
    {
     "data": {
      "text/plain": [
       "1"
      ]
     },
     "execution_count": 8,
     "metadata": {},
     "output_type": "execute_result"
    }
   ],
   "source": [
    "numberOfWeakCharacters([[1,5],[10,4],[4,3]])"
   ]
  },
  {
   "cell_type": "code",
   "execution_count": null,
   "metadata": {},
   "outputs": [],
   "source": []
  }
 ],
 "metadata": {
  "kernelspec": {
   "display_name": "Python 3",
   "language": "python",
   "name": "python3"
  },
  "language_info": {
   "codemirror_mode": {
    "name": "ipython",
    "version": 3
   },
   "file_extension": ".py",
   "mimetype": "text/x-python",
   "name": "python",
   "nbconvert_exporter": "python",
   "pygments_lexer": "ipython3",
   "version": "3.6.5"
  }
 },
 "nbformat": 4,
 "nbformat_minor": 2
}
