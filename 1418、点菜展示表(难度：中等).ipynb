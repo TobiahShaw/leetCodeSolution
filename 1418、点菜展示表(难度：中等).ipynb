{
 "cells": [
  {
   "cell_type": "markdown",
   "metadata": {},
   "source": [
    "# 点菜展示表\n",
    "\n",
    "**题目来源：力扣（LeetCode）**\n",
    "\n",
    "**链接：https://leetcode-cn.com/problems/display-table-of-food-orders-in-a-restaurant/**\n",
    "\n",
    "## 一、题目\n",
    "\n",
    "给你一个数组 orders，表示客户在餐厅中完成的订单，确切地说， orders[i]=[customerNamei,tableNumberi,foodItemi] ，其中 customerNamei 是客户的姓名，tableNumberi 是客户所在餐桌的桌号，而 foodItemi 是客户点的餐品名称。\n",
    "\n",
    "请你返回该餐厅的 点菜展示表 。在这张表中，表中第一行为标题，其第一列为餐桌桌号 “Table” ，后面每一列都是按字母顺序排列的餐品名称。接下来每一行中的项则表示每张餐桌订购的相应餐品数量，第一列应当填对应的桌号，后面依次填写下单的餐品数量。\n",
    "\n",
    "### 注意\n",
    "\n",
    "客户姓名不是点菜展示表的一部分。此外，表中的数据行应该按餐桌桌号升序排列。\n",
    "\n",
    "### 提示：\n",
    "\n",
    "- 1 <= orders.length <= 5 * 10^4\n",
    "- orders[i].length == 3\n",
    "- 1 <= customerNamei.length, foodItemi.length <= 20\n",
    "- customerNamei 和 foodItemi 由大小写英文字母及空格字符 ' ' 组成。\n",
    "- tableNumberi 是 1 到 500 范围内的整数。\n",
    "\n",
    "## 二、示例\n",
    "\n",
    "### 示例 1：\n",
    "\n",
    "输入：orders = [[\"David\",\"3\",\"Ceviche\"],[\"Corina\",\"10\",\"Beef Burrito\"],[\"David\",\"3\",\"Fried Chicken\"],[\"Carla\",\"5\",\"Water\"],[\"Carla\",\"5\",\"Ceviche\"],[\"Rous\",\"3\",\"Ceviche\"]]\n",
    "\n",
    "输出：[[\"Table\",\"Beef Burrito\",\"Ceviche\",\"Fried Chicken\",\"Water\"],[\"3\",\"0\",\"2\",\"1\",\"0\"],[\"5\",\"0\",\"1\",\"0\",\"1\"],[\"10\",\"1\",\"0\",\"0\",\"0\"]] \n",
    "\n",
    "解释：\n",
    "\n",
    "点菜展示表如下所示：\n",
    "\n",
    "```\n",
    "Table,Beef Burrito,Ceviche,Fried Chicken,Water\n",
    "3    ,0           ,2      ,1            ,0\n",
    "5    ,0           ,1      ,0            ,1\n",
    "10   ,1           ,0      ,0            ,0\n",
    "```\n",
    "\n",
    "对于餐桌 3：David 点了 \"Ceviche\" 和 \"Fried Chicken\"，而 Rous 点了 \"Ceviche\"\n",
    "\n",
    "而餐桌 5：Carla 点了 \"Water\" 和 \"Ceviche\"\n",
    "\n",
    "餐桌 10：Corina 点了 \"Beef Burrito\" \n",
    "\n",
    "### 示例 2：\n",
    "\n",
    "输入：orders = [[\"James\",\"12\",\"Fried Chicken\"],[\"Ratesh\",\"12\",\"Fried Chicken\"],[\"Amadeus\",\"12\",\"Fried Chicken\"],[\"Adam\",\"1\",\"Canadian Waffles\"],[\"Brianna\",\"1\",\"Canadian Waffles\"]]\n",
    "\n",
    "输出：[[\"Table\",\"Canadian Waffles\",\"Fried Chicken\"],[\"1\",\"2\",\"0\"],[\"12\",\"0\",\"3\"]] \n",
    "\n",
    "解释：\n",
    "\n",
    "对于餐桌 1：Adam 和 Brianna 都点了 \"Canadian Waffles\"\n",
    "\n",
    "而餐桌 12：James, Ratesh 和 Amadeus 都点了 \"Fried Chicken\"\n",
    "\n",
    "### 示例 3：\n",
    "\n",
    "输入：orders = [[\"Laura\",\"2\",\"Bean Burrito\"],[\"Jhon\",\"2\",\"Beef Burrito\"],[\"Melissa\",\"2\",\"Soda\"]]\n",
    "\n",
    "输出：[[\"Table\",\"Bean Burrito\",\"Beef Burrito\",\"Soda\"],[\"2\",\"1\",\"1\",\"1\"]]\n",
    "\n",
    "## 三、解题思路\n",
    "\n",
    "### 哈希表"
   ]
  },
  {
   "cell_type": "code",
   "execution_count": 1,
   "metadata": {},
   "outputs": [],
   "source": [
    "def displayTable(orders):\n",
    "    dishies = set()\n",
    "    dic = {}\n",
    "    for order in orders:\n",
    "        dishies.add(order[2])\n",
    "        if order[1] in dic:\n",
    "            if order[2] in dic[order[1]]:\n",
    "                dic[order[1]][order[2]] += 1\n",
    "            else:\n",
    "                dic[order[1]][order[2]] = 1\n",
    "        else:\n",
    "            dic[order[1]] = {order[2]: 1}\n",
    "    dishies = sorted(dishies)\n",
    "    ret = [[\"Table\"] + dishies]\n",
    "    for tabNum in sorted(dic.keys(), key = lambda x : int(x)):\n",
    "        row = [tabNum]\n",
    "        for dish in dishies:\n",
    "            row.append(str(dic[tabNum].get(dish, 0)))\n",
    "        ret.append(row)\n",
    "    return ret"
   ]
  },
  {
   "cell_type": "code",
   "execution_count": 2,
   "metadata": {},
   "outputs": [
    {
     "data": {
      "text/plain": [
       "[['Table', 'Beef Burrito', 'Ceviche', 'Fried Chicken', 'Water'],\n",
       " ['3', '0', '2', '1', '0'],\n",
       " ['5', '0', '1', '0', '1'],\n",
       " ['10', '1', '0', '0', '0']]"
      ]
     },
     "execution_count": 2,
     "metadata": {},
     "output_type": "execute_result"
    }
   ],
   "source": [
    "displayTable([[\"David\",\"3\",\"Ceviche\"],[\"Corina\",\"10\",\"Beef Burrito\"],[\"David\",\"3\",\"Fried Chicken\"],[\"Carla\",\"5\",\"Water\"],[\"Carla\",\"5\",\"Ceviche\"],[\"Rous\",\"3\",\"Ceviche\"]])"
   ]
  },
  {
   "cell_type": "code",
   "execution_count": 3,
   "metadata": {},
   "outputs": [
    {
     "data": {
      "text/plain": [
       "[['Table', 'Canadian Waffles', 'Fried Chicken'],\n",
       " ['1', '2', '0'],\n",
       " ['12', '0', '3']]"
      ]
     },
     "execution_count": 3,
     "metadata": {},
     "output_type": "execute_result"
    }
   ],
   "source": [
    "displayTable([[\"James\",\"12\",\"Fried Chicken\"],[\"Ratesh\",\"12\",\"Fried Chicken\"],[\"Amadeus\",\"12\",\"Fried Chicken\"],[\"Adam\",\"1\",\"Canadian Waffles\"],[\"Brianna\",\"1\",\"Canadian Waffles\"]])"
   ]
  },
  {
   "cell_type": "code",
   "execution_count": 4,
   "metadata": {},
   "outputs": [
    {
     "data": {
      "text/plain": [
       "[['Table', 'Bean Burrito', 'Beef Burrito', 'Soda'], ['2', '1', '1', '1']]"
      ]
     },
     "execution_count": 4,
     "metadata": {},
     "output_type": "execute_result"
    }
   ],
   "source": [
    "displayTable([[\"Laura\",\"2\",\"Bean Burrito\"],[\"Jhon\",\"2\",\"Beef Burrito\"],[\"Melissa\",\"2\",\"Soda\"]])"
   ]
  },
  {
   "cell_type": "code",
   "execution_count": null,
   "metadata": {},
   "outputs": [],
   "source": []
  }
 ],
 "metadata": {
  "kernelspec": {
   "display_name": "Python 3",
   "language": "python",
   "name": "python3"
  },
  "language_info": {
   "codemirror_mode": {
    "name": "ipython",
    "version": 3
   },
   "file_extension": ".py",
   "mimetype": "text/x-python",
   "name": "python",
   "nbconvert_exporter": "python",
   "pygments_lexer": "ipython3",
   "version": "3.6.5"
  }
 },
 "nbformat": 4,
 "nbformat_minor": 2
}
