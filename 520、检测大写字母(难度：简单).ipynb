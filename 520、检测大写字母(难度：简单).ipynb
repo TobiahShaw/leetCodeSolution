{
 "cells": [
  {
   "cell_type": "markdown",
   "metadata": {},
   "source": [
    "# 检测大写字母\n",
    "\n",
    "**题目来源：力扣（LeetCode）**\n",
    "\n",
    "**链接：https://leetcode-cn.com/problems/detect-capital/**\n",
    "\n",
    "## 一、题目\n",
    "\n",
    "给定一个单词，你需要判断单词的大写使用是否正确。\n",
    "\n",
    "我们定义，在以下情况时，单词的大写用法是正确的：\n",
    "\n",
    "- 全部字母都是大写，比如\"USA\"。\n",
    "- 单词中所有字母都不是大写，比如\"leetcode\"。\n",
    "- 如果单词不只含有一个字母，只有首字母大写， 比如 \"Google\"。\n",
    "\n",
    "否则，我们定义这个单词没有正确使用大写字母。\n",
    "\n",
    "## 二、示例\n",
    "\n",
    "### 示例 1：\n",
    "\n",
    "输入: \"USA\"\n",
    "\n",
    "输出: True\n",
    "\n",
    "### 示例 2:\n",
    "\n",
    "输入: \"FlaG\"\n",
    "\n",
    "输出: False\n",
    "\n",
    "## 三、解题思路\n",
    "\n",
    "### 内置函数"
   ]
  },
  {
   "cell_type": "code",
   "execution_count": 1,
   "metadata": {},
   "outputs": [],
   "source": [
    "def detectCapitalUse(word: str) -> bool:\n",
    "    return word.islower() or word.isupper() or word.istitle()"
   ]
  },
  {
   "cell_type": "code",
   "execution_count": 2,
   "metadata": {},
   "outputs": [
    {
     "data": {
      "text/plain": [
       "True"
      ]
     },
     "execution_count": 2,
     "metadata": {},
     "output_type": "execute_result"
    }
   ],
   "source": [
    "detectCapitalUse(\"USA\")"
   ]
  },
  {
   "cell_type": "code",
   "execution_count": 3,
   "metadata": {},
   "outputs": [
    {
     "data": {
      "text/plain": [
       "False"
      ]
     },
     "execution_count": 3,
     "metadata": {},
     "output_type": "execute_result"
    }
   ],
   "source": [
    "detectCapitalUse(\"FlaG\")"
   ]
  },
  {
   "cell_type": "code",
   "execution_count": null,
   "metadata": {},
   "outputs": [],
   "source": []
  }
 ],
 "metadata": {
  "kernelspec": {
   "display_name": "Python 3",
   "language": "python",
   "name": "python3"
  },
  "language_info": {
   "codemirror_mode": {
    "name": "ipython",
    "version": 3
   },
   "file_extension": ".py",
   "mimetype": "text/x-python",
   "name": "python",
   "nbconvert_exporter": "python",
   "pygments_lexer": "ipython3",
   "version": "3.6.5"
  }
 },
 "nbformat": 4,
 "nbformat_minor": 2
}
