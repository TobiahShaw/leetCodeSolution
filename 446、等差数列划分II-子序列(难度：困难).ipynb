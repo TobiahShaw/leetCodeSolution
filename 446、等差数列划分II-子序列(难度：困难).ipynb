{
 "cells": [
  {
   "cell_type": "markdown",
   "metadata": {},
   "source": [
    "# 等差数列划分II-子序列\n",
    "\n",
    "**题目来源：力扣（LeetCode）**\n",
    "\n",
    "**链接：https://leetcode-cn.com/problems/arithmetic-slices-ii-subsequence/**\n",
    "\n",
    "## 一、题目\n",
    "\n",
    "给你一个整数数组 nums ，返回 nums 中所有 等差子序列 的数目。\n",
    "\n",
    "如果一个序列中 至少有三个元素 ，并且任意两个相邻元素之差相同，则称该序列为等差序列。\n",
    "\n",
    "- 例如，[1, 3, 5, 7, 9]、[7, 7, 7, 7] 和 [3, -1, -5, -9] 都是等差序列。\n",
    "- 再例如，[1, 1, 2, 5, 7] 不是等差序列。\n",
    "\n",
    "数组中的子序列是从数组中删除一些元素（也可能不删除）得到的一个序列。\n",
    "\n",
    "- 例如，[2,5,10] 是 [1,2,1,2,4,1,5,10] 的一个子序列。\n",
    "\n",
    "题目数据保证答案是一个 32-bit 整数。\n",
    "\n",
    "### 提示：\n",
    "\n",
    "- 1  <= nums.length <= 1000\n",
    "- -2^31 <= nums[i] <= 2^31 - 1\n",
    "\n",
    "## 二、示例\n",
    "\n",
    "### 示例 1：\n",
    "\n",
    "输入：nums = [2,4,6,8,10]\n",
    "\n",
    "输出：7\n",
    "\n",
    "解释：所有的等差子序列为：\n",
    "\n",
    "- [2,4,6]\n",
    "- [4,6,8]\n",
    "- [6,8,10]\n",
    "- [2,4,6,8]\n",
    "- [4,6,8,10]\n",
    "- [2,4,6,8,10]\n",
    "- [2,6,10]\n",
    "\n",
    "### 示例 2：\n",
    "\n",
    "输入：nums = [7,7,7,7,7]\n",
    "\n",
    "输出：16\n",
    "\n",
    "解释：数组中的任意子序列都是等差子序列。\n",
    "\n",
    "## 三、解题思路\n",
    "\n",
    "### dp"
   ]
  },
  {
   "cell_type": "code",
   "execution_count": 1,
   "metadata": {},
   "outputs": [],
   "source": [
    "def numberOfArithmeticSlices(nums) -> int:\n",
    "    from collections import defaultdict\n",
    "    ret = 0\n",
    "    dp = [defaultdict(int) for _ in nums]\n",
    "    for i in range(len(nums)):\n",
    "        for j in range(i):\n",
    "            # 以 i， j 结尾的等差数列的公差\n",
    "            d = nums[i] - nums[j]\n",
    "            # 以 j 结尾公差为 d 的等差数列数\n",
    "            cnt = dp[j][d]\n",
    "            # 则 以 i 为结尾公差为 d 的等差数列数，可以加上以 j 结尾公差为 d 的等差数列数（因为d = nums[i] - nums[j]，再加上组合起来拿一个）\n",
    "            dp[i][d] += cnt + 1\n",
    "            # 等差数列数 加上 以 j 结尾公差为 d 的等差数列数\n",
    "            ret += cnt\n",
    "    return ret"
   ]
  },
  {
   "cell_type": "code",
   "execution_count": 2,
   "metadata": {},
   "outputs": [
    {
     "data": {
      "text/plain": [
       "7"
      ]
     },
     "execution_count": 2,
     "metadata": {},
     "output_type": "execute_result"
    }
   ],
   "source": [
    "numberOfArithmeticSlices([2,4,6,8,10])"
   ]
  },
  {
   "cell_type": "code",
   "execution_count": 3,
   "metadata": {},
   "outputs": [
    {
     "data": {
      "text/plain": [
       "16"
      ]
     },
     "execution_count": 3,
     "metadata": {},
     "output_type": "execute_result"
    }
   ],
   "source": [
    "numberOfArithmeticSlices([7,7,7,7,7])"
   ]
  },
  {
   "cell_type": "code",
   "execution_count": null,
   "metadata": {},
   "outputs": [],
   "source": []
  }
 ],
 "metadata": {
  "kernelspec": {
   "display_name": "Python 3",
   "language": "python",
   "name": "python3"
  },
  "language_info": {
   "codemirror_mode": {
    "name": "ipython",
    "version": 3
   },
   "file_extension": ".py",
   "mimetype": "text/x-python",
   "name": "python",
   "nbconvert_exporter": "python",
   "pygments_lexer": "ipython3",
   "version": "3.6.5"
  }
 },
 "nbformat": 4,
 "nbformat_minor": 2
}
