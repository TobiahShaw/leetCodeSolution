{
 "cells": [
  {
   "cell_type": "markdown",
   "metadata": {},
   "source": [
    "# 将每个元素替换为右侧最大元素\n",
    "\n",
    "**题目来源：力扣（LeetCode）**\n",
    "\n",
    "**链接：https://leetcode-cn.com/problems/replace-elements-with-greatest-element-on-right-side/**\n",
    "\n",
    "## 一、题目\n",
    "\n",
    "给你一个数组 arr ，请你将每个元素用它右边最大的元素替换，如果是最后一个元素，用 -1 替换。\n",
    "\n",
    "完成所有替换操作后，请你返回这个数组。\n",
    "\n",
    "### 提示：\n",
    "\n",
    "- 1 <= arr.length <= 10^4\n",
    "- 1 <= arr[i] <= 10^5\n",
    "\n",
    "## 二、示例\n",
    "\n",
    "### 示例 1：\n",
    "\n",
    "输入：arr = [17,18,5,4,6,1]\n",
    "\n",
    "输出：[18,6,6,6,1,-1]\n",
    "\n",
    "解释：\n",
    "\n",
    "- 下标 0 的元素 --> 右侧最大元素是下标 1 的元素 (18)\n",
    "- 下标 1 的元素 --> 右侧最大元素是下标 4 的元素 (6)\n",
    "- 下标 2 的元素 --> 右侧最大元素是下标 4 的元素 (6)\n",
    "- 下标 3 的元素 --> 右侧最大元素是下标 4 的元素 (6)\n",
    "- 下标 4 的元素 --> 右侧最大元素是下标 5 的元素 (1)\n",
    "- 下标 5 的元素 --> 右侧没有其他元素，替换为 -1\n",
    "\n",
    "### 示例 2：\n",
    "\n",
    "输入：arr = [400]\n",
    "\n",
    "输出：[-1]\n",
    "\n",
    "解释：下标 0 的元素右侧没有其他元素。\n",
    "\n",
    "## 三、解题思路\n",
    "\n",
    "### 一、从后面开始轮询"
   ]
  },
  {
   "cell_type": "code",
   "execution_count": 1,
   "metadata": {},
   "outputs": [],
   "source": [
    "def replaceElements(arr):\n",
    "    if not arr:\n",
    "        return []\n",
    "    n = len(arr)\n",
    "    if n == 1:\n",
    "        return [-1]\n",
    "    ret = [0] * n\n",
    "    ret[-1] = -1\n",
    "    curMax = arr[-1]\n",
    "    for i in range(len(arr) - 2, -1, -1):\n",
    "        ret[i] = curMax\n",
    "        curMax = max(curMax, arr[i])\n",
    "    return ret"
   ]
  },
  {
   "cell_type": "code",
   "execution_count": 2,
   "metadata": {},
   "outputs": [
    {
     "data": {
      "text/plain": [
       "[18, 6, 6, 6, 1, -1]"
      ]
     },
     "execution_count": 2,
     "metadata": {},
     "output_type": "execute_result"
    }
   ],
   "source": [
    "replaceElements([17,18,5,4,6,1])"
   ]
  },
  {
   "cell_type": "markdown",
   "metadata": {},
   "source": [
    "### 二、空间复杂度优化"
   ]
  },
  {
   "cell_type": "code",
   "execution_count": 3,
   "metadata": {},
   "outputs": [],
   "source": [
    "def replaceElements(arr):\n",
    "    if not arr:\n",
    "        return []\n",
    "    n = len(arr)\n",
    "    if n == 1:\n",
    "        return [-1]\n",
    "    curMax = -1\n",
    "    for i in range(len(arr) - 1, -1, -1):\n",
    "        tmp = max(curMax, arr[i])\n",
    "        arr[i] = curMax\n",
    "        curMax = tmp\n",
    "    return arr"
   ]
  },
  {
   "cell_type": "code",
   "execution_count": 4,
   "metadata": {},
   "outputs": [
    {
     "data": {
      "text/plain": [
       "[18, 6, 6, 6, 1, -1]"
      ]
     },
     "execution_count": 4,
     "metadata": {},
     "output_type": "execute_result"
    }
   ],
   "source": [
    "replaceElements([17,18,5,4,6,1])"
   ]
  },
  {
   "cell_type": "code",
   "execution_count": null,
   "metadata": {},
   "outputs": [],
   "source": []
  }
 ],
 "metadata": {
  "kernelspec": {
   "display_name": "Python 3",
   "language": "python",
   "name": "python3"
  },
  "language_info": {
   "codemirror_mode": {
    "name": "ipython",
    "version": 3
   },
   "file_extension": ".py",
   "mimetype": "text/x-python",
   "name": "python",
   "nbconvert_exporter": "python",
   "pygments_lexer": "ipython3",
   "version": "3.6.5"
  }
 },
 "nbformat": 4,
 "nbformat_minor": 2
}
