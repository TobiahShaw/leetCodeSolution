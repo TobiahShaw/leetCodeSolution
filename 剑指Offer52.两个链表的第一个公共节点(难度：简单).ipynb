{
 "cells": [
  {
   "cell_type": "markdown",
   "metadata": {},
   "source": [
    "# 两个链表的第一个公共节点\n",
    "\n",
    "**题目来源：力扣（LeetCode）**\n",
    "\n",
    "**链接：https://leetcode-cn.com/problems/liang-ge-lian-biao-de-di-yi-ge-gong-gong-jie-dian-lcof/**\n",
    "\n",
    "## 一、题目\n",
    "\n",
    "输入两个链表，找出它们的第一个公共节点。\n",
    "\n",
    "### 注意：\n",
    "\n",
    "- 如果两个链表没有交点，返回 null.\n",
    "- 在返回结果后，两个链表仍须保持原有的结构。\n",
    "- 可假定整个链表结构中没有循环。\n",
    "- 程序尽量满足 O(n) 时间复杂度，且仅用 O(1) 内存。\n",
    "\n",
    "## 二、示例\n",
    "\n",
    "### 示例 1：\n",
    "\n",
    "输入：intersectVal = 8, listA = [4,1,8,4,5], listB = [5,0,1,8,4,5], skipA = 2, skipB = 3\n",
    "\n",
    "输出：Reference of the node with value = 8\n",
    "\n",
    "输入解释：相交节点的值为 8 （注意，如果两个列表相交则不能为 0）。从各自的表头开始算起，链表 A 为 [4,1,8,4,5]，链表 B 为 [5,0,1,8,4,5]。在 A 中，相交节点前有 2 个节点；在 B 中，相交节点前有 3 个节点。\n",
    "\n",
    "### 示例 2：\n",
    "\n",
    "输入：intersectVal = 2, listA = [0,9,1,2,4], listB = [3,2,4], skipA = 3, skipB = 1\n",
    "\n",
    "输出：Reference of the node with value = 2\n",
    "\n",
    "输入解释：相交节点的值为 2 （注意，如果两个列表相交则不能为 0）。从各自的表头开始算起，链表 A 为 [0,9,1,2,4]，链表 B 为 [3,2,4]。在 A 中，相交节点前有 3 个节点；在 B 中，相交节点前有 1 个节点。\n",
    "\n",
    "### 示例 3：\n",
    "\n",
    "输入：intersectVal = 0, listA = [2,6,4], listB = [1,5], skipA = 3, skipB = 2\n",
    "\n",
    "输出：null\n",
    "\n",
    "输入解释：从各自的表头开始算起，链表 A 为 [2,6,4]，链表 B 为 [1,5]。由于这两个链表不相交，所以 intersectVal 必须为 0，而 skipA 和 skipB 可以是任意值。\n",
    "\n",
    "解释：这两个链表不相交，因此返回 null。\n",
    "\n",
    "## 三、解题思路"
   ]
  },
  {
   "cell_type": "code",
   "execution_count": 1,
   "metadata": {},
   "outputs": [],
   "source": [
    "class ListNode:\n",
    "    def __init__(self, x):\n",
    "        self.val = x\n",
    "        self.next = None"
   ]
  },
  {
   "cell_type": "code",
   "execution_count": 2,
   "metadata": {},
   "outputs": [],
   "source": [
    "tail = ListNode(8)\n",
    "tail.next = ListNode(4)\n",
    "tail.next.next = ListNode(5)\n",
    "\n",
    "headA = ListNode(4)\n",
    "headA.next = ListNode(1)\n",
    "headA.next.next = tail\n",
    "\n",
    "headB = ListNode(5)\n",
    "headB.next = ListNode(0)\n",
    "headB.next.next = ListNode(1)\n",
    "headB.next.next.next = tail"
   ]
  },
  {
   "cell_type": "markdown",
   "metadata": {},
   "source": [
    "### 对齐尾部"
   ]
  },
  {
   "cell_type": "code",
   "execution_count": 3,
   "metadata": {},
   "outputs": [],
   "source": [
    "def getIntersectionNode(headA: ListNode, headB: ListNode) -> ListNode:\n",
    "    if not headA or not headB:\n",
    "        return None\n",
    "    if headA == headB:\n",
    "        return headA\n",
    "    tmpA,tmpB = headA, headB\n",
    "    lenA, lenB = 0, 0\n",
    "    while tmpA or tmpB:\n",
    "        if tmpA:\n",
    "            lenA += 1\n",
    "            tmpA = tmpA.next\n",
    "        if tmpB:\n",
    "            lenB += 1\n",
    "            tmpB = tmpB.next\n",
    "    longer, shorter = None, None\n",
    "    if lenA > lenB:\n",
    "        longer = headA\n",
    "        shorter = headB\n",
    "    else:\n",
    "        longer = headB\n",
    "        shorter = headA\n",
    "    for _ in range(abs(lenA - lenB)):\n",
    "        longer = longer.next\n",
    "    while longer and shorter:\n",
    "        if longer == shorter:\n",
    "            return longer\n",
    "        longer = longer.next\n",
    "        shorter = shorter.next\n",
    "    return None"
   ]
  },
  {
   "cell_type": "code",
   "execution_count": 4,
   "metadata": {},
   "outputs": [
    {
     "data": {
      "text/plain": [
       "8"
      ]
     },
     "execution_count": 4,
     "metadata": {},
     "output_type": "execute_result"
    }
   ],
   "source": [
    "getIntersectionNode(headA, headB).val"
   ]
  },
  {
   "cell_type": "code",
   "execution_count": null,
   "metadata": {},
   "outputs": [],
   "source": []
  }
 ],
 "metadata": {
  "kernelspec": {
   "display_name": "Python 3",
   "language": "python",
   "name": "python3"
  },
  "language_info": {
   "codemirror_mode": {
    "name": "ipython",
    "version": 3
   },
   "file_extension": ".py",
   "mimetype": "text/x-python",
   "name": "python",
   "nbconvert_exporter": "python",
   "pygments_lexer": "ipython3",
   "version": "3.6.5"
  }
 },
 "nbformat": 4,
 "nbformat_minor": 2
}
