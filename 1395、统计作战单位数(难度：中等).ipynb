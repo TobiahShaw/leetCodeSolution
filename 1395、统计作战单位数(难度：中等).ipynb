{
 "cells": [
  {
   "cell_type": "markdown",
   "metadata": {},
   "source": [
    "# 统计作战单位数\n",
    "\n",
    "**题目来源：力扣（LeetCode）**\n",
    "\n",
    "**链接：https://leetcode-cn.com/problems/count-number-of-teams/**\n",
    "\n",
    "## 一、题目\n",
    "\n",
    "n 名士兵站成一排。每个士兵都有一个 独一无二 的评分 rating 。\n",
    "\n",
    "每 3 个士兵可以组成一个作战单位，分组规则如下：\n",
    "\n",
    "从队伍中选出下标分别为 i、j、k 的 3 名士兵，他们的评分分别为 rating[i]、rating[j]、rating[k]\n",
    "作战单位需满足： rating[i] < rating[j] < rating[k] 或者 rating[i] > rating[j] > rating[k] ，其中  0 <= i < j < k < n\n",
    "请你返回按上述条件可以组建的作战单位数量。每个士兵都可以是多个作战单位的一部分。\n",
    "\n",
    "## 二、示例\n",
    "\n",
    "### 示例 1：\n",
    "\n",
    "输入：rating = [2,5,3,4,1]\n",
    "\n",
    "输出：3\n",
    "\n",
    "解释：我们可以组建三个作战单位 (2,3,4)、(5,4,1)、(5,3,1) 。\n",
    "\n",
    "### 示例 2：\n",
    "\n",
    "输入：rating = [2,1,3]\n",
    "\n",
    "输出：0\n",
    "\n",
    "解释：根据题目条件，我们无法组建作战单位。\n",
    "\n",
    "### 示例 3：\n",
    "\n",
    "输入：rating = [1,2,3,4]\n",
    "\n",
    "输出：4\n",
    "\n",
    "## 三、解题思路\n",
    "\n",
    "### 一、回溯法"
   ]
  },
  {
   "cell_type": "code",
   "execution_count": 1,
   "metadata": {},
   "outputs": [],
   "source": [
    "def numTeams(rating) -> int:\n",
    "    def helper(index, item, asc, result):\n",
    "        if len(item) == 3:\n",
    "            result.add(tuple(item[:]))\n",
    "            return\n",
    "        if index >= len(rating):\n",
    "            return\n",
    "        if not item:\n",
    "            item.append(rating[index])\n",
    "            helper(index + 1, item, True, result)\n",
    "            helper(index + 1, item, False, result)\n",
    "            item.pop()\n",
    "            helper(index + 1, item, True, result)\n",
    "            helper(index + 1, item, False, result)\n",
    "            return\n",
    "        if (asc and item[-1] < rating[index]) or (not asc and item[-1] > rating[index]):\n",
    "            item.append(rating[index])\n",
    "            helper(index + 1, item, asc, result)\n",
    "            item.pop()\n",
    "            helper(index + 1, item, asc, result)\n",
    "            return\n",
    "        helper(index + 1, item, asc, result)\n",
    "    ret = set()\n",
    "    helper(0, [], True, ret)\n",
    "    return len(ret)"
   ]
  },
  {
   "cell_type": "code",
   "execution_count": 2,
   "metadata": {},
   "outputs": [
    {
     "data": {
      "text/plain": [
       "3"
      ]
     },
     "execution_count": 2,
     "metadata": {},
     "output_type": "execute_result"
    }
   ],
   "source": [
    "numTeams([2,5,3,4,1])"
   ]
  },
  {
   "cell_type": "code",
   "execution_count": 3,
   "metadata": {},
   "outputs": [
    {
     "data": {
      "text/plain": [
       "0"
      ]
     },
     "execution_count": 3,
     "metadata": {},
     "output_type": "execute_result"
    }
   ],
   "source": [
    "numTeams([2,1,3])"
   ]
  },
  {
   "cell_type": "code",
   "execution_count": 4,
   "metadata": {},
   "outputs": [
    {
     "data": {
      "text/plain": [
       "4"
      ]
     },
     "execution_count": 4,
     "metadata": {},
     "output_type": "execute_result"
    }
   ],
   "source": [
    "numTeams([1,2,3,4])"
   ]
  },
  {
   "cell_type": "markdown",
   "metadata": {},
   "source": [
    "### 二、枚举"
   ]
  },
  {
   "cell_type": "code",
   "execution_count": 5,
   "metadata": {},
   "outputs": [],
   "source": [
    "def numTeams(rating) -> int:\n",
    "    ret = 0\n",
    "    n = len(rating)\n",
    "    for i in range(n):\n",
    "        for j in range(i + 1, n):\n",
    "            for k in range(j + 1, n):\n",
    "                if rating[i] < rating[j] < rating[k] or rating[i] > rating[j] > rating[k]:\n",
    "                    ret += 1\n",
    "    return ret"
   ]
  },
  {
   "cell_type": "code",
   "execution_count": 6,
   "metadata": {},
   "outputs": [
    {
     "data": {
      "text/plain": [
       "3"
      ]
     },
     "execution_count": 6,
     "metadata": {},
     "output_type": "execute_result"
    }
   ],
   "source": [
    "numTeams([2,5,3,4,1])"
   ]
  },
  {
   "cell_type": "code",
   "execution_count": 7,
   "metadata": {},
   "outputs": [
    {
     "data": {
      "text/plain": [
       "0"
      ]
     },
     "execution_count": 7,
     "metadata": {},
     "output_type": "execute_result"
    }
   ],
   "source": [
    "numTeams([2,1,3])"
   ]
  },
  {
   "cell_type": "code",
   "execution_count": 8,
   "metadata": {},
   "outputs": [
    {
     "data": {
      "text/plain": [
       "4"
      ]
     },
     "execution_count": 8,
     "metadata": {},
     "output_type": "execute_result"
    }
   ],
   "source": [
    "numTeams([1,2,3,4])"
   ]
  },
  {
   "cell_type": "markdown",
   "metadata": {},
   "source": [
    "### 三、枚举中间点\n",
    "\n",
    "我们也可以枚举三元组 (i, j, k)(i,j,k) 中的 jj，它是三元组的中间点。在这之后，我们统计：\n",
    "\n",
    "- 出现在位置 j 左侧且比 j 评分低的士兵数量 $ i_{\\textit{less}} $；\n",
    "- 出现在位置 j 左侧且比 j 评分高的士兵数量 $ i_{\\textit{more}} $；\n",
    "- 出现在位置 j 右侧且比 j 评分低的士兵数量 $ k_{\\textit{less}} $；\n",
    "- 出现在位置 j 右侧且比 j 评分高的士兵数量 $ k_{\\textit{more}} $。\n",
    "\n",
    "则可得到结果：\n",
    "\n",
    "$$ ret = i_{\\textit{less}} * k_{\\textit{more}} + i_{\\textit{more}} * k_{\\textit{less}} $$"
   ]
  },
  {
   "cell_type": "code",
   "execution_count": 9,
   "metadata": {},
   "outputs": [],
   "source": [
    "def numTeams(rating) -> int:\n",
    "    n = len(rating)\n",
    "    ret = 0\n",
    "    # 枚举三元组中的 j\n",
    "    for j in range(1, n - 1):\n",
    "        iless = imore = kless = kmore = 0\n",
    "        for i in range(j):\n",
    "            if rating[i] < rating[j]:\n",
    "                iless += 1\n",
    "            # 注意这里不能直接写成 else\n",
    "            # 因为可能有评分相同的情况\n",
    "            elif rating[i] > rating[j]:\n",
    "                imore += 1\n",
    "        for k in range(j + 1, n):\n",
    "            if rating[k] < rating[j]:\n",
    "                kless += 1\n",
    "            elif rating[k] > rating[j]:\n",
    "                kmore += 1\n",
    "        ret += iless * kmore + imore * kless\n",
    "    return ret"
   ]
  },
  {
   "cell_type": "code",
   "execution_count": 10,
   "metadata": {},
   "outputs": [
    {
     "data": {
      "text/plain": [
       "3"
      ]
     },
     "execution_count": 10,
     "metadata": {},
     "output_type": "execute_result"
    }
   ],
   "source": [
    "numTeams([2,5,3,4,1])"
   ]
  },
  {
   "cell_type": "code",
   "execution_count": 11,
   "metadata": {},
   "outputs": [
    {
     "data": {
      "text/plain": [
       "0"
      ]
     },
     "execution_count": 11,
     "metadata": {},
     "output_type": "execute_result"
    }
   ],
   "source": [
    "numTeams([2,1,3])"
   ]
  },
  {
   "cell_type": "code",
   "execution_count": 12,
   "metadata": {},
   "outputs": [
    {
     "data": {
      "text/plain": [
       "4"
      ]
     },
     "execution_count": 12,
     "metadata": {},
     "output_type": "execute_result"
    }
   ],
   "source": [
    "numTeams([1,2,3,4])"
   ]
  },
  {
   "cell_type": "code",
   "execution_count": null,
   "metadata": {},
   "outputs": [],
   "source": []
  }
 ],
 "metadata": {
  "kernelspec": {
   "display_name": "Python 3",
   "language": "python",
   "name": "python3"
  },
  "language_info": {
   "codemirror_mode": {
    "name": "ipython",
    "version": 3
   },
   "file_extension": ".py",
   "mimetype": "text/x-python",
   "name": "python",
   "nbconvert_exporter": "python",
   "pygments_lexer": "ipython3",
   "version": "3.6.5"
  }
 },
 "nbformat": 4,
 "nbformat_minor": 2
}
