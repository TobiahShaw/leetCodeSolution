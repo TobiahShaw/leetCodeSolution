{
 "cells": [
  {
   "cell_type": "markdown",
   "metadata": {},
   "source": [
    "# 获取生成数组中的最大值\n",
    "\n",
    "**题目来源：力扣（LeetCode）**\n",
    "\n",
    "**链接：https://leetcode-cn.com/problems/get-maximum-in-generated-array/**\n",
    "\n",
    "## 一、题目\n",
    "\n",
    "给你一个整数 n 。按下述规则生成一个长度为 n + 1 的数组 nums ：\n",
    "\n",
    "- nums[0] = 0\n",
    "- nums[1] = 1\n",
    "- 当 2 <= 2 * i <= n 时，nums[2 * i] = nums[i]\n",
    "- 当 2 <= 2 * i + 1 <= n 时，nums[2 * i + 1] = nums[i] + nums[i + 1]\n",
    "\n",
    "返回生成数组 nums 中的 最大 值。\n",
    "\n",
    "## 二、示例\n",
    "\n",
    "### 示例 1：\n",
    "\n",
    "输入：n = 7\n",
    "\n",
    "输出：3\n",
    "\n",
    "解释：根据规则：\n",
    "\n",
    "```\n",
    "  nums[0] = 0\n",
    "  nums[1] = 1\n",
    "  nums[(1 * 2) = 2] = nums[1] = 1\n",
    "  nums[(1 * 2) + 1 = 3] = nums[1] + nums[2] = 1 + 1 = 2\n",
    "  nums[(2 * 2) = 4] = nums[2] = 1\n",
    "  nums[(2 * 2) + 1 = 5] = nums[2] + nums[3] = 1 + 2 = 3\n",
    "  nums[(3 * 2) = 6] = nums[3] = 2\n",
    "  nums[(3 * 2) + 1 = 7] = nums[3] + nums[4] = 2 + 1 = 3\n",
    "```\n",
    "\n",
    "因此，nums = [0,1,1,2,1,3,2,3]，最大值 3\n",
    "\n",
    "### 示例 2：\n",
    "\n",
    "输入：n = 2\n",
    "\n",
    "输出：1\n",
    "\n",
    "解释：根据规则，nums[0]、nums[1] 和 nums[2] 之中的最大值是 1\n",
    "\n",
    "### 示例 3：\n",
    "\n",
    "输入：n = 3\n",
    "\n",
    "输出：2\n",
    "\n",
    "解释：根据规则，nums[0]、nums[1]、nums[2] 和 nums[3] 之中的最大值是 2\n",
    "\n",
    "## 三、解题思路\n",
    "\n",
    "### 递推"
   ]
  },
  {
   "cell_type": "code",
   "execution_count": 1,
   "metadata": {},
   "outputs": [],
   "source": [
    "def getMaximumGenerated(n: int) -> int:\n",
    "    nums = [0, 1]\n",
    "    if n < 2:\n",
    "        return nums[n]\n",
    "    ret = 1\n",
    "    for i in range(2, n+1):\n",
    "        num = 0\n",
    "        if i % 2 == 0:\n",
    "            num = nums[i // 2]\n",
    "        else:\n",
    "            num = nums[i // 2] + nums[i // 2 + 1]\n",
    "        ret = max(ret, num)\n",
    "        nums.append(num)\n",
    "    return ret"
   ]
  },
  {
   "cell_type": "code",
   "execution_count": 2,
   "metadata": {},
   "outputs": [
    {
     "data": {
      "text/plain": [
       "3"
      ]
     },
     "execution_count": 2,
     "metadata": {},
     "output_type": "execute_result"
    }
   ],
   "source": [
    "getMaximumGenerated(7)"
   ]
  },
  {
   "cell_type": "code",
   "execution_count": 3,
   "metadata": {},
   "outputs": [
    {
     "data": {
      "text/plain": [
       "1"
      ]
     },
     "execution_count": 3,
     "metadata": {},
     "output_type": "execute_result"
    }
   ],
   "source": [
    "getMaximumGenerated(2)"
   ]
  },
  {
   "cell_type": "code",
   "execution_count": 4,
   "metadata": {},
   "outputs": [
    {
     "data": {
      "text/plain": [
       "2"
      ]
     },
     "execution_count": 4,
     "metadata": {},
     "output_type": "execute_result"
    }
   ],
   "source": [
    "getMaximumGenerated(3)"
   ]
  },
  {
   "cell_type": "code",
   "execution_count": null,
   "metadata": {},
   "outputs": [],
   "source": []
  }
 ],
 "metadata": {
  "kernelspec": {
   "display_name": "Python 3",
   "language": "python",
   "name": "python3"
  },
  "language_info": {
   "codemirror_mode": {
    "name": "ipython",
    "version": 3
   },
   "file_extension": ".py",
   "mimetype": "text/x-python",
   "name": "python",
   "nbconvert_exporter": "python",
   "pygments_lexer": "ipython3",
   "version": "3.6.5"
  }
 },
 "nbformat": 4,
 "nbformat_minor": 2
}
