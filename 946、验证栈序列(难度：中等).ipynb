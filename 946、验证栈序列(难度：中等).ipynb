{
  "cells": [
    {
      "cell_type": "markdown",
      "metadata": {
        "collapsed": true
      },
      "source": [
        "# 验证栈序列\n",
        "\n",
        "**题目来源：力扣（LeetCode）**\n",
        "\n",
        "**链接：https://leetcode-cn.com/problems/validate-stack-sequences/**\n",
        "\n",
        "## 一、题目\n",
        "\n",
        "给定 pushed 和 popped 两个序列，每个序列中的 值都不重复，只有当它们可能是在最初空栈上进行的推入 push 和弹出 pop 操作序列的结果时，返回 true；否则，返回 false 。\n",
        "\n",
        "### 提示：\n",
        "\n",
        "- 1 <= pushed.length <= 1000\n",
        "- 0 <= pushed[i] <= 1000\n",
        "- pushed 的所有元素 互不相同\n",
        "- popped.length == pushed.length\n",
        "- popped 是 pushed 的一个排列\n",
        "\n",
        "## 二、示例\n",
        "\n",
        "### 示例 1：\n",
        "\n",
        "输入：pushed = [1,2,3,4,5], popped = [4,5,3,2,1]\n",
        "\n",
        "输出：true\n",
        "\n",
        "解释：\n",
        "\n",
        "我们可以按以下顺序执行：\n",
        "\n",
        "push(1), push(2), push(3), push(4), pop() -> 4,push(5), pop() -> 5, pop() -> 3, pop() -> 2, pop() -> 1\n",
        "\n",
        "### 示例 2：\n",
        "\n",
        "输入：pushed = [1,2,3,4,5], popped = [4,3,5,1,2]\n",
        "\n",
        "输出：false\n",
        "\n",
        "解释：1 不能在 2 之前弹出。\n",
        "\n",
        "## 三、解题思路\n",
        "\n",
        "### 模拟\n",
        "\n",
        "此题综合考察队列我栈\n",
        "\n",
        "- 实例化一个栈\n",
        "- 循环将pushed入栈\n",
        "- 在每个次**出入**栈检查栈顶元素是否和poped头部元素一致，一致则栈出战popped出队\n",
        "- 最后检查是否栈为空，为空则序列合法"
      ]
    },
    {
      "cell_type": "code",
      "execution_count": 1,
      "metadata": {
        "trusted": true
      },
      "outputs": [],
      "source": [
        "def validateStackSequences(pushed, popped) -> bool:\n",
        "    if len(pushed) != len(popped):\n",
        "        return False\n",
        "    stack = []\n",
        "    for i in pushed:\n",
        "        # 模拟入栈\n",
        "        stack.append(i)\n",
        "        # 出入栈检查\n",
        "        while stack and stack[-1] == popped[0]:\n",
        "            stack.pop()\n",
        "            popped = popped[1:]\n",
        "    return not stack"
      ]
    },
    {
      "cell_type": "code",
      "execution_count": 2,
      "metadata": {
        "trusted": true
      },
      "outputs": [
        {
          "data": {
            "text/plain": [
              "True"
            ]
          },
          "execution_count": 2,
          "metadata": {},
          "output_type": "execute_result"
        }
      ],
      "source": [
        "validateStackSequences(pushed = [1,2,3,4,5], popped = [4,5,3,2,1])"
      ]
    },
    {
      "cell_type": "code",
      "execution_count": 3,
      "metadata": {
        "trusted": true
      },
      "outputs": [
        {
          "data": {
            "text/plain": [
              "False"
            ]
          },
          "execution_count": 3,
          "metadata": {},
          "output_type": "execute_result"
        }
      ],
      "source": [
        "validateStackSequences(pushed = [1,2,3,4,5], popped = [4,3,5,1,2])"
      ]
    },
    {
      "cell_type": "code",
      "execution_count": null,
      "metadata": {
        "trusted": true
      },
      "outputs": [],
      "source": []
    }
  ],
  "metadata": {
    "kernelspec": {
      "display_name": "Python 3.6",
      "language": "python",
      "name": "python36"
    },
    "language_info": {
      "codemirror_mode": {
        "name": "ipython",
        "version": 3
      },
      "file_extension": ".py",
      "mimetype": "text/x-python",
      "name": "python",
      "nbconvert_exporter": "python",
      "pygments_lexer": "ipython3",
      "version": "3.6.6"
    }
  },
  "nbformat": 4,
  "nbformat_minor": 2
}
