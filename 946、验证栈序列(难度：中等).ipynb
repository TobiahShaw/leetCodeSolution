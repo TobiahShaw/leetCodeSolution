{
  "cells": [
    {
      "metadata": {
        "collapsed": true
      },
      "cell_type": "markdown",
      "source": "# 验证栈序列\n\n**题目来源：力扣（LeetCode）**\n\n**链接：https://leetcode-cn.com/problems/validate-stack-sequences/**\n\n## 一、题目\n\n给定 pushed 和 popped 两个序列，每个序列中的 值都不重复，只有当它们可能是在最初空栈上进行的推入 push 和弹出 pop 操作序列的结果时，返回 true；否则，返回 false 。\n\n## 二、示例\n\n### 示例 1：\n\n输入：pushed = [1,2,3,4,5], popped = [4,5,3,2,1]\n\n输出：true\n\n解释：\n我们可以按以下顺序执行：\n\npush(1), push(2), push(3), push(4), pop() -> 4,push(5), pop() -> 5, pop() -> 3, pop() -> 2, pop() -> 1\n\n### 示例 2：\n\n输入：pushed = [1,2,3,4,5], popped = [4,3,5,1,2]\n\n输出：false\n\n解释：1 不能在 2 之前弹出。\n\n## 三、解题思路\n\n### 模拟\n\n此题综合考察队列我栈\n\n- 实例化一个栈\n- 循环将pushed入栈\n- 在每个次**出入**栈检查栈顶元素是否和poped头部元素一致，一致则栈出战popped出队\n- 最后检查是否栈为空，为空则序列合法"
    },
    {
      "metadata": {
        "trusted": true
      },
      "cell_type": "code",
      "source": "def validateStackSequences(pushed, popped) -> bool:\n    if len(pushed) != len(popped):\n        return False\n    stack = []\n    for i in pushed:\n        # 模拟入栈\n        stack.append(i)\n        # 出入栈检查\n        while stack and stack[-1] == popped[0]:\n            stack.pop()\n            popped = popped[1:]\n    return not stack",
      "execution_count": 1,
      "outputs": []
    },
    {
      "metadata": {
        "trusted": true
      },
      "cell_type": "code",
      "source": "validateStackSequences(pushed = [1,2,3,4,5], popped = [4,5,3,2,1])",
      "execution_count": 2,
      "outputs": [
        {
          "output_type": "execute_result",
          "execution_count": 2,
          "data": {
            "text/plain": "True"
          },
          "metadata": {}
        }
      ]
    },
    {
      "metadata": {
        "trusted": true
      },
      "cell_type": "code",
      "source": "validateStackSequences(pushed = [1,2,3,4,5], popped = [4,3,5,1,2])",
      "execution_count": 3,
      "outputs": [
        {
          "output_type": "execute_result",
          "execution_count": 3,
          "data": {
            "text/plain": "False"
          },
          "metadata": {}
        }
      ]
    },
    {
      "metadata": {
        "trusted": true
      },
      "cell_type": "code",
      "source": "",
      "execution_count": null,
      "outputs": []
    }
  ],
  "metadata": {
    "kernelspec": {
      "name": "python36",
      "display_name": "Python 3.6",
      "language": "python"
    },
    "language_info": {
      "mimetype": "text/x-python",
      "nbconvert_exporter": "python",
      "name": "python",
      "pygments_lexer": "ipython3",
      "version": "3.6.6",
      "file_extension": ".py",
      "codemirror_mode": {
        "version": 3,
        "name": "ipython"
      }
    }
  },
  "nbformat": 4,
  "nbformat_minor": 2
}