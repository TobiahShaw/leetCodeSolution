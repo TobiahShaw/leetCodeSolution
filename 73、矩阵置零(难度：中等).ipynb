{
  "cells": [
    {
      "metadata": {
        "collapsed": true
      },
      "cell_type": "markdown",
      "source": "# 矩阵置零\n\n**题目来源：力扣（LeetCode）**\n\n**链接：https://leetcode-cn.com/problems/set-matrix-zeroes/**\n\n## 一、题目\n\n给定一个 m x n 的矩阵，如果一个元素为 0，则将其所在行和列的所有元素都设为 0。\n\n## 二、示例\n\n### 示例 1:\n\n输入:\n\n[[1,1,1], [1,0,1], [1,1,1]]\n\n输出: \n\n[[1,0,1], [0,0,0], [1,0,1]]\n\n### 示例 2:\n\n输入: \n\n[[0,1,2,0], [3,4,5,2], [1,3,1,5]]\n\n输出: \n\n[[0,0,0,0], [0,4,5,0], [0,3,1,0]]\n\n## 三、解题思路"
    },
    {
      "metadata": {
        "trusted": true
      },
      "cell_type": "code",
      "source": "def setZeroes(matrix):\n    x, y = set(), set()\n    m, n = len(matrix), len(matrix[0])\n    for r in range(m):\n        for c in range(n):\n            if matrix[r][c] == 0:\n                x.add(r)\n                y.add(c)\n    for r in range(m):\n        for c in range(n):\n            if r in x or c in y:\n                matrix[r][c] = 0\n    return matrix",
      "execution_count": 1,
      "outputs": []
    },
    {
      "metadata": {
        "trusted": true
      },
      "cell_type": "code",
      "source": "setZeroes([[1,1,1], [1,0,1], [1,1,1]])",
      "execution_count": 2,
      "outputs": [
        {
          "output_type": "execute_result",
          "execution_count": 2,
          "data": {
            "text/plain": "[[1, 0, 1], [0, 0, 0], [1, 0, 1]]"
          },
          "metadata": {}
        }
      ]
    },
    {
      "metadata": {
        "trusted": true
      },
      "cell_type": "code",
      "source": "setZeroes([[0,1,2,0], [3,4,5,2], [1,3,1,5]])",
      "execution_count": 3,
      "outputs": [
        {
          "output_type": "execute_result",
          "execution_count": 3,
          "data": {
            "text/plain": "[[0, 0, 0, 0], [0, 4, 5, 0], [0, 3, 1, 0]]"
          },
          "metadata": {}
        }
      ]
    },
    {
      "metadata": {
        "trusted": true
      },
      "cell_type": "code",
      "source": "",
      "execution_count": null,
      "outputs": []
    }
  ],
  "metadata": {
    "kernelspec": {
      "name": "python36",
      "display_name": "Python 3.6",
      "language": "python"
    },
    "language_info": {
      "mimetype": "text/x-python",
      "nbconvert_exporter": "python",
      "name": "python",
      "pygments_lexer": "ipython3",
      "version": "3.6.6",
      "file_extension": ".py",
      "codemirror_mode": {
        "version": 3,
        "name": "ipython"
      }
    }
  },
  "nbformat": 4,
  "nbformat_minor": 2
}