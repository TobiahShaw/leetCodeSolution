{
 "cells": [
  {
   "cell_type": "markdown",
   "metadata": {
    "collapsed": true
   },
   "source": [
    "# 矩阵置零\n",
    "\n",
    "**题目来源：力扣（LeetCode）**\n",
    "\n",
    "**链接：https://leetcode-cn.com/problems/set-matrix-zeroes/**\n",
    "\n",
    "## 一、题目\n",
    "\n",
    "给定一个 m x n 的矩阵，如果一个元素为 0，则将其所在行和列的所有元素都设为 0。\n",
    "\n",
    "## 二、示例\n",
    "\n",
    "### 示例 1:\n",
    "\n",
    "输入:\n",
    "\n",
    "[[1,1,1], [1,0,1], [1,1,1]]\n",
    "\n",
    "输出: \n",
    "\n",
    "[[1,0,1], [0,0,0], [1,0,1]]\n",
    "\n",
    "### 示例 2:\n",
    "\n",
    "输入: \n",
    "\n",
    "[[0,1,2,0], [3,4,5,2], [1,3,1,5]]\n",
    "\n",
    "输出: \n",
    "\n",
    "[[0,0,0,0], [0,4,5,0], [0,3,1,0]]\n",
    "\n",
    "## 三、解题思路\n",
    "\n",
    "### 一、利用集合记录"
   ]
  },
  {
   "cell_type": "code",
   "execution_count": 1,
   "metadata": {},
   "outputs": [],
   "source": [
    "def setZeroes(matrix):\n",
    "    x, y = set(), set()\n",
    "    m, n = len(matrix), len(matrix[0])\n",
    "    for r in range(m):\n",
    "        for c in range(n):\n",
    "            if matrix[r][c] == 0:\n",
    "                x.add(r)\n",
    "                y.add(c)\n",
    "    for r in range(m):\n",
    "        for c in range(n):\n",
    "            if r in x or c in y:\n",
    "                matrix[r][c] = 0\n",
    "    return matrix"
   ]
  },
  {
   "cell_type": "code",
   "execution_count": 2,
   "metadata": {},
   "outputs": [
    {
     "data": {
      "text/plain": [
       "[[1, 0, 1], [0, 0, 0], [1, 0, 1]]"
      ]
     },
     "execution_count": 2,
     "metadata": {},
     "output_type": "execute_result"
    }
   ],
   "source": [
    "setZeroes([[1,1,1], [1,0,1], [1,1,1]])"
   ]
  },
  {
   "cell_type": "code",
   "execution_count": 3,
   "metadata": {},
   "outputs": [
    {
     "data": {
      "text/plain": [
       "[[0, 0, 0, 0], [0, 4, 5, 0], [0, 3, 1, 0]]"
      ]
     },
     "execution_count": 3,
     "metadata": {},
     "output_type": "execute_result"
    }
   ],
   "source": [
    "setZeroes([[0,1,2,0], [3,4,5,2], [1,3,1,5]])"
   ]
  },
  {
   "cell_type": "markdown",
   "metadata": {},
   "source": [
    "### 二、利用两个变量记录"
   ]
  },
  {
   "cell_type": "code",
   "execution_count": 4,
   "metadata": {},
   "outputs": [],
   "source": [
    "def setZeroes(matrix):\n",
    "    m, n = len(matrix), len(matrix[0])\n",
    "    flag_col0 = any(matrix[i][0] == 0 for i in range(m))\n",
    "    flag_row0 = any(matrix[0][j] == 0 for j in range(n))\n",
    "    \n",
    "    for i in range(1, m):\n",
    "        for j in range(1, n):\n",
    "            if matrix[i][j] == 0:\n",
    "                matrix[i][0] = matrix[0][j] = 0\n",
    "    \n",
    "    for i in range(1, m):\n",
    "        for j in range(1, n):\n",
    "            if matrix[i][0] == 0 or matrix[0][j] == 0:\n",
    "                matrix[i][j] = 0\n",
    "    \n",
    "    if flag_col0:\n",
    "        for i in range(m):\n",
    "            matrix[i][0] = 0\n",
    "    \n",
    "    if flag_row0:\n",
    "        for j in range(n):\n",
    "            matrix[0][j] = 0\n",
    "    return matrix"
   ]
  },
  {
   "cell_type": "code",
   "execution_count": 5,
   "metadata": {},
   "outputs": [
    {
     "data": {
      "text/plain": [
       "[[1, 0, 1], [0, 0, 0], [1, 0, 1]]"
      ]
     },
     "execution_count": 5,
     "metadata": {},
     "output_type": "execute_result"
    }
   ],
   "source": [
    "setZeroes([[1,1,1], [1,0,1], [1,1,1]])"
   ]
  },
  {
   "cell_type": "code",
   "execution_count": 6,
   "metadata": {},
   "outputs": [
    {
     "data": {
      "text/plain": [
       "[[0, 0, 0, 0], [0, 4, 5, 0], [0, 3, 1, 0]]"
      ]
     },
     "execution_count": 6,
     "metadata": {},
     "output_type": "execute_result"
    }
   ],
   "source": [
    "setZeroes([[0,1,2,0], [3,4,5,2], [1,3,1,5]])"
   ]
  },
  {
   "cell_type": "code",
   "execution_count": null,
   "metadata": {},
   "outputs": [],
   "source": []
  }
 ],
 "metadata": {
  "kernelspec": {
   "display_name": "Python 3",
   "language": "python",
   "name": "python3"
  },
  "language_info": {
   "codemirror_mode": {
    "name": "ipython",
    "version": 3
   },
   "file_extension": ".py",
   "mimetype": "text/x-python",
   "name": "python",
   "nbconvert_exporter": "python",
   "pygments_lexer": "ipython3",
   "version": "3.6.5"
  }
 },
 "nbformat": 4,
 "nbformat_minor": 2
}
