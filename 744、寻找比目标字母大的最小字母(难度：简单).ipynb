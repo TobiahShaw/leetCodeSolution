{
 "cells": [
  {
   "cell_type": "markdown",
   "metadata": {},
   "source": [
    "# 寻找比目标字母大的最小字母\n",
    "\n",
    "**题目来源：力扣（LeetCode）**\n",
    "\n",
    "**链接：https://leetcode-cn.com/problems/find-smallest-letter-greater-than-target/**\n",
    "\n",
    "## 一、题目\n",
    "\n",
    "给你一个排序后的字符列表 letters ，列表中只包含小写英文字母。另给出一个目标字母 target，请你寻找在这一有序列表里比目标字母大的最小字母。\n",
    "\n",
    "在比较时，字母是依序循环出现的。举个例子：\n",
    "\n",
    "- 如果目标字母 target = 'z' 并且字符列表为 letters = ['a', 'b']，则答案返回 'a'\n",
    "\n",
    "### 提示：\n",
    "\n",
    "- letters长度范围在[2, 10000]区间内。\n",
    "- letters 仅由小写字母组成，最少包含两个不同的字母。\n",
    "- 目标字母target 是一个小写字母。\n",
    "\n",
    "## 二、示例\n",
    "\n",
    "### 示例 1：\n",
    "\n",
    "输入:letters = [\"c\", \"f\", \"j\"], target = \"a\"\n",
    "\n",
    "输出: \"c\"\n",
    "\n",
    "### 示例 2：\n",
    "\n",
    "输入:letters = [\"c\", \"f\", \"j\"], target = \"c\"\n",
    "\n",
    "输出: \"f\"\n",
    "\n",
    "### 示例 3：\n",
    "\n",
    "输入:letters = [\"c\", \"f\", \"j\"], target = \"d\"\n",
    "\n",
    "输出: \"f\"\n",
    "\n",
    "### 示例 4：\n",
    "\n",
    "输入:letters = [\"c\", \"f\", \"j\"], target = \"g\"\n",
    "\n",
    "输出: \"j\"\n",
    "\n",
    "### 示例 5：\n",
    "\n",
    "输入:letters = [\"c\", \"f\", \"j\"], target = \"j\"\n",
    "\n",
    "输出: \"c\"\n",
    "\n",
    "### 示例 6：\n",
    "\n",
    "输入:letters = [\"c\", \"f\", \"j\"], target = \"k\"\n",
    "\n",
    "输出: \"c\"\n",
    "\n",
    "## 三、解题思路\n",
    "\n",
    "### 模拟过程"
   ]
  },
  {
   "cell_type": "code",
   "execution_count": 1,
   "metadata": {},
   "outputs": [],
   "source": [
    "def nextGreatestLetter(letters, target: str) -> str:\n",
    "    ret = None\n",
    "    for ch in letters:\n",
    "        if ord(ch) > ord(target):\n",
    "            ret = ch\n",
    "            break\n",
    "    if not ret:\n",
    "        ret = letters[0]\n",
    "    return ret"
   ]
  },
  {
   "cell_type": "code",
   "execution_count": 2,
   "metadata": {},
   "outputs": [
    {
     "data": {
      "text/plain": [
       "'c'"
      ]
     },
     "execution_count": 2,
     "metadata": {},
     "output_type": "execute_result"
    }
   ],
   "source": [
    "nextGreatestLetter(letters = [\"c\", \"f\", \"j\"], target = \"a\")"
   ]
  },
  {
   "cell_type": "code",
   "execution_count": 3,
   "metadata": {},
   "outputs": [
    {
     "data": {
      "text/plain": [
       "'f'"
      ]
     },
     "execution_count": 3,
     "metadata": {},
     "output_type": "execute_result"
    }
   ],
   "source": [
    "nextGreatestLetter(letters = [\"c\", \"f\", \"j\"], target = \"c\")"
   ]
  },
  {
   "cell_type": "code",
   "execution_count": 4,
   "metadata": {},
   "outputs": [
    {
     "data": {
      "text/plain": [
       "'f'"
      ]
     },
     "execution_count": 4,
     "metadata": {},
     "output_type": "execute_result"
    }
   ],
   "source": [
    "nextGreatestLetter(letters = [\"c\", \"f\", \"j\"], target = \"d\")"
   ]
  },
  {
   "cell_type": "code",
   "execution_count": 5,
   "metadata": {},
   "outputs": [
    {
     "data": {
      "text/plain": [
       "'j'"
      ]
     },
     "execution_count": 5,
     "metadata": {},
     "output_type": "execute_result"
    }
   ],
   "source": [
    "nextGreatestLetter(letters = [\"c\", \"f\", \"j\"], target = \"g\")"
   ]
  },
  {
   "cell_type": "code",
   "execution_count": 6,
   "metadata": {},
   "outputs": [
    {
     "data": {
      "text/plain": [
       "'c'"
      ]
     },
     "execution_count": 6,
     "metadata": {},
     "output_type": "execute_result"
    }
   ],
   "source": [
    "nextGreatestLetter(letters = [\"c\", \"f\", \"j\"], target = \"j\")"
   ]
  },
  {
   "cell_type": "code",
   "execution_count": 7,
   "metadata": {},
   "outputs": [
    {
     "data": {
      "text/plain": [
       "'c'"
      ]
     },
     "execution_count": 7,
     "metadata": {},
     "output_type": "execute_result"
    }
   ],
   "source": [
    "nextGreatestLetter(letters = [\"c\", \"f\", \"j\"], target = \"k\")"
   ]
  },
  {
   "cell_type": "code",
   "execution_count": null,
   "metadata": {},
   "outputs": [],
   "source": []
  }
 ],
 "metadata": {
  "kernelspec": {
   "display_name": "Python 3",
   "language": "python",
   "name": "python3"
  },
  "language_info": {
   "codemirror_mode": {
    "name": "ipython",
    "version": 3
   },
   "file_extension": ".py",
   "mimetype": "text/x-python",
   "name": "python",
   "nbconvert_exporter": "python",
   "pygments_lexer": "ipython3",
   "version": "3.6.5"
  }
 },
 "nbformat": 4,
 "nbformat_minor": 2
}
