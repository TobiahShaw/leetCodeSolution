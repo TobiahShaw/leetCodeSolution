{
 "cells": [
  {
   "cell_type": "markdown",
   "metadata": {},
   "source": [
    "# 递增的三元子序列\n",
    "\n",
    "**题目来源：力扣（LeetCode）**\n",
    "\n",
    "**链接：https://leetcode-cn.com/problems/increasing-triplet-subsequence/**\n",
    "\n",
    "## 一、题目\n",
    "\n",
    "给你一个整数数组 nums ，判断这个数组中是否存在长度为 3 的递增子序列。\n",
    "\n",
    "如果存在这样的三元组下标 (i, j, k) 且满足 i < j < k ，使得 nums[i] < nums[j] < nums[k] ，返回 true ；否则，返回 false 。\n",
    "\n",
    "### 提示：\n",
    "\n",
    "- 1 <= nums.length <= 5 * 10^5\n",
    "- -2^31 <= nums[i] <= 2^31 - 1\n",
    "\n",
    "## 二、示例\n",
    "\n",
    "### 示例 1：\n",
    "\n",
    "输入：nums = [1,2,3,4,5]\n",
    "\n",
    "输出：true\n",
    "\n",
    "解释：任何 i < j < k 的三元组都满足题意\n",
    "\n",
    "### 示例 2：\n",
    "\n",
    "输入：nums = [5,4,3,2,1]\n",
    "\n",
    "输出：false\n",
    "\n",
    "解释：不存在满足题意的三元组\n",
    "\n",
    "### 示例 3：\n",
    "\n",
    "输入：nums = [2,1,5,0,4,6]\n",
    "\n",
    "输出：true\n",
    "\n",
    "解释：三元组 (3, 4, 5) 满足题意，因为 nums[3] == 0 < nums[4] == 4 < nums[5] == 6\n",
    "\n",
    "## 三、解题思路\n",
    "\n",
    "### 双向遍历\n",
    "\n",
    "参考：https://leetcode-cn.com/problems/increasing-triplet-subsequence/solution/di-zeng-de-san-yuan-zi-xu-lie-by-leetcod-dp2r/"
   ]
  },
  {
   "cell_type": "code",
   "execution_count": 1,
   "metadata": {},
   "outputs": [],
   "source": [
    "def increasingTriplet(nums) -> bool:\n",
    "    n = len(nums)\n",
    "    left_min, right_max = [0] * n, [0] * n\n",
    "    left_min[0] = nums[0]\n",
    "    right_max[-1] = nums[-1]\n",
    "    for i in range(1, n):\n",
    "        left_min[i] = min(left_min[i-1], nums[i])\n",
    "    for i in range(n-2, -1, -1):\n",
    "        right_max[i] = max(right_max[i+1], nums[i])\n",
    "    for i in range(1, n-1, 1):\n",
    "        if left_min[i-1] < nums[i] < right_max[i+1]:\n",
    "            return True\n",
    "    return False"
   ]
  },
  {
   "cell_type": "code",
   "execution_count": 2,
   "metadata": {},
   "outputs": [
    {
     "data": {
      "text/plain": [
       "True"
      ]
     },
     "execution_count": 2,
     "metadata": {},
     "output_type": "execute_result"
    }
   ],
   "source": [
    "increasingTriplet([1,2,3,4,5])"
   ]
  },
  {
   "cell_type": "code",
   "execution_count": 3,
   "metadata": {},
   "outputs": [
    {
     "data": {
      "text/plain": [
       "False"
      ]
     },
     "execution_count": 3,
     "metadata": {},
     "output_type": "execute_result"
    }
   ],
   "source": [
    "increasingTriplet([5,4,3,2,1])"
   ]
  },
  {
   "cell_type": "code",
   "execution_count": 4,
   "metadata": {},
   "outputs": [
    {
     "data": {
      "text/plain": [
       "True"
      ]
     },
     "execution_count": 4,
     "metadata": {},
     "output_type": "execute_result"
    }
   ],
   "source": [
    "increasingTriplet([2,1,5,0,4,6])"
   ]
  },
  {
   "cell_type": "code",
   "execution_count": null,
   "metadata": {},
   "outputs": [],
   "source": []
  }
 ],
 "metadata": {
  "kernelspec": {
   "display_name": "Python 3",
   "language": "python",
   "name": "python3"
  },
  "language_info": {
   "codemirror_mode": {
    "name": "ipython",
    "version": 3
   },
   "file_extension": ".py",
   "mimetype": "text/x-python",
   "name": "python",
   "nbconvert_exporter": "python",
   "pygments_lexer": "ipython3",
   "version": "3.6.5"
  }
 },
 "nbformat": 4,
 "nbformat_minor": 2
}
