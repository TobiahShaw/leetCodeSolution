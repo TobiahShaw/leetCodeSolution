{
 "cells": [
  {
   "cell_type": "markdown",
   "metadata": {},
   "source": [
    "# 消除游戏\n",
    "\n",
    "**题目来源：力扣（LeetCode）**\n",
    "\n",
    "**链接：https://leetcode-cn.com/problems/elimination-game/**\n",
    "\n",
    "## 一、题目\n",
    "\n",
    "给定一个从1 到 n 排序的整数列表。\n",
    "\n",
    "首先，从左到右，从第一个数字开始，每隔一个数字进行删除，直到列表的末尾。\n",
    "\n",
    "第二步，在剩下的数字中，从右到左，从倒数第一个数字开始，每隔一个数字进行删除，直到列表开头。\n",
    "\n",
    "我们不断重复这两步，从左到右和从右到左交替进行，直到只剩下一个数字。\n",
    "\n",
    "返回长度为 n 的列表中，最后剩下的数字。\n",
    "\n",
    "## 二、示例\n",
    "\n",
    "输入:n = 9\n",
    "\n",
    "- 1 2 3 4 5 6 7 8 9\n",
    "- 2 4 6 8\n",
    "- 2 6\n",
    "- 6\n",
    "\n",
    "输出:6\n",
    "\n",
    "## 三、解题思路\n",
    "\n",
    "### 记忆化递归"
   ]
  },
  {
   "cell_type": "code",
   "execution_count": 1,
   "metadata": {},
   "outputs": [],
   "source": [
    "from functools import lru_cache\n",
    "\n",
    "@lru_cache(None)\n",
    "def lastRemaining(n: int) -> int:\n",
    "    return 2 * (n//2 + 1 - lastRemaining(n//2)) if n > 1 else 1"
   ]
  },
  {
   "cell_type": "code",
   "execution_count": 2,
   "metadata": {},
   "outputs": [
    {
     "data": {
      "text/plain": [
       "6"
      ]
     },
     "execution_count": 2,
     "metadata": {},
     "output_type": "execute_result"
    }
   ],
   "source": [
    "lastRemaining(9)"
   ]
  },
  {
   "cell_type": "code",
   "execution_count": null,
   "metadata": {},
   "outputs": [],
   "source": []
  }
 ],
 "metadata": {
  "kernelspec": {
   "display_name": "Python 3",
   "language": "python",
   "name": "python3"
  },
  "language_info": {
   "codemirror_mode": {
    "name": "ipython",
    "version": 3
   },
   "file_extension": ".py",
   "mimetype": "text/x-python",
   "name": "python",
   "nbconvert_exporter": "python",
   "pygments_lexer": "ipython3",
   "version": "3.6.5"
  }
 },
 "nbformat": 4,
 "nbformat_minor": 2
}
