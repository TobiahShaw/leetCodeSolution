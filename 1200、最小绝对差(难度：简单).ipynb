{
 "cells": [
  {
   "cell_type": "markdown",
   "metadata": {},
   "source": [
    "# 最小绝对差\n",
    "\n",
    "**题目来源：力扣（LeetCode）**\n",
    "\n",
    "**链接：https://leetcode-cn.com/problems/minimum-absolute-difference/**\n",
    "\n",
    "## 一、题目\n",
    "\n",
    "给你个整数数组 arr，其中每个元素都 不相同。\n",
    "\n",
    "请你找到所有具有最小绝对差的元素对，并且按升序的顺序返回。\n",
    "\n",
    "### 提示：\n",
    "\n",
    "- 2 <= arr.length <= 10^5\n",
    "- -10^6 <= arr[i] <= 10^6\n",
    "\n",
    "## 二、示例\n",
    "\n",
    "### 示例 1：\n",
    "\n",
    "输入：arr = [4,2,1,3]\n",
    "\n",
    "输出：[[1,2],[2,3],[3,4]]\n",
    "\n",
    "### 示例 2：\n",
    "\n",
    "输入：arr = [1,3,6,10,15]\n",
    "\n",
    "输出：[[1,3]]\n",
    "\n",
    "### 示例 3：\n",
    "\n",
    "输入：arr = [3,8,-10,23,19,-4,-14,27]\n",
    "\n",
    "输出：[[-14,-10],[19,23],[23,27]]\n",
    "\n",
    "## 三、解题思路\n",
    "\n",
    "### 排序 + 暴搜"
   ]
  },
  {
   "cell_type": "code",
   "execution_count": 1,
   "metadata": {},
   "outputs": [],
   "source": [
    "def minimumAbsDifference(arr):\n",
    "    arr.sort()\n",
    "    ret = []\n",
    "    min_abs = float('inf')\n",
    "    for i in range(1, len(arr)):\n",
    "        tmp = abs(arr[i-1] - arr[i])\n",
    "        if tmp < min_abs:\n",
    "            min_abs = tmp\n",
    "            ret.clear()\n",
    "            ret.append([arr[i-1], arr[i]])\n",
    "        elif tmp == min_abs:\n",
    "            ret.append([arr[i-1], arr[i]])\n",
    "    return ret"
   ]
  },
  {
   "cell_type": "code",
   "execution_count": 2,
   "metadata": {},
   "outputs": [
    {
     "data": {
      "text/plain": [
       "[[1, 2], [2, 3], [3, 4]]"
      ]
     },
     "execution_count": 2,
     "metadata": {},
     "output_type": "execute_result"
    }
   ],
   "source": [
    "minimumAbsDifference([4,2,1,3])"
   ]
  },
  {
   "cell_type": "code",
   "execution_count": 3,
   "metadata": {},
   "outputs": [
    {
     "data": {
      "text/plain": [
       "[[1, 3]]"
      ]
     },
     "execution_count": 3,
     "metadata": {},
     "output_type": "execute_result"
    }
   ],
   "source": [
    "minimumAbsDifference([1,3,6,10,15])"
   ]
  },
  {
   "cell_type": "code",
   "execution_count": 4,
   "metadata": {},
   "outputs": [
    {
     "data": {
      "text/plain": [
       "[[-14, -10], [19, 23], [23, 27]]"
      ]
     },
     "execution_count": 4,
     "metadata": {},
     "output_type": "execute_result"
    }
   ],
   "source": [
    "minimumAbsDifference([3,8,-10,23,19,-4,-14,27])"
   ]
  },
  {
   "cell_type": "code",
   "execution_count": null,
   "metadata": {},
   "outputs": [],
   "source": []
  }
 ],
 "metadata": {
  "kernelspec": {
   "display_name": "Python 3",
   "language": "python",
   "name": "python3"
  },
  "language_info": {
   "codemirror_mode": {
    "name": "ipython",
    "version": 3
   },
   "file_extension": ".py",
   "mimetype": "text/x-python",
   "name": "python",
   "nbconvert_exporter": "python",
   "pygments_lexer": "ipython3",
   "version": "3.6.5"
  }
 },
 "nbformat": 4,
 "nbformat_minor": 2
}
