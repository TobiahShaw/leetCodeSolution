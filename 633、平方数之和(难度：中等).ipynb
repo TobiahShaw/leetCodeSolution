{
 "cells": [
  {
   "cell_type": "markdown",
   "metadata": {},
   "source": [
    "# 平方数之和\n",
    "\n",
    "**题目来源：力扣（LeetCode）**\n",
    "\n",
    "**链接：https://leetcode-cn.com/problems/sum-of-square-numbers/**\n",
    "\n",
    "## 一、题目\n",
    "\n",
    "给定一个非负整数 c ，你要判断是否存在两个整数 a 和 b，使得 $ a^2 + b^2 = c $。\n",
    "\n",
    "### 提示：\n",
    "\n",
    "- 0 <= c <= 231 - 1\n",
    "\n",
    "## 二、示例\n",
    "\n",
    "### 示例 1：\n",
    "\n",
    "输入：c = 5\n",
    "\n",
    "输出：true\n",
    "\n",
    "解释：1 * 1 + 2 * 2 = 5\n",
    "\n",
    "### 示例 2：\n",
    "\n",
    "输入：c = 3\n",
    "\n",
    "输出：false\n",
    "\n",
    "### 示例 3：\n",
    "\n",
    "输入：c = 4\n",
    "\n",
    "输出：true\n",
    "\n",
    "### 示例 4：\n",
    "\n",
    "输入：c = 2\n",
    "\n",
    "输出：true\n",
    "\n",
    "### 示例 5：\n",
    "\n",
    "输入：c = 1\n",
    "\n",
    "输出：true\n",
    "\n",
    "## 三、解题思路\n",
    "\n",
    "### 轮询"
   ]
  },
  {
   "cell_type": "code",
   "execution_count": 1,
   "metadata": {},
   "outputs": [],
   "source": [
    "def judgeSquareSum(c: int) -> bool:\n",
    "    from math import sqrt\n",
    "    sqareSet = set()\n",
    "    for i in range(int(sqrt(c)) + 1):\n",
    "        sqare = i * i\n",
    "        su = c - sqare\n",
    "        if int(sqrt(su)) ** 2 == su:\n",
    "            return True\n",
    "    return False"
   ]
  },
  {
   "cell_type": "code",
   "execution_count": 2,
   "metadata": {},
   "outputs": [
    {
     "name": "stdout",
     "output_type": "stream",
     "text": [
      "True\n",
      "False\n",
      "True\n",
      "True\n",
      "True\n"
     ]
    }
   ],
   "source": [
    "print(judgeSquareSum(5))\n",
    "print(judgeSquareSum(3))\n",
    "print(judgeSquareSum(4))\n",
    "print(judgeSquareSum(2))\n",
    "print(judgeSquareSum(1))"
   ]
  },
  {
   "cell_type": "code",
   "execution_count": 3,
   "metadata": {},
   "outputs": [],
   "source": [
    "def judgeSquareSum(c: int) -> bool:\n",
    "    from math import sqrt\n",
    "    sqareSet = set()\n",
    "    for i in range(int(sqrt(c)) + 1):\n",
    "        sqare = i * i\n",
    "        sqareSet.add(sqare)\n",
    "        if (c - sqare) in sqareSet:\n",
    "            return True\n",
    "    return False"
   ]
  },
  {
   "cell_type": "code",
   "execution_count": 4,
   "metadata": {},
   "outputs": [
    {
     "name": "stdout",
     "output_type": "stream",
     "text": [
      "True\n",
      "False\n",
      "True\n",
      "True\n",
      "True\n"
     ]
    }
   ],
   "source": [
    "print(judgeSquareSum(5))\n",
    "print(judgeSquareSum(3))\n",
    "print(judgeSquareSum(4))\n",
    "print(judgeSquareSum(2))\n",
    "print(judgeSquareSum(1))"
   ]
  },
  {
   "cell_type": "code",
   "execution_count": null,
   "metadata": {},
   "outputs": [],
   "source": []
  }
 ],
 "metadata": {
  "kernelspec": {
   "display_name": "Python 3",
   "language": "python",
   "name": "python3"
  },
  "language_info": {
   "codemirror_mode": {
    "name": "ipython",
    "version": 3
   },
   "file_extension": ".py",
   "mimetype": "text/x-python",
   "name": "python",
   "nbconvert_exporter": "python",
   "pygments_lexer": "ipython3",
   "version": "3.6.5"
  }
 },
 "nbformat": 4,
 "nbformat_minor": 2
}
