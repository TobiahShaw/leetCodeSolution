{
 "cells": [
  {
   "cell_type": "markdown",
   "metadata": {},
   "source": [
    "# 输出二叉树\n",
    "\n",
    "**题目来源：力扣（LeetCode）**\n",
    "\n",
    "**链接：https://leetcode.cn/problems/print-binary-tree/**\n",
    "\n",
    "## 一、题目\n",
    "\n",
    "给你一棵二叉树的根节点 root ，请你构造一个下标从 0 开始、大小为 m x n 的字符串矩阵 res ，用以表示树的 格式化布局 。构造此格式化布局矩阵需要遵循以下规则：\n",
    "\n",
    "- 树的 高度 为 height ，矩阵的行数 m 应该等于 height + 1 。\n",
    "- 矩阵的列数 n 应该等于 $ 2^{height+1} $ - 1 。\n",
    "- 根节点 需要放置在 顶行 的 正中间 ，对应位置为 res[0][(n-1)/2] 。\n",
    "- 对于放置在矩阵中的每个节点，设对应位置为 res[r][c] ，将其左子节点放置在 res[r+1][c-$ 2^{height-r-1} $] ，右子节点放置在 res[r+1][c+$ 2^{height-r-1} $] 。\n",
    "- 继续这一过程，直到树中的所有节点都妥善放置。\n",
    "- 任意空单元格都应该包含空字符串 \"\" 。\n",
    "- 返回构造得到的矩阵 res 。\n",
    "\n",
    "### 提示：\n",
    "\n",
    "- 树中节点数在范围 [1, 2^10] 内\n",
    "- -99 <= Node.val <= 99\n",
    "- 树的深度在范围 [1, 10] 内\n",
    "\n",
    "## 二、示例\n",
    "\n",
    "### 示例 1：\n",
    "\n",
    "输入：root = [1,2]\n",
    "\n",
    "输出：\n",
    "\n",
    "```\n",
    "[[\"\",\"1\",\"\"],\n",
    " [\"2\",\"\",\"\"]]\n",
    "```\n",
    "\n",
    "### 示例 2：\n",
    "\n",
    "输入：root = [1,2,3,null,4]\n",
    "\n",
    "输出：\n",
    "\n",
    "```\n",
    "[[\"\",\"\",\"\",\"1\",\"\",\"\",\"\"],\n",
    " [\"\",\"2\",\"\",\"\",\"\",\"3\",\"\"],\n",
    " [\"\",\"\",\"4\",\"\",\"\",\"\",\"\"]]\n",
    "```\n",
    "\n",
    "## 三、解题思路"
   ]
  },
  {
   "cell_type": "code",
   "execution_count": 1,
   "metadata": {},
   "outputs": [],
   "source": [
    "class TreeNode:\n",
    "    def __init__(self, val=0, left=None, right=None):\n",
    "        self.val = val\n",
    "        self.left = left\n",
    "        self.right = right\n",
    "\n",
    "root1 = TreeNode(1)\n",
    "root1.left = TreeNode(2)\n",
    "\n",
    "root2 = TreeNode(1)\n",
    "root2.left = TreeNode(2)\n",
    "root2.right = TreeNode(3)\n",
    "\n",
    "root2.left.left = TreeNode(4)"
   ]
  },
  {
   "cell_type": "markdown",
   "metadata": {},
   "source": [
    "### DFS\n",
    "\n",
    "题目本身已经是答案的描述了，照写就是了"
   ]
  },
  {
   "cell_type": "code",
   "execution_count": 2,
   "metadata": {},
   "outputs": [],
   "source": [
    "class Solution:\n",
    "    def printTree(self, root: TreeNode):\n",
    "        def calcHeight(node):\n",
    "            if not node:\n",
    "                return 0\n",
    "            leftHeight = calcHeight(node.left)\n",
    "            rightHeight = calcHeight(node.right)\n",
    "            return max(leftHeight, rightHeight) + 1\n",
    "        m = calcHeight(root)\n",
    "        height = m - 1\n",
    "        n = 2 ** m - 1\n",
    "        ret = [[''] * n for _ in range(m)]\n",
    "        def dfs(node, r, c):\n",
    "            ret[r][c] = str(node.val)\n",
    "            if node.left:\n",
    "                dfs(node.left, r + 1, c - 2 ** (height-r-1))\n",
    "            if node.right:\n",
    "                dfs(node.right, r + 1, c + 2 ** (height-r-1))\n",
    "        dfs(root, 0, (n-1) // 2)\n",
    "        return ret"
   ]
  },
  {
   "cell_type": "code",
   "execution_count": 3,
   "metadata": {},
   "outputs": [
    {
     "data": {
      "text/plain": [
       "[['', '1', ''], ['2', '', '']]"
      ]
     },
     "execution_count": 3,
     "metadata": {},
     "output_type": "execute_result"
    }
   ],
   "source": [
    "s = Solution()\n",
    "s.printTree(root1)"
   ]
  },
  {
   "cell_type": "code",
   "execution_count": 4,
   "metadata": {},
   "outputs": [
    {
     "data": {
      "text/plain": [
       "[['', '', '', '1', '', '', ''],\n",
       " ['', '2', '', '', '', '3', ''],\n",
       " ['4', '', '', '', '', '', '']]"
      ]
     },
     "execution_count": 4,
     "metadata": {},
     "output_type": "execute_result"
    }
   ],
   "source": [
    "s.printTree(root2)"
   ]
  },
  {
   "cell_type": "code",
   "execution_count": null,
   "metadata": {},
   "outputs": [],
   "source": []
  }
 ],
 "metadata": {
  "kernelspec": {
   "display_name": "Python 3.10.4 64-bit",
   "language": "python",
   "name": "python3"
  },
  "language_info": {
   "codemirror_mode": {
    "name": "ipython",
    "version": 3
   },
   "file_extension": ".py",
   "mimetype": "text/x-python",
   "name": "python",
   "nbconvert_exporter": "python",
   "pygments_lexer": "ipython3",
   "version": "3.10.4"
  },
  "orig_nbformat": 4,
  "vscode": {
   "interpreter": {
    "hash": "4f946df053fbf2b937619d3c5458e7af74262f9a954d8797ba0b27400bcafe06"
   }
  }
 },
 "nbformat": 4,
 "nbformat_minor": 2
}
