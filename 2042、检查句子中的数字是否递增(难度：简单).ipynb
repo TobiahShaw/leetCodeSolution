{
 "cells": [
  {
   "cell_type": "markdown",
   "metadata": {},
   "source": [
    "# 检查句子中的数字是否递增\n",
    "\n",
    "**题目来源：力扣（LeetCode）**\n",
    "\n",
    "**链接：https://leetcode-cn.com/problems/check-if-numbers-are-ascending-in-a-sentence/**\n",
    "\n",
    "## 一、题目\n",
    "\n",
    "句子是由若干 token 组成的一个列表，token 间用 单个 空格分隔，句子没有前导或尾随空格。每个 token 要么是一个由数字 0-9 组成的不含前导零的 正整数 ，要么是一个由小写英文字母组成的 单词 。\n",
    "\n",
    "示例，\"a puppy has 2 eyes 4 legs\" 是一个由 7 个 token 组成的句子：\"2\" 和 \"4\" 是数字，其他像 \"puppy\" 这样的 tokens 属于单词。\n",
    "给你一个表示句子的字符串 s ，你需要检查 s 中的 全部 数字是否从左到右严格递增（即，除了最后一个数字，s 中的 每个 数字都严格小于它 右侧 的数字）。\n",
    "\n",
    "如果满足题目要求，返回 true ，否则，返回 false 。\n",
    "\n",
    "### 提示：\n",
    "\n",
    "- 3 <= s.length <= 200\n",
    "- s 由小写英文字母、空格和数字 0 到 9 组成（包含 0 和 9）\n",
    "- s 中数字 token 的数目在 2 和 100 之间（包含 2 和 100）\n",
    "- s 中的 token 之间由单个空格分隔\n",
    "- s 中至少有 两个 数字\n",
    "- s 中的每个数字都是一个 小于 100 的 正 数，且不含前导零\n",
    "- s 不含前导或尾随空格\n",
    "\n",
    "## 二、示例\n",
    "\n",
    "### 示例 1：\n",
    "\n",
    "输入：s = \"1 box has 3 blue 4 red 6 green and 12 yellow marbles\"\n",
    "\n",
    "输出：true\n",
    "\n",
    "解释：句子中的数字是：1, 3, 4, 6, 12 。\n",
    "\n",
    "这些数字是按从左到右严格递增的 1 < 3 < 4 < 6 < 12 。\n",
    "\n",
    "### 示例 2：\n",
    "\n",
    "输入：s = \"hello world 5 x 5\"\n",
    "\n",
    "输出：false\n",
    "\n",
    "解释：句子中的数字是：5, 5 。这些数字不是严格递增的。\n",
    "\n",
    "### 示例 3：\n",
    "\n",
    "输入：s = \"sunset is at 7 51 pm overnight lows will be in the low 50 and 60 s\"\n",
    "\n",
    "输出：false\n",
    "\n",
    "解释：s 中的数字是：7, 51, 50, 60 。这些数字不是严格递增的。\n",
    "\n",
    "### 示例 4：\n",
    "\n",
    "输入：s = \"4 5 11 26\"\n",
    "\n",
    "输出：true\n",
    "\n",
    "解释：s 中的数字是：4, 5, 11, 26 。\n",
    "\n",
    "这些数字是按从左到右严格递增的：4 < 5 < 11 < 26 。\n",
    "\n",
    "## 三、解题思路\n",
    "\n",
    "### 单次扫描"
   ]
  },
  {
   "cell_type": "code",
   "execution_count": 1,
   "metadata": {},
   "outputs": [],
   "source": [
    "class Solution:\n",
    "    def areNumbersAscending(self, s: str) -> bool:\n",
    "        num = None\n",
    "        for word in s.split():\n",
    "            if not word.isdigit():\n",
    "                continue\n",
    "            if num is None:\n",
    "                num = int(word)\n",
    "            else:\n",
    "                cur = int(word)\n",
    "                if num >= cur:\n",
    "                    return False\n",
    "                num = cur\n",
    "        return True"
   ]
  },
  {
   "cell_type": "code",
   "execution_count": 2,
   "metadata": {},
   "outputs": [
    {
     "data": {
      "text/plain": [
       "True"
      ]
     },
     "execution_count": 2,
     "metadata": {},
     "output_type": "execute_result"
    }
   ],
   "source": [
    "s = Solution()\n",
    "s.areNumbersAscending(s = \"1 box has 3 blue 4 red 6 green and 12 yellow marbles\")"
   ]
  },
  {
   "cell_type": "code",
   "execution_count": 3,
   "metadata": {},
   "outputs": [
    {
     "data": {
      "text/plain": [
       "False"
      ]
     },
     "execution_count": 3,
     "metadata": {},
     "output_type": "execute_result"
    }
   ],
   "source": [
    "s.areNumbersAscending(s = \"hello world 5 x 5\")"
   ]
  },
  {
   "cell_type": "code",
   "execution_count": 4,
   "metadata": {},
   "outputs": [
    {
     "data": {
      "text/plain": [
       "False"
      ]
     },
     "execution_count": 4,
     "metadata": {},
     "output_type": "execute_result"
    }
   ],
   "source": [
    "s.areNumbersAscending(s = \"sunset is at 7 51 pm overnight lows will be in the low 50 and 60 s\")"
   ]
  },
  {
   "cell_type": "code",
   "execution_count": 5,
   "metadata": {},
   "outputs": [
    {
     "data": {
      "text/plain": [
       "True"
      ]
     },
     "execution_count": 5,
     "metadata": {},
     "output_type": "execute_result"
    }
   ],
   "source": [
    "s.areNumbersAscending(s = \"4 5 11 26\")"
   ]
  },
  {
   "cell_type": "code",
   "execution_count": null,
   "metadata": {},
   "outputs": [],
   "source": []
  }
 ],
 "metadata": {
  "kernelspec": {
   "display_name": "Python 3 (ipykernel)",
   "language": "python",
   "name": "python3"
  },
  "language_info": {
   "codemirror_mode": {
    "name": "ipython",
    "version": 3
   },
   "file_extension": ".py",
   "mimetype": "text/x-python",
   "name": "python",
   "nbconvert_exporter": "python",
   "pygments_lexer": "ipython3",
   "version": "3.11.0"
  }
 },
 "nbformat": 4,
 "nbformat_minor": 2
}
