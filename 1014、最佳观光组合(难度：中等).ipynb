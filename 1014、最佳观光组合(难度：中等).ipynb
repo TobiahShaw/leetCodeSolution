{
  "cells": [
    {
      "metadata": {
        "collapsed": true
      },
      "cell_type": "markdown",
      "source": "# 最佳观光组合\n\n**题目来源：力扣（LeetCode）**\n\n**链接：https://leetcode-cn.com/problems/best-sightseeing-pair/**\n\n## 一、题目\n\n给定正整数数组 A，A[i] 表示第 i 个观光景点的评分，并且两个景点 i 和 j 之间的距离为 j - i。\n\n一对景点（i < j）组成的观光组合的得分为（A[i] + A[j] + i - j）：景点的评分之和减去它们两者之间的距离。\n\n返回一对观光景点能取得的最高分。\n\n## 二、示例\n\n输入：[8,1,5,2,6]\n\n输出：11\n\n解释：i = 0, j = 2, A[i] + A[j] + i - j = 8 + 5 + 0 - 2 = 11\n\n## 三、解题思路\n\n### 枚举\n\n求 A[i] + A[j] + i - j （i < j） 的最大值，\n\n而对于输入中的每一个 A[j] 来说， 它的值 A[j] 和它的下标 j 都是固定的，\n\n所以 A[j] - j 的值也是固定的。\n\n因此，对于每个 A[j] 而言， 想要求 A[i] + A[j] + i - j （i < j） 最大值，也就是要求 A[i] + i （i < j） 的最大值"
    },
    {
      "metadata": {
        "trusted": true
      },
      "cell_type": "code",
      "source": "def maxScoreSightseeingPair(A):\n    # A[i] + A[j] + i - j = (A[i] + i) + (A[j] - j)\n    ret, maxAii = 0, A[0] + 0\n    for i in range(1, len(A)):\n        ret = max(ret, maxAii + A[i] - i)\n        maxAii = max(maxAii, A[i] + i)\n    return ret",
      "execution_count": 1,
      "outputs": []
    },
    {
      "metadata": {
        "trusted": true
      },
      "cell_type": "code",
      "source": "maxScoreSightseeingPair([8,1,5,2,6])",
      "execution_count": 2,
      "outputs": [
        {
          "output_type": "execute_result",
          "execution_count": 2,
          "data": {
            "text/plain": "11"
          },
          "metadata": {}
        }
      ]
    },
    {
      "metadata": {
        "trusted": true
      },
      "cell_type": "code",
      "source": "",
      "execution_count": null,
      "outputs": []
    }
  ],
  "metadata": {
    "kernelspec": {
      "name": "python36",
      "display_name": "Python 3.6",
      "language": "python"
    },
    "language_info": {
      "mimetype": "text/x-python",
      "nbconvert_exporter": "python",
      "name": "python",
      "pygments_lexer": "ipython3",
      "version": "3.6.6",
      "file_extension": ".py",
      "codemirror_mode": {
        "version": 3,
        "name": "ipython"
      }
    }
  },
  "nbformat": 4,
  "nbformat_minor": 2
}