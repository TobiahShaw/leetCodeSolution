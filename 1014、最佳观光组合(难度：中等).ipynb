{
 "cells": [
  {
   "cell_type": "markdown",
   "metadata": {
    "collapsed": true
   },
   "source": [
    "# 最佳观光组合\n",
    "\n",
    "**题目来源：力扣（LeetCode）**\n",
    "\n",
    "**链接：https://leetcode-cn.com/problems/best-sightseeing-pair/**\n",
    "\n",
    "## 一、题目\n",
    "\n",
    "给定正整数数组 A，A[i] 表示第 i 个观光景点的评分，并且两个景点 i 和 j 之间的距离为 j - i。\n",
    "\n",
    "一对景点（i < j）组成的观光组合的得分为（A[i] + A[j] + i - j）：景点的评分之和减去它们两者之间的距离。\n",
    "\n",
    "返回一对观光景点能取得的最高分。\n",
    "\n",
    "### 提示：\n",
    "\n",
    "- 2 <= values.length <= 5 * 10^4\n",
    "- 1 <= values[i] <= 1000\n",
    "\n",
    "## 二、示例\n",
    "\n",
    "### 示例 1：\n",
    "\n",
    "输入：values = [8,1,5,2,6]\n",
    "\n",
    "输出：11\n",
    "\n",
    "解释：i = 0, j = 2, values[i] + values[j] + i - j = 8 + 5 + 0 - 2 = 11\n",
    "\n",
    "### 示例 2：\n",
    "\n",
    "输入：values = [1,2]\n",
    "\n",
    "输出：2\n",
    "\n",
    "## 三、解题思路\n",
    "\n",
    "### 枚举\n",
    "\n",
    "求 A[i] + A[j] + i - j （i < j） 的最大值，\n",
    "\n",
    "而对于输入中的每一个 A[j] 来说， 它的值 A[j] 和它的下标 j 都是固定的，\n",
    "\n",
    "所以 A[j] - j 的值也是固定的。\n",
    "\n",
    "因此，对于每个 A[j] 而言， 想要求 A[i] + A[j] + i - j （i < j） 最大值，也就是要求 A[i] + i （i < j） 的最大值"
   ]
  },
  {
   "cell_type": "code",
   "execution_count": 1,
   "metadata": {},
   "outputs": [],
   "source": [
    "class Solution:\n",
    "    def maxScoreSightseeingPair(self, A):\n",
    "        # A[i] + A[j] + i - j = (A[i] + i) + (A[j] - j)\n",
    "        ret, maxAii = 0, A[0] + 0\n",
    "        for i in range(1, len(A)):\n",
    "            ret = max(ret, maxAii + A[i] - i)\n",
    "            maxAii = max(maxAii, A[i] + i)\n",
    "        return ret"
   ]
  },
  {
   "cell_type": "code",
   "execution_count": 2,
   "metadata": {},
   "outputs": [
    {
     "data": {
      "text/plain": [
       "11"
      ]
     },
     "execution_count": 2,
     "metadata": {},
     "output_type": "execute_result"
    }
   ],
   "source": [
    "s = Solution()\n",
    "s.maxScoreSightseeingPair([8,1,5,2,6])"
   ]
  },
  {
   "cell_type": "code",
   "execution_count": 3,
   "metadata": {},
   "outputs": [
    {
     "data": {
      "text/plain": [
       "2"
      ]
     },
     "execution_count": 3,
     "metadata": {},
     "output_type": "execute_result"
    }
   ],
   "source": [
    "s.maxScoreSightseeingPair([1,2])"
   ]
  },
  {
   "cell_type": "code",
   "execution_count": null,
   "metadata": {},
   "outputs": [],
   "source": []
  }
 ],
 "metadata": {
  "kernelspec": {
   "display_name": "Python 3 (ipykernel)",
   "language": "python",
   "name": "python3"
  },
  "language_info": {
   "codemirror_mode": {
    "name": "ipython",
    "version": 3
   },
   "file_extension": ".py",
   "mimetype": "text/x-python",
   "name": "python",
   "nbconvert_exporter": "python",
   "pygments_lexer": "ipython3",
   "version": "3.11.0"
  }
 },
 "nbformat": 4,
 "nbformat_minor": 2
}
