{
 "cells": [
  {
   "cell_type": "markdown",
   "id": "b42eeb04-1815-4536-83e9-7e29aa4bca95",
   "metadata": {},
   "source": [
    "# 分数到小数\n",
    "\n",
    "**题目来源：力扣（LeetCode）**\n",
    "\n",
    "**链接：https://leetcode-cn.com/problems/fraction-to-recurring-decimal/**\n",
    "\n",
    "## 一、题目\n",
    "\n",
    "给定两个整数，分别表示分数的分子 numerator 和分母 denominator，以 字符串形式返回小数 。\n",
    "\n",
    "如果小数部分为循环小数，则将循环的部分括在括号内。\n",
    "\n",
    "如果存在多个答案，只需返回 任意一个 。\n",
    "\n",
    "对于所有给定的输入，保证 答案字符串的长度小于 10^4 。\n",
    "\n",
    "### 提示：\n",
    "\n",
    "- -2^31 <= numerator, denominator <= 2^31 - 1\n",
    "- denominator != 0\n",
    "\n",
    "## 二、示例\n",
    "\n",
    "### 示例 1：\n",
    "\n",
    "输入：numerator = 1, denominator = 2\n",
    "\n",
    "输出：\"0.5\"\n",
    "\n",
    "### 示例 2：\n",
    "\n",
    "输入：numerator = 2, denominator = 1\n",
    "\n",
    "输出：\"2\"\n",
    "\n",
    "### 示例 3：\n",
    "\n",
    "输入：numerator = 2, denominator = 3\n",
    "\n",
    "输出：\"0.(6)\"\n",
    "\n",
    "### 示例 4：\n",
    "\n",
    "输入：numerator = 4, denominator = 333\n",
    "\n",
    "输出：\"0.(012)\"\n",
    "\n",
    "### 示例 5：\n",
    "\n",
    "输入：numerator = 1, denominator = 5\n",
    "\n",
    "输出：\"0.2\"\n",
    "\n",
    "## 三、解题思路\n",
    "\n",
    "### 长除法"
   ]
  },
  {
   "cell_type": "code",
   "execution_count": 1,
   "id": "6e2fe707-e640-48f3-aa52-3c4fb74381b2",
   "metadata": {},
   "outputs": [],
   "source": [
    "def fractionToDecimal(numerator: int, denominator: int) -> str:\n",
    "    def hdiv(dividend, divisor, precision=0):\n",
    "        a = dividend  \n",
    "        b = divisor\n",
    "        #有负数的话做个标记  \n",
    "        if (a > 0 and b > 0) or (a < 0 and b < 0):  \n",
    "            flag = 1  \n",
    "        else:  \n",
    "            flag = -1 \n",
    "        #变为正数，防止取模的时候有影响  \n",
    "        a = abs(a)  \n",
    "        b = abs(b)          \n",
    "        quotient = a // b  \n",
    "        remainder = a % b      \n",
    "        if remainder == 0:  \n",
    "            return str(quotient * flag)\n",
    "        ans = [str(quotient), '.']\n",
    "        repeats = dict()\n",
    "        i = 0  \n",
    "        while i < precision:  \n",
    "            a = remainder * 10  \n",
    "            quotient = a // b  \n",
    "            remainder = a % b\n",
    "            if a in repeats:\n",
    "                ans.insert(repeats[a], '(')\n",
    "                ans.append(')')\n",
    "                break\n",
    "            ans.append(str(quotient))\n",
    "            repeats[a] = i + 2\n",
    "            if remainder == 0:  \n",
    "                break  \n",
    "            i += 1  \n",
    "        if precision == 0:  \n",
    "            ans.pop(1)\n",
    "        if flag == -1:  \n",
    "            return '-' + ''.join(ans) \n",
    "        return ''.join(ans)\n",
    "        \n",
    "    return hdiv(numerator, denominator, 10000)"
   ]
  },
  {
   "cell_type": "code",
   "execution_count": 2,
   "id": "00966fbb-b787-48f7-a079-fa5a50ab3320",
   "metadata": {},
   "outputs": [
    {
     "data": {
      "text/plain": [
       "'0.5'"
      ]
     },
     "execution_count": 2,
     "metadata": {},
     "output_type": "execute_result"
    }
   ],
   "source": [
    "fractionToDecimal(1,2)"
   ]
  },
  {
   "cell_type": "code",
   "execution_count": 3,
   "id": "5bc3d295-d430-459e-9f30-57d6e7ee1580",
   "metadata": {},
   "outputs": [
    {
     "data": {
      "text/plain": [
       "'2'"
      ]
     },
     "execution_count": 3,
     "metadata": {},
     "output_type": "execute_result"
    }
   ],
   "source": [
    "fractionToDecimal(2,1)"
   ]
  },
  {
   "cell_type": "code",
   "execution_count": 4,
   "id": "e144bbf5-15ce-4dc9-8a4e-ae1f4f97e139",
   "metadata": {},
   "outputs": [
    {
     "data": {
      "text/plain": [
       "'0.(6)'"
      ]
     },
     "execution_count": 4,
     "metadata": {},
     "output_type": "execute_result"
    }
   ],
   "source": [
    "fractionToDecimal(2,3)"
   ]
  },
  {
   "cell_type": "code",
   "execution_count": 5,
   "id": "83253c5d-926f-4c85-83f3-6f1b398528df",
   "metadata": {},
   "outputs": [
    {
     "data": {
      "text/plain": [
       "'0.(012)'"
      ]
     },
     "execution_count": 5,
     "metadata": {},
     "output_type": "execute_result"
    }
   ],
   "source": [
    "fractionToDecimal(4,333)"
   ]
  },
  {
   "cell_type": "code",
   "execution_count": 6,
   "id": "1b72e460-b138-4f8d-beaa-85ad05af99f6",
   "metadata": {},
   "outputs": [
    {
     "data": {
      "text/plain": [
       "'0.2'"
      ]
     },
     "execution_count": 6,
     "metadata": {},
     "output_type": "execute_result"
    }
   ],
   "source": [
    "fractionToDecimal(1,5)"
   ]
  },
  {
   "cell_type": "code",
   "execution_count": null,
   "id": "59cee74f-ab16-460d-bb8c-5b7a58861812",
   "metadata": {},
   "outputs": [],
   "source": []
  }
 ],
 "metadata": {
  "kernelspec": {
   "display_name": "Python 3 (ipykernel)",
   "language": "python",
   "name": "python3"
  },
  "language_info": {
   "codemirror_mode": {
    "name": "ipython",
    "version": 3
   },
   "file_extension": ".py",
   "mimetype": "text/x-python",
   "name": "python",
   "nbconvert_exporter": "python",
   "pygments_lexer": "ipython3",
   "version": "3.7.10"
  }
 },
 "nbformat": 4,
 "nbformat_minor": 5
}
