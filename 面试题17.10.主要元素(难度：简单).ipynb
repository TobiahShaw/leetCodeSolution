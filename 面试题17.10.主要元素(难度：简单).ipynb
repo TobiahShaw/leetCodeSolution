{
 "cells": [
  {
   "cell_type": "markdown",
   "metadata": {},
   "source": [
    "# 主要元素\n",
    "\n",
    "**题目来源：力扣（LeetCode）**\n",
    "\n",
    "**链接：https://leetcode-cn.com/problems/find-majority-element-lcci/**\n",
    "\n",
    "## 一、题目\n",
    "\n",
    "数组中占比超过一半的元素称之为主要元素。给定一个整数数组，找到它的主要元素。若没有，返回-1。\n",
    "\n",
    "## 二、示例\n",
    "\n",
    "### 示例 1：\n",
    "\n",
    "输入：[1,2,5,9,5,9,5,5,5]\n",
    "\n",
    "输出：5\n",
    "\n",
    "### 示例 2：\n",
    "\n",
    "输入：[3,2]\n",
    "\n",
    "输出：-1\n",
    "\n",
    "### 示例 3：\n",
    "\n",
    "输入：[2,2,1,1,1,2,2]\n",
    "\n",
    "输出：2\n",
    "\n",
    "## 三、解题思路\n",
    "\n",
    "### 一、利用字典计数"
   ]
  },
  {
   "cell_type": "code",
   "execution_count": 1,
   "metadata": {},
   "outputs": [],
   "source": [
    "def majorityElement(nums) -> int:\n",
    "    n = len(nums)\n",
    "    dic = {}\n",
    "    for i in range(n):\n",
    "        if nums[i] in dic:\n",
    "            dic[nums[i]] += 1\n",
    "        else:\n",
    "            dic[nums[i]] = 1\n",
    "        if dic[nums[i]] > n / 2:\n",
    "            return nums[i]\n",
    "    return -1"
   ]
  },
  {
   "cell_type": "code",
   "execution_count": 2,
   "metadata": {},
   "outputs": [
    {
     "data": {
      "text/plain": [
       "5"
      ]
     },
     "execution_count": 2,
     "metadata": {},
     "output_type": "execute_result"
    }
   ],
   "source": [
    "majorityElement([1,2,5,9,5,9,5,5,5])"
   ]
  },
  {
   "cell_type": "code",
   "execution_count": 3,
   "metadata": {},
   "outputs": [
    {
     "data": {
      "text/plain": [
       "-1"
      ]
     },
     "execution_count": 3,
     "metadata": {},
     "output_type": "execute_result"
    }
   ],
   "source": [
    "majorityElement([3,2])"
   ]
  },
  {
   "cell_type": "code",
   "execution_count": 4,
   "metadata": {},
   "outputs": [
    {
     "data": {
      "text/plain": [
       "2"
      ]
     },
     "execution_count": 4,
     "metadata": {},
     "output_type": "execute_result"
    }
   ],
   "source": [
    "majorityElement([2,2,1,1,1,2,2])"
   ]
  },
  {
   "cell_type": "markdown",
   "metadata": {},
   "source": [
    "### 二、摩尔投票法"
   ]
  },
  {
   "cell_type": "code",
   "execution_count": 5,
   "metadata": {},
   "outputs": [],
   "source": [
    "def majorityElement(nums) -> int:\n",
    "    n=len(nums)\n",
    "    temp=nums[0]\n",
    "    count=0\n",
    "    for i in range(n):\n",
    "        if nums[i]==temp:\n",
    "            count+=1\n",
    "        else:\n",
    "            if count==0:\n",
    "                temp=nums[i]\n",
    "                count=1\n",
    "            else:\n",
    "                count-=1\n",
    "    return temp if nums.count(temp)>n//2 else -1"
   ]
  },
  {
   "cell_type": "code",
   "execution_count": 6,
   "metadata": {},
   "outputs": [
    {
     "data": {
      "text/plain": [
       "5"
      ]
     },
     "execution_count": 6,
     "metadata": {},
     "output_type": "execute_result"
    }
   ],
   "source": [
    "majorityElement([1,2,5,9,5,9,5,5,5])"
   ]
  },
  {
   "cell_type": "code",
   "execution_count": 7,
   "metadata": {},
   "outputs": [
    {
     "data": {
      "text/plain": [
       "-1"
      ]
     },
     "execution_count": 7,
     "metadata": {},
     "output_type": "execute_result"
    }
   ],
   "source": [
    "majorityElement([3,2])"
   ]
  },
  {
   "cell_type": "code",
   "execution_count": 8,
   "metadata": {},
   "outputs": [
    {
     "data": {
      "text/plain": [
       "2"
      ]
     },
     "execution_count": 8,
     "metadata": {},
     "output_type": "execute_result"
    }
   ],
   "source": [
    "majorityElement([2,2,1,1,1,2,2])"
   ]
  },
  {
   "cell_type": "code",
   "execution_count": null,
   "metadata": {},
   "outputs": [],
   "source": []
  }
 ],
 "metadata": {
  "kernelspec": {
   "display_name": "Python 3",
   "language": "python",
   "name": "python3"
  },
  "language_info": {
   "codemirror_mode": {
    "name": "ipython",
    "version": 3
   },
   "file_extension": ".py",
   "mimetype": "text/x-python",
   "name": "python",
   "nbconvert_exporter": "python",
   "pygments_lexer": "ipython3",
   "version": "3.6.5"
  }
 },
 "nbformat": 4,
 "nbformat_minor": 2
}
