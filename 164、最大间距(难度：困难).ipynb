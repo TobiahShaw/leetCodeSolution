{
 "cells": [
  {
   "cell_type": "markdown",
   "metadata": {},
   "source": [
    "# 最大间距\n",
    "\n",
    "**题目来源：力扣（LeetCode）**\n",
    "\n",
    "**链接：https://leetcode-cn.com/problems/maximum-gap/**\n",
    "\n",
    "## 一、题目\n",
    "\n",
    "给定一个无序的数组，找出数组在排序之后，相邻元素之间最大的差值。\n",
    "\n",
    "如果数组元素个数小于 2，则返回 0。\n",
    "\n",
    "说明:\n",
    "\n",
    "- 你可以假设数组中所有元素都是非负整数，且数值在 32 位有符号整数范围内。\n",
    "- 请尝试在线性时间复杂度和空间复杂度的条件下解决此问题。\n",
    "\n",
    "## 二、示例\n",
    "\n",
    "### 示例 1：\n",
    "\n",
    "输入: [3,6,9,1]\n",
    "\n",
    "输出: 3\n",
    "\n",
    "解释: 排序后的数组是 [1,3,6,9], 其中相邻元素 (3,6) 和 (6,9) 之间都存在最大差值 3。\n",
    "\n",
    "### 示例 2:\n",
    "\n",
    "输入: [10]\n",
    "\n",
    "输出: 0\n",
    "\n",
    "解释: 数组元素个数小于 2，因此返回 0。\n",
    "\n",
    "## 三、解题思路\n",
    "\n",
    "### 一、内置排序函数\n",
    "\n",
    "#### 内置函数虽然速度快，但是实际上是nlogn的时间复杂度"
   ]
  },
  {
   "cell_type": "code",
   "execution_count": 1,
   "metadata": {},
   "outputs": [],
   "source": [
    "def maximumGap(nums) -> int:\n",
    "    n = len(nums)\n",
    "    if n < 2:\n",
    "        return 0\n",
    "    if n == 2:\n",
    "        return abs(nums[0] - nums[1])\n",
    "    maxGap = 0\n",
    "    nums = sorted(nums)\n",
    "    for i in range(1, n):\n",
    "        maxGap = max(maxGap, nums[i] - nums[i-1])\n",
    "    return maxGap"
   ]
  },
  {
   "cell_type": "code",
   "execution_count": 2,
   "metadata": {},
   "outputs": [
    {
     "data": {
      "text/plain": [
       "3"
      ]
     },
     "execution_count": 2,
     "metadata": {},
     "output_type": "execute_result"
    }
   ],
   "source": [
    "maximumGap([3,6,9,1])"
   ]
  },
  {
   "cell_type": "code",
   "execution_count": 3,
   "metadata": {},
   "outputs": [
    {
     "data": {
      "text/plain": [
       "0"
      ]
     },
     "execution_count": 3,
     "metadata": {},
     "output_type": "execute_result"
    }
   ],
   "source": [
    "maximumGap([10])"
   ]
  },
  {
   "cell_type": "markdown",
   "metadata": {},
   "source": [
    "### 二、桶排序\n",
    "\n",
    "1. 使每个桶装两个元素，一个最大一个最小\n",
    "2. 得出相应的桶数目\n",
    "3. 生成桶\n",
    "4. 比较当前桶的最小值和前一个桶的最大值只差的最大值"
   ]
  },
  {
   "cell_type": "code",
   "execution_count": 4,
   "metadata": {},
   "outputs": [],
   "source": [
    "def maximumGap(nums) -> int:\n",
    "    n = len(nums)\n",
    "    if n < 2:\n",
    "        return 0\n",
    "    if n == 2:\n",
    "        return abs(nums[0] - nums[1])\n",
    "    minVal = min(nums)\n",
    "    maxVal = max(nums)\n",
    "    d = max(1, (maxVal - minVal) // (n - 1))\n",
    "    bucketSize = (maxVal - minVal) // d + 1\n",
    "    bucket = [[-1, -1] for _ in range(bucketSize)]\n",
    "    for i in range(n):\n",
    "        idx = (nums[i] - minVal) // d\n",
    "        if bucket[idx][0] == -1:\n",
    "            bucket[idx][0] = bucket[idx][1] = nums[i]\n",
    "        else:\n",
    "            bucket[idx][0] = min(bucket[idx][0], nums[i])\n",
    "            bucket[idx][1] = max(bucket[idx][1], nums[i])\n",
    "    ret = 0\n",
    "    prev = -1\n",
    "    for i in range(bucketSize):\n",
    "        if bucket[i][0] == -1:\n",
    "            continue\n",
    "        if prev != -1:\n",
    "            ret = max(ret, bucket[i][0] - bucket[prev][1])\n",
    "        prev = i\n",
    "    return ret"
   ]
  },
  {
   "cell_type": "code",
   "execution_count": 5,
   "metadata": {},
   "outputs": [
    {
     "data": {
      "text/plain": [
       "3"
      ]
     },
     "execution_count": 5,
     "metadata": {},
     "output_type": "execute_result"
    }
   ],
   "source": [
    "maximumGap([3,6,9,1])"
   ]
  },
  {
   "cell_type": "code",
   "execution_count": 6,
   "metadata": {},
   "outputs": [
    {
     "data": {
      "text/plain": [
       "0"
      ]
     },
     "execution_count": 6,
     "metadata": {},
     "output_type": "execute_result"
    }
   ],
   "source": [
    "maximumGap([10])"
   ]
  },
  {
   "cell_type": "code",
   "execution_count": null,
   "metadata": {},
   "outputs": [],
   "source": []
  }
 ],
 "metadata": {
  "kernelspec": {
   "display_name": "Python 3",
   "language": "python",
   "name": "python3"
  },
  "language_info": {
   "codemirror_mode": {
    "name": "ipython",
    "version": 3
   },
   "file_extension": ".py",
   "mimetype": "text/x-python",
   "name": "python",
   "nbconvert_exporter": "python",
   "pygments_lexer": "ipython3",
   "version": "3.6.5"
  }
 },
 "nbformat": 4,
 "nbformat_minor": 2
}
