{
 "cells": [
  {
   "cell_type": "markdown",
   "metadata": {},
   "source": [
    "# 课程表III\n",
    "\n",
    "**题目来源：力扣（LeetCode）**\n",
    "\n",
    "**链接：https://leetcode-cn.com/problems/course-schedule-iii/**\n",
    "\n",
    "## 一、题目\n",
    "\n",
    "这里有 n 门不同的在线课程，按从 1 到 n 编号。给你一个数组 courses ，其中 courses[i] = [durationi, lastDayi] 表示第 i 门课将会 持续 上 durationi 天课，并且必须在不晚于 lastDayi 的时候完成。\n",
    "\n",
    "你的学期从第 1 天开始。且不能同时修读两门及两门以上的课程。\n",
    "\n",
    "返回你最多可以修读的课程数目。\n",
    "\n",
    "### 提示:\n",
    "\n",
    "- 1 <= courses.length <= 10^4\n",
    "- 1 <= durationi, lastDayi <= 10^4\n",
    "\n",
    "## 二、示例\n",
    "\n",
    "### 示例 1：\n",
    "\n",
    "输入：courses = [[100, 200], [200, 1300], [1000, 1250], [2000, 3200]]\n",
    "\n",
    "输出：3\n",
    "\n",
    "解释：\n",
    "\n",
    "```\n",
    "这里一共有 4 门课程，但是你最多可以修 3 门：\n",
    "首先，修第 1 门课，耗费 100 天，在第 100 天完成，在第 101 天开始下门课。\n",
    "第二，修第 3 门课，耗费 1000 天，在第 1100 天完成，在第 1101 天开始下门课程。\n",
    "第三，修第 2 门课，耗时 200 天，在第 1300 天完成。\n",
    "第 4 门课现在不能修，因为将会在第 3300 天完成它，这已经超出了关闭日期。\n",
    "```\n",
    "\n",
    "### 示例 2：\n",
    "\n",
    "输入：courses = [[1,2]]\n",
    "\n",
    "输出：1\n",
    "\n",
    "### 示例 3：\n",
    "\n",
    "输入：courses = [[3,2],[4,3]]\n",
    "\n",
    "输出：0\n",
    "\n",
    "## 三、解题思路\n",
    "\n",
    "### 排序+优先队列"
   ]
  },
  {
   "cell_type": "code",
   "execution_count": 1,
   "metadata": {},
   "outputs": [],
   "source": [
    "def scheduleCourse(courses) -> int:\n",
    "    import heapq\n",
    "    courses.sort(key=lambda c: c[1])\n",
    "\n",
    "    q = list()\n",
    "    total = 0\n",
    "\n",
    "    for ti, di in courses:\n",
    "        if total + ti <= di:\n",
    "            total += ti\n",
    "            heapq.heappush(q, -ti)\n",
    "        elif q and -q[0] > ti:\n",
    "            total -= -q[0] - ti\n",
    "            heapq.heappop(q)\n",
    "            heapq.heappush(q, -ti)\n",
    "\n",
    "    return len(q)"
   ]
  },
  {
   "cell_type": "code",
   "execution_count": 2,
   "metadata": {},
   "outputs": [
    {
     "data": {
      "text/plain": [
       "3"
      ]
     },
     "execution_count": 2,
     "metadata": {},
     "output_type": "execute_result"
    }
   ],
   "source": [
    "scheduleCourse([[100, 200], [200, 1300], [1000, 1250], [2000, 3200]])"
   ]
  },
  {
   "cell_type": "code",
   "execution_count": 3,
   "metadata": {},
   "outputs": [
    {
     "data": {
      "text/plain": [
       "1"
      ]
     },
     "execution_count": 3,
     "metadata": {},
     "output_type": "execute_result"
    }
   ],
   "source": [
    "scheduleCourse([[1,2]])"
   ]
  },
  {
   "cell_type": "code",
   "execution_count": 4,
   "metadata": {},
   "outputs": [
    {
     "data": {
      "text/plain": [
       "0"
      ]
     },
     "execution_count": 4,
     "metadata": {},
     "output_type": "execute_result"
    }
   ],
   "source": [
    "scheduleCourse([[3,2],[4,3]])"
   ]
  },
  {
   "cell_type": "code",
   "execution_count": null,
   "metadata": {},
   "outputs": [],
   "source": []
  }
 ],
 "metadata": {
  "kernelspec": {
   "display_name": "Python 3",
   "language": "python",
   "name": "python3"
  },
  "language_info": {
   "codemirror_mode": {
    "name": "ipython",
    "version": 3
   },
   "file_extension": ".py",
   "mimetype": "text/x-python",
   "name": "python",
   "nbconvert_exporter": "python",
   "pygments_lexer": "ipython3",
   "version": "3.6.5"
  }
 },
 "nbformat": 4,
 "nbformat_minor": 2
}
