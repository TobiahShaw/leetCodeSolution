{
 "cells": [
  {
   "cell_type": "markdown",
   "metadata": {},
   "source": [
    "# 作为子字符串出现在单词中的字符串数目\n",
    "\n",
    "**题目来源：力扣（LeetCode）**\n",
    "\n",
    "**链接：https://leetcode-cn.com/problems/number-of-strings-that-appear-as-substrings-in-word/**\n",
    "\n",
    "## 一、题目\n",
    "\n",
    "给你一个字符串数组 patterns 和一个字符串 word ，统计 patterns 中有多少个字符串是 word 的子字符串。返回字符串数目。\n",
    "\n",
    "子字符串 是字符串中的一个连续字符序列。\n",
    "\n",
    "## 二、示例\n",
    "\n",
    "### 示例 1：\n",
    "\n",
    "输入：patterns = [\"a\",\"abc\",\"bc\",\"d\"], word = \"abc\"\n",
    "\n",
    "输出：3\n",
    "\n",
    "解释：\n",
    "\n",
    "- \"a\" 是 \"abc\" 的子字符串。\n",
    "- \"abc\" 是 \"abc\" 的子字符串。\n",
    "- \"bc\" 是 \"abc\" 的子字符串。\n",
    "- \"d\" 不是 \"abc\" 的子字符串。\n",
    "\n",
    "patterns 中有 3 个字符串作为子字符串出现在 word 中。\n",
    "\n",
    "### 示例 2：\n",
    "\n",
    "输入：patterns = [\"a\",\"b\",\"c\"], word = \"aaaaabbbbb\"\n",
    "\n",
    "输出：2\n",
    "\n",
    "解释：\n",
    "\n",
    "- \"a\" 是 \"aaaaabbbbb\" 的子字符串。\n",
    "- \"b\" 是 \"aaaaabbbbb\" 的子字符串。\n",
    "- \"c\" 不是 \"aaaaabbbbb\" 的字符串。\n",
    "\n",
    "patterns 中有 2 个字符串作为子字符串出现在 word 中。\n",
    "\n",
    "### 示例 3：\n",
    "\n",
    "输入：patterns = [\"a\",\"a\",\"a\"], word = \"ab\"\n",
    "\n",
    "输出：3\n",
    "\n",
    "解释：patterns 中的每个字符串都作为子字符串出现在 word \"ab\" 中。\n",
    "\n",
    "## 三、解题思路\n",
    "\n",
    "### 轮询"
   ]
  },
  {
   "cell_type": "code",
   "execution_count": 1,
   "metadata": {},
   "outputs": [],
   "source": [
    "def numOfStrings(patterns, word: str) -> int:\n",
    "    return sum([1 if pattern in word else 0 for pattern in patterns])"
   ]
  },
  {
   "cell_type": "code",
   "execution_count": 2,
   "metadata": {},
   "outputs": [
    {
     "data": {
      "text/plain": [
       "3"
      ]
     },
     "execution_count": 2,
     "metadata": {},
     "output_type": "execute_result"
    }
   ],
   "source": [
    "numOfStrings(patterns = [\"a\",\"abc\",\"bc\",\"d\"], word = \"abc\")"
   ]
  },
  {
   "cell_type": "code",
   "execution_count": 3,
   "metadata": {},
   "outputs": [
    {
     "data": {
      "text/plain": [
       "2"
      ]
     },
     "execution_count": 3,
     "metadata": {},
     "output_type": "execute_result"
    }
   ],
   "source": [
    "numOfStrings(patterns = [\"a\",\"b\",\"c\"], word = \"aaaaabbbbb\")"
   ]
  },
  {
   "cell_type": "code",
   "execution_count": 4,
   "metadata": {},
   "outputs": [
    {
     "data": {
      "text/plain": [
       "3"
      ]
     },
     "execution_count": 4,
     "metadata": {},
     "output_type": "execute_result"
    }
   ],
   "source": [
    "numOfStrings(patterns = [\"a\",\"a\",\"a\"], word = \"ab\")"
   ]
  },
  {
   "cell_type": "code",
   "execution_count": null,
   "metadata": {},
   "outputs": [],
   "source": []
  }
 ],
 "metadata": {
  "kernelspec": {
   "display_name": "Python 3",
   "language": "python",
   "name": "python3"
  },
  "language_info": {
   "codemirror_mode": {
    "name": "ipython",
    "version": 3
   },
   "file_extension": ".py",
   "mimetype": "text/x-python",
   "name": "python",
   "nbconvert_exporter": "python",
   "pygments_lexer": "ipython3",
   "version": "3.6.5"
  }
 },
 "nbformat": 4,
 "nbformat_minor": 2
}
