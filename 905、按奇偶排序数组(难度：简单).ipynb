{
  "cells": [
    {
      "metadata": {
        "collapsed": true
      },
      "cell_type": "markdown",
      "source": "# 按奇偶排序数组\n\n**题目来源：力扣（LeetCode）**\n\n**链接：https://leetcode-cn.com/problems/sort-array-by-parity/**\n\n## 一、题目\n\n给定一个非负整数数组 A，返回一个数组，在该数组中， A 的所有偶数元素之后跟着所有奇数元素。\n\n你可以返回满足此条件的任何数组作为答案。\n\n## 二、示例\n\n输入：[3,1,2,4]\n\n输出：[2,4,3,1]\n\n输出 [4,2,3,1]，[2,4,1,3] 和 [4,2,1,3] 也会被接受。\n\n## 三、解题思路\n\n### 简单轮询"
    },
    {
      "metadata": {
        "trusted": true
      },
      "cell_type": "code",
      "source": "def sortArrayByParity(A):\n    res1, res2 = [], []\n    for i in A:\n        if i % 2 == 0:\n            res1.append(i)\n        else:\n            res2.append(i)\n    res1.extend(res2)\n    return res1",
      "execution_count": 1,
      "outputs": []
    },
    {
      "metadata": {
        "trusted": true
      },
      "cell_type": "code",
      "source": "sortArrayByParity([3,1,2,4])",
      "execution_count": 2,
      "outputs": [
        {
          "output_type": "execute_result",
          "execution_count": 2,
          "data": {
            "text/plain": "[2, 4, 3, 1]"
          },
          "metadata": {}
        }
      ]
    },
    {
      "metadata": {},
      "cell_type": "markdown",
      "source": "### 双指针奇偶交换"
    },
    {
      "metadata": {
        "trusted": true
      },
      "cell_type": "code",
      "source": "def sortArrayByParity(A):\n    left, right = 0, len(A) - 1\n    while left < right:\n        if A[left] % 2 > A[right] % 2:\n            A[left], A[right] = A[right], A[left]\n        if A[left] % 2 == 0:\n            left += 1\n        if A[right] % 2 == 1:\n            right -= 1\n    return A",
      "execution_count": 3,
      "outputs": []
    },
    {
      "metadata": {
        "trusted": true
      },
      "cell_type": "code",
      "source": "sortArrayByParity([3,1,2,4])",
      "execution_count": 4,
      "outputs": [
        {
          "output_type": "execute_result",
          "execution_count": 4,
          "data": {
            "text/plain": "[4, 2, 1, 3]"
          },
          "metadata": {}
        }
      ]
    },
    {
      "metadata": {
        "trusted": true
      },
      "cell_type": "code",
      "source": "",
      "execution_count": null,
      "outputs": []
    }
  ],
  "metadata": {
    "kernelspec": {
      "name": "python36",
      "display_name": "Python 3.6",
      "language": "python"
    },
    "language_info": {
      "mimetype": "text/x-python",
      "nbconvert_exporter": "python",
      "name": "python",
      "pygments_lexer": "ipython3",
      "version": "3.6.6",
      "file_extension": ".py",
      "codemirror_mode": {
        "version": 3,
        "name": "ipython"
      }
    }
  },
  "nbformat": 4,
  "nbformat_minor": 2
}