{
 "cells": [
  {
   "cell_type": "markdown",
   "metadata": {
    "collapsed": true
   },
   "source": [
    "# 按奇偶排序数组\n",
    "\n",
    "**题目来源：力扣（LeetCode）**\n",
    "\n",
    "**链接：https://leetcode-cn.com/problems/sort-array-by-parity/**\n",
    "\n",
    "## 一、题目\n",
    "\n",
    "给定一个非负整数数组 A，返回一个数组，在该数组中， A 的所有偶数元素之后跟着所有奇数元素。\n",
    "\n",
    "你可以返回满足此条件的任何数组作为答案。\n",
    "\n",
    "### 提示：\n",
    "\n",
    "- 1 <= nums.length <= 5000\n",
    "- 0 <= nums[i] <= 5000\n",
    "\n",
    "## 二、示例\n",
    "\n",
    "输入：[3,1,2,4]\n",
    "\n",
    "输出：[2,4,3,1]\n",
    "\n",
    "输出 [4,2,3,1]，[2,4,1,3] 和 [4,2,1,3] 也会被接受。\n",
    "\n",
    "## 三、解题思路\n",
    "\n",
    "### 一、简单轮询"
   ]
  },
  {
   "cell_type": "code",
   "execution_count": 1,
   "metadata": {},
   "outputs": [],
   "source": [
    "def sortArrayByParity(A):\n",
    "    res1, res2 = [], []\n",
    "    for i in A:\n",
    "        if i % 2 == 0:\n",
    "            res1.append(i)\n",
    "        else:\n",
    "            res2.append(i)\n",
    "    res1.extend(res2)\n",
    "    return res1"
   ]
  },
  {
   "cell_type": "code",
   "execution_count": 2,
   "metadata": {},
   "outputs": [
    {
     "data": {
      "text/plain": [
       "[2, 4, 3, 1]"
      ]
     },
     "execution_count": 2,
     "metadata": {},
     "output_type": "execute_result"
    }
   ],
   "source": [
    "sortArrayByParity([3,1,2,4])"
   ]
  },
  {
   "cell_type": "markdown",
   "metadata": {},
   "source": [
    "### 二、双指针奇偶交换"
   ]
  },
  {
   "cell_type": "code",
   "execution_count": 3,
   "metadata": {},
   "outputs": [],
   "source": [
    "def sortArrayByParity(A):\n",
    "    left, right = 0, len(A) - 1\n",
    "    while left < right:\n",
    "        if A[left] % 2 > A[right] % 2:\n",
    "            A[left], A[right] = A[right], A[left]\n",
    "        if A[left] % 2 == 0:\n",
    "            left += 1\n",
    "        if A[right] % 2 == 1:\n",
    "            right -= 1\n",
    "    return A"
   ]
  },
  {
   "cell_type": "code",
   "execution_count": 4,
   "metadata": {},
   "outputs": [
    {
     "data": {
      "text/plain": [
       "[4, 2, 1, 3]"
      ]
     },
     "execution_count": 4,
     "metadata": {},
     "output_type": "execute_result"
    }
   ],
   "source": [
    "sortArrayByParity([3,1,2,4])"
   ]
  },
  {
   "cell_type": "code",
   "execution_count": null,
   "metadata": {},
   "outputs": [],
   "source": []
  }
 ],
 "metadata": {
  "kernelspec": {
   "display_name": "Python 3",
   "language": "python",
   "name": "python3"
  },
  "language_info": {
   "codemirror_mode": {
    "name": "ipython",
    "version": 3
   },
   "file_extension": ".py",
   "mimetype": "text/x-python",
   "name": "python",
   "nbconvert_exporter": "python",
   "pygments_lexer": "ipython3",
   "version": "3.6.5"
  }
 },
 "nbformat": 4,
 "nbformat_minor": 2
}
