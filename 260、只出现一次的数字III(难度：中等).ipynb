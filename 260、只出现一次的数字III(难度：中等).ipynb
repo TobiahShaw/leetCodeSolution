{
 "cells": [
  {
   "cell_type": "markdown",
   "metadata": {},
   "source": [
    "# 只出现一次的数字III\n",
    "\n",
    "**题目来源：力扣（LeetCode）**\n",
    "\n",
    "**链接：https://leetcode-cn.com/problems/single-number-iii/**\n",
    "\n",
    "## 一、题目\n",
    "\n",
    "给定一个整数数组 nums，其中恰好有两个元素只出现一次，其余所有元素均出现两次。 找出只出现一次的那两个元素。你可以按 任意顺序 返回答案。\n",
    "\n",
    "### 进阶：你的算法应该具有线性时间复杂度。你能否仅使用常数空间复杂度来实现？\n",
    "\n",
    "### 提示：\n",
    "\n",
    "- 2 <= nums.length <= 3 * 10^4\n",
    "- -2^31 <= nums[i] <= 2^31 - 1\n",
    "- 除两个只出现一次的整数外，nums 中的其他数字都出现两次\n",
    "\n",
    "## 二、示例\n",
    "\n",
    "### 示例 1：\n",
    "\n",
    "输入：nums = [1,2,1,3,2,5]\n",
    "\n",
    "输出：[3,5]\n",
    "\n",
    "解释：[5, 3] 也是有效的答案。\n",
    "\n",
    "### 示例 2：\n",
    "\n",
    "输入：nums = [-1,0]\n",
    "\n",
    "输出：[-1,0]\n",
    "\n",
    "### 示例 3：\n",
    "\n",
    "输入：nums = [0,1]\n",
    "\n",
    "输出：[1,0]\n",
    "\n",
    "## 三、解题思路\n",
    "\n",
    "### 利用集合"
   ]
  },
  {
   "cell_type": "code",
   "execution_count": 1,
   "metadata": {},
   "outputs": [],
   "source": [
    "def singleNumber(nums):\n",
    "    numSet = set()\n",
    "    for num in nums:\n",
    "        if num in numSet:\n",
    "            numSet.remove(num)\n",
    "        else:\n",
    "            numSet.add(num)\n",
    "    return list(numSet)"
   ]
  },
  {
   "cell_type": "code",
   "execution_count": 2,
   "metadata": {},
   "outputs": [
    {
     "data": {
      "text/plain": [
       "[3, 5]"
      ]
     },
     "execution_count": 2,
     "metadata": {},
     "output_type": "execute_result"
    }
   ],
   "source": [
    "singleNumber(nums = [1,2,1,3,2,5])"
   ]
  },
  {
   "cell_type": "code",
   "execution_count": 3,
   "metadata": {},
   "outputs": [
    {
     "data": {
      "text/plain": [
       "[0, -1]"
      ]
     },
     "execution_count": 3,
     "metadata": {},
     "output_type": "execute_result"
    }
   ],
   "source": [
    "singleNumber(nums = [-1,0])"
   ]
  },
  {
   "cell_type": "code",
   "execution_count": 4,
   "metadata": {},
   "outputs": [
    {
     "data": {
      "text/plain": [
       "[0, 1]"
      ]
     },
     "execution_count": 4,
     "metadata": {},
     "output_type": "execute_result"
    }
   ],
   "source": [
    "singleNumber(nums = [0,1])"
   ]
  },
  {
   "cell_type": "code",
   "execution_count": null,
   "metadata": {},
   "outputs": [],
   "source": []
  }
 ],
 "metadata": {
  "kernelspec": {
   "display_name": "Python 3",
   "language": "python",
   "name": "python3"
  },
  "language_info": {
   "codemirror_mode": {
    "name": "ipython",
    "version": 3
   },
   "file_extension": ".py",
   "mimetype": "text/x-python",
   "name": "python",
   "nbconvert_exporter": "python",
   "pygments_lexer": "ipython3",
   "version": "3.6.5"
  }
 },
 "nbformat": 4,
 "nbformat_minor": 2
}
