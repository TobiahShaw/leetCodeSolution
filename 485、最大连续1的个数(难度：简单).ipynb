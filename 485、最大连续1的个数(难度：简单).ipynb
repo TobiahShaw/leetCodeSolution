{
 "cells": [
  {
   "cell_type": "markdown",
   "metadata": {},
   "source": [
    "# 最大连续1的个数\n",
    "\n",
    "**题目来源：力扣（LeetCode）**\n",
    "\n",
    "**链接：https://leetcode-cn.com/problems/max-consecutive-ones/**\n",
    "\n",
    "## 一、题目\n",
    "\n",
    "给定一个二进制数组， 计算其中最大连续1的个数。\n",
    "\n",
    "### 注意：\n",
    "\n",
    "- 输入的数组只包含 0 和1。\n",
    "- 输入数组的长度是正整数，且不超过 10,000。\n",
    "\n",
    "## 二、示例\n",
    "\n",
    "输入: [1,1,0,1,1,1]\n",
    "\n",
    "输出: 3\n",
    "\n",
    "解释: 开头的两位和最后的三位都是连续1，所以最大连续1的个数是 3.\n",
    "\n",
    "## 三、解题思路\n",
    "\n",
    "### 简单状态机思想"
   ]
  },
  {
   "cell_type": "code",
   "execution_count": 1,
   "metadata": {},
   "outputs": [],
   "source": [
    "def findMaxConsecutiveOnes(nums) -> int:\n",
    "    ret = 0\n",
    "    cur = 0\n",
    "    for i in nums:\n",
    "        if i == 1:\n",
    "            cur += 1\n",
    "        else:\n",
    "            ret = cur if cur > ret else ret\n",
    "            cur = 0\n",
    "    return cur if cur > ret else ret"
   ]
  },
  {
   "cell_type": "code",
   "execution_count": 2,
   "metadata": {},
   "outputs": [
    {
     "data": {
      "text/plain": [
       "3"
      ]
     },
     "execution_count": 2,
     "metadata": {},
     "output_type": "execute_result"
    }
   ],
   "source": [
    "findMaxConsecutiveOnes([1,1,0,1,1,1])"
   ]
  },
  {
   "cell_type": "code",
   "execution_count": null,
   "metadata": {},
   "outputs": [],
   "source": []
  }
 ],
 "metadata": {
  "kernelspec": {
   "display_name": "Python 3",
   "language": "python",
   "name": "python3"
  },
  "language_info": {
   "codemirror_mode": {
    "name": "ipython",
    "version": 3
   },
   "file_extension": ".py",
   "mimetype": "text/x-python",
   "name": "python",
   "nbconvert_exporter": "python",
   "pygments_lexer": "ipython3",
   "version": "3.6.5"
  }
 },
 "nbformat": 4,
 "nbformat_minor": 2
}
