{
 "cells": [
  {
   "cell_type": "markdown",
   "metadata": {},
   "source": [
    "# 平衡二叉树\n",
    "\n",
    "**题目来源：力扣（LeetCode）**\n",
    "\n",
    "**链接：https://leetcode-cn.com/problems/balanced-binary-tree/**\n",
    "\n",
    "## 一、题目\n",
    "\n",
    "给定一个二叉树，判断它是否是高度平衡的二叉树。\n",
    "\n",
    "本题中，一棵高度平衡二叉树定义为：\n",
    "\n",
    "- 一个二叉树每个节点 的左右两个子树的高度差的绝对值不超过1。\n",
    "\n",
    "## 二、示例\n",
    "\n",
    "### 示例 1:\n",
    "\n",
    "输入:\n",
    "\n",
    "```\n",
    "    3\n",
    "   / \\\n",
    "  9  20\n",
    "    /  \\\n",
    "   15   7\n",
    "```\n",
    "\n",
    "输出: true\n",
    "\n",
    "### 示例 2:\n",
    "\n",
    "输入: \n",
    "\n",
    "```\n",
    "       1\n",
    "      / \\\n",
    "     2   2\n",
    "    / \\\n",
    "   3   3\n",
    "  / \\\n",
    " 4   4\n",
    "```\n",
    "\n",
    "输出: false\n",
    "\n",
    "## 三、解题思路"
   ]
  },
  {
   "cell_type": "code",
   "execution_count": 1,
   "metadata": {},
   "outputs": [],
   "source": [
    "class TreeNode:\n",
    "    def __init__(self, x):\n",
    "        self.val = x\n",
    "        self.left = None\n",
    "        self.right = None"
   ]
  },
  {
   "cell_type": "code",
   "execution_count": 2,
   "metadata": {},
   "outputs": [],
   "source": [
    "root1 = TreeNode(3)\n",
    "\n",
    "root1.left = TreeNode(9)\n",
    "root1.right = TreeNode(20)\n",
    "\n",
    "root1.left.right = TreeNode(15)\n",
    "root1.right.right = TreeNode(7)\n",
    "\n",
    "\n",
    "root2 = TreeNode(1)\n",
    "\n",
    "root2.left = TreeNode(2)\n",
    "root2.right = TreeNode(2)\n",
    "\n",
    "root2.left.left = TreeNode(3)\n",
    "root2.right.left = TreeNode(3)\n",
    "\n",
    "root2.left.left.left = TreeNode(4)\n",
    "root2.right.left.left = TreeNode(4)"
   ]
  },
  {
   "cell_type": "code",
   "execution_count": 3,
   "metadata": {},
   "outputs": [],
   "source": [
    "def isBalanced(root) -> bool:\n",
    "    def heigh(node):\n",
    "        if not node:\n",
    "            return 0\n",
    "        left = heigh(node.left)\n",
    "        if left == -1:\n",
    "            return -1\n",
    "        right = heigh(node.right)\n",
    "        if right == -1:\n",
    "            return -1\n",
    "        return max(left, right) + 1 if abs(left - right) < 2 else -1\n",
    "    return heigh(root) != -1"
   ]
  },
  {
   "cell_type": "code",
   "execution_count": 4,
   "metadata": {},
   "outputs": [
    {
     "data": {
      "text/plain": [
       "True"
      ]
     },
     "execution_count": 4,
     "metadata": {},
     "output_type": "execute_result"
    }
   ],
   "source": [
    "isBalanced(root1)"
   ]
  },
  {
   "cell_type": "code",
   "execution_count": 5,
   "metadata": {},
   "outputs": [
    {
     "data": {
      "text/plain": [
       "False"
      ]
     },
     "execution_count": 5,
     "metadata": {},
     "output_type": "execute_result"
    }
   ],
   "source": [
    "isBalanced(root2)"
   ]
  },
  {
   "cell_type": "code",
   "execution_count": null,
   "metadata": {},
   "outputs": [],
   "source": []
  }
 ],
 "metadata": {
  "kernelspec": {
   "display_name": "Python 3",
   "language": "python",
   "name": "python3"
  },
  "language_info": {
   "codemirror_mode": {
    "name": "ipython",
    "version": 3
   },
   "file_extension": ".py",
   "mimetype": "text/x-python",
   "name": "python",
   "nbconvert_exporter": "python",
   "pygments_lexer": "ipython3",
   "version": "3.6.5"
  }
 },
 "nbformat": 4,
 "nbformat_minor": 2
}
