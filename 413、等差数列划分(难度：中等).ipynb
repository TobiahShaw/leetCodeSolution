{
 "cells": [
  {
   "cell_type": "markdown",
   "metadata": {},
   "source": [
    "# 等差数列划分\n",
    "\n",
    "**题目来源：力扣（LeetCode）**\n",
    "\n",
    "**链接：https://leetcode-cn.com/problems/arithmetic-slices/**\n",
    "\n",
    "## 一、题目\n",
    "\n",
    "如果一个数列 至少有三个元素 ，并且任意两个相邻元素之差相同，则称该数列为等差数列。\n",
    "\n",
    "- 例如，[1,3,5,7,9]、[7,7,7,7] 和 [3,-1,-5,-9] 都是等差数列。\n",
    "\n",
    "给你一个整数数组 nums ，返回数组 nums 中所有为等差数组的 子数组 个数。\n",
    "\n",
    "子数组 是数组中的一个连续序列。\n",
    "\n",
    "### 提示：\n",
    "\n",
    "- 1 <= nums.length <= 5000\n",
    "- -1000 <= nums[i] <= 1000\n",
    "\n",
    "## 二、示例\n",
    "\n",
    "### 示例 1：\n",
    "\n",
    "输入：nums = [1,2,3,4]\n",
    "\n",
    "输出：3\n",
    "\n",
    "解释：nums 中有三个子等差数组：[1, 2, 3]、[2, 3, 4] 和 [1,2,3,4] 自身。\n",
    "\n",
    "### 示例 2：\n",
    "\n",
    "输入：nums = [1]\n",
    "\n",
    "输出：0\n",
    "\n",
    "## 三、解题思路\n",
    "\n",
    "### 计数\n",
    "\n",
    "- 我们枚举等差数列的最后两项 nums[i−1] 以及 nums[i]，那么等差数列的公差 d 即为 nums[i−1]−nums[i]；\n",
    "- 随后我们使用一个指针 j 从 i−2 开始逆序地遍历数组的前缀部分 nums[0..i−2]：\n",
    "    - 如果 nums[j]−nums[j+1]=d，那么说明 nums[j],⋯,nums[i] 组成了一个长度至少为 3 的等差数列，答案增加 1；\n",
    "    - 否则更小的 j 也无法作为等差数列的首个位置了，我们直接退出遍历。\n",
    "    \n",
    "这个做法的时间复杂度是 O(n^2)的，因此我们需要进行优化。\n",
    "\n",
    "#### 优化\n",
    "\n",
    "如果我们已经求出了 nums[i−1] 以及 nums[i] 作为等差数列的最后两项时，答案增加的次数 $ t_i $，那么能否快速地求出 $ t_{i+1} $呢？\n",
    "\n",
    "如果 nums[i]−nums[i+1]=d，那么在这一轮遍历中，j 会遍历到与上一轮相同的位置，答案增加的次数相同，并且额外多出了 nums[i−1],nums[i],nums[i+1] 这一个等差数列，因此有：$ t_{i+1} = t_i + 1 $\n",
    "\n",
    "如果 nums[i]−num[i+1] !=d，那么 j 从初始值 i−1 开始就会直接退出遍历，答案不会增加，因此有：$ t_{i+1} = 0 $\n",
    "\n",
    "```\n",
    "作者：LeetCode-Solution\n",
    "链接：https://leetcode-cn.com/problems/arithmetic-slices/solution/deng-chai-shu-lie-hua-fen-by-leetcode-so-g7os/\n",
    "来源：力扣（LeetCode）\n",
    "著作权归作者所有。商业转载请联系作者获得授权，非商业转载请注明出处。\n",
    "```"
   ]
  },
  {
   "cell_type": "code",
   "execution_count": 1,
   "metadata": {},
   "outputs": [],
   "source": [
    "def numberOfArithmeticSlices(A) -> int:\n",
    "    ret = 0\n",
    "    n, l =len(A), 0\n",
    "    for i in range(2, n):\n",
    "        if A[i] - A[i-1] == A[i-1] - A[i-2]:\n",
    "            l += 1\n",
    "            ret += l\n",
    "        else:\n",
    "            l = 0\n",
    "    return ret"
   ]
  },
  {
   "cell_type": "code",
   "execution_count": 2,
   "metadata": {},
   "outputs": [
    {
     "data": {
      "text/plain": [
       "3"
      ]
     },
     "execution_count": 2,
     "metadata": {},
     "output_type": "execute_result"
    }
   ],
   "source": [
    "numberOfArithmeticSlices([1,2,3,4])"
   ]
  },
  {
   "cell_type": "code",
   "execution_count": 3,
   "metadata": {},
   "outputs": [
    {
     "data": {
      "text/plain": [
       "0"
      ]
     },
     "execution_count": 3,
     "metadata": {},
     "output_type": "execute_result"
    }
   ],
   "source": [
    "numberOfArithmeticSlices([1])"
   ]
  },
  {
   "cell_type": "code",
   "execution_count": null,
   "metadata": {},
   "outputs": [],
   "source": []
  }
 ],
 "metadata": {
  "kernelspec": {
   "display_name": "Python 3",
   "language": "python",
   "name": "python3"
  },
  "language_info": {
   "codemirror_mode": {
    "name": "ipython",
    "version": 3
   },
   "file_extension": ".py",
   "mimetype": "text/x-python",
   "name": "python",
   "nbconvert_exporter": "python",
   "pygments_lexer": "ipython3",
   "version": "3.6.5"
  }
 },
 "nbformat": 4,
 "nbformat_minor": 2
}
