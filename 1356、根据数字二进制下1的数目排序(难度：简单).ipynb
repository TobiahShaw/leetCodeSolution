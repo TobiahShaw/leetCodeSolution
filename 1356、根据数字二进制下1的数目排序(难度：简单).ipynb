{
  "cells": [
    {
      "metadata": {
        "collapsed": true
      },
      "cell_type": "markdown",
      "source": "# 根据数字二进制下1的数目排序\n\n**题目来源：力扣（LeetCode）**\n\n**链接：https://leetcode-cn.com/problems/sort-integers-by-the-number-of-1-bits/**\n\n## 一、题目\n\n给你一个整数数组 arr 。请你将数组中的元素按照其二进制表示中数字 1 的数目升序排序。\n\n如果存在多个数字二进制中 1 的数目相同，则必须将它们按照数值大小升序排列。\n\n请你返回排序后的数组。\n\n## 二、示例\n\n### 示例 1：\n\n输入：arr = [0,1,2,3,4,5,6,7,8]\n\n输出：[0,1,2,4,8,3,5,6,7]\n\n解释：[0] 是唯一一个有 0 个 1 的数。[1,2,4,8] 都有 1 个 1 。[3,5,6] 有 2 个 1 。[7] 有 3 个 1 。按照 1 的个数排序得到的结果数组为 [0,1,2,4,8,3,5,6,7]\n\n### 示例 2：\n\n输入：arr = [1024,512,256,128,64,32,16,8,4,2,1]\n\n输出：[1,2,4,8,16,32,64,128,256,512,1024]\n\n解释：数组中所有整数二进制下都只有 1 个 1 ，所以你需要按照数值大小将它们排序。\n\n### 示例 3：\n\n输入：arr = [10000,10000]\n\n输出：[10000,10000]\n\n### 示例 4：\n\n输入：arr = [2,3,5,7,11,13,17,19]\n\n输出：[2,3,5,17,7,11,13,19]\n\n### 示例 5：\n\n输入：arr = [10,100,1000,10000]\n\n输出：[10,100,10000,1000]\n\n## 三、解题思路\n\n### 利用内置函数"
    },
    {
      "metadata": {
        "trusted": true
      },
      "cell_type": "code",
      "source": "def sortByBits(arr):\n    return sorted(arr, key=lambda x : (bin(x).count('1'), x))",
      "execution_count": 1,
      "outputs": []
    },
    {
      "metadata": {
        "trusted": true
      },
      "cell_type": "code",
      "source": "sortByBits([0,1,2,3,4,5,6,7,8])",
      "execution_count": 2,
      "outputs": [
        {
          "output_type": "execute_result",
          "execution_count": 2,
          "data": {
            "text/plain": "[0, 1, 2, 4, 8, 3, 5, 6, 7]"
          },
          "metadata": {}
        }
      ]
    },
    {
      "metadata": {
        "trusted": true
      },
      "cell_type": "code",
      "source": "sortByBits([1024,512,256,128,64,32,16,8,4,2,1])",
      "execution_count": 3,
      "outputs": [
        {
          "output_type": "execute_result",
          "execution_count": 3,
          "data": {
            "text/plain": "[1, 2, 4, 8, 16, 32, 64, 128, 256, 512, 1024]"
          },
          "metadata": {}
        }
      ]
    },
    {
      "metadata": {
        "trusted": true
      },
      "cell_type": "code",
      "source": "sortByBits([10000,10000])",
      "execution_count": 4,
      "outputs": [
        {
          "output_type": "execute_result",
          "execution_count": 4,
          "data": {
            "text/plain": "[10000, 10000]"
          },
          "metadata": {}
        }
      ]
    },
    {
      "metadata": {
        "trusted": true
      },
      "cell_type": "code",
      "source": "sortByBits([2,3,5,7,11,13,17,19])",
      "execution_count": 5,
      "outputs": [
        {
          "output_type": "execute_result",
          "execution_count": 5,
          "data": {
            "text/plain": "[2, 3, 5, 17, 7, 11, 13, 19]"
          },
          "metadata": {}
        }
      ]
    },
    {
      "metadata": {
        "trusted": true
      },
      "cell_type": "code",
      "source": "sortByBits([10,100,1000,10000])",
      "execution_count": 6,
      "outputs": [
        {
          "output_type": "execute_result",
          "execution_count": 6,
          "data": {
            "text/plain": "[10, 100, 10000, 1000]"
          },
          "metadata": {}
        }
      ]
    },
    {
      "metadata": {
        "trusted": true
      },
      "cell_type": "code",
      "source": "",
      "execution_count": null,
      "outputs": []
    }
  ],
  "metadata": {
    "kernelspec": {
      "name": "python36",
      "display_name": "Python 3.6",
      "language": "python"
    },
    "language_info": {
      "mimetype": "text/x-python",
      "nbconvert_exporter": "python",
      "name": "python",
      "pygments_lexer": "ipython3",
      "version": "3.6.6",
      "file_extension": ".py",
      "codemirror_mode": {
        "version": 3,
        "name": "ipython"
      }
    }
  },
  "nbformat": 4,
  "nbformat_minor": 2
}