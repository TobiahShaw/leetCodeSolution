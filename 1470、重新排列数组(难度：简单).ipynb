{
  "cells": [
    {
      "cell_type": "markdown",
      "metadata": {
        "collapsed": true
      },
      "source": [
        "# 重新排列数组\n",
        "\n",
        "**题目来源：力扣（LeetCode）**\n",
        "\n",
        "**链接：https://leetcode-cn.com/problems/shuffle-the-array/**\n",
        "\n",
        "## 一、题目\n",
        "\n",
        "给你一个数组 nums ，数组中有 2n 个元素，按 [x1,x2,...,xn,y1,y2,...,yn] 的格式排列。\n",
        "\n",
        "请你将数组按 [x1,y1,x2,y2,...,xn,yn] 格式重新排列，返回重排后的数组。\n",
        "\n",
        "### 提示：\n",
        "\n",
        "- 1 <= n <= 500\n",
        "- nums.length == 2n\n",
        "- 1 <= nums[i] <= 10^3\n",
        "\n",
        "## 二、示例\n",
        "\n",
        "### 示例 1：\n",
        "\n",
        "输入：nums = [2,5,1,3,4,7], n = 3\n",
        "\n",
        "输出：[2,3,5,4,1,7] \n",
        "\n",
        "解释：由于 x1=2, x2=5, x3=1, y1=3, y2=4, y3=7 ，所以答案为 [2,3,5,4,1,7]\n",
        "\n",
        "### 示例 2：\n",
        "\n",
        "输入：nums = [1,2,3,4,4,3,2,1], n = 4\n",
        "\n",
        "输出：[1,4,2,3,3,2,4,1]\n",
        "\n",
        "### 示例 3：\n",
        "\n",
        "输入：nums = [1,1,2,2], n = 2\n",
        "\n",
        "输出：[1,2,1,2]\n",
        "\n",
        "## 三、解题思路\n",
        "\n",
        "本题通过交换元素的位置可以达到O(1)的复杂度，但是会对原数组产生修改，这里就不进行实现了\n",
        "\n",
        "### 轮询插入"
      ]
    },
    {
      "cell_type": "code",
      "execution_count": 1,
      "metadata": {
        "trusted": true
      },
      "outputs": [],
      "source": [
        "def shuffle(nums, n: int):\n",
        "    ret = []\n",
        "    for i in range(n):\n",
        "        ret.append(nums[:n][i])\n",
        "        ret.append(nums[n:][i])\n",
        "    return ret"
      ]
    },
    {
      "cell_type": "code",
      "execution_count": 2,
      "metadata": {
        "trusted": true
      },
      "outputs": [
        {
          "data": {
            "text/plain": [
              "[2, 3, 5, 4, 1, 7]"
            ]
          },
          "execution_count": 2,
          "metadata": {},
          "output_type": "execute_result"
        }
      ],
      "source": [
        "shuffle(nums = [2,5,1,3,4,7], n = 3)"
      ]
    },
    {
      "cell_type": "code",
      "execution_count": 3,
      "metadata": {
        "trusted": true
      },
      "outputs": [
        {
          "data": {
            "text/plain": [
              "[1, 4, 2, 3, 3, 2, 4, 1]"
            ]
          },
          "execution_count": 3,
          "metadata": {},
          "output_type": "execute_result"
        }
      ],
      "source": [
        "shuffle(nums = [1,2,3,4,4,3,2,1], n = 4)"
      ]
    },
    {
      "cell_type": "code",
      "execution_count": 4,
      "metadata": {
        "trusted": true
      },
      "outputs": [
        {
          "data": {
            "text/plain": [
              "[1, 2, 1, 2]"
            ]
          },
          "execution_count": 4,
          "metadata": {},
          "output_type": "execute_result"
        }
      ],
      "source": [
        "shuffle(nums = [1,1,2,2], n = 2)"
      ]
    },
    {
      "cell_type": "code",
      "execution_count": null,
      "metadata": {
        "trusted": true
      },
      "outputs": [],
      "source": []
    }
  ],
  "metadata": {
    "kernelspec": {
      "display_name": "Python 3.6",
      "language": "python",
      "name": "python36"
    },
    "language_info": {
      "codemirror_mode": {
        "name": "ipython",
        "version": 3
      },
      "file_extension": ".py",
      "mimetype": "text/x-python",
      "name": "python",
      "nbconvert_exporter": "python",
      "pygments_lexer": "ipython3",
      "version": "3.6.6"
    }
  },
  "nbformat": 4,
  "nbformat_minor": 2
}
