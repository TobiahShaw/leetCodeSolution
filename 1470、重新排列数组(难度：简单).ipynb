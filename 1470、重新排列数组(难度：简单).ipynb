{
  "cells": [
    {
      "metadata": {
        "collapsed": true
      },
      "cell_type": "markdown",
      "source": "# 重新排列数组\n\n**题目来源：力扣（LeetCode）**\n\n**链接：https://leetcode-cn.com/problems/shuffle-the-array/**\n\n## 一、题目\n\n给你一个数组 nums ，数组中有 2n 个元素，按 [x1,x2,...,xn,y1,y2,...,yn] 的格式排列。\n\n请你将数组按 [x1,y1,x2,y2,...,xn,yn] 格式重新排列，返回重排后的数组。\n\n## 二、示例\n\n### 示例 1：\n\n输入：nums = [2,5,1,3,4,7], n = 3\n\n输出：[2,3,5,4,1,7] \n\n解释：由于 x1=2, x2=5, x3=1, y1=3, y2=4, y3=7 ，所以答案为 [2,3,5,4,1,7]\n\n### 示例 2：\n\n输入：nums = [1,2,3,4,4,3,2,1], n = 4\n\n输出：[1,4,2,3,3,2,4,1]\n\n### 示例 3：\n\n输入：nums = [1,1,2,2], n = 2\n\n输出：[1,2,1,2]\n\n## 三、解题思路\n\n本题通过交换元素的位置可以达到O(1)的复杂度，但是会对原数组产生修改，这里就不进行实现了\n\n### 轮询插入"
    },
    {
      "metadata": {
        "trusted": true
      },
      "cell_type": "code",
      "source": "def shuffle(nums, n: int):\n    ret = []\n    for i in range(n):\n        ret.append(nums[:n][i])\n        ret.append(nums[n:][i])\n    return ret",
      "execution_count": 1,
      "outputs": []
    },
    {
      "metadata": {
        "trusted": true
      },
      "cell_type": "code",
      "source": "shuffle(nums = [2,5,1,3,4,7], n = 3)",
      "execution_count": 2,
      "outputs": [
        {
          "output_type": "execute_result",
          "execution_count": 2,
          "data": {
            "text/plain": "[2, 3, 5, 4, 1, 7]"
          },
          "metadata": {}
        }
      ]
    },
    {
      "metadata": {
        "trusted": true
      },
      "cell_type": "code",
      "source": "shuffle(nums = [1,2,3,4,4,3,2,1], n = 4)",
      "execution_count": 3,
      "outputs": [
        {
          "output_type": "execute_result",
          "execution_count": 3,
          "data": {
            "text/plain": "[1, 4, 2, 3, 3, 2, 4, 1]"
          },
          "metadata": {}
        }
      ]
    },
    {
      "metadata": {
        "trusted": true
      },
      "cell_type": "code",
      "source": "shuffle(nums = [1,1,2,2], n = 2)",
      "execution_count": 4,
      "outputs": [
        {
          "output_type": "execute_result",
          "execution_count": 4,
          "data": {
            "text/plain": "[1, 2, 1, 2]"
          },
          "metadata": {}
        }
      ]
    },
    {
      "metadata": {
        "trusted": true
      },
      "cell_type": "code",
      "source": "",
      "execution_count": null,
      "outputs": []
    }
  ],
  "metadata": {
    "kernelspec": {
      "name": "python36",
      "display_name": "Python 3.6",
      "language": "python"
    },
    "language_info": {
      "mimetype": "text/x-python",
      "nbconvert_exporter": "python",
      "name": "python",
      "pygments_lexer": "ipython3",
      "version": "3.6.6",
      "file_extension": ".py",
      "codemirror_mode": {
        "version": 3,
        "name": "ipython"
      }
    }
  },
  "nbformat": 4,
  "nbformat_minor": 2
}