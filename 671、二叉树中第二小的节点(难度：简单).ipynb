{
 "cells": [
  {
   "cell_type": "markdown",
   "metadata": {},
   "source": [
    "# 二叉树中第二小的节点\n",
    "\n",
    "**题目来源：力扣（LeetCode）**\n",
    "\n",
    "**链接：https://leetcode-cn.com/problems/second-minimum-node-in-a-binary-tree/**\n",
    "\n",
    "## 一、题目\n",
    "\n",
    "给定一个非空特殊的二叉树，每个节点都是正数，并且每个节点的子节点数量只能为 2 或 0。如果一个节点有两个子节点的话，那么该节点的值等于两个子节点中较小的一个。\n",
    "\n",
    "更正式地说，root.val = min(root.left.val, root.right.val) 总成立。\n",
    "\n",
    "给出这样的一个二叉树，你需要输出所有节点中的第二小的值。如果第二小的值不存在的话，输出 -1 。\n",
    "\n",
    "### 提示：\n",
    "\n",
    "- 树中节点数目在范围 [1, 25] 内\n",
    "- 1 <= Node.val <= 231 - 1\n",
    "- 对于树中每个节点 root.val == min(root.left.val, root.right.val)\n",
    "\n",
    "## 二、示例\n",
    "\n",
    "### 示例 1：\n",
    "\n",
    "输入：root = [2,2,5,null,null,5,7]\n",
    "\n",
    "输出：5\n",
    "\n",
    "解释：最小的值是 2 ，第二小的值是 5 。\n",
    "\n",
    "### 示例 2：\n",
    "\n",
    "输入：root = [2,2,2]\n",
    "\n",
    "输出：-1\n",
    "\n",
    "解释：最小的值是 2, 但是不存在第二小的值。\n",
    "\n",
    "## 三、解题思路"
   ]
  },
  {
   "cell_type": "code",
   "execution_count": 1,
   "metadata": {},
   "outputs": [],
   "source": [
    "class TreeNode:\n",
    "    def __init__(self, val=0, left=None, right=None):\n",
    "        self.val = val\n",
    "        self.left = left\n",
    "        self.right = right"
   ]
  },
  {
   "cell_type": "code",
   "execution_count": 2,
   "metadata": {},
   "outputs": [],
   "source": [
    "def initTree():\n",
    "    root = TreeNode(2)\n",
    "    \n",
    "    root.left = TreeNode(2)\n",
    "    root.right = TreeNode(5)\n",
    "    \n",
    "    root.right.left = TreeNode(5)\n",
    "    root.right.right = TreeNode(7)\n",
    "    return root"
   ]
  },
  {
   "cell_type": "markdown",
   "metadata": {},
   "source": [
    "### DFS"
   ]
  },
  {
   "cell_type": "code",
   "execution_count": 3,
   "metadata": {},
   "outputs": [],
   "source": [
    "def findSecondMinimumValue(root: TreeNode) -> int:\n",
    "    def dfs(node, result):\n",
    "        if not node:\n",
    "            return\n",
    "        if not node.left:\n",
    "            # 叶子节点，题目中字节的要么都空，要么都有\n",
    "            if len(result) < 2:\n",
    "                if node.val != result[-1]:\n",
    "                    result.append(node.val)\n",
    "            else:\n",
    "                if node.val < result[-1] and node.val != result[0]:\n",
    "                    result.pop()\n",
    "                    result.append(node.val)\n",
    "        else:\n",
    "            dfs(node.left, result)\n",
    "            dfs(node.right, result)\n",
    "    if not root:\n",
    "        return -1\n",
    "    result = [root.val]\n",
    "    dfs(root, result)\n",
    "    return result[-1] if len(result) == 2 else -1"
   ]
  },
  {
   "cell_type": "code",
   "execution_count": 4,
   "metadata": {},
   "outputs": [
    {
     "data": {
      "text/plain": [
       "5"
      ]
     },
     "execution_count": 4,
     "metadata": {},
     "output_type": "execute_result"
    }
   ],
   "source": [
    "findSecondMinimumValue(initTree())"
   ]
  },
  {
   "cell_type": "code",
   "execution_count": null,
   "metadata": {},
   "outputs": [],
   "source": []
  }
 ],
 "metadata": {
  "kernelspec": {
   "display_name": "Python 3",
   "language": "python",
   "name": "python3"
  },
  "language_info": {
   "codemirror_mode": {
    "name": "ipython",
    "version": 3
   },
   "file_extension": ".py",
   "mimetype": "text/x-python",
   "name": "python",
   "nbconvert_exporter": "python",
   "pygments_lexer": "ipython3",
   "version": "3.6.5"
  }
 },
 "nbformat": 4,
 "nbformat_minor": 2
}
