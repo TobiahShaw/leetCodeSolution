{
 "cells": [
  {
   "cell_type": "markdown",
   "metadata": {},
   "source": [
    "# 找出不同的二进制字符串\n",
    "\n",
    "**题目来源：力扣（LeetCode）**\n",
    "\n",
    "**链接：https://leetcode-cn.com/problems/find-unique-binary-string/**\n",
    "\n",
    "## 一、题目\n",
    "\n",
    "给你一个字符串数组 nums ，该数组由 n 个 互不相同 的二进制字符串组成，且每个字符串长度都是 n 。请你找出并返回一个长度为 n 且 没有出现 在 nums 中的二进制字符串。如果存在多种答案，只需返回 任意一个 即可。\n",
    "\n",
    "## 二、示例\n",
    "\n",
    "### 示例 1：\n",
    "\n",
    "输入：nums = [\"01\",\"10\"]\n",
    "\n",
    "输出：\"11\"\n",
    "\n",
    "解释：\"11\" 没有出现在 nums 中。\"00\" 也是正确答案。\n",
    "\n",
    "### 示例 2：\n",
    "\n",
    "输入：nums = [\"00\",\"01\"]\n",
    "\n",
    "输出：\"11\"\n",
    "\n",
    "解释：\"11\" 没有出现在 nums 中。\"10\" 也是正确答案。\n",
    "\n",
    "### 示例 3：\n",
    "\n",
    "输入：nums = [\"111\",\"011\",\"001\"]\n",
    "\n",
    "输出：\"101\"\n",
    "\n",
    "解释：\"101\" 没有出现在 nums 中。\"000\"、\"010\"、\"100\"、\"110\" 也是正确答案。\n",
    "\n",
    "## 三、解题思路\n",
    "\n",
    "### 深度优先搜索"
   ]
  },
  {
   "cell_type": "code",
   "execution_count": 1,
   "metadata": {},
   "outputs": [],
   "source": [
    "def findDifferentBinaryString(nums) -> str:\n",
    "    n = len(nums)\n",
    "    numSet = set(nums)\n",
    "    def dfs(item):\n",
    "        if len(item) == n:\n",
    "            if item not in numSet:\n",
    "                return item\n",
    "            else:\n",
    "                return None\n",
    "        ret0 = dfs(item + \"0\")\n",
    "        if ret0:\n",
    "            return ret0\n",
    "        ret1 = dfs(item + \"1\")\n",
    "        if ret1:\n",
    "            return ret1\n",
    "        return None\n",
    "    return dfs(\"\")"
   ]
  },
  {
   "cell_type": "code",
   "execution_count": 2,
   "metadata": {},
   "outputs": [
    {
     "data": {
      "text/plain": [
       "'00'"
      ]
     },
     "execution_count": 2,
     "metadata": {},
     "output_type": "execute_result"
    }
   ],
   "source": [
    "findDifferentBinaryString([\"01\",\"10\"])"
   ]
  },
  {
   "cell_type": "code",
   "execution_count": 3,
   "metadata": {},
   "outputs": [
    {
     "data": {
      "text/plain": [
       "'10'"
      ]
     },
     "execution_count": 3,
     "metadata": {},
     "output_type": "execute_result"
    }
   ],
   "source": [
    "findDifferentBinaryString([\"00\",\"01\"])"
   ]
  },
  {
   "cell_type": "code",
   "execution_count": 4,
   "metadata": {},
   "outputs": [
    {
     "data": {
      "text/plain": [
       "'000'"
      ]
     },
     "execution_count": 4,
     "metadata": {},
     "output_type": "execute_result"
    }
   ],
   "source": [
    "findDifferentBinaryString([\"111\",\"011\",\"001\"])"
   ]
  },
  {
   "cell_type": "code",
   "execution_count": null,
   "metadata": {},
   "outputs": [],
   "source": []
  }
 ],
 "metadata": {
  "kernelspec": {
   "display_name": "Python 3",
   "language": "python",
   "name": "python3"
  },
  "language_info": {
   "codemirror_mode": {
    "name": "ipython",
    "version": 3
   },
   "file_extension": ".py",
   "mimetype": "text/x-python",
   "name": "python",
   "nbconvert_exporter": "python",
   "pygments_lexer": "ipython3",
   "version": "3.6.5"
  }
 },
 "nbformat": 4,
 "nbformat_minor": 2
}
