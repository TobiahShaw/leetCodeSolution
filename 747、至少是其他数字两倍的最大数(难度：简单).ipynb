{
 "cells": [
  {
   "cell_type": "markdown",
   "metadata": {},
   "source": [
    "# 至少是其他数字两倍的最大数\n",
    "\n",
    "**题目来源：力扣（LeetCode）**\n",
    "\n",
    "**链接：https://leetcode-cn.com/problems/largest-number-at-least-twice-of-others/**\n",
    "\n",
    "## 一、题目\n",
    "\n",
    "在一个给定的数组nums中，总是存在一个最大元素 。\n",
    "\n",
    "查找数组中的最大元素是否至少是数组中每个其他数字的两倍。\n",
    "\n",
    "如果是，则返回最大元素的索引，否则返回-1。\n",
    "\n",
    "## 二、示例\n",
    "\n",
    "### 示例 1：\n",
    "\n",
    "输入: nums = [3, 6, 1, 0]\n",
    "\n",
    "输出: 1\n",
    "\n",
    "解释: 6是最大的整数, 对于数组中的其他整数,6大于数组中其他元素的两倍。6的索引是1, 所以我们返回1.\n",
    " \n",
    "\n",
    "### 示例 2:\n",
    "\n",
    "输入: nums = [1, 2, 3, 4]\n",
    "\n",
    "输出: -1\n",
    "\n",
    "解释: 4没有超过3的两倍大, 所以我们返回 -1.\n",
    "\n",
    "## 三、解题思路\n",
    "\n",
    "### 轮询查找前两大的元素"
   ]
  },
  {
   "cell_type": "code",
   "execution_count": 1,
   "metadata": {},
   "outputs": [],
   "source": [
    "def dominantIndex(nums) -> int:\n",
    "    if not nums:\n",
    "        return -1\n",
    "    n = len(nums)\n",
    "    if n < 2:\n",
    "        return 0\n",
    "    tmp = nums[0] < nums[1]\n",
    "    maxNum, preNum = 1 if tmp else 0, 0 if tmp else 1\n",
    "    for i in range(2, n):\n",
    "        if nums[i] > nums[maxNum]:\n",
    "            preNum = maxNum\n",
    "            maxNum = i\n",
    "        elif nums[i] > nums[preNum]:\n",
    "            preNum = i\n",
    "    return maxNum if nums[maxNum] >= nums[preNum] * 2 else -1"
   ]
  },
  {
   "cell_type": "code",
   "execution_count": 2,
   "metadata": {},
   "outputs": [
    {
     "data": {
      "text/plain": [
       "1"
      ]
     },
     "execution_count": 2,
     "metadata": {},
     "output_type": "execute_result"
    }
   ],
   "source": [
    "dominantIndex([3, 6, 1, 0])"
   ]
  },
  {
   "cell_type": "code",
   "execution_count": 3,
   "metadata": {},
   "outputs": [
    {
     "data": {
      "text/plain": [
       "-1"
      ]
     },
     "execution_count": 3,
     "metadata": {},
     "output_type": "execute_result"
    }
   ],
   "source": [
    "dominantIndex([1, 2, 3, 4])"
   ]
  },
  {
   "cell_type": "code",
   "execution_count": null,
   "metadata": {},
   "outputs": [],
   "source": []
  }
 ],
 "metadata": {
  "kernelspec": {
   "display_name": "Python 3",
   "language": "python",
   "name": "python3"
  },
  "language_info": {
   "codemirror_mode": {
    "name": "ipython",
    "version": 3
   },
   "file_extension": ".py",
   "mimetype": "text/x-python",
   "name": "python",
   "nbconvert_exporter": "python",
   "pygments_lexer": "ipython3",
   "version": "3.6.5"
  }
 },
 "nbformat": 4,
 "nbformat_minor": 2
}
