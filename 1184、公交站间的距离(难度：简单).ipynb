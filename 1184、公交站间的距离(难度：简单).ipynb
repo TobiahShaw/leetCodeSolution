{
 "cells": [
  {
   "cell_type": "markdown",
   "metadata": {},
   "source": [
    "# 公交站间的距离\n",
    "\n",
    "**题目来源：力扣（LeetCode）**\n",
    "\n",
    "**链接：https://leetcode-cn.com/problems/distance-between-bus-stops/**\n",
    "\n",
    "## 一、题目\n",
    "\n",
    "环形公交路线上有 n 个站，按次序从 0 到 n - 1 进行编号。我们已知每一对相邻公交站之间的距离，distance[i] 表示编号为 i 的车站和编号为 (i + 1) % n 的车站之间的距离。\n",
    "\n",
    "环线上的公交车都可以按顺时针和逆时针的方向行驶。\n",
    "\n",
    "返回乘客从出发点 start 到目的地 destination 之间的最短距离。\n",
    "\n",
    "### 提示：\n",
    "\n",
    "- 1 <= n <= 10^4\n",
    "- distance.length == n\n",
    "- 0 <= start, destination < n\n",
    "- 0 <= distance[i] <= 10^4\n",
    "\n",
    "## 二、示例\n",
    "\n",
    "### 示例 1：\n",
    "\n",
    "输入：distance = [1,2,3,4], start = 0, destination = 1\n",
    "\n",
    "输出：1\n",
    "\n",
    "解释：公交站 0 和 1 之间的距离是 1 或 9，最小值是 1。\n",
    "\n",
    "### 示例 2：\n",
    "\n",
    "输入：distance = [1,2,3,4], start = 0, destination = 2\n",
    "\n",
    "输出：3\n",
    "\n",
    "解释：公交站 0 和 2 之间的距离是 3 或 7，最小值是 3。\n",
    "\n",
    "### 示例 3：\n",
    "\n",
    "输入：distance = [1,2,3,4], start = 0, destination = 3\n",
    "\n",
    "输出：4\n",
    "\n",
    "解释：公交站 0 和 3 之间的距离是 6 或 4，最小值是 4。\n",
    "\n",
    "## 三、解题思路\n",
    "\n",
    "### 模拟过程"
   ]
  },
  {
   "cell_type": "code",
   "execution_count": 1,
   "metadata": {},
   "outputs": [],
   "source": [
    "def distanceBetweenBusStops(distance, start: int, destination: int) -> int:\n",
    "    if start == destination:\n",
    "        return 0\n",
    "    if start > destination:\n",
    "        start, destination = destination, start\n",
    "    return min(sum(distance[start: destination]), sum(distance[destination:len(distance)]) + sum(distance[0:start]))"
   ]
  },
  {
   "cell_type": "code",
   "execution_count": 2,
   "metadata": {},
   "outputs": [
    {
     "data": {
      "text/plain": [
       "1"
      ]
     },
     "execution_count": 2,
     "metadata": {},
     "output_type": "execute_result"
    }
   ],
   "source": [
    "distanceBetweenBusStops(distance = [1,2,3,4], start = 0, destination = 1)"
   ]
  },
  {
   "cell_type": "code",
   "execution_count": 3,
   "metadata": {},
   "outputs": [
    {
     "data": {
      "text/plain": [
       "3"
      ]
     },
     "execution_count": 3,
     "metadata": {},
     "output_type": "execute_result"
    }
   ],
   "source": [
    "distanceBetweenBusStops(distance = [1,2,3,4], start = 0, destination = 2)"
   ]
  },
  {
   "cell_type": "code",
   "execution_count": 4,
   "metadata": {},
   "outputs": [
    {
     "data": {
      "text/plain": [
       "4"
      ]
     },
     "execution_count": 4,
     "metadata": {},
     "output_type": "execute_result"
    }
   ],
   "source": [
    "distanceBetweenBusStops(distance = [1,2,3,4], start = 0, destination = 3)"
   ]
  },
  {
   "cell_type": "code",
   "execution_count": null,
   "metadata": {},
   "outputs": [],
   "source": []
  }
 ],
 "metadata": {
  "kernelspec": {
   "display_name": "Python 3",
   "language": "python",
   "name": "python3"
  },
  "language_info": {
   "codemirror_mode": {
    "name": "ipython",
    "version": 3
   },
   "file_extension": ".py",
   "mimetype": "text/x-python",
   "name": "python",
   "nbconvert_exporter": "python",
   "pygments_lexer": "ipython3",
   "version": "3.6.5"
  }
 },
 "nbformat": 4,
 "nbformat_minor": 2
}
