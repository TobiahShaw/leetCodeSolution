{
 "cells": [
  {
   "cell_type": "markdown",
   "metadata": {},
   "source": [
    "# 整数转换英文表示\n",
    "\n",
    "**题目来源：力扣（LeetCode）**\n",
    "\n",
    "**链接：https://leetcode-cn.com/problems/integer-to-english-words/**\n",
    "\n",
    "## 一、题目\n",
    "\n",
    "将非负整数 num 转换为其对应的英文表示。\n",
    "\n",
    "### 提示：\n",
    "\n",
    "- 0 <= num <= 2^31 - 1\n",
    "\n",
    "## 二、示例\n",
    "\n",
    "### 示例 1：\n",
    "\n",
    "输入：num = 123\n",
    "\n",
    "输出：\"One Hundred Twenty Three\"\n",
    "\n",
    "### 示例 2：\n",
    "\n",
    "输入：num = 12345\n",
    "\n",
    "输出：\"Twelve Thousand Three Hundred Forty Five\"\n",
    "\n",
    "### 示例 3：\n",
    "\n",
    "输入：num = 1234567\n",
    "\n",
    "输出：\"One Million Two Hundred Thirty Four Thousand Five Hundred Sixty Seven\"\n",
    "\n",
    "### 示例 4：\n",
    "\n",
    "输入：num = 1234567891\n",
    "\n",
    "输出：\"One Billion Two Hundred Thirty Four Million Five Hundred Sixty Seven Thousand Eight Hundred Ninety One\"\n",
    "\n",
    "## 三、解题思路\n",
    "\n",
    "### 递归"
   ]
  },
  {
   "cell_type": "code",
   "execution_count": 1,
   "metadata": {},
   "outputs": [],
   "source": [
    "def numberToWords(num: int) -> str:\n",
    "    singles = [\"\", \"One\", \"Two\", \"Three\", \"Four\", \"Five\", \"Six\", \"Seven\", \"Eight\", \"Nine\"]\n",
    "    teens = [\"Ten\", \"Eleven\", \"Twelve\", \"Thirteen\", \"Fourteen\", \"Fifteen\", \"Sixteen\", \"Seventeen\", \"Eighteen\", \"Nineteen\"]\n",
    "    tens = [\"\", \"Ten\", \"Twenty\", \"Thirty\", \"Forty\", \"Fifty\", \"Sixty\", \"Seventy\", \"Eighty\", \"Ninety\"]\n",
    "    thousands = [\"\", \"Thousand\", \"Million\", \"Billion\"]\n",
    "    if num == 0:\n",
    "        return \"Zero\"\n",
    "\n",
    "    def recursion(num: int) -> str:\n",
    "        s = \"\"\n",
    "        if num == 0:\n",
    "            return s\n",
    "        elif num < 10:\n",
    "            s += singles[num] + \" \"\n",
    "        elif num < 20:\n",
    "            s += teens[num - 10] + \" \"\n",
    "        elif num < 100:\n",
    "            s += tens[num // 10] + \" \" + recursion(num % 10)\n",
    "        else:\n",
    "            s += singles[num // 100] + \" Hundred \" + recursion(num % 100)\n",
    "        return s\n",
    "\n",
    "    s = \"\"\n",
    "    unit = int(1e9)\n",
    "    for i in range(3, -1, -1):\n",
    "        curNum = num // unit\n",
    "        if curNum:\n",
    "            num -= curNum * unit\n",
    "            s += recursion(curNum) + thousands[i] + \" \"\n",
    "        unit //= 1000\n",
    "    return s.strip()"
   ]
  },
  {
   "cell_type": "code",
   "execution_count": 2,
   "metadata": {},
   "outputs": [
    {
     "data": {
      "text/plain": [
       "'One Hundred Twenty Three'"
      ]
     },
     "execution_count": 2,
     "metadata": {},
     "output_type": "execute_result"
    }
   ],
   "source": [
    "numberToWords(123)"
   ]
  },
  {
   "cell_type": "code",
   "execution_count": 3,
   "metadata": {},
   "outputs": [
    {
     "data": {
      "text/plain": [
       "'Twelve Thousand Three Hundred Forty Five'"
      ]
     },
     "execution_count": 3,
     "metadata": {},
     "output_type": "execute_result"
    }
   ],
   "source": [
    "numberToWords(12345)"
   ]
  },
  {
   "cell_type": "code",
   "execution_count": 4,
   "metadata": {},
   "outputs": [
    {
     "data": {
      "text/plain": [
       "'One Million Two Hundred Thirty Four Thousand Five Hundred Sixty Seven'"
      ]
     },
     "execution_count": 4,
     "metadata": {},
     "output_type": "execute_result"
    }
   ],
   "source": [
    "numberToWords(1234567)"
   ]
  },
  {
   "cell_type": "code",
   "execution_count": 5,
   "metadata": {},
   "outputs": [
    {
     "data": {
      "text/plain": [
       "'One Billion Two Hundred Thirty Four Million Five Hundred Sixty Seven Thousand Eight Hundred Ninety One'"
      ]
     },
     "execution_count": 5,
     "metadata": {},
     "output_type": "execute_result"
    }
   ],
   "source": [
    "numberToWords(1234567891)"
   ]
  },
  {
   "cell_type": "code",
   "execution_count": null,
   "metadata": {},
   "outputs": [],
   "source": []
  }
 ],
 "metadata": {
  "kernelspec": {
   "display_name": "Python 3",
   "language": "python",
   "name": "python3"
  },
  "language_info": {
   "codemirror_mode": {
    "name": "ipython",
    "version": 3
   },
   "file_extension": ".py",
   "mimetype": "text/x-python",
   "name": "python",
   "nbconvert_exporter": "python",
   "pygments_lexer": "ipython3",
   "version": "3.6.5"
  }
 },
 "nbformat": 4,
 "nbformat_minor": 2
}
