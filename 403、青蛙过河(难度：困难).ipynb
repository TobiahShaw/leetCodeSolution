{
 "cells": [
  {
   "cell_type": "markdown",
   "metadata": {},
   "source": [
    "# 青蛙过河\n",
    "\n",
    "**题目来源：力扣（LeetCode）**\n",
    "\n",
    "**链接：https://leetcode-cn.com/problems/frog-jump/**\n",
    "\n",
    "## 一、题目\n",
    "\n",
    "一只青蛙想要过河。 假定河流被等分为若干个单元格，并且在每一个单元格内都有可能放有一块石子（也有可能没有）。 青蛙可以跳上石子，但是不可以跳入水中。\n",
    "\n",
    "给你石子的位置列表 stones（用单元格序号 升序 表示）， 请判定青蛙能否成功过河（即能否在最后一步跳至最后一块石子上）。\n",
    "\n",
    "开始时， 青蛙默认已站在第一块石子上，并可以假定它第一步只能跳跃一个单位（即只能从单元格 1 跳至单元格 2 ）。\n",
    "\n",
    "如果青蛙上一步跳跃了 k 个单位，那么它接下来的跳跃距离只能选择为 k - 1、k 或 k + 1 个单位。 另请注意，青蛙只能向前方（终点的方向）跳跃。\n",
    "\n",
    "### 提示：\n",
    "\n",
    "- 2 <= stones.length <= 2000\n",
    "- 0 <= stones[i] <= 231 - 1\n",
    "- stones[0] == 0\n",
    "\n",
    "## 二、示例\n",
    "\n",
    "### 示例 1：\n",
    "\n",
    "输入：stones = [0,1,3,5,6,8,12,17]\n",
    "\n",
    "输出：true\n",
    "\n",
    "解释：青蛙可以成功过河，按照如下方案跳跃：跳 1 个单位到第 2 块石子, 然后跳 2 个单位到第 3 块石子, 接着 跳 2 个单位到第 4 块石子, 然后跳 3 个单位到第 6 块石子, 跳 4 个单位到第 7 块石子, 最后，跳 5 个单位到第 8 个石子（即最后一块石子）。\n",
    "\n",
    "### 示例 2：\n",
    "\n",
    "输入：stones = [0,1,2,3,4,8,9,11]\n",
    "\n",
    "输出：false\n",
    "\n",
    "解释：这是因为第 5 和第 6 个石子之间的间距太大，没有可选的方案供青蛙跳跃过去。\n",
    "\n",
    "## 三、解题思路\n",
    "\n",
    "### 记忆化回溯"
   ]
  },
  {
   "cell_type": "code",
   "execution_count": 1,
   "metadata": {},
   "outputs": [],
   "source": [
    "def canCross(stones) -> bool:\n",
    "    from functools import lru_cache\n",
    "    @lru_cache(None)\n",
    "    def helper(pos, step, target):\n",
    "        if pos == target - 1:\n",
    "            return True\n",
    "        curStone = stones[pos]\n",
    "        for i in range(pos + 1, target):\n",
    "            dis = stones[i] - curStone\n",
    "            if dis > step + 1:\n",
    "                break\n",
    "            if dis == step - 1:\n",
    "                if helper(i, step - 1, target):\n",
    "                    return True\n",
    "            elif dis == step:\n",
    "                if helper(i, step, target):\n",
    "                    return True\n",
    "            elif dis == step + 1:\n",
    "                if helper(i, step + 1, target):\n",
    "                    return True\n",
    "        return False\n",
    "    n = len(stones)\n",
    "    if n < 2:\n",
    "        return True\n",
    "    if stones[1] - stones[0] > 1:\n",
    "        return False\n",
    "    return helper(1, 1, len(stones))"
   ]
  },
  {
   "cell_type": "code",
   "execution_count": 2,
   "metadata": {},
   "outputs": [
    {
     "data": {
      "text/plain": [
       "True"
      ]
     },
     "execution_count": 2,
     "metadata": {},
     "output_type": "execute_result"
    }
   ],
   "source": [
    "canCross([0,1,3,5,6,8,12,17])"
   ]
  },
  {
   "cell_type": "code",
   "execution_count": 3,
   "metadata": {},
   "outputs": [
    {
     "data": {
      "text/plain": [
       "False"
      ]
     },
     "execution_count": 3,
     "metadata": {},
     "output_type": "execute_result"
    }
   ],
   "source": [
    "canCross([0,1,2,3,4,8,9,11])"
   ]
  },
  {
   "cell_type": "code",
   "execution_count": null,
   "metadata": {},
   "outputs": [],
   "source": []
  }
 ],
 "metadata": {
  "kernelspec": {
   "display_name": "Python 3",
   "language": "python",
   "name": "python3"
  },
  "language_info": {
   "codemirror_mode": {
    "name": "ipython",
    "version": 3
   },
   "file_extension": ".py",
   "mimetype": "text/x-python",
   "name": "python",
   "nbconvert_exporter": "python",
   "pygments_lexer": "ipython3",
   "version": "3.6.5"
  }
 },
 "nbformat": 4,
 "nbformat_minor": 2
}
