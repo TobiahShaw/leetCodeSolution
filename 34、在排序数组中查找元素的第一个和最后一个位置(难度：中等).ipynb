{
  "cells": [
    {
      "metadata": {
        "collapsed": true
      },
      "cell_type": "markdown",
      "source": "# 在排序数组中查找元素的第一个和最后一个位置\n\n**题目来源：力扣（LeetCode）**\n\n**链接：https://leetcode-cn.com/problems/find-first-and-last-position-of-element-in-sorted-array/**\n\n## 一、题目\n\n给定一个按照升序排列的整数数组 nums，和一个目标值 target。找出给定目标值在数组中的开始位置和结束位置。\n\n你的算法时间复杂度必须是 O(log n) 级别。\n\n如果数组中不存在目标值，返回 [-1, -1]。\n\n## 二、示例\n\n### 示例 1:\n\n输入: nums = [5,7,7,8,8,10], target = 8\n\n输出: [3,4]\n\n### 示例 2:\n\n输入: nums = [5,7,7,8,8,10], target = 6\n\n输出: [-1,-1]\n\n## 三、解题思路"
    },
    {
      "metadata": {
        "trusted": true
      },
      "cell_type": "code",
      "source": "",
      "execution_count": null,
      "outputs": []
    }
  ],
  "metadata": {
    "kernelspec": {
      "name": "python36",
      "display_name": "Python 3.6",
      "language": "python"
    },
    "language_info": {
      "mimetype": "text/x-python",
      "nbconvert_exporter": "python",
      "name": "python",
      "pygments_lexer": "ipython3",
      "version": "3.6.6",
      "file_extension": ".py",
      "codemirror_mode": {
        "version": 3,
        "name": "ipython"
      }
    }
  },
  "nbformat": 4,
  "nbformat_minor": 2
}