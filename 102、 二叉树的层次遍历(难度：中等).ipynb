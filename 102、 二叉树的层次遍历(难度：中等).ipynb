{
 "cells": [
  {
   "cell_type": "markdown",
   "metadata": {
    "collapsed": true
   },
   "source": [
    "# 二叉树的层次遍历\n",
    "\n",
    "**题目来源：力扣（LeetCode）**\n",
    "\n",
    "**链接：https://leetcode-cn.com/problems/binary-tree-level-order-traversal/**\n",
    "\n",
    "## 一、题目\n",
    "\n",
    "给你二叉树的根节点root，返回其节点值的层序遍历 。 （即逐层地，从左到右访问所有节点）。\n",
    "\n",
    "### 提示：\n",
    "\n",
    "- 树中节点数目在范围 [0, 2000] 内\n",
    "- -1000 <= Node.val <= 1000\n",
    "\n",
    "## 二、示例\n",
    "\n",
    "例如:\n",
    "\n",
    "给定二叉树: [3,9,20,null,null,15,7],\n",
    "\n",
    "&emsp;&emsp;&emsp;&emsp;3\n",
    "\n",
    "&emsp;&emsp;&emsp;/&emsp;&emsp;\\\n",
    "\n",
    "&emsp;&emsp;9&emsp;&emsp;&emsp;&emsp;20\n",
    "\n",
    "&emsp;&emsp;&emsp;&emsp;&emsp;&emsp;/&emsp;&emsp;\\\n",
    "\n",
    "&emsp;&emsp;&emsp;&emsp;&emsp;15&emsp;&emsp;&emsp;7\n",
    "\n",
    "返回其层次遍历结果：\n",
    "\n",
    "[\n",
    "\n",
    "  [3],\n",
    "  \n",
    "  [9,20],\n",
    "  \n",
    "  [15,7]\n",
    "  \n",
    "]\n",
    "\n",
    "## 三、解题思路"
   ]
  },
  {
   "cell_type": "code",
   "execution_count": 1,
   "metadata": {},
   "outputs": [],
   "source": [
    "class TreeNode:\n",
    "    def __init__(self, x):\n",
    "        self.val = x\n",
    "        self.left = None\n",
    "        self.right = None"
   ]
  },
  {
   "cell_type": "code",
   "execution_count": 2,
   "metadata": {},
   "outputs": [],
   "source": [
    "root = TreeNode(3)\n",
    "\n",
    "root.left = TreeNode(9)\n",
    "root.right = TreeNode(20)\n",
    "\n",
    "root.right.left = TreeNode(15)\n",
    "root.right.right = TreeNode(7)"
   ]
  },
  {
   "cell_type": "code",
   "execution_count": 3,
   "metadata": {},
   "outputs": [],
   "source": [
    "class Solution:\n",
    "    def levelOrder(self, root):\n",
    "        if root is None:\n",
    "            return []\n",
    "        layer, output = [root], []\n",
    "        while layer:\n",
    "            layer_vals = []\n",
    "            next_layer = []\n",
    "            for e in layer:\n",
    "                layer_vals.append(e.val)\n",
    "                if e.left:\n",
    "                    next_layer.append(e.left)\n",
    "                if e.right:\n",
    "                    next_layer.append(e.right)\n",
    "            output.append(layer_vals)\n",
    "            layer = next_layer\n",
    "        return output"
   ]
  },
  {
   "cell_type": "code",
   "execution_count": 4,
   "metadata": {},
   "outputs": [
    {
     "data": {
      "text/plain": [
       "[[3], [9, 20], [15, 7]]"
      ]
     },
     "execution_count": 4,
     "metadata": {},
     "output_type": "execute_result"
    }
   ],
   "source": [
    "s = Solution()\n",
    "s.levelOrder(root)"
   ]
  },
  {
   "cell_type": "code",
   "execution_count": null,
   "metadata": {},
   "outputs": [],
   "source": []
  }
 ],
 "metadata": {
  "kernelspec": {
   "display_name": "Python 3 (ipykernel)",
   "language": "python",
   "name": "python3"
  },
  "language_info": {
   "codemirror_mode": {
    "name": "ipython",
    "version": 3
   },
   "file_extension": ".py",
   "mimetype": "text/x-python",
   "name": "python",
   "nbconvert_exporter": "python",
   "pygments_lexer": "ipython3",
   "version": "3.11.0"
  }
 },
 "nbformat": 4,
 "nbformat_minor": 2
}
