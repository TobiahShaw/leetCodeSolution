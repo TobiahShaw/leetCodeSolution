{
  "cells": [
    {
      "metadata": {
        "collapsed": true
      },
      "cell_type": "markdown",
      "source": "# 二叉树的层次遍历\n\n**题目来源：力扣（LeetCode）**\n\n**链接：https://leetcode-cn.com/problems/binary-tree-level-order-traversal/**\n\n## 一、题目\n\n给定一个二叉树，返回其按层次遍历的节点值。 （即逐层地，从左到右访问所有节点）。\n\n## 二、示例\n\n例如:\n\n给定二叉树: [3,9,20,null,null,15,7],\n\n&emsp;&emsp;&emsp;&emsp;3\n\n&emsp;&emsp;&emsp;/&emsp;&emsp;\\\n\n&emsp;&emsp;9&emsp;&emsp;&emsp;&emsp;20\n\n&emsp;&emsp;&emsp;&emsp;&emsp;&emsp;/&emsp;&emsp;\\\n\n&emsp;&emsp;&emsp;&emsp;&emsp;15&emsp;&emsp;&emsp;7\n\n返回其层次遍历结果：\n\n[\n\n  [3],\n  \n  [9,20],\n  \n  [15,7]\n  \n]\n\n## 三、解题思路"
    },
    {
      "metadata": {
        "trusted": true
      },
      "cell_type": "code",
      "source": "class TreeNode:\n    def __init__(self, x):\n        self.val = x\n        self.left = None\n        self.right = None",
      "execution_count": 1,
      "outputs": []
    },
    {
      "metadata": {
        "trusted": true
      },
      "cell_type": "code",
      "source": "root = TreeNode(3)\n\nroot.left = TreeNode(9)\nroot.right = TreeNode(20)\n\nroot.right.left = TreeNode(15)\nroot.right.right = TreeNode(7)",
      "execution_count": 2,
      "outputs": []
    },
    {
      "metadata": {
        "trusted": true
      },
      "cell_type": "code",
      "source": "def levelOrder(root):\n    if root is None:\n        return []\n    layer, output = [root], []\n    while layer:\n        layer_vals = []\n        next_layer = []\n        for e in layer:\n            layer_vals.append(e.val)\n            if e.left:\n                next_layer.append(e.left)\n            if e.right:\n                next_layer.append(e.right)\n        output.append(layer_vals)\n        layer = next_layer\n    return output",
      "execution_count": 3,
      "outputs": []
    },
    {
      "metadata": {
        "trusted": true
      },
      "cell_type": "code",
      "source": "levelOrder(root)",
      "execution_count": 4,
      "outputs": [
        {
          "output_type": "execute_result",
          "execution_count": 4,
          "data": {
            "text/plain": "[[3], [9, 20], [15, 7]]"
          },
          "metadata": {}
        }
      ]
    },
    {
      "metadata": {
        "trusted": true
      },
      "cell_type": "code",
      "source": "",
      "execution_count": null,
      "outputs": []
    }
  ],
  "metadata": {
    "kernelspec": {
      "name": "python36",
      "display_name": "Python 3.6",
      "language": "python"
    },
    "language_info": {
      "mimetype": "text/x-python",
      "nbconvert_exporter": "python",
      "name": "python",
      "pygments_lexer": "ipython3",
      "version": "3.6.6",
      "file_extension": ".py",
      "codemirror_mode": {
        "version": 3,
        "name": "ipython"
      }
    }
  },
  "nbformat": 4,
  "nbformat_minor": 2
}