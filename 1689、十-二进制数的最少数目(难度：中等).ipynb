{
 "cells": [
  {
   "cell_type": "markdown",
   "id": "adjacent-attack",
   "metadata": {},
   "source": [
    "# 十-二进制数的最少数目\n",
    "\n",
    "**题目来源：力扣（LeetCode）**\n",
    "\n",
    "**链接：https://leetcode-cn.com/problems/partitioning-into-minimum-number-of-deci-binary-numbers/**\n",
    "\n",
    "## 一、题目\n",
    "\n",
    "如果一个十进制数字不含任何前导零，且每一位上的数字不是 0 就是 1 ，那么该数字就是一个 十-二进制数 。例如，101 和 1100 都是 十-二进制数，而 112 和 3001 不是。\n",
    "\n",
    "给你一个表示十进制整数的字符串 n ，返回和为 n 的 十-二进制数 的最少数目。\n",
    "\n",
    "## 二、示例\n",
    "\n",
    "### 示例 1：\n",
    "\n",
    "输入：n = \"32\"\n",
    "\n",
    "输出：3\n",
    "\n",
    "解释：10 + 11 + 11 = 32\n",
    "\n",
    "### 示例 2：\n",
    "\n",
    "输入：n = \"82734\"\n",
    "\n",
    "输出：8\n",
    "\n",
    "### 示例 3：\n",
    "\n",
    "输入：n = \"27346209830709182346\"\n",
    "\n",
    "输出：9\n",
    "\n",
    "## 三、解题思路\n",
    "\n",
    "### 求各位的最大值"
   ]
  },
  {
   "cell_type": "code",
   "execution_count": 1,
   "id": "american-federal",
   "metadata": {},
   "outputs": [],
   "source": [
    "def minPartitions(n: str) -> int:\n",
    "    ret = 1\n",
    "    for ch in n:\n",
    "        ret = max(ret, int(ch))\n",
    "    return ret"
   ]
  },
  {
   "cell_type": "code",
   "execution_count": 2,
   "id": "ranging-charger",
   "metadata": {},
   "outputs": [
    {
     "data": {
      "text/plain": [
       "3"
      ]
     },
     "execution_count": 2,
     "metadata": {},
     "output_type": "execute_result"
    }
   ],
   "source": [
    "minPartitions(\"32\")"
   ]
  },
  {
   "cell_type": "code",
   "execution_count": 3,
   "id": "protective-power",
   "metadata": {},
   "outputs": [
    {
     "data": {
      "text/plain": [
       "8"
      ]
     },
     "execution_count": 3,
     "metadata": {},
     "output_type": "execute_result"
    }
   ],
   "source": [
    "minPartitions(\"82734\")"
   ]
  },
  {
   "cell_type": "code",
   "execution_count": 4,
   "id": "moderate-active",
   "metadata": {},
   "outputs": [
    {
     "data": {
      "text/plain": [
       "9"
      ]
     },
     "execution_count": 4,
     "metadata": {},
     "output_type": "execute_result"
    }
   ],
   "source": [
    "minPartitions(\"27346209830709182346\")"
   ]
  },
  {
   "cell_type": "code",
   "execution_count": null,
   "id": "leading-midnight",
   "metadata": {},
   "outputs": [],
   "source": []
  }
 ],
 "metadata": {
  "kernelspec": {
   "display_name": "Python 3",
   "language": "python",
   "name": "python3"
  },
  "language_info": {
   "codemirror_mode": {
    "name": "ipython",
    "version": 3
   },
   "file_extension": ".py",
   "mimetype": "text/x-python",
   "name": "python",
   "nbconvert_exporter": "python",
   "pygments_lexer": "ipython3",
   "version": "3.7.10"
  }
 },
 "nbformat": 4,
 "nbformat_minor": 5
}
