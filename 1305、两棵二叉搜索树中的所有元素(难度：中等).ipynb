{
 "cells": [
  {
   "cell_type": "markdown",
   "metadata": {},
   "source": [
    "# 两棵二叉搜索树中的所有元素\n",
    "\n",
    "**题目来源：力扣（LeetCode）**\n",
    "\n",
    "**链接：https://leetcode-cn.com/problems/all-elements-in-two-binary-search-trees/**\n",
    "\n",
    "## 一、题目\n",
    "\n",
    "给你 root1 和 root2 这两棵二叉搜索树。请你返回一个列表，其中包含 两棵树 中的所有整数并按 升序 排序。\n",
    "\n",
    "### 提示：\n",
    "\n",
    "- 每棵树的节点数在 [0, 5000] 范围内\n",
    "- -10^5 <= Node.val <= 10^5\n",
    "\n",
    "## 二、示例\n",
    "\n",
    "### 示例 1：\n",
    "\n",
    "输入：root1 = [2,1,4], root2 = [1,0,3]\n",
    "\n",
    "输出：[0,1,1,2,3,4]\n",
    "\n",
    "### 示例 2：\n",
    "\n",
    "输入：root1 = [1,null,8], root2 = [8,1]\n",
    "\n",
    "输出：[1,1,8,8]\n",
    "\n",
    "## 三、解题思路"
   ]
  },
  {
   "cell_type": "code",
   "execution_count": 1,
   "metadata": {},
   "outputs": [],
   "source": [
    "class TreeNode:\n",
    "    def __init__(self, x):\n",
    "        self.val = x\n",
    "        self.left = None\n",
    "        self.right = None\n",
    "\n",
    "root1 = TreeNode(2)\n",
    "root1.left = TreeNode(1)\n",
    "root1.right = TreeNode(4)\n",
    "\n",
    "root2 = TreeNode(1)\n",
    "root2.left = TreeNode(0)\n",
    "root2.right = TreeNode(3)\n",
    "\n",
    "root3 = TreeNode(1)\n",
    "root3.right = TreeNode(8)\n",
    "\n",
    "root4 = TreeNode(8)\n",
    "root4.left = TreeNode(1)"
   ]
  },
  {
   "cell_type": "markdown",
   "metadata": {},
   "source": [
    "### 中序遍历 + 归并"
   ]
  },
  {
   "cell_type": "code",
   "execution_count": 2,
   "metadata": {},
   "outputs": [],
   "source": [
    "def getAllElements(root1: TreeNode, root2: TreeNode):\n",
    "    def dfs(node, arr):\n",
    "        if not node:\n",
    "            return\n",
    "        dfs(node.left, arr)\n",
    "        arr.append(node.val)\n",
    "        dfs(node.right, arr)\n",
    "    \n",
    "    arr1, arr2 = [], []\n",
    "    dfs(root1, arr1)\n",
    "    dfs(root2, arr2)\n",
    "    index1, index2 = 0, 0\n",
    "    n1, n2 = len(arr1), len(arr2)\n",
    "    ret = []\n",
    "    while True:\n",
    "        if index1 >= n1 and index2 >= n2:\n",
    "            break\n",
    "        elif index1 >= n1:\n",
    "            ret.append(arr2[index2])\n",
    "            index2 += 1\n",
    "        elif index2 >= n2:\n",
    "            ret.append(arr1[index1])\n",
    "            index1 += 1\n",
    "        else:\n",
    "            if arr1[index1] < arr2[index2]:\n",
    "                ret.append(arr1[index1])\n",
    "                index1 += 1\n",
    "            else:\n",
    "                ret.append(arr2[index2])\n",
    "                index2 += 1\n",
    "    return ret"
   ]
  },
  {
   "cell_type": "code",
   "execution_count": 3,
   "metadata": {},
   "outputs": [
    {
     "data": {
      "text/plain": [
       "[0, 1, 1, 2, 3, 4]"
      ]
     },
     "execution_count": 3,
     "metadata": {},
     "output_type": "execute_result"
    }
   ],
   "source": [
    "getAllElements(root1, root2)"
   ]
  },
  {
   "cell_type": "code",
   "execution_count": 4,
   "metadata": {},
   "outputs": [
    {
     "data": {
      "text/plain": [
       "[1, 1, 8, 8]"
      ]
     },
     "execution_count": 4,
     "metadata": {},
     "output_type": "execute_result"
    }
   ],
   "source": [
    "getAllElements(root3, root4)"
   ]
  },
  {
   "cell_type": "code",
   "execution_count": null,
   "metadata": {},
   "outputs": [],
   "source": []
  }
 ],
 "metadata": {
  "kernelspec": {
   "display_name": "Python 3",
   "language": "python",
   "name": "python3"
  },
  "language_info": {
   "codemirror_mode": {
    "name": "ipython",
    "version": 3
   },
   "file_extension": ".py",
   "mimetype": "text/x-python",
   "name": "python",
   "nbconvert_exporter": "python",
   "pygments_lexer": "ipython3",
   "version": "3.6.5"
  }
 },
 "nbformat": 4,
 "nbformat_minor": 2
}
