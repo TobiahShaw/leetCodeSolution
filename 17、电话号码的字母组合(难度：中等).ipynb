{
  "cells": [
    {
      "metadata": {
        "collapsed": true
      },
      "cell_type": "markdown",
      "source": "# 电话号码的字母组合\n\n**题目来源：力扣（LeetCode）**\n\n**链接：https://leetcode-cn.com/problems/letter-combinations-of-a-phone-number/**\n\n## 一、题目\n\n给定一个仅包含数字 2-9 的字符串，返回所有它能表示的字母组合。\n\n给出数字到字母的映射如下（与电话按键相同）。注意 1 不对应任何字母。\n\n```\nphone = {'2': ['a', 'b', 'c'],\n         '3': ['d', 'e', 'f'],\n         '4': ['g', 'h', 'i'],\n         '5': ['j', 'k', 'l'],\n         '6': ['m', 'n', 'o'],\n         '7': ['p', 'q', 'r', 's'],\n         '8': ['t', 'u', 'v'],\n         '9': ['w', 'x', 'y', 'z']}\n```\n\n## 二、示例\n\n输入：\"23\"\n\n输出：[\"ad\", \"ae\", \"af\", \"bd\", \"be\", \"bf\", \"cd\", \"ce\", \"cf\"].\n\n## 解题思路\n\n### 回溯"
    },
    {
      "metadata": {
        "trusted": true
      },
      "cell_type": "code",
      "source": "phone = {'2': ['a', 'b', 'c'],\n         '3': ['d', 'e', 'f'],\n         '4': ['g', 'h', 'i'],\n         '5': ['j', 'k', 'l'],\n         '6': ['m', 'n', 'o'],\n         '7': ['p', 'q', 'r', 's'],\n         '8': ['t', 'u', 'v'],\n         '9': ['w', 'x', 'y', 'z']}",
      "execution_count": 1,
      "outputs": []
    },
    {
      "metadata": {
        "trusted": true
      },
      "cell_type": "code",
      "source": "def letterCombinations(digits):\n    def backtrack(comb, next_digits):\n        if not next_digits:\n            return comb\n        comb_new = []\n        for o in comb:\n            for n in phone[next_digits[0]]:\n                comb_new.append(o+n)\n        return backtrack(comb_new, next_digits[1:])\n    if not digits:\n        return []\n    return backtrack(phone[digits[0]], digits[1:])",
      "execution_count": 2,
      "outputs": []
    },
    {
      "metadata": {
        "trusted": true
      },
      "cell_type": "code",
      "source": "letterCombinations(\"23\")",
      "execution_count": 3,
      "outputs": [
        {
          "output_type": "execute_result",
          "execution_count": 3,
          "data": {
            "text/plain": "['ad', 'ae', 'af', 'bd', 'be', 'bf', 'cd', 'ce', 'cf']"
          },
          "metadata": {}
        }
      ]
    },
    {
      "metadata": {
        "trusted": true
      },
      "cell_type": "code",
      "source": "",
      "execution_count": null,
      "outputs": []
    }
  ],
  "metadata": {
    "kernelspec": {
      "name": "python36",
      "display_name": "Python 3.6",
      "language": "python"
    },
    "language_info": {
      "mimetype": "text/x-python",
      "nbconvert_exporter": "python",
      "name": "python",
      "pygments_lexer": "ipython3",
      "version": "3.6.6",
      "file_extension": ".py",
      "codemirror_mode": {
        "version": 3,
        "name": "ipython"
      }
    }
  },
  "nbformat": 4,
  "nbformat_minor": 2
}