{
 "cells": [
  {
   "cell_type": "markdown",
   "metadata": {},
   "source": [
    "# 找到小镇的法官\n",
    "\n",
    "**题目来源：力扣（LeetCode）**\n",
    "\n",
    "**链接：https://leetcode-cn.com/problems/find-the-town-judge/**\n",
    "\n",
    "## 一、题目\n",
    "\n",
    "在一个小镇里，按从 1 到 n 为 n 个人进行编号。传言称，这些人中有一个是小镇上的秘密法官。\n",
    "\n",
    "如果小镇的法官真的存在，那么：\n",
    "\n",
    "小镇的法官不相信任何人。\n",
    "每个人（除了小镇法官外）都信任小镇的法官。\n",
    "只有一个人同时满足条件 1 和条件 2 。\n",
    "给定数组 trust，该数组由信任对 trust[i] = [a, b] 组成，表示编号为 a 的人信任编号为 b 的人。\n",
    "\n",
    "如果小镇存在秘密法官并且可以确定他的身份，请返回该法官的编号。否则，返回 -1。\n",
    "\n",
    "### 提示：\n",
    "\n",
    "- 1 <= n <= 1000\n",
    "- 0 <= trust.length <= 10^4\n",
    "- trust[i].length == 2\n",
    "- trust[i] 互不相同\n",
    "- trust[i][0] != trust[i][1]\n",
    "- 1 <= trust[i][0], trust[i][1] <= n\n",
    "\n",
    "## 二、示例\n",
    "\n",
    "### 示例 1：\n",
    "\n",
    "输入：n = 2, trust = [[1,2]]\n",
    "\n",
    "输出：2\n",
    "\n",
    "### 示例 2：\n",
    "\n",
    "输入：n = 3, trust = [[1,3],[2,3]]\n",
    "\n",
    "输出：3\n",
    "\n",
    "### 示例 3：\n",
    "\n",
    "输入：n = 3, trust = [[1,3],[2,3],[3,1]]\n",
    "\n",
    "输出：-1\n",
    "\n",
    "### 示例 4：\n",
    "\n",
    "输入：n = 3, trust = [[1,2],[2,3]]\n",
    "\n",
    "输出：-1\n",
    "\n",
    "### 示例 5：\n",
    "\n",
    "输入：n = 4, trust = [[1,3],[1,4],[2,3],[2,4],[4,3]]\n",
    "\n",
    "输出：3\n",
    "\n",
    "## 三、解题思路\n",
    "\n",
    "### 建立倒排索引"
   ]
  },
  {
   "cell_type": "code",
   "execution_count": 1,
   "metadata": {},
   "outputs": [],
   "source": [
    "def findJudge(n: int, trust) -> int:\n",
    "    dic_trust = {}\n",
    "    dic_trusted = {}\n",
    "    for a, b in trust:\n",
    "        if a in dic_trust:\n",
    "            dic_trust[a].add(b)\n",
    "        else:\n",
    "            dic_trust[a] = {b}\n",
    "        if b in dic_trusted:\n",
    "            dic_trusted[b].add(a)\n",
    "        else:\n",
    "            dic_trusted[b] = {a}\n",
    "    for i in range(1, n+1):\n",
    "        trustCount = 0\n",
    "        if i in dic_trust:\n",
    "            trustCount = len(dic_trust[i])\n",
    "        trusedtCount = 0\n",
    "        if i in dic_trusted:\n",
    "            trusedtCount = len(dic_trusted[i])\n",
    "        if trustCount == 0 and trusedtCount == n-1:\n",
    "            return i\n",
    "    return -1"
   ]
  },
  {
   "cell_type": "code",
   "execution_count": 2,
   "metadata": {},
   "outputs": [
    {
     "data": {
      "text/plain": [
       "2"
      ]
     },
     "execution_count": 2,
     "metadata": {},
     "output_type": "execute_result"
    }
   ],
   "source": [
    "findJudge(n = 2, trust = [[1,2]])"
   ]
  },
  {
   "cell_type": "code",
   "execution_count": 3,
   "metadata": {},
   "outputs": [
    {
     "data": {
      "text/plain": [
       "3"
      ]
     },
     "execution_count": 3,
     "metadata": {},
     "output_type": "execute_result"
    }
   ],
   "source": [
    "findJudge(n = 3, trust = [[1,3],[2,3]])"
   ]
  },
  {
   "cell_type": "code",
   "execution_count": 4,
   "metadata": {},
   "outputs": [
    {
     "data": {
      "text/plain": [
       "-1"
      ]
     },
     "execution_count": 4,
     "metadata": {},
     "output_type": "execute_result"
    }
   ],
   "source": [
    "findJudge(n = 3, trust = [[1,3],[2,3],[3,1]])"
   ]
  },
  {
   "cell_type": "code",
   "execution_count": 5,
   "metadata": {},
   "outputs": [
    {
     "data": {
      "text/plain": [
       "-1"
      ]
     },
     "execution_count": 5,
     "metadata": {},
     "output_type": "execute_result"
    }
   ],
   "source": [
    "findJudge(n = 3, trust = [[1,2],[2,3]])"
   ]
  },
  {
   "cell_type": "code",
   "execution_count": 6,
   "metadata": {},
   "outputs": [
    {
     "data": {
      "text/plain": [
       "3"
      ]
     },
     "execution_count": 6,
     "metadata": {},
     "output_type": "execute_result"
    }
   ],
   "source": [
    "findJudge(n = 4, trust = [[1,3],[1,4],[2,3],[2,4],[4,3]])"
   ]
  },
  {
   "cell_type": "code",
   "execution_count": null,
   "metadata": {},
   "outputs": [],
   "source": []
  }
 ],
 "metadata": {
  "kernelspec": {
   "display_name": "Python 3",
   "language": "python",
   "name": "python3"
  },
  "language_info": {
   "codemirror_mode": {
    "name": "ipython",
    "version": 3
   },
   "file_extension": ".py",
   "mimetype": "text/x-python",
   "name": "python",
   "nbconvert_exporter": "python",
   "pygments_lexer": "ipython3",
   "version": "3.6.5"
  }
 },
 "nbformat": 4,
 "nbformat_minor": 2
}
