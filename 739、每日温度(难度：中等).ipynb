{
 "cells": [
  {
   "cell_type": "markdown",
   "metadata": {},
   "source": [
    "# 每日温度\n",
    "\n",
    "**题目来源：力扣（LeetCode）**\n",
    "\n",
    "**链接：https://leetcode-cn.com/problems/daily-temperatures/**\n",
    "\n",
    "## 一、题目\n",
    "\n",
    "请根据每日 气温 列表，重新生成一个列表。对应位置的输出为：要想观测到更高的气温，至少需要等待的天数。如果气温在这之后都不会升高，请在该位置用 0 来代替。\n",
    "\n",
    "## 二、示例\n",
    "\n",
    "例如，给定一个列表 temperatures = [73, 74, 75, 71, 69, 72, 76, 73]，你的输出应该是 [1, 1, 4, 2, 1, 1, 0, 0]。\n",
    "\n",
    "## 三、解题思路\n",
    "\n",
    "### 利用栈\n",
    "\n",
    "可以运用一个堆栈 stack 来快速地知道需要经过多少天就能等到温度升高。从头到尾扫描一遍给定的数组 T，如果当天的温度比堆栈 stack 顶端所记录的那天温度还要高，那么就能得到结果。\n",
    "\n",
    "- 对第一个温度 73 度，堆栈为空，把它的下标压入堆栈；\n",
    "\n",
    "- 下一个温度 74 度，高于 73 度高，因此 73 度温度升高只需 1 天时间，把 73 度下标从堆栈里弹出，把 74 度下标压入；\n",
    "\n",
    "- 同样，从 74 度只需要 1 天时间升高到 75 度；\n",
    "\n",
    "- 71 度低于 75 度，直接把 71 度下标压入堆栈；\n",
    "\n",
    "- 69 度低于 71 度，压入堆栈；\n",
    "\n",
    "- 72 度高于 69 度，从 69 度升温只需 1 天，从 71 度升温需要 2 天；\n",
    "\n",
    "- 由于堆栈里保存的是下标，能很快计算天数；\n",
    "\n",
    "- 72 度低于 75 度，意味着尚未找到 75 度之后的升温，直接把 72 度下标压入堆栈顶端；\n",
    "\n",
    "- 后面的温度与此同理。"
   ]
  },
  {
   "cell_type": "code",
   "execution_count": 1,
   "metadata": {},
   "outputs": [],
   "source": [
    "def dailyTemperatures(T):\n",
    "    n = len(T)\n",
    "    stack = []\n",
    "    ret = [0] * n\n",
    "    for i in range(n):\n",
    "        if not stack:\n",
    "            stack.append(i)\n",
    "            continue\n",
    "        if T[i] <= T[stack[-1]]:\n",
    "            stack.append(i)\n",
    "            continue\n",
    "        while stack and T[i] > T[stack[-1]]:\n",
    "            j = stack.pop()\n",
    "            ret[j] = i - j\n",
    "        stack.append(i)\n",
    "    return ret"
   ]
  },
  {
   "cell_type": "code",
   "execution_count": 2,
   "metadata": {},
   "outputs": [
    {
     "data": {
      "text/plain": [
       "[1, 1, 4, 2, 1, 1, 0, 0]"
      ]
     },
     "execution_count": 2,
     "metadata": {},
     "output_type": "execute_result"
    }
   ],
   "source": [
    "dailyTemperatures([73, 74, 75, 71, 69, 72, 76, 73])"
   ]
  },
  {
   "cell_type": "code",
   "execution_count": null,
   "metadata": {},
   "outputs": [],
   "source": []
  }
 ],
 "metadata": {
  "kernelspec": {
   "display_name": "Python 3",
   "language": "python",
   "name": "python3"
  },
  "language_info": {
   "codemirror_mode": {
    "name": "ipython",
    "version": 3
   },
   "file_extension": ".py",
   "mimetype": "text/x-python",
   "name": "python",
   "nbconvert_exporter": "python",
   "pygments_lexer": "ipython3",
   "version": "3.6.5"
  }
 },
 "nbformat": 4,
 "nbformat_minor": 2
}
