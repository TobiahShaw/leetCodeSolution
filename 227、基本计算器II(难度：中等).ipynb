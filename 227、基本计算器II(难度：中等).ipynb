{
 "cells": [
  {
   "cell_type": "markdown",
   "metadata": {},
   "source": [
    "# 基本计算器II\n",
    "\n",
    "**题目来源：力扣（LeetCode）**\n",
    "\n",
    "**链接：https://leetcode-cn.com/problems/basic-calculator-ii/**\n",
    "\n",
    "## 一、题目\n",
    "\n",
    "给你一个字符串表达式 s ，请你实现一个基本计算器来计算并返回它的值。\n",
    "\n",
    "整数除法仅保留整数部分。\n",
    "\n",
    "### 提示：\n",
    "\n",
    "- 1 <= s.length <= 3 * 105\n",
    "- s 由整数和算符 ('+', '-', '\\*', '/') 组成，中间由一些空格隔开\n",
    "- s 表示一个 有效表达式\n",
    "- 表达式中的所有整数都是非负整数，且在范围 [0, 231 - 1] 内\n",
    "- 题目数据保证答案是一个 32-bit 整数\n",
    "\n",
    "## 二、示例\n",
    "\n",
    "### 示例 1：\n",
    "\n",
    "输入：s = \"3+2\\*2\"\n",
    "\n",
    "输出：7\n",
    "\n",
    "### 示例 2：\n",
    "\n",
    "输入：s = \" 3/2 \"\n",
    "\n",
    "输出：1\n",
    "\n",
    "### 示例 3：\n",
    "\n",
    "输入：s = \" 3+5 / 2 \"\n",
    "\n",
    "输出：5\n",
    "\n",
    "## 三、解题思路\n",
    "\n",
    "### 利用栈"
   ]
  },
  {
   "cell_type": "code",
   "execution_count": 2,
   "metadata": {},
   "outputs": [],
   "source": [
    "def calculate(s: str) -> int:\n",
    "    n = len(s)\n",
    "    num = 0\n",
    "    preSign = \"+\"\n",
    "    stack = []\n",
    "    supportSignSet = set([\"+\", \"-\", \"*\", \"/\"])\n",
    "    for i in range(n):\n",
    "        if s[i].isdigit():\n",
    "            num = num * 10 + int(s[i])\n",
    "        if s[i] in supportSignSet or i == n-1:\n",
    "            if preSign == \"+\":\n",
    "                stack.append(num)\n",
    "            elif preSign == \"-\":\n",
    "                stack.append(-num)\n",
    "            elif preSign == \"*\":\n",
    "                stack.append(stack.pop() * num)\n",
    "            else:\n",
    "                # 注意 // 和 int(/) 的区别， // 会向下取整，负数会有问题\n",
    "                stack.append(int(stack.pop() / num))\n",
    "            preSign = s[i]\n",
    "            num = 0\n",
    "    return sum(stack)"
   ]
  },
  {
   "cell_type": "code",
   "execution_count": 3,
   "metadata": {},
   "outputs": [
    {
     "data": {
      "text/plain": [
       "7"
      ]
     },
     "execution_count": 3,
     "metadata": {},
     "output_type": "execute_result"
    }
   ],
   "source": [
    "calculate(\"3+2*2\")"
   ]
  },
  {
   "cell_type": "code",
   "execution_count": 4,
   "metadata": {},
   "outputs": [
    {
     "data": {
      "text/plain": [
       "1"
      ]
     },
     "execution_count": 4,
     "metadata": {},
     "output_type": "execute_result"
    }
   ],
   "source": [
    "calculate(\" 3/2 \")"
   ]
  },
  {
   "cell_type": "code",
   "execution_count": 5,
   "metadata": {},
   "outputs": [
    {
     "data": {
      "text/plain": [
       "5"
      ]
     },
     "execution_count": 5,
     "metadata": {},
     "output_type": "execute_result"
    }
   ],
   "source": [
    "calculate(\" 3+5 / 2 \")"
   ]
  },
  {
   "cell_type": "code",
   "execution_count": 6,
   "metadata": {},
   "outputs": [
    {
     "data": {
      "text/plain": [
       "13"
      ]
     },
     "execution_count": 6,
     "metadata": {},
     "output_type": "execute_result"
    }
   ],
   "source": [
    "calculate(\"14-3/2\")"
   ]
  },
  {
   "cell_type": "code",
   "execution_count": null,
   "metadata": {},
   "outputs": [],
   "source": []
  }
 ],
 "metadata": {
  "kernelspec": {
   "display_name": "Python 3",
   "language": "python",
   "name": "python3"
  },
  "language_info": {
   "codemirror_mode": {
    "name": "ipython",
    "version": 3
   },
   "file_extension": ".py",
   "mimetype": "text/x-python",
   "name": "python",
   "nbconvert_exporter": "python",
   "pygments_lexer": "ipython3",
   "version": "3.6.5"
  }
 },
 "nbformat": 4,
 "nbformat_minor": 2
}
