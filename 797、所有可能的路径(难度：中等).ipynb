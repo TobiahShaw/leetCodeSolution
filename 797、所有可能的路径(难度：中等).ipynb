{
 "cells": [
  {
   "cell_type": "markdown",
   "metadata": {},
   "source": [
    "# 所有可能的路径\n",
    "\n",
    "**题目来源：力扣（LeetCode）**\n",
    "\n",
    "**链接：https://leetcode-cn.com/problems/all-paths-from-source-to-target/**\n",
    "\n",
    "## 一、题目\n",
    "\n",
    "给你一个有 n 个节点的 有向无环图（DAG），请你找出所有从节点 0 到节点 n-1 的路径并输出（不要求按特定顺序）\n",
    "\n",
    "二维数组的第 i 个数组中的单元都表示有向图中 i 号节点所能到达的下一些节点，空就是没有下一个结点了。\n",
    "\n",
    "译者注：有向图是有方向的，即规定了 a→b 你就不能从 b→a 。\n",
    "\n",
    "### 提示：\n",
    "\n",
    "- n == graph.length\n",
    "- 2 <= n <= 15\n",
    "- 0 <= graph[i][j] < n\n",
    "- graph[i][j] != i（即，不存在自环）\n",
    "- graph[i] 中的所有元素 互不相同\n",
    "- 保证输入为 有向无环图（DAG）\n",
    "\n",
    "## 二、示例\n",
    "\n",
    "### 示例 1：\n",
    "\n",
    "输入：graph = [[1,2],[3],[3],[]]\n",
    "\n",
    "输出：[[0,1,3],[0,2,3]]\n",
    "\n",
    "解释：有两条路径 0 -> 1 -> 3 和 0 -> 2 -> 3\n",
    "\n",
    "### 示例 2：\n",
    "\n",
    "输入：graph = [[4,3,1],[3,2,4],[3],[4],[]]\n",
    "\n",
    "输出：[[0,4],[0,3,4],[0,1,3,4],[0,1,2,3,4],[0,1,4]]\n",
    "\n",
    "### 示例 3：\n",
    "\n",
    "输入：graph = [[1],[]]\n",
    "\n",
    "输出：[[0,1]]\n",
    "\n",
    "### 示例 4：\n",
    "\n",
    "输入：graph = [[1,2,3],[2],[3],[]]\n",
    "\n",
    "输出：[[0,1,2,3],[0,2,3],[0,3]]\n",
    "\n",
    "### 示例 5：\n",
    "\n",
    "输入：graph = [[1,3],[2],[3],[]]\n",
    "\n",
    "输出：[[0,1,2,3],[0,3]]\n",
    "\n",
    "## 三、解题思路\n",
    "\n",
    "### 深度优先搜索"
   ]
  },
  {
   "cell_type": "code",
   "execution_count": 1,
   "metadata": {},
   "outputs": [],
   "source": [
    "def allPathsSourceTarget(graph):\n",
    "    n = len(graph)\n",
    "    target = n - 1\n",
    "    def dfs(cur, item, result):\n",
    "        if cur == target:\n",
    "            result.append(item[:])\n",
    "            return\n",
    "        nxtArr = graph[cur]\n",
    "        for nxt in nxtArr:\n",
    "            item.append(nxt)\n",
    "            dfs(nxt, item, result)\n",
    "            item.pop()\n",
    "    result = []\n",
    "    dfs(0, [0], result)\n",
    "    return result"
   ]
  },
  {
   "cell_type": "code",
   "execution_count": 2,
   "metadata": {},
   "outputs": [
    {
     "data": {
      "text/plain": [
       "[[0, 1, 3], [0, 2, 3]]"
      ]
     },
     "execution_count": 2,
     "metadata": {},
     "output_type": "execute_result"
    }
   ],
   "source": [
    "allPathsSourceTarget([[1,2],[3],[3],[]])"
   ]
  },
  {
   "cell_type": "code",
   "execution_count": 3,
   "metadata": {},
   "outputs": [
    {
     "data": {
      "text/plain": [
       "[[0, 4], [0, 3, 4], [0, 1, 3, 4], [0, 1, 2, 3, 4], [0, 1, 4]]"
      ]
     },
     "execution_count": 3,
     "metadata": {},
     "output_type": "execute_result"
    }
   ],
   "source": [
    "allPathsSourceTarget([[4,3,1],[3,2,4],[3],[4],[]])"
   ]
  },
  {
   "cell_type": "code",
   "execution_count": 4,
   "metadata": {},
   "outputs": [
    {
     "data": {
      "text/plain": [
       "[[0, 1]]"
      ]
     },
     "execution_count": 4,
     "metadata": {},
     "output_type": "execute_result"
    }
   ],
   "source": [
    "allPathsSourceTarget([[1],[]])"
   ]
  },
  {
   "cell_type": "code",
   "execution_count": 5,
   "metadata": {},
   "outputs": [
    {
     "data": {
      "text/plain": [
       "[[0, 1, 2, 3], [0, 2, 3], [0, 3]]"
      ]
     },
     "execution_count": 5,
     "metadata": {},
     "output_type": "execute_result"
    }
   ],
   "source": [
    "allPathsSourceTarget([[1,2,3],[2],[3],[]])"
   ]
  },
  {
   "cell_type": "code",
   "execution_count": 6,
   "metadata": {},
   "outputs": [
    {
     "data": {
      "text/plain": [
       "[[0, 1, 2, 3], [0, 3]]"
      ]
     },
     "execution_count": 6,
     "metadata": {},
     "output_type": "execute_result"
    }
   ],
   "source": [
    "allPathsSourceTarget([[1,3],[2],[3],[]])"
   ]
  },
  {
   "cell_type": "code",
   "execution_count": null,
   "metadata": {},
   "outputs": [],
   "source": []
  }
 ],
 "metadata": {
  "kernelspec": {
   "display_name": "Python 3",
   "language": "python",
   "name": "python3"
  },
  "language_info": {
   "codemirror_mode": {
    "name": "ipython",
    "version": 3
   },
   "file_extension": ".py",
   "mimetype": "text/x-python",
   "name": "python",
   "nbconvert_exporter": "python",
   "pygments_lexer": "ipython3",
   "version": "3.6.5"
  }
 },
 "nbformat": 4,
 "nbformat_minor": 2
}
