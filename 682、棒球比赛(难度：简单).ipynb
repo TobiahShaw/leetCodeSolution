{
 "cells": [
  {
   "cell_type": "markdown",
   "metadata": {},
   "source": [
    "# 棒球比赛\n",
    "\n",
    "**题目来源：力扣（LeetCode）**\n",
    "\n",
    "**链接：https://leetcode-cn.com/problems/baseball-game/**\n",
    "\n",
    "## 一、题目\n",
    "\n",
    "你现在是一场采用特殊赛制棒球比赛的记录员。这场比赛由若干回合组成，过去几回合的得分可能会影响以后几回合的得分。\n",
    "\n",
    "比赛开始时，记录是空白的。你会得到一个记录操作的字符串列表 ops，其中 ops[i] 是你需要记录的第 i 项操作，ops 遵循下述规则：\n",
    "\n",
    "- 整数 x - 表示本回合新获得分数 x\n",
    "- \"+\" - 表示本回合新获得的得分是前两次得分的总和。题目数据保证记录此操作时前面总是存在两个有效的分数。\n",
    "- \"D\" - 表示本回合新获得的得分是前一次得分的两倍。题目数据保证记录此操作时前面总是存在一个有效的分数。\n",
    "- \"C\" - 表示前一次得分无效，将其从记录中移除。题目数据保证记录此操作时前面总是存在一个有效的分数。\n",
    "\n",
    "请你返回记录中所有得分的总和。\n",
    "\n",
    "### 提示：\n",
    "\n",
    "- 1 <= ops.length <= 1000\n",
    "- ops[i] 为 \"C\"、\"D\"、\"+\"，或者一个表示整数的字符串。整数范围是 [-3 * 10^4, 3 * 10^4]\n",
    "- 对于 \"+\" 操作，题目数据保证记录此操作时前面总是存在两个有效的分数\n",
    "- 对于 \"C\" 和 \"D\" 操作，题目数据保证记录此操作时前面总是存在一个有效的分数\n",
    "\n",
    "## 二、示例\n",
    "\n",
    "### 示例 1：\n",
    "\n",
    "输入：ops = [\"5\",\"2\",\"C\",\"D\",\"+\"]\n",
    "\n",
    "输出：30\n",
    "\n",
    "解释：\n",
    "\n",
    "\"5\" - 记录加 5 ，记录现在是 [5]\n",
    "\n",
    "\"2\" - 记录加 2 ，记录现在是 [5, 2]\n",
    "\n",
    "\"C\" - 使前一次得分的记录无效并将其移除，记录现在是 [5].\n",
    "\n",
    "\"D\" - 记录加 2 * 5 = 10 ，记录现在是 [5, 10].\n",
    "\n",
    "\"+\" - 记录加 5 + 10 = 15 ，记录现在是 [5, 10, 15].\n",
    "\n",
    "所有得分的总和 5 + 10 + 15 = 30\n",
    "\n",
    "### 示例 2：\n",
    "\n",
    "输入：ops = [\"5\",\"-2\",\"4\",\"C\",\"D\",\"9\",\"+\",\"+\"]\n",
    "\n",
    "输出：27\n",
    "\n",
    "解释：\n",
    "\n",
    "\"5\" - 记录加 5 ，记录现在是 [5]\n",
    "\n",
    "\"-2\" - 记录加 -2 ，记录现在是 [5, -2]\n",
    "\n",
    "\"4\" - 记录加 4 ，记录现在是 [5, -2, 4]\n",
    "\n",
    "\"C\" - 使前一次得分的记录无效并将其移除，记录现在是 [5, -2]\n",
    "\n",
    "\"D\" - 记录加 2 * -2 = -4 ，记录现在是 [5, -2, -4]\n",
    "\n",
    "\"9\" - 记录加 9 ，记录现在是 [5, -2, -4, 9]\n",
    "\n",
    "\"+\" - 记录加 -4 + 9 = 5 ，记录现在是 [5, -2, -4, 9, 5]\n",
    "\n",
    "\"+\" - 记录加 9 + 5 = 14 ，记录现在是 [5, -2, -4, 9, 5, 14]\n",
    "\n",
    "所有得分的总和 5 + -2 + -4 + 9 + 5 + 14 = 27\n",
    "\n",
    "### 示例 3：\n",
    "\n",
    "输入：ops = [\"1\"]\n",
    "\n",
    "输出：1\n",
    "\n",
    "## 三、解题思路\n",
    "\n",
    "### 利用栈"
   ]
  },
  {
   "cell_type": "code",
   "execution_count": 1,
   "metadata": {},
   "outputs": [],
   "source": [
    "def calPoints(ops) -> int:\n",
    "    stack = []\n",
    "    for i in ops:\n",
    "        if i == \"+\":\n",
    "            stack.append(stack[-1] + stack[-2])\n",
    "        elif i == \"C\":\n",
    "            stack.pop()\n",
    "        elif i == \"D\":\n",
    "            stack.append(stack[-1] * 2)\n",
    "        else:\n",
    "            stack.append(int(i))\n",
    "    return sum(stack)"
   ]
  },
  {
   "cell_type": "code",
   "execution_count": 2,
   "metadata": {},
   "outputs": [
    {
     "data": {
      "text/plain": [
       "30"
      ]
     },
     "execution_count": 2,
     "metadata": {},
     "output_type": "execute_result"
    }
   ],
   "source": [
    "calPoints([\"5\",\"2\",\"C\",\"D\",\"+\"])"
   ]
  },
  {
   "cell_type": "code",
   "execution_count": 3,
   "metadata": {},
   "outputs": [
    {
     "data": {
      "text/plain": [
       "27"
      ]
     },
     "execution_count": 3,
     "metadata": {},
     "output_type": "execute_result"
    }
   ],
   "source": [
    "calPoints([\"5\",\"-2\",\"4\",\"C\",\"D\",\"9\",\"+\",\"+\"])"
   ]
  },
  {
   "cell_type": "code",
   "execution_count": 4,
   "metadata": {},
   "outputs": [
    {
     "data": {
      "text/plain": [
       "1"
      ]
     },
     "execution_count": 4,
     "metadata": {},
     "output_type": "execute_result"
    }
   ],
   "source": [
    "calPoints([\"1\"])"
   ]
  },
  {
   "cell_type": "code",
   "execution_count": null,
   "metadata": {},
   "outputs": [],
   "source": []
  }
 ],
 "metadata": {
  "kernelspec": {
   "display_name": "Python 3",
   "language": "python",
   "name": "python3"
  },
  "language_info": {
   "codemirror_mode": {
    "name": "ipython",
    "version": 3
   },
   "file_extension": ".py",
   "mimetype": "text/x-python",
   "name": "python",
   "nbconvert_exporter": "python",
   "pygments_lexer": "ipython3",
   "version": "3.6.5"
  }
 },
 "nbformat": 4,
 "nbformat_minor": 2
}
