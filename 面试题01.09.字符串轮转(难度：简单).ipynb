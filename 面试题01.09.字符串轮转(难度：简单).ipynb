{
 "cells": [
  {
   "cell_type": "markdown",
   "metadata": {},
   "source": [
    "# 字符串轮转\n",
    "\n",
    "**题目来源：力扣（LeetCode）**\n",
    "\n",
    "**链接：https://leetcode.cn/problems/string-rotation-lcci/**\n",
    "\n",
    "## 一、题目\n",
    "\n",
    "字符串轮转。给定两个字符串s1和s2，请编写代码检查s2是否为s1旋转而成（比如，waterbottle是erbottlewat旋转后的字符串）。\n",
    "\n",
    "### 提示：\n",
    "\n",
    "- 字符串长度在[0, 100000]范围内。\n",
    "\n",
    "### 说明:\n",
    "\n",
    "- 你能只调用一次检查子串的方法吗？\n",
    "\n",
    "## 二、示例\n",
    "\n",
    "### 示例1:\n",
    "\n",
    "输入：s1 = \"waterbottle\", s2 = \"erbottlewat\"\n",
    "\n",
    "输出：True\n",
    "\n",
    "### 示例2:\n",
    "\n",
    "输入：s1 = \"aa\", s2 = \"aba\"\n",
    "\n",
    "输出：False\n",
    "\n",
    "## 三、解题思路\n",
    "\n",
    "### 模拟"
   ]
  },
  {
   "cell_type": "code",
   "execution_count": 1,
   "metadata": {},
   "outputs": [],
   "source": [
    "class Solution:\n",
    "    def isFlipedString(self, s1: str, s2: str) -> bool:\n",
    "        if len(s1) != len(s2):\n",
    "            return False\n",
    "        if s1 == s2:\n",
    "            return True\n",
    "        for i in range(len(s2)):\n",
    "            if s2[i:] + s2[:i] == s1:\n",
    "                return True\n",
    "        return False"
   ]
  },
  {
   "cell_type": "code",
   "execution_count": 2,
   "metadata": {},
   "outputs": [
    {
     "data": {
      "text/plain": [
       "True"
      ]
     },
     "execution_count": 2,
     "metadata": {},
     "output_type": "execute_result"
    }
   ],
   "source": [
    "s = Solution()\n",
    "s.isFlipedString(\"waterbottle\", \"erbottlewat\")"
   ]
  },
  {
   "cell_type": "code",
   "execution_count": 3,
   "metadata": {},
   "outputs": [
    {
     "data": {
      "text/plain": [
       "False"
      ]
     },
     "execution_count": 3,
     "metadata": {},
     "output_type": "execute_result"
    }
   ],
   "source": [
    "s.isFlipedString(\"aa\", \"aba\")"
   ]
  },
  {
   "cell_type": "code",
   "execution_count": null,
   "metadata": {},
   "outputs": [],
   "source": []
  }
 ],
 "metadata": {
  "kernelspec": {
   "display_name": "Python 3.10.4 64-bit",
   "language": "python",
   "name": "python3"
  },
  "language_info": {
   "codemirror_mode": {
    "name": "ipython",
    "version": 3
   },
   "file_extension": ".py",
   "mimetype": "text/x-python",
   "name": "python",
   "nbconvert_exporter": "python",
   "pygments_lexer": "ipython3",
   "version": "3.10.4"
  },
  "orig_nbformat": 4,
  "vscode": {
   "interpreter": {
    "hash": "4f946df053fbf2b937619d3c5458e7af74262f9a954d8797ba0b27400bcafe06"
   }
  }
 },
 "nbformat": 4,
 "nbformat_minor": 2
}
