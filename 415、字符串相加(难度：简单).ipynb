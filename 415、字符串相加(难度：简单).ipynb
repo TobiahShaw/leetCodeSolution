{
 "cells": [
  {
   "cell_type": "markdown",
   "metadata": {},
   "source": [
    "# 字符串相加\n",
    "\n",
    "**题目来源：力扣（LeetCode）**\n",
    "\n",
    "**链接：https://leetcode-cn.com/problems/add-strings/**\n",
    "\n",
    "## 一、题目\n",
    "\n",
    "给定两个字符串形式的非负整数 num1 和num2 ，计算它们的和。\n",
    "\n",
    "### 注意：\n",
    "\n",
    "- num1 和num2 的长度都小于 5100.\n",
    "- num1 和num2 都只包含数字 0-9.\n",
    "- num1 和num2 都不包含任何前导零。\n",
    "- 你不能使用任何內建 BigInteger 库， 也不能直接将输入的字符串转换为整数形\n",
    "\n",
    "## 二、示例\n",
    "\n",
    "### 示例 1：\n",
    "\n",
    "输入：num1=\"1\", num2=\"2\"\n",
    "\n",
    "输出：\"3\"\n",
    "\n",
    "### 示例 2：\n",
    "\n",
    "输入：num1=\"0\", num2=\"0\"\n",
    "\n",
    "输出：\"0\"\n",
    "\n",
    "## 三、解题思路\n",
    "\n",
    "### 模拟竖式"
   ]
  },
  {
   "cell_type": "code",
   "execution_count": 1,
   "metadata": {},
   "outputs": [],
   "source": [
    "def addStrings(num1: str, num2: str) -> str:\n",
    "    i, j, add = len(num1) - 1, len(num2) - 1, 0\n",
    "    ans = []\n",
    "    while i >= 0 or j >= 0 or add != 0:\n",
    "        x = int(num1[i]) if i >= 0 else 0\n",
    "        y = int(num2[j]) if j >= 0 else 0\n",
    "        ret = x + y + add\n",
    "        ans.append(ret % 10)\n",
    "        add = ret // 10\n",
    "        i -= 1\n",
    "        j -= 1\n",
    "    return \"\".join([str(ans[i]) for i in range(len(ans)-1, -1, -1)])"
   ]
  },
  {
   "cell_type": "code",
   "execution_count": 2,
   "metadata": {},
   "outputs": [
    {
     "data": {
      "text/plain": [
       "'3'"
      ]
     },
     "execution_count": 2,
     "metadata": {},
     "output_type": "execute_result"
    }
   ],
   "source": [
    "addStrings(\"1\", \"2\")"
   ]
  },
  {
   "cell_type": "code",
   "execution_count": 3,
   "metadata": {},
   "outputs": [
    {
     "data": {
      "text/plain": [
       "'0'"
      ]
     },
     "execution_count": 3,
     "metadata": {},
     "output_type": "execute_result"
    }
   ],
   "source": [
    "addStrings(\"0\", \"0\")"
   ]
  },
  {
   "cell_type": "code",
   "execution_count": null,
   "metadata": {},
   "outputs": [],
   "source": []
  }
 ],
 "metadata": {
  "kernelspec": {
   "display_name": "Python 3",
   "language": "python",
   "name": "python3"
  },
  "language_info": {
   "codemirror_mode": {
    "name": "ipython",
    "version": 3
   },
   "file_extension": ".py",
   "mimetype": "text/x-python",
   "name": "python",
   "nbconvert_exporter": "python",
   "pygments_lexer": "ipython3",
   "version": "3.6.5"
  }
 },
 "nbformat": 4,
 "nbformat_minor": 2
}
