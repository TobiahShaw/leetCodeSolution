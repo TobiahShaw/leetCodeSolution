{
 "cells": [
  {
   "cell_type": "markdown",
   "metadata": {},
   "source": [
    "# 出现次数最多的子树元素和\n",
    "\n",
    "**题目来源：力扣（LeetCode）**\n",
    "\n",
    "**链接：https://leetcode.cn/problems/most-frequent-subtree-sum/**\n",
    "\n",
    "## 一、题目\n",
    "\n",
    "给你一个二叉树的根结点 root ，请返回出现次数最多的子树元素和。如果有多个元素出现的次数相同，返回所有出现次数最多的子树元素和（不限顺序）。\n",
    "\n",
    "一个结点的 「子树元素和」 定义为以该结点为根的二叉树上所有结点的元素之和（包括结点本身）。\n",
    "\n",
    "### 提示：\n",
    "\n",
    "- 节点数在 [1, 10^4] 范围内\n",
    "- -10^5 <= Node.val <= 10^5\n",
    "\n",
    "## 二、示例\n",
    "\n",
    "### 示例 1：\n",
    "\n",
    "输入: root = [5,2,-3]\n",
    "\n",
    "输出: [2,-3,4]\n",
    "\n",
    "### 示例 2：\n",
    "\n",
    "输入: root = [5,2,-5]\n",
    "\n",
    "输出: [2]\n",
    "\n",
    "## 三、解题思路"
   ]
  },
  {
   "cell_type": "code",
   "execution_count": 1,
   "metadata": {},
   "outputs": [],
   "source": [
    "class TreeNode:\n",
    "    def __init__(self, val=0, left=None, right=None):\n",
    "        self.val = val\n",
    "        self.left = left\n",
    "        self.right = right\n",
    "        \n",
    "root1 = TreeNode(5, TreeNode(2), TreeNode(-3))\n",
    "root2 = TreeNode(5, TreeNode(2), TreeNode(-5))"
   ]
  },
  {
   "cell_type": "markdown",
   "metadata": {},
   "source": [
    "### DFS"
   ]
  },
  {
   "cell_type": "code",
   "execution_count": 2,
   "metadata": {},
   "outputs": [],
   "source": [
    "def findFrequentTreeSum(root: TreeNode):\n",
    "    dic = {}\n",
    "    fre = 0\n",
    "    def sumTree(node):\n",
    "        nonlocal fre\n",
    "        if not node:\n",
    "            return 0\n",
    "        treeSum = sumTree(node.left) + node.val + sumTree(node.right)\n",
    "        dic[treeSum] = dic.get(treeSum, 0) + 1\n",
    "        fre = max(fre, dic[treeSum])\n",
    "        return treeSum\n",
    "    sumTree(root)\n",
    "    ret = []\n",
    "    for treeSum in dic:\n",
    "        if dic[treeSum] == fre:\n",
    "            ret.append(treeSum)\n",
    "    return ret"
   ]
  },
  {
   "cell_type": "code",
   "execution_count": 3,
   "metadata": {},
   "outputs": [
    {
     "data": {
      "text/plain": [
       "[2, -3, 4]"
      ]
     },
     "execution_count": 3,
     "metadata": {},
     "output_type": "execute_result"
    }
   ],
   "source": [
    "findFrequentTreeSum(root1)"
   ]
  },
  {
   "cell_type": "code",
   "execution_count": 4,
   "metadata": {},
   "outputs": [
    {
     "data": {
      "text/plain": [
       "[2]"
      ]
     },
     "execution_count": 4,
     "metadata": {},
     "output_type": "execute_result"
    }
   ],
   "source": [
    "findFrequentTreeSum(root2)"
   ]
  },
  {
   "cell_type": "code",
   "execution_count": null,
   "metadata": {},
   "outputs": [],
   "source": []
  }
 ],
 "metadata": {
  "kernelspec": {
   "display_name": "Python 3",
   "language": "python",
   "name": "python3"
  },
  "language_info": {
   "codemirror_mode": {
    "name": "ipython",
    "version": 3
   },
   "file_extension": ".py",
   "mimetype": "text/x-python",
   "name": "python",
   "nbconvert_exporter": "python",
   "pygments_lexer": "ipython3",
   "version": "3.6.5"
  }
 },
 "nbformat": 4,
 "nbformat_minor": 2
}
