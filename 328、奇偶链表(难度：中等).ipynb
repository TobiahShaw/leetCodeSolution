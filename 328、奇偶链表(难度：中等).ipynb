{
 "cells": [
  {
   "cell_type": "markdown",
   "metadata": {},
   "source": [
    "# 奇偶链表\n",
    "\n",
    "**题目来源：力扣（LeetCode）**\n",
    "\n",
    "**链接：https://leetcode-cn.com/problems/odd-even-linked-list/**\n",
    "\n",
    "## 一、题目\n",
    "\n",
    "给定一个单链表，把所有的奇数节点和偶数节点分别排在一起。请注意，这里的奇数节点和偶数节点指的是节点编号的奇偶性，而不是节点的值的奇偶性。\n",
    "\n",
    "请尝试使用原地算法完成。你的算法的空间复杂度应为 O(1)，时间复杂度应为 O(nodes)，nodes 为节点总数。\n",
    "\n",
    "说明:\n",
    "\n",
    "- 应当保持奇数节点和偶数节点的相对顺序。\n",
    "- 链表的第一个节点视为奇数节点，第二个节点视为偶数节点，以此类推。\n",
    "\n",
    "## 二、示例\n",
    "\n",
    "### 示例 1:\n",
    "\n",
    "输入: 1->2->3->4->5->NULL\n",
    "\n",
    "输出: 1->3->5->2->4->NULL\n",
    "\n",
    "### 示例 2:\n",
    "\n",
    "输入: 2->1->3->5->6->4->7->NULL \n",
    "\n",
    "输出: 2->3->6->7->1->5->4->NULL\n",
    "\n",
    "## 三、解题思路"
   ]
  },
  {
   "cell_type": "code",
   "execution_count": 1,
   "metadata": {},
   "outputs": [],
   "source": [
    "class ListNode:\n",
    "    def __init__(self, val=0, next=None):\n",
    "        self.val = val\n",
    "        self.next = next"
   ]
  },
  {
   "cell_type": "code",
   "execution_count": 2,
   "metadata": {},
   "outputs": [],
   "source": [
    "def printNode(node):\n",
    "    while node:\n",
    "        print(node.val, end=' ')\n",
    "        node = node.next"
   ]
  },
  {
   "cell_type": "code",
   "execution_count": 3,
   "metadata": {},
   "outputs": [],
   "source": [
    "head = ListNode(1)\n",
    "head.next = ListNode(2)\n",
    "head.next.next = ListNode(3)\n",
    "head.next.next.next = ListNode(4)\n",
    "head.next.next.next.next = ListNode(5)\n",
    "\n",
    "head2 = ListNode(2)\n",
    "head2.next = ListNode(1)\n",
    "head2.next.next = ListNode(3)\n",
    "head2.next.next.next = ListNode(5)\n",
    "head2.next.next.next.next = ListNode(6)\n",
    "head2.next.next.next.next.next = ListNode(4)\n",
    "head2.next.next.next.next.next.next = ListNode(7)"
   ]
  },
  {
   "cell_type": "code",
   "execution_count": 4,
   "metadata": {},
   "outputs": [],
   "source": [
    "def oddEvenList(head: ListNode) -> ListNode:\n",
    "    holder_odd = ListNode()\n",
    "    holder_even = ListNode()\n",
    "    odd_cur = holder_odd\n",
    "    even_cur = holder_even\n",
    "    odd = True\n",
    "    while head:\n",
    "        if odd:\n",
    "            odd_cur.next = head\n",
    "            odd_cur = odd_cur.next\n",
    "        else:\n",
    "            even_cur.next = head\n",
    "            even_cur = even_cur.next\n",
    "        odd = not odd\n",
    "        head = head.next\n",
    "    even_cur.next = None\n",
    "    odd_cur.next = holder_even.next\n",
    "    return holder_odd.next"
   ]
  },
  {
   "cell_type": "code",
   "execution_count": 5,
   "metadata": {},
   "outputs": [
    {
     "name": "stdout",
     "output_type": "stream",
     "text": [
      "1 3 5 2 4 "
     ]
    }
   ],
   "source": [
    "printNode(oddEvenList(head))"
   ]
  },
  {
   "cell_type": "code",
   "execution_count": 6,
   "metadata": {},
   "outputs": [
    {
     "name": "stdout",
     "output_type": "stream",
     "text": [
      "2 3 6 7 1 5 4 "
     ]
    }
   ],
   "source": [
    "printNode(oddEvenList(head2))"
   ]
  },
  {
   "cell_type": "code",
   "execution_count": null,
   "metadata": {},
   "outputs": [],
   "source": []
  }
 ],
 "metadata": {
  "kernelspec": {
   "display_name": "Python 3",
   "language": "python",
   "name": "python3"
  },
  "language_info": {
   "codemirror_mode": {
    "name": "ipython",
    "version": 3
   },
   "file_extension": ".py",
   "mimetype": "text/x-python",
   "name": "python",
   "nbconvert_exporter": "python",
   "pygments_lexer": "ipython3",
   "version": "3.6.5"
  }
 },
 "nbformat": 4,
 "nbformat_minor": 2
}
