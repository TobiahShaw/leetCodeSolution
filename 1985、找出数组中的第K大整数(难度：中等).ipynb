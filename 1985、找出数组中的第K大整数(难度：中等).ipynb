{
 "cells": [
  {
   "cell_type": "markdown",
   "metadata": {},
   "source": [
    "# 找出数组中的第K大整数\n",
    "\n",
    "**题目来源：力扣（LeetCode）**\n",
    "\n",
    "**链接：https://leetcode-cn.com/problems/find-the-kth-largest-integer-in-the-array/**\n",
    "\n",
    "## 一、题目\n",
    "\n",
    "给你一个字符串数组 nums 和一个整数 k 。nums 中的每个字符串都表示一个不含前导零的整数。\n",
    "\n",
    "返回 nums 中表示第 k 大整数的字符串。\n",
    "\n",
    "注意：重复的数字在统计时会视为不同元素考虑。例如，如果 nums 是 [\"1\",\"2\",\"2\"]，那么 \"2\" 是最大的整数，\"2\" 是第二大的整数，\"1\" 是第三大的整数。\n",
    "\n",
    "### 提示：\n",
    "\n",
    "- 1 <= k <= nums.length <= 10^4\n",
    "- 1 <= nums[i].length <= 100\n",
    "- nums[i] 仅由数字组成\n",
    "- nums[i] 不含任何前导零\n",
    "\n",
    "## 二、示例\n",
    "\n",
    "### 示例 1：\n",
    "\n",
    "输入：nums = [\"3\",\"6\",\"7\",\"10\"], k = 4\n",
    "\n",
    "输出：\"3\"\n",
    "\n",
    "解释：nums 中的数字按非递减顺序排列为 [\"3\",\"6\",\"7\",\"10\"], 其中第 4 大整数是 \"3\"\n",
    "\n",
    "### 示例 2：\n",
    "\n",
    "输入：nums = [\"2\",\"21\",\"12\",\"1\"], k = 3\n",
    "\n",
    "输出：\"2\"\n",
    "\n",
    "解释：nums 中的数字按非递减顺序排列为 [\"1\",\"2\",\"12\",\"21\"], 其中第 3 大整数是 \"2\"\n",
    "\n",
    "### 示例 3：\n",
    "\n",
    "输入：nums = [\"0\",\"0\"], k = 2\n",
    "\n",
    "输出：\"0\"\n",
    "\n",
    "解释：nums 中的数字按非递减顺序排列为 [\"0\",\"0\"], 其中第 2 大整数是 \"0\"\n",
    "\n",
    "## 三、解题思路\n",
    "\n",
    "### 堆排序"
   ]
  },
  {
   "cell_type": "code",
   "execution_count": 1,
   "metadata": {},
   "outputs": [],
   "source": [
    "def kthLargestNumber(nums, k: int) -> str:\n",
    "    import heapq\n",
    "    heap = []\n",
    "    for num in nums:\n",
    "        if len(heap) < k:\n",
    "            heapq.heappush(heap, int(num))\n",
    "        else:\n",
    "            heapq.heappushpop(heap, int(num))\n",
    "    return str(heap[0])"
   ]
  },
  {
   "cell_type": "code",
   "execution_count": 2,
   "metadata": {},
   "outputs": [
    {
     "data": {
      "text/plain": [
       "'3'"
      ]
     },
     "execution_count": 2,
     "metadata": {},
     "output_type": "execute_result"
    }
   ],
   "source": [
    "kthLargestNumber(nums = [\"3\",\"6\",\"7\",\"10\"], k = 4)"
   ]
  },
  {
   "cell_type": "code",
   "execution_count": 3,
   "metadata": {},
   "outputs": [
    {
     "data": {
      "text/plain": [
       "'2'"
      ]
     },
     "execution_count": 3,
     "metadata": {},
     "output_type": "execute_result"
    }
   ],
   "source": [
    "kthLargestNumber(nums = [\"2\",\"21\",\"12\",\"1\"], k = 3)"
   ]
  },
  {
   "cell_type": "code",
   "execution_count": 4,
   "metadata": {},
   "outputs": [
    {
     "data": {
      "text/plain": [
       "'0'"
      ]
     },
     "execution_count": 4,
     "metadata": {},
     "output_type": "execute_result"
    }
   ],
   "source": [
    "kthLargestNumber(nums = [\"0\",\"0\"], k = 2)"
   ]
  },
  {
   "cell_type": "code",
   "execution_count": null,
   "metadata": {},
   "outputs": [],
   "source": []
  }
 ],
 "metadata": {
  "kernelspec": {
   "display_name": "Python 3",
   "language": "python",
   "name": "python3"
  },
  "language_info": {
   "codemirror_mode": {
    "name": "ipython",
    "version": 3
   },
   "file_extension": ".py",
   "mimetype": "text/x-python",
   "name": "python",
   "nbconvert_exporter": "python",
   "pygments_lexer": "ipython3",
   "version": "3.6.5"
  }
 },
 "nbformat": 4,
 "nbformat_minor": 2
}
