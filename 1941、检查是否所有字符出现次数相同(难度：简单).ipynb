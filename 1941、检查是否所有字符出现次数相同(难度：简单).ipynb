{
 "cells": [
  {
   "cell_type": "markdown",
   "metadata": {},
   "source": [
    "# 检查是否所有字符出现次数相同\n",
    "\n",
    "**题目来源：力扣（LeetCode）**\n",
    "\n",
    "**链接：https://leetcode-cn.com/problems/check-if-all-characters-have-equal-number-of-occurrences/**\n",
    "\n",
    "## 一、题目\n",
    "\n",
    "给你一个字符串 s ，如果 s 是一个好字符串，请你返回 true，否则请返回 false。\n",
    "\n",
    "如果 s 中出现过的所有字符的出现次数 相同 ，那么我们称字符串 s 是好字符串。\n",
    "\n",
    "### 提示：\n",
    "\n",
    "- 1 <= s.length <= 1000\n",
    "- s 只包含小写英文字母。\n",
    "\n",
    "## 二、示例\n",
    "\n",
    "### 示例 1：\n",
    "\n",
    "输入：s = \"abacbc\"\n",
    "\n",
    "输出：true\n",
    "\n",
    "解释：s 中出现过的字符为 'a'，'b' 和 'c' 。s 中所有字符均出现 2 次。\n",
    "\n",
    "### 示例 2：\n",
    "\n",
    "输入：s = \"aaabb\"\n",
    "\n",
    "输出：false\n",
    "\n",
    "解释：s 中出现过的字符为 'a' 和 'b' 。'a' 出现了 3 次，'b' 出现了 2 次，两者出现次数不同。\n",
    "\n",
    "## 三、解题思路\n",
    "\n",
    "### 计数"
   ]
  },
  {
   "cell_type": "code",
   "execution_count": 1,
   "metadata": {},
   "outputs": [],
   "source": [
    "def areOccurrencesEqual(s: str) -> bool:\n",
    "    dic = {}\n",
    "    for ch in s:\n",
    "        dic[ch] = dic.get(ch, 0) + 1\n",
    "    count = None\n",
    "    for key in dic.keys():\n",
    "        if count is None:\n",
    "            count = dic[key]\n",
    "            continue\n",
    "        if dic[key] != count:\n",
    "            return False\n",
    "    return True"
   ]
  },
  {
   "cell_type": "code",
   "execution_count": 2,
   "metadata": {},
   "outputs": [
    {
     "data": {
      "text/plain": [
       "True"
      ]
     },
     "execution_count": 2,
     "metadata": {},
     "output_type": "execute_result"
    }
   ],
   "source": [
    "areOccurrencesEqual(\"abcabc\")"
   ]
  },
  {
   "cell_type": "code",
   "execution_count": 3,
   "metadata": {},
   "outputs": [
    {
     "data": {
      "text/plain": [
       "False"
      ]
     },
     "execution_count": 3,
     "metadata": {},
     "output_type": "execute_result"
    }
   ],
   "source": [
    "areOccurrencesEqual(\"aaabb\")"
   ]
  },
  {
   "cell_type": "code",
   "execution_count": null,
   "metadata": {},
   "outputs": [],
   "source": []
  }
 ],
 "metadata": {
  "kernelspec": {
   "display_name": "Python 3",
   "language": "python",
   "name": "python3"
  },
  "language_info": {
   "codemirror_mode": {
    "name": "ipython",
    "version": 3
   },
   "file_extension": ".py",
   "mimetype": "text/x-python",
   "name": "python",
   "nbconvert_exporter": "python",
   "pygments_lexer": "ipython3",
   "version": "3.6.5"
  }
 },
 "nbformat": 4,
 "nbformat_minor": 2
}
