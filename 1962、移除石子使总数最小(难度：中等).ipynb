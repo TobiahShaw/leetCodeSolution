{
 "cells": [
  {
   "cell_type": "markdown",
   "metadata": {},
   "source": [
    "# 移除石子使总数最小\n",
    "\n",
    "**题目来源：力扣（LeetCode）**\n",
    "\n",
    "**链接：https://leetcode-cn.com/problems/remove-stones-to-minimize-the-total/**\n",
    "\n",
    "## 一、题目\n",
    "\n",
    "给你一个整数数组 piles ，数组 下标从 0 开始 ，其中 piles[i] 表示第 i 堆石子中的石子数量。另给你一个整数 k ，请你执行下述操作 恰好 k 次：\n",
    "\n",
    "选出任一石子堆 piles[i] ，并从中 移除 floor(piles[i] / 2) 颗石子。\n",
    "注意：你可以对 同一堆 石子多次执行此操作。\n",
    "\n",
    "返回执行 k 次操作后，剩下石子的 最小 总数。\n",
    "\n",
    "floor(x) 为 小于 或 等于 x 的 最大 整数。（即，对 x 向下取整）。\n",
    "\n",
    "### 提示：\n",
    "\n",
    "- 1 <= piles.length <= 105\n",
    "- 1 <= piles[i] <= 104\n",
    "- 1 <= k <= 105\n",
    "\n",
    "## 二、示例\n",
    "\n",
    "### 示例 1：\n",
    "\n",
    "输入：piles = [5,4,9], k = 2\n",
    "\n",
    "输出：12\n",
    "\n",
    "解释：可能的执行情景如下：\n",
    "\n",
    "- 对第 2 堆石子执行移除操作，石子分布情况变成 [5,4,5] 。\n",
    "- 对第 0 堆石子执行移除操作，石子分布情况变成 [3,4,5] 。\n",
    "\n",
    "剩下石子的总数为 12 。\n",
    "\n",
    "### 示例 2：\n",
    "\n",
    "输入：piles = [4,3,6,7], k = 3\n",
    "\n",
    "输出：12\n",
    "\n",
    "解释：可能的执行情景如下：\n",
    "\n",
    "- 对第 2 堆石子执行移除操作，石子分布情况变成 [4,3,3,7] 。\n",
    "- 对第 3 堆石子执行移除操作，石子分布情况变成 [4,3,3,4] 。\n",
    "- 对第 0 堆石子执行移除操作，石子分布情况变成 [2,3,3,4] 。\n",
    "\n",
    "剩下石子的总数为 12 。\n",
    "\n",
    "## 三、解题思路\n",
    "\n",
    "### 大顶堆"
   ]
  },
  {
   "cell_type": "code",
   "execution_count": 1,
   "metadata": {},
   "outputs": [],
   "source": [
    "def minStoneSum(piles, k: int) -> int:\n",
    "    import heapq\n",
    "    data = []\n",
    "    for pile in piles:\n",
    "        heapq.heappush(data, -pile)\n",
    "    while k:\n",
    "        k-=1\n",
    "        maxVal = -heapq.heappop(data)\n",
    "        maxVal -= maxVal//2\n",
    "        heapq.heappush(data, -maxVal)\n",
    "    return -sum(data)"
   ]
  },
  {
   "cell_type": "code",
   "execution_count": 2,
   "metadata": {},
   "outputs": [
    {
     "data": {
      "text/plain": [
       "12"
      ]
     },
     "execution_count": 2,
     "metadata": {},
     "output_type": "execute_result"
    }
   ],
   "source": [
    "minStoneSum(piles = [5,4,9], k = 2)"
   ]
  },
  {
   "cell_type": "code",
   "execution_count": 3,
   "metadata": {},
   "outputs": [
    {
     "data": {
      "text/plain": [
       "12"
      ]
     },
     "execution_count": 3,
     "metadata": {},
     "output_type": "execute_result"
    }
   ],
   "source": [
    "minStoneSum(piles = [4,3,6,7], k = 3)"
   ]
  },
  {
   "cell_type": "code",
   "execution_count": null,
   "metadata": {},
   "outputs": [],
   "source": []
  }
 ],
 "metadata": {
  "kernelspec": {
   "display_name": "Python 3",
   "language": "python",
   "name": "python3"
  },
  "language_info": {
   "codemirror_mode": {
    "name": "ipython",
    "version": 3
   },
   "file_extension": ".py",
   "mimetype": "text/x-python",
   "name": "python",
   "nbconvert_exporter": "python",
   "pygments_lexer": "ipython3",
   "version": "3.6.5"
  }
 },
 "nbformat": 4,
 "nbformat_minor": 2
}
