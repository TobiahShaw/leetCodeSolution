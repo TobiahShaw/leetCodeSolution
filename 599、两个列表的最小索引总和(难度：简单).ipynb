{
 "cells": [
  {
   "cell_type": "markdown",
   "metadata": {},
   "source": [
    "# 两个列表的最小索引总和\n",
    "\n",
    "**题目来源：力扣（LeetCode）**\n",
    "\n",
    "**链接：https://leetcode-cn.com/problems/minimum-index-sum-of-two-lists/**\n",
    "\n",
    "## 一、题目\n",
    "\n",
    "假设Andy和Doris想在晚餐时选择一家餐厅，并且他们都有一个表示最喜爱餐厅的列表，每个餐厅的名字用字符串表示。\n",
    "\n",
    "你需要帮助他们用最少的索引和找出他们共同喜爱的餐厅。 如果答案不止一个，则输出所有答案并且不考虑顺序。 你可以假设总是存在一个答案。\n",
    "\n",
    "### 提示:\n",
    "\n",
    "- 两个列表的长度范围都在 [1, 1000]内。\n",
    "- 两个列表中的字符串的长度将在[1，30]的范围内。\n",
    "- 下标从0开始，到列表的长度减1。\n",
    "- 两个列表都没有重复的元素。\n",
    "\n",
    "## 二、示例\n",
    "\n",
    "### 示例 1：\n",
    "\n",
    "输入:[\"Shogun\", \"Tapioca Express\", \"Burger King\", \"KFC\"], [\"Piatti\", \"The Grill at Torrey Pines\", \"Hungry Hunter Steakhouse\", \"Shogun\"]\n",
    "\n",
    "输出: [\"Shogun\"]\n",
    "\n",
    "解释: 他们唯一共同喜爱的餐厅是“Shogun”。\n",
    "\n",
    "### 示例 2:\n",
    "\n",
    "输入:[\"Shogun\", \"Tapioca Express\", \"Burger King\", \"KFC\"], [\"KFC\", \"Shogun\", \"Burger King\"]\n",
    "\n",
    "输出: [\"Shogun\"]\n",
    "\n",
    "解释: 他们共同喜爱且具有最小索引和的餐厅是“Shogun”，它有最小的索引和1(0+1)。\n",
    "\n",
    "## 三、解题思路\n",
    "\n",
    "### 利用字典"
   ]
  },
  {
   "cell_type": "code",
   "execution_count": 1,
   "metadata": {},
   "outputs": [],
   "source": [
    "def findRestaurant(list1, list2):\n",
    "    dic = {}\n",
    "    minIndex = float('inf')\n",
    "    ret = []\n",
    "    for i in range(len(list1)):\n",
    "        dic[list1[i]] = i\n",
    "    for i in range(len(list2)):\n",
    "        if list2[i] in dic:\n",
    "            index = dic[list2[i]] + i\n",
    "            if index < minIndex:\n",
    "                minIndex = index\n",
    "                ret.clear()\n",
    "                ret.append(list2[i])\n",
    "            elif index == minIndex:\n",
    "                ret.append(list2[i])\n",
    "    return ret"
   ]
  },
  {
   "cell_type": "code",
   "execution_count": 2,
   "metadata": {},
   "outputs": [
    {
     "data": {
      "text/plain": [
       "['Shogun']"
      ]
     },
     "execution_count": 2,
     "metadata": {},
     "output_type": "execute_result"
    }
   ],
   "source": [
    "findRestaurant([\"Shogun\", \"Tapioca Express\", \"Burger King\", \"KFC\"], [\"Piatti\", \"The Grill at Torrey Pines\", \"Hungry Hunter Steakhouse\", \"Shogun\"])"
   ]
  },
  {
   "cell_type": "code",
   "execution_count": 3,
   "metadata": {},
   "outputs": [
    {
     "data": {
      "text/plain": [
       "['Shogun']"
      ]
     },
     "execution_count": 3,
     "metadata": {},
     "output_type": "execute_result"
    }
   ],
   "source": [
    "findRestaurant([\"Shogun\", \"Tapioca Express\", \"Burger King\", \"KFC\"], [\"KFC\", \"Shogun\", \"Burger King\"])"
   ]
  },
  {
   "cell_type": "code",
   "execution_count": null,
   "metadata": {},
   "outputs": [],
   "source": []
  }
 ],
 "metadata": {
  "kernelspec": {
   "display_name": "Python 3",
   "language": "python",
   "name": "python3"
  },
  "language_info": {
   "codemirror_mode": {
    "name": "ipython",
    "version": 3
   },
   "file_extension": ".py",
   "mimetype": "text/x-python",
   "name": "python",
   "nbconvert_exporter": "python",
   "pygments_lexer": "ipython3",
   "version": "3.6.5"
  }
 },
 "nbformat": 4,
 "nbformat_minor": 2
}
