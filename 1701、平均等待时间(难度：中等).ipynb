{
 "cells": [
  {
   "cell_type": "markdown",
   "metadata": {},
   "source": [
    "# 平均等待时间\n",
    "\n",
    "**题目来源：力扣（LeetCode）**\n",
    "\n",
    "**链接：https://leetcode-cn.com/problems/average-waiting-time/**\n",
    "\n",
    "## 一、题目\n",
    "\n",
    "有一个餐厅，只有一位厨师。你有一个顾客数组 customers ，其中 customers[i] = [arrivali, timei] ：\n",
    "\n",
    "- $ arrival_i $ 是第 i 位顾客到达的时间，到达时间按 非递减 顺序排列。\n",
    "- $ time_i $ 是给第 i 位顾客做菜需要的时间。\n",
    "\n",
    "当一位顾客到达时，他将他的订单给厨师，厨师一旦空闲的时候就开始做这位顾客的菜。每位顾客会一直等待到厨师完成他的订单。厨师同时只能做一个人的订单。厨师会严格按照 订单给他的顺序 做菜。\n",
    "\n",
    "请你返回所有顾客需要等待的 平均 时间。与标准答案误差在 $ 10^{-5} $范围以内，都视为正确结果。\n",
    "\n",
    "提示：\n",
    "\n",
    "- $ 1 <= customers.length <= 10^5 $\n",
    "- $ 1 <= arrival_i, time_i <= 10^4 $\n",
    "- $ arrival_i <= arrival_{i+1} $\n",
    "\n",
    "## 二、示例\n",
    "\n",
    "### 示例 1：\n",
    "\n",
    "输入：customers = [[1,2],[2,5],[4,3]]\n",
    "\n",
    "输出：5.00000\n",
    "\n",
    "解释：\n",
    "\n",
    "1. 第一位顾客在时刻 1 到达，厨师拿到他的订单并在时刻 1 立马开始做菜，并在时刻 3 完成，第一位顾客等待时间为 3 - 1 = 2 。\n",
    "2. 第二位顾客在时刻 2 到达，厨师在时刻 3 开始为他做菜，并在时刻 8 完成，第二位顾客等待时间为 8 - 2 = 6 。\n",
    "3. 第三位顾客在时刻 4 到达，厨师在时刻 8 开始为他做菜，并在时刻 11 完成，第三位顾客等待时间为 11 - 4 = 7 。\n",
    "\n",
    "平均等待时间为 (2 + 6 + 7) / 3 = 5 。\n",
    "\n",
    "### 示例 2：\n",
    "\n",
    "输入：customers = [[5,2],[5,4],[10,3],[20,1]]\n",
    "\n",
    "输出：3.25000\n",
    "\n",
    "解释：\n",
    "\n",
    "1. 第一位顾客在时刻 5 到达，厨师拿到他的订单并在时刻 5 立马开始做菜，并在时刻 7 完成，第一位顾客等待时间为 7 - 5 = 2 。\n",
    "2. 第二位顾客在时刻 5 到达，厨师在时刻 7 开始为他做菜，并在时刻 11 完成，第二位顾客等待时间为 11 - 5 = 6 。\n",
    "3. 第三位顾客在时刻 10 到达，厨师在时刻 11 开始为他做菜，并在时刻 14 完成，第三位顾客等待时间为 14 - 10 = 4 。\n",
    "4. 第四位顾客在时刻 20 到达，厨师拿到他的订单并在时刻 20 立马开始做菜，并在时刻 21 完成，第四位顾客等待时间为 21 - 20 = 1 。\n",
    "\n",
    "平均等待时间为 (2 + 6 + 4 + 1) / 4 = 3.25 。\n",
    "\n",
    "## 三、解题思路\n",
    "\n",
    "### 模拟过程"
   ]
  },
  {
   "cell_type": "code",
   "execution_count": 1,
   "metadata": {},
   "outputs": [],
   "source": [
    "def averageWaitingTime(customers) -> float:\n",
    "    if not customers:\n",
    "        return 0\n",
    "    waitTime = 0\n",
    "    idleTime = 0\n",
    "    totalWaitTime = 0\n",
    "    for customer in customers:\n",
    "        if idleTime <= customer[0]:\n",
    "            idleTime = customer[0] + customer[1]\n",
    "        else:\n",
    "            idleTime += customer[1]\n",
    "        waitTime = idleTime - customer[0]\n",
    "        totalWaitTime += waitTime\n",
    "    return totalWaitTime / len(customers)"
   ]
  },
  {
   "cell_type": "code",
   "execution_count": 2,
   "metadata": {},
   "outputs": [
    {
     "data": {
      "text/plain": [
       "5.0"
      ]
     },
     "execution_count": 2,
     "metadata": {},
     "output_type": "execute_result"
    }
   ],
   "source": [
    "averageWaitingTime([[1,2],[2,5],[4,3]])"
   ]
  },
  {
   "cell_type": "code",
   "execution_count": 3,
   "metadata": {},
   "outputs": [
    {
     "data": {
      "text/plain": [
       "3.25"
      ]
     },
     "execution_count": 3,
     "metadata": {},
     "output_type": "execute_result"
    }
   ],
   "source": [
    "averageWaitingTime([[5,2],[5,4],[10,3],[20,1]])"
   ]
  },
  {
   "cell_type": "code",
   "execution_count": null,
   "metadata": {},
   "outputs": [],
   "source": []
  }
 ],
 "metadata": {
  "kernelspec": {
   "display_name": "Python 3",
   "language": "python",
   "name": "python3"
  },
  "language_info": {
   "codemirror_mode": {
    "name": "ipython",
    "version": 3
   },
   "file_extension": ".py",
   "mimetype": "text/x-python",
   "name": "python",
   "nbconvert_exporter": "python",
   "pygments_lexer": "ipython3",
   "version": "3.6.5"
  }
 },
 "nbformat": 4,
 "nbformat_minor": 2
}
