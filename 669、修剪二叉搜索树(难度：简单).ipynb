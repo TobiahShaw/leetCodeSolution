{
  "cells": [
    {
      "metadata": {
        "collapsed": true
      },
      "cell_type": "markdown",
      "source": "# 修剪二叉搜索树\n\n**题目来源：力扣（LeetCode）**\n\n**链接：https://leetcode-cn.com/problems/trim-a-binary-search-tree/**\n\n## 一、题目\n\n给定一个二叉搜索树，同时给定最小边界L 和最大边界 R。通过修剪二叉搜索树，使得所有节点的值在[L, R]中 (R>=L) 。你可能需要改变树的根节点，所以结果应当返回修剪好的二叉搜索树的新的根节点。\n\n## 二、示例\n\n### 示例 1:\n\n输入: \n\n```\n    1\n   / \\\n  0   2\n```\n\n  L = 1\n  R = 2\n\n输出: \n\n```\n    1\n      \\\n       2\n```\n\n### 示例 2:\n\n输入: \n\n```\n    3\n   / \\\n  0   4\n   \\\n    2\n   /\n  1\n```\n\n  L = 1\n  R = 3\n\n输出: \n\n```\n      3\n     / \n   2   \n  /\n 1\n```\n\n## 三、解题思路\n\n### 递归修减"
    },
    {
      "metadata": {
        "trusted": true
      },
      "cell_type": "code",
      "source": "class TreeNode:\n    def __init__(self, x):\n        self.val = x\n        self.left = None\n        self.right = None\n\nroot1 = TreeNode(1)\nroot1.left = TreeNode(0)\nroot1.right = TreeNode(2)\n\nroot2 = TreeNode(3)\nroot2.left = TreeNode(0)\nroot2.right = TreeNode(4)\n\nroot2.left.right = TreeNode(2)\nroot2.left.right.left = TreeNode(1)",
      "execution_count": 1,
      "outputs": []
    },
    {
      "metadata": {
        "trusted": true
      },
      "cell_type": "code",
      "source": "def trimBST(root: TreeNode, L: int, R: int) -> TreeNode:\n    if not root:\n        return None\n    if root.val > R:\n        return trimBST(root.left, L, R)\n    elif root.val < L:\n        return trimBST(root.right, L, R)\n    else:\n        root.left = trimBST(root.left, L, R)\n        root.right = trimBST(root.right, L, R)\n        return root",
      "execution_count": 2,
      "outputs": []
    },
    {
      "metadata": {
        "trusted": true
      },
      "cell_type": "code",
      "source": "r1 = trimBST(root1, 1, 2)",
      "execution_count": 3,
      "outputs": []
    },
    {
      "metadata": {
        "trusted": true
      },
      "cell_type": "code",
      "source": "r2 = trimBST(root2, 1, 3)",
      "execution_count": 4,
      "outputs": []
    },
    {
      "metadata": {
        "trusted": true
      },
      "cell_type": "code",
      "source": "",
      "execution_count": null,
      "outputs": []
    }
  ],
  "metadata": {
    "kernelspec": {
      "name": "python36",
      "display_name": "Python 3.6",
      "language": "python"
    },
    "language_info": {
      "mimetype": "text/x-python",
      "nbconvert_exporter": "python",
      "name": "python",
      "pygments_lexer": "ipython3",
      "version": "3.6.6",
      "file_extension": ".py",
      "codemirror_mode": {
        "version": 3,
        "name": "ipython"
      }
    }
  },
  "nbformat": 4,
  "nbformat_minor": 2
}