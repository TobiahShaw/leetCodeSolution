{
 "cells": [
  {
   "cell_type": "markdown",
   "metadata": {},
   "source": [
    "# 访问所有节点的最短路径\n",
    "\n",
    "**题目来源：力扣（LeetCode）**\n",
    "\n",
    "**链接：https://leetcode-cn.com/problems/shortest-path-visiting-all-nodes/**\n",
    "\n",
    "## 一、题目\n",
    "\n",
    "存在一个由 n 个节点组成的无向连通图，图中的节点按从 0 到 n - 1 编号。\n",
    "\n",
    "给你一个数组 graph 表示这个图。其中，graph[i] 是一个列表，由所有与节点 i 直接相连的节点组成。\n",
    "\n",
    "返回能够访问所有节点的最短路径的长度。你可以在任一节点开始和停止，也可以多次重访节点，并且可以重用边。\n",
    "\n",
    "### 提示：\n",
    "\n",
    "- n == graph.length\n",
    "- 1 <= n <= 12\n",
    "- 0 <= graph[i].length < n\n",
    "- graph[i] 不包含 i\n",
    "- 如果 graph[a] 包含 b ，那么 graph[b] 也包含 a\n",
    "- 输入的图总是连通图\n",
    "\n",
    "## 二、示例\n",
    "\n",
    "### 示例 1：\n",
    "\n",
    "输入：graph = [[1,2,3],[0],[0],[0]]\n",
    "\n",
    "输出：4\n",
    "\n",
    "解释：一种可能的路径为 [1,0,2,0,3]\n",
    "\n",
    "### 示例 2：\n",
    "\n",
    "输入：graph = [[1],[0,2,4],[1,3,4],[2],[1,2]]\n",
    "\n",
    "输出：4\n",
    "\n",
    "解释：一种可能的路径为 [0,1,4,2,3]\n",
    "\n",
    "## 三、解题思路\n",
    "\n",
    "### BFS"
   ]
  },
  {
   "cell_type": "code",
   "execution_count": 1,
   "metadata": {},
   "outputs": [],
   "source": [
    "def shortestPathLength(graph) -> int:\n",
    "    from collections import deque\n",
    "    n = len(graph)\n",
    "    q = deque((i, 1 << i, 0) for i in range(n))\n",
    "    seen = {(i, 1 << i) for i in range(n)}\n",
    "    ans = 0\n",
    "    \n",
    "    while q:\n",
    "        u, mask, dist = q.popleft()\n",
    "        if mask == (1 << n) - 1:\n",
    "            ans = dist\n",
    "            break\n",
    "        # 搜索相邻的节点\n",
    "        for v in graph[u]:\n",
    "            # 将 mask 的第 v 位置为 1\n",
    "            mask_v = mask | (1 << v)\n",
    "            if (v, mask_v) not in seen:\n",
    "                q.append((v, mask_v, dist + 1))\n",
    "                seen.add((v, mask_v))\n",
    "    \n",
    "    return ans"
   ]
  },
  {
   "cell_type": "code",
   "execution_count": 2,
   "metadata": {},
   "outputs": [
    {
     "data": {
      "text/plain": [
       "4"
      ]
     },
     "execution_count": 2,
     "metadata": {},
     "output_type": "execute_result"
    }
   ],
   "source": [
    "shortestPathLength([[1,2,3],[0],[0],[0]])"
   ]
  },
  {
   "cell_type": "code",
   "execution_count": 3,
   "metadata": {},
   "outputs": [
    {
     "data": {
      "text/plain": [
       "4"
      ]
     },
     "execution_count": 3,
     "metadata": {},
     "output_type": "execute_result"
    }
   ],
   "source": [
    "shortestPathLength([[1],[0,2,4],[1,3,4],[2],[1,2]])"
   ]
  },
  {
   "cell_type": "code",
   "execution_count": null,
   "metadata": {},
   "outputs": [],
   "source": []
  }
 ],
 "metadata": {
  "kernelspec": {
   "display_name": "Python 3",
   "language": "python",
   "name": "python3"
  },
  "language_info": {
   "codemirror_mode": {
    "name": "ipython",
    "version": 3
   },
   "file_extension": ".py",
   "mimetype": "text/x-python",
   "name": "python",
   "nbconvert_exporter": "python",
   "pygments_lexer": "ipython3",
   "version": "3.6.5"
  }
 },
 "nbformat": 4,
 "nbformat_minor": 2
}
