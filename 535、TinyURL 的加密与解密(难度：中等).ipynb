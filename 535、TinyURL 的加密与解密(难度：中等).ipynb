{
 "cells": [
  {
   "cell_type": "markdown",
   "metadata": {
    "collapsed": true
   },
   "source": [
    "# TinyURL 的加密与解密\n",
    "\n",
    "**题目来源：力扣（LeetCode）**\n",
    "\n",
    "**链接：https://leetcode-cn.com/problems/encode-and-decode-tinyurl/**\n",
    "\n",
    "## 一、题目\n",
    "\n",
    "TinyURL 是一种 URL 简化服务， 比如：当你输入一个 URL https://leetcode.com/problems/design-tinyurl 时，它将返回一个简化的URL http://tinyurl.com/4e9iAk 。请你设计一个类来加密与解密 TinyURL 。\n",
    "\n",
    "加密和解密算法如何设计和运作是没有限制的，你只需要保证一个 URL 可以被加密成一个 TinyURL ，并且这个 TinyURL 可以用解密方法恢复成原本的 URL 。\n",
    "\n",
    "实现 Solution 类：\n",
    "\n",
    "- Solution() 初始化 TinyURL 系统对象。\n",
    "- String encode(String longUrl) 返回 longUrl 对应的 TinyURL 。\n",
    "- String decode(String shortUrl) 返回 shortUrl 原本的 URL 。题目数据保证给定的 shortUrl 是由同一个系统对象加密的。\n",
    "\n",
    "### 提示：\n",
    "\n",
    "- 1 <= url.length <= 10^4\n",
    "- 题目数据保证 url 是一个有效的 URL\n",
    "\n",
    "## 二、示例\n",
    "\n",
    "输入：url = \"https://leetcode.com/problems/design-tinyurl\"\n",
    "\n",
    "输出：\"https://leetcode.com/problems/design-tinyurl\"\n",
    "\n",
    "解释：\n",
    "\n",
    "```\n",
    "obj = Solution()\n",
    "tiny = obj.encode(url) # 返回加密后得到的 TinyURL 。\n",
    "ans = obj.decode(tiny) # 返回解密后得到的原本的 URL 。\n",
    "```\n",
    "\n",
    "## 三、解题思路\n",
    "\n",
    "### 一、计数法"
   ]
  },
  {
   "cell_type": "code",
   "execution_count": 1,
   "metadata": {},
   "outputs": [],
   "source": [
    "class Solution:\n",
    "    def __init__(self):\n",
    "        self.url_list = []\n",
    "        \n",
    "    def encode(self, longUrl):\n",
    "        self.url_list.append(longUrl)\n",
    "        return 'http://tinyurl.com/' + str(len(self.url_list) - 1)\n",
    "    \n",
    "    def decode(self, shortUrl):\n",
    "        index = int(shortUrl.replace('http://tinyurl.com/', ''))\n",
    "        return self.url_list[index]"
   ]
  },
  {
   "cell_type": "code",
   "execution_count": 2,
   "metadata": {},
   "outputs": [
    {
     "data": {
      "text/plain": [
       "'https://leetcode.com/problems/design-tinyurl'"
      ]
     },
     "execution_count": 2,
     "metadata": {},
     "output_type": "execute_result"
    }
   ],
   "source": [
    "url = \"https://leetcode.com/problems/design-tinyurl\"\n",
    "obj = Solution()\n",
    "tiny = obj.encode(url) # 返回加密后得到的 TinyURL 。\n",
    "ans = obj.decode(tiny) # 返回解密后得到的原本的 URL 。\n",
    "ans"
   ]
  },
  {
   "cell_type": "markdown",
   "metadata": {},
   "source": [
    "### 二、hash法"
   ]
  },
  {
   "cell_type": "code",
   "execution_count": 3,
   "metadata": {},
   "outputs": [],
   "source": [
    "class Solution:\n",
    "    \n",
    "    def __init__(self):\n",
    "        self.url_map = {}\n",
    "        \n",
    "    def encode(self, longUrl):\n",
    "        hashcode = hash(longUrl)\n",
    "        self.url_map[hashcode] = longUrl\n",
    "        return 'http://tinyurl.com/' + str(hashcode)\n",
    "    \n",
    "    def decode(self, shortUrl):\n",
    "        hashcode = int(shortUrl.replace('http://tinyurl.com/', ''))\n",
    "        return self.url_map[hashcode]"
   ]
  },
  {
   "cell_type": "code",
   "execution_count": 4,
   "metadata": {},
   "outputs": [
    {
     "data": {
      "text/plain": [
       "'https://leetcode.com/problems/design-tinyurl'"
      ]
     },
     "execution_count": 4,
     "metadata": {},
     "output_type": "execute_result"
    }
   ],
   "source": [
    "url = \"https://leetcode.com/problems/design-tinyurl\"\n",
    "obj = Solution()\n",
    "tiny = obj.encode(url) # 返回加密后得到的 TinyURL 。\n",
    "ans = obj.decode(tiny) # 返回解密后得到的原本的 URL 。\n",
    "ans"
   ]
  },
  {
   "cell_type": "markdown",
   "metadata": {},
   "source": [
    "### 三、随机数"
   ]
  },
  {
   "cell_type": "code",
   "execution_count": 5,
   "metadata": {},
   "outputs": [],
   "source": [
    "import sys,random\n",
    "\n",
    "class Solution:\n",
    "    \n",
    "    def __init__(self):\n",
    "        self.url_map = {}\n",
    "        self.maxint = sys.maxsize\n",
    "\n",
    "    def encode(self, longUrl):\n",
    "        index = random.randint(0, self.maxint)\n",
    "        self.url_map[index] = longUrl\n",
    "        return 'http://tinyurl.com/' + str(index)\n",
    "    \n",
    "    def decode(self, shortUrl):\n",
    "        index = int(shortUrl.replace('http://tinyurl.com/', ''))\n",
    "        return self.url_map[index]"
   ]
  },
  {
   "cell_type": "code",
   "execution_count": 6,
   "metadata": {},
   "outputs": [
    {
     "data": {
      "text/plain": [
       "'https://leetcode.com/problems/design-tinyurl'"
      ]
     },
     "execution_count": 6,
     "metadata": {},
     "output_type": "execute_result"
    }
   ],
   "source": [
    "url = \"https://leetcode.com/problems/design-tinyurl\"\n",
    "obj = Solution()\n",
    "tiny = obj.encode(url) # 返回加密后得到的 TinyURL 。\n",
    "ans = obj.decode(tiny) # 返回解密后得到的原本的 URL 。\n",
    "ans"
   ]
  },
  {
   "cell_type": "code",
   "execution_count": null,
   "metadata": {},
   "outputs": [],
   "source": []
  }
 ],
 "metadata": {
  "kernelspec": {
   "display_name": "Python 3",
   "language": "python",
   "name": "python3"
  },
  "language_info": {
   "codemirror_mode": {
    "name": "ipython",
    "version": 3
   },
   "file_extension": ".py",
   "mimetype": "text/x-python",
   "name": "python",
   "nbconvert_exporter": "python",
   "pygments_lexer": "ipython3",
   "version": "3.6.5"
  }
 },
 "nbformat": 4,
 "nbformat_minor": 2
}
