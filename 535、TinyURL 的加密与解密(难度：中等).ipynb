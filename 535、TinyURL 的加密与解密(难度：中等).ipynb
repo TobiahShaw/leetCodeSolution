{
  "cells": [
    {
      "metadata": {
        "collapsed": true
      },
      "cell_type": "markdown",
      "source": "# TinyURL 的加密与解密\n\n**题目来源：力扣（LeetCode）**\n\n**链接：https://leetcode-cn.com/problems/encode-and-decode-tinyurl/**\n\n## 一、题目\n\nTinyURL是一种URL简化服务。\n\n设计一个 TinyURL 的加密 encode 和解密 decode 的方法。你的加密和解密算法如何设计和运作是没有限制的，你只需要保证一个URL可以被加密成一个TinyURL，并且这个TinyURL可以用解密方法恢复成原本的URL。\n\n## 二、示例\n\nURL https://leetcode.com/problems/design-tinyurl 时，它将返回一个简化的URL http://tinyurl.com/4e9iAk.\n\n## 三、解题思路\n\n### 计数法"
    },
    {
      "metadata": {
        "trusted": true
      },
      "cell_type": "code",
      "source": "url_list = []",
      "execution_count": 1,
      "outputs": []
    },
    {
      "metadata": {
        "trusted": true
      },
      "cell_type": "code",
      "source": "def encode(longUrl):\n    url_list.append(longUrl)\n    return 'http://tinyurl.com/' + str(len(url_list) - 1)\n\ndef decode(shortUrl):\n    index = int(shortUrl.replace('http://tinyurl.com/', ''))\n    return url_list[index]",
      "execution_count": 2,
      "outputs": []
    },
    {
      "metadata": {
        "trusted": true
      },
      "cell_type": "code",
      "source": "encode('https://leetcode.com/problems/design-tinyurl')",
      "execution_count": 3,
      "outputs": [
        {
          "output_type": "execute_result",
          "execution_count": 3,
          "data": {
            "text/plain": "'http://tinyurl.com/0'"
          },
          "metadata": {}
        }
      ]
    },
    {
      "metadata": {
        "trusted": true
      },
      "cell_type": "code",
      "source": "decode('http://tinyurl.com/0')",
      "execution_count": 4,
      "outputs": [
        {
          "output_type": "execute_result",
          "execution_count": 4,
          "data": {
            "text/plain": "'https://leetcode.com/problems/design-tinyurl'"
          },
          "metadata": {}
        }
      ]
    },
    {
      "metadata": {
        "trusted": true
      },
      "cell_type": "code",
      "source": "",
      "execution_count": null,
      "outputs": []
    }
  ],
  "metadata": {
    "kernelspec": {
      "name": "python36",
      "display_name": "Python 3.6",
      "language": "python"
    },
    "language_info": {
      "mimetype": "text/x-python",
      "nbconvert_exporter": "python",
      "name": "python",
      "pygments_lexer": "ipython3",
      "version": "3.6.6",
      "file_extension": ".py",
      "codemirror_mode": {
        "version": 3,
        "name": "ipython"
      }
    }
  },
  "nbformat": 4,
  "nbformat_minor": 2
}