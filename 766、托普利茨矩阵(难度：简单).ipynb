{
 "cells": [
  {
   "cell_type": "markdown",
   "metadata": {},
   "source": [
    "# 托普利茨矩阵\n",
    "\n",
    "**题目来源：力扣（LeetCode）**\n",
    "\n",
    "**链接：https://leetcode-cn.com/problems/toeplitz-matrix/**\n",
    "\n",
    "## 一、题目\n",
    "\n",
    "给你一个 m x n 的矩阵 matrix 。如果这个矩阵是托普利茨矩阵，返回 true ；否则，返回 false 。\n",
    "\n",
    "如果矩阵上每一条由左上到右下的对角线上的元素都相同，那么这个矩阵是 托普利茨矩阵 。\n",
    "\n",
    "提示：\n",
    "\n",
    "- m == matrix.length\n",
    "- n == matrix[i].length\n",
    "- 1 <= m, n <= 20\n",
    "- 0 <= matrix[i][j] <= 99\n",
    "\n",
    "## 二、示例\n",
    "\n",
    "### 示例 1：\n",
    "\n",
    "输入：matrix = [[1,2,3,4],[5,1,2,3],[9,5,1,2]]\n",
    "\n",
    "输出：true\n",
    "\n",
    "解释：\n",
    "\n",
    "在上述矩阵中, 其对角线为: \n",
    "\n",
    "\"[9]\", \"[5, 5]\", \"[1, 1, 1]\", \"[2, 2, 2]\", \"[3, 3]\", \"[4]\"。 \n",
    "\n",
    "各条对角线上的所有元素均相同, 因此答案是 True 。\n",
    "\n",
    "### 示例 2：\n",
    "\n",
    "输入：matrix = [[1,2],[2,2]]\n",
    "\n",
    "输出：false\n",
    "\n",
    "解释：\n",
    "\n",
    "对角线 \"[1, 2]\" 上的元素不同。\n",
    "\n",
    "## 三、解题思路\n",
    "\n",
    "### 模拟过程"
   ]
  },
  {
   "cell_type": "code",
   "execution_count": 1,
   "metadata": {},
   "outputs": [],
   "source": [
    "def isToeplitzMatrix(matrix) -> bool:\n",
    "    m, n = len(matrix), len(matrix[0])\n",
    "    for y in range(m):\n",
    "        i, j = y + 1, 1\n",
    "        val = matrix[y][0]\n",
    "        while i < m and j < n:\n",
    "            if val == matrix[i][j]:\n",
    "                i += 1\n",
    "                j += 1\n",
    "                continue\n",
    "            return False\n",
    "    for x in range(n):\n",
    "        i, j = 1, x + 1\n",
    "        val = matrix[0][x]\n",
    "        while i < m and j < n:\n",
    "            if val == matrix[i][j]:\n",
    "                i += 1\n",
    "                j += 1\n",
    "                continue\n",
    "            return False\n",
    "    return True"
   ]
  },
  {
   "cell_type": "code",
   "execution_count": 2,
   "metadata": {},
   "outputs": [
    {
     "data": {
      "text/plain": [
       "True"
      ]
     },
     "execution_count": 2,
     "metadata": {},
     "output_type": "execute_result"
    }
   ],
   "source": [
    "isToeplitzMatrix([[1,2,3,4],[5,1,2,3],[9,5,1,2]])"
   ]
  },
  {
   "cell_type": "code",
   "execution_count": 3,
   "metadata": {},
   "outputs": [
    {
     "data": {
      "text/plain": [
       "False"
      ]
     },
     "execution_count": 3,
     "metadata": {},
     "output_type": "execute_result"
    }
   ],
   "source": [
    "isToeplitzMatrix([[1,2],[2,2]])"
   ]
  },
  {
   "cell_type": "code",
   "execution_count": null,
   "metadata": {},
   "outputs": [],
   "source": []
  }
 ],
 "metadata": {
  "kernelspec": {
   "display_name": "Python 3",
   "language": "python",
   "name": "python3"
  },
  "language_info": {
   "codemirror_mode": {
    "name": "ipython",
    "version": 3
   },
   "file_extension": ".py",
   "mimetype": "text/x-python",
   "name": "python",
   "nbconvert_exporter": "python",
   "pygments_lexer": "ipython3",
   "version": "3.6.5"
  }
 },
 "nbformat": 4,
 "nbformat_minor": 2
}
