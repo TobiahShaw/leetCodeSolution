{
  "cells": [
    {
      "metadata": {
        "collapsed": true
      },
      "cell_type": "markdown",
      "source": "# 打家劫舍II\n\n**题目来源：力扣（LeetCode）**\n\n**链接：https://leetcode-cn.com/problems/house-robber-ii/**\n\n## 一、题目\n\n你是一个专业的小偷，计划偷窃沿街的房屋，每间房内都藏有一定的现金。这个地方所有的房屋都围成一圈，这意味着第一个房屋和最后一个房屋是紧挨着的。同时，相邻的房屋装有相互连通的防盗系统，如果两间相邻的房屋在同一晚上被小偷闯入，系统会自动报警。\n\n给定一个代表每个房屋存放金额的非负整数数组，计算你在不触动警报装置的情况下，能够偷窃到的最高金额。\n\n## 二、示例\n\n### 示例 1:\n\n输入: [2,3,2]\n\n输出: 3\n\n解释: 你不能先偷窃 1 号房屋（金额 = 2），然后偷窃 3 号房屋（金额 = 2）, 因为他们是相邻的。\n\n### 示例 2:\n\n输入: [1,2,3,1]\n\n输出: 4\n\n解释: 你可以先偷窃 1 号房屋（金额 = 1），然后偷窃 3 号房屋（金额 = 3）。偷窃到的最高金额 = 1 + 3 = 4 。\n\n## 解题思路\n\n### 动态规划\n\n和198题类似，只是多了成环的条件。那么只有三种情况：\n\n1. 第一个和最后一个都不选\n2. 选第一个，不选最后一个\n3. 选最后一个，不选第一个\n\n其实只用考虑2，3两种情况，因为第一种得不到最优解"
    },
    {
      "metadata": {
        "trusted": true
      },
      "cell_type": "code",
      "source": "def rob(nums) -> int:\n    if not nums:\n        return 0\n    if len(nums) < 3:\n        return max(nums)\n    def rob_sub(nums, start, end):\n        pre, cur = 0, 0\n        for i in range(start, end):\n            tmp = cur\n            cur = max(cur, pre + nums[i])\n            pre = tmp\n        return cur\n    return max(rob_sub(nums, 0, len(nums)-1) , rob_sub(nums, 1, len(nums)))",
      "execution_count": 1,
      "outputs": []
    },
    {
      "metadata": {
        "trusted": true
      },
      "cell_type": "code",
      "source": "rob([2,3,2])",
      "execution_count": 2,
      "outputs": [
        {
          "output_type": "execute_result",
          "execution_count": 2,
          "data": {
            "text/plain": "3"
          },
          "metadata": {}
        }
      ]
    },
    {
      "metadata": {
        "trusted": true
      },
      "cell_type": "code",
      "source": "rob([1,2,3,1])",
      "execution_count": 3,
      "outputs": [
        {
          "output_type": "execute_result",
          "execution_count": 3,
          "data": {
            "text/plain": "4"
          },
          "metadata": {}
        }
      ]
    },
    {
      "metadata": {
        "trusted": true
      },
      "cell_type": "code",
      "source": "",
      "execution_count": null,
      "outputs": []
    }
  ],
  "metadata": {
    "kernelspec": {
      "name": "python36",
      "display_name": "Python 3.6",
      "language": "python"
    },
    "language_info": {
      "mimetype": "text/x-python",
      "nbconvert_exporter": "python",
      "name": "python",
      "pygments_lexer": "ipython3",
      "version": "3.6.6",
      "file_extension": ".py",
      "codemirror_mode": {
        "version": 3,
        "name": "ipython"
      }
    }
  },
  "nbformat": 4,
  "nbformat_minor": 2
}