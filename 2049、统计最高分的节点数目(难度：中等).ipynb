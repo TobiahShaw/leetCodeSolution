{
 "cells": [
  {
   "cell_type": "markdown",
   "metadata": {},
   "source": [
    "# 统计最高分的节点数目\n",
    "\n",
    "**题目来源：力扣（LeetCode）**\n",
    "\n",
    "**链接：https://leetcode-cn.com/problems/count-nodes-with-the-highest-score/**\n",
    "\n",
    "## 一、题目\n",
    "\n",
    "给你一棵根节点为 0 的 二叉树 ，它总共有 n 个节点，节点编号为 0 到 n - 1 。同时给你一个下标从 0 开始的整数数组 parents 表示这棵树，其中 parents[i] 是节点 i 的父节点。由于节点 0 是根，所以 parents[0] == -1 。\n",
    "\n",
    "一个子树的 大小 为这个子树内节点的数目。每个节点都有一个与之关联的 分数 。求出某个节点分数的方法是，将这个节点和与它相连的边全部 删除 ，剩余部分是若干个 非空 子树，这个节点的 分数 为所有这些子树 大小的乘积 。\n",
    "\n",
    "请你返回有 最高得分 节点的 数目 。\n",
    "\n",
    "### 提示：\n",
    "\n",
    "- n == parents.length\n",
    "- 2 <= n <= 10^5\n",
    "- parents[0] == -1\n",
    "- 对于 i != 0 ，有 0 <= parents[i] <= n - 1\n",
    "- parents 表示一棵二叉树。\n",
    "\n",
    "## 二、示例\n",
    "\n",
    "### 示例 1：\n",
    "\n",
    "输入：parents = [-1,2,0,2,0]\n",
    "\n",
    "输出：3\n",
    "\n",
    "解释：\n",
    "\n",
    "- 节点 0 的分数为：3 * 1 = 3\n",
    "- 节点 1 的分数为：4 = 4\n",
    "- 节点 2 的分数为：1 * 1 * 2 = 2\n",
    "- 节点 3 的分数为：4 = 4\n",
    "- 节点 4 的分数为：4 = 4\n",
    "\n",
    "最高得分为 4 ，有三个节点得分为 4 （分别是节点 1，3 和 4 ）。\n",
    "\n",
    "### 示例 2：\n",
    "\n",
    "输入：parents = [-1,2,0]\n",
    "\n",
    "输出：2\n",
    "\n",
    "解释：\n",
    "\n",
    "- 节点 0 的分数为：2 = 2\n",
    "- 节点 1 的分数为：2 = 2\n",
    "- 节点 2 的分数为：1 * 1 = 1\n",
    "\n",
    "最高分数为 2 ，有两个节点分数为 2 （分别为节点 0 和 1 ）。\n",
    "\n",
    "## 三、解题思路\n",
    "\n",
    "### DFS"
   ]
  },
  {
   "cell_type": "code",
   "execution_count": 1,
   "metadata": {},
   "outputs": [],
   "source": [
    "def countHighestScoreNodes(parents) -> int:\n",
    "    n = len(parents)\n",
    "    children = [[] for _ in range(n)]\n",
    "    for node, p in enumerate(parents):\n",
    "        if p != -1:\n",
    "            children[p].append(node)\n",
    "\n",
    "    maxScore, cnt = 0, 0\n",
    "    def dfs(node: int) -> int:\n",
    "        score = 1\n",
    "        size = n - 1\n",
    "        for ch in children[node]:\n",
    "            sz = dfs(ch)\n",
    "            score *= sz\n",
    "            size -= sz\n",
    "        if node != 0:\n",
    "            score *= size\n",
    "        nonlocal maxScore, cnt\n",
    "        if score == maxScore:\n",
    "            cnt += 1\n",
    "        elif score > maxScore:\n",
    "            maxScore, cnt = score, 1\n",
    "        return n - size\n",
    "    dfs(0)\n",
    "    return cnt"
   ]
  },
  {
   "cell_type": "code",
   "execution_count": 2,
   "metadata": {},
   "outputs": [
    {
     "data": {
      "text/plain": [
       "3"
      ]
     },
     "execution_count": 2,
     "metadata": {},
     "output_type": "execute_result"
    }
   ],
   "source": [
    "countHighestScoreNodes([-1,2,0,2,0])"
   ]
  },
  {
   "cell_type": "code",
   "execution_count": 3,
   "metadata": {},
   "outputs": [
    {
     "data": {
      "text/plain": [
       "2"
      ]
     },
     "execution_count": 3,
     "metadata": {},
     "output_type": "execute_result"
    }
   ],
   "source": [
    "countHighestScoreNodes([-1,2,0])"
   ]
  },
  {
   "cell_type": "code",
   "execution_count": null,
   "metadata": {},
   "outputs": [],
   "source": []
  }
 ],
 "metadata": {
  "kernelspec": {
   "display_name": "Python 3",
   "language": "python",
   "name": "python3"
  },
  "language_info": {
   "codemirror_mode": {
    "name": "ipython",
    "version": 3
   },
   "file_extension": ".py",
   "mimetype": "text/x-python",
   "name": "python",
   "nbconvert_exporter": "python",
   "pygments_lexer": "ipython3",
   "version": "3.6.5"
  }
 },
 "nbformat": 4,
 "nbformat_minor": 2
}
