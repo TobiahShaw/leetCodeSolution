{
 "cells": [
  {
   "cell_type": "markdown",
   "metadata": {},
   "source": [
    "# 计算力扣银行的钱\n",
    "\n",
    "**题目来源：力扣（LeetCode）**\n",
    "\n",
    "**链接：https://leetcode-cn.com/problems/calculate-money-in-leetcode-bank/**\n",
    "\n",
    "## 一、题目\n",
    "\n",
    "Hercy 想要为购买第一辆车存钱。他 每天 都往力扣银行里存钱。\n",
    "\n",
    "最开始，他在周一的时候存入 1 块钱。从周二到周日，他每天都比前一天多存入 1 块钱。在接下来每一个周一，他都会比 前一个周一 多存入 1 块钱。\n",
    "\n",
    "给你 n ，请你返回在第 n 天结束的时候他在力扣银行总共存了多少块钱。\n",
    "\n",
    "### 提示：\n",
    "\n",
    "- 1 <= n <= 1000\n",
    "\n",
    "## 二、示例\n",
    "\n",
    "### 示例 1：\n",
    "\n",
    "输入：n = 4\n",
    "\n",
    "输出：10\n",
    "\n",
    "解释：第 4 天后，总额为 1 + 2 + 3 + 4 = 10 。\n",
    "\n",
    "### 示例 2：\n",
    "\n",
    "输入：n = 10\n",
    "\n",
    "输出：37\n",
    "\n",
    "解释：第 10 天后，总额为 (1 + 2 + 3 + 4 + 5 + 6 + 7) + (2 + 3 + 4) = 37 。注意到第二个星期一，Hercy 存入 2 块钱。\n",
    "\n",
    "### 示例 3：\n",
    "\n",
    "输入：n = 20\n",
    "\n",
    "输出：96\n",
    "\n",
    "解释：第 20 天后，总额为 (1 + 2 + 3 + 4 + 5 + 6 + 7) + (2 + 3 + 4 + 5 + 6 + 7 + 8) + (3 + 4 + 5 + 6 + 7 + 8) = 96 。\n",
    "\n",
    "## 三、解题思路\n",
    "\n",
    "### 数学规律"
   ]
  },
  {
   "cell_type": "code",
   "execution_count": 1,
   "metadata": {},
   "outputs": [],
   "source": [
    "def totalMoney(n: int) -> int:\n",
    "    row, col = n // 7, n % 7\n",
    "    return 28 * row + (7 * max(row - 1, 0) * row // 2) + (2*row + col + 1) * col // 2"
   ]
  },
  {
   "cell_type": "code",
   "execution_count": 2,
   "metadata": {},
   "outputs": [
    {
     "data": {
      "text/plain": [
       "10"
      ]
     },
     "execution_count": 2,
     "metadata": {},
     "output_type": "execute_result"
    }
   ],
   "source": [
    "totalMoney(4)"
   ]
  },
  {
   "cell_type": "code",
   "execution_count": 3,
   "metadata": {},
   "outputs": [
    {
     "data": {
      "text/plain": [
       "37"
      ]
     },
     "execution_count": 3,
     "metadata": {},
     "output_type": "execute_result"
    }
   ],
   "source": [
    "totalMoney(10)"
   ]
  },
  {
   "cell_type": "code",
   "execution_count": 4,
   "metadata": {},
   "outputs": [
    {
     "data": {
      "text/plain": [
       "96"
      ]
     },
     "execution_count": 4,
     "metadata": {},
     "output_type": "execute_result"
    }
   ],
   "source": [
    "totalMoney(20)"
   ]
  },
  {
   "cell_type": "code",
   "execution_count": null,
   "metadata": {},
   "outputs": [],
   "source": []
  }
 ],
 "metadata": {
  "kernelspec": {
   "display_name": "Python 3",
   "language": "python",
   "name": "python3"
  },
  "language_info": {
   "codemirror_mode": {
    "name": "ipython",
    "version": 3
   },
   "file_extension": ".py",
   "mimetype": "text/x-python",
   "name": "python",
   "nbconvert_exporter": "python",
   "pygments_lexer": "ipython3",
   "version": "3.6.5"
  }
 },
 "nbformat": 4,
 "nbformat_minor": 2
}
