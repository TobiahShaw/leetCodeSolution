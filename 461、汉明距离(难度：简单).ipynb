{
  "cells": [
    {
      "metadata": {
        "collapsed": true
      },
      "cell_type": "markdown",
      "source": "# 汉明距离\n\n**题目来源：力扣（LeetCode）**\n\n**链接：https://leetcode-cn.com/problems/hamming-distance/submissions/**\n\n## 一、题目\n\n两个整数之间的汉明距离指的是这两个数字对应二进制位不同的位置的数目。\n\n给出两个整数 x 和 y，计算它们之间的汉明距离。\n\n## 二、示例\n\n输入: x = 1, y = 4\n\n输出: 2\n\n解释:\n\n1   (0 0 0 1)\n\n4   (0 1 0 0)\n\n    ↑ ↑\n\n上面的箭头指出了对应二进制位不同的位置。\n\n## 解题思路\n\n求出两个数字取异之后1的个数即可。"
    },
    {
      "metadata": {
        "trusted": true
      },
      "cell_type": "code",
      "source": "",
      "execution_count": null,
      "outputs": []
    }
  ],
  "metadata": {
    "kernelspec": {
      "name": "python36",
      "display_name": "Python 3.6",
      "language": "python"
    },
    "language_info": {
      "mimetype": "text/x-python",
      "nbconvert_exporter": "python",
      "name": "python",
      "pygments_lexer": "ipython3",
      "version": "3.6.6",
      "file_extension": ".py",
      "codemirror_mode": {
        "version": 3,
        "name": "ipython"
      }
    }
  },
  "nbformat": 4,
  "nbformat_minor": 2
}