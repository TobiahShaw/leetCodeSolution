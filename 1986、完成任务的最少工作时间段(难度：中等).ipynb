{
 "cells": [
  {
   "cell_type": "markdown",
   "metadata": {},
   "source": [
    "# 完成任务的最少工作时间段\n",
    "\n",
    "**题目来源：力扣（LeetCode）**\n",
    "\n",
    "**链接：https://leetcode-cn.com/problems/minimum-number-of-work-sessions-to-finish-the-tasks/**\n",
    "\n",
    "## 一、题目\n",
    "\n",
    "你被安排了 n 个任务。任务需要花费的时间用长度为 n 的整数数组 tasks 表示，第 i 个任务需要花费 tasks[i] 小时完成。一个 工作时间段 中，你可以 至多 连续工作 sessionTime 个小时，然后休息一会儿。\n",
    "\n",
    "你需要按照如下条件完成给定任务：\n",
    "\n",
    "- 如果你在某一个时间段开始一个任务，你需要在 同一个 时间段完成它。\n",
    "- 完成一个任务后，你可以 立马 开始一个新的任务。\n",
    "- 你可以按 任意顺序 完成任务。\n",
    "\n",
    "给你 tasks 和 sessionTime ，请你按照上述要求，返回完成所有任务所需要的 最少 数目的 工作时间段 。\n",
    "\n",
    "测试数据保证 sessionTime 大于等于 tasks[i] 中的 最大值 。\n",
    "\n",
    "### 提示：\n",
    "\n",
    "- n == tasks.length\n",
    "- 1 <= n <= 14\n",
    "- 1 <= tasks[i] <= 10\n",
    "- max(tasks[i]) <= sessionTime <= 15\n",
    "\n",
    "## 二、示例\n",
    "\n",
    "### 示例 1：\n",
    "\n",
    "输入：tasks = [1,2,3], sessionTime = 3\n",
    "\n",
    "输出：2\n",
    "\n",
    "解释：你可以在两个工作时间段内完成所有任务。\n",
    "\n",
    "- 第一个工作时间段：完成第一和第二个任务，花费 1 + 2 = 3 小时。\n",
    "- 第二个工作时间段：完成第三个任务，花费 3 小时。\n",
    "\n",
    "### 示例 2：\n",
    "\n",
    "输入：tasks = [3,1,3,1,1], sessionTime = 8\n",
    "\n",
    "输出：2\n",
    "\n",
    "解释：你可以在两个工作时间段内完成所有任务。\n",
    "\n",
    "- 第一个工作时间段：完成除了最后一个任务以外的所有任务，花费 3 + 1 + 3 + 1 = 8 小时。\n",
    "- 第二个工作时间段，完成最后一个任务，花费 1 小时。\n",
    "\n",
    "### 示例 3：\n",
    "\n",
    "输入：tasks = [1,2,3,4,5], sessionTime = 15\n",
    "\n",
    "输出：1\n",
    "\n",
    "解释：你可以在一个工作时间段以内完成所有任务。\n",
    "\n",
    "## 三、解题思路\n",
    "\n",
    "### 动态规划"
   ]
  },
  {
   "cell_type": "code",
   "execution_count": 1,
   "metadata": {},
   "outputs": [],
   "source": [
    "def minSessions(tasks, sessionTime: int) -> int:\n",
    "    n = len(tasks)\n",
    "    valid = [False] * (1 << n)\n",
    "    for mask in range(1, 1 << n):\n",
    "        needTime = 0\n",
    "        for i in range(n):\n",
    "            if mask & (1 << i):\n",
    "                needTime += tasks[i]\n",
    "        if needTime <= sessionTime:\n",
    "            valid[mask] = True\n",
    "    f = [float(\"inf\")] * (1 << n)\n",
    "    f[0] = 0\n",
    "    for mask in range(1, 1 << n):\n",
    "        subset = mask\n",
    "        while subset:\n",
    "            if valid[subset]:\n",
    "                f[mask] = min(f[mask], f[mask ^ subset] + 1)\n",
    "            subset = (subset - 1) & mask\n",
    "    return f[(1 << n) - 1]"
   ]
  },
  {
   "cell_type": "code",
   "execution_count": 2,
   "metadata": {},
   "outputs": [
    {
     "data": {
      "text/plain": [
       "2"
      ]
     },
     "execution_count": 2,
     "metadata": {},
     "output_type": "execute_result"
    }
   ],
   "source": [
    "minSessions(tasks = [1,2,3], sessionTime = 3)"
   ]
  },
  {
   "cell_type": "code",
   "execution_count": 3,
   "metadata": {},
   "outputs": [
    {
     "data": {
      "text/plain": [
       "2"
      ]
     },
     "execution_count": 3,
     "metadata": {},
     "output_type": "execute_result"
    }
   ],
   "source": [
    "minSessions(tasks = [3,1,3,1,1], sessionTime = 8)"
   ]
  },
  {
   "cell_type": "code",
   "execution_count": 4,
   "metadata": {},
   "outputs": [
    {
     "data": {
      "text/plain": [
       "1"
      ]
     },
     "execution_count": 4,
     "metadata": {},
     "output_type": "execute_result"
    }
   ],
   "source": [
    "minSessions(tasks = [1,2,3,4,5], sessionTime = 15)"
   ]
  },
  {
   "cell_type": "code",
   "execution_count": null,
   "metadata": {},
   "outputs": [],
   "source": []
  }
 ],
 "metadata": {
  "kernelspec": {
   "display_name": "Python 3",
   "language": "python",
   "name": "python3"
  },
  "language_info": {
   "codemirror_mode": {
    "name": "ipython",
    "version": 3
   },
   "file_extension": ".py",
   "mimetype": "text/x-python",
   "name": "python",
   "nbconvert_exporter": "python",
   "pygments_lexer": "ipython3",
   "version": "3.6.5"
  }
 },
 "nbformat": 4,
 "nbformat_minor": 2
}
