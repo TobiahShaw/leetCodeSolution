{
 "cells": [
  {
   "cell_type": "markdown",
   "metadata": {},
   "source": [
    "# 子数组异或查询\n",
    "\n",
    "**题目来源：力扣（LeetCode）**\n",
    "\n",
    "**链接：https://leetcode-cn.com/problems/xor-queries-of-a-subarray/**\n",
    "\n",
    "## 一、题目\n",
    "\n",
    "有一个正整数数组 arr，现给你一个对应的查询数组 queries，其中 queries[i] = [Li, Ri]。\n",
    "\n",
    "对于每个查询 i，请你计算从 Li 到 Ri 的 XOR 值（即 arr[Li] xor arr[Li+1] xor ... xor arr[Ri]）作为本次查询的结果。\n",
    "\n",
    "并返回一个包含给定查询 queries 所有结果的数组。\n",
    "\n",
    "### 提示：\n",
    "\n",
    "- 1 <= arr.length <= 3 * 10^4\n",
    "- 1 <= arr[i] <= 10^9\n",
    "- 1 <= queries.length <= 3 * 10^4\n",
    "- queries[i].length == 2\n",
    "- 0 <= queries[i][0] <= queries[i][1] < arr.length\n",
    "\n",
    "## 二、示例\n",
    "\n",
    "### 示例 1：\n",
    "\n",
    "输入：arr = [1,3,4,8], queries = [[0,1],[1,2],[0,3],[3,3]]\n",
    "\n",
    "输出：[2,7,14,8] \n",
    "\n",
    "解释：\n",
    "\n",
    "数组中元素的二进制表示形式是：\n",
    "```\n",
    "1 = 0001 \n",
    "3 = 0011 \n",
    "4 = 0100 \n",
    "8 = 1000 \n",
    "```\n",
    "查询的 XOR 值为：\n",
    "```\n",
    "[0,1] = 1 xor 3 = 2 \n",
    "[1,2] = 3 xor 4 = 7 \n",
    "[0,3] = 1 xor 3 xor 4 xor 8 = 14 \n",
    "[3,3] = 8\n",
    "```\n",
    "### 示例 2：\n",
    "\n",
    "输入：arr = [4,8,2,10], queries = [[2,3],[1,3],[0,0],[0,3]]\n",
    "\n",
    "输出：[8,0,4,4]\n",
    "\n",
    "## 三、解题思路\n",
    "\n",
    "### 一、暴力法（超时）"
   ]
  },
  {
   "cell_type": "code",
   "execution_count": 1,
   "metadata": {},
   "outputs": [],
   "source": [
    "def xorQueries(arr, queries):\n",
    "    ret = []\n",
    "    for p in queries:\n",
    "        item = 0\n",
    "        for i in range(p[0], p[1] + 1):\n",
    "            item ^= arr[i]\n",
    "        ret.append(item)\n",
    "    return ret"
   ]
  },
  {
   "cell_type": "code",
   "execution_count": 2,
   "metadata": {},
   "outputs": [
    {
     "data": {
      "text/plain": [
       "[2, 7, 14, 8]"
      ]
     },
     "execution_count": 2,
     "metadata": {},
     "output_type": "execute_result"
    }
   ],
   "source": [
    "xorQueries(arr = [1,3,4,8], queries = [[0,1],[1,2],[0,3],[3,3]])"
   ]
  },
  {
   "cell_type": "code",
   "execution_count": 3,
   "metadata": {},
   "outputs": [
    {
     "data": {
      "text/plain": [
       "[8, 0, 4, 4]"
      ]
     },
     "execution_count": 3,
     "metadata": {},
     "output_type": "execute_result"
    }
   ],
   "source": [
    "xorQueries(arr = [4,8,2,10], queries = [[2,3],[1,3],[0,0],[0,3]])"
   ]
  },
  {
   "cell_type": "markdown",
   "metadata": {},
   "source": [
    "### 二、前缀异或"
   ]
  },
  {
   "cell_type": "code",
   "execution_count": 4,
   "metadata": {},
   "outputs": [],
   "source": [
    "def xorQueries(arr, queries):\n",
    "    xorOfHead = []\n",
    "    tmp = 0\n",
    "    for num in arr:\n",
    "        tmp ^= num\n",
    "        xorOfHead.append(tmp)\n",
    "    ret = []\n",
    "    for p in queries:\n",
    "        if p[0] > 0:\n",
    "            item = xorOfHead[p[1]] ^ xorOfHead[p[0]-1]\n",
    "        else:\n",
    "            item = xorOfHead[p[1]]\n",
    "        ret.append(item)\n",
    "    return ret"
   ]
  },
  {
   "cell_type": "code",
   "execution_count": 5,
   "metadata": {},
   "outputs": [
    {
     "data": {
      "text/plain": [
       "[2, 7, 14, 8]"
      ]
     },
     "execution_count": 5,
     "metadata": {},
     "output_type": "execute_result"
    }
   ],
   "source": [
    "xorQueries(arr = [1,3,4,8], queries = [[0,1],[1,2],[0,3],[3,3]])"
   ]
  },
  {
   "cell_type": "code",
   "execution_count": 6,
   "metadata": {},
   "outputs": [
    {
     "data": {
      "text/plain": [
       "[8, 0, 4, 4]"
      ]
     },
     "execution_count": 6,
     "metadata": {},
     "output_type": "execute_result"
    }
   ],
   "source": [
    "xorQueries(arr = [4,8,2,10], queries = [[2,3],[1,3],[0,0],[0,3]])"
   ]
  },
  {
   "cell_type": "code",
   "execution_count": null,
   "metadata": {},
   "outputs": [],
   "source": []
  }
 ],
 "metadata": {
  "kernelspec": {
   "display_name": "Python 3",
   "language": "python",
   "name": "python3"
  },
  "language_info": {
   "codemirror_mode": {
    "name": "ipython",
    "version": 3
   },
   "file_extension": ".py",
   "mimetype": "text/x-python",
   "name": "python",
   "nbconvert_exporter": "python",
   "pygments_lexer": "ipython3",
   "version": "3.6.5"
  }
 },
 "nbformat": 4,
 "nbformat_minor": 2
}
