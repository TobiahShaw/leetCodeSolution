{
 "cells": [
  {
   "cell_type": "markdown",
   "metadata": {
    "collapsed": true
   },
   "source": [
    "# 二进制链表转整数\n",
    "\n",
    "**题目来源：力扣（LeetCode）**\n",
    "\n",
    "**链接：https://leetcode-cn.com/problems/convert-binary-number-in-a-linked-list-to-integer/**\n",
    "\n",
    "## 一、题目\n",
    "\n",
    "给你一个单链表的引用结点 head。链表中每个结点的值不是 0 就是 1。已知此链表是一个整数数字的二进制表示形式。\n",
    "\n",
    "请你返回该链表所表示数字的 十进制值 。\n",
    "\n",
    "### 提示：\n",
    "\n",
    "- 链表不为空。\n",
    "- 链表的结点总数不超过 30。\n",
    "- 每个结点的值不是 0 就是 1。\n",
    "\n",
    "## 二、示例\n",
    "\n",
    "### 示例一\n",
    "\n",
    "输入：head = [1,0,1]\n",
    "\n",
    "输出：5\n",
    "\n",
    "解释：二进制数 (101) 转化为十进制数 (5)\n",
    "\n",
    "### 示例二\n",
    "\n",
    "输入：head = [0]\n",
    "\n",
    "输出：0\n",
    "\n",
    "### 示例三\n",
    "\n",
    "输入：head = [1]\n",
    "\n",
    "输出：1\n",
    "\n",
    "### 示例四\n",
    "\n",
    "输入：head = [1,0,0,1,0,0,1,1,1,0,0,0,0,0,0]\n",
    "\n",
    "输出：18880\n",
    "\n",
    "### 示例五\n",
    "\n",
    "输入：head = [0,0]\n",
    "\n",
    "输出：0\n",
    "\n",
    "## 三、解题思路\n",
    "\n",
    "### 位运算\n",
    "\n",
    "使用位运算来进行，将已拿到的值左移一位再或上新值即可。"
   ]
  },
  {
   "cell_type": "code",
   "execution_count": 1,
   "metadata": {},
   "outputs": [],
   "source": [
    "class ListNode:\n",
    "    def __init__(self, x):\n",
    "        self.val = x\n",
    "        self.next = None"
   ]
  },
  {
   "cell_type": "code",
   "execution_count": 2,
   "metadata": {},
   "outputs": [],
   "source": [
    "def array2ListNode(array):\n",
    "    head = ListNode(array[0])\n",
    "    cur = head\n",
    "    for i in range(1, len(array)):\n",
    "        cur.next = ListNode(array[i])\n",
    "        cur = cur.next\n",
    "    return head"
   ]
  },
  {
   "cell_type": "code",
   "execution_count": 3,
   "metadata": {},
   "outputs": [],
   "source": [
    "def getDecimalValue(head):\n",
    "    res = 0\n",
    "    while head:\n",
    "        res = (res << 1) | head.val\n",
    "        head = head.next\n",
    "    return res"
   ]
  },
  {
   "cell_type": "code",
   "execution_count": 4,
   "metadata": {},
   "outputs": [
    {
     "data": {
      "text/plain": [
       "5"
      ]
     },
     "execution_count": 4,
     "metadata": {},
     "output_type": "execute_result"
    }
   ],
   "source": [
    "getDecimalValue(array2ListNode([1,0,1]))"
   ]
  },
  {
   "cell_type": "code",
   "execution_count": 5,
   "metadata": {},
   "outputs": [
    {
     "data": {
      "text/plain": [
       "0"
      ]
     },
     "execution_count": 5,
     "metadata": {},
     "output_type": "execute_result"
    }
   ],
   "source": [
    "getDecimalValue(array2ListNode([0]))"
   ]
  },
  {
   "cell_type": "code",
   "execution_count": 6,
   "metadata": {},
   "outputs": [
    {
     "data": {
      "text/plain": [
       "1"
      ]
     },
     "execution_count": 6,
     "metadata": {},
     "output_type": "execute_result"
    }
   ],
   "source": [
    "getDecimalValue(array2ListNode([1]))"
   ]
  },
  {
   "cell_type": "code",
   "execution_count": 7,
   "metadata": {},
   "outputs": [
    {
     "data": {
      "text/plain": [
       "18880"
      ]
     },
     "execution_count": 7,
     "metadata": {},
     "output_type": "execute_result"
    }
   ],
   "source": [
    "getDecimalValue(array2ListNode([1,0,0,1,0,0,1,1,1,0,0,0,0,0,0]))"
   ]
  },
  {
   "cell_type": "code",
   "execution_count": 8,
   "metadata": {},
   "outputs": [
    {
     "data": {
      "text/plain": [
       "0"
      ]
     },
     "execution_count": 8,
     "metadata": {},
     "output_type": "execute_result"
    }
   ],
   "source": [
    "getDecimalValue(array2ListNode([0, 0]))"
   ]
  },
  {
   "cell_type": "code",
   "execution_count": null,
   "metadata": {},
   "outputs": [],
   "source": []
  }
 ],
 "metadata": {
  "kernelspec": {
   "display_name": "Python 3",
   "language": "python",
   "name": "python3"
  },
  "language_info": {
   "codemirror_mode": {
    "name": "ipython",
    "version": 3
   },
   "file_extension": ".py",
   "mimetype": "text/x-python",
   "name": "python",
   "nbconvert_exporter": "python",
   "pygments_lexer": "ipython3",
   "version": "3.6.5"
  }
 },
 "nbformat": 4,
 "nbformat_minor": 2
}
