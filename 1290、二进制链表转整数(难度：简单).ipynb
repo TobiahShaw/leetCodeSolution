{
  "cells": [
    {
      "metadata": {
        "collapsed": true
      },
      "cell_type": "markdown",
      "source": "# 二进制链表转整数\n\n**题目来源：力扣（LeetCode）**\n\n**链接：https://leetcode-cn.com/problems/convert-binary-number-in-a-linked-list-to-integer/**\n\n## 一、题目\n\n给你一个单链表的引用结点 head。链表中每个结点的值不是 0 就是 1。已知此链表是一个整数数字的二进制表示形式。\n\n请你返回该链表所表示数字的 十进制值 。\n\n## 二、示例\n\n### 示例一\n\n输入：head = [1,0,1]\n\n输出：5\n\n解释：二进制数 (101) 转化为十进制数 (5)\n\n### 示例二\n\n输入：head = [0]\n\n输出：0\n\n### 示例三\n\n输入：head = [1]\n\n输出：1\n\n### 示例四\n\n输入：head = [1,0,0,1,0,0,1,1,1,0,0,0,0,0,0]\n\n输出：18880\n\n### 示例五\n\n输入：head = [0,0]\n\n输出：0\n\n## 三、解题思路\n\n### 位运算\n\n使用位运算来进行，将已拿到的值左移一位再或上新值即可。"
    },
    {
      "metadata": {
        "trusted": true
      },
      "cell_type": "code",
      "source": "class ListNode:\n    def __init__(self, x):\n        self.val = x\n        self.next = None",
      "execution_count": 1,
      "outputs": []
    },
    {
      "metadata": {
        "trusted": true
      },
      "cell_type": "code",
      "source": "def array2ListNode(array):\n    head = ListNode(array[0])\n    cur = head\n    for i in range(1, len(array)):\n        cur.next = ListNode(array[i])\n        cur = cur.next\n    return head",
      "execution_count": 2,
      "outputs": []
    },
    {
      "metadata": {
        "trusted": true
      },
      "cell_type": "code",
      "source": "def getDecimalValue(head):\n    res = 0\n    while head:\n        res = (res << 1) | head.val\n        head = head.next\n    return res",
      "execution_count": 3,
      "outputs": []
    },
    {
      "metadata": {
        "trusted": true
      },
      "cell_type": "code",
      "source": "getDecimalValue(array2ListNode([1,0,1]))",
      "execution_count": 4,
      "outputs": [
        {
          "output_type": "execute_result",
          "execution_count": 4,
          "data": {
            "text/plain": "5"
          },
          "metadata": {}
        }
      ]
    },
    {
      "metadata": {
        "trusted": true
      },
      "cell_type": "code",
      "source": "getDecimalValue(array2ListNode([0]))",
      "execution_count": 5,
      "outputs": [
        {
          "output_type": "execute_result",
          "execution_count": 5,
          "data": {
            "text/plain": "0"
          },
          "metadata": {}
        }
      ]
    },
    {
      "metadata": {
        "trusted": true
      },
      "cell_type": "code",
      "source": "getDecimalValue(array2ListNode([1]))",
      "execution_count": 6,
      "outputs": [
        {
          "output_type": "execute_result",
          "execution_count": 6,
          "data": {
            "text/plain": "1"
          },
          "metadata": {}
        }
      ]
    },
    {
      "metadata": {
        "trusted": true
      },
      "cell_type": "code",
      "source": "getDecimalValue(array2ListNode([1,0,0,1,0,0,1,1,1,0,0,0,0,0,0]))",
      "execution_count": 7,
      "outputs": [
        {
          "output_type": "execute_result",
          "execution_count": 7,
          "data": {
            "text/plain": "18880"
          },
          "metadata": {}
        }
      ]
    },
    {
      "metadata": {
        "trusted": true
      },
      "cell_type": "code",
      "source": "getDecimalValue(array2ListNode([0, 0]))",
      "execution_count": 8,
      "outputs": [
        {
          "output_type": "execute_result",
          "execution_count": 8,
          "data": {
            "text/plain": "0"
          },
          "metadata": {}
        }
      ]
    },
    {
      "metadata": {
        "trusted": true
      },
      "cell_type": "code",
      "source": "",
      "execution_count": null,
      "outputs": []
    }
  ],
  "metadata": {
    "kernelspec": {
      "name": "python36",
      "display_name": "Python 3.6",
      "language": "python"
    },
    "language_info": {
      "mimetype": "text/x-python",
      "nbconvert_exporter": "python",
      "name": "python",
      "pygments_lexer": "ipython3",
      "version": "3.6.6",
      "file_extension": ".py",
      "codemirror_mode": {
        "version": 3,
        "name": "ipython"
      }
    }
  },
  "nbformat": 4,
  "nbformat_minor": 2
}