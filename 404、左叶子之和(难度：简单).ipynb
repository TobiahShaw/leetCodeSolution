{
 "cells": [
  {
   "cell_type": "markdown",
   "metadata": {},
   "source": [
    "# 左叶子之和\n",
    "\n",
    "**题目来源：力扣（LeetCode）**\n",
    "\n",
    "**链接：https://leetcode-cn.com/problems/sum-of-left-leaves/**\n",
    "\n",
    "## 一、题目\n",
    "\n",
    "计算给定二叉树的所有左叶子之和。\n",
    "\n",
    "## 二、示例\n",
    "\n",
    "```\n",
    "    3\n",
    "   / \\\n",
    "  9  20\n",
    "    /  \\\n",
    "   15   7\n",
    "```\n",
    "\n",
    "在这个二叉树中，有两个左叶子，分别是 9 和 15，所以返回 24\n",
    "\n",
    "## 三、解题思路\n",
    "\n",
    "### 一、递归-深度优先遍历"
   ]
  },
  {
   "cell_type": "code",
   "execution_count": 1,
   "metadata": {},
   "outputs": [],
   "source": [
    "class TreeNode:\n",
    "    def __init__(self, x):\n",
    "        self.val = x\n",
    "        self.left = None\n",
    "        self.right = None"
   ]
  },
  {
   "cell_type": "code",
   "execution_count": 2,
   "metadata": {},
   "outputs": [],
   "source": [
    "root = TreeNode(3)\n",
    "\n",
    "root.left = TreeNode(9)\n",
    "root.right = TreeNode(20)\n",
    "\n",
    "root.right.left = TreeNode(15)\n",
    "root.right.right = TreeNode(7)"
   ]
  },
  {
   "cell_type": "code",
   "execution_count": 3,
   "metadata": {},
   "outputs": [],
   "source": [
    "def sumOfLeftLeaves(root: TreeNode) -> int:\n",
    "    def sol(node, isLeft):\n",
    "        if not node:\n",
    "            return 0\n",
    "        if not node.left and not node.right and isLeft:\n",
    "            return node.val\n",
    "        return sol(node.left, True) + sol(node.right, False)\n",
    "    return sol(root, False)"
   ]
  },
  {
   "cell_type": "code",
   "execution_count": 4,
   "metadata": {},
   "outputs": [
    {
     "data": {
      "text/plain": [
       "24"
      ]
     },
     "execution_count": 4,
     "metadata": {},
     "output_type": "execute_result"
    }
   ],
   "source": [
    "sumOfLeftLeaves(root)"
   ]
  },
  {
   "cell_type": "markdown",
   "metadata": {},
   "source": [
    "### 二、迭代-广度优先遍历"
   ]
  },
  {
   "cell_type": "code",
   "execution_count": 5,
   "metadata": {},
   "outputs": [],
   "source": [
    "def sumOfLeftLeaves(root: TreeNode) -> int:\n",
    "    if not root:\n",
    "        return 0\n",
    "    ret = 0\n",
    "    queue = [[(root, False)]]\n",
    "    while queue:\n",
    "        cur_layer = queue.pop()\n",
    "        next_layer = []\n",
    "        for (node, isLeft) in cur_layer:\n",
    "            if isLeft and not node.left and not node.right:\n",
    "                ret += node.val\n",
    "            if node.left:\n",
    "                next_layer.append((node.left, True))\n",
    "            if node.right:\n",
    "                next_layer.append((node.right, False))\n",
    "        if next_layer:\n",
    "            queue.append(next_layer)\n",
    "    return ret"
   ]
  },
  {
   "cell_type": "code",
   "execution_count": 6,
   "metadata": {},
   "outputs": [
    {
     "data": {
      "text/plain": [
       "24"
      ]
     },
     "execution_count": 6,
     "metadata": {},
     "output_type": "execute_result"
    }
   ],
   "source": [
    "sumOfLeftLeaves(root)"
   ]
  },
  {
   "cell_type": "code",
   "execution_count": null,
   "metadata": {},
   "outputs": [],
   "source": []
  }
 ],
 "metadata": {
  "kernelspec": {
   "display_name": "Python 3",
   "language": "python",
   "name": "python3"
  },
  "language_info": {
   "codemirror_mode": {
    "name": "ipython",
    "version": 3
   },
   "file_extension": ".py",
   "mimetype": "text/x-python",
   "name": "python",
   "nbconvert_exporter": "python",
   "pygments_lexer": "ipython3",
   "version": "3.6.5"
  }
 },
 "nbformat": 4,
 "nbformat_minor": 2
}
