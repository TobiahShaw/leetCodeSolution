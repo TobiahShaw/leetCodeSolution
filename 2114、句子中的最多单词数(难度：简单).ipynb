{
 "cells": [
  {
   "cell_type": "markdown",
   "metadata": {},
   "source": [
    "# 句子中的最多单词数\n",
    "\n",
    "**题目来源：力扣（LeetCode）**\n",
    "\n",
    "**链接：https://leetcode-cn.com/problems/maximum-number-of-words-found-in-sentences/**\n",
    "\n",
    "## 一、题目\n",
    "\n",
    "一个 句子 由一些 单词 以及它们之间的单个空格组成，句子的开头和结尾不会有多余空格。\n",
    "\n",
    "给你一个字符串数组 sentences ，其中 sentences[i] 表示单个 句子 。\n",
    "\n",
    "请你返回单个句子里 单词的最多数目 。\n",
    "\n",
    "### 提示：\n",
    "\n",
    "- 1 <= sentences.length <= 100\n",
    "- 1 <= sentences[i].length <= 100\n",
    "- sentences[i] 只包含小写英文字母和 ' ' 。\n",
    "- sentences[i] 的开头和结尾都没有空格。\n",
    "- sentences[i] 中所有单词由单个空格隔开。\n",
    "\n",
    "## 二、示例\n",
    "\n",
    "### 示例 1：\n",
    "\n",
    "输入：sentences = [\"alice and bob love leetcode\", \"i think so too\", \"this is great thanks very much\"]\n",
    "\n",
    "输出：6\n",
    "\n",
    "解释：\n",
    "\n",
    "- 第一个句子 \"alice and bob love leetcode\" 总共有 5 个单词。\n",
    "- 第二个句子 \"i think so too\" 总共有 4 个单词。\n",
    "- 第三个句子 \"this is great thanks very much\" 总共有 6 个单词。\n",
    "\n",
    "所以，单个句子中有最多单词数的是第三个句子，总共有 6 个单词。\n",
    "\n",
    "### 示例 2：\n",
    "\n",
    "输入：sentences = [\"please wait\", \"continue to fight\", \"continue to win\"]\n",
    "\n",
    "输出：3\n",
    "\n",
    "解释：可能有多个句子有相同单词数。\n",
    "\n",
    "这个例子中，第二个句子和第三个句子有相同数目的单词数。\n",
    "\n",
    "## 三、解题思路\n",
    "\n",
    "### 轮询"
   ]
  },
  {
   "cell_type": "code",
   "execution_count": 1,
   "metadata": {},
   "outputs": [],
   "source": [
    "def mostWordsFound(sentences) -> int:\n",
    "    maxLen = 0\n",
    "    for s in sentences:\n",
    "        arr = s.split(' ')\n",
    "        maxLen = max(maxLen, len(arr))\n",
    "    return maxLen"
   ]
  },
  {
   "cell_type": "code",
   "execution_count": 2,
   "metadata": {},
   "outputs": [
    {
     "data": {
      "text/plain": [
       "6"
      ]
     },
     "execution_count": 2,
     "metadata": {},
     "output_type": "execute_result"
    }
   ],
   "source": [
    "mostWordsFound([\"alice and bob love leetcode\", \"i think so too\", \"this is great thanks very much\"])"
   ]
  },
  {
   "cell_type": "code",
   "execution_count": 3,
   "metadata": {},
   "outputs": [
    {
     "data": {
      "text/plain": [
       "3"
      ]
     },
     "execution_count": 3,
     "metadata": {},
     "output_type": "execute_result"
    }
   ],
   "source": [
    "mostWordsFound([\"please wait\", \"continue to fight\", \"continue to win\"])"
   ]
  },
  {
   "cell_type": "code",
   "execution_count": null,
   "metadata": {},
   "outputs": [],
   "source": []
  }
 ],
 "metadata": {
  "kernelspec": {
   "display_name": "Python 3",
   "language": "python",
   "name": "python3"
  },
  "language_info": {
   "codemirror_mode": {
    "name": "ipython",
    "version": 3
   },
   "file_extension": ".py",
   "mimetype": "text/x-python",
   "name": "python",
   "nbconvert_exporter": "python",
   "pygments_lexer": "ipython3",
   "version": "3.6.5"
  }
 },
 "nbformat": 4,
 "nbformat_minor": 2
}
