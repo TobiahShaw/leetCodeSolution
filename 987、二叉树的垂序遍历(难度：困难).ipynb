{
 "cells": [
  {
   "cell_type": "markdown",
   "metadata": {},
   "source": [
    "# 二叉树的垂序遍历\n",
    "\n",
    "**题目来源：力扣（LeetCode）**\n",
    "\n",
    "**链接：https://leetcode-cn.com/problems/vertical-order-traversal-of-a-binary-tree/**\n",
    "\n",
    "## 一、题目\n",
    "\n",
    "给你二叉树的根结点 root ，请你设计算法计算二叉树的 垂序遍历 序列。\n",
    "\n",
    "对位于 (row, col) 的每个结点而言，其左右子结点分别位于 (row + 1, col - 1) 和 (row + 1, col + 1) 。树的根结点位于 (0, 0) 。\n",
    "\n",
    "二叉树的 垂序遍历 从最左边的列开始直到最右边的列结束，按列索引每一列上的所有结点，形成一个按出现位置从上到下排序的有序列表。如果同行同列上有多个结点，则按结点的值从小到大进行排序。\n",
    "\n",
    "返回二叉树的 垂序遍历 序列。\n",
    "\n",
    "## 二、示例\n",
    "\n",
    "### 示例 1：\n",
    "\n",
    "输入：root = [3,9,20,null,null,15,7]\n",
    "\n",
    "输出：[[9],[3,15],[20],[7]]\n",
    "\n",
    "解释：\n",
    "\n",
    "- 列 -1 ：只有结点 9 在此列中。\n",
    "- 列  0 ：只有结点 3 和 15 在此列中，按从上到下顺序。\n",
    "- 列  1 ：只有结点 20 在此列中。\n",
    "- 列  2 ：只有结点 7 在此列中。\n",
    "\n",
    "### 示例 2：\n",
    "\n",
    "输入：root = [1,2,3,4,5,6,7]\n",
    "\n",
    "输出：[[4],[2],[1,5,6],[3],[7]]\n",
    "\n",
    "解释：\n",
    "\n",
    "- 列 -2 ：只有结点 4 在此列中。\n",
    "- 列 -1 ：只有结点 2 在此列中。\n",
    "- 列  0 ：结点 1 、5 和 6 都在此列中。\n",
    "          1 在上面，所以它出现在前面。\n",
    "          5 和 6 位置都是 (2, 0) ，所以按值从小到大排序，5 在 6 的前面。\n",
    "- 列  1 ：只有结点 3 在此列中。\n",
    "- 列  2 ：只有结点 7 在此列中。\n",
    "\n",
    "### 示例 3：\n",
    "\n",
    "输入：root = [1,2,3,4,6,5,7]\n",
    "\n",
    "输出：[[4],[2],[1,5,6],[3],[7]]\n",
    "\n",
    "解释：\n",
    "\n",
    "这个示例实际上与示例 2 完全相同，只是结点 5 和 6 在树中的位置发生了交换。因为 5 和 6 的位置仍然相同，所以答案保持不变，仍然按值从小到大排序。\n",
    "\n",
    "## 三、解题思路"
   ]
  },
  {
   "cell_type": "code",
   "execution_count": 1,
   "metadata": {},
   "outputs": [],
   "source": [
    "class TreeNode:\n",
    "    def __init__(self, val=0, left=None, right=None):\n",
    "        self.val = val\n",
    "        self.left = left\n",
    "        self.right = right\n",
    "        \n",
    "root = TreeNode(3)\n",
    "\n",
    "root.left = TreeNode(9)\n",
    "root.right = TreeNode(20)\n",
    "\n",
    "\n",
    "root.right.left = TreeNode(15)\n",
    "root.right.right = TreeNode(7)"
   ]
  },
  {
   "cell_type": "markdown",
   "metadata": {},
   "source": [
    "### 层序遍历\n",
    "\n",
    "层序可以确定row，再记录父节点的row来确定row"
   ]
  },
  {
   "cell_type": "code",
   "execution_count": 2,
   "metadata": {},
   "outputs": [],
   "source": [
    "def verticalTraversal(root: TreeNode):\n",
    "    dic = {}\n",
    "    layer = [(0, root)]\n",
    "    while layer:\n",
    "        nextLayer = []\n",
    "        tmp = {}\n",
    "        for pair in layer:\n",
    "            if pair[0] in tmp:\n",
    "                tmp[pair[0]].append(pair[1].val)\n",
    "            else:\n",
    "                tmp[pair[0]] = [pair[1].val]\n",
    "            if pair[1].left:\n",
    "                nextLayer.append((pair[0]-1, pair[1].left))\n",
    "            if pair[1].right:\n",
    "                nextLayer.append((pair[0]+1, pair[1].right))\n",
    "        for key in tmp.keys():\n",
    "            if key in dic:\n",
    "                dic[key].extend(sorted(tmp[key]))\n",
    "            else:\n",
    "                dic[key] = sorted(tmp[key])\n",
    "        layer = nextLayer\n",
    "    ret = []\n",
    "    for key in sorted(dic.keys()):\n",
    "        ret.append(dic[key])\n",
    "    return ret"
   ]
  },
  {
   "cell_type": "code",
   "execution_count": 3,
   "metadata": {},
   "outputs": [
    {
     "data": {
      "text/plain": [
       "[[9], [3, 15], [20], [7]]"
      ]
     },
     "execution_count": 3,
     "metadata": {},
     "output_type": "execute_result"
    }
   ],
   "source": [
    "verticalTraversal(root)"
   ]
  },
  {
   "cell_type": "code",
   "execution_count": null,
   "metadata": {},
   "outputs": [],
   "source": []
  }
 ],
 "metadata": {
  "kernelspec": {
   "display_name": "Python 3",
   "language": "python",
   "name": "python3"
  },
  "language_info": {
   "codemirror_mode": {
    "name": "ipython",
    "version": 3
   },
   "file_extension": ".py",
   "mimetype": "text/x-python",
   "name": "python",
   "nbconvert_exporter": "python",
   "pygments_lexer": "ipython3",
   "version": "3.6.5"
  }
 },
 "nbformat": 4,
 "nbformat_minor": 2
}
