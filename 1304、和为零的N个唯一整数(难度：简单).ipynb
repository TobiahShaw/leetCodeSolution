{
 "cells": [
  {
   "cell_type": "markdown",
   "metadata": {
    "collapsed": true
   },
   "source": [
    "# 和为零的N个唯一整数\n",
    "\n",
    "**题目来源：力扣（LeetCode）**\n",
    "\n",
    "**链接：https://leetcode.cn/problems/find-n-unique-integers-sum-up-to-zero/**\n",
    "\n",
    "## 一、题目\n",
    "\n",
    "给你一个整数 n，请你返回 任意 一个由 n 个 各不相同 的整数组成的数组，并且这 n 个数相加和为 0 。\n",
    "\n",
    "### 提示：\n",
    "\n",
    "- 1 <= n <= 1000\n",
    "\n",
    "## 二、示例\n",
    "\n",
    "### 示例 1：\n",
    "\n",
    "输入：n = 5\n",
    "\n",
    "输出：[-7,-1,1,3,4]\n",
    "\n",
    "解释：这些数组也是正确的 [-5,-1,1,2,3]，[-3,-1,2,-2,4]。\n",
    "\n",
    "### 示例 2：\n",
    "\n",
    "输入：n = 3\n",
    "\n",
    "输出：[-1,0,1]\n",
    "\n",
    "### 示例 3：\n",
    "\n",
    "输入：n = 1\n",
    "\n",
    "输出：[0]\n",
    "\n",
    "## 三、解题思路\n",
    "\n",
    "### 添加相反数"
   ]
  },
  {
   "cell_type": "code",
   "execution_count": 1,
   "metadata": {},
   "outputs": [],
   "source": [
    "def sumZero(n):\n",
    "    res = []\n",
    "    for i in range(n // 2):\n",
    "        res.append(i + 1)\n",
    "        res.append(-i - 1)\n",
    "    if n % 2 == 1:\n",
    "        res.append(0)\n",
    "    return res"
   ]
  },
  {
   "cell_type": "code",
   "execution_count": 2,
   "metadata": {},
   "outputs": [
    {
     "data": {
      "text/plain": [
       "[1, -1, 2, -2, 0]"
      ]
     },
     "execution_count": 2,
     "metadata": {},
     "output_type": "execute_result"
    }
   ],
   "source": [
    "sumZero(5)"
   ]
  },
  {
   "cell_type": "code",
   "execution_count": 3,
   "metadata": {},
   "outputs": [
    {
     "data": {
      "text/plain": [
       "[1, -1, 0]"
      ]
     },
     "execution_count": 3,
     "metadata": {},
     "output_type": "execute_result"
    }
   ],
   "source": [
    "sumZero(3)"
   ]
  },
  {
   "cell_type": "code",
   "execution_count": 4,
   "metadata": {},
   "outputs": [
    {
     "data": {
      "text/plain": [
       "[0]"
      ]
     },
     "execution_count": 4,
     "metadata": {},
     "output_type": "execute_result"
    }
   ],
   "source": [
    "sumZero(1)"
   ]
  },
  {
   "cell_type": "code",
   "execution_count": null,
   "metadata": {},
   "outputs": [],
   "source": []
  }
 ],
 "metadata": {
  "kernelspec": {
   "display_name": "Python 3",
   "language": "python",
   "name": "python3"
  },
  "language_info": {
   "codemirror_mode": {
    "name": "ipython",
    "version": 3
   },
   "file_extension": ".py",
   "mimetype": "text/x-python",
   "name": "python",
   "nbconvert_exporter": "python",
   "pygments_lexer": "ipython3",
   "version": "3.6.5"
  }
 },
 "nbformat": 4,
 "nbformat_minor": 2
}
