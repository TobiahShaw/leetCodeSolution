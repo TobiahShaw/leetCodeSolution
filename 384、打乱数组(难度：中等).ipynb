{
  "cells": [
    {
      "metadata": {
        "collapsed": true
      },
      "cell_type": "markdown",
      "source": "# 打乱数组\n\n**题目来源：力扣（LeetCode）**\n\n**链接：https://leetcode-cn.com/problems/shuffle-an-array/**\n\n## 一、题目\n\n打乱一个没有重复元素的数组。\n\n## 二、示例\n\n```java\n// 以数字集合 1, 2 和 3 初始化数组。\nint[] nums = {1,2,3};\nSolution solution = new Solution(nums);\n\n// 打乱数组 [1,2,3] 并返回结果。任何 [1,2,3]的排列返回的概率应该相同。\nsolution.shuffle();\n\n// 重设数组到它的初始状态[1,2,3]。\nsolution.reset();\n\n// 随机返回数组[1,2,3]打乱后的结果。\nsolution.shuffle();\n```\n\n## 三、解题思路\n\n### 洗牌算法"
    },
    {
      "metadata": {
        "trusted": true
      },
      "cell_type": "code",
      "source": "import random\nclass Solution:\n\n    def __init__(self, nums):\n        self.array = nums\n        self.original = nums[:]\n        self.size = len(nums)\n\n    def reset(self):\n        \"\"\"\n        Resets the array to its original configuration and return it.\n        \"\"\"\n        self.array = self.original[:]\n        return self.array\n\n    def shuffle(self):\n        \"\"\"\n        Returns a random shuffling of the array.\n        \"\"\"\n        for i in range(self.size):\n            sw_id = random.randrange(i, self.size)\n            self.array[i], self.array[sw_id] = self.array[sw_id], self.array[i]\n        return self.array",
      "execution_count": 1,
      "outputs": []
    },
    {
      "metadata": {
        "trusted": true
      },
      "cell_type": "code",
      "source": "s = Solution([1, 2, 3])",
      "execution_count": 2,
      "outputs": []
    },
    {
      "metadata": {
        "trusted": true
      },
      "cell_type": "code",
      "source": "s.shuffle()",
      "execution_count": 3,
      "outputs": [
        {
          "output_type": "execute_result",
          "execution_count": 3,
          "data": {
            "text/plain": "[2, 1, 3]"
          },
          "metadata": {}
        }
      ]
    },
    {
      "metadata": {
        "trusted": true
      },
      "cell_type": "code",
      "source": "s.reset()",
      "execution_count": 4,
      "outputs": [
        {
          "output_type": "execute_result",
          "execution_count": 4,
          "data": {
            "text/plain": "[1, 2, 3]"
          },
          "metadata": {}
        }
      ]
    },
    {
      "metadata": {
        "trusted": true
      },
      "cell_type": "code",
      "source": "s.shuffle()",
      "execution_count": 5,
      "outputs": [
        {
          "output_type": "execute_result",
          "execution_count": 5,
          "data": {
            "text/plain": "[1, 2, 3]"
          },
          "metadata": {}
        }
      ]
    },
    {
      "metadata": {
        "trusted": true
      },
      "cell_type": "code",
      "source": "",
      "execution_count": null,
      "outputs": []
    }
  ],
  "metadata": {
    "kernelspec": {
      "name": "python36",
      "display_name": "Python 3.6",
      "language": "python"
    },
    "language_info": {
      "mimetype": "text/x-python",
      "nbconvert_exporter": "python",
      "name": "python",
      "pygments_lexer": "ipython3",
      "version": "3.6.6",
      "file_extension": ".py",
      "codemirror_mode": {
        "version": 3,
        "name": "ipython"
      }
    }
  },
  "nbformat": 4,
  "nbformat_minor": 2
}