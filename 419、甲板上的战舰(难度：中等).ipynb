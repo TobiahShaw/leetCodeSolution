{
 "cells": [
  {
   "cell_type": "markdown",
   "metadata": {},
   "source": [
    "# 甲板上的战舰\n",
    "\n",
    "**题目来源：力扣（LeetCode）**\n",
    "\n",
    "**链接：https://leetcode-cn.com/problems/battleships-in-a-board/**\n",
    "\n",
    "## 一、题目\n",
    "\n",
    "给你一个大小为 m x n 的矩阵 board 表示甲板，其中，每个单元格可以是一艘战舰 'X' 或者是一个空位 '.' ，返回在甲板 board 上放置的 战舰 的数量。\n",
    "\n",
    "战舰 只能水平或者垂直放置在 board 上。换句话说，战舰只能按 1 x k（1 行，k 列）或 k x 1（k 行，1 列）的形状建造，其中 k 可以是任意大小。两艘战舰之间至少有一个水平或垂直的空位分隔 （即没有相邻的战舰）。\n",
    "\n",
    "### 提示：\n",
    "\n",
    "- m == board.length\n",
    "- n == board[i].length\n",
    "- 1 <= m, n <= 200\n",
    "- board[i][j] 是 '.' 或 'X'\n",
    "\n",
    "### 进阶：\n",
    "\n",
    "- 你可以实现一次扫描算法，并只使用 O(1) 额外空间，并且不修改 board 的值来解决这个问题吗？\n",
    "\n",
    "## 二、示例\n",
    "\n",
    "### 示例 1：\n",
    "\n",
    "输入：board = [[\"X\",\".\",\".\",\"X\"],[\".\",\".\",\".\",\"X\"],[\".\",\".\",\".\",\"X\"]]\n",
    "\n",
    "输出：2\n",
    "\n",
    "### 示例 2：\n",
    "\n",
    "输入：board = [[\".\"]]\n",
    "\n",
    "输出：0\n",
    "\n",
    "## 三、解题思路\n",
    "\n",
    "### 深度优先搜索"
   ]
  },
  {
   "cell_type": "code",
   "execution_count": 1,
   "metadata": {},
   "outputs": [],
   "source": [
    "def countBattleships(board) -> int:\n",
    "    m, n = len(board), len(board[0])\n",
    "    ret = 0\n",
    "    for i in range(m):\n",
    "        for j in range(n):\n",
    "            cur = board[i][j]\n",
    "            if cur != 'X':\n",
    "                continue\n",
    "            orient = 0\n",
    "            ret += 1\n",
    "            board[i][j] = ret\n",
    "            if j + 1 < n and board[i][j+1] == 'X':\n",
    "                orient = 1\n",
    "            elif i + 1 < m and board[i+1][j] == 'X':\n",
    "                orient = 2\n",
    "            if orient == 0:\n",
    "                continue\n",
    "            offset = 1\n",
    "            while (orient == 1 and (j + offset < n) and board[i][j+offset] == 'X'):\n",
    "                board[i][j+offset] = ret\n",
    "                offset += 1\n",
    "            while (orient == 2 and (i + offset < m) and board[i+offset][j] == 'X'):\n",
    "                board[i+offset][j] = ret\n",
    "                offset += 1\n",
    "    return ret"
   ]
  },
  {
   "cell_type": "code",
   "execution_count": 2,
   "metadata": {},
   "outputs": [
    {
     "data": {
      "text/plain": [
       "2"
      ]
     },
     "execution_count": 2,
     "metadata": {},
     "output_type": "execute_result"
    }
   ],
   "source": [
    "countBattleships([[\"X\",\".\",\".\",\"X\"],[\".\",\".\",\".\",\"X\"],[\".\",\".\",\".\",\"X\"]])"
   ]
  },
  {
   "cell_type": "code",
   "execution_count": 3,
   "metadata": {},
   "outputs": [
    {
     "data": {
      "text/plain": [
       "0"
      ]
     },
     "execution_count": 3,
     "metadata": {},
     "output_type": "execute_result"
    }
   ],
   "source": [
    "countBattleships([[\".\"]])"
   ]
  },
  {
   "cell_type": "code",
   "execution_count": null,
   "metadata": {},
   "outputs": [],
   "source": []
  }
 ],
 "metadata": {
  "kernelspec": {
   "display_name": "Python 3",
   "language": "python",
   "name": "python3"
  },
  "language_info": {
   "codemirror_mode": {
    "name": "ipython",
    "version": 3
   },
   "file_extension": ".py",
   "mimetype": "text/x-python",
   "name": "python",
   "nbconvert_exporter": "python",
   "pygments_lexer": "ipython3",
   "version": "3.6.5"
  }
 },
 "nbformat": 4,
 "nbformat_minor": 2
}
