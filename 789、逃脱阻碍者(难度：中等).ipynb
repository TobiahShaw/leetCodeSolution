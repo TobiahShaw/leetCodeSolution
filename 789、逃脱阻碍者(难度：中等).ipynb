{
 "cells": [
  {
   "cell_type": "markdown",
   "metadata": {},
   "source": [
    "# 逃脱阻碍者\n",
    "\n",
    "**题目来源：力扣（LeetCode）**\n",
    "\n",
    "**链接：https://leetcode-cn.com/problems/escape-the-ghosts/**\n",
    "\n",
    "## 一、题目\n",
    "\n",
    "你在进行一个简化版的吃豆人游戏。你从 [0, 0] 点开始出发，你的目的地是 target = [xtarget, ytarget] 。地图上有一些阻碍者，以数组 ghosts 给出，第 i 个阻碍者从 ghosts[i] = [xi, yi] 出发。所有输入均为 整数坐标 。\n",
    "\n",
    "每一回合，你和阻碍者们可以同时向东，西，南，北四个方向移动，每次可以移动到距离原位置 1 个单位 的新位置。当然，也可以选择 不动 。所有动作 同时 发生。\n",
    "\n",
    "如果你可以在任何阻碍者抓住你 之前 到达目的地（阻碍者可以采取任意行动方式），则被视为逃脱成功。如果你和阻碍者同时到达了一个位置（包括目的地）都不算是逃脱成功。\n",
    "\n",
    "只有在你有可能成功逃脱时，输出 true ；否则，输出 false 。\n",
    "\n",
    "#### 提示：\n",
    "\n",
    "- 1 <= ghosts.length <= 100\n",
    "- ghosts[i].length == 2\n",
    "- -10^4 <= xi, yi <= 10^4\n",
    "- 同一位置可能有 多个阻碍者 。\n",
    "- target.length == 2\n",
    "- -10^4 <= xtarget, ytarget <= 10^4\n",
    "\n",
    "## 二、示例\n",
    "\n",
    "### 示例 1：\n",
    "\n",
    "输入：ghosts = [[1,0],[0,3]], target = [0,1]\n",
    "\n",
    "输出：true\n",
    "\n",
    "解释：你可以直接一步到达目的地 (0,1) ，在 (1, 0) 或者 (0, 3) 位置的阻碍者都不可能抓住你。 \n",
    "\n",
    "### 示例 2：\n",
    "\n",
    "输入：ghosts = [[1,0]], target = [2,0]\n",
    "\n",
    "输出：false\n",
    "\n",
    "解释：你需要走到位于 (2, 0) 的目的地，但是在 (1, 0) 的阻碍者位于你和目的地之间。 \n",
    "\n",
    "### 示例 3：\n",
    "\n",
    "输入：ghosts = [[2,0]], target = [1,0]\n",
    "\n",
    "输出：false\n",
    "\n",
    "解释：阻碍者可以和你同时达到目的地。 \n",
    "\n",
    "### 示例 4：\n",
    "\n",
    "输入：ghosts = [[5,0],[-10,-2],[0,-5],[-2,-2],[-7,1]], target = [7,7]\n",
    "\n",
    "输出：false\n",
    "\n",
    "### 示例 5：\n",
    "\n",
    "输入：ghosts = [[-1,0],[0,1],[-1,0],[0,1],[-1,0]], target = [0,0]\n",
    "\n",
    "输出：true\n",
    "\n",
    "## 三、解题思路\n",
    "\n",
    "### 曼哈顿距离\n",
    "\n",
    "只要你离终点的曼哈顿距离小于ghosts的就可以到达终点"
   ]
  },
  {
   "cell_type": "code",
   "execution_count": 1,
   "metadata": {},
   "outputs": [],
   "source": [
    "def escapeGhosts(ghosts, target) -> bool:\n",
    "    def manhattanDistance(p1, p2):\n",
    "        return abs(p2[0] - p1[0]) + abs(p2[1] - p1[1])\n",
    "    myDis = manhattanDistance([0, 0], target)\n",
    "    return all(manhattanDistance(ghost, target) > myDis for ghost in ghosts)"
   ]
  },
  {
   "cell_type": "code",
   "execution_count": 2,
   "metadata": {},
   "outputs": [
    {
     "data": {
      "text/plain": [
       "True"
      ]
     },
     "execution_count": 2,
     "metadata": {},
     "output_type": "execute_result"
    }
   ],
   "source": [
    "escapeGhosts(ghosts = [[1,0],[0,3]], target = [0,1])"
   ]
  },
  {
   "cell_type": "code",
   "execution_count": 3,
   "metadata": {},
   "outputs": [
    {
     "data": {
      "text/plain": [
       "False"
      ]
     },
     "execution_count": 3,
     "metadata": {},
     "output_type": "execute_result"
    }
   ],
   "source": [
    "escapeGhosts(ghosts = [[1,0]], target = [2,0])"
   ]
  },
  {
   "cell_type": "code",
   "execution_count": 4,
   "metadata": {},
   "outputs": [
    {
     "data": {
      "text/plain": [
       "False"
      ]
     },
     "execution_count": 4,
     "metadata": {},
     "output_type": "execute_result"
    }
   ],
   "source": [
    "escapeGhosts(ghosts = [[2,0]], target = [1,0])"
   ]
  },
  {
   "cell_type": "code",
   "execution_count": 5,
   "metadata": {},
   "outputs": [
    {
     "data": {
      "text/plain": [
       "False"
      ]
     },
     "execution_count": 5,
     "metadata": {},
     "output_type": "execute_result"
    }
   ],
   "source": [
    "escapeGhosts(ghosts = [[5,0],[-10,-2],[0,-5],[-2,-2],[-7,1]], target = [7,7])"
   ]
  },
  {
   "cell_type": "code",
   "execution_count": 6,
   "metadata": {},
   "outputs": [
    {
     "data": {
      "text/plain": [
       "True"
      ]
     },
     "execution_count": 6,
     "metadata": {},
     "output_type": "execute_result"
    }
   ],
   "source": [
    "escapeGhosts(ghosts = [[-1,0],[0,1],[-1,0],[0,1],[-1,0]], target = [0,0])"
   ]
  },
  {
   "cell_type": "code",
   "execution_count": null,
   "metadata": {},
   "outputs": [],
   "source": []
  }
 ],
 "metadata": {
  "kernelspec": {
   "display_name": "Python 3",
   "language": "python",
   "name": "python3"
  },
  "language_info": {
   "codemirror_mode": {
    "name": "ipython",
    "version": 3
   },
   "file_extension": ".py",
   "mimetype": "text/x-python",
   "name": "python",
   "nbconvert_exporter": "python",
   "pygments_lexer": "ipython3",
   "version": "3.6.5"
  }
 },
 "nbformat": 4,
 "nbformat_minor": 2
}
