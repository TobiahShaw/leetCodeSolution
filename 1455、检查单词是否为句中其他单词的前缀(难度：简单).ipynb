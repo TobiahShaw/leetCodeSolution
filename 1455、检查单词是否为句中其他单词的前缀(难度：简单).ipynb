{
 "cells": [
  {
   "cell_type": "markdown",
   "metadata": {},
   "source": [
    "# 检查单词是否为句中其他单词的前缀\n",
    "\n",
    "**题目来源：力扣（LeetCode）**\n",
    "\n",
    "**链接：https://leetcode-cn.com/problems/check-if-a-word-occurs-as-a-prefix-of-any-word-in-a-sentence/**\n",
    "\n",
    "## 一、题目\n",
    "\n",
    "给你一个字符串 sentence 作为句子并指定检索词为 searchWord ，其中句子由若干用 单个空格 分隔的单词组成。请你检查检索词 searchWord 是否为句子 sentence 中任意单词的前缀。\n",
    "\n",
    "如果 searchWord 是某一个单词的前缀，则返回句子 sentence 中该单词所对应的下标（下标从 1 开始）。如果 searchWord 是多个单词的前缀，则返回匹配的第一个单词的下标（最小下标）。如果 searchWord 不是任何单词的前缀，则返回 -1 。\n",
    "\n",
    "字符串 s 的 前缀 是 s 的任何前导连续子字符串。\n",
    "\n",
    "### 提示：\n",
    "\n",
    "- 1 <= sentence.length <= 100\n",
    "- 1 <= searchWord.length <= 10\n",
    "- sentence 由小写英文字母和空格组成。\n",
    "- searchWord 由小写英文字母组成。\n",
    "\n",
    "## 二、示例\n",
    "\n",
    "### 示例 1：\n",
    "\n",
    "输入：sentence = \"i love eating burger\", searchWord = \"burg\"\n",
    "\n",
    "输出：4\n",
    "\n",
    "解释：\"burg\" 是 \"burger\" 的前缀，而 \"burger\" 是句子中第 4 个单词。\n",
    "\n",
    "### 示例 2：\n",
    "\n",
    "输入：sentence = \"this problem is an easy problem\", searchWord = \"pro\"\n",
    "\n",
    "输出：2\n",
    "\n",
    "解释：\"pro\" 是 \"problem\" 的前缀，而 \"problem\" 是句子中第 2 个也是第 6 个单词，但是应该返回最小下标 2 。\n",
    "\n",
    "### 示例 3：\n",
    "\n",
    "输入：sentence = \"i am tired\", searchWord = \"you\"\n",
    "\n",
    "输出：-1\n",
    "\n",
    "解释：\"you\" 不是句子中任何单词的前缀。\n",
    "\n",
    "### 示例 4：\n",
    "\n",
    "输入：sentence = \"i use triple pillow\", searchWord = \"pill\"\n",
    "\n",
    "输出：4\n",
    "\n",
    "### 示例 5：\n",
    "\n",
    "输入：sentence = \"hello from the other side\", searchWord = \"they\"\n",
    "\n",
    "输出：-1\n",
    "\n",
    "## 三、解题思路\n",
    "\n",
    "### split后匹配"
   ]
  },
  {
   "cell_type": "code",
   "execution_count": 1,
   "metadata": {},
   "outputs": [],
   "source": [
    "def isPrefixOfWord(sentence: str, searchWord: str) -> int:\n",
    "    words = sentence.split()\n",
    "    n = len(searchWord)\n",
    "    for i in range(len(words)):\n",
    "        if words[i][:n] == searchWord:\n",
    "            return i+1\n",
    "    return -1"
   ]
  },
  {
   "cell_type": "code",
   "execution_count": 2,
   "metadata": {},
   "outputs": [
    {
     "data": {
      "text/plain": [
       "4"
      ]
     },
     "execution_count": 2,
     "metadata": {},
     "output_type": "execute_result"
    }
   ],
   "source": [
    "isPrefixOfWord(sentence = \"i love eating burger\", searchWord = \"burg\")"
   ]
  },
  {
   "cell_type": "code",
   "execution_count": 3,
   "metadata": {},
   "outputs": [
    {
     "data": {
      "text/plain": [
       "2"
      ]
     },
     "execution_count": 3,
     "metadata": {},
     "output_type": "execute_result"
    }
   ],
   "source": [
    "isPrefixOfWord(sentence = \"this problem is an easy problem\", searchWord = \"pro\")"
   ]
  },
  {
   "cell_type": "code",
   "execution_count": 4,
   "metadata": {},
   "outputs": [
    {
     "data": {
      "text/plain": [
       "-1"
      ]
     },
     "execution_count": 4,
     "metadata": {},
     "output_type": "execute_result"
    }
   ],
   "source": [
    "isPrefixOfWord(sentence = \"i am tired\", searchWord = \"you\")"
   ]
  },
  {
   "cell_type": "code",
   "execution_count": 5,
   "metadata": {},
   "outputs": [
    {
     "data": {
      "text/plain": [
       "4"
      ]
     },
     "execution_count": 5,
     "metadata": {},
     "output_type": "execute_result"
    }
   ],
   "source": [
    "isPrefixOfWord(sentence = \"i use triple pillow\", searchWord = \"pill\")"
   ]
  },
  {
   "cell_type": "code",
   "execution_count": 6,
   "metadata": {},
   "outputs": [
    {
     "data": {
      "text/plain": [
       "-1"
      ]
     },
     "execution_count": 6,
     "metadata": {},
     "output_type": "execute_result"
    }
   ],
   "source": [
    "isPrefixOfWord(sentence = \"hello from the other side\", searchWord = \"they\")"
   ]
  },
  {
   "cell_type": "code",
   "execution_count": null,
   "metadata": {},
   "outputs": [],
   "source": []
  }
 ],
 "metadata": {
  "kernelspec": {
   "display_name": "Python 3",
   "language": "python",
   "name": "python3"
  },
  "language_info": {
   "codemirror_mode": {
    "name": "ipython",
    "version": 3
   },
   "file_extension": ".py",
   "mimetype": "text/x-python",
   "name": "python",
   "nbconvert_exporter": "python",
   "pygments_lexer": "ipython3",
   "version": "3.6.5"
  }
 },
 "nbformat": 4,
 "nbformat_minor": 2
}
