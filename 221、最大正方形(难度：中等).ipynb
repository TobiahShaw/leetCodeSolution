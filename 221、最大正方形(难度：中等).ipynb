{
 "cells": [
  {
   "cell_type": "markdown",
   "metadata": {},
   "source": [
    "# 最大正方形\n",
    "\n",
    "**题目来源：力扣（LeetCode）**\n",
    "\n",
    "**链接：https://leetcode-cn.com/problems/maximal-square/**\n",
    "\n",
    "## 一、题目\n",
    "\n",
    "在一个由 '0' 和 '1' 组成的二维矩阵内，找到只包含 '1' 的最大正方形，并返回其面积。\n",
    "\n",
    "### 提示：\n",
    "\n",
    "- m == matrix.length\n",
    "- n == matrix[i].length\n",
    "- 1 <= m, n <= 300\n",
    "- matrix[i][j] 为 '0' 或 '1'\n",
    "\n",
    "## 二、示例\n",
    "\n",
    "### 示例 1：\n",
    "\n",
    "输入：matrix = [[\"1\",\"0\",\"1\",\"0\",\"0\"],[\"1\",\"0\",\"1\",\"1\",\"1\"],[\"1\",\"1\",\"1\",\"1\",\"1\"],[\"1\",\"0\",\"0\",\"1\",\"0\"]]\n",
    "\n",
    "输出：4\n",
    "\n",
    "### 示例 2：\n",
    "\n",
    "输入：matrix = [[\"0\",\"1\"],[\"1\",\"0\"]]\n",
    "\n",
    "输出：1\n",
    "\n",
    "### 示例 3：\n",
    "\n",
    "输入：matrix = [[\"0\"]]\n",
    "\n",
    "输出：0\n",
    "\n",
    "## 三、解题思路\n",
    "\n",
    "### 暴力法"
   ]
  },
  {
   "cell_type": "code",
   "execution_count": 1,
   "metadata": {},
   "outputs": [],
   "source": [
    "def maximalSquare(matrix) -> int:\n",
    "    if len(matrix) == 0 or len(matrix[0]) == 0:\n",
    "        return 0\n",
    "    \n",
    "    maxSide = 0\n",
    "    rows, columns = len(matrix), len(matrix[0])\n",
    "    for i in range(rows):\n",
    "        for j in range(columns):\n",
    "            if matrix[i][j] == '1':\n",
    "                # 遇到一个 1 作为正方形的左上角\n",
    "                maxSide = max(maxSide, 1)\n",
    "                # 计算可能的最大正方形边长\n",
    "                currentMaxSide = min(rows - i, columns - j)\n",
    "                for k in range(1, currentMaxSide):\n",
    "                    # 判断新增的一行一列是否均为 1\n",
    "                    flag = True\n",
    "                    if matrix[i + k][j + k] == '0':\n",
    "                        break\n",
    "                    for m in range(k):\n",
    "                        if matrix[i + k][j + m] == '0' or matrix[i + m][j + k] == '0':\n",
    "                            flag = False\n",
    "                            break\n",
    "                    if flag:\n",
    "                        maxSide = max(maxSide, k + 1)\n",
    "                    else:\n",
    "                        break\n",
    "    \n",
    "    maxSquare = maxSide * maxSide\n",
    "    return maxSquare"
   ]
  },
  {
   "cell_type": "code",
   "execution_count": 2,
   "metadata": {},
   "outputs": [
    {
     "data": {
      "text/plain": [
       "4"
      ]
     },
     "execution_count": 2,
     "metadata": {},
     "output_type": "execute_result"
    }
   ],
   "source": [
    "maximalSquare([[\"1\",\"0\",\"1\",\"0\",\"0\"],[\"1\",\"0\",\"1\",\"1\",\"1\"],[\"1\",\"1\",\"1\",\"1\",\"1\"],[\"1\",\"0\",\"0\",\"1\",\"0\"]])"
   ]
  },
  {
   "cell_type": "code",
   "execution_count": 3,
   "metadata": {},
   "outputs": [
    {
     "data": {
      "text/plain": [
       "1"
      ]
     },
     "execution_count": 3,
     "metadata": {},
     "output_type": "execute_result"
    }
   ],
   "source": [
    "maximalSquare([[\"0\",\"1\"],[\"1\",\"0\"]])"
   ]
  },
  {
   "cell_type": "code",
   "execution_count": 4,
   "metadata": {},
   "outputs": [
    {
     "data": {
      "text/plain": [
       "0"
      ]
     },
     "execution_count": 4,
     "metadata": {},
     "output_type": "execute_result"
    }
   ],
   "source": [
    "maximalSquare([[\"0\"]])"
   ]
  },
  {
   "cell_type": "code",
   "execution_count": null,
   "metadata": {},
   "outputs": [],
   "source": []
  }
 ],
 "metadata": {
  "kernelspec": {
   "display_name": "Python 3",
   "language": "python",
   "name": "python3"
  },
  "language_info": {
   "codemirror_mode": {
    "name": "ipython",
    "version": 3
   },
   "file_extension": ".py",
   "mimetype": "text/x-python",
   "name": "python",
   "nbconvert_exporter": "python",
   "pygments_lexer": "ipython3",
   "version": "3.6.5"
  }
 },
 "nbformat": 4,
 "nbformat_minor": 2
}
