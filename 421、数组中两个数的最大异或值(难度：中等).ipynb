{
 "cells": [
  {
   "cell_type": "markdown",
   "metadata": {},
   "source": [
    "# 数组中两个数的最大异或值\n",
    "\n",
    "**题目来源：力扣（LeetCode）**\n",
    "\n",
    "**链接：https://leetcode-cn.com/problems/maximum-xor-of-two-numbers-in-an-array/**\n",
    "\n",
    "## 一、题目\n",
    "\n",
    "给你一个整数数组 nums ，返回 nums[i] XOR nums[j] 的最大运算结果，其中 0 ≤ i ≤ j < n 。\n",
    "\n",
    "### 进阶：\n",
    "\n",
    "你可以在 O(n) 的时间解决这个问题吗？\n",
    "\n",
    "### 提示：\n",
    "\n",
    "- 1 <= nums.length <= 2 * 104\n",
    "- 0 <= nums[i] <= 231 - 1\n",
    "\n",
    "## 二、示例\n",
    "\n",
    "### 示例 1：\n",
    "\n",
    "输入：nums = [3,10,5,25,2,8]\n",
    "\n",
    "输出：28\n",
    "\n",
    "解释：最大运算结果是 5 XOR 25 = 28.\n",
    "\n",
    "### 示例 2：\n",
    "\n",
    "输入：nums = [0]\n",
    "\n",
    "输出：0\n",
    "\n",
    "### 示例 3：\n",
    "\n",
    "输入：nums = [2,4]\n",
    "\n",
    "输出：6\n",
    "\n",
    "### 示例 4：\n",
    "\n",
    "输入：nums = [8,10,2]\n",
    "\n",
    "输出：10\n",
    "\n",
    "### 示例 5：\n",
    "\n",
    "输入：nums = [14,70,53,83,49,91,36,80,92,51,66,70]\n",
    "\n",
    "输出：127\n",
    "\n",
    "## 三、解题思路\n",
    "\n",
    "### 一、暴力法（超时）"
   ]
  },
  {
   "cell_type": "code",
   "execution_count": 1,
   "metadata": {},
   "outputs": [],
   "source": [
    "def findMaximumXOR(nums) -> int:\n",
    "    ret = 0\n",
    "    n = len(nums)\n",
    "    for i in range(n):\n",
    "        for j in range(i, n):\n",
    "            cur = nums[i] ^ nums[j]\n",
    "            if cur > ret:\n",
    "                ret = cur\n",
    "    return ret"
   ]
  },
  {
   "cell_type": "code",
   "execution_count": 2,
   "metadata": {},
   "outputs": [
    {
     "data": {
      "text/plain": [
       "127"
      ]
     },
     "execution_count": 2,
     "metadata": {},
     "output_type": "execute_result"
    }
   ],
   "source": [
    "findMaximumXOR([14,70,53,83,49,91,36,80,92,51,66,70])"
   ]
  },
  {
   "cell_type": "markdown",
   "metadata": {},
   "source": [
    "### 二、利用字典和异或的性质"
   ]
  },
  {
   "cell_type": "code",
   "execution_count": 3,
   "metadata": {},
   "outputs": [],
   "source": [
    "def findMaximumXOR(nums) -> int:\n",
    "    # 最高位的二进制位编号为 30\n",
    "    HIGH_BIT = 30\n",
    "\n",
    "    x = 0\n",
    "    for k in range(HIGH_BIT, -1, -1):\n",
    "        seen = set()\n",
    "        # 将所有的 pre^k(a_j) 放入哈希表中\n",
    "        for num in nums:\n",
    "            # 如果只想保留从最高位开始到第 k 个二进制位为止的部分\n",
    "            # 只需将其右移 k 位\n",
    "            seen.add(num >> k)\n",
    "\n",
    "        # 目前 x 包含从最高位开始到第 k+1 个二进制位为止的部分\n",
    "        # 我们将 x 的第 k 个二进制位置为 1，即为 x = x*2+1\n",
    "        x_next = x * 2 + 1\n",
    "        found = False\n",
    "        \n",
    "        # 枚举 i\n",
    "        for num in nums:\n",
    "            if x_next ^ (num >> k) in seen:\n",
    "                found = True\n",
    "                break\n",
    "\n",
    "        if found:\n",
    "            x = x_next\n",
    "        else:\n",
    "            # 如果没有找到满足等式的 a_i 和 a_j，那么 x 的第 k 个二进制位只能为 0\n",
    "            # 即为 x = x*2\n",
    "            x = x_next - 1\n",
    "    return x"
   ]
  },
  {
   "cell_type": "code",
   "execution_count": 4,
   "metadata": {},
   "outputs": [
    {
     "data": {
      "text/plain": [
       "127"
      ]
     },
     "execution_count": 4,
     "metadata": {},
     "output_type": "execute_result"
    }
   ],
   "source": [
    "findMaximumXOR([14,70,53,83,49,91,36,80,92,51,66,70])"
   ]
  },
  {
   "cell_type": "code",
   "execution_count": null,
   "metadata": {},
   "outputs": [],
   "source": []
  }
 ],
 "metadata": {
  "kernelspec": {
   "display_name": "Python 3",
   "language": "python",
   "name": "python3"
  },
  "language_info": {
   "codemirror_mode": {
    "name": "ipython",
    "version": 3
   },
   "file_extension": ".py",
   "mimetype": "text/x-python",
   "name": "python",
   "nbconvert_exporter": "python",
   "pygments_lexer": "ipython3",
   "version": "3.6.5"
  }
 },
 "nbformat": 4,
 "nbformat_minor": 2
}
