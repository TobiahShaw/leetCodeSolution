{
  "cells": [
    {
      "metadata": {
        "collapsed": true
      },
      "cell_type": "markdown",
      "source": "# 种花问题\n\n**题目来源：力扣（LeetCode）**\n\n**链接：https://leetcode-cn.com/problems/can-place-flowers/**\n\n## 一、题目\n\n假设你有一个很长的花坛，一部分地块种植了花，另一部分却没有。可是，花卉不能种植在相邻的地块上，它们会争夺水源，两者都会死去。\n\n给定一个花坛（表示为一个数组包含0和1，其中0表示没种植花，1表示种植了花），和一个数 n 。能否在不打破种植规则的情况下种入 n 朵花？能则返回True，不能则返回False。\n\n## 二、示例\n\n### 示例 1:\n\n输入: flowerbed = [1,0,0,0,1], n = 1\n\n输出: True\n\n### 示例 2:\n\n输入: flowerbed = [1,0,0,0,1], n = 2\n\n输出: False\n\n## 三、解题思路\n\n### 模拟\n\n每三个连续的0可以放一个1，在边界时只需两个就可以，那么就可以假设边界两边各有一个0"
    },
    {
      "metadata": {
        "trusted": true
      },
      "cell_type": "code",
      "source": "def canPlaceFlowers(flowerbed, n: int) -> bool:\n    flowerbed = [0]+ flowerbed + [0]\n    for i in range(1,len(flowerbed)-1):\n        if  flowerbed[i-1] == 0 and flowerbed[i] == 0 and flowerbed[i+1] == 0:\n            n = n-1\n            flowerbed[i] = 1\n        if n <= 0:\n            return True\n    return n<=0",
      "execution_count": 1,
      "outputs": []
    },
    {
      "metadata": {
        "trusted": true
      },
      "cell_type": "code",
      "source": "canPlaceFlowers(flowerbed = [1,0,0,0,1], n = 1)",
      "execution_count": 2,
      "outputs": [
        {
          "output_type": "execute_result",
          "execution_count": 2,
          "data": {
            "text/plain": "True"
          },
          "metadata": {}
        }
      ]
    },
    {
      "metadata": {
        "trusted": true
      },
      "cell_type": "code",
      "source": "canPlaceFlowers(flowerbed = [1,0,0,0,1], n = 2)",
      "execution_count": 3,
      "outputs": [
        {
          "output_type": "execute_result",
          "execution_count": 3,
          "data": {
            "text/plain": "False"
          },
          "metadata": {}
        }
      ]
    },
    {
      "metadata": {
        "trusted": true
      },
      "cell_type": "code",
      "source": "",
      "execution_count": null,
      "outputs": []
    }
  ],
  "metadata": {
    "kernelspec": {
      "name": "python36",
      "display_name": "Python 3.6",
      "language": "python"
    },
    "language_info": {
      "mimetype": "text/x-python",
      "nbconvert_exporter": "python",
      "name": "python",
      "pygments_lexer": "ipython3",
      "version": "3.6.6",
      "file_extension": ".py",
      "codemirror_mode": {
        "version": 3,
        "name": "ipython"
      }
    }
  },
  "nbformat": 4,
  "nbformat_minor": 2
}