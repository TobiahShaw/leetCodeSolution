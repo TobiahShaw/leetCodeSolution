{
 "cells": [
  {
   "cell_type": "markdown",
   "metadata": {
    "collapsed": true
   },
   "source": [
    "# 种花问题\n",
    "\n",
    "**题目来源：力扣（LeetCode）**\n",
    "\n",
    "**链接：https://leetcode-cn.com/problems/can-place-flowers/**\n",
    "\n",
    "## 一、题目\n",
    "\n",
    "假设你有一个很长的花坛，一部分地块种植了花，另一部分却没有。可是，花卉不能种植在相邻的地块上，它们会争夺水源，两者都会死去。\n",
    "\n",
    "给定一个花坛（表示为一个数组包含0和1，其中0表示没种植花，1表示种植了花），和一个数 n 。能否在不打破种植规则的情况下种入 n 朵花？能则返回True，不能则返回False。\n",
    "\n",
    "## 二、示例\n",
    "\n",
    "### 示例 1:\n",
    "\n",
    "输入: flowerbed = [1,0,0,0,1], n = 1\n",
    "\n",
    "输出: True\n",
    "\n",
    "### 示例 2:\n",
    "\n",
    "输入: flowerbed = [1,0,0,0,1], n = 2\n",
    "\n",
    "输出: False\n",
    "\n",
    "## 三、解题思路\n",
    "\n",
    "### 一、模拟\n",
    "\n",
    "每三个连续的0可以放一个1，在边界时只需两个就可以，那么就可以假设边界两边各有一个0"
   ]
  },
  {
   "cell_type": "code",
   "execution_count": 1,
   "metadata": {},
   "outputs": [],
   "source": [
    "def canPlaceFlowers(flowerbed, n: int) -> bool:\n",
    "    flowerbed = [0]+ flowerbed + [0]\n",
    "    for i in range(1,len(flowerbed)-1):\n",
    "        if  flowerbed[i-1] == 0 and flowerbed[i] == 0 and flowerbed[i+1] == 0:\n",
    "            n = n-1\n",
    "            flowerbed[i] = 1\n",
    "        if n <= 0:\n",
    "            return True\n",
    "    return n<=0"
   ]
  },
  {
   "cell_type": "code",
   "execution_count": 2,
   "metadata": {},
   "outputs": [
    {
     "data": {
      "text/plain": [
       "True"
      ]
     },
     "execution_count": 2,
     "metadata": {},
     "output_type": "execute_result"
    }
   ],
   "source": [
    "canPlaceFlowers(flowerbed = [1,0,0,0,1], n = 1)"
   ]
  },
  {
   "cell_type": "code",
   "execution_count": 3,
   "metadata": {},
   "outputs": [
    {
     "data": {
      "text/plain": [
       "False"
      ]
     },
     "execution_count": 3,
     "metadata": {},
     "output_type": "execute_result"
    }
   ],
   "source": [
    "canPlaceFlowers(flowerbed = [1,0,0,0,1], n = 2)"
   ]
  },
  {
   "cell_type": "markdown",
   "metadata": {},
   "source": [
    "### 二、模拟"
   ]
  },
  {
   "cell_type": "code",
   "execution_count": 4,
   "metadata": {},
   "outputs": [],
   "source": [
    "def canPlaceFlowers(flowerbed, n: int) -> bool:\n",
    "    if n==0:\n",
    "        return True\n",
    "    m=len(flowerbed)\n",
    "    plant = 0\n",
    "    for i in range(m):\n",
    "        if flowerbed[i]==1 or (i>0 and flowerbed[i-1]==1) or (i+1<m and flowerbed[i+1]==1):\n",
    "            continue\n",
    "        flowerbed[i]=1\n",
    "        plant += 1\n",
    "    return plant >= n"
   ]
  },
  {
   "cell_type": "code",
   "execution_count": 5,
   "metadata": {},
   "outputs": [
    {
     "data": {
      "text/plain": [
       "True"
      ]
     },
     "execution_count": 5,
     "metadata": {},
     "output_type": "execute_result"
    }
   ],
   "source": [
    "canPlaceFlowers(flowerbed = [1,0,0,0,1], n = 1)"
   ]
  },
  {
   "cell_type": "code",
   "execution_count": 6,
   "metadata": {},
   "outputs": [
    {
     "data": {
      "text/plain": [
       "False"
      ]
     },
     "execution_count": 6,
     "metadata": {},
     "output_type": "execute_result"
    }
   ],
   "source": [
    "canPlaceFlowers(flowerbed = [1,0,0,0,1], n = 2)"
   ]
  },
  {
   "cell_type": "code",
   "execution_count": null,
   "metadata": {},
   "outputs": [],
   "source": []
  }
 ],
 "metadata": {
  "kernelspec": {
   "display_name": "Python 3",
   "language": "python",
   "name": "python3"
  },
  "language_info": {
   "codemirror_mode": {
    "name": "ipython",
    "version": 3
   },
   "file_extension": ".py",
   "mimetype": "text/x-python",
   "name": "python",
   "nbconvert_exporter": "python",
   "pygments_lexer": "ipython3",
   "version": "3.6.5"
  }
 },
 "nbformat": 4,
 "nbformat_minor": 2
}
