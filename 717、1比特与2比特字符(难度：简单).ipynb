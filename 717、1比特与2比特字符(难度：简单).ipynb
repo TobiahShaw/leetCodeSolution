{
 "cells": [
  {
   "cell_type": "markdown",
   "metadata": {},
   "source": [
    "# 1比特与2比特字符\n",
    "\n",
    "**题目来源：力扣（LeetCode）**\n",
    "\n",
    "**链接：https://leetcode-cn.com/problems/1-bit-and-2-bit-characters/**\n",
    "\n",
    "## 一、题目\n",
    "\n",
    "有两种特殊字符。第一种字符可以用一比特0来表示。第二种字符可以用两比特(10 或 11)来表示。\n",
    "\n",
    "现给一个由若干比特组成的字符串。问最后一个字符是否必定为一个一比特字符。给定的字符串总是由0结束。\n",
    "\n",
    "### 注意:\n",
    "\n",
    "- 1 <= len(bits) <= 1000.\n",
    "- bits[i] 总是0 或 1.\n",
    "\n",
    "## 二、示例\n",
    "\n",
    "### 示例 1：\n",
    "\n",
    "输入: bits = [1, 0, 0]\n",
    "\n",
    "输出: True\n",
    "\n",
    "解释: 唯一的编码方式是一个两比特字符和一个一比特字符。所以最后一个字符是一比特字符。\n",
    "\n",
    "### 示例 2:\n",
    "\n",
    "输入: bits = [1, 1, 1, 0]\n",
    "\n",
    "输出: False\n",
    "\n",
    "解释: 唯一的编码方式是两比特字符和两比特字符。所以最后一个字符不是一比特字符。\n",
    "\n",
    "## 三、解题思路\n",
    "\n",
    "### 线性扫描"
   ]
  },
  {
   "cell_type": "code",
   "execution_count": 1,
   "metadata": {},
   "outputs": [],
   "source": [
    "def isOneBitCharacter(bits) -> bool:\n",
    "    i = 0\n",
    "    while i < len(bits) - 1:\n",
    "        i += bits[i] + 1\n",
    "    return i == len(bits) - 1"
   ]
  },
  {
   "cell_type": "code",
   "execution_count": 2,
   "metadata": {},
   "outputs": [
    {
     "data": {
      "text/plain": [
       "True"
      ]
     },
     "execution_count": 2,
     "metadata": {},
     "output_type": "execute_result"
    }
   ],
   "source": [
    "isOneBitCharacter([1, 0, 0])"
   ]
  },
  {
   "cell_type": "code",
   "execution_count": 3,
   "metadata": {},
   "outputs": [
    {
     "data": {
      "text/plain": [
       "False"
      ]
     },
     "execution_count": 3,
     "metadata": {},
     "output_type": "execute_result"
    }
   ],
   "source": [
    "isOneBitCharacter([1, 1, 1, 0])"
   ]
  },
  {
   "cell_type": "code",
   "execution_count": null,
   "metadata": {},
   "outputs": [],
   "source": []
  }
 ],
 "metadata": {
  "kernelspec": {
   "display_name": "Python 3",
   "language": "python",
   "name": "python3"
  },
  "language_info": {
   "codemirror_mode": {
    "name": "ipython",
    "version": 3
   },
   "file_extension": ".py",
   "mimetype": "text/x-python",
   "name": "python",
   "nbconvert_exporter": "python",
   "pygments_lexer": "ipython3",
   "version": "3.6.5"
  }
 },
 "nbformat": 4,
 "nbformat_minor": 2
}
