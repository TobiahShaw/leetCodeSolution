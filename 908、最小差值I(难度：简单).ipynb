{
 "cells": [
  {
   "cell_type": "markdown",
   "metadata": {},
   "source": [
    "# 最小差值I\n",
    "\n",
    "**题目来源：力扣（LeetCode）**\n",
    "\n",
    "**链接：https://leetcode-cn.com/problems/smallest-range-i/**\n",
    "\n",
    "## 一、题目\n",
    "\n",
    "给你一个整数数组 nums，请你给数组中的每个元素 nums[i] 都加上一个任意数字 x （-k <= x <= k），从而得到一个新数组 result 。\n",
    "\n",
    "返回数组 result 的最大值和最小值之间可能存在的最小差值。\n",
    "\n",
    "### 提示：\n",
    "\n",
    "- 1 <= nums.length <= 10000\n",
    "- 0 <= nums[i] <= 10000\n",
    "- 0 <= k <= 10000\n",
    "\n",
    "## 二、示例\n",
    "\n",
    "### 示例 1：\n",
    "\n",
    "输入：nums = [1], k = 0\n",
    "\n",
    "输出：0\n",
    "\n",
    "解释：result = [1]\n",
    "\n",
    "### 示例 2：\n",
    "\n",
    "输入：nums = [0,10], k = 2\n",
    "\n",
    "输出：6\n",
    "\n",
    "解释：result = [2,8]\n",
    "\n",
    "### 示例 3：\n",
    "\n",
    "输入：nums = [1,3,6], k = 3\n",
    "\n",
    "输出：0\n",
    "\n",
    "解释：result = [3,3,3] or result = [4,4,4]\n",
    "\n",
    "## 三、解题思路\n",
    "\n",
    "### 数学"
   ]
  },
  {
   "cell_type": "code",
   "execution_count": 1,
   "metadata": {},
   "outputs": [],
   "source": [
    "def smallestRangeI(nums, k: int) -> int:\n",
    "    return max(0, max(nums) - min(nums) - 2*k)"
   ]
  },
  {
   "cell_type": "code",
   "execution_count": 2,
   "metadata": {},
   "outputs": [
    {
     "data": {
      "text/plain": [
       "0"
      ]
     },
     "execution_count": 2,
     "metadata": {},
     "output_type": "execute_result"
    }
   ],
   "source": [
    "smallestRangeI(nums = [1], k = 0)"
   ]
  },
  {
   "cell_type": "code",
   "execution_count": 3,
   "metadata": {},
   "outputs": [
    {
     "data": {
      "text/plain": [
       "6"
      ]
     },
     "execution_count": 3,
     "metadata": {},
     "output_type": "execute_result"
    }
   ],
   "source": [
    "smallestRangeI(nums = [0,10], k = 2)"
   ]
  },
  {
   "cell_type": "code",
   "execution_count": 4,
   "metadata": {},
   "outputs": [
    {
     "data": {
      "text/plain": [
       "0"
      ]
     },
     "execution_count": 4,
     "metadata": {},
     "output_type": "execute_result"
    }
   ],
   "source": [
    "smallestRangeI(nums = [1,3,6], k = 3)"
   ]
  },
  {
   "cell_type": "code",
   "execution_count": null,
   "metadata": {},
   "outputs": [],
   "source": []
  }
 ],
 "metadata": {
  "kernelspec": {
   "display_name": "Python 3",
   "language": "python",
   "name": "python3"
  },
  "language_info": {
   "codemirror_mode": {
    "name": "ipython",
    "version": 3
   },
   "file_extension": ".py",
   "mimetype": "text/x-python",
   "name": "python",
   "nbconvert_exporter": "python",
   "pygments_lexer": "ipython3",
   "version": "3.6.5"
  }
 },
 "nbformat": 4,
 "nbformat_minor": 2
}
