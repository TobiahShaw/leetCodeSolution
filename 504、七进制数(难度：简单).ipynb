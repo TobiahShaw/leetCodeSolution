{
 "cells": [
  {
   "cell_type": "markdown",
   "metadata": {},
   "source": [
    "# 七进制数\n",
    "\n",
    "**题目来源：力扣（LeetCode）**\n",
    "\n",
    "**链接：https://leetcode-cn.com/problems/base-7/**\n",
    "\n",
    "## 一、题目\n",
    "\n",
    "给定一个整数，将其转化为7进制，并以字符串形式输出。\n",
    "\n",
    "## 二、示例\n",
    "\n",
    "### 示例 1：\n",
    "\n",
    "输入: 100\n",
    "\n",
    "输出: \"202\"\n",
    "\n",
    "### 示例 2:\n",
    "\n",
    "输入: -7\n",
    "\n",
    "输出: \"-10\"\n",
    "\n",
    "## 三、解题思路\n",
    "\n",
    "### 除七取余倒序输出"
   ]
  },
  {
   "cell_type": "code",
   "execution_count": 1,
   "metadata": {},
   "outputs": [],
   "source": [
    "def convertToBase7(num: int) -> str:\n",
    "    if num == 0:\n",
    "        return \"0\"\n",
    "    ans = []\n",
    "    is_negative = num < 0\n",
    "    num = abs(num)\n",
    "    while num > 0:\n",
    "        num, remain = num // 7, num % 7\n",
    "        ans.append(str(remain))\n",
    "    return \"-\" + \"\".join(ans[::-1]) if is_negative else \"\".join(ans[::-1])"
   ]
  },
  {
   "cell_type": "code",
   "execution_count": 2,
   "metadata": {},
   "outputs": [
    {
     "data": {
      "text/plain": [
       "'202'"
      ]
     },
     "execution_count": 2,
     "metadata": {},
     "output_type": "execute_result"
    }
   ],
   "source": [
    "convertToBase7(100)"
   ]
  },
  {
   "cell_type": "code",
   "execution_count": 3,
   "metadata": {},
   "outputs": [
    {
     "data": {
      "text/plain": [
       "'-10'"
      ]
     },
     "execution_count": 3,
     "metadata": {},
     "output_type": "execute_result"
    }
   ],
   "source": [
    "convertToBase7(-7)"
   ]
  },
  {
   "cell_type": "code",
   "execution_count": null,
   "metadata": {},
   "outputs": [],
   "source": []
  }
 ],
 "metadata": {
  "kernelspec": {
   "display_name": "Python 3",
   "language": "python",
   "name": "python3"
  },
  "language_info": {
   "codemirror_mode": {
    "name": "ipython",
    "version": 3
   },
   "file_extension": ".py",
   "mimetype": "text/x-python",
   "name": "python",
   "nbconvert_exporter": "python",
   "pygments_lexer": "ipython3",
   "version": "3.6.5"
  }
 },
 "nbformat": 4,
 "nbformat_minor": 2
}
