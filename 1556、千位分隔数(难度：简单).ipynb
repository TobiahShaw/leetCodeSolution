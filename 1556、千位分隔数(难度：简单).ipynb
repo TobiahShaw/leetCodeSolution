{
 "cells": [
  {
   "cell_type": "markdown",
   "metadata": {},
   "source": [
    "# 千位分隔数\n",
    "\n",
    "**题目来源：力扣（LeetCode）**\n",
    "\n",
    "**链接：https://leetcode-cn.com/problems/thousand-separator/**\n",
    "\n",
    "## 一、题目\n",
    "\n",
    "给你一个整数 n，请你每隔三位添加点（即 \".\" 符号）作为千位分隔符，并将结果以字符串格式返回。\n",
    "\n",
    "### 提示：\n",
    "\n",
    "- 0 <= n < 2^31\n",
    "\n",
    "## 二、示例\n",
    "\n",
    "### 示例 1：\n",
    "\n",
    "输入：n = 987\n",
    "\n",
    "输出：\"987\"\n",
    "\n",
    "### 示例 2：\n",
    "\n",
    "输入：n = 1234\n",
    "\n",
    "输出：\"1.234\"\n",
    "\n",
    "### 示例 3：\n",
    "\n",
    "输入：n = 123456789\n",
    "\n",
    "输出：\"123.456.789\"\n",
    "\n",
    "### 示例 4：\n",
    "\n",
    "输入：n = 0\n",
    "\n",
    "输出：\"0\"\n",
    "\n",
    "## 三、解题思路\n",
    "\n",
    "### 模拟过程"
   ]
  },
  {
   "cell_type": "code",
   "execution_count": 1,
   "metadata": {},
   "outputs": [],
   "source": [
    "def thousandSeparator(n: int) -> str:\n",
    "    count = 0\n",
    "    ans = list()\n",
    "    while True:\n",
    "        cur = n % 10\n",
    "        n //= 10\n",
    "        ans.append(str(cur))\n",
    "        count += 1\n",
    "        if count % 3 == 0 and n > 0:\n",
    "            ans.append(\".\")\n",
    "        if n == 0:\n",
    "            break\n",
    "    return \"\".join(ans[::-1])"
   ]
  },
  {
   "cell_type": "code",
   "execution_count": 2,
   "metadata": {},
   "outputs": [
    {
     "data": {
      "text/plain": [
       "'987'"
      ]
     },
     "execution_count": 2,
     "metadata": {},
     "output_type": "execute_result"
    }
   ],
   "source": [
    "thousandSeparator(987)"
   ]
  },
  {
   "cell_type": "code",
   "execution_count": 3,
   "metadata": {},
   "outputs": [
    {
     "data": {
      "text/plain": [
       "'1.234'"
      ]
     },
     "execution_count": 3,
     "metadata": {},
     "output_type": "execute_result"
    }
   ],
   "source": [
    "thousandSeparator(1234)"
   ]
  },
  {
   "cell_type": "code",
   "execution_count": 4,
   "metadata": {},
   "outputs": [
    {
     "data": {
      "text/plain": [
       "'123.456.789'"
      ]
     },
     "execution_count": 4,
     "metadata": {},
     "output_type": "execute_result"
    }
   ],
   "source": [
    "thousandSeparator(123456789)"
   ]
  },
  {
   "cell_type": "code",
   "execution_count": 5,
   "metadata": {},
   "outputs": [
    {
     "data": {
      "text/plain": [
       "'0'"
      ]
     },
     "execution_count": 5,
     "metadata": {},
     "output_type": "execute_result"
    }
   ],
   "source": [
    "thousandSeparator(0)"
   ]
  },
  {
   "cell_type": "code",
   "execution_count": 6,
   "metadata": {},
   "outputs": [
    {
     "data": {
      "text/plain": [
       "'51.040'"
      ]
     },
     "execution_count": 6,
     "metadata": {},
     "output_type": "execute_result"
    }
   ],
   "source": [
    "thousandSeparator(51040)"
   ]
  },
  {
   "cell_type": "code",
   "execution_count": null,
   "metadata": {},
   "outputs": [],
   "source": []
  }
 ],
 "metadata": {
  "kernelspec": {
   "display_name": "Python 3",
   "language": "python",
   "name": "python3"
  },
  "language_info": {
   "codemirror_mode": {
    "name": "ipython",
    "version": 3
   },
   "file_extension": ".py",
   "mimetype": "text/x-python",
   "name": "python",
   "nbconvert_exporter": "python",
   "pygments_lexer": "ipython3",
   "version": "3.6.5"
  }
 },
 "nbformat": 4,
 "nbformat_minor": 2
}
