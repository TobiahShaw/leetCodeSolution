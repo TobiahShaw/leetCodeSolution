{
  "cells": [
    {
      "metadata": {
        "collapsed": true
      },
      "cell_type": "markdown",
      "source": "# 增减字符串匹配\n\n**题目来源：力扣（LeetCode）**\n\n**链接：https://leetcode-cn.com/problems/di-string-match/**\n\n## 一、题目\n\n给定只含 \"I\"（增大）或 \"D\"（减小）的字符串 S ，令 N = S.length。\n\n返回 [0, 1, ..., N] 的任意排列 A 使得对于所有 i = 0, ..., N-1，都有：\n\n- 如果 S[i] == \"I\"，那么 A[i] < A[i+1]\n\n- 如果 S[i] == \"D\"，那么 A[i] > A[i+1]\n\n## 二、示例\n\n### 示例 1：\n\n输出：\"IDID\"\n\n输出：[0,4,1,3,2]\n\n### 示例 2：\n\n输出：\"III\"\n\n输出：[0,1,2,3]\n\n### 示例 3：\n\n输出：\"DDI\"\n\n输出：[3,2,0,1]\n\n## 三、解题思路"
    },
    {
      "metadata": {
        "trusted": true
      },
      "cell_type": "code",
      "source": "def diStringMatch(S):\n    lo, hi = 0, len(S)\n    ans = []\n    for c in S:\n        if c == \"I\":\n            ans.append(lo)\n            lo += 1\n        else:\n            ans.append(hi)\n            hi -= 1\n    return ans + [lo]",
      "execution_count": 1,
      "outputs": []
    },
    {
      "metadata": {
        "trusted": true
      },
      "cell_type": "code",
      "source": "diStringMatch(\"IDID\")",
      "execution_count": 2,
      "outputs": [
        {
          "output_type": "execute_result",
          "execution_count": 2,
          "data": {
            "text/plain": "[0, 4, 1, 3, 2]"
          },
          "metadata": {}
        }
      ]
    },
    {
      "metadata": {
        "trusted": true
      },
      "cell_type": "code",
      "source": "diStringMatch(\"III\")",
      "execution_count": 3,
      "outputs": [
        {
          "output_type": "execute_result",
          "execution_count": 3,
          "data": {
            "text/plain": "[0, 1, 2, 3]"
          },
          "metadata": {}
        }
      ]
    },
    {
      "metadata": {
        "trusted": true
      },
      "cell_type": "code",
      "source": "diStringMatch(\"DDI\")",
      "execution_count": 4,
      "outputs": [
        {
          "output_type": "execute_result",
          "execution_count": 4,
          "data": {
            "text/plain": "[3, 2, 0, 1]"
          },
          "metadata": {}
        }
      ]
    },
    {
      "metadata": {
        "trusted": true
      },
      "cell_type": "code",
      "source": "",
      "execution_count": null,
      "outputs": []
    }
  ],
  "metadata": {
    "kernelspec": {
      "name": "python36",
      "display_name": "Python 3.6",
      "language": "python"
    },
    "language_info": {
      "mimetype": "text/x-python",
      "nbconvert_exporter": "python",
      "name": "python",
      "pygments_lexer": "ipython3",
      "version": "3.6.6",
      "file_extension": ".py",
      "codemirror_mode": {
        "version": 3,
        "name": "ipython"
      }
    }
  },
  "nbformat": 4,
  "nbformat_minor": 2
}