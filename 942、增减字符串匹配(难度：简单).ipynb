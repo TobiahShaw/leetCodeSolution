{
 "cells": [
  {
   "cell_type": "markdown",
   "metadata": {
    "collapsed": true
   },
   "source": [
    "# 增减字符串匹配\n",
    "\n",
    "**题目来源：力扣（LeetCode）**\n",
    "\n",
    "**链接：https://leetcode-cn.com/problems/di-string-match/**\n",
    "\n",
    "## 一、题目\n",
    "\n",
    "由范围 [0,n] 内所有整数组成的 n + 1 个整数的排列序列可以表示为长度为 n 的字符串 s ，其中:\n",
    "\n",
    "- 如果 perm[i] < perm[i + 1] ，那么 s[i] == 'I' \n",
    "- 如果 perm[i] > perm[i + 1] ，那么 s[i] == 'D' \n",
    "\n",
    "给定一个字符串 s ，重构排列 perm 并返回它。如果有多个有效排列perm，则返回其中 任何一个 。\n",
    "\n",
    "### 提示：\n",
    "\n",
    "- 1 <= s.length <= 10^5\n",
    "- s 只包含字符 \"I\" 或 \"D\"\n",
    "\n",
    "## 二、示例\n",
    "\n",
    "### 示例 1：\n",
    "\n",
    "输出：\"IDID\"\n",
    "\n",
    "输出：[0,4,1,3,2]\n",
    "\n",
    "### 示例 2：\n",
    "\n",
    "输出：\"III\"\n",
    "\n",
    "输出：[0,1,2,3]\n",
    "\n",
    "### 示例 3：\n",
    "\n",
    "输出：\"DDI\"\n",
    "\n",
    "输出：[3,2,0,1]\n",
    "\n",
    "## 三、解题思路\n",
    "\n",
    "### 一、暴力"
   ]
  },
  {
   "cell_type": "code",
   "execution_count": 1,
   "metadata": {},
   "outputs": [],
   "source": [
    "def diStringMatch(s: str):\n",
    "    min_val = 0\n",
    "    ret = [0]\n",
    "    has = set([0])\n",
    "    for ch in s:\n",
    "        if ch == 'I':\n",
    "            tmp = ret[-1] + 1\n",
    "            while tmp in has:\n",
    "                tmp += 1\n",
    "        else:\n",
    "            tmp = ret[-1] - 1\n",
    "            while tmp in has:\n",
    "                tmp -= 1\n",
    "        ret.append(tmp)\n",
    "        has.add(tmp)\n",
    "        min_val = min(min_val, tmp)\n",
    "    for i in range(len(ret)):\n",
    "        ret[i] -= min_val\n",
    "    return ret"
   ]
  },
  {
   "cell_type": "code",
   "execution_count": 2,
   "metadata": {},
   "outputs": [
    {
     "data": {
      "text/plain": [
       "[2, 3, 1, 4, 0]"
      ]
     },
     "execution_count": 2,
     "metadata": {},
     "output_type": "execute_result"
    }
   ],
   "source": [
    "diStringMatch(\"IDID\")"
   ]
  },
  {
   "cell_type": "code",
   "execution_count": 3,
   "metadata": {},
   "outputs": [
    {
     "data": {
      "text/plain": [
       "[0, 1, 2, 3]"
      ]
     },
     "execution_count": 3,
     "metadata": {},
     "output_type": "execute_result"
    }
   ],
   "source": [
    "diStringMatch(\"III\")"
   ]
  },
  {
   "cell_type": "code",
   "execution_count": 4,
   "metadata": {},
   "outputs": [
    {
     "data": {
      "text/plain": [
       "[2, 1, 0, 3]"
      ]
     },
     "execution_count": 4,
     "metadata": {},
     "output_type": "execute_result"
    }
   ],
   "source": [
    "diStringMatch(\"DDI\")"
   ]
  },
  {
   "cell_type": "markdown",
   "metadata": {},
   "source": [
    "### 二、数学"
   ]
  },
  {
   "cell_type": "code",
   "execution_count": 5,
   "metadata": {},
   "outputs": [],
   "source": [
    "def diStringMatch(S):\n",
    "    lo, hi = 0, len(S)\n",
    "    ans = []\n",
    "    for c in S:\n",
    "        if c == \"I\":\n",
    "            ans.append(lo)\n",
    "            lo += 1\n",
    "        else:\n",
    "            ans.append(hi)\n",
    "            hi -= 1\n",
    "    return ans + [lo]"
   ]
  },
  {
   "cell_type": "code",
   "execution_count": 6,
   "metadata": {},
   "outputs": [
    {
     "data": {
      "text/plain": [
       "[0, 4, 1, 3, 2]"
      ]
     },
     "execution_count": 6,
     "metadata": {},
     "output_type": "execute_result"
    }
   ],
   "source": [
    "diStringMatch(\"IDID\")"
   ]
  },
  {
   "cell_type": "code",
   "execution_count": 7,
   "metadata": {},
   "outputs": [
    {
     "data": {
      "text/plain": [
       "[0, 1, 2, 3]"
      ]
     },
     "execution_count": 7,
     "metadata": {},
     "output_type": "execute_result"
    }
   ],
   "source": [
    "diStringMatch(\"III\")"
   ]
  },
  {
   "cell_type": "code",
   "execution_count": 8,
   "metadata": {},
   "outputs": [
    {
     "data": {
      "text/plain": [
       "[3, 2, 0, 1]"
      ]
     },
     "execution_count": 8,
     "metadata": {},
     "output_type": "execute_result"
    }
   ],
   "source": [
    "diStringMatch(\"DDI\")"
   ]
  },
  {
   "cell_type": "code",
   "execution_count": null,
   "metadata": {},
   "outputs": [],
   "source": []
  }
 ],
 "metadata": {
  "kernelspec": {
   "display_name": "Python 3",
   "language": "python",
   "name": "python3"
  },
  "language_info": {
   "codemirror_mode": {
    "name": "ipython",
    "version": 3
   },
   "file_extension": ".py",
   "mimetype": "text/x-python",
   "name": "python",
   "nbconvert_exporter": "python",
   "pygments_lexer": "ipython3",
   "version": "3.6.5"
  }
 },
 "nbformat": 4,
 "nbformat_minor": 2
}
