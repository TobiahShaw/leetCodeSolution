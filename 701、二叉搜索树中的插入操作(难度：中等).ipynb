{
  "cells": [
    {
      "metadata": {
        "collapsed": true
      },
      "cell_type": "markdown",
      "source": "# 二叉搜索树中的插入操作\n\n**题目来源：力扣（LeetCode）**\n\n**链接：https://leetcode-cn.com/problems/insert-into-a-binary-search-tree/**\n\n## 一、题目\n\n给定二叉搜索树（BST）的根节点和要插入树中的值，将值插入二叉搜索树。 返回插入后二叉搜索树的根节点。 保证原始二叉搜索树中不存在新值。\n\n注意，可能存在多种有效的插入方式，只要树在插入后仍保持为二叉搜索树即可。 你可以返回任意有效的结果。\n\n## 二、示例\n\n给定二叉搜索树:\n\n        4\n       / \\\n      2   7\n     / \\\n    1   3\n\n和\n\n插入的值: 5\n\n你可以返回这个二叉搜索树:\n\n         4\n       /   \\\n      2     7\n     / \\   /\n    1   3 5\n或者这个树也是有效的:\n\n         5\n       /   \\\n      2     7\n     / \\   \n    1   3\n         \\\n          4\n\n\n## 三、解题思路\n\n### 递归\n\n- 若 root == null，则返回 TreeNode(val)。\n- 若 val > root.val，插入到右子树。\n- 若 val < root.val，插入到左子树。\n- 返回 root。"
    },
    {
      "metadata": {
        "trusted": true
      },
      "cell_type": "code",
      "source": "def insertIntoBST(root, val):\n    if not root:\n        return TreeNode(val)\n    if val > root.val:\n        root.right = insertIntoBST(root.right, val)\n    else:\n        root.left = insertIntoBST(root.left, val)\n    return root",
      "execution_count": 1,
      "outputs": []
    },
    {
      "metadata": {
        "trusted": true
      },
      "cell_type": "code",
      "source": "",
      "execution_count": null,
      "outputs": []
    }
  ],
  "metadata": {
    "kernelspec": {
      "name": "python36",
      "display_name": "Python 3.6",
      "language": "python"
    },
    "language_info": {
      "mimetype": "text/x-python",
      "nbconvert_exporter": "python",
      "name": "python",
      "pygments_lexer": "ipython3",
      "version": "3.6.6",
      "file_extension": ".py",
      "codemirror_mode": {
        "version": 3,
        "name": "ipython"
      }
    }
  },
  "nbformat": 4,
  "nbformat_minor": 2
}