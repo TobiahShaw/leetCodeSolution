{
  "cells": [
    {
      "cell_type": "markdown",
      "metadata": {
        "collapsed": true
      },
      "source": [
        "# 二叉搜索树中的插入操作\n",
        "\n",
        "**题目来源：力扣（LeetCode）**\n",
        "\n",
        "**链接：https://leetcode-cn.com/problems/insert-into-a-binary-search-tree/**\n",
        "\n",
        "## 一、题目\n",
        "\n",
        "给定二叉搜索树（BST）的根节点和要插入树中的值，将值插入二叉搜索树。 返回插入后二叉搜索树的根节点。 保证原始二叉搜索树中不存在新值。\n",
        "\n",
        "注意，可能存在多种有效的插入方式，只要树在插入后仍保持为二叉搜索树即可。 你可以返回任意有效的结果。\n",
        "\n",
        "### 提示：\n",
        "\n",
        "- 树中的节点数将在 [0, 10^4]的范围内。\n",
        "- -10^8 <= Node.val <= 10^8\n",
        "- 所有值 Node.val 是 独一无二 的。\n",
        "- -10^8 <= val <= 10^8\n",
        "- 保证 val 在原始BST中不存在。\n",
        "\n",
        "## 二、示例\n",
        "\n",
        "给定二叉搜索树:\n",
        "\n",
        "        4\n",
        "       / \\\n",
        "      2   7\n",
        "     / \\\n",
        "    1   3\n",
        "\n",
        "和\n",
        "\n",
        "插入的值: 5\n",
        "\n",
        "你可以返回这个二叉搜索树:\n",
        "\n",
        "         4\n",
        "       /   \\\n",
        "      2     7\n",
        "     / \\   /\n",
        "    1   3 5\n",
        "或者这个树也是有效的:\n",
        "\n",
        "         5\n",
        "       /   \\\n",
        "      2     7\n",
        "     / \\   \n",
        "    1   3\n",
        "         \\\n",
        "          4\n",
        "\n",
        "\n",
        "## 三、解题思路\n",
        "\n",
        "### 递归\n",
        "\n",
        "- 若 root == null，则返回 TreeNode(val)。\n",
        "- 若 val > root.val，插入到右子树。\n",
        "- 若 val < root.val，插入到左子树。\n",
        "- 返回 root。"
      ]
    },
    {
      "cell_type": "code",
      "execution_count": 1,
      "metadata": {
        "trusted": true
      },
      "outputs": [],
      "source": [
        "def insertIntoBST(root, val):\n",
        "    if not root:\n",
        "        return TreeNode(val)\n",
        "    if val > root.val:\n",
        "        root.right = insertIntoBST(root.right, val)\n",
        "    else:\n",
        "        root.left = insertIntoBST(root.left, val)\n",
        "    return root"
      ]
    },
    {
      "cell_type": "markdown",
      "metadata": {},
      "source": [
        "### 迭代"
      ]
    },
    {
      "cell_type": "code",
      "execution_count": 2,
      "metadata": {
        "trusted": true
      },
      "outputs": [],
      "source": [
        "def insertIntoBST(root, val):\n",
        "    node = root\n",
        "    while node:\n",
        "        if val > node.val:\n",
        "            if node.right:\n",
        "                node = node.right\n",
        "            else:\n",
        "                node.right = TreeNode(val)\n",
        "                return root\n",
        "        else:\n",
        "            if node.left:\n",
        "                node = node.left\n",
        "            else:\n",
        "                node.left = TreeNode(val)\n",
        "                return root\n",
        "    return TreeNode(val)"
      ]
    },
    {
      "cell_type": "code",
      "execution_count": null,
      "metadata": {
        "trusted": true
      },
      "outputs": [],
      "source": []
    }
  ],
  "metadata": {
    "kernelspec": {
      "display_name": "Python 3.6",
      "language": "python",
      "name": "python36"
    },
    "language_info": {
      "codemirror_mode": {
        "name": "ipython",
        "version": 3
      },
      "file_extension": ".py",
      "mimetype": "text/x-python",
      "name": "python",
      "nbconvert_exporter": "python",
      "pygments_lexer": "ipython3",
      "version": "3.6.6"
    }
  },
  "nbformat": 4,
  "nbformat_minor": 2
}
