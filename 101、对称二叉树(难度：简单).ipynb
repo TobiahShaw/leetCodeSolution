{
  "cells": [
    {
      "metadata": {
        "collapsed": true
      },
      "cell_type": "markdown",
      "source": "# 对称二叉树\n\n**题目来源：力扣（LeetCode）**\n\n**链接：https://leetcode-cn.com/problems/symmetric-tree/**\n\n## 一、题目\n\n给定一个二叉树，检查它是否是镜像对称的。\n\n## 二、示例\n\n### 示例 1:\n\n输入: \n\n&emsp;&emsp;&emsp;&emsp;&emsp;&emsp;1&emsp;&emsp;\n\n&emsp;&emsp;&emsp;&emsp;/&emsp;&emsp;&emsp;&emsp;\\\n\n&emsp;&emsp;&emsp;2&emsp;&emsp;&emsp;&emsp;&emsp;2\n\n&emsp;&emsp;/&emsp;&emsp;\\&emsp;&emsp;&emsp;/ &emsp;&emsp;\\\n\n&emsp;3&emsp;&emsp;&emsp;4&emsp;&emsp;4&emsp;&emsp;&emsp;3\n\n输出: true\n\n### 示例 2:\n\n输入:\n\n&emsp;&emsp;&emsp;&emsp;&emsp;&emsp;1&emsp;&emsp;\n\n&emsp;&emsp;&emsp;&emsp;/&emsp;&emsp;&emsp;&emsp;\\\n\n&emsp;&emsp;&emsp;2&emsp;&emsp;&emsp;&emsp;&emsp;2\n\n&emsp;&emsp;&emsp;&emsp;\\&emsp;&emsp;&emsp;&emsp;&emsp;\\\n\n&emsp;&emsp;&emsp;&emsp;3&emsp;&emsp;&emsp;&emsp;&emsp;3\n\n输出: false\n\n## 三、解题思路"
    },
    {
      "metadata": {
        "trusted": true
      },
      "cell_type": "code",
      "source": "class TreeNode:\n    def __init__(self, x):\n        self.val = x\n        self.left = None\n        self.right = None",
      "execution_count": 1,
      "outputs": []
    },
    {
      "metadata": {},
      "cell_type": "markdown",
      "source": "### 递归"
    },
    {
      "metadata": {
        "trusted": true
      },
      "cell_type": "code",
      "source": "def isSymmetric(root):\n    def isMirror(t1, t2) :\n        if t1 == t2 == None:\n            return True\n        if t1 is None or t2 is None:\n            return False\n        return t1.val == t2.val and isMirror(t1.left, t2.right) and isMirror(t1.right, t2.left)\n    return isMirror(root, root)",
      "execution_count": 2,
      "outputs": []
    },
    {
      "metadata": {
        "trusted": true
      },
      "cell_type": "code",
      "source": "",
      "execution_count": null,
      "outputs": []
    }
  ],
  "metadata": {
    "kernelspec": {
      "name": "python36",
      "display_name": "Python 3.6",
      "language": "python"
    },
    "language_info": {
      "mimetype": "text/x-python",
      "nbconvert_exporter": "python",
      "name": "python",
      "pygments_lexer": "ipython3",
      "version": "3.6.6",
      "file_extension": ".py",
      "codemirror_mode": {
        "version": 3,
        "name": "ipython"
      }
    }
  },
  "nbformat": 4,
  "nbformat_minor": 2
}