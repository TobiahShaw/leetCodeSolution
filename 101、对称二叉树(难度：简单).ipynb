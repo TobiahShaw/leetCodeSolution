{
 "cells": [
  {
   "cell_type": "markdown",
   "metadata": {
    "collapsed": true
   },
   "source": [
    "# 对称二叉树\n",
    "\n",
    "**题目来源：力扣（LeetCode）**\n",
    "\n",
    "**链接：https://leetcode-cn.com/problems/symmetric-tree/**\n",
    "\n",
    "## 一、题目\n",
    "\n",
    "给定一个二叉树，检查它是否是镜像对称的。\n",
    "\n",
    "### 提示：\n",
    "\n",
    "- 树中节点数目在范围 [1, 1000] 内\n",
    "- -100 <= Node.val <= 100\n",
    "\n",
    "## 二、示例\n",
    "\n",
    "### 示例 1:\n",
    "\n",
    "输入: \n",
    "\n",
    "```\n",
    "      1\n",
    "    /   \\\n",
    "   2      2\n",
    "  / \\    / \\\n",
    " 3   4  4   3\n",
    "```\n",
    "\n",
    "输出: true\n",
    "\n",
    "### 示例 2:\n",
    "\n",
    "输入:\n",
    "\n",
    "```\n",
    "  1\n",
    " / \\\n",
    "2   2\n",
    " \\   \\\n",
    "  3   3\n",
    "```\n",
    "\n",
    "输出: false\n",
    "\n",
    "## 三、解题思路"
   ]
  },
  {
   "cell_type": "code",
   "execution_count": 1,
   "metadata": {},
   "outputs": [],
   "source": [
    "class TreeNode:\n",
    "    def __init__(self, x):\n",
    "        self.val = x\n",
    "        self.left = None\n",
    "        self.right = None"
   ]
  },
  {
   "cell_type": "markdown",
   "metadata": {},
   "source": [
    "### 一、递归"
   ]
  },
  {
   "cell_type": "code",
   "execution_count": 2,
   "metadata": {},
   "outputs": [],
   "source": [
    "class Solution:\n",
    "    def isSymmetric(self, root):\n",
    "        def isMirror(t1, t2) :\n",
    "            if t1 == t2 == None:\n",
    "                return True\n",
    "            if t1 is None or t2 is None:\n",
    "                return False\n",
    "            return t1.val == t2.val and isMirror(t1.left, t2.right) and isMirror(t1.right, t2.left)\n",
    "        return isMirror(root, root)"
   ]
  },
  {
   "cell_type": "markdown",
   "metadata": {},
   "source": [
    "### 二、迭代"
   ]
  },
  {
   "cell_type": "code",
   "execution_count": 3,
   "metadata": {},
   "outputs": [],
   "source": [
    "class Solution:\n",
    "    def isSymmetric(self, root):\n",
    "        if root is None:\n",
    "            return True\n",
    "        layer = [root, ]\n",
    "        while layer:\n",
    "            layer_val = []\n",
    "            next_layer = []\n",
    "            all_none = True\n",
    "            for node in layer:\n",
    "                if node:\n",
    "                    layer_val.append(node.val)\n",
    "                    next_layer.append(node.left)\n",
    "                    next_layer.append(node.right)\n",
    "                    if node.left is not None or node.right is not None:\n",
    "                        all_none = False\n",
    "                else:\n",
    "                    layer_val.append(None)\n",
    "                    next_layer.append(None)\n",
    "                    next_layer.append(None)\n",
    "            if layer_val != layer_val[::-1]:\n",
    "                return False\n",
    "            if all_none:\n",
    "                layer = []\n",
    "            else:\n",
    "                layer = next_layer\n",
    "        return True"
   ]
  },
  {
   "cell_type": "markdown",
   "metadata": {},
   "source": [
    "### 三、迭代改进"
   ]
  },
  {
   "cell_type": "code",
   "execution_count": 4,
   "metadata": {},
   "outputs": [],
   "source": [
    "class Solution:\n",
    "    def isSymmetric(self, root):\n",
    "        queue = []\n",
    "        queue.append(root)\n",
    "        queue.append(root)\n",
    "        while queue:\n",
    "            t1 = queue.pop()\n",
    "            t2 = queue.pop()\n",
    "            if t1 == t2 == None:\n",
    "                continue\n",
    "            if t1 is None or t2 is None:\n",
    "                return False\n",
    "            if t1.val != t2.val:\n",
    "                return False\n",
    "            queue.append(t1.left)\n",
    "            queue.append(t2.right)\n",
    "            queue.append(t1.right)\n",
    "            queue.append(t2.left)\n",
    "        return True"
   ]
  },
  {
   "cell_type": "code",
   "execution_count": null,
   "metadata": {},
   "outputs": [],
   "source": []
  }
 ],
 "metadata": {
  "kernelspec": {
   "display_name": "Python 3 (ipykernel)",
   "language": "python",
   "name": "python3"
  },
  "language_info": {
   "codemirror_mode": {
    "name": "ipython",
    "version": 3
   },
   "file_extension": ".py",
   "mimetype": "text/x-python",
   "name": "python",
   "nbconvert_exporter": "python",
   "pygments_lexer": "ipython3",
   "version": "3.11.0"
  }
 },
 "nbformat": 4,
 "nbformat_minor": 2
}
