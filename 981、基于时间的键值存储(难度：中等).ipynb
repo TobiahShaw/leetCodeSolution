{
 "cells": [
  {
   "cell_type": "markdown",
   "metadata": {},
   "source": [
    "# 基于时间的键值存储\n",
    "\n",
    "**题目来源：力扣（LeetCode）**\n",
    "\n",
    "**链接：https://leetcode-cn.com/problems/time-based-key-value-store/**\n",
    "\n",
    "## 一、题目\n",
    "\n",
    "创建一个基于时间的键值存储类 TimeMap，它支持下面两个操作：\n",
    "\n",
    "1. set(string key, string value, int timestamp)\n",
    "    - 存储键 key、值 value，以及给定的时间戳 timestamp。\n",
    "2. get(string key, int timestamp)\n",
    "    - 返回先前调用 set(key, value, timestamp_prev) 所存储的值，其中 timestamp_prev <= timestamp。\n",
    "    - 如果有多个这样的值，则返回对应最大的  timestamp_prev 的那个值。\n",
    "    - 如果没有值，则返回空字符串（\"\"）。\n",
    "\n",
    "提示：\n",
    "\n",
    "- 所有的键/值字符串都是小写的。\n",
    "- 所有的键/值字符串长度都在 [1, 100] 范围内。\n",
    "- 所有 TimeMap.set 操作中的时间戳 timestamps 都是严格递增的。\n",
    "- 1 <= timestamp <= 10^7\n",
    "\n",
    "## 二、示例\n",
    "\n",
    "### 示例 1：\n",
    "\n",
    "输入：inputs = [\"TimeMap\",\"set\",\"get\",\"get\",\"set\",\"get\",\"get\"], inputs = [[],[\"foo\",\"bar\",1],[\"foo\",1],[\"foo\",3],[\"foo\",\"bar2\",4],[\"foo\",4],[\"foo\",5]]\n",
    "\n",
    "输出：[null,null,\"bar\",\"bar\",null,\"bar2\",\"bar2\"]\n",
    "解释：\n",
    "\n",
    "TimeMap kv; \n",
    "```\n",
    "kv = TimeMap()\n",
    "kv.set(\"foo\", \"bar\", 1) # 存储键 \"foo\" 和值 \"bar\" 以及时间戳 timestamp = 1   \n",
    "kv.get(\"foo\", 1) # 输出 \"bar\"   \n",
    "kv.get(\"foo\", 3) # 输出 \"bar\" 因为在时间戳 3 和时间戳 2 处没有对应 \"foo\" 的值，所以唯一的值位于时间戳 1 处（即 \"bar\"）   \n",
    "kv.set(\"foo\", \"bar2\", 4)  \n",
    "kv.get(\"foo\", 4) # 输出 \"bar2\"   \n",
    "kv.get(\"foo\", 5) # 输出 \"bar2\"   \n",
    "```\n",
    "### 示例 2：\n",
    "\n",
    "输入：inputs = [\"TimeMap\",\"set\",\"set\",\"get\",\"get\",\"get\",\"get\",\"get\"], inputs = [[],[\"love\",\"high\",10],[\"love\",\"low\",20],[\"love\",5],[\"love\",10],[\"love\",15],[\"love\",20],[\"love\",25]]\n",
    "\n",
    "输出：[null,null,null,\"\",\"high\",\"high\",\"low\",\"low\"]\n",
    "\n",
    "## 三、解题思路\n",
    "\n",
    "### 二分法"
   ]
  },
  {
   "cell_type": "code",
   "execution_count": 1,
   "metadata": {},
   "outputs": [],
   "source": [
    "class TimeMap:\n",
    "\n",
    "    def __init__(self):\n",
    "        \"\"\"\n",
    "        Initialize your data structure here.\n",
    "        \"\"\"\n",
    "        self.stackdict = dict()\n",
    "        \n",
    "\n",
    "    def set(self, key, value, timestamp):\n",
    "        \"\"\"\n",
    "        :type key: str\n",
    "        :type value: str\n",
    "        :type timestamp: int\n",
    "        :rtype: None\n",
    "        \"\"\"\n",
    "        if key in self.stackdict:\n",
    "            self.stackdict[key].append([timestamp,value])\n",
    "        else:\n",
    "            self.stackdict[key]=[[timestamp,value]]\n",
    "        \n",
    "\n",
    "    def get(self, key, timestamp):\n",
    "        \"\"\"\n",
    "        :type key: str\n",
    "        :type timestamp: int\n",
    "        :rtype: str\n",
    "        \"\"\"\n",
    "        if key not in self.stackdict:\n",
    "            return ''\n",
    "        timelist = self.stackdict[key]\n",
    "\n",
    "        if timestamp<timelist[0][0]:\n",
    "            return ''\n",
    "        else:\n",
    "            left =0\n",
    "            right = len(timelist)-1\n",
    "\n",
    "            while left<right:\n",
    "                mid =(left+right)//2\n",
    "                if timelist[mid][0]<=timestamp:\n",
    "                    left = mid+1\n",
    "                else:\n",
    "                    right = mid\n",
    "            if timelist[left][0]<=timestamp:\n",
    "                return timelist[left][1]\n",
    "            else:\n",
    "                return timelist[left-1][1]"
   ]
  },
  {
   "cell_type": "code",
   "execution_count": 2,
   "metadata": {},
   "outputs": [
    {
     "data": {
      "text/plain": [
       "'bar'"
      ]
     },
     "execution_count": 2,
     "metadata": {},
     "output_type": "execute_result"
    }
   ],
   "source": [
    "kv = TimeMap()\n",
    "kv.set(\"foo\", \"bar\", 1) # 存储键 \"foo\" 和值 \"bar\" 以及时间戳 timestamp = 1   \n",
    "kv.get(\"foo\", 1) # 输出 \"bar\"   "
   ]
  },
  {
   "cell_type": "code",
   "execution_count": 3,
   "metadata": {},
   "outputs": [
    {
     "data": {
      "text/plain": [
       "'bar'"
      ]
     },
     "execution_count": 3,
     "metadata": {},
     "output_type": "execute_result"
    }
   ],
   "source": [
    "kv.get(\"foo\", 3) # 输出 \"bar\" 因为在时间戳 3 和时间戳 2 处没有对应 \"foo\" 的值，所以唯一的值位于时间戳 1 处（即 \"bar\"）   "
   ]
  },
  {
   "cell_type": "code",
   "execution_count": 4,
   "metadata": {},
   "outputs": [
    {
     "data": {
      "text/plain": [
       "'bar2'"
      ]
     },
     "execution_count": 4,
     "metadata": {},
     "output_type": "execute_result"
    }
   ],
   "source": [
    "kv.set(\"foo\", \"bar2\", 4)  \n",
    "kv.get(\"foo\", 4) # 输出 \"bar2\"   "
   ]
  },
  {
   "cell_type": "code",
   "execution_count": 5,
   "metadata": {},
   "outputs": [
    {
     "data": {
      "text/plain": [
       "'bar2'"
      ]
     },
     "execution_count": 5,
     "metadata": {},
     "output_type": "execute_result"
    }
   ],
   "source": [
    "kv.get(\"foo\", 5) # 输出 \"bar2\"   "
   ]
  },
  {
   "cell_type": "code",
   "execution_count": null,
   "metadata": {},
   "outputs": [],
   "source": []
  }
 ],
 "metadata": {
  "kernelspec": {
   "display_name": "Python 3",
   "language": "python",
   "name": "python3"
  },
  "language_info": {
   "codemirror_mode": {
    "name": "ipython",
    "version": 3
   },
   "file_extension": ".py",
   "mimetype": "text/x-python",
   "name": "python",
   "nbconvert_exporter": "python",
   "pygments_lexer": "ipython3",
   "version": "3.6.5"
  }
 },
 "nbformat": 4,
 "nbformat_minor": 2
}
