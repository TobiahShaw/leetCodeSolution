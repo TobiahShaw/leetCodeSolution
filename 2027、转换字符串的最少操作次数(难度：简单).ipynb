{
 "cells": [
  {
   "cell_type": "markdown",
   "metadata": {},
   "source": [
    "# 转换字符串的最少操作次数\n",
    "\n",
    "**题目来源：力扣（LeetCode）**\n",
    "\n",
    "**链接：https://leetcode-cn.com/problems/minimum-moves-to-convert-string/**\n",
    "\n",
    "## 一、题目\n",
    "\n",
    "给你一个字符串 s ，由 n 个字符组成，每个字符不是 'X' 就是 'O' 。\n",
    "\n",
    "一次 操作 定义为从 s 中选出 三个连续字符 并将选中的每个字符都转换为 'O' 。注意，如果字符已经是 'O' ，只需要保持 不变 。\n",
    "\n",
    "返回将 s 中所有字符均转换为 'O' 需要执行的 最少 操作次数。\n",
    "\n",
    "### 提示：\n",
    "\n",
    "- 3 <= s.length <= 1000\n",
    "- s[i] 为 'X' 或 'O'\n",
    "\n",
    "## 二、示例\n",
    "\n",
    "### 示例 1：\n",
    "\n",
    "输入：s = \"XXX\"\n",
    "\n",
    "输出：1\n",
    "\n",
    "解释：XXX -> OOO一次操作，选中全部 3 个字符，并将它们转换为 'O' 。\n",
    "\n",
    "### 示例 2：\n",
    "\n",
    "输入：s = \"XXOX\"\n",
    "\n",
    "输出：2\n",
    "\n",
    "解释：XXOX -> OOOX -> OOOO第一次操作，选择前 3 个字符，并将这些字符转换为 'O' 。然后，选中后 3 个字符，并执行转换。最终得到的字符串全由字符'O' 组成。\n",
    "\n",
    "### 示例 3：\n",
    "\n",
    "输入：s = \"OOOO\"\n",
    "\n",
    "输出：0\n",
    "\n",
    "解释：s 中不存在需要转换的 'X' 。\n",
    "\n",
    "## 三、解题思路\n",
    "\n",
    "### 贪心"
   ]
  },
  {
   "cell_type": "code",
   "execution_count": 1,
   "metadata": {},
   "outputs": [],
   "source": [
    "def minimumMoves(s: str) -> int:\n",
    "    index = 0\n",
    "    ret = 0\n",
    "    n = len(s)\n",
    "    while index < n:\n",
    "        if s[index] == 'X':\n",
    "            ret += 1\n",
    "            index += 3\n",
    "        else:\n",
    "            index += 1\n",
    "    return ret"
   ]
  },
  {
   "cell_type": "code",
   "execution_count": 2,
   "metadata": {},
   "outputs": [
    {
     "data": {
      "text/plain": [
       "1"
      ]
     },
     "execution_count": 2,
     "metadata": {},
     "output_type": "execute_result"
    }
   ],
   "source": [
    "minimumMoves(\"XXX\")"
   ]
  },
  {
   "cell_type": "code",
   "execution_count": 3,
   "metadata": {},
   "outputs": [
    {
     "data": {
      "text/plain": [
       "2"
      ]
     },
     "execution_count": 3,
     "metadata": {},
     "output_type": "execute_result"
    }
   ],
   "source": [
    "minimumMoves(\"XXOX\")"
   ]
  },
  {
   "cell_type": "code",
   "execution_count": 4,
   "metadata": {},
   "outputs": [
    {
     "data": {
      "text/plain": [
       "0"
      ]
     },
     "execution_count": 4,
     "metadata": {},
     "output_type": "execute_result"
    }
   ],
   "source": [
    "minimumMoves(\"OOOO\")"
   ]
  },
  {
   "cell_type": "code",
   "execution_count": null,
   "metadata": {},
   "outputs": [],
   "source": []
  }
 ],
 "metadata": {
  "kernelspec": {
   "display_name": "Python 3",
   "language": "python",
   "name": "python3"
  },
  "language_info": {
   "codemirror_mode": {
    "name": "ipython",
    "version": 3
   },
   "file_extension": ".py",
   "mimetype": "text/x-python",
   "name": "python",
   "nbconvert_exporter": "python",
   "pygments_lexer": "ipython3",
   "version": "3.6.5"
  }
 },
 "nbformat": 4,
 "nbformat_minor": 2
}
