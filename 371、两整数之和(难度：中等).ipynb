{
 "cells": [
  {
   "cell_type": "markdown",
   "metadata": {},
   "source": [
    "# 两整数之和\n",
    "\n",
    "**题目来源：力扣（LeetCode）**\n",
    "\n",
    "**链接：https://leetcode-cn.com/problems/sum-of-two-integers/**\n",
    "\n",
    "## 一、题目\n",
    "\n",
    "给你两个整数 a 和 b ，不使用 运算符 + 和 - ，计算并返回两整数之和。\n",
    "\n",
    "### 提示：\n",
    "\n",
    "- -1000 <= a, b <= 1000\n",
    "\n",
    "## 二、示例\n",
    "\n",
    "### 示例 1：\n",
    "\n",
    "输入：a = 1, b = 2\n",
    "\n",
    "输出：3\n",
    "\n",
    "### 示例 2：\n",
    "\n",
    "输入：a = 2, b = 3\n",
    "\n",
    "输出：5\n",
    "\n",
    "## 三、解题思路\n",
    "\n",
    "### 位运算"
   ]
  },
  {
   "cell_type": "code",
   "execution_count": 1,
   "metadata": {},
   "outputs": [],
   "source": [
    "def getSum(a: int, b: int) -> int:\n",
    "    MASK1 = 4294967296  # 2^32\n",
    "    MASK2 = 2147483648  # 2^31\n",
    "    MASK3 = 2147483647  # 2^31-1\n",
    "    while b != 0:\n",
    "        carry = ((a & b) << 1) % MASK1\n",
    "        a = (a ^ b) % MASK1\n",
    "        b = carry\n",
    "    if a & MASK2:  # 负数\n",
    "        return ~((a ^ MASK2) ^ MASK3)\n",
    "    else:  # 正数\n",
    "        return a"
   ]
  },
  {
   "cell_type": "code",
   "execution_count": 2,
   "metadata": {},
   "outputs": [
    {
     "data": {
      "text/plain": [
       "3"
      ]
     },
     "execution_count": 2,
     "metadata": {},
     "output_type": "execute_result"
    }
   ],
   "source": [
    "getSum(1, 2)"
   ]
  },
  {
   "cell_type": "code",
   "execution_count": 3,
   "metadata": {},
   "outputs": [
    {
     "data": {
      "text/plain": [
       "5"
      ]
     },
     "execution_count": 3,
     "metadata": {},
     "output_type": "execute_result"
    }
   ],
   "source": [
    "getSum(2, 3)"
   ]
  },
  {
   "cell_type": "code",
   "execution_count": null,
   "metadata": {},
   "outputs": [],
   "source": []
  }
 ],
 "metadata": {
  "kernelspec": {
   "display_name": "Python 3",
   "language": "python",
   "name": "python3"
  },
  "language_info": {
   "codemirror_mode": {
    "name": "ipython",
    "version": 3
   },
   "file_extension": ".py",
   "mimetype": "text/x-python",
   "name": "python",
   "nbconvert_exporter": "python",
   "pygments_lexer": "ipython3",
   "version": "3.6.5"
  }
 },
 "nbformat": 4,
 "nbformat_minor": 2
}
