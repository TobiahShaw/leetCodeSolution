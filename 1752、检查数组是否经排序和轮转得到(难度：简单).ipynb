{
 "cells": [
  {
   "cell_type": "markdown",
   "id": "ed7a715c",
   "metadata": {},
   "source": [
    "# 检查数组是否经排序和轮转得到\n",
    "\n",
    "**题目来源：力扣（LeetCode）**\n",
    "\n",
    "**链接：https://leetcode.cn/problems/check-if-array-is-sorted-and-rotated/**\n",
    "\n",
    "## 一、题目\n",
    "\n",
    "给你一个数组 nums 。nums 的源数组中，所有元素与 nums 相同，但按非递减顺序排列。\n",
    "\n",
    "如果 nums 能够由源数组轮转若干位置（包括 0 个位置）得到，则返回 true ；否则，返回 false 。\n",
    "\n",
    "源数组中可能存在 重复项 。\n",
    "\n",
    "注意：我们称数组 A 在轮转 x 个位置后得到长度相同的数组 B ，当它们满足 A[i] == B[(i+x) % A.length] ，其中 % 为取余运算。。\n",
    "\n",
    "### 提示：\n",
    "\n",
    "- 1 <= nums.length <= 100\n",
    "- 1 <= nums[i] <= 100\n",
    "\n",
    "## 二、示例\n",
    "\n",
    "### 示例 1：\n",
    "\n",
    "输入：nums = [3,4,5,1,2]\n",
    "\n",
    "输出：true\n",
    "\n",
    "解释：[1,2,3,4,5] 为有序的源数组。\n",
    "\n",
    "可以轮转 x = 3 个位置，使新数组从值为 3 的元素开始：[3,4,5,1,2] 。\n",
    "\n",
    "### 示例 2：\n",
    "\n",
    "输入：nums = [2,1,3,4]\n",
    "\n",
    "输出：false\n",
    "\n",
    "解释：源数组无法经轮转得到 nums 。\n",
    "\n",
    "### 示例 3：\n",
    "\n",
    "输入：nums = [1,2,3]\n",
    "\n",
    "输出：true\n",
    "\n",
    "解释：[1,2,3] 为有序的源数组。\n",
    "\n",
    "可以轮转 x = 0 个位置（即不轮转）得到 nums 。\n",
    "\n",
    "## 三、解题思路\n",
    "\n",
    "### 遍历\n",
    "\n",
    "- 如果不存在递减，则返回 true\n",
    "- 如果存在两次及以上递减， 则返回 false\n",
    "- 如果只存在一次，则看nums的最后一个元素是否不大于第一个元素"
   ]
  },
  {
   "cell_type": "code",
   "execution_count": 1,
   "id": "ca5ef5a9",
   "metadata": {},
   "outputs": [],
   "source": [
    "class Solution:\n",
    "    def check(self, nums) -> bool:\n",
    "        flag = False # 是否出现过递减\n",
    "        for i in range(len(nums) - 1):\n",
    "            if nums[i] > nums[i + 1]:\n",
    "                if not flag:\n",
    "                    flag = True\n",
    "                else:\n",
    "                    return False\n",
    "        return not flag or flag and nums[-1] <= nums[0]"
   ]
  },
  {
   "cell_type": "code",
   "execution_count": 2,
   "id": "0387cca9",
   "metadata": {},
   "outputs": [],
   "source": [
    "s = Solution()"
   ]
  },
  {
   "cell_type": "code",
   "execution_count": 3,
   "id": "2d01e6c3",
   "metadata": {},
   "outputs": [
    {
     "data": {
      "text/plain": [
       "True"
      ]
     },
     "execution_count": 3,
     "metadata": {},
     "output_type": "execute_result"
    }
   ],
   "source": [
    "s.check([3,4,5,1,2])"
   ]
  },
  {
   "cell_type": "code",
   "execution_count": 4,
   "id": "ac954ce0",
   "metadata": {},
   "outputs": [
    {
     "data": {
      "text/plain": [
       "False"
      ]
     },
     "execution_count": 4,
     "metadata": {},
     "output_type": "execute_result"
    }
   ],
   "source": [
    "s.check([2,1,3,4])"
   ]
  },
  {
   "cell_type": "code",
   "execution_count": 5,
   "id": "56ca5cfa",
   "metadata": {},
   "outputs": [
    {
     "data": {
      "text/plain": [
       "True"
      ]
     },
     "execution_count": 5,
     "metadata": {},
     "output_type": "execute_result"
    }
   ],
   "source": [
    "s.check([1,2,3])"
   ]
  },
  {
   "cell_type": "code",
   "execution_count": null,
   "id": "cafdf817",
   "metadata": {},
   "outputs": [],
   "source": []
  }
 ],
 "metadata": {
  "kernelspec": {
   "display_name": "Python 3 (ipykernel)",
   "language": "python",
   "name": "python3"
  },
  "language_info": {
   "codemirror_mode": {
    "name": "ipython",
    "version": 3
   },
   "file_extension": ".py",
   "mimetype": "text/x-python",
   "name": "python",
   "nbconvert_exporter": "python",
   "pygments_lexer": "ipython3",
   "version": "3.9.10+"
  }
 },
 "nbformat": 4,
 "nbformat_minor": 5
}
