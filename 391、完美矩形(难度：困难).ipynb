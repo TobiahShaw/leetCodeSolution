{
 "cells": [
  {
   "cell_type": "markdown",
   "metadata": {},
   "source": [
    "# 完美矩形\n",
    "\n",
    "**题目来源：力扣（LeetCode）**\n",
    "\n",
    "**链接：https://leetcode-cn.com/problems/perfect-rectangle/**\n",
    "\n",
    "## 一、题目\n",
    "\n",
    "给你一个数组 rectangles ，其中 rectangles[i] = [xi, yi, ai, bi] 表示一个坐标轴平行的矩形。这个矩形的左下顶点是 (xi, yi) ，右上顶点是 (ai, bi) 。\n",
    "\n",
    "如果所有矩形一起精确覆盖了某个矩形区域，则返回 true ；否则，返回 false 。\n",
    "\n",
    "### 提示：\n",
    "\n",
    "- 1 <= rectangles.length <= 2 * 10^4\n",
    "- rectangles[i].length == 4\n",
    "- -10^5 <= xi, yi, ai, bi <= 10^5\n",
    "\n",
    "## 二、示例\n",
    "\n",
    "### 示例 1：\n",
    "\n",
    "输入：rectangles = [[1,1,3,3],[3,1,4,2],[3,2,4,4],[1,3,2,4],[2,3,3,4]]\n",
    "\n",
    "输出：true\n",
    "\n",
    "解释：5 个矩形一起可以精确地覆盖一个矩形区域。 \n",
    "\n",
    "### 示例 2：\n",
    "\n",
    "输入：rectangles = [[1,1,2,3],[1,3,2,4],[3,1,4,2],[3,2,4,4]]\n",
    "\n",
    "输出：false\n",
    "\n",
    "解释：两个矩形之间有间隔，无法覆盖成一个矩形。\n",
    "\n",
    "### 示例 3：\n",
    "\n",
    "输入：rectangles = [[1,1,3,3],[3,1,4,2],[1,3,2,4],[3,2,4,4]]\n",
    "\n",
    "输出：false\n",
    "\n",
    "解释：图形顶端留有空缺，无法覆盖成一个矩形。\n",
    "\n",
    "### 示例 4：\n",
    "\n",
    "输入：rectangles = [[1,1,3,3],[3,1,4,2],[1,3,2,4],[2,2,4,4]]\n",
    "\n",
    "输出：false\n",
    "\n",
    "解释：因为中间有相交区域，虽然形成了矩形，但不是精确覆盖。\n",
    "\n",
    "## 三、解题思路\n",
    "\n",
    "### 利用字典"
   ]
  },
  {
   "cell_type": "code",
   "execution_count": 1,
   "metadata": {},
   "outputs": [],
   "source": [
    "def isRectangleCover(rectangles) -> bool:\n",
    "    from collections import defaultdict\n",
    "    area, minX, minY, maxX, maxY = 0, rectangles[0][0], rectangles[0][1], rectangles[0][2], rectangles[0][3]\n",
    "    cnt = defaultdict(int)\n",
    "    for rect in rectangles:\n",
    "        x, y, a, b = rect[0], rect[1], rect[2], rect[3]\n",
    "        area += (a - x) * (b - y)\n",
    "\n",
    "        minX = min(minX, x)\n",
    "        minY = min(minY, y)\n",
    "        maxX = max(maxX, a)\n",
    "        maxY = max(maxY, b)\n",
    "\n",
    "        cnt[(x, y)] += 1\n",
    "        cnt[(x, b)] += 1\n",
    "        cnt[(a, y)] += 1\n",
    "        cnt[(a, b)] += 1\n",
    "\n",
    "    if area != (maxX - minX) * (maxY - minY) or cnt[(minX, minY)] != 1 or cnt[(minX, maxY)] != 1 or cnt[(maxX, minY)] != 1 or cnt[(maxX, maxY)] != 1:\n",
    "        return False\n",
    "\n",
    "    del cnt[(minX, minY)], cnt[(minX, maxY)], cnt[(maxX, minY)], cnt[(maxX, maxY)]\n",
    "\n",
    "    return all(c == 2 or c == 4 for c in cnt.values())"
   ]
  },
  {
   "cell_type": "code",
   "execution_count": 2,
   "metadata": {},
   "outputs": [
    {
     "data": {
      "text/plain": [
       "True"
      ]
     },
     "execution_count": 2,
     "metadata": {},
     "output_type": "execute_result"
    }
   ],
   "source": [
    "isRectangleCover(rectangles = [[1,1,3,3],[3,1,4,2],[3,2,4,4],[1,3,2,4],[2,3,3,4]])"
   ]
  },
  {
   "cell_type": "code",
   "execution_count": 3,
   "metadata": {},
   "outputs": [
    {
     "data": {
      "text/plain": [
       "False"
      ]
     },
     "execution_count": 3,
     "metadata": {},
     "output_type": "execute_result"
    }
   ],
   "source": [
    "isRectangleCover(rectangles = [[1,1,2,3],[1,3,2,4],[3,1,4,2],[3,2,4,4]])"
   ]
  },
  {
   "cell_type": "code",
   "execution_count": 4,
   "metadata": {},
   "outputs": [
    {
     "data": {
      "text/plain": [
       "False"
      ]
     },
     "execution_count": 4,
     "metadata": {},
     "output_type": "execute_result"
    }
   ],
   "source": [
    "isRectangleCover(rectangles = [[1,1,3,3],[3,1,4,2],[1,3,2,4],[3,2,4,4]])"
   ]
  },
  {
   "cell_type": "code",
   "execution_count": 5,
   "metadata": {},
   "outputs": [
    {
     "data": {
      "text/plain": [
       "False"
      ]
     },
     "execution_count": 5,
     "metadata": {},
     "output_type": "execute_result"
    }
   ],
   "source": [
    "isRectangleCover(rectangles = [[1,1,3,3],[3,1,4,2],[1,3,2,4],[2,2,4,4]])"
   ]
  },
  {
   "cell_type": "code",
   "execution_count": null,
   "metadata": {},
   "outputs": [],
   "source": []
  }
 ],
 "metadata": {
  "kernelspec": {
   "display_name": "Python 3",
   "language": "python",
   "name": "python3"
  },
  "language_info": {
   "codemirror_mode": {
    "name": "ipython",
    "version": 3
   },
   "file_extension": ".py",
   "mimetype": "text/x-python",
   "name": "python",
   "nbconvert_exporter": "python",
   "pygments_lexer": "ipython3",
   "version": "3.6.5"
  }
 },
 "nbformat": 4,
 "nbformat_minor": 2
}
