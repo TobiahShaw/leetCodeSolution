{
 "cells": [
  {
   "cell_type": "markdown",
   "metadata": {},
   "source": [
    "# 可见点的最大数目\n",
    "\n",
    "**题目来源：力扣（LeetCode）**\n",
    "\n",
    "**链接：https://leetcode-cn.com/problems/maximum-number-of-visible-points/**\n",
    "\n",
    "## 一、题目\n",
    "\n",
    "给你一个点数组 points 和一个表示角度的整数 angle ，你的位置是 location ，其中 location = [posx, posy] 且 points[i] = [xi, yi] 都表示 X-Y 平面上的整数坐标。\n",
    "\n",
    "最开始，你面向东方进行观测。你 不能 进行移动改变位置，但可以通过 自转 调整观测角度。换句话说，posx 和 posy 不能改变。你的视野范围的角度用 angle 表示， 这决定了你观测任意方向时可以多宽。设 d 为你逆时针自转旋转的度数，那么你的视野就是角度范围 [d - angle/2, d + angle/2] 所指示的那片区域。\n",
    "\n",
    "对于每个点，如果由该点、你的位置以及从你的位置直接向东的方向形成的角度 位于你的视野中 ，那么你就可以看到它。\n",
    "\n",
    "同一个坐标上可以有多个点。你所在的位置也可能存在一些点，但不管你的怎么旋转，总是可以看到这些点。同时，点不会阻碍你看到其他点。\n",
    "\n",
    "返回你能看到的点的最大数目。\n",
    "\n",
    "### 提示：\n",
    "\n",
    "- 1 <= points.length <= 10^5\n",
    "- points[i].length == 2\n",
    "- location.length == 2\n",
    "- 0 <= angle < 360\n",
    "- 0 <= posx, posy, xi, yi <= 100\n",
    "\n",
    "## 二、示例\n",
    "\n",
    "### 示例 1：\n",
    "\n",
    "输入：points = [[2,1],[2,2],[3,3]], angle = 90, location = [1,1]\n",
    "\n",
    "输出：3\n",
    "\n",
    "解释：在你的视野中，所有的点都清晰可见，尽管 [2,2] 和 [3,3]在同一条直线上，你仍然可以看到 [3,3] 。\n",
    "\n",
    "### 示例 2：\n",
    "\n",
    "输入：points = [[2,1],[2,2],[3,4],[1,1]], angle = 90, location = [1,1]\n",
    "\n",
    "输出：4\n",
    "\n",
    "解释：在你的视野中，所有的点都清晰可见，包括你所在位置的那个点。\n",
    "\n",
    "### 示例 3：\n",
    "\n",
    "输入：points = [[1,0],[2,1]], angle = 13, location = [1,1]\n",
    "\n",
    "输出：1\n",
    "\n",
    "解释：如图所示，你只能看到两点之一。\n",
    "\n",
    "## 三、解题思路\n",
    "\n",
    "### 二分"
   ]
  },
  {
   "cell_type": "code",
   "execution_count": 1,
   "metadata": {},
   "outputs": [],
   "source": [
    "def visiblePoints(points, angle: int, location) -> int:\n",
    "    from math import atan2\n",
    "    from math import pi\n",
    "    from bisect import bisect_right\n",
    "    sameCnt = 0\n",
    "    polarDegrees = []\n",
    "    for p in points:\n",
    "        if p == location:\n",
    "            sameCnt += 1\n",
    "        else:\n",
    "            polarDegrees.append(atan2(p[1] - location[1], p[0] - location[0]))\n",
    "    polarDegrees.sort()\n",
    "\n",
    "    n = len(polarDegrees)\n",
    "    polarDegrees += [deg + 2 * pi for deg in polarDegrees]\n",
    "\n",
    "    degree = angle * pi / 180\n",
    "    maxCnt = max((bisect_right(polarDegrees, polarDegrees[i] + degree) - i for i in range(n)), default=0)\n",
    "    return maxCnt + sameCnt"
   ]
  },
  {
   "cell_type": "code",
   "execution_count": 2,
   "metadata": {},
   "outputs": [
    {
     "data": {
      "text/plain": [
       "3"
      ]
     },
     "execution_count": 2,
     "metadata": {},
     "output_type": "execute_result"
    }
   ],
   "source": [
    "visiblePoints(points = [[2,1],[2,2],[3,3]], angle = 90, location = [1,1])"
   ]
  },
  {
   "cell_type": "code",
   "execution_count": 3,
   "metadata": {},
   "outputs": [
    {
     "data": {
      "text/plain": [
       "4"
      ]
     },
     "execution_count": 3,
     "metadata": {},
     "output_type": "execute_result"
    }
   ],
   "source": [
    "visiblePoints(points = [[2,1],[2,2],[3,4],[1,1]], angle = 90, location = [1,1])"
   ]
  },
  {
   "cell_type": "code",
   "execution_count": 4,
   "metadata": {},
   "outputs": [
    {
     "data": {
      "text/plain": [
       "1"
      ]
     },
     "execution_count": 4,
     "metadata": {},
     "output_type": "execute_result"
    }
   ],
   "source": [
    "visiblePoints(points = [[1,0],[2,1]], angle = 13, location = [1,1])"
   ]
  },
  {
   "cell_type": "code",
   "execution_count": null,
   "metadata": {},
   "outputs": [],
   "source": []
  }
 ],
 "metadata": {
  "kernelspec": {
   "display_name": "Python 3",
   "language": "python",
   "name": "python3"
  },
  "language_info": {
   "codemirror_mode": {
    "name": "ipython",
    "version": 3
   },
   "file_extension": ".py",
   "mimetype": "text/x-python",
   "name": "python",
   "nbconvert_exporter": "python",
   "pygments_lexer": "ipython3",
   "version": "3.6.5"
  }
 },
 "nbformat": 4,
 "nbformat_minor": 2
}
