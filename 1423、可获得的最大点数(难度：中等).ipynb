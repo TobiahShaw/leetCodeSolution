{
 "cells": [
  {
   "cell_type": "markdown",
   "metadata": {},
   "source": [
    "# 可获得的最大点数\n",
    "\n",
    "**题目来源：力扣（LeetCode）**\n",
    "\n",
    "**链接：https://leetcode-cn.com/problems/maximum-points-you-can-obtain-from-cards/**\n",
    "\n",
    "## 一、题目\n",
    "\n",
    "几张卡牌 排成一行，每张卡牌都有一个对应的点数。点数由整数数组 cardPoints 给出。\n",
    "\n",
    "每次行动，你可以从行的开头或者末尾拿一张卡牌，最终你必须正好拿 k 张卡牌。\n",
    "\n",
    "你的点数就是你拿到手中的所有卡牌的点数之和。\n",
    "\n",
    "给你一个整数数组 cardPoints 和整数 k，请你返回可以获得的最大点数。\n",
    "\n",
    "### 提示：\n",
    "\n",
    "- 1 <= cardPoints.length <= 10^5\n",
    "- 1 <= cardPoints[i] <= 10^4\n",
    "- 1 <= k <= cardPoints.length\n",
    "\n",
    "## 二、示例\n",
    "\n",
    "### 示例 1：\n",
    "\n",
    "输入：cardPoints = [1,2,3,4,5,6,1], k = 3\n",
    "\n",
    "输出：12\n",
    "\n",
    "解释：第一次行动，不管拿哪张牌，你的点数总是 1 。但是，先拿最右边的卡牌将会最大化你的可获得点数。最优策略是拿右边的三张牌，最终点数为 1 + 6 + 5 = 12 。\n",
    "\n",
    "### 示例 2：\n",
    "\n",
    "输入：cardPoints = [2,2,2], k = 2\n",
    "\n",
    "输出：4\n",
    "\n",
    "解释：无论你拿起哪两张卡牌，可获得的点数总是 4 。\n",
    "\n",
    "### 示例 3：\n",
    "\n",
    "输入：cardPoints = [9,7,7,9,7,7,9], k = 7\n",
    "\n",
    "输出：55\n",
    "\n",
    "解释：你必须拿起所有卡牌，可以获得的点数为所有卡牌的点数之和。\n",
    "\n",
    "### 示例 4：\n",
    "\n",
    "输入：cardPoints = [1,1000,1], k = 1\n",
    "\n",
    "输出：1\n",
    "\n",
    "解释：你无法拿到中间那张卡牌，所以可以获得的最大点数为 1 。 \n",
    "\n",
    "### 示例 5：\n",
    "\n",
    "输入：cardPoints = [1,79,80,1,1,1,200,1], k = 3\n",
    "\n",
    "输出：202\n",
    "\n",
    "## 三、解题思路\n",
    "\n",
    "### 滑动窗口\n",
    "\n",
    "记数组 cardPoints 的长度为 n，由于只能从开头和末尾拿 k 张卡牌，所以最后剩下的必然是连续的 n−k 张卡牌。"
   ]
  },
  {
   "cell_type": "code",
   "execution_count": 1,
   "metadata": {},
   "outputs": [],
   "source": [
    "def maxScore(cardPoints, k: int) -> int:\n",
    "    ret = sum(cardPoints[:k])\n",
    "    n = len(cardPoints)\n",
    "    cur = ret\n",
    "    for i in range(k):\n",
    "        cur = cur - cardPoints[k-1-i] + cardPoints[n-1-i]\n",
    "        if ret < cur:\n",
    "            ret = cur\n",
    "    return ret"
   ]
  },
  {
   "cell_type": "code",
   "execution_count": 2,
   "metadata": {},
   "outputs": [
    {
     "data": {
      "text/plain": [
       "12"
      ]
     },
     "execution_count": 2,
     "metadata": {},
     "output_type": "execute_result"
    }
   ],
   "source": [
    "maxScore(cardPoints = [1,2,3,4,5,6,1], k = 3)"
   ]
  },
  {
   "cell_type": "code",
   "execution_count": 3,
   "metadata": {},
   "outputs": [
    {
     "data": {
      "text/plain": [
       "4"
      ]
     },
     "execution_count": 3,
     "metadata": {},
     "output_type": "execute_result"
    }
   ],
   "source": [
    "maxScore(cardPoints = [2,2,2], k = 2)"
   ]
  },
  {
   "cell_type": "code",
   "execution_count": 4,
   "metadata": {},
   "outputs": [
    {
     "data": {
      "text/plain": [
       "55"
      ]
     },
     "execution_count": 4,
     "metadata": {},
     "output_type": "execute_result"
    }
   ],
   "source": [
    "maxScore(cardPoints = [9,7,7,9,7,7,9], k = 7)"
   ]
  },
  {
   "cell_type": "code",
   "execution_count": 5,
   "metadata": {},
   "outputs": [
    {
     "data": {
      "text/plain": [
       "1"
      ]
     },
     "execution_count": 5,
     "metadata": {},
     "output_type": "execute_result"
    }
   ],
   "source": [
    "maxScore(cardPoints = [1,1000,1], k = 1)"
   ]
  },
  {
   "cell_type": "code",
   "execution_count": 6,
   "metadata": {},
   "outputs": [
    {
     "data": {
      "text/plain": [
       "202"
      ]
     },
     "execution_count": 6,
     "metadata": {},
     "output_type": "execute_result"
    }
   ],
   "source": [
    "maxScore(cardPoints = [1,79,80,1,1,1,200,1], k = 3)"
   ]
  },
  {
   "cell_type": "code",
   "execution_count": null,
   "metadata": {},
   "outputs": [],
   "source": []
  }
 ],
 "metadata": {
  "kernelspec": {
   "display_name": "Python 3",
   "language": "python",
   "name": "python3"
  },
  "language_info": {
   "codemirror_mode": {
    "name": "ipython",
    "version": 3
   },
   "file_extension": ".py",
   "mimetype": "text/x-python",
   "name": "python",
   "nbconvert_exporter": "python",
   "pygments_lexer": "ipython3",
   "version": "3.6.5"
  }
 },
 "nbformat": 4,
 "nbformat_minor": 2
}
