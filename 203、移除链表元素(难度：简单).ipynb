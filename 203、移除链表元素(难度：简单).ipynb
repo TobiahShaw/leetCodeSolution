{
  "cells": [
    {
      "metadata": {
        "collapsed": true
      },
      "cell_type": "markdown",
      "source": "# 移除链表元素\n\n**题目来源：力扣（LeetCode）**\n\n**链接：https://leetcode-cn.com/problems/remove-linked-list-elements/**\n\n## 一、题目\n\n删除链表中等于给定值 val 的所有节点。\n\n## 二、示例\n\n输入: 1->2->6->3->4->5->6, val = 6\n\n输出: 1->2->3->4->5\n\n## 解题思路"
    },
    {
      "metadata": {
        "trusted": true
      },
      "cell_type": "code",
      "source": "class ListNode:\n    def __init__(self, x):\n        self.val = x\n        self.next = None",
      "execution_count": null,
      "outputs": []
    },
    {
      "metadata": {
        "trusted": true
      },
      "cell_type": "code",
      "source": "head = ListNode(1)\nhead.next = ListNode(2)\nhead.next.next = ListNode(6)\nhead.next.next.next = ListNode(3)\nhead.next.next.next.next = ListNode(4)\nhead.next.next.next.next.next = ListNode(5)\nhead.next.next.next.next.next.next.next = ListNode(6)",
      "execution_count": null,
      "outputs": []
    },
    {
      "metadata": {
        "trusted": true
      },
      "cell_type": "markdown",
      "source": "### 哨兵节点"
    },
    {
      "metadata": {
        "trusted": true
      },
      "cell_type": "code",
      "source": "def removeElements(head: ListNode, val: int) -> ListNode:\n    holder = ListNode(0)\n    holder.next = head\n    \n    prev, curr = holder, holder.next\n    while curr:\n        if curr.val == val:\n            prev.next = curr.next\n        else:\n            prev = curr\n        curr = curr.next\n    return holder.next",
      "execution_count": null,
      "outputs": []
    },
    {
      "metadata": {
        "trusted": true
      },
      "cell_type": "code",
      "source": "",
      "execution_count": null,
      "outputs": []
    }
  ],
  "metadata": {
    "kernelspec": {
      "name": "python36",
      "display_name": "Python 3.6",
      "language": "python"
    },
    "language_info": {
      "mimetype": "text/ x - python",
      "nbconvert_exporter": "python",
      "version": "3.6.0",
      "name": "python",
      "file_extension": ".py",
      "pygments_lexer": "ipython2",
      "codemirror_mode": {
        "version": 2,
        "name": "ipython"
      }
    }
  },
  "nbformat": 4,
  "nbformat_minor": 2
}