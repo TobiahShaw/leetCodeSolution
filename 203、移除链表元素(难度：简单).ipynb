{
 "cells": [
  {
   "cell_type": "markdown",
   "metadata": {
    "collapsed": true
   },
   "source": [
    "# 移除链表元素\n",
    "\n",
    "**题目来源：力扣（LeetCode）**\n",
    "\n",
    "**链接：https://leetcode-cn.com/problems/remove-linked-list-elements/**\n",
    "\n",
    "## 一、题目\n",
    "\n",
    "删除链表中等于给定值 val 的所有节点。\n",
    "\n",
    "## 二、示例\n",
    "\n",
    "输入: 1->2->6->3->4->5->6, val = 6\n",
    "\n",
    "输出: 1->2->3->4->5\n",
    "\n",
    "## 解题思路"
   ]
  },
  {
   "cell_type": "code",
   "execution_count": 1,
   "metadata": {},
   "outputs": [],
   "source": [
    "class ListNode:\n",
    "    def __init__(self, x):\n",
    "        self.val = x\n",
    "        self.next = None"
   ]
  },
  {
   "cell_type": "code",
   "execution_count": 2,
   "metadata": {},
   "outputs": [],
   "source": [
    "head = ListNode(1)\n",
    "head.next = ListNode(2)\n",
    "head.next.next = ListNode(6)\n",
    "head.next.next.next = ListNode(3)\n",
    "head.next.next.next.next = ListNode(4)\n",
    "head.next.next.next.next.next = ListNode(5)\n",
    "head.next.next.next.next.next.next = ListNode(6)"
   ]
  },
  {
   "cell_type": "markdown",
   "metadata": {},
   "source": [
    "### 哨兵节点"
   ]
  },
  {
   "cell_type": "code",
   "execution_count": 3,
   "metadata": {},
   "outputs": [],
   "source": [
    "def removeElements(head: ListNode, val: int) -> ListNode:\n",
    "    holder = ListNode(0)\n",
    "    holder.next = head\n",
    "    \n",
    "    prev, curr = holder, holder.next\n",
    "    while curr:\n",
    "        if curr.val == val:\n",
    "            prev.next = curr.next\n",
    "        else:\n",
    "            prev = curr\n",
    "        curr = curr.next\n",
    "    return holder.next"
   ]
  },
  {
   "cell_type": "code",
   "execution_count": 4,
   "metadata": {},
   "outputs": [
    {
     "name": "stdout",
     "output_type": "stream",
     "text": [
      "1 2 3 4 5 "
     ]
    }
   ],
   "source": [
    "removeElements(head, 6)\n",
    "\n",
    "while head:\n",
    "    print(head.val, end= ' ')\n",
    "    head = head.next"
   ]
  },
  {
   "cell_type": "markdown",
   "metadata": {},
   "source": [
    "### 递归"
   ]
  },
  {
   "cell_type": "code",
   "execution_count": 5,
   "metadata": {},
   "outputs": [],
   "source": [
    "head = ListNode(1)\n",
    "head.next = ListNode(2)\n",
    "head.next.next = ListNode(6)\n",
    "head.next.next.next = ListNode(3)\n",
    "head.next.next.next.next = ListNode(4)\n",
    "head.next.next.next.next.next = ListNode(5)\n",
    "head.next.next.next.next.next.next = ListNode(6)"
   ]
  },
  {
   "cell_type": "code",
   "execution_count": 6,
   "metadata": {},
   "outputs": [],
   "source": [
    "def removeElements(head: ListNode, val: int) -> ListNode:\n",
    "    if not head:\n",
    "        return head\n",
    "    head.next = removeElements(head.next, val)\n",
    "    return head.next if head.val == val else head"
   ]
  },
  {
   "cell_type": "code",
   "execution_count": 7,
   "metadata": {},
   "outputs": [
    {
     "name": "stdout",
     "output_type": "stream",
     "text": [
      "1 2 3 4 5 "
     ]
    }
   ],
   "source": [
    "removeElements(head, 6)\n",
    "\n",
    "while head:\n",
    "    print(head.val, end= ' ')\n",
    "    head = head.next"
   ]
  },
  {
   "cell_type": "code",
   "execution_count": null,
   "metadata": {},
   "outputs": [],
   "source": []
  }
 ],
 "metadata": {
  "kernelspec": {
   "display_name": "Python 3",
   "language": "python",
   "name": "python3"
  },
  "language_info": {
   "codemirror_mode": {
    "name": "ipython",
    "version": 3
   },
   "file_extension": ".py",
   "mimetype": "text/x-python",
   "name": "python",
   "nbconvert_exporter": "python",
   "pygments_lexer": "ipython3",
   "version": "3.6.5"
  }
 },
 "nbformat": 4,
 "nbformat_minor": 2
}
