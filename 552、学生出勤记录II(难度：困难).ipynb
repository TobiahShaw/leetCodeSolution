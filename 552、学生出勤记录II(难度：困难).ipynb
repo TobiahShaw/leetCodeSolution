{
 "cells": [
  {
   "cell_type": "markdown",
   "metadata": {},
   "source": [
    "# 学生出勤记录II\n",
    "\n",
    "**题目来源：力扣（LeetCode）**\n",
    "\n",
    "**链接：https://leetcode-cn.com/problems/student-attendance-record-ii/**\n",
    "\n",
    "## 一、题目\n",
    "\n",
    "可以用字符串表示一个学生的出勤记录，其中的每个字符用来标记当天的出勤情况（缺勤、迟到、到场）。记录中只含下面三种字符：\n",
    "\n",
    "- 'A'：Absent，缺勤\n",
    "- 'L'：Late，迟到\n",
    "- 'P'：Present，到场\n",
    "\n",
    "如果学生能够 同时 满足下面两个条件，则可以获得出勤奖励：\n",
    "\n",
    "- 按 总出勤 计，学生缺勤（'A'）严格 少于两天。\n",
    "- 学生 不会 存在 连续 3 天或 3 天以上的迟到（'L'）记录。\n",
    "\n",
    "给你一个整数 n ，表示出勤记录的长度（次数）。请你返回记录长度为 n 时，可能获得出勤奖励的记录情况 数量 。答案可能很大，所以返回对 10^9 + 7 取余 的结果。\n",
    "\n",
    "### 提示：\n",
    "\n",
    "- 1 <= n <= 10^5\n",
    "\n",
    "## 二、示例\n",
    "\n",
    "### 示例 1：\n",
    "\n",
    "输入：n = 2\n",
    "\n",
    "输出：8\n",
    "\n",
    "解释：\n",
    "\n",
    "有 8 种长度为 2 的记录将被视为可奖励：\n",
    "\n",
    "\"PP\" , \"AP\", \"PA\", \"LP\", \"PL\", \"AL\", \"LA\", \"LL\" \n",
    "\n",
    "只有\"AA\"不会被视为可奖励，因为缺勤次数为 2 次（需要少于 2 次）。\n",
    "\n",
    "### 示例 2：\n",
    "\n",
    "输入：n = 1\n",
    "\n",
    "输出：3\n",
    "\n",
    "### 示例 3：\n",
    "\n",
    "输入：n = 10101\n",
    "\n",
    "输出：183236316\n",
    "\n",
    "## 三、解题思路\n",
    "\n",
    "### dp\n",
    "\n",
    "dp[i] = (dp[i-1] + 'p') + PART(dp[i-1] + 'L') = (dp[i-1] + 'p') + (dp[i-2] + 'P' + 'L' + PART(dp[i-2] + 'L' + 'L')) = (dp[i-1] + 'p') + (dp[i-2] + 'P' + 'L' + (dp[i-3] + 'P' + 'L' + 'L' + PART(dp[i-3] + 'L' + 'L' + 'L'))) = (dp[i-1] + 'p') + (dp[i-2] + 'P' + 'L' + (dp[i-3] + 'P' + 'L' + 'L'))) = dp[i-1] + dp[i-2] + dp[i-3]"
   ]
  },
  {
   "cell_type": "code",
   "execution_count": 1,
   "metadata": {},
   "outputs": [],
   "source": [
    "def checkRecord(n: int) -> int:\n",
    "    dp = [0] * max((n + 1), 3)\n",
    "    mod = 10 ** 9 + 7\n",
    "    dp[0] = 1\n",
    "    dp[1] = 2\n",
    "    dp[2] = 4\n",
    "    for i in range(3, n + 1):\n",
    "        dp[i] = (dp[i - 1] + dp[i - 2] + dp[i - 3]) % mod\n",
    "   \n",
    "    result = 0\n",
    "    for i in range(1, n // 2 + 1):\n",
    "        result += (dp[i - 1] * dp[n - i]) % mod\n",
    "\n",
    "    result *= 2\n",
    "    if n % 2 == 1:\n",
    "        result += dp[n // 2] * dp[n // 2]\n",
    "\n",
    "    return (result + dp[n]) % mod"
   ]
  },
  {
   "cell_type": "code",
   "execution_count": 2,
   "metadata": {},
   "outputs": [
    {
     "data": {
      "text/plain": [
       "8"
      ]
     },
     "execution_count": 2,
     "metadata": {},
     "output_type": "execute_result"
    }
   ],
   "source": [
    "checkRecord(2)"
   ]
  },
  {
   "cell_type": "code",
   "execution_count": 3,
   "metadata": {},
   "outputs": [
    {
     "data": {
      "text/plain": [
       "3"
      ]
     },
     "execution_count": 3,
     "metadata": {},
     "output_type": "execute_result"
    }
   ],
   "source": [
    "checkRecord(1)"
   ]
  },
  {
   "cell_type": "code",
   "execution_count": 4,
   "metadata": {},
   "outputs": [
    {
     "data": {
      "text/plain": [
       "183236316"
      ]
     },
     "execution_count": 4,
     "metadata": {},
     "output_type": "execute_result"
    }
   ],
   "source": [
    "checkRecord(10101)"
   ]
  },
  {
   "cell_type": "code",
   "execution_count": null,
   "metadata": {},
   "outputs": [],
   "source": []
  }
 ],
 "metadata": {
  "kernelspec": {
   "display_name": "Python 3",
   "language": "python",
   "name": "python3"
  },
  "language_info": {
   "codemirror_mode": {
    "name": "ipython",
    "version": 3
   },
   "file_extension": ".py",
   "mimetype": "text/x-python",
   "name": "python",
   "nbconvert_exporter": "python",
   "pygments_lexer": "ipython3",
   "version": "3.6.5"
  }
 },
 "nbformat": 4,
 "nbformat_minor": 2
}
