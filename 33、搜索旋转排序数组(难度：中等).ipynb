{
  "cells": [
    {
      "metadata": {
        "collapsed": true
      },
      "cell_type": "markdown",
      "source": "# 搜索旋转排序数组\n\n**题目来源：力扣（LeetCode）**\n\n**链接：https://leetcode-cn.com/problems/search-in-rotated-sorted-array/**\n\n## 一、题目\n\n假设按照升序排序的数组在预先未知的某个点上进行了旋转。\n\n( 例如，数组 [0,1,2,4,5,6,7] 可能变为 [4,5,6,7,0,1,2] )。\n\n搜索一个给定的目标值，如果数组中存在这个目标值，则返回它的索引，否则返回 -1 。\n\n你可以假设数组中不存在重复的元素。\n\n你的算法时间复杂度必须是 O(log n) 级别。\n\n## 二、示例\n\n### 示例 1:\n\n输入: nums = [4,5,6,7,0,1,2], target = 0\n\n输出: 4\n\n### 示例 2:\n\n输入: nums = [4,5,6,7,0,1,2], target = 3\n\n输出: -1\n\n## 三、解题思路\n\n### 二分法\n\n题目中提到时间复杂度位O(log n)，基本确定使用二分法。\n\n如果不进行变化，硬套二分法会在边界出现问题，如果要使用二分法，则需要进行一些调整：\n\n可以使用两次二分，一次找旋转点，第二次找targhet"
    },
    {
      "metadata": {
        "trusted": true
      },
      "cell_type": "code",
      "source": "def search(nums, target):\n    # 寻找旋转点，旋转点旋转后为最小值点，前一点为最大值点\n    def find_point(left, right):\n        # 如果旋转点不为0，则数组左边必定大于右边\n        if nums[left] < nums[right]:\n            return 0\n        while left <= right:\n            m = (left + right) // 2\n            # 存在降序的点的下一点为旋转点\n            if nums[m] > nums[m + 1]:\n                return m + 1\n            else:\n                # 旋转后旋转点之前的点都大于旋转点之后点，如果中点值小于左端点值，则说明中点值右边都不可能是旋转点\n                if nums[m] < nums[left]:\n                    right = m - 1\n                else:\n                    left = m + 1\n    def search(left, right):\n        while left <= right:\n            mid = (left + right) // 2\n            if target < nums[mid]:\n                right = mid - 1\n            elif target > nums[mid]:\n                left = mid + 1\n            else:\n                return mid\n        return -1\n    length = len(nums)\n\n    if length == 0:\n        return -1\n    if length == 1:\n        return 0 if target == nums[0] else -1\n    po = find_point(0, length - 1)\n\n    if po == 0:\n        return search(0, length - 1)\n    if target < nums[0]:\n        return search(po, length - 1)\n    return search(0, po)",
      "execution_count": 1,
      "outputs": []
    },
    {
      "metadata": {
        "trusted": true
      },
      "cell_type": "code",
      "source": "search(nums = [4,5,6,7,0,1,2], target = 0)",
      "execution_count": 2,
      "outputs": [
        {
          "output_type": "execute_result",
          "execution_count": 2,
          "data": {
            "text/plain": "4"
          },
          "metadata": {}
        }
      ]
    },
    {
      "metadata": {
        "trusted": true
      },
      "cell_type": "code",
      "source": "search(nums = [4,5,6,7,0,1,2], target = 3)",
      "execution_count": 3,
      "outputs": [
        {
          "output_type": "execute_result",
          "execution_count": 3,
          "data": {
            "text/plain": "-1"
          },
          "metadata": {}
        }
      ]
    },
    {
      "metadata": {
        "trusted": true
      },
      "cell_type": "code",
      "source": "",
      "execution_count": null,
      "outputs": []
    }
  ],
  "metadata": {
    "kernelspec": {
      "name": "python36",
      "display_name": "Python 3.6",
      "language": "python"
    },
    "language_info": {
      "mimetype": "text/x-python",
      "nbconvert_exporter": "python",
      "name": "python",
      "pygments_lexer": "ipython3",
      "version": "3.6.6",
      "file_extension": ".py",
      "codemirror_mode": {
        "version": 3,
        "name": "ipython"
      }
    }
  },
  "nbformat": 4,
  "nbformat_minor": 2
}