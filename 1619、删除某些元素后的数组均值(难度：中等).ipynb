{
 "cells": [
  {
   "cell_type": "markdown",
   "metadata": {},
   "source": [
    "# 删除某些元素后的数组均值\n",
    "\n",
    "**题目来源：力扣（LeetCode）**\n",
    "\n",
    "**链接：https://leetcode-cn.com/problems/mean-of-array-after-removing-some-elements/**\n",
    "\n",
    "## 一、题目\n",
    "\n",
    "给你一个整数数组 arr ，请你删除最小 5% 的数字和最大 5% 的数字后，剩余数字的平均值。\n",
    "\n",
    "与 标准答案 误差在 $ 10^{-5} $ 的结果都被视为正确结果。\n",
    "\n",
    "### 提示：\n",
    "\n",
    "- 20 <= arr.length <= 1000\n",
    "- arr.length 是 20 的 倍数 \n",
    "- 0 <= arr[i] <= 10^5\n",
    "\n",
    "## 二、示例\n",
    "\n",
    "### 示例 1：\n",
    "\n",
    "输入：arr = [1,2,2,2,2,2,2,2,2,2,2,2,2,2,2,2,2,2,2,3]\n",
    "\n",
    "输出：2.00000\n",
    "\n",
    "解释：删除数组中最大和最小的元素后，所有元素都等于 2，所以平均值为 2 。\n",
    "\n",
    "### 示例 2：\n",
    "\n",
    "输入：arr = [6,2,7,5,1,2,0,3,10,2,5,0,5,5,0,8,7,6,8,0]\n",
    "\n",
    "输出：4.00000\n",
    "\n",
    "### 示例 3：\n",
    "\n",
    "输入：arr = [6,0,7,0,7,5,7,8,3,4,0,7,8,1,6,8,1,1,2,4,8,1,9,5,4,3,8,5,10,8,6,6,1,0,6,10,8,2,3,4]\n",
    "\n",
    "输出：4.77778\n",
    "\n",
    "### 示例 4：\n",
    "\n",
    "输入：arr = [9,7,8,7,7,8,4,4,6,8,8,7,6,8,8,9,2,6,0,0,1,10,8,6,3,3,5,1,10,9,0,7,10,0,10,4,1,10,6,9,3,6,0,0,2,7,0,6,7,2,9,7,7,3,0,1,6,1,10,3]\n",
    "\n",
    "输出：5.27778\n",
    "\n",
    "### 示例 5：\n",
    "\n",
    "输入：arr = [4,8,4,10,0,7,1,3,7,8,8,3,4,1,6,2,1,1,8,0,9,8,0,3,9,10,3,10,1,10,7,3,2,1,4,9,10,7,6,4,0,8,5,1,2,1,6,2,5,0,7,10,\n",
    "    9,10,3,7,10,5,8,5,7,6,7,6,10,9,5,10,5,5,7,2,10,7,7,8,2,0,1,1]\n",
    "\n",
    "输出：5.29167\n",
    "\n",
    "## 三、解题思路\n",
    "\n",
    "### 排序"
   ]
  },
  {
   "cell_type": "code",
   "execution_count": 1,
   "metadata": {},
   "outputs": [],
   "source": [
    "def trimMean(arr) -> float:\n",
    "    import random\n",
    "    def quick_sort(arr, start, end):\n",
    "        if start == end:\n",
    "            return\n",
    "        rand_index = random.randint(start, end-1)\n",
    "        p = arr[rand_index]\n",
    "        arr[rand_index] = arr[start]\n",
    "        l, r = start, end\n",
    "        flag = 0\n",
    "        while l < r:\n",
    "            if flag == 0:\n",
    "                r -= 1\n",
    "                if arr[r] < p:\n",
    "                    arr[l] = arr[r]\n",
    "                    flag = 1\n",
    "            else:\n",
    "                l += 1\n",
    "                if arr[l] > p:\n",
    "                    arr[r] = arr[l]\n",
    "                    flag = 0\n",
    "        arr[l] = p\n",
    "        quick_sort(arr, start, l)\n",
    "        quick_sort(arr, l+1, end)\n",
    "    n = len(arr)\n",
    "    quick_sort(arr, 0, n)\n",
    "    per = n // 20\n",
    "    return sum(arr[per:-per]) / (n-2*per)"
   ]
  },
  {
   "cell_type": "code",
   "execution_count": 2,
   "metadata": {},
   "outputs": [
    {
     "data": {
      "text/plain": [
       "2.0"
      ]
     },
     "execution_count": 2,
     "metadata": {},
     "output_type": "execute_result"
    }
   ],
   "source": [
    "trimMean([1,2,2,2,2,2,2,2,2,2,2,2,2,2,2,2,2,2,2,3])"
   ]
  },
  {
   "cell_type": "code",
   "execution_count": 3,
   "metadata": {},
   "outputs": [
    {
     "data": {
      "text/plain": [
       "4.0"
      ]
     },
     "execution_count": 3,
     "metadata": {},
     "output_type": "execute_result"
    }
   ],
   "source": [
    "trimMean([6,2,7,5,1,2,0,3,10,2,5,0,5,5,0,8,7,6,8,0])"
   ]
  },
  {
   "cell_type": "code",
   "execution_count": 4,
   "metadata": {},
   "outputs": [
    {
     "data": {
      "text/plain": [
       "4.777777777777778"
      ]
     },
     "execution_count": 4,
     "metadata": {},
     "output_type": "execute_result"
    }
   ],
   "source": [
    "trimMean([6,0,7,0,7,5,7,8,3,4,0,7,8,1,6,8,1,1,2,4,8,1,9,5,4,3,8,5,10,8,6,6,1,0,6,10,8,2,3,4])"
   ]
  },
  {
   "cell_type": "code",
   "execution_count": 5,
   "metadata": {},
   "outputs": [
    {
     "data": {
      "text/plain": [
       "5.277777777777778"
      ]
     },
     "execution_count": 5,
     "metadata": {},
     "output_type": "execute_result"
    }
   ],
   "source": [
    "trimMean([9,7,8,7,7,8,4,4,6,8,8,7,6,8,8,9,2,6,0,0,1,10,8,6,3,3,5,1,10,9,0,7,10,0,10,4,1,10,6,9,3,6,0,0,2,7,0,6,7,2,9,7,7,3,0,1,6,1,10,3])"
   ]
  },
  {
   "cell_type": "code",
   "execution_count": 6,
   "metadata": {},
   "outputs": [
    {
     "data": {
      "text/plain": [
       "5.291666666666667"
      ]
     },
     "execution_count": 6,
     "metadata": {},
     "output_type": "execute_result"
    }
   ],
   "source": [
    "trimMean([4,8,4,10,0,7,1,3,7,8,8,3,4,1,6,2,1,1,8,0,9,8,0,3,9,10,3,10,1,10,7,3,2,1,4,9,10,7,6,4,0,8,5,1,2,1,6,2,5,0,7,10, 9,10,3,7,10,5,8,5,7,6,7,6,10,9,5,10,5,5,7,2,10,7,7,8,2,0,1,1])"
   ]
  },
  {
   "cell_type": "code",
   "execution_count": null,
   "metadata": {},
   "outputs": [],
   "source": []
  }
 ],
 "metadata": {
  "kernelspec": {
   "display_name": "Python 3",
   "language": "python",
   "name": "python3"
  },
  "language_info": {
   "codemirror_mode": {
    "name": "ipython",
    "version": 3
   },
   "file_extension": ".py",
   "mimetype": "text/x-python",
   "name": "python",
   "nbconvert_exporter": "python",
   "pygments_lexer": "ipython3",
   "version": "3.6.5"
  }
 },
 "nbformat": 4,
 "nbformat_minor": 2
}
