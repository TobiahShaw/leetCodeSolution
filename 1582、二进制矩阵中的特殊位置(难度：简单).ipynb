{
 "cells": [
  {
   "cell_type": "markdown",
   "metadata": {},
   "source": [
    "# 二进制矩阵中的特殊位置\n",
    "\n",
    "**题目来源：力扣（LeetCode）**\n",
    "\n",
    "**链接：https://leetcode.cn/problems/special-positions-in-a-binary-matrix/**\n",
    "\n",
    "## 一、题目\n",
    "\n",
    "给你一个大小为 rows x cols 的矩阵 mat，其中 mat[i][j] 是 0 或 1，请返回 矩阵 mat 中特殊位置的数目 。\n",
    "\n",
    "特殊位置 定义：如果 mat[i][j] == 1 并且第 i 行和第 j 列中的所有其他元素均为 0（行和列的下标均 从 0 开始 ），则位置 (i, j) 被称为特殊位置。\n",
    "\n",
    "### 提示：\n",
    "\n",
    "- rows == mat.length\n",
    "- cols == mat[i].length\n",
    "- 1 <= rows, cols <= 100\n",
    "- mat[i][j] 是 0 或 1\n",
    "\n",
    "## 二、示例\n",
    "\n",
    "### 示例 1：\n",
    "\n",
    "输入：\n",
    "\n",
    "```\n",
    "mat = [[1,0,0],\n",
    "       [0,0,1],\n",
    "       [1,0,0]]\n",
    "```\n",
    "\n",
    "输出：1\n",
    "\n",
    "解释：(1,2) 是一个特殊位置，因为 mat[1][2] == 1 且所处的行和列上所有其他元素都是 0\n",
    "\n",
    "### 示例 2：\n",
    "\n",
    "输入：\n",
    "\n",
    "```\n",
    "mat = [[1,0,0],\n",
    "       [0,1,0],\n",
    "       [0,0,1]]\n",
    "```\n",
    "\n",
    "输出：3\n",
    "\n",
    "解释：(0,0), (1,1) 和 (2,2) 都是特殊位置\n",
    "\n",
    "### 示例 3：\n",
    "\n",
    "输入：\n",
    "\n",
    "```\n",
    "mat = [[0,0,0,1],\n",
    "       [1,0,0,0],\n",
    "       [0,1,1,0],\n",
    "       [0,0,0,0]]\n",
    "```\n",
    "\n",
    "输出：2\n",
    "\n",
    "### 示例 4：\n",
    "\n",
    "输入：\n",
    "\n",
    "```\n",
    "mat = [[0,0,0,0,0],\n",
    "       [1,0,0,0,0],\n",
    "       [0,1,0,0,0],\n",
    "       [0,0,1,0,0],\n",
    "       [0,0,0,1,1]]\n",
    "```\n",
    "\n",
    "输出：3\n",
    "\n",
    "## 三、解题思路"
   ]
  },
  {
   "cell_type": "code",
   "execution_count": 1,
   "metadata": {},
   "outputs": [],
   "source": [
    "class Solution:\n",
    "    def numSpecial(self, mat) -> int:\n",
    "        m, n = len(mat), len(mat[0])\n",
    "        sum_row = [0] * m\n",
    "        sum_col = [0] * n\n",
    "        for i in range(m):\n",
    "            for j in range(n):\n",
    "                sum_row[i] += mat[i][j]\n",
    "                sum_col[j] += mat[i][j]\n",
    "        ret = 0\n",
    "        for i in range(m):\n",
    "            for j in range(n):\n",
    "                if mat[i][j] == sum_row[i] == sum_col[j] == 1:\n",
    "                    ret += 1\n",
    "        return ret"
   ]
  },
  {
   "cell_type": "code",
   "execution_count": 2,
   "metadata": {},
   "outputs": [
    {
     "data": {
      "text/plain": [
       "1"
      ]
     },
     "execution_count": 2,
     "metadata": {},
     "output_type": "execute_result"
    }
   ],
   "source": [
    "s = Solution()\n",
    "s.numSpecial([[1,0,0],[0,0,1],[1,0,0]])"
   ]
  },
  {
   "cell_type": "code",
   "execution_count": 3,
   "metadata": {},
   "outputs": [
    {
     "data": {
      "text/plain": [
       "3"
      ]
     },
     "execution_count": 3,
     "metadata": {},
     "output_type": "execute_result"
    }
   ],
   "source": [
    "s.numSpecial([[1,0,0],[0,1,0],[0,0,1]])"
   ]
  },
  {
   "cell_type": "code",
   "execution_count": 4,
   "metadata": {},
   "outputs": [
    {
     "data": {
      "text/plain": [
       "2"
      ]
     },
     "execution_count": 4,
     "metadata": {},
     "output_type": "execute_result"
    }
   ],
   "source": [
    "s.numSpecial([[0,0,0,1],[1,0,0,0],[0,1,1,0],[0,0,0,0]])"
   ]
  },
  {
   "cell_type": "code",
   "execution_count": 5,
   "metadata": {},
   "outputs": [
    {
     "data": {
      "text/plain": [
       "3"
      ]
     },
     "execution_count": 5,
     "metadata": {},
     "output_type": "execute_result"
    }
   ],
   "source": [
    "s.numSpecial([[0,0,0,0,0],[1,0,0,0,0],[0,1,0,0,0],[0,0,1,0,0],[0,0,0,1,1]])"
   ]
  },
  {
   "cell_type": "code",
   "execution_count": null,
   "metadata": {},
   "outputs": [],
   "source": []
  }
 ],
 "metadata": {
  "kernelspec": {
   "display_name": "Python 3.10.4 64-bit",
   "language": "python",
   "name": "python3"
  },
  "language_info": {
   "codemirror_mode": {
    "name": "ipython",
    "version": 3
   },
   "file_extension": ".py",
   "mimetype": "text/x-python",
   "name": "python",
   "nbconvert_exporter": "python",
   "pygments_lexer": "ipython3",
   "version": "3.10.4"
  },
  "orig_nbformat": 4,
  "vscode": {
   "interpreter": {
    "hash": "4f946df053fbf2b937619d3c5458e7af74262f9a954d8797ba0b27400bcafe06"
   }
  }
 },
 "nbformat": 4,
 "nbformat_minor": 2
}
