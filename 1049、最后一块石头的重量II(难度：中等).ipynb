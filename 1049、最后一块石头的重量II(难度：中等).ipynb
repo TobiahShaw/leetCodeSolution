{
 "cells": [
  {
   "cell_type": "markdown",
   "metadata": {},
   "source": [
    "# 最后一块石头的重量II\n",
    "\n",
    "**题目来源：力扣（LeetCode）**\n",
    "\n",
    "**链接：https://leetcode-cn.com/problems/last-stone-weight-ii/**\n",
    "\n",
    "## 一、题目\n",
    "\n",
    "有一堆石头，用整数数组 stones 表示。其中 stones[i] 表示第 i 块石头的重量。\n",
    "\n",
    "每一回合，从中选出任意两块石头，然后将它们一起粉碎。假设石头的重量分别为 x 和 y，且 x <= y。那么粉碎的可能结果如下：\n",
    "\n",
    "- 如果 x == y，那么两块石头都会被完全粉碎；\n",
    "- 如果 x != y，那么重量为 x 的石头将会完全粉碎，而重量为 y 的石头新重量为 y-x。\n",
    "\n",
    "最后，最多只会剩下一块 石头。返回此石头 最小的可能重量 。如果没有石头剩下，就返回 0。\n",
    "\n",
    "## 二、示例\n",
    "\n",
    "### 示例 1：\n",
    "\n",
    "输入：stones = [2,7,4,1,8,1]\n",
    "\n",
    "输出：1\n",
    "\n",
    "解释：\n",
    "\n",
    "组合 2 和 4，得到 2，所以数组转化为 [2,7,1,8,1]，\n",
    "\n",
    "组合 7 和 8，得到 1，所以数组转化为 [2,1,1,1]，\n",
    "\n",
    "组合 2 和 1，得到 1，所以数组转化为 [1,1,1]，\n",
    "\n",
    "组合 1 和 1，得到 0，所以数组转化为 [1]，这就是最优值。\n",
    "\n",
    "### 示例 2：\n",
    "\n",
    "输入：stones = [31,26,33,21,40]\n",
    "\n",
    "输出：5\n",
    "\n",
    "### 示例 3：\n",
    "\n",
    "输入：stones = [1,2]\n",
    "\n",
    "输出：1\n",
    "\n",
    "## 三、解题思路\n",
    "\n",
    "### 动态规划（背包）\n",
    "\n",
    "本题可以理解为 target = sum(stones) // 2 的背包问题。\n",
    "\n",
    "最后返回 sum(stones) - 2 * 背包能装的最重石头\n",
    "\n",
    "初始条件 dp[0][j] = 0 代表考虑前0个石头在背包容量为j的情况下，能装最多重量为0的石头；\n",
    "\n",
    "初始条件 dp[i][j] = 0 代表考虑前i个石头在背包容量为0时，能装最多重量为0的石头；\n",
    "\n",
    "dp[i][j] 为考虑前i个石头在背包容量为j时，背包能装的最大石头重量。可分为两者情况：\n",
    "\n",
    "- 第i个石头大于背包容量j时，此时dp[i][j] = dp[i-1][j]，因为此时无论如何无法装入重量为i的石头，则结果和背包容量为j是考虑前i-1个石头时结果一致\n",
    "- 第i个石头小于等于背包容量j时，此时dp[i][j] = max(dp[i-1][j], dp[i-1][j-stones[i])，此时要考虑装不装石头j，不装则为dp[i-1][j]，装的则为话容量减去stones[i]考虑前i-1个石头时的最大装载量，则为dp[i-1][j-stones[i]"
   ]
  },
  {
   "cell_type": "code",
   "execution_count": 1,
   "metadata": {},
   "outputs": [],
   "source": [
    "def lastStoneWeightII(stones) -> int:\n",
    "    total = sum(stones)\n",
    "    half = total // 2 + 1\n",
    "    dp = [[0] * half for _ in range(len(stones) + 1)]\n",
    "    for row in range(1, len(dp)):\n",
    "        for col in range(1, len(dp[0])):\n",
    "            stone = stones[row-1]\n",
    "            if stone > col:\n",
    "                dp[row][col] = dp[row-1][col]\n",
    "            else:\n",
    "                dp[row][col] = max(dp[row-1][col], stone + dp[row-1][col-stone])\n",
    "    return total - dp[-1][-1] * 2"
   ]
  },
  {
   "cell_type": "code",
   "execution_count": 2,
   "metadata": {},
   "outputs": [
    {
     "data": {
      "text/plain": [
       "1"
      ]
     },
     "execution_count": 2,
     "metadata": {},
     "output_type": "execute_result"
    }
   ],
   "source": [
    "lastStoneWeightII([2,7,4,1,8,1])"
   ]
  },
  {
   "cell_type": "code",
   "execution_count": 3,
   "metadata": {},
   "outputs": [
    {
     "data": {
      "text/plain": [
       "5"
      ]
     },
     "execution_count": 3,
     "metadata": {},
     "output_type": "execute_result"
    }
   ],
   "source": [
    "lastStoneWeightII([31,26,33,21,40])"
   ]
  },
  {
   "cell_type": "code",
   "execution_count": 4,
   "metadata": {},
   "outputs": [
    {
     "data": {
      "text/plain": [
       "1"
      ]
     },
     "execution_count": 4,
     "metadata": {},
     "output_type": "execute_result"
    }
   ],
   "source": [
    "lastStoneWeightII([1,2])"
   ]
  },
  {
   "cell_type": "code",
   "execution_count": null,
   "metadata": {},
   "outputs": [],
   "source": []
  }
 ],
 "metadata": {
  "kernelspec": {
   "display_name": "Python 3",
   "language": "python",
   "name": "python3"
  },
  "language_info": {
   "codemirror_mode": {
    "name": "ipython",
    "version": 3
   },
   "file_extension": ".py",
   "mimetype": "text/x-python",
   "name": "python",
   "nbconvert_exporter": "python",
   "pygments_lexer": "ipython3",
   "version": "3.6.5"
  }
 },
 "nbformat": 4,
 "nbformat_minor": 2
}
