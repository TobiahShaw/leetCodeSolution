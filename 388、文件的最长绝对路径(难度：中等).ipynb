{
 "cells": [
  {
   "cell_type": "markdown",
   "metadata": {},
   "source": [
    "# 文件的最长绝对路径\n",
    "\n",
    "**题目来源：力扣（LeetCode）**\n",
    "\n",
    "**链接：https://leetcode-cn.com/problems/longest-absolute-file-path/**\n",
    "\n",
    "## 一、题目\n",
    "\n",
    "假设有一个同时存储文件和目录的文件系统。下图展示了文件系统的一个示例：\n",
    "\n",
    "这里将 dir 作为根目录中的唯一目录。dir 包含两个子目录 subdir1 和 subdir2 。subdir1 包含文件 file1.ext 和子目录 subsubdir1；subdir2 包含子目录 subsubdir2，该子目录下包含文件 file2.ext 。\n",
    "\n",
    "在文本格式中，如下所示(⟶表示制表符)：\n",
    "```\n",
    "dir\n",
    "⟶ subdir1\n",
    "⟶ ⟶ file1.ext\n",
    "⟶ ⟶ subsubdir1\n",
    "⟶ subdir2\n",
    "⟶ ⟶ subsubdir2\n",
    "⟶ ⟶ ⟶ file2.ext\n",
    "```\n",
    "\n",
    "如果是代码表示，上面的文件系统可以写为 \"dir\\n\\tsubdir1\\n\\t\\tfile1.ext\\n\\t\\tsubsubdir1\\n\\tsubdir2\\n\\t\\tsubsubdir2\\n\\t\\t\\tfile2.ext\" 。'\\n' 和 '\\t' 分别是换行符和制表符。\n",
    "\n",
    "文件系统中的每个文件和文件夹都有一个唯一的 绝对路径 ，即必须打开才能到达文件/目录所在位置的目录顺序，所有路径用 '/' 连接。上面例子中，指向 file2.ext 的 绝对路径 是 \"dir/subdir2/subsubdir2/file2.ext\" 。每个目录名由字母、数字和/或空格组成，每个文件名遵循 name.extension 的格式，其中 name 和 extension由字母、数字和/或空格组成。\n",
    "\n",
    "给定一个以上述格式表示文件系统的字符串 input ，返回文件系统中 指向 文件 的 最长绝对路径 的长度 。 如果系统中没有文件，返回 0。\n",
    "\n",
    "### 提示：\n",
    "\n",
    "- 1 <= input.length <= 104\n",
    "- input 可能包含小写或大写的英文字母，一个换行符 '\\n'，一个制表符 '\\t'，一个点 '.'，一个空格 ' '，和数字。\n",
    "\n",
    "## 二、示例\n",
    "\n",
    "### 示例 1：\n",
    "\n",
    "输入：input = \"dir\\n\\tsubdir1\\n\\tsubdir2\\n\\t\\tfile.ext\"\n",
    "\n",
    "输出：20\n",
    "\n",
    "解释：只有一个文件，绝对路径为 \"dir/subdir2/file.ext\" ，路径长度 20\n",
    "\n",
    "### 示例 2：\n",
    "\n",
    "输入：input = \"dir\\n\\tsubdir1\\n\\t\\tfile1.ext\\n\\t\\tsubsubdir1\\n\\tsubdir2\\n\\t\\tsubsubdir2\\n\\t\\t\\tfile2.ext\"\n",
    "\n",
    "输出：32\n",
    "\n",
    "解释：存在两个文件：\n",
    "\n",
    "\"dir/subdir1/file1.ext\" ，路径长度 21\n",
    "\n",
    "\"dir/subdir2/subsubdir2/file2.ext\" ，路径长度 32\n",
    "\n",
    "返回 32 ，因为这是最长的路径\n",
    "\n",
    "### 示例 3：\n",
    "\n",
    "输入：input = \"a\"\n",
    "\n",
    "输出：0\n",
    "\n",
    "解释：不存在任何文件\n",
    "\n",
    "### 示例 4：\n",
    "\n",
    "输入：input = \"file1.txt\\nfile2.txt\\nlongfile.txt\"\n",
    "\n",
    "输出：12\n",
    "\n",
    "解释：根目录下有 3 个文件。\n",
    "\n",
    "因为根目录中任何东西的绝对路径只是名称本身，所以答案是 \"longfile.txt\" ，路径长度为 12\n",
    "\n",
    "## 三、解题思路\n",
    "\n",
    "### 利用栈"
   ]
  },
  {
   "cell_type": "code",
   "execution_count": 1,
   "metadata": {},
   "outputs": [],
   "source": [
    "def lengthLongestPath(input: str) -> int:\n",
    "    n = len(input)\n",
    "    stack = []\n",
    "    curLevel = 1\n",
    "    word_chs = []\n",
    "    isFile = False\n",
    "    ret = 0\n",
    "    for i in range(n):\n",
    "        ch = input[i]\n",
    "        if ch == \"\\n\" or i == n-1:\n",
    "            if i == n-1:\n",
    "                word_chs.append(ch)\n",
    "            while curLevel <= len(stack):\n",
    "                stack.pop()\n",
    "            stack.append(\"\".join(word_chs))\n",
    "            word_chs.clear()\n",
    "            curLevel = 1\n",
    "            if isFile:\n",
    "                isFile = False\n",
    "                ret = max(ret, len(\"/\".join(stack)))\n",
    "        elif ch == \"\\t\":\n",
    "            curLevel += 1\n",
    "        else:\n",
    "            word_chs.append(ch)\n",
    "            if ch == \".\":\n",
    "                isFile = True\n",
    "    return ret"
   ]
  },
  {
   "cell_type": "code",
   "execution_count": 2,
   "metadata": {},
   "outputs": [
    {
     "data": {
      "text/plain": [
       "20"
      ]
     },
     "execution_count": 2,
     "metadata": {},
     "output_type": "execute_result"
    }
   ],
   "source": [
    "lengthLongestPath(\"dir\\n\\tsubdir1\\n\\tsubdir2\\n\\t\\tfile.ext\")"
   ]
  },
  {
   "cell_type": "code",
   "execution_count": 3,
   "metadata": {},
   "outputs": [
    {
     "data": {
      "text/plain": [
       "32"
      ]
     },
     "execution_count": 3,
     "metadata": {},
     "output_type": "execute_result"
    }
   ],
   "source": [
    "lengthLongestPath(\"dir\\n\\tsubdir1\\n\\t\\tfile1.ext\\n\\t\\tsubsubdir1\\n\\tsubdir2\\n\\t\\tsubsubdir2\\n\\t\\t\\tfile2.ext\")"
   ]
  },
  {
   "cell_type": "code",
   "execution_count": 4,
   "metadata": {},
   "outputs": [
    {
     "data": {
      "text/plain": [
       "0"
      ]
     },
     "execution_count": 4,
     "metadata": {},
     "output_type": "execute_result"
    }
   ],
   "source": [
    "lengthLongestPath(\"a\")"
   ]
  },
  {
   "cell_type": "code",
   "execution_count": 5,
   "metadata": {},
   "outputs": [
    {
     "data": {
      "text/plain": [
       "12"
      ]
     },
     "execution_count": 5,
     "metadata": {},
     "output_type": "execute_result"
    }
   ],
   "source": [
    "lengthLongestPath(\"file1.txt\\nfile2.txt\\nlongfile.txt\")"
   ]
  },
  {
   "cell_type": "code",
   "execution_count": null,
   "metadata": {},
   "outputs": [],
   "source": []
  }
 ],
 "metadata": {
  "kernelspec": {
   "display_name": "Python 3",
   "language": "python",
   "name": "python3"
  },
  "language_info": {
   "codemirror_mode": {
    "name": "ipython",
    "version": 3
   },
   "file_extension": ".py",
   "mimetype": "text/x-python",
   "name": "python",
   "nbconvert_exporter": "python",
   "pygments_lexer": "ipython3",
   "version": "3.6.5"
  }
 },
 "nbformat": 4,
 "nbformat_minor": 2
}
