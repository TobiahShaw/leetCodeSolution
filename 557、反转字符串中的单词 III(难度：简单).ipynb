{
  "cells": [
    {
      "metadata": {
        "collapsed": true
      },
      "cell_type": "markdown",
      "source": "# 反转字符串中的单词 III\n\n**题目来源：力扣（LeetCode）**\n\n**链接：https://leetcode-cn.com/problems/reverse-words-in-a-string-iii/**\n\n## 一、题目\n\n给定一个字符串，你需要反转字符串中每个单词的字符顺序，同时仍保留空格和单词的初始顺序。\n\n## 二、示例\n\n输入: \"Let's take LeetCode contest\"\n\n输出: \"s'teL ekat edoCteeL tsetnoc\" \n\n## 三、解题思路\n\n### pythonic"
    },
    {
      "metadata": {
        "trusted": true
      },
      "cell_type": "code",
      "source": "def reverseWords(s):\n    return ' '.join([word[::-1] for word in s.split(' ')])",
      "execution_count": 1,
      "outputs": []
    },
    {
      "metadata": {
        "trusted": true
      },
      "cell_type": "code",
      "source": "reverseWords(\"Let's take LeetCode contest\")",
      "execution_count": 2,
      "outputs": [
        {
          "output_type": "execute_result",
          "execution_count": 2,
          "data": {
            "text/plain": "\"s'teL ekat edoCteeL tsetnoc\""
          },
          "metadata": {}
        }
      ]
    },
    {
      "metadata": {
        "trusted": true
      },
      "cell_type": "code",
      "source": "reverseWords(\"s'teL ekat edoCteeL tsetnoc\")",
      "execution_count": 3,
      "outputs": [
        {
          "output_type": "execute_result",
          "execution_count": 3,
          "data": {
            "text/plain": "\"Let's take LeetCode contest\""
          },
          "metadata": {}
        }
      ]
    },
    {
      "metadata": {
        "trusted": true
      },
      "cell_type": "code",
      "source": "",
      "execution_count": null,
      "outputs": []
    }
  ],
  "metadata": {
    "kernelspec": {
      "name": "python36",
      "display_name": "Python 3.6",
      "language": "python"
    },
    "language_info": {
      "mimetype": "text/x-python",
      "nbconvert_exporter": "python",
      "name": "python",
      "pygments_lexer": "ipython3",
      "version": "3.6.6",
      "file_extension": ".py",
      "codemirror_mode": {
        "version": 3,
        "name": "ipython"
      }
    }
  },
  "nbformat": 4,
  "nbformat_minor": 2
}