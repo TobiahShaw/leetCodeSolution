{
 "cells": [
  {
   "cell_type": "markdown",
   "id": "6ca0b8cc-0850-40dd-af06-2b1fb0219bc9",
   "metadata": {},
   "source": [
    "# 树上的操作\n",
    "\n",
    "**题目来源：力扣（LeetCode）**\n",
    "\n",
    "**链接：https://leetcode-cn.com/problems/operations-on-tree/**\n",
    "\n",
    "## 一、题目\n",
    "\n",
    "给你一棵 n 个节点的树，编号从 0 到 n - 1 ，以父节点数组 parent 的形式给出，其中 parent[i] 是第 i 个节点的父节点。树的根节点为 0 号节点，所以 parent[0] = -1 ，因为它没有父节点。你想要设计一个数据结构实现树里面对节点的加锁，解锁和升级操作。\n",
    "\n",
    "数据结构需要支持如下函数：\n",
    "\n",
    "- Lock：指定用户给指定节点 上锁 ，上锁后其他用户将无法给同一节点上锁。只有当节点处于未上锁的状态下，才能进行上锁操作。\n",
    "- Unlock：指定用户给指定节点 解锁 ，只有当指定节点当前正被指定用户锁住时，才能执行该解锁操作。\n",
    "- Upgrade：指定用户给指定节点 上锁 ，并且将该节点的所有子孙节点 解锁 。只有如下 3 个条件 全部 满足时才能执行升级操作：\n",
    "    - 指定节点当前状态为未上锁。\n",
    "    - 指定节点至少有一个上锁状态的子孙节点（可以是 任意 用户上锁的）。\n",
    "    - 指定节点没有任何上锁的祖先节点。\n",
    "\n",
    "请你实现 LockingTree 类：\n",
    "\n",
    "- LockingTree(int[] parent) 用父节点数组初始化数据结构。\n",
    "- lock(int num, int user) 如果 id 为 user 的用户可以给节点 num 上锁，那么返回 true ，否则返回 false 。如果可以执行此操作，节点 num 会被 id 为 user 的用户 上锁 。\n",
    "- unlock(int num, int user) 如果 id 为 user 的用户可以给节点 num 解锁，那么返回 true ，否则返回 false 。如果可以执行此操作，节点 num 变为 未上锁 状态。\n",
    "- upgrade(int num, int user) 如果 id 为 user 的用户可以给节点 num 升级，那么返回 true ，否则返回 false 。如果可以执行此操作，节点 num 会被升级 。\n",
    "\n",
    "\n",
    "## 二、示例\n",
    "\n",
    "输入：\n",
    "\n",
    "[\"LockingTree\", \"lock\", \"unlock\", \"unlock\", \"lock\", \"upgrade\", \"lock\"]\n",
    "\n",
    "[[[-1, 0, 0, 1, 1, 2, 2]], [2, 2], [2, 3], [2, 2], [4, 5], [0, 1], [0, 1]]\n",
    "\n",
    "输出：\n",
    "\n",
    "[null, true, false, true, true, true, false]\n",
    "\n",
    "解释：\n",
    "\n",
    "```\n",
    "lockingTree = LockingTree([-1, 0, 0, 1, 1, 2, 2])\n",
    "lockingTree.lock(2, 2)    # 返回 true ，因为节点 2 未上锁。\n",
    "                          # 节点 2 被用户 2 上锁。\n",
    "lockingTree.unlock(2, 3)  # 返回 false ，因为用户 3 无法解锁被用户 2 上锁的节点。\n",
    "lockingTree.unlock(2, 2)  # 返回 true ，因为节点 2 之前被用户 2 上锁。\n",
    "                          # 节点 2 现在变为未上锁状态。\n",
    "lockingTree.lock(4, 5)    # 返回 true ，因为节点 4 未上锁。\n",
    "                          # 节点 4 被用户 5 上锁。\n",
    "lockingTree.upgrade(0, 1) # 返回 true ，因为节点 0 未上锁且至少有一个被上锁的子孙节点（节点 4）。\n",
    "                          # 节点 0 被用户 1 上锁，节点 4 变为未上锁。\n",
    "lockingTree.lock(0, 1)    # 返回 false ，因为节点 0 已经被上锁了。\n",
    "```\n",
    "\n",
    "## 三、解题思路\n",
    "\n",
    "### 利用map记忆节点关系"
   ]
  },
  {
   "cell_type": "code",
   "execution_count": 1,
   "id": "2b040896-ae39-4801-816e-c96534e4d201",
   "metadata": {},
   "outputs": [],
   "source": [
    "class LockingTree:\n",
    "\n",
    "    def __init__(self, parent):\n",
    "        self._descendant = {}\n",
    "        self._lockStatus = {}\n",
    "        self._ancestors = {}\n",
    "        for node in range(len(parent)):\n",
    "            self._lockStatus[node] = -1\n",
    "            if parent[node] != -1:\n",
    "                self._ancestors[node] = [parent[node]]\n",
    "        for key in self._ancestors.keys():\n",
    "            if self._ancestors[key]:\n",
    "                parent = self._ancestors[key][0]\n",
    "                while parent in self._ancestors and self._ancestors[parent]:\n",
    "                    self._ancestors[key].append(self._ancestors[parent][0])\n",
    "                    parent = self._ancestors[parent][0]\n",
    "        for key in self._ancestors.keys():\n",
    "            ancestor = self._ancestors[key]\n",
    "            for a in ancestor:\n",
    "                if a in self._descendant:\n",
    "                    self._descendant[a].append(key)\n",
    "                else:\n",
    "                    self._descendant[a] = [key]\n",
    "        for key in self._ancestors.keys():\n",
    "            self._ancestors[key] = set(self._ancestors[key])\n",
    "        for key in self._descendant.keys():\n",
    "            self._descendant[key] = set(self._descendant[key])\n",
    "\n",
    "    def lock(self, num: int, user: int) -> bool:\n",
    "        if self._lockStatus[num] == -1:\n",
    "            self._lockStatus[num] = user\n",
    "            return True\n",
    "        return False\n",
    "\n",
    "    def unlock(self, num: int, user: int) -> bool:\n",
    "        if self._lockStatus[num] == user:\n",
    "            self._lockStatus[num] = -1\n",
    "            return True\n",
    "        return False\n",
    "\n",
    "    def upgrade(self, num: int, user: int) -> bool:\n",
    "        if self._lockStatus[num] != -1:\n",
    "            return False\n",
    "        if num in self._ancestors:\n",
    "            for a in self._ancestors[num]:\n",
    "                if self._lockStatus[a] != -1:\n",
    "                    return False\n",
    "        childHasLock = False\n",
    "        needUnlockIfUpgrade = set()\n",
    "        if num not in self._descendant:\n",
    "            return False\n",
    "        for c in self._descendant[num]:\n",
    "            if self._lockStatus[c] != -1:\n",
    "                needUnlockIfUpgrade.add(c)\n",
    "                childHasLock = True\n",
    "        if not childHasLock:\n",
    "            return False\n",
    "        for node in needUnlockIfUpgrade:\n",
    "            self._lockStatus[node] = -1\n",
    "        self._lockStatus[num] = user\n",
    "        return True"
   ]
  },
  {
   "cell_type": "code",
   "execution_count": 2,
   "id": "f76d2200-2f91-4420-8f04-27482c2cb481",
   "metadata": {},
   "outputs": [
    {
     "data": {
      "text/plain": [
       "True"
      ]
     },
     "execution_count": 2,
     "metadata": {},
     "output_type": "execute_result"
    }
   ],
   "source": [
    "lockingTree = LockingTree([-1, 0, 0, 1, 1, 2, 2])\n",
    "lockingTree.lock(2, 2)    # 返回 true ，因为节点 2 未上锁。节点 2 被用户 2 上锁。"
   ]
  },
  {
   "cell_type": "code",
   "execution_count": 3,
   "id": "22dc3ac0-4586-4ba6-a1bb-c8477a17bbad",
   "metadata": {},
   "outputs": [
    {
     "data": {
      "text/plain": [
       "False"
      ]
     },
     "execution_count": 3,
     "metadata": {},
     "output_type": "execute_result"
    }
   ],
   "source": [
    "lockingTree.unlock(2, 3)  # 返回 false ，因为用户 3 无法解锁被用户 2 上锁的节点。"
   ]
  },
  {
   "cell_type": "code",
   "execution_count": 4,
   "id": "bc79a1af-ee08-4e4a-809a-b720742a53d4",
   "metadata": {},
   "outputs": [
    {
     "data": {
      "text/plain": [
       "True"
      ]
     },
     "execution_count": 4,
     "metadata": {},
     "output_type": "execute_result"
    }
   ],
   "source": [
    "lockingTree.unlock(2, 2)  # 返回 true ，因为节点 2 之前被用户 2 上锁。节点 2 现在变为未上锁状态。"
   ]
  },
  {
   "cell_type": "code",
   "execution_count": 5,
   "id": "54727599-4ded-4b9f-ad47-8968e79fcfa8",
   "metadata": {},
   "outputs": [
    {
     "data": {
      "text/plain": [
       "True"
      ]
     },
     "execution_count": 5,
     "metadata": {},
     "output_type": "execute_result"
    }
   ],
   "source": [
    "lockingTree.lock(4, 5)    # 返回 true ，因为节点 4 未上锁。\n",
    "                          # 节点 4 被用户 5 上锁。"
   ]
  },
  {
   "cell_type": "code",
   "execution_count": 6,
   "id": "ed896078-a000-4050-b559-b4a7ebab2875",
   "metadata": {},
   "outputs": [
    {
     "data": {
      "text/plain": [
       "True"
      ]
     },
     "execution_count": 6,
     "metadata": {},
     "output_type": "execute_result"
    }
   ],
   "source": [
    "lockingTree.upgrade(0, 1) # 返回 true ，因为节点 0 未上锁且至少有一个被上锁的子孙节点（节点 4）。\n",
    "                          # 节点 0 被用户 1 上锁，节点 4 变为未上锁。"
   ]
  },
  {
   "cell_type": "code",
   "execution_count": 7,
   "id": "1e37b848-972e-4711-beaf-94f98fb4f22d",
   "metadata": {},
   "outputs": [
    {
     "data": {
      "text/plain": [
       "False"
      ]
     },
     "execution_count": 7,
     "metadata": {},
     "output_type": "execute_result"
    }
   ],
   "source": [
    "lockingTree.lock(0, 1)    # 返回 false ，因为节点 0 已经被上锁了。"
   ]
  },
  {
   "cell_type": "code",
   "execution_count": null,
   "id": "29052779-6432-47e6-ba2f-f25c415f3c33",
   "metadata": {},
   "outputs": [],
   "source": []
  }
 ],
 "metadata": {
  "kernelspec": {
   "display_name": "Python 3 (ipykernel)",
   "language": "python",
   "name": "python3"
  },
  "language_info": {
   "codemirror_mode": {
    "name": "ipython",
    "version": 3
   },
   "file_extension": ".py",
   "mimetype": "text/x-python",
   "name": "python",
   "nbconvert_exporter": "python",
   "pygments_lexer": "ipython3",
   "version": "3.7.10"
  }
 },
 "nbformat": 4,
 "nbformat_minor": 5
}
