{
 "cells": [
  {
   "cell_type": "markdown",
   "metadata": {},
   "source": [
    "# 执行操作后的变量值\n",
    "\n",
    "**题目来源：力扣（LeetCode）**\n",
    "\n",
    "**链接：https://leetcode-cn.com/problems/final-value-of-variable-after-performing-operations/**\n",
    "\n",
    "## 一、题目\n",
    "\n",
    "存在一种仅支持 4 种操作和 1 个变量 X 的编程语言：\n",
    "\n",
    "- ++X 和 X++ 使变量 X 的值 加 1\n",
    "- --X 和 X-- 使变量 X 的值 减 1\n",
    "\n",
    "最初，X 的值是 0\n",
    "\n",
    "给你一个字符串数组 operations ，这是由操作组成的一个列表，返回执行所有操作后， X 的 最终值 。\n",
    "\n",
    "### 提示：\n",
    "\n",
    "- 1 <= operations.length <= 100\n",
    "- operations[i] 将会是 \"++X\"、\"X++\"、\"--X\" 或 \"X--\"\n",
    "\n",
    "## 二、示例\n",
    "\n",
    "### 示例 1：\n",
    "\n",
    "输入：operations = [\"--X\",\"X++\",\"X++\"]\n",
    "\n",
    "输出：1\n",
    "\n",
    "解释：操作按下述步骤执行：\n",
    "\n",
    "- 最初，X = 0\n",
    "- --X：X 减 1 ，X =  0 - 1 = -1\n",
    "- X++：X 加 1 ，X = -1 + 1 =  0\n",
    "- X++：X 加 1 ，X =  0 + 1 =  1\n",
    "\n",
    "### 示例 2：\n",
    "\n",
    "输入：operations = [\"++X\",\"++X\",\"X++\"]\n",
    "\n",
    "输出：3\n",
    "\n",
    "解释：操作按下述步骤执行： \n",
    "\n",
    "- 最初，X = 0\n",
    "- ++X：X 加 1 ，X = 0 + 1 = 1\n",
    "- ++X：X 加 1 ，X = 1 + 1 = 2\n",
    "- X++：X 加 1 ，X = 2 + 1 = 3\n",
    "\n",
    "### 示例 3：\n",
    "\n",
    "输入：operations = [\"X++\",\"++X\",\"--X\",\"X--\"]\n",
    "\n",
    "输出：0\n",
    "\n",
    "解释：操作按下述步骤执行：\n",
    "\n",
    "- 最初，X = 0\n",
    "- X++：X 加 1 ，X = 0 + 1 = 1\n",
    "- ++X：X 加 1 ，X = 1 + 1 = 2\n",
    "- --X：X 减 1 ，X = 2 - 1 = 1\n",
    "- X--：X 减 1 ，X = 1 - 1 = 0\n",
    "\n",
    "## 三、解题思路\n",
    "\n",
    "### 模拟过程"
   ]
  },
  {
   "cell_type": "code",
   "execution_count": 1,
   "metadata": {},
   "outputs": [],
   "source": [
    "class Solution:\n",
    "    def finalValueAfterOperations(self, operations) -> int:\n",
    "        ret = 0\n",
    "        for op in operations:\n",
    "            if op == '++X' or op == 'X++':\n",
    "                ret += 1\n",
    "            elif op == '--X' or op == 'X--':\n",
    "                ret -= 1\n",
    "        return ret"
   ]
  },
  {
   "cell_type": "code",
   "execution_count": 2,
   "metadata": {},
   "outputs": [
    {
     "data": {
      "text/plain": [
       "1"
      ]
     },
     "execution_count": 2,
     "metadata": {},
     "output_type": "execute_result"
    }
   ],
   "source": [
    "s = Solution()\n",
    "s.finalValueAfterOperations([\"--X\",\"X++\",\"X++\"])"
   ]
  },
  {
   "cell_type": "code",
   "execution_count": 3,
   "metadata": {},
   "outputs": [
    {
     "data": {
      "text/plain": [
       "3"
      ]
     },
     "execution_count": 3,
     "metadata": {},
     "output_type": "execute_result"
    }
   ],
   "source": [
    "s.finalValueAfterOperations([\"++X\",\"++X\",\"X++\"])"
   ]
  },
  {
   "cell_type": "code",
   "execution_count": 4,
   "metadata": {},
   "outputs": [
    {
     "data": {
      "text/plain": [
       "0"
      ]
     },
     "execution_count": 4,
     "metadata": {},
     "output_type": "execute_result"
    }
   ],
   "source": [
    "s.finalValueAfterOperations([\"X++\",\"++X\",\"--X\",\"X--\"])"
   ]
  },
  {
   "cell_type": "code",
   "execution_count": null,
   "metadata": {},
   "outputs": [],
   "source": []
  }
 ],
 "metadata": {
  "kernelspec": {
   "display_name": "Python 3 (ipykernel)",
   "language": "python",
   "name": "python3"
  },
  "language_info": {
   "codemirror_mode": {
    "name": "ipython",
    "version": 3
   },
   "file_extension": ".py",
   "mimetype": "text/x-python",
   "name": "python",
   "nbconvert_exporter": "python",
   "pygments_lexer": "ipython3",
   "version": "3.11.0"
  }
 },
 "nbformat": 4,
 "nbformat_minor": 2
}
