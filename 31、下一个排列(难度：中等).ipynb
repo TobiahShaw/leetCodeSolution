{
 "cells": [
  {
   "cell_type": "markdown",
   "metadata": {},
   "source": [
    "# 下一个排列\n",
    "\n",
    "**题目来源：力扣（LeetCode）**\n",
    "\n",
    "**链接：https://leetcode-cn.com/problems/next-permutation/**\n",
    "\n",
    "## 一、题目\n",
    "\n",
    "实现获取下一个排列的函数，算法需要将给定数字序列重新排列成字典序中下一个更大的排列。\n",
    "\n",
    "如果不存在下一个更大的排列，则将数字重新排列成最小的排列（即升序排列）。\n",
    "\n",
    "必须原地修改，只允许使用额外常数空间。\n",
    "\n",
    "## 二、示例\n",
    "\n",
    "### 示例 1：\n",
    "\n",
    "输入：[1,2,3]\n",
    "\n",
    "输出：[1,3,2]\n",
    "\n",
    "### 示例 2：\n",
    "\n",
    "输入：[3,2,1]\n",
    "\n",
    "输出：[1,2,3]\n",
    "\n",
    "### 示例 3：\n",
    "\n",
    "输入：[1,1,5]\n",
    "\n",
    "输出：[1,5,1]\n",
    "\n",
    "## 三、解题思路\n",
    "\n",
    "1. 找出从后到前非升序的数字\n",
    "2. 将这个数字和最后一位大于这个数字的数字交换\n",
    "3. 反转最后一位到之前非升序数字所在的位置的数（包含最后一位，之前非升序数字所在的位置）"
   ]
  },
  {
   "cell_type": "code",
   "execution_count": 1,
   "metadata": {},
   "outputs": [],
   "source": [
    "def nextPermutation(nums):\n",
    "    # 1.找出从后到前非升序的数字\n",
    "    i = len(nums) - 2\n",
    "    while i >= 0 and nums[i] >= nums[i + 1]:\n",
    "        i -= 1\n",
    "    # 2. 将这个数字和最后一位大于这个数字的数字交换\n",
    "    if i >= 0:\n",
    "        j = len(nums) - 1\n",
    "        while j >= 0 and nums[i] >= nums[j]:\n",
    "            j -= 1\n",
    "        nums[i], nums[j] = nums[j], nums[i]\n",
    "    # 3. 反转最后一位到之前非升序数字所在的位置的数（包含最后一位，之前非升序数字所在的位置）\n",
    "    left, right = i + 1, len(nums) - 1\n",
    "    while left < right:\n",
    "        nums[left], nums[right] = nums[right], nums[left]\n",
    "        left += 1\n",
    "        right -= 1\n",
    "    return nums"
   ]
  },
  {
   "cell_type": "code",
   "execution_count": 2,
   "metadata": {},
   "outputs": [
    {
     "data": {
      "text/plain": [
       "[1, 3, 2]"
      ]
     },
     "execution_count": 2,
     "metadata": {},
     "output_type": "execute_result"
    }
   ],
   "source": [
    "nextPermutation([1,2,3])"
   ]
  },
  {
   "cell_type": "code",
   "execution_count": 3,
   "metadata": {},
   "outputs": [
    {
     "data": {
      "text/plain": [
       "[1, 2, 3]"
      ]
     },
     "execution_count": 3,
     "metadata": {},
     "output_type": "execute_result"
    }
   ],
   "source": [
    "nextPermutation([3,2,1])"
   ]
  },
  {
   "cell_type": "code",
   "execution_count": 4,
   "metadata": {},
   "outputs": [
    {
     "data": {
      "text/plain": [
       "[1, 5, 1]"
      ]
     },
     "execution_count": 4,
     "metadata": {},
     "output_type": "execute_result"
    }
   ],
   "source": [
    "nextPermutation([1,1,5])"
   ]
  },
  {
   "cell_type": "code",
   "execution_count": null,
   "metadata": {},
   "outputs": [],
   "source": []
  }
 ],
 "metadata": {
  "kernelspec": {
   "display_name": "Python 3",
   "language": "python",
   "name": "python3"
  },
  "language_info": {
   "codemirror_mode": {
    "name": "ipython",
    "version": 3
   },
   "file_extension": ".py",
   "mimetype": "text/x-python",
   "name": "python",
   "nbconvert_exporter": "python",
   "pygments_lexer": "ipython3",
   "version": "3.6.5"
  }
 },
 "nbformat": 4,
 "nbformat_minor": 2
}
