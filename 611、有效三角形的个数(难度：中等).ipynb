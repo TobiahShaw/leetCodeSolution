{
 "cells": [
  {
   "cell_type": "markdown",
   "metadata": {},
   "source": [
    "# 有效三角形的个数\n",
    "\n",
    "**题目来源：力扣（LeetCode）**\n",
    "\n",
    "**链接：https://leetcode-cn.com/problems/valid-triangle-number/**\n",
    "\n",
    "## 一、题目\n",
    "\n",
    "给定一个包含非负整数的数组，你的任务是统计其中可以组成三角形三条边的三元组个数。\n",
    "\n",
    "### 注意:\n",
    "\n",
    "- 数组长度不超过1000。\n",
    "- 数组里整数的范围为 [0, 1000]。\n",
    "\n",
    "## 二、示例\n",
    "\n",
    "输入: [2,2,3,4]\n",
    "\n",
    "输出: 3\n",
    "\n",
    "解释:\n",
    "\n",
    "有效的组合是: \n",
    "\n",
    "- 2,3,4 (使用第一个 2)\n",
    "- 2,3,4 (使用第二个 2)\n",
    "- 2,2,3\n",
    "\n",
    "## 三、解题思路\n",
    "\n",
    "### 二分"
   ]
  },
  {
   "cell_type": "code",
   "execution_count": 1,
   "metadata": {},
   "outputs": [],
   "source": [
    "def triangleNumber(nums) -> int:\n",
    "    n = len(nums)\n",
    "    nums.sort()\n",
    "    ans = 0\n",
    "    for i in range(n):\n",
    "        for j in range(i + 1, n):\n",
    "            left, right, k = j + 1, n - 1, j\n",
    "            while left <= right:\n",
    "                mid = (left + right) // 2\n",
    "                if nums[mid] < nums[i] + nums[j]:\n",
    "                    k = mid\n",
    "                    left = mid + 1\n",
    "                else:\n",
    "                    right = mid - 1\n",
    "            ans += k - j\n",
    "    return ans"
   ]
  },
  {
   "cell_type": "code",
   "execution_count": 2,
   "metadata": {},
   "outputs": [
    {
     "data": {
      "text/plain": [
       "3"
      ]
     },
     "execution_count": 2,
     "metadata": {},
     "output_type": "execute_result"
    }
   ],
   "source": [
    "triangleNumber([2,2,3,4])"
   ]
  },
  {
   "cell_type": "code",
   "execution_count": null,
   "metadata": {},
   "outputs": [],
   "source": []
  }
 ],
 "metadata": {
  "kernelspec": {
   "display_name": "Python 3",
   "language": "python",
   "name": "python3"
  },
  "language_info": {
   "codemirror_mode": {
    "name": "ipython",
    "version": 3
   },
   "file_extension": ".py",
   "mimetype": "text/x-python",
   "name": "python",
   "nbconvert_exporter": "python",
   "pygments_lexer": "ipython3",
   "version": "3.6.5"
  }
 },
 "nbformat": 4,
 "nbformat_minor": 2
}
