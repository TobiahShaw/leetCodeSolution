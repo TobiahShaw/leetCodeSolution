{
  "cells": [
    {
      "metadata": {
        "collapsed": true
      },
      "cell_type": "markdown",
      "source": "# 寻找重复数\n\n**题目来源：力扣（LeetCode）**\n\n**链接：https://leetcode-cn.com/problems/find-the-duplicate-number/**\n\n## 一、题目\n\n给定一个包含 n + 1 个整数的数组 nums，其数字都在 1 到 n 之间（包括 1 和 n），可知至少存在一个重复的整数。假设只有一个重复的整数，找出这个重复的数。\n\n说明：\n\n- 不能更改原数组（假设数组是只读的）。\n- 只能使用额外的 O(1) 的空间。\n- 时间复杂度小于 O(n2) 。\n- 数组中只有一个重复的数字，但它可能不止重复出现一次。\n\n## 二、示例\n\n### 示例 1:\n\n输入: [1,3,4,2,2]\n\n输出: 2\n\n### 示例 2:\n\n输入: [3,1,3,4,2]\n\n输出: 3\n\n## 三、解题思路\n\n### 二分法\n\n数字在[1-n]，则找到中位数mid，则数组中i到mid的数如果多于mid个，则重复的数在[1-mid]中。"
    },
    {
      "metadata": {
        "trusted": true
      },
      "cell_type": "code",
      "source": "def findDuplicate(nums):\n    size = len(nums)\n    l, r = 0 , size - 1\n    while l < r:\n        mid = (l + r) // 2\n        cnt = 0\n        for num in nums:\n            if num <= mid:\n                cnt += 1\n        if cnt > mid:\n            r = mid\n        else:\n            l = mid + 1\n    return l",
      "execution_count": 1,
      "outputs": []
    },
    {
      "metadata": {
        "trusted": true
      },
      "cell_type": "code",
      "source": "findDuplicate([1,3,4,2,2])",
      "execution_count": 2,
      "outputs": [
        {
          "output_type": "execute_result",
          "execution_count": 2,
          "data": {
            "text/plain": "2"
          },
          "metadata": {}
        }
      ]
    },
    {
      "metadata": {
        "trusted": true
      },
      "cell_type": "code",
      "source": "findDuplicate([3,1,3,4,2])",
      "execution_count": 3,
      "outputs": [
        {
          "output_type": "execute_result",
          "execution_count": 3,
          "data": {
            "text/plain": "3"
          },
          "metadata": {}
        }
      ]
    },
    {
      "metadata": {
        "trusted": true
      },
      "cell_type": "code",
      "source": "",
      "execution_count": null,
      "outputs": []
    }
  ],
  "metadata": {
    "kernelspec": {
      "name": "python36",
      "display_name": "Python 3.6",
      "language": "python"
    },
    "language_info": {
      "mimetype": "text/x-python",
      "nbconvert_exporter": "python",
      "name": "python",
      "pygments_lexer": "ipython3",
      "version": "3.6.6",
      "file_extension": ".py",
      "codemirror_mode": {
        "version": 3,
        "name": "ipython"
      }
    }
  },
  "nbformat": 4,
  "nbformat_minor": 2
}