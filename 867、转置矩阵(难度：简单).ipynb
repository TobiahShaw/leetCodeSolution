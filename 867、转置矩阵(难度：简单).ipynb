{
  "cells": [
    {
      "metadata": {
        "collapsed": true
      },
      "cell_type": "markdown",
      "source": "# 转置矩阵\n\n**题目来源：力扣（LeetCode）**\n\n**链接：https://leetcode-cn.com/problems/transpose-matrix/**\n\n## 一、题目\n\n给定一个矩阵 A， 返回 A 的转置矩阵。\n\n矩阵的转置是指将矩阵的主对角线翻转，交换矩阵的行索引与列索引。\n\n## 二、示例\n\n### 示例 1：\n\n输入：[[1,2,3],[4,5,6],[7,8,9]]\n\n输出：[[1,4,7],[2,5,8],[3,6,9]]\n\n### 示例 2：\n\n输入：[[1,2,3],[4,5,6]]\n\n输出：[[1,4],[2,5],[3,6]]\n\n## 三、解题思路\n\n### 直接复制"
    },
    {
      "metadata": {
        "trusted": true
      },
      "cell_type": "code",
      "source": "def transpose(A):\n    m, n = len(A), len(A[0])\n    res = []\n    for y in range(n):\n        arr = []\n        for x in range(m):\n            arr.append(A[x][y])\n        res.append(arr)\n    return res",
      "execution_count": 1,
      "outputs": []
    },
    {
      "metadata": {
        "trusted": true
      },
      "cell_type": "code",
      "source": "transpose([[1,2,3],[4,5,6],[7,8,9]])",
      "execution_count": 2,
      "outputs": [
        {
          "output_type": "execute_result",
          "execution_count": 2,
          "data": {
            "text/plain": "[[1, 4, 7], [2, 5, 8], [3, 6, 9]]"
          },
          "metadata": {}
        }
      ]
    },
    {
      "metadata": {
        "trusted": true
      },
      "cell_type": "code",
      "source": "transpose([[1,2,3],[4,5,6]])",
      "execution_count": 3,
      "outputs": [
        {
          "output_type": "execute_result",
          "execution_count": 3,
          "data": {
            "text/plain": "[[1, 4], [2, 5], [3, 6]]"
          },
          "metadata": {}
        }
      ]
    },
    {
      "metadata": {},
      "cell_type": "markdown",
      "source": "### 直接复制 Pythonic"
    },
    {
      "metadata": {
        "trusted": true
      },
      "cell_type": "code",
      "source": "def transpose(A):\n    R, C = len(A), len(A[0])\n    ans = [[None] * R for _ in range(C)]\n    for r, row in enumerate(A):\n        for c, val in enumerate(row):\n            ans[c][r] = val\n    return ans",
      "execution_count": 4,
      "outputs": []
    },
    {
      "metadata": {
        "trusted": true
      },
      "cell_type": "code",
      "source": "transpose([[1,2,3],[4,5,6],[7,8,9]])",
      "execution_count": 5,
      "outputs": [
        {
          "output_type": "execute_result",
          "execution_count": 5,
          "data": {
            "text/plain": "[[1, 4, 7], [2, 5, 8], [3, 6, 9]]"
          },
          "metadata": {}
        }
      ]
    },
    {
      "metadata": {
        "trusted": true
      },
      "cell_type": "code",
      "source": "transpose([[1,2,3],[4,5,6]])",
      "execution_count": 6,
      "outputs": [
        {
          "output_type": "execute_result",
          "execution_count": 6,
          "data": {
            "text/plain": "[[1, 4], [2, 5], [3, 6]]"
          },
          "metadata": {}
        }
      ]
    },
    {
      "metadata": {},
      "cell_type": "markdown",
      "source": "### 内置函数"
    },
    {
      "metadata": {
        "trusted": true
      },
      "cell_type": "code",
      "source": "def transpose(A):\n    return list(zip(*A))",
      "execution_count": 7,
      "outputs": []
    },
    {
      "metadata": {
        "trusted": true
      },
      "cell_type": "code",
      "source": "transpose([[1,2,3],[4,5,6],[7,8,9]])",
      "execution_count": 8,
      "outputs": [
        {
          "output_type": "execute_result",
          "execution_count": 8,
          "data": {
            "text/plain": "[(1, 4, 7), (2, 5, 8), (3, 6, 9)]"
          },
          "metadata": {}
        }
      ]
    },
    {
      "metadata": {
        "trusted": true
      },
      "cell_type": "code",
      "source": "transpose([[1,2,3],[4,5,6]])",
      "execution_count": 9,
      "outputs": [
        {
          "output_type": "execute_result",
          "execution_count": 9,
          "data": {
            "text/plain": "[(1, 4), (2, 5), (3, 6)]"
          },
          "metadata": {}
        }
      ]
    },
    {
      "metadata": {
        "trusted": true
      },
      "cell_type": "code",
      "source": "",
      "execution_count": null,
      "outputs": []
    }
  ],
  "metadata": {
    "kernelspec": {
      "name": "python36",
      "display_name": "Python 3.6",
      "language": "python"
    },
    "language_info": {
      "mimetype": "text/x-python",
      "nbconvert_exporter": "python",
      "name": "python",
      "pygments_lexer": "ipython3",
      "version": "3.6.6",
      "file_extension": ".py",
      "codemirror_mode": {
        "version": 3,
        "name": "ipython"
      }
    }
  },
  "nbformat": 4,
  "nbformat_minor": 2
}