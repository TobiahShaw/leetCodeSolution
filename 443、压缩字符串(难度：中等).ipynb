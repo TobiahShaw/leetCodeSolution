{
 "cells": [
  {
   "cell_type": "markdown",
   "metadata": {},
   "source": [
    "# 压缩字符串\n",
    "\n",
    "**题目来源：力扣（LeetCode）**\n",
    "\n",
    "**链接：https://leetcode-cn.com/problems/string-compression/**\n",
    "\n",
    "## 一、题目\n",
    "\n",
    "给你一个字符数组 chars ，请使用下述算法压缩：\n",
    "\n",
    "从一个空字符串 s 开始。对于 chars 中的每组 连续重复字符 ：\n",
    "\n",
    "如果这一组长度为 1 ，则将字符追加到 s 中。\n",
    "否则，需要向 s 追加字符，后跟这一组的长度。\n",
    "压缩后得到的字符串 s 不应该直接返回 ，需要转储到字符数组 chars 中。需要注意的是，如果组长度为 10 或 10 以上，则在 chars 数组中会被拆分为多个字符。\n",
    "\n",
    "请在 修改完输入数组后 ，返回该数组的新长度。\n",
    "\n",
    "### 你必须设计并实现一个只使用常量额外空间的算法来解决此问题。\n",
    "\n",
    "### 提示：\n",
    "\n",
    "- 1 <= chars.length <= 2000\n",
    "- chars[i] 可以是小写英文字母、大写英文字母、数字或符号\n",
    "\n",
    "## 二、示例\n",
    "\n",
    "### 示例 1：\n",
    "\n",
    "输入：chars = [\"a\",\"a\",\"b\",\"b\",\"c\",\"c\",\"c\"]\n",
    "\n",
    "输出：返回 6 ，输入数组的前 6 个字符应该是：[\"a\",\"2\",\"b\",\"2\",\"c\",\"3\"]\n",
    "\n",
    "解释：\"aa\" 被 \"a2\" 替代。\"bb\" 被 \"b2\" 替代。\"ccc\" 被 \"c3\" 替代。\n",
    "\n",
    "### 示例 2：\n",
    "\n",
    "输入：chars = [\"a\"]\n",
    "\n",
    "输出：返回 1 ，输入数组的前 1 个字符应该是：[\"a\"]\n",
    "\n",
    "解释：没有任何字符串被替代。\n",
    "\n",
    "### 示例 3：\n",
    "\n",
    "输入：chars = [\"a\",\"b\",\"b\",\"b\",\"b\",\"b\",\"b\",\"b\",\"b\",\"b\",\"b\",\"b\",\"b\"]\n",
    "\n",
    "输出：返回 4 ，输入数组的前 4 个字符应该是：[\"a\",\"b\",\"1\",\"2\"]。\n",
    "\n",
    "解释：由于字符 \"a\" 不重复，所以不会被压缩。\"bbbbbbbbbbbb\" 被 “b12” 替代。注意每个数字在数组中都有它自己的位置。\n",
    "\n",
    "## 三、解题思路\n",
    "\n",
    "### 单次扫描"
   ]
  },
  {
   "cell_type": "code",
   "execution_count": 1,
   "metadata": {},
   "outputs": [],
   "source": [
    "def compress(chars) -> int:\n",
    "    curChar = chars[0]\n",
    "    curCount = 0\n",
    "    curIndex = 0\n",
    "    for ch in chars:\n",
    "        if ch == curChar:\n",
    "            curCount += 1\n",
    "        else:\n",
    "            chars[curIndex] = curChar\n",
    "            curIndex += 1\n",
    "            if curCount > 1:\n",
    "                for num in str(curCount):\n",
    "                    chars[curIndex] = num\n",
    "                    curIndex += 1\n",
    "            curChar = ch\n",
    "            curCount = 1\n",
    "    chars[curIndex] = curChar\n",
    "    curIndex += 1\n",
    "    if curCount > 1:\n",
    "        for num in str(curCount):\n",
    "            chars[curIndex] = num\n",
    "            curIndex += 1\n",
    "    return curIndex"
   ]
  },
  {
   "cell_type": "code",
   "execution_count": 2,
   "metadata": {},
   "outputs": [
    {
     "data": {
      "text/plain": [
       "['a', '2', 'b', '2', 'c', '3']"
      ]
     },
     "execution_count": 2,
     "metadata": {},
     "output_type": "execute_result"
    }
   ],
   "source": [
    "chars = [\"a\",\"a\",\"b\",\"b\",\"c\",\"c\",\"c\"]\n",
    "chars[:compress(chars)]"
   ]
  },
  {
   "cell_type": "code",
   "execution_count": 3,
   "metadata": {},
   "outputs": [
    {
     "data": {
      "text/plain": [
       "['a']"
      ]
     },
     "execution_count": 3,
     "metadata": {},
     "output_type": "execute_result"
    }
   ],
   "source": [
    "chars = [\"a\"]\n",
    "chars[:compress(chars)]"
   ]
  },
  {
   "cell_type": "code",
   "execution_count": 4,
   "metadata": {},
   "outputs": [
    {
     "data": {
      "text/plain": [
       "['a', 'b', '1', '2']"
      ]
     },
     "execution_count": 4,
     "metadata": {},
     "output_type": "execute_result"
    }
   ],
   "source": [
    "chars = [\"a\",\"b\",\"b\",\"b\",\"b\",\"b\",\"b\",\"b\",\"b\",\"b\",\"b\",\"b\",\"b\"]\n",
    "chars[:compress(chars)]"
   ]
  },
  {
   "cell_type": "code",
   "execution_count": null,
   "metadata": {},
   "outputs": [],
   "source": []
  }
 ],
 "metadata": {
  "kernelspec": {
   "display_name": "Python 3",
   "language": "python",
   "name": "python3"
  },
  "language_info": {
   "codemirror_mode": {
    "name": "ipython",
    "version": 3
   },
   "file_extension": ".py",
   "mimetype": "text/x-python",
   "name": "python",
   "nbconvert_exporter": "python",
   "pygments_lexer": "ipython3",
   "version": "3.6.5"
  }
 },
 "nbformat": 4,
 "nbformat_minor": 2
}
