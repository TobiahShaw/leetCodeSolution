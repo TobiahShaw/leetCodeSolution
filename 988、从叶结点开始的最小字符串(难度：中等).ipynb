{
  "cells": [
    {
      "metadata": {
        "collapsed": true
      },
      "cell_type": "markdown",
      "source": "# 从叶结点开始的最小字符串\n\n**题目来源：力扣（LeetCode）**\n\n**链接：https://leetcode-cn.com/problems/smallest-string-starting-from-leaf/**\n\n## 一、题目\n\n给定一颗根结点为 root 的二叉树，树中的每一个结点都有一个从 0 到 25 的值，分别代表字母 'a' 到 'z'：值 0 代表 'a'，值 1 代表 'b'，依此类推。\n\n找出按字典序最小的字符串，该字符串从这棵树的一个叶结点开始，到根结点结束。\n\n（小贴士：字符串中任何较短的前缀在字典序上都是较小的：例如，在字典序上 \"ab\" 比 \"aba\" 要小。叶结点是指没有子结点的结点。）\n\n## 二、示例\n\n### 示例 1:\n\n```\n     a\n    / \\\n  b     c\n / \\   / \\\nd   e d   e\n```\n\n输入：[0,1,2,3,4,3,4]\n\n输出：\"dba\"\n\n### 示例 2:\n\n```\n     z\n    / \\\n  b     d\n / \\   / \\\nb   d a   c\n```\n\n输入：[25,1,3,1,3,0,2]\n\n输出：\"adz\"\n\n### 示例 3:\n\n```\n     c\n    / \\\n  c     b\n   \\   /\n    b a\n   /\n  a\n```\n\n输入：[2,2,1,null,1,0,null,0]\n\n输出：\"abc\"\n\n## 三、解题思路"
    },
    {
      "metadata": {
        "trusted": true
      },
      "cell_type": "code",
      "source": "class TreeNode:\n    def __init__(self, x):\n        self.val = x\n        self.left = None\n        self.right = None\n\nroot1 = TreeNode(0)\n\nroot1.left = TreeNode(1)\nroot1.right = TreeNode(2)\n\nroot1.left.left = TreeNode(3)\nroot1.left.right = TreeNode(4)\n\nroot1.right.left = TreeNode(3)\nroot1.right.right = TreeNode(4)\n\nroot2 = TreeNode(25)\n\nroot2.left = TreeNode(1)\nroot2.right = TreeNode(3)\n\nroot2.left.left = TreeNode(1)\nroot2.left.right = TreeNode(3)\n\nroot2.right.left = TreeNode(0)\nroot2.right.right = TreeNode(2)\n\nroot3 = TreeNode(2)\n\nroot3.left = TreeNode(2)\nroot3.right = TreeNode(1)\n\nroot3.left.right = TreeNode(1)\n\nroot3.right.left = TreeNode(0)\n\nroot3.left.right.left = TreeNode(0)",
      "execution_count": 1,
      "outputs": []
    },
    {
      "metadata": {},
      "cell_type": "markdown",
      "source": "### 深度优先搜索"
    },
    {
      "metadata": {
        "trusted": true
      },
      "cell_type": "code",
      "source": "def smallestFromLeaf(root: TreeNode) -> str:\n    ans = \"~\"\n    def dfs(item, node):\n        nonlocal ans\n        if node:\n            item.append(node.val)\n            if not node.left and not node.right:\n                ans = min(ans, \"\".join([chr(i+97) for i in reversed(item)]))\n            dfs(item, node.left)\n            dfs(item, node.right)\n            item.pop()\n    dfs([], root)\n    return ans",
      "execution_count": 2,
      "outputs": []
    },
    {
      "metadata": {
        "trusted": true
      },
      "cell_type": "code",
      "source": "smallestFromLeaf(root1)",
      "execution_count": 3,
      "outputs": [
        {
          "output_type": "execute_result",
          "execution_count": 3,
          "data": {
            "text/plain": "'dba'"
          },
          "metadata": {}
        }
      ]
    },
    {
      "metadata": {
        "trusted": true
      },
      "cell_type": "code",
      "source": "smallestFromLeaf(root2)",
      "execution_count": 4,
      "outputs": [
        {
          "output_type": "execute_result",
          "execution_count": 4,
          "data": {
            "text/plain": "'adz'"
          },
          "metadata": {}
        }
      ]
    },
    {
      "metadata": {
        "trusted": true
      },
      "cell_type": "code",
      "source": "smallestFromLeaf(root3)",
      "execution_count": 5,
      "outputs": [
        {
          "output_type": "execute_result",
          "execution_count": 5,
          "data": {
            "text/plain": "'abc'"
          },
          "metadata": {}
        }
      ]
    },
    {
      "metadata": {
        "trusted": true
      },
      "cell_type": "code",
      "source": "",
      "execution_count": null,
      "outputs": []
    }
  ],
  "metadata": {
    "kernelspec": {
      "name": "python36",
      "display_name": "Python 3.6",
      "language": "python"
    },
    "language_info": {
      "mimetype": "text/x-python",
      "nbconvert_exporter": "python",
      "name": "python",
      "pygments_lexer": "ipython3",
      "version": "3.6.6",
      "file_extension": ".py",
      "codemirror_mode": {
        "version": 3,
        "name": "ipython"
      }
    }
  },
  "nbformat": 4,
  "nbformat_minor": 2
}