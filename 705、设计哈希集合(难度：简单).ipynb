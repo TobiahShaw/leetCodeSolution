{
 "cells": [
  {
   "cell_type": "markdown",
   "metadata": {},
   "source": [
    "# 设计哈希集合\n",
    "\n",
    "**题目来源：力扣（LeetCode）**\n",
    "\n",
    "**链接：https://leetcode-cn.com/problems/design-hashset/**\n",
    "\n",
    "## 一、题目\n",
    "\n",
    "不使用任何内建的哈希表库设计一个哈希集合（HashSet）。\n",
    "\n",
    "实现 MyHashSet 类：\n",
    "\n",
    "- void add(key) 向哈希集合中插入值 key 。\n",
    "- bool contains(key) 返回哈希集合中是否存在这个值 key 。\n",
    "- void remove(key) 将给定值 key 从哈希集合中删除。如果哈希集合中没有这个值，什么也不做。\n",
    "\n",
    "### 提示：\n",
    "\n",
    "- 0 <= key <= 106\n",
    "- 最多调用 104 次 add、remove 和 contains \n",
    "\n",
    "## 二、示例\n",
    "\n",
    "输入：\n",
    "[\"MyHashSet\", \"add\", \"add\", \"contains\", \"contains\", \"add\", \"contains\", \"remove\", \"contains\"]\n",
    "[[], [1], [2], [1], [3], [2], [2], [2], [2]]\n",
    "输出：\n",
    "[null, null, null, true, false, null, true, null, false]\n",
    "\n",
    "解释：\n",
    "```\n",
    "myHashSet = MyHashSet()\n",
    "myHashSet.add(1)      # set = [1]\n",
    "myHashSet.add(2);     # set = [1, 2]\n",
    "myHashSet.contains(1) # 返回 True\n",
    "myHashSet.contains(3) # 返回 False ，（未找到）\n",
    "myHashSet.add(2)      # set = [1, 2]\n",
    "myHashSet.contains(2) # 返回 True\n",
    "myHashSet.remove(2);  # set = [1]\n",
    "myHashSet.contains(2) # 返回 False ，（已移除）\n",
    "```\n",
    "\n",
    "## 三、解题思路\n",
    "\n",
    "### 暴力"
   ]
  },
  {
   "cell_type": "code",
   "execution_count": 1,
   "metadata": {},
   "outputs": [],
   "source": [
    "class MyHashSet:\n",
    "\n",
    "    def __init__(self):\n",
    "        \"\"\"\n",
    "        Initialize your data structure here.\n",
    "        \"\"\"\n",
    "        self.inner_set = [0 for i in range(1000001)]\n",
    "\n",
    "    def add(self, key: int) -> None:\n",
    "        self.inner_set[key] = 1\n",
    "\n",
    "    def remove(self, key: int) -> None:\n",
    "        self.inner_set[key] = 0\n",
    "\n",
    "    def contains(self, key: int) -> bool:\n",
    "        \"\"\"\n",
    "        Returns true if this set contains the specified element\n",
    "        \"\"\"\n",
    "        return self.inner_set[key] == 1"
   ]
  },
  {
   "cell_type": "code",
   "execution_count": 2,
   "metadata": {},
   "outputs": [],
   "source": [
    "myHashSet = MyHashSet()"
   ]
  },
  {
   "cell_type": "code",
   "execution_count": 3,
   "metadata": {},
   "outputs": [],
   "source": [
    "myHashSet.add(1)      # set = [1]\n",
    "myHashSet.add(2);     # set = [1, 2]"
   ]
  },
  {
   "cell_type": "code",
   "execution_count": 4,
   "metadata": {},
   "outputs": [
    {
     "data": {
      "text/plain": [
       "True"
      ]
     },
     "execution_count": 4,
     "metadata": {},
     "output_type": "execute_result"
    }
   ],
   "source": [
    "myHashSet.contains(1) # 返回 True"
   ]
  },
  {
   "cell_type": "code",
   "execution_count": 5,
   "metadata": {},
   "outputs": [
    {
     "data": {
      "text/plain": [
       "False"
      ]
     },
     "execution_count": 5,
     "metadata": {},
     "output_type": "execute_result"
    }
   ],
   "source": [
    "myHashSet.contains(3) # 返回 False ，（未找到）"
   ]
  },
  {
   "cell_type": "code",
   "execution_count": 6,
   "metadata": {},
   "outputs": [],
   "source": [
    "myHashSet.add(2)      # set = [1, 2]"
   ]
  },
  {
   "cell_type": "code",
   "execution_count": 7,
   "metadata": {},
   "outputs": [
    {
     "data": {
      "text/plain": [
       "True"
      ]
     },
     "execution_count": 7,
     "metadata": {},
     "output_type": "execute_result"
    }
   ],
   "source": [
    "myHashSet.contains(2) # 返回 True"
   ]
  },
  {
   "cell_type": "code",
   "execution_count": 8,
   "metadata": {},
   "outputs": [],
   "source": [
    "myHashSet.remove(2);  # set = [1]"
   ]
  },
  {
   "cell_type": "code",
   "execution_count": 9,
   "metadata": {},
   "outputs": [
    {
     "data": {
      "text/plain": [
       "False"
      ]
     },
     "execution_count": 9,
     "metadata": {},
     "output_type": "execute_result"
    }
   ],
   "source": [
    "myHashSet.contains(2) # 返回 False ，（已移除）"
   ]
  },
  {
   "cell_type": "code",
   "execution_count": null,
   "metadata": {},
   "outputs": [],
   "source": []
  }
 ],
 "metadata": {
  "kernelspec": {
   "display_name": "Python 3",
   "language": "python",
   "name": "python3"
  },
  "language_info": {
   "codemirror_mode": {
    "name": "ipython",
    "version": 3
   },
   "file_extension": ".py",
   "mimetype": "text/x-python",
   "name": "python",
   "nbconvert_exporter": "python",
   "pygments_lexer": "ipython3",
   "version": "3.6.5"
  }
 },
 "nbformat": 4,
 "nbformat_minor": 2
}
