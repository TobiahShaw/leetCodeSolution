{
 "cells": [
  {
   "cell_type": "markdown",
   "metadata": {},
   "source": [
    "# 找出星型图的中心节点\n",
    "\n",
    "**题目来源：力扣（LeetCode）**\n",
    "\n",
    "**链接：https://leetcode-cn.com/problems/find-center-of-star-graph/**\n",
    "\n",
    "## 一、题目\n",
    "\n",
    "有一个无向的 星型 图，由 n 个编号从 1 到 n 的节点组成。星型图有一个 中心 节点，并且恰有 n - 1 条边将中心节点与其他每个节点连接起来。\n",
    "\n",
    "给你一个二维整数数组 edges ，其中 edges[i] = [ui, vi] 表示在节点 ui 和 vi 之间存在一条边。请你找出并返回 edges 所表示星型图的中心节点。\n",
    "\n",
    "### 提示：\n",
    "\n",
    "- 3 <= n <= 10^5\n",
    "- edges.length == n - 1\n",
    "- edges[i].length == 2\n",
    "- 1 <= ui, vi <= n\n",
    "- ui != vi\n",
    "- 题目数据给出的 edges 表示一个有效的星型图\n",
    "\n",
    "## 二、示例\n",
    "\n",
    "### 示例 1：\n",
    "\n",
    "输入：edges = [[1,2],[2,3],[4,2]]\n",
    "\n",
    "输出：2\n",
    "\n",
    "解释：如上图所示，节点 2 与其他每个节点都相连，所以节点 2 是中心节点。\n",
    "\n",
    "### 示例 2：\n",
    "\n",
    "输入：edges = [[1,2],[5,1],[1,3],[1,4]]\n",
    "\n",
    "输出：1\n",
    "\n",
    "## 三、解题思路\n",
    "\n",
    "### 连通边最多的点"
   ]
  },
  {
   "cell_type": "code",
   "execution_count": 1,
   "metadata": {},
   "outputs": [],
   "source": [
    "def findCenter(edges) -> int:\n",
    "    ret = 0\n",
    "    max_e = 0\n",
    "    dic = {}\n",
    "    for edge in edges:\n",
    "        dic[edge[0]] = dic.get(edge[0], 0) + 1\n",
    "        dic[edge[1]] = dic.get(edge[1], 0) + 1\n",
    "        if dic[edge[0]] > max_e:\n",
    "            max_e = dic[edge[0]]\n",
    "            ret = edge[0]\n",
    "        if dic[edge[1]] > max_e:\n",
    "            max_e = dic[edge[1]]\n",
    "            ret = edge[1]\n",
    "    return ret"
   ]
  },
  {
   "cell_type": "code",
   "execution_count": 2,
   "metadata": {},
   "outputs": [
    {
     "data": {
      "text/plain": [
       "2"
      ]
     },
     "execution_count": 2,
     "metadata": {},
     "output_type": "execute_result"
    }
   ],
   "source": [
    "findCenter([[1,2],[2,3],[4,2]])"
   ]
  },
  {
   "cell_type": "code",
   "execution_count": 3,
   "metadata": {},
   "outputs": [
    {
     "data": {
      "text/plain": [
       "1"
      ]
     },
     "execution_count": 3,
     "metadata": {},
     "output_type": "execute_result"
    }
   ],
   "source": [
    "findCenter([[1,2],[5,1],[1,3],[1,4]])"
   ]
  },
  {
   "cell_type": "code",
   "execution_count": null,
   "metadata": {},
   "outputs": [],
   "source": []
  }
 ],
 "metadata": {
  "kernelspec": {
   "display_name": "Python 3",
   "language": "python",
   "name": "python3"
  },
  "language_info": {
   "codemirror_mode": {
    "name": "ipython",
    "version": 3
   },
   "file_extension": ".py",
   "mimetype": "text/x-python",
   "name": "python",
   "nbconvert_exporter": "python",
   "pygments_lexer": "ipython3",
   "version": "3.6.5"
  }
 },
 "nbformat": 4,
 "nbformat_minor": 2
}
