{
  "cells": [
    {
      "metadata": {},
      "cell_type": "markdown",
      "source": "# 翻转二叉树\n\n**题目来源：力扣（LeetCode）**\n\n**链接：https://leetcode-cn.com/problems/invert-binary-tree/submissions/**\n\n## 一、题目\n\n翻转一棵二叉树。\n\n## 二、示例\n\n输入：\n\n&emsp;&emsp;&emsp;&emsp;4\n     \n&emsp;&emsp;&emsp;/&emsp;&emsp;\\\n   \n&emsp;&emsp;2&emsp;&emsp;&emsp;7\n  \n&emsp;/&emsp;\\&emsp;&emsp;&emsp;/&emsp;\\\n \n1&emsp;&emsp;3&emsp;&emsp;6&emsp;&emsp;9\n\n输出：\n\n&emsp;&emsp;&emsp;&emsp;4\n     \n&emsp;&emsp;&emsp;/&emsp;&emsp;\\\n   \n&emsp;&emsp;7&emsp;&emsp;&emsp;2\n  \n&emsp;/&emsp;\\&emsp;&emsp;&emsp;/&emsp;\\\n \n9&emsp;&emsp;6&emsp;&emsp;3&emsp;&emsp;1\n\n## 解题思路"
    },
    {
      "metadata": {
        "trusted": true
      },
      "cell_type": "code",
      "source": "class TreeNode:\n    def __init__(self, x):\n        self.val = x\n        self.left = None\n        self.right = None",
      "execution_count": 1,
      "outputs": []
    },
    {
      "metadata": {},
      "cell_type": "markdown",
      "source": "### 递归翻转"
    },
    {
      "metadata": {
        "trusted": true
      },
      "cell_type": "code",
      "source": "def invertTree(root):\n    if root:\n        root.left, root.right = root.right, root.left\n        invertTree(root.left)\n        invertTree(root.right)\n    return root",
      "execution_count": 2,
      "outputs": []
    },
    {
      "metadata": {
        "trusted": true
      },
      "cell_type": "code",
      "source": "",
      "execution_count": null,
      "outputs": []
    }
  ],
  "metadata": {
    "kernelspec": {
      "name": "python36",
      "display_name": "Python 3.6",
      "language": "python"
    },
    "language_info": {
      "mimetype": "text/x-python",
      "nbconvert_exporter": "python",
      "name": "python",
      "pygments_lexer": "ipython3",
      "version": "3.6.6",
      "file_extension": ".py",
      "codemirror_mode": {
        "version": 3,
        "name": "ipython"
      }
    }
  },
  "nbformat": 4,
  "nbformat_minor": 2
}