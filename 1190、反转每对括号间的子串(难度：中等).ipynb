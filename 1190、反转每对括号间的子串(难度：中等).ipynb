{
 "cells": [
  {
   "cell_type": "markdown",
   "metadata": {},
   "source": [
    "# 反转每对括号间的子串\n",
    "\n",
    "**题目来源：力扣（LeetCode）**\n",
    "\n",
    "**链接：https://leetcode-cn.com/problems/reverse-substrings-between-each-pair-of-parentheses/**\n",
    "\n",
    "## 一、题目\n",
    "\n",
    "给出一个字符串 s（仅含有小写英文字母和括号）。\n",
    "\n",
    "请你按照从括号内到外的顺序，逐层反转每对匹配括号中的字符串，并返回最终的结果。\n",
    "\n",
    "注意，您的结果中 不应 包含任何括号。\n",
    "\n",
    "### 提示：\n",
    "\n",
    "- 0 <= s.length <= 2000\n",
    "- s 中只有小写英文字母和括号\n",
    "- 我们确保所有括号都是成对出现的\n",
    "\n",
    "## 二、示例\n",
    "\n",
    "### 示例 1：\n",
    "\n",
    "输入：s = \"(abcd)\"\n",
    "\n",
    "输出：\"dcba\"\n",
    "\n",
    "### 示例 2：\n",
    "\n",
    "输入：s = \"(u(love)i)\"\n",
    "\n",
    "输出：\"iloveu\"\n",
    "\n",
    "### 示例 3：\n",
    "\n",
    "输入：s = \"(ed(et(oc))el)\"\n",
    "\n",
    "输出：\"leetcode\"\n",
    "\n",
    "### 示例 4：\n",
    "\n",
    "输入：s = \"a(bcdefghijkl(mno)p)q\"\n",
    "\n",
    "输出：\"apmnolkjihgfedcbq\"\n",
    "\n",
    "## 三、解题思路\n",
    "\n",
    "### 利用栈\n",
    "\n",
    "- 遍历字符串，只要不是右括号就进栈\n",
    "- 遇到右括号，弹栈到左括号，将弹出的元素存入数组（已反序）\n",
    "- 将整个数组入栈"
   ]
  },
  {
   "cell_type": "code",
   "execution_count": 1,
   "metadata": {},
   "outputs": [],
   "source": [
    "def reverseParentheses(s: str) -> str:\n",
    "    stack = []\n",
    "    for c in s:\n",
    "        if c != ')':\n",
    "            stack.append(c)\n",
    "        else:\n",
    "            tmp = []\n",
    "            while stack and stack[-1] != '(':\n",
    "                tmp.append(stack.pop())\n",
    "            stack.pop()\n",
    "            stack += tmp\n",
    "    return \"\".join(stack)"
   ]
  },
  {
   "cell_type": "code",
   "execution_count": 2,
   "metadata": {},
   "outputs": [
    {
     "data": {
      "text/plain": [
       "'dcba'"
      ]
     },
     "execution_count": 2,
     "metadata": {},
     "output_type": "execute_result"
    }
   ],
   "source": [
    "reverseParentheses(\"(abcd)\")"
   ]
  },
  {
   "cell_type": "code",
   "execution_count": 3,
   "metadata": {},
   "outputs": [
    {
     "data": {
      "text/plain": [
       "'iloveu'"
      ]
     },
     "execution_count": 3,
     "metadata": {},
     "output_type": "execute_result"
    }
   ],
   "source": [
    "reverseParentheses(\"(u(love)i)\")"
   ]
  },
  {
   "cell_type": "code",
   "execution_count": 4,
   "metadata": {},
   "outputs": [
    {
     "data": {
      "text/plain": [
       "'leetcode'"
      ]
     },
     "execution_count": 4,
     "metadata": {},
     "output_type": "execute_result"
    }
   ],
   "source": [
    "reverseParentheses(\"(ed(et(oc))el)\")"
   ]
  },
  {
   "cell_type": "code",
   "execution_count": 5,
   "metadata": {},
   "outputs": [
    {
     "data": {
      "text/plain": [
       "'apmnolkjihgfedcbq'"
      ]
     },
     "execution_count": 5,
     "metadata": {},
     "output_type": "execute_result"
    }
   ],
   "source": [
    "reverseParentheses(\"a(bcdefghijkl(mno)p)q\")"
   ]
  },
  {
   "cell_type": "code",
   "execution_count": null,
   "metadata": {},
   "outputs": [],
   "source": []
  }
 ],
 "metadata": {
  "kernelspec": {
   "display_name": "Python 3",
   "language": "python",
   "name": "python3"
  },
  "language_info": {
   "codemirror_mode": {
    "name": "ipython",
    "version": 3
   },
   "file_extension": ".py",
   "mimetype": "text/x-python",
   "name": "python",
   "nbconvert_exporter": "python",
   "pygments_lexer": "ipython3",
   "version": "3.6.5"
  }
 },
 "nbformat": 4,
 "nbformat_minor": 2
}
