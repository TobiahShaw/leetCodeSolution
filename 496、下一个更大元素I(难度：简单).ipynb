{
 "cells": [
  {
   "cell_type": "markdown",
   "metadata": {},
   "source": [
    "# 下一个更大元素I\n",
    "\n",
    "**题目来源：力扣（LeetCode）**\n",
    "\n",
    "**链接：https://leetcode-cn.com/problems/next-greater-element-i/**\n",
    "\n",
    "## 一、题目\n",
    "\n",
    "给你两个 没有重复元素 的数组 nums1 和 nums2 ，其中nums1 是 nums2 的子集。\n",
    "\n",
    "请你找出 nums1 中每个元素在 nums2 中的下一个比其大的值。\n",
    "\n",
    "nums1 中数字 x 的下一个更大元素是指 x 在 nums2 中对应位置的右边的第一个比 x 大的元素。如果不存在，对应位置输出 -1 。\n",
    "\n",
    "### 提示：\n",
    "\n",
    "- 1 <= nums1.length <= nums2.length <= 1000\n",
    "- 0 <= nums1[i], nums2[i] <= 104\n",
    "- nums1和nums2中所有整数 互不相同\n",
    "- nums1 中的所有整数同样出现在 nums2 中\n",
    " \n",
    "\n",
    "### 进阶\n",
    "\n",
    "你可以设计一个时间复杂度为 O(nums1.length + nums2.length) 的解决方案吗？\n",
    "\n",
    "## 二、示例\n",
    "\n",
    "### 示例 1：\n",
    "\n",
    "输入: nums1 = [4,1,2], nums2 = [1,3,4,2].\n",
    "\n",
    "输出: [-1,3,-1]\n",
    "\n",
    "解释:\n",
    "\n",
    "- 对于 num1 中的数字 4 ，你无法在第二个数组中找到下一个更大的数字，因此输出 -1 。\n",
    "- 对于 num1 中的数字 1 ，第二个数组中数字1右边的下一个较大数字是 3 。\n",
    "- 对于 num1 中的数字 2 ，第二个数组中没有下一个更大的数字，因此输出 -1 。\n",
    "\n",
    "### 示例 2：\n",
    "\n",
    "输入: nums1 = [2,4], nums2 = [1,2,3,4].\n",
    "\n",
    "输出: [3,-1]\n",
    "\n",
    "解释:\n",
    "\n",
    "- 对于 num1 中的数字 2 ，第二个数组中的下一个较大数字是 3 。\n",
    "- 对于 num1 中的数字 4 ，第二个数组中没有下一个更大的数字，因此输出 -1 。\n",
    "\n",
    "## 三、解题思路\n",
    "\n",
    "### 一、暴力法"
   ]
  },
  {
   "cell_type": "code",
   "execution_count": 1,
   "metadata": {},
   "outputs": [],
   "source": [
    "def nextGreaterElement(nums1, nums2):\n",
    "    dic = {}\n",
    "    for i in range(len(nums2)):\n",
    "        dic[nums2[i]] = -1\n",
    "        for j in range(i, len(nums2)):\n",
    "            if nums2[j] > nums2[i]:\n",
    "                dic[nums2[i]] = nums2[j]\n",
    "                break\n",
    "    return [dic[i] if i in dic else -1 for i in nums1]"
   ]
  },
  {
   "cell_type": "code",
   "execution_count": 2,
   "metadata": {},
   "outputs": [
    {
     "data": {
      "text/plain": [
       "[-1, 3, -1]"
      ]
     },
     "execution_count": 2,
     "metadata": {},
     "output_type": "execute_result"
    }
   ],
   "source": [
    "nextGreaterElement(nums1 = [4,1,2], nums2 = [1,3,4,2])"
   ]
  },
  {
   "cell_type": "code",
   "execution_count": 3,
   "metadata": {},
   "outputs": [
    {
     "data": {
      "text/plain": [
       "[3, -1]"
      ]
     },
     "execution_count": 3,
     "metadata": {},
     "output_type": "execute_result"
    }
   ],
   "source": [
    "nextGreaterElement(nums1 = [2,4], nums2 = [1,2,3,4])"
   ]
  },
  {
   "cell_type": "code",
   "execution_count": null,
   "metadata": {},
   "outputs": [],
   "source": []
  }
 ],
 "metadata": {
  "kernelspec": {
   "display_name": "Python 3",
   "language": "python",
   "name": "python3"
  },
  "language_info": {
   "codemirror_mode": {
    "name": "ipython",
    "version": 3
   },
   "file_extension": ".py",
   "mimetype": "text/x-python",
   "name": "python",
   "nbconvert_exporter": "python",
   "pygments_lexer": "ipython3",
   "version": "3.6.5"
  }
 },
 "nbformat": 4,
 "nbformat_minor": 2
}
