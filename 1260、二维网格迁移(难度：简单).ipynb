{
 "cells": [
  {
   "cell_type": "markdown",
   "metadata": {},
   "source": [
    "# 二维网格迁移\n",
    "\n",
    "**题目来源：力扣（LeetCode）**\n",
    "\n",
    "**链接：https://leetcode.cn/problems/shift-2d-grid/**\n",
    "\n",
    "## 一、题目\n",
    "\n",
    "给你一个 m 行 n 列的二维网格 grid 和一个整数 k。你需要将 grid 迁移 k 次。\n",
    "\n",
    "每次「迁移」操作将会引发下述活动：\n",
    "\n",
    "- 位于 grid[i][j] 的元素将会移动到 grid[i][j + 1]。\n",
    "- 位于 grid[i][n - 1] 的元素将会移动到 grid[i + 1][0]。\n",
    "- 位于 grid[m - 1][n - 1] 的元素将会移动到 grid[0][0]。\n",
    "\n",
    "请你返回 k 次迁移操作后最终得到的 二维网格。\n",
    "\n",
    "### 提示：\n",
    "\n",
    "- 1 <= words.length <= 100\n",
    "- 1 <= words[i].length <= 100\n",
    "- words[i] 由小写英文字母组成\n",
    "\n",
    "## 二、示例\n",
    "\n",
    "### 示例 1：\n",
    "\n",
    "输入：grid = [[1,2,3],[4,5,6],[7,8,9]], k = 1\n",
    "\n",
    "输出：[[9,1,2],[3,4,5],[6,7,8]]\n",
    "\n",
    "### 示例 2：\n",
    "\n",
    "输入：grid = [[3,8,1,9],[19,7,2,5],[4,6,11,10],[12,0,21,13]], k = 4\n",
    "\n",
    "输出：[[12,0,21,13],[3,8,1,9],[19,7,2,5],[4,6,11,10]]\n",
    "\n",
    "### 示例 3：\n",
    "\n",
    "输入：grid = [[1,2,3],[4,5,6],[7,8,9]], k = 9\n",
    "\n",
    "输出：[[1,2,3],[4,5,6],[7,8,9]]\n",
    "\n",
    "## 三、解题思路\n",
    "\n",
    "### 转换为一维数组"
   ]
  },
  {
   "cell_type": "code",
   "execution_count": 1,
   "metadata": {},
   "outputs": [],
   "source": [
    "def shiftGrid(grid, k: int):\n",
    "    m, n = len(grid), len(grid[0])\n",
    "    l = []\n",
    "    for row in grid:\n",
    "        for i in row:\n",
    "            l.append(i)\n",
    "    k = k % len(l)\n",
    "    l = l[-k:] + l[:-k]\n",
    "    ret = []\n",
    "    for i in range(m):\n",
    "        ret.append(l[i*n:(i+1)*n])\n",
    "    return ret"
   ]
  },
  {
   "cell_type": "code",
   "execution_count": 2,
   "metadata": {},
   "outputs": [
    {
     "data": {
      "text/plain": [
       "[[9, 1, 2], [3, 4, 5], [6, 7, 8]]"
      ]
     },
     "execution_count": 2,
     "metadata": {},
     "output_type": "execute_result"
    }
   ],
   "source": [
    "shiftGrid(grid = [[1,2,3],[4,5,6],[7,8,9]], k = 1)"
   ]
  },
  {
   "cell_type": "code",
   "execution_count": 3,
   "metadata": {},
   "outputs": [
    {
     "data": {
      "text/plain": [
       "[[12, 0, 21, 13], [3, 8, 1, 9], [19, 7, 2, 5], [4, 6, 11, 10]]"
      ]
     },
     "execution_count": 3,
     "metadata": {},
     "output_type": "execute_result"
    }
   ],
   "source": [
    "shiftGrid(grid = [[3,8,1,9],[19,7,2,5],[4,6,11,10],[12,0,21,13]], k = 4)"
   ]
  },
  {
   "cell_type": "code",
   "execution_count": 4,
   "metadata": {},
   "outputs": [
    {
     "data": {
      "text/plain": [
       "[[1, 2, 3], [4, 5, 6], [7, 8, 9]]"
      ]
     },
     "execution_count": 4,
     "metadata": {},
     "output_type": "execute_result"
    }
   ],
   "source": [
    "shiftGrid(grid = [[1,2,3],[4,5,6],[7,8,9]], k = 9)"
   ]
  },
  {
   "cell_type": "code",
   "execution_count": null,
   "metadata": {},
   "outputs": [],
   "source": []
  }
 ],
 "metadata": {
  "kernelspec": {
   "display_name": "Python 3",
   "language": "python",
   "name": "python3"
  },
  "language_info": {
   "codemirror_mode": {
    "name": "ipython",
    "version": 3
   },
   "file_extension": ".py",
   "mimetype": "text/x-python",
   "name": "python",
   "nbconvert_exporter": "python",
   "pygments_lexer": "ipython3",
   "version": "3.6.5"
  }
 },
 "nbformat": 4,
 "nbformat_minor": 2
}
