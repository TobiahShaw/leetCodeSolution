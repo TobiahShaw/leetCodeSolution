{
 "cells": [
  {
   "cell_type": "markdown",
   "metadata": {},
   "source": [
    "# 统计一个圆中点的数目\n",
    "\n",
    "**题目来源：力扣（LeetCode）**\n",
    "\n",
    "**链接：https://leetcode-cn.com/problems/queries-on-number-of-points-inside-a-circle/**\n",
    "\n",
    "## 一、题目\n",
    "\n",
    "给你一个数组 points ，其中 points[i] = [xi, yi] ，表示第 i 个点在二维平面上的坐标。多个点可能会有 相同 的坐标。\n",
    "\n",
    "同时给你一个数组 queries ，其中 queries[j] = [xj, yj, rj] ，表示一个圆心在 (xj, yj) 且半径为 rj 的圆。\n",
    "\n",
    "对于每一个查询 queries[j] ，计算在第 j 个圆 内 点的数目。如果一个点在圆的 边界上 ，我们同样认为它在圆 内 。\n",
    "\n",
    "请你返回一个数组 answer ，其中 answer[j]是第 j 个查询的答案。\n",
    "\n",
    "提示：\n",
    "\n",
    "- 1 <= points.length <= 500\n",
    "- points[i].length == 2\n",
    "- 0 <= xi, yi <= 500\n",
    "- 1 <= queries.length <= 500\n",
    "- queries[j].length == 3\n",
    "- 0 <= xj, yj <= 500\n",
    "- 1 <= rj <= 500\n",
    "- 所有的坐标都是整数。\n",
    "\n",
    "## 二、示例\n",
    "\n",
    "### 示例 1：\n",
    "\n",
    "输入：points = [[1,3],[3,3],[5,3],[2,2]], queries = [[2,3,1],[4,3,1],[1,1,2]]\n",
    "\n",
    "输出：[3,2,2]\n",
    "\n",
    "### 示例 2：\n",
    "\n",
    "输入：points = [[1,1],[2,2],[3,3],[4,4],[5,5]], queries = [[1,2,2],[2,2,2],[4,3,2],[4,3,3]]\n",
    "\n",
    "输出：[2,3,2,4]\n",
    "\n",
    "## 三、解题思路\n",
    "\n",
    "### 勾股定律"
   ]
  },
  {
   "cell_type": "code",
   "execution_count": 1,
   "metadata": {},
   "outputs": [],
   "source": [
    "def countPoints(points, queries):\n",
    "    from math import sqrt\n",
    "    def distance(p1, p2):\n",
    "        return sqrt((p1[0]-p2[0])**2 + (p1[1]-p2[1])**2)\n",
    "    n = len(queries)\n",
    "    ret = [0] * n\n",
    "    for p1 in points:\n",
    "        for i in range(n):\n",
    "            p2 = queries[i][:2]\n",
    "            if distance(p1, p2) <= queries[i][2]:\n",
    "                ret[i] += 1\n",
    "    return ret"
   ]
  },
  {
   "cell_type": "code",
   "execution_count": 2,
   "metadata": {},
   "outputs": [
    {
     "data": {
      "text/plain": [
       "[3, 2, 2]"
      ]
     },
     "execution_count": 2,
     "metadata": {},
     "output_type": "execute_result"
    }
   ],
   "source": [
    "countPoints(points = [[1,3],[3,3],[5,3],[2,2]], queries = [[2,3,1],[4,3,1],[1,1,2]])"
   ]
  },
  {
   "cell_type": "code",
   "execution_count": 3,
   "metadata": {},
   "outputs": [
    {
     "data": {
      "text/plain": [
       "[2, 3, 2, 4]"
      ]
     },
     "execution_count": 3,
     "metadata": {},
     "output_type": "execute_result"
    }
   ],
   "source": [
    "countPoints(points = [[1,1],[2,2],[3,3],[4,4],[5,5]], queries = [[1,2,2],[2,2,2],[4,3,2],[4,3,3]])"
   ]
  },
  {
   "cell_type": "code",
   "execution_count": null,
   "metadata": {},
   "outputs": [],
   "source": []
  }
 ],
 "metadata": {
  "kernelspec": {
   "display_name": "Python 3",
   "language": "python",
   "name": "python3"
  },
  "language_info": {
   "codemirror_mode": {
    "name": "ipython",
    "version": 3
   },
   "file_extension": ".py",
   "mimetype": "text/x-python",
   "name": "python",
   "nbconvert_exporter": "python",
   "pygments_lexer": "ipython3",
   "version": "3.6.5"
  }
 },
 "nbformat": 4,
 "nbformat_minor": 2
}
