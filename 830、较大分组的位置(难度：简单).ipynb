{
 "cells": [
  {
   "cell_type": "markdown",
   "metadata": {},
   "source": [
    "# 较大分组的位置\n",
    "\n",
    "**题目来源：力扣（LeetCode）**\n",
    "\n",
    "**链接：https://leetcode-cn.com/problems/positions-of-large-groups/**\n",
    "\n",
    "## 一、题目\n",
    "\n",
    "在一个由小写字母构成的字符串 s 中，包含由一些连续的相同字符所构成的分组。\n",
    "\n",
    "例如，在字符串 s = \"abbxxxxzyy\" 中，就含有 \"a\", \"bb\", \"xxxx\", \"z\" 和 \"yy\" 这样的一些分组。\n",
    "\n",
    "分组可以用区间 [start, end] 表示，其中 start 和 end 分别表示该分组的起始和终止位置的下标。上例中的 \"xxxx\" 分组用区间表示为 [3,6] 。\n",
    "\n",
    "我们称所有包含大于或等于三个连续字符的分组为 较大分组 。\n",
    "\n",
    "找到每一个 较大分组 的区间，按起始位置下标递增顺序排序后，返回结果。\n",
    "\n",
    "## 二、示例\n",
    "\n",
    "### 示例 1：\n",
    "\n",
    "输入：s = \"abbxxxxzzy\"\n",
    "\n",
    "输出：[[3,6]]\n",
    "\n",
    "解释：\"xxxx\" 是一个起始于 3 且终止于 6 的较大分组。\n",
    "\n",
    "### 示例 2：\n",
    "\n",
    "输入：s = \"abc\"\n",
    "\n",
    "输出：[]\n",
    "\n",
    "解释：\"a\",\"b\" 和 \"c\" 均不是符合要求的较大分组。\n",
    "\n",
    "### 示例 3：\n",
    "\n",
    "输入：s = \"abcdddeeeeaabbbcd\"\n",
    "\n",
    "输出：[[3,5],[6,9],[12,14]]\n",
    "\n",
    "解释：较大分组为 \"ddd\", \"eeee\" 和 \"bbb\"\n",
    "\n",
    "### 示例 4：\n",
    "\n",
    "输入：s = \"aba\"\n",
    "\n",
    "输出：[]\n",
    "\n",
    "## 三、解题思路\n",
    "\n",
    "### 迭代模拟过程"
   ]
  },
  {
   "cell_type": "code",
   "execution_count": 1,
   "metadata": {},
   "outputs": [],
   "source": [
    "def largeGroupPositions(s: str):\n",
    "    ret = []\n",
    "    n = len(s)\n",
    "    lastCh = None\n",
    "    lastStart = -1\n",
    "    for i in range(n):\n",
    "        if s[i] != lastCh:\n",
    "            if i - lastStart >= 3:\n",
    "                ret.append([lastStart, i - 1])\n",
    "            lastCh = s[i]\n",
    "            lastStart = i\n",
    "        elif i == n -1 and i - lastStart >= 2:\n",
    "            ret.append([lastStart, i])\n",
    "    return ret"
   ]
  },
  {
   "cell_type": "code",
   "execution_count": 2,
   "metadata": {},
   "outputs": [
    {
     "data": {
      "text/plain": [
       "[[3, 6]]"
      ]
     },
     "execution_count": 2,
     "metadata": {},
     "output_type": "execute_result"
    }
   ],
   "source": [
    "largeGroupPositions(\"abbxxxxzzy\")"
   ]
  },
  {
   "cell_type": "code",
   "execution_count": 3,
   "metadata": {},
   "outputs": [
    {
     "data": {
      "text/plain": [
       "[]"
      ]
     },
     "execution_count": 3,
     "metadata": {},
     "output_type": "execute_result"
    }
   ],
   "source": [
    "largeGroupPositions(\"abc\")"
   ]
  },
  {
   "cell_type": "code",
   "execution_count": 4,
   "metadata": {},
   "outputs": [
    {
     "data": {
      "text/plain": [
       "[[3, 5], [6, 9], [12, 14]]"
      ]
     },
     "execution_count": 4,
     "metadata": {},
     "output_type": "execute_result"
    }
   ],
   "source": [
    "largeGroupPositions(\"abcdddeeeeaabbbcd\")"
   ]
  },
  {
   "cell_type": "code",
   "execution_count": 5,
   "metadata": {},
   "outputs": [
    {
     "data": {
      "text/plain": [
       "[]"
      ]
     },
     "execution_count": 5,
     "metadata": {},
     "output_type": "execute_result"
    }
   ],
   "source": [
    "largeGroupPositions(\"aba\")"
   ]
  },
  {
   "cell_type": "code",
   "execution_count": null,
   "metadata": {},
   "outputs": [],
   "source": []
  }
 ],
 "metadata": {
  "kernelspec": {
   "display_name": "Python 3",
   "language": "python",
   "name": "python3"
  },
  "language_info": {
   "codemirror_mode": {
    "name": "ipython",
    "version": 3
   },
   "file_extension": ".py",
   "mimetype": "text/x-python",
   "name": "python",
   "nbconvert_exporter": "python",
   "pygments_lexer": "ipython3",
   "version": "3.6.5"
  }
 },
 "nbformat": 4,
 "nbformat_minor": 2
}
