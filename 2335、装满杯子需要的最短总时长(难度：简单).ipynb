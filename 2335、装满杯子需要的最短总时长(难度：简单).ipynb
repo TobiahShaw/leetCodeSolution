{
 "cells": [
  {
   "cell_type": "markdown",
   "id": "e01b93e4",
   "metadata": {},
   "source": [
    "# 装满杯子需要的最短总时长\n",
    "\n",
    "**题目来源：力扣（LeetCode）**\n",
    "\n",
    "**链接：https://leetcode.cn/problems/minimum-amount-of-time-to-fill-cups/**\n",
    "\n",
    "## 一、题目\n",
    "\n",
    "现有一台饮水机，可以制备冷水、温水和热水。每秒钟，可以装满 2 杯 不同 类型的水或者 1 杯任意类型的水。\n",
    "\n",
    "给你一个下标从 0 开始、长度为 3 的整数数组 amount ，其中 amount[0]、amount[1] 和 amount[2] 分别表示需要装满冷水、温水和热水的杯子数量。返回装满所有杯子所需的 最少 秒数。\n",
    "\n",
    "### 提示：\n",
    "\n",
    "- amount.length == 3\n",
    "- 0 <= amount[i] <= 100\n",
    "\n",
    "## 二、示例\n",
    "\n",
    "### 示例 1：\n",
    "\n",
    "输入：amount = [1,4,2]\n",
    "\n",
    "输出：4\n",
    "\n",
    "解释：下面给出一种方案：\n",
    "\n",
    "- 第 1 秒：装满一杯冷水和一杯温水。\n",
    "- 第 2 秒：装满一杯温水和一杯热水。\n",
    "- 第 3 秒：装满一杯温水和一杯热水。\n",
    "- 第 4 秒：装满一杯温水。\n",
    "\n",
    "可以证明最少需要 4 秒才能装满所有杯子。\n",
    "\n",
    "### 示例 2：\n",
    "\n",
    "输入：amount = [5,4,4]\n",
    "\n",
    "输出：7\n",
    "\n",
    "解释：下面给出一种方案：\n",
    "\n",
    "- 第 1 秒：装满一杯冷水和一杯热水。\n",
    "- 第 2 秒：装满一杯冷水和一杯温水。\n",
    "- 第 3 秒：装满一杯冷水和一杯温水。\n",
    "- 第 4 秒：装满一杯温水和一杯热水。\n",
    "- 第 5 秒：装满一杯冷水和一杯热水。\n",
    "- 第 6 秒：装满一杯冷水和一杯温水。\n",
    "- 第 7 秒：装满一杯热水。\n",
    "\n",
    "## 示例 3：\n",
    "\n",
    "输入：amount = [5,0,0]\n",
    "\n",
    "输出：5\n",
    "\n",
    "解释：每秒装满一杯冷水。\n",
    "\n",
    "## 三、解题思路\n",
    "\n",
    "### 贪心"
   ]
  },
  {
   "cell_type": "code",
   "execution_count": 1,
   "id": "ffea2f76",
   "metadata": {},
   "outputs": [],
   "source": [
    "class Solution:\n",
    "    def fillCups(self, amount) -> int:\n",
    "        amount.sort()\n",
    "        if amount[2] > amount[1] + amount[0]:\n",
    "            return amount[2]\n",
    "        return (sum(amount) + 1) // 2"
   ]
  },
  {
   "cell_type": "code",
   "execution_count": 2,
   "id": "bd609515",
   "metadata": {},
   "outputs": [
    {
     "data": {
      "text/plain": [
       "4"
      ]
     },
     "execution_count": 2,
     "metadata": {},
     "output_type": "execute_result"
    }
   ],
   "source": [
    "s = Solution()\n",
    "s.fillCups([1, 4, 2])"
   ]
  },
  {
   "cell_type": "code",
   "execution_count": 3,
   "id": "0bc09fb2",
   "metadata": {},
   "outputs": [
    {
     "data": {
      "text/plain": [
       "7"
      ]
     },
     "execution_count": 3,
     "metadata": {},
     "output_type": "execute_result"
    }
   ],
   "source": [
    "s.fillCups([5, 5, 4])"
   ]
  },
  {
   "cell_type": "code",
   "execution_count": 4,
   "id": "28cbd455",
   "metadata": {},
   "outputs": [
    {
     "data": {
      "text/plain": [
       "5"
      ]
     },
     "execution_count": 4,
     "metadata": {},
     "output_type": "execute_result"
    }
   ],
   "source": [
    "s.fillCups([5, 0, 0])"
   ]
  },
  {
   "cell_type": "code",
   "execution_count": null,
   "id": "9a6ef7df",
   "metadata": {},
   "outputs": [],
   "source": []
  }
 ],
 "metadata": {
  "kernelspec": {
   "display_name": "Python 3 (ipykernel)",
   "language": "python",
   "name": "python3"
  },
  "language_info": {
   "codemirror_mode": {
    "name": "ipython",
    "version": 3
   },
   "file_extension": ".py",
   "mimetype": "text/x-python",
   "name": "python",
   "nbconvert_exporter": "python",
   "pygments_lexer": "ipython3",
   "version": "3.11.0"
  }
 },
 "nbformat": 4,
 "nbformat_minor": 5
}
