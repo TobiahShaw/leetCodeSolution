{
 "cells": [
  {
   "cell_type": "markdown",
   "metadata": {},
   "source": [
    "# 换酒问题\n",
    "\n",
    "**题目来源：力扣（LeetCode）**\n",
    "\n",
    "**链接：https://leetcode-cn.com/problems/water-bottles/**\n",
    "\n",
    "## 一、题目\n",
    "\n",
    "小区便利店正在促销，用 numExchange 个空酒瓶可以兑换一瓶新酒。你购入了 numBottles 瓶酒。\n",
    "\n",
    "如果喝掉了酒瓶中的酒，那么酒瓶就会变成空的。\n",
    "\n",
    "请你计算 最多 能喝到多少瓶酒。\n",
    "\n",
    "### 提示：\n",
    "\n",
    "- 1 <= numBottles <= 100\n",
    "- 2 <= numExchange <= 100\n",
    "\n",
    "## 二、示例\n",
    "\n",
    "### 示例 1：\n",
    "\n",
    "输入：numBottles = 9, numExchange = 3\n",
    "\n",
    "输出：13\n",
    "\n",
    "解释：你可以用 3 个空酒瓶兑换 1 瓶酒。所以最多能喝到 9 + 3 + 1 = 13 瓶酒。\n",
    "\n",
    "### 示例 2：\n",
    "\n",
    "输入：numBottles = 15, numExchange = 4\n",
    "\n",
    "输出：19\n",
    "\n",
    "解释：你可以用 4 个空酒瓶兑换 1 瓶酒。所以最多能喝到 15 + 3 + 1 = 19 瓶酒。\n",
    "\n",
    "### 示例 3：\n",
    "\n",
    "输入：numBottles = 5, numExchange = 5\n",
    "\n",
    "输出：6\n",
    "\n",
    "### 示例 4：\n",
    "\n",
    "输入：numBottles = 2, numExchange = 3\n",
    "\n",
    "输出：2\n",
    "\n",
    "## 三、解题思路\n",
    "\n",
    "### 模拟过程"
   ]
  },
  {
   "cell_type": "code",
   "execution_count": 1,
   "metadata": {},
   "outputs": [],
   "source": [
    "def numWaterBottles(numBottles: int, numExchange: int) -> int:\n",
    "    ret = numBottles\n",
    "    empty = numBottles\n",
    "    while empty >= numExchange:\n",
    "        newBottles = empty // numExchange\n",
    "        empty = empty % numExchange\n",
    "        ret += newBottles\n",
    "        empty += newBottles\n",
    "    return ret"
   ]
  },
  {
   "cell_type": "code",
   "execution_count": 2,
   "metadata": {},
   "outputs": [
    {
     "data": {
      "text/plain": [
       "13"
      ]
     },
     "execution_count": 2,
     "metadata": {},
     "output_type": "execute_result"
    }
   ],
   "source": [
    "numWaterBottles(9,3)"
   ]
  },
  {
   "cell_type": "code",
   "execution_count": 3,
   "metadata": {},
   "outputs": [
    {
     "data": {
      "text/plain": [
       "19"
      ]
     },
     "execution_count": 3,
     "metadata": {},
     "output_type": "execute_result"
    }
   ],
   "source": [
    "numWaterBottles(15,4)"
   ]
  },
  {
   "cell_type": "code",
   "execution_count": 4,
   "metadata": {},
   "outputs": [
    {
     "data": {
      "text/plain": [
       "6"
      ]
     },
     "execution_count": 4,
     "metadata": {},
     "output_type": "execute_result"
    }
   ],
   "source": [
    "numWaterBottles(5,5)"
   ]
  },
  {
   "cell_type": "code",
   "execution_count": 5,
   "metadata": {},
   "outputs": [
    {
     "data": {
      "text/plain": [
       "2"
      ]
     },
     "execution_count": 5,
     "metadata": {},
     "output_type": "execute_result"
    }
   ],
   "source": [
    "numWaterBottles(2,3)"
   ]
  },
  {
   "cell_type": "code",
   "execution_count": null,
   "metadata": {},
   "outputs": [],
   "source": []
  }
 ],
 "metadata": {
  "kernelspec": {
   "display_name": "Python 3",
   "language": "python",
   "name": "python3"
  },
  "language_info": {
   "codemirror_mode": {
    "name": "ipython",
    "version": 3
   },
   "file_extension": ".py",
   "mimetype": "text/x-python",
   "name": "python",
   "nbconvert_exporter": "python",
   "pygments_lexer": "ipython3",
   "version": "3.6.5"
  }
 },
 "nbformat": 4,
 "nbformat_minor": 2
}
