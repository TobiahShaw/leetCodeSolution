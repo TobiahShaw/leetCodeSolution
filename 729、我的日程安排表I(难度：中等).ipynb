{
 "cells": [
  {
   "cell_type": "markdown",
   "metadata": {},
   "source": [
    "# 我的日程安排表I\n",
    "\n",
    "**题目来源：力扣（LeetCode）**\n",
    "\n",
    "**链接：https://leetcode.cn/problems/my-calendar-i/**\n",
    "\n",
    "## 一、题目\n",
    "\n",
    "实现一个 MyCalendar 类来存放你的日程安排。如果要添加的日程安排不会造成 重复预订 ，则可以存储这个新的日程安排。\n",
    "\n",
    "当两个日程安排有一些时间上的交叉时（例如两个日程安排都在同一时间内），就会产生 重复预订 。\n",
    "\n",
    "日程可以用一对整数 start 和 end 表示，这里的时间是半开区间，即 [start, end), 实数 x 的范围为，  start <= x < end 。\n",
    "\n",
    "实现 MyCalendar 类：\n",
    "\n",
    "- MyCalendar() 初始化日历对象。\n",
    "- boolean book(int start, int end) 如果可以将日程安排成功添加到日历中而不会导致重复预订，返回 true 。否则，返回 false 并且不要将该日程安排添加到日历中。\n",
    "\n",
    "### 提示：\n",
    "\n",
    "- 0 <= start < end <= 10^9\n",
    "- 每个测试用例，调用 book 方法的次数最多不超过 1000 次。\n",
    "\n",
    "## 二、示例\n",
    "\n",
    "输入：\n",
    "\n",
    "[\"MyCalendar\", \"book\", \"book\", \"book\"]\n",
    "[[], [10, 20], [15, 25], [20, 30]]\n",
    "\n",
    "输出：\n",
    "\n",
    "[null, true, false, true]\n",
    "\n",
    "解释：\n",
    "\n",
    "```\n",
    "myCalendar = MyCalendar()\n",
    "myCalendar.book(10, 20) # return True\n",
    "myCalendar.book(15, 25) # return False ，这个日程安排不能添加到日历中，因为时间 15 已经被另一个日程安排预订了。\n",
    "myCalendar.book(20, 30) # return True ，这个日程安排可以添加到日历中，因为第一个日程安排预订的每个时间都小于 20 ，且不包含时间 20 。\n",
    "```\n",
    "\n",
    "## 三、解题思路\n",
    "\n",
    "### 直接遍历"
   ]
  },
  {
   "cell_type": "code",
   "execution_count": 1,
   "metadata": {},
   "outputs": [],
   "source": [
    "class MyCalendar:\n",
    "\n",
    "    def __init__(self):\n",
    "        self.booked = []\n",
    "\n",
    "    def book(self, start: int, end: int) -> bool:\n",
    "        if any(l < end and start < r for l, r in self.booked):\n",
    "            return False\n",
    "        self.booked.append((start, end))\n",
    "        return True"
   ]
  },
  {
   "cell_type": "code",
   "execution_count": 2,
   "metadata": {},
   "outputs": [
    {
     "name": "stdout",
     "output_type": "stream",
     "text": [
      "True\n",
      "False\n",
      "True\n"
     ]
    }
   ],
   "source": [
    "myCalendar = MyCalendar()\n",
    "print(myCalendar.book(10, 20)) # return True\n",
    "print(myCalendar.book(15, 25)) # return False ，这个日程安排不能添加到日历中，因为时间 15 已经被另一个日程安排预订了。\n",
    "print(myCalendar.book(20, 30)) # return True ，这个日程安排可以添加到日历中，因为第一个日程安排预订的每个时间都小于 20 ，且不包含时间 20 。"
   ]
  },
  {
   "cell_type": "code",
   "execution_count": null,
   "metadata": {},
   "outputs": [],
   "source": []
  }
 ],
 "metadata": {
  "kernelspec": {
   "display_name": "Python 3",
   "language": "python",
   "name": "python3"
  },
  "language_info": {
   "codemirror_mode": {
    "name": "ipython",
    "version": 3
   },
   "file_extension": ".py",
   "mimetype": "text/x-python",
   "name": "python",
   "nbconvert_exporter": "python",
   "pygments_lexer": "ipython3",
   "version": "3.6.5"
  }
 },
 "nbformat": 4,
 "nbformat_minor": 2
}
