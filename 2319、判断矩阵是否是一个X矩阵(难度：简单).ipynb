{
 "cells": [
  {
   "cell_type": "markdown",
   "id": "b52854ac",
   "metadata": {},
   "source": [
    "# 判断矩阵是否是一个X矩阵\n",
    "\n",
    "**题目来源：力扣（LeetCode）**\n",
    "\n",
    "**链接：https://leetcode.cn/problems/check-if-matrix-is-x-matrix/**\n",
    "\n",
    "## 一、题目\n",
    "\n",
    "如果一个正方形矩阵满足下述 全部 条件，则称之为一个 X 矩阵 ：\n",
    "\n",
    "- 矩阵对角线上的所有元素都 不是 0\n",
    "- 矩阵中所有其他元素都是 0\n",
    "\n",
    "给你一个大小为 n x n 的二维整数数组 grid ，表示一个正方形矩阵。如果 grid 是一个 X 矩阵 ，返回 true ；否则，返回 false 。\n",
    "\n",
    "### 提示：\n",
    "\n",
    "- n == grid.length == grid[i].length\n",
    "- 3 <= n <= 100\n",
    "- 0 <= grid[i][j] <= 10^5\n",
    "\n",
    "## 二、示例\n",
    "\n",
    "### 示例 1：\n",
    "\n",
    "输入：grid = [[2,0,0,1],[0,3,1,0],[0,5,2,0],[4,0,0,2]]\n",
    "\n",
    "输出：true\n",
    "\n",
    "### 示例 2：\n",
    "\n",
    "输入：grid = [[5,7,0],[0,3,1],[0,5,0]]\n",
    "\n",
    "输出：false\n",
    "\n",
    "## 三、解题思路\n",
    "\n",
    "### 模拟过程"
   ]
  },
  {
   "cell_type": "code",
   "execution_count": 1,
   "id": "70b21115",
   "metadata": {},
   "outputs": [],
   "source": [
    "class Solution:\n",
    "    def checkXMatrix(self, grid) -> bool:\n",
    "        n = len(grid)\n",
    "        for row in range(n):\n",
    "            for col in range(n):\n",
    "                x = grid[row][col]\n",
    "                if row == col or (row + col) == (n - 1):\n",
    "                    if x == 0:\n",
    "                        return False\n",
    "                else:\n",
    "                    if x != 0:\n",
    "                        return False\n",
    "        return True"
   ]
  },
  {
   "cell_type": "code",
   "execution_count": 2,
   "id": "0efafd30",
   "metadata": {},
   "outputs": [
    {
     "data": {
      "text/plain": [
       "True"
      ]
     },
     "execution_count": 2,
     "metadata": {},
     "output_type": "execute_result"
    }
   ],
   "source": [
    "s = Solution()\n",
    "s.checkXMatrix([[2,0,0,1],[0,3,1,0],[0,5,2,0],[4,0,0,2]])"
   ]
  },
  {
   "cell_type": "code",
   "execution_count": 3,
   "id": "77101bfc",
   "metadata": {},
   "outputs": [
    {
     "data": {
      "text/plain": [
       "False"
      ]
     },
     "execution_count": 3,
     "metadata": {},
     "output_type": "execute_result"
    }
   ],
   "source": [
    "s.checkXMatrix([[5,7,0],[0,3,1],[0,5,0]])"
   ]
  },
  {
   "cell_type": "code",
   "execution_count": null,
   "id": "461d3143",
   "metadata": {},
   "outputs": [],
   "source": []
  }
 ],
 "metadata": {
  "kernelspec": {
   "display_name": "Python 3 (ipykernel)",
   "language": "python",
   "name": "python3"
  },
  "language_info": {
   "codemirror_mode": {
    "name": "ipython",
    "version": 3
   },
   "file_extension": ".py",
   "mimetype": "text/x-python",
   "name": "python",
   "nbconvert_exporter": "python",
   "pygments_lexer": "ipython3",
   "version": "3.11.0"
  }
 },
 "nbformat": 4,
 "nbformat_minor": 5
}
