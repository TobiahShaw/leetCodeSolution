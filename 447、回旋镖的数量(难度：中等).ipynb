{
 "cells": [
  {
   "cell_type": "markdown",
   "metadata": {},
   "source": [
    "# 回旋镖的数量\n",
    "\n",
    "**题目来源：力扣（LeetCode）**\n",
    "\n",
    "**链接：https://leetcode-cn.com/problems/number-of-boomerangs/**\n",
    "\n",
    "## 一、题目\n",
    "\n",
    "给定平面上 n 对 互不相同 的点 points ，其中 points[i] = [xi, yi] 。回旋镖 是由点 (i, j, k) 表示的元组 ，其中 i 和 j 之间的距离和 i 和 k 之间的距离相等（需要考虑元组的顺序）。\n",
    "\n",
    "返回平面上所有回旋镖的数量。\n",
    "\n",
    "### 提示：\n",
    "\n",
    "- n == points.length\n",
    "- 1 <= n <= 500\n",
    "- points[i].length == 2\n",
    "- -10^4 <= xi, yi <= 10^4\n",
    "- 所有点都 互不相同\n",
    "\n",
    "## 二、示例\n",
    "\n",
    "### 示例 1：\n",
    "\n",
    "输入：points = [[0,0],[1,0],[2,0]]\n",
    "\n",
    "输出：2\n",
    "\n",
    "解释：两个回旋镖为 [[1,0],[0,0],[2,0]] 和 [[1,0],[2,0],[0,0]]\n",
    "\n",
    "### 示例 2：\n",
    "\n",
    "输入：points = [[1,1],[2,2],[3,3]]\n",
    "\n",
    "输出：2\n",
    "\n",
    "### 示例 3：\n",
    "\n",
    "输入：points = [[1,1]]\n",
    "\n",
    "输出：0\n",
    "\n",
    "## 三、解题思路\n",
    "\n",
    "### 排列组合"
   ]
  },
  {
   "cell_type": "code",
   "execution_count": 1,
   "metadata": {},
   "outputs": [],
   "source": [
    "def numberOfBoomerangs(points) -> int:\n",
    "    import math\n",
    "    def distance(x, y):\n",
    "        return round(math.sqrt((x[0] - y[0]) ** 2 + (x[1] - y[1]) ** 2), 10)\n",
    "    def permutation(m, n):\n",
    "        ret = 1\n",
    "        for i in range(m, 0, -1):\n",
    "            ret *= i\n",
    "        div = 1\n",
    "        for i in range(1, m-n+1):\n",
    "            div *= i\n",
    "        ret //= div\n",
    "        return ret\n",
    "    group = {}\n",
    "    n = len(points)\n",
    "    if n < 3:\n",
    "        return 0\n",
    "    for i in range(n):\n",
    "        item = {}\n",
    "        x = points[i]\n",
    "        for j in range(n):\n",
    "            if i == j:\n",
    "                continue\n",
    "            y = points[j]\n",
    "            dis = distance(x, y)\n",
    "            if dis in item:\n",
    "                item[dis] += 1\n",
    "            else:\n",
    "                item[dis] = 1\n",
    "        group[i] = item\n",
    "    ret = 0\n",
    "    for center in group:\n",
    "        for dis in group[center]:\n",
    "            if group[center][dis] < 2:\n",
    "                continue\n",
    "            count = permutation(group[center][dis], 2)\n",
    "            ret += count\n",
    "    return ret"
   ]
  },
  {
   "cell_type": "code",
   "execution_count": 2,
   "metadata": {},
   "outputs": [
    {
     "data": {
      "text/plain": [
       "2"
      ]
     },
     "execution_count": 2,
     "metadata": {},
     "output_type": "execute_result"
    }
   ],
   "source": [
    "numberOfBoomerangs([[0,0],[1,0],[2,0]])"
   ]
  },
  {
   "cell_type": "code",
   "execution_count": 3,
   "metadata": {},
   "outputs": [
    {
     "data": {
      "text/plain": [
       "2"
      ]
     },
     "execution_count": 3,
     "metadata": {},
     "output_type": "execute_result"
    }
   ],
   "source": [
    "numberOfBoomerangs([[1,1],[2,2],[3,3]])"
   ]
  },
  {
   "cell_type": "code",
   "execution_count": 4,
   "metadata": {},
   "outputs": [
    {
     "data": {
      "text/plain": [
       "0"
      ]
     },
     "execution_count": 4,
     "metadata": {},
     "output_type": "execute_result"
    }
   ],
   "source": [
    "numberOfBoomerangs([[1,1]])"
   ]
  },
  {
   "cell_type": "code",
   "execution_count": null,
   "metadata": {},
   "outputs": [],
   "source": []
  }
 ],
 "metadata": {
  "kernelspec": {
   "display_name": "Python 3",
   "language": "python",
   "name": "python3"
  },
  "language_info": {
   "codemirror_mode": {
    "name": "ipython",
    "version": 3
   },
   "file_extension": ".py",
   "mimetype": "text/x-python",
   "name": "python",
   "nbconvert_exporter": "python",
   "pygments_lexer": "ipython3",
   "version": "3.6.5"
  }
 },
 "nbformat": 4,
 "nbformat_minor": 2
}
