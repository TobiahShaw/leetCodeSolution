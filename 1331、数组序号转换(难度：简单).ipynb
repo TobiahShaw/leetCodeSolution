{
 "cells": [
  {
   "cell_type": "markdown",
   "metadata": {
    "collapsed": true
   },
   "source": [
    "# 数组序号转换\n",
    "\n",
    "**题目来源：力扣（LeetCode）**\n",
    "\n",
    "**链接：https://leetcode-cn.com/problems/3sum/**\n",
    "\n",
    "## 一、题目\n",
    "\n",
    "给你一个整数数组 arr ，请你将数组中的每个元素替换为它们排序后的序号。\n",
    "\n",
    "序号代表了一个元素有多大。序号编号的规则如下：\n",
    "\n",
    "- 序号从 1 开始编号。\n",
    "- 一个元素越大，那么序号越大。如果两个元素相等，那么它们的序号相同。\n",
    "- 每个数字的序号都应该尽可能地小。\n",
    "\n",
    "### 提示：\n",
    "\n",
    "- 0 <= arr.length <= 10^5\n",
    "- -10^9 <= arr[i] <= 10^9\n",
    "\n",
    "## 二、示例\n",
    "\n",
    "### 示例 1：\n",
    "\n",
    "输入：arr = [40,10,20,30]\n",
    "\n",
    "输出：[4,1,2,3]\n",
    "\n",
    "解释：40 是最大的元素。 10 是最小的元素。 20 是第二小的数字。 30 是第三小的数字。\n",
    "\n",
    "### 示例 2：\n",
    "\n",
    "输入：arr = [100,100,100]\n",
    "\n",
    "输出：[1,1,1]\n",
    "\n",
    "解释：所有元素有相同的序号。\n",
    "\n",
    "### 示例 3：\n",
    "\n",
    "输入：arr = [37,12,28,9,100,56,80,5,12]\n",
    "\n",
    "输出：[5,3,4,2,8,6,7,1,3]\n",
    "\n",
    "## 三、解题思路\n",
    "\n",
    "### 排序后后利用字典"
   ]
  },
  {
   "cell_type": "code",
   "execution_count": 1,
   "metadata": {},
   "outputs": [],
   "source": [
    "def arrayRankTransform(arr):\n",
    "    dic = {}\n",
    "    sorted_arr = sorted(list(set(arr)))\n",
    "    for index, value in enumerate(sorted_arr):\n",
    "        dic[value] = index + 1\n",
    "    return [dic[i] for i in arr]"
   ]
  },
  {
   "cell_type": "code",
   "execution_count": 2,
   "metadata": {},
   "outputs": [
    {
     "data": {
      "text/plain": [
       "[4, 1, 2, 3]"
      ]
     },
     "execution_count": 2,
     "metadata": {},
     "output_type": "execute_result"
    }
   ],
   "source": [
    "arrayRankTransform([40,10,20,30])"
   ]
  },
  {
   "cell_type": "code",
   "execution_count": 3,
   "metadata": {},
   "outputs": [
    {
     "data": {
      "text/plain": [
       "[1, 1, 1]"
      ]
     },
     "execution_count": 3,
     "metadata": {},
     "output_type": "execute_result"
    }
   ],
   "source": [
    "arrayRankTransform([100,100,100])"
   ]
  },
  {
   "cell_type": "code",
   "execution_count": 4,
   "metadata": {},
   "outputs": [
    {
     "data": {
      "text/plain": [
       "[5, 3, 4, 2, 8, 6, 7, 1, 3]"
      ]
     },
     "execution_count": 4,
     "metadata": {},
     "output_type": "execute_result"
    }
   ],
   "source": [
    "arrayRankTransform([37,12,28,9,100,56,80,5,12])"
   ]
  },
  {
   "cell_type": "code",
   "execution_count": null,
   "metadata": {},
   "outputs": [],
   "source": []
  }
 ],
 "metadata": {
  "kernelspec": {
   "display_name": "Python 3",
   "language": "python",
   "name": "python3"
  },
  "language_info": {
   "codemirror_mode": {
    "name": "ipython",
    "version": 3
   },
   "file_extension": ".py",
   "mimetype": "text/x-python",
   "name": "python",
   "nbconvert_exporter": "python",
   "pygments_lexer": "ipython3",
   "version": "3.6.5"
  }
 },
 "nbformat": 4,
 "nbformat_minor": 2
}
