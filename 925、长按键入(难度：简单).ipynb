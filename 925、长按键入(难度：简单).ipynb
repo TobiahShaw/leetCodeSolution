{
 "cells": [
  {
   "cell_type": "markdown",
   "metadata": {},
   "source": [
    "# 长按键入\n",
    "\n",
    "**题目来源：力扣（LeetCode）**\n",
    "\n",
    "**链接：https://leetcode-cn.com/problems/long-pressed-name/**\n",
    "\n",
    "## 一、题目\n",
    "\n",
    "你的朋友正在使用键盘输入他的名字 name。偶尔，在键入字符 c 时，按键可能会被长按，而字符可能被输入 1 次或多次。\n",
    "\n",
    "你将会检查键盘输入的字符 typed。如果它对应的可能是你的朋友的名字（其中一些字符可能被长按），那么就返回 True。\n",
    "\n",
    "## 二、示例\n",
    "\n",
    "### 示例 1：\n",
    "\n",
    "输入：name = \"alex\", typed = \"aaleex\"\n",
    "\n",
    "输出：true\n",
    "\n",
    "解释：'alex' 中的 'a' 和 'e' 被长按。\n",
    "\n",
    "### 示例 2：\n",
    "\n",
    "输入：name = \"saeed\", typed = \"ssaaedd\"\n",
    "\n",
    "输出：false\n",
    "\n",
    "解释：'e' 一定需要被键入两次，但在 typed 的输出中不是这样。\n",
    "\n",
    "### 示例 3：\n",
    "\n",
    "输入：name = \"leelee\", typed = \"lleeelee\"\n",
    "\n",
    "输出：true\n",
    "\n",
    "### 示例 4：\n",
    "\n",
    "输入：name = \"laiden\", typed = \"laiden\"\n",
    "\n",
    "输出：true\n",
    "\n",
    "解释：长按名字中的字符并不是必要的。\n",
    "\n",
    "## 三、解题思路\n",
    "\n",
    "### 双指针"
   ]
  },
  {
   "cell_type": "code",
   "execution_count": 1,
   "metadata": {},
   "outputs": [],
   "source": [
    "def isLongPressedName(name: str, typed: str) -> bool:\n",
    "    n, t = len(name), len(typed)\n",
    "    if t < n:\n",
    "        return False\n",
    "    index_name = 0\n",
    "    for i in range(t):\n",
    "        if index_name < n and name[index_name] == typed[i]:\n",
    "            index_name+=1\n",
    "        elif index_name != 0 and name[index_name - 1] == typed[i]:\n",
    "            continue\n",
    "        else:\n",
    "            return False\n",
    "    return index_name == n"
   ]
  },
  {
   "cell_type": "code",
   "execution_count": 2,
   "metadata": {},
   "outputs": [
    {
     "data": {
      "text/plain": [
       "True"
      ]
     },
     "execution_count": 2,
     "metadata": {},
     "output_type": "execute_result"
    }
   ],
   "source": [
    "isLongPressedName(name = \"alex\", typed = \"aaleex\")"
   ]
  },
  {
   "cell_type": "code",
   "execution_count": 3,
   "metadata": {},
   "outputs": [
    {
     "data": {
      "text/plain": [
       "False"
      ]
     },
     "execution_count": 3,
     "metadata": {},
     "output_type": "execute_result"
    }
   ],
   "source": [
    "isLongPressedName(name = \"saeed\", typed = \"ssaaedd\")"
   ]
  },
  {
   "cell_type": "code",
   "execution_count": 4,
   "metadata": {},
   "outputs": [
    {
     "data": {
      "text/plain": [
       "True"
      ]
     },
     "execution_count": 4,
     "metadata": {},
     "output_type": "execute_result"
    }
   ],
   "source": [
    "isLongPressedName(name = \"leelee\", typed = \"lleeelee\")"
   ]
  },
  {
   "cell_type": "code",
   "execution_count": 5,
   "metadata": {},
   "outputs": [
    {
     "data": {
      "text/plain": [
       "True"
      ]
     },
     "execution_count": 5,
     "metadata": {},
     "output_type": "execute_result"
    }
   ],
   "source": [
    "isLongPressedName(name = \"laiden\", typed = \"laiden\")"
   ]
  },
  {
   "cell_type": "code",
   "execution_count": null,
   "metadata": {},
   "outputs": [],
   "source": []
  }
 ],
 "metadata": {
  "kernelspec": {
   "display_name": "Python 3",
   "language": "python",
   "name": "python3"
  },
  "language_info": {
   "codemirror_mode": {
    "name": "ipython",
    "version": 3
   },
   "file_extension": ".py",
   "mimetype": "text/x-python",
   "name": "python",
   "nbconvert_exporter": "python",
   "pygments_lexer": "ipython3",
   "version": "3.6.5"
  }
 },
 "nbformat": 4,
 "nbformat_minor": 2
}
