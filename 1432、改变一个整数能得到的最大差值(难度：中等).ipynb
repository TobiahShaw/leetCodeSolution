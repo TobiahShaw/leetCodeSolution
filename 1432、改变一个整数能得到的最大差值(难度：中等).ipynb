{
  "cells": [
    {
      "metadata": {
        "collapsed": true
      },
      "cell_type": "markdown",
      "source": "# 改变一个整数能得到的最大差值\n\n**题目来源：力扣（LeetCode）**\n\n**链接：https://leetcode-cn.com/problems/max-difference-you-can-get-from-changing-an-integer/**\n\n## 一、题目\n\n给你一个整数 num 。你可以对它进行如下步骤恰好 两次 ：\n\n- 选择一个数字 x (0 <= x <= 9).\n- 选择另一个数字 y (0 <= y <= 9) 。数字 y 可以等于 x 。\n- 将 num 中所有出现 x 的数位都用 y 替换。\n- 得到的新的整数 不能 有前导 0 ，得到的新整数也 不能 是 0 。\n\n令两次对 num 的操作得到的结果分别为 a 和 b 。\n\n请你返回 a 和 b 的 最大差值 。\n\n## 二、示例\n\n### 示例 1：\n\n输入：num = 555\n\n输出：888\n\n解释：第一次选择 x = 5 且 y = 9 ，并把得到的新数字保存在 a 中。第二次选择 x = 5 且 y = 1 ，并把得到的新数字保存在 b 中。现在，我们有 a = 999 和 b = 111 ，最大差值为 888\n\n### 示例 2：\n\n输入：num = 9\n\n输出：8\n\n解释：第一次选择 x = 9 且 y = 9 ，并把得到的新数字保存在 a 中。第二次选择 x = 9 且 y = 1 ，并把得到的新数字保存在 b 中。现在，我们有 a = 9 和 b = 1 ，最大差值为 8\n\n### 示例 3：\n\n输入：num = 123456\n\n输出：820000\n\n### 示例 4：\n\n输入：num = 10000\n\n输出：80000\n\n### 示例 5：\n\n输入：num = 9288\n\n输出：8700\n\n## 三、解题思路\n\n### 模拟\n\n- 找到最高位不是9的那个数字 x1\n- 找到最高位在第一位不是1，在后续位不是0且不和第一位相等的数字 x2\n- y1为9，当替换第一位时y2是1，否则y2是0\n- 替换后求差"
    },
    {
      "metadata": {
        "trusted": true
      },
      "cell_type": "code",
      "source": "def maxDiff(num: int) -> int:\n    numStr = str(num)\n    x1, y1 = \"-1\", \"9\"\n    x2, y2 = \"-1\", \"9\"\n    for i in range(len(numStr)):\n        if x1 == \"-1\" and numStr[i] != \"9\":\n            x1 = numStr[i]\n        if x2 == \"-1\":\n            if i == 0 and numStr[i] != \"1\":\n                x2 = numStr[i]\n                y2 = \"1\"\n            if i != 0 and numStr[i] != \"0\" and numStr[i] != numStr[0]:\n                x2 = numStr[i]\n                y2 = \"0\"\n    return int(str(num).replace(x1, y1)) - int(str(num).replace(x2, y2))",
      "execution_count": 1,
      "outputs": []
    },
    {
      "metadata": {
        "trusted": true
      },
      "cell_type": "code",
      "source": "maxDiff(555)",
      "execution_count": 2,
      "outputs": [
        {
          "output_type": "execute_result",
          "execution_count": 2,
          "data": {
            "text/plain": "888"
          },
          "metadata": {}
        }
      ]
    },
    {
      "metadata": {
        "trusted": true
      },
      "cell_type": "code",
      "source": "maxDiff(9)",
      "execution_count": 3,
      "outputs": [
        {
          "output_type": "execute_result",
          "execution_count": 3,
          "data": {
            "text/plain": "8"
          },
          "metadata": {}
        }
      ]
    },
    {
      "metadata": {
        "trusted": true
      },
      "cell_type": "code",
      "source": "maxDiff(123456)",
      "execution_count": 4,
      "outputs": [
        {
          "output_type": "execute_result",
          "execution_count": 4,
          "data": {
            "text/plain": "820000"
          },
          "metadata": {}
        }
      ]
    },
    {
      "metadata": {
        "trusted": true
      },
      "cell_type": "code",
      "source": "maxDiff(10000)",
      "execution_count": 5,
      "outputs": [
        {
          "output_type": "execute_result",
          "execution_count": 5,
          "data": {
            "text/plain": "80000"
          },
          "metadata": {}
        }
      ]
    },
    {
      "metadata": {
        "trusted": true
      },
      "cell_type": "code",
      "source": "maxDiff(9288)",
      "execution_count": 6,
      "outputs": [
        {
          "output_type": "execute_result",
          "execution_count": 6,
          "data": {
            "text/plain": "8700"
          },
          "metadata": {}
        }
      ]
    },
    {
      "metadata": {
        "trusted": true
      },
      "cell_type": "code",
      "source": "maxDiff(111)",
      "execution_count": 7,
      "outputs": [
        {
          "output_type": "execute_result",
          "execution_count": 7,
          "data": {
            "text/plain": "888"
          },
          "metadata": {}
        }
      ]
    },
    {
      "metadata": {
        "trusted": true
      },
      "cell_type": "code",
      "source": "",
      "execution_count": null,
      "outputs": []
    }
  ],
  "metadata": {
    "kernelspec": {
      "name": "python36",
      "display_name": "Python 3.6",
      "language": "python"
    },
    "language_info": {
      "mimetype": "text/x-python",
      "nbconvert_exporter": "python",
      "name": "python",
      "pygments_lexer": "ipython3",
      "version": "3.6.6",
      "file_extension": ".py",
      "codemirror_mode": {
        "version": 3,
        "name": "ipython"
      }
    }
  },
  "nbformat": 4,
  "nbformat_minor": 2
}