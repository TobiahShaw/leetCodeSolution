{
 "cells": [
  {
   "cell_type": "markdown",
   "metadata": {},
   "source": [
    "# 交替合并字符串\n",
    "\n",
    "**题目来源：力扣（LeetCode）**\n",
    "\n",
    "**链接：https://leetcode.cn/problems/merge-strings-alternately/**\n",
    "\n",
    "## 一、题目\n",
    "\n",
    "给你两个字符串 word1 和 word2 。请你从 word1 开始，通过交替添加字母来合并字符串。如果一个字符串比另一个字符串长，就将多出来的字母追加到合并后字符串的末尾。\n",
    "\n",
    "返回 合并后的字符串 。\n",
    "\n",
    "### 提示：\n",
    "\n",
    "- 1 <= word1.length, word2.length <= 100\n",
    "- word1 和 word2 由小写英文字母组成\n",
    "\n",
    "## 二、示例\n",
    "\n",
    "### 示例 1：\n",
    "\n",
    "输入：word1 = \"abc\", word2 = \"pqr\"\n",
    "\n",
    "输出：\"apbqcr\"\n",
    "\n",
    "解释：字符串合并情况如下所示：\n",
    "\n",
    "```\n",
    "word1：  a   b   c\n",
    "word2：    p   q   r\n",
    "合并后：  a p b q c r\n",
    "```\n",
    "\n",
    "### 示例 2：\n",
    "\n",
    "输入：word1 = \"ab\", word2 = \"pqrs\"\n",
    "\n",
    "输出：\"apbqrs\"\n",
    "\n",
    "解释：注意，word2 比 word1 长，\"rs\" 需要追加到合并后字符串的末尾。\n",
    "\n",
    "```\n",
    "word1：  a   b \n",
    "word2：    p   q   r   s\n",
    "合并后：  a p b q   r   s\n",
    "```\n",
    "\n",
    "### 示例 3：\n",
    "\n",
    "输入：word1 = \"abcd\", word2 = \"pq\"\n",
    "\n",
    "输出：\"apbqcd\"\n",
    "\n",
    "解释：注意，word1 比 word2 长，\"cd\" 需要追加到合并后字符串的末尾。\n",
    "\n",
    "```\n",
    "word1：  a   b   c   d\n",
    "word2：    p   q \n",
    "合并后：  a p b q c   d\n",
    "```\n",
    "\n",
    "## 三、解题思路\n",
    "\n",
    "### 模拟过程"
   ]
  },
  {
   "cell_type": "code",
   "execution_count": 1,
   "metadata": {},
   "outputs": [],
   "source": [
    "class Solution:\n",
    "    def mergeAlternately(self, word1: str, word2: str) -> str:\n",
    "        i, j = 0, 0\n",
    "        m, n = len(word1), len(word2)\n",
    "        ret = []\n",
    "        while i < m or j < n:\n",
    "            if i <= j:\n",
    "                ret.append(word1[i] if i < m else \"\")\n",
    "                i += 1\n",
    "            else:\n",
    "                ret.append(word2[j] if j < n else \"\")\n",
    "                j += 1\n",
    "        return \"\".join(ret)"
   ]
  },
  {
   "cell_type": "code",
   "execution_count": 2,
   "metadata": {},
   "outputs": [
    {
     "data": {
      "text/plain": [
       "'apbqcr'"
      ]
     },
     "execution_count": 2,
     "metadata": {},
     "output_type": "execute_result"
    }
   ],
   "source": [
    "s = Solution()\n",
    "s.mergeAlternately(word1 = \"abc\", word2 = \"pqr\")"
   ]
  },
  {
   "cell_type": "code",
   "execution_count": 3,
   "metadata": {},
   "outputs": [
    {
     "data": {
      "text/plain": [
       "'apbqrs'"
      ]
     },
     "execution_count": 3,
     "metadata": {},
     "output_type": "execute_result"
    }
   ],
   "source": [
    "s.mergeAlternately(word1 = \"ab\", word2 = \"pqrs\")"
   ]
  },
  {
   "cell_type": "code",
   "execution_count": 4,
   "metadata": {},
   "outputs": [
    {
     "data": {
      "text/plain": [
       "'apbqcd'"
      ]
     },
     "execution_count": 4,
     "metadata": {},
     "output_type": "execute_result"
    }
   ],
   "source": [
    "s.mergeAlternately(word1 = \"abcd\", word2 = \"pq\")"
   ]
  },
  {
   "cell_type": "code",
   "execution_count": null,
   "metadata": {},
   "outputs": [],
   "source": []
  }
 ],
 "metadata": {
  "kernelspec": {
   "display_name": "Python 3.10.4 64-bit",
   "language": "python",
   "name": "python3"
  },
  "language_info": {
   "codemirror_mode": {
    "name": "ipython",
    "version": 3
   },
   "file_extension": ".py",
   "mimetype": "text/x-python",
   "name": "python",
   "nbconvert_exporter": "python",
   "pygments_lexer": "ipython3",
   "version": "3.10.4"
  },
  "orig_nbformat": 4,
  "vscode": {
   "interpreter": {
    "hash": "4f946df053fbf2b937619d3c5458e7af74262f9a954d8797ba0b27400bcafe06"
   }
  }
 },
 "nbformat": 4,
 "nbformat_minor": 2
}
