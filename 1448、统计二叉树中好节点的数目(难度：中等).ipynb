{
 "cells": [
  {
   "cell_type": "markdown",
   "metadata": {},
   "source": [
    "# 统计二叉树中好节点的数目\n",
    "\n",
    "**题目来源：力扣（LeetCode）**\n",
    "\n",
    "**链接：https://leetcode-cn.com/problems/count-good-nodes-in-binary-tree/**\n",
    "\n",
    "## 一、题目\n",
    "\n",
    "给你一棵根为 root 的二叉树，请你返回二叉树中好节点的数目。\n",
    "\n",
    "「好节点」X 定义为：从根到该节点 X 所经过的节点中，没有任何节点的值大于 X 的值。\n",
    "\n",
    "## 二、示例\n",
    "\n",
    "### 示例 1：\n",
    "\n",
    "输入：root = [3,1,4,3,null,1,5]\n",
    "\n",
    "输出：4\n",
    "\n",
    "解释：\n",
    "\n",
    "- 根节点 (3) 永远是个好节点。\n",
    "- 节点 4 -> (3,4) 是路径中的最大值。\n",
    "- 节点 5 -> (3,4,5) 是路径中的最大值。\n",
    "- 节点 3 -> (3,1,3) 是路径中的最大值。\n",
    "\n",
    "### 示例 2：\n",
    "\n",
    "输入：root = [3,3,null,4,2]\n",
    "\n",
    "输出：3\n",
    "\n",
    "解释：节点 2 -> (3, 3, 2) 不是好节点，因为 \"3\" 比它大。\n",
    "\n",
    "### 示例 3：\n",
    "\n",
    "输入：root = [1]\n",
    "\n",
    "输出：1\n",
    "\n",
    "解释：根节点是好节点。\n",
    "\n",
    "## 三、解题思路\n",
    "\n",
    "### 递归"
   ]
  },
  {
   "cell_type": "code",
   "execution_count": 1,
   "metadata": {},
   "outputs": [],
   "source": [
    "class TreeNode:\n",
    "    def __init__(self, val=0, left=None, right=None):\n",
    "        self.val = val\n",
    "        self.left = left\n",
    "        self.right = right"
   ]
  },
  {
   "cell_type": "code",
   "execution_count": 2,
   "metadata": {},
   "outputs": [],
   "source": [
    "def goodNodes(root: TreeNode) -> int:\n",
    "    def dfs(node, max_val):\n",
    "        if not node:\n",
    "            return 0\n",
    "        isGood = 0\n",
    "        next_max_val = max_val\n",
    "        if max_val <= node.val:\n",
    "            next_max_val = node.val\n",
    "            isGood = 1\n",
    "        return isGood + dfs(node.left, next_max_val) + dfs(node.right, next_max_val)\n",
    "    return dfs(root, float('-inf'))"
   ]
  },
  {
   "cell_type": "code",
   "execution_count": null,
   "metadata": {},
   "outputs": [],
   "source": []
  }
 ],
 "metadata": {
  "kernelspec": {
   "display_name": "Python 3",
   "language": "python",
   "name": "python3"
  },
  "language_info": {
   "codemirror_mode": {
    "name": "ipython",
    "version": 3
   },
   "file_extension": ".py",
   "mimetype": "text/x-python",
   "name": "python",
   "nbconvert_exporter": "python",
   "pygments_lexer": "ipython3",
   "version": "3.6.5"
  }
 },
 "nbformat": 4,
 "nbformat_minor": 2
}
