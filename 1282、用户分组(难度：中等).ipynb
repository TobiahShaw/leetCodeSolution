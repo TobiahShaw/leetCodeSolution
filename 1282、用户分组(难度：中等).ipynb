{
 "cells": [
  {
   "cell_type": "markdown",
   "metadata": {},
   "source": [
    "# 用户分组\n",
    "\n",
    "**题目来源：力扣（LeetCode）**\n",
    "\n",
    "**链接：https://leetcode-cn.com/problems/group-the-people-given-the-group-size-they-belong-to/**\n",
    "\n",
    "## 一、题目\n",
    "\n",
    "有 n 位用户参加活动，他们的 ID 从 0 到 n - 1，每位用户都 恰好 属于某一用户组。给你一个长度为 n 的数组 groupSizes，其中包含每位用户所处的用户组的大小，请你返回用户分组情况（存在的用户组以及每个组中用户的 ID）。\n",
    "\n",
    "你可以任何顺序返回解决方案，ID 的顺序也不受限制。此外，题目给出的数据保证至少存在一种解决方案。\n",
    "\n",
    "## 二、示例\n",
    "\n",
    "### 示例 1：\n",
    "\n",
    "输入：groupSizes = [3,3,3,3,3,1,3]\n",
    "\n",
    "输出：[[5],[0,1,2],[3,4,6]]\n",
    "\n",
    "解释： \n",
    "\n",
    "其他可能的解决方案有 [[2,1,6],[5],[0,4,3]] 和 [[5],[0,6,2],[4,3,1]]。\n",
    "\n",
    "### 示例 2：\n",
    "\n",
    "输入：groupSizes = [2,1,3,3,3,2]\n",
    "\n",
    "输出：[[1],[0,5],[2,3,4]]\n",
    "\n",
    "## 三、解题思路\n",
    "\n",
    "### 模拟过程"
   ]
  },
  {
   "cell_type": "code",
   "execution_count": 1,
   "metadata": {},
   "outputs": [],
   "source": [
    "def groupThePeople(groupSizes):\n",
    "    group = []\n",
    "    for i in range(len(groupSizes)):\n",
    "        has_put = False\n",
    "        if not group:\n",
    "            group.append((groupSizes[i], [i,]))\n",
    "            has_put = True\n",
    "            continue\n",
    "        for (size, mem) in group:\n",
    "            if size == groupSizes[i] and len(mem) < size:\n",
    "                mem.append(i)\n",
    "                has_put = True\n",
    "                break\n",
    "        if not has_put:\n",
    "            group.append((groupSizes[i], [i]))\n",
    "    return [mem for (size, mem) in group]"
   ]
  },
  {
   "cell_type": "code",
   "execution_count": 2,
   "metadata": {},
   "outputs": [
    {
     "data": {
      "text/plain": [
       "[[0, 1, 2], [3, 4, 6], [5]]"
      ]
     },
     "execution_count": 2,
     "metadata": {},
     "output_type": "execute_result"
    }
   ],
   "source": [
    "groupThePeople([3,3,3,3,3,1,3])"
   ]
  },
  {
   "cell_type": "code",
   "execution_count": 3,
   "metadata": {},
   "outputs": [
    {
     "data": {
      "text/plain": [
       "[[0, 5], [1], [2, 3, 4]]"
      ]
     },
     "execution_count": 3,
     "metadata": {},
     "output_type": "execute_result"
    }
   ],
   "source": [
    "groupThePeople([2,1,3,3,3,2])"
   ]
  },
  {
   "cell_type": "code",
   "execution_count": null,
   "metadata": {},
   "outputs": [],
   "source": []
  }
 ],
 "metadata": {
  "kernelspec": {
   "display_name": "Python 3",
   "language": "python",
   "name": "python3"
  },
  "language_info": {
   "codemirror_mode": {
    "name": "ipython",
    "version": 3
   },
   "file_extension": ".py",
   "mimetype": "text/x-python",
   "name": "python",
   "nbconvert_exporter": "python",
   "pygments_lexer": "ipython3",
   "version": "3.6.5"
  }
 },
 "nbformat": 4,
 "nbformat_minor": 2
}
