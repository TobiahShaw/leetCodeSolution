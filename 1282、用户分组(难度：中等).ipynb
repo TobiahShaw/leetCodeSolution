{
 "cells": [
  {
   "cell_type": "markdown",
   "metadata": {},
   "source": [
    "# 用户分组\n",
    "\n",
    "**题目来源：力扣（LeetCode）**\n",
    "\n",
    "**链接：https://leetcode-cn.com/problems/group-the-people-given-the-group-size-they-belong-to/**\n",
    "\n",
    "## 一、题目\n",
    "\n",
    "有 n 个人被分成数量未知的组。每个人都被标记为一个从 0 到 n - 1 的唯一ID 。\n",
    "\n",
    "给定一个整数数组 groupSizes ，其中 groupSizes[i] 是第 i 个人所在的组的大小。例如，如果 groupSizes[1] = 3 ，则第 1 个人必须位于大小为 3 的组中。\n",
    "\n",
    "返回一个组列表，使每个人 i 都在一个大小为 groupSizes[i] 的组中。\n",
    "\n",
    "每个人应该 恰好只 出现在 一个组 中，并且每个人必须在一个组中。如果有多个答案，返回其中 任何 一个。可以 保证 给定输入 至少有一个 有效的解。\n",
    "\n",
    "### 提示：\n",
    "\n",
    "- groupSizes.length == n\n",
    "- 1 <= n <= 500\n",
    "- 1 <= groupSizes[i] <= n\n",
    "\n",
    "## 二、示例\n",
    "\n",
    "### 示例 1：\n",
    "\n",
    "输入：groupSizes = [3,3,3,3,3,1,3]\n",
    "\n",
    "输出：[[5],[0,1,2],[3,4,6]]\n",
    "\n",
    "解释： \n",
    "\n",
    "其他可能的解决方案有 [[2,1,6],[5],[0,4,3]] 和 [[5],[0,6,2],[4,3,1]]。\n",
    "\n",
    "### 示例 2：\n",
    "\n",
    "输入：groupSizes = [2,1,3,3,3,2]\n",
    "\n",
    "输出：[[1],[0,5],[2,3,4]]\n",
    "\n",
    "## 三、解题思路\n",
    "\n",
    "### 模拟过程"
   ]
  },
  {
   "cell_type": "code",
   "execution_count": 1,
   "metadata": {},
   "outputs": [],
   "source": [
    "def groupThePeople(groupSizes):\n",
    "    group = []\n",
    "    for i in range(len(groupSizes)):\n",
    "        has_put = False\n",
    "        if not group:\n",
    "            group.append((groupSizes[i], [i,]))\n",
    "            has_put = True\n",
    "            continue\n",
    "        for (size, mem) in group:\n",
    "            if size == groupSizes[i] and len(mem) < size:\n",
    "                mem.append(i)\n",
    "                has_put = True\n",
    "                break\n",
    "        if not has_put:\n",
    "            group.append((groupSizes[i], [i]))\n",
    "    return [mem for (size, mem) in group]"
   ]
  },
  {
   "cell_type": "code",
   "execution_count": 2,
   "metadata": {},
   "outputs": [
    {
     "data": {
      "text/plain": [
       "[[0, 1, 2], [3, 4, 6], [5]]"
      ]
     },
     "execution_count": 2,
     "metadata": {},
     "output_type": "execute_result"
    }
   ],
   "source": [
    "groupThePeople([3,3,3,3,3,1,3])"
   ]
  },
  {
   "cell_type": "code",
   "execution_count": 3,
   "metadata": {},
   "outputs": [
    {
     "data": {
      "text/plain": [
       "[[0, 5], [1], [2, 3, 4]]"
      ]
     },
     "execution_count": 3,
     "metadata": {},
     "output_type": "execute_result"
    }
   ],
   "source": [
    "groupThePeople([2,1,3,3,3,2])"
   ]
  },
  {
   "cell_type": "code",
   "execution_count": null,
   "metadata": {},
   "outputs": [],
   "source": []
  }
 ],
 "metadata": {
  "kernelspec": {
   "display_name": "Python 3",
   "language": "python",
   "name": "python3"
  },
  "language_info": {
   "codemirror_mode": {
    "name": "ipython",
    "version": 3
   },
   "file_extension": ".py",
   "mimetype": "text/x-python",
   "name": "python",
   "nbconvert_exporter": "python",
   "pygments_lexer": "ipython3",
   "version": "3.6.5"
  }
 },
 "nbformat": 4,
 "nbformat_minor": 2
}
