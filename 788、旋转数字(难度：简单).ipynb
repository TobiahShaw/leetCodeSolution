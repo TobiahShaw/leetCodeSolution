{
  "cells": [
    {
      "cell_type": "markdown",
      "metadata": {
        "collapsed": true
      },
      "source": [
        "# 旋转数字\n",
        "\n",
        "**题目来源：力扣（LeetCode）**\n",
        "\n",
        "**链接：https://leetcode-cn.com/problems/rotated-digits/**\n",
        "\n",
        "## 一、题目\n",
        "\n",
        "我们称一个数 X 为好数, 如果它的每位数字逐个地被旋转 180 度后，我们仍可以得到一个有效的，且和 X 不同的数。要求每位数字都要被旋转。\n",
        "\n",
        "如果一个数的每位数字被旋转以后仍然还是一个数字， 则这个数是有效的。0, 1, 和 8 被旋转后仍然是它们自己；2 和 5 可以互相旋转成对方（在这种情况下，它们以不同的方向旋转，换句话说，2 和 5 互为镜像）；6 和 9 同理，除了这些以外其他的数字旋转以后都不再是有效的数字。\n",
        "\n",
        "现在我们有一个正整数 N, 计算从 1 到 N 中有多少个数 X 是好数？\n",
        "\n",
        "### 提示：\n",
        "\n",
        "- N 的取值范围是 [1, 10000]。\n",
        "\n",
        "## 二、示例\n",
        "\n",
        "输入: 10\n",
        "\n",
        "输出: 4\n",
        "\n",
        "解释: \n",
        "\n",
        "在[1, 10]中有四个好数： 2, 5, 6, 9。注意 1 和 10 不是好数, 因为他们在旋转之后不变。\n",
        "\n",
        "## 三、解题思路\n",
        "\n",
        "### 暴力法\n",
        "\n",
        "- 含3、4、7的数字不能旋转不是好数\n",
        "- 不含2、5、6、9的数字旋转后不变，不是好数"
      ]
    },
    {
      "cell_type": "code",
      "execution_count": 1,
      "metadata": {
        "trusted": true
      },
      "outputs": [],
      "source": [
        "class Solution:\n",
        "    def rotatedDigits(self, n: int) -> int:\n",
        "        ret = 0\n",
        "        for x in range(1, n+1):\n",
        "            s = str(x)\n",
        "            ret += (all(d not in '347' for d in s)\n",
        "                    and any(d in '2569' for d in s))\n",
        "        return ret"
      ]
    },
    {
      "cell_type": "code",
      "execution_count": 2,
      "metadata": {
        "trusted": true
      },
      "outputs": [
        {
          "data": {
            "text/plain": [
              "4"
            ]
          },
          "execution_count": 2,
          "metadata": {},
          "output_type": "execute_result"
        }
      ],
      "source": [
        "s = Solution()\n",
        "s.rotatedDigits(10)"
      ]
    },
    {
      "cell_type": "code",
      "execution_count": null,
      "metadata": {
        "trusted": true
      },
      "outputs": [],
      "source": []
    }
  ],
  "metadata": {
    "kernelspec": {
      "display_name": "Python 3.10.4 64-bit",
      "language": "python",
      "name": "python3"
    },
    "language_info": {
      "codemirror_mode": {
        "name": "ipython",
        "version": 3
      },
      "file_extension": ".py",
      "mimetype": "text/x-python",
      "name": "python",
      "nbconvert_exporter": "python",
      "pygments_lexer": "ipython3",
      "version": "3.10.4"
    },
    "vscode": {
      "interpreter": {
        "hash": "4f946df053fbf2b937619d3c5458e7af74262f9a954d8797ba0b27400bcafe06"
      }
    }
  },
  "nbformat": 4,
  "nbformat_minor": 2
}
