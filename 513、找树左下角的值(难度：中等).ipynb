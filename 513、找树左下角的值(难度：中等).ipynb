{
 "cells": [
  {
   "cell_type": "markdown",
   "metadata": {},
   "source": [
    "# 找树左下角的值\n",
    "\n",
    "**题目来源：力扣（LeetCode）**\n",
    "\n",
    "**链接：https://leetcode.cn/problems/find-bottom-left-tree-value/**\n",
    "\n",
    "## 一、题目\n",
    "\n",
    "给定一个二叉树的 根节点 root，请找出该二叉树的 最底层 最左边 节点的值。\n",
    "\n",
    "假设二叉树中至少有一个节点。\n",
    "\n",
    "### 提示：\n",
    "\n",
    "- 二叉树的节点个数的范围是 [1,10^4]\n",
    "- -2^31 <= Node.val <= 2^31 - 1 \n",
    "\n",
    "## 二、示例\n",
    "\n",
    "### 示例 1：\n",
    "\n",
    "输入: root = [2,1,3]\n",
    "\n",
    "输出: 1\n",
    "\n",
    "### 示例 2：\n",
    "\n",
    "输入: [1,2,3,4,null,5,6,null,null,7]\n",
    "\n",
    "输出: 7\n",
    "\n",
    "## 三、解题思路\n",
    "\n",
    "### 层序遍历"
   ]
  },
  {
   "cell_type": "code",
   "execution_count": 1,
   "metadata": {},
   "outputs": [],
   "source": [
    "def findBottomLeftValue(root) -> int:\n",
    "    if not root:\n",
    "        return root\n",
    "    layer = [root]\n",
    "    ret = root\n",
    "    while layer:\n",
    "        next_layer = []\n",
    "        for node in layer:\n",
    "            if node.left:\n",
    "                next_layer.append(node.left)\n",
    "            if node.right:\n",
    "                next_layer.append(node.right)\n",
    "        ret = layer[0]\n",
    "        layer = next_layer\n",
    "    return ret.val"
   ]
  },
  {
   "cell_type": "code",
   "execution_count": 2,
   "metadata": {},
   "outputs": [],
   "source": [
    "class TreeNode:\n",
    "    def __init__(self, val=0, left=None, right=None):\n",
    "        self.val = val\n",
    "        self.left = left\n",
    "        self.right = right"
   ]
  },
  {
   "cell_type": "code",
   "execution_count": 3,
   "metadata": {},
   "outputs": [],
   "source": [
    "root = TreeNode(2, left=TreeNode(1), right=TreeNode(3))"
   ]
  },
  {
   "cell_type": "code",
   "execution_count": 4,
   "metadata": {},
   "outputs": [
    {
     "data": {
      "text/plain": [
       "1"
      ]
     },
     "execution_count": 4,
     "metadata": {},
     "output_type": "execute_result"
    }
   ],
   "source": [
    "findBottomLeftValue(root)"
   ]
  },
  {
   "cell_type": "code",
   "execution_count": null,
   "metadata": {},
   "outputs": [],
   "source": []
  }
 ],
 "metadata": {
  "kernelspec": {
   "display_name": "Python 3",
   "language": "python",
   "name": "python3"
  },
  "language_info": {
   "codemirror_mode": {
    "name": "ipython",
    "version": 3
   },
   "file_extension": ".py",
   "mimetype": "text/x-python",
   "name": "python",
   "nbconvert_exporter": "python",
   "pygments_lexer": "ipython3",
   "version": "3.6.5"
  }
 },
 "nbformat": 4,
 "nbformat_minor": 2
}
