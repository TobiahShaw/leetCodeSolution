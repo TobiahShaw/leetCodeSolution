{
 "cells": [
  {
   "cell_type": "markdown",
   "metadata": {},
   "source": [
    "# 最接近原点的K个点\n",
    "\n",
    "**题目来源：力扣（LeetCode）**\n",
    "\n",
    "**链接：https://leetcode-cn.com/problems/find-common-characters/**\n",
    "\n",
    "## 一、题目\n",
    "\n",
    "我们有一个由平面上的点组成的列表 points。需要从中找出 K 个距离原点 (0, 0) 最近的点。\n",
    "\n",
    "（这里，平面上两点之间的距离是欧几里德距离。）\n",
    "\n",
    "你可以按任何顺序返回答案。除了点坐标的顺序之外，答案确保是唯一的。\n",
    "\n",
    "## 二、示例\n",
    "\n",
    "### 示例 1：\n",
    "\n",
    "输入：points = [[1,3],[-2,2]], K = 1\n",
    "\n",
    "输出：[[-2,2]]\n",
    "\n",
    "解释： \n",
    "\n",
    "(1, 3) 和原点之间的距离为 sqrt(10)，\n",
    "\n",
    "(-2, 2) 和原点之间的距离为 sqrt(8)，\n",
    "\n",
    "由于 sqrt(8) < sqrt(10)，(-2, 2) 离原点更近。\n",
    "\n",
    "我们只需要距离原点最近的 K = 1 个点，所以答案就是 [[-2,2]]。\n",
    "\n",
    "### 示例 2：\n",
    "\n",
    "输入：points = [[3,3],[5,-1],[-2,4]], K = 2\n",
    "\n",
    "输出：[[3,3],[-2,4]]\n",
    "\n",
    "（答案 [[-2,4],[3,3]] 也会被接受。）\n",
    "\n",
    "## 三、解题思路\n",
    "\n",
    "### 利用内置排序函数和排序规则"
   ]
  },
  {
   "cell_type": "code",
   "execution_count": 1,
   "metadata": {},
   "outputs": [],
   "source": [
    "def kClosest(points, K):\n",
    "    return sorted(points, key=lambda key: key[0]**2 + key[1]**2)[:K]"
   ]
  },
  {
   "cell_type": "code",
   "execution_count": 2,
   "metadata": {},
   "outputs": [
    {
     "data": {
      "text/plain": [
       "[[-2, 2]]"
      ]
     },
     "execution_count": 2,
     "metadata": {},
     "output_type": "execute_result"
    }
   ],
   "source": [
    "kClosest(points = [[1,3],[-2,2]], K = 1)"
   ]
  },
  {
   "cell_type": "code",
   "execution_count": 3,
   "metadata": {},
   "outputs": [
    {
     "data": {
      "text/plain": [
       "[[3, 3], [-2, 4]]"
      ]
     },
     "execution_count": 3,
     "metadata": {},
     "output_type": "execute_result"
    }
   ],
   "source": [
    "kClosest(points = [[3,3],[5,-1],[-2,4]], K = 2)"
   ]
  },
  {
   "cell_type": "code",
   "execution_count": null,
   "metadata": {},
   "outputs": [],
   "source": []
  }
 ],
 "metadata": {
  "kernelspec": {
   "display_name": "Python 3",
   "language": "python",
   "name": "python3"
  },
  "language_info": {
   "codemirror_mode": {
    "name": "ipython",
    "version": 3
   },
   "file_extension": ".py",
   "mimetype": "text/x-python",
   "name": "python",
   "nbconvert_exporter": "python",
   "pygments_lexer": "ipython3",
   "version": "3.6.5"
  }
 },
 "nbformat": 4,
 "nbformat_minor": 2
}
