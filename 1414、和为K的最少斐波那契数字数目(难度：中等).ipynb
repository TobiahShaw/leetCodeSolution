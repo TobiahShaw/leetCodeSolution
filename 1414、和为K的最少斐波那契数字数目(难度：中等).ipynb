{
 "cells": [
  {
   "cell_type": "markdown",
   "metadata": {},
   "source": [
    "# 和为K的最少斐波那契数字数目\n",
    "\n",
    "**题目来源：力扣（LeetCode）**\n",
    "\n",
    "**链接：https://leetcode-cn.com/problems/find-the-minimum-number-of-fibonacci-numbers-whose-sum-is-k/**\n",
    "\n",
    "## 一、题目\n",
    "\n",
    "给你数字 k ，请你返回和为 k 的斐波那契数字的最少数目，其中，每个斐波那契数字都可以被使用多次。\n",
    "\n",
    "斐波那契数字定义为：\n",
    "\n",
    "- $ F_1 $ = 1\n",
    "- $ F_2 $ = 1\n",
    "- $ F_n = F_{n-1} + F_{n-2} $ ， 其中 n > 2 。\n",
    "\n",
    "数据保证对于给定的 k ，一定能找到可行解。\n",
    "\n",
    "### 提示：\n",
    "\n",
    "- 1 <= k <= 10^9\n",
    "\n",
    "## 二、示例\n",
    "\n",
    "### 示例 1：\n",
    "\n",
    "输入：k = 7\n",
    "\n",
    "输出：2 \n",
    "\n",
    "解释：斐波那契数字为：1，1，2，3，5，8，13，……对于 k = 7 ，我们可以得到 2 + 5 = 7 。\n",
    "\n",
    "### 示例 2：\n",
    "\n",
    "输入：k = 10\n",
    "\n",
    "输出：2 \n",
    "\n",
    "解释：对于 k = 10 ，我们可以得到 2 + 8 = 10 。\n",
    "\n",
    "### 示例 3：\n",
    "\n",
    "输入：k = 19\n",
    "\n",
    "输出：3 \n",
    "\n",
    "解释：对于 k = 19 ，我们可以得到 1 + 5 + 13 = 19 。\n",
    "\n",
    "## 三、解题思路\n",
    "\n",
    "### 二分"
   ]
  },
  {
   "cell_type": "code",
   "execution_count": 1,
   "metadata": {},
   "outputs": [],
   "source": [
    "import bisect\n",
    "def findMinFibonacciNumbers(k: int) -> int:\n",
    "    # 生成斐波那契数列\n",
    "    arr, m, n = [], 1, 1\n",
    "    while m <= k:\n",
    "        arr.append(m)\n",
    "        m, n = n, m + n\n",
    "    ret = 0\n",
    "    while k > 1:\n",
    "        # 找到小于等于k最大的数\n",
    "        t = arr[bisect.bisect_right(arr, k) - 1]\n",
    "        # 一个数可以使用多次\n",
    "        ret += k // t\n",
    "        k = k % t\n",
    "    return ret + k"
   ]
  },
  {
   "cell_type": "code",
   "execution_count": 2,
   "metadata": {},
   "outputs": [
    {
     "data": {
      "text/plain": [
       "2"
      ]
     },
     "execution_count": 2,
     "metadata": {},
     "output_type": "execute_result"
    }
   ],
   "source": [
    "findMinFibonacciNumbers(7)"
   ]
  },
  {
   "cell_type": "code",
   "execution_count": 3,
   "metadata": {},
   "outputs": [
    {
     "data": {
      "text/plain": [
       "2"
      ]
     },
     "execution_count": 3,
     "metadata": {},
     "output_type": "execute_result"
    }
   ],
   "source": [
    "findMinFibonacciNumbers(10)"
   ]
  },
  {
   "cell_type": "code",
   "execution_count": 4,
   "metadata": {},
   "outputs": [
    {
     "data": {
      "text/plain": [
       "3"
      ]
     },
     "execution_count": 4,
     "metadata": {},
     "output_type": "execute_result"
    }
   ],
   "source": [
    "findMinFibonacciNumbers(19)"
   ]
  },
  {
   "cell_type": "code",
   "execution_count": null,
   "metadata": {},
   "outputs": [],
   "source": []
  }
 ],
 "metadata": {
  "kernelspec": {
   "display_name": "Python 3",
   "language": "python",
   "name": "python3"
  },
  "language_info": {
   "codemirror_mode": {
    "name": "ipython",
    "version": 3
   },
   "file_extension": ".py",
   "mimetype": "text/x-python",
   "name": "python",
   "nbconvert_exporter": "python",
   "pygments_lexer": "ipython3",
   "version": "3.6.5"
  }
 },
 "nbformat": 4,
 "nbformat_minor": 2
}
