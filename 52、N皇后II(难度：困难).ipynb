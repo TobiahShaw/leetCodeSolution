{
 "cells": [
  {
   "cell_type": "markdown",
   "metadata": {},
   "source": [
    "# N皇后II\n",
    "\n",
    "**题目来源：力扣（LeetCode）**\n",
    "\n",
    "**链接：https://leetcode-cn.com/problems/n-queens-ii/**\n",
    "\n",
    "## 一、题目\n",
    "\n",
    "n 皇后问题研究的是如何将 n 个皇后放置在 n×n 的棋盘上，并且使皇后彼此之间不能相互攻击。\n",
    "\n",
    "![8-queens.png](https://assets.leetcode-cn.com/aliyun-lc-upload/uploads/2018/10/12/8-queens.png)\n",
    "\n",
    "上图为 8 皇后问题的一种解法。\n",
    "\n",
    "给定一个整数 n，返回所有不同的 n 皇后问题的解决方案。\n",
    "\n",
    "每一种解法包含一个明确的 n 皇后问题的棋子放置方案，该方案中 'Q' 和 '.' 分别代表了皇后和空位。\n",
    "\n",
    "## 二、示例\n",
    "\n",
    "输入: 4\n",
    "\n",
    "输出: 2\n",
    "\n",
    "解释: 4 皇后问题存在如下两个不同的解法。\n",
    "```\n",
    "[\n",
    " [\".Q..\",  // 解法 1\n",
    "  \"...Q\",\n",
    "  \"Q...\",\n",
    "  \"..Q.\"],\n",
    "\n",
    " [\"..Q.\",  // 解法 2\n",
    "  \"Q...\",\n",
    "  \"...Q\",\n",
    "  \".Q..\"]\n",
    "]\n",
    "```\n",
    "\n",
    "## 三、解题思路\n",
    "\n",
    "### 回溯法+剪枝+方向向量"
   ]
  },
  {
   "cell_type": "code",
   "execution_count": 1,
   "metadata": {},
   "outputs": [],
   "source": [
    "import copy\n",
    "def totalNQueens(n: int) -> int:\n",
    "    # 方向数组\n",
    "    dx = [-1, 1, 0, 0, -1, -1, 1, 1]\n",
    "    dy = [0, 0, -1, 1, -1, 1, -1, 1]\n",
    "    # 放下Q，且将无法再放Q的位置用\".\"占住\n",
    "    def put_down_Queen(board, row, col):\n",
    "        board[row][col] = 'Q'\n",
    "        for i in range(1, n):\n",
    "            for j in range(8):\n",
    "                new_x = row + i * dx[j]\n",
    "                new_y = col + i * dy[j]\n",
    "                if 0 <= new_x < n and 0 <= new_y < n:\n",
    "                    board[new_x][new_y] = '.'\n",
    "    def generate(item, i, result):\n",
    "        if i == n:\n",
    "            board = [\"\".join(row) for row in item]\n",
    "            result.append(board)\n",
    "            return\n",
    "        for col in range(n):\n",
    "            if item[i][col] == ' ':\n",
    "                tmp = copy.deepcopy(item)\n",
    "                put_down_Queen(tmp, i, col)\n",
    "                generate(tmp, i + 1, result)\n",
    "    result = []\n",
    "    item = [[' ' for j in range(n)] for i in range(n)]\n",
    "    generate(item, 0, result)\n",
    "    return len(result)"
   ]
  },
  {
   "cell_type": "code",
   "execution_count": 2,
   "metadata": {},
   "outputs": [
    {
     "data": {
      "text/plain": [
       "2"
      ]
     },
     "execution_count": 2,
     "metadata": {},
     "output_type": "execute_result"
    }
   ],
   "source": [
    "totalNQueens(4)"
   ]
  },
  {
   "cell_type": "code",
   "execution_count": null,
   "metadata": {},
   "outputs": [],
   "source": []
  }
 ],
 "metadata": {
  "kernelspec": {
   "display_name": "Python 3",
   "language": "python",
   "name": "python3"
  },
  "language_info": {
   "codemirror_mode": {
    "name": "ipython",
    "version": 3
   },
   "file_extension": ".py",
   "mimetype": "text/x-python",
   "name": "python",
   "nbconvert_exporter": "python",
   "pygments_lexer": "ipython3",
   "version": "3.6.5"
  }
 },
 "nbformat": 4,
 "nbformat_minor": 2
}
