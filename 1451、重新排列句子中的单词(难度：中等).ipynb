{
 "cells": [
  {
   "cell_type": "markdown",
   "metadata": {},
   "source": [
    "# 重新排列句子中的单词\n",
    "\n",
    "**题目来源：力扣（LeetCode）**\n",
    "\n",
    "**链接：https://leetcode.cn/problems/rearrange-words-in-a-sentence/**\n",
    "\n",
    "## 一、题目\n",
    "\n",
    "「句子」是一个用空格分隔单词的字符串。给你一个满足下述格式的句子 text :\n",
    "\n",
    "- 句子的首字母大写\n",
    "- text 中的每个单词都用单个空格分隔。\n",
    "\n",
    "请你重新排列 text 中的单词，使所有单词按其长度的升序排列。如果两个单词的长度相同，则保留其在原句子中的相对顺序。\n",
    "\n",
    "请同样按上述格式返回新的句子。\n",
    "\n",
    "### 提示：\n",
    "\n",
    "- text 以大写字母开头，然后包含若干小写字母以及单词间的单个空格。\n",
    "- 1 <= text.length <= 10^5\n",
    "\n",
    "## 二、示例\n",
    "\n",
    "### 示例 1：\n",
    "\n",
    "输入：text = \"Leetcode is cool\"\n",
    "\n",
    "输出：\"Is cool leetcode\"\n",
    "\n",
    "解释：句子中共有 3 个单词，长度为 8 的 \"Leetcode\" ，长度为 2 的 \"is\" 以及长度为 4 的 \"cool\" 。输出需要按单词的长度升序排列，新句子中的第一个单词首字母需要大写。\n",
    "\n",
    "### 示例 2：\n",
    "\n",
    "输入：text = \"Keep calm and code on\"\n",
    "\n",
    "输出：\"On and keep calm code\"\n",
    "\n",
    "解释：输出的排序情况如下：\n",
    "\n",
    "- \"On\" 2 个字母。\n",
    "- \"and\" 3 个字母。\n",
    "- \"keep\" 4 个字母，因为存在长度相同的其他单词，所以它们之间需要保留在原句子中的相对顺序。\n",
    "- \"calm\" 4 个字母。\n",
    "- \"code\" 4 个字母。\n",
    "\n",
    "### 示例 3：\n",
    "\n",
    "输入：text = \"To be or not to be\"\n",
    "\n",
    "输出：\"To be or to be not\"\n",
    "\n",
    "## 三、解题思路\n",
    "\n",
    "### 排序"
   ]
  },
  {
   "cell_type": "code",
   "execution_count": 1,
   "metadata": {},
   "outputs": [],
   "source": [
    "class Solution:\n",
    "    def arrangeWords(self, text: str) -> str:\n",
    "        return \" \".join(sorted(text.split(' '), key=lambda x : len(x))).lower().capitalize()\n"
   ]
  },
  {
   "cell_type": "code",
   "execution_count": 2,
   "metadata": {},
   "outputs": [
    {
     "data": {
      "text/plain": [
       "'Is cool leetcode'"
      ]
     },
     "execution_count": 2,
     "metadata": {},
     "output_type": "execute_result"
    }
   ],
   "source": [
    "s = Solution()\n",
    "s.arrangeWords(\"Leetcode is cool\")"
   ]
  },
  {
   "cell_type": "code",
   "execution_count": 3,
   "metadata": {},
   "outputs": [
    {
     "data": {
      "text/plain": [
       "'On and keep calm code'"
      ]
     },
     "execution_count": 3,
     "metadata": {},
     "output_type": "execute_result"
    }
   ],
   "source": [
    "s.arrangeWords(\"Keep calm and code on\")"
   ]
  },
  {
   "cell_type": "code",
   "execution_count": 4,
   "metadata": {},
   "outputs": [
    {
     "data": {
      "text/plain": [
       "'To be or to be not'"
      ]
     },
     "execution_count": 4,
     "metadata": {},
     "output_type": "execute_result"
    }
   ],
   "source": [
    "s.arrangeWords(\"To be or not to be\")"
   ]
  },
  {
   "cell_type": "code",
   "execution_count": null,
   "metadata": {},
   "outputs": [],
   "source": []
  }
 ],
 "metadata": {
  "kernelspec": {
   "display_name": "Python 3.10.4 64-bit",
   "language": "python",
   "name": "python3"
  },
  "language_info": {
   "codemirror_mode": {
    "name": "ipython",
    "version": 3
   },
   "file_extension": ".py",
   "mimetype": "text/x-python",
   "name": "python",
   "nbconvert_exporter": "python",
   "pygments_lexer": "ipython3",
   "version": "3.10.4"
  },
  "orig_nbformat": 4,
  "vscode": {
   "interpreter": {
    "hash": "4f946df053fbf2b937619d3c5458e7af74262f9a954d8797ba0b27400bcafe06"
   }
  }
 },
 "nbformat": 4,
 "nbformat_minor": 2
}
