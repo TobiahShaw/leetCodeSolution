{
 "cells": [
  {
   "cell_type": "markdown",
   "metadata": {},
   "source": [
    "# 卡车上的最大单元数\n",
    "\n",
    "**题目来源：力扣（LeetCode）**\n",
    "\n",
    "**链接：https://leetcode-cn.com/problems/maximum-units-on-a-truck/**\n",
    "\n",
    "## 一、题目\n",
    "\n",
    "请你将一些箱子装在 一辆卡车 上。给你一个二维数组 boxTypes ，其中 boxTypes[i] = [numberOfBoxesi, numberOfUnitsPerBoxi] ：\n",
    "\n",
    "- numberOfBoxesi 是类型 i 的箱子的数量。\n",
    "- numberOfUnitsPerBoxi 是类型 i 每个箱子可以装载的单元数量。\n",
    "\n",
    "整数 truckSize 表示卡车上可以装载 箱子 的 最大数量 。只要箱子数量不超过 truckSize ，你就可以选择任意箱子装到卡车上。\n",
    "\n",
    "返回卡车可以装载 单元 的 最大 总数。\n",
    "\n",
    "### 提示：\n",
    "\n",
    "- 1 <= boxTypes.length <= 1000\n",
    "- 1 <= numberOfBoxesi, numberOfUnitsPerBoxi <= 1000\n",
    "- 1 <= truckSize <= 10^6\n",
    "\n",
    "## 二、示例\n",
    "\n",
    "### 示例 1：\n",
    "\n",
    "输入：boxTypes = [[1,3],[2,2],[3,1]], truckSize = 4\n",
    "\n",
    "输出：8\n",
    "\n",
    "解释：箱子的情况如下：\n",
    "\n",
    "- 1 个第一类的箱子，里面含 3 个单元。\n",
    "- 2 个第二类的箱子，每个里面含 2 个单元。\n",
    "- 3 个第三类的箱子，每个里面含 1 个单元。\n",
    "\n",
    "可以选择第一类和第二类的所有箱子，以及第三类的一个箱子。单元总数 = (1 * 3) + (2 * 2) + (1 * 1) = 8\n",
    "\n",
    "### 示例 2：\n",
    "\n",
    "输入：boxTypes = [[5,10],[2,5],[4,7],[3,9]], truckSize = 10\n",
    "\n",
    "输出：91\n",
    "\n",
    "## 三、解题思路\n",
    "\n",
    "### 排序"
   ]
  },
  {
   "cell_type": "code",
   "execution_count": 1,
   "metadata": {},
   "outputs": [],
   "source": [
    "def maximumUnits(boxTypes, truckSize: int) -> int:\n",
    "    boxTypes.sort(key=lambda x : -x[1])\n",
    "    ret = 0\n",
    "    for boxType in boxTypes:\n",
    "        if boxType[0] < truckSize:\n",
    "            truckSize -= boxType[0]\n",
    "            ret += (boxType[0] * boxType[1])\n",
    "        else:\n",
    "            ret += (truckSize * boxType[1])\n",
    "            truckSize = 0\n",
    "            break\n",
    "    return ret"
   ]
  },
  {
   "cell_type": "code",
   "execution_count": 2,
   "metadata": {},
   "outputs": [
    {
     "data": {
      "text/plain": [
       "8"
      ]
     },
     "execution_count": 2,
     "metadata": {},
     "output_type": "execute_result"
    }
   ],
   "source": [
    "maximumUnits(boxTypes = [[1,3],[2,2],[3,1]], truckSize = 4)"
   ]
  },
  {
   "cell_type": "code",
   "execution_count": 3,
   "metadata": {},
   "outputs": [
    {
     "data": {
      "text/plain": [
       "91"
      ]
     },
     "execution_count": 3,
     "metadata": {},
     "output_type": "execute_result"
    }
   ],
   "source": [
    "maximumUnits(boxTypes = [[5,10],[2,5],[4,7],[3,9]], truckSize = 10)"
   ]
  },
  {
   "cell_type": "code",
   "execution_count": null,
   "metadata": {},
   "outputs": [],
   "source": []
  }
 ],
 "metadata": {
  "kernelspec": {
   "display_name": "Python 3",
   "language": "python",
   "name": "python3"
  },
  "language_info": {
   "codemirror_mode": {
    "name": "ipython",
    "version": 3
   },
   "file_extension": ".py",
   "mimetype": "text/x-python",
   "name": "python",
   "nbconvert_exporter": "python",
   "pygments_lexer": "ipython3",
   "version": "3.6.5"
  }
 },
 "nbformat": 4,
 "nbformat_minor": 2
}
