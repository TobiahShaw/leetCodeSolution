{
  "cells": [
    {
      "metadata": {
        "collapsed": true
      },
      "cell_type": "markdown",
      "source": "# 变位词组\n\n**题目来源：力扣（LeetCode）**\n\n**链接：https://leetcode-cn.com/problems/group-anagrams-lcci/**\n\n## 一、题目\n\n编写一种方法，对字符串数组进行排序，将所有变位词组合在一起。变位词是指字母相同，但排列不同的字符串。\n\n## 二、示例\n\n输入: \n\n```\n[\"eat\", \"tea\", \"tan\", \"ate\", \"nat\", \"bat\"]\n```\n\n输出:\n\n```\n[\n  [\"ate\",\"eat\",\"tea\"],\n  [\"nat\",\"tan\"],\n  [\"bat\"]\n]\n```\n\n## 三、解题思路\n\n### 利用排序和字典\n\n- 新建一个数组，内部存放原始数组内进行排序后的单词，这样保证变位词变成同一词\n- 实例化一个字段和一个数组，字典存放每个变位词所在结果数组的位置，数据就是存放结果的结果数组\n- 遍历排序后单词的数组，如果排序后的单词在字典中存在，则在对应结果数组的对应位置增加一个元素（从原始数组取）\n- 如果没有，则结果数组新增加一个包含当前单词的数组，在字典中记录位置"
    },
    {
      "metadata": {
        "trusted": true
      },
      "cell_type": "code",
      "source": "def groupAnagrams(strs):\n    tmp = []\n    for word in strs:\n        tmp.append(\"\".join(sorted(word)))\n    dic = {}\n    result = []\n    for i in range(len(tmp)):\n        if tmp[i] in dic:\n            result[dic[tmp[i]]].append(strs[i])\n        else:\n            item = [strs[i]]\n            result.append(item)\n            dic[tmp[i]] = len(result) - 1\n    return result",
      "execution_count": 1,
      "outputs": []
    },
    {
      "metadata": {
        "trusted": true
      },
      "cell_type": "code",
      "source": "groupAnagrams([\"eat\", \"tea\", \"tan\", \"ate\", \"nat\", \"bat\"])",
      "execution_count": 2,
      "outputs": [
        {
          "output_type": "execute_result",
          "execution_count": 2,
          "data": {
            "text/plain": "[['eat', 'tea', 'ate'], ['tan', 'nat'], ['bat']]"
          },
          "metadata": {}
        }
      ]
    },
    {
      "metadata": {
        "trusted": true
      },
      "cell_type": "code",
      "source": "",
      "execution_count": null,
      "outputs": []
    }
  ],
  "metadata": {
    "kernelspec": {
      "name": "python36",
      "display_name": "Python 3.6",
      "language": "python"
    },
    "language_info": {
      "mimetype": "text/x-python",
      "nbconvert_exporter": "python",
      "name": "python",
      "pygments_lexer": "ipython3",
      "version": "3.6.6",
      "file_extension": ".py",
      "codemirror_mode": {
        "version": 3,
        "name": "ipython"
      }
    }
  },
  "nbformat": 4,
  "nbformat_minor": 2
}