{
 "cells": [
  {
   "cell_type": "markdown",
   "metadata": {},
   "source": [
    "# 字符串中不同整数的数目\n",
    "\n",
    "**题目来源：力扣（LeetCode）**\n",
    "\n",
    "**链接：https://leetcode-cn.com/problems/number-of-different-integers-in-a-string/**\n",
    "\n",
    "## 一、题目\n",
    "\n",
    "给你一个字符串 word ，该字符串由数字和小写英文字母组成。\n",
    "\n",
    "请你用空格替换每个不是数字的字符。例如，\"a123bc34d8ef34\" 将会变成 \" 123  34 8  34\" 。注意，剩下的这些整数为（相邻彼此至少有一个空格隔开）：\"123\"、\"34\"、\"8\" 和 \"34\" 。\n",
    "\n",
    "返回对 word 完成替换后形成的 不同 整数的数目。\n",
    "\n",
    "只有当两个整数的 不含前导零 的十进制表示不同， 才认为这两个整数也不同。\n",
    "\n",
    "## 二、示例\n",
    "\n",
    "### 示例 1：\n",
    "\n",
    "输入：word = \"a123bc34d8ef34\"\n",
    "\n",
    "输出：3\n",
    "\n",
    "解释：不同的整数有 \"123\"、\"34\" 和 \"8\" 。注意，\"34\" 只计数一次。\n",
    "\n",
    "### 示例 2：\n",
    "\n",
    "输入：word = \"leet1234code234\"\n",
    "\n",
    "输出：2\n",
    "\n",
    "### 示例 3：\n",
    "\n",
    "输入：word = \"a1b01c001\"\n",
    "\n",
    "输出：1\n",
    "\n",
    "解释：\"1\"、\"01\" 和 \"001\" 视为同一个整数的十进制表示，因为在比较十进制值时会忽略前导零的存在。\n",
    "\n",
    "## 三、解题思路\n",
    "\n",
    "### 状态机"
   ]
  },
  {
   "cell_type": "code",
   "execution_count": 1,
   "metadata": {},
   "outputs": [],
   "source": [
    "def numDifferentIntegers(word: str) -> int:\n",
    "    tmp = []\n",
    "    nums = set()\n",
    "    for ch in word:\n",
    "        if ch.isdigit():\n",
    "            tmp.append(ch)\n",
    "        else:\n",
    "            if tmp:\n",
    "                num = int(\"\".join(tmp))\n",
    "                nums.add(num)\n",
    "                tmp.clear()\n",
    "    if tmp:\n",
    "        num = int(\"\".join(tmp))\n",
    "        nums.add(num)\n",
    "        tmp.clear()\n",
    "    return len(nums)"
   ]
  },
  {
   "cell_type": "code",
   "execution_count": 2,
   "metadata": {},
   "outputs": [
    {
     "data": {
      "text/plain": [
       "3"
      ]
     },
     "execution_count": 2,
     "metadata": {},
     "output_type": "execute_result"
    }
   ],
   "source": [
    "numDifferentIntegers(\"a123bc34d8ef34\")"
   ]
  },
  {
   "cell_type": "code",
   "execution_count": 3,
   "metadata": {},
   "outputs": [
    {
     "data": {
      "text/plain": [
       "2"
      ]
     },
     "execution_count": 3,
     "metadata": {},
     "output_type": "execute_result"
    }
   ],
   "source": [
    "numDifferentIntegers(\"leet1234code234\")"
   ]
  },
  {
   "cell_type": "code",
   "execution_count": 4,
   "metadata": {},
   "outputs": [
    {
     "data": {
      "text/plain": [
       "1"
      ]
     },
     "execution_count": 4,
     "metadata": {},
     "output_type": "execute_result"
    }
   ],
   "source": [
    "numDifferentIntegers(\"a1b01c001\")"
   ]
  },
  {
   "cell_type": "code",
   "execution_count": null,
   "metadata": {},
   "outputs": [],
   "source": []
  }
 ],
 "metadata": {
  "kernelspec": {
   "display_name": "Python 3",
   "language": "python",
   "name": "python3"
  },
  "language_info": {
   "codemirror_mode": {
    "name": "ipython",
    "version": 3
   },
   "file_extension": ".py",
   "mimetype": "text/x-python",
   "name": "python",
   "nbconvert_exporter": "python",
   "pygments_lexer": "ipython3",
   "version": "3.6.5"
  }
 },
 "nbformat": 4,
 "nbformat_minor": 2
}
