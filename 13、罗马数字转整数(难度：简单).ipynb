{
  "cells": [
    {
      "metadata": {
        "collapsed": true
      },
      "cell_type": "markdown",
      "source": "# 罗马数字转整数\n\n**题目来源：力扣（LeetCode）**\n\n**链接：https://leetcode-cn.com/problems/roman-to-integer/**\n\n## 一、题目\n\n罗马数字包含以下七种字符: I， V， X， L，C，D 和 M。\n\n字符|数值\n-|-\nI | 1\nV | 5\nX | 10\nL | 50\nC | 100\nD | 500\nM | 1000\n\n例如， 罗马数字 2 写做 II ，即为两个并列的 1。12 写做 XII ，即为 X + II 。 27 写做  XXVII, 即为 XX + V + II 。\n\n通常情况下，罗马数字中小的数字在大的数字的右边。但也存在特例，例如 4 不写做 IIII，而是 IV。数字 1 在数字 5 的左边，所表示的数等于大数 5 减小数 1 得到的数值 4 。同样地，数字 9 表示为 IX。这个特殊的规则只适用于以下六种情况：\n\n- I 可以放在 V (5) 和 X (10) 的左边，来表示 4 和 9。\n- X 可以放在 L (50) 和 C (100) 的左边，来表示 40 和 90。 \n- C 可以放在 D (500) 和 M (1000) 的左边，来表示 400 和 900。\n\n给定一个罗马数字，将其转换成整数。输入确保在 1 到 3999 的范围内。\n\n## 二、示例\n\n### 示例 1:\n\n输入: \"III\"\n\n输出: 3\n\n### 示例 2:\n\n输入: \"IV\"\n\n输出: 4\n\n### 示例 3:\n\n输入: \"IX\"\n\n输出: 9\n\n### 示例 4:\n\n输入: \"LVIII\"\n\n输出: 58\n\n解释: L = 50, V= 5, III = 3.\n\n### 示例 5:\n\n输入: \"MCMXCIV\"\n\n输出: 1994\n\n解释: M = 1000, CM = 900, XC = 90, IV = 4.\n\n## 三、解题思路\n\n### 模拟"
    },
    {
      "metadata": {
        "trusted": true
      },
      "cell_type": "code",
      "source": "def romanToInt(s):\n    dic = {'I':1,'V':5,'X':10,'L':50,'C':100,'D':500,'M':1000}\n    i = 0\n    result = 0\n    while i < len(s):\n        if i != len(s) - 1 and dic[s[i]] < dic[s[i+1]]:\n            result += (dic[s[i+1]] - dic[s[i]])\n            i += 2\n        else:\n            result += dic[s[i]]\n            i += 1\n    return result",
      "execution_count": 1,
      "outputs": []
    },
    {
      "metadata": {
        "trusted": true
      },
      "cell_type": "code",
      "source": "romanToInt(\"III\")",
      "execution_count": 2,
      "outputs": [
        {
          "output_type": "execute_result",
          "execution_count": 2,
          "data": {
            "text/plain": "3"
          },
          "metadata": {}
        }
      ]
    },
    {
      "metadata": {
        "trusted": true
      },
      "cell_type": "code",
      "source": "romanToInt(\"IV\")",
      "execution_count": 3,
      "outputs": [
        {
          "output_type": "execute_result",
          "execution_count": 3,
          "data": {
            "text/plain": "4"
          },
          "metadata": {}
        }
      ]
    },
    {
      "metadata": {
        "trusted": true
      },
      "cell_type": "code",
      "source": "romanToInt(\"IX\")",
      "execution_count": 4,
      "outputs": [
        {
          "output_type": "execute_result",
          "execution_count": 4,
          "data": {
            "text/plain": "9"
          },
          "metadata": {}
        }
      ]
    },
    {
      "metadata": {
        "trusted": true
      },
      "cell_type": "code",
      "source": "romanToInt(\"LVIII\")",
      "execution_count": 5,
      "outputs": [
        {
          "output_type": "execute_result",
          "execution_count": 5,
          "data": {
            "text/plain": "58"
          },
          "metadata": {}
        }
      ]
    },
    {
      "metadata": {
        "trusted": true
      },
      "cell_type": "code",
      "source": "romanToInt(\"MCMXCIV\")",
      "execution_count": 6,
      "outputs": [
        {
          "output_type": "execute_result",
          "execution_count": 6,
          "data": {
            "text/plain": "1994"
          },
          "metadata": {}
        }
      ]
    },
    {
      "metadata": {
        "trusted": true
      },
      "cell_type": "code",
      "source": "",
      "execution_count": null,
      "outputs": []
    }
  ],
  "metadata": {
    "kernelspec": {
      "name": "python36",
      "display_name": "Python 3.6",
      "language": "python"
    },
    "language_info": {
      "mimetype": "text/x-python",
      "nbconvert_exporter": "python",
      "name": "python",
      "pygments_lexer": "ipython3",
      "version": "3.6.6",
      "file_extension": ".py",
      "codemirror_mode": {
        "version": 3,
        "name": "ipython"
      }
    }
  },
  "nbformat": 4,
  "nbformat_minor": 2
}