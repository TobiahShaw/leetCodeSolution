{
 "cells": [
  {
   "cell_type": "markdown",
   "metadata": {},
   "source": [
    "# 买卖股票的最佳时机含手续费\n",
    "\n",
    "**题目来源：力扣（LeetCode）**\n",
    "\n",
    "**链接：https://leetcode-cn.com/problems/best-time-to-buy-and-sell-stock-with-transaction-fee/**\n",
    "\n",
    "## 一、题目\n",
    "\n",
    "给定一个整数数组 prices，其中第 i 个元素代表了第 i 天的股票价格 ；非负整数 fee 代表了交易股票的手续费用。\n",
    "\n",
    "你可以无限次地完成交易，但是你每笔交易都需要付手续费。如果你已经购买了一个股票，在卖出它之前你就不能再继续购买股票了。\n",
    "\n",
    "返回获得利润的最大值。\n",
    "\n",
    "注意：\n",
    "\n",
    "- 这里的一笔交易指买入持有并卖出股票的整个过程，每笔交易你只需要为支付一次手续费。\n",
    "- 0 < prices.length <= 50000.\n",
    "- 0 < prices[i] < 50000.\n",
    "- 0 <= fee < 50000.\n",
    "\n",
    "## 二、示例\n",
    "\n",
    "输入: prices = [1, 3, 2, 8, 4, 9], fee = 2\n",
    "\n",
    "输出: 8\n",
    "\n",
    "解释: \n",
    "\n",
    "能够达到的最大利润:  \n",
    "\n",
    "在此处买入 prices[0] = 1\n",
    "\n",
    "在此处卖出 prices[3] = 8\n",
    "\n",
    "在此处买入 prices[4] = 4\n",
    "\n",
    "在此处卖出 prices[5] = 9\n",
    "\n",
    "总利润: ((8 - 1) - 2) + ((9 - 4) - 2) = 8.\n",
    "\n",
    "## 三、解题思路\n",
    "\n",
    "### 回溯法（暴力）"
   ]
  },
  {
   "cell_type": "code",
   "execution_count": 1,
   "metadata": {},
   "outputs": [],
   "source": [
    "def maxProfit(prices, fee: int) -> int:\n",
    "    def generate(item, index, result):\n",
    "        if index == len(prices):\n",
    "            ret = 0\n",
    "            for i in range(len(item)):\n",
    "                if i % 2 == 0:\n",
    "                    ret -= item[i]\n",
    "                else:\n",
    "                    ret += (item[i] - fee)\n",
    "            if not result:\n",
    "                result.append(ret)\n",
    "            else:\n",
    "                pre = result.pop()\n",
    "                result.append(max(pre, ret))\n",
    "            return\n",
    "        if len(item) % 2 == 0:\n",
    "            item.append(prices[index])\n",
    "            generate(item, index + 1, result)\n",
    "            item.pop()\n",
    "            generate(item, index + 1, result)\n",
    "        else:\n",
    "            if prices[index] - item[-1] > fee:\n",
    "                item.append(prices[index])\n",
    "                generate(item, index + 1, result)\n",
    "                item.pop()\n",
    "                generate(item, index + 1, result)\n",
    "            else:\n",
    "                generate(item, index + 1, result)\n",
    "    result = []\n",
    "    generate([], 0, result)\n",
    "    return result[0]"
   ]
  },
  {
   "cell_type": "code",
   "execution_count": 2,
   "metadata": {},
   "outputs": [
    {
     "data": {
      "text/plain": [
       "8"
      ]
     },
     "execution_count": 2,
     "metadata": {},
     "output_type": "execute_result"
    }
   ],
   "source": [
    "maxProfit(prices = [1, 3, 2, 8, 4, 9], fee = 2)"
   ]
  },
  {
   "cell_type": "code",
   "execution_count": null,
   "metadata": {},
   "outputs": [],
   "source": []
  }
 ],
 "metadata": {
  "kernelspec": {
   "display_name": "Python 3",
   "language": "python",
   "name": "python3"
  },
  "language_info": {
   "codemirror_mode": {
    "name": "ipython",
    "version": 3
   },
   "file_extension": ".py",
   "mimetype": "text/x-python",
   "name": "python",
   "nbconvert_exporter": "python",
   "pygments_lexer": "ipython3",
   "version": "3.6.5"
  }
 },
 "nbformat": 4,
 "nbformat_minor": 2
}
