{
  "cells": [
    {
      "metadata": {
        "collapsed": true
      },
      "cell_type": "markdown",
      "source": "# 两两交换链表中的节点\n\n**题目来源：力扣（LeetCode）**\n\n**链接：https://leetcode-cn.com/problems/swap-nodes-in-pairs/**\n\n## 一、题目\n\n给定一个链表，两两交换其中相邻的节点，并返回交换后的链表。\n\n你不能只是单纯的改变节点内部的值，而是需要实际的进行节点交换。\n\n## 二、示例\n\n给定 1->2->3->4, 你应该返回 2->1->4->3.\n\n## 三、解题思路"
    },
    {
      "metadata": {
        "trusted": true
      },
      "cell_type": "code",
      "source": "class ListNode:\n    def __init__(self, x):\n        self.val = x\n        self.next = None",
      "execution_count": 1,
      "outputs": []
    },
    {
      "metadata": {},
      "cell_type": "markdown",
      "source": "### 递归"
    },
    {
      "metadata": {
        "trusted": true
      },
      "cell_type": "code",
      "source": "head = ListNode(1)\nhead.next = ListNode(2)\nhead.next.next = ListNode(3)\nhead.next.next.next = ListNode(4)",
      "execution_count": 2,
      "outputs": []
    },
    {
      "metadata": {
        "trusted": true
      },
      "cell_type": "code",
      "source": "def swapPairs(head):\n    if head and head.next:\n        cur = head\n        head = head.next\n        cur.next = head.next\n        head.next = cur\n        cur.next = swapPairs(cur.next)\n        return head\n    else:\n        return head",
      "execution_count": 3,
      "outputs": []
    },
    {
      "metadata": {
        "trusted": true
      },
      "cell_type": "code",
      "source": "head = swapPairs(head)\nwhile head:\n    print(head.val, end=' ')\n    head = head.next",
      "execution_count": 4,
      "outputs": [
        {
          "output_type": "stream",
          "text": "2 1 4 3 ",
          "name": "stdout"
        }
      ]
    },
    {
      "metadata": {},
      "cell_type": "markdown",
      "source": "### 迭代"
    },
    {
      "metadata": {
        "trusted": true
      },
      "cell_type": "code",
      "source": "head = ListNode(1)\nhead.next = ListNode(2)\nhead.next.next = ListNode(3)\nhead.next.next.next = ListNode(4)",
      "execution_count": 5,
      "outputs": []
    },
    {
      "metadata": {
        "trusted": true
      },
      "cell_type": "code",
      "source": "def swapPairs(head):\n    holder = ListNode(0)\n    holder.next = head\n    prev = holder\n    while head and head.next:\n        _next = head.next\n        head.next = _next.next\n        prev.next = _next\n        prev.next.next = head\n        prev = head\n        head = head.next\n    return holder.next",
      "execution_count": 6,
      "outputs": []
    },
    {
      "metadata": {
        "trusted": true
      },
      "cell_type": "code",
      "source": "head = swapPairs(head)\nwhile head:\n    print(head.val, end=' ')\n    head = head.next",
      "execution_count": 7,
      "outputs": [
        {
          "output_type": "stream",
          "text": "2 1 4 3 ",
          "name": "stdout"
        }
      ]
    },
    {
      "metadata": {
        "trusted": true
      },
      "cell_type": "code",
      "source": "",
      "execution_count": null,
      "outputs": []
    }
  ],
  "metadata": {
    "kernelspec": {
      "name": "python36",
      "display_name": "Python 3.6",
      "language": "python"
    },
    "language_info": {
      "mimetype": "text/x-python",
      "nbconvert_exporter": "python",
      "name": "python",
      "pygments_lexer": "ipython3",
      "version": "3.6.6",
      "file_extension": ".py",
      "codemirror_mode": {
        "version": 3,
        "name": "ipython"
      }
    }
  },
  "nbformat": 4,
  "nbformat_minor": 2
}