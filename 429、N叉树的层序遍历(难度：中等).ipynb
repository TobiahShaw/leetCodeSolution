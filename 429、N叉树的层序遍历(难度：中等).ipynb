{
  "cells": [
    {
      "metadata": {
        "collapsed": true
      },
      "cell_type": "markdown",
      "source": "# N叉树的层序遍历\n\n**题目来源：力扣（LeetCode）**\n\n**链接：https://leetcode-cn.com/problems/n-ary-tree-level-order-traversal/**\n\n## 一、题目\n\n给定一个 N 叉树，返回其节点值的层序遍历。 (即从左到右，逐层遍历)。\n\n## 二、示例\n\n给定一个 3叉树 :\n\n```\n      1\n     /|\\\n    3 2 4\n   / \\\n  5   6\n```\n\n返回其层序遍历:\n\n```\n[\n     [1],\n     [3,2,4],\n     [5,6]\n]\n```\n\n## 三、解题思路"
    },
    {
      "metadata": {
        "trusted": true
      },
      "cell_type": "code",
      "source": "class Node:\n    def __init__(self, val=None, children=None):\n        self.val = val\n        self.children = children\nroot = Node(1)\nroot.children = [Node(3), Node(2), Node(4)]\n\nroot.children[0].children = [Node(5), Node(6)]",
      "execution_count": 1,
      "outputs": []
    },
    {
      "metadata": {
        "trusted": true
      },
      "cell_type": "code",
      "source": "def levelOrder(root):\n    if not root:\n        return []\n    layer, output = [root], []\n    while layer:\n        next_layer, layer_val = [], []\n        for node in layer:\n            layer_val.append(node.val)\n            if node.children:\n                next_layer.extend(node.children)\n        layer = next_layer\n        output.append(layer_val)\n    return output",
      "execution_count": 2,
      "outputs": []
    },
    {
      "metadata": {
        "trusted": true
      },
      "cell_type": "code",
      "source": "levelOrder(root)",
      "execution_count": 3,
      "outputs": [
        {
          "output_type": "execute_result",
          "execution_count": 3,
          "data": {
            "text/plain": "[[1], [3, 2, 4], [5, 6]]"
          },
          "metadata": {}
        }
      ]
    },
    {
      "metadata": {
        "trusted": true
      },
      "cell_type": "code",
      "source": "",
      "execution_count": null,
      "outputs": []
    }
  ],
  "metadata": {
    "kernelspec": {
      "name": "python36",
      "display_name": "Python 3.6",
      "language": "python"
    },
    "language_info": {
      "mimetype": "text/x-python",
      "nbconvert_exporter": "python",
      "name": "python",
      "pygments_lexer": "ipython3",
      "version": "3.6.6",
      "file_extension": ".py",
      "codemirror_mode": {
        "version": 3,
        "name": "ipython"
      }
    }
  },
  "nbformat": 4,
  "nbformat_minor": 2
}