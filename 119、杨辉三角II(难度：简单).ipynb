{
 "cells": [
  {
   "cell_type": "markdown",
   "metadata": {},
   "source": [
    "# 杨辉三角II\n",
    "\n",
    "**题目来源：力扣（LeetCode）**\n",
    "\n",
    "**链接：https://leetcode-cn.com/problems/pascals-triangle-ii/**\n",
    "\n",
    "## 一、题目\n",
    "\n",
    "给定一个非负索引 k，其中 k ≤ 33，返回杨辉三角的第 k 行。\n",
    "\n",
    "在杨辉三角中，每个数是它左上方和右上方的数的和。\n",
    "\n",
    "### 提示:\n",
    "\n",
    "- 0 <= rowIndex <= 33\n",
    "\n",
    "\n",
    "### 进阶：\n",
    "\n",
    "- 你可以优化你的算法到 O(rowIndex) 空间复杂度吗？\n",
    "\n",
    "## 二、示例\n",
    "\n",
    "### 示例 1:\n",
    "\n",
    "输入: rowIndex = 3\n",
    "\n",
    "输出: [1,3,3,1]\n",
    "\n",
    "### 示例 2:\n",
    "\n",
    "输入: rowIndex = 0\n",
    "\n",
    "输出: [1]\n",
    "\n",
    "### 示例 3:\n",
    "\n",
    "输入: rowIndex = 1\n",
    "\n",
    "输出: [1,1]\n",
    "\n",
    "## 三、解题思路\n",
    "\n",
    "### 一、利用上一行计算"
   ]
  },
  {
   "cell_type": "code",
   "execution_count": 1,
   "metadata": {},
   "outputs": [],
   "source": [
    "class Solution:\n",
    "    def getRow(self, rowIndex: int):\n",
    "        pre_layer = []\n",
    "        for i in range(rowIndex + 1):\n",
    "            cur = [1] * (i + 1)\n",
    "            if i < 2:\n",
    "                pre_layer = cur\n",
    "                continue\n",
    "            for j in range(1, len(cur) - 1):\n",
    "                cur[j] = pre_layer[j-1]+pre_layer[j]\n",
    "            pre_layer = cur\n",
    "        return pre_layer"
   ]
  },
  {
   "cell_type": "code",
   "execution_count": 2,
   "metadata": {},
   "outputs": [
    {
     "data": {
      "text/plain": [
       "[1, 3, 3, 1]"
      ]
     },
     "execution_count": 2,
     "metadata": {},
     "output_type": "execute_result"
    }
   ],
   "source": [
    "s = Solution()\n",
    "s.getRow(3)"
   ]
  },
  {
   "cell_type": "markdown",
   "metadata": {},
   "source": [
    "### 二、利用二项式公式"
   ]
  },
  {
   "cell_type": "code",
   "execution_count": 3,
   "metadata": {},
   "outputs": [],
   "source": [
    "class Solution:\n",
    "    def getRow(self, rowIndex: int):\n",
    "        def nCr(n, r):\n",
    "            v1 = v2 = 1\n",
    "            for i in range(r):\n",
    "                v1 *= (n-i)\n",
    "                v2 *= (i+1)\n",
    "            return v1 // v2\n",
    "\n",
    "        if rowIndex == 0:\n",
    "            return [1]\n",
    "        return [nCr(rowIndex, i) for i in range(rowIndex+1)]"
   ]
  },
  {
   "cell_type": "code",
   "execution_count": 4,
   "metadata": {},
   "outputs": [
    {
     "data": {
      "text/plain": [
       "[1, 3, 3, 1]"
      ]
     },
     "execution_count": 4,
     "metadata": {},
     "output_type": "execute_result"
    }
   ],
   "source": [
    "s = Solution()\n",
    "s.getRow(3)"
   ]
  },
  {
   "cell_type": "markdown",
   "metadata": {},
   "source": [
    "### 三、原地操作"
   ]
  },
  {
   "cell_type": "code",
   "execution_count": 5,
   "metadata": {},
   "outputs": [],
   "source": [
    "class Solution:\n",
    "    def getRow(self, rowIndex: int):\n",
    "        arr = [1]\n",
    "        for i in range(rowIndex):\n",
    "            arr.append(1)\n",
    "            for j in range(len(arr)-2, 0, -1):\n",
    "                arr[j] += arr[j-1]\n",
    "        return arr"
   ]
  },
  {
   "cell_type": "code",
   "execution_count": 6,
   "metadata": {},
   "outputs": [
    {
     "data": {
      "text/plain": [
       "[1, 3, 3, 1]"
      ]
     },
     "execution_count": 6,
     "metadata": {},
     "output_type": "execute_result"
    }
   ],
   "source": [
    "s = Solution()\n",
    "s.getRow(3)"
   ]
  },
  {
   "cell_type": "code",
   "execution_count": null,
   "metadata": {},
   "outputs": [],
   "source": []
  }
 ],
 "metadata": {
  "kernelspec": {
   "display_name": "Python 3 (ipykernel)",
   "language": "python",
   "name": "python3"
  },
  "language_info": {
   "codemirror_mode": {
    "name": "ipython",
    "version": 3
   },
   "file_extension": ".py",
   "mimetype": "text/x-python",
   "name": "python",
   "nbconvert_exporter": "python",
   "pygments_lexer": "ipython3",
   "version": "3.9.10+"
  }
 },
 "nbformat": 4,
 "nbformat_minor": 2
}
