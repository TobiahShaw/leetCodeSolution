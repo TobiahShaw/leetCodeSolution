{
 "cells": [
  {
   "cell_type": "markdown",
   "metadata": {},
   "source": [
    "# 杨辉三角II\n",
    "\n",
    "**题目来源：力扣（LeetCode）**\n",
    "\n",
    "**链接：https://leetcode-cn.com/problems/pascals-triangle-ii/**\n",
    "\n",
    "## 一、题目\n",
    "\n",
    "给定一个非负索引 k，其中 k ≤ 33，返回杨辉三角的第 k 行。\n",
    "\n",
    "在杨辉三角中，每个数是它左上方和右上方的数的和。\n",
    "\n",
    "## 二、示例\n",
    "\n",
    "输入: 3\n",
    "\n",
    "输出: [1,3,3,1]\n",
    "\n",
    "## 三、解题思路\n",
    "\n",
    "### 利用上一行计算"
   ]
  },
  {
   "cell_type": "code",
   "execution_count": 1,
   "metadata": {},
   "outputs": [],
   "source": [
    "def getRow(rowIndex: int):\n",
    "    pre_layer = []\n",
    "    for i in range(rowIndex + 1):\n",
    "        cur = [1] * (i + 1)\n",
    "        if i < 2:\n",
    "            pre_layer = cur\n",
    "            continue\n",
    "        for j in range(1, len(cur) - 1):\n",
    "            cur[j] = pre_layer[j-1]+pre_layer[j]\n",
    "        pre_layer = cur\n",
    "    return pre_layer"
   ]
  },
  {
   "cell_type": "code",
   "execution_count": 2,
   "metadata": {},
   "outputs": [
    {
     "data": {
      "text/plain": [
       "[1, 3, 3, 1]"
      ]
     },
     "execution_count": 2,
     "metadata": {},
     "output_type": "execute_result"
    }
   ],
   "source": [
    "getRow(3)"
   ]
  },
  {
   "cell_type": "code",
   "execution_count": null,
   "metadata": {},
   "outputs": [],
   "source": []
  }
 ],
 "metadata": {
  "kernelspec": {
   "display_name": "Python 3",
   "language": "python",
   "name": "python3"
  },
  "language_info": {
   "codemirror_mode": {
    "name": "ipython",
    "version": 3
   },
   "file_extension": ".py",
   "mimetype": "text/x-python",
   "name": "python",
   "nbconvert_exporter": "python",
   "pygments_lexer": "ipython3",
   "version": "3.6.5"
  }
 },
 "nbformat": 4,
 "nbformat_minor": 2
}
