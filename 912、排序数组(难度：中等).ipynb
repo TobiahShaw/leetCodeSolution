{
 "cells": [
  {
   "cell_type": "markdown",
   "metadata": {},
   "source": [
    "# 排序数组\n",
    "\n",
    "**题目来源：力扣（LeetCode）**\n",
    "\n",
    "**链接：https://leetcode-cn.com/problems/sort-an-array/**\n",
    "\n",
    "## 一、题目\n",
    "\n",
    "给你一个整数数组 nums，请你将该数组升序排列。\n",
    "\n",
    "### 提示：\n",
    "\n",
    "- 1 <= nums.length <= 5 * 10^4\n",
    "- -5 * 10^4 <= nums[i] <= 5 * 104\n",
    "\n",
    "## 二、示例\n",
    "\n",
    "### 示例 1：\n",
    "\n",
    "输入：nums = [5,2,3,1]\n",
    "\n",
    "输出：[1,2,3,5]\n",
    "\n",
    "### 示例 2：\n",
    "\n",
    "输入：nums = [5,1,1,2,0,0]\n",
    "\n",
    "输出：[0,0,1,1,2,5]\n",
    "\n",
    "## 三、解题思路\n",
    "\n",
    "### 一、快速排序（超时）"
   ]
  },
  {
   "cell_type": "code",
   "execution_count": 1,
   "metadata": {},
   "outputs": [],
   "source": [
    "def sortArray(nums):\n",
    "    def quick_sort(arr, start, end):\n",
    "        if start == end:\n",
    "            return\n",
    "        p = arr[start]\n",
    "        l, r = start, end\n",
    "        flag = 0\n",
    "        while l < r:\n",
    "            if flag == 0:\n",
    "                r -= 1\n",
    "                if arr[r] < p:\n",
    "                    arr[l] = arr[r]\n",
    "                    flag = 1\n",
    "            else:\n",
    "                l += 1\n",
    "                if arr[l] > p:\n",
    "                    arr[r] = arr[l]\n",
    "                    flag = 0\n",
    "        arr[l] = p\n",
    "        quick_sort(arr, start, l)\n",
    "        quick_sort(arr, l+1, end)\n",
    "    quick_sort(nums, 0, len(nums))\n",
    "    return nums"
   ]
  },
  {
   "cell_type": "code",
   "execution_count": 2,
   "metadata": {},
   "outputs": [
    {
     "data": {
      "text/plain": [
       "[1, 2, 3, 5]"
      ]
     },
     "execution_count": 2,
     "metadata": {},
     "output_type": "execute_result"
    }
   ],
   "source": [
    "sortArray([5,2,3,1])"
   ]
  },
  {
   "cell_type": "code",
   "execution_count": 3,
   "metadata": {},
   "outputs": [
    {
     "data": {
      "text/plain": [
       "[0, 0, 1, 1, 2, 5]"
      ]
     },
     "execution_count": 3,
     "metadata": {},
     "output_type": "execute_result"
    }
   ],
   "source": [
    "sortArray([5,1,1,2,0,0])"
   ]
  },
  {
   "cell_type": "markdown",
   "metadata": {},
   "source": [
    "### 二、快速排序--随机化"
   ]
  },
  {
   "cell_type": "code",
   "execution_count": 4,
   "metadata": {},
   "outputs": [],
   "source": [
    "def sortArray(nums):\n",
    "    import random\n",
    "    def quick_sort(arr, start, end):\n",
    "        if start == end:\n",
    "            return\n",
    "        rand_index = random.randint(start, end-1)\n",
    "        p = arr[rand_index]\n",
    "        arr[rand_index] = arr[start]\n",
    "        l, r = start, end\n",
    "        flag = 0\n",
    "        while l < r:\n",
    "            if flag == 0:\n",
    "                r -= 1\n",
    "                if arr[r] < p:\n",
    "                    arr[l] = arr[r]\n",
    "                    flag = 1\n",
    "            else:\n",
    "                l += 1\n",
    "                if arr[l] > p:\n",
    "                    arr[r] = arr[l]\n",
    "                    flag = 0\n",
    "        arr[l] = p\n",
    "        quick_sort(arr, start, l)\n",
    "        quick_sort(arr, l+1, end)\n",
    "    quick_sort(nums, 0, len(nums))\n",
    "    return nums"
   ]
  },
  {
   "cell_type": "code",
   "execution_count": 5,
   "metadata": {},
   "outputs": [
    {
     "data": {
      "text/plain": [
       "[1, 2, 3, 5]"
      ]
     },
     "execution_count": 5,
     "metadata": {},
     "output_type": "execute_result"
    }
   ],
   "source": [
    "sortArray([5,2,3,1])"
   ]
  },
  {
   "cell_type": "code",
   "execution_count": 6,
   "metadata": {},
   "outputs": [
    {
     "data": {
      "text/plain": [
       "[0, 0, 1, 1, 2, 5]"
      ]
     },
     "execution_count": 6,
     "metadata": {},
     "output_type": "execute_result"
    }
   ],
   "source": [
    "sortArray([5,1,1,2,0,0])"
   ]
  },
  {
   "cell_type": "code",
   "execution_count": null,
   "metadata": {},
   "outputs": [],
   "source": []
  }
 ],
 "metadata": {
  "kernelspec": {
   "display_name": "Python 3",
   "language": "python",
   "name": "python3"
  },
  "language_info": {
   "codemirror_mode": {
    "name": "ipython",
    "version": 3
   },
   "file_extension": ".py",
   "mimetype": "text/x-python",
   "name": "python",
   "nbconvert_exporter": "python",
   "pygments_lexer": "ipython3",
   "version": "3.6.5"
  }
 },
 "nbformat": 4,
 "nbformat_minor": 2
}
