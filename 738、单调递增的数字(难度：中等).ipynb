{
 "cells": [
  {
   "cell_type": "markdown",
   "metadata": {},
   "source": [
    "# 单调递增的数字\n",
    "\n",
    "**题目来源：力扣（LeetCode）**\n",
    "\n",
    "**链接：https://leetcode-cn.com/problems/monotone-increasing-digits/**\n",
    "\n",
    "## 一、题目\n",
    "\n",
    "给定一个非负整数 N，找出小于或等于 N 的最大的整数，同时这个整数需要满足其各个位数上的数字是单调递增。\n",
    "\n",
    "（当且仅当每个相邻位数上的数字 x 和 y 满足 x <= y 时，我们称这个整数是单调递增的。）\n",
    "\n",
    "## 二、示例\n",
    "\n",
    "### 示例 1：\n",
    "\n",
    "输入: N = 10\n",
    "\n",
    "输出: 9\n",
    "\n",
    "### 示例 2:\n",
    "\n",
    "输入: N = 1234\n",
    "\n",
    "输出: 1234\n",
    "\n",
    "### 示例 3:\n",
    "\n",
    "输入: N = 332\n",
    "\n",
    "输出: 299\n",
    "\n",
    "## 三、解题思路\n",
    "\n",
    "### 贪心\n",
    "\n",
    "1. 先判断数字是否单调递增，如果是则直接返回\n",
    "2. 如果不是则从后向前找到第一个比上一位大且大于0的数字，如果找不到则第选择第一位\n",
    "3. 将找到的数字减一，后续数字全部换成9"
   ]
  },
  {
   "cell_type": "code",
   "execution_count": 1,
   "metadata": {},
   "outputs": [],
   "source": [
    "def monotoneIncreasingDigits(N: int) -> int:\n",
    "    N = str(N)\n",
    "    for i in range(1,len(N)): \n",
    "        if N[i-1]>N[i] :  break\n",
    "    else : return int(N)\n",
    "\n",
    "    for j in range(i-1,0,-1): \n",
    "        if N[j-1]<N[j] and N[j]>'0' : break\n",
    "    else : j = 0\n",
    "    return int(N[:j] + chr(ord(N[j])-1) + '9'*(len(N)-j-1))"
   ]
  },
  {
   "cell_type": "code",
   "execution_count": 2,
   "metadata": {},
   "outputs": [
    {
     "data": {
      "text/plain": [
       "9"
      ]
     },
     "execution_count": 2,
     "metadata": {},
     "output_type": "execute_result"
    }
   ],
   "source": [
    "monotoneIncreasingDigits(10)"
   ]
  },
  {
   "cell_type": "code",
   "execution_count": 3,
   "metadata": {},
   "outputs": [
    {
     "data": {
      "text/plain": [
       "1234"
      ]
     },
     "execution_count": 3,
     "metadata": {},
     "output_type": "execute_result"
    }
   ],
   "source": [
    "monotoneIncreasingDigits(1234)"
   ]
  },
  {
   "cell_type": "code",
   "execution_count": 4,
   "metadata": {},
   "outputs": [
    {
     "data": {
      "text/plain": [
       "299"
      ]
     },
     "execution_count": 4,
     "metadata": {},
     "output_type": "execute_result"
    }
   ],
   "source": [
    "monotoneIncreasingDigits(332)"
   ]
  },
  {
   "cell_type": "code",
   "execution_count": 5,
   "metadata": {},
   "outputs": [
    {
     "data": {
      "text/plain": [
       "333"
      ]
     },
     "execution_count": 5,
     "metadata": {},
     "output_type": "execute_result"
    }
   ],
   "source": [
    "monotoneIncreasingDigits(333)"
   ]
  },
  {
   "cell_type": "code",
   "execution_count": null,
   "metadata": {},
   "outputs": [],
   "source": []
  }
 ],
 "metadata": {
  "kernelspec": {
   "display_name": "Python 3",
   "language": "python",
   "name": "python3"
  },
  "language_info": {
   "codemirror_mode": {
    "name": "ipython",
    "version": 3
   },
   "file_extension": ".py",
   "mimetype": "text/x-python",
   "name": "python",
   "nbconvert_exporter": "python",
   "pygments_lexer": "ipython3",
   "version": "3.6.5"
  }
 },
 "nbformat": 4,
 "nbformat_minor": 2
}
