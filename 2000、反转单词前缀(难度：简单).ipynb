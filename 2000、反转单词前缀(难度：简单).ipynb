{
 "cells": [
  {
   "cell_type": "markdown",
   "metadata": {},
   "source": [
    "# 反转单词前缀\n",
    "\n",
    "**题目来源：力扣（LeetCode）**\n",
    "\n",
    "**链接：https://leetcode-cn.com/problems/reverse-prefix-of-word/**\n",
    "\n",
    "## 一、题目\n",
    "\n",
    "给你一个下标从 0 开始的字符串 word 和一个字符 ch 。找出 ch 第一次出现的下标 i ，反转 word 中从下标 0 开始、直到下标 i 结束（含下标 i ）的那段字符。如果 word 中不存在字符 ch ，则无需进行任何操作。\n",
    "\n",
    "- 例如，如果 word = \"abcdefd\" 且 ch = \"d\" ，那么你应该 反转 从下标 0 开始、直到下标 3 结束（含下标 3 ）。结果字符串将会是 \"dcbaefd\" 。\n",
    "\n",
    "返回 结果字符串 。\n",
    "\n",
    "### 提示：\n",
    "\n",
    "- 1 <= word.length <= 250\n",
    "- word 由小写英文字母组成\n",
    "- ch 是一个小写英文字母\n",
    "\n",
    "## 二、示例\n",
    "\n",
    "### 示例 1：\n",
    "\n",
    "输入：word = \"abcdefd\", ch = \"d\"\n",
    "\n",
    "输出：\"dcbaefd\"\n",
    "\n",
    "解释：\"d\" 第一次出现在下标 3 。 反转从下标 0 到下标 3（含下标 3）的这段字符，结果字符串是 \"dcbaefd\" 。\n",
    "\n",
    "### 示例 2：\n",
    "\n",
    "输入：word = \"xyxzxe\", ch = \"z\"\n",
    "\n",
    "输出：\"zxyxxe\"\n",
    "\n",
    "解释：\"z\" 第一次也是唯一一次出现是在下标 3 。反转从下标 0 到下标 3（含下标 3）的这段字符，结果字符串是 \"zxyxxe\" 。\n",
    "\n",
    "### 示例 3：\n",
    "\n",
    "输入：word = \"abcd\", ch = \"z\"\n",
    "\n",
    "输出：\"abcd\"\n",
    "\n",
    "解释：\"z\" 不存在于 word 中。无需执行反转操作，结果字符串是 \"abcd\" 。\n",
    "\n",
    "## 三、解题思路\n",
    "\n",
    "### 遍历搜索"
   ]
  },
  {
   "cell_type": "code",
   "execution_count": 1,
   "metadata": {},
   "outputs": [],
   "source": [
    "def reversePrefix(word: str, ch: str) -> str:\n",
    "    index = -1\n",
    "    for i in range(len(word)):\n",
    "        if word[i] == ch:\n",
    "            index = i\n",
    "            break\n",
    "    return \"\".join(word[:index+1][::-1] + word[index+1:]) if index >= 0 else word"
   ]
  },
  {
   "cell_type": "code",
   "execution_count": 2,
   "metadata": {},
   "outputs": [
    {
     "data": {
      "text/plain": [
       "'dcbaefd'"
      ]
     },
     "execution_count": 2,
     "metadata": {},
     "output_type": "execute_result"
    }
   ],
   "source": [
    "reversePrefix(word = \"abcdefd\", ch = \"d\")"
   ]
  },
  {
   "cell_type": "code",
   "execution_count": 3,
   "metadata": {},
   "outputs": [
    {
     "data": {
      "text/plain": [
       "'zxyxxe'"
      ]
     },
     "execution_count": 3,
     "metadata": {},
     "output_type": "execute_result"
    }
   ],
   "source": [
    "reversePrefix(word = \"xyxzxe\", ch = \"z\")"
   ]
  },
  {
   "cell_type": "code",
   "execution_count": 4,
   "metadata": {},
   "outputs": [
    {
     "data": {
      "text/plain": [
       "'abcd'"
      ]
     },
     "execution_count": 4,
     "metadata": {},
     "output_type": "execute_result"
    }
   ],
   "source": [
    "reversePrefix(word = \"abcd\", ch = \"z\")"
   ]
  },
  {
   "cell_type": "code",
   "execution_count": null,
   "metadata": {},
   "outputs": [],
   "source": []
  }
 ],
 "metadata": {
  "kernelspec": {
   "display_name": "Python 3",
   "language": "python",
   "name": "python3"
  },
  "language_info": {
   "codemirror_mode": {
    "name": "ipython",
    "version": 3
   },
   "file_extension": ".py",
   "mimetype": "text/x-python",
   "name": "python",
   "nbconvert_exporter": "python",
   "pygments_lexer": "ipython3",
   "version": "3.6.5"
  }
 },
 "nbformat": 4,
 "nbformat_minor": 2
}
