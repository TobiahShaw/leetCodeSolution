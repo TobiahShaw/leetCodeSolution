{
  "cells": [
    {
      "metadata": {
        "collapsed": true
      },
      "cell_type": "markdown",
      "source": "# 0～n-1中缺失的数字\n\n**题目来源：力扣（LeetCode）**\n\n**链接：https://leetcode-cn.com/problems/que-shi-de-shu-zi-lcof/**\n\n## 一、题目\n\n一个长度为n-1的递增排序数组中的所有数字都是唯一的，并且每个数字都在范围0～n-1之内。\n\n在范围0～n-1内的n个数字中有且只有一个数字不在该数组中，请找出这个数字。\n\n## 二、示例\n\n### 示例 1：\n\n输入: [0,1,3]\n\n输出: 2\n\n### 示例 2：\n\n输入: [0,1,2,3,4,5,6,7,9]\n\n输出: 8\n\n## 三、解题思路\n\n### 做差\n\n求出完整数列和当前数列元素和只差即可。"
    },
    {
      "metadata": {
        "trusted": true
      },
      "cell_type": "code",
      "source": "def missingNumber(nums):\n    return (0 + len(nums) + 1) * len(nums) // 2 - sum(nums)",
      "execution_count": 1,
      "outputs": []
    },
    {
      "metadata": {
        "trusted": true
      },
      "cell_type": "code",
      "source": "missingNumber([0,1,3])",
      "execution_count": 2,
      "outputs": [
        {
          "output_type": "execute_result",
          "execution_count": 2,
          "data": {
            "text/plain": "2"
          },
          "metadata": {}
        }
      ]
    },
    {
      "metadata": {
        "trusted": true
      },
      "cell_type": "code",
      "source": "missingNumber([0,1,2,3,4,5,6,7,9])",
      "execution_count": 3,
      "outputs": [
        {
          "output_type": "execute_result",
          "execution_count": 3,
          "data": {
            "text/plain": "8"
          },
          "metadata": {}
        }
      ]
    },
    {
      "metadata": {
        "trusted": true
      },
      "cell_type": "code",
      "source": "",
      "execution_count": null,
      "outputs": []
    }
  ],
  "metadata": {
    "kernelspec": {
      "name": "python36",
      "display_name": "Python 3.6",
      "language": "python"
    },
    "language_info": {
      "mimetype": "text/x-python",
      "nbconvert_exporter": "python",
      "name": "python",
      "pygments_lexer": "ipython3",
      "version": "3.6.6",
      "file_extension": ".py",
      "codemirror_mode": {
        "version": 3,
        "name": "ipython"
      }
    }
  },
  "nbformat": 4,
  "nbformat_minor": 2
}