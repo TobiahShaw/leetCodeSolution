{
 "cells": [
  {
   "cell_type": "markdown",
   "metadata": {},
   "source": [
    "# 猜数字游戏\n",
    "\n",
    "**题目来源：力扣（LeetCode）**\n",
    "\n",
    "**链接：https://leetcode-cn.com/problems/bulls-and-cows/**\n",
    "\n",
    "## 一、题目\n",
    "\n",
    "你在和朋友一起玩 猜数字（Bulls and Cows）游戏，该游戏规则如下：\n",
    "\n",
    "写出一个秘密数字，并请朋友猜这个数字是多少。朋友每猜测一次，你就会给他一个包含下述信息的提示：\n",
    "\n",
    "- 猜测数字中有多少位属于数字和确切位置都猜对了（称为 \"Bulls\", 公牛），\n",
    "- 有多少位属于数字猜对了但是位置不对（称为 \"Cows\", 奶牛）。也就是说，这次猜测中有多少位非公牛数字可以通过重新排列转换成公牛数字。\n",
    "\n",
    "给你一个秘密数字 secret 和朋友猜测的数字 guess ，请你返回对朋友这次猜测的提示。\n",
    "\n",
    "提示的格式为 \"xAyB\" ，x 是公牛个数， y 是奶牛个数，A 表示公牛，B 表示奶牛。\n",
    "\n",
    "请注意秘密数字和朋友猜测的数字都可能含有重复数字。\n",
    "\n",
    "### 提示：\n",
    "\n",
    "- 1 <= secret.length, guess.length <= 1000\n",
    "- secret.length == guess.length\n",
    "- secret 和 guess 仅由数字组成\n",
    "\n",
    "## 二、示例\n",
    "\n",
    "### 示例 1：\n",
    "\n",
    "输入: secret = \"1807\", guess = \"7810\"\n",
    "\n",
    "输出: \"1A3B\"\n",
    "\n",
    "解释: 数字和位置都对（公牛）用 '|' 连接，数字猜对位置不对（奶牛）的采用斜体加粗标识。\n",
    "\n",
    "```\n",
    "\"1807\"\n",
    "  |\n",
    "\"7810\"\n",
    "```\n",
    "\n",
    "### 示例 2:\n",
    "\n",
    "输入: secret = \"1123\", guess = \"0111\"\n",
    "\n",
    "输出: \"1A1B\"\n",
    "\n",
    "解释: 数字和位置都对（公牛）用 '|' 连接，数字猜对位置不对（奶牛）的采用斜体加粗标识。\n",
    "\n",
    "```\n",
    "\"1123\"        \"1123\"\n",
    "  |      or     |\n",
    "\"0111\"        \"0111\"\n",
    "```\n",
    "\n",
    "注意，两个不匹配的 1 中，只有一个会算作奶牛（数字猜对位置不对）。通过重新排列非公牛数字，其中仅有一个 1 可以成为公牛数字。\n",
    "\n",
    "### 示例 3：\n",
    "\n",
    "输入：secret = \"1\", guess = \"0\"\n",
    "\n",
    "输出：\"0A0B\"\n",
    "\n",
    "### 示例 4：\n",
    "\n",
    "输入：secret = \"1\", guess = \"1\"\n",
    "\n",
    "输出：\"1A0B\"\n",
    "\n",
    "## 三、解题思路\n",
    "\n",
    "### 利用字典"
   ]
  },
  {
   "cell_type": "code",
   "execution_count": 1,
   "metadata": {},
   "outputs": [],
   "source": [
    "def getHint(secret: str, guess: str) -> str:\n",
    "    cntA, cntB = 0, 0\n",
    "    dicS, dicG = {}, {}\n",
    "    n = len(secret)\n",
    "    for i in range(n):\n",
    "        if secret[i] == guess[i]:\n",
    "            cntA += 1\n",
    "            continue\n",
    "        dicS[secret[i]] = dicS.get(secret[i], 0) + 1\n",
    "        dicG[guess[i]] = dicG.get(guess[i], 0) + 1\n",
    "    for key in dicS.keys():\n",
    "        cntB += min(dicS[key], dicG.get(key, 0))\n",
    "    return \"{}A{}B\".format(cntA, cntB)"
   ]
  },
  {
   "cell_type": "code",
   "execution_count": 2,
   "metadata": {},
   "outputs": [
    {
     "data": {
      "text/plain": [
       "'1A3B'"
      ]
     },
     "execution_count": 2,
     "metadata": {},
     "output_type": "execute_result"
    }
   ],
   "source": [
    "getHint(secret = \"1807\", guess = \"7810\")"
   ]
  },
  {
   "cell_type": "code",
   "execution_count": 3,
   "metadata": {},
   "outputs": [
    {
     "data": {
      "text/plain": [
       "'1A1B'"
      ]
     },
     "execution_count": 3,
     "metadata": {},
     "output_type": "execute_result"
    }
   ],
   "source": [
    "getHint(secret = \"1123\", guess = \"0111\")"
   ]
  },
  {
   "cell_type": "code",
   "execution_count": 4,
   "metadata": {},
   "outputs": [
    {
     "data": {
      "text/plain": [
       "'0A0B'"
      ]
     },
     "execution_count": 4,
     "metadata": {},
     "output_type": "execute_result"
    }
   ],
   "source": [
    "getHint(secret = \"1\", guess = \"0\")"
   ]
  },
  {
   "cell_type": "code",
   "execution_count": 5,
   "metadata": {},
   "outputs": [
    {
     "data": {
      "text/plain": [
       "'1A0B'"
      ]
     },
     "execution_count": 5,
     "metadata": {},
     "output_type": "execute_result"
    }
   ],
   "source": [
    "getHint(secret = \"1\", guess = \"1\")"
   ]
  },
  {
   "cell_type": "code",
   "execution_count": null,
   "metadata": {},
   "outputs": [],
   "source": []
  }
 ],
 "metadata": {
  "kernelspec": {
   "display_name": "Python 3",
   "language": "python",
   "name": "python3"
  },
  "language_info": {
   "codemirror_mode": {
    "name": "ipython",
    "version": 3
   },
   "file_extension": ".py",
   "mimetype": "text/x-python",
   "name": "python",
   "nbconvert_exporter": "python",
   "pygments_lexer": "ipython3",
   "version": "3.6.5"
  }
 },
 "nbformat": 4,
 "nbformat_minor": 2
}
