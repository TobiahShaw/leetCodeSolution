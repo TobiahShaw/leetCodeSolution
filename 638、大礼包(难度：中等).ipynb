{
 "cells": [
  {
   "cell_type": "markdown",
   "metadata": {},
   "source": [
    "# 大礼包\n",
    "\n",
    "**题目来源：力扣（LeetCode）**\n",
    "\n",
    "**链接：https://leetcode-cn.com/problems/shopping-offers/**\n",
    "\n",
    "## 一、题目\n",
    "\n",
    "在 LeetCode 商店中， 有 n 件在售的物品。每件物品都有对应的价格。然而，也有一些大礼包，每个大礼包以优惠的价格捆绑销售一组物品。\n",
    "\n",
    "给你一个整数数组 price 表示物品价格，其中 price[i] 是第 i 件物品的价格。另有一个整数数组 needs 表示购物清单，其中 needs[i] 是需要购买第 i 件物品的数量。\n",
    "\n",
    "还有一个数组 special 表示大礼包，special[i] 的长度为 n + 1 ，其中 special[i][j] 表示第 i 个大礼包中内含第 j 件物品的数量，且 special[i][n] （也就是数组中的最后一个整数）为第 i 个大礼包的价格。\n",
    "\n",
    "返回 确切 满足购物清单所需花费的最低价格，你可以充分利用大礼包的优惠活动。你不能购买超出购物清单指定数量的物品，即使那样会降低整体价格。任意大礼包可无限次购买。\n",
    "\n",
    "### 提示：\n",
    "\n",
    "- n == price.length\n",
    "- n == needs.length\n",
    "- 1 <= n <= 6\n",
    "- 0 <= price[i] <= 10\n",
    "- 0 <= needs[i] <= 10\n",
    "- 1 <= special.length <= 100\n",
    "- special[i].length == n + 1\n",
    "- 0 <= special[i][j] <= 50\n",
    "\n",
    "## 二、示例\n",
    "\n",
    "### 示例 1：\n",
    "\n",
    "输入：price = [2,5], special = [[3,0,5],[1,2,10]], needs = [3,2]\n",
    "\n",
    "输出：14\n",
    "\n",
    "解释：有 A 和 B 两种物品，价格分别为 ¥2 和 ¥5 。 大礼包 1 ，你可以以 ¥5 的价格购买 3A 和 0B 。 大礼包 2 ，你可以以 ¥10 的价格购买 1A 和 2B 。 需要购买 3 个 A 和 2 个 B ， 所以付 ¥10 购买 1A 和 2B（大礼包 2），以及 ¥4 购买 2A 。\n",
    "\n",
    "### 示例 2：\n",
    "\n",
    "输入：price = [2,3,4], special = [[1,1,0,4],[2,2,1,9]], needs = [1,2,1]\n",
    "\n",
    "输出：11\n",
    "\n",
    "解释：A ，B ，C 的价格分别为 ¥2 ，¥3 ，¥4 。可以用 ¥4 购买 1A 和 1B ，也可以用 ¥9 购买 2A ，2B 和 1C 。 需要买 1A ，2B 和 1C ，所以付 ¥4 买 1A 和 1B（大礼包 1），以及 ¥3 购买 1B ， ¥4 购买 1C 。 不可以购买超出待购清单的物品，尽管购买大礼包 2 更加便宜。\n",
    "\n",
    "## 三、解题思路\n",
    "\n",
    "### DFS"
   ]
  },
  {
   "cell_type": "code",
   "execution_count": 1,
   "metadata": {},
   "outputs": [],
   "source": [
    "def shoppingOffers(price, special, needs) -> int:\n",
    "    from functools import lru_cache\n",
    "    n = len(price)\n",
    "\n",
    "    # 过滤不需要计算的大礼包，只保留需要计算的大礼包\n",
    "    filter_special = []\n",
    "    for sp in special:\n",
    "        if sum(sp[i] for i in range(n)) > 0 and sum(sp[i] * price[i] for i in range(n)) > sp[-1]:\n",
    "            filter_special.append(sp)\n",
    "\n",
    "    # 记忆化搜索计算满足购物清单所需花费的最低价格\n",
    "    @lru_cache(None)\n",
    "    def dfs(cur_needs):\n",
    "        # 不购买任何大礼包，原价购买购物清单中的所有物品\n",
    "        min_price = sum(need * price[i] for i, need in enumerate(cur_needs))\n",
    "        for cur_special in filter_special:\n",
    "            special_price = cur_special[-1]\n",
    "            nxt_needs = []\n",
    "            for i in range(n):\n",
    "                if cur_special[i] > cur_needs[i]:  # 不能购买超出购物清单指定数量的物品\n",
    "                    break\n",
    "                nxt_needs.append(cur_needs[i] - cur_special[i])\n",
    "            if len(nxt_needs) == n:  # 大礼包可以购买\n",
    "                min_price = min(min_price, dfs(tuple(nxt_needs)) + special_price)\n",
    "        return min_price\n",
    "\n",
    "    return dfs(tuple(needs))"
   ]
  },
  {
   "cell_type": "code",
   "execution_count": 2,
   "metadata": {},
   "outputs": [
    {
     "data": {
      "text/plain": [
       "14"
      ]
     },
     "execution_count": 2,
     "metadata": {},
     "output_type": "execute_result"
    }
   ],
   "source": [
    "shoppingOffers(price = [2,5], special = [[3,0,5],[1,2,10]], needs = [3,2])"
   ]
  },
  {
   "cell_type": "code",
   "execution_count": 3,
   "metadata": {},
   "outputs": [
    {
     "data": {
      "text/plain": [
       "11"
      ]
     },
     "execution_count": 3,
     "metadata": {},
     "output_type": "execute_result"
    }
   ],
   "source": [
    "shoppingOffers(price = [2,3,4], special = [[1,1,0,4],[2,2,1,9]], needs = [1,2,1])"
   ]
  },
  {
   "cell_type": "code",
   "execution_count": null,
   "metadata": {},
   "outputs": [],
   "source": []
  }
 ],
 "metadata": {
  "kernelspec": {
   "display_name": "Python 3",
   "language": "python",
   "name": "python3"
  },
  "language_info": {
   "codemirror_mode": {
    "name": "ipython",
    "version": 3
   },
   "file_extension": ".py",
   "mimetype": "text/x-python",
   "name": "python",
   "nbconvert_exporter": "python",
   "pygments_lexer": "ipython3",
   "version": "3.6.5"
  }
 },
 "nbformat": 4,
 "nbformat_minor": 2
}
