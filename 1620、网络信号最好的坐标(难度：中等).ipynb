{
 "cells": [
  {
   "cell_type": "markdown",
   "metadata": {},
   "source": [
    "# 网络信号最好的坐标\n",
    "\n",
    "**题目来源：力扣（LeetCode）**\n",
    "\n",
    "**链接：https://leetcode.cn/problems/coordinate-with-maximum-network-quality/**\n",
    "\n",
    "## 一、题目\n",
    "\n",
    "给你一个数组 towers 和一个整数 radius 。\n",
    "\n",
    "数组  towers  中包含一些网络信号塔，其中 towers[i] = [xi, yi, qi] 表示第 i 个网络信号塔的坐标是 (xi, yi) 且信号强度参数为 qi 。所有坐标都是在  X-Y 坐标系内的 整数 坐标。两个坐标之间的距离用 欧几里得距离 计算。\n",
    "\n",
    "整数 radius 表示一个塔 能到达 的 最远距离 。如果一个坐标跟塔的距离在 radius 以内，那么该塔的信号可以到达该坐标。在这个范围以外信号会很微弱，所以 radius 以外的距离该塔是 不能到达的 。\n",
    "\n",
    "如果第 i 个塔能到达 (x, y) ，那么该塔在此处的信号为 ⌊qi / (1 + d)⌋ ，其中 d 是塔跟此坐标的距离。一个坐标的 信号强度 是所有 能到达 该坐标的塔的信号强度之和。\n",
    "\n",
    "请你返回数组 [cx, cy] ，表示 信号强度 最大的 整数 坐标点 (cx, cy) 。如果有多个坐标网络信号一样大，请你返回字典序最小的 非负 坐标。\n",
    "\n",
    "### 注意：\n",
    "\n",
    "- 坐标 (x1, y1) 字典序比另一个坐标 (x2, y2) 小，需满足以下条件之一：\n",
    "- 要么 x1 < x2 ，\n",
    "- 要么 x1 == x2 且 y1 < y2 。\n",
    "- ⌊val⌋ 表示小于等于 val 的最大整数（向下取整函数）。\n",
    "\n",
    "### 提示：\n",
    "\n",
    "- 1 <= towers.length <= 50\n",
    "- towers[i].length == 3\n",
    "- 0 <= xi, yi, qi <= 50\n",
    "- 1 <= radius <= 50\n",
    "\n",
    "## 二、示例\n",
    "\n",
    "### 示例 1：\n",
    "\n",
    "输入：towers = [[1,2,5],[2,1,7],[3,1,9]], radius = 2\n",
    "\n",
    "输出：[2,1]\n",
    "\n",
    "解释：\n",
    "\n",
    "坐标 (2, 1) 信号强度之和为 13\n",
    "\n",
    "- 塔 (2, 1) 强度参数为 7 ，在该点强度为 ⌊7 / (1 + sqrt(0)⌋ = ⌊7⌋ = 7\n",
    "- 塔 (1, 2) 强度参数为 5 ，在该点强度为 ⌊5 / (1 + sqrt(2)⌋ = ⌊2.07⌋ = 2\n",
    "- 塔 (3, 1) 强度参数为 9 ，在该点强度为 ⌊9 / (1 + sqrt(1)⌋ = ⌊4.5⌋ = 4\n",
    "\n",
    "没有别的坐标有更大的信号强度。\n",
    "\n",
    "### 示例 2：\n",
    "\n",
    "输入：towers = [[23,11,21]], radius = 9\n",
    "\n",
    "输出：[23,11]\n",
    "\n",
    "解释：由于仅存在一座信号塔，所以塔的位置信号强度最大。\n",
    "\n",
    "### 示例 3：\n",
    "\n",
    "输入：towers = [[1,2,13],[2,1,7],[0,1,9]], radius = 2\n",
    "\n",
    "输出：[1,2]\n",
    "\n",
    "解释：坐标 (1, 2) 的信号强度最大。\n",
    "\n",
    "## 三、解题思路\n",
    "\n",
    "### 一、暴力法"
   ]
  },
  {
   "cell_type": "code",
   "execution_count": 1,
   "metadata": {},
   "outputs": [],
   "source": [
    "class Solution:\n",
    "    def bestCoordinate(self, towers, radius: int):\n",
    "        x_max = max(t[0] for t in towers)\n",
    "        y_max = max(t[1] for t in towers)\n",
    "        cx = cy = max_quality = 0\n",
    "        for x in range(x_max + 1):\n",
    "            for y in range(y_max + 1):\n",
    "                quality = 0\n",
    "                for tx, ty, q in towers:\n",
    "                    d = (x - tx) ** 2 + (y - ty) ** 2\n",
    "                    if d <= radius ** 2:\n",
    "                        quality += int(q / (1 + d ** 0.5))\n",
    "                if quality > max_quality:\n",
    "                    cx, cy, max_quality = x, y, quality\n",
    "        return [cx, cy]"
   ]
  },
  {
   "cell_type": "code",
   "execution_count": 2,
   "metadata": {},
   "outputs": [
    {
     "data": {
      "text/plain": [
       "[2, 1]"
      ]
     },
     "execution_count": 2,
     "metadata": {},
     "output_type": "execute_result"
    }
   ],
   "source": [
    "s = Solution()\n",
    "s.bestCoordinate(towers = [[1,2,5],[2,1,7],[3,1,9]], radius = 2)"
   ]
  },
  {
   "cell_type": "code",
   "execution_count": 3,
   "metadata": {},
   "outputs": [
    {
     "data": {
      "text/plain": [
       "[23, 11]"
      ]
     },
     "execution_count": 3,
     "metadata": {},
     "output_type": "execute_result"
    }
   ],
   "source": [
    "s.bestCoordinate(towers = [[23,11,21]], radius = 9)"
   ]
  },
  {
   "cell_type": "code",
   "execution_count": 4,
   "metadata": {},
   "outputs": [
    {
     "data": {
      "text/plain": [
       "[1, 2]"
      ]
     },
     "execution_count": 4,
     "metadata": {},
     "output_type": "execute_result"
    }
   ],
   "source": [
    "s.bestCoordinate(towers = [[1,2,13],[2,1,7],[0,1,9]], radius = 2)"
   ]
  },
  {
   "cell_type": "code",
   "execution_count": null,
   "metadata": {},
   "outputs": [],
   "source": []
  }
 ],
 "metadata": {
  "kernelspec": {
   "display_name": "Python 3.10.4 64-bit",
   "language": "python",
   "name": "python3"
  },
  "language_info": {
   "codemirror_mode": {
    "name": "ipython",
    "version": 3
   },
   "file_extension": ".py",
   "mimetype": "text/x-python",
   "name": "python",
   "nbconvert_exporter": "python",
   "pygments_lexer": "ipython3",
   "version": "3.10.4"
  },
  "orig_nbformat": 4,
  "vscode": {
   "interpreter": {
    "hash": "4f946df053fbf2b937619d3c5458e7af74262f9a954d8797ba0b27400bcafe06"
   }
  }
 },
 "nbformat": 4,
 "nbformat_minor": 2
}
