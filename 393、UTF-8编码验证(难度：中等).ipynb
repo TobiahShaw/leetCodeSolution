{
 "cells": [
  {
   "cell_type": "markdown",
   "metadata": {},
   "source": [
    "# UTF-8编码验证\n",
    "\n",
    "**题目来源：力扣（LeetCode）**\n",
    "\n",
    "**链接：https://leetcode-cn.com/problems/utf-8-validation/**\n",
    "\n",
    "## 一、题目\n",
    "\n",
    "给定一个表示数据的整数数组 data ，返回它是否为有效的 UTF-8 编码。\n",
    "\n",
    "UTF-8 中的一个字符可能的长度为 1 到 4 字节，遵循以下的规则：\n",
    "\n",
    "- 对于 1 字节 的字符，字节的第一位设为 0 ，后面 7 位为这个符号的 unicode 码。\n",
    "- 对于 n 字节 的字符 (n > 1)，第一个字节的前 n 位都设为1，第 n+1 位设为 0 ，后面字节的前两位一律设为 10 。剩下的没有提及的二进制位，全部为这个符号的 unicode 码。\n",
    "\n",
    "这是 UTF-8 编码的工作方式：\n",
    "\n",
    "```\n",
    "  Char. number range   |        UTF-8 octet sequence\n",
    "      (hexadecimal)    |              (binary)\n",
    "   --------------------+---------------------------------------------\n",
    "   0000 0000-0000 007F | 0xxxxxxx\n",
    "   0000 0080-0000 07FF | 110xxxxx 10xxxxxx\n",
    "   0000 0800-0000 FFFF | 1110xxxx 10xxxxxx 10xxxxxx\n",
    "   0001 0000-0010 FFFF | 11110xxx 10xxxxxx 10xxxxxx 10xxxxxx\n",
    "```\n",
    "\n",
    "### 注意：\n",
    "\n",
    "输入是整数数组。只有每个整数的 最低 8 个有效位 用来存储数据。这意味着每个整数只表示 1 字节的数据。\n",
    "\n",
    "### 提示:\n",
    "\n",
    "- 1 <= data.length <= 2 * 10^4\n",
    "- 0 <= data[i] <= 255\n",
    "\n",
    "## 二、示例\n",
    "\n",
    "### 示例 1：\n",
    "\n",
    "输入：data = [197,130,1]\n",
    "\n",
    "输出：true\n",
    "\n",
    "解释：\n",
    "\n",
    "数据表示字节序列:11000101 10000010 00000001。\n",
    "\n",
    "这是有效的 utf-8 编码，为一个 2 字节字符，跟着一个 1 字节字符。\n",
    "\n",
    "### 示例 2：\n",
    "\n",
    "输入：data = [235,140,4]\n",
    "\n",
    "输出：false\n",
    "\n",
    "解释：\n",
    "数据表示 8 位的序列: 11101011 10001100 00000100.\n",
    "\n",
    "前 3 位都是 1 ，第 4 位为 0 表示它是一个 3 字节字符。\n",
    "\n",
    "下一个字节是开头为 10 的延续字节，这是正确的。\n",
    "\n",
    "但第二个延续字节不以 10 开头，所以是不符合规则的。\n",
    "\n",
    "## 三、解题思路\n",
    "\n",
    "### 遍历"
   ]
  },
  {
   "cell_type": "code",
   "execution_count": 1,
   "metadata": {},
   "outputs": [],
   "source": [
    "def validUtf8(data) -> bool:\n",
    "    MASK1, MASK2 = 1 << 7, (1 << 7) | (1 << 6)\n",
    "\n",
    "    def getBytes(num: int) -> int:\n",
    "        if (num & MASK1) == 0:\n",
    "            return 1\n",
    "        n, mask = 0, MASK1\n",
    "        while num & mask:\n",
    "            n += 1\n",
    "            if n > 4:\n",
    "                return -1\n",
    "            mask >>= 1\n",
    "        return n if n >= 2 else -1\n",
    "    \n",
    "    index, m = 0, len(data)\n",
    "    while index < m:\n",
    "        n = getBytes(data[index])\n",
    "        if n < 0 or index + n > m or any((ch & MASK2) != MASK1 for ch in data[index + 1: index + n]):\n",
    "            return False\n",
    "        index += n\n",
    "    return True"
   ]
  },
  {
   "cell_type": "code",
   "execution_count": 2,
   "metadata": {},
   "outputs": [
    {
     "data": {
      "text/plain": [
       "True"
      ]
     },
     "execution_count": 2,
     "metadata": {},
     "output_type": "execute_result"
    }
   ],
   "source": [
    "validUtf8([197,130,1])"
   ]
  },
  {
   "cell_type": "code",
   "execution_count": 3,
   "metadata": {},
   "outputs": [
    {
     "data": {
      "text/plain": [
       "False"
      ]
     },
     "execution_count": 3,
     "metadata": {},
     "output_type": "execute_result"
    }
   ],
   "source": [
    "validUtf8([235,140,4])"
   ]
  },
  {
   "cell_type": "code",
   "execution_count": null,
   "metadata": {},
   "outputs": [],
   "source": []
  }
 ],
 "metadata": {
  "kernelspec": {
   "display_name": "Python 3",
   "language": "python",
   "name": "python3"
  },
  "language_info": {
   "codemirror_mode": {
    "name": "ipython",
    "version": 3
   },
   "file_extension": ".py",
   "mimetype": "text/x-python",
   "name": "python",
   "nbconvert_exporter": "python",
   "pygments_lexer": "ipython3",
   "version": "3.6.5"
  }
 },
 "nbformat": 4,
 "nbformat_minor": 2
}
