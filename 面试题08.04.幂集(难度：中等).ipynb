{
 "cells": [
  {
   "cell_type": "markdown",
   "metadata": {},
   "source": [
    "# 幂集\n",
    "\n",
    "**题目来源：力扣（LeetCode）**\n",
    "\n",
    "**链接：https://leetcode-cn.com/problems/power-set-lcci/**\n",
    "\n",
    "## 一、题目\n",
    "\n",
    "幂集。编写一种方法，返回某集合的所有子集。集合中不包含重复的元素。\n",
    "\n",
    "说明：解集不能包含重复的子集。\n",
    "\n",
    "## 二、示例\n",
    "\n",
    "输入： nums = [1,2,3]\n",
    "\n",
    "输出：\n",
    " \n",
    "```\n",
    "[\n",
    "  [3],\n",
    "  [1],\n",
    "  [2],\n",
    "  [1,2,3],\n",
    "  [1,3],\n",
    "  [2,3],\n",
    "  [1,2],\n",
    "  []\n",
    "]\n",
    "```\n",
    "\n",
    "## 三、解题思路\n",
    "\n",
    "### 回溯法"
   ]
  },
  {
   "cell_type": "code",
   "execution_count": 1,
   "metadata": {},
   "outputs": [],
   "source": [
    "def subsets(nums):\n",
    "    def backtrace(i, item, result):\n",
    "        if i == len(nums):\n",
    "            result.append(item[:])\n",
    "            return\n",
    "        item.append(nums[i])\n",
    "        backtrace(i+1, item, result)\n",
    "        item.pop()\n",
    "        backtrace(i+1, item, result)\n",
    "    result = []\n",
    "    backtrace(0, [], result)\n",
    "    return result"
   ]
  },
  {
   "cell_type": "code",
   "execution_count": 2,
   "metadata": {},
   "outputs": [
    {
     "data": {
      "text/plain": [
       "[[1, 2, 3], [1, 2], [1, 3], [1], [2, 3], [2], [3], []]"
      ]
     },
     "execution_count": 2,
     "metadata": {},
     "output_type": "execute_result"
    }
   ],
   "source": [
    "subsets([1, 2, 3])"
   ]
  },
  {
   "cell_type": "code",
   "execution_count": null,
   "metadata": {},
   "outputs": [],
   "source": []
  }
 ],
 "metadata": {
  "kernelspec": {
   "display_name": "Python 3",
   "language": "python",
   "name": "python3"
  },
  "language_info": {
   "codemirror_mode": {
    "name": "ipython",
    "version": 3
   },
   "file_extension": ".py",
   "mimetype": "text/x-python",
   "name": "python",
   "nbconvert_exporter": "python",
   "pygments_lexer": "ipython3",
   "version": "3.6.5"
  }
 },
 "nbformat": 4,
 "nbformat_minor": 2
}
