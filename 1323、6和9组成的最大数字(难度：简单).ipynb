{
  "cells": [
    {
      "metadata": {
        "collapsed": true
      },
      "cell_type": "markdown",
      "source": "# 6和9组成的最大数字\n\n**题目来源：力扣（LeetCode）**\n\n**链接：https://leetcode-cn.com/problems/maximum-69-number/**\n\n## 一、题目\n\n给你一个仅由数字 6 和 9 组成的正整数 num。\n\n你最多只能翻转一位数字，将 6 变成 9，或者把 9 变成 6 。\n\n请返回你可以得到的最大数字。\n\n## 二、示例\n\n### 示例 1：\n\n输入：num = 9669\n\n输出：9969\n\n解释：\n\n改变第一位数字可以得到 6669 。\n\n改变第二位数字可以得到 9969 。\n\n改变第三位数字可以得到 9699 。\n\n改变第四位数字可以得到 9666 。\n\n其中最大的数字是 9969 。\n\n### 示例 2：\n\n输入：num = 9996\n\n输出：9999\n\n解释：将最后一位从 6 变到 9，其结果 9999 是最大的数。\n\n### 示例 3：\n\n输入：num = 9999\n\n输出：9999\n\n解释：无需改变就已经是最大的数字了。\n\n## 三、解题思路\n\n### 模拟\n\n替换数字中第一个6即可"
    },
    {
      "metadata": {
        "trusted": true
      },
      "cell_type": "code",
      "source": "def maximum69Number (num: int) -> int:\n    return int(str(num).replace('6', '9', 1)) if str(num).find('6') != -1 else num",
      "execution_count": 1,
      "outputs": []
    },
    {
      "metadata": {
        "trusted": true
      },
      "cell_type": "code",
      "source": "maximum69Number(9669)",
      "execution_count": 2,
      "outputs": [
        {
          "output_type": "execute_result",
          "execution_count": 2,
          "data": {
            "text/plain": "9969"
          },
          "metadata": {}
        }
      ]
    },
    {
      "metadata": {
        "trusted": true
      },
      "cell_type": "code",
      "source": "maximum69Number(9996)",
      "execution_count": 3,
      "outputs": [
        {
          "output_type": "execute_result",
          "execution_count": 3,
          "data": {
            "text/plain": "9999"
          },
          "metadata": {}
        }
      ]
    },
    {
      "metadata": {
        "trusted": true
      },
      "cell_type": "code",
      "source": "maximum69Number(9999)",
      "execution_count": 4,
      "outputs": [
        {
          "output_type": "execute_result",
          "execution_count": 4,
          "data": {
            "text/plain": "9999"
          },
          "metadata": {}
        }
      ]
    },
    {
      "metadata": {
        "trusted": true
      },
      "cell_type": "code",
      "source": "",
      "execution_count": null,
      "outputs": []
    }
  ],
  "metadata": {
    "kernelspec": {
      "name": "python36",
      "display_name": "Python 3.6",
      "language": "python"
    },
    "language_info": {
      "mimetype": "text/x-python",
      "nbconvert_exporter": "python",
      "name": "python",
      "pygments_lexer": "ipython3",
      "version": "3.6.6",
      "file_extension": ".py",
      "codemirror_mode": {
        "version": 3,
        "name": "ipython"
      }
    }
  },
  "nbformat": 4,
  "nbformat_minor": 2
}