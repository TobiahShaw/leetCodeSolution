{
 "cells": [
  {
   "cell_type": "markdown",
   "metadata": {
    "collapsed": true
   },
   "source": [
    "# 6和9组成的最大数字\n",
    "\n",
    "**题目来源：力扣（LeetCode）**\n",
    "\n",
    "**链接：https://leetcode-cn.com/problems/maximum-69-number/**\n",
    "\n",
    "## 一、题目\n",
    "\n",
    "给你一个仅由数字 6 和 9 组成的正整数 num。\n",
    "\n",
    "你最多只能翻转一位数字，将 6 变成 9，或者把 9 变成 6 。\n",
    "\n",
    "请返回你可以得到的最大数字。\n",
    "\n",
    "### 提示：\n",
    "\n",
    "- 1 <= num <= 10^4\n",
    "- num 每一位上的数字都是 6 或者 9 。\n",
    "\n",
    "## 二、示例\n",
    "\n",
    "### 示例 1：\n",
    "\n",
    "输入：num = 9669\n",
    "\n",
    "输出：9969\n",
    "\n",
    "解释：\n",
    "\n",
    "改变第一位数字可以得到 6669 。\n",
    "\n",
    "改变第二位数字可以得到 9969 。\n",
    "\n",
    "改变第三位数字可以得到 9699 。\n",
    "\n",
    "改变第四位数字可以得到 9666 。\n",
    "\n",
    "其中最大的数字是 9969 。\n",
    "\n",
    "### 示例 2：\n",
    "\n",
    "输入：num = 9996\n",
    "\n",
    "输出：9999\n",
    "\n",
    "解释：将最后一位从 6 变到 9，其结果 9999 是最大的数。\n",
    "\n",
    "### 示例 3：\n",
    "\n",
    "输入：num = 9999\n",
    "\n",
    "输出：9999\n",
    "\n",
    "解释：无需改变就已经是最大的数字了。\n",
    "\n",
    "## 三、解题思路\n",
    "\n",
    "### 模拟\n",
    "\n",
    "替换数字中第一个6即可"
   ]
  },
  {
   "cell_type": "code",
   "execution_count": 1,
   "metadata": {},
   "outputs": [],
   "source": [
    "def maximum69Number (num: int) -> int:\n",
    "    return int(str(num).replace('6', '9', 1)) if str(num).find('6') != -1 else num"
   ]
  },
  {
   "cell_type": "code",
   "execution_count": 2,
   "metadata": {},
   "outputs": [
    {
     "data": {
      "text/plain": [
       "9969"
      ]
     },
     "execution_count": 2,
     "metadata": {},
     "output_type": "execute_result"
    }
   ],
   "source": [
    "maximum69Number(9669)"
   ]
  },
  {
   "cell_type": "code",
   "execution_count": 3,
   "metadata": {},
   "outputs": [
    {
     "data": {
      "text/plain": [
       "9999"
      ]
     },
     "execution_count": 3,
     "metadata": {},
     "output_type": "execute_result"
    }
   ],
   "source": [
    "maximum69Number(9996)"
   ]
  },
  {
   "cell_type": "code",
   "execution_count": 4,
   "metadata": {},
   "outputs": [
    {
     "data": {
      "text/plain": [
       "9999"
      ]
     },
     "execution_count": 4,
     "metadata": {},
     "output_type": "execute_result"
    }
   ],
   "source": [
    "maximum69Number(9999)"
   ]
  },
  {
   "cell_type": "code",
   "execution_count": null,
   "metadata": {},
   "outputs": [],
   "source": []
  }
 ],
 "metadata": {
  "kernelspec": {
   "display_name": "Python 3",
   "language": "python",
   "name": "python3"
  },
  "language_info": {
   "codemirror_mode": {
    "name": "ipython",
    "version": 3
   },
   "file_extension": ".py",
   "mimetype": "text/x-python",
   "name": "python",
   "nbconvert_exporter": "python",
   "pygments_lexer": "ipython3",
   "version": "3.6.5"
  }
 },
 "nbformat": 4,
 "nbformat_minor": 2
}
