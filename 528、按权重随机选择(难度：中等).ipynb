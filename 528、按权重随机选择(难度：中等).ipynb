{
 "cells": [
  {
   "cell_type": "markdown",
   "metadata": {},
   "source": [
    "# 按权重随机选择\n",
    "\n",
    "**题目来源：力扣（LeetCode）**\n",
    "\n",
    "**链接：https://leetcode-cn.com/problems/random-pick-with-weight/**\n",
    "\n",
    "## 一、题目\n",
    "\n",
    "给定一个正整数数组 w ，其中 w[i] 代表下标 i 的权重（下标从 0 开始），请写一个函数 pickIndex ，它可以随机地获取下标 i，选取下标 i 的概率与 w[i] 成正比。\n",
    "\n",
    "例如，对于 w = [1, 3]，挑选下标 0 的概率为 1 / (1 + 3) = 0.25 （即，25%），而选取下标 1 的概率为 3 / (1 + 3) = 0.75（即，75%）。\n",
    "\n",
    "也就是说，选取下标 i 的概率为 w[i] / sum(w) 。\n",
    "\n",
    "## 二、示例\n",
    "\n",
    "### 示例 1：\n",
    "\n",
    "输入：\n",
    "\n",
    "[\"Solution\",\"pickIndex\"]\n",
    "\n",
    "[[[1]],[]]\n",
    "\n",
    "输出：[null,0]\n",
    "\n",
    "解释：\n",
    "\n",
    "```\n",
    "solution = Solution([1])\n",
    "solution.pickIndex() # 返回 0，因为数组中只有一个元素，所以唯一的选择是返回下标 0。\n",
    "```\n",
    "### 示例 2：\n",
    "\n",
    "输入：\n",
    "\n",
    "[\"Solution\",\"pickIndex\",\"pickIndex\",\"pickIndex\",\"pickIndex\",\"pickIndex\"]\n",
    "\n",
    "[[[1,3]],[],[],[],[],[]]\n",
    "\n",
    "输出：[null,1,1,1,1,0]\n",
    "\n",
    "解释：\n",
    "\n",
    "```\n",
    "solution = Solution([1, 3])\n",
    "solution.pickIndex() # 返回 1，返回下标 1，返回该下标概率为 3/4 。\n",
    "solution.pickIndex() # 返回 1\n",
    "solution.pickIndex() # 返回 1\n",
    "solution.pickIndex() # 返回 1\n",
    "solution.pickIndex() # 返回 0，返回下标 0，返回该下标概率为 1/4 。\n",
    "```\n",
    "\n",
    "由于这是一个随机问题，允许多个答案，因此下列输出都可以被认为是正确的:\n",
    "\n",
    "```\n",
    "[null,1,1,1,1,0]\n",
    "[null,1,1,1,1,1]\n",
    "[null,1,1,1,0,0]\n",
    "[null,1,1,1,0,1]\n",
    "[null,1,0,1,0,0]\n",
    "......\n",
    "```\n",
    "\n",
    "诸若此类。\n",
    "\n",
    "## 三、解题思路\n",
    "\n",
    "### 前缀和 + 二分查找"
   ]
  },
  {
   "cell_type": "code",
   "execution_count": 1,
   "metadata": {},
   "outputs": [],
   "source": [
    "import random\n",
    "import bisect\n",
    "\n",
    "class Solution:\n",
    "\n",
    "    def __init__(self, w):\n",
    "        self._preSum = []\n",
    "        self._sum = 0\n",
    "        for weight in w:\n",
    "            self._preSum.append(self._preSum[-1] + weight if self._preSum else weight)\n",
    "            self._sum += weight\n",
    "\n",
    "    def pickIndex(self) -> int:\n",
    "        rand = random.randint(1, self._sum)\n",
    "        return bisect.bisect_left(self._preSum, rand)"
   ]
  },
  {
   "cell_type": "code",
   "execution_count": 2,
   "metadata": {},
   "outputs": [
    {
     "data": {
      "text/plain": [
       "0"
      ]
     },
     "execution_count": 2,
     "metadata": {},
     "output_type": "execute_result"
    }
   ],
   "source": [
    "solution = Solution([1])\n",
    "solution.pickIndex() # 返回 0，因为数组中只有一个元素，所以唯一的选择是返回下标 0。"
   ]
  },
  {
   "cell_type": "code",
   "execution_count": 3,
   "metadata": {},
   "outputs": [
    {
     "name": "stdout",
     "output_type": "stream",
     "text": [
      "0 1 1 1 1 "
     ]
    }
   ],
   "source": [
    "solution = Solution([1, 3])\n",
    "print(solution.pickIndex(), end=' ') # 返回 1，返回下标 1，返回该下标概率为 3/4 。\n",
    "print(solution.pickIndex(), end=' ') # 返回 1\n",
    "print(solution.pickIndex(), end=' ') # 返回 1\n",
    "print(solution.pickIndex(), end=' ') # 返回 1\n",
    "print(solution.pickIndex(), end=' ') # 返回 0，返回下标 0，返回该下标概率为 1/4 。"
   ]
  },
  {
   "cell_type": "code",
   "execution_count": null,
   "metadata": {},
   "outputs": [],
   "source": []
  }
 ],
 "metadata": {
  "kernelspec": {
   "display_name": "Python 3",
   "language": "python",
   "name": "python3"
  },
  "language_info": {
   "codemirror_mode": {
    "name": "ipython",
    "version": 3
   },
   "file_extension": ".py",
   "mimetype": "text/x-python",
   "name": "python",
   "nbconvert_exporter": "python",
   "pygments_lexer": "ipython3",
   "version": "3.6.5"
  }
 },
 "nbformat": 4,
 "nbformat_minor": 2
}
