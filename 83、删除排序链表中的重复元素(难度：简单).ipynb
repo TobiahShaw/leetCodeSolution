{
  "cells": [
    {
      "metadata": {
        "collapsed": true
      },
      "cell_type": "markdown",
      "source": "# 删除排序链表中的重复元素\n\n**题目来源：力扣（LeetCode）**\n\n**链接：https://leetcode-cn.com/problems/remove-duplicates-from-sorted-list/**\n\n## 一、题目\n\n给定一个排序链表，删除所有重复的元素，使得每个元素只出现一次。\n\n## 二、示例\n\n### 示例 1:\n\n输入: 1->1->2\n\n输出: 1->2\n\n### 示例 2:\n\n输入: 1->1->2->3->3\n\n输出: 1->2->3\n\n## 解题思路"
    },
    {
      "metadata": {
        "trusted": true
      },
      "cell_type": "code",
      "source": "class ListNode:\n    def __init__(self, x):\n        self.val = x\n        self.next = None",
      "execution_count": 1,
      "outputs": []
    },
    {
      "metadata": {
        "trusted": true
      },
      "cell_type": "code",
      "source": "head = ListNode(1)\nhead.next = ListNode(1)\nhead.next.next = ListNode(2)",
      "execution_count": 2,
      "outputs": []
    },
    {
      "metadata": {
        "trusted": true
      },
      "cell_type": "code",
      "source": "head2 = ListNode(1)\nhead2.next = ListNode(1)\nhead2.next.next = ListNode(2)\nhead2.next.next.next = ListNode(3)\nhead2.next.next.next.next = ListNode(3)",
      "execution_count": 3,
      "outputs": []
    },
    {
      "metadata": {
        "trusted": true
      },
      "cell_type": "code",
      "source": "head3 = ListNode(1)\nhead3.next = ListNode(1)\nhead3.next.next = ListNode(2)",
      "execution_count": 4,
      "outputs": []
    },
    {
      "metadata": {
        "trusted": true
      },
      "cell_type": "code",
      "source": "head4 = ListNode(1)\nhead4.next = ListNode(1)\nhead4.next.next = ListNode(2)\nhead4.next.next.next = ListNode(3)\nhead4.next.next.next.next = ListNode(3)",
      "execution_count": 5,
      "outputs": []
    },
    {
      "metadata": {
        "trusted": true
      },
      "cell_type": "code",
      "source": "def printList(head):\n    while head:\n        print(head.val, end=' ')\n        head = head.next\n    print()",
      "execution_count": 6,
      "outputs": []
    },
    {
      "metadata": {},
      "cell_type": "markdown",
      "source": "### 一、利用集合\n\n此方法不要求链表的有序性"
    },
    {
      "metadata": {
        "trusted": true
      },
      "cell_type": "code",
      "source": "def deleteDuplicates(head):\n    nodeSet = set()\n    result = head\n    prev = None\n    while head:\n        if head.val in nodeSet:\n            if head.next:\n                head.val = head.next.val\n                head.next = head.next.next\n            else:\n                prev.next = None\n                head = None\n        else:\n            nodeSet.add(head.val)\n            prev = head\n            head = head.next\n    return result",
      "execution_count": 7,
      "outputs": []
    },
    {
      "metadata": {
        "trusted": true
      },
      "cell_type": "code",
      "source": "deleteDuplicates(head)\nprintList(head)",
      "execution_count": 8,
      "outputs": [
        {
          "output_type": "stream",
          "text": "1 2 \n",
          "name": "stdout"
        }
      ]
    },
    {
      "metadata": {
        "trusted": true
      },
      "cell_type": "code",
      "source": "deleteDuplicates(head2)\nprintList(head2)",
      "execution_count": 9,
      "outputs": [
        {
          "output_type": "stream",
          "text": "1 2 3 \n",
          "name": "stdout"
        }
      ]
    },
    {
      "metadata": {},
      "cell_type": "markdown",
      "source": "### 二、利用有序性"
    },
    {
      "metadata": {
        "trusted": true
      },
      "cell_type": "code",
      "source": "def deleteDuplicates(head):\n    result = head\n    prev = None\n    while head:\n        if prev and head.val == prev.val:\n            if head.next:\n                head.val = head.next.val\n                head.next = head.next.next\n            else:\n                prev.next = None\n                head = None\n        else:\n            prev = head\n            head = head.next\n    return result",
      "execution_count": 10,
      "outputs": []
    },
    {
      "metadata": {
        "trusted": true
      },
      "cell_type": "code",
      "source": "deleteDuplicates(head3)\nprintList(head3)",
      "execution_count": 11,
      "outputs": [
        {
          "output_type": "stream",
          "text": "1 2 \n",
          "name": "stdout"
        }
      ]
    },
    {
      "metadata": {
        "trusted": true
      },
      "cell_type": "code",
      "source": "deleteDuplicates(head4)\nprintList(head4)",
      "execution_count": 12,
      "outputs": [
        {
          "output_type": "stream",
          "text": "1 2 3 \n",
          "name": "stdout"
        }
      ]
    },
    {
      "metadata": {},
      "cell_type": "markdown",
      "source": "### 三、优化代码"
    },
    {
      "metadata": {
        "trusted": true
      },
      "cell_type": "code",
      "source": "def deleteDuplicates(head):\n    curr = head\n    while curr and curr.next:\n        if curr.val == curr.next.val:\n            curr.next = curr.next.next\n        else:\n            curr = curr.next\n    return head",
      "execution_count": 13,
      "outputs": []
    },
    {
      "metadata": {
        "trusted": true
      },
      "cell_type": "code",
      "source": "",
      "execution_count": null,
      "outputs": []
    }
  ],
  "metadata": {
    "kernelspec": {
      "name": "python36",
      "display_name": "Python 3.6",
      "language": "python"
    },
    "language_info": {
      "mimetype": "text/x-python",
      "nbconvert_exporter": "python",
      "name": "python",
      "pygments_lexer": "ipython3",
      "version": "3.6.6",
      "file_extension": ".py",
      "codemirror_mode": {
        "version": 3,
        "name": "ipython"
      }
    }
  },
  "nbformat": 4,
  "nbformat_minor": 2
}