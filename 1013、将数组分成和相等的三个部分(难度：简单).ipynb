{
 "cells": [
  {
   "cell_type": "markdown",
   "metadata": {},
   "source": [
    "# 将数组分成和相等的三个部分\n",
    "\n",
    "**题目来源：力扣（LeetCode）**\n",
    "\n",
    "**链接：https://leetcode-cn.com/problems/partition-array-into-three-parts-with-equal-sum/**\n",
    "\n",
    "## 一、题目\n",
    "\n",
    "给你一个整数数组 arr，只有可以将其划分为三个和相等的 非空 部分时才返回 true，否则返回 false。\n",
    "\n",
    "形式上，如果可以找出索引 i + 1 < j 且满足 (arr[0] + arr[1] + ... + arr[i] == arr[i + 1] + arr[i + 2] + ... + arr[j - 1] == arr[j] + arr[j + 1] + ... + arr[arr.length - 1]) 就可以将数组三等分。\n",
    "\n",
    "### 提示：\n",
    "\n",
    "- 3 <= arr.length <= 5 * 10^4\n",
    "- -104 <= arr[i] <= 10^4\n",
    "\n",
    "## 二、示例\n",
    "\n",
    "### 示例 1：\n",
    "\n",
    "输入：arr = [0,2,1,-6,6,-7,9,1,2,0,1]\n",
    "\n",
    "输出：true\n",
    "\n",
    "解释：0 + 2 + 1 = -6 + 6 - 7 + 9 + 1 = 2 + 0 + 1\n",
    "\n",
    "### 示例 2：\n",
    "\n",
    "输入：arr = [0,2,1,-6,6,7,9,-1,2,0,1]\n",
    "\n",
    "输出：false\n",
    "\n",
    "### 示例 3：\n",
    "\n",
    "输入：arr = [3,3,6,5,-2,2,5,1,-9,4]\n",
    "\n",
    "输出：true\n",
    "\n",
    "解释：3 + 3 = 6 = 5 - 2 + 2 + 5 + 1 - 9 + 4\n",
    "\n",
    "## 三、解题思路\n",
    "\n",
    "### 寻找分割点"
   ]
  },
  {
   "cell_type": "code",
   "execution_count": 1,
   "metadata": {},
   "outputs": [],
   "source": [
    "class Solution:\n",
    "    def canThreePartsEqualSum(self, arr) -> bool:\n",
    "        s = sum(arr)\n",
    "        if s % 3 != 0:\n",
    "            return False\n",
    "        target = s // 3\n",
    "        n, i, cur = len(arr), 0, 0\n",
    "        while i < n:\n",
    "            cur += arr[i]\n",
    "            if cur == target:\n",
    "                break\n",
    "            i += 1\n",
    "        if cur != target:\n",
    "            return False\n",
    "        j = i + 1\n",
    "        while j + 1 < n:  # 需要满足最后一个数组非空\n",
    "            cur += arr[j]\n",
    "            if cur == target * 2:\n",
    "                return True\n",
    "            j += 1\n",
    "        return False"
   ]
  },
  {
   "cell_type": "code",
   "execution_count": 2,
   "metadata": {},
   "outputs": [
    {
     "data": {
      "text/plain": [
       "True"
      ]
     },
     "execution_count": 2,
     "metadata": {},
     "output_type": "execute_result"
    }
   ],
   "source": [
    "s = Solution()\n",
    "s.canThreePartsEqualSum([0,2,1,-6,6,-7,9,1,2,0,1])"
   ]
  },
  {
   "cell_type": "code",
   "execution_count": 3,
   "metadata": {},
   "outputs": [
    {
     "data": {
      "text/plain": [
       "False"
      ]
     },
     "execution_count": 3,
     "metadata": {},
     "output_type": "execute_result"
    }
   ],
   "source": [
    "s.canThreePartsEqualSum([0,2,1,-6,6,7,9,-1,2,0,1])"
   ]
  },
  {
   "cell_type": "code",
   "execution_count": 4,
   "metadata": {},
   "outputs": [
    {
     "data": {
      "text/plain": [
       "True"
      ]
     },
     "execution_count": 4,
     "metadata": {},
     "output_type": "execute_result"
    }
   ],
   "source": [
    "s.canThreePartsEqualSum([3,3,6,5,-2,2,5,1,-9,4])"
   ]
  },
  {
   "cell_type": "code",
   "execution_count": null,
   "metadata": {},
   "outputs": [],
   "source": []
  }
 ],
 "metadata": {
  "kernelspec": {
   "display_name": "Python 3 (ipykernel)",
   "language": "python",
   "name": "python3"
  },
  "language_info": {
   "codemirror_mode": {
    "name": "ipython",
    "version": 3
   },
   "file_extension": ".py",
   "mimetype": "text/x-python",
   "name": "python",
   "nbconvert_exporter": "python",
   "pygments_lexer": "ipython3",
   "version": "3.11.0"
  }
 },
 "nbformat": 4,
 "nbformat_minor": 2
}
