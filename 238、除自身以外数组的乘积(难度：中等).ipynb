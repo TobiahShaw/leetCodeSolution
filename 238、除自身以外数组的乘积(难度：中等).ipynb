{
  "cells": [
    {
      "metadata": {
        "collapsed": true
      },
      "cell_type": "markdown",
      "source": "# 除自身以外数组的乘积\n\n**题目来源：力扣（LeetCode）**\n\n**链接：https://leetcode-cn.com/problems/product-of-array-except-self/**\n\n## 一、题目\n\n给你一个长度为 n 的整数数组 nums，其中 n > 1，返回输出数组 output ，其中 output[i] 等于 nums 中除 nums[i] 之外其余各元素的乘积。\n\n### 提示：\n\n题目数据保证数组之中任意元素的全部前缀元素和后缀（甚至是整个数组）的乘积都在 32 位整数范围内。\n\n## 二、示例\n\n输入: [1,2,3,4]\n\n输出: [24,12,8,6]\n\n## 三、说明\n\n请不要使用除法，且在 O(n) 时间复杂度内完成此题。\n\n## 四、解题思路\n\n### 使用前缀之积乘以后缀之积\n\n首先算出数组每个位置的前缀的积L\n\nL[0] = 0\n\nL[i] = L[i-1] * nums[i-1]\n\n然后算出数组每个位置的后缀之积R\n\nR[-1] = 0\n\nR[i] = R[i+1] * nums[i+1]\n\n然后用每个位置的前缀和后缀相乘得到结果"
    },
    {
      "metadata": {
        "trusted": true
      },
      "cell_type": "code",
      "source": "def productExceptSelf(nums):\n    length = len(nums)\n    L, R = [0] * length, [0] * length\n    L[0] = 1\n    R[-1] = 1\n    for i in range(1, length):\n        L[i] = L[i-1] * nums[i-1]\n    for i in range(length - 2, -1, -1):\n        R[i] = R[i+1] * nums[i+1]\n    result = []\n    for i in range(length):\n        result.append(L[i] * R[i])\n    return result",
      "execution_count": 1,
      "outputs": []
    },
    {
      "metadata": {
        "trusted": true
      },
      "cell_type": "code",
      "source": "productExceptSelf([1,2,3,4])",
      "execution_count": 2,
      "outputs": [
        {
          "output_type": "execute_result",
          "execution_count": 2,
          "data": {
            "text/plain": "[24, 12, 8, 6]"
          },
          "metadata": {}
        }
      ]
    },
    {
      "metadata": {
        "trusted": true
      },
      "cell_type": "code",
      "source": "",
      "execution_count": null,
      "outputs": []
    }
  ],
  "metadata": {
    "kernelspec": {
      "name": "python36",
      "display_name": "Python 3.6",
      "language": "python"
    },
    "language_info": {
      "mimetype": "text/x-python",
      "nbconvert_exporter": "python",
      "name": "python",
      "pygments_lexer": "ipython3",
      "version": "3.6.6",
      "file_extension": ".py",
      "codemirror_mode": {
        "version": 3,
        "name": "ipython"
      }
    }
  },
  "nbformat": 4,
  "nbformat_minor": 2
}