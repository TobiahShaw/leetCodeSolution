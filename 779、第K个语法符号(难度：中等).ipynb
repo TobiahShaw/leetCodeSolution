{
 "cells": [
  {
   "cell_type": "markdown",
   "metadata": {},
   "source": [
    "# 第K个语法符号\n",
    "\n",
    "**题目来源：力扣（LeetCode）**\n",
    "\n",
    "**链接：https://leetcode.cn/problems/k-th-symbol-in-grammar/**\n",
    "\n",
    "## 一、题目\n",
    "\n",
    "我们构建了一个包含 n 行( 索引从 1  开始 )的表。首先在第一行我们写上一个 0。接下来的每一行，将前一行中的0替换为01，1替换为10。\n",
    "\n",
    "- 例如，对于 n = 3 ，第 1 行是 0 ，第 2 行是 01 ，第3行是 0110 。\n",
    "\n",
    "给定行数 n 和序数 k，返回第 n 行中第 k 个字符。（ k 从索引 1 开始）\n",
    "\n",
    "### 提示：\n",
    "\n",
    "- 1 <= n <= 30\n",
    "- 1 <= k <= $ 2^{n - 1} $\n",
    "\n",
    "## 二、示例\n",
    "\n",
    "输入: n = 1, k = 1\n",
    "\n",
    "输出: 0\n",
    "\n",
    "解释: 第一行：0\n",
    "\n",
    "### 示例 2:\n",
    "\n",
    "输入: n = 2, k = 1\n",
    "\n",
    "输出: 0\n",
    "\n",
    "解释: \n",
    "\n",
    "第一行: 0 \n",
    "\n",
    "第二行: 01\n",
    "\n",
    "### 示例 3:\n",
    "\n",
    "输入: n = 2, k = 2\n",
    "\n",
    "输出: 1\n",
    "\n",
    "解释:\n",
    "\n",
    "第一行: 0\n",
    "\n",
    "第二行: 01\n",
    "\n",
    "## 三、解题思路"
   ]
  },
  {
   "cell_type": "code",
   "execution_count": 1,
   "metadata": {},
   "outputs": [],
   "source": [
    "class Solution:\n",
    "    def kthGrammar(self, n: int, k: int) -> int:\n",
    "        if n == 1:\n",
    "            return 0\n",
    "        return (k & 1) ^ 1 ^ self.kthGrammar(n - 1, (k + 1) // 2)"
   ]
  },
  {
   "cell_type": "code",
   "execution_count": 2,
   "metadata": {},
   "outputs": [
    {
     "data": {
      "text/plain": [
       "0"
      ]
     },
     "execution_count": 2,
     "metadata": {},
     "output_type": "execute_result"
    }
   ],
   "source": [
    "s = Solution()\n",
    "s.kthGrammar(1, 1)"
   ]
  },
  {
   "cell_type": "code",
   "execution_count": 3,
   "metadata": {},
   "outputs": [
    {
     "data": {
      "text/plain": [
       "0"
      ]
     },
     "execution_count": 3,
     "metadata": {},
     "output_type": "execute_result"
    }
   ],
   "source": [
    "s.kthGrammar(2, 1)"
   ]
  },
  {
   "cell_type": "code",
   "execution_count": 4,
   "metadata": {},
   "outputs": [
    {
     "data": {
      "text/plain": [
       "1"
      ]
     },
     "execution_count": 4,
     "metadata": {},
     "output_type": "execute_result"
    }
   ],
   "source": [
    "s.kthGrammar(2, 2)"
   ]
  },
  {
   "cell_type": "code",
   "execution_count": null,
   "metadata": {},
   "outputs": [],
   "source": []
  }
 ],
 "metadata": {
  "kernelspec": {
   "display_name": "Python 3.10.4 64-bit",
   "language": "python",
   "name": "python3"
  },
  "language_info": {
   "codemirror_mode": {
    "name": "ipython",
    "version": 3
   },
   "file_extension": ".py",
   "mimetype": "text/x-python",
   "name": "python",
   "nbconvert_exporter": "python",
   "pygments_lexer": "ipython3",
   "version": "3.10.4"
  },
  "orig_nbformat": 4,
  "vscode": {
   "interpreter": {
    "hash": "4f946df053fbf2b937619d3c5458e7af74262f9a954d8797ba0b27400bcafe06"
   }
  }
 },
 "nbformat": 4,
 "nbformat_minor": 2
}
