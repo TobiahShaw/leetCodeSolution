{
 "cells": [
  {
   "cell_type": "markdown",
   "metadata": {},
   "source": [
    "# 找出游戏的获胜者\n",
    "\n",
    "**题目来源：力扣（LeetCode）**\n",
    "\n",
    "**链接：https://leetcode-cn.com/problems/find-the-winner-of-the-circular-game/**\n",
    "\n",
    "## 一、题目\n",
    "\n",
    "共有 n 名小伙伴一起做游戏。小伙伴们围成一圈，按 顺时针顺序 从 1 到 n 编号。确切地说，从第 i 名小伙伴顺时针移动一位会到达第 (i+1) 名小伙伴的位置，其中 1 <= i < n ，从第 n 名小伙伴顺时针移动一位会回到第 1 名小伙伴的位置。\n",
    "\n",
    "游戏遵循如下规则：\n",
    "\n",
    "1. 从第 1 名小伙伴所在位置 开始 。\n",
    "1. 沿着顺时针方向数 k 名小伙伴，计数时需要 包含 起始时的那位小伙伴。逐个绕圈进行计数，一些小伙伴可能会被数过不止一次。\n",
    "1. 你数到的最后一名小伙伴需要离开圈子，并视作输掉游戏。\n",
    "1. 如果圈子中仍然有不止一名小伙伴，从刚刚输掉的小伙伴的 顺时针下一位 小伙伴 开始，回到步骤 2 继续执行。\n",
    "1. 否则，圈子中最后一名小伙伴赢得游戏。\n",
    "\n",
    "给你参与游戏的小伙伴总数 n ，和一个整数 k ，返回游戏的获胜者。\n",
    "\n",
    "### 提示：\n",
    "\n",
    "- 1 <= k <= n <= 500\n",
    "\n",
    "## 二、示例\n",
    "\n",
    "### 示例 1：\n",
    "\n",
    "输入：n = 5, k = 2\n",
    "\n",
    "输出：3\n",
    "\n",
    "解释：游戏运行步骤如下：\n",
    "\n",
    "1. 从小伙伴 1 开始。\n",
    "1. 顺时针数 2 名小伙伴，也就是小伙伴 1 和 2 。\n",
    "1. 小伙伴 2 离开圈子。下一次从小伙伴 3 开始。\n",
    "1. 顺时针数 2 名小伙伴，也就是小伙伴 3 和 4 。\n",
    "1. 小伙伴 4 离开圈子。下一次从小伙伴 5 开始。\n",
    "1. 顺时针数 2 名小伙伴，也就是小伙伴 5 和 1 。\n",
    "1. 小伙伴 1 离开圈子。下一次从小伙伴 3 开始。\n",
    "1. 顺时针数 2 名小伙伴，也就是小伙伴 3 和 5 。\n",
    "1. 小伙伴 5 离开圈子。只剩下小伙伴 3 。所以小伙伴 3 是游戏的获胜者。\n",
    "\n",
    "### 示例 2：\n",
    "\n",
    "输入：n = 6, k = 5\n",
    "\n",
    "输出：1\n",
    "\n",
    "解释：小伙伴离开圈子的顺序：5、4、6、2、3 。小伙伴 1 是游戏的获胜者。\n",
    "\n",
    "## 三、解题思路\n",
    "\n",
    "### 模拟过程"
   ]
  },
  {
   "cell_type": "code",
   "execution_count": 1,
   "metadata": {},
   "outputs": [],
   "source": [
    "def findTheWinner(n: int, k: int) -> int:\n",
    "    from collections import deque\n",
    "    q = deque(range(1, n + 1))\n",
    "    while len(q) > 1:\n",
    "        for _ in range(k-1):\n",
    "            q.append(q.popleft())\n",
    "        q.popleft()\n",
    "    return q[0]"
   ]
  },
  {
   "cell_type": "code",
   "execution_count": 2,
   "metadata": {},
   "outputs": [
    {
     "data": {
      "text/plain": [
       "3"
      ]
     },
     "execution_count": 2,
     "metadata": {},
     "output_type": "execute_result"
    }
   ],
   "source": [
    "findTheWinner(5, 2)"
   ]
  },
  {
   "cell_type": "code",
   "execution_count": 3,
   "metadata": {},
   "outputs": [
    {
     "data": {
      "text/plain": [
       "1"
      ]
     },
     "execution_count": 3,
     "metadata": {},
     "output_type": "execute_result"
    }
   ],
   "source": [
    "findTheWinner(6, 5)"
   ]
  },
  {
   "cell_type": "code",
   "execution_count": null,
   "metadata": {},
   "outputs": [],
   "source": []
  }
 ],
 "metadata": {
  "kernelspec": {
   "display_name": "Python 3",
   "language": "python",
   "name": "python3"
  },
  "language_info": {
   "codemirror_mode": {
    "name": "ipython",
    "version": 3
   },
   "file_extension": ".py",
   "mimetype": "text/x-python",
   "name": "python",
   "nbconvert_exporter": "python",
   "pygments_lexer": "ipython3",
   "version": "3.6.5"
  }
 },
 "nbformat": 4,
 "nbformat_minor": 2
}
