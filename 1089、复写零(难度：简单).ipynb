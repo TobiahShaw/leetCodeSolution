{
 "cells": [
  {
   "cell_type": "markdown",
   "metadata": {},
   "source": [
    "# 复写零\n",
    "\n",
    "**题目来源：力扣（LeetCode）**\n",
    "\n",
    "**链接：https://leetcode.cn/problems/duplicate-zeros/**\n",
    "\n",
    "## 一、题目\n",
    "\n",
    "给你一个长度固定的整数数组 arr，请你将该数组中出现的每个零都复写一遍，并将其余的元素向右平移。\n",
    "\n",
    "注意：请不要在超过该数组长度的位置写入元素。\n",
    "\n",
    "要求：请对输入的数组 就地 进行上述修改，不要从函数返回任何东西。\n",
    "\n",
    "### 提示：\n",
    "\n",
    "- 1 <= arr.length <= 10000\n",
    "- 0 <= arr[i] <= 9\n",
    "\n",
    "## 二、示例\n",
    "\n",
    "### 示例 1：\n",
    "\n",
    "输入：[1,0,2,3,0,4,5,0]\n",
    "\n",
    "输出：null\n",
    "\n",
    "解释：调用函数后，输入的数组将被修改为：[1,0,0,2,3,0,0,4]\n",
    "\n",
    "### 示例 2：\n",
    "\n",
    "输入：[1,2,3]\n",
    "\n",
    "输出：null\n",
    "\n",
    "解释：调用函数后，输入的数组将被修改为：[1,2,3]\n",
    "\n",
    "## 三、解题思路\n",
    "\n",
    "### pop/insert"
   ]
  },
  {
   "cell_type": "code",
   "execution_count": 1,
   "metadata": {},
   "outputs": [],
   "source": [
    "def duplicateZeros(arr) -> None:\n",
    "    \"\"\"\n",
    "    Do not return anything, modify arr in-place instead.\n",
    "    \"\"\"\n",
    "    index = 0\n",
    "    n = len(arr)\n",
    "    while index < n:\n",
    "        if index < n - 1 and arr[index] == 0:\n",
    "            arr.pop()\n",
    "            arr.insert(index+1, 0)\n",
    "            index += 1\n",
    "        index += 1"
   ]
  },
  {
   "cell_type": "code",
   "execution_count": 2,
   "metadata": {},
   "outputs": [],
   "source": [
    "arr1 = [1,0,2,3,0,4,5,0]\n",
    "arr2 = [1,2,3]"
   ]
  },
  {
   "cell_type": "code",
   "execution_count": 3,
   "metadata": {},
   "outputs": [
    {
     "data": {
      "text/plain": [
       "[1, 0, 0, 2, 3, 0, 0, 4]"
      ]
     },
     "execution_count": 3,
     "metadata": {},
     "output_type": "execute_result"
    }
   ],
   "source": [
    "duplicateZeros(arr1)\n",
    "arr1"
   ]
  },
  {
   "cell_type": "code",
   "execution_count": 4,
   "metadata": {},
   "outputs": [
    {
     "data": {
      "text/plain": [
       "[1, 2, 3]"
      ]
     },
     "execution_count": 4,
     "metadata": {},
     "output_type": "execute_result"
    }
   ],
   "source": [
    "duplicateZeros(arr2)\n",
    "arr2"
   ]
  },
  {
   "cell_type": "code",
   "execution_count": null,
   "metadata": {},
   "outputs": [],
   "source": []
  }
 ],
 "metadata": {
  "kernelspec": {
   "display_name": "Python 3",
   "language": "python",
   "name": "python3"
  },
  "language_info": {
   "codemirror_mode": {
    "name": "ipython",
    "version": 3
   },
   "file_extension": ".py",
   "mimetype": "text/x-python",
   "name": "python",
   "nbconvert_exporter": "python",
   "pygments_lexer": "ipython3",
   "version": "3.6.5"
  }
 },
 "nbformat": 4,
 "nbformat_minor": 2
}
