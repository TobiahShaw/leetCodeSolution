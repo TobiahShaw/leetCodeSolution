{
 "cells": [
  {
   "cell_type": "markdown",
   "metadata": {},
   "source": [
    "# 天际线问题\n",
    "\n",
    "**题目来源：力扣（LeetCode）**\n",
    "\n",
    "**链接：https://leetcode-cn.com/problems/the-skyline-problem/**\n",
    "\n",
    "## 一、题目\n",
    "\n",
    "城市的天际线是从远处观看该城市中所有建筑物形成的轮廓的外部轮廓。给你所有建筑物的位置和高度，请返回由这些建筑物形成的 天际线 。\n",
    "\n",
    "每个建筑物的几何信息由数组 buildings 表示，其中三元组 buildings[i] = [lefti, righti, heighti] 表示：\n",
    "\n",
    "- lefti 是第 i 座建筑物左边缘的 x 坐标。\n",
    "- righti 是第 i 座建筑物右边缘的 x 坐标。\n",
    "- heighti 是第 i 座建筑物的高度。\n",
    "\n",
    "天际线 应该表示为由 “关键点” 组成的列表，格式 [[x1,y1],[x2,y2],...] ，并按 x 坐标 进行 排序 。关键点是水平线段的左端点。列表中最后一个点是最右侧建筑物的终点，y 坐标始终为 0 ，仅用于标记天际线的终点。此外，任何两个相邻建筑物之间的地面都应被视为天际线轮廓的一部分。\n",
    "\n",
    "注意：输出天际线中不得有连续的相同高度的水平线。例如 [...[2 3], [4 5], [7 5], [11 5], [12 7]...] 是不正确的答案；三条高度为 5 的线应该在最终输出中合并为一个：[...[2 3], [4 5], [12 7], ...]\n",
    "\n",
    "## 二、示例\n",
    "\n",
    "### 示例 1：\n",
    "\n",
    "输入：buildings = [[2,9,10],[3,7,15],[5,12,12],[15,20,10],[19,24,8]]\n",
    "\n",
    "输出：[[2,10],[3,15],[7,12],[12,0],[15,10],[20,8],[24,0]]\n",
    "\n",
    "### 示例 2：\n",
    "\n",
    "输入：buildings = [[0,2,3],[2,5,3]]\n",
    "\n",
    "输出：[[0,3],[5,0]]\n",
    "\n",
    "## 三、解题思路\n",
    "\n",
    "### 线性扫描"
   ]
  },
  {
   "cell_type": "code",
   "execution_count": 1,
   "metadata": {},
   "outputs": [],
   "source": [
    "def getSkyline(buildings):\n",
    "    pos_height = []\n",
    "    for l, r, height in buildings:\n",
    "        pos_height.append((l, -1 * height))\n",
    "        pos_height.append((r, height))\n",
    "    \n",
    "    pos_height.sort(key = lambda x: (x[0],  x[1]))\n",
    "\n",
    "    cur_handle = [0]        #如果是个空数组，max无法执行\n",
    "    pre_max_height = 0\n",
    "    cur_max_height = 0\n",
    "\n",
    "    res = []\n",
    "    for pos, height in pos_height:\n",
    "        if height < 0:\n",
    "            cur_handle.append(-1 * height)\n",
    "        else:\n",
    "            cur_handle.remove(height)\n",
    "        cur_max_height = max(cur_handle)\n",
    "        if pre_max_height != cur_max_height:\n",
    "            res.append([pos, cur_max_height])\n",
    "            pre_max_height = cur_max_height\n",
    "    return res"
   ]
  },
  {
   "cell_type": "code",
   "execution_count": 2,
   "metadata": {},
   "outputs": [
    {
     "data": {
      "text/plain": [
       "[[2, 10], [3, 15], [7, 12], [12, 0], [15, 10], [20, 8], [24, 0]]"
      ]
     },
     "execution_count": 2,
     "metadata": {},
     "output_type": "execute_result"
    }
   ],
   "source": [
    "getSkyline([[2,9,10],[3,7,15],[5,12,12],[15,20,10],[19,24,8]])"
   ]
  },
  {
   "cell_type": "code",
   "execution_count": 3,
   "metadata": {},
   "outputs": [
    {
     "data": {
      "text/plain": [
       "[[0, 3], [5, 0]]"
      ]
     },
     "execution_count": 3,
     "metadata": {},
     "output_type": "execute_result"
    }
   ],
   "source": [
    "getSkyline([[0,2,3],[2,5,3]])"
   ]
  },
  {
   "cell_type": "code",
   "execution_count": null,
   "metadata": {},
   "outputs": [],
   "source": []
  }
 ],
 "metadata": {
  "kernelspec": {
   "display_name": "Python 3",
   "language": "python",
   "name": "python3"
  },
  "language_info": {
   "codemirror_mode": {
    "name": "ipython",
    "version": 3
   },
   "file_extension": ".py",
   "mimetype": "text/x-python",
   "name": "python",
   "nbconvert_exporter": "python",
   "pygments_lexer": "ipython3",
   "version": "3.6.5"
  }
 },
 "nbformat": 4,
 "nbformat_minor": 2
}
