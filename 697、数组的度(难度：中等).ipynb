{
 "cells": [
  {
   "cell_type": "markdown",
   "metadata": {},
   "source": [
    "# 数组的度\n",
    "\n",
    "**题目来源：力扣（LeetCode）**\n",
    "\n",
    "**链接：https://leetcode-cn.com/problems/degree-of-an-array/**\n",
    "\n",
    "## 一、题目\n",
    "\n",
    "给定一个非空且只包含非负数的整数数组 nums，数组的度的定义是指数组里任一元素出现频数的最大值。\n",
    "\n",
    "你的任务是在 nums 中找到与 nums 拥有相同大小的度的最短连续子数组，返回其长度。\n",
    "\n",
    "### 提示：\n",
    "\n",
    "- nums.length 在1到 50,000 区间范围内。\n",
    "- nums[i] 是一个在 0 到 49,999 范围内的整数。\n",
    "\n",
    "## 二、示例\n",
    "\n",
    "### 示例 1：\n",
    "\n",
    "输入：[1, 2, 2, 3, 1]\n",
    "\n",
    "输出：2\n",
    "\n",
    "解释：\n",
    "\n",
    "输入数组的度是2，因为元素1和2的出现频数最大，均为2.\n",
    "\n",
    "连续子数组里面拥有相同度的有如下所示:\n",
    "\n",
    "[1, 2, 2, 3, 1], [1, 2, 2, 3], [2, 2, 3, 1], [1, 2, 2], [2, 2, 3], [2, 2]\n",
    "\n",
    "最短连续子数组[2, 2]的长度为2，所以返回2.\n",
    "\n",
    "### 示例 2：\n",
    "\n",
    "输入：[1,2,2,3,1,4,2]\n",
    "\n",
    "输出：6\n",
    "\n",
    "## 三、解题思路\n",
    "\n",
    "### 利用字典"
   ]
  },
  {
   "cell_type": "code",
   "execution_count": 1,
   "metadata": {},
   "outputs": [],
   "source": [
    "def findShortestSubArray(nums) -> int:\n",
    "    a = {}\n",
    "    for i in range(len(nums)):\n",
    "        if nums[i] not in a:\n",
    "            a[nums[i]] = [i]\n",
    "        else:\n",
    "            a[nums[i]].append(i)\n",
    "    m = 0\n",
    "    for i in a:\n",
    "        m = max(m, len(a[i])) \n",
    "    r = len(nums)\n",
    "    for i in a:\n",
    "        if len(a[i]) == m:\n",
    "            r = min(r, a[i][-1] - a[i][0] + 1)\n",
    "    return r"
   ]
  },
  {
   "cell_type": "code",
   "execution_count": 2,
   "metadata": {},
   "outputs": [
    {
     "data": {
      "text/plain": [
       "2"
      ]
     },
     "execution_count": 2,
     "metadata": {},
     "output_type": "execute_result"
    }
   ],
   "source": [
    "findShortestSubArray([1, 2, 2, 3, 1])"
   ]
  },
  {
   "cell_type": "code",
   "execution_count": 3,
   "metadata": {},
   "outputs": [
    {
     "data": {
      "text/plain": [
       "6"
      ]
     },
     "execution_count": 3,
     "metadata": {},
     "output_type": "execute_result"
    }
   ],
   "source": [
    "findShortestSubArray([1,2,2,3,1,4,2])"
   ]
  },
  {
   "cell_type": "code",
   "execution_count": null,
   "metadata": {},
   "outputs": [],
   "source": []
  }
 ],
 "metadata": {
  "kernelspec": {
   "display_name": "Python 3",
   "language": "python",
   "name": "python3"
  },
  "language_info": {
   "codemirror_mode": {
    "name": "ipython",
    "version": 3
   },
   "file_extension": ".py",
   "mimetype": "text/x-python",
   "name": "python",
   "nbconvert_exporter": "python",
   "pygments_lexer": "ipython3",
   "version": "3.6.5"
  }
 },
 "nbformat": 4,
 "nbformat_minor": 2
}
