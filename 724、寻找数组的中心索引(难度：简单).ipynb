{
 "cells": [
  {
   "cell_type": "markdown",
   "metadata": {},
   "source": [
    "# 寻找数组的中心索引\n",
    "\n",
    "**题目来源：力扣（LeetCode）**\n",
    "\n",
    "**链接：https://leetcode-cn.com/problems/find-pivot-index/**\n",
    "\n",
    "## 一、题目\n",
    "\n",
    "给定一个整数类型的数组 nums，请编写一个能够返回数组 “中心索引” 的方法。\n",
    "\n",
    "我们是这样定义数组 中心索引 的：数组中心索引的左侧所有元素相加的和等于右侧所有元素相加的和。\n",
    "\n",
    "如果数组不存在中心索引，那么我们应该返回 -1。如果数组有多个中心索引，那么我们应该返回最靠近左边的那一个。\n",
    "\n",
    "### 说明：\n",
    "\n",
    "- nums 的长度范围为 [0, 10000]。\n",
    "- 任何一个 nums[i] 将会是一个范围在 [-1000, 1000]的整数。\n",
    "\n",
    "## 二、示例\n",
    "\n",
    "### 示例 1：\n",
    "\n",
    "输入：\n",
    "\n",
    "nums = [1, 7, 3, 6, 5, 6]\n",
    "\n",
    "输出：3\n",
    "\n",
    "解释：\n",
    "\n",
    "索引 3 (nums[3] = 6) 的左侧数之和 (1 + 7 + 3 = 11)，与右侧数之和 (5 + 6 = 11) 相等。同时, 3 也是第一个符合要求的中心索引。\n",
    "\n",
    "### 示例 2：\n",
    "\n",
    "输入：\n",
    "\n",
    "nums = [1, 2, 3]\n",
    "\n",
    "输出：-1\n",
    "\n",
    "解释：\n",
    "\n",
    "数组中不存在满足此条件的中心索引。\n",
    "\n",
    "## 三、解题思路\n",
    "\n",
    "### 迭代"
   ]
  },
  {
   "cell_type": "code",
   "execution_count": 1,
   "metadata": {},
   "outputs": [],
   "source": [
    "def pivotIndex(nums) -> int:\n",
    "    total, left = sum(nums), 0\n",
    "    for i in range(len(nums)):\n",
    "        if i > 0:\n",
    "            left += nums[i-1]\n",
    "        if left == total - left - nums[i]:\n",
    "            return i\n",
    "    return -1"
   ]
  },
  {
   "cell_type": "code",
   "execution_count": 2,
   "metadata": {},
   "outputs": [
    {
     "data": {
      "text/plain": [
       "3"
      ]
     },
     "execution_count": 2,
     "metadata": {},
     "output_type": "execute_result"
    }
   ],
   "source": [
    "pivotIndex([1, 7, 3, 6, 5, 6])"
   ]
  },
  {
   "cell_type": "code",
   "execution_count": 3,
   "metadata": {},
   "outputs": [
    {
     "data": {
      "text/plain": [
       "-1"
      ]
     },
     "execution_count": 3,
     "metadata": {},
     "output_type": "execute_result"
    }
   ],
   "source": [
    "pivotIndex([1, 2, 3])"
   ]
  },
  {
   "cell_type": "code",
   "execution_count": null,
   "metadata": {},
   "outputs": [],
   "source": []
  }
 ],
 "metadata": {
  "kernelspec": {
   "display_name": "Python 3",
   "language": "python",
   "name": "python3"
  },
  "language_info": {
   "codemirror_mode": {
    "name": "ipython",
    "version": 3
   },
   "file_extension": ".py",
   "mimetype": "text/x-python",
   "name": "python",
   "nbconvert_exporter": "python",
   "pygments_lexer": "ipython3",
   "version": "3.6.5"
  }
 },
 "nbformat": 4,
 "nbformat_minor": 2
}
