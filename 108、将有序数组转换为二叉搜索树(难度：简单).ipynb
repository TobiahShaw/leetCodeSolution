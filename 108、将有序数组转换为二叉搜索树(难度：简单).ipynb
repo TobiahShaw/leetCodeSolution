{
  "cells": [
    {
      "metadata": {
        "collapsed": true
      },
      "cell_type": "markdown",
      "source": "# 将有序数组转换为二叉搜索树\n\n**题目来源：力扣（LeetCode）**\n\n**链接：https://leetcode-cn.com/problems/convert-sorted-array-to-binary-search-tree/**\n\n## 一、题目\n\n将一个按照升序排列的有序数组，转换为一棵高度平衡二叉搜索树。\n\n本题中，一个高度平衡二叉树是指一个二叉树每个节点 的左右两个子树的高度差的绝对值不超过 1。\n\n## 二、示例\n\n给定有序数组: [-10,-3,0,5,9],\n\n一个可能的答案是：[0,-3,9,-10,null,5]，它可以表示下面这个高度平衡二叉搜索树：\n```\n      0\n     / \\\n   -3   9\n   /   /\n -10  5\n```\n\n## 三、解题思路\n\n### 左边一半放左树，右边一半放右树"
    },
    {
      "metadata": {
        "trusted": true
      },
      "cell_type": "code",
      "source": "class TreeNode:\n    def __init__(self, x):\n        self.val = x\n        self.left = None\n        self.right = None\n\n\ndef sortedArrayToBST(nums) -> TreeNode:\n    def helper(left, right):\n        if left > right:\n            return None\n        mid = (left + right) // 2\n        root = TreeNode(nums[mid])\n        root.left = helper(left, mid - 1)\n        root.right = helper(mid + 1, right)\n        return root\n    return helper(0, len(nums) - 1)",
      "execution_count": 1,
      "outputs": []
    },
    {
      "metadata": {
        "trusted": true
      },
      "cell_type": "code",
      "source": "def printTree(treeNode):\n    if not treeNode:\n        print('null')\n        return\n    print(treeNode.val)\n    printTree(treeNode.left)\n    printTree(treeNode.right)",
      "execution_count": 2,
      "outputs": []
    },
    {
      "metadata": {
        "trusted": true
      },
      "cell_type": "code",
      "source": "printTree(sortedArrayToBST([-10,-3,0,5,9]))",
      "execution_count": 3,
      "outputs": [
        {
          "output_type": "stream",
          "text": "0\n-10\nnull\n-3\nnull\nnull\n5\nnull\n9\nnull\nnull\n",
          "name": "stdout"
        }
      ]
    },
    {
      "metadata": {
        "trusted": true
      },
      "cell_type": "code",
      "source": "",
      "execution_count": null,
      "outputs": []
    }
  ],
  "metadata": {
    "kernelspec": {
      "name": "python36",
      "display_name": "Python 3.6",
      "language": "python"
    },
    "language_info": {
      "mimetype": "text/x-python",
      "nbconvert_exporter": "python",
      "name": "python",
      "pygments_lexer": "ipython3",
      "version": "3.6.6",
      "file_extension": ".py",
      "codemirror_mode": {
        "version": 3,
        "name": "ipython"
      }
    }
  },
  "nbformat": 4,
  "nbformat_minor": 2
}