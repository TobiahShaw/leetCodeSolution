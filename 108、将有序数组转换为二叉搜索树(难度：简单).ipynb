{
 "cells": [
  {
   "cell_type": "markdown",
   "metadata": {
    "collapsed": true
   },
   "source": [
    "# 将有序数组转换为二叉搜索树\n",
    "\n",
    "**题目来源：力扣（LeetCode）**\n",
    "\n",
    "**链接：https://leetcode-cn.com/problems/convert-sorted-array-to-binary-search-tree/**\n",
    "\n",
    "## 一、题目\n",
    "\n",
    "给你一个整数数组 nums ，其中元素已经按 升序 排列，请你将其转换为一棵 高度平衡 二叉搜索树。\n",
    "\n",
    "高度平衡 二叉树是一棵满足「每个节点的左右两个子树的高度差的绝对值不超过 1 」的二叉树。\n",
    "\n",
    "### 提示：\n",
    "\n",
    "- 1 <= nums.length <= 10^4\n",
    "- -104 <= nums[i] <= 10^4\n",
    "- nums 按 严格递增 顺序排列\n",
    "\n",
    "## 二、示例\n",
    "\n",
    "### 示例 1：\n",
    "\n",
    "\n",
    "输入：nums = [-10,-3,0,5,9]\n",
    "\n",
    "```\n",
    "      0\n",
    "     / \\\n",
    "   -3   9\n",
    "   /   /\n",
    " -10  5\n",
    "```\n",
    "\n",
    "输出：[0,-3,9,-10,null,5]\n",
    "\n",
    "解释：[0,-10,5,null,-3,null,9] 也将被视为正确答案：\n",
    "\n",
    "```\n",
    "      0\n",
    "     / \\\n",
    "   -10   5\n",
    "     \\    \\\n",
    "     -3    9\n",
    "```\n",
    "\n",
    "### 示例 2：\n",
    "\n",
    "输入：nums = [1,3]\n",
    "\n",
    "输出：[3,1]\n",
    "\n",
    "解释：[1,null,3] 和 [3,1] 都是高度平衡二叉搜索树。\n",
    "\n",
    "## 三、解题思路\n",
    "\n",
    "### 左边一半放左树，右边一半放右树"
   ]
  },
  {
   "cell_type": "code",
   "execution_count": 1,
   "metadata": {},
   "outputs": [],
   "source": [
    "class TreeNode:\n",
    "    def __init__(self, x):\n",
    "        self.val = x\n",
    "        self.left = None\n",
    "        self.right = None\n",
    "\n",
    "class Solution:\n",
    "    def sortedArrayToBST(self, nums) -> TreeNode:\n",
    "        def helper(left, right):\n",
    "            if left > right:\n",
    "                return None\n",
    "            mid = (left + right) // 2\n",
    "            root = TreeNode(nums[mid])\n",
    "            root.left = helper(left, mid - 1)\n",
    "            root.right = helper(mid + 1, right)\n",
    "            return root\n",
    "        return helper(0, len(nums) - 1)"
   ]
  },
  {
   "cell_type": "code",
   "execution_count": 2,
   "metadata": {},
   "outputs": [],
   "source": [
    "def printTree(treeNode):\n",
    "    if not treeNode:\n",
    "        print('null')\n",
    "        return\n",
    "    print(treeNode.val)\n",
    "    printTree(treeNode.left)\n",
    "    printTree(treeNode.right)"
   ]
  },
  {
   "cell_type": "code",
   "execution_count": 3,
   "metadata": {},
   "outputs": [
    {
     "name": "stdout",
     "output_type": "stream",
     "text": [
      "0\n",
      "-10\n",
      "null\n",
      "-3\n",
      "null\n",
      "null\n",
      "5\n",
      "null\n",
      "9\n",
      "null\n",
      "null\n"
     ]
    }
   ],
   "source": [
    "s = Solution()\n",
    "tree = s.sortedArrayToBST([-10,-3,0,5,9])\n",
    "printTree(tree)"
   ]
  },
  {
   "cell_type": "code",
   "execution_count": null,
   "metadata": {},
   "outputs": [],
   "source": []
  }
 ],
 "metadata": {
  "kernelspec": {
   "display_name": "Python 3 (ipykernel)",
   "language": "python",
   "name": "python3"
  },
  "language_info": {
   "codemirror_mode": {
    "name": "ipython",
    "version": 3
   },
   "file_extension": ".py",
   "mimetype": "text/x-python",
   "name": "python",
   "nbconvert_exporter": "python",
   "pygments_lexer": "ipython3",
   "version": "3.9.10+"
  }
 },
 "nbformat": 4,
 "nbformat_minor": 2
}
