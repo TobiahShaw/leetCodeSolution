{
 "cells": [
  {
   "cell_type": "markdown",
   "id": "9a43f707-5510-4601-bd6f-a96a5ac6a86b",
   "metadata": {},
   "source": [
    "# 数字转换为十六进制数\n",
    "\n",
    "**题目来源：力扣（LeetCode）**\n",
    "\n",
    "**链接：https://leetcode-cn.com/problems/convert-a-number-to-hexadecimal/**\n",
    "\n",
    "## 一、题目\n",
    "\n",
    "给定一个整数，编写一个算法将这个数转换为十六进制数。对于负整数，我们通常使用 补码运算 方法。\n",
    "\n",
    "### 注意:\n",
    "\n",
    "1. 十六进制中所有字母(a-f)都必须是小写。\n",
    "2. 十六进制字符串中不能包含多余的前导零。如果要转化的数为0，那么以单个字符'0'来表示；对于其他情况，十六进制字符串中的第一个字符将不会是0字符。 \n",
    "3. 给定的数确保在32位有符号整数范围内。\n",
    "4. 不能使用任何由库提供的将数字直接转换或格式化为十六进制的方法。\n",
    "\n",
    "## 二、示例\n",
    "\n",
    "### 示例 1：\n",
    "\n",
    "输入:26\n",
    "\n",
    "输出:\"1a\"\n",
    "\n",
    "### 示例 2：\n",
    "\n",
    "输入:-1\n",
    "\n",
    "输出:\"ffffffff\"\n",
    "\n",
    "## 三、解题思路"
   ]
  },
  {
   "cell_type": "code",
   "execution_count": 1,
   "id": "a7721f5f-a526-4ba7-a686-7a59c84b0063",
   "metadata": {},
   "outputs": [],
   "source": [
    "def toHex(num: int) -> str:\n",
    "    if num == 0:\n",
    "        return '0'\n",
    "    hexdigits = \"0123456789abcdef\"\n",
    "    if num < 0:\n",
    "        num += 2**32\n",
    "    ret = \"\"\n",
    "    while num:\n",
    "        ret += hexdigits[num % 16]\n",
    "        num //= 16\n",
    "    return ret[::-1]"
   ]
  },
  {
   "cell_type": "code",
   "execution_count": 2,
   "id": "77ea23ea-fec3-4e7b-aa99-97fa52d06906",
   "metadata": {},
   "outputs": [
    {
     "data": {
      "text/plain": [
       "'1a'"
      ]
     },
     "execution_count": 2,
     "metadata": {},
     "output_type": "execute_result"
    }
   ],
   "source": [
    "toHex(26)"
   ]
  },
  {
   "cell_type": "code",
   "execution_count": 3,
   "id": "a477ad88-ba35-4362-af5b-acde8f76190f",
   "metadata": {},
   "outputs": [
    {
     "data": {
      "text/plain": [
       "'ffffffff'"
      ]
     },
     "execution_count": 3,
     "metadata": {},
     "output_type": "execute_result"
    }
   ],
   "source": [
    "toHex(-1)"
   ]
  },
  {
   "cell_type": "code",
   "execution_count": null,
   "id": "c2014561-f7c4-4981-8542-1cc4ad2010d6",
   "metadata": {},
   "outputs": [],
   "source": []
  }
 ],
 "metadata": {
  "kernelspec": {
   "display_name": "Python 3 (ipykernel)",
   "language": "python",
   "name": "python3"
  },
  "language_info": {
   "codemirror_mode": {
    "name": "ipython",
    "version": 3
   },
   "file_extension": ".py",
   "mimetype": "text/x-python",
   "name": "python",
   "nbconvert_exporter": "python",
   "pygments_lexer": "ipython3",
   "version": "3.7.10"
  }
 },
 "nbformat": 4,
 "nbformat_minor": 5
}
