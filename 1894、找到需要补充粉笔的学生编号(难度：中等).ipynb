{
 "cells": [
  {
   "cell_type": "markdown",
   "metadata": {},
   "source": [
    "# 找到需要补充粉笔的学生编号\n",
    "\n",
    "**题目来源：力扣（LeetCode）**\n",
    "\n",
    "**链接：https://leetcode-cn.com/problems/find-the-student-that-will-replace-the-chalk/**\n",
    "\n",
    "## 一、题目\n",
    "\n",
    "一个班级里有 n 个学生，编号为 0 到 n - 1 。每个学生会依次回答问题，编号为 0 的学生先回答，然后是编号为 1 的学生，以此类推，直到编号为 n - 1 的学生，然后老师会重复这个过程，重新从编号为 0 的学生开始回答问题。\n",
    "\n",
    "给你一个长度为 n 且下标从 0 开始的整数数组 chalk 和一个整数 k 。一开始粉笔盒里总共有 k 支粉笔。当编号为 i 的学生回答问题时，他会消耗 chalk[i] 支粉笔。如果剩余粉笔数量 严格小于 chalk[i] ，那么学生 i 需要 补充 粉笔。\n",
    "\n",
    "请你返回需要 补充 粉笔的学生 编号 。\n",
    "\n",
    "## 二、示例\n",
    "\n",
    "### 示例 1：\n",
    "\n",
    "输入：chalk = [5,1,5], k = 22\n",
    "\n",
    "输出：0\n",
    "\n",
    "解释：学生消耗粉笔情况如下：\n",
    "\n",
    "- 编号为 0 的学生使用 5 支粉笔，然后 k = 17 。\n",
    "- 编号为 1 的学生使用 1 支粉笔，然后 k = 16 。\n",
    "- 编号为 2 的学生使用 5 支粉笔，然后 k = 11 。\n",
    "- 编号为 0 的学生使用 5 支粉笔，然后 k = 6 。\n",
    "- 编号为 1 的学生使用 1 支粉笔，然后 k = 5 。\n",
    "- 编号为 2 的学生使用 5 支粉笔，然后 k = 0 。\n",
    "\n",
    "编号为 0 的学生没有足够的粉笔，所以他需要补充粉笔。\n",
    "\n",
    "### 示例 2：\n",
    "\n",
    "输入：chalk = [3,4,1,2], k = 25\n",
    "\n",
    "输出：1\n",
    "\n",
    "解释：学生消耗粉笔情况如下：\n",
    "\n",
    "- 编号为 0 的学生使用 3 支粉笔，然后 k = 22 。\n",
    "- 编号为 1 的学生使用 4 支粉笔，然后 k = 18 。\n",
    "- 编号为 2 的学生使用 1 支粉笔，然后 k = 17 。\n",
    "- 编号为 3 的学生使用 2 支粉笔，然后 k = 15 。\n",
    "- 编号为 0 的学生使用 3 支粉笔，然后 k = 12 。\n",
    "- 编号为 1 的学生使用 4 支粉笔，然后 k = 8 。\n",
    "- 编号为 2 的学生使用 1 支粉笔，然后 k = 7 。\n",
    "- 编号为 3 的学生使用 2 支粉笔，然后 k = 5 。\n",
    "- 编号为 0 的学生使用 3 支粉笔，然后 k = 2 。\n",
    "\n",
    "编号为 1 的学生没有足够的粉笔，所以他需要补充粉笔。\n",
    "\n",
    "## 三、解题思路\n",
    "\n",
    "### 前缀和 + 二分法"
   ]
  },
  {
   "cell_type": "code",
   "execution_count": 1,
   "metadata": {},
   "outputs": [],
   "source": [
    "def chalkReplacer(chalk , k: int) -> int:\n",
    "    import bisect\n",
    "    prefixSum = []\n",
    "    for c in chalk:\n",
    "        prefixSum.append(c + (prefixSum[-1] if prefixSum else 0))\n",
    "    surplus = k % prefixSum[-1]\n",
    "    return bisect.bisect(prefixSum, surplus)"
   ]
  },
  {
   "cell_type": "code",
   "execution_count": 2,
   "metadata": {},
   "outputs": [
    {
     "data": {
      "text/plain": [
       "0"
      ]
     },
     "execution_count": 2,
     "metadata": {},
     "output_type": "execute_result"
    }
   ],
   "source": [
    "chalkReplacer(chalk = [5,1,5], k = 22)"
   ]
  },
  {
   "cell_type": "code",
   "execution_count": 3,
   "metadata": {},
   "outputs": [
    {
     "data": {
      "text/plain": [
       "1"
      ]
     },
     "execution_count": 3,
     "metadata": {},
     "output_type": "execute_result"
    }
   ],
   "source": [
    "chalkReplacer(chalk = [3,4,1,2], k = 25)"
   ]
  },
  {
   "cell_type": "code",
   "execution_count": null,
   "metadata": {},
   "outputs": [],
   "source": []
  }
 ],
 "metadata": {
  "kernelspec": {
   "display_name": "Python 3",
   "language": "python",
   "name": "python3"
  },
  "language_info": {
   "codemirror_mode": {
    "name": "ipython",
    "version": 3
   },
   "file_extension": ".py",
   "mimetype": "text/x-python",
   "name": "python",
   "nbconvert_exporter": "python",
   "pygments_lexer": "ipython3",
   "version": "3.6.5"
  }
 },
 "nbformat": 4,
 "nbformat_minor": 2
}
