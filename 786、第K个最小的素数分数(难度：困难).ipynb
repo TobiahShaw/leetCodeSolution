{
 "cells": [
  {
   "cell_type": "markdown",
   "metadata": {},
   "source": [
    "# 第K个最小的素数分数\n",
    "\n",
    "**题目来源：力扣（LeetCode）**\n",
    "\n",
    "**链接：https://leetcode-cn.com/problems/k-th-smallest-prime-fraction/**\n",
    "\n",
    "## 一、题目\n",
    "\n",
    "给你一个按递增顺序排序的数组 arr 和一个整数 k 。数组 arr 由 1 和若干 素数  组成，且其中所有整数互不相同。\n",
    "\n",
    "对于每对满足 0 < i < j < arr.length 的 i 和 j ，可以得到分数 arr[i] / arr[j] 。\n",
    "\n",
    "那么第 k 个最小的分数是多少呢?  以长度为 2 的整数数组返回你的答案, 这里 answer[0] == arr[i] 且 answer[1] == arr[j] 。\n",
    "\n",
    "### 提示：\n",
    "\n",
    "- 2 <= arr.length <= 1000\n",
    "- 1 <= arr[i] <= 3 * 10^4\n",
    "- arr[0] == 1\n",
    "- arr[i] 是一个 素数 ，i > 0\n",
    "- arr 中的所有数字 互不相同 ，且按 严格递增 排序\n",
    "- 1 <= k <= arr.length * (arr.length - 1) / 2\n",
    "\n",
    "## 二、示例\n",
    "\n",
    "### 示例 1：\n",
    "\n",
    "输入：arr = [1,2,3,5], k = 3\n",
    "\n",
    "输出：[2,5]\n",
    "\n",
    "解释：已构造好的分数,排序后如下所示: \n",
    "\n",
    "1/5, 1/3, 2/5, 1/2, 3/5, 2/3\n",
    "\n",
    "很明显第三个最小的分数是 2/5\n",
    "\n",
    "### 示例 2：\n",
    "\n",
    "输入：arr = [1,7], k = 1\n",
    "\n",
    "输出：[1,7]\n",
    "\n",
    "## 三、解题思路\n",
    "\n",
    "### 自定义排序"
   ]
  },
  {
   "cell_type": "code",
   "execution_count": 1,
   "metadata": {},
   "outputs": [],
   "source": [
    "def kthSmallestPrimeFraction(arr, k):\n",
    "    from functools import cmp_to_key\n",
    "    n = len(arr)\n",
    "    frac = []\n",
    "    for i in range(n):\n",
    "        for j in range(i+1, n):\n",
    "            frac.append((arr[i], arr[j]))\n",
    "    def compare(x, y):\n",
    "        return -1 if x[0] * y[1] < x[1] * y[0] else 1\n",
    "    frac.sort(key=cmp_to_key(compare))\n",
    "    return list(frac[k-1])"
   ]
  },
  {
   "cell_type": "code",
   "execution_count": 2,
   "metadata": {},
   "outputs": [
    {
     "data": {
      "text/plain": [
       "[2, 5]"
      ]
     },
     "execution_count": 2,
     "metadata": {},
     "output_type": "execute_result"
    }
   ],
   "source": [
    "kthSmallestPrimeFraction(arr = [1,2,3,5], k = 3)"
   ]
  },
  {
   "cell_type": "code",
   "execution_count": 3,
   "metadata": {},
   "outputs": [
    {
     "data": {
      "text/plain": [
       "[1, 7]"
      ]
     },
     "execution_count": 3,
     "metadata": {},
     "output_type": "execute_result"
    }
   ],
   "source": [
    "kthSmallestPrimeFraction(arr = [1,7], k = 1)"
   ]
  },
  {
   "cell_type": "code",
   "execution_count": null,
   "metadata": {},
   "outputs": [],
   "source": []
  }
 ],
 "metadata": {
  "kernelspec": {
   "display_name": "Python 3",
   "language": "python",
   "name": "python3"
  },
  "language_info": {
   "codemirror_mode": {
    "name": "ipython",
    "version": 3
   },
   "file_extension": ".py",
   "mimetype": "text/x-python",
   "name": "python",
   "nbconvert_exporter": "python",
   "pygments_lexer": "ipython3",
   "version": "3.6.5"
  }
 },
 "nbformat": 4,
 "nbformat_minor": 2
}
