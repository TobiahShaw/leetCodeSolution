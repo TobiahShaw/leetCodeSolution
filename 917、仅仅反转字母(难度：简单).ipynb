{
 "cells": [
  {
   "cell_type": "markdown",
   "metadata": {},
   "source": [
    "# 仅仅反转字母\n",
    "\n",
    "**题目来源：力扣（LeetCode）**\n",
    "\n",
    "**链接：https://leetcode-cn.com/problems/reverse-only-letters/**\n",
    "\n",
    "## 一、题目\n",
    "\n",
    "给定一个字符串 S，返回 “反转后的” 字符串，其中不是字母的字符都保留在原地，而所有字母的位置发生反转。\n",
    "\n",
    "### 提示：\n",
    "\n",
    "- S.length <= 100\n",
    "- 33 <= S[i].ASCIIcode <= 122 \n",
    "- S 中不包含 \\ or \"\n",
    "\n",
    "## 二、示例\n",
    "\n",
    "### 示例 1：\n",
    "\n",
    "输入：\"ab-cd\"\n",
    "\n",
    "输出：\"dc-ba\"\n",
    "\n",
    "### 示例 2：\n",
    "\n",
    "输入：\"a-bC-dEf-ghIj\"\n",
    "\n",
    "输出：\"j-Ih-gfE-dCba\"\n",
    "\n",
    "### 示例 3：\n",
    "\n",
    "输入：\"Test1ng-Leet=code-Q!\"\n",
    "\n",
    "输出：\"Qedo1ct-eeLg=ntse-T!\"\n",
    "\n",
    "## 三、解题思路\n",
    "\n",
    "### 字母栈"
   ]
  },
  {
   "cell_type": "code",
   "execution_count": 1,
   "metadata": {},
   "outputs": [],
   "source": [
    "def reverseOnlyLetters(s: str) -> str:\n",
    "    letters = [c for c in s if c.isalpha()]\n",
    "    ret = []\n",
    "    for ch in s:\n",
    "        if ch.isalpha():\n",
    "            ret.append(letters.pop())\n",
    "        else:\n",
    "            ret.append(ch)\n",
    "    return \"\".join(ret)"
   ]
  },
  {
   "cell_type": "code",
   "execution_count": 2,
   "metadata": {},
   "outputs": [
    {
     "data": {
      "text/plain": [
       "'dc-ba'"
      ]
     },
     "execution_count": 2,
     "metadata": {},
     "output_type": "execute_result"
    }
   ],
   "source": [
    "reverseOnlyLetters(\"ab-cd\")"
   ]
  },
  {
   "cell_type": "code",
   "execution_count": 3,
   "metadata": {},
   "outputs": [
    {
     "data": {
      "text/plain": [
       "'j-Ih-gfE-dCba'"
      ]
     },
     "execution_count": 3,
     "metadata": {},
     "output_type": "execute_result"
    }
   ],
   "source": [
    "reverseOnlyLetters(\"a-bC-dEf-ghIj\")"
   ]
  },
  {
   "cell_type": "code",
   "execution_count": 4,
   "metadata": {},
   "outputs": [
    {
     "data": {
      "text/plain": [
       "'Qedo1ct-eeLg=ntse-T!'"
      ]
     },
     "execution_count": 4,
     "metadata": {},
     "output_type": "execute_result"
    }
   ],
   "source": [
    "reverseOnlyLetters(\"Test1ng-Leet=code-Q!\")"
   ]
  },
  {
   "cell_type": "code",
   "execution_count": null,
   "metadata": {},
   "outputs": [],
   "source": []
  }
 ],
 "metadata": {
  "kernelspec": {
   "display_name": "Python 3",
   "language": "python",
   "name": "python3"
  },
  "language_info": {
   "codemirror_mode": {
    "name": "ipython",
    "version": 3
   },
   "file_extension": ".py",
   "mimetype": "text/x-python",
   "name": "python",
   "nbconvert_exporter": "python",
   "pygments_lexer": "ipython3",
   "version": "3.6.5"
  }
 },
 "nbformat": 4,
 "nbformat_minor": 2
}
