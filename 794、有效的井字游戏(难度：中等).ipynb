{
 "cells": [
  {
   "cell_type": "markdown",
   "metadata": {},
   "source": [
    "# 有效的井字游戏\n",
    "\n",
    "**题目来源：力扣（LeetCode）**\n",
    "\n",
    "**链接：https://leetcode-cn.com/problems/valid-tic-tac-toe-state/**\n",
    "\n",
    "## 一、题目\n",
    "\n",
    "用字符串数组作为井字游戏的游戏板 board。当且仅当在井字游戏过程中，玩家有可能将字符放置成游戏板所显示的状态时，才返回 true。\n",
    "\n",
    "该游戏板是一个 3 x 3 数组，由字符 \" \"，\"X\" 和 \"O\" 组成。字符 \" \" 代表一个空位。\n",
    "\n",
    "以下是井字游戏的规则：\n",
    "\n",
    "- 玩家轮流将字符放入空位（\" \"）中。\n",
    "- 第一个玩家总是放字符 “X”，且第二个玩家总是放字符 “O”。\n",
    "- “X” 和 “O” 只允许放置在空位中，不允许对已放有字符的位置进行填充。\n",
    "- 当有 3 个相同（且非空）的字符填充任何行、列或对角线时，游戏结束。\n",
    "- 当所有位置非空时，也算为游戏结束。\n",
    "- 如果游戏结束，玩家不允许再放置字符。\n",
    "\n",
    "### 说明:\n",
    "\n",
    "- 游戏板 board 是长度为 3 的字符串数组，其中每个字符串 board[i] 的长度为 3。\n",
    "- board[i][j] 是集合 {\" \", \"X\", \"O\"} 中的一个字符。\n",
    "\n",
    "## 二、示例\n",
    "\n",
    "### 示例 1：\n",
    "\n",
    "输入: board = [\"O  \", \"   \", \"   \"]\n",
    "\n",
    "输出: false\n",
    "\n",
    "解释: 第一个玩家总是放置“X”。\n",
    "\n",
    "### 示例 2:\n",
    "输入: board = [\"XOX\", \" X \", \"   \"]\n",
    "\n",
    "输出: false\n",
    "\n",
    "解释: 玩家应该是轮流放置的。\n",
    "\n",
    "### 示例 3:\n",
    "\n",
    "输入: board = [\"XXX\", \"   \", \"OOO\"]\n",
    "\n",
    "输出: false\n",
    "\n",
    "### 示例 4:\n",
    "\n",
    "输入: board = [\"XOX\", \"O O\", \"XOX\"]\n",
    "\n",
    "输出: true\n",
    "\n",
    "## 三、解题思路\n",
    "\n",
    "### 枚举"
   ]
  },
  {
   "cell_type": "code",
   "execution_count": 1,
   "metadata": {},
   "outputs": [],
   "source": [
    "def validTicTacToe(board) -> bool:\n",
    "    def win(c_set):\n",
    "        for i in range(3):\n",
    "            if (0, i) in c_set and (1, i) in c_set and (2, i) in c_set:\n",
    "                return True\n",
    "            if (i, 0) in c_set and (i, 1) in c_set and (i, 2) in c_set:\n",
    "                return True\n",
    "        if (0, 0) in c_set and (1, 1) in c_set and (2, 2) in c_set:\n",
    "            return True\n",
    "        if (2, 0) in c_set and (1, 1) in c_set and (0, 2) in c_set:\n",
    "            return True\n",
    "        return False\n",
    "    x_set, o_set = set(), set()\n",
    "    for i in range(3):\n",
    "        for j in range(3):\n",
    "            if board[i][j] == \"X\":\n",
    "                x_set.add((i, j))\n",
    "            elif board[i][j] == \"O\":\n",
    "                o_set.add((i, j))\n",
    "    # 1、X必须比O多1个或者相同，否则false；\n",
    "    if len(x_set) - len(o_set) < 0 or len(x_set) - len(o_set) > 1:\n",
    "        return False\n",
    "    is_x_win = win(x_set)\n",
    "    is_o_win = win(o_set)\n",
    "    # 2、X和O不能同时都是赢家，否则false；\n",
    "    if is_o_win and is_x_win:\n",
    "        return False\n",
    "    # 3、X赢的时候必须比O多1个，否则false；\n",
    "    if is_x_win and len(x_set) - len(o_set) != 1:\n",
    "        return False\n",
    "    # 4、O赢得时候个数与X相同，否则false；\n",
    "    if is_o_win and len(x_set) != len(o_set):\n",
    "        return False\n",
    "    return True"
   ]
  },
  {
   "cell_type": "code",
   "execution_count": 2,
   "metadata": {},
   "outputs": [
    {
     "data": {
      "text/plain": [
       "False"
      ]
     },
     "execution_count": 2,
     "metadata": {},
     "output_type": "execute_result"
    }
   ],
   "source": [
    "validTicTacToe(board = [\"O  \", \"   \", \"   \"])"
   ]
  },
  {
   "cell_type": "code",
   "execution_count": 3,
   "metadata": {},
   "outputs": [
    {
     "data": {
      "text/plain": [
       "False"
      ]
     },
     "execution_count": 3,
     "metadata": {},
     "output_type": "execute_result"
    }
   ],
   "source": [
    "validTicTacToe([\"XOX\", \" X \", \"   \"])"
   ]
  },
  {
   "cell_type": "code",
   "execution_count": 4,
   "metadata": {},
   "outputs": [
    {
     "data": {
      "text/plain": [
       "False"
      ]
     },
     "execution_count": 4,
     "metadata": {},
     "output_type": "execute_result"
    }
   ],
   "source": [
    "validTicTacToe(board = [\"XXX\", \"   \", \"OOO\"])"
   ]
  },
  {
   "cell_type": "code",
   "execution_count": 5,
   "metadata": {},
   "outputs": [
    {
     "data": {
      "text/plain": [
       "True"
      ]
     },
     "execution_count": 5,
     "metadata": {},
     "output_type": "execute_result"
    }
   ],
   "source": [
    "validTicTacToe(board = [\"XOX\", \"O O\", \"XOX\"])"
   ]
  },
  {
   "cell_type": "code",
   "execution_count": null,
   "metadata": {},
   "outputs": [],
   "source": []
  }
 ],
 "metadata": {
  "kernelspec": {
   "display_name": "Python 3",
   "language": "python",
   "name": "python3"
  },
  "language_info": {
   "codemirror_mode": {
    "name": "ipython",
    "version": 3
   },
   "file_extension": ".py",
   "mimetype": "text/x-python",
   "name": "python",
   "nbconvert_exporter": "python",
   "pygments_lexer": "ipython3",
   "version": "3.6.5"
  }
 },
 "nbformat": 4,
 "nbformat_minor": 2
}
