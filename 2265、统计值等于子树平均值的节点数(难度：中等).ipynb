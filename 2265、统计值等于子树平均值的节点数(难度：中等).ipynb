{
 "cells": [
  {
   "cell_type": "markdown",
   "metadata": {},
   "source": [
    "# 统计值等于子树平均值的节点数\n",
    "\n",
    "**题目来源：力扣（LeetCode）**\n",
    "\n",
    "**链接：https://leetcode.cn/problems/count-nodes-equal-to-average-of-subtree/**\n",
    "\n",
    "## 一、题目\n",
    "\n",
    "给你一棵二叉树的根节点 root ，找出并返回满足要求的节点数，要求节点的值等于其 子树 中值的 平均值 。\n",
    "\n",
    "注意：\n",
    "\n",
    "- n 个元素的平均值可以由 n 个元素 求和 然后再除以 n ，并 向下舍入 到最近的整数。\n",
    "- root 的 子树 由 root 和它的所有后代组成。\n",
    "\n",
    "### 提示：\n",
    "\n",
    "- 树中节点数目在范围 [1, 1000] 内\n",
    "- 0 <= Node.val <= 1000\n",
    "\n",
    "## 二、示例\n",
    "\n",
    "### 示例 1：\n",
    "\n",
    "输入：root = [4,8,5,0,1,null,6]\n",
    "\n",
    "输出：5\n",
    "\n",
    "解释：\n",
    "\n",
    "对值为 4 的节点：子树的平均值 (4 + 8 + 5 + 0 + 1 + 6) / 6 = 24 / 6 = 4 。\n",
    "对值为 5 的节点：子树的平均值 (5 + 6) / 2 = 11 / 2 = 5 。\n",
    "对值为 0 的节点：子树的平均值 0 / 1 = 0 。\n",
    "对值为 1 的节点：子树的平均值 1 / 1 = 1 。\n",
    "对值为 6 的节点：子树的平均值 6 / 1 = 6 。\n",
    "\n",
    "```\n",
    "       4\n",
    "     /   \\\n",
    "    8     5\n",
    "  /  \\      \\\n",
    "0     1       6\n",
    "```\n",
    "\n",
    "### 示例 2：\n",
    "\n",
    "输入：root = [1]\n",
    "\n",
    "输出：1\n",
    "\n",
    "解释：对值为 1 的节点：子树的平均值 1 / 1 = 1。\n",
    "\n",
    "## 三、解题思路 "
   ]
  },
  {
   "cell_type": "code",
   "execution_count": 1,
   "metadata": {},
   "outputs": [],
   "source": [
    "class TreeNode:\n",
    "    def __init__(self, val=0, left=None, right=None):\n",
    "        self.val = val\n",
    "        self.left = left\n",
    "        self.right = right\n",
    "\n",
    "root1 = TreeNode(4)\n",
    "\n",
    "root1.left = TreeNode(8)\n",
    "root1.right = TreeNode(5)\n",
    "\n",
    "root1.left.left = TreeNode(0)\n",
    "root1.left.right = TreeNode(1)\n",
    "\n",
    "\n",
    "root1.right.right = TreeNode(6)\n",
    "\n",
    "root2 = TreeNode(1)"
   ]
  },
  {
   "cell_type": "markdown",
   "metadata": {},
   "source": [
    "### DFS"
   ]
  },
  {
   "cell_type": "code",
   "execution_count": 2,
   "metadata": {},
   "outputs": [],
   "source": [
    "class Solution:\n",
    "    def averageOfSubtree(self, root: TreeNode) -> int:\n",
    "        ret = 0\n",
    "        def dfs(node):\n",
    "            if not node:\n",
    "                return 0\n",
    "            val = node.val\n",
    "            count = 1\n",
    "            if node.left:\n",
    "                child = dfs(node.left)\n",
    "                val += child[0]\n",
    "                count += child[1]\n",
    "            if node.right:\n",
    "                child = dfs(node.right)\n",
    "                val += child[0]\n",
    "                count += child[1]\n",
    "            if node.val == (val // count):\n",
    "                nonlocal ret\n",
    "                ret += 1\n",
    "            return (val, count)\n",
    "        dfs(root)\n",
    "        return ret"
   ]
  },
  {
   "cell_type": "code",
   "execution_count": 3,
   "metadata": {},
   "outputs": [
    {
     "data": {
      "text/plain": [
       "5"
      ]
     },
     "execution_count": 3,
     "metadata": {},
     "output_type": "execute_result"
    }
   ],
   "source": [
    "s = Solution()\n",
    "s.averageOfSubtree(root1)"
   ]
  },
  {
   "cell_type": "code",
   "execution_count": 4,
   "metadata": {},
   "outputs": [
    {
     "data": {
      "text/plain": [
       "1"
      ]
     },
     "execution_count": 4,
     "metadata": {},
     "output_type": "execute_result"
    }
   ],
   "source": [
    "s.averageOfSubtree(root2)"
   ]
  },
  {
   "cell_type": "code",
   "execution_count": null,
   "metadata": {},
   "outputs": [],
   "source": []
  }
 ],
 "metadata": {
  "kernelspec": {
   "display_name": "Python 3.10.4 64-bit",
   "language": "python",
   "name": "python3"
  },
  "language_info": {
   "codemirror_mode": {
    "name": "ipython",
    "version": 3
   },
   "file_extension": ".py",
   "mimetype": "text/x-python",
   "name": "python",
   "nbconvert_exporter": "python",
   "pygments_lexer": "ipython3",
   "version": "3.10.4"
  },
  "orig_nbformat": 4,
  "vscode": {
   "interpreter": {
    "hash": "4f946df053fbf2b937619d3c5458e7af74262f9a954d8797ba0b27400bcafe06"
   }
  }
 },
 "nbformat": 4,
 "nbformat_minor": 2
}
