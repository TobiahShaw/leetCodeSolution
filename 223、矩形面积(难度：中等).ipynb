{
 "cells": [
  {
   "cell_type": "markdown",
   "id": "21fc4fd3-10b6-4a3b-83e1-c3fbd7dfdff5",
   "metadata": {},
   "source": [
    "# 矩形面积\n",
    "\n",
    "**题目来源：力扣（LeetCode）**\n",
    "\n",
    "**链接：https://leetcode-cn.com/problems/rectangle-area/**\n",
    "\n",
    "## 一、题目\n",
    "\n",
    "给你 二维 平面上两个 由直线构成的 矩形，请你计算并返回两个矩形覆盖的总面积。\n",
    "\n",
    "每个矩形由其 左下 顶点和 右上 顶点坐标表示：\n",
    "\n",
    "- 第一个矩形由其左下顶点 (ax1, ay1) 和右上顶点 (ax2, ay2) 定义。\n",
    "- 第二个矩形由其左下顶点 (bx1, by1) 和右上顶点 (bx2, by2) 定义。\n",
    "\n",
    "## 二、示例\n",
    "\n",
    "### 示例 1：\n",
    "\n",
    "输入：ax1 = -3, ay1 = 0, ax2 = 3, ay2 = 4, bx1 = 0, by1 = -1, bx2 = 9, by2 = 2\n",
    "\n",
    "输出：45\n",
    "\n",
    "### 示例 2：\n",
    "\n",
    "输入：ax1 = -2, ay1 = -2, ax2 = 2, ay2 = 2, bx1 = -2, by1 = -2, bx2 = 2, by2 = 2\n",
    "\n",
    "输出：16\n",
    "\n",
    "## 三、解题思路\n",
    "\n",
    "### 计算重叠区域面积"
   ]
  },
  {
   "cell_type": "code",
   "execution_count": 1,
   "id": "a715b9d6-ec3b-49e8-8351-e4115d42fd7d",
   "metadata": {},
   "outputs": [],
   "source": [
    "def computeArea(ax1: int, ay1: int, ax2: int, ay2: int, bx1: int, by1: int, bx2: int, by2: int) -> int:\n",
    "    def getArea(x1, y1, x2, y2):\n",
    "        return (x2-x1) * (y2-y1)\n",
    "    overlapWidth = min(ax2, bx2) - max(ax1, bx1)\n",
    "    overlapHeight = min(ay2, by2) - max(ay1, by1)\n",
    "    overlapArea = max(overlapWidth, 0) * max(overlapHeight, 0)\n",
    "    return getArea(ax1, ay1, ax2, ay2) + getArea(bx1, by1, bx2, by2) - overlapArea"
   ]
  },
  {
   "cell_type": "code",
   "execution_count": 2,
   "id": "2866b975-6322-4a59-a7a5-3ee79f96727c",
   "metadata": {},
   "outputs": [
    {
     "data": {
      "text/plain": [
       "45"
      ]
     },
     "execution_count": 2,
     "metadata": {},
     "output_type": "execute_result"
    }
   ],
   "source": [
    "computeArea(ax1 = -3, ay1 = 0, ax2 = 3, ay2 = 4, bx1 = 0, by1 = -1, bx2 = 9, by2 = 2)"
   ]
  },
  {
   "cell_type": "code",
   "execution_count": 3,
   "id": "2df9ba37-fbfa-4ff4-9bc7-79cff7d979de",
   "metadata": {},
   "outputs": [
    {
     "data": {
      "text/plain": [
       "16"
      ]
     },
     "execution_count": 3,
     "metadata": {},
     "output_type": "execute_result"
    }
   ],
   "source": [
    "computeArea(ax1 = -2, ay1 = -2, ax2 = 2, ay2 = 2, bx1 = -2, by1 = -2, bx2 = 2, by2 = 2)"
   ]
  },
  {
   "cell_type": "code",
   "execution_count": null,
   "id": "28248d12-7836-49a4-a6c2-1bfbf1b61af1",
   "metadata": {},
   "outputs": [],
   "source": []
  }
 ],
 "metadata": {
  "kernelspec": {
   "display_name": "Python 3 (ipykernel)",
   "language": "python",
   "name": "python3"
  },
  "language_info": {
   "codemirror_mode": {
    "name": "ipython",
    "version": 3
   },
   "file_extension": ".py",
   "mimetype": "text/x-python",
   "name": "python",
   "nbconvert_exporter": "python",
   "pygments_lexer": "ipython3",
   "version": "3.7.10"
  }
 },
 "nbformat": 4,
 "nbformat_minor": 5
}
