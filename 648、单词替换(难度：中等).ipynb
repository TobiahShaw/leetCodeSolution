{
 "cells": [
  {
   "cell_type": "markdown",
   "metadata": {},
   "source": [
    "# 单词替换\n",
    "\n",
    "**题目来源：力扣（LeetCode）**\n",
    "\n",
    "**链接：https://leetcode.cn/problems/replace-words/**\n",
    "\n",
    "## 一、题目\n",
    "\n",
    "在英语中，我们有一个叫做 词根(root) 的概念，可以词根后面添加其他一些词组成另一个较长的单词——我们称这个词为 继承词(successor)。例如，词根an，跟随着单词 other(其他)，可以形成新的单词 another(另一个)。\n",
    "\n",
    "现在，给定一个由许多词根组成的词典 dictionary 和一个用空格分隔单词形成的句子 sentence。你需要将句子中的所有继承词用词根替换掉。如果继承词有许多可以形成它的词根，则用最短的词根替换它。\n",
    "\n",
    "你需要输出替换之后的句子。\n",
    "\n",
    "### 提示：\n",
    "\n",
    "- 1 <= dictionary.length <= 1000\n",
    "- 1 <= dictionary[i].length <= 100\n",
    "- dictionary[i] 仅由小写字母组成。\n",
    "- 1 <= sentence.length <= 10^6\n",
    "- sentence 仅由小写字母和空格组成。\n",
    "- sentence 中单词的总量在范围 [1, 1000] 内。\n",
    "- sentence 中每个单词的长度在范围 [1, 1000] 内。\n",
    "- sentence 中单词之间由一个空格隔开。\n",
    "- sentence 没有前导或尾随空格。\n",
    "\n",
    "## 二、示例\n",
    "\n",
    "### 示例 1：\n",
    "\n",
    "输入：dictionary = [\"cat\",\"bat\",\"rat\"], sentence = \"the cattle was rattled by the battery\"\n",
    "\n",
    "输出：\"the cat was rat by the bat\"\n",
    "\n",
    "### 示例 2：\n",
    "\n",
    "输入：dictionary = [\"a\",\"b\",\"c\"], sentence = \"aadsfasf absbs bbab cadsfafs\"\n",
    "\n",
    "输出：\"a a b c\"\n",
    "\n",
    "## 三、解题思路\n",
    "\n",
    "### 利用集合"
   ]
  },
  {
   "cell_type": "code",
   "execution_count": 1,
   "metadata": {},
   "outputs": [],
   "source": [
    "def replaceWords(dictionary, sentence: str) -> str:\n",
    "    dictionarySet = set(dictionary)\n",
    "    words = sentence.split(' ')\n",
    "    ret = []\n",
    "    for word in words:\n",
    "        cur = word\n",
    "        for i in range(1, len(word)):\n",
    "            if word[:i] in dictionarySet:\n",
    "                cur = word[:i]\n",
    "                break\n",
    "        ret.append(cur)\n",
    "    return \" \".join(ret)"
   ]
  },
  {
   "cell_type": "code",
   "execution_count": 2,
   "metadata": {},
   "outputs": [
    {
     "data": {
      "text/plain": [
       "'the cat was rat by the bat'"
      ]
     },
     "execution_count": 2,
     "metadata": {},
     "output_type": "execute_result"
    }
   ],
   "source": [
    "replaceWords(dictionary = [\"cat\",\"bat\",\"rat\"], sentence = \"the cattle was rattled by the battery\")"
   ]
  },
  {
   "cell_type": "code",
   "execution_count": 3,
   "metadata": {},
   "outputs": [
    {
     "data": {
      "text/plain": [
       "'a a b c'"
      ]
     },
     "execution_count": 3,
     "metadata": {},
     "output_type": "execute_result"
    }
   ],
   "source": [
    "replaceWords(dictionary = [\"a\",\"b\",\"c\"], sentence = \"aadsfasf absbs bbab cadsfafs\")"
   ]
  },
  {
   "cell_type": "code",
   "execution_count": null,
   "metadata": {},
   "outputs": [],
   "source": []
  }
 ],
 "metadata": {
  "kernelspec": {
   "display_name": "Python 3",
   "language": "python",
   "name": "python3"
  },
  "language_info": {
   "codemirror_mode": {
    "name": "ipython",
    "version": 3
   },
   "file_extension": ".py",
   "mimetype": "text/x-python",
   "name": "python",
   "nbconvert_exporter": "python",
   "pygments_lexer": "ipython3",
   "version": "3.6.5"
  }
 },
 "nbformat": 4,
 "nbformat_minor": 2
}
