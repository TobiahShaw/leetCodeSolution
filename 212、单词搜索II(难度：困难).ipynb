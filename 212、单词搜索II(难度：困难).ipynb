{
 "cells": [
  {
   "cell_type": "markdown",
   "metadata": {},
   "source": [
    "# 单词搜索II\n",
    "\n",
    "**题目来源：力扣（LeetCode）**\n",
    "\n",
    "**链接：https://leetcode-cn.com/problems/word-search-ii/**\n",
    "\n",
    "## 一、题目\n",
    "\n",
    "给定一个 m x n 二维字符网格 board 和一个单词（字符串）列表 words，找出所有同时在二维网格和字典中出现的单词。\n",
    "\n",
    "单词必须按照字母顺序，通过 相邻的单元格 内的字母构成，其中“相邻”单元格是那些水平相邻或垂直相邻的单元格。同一个单元格内的字母在一个单词中不允许被重复使用。\n",
    "\n",
    "### 提示：\n",
    "\n",
    "- m == board.length\n",
    "- n == board[i].length\n",
    "- 1 <= m, n <= 12\n",
    "- board[i][j] 是一个小写英文字母\n",
    "- 1 <= words.length <= 3 * 10^4\n",
    "- 1 <= words[i].length <= 10\n",
    "- words[i] 由小写英文字母组成\n",
    "- words 中的所有字符串互不相同\n",
    "\n",
    "## 二、示例\n",
    "\n",
    "### 示例 1：\n",
    "\n",
    "输入：board = [[\"o\",\"a\",\"a\",\"n\"],[\"e\",\"t\",\"a\",\"e\"],[\"i\",\"h\",\"k\",\"r\"],[\"i\",\"f\",\"l\",\"v\"]], words = [\"oath\",\"pea\",\"eat\",\"rain\"]\n",
    "\n",
    "输出：[\"eat\",\"oath\"]\n",
    "\n",
    "### 示例 2：\n",
    "\n",
    "输入：board = [[\"a\",\"b\"],[\"c\",\"d\"]], words = [\"abcb\"]\n",
    "\n",
    "输出：[]\n",
    "\n",
    "## 三、解题思路\n",
    "\n",
    "### 深度优先搜索"
   ]
  },
  {
   "cell_type": "code",
   "execution_count": 1,
   "metadata": {},
   "outputs": [],
   "source": [
    "def findWords(board, words):\n",
    "    dx = [1, -1, 0, 0]\n",
    "    dy = [0, 0, -1, 1]\n",
    "    m, n = len(board), len(board[0])\n",
    "    def dfs(word, i, cur, last, visited):\n",
    "        if i >= len(word):\n",
    "            return True\n",
    "        for oration in range(4):\n",
    "            newRow, newCol = cur[0] + dx[oration], cur[1] + dy[oration]\n",
    "            if (newRow, newCol) == last:\n",
    "                continue\n",
    "            if newRow < 0 or newCol < 0 or newRow >= m or newCol >= n:\n",
    "                continue\n",
    "            if board[newRow][newCol] != word[i]:\n",
    "                continue\n",
    "            if (newRow, newCol) in visited:\n",
    "                continue\n",
    "            visited.add((newRow, newCol))\n",
    "            if dfs(word, i+1, (newRow, newCol), cur, visited):\n",
    "                return True\n",
    "            visited.remove((newRow, newCol))\n",
    "        return False\n",
    "    boardMap = {}\n",
    "    for row in range(m):\n",
    "        for col in range(n):\n",
    "            ch = board[row][col]\n",
    "            if ch in boardMap:\n",
    "                boardMap[ch].append((row, col))\n",
    "            else:\n",
    "                boardMap[ch] = [(row, col)]\n",
    "    ret = []\n",
    "    for word in words:\n",
    "        wordSet = set(word)\n",
    "        if wordSet & boardMap.keys() != wordSet:\n",
    "            continue\n",
    "        for pos in boardMap[word[0]]:\n",
    "            if dfs(word, 1, pos, None, {pos}):\n",
    "                ret.append(word)\n",
    "                break\n",
    "    return ret"
   ]
  },
  {
   "cell_type": "code",
   "execution_count": 2,
   "metadata": {},
   "outputs": [
    {
     "data": {
      "text/plain": [
       "['oath', 'eat']"
      ]
     },
     "execution_count": 2,
     "metadata": {},
     "output_type": "execute_result"
    }
   ],
   "source": [
    "findWords(board = [[\"o\",\"a\",\"a\",\"n\"],[\"e\",\"t\",\"a\",\"e\"],[\"i\",\"h\",\"k\",\"r\"],[\"i\",\"f\",\"l\",\"v\"]], words = [\"oath\",\"pea\",\"eat\",\"rain\"])"
   ]
  },
  {
   "cell_type": "code",
   "execution_count": 3,
   "metadata": {},
   "outputs": [
    {
     "data": {
      "text/plain": [
       "[]"
      ]
     },
     "execution_count": 3,
     "metadata": {},
     "output_type": "execute_result"
    }
   ],
   "source": [
    "findWords(board = [[\"a\",\"b\"],[\"c\",\"d\"]], words = [\"abcb\"])"
   ]
  },
  {
   "cell_type": "code",
   "execution_count": null,
   "metadata": {},
   "outputs": [],
   "source": []
  }
 ],
 "metadata": {
  "kernelspec": {
   "display_name": "Python 3",
   "language": "python",
   "name": "python3"
  },
  "language_info": {
   "codemirror_mode": {
    "name": "ipython",
    "version": 3
   },
   "file_extension": ".py",
   "mimetype": "text/x-python",
   "name": "python",
   "nbconvert_exporter": "python",
   "pygments_lexer": "ipython3",
   "version": "3.6.5"
  }
 },
 "nbformat": 4,
 "nbformat_minor": 2
}
