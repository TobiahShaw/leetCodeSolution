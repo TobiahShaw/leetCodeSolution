{
  "cells": [
    {
      "metadata": {
        "collapsed": true
      },
      "cell_type": "markdown",
      "source": "# 计算右侧小于当前元素的个数\n\n**题目来源：力扣（LeetCode）**\n\n**链接：https://leetcode-cn.com/problems/count-of-smaller-numbers-after-self/**\n\n## 一、题目\n\n给定一个整数数组 nums，按要求返回一个新数组 counts。数组 counts 有该性质： counts[i] 的值是  nums[i] 右侧小于 nums[i] 的元素的数量。\n\n## 二、示例\n\n输入: [5,2,6,1]\n\n输出: [2,1,1,0] \n\n解释:\n\n5 的右侧有 2 个更小的元素 (2 和 1).\n\n2 的右侧仅有 1 个更小的元素 (1).\n\n6 的右侧有 1 个更小的元素 (1).\n\n1 的右侧有 0 个更小的元素.\n\n## 三、解题思路\n\n最暴力的方法，即对每个元素扫描其右侧比他小的元素，累加个数。假设数组元素的个数为N，算法复杂度为 O(n^2)。\n\n### 一、暴力法（超时）"
    },
    {
      "metadata": {
        "trusted": true
      },
      "cell_type": "code",
      "source": "def countSmaller(nums):\n    count = [0] * len(nums)\n    for i in range(len(nums)):\n        if i == len(nums) - 1:\n            count[i] = 0\n            continue\n        cur = nums[i]\n        for j in nums[i+1:]:\n            if j < nums[i]:\n                count[i] += 1\n    return count",
      "execution_count": 1,
      "outputs": []
    },
    {
      "metadata": {
        "trusted": true
      },
      "cell_type": "code",
      "source": "countSmaller([5,2,6,1])",
      "execution_count": 2,
      "outputs": [
        {
          "output_type": "execute_result",
          "execution_count": 2,
          "data": {
            "text/plain": "[2, 1, 1, 0]"
          },
          "metadata": {}
        }
      ]
    },
    {
      "metadata": {
        "trusted": true
      },
      "cell_type": "code",
      "source": "",
      "execution_count": null,
      "outputs": []
    }
  ],
  "metadata": {
    "kernelspec": {
      "name": "python36",
      "display_name": "Python 3.6",
      "language": "python"
    },
    "language_info": {
      "mimetype": "text/x-python",
      "nbconvert_exporter": "python",
      "name": "python",
      "pygments_lexer": "ipython3",
      "version": "3.6.6",
      "file_extension": ".py",
      "codemirror_mode": {
        "version": 3,
        "name": "ipython"
      }
    }
  },
  "nbformat": 4,
  "nbformat_minor": 2
}