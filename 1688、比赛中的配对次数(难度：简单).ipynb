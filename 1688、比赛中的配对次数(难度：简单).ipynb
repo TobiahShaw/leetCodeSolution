{
 "cells": [
  {
   "cell_type": "markdown",
   "metadata": {},
   "source": [
    "# 比赛中的配对次数\n",
    "\n",
    "**题目来源：力扣（LeetCode）**\n",
    "\n",
    "**链接：https://leetcode-cn.com/problems/count-of-matches-in-tournament/**\n",
    "\n",
    "## 一、题目\n",
    "\n",
    "给你一个整数 n ，表示比赛中的队伍数。比赛遵循一种独特的赛制：\n",
    "\n",
    "- 如果当前队伍数是 偶数 ，那么每支队伍都会与另一支队伍配对。总共进行 n / 2 场比赛，且产生 n / 2 支队伍进入下一轮。\n",
    "- 如果当前队伍数为 奇数 ，那么将会随机轮空并晋级一支队伍，其余的队伍配对。总共进行 (n - 1) / 2 场比赛，且产生 (n - 1) / 2 + 1 支队伍进入下一轮。\n",
    "\n",
    "返回在比赛中进行的配对次数，直到决出获胜队伍为止。\n",
    "\n",
    "### 提示：\n",
    "\n",
    "- 1 <= n <= 200\n",
    "\n",
    "## 二、示例\n",
    "\n",
    "### 示例 1：\n",
    "\n",
    "输入：n = 7\n",
    "\n",
    "输出：6\n",
    "\n",
    "解释：比赛详情：\n",
    "\n",
    "- 第 1 轮：队伍数 = 7 ，配对次数 = 3 ，4 支队伍晋级。\n",
    "- 第 2 轮：队伍数 = 4 ，配对次数 = 2 ，2 支队伍晋级。\n",
    "- 第 3 轮：队伍数 = 2 ，配对次数 = 1 ，决出 1 支获胜队伍。\n",
    "\n",
    "总配对次数 = 3 + 2 + 1 = 6\n",
    "\n",
    "### 示例 2：\n",
    "\n",
    "输入：n = 14\n",
    "\n",
    "输出：13\n",
    "\n",
    "解释：比赛详情：\n",
    "\n",
    "- 第 1 轮：队伍数 = 14 ，配对次数 = 7 ，7 支队伍晋级。\n",
    "- 第 2 轮：队伍数 = 7 ，配对次数 = 3 ，4 支队伍晋级。 \n",
    "- 第 3 轮：队伍数 = 4 ，配对次数 = 2 ，2 支队伍晋级。\n",
    "- 第 4 轮：队伍数 = 2 ，配对次数 = 1 ，决出 1 支获胜队伍。\n",
    "\n",
    "总配对次数 = 7 + 3 + 2 + 1 = 13\n",
    "\n",
    "## 三、解题思路\n",
    "\n",
    "### 一、递归"
   ]
  },
  {
   "cell_type": "code",
   "execution_count": 1,
   "metadata": {},
   "outputs": [],
   "source": [
    "def numberOfMatches(n: int) -> int:\n",
    "    if n <= 1:\n",
    "        return 0\n",
    "    cur = n // 2\n",
    "    if n % 2 == 0:\n",
    "        return cur + numberOfMatches(cur)\n",
    "    else:\n",
    "        return cur + numberOfMatches(cur + 1)"
   ]
  },
  {
   "cell_type": "code",
   "execution_count": 2,
   "metadata": {},
   "outputs": [
    {
     "data": {
      "text/plain": [
       "6"
      ]
     },
     "execution_count": 2,
     "metadata": {},
     "output_type": "execute_result"
    }
   ],
   "source": [
    "numberOfMatches(7)"
   ]
  },
  {
   "cell_type": "code",
   "execution_count": 3,
   "metadata": {},
   "outputs": [
    {
     "data": {
      "text/plain": [
       "13"
      ]
     },
     "execution_count": 3,
     "metadata": {},
     "output_type": "execute_result"
    }
   ],
   "source": [
    "numberOfMatches(14)"
   ]
  },
  {
   "cell_type": "markdown",
   "metadata": {},
   "source": [
    "### 二、模拟过程"
   ]
  },
  {
   "cell_type": "code",
   "execution_count": 4,
   "metadata": {},
   "outputs": [],
   "source": [
    "def numberOfMatches(n: int) -> int:\n",
    "    ret = 0\n",
    "    while n > 1:\n",
    "        if n % 2 == 0:\n",
    "            n //= 2\n",
    "            ret += n\n",
    "        else:\n",
    "            ret += (n - 1) // 2\n",
    "            n = (n - 1) // 2 + 1\n",
    "    return ret"
   ]
  },
  {
   "cell_type": "code",
   "execution_count": 5,
   "metadata": {},
   "outputs": [
    {
     "data": {
      "text/plain": [
       "6"
      ]
     },
     "execution_count": 5,
     "metadata": {},
     "output_type": "execute_result"
    }
   ],
   "source": [
    "numberOfMatches(7)"
   ]
  },
  {
   "cell_type": "code",
   "execution_count": 6,
   "metadata": {},
   "outputs": [
    {
     "data": {
      "text/plain": [
       "13"
      ]
     },
     "execution_count": 6,
     "metadata": {},
     "output_type": "execute_result"
    }
   ],
   "source": [
    "numberOfMatches(14)"
   ]
  },
  {
   "cell_type": "code",
   "execution_count": null,
   "metadata": {},
   "outputs": [],
   "source": []
  }
 ],
 "metadata": {
  "kernelspec": {
   "display_name": "Python 3",
   "language": "python",
   "name": "python3"
  },
  "language_info": {
   "codemirror_mode": {
    "name": "ipython",
    "version": 3
   },
   "file_extension": ".py",
   "mimetype": "text/x-python",
   "name": "python",
   "nbconvert_exporter": "python",
   "pygments_lexer": "ipython3",
   "version": "3.6.5"
  }
 },
 "nbformat": 4,
 "nbformat_minor": 2
}
