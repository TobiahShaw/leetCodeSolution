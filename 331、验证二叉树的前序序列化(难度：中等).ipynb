{
 "cells": [
  {
   "cell_type": "markdown",
   "metadata": {},
   "source": [
    "# 验证二叉树的前序序列化\n",
    "\n",
    "**题目来源：力扣（LeetCode）**\n",
    "\n",
    "**链接：https://leetcode-cn.com/problems/verify-preorder-serialization-of-a-binary-tree/**\n",
    "\n",
    "## 一、题目\n",
    "\n",
    "序列化二叉树的一种方法是使用前序遍历。当我们遇到一个非空节点时，我们可以记录下这个节点的值。如果它是一个空节点，我们可以使用一个标记值记录，例如 #。\n",
    "\n",
    "```\n",
    "     _9_\n",
    "    /   \\\n",
    "   3     2\n",
    "  / \\   / \\\n",
    " 4   1  #  6\n",
    "/ \\ / \\   / \\\n",
    "# # # #   # #\n",
    "```\n",
    "\n",
    "例如，上面的二叉树可以被序列化为字符串 \"9,3,4,#,#,1,#,#,2,#,6,#,#\"，其中 # 代表一个空节点。\n",
    "\n",
    "给定一串以逗号分隔的序列，验证它是否是正确的二叉树的前序序列化。编写一个在不重构树的条件下的可行算法。\n",
    "\n",
    "每个以逗号分隔的字符或为一个整数或为一个表示 null 指针的 '#' 。\n",
    "\n",
    "你可以认为输入格式总是有效的，例如它永远不会包含两个连续的逗号，比如 \"1,,3\" 。\n",
    "\n",
    "## 二、示例\n",
    "\n",
    "### 示例 1：\n",
    "\n",
    "输入: \"9,3,4,#,#,1,#,#,2,#,6,#,#\"\n",
    "\n",
    "输出: true\n",
    "\n",
    "### 示例 2:\n",
    "\n",
    "输入: \"1,#\"\n",
    "\n",
    "输出: false\n",
    "\n",
    "### 示例 3:\n",
    "\n",
    "输入: \"9,#,#,1\"\n",
    "\n",
    "输出: false\n",
    "\n",
    "## 三、解题思路\n",
    "\n",
    "### 利用栈\n",
    "\n",
    "我们可以定义一个概念，叫做槽位。一个槽位可以被看作「当前二叉树中正在等待被节点填充」的那些位置。\n",
    "\n",
    "二叉树的建立也伴随着槽位数量的变化。每当遇到一个节点时：\n",
    "\n",
    "- 如果遇到了空节点，则要消耗一个槽位；\n",
    "\n",
    "- 如果遇到了非空节点，则除了消耗一个槽位外，还要再补充两个槽位。\n",
    "\n",
    "此外，还需要将根节点作为特殊情况处理。"
   ]
  },
  {
   "cell_type": "code",
   "execution_count": 1,
   "metadata": {},
   "outputs": [],
   "source": [
    "def isValidSerialization(preorder: str) -> bool:\n",
    "    n = len(preorder)\n",
    "    i = 0\n",
    "    stack = []\n",
    "    stack.append(1)\n",
    "    while i < n:\n",
    "        if not stack:\n",
    "            return False\n",
    "        if preorder[i] == \",\":\n",
    "            i+=1\n",
    "        elif preorder[i] == \"#\":\n",
    "            top = stack.pop() - 1\n",
    "            if top > 0:\n",
    "                stack.append(top)\n",
    "            i+=1\n",
    "        else:\n",
    "            while i < n and preorder[i].isdigit():\n",
    "                i+=1\n",
    "            top = stack.pop() - 1\n",
    "            if top > 0:\n",
    "                stack.append(top)\n",
    "            stack.append(2)\n",
    "    return not stack"
   ]
  },
  {
   "cell_type": "code",
   "execution_count": 2,
   "metadata": {},
   "outputs": [
    {
     "data": {
      "text/plain": [
       "True"
      ]
     },
     "execution_count": 2,
     "metadata": {},
     "output_type": "execute_result"
    }
   ],
   "source": [
    "isValidSerialization(\"9,3,4,#,#,1,#,#,2,#,6,#,#\")"
   ]
  },
  {
   "cell_type": "code",
   "execution_count": 3,
   "metadata": {},
   "outputs": [
    {
     "data": {
      "text/plain": [
       "False"
      ]
     },
     "execution_count": 3,
     "metadata": {},
     "output_type": "execute_result"
    }
   ],
   "source": [
    "isValidSerialization(\"1,#\")"
   ]
  },
  {
   "cell_type": "code",
   "execution_count": 4,
   "metadata": {},
   "outputs": [
    {
     "data": {
      "text/plain": [
       "False"
      ]
     },
     "execution_count": 4,
     "metadata": {},
     "output_type": "execute_result"
    }
   ],
   "source": [
    "isValidSerialization(\"9,#,#,1\")"
   ]
  },
  {
   "cell_type": "code",
   "execution_count": null,
   "metadata": {},
   "outputs": [],
   "source": []
  }
 ],
 "metadata": {
  "kernelspec": {
   "display_name": "Python 3",
   "language": "python",
   "name": "python3"
  },
  "language_info": {
   "codemirror_mode": {
    "name": "ipython",
    "version": 3
   },
   "file_extension": ".py",
   "mimetype": "text/x-python",
   "name": "python",
   "nbconvert_exporter": "python",
   "pygments_lexer": "ipython3",
   "version": "3.6.5"
  }
 },
 "nbformat": 4,
 "nbformat_minor": 2
}
