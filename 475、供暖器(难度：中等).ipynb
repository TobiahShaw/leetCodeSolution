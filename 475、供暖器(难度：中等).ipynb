{
 "cells": [
  {
   "cell_type": "markdown",
   "metadata": {},
   "source": [
    "# 供暖器\n",
    "\n",
    "**题目来源：力扣（LeetCode）**\n",
    "\n",
    "**链接：https://leetcode-cn.com/problems/heaters/**\n",
    "\n",
    "## 一、题目\n",
    "\n",
    "冬季已经来临。 你的任务是设计一个有固定加热半径的供暖器向所有房屋供暖。\n",
    "\n",
    "在加热器的加热半径范围内的每个房屋都可以获得供暖。\n",
    "\n",
    "现在，给出位于一条水平线上的房屋 houses 和供暖器 heaters 的位置，请你找出并返回可以覆盖所有房屋的最小加热半径。\n",
    "\n",
    "说明：所有供暖器都遵循你的半径标准，加热的半径也一样。\n",
    "\n",
    "### 提示：\n",
    "\n",
    "- 1 <= houses.length, heaters.length <= 3 * 10^4\n",
    "- 1 <= houses[i], heaters[i] <= 10^9\n",
    "\n",
    "## 二、示例\n",
    "\n",
    "### 示例 1：\n",
    "\n",
    "输入: houses = [1,2,3], heaters = [2]\n",
    "\n",
    "输出: 1\n",
    "\n",
    "解释: 仅在位置2上有一个供暖器。如果我们将加热半径设为1，那么所有房屋就都能得到供暖。\n",
    "\n",
    "### 示例 2:\n",
    "\n",
    "输入: houses = [1,2,3,4], heaters = [1,4]\n",
    "\n",
    "输出: 1\n",
    "\n",
    "解释: 在位置1, 4上有两个供暖器。我们需要将加热半径设为1，这样所有房屋就都能得到供暖。\n",
    "\n",
    "### 示例 3：\n",
    "\n",
    "输入：houses = [1,5], heaters = [2]\n",
    "\n",
    "输出：3\n",
    "\n",
    "## 三、解题思路\n",
    "\n",
    "### 二分"
   ]
  },
  {
   "cell_type": "code",
   "execution_count": 1,
   "metadata": {},
   "outputs": [],
   "source": [
    "def findRadius(houses, heaters) -> int:\n",
    "    from bisect import bisect_right\n",
    "    ans = 0\n",
    "    heaters.sort()\n",
    "    for house in houses:\n",
    "        j = bisect_right(heaters, house)\n",
    "        i = j - 1\n",
    "        rightDistance = heaters[j] - house if j < len(heaters) else float('inf')\n",
    "        leftDistance = house - heaters[i] if i >= 0 else float('inf')\n",
    "        curDistance = min(leftDistance, rightDistance)\n",
    "        ans = max(ans, curDistance)\n",
    "    return ans"
   ]
  },
  {
   "cell_type": "code",
   "execution_count": 2,
   "metadata": {},
   "outputs": [
    {
     "data": {
      "text/plain": [
       "1"
      ]
     },
     "execution_count": 2,
     "metadata": {},
     "output_type": "execute_result"
    }
   ],
   "source": [
    "findRadius(houses = [1,2,3], heaters = [2])"
   ]
  },
  {
   "cell_type": "code",
   "execution_count": 3,
   "metadata": {},
   "outputs": [
    {
     "data": {
      "text/plain": [
       "1"
      ]
     },
     "execution_count": 3,
     "metadata": {},
     "output_type": "execute_result"
    }
   ],
   "source": [
    "findRadius(houses = [1,2,3,4], heaters = [1,4])"
   ]
  },
  {
   "cell_type": "code",
   "execution_count": 4,
   "metadata": {},
   "outputs": [
    {
     "data": {
      "text/plain": [
       "3"
      ]
     },
     "execution_count": 4,
     "metadata": {},
     "output_type": "execute_result"
    }
   ],
   "source": [
    "findRadius(houses = [1,5], heaters = [2])"
   ]
  },
  {
   "cell_type": "code",
   "execution_count": null,
   "metadata": {},
   "outputs": [],
   "source": []
  }
 ],
 "metadata": {
  "kernelspec": {
   "display_name": "Python 3",
   "language": "python",
   "name": "python3"
  },
  "language_info": {
   "codemirror_mode": {
    "name": "ipython",
    "version": 3
   },
   "file_extension": ".py",
   "mimetype": "text/x-python",
   "name": "python",
   "nbconvert_exporter": "python",
   "pygments_lexer": "ipython3",
   "version": "3.6.5"
  }
 },
 "nbformat": 4,
 "nbformat_minor": 2
}
