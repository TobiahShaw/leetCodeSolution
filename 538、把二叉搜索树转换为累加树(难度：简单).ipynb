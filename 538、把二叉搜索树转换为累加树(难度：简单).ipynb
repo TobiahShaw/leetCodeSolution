{
 "cells": [
  {
   "cell_type": "markdown",
   "metadata": {},
   "source": [
    "# 把二叉搜索树转换为累加树\n",
    "\n",
    "**题目来源：力扣（LeetCode）**\n",
    "\n",
    "**链接：https://leetcode-cn.com/problems/convert-bst-to-greater-tree/**\n",
    "\n",
    "## 一、题目\n",
    "\n",
    "给定一个二叉搜索树（Binary Search Tree），把它转换成为累加树（Greater Tree)，使得每个节点的值是原来的节点值加上所有大于它的节点值之和。\n",
    "\n",
    "## 二、示例\n",
    "\n",
    "输入: 原始二叉搜索树:\n",
    "\n",
    "              5\n",
    "            /   \\\n",
    "           2     13\n",
    "\n",
    "输出: 转换为累加树:\n",
    "\n",
    "             18\n",
    "            /   \\\n",
    "          20     13\n",
    "\n",
    "## 三、解题思路\n",
    "\n",
    "### 二叉搜索数逆中序遍历"
   ]
  },
  {
   "cell_type": "code",
   "execution_count": 1,
   "metadata": {},
   "outputs": [],
   "source": [
    "class TreeNode:\n",
    "    def __init__(self, x):\n",
    "        self.val = x\n",
    "        self.left = None\n",
    "        self.right = None"
   ]
  },
  {
   "cell_type": "code",
   "execution_count": 2,
   "metadata": {},
   "outputs": [],
   "source": [
    "root = TreeNode(5)\n",
    "\n",
    "root.left = TreeNode(2)\n",
    "root.right = TreeNode(13)"
   ]
  },
  {
   "cell_type": "code",
   "execution_count": 3,
   "metadata": {},
   "outputs": [],
   "source": [
    "def printTree(root):\n",
    "    if not root:\n",
    "        return\n",
    "    print(root.val, end=' ')\n",
    "    printTree(root.left)\n",
    "    printTree(root.right)"
   ]
  },
  {
   "cell_type": "code",
   "execution_count": 4,
   "metadata": {},
   "outputs": [],
   "source": [
    "def convertBST(root: TreeNode) -> TreeNode:\n",
    "    def dfs(node):\n",
    "        nonlocal total\n",
    "        if node:\n",
    "            dfs(node.right)\n",
    "            total += node.val\n",
    "            node.val = total\n",
    "            dfs(node.left)\n",
    "    total = 0\n",
    "    dfs(root)\n",
    "    return root"
   ]
  },
  {
   "cell_type": "code",
   "execution_count": 5,
   "metadata": {},
   "outputs": [
    {
     "name": "stdout",
     "output_type": "stream",
     "text": [
      "18 20 13 "
     ]
    }
   ],
   "source": [
    "printTree(convertBST(root))"
   ]
  },
  {
   "cell_type": "code",
   "execution_count": null,
   "metadata": {},
   "outputs": [],
   "source": []
  }
 ],
 "metadata": {
  "kernelspec": {
   "display_name": "Python 3",
   "language": "python",
   "name": "python3"
  },
  "language_info": {
   "codemirror_mode": {
    "name": "ipython",
    "version": 3
   },
   "file_extension": ".py",
   "mimetype": "text/x-python",
   "name": "python",
   "nbconvert_exporter": "python",
   "pygments_lexer": "ipython3",
   "version": "3.6.5"
  }
 },
 "nbformat": 4,
 "nbformat_minor": 2
}
