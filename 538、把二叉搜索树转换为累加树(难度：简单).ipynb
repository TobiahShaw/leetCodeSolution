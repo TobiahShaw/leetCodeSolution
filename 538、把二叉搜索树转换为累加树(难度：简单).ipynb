{
 "cells": [
  {
   "cell_type": "markdown",
   "metadata": {},
   "source": [
    "# 把二叉搜索树转换为累加树\n",
    "\n",
    "**题目来源：力扣（LeetCode）**\n",
    "\n",
    "**链接：https://leetcode-cn.com/problems/convert-bst-to-greater-tree/**\n",
    "\n",
    "## 一、题目\n",
    "\n",
    "给定一个二叉搜索树（Binary Search Tree），把它转换成为累加树（Greater Tree)，使得每个节点的值是原来的节点值加上所有大于它的节点值之和。\n",
    "\n",
    "## 二、示例\n",
    "\n",
    "输入: 原始二叉搜索树:\n",
    "\n",
    "              5\n",
    "            /   \\\n",
    "           2     13\n",
    "\n",
    "输出: 转换为累加树:\n",
    "\n",
    "             18\n",
    "            /   \\\n",
    "          20     13\n",
    "\n",
    "## 三、解题思路\n",
    "\n",
    "### 二叉搜索数逆中序遍历"
   ]
  },
  {
   "cell_type": "code",
   "execution_count": 1,
   "metadata": {},
   "outputs": [],
   "source": [
    "class TreeNode:\n",
    "    def __init__(self, x):\n",
    "        self.val = x\n",
    "        self.left = None\n",
    "        self.right = None"
   ]
  },
  {
   "cell_type": "code",
   "execution_count": 2,
   "metadata": {},
   "outputs": [],
   "source": [
    "root = TreeNode(5)\n",
    "\n",
    "root.left = TreeNode(2)\n",
    "root.right = TreeNode(13)"
   ]
  },
  {
   "cell_type": "code",
   "execution_count": 3,
   "metadata": {},
   "outputs": [],
   "source": [
    "def printTree(root):\n",
    "    if not root:\n",
    "        return\n",
    "    print(root.val, end=' ')\n",
    "    printTree(root.left)\n",
    "    printTree(root.right)"
   ]
  },
  {
   "cell_type": "code",
   "execution_count": 4,
   "metadata": {},
   "outputs": [],
   "source": [
    "def convertBST(root: TreeNode) -> TreeNode:\n",
    "    def dfs(node):\n",
    "        nonlocal total\n",
    "        if node:\n",
    "            dfs(node.right)\n",
    "            total += node.val\n",
    "            node.val = total\n",
    "            dfs(node.left)\n",
    "    total = 0\n",
    "    dfs(root)\n",
    "    return root"
   ]
  },
  {
   "cell_type": "code",
   "execution_count": 5,
   "metadata": {},
   "outputs": [
    {
     "name": "stdout",
     "output_type": "stream",
     "text": [
      "18 20 13 "
     ]
    }
   ],
   "source": [
    "printTree(convertBST(root))"
   ]
  },
  {
   "cell_type": "markdown",
   "metadata": {},
   "source": [
    "### Morris 遍历\n",
    "\n",
    "Morris 遍历的核心思想是利用树的大量空闲指针，实现空间开销的极限缩减。其反序中序遍历规则总结如下：\n",
    "\n",
    "1. 如果当前节点的右子节点为空，处理当前节点，并遍历当前节点的左子节点；\n",
    "\n",
    "2. 如果当前节点的右子节点不为空，找到当前节点右子树的最左节点（该节点为当前节点中序遍历的前驱节点）；\n",
    "\n",
    "    - 如果最左节点的左指针为空，将最左节点的左指针指向当前节点，遍历当前节点的右子节点；\n",
    "\n",
    "    - 如果最左节点的左指针不为空，将最左节点的左指针重新置为空（恢复树的原状），处理当前节点，并将当前节点置为其左节点；\n",
    "\n",
    "\n",
    "3. 重复步骤 1 和步骤 2，直到遍历结束。\n",
    "\n",
    "这样我们利用 Morris 遍历的方法，反序中序遍历该二叉搜索树，即可实现线性时间与常数空间的遍历。"
   ]
  },
  {
   "cell_type": "code",
   "execution_count": 6,
   "metadata": {},
   "outputs": [],
   "source": [
    "root = TreeNode(5)\n",
    "\n",
    "root.left = TreeNode(2)\n",
    "root.right = TreeNode(13)"
   ]
  },
  {
   "cell_type": "code",
   "execution_count": 7,
   "metadata": {},
   "outputs": [],
   "source": [
    "def convertBST(root: TreeNode) -> TreeNode:\n",
    "    def getSuccessor(node: TreeNode) -> TreeNode:\n",
    "        succ = node.right\n",
    "        while succ.left and succ.left != node:\n",
    "            succ = succ.left\n",
    "        return succ\n",
    "    \n",
    "    total = 0\n",
    "    node = root\n",
    "    while node:\n",
    "        if not node.right:\n",
    "            total += node.val\n",
    "            node.val = total\n",
    "            node = node.left\n",
    "        else:\n",
    "            succ = getSuccessor(node)\n",
    "            if not succ.left:\n",
    "                succ.left = node\n",
    "                node = node.right\n",
    "            else:\n",
    "                succ.left = None\n",
    "                total += node.val\n",
    "                node.val = total\n",
    "                node = node.left\n",
    "    return root"
   ]
  },
  {
   "cell_type": "code",
   "execution_count": 8,
   "metadata": {},
   "outputs": [
    {
     "name": "stdout",
     "output_type": "stream",
     "text": [
      "18 20 13 "
     ]
    }
   ],
   "source": [
    "printTree(convertBST(root))"
   ]
  },
  {
   "cell_type": "code",
   "execution_count": null,
   "metadata": {},
   "outputs": [],
   "source": []
  }
 ],
 "metadata": {
  "kernelspec": {
   "display_name": "Python 3",
   "language": "python",
   "name": "python3"
  },
  "language_info": {
   "codemirror_mode": {
    "name": "ipython",
    "version": 3
   },
   "file_extension": ".py",
   "mimetype": "text/x-python",
   "name": "python",
   "nbconvert_exporter": "python",
   "pygments_lexer": "ipython3",
   "version": "3.6.5"
  }
 },
 "nbformat": 4,
 "nbformat_minor": 2
}
