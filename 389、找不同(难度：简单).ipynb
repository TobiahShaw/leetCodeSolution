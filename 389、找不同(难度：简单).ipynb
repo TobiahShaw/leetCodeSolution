{
 "cells": [
  {
   "cell_type": "markdown",
   "metadata": {},
   "source": [
    "# 找不同\n",
    "\n",
    "**题目来源：力扣（LeetCode）**\n",
    "\n",
    "**链接：https://leetcode-cn.com/problems/find-the-difference/**\n",
    "\n",
    "## 一、题目\n",
    "\n",
    "给定两个字符串 s 和 t，它们只包含小写字母。\n",
    "\n",
    "字符串 t 由字符串 s 随机重排，然后在随机位置添加一个字母。\n",
    "\n",
    "请找出在 t 中被添加的字母。\n",
    "\n",
    "## 二、示例\n",
    "\n",
    "### 示例 1：\n",
    "\n",
    "输入：s = \"abcd\", t = \"abcde\"\n",
    "\n",
    "输出：\"e\"\n",
    "\n",
    "解释：'e' 是那个被添加的字母。\n",
    "\n",
    "### 示例 2：\n",
    "\n",
    "输入：s = \"\", t = \"y\"\n",
    "\n",
    "输出：\"y\"\n",
    "\n",
    "### 示例 3：\n",
    "\n",
    "输入：s = \"a\", t = \"aa\"\n",
    "\n",
    "输出：\"a\"\n",
    "\n",
    "### 示例 4：\n",
    "\n",
    "输入：s = \"ae\", t = \"aea\"\n",
    "\n",
    "输出：\"a\"\n",
    "\n",
    "## 三、解题思路\n",
    "\n",
    "### 利用字典"
   ]
  },
  {
   "cell_type": "code",
   "execution_count": 1,
   "metadata": {},
   "outputs": [],
   "source": [
    "def findTheDifference(s: str, t: str) -> str:\n",
    "    dic = {}\n",
    "    for c in s:\n",
    "        if c in dic:\n",
    "            dic[c] += 1\n",
    "        else:\n",
    "            dic[c] = 1\n",
    "    for c in t:\n",
    "        if c in dic and dic[c] > 0:\n",
    "            dic[c] -=1\n",
    "        else:\n",
    "            return c\n",
    "    for key in dic.keys():\n",
    "        if dic[key] < 0:\n",
    "            return key\n",
    "    return None"
   ]
  },
  {
   "cell_type": "code",
   "execution_count": 2,
   "metadata": {},
   "outputs": [
    {
     "data": {
      "text/plain": [
       "'e'"
      ]
     },
     "execution_count": 2,
     "metadata": {},
     "output_type": "execute_result"
    }
   ],
   "source": [
    "findTheDifference(\"abcd\", \"abcde\")"
   ]
  },
  {
   "cell_type": "code",
   "execution_count": 3,
   "metadata": {},
   "outputs": [
    {
     "data": {
      "text/plain": [
       "'y'"
      ]
     },
     "execution_count": 3,
     "metadata": {},
     "output_type": "execute_result"
    }
   ],
   "source": [
    "findTheDifference(\"\", \"y\")"
   ]
  },
  {
   "cell_type": "code",
   "execution_count": 4,
   "metadata": {},
   "outputs": [
    {
     "data": {
      "text/plain": [
       "'a'"
      ]
     },
     "execution_count": 4,
     "metadata": {},
     "output_type": "execute_result"
    }
   ],
   "source": [
    "findTheDifference(\"a\", \"aa\")"
   ]
  },
  {
   "cell_type": "code",
   "execution_count": 5,
   "metadata": {},
   "outputs": [
    {
     "data": {
      "text/plain": [
       "'a'"
      ]
     },
     "execution_count": 5,
     "metadata": {},
     "output_type": "execute_result"
    }
   ],
   "source": [
    "findTheDifference(\"ae\", \"aea\")"
   ]
  },
  {
   "cell_type": "code",
   "execution_count": null,
   "metadata": {},
   "outputs": [],
   "source": []
  }
 ],
 "metadata": {
  "kernelspec": {
   "display_name": "Python 3",
   "language": "python",
   "name": "python3"
  },
  "language_info": {
   "codemirror_mode": {
    "name": "ipython",
    "version": 3
   },
   "file_extension": ".py",
   "mimetype": "text/x-python",
   "name": "python",
   "nbconvert_exporter": "python",
   "pygments_lexer": "ipython3",
   "version": "3.6.5"
  }
 },
 "nbformat": 4,
 "nbformat_minor": 2
}
