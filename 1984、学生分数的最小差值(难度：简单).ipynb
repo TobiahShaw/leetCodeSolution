{
 "cells": [
  {
   "cell_type": "markdown",
   "metadata": {},
   "source": [
    "# 学生分数的最小差值\n",
    "\n",
    "**题目来源：力扣（LeetCode）**\n",
    "\n",
    "**链接：https://leetcode-cn.com/problems/minimum-difference-between-highest-and-lowest-of-k-scores/**\n",
    "\n",
    "## 一、题目\n",
    "\n",
    "给你一个 下标从 0 开始 的整数数组 nums ，其中 nums[i] 表示第 i 名学生的分数。另给你一个整数 k 。\n",
    "\n",
    "从数组中选出任意 k 名学生的分数，使这 k 个分数间 最高分 和 最低分 的 差值 达到 最小化 。\n",
    "\n",
    "返回可能的 最小差值 。\n",
    "\n",
    "### 提示：\n",
    "\n",
    "- 1 <= k <= nums.length <= 1000\n",
    "- 0 <= nums[i] <= 10^5\n",
    "\n",
    "## 二、示例\n",
    "\n",
    "### 示例 1：\n",
    "\n",
    "输入：nums = [90], k = 1\n",
    "\n",
    "输出：0\n",
    "\n",
    "解释：选出 1 名学生的分数，仅有 1 种方法：\n",
    "\n",
    "- [90] 最高分和最低分之间的差值是 90 - 90 = 0\n",
    "\n",
    "可能的最小差值是 0\n",
    "\n",
    "### 示例 2：\n",
    "\n",
    "输入：nums = [9,4,1,7], k = 2\n",
    "\n",
    "输出：2\n",
    "\n",
    "解释：选出 2 名学生的分数，有 6 种方法：\n",
    "\n",
    "- [9,4,1,7] 最高分和最低分之间的差值是 9 - 4 = 5\n",
    "- [9,4,1,7] 最高分和最低分之间的差值是 9 - 1 = 8\n",
    "- [9,4,1,7] 最高分和最低分之间的差值是 9 - 7 = 2\n",
    "- [9,4,1,7] 最高分和最低分之间的差值是 4 - 1 = 3\n",
    "- [9,4,1,7] 最高分和最低分之间的差值是 7 - 4 = 3\n",
    "- [9,4,1,7] 最高分和最低分之间的差值是 7 - 1 = 6\n",
    "\n",
    "可能的最小差值是 2\n",
    "\n",
    "## 三、解题思路\n",
    "\n",
    "### 排序"
   ]
  },
  {
   "cell_type": "code",
   "execution_count": 1,
   "metadata": {},
   "outputs": [],
   "source": [
    "def minimumDifference(nums, k: int) -> int:\n",
    "    n = len(nums)\n",
    "    if k == 1 or n < 2:\n",
    "        return 0\n",
    "    nums.sort()\n",
    "    ret = float('inf')\n",
    "    for start in range(n-k+1):\n",
    "        end = start+k-1\n",
    "        sub = nums[end] - nums[start]\n",
    "        if sub < ret:\n",
    "            ret = sub\n",
    "    return ret"
   ]
  },
  {
   "cell_type": "code",
   "execution_count": 2,
   "metadata": {},
   "outputs": [
    {
     "data": {
      "text/plain": [
       "0"
      ]
     },
     "execution_count": 2,
     "metadata": {},
     "output_type": "execute_result"
    }
   ],
   "source": [
    "minimumDifference(nums = [90], k = 1)"
   ]
  },
  {
   "cell_type": "code",
   "execution_count": 3,
   "metadata": {},
   "outputs": [
    {
     "data": {
      "text/plain": [
       "2"
      ]
     },
     "execution_count": 3,
     "metadata": {},
     "output_type": "execute_result"
    }
   ],
   "source": [
    "minimumDifference(nums = [9,4,1,7], k = 2)"
   ]
  },
  {
   "cell_type": "code",
   "execution_count": null,
   "metadata": {},
   "outputs": [],
   "source": []
  }
 ],
 "metadata": {
  "kernelspec": {
   "display_name": "Python 3",
   "language": "python",
   "name": "python3"
  },
  "language_info": {
   "codemirror_mode": {
    "name": "ipython",
    "version": 3
   },
   "file_extension": ".py",
   "mimetype": "text/x-python",
   "name": "python",
   "nbconvert_exporter": "python",
   "pygments_lexer": "ipython3",
   "version": "3.6.5"
  }
 },
 "nbformat": 4,
 "nbformat_minor": 2
}
