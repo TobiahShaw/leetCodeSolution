{
 "cells": [
  {
   "cell_type": "markdown",
   "metadata": {
    "collapsed": true
   },
   "source": [
    "# 分发饼干\n",
    "\n",
    "**题目来源：力扣（LeetCode）**\n",
    "\n",
    "**链接：https://leetcode-cn.com/problems/assign-cookies/**\n",
    "\n",
    "## 一、题目\n",
    "\n",
    "假设你是一位很棒的家长，想要给你的孩子们一些小饼干。但是，每个孩子最多只能给一块饼干。对每个孩子 i ，都有一个胃口值 gi ，这是能让孩子们满足胃口的饼干的最小尺寸；并且每块饼干 j ，都有一个尺寸 sj 。如果 sj >= gi ，我们可以将这个饼干 j 分配给孩子 i ，这个孩子会得到满足。你的目标是尽可能满足越多数量的孩子，并输出这个最大数值。\n",
    "\n",
    "### 注意：\n",
    "\n",
    "你可以假设胃口值为正。\n",
    "\n",
    "一个小朋友最多只能拥有一块饼干。\n",
    "\n",
    "## 二、示例\n",
    "\n",
    "### 示例 1:\n",
    "\n",
    "输入: [1,2,3], [1,1]\n",
    "\n",
    "输出: 1\n",
    "\n",
    "解释: \n",
    "\n",
    "你有三个孩子和两块小饼干，3个孩子的胃口值分别是：1,2,3。虽然你有两块小饼干，由于他们的尺寸都是1，你只能让胃口值是1的孩子满足。所以你应该输出1。\n",
    "\n",
    "### 示例 2:\n",
    "\n",
    "输入: [1,2], [1,2,3]\n",
    "\n",
    "输出: 2\n",
    "\n",
    "解释: \n",
    "\n",
    "你有两个孩子和三块小饼干，2个孩子的胃口值分别是1,2。你拥有的饼干数量和尺寸都足以让所有孩子满足。所以你应该输出2.\n",
    "\n",
    "## 三、解题思路\n",
    "\n",
    "### 贪心\n",
    "\n",
    "- 先对需求和饼干排序\n",
    "- 按照从小到大的顺序使用饼干尝试是否满足某个孩子，每个糖果只尝试一次，若成功则尝试继续满足下一个，直到发现没有更多的饼干或者孩子"
   ]
  },
  {
   "cell_type": "code",
   "execution_count": 1,
   "metadata": {},
   "outputs": [],
   "source": [
    "def findContentChildren(g, s):\n",
    "    g = sorted(g)\n",
    "    s = sorted(s)\n",
    "    i = j = 0\n",
    "    while i < len(g) and j < len(s):\n",
    "        if s[j] >= g[i]:\n",
    "            i += 1\n",
    "            j += 1\n",
    "        else:\n",
    "            j += 1\n",
    "    return i"
   ]
  },
  {
   "cell_type": "code",
   "execution_count": 2,
   "metadata": {},
   "outputs": [
    {
     "data": {
      "text/plain": [
       "1"
      ]
     },
     "execution_count": 2,
     "metadata": {},
     "output_type": "execute_result"
    }
   ],
   "source": [
    "findContentChildren([1,2,3], [1,1])"
   ]
  },
  {
   "cell_type": "code",
   "execution_count": 3,
   "metadata": {},
   "outputs": [
    {
     "data": {
      "text/plain": [
       "2"
      ]
     },
     "execution_count": 3,
     "metadata": {},
     "output_type": "execute_result"
    }
   ],
   "source": [
    "findContentChildren([1,2], [1,2,3])"
   ]
  },
  {
   "cell_type": "markdown",
   "metadata": {},
   "source": [
    "### 贪心二"
   ]
  },
  {
   "cell_type": "code",
   "execution_count": 4,
   "metadata": {},
   "outputs": [],
   "source": [
    "def findContentChildren(g, s):\n",
    "    s.sort()\n",
    "    g.sort()\n",
    "    kid = 0\n",
    "    for i in s:\n",
    "        if kid == len(g):\n",
    "            break\n",
    "        if g[kid] <= i:\n",
    "             kid += 1\n",
    "    return kid"
   ]
  },
  {
   "cell_type": "code",
   "execution_count": 5,
   "metadata": {},
   "outputs": [
    {
     "data": {
      "text/plain": [
       "1"
      ]
     },
     "execution_count": 5,
     "metadata": {},
     "output_type": "execute_result"
    }
   ],
   "source": [
    "findContentChildren([1,2,3], [1,1])"
   ]
  },
  {
   "cell_type": "code",
   "execution_count": 6,
   "metadata": {},
   "outputs": [
    {
     "data": {
      "text/plain": [
       "2"
      ]
     },
     "execution_count": 6,
     "metadata": {},
     "output_type": "execute_result"
    }
   ],
   "source": [
    "findContentChildren([1,2], [1,2,3])"
   ]
  },
  {
   "cell_type": "code",
   "execution_count": null,
   "metadata": {},
   "outputs": [],
   "source": []
  }
 ],
 "metadata": {
  "kernelspec": {
   "display_name": "Python 3",
   "language": "python",
   "name": "python3"
  },
  "language_info": {
   "codemirror_mode": {
    "name": "ipython",
    "version": 3
   },
   "file_extension": ".py",
   "mimetype": "text/x-python",
   "name": "python",
   "nbconvert_exporter": "python",
   "pygments_lexer": "ipython3",
   "version": "3.6.5"
  }
 },
 "nbformat": 4,
 "nbformat_minor": 2
}
