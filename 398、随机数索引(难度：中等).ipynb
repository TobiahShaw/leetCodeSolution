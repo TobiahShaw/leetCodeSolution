{
 "cells": [
  {
   "cell_type": "markdown",
   "metadata": {},
   "source": [
    "# 随机数索引\n",
    "\n",
    "**题目来源：力扣（LeetCode）**\n",
    "\n",
    "**链接：https://leetcode-cn.com/problems/random-pick-index/**\n",
    "\n",
    "## 一、题目\n",
    "\n",
    "给定一个可能含有重复元素的整数数组，要求随机输出给定的数字的索引。 您可以假设给定的数字一定存在于数组中。\n",
    "\n",
    "### 注意：\n",
    "\n",
    "数组大小可能非常大。 使用太多额外空间的解决方案将不会通过测试。\n",
    "\n",
    "## 二、示例\n",
    "\n",
    "```\n",
    "nums = [1,2,3,3,3]\n",
    "solution = Solution(nums)\n",
    "# pick(3) 应该返回索引 2,3 或者 4。每个索引的返回概率应该相等。\n",
    "solution.pick(3)\n",
    "# pick(1) 应该返回 0。因为只有nums[0]等于1。\n",
    "solution.pick(1)\n",
    "```\n",
    "\n",
    "## 三、解题思路\n",
    "\n",
    "### 哈希表"
   ]
  },
  {
   "cell_type": "code",
   "execution_count": 1,
   "metadata": {},
   "outputs": [],
   "source": [
    "from random import choice\n",
    "class Solution:\n",
    "\n",
    "    def __init__(self, nums):\n",
    "        self.map = {}\n",
    "        for i in range(len(nums)):\n",
    "            if nums[i] in self.map:\n",
    "                self.map[nums[i]].append(i)\n",
    "            else:\n",
    "                self.map[nums[i]] = [i]\n",
    "\n",
    "    def pick(self, target: int) -> int:\n",
    "        return choice(self.map[target])"
   ]
  },
  {
   "cell_type": "code",
   "execution_count": 2,
   "metadata": {},
   "outputs": [
    {
     "name": "stdout",
     "output_type": "stream",
     "text": [
      "3\n",
      "0\n"
     ]
    }
   ],
   "source": [
    "nums = [1,2,3,3,3]\n",
    "solution = Solution(nums)\n",
    "# pick(3) 应该返回索引 2,3 或者 4。每个索引的返回概率应该相等。\n",
    "print(solution.pick(3))\n",
    "# pick(1) 应该返回 0。因为只有nums[0]等于1。\n",
    "print(solution.pick(1))"
   ]
  },
  {
   "cell_type": "code",
   "execution_count": null,
   "metadata": {},
   "outputs": [],
   "source": []
  }
 ],
 "metadata": {
  "kernelspec": {
   "display_name": "Python 3",
   "language": "python",
   "name": "python3"
  },
  "language_info": {
   "codemirror_mode": {
    "name": "ipython",
    "version": 3
   },
   "file_extension": ".py",
   "mimetype": "text/x-python",
   "name": "python",
   "nbconvert_exporter": "python",
   "pygments_lexer": "ipython3",
   "version": "3.6.5"
  }
 },
 "nbformat": 4,
 "nbformat_minor": 2
}
