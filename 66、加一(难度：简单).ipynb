{
  "cells": [
    {
      "metadata": {
        "collapsed": true
      },
      "cell_type": "markdown",
      "source": "# 加一\n\n**题目来源：力扣（LeetCode）**\n\n**链接：https://leetcode-cn.com/problems/plus-one/**\n\n## 一、题目\n\n给定一个由整数组成的非空数组所表示的非负整数，在该数的基础上加一。\n\n最高位数字存放在数组的首位， 数组中每个元素只存储单个数字。\n\n你可以假设除了整数 0 之外，这个整数不会以零开头。\n\n## 二、示例\n\n### 示例 1:\n\n输入: [1,2,3]\n\n输出: [1,2,4]\n\n解释: 输入数组表示数字 123。\n\n### 示例 2:\n\n输入: [4,3,2,1]\n\n输出: [4,3,2,2]\n\n解释: 输入数组表示数字 4321。\n\n## 解题思路\n\n### 模拟"
    },
    {
      "metadata": {
        "trusted": true
      },
      "cell_type": "code",
      "source": "def plusOne(digits):\n    result = []\n    add = 1\n    for i in reversed(digits):\n        res = i + add\n        if res >= 10:\n            result.append(res % 10)\n            add = 1\n        else:\n            result.append(res)\n            add = 0\n    if add == 1:\n        result.append(1)\n    return reversed(result)",
      "execution_count": 1,
      "outputs": []
    },
    {
      "metadata": {
        "trusted": true
      },
      "cell_type": "code",
      "source": "list(plusOne([1,2,3]))",
      "execution_count": 8,
      "outputs": [
        {
          "output_type": "execute_result",
          "execution_count": 8,
          "data": {
            "text/plain": "[1, 2, 4]"
          },
          "metadata": {}
        }
      ]
    },
    {
      "metadata": {
        "trusted": true
      },
      "cell_type": "code",
      "source": "list(plusOne([4,3,2,1]))",
      "execution_count": 9,
      "outputs": [
        {
          "output_type": "execute_result",
          "execution_count": 9,
          "data": {
            "text/plain": "[4, 3, 2, 2]"
          },
          "metadata": {}
        }
      ]
    },
    {
      "metadata": {
        "trusted": true
      },
      "cell_type": "code",
      "source": "",
      "execution_count": null,
      "outputs": []
    }
  ],
  "metadata": {
    "kernelspec": {
      "name": "python36",
      "display_name": "Python 3.6",
      "language": "python"
    },
    "language_info": {
      "mimetype": "text/x-python",
      "nbconvert_exporter": "python",
      "name": "python",
      "pygments_lexer": "ipython3",
      "version": "3.6.6",
      "file_extension": ".py",
      "codemirror_mode": {
        "version": 3,
        "name": "ipython"
      }
    }
  },
  "nbformat": 4,
  "nbformat_minor": 2
}