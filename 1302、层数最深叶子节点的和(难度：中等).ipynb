{
  "cells": [
    {
      "metadata": {
        "collapsed": true
      },
      "cell_type": "markdown",
      "source": "# 层数最深叶子节点的和\n\n**题目来源：力扣（LeetCode）**\n\n**链接：https://leetcode-cn.com/problems/deepest-leaves-sum/**\n\n## 一、题目\n\n给你一棵二叉树，请你返回层数最深的叶子节点的和。\n\n## 二、示例\n\n```\n        1\n       / \\\n      2   3\n     / \\   \\\n    4   5   6\n   /         \\\n  7           8\n```\n\n输入：root = [1,2,3,4,5,null,6,7,null,null,null,null,8]\n\n输出：15\n\n## 三、解题思路\n\n### 广度优先搜索"
    },
    {
      "metadata": {
        "trusted": true
      },
      "cell_type": "code",
      "source": "class TreeNode:\n    def __init__(self, x):\n        self.val = x\n        self.left = None\n        self.right = None\n        \nroot = TreeNode(1)\n\nroot.left = TreeNode(2)\nroot.right = TreeNode(3)\n\nroot.left.left = TreeNode(4)\nroot.left.right = TreeNode(5)\n\nroot.right.right = TreeNode(6)\n\nroot.left.left.left = TreeNode(7)\nroot.right.right.right = TreeNode(8)",
      "execution_count": 1,
      "outputs": []
    },
    {
      "metadata": {
        "trusted": true
      },
      "cell_type": "code",
      "source": "def deepestLeavesSum(root: TreeNode) -> int:\n    if not root:\n        return 0\n    layer, values = [root], []\n    while layer:\n        next_layer, layer_val = [], []\n        for node in layer:\n            layer_val.append(node.val)\n            if node.left:\n                next_layer.append(node.left)\n            if node.right:\n                next_layer.append(node.right)\n        layer = next_layer\n        values.append(layer_val)\n    return sum(values[-1])",
      "execution_count": 2,
      "outputs": []
    },
    {
      "metadata": {
        "trusted": true
      },
      "cell_type": "code",
      "source": "deepestLeavesSum(root)",
      "execution_count": 3,
      "outputs": [
        {
          "output_type": "execute_result",
          "execution_count": 3,
          "data": {
            "text/plain": "15"
          },
          "metadata": {}
        }
      ]
    },
    {
      "metadata": {
        "trusted": true
      },
      "cell_type": "code",
      "source": "",
      "execution_count": null,
      "outputs": []
    }
  ],
  "metadata": {
    "kernelspec": {
      "name": "python36",
      "display_name": "Python 3.6",
      "language": "python"
    },
    "language_info": {
      "mimetype": "text/x-python",
      "nbconvert_exporter": "python",
      "name": "python",
      "pygments_lexer": "ipython3",
      "version": "3.6.6",
      "file_extension": ".py",
      "codemirror_mode": {
        "version": 3,
        "name": "ipython"
      }
    }
  },
  "nbformat": 4,
  "nbformat_minor": 2
}