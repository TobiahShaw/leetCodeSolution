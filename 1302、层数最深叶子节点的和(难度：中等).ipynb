{
 "cells": [
  {
   "cell_type": "markdown",
   "metadata": {
    "collapsed": true
   },
   "source": [
    "# 层数最深叶子节点的和\n",
    "\n",
    "**题目来源：力扣（LeetCode）**\n",
    "\n",
    "**链接：https://leetcode-cn.com/problems/deepest-leaves-sum/**\n",
    "\n",
    "## 一、题目\n",
    "\n",
    "给你一棵二叉树，请你返回层数最深的叶子节点的和。\n",
    "\n",
    "### 提示：\n",
    "\n",
    "- 树中节点数目在范围 [1, 10^4] 之间。\n",
    "- 1 <= Node.val <= 100\n",
    "\n",
    "## 二、示例\n",
    "\n",
    "### 示例 1：\n",
    "\n",
    "```\n",
    "        1\n",
    "       / \\\n",
    "      2   3\n",
    "     / \\   \\\n",
    "    4   5   6\n",
    "   /         \\\n",
    "  7           8\n",
    "```\n",
    "\n",
    "输入：root = [1,2,3,4,5,null,6,7,null,null,null,null,8]\n",
    "\n",
    "输出：15\n",
    "\n",
    "### 示例 2：\n",
    "\n",
    "输入：root = [6,7,8,2,7,1,3,9,null,1,4,null,null,null,5]\n",
    "\n",
    "输出：19\n",
    "\n",
    "## 三、解题思路\n",
    "\n",
    "### 广度优先搜索"
   ]
  },
  {
   "cell_type": "code",
   "execution_count": 1,
   "metadata": {},
   "outputs": [],
   "source": [
    "class TreeNode:\n",
    "    def __init__(self, x):\n",
    "        self.val = x\n",
    "        self.left = None\n",
    "        self.right = None\n",
    "        \n",
    "root = TreeNode(1)\n",
    "\n",
    "root.left = TreeNode(2)\n",
    "root.right = TreeNode(3)\n",
    "\n",
    "root.left.left = TreeNode(4)\n",
    "root.left.right = TreeNode(5)\n",
    "\n",
    "root.right.right = TreeNode(6)\n",
    "\n",
    "root.left.left.left = TreeNode(7)\n",
    "root.right.right.right = TreeNode(8)"
   ]
  },
  {
   "cell_type": "code",
   "execution_count": 2,
   "metadata": {},
   "outputs": [],
   "source": [
    "def deepestLeavesSum(root: TreeNode) -> int:\n",
    "    if not root:\n",
    "        return 0\n",
    "    layer, values = [root], []\n",
    "    while layer:\n",
    "        next_layer, layer_val = [], []\n",
    "        for node in layer:\n",
    "            layer_val.append(node.val)\n",
    "            if node.left:\n",
    "                next_layer.append(node.left)\n",
    "            if node.right:\n",
    "                next_layer.append(node.right)\n",
    "        layer = next_layer\n",
    "        values.append(layer_val)\n",
    "    return sum(values[-1])"
   ]
  },
  {
   "cell_type": "code",
   "execution_count": 3,
   "metadata": {},
   "outputs": [
    {
     "data": {
      "text/plain": [
       "15"
      ]
     },
     "execution_count": 3,
     "metadata": {},
     "output_type": "execute_result"
    }
   ],
   "source": [
    "deepestLeavesSum(root)"
   ]
  },
  {
   "cell_type": "code",
   "execution_count": null,
   "metadata": {},
   "outputs": [],
   "source": []
  }
 ],
 "metadata": {
  "kernelspec": {
   "display_name": "Python 3",
   "language": "python",
   "name": "python3"
  },
  "language_info": {
   "codemirror_mode": {
    "name": "ipython",
    "version": 3
   },
   "file_extension": ".py",
   "mimetype": "text/x-python",
   "name": "python",
   "nbconvert_exporter": "python",
   "pygments_lexer": "ipython3",
   "version": "3.6.5"
  }
 },
 "nbformat": 4,
 "nbformat_minor": 2
}
