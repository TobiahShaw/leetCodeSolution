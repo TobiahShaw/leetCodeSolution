{
 "cells": [
  {
   "cell_type": "markdown",
   "metadata": {},
   "source": [
    "# 在LR字符串中交换相邻字符\n",
    "\n",
    "**题目来源：力扣（LeetCode）**\n",
    "\n",
    "**链接：https://leetcode.cn/problems/swap-adjacent-in-lr-string/**\n",
    "\n",
    "## 一、题目\n",
    "\n",
    "在一个由 'L' , 'R' 和 'X' 三个字符组成的字符串（例如\"RXXLRXRXL\"）中进行移动操作。一次移动操作指用一个\"LX\"替换一个\"XL\"，或者用一个\"XR\"替换一个\"RX\"。现给定起始字符串start和结束字符串end，请编写代码，当且仅当存在一系列移动操作使得start可以转换成end时， 返回True。\n",
    "\n",
    "### 提示：\n",
    "\n",
    "- 1 <= len(start) = len(end) <= 10000。\n",
    "- start和end中的字符串仅限于'L', 'R'和'X'。\n",
    "\n",
    "## 二、示例\n",
    "\n",
    "输入: start = \"RXXLRXRXL\", end = \"XRLXXRRLX\"\n",
    "\n",
    "输出: True\n",
    "\n",
    "解释:我们可以通过以下几步将start转换成end:\n",
    "\n",
    "```\n",
    "RXXLRXRXL ->\n",
    "XRXLRXRXL ->\n",
    "XRLXRXRXL ->\n",
    "XRLXXRRXL ->\n",
    "XRLXXRRLX\n",
    "```\n",
    "\n",
    "## 三、解题思路\n"
   ]
  },
  {
   "cell_type": "code",
   "execution_count": 1,
   "metadata": {},
   "outputs": [],
   "source": [
    "class Solution:\n",
    "    def canTransform(self, start: str, end: str) -> bool:\n",
    "        if len(start) != len(end):\n",
    "            # 两个字符串不等长肯定不满足\n",
    "            return False\n",
    "        if start.replace(\"X\", \"\") != end.replace(\"X\", \"\"):\n",
    "            # L、R都只可以和X交换，他们相对位置应该一致\n",
    "            return False\n",
    "        sl, sr, el, er = [], [], [], []\n",
    "        n = len(start)\n",
    "        for i in range(n):\n",
    "            if start[i] == \"L\":\n",
    "                sl.append(i)\n",
    "            if start[i] == \"R\":\n",
    "                sr.append(i)\n",
    "            if end[i] == \"L\":\n",
    "                el.append(i)\n",
    "            if end[i] == \"R\":\n",
    "                er.append(i)\n",
    "        # L只能向左走，那么start中的L下标应该大于等于其在end中对应的L的下标\n",
    "        for i in range(len(sl)):\n",
    "            if sl[i] < el[i]:\n",
    "                return False\n",
    "        # R只能向右走，那么start中的R下标应该小于等于其在end中对应的R的下标\n",
    "        for i in range(len(sr)):\n",
    "            if sr[i] > er[i]:\n",
    "                return False\n",
    "        return True"
   ]
  },
  {
   "cell_type": "code",
   "execution_count": 2,
   "metadata": {},
   "outputs": [
    {
     "data": {
      "text/plain": [
       "True"
      ]
     },
     "execution_count": 2,
     "metadata": {},
     "output_type": "execute_result"
    }
   ],
   "source": [
    "s = Solution()\n",
    "s.canTransform(start = \"RXXLRXRXL\", end = \"XRLXXRRLX\")"
   ]
  },
  {
   "cell_type": "code",
   "execution_count": null,
   "metadata": {},
   "outputs": [],
   "source": []
  }
 ],
 "metadata": {
  "kernelspec": {
   "display_name": "Python 3.10.4 64-bit",
   "language": "python",
   "name": "python3"
  },
  "language_info": {
   "codemirror_mode": {
    "name": "ipython",
    "version": 3
   },
   "file_extension": ".py",
   "mimetype": "text/x-python",
   "name": "python",
   "nbconvert_exporter": "python",
   "pygments_lexer": "ipython3",
   "version": "3.10.4"
  },
  "orig_nbformat": 4,
  "vscode": {
   "interpreter": {
    "hash": "4f946df053fbf2b937619d3c5458e7af74262f9a954d8797ba0b27400bcafe06"
   }
  }
 },
 "nbformat": 4,
 "nbformat_minor": 2
}
