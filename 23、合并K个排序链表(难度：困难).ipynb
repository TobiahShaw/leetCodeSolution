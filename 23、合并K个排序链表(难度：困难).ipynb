{
  "cells": [
    {
      "metadata": {
        "collapsed": true
      },
      "cell_type": "markdown",
      "source": "# 合并K个排序链表\n\n**题目来源：力扣（LeetCode）**\n\n**链接：https://leetcode-cn.com/problems/merge-k-sorted-lists/**\n\n## 一、题目\n\n合并 k 个排序链表，返回合并后的排序链表。\n\n## 二、示例\n\n输入:\n\n[\n  \n  1->4->5,\n  \n  1->3->4,\n  \n  2->6\n  \n]\n\n输出: 1->1->2->3->4->4->5->6\n\n## 解题思路"
    },
    {
      "metadata": {
        "trusted": true
      },
      "cell_type": "code",
      "source": "class ListNode:\n    def __init__(self, x):\n        self.val = x\n        self.next = None",
      "execution_count": 1,
      "outputs": []
    },
    {
      "metadata": {},
      "cell_type": "markdown",
      "source": "### 一、暴力法\n\n像[合并两个有序链表](https://leetcode-cn.com/problems/merge-two-sorted-lists)一样，先将前两个合并，再将合并后的和第三个合并。这里不做暴力法的实现。\n\n### 二、利用数组\n\n- 将链表所有元素放到数组内\n- 将数组排序\n- 将链表按照数组排序链接起来"
    },
    {
      "metadata": {
        "trusted": true
      },
      "cell_type": "code",
      "source": "head1 = ListNode(1)\nhead1.next = ListNode(4)\nhead1.next.next = ListNode(5)\n\nhead2 = ListNode(1)\nhead2.next = ListNode(3)\nhead2.next.next = ListNode(4)\n\nhead3 = ListNode(2)\nhead3.next = ListNode(6)\n\nlists = [head1, head2, head3]",
      "execution_count": 2,
      "outputs": []
    },
    {
      "metadata": {
        "trusted": true
      },
      "cell_type": "code",
      "source": "def mergeKLists(lists) -> ListNode:\n    arr = []\n    for head in lists:\n        while head:\n            arr.append(head)\n            head = head.next\n    if not arr:\n        return None\n    arr = sorted(arr, key = lambda l:l.val)\n    for i in range(1, len(arr)):\n        arr[i-1].next = arr[i]\n    arr[len(arr) - 1].next = None\n    return arr[0]",
      "execution_count": 3,
      "outputs": []
    },
    {
      "metadata": {
        "trusted": true
      },
      "cell_type": "code",
      "source": "head = mergeKLists(lists)\nwhile head:\n    print(head.val, end=' ')\n    head = head.next",
      "execution_count": 4,
      "outputs": [
        {
          "output_type": "stream",
          "text": "1 1 2 3 4 4 5 6 ",
          "name": "stdout"
        }
      ]
    },
    {
      "metadata": {},
      "cell_type": "markdown",
      "source": "### 三、分治\n\n像暴力法差不多，但是不是依次进行合并，是将每个链表两两合并后的结果再次两两合并，一次类推，直到合并出一个链表。"
    },
    {
      "metadata": {
        "trusted": true
      },
      "cell_type": "code",
      "source": "head1 = ListNode(1)\nhead1.next = ListNode(4)\nhead1.next.next = ListNode(5)\n\nhead2 = ListNode(1)\nhead2.next = ListNode(3)\nhead2.next.next = ListNode(4)\n\nhead3 = ListNode(2)\nhead3.next = ListNode(6)\n\nlists = [head1, head2, head3]",
      "execution_count": 5,
      "outputs": []
    },
    {
      "metadata": {
        "trusted": true
      },
      "cell_type": "code",
      "source": "def mergeKLists(lists) -> ListNode:\n    def mergeTwoList(l1, l2):\n        holder = ListNode(0)\n        curr = holder\n        while l1 and l2:\n            if l1.val < l2.val:\n                curr.next = l1\n                l1 = l1.next\n            else:\n                curr.next = l2\n                l2 = l2.next\n            curr = curr.next\n        curr.next = l1 if l1 is not None else l2\n        return holder.next\n    if not lists:\n        return None\n    if len(lists) == 1:\n        return lists[0]\n    if len(lists) == 2:\n        return mergeTwoList(lists[0], lists[1])\n    mid = len(lists) // 2\n    sub1 = lists[:mid]\n    sub2 = lists[mid:]\n\n    l1 = mergeKLists(sub1)\n    l2 = mergeKLists(sub2)\n\n    return mergeTwoList(l1, l2)",
      "execution_count": 6,
      "outputs": []
    },
    {
      "metadata": {
        "trusted": true
      },
      "cell_type": "code",
      "source": "head = mergeKLists(lists)\nwhile head:\n    print(head.val, end=' ')\n    head = head.next",
      "execution_count": 7,
      "outputs": [
        {
          "output_type": "stream",
          "text": "1 1 2 3 4 4 5 6 ",
          "name": "stdout"
        }
      ]
    },
    {
      "metadata": {
        "trusted": true
      },
      "cell_type": "code",
      "source": "",
      "execution_count": null,
      "outputs": []
    }
  ],
  "metadata": {
    "kernelspec": {
      "name": "python36",
      "display_name": "Python 3.6",
      "language": "python"
    },
    "language_info": {
      "mimetype": "text/x-python",
      "nbconvert_exporter": "python",
      "name": "python",
      "pygments_lexer": "ipython3",
      "version": "3.6.6",
      "file_extension": ".py",
      "codemirror_mode": {
        "version": 3,
        "name": "ipython"
      }
    }
  },
  "nbformat": 4,
  "nbformat_minor": 2
}