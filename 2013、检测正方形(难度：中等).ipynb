{
 "cells": [
  {
   "cell_type": "markdown",
   "metadata": {},
   "source": [
    "# 检测正方形\n",
    "\n",
    "**题目来源：力扣（LeetCode）**\n",
    "\n",
    "**链接：https://leetcode-cn.com/problems/detect-squares/**\n",
    "\n",
    "## 一、题目\n",
    "\n",
    "给你一个在 X-Y 平面上的点构成的数据流。设计一个满足下述要求的算法：\n",
    "\n",
    "- 添加 一个在数据流中的新点到某个数据结构中。可以添加 重复 的点，并会视作不同的点进行处理。\n",
    "- 给你一个查询点，请你从数据结构中选出三个点，使这三个点和查询点一同构成一个 面积为正 的 轴对齐正方形 ，统计 满足该要求的方案数目。\n",
    "- 轴对齐正方形 是一个正方形，除四条边长度相同外，还满足每条边都与 x-轴 或 y-轴 平行或垂直。\n",
    "\n",
    "实现 DetectSquares 类：\n",
    "\n",
    "- DetectSquares() 使用空数据结构初始化对象\n",
    "- void add(int[] point) 向数据结构添加一个新的点 point = [x, y]\n",
    "- int count(int[] point) 统计按上述方式与点 point = [x, y] 共同构造 轴对齐正方形 的方案数。\n",
    "\n",
    "### 提示：\n",
    "\n",
    "- point.length == 2\n",
    "- 0 <= x, y <= 1000\n",
    "- 调用 add 和 count 的 总次数 最多为 5000\n",
    "\n",
    "## 二、示例\n",
    "\n",
    "输入：\n",
    "\n",
    "[\"DetectSquares\", \"add\", \"add\", \"add\", \"count\", \"count\", \"add\", \"count\"]\n",
    "\n",
    "[[], [[3, 10]], [[11, 2]], [[3, 2]], [[11, 10]], [[14, 8]], [[11, 2]], [[11, 10]]]\n",
    "\n",
    "输出：\n",
    "\n",
    "[null, null, null, null, 1, 0, null, 2]\n",
    "\n",
    "解释：\n",
    "\n",
    "```\n",
    "detectSquares = DetectSquares()\n",
    "detectSquares.add([3, 10])\n",
    "detectSquares.add([11, 2])\n",
    "detectSquares.add([3, 2])\n",
    "detectSquares.count([11, 10]) # 返回 1 。你可以选择： - 第一个，第二个，和第三个点\n",
    "detectSquares.count([14, 8])  # 返回 0 。查询点无法与数据结构中的这些点构成正方形。\n",
    "detectSquares.add([11, 2])    # 允许添加重复的点。\n",
    "detectSquares.count([11, 10]) # 返回 2 。你可以选择：- 第一个，第二个，和第三个点； - 第一个，第三个，和第四个点\n",
    "```\n",
    "\n",
    "## 三、解题思路"
   ]
  },
  {
   "cell_type": "code",
   "execution_count": 1,
   "metadata": {},
   "outputs": [],
   "source": [
    "class DetectSquares:\n",
    "\n",
    "    def __init__(self):\n",
    "        self.map = {}\n",
    "\n",
    "    def add(self, point) -> None:\n",
    "        x, y = point\n",
    "        if y in self.map:\n",
    "            self.map[y][x] = self.map[y].get(x, 0) + 1\n",
    "        else:\n",
    "            self.map[y] = {x : 1}\n",
    "\n",
    "    def count(self, point) -> int:\n",
    "        res = 0\n",
    "        x, y = point\n",
    "\n",
    "        if not y in self.map:\n",
    "            return 0\n",
    "        yCnt = self.map[y]\n",
    "\n",
    "        for col, colCnt in self.map.items():\n",
    "            if col != y:\n",
    "                # 根据对称性，这里可以不用取绝对值\n",
    "                d = col - y\n",
    "                res += colCnt.get(x, 0) * yCnt.get(x + d, 0) * colCnt.get(x + d, 0)\n",
    "                res += colCnt.get(x, 0) * yCnt.get(x - d, 0) * colCnt.get(x - d, 0)\n",
    "        \n",
    "        return res"
   ]
  },
  {
   "cell_type": "code",
   "execution_count": 2,
   "metadata": {},
   "outputs": [
    {
     "name": "stdout",
     "output_type": "stream",
     "text": [
      "1\n",
      "0\n",
      "2\n"
     ]
    }
   ],
   "source": [
    "detectSquares = DetectSquares()\n",
    "detectSquares.add([3, 10])\n",
    "detectSquares.add([11, 2])\n",
    "detectSquares.add([3, 2])\n",
    "print(detectSquares.count([11, 10])) # 返回 1 。你可以选择： - 第一个，第二个，和第三个点\n",
    "print(detectSquares.count([14, 8]))  # 返回 0 。查询点无法与数据结构中的这些点构成正方形。\n",
    "detectSquares.add([11, 2])    # 允许添加重复的点。\n",
    "print(detectSquares.count([11, 10])) # 返回 2 。你可以选择：- 第一个，第二个，和第三个点； - 第一个，第三个，和第四个点"
   ]
  },
  {
   "cell_type": "code",
   "execution_count": null,
   "metadata": {},
   "outputs": [],
   "source": []
  }
 ],
 "metadata": {
  "kernelspec": {
   "display_name": "Python 3",
   "language": "python",
   "name": "python3"
  },
  "language_info": {
   "codemirror_mode": {
    "name": "ipython",
    "version": 3
   },
   "file_extension": ".py",
   "mimetype": "text/x-python",
   "name": "python",
   "nbconvert_exporter": "python",
   "pygments_lexer": "ipython3",
   "version": "3.6.5"
  }
 },
 "nbformat": 4,
 "nbformat_minor": 2
}
