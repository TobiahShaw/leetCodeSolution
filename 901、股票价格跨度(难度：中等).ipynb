{
 "cells": [
  {
   "cell_type": "markdown",
   "metadata": {},
   "source": [
    "# 股票价格跨度\n",
    "\n",
    "**题目来源：力扣（LeetCode）**\n",
    "\n",
    "**链接：https://leetcode.cn/problems/online-stock-span/**\n",
    "\n",
    "## 一、题目\n",
    "\n",
    "编写一个 StockSpanner 类，它收集某些股票的每日报价，并返回该股票当日价格的跨度。\n",
    "\n",
    "今天股票价格的跨度被定义为股票价格小于或等于今天价格的最大连续日数（从今天开始往回数，包括今天）。\n",
    "\n",
    "例如，如果未来7天股票的价格是 [100, 80, 60, 70, 60, 75, 85]，那么股票跨度将是 [1, 1, 1, 2, 1, 4, 6]。\n",
    "\n",
    "### 提示：\n",
    "\n",
    "- 调用 StockSpanner.next(int price) 时，将有 1 <= price <= 10^5。\n",
    "- 每个测试用例最多可以调用  10000 次 StockSpanner.next。\n",
    "- 在所有测试用例中，最多调用 150000 次 StockSpanner.next。\n",
    "- 此问题的总时间限制减少了 50%。\n",
    "\n",
    "## 二、示例\n",
    "\n",
    "输入：[\"StockSpanner\",\"next\",\"next\",\"next\",\"next\",\"next\",\"next\",\"next\"], [[],[100],[80],[60],[70],[60],[75],[85]]\n",
    "\n",
    "输出：[null,1,1,1,2,1,4,6]\n",
    "\n",
    "解释：\n",
    "\n",
    "首先，初始化 S = StockSpanner()，然后：\n",
    "\n",
    "- S.next(100) 被调用并返回 1，\n",
    "- S.next(80) 被调用并返回 1，\n",
    "- S.next(60) 被调用并返回 1，\n",
    "- S.next(70) 被调用并返回 2，\n",
    "- S.next(60) 被调用并返回 1，\n",
    "- S.next(75) 被调用并返回 4，\n",
    "- S.next(85) 被调用并返回 6。\n",
    "\n",
    "注意 (例如) S.next(75) 返回 4，因为截至今天的最后 4 个价格\n",
    "(包括今天的价格 75) 小于或等于今天的价格。\n",
    "\n",
    "## 三、解题思路\n",
    "\n",
    "### 一、单调栈"
   ]
  },
  {
   "cell_type": "code",
   "execution_count": 1,
   "metadata": {},
   "outputs": [],
   "source": [
    "class StockSpanner:\n",
    "\n",
    "    def __init__(self):\n",
    "        self.stack = [(-1, float('inf'))]\n",
    "        self.idx = -1\n",
    "\n",
    "    def next(self, price: int) -> int:\n",
    "        self.idx += 1\n",
    "        while price >= self.stack[-1][1]:\n",
    "            self.stack.pop()\n",
    "        self.stack.append((self.idx, price))\n",
    "        return self.idx - self.stack[-2][0]"
   ]
  },
  {
   "cell_type": "code",
   "execution_count": 2,
   "metadata": {},
   "outputs": [
    {
     "data": {
      "text/plain": [
       "1"
      ]
     },
     "execution_count": 2,
     "metadata": {},
     "output_type": "execute_result"
    }
   ],
   "source": [
    "s = StockSpanner()\n",
    "s.next(100)"
   ]
  },
  {
   "cell_type": "code",
   "execution_count": 3,
   "metadata": {},
   "outputs": [
    {
     "data": {
      "text/plain": [
       "1"
      ]
     },
     "execution_count": 3,
     "metadata": {},
     "output_type": "execute_result"
    }
   ],
   "source": [
    "s.next(80)"
   ]
  },
  {
   "cell_type": "code",
   "execution_count": 4,
   "metadata": {},
   "outputs": [
    {
     "data": {
      "text/plain": [
       "1"
      ]
     },
     "execution_count": 4,
     "metadata": {},
     "output_type": "execute_result"
    }
   ],
   "source": [
    "s.next(60)"
   ]
  },
  {
   "cell_type": "code",
   "execution_count": 5,
   "metadata": {},
   "outputs": [
    {
     "data": {
      "text/plain": [
       "2"
      ]
     },
     "execution_count": 5,
     "metadata": {},
     "output_type": "execute_result"
    }
   ],
   "source": [
    "s.next(70)"
   ]
  },
  {
   "cell_type": "code",
   "execution_count": 6,
   "metadata": {},
   "outputs": [
    {
     "data": {
      "text/plain": [
       "1"
      ]
     },
     "execution_count": 6,
     "metadata": {},
     "output_type": "execute_result"
    }
   ],
   "source": [
    "s.next(60)"
   ]
  },
  {
   "cell_type": "code",
   "execution_count": 7,
   "metadata": {},
   "outputs": [
    {
     "data": {
      "text/plain": [
       "4"
      ]
     },
     "execution_count": 7,
     "metadata": {},
     "output_type": "execute_result"
    }
   ],
   "source": [
    "s.next(75)"
   ]
  },
  {
   "cell_type": "code",
   "execution_count": 8,
   "metadata": {},
   "outputs": [
    {
     "data": {
      "text/plain": [
       "6"
      ]
     },
     "execution_count": 8,
     "metadata": {},
     "output_type": "execute_result"
    }
   ],
   "source": [
    "s.next(85)"
   ]
  },
  {
   "cell_type": "code",
   "execution_count": null,
   "metadata": {},
   "outputs": [],
   "source": []
  }
 ],
 "metadata": {
  "kernelspec": {
   "display_name": "Python 3.10.4 64-bit",
   "language": "python",
   "name": "python3"
  },
  "language_info": {
   "codemirror_mode": {
    "name": "ipython",
    "version": 3
   },
   "file_extension": ".py",
   "mimetype": "text/x-python",
   "name": "python",
   "nbconvert_exporter": "python",
   "pygments_lexer": "ipython3",
   "version": "3.10.4"
  },
  "orig_nbformat": 4,
  "vscode": {
   "interpreter": {
    "hash": "4f946df053fbf2b937619d3c5458e7af74262f9a954d8797ba0b27400bcafe06"
   }
  }
 },
 "nbformat": 4,
 "nbformat_minor": 2
}
