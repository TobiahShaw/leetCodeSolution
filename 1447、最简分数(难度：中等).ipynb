{
 "cells": [
  {
   "cell_type": "markdown",
   "metadata": {},
   "source": [
    "# 最简分数\n",
    "\n",
    "**题目来源：力扣（LeetCode）**\n",
    "\n",
    "**链接：https://leetcode-cn.com/problems/simplified-fractions/submissions/**\n",
    "\n",
    "## 一、题目\n",
    "\n",
    "给你一个整数 n ，请你返回所有 0 到 1 之间（不包括 0 和 1）满足分母小于等于  n 的 最简 分数 。分数可以以 任意 顺序返回。\n",
    "\n",
    "### 提示：\n",
    "\n",
    "- 1 <= n <= 100\n",
    "\n",
    "## 二、示例\n",
    "\n",
    "### 示例 1：\n",
    "\n",
    "输入：n = 2\n",
    "\n",
    "输出：[\"1/2\"]\n",
    "\n",
    "解释：\"1/2\" 是唯一一个分母小于等于 2 的最简分数。\n",
    "\n",
    "### 示例 2：\n",
    "\n",
    "输入：n = 3\n",
    "\n",
    "输出：[\"1/2\",\"1/3\",\"2/3\"]\n",
    "\n",
    "### 示例 3：\n",
    "\n",
    "输入：n = 4\n",
    "\n",
    "输出：[\"1/2\",\"1/3\",\"1/4\",\"2/3\",\"3/4\"]\n",
    "\n",
    "解释：\"2/4\" 不是最简分数，因为它可以化简为 \"1/2\" 。\n",
    "\n",
    "### 示例 4：\n",
    "\n",
    "输入：n = 1\n",
    "\n",
    "输出：[]\n",
    "\n",
    "## 三、解题思路\n",
    "\n",
    "### 最大公约数\n",
    "\n",
    "只要分子分母的最大公约数是1即可"
   ]
  },
  {
   "cell_type": "code",
   "execution_count": 1,
   "metadata": {},
   "outputs": [],
   "source": [
    "def simplifiedFractions(n: int):\n",
    "    def gcd(a, b):\n",
    "        if b > a:\n",
    "            return gcd(b, a)\n",
    "        if a % b == 0:\n",
    "            return b\n",
    "        return gcd(a%b, b)\n",
    "    ret = []\n",
    "    for i in range(2, n+1):\n",
    "        for j in range(1, i):\n",
    "            if gcd(i, j) == 1:\n",
    "                ret.append(f\"{j}/{i}\")\n",
    "    return ret"
   ]
  },
  {
   "cell_type": "code",
   "execution_count": 2,
   "metadata": {},
   "outputs": [
    {
     "data": {
      "text/plain": [
       "['1/2']"
      ]
     },
     "execution_count": 2,
     "metadata": {},
     "output_type": "execute_result"
    }
   ],
   "source": [
    "simplifiedFractions(2)"
   ]
  },
  {
   "cell_type": "code",
   "execution_count": 3,
   "metadata": {},
   "outputs": [
    {
     "data": {
      "text/plain": [
       "['1/2', '1/3', '2/3']"
      ]
     },
     "execution_count": 3,
     "metadata": {},
     "output_type": "execute_result"
    }
   ],
   "source": [
    "simplifiedFractions(3)"
   ]
  },
  {
   "cell_type": "code",
   "execution_count": 4,
   "metadata": {},
   "outputs": [
    {
     "data": {
      "text/plain": [
       "['1/2', '1/3', '2/3', '1/4', '3/4']"
      ]
     },
     "execution_count": 4,
     "metadata": {},
     "output_type": "execute_result"
    }
   ],
   "source": [
    "simplifiedFractions(4)"
   ]
  },
  {
   "cell_type": "code",
   "execution_count": 5,
   "metadata": {},
   "outputs": [
    {
     "data": {
      "text/plain": [
       "[]"
      ]
     },
     "execution_count": 5,
     "metadata": {},
     "output_type": "execute_result"
    }
   ],
   "source": [
    "simplifiedFractions(1)"
   ]
  },
  {
   "cell_type": "code",
   "execution_count": null,
   "metadata": {},
   "outputs": [],
   "source": []
  }
 ],
 "metadata": {
  "kernelspec": {
   "display_name": "Python 3",
   "language": "python",
   "name": "python3"
  },
  "language_info": {
   "codemirror_mode": {
    "name": "ipython",
    "version": 3
   },
   "file_extension": ".py",
   "mimetype": "text/x-python",
   "name": "python",
   "nbconvert_exporter": "python",
   "pygments_lexer": "ipython3",
   "version": "3.6.5"
  }
 },
 "nbformat": 4,
 "nbformat_minor": 2
}
