{
 "cells": [
  {
   "cell_type": "markdown",
   "metadata": {},
   "source": [
    "# 跳跃游戏III\n",
    "\n",
    "**题目来源：力扣（LeetCode）**\n",
    "\n",
    "**链接：https://leetcode-cn.com/problems/find-common-characters/**\n",
    "\n",
    "## 一、题目\n",
    "\n",
    "这里有一个非负整数数组 arr，你最开始位于该数组的起始下标 start 处。当你位于下标 i 处时，你可以跳到 i + arr[i] 或者 i - arr[i]。\n",
    "\n",
    "请你判断自己是否能够跳到对应元素值为 0 的 任一 下标处。\n",
    "\n",
    "注意，不管是什么情况下，你都无法跳到数组之外。\n",
    "\n",
    "### 提示：\n",
    "\n",
    "- 1 <= arr.length <= 5 * 10^4\n",
    "- 0 <= arr[i] < arr.length\n",
    "- 0 <= start < arr.length\n",
    "\n",
    "## 二、示例\n",
    "\n",
    "### 示例 1：\n",
    "\n",
    "输入：arr = [4,2,3,0,3,1,2], start = 5\n",
    "\n",
    "输出：true\n",
    "\n",
    "解释：\n",
    "\n",
    "到达值为 0 的下标 3 有以下可能方案： \n",
    "\n",
    "下标 5 -> 下标 4 -> 下标 1 -> 下标 3 \n",
    "\n",
    "下标 5 -> 下标 6 -> 下标 4 -> 下标 1 -> 下标 3\n",
    "\n",
    "### 示例 2：\n",
    "\n",
    "输入：arr = [4,2,3,0,3,1,2], start = 0\n",
    "\n",
    "输出：true \n",
    "\n",
    "解释：\n",
    "\n",
    "到达值为 0 的下标 3 有以下可能方案：\n",
    "\n",
    "下标 0 -> 下标 4 -> 下标 1 -> 下标 3\n",
    "\n",
    "### 示例 3：\n",
    "\n",
    "输入：arr = [3,0,2,1,2], start = 2\n",
    "\n",
    "输出：false\n",
    "\n",
    "解释：无法到达值为 0 的下标 1 处。 \n",
    "\n",
    "## 三、解题思路\n",
    "\n",
    "### BFS"
   ]
  },
  {
   "cell_type": "code",
   "execution_count": 1,
   "metadata": {},
   "outputs": [],
   "source": [
    "def canReach(arr, start: int) -> bool:\n",
    "    if arr[start] == 0:\n",
    "        return True\n",
    "    visited = {start}\n",
    "    q = [start]\n",
    "    # queue head index\n",
    "    index = 0\n",
    "    n = len(arr)\n",
    "    while index < len(q):\n",
    "        i = q[index]\n",
    "        index += 1\n",
    "        for val in [i + arr[i], i - arr[i]]:\n",
    "            if 0 <= val < n and val not in visited:\n",
    "                if arr[val] == 0:\n",
    "                    return True\n",
    "                # as path\n",
    "                q.append(val)\n",
    "                # visited\n",
    "                visited.add(val)\n",
    "    return False"
   ]
  },
  {
   "cell_type": "code",
   "execution_count": 2,
   "metadata": {},
   "outputs": [
    {
     "data": {
      "text/plain": [
       "True"
      ]
     },
     "execution_count": 2,
     "metadata": {},
     "output_type": "execute_result"
    }
   ],
   "source": [
    "canReach(arr = [4,2,3,0,3,1,2], start = 5)"
   ]
  },
  {
   "cell_type": "code",
   "execution_count": 3,
   "metadata": {},
   "outputs": [
    {
     "data": {
      "text/plain": [
       "True"
      ]
     },
     "execution_count": 3,
     "metadata": {},
     "output_type": "execute_result"
    }
   ],
   "source": [
    "canReach(arr = [4,2,3,0,3,1,2], start = 0)"
   ]
  },
  {
   "cell_type": "code",
   "execution_count": 4,
   "metadata": {},
   "outputs": [
    {
     "data": {
      "text/plain": [
       "False"
      ]
     },
     "execution_count": 4,
     "metadata": {},
     "output_type": "execute_result"
    }
   ],
   "source": [
    "canReach(arr = [3,0,2,1,2], start = 2)"
   ]
  },
  {
   "cell_type": "code",
   "execution_count": null,
   "metadata": {},
   "outputs": [],
   "source": []
  }
 ],
 "metadata": {
  "kernelspec": {
   "display_name": "Python 3",
   "language": "python",
   "name": "python3"
  },
  "language_info": {
   "codemirror_mode": {
    "name": "ipython",
    "version": 3
   },
   "file_extension": ".py",
   "mimetype": "text/x-python",
   "name": "python",
   "nbconvert_exporter": "python",
   "pygments_lexer": "ipython3",
   "version": "3.6.5"
  }
 },
 "nbformat": 4,
 "nbformat_minor": 2
}
