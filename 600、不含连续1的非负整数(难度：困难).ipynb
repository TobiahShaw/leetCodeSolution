{
 "cells": [
  {
   "cell_type": "markdown",
   "metadata": {},
   "source": [
    "# 不含连续1的非负整数\n",
    "\n",
    "**题目来源：力扣（LeetCode）**\n",
    "\n",
    "**链接：https://leetcode-cn.com/problems/non-negative-integers-without-consecutive-ones/**\n",
    "\n",
    "## 一、题目\n",
    "\n",
    "给定一个正整数 n，找出小于或等于 n 的非负整数中，其二进制表示不包含 连续的1 的个数\n",
    "\n",
    "### 说明:\n",
    "\n",
    "- 1 <= n <= 109\n",
    "\n",
    "## 二、示例\n",
    "\n",
    "输入: 5\n",
    "\n",
    "输出: 5\n",
    "\n",
    "解释: \n",
    "下面是带有相应二进制表示的非负整数<= 5：\n",
    "\n",
    "- 0 : 0\n",
    "- 1 : 1\n",
    "- 2 : 10\n",
    "- 3 : 11\n",
    "- 4 : 100\n",
    "- 5 : 101\n",
    "\n",
    "其中，只有整数3违反规则（有两个连续的1），其他5个满足规则。\n",
    "\n",
    "## 三、解题思路\n",
    "\n",
    "### 数学"
   ]
  },
  {
   "cell_type": "code",
   "execution_count": 1,
   "metadata": {},
   "outputs": [],
   "source": [
    "def findIntegers(num: int) -> int:\n",
    "    ans = 1\n",
    "    s = bin(num)[2:]\n",
    "    fib = [1,2]\n",
    "    while len(fib) <= len(s):\n",
    "        fib.append(fib[-1] + fib[-2])\n",
    "    for i in range(len(s)):\n",
    "        if i != len(s) - 1 and s[i] == s[i+1] == '1':\n",
    "            ans += fib[-i-1] - 1\n",
    "            break\n",
    "        elif s[i] == '1':\n",
    "            ans += fib[-i-2]\n",
    "    return ans"
   ]
  },
  {
   "cell_type": "code",
   "execution_count": 2,
   "metadata": {},
   "outputs": [
    {
     "data": {
      "text/plain": [
       "5"
      ]
     },
     "execution_count": 2,
     "metadata": {},
     "output_type": "execute_result"
    }
   ],
   "source": [
    "findIntegers(5)"
   ]
  },
  {
   "cell_type": "code",
   "execution_count": null,
   "metadata": {},
   "outputs": [],
   "source": []
  }
 ],
 "metadata": {
  "kernelspec": {
   "display_name": "Python 3",
   "language": "python",
   "name": "python3"
  },
  "language_info": {
   "codemirror_mode": {
    "name": "ipython",
    "version": 3
   },
   "file_extension": ".py",
   "mimetype": "text/x-python",
   "name": "python",
   "nbconvert_exporter": "python",
   "pygments_lexer": "ipython3",
   "version": "3.6.5"
  }
 },
 "nbformat": 4,
 "nbformat_minor": 2
}
