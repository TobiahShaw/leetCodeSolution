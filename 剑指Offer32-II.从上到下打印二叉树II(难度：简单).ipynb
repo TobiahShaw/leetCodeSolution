{
 "cells": [
  {
   "cell_type": "markdown",
   "metadata": {},
   "source": [
    "# 从上到下打印二叉树II\n",
    "\n",
    "**题目来源：力扣（LeetCode）**\n",
    "\n",
    "**链接：https://leetcode-cn.com/problems/cong-shang-dao-xia-da-yin-er-cha-shu-ii-lcof/**\n",
    "\n",
    "## 一、题目\n",
    "\n",
    "从上到下打印出二叉树的每个节点，同一层的节点按照从左到右的顺序打印。\n",
    "\n",
    "## 二、示例\n",
    "\n",
    "例如:\n",
    "\n",
    "给定二叉树: [3,9,20,null,null,15,7],\n",
    "\n",
    "&emsp;&emsp;&emsp;&emsp;3\n",
    "\n",
    "&emsp;&emsp;&emsp;/&emsp;&emsp;\\\n",
    "\n",
    "&emsp;&emsp;9&emsp;&emsp;&emsp;&emsp;20\n",
    "\n",
    "&emsp;&emsp;&emsp;&emsp;&emsp;&emsp;/&emsp;&emsp;\\\n",
    "\n",
    "&emsp;&emsp;&emsp;&emsp;&emsp;15&emsp;&emsp;&emsp;7\n",
    "\n",
    "返回其层次遍历结果：\n",
    "\n",
    "[\n",
    "\n",
    "  [3],\n",
    "  \n",
    "  [9,20],\n",
    "  \n",
    "  [15,7]\n",
    "  \n",
    "]\n",
    "\n",
    "## 三、解题思路"
   ]
  },
  {
   "cell_type": "code",
   "execution_count": 1,
   "metadata": {},
   "outputs": [],
   "source": [
    "class TreeNode:\n",
    "    def __init__(self, x):\n",
    "        self.val = x\n",
    "        self.left = None\n",
    "        self.right = None"
   ]
  },
  {
   "cell_type": "code",
   "execution_count": 2,
   "metadata": {},
   "outputs": [],
   "source": [
    "root = TreeNode(3)\n",
    "\n",
    "root.left = TreeNode(9)\n",
    "root.right = TreeNode(20)\n",
    "\n",
    "root.right.left = TreeNode(15)\n",
    "root.right.right = TreeNode(7)"
   ]
  },
  {
   "cell_type": "code",
   "execution_count": 3,
   "metadata": {},
   "outputs": [],
   "source": [
    "def levelOrder(root: TreeNode):\n",
    "    if not root:\n",
    "        return []\n",
    "    ret = []\n",
    "    queue = [[root]]\n",
    "    while queue:\n",
    "        layer = queue.pop()\n",
    "        output_layer = []\n",
    "        next_layer = []\n",
    "        for node in layer:\n",
    "            output_layer.append(node.val)\n",
    "            if node.left:\n",
    "                next_layer.append(node.left)\n",
    "            if node.right:\n",
    "                next_layer.append(node.right)\n",
    "        if next_layer:\n",
    "            queue.append(next_layer)\n",
    "        ret.append(output_layer)\n",
    "    return ret"
   ]
  },
  {
   "cell_type": "code",
   "execution_count": 4,
   "metadata": {},
   "outputs": [
    {
     "data": {
      "text/plain": [
       "[[3], [9, 20], [15, 7]]"
      ]
     },
     "execution_count": 4,
     "metadata": {},
     "output_type": "execute_result"
    }
   ],
   "source": [
    "levelOrder(root)"
   ]
  },
  {
   "cell_type": "code",
   "execution_count": null,
   "metadata": {},
   "outputs": [],
   "source": []
  }
 ],
 "metadata": {
  "kernelspec": {
   "display_name": "Python 3",
   "language": "python",
   "name": "python3"
  },
  "language_info": {
   "codemirror_mode": {
    "name": "ipython",
    "version": 3
   },
   "file_extension": ".py",
   "mimetype": "text/x-python",
   "name": "python",
   "nbconvert_exporter": "python",
   "pygments_lexer": "ipython3",
   "version": "3.6.5"
  }
 },
 "nbformat": 4,
 "nbformat_minor": 2
}
