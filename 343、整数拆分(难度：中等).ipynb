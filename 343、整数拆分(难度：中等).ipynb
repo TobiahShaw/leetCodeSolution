{
 "cells": [
  {
   "cell_type": "markdown",
   "metadata": {},
   "source": [
    "# 整数拆分\n",
    "\n",
    "**题目来源：力扣（LeetCode）**\n",
    "\n",
    "**链接：https://leetcode-cn.com/problems/integer-break/**\n",
    "\n",
    "## 一、题目\n",
    "\n",
    "给定一个正整数 n，将其拆分为至少两个正整数的和，并使这些整数的乘积最大化。 返回你可以获得的最大乘积。\n",
    "\n",
    "## 二、示例\n",
    "\n",
    "### 示例 1:\n",
    "\n",
    "输入: 2\n",
    "\n",
    "输出: 1\n",
    "\n",
    "解释: 2 = 1 + 1, 1 × 1 = 1。\n",
    "\n",
    "### 示例 2:\n",
    "\n",
    "输入: 10\n",
    "\n",
    "输出: 36\n",
    "\n",
    "解释: 10 = 3 + 3 + 4, 3 × 3 × 4 = 36。\n",
    "\n",
    "## 三、解题思路\n",
    "\n",
    "### 动态规划"
   ]
  },
  {
   "cell_type": "code",
   "execution_count": 1,
   "metadata": {},
   "outputs": [],
   "source": [
    "def integerBreak(n: int) -> int:\n",
    "    dp = [0] * (n+1)\n",
    "    for i in range(2, n+1):\n",
    "        curMax = 0\n",
    "        for j in range(1, i):\n",
    "            curMax = max(curMax, max(j * (i - j), j * dp[i - j]))\n",
    "        dp[i] = curMax\n",
    "    return dp[n]"
   ]
  },
  {
   "cell_type": "code",
   "execution_count": 2,
   "metadata": {},
   "outputs": [
    {
     "data": {
      "text/plain": [
       "1"
      ]
     },
     "execution_count": 2,
     "metadata": {},
     "output_type": "execute_result"
    }
   ],
   "source": [
    "integerBreak(2)"
   ]
  },
  {
   "cell_type": "code",
   "execution_count": 3,
   "metadata": {},
   "outputs": [
    {
     "data": {
      "text/plain": [
       "36"
      ]
     },
     "execution_count": 3,
     "metadata": {},
     "output_type": "execute_result"
    }
   ],
   "source": [
    "integerBreak(10)"
   ]
  },
  {
   "cell_type": "code",
   "execution_count": null,
   "metadata": {},
   "outputs": [],
   "source": []
  }
 ],
 "metadata": {
  "kernelspec": {
   "display_name": "Python 3",
   "language": "python",
   "name": "python3"
  },
  "language_info": {
   "codemirror_mode": {
    "name": "ipython",
    "version": 3
   },
   "file_extension": ".py",
   "mimetype": "text/x-python",
   "name": "python",
   "nbconvert_exporter": "python",
   "pygments_lexer": "ipython3",
   "version": "3.6.5"
  }
 },
 "nbformat": 4,
 "nbformat_minor": 2
}
