{
 "cells": [
  {
   "cell_type": "markdown",
   "metadata": {},
   "source": [
    "# 整数拆分\n",
    "\n",
    "**题目来源：力扣（LeetCode）**\n",
    "\n",
    "**链接：https://leetcode-cn.com/problems/integer-break/**\n",
    "\n",
    "## 一、题目\n",
    "\n",
    "给定一个正整数 n，将其拆分为至少两个正整数的和，并使这些整数的乘积最大化。 返回你可以获得的最大乘积。\n",
    "\n",
    "## 二、示例\n",
    "\n",
    "### 示例 1:\n",
    "\n",
    "输入: 2\n",
    "\n",
    "输出: 1\n",
    "\n",
    "解释: 2 = 1 + 1, 1 × 1 = 1。\n",
    "\n",
    "### 示例 2:\n",
    "\n",
    "输入: 10\n",
    "\n",
    "输出: 36\n",
    "\n",
    "解释: 10 = 3 + 3 + 4, 3 × 3 × 4 = 36。\n",
    "\n",
    "## 三、解题思路\n",
    "\n",
    "### 动态规划\n",
    "\n",
    "当 $ i \\ge 2 $ 时，假设对正整数 $ i $ 拆分出的第一个正整数是 $ j(1 \\le j < i) $ ，则有以下两种方案：\n",
    "\n",
    "- 将 $ i $ 拆分成 $ j $ 和 $ i−j $ 的和，且 $ i−j $ 不再拆分成多个正整数，此时的乘积是 $ j \\times (i-j) $；\n",
    "\n",
    "- 将 $ i $ 拆分成 $ j $ 和 $ i−j $ 的和，且 $ i−j $ 继续拆分成多个正整数，此时的乘积是 $ j \\times \\text{dp}[i-j] $。\n",
    "\n",
    "因此，当 $ j $ 固定时，有 $ \\text{dp}[i]=\\max(j \\times (i-j), j \\times \\text{dp}[i-j]) $ 。由于 $ j $ 的取值范围是 $ 1 $ 到 $ i−1$ ，需要遍历所有的 $ j $ 得到 $ \\text{dp}[i] $ 的最大值，因此可以得到状态转移方程如下：\n",
    "\n",
    "$ \\text{dp}[i]=\\mathop{\\max}\\limits_{1 \\le j < i}\\{\\max(j \\times (i-j), j \\times \\text{dp}[i-j])\\} $ "
   ]
  },
  {
   "cell_type": "code",
   "execution_count": 1,
   "metadata": {},
   "outputs": [],
   "source": [
    "def integerBreak(n: int) -> int:\n",
    "    dp = [0] * (n+1)\n",
    "    for i in range(2, n+1):\n",
    "        curMax = 0\n",
    "        for j in range(1, i):\n",
    "            curMax = max(curMax, max(j * (i - j), j * dp[i - j]))\n",
    "        dp[i] = curMax\n",
    "    return dp[n]"
   ]
  },
  {
   "cell_type": "code",
   "execution_count": 2,
   "metadata": {},
   "outputs": [
    {
     "data": {
      "text/plain": [
       "1"
      ]
     },
     "execution_count": 2,
     "metadata": {},
     "output_type": "execute_result"
    }
   ],
   "source": [
    "integerBreak(2)"
   ]
  },
  {
   "cell_type": "code",
   "execution_count": 3,
   "metadata": {},
   "outputs": [
    {
     "data": {
      "text/plain": [
       "36"
      ]
     },
     "execution_count": 3,
     "metadata": {},
     "output_type": "execute_result"
    }
   ],
   "source": [
    "integerBreak(10)"
   ]
  },
  {
   "cell_type": "code",
   "execution_count": null,
   "metadata": {},
   "outputs": [],
   "source": []
  }
 ],
 "metadata": {
  "kernelspec": {
   "display_name": "Python 3",
   "language": "python",
   "name": "python3"
  },
  "language_info": {
   "codemirror_mode": {
    "name": "ipython",
    "version": 3
   },
   "file_extension": ".py",
   "mimetype": "text/x-python",
   "name": "python",
   "nbconvert_exporter": "python",
   "pygments_lexer": "ipython3",
   "version": "3.6.5"
  }
 },
 "nbformat": 4,
 "nbformat_minor": 2
}
