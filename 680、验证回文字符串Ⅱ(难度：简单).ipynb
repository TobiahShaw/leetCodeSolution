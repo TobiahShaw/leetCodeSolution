{
  "cells": [
    {
      "metadata": {
        "collapsed": true
      },
      "cell_type": "markdown",
      "source": "# 验证回文字符串Ⅱ\n\n**题目来源：力扣（LeetCode）**\n\n**链接：https://leetcode-cn.com/problems/valid-palindrome-ii/**\n\n## 一、题目\n\n给定一个非空字符串 s，最多删除一个字符。判断是否能成为回文字符串。\n\n## 二、示例\n\n### 示例 1:\n\n输入: \"aba\"\n\n输出: True\n\n### 示例 2:\n\n输入: \"abca\"\n\n输出: True\n\n解释: 你可以删除c字符。\n\n## 三、解题思路"
    },
    {
      "metadata": {
        "trusted": true
      },
      "cell_type": "code",
      "source": "def validPalindrome(s: str) -> bool:\n    def check(low, height):\n        i, j = low, height\n        while i < j:\n            if s[i] != s[j]:\n                return False\n            i+=1\n            j-=1\n        return True\n    low, height = 0, len(s)-1\n    while low < height:\n        if s[low] != s[height]:\n            # 删除一位\n            return check(low + 1, height) or check(low, height - 1)\n        low += 1\n        height -= 1\n    return True",
      "execution_count": 1,
      "outputs": []
    },
    {
      "metadata": {
        "trusted": true
      },
      "cell_type": "code",
      "source": "validPalindrome(\"aba\")",
      "execution_count": 2,
      "outputs": [
        {
          "output_type": "execute_result",
          "execution_count": 2,
          "data": {
            "text/plain": "True"
          },
          "metadata": {}
        }
      ]
    },
    {
      "metadata": {
        "trusted": true
      },
      "cell_type": "code",
      "source": "validPalindrome(\"abca\")",
      "execution_count": 3,
      "outputs": [
        {
          "output_type": "execute_result",
          "execution_count": 3,
          "data": {
            "text/plain": "True"
          },
          "metadata": {}
        }
      ]
    },
    {
      "metadata": {
        "trusted": true
      },
      "cell_type": "code",
      "source": "validPalindrome(\"deeee\")",
      "execution_count": 4,
      "outputs": [
        {
          "output_type": "execute_result",
          "execution_count": 4,
          "data": {
            "text/plain": "True"
          },
          "metadata": {}
        }
      ]
    },
    {
      "metadata": {
        "trusted": true
      },
      "cell_type": "code",
      "source": "",
      "execution_count": null,
      "outputs": []
    }
  ],
  "metadata": {
    "kernelspec": {
      "name": "python36",
      "display_name": "Python 3.6",
      "language": "python"
    },
    "language_info": {
      "mimetype": "text/x-python",
      "nbconvert_exporter": "python",
      "name": "python",
      "pygments_lexer": "ipython3",
      "version": "3.6.6",
      "file_extension": ".py",
      "codemirror_mode": {
        "version": 3,
        "name": "ipython"
      }
    }
  },
  "nbformat": 4,
  "nbformat_minor": 2
}