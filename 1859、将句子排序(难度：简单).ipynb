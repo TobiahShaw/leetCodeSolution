{
 "cells": [
  {
   "cell_type": "markdown",
   "metadata": {},
   "source": [
    "# 将句子排序\n",
    "\n",
    "**题目来源：力扣（LeetCode）**\n",
    "\n",
    "**链接：https://leetcode-cn.com/problems/sorting-the-sentence/**\n",
    "\n",
    "## 一、题目\n",
    "\n",
    "一个 句子 指的是一个序列的单词用单个空格连接起来，且开头和结尾没有任何空格。每个单词都只包含小写或大写英文字母。\n",
    "\n",
    "我们可以给一个句子添加 从 1 开始的单词位置索引 ，并且将句子中所有单词 打乱顺序 。\n",
    "\n",
    "比方说，句子 \"This is a sentence\" 可以被打乱顺序得到 \"sentence4 a3 is2 This1\" 或者 \"is2 sentence4 This1 a3\" 。\n",
    "\n",
    "给你一个 打乱顺序 的句子 s ，它包含的单词不超过 9 个，请你重新构造并得到原本顺序的句子。\n",
    "\n",
    "### 提示：\n",
    "\n",
    "- 2 <= s.length <= 200\n",
    "- s 只包含小写和大写英文字母、空格以及从 1 到 9 的数字。\n",
    "- s 中单词数目为 1 到 9 个。\n",
    "- s 中的单词由单个空格分隔。\n",
    "- s 不包含任何前导或者后缀空格。\n",
    "\n",
    "## 二、示例\n",
    "\n",
    "### 示例 1：\n",
    "\n",
    "输入：s = \"is2 sentence4 This1 a3\"\n",
    "\n",
    "输出：\"This is a sentence\"\n",
    "\n",
    "解释：将 s 中的单词按照初始位置排序，得到 \"This1 is2 a3 sentence4\" ，然后删除数字。\n",
    "\n",
    "### 示例 2：\n",
    "\n",
    "输入：s = \"Myself2 Me1 I4 and3\"\n",
    "\n",
    "输出：\"Me Myself and I\"\n",
    "\n",
    "解释：将 s 中的单词按照初始位置排序，得到 \"Me1 Myself2 and3 I4\" ，然后删除数字。\n",
    "\n",
    "## 三、解题思路\n",
    "\n",
    "### 遍历"
   ]
  },
  {
   "cell_type": "code",
   "execution_count": 1,
   "metadata": {},
   "outputs": [],
   "source": [
    "def sortSentence(s: str) -> str:\n",
    "    words = [\"\"] * 9\n",
    "    arr = s.split(\" \")\n",
    "    for word in arr:\n",
    "        words[int(word[-1])-1] = word[:-1] + \" \"\n",
    "    return \"\".join(words)[:-1]"
   ]
  },
  {
   "cell_type": "code",
   "execution_count": 2,
   "metadata": {},
   "outputs": [
    {
     "data": {
      "text/plain": [
       "'This is a sentence'"
      ]
     },
     "execution_count": 2,
     "metadata": {},
     "output_type": "execute_result"
    }
   ],
   "source": [
    "sortSentence(\"is2 sentence4 This1 a3\")"
   ]
  },
  {
   "cell_type": "code",
   "execution_count": 3,
   "metadata": {},
   "outputs": [
    {
     "data": {
      "text/plain": [
       "'Me Myself and I'"
      ]
     },
     "execution_count": 3,
     "metadata": {},
     "output_type": "execute_result"
    }
   ],
   "source": [
    "sortSentence(\"Myself2 Me1 I4 and3\")"
   ]
  },
  {
   "cell_type": "code",
   "execution_count": null,
   "metadata": {},
   "outputs": [],
   "source": []
  }
 ],
 "metadata": {
  "kernelspec": {
   "display_name": "Python 3",
   "language": "python",
   "name": "python3"
  },
  "language_info": {
   "codemirror_mode": {
    "name": "ipython",
    "version": 3
   },
   "file_extension": ".py",
   "mimetype": "text/x-python",
   "name": "python",
   "nbconvert_exporter": "python",
   "pygments_lexer": "ipython3",
   "version": "3.6.5"
  }
 },
 "nbformat": 4,
 "nbformat_minor": 2
}
