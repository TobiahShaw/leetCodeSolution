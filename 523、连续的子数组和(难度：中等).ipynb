{
 "cells": [
  {
   "cell_type": "markdown",
   "metadata": {},
   "source": [
    "# 连续的子数组和\n",
    "\n",
    "**题目来源：力扣（LeetCode）**\n",
    "\n",
    "**链接：https://leetcode-cn.com/problems/continuous-subarray-sum/**\n",
    "\n",
    "## 一、题目\n",
    "\n",
    "给你一个整数数组 nums 和一个整数 k ，编写一个函数来判断该数组是否含有同时满足下述条件的连续子数组：\n",
    "\n",
    "- 子数组大小 至少为 2 ，且\n",
    "- 子数组元素总和为 k 的倍数。\n",
    "\n",
    "如果存在，返回 true ；否则，返回 false 。\n",
    "\n",
    "如果存在一个整数 n ，令整数 x 符合 x = n * k ，则称 x 是 k 的一个倍数。\n",
    "\n",
    "提示：\n",
    "\n",
    "- 1 <= nums.length <= 105\n",
    "- 0 <= nums[i] <= 109\n",
    "- 0 <= sum(nums[i]) <= 231 - 1\n",
    "- 1 <= k <= 231 - 1\n",
    "\n",
    "## 二、示例\n",
    "\n",
    "### 示例 1：\n",
    "\n",
    "输入：nums = [23,2,4,6,7], k = 6\n",
    "\n",
    "输出：true\n",
    "\n",
    "解释：[2,4] 是一个大小为 2 的子数组，并且和为 6 。\n",
    "\n",
    "### 示例 2：\n",
    "\n",
    "输入：nums = [23,2,6,4,7], k = 6\n",
    "\n",
    "输出：true\n",
    "\n",
    "解释：[23, 2, 6, 4, 7] 是大小为 5 的子数组，并且和为 42 。 42 是 6 的倍数，因为 42 = 7 * 6 且 7 是一个整数。\n",
    "\n",
    "### 示例 3：\n",
    "\n",
    "输入：nums = [23,2,6,4,7], k = 13\n",
    "\n",
    "输出：false\n",
    "\n",
    "## 三、解题思路\n",
    "\n",
    "### 前缀和"
   ]
  },
  {
   "cell_type": "code",
   "execution_count": 1,
   "metadata": {},
   "outputs": [],
   "source": [
    "def checkSubarraySum(nums, k: int) -> bool:\n",
    "    modes = set()\n",
    "    presum = 0\n",
    "    for num in nums:\n",
    "        last = presum\n",
    "        # 当前前缀和\n",
    "        presum += num\n",
    "        presum %= k\n",
    "        # 同余定理\n",
    "        if presum in modes:\n",
    "            return True\n",
    "        # 上一个前缀和，下一个就可以用了（距离为2了）\n",
    "        modes.add(last)\n",
    "    return False"
   ]
  },
  {
   "cell_type": "code",
   "execution_count": 2,
   "metadata": {},
   "outputs": [
    {
     "data": {
      "text/plain": [
       "True"
      ]
     },
     "execution_count": 2,
     "metadata": {},
     "output_type": "execute_result"
    }
   ],
   "source": [
    "checkSubarraySum(nums = [23,2,4,6,7], k = 6)"
   ]
  },
  {
   "cell_type": "code",
   "execution_count": 3,
   "metadata": {},
   "outputs": [
    {
     "data": {
      "text/plain": [
       "True"
      ]
     },
     "execution_count": 3,
     "metadata": {},
     "output_type": "execute_result"
    }
   ],
   "source": [
    "checkSubarraySum(nums = [23,2,6,4,7], k = 6)"
   ]
  },
  {
   "cell_type": "code",
   "execution_count": 4,
   "metadata": {},
   "outputs": [
    {
     "data": {
      "text/plain": [
       "False"
      ]
     },
     "execution_count": 4,
     "metadata": {},
     "output_type": "execute_result"
    }
   ],
   "source": [
    "checkSubarraySum(nums = [23,2,6,4,7], k = 13)"
   ]
  },
  {
   "cell_type": "code",
   "execution_count": null,
   "metadata": {},
   "outputs": [],
   "source": []
  }
 ],
 "metadata": {
  "kernelspec": {
   "display_name": "Python 3",
   "language": "python",
   "name": "python3"
  },
  "language_info": {
   "codemirror_mode": {
    "name": "ipython",
    "version": 3
   },
   "file_extension": ".py",
   "mimetype": "text/x-python",
   "name": "python",
   "nbconvert_exporter": "python",
   "pygments_lexer": "ipython3",
   "version": "3.6.5"
  }
 },
 "nbformat": 4,
 "nbformat_minor": 2
}
