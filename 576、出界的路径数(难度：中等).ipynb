{
 "cells": [
  {
   "cell_type": "markdown",
   "metadata": {},
   "source": [
    "# 出界的路径数\n",
    "\n",
    "**题目来源：力扣（LeetCode）**\n",
    "\n",
    "**链接：https://leetcode-cn.com/problems/out-of-boundary-paths/**\n",
    "\n",
    "## 一、题目\n",
    "\n",
    "给你一个大小为 m x n 的网格和一个球。球的起始坐标为 [startRow, startColumn] 。你可以将球移到在四个方向上相邻的单元格内（可以穿过网格边界到达网格之外）。你 最多 可以移动 maxMove 次球。\n",
    "\n",
    "给你五个整数 m、n、maxMove、startRow 以及 startColumn ，找出并返回可以将球移出边界的路径数量。因为答案可能非常大，返回对 109 + 7 取余 后的结果。\n",
    "\n",
    "### 提示：\n",
    "\n",
    "- 1 <= m, n <= 50\n",
    "- 0 <= maxMove <= 50\n",
    "- 0 <= startRow < m\n",
    "- 0 <= startColumn < n\n",
    "\n",
    "## 二、示例\n",
    "\n",
    "### 示例 1：\n",
    "\n",
    "输入：m = 2, n = 2, maxMove = 2, startRow = 0, startColumn = 0\n",
    "\n",
    "输出：6\n",
    "\n",
    "### 示例 2：\n",
    "\n",
    "输入：m = 1, n = 3, maxMove = 3, startRow = 0, startColumn = 1\n",
    "\n",
    "输出：12\n",
    "\n",
    "## 三、解题思路\n",
    "\n",
    "### 动态规划 + 方向向量"
   ]
  },
  {
   "cell_type": "code",
   "execution_count": 1,
   "metadata": {},
   "outputs": [],
   "source": [
    "def findPaths(m: int, n: int, maxMove: int, startRow: int, startColumn: int) -> int:\n",
    "    MOD = 10**9 + 7\n",
    "    dp = [[[0] * n for _ in range(m + 1)] for _ in range (maxMove + 1)]\n",
    "    move = [[0,1],[1,0],[-1,0],[0,-1]]\n",
    "    \n",
    "    for k in range(1, maxMove + 1):\n",
    "        for i in range(m):\n",
    "            for j in range(n):\n",
    "                for dx, dy in move:\n",
    "                    ni, nj = i + dx, j + dy\n",
    "                    dp[k][i][j] += 1 if ni in [-1, m] or nj in [-1, n] else dp[k - 1][ni][nj]\n",
    "                    dp[k][i][j] %= MOD\n",
    "                \n",
    "    return dp[maxMove][startRow][startColumn]"
   ]
  },
  {
   "cell_type": "code",
   "execution_count": 2,
   "metadata": {},
   "outputs": [
    {
     "data": {
      "text/plain": [
       "6"
      ]
     },
     "execution_count": 2,
     "metadata": {},
     "output_type": "execute_result"
    }
   ],
   "source": [
    "findPaths(2, 2, 2, 0, 0)"
   ]
  },
  {
   "cell_type": "code",
   "execution_count": 3,
   "metadata": {},
   "outputs": [
    {
     "data": {
      "text/plain": [
       "12"
      ]
     },
     "execution_count": 3,
     "metadata": {},
     "output_type": "execute_result"
    }
   ],
   "source": [
    "findPaths(1, 3, 3, 0, 1)"
   ]
  },
  {
   "cell_type": "code",
   "execution_count": null,
   "metadata": {},
   "outputs": [],
   "source": []
  }
 ],
 "metadata": {
  "kernelspec": {
   "display_name": "Python 3",
   "language": "python",
   "name": "python3"
  },
  "language_info": {
   "codemirror_mode": {
    "name": "ipython",
    "version": 3
   },
   "file_extension": ".py",
   "mimetype": "text/x-python",
   "name": "python",
   "nbconvert_exporter": "python",
   "pygments_lexer": "ipython3",
   "version": "3.6.5"
  }
 },
 "nbformat": 4,
 "nbformat_minor": 2
}
