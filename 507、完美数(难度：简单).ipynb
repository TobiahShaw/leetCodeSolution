{
 "cells": [
  {
   "cell_type": "markdown",
   "metadata": {},
   "source": [
    "# 完美数\n",
    "\n",
    "**题目来源：力扣（LeetCode）**\n",
    "\n",
    "**链接：https://leetcode-cn.com/problems/perfect-number/**\n",
    "\n",
    "## 一、题目\n",
    "\n",
    "对于一个 正整数，如果它和除了它自身以外的所有 正因子 之和相等，我们称它为 「完美数」。\n",
    "\n",
    "给定一个 整数 n， 如果是完美数，返回 true，否则返回 false\n",
    "\n",
    "### 提示：\n",
    "\n",
    "- 1 <= num <= 10^8\n",
    "\n",
    "## 二、示例\n",
    "\n",
    "### 示例 1：\n",
    "\n",
    "输入：num = 28\n",
    "\n",
    "输出：true\n",
    "\n",
    "解释：28 = 1 + 2 + 4 + 7 + 14\n",
    "\n",
    "1, 2, 4, 7, 和 14 是 28 的所有正因子。\n",
    "\n",
    "### 示例 2：\n",
    "\n",
    "输入：num = 6\n",
    "\n",
    "输出：true\n",
    "\n",
    "### 示例 3：\n",
    "\n",
    "输入：num = 496\n",
    "\n",
    "输出：true\n",
    "\n",
    "### 示例 4：\n",
    "\n",
    "输入：num = 8128\n",
    "\n",
    "输出：true\n",
    "\n",
    "### 示例 5：\n",
    "\n",
    "输入：num = 2\n",
    "\n",
    "输出：false\n",
    "\n",
    "## 三、解题思路\n",
    "\n",
    "### 枚举"
   ]
  },
  {
   "cell_type": "code",
   "execution_count": 1,
   "metadata": {},
   "outputs": [],
   "source": [
    "def checkPerfectNumber(num: int) -> bool:\n",
    "    from math import sqrt\n",
    "    if num == 1:\n",
    "        return False\n",
    "    s = 1\n",
    "    for i in range(2, int(sqrt(num))+1):\n",
    "        if num % i == 0:\n",
    "            s += i\n",
    "            if i * i != num:\n",
    "                s += (num // i)\n",
    "    return s == num"
   ]
  },
  {
   "cell_type": "code",
   "execution_count": 2,
   "metadata": {},
   "outputs": [
    {
     "data": {
      "text/plain": [
       "True"
      ]
     },
     "execution_count": 2,
     "metadata": {},
     "output_type": "execute_result"
    }
   ],
   "source": [
    "checkPerfectNumber(28)"
   ]
  },
  {
   "cell_type": "code",
   "execution_count": 3,
   "metadata": {},
   "outputs": [
    {
     "data": {
      "text/plain": [
       "True"
      ]
     },
     "execution_count": 3,
     "metadata": {},
     "output_type": "execute_result"
    }
   ],
   "source": [
    "checkPerfectNumber(6)"
   ]
  },
  {
   "cell_type": "code",
   "execution_count": 4,
   "metadata": {},
   "outputs": [
    {
     "data": {
      "text/plain": [
       "True"
      ]
     },
     "execution_count": 4,
     "metadata": {},
     "output_type": "execute_result"
    }
   ],
   "source": [
    "checkPerfectNumber(496)"
   ]
  },
  {
   "cell_type": "code",
   "execution_count": 5,
   "metadata": {},
   "outputs": [
    {
     "data": {
      "text/plain": [
       "True"
      ]
     },
     "execution_count": 5,
     "metadata": {},
     "output_type": "execute_result"
    }
   ],
   "source": [
    "checkPerfectNumber(8128)"
   ]
  },
  {
   "cell_type": "code",
   "execution_count": 6,
   "metadata": {},
   "outputs": [
    {
     "data": {
      "text/plain": [
       "False"
      ]
     },
     "execution_count": 6,
     "metadata": {},
     "output_type": "execute_result"
    }
   ],
   "source": [
    "checkPerfectNumber(2)"
   ]
  },
  {
   "cell_type": "code",
   "execution_count": null,
   "metadata": {},
   "outputs": [],
   "source": []
  }
 ],
 "metadata": {
  "kernelspec": {
   "display_name": "Python 3",
   "language": "python",
   "name": "python3"
  },
  "language_info": {
   "codemirror_mode": {
    "name": "ipython",
    "version": 3
   },
   "file_extension": ".py",
   "mimetype": "text/x-python",
   "name": "python",
   "nbconvert_exporter": "python",
   "pygments_lexer": "ipython3",
   "version": "3.6.5"
  }
 },
 "nbformat": 4,
 "nbformat_minor": 2
}
