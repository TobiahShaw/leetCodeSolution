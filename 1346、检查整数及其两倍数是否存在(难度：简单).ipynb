{
 "cells": [
  {
   "cell_type": "markdown",
   "metadata": {},
   "source": [
    "# 检查整数及其两倍数是否存在\n",
    "\n",
    "**题目来源：力扣（LeetCode）**\n",
    "\n",
    "**链接：https://leetcode.cn/problems/check-if-n-and-its-double-exist/**\n",
    "\n",
    "## 一、题目\n",
    "\n",
    "给你一个整数数组 arr，请你检查是否存在两个整数 N 和 M，满足 N 是 M 的两倍（即，N = 2 * M）。\n",
    "\n",
    "更正式地，检查是否存在两个下标 i 和 j 满足：\n",
    "\n",
    "- i != j\n",
    "- 0 <= i, j < arr.length\n",
    "- arr[i] == 2 * arr[j]\n",
    "\n",
    "### 提示：\n",
    "\n",
    "- 2 <= arr.length <= 500\n",
    "- -10^3 <= arr[i] <= 10^3\n",
    "\n",
    "## 二、示例\n",
    "\n",
    "### 示例 1：\n",
    "\n",
    "输入：arr = [10,2,5,3]\n",
    "\n",
    "输出：true\n",
    "\n",
    "解释：N = 10 是 M = 5 的两倍，即 10 = 2 * 5 。\n",
    "\n",
    "### 示例 2：\n",
    "\n",
    "输入：arr = [7,1,14,11]\n",
    "\n",
    "输出：true\n",
    "\n",
    "解释：N = 14 是 M = 7 的两倍，即 14 = 2 * 7 。\n",
    "\n",
    "### 示例 3：\n",
    "\n",
    "输入：arr = [3,1,7,11]\n",
    "\n",
    "输出：false\n",
    "\n",
    "解释：在该情况下不存在 N 和 M 满足 N = 2 * M 。\n",
    "\n",
    "## 三、解题思路\n",
    "\n",
    "### Hash表两趟扫描"
   ]
  },
  {
   "cell_type": "code",
   "execution_count": 1,
   "metadata": {},
   "outputs": [],
   "source": [
    "def checkIfExist(arr) -> bool:\n",
    "    num_set = set()\n",
    "    for num in arr:\n",
    "        if (num * 2) in num_set:\n",
    "            return True\n",
    "        else:\n",
    "            num_set.add(num)\n",
    "    num_set.clear()\n",
    "    for num in arr[::-1]:\n",
    "        if (num * 2) in num_set:\n",
    "            return True\n",
    "        else:\n",
    "            num_set.add(num)\n",
    "    return False"
   ]
  },
  {
   "cell_type": "code",
   "execution_count": 2,
   "metadata": {},
   "outputs": [
    {
     "data": {
      "text/plain": [
       "True"
      ]
     },
     "execution_count": 2,
     "metadata": {},
     "output_type": "execute_result"
    }
   ],
   "source": [
    "checkIfExist([10,2,5,3])"
   ]
  },
  {
   "cell_type": "code",
   "execution_count": 3,
   "metadata": {},
   "outputs": [
    {
     "data": {
      "text/plain": [
       "True"
      ]
     },
     "execution_count": 3,
     "metadata": {},
     "output_type": "execute_result"
    }
   ],
   "source": [
    "checkIfExist([7,1,14,11])"
   ]
  },
  {
   "cell_type": "code",
   "execution_count": 4,
   "metadata": {},
   "outputs": [
    {
     "data": {
      "text/plain": [
       "False"
      ]
     },
     "execution_count": 4,
     "metadata": {},
     "output_type": "execute_result"
    }
   ],
   "source": [
    "checkIfExist([3,1,7,11])"
   ]
  },
  {
   "cell_type": "code",
   "execution_count": null,
   "metadata": {},
   "outputs": [],
   "source": []
  }
 ],
 "metadata": {
  "kernelspec": {
   "display_name": "Python 3",
   "language": "python",
   "name": "python3"
  },
  "language_info": {
   "codemirror_mode": {
    "name": "ipython",
    "version": 3
   },
   "file_extension": ".py",
   "mimetype": "text/x-python",
   "name": "python",
   "nbconvert_exporter": "python",
   "pygments_lexer": "ipython3",
   "version": "3.6.5"
  }
 },
 "nbformat": 4,
 "nbformat_minor": 2
}
