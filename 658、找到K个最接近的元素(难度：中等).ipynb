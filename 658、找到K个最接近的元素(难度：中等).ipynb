{
 "cells": [
  {
   "cell_type": "markdown",
   "metadata": {},
   "source": [
    "# 找到K个最接近的元素\n",
    "\n",
    "**题目来源：力扣（LeetCode）**\n",
    "\n",
    "**链接：https://leetcode.cn/problems/find-k-closest-elements/**\n",
    "\n",
    "## 一、题目\n",
    "\n",
    "给定一个 排序好 的数组 arr ，两个整数 k 和 x ，从数组中找到最靠近 x（两数之差最小）的 k 个数。返回的结果必须要是按升序排好的。\n",
    "\n",
    "整数 a 比整数 b 更接近 x 需要满足：\n",
    "\n",
    "- |a - x| < |b - x| 或者\n",
    "- |a - x| == |b - x| 且 a < b\n",
    "\n",
    "### 提示：\n",
    "\n",
    "- 1 <= k <= arr.length\n",
    "- 1 <= arr.length <= 10^4\n",
    "- arr 按 升序 排列\n",
    "- -104 <= arr[i], x <= 10^4\n",
    "\n",
    "## 二、示例\n",
    "\n",
    "### 示例 1：\n",
    "\n",
    "输入：arr = [1,2,3,4,5], k = 4, x = 3\n",
    "\n",
    "输出：[1,2,3,4]\n",
    "\n",
    "### 示例 2：\n",
    "\n",
    "输入：arr = [1,2,3,4,5], k = 4, x = -1\n",
    "\n",
    "输出：[1,2,3,4]\n",
    "\n",
    "## 三、解题思路\n",
    "\n",
    "### 二分查找 + 双指针"
   ]
  },
  {
   "cell_type": "code",
   "execution_count": 1,
   "metadata": {},
   "outputs": [],
   "source": [
    "def findClosestElements(arr, k: int, x: int):\n",
    "    def bi_search(arr, target):\n",
    "        left, right = 0, len(arr)-1\n",
    "        while left <= right:\n",
    "            mid = (left + right) // 2\n",
    "            if arr[mid] == target:\n",
    "                return mid\n",
    "            elif arr[mid] < target:\n",
    "                left = mid + 1\n",
    "            else:\n",
    "                right = mid - 1\n",
    "        return right\n",
    "    index = bi_search(arr, x)\n",
    "    ret = []\n",
    "    left, right = index, index + 1\n",
    "    n = len(arr)\n",
    "    if arr[index] == x:\n",
    "        ret.append(x)\n",
    "        left -= 1\n",
    "    while len(ret) < k:\n",
    "        if left < 0:\n",
    "            ret.append(arr[right])\n",
    "            right += 1\n",
    "        elif right >= n:\n",
    "            ret.insert(0, arr[left])\n",
    "            left -= 1\n",
    "        elif abs(arr[left] - x) <= abs(arr[right] - x):\n",
    "            ret.insert(0, arr[left])\n",
    "            left -= 1\n",
    "        else:\n",
    "            ret.append(arr[right])\n",
    "            right += 1\n",
    "    return ret"
   ]
  },
  {
   "cell_type": "code",
   "execution_count": 2,
   "metadata": {},
   "outputs": [
    {
     "data": {
      "text/plain": [
       "[1, 2, 3, 4]"
      ]
     },
     "execution_count": 2,
     "metadata": {},
     "output_type": "execute_result"
    }
   ],
   "source": [
    "findClosestElements(arr = [1,2,3,4,5], k = 4, x = 3)"
   ]
  },
  {
   "cell_type": "code",
   "execution_count": 3,
   "metadata": {},
   "outputs": [
    {
     "data": {
      "text/plain": [
       "[1, 2, 3, 4]"
      ]
     },
     "execution_count": 3,
     "metadata": {},
     "output_type": "execute_result"
    }
   ],
   "source": [
    "findClosestElements(arr = [1,2,3,4,5], k = 4, x = -1)"
   ]
  },
  {
   "cell_type": "code",
   "execution_count": null,
   "metadata": {},
   "outputs": [],
   "source": []
  }
 ],
 "metadata": {
  "kernelspec": {
   "display_name": "Python 3",
   "language": "python",
   "name": "python3"
  },
  "language_info": {
   "codemirror_mode": {
    "name": "ipython",
    "version": 3
   },
   "file_extension": ".py",
   "mimetype": "text/x-python",
   "name": "python",
   "nbconvert_exporter": "python",
   "pygments_lexer": "ipython3",
   "version": "3.6.5"
  }
 },
 "nbformat": 4,
 "nbformat_minor": 2
}
