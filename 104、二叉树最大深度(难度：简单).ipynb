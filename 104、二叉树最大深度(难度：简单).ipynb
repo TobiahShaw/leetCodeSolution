{
 "cells": [
  {
   "cell_type": "markdown",
   "metadata": {
    "collapsed": true
   },
   "source": [
    "# 二叉树最大深度\n",
    "\n",
    "**题目来源：力扣（LeetCode）**\n",
    "\n",
    "**链接：https://leetcode-cn.com/problems/maximum-depth-of-binary-tree/**\n",
    "\n",
    "## 一、题目\n",
    "\n",
    "给定一个二叉树，找出其最大深度。\n",
    "\n",
    "二叉树的深度为根节点到最远叶子节点的最长路径上的节点数。\n",
    "\n",
    "说明: 叶子节点是指没有子节点的节点。\n",
    "\n",
    "## 二、示例\n",
    "\n",
    "给定二叉树 [3,9,20,null,null,15,7]，\n",
    "\n",
    "&emsp;&emsp;&emsp;&emsp;3\n",
    "    \n",
    "&emsp;&emsp;&emsp;/&emsp;&emsp;\\\n",
    "   \n",
    "&emsp;&emsp;9&emsp;&emsp;&emsp;20\n",
    "  \n",
    "&emsp;&emsp;&emsp;&emsp;&emsp;/&emsp;&emsp;\\\n",
    "    \n",
    "&emsp;&emsp;&emsp;&emsp;15&emsp;&emsp;&emsp;7\n",
    "\n",
    "返回它的最大深度 3 。\n",
    "\n",
    "\n",
    "## 三、解题思路\n",
    "\n",
    "### 一、递归"
   ]
  },
  {
   "cell_type": "code",
   "execution_count": 1,
   "metadata": {},
   "outputs": [],
   "source": [
    "class TreeNode:\n",
    "    def __init__(self, x):\n",
    "        self.val = x\n",
    "        self.left = None\n",
    "        self.right = None"
   ]
  },
  {
   "cell_type": "code",
   "execution_count": 2,
   "metadata": {},
   "outputs": [],
   "source": [
    "root = TreeNode(3)\n",
    "node1_1 = TreeNode(9)\n",
    "node1_2 = TreeNode(20)\n",
    "node1_2_1 = TreeNode(15)\n",
    "node1_2_2 = TreeNode(7)\n",
    "\n",
    "root.left = node1_1\n",
    "root.right = node1_2\n",
    "\n",
    "node1_2.left = node1_2_1\n",
    "node1_2.right = node1_2_2"
   ]
  },
  {
   "cell_type": "code",
   "execution_count": 3,
   "metadata": {},
   "outputs": [],
   "source": [
    "def maxDepth(root):\n",
    "    if not root:\n",
    "        return 0\n",
    "    else:\n",
    "        left = maxDepth(root.left)\n",
    "        right = maxDepth(root.right)\n",
    "        if left > right:\n",
    "            return left + 1\n",
    "        else:\n",
    "            return right + 1"
   ]
  },
  {
   "cell_type": "code",
   "execution_count": 4,
   "metadata": {},
   "outputs": [
    {
     "data": {
      "text/plain": [
       "3"
      ]
     },
     "execution_count": 4,
     "metadata": {},
     "output_type": "execute_result"
    }
   ],
   "source": [
    "maxDepth(root)"
   ]
  },
  {
   "cell_type": "markdown",
   "metadata": {},
   "source": [
    "### 二、迭代（层序遍历）"
   ]
  },
  {
   "cell_type": "code",
   "execution_count": 5,
   "metadata": {},
   "outputs": [],
   "source": [
    "def maxDepth(root):\n",
    "    if not root:\n",
    "        return 0\n",
    "    ret = 0\n",
    "    layer = [root]\n",
    "    while layer:\n",
    "        next_layer = []\n",
    "        for node in layer:\n",
    "            if node.left:\n",
    "                next_layer.append(node.left)\n",
    "            if node.right:\n",
    "                next_layer.append(node.right)\n",
    "        ret += 1\n",
    "        layer = next_layer\n",
    "    return ret"
   ]
  },
  {
   "cell_type": "code",
   "execution_count": 6,
   "metadata": {
    "scrolled": true
   },
   "outputs": [
    {
     "data": {
      "text/plain": [
       "3"
      ]
     },
     "execution_count": 6,
     "metadata": {},
     "output_type": "execute_result"
    }
   ],
   "source": [
    "maxDepth(root)"
   ]
  },
  {
   "cell_type": "markdown",
   "metadata": {},
   "source": [
    "### 三、DFS"
   ]
  },
  {
   "cell_type": "code",
   "execution_count": 7,
   "metadata": {},
   "outputs": [],
   "source": [
    "def maxDepth(root: TreeNode) -> int:\n",
    "    maxD = 0\n",
    "    def dfs(node, deep):\n",
    "        nonlocal maxD\n",
    "        if not node:\n",
    "            return\n",
    "        if not node.left and not node.right:\n",
    "            maxD = max(maxD, deep)\n",
    "            return\n",
    "        dfs(node.left,deep + 1)\n",
    "        dfs(node.right, deep + 1)\n",
    "    dfs(root, 1)\n",
    "    return maxD"
   ]
  },
  {
   "cell_type": "code",
   "execution_count": 8,
   "metadata": {},
   "outputs": [
    {
     "data": {
      "text/plain": [
       "3"
      ]
     },
     "execution_count": 8,
     "metadata": {},
     "output_type": "execute_result"
    }
   ],
   "source": [
    "maxDepth(root)"
   ]
  },
  {
   "cell_type": "code",
   "execution_count": null,
   "metadata": {},
   "outputs": [],
   "source": []
  }
 ],
 "metadata": {
  "kernelspec": {
   "display_name": "Python 3",
   "language": "python",
   "name": "python3"
  },
  "language_info": {
   "codemirror_mode": {
    "name": "ipython",
    "version": 3
   },
   "file_extension": ".py",
   "mimetype": "text/x-python",
   "name": "python",
   "nbconvert_exporter": "python",
   "pygments_lexer": "ipython3",
   "version": "3.6.5"
  }
 },
 "nbformat": 4,
 "nbformat_minor": 2
}
