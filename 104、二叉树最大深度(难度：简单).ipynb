{
  "cells": [
    {
      "metadata": {
        "collapsed": true
      },
      "cell_type": "markdown",
      "source": "# 二叉树最大深度\n\n**题目来源：力扣（LeetCode）**\n\n**链接：https://leetcode-cn.com/problems/maximum-depth-of-binary-tree/**\n\n## 一、题目\n\n给定一个二叉树，找出其最大深度。\n\n二叉树的深度为根节点到最远叶子节点的最长路径上的节点数。\n\n说明: 叶子节点是指没有子节点的节点。\n\n## 二、示例\n\n给定二叉树 [3,9,20,null,null,15,7]，\n\n&emsp;&emsp;&emsp;&emsp;3\n    \n&emsp;&emsp;&emsp;/&emsp;&emsp;\\\n   \n&emsp;&emsp;9&emsp;&emsp;&emsp;20\n  \n&emsp;&emsp;&emsp;&emsp;&emsp;/&emsp;&emsp;\\\n    \n&emsp;&emsp;&emsp;&emsp;15&emsp;&emsp;&emsp;7\n\n返回它的最大深度 3 。\n\n\n## 三、解题思路\n\n### 递归"
    },
    {
      "metadata": {
        "trusted": true
      },
      "cell_type": "code",
      "source": "class TreeNode:\n    def __init__(self, x):\n        self.val = x\n        self.left = None\n        self.right = None",
      "execution_count": 1,
      "outputs": []
    },
    {
      "metadata": {
        "trusted": true
      },
      "cell_type": "code",
      "source": "root = TreeNode(3)\nnode1_1 = TreeNode(9)\nnode1_2 = TreeNode(20)\nnode1_2_1 = TreeNode(15)\nnode1_2_2 = TreeNode(7)\n\nroot.left = node1_1\nroot.right = node1_2\n\nnode1_2.left = node1_2_1\nnode1_2.right = node1_2_2",
      "execution_count": 2,
      "outputs": []
    },
    {
      "metadata": {
        "trusted": true
      },
      "cell_type": "code",
      "source": "def maxDepth(root):\n    if not root:\n        return 0\n    else:\n        left = maxDepth(root.left)\n        right = maxDepth(root.right)\n        if left > right:\n            return left + 1\n        else:\n            return right + 1",
      "execution_count": 3,
      "outputs": []
    },
    {
      "metadata": {
        "trusted": true
      },
      "cell_type": "code",
      "source": "maxDepth(root)",
      "execution_count": 4,
      "outputs": [
        {
          "output_type": "execute_result",
          "execution_count": 4,
          "data": {
            "text/plain": "3"
          },
          "metadata": {}
        }
      ]
    },
    {
      "metadata": {
        "trusted": true
      },
      "cell_type": "code",
      "source": "",
      "execution_count": null,
      "outputs": []
    }
  ],
  "metadata": {
    "kernelspec": {
      "name": "python36",
      "display_name": "Python 3.6",
      "language": "python"
    },
    "language_info": {
      "mimetype": "text/x-python",
      "nbconvert_exporter": "python",
      "name": "python",
      "pygments_lexer": "ipython3",
      "version": "3.6.6",
      "file_extension": ".py",
      "codemirror_mode": {
        "version": 3,
        "name": "ipython"
      }
    }
  },
  "nbformat": 4,
  "nbformat_minor": 2
}