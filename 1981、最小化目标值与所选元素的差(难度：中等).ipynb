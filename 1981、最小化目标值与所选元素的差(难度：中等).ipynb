{
 "cells": [
  {
   "cell_type": "markdown",
   "metadata": {},
   "source": [
    "# 最小化目标值与所选元素的差\n",
    "\n",
    "**题目来源：力扣（LeetCode）**\n",
    "\n",
    "**链接：https://leetcode-cn.com/problems/minimize-the-difference-between-target-and-chosen-elements/**\n",
    "\n",
    "## 一、题目\n",
    "\n",
    "给你一个大小为 m x n 的整数矩阵 mat 和一个整数 target 。\n",
    "\n",
    "从矩阵的 每一行 中选择一个整数，你的目标是 最小化 所有选中元素之 和 与目标值 target 的 绝对差 。\n",
    "\n",
    "返回 最小的绝对差 。\n",
    "\n",
    "a 和 b 两数字的 绝对差 是 a - b 的绝对值。\n",
    "\n",
    "### 提示：\n",
    "\n",
    "- m == mat.length\n",
    "- n == mat[i].length\n",
    "- 1 <= m, n <= 70\n",
    "- 1 <= mat[i][j] <= 70\n",
    "- 1 <= target <= 800\n",
    "\n",
    "## 二、示例\n",
    "\n",
    "### 示例 1：\n",
    "\n",
    "输入：mat = [[1,2,3],[4,5,6],[7,8,9]], target = 13\n",
    "\n",
    "输出：0\n",
    "\n",
    "解释：一种可能的最优选择方案是：\n",
    "\n",
    "- 第一行选出 1\n",
    "- 第二行选出 5\n",
    "- 第三行选出 7\n",
    "\n",
    "所选元素的和是 13 ，等于目标值，所以绝对差是 0 。\n",
    "\n",
    "### 示例 2：\n",
    "\n",
    "输入：mat = [[1],[2],[3]], target = 100\n",
    "\n",
    "输出：94\n",
    "\n",
    "解释：唯一一种选择方案是：\n",
    "\n",
    "- 第一行选出 1\n",
    "- 第二行选出 2\n",
    "- 第三行选出 3\n",
    "\n",
    "所选元素的和是 6 ，绝对差是 94 。\n",
    "\n",
    "### 示例 3：\n",
    "\n",
    "输入：mat = [[1,2,9,8,7]], target = 6\n",
    "\n",
    "输出：1\n",
    "\n",
    "解释：最优的选择方案是选出第一行的 7 。绝对差是 1 。\n",
    "\n",
    "## 三、解题思路\n",
    "\n",
    "### 记忆化+深度优先搜索"
   ]
  },
  {
   "cell_type": "code",
   "execution_count": 1,
   "metadata": {},
   "outputs": [],
   "source": [
    "def minimizeTheDifference(mat, target: int) -> int:\n",
    "    from functools import lru_cache\n",
    "    import bisect\n",
    "    n = len(mat)\n",
    "    for nums in mat:\n",
    "        nums.sort()\n",
    "    @lru_cache(None)\n",
    "    def findMinAbs(index, target):\n",
    "        nums = mat[index]\n",
    "        left = bisect.bisect_left(nums, target)\n",
    "        n = len(nums)\n",
    "        left = min(n-1, left)\n",
    "        left = max(0, left)\n",
    "        preLeft, nxtLeft = left , left\n",
    "        if left > 0:\n",
    "            preLeft = left - 1\n",
    "        if left < n - 2:\n",
    "            nxtLeft = left + 1\n",
    "        return min(abs(target - nums[left]), abs(target - nums[preLeft]), abs(target - nums[nxtLeft]))\n",
    "    @lru_cache(None)\n",
    "    def dfs(index, target):\n",
    "        ret = float('inf')\n",
    "        if index == n - 1:\n",
    "            return findMinAbs(index, target)\n",
    "        for num in mat[index]:\n",
    "            r = dfs(index + 1, target - num)\n",
    "            ret = min(r, ret)\n",
    "            if ret == 0:\n",
    "                break\n",
    "        return ret\n",
    "    return dfs(0, target)"
   ]
  },
  {
   "cell_type": "code",
   "execution_count": 2,
   "metadata": {},
   "outputs": [
    {
     "data": {
      "text/plain": [
       "0"
      ]
     },
     "execution_count": 2,
     "metadata": {},
     "output_type": "execute_result"
    }
   ],
   "source": [
    "minimizeTheDifference(mat = [[1,2,3],[4,5,6],[7,8,9]], target = 13)"
   ]
  },
  {
   "cell_type": "code",
   "execution_count": 3,
   "metadata": {},
   "outputs": [
    {
     "data": {
      "text/plain": [
       "94"
      ]
     },
     "execution_count": 3,
     "metadata": {},
     "output_type": "execute_result"
    }
   ],
   "source": [
    "minimizeTheDifference(mat = [[1],[2],[3]], target = 100)"
   ]
  },
  {
   "cell_type": "code",
   "execution_count": 4,
   "metadata": {},
   "outputs": [
    {
     "data": {
      "text/plain": [
       "1"
      ]
     },
     "execution_count": 4,
     "metadata": {},
     "output_type": "execute_result"
    }
   ],
   "source": [
    "minimizeTheDifference(mat = [[1,2,9,8,7]], target = 6)"
   ]
  },
  {
   "cell_type": "code",
   "execution_count": null,
   "metadata": {},
   "outputs": [],
   "source": []
  }
 ],
 "metadata": {
  "kernelspec": {
   "display_name": "Python 3",
   "language": "python",
   "name": "python3"
  },
  "language_info": {
   "codemirror_mode": {
    "name": "ipython",
    "version": 3
   },
   "file_extension": ".py",
   "mimetype": "text/x-python",
   "name": "python",
   "nbconvert_exporter": "python",
   "pygments_lexer": "ipython3",
   "version": "3.6.5"
  }
 },
 "nbformat": 4,
 "nbformat_minor": 2
}
