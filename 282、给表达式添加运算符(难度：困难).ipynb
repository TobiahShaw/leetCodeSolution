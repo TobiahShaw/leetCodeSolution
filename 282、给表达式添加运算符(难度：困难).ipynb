{
 "cells": [
  {
   "cell_type": "markdown",
   "metadata": {},
   "source": [
    "# 给表达式添加运算符\n",
    "\n",
    "**题目来源：力扣（LeetCode）**\n",
    "\n",
    "**链接：https://leetcode-cn.com/problems/expression-add-operators/**\n",
    "\n",
    "## 一、题目\n",
    "\n",
    "给定一个仅包含数字 0-9 的字符串 num 和一个目标值整数 target ，在 num 的数字之间添加 二元 运算符（不是一元）+、- 或 * ，返回所有能够得到目标值的表达式。\n",
    "\n",
    "### 提示：\n",
    "\n",
    "- 1 <= num.length <= 10\n",
    "- num 仅含数字\n",
    "- -2^31 <= target <= 2^31 - 1\n",
    "\n",
    "## 二、示例\n",
    "\n",
    "### 示例 1：\n",
    "\n",
    "输入: num = \"123\", target = 6\n",
    "\n",
    "输出: [\"1+2+3\", \"1\\*2\\*3\"] \n",
    "\n",
    "### 示例 2:\n",
    "\n",
    "输入: num = \"232\", target = 8\n",
    "\n",
    "输出: [\"2\\*3+2\", \"2+3\\*2\"]\n",
    "\n",
    "### 示例 3:\n",
    "\n",
    "输入: num = \"105\", target = 5\n",
    "\n",
    "输出: [\"1\\*0+5\",\"10-5\"]\n",
    "\n",
    "### 示例 4:\n",
    "\n",
    "输入: num = \"00\", target = 0\n",
    "\n",
    "输出: [\"0+0\", \"0-0\", \"0\\*0\"]\n",
    "\n",
    "### 示例 5:\n",
    "\n",
    "输入: num = \"3456237490\", target = 9191\n",
    "\n",
    "输出: []\n",
    "\n",
    "## 三、解题思路\n",
    "\n",
    "### 回溯法"
   ]
  },
  {
   "cell_type": "code",
   "execution_count": 1,
   "metadata": {},
   "outputs": [],
   "source": [
    "def addOperators(num: str, target: int):\n",
    "    n = len(num)\n",
    "    ans = []\n",
    "\n",
    "    def backtrack(expr, i, res, mul):\n",
    "        if i == n:\n",
    "            if res == target:\n",
    "                ans.append(''.join(expr))\n",
    "            return\n",
    "        signIndex = len(expr)\n",
    "        if i > 0:\n",
    "            expr.append('')  # 占位，下面填充符号\n",
    "        val = 0\n",
    "        for j in range(i, n):  # 枚举截取的数字长度（取多少位）\n",
    "            if j > i and num[i] == '0':  # 数字可以是单个 0 但不能有前导零\n",
    "                break\n",
    "            val = val * 10 + int(num[j])\n",
    "            expr.append(num[j])\n",
    "            if i == 0:  # 表达式开头不能添加符号\n",
    "                backtrack(expr, j + 1, val, val)\n",
    "            else:  # 枚举符号\n",
    "                expr[signIndex] = '+'; backtrack(expr, j + 1, res + val, val)\n",
    "                expr[signIndex] = '-'; backtrack(expr, j + 1, res - val, -val)\n",
    "                expr[signIndex] = '*'; backtrack(expr, j + 1, res - mul + mul * val, mul * val)\n",
    "        del expr[signIndex:]\n",
    "\n",
    "    backtrack([], 0, 0, 0)\n",
    "    return ans"
   ]
  },
  {
   "cell_type": "code",
   "execution_count": 2,
   "metadata": {},
   "outputs": [
    {
     "data": {
      "text/plain": [
       "['1+2+3', '1*2*3']"
      ]
     },
     "execution_count": 2,
     "metadata": {},
     "output_type": "execute_result"
    }
   ],
   "source": [
    "addOperators(\"123\", 6)"
   ]
  },
  {
   "cell_type": "code",
   "execution_count": 3,
   "metadata": {},
   "outputs": [
    {
     "data": {
      "text/plain": [
       "['2+3*2', '2*3+2']"
      ]
     },
     "execution_count": 3,
     "metadata": {},
     "output_type": "execute_result"
    }
   ],
   "source": [
    "addOperators(\"232\", 8)"
   ]
  },
  {
   "cell_type": "code",
   "execution_count": 4,
   "metadata": {},
   "outputs": [
    {
     "data": {
      "text/plain": [
       "['1*0+5', '10-5']"
      ]
     },
     "execution_count": 4,
     "metadata": {},
     "output_type": "execute_result"
    }
   ],
   "source": [
    "addOperators(\"105\", 5)"
   ]
  },
  {
   "cell_type": "code",
   "execution_count": 5,
   "metadata": {},
   "outputs": [
    {
     "data": {
      "text/plain": [
       "['0+0', '0-0', '0*0']"
      ]
     },
     "execution_count": 5,
     "metadata": {},
     "output_type": "execute_result"
    }
   ],
   "source": [
    "addOperators(\"00\", 0)"
   ]
  },
  {
   "cell_type": "code",
   "execution_count": 6,
   "metadata": {},
   "outputs": [
    {
     "data": {
      "text/plain": [
       "[]"
      ]
     },
     "execution_count": 6,
     "metadata": {},
     "output_type": "execute_result"
    }
   ],
   "source": [
    "addOperators(\"3456237490\", 9191)"
   ]
  },
  {
   "cell_type": "code",
   "execution_count": null,
   "metadata": {},
   "outputs": [],
   "source": []
  }
 ],
 "metadata": {
  "kernelspec": {
   "display_name": "Python 3",
   "language": "python",
   "name": "python3"
  },
  "language_info": {
   "codemirror_mode": {
    "name": "ipython",
    "version": 3
   },
   "file_extension": ".py",
   "mimetype": "text/x-python",
   "name": "python",
   "nbconvert_exporter": "python",
   "pygments_lexer": "ipython3",
   "version": "3.6.5"
  }
 },
 "nbformat": 4,
 "nbformat_minor": 2
}
