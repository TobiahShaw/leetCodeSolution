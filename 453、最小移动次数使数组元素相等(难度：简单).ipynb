{
  "cells": [
    {
      "metadata": {
        "collapsed": true
      },
      "cell_type": "markdown",
      "source": "# 最小移动次数使数组元素相等\n\n**题目来源：力扣（LeetCode）**\n\n**链接：https://leetcode-cn.com/problems/minimum-moves-to-equal-array-elements/**\n\n## 一、题目\n\n给定一个长度为 n 的非空整数数组，找到让数组所有元素相等的最小移动次数。每次移动将会使 n - 1 个元素增加 1。\n\n## 二、示例\n\n输入:\n\n[1,2,3]\n\n输出:\n\n3\n\n解释:\n只需要3次移动（注意每次移动会增加两个元素的值）：\n\n[1,2,3]  =>  [2,3,3]  =>  [3,4,3]  =>  [4,4,4]\n\n## 三、解题思路\n\nn-1个加1，等于一个减1"
    },
    {
      "metadata": {
        "trusted": true
      },
      "cell_type": "code",
      "source": "def minMoves(nums) -> int:\n    return sum(nums) - min(nums) * len(nums)",
      "execution_count": 1,
      "outputs": []
    },
    {
      "metadata": {
        "trusted": true
      },
      "cell_type": "code",
      "source": "minMoves([1, 2, 3])",
      "execution_count": 2,
      "outputs": [
        {
          "output_type": "execute_result",
          "execution_count": 2,
          "data": {
            "text/plain": "3"
          },
          "metadata": {}
        }
      ]
    },
    {
      "metadata": {
        "trusted": true
      },
      "cell_type": "code",
      "source": "",
      "execution_count": null,
      "outputs": []
    }
  ],
  "metadata": {
    "kernelspec": {
      "name": "python36",
      "display_name": "Python 3.6",
      "language": "python"
    },
    "language_info": {
      "mimetype": "text/x-python",
      "nbconvert_exporter": "python",
      "name": "python",
      "pygments_lexer": "ipython3",
      "version": "3.6.6",
      "file_extension": ".py",
      "codemirror_mode": {
        "version": 3,
        "name": "ipython"
      }
    }
  },
  "nbformat": 4,
  "nbformat_minor": 2
}