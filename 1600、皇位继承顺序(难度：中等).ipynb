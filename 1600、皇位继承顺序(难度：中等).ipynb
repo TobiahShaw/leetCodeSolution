{
 "cells": [
  {
   "cell_type": "markdown",
   "metadata": {},
   "source": [
    "# 皇位继承顺序\n",
    "\n",
    "**题目来源：力扣（LeetCode）**\n",
    "\n",
    "**链接：https://leetcode-cn.com/problems/throne-inheritance/**\n",
    "\n",
    "## 一、题目\n",
    "\n",
    "一个王国里住着国王、他的孩子们、他的孙子们等等。每一个时间点，这个家庭里有人出生也有人死亡。\n",
    "\n",
    "这个王国有一个明确规定的皇位继承顺序，第一继承人总是国王自己。我们定义递归函数 Successor(x, curOrder) ，给定一个人 x 和当前的继承顺序，该函数返回 x 的下一继承人。\n",
    "\n",
    "```\n",
    "Successor(x, curOrder):\n",
    "    如果 x 没有孩子或者所有 x 的孩子都在 curOrder 中：\n",
    "        如果 x 是国王，那么返回 null\n",
    "        否则，返回 Successor(x 的父亲, curOrder)\n",
    "    否则，返回 x 不在 curOrder 中最年长的孩子\n",
    "```\n",
    "比方说，假设王国由国王，他的孩子 Alice 和 Bob （Alice 比 Bob 年长）和 Alice 的孩子 Jack 组成。\n",
    "\n",
    "1. 一开始， curOrder 为 [\"king\"].\n",
    "1. 调用 Successor(king, curOrder) ，返回 Alice ，所以我们将 Alice 放入 curOrder 中，得到 [\"king\", \"Alice\"] 。\n",
    "1. 调用 Successor(Alice, curOrder) ，返回 Jack ，所以我们将 Jack 放入 curOrder 中，得到 [\"king\", \"Alice\", \"Jack\"] 。\n",
    "1. 调用 Successor(Jack, curOrder) ，返回 Bob ，所以我们将 Bob 放入 curOrder 中，得到 [\"king\", \"Alice\", \"Jack\", \"Bob\"] 。\n",
    "1. 调用 Successor(Bob, curOrder) ，返回 null 。最终得到继承顺序为 [\"king\", \"Alice\", \"Jack\", \"Bob\"] 。\n",
    "1. 通过以上的函数，我们总是能得到一个唯一的继承顺序。\n",
    "\n",
    "请你实现 ThroneInheritance 类：\n",
    "\n",
    "- ThroneInheritance(string kingName) 初始化一个 ThroneInheritance 类的对象。国王的名字作为构造函数的参数传入。\n",
    "- void birth(string parentName, string childName) 表示 parentName 新拥有了一个名为 childName 的孩子。\n",
    "- void death(string name) 表示名为 name 的人死亡。一个人的死亡不会影响 Successor 函数，也不会影响当前的继承顺序。你可以只将这个人标记为死亡状态。\n",
    "- string[] getInheritanceOrder() 返回 除去 死亡人员的当前继承顺序列表。\n",
    "\n",
    "### 提示：\n",
    "\n",
    "- 1 <= kingName.length, parentName.length, childName.length, name.length <= 15\n",
    "- kingName，parentName， childName 和 name 仅包含小写英文字母。\n",
    "- 所有的参数 childName 和 kingName 互不相同。\n",
    "- 所有 death 函数中的死亡名字 name 要么是国王，要么是已经出生了的人员名字。\n",
    "- 每次调用 birth(parentName, childName) 时，测试用例都保证 parentName 对应的人员是活着的。\n",
    "- 最多调用 105 次birth 和 death 。\n",
    "- 最多调用 10 次 getInheritanceOrder 。\n",
    "\n",
    "## 二、示例\n",
    "\n",
    "输入：\n",
    "\n",
    "[\"ThroneInheritance\", \"birth\", \"birth\", \"birth\", \"birth\", \"birth\", \"birth\", \"getInheritanceOrder\", \"death\", \"getInheritanceOrder\"]\n",
    "[[\"king\"], [\"king\", \"andy\"], [\"king\", \"bob\"], [\"king\", \"catherine\"], [\"andy\", \"matthew\"], [\"bob\", \"alex\"], [\"bob\", \"asha\"], [null], [\"bob\"], [null]]\n",
    "\n",
    "输出：\n",
    "\n",
    "[null, null, null, null, null, null, null, [\"king\", \"andy\", \"matthew\", \"bob\", \"alex\", \"asha\", \"catherine\"], null, [\"king\", \"andy\", \"matthew\", \"alex\", \"asha\", \"catherine\"]]\n",
    "\n",
    "解释：\n",
    "\n",
    "```\n",
    "t = ThroneInheritance(\"king\") # 继承顺序：king\n",
    "t.birth(\"king\", \"andy\") # 继承顺序：king > andy\n",
    "t.birth(\"king\", \"bob\") # 继承顺序：king > andy > bob\n",
    "t.birth(\"king\", \"catherine\") # 继承顺序：king > andy > bob > catherine\n",
    "t.birth(\"andy\", \"matthew\") # 继承顺序：king > andy > matthew > bob > catherine\n",
    "t.birth(\"bob\", \"alex\") # 继承顺序：king > andy > matthew > bob > alex > catherine\n",
    "t.birth(\"bob\", \"asha\") # 继承顺序：king > andy > matthew > bob > alex > asha > catherine\n",
    "t.getInheritanceOrder() # 返回 [\"king\", \"andy\", \"matthew\", \"bob\", \"alex\", \"asha\", \"catherine\"]\n",
    "t.death(\"bob\") # 继承顺序：king > andy > matthew > bob（已经去世）> alex > asha > catherine\n",
    "t.getInheritanceOrder() # 返回 [\"king\", \"andy\", \"matthew\", \"alex\", \"asha\", \"catherine\"]\n",
    "```\n",
    "\n",
    "## 三、解题思路\n",
    "\n",
    "### 多叉树的前序遍历"
   ]
  },
  {
   "cell_type": "code",
   "execution_count": 1,
   "metadata": {},
   "outputs": [],
   "source": [
    "class ThroneInheritance:\n",
    "\n",
    "    def __init__(self, kingName: str):\n",
    "        self._kingName = kingName\n",
    "        self._rel = {}\n",
    "        self._death = set()\n",
    "\n",
    "    def birth(self, parentName: str, childName: str) -> None:\n",
    "        if parentName not in self._rel:\n",
    "            self._rel[parentName] = [childName]\n",
    "        else:\n",
    "            self._rel[parentName].append(childName)\n",
    "\n",
    "    def death(self, name: str) -> None:\n",
    "        self._death.add(name)\n",
    "\n",
    "    def getInheritanceOrder(self):\n",
    "        ret = []\n",
    "        def preorder(name):\n",
    "            if name not in self._death:\n",
    "                ret.append(name)\n",
    "            if name in self._rel:\n",
    "                for child in self._rel[name]:\n",
    "                    preorder(child)\n",
    "        preorder(self._kingName)\n",
    "        return ret"
   ]
  },
  {
   "cell_type": "code",
   "execution_count": 2,
   "metadata": {},
   "outputs": [],
   "source": [
    "t = ThroneInheritance(\"king\") # 继承顺序：king\n",
    "t.birth(\"king\", \"andy\") # 继承顺序：king > andy\n",
    "t.birth(\"king\", \"bob\") # 继承顺序：king > andy > bob\n",
    "t.birth(\"king\", \"catherine\") # 继承顺序：king > andy > bob > catherine\n",
    "t.birth(\"andy\", \"matthew\") # 继承顺序：king > andy > matthew > bob > catherine\n",
    "t.birth(\"bob\", \"alex\") # 继承顺序：king > andy > matthew > bob > alex > catherine\n",
    "t.birth(\"bob\", \"asha\") # 继承顺序：king > andy > matthew > bob > alex > asha > catherine"
   ]
  },
  {
   "cell_type": "code",
   "execution_count": 3,
   "metadata": {},
   "outputs": [
    {
     "data": {
      "text/plain": [
       "['king', 'andy', 'matthew', 'bob', 'alex', 'asha', 'catherine']"
      ]
     },
     "execution_count": 3,
     "metadata": {},
     "output_type": "execute_result"
    }
   ],
   "source": [
    "t.getInheritanceOrder() # 返回 [\"king\", \"andy\", \"matthew\", \"bob\", \"alex\", \"asha\", \"catherine\"]"
   ]
  },
  {
   "cell_type": "code",
   "execution_count": 4,
   "metadata": {},
   "outputs": [],
   "source": [
    "t.death(\"bob\") # 继承顺序：king > andy > matthew > bob（已经去世）> alex > asha > catherine"
   ]
  },
  {
   "cell_type": "code",
   "execution_count": 5,
   "metadata": {},
   "outputs": [
    {
     "data": {
      "text/plain": [
       "['king', 'andy', 'matthew', 'alex', 'asha', 'catherine']"
      ]
     },
     "execution_count": 5,
     "metadata": {},
     "output_type": "execute_result"
    }
   ],
   "source": [
    "t.getInheritanceOrder() # 返回 [\"king\", \"andy\", \"matthew\", \"alex\", \"asha\", \"catherine\"]"
   ]
  },
  {
   "cell_type": "code",
   "execution_count": null,
   "metadata": {},
   "outputs": [],
   "source": []
  }
 ],
 "metadata": {
  "kernelspec": {
   "display_name": "Python 3",
   "language": "python",
   "name": "python3"
  },
  "language_info": {
   "codemirror_mode": {
    "name": "ipython",
    "version": 3
   },
   "file_extension": ".py",
   "mimetype": "text/x-python",
   "name": "python",
   "nbconvert_exporter": "python",
   "pygments_lexer": "ipython3",
   "version": "3.6.5"
  }
 },
 "nbformat": 4,
 "nbformat_minor": 2
}
