{
 "cells": [
  {
   "cell_type": "markdown",
   "metadata": {},
   "source": [
    "# 词典中最长的单词\n",
    "\n",
    "**题目来源：力扣（LeetCode）**\n",
    "\n",
    "**链接：https://leetcode-cn.com/problems/longest-word-in-dictionary/**\n",
    "\n",
    "## 一、题目\n",
    "\n",
    "给出一个字符串数组 words 组成的一本英语词典。返回 words 中最长的一个单词，该单词是由 words 词典中其他单词逐步添加一个字母组成。\n",
    "\n",
    "若其中有多个可行的答案，则返回答案中字典序最小的单词。若无答案，则返回空字符串。\n",
    "\n",
    "### 提示：\n",
    "\n",
    "- 1 <= words.length <= 1000\n",
    "- 1 <= words[i].length <= 30\n",
    "- 所有输入的字符串 words[i] 都只包含小写字母。\n",
    "\n",
    "## 二、示例\n",
    "\n",
    "### 示例 1：\n",
    "\n",
    "输入：words = [\"w\",\"wo\",\"wor\",\"worl\", \"world\"]\n",
    "\n",
    "输出：\"world\"\n",
    "\n",
    "解释： 单词\"world\"可由\"w\", \"wo\", \"wor\", 和 \"worl\"逐步添加一个字母组成。\n",
    "\n",
    "### 示例 2：\n",
    "\n",
    "输入：words = [\"a\", \"banana\", \"app\", \"appl\", \"ap\", \"apply\", \"apple\"]\n",
    "\n",
    "输出：\"apple\"\n",
    "\n",
    "解释：\"apply\" 和 \"apple\" 都能由词典中的单词组成。但是 \"apple\" 的字典序小于 \"apply\" \n",
    "\n",
    "## 三、解题思路\n",
    "\n",
    "### 暴力"
   ]
  },
  {
   "cell_type": "code",
   "execution_count": 1,
   "metadata": {},
   "outputs": [],
   "source": [
    "def longestWord(words) -> str:\n",
    "    ret = \"\"\n",
    "    wordset = set(words)\n",
    "    for word in words:\n",
    "        if len(word) > len(ret) or len(word) == len(ret) and word < ret:\n",
    "            if all(word[:k] in wordset for k in range(1, len(word))):\n",
    "                ret = word\n",
    "    return ret"
   ]
  },
  {
   "cell_type": "code",
   "execution_count": 2,
   "metadata": {},
   "outputs": [
    {
     "data": {
      "text/plain": [
       "'world'"
      ]
     },
     "execution_count": 2,
     "metadata": {},
     "output_type": "execute_result"
    }
   ],
   "source": [
    "longestWord([\"w\",\"wo\",\"wor\",\"worl\", \"world\"])"
   ]
  },
  {
   "cell_type": "code",
   "execution_count": 3,
   "metadata": {},
   "outputs": [
    {
     "data": {
      "text/plain": [
       "'apple'"
      ]
     },
     "execution_count": 3,
     "metadata": {},
     "output_type": "execute_result"
    }
   ],
   "source": [
    "longestWord([\"a\", \"banana\", \"app\", \"appl\", \"ap\", \"apply\", \"apple\"])"
   ]
  },
  {
   "cell_type": "code",
   "execution_count": null,
   "metadata": {},
   "outputs": [],
   "source": []
  }
 ],
 "metadata": {
  "kernelspec": {
   "display_name": "Python 3",
   "language": "python",
   "name": "python3"
  },
  "language_info": {
   "codemirror_mode": {
    "name": "ipython",
    "version": 3
   },
   "file_extension": ".py",
   "mimetype": "text/x-python",
   "name": "python",
   "nbconvert_exporter": "python",
   "pygments_lexer": "ipython3",
   "version": "3.6.5"
  }
 },
 "nbformat": 4,
 "nbformat_minor": 2
}
