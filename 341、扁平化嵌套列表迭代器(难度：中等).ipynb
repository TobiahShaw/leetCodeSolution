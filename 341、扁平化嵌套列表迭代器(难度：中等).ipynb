{
 "cells": [
  {
   "cell_type": "markdown",
   "metadata": {},
   "source": [
    "# 扁平化嵌套列表迭代器\n",
    "\n",
    "**题目来源：力扣（LeetCode）**\n",
    "\n",
    "**链接：https://leetcode-cn.com/problems/flatten-nested-list-iterator/**\n",
    "\n",
    "## 一、题目\n",
    "\n",
    "给你一个嵌套的整型列表。请你设计一个迭代器，使其能够遍历这个整型列表中的所有整数。\n",
    "\n",
    "列表中的每一项或者为一个整数，或者是另一个列表。其中列表的元素也可能是整数或是其他列表。\n",
    "\n",
    "## 二、示例\n",
    "\n",
    "### 示例 1：\n",
    "\n",
    "输入: [[1,1],2,[1,1]]\n",
    "\n",
    "输出: [1,1,2,1,1]\n",
    "\n",
    "解释: 通过重复调用 next 直到 hasNext 返回 false，next 返回的元素的顺序应该是: [1,1,2,1,1]。\n",
    "\n",
    "### 示例 2:\n",
    "\n",
    "输入: [1,[4,[6]]]\n",
    "\n",
    "输出: [1,4,6]\n",
    "\n",
    "解释: 通过重复调用 next 直到 hasNext 返回 false，next 返回的元素的顺序应该是: [1,4,6]。\n",
    "\n",
    "## 三、解题思路\n",
    "\n",
    "### 深度优先搜索"
   ]
  },
  {
   "cell_type": "code",
   "execution_count": 1,
   "metadata": {},
   "outputs": [],
   "source": [
    "class NestedIterator:\n",
    "    def __init__(self, nestedList):\n",
    "        self.data = []\n",
    "        self.pos = 0\n",
    "        self._dfs(nestedList)\n",
    "        self._length = len(self.data)\n",
    "\n",
    "    def _dfs(self, data):\n",
    "        for i in data:\n",
    "            if type(i) == int:\n",
    "                self.data.append(i)\n",
    "            else:\n",
    "                self._dfs(i)\n",
    "    \n",
    "    def next(self) -> int:\n",
    "        self.pos += 1\n",
    "        return self.data[self.pos - 1]\n",
    "    \n",
    "    def hasNext(self) -> bool:\n",
    "         return self.pos < self._length"
   ]
  },
  {
   "cell_type": "code",
   "execution_count": 2,
   "metadata": {},
   "outputs": [
    {
     "name": "stdout",
     "output_type": "stream",
     "text": [
      "1 1 2 1 1 "
     ]
    }
   ],
   "source": [
    "iterator = NestedIterator([[1,1],2,[1,1]])\n",
    "while iterator.hasNext():\n",
    "    print(iterator.next(), end=' ')"
   ]
  },
  {
   "cell_type": "code",
   "execution_count": 3,
   "metadata": {},
   "outputs": [
    {
     "name": "stdout",
     "output_type": "stream",
     "text": [
      "1 4 6 "
     ]
    }
   ],
   "source": [
    "iterator2 = NestedIterator([1,[4,[6]]])\n",
    "while iterator2.hasNext():\n",
    "    print(iterator2.next(), end=' ')"
   ]
  },
  {
   "cell_type": "code",
   "execution_count": null,
   "metadata": {},
   "outputs": [],
   "source": []
  }
 ],
 "metadata": {
  "kernelspec": {
   "display_name": "Python 3",
   "language": "python",
   "name": "python3"
  },
  "language_info": {
   "codemirror_mode": {
    "name": "ipython",
    "version": 3
   },
   "file_extension": ".py",
   "mimetype": "text/x-python",
   "name": "python",
   "nbconvert_exporter": "python",
   "pygments_lexer": "ipython3",
   "version": "3.6.5"
  }
 },
 "nbformat": 4,
 "nbformat_minor": 2
}
