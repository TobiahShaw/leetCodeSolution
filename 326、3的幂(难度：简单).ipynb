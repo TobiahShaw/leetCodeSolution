{
  "cells": [
    {
      "metadata": {
        "collapsed": true
      },
      "cell_type": "markdown",
      "source": "# 3的幂\n\n**题目来源：力扣（LeetCode）**\n\n**链接：https://leetcode-cn.com/problems/power-of-three/**\n\n## 一、题目\n\n给定一个整数，写一个函数来判断它是否是 3 的幂次方。\n\n## 二、示例\n\n### 示例 1:\n\n输入: 27\n\n输出: true\n\n### 示例 2:\n\n输入: 0\n\n输出: false\n\n### 示例 3:\n\n输入: 9\n\n输出: true\n\n### 示例 4:\n\n输入: 45\n\n输出: false\n\n## 三、解题思路\n\n### 一、循环"
    },
    {
      "metadata": {
        "trusted": true
      },
      "cell_type": "code",
      "source": "def isPowerOfThree(n):\n    if n < 1:\n        return False\n    while n % 3 == 0:\n        n = n // 3\n    return n == 1 ",
      "execution_count": 1,
      "outputs": []
    },
    {
      "metadata": {
        "trusted": true
      },
      "cell_type": "code",
      "source": "test = [27, 0, 9, 45, 1]\nfor i in test:\n    print(isPowerOfThree(i))",
      "execution_count": 2,
      "outputs": [
        {
          "output_type": "stream",
          "text": "True\nFalse\nTrue\nFalse\nTrue\n",
          "name": "stdout"
        }
      ]
    },
    {
      "metadata": {},
      "cell_type": "markdown",
      "source": "### 二、整数限制"
    },
    {
      "metadata": {
        "trusted": true
      },
      "cell_type": "code",
      "source": "def isPowerOfThree(n):\n    return n > 0 and 1162261467 % n == 0",
      "execution_count": 3,
      "outputs": []
    },
    {
      "metadata": {
        "trusted": true
      },
      "cell_type": "code",
      "source": "for i in test:\n    print(isPowerOfThree(i))",
      "execution_count": 4,
      "outputs": [
        {
          "output_type": "stream",
          "text": "True\nFalse\nTrue\nFalse\nTrue\n",
          "name": "stdout"
        }
      ]
    },
    {
      "metadata": {},
      "cell_type": "markdown",
      "source": "### 三、枚举\n\n因为在int范围内3的幂只有19个，枚举即可，这里不做实现"
    },
    {
      "metadata": {
        "trusted": true
      },
      "cell_type": "code",
      "source": "",
      "execution_count": null,
      "outputs": []
    }
  ],
  "metadata": {
    "kernelspec": {
      "name": "python36",
      "display_name": "Python 3.6",
      "language": "python"
    },
    "language_info": {
      "mimetype": "text/x-python",
      "nbconvert_exporter": "python",
      "name": "python",
      "pygments_lexer": "ipython3",
      "version": "3.6.6",
      "file_extension": ".py",
      "codemirror_mode": {
        "version": 3,
        "name": "ipython"
      }
    }
  },
  "nbformat": 4,
  "nbformat_minor": 2
}