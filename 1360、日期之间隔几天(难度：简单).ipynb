{
 "cells": [
  {
   "cell_type": "markdown",
   "metadata": {},
   "source": [
    "# 日期之间隔几天\n",
    "\n",
    "**题目来源：力扣（LeetCode）**\n",
    "\n",
    "**链接：https://leetcode-cn.com/problems/number-of-days-between-two-dates/**\n",
    "\n",
    "## 一、题目\n",
    "\n",
    "请你编写一个程序来计算两个日期之间隔了多少天。\n",
    "\n",
    "日期以字符串形式给出，格式为 YYYY-MM-DD，如示例所示。\n",
    "\n",
    "### 提示：\n",
    "\n",
    "- 给定的日期是 1971 年到 2100 年之间的有效日期。\n",
    "\n",
    "## 二、示例\n",
    "\n",
    "### 示例 1：\n",
    "\n",
    "输入：date1 = \"2019-06-29\", date2 = \"2019-06-30\"\n",
    "\n",
    "输出：1\n",
    "\n",
    "### 示例 2：\n",
    "\n",
    "输入：date1 = \"2020-01-15\", date2 = \"2019-12-31\"\n",
    "\n",
    "输出：15\n",
    "\n",
    "## 三、解题思路\n",
    "\n",
    "### 分别计算年差和日差"
   ]
  },
  {
   "cell_type": "code",
   "execution_count": 1,
   "metadata": {},
   "outputs": [],
   "source": [
    "def daysBetweenDates(date1: str, date2: str) -> int:\n",
    "    month_days = [31, 28, 31, 30, 31, 30, 31, 31, 30, 31, 30, 31]  # 平年的 12 个月的天数\n",
    "    \n",
    "    d1, d2 = min(date1, date2), max(date1, date2)  # d1 为较小的日期，d2 为较大的日期\n",
    "    year1, month1, day1 = (int(i) for i in d1.split('-'))\n",
    "    year2, month2, day2 = (int(i) for i in d2.split('-'))\n",
    "\n",
    "    def is_leap(year):\n",
    "        # 判断是否为闰年\n",
    "        return year % 4 == 0 and (year % 100 != 0 or year % 400 == 0)\n",
    "    \n",
    "    def days_between_two_years(year1, year2):\n",
    "        # 两个年份之间的间隔天数\n",
    "        return sum(366 if is_leap(year) else 365 for year in range(year1, year2))\n",
    "    \n",
    "    def days_from_year_start(year, month, day):\n",
    "        # 从当年的1月1号到当天的天数，对于闰年且过了2月的情况，要额外补偿1天\n",
    "        return sum(month_days[:(month-1)]) + day + (1 if is_leap(year) and month > 2 else 0)\n",
    "\n",
    "    return  days_between_two_years(year1, year2) + days_from_year_start(year2, month2, day2) - days_from_year_start(year1, month1, day1)"
   ]
  },
  {
   "cell_type": "code",
   "execution_count": 2,
   "metadata": {},
   "outputs": [
    {
     "data": {
      "text/plain": [
       "1"
      ]
     },
     "execution_count": 2,
     "metadata": {},
     "output_type": "execute_result"
    }
   ],
   "source": [
    "daysBetweenDates(date1 = \"2019-06-29\", date2 = \"2019-06-30\")"
   ]
  },
  {
   "cell_type": "code",
   "execution_count": 3,
   "metadata": {},
   "outputs": [
    {
     "data": {
      "text/plain": [
       "15"
      ]
     },
     "execution_count": 3,
     "metadata": {},
     "output_type": "execute_result"
    }
   ],
   "source": [
    "daysBetweenDates(date1 = \"2020-01-15\", date2 = \"2019-12-31\")"
   ]
  },
  {
   "cell_type": "code",
   "execution_count": null,
   "metadata": {},
   "outputs": [],
   "source": []
  }
 ],
 "metadata": {
  "kernelspec": {
   "display_name": "Python 3",
   "language": "python",
   "name": "python3"
  },
  "language_info": {
   "codemirror_mode": {
    "name": "ipython",
    "version": 3
   },
   "file_extension": ".py",
   "mimetype": "text/x-python",
   "name": "python",
   "nbconvert_exporter": "python",
   "pygments_lexer": "ipython3",
   "version": "3.6.5"
  }
 },
 "nbformat": 4,
 "nbformat_minor": 2
}
