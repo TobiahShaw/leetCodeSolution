{
 "cells": [
  {
   "cell_type": "markdown",
   "metadata": {
    "collapsed": true
   },
   "source": [
    "# 二叉树展开为链表\n",
    "\n",
    "**题目来源：力扣（LeetCode）**\n",
    "\n",
    "**链接：https://leetcode-cn.com/problems/flatten-binary-tree-to-linked-list/**\n",
    "\n",
    "## 一、题目\n",
    "\n",
    "给你二叉树的根结点 root ，请你将它展开为一个单链表：\n",
    "\n",
    "展开后的单链表应该同样使用 TreeNode ，其中 right 子指针指向链表中下一个结点，而左子指针始终为 null 。\n",
    "展开后的单链表应该与二叉树 先序遍历 顺序相同。\n",
    "\n",
    "### 提示：\n",
    "\n",
    "- 树中结点数在范围 [0, 2000] 内\n",
    "- -100 <= Node.val <= 100\n",
    "\n",
    "## 二、示例\n",
    "\n",
    "### 示例 1：\n",
    "\n",
    "输入：root = [1,2,5,3,4,null,6]\n",
    "\n",
    "输出：[1,null,2,null,3,null,4,null,5,null,6]\n",
    "\n",
    "```\n",
    "    1\n",
    "   / \\\n",
    "  2   5\n",
    " / \\   \\\n",
    "3   4   6\n",
    "\n",
    "```\n",
    "\n",
    "将其展开为：\n",
    "\n",
    "```\n",
    "1\n",
    " \\\n",
    "  2\n",
    "   \\\n",
    "    3\n",
    "     \\\n",
    "      4\n",
    "       \\\n",
    "        5\n",
    "         \\\n",
    "          6\n",
    "```\n",
    "\n",
    "### 示例 2：\n",
    "\n",
    "输入：root = []\n",
    "\n",
    "输出：[]\n",
    "\n",
    "### 示例 3：\n",
    "\n",
    "输入：root = [0]\n",
    "\n",
    "输出：[0]\n",
    "\n",
    "## 三、解题思路\n",
    "\n",
    "### 一、假设不考虑原地展开\n",
    "\n",
    "那么这个问题就很简单了，简单的前序遍历"
   ]
  },
  {
   "cell_type": "code",
   "execution_count": 1,
   "metadata": {},
   "outputs": [],
   "source": [
    "class TreeNode:\n",
    "    def __init__(self, x):\n",
    "        self.val = x\n",
    "        self.left = None\n",
    "        self.right = None"
   ]
  },
  {
   "cell_type": "code",
   "execution_count": 2,
   "metadata": {},
   "outputs": [],
   "source": [
    "def init():\n",
    "    root = TreeNode(1)\n",
    "    \n",
    "    root.left = TreeNode(2)\n",
    "    root.right = TreeNode(5)\n",
    "    \n",
    "    root.left.left = TreeNode(3)\n",
    "    root.left.right = TreeNode(4)\n",
    "    \n",
    "    root.right.right = TreeNode(6)\n",
    "    return root\n",
    "def printNode(node):\n",
    "    while node:\n",
    "        print(node.val, end=' ')\n",
    "        node = node.right"
   ]
  },
  {
   "cell_type": "code",
   "execution_count": 3,
   "metadata": {},
   "outputs": [],
   "source": [
    "def flatten(root: TreeNode):\n",
    "    def dfs(node, result):\n",
    "        if not node:\n",
    "            return\n",
    "        result.append(node)\n",
    "        dfs(node.left, result)\n",
    "        dfs(node.right, result)\n",
    "    result = []\n",
    "    dfs(root, result)\n",
    "    for i in range(len(result) - 1):\n",
    "        result[i].left = None\n",
    "        result[i].right = result[i+1]\n",
    "    return root"
   ]
  },
  {
   "cell_type": "code",
   "execution_count": 4,
   "metadata": {},
   "outputs": [],
   "source": [
    "root = init()"
   ]
  },
  {
   "cell_type": "code",
   "execution_count": 5,
   "metadata": {},
   "outputs": [
    {
     "name": "stdout",
     "output_type": "stream",
     "text": [
      "1 2 3 4 5 6 "
     ]
    }
   ],
   "source": [
    "printNode(flatten(root))"
   ]
  },
  {
   "cell_type": "markdown",
   "metadata": {},
   "source": [
    "### 二、原地递归修改\n",
    "\n",
    "- 递归的修改子树\n",
    "- 传入当前节点，返回修改后的尾节点\n",
    "- 如果节点是None则返回None，为叶子节点则返回自身\n",
    "- 如果左子树存在：将左子树递归修改，拿到返回的left_last，将节点左子树置空，右子树置为左子树（已修改），last置为left_last\n",
    "- 如果右子树存在：将右子树递归修改，拿到right_last，如果left_last存在，则将left_last的右子树指向右子树（已修改），，last置为right_last"
   ]
  },
  {
   "cell_type": "code",
   "execution_count": 6,
   "metadata": {},
   "outputs": [],
   "source": [
    "def flatten(root: TreeNode) -> None:\n",
    "    \"\"\"\n",
    "    Do not return anything, modify root in-place instead.\n",
    "    \"\"\"\n",
    "    def helper(node):\n",
    "        if not node:\n",
    "            return None\n",
    "        if not node.left and not node.right:\n",
    "            return node\n",
    "        left, right, left_last, right_last, last = node.left, node.right, None, None, None\n",
    "        if left:\n",
    "            left_last = helper(left)\n",
    "            node.left = None\n",
    "            node.right = left\n",
    "            last = left_last\n",
    "        if right:\n",
    "            right_last = helper(right)\n",
    "            if left_last:\n",
    "                left_last.right = right\n",
    "            last = right_last\n",
    "        return last\n",
    "    helper(root)"
   ]
  },
  {
   "cell_type": "code",
   "execution_count": 7,
   "metadata": {},
   "outputs": [
    {
     "name": "stdout",
     "output_type": "stream",
     "text": [
      "1 2 3 4 5 6 "
     ]
    }
   ],
   "source": [
    "root = init()\n",
    "flatten(root)\n",
    "printNode(root)"
   ]
  },
  {
   "cell_type": "code",
   "execution_count": null,
   "metadata": {},
   "outputs": [],
   "source": []
  }
 ],
 "metadata": {
  "kernelspec": {
   "display_name": "Python 3",
   "language": "python",
   "name": "python3"
  },
  "language_info": {
   "codemirror_mode": {
    "name": "ipython",
    "version": 3
   },
   "file_extension": ".py",
   "mimetype": "text/x-python",
   "name": "python",
   "nbconvert_exporter": "python",
   "pygments_lexer": "ipython3",
   "version": "3.6.5"
  }
 },
 "nbformat": 4,
 "nbformat_minor": 2
}
