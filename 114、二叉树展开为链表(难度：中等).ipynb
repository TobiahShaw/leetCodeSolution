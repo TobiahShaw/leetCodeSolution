{
  "cells": [
    {
      "metadata": {
        "collapsed": true
      },
      "cell_type": "markdown",
      "source": "# 二叉树展开为链表\n\n**题目来源：力扣（LeetCode）**\n\n**链接：https://leetcode-cn.com/problems/flatten-binary-tree-to-linked-list/**\n\n## 一、题目\n\n给定一个二叉树，原地将它展开为链表。\n\n## 二、示例\n\n例如，给定二叉树\n\n```\n    1\n   / \\\n  2   5\n / \\   \\\n3   4   6\n\n```\n\n将其展开为：\n\n```\n1\n \\\n  2\n   \\\n    3\n     \\\n      4\n       \\\n        5\n         \\\n          6\n```\n\n## 三、解题思路\n\n### 一、假设不考虑原地展开\n\n那么这个问题就很简单了，简单的前序遍历"
    },
    {
      "metadata": {
        "trusted": true
      },
      "cell_type": "code",
      "source": "class TreeNode:\n    def __init__(self, x):\n        self.val = x\n        self.left = None\n        self.right = None",
      "execution_count": 1,
      "outputs": []
    },
    {
      "metadata": {
        "trusted": true
      },
      "cell_type": "code",
      "source": "def init():\n    root = TreeNode(1)\n    \n    root.left = TreeNode(2)\n    root.right = TreeNode(5)\n    \n    root.left.left = TreeNode(3)\n    root.left.right = TreeNode(4)\n    \n    root.right.right = TreeNode(6)\n    return root\ndef printNode(node):\n    while node:\n        print(node.val, end=' ')\n        node = node.right",
      "execution_count": 2,
      "outputs": []
    },
    {
      "metadata": {
        "trusted": true
      },
      "cell_type": "code",
      "source": "def flatten(root: TreeNode):\n    def dfs(node, result):\n        if not node:\n            return\n        result.append(node)\n        dfs(node.left, result)\n        dfs(node.right, result)\n    result = []\n    dfs(root, result)\n    for i in range(len(result) - 1):\n        result[i].left = None\n        result[i].right = result[i+1]\n    return root",
      "execution_count": 3,
      "outputs": []
    },
    {
      "metadata": {
        "trusted": true
      },
      "cell_type": "code",
      "source": "root = init()",
      "execution_count": 4,
      "outputs": []
    },
    {
      "metadata": {
        "trusted": true
      },
      "cell_type": "code",
      "source": "printNode(flatten(root))",
      "execution_count": 5,
      "outputs": [
        {
          "output_type": "stream",
          "text": "1 2 3 4 5 6 ",
          "name": "stdout"
        }
      ]
    },
    {
      "metadata": {},
      "cell_type": "markdown",
      "source": "### 二、原地递归修改\n\n- 递归的修改子树\n- 传入当前节点，返回修改后的尾节点\n- 如果节点是None则返回None，为叶子节点则返回自身\n- 如果左子树存在：将左子树递归修改，拿到返回的left_last，将节点左子树置空，右子树置为左子树（已修改），last置为left_last\n- 如果右子树存在：将右子树递归修改，拿到right_last，如果left_last存在，则将left_last的右子树指向右子树（已修改），，last置为right_last"
    },
    {
      "metadata": {
        "trusted": true
      },
      "cell_type": "code",
      "source": "def flatten(root: TreeNode) -> None:\n    \"\"\"\n    Do not return anything, modify root in-place instead.\n    \"\"\"\n    def helper(node):\n        if not node:\n            return None\n        if not node.left and not node.right:\n            return node\n        left, right, left_last, right_last, last = node.left, node.right, None, None, None\n        if left:\n            left_last = helper(left)\n            node.left = None\n            node.right = left\n            last = left_last\n        if right:\n            right_last = helper(right)\n            if left_last:\n                left_last.right = right\n            last = right_last\n        return last\n    helper(root)",
      "execution_count": 6,
      "outputs": []
    },
    {
      "metadata": {
        "trusted": true
      },
      "cell_type": "code",
      "source": "root = init()\nflatten(root)\nprintNode(root)",
      "execution_count": 7,
      "outputs": [
        {
          "output_type": "stream",
          "text": "1 2 3 4 5 6 ",
          "name": "stdout"
        }
      ]
    },
    {
      "metadata": {
        "trusted": true
      },
      "cell_type": "code",
      "source": "",
      "execution_count": null,
      "outputs": []
    }
  ],
  "metadata": {
    "kernelspec": {
      "name": "python36",
      "display_name": "Python 3.6",
      "language": "python"
    },
    "language_info": {
      "mimetype": "text/x-python",
      "nbconvert_exporter": "python",
      "name": "python",
      "pygments_lexer": "ipython3",
      "version": "3.6.6",
      "file_extension": ".py",
      "codemirror_mode": {
        "version": 3,
        "name": "ipython"
      }
    }
  },
  "nbformat": 4,
  "nbformat_minor": 2
}