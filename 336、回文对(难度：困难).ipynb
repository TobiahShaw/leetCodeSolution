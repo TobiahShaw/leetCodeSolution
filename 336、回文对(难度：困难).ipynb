{
 "cells": [
  {
   "cell_type": "markdown",
   "metadata": {},
   "source": [
    "# 回文对\n",
    "\n",
    "**题目来源：力扣（LeetCode）**\n",
    "\n",
    "**链接：https://leetcode-cn.com/problems/palindrome-pairs/**\n",
    "\n",
    "## 一、题目\n",
    "\n",
    "给定一组唯一的单词， 找出所有不同 的索引对(i, j)，使得列表中的两个单词， words[i] + words[j] ，可拼接成回文串。\n",
    "\n",
    "## 二、示例\n",
    "\n",
    "### 示例 1:\n",
    "\n",
    "输入: [\"abcd\",\"dcba\",\"lls\",\"s\",\"sssll\"]\n",
    "\n",
    "输出: [[0,1],[1,0],[3,2],[2,4]] \n",
    "\n",
    "解释: 可拼接成的回文串为 [\"dcbaabcd\",\"abcddcba\",\"slls\",\"llssssll\"]\n",
    "\n",
    "### 示例 2:\n",
    "\n",
    "输入: [\"bat\",\"tab\",\"cat\"]\n",
    "\n",
    "输出: [[0,1],[1,0]] \n",
    "\n",
    "解释: 可拼接成的回文串为 [\"battab\",\"tabbat\"]\n",
    "\n",
    "## 三、解题思路\n",
    "\n",
    "### 一、暴力法"
   ]
  },
  {
   "cell_type": "code",
   "execution_count": 1,
   "metadata": {},
   "outputs": [],
   "source": [
    "def palindromePairs(words):\n",
    "    n = len(words)\n",
    "    ret = []\n",
    "    for i in range(n):\n",
    "        for j in range(n):\n",
    "            if i != j and words[i] + words[j] == (words[i] + words[j])[::-1]:\n",
    "                ret.append([i, j])\n",
    "    return ret"
   ]
  },
  {
   "cell_type": "code",
   "execution_count": 2,
   "metadata": {},
   "outputs": [
    {
     "data": {
      "text/plain": [
       "[[0, 1], [1, 0], [2, 4], [3, 2]]"
      ]
     },
     "execution_count": 2,
     "metadata": {},
     "output_type": "execute_result"
    }
   ],
   "source": [
    "palindromePairs([\"abcd\",\"dcba\",\"lls\",\"s\",\"sssll\"])"
   ]
  },
  {
   "cell_type": "code",
   "execution_count": 3,
   "metadata": {},
   "outputs": [
    {
     "data": {
      "text/plain": [
       "[[0, 1], [1, 0]]"
      ]
     },
     "execution_count": 3,
     "metadata": {},
     "output_type": "execute_result"
    }
   ],
   "source": [
    "palindromePairs([\"bat\",\"tab\",\"cat\"])"
   ]
  },
  {
   "cell_type": "markdown",
   "metadata": {},
   "source": [
    "### 二、暴力法改进"
   ]
  },
  {
   "cell_type": "code",
   "execution_count": 4,
   "metadata": {},
   "outputs": [],
   "source": [
    "def palindromePairs(words):\n",
    "    n = len(words)\n",
    "    ret = []\n",
    "    cannot_pair = {}\n",
    "    for i in range(n):\n",
    "        for j in range(n):\n",
    "            if i in cannot_pair and j in cannot_pair[i]:\n",
    "                continue\n",
    "            if i != j and words[i] + words[j] == (words[i] + words[j])[::-1]:\n",
    "                ret.append([i, j])\n",
    "            maxWord = words[i] if len(words[i]) >= len(words[j]) else words[j]\n",
    "            if not words[i] or not words[j]:\n",
    "                continue\n",
    "            if not (set(words[i]) & set(words[j])) or not (set(words[i]) & set(words[j])).issubset(set(maxWord)):\n",
    "                if i not in cannot_pair:\n",
    "                    cannot_pair[i] = set()\n",
    "                cannot_pair[i].add(j)\n",
    "                if j not in cannot_pair:\n",
    "                    cannot_pair[j] = set()\n",
    "                cannot_pair[j].add(i)\n",
    "                    \n",
    "    return ret"
   ]
  },
  {
   "cell_type": "code",
   "execution_count": 5,
   "metadata": {},
   "outputs": [
    {
     "data": {
      "text/plain": [
       "[[0, 1], [1, 0], [2, 4], [3, 2]]"
      ]
     },
     "execution_count": 5,
     "metadata": {},
     "output_type": "execute_result"
    }
   ],
   "source": [
    "palindromePairs([\"abcd\",\"dcba\",\"lls\",\"s\",\"sssll\"])"
   ]
  },
  {
   "cell_type": "code",
   "execution_count": 6,
   "metadata": {},
   "outputs": [
    {
     "data": {
      "text/plain": [
       "[[0, 1], [1, 0]]"
      ]
     },
     "execution_count": 6,
     "metadata": {},
     "output_type": "execute_result"
    }
   ],
   "source": [
    "palindromePairs([\"bat\",\"tab\",\"cat\"])"
   ]
  },
  {
   "cell_type": "code",
   "execution_count": null,
   "metadata": {},
   "outputs": [],
   "source": []
  }
 ],
 "metadata": {
  "kernelspec": {
   "display_name": "Python 3",
   "language": "python",
   "name": "python3"
  },
  "language_info": {
   "codemirror_mode": {
    "name": "ipython",
    "version": 3
   },
   "file_extension": ".py",
   "mimetype": "text/x-python",
   "name": "python",
   "nbconvert_exporter": "python",
   "pygments_lexer": "ipython3",
   "version": "3.6.5"
  }
 },
 "nbformat": 4,
 "nbformat_minor": 2
}
