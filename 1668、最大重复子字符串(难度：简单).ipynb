{
 "cells": [
  {
   "cell_type": "markdown",
   "metadata": {},
   "source": [
    "# 最大重复子字符串\n",
    "\n",
    "**题目来源：力扣（LeetCode）**\n",
    "\n",
    "**链接：https://leetcode.cn/problems/maximum-repeating-substring/**\n",
    "\n",
    "## 一、题目\n",
    "\n",
    "给你一个字符串 sequence ，如果字符串 word 连续重复 k 次形成的字符串是 sequence 的一个子字符串，那么单词 word 的 重复值为 k 。单词 word 的 最大重复值 是单词 word 在 sequence 中最大的重复值。如果 word 不是 sequence 的子串，那么重复值 k 为 0 。\n",
    "\n",
    "给你一个字符串 sequence 和 word ，请你返回 最大重复值 k 。\n",
    "\n",
    "### 提示：\n",
    "\n",
    "- 1 <= sequence.length <= 100\n",
    "- 1 <= word.length <= 100\n",
    "- sequence 和 word 都只包含小写英文字母。\n",
    "\n",
    "## 二、示例\n",
    "\n",
    "### 示例 1：\n",
    "\n",
    "输入：sequence = \"ababc\", word = \"ab\"\n",
    "\n",
    "输出：2\n",
    "\n",
    "解释：\"abab\" 是 \"ababc\" 的子字符串。\n",
    "\n",
    "### 示例 2：\n",
    "\n",
    "输入：sequence = \"ababc\", word = \"ba\"\n",
    "\n",
    "输出：1\n",
    "\n",
    "解释：\"ba\" 是 \"ababc\" 的子字符串，但 \"baba\" 不是 \"ababc\" 的子字符串。\n",
    "\n",
    "### 示例 3：\n",
    "\n",
    "输入：sequence = \"ababc\", word = \"ac\"\n",
    "\n",
    "输出：0\n",
    "\n",
    "解释：\"ac\" 不是 \"ababc\" 的子字符串。\n",
    "\n",
    "## 三、解题思路\n",
    "\n",
    "### 暴力"
   ]
  },
  {
   "cell_type": "code",
   "execution_count": 1,
   "metadata": {},
   "outputs": [],
   "source": [
    "class Solution:\n",
    "    def maxRepeating(self, sequence: str, word: str) -> int:\n",
    "        for k in range(len(sequence) // len(word), -1, -1):\n",
    "            if word * k in sequence:\n",
    "                return k"
   ]
  },
  {
   "cell_type": "code",
   "execution_count": 2,
   "metadata": {},
   "outputs": [],
   "source": [
    "s = Solution()"
   ]
  },
  {
   "cell_type": "code",
   "execution_count": 3,
   "metadata": {},
   "outputs": [
    {
     "data": {
      "text/plain": [
       "2"
      ]
     },
     "execution_count": 3,
     "metadata": {},
     "output_type": "execute_result"
    }
   ],
   "source": [
    "s.maxRepeating(\"ababc\", \"ab\")"
   ]
  },
  {
   "cell_type": "code",
   "execution_count": 4,
   "metadata": {},
   "outputs": [
    {
     "data": {
      "text/plain": [
       "1"
      ]
     },
     "execution_count": 4,
     "metadata": {},
     "output_type": "execute_result"
    }
   ],
   "source": [
    "s.maxRepeating(\"ababc\", \"ba\")"
   ]
  },
  {
   "cell_type": "code",
   "execution_count": 5,
   "metadata": {},
   "outputs": [
    {
     "data": {
      "text/plain": [
       "0"
      ]
     },
     "execution_count": 5,
     "metadata": {},
     "output_type": "execute_result"
    }
   ],
   "source": [
    "s.maxRepeating(\"ababc\", \"ac\")"
   ]
  },
  {
   "cell_type": "code",
   "execution_count": null,
   "metadata": {},
   "outputs": [],
   "source": []
  }
 ],
 "metadata": {
  "kernelspec": {
   "display_name": "Python 3.10.4 64-bit",
   "language": "python",
   "name": "python3"
  },
  "language_info": {
   "codemirror_mode": {
    "name": "ipython",
    "version": 3
   },
   "file_extension": ".py",
   "mimetype": "text/x-python",
   "name": "python",
   "nbconvert_exporter": "python",
   "pygments_lexer": "ipython3",
   "version": "3.10.4"
  },
  "orig_nbformat": 4,
  "vscode": {
   "interpreter": {
    "hash": "4f946df053fbf2b937619d3c5458e7af74262f9a954d8797ba0b27400bcafe06"
   }
  }
 },
 "nbformat": 4,
 "nbformat_minor": 2
}
