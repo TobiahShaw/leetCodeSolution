{
 "cells": [
  {
   "cell_type": "markdown",
   "metadata": {},
   "source": [
    "# 差的绝对值为K的数对数目\n",
    "\n",
    "**题目来源：力扣（LeetCode）**\n",
    "\n",
    "**链接：https://leetcode-cn.com/problems/count-number-of-pairs-with-absolute-difference-k/**\n",
    "\n",
    "## 一、题目\n",
    "\n",
    "给你一个整数数组 nums 和一个整数 k ，请你返回数对 (i, j) 的数目，满足 i < j 且 |nums[i] - nums[j]| == k 。\n",
    "\n",
    "|x| 的值定义为：\n",
    "\n",
    "- 如果 x >= 0 ，那么值为 x 。\n",
    "- 如果 x < 0 ，那么值为 -x 。\n",
    "\n",
    "### 提示：\n",
    "\n",
    "- 1 <= nums.length <= 200\n",
    "- 1 <= nums[i] <= 100\n",
    "- 1 <= k <= 99\n",
    "\n",
    "## 二、示例\n",
    "\n",
    "### 示例 1：\n",
    "\n",
    "输入：nums = [1,2,2,1], k = 1\n",
    "\n",
    "输出：4\n",
    "\n",
    "解释：差的绝对值为 1 的数对为：\n",
    "\n",
    "- [1,2,2,1]\n",
    "- [1,2,2,1]\n",
    "- [1,2,2,1]\n",
    "- [1,2,2,1]\n",
    "\n",
    "### 示例 2：\n",
    "\n",
    "输入：nums = [1,3], k = 3\n",
    "\n",
    "输出：0\n",
    "\n",
    "解释：没有任何数对差的绝对值为 3 。\n",
    "\n",
    "### 示例 3：\n",
    "\n",
    "输入：nums = [3,2,1,5,4], k = 2\n",
    "\n",
    "输出：3\n",
    "\n",
    "解释：差的绝对值为 2 的数对为：\n",
    "\n",
    "- [3,2,1,5,4]\n",
    "- [3,2,1,5,4]\n",
    "- [3,2,1,5,4]\n",
    "\n",
    "## 三、解题思路\n",
    "\n",
    "### 一、暴力"
   ]
  },
  {
   "cell_type": "code",
   "execution_count": 1,
   "metadata": {},
   "outputs": [],
   "source": [
    "def countKDifference(nums, k: int) -> int:\n",
    "    n = len(nums)\n",
    "    ret = 0\n",
    "    for i in range(n):\n",
    "        for j in range(i+1, n):\n",
    "            if abs(nums[i] - nums[j]) == k:\n",
    "                ret += 1\n",
    "    return ret"
   ]
  },
  {
   "cell_type": "code",
   "execution_count": 2,
   "metadata": {},
   "outputs": [
    {
     "data": {
      "text/plain": [
       "4"
      ]
     },
     "execution_count": 2,
     "metadata": {},
     "output_type": "execute_result"
    }
   ],
   "source": [
    "countKDifference(nums = [1,2,2,1], k = 1)"
   ]
  },
  {
   "cell_type": "code",
   "execution_count": 3,
   "metadata": {},
   "outputs": [
    {
     "data": {
      "text/plain": [
       "0"
      ]
     },
     "execution_count": 3,
     "metadata": {},
     "output_type": "execute_result"
    }
   ],
   "source": [
    "countKDifference(nums = [1,3], k = 3)"
   ]
  },
  {
   "cell_type": "code",
   "execution_count": 4,
   "metadata": {},
   "outputs": [
    {
     "data": {
      "text/plain": [
       "3"
      ]
     },
     "execution_count": 4,
     "metadata": {},
     "output_type": "execute_result"
    }
   ],
   "source": [
    "countKDifference(nums = [3,2,1,5,4], k = 2)"
   ]
  },
  {
   "cell_type": "markdown",
   "metadata": {},
   "source": [
    "### 二、利用字典一次循环"
   ]
  },
  {
   "cell_type": "code",
   "execution_count": 5,
   "metadata": {},
   "outputs": [],
   "source": [
    "def countKDifference(nums, k: int) -> int:\n",
    "    dic = {}\n",
    "    ret = 0\n",
    "    for num in nums:\n",
    "        ret += dic.get(num-k, 0) + dic.get(num+k, 0)\n",
    "        dic[num] = dic.get(num, 0) + 1\n",
    "    return ret"
   ]
  },
  {
   "cell_type": "code",
   "execution_count": 6,
   "metadata": {},
   "outputs": [
    {
     "data": {
      "text/plain": [
       "4"
      ]
     },
     "execution_count": 6,
     "metadata": {},
     "output_type": "execute_result"
    }
   ],
   "source": [
    "countKDifference(nums = [1,2,2,1], k = 1)"
   ]
  },
  {
   "cell_type": "code",
   "execution_count": 7,
   "metadata": {},
   "outputs": [
    {
     "data": {
      "text/plain": [
       "0"
      ]
     },
     "execution_count": 7,
     "metadata": {},
     "output_type": "execute_result"
    }
   ],
   "source": [
    "countKDifference(nums = [1,3], k = 3)"
   ]
  },
  {
   "cell_type": "code",
   "execution_count": 8,
   "metadata": {},
   "outputs": [
    {
     "data": {
      "text/plain": [
       "3"
      ]
     },
     "execution_count": 8,
     "metadata": {},
     "output_type": "execute_result"
    }
   ],
   "source": [
    "countKDifference(nums = [3,2,1,5,4], k = 2)"
   ]
  },
  {
   "cell_type": "code",
   "execution_count": null,
   "metadata": {},
   "outputs": [],
   "source": []
  }
 ],
 "metadata": {
  "kernelspec": {
   "display_name": "Python 3",
   "language": "python",
   "name": "python3"
  },
  "language_info": {
   "codemirror_mode": {
    "name": "ipython",
    "version": 3
   },
   "file_extension": ".py",
   "mimetype": "text/x-python",
   "name": "python",
   "nbconvert_exporter": "python",
   "pygments_lexer": "ipython3",
   "version": "3.6.5"
  }
 },
 "nbformat": 4,
 "nbformat_minor": 2
}
