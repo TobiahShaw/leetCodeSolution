{
 "cells": [
  {
   "cell_type": "markdown",
   "id": "787e87d2-935f-45a6-85f4-079dfaac1df9",
   "metadata": {},
   "source": [
    "# 找到数组的中间位置\n",
    "\n",
    "**题目来源：力扣（LeetCode）**\n",
    "\n",
    "**链接：https://leetcode-cn.com/problems/find-the-middle-index-in-array/**\n",
    "\n",
    "## 一、题目\n",
    "\n",
    "给你一个下标从 0 开始的整数数组 nums ，请你找到 最左边 的中间位置 middleIndex （也就是所有可能中间位置下标最小的一个）。\n",
    "\n",
    "中间位置 middleIndex 是满足 nums[0] + nums[1] + ... + nums[middleIndex-1] == nums[middleIndex+1] + nums[middleIndex+2] + ... + nums[nums.length-1] 的数组下标。\n",
    "\n",
    "如果 middleIndex == 0 ，左边部分的和定义为 0 。类似的，如果 middleIndex == nums.length - 1 ，右边部分的和定义为 0 。\n",
    "\n",
    "请你返回满足上述条件 最左边 的 middleIndex ，如果不存在这样的中间位置，请你返回 -1 。\n",
    "\n",
    "## 二、示例\n",
    "\n",
    "### 示例 1：\n",
    "\n",
    "输入：nums = [2,3,-1,8,4]\n",
    "\n",
    "输出：3\n",
    "\n",
    "解释：\n",
    "\n",
    "下标 3 之前的数字和为：2 + 3 + -1 = 4\n",
    "\n",
    "下标 3 之后的数字和为：4 = 4\n",
    "\n",
    "### 示例 2：\n",
    "\n",
    "输入：nums = [1,-1,4]\n",
    "\n",
    "输出：2\n",
    "\n",
    "解释：\n",
    "\n",
    "下标 2 之前的数字和为：1 + -1 = 0\n",
    "\n",
    "下标 2 之后的数字和为：0\n",
    "\n",
    "### 示例 3：\n",
    "\n",
    "输入：nums = [2,5]\n",
    "\n",
    "输出：-1\n",
    "\n",
    "解释：\n",
    "\n",
    "不存在符合要求的 middleIndex 。\n",
    "\n",
    "### 示例 4：\n",
    "\n",
    "输入：nums = [1]\n",
    "\n",
    "输出：0\n",
    "\n",
    "解释：\n",
    "\n",
    "下标 0 之前的数字和为：0\n",
    "\n",
    "下标 0 之后的数字和为：0\n",
    "\n",
    "## 三、解题思路\n",
    "\n",
    "### 模拟过程"
   ]
  },
  {
   "cell_type": "code",
   "execution_count": 1,
   "id": "6c73c6c0-9384-478d-97e2-688dc053ebd9",
   "metadata": {},
   "outputs": [],
   "source": [
    "def findMiddleIndex(nums) -> int:\n",
    "    sumOfNums = sum(nums)\n",
    "    left, right = 0, sumOfNums - nums[0]\n",
    "    if left == right:\n",
    "        return 0\n",
    "    for i in range(1, len(nums)):\n",
    "        left += nums[i-1]\n",
    "        right -= nums[i]\n",
    "        if left == right:\n",
    "            return i\n",
    "    return -1"
   ]
  },
  {
   "cell_type": "code",
   "execution_count": 2,
   "id": "58d6a36a-54de-434d-a7f2-2d5adbcaa065",
   "metadata": {},
   "outputs": [
    {
     "data": {
      "text/plain": [
       "3"
      ]
     },
     "execution_count": 2,
     "metadata": {},
     "output_type": "execute_result"
    }
   ],
   "source": [
    "findMiddleIndex([2,3,-1,8,4])"
   ]
  },
  {
   "cell_type": "code",
   "execution_count": 3,
   "id": "219cf177-005e-4190-843c-c71de333cfb3",
   "metadata": {},
   "outputs": [
    {
     "data": {
      "text/plain": [
       "2"
      ]
     },
     "execution_count": 3,
     "metadata": {},
     "output_type": "execute_result"
    }
   ],
   "source": [
    "findMiddleIndex([1,-1,4])"
   ]
  },
  {
   "cell_type": "code",
   "execution_count": 4,
   "id": "ffabec12-baf3-4780-adf2-14a0661e76b3",
   "metadata": {},
   "outputs": [
    {
     "data": {
      "text/plain": [
       "-1"
      ]
     },
     "execution_count": 4,
     "metadata": {},
     "output_type": "execute_result"
    }
   ],
   "source": [
    "findMiddleIndex([2,5])"
   ]
  },
  {
   "cell_type": "code",
   "execution_count": 5,
   "id": "1eb06eb1-bc49-402e-8cf9-a0f084ade7b5",
   "metadata": {},
   "outputs": [
    {
     "data": {
      "text/plain": [
       "0"
      ]
     },
     "execution_count": 5,
     "metadata": {},
     "output_type": "execute_result"
    }
   ],
   "source": [
    "findMiddleIndex([1])"
   ]
  },
  {
   "cell_type": "code",
   "execution_count": null,
   "id": "0840b937-4e1d-47d2-b51f-8152d61d3110",
   "metadata": {},
   "outputs": [],
   "source": []
  }
 ],
 "metadata": {
  "kernelspec": {
   "display_name": "Python 3 (ipykernel)",
   "language": "python",
   "name": "python3"
  },
  "language_info": {
   "codemirror_mode": {
    "name": "ipython",
    "version": 3
   },
   "file_extension": ".py",
   "mimetype": "text/x-python",
   "name": "python",
   "nbconvert_exporter": "python",
   "pygments_lexer": "ipython3",
   "version": "3.7.10"
  }
 },
 "nbformat": 4,
 "nbformat_minor": 5
}
