{
 "cells": [
  {
   "cell_type": "markdown",
   "metadata": {},
   "source": [
    "# 砖墙\n",
    "\n",
    "**题目来源：力扣（LeetCode）**\n",
    "\n",
    "**链接：https://leetcode-cn.com/problems/brick-wall/**\n",
    "\n",
    "## 一、题目\n",
    "\n",
    "你的面前有一堵矩形的、由 n 行砖块组成的砖墙。这些砖块高度相同（也就是一个单位高）但是宽度不同。每一行砖块的宽度之和应该相等。\n",
    "\n",
    "你现在要画一条 自顶向下 的、穿过 最少 砖块的垂线。如果你画的线只是从砖块的边缘经过，就不算穿过这块砖。你不能沿着墙的两个垂直边缘之一画线，这样显然是没有穿过一块砖的。\n",
    "\n",
    "给你一个二维数组 wall ，该数组包含这堵墙的相关信息。其中，wall[i] 是一个代表从左至右每块砖的宽度的数组。你需要找出怎样画才能使这条线 穿过的砖块数量最少 ，并且返回 穿过的砖块数量 。\n",
    "\n",
    "### 提示：\n",
    "\n",
    "- n == wall.length\n",
    "- 1 <= n <= 104\n",
    "- 1 <= wall[i].length <= 104\n",
    "- 1 <= sum(wall[i].length) <= 2 * 104\n",
    "- 对于每一行 i ，sum(wall[i]) 应当是相同的\n",
    "- 1 <= wall[i][j] <= 231 - 1\n",
    "\n",
    "## 二、示例\n",
    "\n",
    "### 示例 1：\n",
    "\n",
    "输入：wall = [[1,2,2,1],[3,1,2],[1,3,2],[2,4],[3,1,2],[1,3,1,1]]\n",
    "\n",
    "输出：2\n",
    "\n",
    "### 示例 2：\n",
    "\n",
    "输入：wall = [[1],[1],[1]]\n",
    "\n",
    "输出：3\n",
    "\n",
    "## 三、解题思路\n",
    "\n",
    "### 前缀和\n",
    "\n",
    "- 怎么找到每行的砖块都恰好对齐的那些缝隙呢?\n",
    "- 可以用额外的存储空间来辅助一下~, 比如 Hashmap\n",
    "\n",
    "\n",
    "- 怎么把计算对齐的缝隙转化成可操作的代码呢?\n",
    "- 计算每一行砖块宽度的前缀和! 在计算某一行砖块的时候, 将砖块的宽度和进行累计, 每一个累计砖块的宽度和都作为 hashmap 的 key, value就是这个key出现的次数.\n",
    "\n",
    "\n",
    "- 怎么求穿过的最少砖块数?\n",
    "- 一个垂直的线最多穿过的砖块数就是这堵墙的行数, 减去出现次数/频数最高的砖块的宽度和, 就相当于找到了砖块对齐的缝隙最多的那一条垂直线了!"
   ]
  },
  {
   "cell_type": "code",
   "execution_count": 1,
   "metadata": {},
   "outputs": [],
   "source": [
    "def leastBricks(wall) -> int:\n",
    "    from collections import defaultdict\n",
    "    prefixSum = defaultdict(int)\n",
    "\n",
    "    n = len(wall)\n",
    "    for i in range(0, n):\n",
    "        currSum = 0\n",
    "        # 每一行砖的最后一列不要计算进来, 否则会把最右侧的垂直线考虑进去\n",
    "        for j in range(0, len(wall[i]) - 1):\n",
    "            # 计算每一行的砖的宽度和\n",
    "            currSum += wall[i][j]\n",
    "            # 如果有相同的前缀和, 这里会+1\n",
    "            prefixSum[currSum] += 1\n",
    "    # 总高度 减去 前缀和数量最多的\n",
    "    return n - max(prefixSum.values(), default=0)"
   ]
  },
  {
   "cell_type": "code",
   "execution_count": 2,
   "metadata": {},
   "outputs": [
    {
     "data": {
      "text/plain": [
       "2"
      ]
     },
     "execution_count": 2,
     "metadata": {},
     "output_type": "execute_result"
    }
   ],
   "source": [
    "leastBricks([[1,2,2,1],[3,1,2],[1,3,2],[2,4],[3,1,2],[1,3,1,1]])"
   ]
  },
  {
   "cell_type": "code",
   "execution_count": 3,
   "metadata": {},
   "outputs": [
    {
     "data": {
      "text/plain": [
       "3"
      ]
     },
     "execution_count": 3,
     "metadata": {},
     "output_type": "execute_result"
    }
   ],
   "source": [
    "leastBricks([[1],[1],[1]])"
   ]
  },
  {
   "cell_type": "code",
   "execution_count": null,
   "metadata": {},
   "outputs": [],
   "source": []
  }
 ],
 "metadata": {
  "kernelspec": {
   "display_name": "Python 3",
   "language": "python",
   "name": "python3"
  },
  "language_info": {
   "codemirror_mode": {
    "name": "ipython",
    "version": 3
   },
   "file_extension": ".py",
   "mimetype": "text/x-python",
   "name": "python",
   "nbconvert_exporter": "python",
   "pygments_lexer": "ipython3",
   "version": "3.6.5"
  }
 },
 "nbformat": 4,
 "nbformat_minor": 2
}
