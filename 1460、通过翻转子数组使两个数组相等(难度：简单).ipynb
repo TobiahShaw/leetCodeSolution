{
 "cells": [
  {
   "cell_type": "markdown",
   "metadata": {},
   "source": [
    "# 通过翻转子数组使两个数组相等\n",
    "\n",
    "**题目来源：力扣（LeetCode）**\n",
    "\n",
    "**链接：https://leetcode.cn/problems/make-two-arrays-equal-by-reversing-sub-arrays/**\n",
    "\n",
    "## 一、题目\n",
    "\n",
    "给你两个长度相同的整数数组 target 和 arr 。每一步中，你可以选择 arr 的任意 非空子数组 并将它翻转。你可以执行此过程任意次。\n",
    "\n",
    "如果你能让 arr 变得与 target 相同，返回 True；否则，返回 False 。\n",
    "\n",
    "### 提示：\n",
    "\n",
    "- target.length == arr.length\n",
    "- 1 <= target.length <= 1000\n",
    "- 1 <= target[i] <= 1000\n",
    "- 1 <= arr[i] <= 1000\n",
    "\n",
    "## 二、示例\n",
    "\n",
    "### 示例 1：\n",
    "\n",
    "输入：target = [1,2,3,4], arr = [2,4,1,3]\n",
    "\n",
    "输出：true\n",
    "\n",
    "解释：你可以按照如下步骤使 arr 变成 target：\n",
    "\n",
    "1. 翻转子数组 [2,4,1] ，arr 变成 [1,4,2,3]\n",
    "2. 翻转子数组 [4,2] ，arr 变成 [1,2,4,3]\n",
    "3. 翻转子数组 [4,3] ，arr 变成 [1,2,3,4]\n",
    "\n",
    "上述方法并不是唯一的，还存在多种将 arr 变成 target 的方法。\n",
    "\n",
    "### 示例 2：\n",
    "\n",
    "输入：target = [7], arr = [7]\n",
    "\n",
    "输出：true\n",
    "\n",
    "解释：arr 不需要做任何翻转已经与 target 相等。\n",
    "\n",
    "### 示例 3：\n",
    "\n",
    "输入：target = [3,7,9], arr = [3,7,11]\n",
    "\n",
    "输出：false\n",
    "\n",
    "解释：arr 没有数字 9 ，所以无论如何也无法变成 target 。\n",
    "\n",
    "## 三、解题思路\n",
    "\n",
    "### 一、排序"
   ]
  },
  {
   "cell_type": "code",
   "execution_count": 1,
   "metadata": {},
   "outputs": [],
   "source": [
    "class Solution:\n",
    "    def canBeEqual(self, target, arr) -> bool:\n",
    "        return sorted(target) == sorted(arr)"
   ]
  },
  {
   "cell_type": "code",
   "execution_count": 2,
   "metadata": {},
   "outputs": [
    {
     "data": {
      "text/plain": [
       "True"
      ]
     },
     "execution_count": 2,
     "metadata": {},
     "output_type": "execute_result"
    }
   ],
   "source": [
    "s = Solution()\n",
    "s.canBeEqual(target = [1,2,3,4], arr = [2,4,1,3])"
   ]
  },
  {
   "cell_type": "code",
   "execution_count": 3,
   "metadata": {},
   "outputs": [
    {
     "data": {
      "text/plain": [
       "True"
      ]
     },
     "execution_count": 3,
     "metadata": {},
     "output_type": "execute_result"
    }
   ],
   "source": [
    "s.canBeEqual([7], [7])"
   ]
  },
  {
   "cell_type": "code",
   "execution_count": 4,
   "metadata": {},
   "outputs": [
    {
     "data": {
      "text/plain": [
       "False"
      ]
     },
     "execution_count": 4,
     "metadata": {},
     "output_type": "execute_result"
    }
   ],
   "source": [
    "s.canBeEqual([3,7,9], [3,7,11])"
   ]
  },
  {
   "cell_type": "markdown",
   "metadata": {},
   "source": [
    "### 二、利用字典"
   ]
  },
  {
   "cell_type": "code",
   "execution_count": 5,
   "metadata": {},
   "outputs": [],
   "source": [
    "class Solution:\n",
    "    def canBeEqual(self, target, arr) -> bool:\n",
    "        n = len(target)\n",
    "        m = len(arr)\n",
    "        if n != m:\n",
    "            return False\n",
    "        dic = {}\n",
    "        for num in target:\n",
    "            dic[num] = dic.get(num, 0) + 1\n",
    "        for num in arr:\n",
    "            dic[num] = dic.get(num, 0) - 1\n",
    "            if dic[num] < 0:\n",
    "                return False\n",
    "        for key in dic:\n",
    "            if dic[key] != 0:\n",
    "                return False\n",
    "        return True"
   ]
  },
  {
   "cell_type": "code",
   "execution_count": 6,
   "metadata": {},
   "outputs": [
    {
     "data": {
      "text/plain": [
       "True"
      ]
     },
     "execution_count": 6,
     "metadata": {},
     "output_type": "execute_result"
    }
   ],
   "source": [
    "s = Solution()\n",
    "s.canBeEqual(target = [1,2,3,4], arr = [2,4,1,3])"
   ]
  },
  {
   "cell_type": "code",
   "execution_count": 7,
   "metadata": {},
   "outputs": [
    {
     "data": {
      "text/plain": [
       "True"
      ]
     },
     "execution_count": 7,
     "metadata": {},
     "output_type": "execute_result"
    }
   ],
   "source": [
    "s.canBeEqual([7], [7])"
   ]
  },
  {
   "cell_type": "code",
   "execution_count": 8,
   "metadata": {},
   "outputs": [
    {
     "data": {
      "text/plain": [
       "False"
      ]
     },
     "execution_count": 8,
     "metadata": {},
     "output_type": "execute_result"
    }
   ],
   "source": [
    "s.canBeEqual([3,7,9], [3,7,11])"
   ]
  },
  {
   "cell_type": "code",
   "execution_count": null,
   "metadata": {},
   "outputs": [],
   "source": []
  }
 ],
 "metadata": {
  "kernelspec": {
   "display_name": "Python 3.10.4 64-bit",
   "language": "python",
   "name": "python3"
  },
  "language_info": {
   "codemirror_mode": {
    "name": "ipython",
    "version": 3
   },
   "file_extension": ".py",
   "mimetype": "text/x-python",
   "name": "python",
   "nbconvert_exporter": "python",
   "pygments_lexer": "ipython3",
   "version": "3.10.4"
  },
  "orig_nbformat": 4,
  "vscode": {
   "interpreter": {
    "hash": "4f946df053fbf2b937619d3c5458e7af74262f9a954d8797ba0b27400bcafe06"
   }
  }
 },
 "nbformat": 4,
 "nbformat_minor": 2
}
