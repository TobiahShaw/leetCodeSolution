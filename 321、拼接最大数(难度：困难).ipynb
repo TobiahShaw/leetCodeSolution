{
 "cells": [
  {
   "cell_type": "markdown",
   "metadata": {},
   "source": [
    "# 拼接最大数\n",
    "\n",
    "**题目来源：力扣（LeetCode）**\n",
    "\n",
    "**链接：https://leetcode-cn.com/problems/create-maximum-number/**\n",
    "\n",
    "## 一、题目\n",
    "\n",
    "给定长度分别为 m 和 n 的两个数组，其元素由 0-9 构成，表示两个自然数各位上的数字。现在从这两个数组中选出 k (k <= m + n) 个数字拼接成一个新的数，要求从同一个数组中取出的数字保持其在原数组中的相对顺序。\n",
    "\n",
    "求满足该条件的最大数。结果返回一个表示该最大数的长度为 k 的数组。\n",
    "\n",
    "说明: 请尽可能地优化你算法的时间和空间复杂度。\n",
    "\n",
    "## 二、示例\n",
    "\n",
    "### 示例 1：\n",
    "\n",
    "输入:\n",
    "\n",
    "nums1 = [3, 4, 6, 5], nums2 = [9, 1, 2, 5, 8, 3], k = 5\n",
    "\n",
    "输出:\n",
    "\n",
    "[9, 8, 6, 5, 3]\n",
    "\n",
    "### 示例 2:\n",
    "\n",
    "输入:\n",
    "\n",
    "nums1 = [6, 7], nums2 = [6, 0, 4], k = 5\n",
    "\n",
    "输出:\n",
    "\n",
    "[6, 7, 6, 0, 4]\n",
    "\n",
    "### 示例 3:\n",
    "\n",
    "输入:\n",
    "\n",
    "nums1 = [3, 9], nums2 = [8, 9], k = 3\n",
    "\n",
    "输出:\n",
    "\n",
    "[9, 8, 9]\n",
    "\n",
    "## 三、解题思路\n",
    "\n",
    "### 单调栈\n",
    "\n",
    "单调栈满足从栈底到栈顶的元素单调递减，从左到右遍历数组，遍历过程中维护单调栈内的元素，需要保证遍历结束之后单调栈内的元素个数等于指定的最大子序列的长度。遍历结束之后，将从栈底到栈顶的元素依次拼接，即得到最大子序列。"
   ]
  },
  {
   "cell_type": "code",
   "execution_count": 1,
   "metadata": {},
   "outputs": [],
   "source": [
    "def maxNumber(nums1, nums2, k: int):\n",
    "    def maxSubsequence(nums, k):\n",
    "        stack = [0] * k\n",
    "        top = -1\n",
    "        remain = len(nums) - k\n",
    "        for i, num in enumerate(nums):\n",
    "            while top >= 0 and stack[top] < num and remain > 0:\n",
    "                top -= 1\n",
    "                remain -= 1\n",
    "            if top < k - 1:\n",
    "                top += 1\n",
    "                stack[top] = num\n",
    "            else:\n",
    "                remain -= 1\n",
    "        return stack\n",
    "    def merge(nums1, nums2):\n",
    "        # 通过compare函数比较进行归并\n",
    "        x, y = len(nums1), len(nums2)\n",
    "        if x == 0:\n",
    "            return nums2\n",
    "        if y == 0:\n",
    "            return nums1\n",
    "        index1 = index2 = 0\n",
    "        mergeLen = x + y\n",
    "        merged = list()\n",
    "        for _ in range(mergeLen):\n",
    "            if (compare(nums1, index1, nums2, index2) > 0):\n",
    "                merged.append(nums1[index1])\n",
    "                index1 += 1\n",
    "            else:\n",
    "                merged.append(nums2[index2])\n",
    "                index2 += 1\n",
    "        return merged\n",
    "    def compare(nums1, index1, nums2, index2):\n",
    "        # 比较两个数组大小，从给定指针开始，如果指针对应值相等，则比较后一位\n",
    "        x, y = len(nums1), len(nums2)\n",
    "        while index1 < x and index2 < y:\n",
    "            diff = nums1[index1] - nums2[index2]\n",
    "            if diff != 0:\n",
    "                return diff\n",
    "            index1 += 1\n",
    "            index2 += 1\n",
    "        return (x - index1) - (y - index2)\n",
    "    m, n = len(nums1), len(nums2)\n",
    "    start, end = max(0, k-n), min(k, m)\n",
    "    maxSub = [0] * k\n",
    "    # 轮询两个数组分配比例，找到最合适的\n",
    "    for i in range(start, end+1):\n",
    "        sub1 = maxSubsequence(nums1, i)\n",
    "        sub2 = maxSubsequence(nums2, k-i)\n",
    "        curMax = merge(sub1, sub2)\n",
    "        if compare(curMax,0,maxSub,0) > 0:\n",
    "            maxSub = curMax\n",
    "    return maxSub"
   ]
  },
  {
   "cell_type": "code",
   "execution_count": 2,
   "metadata": {},
   "outputs": [
    {
     "data": {
      "text/plain": [
       "[9, 8, 6, 5, 3]"
      ]
     },
     "execution_count": 2,
     "metadata": {},
     "output_type": "execute_result"
    }
   ],
   "source": [
    "maxNumber(nums1 = [3, 4, 6, 5], nums2 = [9, 1, 2, 5, 8, 3], k = 5)"
   ]
  },
  {
   "cell_type": "code",
   "execution_count": 3,
   "metadata": {},
   "outputs": [
    {
     "data": {
      "text/plain": [
       "[6, 7, 6, 0, 4]"
      ]
     },
     "execution_count": 3,
     "metadata": {},
     "output_type": "execute_result"
    }
   ],
   "source": [
    "maxNumber(nums1 = [6, 7], nums2 = [6, 0, 4], k = 5)"
   ]
  },
  {
   "cell_type": "code",
   "execution_count": 4,
   "metadata": {},
   "outputs": [
    {
     "data": {
      "text/plain": [
       "[9, 8, 9]"
      ]
     },
     "execution_count": 4,
     "metadata": {},
     "output_type": "execute_result"
    }
   ],
   "source": [
    "maxNumber(nums1 = [3, 9], nums2 = [8, 9], k = 3)"
   ]
  },
  {
   "cell_type": "code",
   "execution_count": null,
   "metadata": {},
   "outputs": [],
   "source": []
  }
 ],
 "metadata": {
  "kernelspec": {
   "display_name": "Python 3",
   "language": "python",
   "name": "python3"
  },
  "language_info": {
   "codemirror_mode": {
    "name": "ipython",
    "version": 3
   },
   "file_extension": ".py",
   "mimetype": "text/x-python",
   "name": "python",
   "nbconvert_exporter": "python",
   "pygments_lexer": "ipython3",
   "version": "3.6.5"
  }
 },
 "nbformat": 4,
 "nbformat_minor": 2
}
