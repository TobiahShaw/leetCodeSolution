{
  "cells": [
    {
      "metadata": {
        "collapsed": true
      },
      "cell_type": "markdown",
      "source": "# 合并区间\n\n**题目来源：力扣（LeetCode）**\n\n**链接：https://leetcode-cn.com/problems/merge-intervals/**\n\n## 一、题目\n\n给出一个区间的集合，请合并所有重叠的区间。\n\n## 二、示例\n\n### 示例 1:\n\n输入: [[1,3],[2,6],[8,10],[15,18]]\n\n输出: [[1,6],[8,10],[15,18]]\n\n解释: 区间 [1,3] 和 [2,6] 重叠, 将它们合并为 [1,6].\n\n### 示例 2:\n\n输入: [[1,4],[4,5]]\n\n输出: [[1,5]]\n\n解释: 区间 [1,4] 和 [4,5] 可被视为重叠区间。\n\n## 三、解题思路\n\n### 排序后迭代\n\n- 先将区间数组按第一个元素排序\n- 从第一个开始轮询\n- 若当前区间包含后续区间（前区间第二个元素大于后一个的第二个元素），则当前区间不变\n- 若当前区间第二个元素大于后一个的第一个元素，则合并区间\n- 如果前区间第二个元素小于后一个的第一个元素，则将当前放入结果，将下一个作为当前"
    },
    {
      "metadata": {
        "trusted": true
      },
      "cell_type": "code",
      "source": "def merge(intervals):\n    if not intervals:\n        return []\n    intervals = sorted(intervals, key=lambda x: x[0])\n    cur = intervals[0]\n    result = []\n    for i in range(1, len(intervals)):\n        if cur[1] >= intervals[i][1]:\n            continue\n        if cur[1] >= intervals[i][0]:\n            cur = [cur[0], intervals[i][1]]\n        else:\n            result.append(cur)\n            cur = intervals[i]\n    result.append(cur)\n    return result",
      "execution_count": 1,
      "outputs": []
    },
    {
      "metadata": {
        "trusted": true
      },
      "cell_type": "code",
      "source": "merge([[1,3],[2,6],[8,10],[15,18]])",
      "execution_count": 2,
      "outputs": [
        {
          "output_type": "execute_result",
          "execution_count": 2,
          "data": {
            "text/plain": "[[1, 6], [8, 10], [15, 18]]"
          },
          "metadata": {}
        }
      ]
    },
    {
      "metadata": {
        "trusted": true
      },
      "cell_type": "code",
      "source": "merge([[1,4],[4,5]])",
      "execution_count": 3,
      "outputs": [
        {
          "output_type": "execute_result",
          "execution_count": 3,
          "data": {
            "text/plain": "[[1, 5]]"
          },
          "metadata": {}
        }
      ]
    },
    {
      "metadata": {
        "trusted": true
      },
      "cell_type": "code",
      "source": "merge([[1,4],[0,4]])",
      "execution_count": 4,
      "outputs": [
        {
          "output_type": "execute_result",
          "execution_count": 4,
          "data": {
            "text/plain": "[[0, 4]]"
          },
          "metadata": {}
        }
      ]
    },
    {
      "metadata": {
        "trusted": true
      },
      "cell_type": "code",
      "source": "",
      "execution_count": null,
      "outputs": []
    }
  ],
  "metadata": {
    "kernelspec": {
      "name": "python36",
      "display_name": "Python 3.6",
      "language": "python"
    },
    "language_info": {
      "mimetype": "text/x-python",
      "nbconvert_exporter": "python",
      "name": "python",
      "pygments_lexer": "ipython3",
      "version": "3.6.6",
      "file_extension": ".py",
      "codemirror_mode": {
        "version": 3,
        "name": "ipython"
      }
    }
  },
  "nbformat": 4,
  "nbformat_minor": 2
}