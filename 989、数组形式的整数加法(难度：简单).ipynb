{
 "cells": [
  {
   "cell_type": "markdown",
   "metadata": {},
   "source": [
    "# 数组形式的整数加法\n",
    "\n",
    "**题目来源：力扣（LeetCode）**\n",
    "\n",
    "**链接：https://leetcode-cn.com/problems/add-to-array-form-of-integer/**\n",
    "\n",
    "## 一、题目\n",
    "\n",
    "对于非负整数 X 而言，X 的数组形式是每位数字按从左到右的顺序形成的数组。例如，如果 X = 1231，那么其数组形式为 [1,2,3,1]。\n",
    "\n",
    "给定非负整数 X 的数组形式 A，返回整数 X+K 的数组形式。\n",
    "\n",
    "### 提示：\n",
    "\n",
    "- 1 <= A.length <= 10000\n",
    "- 0 <= A[i] <= 9\n",
    "- 0 <= K <= 10000\n",
    "- 如果 A.length > 1，那么 A[0] != 0\n",
    "\n",
    "## 二、示例\n",
    "\n",
    "### 示例 1：\n",
    "\n",
    "输入：A = [1,2,0,0], K = 34\n",
    "\n",
    "输出：[1,2,3,4]\n",
    "\n",
    "解释：1200 + 34 = 1234\n",
    "\n",
    "### 示例 2：\n",
    "\n",
    "输入：A = [2,7,4], K = 181\n",
    "\n",
    "输出：[4,5,5]\n",
    "\n",
    "解释：274 + 181 = 455\n",
    "\n",
    "### 示例 3：\n",
    "\n",
    "输入：A = [2,1,5], K = 806\n",
    "\n",
    "输出：[1,0,2,1]\n",
    "\n",
    "解释：215 + 806 = 1021\n",
    "\n",
    "### 示例 4：\n",
    "\n",
    "输入：A = [9,9,9,9,9,9,9,9,9,9], K = 1\n",
    "\n",
    "输出：[1,0,0,0,0,0,0,0,0,0,0]\n",
    "\n",
    "解释：9999999999 + 1 = 10000000000\n",
    "\n",
    "## 三、解题思路\n",
    "\n",
    "### 逐位相加"
   ]
  },
  {
   "cell_type": "code",
   "execution_count": 1,
   "metadata": {},
   "outputs": [],
   "source": [
    "def addToArrayForm(A, K: int):\n",
    "    res = []\n",
    "    for i in A[::-1]:\n",
    "        sumTmp = i + K % 10\n",
    "        K = K // 10\n",
    "        if sumTmp >= 10:\n",
    "            K += 1\n",
    "            sumTmp -= 10\n",
    "        res.append(sumTmp)\n",
    "    while K:\n",
    "        res.append(K % 10)\n",
    "        K = K // 10\n",
    "    res.reverse()\n",
    "    return res"
   ]
  },
  {
   "cell_type": "code",
   "execution_count": 2,
   "metadata": {},
   "outputs": [
    {
     "data": {
      "text/plain": [
       "[1, 2, 3, 4]"
      ]
     },
     "execution_count": 2,
     "metadata": {},
     "output_type": "execute_result"
    }
   ],
   "source": [
    "addToArrayForm(A = [1,2,0,0], K = 34)"
   ]
  },
  {
   "cell_type": "code",
   "execution_count": 3,
   "metadata": {},
   "outputs": [
    {
     "data": {
      "text/plain": [
       "[4, 5, 5]"
      ]
     },
     "execution_count": 3,
     "metadata": {},
     "output_type": "execute_result"
    }
   ],
   "source": [
    "addToArrayForm(A = [2,7,4], K = 181)"
   ]
  },
  {
   "cell_type": "code",
   "execution_count": 4,
   "metadata": {},
   "outputs": [
    {
     "data": {
      "text/plain": [
       "[1, 0, 2, 1]"
      ]
     },
     "execution_count": 4,
     "metadata": {},
     "output_type": "execute_result"
    }
   ],
   "source": [
    "addToArrayForm(A = [2,1,5], K = 806)"
   ]
  },
  {
   "cell_type": "code",
   "execution_count": 5,
   "metadata": {},
   "outputs": [
    {
     "data": {
      "text/plain": [
       "[1, 0, 0, 0, 0, 0, 0, 0, 0, 0, 0]"
      ]
     },
     "execution_count": 5,
     "metadata": {},
     "output_type": "execute_result"
    }
   ],
   "source": [
    "addToArrayForm(A = [9,9,9,9,9,9,9,9,9,9], K = 1)"
   ]
  },
  {
   "cell_type": "code",
   "execution_count": null,
   "metadata": {},
   "outputs": [],
   "source": []
  }
 ],
 "metadata": {
  "kernelspec": {
   "display_name": "Python 3",
   "language": "python",
   "name": "python3"
  },
  "language_info": {
   "codemirror_mode": {
    "name": "ipython",
    "version": 3
   },
   "file_extension": ".py",
   "mimetype": "text/x-python",
   "name": "python",
   "nbconvert_exporter": "python",
   "pygments_lexer": "ipython3",
   "version": "3.6.5"
  }
 },
 "nbformat": 4,
 "nbformat_minor": 2
}
