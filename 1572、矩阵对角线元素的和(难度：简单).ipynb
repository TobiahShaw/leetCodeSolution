{
 "cells": [
  {
   "cell_type": "markdown",
   "metadata": {},
   "source": [
    "# 矩阵对角线元素的和\n",
    "\n",
    "**题目来源：力扣（LeetCode）**\n",
    "\n",
    "**链接：https://leetcode-cn.com/problems/matrix-diagonal-sum/**\n",
    "\n",
    "## 一、题目\n",
    "\n",
    "给你一个正方形矩阵 mat，请你返回矩阵对角线元素的和。\n",
    "\n",
    "请你返回在矩阵主对角线上的元素和副对角线上且不在主对角线上元素的和。\n",
    "\n",
    "## 二、示例\n",
    "\n",
    "### 示例 1：\n",
    "\n",
    "输入：mat = [[1,2,3],[4,5,6],[7,8,9]]\n",
    "            \n",
    "输出：25\n",
    "\n",
    "解释：对角线的和为：1 + 5 + 9 + 3 + 7 = 25\n",
    "\n",
    "请注意，元素 mat[1][1] = 5 只会被计算一次。\n",
    "\n",
    "### 示例 2：\n",
    "\n",
    "输入：mat = [[1,1,1,1],[1,1,1,1],[1,1,1,1],[1,1,1,1]]\n",
    "\n",
    "输出：8\n",
    "\n",
    "### 示例 3：\n",
    "\n",
    "输入：mat = [[5]]\n",
    "输出：5\n",
    "\n",
    "## 三、解题思路\n",
    "\n",
    "### 迭代"
   ]
  },
  {
   "cell_type": "code",
   "execution_count": 1,
   "metadata": {},
   "outputs": [],
   "source": [
    "def diagonalSum(mat) -> int:\n",
    "    ret = 0\n",
    "    m = len(mat)\n",
    "    for i in range(m):\n",
    "        ret += mat[i][i]\n",
    "        if i != m - i -1:\n",
    "            ret += mat[i][m - i -1]\n",
    "    return ret"
   ]
  },
  {
   "cell_type": "code",
   "execution_count": 2,
   "metadata": {},
   "outputs": [
    {
     "data": {
      "text/plain": [
       "25"
      ]
     },
     "execution_count": 2,
     "metadata": {},
     "output_type": "execute_result"
    }
   ],
   "source": [
    "diagonalSum([[1,2,3],[4,5,6],[7,8,9]])"
   ]
  },
  {
   "cell_type": "code",
   "execution_count": 3,
   "metadata": {},
   "outputs": [
    {
     "data": {
      "text/plain": [
       "8"
      ]
     },
     "execution_count": 3,
     "metadata": {},
     "output_type": "execute_result"
    }
   ],
   "source": [
    "diagonalSum([[1,1,1,1],[1,1,1,1],[1,1,1,1],[1,1,1,1]])"
   ]
  },
  {
   "cell_type": "code",
   "execution_count": 4,
   "metadata": {},
   "outputs": [
    {
     "data": {
      "text/plain": [
       "5"
      ]
     },
     "execution_count": 4,
     "metadata": {},
     "output_type": "execute_result"
    }
   ],
   "source": [
    "diagonalSum([[5]])"
   ]
  },
  {
   "cell_type": "code",
   "execution_count": null,
   "metadata": {},
   "outputs": [],
   "source": []
  }
 ],
 "metadata": {
  "kernelspec": {
   "display_name": "Python 3",
   "language": "python",
   "name": "python3"
  },
  "language_info": {
   "codemirror_mode": {
    "name": "ipython",
    "version": 3
   },
   "file_extension": ".py",
   "mimetype": "text/x-python",
   "name": "python",
   "nbconvert_exporter": "python",
   "pygments_lexer": "ipython3",
   "version": "3.6.5"
  }
 },
 "nbformat": 4,
 "nbformat_minor": 2
}
