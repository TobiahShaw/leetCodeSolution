{
  "cells": [
    {
      "metadata": {
        "collapsed": true
      },
      "cell_type": "markdown",
      "source": "# 实现一个魔法字典\n\n**题目来源：力扣（LeetCode）**\n\n**链接：https://leetcode-cn.com/problems/count-of-smaller-numbers-after-self/**\n\n## 一、题目\n\n实现一个带有buildDict, 以及 search方法的魔法字典。\n\n对于buildDict方法，你将被给定一串不重复的单词来构建一个字典。\n\n对于search方法，你将被给定一个单词，并且判定能否只将这个单词中一个字母换成另一个字母，使得所形成的新单词存在于你构建的字典中。\n\n## 二、示例\n\nInput: buildDict([\"hello\", \"leetcode\"]), Output: Null\n\nInput: search(\"hello\"), Output: False\n\nInput: search(\"hhllo\"), Output: True\n\nInput: search(\"hell\"), Output: False\n\nInput: search(\"leetcoded\"), Output: False\n\n## 三、解题思路\n\n### 暴力法"
    },
    {
      "metadata": {
        "trusted": true
      },
      "cell_type": "code",
      "source": "class MagicDictionary:\n\n    def __init__(self):\n        \"\"\"\n        Initialize your data structure here.\n        \"\"\"\n        self.data = []\n\n    def buildDict(self, dict) -> None:\n        \"\"\"\n        Build a dictionary through a list of words\n        \"\"\"\n        self.data += dict\n\n    def search(self, word: str) -> bool:\n        \"\"\"\n        Returns if there is any word in the trie that equals to the given word after modifying exactly one character\n        \"\"\"\n        for cur in self.data:\n            if cur == word:\n                continue\n            if len(cur) != len(word):\n                continue\n            count = 0\n            for i in range(len(word)):\n                if cur[i] != word[i]:\n                    count += 1\n                if count > 1:\n                    break\n            if count == 1:\n                return True\n        return False",
      "execution_count": 1,
      "outputs": []
    },
    {
      "metadata": {
        "trusted": true
      },
      "cell_type": "code",
      "source": "md = MagicDictionary()\nmd.buildDict([\"hello\", \"leetcode\"])",
      "execution_count": 2,
      "outputs": []
    },
    {
      "metadata": {
        "trusted": true
      },
      "cell_type": "code",
      "source": "md.search(\"hello\")",
      "execution_count": 3,
      "outputs": [
        {
          "output_type": "execute_result",
          "execution_count": 3,
          "data": {
            "text/plain": "False"
          },
          "metadata": {}
        }
      ]
    },
    {
      "metadata": {
        "trusted": true
      },
      "cell_type": "code",
      "source": "md.search(\"hhllo\")",
      "execution_count": 4,
      "outputs": [
        {
          "output_type": "execute_result",
          "execution_count": 4,
          "data": {
            "text/plain": "True"
          },
          "metadata": {}
        }
      ]
    },
    {
      "metadata": {
        "trusted": true
      },
      "cell_type": "code",
      "source": "md.search(\"hell\")",
      "execution_count": 5,
      "outputs": [
        {
          "output_type": "execute_result",
          "execution_count": 5,
          "data": {
            "text/plain": "False"
          },
          "metadata": {}
        }
      ]
    },
    {
      "metadata": {
        "trusted": true
      },
      "cell_type": "code",
      "source": "md.search(\"leetcoded\")",
      "execution_count": 6,
      "outputs": [
        {
          "output_type": "execute_result",
          "execution_count": 6,
          "data": {
            "text/plain": "False"
          },
          "metadata": {}
        }
      ]
    },
    {
      "metadata": {
        "trusted": true
      },
      "cell_type": "code",
      "source": "",
      "execution_count": null,
      "outputs": []
    }
  ],
  "metadata": {
    "kernelspec": {
      "name": "python36",
      "display_name": "Python 3.6",
      "language": "python"
    },
    "language_info": {
      "mimetype": "text/x-python",
      "nbconvert_exporter": "python",
      "name": "python",
      "pygments_lexer": "ipython3",
      "version": "3.6.6",
      "file_extension": ".py",
      "codemirror_mode": {
        "version": 3,
        "name": "ipython"
      }
    }
  },
  "nbformat": 4,
  "nbformat_minor": 2
}