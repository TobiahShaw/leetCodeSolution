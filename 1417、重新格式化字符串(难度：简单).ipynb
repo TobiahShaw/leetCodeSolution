{
  "cells": [
    {
      "cell_type": "markdown",
      "metadata": {
        "collapsed": true
      },
      "source": [
        "# 重新格式化字符串\n",
        "\n",
        "**题目来源：力扣（LeetCode）**\n",
        "\n",
        "**链接：https://leetcode-cn.com/problems/reformat-the-string/**\n",
        "\n",
        "## 一、题目\n",
        "\n",
        "给你一个混合了数字和字母的字符串 s，其中的字母均为小写英文字母。\n",
        "\n",
        "请你将该字符串重新格式化，使得任意两个相邻字符的类型都不同。也就是说，字母后面应该跟着数字，而数字后面应该跟着字母。\n",
        "\n",
        "请你返回 重新格式化后 的字符串；如果无法按要求重新格式化，则返回一个 空字符串 。\n",
        "\n",
        "### 提示：\n",
        "\n",
        "- 1 <= s.length <= 500\n",
        "- s 仅由小写英文字母和/或数字组成。\n",
        "\n",
        "## 二、示例\n",
        "\n",
        "### 示例 1：\n",
        "\n",
        "输入：s = \"a0b1c2\"\n",
        "\n",
        "输出：\"0a1b2c\"\n",
        "\n",
        "解释：\"0a1b2c\" 中任意两个相邻字符的类型都不同。 \"a0b1c2\", \"0a1b2c\", \"0c2a1b\" 也是满足题目要求的答案。\n",
        "\n",
        "### 示例 2：\n",
        "\n",
        "输入：s = \"leetcode\"\n",
        "\n",
        "输出：\"\"\n",
        "\n",
        "解释：\"leetcode\" 中只有字母，所以无法满足重新格式化的条件。\n",
        "\n",
        "### 示例 3：\n",
        "\n",
        "输入：s = \"1229857369\"\n",
        "\n",
        "输出：\"\"\n",
        "\n",
        "解释：\"1229857369\" 中只有数字，所以无法满足重新格式化的条件。\n",
        "\n",
        "### 示例 4：\n",
        "\n",
        "输入：s = \"covid2019\"\n",
        "\n",
        "输出：\"c2o0v1i9d\"\n",
        "\n",
        "### 示例 5：\n",
        "\n",
        "输入：s = \"ab123\"\n",
        "\n",
        "输出：\"1a2b3\"\n",
        "\n",
        "## 三、解题思路\n",
        "\n",
        "### 分割后组合"
      ]
    },
    {
      "cell_type": "code",
      "execution_count": 1,
      "metadata": {
        "trusted": true
      },
      "outputs": [],
      "source": [
        "class Solution:\n",
        "    def reformat(self, s: str) -> str:\n",
        "        digits = []\n",
        "        chars = []\n",
        "        for ch in s:\n",
        "            if ch.isdigit():\n",
        "                digits.append(ch)\n",
        "            else:\n",
        "                chars.append(ch)\n",
        "        len_d = len(digits)\n",
        "        len_c = len(chars)\n",
        "        if abs(len_d - len_c) > 1:\n",
        "            return \"\"\n",
        "        ret = []\n",
        "        flag = len_d > len_c\n",
        "        while digits or chars:\n",
        "            if flag:\n",
        "                ret.append(digits.pop())\n",
        "            else:\n",
        "                ret.append(chars.pop())\n",
        "            flag = not flag\n",
        "        return \"\".join(ret)"
      ]
    },
    {
      "cell_type": "code",
      "execution_count": 2,
      "metadata": {
        "trusted": true
      },
      "outputs": [
        {
          "data": {
            "text/plain": [
              "'c2b1a0'"
            ]
          },
          "execution_count": 2,
          "metadata": {},
          "output_type": "execute_result"
        }
      ],
      "source": [
        "s = Solution()\n",
        "\n",
        "s.reformat(\"a0b1c2\")"
      ]
    },
    {
      "cell_type": "code",
      "execution_count": 3,
      "metadata": {
        "trusted": true
      },
      "outputs": [
        {
          "data": {
            "text/plain": [
              "''"
            ]
          },
          "execution_count": 3,
          "metadata": {},
          "output_type": "execute_result"
        }
      ],
      "source": [
        "s.reformat(\"leetcode\")"
      ]
    },
    {
      "cell_type": "code",
      "execution_count": 4,
      "metadata": {
        "trusted": true
      },
      "outputs": [
        {
          "data": {
            "text/plain": [
              "''"
            ]
          },
          "execution_count": 4,
          "metadata": {},
          "output_type": "execute_result"
        }
      ],
      "source": [
        "s.reformat(\"1229857369\")"
      ]
    },
    {
      "cell_type": "code",
      "execution_count": 5,
      "metadata": {
        "trusted": true
      },
      "outputs": [
        {
          "data": {
            "text/plain": [
              "'d9i1v0o2c'"
            ]
          },
          "execution_count": 5,
          "metadata": {},
          "output_type": "execute_result"
        }
      ],
      "source": [
        "s.reformat(\"covid2019\")"
      ]
    },
    {
      "cell_type": "code",
      "execution_count": 6,
      "metadata": {
        "trusted": true
      },
      "outputs": [
        {
          "data": {
            "text/plain": [
              "'3b2a1'"
            ]
          },
          "execution_count": 6,
          "metadata": {},
          "output_type": "execute_result"
        }
      ],
      "source": [
        "s.reformat(\"ab123\")"
      ]
    },
    {
      "cell_type": "code",
      "execution_count": null,
      "metadata": {
        "trusted": true
      },
      "outputs": [],
      "source": []
    }
  ],
  "metadata": {
    "kernelspec": {
      "display_name": "Python 3.10.4 64-bit",
      "language": "python",
      "name": "python3"
    },
    "language_info": {
      "codemirror_mode": {
        "name": "ipython",
        "version": 3
      },
      "file_extension": ".py",
      "mimetype": "text/x-python",
      "name": "python",
      "nbconvert_exporter": "python",
      "pygments_lexer": "ipython3",
      "version": "3.10.4"
    },
    "vscode": {
      "interpreter": {
        "hash": "4f946df053fbf2b937619d3c5458e7af74262f9a954d8797ba0b27400bcafe06"
      }
    }
  },
  "nbformat": 4,
  "nbformat_minor": 2
}
