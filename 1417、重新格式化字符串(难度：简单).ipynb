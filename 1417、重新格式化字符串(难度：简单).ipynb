{
  "cells": [
    {
      "metadata": {
        "collapsed": true
      },
      "cell_type": "markdown",
      "source": "# 重新格式化字符串\n\n**题目来源：力扣（LeetCode）**\n\n**链接：https://leetcode-cn.com/problems/reformat-the-string/**\n\n## 一、题目\n\n给你一个混合了数字和字母的字符串 s，其中的字母均为小写英文字母。\n\n请你将该字符串重新格式化，使得任意两个相邻字符的类型都不同。也就是说，字母后面应该跟着数字，而数字后面应该跟着字母。\n\n请你返回 重新格式化后 的字符串；如果无法按要求重新格式化，则返回一个 空字符串 。\n\n## 二、示例\n\n### 示例 1：\n\n输入：s = \"a0b1c2\"\n\n输出：\"0a1b2c\"\n\n解释：\"0a1b2c\" 中任意两个相邻字符的类型都不同。 \"a0b1c2\", \"0a1b2c\", \"0c2a1b\" 也是满足题目要求的答案。\n\n### 示例 2：\n\n输入：s = \"leetcode\"\n\n输出：\"\"\n\n解释：\"leetcode\" 中只有字母，所以无法满足重新格式化的条件。\n\n### 示例 3：\n\n输入：s = \"1229857369\"\n\n输出：\"\"\n\n解释：\"1229857369\" 中只有数字，所以无法满足重新格式化的条件。\n\n### 示例 4：\n\n输入：s = \"covid2019\"\n\n输出：\"c2o0v1i9d\"\n\n### 示例 5：\n\n输入：s = \"ab123\"\n\n输出：\"1a2b3\"\n\n## 三、解题思路\n\n### 分割后组合"
    },
    {
      "metadata": {
        "trusted": true
      },
      "cell_type": "code",
      "source": "def reformat(s: str) -> str:\n    ab = []\n    num = []\n    for c in s:\n        if c.isdigit():\n            num.append(c)\n        else:\n            ab.append(c)\n    if abs(len(ab) - len(num)) > 1:\n        return \"\"\n    result = \"\"\n    if len(ab) >= len(num):\n        while ab:\n            result += ab.pop()\n            if num:\n                result += num.pop()\n    else:\n        while num:\n            result += num.pop()\n            if ab:\n                result += ab.pop()\n    return result",
      "execution_count": 1,
      "outputs": []
    },
    {
      "metadata": {
        "trusted": true
      },
      "cell_type": "code",
      "source": "reformat(\"a0b1c2\")",
      "execution_count": 2,
      "outputs": [
        {
          "output_type": "execute_result",
          "execution_count": 2,
          "data": {
            "text/plain": "'c2b1a0'"
          },
          "metadata": {}
        }
      ]
    },
    {
      "metadata": {
        "trusted": true
      },
      "cell_type": "code",
      "source": "reformat(\"leetcode\")",
      "execution_count": 3,
      "outputs": [
        {
          "output_type": "execute_result",
          "execution_count": 3,
          "data": {
            "text/plain": "''"
          },
          "metadata": {}
        }
      ]
    },
    {
      "metadata": {
        "trusted": true
      },
      "cell_type": "code",
      "source": "reformat(\"1229857369\")",
      "execution_count": 4,
      "outputs": [
        {
          "output_type": "execute_result",
          "execution_count": 4,
          "data": {
            "text/plain": "''"
          },
          "metadata": {}
        }
      ]
    },
    {
      "metadata": {
        "trusted": true
      },
      "cell_type": "code",
      "source": "reformat(\"covid2019\")",
      "execution_count": 5,
      "outputs": [
        {
          "output_type": "execute_result",
          "execution_count": 5,
          "data": {
            "text/plain": "'d9i1v0o2c'"
          },
          "metadata": {}
        }
      ]
    },
    {
      "metadata": {
        "trusted": true
      },
      "cell_type": "code",
      "source": "reformat(\"ab123\")",
      "execution_count": 6,
      "outputs": [
        {
          "output_type": "execute_result",
          "execution_count": 6,
          "data": {
            "text/plain": "'3b2a1'"
          },
          "metadata": {}
        }
      ]
    },
    {
      "metadata": {
        "trusted": true
      },
      "cell_type": "code",
      "source": "",
      "execution_count": null,
      "outputs": []
    }
  ],
  "metadata": {
    "kernelspec": {
      "name": "python36",
      "display_name": "Python 3.6",
      "language": "python"
    },
    "language_info": {
      "mimetype": "text/x-python",
      "nbconvert_exporter": "python",
      "name": "python",
      "pygments_lexer": "ipython3",
      "version": "3.6.6",
      "file_extension": ".py",
      "codemirror_mode": {
        "version": 3,
        "name": "ipython"
      }
    }
  },
  "nbformat": 4,
  "nbformat_minor": 2
}