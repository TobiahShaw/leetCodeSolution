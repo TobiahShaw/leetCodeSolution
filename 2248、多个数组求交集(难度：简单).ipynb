{
 "cells": [
  {
   "cell_type": "markdown",
   "metadata": {},
   "source": [
    "# 多个数组求交集\n",
    "\n",
    "**题目来源：力扣（LeetCode）**\n",
    "\n",
    "**链接：https://leetcode-cn.com/problems/intersection-of-multiple-arrays/**\n",
    "\n",
    "## 一、题目\n",
    "\n",
    "给你一个二维整数数组 nums ，其中 nums[i] 是由 不同 正整数组成的一个非空数组，按 升序排列 返回一个数组，数组中的每个元素在 nums 所有数组 中都出现过。\n",
    "\n",
    "### 提示：\n",
    "\n",
    "- 1 <= nums.length <= 1000\n",
    "- 1 <= sum(nums[i].length) <= 1000\n",
    "- 1 <= nums[i][j] <= 1000\n",
    "- nums[i] 中的所有值 互不相同\n",
    "\n",
    "## 二、示例\n",
    "\n",
    "### 示例 1：\n",
    "\n",
    "输入：nums = [[3,1,2,4,5],[1,2,3,4],[3,4,5,6]]\n",
    "\n",
    "输出：[3,4]\n",
    "\n",
    "解释：\n",
    "\n",
    "nums[0] = [3,1,2,4,5]，nums[1] = [1,2,3,4]，nums[2] = [3,4,5,6]，在 nums 中每个数组中都出现的数字是 3 和 4 ，所以返回 [3,4] 。\n",
    "\n",
    "### 示例 2：\n",
    "\n",
    "输入：nums = [[1,2,3],[4,5,6]]\n",
    "\n",
    "输出：[]\n",
    "\n",
    "解释：\n",
    "\n",
    "不存在同时出现在 nums[0] 和 nums[1] 的整数，所以返回一个空列表 [] 。\n",
    "\n",
    "## 三、解题思路\n",
    "\n",
    "### 循环"
   ]
  },
  {
   "cell_type": "code",
   "execution_count": 1,
   "metadata": {},
   "outputs": [],
   "source": [
    "def intersection(nums):\n",
    "    ret = set(nums[0])\n",
    "    for i in range(1, len(nums)):\n",
    "        ret &= set(nums[i])\n",
    "    return sorted(list(ret))"
   ]
  },
  {
   "cell_type": "code",
   "execution_count": 2,
   "metadata": {},
   "outputs": [
    {
     "data": {
      "text/plain": [
       "[3, 4]"
      ]
     },
     "execution_count": 2,
     "metadata": {},
     "output_type": "execute_result"
    }
   ],
   "source": [
    "intersection([[3,1,2,4,5],[1,2,3,4],[3,4,5,6]])"
   ]
  },
  {
   "cell_type": "code",
   "execution_count": 3,
   "metadata": {},
   "outputs": [
    {
     "data": {
      "text/plain": [
       "[]"
      ]
     },
     "execution_count": 3,
     "metadata": {},
     "output_type": "execute_result"
    }
   ],
   "source": [
    "intersection([[1,2,3],[4,5,6]])"
   ]
  },
  {
   "cell_type": "code",
   "execution_count": null,
   "metadata": {},
   "outputs": [],
   "source": []
  }
 ],
 "metadata": {
  "kernelspec": {
   "display_name": "Python 3",
   "language": "python",
   "name": "python3"
  },
  "language_info": {
   "codemirror_mode": {
    "name": "ipython",
    "version": 3
   },
   "file_extension": ".py",
   "mimetype": "text/x-python",
   "name": "python",
   "nbconvert_exporter": "python",
   "pygments_lexer": "ipython3",
   "version": "3.6.5"
  }
 },
 "nbformat": 4,
 "nbformat_minor": 2
}
