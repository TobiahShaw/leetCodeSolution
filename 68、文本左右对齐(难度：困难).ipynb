{
 "cells": [
  {
   "cell_type": "markdown",
   "metadata": {},
   "source": [
    "# 文本左右对齐\n",
    "\n",
    "**题目来源：力扣（LeetCode）**\n",
    "\n",
    "**链接：https://leetcode-cn.com/problems/text-justification/**\n",
    "\n",
    "## 一、题目\n",
    "\n",
    "给定一个单词数组和一个长度 maxWidth，重新排版单词，使其成为每行恰好有 maxWidth 个字符，且左右两端对齐的文本。\n",
    "\n",
    "你应该使用“贪心算法”来放置给定的单词；也就是说，尽可能多地往每行中放置单词。必要时可用空格 ' ' 填充，使得每行恰好有 maxWidth 个字符。\n",
    "\n",
    "要求尽可能均匀分配单词间的空格数量。如果某一行单词间的空格不能均匀分配，则左侧放置的空格数要多于右侧的空格数。\n",
    "\n",
    "文本的最后一行应为左对齐，且单词之间不插入额外的空格。\n",
    "\n",
    "### 说明:\n",
    "\n",
    "- 单词是指由非空格字符组成的字符序列。\n",
    "- 每个单词的长度大于 0，小于等于 maxWidth。\n",
    "- 输入单词数组 words 至少包含一个单词。\n",
    "\n",
    "## 二、示例\n",
    "\n",
    "### 示例 1：\n",
    "\n",
    "输入:words = [\"This\", \"is\", \"an\", \"example\", \"of\", \"text\", \"justification.\"], maxWidth = 16\n",
    "\n",
    "输出:\n",
    "\n",
    "```\n",
    "[\n",
    "   \"This    is    an\",\n",
    "   \"example  of text\",\n",
    "   \"justification.  \"\n",
    "]\n",
    "\n",
    "```\n",
    "### 示例 2:\n",
    "\n",
    "输入:words = [\"What\",\"must\",\"be\",\"acknowledgment\",\"shall\",\"be\"], maxWidth = 16\n",
    "\n",
    "输出:\n",
    "\n",
    "```\n",
    "[\n",
    "  \"What   must   be\",\n",
    "  \"acknowledgment  \",\n",
    "  \"shall be        \"\n",
    "]\n",
    "```\n",
    "\n",
    "解释: 注意最后一行的格式应为 \"shall be    \" 而不是 \"shall     be\",因为最后一行应为左对齐，而不是左右两端对齐。第二行同样为左对齐，这是因为这行只包含一个单词。\n",
    "\n",
    "### 示例 3:\n",
    "\n",
    "输入:words = [\"Science\",\"is\",\"what\",\"we\",\"understand\",\"well\",\"enough\",\"to\",\"explain\",\"to\",\"a\",\"computer.\",\"Art\",\"is\",\"everything\",\"else\",\"we\",\"do\"], maxWidth = 20\n",
    "\n",
    "输出:\n",
    "\n",
    "```\n",
    "[\n",
    "  \"Science  is  what we\",\n",
    "  \"understand      well\",\n",
    "  \"enough to explain to\",\n",
    "  \"a  computer.  Art is\",\n",
    "  \"everything  else  we\",\n",
    "  \"do                  \"\n",
    "]\n",
    "```\n",
    "\n",
    "## 三、解题思路\n",
    "\n",
    "### 模拟过程"
   ]
  },
  {
   "cell_type": "code",
   "execution_count": 1,
   "metadata": {},
   "outputs": [],
   "source": [
    "def fullJustify(words, maxWidth: int):\n",
    "    i = 0\n",
    "    store = []\n",
    "    while i<len(words):#先将word分给一个组\n",
    "        t = []\n",
    "        temp_len = 0\n",
    "        while i<len(words) and temp_len+len(words[i])<=maxWidth:\n",
    "            t.append(words[i])\n",
    "            temp_len += len(words[i])+1#至少有一个空格\n",
    "            i+=1\n",
    "        store.append(t)\n",
    "\n",
    "    res = []\n",
    "    for i in range(len(store)-1):#正式开始\n",
    "        if len(store[i]) == 1:#特殊情况处理\n",
    "            res.append(store[i][0]+' '*(maxWidth-len(store[i][0])))\n",
    "            continue\n",
    "\n",
    "        total_len = 0\n",
    "        num = 0\n",
    "        for j in range(len(store[i])):\n",
    "            total_len += len(store[i][j])\n",
    "            num +=1\n",
    "        base = (maxWidth-total_len)//(num-1)#计算base\n",
    "        need_more_1 = (maxWidth-total_len)%(num-1)#计算需要加一的个数\n",
    "        temp = \"\"\n",
    "        for j in range(need_more_1):#把加1的分配了\n",
    "            temp += store[i][j] + ' '*(base+1)\n",
    "        for j in range(need_more_1,len(store[i])-1):\n",
    "            temp += store[i][j] + ' '*base\n",
    "        temp += store[i][-1]\n",
    "        res.append(temp)\n",
    "\n",
    "    #处理最后一个\n",
    "    temp = store[-1][0]\n",
    "    len_temp = len(temp)\n",
    "    for i in range(1,len(store[-1])):\n",
    "        temp +=' '+ store[-1][i]\n",
    "        len_temp += len(store[-1][i])+1\n",
    "    temp += (maxWidth-len_temp)*' '\n",
    "    res.append(temp)\n",
    "    return res"
   ]
  },
  {
   "cell_type": "code",
   "execution_count": 2,
   "metadata": {},
   "outputs": [
    {
     "data": {
      "text/plain": [
       "['This    is    an', 'example  of text', 'justification.  ']"
      ]
     },
     "execution_count": 2,
     "metadata": {},
     "output_type": "execute_result"
    }
   ],
   "source": [
    "fullJustify(words = [\"This\", \"is\", \"an\", \"example\", \"of\", \"text\", \"justification.\"], maxWidth = 16)"
   ]
  },
  {
   "cell_type": "code",
   "execution_count": 3,
   "metadata": {},
   "outputs": [
    {
     "data": {
      "text/plain": [
       "['What   must   be', 'acknowledgment  ', 'shall be        ']"
      ]
     },
     "execution_count": 3,
     "metadata": {},
     "output_type": "execute_result"
    }
   ],
   "source": [
    "fullJustify(words = [\"What\",\"must\",\"be\",\"acknowledgment\",\"shall\",\"be\"], maxWidth = 16)"
   ]
  },
  {
   "cell_type": "code",
   "execution_count": 4,
   "metadata": {},
   "outputs": [
    {
     "data": {
      "text/plain": [
       "['Science  is  what we',\n",
       " 'understand      well',\n",
       " 'enough to explain to',\n",
       " 'a  computer.  Art is',\n",
       " 'everything  else  we',\n",
       " 'do                  ']"
      ]
     },
     "execution_count": 4,
     "metadata": {},
     "output_type": "execute_result"
    }
   ],
   "source": [
    "fullJustify(words = [\"Science\",\"is\",\"what\",\"we\",\"understand\",\"well\",\"enough\",\"to\",\"explain\",\"to\",\"a\",\"computer.\",\"Art\",\"is\",\"everything\",\"else\",\"we\",\"do\"], maxWidth = 20)"
   ]
  },
  {
   "cell_type": "code",
   "execution_count": null,
   "metadata": {},
   "outputs": [],
   "source": []
  }
 ],
 "metadata": {
  "kernelspec": {
   "display_name": "Python 3",
   "language": "python",
   "name": "python3"
  },
  "language_info": {
   "codemirror_mode": {
    "name": "ipython",
    "version": 3
   },
   "file_extension": ".py",
   "mimetype": "text/x-python",
   "name": "python",
   "nbconvert_exporter": "python",
   "pygments_lexer": "ipython3",
   "version": "3.6.5"
  }
 },
 "nbformat": 4,
 "nbformat_minor": 2
}
