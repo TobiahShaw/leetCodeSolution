{
 "cells": [
  {
   "cell_type": "markdown",
   "metadata": {},
   "source": [
    "# 股票价格波动\n",
    "\n",
    "**题目来源：力扣（LeetCode）**\n",
    "\n",
    "**链接：https://leetcode-cn.com/problems/stock-price-fluctuation/**\n",
    "\n",
    "## 一、题目\n",
    "\n",
    "给你一支股票价格的数据流。数据流中每一条记录包含一个 时间戳 和该时间点股票对应的 价格 。\n",
    "\n",
    "不巧的是，由于股票市场内在的波动性，股票价格记录可能不是按时间顺序到来的。某些情况下，有的记录可能是错的。如果两个有相同时间戳的记录出现在数据流中，前一条记录视为错误记录，后出现的记录 更正 前一条错误的记录。\n",
    "\n",
    "请你设计一个算法，实现：\n",
    "\n",
    "- 更新 股票在某一时间戳的股票价格，如果有之前同一时间戳的价格，这一操作将 更正 之前的错误价格。\n",
    "- 找到当前记录里 最新股票价格 。最新股票价格 定义为时间戳最晚的股票价格。\n",
    "- 找到当前记录里股票的 最高价格 。\n",
    "- 找到当前记录里股票的 最低价格 。\n",
    "\n",
    "请你实现 StockPrice 类：\n",
    "\n",
    "- StockPrice() 初始化对象，当前无股票价格记录。\n",
    "- void update(int timestamp, int price) 在时间点 timestamp 更新股票价格为 price 。\n",
    "- int current() 返回股票 最新价格 。\n",
    "- int maximum() 返回股票 最高价格 。\n",
    "- int minimum() 返回股票 最低价格 。\n",
    "\n",
    "### 提示：\n",
    "\n",
    "- 1 <= timestamp, price <= 10^9\n",
    "- update，current，maximum 和 minimum 总 调用次数不超过 105 。\n",
    "- current，maximum 和 minimum 被调用时，update 操作 至少 已经被调用过 一次 。\n",
    "\n",
    "## 二、示例\n",
    "\n",
    "输入：\n",
    "\n",
    "[\"StockPrice\", \"update\", \"update\", \"current\", \"maximum\", \"update\", \"maximum\", \"update\", \"minimum\"]\n",
    "\n",
    "[[], [1, 10], [2, 5], [], [], [1, 3], [], [4, 2], []]\n",
    "\n",
    "输出：\n",
    "\n",
    "[null, null, null, 5, 10, null, 5, null, 2]\n",
    "\n",
    "解释：\n",
    "\n",
    "```\n",
    "stockPrice = StockPrice()\n",
    "stockPrice.update(1, 10) # 时间戳为 [1] ，对应的股票价格为 [10] 。\n",
    "stockPrice.update(2, 5)  # 时间戳为 [1,2] ，对应的股票价格为 [10,5] 。\n",
    "stockPrice.current()     # 返回 5 ，最新时间戳为 2 ，对应价格为 5 。\n",
    "stockPrice.maximum()     # 返回 10 ，最高价格的时间戳为 1 ，价格为 10 。\n",
    "stockPrice.update(1, 3)  # 之前时间戳为 1 的价格错误，价格更新为 3 。 时间戳为 [1,2] ，对应股票价格为 [3,5] 。\n",
    "stockPrice.maximum()     # 返回 5 ，更正后最高价格为 5 。\n",
    "stockPrice.update(4, 2)  # 时间戳为 [1,2,4] ，对应价格为 [3,5,2] 。\n",
    "stockPrice.minimum()     # 返回 2 ，最低价格时间戳为 4 ，价格为 2 。\n",
    "```\n",
    "\n",
    "## 三、解题思路\n",
    "\n",
    "### 字典+有序集合"
   ]
  },
  {
   "cell_type": "code",
   "execution_count": 1,
   "metadata": {},
   "outputs": [],
   "source": [
    "class StockPrice:\n",
    "\n",
    "    def __init__(self):\n",
    "        from sortedcontainers import SortedList\n",
    "        self.price = SortedList()\n",
    "        self.time_price = {}\n",
    "        self.maxTime = 0\n",
    "\n",
    "    def update(self, timestamp: int, price: int) -> None:\n",
    "        if timestamp in self.time_price:\n",
    "            self.price.discard(self.time_price[timestamp])\n",
    "        self.price.add(price)\n",
    "        self.time_price[timestamp] = price\n",
    "        self.maxTime = max(self.maxTime, timestamp)\n",
    "\n",
    "    def current(self) -> int:\n",
    "        return self.time_price[self.maxTime]\n",
    "\n",
    "    def maximum(self) -> int:\n",
    "        return self.price[-1]\n",
    "\n",
    "    def minimum(self) -> int:\n",
    "        return self.price[0]"
   ]
  },
  {
   "cell_type": "code",
   "execution_count": 2,
   "metadata": {},
   "outputs": [
    {
     "name": "stdout",
     "output_type": "stream",
     "text": [
      "5\n",
      "10\n",
      "5\n",
      "2\n"
     ]
    }
   ],
   "source": [
    "stockPrice = StockPrice()\n",
    "stockPrice.update(1, 10) # 时间戳为 [1] ，对应的股票价格为 [10] 。\n",
    "stockPrice.update(2, 5)  # 时间戳为 [1,2] ，对应的股票价格为 [10,5] 。\n",
    "print(stockPrice.current())     # 返回 5 ，最新时间戳为 2 ，对应价格为 5 。\n",
    "print(stockPrice.maximum())     # 返回 10 ，最高价格的时间戳为 1 ，价格为 10 。\n",
    "stockPrice.update(1, 3)  # 之前时间戳为 1 的价格错误，价格更新为 3 。 时间戳为 [1,2] ，对应股票价格为 [3,5] 。\n",
    "print(stockPrice.maximum())     # 返回 5 ，更正后最高价格为 5 。\n",
    "stockPrice.update(4, 2)  # 时间戳为 [1,2,4] ，对应价格为 [3,5,2] 。\n",
    "print(stockPrice.minimum())     # 返回 2 ，最低价格时间戳为 4 ，价格为 2 。"
   ]
  },
  {
   "cell_type": "code",
   "execution_count": null,
   "metadata": {},
   "outputs": [],
   "source": []
  }
 ],
 "metadata": {
  "kernelspec": {
   "display_name": "Python 3",
   "language": "python",
   "name": "python3"
  },
  "language_info": {
   "codemirror_mode": {
    "name": "ipython",
    "version": 3
   },
   "file_extension": ".py",
   "mimetype": "text/x-python",
   "name": "python",
   "nbconvert_exporter": "python",
   "pygments_lexer": "ipython3",
   "version": "3.6.5"
  }
 },
 "nbformat": 4,
 "nbformat_minor": 2
}
