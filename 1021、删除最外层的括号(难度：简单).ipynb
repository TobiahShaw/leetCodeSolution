{
 "cells": [
  {
   "cell_type": "markdown",
   "metadata": {
    "collapsed": true
   },
   "source": [
    "# 删除最外层的括号\n",
    "\n",
    "**题目来源：力扣（LeetCode）**\n",
    "\n",
    "**链接：https://leetcode-cn.com/problems/remove-outermost-parentheses/**\n",
    "\n",
    "## 一、题目\n",
    "\n",
    "有效括号字符串为空 (\"\")、\"(\" + A + \")\" 或 A + B，其中 A 和 B 都是有效的括号字符串，+ 代表字符串的连接。例如，\"\"，\"()\"，\"(())()\" 和 \"(()(()))\" 都是有效的括号字符串。\n",
    "\n",
    "如果有效字符串 S 非空，且不存在将其拆分为 S = A+B 的方法，我们称其为原语（primitive），其中 A 和 B 都是非空有效括号字符串。\n",
    "\n",
    "给出一个非空有效字符串 S，考虑将其进行原语化分解，使得：S = P_1 + P_2 + ... + P_k，其中 P_i 是有效括号字符串原语。\n",
    "\n",
    "对 S 进行原语化分解，删除分解中每个原语字符串的最外层括号，返回 S 。\n",
    "\n",
    "### 提示：\n",
    "\n",
    "- 1 <= s.length <= 10^5\n",
    "- s[i] 为 '(' 或 ')'\n",
    "- s 是一个有效括号字符串\n",
    "\n",
    "## 二、示例\n",
    "\n",
    "### 示例 1：\n",
    "\n",
    "输入：\"(()())(())\"\n",
    "\n",
    "输出：\"()()()\"\n",
    "\n",
    "解释：\n",
    "\n",
    "输入字符串为 \"(()())(())\"，原语化分解得到 \"(()())\" + \"(())\"，删除每个部分中的最外层括号后得到 \"()()\" + \"()\" = \"()()()\"。\n",
    "\n",
    "### 示例 2：\n",
    "\n",
    "输入：\"(()())(())(()(()))\"\n",
    "\n",
    "输出：\"()()()()(())\"\n",
    "\n",
    "解释：\n",
    "\n",
    "输入字符串为 \"(()())(())(()(()))\"，原语化分解得到 \"(()())\" + \"(())\" + \"(()(()))\"，删除每隔部分中的最外层括号后得到 \"()()\" + \"()\" + \"()(())\" = \"()()()()(())\"。\n",
    "\n",
    "### 示例 3：\n",
    "\n",
    "输入：\"()()\"\n",
    "\n",
    "输出：\"\"\n",
    "\n",
    "解释：\n",
    "\n",
    "输入字符串为 \"()()\"，原语化分解得到 \"()\" + \"()\"，删除每个部分中的最外层括号后得到 \"\" + \"\" = \"\"。\n",
    "\n",
    "## 三、解题思路\n",
    "\n",
    "### 计数"
   ]
  },
  {
   "cell_type": "code",
   "execution_count": 1,
   "metadata": {},
   "outputs": [],
   "source": [
    "def removeOuterParentheses(S: str) -> str:\n",
    "    l, r = 0, 0\n",
    "    res = ''\n",
    "    for c in S:\n",
    "        if c == '(':\n",
    "            l += 1\n",
    "        else:\n",
    "            r += 1\n",
    "        if l == r:\n",
    "            l, r = 0, 0\n",
    "        if l > 1 and l - r > 0:\n",
    "            res += c\n",
    "    return res"
   ]
  },
  {
   "cell_type": "code",
   "execution_count": 2,
   "metadata": {},
   "outputs": [
    {
     "data": {
      "text/plain": [
       "'()()()'"
      ]
     },
     "execution_count": 2,
     "metadata": {},
     "output_type": "execute_result"
    }
   ],
   "source": [
    "removeOuterParentheses(\"(()())(())\")"
   ]
  },
  {
   "cell_type": "code",
   "execution_count": 3,
   "metadata": {},
   "outputs": [
    {
     "data": {
      "text/plain": [
       "'()()()()(())'"
      ]
     },
     "execution_count": 3,
     "metadata": {},
     "output_type": "execute_result"
    }
   ],
   "source": [
    "removeOuterParentheses(\"(()())(())(()(()))\")"
   ]
  },
  {
   "cell_type": "code",
   "execution_count": 4,
   "metadata": {},
   "outputs": [
    {
     "data": {
      "text/plain": [
       "''"
      ]
     },
     "execution_count": 4,
     "metadata": {},
     "output_type": "execute_result"
    }
   ],
   "source": [
    "removeOuterParentheses(\"()()\")"
   ]
  },
  {
   "cell_type": "code",
   "execution_count": null,
   "metadata": {},
   "outputs": [],
   "source": []
  }
 ],
 "metadata": {
  "kernelspec": {
   "display_name": "Python 3",
   "language": "python",
   "name": "python3"
  },
  "language_info": {
   "codemirror_mode": {
    "name": "ipython",
    "version": 3
   },
   "file_extension": ".py",
   "mimetype": "text/x-python",
   "name": "python",
   "nbconvert_exporter": "python",
   "pygments_lexer": "ipython3",
   "version": "3.6.5"
  }
 },
 "nbformat": 4,
 "nbformat_minor": 2
}
