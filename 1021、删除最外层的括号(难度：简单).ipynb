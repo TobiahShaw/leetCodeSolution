{
  "cells": [
    {
      "metadata": {
        "collapsed": true
      },
      "cell_type": "markdown",
      "source": "# 删除最外层的括号\n\n**题目来源：力扣（LeetCode）**\n\n**链接：https://leetcode-cn.com/problems/same-tree/**\n\n## 一、题目\n\n有效括号字符串为空 (\"\")、\"(\" + A + \")\" 或 A + B，其中 A 和 B 都是有效的括号字符串，+ 代表字符串的连接。例如，\"\"，\"()\"，\"(())()\" 和 \"(()(()))\" 都是有效的括号字符串。\n\n如果有效字符串 S 非空，且不存在将其拆分为 S = A+B 的方法，我们称其为原语（primitive），其中 A 和 B 都是非空有效括号字符串。\n\n给出一个非空有效字符串 S，考虑将其进行原语化分解，使得：S = P_1 + P_2 + ... + P_k，其中 P_i 是有效括号字符串原语。\n\n对 S 进行原语化分解，删除分解中每个原语字符串的最外层括号，返回 S 。\n\n## 二、示例\n\n### 示例 1：\n\n输入：\"(()())(())\"\n\n输出：\"()()()\"\n\n解释：\n\n输入字符串为 \"(()())(())\"，原语化分解得到 \"(()())\" + \"(())\"，删除每个部分中的最外层括号后得到 \"()()\" + \"()\" = \"()()()\"。\n\n### 示例 2：\n\n输入：\"(()())(())(()(()))\"\n\n输出：\"()()()()(())\"\n\n解释：\n\n输入字符串为 \"(()())(())(()(()))\"，原语化分解得到 \"(()())\" + \"(())\" + \"(()(()))\"，删除每隔部分中的最外层括号后得到 \"()()\" + \"()\" + \"()(())\" = \"()()()()(())\"。\n\n### 示例 3：\n\n输入：\"()()\"\n\n输出：\"\"\n\n解释：\n\n输入字符串为 \"()()\"，原语化分解得到 \"()\" + \"()\"，删除每个部分中的最外层括号后得到 \"\" + \"\" = \"\"。\n\n## 三、解题思路\n\n### 计数"
    },
    {
      "metadata": {
        "trusted": true
      },
      "cell_type": "code",
      "source": "def removeOuterParentheses(S: str) -> str:\n    l, r = 0, 0\n    res = ''\n    for c in S:\n        if c == '(':\n            l += 1\n        else:\n            r += 1\n        if l == r:\n            l, r = 0, 0\n        if l > 1 and l - r > 0:\n            res += c\n    return res",
      "execution_count": 1,
      "outputs": []
    },
    {
      "metadata": {
        "trusted": true
      },
      "cell_type": "code",
      "source": "removeOuterParentheses(\"(()())(())\")",
      "execution_count": 2,
      "outputs": [
        {
          "output_type": "execute_result",
          "execution_count": 2,
          "data": {
            "text/plain": "'()()()'"
          },
          "metadata": {}
        }
      ]
    },
    {
      "metadata": {
        "trusted": true
      },
      "cell_type": "code",
      "source": "removeOuterParentheses(\"(()())(())(()(()))\")",
      "execution_count": 3,
      "outputs": [
        {
          "output_type": "execute_result",
          "execution_count": 3,
          "data": {
            "text/plain": "'()()()()(())'"
          },
          "metadata": {}
        }
      ]
    },
    {
      "metadata": {
        "trusted": true
      },
      "cell_type": "code",
      "source": "removeOuterParentheses(\"()()\")",
      "execution_count": 4,
      "outputs": [
        {
          "output_type": "execute_result",
          "execution_count": 4,
          "data": {
            "text/plain": "''"
          },
          "metadata": {}
        }
      ]
    },
    {
      "metadata": {
        "trusted": true
      },
      "cell_type": "code",
      "source": "",
      "execution_count": null,
      "outputs": []
    }
  ],
  "metadata": {
    "kernelspec": {
      "name": "python36",
      "display_name": "Python 3.6",
      "language": "python"
    },
    "language_info": {
      "mimetype": "text/x-python",
      "nbconvert_exporter": "python",
      "name": "python",
      "pygments_lexer": "ipython3",
      "version": "3.6.6",
      "file_extension": ".py",
      "codemirror_mode": {
        "version": 3,
        "name": "ipython"
      }
    }
  },
  "nbformat": 4,
  "nbformat_minor": 2
}