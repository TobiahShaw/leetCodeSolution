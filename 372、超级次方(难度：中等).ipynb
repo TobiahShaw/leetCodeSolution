{
 "cells": [
  {
   "cell_type": "markdown",
   "metadata": {},
   "source": [
    "# 超级次方\n",
    "\n",
    "**题目来源：力扣（LeetCode）**\n",
    "\n",
    "**链接：https://leetcode-cn.com/problems/super-pow/**\n",
    "\n",
    "## 一、题目\n",
    "\n",
    "你的任务是计算 $ a^b $ 对 1337 取模，a 是一个正整数，b 是一个非常大的正整数且会以数组形式给出。\n",
    "\n",
    "### 提示：\n",
    "\n",
    "- 1 <= a <= $ 2^{31} $ - 1\n",
    "- 1 <= b.length <= 2000\n",
    "- 0 <= b[i] <= 9\n",
    "- b 不含前导 0\n",
    "\n",
    "## 二、示例\n",
    "\n",
    "### 示例 1：\n",
    "\n",
    "输入：a = 2, b = [3]\n",
    "\n",
    "输出：8\n",
    "\n",
    "### 示例 2：\n",
    "\n",
    "输入：a = 2, b = [1,0]\n",
    "\n",
    "输出：1024\n",
    "\n",
    "### 示例 3：\n",
    "\n",
    "输入：a = 1, b = [4,3,3,8,5,2]\n",
    "\n",
    "输出：1\n",
    "\n",
    "### 示例 4：\n",
    "\n",
    "输入：a = 2147483647, b = [2,0,0]\n",
    "\n",
    "输出：1198\n",
    "\n",
    "## 三、解题思路\n",
    "\n",
    "### 递归"
   ]
  },
  {
   "cell_type": "code",
   "execution_count": 1,
   "metadata": {},
   "outputs": [],
   "source": [
    "def superPow(a: int, b) -> int:\n",
    "    MOD = 1337\n",
    "    def pow(a, b):\n",
    "        ret = 1\n",
    "        a %= MOD\n",
    "        while b > 0:\n",
    "            b -= 1\n",
    "            ret = (ret * a) % MOD\n",
    "        return ret\n",
    "    def dfs(a, b, u):\n",
    "        if u == -1:\n",
    "            return 1\n",
    "        return (pow(dfs(a, b, u-1), 10) * pow(a, b[u])) % MOD\n",
    "    return dfs(a, b, len(b) - 1)"
   ]
  },
  {
   "cell_type": "code",
   "execution_count": 2,
   "metadata": {},
   "outputs": [
    {
     "data": {
      "text/plain": [
       "8"
      ]
     },
     "execution_count": 2,
     "metadata": {},
     "output_type": "execute_result"
    }
   ],
   "source": [
    "superPow(a = 2, b = [3])"
   ]
  },
  {
   "cell_type": "code",
   "execution_count": 3,
   "metadata": {},
   "outputs": [
    {
     "data": {
      "text/plain": [
       "1024"
      ]
     },
     "execution_count": 3,
     "metadata": {},
     "output_type": "execute_result"
    }
   ],
   "source": [
    "superPow(a = 2, b = [1,0])"
   ]
  },
  {
   "cell_type": "code",
   "execution_count": 4,
   "metadata": {},
   "outputs": [
    {
     "data": {
      "text/plain": [
       "1"
      ]
     },
     "execution_count": 4,
     "metadata": {},
     "output_type": "execute_result"
    }
   ],
   "source": [
    "superPow(a = 1, b = [4,3,3,8,5,2])"
   ]
  },
  {
   "cell_type": "code",
   "execution_count": 5,
   "metadata": {},
   "outputs": [
    {
     "data": {
      "text/plain": [
       "1198"
      ]
     },
     "execution_count": 5,
     "metadata": {},
     "output_type": "execute_result"
    }
   ],
   "source": [
    "superPow(a = 2147483647, b = [2,0,0])"
   ]
  },
  {
   "cell_type": "code",
   "execution_count": null,
   "metadata": {},
   "outputs": [],
   "source": []
  }
 ],
 "metadata": {
  "kernelspec": {
   "display_name": "Python 3",
   "language": "python",
   "name": "python3"
  },
  "language_info": {
   "codemirror_mode": {
    "name": "ipython",
    "version": 3
   },
   "file_extension": ".py",
   "mimetype": "text/x-python",
   "name": "python",
   "nbconvert_exporter": "python",
   "pygments_lexer": "ipython3",
   "version": "3.6.5"
  }
 },
 "nbformat": 4,
 "nbformat_minor": 2
}
