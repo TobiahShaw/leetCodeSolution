{
 "cells": [
  {
   "cell_type": "markdown",
   "metadata": {},
   "source": [
    "# IPO\n",
    "\n",
    "**题目来源：力扣（LeetCode）**\n",
    "\n",
    "**链接：https://leetcode-cn.com/problems/ipo/**\n",
    "\n",
    "## 一、题目\n",
    "\n",
    "假设 力扣（LeetCode）即将开始 IPO 。为了以更高的价格将股票卖给风险投资公司，力扣 希望在 IPO 之前开展一些项目以增加其资本。 由于资源有限，它只能在 IPO 之前完成最多 k 个不同的项目。帮助 力扣 设计完成最多 k 个不同项目后得到最大总资本的方式。\n",
    "\n",
    "给你 n 个项目。对于每个项目 i ，它都有一个纯利润 profits[i] ，和启动该项目需要的最小资本 capital[i] 。\n",
    "\n",
    "最初，你的资本为 w 。当你完成一个项目时，你将获得纯利润，且利润将被添加到你的总资本中。\n",
    "\n",
    "总而言之，从给定项目中选择 最多 k 个不同项目的列表，以 最大化最终资本 ，并输出最终可获得的最多资本。\n",
    "\n",
    "答案保证在 32 位有符号整数范围内。\n",
    "\n",
    "## 二、示例\n",
    "\n",
    "### 示例 1：\n",
    "\n",
    "输入：k = 2, W = 0, Profits = [1,2,3], Capital = [0,1,1]\n",
    "\n",
    "输出：4\n",
    "\n",
    "解释：\n",
    "\n",
    "由于你的初始资本为 0，你仅可以从 0 号项目开始。在完成后，你将获得 1 的利润，你的总资本将变为 1。此时你可以选择开始 1 号或 2 号项目。由于你最多可以选择两个项目，所以你需要完成 2 号项目以获得最大的资本。因此，输出最后最大化的资本，为 0 + 1 + 3 = 4。\n",
    "\n",
    "### 示例 2：\n",
    "\n",
    "输入：k = 3, W = 0, Profits = [1,2,3], Capital = [0,1,2]\n",
    "\n",
    "输出：6\n",
    "\n",
    "## 三、解题思路\n",
    "\n",
    "### 大顶堆\n",
    "\n",
    "我们首先思考，如果不限制次数下我们可以获取的最大利润，我们应该如何处理？我们只需将所有的项目按照资本的大小进行排序，依次购入项目 i，同时手中持有的资本增加 profits[i]，直到手中的持有的资本无法启动当前的项目为止。\n",
    "\n",
    "- 如果初始资本 w ≥ max(capital)，我们直接返回利润中的 k 个最大元素的和即可。\n",
    "- 当前的题目中限定了可以选择的次数最多为 k 次，这就意味着我们应该贪心地保证选择每次投资的项目获取的利润最大，这样就能保持选择 k 次后获取的利润最大。\n",
    "- 我们首先将项目按照所需资本的从小到大进行排序，每次进行选择时，假设当前手中持有的资本为 w，我们应该从所有投入资本小于等于 w 的项目中选择利润最大的项目 j，然后此时我们更新手中持有的资本为 w + profits[j]，同时再从所有花费资本小于等于 w + profits[j] 的项目中选择，我们按照上述规则不断选择 k 次即可。\n",
    "- 我们利用大根堆的特性，我们将所有能够投资的项目的利润全部压入到堆中，每次从堆中取出最大值，然后更新手中持有的资本，同时将待选的项目利润进入堆，不断重复上述操作。\n",
    "- 如果当前的堆为空，则此时我们应当直接返回。\n",
    "\n",
    "作者：LeetCode-Solution\n",
    "链接：https://leetcode-cn.com/problems/ipo/solution/ipo-by-leetcode-solution-89zm/\n",
    "来源：力扣（LeetCode）\n",
    "著作权归作者所有。商业转载请联系作者获得授权，非商业转载请注明出处。"
   ]
  },
  {
   "cell_type": "code",
   "execution_count": 1,
   "metadata": {},
   "outputs": [],
   "source": [
    "def findMaximizedCapital(k: int, W: int, Profits, Capital) -> int:\n",
    "    import heapq\n",
    "    n = len(Profits)\n",
    "    # 把项目按照成本排序，好将小于W的项目的利润加到堆中\n",
    "    arr = [(Capital[i], Profits[i]) for i in range(n)]\n",
    "    arr.sort(key = lambda x : x[0])\n",
    "\n",
    "    heap = []\n",
    "    index = 0\n",
    "    for _ in range(k):\n",
    "        # 满足当前成本的项目加到堆中\n",
    "        while index < n and arr[index][0] <= W:\n",
    "            heapq.heappush(heap, -arr[index][1])\n",
    "            index += 1\n",
    "        if heap:\n",
    "            # 取出可以做的项目中利润最大的做，并获得利润加入本金\n",
    "            W += (-heapq.heappop(heap))\n",
    "        else:\n",
    "            break\n",
    "    return W"
   ]
  },
  {
   "cell_type": "code",
   "execution_count": 2,
   "metadata": {},
   "outputs": [
    {
     "data": {
      "text/plain": [
       "4"
      ]
     },
     "execution_count": 2,
     "metadata": {},
     "output_type": "execute_result"
    }
   ],
   "source": [
    "findMaximizedCapital(k = 2, W = 0, Profits = [1,2,3], Capital = [0,1,1])"
   ]
  },
  {
   "cell_type": "code",
   "execution_count": 3,
   "metadata": {},
   "outputs": [
    {
     "data": {
      "text/plain": [
       "6"
      ]
     },
     "execution_count": 3,
     "metadata": {},
     "output_type": "execute_result"
    }
   ],
   "source": [
    "findMaximizedCapital(k = 3, W = 0, Profits = [1,2,3], Capital = [0,1,2])"
   ]
  },
  {
   "cell_type": "code",
   "execution_count": null,
   "metadata": {},
   "outputs": [],
   "source": []
  }
 ],
 "metadata": {
  "kernelspec": {
   "display_name": "Python 3",
   "language": "python",
   "name": "python3"
  },
  "language_info": {
   "codemirror_mode": {
    "name": "ipython",
    "version": 3
   },
   "file_extension": ".py",
   "mimetype": "text/x-python",
   "name": "python",
   "nbconvert_exporter": "python",
   "pygments_lexer": "ipython3",
   "version": "3.6.5"
  }
 },
 "nbformat": 4,
 "nbformat_minor": 2
}
