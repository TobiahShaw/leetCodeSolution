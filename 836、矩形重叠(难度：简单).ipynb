{
 "cells": [
  {
   "cell_type": "markdown",
   "metadata": {},
   "source": [
    "# 矩形重叠\n",
    "\n",
    "**题目来源：力扣（LeetCode）**\n",
    "\n",
    "**链接：https://leetcode-cn.com/problems/rectangle-overlap/**\n",
    "\n",
    "## 一、题目\n",
    "\n",
    "矩形以列表 [x1, y1, x2, y2] 的形式表示，其中 (x1, y1) 为左下角的坐标，(x2, y2) 是右上角的坐标。\n",
    "\n",
    "如果相交的面积为正，则称两矩形重叠。需要明确的是，只在角或边接触的两个矩形不构成重叠。\n",
    "\n",
    "给出两个矩形，判断它们是否重叠并返回结果。\n",
    "\n",
    "提示：\n",
    "\n",
    "- 两个矩形 rec1 和 rec2 都以含有四个整数的列表的形式给出。\n",
    "- 矩形中的所有坐标都处于 -10^9 和 10^9 之间。\n",
    "- x 轴默认指向右，y 轴默认指向上。\n",
    "- 你可以仅考虑矩形是正放的情况。\n",
    "\n",
    "## 二、示例\n",
    "\n",
    "### 示例 1：\n",
    "\n",
    "输入：rec1 = [0,0,2,2], rec2 = [1,1,3,3]\n",
    "\n",
    "输出：true\n",
    "\n",
    "### 示例 2：\n",
    "\n",
    "输入：rec1 = [0,0,1,1], rec2 = [1,0,2,1]\n",
    "\n",
    "输出：false\n",
    "\n",
    "## 三、解题思路\n",
    "\n",
    "### 相对位置\n",
    "\n",
    "判断一个矩形是否在另一个的上下左右，否则的话两者有重叠部分"
   ]
  },
  {
   "cell_type": "code",
   "execution_count": 1,
   "metadata": {},
   "outputs": [],
   "source": [
    "def isRectangleOverlap(rec1, rec2) -> bool:\n",
    "    return not (rec1[2] <= rec2[0] or rec1[3] <= rec2[1] or rec1[0] >= rec2[2] or rec1[1] >= rec2[3])"
   ]
  },
  {
   "cell_type": "code",
   "execution_count": 2,
   "metadata": {},
   "outputs": [
    {
     "data": {
      "text/plain": [
       "True"
      ]
     },
     "execution_count": 2,
     "metadata": {},
     "output_type": "execute_result"
    }
   ],
   "source": [
    "isRectangleOverlap(rec1 = [0,0,2,2], rec2 = [1,1,3,3])"
   ]
  },
  {
   "cell_type": "code",
   "execution_count": 3,
   "metadata": {},
   "outputs": [
    {
     "data": {
      "text/plain": [
       "False"
      ]
     },
     "execution_count": 3,
     "metadata": {},
     "output_type": "execute_result"
    }
   ],
   "source": [
    "isRectangleOverlap(rec1 = [0,0,1,1], rec2 = [1,0,2,1])"
   ]
  },
  {
   "cell_type": "code",
   "execution_count": null,
   "metadata": {},
   "outputs": [],
   "source": []
  }
 ],
 "metadata": {
  "kernelspec": {
   "display_name": "Python 3",
   "language": "python",
   "name": "python3"
  },
  "language_info": {
   "codemirror_mode": {
    "name": "ipython",
    "version": 3
   },
   "file_extension": ".py",
   "mimetype": "text/x-python",
   "name": "python",
   "nbconvert_exporter": "python",
   "pygments_lexer": "ipython3",
   "version": "3.7.8"
  }
 },
 "nbformat": 4,
 "nbformat_minor": 4
}
