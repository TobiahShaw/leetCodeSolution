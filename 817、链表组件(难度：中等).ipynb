{
 "cells": [
  {
   "cell_type": "markdown",
   "metadata": {},
   "source": [
    "# 链表组件\n",
    "\n",
    "**题目来源：力扣（LeetCode）**\n",
    "\n",
    "**链接：https://leetcode-cn.com/problems/linked-list-components/**\n",
    "\n",
    "## 一、题目\n",
    "\n",
    "给定链表头结点 head，该链表上的每个结点都有一个 唯一的整型值 。同时给定列表 nums，该列表是上述链表中整型值的一个子集。\n",
    "\n",
    "返回列表 nums 中组件的个数，这里对组件的定义为：链表中一段最长连续结点的值（该值必须在列表 nums 中）构成的集合。\n",
    "\n",
    "### 提示：\n",
    "\n",
    "- 链表中节点数为n\n",
    "- 1 <= n <= 10^4\n",
    "- 0 <= Node.val < n\n",
    "- Node.val 中所有值 不同\n",
    "- 1 <= nums.length <= n\n",
    "- 0 <= nums[i] < n\n",
    "- nums 中所有值 不同\n",
    "\n",
    "## 二、示例\n",
    "\n",
    "### 示例 1：\n",
    "\n",
    "输入: head = [0,1,2,3], nums = [0,1,3]\n",
    "\n",
    "输出: 2\n",
    "\n",
    "解释: 链表中,0 和 1 是相连接的，且 nums 中不包含 2，所以 [0, 1] 是 nums 的一个组件，同理 [3] 也是一个组件，故返回 2。\n",
    "\n",
    "### 示例 2：\n",
    "\n",
    "输入: head = [0,1,2,3,4], nums = [0,3,1,4]\n",
    "\n",
    "输出: 2\n",
    "\n",
    "解释: 链表中，0 和 1 是相连接的，3 和 4 是相连接的，所以 [0, 1] 和 [3, 4] 是两个组件，故返回 2。\n",
    "\n",
    "## 三、解题思路"
   ]
  },
  {
   "cell_type": "code",
   "execution_count": 1,
   "metadata": {},
   "outputs": [],
   "source": [
    "class ListNode:\n",
    "    def __init__(self, val=0, next=None):\n",
    "        self.val = val\n",
    "        self.next = next\n",
    "\n",
    "def generateHead(head_arr):\n",
    "    if not head_arr:\n",
    "        return None\n",
    "    node = head = ListNode(head_arr[0])\n",
    "    n = len(head_arr)\n",
    "    for i in range(1, n):\n",
    "        node.next = ListNode(head_arr[i])\n",
    "        node = node.next\n",
    "    return head"
   ]
  },
  {
   "cell_type": "markdown",
   "metadata": {},
   "source": [
    "### 轮询"
   ]
  },
  {
   "cell_type": "code",
   "execution_count": 2,
   "metadata": {},
   "outputs": [],
   "source": [
    "def numComponents(head, nums) -> int:\n",
    "    nums_set = set(nums)\n",
    "    ret = 0\n",
    "    curLen = 0\n",
    "    while head:\n",
    "        if head.val in nums_set:\n",
    "            curLen += 1\n",
    "        else:\n",
    "            if curLen:\n",
    "                ret += 1\n",
    "            curLen = 0\n",
    "        head = head.next\n",
    "    if curLen > 0:\n",
    "        ret += 1\n",
    "    return ret"
   ]
  },
  {
   "cell_type": "code",
   "execution_count": 3,
   "metadata": {},
   "outputs": [
    {
     "data": {
      "text/plain": [
       "2"
      ]
     },
     "execution_count": 3,
     "metadata": {},
     "output_type": "execute_result"
    }
   ],
   "source": [
    "numComponents(generateHead([0,1,2,3]), [0,1,3])"
   ]
  },
  {
   "cell_type": "code",
   "execution_count": 4,
   "metadata": {},
   "outputs": [
    {
     "data": {
      "text/plain": [
       "2"
      ]
     },
     "execution_count": 4,
     "metadata": {},
     "output_type": "execute_result"
    }
   ],
   "source": [
    "numComponents(generateHead([0,1,2,3,4]), [0,3,1,4])"
   ]
  },
  {
   "cell_type": "code",
   "execution_count": null,
   "metadata": {},
   "outputs": [],
   "source": []
  }
 ],
 "metadata": {
  "kernelspec": {
   "display_name": "Python 3",
   "language": "python",
   "name": "python3"
  },
  "language_info": {
   "codemirror_mode": {
    "name": "ipython",
    "version": 3
   },
   "file_extension": ".py",
   "mimetype": "text/x-python",
   "name": "python",
   "nbconvert_exporter": "python",
   "pygments_lexer": "ipython3",
   "version": "3.6.5"
  }
 },
 "nbformat": 4,
 "nbformat_minor": 2
}
