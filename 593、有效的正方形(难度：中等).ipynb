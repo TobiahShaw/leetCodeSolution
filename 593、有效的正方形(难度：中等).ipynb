{
 "cells": [
  {
   "cell_type": "markdown",
   "metadata": {},
   "source": [
    "# 有效的正方形\n",
    "\n",
    "**题目来源：力扣（LeetCode）**\n",
    "\n",
    "**链接：https://leetcode-cn.com/problems/valid-square/**\n",
    "\n",
    "## 一、题目\n",
    "\n",
    "给定2D空间中四个点的坐标 p1, p2, p3 和 p4，如果这四个点构成一个正方形，则返回 true 。\n",
    "\n",
    "点的坐标 pi 表示为 [xi, yi] 。输入 不是 按任何顺序给出的。\n",
    "\n",
    "一个 有效的正方形 有四条等边和四个等角(90度角)。\n",
    "\n",
    "### 提示:\n",
    "\n",
    "- p1.length == p2.length == p3.length == p4.length == 2\n",
    "- -10^4 <= xi, yi <= 10^4\n",
    "\n",
    "## 二、示例\n",
    "\n",
    "### 示例 1：\n",
    "\n",
    "输入: p1 = [0,0], p2 = [1,1], p3 = [1,0], p4 = [0,1]\n",
    "\n",
    "输出: True\n",
    "\n",
    "### 示例 2:\n",
    "\n",
    "输入：p1 = [0,0], p2 = [1,1], p3 = [1,0], p4 = [0,12]\n",
    "\n",
    "输出：false\n",
    "\n",
    "### 示例 3:\n",
    "\n",
    "输入：p1 = [1,0], p2 = [-1,0], p3 = [0,1], p4 = [0,-1]\n",
    "\n",
    "输出：true\n",
    "\n",
    "## 三、解题思路\n",
    "\n",
    "### 利用正方形性质\n",
    "\n",
    "- 四边等长\n",
    "- 对角线等长\n",
    "- 边长和对角线长度均不为0"
   ]
  },
  {
   "cell_type": "code",
   "execution_count": 1,
   "metadata": {},
   "outputs": [],
   "source": [
    "def validSquare(p1, p2, p3, p4) -> bool:\n",
    "    def dictance(point1,point2):\n",
    "        res = (point1[0]-point2[0])*(point1[0]-point2[0]) + (point1[1]-point2[1])*(point1 [1]-point2[1]) \n",
    "        return res\n",
    "    arr = [p1,p2,p3,p4]\n",
    "    arr = sorted(arr,key= lambda x:(x[0],x[1]))\n",
    "    return dictance(arr[0],arr[1])!=0 and dictance(arr[0],arr[1]) == dictance(arr[1],arr[3]) \\\n",
    "        and dictance(arr[1],arr[3]) == dictance(arr[3],arr[2]) and dictance(arr[0],arr[3]) == dictance(arr[1],arr[2])"
   ]
  },
  {
   "cell_type": "code",
   "execution_count": 2,
   "metadata": {},
   "outputs": [
    {
     "data": {
      "text/plain": [
       "True"
      ]
     },
     "execution_count": 2,
     "metadata": {},
     "output_type": "execute_result"
    }
   ],
   "source": [
    "validSquare(p1 = [0,0], p2 = [1,1], p3 = [1,0], p4 = [0,1])"
   ]
  },
  {
   "cell_type": "code",
   "execution_count": 3,
   "metadata": {},
   "outputs": [
    {
     "data": {
      "text/plain": [
       "False"
      ]
     },
     "execution_count": 3,
     "metadata": {},
     "output_type": "execute_result"
    }
   ],
   "source": [
    "validSquare(p1 = [0,0], p2 = [1,1], p3 = [1,0], p4 = [0,12])"
   ]
  },
  {
   "cell_type": "code",
   "execution_count": 4,
   "metadata": {},
   "outputs": [
    {
     "data": {
      "text/plain": [
       "True"
      ]
     },
     "execution_count": 4,
     "metadata": {},
     "output_type": "execute_result"
    }
   ],
   "source": [
    "validSquare(p1 = [1,0], p2 = [-1,0], p3 = [0,1], p4 = [0,-1])"
   ]
  },
  {
   "cell_type": "code",
   "execution_count": null,
   "metadata": {},
   "outputs": [],
   "source": []
  }
 ],
 "metadata": {
  "kernelspec": {
   "display_name": "Python 3",
   "language": "python",
   "name": "python3"
  },
  "language_info": {
   "codemirror_mode": {
    "name": "ipython",
    "version": 3
   },
   "file_extension": ".py",
   "mimetype": "text/x-python",
   "name": "python",
   "nbconvert_exporter": "python",
   "pygments_lexer": "ipython3",
   "version": "3.6.5"
  }
 },
 "nbformat": 4,
 "nbformat_minor": 2
}
