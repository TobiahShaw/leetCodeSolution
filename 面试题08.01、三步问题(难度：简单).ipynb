{
  "cells": [
    {
      "metadata": {
        "collapsed": true
      },
      "cell_type": "markdown",
      "source": "# 三步问题\n\n**题目来源：力扣（LeetCode）**\n\n**链接：https://leetcode-cn.com/problems/three-steps-problem-lcci/**\n\n## 一、题目\n\n三步问题。有个小孩正在上楼梯，楼梯有n阶台阶，小孩一次可以上1阶、2阶或3阶。实现一种方法，计算小孩有多少种上楼梯的方式。结果可能很大，你需要对结果模1000000007。\n\n## 二、示例\n\n### 示例1:\n\n输入：n = 3 \n\n输出：4\n\n说明: 有四种走法\n\n### 示例2:\n\n输入：n = 5\n\n输出：13\n\n### 提示:\n\nn范围在[1, 1000000]之间\n\n## 三、解题思路\n\n### 动态规划\n\n和泰波那锲数一样，但是本题的用例比较大，所以要在每次计算结果模1000000007，否则返回结果会超长，并且后续计算会超时"
    },
    {
      "metadata": {
        "trusted": true
      },
      "cell_type": "code",
      "source": "def waysToStep(n: int) -> int:\n    if n < 2:\n        return 1\n    if n == 2:\n        return 2\n    zer, fir, sec = 1, 1, 2\n    for i in range(3, n+1):\n        thi = zer + fir + sec\n        zer = fir\n        fir = sec\n        sec = thi  % 1000000007\n    return sec",
      "execution_count": 1,
      "outputs": []
    },
    {
      "metadata": {
        "trusted": true
      },
      "cell_type": "code",
      "source": "waysToStep(3)",
      "execution_count": 2,
      "outputs": [
        {
          "output_type": "execute_result",
          "execution_count": 2,
          "data": {
            "text/plain": "4"
          },
          "metadata": {}
        }
      ]
    },
    {
      "metadata": {
        "trusted": true
      },
      "cell_type": "code",
      "source": "waysToStep(5)",
      "execution_count": 3,
      "outputs": [
        {
          "output_type": "execute_result",
          "execution_count": 3,
          "data": {
            "text/plain": "13"
          },
          "metadata": {}
        }
      ]
    },
    {
      "metadata": {
        "trusted": true
      },
      "cell_type": "code",
      "source": "waysToStep(1000000)",
      "execution_count": 4,
      "outputs": [
        {
          "output_type": "execute_result",
          "execution_count": 4,
          "data": {
            "text/plain": "746580045"
          },
          "metadata": {}
        }
      ]
    },
    {
      "metadata": {
        "trusted": true
      },
      "cell_type": "code",
      "source": "",
      "execution_count": null,
      "outputs": []
    }
  ],
  "metadata": {
    "kernelspec": {
      "name": "python36",
      "display_name": "Python 3.6",
      "language": "python"
    },
    "language_info": {
      "mimetype": "text/x-python",
      "nbconvert_exporter": "python",
      "name": "python",
      "pygments_lexer": "ipython3",
      "version": "3.6.6",
      "file_extension": ".py",
      "codemirror_mode": {
        "version": 3,
        "name": "ipython"
      }
    }
  },
  "nbformat": 4,
  "nbformat_minor": 2
}