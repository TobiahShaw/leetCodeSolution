{
 "cells": [
  {
   "cell_type": "markdown",
   "metadata": {},
   "source": [
    "# 不同的子序列\n",
    "\n",
    "**题目来源：力扣（LeetCode）**\n",
    "\n",
    "**链接：https://leetcode-cn.com/problems/distinct-subsequences/**\n",
    "\n",
    "## 一、题目\n",
    "\n",
    "给定一个字符串 s 和一个字符串 t ，计算在 s 的子序列中 t 出现的个数。\n",
    "\n",
    "字符串的一个 子序列 是指，通过删除一些（也可以不删除）字符且不干扰剩余字符相对位置所组成的新字符串。（例如，\"ACE\" 是 \"ABCDE\" 的一个子序列，而 \"AEC\" 不是）\n",
    "\n",
    "题目数据保证答案符合 32 位带符号整数范围。\n",
    "\n",
    "### 提示：\n",
    "\n",
    "- 0 <= s.length, t.length <= 1000\n",
    "- s 和 t 由英文字母组成\n",
    "\n",
    "## 二、示例\n",
    "\n",
    "### 示例 1：\n",
    "\n",
    "输入：s = \"rabbbit\", t = \"rabbit\"\n",
    "\n",
    "输出：3\n",
    "\n",
    "解释：\n",
    "\n",
    "如下图所示, 有 3 种可以从 s 中得到 \"rabbit\" 的方案。\n",
    "(上箭头符号 ^ 表示选取的字母)\n",
    "\n",
    "```\n",
    "rabbbit\n",
    "^^^^ ^^\n",
    "rabbbit\n",
    "^^ ^^^^\n",
    "rabbbit\n",
    "^^^ ^^^\n",
    "```\n",
    "\n",
    "### 示例 2：\n",
    "\n",
    "输入：s = \"babgbag\", t = \"bag\"\n",
    "\n",
    "输出：5\n",
    "\n",
    "解释：\n",
    "\n",
    "如下图所示, 有 5 种可以从 s 中得到 \"bag\" 的方案。 \n",
    "(上箭头符号 ^ 表示选取的字母)\n",
    "\n",
    "```\n",
    "babgbag\n",
    "^^ ^\n",
    "babgbag\n",
    "^^    ^\n",
    "babgbag\n",
    "^    ^^\n",
    "babgbag\n",
    "  ^  ^^\n",
    "babgbag\n",
    "    ^^^\n",
    "```\n",
    "\n",
    "## 三、解题思路\n",
    "\n",
    "### dfs"
   ]
  },
  {
   "cell_type": "code",
   "execution_count": 1,
   "metadata": {},
   "outputs": [],
   "source": [
    "def numDistinct(s: str, t: str) -> int:\n",
    "    def dfs(i, j):\n",
    "        if (i, j) in memo: return memo[(i, j)]\n",
    "        if i==len(s) or j==len(t): return 1 if j==len(t) else 0\n",
    "        res = 0\n",
    "        if s[i]==t[j]:\n",
    "            res += dfs(i+1, j+1)\n",
    "        res += dfs(i+1, j)\n",
    "        memo[(i, j)] = res\n",
    "        return res\n",
    "    memo = {}\n",
    "    return dfs(0, 0)"
   ]
  },
  {
   "cell_type": "code",
   "execution_count": 2,
   "metadata": {},
   "outputs": [
    {
     "data": {
      "text/plain": [
       "3"
      ]
     },
     "execution_count": 2,
     "metadata": {},
     "output_type": "execute_result"
    }
   ],
   "source": [
    "numDistinct(s = \"rabbbit\", t = \"rabbit\")"
   ]
  },
  {
   "cell_type": "code",
   "execution_count": 3,
   "metadata": {},
   "outputs": [
    {
     "data": {
      "text/plain": [
       "5"
      ]
     },
     "execution_count": 3,
     "metadata": {},
     "output_type": "execute_result"
    }
   ],
   "source": [
    "numDistinct(s = \"babgbag\", t = \"bag\")"
   ]
  },
  {
   "cell_type": "code",
   "execution_count": null,
   "metadata": {},
   "outputs": [],
   "source": []
  }
 ],
 "metadata": {
  "kernelspec": {
   "display_name": "Python 3",
   "language": "python",
   "name": "python3"
  },
  "language_info": {
   "codemirror_mode": {
    "name": "ipython",
    "version": 3
   },
   "file_extension": ".py",
   "mimetype": "text/x-python",
   "name": "python",
   "nbconvert_exporter": "python",
   "pygments_lexer": "ipython3",
   "version": "3.6.5"
  }
 },
 "nbformat": 4,
 "nbformat_minor": 2
}
