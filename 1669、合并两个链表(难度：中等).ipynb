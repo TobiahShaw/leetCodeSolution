{
 "cells": [
  {
   "cell_type": "markdown",
   "id": "9806d432",
   "metadata": {},
   "source": [
    "# 合并两个链表\n",
    "\n",
    "**题目来源：力扣（LeetCode）**\n",
    "\n",
    "**链接：https://leetcode.cn/problems/merge-in-between-linked-lists/**\n",
    "\n",
    "## 一、题目\n",
    "\n",
    "给你两个链表 list1 和 list2 ，它们包含的元素分别为 n 个和 m 个。\n",
    "\n",
    "请你将 list1 中下标从 a 到 b 的全部节点都删除，并将list2 接在被删除节点的位置。\n",
    "\n",
    "请你返回结果链表的头指针。\n",
    "\n",
    "### 提示：\n",
    "\n",
    "- 3 <= list1.length <= 10^4\n",
    "- 1 <= a <= b < list1.length - 1\n",
    "- 1 <= list2.length <= 10^4\n",
    "\n",
    "## 二、示例\n",
    "\n",
    "### 示例 1：\n",
    "\n",
    "输入：list1 = [0,1,2,3,4,5], a = 3, b = 4, list2 = [1000000,1000001,1000002]\n",
    "\n",
    "输出：[0,1,2,1000000,1000001,1000002,5]\n",
    "\n",
    "解释：我们删除 list1 中下标为 3 和 4 的两个节点，并将 list2 接在该位置。上图中蓝色的边和节点为答案链表。\n",
    "\n",
    "### 示例 2：\n",
    "\n",
    "\n",
    "输入：list1 = [0,1,2,3,4,5,6], a = 2, b = 5, list2 = [1000000,1000001,1000002,1000003,1000004]\n",
    "\n",
    "输出：[0,1,1000000,1000001,1000002,1000003,1000004,6]\n",
    "\n",
    "解释：上图中蓝色的边和节点为答案链表。\n",
    "\n",
    "## 三、解题思路\n",
    "\n",
    "### 模拟"
   ]
  },
  {
   "cell_type": "code",
   "execution_count": 1,
   "id": "9f1c94ea",
   "metadata": {},
   "outputs": [],
   "source": [
    "# Definition for singly-linked list.\n",
    "class ListNode:\n",
    "    def __init__(self, val=0, next=None):\n",
    "        self.val = val\n",
    "        self.next = next\n",
    "        \n",
    "class Solution:\n",
    "    def mergeInBetween(self, list1: ListNode, a: int, b: int, list2: ListNode) -> ListNode:\n",
    "        pre1 = list1\n",
    "        for _ in range(a - 1):\n",
    "            pre1 = pre1.next\n",
    "        pre2 = pre1\n",
    "        for _ in range(b - a + 2):\n",
    "            pre2 = pre2.next\n",
    "        pre1.next = list2\n",
    "        while list2.next:\n",
    "            list2 = list2.next\n",
    "        list2.next = pre2\n",
    "        return list1\n"
   ]
  },
  {
   "cell_type": "code",
   "execution_count": null,
   "id": "f4ca2723",
   "metadata": {},
   "outputs": [],
   "source": []
  }
 ],
 "metadata": {
  "kernelspec": {
   "display_name": "Python 3 (ipykernel)",
   "language": "python",
   "name": "python3"
  },
  "language_info": {
   "codemirror_mode": {
    "name": "ipython",
    "version": 3
   },
   "file_extension": ".py",
   "mimetype": "text/x-python",
   "name": "python",
   "nbconvert_exporter": "python",
   "pygments_lexer": "ipython3",
   "version": "3.11.0"
  }
 },
 "nbformat": 4,
 "nbformat_minor": 5
}
