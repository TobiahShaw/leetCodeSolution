{
 "cells": [
  {
   "cell_type": "markdown",
   "metadata": {},
   "source": [
    "# 给定数字能组成的最大时间\n",
    "\n",
    "**题目来源：力扣（LeetCode）**\n",
    "\n",
    "**链接：https://leetcode-cn.com/problems/largest-time-for-given-digits/**\n",
    "\n",
    "## 一、题目\n",
    "\n",
    "给定一个由 4 位数字组成的数组，返回可以设置的符合 24 小时制的最大时间。\n",
    "\n",
    "最小的 24 小时制时间是 00:00，而最大的是 23:59。从 00:00 （午夜）开始算起，过得越久，时间越大。\n",
    "\n",
    "以长度为 5 的字符串返回答案。如果不能确定有效时间，则返回空字符串。\n",
    "\n",
    "## 二、示例\n",
    "\n",
    "### 示例 1：\n",
    "\n",
    "输入：[1,2,3,4]\n",
    "\n",
    "输出：\"23:41\"\n",
    "\n",
    "### 示例 2：\n",
    "\n",
    "输入：[5,5,5,5]\n",
    "\n",
    "输出：\"\"\n",
    "\n",
    "## 三、解题思路\n",
    "\n",
    "### 降序全排列"
   ]
  },
  {
   "cell_type": "code",
   "execution_count": 1,
   "metadata": {},
   "outputs": [],
   "source": [
    "import itertools\n",
    "def largestTimeFromDigits(A) -> str:\n",
    "    A.sort(reverse=True)\n",
    "    for a,  b, c, d in itertools.permutations(A):\n",
    "        if a*10+b <24 and c*10+d<60:\n",
    "            return f\"{a}{b}:{c}{d}\"\n",
    "    return ''"
   ]
  },
  {
   "cell_type": "code",
   "execution_count": 2,
   "metadata": {},
   "outputs": [
    {
     "data": {
      "text/plain": [
       "'23:41'"
      ]
     },
     "execution_count": 2,
     "metadata": {},
     "output_type": "execute_result"
    }
   ],
   "source": [
    "largestTimeFromDigits([1,2,3,4])"
   ]
  },
  {
   "cell_type": "code",
   "execution_count": 3,
   "metadata": {},
   "outputs": [
    {
     "data": {
      "text/plain": [
       "''"
      ]
     },
     "execution_count": 3,
     "metadata": {},
     "output_type": "execute_result"
    }
   ],
   "source": [
    "largestTimeFromDigits([5,5,5,5])"
   ]
  },
  {
   "cell_type": "code",
   "execution_count": null,
   "metadata": {},
   "outputs": [],
   "source": []
  }
 ],
 "metadata": {
  "kernelspec": {
   "display_name": "Python 3",
   "language": "python",
   "name": "python3"
  },
  "language_info": {
   "codemirror_mode": {
    "name": "ipython",
    "version": 3
   },
   "file_extension": ".py",
   "mimetype": "text/x-python",
   "name": "python",
   "nbconvert_exporter": "python",
   "pygments_lexer": "ipython3",
   "version": "3.6.5"
  }
 },
 "nbformat": 4,
 "nbformat_minor": 2
}
