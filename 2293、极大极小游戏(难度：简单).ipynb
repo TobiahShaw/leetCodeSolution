{
 "cells": [
  {
   "cell_type": "markdown",
   "id": "90a0a0b3",
   "metadata": {},
   "source": [
    "# 极大极小游戏\n",
    "\n",
    "**题目来源：力扣（LeetCode）**\n",
    "\n",
    "**链接：https://leetcode.cn/problems/min-max-game/**\n",
    "\n",
    "## 一、题目\n",
    "\n",
    "给你一个下标从 0 开始的整数数组 nums ，其长度是 2 的幂。\n",
    "\n",
    "对 nums 执行下述算法：\n",
    "\n",
    "- 设 n 等于 nums 的长度，如果 n == 1 ，终止 算法过程。否则，创建 一个新的整数数组 newNums ，新数组长度为 n / 2 ，下标从 0 开始。\n",
    "- 对于满足 0 <= i < n / 2 的每个 偶数 下标 i ，将 newNums[i] 赋值 为 min(nums[2 * i], nums[2 * i + 1]) 。\n",
    "- 对于满足 0 <= i < n / 2 的每个 奇数 下标 i ，将 newNums[i] 赋值 为 max(nums[2 * i], nums[2 * i + 1]) 。\n",
    "- 用 newNums 替换 nums 。\n",
    "- 从步骤 1 开始 重复 整个过程。\n",
    "\n",
    "执行算法后，返回 nums 中剩下的那个数字。\n",
    "\n",
    "### 提示：\n",
    "\n",
    "- 1 <= nums.length <= 1024\n",
    "- 1 <= nums[i] <= 10^9\n",
    "- nums.length 是 2 的幂\n",
    "\n",
    "## 二、示例\n",
    "\n",
    "### 示例 1：\n",
    "\n",
    "输入：nums = [1,3,5,2,4,8,2,2]\n",
    "\n",
    "输出：1\n",
    "\n",
    "解释：重复执行算法会得到下述数组。\n",
    "\n",
    "- 第一轮：nums = [1,5,4,2]\n",
    "- 第二轮：nums = [1,4]\n",
    "- 第三轮：nums = [1]\n",
    "\n",
    "1 是最后剩下的那个数字，返回 1 。\n",
    "\n",
    "### 示例 2：\n",
    "\n",
    "输入：nums = [3]\n",
    "\n",
    "输出：3\n",
    "\n",
    "解释：3 就是最后剩下的数字，返回 3 。\n",
    "\n",
    "## 三、解题思路\n",
    "\n",
    "### 模拟过程"
   ]
  },
  {
   "cell_type": "code",
   "execution_count": 1,
   "id": "5444b9a3",
   "metadata": {},
   "outputs": [],
   "source": [
    "class Solution:\n",
    "    def minMaxGame(self, nums) -> int:\n",
    "        if len(nums) == 1:\n",
    "            return nums[0]\n",
    "        newNums = []\n",
    "        for i in range(0, len(nums) // 2):\n",
    "            if len(newNums) % 2 == 0:\n",
    "                newNums.append(min(nums[2 * i], nums[2 * i + 1]))\n",
    "            else:\n",
    "                newNums.append(max(nums[2 * i], nums[2 * i + 1]))\n",
    "        return self.minMaxGame(newNums)"
   ]
  },
  {
   "cell_type": "code",
   "execution_count": 2,
   "id": "c5738297",
   "metadata": {},
   "outputs": [
    {
     "data": {
      "text/plain": [
       "1"
      ]
     },
     "execution_count": 2,
     "metadata": {},
     "output_type": "execute_result"
    }
   ],
   "source": [
    "s = Solution()\n",
    "s.minMaxGame([1,3,5,2,4,8,2,2])"
   ]
  },
  {
   "cell_type": "code",
   "execution_count": 3,
   "id": "61256fd8",
   "metadata": {},
   "outputs": [
    {
     "data": {
      "text/plain": [
       "3"
      ]
     },
     "execution_count": 3,
     "metadata": {},
     "output_type": "execute_result"
    }
   ],
   "source": [
    "s.minMaxGame([3])"
   ]
  },
  {
   "cell_type": "code",
   "execution_count": null,
   "id": "26ab1a1b",
   "metadata": {},
   "outputs": [],
   "source": []
  }
 ],
 "metadata": {
  "kernelspec": {
   "display_name": "Python 3 (ipykernel)",
   "language": "python",
   "name": "python3"
  },
  "language_info": {
   "codemirror_mode": {
    "name": "ipython",
    "version": 3
   },
   "file_extension": ".py",
   "mimetype": "text/x-python",
   "name": "python",
   "nbconvert_exporter": "python",
   "pygments_lexer": "ipython3",
   "version": "3.11.0"
  }
 },
 "nbformat": 4,
 "nbformat_minor": 5
}
