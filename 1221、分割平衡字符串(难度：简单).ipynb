{
 "cells": [
  {
   "cell_type": "markdown",
   "metadata": {
    "collapsed": true
   },
   "source": [
    "# 分割平衡字符串\n",
    "\n",
    "**题目来源：力扣（LeetCode）**\n",
    "\n",
    "**链接：https://leetcode-cn.com/problems/split-a-string-in-balanced-strings/**\n",
    "\n",
    "## 一、题目\n",
    "\n",
    "在一个「平衡字符串」中，'L' 和 'R' 字符的数量是相同的。\n",
    "\n",
    "给出一个平衡字符串 s，请你将它分割成尽可能多的平衡字符串。\n",
    "\n",
    "返回可以通过分割得到的平衡字符串的最大数量。\n",
    "\n",
    "### 提示：\n",
    "\n",
    "- 1 <= s.length <= 1000\n",
    "- s[i] = 'L' 或 'R'\n",
    "- s 是一个 平衡 字符串\n",
    "\n",
    "## 二、示例\n",
    "\n",
    "### 示例 1:\n",
    "\n",
    "输入：s = \"RLRRLLRLRL\"\n",
    "\n",
    "输出：4\n",
    "\n",
    "解释：s 可以分割为 \"RL\", \"RRLL\", \"RL\", \"RL\", 每个子字符串中都包含相同数量的 'L' 和 'R'。\n",
    "\n",
    "### 示例 2:\n",
    "\n",
    "输入：s = \"RLLLLRRRLR\"\n",
    "\n",
    "输出：3\n",
    "\n",
    "解释：s 可以分割为 \"RL\", \"LLLRRR\", \"LR\", 每个子字符串中都包含相同数量的 'L' 和 'R'。\n",
    "\n",
    "### 示例 3:\n",
    "\n",
    "输入：s = \"LLLLRRRR\"\n",
    "\n",
    "输出：1\n",
    "\n",
    "解释：s 只能保持原样 \"LLLLRRRR\".\n",
    "\n",
    "### 示例 4：\n",
    "\n",
    "输入：s = \"RLRRRLLRLL\"\n",
    "\n",
    "输出：2\n",
    "\n",
    "解释：s 可以分割为 \"RL\"、\"RRRLLRLL\" ，每个子字符串中都包含相同数量的 'L' 和 'R' 。\n",
    "\n",
    "## 三、解题思路\n",
    "\n",
    "### 贪心算法\n",
    "\n",
    "设置一个标致stack，每当出现L则自加1，否则则自减1，之后判断，当stack等于0的时候，即得到一个最短的平衡字符串，此时结果加1即可。"
   ]
  },
  {
   "cell_type": "code",
   "execution_count": 1,
   "metadata": {},
   "outputs": [],
   "source": [
    "def balancedStringSplit(s):\n",
    "    num = 0\n",
    "    stack = 0\n",
    "    for c in s:\n",
    "        if c == 'L':\n",
    "            stack += 1\n",
    "        else:\n",
    "            stack -= 1\n",
    "        if stack == 0:\n",
    "            num += 1\n",
    "    return num"
   ]
  },
  {
   "cell_type": "code",
   "execution_count": 2,
   "metadata": {},
   "outputs": [
    {
     "data": {
      "text/plain": [
       "4"
      ]
     },
     "execution_count": 2,
     "metadata": {},
     "output_type": "execute_result"
    }
   ],
   "source": [
    "balancedStringSplit(\"RLRRLLRLRL\")"
   ]
  },
  {
   "cell_type": "code",
   "execution_count": 3,
   "metadata": {},
   "outputs": [
    {
     "data": {
      "text/plain": [
       "3"
      ]
     },
     "execution_count": 3,
     "metadata": {},
     "output_type": "execute_result"
    }
   ],
   "source": [
    "balancedStringSplit(\"RLLLLRRRLR\")"
   ]
  },
  {
   "cell_type": "code",
   "execution_count": 4,
   "metadata": {},
   "outputs": [
    {
     "data": {
      "text/plain": [
       "1"
      ]
     },
     "execution_count": 4,
     "metadata": {},
     "output_type": "execute_result"
    }
   ],
   "source": [
    "balancedStringSplit(\"LLLLRRRR\")"
   ]
  },
  {
   "cell_type": "code",
   "execution_count": null,
   "metadata": {},
   "outputs": [],
   "source": []
  }
 ],
 "metadata": {
  "kernelspec": {
   "display_name": "Python 3",
   "language": "python",
   "name": "python3"
  },
  "language_info": {
   "codemirror_mode": {
    "name": "ipython",
    "version": 3
   },
   "file_extension": ".py",
   "mimetype": "text/x-python",
   "name": "python",
   "nbconvert_exporter": "python",
   "pygments_lexer": "ipython3",
   "version": "3.6.5"
  }
 },
 "nbformat": 4,
 "nbformat_minor": 2
}
