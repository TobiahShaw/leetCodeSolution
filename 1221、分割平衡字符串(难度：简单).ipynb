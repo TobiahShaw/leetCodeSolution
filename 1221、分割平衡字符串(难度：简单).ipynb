{
  "cells": [
    {
      "metadata": {
        "collapsed": true
      },
      "cell_type": "markdown",
      "source": "# 分割平衡字符串\n\n**题目来源：力扣（LeetCode）**\n\n**链接：https://leetcode-cn.com/problems/split-a-string-in-balanced-strings/**\n\n## 一、题目\n\n在一个「平衡字符串」中，'L' 和 'R' 字符的数量是相同的。\n\n给出一个平衡字符串 s，请你将它分割成尽可能多的平衡字符串。\n\n返回可以通过分割得到的平衡字符串的最大数量。\n\n## 二、示例\n\n### 示例一\n\n输入：s = \"RLRRLLRLRL\"\n\n输出：4\n\n解释：s 可以分割为 \"RL\", \"RRLL\", \"RL\", \"RL\", 每个子字符串中都包含相同数量的 'L' 和 'R'。\n\n### 示例二\n\n输入：s = \"RLLLLRRRLR\"\n\n输出：3\n\n解释：s 可以分割为 \"RL\", \"LLLRRR\", \"LR\", 每个子字符串中都包含相同数量的 'L' 和 'R'。\n\n### 示例三\n\n输入：s = \"LLLLRRRR\"\n\n输出：1\n\n解释：s 只能保持原样 \"LLLLRRRR\"."
    },
    {
      "metadata": {
        "trusted": true
      },
      "cell_type": "code",
      "source": "",
      "execution_count": null,
      "outputs": []
    }
  ],
  "metadata": {
    "kernelspec": {
      "name": "python36",
      "display_name": "Python 3.6",
      "language": "python"
    },
    "language_info": {
      "mimetype": "text/x-python",
      "nbconvert_exporter": "python",
      "name": "python",
      "pygments_lexer": "ipython3",
      "version": "3.6.6",
      "file_extension": ".py",
      "codemirror_mode": {
        "version": 3,
        "name": "ipython"
      }
    }
  },
  "nbformat": 4,
  "nbformat_minor": 2
}