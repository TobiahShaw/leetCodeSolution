{
 "cells": [
  {
   "cell_type": "markdown",
   "metadata": {},
   "source": [
    "# 接雨水II\n",
    "\n",
    "**题目来源：力扣（LeetCode）**\n",
    "\n",
    "**链接：https://leetcode-cn.com/problems/trapping-rain-water-ii/**\n",
    "\n",
    "## 一、题目\n",
    "\n",
    "给你一个 m x n 的矩阵，其中的值均为非负整数，代表二维高度图每个单元的高度，请计算图中形状最多能接多少体积的雨水。\n",
    "\n",
    "### 提示:\n",
    "\n",
    "- m == heightMap.length\n",
    "- n == heightMap[i].length\n",
    "- 1 <= m, n <= 200\n",
    "- 0 <= heightMap[i][j] <= 2 * 10^4\n",
    "\n",
    "## 二、示例\n",
    "\n",
    "### 示例 1：\n",
    "\n",
    "输入: heightMap = [[1,4,3,1,3,2],[3,2,1,3,2,4],[2,3,3,2,3,1]]\n",
    "\n",
    "输出: 4\n",
    "\n",
    "解释: 下雨后，总的接雨水量为1+2+1=4。\n",
    "\n",
    "### 示例 2:\n",
    "\n",
    "输入: heightMap = [[3,3,3,3,3],[3,2,2,2,3],[3,2,1,2,3],[3,2,2,2,3],[3,3,3,3,3]]\n",
    "\n",
    "输出: 10\n",
    "\n",
    "## 三、解题思路\n",
    "\n",
    "### 最小堆"
   ]
  },
  {
   "cell_type": "code",
   "execution_count": 1,
   "metadata": {},
   "outputs": [],
   "source": [
    "def trapRainWater(heightMap) -> int:\n",
    "    import heapq\n",
    "    if len(heightMap) <= 2 or len(heightMap[0]) <= 2:\n",
    "        return 0\n",
    "\n",
    "    m, n = len(heightMap), len(heightMap[0])\n",
    "    visited = [[0 for _ in range(n)] for _ in range(m)]\n",
    "    pq = []\n",
    "    for i in range(m):\n",
    "        for j in range(n):\n",
    "            if i == 0 or i == m - 1 or j == 0 or j == n - 1:\n",
    "                visited[i][j] = 1\n",
    "                heapq.heappush(pq, (heightMap[i][j], i * n + j))\n",
    "    \n",
    "    res = 0\n",
    "    dirs = [-1, 0, 1, 0, -1]\n",
    "    while pq:\n",
    "        height, position = heapq.heappop(pq)\n",
    "        for k in range(4):\n",
    "            nx, ny = position // n + dirs[k], position % n + dirs[k + 1]\n",
    "            if nx >= 0 and nx < m and ny >= 0 and ny < n and visited[nx][ny] == 0:\n",
    "                if height > heightMap[nx][ny]:\n",
    "                    res += height - heightMap[nx][ny]\n",
    "                visited[nx][ny] = 1    \n",
    "                heapq.heappush(pq, (max(height, heightMap[nx][ny]), nx * n + ny))\n",
    "    return res"
   ]
  },
  {
   "cell_type": "code",
   "execution_count": 2,
   "metadata": {},
   "outputs": [
    {
     "data": {
      "text/plain": [
       "4"
      ]
     },
     "execution_count": 2,
     "metadata": {},
     "output_type": "execute_result"
    }
   ],
   "source": [
    "trapRainWater([[1,4,3,1,3,2],[3,2,1,3,2,4],[2,3,3,2,3,1]])"
   ]
  },
  {
   "cell_type": "code",
   "execution_count": 3,
   "metadata": {},
   "outputs": [
    {
     "data": {
      "text/plain": [
       "10"
      ]
     },
     "execution_count": 3,
     "metadata": {},
     "output_type": "execute_result"
    }
   ],
   "source": [
    "trapRainWater([[3,3,3,3,3],[3,2,2,2,3],[3,2,1,2,3],[3,2,2,2,3],[3,3,3,3,3]])"
   ]
  },
  {
   "cell_type": "code",
   "execution_count": null,
   "metadata": {},
   "outputs": [],
   "source": []
  }
 ],
 "metadata": {
  "kernelspec": {
   "display_name": "Python 3",
   "language": "python",
   "name": "python3"
  },
  "language_info": {
   "codemirror_mode": {
    "name": "ipython",
    "version": 3
   },
   "file_extension": ".py",
   "mimetype": "text/x-python",
   "name": "python",
   "nbconvert_exporter": "python",
   "pygments_lexer": "ipython3",
   "version": "3.6.5"
  }
 },
 "nbformat": 4,
 "nbformat_minor": 2
}
