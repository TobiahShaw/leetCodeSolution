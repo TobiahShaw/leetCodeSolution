{
 "cells": [
  {
   "cell_type": "markdown",
   "id": "a7edb802",
   "metadata": {},
   "source": [
    "# 自定义字符串排序\n",
    "\n",
    "**题目来源：力扣（LeetCode）**\n",
    "\n",
    "**链接：https://leetcode.cn/problems/custom-sort-string/**\n",
    "\n",
    "## 一、题目\n",
    "\n",
    "给定两个字符串 order 和 s 。order 的所有单词都是 唯一 的，并且以前按照一些自定义的顺序排序。\n",
    "\n",
    "对 s 的字符进行置换，使其与排序的 order 相匹配。更具体地说，如果在 order 中的字符 x 出现字符 y 之前，那么在排列后的字符串中， x 也应该出现在 y 之前。\n",
    "\n",
    "返回 满足这个性质的 s 的任意排列 。\n",
    "\n",
    "### 提示：\n",
    "\n",
    "- 1 <= order.length <= 26\n",
    "- 1 <= s.length <= 200\n",
    "- order 和 s 由小写英文字母组成\n",
    "- order 中的所有字符都 不同\n",
    "\n",
    "## 二、示例\n",
    "\n",
    "### 示例 1：\n",
    "\n",
    "输入: order = \"cba\", s = \"abcd\"\n",
    "\n",
    "输出: \"cbad\"\n",
    "\n",
    "解释: “a”、“b”、“c”是按顺序出现的，所以“a”、“b”、“c”的顺序应该是“c”、“b”、“a”。因为“d”不是按顺序出现的，所以它可以在返回的字符串中的任何位置。“dcba”、“cdba”、“cbda”也是有效的输出。\n",
    "\n",
    "### 示例 2:\n",
    "\n",
    "输入: order = \"cbafg\", s = \"abcd\"\n",
    "\n",
    "输出: \"cbad\"\n",
    "\n",
    "## 三、解题思路\n",
    "\n",
    "### 一、利用字典"
   ]
  },
  {
   "cell_type": "code",
   "execution_count": 1,
   "id": "2f7ff2ab",
   "metadata": {},
   "outputs": [],
   "source": [
    "class Solution:\n",
    "    def customSortString(self, order: str, s: str) -> str:\n",
    "        dic = {}\n",
    "        for i in range(len(order)):\n",
    "            dic[order[i]] = i + 1\n",
    "        return \"\".join(sorted(s, key=lambda x:dic.get(x, 0)))"
   ]
  },
  {
   "cell_type": "code",
   "execution_count": 2,
   "id": "8e5d020f",
   "metadata": {},
   "outputs": [
    {
     "data": {
      "text/plain": [
       "'dcba'"
      ]
     },
     "execution_count": 2,
     "metadata": {},
     "output_type": "execute_result"
    }
   ],
   "source": [
    "s = Solution()\n",
    "s.customSortString(\"cba\", \"abcd\")"
   ]
  },
  {
   "cell_type": "code",
   "execution_count": 3,
   "id": "be2c4dbd",
   "metadata": {},
   "outputs": [
    {
     "data": {
      "text/plain": [
       "'dcba'"
      ]
     },
     "execution_count": 3,
     "metadata": {},
     "output_type": "execute_result"
    }
   ],
   "source": [
    "s.customSortString(\"cbafg\", \"abcd\")"
   ]
  },
  {
   "cell_type": "code",
   "execution_count": null,
   "id": "60f5b82e",
   "metadata": {},
   "outputs": [],
   "source": []
  }
 ],
 "metadata": {
  "kernelspec": {
   "display_name": "Python 3 (ipykernel)",
   "language": "python",
   "name": "python3"
  },
  "language_info": {
   "codemirror_mode": {
    "name": "ipython",
    "version": 3
   },
   "file_extension": ".py",
   "mimetype": "text/x-python",
   "name": "python",
   "nbconvert_exporter": "python",
   "pygments_lexer": "ipython3",
   "version": "3.9.10+"
  }
 },
 "nbformat": 4,
 "nbformat_minor": 5
}
