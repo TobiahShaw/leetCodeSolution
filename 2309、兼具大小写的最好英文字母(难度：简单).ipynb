{
 "cells": [
  {
   "cell_type": "markdown",
   "metadata": {},
   "source": [
    "# 兼具大小写的最好英文字母\n",
    "\n",
    "**题目来源：力扣（LeetCode）**\n",
    "\n",
    "**链接：https://leetcode.cn/problems/greatest-english-letter-in-upper-and-lower-case/**\n",
    "\n",
    "## 一、题目\n",
    "\n",
    "给你一个由英文字母组成的字符串 s ，请你找出并返回 s 中的 最好 英文字母。返回的字母必须为大写形式。如果不存在满足条件的字母，则返回一个空字符串。\n",
    "\n",
    "最好 英文字母的大写和小写形式必须 都 在 s 中出现。\n",
    "\n",
    "英文字母 b 比另一个英文字母 a 更好 的前提是：英文字母表中，b 在 a 之 后 出现。\n",
    "\n",
    "### 提示：\n",
    "\n",
    "- 1 <= s.length <= 1000\n",
    "- s 由小写和大写英文字母组成\n",
    "\n",
    "## 二、示例\n",
    "\n",
    "### 示例 1:\n",
    "\n",
    "输入：s = \"lEeTcOdE\"\n",
    "\n",
    "输出：\"E\"\n",
    "\n",
    "解释：字母 'E' 是唯一一个大写和小写形式都出现的字母。\n",
    "\n",
    "### 示例 2：\n",
    "\n",
    "输入：s = \"arRAzFif\"\n",
    "\n",
    "输出：\"R\"\n",
    "\n",
    "解释：字母 'R' 是大写和小写形式都出现的最好英文字母。注意 'A' 和 'F' 的大写和小写形式也都出现了，但是 'R' 比 'F' 和 'A' 更好。\n",
    "\n",
    "### 示例 3：\n",
    "\n",
    "输入：s = \"AbCdEfGhIjK\"\n",
    "\n",
    "输出：\"\"\n",
    "\n",
    "解释：不存在大写和小写形式都出现的字母。\n",
    "\n",
    "## 三、解题思路\n",
    "\n",
    "### 模拟"
   ]
  },
  {
   "cell_type": "code",
   "execution_count": 1,
   "metadata": {},
   "outputs": [],
   "source": [
    "def greatestLetter(s: str) -> str:\n",
    "    ret = ''\n",
    "    for ID in range(26):\n",
    "        cc = chr(ord('A') + ID)\n",
    "        ok1 = False\n",
    "        ok2 = False\n",
    "        for c in s:\n",
    "            if c == cc.lower():\n",
    "                ok1 = True\n",
    "            elif c == cc:\n",
    "                ok2 = True\n",
    "        if ok1 and ok2:\n",
    "            ret = cc\n",
    "\n",
    "    return ret"
   ]
  },
  {
   "cell_type": "code",
   "execution_count": 2,
   "metadata": {},
   "outputs": [
    {
     "data": {
      "text/plain": [
       "'E'"
      ]
     },
     "execution_count": 2,
     "metadata": {},
     "output_type": "execute_result"
    }
   ],
   "source": [
    "greatestLetter(\"lEeTcOdE\")"
   ]
  },
  {
   "cell_type": "code",
   "execution_count": 3,
   "metadata": {},
   "outputs": [
    {
     "data": {
      "text/plain": [
       "'R'"
      ]
     },
     "execution_count": 3,
     "metadata": {},
     "output_type": "execute_result"
    }
   ],
   "source": [
    "greatestLetter(\"arRAzFif\")"
   ]
  },
  {
   "cell_type": "code",
   "execution_count": 4,
   "metadata": {},
   "outputs": [
    {
     "data": {
      "text/plain": [
       "''"
      ]
     },
     "execution_count": 4,
     "metadata": {},
     "output_type": "execute_result"
    }
   ],
   "source": [
    "greatestLetter(\"AbCdEfGhIjK\")"
   ]
  },
  {
   "cell_type": "code",
   "execution_count": null,
   "metadata": {},
   "outputs": [],
   "source": []
  }
 ],
 "metadata": {
  "kernelspec": {
   "display_name": "Python 3",
   "language": "python",
   "name": "python3"
  },
  "language_info": {
   "codemirror_mode": {
    "name": "ipython",
    "version": 3
   },
   "file_extension": ".py",
   "mimetype": "text/x-python",
   "name": "python",
   "nbconvert_exporter": "python",
   "pygments_lexer": "ipython3",
   "version": "3.6.5"
  }
 },
 "nbformat": 4,
 "nbformat_minor": 2
}
