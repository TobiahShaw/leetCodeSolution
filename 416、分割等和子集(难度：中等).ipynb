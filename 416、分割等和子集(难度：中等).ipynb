{
 "cells": [
  {
   "cell_type": "markdown",
   "metadata": {},
   "source": [
    "# 分割等和子集\n",
    "\n",
    "**题目来源：力扣（LeetCode）**\n",
    "\n",
    "**链接：https://leetcode-cn.com/problems/partition-equal-subset-sum/**\n",
    "\n",
    "## 一、题目\n",
    "\n",
    "给你一个 只包含正整数 的 非空 数组 nums 。请你判断是否可以将这个数组分割成两个子集，使得两个子集的元素和相等。\n",
    "\n",
    "### 提示：\n",
    "\n",
    "- 1 <= nums.length <= 200\n",
    "- 1 <= nums[i] <= 100\n",
    "\n",
    "## 二、示例\n",
    "\n",
    "### 示例 1：\n",
    "\n",
    "输入：nums = [1,5,11,5]\n",
    "\n",
    "输出：true\n",
    "\n",
    "解释：数组可以分割成 [1, 5, 5] 和 [11] 。\n",
    "\n",
    "### 示例 2：\n",
    "\n",
    "输入：nums = [1,2,3,5]\n",
    "\n",
    "输出：false\n",
    "\n",
    "解释：数组不能分割成两个元素和相等的子集。\n",
    "\n",
    "## 三、解题思路\n",
    "\n",
    "### 动态规划"
   ]
  },
  {
   "cell_type": "code",
   "execution_count": 1,
   "metadata": {},
   "outputs": [],
   "source": [
    "def canPartition(nums) -> bool:\n",
    "    n = len(nums)\n",
    "    if (n < 2):\n",
    "        return False\n",
    "    sumOfNums = 0\n",
    "    maxOfNums = nums[0]\n",
    "    for num in nums:\n",
    "        sumOfNums += num\n",
    "        maxOfNums = max(maxOfNums, num)\n",
    "    if sumOfNums % 2 != 0:\n",
    "        return False\n",
    "    target = sumOfNums // 2\n",
    "    if maxOfNums > target:\n",
    "        return False\n",
    "    dp = [[False for _ in range(target + 1)] for _ in range(n)]\n",
    "    for i in range(n):\n",
    "        dp[i][0] = True\n",
    "    dp[0][nums[0]] = True\n",
    "    for i in range(1, n):\n",
    "        num = nums[i]\n",
    "        for j in range(1, target + 1):\n",
    "            if j >= num:\n",
    "                dp[i][j] = dp[i-1][j] | dp[i-1][j-num]\n",
    "            else:\n",
    "                dp[i][j] = dp[i-1][j]\n",
    "    return dp[n-1][target]"
   ]
  },
  {
   "cell_type": "code",
   "execution_count": 2,
   "metadata": {},
   "outputs": [
    {
     "data": {
      "text/plain": [
       "True"
      ]
     },
     "execution_count": 2,
     "metadata": {},
     "output_type": "execute_result"
    }
   ],
   "source": [
    "canPartition([1,5,11,5])"
   ]
  },
  {
   "cell_type": "code",
   "execution_count": 3,
   "metadata": {},
   "outputs": [
    {
     "data": {
      "text/plain": [
       "False"
      ]
     },
     "execution_count": 3,
     "metadata": {},
     "output_type": "execute_result"
    }
   ],
   "source": [
    "canPartition([1,2,3,5])"
   ]
  },
  {
   "cell_type": "code",
   "execution_count": null,
   "metadata": {},
   "outputs": [],
   "source": []
  }
 ],
 "metadata": {
  "kernelspec": {
   "display_name": "Python 3",
   "language": "python",
   "name": "python3"
  },
  "language_info": {
   "codemirror_mode": {
    "name": "ipython",
    "version": 3
   },
   "file_extension": ".py",
   "mimetype": "text/x-python",
   "name": "python",
   "nbconvert_exporter": "python",
   "pygments_lexer": "ipython3",
   "version": "3.6.5"
  }
 },
 "nbformat": 4,
 "nbformat_minor": 2
}
