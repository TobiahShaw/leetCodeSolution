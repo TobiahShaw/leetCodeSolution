{
 "cells": [
  {
   "cell_type": "markdown",
   "metadata": {},
   "source": [
    "# 重排链表\n",
    "\n",
    "**题目来源：力扣（LeetCode）**\n",
    "\n",
    "**链接：https://leetcode-cn.com/problems/reorder-list/**\n",
    "\n",
    "## 一、题目\n",
    "\n",
    "给定一个单链表 L：L0→L1→…→Ln-1→Ln ，\n",
    "\n",
    "将其重新排列后变为： L0→Ln→L1→Ln-1→L2→Ln-2→…\n",
    "\n",
    "你不能只是单纯的改变节点内部的值，而是需要实际的进行节点交换。\n",
    "\n",
    "### 提示：\n",
    "\n",
    "- 链表的长度范围为 [1, 5 * 10^4]\n",
    "- 1 <= node.val <= 1000\n",
    "\n",
    "## 二、示例\n",
    "\n",
    "### 示例 1:\n",
    "\n",
    "输入：head = [1,2,3,4]\n",
    "\n",
    "输出：[1,4,2,3]\n",
    "\n",
    "### 示例 2:\n",
    "\n",
    "输入：head = [1,2,3,4,5]\n",
    "\n",
    "输出：[1,5,2,4,3]\n",
    "\n",
    "## 三、解题思路"
   ]
  },
  {
   "cell_type": "code",
   "execution_count": 1,
   "metadata": {},
   "outputs": [],
   "source": [
    "class ListNode:\n",
    "    def __init__(self, val=0, next=None):\n",
    "        self.val = val\n",
    "        self.next = next"
   ]
  },
  {
   "cell_type": "code",
   "execution_count": 2,
   "metadata": {},
   "outputs": [],
   "source": [
    "head = ListNode(1)\n",
    "head.next = ListNode(2)\n",
    "head.next.next = ListNode(3)\n",
    "head.next.next.next = ListNode(4)\n",
    "\n",
    "head2 = ListNode(1)\n",
    "head2.next = ListNode(2)\n",
    "head2.next.next = ListNode(3)\n",
    "head2.next.next.next = ListNode(4)\n",
    "head2.next.next.next.next = ListNode(5)"
   ]
  },
  {
   "cell_type": "code",
   "execution_count": 3,
   "metadata": {},
   "outputs": [],
   "source": [
    "def reorderList(head: ListNode):\n",
    "    if not head or not head.next:   #节点为空或1个，直接返回\n",
    "        return head\n",
    "    end, slow, fast = head, head, head\n",
    "    while fast and fast.next:       #查找中点，偶数长度时为靠右节点\n",
    "        end = slow\n",
    "        slow = slow.next\n",
    "        fast = fast.next.next\n",
    "    end.next = None\n",
    "    \n",
    "    pre, cur = None, slow           #翻转链表\n",
    "    while cur:\n",
    "        temp = cur.next \n",
    "        cur.next = pre\n",
    "        pre = cur\n",
    "        cur = temp\n",
    "    first, second = head, pre\n",
    "    while first.next and second.next:   #链表拼接\n",
    "        temp2 = first.next\n",
    "        first.next = second\n",
    "        temp3 = second.next\n",
    "        second.next = temp2\n",
    "        first = temp2\n",
    "        second = temp3\n",
    "    if not first.next:      #奇数时，偶数后段直接拼接\n",
    "        first.next = second\n",
    "    return head"
   ]
  },
  {
   "cell_type": "code",
   "execution_count": 4,
   "metadata": {},
   "outputs": [],
   "source": [
    "def printNode(node):\n",
    "    while node:\n",
    "        print(node.val, end=' ')\n",
    "        node = node.next"
   ]
  },
  {
   "cell_type": "code",
   "execution_count": 5,
   "metadata": {},
   "outputs": [
    {
     "name": "stdout",
     "output_type": "stream",
     "text": [
      "1 4 2 3 "
     ]
    }
   ],
   "source": [
    "printNode(reorderList(head))"
   ]
  },
  {
   "cell_type": "code",
   "execution_count": 6,
   "metadata": {},
   "outputs": [
    {
     "name": "stdout",
     "output_type": "stream",
     "text": [
      "1 5 2 4 3 "
     ]
    }
   ],
   "source": [
    "printNode(reorderList(head2))"
   ]
  },
  {
   "cell_type": "code",
   "execution_count": null,
   "metadata": {},
   "outputs": [],
   "source": []
  }
 ],
 "metadata": {
  "kernelspec": {
   "display_name": "Python 3",
   "language": "python",
   "name": "python3"
  },
  "language_info": {
   "codemirror_mode": {
    "name": "ipython",
    "version": 3
   },
   "file_extension": ".py",
   "mimetype": "text/x-python",
   "name": "python",
   "nbconvert_exporter": "python",
   "pygments_lexer": "ipython3",
   "version": "3.6.5"
  }
 },
 "nbformat": 4,
 "nbformat_minor": 2
}
