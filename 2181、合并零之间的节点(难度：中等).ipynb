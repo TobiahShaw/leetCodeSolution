{
 "cells": [
  {
   "cell_type": "markdown",
   "metadata": {},
   "source": [
    "# 合并零之间的节点合并零之间的节点\n",
    "\n",
    "**题目来源：力扣（LeetCode）**\n",
    "\n",
    "**链接：https://leetcode.cn/problems/merge-nodes-in-between-zeros/**\n",
    "\n",
    "## 一、题目\n",
    "\n",
    "给你一个链表的头节点 head ，该链表包含由 0 分隔开的一连串整数。链表的 开端 和 末尾 的节点都满足 Node.val == 0 。\n",
    "\n",
    "对于每两个相邻的 0 ，请你将它们之间的所有节点合并成一个节点，其值是所有已合并节点的值之和。然后将所有 0 移除，修改后的链表不应该含有任何 0 。\n",
    "\n",
    "返回修改后链表的头节点 head 。\n",
    "\n",
    "### 提示：\n",
    "\n",
    "- 列表中的节点数目在范围 [3, 2 * 10^5] 内\n",
    "- 0 <= Node.val <= 1000\n",
    "- 不存在连续两个 Node.val == 0 的节点\n",
    "- 链表的 开端 和 末尾 节点都满足 Node.val == 0\n",
    "\n",
    "## 二、示例\n",
    "\n",
    "### 示例 1：\n",
    "\n",
    "输入：head = [0,3,1,0,4,5,2,0]\n",
    "\n",
    "输出：[4,11]\n",
    "\n",
    "解释：\n",
    "\n",
    "上图表示输入的链表。修改后的链表包含：\n",
    "\n",
    "- 标记为绿色的节点之和：3 + 1 = 4\n",
    "- 标记为红色的节点之和：4 + 5 + 2 = 11\n",
    "\n",
    "### 示例 2：\n",
    "\n",
    "输入：head = [0,1,0,3,0,2,2,0]\n",
    "\n",
    "输出：[1,3,4]\n",
    "\n",
    "解释：\n",
    "\n",
    "上图表示输入的链表。修改后的链表包含：\n",
    "\n",
    "- 标记为绿色的节点之和：1 = 1\n",
    "- 标记为红色的节点之和：3 = 3\n",
    "- 标记为黄色的节点之和：2 + 2 = 4\n",
    "\n",
    "## 三、解题思路\n",
    "\n",
    "### 遍历"
   ]
  },
  {
   "cell_type": "code",
   "execution_count": 1,
   "metadata": {},
   "outputs": [],
   "source": [
    "class ListNode:\n",
    "    def __init__(self, val=0, next=None):\n",
    "        self.val = val\n",
    "        self.next = next\n",
    "class Solution:\n",
    "    def mergeNodes(self, head: ListNode) -> ListNode:\n",
    "        holder = ListNode()\n",
    "        pre = holder\n",
    "        tmp = ListNode()\n",
    "        holder.next = tmp\n",
    "        while head:\n",
    "            if head.val == 0:\n",
    "                if tmp.val:\n",
    "                    tmp.next = ListNode()\n",
    "                    pre = tmp\n",
    "                    tmp = tmp.next\n",
    "            else:\n",
    "                tmp.val += head.val\n",
    "            head = head.next\n",
    "        if tmp.val == 0:\n",
    "            pre.next = None\n",
    "        return holder.next"
   ]
  },
  {
   "cell_type": "code",
   "execution_count": null,
   "metadata": {},
   "outputs": [],
   "source": []
  }
 ],
 "metadata": {
  "kernelspec": {
   "display_name": "Python 3.10.4 64-bit",
   "language": "python",
   "name": "python3"
  },
  "language_info": {
   "codemirror_mode": {
    "name": "ipython",
    "version": 3
   },
   "file_extension": ".py",
   "mimetype": "text/x-python",
   "name": "python",
   "nbconvert_exporter": "python",
   "pygments_lexer": "ipython3",
   "version": "3.10.4"
  },
  "orig_nbformat": 4,
  "vscode": {
   "interpreter": {
    "hash": "4f946df053fbf2b937619d3c5458e7af74262f9a954d8797ba0b27400bcafe06"
   }
  }
 },
 "nbformat": 4,
 "nbformat_minor": 2
}
