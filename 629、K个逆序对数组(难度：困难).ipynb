{
 "cells": [
  {
   "cell_type": "markdown",
   "metadata": {},
   "source": [
    "# K个逆序对数组\n",
    "\n",
    "**题目来源：力扣（LeetCode）**\n",
    "\n",
    "**链接：https://leetcode-cn.com/problems/k-inverse-pairs-array/**\n",
    "\n",
    "## 一、题目\n",
    "\n",
    "给出两个整数 n 和 k，找出所有包含从 1 到 n 的数字，且恰好拥有 k 个逆序对的不同的数组的个数。\n",
    "\n",
    "逆序对的定义如下：对于数组的第i个和第 j个元素，如果满i < j且 a[i] > a[j]，则其为一个逆序对；否则不是。\n",
    "\n",
    "由于答案可能很大，只需要返回 答案 mod 109 + 7 的值。\n",
    "\n",
    "### 说明:\n",
    "\n",
    "- n 的范围是 [1, 1000] 并且 k 的范围是 [0, 1000]。\n",
    "\n",
    "## 二、示例\n",
    "\n",
    "### 示例 1：\n",
    "\n",
    "输入: n = 3, k = 0\n",
    "\n",
    "输出: 1\n",
    "\n",
    "解释: 只有数组 [1,2,3] 包含了从1到3的整数并且正好拥有 0 个逆序对。\n",
    "\n",
    "### 示例 2:\n",
    "\n",
    "输入: n = 3, k = 1\n",
    "\n",
    "输出: 2\n",
    "\n",
    "解释: 数组 [1,3,2] 和 [2,1,3] 都有 1 个逆序对。\n",
    "\n",
    "## 三、解题思路\n",
    "\n",
    "### dp"
   ]
  },
  {
   "cell_type": "code",
   "execution_count": 1,
   "metadata": {},
   "outputs": [],
   "source": [
    "def kInversePairs(n: int, k: int) -> int:\n",
    "    mod = 10**9 + 7\n",
    "    \n",
    "    dp = [1] + [0] * k\n",
    "    for i in range(1, n + 1):\n",
    "        tmp = [0] * (k + 1)\n",
    "        for j in range(k + 1):\n",
    "            tmp[j] = (tmp[j - 1] if j - 1 >= 0 else 0) - (dp[j - i] if j - i >= 0 else 0) + dp[j]\n",
    "            tmp[j] %= mod\n",
    "        dp = tmp\n",
    "    \n",
    "    return dp[k]"
   ]
  },
  {
   "cell_type": "code",
   "execution_count": 2,
   "metadata": {},
   "outputs": [
    {
     "data": {
      "text/plain": [
       "1"
      ]
     },
     "execution_count": 2,
     "metadata": {},
     "output_type": "execute_result"
    }
   ],
   "source": [
    "kInversePairs(3, 0)"
   ]
  },
  {
   "cell_type": "code",
   "execution_count": 3,
   "metadata": {},
   "outputs": [
    {
     "data": {
      "text/plain": [
       "2"
      ]
     },
     "execution_count": 3,
     "metadata": {},
     "output_type": "execute_result"
    }
   ],
   "source": [
    "kInversePairs(3, 1)"
   ]
  },
  {
   "cell_type": "code",
   "execution_count": null,
   "metadata": {},
   "outputs": [],
   "source": []
  }
 ],
 "metadata": {
  "kernelspec": {
   "display_name": "Python 3",
   "language": "python",
   "name": "python3"
  },
  "language_info": {
   "codemirror_mode": {
    "name": "ipython",
    "version": 3
   },
   "file_extension": ".py",
   "mimetype": "text/x-python",
   "name": "python",
   "nbconvert_exporter": "python",
   "pygments_lexer": "ipython3",
   "version": "3.6.5"
  }
 },
 "nbformat": 4,
 "nbformat_minor": 2
}
