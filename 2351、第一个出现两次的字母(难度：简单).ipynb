{
 "cells": [
  {
   "cell_type": "markdown",
   "id": "b4c0f5c7",
   "metadata": {},
   "source": [
    "# 第一个出现两次的字母\n",
    "\n",
    "**题目来源：力扣（LeetCode）**\n",
    "\n",
    "**链接：https://leetcode.cn/problems/first-letter-to-appear-twice/**\n",
    "\n",
    "## 一、题目\n",
    "\n",
    "给你一个由小写英文字母组成的字符串 s ，请你找出并返回第一个出现 两次 的字母。\n",
    "\n",
    "### 注意：\n",
    "\n",
    "- 如果 a 的 第二次 出现比 b 的 第二次 出现在字符串中的位置更靠前，则认为字母 a 在字母 b 之前出现两次。\n",
    "- s 包含至少一个出现两次的字母。\n",
    "\n",
    "### 提示：\n",
    "\n",
    "- 2 <= s.length <= 100\n",
    "- s 由小写英文字母组成\n",
    "- s 包含至少一个重复字母\n",
    "\n",
    "## 二、示例\n",
    "\n",
    "### 示例 1：\n",
    "\n",
    "输入：s = \"abccbaacz\"\n",
    "\n",
    "输出：\"c\"\n",
    "\n",
    "解释：\n",
    "\n",
    "- 字母 'a' 在下标 0 、5 和 6 处出现。\n",
    "- 字母 'b' 在下标 1 和 4 处出现。\n",
    "- 字母 'c' 在下标 2 、3 和 7 处出现。\n",
    "- 字母 'z' 在下标 8 处出现。\n",
    "- 字母 'c' 是第一个出现两次的字母，因为在所有字母中，'c' 第二次出现的下标是最小的。\n",
    "\n",
    "### 示例 2：\n",
    "\n",
    "输入：s = \"abcdd\"\n",
    "\n",
    "输出：\"d\"\n",
    "\n",
    "解释：只有字母 'd' 出现两次，所以返回 'd' 。\n",
    "\n",
    "## 三、解题思路\n",
    "\n",
    "### 集合"
   ]
  },
  {
   "cell_type": "code",
   "execution_count": 1,
   "id": "c39f4036",
   "metadata": {},
   "outputs": [],
   "source": [
    "class Solution:\n",
    "    def repeatedCharacter(self, s: str) -> str:\n",
    "        setS = set()\n",
    "        for ch in s:\n",
    "            if ch in setS:\n",
    "                return ch\n",
    "            setS.add(ch)\n",
    "        return \"\""
   ]
  },
  {
   "cell_type": "code",
   "execution_count": 2,
   "id": "307347ca",
   "metadata": {},
   "outputs": [
    {
     "data": {
      "text/plain": [
       "'c'"
      ]
     },
     "execution_count": 2,
     "metadata": {},
     "output_type": "execute_result"
    }
   ],
   "source": [
    "s = Solution()\n",
    "s.repeatedCharacter(\"abccbaacz\")"
   ]
  },
  {
   "cell_type": "code",
   "execution_count": 3,
   "id": "ea6fd16f",
   "metadata": {},
   "outputs": [
    {
     "data": {
      "text/plain": [
       "'d'"
      ]
     },
     "execution_count": 3,
     "metadata": {},
     "output_type": "execute_result"
    }
   ],
   "source": [
    "s.repeatedCharacter(\"abcdd\")"
   ]
  },
  {
   "cell_type": "code",
   "execution_count": null,
   "id": "4b3c2241",
   "metadata": {},
   "outputs": [],
   "source": []
  }
 ],
 "metadata": {
  "kernelspec": {
   "display_name": "Python 3 (ipykernel)",
   "language": "python",
   "name": "python3"
  },
  "language_info": {
   "codemirror_mode": {
    "name": "ipython",
    "version": 3
   },
   "file_extension": ".py",
   "mimetype": "text/x-python",
   "name": "python",
   "nbconvert_exporter": "python",
   "pygments_lexer": "ipython3",
   "version": "3.11.0"
  }
 },
 "nbformat": 4,
 "nbformat_minor": 5
}
