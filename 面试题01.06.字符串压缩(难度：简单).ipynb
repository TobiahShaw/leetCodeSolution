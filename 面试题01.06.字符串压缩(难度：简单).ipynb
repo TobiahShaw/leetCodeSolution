{
  "cells": [
    {
      "metadata": {
        "collapsed": true
      },
      "cell_type": "markdown",
      "source": "# 字符串压缩\n\n**题目来源：力扣（LeetCode）**\n\n**链接：https://leetcode-cn.com/problems/compress-string-lcci/**\n\n## 一、题目\n\n字符串压缩。\n\n利用字符重复出现的次数，编写一种方法，实现基本的字符串压缩功能。\n\n比如，字符串aabcccccaaa会变为a2b1c5a3。\n\n若“压缩”后的字符串没有变短，则返回原先的字符串。\n\n你可以假设字符串中只包含大小写英文字母（a至z）。\n\n## 二、示例\n\n### 示例 1:\n\n输入：\"aabcccccaaa\"\n \n输出：\"a2b1c5a3\"\n\n### 示例 2:\n\n输入：\"abbccd\"\n\n输出：\"abbccd\"\n\n解释：\"abbccd\"压缩后为\"a1b2c2d1\"，比原字符串长度更长。\n\n## 三、解题思路\n\n### 模拟\n\n模拟过程"
    },
    {
      "metadata": {
        "trusted": true
      },
      "cell_type": "code",
      "source": "def compressString(S):\n    com_str = \"\"\n    cur_char = ''\n    cur_count = 0\n    for c in S:\n        if cur_char == '':\n            cur_char = c\n            cur_count = 1\n            com_str += c\n        elif c == cur_char:\n            cur_count += 1\n        else:\n            com_str += str(cur_count)\n            cur_char = c\n            cur_count = 1\n            com_str += c\n    com_str += str(cur_count)\n    return com_str if len(com_str) < len(S) else S",
      "execution_count": 1,
      "outputs": []
    },
    {
      "metadata": {
        "trusted": true
      },
      "cell_type": "code",
      "source": "compressString(\"aabcccccaaa\")",
      "execution_count": 2,
      "outputs": [
        {
          "output_type": "execute_result",
          "execution_count": 2,
          "data": {
            "text/plain": "'a2b1c5a3'"
          },
          "metadata": {}
        }
      ]
    },
    {
      "metadata": {
        "trusted": true
      },
      "cell_type": "code",
      "source": "compressString(\"abbccd\")",
      "execution_count": 3,
      "outputs": [
        {
          "output_type": "execute_result",
          "execution_count": 3,
          "data": {
            "text/plain": "'abbccd'"
          },
          "metadata": {}
        }
      ]
    },
    {
      "metadata": {
        "trusted": true
      },
      "cell_type": "code",
      "source": "",
      "execution_count": null,
      "outputs": []
    }
  ],
  "metadata": {
    "kernelspec": {
      "name": "python36",
      "display_name": "Python 3.6",
      "language": "python"
    },
    "language_info": {
      "mimetype": "text/x-python",
      "nbconvert_exporter": "python",
      "name": "python",
      "pygments_lexer": "ipython3",
      "version": "3.6.6",
      "file_extension": ".py",
      "codemirror_mode": {
        "version": 3,
        "name": "ipython"
      }
    }
  },
  "nbformat": 4,
  "nbformat_minor": 2
}