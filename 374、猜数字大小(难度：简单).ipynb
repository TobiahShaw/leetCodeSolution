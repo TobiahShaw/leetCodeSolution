{
 "cells": [
  {
   "cell_type": "markdown",
   "metadata": {},
   "source": [
    "# 猜数字大小\n",
    "\n",
    "**题目来源：力扣（LeetCode）**\n",
    "\n",
    "**链接：https://leetcode-cn.com/problems/guess-number-higher-or-lower/**\n",
    "\n",
    "## 一、题目\n",
    "\n",
    "猜数字游戏的规则如下：\n",
    "\n",
    "- 每轮游戏，我都会从 1 到 n 随机选择一个数字。 请你猜选出的是哪个数字。\n",
    "- 如果你猜错了，我会告诉你，你猜测的数字比我选出的数字是大了还是小了。\n",
    "你可以通过调用一个预先定义好的接口 int guess(int num) 来获取猜测结果，返回值一共有 3 种可能的情况（-1，1 或 0）：\n",
    "\n",
    "- -1：我选出的数字比你猜的数字小 pick < num\n",
    "- 1：我选出的数字比你猜的数字大 pick > num\n",
    "- 0：我选出的数字和你猜的数字一样。恭喜！你猜对了！pick == num\n",
    "\n",
    "### 提示：\n",
    "\n",
    "- 1 <= n <= 231 - 1\n",
    "- 1 <= pick <= n\n",
    "\n",
    "## 二、示例\n",
    "\n",
    "### 示例 1：\n",
    "\n",
    "输入：n = 10, pick = 6\n",
    "\n",
    "输出：6\n",
    "\n",
    "### 示例 2：\n",
    "\n",
    "输入：n = 1, pick = 1\n",
    "\n",
    "输出：1\n",
    "\n",
    "### 示例 3：\n",
    "\n",
    "输入：n = 2, pick = 1\n",
    "\n",
    "输出：1\n",
    "\n",
    "### 示例 4：\n",
    "\n",
    "输入：n = 2, pick = 2\n",
    "\n",
    "输出：2\n",
    "\n",
    "## 三、解题思路\n",
    "\n",
    "### 二分法"
   ]
  },
  {
   "cell_type": "code",
   "execution_count": 1,
   "metadata": {},
   "outputs": [],
   "source": [
    "def guessNumber(n: int) -> int:\n",
    "    left, right = 0, n\n",
    "    while True:\n",
    "        num = (right - left) // 2 + left\n",
    "        ret = guess(num)\n",
    "        if ret == 0:\n",
    "            return num\n",
    "        if ret < 0:\n",
    "            right = num\n",
    "        else:\n",
    "            left = num + 1"
   ]
  },
  {
   "cell_type": "code",
   "execution_count": null,
   "metadata": {},
   "outputs": [],
   "source": []
  }
 ],
 "metadata": {
  "kernelspec": {
   "display_name": "Python 3",
   "language": "python",
   "name": "python3"
  },
  "language_info": {
   "codemirror_mode": {
    "name": "ipython",
    "version": 3
   },
   "file_extension": ".py",
   "mimetype": "text/x-python",
   "name": "python",
   "nbconvert_exporter": "python",
   "pygments_lexer": "ipython3",
   "version": "3.6.5"
  }
 },
 "nbformat": 4,
 "nbformat_minor": 2
}
