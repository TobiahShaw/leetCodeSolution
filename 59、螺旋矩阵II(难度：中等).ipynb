{
 "cells": [
  {
   "cell_type": "markdown",
   "metadata": {},
   "source": [
    "# 螺旋矩阵II\n",
    "\n",
    "**题目来源：力扣（LeetCode）**\n",
    "\n",
    "**链接：https://leetcode-cn.com/problems/spiral-matrix-ii/**\n",
    "\n",
    "## 一、题目\n",
    "\n",
    "给你一个正整数 n ，生成一个包含 1 到 n2 所有元素，且元素按顺时针顺序螺旋排列的 n x n 正方形矩阵 matrix 。\n",
    "\n",
    "### 提示：\n",
    "\n",
    "- 1 <= n <= 20\n",
    "\n",
    "## 二、示例\n",
    "\n",
    "### 示例 1：\n",
    "\n",
    "输入：n = 3\n",
    "\n",
    "输出：[[1,2,3],[8,9,4],[7,6,5]]\n",
    "\n",
    "### 示例 2：\n",
    "\n",
    "输入：n = 1\n",
    "\n",
    "输出：[[1]]\n",
    "\n",
    "## 三、解题思路"
   ]
  },
  {
   "cell_type": "code",
   "execution_count": 1,
   "metadata": {},
   "outputs": [],
   "source": [
    "def generateMatrix(n: int):\n",
    "    matrix  = [[0 for i in range(n)] for _ in range(n)]\n",
    "    rs, cs = 0, 0\n",
    "    re, ce = n, n\n",
    "    num = 1\n",
    "    end = n * n\n",
    "    \n",
    "    while num <= end:\n",
    "        \"\"\"首行\"\"\"\n",
    "        for i in range(cs,ce):\n",
    "            matrix[rs][i] = num\n",
    "            num += 1\n",
    "        rs += 1\n",
    "        \"\"\"尾列\"\"\"\n",
    "        for i in range(rs,re):\n",
    "            matrix[i][ce-1] = num\n",
    "            num += 1\n",
    "        ce -= 1\n",
    "        \"\"\"尾行\"\"\"\n",
    "        for i in range(ce-1,cs-1,-1):\n",
    "            matrix[re-1][i] = num\n",
    "            num += 1\n",
    "        re -= 1\n",
    "        \"\"\"首列\"\"\"\n",
    "        for i in range(re-1,rs-1,-1):\n",
    "            matrix[i][cs] = num\n",
    "            num += 1\n",
    "        cs += 1\n",
    "    return matrix"
   ]
  },
  {
   "cell_type": "code",
   "execution_count": 2,
   "metadata": {},
   "outputs": [
    {
     "data": {
      "text/plain": [
       "[[1, 2, 3], [8, 9, 4], [7, 6, 5]]"
      ]
     },
     "execution_count": 2,
     "metadata": {},
     "output_type": "execute_result"
    }
   ],
   "source": [
    "generateMatrix(3)"
   ]
  },
  {
   "cell_type": "code",
   "execution_count": 3,
   "metadata": {},
   "outputs": [
    {
     "data": {
      "text/plain": [
       "[[1]]"
      ]
     },
     "execution_count": 3,
     "metadata": {},
     "output_type": "execute_result"
    }
   ],
   "source": [
    "generateMatrix(1)"
   ]
  },
  {
   "cell_type": "code",
   "execution_count": null,
   "metadata": {},
   "outputs": [],
   "source": []
  }
 ],
 "metadata": {
  "kernelspec": {
   "display_name": "Python 3",
   "language": "python",
   "name": "python3"
  },
  "language_info": {
   "codemirror_mode": {
    "name": "ipython",
    "version": 3
   },
   "file_extension": ".py",
   "mimetype": "text/x-python",
   "name": "python",
   "nbconvert_exporter": "python",
   "pygments_lexer": "ipython3",
   "version": "3.6.5"
  }
 },
 "nbformat": 4,
 "nbformat_minor": 2
}
