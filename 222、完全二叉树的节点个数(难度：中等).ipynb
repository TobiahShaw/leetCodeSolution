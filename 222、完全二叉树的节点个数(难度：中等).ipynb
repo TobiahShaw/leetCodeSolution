{
 "cells": [
  {
   "cell_type": "markdown",
   "metadata": {},
   "source": [
    "# 完全二叉树的节点个数\n",
    "\n",
    "**题目来源：力扣（LeetCode）**\n",
    "\n",
    "**链接：https://leetcode-cn.com/problems/count-complete-tree-nodes/**\n",
    "\n",
    "## 一、题目\n",
    "\n",
    "完全二叉树的定义如下：在完全二叉树中，除了最底层节点可能没填满外，其余每层节点数都达到最大值，并且最下面一层的节点都集中在该层最左边的若干位置。若最底层为第 h 层，则该层包含 1~ 2h 个节点。\n",
    "\n",
    "## 二、示例\n",
    "\n",
    "输入: \n",
    "\n",
    "```\n",
    "    1\n",
    "   / \\\n",
    "  2   3\n",
    " / \\  /\n",
    "4  5 6\n",
    "```\n",
    "\n",
    "输出: 6\n",
    "\n",
    "## 三、解题思路"
   ]
  },
  {
   "cell_type": "code",
   "execution_count": 1,
   "metadata": {},
   "outputs": [],
   "source": [
    "class TreeNode:\n",
    "    def __init__(self, x):\n",
    "        self.val = x\n",
    "        self.left = None\n",
    "        self.right = None"
   ]
  },
  {
   "cell_type": "code",
   "execution_count": 2,
   "metadata": {},
   "outputs": [],
   "source": [
    "root = TreeNode(1)\n",
    "\n",
    "root.left = TreeNode(2)\n",
    "root.right = TreeNode(3)\n",
    "\n",
    "root.left.left = TreeNode(4)\n",
    "root.left.right = TreeNode(5)\n",
    "\n",
    "root.right.left = TreeNode(6)"
   ]
  },
  {
   "cell_type": "markdown",
   "metadata": {},
   "source": [
    "### 一、深度优先搜索"
   ]
  },
  {
   "cell_type": "code",
   "execution_count": 3,
   "metadata": {},
   "outputs": [],
   "source": [
    "def countNodes(root: TreeNode) -> int:\n",
    "    def dfs(root, arr):\n",
    "        if not root:\n",
    "            return\n",
    "        arr.append(root)\n",
    "        dfs(root.left, arr)\n",
    "        dfs(root.right, arr)\n",
    "    arr = []\n",
    "    dfs(root, arr)\n",
    "    return len(arr)"
   ]
  },
  {
   "cell_type": "code",
   "execution_count": 4,
   "metadata": {},
   "outputs": [
    {
     "data": {
      "text/plain": [
       "6"
      ]
     },
     "execution_count": 4,
     "metadata": {},
     "output_type": "execute_result"
    }
   ],
   "source": [
    "countNodes(root)"
   ]
  },
  {
   "cell_type": "markdown",
   "metadata": {},
   "source": [
    "### 二、广度优先搜索"
   ]
  },
  {
   "cell_type": "code",
   "execution_count": 5,
   "metadata": {},
   "outputs": [],
   "source": [
    "def countNodes(root: TreeNode) -> int:\n",
    "    if not root:\n",
    "        return 0\n",
    "    arr = []\n",
    "    layer = [root]\n",
    "    while layer:\n",
    "        cur = layer\n",
    "        next_lay = []\n",
    "        for node in cur:\n",
    "            arr.append(node)\n",
    "            if node.left:\n",
    "                next_lay.append(node.left)\n",
    "            if node.right:\n",
    "                next_lay.append(node.right)\n",
    "        layer.clear()\n",
    "        layer.extend(next_lay)\n",
    "    return len(arr)"
   ]
  },
  {
   "cell_type": "code",
   "execution_count": 6,
   "metadata": {},
   "outputs": [
    {
     "data": {
      "text/plain": [
       "6"
      ]
     },
     "execution_count": 6,
     "metadata": {},
     "output_type": "execute_result"
    }
   ],
   "source": [
    "countNodes(root)"
   ]
  },
  {
   "cell_type": "markdown",
   "metadata": {},
   "source": [
    "### 二分查找"
   ]
  },
  {
   "cell_type": "code",
   "execution_count": 7,
   "metadata": {},
   "outputs": [],
   "source": [
    "def countNodes(root: TreeNode) -> int:\n",
    "    if not root: return 0\n",
    "    level = 0\n",
    "    node = root.left\n",
    "    while node:  # 这里获得层数\n",
    "        level += 1\n",
    "        node = node.left\n",
    "    l = 1<<level  # 左界\n",
    "    r = (l<<1)-1  # 右界\n",
    "\n",
    "    while l < r:\n",
    "        mid = int((r+l+1)/2)  # 中位\n",
    "        node = root\n",
    "        path = 1<<(level-1)  # 取mid号数的后几位的模板\n",
    "        while node and path > 0:\n",
    "            if mid & path: node = node.right\n",
    "            else: node = node.left\n",
    "            path >>= 1  # 一层查完，查下一层\n",
    "        if node: l = mid  # 存在left位置变化\n",
    "        else: r = mid-1  # 不存在right位置变化\n",
    "    return r"
   ]
  },
  {
   "cell_type": "code",
   "execution_count": 8,
   "metadata": {},
   "outputs": [
    {
     "data": {
      "text/plain": [
       "6"
      ]
     },
     "execution_count": 8,
     "metadata": {},
     "output_type": "execute_result"
    }
   ],
   "source": [
    "countNodes(root)"
   ]
  },
  {
   "cell_type": "code",
   "execution_count": null,
   "metadata": {},
   "outputs": [],
   "source": []
  }
 ],
 "metadata": {
  "kernelspec": {
   "display_name": "Python 3",
   "language": "python",
   "name": "python3"
  },
  "language_info": {
   "codemirror_mode": {
    "name": "ipython",
    "version": 3
   },
   "file_extension": ".py",
   "mimetype": "text/x-python",
   "name": "python",
   "nbconvert_exporter": "python",
   "pygments_lexer": "ipython3",
   "version": "3.6.5"
  }
 },
 "nbformat": 4,
 "nbformat_minor": 2
}
