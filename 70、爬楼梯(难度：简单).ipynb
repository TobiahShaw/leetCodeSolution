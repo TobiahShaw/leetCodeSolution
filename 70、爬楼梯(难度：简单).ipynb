{
  "cells": [
    {
      "cell_type": "markdown",
      "metadata": {
        "collapsed": true
      },
      "source": [
        "# 爬楼梯\n",
        "\n",
        "**题目来源：力扣（LeetCode）**\n",
        "\n",
        "**链接：https://leetcode-cn.com/problems/climbing-stairs/**\n",
        "\n",
        "## 一、题目\n",
        "\n",
        "假设你正在爬楼梯。需要 n 阶你才能到达楼顶。\n",
        "\n",
        "每次你可以爬 1 或 2 个台阶。你有多少种不同的方法可以爬到楼顶呢？\n",
        "\n",
        "### 注意：\n",
        "\n",
        "- 1 <= n <= 45\n",
        "\n",
        "## 二、示例\n",
        "\n",
        "### 示例 1：\n",
        "\n",
        "输入： 2\n",
        "\n",
        "输出： 2\n",
        "\n",
        "解释： 有两种方法可以爬到楼顶。\n",
        "\n",
        "1.  1 阶 + 1 阶\n",
        "\n",
        "2.  2 阶\n",
        "\n",
        "### 示例 2：\n",
        "\n",
        "输入： 3\n",
        "\n",
        "输出： 3\n",
        "\n",
        "解释： 有三种方法可以爬到楼顶。\n",
        "\n",
        "1.  1 阶 + 1 阶 + 1 阶\n",
        "\n",
        "2.  1 阶 + 2 阶\n",
        "\n",
        "3.  2 阶 + 1 阶\n",
        "\n",
        "## 三、解题思路\n",
        "\n",
        "### 一、回溯法（超时）"
      ]
    },
    {
      "cell_type": "code",
      "execution_count": 1,
      "metadata": {
        "trusted": true
      },
      "outputs": [],
      "source": [
        "def climbStairs(n):\n",
        "    def generate(item, surplus, res):\n",
        "        if surplus == 0:\n",
        "            res.append(item)\n",
        "            return\n",
        "        item.append(1)\n",
        "        generate(item, surplus - 1, res)\n",
        "        if surplus >= 2:\n",
        "            item.pop()\n",
        "            item.append(2)\n",
        "            generate(item, surplus - 2, res)\n",
        "    result = []\n",
        "    generate([], n, result)\n",
        "    return len(result)"
      ]
    },
    {
      "cell_type": "code",
      "execution_count": 2,
      "metadata": {
        "trusted": true
      },
      "outputs": [
        {
          "data": {
            "text/plain": [
              "2"
            ]
          },
          "execution_count": 2,
          "metadata": {},
          "output_type": "execute_result"
        }
      ],
      "source": [
        "climbStairs(2)"
      ]
    },
    {
      "cell_type": "code",
      "execution_count": 3,
      "metadata": {
        "trusted": true
      },
      "outputs": [
        {
          "data": {
            "text/plain": [
              "3"
            ]
          },
          "execution_count": 3,
          "metadata": {},
          "output_type": "execute_result"
        }
      ],
      "source": [
        "climbStairs(3)"
      ]
    },
    {
      "cell_type": "markdown",
      "metadata": {},
      "source": [
        "### 二、斐波那契数-递归（超时）"
      ]
    },
    {
      "cell_type": "code",
      "execution_count": 4,
      "metadata": {
        "trusted": true
      },
      "outputs": [],
      "source": [
        "def climbStairs(n):\n",
        "    if n <= 2:\n",
        "        return n\n",
        "    return climbStairs(n - 1) + climbStairs(n - 2)"
      ]
    },
    {
      "cell_type": "code",
      "execution_count": 5,
      "metadata": {
        "trusted": true
      },
      "outputs": [
        {
          "data": {
            "text/plain": [
              "2"
            ]
          },
          "execution_count": 5,
          "metadata": {},
          "output_type": "execute_result"
        }
      ],
      "source": [
        "climbStairs(2)"
      ]
    },
    {
      "cell_type": "code",
      "execution_count": 6,
      "metadata": {
        "trusted": true
      },
      "outputs": [
        {
          "data": {
            "text/plain": [
              "3"
            ]
          },
          "execution_count": 6,
          "metadata": {},
          "output_type": "execute_result"
        }
      ],
      "source": [
        "climbStairs(3)"
      ]
    },
    {
      "cell_type": "markdown",
      "metadata": {},
      "source": [
        "### 三、斐波那契数-迭代"
      ]
    },
    {
      "cell_type": "code",
      "execution_count": 7,
      "metadata": {
        "trusted": true
      },
      "outputs": [],
      "source": [
        "def climbStairs(n):\n",
        "    if n == 1:\n",
        "        return 1\n",
        "    first, second = 1, 2\n",
        "    for i in range(3, n + 1):\n",
        "        third = first + second\n",
        "        first = second\n",
        "        second = third\n",
        "    return second"
      ]
    },
    {
      "cell_type": "code",
      "execution_count": 8,
      "metadata": {
        "trusted": true
      },
      "outputs": [
        {
          "data": {
            "text/plain": [
              "2"
            ]
          },
          "execution_count": 8,
          "metadata": {},
          "output_type": "execute_result"
        }
      ],
      "source": [
        "climbStairs(2)"
      ]
    },
    {
      "cell_type": "code",
      "execution_count": 9,
      "metadata": {
        "trusted": true
      },
      "outputs": [
        {
          "data": {
            "text/plain": [
              "3"
            ]
          },
          "execution_count": 9,
          "metadata": {},
          "output_type": "execute_result"
        }
      ],
      "source": [
        "climbStairs(3)"
      ]
    },
    {
      "cell_type": "markdown",
      "metadata": {
        "trusted": true
      },
      "source": [
        "### 四、动态规划（重要）\n",
        "\n",
        "由于每次最多爬2阶，楼梯第i阶，只可能从i-1，i-2阶到达。故达到第i阶有多少种方法，直接与i-1、i-2阶的爬法直接相关。\n",
        "\n",
        "**第i阶爬法的数量 = 第i-1阶爬法的数量 + 第i-2阶爬法的数量**\n",
        "\n",
        "1. 设置递推数组dp[0-n]，dp[i]代表到达第i阶有多少种走法，初始化数组元素为0\n",
        "2. 设置到达第1阶有1种走法，到达第2阶有2种走法\n",
        "3. 利用i循环递推从3到n的情况：第i阶爬法的数量 = 第i-1阶爬法的数量 + 第i-2阶爬法的数量\n",
        "\n",
        "#### 动态规划的原理\n",
        "\n",
        "1. 确认原问题和子问题：原问题是求n阶台阶所有走法的数量。子问题是求1到n-1阶台阶的走法\n",
        "2. 确认状态：本题动态规划状态单一，第i个状态即为第i阶台阶的所有走法\n",
        "3. 确认边界状态的值：边界状态为1阶、2阶台阶的走法，即dp[1] = 1,dp[2] = 2\n",
        "4. 确定状态转移方程：将求第i个状态的值转移为求第i-1和i-2个状态的值，方程为：dp[i] = dp[i-1] + dp[i-2]（i >= 3）"
      ]
    },
    {
      "cell_type": "code",
      "execution_count": 10,
      "metadata": {
        "trusted": true
      },
      "outputs": [],
      "source": [
        "def climbStairs(n):\n",
        "    # +3 是因为输入为0，1，2时的问题，因为要赋值dp[1],dp[2]所以数组最短长度应该为3\n",
        "    dp = [0] * (n + 3)\n",
        "    dp[1] = 1\n",
        "    dp[2] = 2\n",
        "    for i in range(3, n+1):\n",
        "        dp[i] = dp[i-1] + dp[i-2]\n",
        "    return dp[n]"
      ]
    },
    {
      "cell_type": "code",
      "execution_count": 11,
      "metadata": {
        "trusted": true
      },
      "outputs": [
        {
          "data": {
            "text/plain": [
              "2"
            ]
          },
          "execution_count": 11,
          "metadata": {},
          "output_type": "execute_result"
        }
      ],
      "source": [
        "climbStairs(2)"
      ]
    },
    {
      "cell_type": "code",
      "execution_count": 12,
      "metadata": {
        "trusted": true
      },
      "outputs": [
        {
          "data": {
            "text/plain": [
              "3"
            ]
          },
          "execution_count": 12,
          "metadata": {},
          "output_type": "execute_result"
        }
      ],
      "source": [
        "climbStairs(3)"
      ]
    },
    {
      "cell_type": "code",
      "execution_count": null,
      "metadata": {
        "trusted": true
      },
      "outputs": [],
      "source": []
    }
  ],
  "metadata": {
    "kernelspec": {
      "display_name": "Python 3.6",
      "language": "python",
      "name": "python36"
    },
    "language_info": {
      "codemirror_mode": {
        "name": "ipython",
        "version": 3
      },
      "file_extension": ".py",
      "mimetype": "text/x-python",
      "name": "python",
      "nbconvert_exporter": "python",
      "pygments_lexer": "ipython3",
      "version": "3.6.6"
    }
  },
  "nbformat": 4,
  "nbformat_minor": 2
}
