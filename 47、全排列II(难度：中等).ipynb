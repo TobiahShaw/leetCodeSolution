{
 "cells": [
  {
   "cell_type": "markdown",
   "metadata": {},
   "source": [
    "# 全排列II\n",
    "\n",
    "**题目来源：力扣（LeetCode）**\n",
    "\n",
    "**链接：https://leetcode-cn.com/problems/permutations-ii/**\n",
    "\n",
    "## 一、题目\n",
    "\n",
    "给定一个可包含重复数字的序列，返回所有不重复的全排列。\n",
    "\n",
    "## 二、示例\n",
    "\n",
    "输入: [1,1,2]\n",
    "\n",
    "输出:\n",
    "\n",
    "```\n",
    "[\n",
    "  [1,1,2],\n",
    "  [1,2,1],\n",
    "  [2,1,1]\n",
    "]\n",
    "```\n",
    "\n",
    "## 三、解题思路\n",
    "\n",
    "### 递归"
   ]
  },
  {
   "cell_type": "code",
   "execution_count": 1,
   "metadata": {},
   "outputs": [],
   "source": [
    "def permuteUnique(nums):\n",
    "    if not nums:\n",
    "        return [[]]\n",
    "    if len(nums) == 1:\n",
    "        return [nums]\n",
    "    res = []\n",
    "    for i in nums:\n",
    "        res_sub = []\n",
    "        copy_num = nums.copy()\n",
    "        copy_num.remove(i)\n",
    "        sub = permuteUnique(copy_num)\n",
    "        for arr in sub:\n",
    "            tmp = []\n",
    "            tmp.append(i)\n",
    "            tmp.extend(arr)\n",
    "            if tmp not in res and tmp not in res_sub:\n",
    "                res_sub.append(tmp)\n",
    "        res.extend(res_sub)\n",
    "    return res"
   ]
  },
  {
   "cell_type": "code",
   "execution_count": 2,
   "metadata": {},
   "outputs": [
    {
     "data": {
      "text/plain": [
       "[[1, 1, 2], [1, 2, 1], [2, 1, 1]]"
      ]
     },
     "execution_count": 2,
     "metadata": {},
     "output_type": "execute_result"
    }
   ],
   "source": [
    "permuteUnique([1,1,2])"
   ]
  },
  {
   "cell_type": "code",
   "execution_count": null,
   "metadata": {},
   "outputs": [],
   "source": []
  }
 ],
 "metadata": {
  "kernelspec": {
   "display_name": "Python 3",
   "language": "python",
   "name": "python3"
  },
  "language_info": {
   "codemirror_mode": {
    "name": "ipython",
    "version": 3
   },
   "file_extension": ".py",
   "mimetype": "text/x-python",
   "name": "python",
   "nbconvert_exporter": "python",
   "pygments_lexer": "ipython3",
   "version": "3.6.5"
  }
 },
 "nbformat": 4,
 "nbformat_minor": 2
}
