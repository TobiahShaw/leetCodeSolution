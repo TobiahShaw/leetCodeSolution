{
 "cells": [
  {
   "cell_type": "markdown",
   "metadata": {},
   "source": [
    "# 检查是否区域内所有整数都被覆盖\n",
    "\n",
    "**题目来源：力扣（LeetCode）**\n",
    "\n",
    "**链接：https://leetcode-cn.com/problems/check-if-all-the-integers-in-a-range-are-covered/**\n",
    "\n",
    "## 一、题目\n",
    "\n",
    "给你一个二维整数数组 ranges 和两个整数 left 和 right 。每个 ranges[i] = [starti, endi] 表示一个从 starti 到 endi 的 闭区间 。\n",
    "\n",
    "如果闭区间 [left, right] 内每个整数都被 ranges 中 至少一个 区间覆盖，那么请你返回 true ，否则返回 false 。\n",
    "\n",
    "已知区间 ranges[i] = [starti, endi] ，如果整数 x 满足 starti <= x <= endi ，那么我们称整数x 被覆盖了。\n",
    "\n",
    "### 提示：\n",
    "\n",
    "- 1 <= ranges.length <= 50\n",
    "- 1 <= starti <= endi <= 50\n",
    "- 1 <= left <= right <= 50\n",
    "\n",
    "## 二、示例\n",
    "\n",
    "### 示例 1：\n",
    "\n",
    "输入：ranges = [[1,2],[3,4],[5,6]], left = 2, right = 5\n",
    "\n",
    "输出：true\n",
    "\n",
    "解释：2 到 5 的每个整数都被覆盖了：\n",
    "\n",
    "- 2 被第一个区间覆盖。\n",
    "- 3 和 4 被第二个区间覆盖。\n",
    "- 5 被第三个区间覆盖。\n",
    "\n",
    "### 示例 2：\n",
    "\n",
    "输入：ranges = [[1,10],[10,20]], left = 21, right = 21\n",
    "\n",
    "输出：false\n",
    "\n",
    "解释：21 没有被任何一个区间覆盖。\n",
    "\n",
    "## 三、解题思路\n",
    "\n",
    "### 暴力法"
   ]
  },
  {
   "cell_type": "code",
   "execution_count": 1,
   "metadata": {},
   "outputs": [],
   "source": [
    "def isCovered(ranges, left: int, right: int) -> bool:\n",
    "    for i in range(left, right+1):\n",
    "        inRange = False\n",
    "        for j in ranges:\n",
    "            if j[0] <= i <= j[1]:\n",
    "                inRange = True\n",
    "        if not inRange:\n",
    "            return False\n",
    "    return True"
   ]
  },
  {
   "cell_type": "code",
   "execution_count": 2,
   "metadata": {},
   "outputs": [
    {
     "data": {
      "text/plain": [
       "True"
      ]
     },
     "execution_count": 2,
     "metadata": {},
     "output_type": "execute_result"
    }
   ],
   "source": [
    "isCovered(ranges = [[1,2],[3,4],[5,6]], left = 2, right = 5)"
   ]
  },
  {
   "cell_type": "code",
   "execution_count": 3,
   "metadata": {},
   "outputs": [
    {
     "data": {
      "text/plain": [
       "False"
      ]
     },
     "execution_count": 3,
     "metadata": {},
     "output_type": "execute_result"
    }
   ],
   "source": [
    "isCovered(ranges = [[1,10],[10,20]], left = 21, right = 21)"
   ]
  },
  {
   "cell_type": "code",
   "execution_count": null,
   "metadata": {},
   "outputs": [],
   "source": []
  }
 ],
 "metadata": {
  "kernelspec": {
   "display_name": "Python 3",
   "language": "python",
   "name": "python3"
  },
  "language_info": {
   "codemirror_mode": {
    "name": "ipython",
    "version": 3
   },
   "file_extension": ".py",
   "mimetype": "text/x-python",
   "name": "python",
   "nbconvert_exporter": "python",
   "pygments_lexer": "ipython3",
   "version": "3.6.5"
  }
 },
 "nbformat": 4,
 "nbformat_minor": 2
}
