{
 "cells": [
  {
   "cell_type": "markdown",
   "metadata": {},
   "source": [
    "# 可互换矩形的组数\n",
    "\n",
    "**题目来源：力扣（LeetCode）**\n",
    "\n",
    "**链接：https://leetcode-cn.com/problems/number-of-pairs-of-interchangeable-rectangles/**\n",
    "\n",
    "## 一、题目\n",
    "\n",
    "用一个下标从 0 开始的二维整数数组 rectangles 来表示 n 个矩形，其中 rectangles[i] = [widthi, heighti] 表示第 i 个矩形的宽度和高度。\n",
    "\n",
    "如果两个矩形 i 和 j（i < j）的宽高比相同，则认为这两个矩形 可互换 。更规范的说法是，两个矩形满足 widthi/heighti == widthj/heightj（使用实数除法而非整数除法），则认为这两个矩形 可互换 。\n",
    "\n",
    "计算并返回 rectangles 中有多少对 可互换 矩形。\n",
    "\n",
    "### 提示：\n",
    "\n",
    "- n == rectangles.length\n",
    "- 1 <= n <= 10^5\n",
    "- rectangles[i].length == 2\n",
    "- 1 <= widthi, heighti <= 10^5\n",
    "\n",
    "## 二、示例\n",
    "\n",
    "### 示例 1：\n",
    "\n",
    "输入：rectangles = [[4,8],[3,6],[10,20],[15,30]]\n",
    "\n",
    "输出：6\n",
    "\n",
    "解释：下面按下标（从 0 开始）列出可互换矩形的配对情况：\n",
    "\n",
    "- 矩形 0 和矩形 1 ：4/8 == 3/6\n",
    "- 矩形 0 和矩形 2 ：4/8 == 10/20\n",
    "- 矩形 0 和矩形 3 ：4/8 == 15/30\n",
    "- 矩形 1 和矩形 2 ：3/6 == 10/20\n",
    "- 矩形 1 和矩形 3 ：3/6 == 15/30\n",
    "- 矩形 2 和矩形 3 ：10/20 == 15/30\n",
    "\n",
    "### 示例 2：\n",
    "\n",
    "输入：rectangles = [[4,5],[7,8]]\n",
    "\n",
    "输出：0\n",
    "\n",
    "解释：不存在成对的可互换矩形。\n",
    "\n",
    "## 三、解题思路\n",
    "\n",
    "### 字典计数"
   ]
  },
  {
   "cell_type": "code",
   "execution_count": 1,
   "metadata": {},
   "outputs": [],
   "source": [
    "def interchangeableRectangles(rectangles) -> int:\n",
    "    def comb(m, n):\n",
    "        ret = 1\n",
    "        for i in range(m, m - 2, -1):\n",
    "            ret *= i\n",
    "        div = 1\n",
    "        for i in range(1, n + 1):\n",
    "            div *= i\n",
    "        ret //= div\n",
    "        return ret\n",
    "    dic = {}\n",
    "    for matrix in rectangles:\n",
    "        slope = round(matrix[0] / matrix[1], 10)\n",
    "        if slope in dic:\n",
    "            dic[slope] += 1\n",
    "        else:\n",
    "            dic[slope] = 1\n",
    "    ret = 0\n",
    "    for key in dic:\n",
    "        if dic[key] < 2:\n",
    "            continue\n",
    "        ret += comb(dic[key], 2)\n",
    "    return ret"
   ]
  },
  {
   "cell_type": "code",
   "execution_count": 2,
   "metadata": {},
   "outputs": [
    {
     "data": {
      "text/plain": [
       "6"
      ]
     },
     "execution_count": 2,
     "metadata": {},
     "output_type": "execute_result"
    }
   ],
   "source": [
    "interchangeableRectangles([[4,8],[3,6],[10,20],[15,30]])"
   ]
  },
  {
   "cell_type": "code",
   "execution_count": 3,
   "metadata": {},
   "outputs": [
    {
     "data": {
      "text/plain": [
       "0"
      ]
     },
     "execution_count": 3,
     "metadata": {},
     "output_type": "execute_result"
    }
   ],
   "source": [
    "interchangeableRectangles([[4,5],[7,8]])"
   ]
  },
  {
   "cell_type": "code",
   "execution_count": null,
   "metadata": {},
   "outputs": [],
   "source": []
  }
 ],
 "metadata": {
  "kernelspec": {
   "display_name": "Python 3",
   "language": "python",
   "name": "python3"
  },
  "language_info": {
   "codemirror_mode": {
    "name": "ipython",
    "version": 3
   },
   "file_extension": ".py",
   "mimetype": "text/x-python",
   "name": "python",
   "nbconvert_exporter": "python",
   "pygments_lexer": "ipython3",
   "version": "3.6.5"
  }
 },
 "nbformat": 4,
 "nbformat_minor": 2
}
