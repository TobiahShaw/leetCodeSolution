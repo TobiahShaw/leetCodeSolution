{
 "cells": [
  {
   "cell_type": "markdown",
   "metadata": {},
   "source": [
    "# 非递减数列\n",
    "\n",
    "**题目来源：力扣（LeetCode）**\n",
    "\n",
    "**链接：https://leetcode-cn.com/problems/non-decreasing-array/**\n",
    "\n",
    "## 一、题目\n",
    "\n",
    "给你一个长度为 n 的整数数组，请你判断在 最多 改变 1 个元素的情况下，该数组能否变成一个非递减数列。\n",
    "\n",
    "我们是这样定义一个非递减数列的： 对于数组中所有的 i (0 <= i <= n-2)，总满足 nums[i] <= nums[i + 1]。\n",
    "\n",
    "### 说明：\n",
    "\n",
    "- 1 <= n <= 10 ^ 4\n",
    "- -10 ^ 5 <= nums[i] <= 10 ^ 5\n",
    "\n",
    "## 二、示例\n",
    "\n",
    "### 示例 1：\n",
    "\n",
    "输入: nums = [4,2,3]\n",
    "\n",
    "输出: true\n",
    "\n",
    "解释: 你可以通过把第一个4变成1来使得它成为一个非递减数列。\n",
    "\n",
    "### 示例 2：\n",
    "\n",
    "输入: nums = [4,2,1]\n",
    "\n",
    "输出: false\n",
    "\n",
    "解释: 你不能在只改变一个元素的情况下将其变为非递减数列。\n",
    "\n",
    "## 三、解题思路\n",
    "\n",
    "### 连续三个数之间的大小关系"
   ]
  },
  {
   "cell_type": "code",
   "execution_count": 1,
   "metadata": {},
   "outputs": [],
   "source": [
    "def checkPossibility(nums) -> bool:\n",
    "    if len(nums) <= 1:\n",
    "        return True\n",
    "    num = i = 0\n",
    "    while i < len(nums):\n",
    "        if i == 0 and nums[i] > nums[i+1]: # 左小右大\n",
    "            num += 1\n",
    "            nums[i] = nums[i+1]\n",
    "        elif 0 < i < len(nums)-1 and nums[i] > nums[i+1] >= nums[i-1]:  # 最小-最大-中间\n",
    "            num += 1\n",
    "            nums[i] = nums[i+1]\n",
    "        elif 0 < i < len(nums)-1 and nums[i-1] > nums[i] > nums[i+1]:   # 最大-中间-最小\n",
    "            return False\n",
    "        elif 0 < i < len(nums)-1 and nums[i] >= nums[i-1] > nums[i+1]:  # 中间-最大-最小\n",
    "            num += 1\n",
    "            nums[i+1] = nums[i]\n",
    "        if num > 1:\n",
    "            return False\n",
    "        i += 1 \n",
    "    return True"
   ]
  },
  {
   "cell_type": "code",
   "execution_count": 2,
   "metadata": {},
   "outputs": [
    {
     "data": {
      "text/plain": [
       "True"
      ]
     },
     "execution_count": 2,
     "metadata": {},
     "output_type": "execute_result"
    }
   ],
   "source": [
    "checkPossibility([4,2,3])"
   ]
  },
  {
   "cell_type": "code",
   "execution_count": 3,
   "metadata": {},
   "outputs": [
    {
     "data": {
      "text/plain": [
       "False"
      ]
     },
     "execution_count": 3,
     "metadata": {},
     "output_type": "execute_result"
    }
   ],
   "source": [
    "checkPossibility([4,2,1])"
   ]
  },
  {
   "cell_type": "code",
   "execution_count": null,
   "metadata": {},
   "outputs": [],
   "source": []
  }
 ],
 "metadata": {
  "kernelspec": {
   "display_name": "Python 3",
   "language": "python",
   "name": "python3"
  },
  "language_info": {
   "codemirror_mode": {
    "name": "ipython",
    "version": 3
   },
   "file_extension": ".py",
   "mimetype": "text/x-python",
   "name": "python",
   "nbconvert_exporter": "python",
   "pygments_lexer": "ipython3",
   "version": "3.6.5"
  }
 },
 "nbformat": 4,
 "nbformat_minor": 2
}
