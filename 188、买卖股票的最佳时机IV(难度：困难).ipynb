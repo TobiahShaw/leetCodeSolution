{
 "cells": [
  {
   "cell_type": "markdown",
   "metadata": {},
   "source": [
    "# 买卖股票的最佳时机IV\n",
    "\n",
    "**题目来源：力扣（LeetCode）**\n",
    "\n",
    "**链接：https://leetcode-cn.com/problems/best-time-to-buy-and-sell-stock-iv/**\n",
    "\n",
    "## 一、题目\n",
    "\n",
    "给定一个整数数组 prices ，它的第 i 个元素 prices[i] 是一支给定的股票在第 i 天的价格。\n",
    "\n",
    "设计一个算法来计算你所能获取的最大利润。你最多可以完成 k 笔交易。\n",
    "\n",
    "注意：你不能同时参与多笔交易（你必须在再次购买前出售掉之前的股票）。\n",
    "\n",
    "## 二、示例\n",
    "\n",
    "### 示例 1：\n",
    "\n",
    "输入：k = 2, prices = [2,4,1]\n",
    "\n",
    "输出：2\n",
    "\n",
    "解释：在第 1 天 (股票价格 = 2) 的时候买入，在第 2 天 (股票价格 = 4) 的时候卖出，这笔交易所能获得利润 = 4-2 = 2 。\n",
    "\n",
    "### 示例 2：\n",
    "\n",
    "输入：k = 2, prices = [3,2,6,5,0,3]\n",
    "\n",
    "输出：7\n",
    "\n",
    "解释：在第 2 天 (股票价格 = 2) 的时候买入，在第 3 天 (股票价格 = 6) 的时候卖出, 这笔交易所能获得利润 = 6-2 = 4 。随后，在第 5 天 (股票价格 = 0) 的时候买入，在第 6 天 (股票价格 = 3) 的时候卖出, 这笔交易所能获得利润 = 3-0 = 3 。\n",
    "\n",
    "## 三、解题思路\n",
    "\n",
    "### 动态规划"
   ]
  },
  {
   "cell_type": "code",
   "execution_count": 1,
   "metadata": {},
   "outputs": [],
   "source": [
    "def maxProfit(k: int, prices) -> int:\n",
    "    if not prices:\n",
    "        return 0\n",
    "\n",
    "    n = len(prices)\n",
    "    k = min(k, n // 2)\n",
    "\n",
    "    buy = [[0] * (k + 1) for _ in range(n)]\n",
    "    sell = [[0] * (k + 1) for _ in range(n)]\n",
    "\n",
    "    buy[0][0], sell[0][0] = -prices[0], 0\n",
    "    for i in range(1, k+1):\n",
    "        buy[0][i] = sell[0][i] = float('-inf')\n",
    "    \n",
    "    for i in range(1, n):\n",
    "        buy[i][0] = max(buy[i-1][0], sell[i-1][0] - prices[i])\n",
    "        for j in range(1, k + 1):\n",
    "            buy[i][j] = max(buy[i-1][j], sell[i-1][j] - prices[i])\n",
    "            sell[i][j] = max(sell[i-1][j], buy[i-1][j-1] + prices[i])\n",
    "    return max(sell[-1])"
   ]
  },
  {
   "cell_type": "code",
   "execution_count": 2,
   "metadata": {},
   "outputs": [
    {
     "data": {
      "text/plain": [
       "2"
      ]
     },
     "execution_count": 2,
     "metadata": {},
     "output_type": "execute_result"
    }
   ],
   "source": [
    "maxProfit(k = 2, prices = [2,4,1])"
   ]
  },
  {
   "cell_type": "code",
   "execution_count": 3,
   "metadata": {},
   "outputs": [
    {
     "data": {
      "text/plain": [
       "7"
      ]
     },
     "execution_count": 3,
     "metadata": {},
     "output_type": "execute_result"
    }
   ],
   "source": [
    "maxProfit(k = 2, prices = [3,2,6,5,0,3])"
   ]
  },
  {
   "cell_type": "code",
   "execution_count": null,
   "metadata": {},
   "outputs": [],
   "source": []
  }
 ],
 "metadata": {
  "kernelspec": {
   "display_name": "Python 3",
   "language": "python",
   "name": "python3"
  },
  "language_info": {
   "codemirror_mode": {
    "name": "ipython",
    "version": 3
   },
   "file_extension": ".py",
   "mimetype": "text/x-python",
   "name": "python",
   "nbconvert_exporter": "python",
   "pygments_lexer": "ipython3",
   "version": "3.6.5"
  }
 },
 "nbformat": 4,
 "nbformat_minor": 2
}
