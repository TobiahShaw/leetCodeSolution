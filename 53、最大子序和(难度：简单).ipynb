{
  "cells": [
    {
      "metadata": {
        "collapsed": true
      },
      "cell_type": "markdown",
      "source": "# 最大子序和\n\n**题目来源：力扣（LeetCode）**\n\n**链接：https://leetcode-cn.com/problems/maximum-subarray/**\n\n## 一、题目\n\n给定一个整数数组 nums ，找到一个具有最大和的连续子数组（子数组最少包含一个元素），返回其最大和。\n\n## 二、示例\n\n输入: [-2,1,-3,4,-1,2,1,-5,4]\n\n输出: 6\n\n解释: 连续子数组 [4,-1,2,1] 的和最大，为 6\n\n## 三、解题思路\n\n### 动态规划\n\n1. 原问题求最大子序和，子问题为求每个数为结尾的最大子序和，保存最大的为结果\n1. 确认状态：设置数据dp， dp[i]代表以nums[i]为结尾的最大子段的和\n2. 边界条件：dp[0] = nums[0]\n3. 确定状态转移方程：dp[i] = max(dp[i-1] + nums[i], nums[i])"
    },
    {
      "metadata": {
        "trusted": true
      },
      "cell_type": "code",
      "source": "def maxSubArray(nums) -> int:\n    if not nums:\n        return 0\n    dp = [0] * (len(nums))\n    dp[0] = nums[0]\n    ret = dp[0]\n    for i in range(1, len(nums)):\n        dp[i] = max(nums[i], dp[i-1] + nums[i])\n        if dp[i] > ret:\n            ret = dp[i]\n    return ret",
      "execution_count": 1,
      "outputs": []
    },
    {
      "metadata": {
        "trusted": true
      },
      "cell_type": "code",
      "source": "maxSubArray([-2,1,-3,4,-1,2,1,-5,4])",
      "execution_count": 2,
      "outputs": [
        {
          "output_type": "execute_result",
          "execution_count": 2,
          "data": {
            "text/plain": "6"
          },
          "metadata": {}
        }
      ]
    },
    {
      "metadata": {
        "trusted": true
      },
      "cell_type": "code",
      "source": "",
      "execution_count": null,
      "outputs": []
    }
  ],
  "metadata": {
    "kernelspec": {
      "name": "python36",
      "display_name": "Python 3.6",
      "language": "python"
    },
    "language_info": {
      "mimetype": "text/x-python",
      "nbconvert_exporter": "python",
      "name": "python",
      "pygments_lexer": "ipython3",
      "version": "3.6.6",
      "file_extension": ".py",
      "codemirror_mode": {
        "version": 3,
        "name": "ipython"
      }
    }
  },
  "nbformat": 4,
  "nbformat_minor": 2
}