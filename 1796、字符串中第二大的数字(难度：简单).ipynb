{
 "cells": [
  {
   "cell_type": "markdown",
   "metadata": {},
   "source": [
    "# 字符串中第二大的数字\n",
    "\n",
    "**题目来源：力扣（LeetCode）**\n",
    "\n",
    "**链接：https://leetcode-cn.com/problems/second-largest-digit-in-a-string/**\n",
    "\n",
    "## 一、题目\n",
    "\n",
    "给你一个混合字符串 s ，请你返回 s 中 第二大 的数字，如果不存在第二大的数字，请你返回 -1 。\n",
    "\n",
    "混合字符串 由小写英文字母和数字组成。\n",
    "\n",
    "### 提示：\n",
    "\n",
    "- 1 <= s.length <= 500\n",
    "- s 只包含小写英文字母和（或）数字。\n",
    "\n",
    "## 二、示例\n",
    "\n",
    "### 示例 1：\n",
    "\n",
    "输入：s = \"dfa12321afd\"\n",
    "\n",
    "输出：2\n",
    "\n",
    "解释：出现在 s 中的数字包括 [1, 2, 3] 。第二大的数字是 2 。\n",
    "\n",
    "### 示例 2：\n",
    "\n",
    "输入：s = \"abc1111\"\n",
    "\n",
    "输出：-1\n",
    "\n",
    "解释：出现在 s 中的数字只包含 [1] 。没有第二大的数字。\n",
    "\n",
    "## 三、解题思路\n",
    "\n",
    "### 遍历"
   ]
  },
  {
   "cell_type": "code",
   "execution_count": 1,
   "metadata": {},
   "outputs": [],
   "source": [
    "class Solution:\n",
    "    def secondHighest(self, s: str) -> int:\n",
    "        fir, sec = -1, -1\n",
    "        for ch in s:\n",
    "            if ch.isdigit():\n",
    "                value = int(ch)\n",
    "                if value > fir:\n",
    "                    sec = fir\n",
    "                    fir = value\n",
    "                elif value < fir and value > sec:\n",
    "                    sec = value\n",
    "        return sec"
   ]
  },
  {
   "cell_type": "code",
   "execution_count": 2,
   "metadata": {},
   "outputs": [
    {
     "data": {
      "text/plain": [
       "2"
      ]
     },
     "execution_count": 2,
     "metadata": {},
     "output_type": "execute_result"
    }
   ],
   "source": [
    "s = Solution()\n",
    "s.secondHighest(\"dfa12321afd\")"
   ]
  },
  {
   "cell_type": "code",
   "execution_count": 3,
   "metadata": {},
   "outputs": [
    {
     "data": {
      "text/plain": [
       "-1"
      ]
     },
     "execution_count": 3,
     "metadata": {},
     "output_type": "execute_result"
    }
   ],
   "source": [
    "s.secondHighest(\"abc1111\")"
   ]
  },
  {
   "cell_type": "code",
   "execution_count": null,
   "metadata": {},
   "outputs": [],
   "source": []
  }
 ],
 "metadata": {
  "kernelspec": {
   "display_name": "Python 3 (ipykernel)",
   "language": "python",
   "name": "python3"
  },
  "language_info": {
   "codemirror_mode": {
    "name": "ipython",
    "version": 3
   },
   "file_extension": ".py",
   "mimetype": "text/x-python",
   "name": "python",
   "nbconvert_exporter": "python",
   "pygments_lexer": "ipython3",
   "version": "3.9.10+"
  }
 },
 "nbformat": 4,
 "nbformat_minor": 2
}
