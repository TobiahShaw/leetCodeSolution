{
 "cells": [
  {
   "cell_type": "markdown",
   "id": "6e893f3e-b710-4f9d-8ca3-a4e19b96cba2",
   "metadata": {},
   "source": [
    "# 找到所有的农场组\n",
    "\n",
    "**题目来源：力扣（LeetCode）**\n",
    "\n",
    "**链接：https://leetcode-cn.com/problems/find-all-groups-of-farmland/**\n",
    "\n",
    "## 一、题目\n",
    "\n",
    "给你一个下标从 0 开始，大小为 m x n 的二进制矩阵 land ，其中 0 表示一单位的森林土地，1 表示一单位的农场土地。\n",
    "\n",
    "为了让农场保持有序，农场土地之间以矩形的 农场组 的形式存在。每一个农场组都 仅 包含农场土地。且题目保证不会有两个农场组相邻，也就是说一个农场组中的任何一块土地都 不会 与另一个农场组的任何一块土地在四个方向上相邻。\n",
    "\n",
    "land 可以用坐标系统表示，其中 land 左上角坐标为 (0, 0) ，右下角坐标为 (m-1, n-1) 。请你找到所有 农场组 最左上角和最右下角的坐标。一个左上角坐标为 (r1, c1) 且右下角坐标为 (r2, c2) 的 农场组 用长度为 4 的数组 [r1, c1, r2, c2] 表示。\n",
    "\n",
    "请你返回一个二维数组，它包含若干个长度为 4 的子数组，每个子数组表示 land 中的一个 农场组 。如果没有任何农场组，请你返回一个空数组。可以以 任意顺序 返回所有农场组。\n",
    "\n",
    "## 二、示例\n",
    "\n",
    "### 示例 1：\n",
    "\n",
    "输入：land = [[1,0,0],[0,1,1],[0,1,1]]\n",
    "\n",
    "输出：[[0,0,0,0],[1,1,2,2]]\n",
    "\n",
    "解释：\n",
    "\n",
    "- 第一个农场组的左上角为 land[0][0] ，右下角为 land[0][0] 。\n",
    "- 第二个农场组的左上角为 land[1][1] ，右下角为 land[2][2] 。\n",
    "\n",
    "### 示例 2：\n",
    "\n",
    "输入：land = [[1,1],[1,1]]\n",
    "\n",
    "输出：[[0,0,1,1]]\n",
    "\n",
    "解释：\n",
    "\n",
    "- 第一个农场组左上角为 land[0][0] ，右下角为 land[1][1] 。\n",
    "\n",
    "### 示例 3：\n",
    "\n",
    "输入：land = [[0]]\n",
    "\n",
    "输出：[]\n",
    "\n",
    "解释：\n",
    "\n",
    "没有任何农场组。\n",
    "\n",
    "## 三、解题思路\n",
    "\n",
    "### DFS"
   ]
  },
  {
   "cell_type": "code",
   "execution_count": 1,
   "id": "d9e2fde5-816f-480f-a6c2-82b950f164a3",
   "metadata": {},
   "outputs": [],
   "source": [
    "def findFarmland(land):\n",
    "    def dfs(r, c, ret):\n",
    "        r1, c1 = r, c\n",
    "        for x in range(r, m):\n",
    "            if land[x][c] == 1:\n",
    "                r1 = x\n",
    "            else:\n",
    "                break\n",
    "        for y in range(c, n):\n",
    "            if land[r][y] == 1:\n",
    "                c1 = y\n",
    "            else:\n",
    "                break\n",
    "        ret.append([r, c, r1, c1])\n",
    "    ret = []\n",
    "    m, n = len(land), len(land[0])\n",
    "    for r in range(m):\n",
    "        for c in range(n):\n",
    "            if land[r][c] == 0:\n",
    "                continue\n",
    "            if r > 0 and land[r-1][c] == 1:\n",
    "                continue\n",
    "            if c > 0 and land[r][c-1] == 1:\n",
    "                continue\n",
    "            dfs(r, c, ret)\n",
    "    return ret"
   ]
  },
  {
   "cell_type": "code",
   "execution_count": 2,
   "id": "22b50879-04c2-4728-94f1-52a5a6013584",
   "metadata": {},
   "outputs": [
    {
     "data": {
      "text/plain": [
       "[[0, 0, 0, 0], [1, 1, 2, 2]]"
      ]
     },
     "execution_count": 2,
     "metadata": {},
     "output_type": "execute_result"
    }
   ],
   "source": [
    "findFarmland([[1,0,0],[0,1,1],[0,1,1]])"
   ]
  },
  {
   "cell_type": "code",
   "execution_count": 3,
   "id": "c2834479-69df-4de5-a8e8-1d668556820a",
   "metadata": {},
   "outputs": [
    {
     "data": {
      "text/plain": [
       "[[0, 0, 1, 1]]"
      ]
     },
     "execution_count": 3,
     "metadata": {},
     "output_type": "execute_result"
    }
   ],
   "source": [
    "findFarmland([[1,1],[1,1]])"
   ]
  },
  {
   "cell_type": "code",
   "execution_count": 4,
   "id": "a0ccd7be-078e-42e5-8736-56fd70c4dd9a",
   "metadata": {},
   "outputs": [
    {
     "data": {
      "text/plain": [
       "[]"
      ]
     },
     "execution_count": 4,
     "metadata": {},
     "output_type": "execute_result"
    }
   ],
   "source": [
    "findFarmland([[0]])"
   ]
  },
  {
   "cell_type": "code",
   "execution_count": null,
   "id": "391d9262-e8a2-42a8-b6b5-affdc7d6891d",
   "metadata": {},
   "outputs": [],
   "source": []
  }
 ],
 "metadata": {
  "kernelspec": {
   "display_name": "Python 3 (ipykernel)",
   "language": "python",
   "name": "python3"
  },
  "language_info": {
   "codemirror_mode": {
    "name": "ipython",
    "version": 3
   },
   "file_extension": ".py",
   "mimetype": "text/x-python",
   "name": "python",
   "nbconvert_exporter": "python",
   "pygments_lexer": "ipython3",
   "version": "3.7.10"
  }
 },
 "nbformat": 4,
 "nbformat_minor": 5
}
