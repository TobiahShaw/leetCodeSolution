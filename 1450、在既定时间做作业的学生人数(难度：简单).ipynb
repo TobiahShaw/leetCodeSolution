{
 "cells": [
  {
   "cell_type": "markdown",
   "metadata": {},
   "source": [
    "# 在既定时间做作业的学生人数\n",
    "\n",
    "## 一、题目\n",
    "\n",
    "给你两个整数数组 startTime（开始时间）和 endTime（结束时间），并指定一个整数 queryTime 作为查询时间。\n",
    "\n",
    "已知，第 i 名学生在 startTime[i] 时开始写作业并于 endTime[i] 时完成作业。\n",
    "\n",
    "请返回在查询时间 queryTime 时正在做作业的学生人数。形式上，返回能够使 queryTime 处于区间 [startTime[i], endTime[i]]（含）的学生人数。\n",
    "\n",
    "## 二、示例\n",
    "\n",
    "### 示例 1：\n",
    "\n",
    "输入：startTime = [1,2,3], endTime = [3,2,7], queryTime = 4\n",
    "\n",
    "输出：1\n",
    "\n",
    "解释：一共有 3 名学生。\n",
    "\n",
    "第一名学生在时间 1 开始写作业，并于时间 3 完成作业，在时间 4 没有处于做作业的状态。\n",
    "\n",
    "第二名学生在时间 2 开始写作业，并于时间 2 完成作业，在时间 4 没有处于做作业的状态。\n",
    "\n",
    "第三名学生在时间 3 开始写作业，预计于时间 7 完成作业，这是是唯一一名在时间 4 时正在做作业的学生。\n",
    "\n",
    "### 示例 2：\n",
    "\n",
    "输入：startTime = [4], endTime = [4], queryTime = 4\n",
    "\n",
    "输出：1\n",
    "\n",
    "解释：在查询时间只有一名学生在做作业。\n",
    "\n",
    "### 示例 3：\n",
    "\n",
    "输入：startTime = [4], endTime = [4], queryTime = 5\n",
    "\n",
    "输出：0\n",
    "\n",
    "### 示例 4：\n",
    "\n",
    "输入：startTime = [1,1,1,1], endTime = [1,3,2,4], queryTime = 7\n",
    "\n",
    "输出：0\n",
    "\n",
    "### 示例 5：\n",
    "\n",
    "输入：startTime = [9,8,7,6,5,4,3,2,1], endTime = [10,10,10,10,10,10,10,10,10], queryTime = 5\n",
    "\n",
    "输出：5\n",
    "\n",
    "## 三、解题思路\n",
    "\n",
    "### 轮询"
   ]
  },
  {
   "cell_type": "code",
   "execution_count": 1,
   "metadata": {},
   "outputs": [],
   "source": [
    "def busyStudent(startTime, endTime, queryTime: int) -> int:\n",
    "    return sum([1 if startTime[i] <= queryTime <= endTime[i] else 0 for i in range(len(startTime))])"
   ]
  },
  {
   "cell_type": "code",
   "execution_count": 2,
   "metadata": {},
   "outputs": [
    {
     "data": {
      "text/plain": [
       "1"
      ]
     },
     "execution_count": 2,
     "metadata": {},
     "output_type": "execute_result"
    }
   ],
   "source": [
    "busyStudent(startTime = [1,2,3], endTime = [3,2,7], queryTime = 4)"
   ]
  },
  {
   "cell_type": "code",
   "execution_count": 3,
   "metadata": {},
   "outputs": [
    {
     "data": {
      "text/plain": [
       "1"
      ]
     },
     "execution_count": 3,
     "metadata": {},
     "output_type": "execute_result"
    }
   ],
   "source": [
    "busyStudent(startTime = [4], endTime = [4], queryTime = 4)"
   ]
  },
  {
   "cell_type": "code",
   "execution_count": 4,
   "metadata": {},
   "outputs": [
    {
     "data": {
      "text/plain": [
       "0"
      ]
     },
     "execution_count": 4,
     "metadata": {},
     "output_type": "execute_result"
    }
   ],
   "source": [
    "busyStudent(startTime = [4], endTime = [4], queryTime = 5)"
   ]
  },
  {
   "cell_type": "code",
   "execution_count": 5,
   "metadata": {},
   "outputs": [
    {
     "data": {
      "text/plain": [
       "0"
      ]
     },
     "execution_count": 5,
     "metadata": {},
     "output_type": "execute_result"
    }
   ],
   "source": [
    "busyStudent(startTime = [1,1,1,1], endTime = [1,3,2,4], queryTime = 7)"
   ]
  },
  {
   "cell_type": "code",
   "execution_count": 6,
   "metadata": {},
   "outputs": [
    {
     "data": {
      "text/plain": [
       "5"
      ]
     },
     "execution_count": 6,
     "metadata": {},
     "output_type": "execute_result"
    }
   ],
   "source": [
    "busyStudent(startTime = [9,8,7,6,5,4,3,2,1], endTime = [10,10,10,10,10,10,10,10,10], queryTime = 5)"
   ]
  },
  {
   "cell_type": "code",
   "execution_count": null,
   "metadata": {},
   "outputs": [],
   "source": []
  }
 ],
 "metadata": {
  "kernelspec": {
   "display_name": "Python 3",
   "language": "python",
   "name": "python3"
  },
  "language_info": {
   "codemirror_mode": {
    "name": "ipython",
    "version": 3
   },
   "file_extension": ".py",
   "mimetype": "text/x-python",
   "name": "python",
   "nbconvert_exporter": "python",
   "pygments_lexer": "ipython3",
   "version": "3.6.5"
  }
 },
 "nbformat": 4,
 "nbformat_minor": 2
}
