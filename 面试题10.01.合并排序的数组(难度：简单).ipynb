{
 "cells": [
  {
   "cell_type": "markdown",
   "metadata": {},
   "source": [
    "# 合并排序的数组\n",
    "\n",
    "**题目来源：力扣（LeetCode）**\n",
    "\n",
    "**链接：https://leetcode-cn.com/problems/sorted-merge-lcci/**\n",
    "\n",
    "## 一、题目\n",
    "\n",
    "给定两个排序后的数组 A 和 B，其中 A 的末端有足够的缓冲空间容纳 B。 编写一个方法，将 B 合并入 A 并排序。\n",
    "\n",
    "初始化 A 和 B 的元素数量分别为 m 和 n。\n",
    "\n",
    "### 说明:\n",
    "\n",
    "A.length == n + m\n",
    "\n",
    "## 二、示例\n",
    "\n",
    "### 示例 1：\n",
    "\n",
    "输入:\n",
    "\n",
    "A = [1,2,3,0,0,0], m = 3\n",
    "\n",
    "B = [2,5,6], n = 3\n",
    "\n",
    "输出: [1,2,2,3,5,6]\n",
    "\n",
    "## 三、解题思路\n",
    "\n",
    "### 一、先合并后排序"
   ]
  },
  {
   "cell_type": "code",
   "execution_count": 1,
   "metadata": {},
   "outputs": [],
   "source": [
    "def merge(A, m: int, B, n: int):\n",
    "    A[m:] = B\n",
    "    A.sort()\n",
    "    return A"
   ]
  },
  {
   "cell_type": "code",
   "execution_count": 2,
   "metadata": {},
   "outputs": [
    {
     "data": {
      "text/plain": [
       "[1, 2, 2, 3, 5, 6]"
      ]
     },
     "execution_count": 2,
     "metadata": {},
     "output_type": "execute_result"
    }
   ],
   "source": [
    "merge(A = [1,2,3,0,0,0], m = 3,B = [2,5,6], n = 3)"
   ]
  },
  {
   "cell_type": "markdown",
   "metadata": {},
   "source": [
    "### 二、利用数组"
   ]
  },
  {
   "cell_type": "code",
   "execution_count": 3,
   "metadata": {},
   "outputs": [],
   "source": [
    "def merge(A, m: int, B, n: int):\n",
    "    sort = []\n",
    "    pa, pb = 0, 0\n",
    "    while pa < m or pb < n:\n",
    "        if pa == m:\n",
    "            sort.append(B[pb])\n",
    "            pb += 1\n",
    "        elif pb == n:\n",
    "            sort.append(A[pa])\n",
    "            pa += 1\n",
    "        elif A[pa] < B[pb]:\n",
    "            sort.append(A[pa])\n",
    "            pa += 1\n",
    "        else:\n",
    "            sort.append(B[pb])\n",
    "            pb += 1\n",
    "    A[:] = sort\n",
    "    return A"
   ]
  },
  {
   "cell_type": "code",
   "execution_count": 4,
   "metadata": {},
   "outputs": [
    {
     "data": {
      "text/plain": [
       "[1, 2, 2, 3, 5, 6]"
      ]
     },
     "execution_count": 4,
     "metadata": {},
     "output_type": "execute_result"
    }
   ],
   "source": [
    "merge(A = [1,2,3,0,0,0], m = 3,B = [2,5,6], n = 3)"
   ]
  },
  {
   "cell_type": "markdown",
   "metadata": {},
   "source": [
    "### 三、原地合并"
   ]
  },
  {
   "cell_type": "code",
   "execution_count": 5,
   "metadata": {},
   "outputs": [],
   "source": [
    "def merge(A, m: int, B, n: int):\n",
    "    pa, pb, tail = m - 1, n - 1, m + n - 1\n",
    "    while pa >= 0 or pb >= 0:\n",
    "        if pa == -1:\n",
    "            A[tail] = B[pb]\n",
    "            pb -= 1\n",
    "        elif pb == -1:\n",
    "            A[tail] = A[pa]\n",
    "            pa -= 1\n",
    "        elif A[pa] > B[pb]:\n",
    "            A[tail] = A[pa]\n",
    "            pa -= 1\n",
    "        else:\n",
    "            A[tail] = B[pb]\n",
    "            pb -= 1\n",
    "        tail -= 1\n",
    "    return A"
   ]
  },
  {
   "cell_type": "code",
   "execution_count": 6,
   "metadata": {},
   "outputs": [
    {
     "data": {
      "text/plain": [
       "[1, 2, 2, 3, 5, 6]"
      ]
     },
     "execution_count": 6,
     "metadata": {},
     "output_type": "execute_result"
    }
   ],
   "source": [
    "merge(A = [1,2,3,0,0,0], m = 3,B = [2,5,6], n = 3)"
   ]
  },
  {
   "cell_type": "code",
   "execution_count": null,
   "metadata": {},
   "outputs": [],
   "source": []
  }
 ],
 "metadata": {
  "kernelspec": {
   "display_name": "Python 3",
   "language": "python",
   "name": "python3"
  },
  "language_info": {
   "codemirror_mode": {
    "name": "ipython",
    "version": 3
   },
   "file_extension": ".py",
   "mimetype": "text/x-python",
   "name": "python",
   "nbconvert_exporter": "python",
   "pygments_lexer": "ipython3",
   "version": "3.6.5"
  }
 },
 "nbformat": 4,
 "nbformat_minor": 2
}
