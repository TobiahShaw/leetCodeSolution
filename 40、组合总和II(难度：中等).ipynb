{
  "cells": [
    {
      "metadata": {
        "collapsed": true
      },
      "cell_type": "markdown",
      "source": "# 组合总和II\n\n**题目来源：力扣（LeetCode）**\n\n**链接：https://leetcode-cn.com/problems/combination-sum-ii/**\n\n## 一、题目\n\n给定一个数组candidates和一个目标数target，找出candidates中所有可以使数字和为target的组合。\n\ncandidates中的每个数字在每个组合中只能使用一次。\n\n说明：\n\n- 所有数字（包括目标数）都是正整数。\n- 解集不能包含重复的组合。 \n\n## 二、示例\n\n### 示例 1:\n\n输入: candidates = [10,1,2,7,6,1,5], target = 8,\n\n所求解集为:\n\n[[1, 7],[1, 2, 5],[2, 6],[1, 1, 6]]\n\n### 示例 2:\n\n输入: candidates = [2,5,2,1,2], target = 5,\n\n所求解集为:\n\n[[1,2,2],[5]]\n\n## 三、解题思路\n\n\n### 回溯法\n\n我们可以使用《90、子集Ⅱ》的方法先求出子集然后，然后再遍历子集寻找和为target的子集。\n\n方法是可行的，但是时间复杂度太高。整体复杂度为O(2^n)。\n\n提交leetcode会出现超时的情况。"
    },
    {
      "metadata": {
        "trusted": true
      },
      "cell_type": "code",
      "source": "def combinationSum2(candidates, target):\n    def generate(i, nums, item, result):\n        if i >= len(nums):\n            return\n        item.append(nums[i])\n        if item not in result:\n            result.append(item[:])\n        generate(i + 1, nums, item, result)\n        item.pop()\n        generate(i + 1, nums, item, result)\n    nums = sorted(candidates)\n    item = []\n    subset = []\n    subset.append(item[:])\n    generate(0, nums, item, subset)\n    result = []\n    for i in subset:\n        if sum(i) == target:\n            result.append(i)\n    return result",
      "execution_count": 1,
      "outputs": []
    },
    {
      "metadata": {
        "trusted": true
      },
      "cell_type": "code",
      "source": "combinationSum2(candidates=[10,1,2,7,6,1,5], target=8)",
      "execution_count": 3,
      "outputs": [
        {
          "output_type": "execute_result",
          "execution_count": 3,
          "data": {
            "text/plain": "[[1, 1, 6], [1, 2, 5], [1, 7], [2, 6]]"
          },
          "metadata": {}
        }
      ]
    },
    {
      "metadata": {
        "trusted": true
      },
      "cell_type": "code",
      "source": "combinationSum2(candidates=[2,5,2,1,2], target =5)",
      "execution_count": 4,
      "outputs": [
        {
          "output_type": "execute_result",
          "execution_count": 4,
          "data": {
            "text/plain": "[[1, 2, 2], [5]]"
          },
          "metadata": {}
        }
      ]
    },
    {
      "metadata": {
        "trusted": true
      },
      "cell_type": "code",
      "source": "",
      "execution_count": null,
      "outputs": []
    }
  ],
  "metadata": {
    "kernelspec": {
      "name": "python36",
      "display_name": "Python 3.6",
      "language": "python"
    },
    "language_info": {
      "mimetype": "text/x-python",
      "nbconvert_exporter": "python",
      "name": "python",
      "pygments_lexer": "ipython3",
      "version": "3.6.6",
      "file_extension": ".py",
      "codemirror_mode": {
        "version": 3,
        "name": "ipython"
      }
    }
  },
  "nbformat": 4,
  "nbformat_minor": 2
}