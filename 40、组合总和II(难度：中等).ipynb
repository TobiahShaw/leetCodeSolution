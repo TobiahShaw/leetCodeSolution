{
  "cells": [
    {
      "metadata": {
        "collapsed": true
      },
      "cell_type": "markdown",
      "source": "# 组合总和II\n\n**题目来源：力扣（LeetCode）**\n\n**链接：https://leetcode-cn.com/problems/combination-sum-ii/**\n\n## 一、题目\n\n给定一个数组candidates和一个目标数target，找出candidates中所有可以使数字和为target的组合。\n\ncandidates中的每个数字在每个组合中只能使用一次。\n\n说明：\n\n- 所有数字（包括目标数）都是正整数。\n- 解集不能包含重复的组合。 \n\n## 二、示例\n\n### 示例 1:\n\n输入: candidates = [10,1,2,7,6,1,5], target = 8,\n\n所求解集为:\n\n[[1, 7],[1, 2, 5],[2, 6],[1, 1, 6]]\n\n### 示例 2:\n\n输入: candidates = [2,5,2,1,2], target = 5,\n\n所求解集为:\n\n[[1,2,2],[5]]\n\n## 三、解题思路"
    },
    {
      "metadata": {
        "trusted": true
      },
      "cell_type": "code",
      "source": "",
      "execution_count": null,
      "outputs": []
    }
  ],
  "metadata": {
    "kernelspec": {
      "name": "python36",
      "display_name": "Python 3.6",
      "language": "python"
    },
    "language_info": {
      "mimetype": "text/x-python",
      "nbconvert_exporter": "python",
      "name": "python",
      "pygments_lexer": "ipython3",
      "version": "3.6.6",
      "file_extension": ".py",
      "codemirror_mode": {
        "version": 3,
        "name": "ipython"
      }
    }
  },
  "nbformat": 4,
  "nbformat_minor": 2
}