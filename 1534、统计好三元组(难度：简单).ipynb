{
 "cells": [
  {
   "cell_type": "markdown",
   "id": "2fe5a54b",
   "metadata": {},
   "source": [
    "# 统计好三元组\n",
    "\n",
    "**题目来源：力扣（LeetCode）**\n",
    "\n",
    "**链接：https://leetcode.cn/problems/count-good-triplets/**\n",
    "\n",
    "## 一、题目\n",
    "\n",
    "给你一个整数数组 arr ，以及 a、b 、c 三个整数。请你统计其中好三元组的数量。\n",
    "\n",
    "如果三元组 (arr[i], arr[j], arr[k]) 满足下列全部条件，则认为它是一个 好三元组 。\n",
    "\n",
    "- 0 <= i < j < k < arr.length\n",
    "- |arr[i] - arr[j]| <= a\n",
    "- |arr[j] - arr[k]| <= b\n",
    "- |arr[i] - arr[k]| <= c\n",
    "\n",
    "其中 |x| 表示 x 的绝对值。\n",
    "\n",
    "返回 好三元组的数量 。\n",
    "\n",
    "### 提示：\n",
    "\n",
    "- 3 <= arr.length <= 100\n",
    "- 0 <= arr[i] <= 1000\n",
    "- 0 <= a, b, c <= 1000\n",
    "\n",
    "## 二、示例\n",
    "\n",
    "### 示例 1：\n",
    "\n",
    "输入：arr = [3,0,1,1,9,7], a = 7, b = 2, c = 3\n",
    "\n",
    "输出：4\n",
    "\n",
    "解释：一共有 4 个好三元组：[(3,0,1), (3,0,1), (3,1,1), (0,1,1)] 。\n",
    "\n",
    "### 示例 2：\n",
    "\n",
    "输入：arr = [1,1,2,2,3], a = 0, b = 0, c = 1\n",
    "\n",
    "输出：0\n",
    "\n",
    "解释：不存在满足所有条件的三元组。\n",
    "\n",
    "## 三、解题思路\n",
    "\n",
    "### 枚举"
   ]
  },
  {
   "cell_type": "code",
   "execution_count": 1,
   "id": "a9416e61",
   "metadata": {},
   "outputs": [],
   "source": [
    "class Solution:\n",
    "    def countGoodTriplets(self, arr, a: int, b: int, c: int) -> int:\n",
    "        n=0\n",
    "        for i in range(0,len(arr)):\n",
    "            for j in range(i+1,len(arr)):\n",
    "                for k in range(j+1,len(arr)):\n",
    "                    if abs(arr[i] - arr[j]) <= a and abs(arr[j] - arr[k]) <= b and abs(arr[k] - arr[i]) <= c:\n",
    "                        n+=1\n",
    "        return n"
   ]
  },
  {
   "cell_type": "code",
   "execution_count": 2,
   "id": "16fa33d2",
   "metadata": {},
   "outputs": [
    {
     "data": {
      "text/plain": [
       "4"
      ]
     },
     "execution_count": 2,
     "metadata": {},
     "output_type": "execute_result"
    }
   ],
   "source": [
    "s = Solution()\n",
    "s.countGoodTriplets(arr = [3,0,1,1,9,7], a = 7, b = 2, c = 3)"
   ]
  },
  {
   "cell_type": "code",
   "execution_count": 3,
   "id": "ab9cc911",
   "metadata": {},
   "outputs": [
    {
     "data": {
      "text/plain": [
       "0"
      ]
     },
     "execution_count": 3,
     "metadata": {},
     "output_type": "execute_result"
    }
   ],
   "source": [
    "s.countGoodTriplets(arr = [1,1,2,2,3], a = 0, b = 0, c = 1)"
   ]
  },
  {
   "cell_type": "code",
   "execution_count": null,
   "id": "869b81a5",
   "metadata": {},
   "outputs": [],
   "source": []
  }
 ],
 "metadata": {
  "kernelspec": {
   "display_name": "Python 3 (ipykernel)",
   "language": "python",
   "name": "python3"
  },
  "language_info": {
   "codemirror_mode": {
    "name": "ipython",
    "version": 3
   },
   "file_extension": ".py",
   "mimetype": "text/x-python",
   "name": "python",
   "nbconvert_exporter": "python",
   "pygments_lexer": "ipython3",
   "version": "3.11.0"
  }
 },
 "nbformat": 4,
 "nbformat_minor": 5
}
