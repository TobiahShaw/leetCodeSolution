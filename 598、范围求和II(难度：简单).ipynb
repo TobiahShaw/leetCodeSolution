{
 "cells": [
  {
   "cell_type": "markdown",
   "metadata": {},
   "source": [
    "# 范围求和II\n",
    "\n",
    "**题目来源：力扣（LeetCode）**\n",
    "\n",
    "**链接：https://leetcode-cn.com/problems/range-addition-ii/**\n",
    "\n",
    "## 一、题目\n",
    "\n",
    "给定一个初始元素全部为 0，大小为 m*n 的矩阵 M 以及在 M 上的一系列更新操作。\n",
    "\n",
    "操作用二维数组表示，其中的每个操作用一个含有两个正整数 a 和 b 的数组表示，含义是将所有符合 0 <= i < a 以及 0 <= j < b 的元素 M[i][j] 的值都增加 1。\n",
    "\n",
    "在执行给定的一系列操作后，你需要返回矩阵中含有最大整数的元素个数。\n",
    "\n",
    "### 注意:\n",
    "\n",
    "- m 和 n 的范围是 [1,40000]。\n",
    "- a 的范围是 [1,m]，b 的范围是 [1,n]。\n",
    "- 操作数目不超过 10000。\n",
    "\n",
    "## 二、示例\n",
    "\n",
    "输入: m = 3, n = 3, ops = [[2,2],[3,3]]\n",
    "\n",
    "输出: 4\n",
    "\n",
    "解释: \n",
    "\n",
    "初始状态, M = \n",
    "\n",
    "```\n",
    "[[0, 0, 0],\n",
    " [0, 0, 0],\n",
    " [0, 0, 0]]\n",
    "```\n",
    "\n",
    "执行完操作 [2,2] 后, M = \n",
    "\n",
    "```\n",
    "[[1, 1, 0],\n",
    " [1, 1, 0],\n",
    " [0, 0, 0]]\n",
    "```\n",
    "\n",
    "执行完操作 [3,3] 后, M = \n",
    "\n",
    "```\n",
    "[[2, 2, 1],\n",
    " [2, 2, 1],\n",
    " [1, 1, 1]]\n",
    "```\n",
    "\n",
    "M 中最大的整数是 2, 而且 M 中有4个值为2的元素。因此返回 4。\n",
    "\n",
    "## 三、解题思路\n",
    "\n",
    "### 贪心"
   ]
  },
  {
   "cell_type": "code",
   "execution_count": 1,
   "metadata": {},
   "outputs": [],
   "source": [
    "def maxCount(m: int, n: int, ops) -> int:\n",
    "    x, y = m, n\n",
    "    for op  in ops:\n",
    "        x = min(x, op[0])\n",
    "        y = min(y, op[1])\n",
    "    return x * y"
   ]
  },
  {
   "cell_type": "code",
   "execution_count": 2,
   "metadata": {},
   "outputs": [
    {
     "data": {
      "text/plain": [
       "4"
      ]
     },
     "execution_count": 2,
     "metadata": {},
     "output_type": "execute_result"
    }
   ],
   "source": [
    "maxCount(m = 3, n = 3, ops = [[2,2],[3,3]])"
   ]
  },
  {
   "cell_type": "code",
   "execution_count": null,
   "metadata": {},
   "outputs": [],
   "source": []
  }
 ],
 "metadata": {
  "kernelspec": {
   "display_name": "Python 3",
   "language": "python",
   "name": "python3"
  },
  "language_info": {
   "codemirror_mode": {
    "name": "ipython",
    "version": 3
   },
   "file_extension": ".py",
   "mimetype": "text/x-python",
   "name": "python",
   "nbconvert_exporter": "python",
   "pygments_lexer": "ipython3",
   "version": "3.6.5"
  }
 },
 "nbformat": 4,
 "nbformat_minor": 2
}
