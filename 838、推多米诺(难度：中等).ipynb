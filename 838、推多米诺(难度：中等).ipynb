{
 "cells": [
  {
   "cell_type": "markdown",
   "metadata": {},
   "source": [
    "# 推多米诺\n",
    "\n",
    "**题目来源：力扣（LeetCode）**\n",
    "\n",
    "**链接：https://leetcode-cn.com/problems/push-dominoes/**\n",
    "\n",
    "## 一、题目\n",
    "\n",
    "n 张多米诺骨牌排成一行，将每张多米诺骨牌垂直竖立。在开始时，同时把一些多米诺骨牌向左或向右推。\n",
    "\n",
    "每过一秒，倒向左边的多米诺骨牌会推动其左侧相邻的多米诺骨牌。同样地，倒向右边的多米诺骨牌也会推动竖立在其右侧的相邻多米诺骨牌。\n",
    "\n",
    "如果一张垂直竖立的多米诺骨牌的两侧同时有多米诺骨牌倒下时，由于受力平衡， 该骨牌仍然保持不变。\n",
    "\n",
    "就这个问题而言，我们会认为一张正在倒下的多米诺骨牌不会对其它正在倒下或已经倒下的多米诺骨牌施加额外的力。\n",
    "\n",
    "给你一个字符串 dominoes 表示这一行多米诺骨牌的初始状态，其中：\n",
    "\n",
    "- dominoes[i] = 'L'，表示第 i 张多米诺骨牌被推向左侧，\n",
    "- dominoes[i] = 'R'，表示第 i 张多米诺骨牌被推向右侧，\n",
    "- dominoes[i] = '.'，表示没有推动第 i 张多米诺骨牌。\n",
    "\n",
    "返回表示最终状态的字符串。\n",
    "\n",
    "### 提示：\n",
    "\n",
    "- n == dominoes.length\n",
    "- 1 <= n <= 10^5\n",
    "- dominoes[i] 为 'L'、'R' 或 '.'\n",
    "\n",
    "## 二、示例\n",
    "\n",
    "### 示例 1：\n",
    "\n",
    "输入：dominoes = \"RR.L\"\n",
    "\n",
    "输出：\"RR.L\"\n",
    "\n",
    "解释：第一张多米诺骨牌没有给第二张施加额外的力。\n",
    "\n",
    "### 示例 2：\n",
    "\n",
    "输入：dominoes = \".L.R...LR..L..\"\n",
    "\n",
    "输出：\"LL.RR.LLRRLL..\"\n",
    "\n",
    "## 三、解题思路\n",
    "\n",
    "### bfs"
   ]
  },
  {
   "cell_type": "code",
   "execution_count": 1,
   "metadata": {},
   "outputs": [],
   "source": [
    "def pushDominoes(dominoes: str) -> str:\n",
    "    from collections import deque\n",
    "    n = len(dominoes)\n",
    "    q = deque()\n",
    "    time = [-1] * n\n",
    "    force = [[] for _ in range(n)]\n",
    "    for i in range(n):\n",
    "        f = dominoes[i]\n",
    "        if f != '.':\n",
    "            q.append(i)\n",
    "            time[i] = 0\n",
    "            force[i].append(f)\n",
    "    ret = ['.'] * n\n",
    "    while q:\n",
    "        i = q.popleft()\n",
    "        if len(force[i]) == 1:\n",
    "            ret[i] = f = force[i][0]\n",
    "            ni = i - 1 if f == 'L' else i + 1\n",
    "            if 0 <= ni < n:\n",
    "                t = time[i]\n",
    "                if time[ni] == -1:\n",
    "                    q.append(ni)\n",
    "                    time[ni] = t + 1\n",
    "                    force[ni].append(f)\n",
    "                elif time[ni] == t + 1:\n",
    "                    force[ni].append(f)\n",
    "    return ''.join(ret)"
   ]
  },
  {
   "cell_type": "code",
   "execution_count": 2,
   "metadata": {},
   "outputs": [
    {
     "data": {
      "text/plain": [
       "'RR.L'"
      ]
     },
     "execution_count": 2,
     "metadata": {},
     "output_type": "execute_result"
    }
   ],
   "source": [
    "pushDominoes(\"RR.L\")"
   ]
  },
  {
   "cell_type": "code",
   "execution_count": 3,
   "metadata": {},
   "outputs": [
    {
     "data": {
      "text/plain": [
       "'LL.RR.LLRRLL..'"
      ]
     },
     "execution_count": 3,
     "metadata": {},
     "output_type": "execute_result"
    }
   ],
   "source": [
    "pushDominoes(\".L.R...LR..L..\")"
   ]
  },
  {
   "cell_type": "code",
   "execution_count": null,
   "metadata": {},
   "outputs": [],
   "source": []
  }
 ],
 "metadata": {
  "kernelspec": {
   "display_name": "Python 3",
   "language": "python",
   "name": "python3"
  },
  "language_info": {
   "codemirror_mode": {
    "name": "ipython",
    "version": 3
   },
   "file_extension": ".py",
   "mimetype": "text/x-python",
   "name": "python",
   "nbconvert_exporter": "python",
   "pygments_lexer": "ipython3",
   "version": "3.6.5"
  }
 },
 "nbformat": 4,
 "nbformat_minor": 2
}
