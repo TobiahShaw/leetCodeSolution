{
 "cells": [
  {
   "attachments": {
    "island.png": {
     "image/png": "[encoded data removed]"
    }
   },
   "cell_type": "markdown",
   "metadata": {},
   "source": [
    "# 岛屿的周长\n",
    "\n",
    "**题目来源：力扣（LeetCode）**\n",
    "\n",
    "**链接：https://leetcode-cn.com/problems/island-perimeter/**\n",
    "\n",
    "## 一、题目\n",
    "\n",
    "给定一个包含 0 和 1 的二维网格地图，其中 1 表示陆地 0 表示水域。\n",
    "\n",
    "网格中的格子水平和垂直方向相连（对角线方向不相连）。整个网格被水完全包围，但其中恰好有一个岛屿（或者说，一个或多个表示陆地的格子相连组成的岛屿）。\n",
    "\n",
    "岛屿中没有“湖”（“湖” 指水域在岛屿内部且不和岛屿周围的水相连）。格子是边长为 1 的正方形。网格为长方形，且宽度和高度均不超过 100 。计算这个岛屿的周长。\n",
    "\n",
    "## 二、示例\n",
    "\n",
    "### 示例 1：\n",
    "\n",
    "输入:\n",
    "[[0,1,0,0],\n",
    " [1,1,1,0],\n",
    " [0,1,0,0],\n",
    " [1,1,0,0]]\n",
    "\n",
    "输出: 16\n",
    "\n",
    "解释: 它的周长是下面图片中的 16 个黄色的边：\n",
    "\n",
    "![island.png](attachment:island.png)\n",
    "\n",
    "## 三、解题思路\n",
    "\n",
    "### 模拟过程"
   ]
  },
  {
   "cell_type": "code",
   "execution_count": 1,
   "metadata": {},
   "outputs": [],
   "source": [
    "def islandPerimeter(grid) -> int:\n",
    "    if not grid or not grid[0]:\n",
    "        return 0\n",
    "    m, n = len(grid), len(grid[0])\n",
    "    ret = 0\n",
    "    for i in range(m):\n",
    "        for j in range(n):\n",
    "            cur = grid[i][j]\n",
    "            if cur == 0:\n",
    "                if i > 0 and grid[i-1][j] == 1:\n",
    "                    ret += 1\n",
    "                if j > 0 and grid[i][j-1] == 1:\n",
    "                    ret += 1\n",
    "            else:\n",
    "                if i == 0 or grid[i-1][j] == 0:\n",
    "                    ret += 1\n",
    "                if i == m - 1:\n",
    "                    ret += 1\n",
    "                if j == 0 or grid[i][j-1] == 0:\n",
    "                    ret += 1\n",
    "                if j == n - 1:\n",
    "                    ret += 1\n",
    "    return ret"
   ]
  },
  {
   "cell_type": "code",
   "execution_count": 2,
   "metadata": {},
   "outputs": [
    {
     "data": {
      "text/plain": [
       "16"
      ]
     },
     "execution_count": 2,
     "metadata": {},
     "output_type": "execute_result"
    }
   ],
   "source": [
    "islandPerimeter([[0,1,0,0], [1,1,1,0], [0,1,0,0], [1,1,0,0]])"
   ]
  },
  {
   "cell_type": "code",
   "execution_count": null,
   "metadata": {},
   "outputs": [],
   "source": []
  }
 ],
 "metadata": {
  "kernelspec": {
   "display_name": "Python 3",
   "language": "python",
   "name": "python3"
  },
  "language_info": {
   "codemirror_mode": {
    "name": "ipython",
    "version": 3
   },
   "file_extension": ".py",
   "mimetype": "text/x-python",
   "name": "python",
   "nbconvert_exporter": "python",
   "pygments_lexer": "ipython3",
   "version": "3.6.5"
  }
 },
 "nbformat": 4,
 "nbformat_minor": 2
}
