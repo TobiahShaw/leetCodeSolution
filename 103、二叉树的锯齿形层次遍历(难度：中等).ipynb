{
 "cells": [
  {
   "cell_type": "markdown",
   "metadata": {
    "collapsed": true
   },
   "source": [
    "# 二叉树的锯齿形层次遍历\n",
    "\n",
    "**题目来源：力扣（LeetCode）**\n",
    "\n",
    "**链接：https://leetcode-cn.com/problems/binary-tree-zigzag-level-order-traversal/**\n",
    "\n",
    "## 一、题目\n",
    "\n",
    "给定一个二叉树，返回其节点值的锯齿形层次遍历。（即先从左往右，再从右往左进行下一层遍历，以此类推，层与层之间交替进行）。\n",
    "\n",
    "## 二、示例\n",
    "\n",
    "例如:\n",
    "\n",
    "给定二叉树: [3,9,20,null,null,15,7],\n",
    "\n",
    "```\n",
    "    3\n",
    "   / \\\n",
    "  9  20\n",
    "    /  \\\n",
    "   15   7\n",
    "```\n",
    "\n",
    "返回其层次遍历结果：\n",
    "\n",
    "```\n",
    "[\n",
    "  [3],\n",
    "  [20,9],\n",
    "  [15,7]\n",
    "]\n",
    "\n",
    "```\n",
    "\n",
    "## 三、解题思路\n",
    "\n",
    "### 广度优先遍历"
   ]
  },
  {
   "cell_type": "code",
   "execution_count": 1,
   "metadata": {},
   "outputs": [],
   "source": [
    "class TreeNode:\n",
    "    def __init__(self, x):\n",
    "        self.val = x\n",
    "        self.left = None\n",
    "        self.right = None\n",
    "root = TreeNode(3)\n",
    "\n",
    "root.left = TreeNode(9)\n",
    "root.right = TreeNode(20)\n",
    "\n",
    "root.right.left = TreeNode(15)\n",
    "root.right.right = TreeNode(7)"
   ]
  },
  {
   "cell_type": "code",
   "execution_count": 2,
   "metadata": {},
   "outputs": [],
   "source": [
    "def zigzagLevelOrder(root: TreeNode):\n",
    "    if not root:\n",
    "        return []\n",
    "    layer, output = [root], []\n",
    "    reverse = False\n",
    "    while layer:\n",
    "        next_layer = []\n",
    "        layer_vals = []\n",
    "        reverse = not reverse\n",
    "        layer = reversed(layer)\n",
    "        for node in layer:\n",
    "            layer_vals.append(node.val)\n",
    "            if reverse:\n",
    "                if node.left:\n",
    "                    next_layer.append(node.left)\n",
    "                if node.right:\n",
    "                    next_layer.append(node.right)\n",
    "            else:\n",
    "                if node.right:\n",
    "                    next_layer.append(node.right)\n",
    "                if node.left:\n",
    "                    next_layer.append(node.left)\n",
    "        layer = next_layer\n",
    "        output.append(layer_vals)\n",
    "    return output"
   ]
  },
  {
   "cell_type": "code",
   "execution_count": 3,
   "metadata": {},
   "outputs": [
    {
     "data": {
      "text/plain": [
       "[[3], [20, 9], [15, 7]]"
      ]
     },
     "execution_count": 3,
     "metadata": {},
     "output_type": "execute_result"
    }
   ],
   "source": [
    "zigzagLevelOrder(root)"
   ]
  },
  {
   "cell_type": "markdown",
   "metadata": {},
   "source": [
    "### 广度优先遍历2"
   ]
  },
  {
   "cell_type": "code",
   "execution_count": 4,
   "metadata": {},
   "outputs": [],
   "source": [
    "def zigzagLevelOrder(root: TreeNode):\n",
    "    if not root:\n",
    "        return []\n",
    "    layer, output = [root], []\n",
    "    while layer:\n",
    "        next_layer = []\n",
    "        layer_vals = []\n",
    "        for node in layer:\n",
    "            layer_vals.append(node.val)\n",
    "            if node.left:\n",
    "                next_layer.append(node.left)\n",
    "            if node.right:\n",
    "                next_layer.append(node.right)\n",
    "        layer = next_layer\n",
    "        output.append(layer_vals)\n",
    "    for i in range(len(output)):\n",
    "        if i % 2 == 1:\n",
    "            output[i].reverse()\n",
    "    return output"
   ]
  },
  {
   "cell_type": "code",
   "execution_count": 5,
   "metadata": {},
   "outputs": [
    {
     "data": {
      "text/plain": [
       "[[3], [20, 9], [15, 7]]"
      ]
     },
     "execution_count": 5,
     "metadata": {},
     "output_type": "execute_result"
    }
   ],
   "source": [
    "zigzagLevelOrder(root)"
   ]
  },
  {
   "cell_type": "code",
   "execution_count": null,
   "metadata": {},
   "outputs": [],
   "source": []
  }
 ],
 "metadata": {
  "kernelspec": {
   "display_name": "Python 3",
   "language": "python",
   "name": "python3"
  },
  "language_info": {
   "codemirror_mode": {
    "name": "ipython",
    "version": 3
   },
   "file_extension": ".py",
   "mimetype": "text/x-python",
   "name": "python",
   "nbconvert_exporter": "python",
   "pygments_lexer": "ipython3",
   "version": "3.6.5"
  }
 },
 "nbformat": 4,
 "nbformat_minor": 2
}
