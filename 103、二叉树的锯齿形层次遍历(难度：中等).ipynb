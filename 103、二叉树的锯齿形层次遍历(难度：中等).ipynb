{
  "cells": [
    {
      "metadata": {
        "collapsed": true
      },
      "cell_type": "markdown",
      "source": "# 二叉树的锯齿形层次遍历\n\n**题目来源：力扣（LeetCode）**\n\n**链接：https://leetcode-cn.com/problems/binary-tree-zigzag-level-order-traversal/**\n\n## 一、题目\n\n给定一个二叉树，返回其节点值的锯齿形层次遍历。（即先从左往右，再从右往左进行下一层遍历，以此类推，层与层之间交替进行）。\n\n## 二、示例\n\n例如:\n\n给定二叉树: [3,9,20,null,null,15,7],\n\n```\n    3\n   / \\\n  9  20\n    /  \\\n   15   7\n```\n\n返回其层次遍历结果：\n\n```\n[\n  [3],\n  [20,9],\n  [15,7]\n]\n\n```\n\n## 三、解题思路\n\n### 广度优先遍历"
    },
    {
      "metadata": {
        "trusted": true
      },
      "cell_type": "code",
      "source": "class TreeNode:\n    def __init__(self, x):\n        self.val = x\n        self.left = None\n        self.right = None\nroot = TreeNode(3)\n\nroot.left = TreeNode(9)\nroot.right = TreeNode(20)\n\nroot.right.left = TreeNode(15)\nroot.right.right = TreeNode(7)",
      "execution_count": 1,
      "outputs": []
    },
    {
      "metadata": {
        "trusted": true
      },
      "cell_type": "code",
      "source": "def zigzagLevelOrder(root: TreeNode):\n    if not root:\n        return []\n    layer, output = [root], []\n    reverse = False\n    while layer:\n        next_layer = []\n        layer_vals = []\n        reverse = not reverse\n        layer = reversed(layer)\n        for node in layer:\n            layer_vals.append(node.val)\n            if reverse:\n                if node.left:\n                    next_layer.append(node.left)\n                if node.right:\n                    next_layer.append(node.right)\n            else:\n                if node.right:\n                    next_layer.append(node.right)\n                if node.left:\n                    next_layer.append(node.left)\n        layer = next_layer\n        output.append(layer_vals)\n    return output",
      "execution_count": 2,
      "outputs": []
    },
    {
      "metadata": {
        "trusted": true
      },
      "cell_type": "code",
      "source": "zigzagLevelOrder(root)",
      "execution_count": 3,
      "outputs": [
        {
          "output_type": "execute_result",
          "execution_count": 3,
          "data": {
            "text/plain": "[[3], [20, 9], [15, 7]]"
          },
          "metadata": {}
        }
      ]
    },
    {
      "metadata": {
        "trusted": true
      },
      "cell_type": "code",
      "source": "",
      "execution_count": null,
      "outputs": []
    }
  ],
  "metadata": {
    "kernelspec": {
      "name": "python36",
      "display_name": "Python 3.6",
      "language": "python"
    },
    "language_info": {
      "mimetype": "text/x-python",
      "nbconvert_exporter": "python",
      "name": "python",
      "pygments_lexer": "ipython3",
      "version": "3.6.6",
      "file_extension": ".py",
      "codemirror_mode": {
        "version": 3,
        "name": "ipython"
      }
    }
  },
  "nbformat": 4,
  "nbformat_minor": 2
}