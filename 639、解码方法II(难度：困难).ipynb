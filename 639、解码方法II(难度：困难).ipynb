{
 "cells": [
  {
   "cell_type": "markdown",
   "metadata": {},
   "source": [
    "# 解码方法II\n",
    "\n",
    "**题目来源：力扣（LeetCode）**\n",
    "\n",
    "**链接：https://leetcode-cn.com/problems/decode-ways-ii/**\n",
    "\n",
    "## 一、题目\n",
    "\n",
    "一条包含字母 A-Z 的消息通过以下的方式进行了编码：\n",
    "\n",
    "```\n",
    "'A' -> 1\n",
    "'B' -> 2\n",
    "...\n",
    "'Z' -> 26\n",
    "```\n",
    "\n",
    "要 解码 一条已编码的消息，所有的数字都必须分组，然后按原来的编码方案反向映射回字母（可能存在多种方式）。例如，\"11106\" 可以映射为：\n",
    "\n",
    "- \"AAJF\" 对应分组 (1 1 10 6)\n",
    "- \"KJF\" 对应分组 (11 10 6)\n",
    "\n",
    "注意，像 (1 11 06) 这样的分组是无效的，因为 \"06\" 不可以映射为 'F' ，因为 \"6\" 与 \"06\" 不同。\n",
    "\n",
    "除了 上面描述的数字字母映射方案，编码消息中可能包含 '\\*' 字符，可以表示从 '1' 到 '9' 的任一数字（不包括 '0'）。例如，编码字符串 \"1\\*\" 可以表示 \"11\"、\"12\"、\"13\"、\"14\"、\"15\"、\"16\"、\"17\"、\"18\" 或 \"19\" 中的任意一条消息。对 \"1\\*\" 进行解码，相当于解码该字符串可以表示的任何编码消息。\n",
    "\n",
    "给你一个字符串 s ，由数字和 '\\*' 字符组成，返回 解码 该字符串的方法 数目 。\n",
    "\n",
    "由于答案数目可能非常大，返回对 10^9 + 7 取余 的结果。\n",
    "\n",
    "### 提示：\n",
    "\n",
    "- 1 <= s.length <= 10^5\n",
    "- s[i] 是 0 - 9 中的一位数字或字符 '\\*'\n",
    "\n",
    "## 二、示例\n",
    "\n",
    "### 示例 1：\n",
    "\n",
    "输入：s = \"\\*\"\n",
    "\n",
    "输出：9\n",
    "\n",
    "解释：这一条编码消息可以表示 \"1\"、\"2\"、\"3\"、\"4\"、\"5\"、\"6\"、\"7\"、\"8\" 或 \"9\" 中的任意一条。可以分别解码成字符串 \"A\"、\"B\"、\"C\"、\"D\"、\"E\"、\"F\"、\"G\"、\"H\" 和 \"I\" 。因此，\"\\*\" 总共有 9 种解码方法。\n",
    "\n",
    "### 示例 2：\n",
    "\n",
    "输入：s = \"1\\*\"\n",
    "\n",
    "输出：18\n",
    "\n",
    "解释：这一条编码消息可以表示 \"11\"、\"12\"、\"13\"、\"14\"、\"15\"、\"16\"、\"17\"、\"18\" 或 \"19\" 中的任意一条。每种消息都可以由 2 种方法解码（例如，\"11\" 可以解码成 \"AA\" 或 \"K\"）。因此，\"1\\*\" 共有 9 * 2 = 18 种解码方法。\n",
    "\n",
    "### 示例 3：\n",
    "\n",
    "输入：s = \"2\\*\"\n",
    "\n",
    "输出：15\n",
    "\n",
    "解释：这一条编码消息可以表示 \"21\"、\"22\"、\"23\"、\"24\"、\"25\"、\"26\"、\"27\"、\"28\" 或 \"29\" 中的任意一条。\"21\"、\"22\"、\"23\"、\"24\"、\"25\" 和 \"26\" 由 2 种解码方法，但 \"27\"、\"28\" 和 \"29\" 仅有 1 种解码方法。因此，\"2\\*\" 共有 (6 * 2) + (3 * 1) = 12 + 3 = 15 种解码方法。\n",
    "\n",
    "## 三、解题思路\n",
    "\n",
    "### dp"
   ]
  },
  {
   "cell_type": "code",
   "execution_count": 1,
   "metadata": {},
   "outputs": [],
   "source": [
    "def numDecodings(s: str) -> int:\n",
    "    mod = 10**9 + 7\n",
    "    def check1digit(ch: str) -> int:\n",
    "        if ch == \"0\":\n",
    "            return 0\n",
    "        return 9 if ch == \"*\" else 1\n",
    "    def check2digits(c0: str, c1: str) -> int:\n",
    "        if c0 == c1 == \"*\":\n",
    "            return 15\n",
    "        if c0 == \"*\":\n",
    "            return 2 if c1 <= \"6\" else 1\n",
    "        if c1 == \"*\":\n",
    "            return 9 if c0 == \"1\" else (6 if c0 == \"2\" else 0)\n",
    "        return int(c0 != \"0\" and int(c0) * 10 + int(c1) <= 26)\n",
    "    n = len(s)\n",
    "    # a = f[i-2], b = f[i-1], c = f[i]\n",
    "    a, b, c = 0, 1, 0\n",
    "    for i in range(1, n + 1):\n",
    "        c = b * check1digit(s[i - 1])\n",
    "        if i > 1:\n",
    "            c += a * check2digits(s[i - 2], s[i - 1])\n",
    "        c %= mod\n",
    "        a = b\n",
    "        b = c\n",
    "    return c"
   ]
  },
  {
   "cell_type": "code",
   "execution_count": 2,
   "metadata": {},
   "outputs": [
    {
     "data": {
      "text/plain": [
       "9"
      ]
     },
     "execution_count": 2,
     "metadata": {},
     "output_type": "execute_result"
    }
   ],
   "source": [
    "numDecodings(\"*\")"
   ]
  },
  {
   "cell_type": "code",
   "execution_count": 3,
   "metadata": {},
   "outputs": [
    {
     "data": {
      "text/plain": [
       "18"
      ]
     },
     "execution_count": 3,
     "metadata": {},
     "output_type": "execute_result"
    }
   ],
   "source": [
    "numDecodings(\"1*\")"
   ]
  },
  {
   "cell_type": "code",
   "execution_count": 4,
   "metadata": {},
   "outputs": [
    {
     "data": {
      "text/plain": [
       "15"
      ]
     },
     "execution_count": 4,
     "metadata": {},
     "output_type": "execute_result"
    }
   ],
   "source": [
    "numDecodings(\"2*\")"
   ]
  },
  {
   "cell_type": "code",
   "execution_count": null,
   "metadata": {},
   "outputs": [],
   "source": []
  }
 ],
 "metadata": {
  "kernelspec": {
   "display_name": "Python 3",
   "language": "python",
   "name": "python3"
  },
  "language_info": {
   "codemirror_mode": {
    "name": "ipython",
    "version": 3
   },
   "file_extension": ".py",
   "mimetype": "text/x-python",
   "name": "python",
   "nbconvert_exporter": "python",
   "pygments_lexer": "ipython3",
   "version": "3.6.5"
  }
 },
 "nbformat": 4,
 "nbformat_minor": 2
}
