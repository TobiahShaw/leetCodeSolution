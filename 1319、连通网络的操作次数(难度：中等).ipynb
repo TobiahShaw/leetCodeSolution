{
 "cells": [
  {
   "cell_type": "markdown",
   "metadata": {},
   "source": [
    "# 连通网络的操作次数\n",
    "\n",
    "**题目来源：力扣（LeetCode）**\n",
    "\n",
    "**链接：https://leetcode-cn.com/problems/number-of-operations-to-make-network-connected/**\n",
    "\n",
    "## 一、题目\n",
    "\n",
    "用以太网线缆将 n 台计算机连接成一个网络，计算机的编号从 0 到 n-1。线缆用 connections 表示，其中 connections[i] = [a, b] 连接了计算机 a 和 b。\n",
    "\n",
    "网络中的任何一台计算机都可以通过网络直接或者间接访问同一个网络中其他任意一台计算机。\n",
    "\n",
    "给你这个计算机网络的初始布线 connections，你可以拔开任意两台直连计算机之间的线缆，并用它连接一对未直连的计算机。请你计算并返回使所有计算机都连通所需的最少操作次数。如果不可能，则返回 -1 。\n",
    "\n",
    "### 提示：\n",
    "\n",
    "- 1 <= n <= 10^5\n",
    "- 1 <= connections.length <= min(n*(n-1)/2, 10^5)\n",
    "- connections[i].length == 2\n",
    "- 0 <= connections[i][0], connections[i][1] < n\n",
    "- connections[i][0] != connections[i][1]\n",
    "- 没有重复的连接。\n",
    "- 两台计算机不会通过多条线缆连接。\n",
    "\n",
    "## 二、示例\n",
    "\n",
    "### 示例 1：\n",
    "\n",
    "输入：n = 4, connections = [[0,1],[0,2],[1,2]]\n",
    "\n",
    "输出：1\n",
    "\n",
    "解释：拔下计算机 1 和 2 之间的线缆，并将它插到计算机 1 和 3 上。\n",
    "\n",
    "### 示例 2：\n",
    "\n",
    "输入：n = 6, connections = [[0,1],[0,2],[0,3],[1,2],[1,3]]\n",
    "\n",
    "输出：2\n",
    "\n",
    "### 示例 3：\n",
    "\n",
    "输入：n = 6, connections = [[0,1],[0,2],[0,3],[1,2]]\n",
    "\n",
    "输出：-1\n",
    "\n",
    "解释：线缆数量不足。\n",
    "\n",
    "### 示例 4：\n",
    "\n",
    "输入：n = 5, connections = [[0,1],[0,2],[3,4],[2,3]]\n",
    "\n",
    "输出：0\n",
    "\n",
    "## 三、解题思路\n",
    "\n",
    "### dfs"
   ]
  },
  {
   "cell_type": "code",
   "execution_count": 1,
   "metadata": {},
   "outputs": [],
   "source": [
    "def makeConnected(n: int, connections) -> int:\n",
    "    import collections\n",
    "    if len(connections) < n - 1:\n",
    "        return -1\n",
    "    \n",
    "    edges = collections.defaultdict(list)\n",
    "    for x, y in connections:\n",
    "        edges[x].append(y)\n",
    "        edges[y].append(x)\n",
    "    \n",
    "    seen = set()\n",
    "    def dfs(u: int):\n",
    "        seen.add(u)\n",
    "        for v in edges[u]:\n",
    "            if v not in seen:\n",
    "                dfs(v)\n",
    "    \n",
    "    ans = 0\n",
    "    for i in range(n):\n",
    "        if i not in seen:\n",
    "            dfs(i)\n",
    "            ans += 1\n",
    "    return ans - 1"
   ]
  },
  {
   "cell_type": "code",
   "execution_count": 2,
   "metadata": {},
   "outputs": [
    {
     "data": {
      "text/plain": [
       "1"
      ]
     },
     "execution_count": 2,
     "metadata": {},
     "output_type": "execute_result"
    }
   ],
   "source": [
    "makeConnected(n = 4, connections = [[0,1],[0,2],[1,2]])"
   ]
  },
  {
   "cell_type": "code",
   "execution_count": 3,
   "metadata": {},
   "outputs": [
    {
     "data": {
      "text/plain": [
       "2"
      ]
     },
     "execution_count": 3,
     "metadata": {},
     "output_type": "execute_result"
    }
   ],
   "source": [
    "makeConnected(n = 6, connections = [[0,1],[0,2],[0,3],[1,2],[1,3]])"
   ]
  },
  {
   "cell_type": "code",
   "execution_count": 4,
   "metadata": {},
   "outputs": [
    {
     "data": {
      "text/plain": [
       "-1"
      ]
     },
     "execution_count": 4,
     "metadata": {},
     "output_type": "execute_result"
    }
   ],
   "source": [
    "makeConnected(n = 6, connections = [[0,1],[0,2],[0,3],[1,2]])"
   ]
  },
  {
   "cell_type": "code",
   "execution_count": 5,
   "metadata": {},
   "outputs": [
    {
     "data": {
      "text/plain": [
       "0"
      ]
     },
     "execution_count": 5,
     "metadata": {},
     "output_type": "execute_result"
    }
   ],
   "source": [
    "makeConnected(n = 5, connections = [[0,1],[0,2],[3,4],[2,3]])"
   ]
  },
  {
   "cell_type": "code",
   "execution_count": null,
   "metadata": {},
   "outputs": [],
   "source": []
  }
 ],
 "metadata": {
  "kernelspec": {
   "display_name": "Python 3",
   "language": "python",
   "name": "python3"
  },
  "language_info": {
   "codemirror_mode": {
    "name": "ipython",
    "version": 3
   },
   "file_extension": ".py",
   "mimetype": "text/x-python",
   "name": "python",
   "nbconvert_exporter": "python",
   "pygments_lexer": "ipython3",
   "version": "3.6.5"
  }
 },
 "nbformat": 4,
 "nbformat_minor": 2
}
