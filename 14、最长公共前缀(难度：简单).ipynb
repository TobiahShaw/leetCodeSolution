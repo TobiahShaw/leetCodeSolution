{
  "cells": [
    {
      "metadata": {
        "collapsed": true
      },
      "cell_type": "markdown",
      "source": "# 最长公共前缀\n\n**题目来源：力扣（LeetCode）**\n\n**链接：https://leetcode-cn.com/problems/longest-common-prefix/**\n\n## 一、题目\n\n编写一个函数来查找字符串数组中的最长公共前缀。\n\n如果不存在公共前缀，返回空字符串 \"\"。\n\n## 二、示例\n\n### 示例 1:\n\n输入: [\"flower\",\"flow\",\"flight\"]\n\n输出: \"fl\"\n\n### 示例 2:\n\n输入: [\"dog\",\"racecar\",\"car\"]\n\n输出: \"\"\n\n解释: 输入不存在公共前缀。\n\n## 三、解题思路\n\n### 一、轮询"
    },
    {
      "metadata": {
        "trusted": true
      },
      "cell_type": "code",
      "source": "def longestCommonPrefix(strs):\n    if not strs:\n        return \"\"\n    prefix = strs[0]\n    for string in strs:\n        prefix_a = \"\"\n        for i in range(min(len(prefix), len(string))):\n            if prefix[i] == string[i]:\n                prefix_a += prefix[i]\n            else:\n                break\n        prefix = prefix_a\n    return prefix",
      "execution_count": 1,
      "outputs": []
    },
    {
      "metadata": {
        "trusted": true
      },
      "cell_type": "code",
      "source": "longestCommonPrefix([\"flower\",\"flow\",\"flight\"])",
      "execution_count": 2,
      "outputs": [
        {
          "output_type": "execute_result",
          "execution_count": 2,
          "data": {
            "text/plain": "'fl'"
          },
          "metadata": {}
        }
      ]
    },
    {
      "metadata": {
        "trusted": true
      },
      "cell_type": "code",
      "source": "longestCommonPrefix([\"dog\",\"racecar\",\"car\"])",
      "execution_count": 3,
      "outputs": [
        {
          "output_type": "execute_result",
          "execution_count": 3,
          "data": {
            "text/plain": "''"
          },
          "metadata": {}
        }
      ]
    },
    {
      "metadata": {
        "trusted": true
      },
      "cell_type": "markdown",
      "source": "### 二、纵向轮询"
    },
    {
      "metadata": {
        "trusted": true
      },
      "cell_type": "code",
      "source": "def longestCommonPrefix(strs):\n    if not strs:\n        return \"\"\n    prefix = \"\"\n    i = 0\n    while True:\n        if i >= len(strs[0]):\n            break\n        isPrefix = True\n        pre = strs[0][i]\n        for s in strs:\n            if len(s) <= i or s[i] != pre:\n                isPrefix = False\n                break\n        if isPrefix:\n            prefix += pre\n            i += 1\n        else:\n            break\n    return prefix",
      "execution_count": 1,
      "outputs": []
    },
    {
      "metadata": {
        "trusted": true
      },
      "cell_type": "code",
      "source": "longestCommonPrefix([\"flower\",\"flow\",\"flight\"])",
      "execution_count": 2,
      "outputs": [
        {
          "output_type": "execute_result",
          "execution_count": 2,
          "data": {
            "text/plain": "'fl'"
          },
          "metadata": {}
        }
      ]
    },
    {
      "metadata": {
        "trusted": true
      },
      "cell_type": "code",
      "source": "longestCommonPrefix([\"dog\",\"racecar\",\"car\"])",
      "execution_count": 3,
      "outputs": [
        {
          "output_type": "execute_result",
          "execution_count": 3,
          "data": {
            "text/plain": "''"
          },
          "metadata": {}
        }
      ]
    },
    {
      "metadata": {
        "trusted": true
      },
      "cell_type": "code",
      "source": "",
      "execution_count": null,
      "outputs": []
    }
  ],
  "metadata": {
    "kernelspec": {
      "name": "python36",
      "display_name": "Python 3.6",
      "language": "python"
    },
    "language_info": {
      "mimetype": "text/x-python",
      "nbconvert_exporter": "python",
      "name": "python",
      "pygments_lexer": "ipython3",
      "version": "3.6.6",
      "file_extension": ".py",
      "codemirror_mode": {
        "version": 3,
        "name": "ipython"
      }
    }
  },
  "nbformat": 4,
  "nbformat_minor": 2
}