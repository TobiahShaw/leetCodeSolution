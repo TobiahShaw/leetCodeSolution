{
 "cells": [
  {
   "cell_type": "markdown",
   "metadata": {},
   "source": [
    "# 字符串相乘\n",
    "\n",
    "**题目来源：力扣（LeetCode）**\n",
    "\n",
    "**链接：https://leetcode-cn.com/problems/multiply-strings/**\n",
    "\n",
    "## 一、题目\n",
    "\n",
    "给定两个以字符串形式表示的非负整数 num1 和 num2，返回 num1 和 num2 的乘积，它们的乘积也表示为字符串形式。\n",
    "\n",
    "## 二、示例\n",
    "\n",
    "### 示例 1：\n",
    "\n",
    "输入: num1 = \"2\", num2 = \"3\"\n",
    "\n",
    "输出: \"6\"\n",
    "\n",
    "### 示例 2:\n",
    "\n",
    "输入: num1 = \"123\", num2 = \"456\"\n",
    "\n",
    "输出: \"56088\"\n",
    "\n",
    "## 三、解题思路\n",
    "\n",
    "### 模拟竖式\n",
    "\n",
    "乘数每位乘以被乘数，然后错位相加"
   ]
  },
  {
   "cell_type": "code",
   "execution_count": 1,
   "metadata": {},
   "outputs": [],
   "source": [
    "def multiply(num1: str, num2: str) -> str:\n",
    "    def addStrings(num1: str, num2: str) -> str:\n",
    "        i, j = len(num1) - 1, len(num2) - 1\n",
    "        add = 0\n",
    "        ans = list()\n",
    "        while i >= 0 or j >= 0 or add != 0:\n",
    "            x = int(num1[i]) if i >= 0 else 0\n",
    "            y = int(num2[j]) if j >= 0 else 0\n",
    "            result = x + y + add\n",
    "            ans.append(str(result % 10))\n",
    "            add = result // 10\n",
    "            i -= 1\n",
    "            j -= 1\n",
    "        return \"\".join(ans[::-1])\n",
    "    if num1 == \"0\" or num2 == \"0\":\n",
    "        return \"0\"\n",
    "    \n",
    "    ans = \"0\"\n",
    "    m, n = len(num1), len(num2)\n",
    "    for i in range(n - 1, -1, -1):\n",
    "        add = 0\n",
    "        y = int(num2[i])\n",
    "        curr = [\"0\"] * (n - i - 1)\n",
    "        for j in range(m - 1, -1, -1):\n",
    "            product = int(num1[j]) * y + add\n",
    "            curr.append(str(product % 10))\n",
    "            add = product // 10\n",
    "        if add > 0:\n",
    "            curr.append(str(add))\n",
    "        curr = \"\".join(curr[::-1])\n",
    "        ans = addStrings(ans, curr)\n",
    "    \n",
    "    return ans"
   ]
  },
  {
   "cell_type": "code",
   "execution_count": 2,
   "metadata": {},
   "outputs": [
    {
     "data": {
      "text/plain": [
       "'6'"
      ]
     },
     "execution_count": 2,
     "metadata": {},
     "output_type": "execute_result"
    }
   ],
   "source": [
    "multiply(\"2\", \"3\")"
   ]
  },
  {
   "cell_type": "code",
   "execution_count": 3,
   "metadata": {},
   "outputs": [
    {
     "data": {
      "text/plain": [
       "'56088'"
      ]
     },
     "execution_count": 3,
     "metadata": {},
     "output_type": "execute_result"
    }
   ],
   "source": [
    "multiply(\"123\", \"456\")"
   ]
  },
  {
   "cell_type": "code",
   "execution_count": null,
   "metadata": {},
   "outputs": [],
   "source": []
  }
 ],
 "metadata": {
  "kernelspec": {
   "display_name": "Python 3",
   "language": "python",
   "name": "python3"
  },
  "language_info": {
   "codemirror_mode": {
    "name": "ipython",
    "version": 3
   },
   "file_extension": ".py",
   "mimetype": "text/x-python",
   "name": "python",
   "nbconvert_exporter": "python",
   "pygments_lexer": "ipython3",
   "version": "3.6.5"
  }
 },
 "nbformat": 4,
 "nbformat_minor": 2
}
