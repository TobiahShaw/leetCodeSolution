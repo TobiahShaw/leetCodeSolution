{
 "cells": [
  {
   "cell_type": "markdown",
   "metadata": {},
   "source": [
    "# 字符串的排列\n",
    "\n",
    "**题目来源：力扣（LeetCode）**\n",
    "\n",
    "**链接：https://leetcode-cn.com/problems/zi-fu-chuan-de-pai-lie-lcof/**\n",
    "\n",
    "## 一、题目\n",
    "\n",
    "输入一个字符串，打印出该字符串中字符的所有排列。\n",
    "\n",
    "你可以以任意顺序返回这个字符串数组，但里面不能有重复元素。\n",
    "\n",
    "### 限制：\n",
    "\n",
    "- 1 <= s 的长度 <= 8\n",
    "\n",
    "## 二、示例\n",
    "\n",
    "输入：s = \"abc\"\n",
    "\n",
    "输出：[\"abc\",\"acb\",\"bac\",\"bca\",\"cab\",\"cba\"]\n",
    "\n",
    "## 三、解题思路\n",
    "\n",
    "### 回溯"
   ]
  },
  {
   "cell_type": "code",
   "execution_count": 1,
   "metadata": {},
   "outputs": [],
   "source": [
    "def permutation(s: str):\n",
    "    import functools\n",
    "    ans, n = [], len(s)\n",
    "    @functools.lru_cache(None)\n",
    "    def dfs(path, data):\n",
    "        if len(path)==n:\n",
    "            if path not in ans: ans.append(path)\n",
    "            return \n",
    "        for j in range(len(data)):\n",
    "            dfs(path+data[j], data[:j]+data[j+1:])\n",
    "    dfs('', s)\n",
    "    return ans"
   ]
  },
  {
   "cell_type": "code",
   "execution_count": 2,
   "metadata": {},
   "outputs": [
    {
     "data": {
      "text/plain": [
       "['abc', 'acb', 'bac', 'bca', 'cab', 'cba']"
      ]
     },
     "execution_count": 2,
     "metadata": {},
     "output_type": "execute_result"
    }
   ],
   "source": [
    "permutation(\"abc\")"
   ]
  },
  {
   "cell_type": "code",
   "execution_count": null,
   "metadata": {},
   "outputs": [],
   "source": []
  }
 ],
 "metadata": {
  "kernelspec": {
   "display_name": "Python 3",
   "language": "python",
   "name": "python3"
  },
  "language_info": {
   "codemirror_mode": {
    "name": "ipython",
    "version": 3
   },
   "file_extension": ".py",
   "mimetype": "text/x-python",
   "name": "python",
   "nbconvert_exporter": "python",
   "pygments_lexer": "ipython3",
   "version": "3.6.5"
  }
 },
 "nbformat": 4,
 "nbformat_minor": 2
}
