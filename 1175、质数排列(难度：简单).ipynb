{
 "cells": [
  {
   "cell_type": "markdown",
   "metadata": {},
   "source": [
    "# 质数排列\n",
    "\n",
    "**题目来源：力扣（LeetCode）**\n",
    "\n",
    "**链接：https://leetcode.cn/problems/prime-arrangements/**\n",
    "\n",
    "## 一、题目\n",
    "\n",
    "请你帮忙给从 1 到 n 的数设计排列方案，使得所有的「质数」都应该被放在「质数索引」（索引从 1 开始）上；你需要返回可能的方案总数。\n",
    "\n",
    "让我们一起来回顾一下「质数」：质数一定是大于 1 的，并且不能用两个小于它的正整数的乘积来表示。\n",
    "\n",
    "由于答案可能会很大，所以请你返回答案 模 mod 10^9 + 7 之后的结果即可。\n",
    "\n",
    "### 提示：\n",
    "\n",
    "- 1 <= n <= 100\n",
    "\n",
    "## 二、示例\n",
    "\n",
    "### 示例 1：\n",
    "\n",
    "输入：n = 5\n",
    "\n",
    "输出：12\n",
    "\n",
    "解释：举个例子，[1,2,5,4,3] 是一个有效的排列，但 [5,2,3,4,1] 不是，因为在第二种情况里质数 5 被错误地放在索引为 1 的位置上。\n",
    "\n",
    "### 示例 2：\n",
    "\n",
    "输入：n = 100\n",
    "\n",
    "输出：682289015\n",
    "\n",
    "## 三、解题思路\n",
    "\n",
    "### 排列组合"
   ]
  },
  {
   "cell_type": "code",
   "execution_count": 1,
   "metadata": {},
   "outputs": [],
   "source": [
    "from math import sqrt\n",
    "class Solution:\n",
    "    def numPrimeArrangements(self, n: int) -> int:\n",
    "        numPrimes = sum(self.isPrime(i) for i in range(1, n + 1))\n",
    "        return self.factorial(numPrimes) * self.factorial(n - numPrimes) % (10 ** 9 + 7)\n",
    "\n",
    "    def isPrime(self, n: int) -> int:\n",
    "        if n == 1:\n",
    "            return 0\n",
    "        for i in range(2, int(sqrt(n)) + 1):\n",
    "            if n % i == 0:\n",
    "                return 0\n",
    "        return 1\n",
    "\n",
    "    def factorial(self, n: int) -> int:\n",
    "        res = 1\n",
    "        for i in range(1, n + 1):\n",
    "            res *= i\n",
    "            res %= (10 ** 9 + 7)\n",
    "        return res"
   ]
  },
  {
   "cell_type": "code",
   "execution_count": 2,
   "metadata": {},
   "outputs": [
    {
     "data": {
      "text/plain": [
       "12"
      ]
     },
     "execution_count": 2,
     "metadata": {},
     "output_type": "execute_result"
    }
   ],
   "source": [
    "s = Solution()\n",
    "s.numPrimeArrangements(5)"
   ]
  },
  {
   "cell_type": "code",
   "execution_count": 3,
   "metadata": {},
   "outputs": [
    {
     "data": {
      "text/plain": [
       "682289015"
      ]
     },
     "execution_count": 3,
     "metadata": {},
     "output_type": "execute_result"
    }
   ],
   "source": [
    "s.numPrimeArrangements(100)"
   ]
  },
  {
   "cell_type": "code",
   "execution_count": null,
   "metadata": {},
   "outputs": [],
   "source": []
  }
 ],
 "metadata": {
  "kernelspec": {
   "display_name": "Python 3",
   "language": "python",
   "name": "python3"
  },
  "language_info": {
   "codemirror_mode": {
    "name": "ipython",
    "version": 3
   },
   "file_extension": ".py",
   "mimetype": "text/x-python",
   "name": "python",
   "nbconvert_exporter": "python",
   "pygments_lexer": "ipython3",
   "version": "3.6.5"
  }
 },
 "nbformat": 4,
 "nbformat_minor": 2
}
