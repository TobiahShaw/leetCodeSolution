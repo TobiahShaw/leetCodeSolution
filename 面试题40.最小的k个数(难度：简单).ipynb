{
  "cells": [
    {
      "metadata": {
        "collapsed": true
      },
      "cell_type": "markdown",
      "source": "# 最小的k个数\n\n**题目来源：力扣（LeetCode）**\n\n**链接：https://leetcode-cn.com/problems/zui-xiao-de-kge-shu-lcof/**\n\n## 一、题目\n\n输入整数数组 arr ，找出其中最小的 k 个数。例如，输入4、5、1、6、2、7、3、8这8个数字，则最小的4个数字是1、2、3、4。\n\n## 二、示例\n\n### 示例 1：\n\n输入：arr = [3,2,1], k = 2\n\n输出：[1,2] 或者 [2,1]\n\n### 示例 2：\n\n输入：arr = [0,1,2,1], k = 1\n\n输出：[0]\n\n## 三、解题思路\n\n### 利用大顶堆\n\n- 维护一个size是k的大顶堆\n- 利用大顶堆的最顶上是最大数的规律，遍历数组，如果元素大于顶堆，则堆顶出堆，元素入堆"
    },
    {
      "metadata": {
        "trusted": true
      },
      "cell_type": "code",
      "source": "import heapq\ndef getLeastNumbers(arr, k):\n    if not arr:\n        return arr\n    if k <= 0:\n        return []\n    # 利用大顶堆求解\n    hp = [-x for x in arr[:k]]\n    heapq.heapify(hp)\n    for i in arr[k:]:\n        if -hp[0] > i:\n            heapq.heappop(hp)\n            heapq.heappush(hp, -i)\n    return [-x for x in hp]",
      "execution_count": 1,
      "outputs": []
    },
    {
      "metadata": {
        "trusted": true
      },
      "cell_type": "code",
      "source": "getLeastNumbers(arr = [3,2,1], k = 2)",
      "execution_count": 2,
      "outputs": [
        {
          "output_type": "execute_result",
          "execution_count": 2,
          "data": {
            "text/plain": "[2, 1]"
          },
          "metadata": {}
        }
      ]
    },
    {
      "metadata": {
        "trusted": true
      },
      "cell_type": "code",
      "source": "getLeastNumbers(arr = [0,1,2,1], k = 1)",
      "execution_count": 3,
      "outputs": [
        {
          "output_type": "execute_result",
          "execution_count": 3,
          "data": {
            "text/plain": "[0]"
          },
          "metadata": {}
        }
      ]
    },
    {
      "metadata": {
        "trusted": true
      },
      "cell_type": "code",
      "source": "",
      "execution_count": null,
      "outputs": []
    }
  ],
  "metadata": {
    "kernelspec": {
      "name": "python36",
      "display_name": "Python 3.6",
      "language": "python"
    },
    "language_info": {
      "mimetype": "text/x-python",
      "nbconvert_exporter": "python",
      "name": "python",
      "pygments_lexer": "ipython3",
      "version": "3.6.6",
      "file_extension": ".py",
      "codemirror_mode": {
        "version": 3,
        "name": "ipython"
      }
    }
  },
  "nbformat": 4,
  "nbformat_minor": 2
}