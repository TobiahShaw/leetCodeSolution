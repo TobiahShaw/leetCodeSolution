{
 "cells": [
  {
   "cell_type": "markdown",
   "metadata": {},
   "source": [
    "# 各位相加\n",
    "\n",
    "**题目来源：力扣（LeetCode）**\n",
    "\n",
    "**链接：https://leetcode-cn.com/problems/add-digits/**\n",
    "\n",
    "## 一、题目\n",
    "\n",
    "给定一个非负整数 num，反复将各个位上的数字相加，直到结果为一位数。\n",
    "\n",
    "### 进阶:\n",
    "\n",
    "你可以不使用循环或者递归，且在 O(1) 时间复杂度内解决这个问题吗？\n",
    "\n",
    "## 二、示例\n",
    "\n",
    "输入: 38\n",
    "\n",
    "输出: 2 \n",
    "\n",
    "解释: 各位相加的过程为：3 + 8 = 11, 1 + 1 = 2。 由于 2 是一位数，所以返回 2。\n",
    "\n",
    "## 三、解题思路\n",
    "\n",
    "### 一、递归"
   ]
  },
  {
   "cell_type": "code",
   "execution_count": 1,
   "metadata": {},
   "outputs": [],
   "source": [
    "def addDigits(num: int) -> int:\n",
    "    if num < 10:\n",
    "        return num\n",
    "    numstr = str(num)\n",
    "    ret = int(numstr[0]) + addDigits(int(numstr[1:]))\n",
    "    if ret < 10:\n",
    "        return ret\n",
    "    return addDigits(ret)"
   ]
  },
  {
   "cell_type": "code",
   "execution_count": 2,
   "metadata": {},
   "outputs": [
    {
     "data": {
      "text/plain": [
       "2"
      ]
     },
     "execution_count": 2,
     "metadata": {},
     "output_type": "execute_result"
    }
   ],
   "source": [
    "addDigits(38)"
   ]
  },
  {
   "cell_type": "markdown",
   "metadata": {},
   "source": [
    "### 二、利用数学规律"
   ]
  },
  {
   "cell_type": "code",
   "execution_count": 3,
   "metadata": {},
   "outputs": [],
   "source": [
    "def addDigits(num: int) -> int:\n",
    "#     if num == 0:\n",
    "#         return 0\n",
    "#     elif num % 9 == 0:\n",
    "#         return 9\n",
    "#     return num % 9\n",
    "    return (num - 1) % 9 + 1 if num else 0"
   ]
  },
  {
   "cell_type": "code",
   "execution_count": 4,
   "metadata": {},
   "outputs": [
    {
     "data": {
      "text/plain": [
       "2"
      ]
     },
     "execution_count": 4,
     "metadata": {},
     "output_type": "execute_result"
    }
   ],
   "source": [
    "addDigits(38)"
   ]
  },
  {
   "cell_type": "code",
   "execution_count": null,
   "metadata": {},
   "outputs": [],
   "source": []
  }
 ],
 "metadata": {
  "kernelspec": {
   "display_name": "Python 3",
   "language": "python",
   "name": "python3"
  },
  "language_info": {
   "codemirror_mode": {
    "name": "ipython",
    "version": 3
   },
   "file_extension": ".py",
   "mimetype": "text/x-python",
   "name": "python",
   "nbconvert_exporter": "python",
   "pygments_lexer": "ipython3",
   "version": "3.6.5"
  }
 },
 "nbformat": 4,
 "nbformat_minor": 2
}
