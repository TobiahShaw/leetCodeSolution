{
 "cells": [
  {
   "cell_type": "markdown",
   "metadata": {},
   "source": [
    "# 二叉搜索树节点最小距离\n",
    "\n",
    "**题目来源：力扣（LeetCode）**\n",
    "\n",
    "**链接：https://leetcode-cn.com/problems/minimum-distance-between-bst-nodes/**\n",
    "\n",
    "## 一、题目\n",
    "\n",
    "给定一个二叉搜索树的根节点 root，返回树中任意两节点的差的最小值。\n",
    "\n",
    "## 二、示例\n",
    "\n",
    "输入: root = [4,2,6,1,3,null,null]\n",
    "输出: 1\n",
    "解释:\n",
    "注意，root是树节点对象(TreeNode object)，而不是数组。\n",
    "\n",
    "给定的树 [4,2,6,1,3,null,null] 可表示为下图:\n",
    "\n",
    "          4\n",
    "        /   \\\n",
    "      2      6\n",
    "     / \\    \n",
    "    1   3  \n",
    "\n",
    "最小的差值是 1, 它是节点1和节点2的差值, 也是节点3和节点2的差值。\n",
    "\n",
    "## 三、解题思路"
   ]
  },
  {
   "cell_type": "code",
   "execution_count": 1,
   "metadata": {},
   "outputs": [],
   "source": [
    "class TreeNode:\n",
    "    def __init__(self, x):\n",
    "        self.val = x\n",
    "        self.left = None\n",
    "        self.right = None"
   ]
  },
  {
   "cell_type": "code",
   "execution_count": 2,
   "metadata": {},
   "outputs": [],
   "source": [
    "root = TreeNode(4)\n",
    "\n",
    "root.left = TreeNode(2)\n",
    "root.right = TreeNode(6)\n",
    "\n",
    "root.left.left = TreeNode(1)\n",
    "root.left.right = TreeNode(3)"
   ]
  },
  {
   "cell_type": "code",
   "execution_count": 3,
   "metadata": {},
   "outputs": [],
   "source": [
    "def minDiffInBST(root: TreeNode) -> int:\n",
    "        def dfs(aar, node):\n",
    "            if not node:\n",
    "                return\n",
    "            dfs(aar, node.left)\n",
    "            aar.append(node.val)\n",
    "            dfs(aar, node.right)\n",
    "        aar = []\n",
    "        dfs(aar, root)\n",
    "        ret = float('inf')\n",
    "        for i in range(1, len(aar)):\n",
    "            ret = min(aar[i]-aar[i-1], ret)\n",
    "        return ret"
   ]
  },
  {
   "cell_type": "code",
   "execution_count": 4,
   "metadata": {},
   "outputs": [
    {
     "data": {
      "text/plain": [
       "1"
      ]
     },
     "execution_count": 4,
     "metadata": {},
     "output_type": "execute_result"
    }
   ],
   "source": [
    "minDiffInBST(root)"
   ]
  },
  {
   "cell_type": "code",
   "execution_count": null,
   "metadata": {},
   "outputs": [],
   "source": []
  }
 ],
 "metadata": {
  "kernelspec": {
   "display_name": "Python 3",
   "language": "python",
   "name": "python3"
  },
  "language_info": {
   "codemirror_mode": {
    "name": "ipython",
    "version": 3
   },
   "file_extension": ".py",
   "mimetype": "text/x-python",
   "name": "python",
   "nbconvert_exporter": "python",
   "pygments_lexer": "ipython3",
   "version": "3.7.8"
  }
 },
 "nbformat": 4,
 "nbformat_minor": 4
}
