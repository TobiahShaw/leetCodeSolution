{
  "cells": [
    {
      "metadata": {
        "collapsed": true
      },
      "cell_type": "markdown",
      "source": "# 卡牌分组\n\n**题目来源：力扣（LeetCode）**\n\n**链接：https://leetcode-cn.com/problems/x-of-a-kind-in-a-deck-of-cards/**\n\n## 一、题目\n\n给定一副牌，每张牌上都写着一个整数。\n\n此时，你需要选定一个数字 X，使我们可以将整副牌按下述规则分成 1 组或更多组：\n\n- 每组都有 X 张牌。\n- 组内所有的牌上都写着相同的整数。\n\n仅当你可选的 X >= 2 时返回 true。\n\n## 二、示例\n\n### 示例 1：\n\n输入：[1,2,3,4,4,3,2,1]\n\n输出：true\n\n解释：可行的分组是 [1,1]，[2,2]，[3,3]，[4,4]\n\n### 示例 2：\n\n输入：[1,1,1,2,2,2,3,3]\n\n输出：false\n\n解释：没有满足要求的分组。\n\n### 示例 3：\n\n输入：[1]\n\n输出：false\n\n解释：没有满足要求的分组。\n\n### 示例 4：\n\n输入：[1,1]\n\n输出：true\n\n解释：可行的分组是 [1,1]\n\n### 示例 5：\n\n输入：[1,1,2,2,2,2]\n\n输出：true\n\n解释：可行的分组是 [1,1]，[2,2]，[2,2]\n\n\n## 三、解题思路\n\n### 最大公约数\n\n经过我多次尝试发现这个题考察的是最大公约数，那么就简单了。\n\n- 统计每个数出现的次数\n- 求他们出现次数的最大公约数\n- 如果最大公约数大于1则返回true"
    },
    {
      "metadata": {
        "trusted": true
      },
      "cell_type": "code",
      "source": "def hasGroupsSizeX(deck):\n    # 最大公约数\n    def gcd(a, b):\n        return b if a % b == 0 else gcd(b, a % b)\n    # 分组\n    if not deck or len(deck) < 2:\n        return False\n    dic = {}\n    for card in deck:\n        if card not in dic:\n            dic[card] = 1\n        else:\n            dic[card] += 1\n    x = -1\n    for i in dic.values():\n        x = i if x == -1 else gcd(i, x)\n    return x > 1",
      "execution_count": 1,
      "outputs": []
    },
    {
      "metadata": {
        "trusted": true
      },
      "cell_type": "code",
      "source": "hasGroupsSizeX([1,2,3,4,4,3,2,1])",
      "execution_count": 2,
      "outputs": [
        {
          "output_type": "execute_result",
          "execution_count": 2,
          "data": {
            "text/plain": "True"
          },
          "metadata": {}
        }
      ]
    },
    {
      "metadata": {
        "trusted": true
      },
      "cell_type": "code",
      "source": "hasGroupsSizeX([1,1,1,2,2,2,3,3])",
      "execution_count": 3,
      "outputs": [
        {
          "output_type": "execute_result",
          "execution_count": 3,
          "data": {
            "text/plain": "False"
          },
          "metadata": {}
        }
      ]
    },
    {
      "metadata": {
        "trusted": true
      },
      "cell_type": "code",
      "source": "hasGroupsSizeX([1])",
      "execution_count": 4,
      "outputs": [
        {
          "output_type": "execute_result",
          "execution_count": 4,
          "data": {
            "text/plain": "False"
          },
          "metadata": {}
        }
      ]
    },
    {
      "metadata": {
        "trusted": true
      },
      "cell_type": "code",
      "source": "hasGroupsSizeX([1, 1])",
      "execution_count": 5,
      "outputs": [
        {
          "output_type": "execute_result",
          "execution_count": 5,
          "data": {
            "text/plain": "True"
          },
          "metadata": {}
        }
      ]
    },
    {
      "metadata": {
        "trusted": true
      },
      "cell_type": "code",
      "source": "hasGroupsSizeX([1,1,2,2,2,2])",
      "execution_count": 6,
      "outputs": [
        {
          "output_type": "execute_result",
          "execution_count": 6,
          "data": {
            "text/plain": "True"
          },
          "metadata": {}
        }
      ]
    },
    {
      "metadata": {
        "trusted": true
      },
      "cell_type": "code",
      "source": "",
      "execution_count": null,
      "outputs": []
    }
  ],
  "metadata": {
    "kernelspec": {
      "name": "python36",
      "display_name": "Python 3.6",
      "language": "python"
    },
    "language_info": {
      "mimetype": "text/x-python",
      "nbconvert_exporter": "python",
      "name": "python",
      "pygments_lexer": "ipython3",
      "version": "3.6.6",
      "file_extension": ".py",
      "codemirror_mode": {
        "version": 3,
        "name": "ipython"
      }
    }
  },
  "nbformat": 4,
  "nbformat_minor": 2
}