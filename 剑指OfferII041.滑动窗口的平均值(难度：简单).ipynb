{
 "cells": [
  {
   "cell_type": "markdown",
   "metadata": {},
   "source": [
    "# 滑动窗口的平均值\n",
    "\n",
    "**题目来源：力扣（LeetCode）**\n",
    "\n",
    "**链接：https://leetcode.cn/problems/qIsx9U/**\n",
    "\n",
    "## 一、题目\n",
    "\n",
    "给定一个整数数据流和一个窗口大小，根据该滑动窗口的大小，计算滑动窗口里所有数字的平均值。\n",
    "\n",
    "实现 MovingAverage 类：\n",
    "\n",
    "- MovingAverage(int size) 用窗口大小 size 初始化对象。\n",
    "- double next(int val) 成员函数 next 每次调用的时候都会往滑动窗口增加一个整数，请计算并返回数据流中最后 size 个值的移动平均值，即滑动窗口里所有数字的平均值。\n",
    "\n",
    "### 提示：\n",
    "\n",
    "- 1 <= size <= 1000\n",
    "- -10^5 <= val <= 10^5\n",
    "- 最多调用 next 方法 10^4 次\n",
    "\n",
    "## 二、示例\n",
    "\n",
    "输入：\n",
    "inputs = [\"MovingAverage\", \"next\", \"next\", \"next\", \"next\"]\n",
    "inputs = [[3], [1], [10], [3], [5]]\n",
    "输出：\n",
    "[null, 1.0, 5.5, 4.66667, 6.0]\n",
    "\n",
    "解释：\n",
    "\n",
    "```\n",
    "movingAverage = MovingAverage(3)\n",
    "movingAverage.next(1)  #返回 1.0 = 1 / 1\n",
    "movingAverage.next(10) #返回 5.5 = (1 + 10) / 2\n",
    "movingAverage.next(3)  #返回 4.66667 = (1 + 10 + 3) / 3\n",
    "movingAverage.next(5)  #返回 6.0 = (10 + 3 + 5) / 3\n",
    "```\n",
    "\n",
    "## 三、解题思路\n",
    "\n",
    "### 利用数组"
   ]
  },
  {
   "cell_type": "code",
   "execution_count": 1,
   "metadata": {},
   "outputs": [],
   "source": [
    "class MovingAverage:\n",
    "\n",
    "    def __init__(self, size: int):\n",
    "        \"\"\"\n",
    "        Initialize your data structure here.\n",
    "        \"\"\"\n",
    "        self.size = size\n",
    "        self.sum = 0\n",
    "        self.window = []\n",
    "\n",
    "\n",
    "    def next(self, val: int) -> float:\n",
    "        if len(self.window) >= self.size:\n",
    "            self.sum -= self.window.pop()\n",
    "        self.sum += val\n",
    "        self.window.insert(0, val)\n",
    "        return self.sum / len(self.window)"
   ]
  },
  {
   "cell_type": "code",
   "execution_count": 2,
   "metadata": {},
   "outputs": [
    {
     "name": "stdout",
     "output_type": "stream",
     "text": [
      "1.0\n",
      "5.5\n",
      "4.666666666666667\n",
      "6.0\n"
     ]
    }
   ],
   "source": [
    "movingAverage = MovingAverage(3)\n",
    "print(movingAverage.next(1)) #返回 1.0 = 1 / 1\n",
    "print(movingAverage.next(10)) #返回 5.5 = (1 + 10) / 2\n",
    "print(movingAverage.next(3)) #返回 4.66667 = (1 + 10 + 3) / 3\n",
    "print(movingAverage.next(5)) #返回 6.0 = (10 + 3 + 5) / 3"
   ]
  },
  {
   "cell_type": "code",
   "execution_count": null,
   "metadata": {},
   "outputs": [],
   "source": []
  }
 ],
 "metadata": {
  "kernelspec": {
   "display_name": "Python 3",
   "language": "python",
   "name": "python3"
  },
  "language_info": {
   "codemirror_mode": {
    "name": "ipython",
    "version": 3
   },
   "file_extension": ".py",
   "mimetype": "text/x-python",
   "name": "python",
   "nbconvert_exporter": "python",
   "pygments_lexer": "ipython3",
   "version": "3.6.5"
  }
 },
 "nbformat": 4,
 "nbformat_minor": 2
}
