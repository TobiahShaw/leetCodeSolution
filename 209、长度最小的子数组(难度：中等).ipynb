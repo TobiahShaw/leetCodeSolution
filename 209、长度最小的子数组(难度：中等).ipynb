{
 "cells": [
  {
   "cell_type": "markdown",
   "metadata": {},
   "source": [
    "# 长度最小的子数组\n",
    "\n",
    "**题目来源：力扣（LeetCode）**\n",
    "\n",
    "**链接：https://leetcode-cn.com/problems/minimum-size-subarray-sum/**\n",
    "\n",
    "## 一、题目\n",
    "\n",
    "给定一个含有 n 个正整数的数组和一个正整数 target 。\n",
    "\n",
    "找出该数组中满足其和 ≥ target 的长度最小的 连续子数组 [numsl, numsl+1, ..., numsr-1, numsr] ，并返回其长度。如果不存在符合条件的子数组，返回 0 。\n",
    "\n",
    "### 提示：\n",
    "\n",
    "- 1 <= target <= 10^9\n",
    "- 1 <= nums.length <= 10^5\n",
    "- 1 <= nums[i] <= 10^5\n",
    "\n",
    "### 进阶：\n",
    "\n",
    "- 如果你已经实现 O(n) 时间复杂度的解法, 请尝试设计一个 O(n log(n)) 时间复杂度的解法。\n",
    "\n",
    "## 二、示例\n",
    "\n",
    "### 示例 1：\n",
    "\n",
    "输入：target = 7, nums = [2,3,1,2,4,3]\n",
    "\n",
    "输出：2\n",
    "\n",
    "解释：子数组 [4,3] 是该条件下的长度最小的子数组。\n",
    "\n",
    "### 示例 2：\n",
    "\n",
    "输入：target = 4, nums = [1,4,4]\n",
    "\n",
    "输出：1\n",
    "\n",
    "### 示例 3：\n",
    "\n",
    "输入：target = 11, nums = [1,1,1,1,1,1,1,1]\n",
    "\n",
    "输出：0\n",
    "\n",
    "## 三、解题思路\n",
    "\n",
    "### 暴力法"
   ]
  },
  {
   "cell_type": "code",
   "execution_count": 1,
   "metadata": {},
   "outputs": [],
   "source": [
    "def minSubArrayLen(target: int, nums) -> int:\n",
    "    n = len(nums)\n",
    "    ret = n+1\n",
    "    for i in range(n):\n",
    "        sum_tmp = 0\n",
    "        for j in range(i, n):\n",
    "            sum_tmp += nums[j]\n",
    "            if sum_tmp >= target:\n",
    "                ret = min (ret, j-i+1)\n",
    "                break\n",
    "    return ret if ret != n+1 else 0"
   ]
  },
  {
   "cell_type": "code",
   "execution_count": 2,
   "metadata": {},
   "outputs": [
    {
     "data": {
      "text/plain": [
       "2"
      ]
     },
     "execution_count": 2,
     "metadata": {},
     "output_type": "execute_result"
    }
   ],
   "source": [
    "minSubArrayLen(target = 7, nums = [2,3,1,2,4,3])"
   ]
  },
  {
   "cell_type": "code",
   "execution_count": 3,
   "metadata": {},
   "outputs": [
    {
     "data": {
      "text/plain": [
       "1"
      ]
     },
     "execution_count": 3,
     "metadata": {},
     "output_type": "execute_result"
    }
   ],
   "source": [
    "minSubArrayLen(target = 4, nums = [1,4,4])"
   ]
  },
  {
   "cell_type": "code",
   "execution_count": 4,
   "metadata": {},
   "outputs": [
    {
     "data": {
      "text/plain": [
       "0"
      ]
     },
     "execution_count": 4,
     "metadata": {},
     "output_type": "execute_result"
    }
   ],
   "source": [
    "minSubArrayLen(target = 11, nums = [1,1,1,1,1,1,1,1])"
   ]
  },
  {
   "cell_type": "code",
   "execution_count": null,
   "metadata": {},
   "outputs": [],
   "source": []
  }
 ],
 "metadata": {
  "kernelspec": {
   "display_name": "Python 3",
   "language": "python",
   "name": "python3"
  },
  "language_info": {
   "codemirror_mode": {
    "name": "ipython",
    "version": 3
   },
   "file_extension": ".py",
   "mimetype": "text/x-python",
   "name": "python",
   "nbconvert_exporter": "python",
   "pygments_lexer": "ipython3",
   "version": "3.6.5"
  }
 },
 "nbformat": 4,
 "nbformat_minor": 2
}
