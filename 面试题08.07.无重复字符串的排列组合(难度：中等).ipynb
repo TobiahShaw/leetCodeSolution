{
 "cells": [
  {
   "cell_type": "markdown",
   "metadata": {},
   "source": [
    "# 无重复字符串的排列组合\n",
    "\n",
    "**题目来源：力扣（LeetCode）**\n",
    "\n",
    "**链接：https://leetcode-cn.com/problems/permutation-i-lcci/**\n",
    "\n",
    "## 一、题目\n",
    "\n",
    "无重复字符串的排列组合。编写一种方法，计算某字符串的所有排列组合，字符串每个字符均不相同。\n",
    "\n",
    "## 二、示例\n",
    "\n",
    "### 示例1:\n",
    "\n",
    "输入：S = \"qwe\"\n",
    "\n",
    "输出：[\"qwe\", \"qew\", \"wqe\", \"weq\", \"ewq\", \"eqw\"]\n",
    "\n",
    "### 示例2:\n",
    "\n",
    "输入：S = \"ab\"\n",
    "\n",
    "输出：[\"ab\", \"ba\"]\n",
    "\n",
    "## 三、解题思路\n",
    "\n",
    "### 回溯法"
   ]
  },
  {
   "cell_type": "code",
   "execution_count": 1,
   "metadata": {},
   "outputs": [],
   "source": [
    "def permutation(S: str):\n",
    "    def generate(pool, item, result):\n",
    "        if not pool:\n",
    "            result.append(\"\".join(item))\n",
    "            return\n",
    "        for i in range(len(pool)):\n",
    "            item.append(pool[i])\n",
    "            generate(pool[:i] + pool[i+1:], item, result)\n",
    "            item.pop()\n",
    "    result = []\n",
    "    generate(S, [], result)\n",
    "    return result"
   ]
  },
  {
   "cell_type": "code",
   "execution_count": 2,
   "metadata": {},
   "outputs": [
    {
     "data": {
      "text/plain": [
       "['qwe', 'qew', 'wqe', 'weq', 'eqw', 'ewq']"
      ]
     },
     "execution_count": 2,
     "metadata": {},
     "output_type": "execute_result"
    }
   ],
   "source": [
    "permutation(\"qwe\")"
   ]
  },
  {
   "cell_type": "code",
   "execution_count": 3,
   "metadata": {},
   "outputs": [
    {
     "data": {
      "text/plain": [
       "['ab', 'ba']"
      ]
     },
     "execution_count": 3,
     "metadata": {},
     "output_type": "execute_result"
    }
   ],
   "source": [
    "permutation(\"ab\")"
   ]
  },
  {
   "cell_type": "code",
   "execution_count": null,
   "metadata": {},
   "outputs": [],
   "source": []
  }
 ],
 "metadata": {
  "kernelspec": {
   "display_name": "Python 3",
   "language": "python",
   "name": "python3"
  },
  "language_info": {
   "codemirror_mode": {
    "name": "ipython",
    "version": 3
   },
   "file_extension": ".py",
   "mimetype": "text/x-python",
   "name": "python",
   "nbconvert_exporter": "python",
   "pygments_lexer": "ipython3",
   "version": "3.6.5"
  }
 },
 "nbformat": 4,
 "nbformat_minor": 2
}
