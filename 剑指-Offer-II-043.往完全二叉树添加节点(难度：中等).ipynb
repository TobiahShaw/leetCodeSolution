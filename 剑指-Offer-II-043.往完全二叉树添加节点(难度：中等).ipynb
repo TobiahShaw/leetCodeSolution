{
 "cells": [
  {
   "cell_type": "markdown",
   "metadata": {},
   "source": [
    "# 往完全二叉树添加节点\n",
    "\n",
    "**题目来源：力扣（LeetCode）**\n",
    "\n",
    "**链接：https://leetcode-cn.com/problems/NaqhDT/**\n",
    "\n",
    "## 一、题目\n",
    "\n",
    "完全二叉树是每一层（除最后一层外）都是完全填充（即，节点数达到最大，第 n 层有 2n-1 个节点）的，并且所有的节点都尽可能地集中在左侧。\n",
    "\n",
    "设计一个用完全二叉树初始化的数据结构 CBTInserter，它支持以下几种操作：\n",
    "\n",
    "- CBTInserter(TreeNode root) 使用根节点为 root 的给定树初始化该数据结构；\n",
    "- CBTInserter.insert(int v)  向树中插入一个新节点，节点类型为 TreeNode，值为 v 。使树保持完全二叉树的状态，并返回插入的新节点的父节点的值；\n",
    "- CBTInserter.get_root() 将返回树的根节点。\n",
    "\n",
    "### 提示：\n",
    "\n",
    "- 最初给定的树是完全二叉树，且包含 1 到 1000 个节点。\n",
    "- 每个测试用例最多调用 CBTInserter.insert  操作 10000 次。\n",
    "- 给定节点或插入节点的每个值都在 0 到 5000 之间。\n",
    "\n",
    "## 二、示例\n",
    "\n",
    "### 示例 1：\n",
    "\n",
    "输入：inputs = [\"CBTInserter\",\"insert\",\"get_root\"], inputs = [[[1]],[2],[]]\n",
    "\n",
    "输出：[null,1,[1,2]]\n",
    "\n",
    "### 示例 2：\n",
    "\n",
    "输入：inputs = [\"CBTInserter\",\"insert\",\"insert\",\"get_root\"], inputs = [[[1,2,3,4,5,6]],[7],[8],[]]\n",
    "\n",
    "输出：[null,3,4,[1,2,3,4,5,6,7,8]]\n",
    "\n",
    "## 三、解题思路"
   ]
  },
  {
   "cell_type": "code",
   "execution_count": 1,
   "metadata": {},
   "outputs": [],
   "source": [
    "class TreeNode:\n",
    "    def __init__(self, val=0, left=None, right=None):\n",
    "        self.val = val\n",
    "        self.left = left\n",
    "        self.right = right\n",
    "        \n",
    "root = TreeNode(1)\n",
    "\n",
    "root.left = TreeNode(2)\n",
    "root.right = TreeNode(3)\n",
    "\n",
    "root.left.left = TreeNode(4)\n",
    "root.left.right = TreeNode(5)\n",
    "root.right.left = TreeNode(6)\n",
    "\n",
    "def bfs(root):\n",
    "    if not root:\n",
    "        return []\n",
    "    layer = [root]\n",
    "    ret = []\n",
    "    while layer:\n",
    "        next_layer = []\n",
    "        for node in layer:\n",
    "            ret.append(node.val)\n",
    "            if node.left:\n",
    "                next_layer.append(node.left)\n",
    "            if node.right:\n",
    "                next_layer.append(node.right)\n",
    "        layer = next_layer\n",
    "    return ret"
   ]
  },
  {
   "cell_type": "markdown",
   "metadata": {},
   "source": [
    "### 层序遍历"
   ]
  },
  {
   "cell_type": "code",
   "execution_count": 2,
   "metadata": {},
   "outputs": [],
   "source": [
    "class CBTInserter:\n",
    "\n",
    "    def __init__(self, root: TreeNode):\n",
    "        self.root = root\n",
    "        self.current_layer = []\n",
    "        self.index = 0\n",
    "        self._initCurrent()\n",
    "        \n",
    "    def _initCurrent(self):\n",
    "        layer = [self.root]\n",
    "        while layer:\n",
    "            next_layer = []\n",
    "            i = 0\n",
    "            for node in layer:\n",
    "                if node.left:\n",
    "                    next_layer.append(node.left)\n",
    "                else:\n",
    "                    self.current_layer = layer\n",
    "                    self.index = i\n",
    "                    return\n",
    "                if node.right:\n",
    "                    next_layer.append(node.right)\n",
    "                else:\n",
    "                    self.current_layer = layer\n",
    "                    self.index = i\n",
    "                    return\n",
    "                i += 1\n",
    "            layer = next_layer\n",
    "\n",
    "    def insert(self, v: int) -> int:\n",
    "        if self.index >= len(self.current_layer):\n",
    "            next_layer = []\n",
    "            for node in self.current_layer:\n",
    "                next_layer.append(node.left)\n",
    "                next_layer.append(node.right)\n",
    "            self.current_layer = next_layer\n",
    "            self.index = 0\n",
    "        parent = self.current_layer[self.index]\n",
    "        if parent.left:\n",
    "            parent.right = TreeNode(v)\n",
    "            self.index += 1\n",
    "        else:\n",
    "            parent.left = TreeNode(v)\n",
    "        return parent.val\n",
    "\n",
    "    def get_root(self) -> TreeNode:\n",
    "        return self.root"
   ]
  },
  {
   "cell_type": "code",
   "execution_count": 3,
   "metadata": {},
   "outputs": [
    {
     "data": {
      "text/plain": [
       "[1, 2, 3, 4, 5, 6, 7, 8]"
      ]
     },
     "execution_count": 3,
     "metadata": {},
     "output_type": "execute_result"
    }
   ],
   "source": [
    "mCBTInserter = CBTInserter(root)\n",
    "mCBTInserter.insert(7)\n",
    "mCBTInserter.insert(8)\n",
    "bfs(mCBTInserter.get_root())"
   ]
  },
  {
   "cell_type": "code",
   "execution_count": null,
   "metadata": {},
   "outputs": [],
   "source": []
  }
 ],
 "metadata": {
  "kernelspec": {
   "display_name": "Python 3",
   "language": "python",
   "name": "python3"
  },
  "language_info": {
   "codemirror_mode": {
    "name": "ipython",
    "version": 3
   },
   "file_extension": ".py",
   "mimetype": "text/x-python",
   "name": "python",
   "nbconvert_exporter": "python",
   "pygments_lexer": "ipython3",
   "version": "3.6.5"
  }
 },
 "nbformat": 4,
 "nbformat_minor": 2
}
