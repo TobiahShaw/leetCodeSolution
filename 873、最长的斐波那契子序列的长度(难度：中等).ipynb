{
 "cells": [
  {
   "cell_type": "markdown",
   "metadata": {},
   "source": [
    "# 最长的斐波那契子序列的长度\n",
    "\n",
    "**题目来源：力扣（LeetCode）**\n",
    "\n",
    "**链接：https://leetcode.cn/problems/length-of-longest-fibonacci-subsequence/**\n",
    "\n",
    "## 一、题目\n",
    "\n",
    "如果序列 X_1, X_2, ..., X_n 满足下列条件，就说它是 斐波那契式 的：\n",
    "\n",
    "- n >= 3\n",
    "- 对于所有 i + 2 <= n，都有 X_i + X_{i+1} = X_{i+2}\n",
    "\n",
    "给定一个严格递增的正整数数组形成序列 arr ，找到 arr 中最长的斐波那契式的子序列的长度。如果一个不存在，返回  0 。\n",
    "\n",
    "（回想一下，子序列是从原序列 arr 中派生出来的，它从 arr 中删掉任意数量的元素（也可以不删），而不改变其余元素的顺序。例如， [3, 5, 8] 是 [3, 4, 5, 6, 7, 8] 的一个子序列）\n",
    "\n",
    "### 提示：\n",
    "\n",
    "- 3 <= arr.length <= 1000\n",
    "- 1 <= arr[i] < arr[i + 1] <= 10^9\n",
    "\n",
    "## 二、示例\n",
    "\n",
    "### 示例 1：\n",
    "\n",
    "输入: arr = [1,2,3,4,5,6,7,8]\n",
    "\n",
    "输出: 5\n",
    "\n",
    "解释: 最长的斐波那契式子序列为 [1,2,3,5,8] 。\n",
    "\n",
    "### 示例 2：\n",
    "\n",
    "输入: arr = [1,3,7,11,12,14,18]\n",
    "\n",
    "输出: 3\n",
    "\n",
    "解释: 最长的斐波那契式子序列有 [1,11,12]、[3,11,14] 以及 [7,11,18] 。\n",
    "\n",
    "## 三、解题思路\n",
    "\n",
    "### 字典 + 暴力"
   ]
  },
  {
   "cell_type": "code",
   "execution_count": 1,
   "metadata": {},
   "outputs": [],
   "source": [
    "def lenLongestFibSubseq(arr) -> int:\n",
    "    n = len(arr)\n",
    "    index = {arr[i]: i for i in range(n)}\n",
    "    ret = 0\n",
    "    for i in range(n-2):\n",
    "        for j in range(i+1, n):\n",
    "            f1, f2 = arr[i], arr[j]\n",
    "            cnt = 2\n",
    "            while f1 + f2 in index:\n",
    "                k = index[f1+f2]\n",
    "                cnt += 1\n",
    "                f1, f2 = f2, f1+f2\n",
    "                if n-k-1 + cnt < ret:\n",
    "                    break\n",
    "            if cnt > ret:\n",
    "                ret = cnt\n",
    "    return ret if ret >= 3 else 0"
   ]
  },
  {
   "cell_type": "code",
   "execution_count": 2,
   "metadata": {},
   "outputs": [
    {
     "data": {
      "text/plain": [
       "5"
      ]
     },
     "execution_count": 2,
     "metadata": {},
     "output_type": "execute_result"
    }
   ],
   "source": [
    "lenLongestFibSubseq([1,2,3,4,5,6,7,8])"
   ]
  },
  {
   "cell_type": "code",
   "execution_count": 3,
   "metadata": {},
   "outputs": [
    {
     "data": {
      "text/plain": [
       "3"
      ]
     },
     "execution_count": 3,
     "metadata": {},
     "output_type": "execute_result"
    }
   ],
   "source": [
    "lenLongestFibSubseq([1,3,7,11,12,14,18])"
   ]
  },
  {
   "cell_type": "code",
   "execution_count": null,
   "metadata": {},
   "outputs": [],
   "source": []
  }
 ],
 "metadata": {
  "kernelspec": {
   "display_name": "Python 3",
   "language": "python",
   "name": "python3"
  },
  "language_info": {
   "codemirror_mode": {
    "name": "ipython",
    "version": 3
   },
   "file_extension": ".py",
   "mimetype": "text/x-python",
   "name": "python",
   "nbconvert_exporter": "python",
   "pygments_lexer": "ipython3",
   "version": "3.6.5"
  }
 },
 "nbformat": 4,
 "nbformat_minor": 2
}
