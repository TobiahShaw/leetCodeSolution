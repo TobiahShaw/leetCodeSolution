{
 "cells": [
  {
   "cell_type": "markdown",
   "metadata": {},
   "source": [
    "# 最大数\n",
    "\n",
    "**题目来源：力扣（LeetCode）**\n",
    "\n",
    "**链接：https://leetcode-cn.com/problems/largest-number/**\n",
    "\n",
    "## 一、题目\n",
    "\n",
    "给定一组非负整数 nums，重新排列每个数的顺序（每个数不可拆分）使之组成一个最大的整数。\n",
    "\n",
    "注意：输出结果可能非常大，所以你需要返回一个字符串而不是整数。\n",
    "\n",
    "## 二、示例\n",
    "\n",
    "### 示例 1：\n",
    "\n",
    "输入：nums = [10,2]\n",
    "\n",
    "输出：\"210\"\n",
    "\n",
    "### 示例 2：\n",
    "\n",
    "输入：nums = [3,30,34,5,9]\n",
    "\n",
    "输出：\"9534330\"\n",
    "\n",
    "### 示例 3：\n",
    "\n",
    "输入：nums = [1]\n",
    "\n",
    "输出：\"1\"\n",
    "\n",
    "### 示例 4：\n",
    "\n",
    "输入：nums = [10]\n",
    "\n",
    "输出：\"10\"\n",
    "\n",
    "## 三、解题思路\n",
    "\n",
    "### 自定义排序\n",
    "\n",
    "比较转成字符串后A+B和B+A大小"
   ]
  },
  {
   "cell_type": "code",
   "execution_count": 1,
   "metadata": {},
   "outputs": [],
   "source": [
    "def largestNumber(nums) -> str:\n",
    "    import functools\n",
    "    def compare(x, y):\n",
    "        return int(y+x) - int(x+y)\n",
    "    nums = sorted(map(str, nums), key=functools.cmp_to_key(compare))\n",
    "    return \"0\" if nums[0]==\"0\" else \"\".join(nums)"
   ]
  },
  {
   "cell_type": "code",
   "execution_count": 2,
   "metadata": {},
   "outputs": [
    {
     "data": {
      "text/plain": [
       "'210'"
      ]
     },
     "execution_count": 2,
     "metadata": {},
     "output_type": "execute_result"
    }
   ],
   "source": [
    "largestNumber([10,2])"
   ]
  },
  {
   "cell_type": "code",
   "execution_count": 3,
   "metadata": {},
   "outputs": [
    {
     "data": {
      "text/plain": [
       "'9534330'"
      ]
     },
     "execution_count": 3,
     "metadata": {},
     "output_type": "execute_result"
    }
   ],
   "source": [
    "largestNumber([3,30,34,5,9])"
   ]
  },
  {
   "cell_type": "code",
   "execution_count": 4,
   "metadata": {},
   "outputs": [
    {
     "data": {
      "text/plain": [
       "'1'"
      ]
     },
     "execution_count": 4,
     "metadata": {},
     "output_type": "execute_result"
    }
   ],
   "source": [
    "largestNumber([1])"
   ]
  },
  {
   "cell_type": "code",
   "execution_count": 5,
   "metadata": {},
   "outputs": [
    {
     "data": {
      "text/plain": [
       "'10'"
      ]
     },
     "execution_count": 5,
     "metadata": {},
     "output_type": "execute_result"
    }
   ],
   "source": [
    "largestNumber(nums = [10])"
   ]
  },
  {
   "cell_type": "code",
   "execution_count": null,
   "metadata": {},
   "outputs": [],
   "source": []
  }
 ],
 "metadata": {
  "kernelspec": {
   "display_name": "Python 3",
   "language": "python",
   "name": "python3"
  },
  "language_info": {
   "codemirror_mode": {
    "name": "ipython",
    "version": 3
   },
   "file_extension": ".py",
   "mimetype": "text/x-python",
   "name": "python",
   "nbconvert_exporter": "python",
   "pygments_lexer": "ipython3",
   "version": "3.6.5"
  }
 },
 "nbformat": 4,
 "nbformat_minor": 2
}
