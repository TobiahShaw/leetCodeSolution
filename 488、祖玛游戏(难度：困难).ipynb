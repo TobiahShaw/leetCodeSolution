{
 "cells": [
  {
   "cell_type": "markdown",
   "metadata": {},
   "source": [
    "# 祖玛游戏\n",
    "\n",
    "**题目来源：力扣（LeetCode）**\n",
    "\n",
    "**链接：https://leetcode-cn.com/problems/zuma-game/**\n",
    "\n",
    "## 一、题目\n",
    "\n",
    "你正在参与祖玛游戏的一个变种。\n",
    "\n",
    "在这个祖玛游戏变体中，桌面上有 一排 彩球，每个球的颜色可能是：红色 'R'、黄色 'Y'、蓝色 'B'、绿色 'G' 或白色 'W' 。你的手中也有一些彩球。\n",
    "\n",
    "你的目标是 清空 桌面上所有的球。每一回合：\n",
    "\n",
    "- 从你手上的彩球中选出 任意一颗 ，然后将其插入桌面上那一排球中：两球之间或这一排球的任一端。\n",
    "- 接着，如果有出现 三个或者三个以上 且 颜色相同 的球相连的话，就把它们移除掉。\n",
    "    - 如果这种移除操作同样导致出现三个或者三个以上且颜色相同的球相连，则可以继续移除这些球，直到不再满足移除条件。\n",
    "- 如果桌面上所有球都被移除，则认为你赢得本场游戏。\n",
    "- 重复这个过程，直到你赢了游戏或者手中没有更多的球。\n",
    "\n",
    "给你一个字符串 board ，表示桌面上最开始的那排球。另给你一个字符串 hand ，表示手里的彩球。请你按上述操作步骤移除掉桌上所有球，计算并返回所需的 最少 球数。如果不能移除桌上所有的球，返回 -1 。\n",
    "\n",
    "### 提示：\n",
    "\n",
    "- 1 <= board.length <= 16\n",
    "- 1 <= hand.length <= 5\n",
    "- board 和 hand 由字符 'R'、'Y'、'B'、'G' 和 'W' 组成\n",
    "- 桌面上一开始的球中，不会有三个及三个以上颜色相同且连着的球\n",
    "\n",
    "## 二、示例\n",
    "\n",
    "### 示例 1：\n",
    "\n",
    "输入：board = \"WRRBBW\", hand = \"RB\"\n",
    "\n",
    "输出：-1\n",
    "\n",
    "解释：无法移除桌面上的所有球。可以得到的最好局面是：\n",
    "\n",
    "- 插入一个 'R' ，使桌面变为 WRRRBBW 。WRRRBBW -> WBBW\n",
    "- 插入一个 'B' ，使桌面变为 WBBBW 。WBBBW -> WW\n",
    "\n",
    "桌面上还剩着球，没有其他球可以插入。\n",
    "\n",
    "### 示例 2：\n",
    "\n",
    "输入：board = \"WWRRBBWW\", hand = \"WRBRW\"\n",
    "\n",
    "输出：2\n",
    "\n",
    "解释：要想清空桌面上的球，可以按下述步骤：\n",
    "\n",
    "- 插入一个 'R' ，使桌面变为 WWRRRBBWW 。WWRRRBBWW -> WWBBWW\n",
    "- 插入一个 'B' ，使桌面变为 WWBBBWW 。WWBBBWW -> WWWW -> empty\n",
    "\n",
    "只需从手中出 2 个球就可以清空桌面。\n",
    "\n",
    "### 示例 3：\n",
    "\n",
    "输入：board = \"G\", hand = \"GGGGG\"\n",
    "\n",
    "输出：2\n",
    "\n",
    "解释：要想清空桌面上的球，可以按下述步骤：\n",
    "\n",
    "- 插入一个 'G' ，使桌面变为 GG 。\n",
    "- 插入一个 'G' ，使桌面变为 GGG 。GGG -> empty\n",
    "\n",
    "只需从手中出 2 个球就可以清空桌面。\n",
    "\n",
    "### 示例 4：\n",
    "\n",
    "输入：board = \"RBYYBBRRB\", hand = \"YRBGB\"\n",
    "\n",
    "输出：3\n",
    "\n",
    "解释：要想清空桌面上的球，可以按下述步骤：\n",
    "\n",
    "- 插入一个 'Y' ，使桌面变为 RBYYYBBRRB 。RBYYYBBRRB -> RBBBRRB -> RRRB -> B\n",
    "- 插入一个 'B' ，使桌面变为 BB 。\n",
    "- 插入一个 'B' ，使桌面变为 BBB 。BBB -> empty\n",
    "\n",
    "只需从手中出 3 个球就可以清空桌面。\n",
    "\n",
    "## 三、解题思路\n",
    "\n",
    "### 暴搜+剪枝"
   ]
  },
  {
   "cell_type": "code",
   "execution_count": 1,
   "metadata": {},
   "outputs": [],
   "source": [
    "def findMinStep(board: str, hand: str) -> int:\n",
    "    board = list(board)\n",
    "    hand = list(hand)\n",
    "\n",
    "    store = {}\n",
    "    def back(board:list, hand:list) -> int:\n",
    "        if not board:\n",
    "            return 0\n",
    "        if not hand:\n",
    "            return -1   \n",
    "        res = -1\n",
    "\n",
    "        # 手中每种颜色球\n",
    "        for (j, h) in enumerate(hand):\n",
    "            hand.pop(j)\n",
    "            # 插入board每个位置\n",
    "            for i in range(len(board) + 1):\n",
    "                # 相同元素只插一个位置                    \n",
    "                if i < len(board) - 1 and board[i] == board[i+1] == h:\n",
    "                    continue\n",
    "                if i >= 1 and i < len(board) and board[i] == board[i-1] == h:\n",
    "                    continue  \n",
    "                board_copy = board[0:i]+[h]+board[i:] \n",
    "\n",
    "                # 不断删除相同元素 >=3 个\n",
    "                l = i \n",
    "                r = i                \n",
    "                num = 0\n",
    "                boom = True\n",
    "                while boom == True and l >= 0 and r < len(board_copy) and board_copy[l] == board_copy[r]:\n",
    "                    while l > 0 and board_copy[l - 1] == board_copy[l]:\n",
    "                        l -= 1\n",
    "                    while r < len(board_copy) - 1 and board_copy[r + 1] == board_copy[r]:\n",
    "                        r += 1\n",
    "\n",
    "                    num = r - l + 1\n",
    "                    if num >= 3:\n",
    "                        board_copy = board_copy[:l] + board_copy[r+1:] if r+1 < len(board_copy) else board_copy[:l]\n",
    "                        boom = True\n",
    "                        r = l\n",
    "                        l = l -1                    \n",
    "                    else:\n",
    "                        boom = False\n",
    "                    \n",
    "                # 回溯 + memorize\n",
    "                new = (tuple(board_copy), tuple(hand))\n",
    "                if new in store:\n",
    "                    res_back = store[new]\n",
    "                else:\n",
    "                    res_back = back(board_copy,hand)\n",
    "                    store[new] = res_back\n",
    "\n",
    "                if res_back != -1:\n",
    "                    if res == -1:\n",
    "                        res = res_back\n",
    "                    elif res_back < res:\n",
    "                        res = res_back    \n",
    "            \n",
    "            hand.insert(j,h)\n",
    "        \n",
    "        return res + 1 if res!= -1 else -1\n",
    "    \n",
    "    return(back(board,hand))"
   ]
  },
  {
   "cell_type": "code",
   "execution_count": 2,
   "metadata": {},
   "outputs": [
    {
     "data": {
      "text/plain": [
       "-1"
      ]
     },
     "execution_count": 2,
     "metadata": {},
     "output_type": "execute_result"
    }
   ],
   "source": [
    "findMinStep(board = \"WRRBBW\", hand = \"RB\")"
   ]
  },
  {
   "cell_type": "code",
   "execution_count": 3,
   "metadata": {},
   "outputs": [
    {
     "data": {
      "text/plain": [
       "2"
      ]
     },
     "execution_count": 3,
     "metadata": {},
     "output_type": "execute_result"
    }
   ],
   "source": [
    "findMinStep(board = \"WWRRBBWW\", hand = \"WRBRW\")"
   ]
  },
  {
   "cell_type": "code",
   "execution_count": 4,
   "metadata": {},
   "outputs": [
    {
     "data": {
      "text/plain": [
       "2"
      ]
     },
     "execution_count": 4,
     "metadata": {},
     "output_type": "execute_result"
    }
   ],
   "source": [
    "findMinStep(board = \"G\", hand = \"GGGGG\")"
   ]
  },
  {
   "cell_type": "code",
   "execution_count": 5,
   "metadata": {},
   "outputs": [
    {
     "data": {
      "text/plain": [
       "3"
      ]
     },
     "execution_count": 5,
     "metadata": {},
     "output_type": "execute_result"
    }
   ],
   "source": [
    "findMinStep(board = \"RBYYBBRRB\", hand = \"YRBGB\")"
   ]
  },
  {
   "cell_type": "code",
   "execution_count": null,
   "metadata": {},
   "outputs": [],
   "source": []
  }
 ],
 "metadata": {
  "kernelspec": {
   "display_name": "Python 3",
   "language": "python",
   "name": "python3"
  },
  "language_info": {
   "codemirror_mode": {
    "name": "ipython",
    "version": 3
   },
   "file_extension": ".py",
   "mimetype": "text/x-python",
   "name": "python",
   "nbconvert_exporter": "python",
   "pygments_lexer": "ipython3",
   "version": "3.6.5"
  }
 },
 "nbformat": 4,
 "nbformat_minor": 2
}
