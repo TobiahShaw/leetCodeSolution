{
 "cells": [
  {
   "cell_type": "markdown",
   "metadata": {},
   "source": [
    "# 除法求值\n",
    "\n",
    "**题目来源：力扣（LeetCode）**\n",
    "\n",
    "**链接：https://leetcode-cn.com/problems/evaluate-division/**\n",
    "\n",
    "## 一、题目\n",
    "\n",
    "给你一个变量对数组 equations 和一个实数值数组 values 作为已知条件，其中 equations[i] = [Ai, Bi] 和 values[i] 共同表示等式 Ai / Bi = values[i] 。每个 Ai 或 Bi 是一个表示单个变量的字符串。\n",
    "\n",
    "另有一些以数组 queries 表示的问题，其中 queries[j] = [Cj, Dj] 表示第 j 个问题，请你根据已知条件找出 Cj / Dj = ? 的结果作为答案。\n",
    "\n",
    "返回 所有问题的答案 。如果存在某个无法确定的答案，则用 -1.0 替代这个答案。\n",
    "\n",
    "注意：输入总是有效的。你可以假设除法运算中不会出现除数为 0 的情况，且不存在任何矛盾的结果。\n",
    "\n",
    "### 提示：\n",
    "\n",
    "- 1 <= equations.length <= 20\n",
    "- equations[i].length == 2\n",
    "- 1 <= Ai.length, Bi.length <= 5\n",
    "- values.length == equations.length\n",
    "- 0.0 < values[i] <= 20.0\n",
    "- 1 <= queries.length <= 20\n",
    "- queries[i].length == 2\n",
    "- 1 <= Cj.length, Dj.length <= 5\n",
    "- Ai, Bi, Cj, Dj 由小写英文字母与数字组成\n",
    "\n",
    "## 二、示例\n",
    "\n",
    "### 示例 1：\n",
    "\n",
    "输入：equations = [[\"a\",\"b\"],[\"b\",\"c\"]], values = [2.0,3.0], queries = [[\"a\",\"c\"],[\"b\",\"a\"],[\"a\",\"e\"],[\"a\",\"a\"],[\"x\",\"x\"]]\n",
    "\n",
    "输出：[6.00000,0.50000,-1.00000,1.00000,-1.00000]\n",
    "\n",
    "解释：\n",
    "\n",
    "条件：a / b = 2.0, b / c = 3.0\n",
    "\n",
    "问题：a / c = ?, b / a = ?, a / e = ?, a / a = ?, x / x = ?\n",
    "\n",
    "结果：[6.0, 0.5, -1.0, 1.0, -1.0 ]\n",
    "\n",
    "### 示例 2：\n",
    "\n",
    "输入：equations = [[\"a\",\"b\"],[\"b\",\"c\"],[\"bc\",\"cd\"]], values = [1.5,2.5,5.0], queries = [[\"a\",\"c\"],[\"c\",\"b\"],[\"bc\",\"cd\"],[\"cd\",\"bc\"]]\n",
    "\n",
    "输出：[3.75000,0.40000,5.00000,0.20000]\n",
    "\n",
    "### 示例 3：\n",
    "\n",
    "输入：equations = [[\"a\",\"b\"]], values = [0.5], queries = [[\"a\",\"b\"],[\"b\",\"a\"],[\"a\",\"c\"],[\"x\",\"y\"]]\n",
    "\n",
    "输出：[0.50000,2.00000,-1.00000,-1.00000]\n",
    "\n",
    "## 三、解题思路\n",
    "\n",
    "### 深度优先搜索"
   ]
  },
  {
   "cell_type": "code",
   "execution_count": 1,
   "metadata": {},
   "outputs": [],
   "source": [
    "def calcEquation(equations, values, queries):\n",
    "    graph = {}\n",
    "    # 构造图，equations的第一项除以第二项等于value里的对应值，第二项除以第一项等于其倒数\n",
    "    for (x, y), v in zip(equations, values):\n",
    "        if x in graph:\n",
    "            graph[x][y] = v\n",
    "        else:\n",
    "            graph[x] = {y: v}\n",
    "        if y in graph:\n",
    "            graph[y][x] = 1/v\n",
    "        else:\n",
    "            graph[y] = {x: 1/v}\n",
    "    # dfs找寻从s到t的路径并返回结果叠乘后的边权重即结果\n",
    "    def dfs(s, t):\n",
    "        if s not in graph:\n",
    "            return -1\n",
    "        if s == t:\n",
    "            return 1\n",
    "        for node in graph[s].keys():\n",
    "            if node == t:\n",
    "                return graph[s][node]\n",
    "            elif node not in visited:\n",
    "                visited.add(node)\n",
    "                v = dfs(node, t)\n",
    "                if v != -1:\n",
    "                    return graph[s][node]*v\n",
    "        return -1\n",
    "    res = []\n",
    "    for qs, qt in queries:\n",
    "        visited = set()\n",
    "        res.append(dfs(qs, qt))\n",
    "    return res"
   ]
  },
  {
   "cell_type": "code",
   "execution_count": 2,
   "metadata": {},
   "outputs": [
    {
     "data": {
      "text/plain": [
       "[6.0, 0.5, -1, 1, -1]"
      ]
     },
     "execution_count": 2,
     "metadata": {},
     "output_type": "execute_result"
    }
   ],
   "source": [
    "calcEquation(equations = [[\"a\",\"b\"],[\"b\",\"c\"]], values = [2.0,3.0], queries = [[\"a\",\"c\"],[\"b\",\"a\"],[\"a\",\"e\"],[\"a\",\"a\"],[\"x\",\"x\"]])"
   ]
  },
  {
   "cell_type": "code",
   "execution_count": 3,
   "metadata": {},
   "outputs": [
    {
     "data": {
      "text/plain": [
       "[3.75, 0.4, 5.0, 0.2]"
      ]
     },
     "execution_count": 3,
     "metadata": {},
     "output_type": "execute_result"
    }
   ],
   "source": [
    "calcEquation(equations = [[\"a\",\"b\"],[\"b\",\"c\"],[\"bc\",\"cd\"]], values = [1.5,2.5,5.0], queries = [[\"a\",\"c\"],[\"c\",\"b\"],[\"bc\",\"cd\"],[\"cd\",\"bc\"]])"
   ]
  },
  {
   "cell_type": "code",
   "execution_count": 4,
   "metadata": {},
   "outputs": [
    {
     "data": {
      "text/plain": [
       "[0.5, 2.0, -1, -1]"
      ]
     },
     "execution_count": 4,
     "metadata": {},
     "output_type": "execute_result"
    }
   ],
   "source": [
    "calcEquation(equations = [[\"a\",\"b\"]], values = [0.5], queries = [[\"a\",\"b\"],[\"b\",\"a\"],[\"a\",\"c\"],[\"x\",\"y\"]])"
   ]
  },
  {
   "cell_type": "code",
   "execution_count": null,
   "metadata": {},
   "outputs": [],
   "source": []
  }
 ],
 "metadata": {
  "kernelspec": {
   "display_name": "Python 3",
   "language": "python",
   "name": "python3"
  },
  "language_info": {
   "codemirror_mode": {
    "name": "ipython",
    "version": 3
   },
   "file_extension": ".py",
   "mimetype": "text/x-python",
   "name": "python",
   "nbconvert_exporter": "python",
   "pygments_lexer": "ipython3",
   "version": "3.6.5"
  }
 },
 "nbformat": 4,
 "nbformat_minor": 2
}
