{
 "cells": [
  {
   "cell_type": "markdown",
   "metadata": {},
   "source": [
    "# 前K个高频单词\n",
    "\n",
    "**题目来源：力扣（LeetCode）**\n",
    "\n",
    "**链接：https://leetcode-cn.com/problems/top-k-frequent-words/**\n",
    "\n",
    "## 一、题目\n",
    "\n",
    "给一非空的单词列表，返回前 k 个出现次数最多的单词。\n",
    "\n",
    "返回的答案应该按单词出现频率由高到低排序。如果不同的单词有相同出现频率，按字母顺序排序。\n",
    "\n",
    "### 注意：\n",
    "\n",
    "- 假定 k 总为有效值， 1 ≤ k ≤ 集合元素数。\n",
    "- 输入的单词均由小写字母组成。\n",
    "\n",
    "## 二、示例\n",
    "\n",
    "### 示例 1：\n",
    "\n",
    "输入: [\"i\", \"love\", \"leetcode\", \"i\", \"love\", \"coding\"], k = 2\n",
    "\n",
    "输出: [\"i\", \"love\"]\n",
    "\n",
    "解析: \"i\" 和 \"love\" 为出现次数最多的两个单词，均为2次。注意，按字母顺序 \"i\" 在 \"love\" 之前。\n",
    " \n",
    "\n",
    "### 示例 2：\n",
    "\n",
    "输入: [\"the\", \"day\", \"is\", \"sunny\", \"the\", \"the\", \"the\", \"sunny\", \"is\", \"is\"], k = 4\n",
    "\n",
    "输出: [\"the\", \"is\", \"sunny\", \"day\"]\n",
    "\n",
    "解析: \"the\", \"is\", \"sunny\" 和 \"day\" 是出现次数最多的四个单词，出现次数依次为 4, 3, 2 和 1 次。\n",
    "\n",
    "## 三、解题思路\n",
    "\n",
    "### 哈希表+排序"
   ]
  },
  {
   "cell_type": "code",
   "execution_count": 1,
   "metadata": {},
   "outputs": [],
   "source": [
    "def topKFrequent(words, k: int):\n",
    "    dic = {}\n",
    "    for word in words:\n",
    "        if word in dic:\n",
    "            dic[word] += 1\n",
    "        else:\n",
    "            dic[word] = 1\n",
    "    ret = sorted(dic.keys(), key=lambda x: (-dic[x], x))\n",
    "    return ret[:k]"
   ]
  },
  {
   "cell_type": "code",
   "execution_count": 2,
   "metadata": {},
   "outputs": [
    {
     "data": {
      "text/plain": [
       "['i', 'love']"
      ]
     },
     "execution_count": 2,
     "metadata": {},
     "output_type": "execute_result"
    }
   ],
   "source": [
    "topKFrequent([\"i\", \"love\", \"leetcode\", \"i\", \"love\", \"coding\"], k = 2)"
   ]
  },
  {
   "cell_type": "code",
   "execution_count": 3,
   "metadata": {},
   "outputs": [
    {
     "data": {
      "text/plain": [
       "['the', 'is', 'sunny', 'day']"
      ]
     },
     "execution_count": 3,
     "metadata": {},
     "output_type": "execute_result"
    }
   ],
   "source": [
    "topKFrequent([\"the\", \"day\", \"is\", \"sunny\", \"the\", \"the\", \"the\", \"sunny\", \"is\", \"is\"], k = 4)"
   ]
  },
  {
   "cell_type": "code",
   "execution_count": null,
   "metadata": {},
   "outputs": [],
   "source": []
  }
 ],
 "metadata": {
  "kernelspec": {
   "display_name": "Python 3",
   "language": "python",
   "name": "python3"
  },
  "language_info": {
   "codemirror_mode": {
    "name": "ipython",
    "version": 3
   },
   "file_extension": ".py",
   "mimetype": "text/x-python",
   "name": "python",
   "nbconvert_exporter": "python",
   "pygments_lexer": "ipython3",
   "version": "3.6.5"
  }
 },
 "nbformat": 4,
 "nbformat_minor": 2
}
