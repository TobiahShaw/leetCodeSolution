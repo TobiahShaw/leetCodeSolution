{
 "cells": [
  {
   "cell_type": "markdown",
   "metadata": {},
   "source": [
    "# 删除排序链表中的重复元素II\n",
    "\n",
    "**题目来源：力扣（LeetCode）**\n",
    "\n",
    "**链接：https://leetcode-cn.com/problems/remove-duplicates-from-sorted-list-ii/**\n",
    "\n",
    "## 一、题目\n",
    "\n",
    "给定一个排序链表，删除所有含有重复数字的节点，只保留原始链表中 “没有重复出现” 的数字。\n",
    "\n",
    "## 二、示例\n",
    "\n",
    "### 示例 1：\n",
    "\n",
    "输入: 1->2->3->3->4->4->5\n",
    "\n",
    "输出: 1->2->5\n",
    "\n",
    "### 示例 2：\n",
    "\n",
    "输入: 1->1->1->2->3\n",
    "\n",
    "输出: 2->3\n",
    "\n",
    "## 三、解题思路"
   ]
  },
  {
   "cell_type": "code",
   "execution_count": 1,
   "metadata": {},
   "outputs": [],
   "source": [
    "class ListNode:\n",
    "    def __init__(self, x):\n",
    "        self.val = x\n",
    "        self.next = None"
   ]
  },
  {
   "cell_type": "code",
   "execution_count": 2,
   "metadata": {},
   "outputs": [],
   "source": [
    "head = ListNode(1)\n",
    "head.next = ListNode(2)\n",
    "head.next.next = ListNode(3)\n",
    "head.next.next.next = ListNode(3)\n",
    "head.next.next.next.next = ListNode(4)\n",
    "head.next.next.next.next.next = ListNode(4)\n",
    "head.next.next.next.next.next.next = ListNode(5)"
   ]
  },
  {
   "cell_type": "code",
   "execution_count": 3,
   "metadata": {},
   "outputs": [],
   "source": [
    "head2 = ListNode(1)\n",
    "head2.next = ListNode(1)\n",
    "head2.next.next = ListNode(1)\n",
    "head2.next.next.next = ListNode(2)\n",
    "head2.next.next.next.next = ListNode(3)"
   ]
  },
  {
   "cell_type": "markdown",
   "metadata": {},
   "source": [
    "### 两次遍历"
   ]
  },
  {
   "cell_type": "code",
   "execution_count": 4,
   "metadata": {},
   "outputs": [],
   "source": [
    "def deleteDuplicates(head: ListNode) -> ListNode:\n",
    "    holder = ListNode(0)\n",
    "    holder.next = head\n",
    "    hased = set()\n",
    "    while head and head.next:\n",
    "        if head.val == head.next.val:\n",
    "            hased.add(head.val)\n",
    "        head = head.next\n",
    "    head = holder.next\n",
    "    pre = ListNode(0)\n",
    "    ret = pre\n",
    "    while head:\n",
    "        if head.val not in hased:\n",
    "            pre.next = head\n",
    "            pre = head\n",
    "            head = head.next\n",
    "            pre.next = None\n",
    "        else:\n",
    "            head = head.next\n",
    "    return ret.next"
   ]
  },
  {
   "cell_type": "code",
   "execution_count": 5,
   "metadata": {},
   "outputs": [
    {
     "name": "stdout",
     "output_type": "stream",
     "text": [
      "1 2 5 "
     ]
    }
   ],
   "source": [
    "ret = deleteDuplicates(head)\n",
    "while ret:\n",
    "    print(ret.val, end=' ')\n",
    "    ret = ret.next"
   ]
  },
  {
   "cell_type": "code",
   "execution_count": 6,
   "metadata": {},
   "outputs": [
    {
     "name": "stdout",
     "output_type": "stream",
     "text": [
      "2 3 "
     ]
    }
   ],
   "source": [
    "ret2 = deleteDuplicates(head2)\n",
    "while ret2:\n",
    "    print(ret2.val, end=' ')\n",
    "    ret2 = ret2.next"
   ]
  },
  {
   "cell_type": "code",
   "execution_count": null,
   "metadata": {},
   "outputs": [],
   "source": []
  }
 ],
 "metadata": {
  "kernelspec": {
   "display_name": "Python 3",
   "language": "python",
   "name": "python3"
  },
  "language_info": {
   "codemirror_mode": {
    "name": "ipython",
    "version": 3
   },
   "file_extension": ".py",
   "mimetype": "text/x-python",
   "name": "python",
   "nbconvert_exporter": "python",
   "pygments_lexer": "ipython3",
   "version": "3.6.5"
  }
 },
 "nbformat": 4,
 "nbformat_minor": 2
}
