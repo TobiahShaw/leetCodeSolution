{
  "cells": [
    {
      "metadata": {
        "collapsed": true
      },
      "cell_type": "markdown",
      "source": "# 删除链表的倒数第N个节点\n\n**题目来源：力扣（LeetCode）**\n\n**链接：https://leetcode-cn.com/problems/remove-nth-node-from-end-of-list/**\n\n## 一、题目\n\n给定一个链表，删除链表的倒数第 n 个节点，并且返回链表的头结点。\n\n## 二、示例\n\n给定一个链表: 1->2->3->4->5, 和 n = 2.\n\n当删除了倒数第二个节点后，链表变为 1->2->3->5.\n\n### 说明：\n\n给定的 n 保证是有效的。\n\n## 三、解题思路"
    },
    {
      "metadata": {
        "trusted": true
      },
      "cell_type": "code",
      "source": "class ListNode:\n    def __init__(self, x):\n        self.val = x\n        self.next = None",
      "execution_count": 1,
      "outputs": []
    },
    {
      "metadata": {
        "trusted": true
      },
      "cell_type": "code",
      "source": "head = ListNode(1)\nhead.next = ListNode(2)\nhead.next.next = ListNode(3)\nhead.next.next.next = ListNode(4)\nhead.next.next.next.next = ListNode(5)",
      "execution_count": 2,
      "outputs": []
    },
    {
      "metadata": {},
      "cell_type": "markdown",
      "source": "### 双指针"
    },
    {
      "metadata": {
        "trusted": true
      },
      "cell_type": "code",
      "source": "def removeNthFromEnd(head, n):\n    if n <= 0:\n        return head\n    fp = ListNode(0)\n    fp.next = head\n    sp = ListNode(0)\n    sp.next = head\n    holder = sp\n    for i in range(n):\n        fp = fp.next\n    while fp.next:\n        prev = sp\n        sp = sp.next\n        fp = fp.next\n    if sp.next.next:\n        sp.next.val = sp.next.next.val\n        sp.next.next = sp.next.next.next\n    else:\n        sp.next = None\n    return holder.next",
      "execution_count": 3,
      "outputs": []
    },
    {
      "metadata": {
        "trusted": true
      },
      "cell_type": "code",
      "source": "node = removeNthFromEnd(head, 2)\nwhile node is not None:\n    print(node.val, end=' ')\n    node = node.next",
      "execution_count": 4,
      "outputs": [
        {
          "output_type": "stream",
          "text": "1 2 3 5 ",
          "name": "stdout"
        }
      ]
    },
    {
      "metadata": {
        "trusted": true
      },
      "cell_type": "code",
      "source": "",
      "execution_count": null,
      "outputs": []
    }
  ],
  "metadata": {
    "kernelspec": {
      "name": "python36",
      "display_name": "Python 3.6",
      "language": "python"
    },
    "language_info": {
      "mimetype": "text/x-python",
      "nbconvert_exporter": "python",
      "name": "python",
      "pygments_lexer": "ipython3",
      "version": "3.6.6",
      "file_extension": ".py",
      "codemirror_mode": {
        "version": 3,
        "name": "ipython"
      }
    }
  },
  "nbformat": 4,
  "nbformat_minor": 2
}