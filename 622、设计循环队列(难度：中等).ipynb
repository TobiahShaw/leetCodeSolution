{
 "cells": [
  {
   "cell_type": "markdown",
   "metadata": {},
   "source": [
    "# 设计循环队列\n",
    "\n",
    "**题目来源：力扣（LeetCode）**\n",
    "\n",
    "**链接：https://leetcode.cn/problems/design-circular-queue/**\n",
    "\n",
    "## 一、题目\n",
    "\n",
    "设计你的循环队列实现。 循环队列是一种线性数据结构，其操作表现基于 FIFO（先进先出）原则并且队尾被连接在队首之后以形成一个循环。它也被称为“环形缓冲器”。\n",
    "\n",
    "循环队列的一个好处是我们可以利用这个队列之前用过的空间。在一个普通队列里，一旦一个队列满了，我们就不能插入下一个元素，即使在队列前面仍有空间。但是使用循环队列，我们能使用这些空间去存储新的值。\n",
    "\n",
    "你的实现应该支持如下操作：\n",
    "\n",
    "- MyCircularQueue(k): 构造器，设置队列长度为 k 。\n",
    "- Front: 从队首获取元素。如果队列为空，返回 -1 。\n",
    "- Rear: 获取队尾元素。如果队列为空，返回 -1 。\n",
    "- enQueue(value): 向循环队列插入一个元素。如果成功插入则返回真。\n",
    "- deQueue(): 从循环队列中删除一个元素。如果成功删除则返回真。\n",
    "- isEmpty(): 检查循环队列是否为空。\n",
    "- isFull(): 检查循环队列是否已满。\n",
    "\n",
    "### 提示：\n",
    "\n",
    "- 所有的值都在 0 至 1000 的范围内；\n",
    "- 操作数将在 1 至 1000 的范围内；\n",
    "- 请不要使用内置的队列库。\n",
    "\n",
    "## 二、示例\n",
    "\n",
    "```\n",
    "circularQueue = MyCircularQueue(3) # 设置长度为 3\n",
    "circularQueue.enQueue(1)  # 返回 true\n",
    "circularQueue.enQueue(2)  # 返回 true\n",
    "circularQueue.enQueue(3)  # 返回 true\n",
    "circularQueue.enQueue(4)  # 返回 false，队列已满\n",
    "circularQueue.Rear()  # 返回 3\n",
    "circularQueue.isFull()  # 返回 true\n",
    "circularQueue.deQueue()  # 返回 true\n",
    "circularQueue.enQueue(4)  # 返回 true\n",
    "circularQueue.Rear()  # 返回 4\n",
    "```\n",
    "\n",
    "## 三、解题思路\n",
    "\n",
    "### 数组"
   ]
  },
  {
   "cell_type": "code",
   "execution_count": 1,
   "metadata": {},
   "outputs": [],
   "source": [
    "class MyCircularQueue:\n",
    "    def __init__(self, k: int):\n",
    "        self.front = self.rear = 0\n",
    "        self.elements = [0] * (k + 1)\n",
    "\n",
    "    def enQueue(self, value: int) -> bool:\n",
    "        if self.isFull():\n",
    "            return False\n",
    "        self.elements[self.rear] = value\n",
    "        self.rear = (self.rear + 1) % len(self.elements)\n",
    "        return True\n",
    "\n",
    "    def deQueue(self) -> bool:\n",
    "        if self.isEmpty():\n",
    "            return False\n",
    "        self.front = (self.front + 1) % len(self.elements)\n",
    "        return True\n",
    "\n",
    "    def Front(self) -> int:\n",
    "        return -1 if self.isEmpty() else self.elements[self.front]\n",
    "\n",
    "    def Rear(self) -> int:\n",
    "        return -1 if self.isEmpty() else self.elements[(self.rear - 1) % len(self.elements)]\n",
    "\n",
    "    def isEmpty(self) -> bool:\n",
    "        return self.rear == self.front\n",
    "\n",
    "    def isFull(self) -> bool:\n",
    "        return (self.rear + 1) % len(self.elements) == self.front"
   ]
  },
  {
   "cell_type": "code",
   "execution_count": 2,
   "metadata": {},
   "outputs": [
    {
     "name": "stdout",
     "output_type": "stream",
     "text": [
      "True\n",
      "True\n",
      "True\n",
      "False\n",
      "3\n",
      "True\n",
      "True\n",
      "True\n",
      "4\n"
     ]
    }
   ],
   "source": [
    "circularQueue = MyCircularQueue(3) # 设置长度为 3\n",
    "print(circularQueue.enQueue(1))\n",
    "print(circularQueue.enQueue(2))\n",
    "print(circularQueue.enQueue(3))\n",
    "print(circularQueue.enQueue(4))\n",
    "print(circularQueue.Rear())\n",
    "print(circularQueue.isFull())\n",
    "print(circularQueue.deQueue())\n",
    "print(circularQueue.enQueue(4))\n",
    "print(circularQueue.Rear())"
   ]
  },
  {
   "cell_type": "code",
   "execution_count": null,
   "metadata": {},
   "outputs": [],
   "source": []
  }
 ],
 "metadata": {
  "kernelspec": {
   "display_name": "Python 3.10.4 64-bit",
   "language": "python",
   "name": "python3"
  },
  "language_info": {
   "codemirror_mode": {
    "name": "ipython",
    "version": 3
   },
   "file_extension": ".py",
   "mimetype": "text/x-python",
   "name": "python",
   "nbconvert_exporter": "python",
   "pygments_lexer": "ipython3",
   "version": "3.10.4"
  },
  "orig_nbformat": 4,
  "vscode": {
   "interpreter": {
    "hash": "4f946df053fbf2b937619d3c5458e7af74262f9a954d8797ba0b27400bcafe06"
   }
  }
 },
 "nbformat": 4,
 "nbformat_minor": 2
}
