{
 "cells": [
  {
   "cell_type": "markdown",
   "id": "0f81c80d",
   "metadata": {},
   "source": [
    "# 数组能形成多少数对\n",
    "\n",
    "**题目来源：力扣（LeetCode）**\n",
    "\n",
    "**链接：https://leetcode.cn/problems/maximum-number-of-pairs-in-array/**\n",
    "\n",
    "## 一、题目\n",
    "\n",
    "给你一个下标从 0 开始的整数数组 nums 。在一步操作中，你可以执行以下步骤：\n",
    "\n",
    "从 nums 选出 两个 相等的 整数\n",
    "从 nums 中移除这两个整数，形成一个 数对\n",
    "请你在 nums 上多次执行此操作直到无法继续执行。\n",
    "\n",
    "返回一个下标从 0 开始、长度为 2 的整数数组 answer 作为答案，其中 answer[0] 是形成的数对数目，answer[1] 是对 nums 尽可能执行上述操作后剩下的整数数目。\n",
    "\n",
    "### 提示：\n",
    "\n",
    "- 1 <= nums.length <= 100\n",
    "- 0 <= nums[i] <= 100\n",
    "\n",
    "## 二、示例\n",
    "\n",
    "### 示例 1：\n",
    "\n",
    "输入：nums = [1,3,2,1,3,2,2]\n",
    "\n",
    "输出：[3,1]\n",
    "\n",
    "解释：\n",
    "\n",
    "- nums[0] 和 nums[3] 形成一个数对，并从 nums 中移除，nums = [3,2,3,2,2] 。\n",
    "- nums[0] 和 nums[2] 形成一个数对，并从 nums 中移除，nums = [2,2,2] 。\n",
    "- nums[0] 和 nums[1] 形成一个数对，并从 nums 中移除，nums = [2] 。\n",
    "\n",
    "无法形成更多数对。总共形成 3 个数对，nums 中剩下 1 个数字。\n",
    "\n",
    "### 示例 2：\n",
    "\n",
    "输入：nums = [1,1]\n",
    "\n",
    "输出：[1,0]\n",
    "\n",
    "解释：nums[0] 和 nums[1] 形成一个数对，并从 nums 中移除，nums = [] 。无法形成更多数对。总共形成 1 个数对，nums 中剩下 0 个数字。\n",
    "\n",
    "### 示例 3：\n",
    "\n",
    "输入：nums = [0]\n",
    "\n",
    "输出：[0,1]\n",
    "\n",
    "解释：无法形成数对，nums 中剩下 1 个数字。\n",
    "\n",
    "## 三、解题思路\n",
    "\n",
    "### 利用集合"
   ]
  },
  {
   "cell_type": "code",
   "execution_count": 1,
   "id": "5ca5db56",
   "metadata": {},
   "outputs": [],
   "source": [
    "class Solution:\n",
    "    def numberOfPairs(self, nums):\n",
    "        s = set()\n",
    "        ret = [0, len(nums)]\n",
    "        for i in nums:\n",
    "            if i in s:\n",
    "                s.remove(i)\n",
    "                ret[0] += 1\n",
    "            else:\n",
    "                s.add(i)\n",
    "        ret[1] = len(s)\n",
    "        return ret"
   ]
  },
  {
   "cell_type": "code",
   "execution_count": 2,
   "id": "0e0edade",
   "metadata": {},
   "outputs": [
    {
     "data": {
      "text/plain": [
       "[3, 1]"
      ]
     },
     "execution_count": 2,
     "metadata": {},
     "output_type": "execute_result"
    }
   ],
   "source": [
    "s = Solution()\n",
    "s.numberOfPairs([1,3,2,1,3,2,2])"
   ]
  },
  {
   "cell_type": "code",
   "execution_count": 3,
   "id": "128d25e0",
   "metadata": {},
   "outputs": [
    {
     "data": {
      "text/plain": [
       "[1, 0]"
      ]
     },
     "execution_count": 3,
     "metadata": {},
     "output_type": "execute_result"
    }
   ],
   "source": [
    "s.numberOfPairs([1,1])"
   ]
  },
  {
   "cell_type": "code",
   "execution_count": 4,
   "id": "373f8567",
   "metadata": {},
   "outputs": [
    {
     "data": {
      "text/plain": [
       "[0, 1]"
      ]
     },
     "execution_count": 4,
     "metadata": {},
     "output_type": "execute_result"
    }
   ],
   "source": [
    "s.numberOfPairs([0])"
   ]
  },
  {
   "cell_type": "code",
   "execution_count": null,
   "id": "3b81daf9",
   "metadata": {},
   "outputs": [],
   "source": []
  }
 ],
 "metadata": {
  "kernelspec": {
   "display_name": "Python 3 (ipykernel)",
   "language": "python",
   "name": "python3"
  },
  "language_info": {
   "codemirror_mode": {
    "name": "ipython",
    "version": 3
   },
   "file_extension": ".py",
   "mimetype": "text/x-python",
   "name": "python",
   "nbconvert_exporter": "python",
   "pygments_lexer": "ipython3",
   "version": "3.11.0"
  }
 },
 "nbformat": 4,
 "nbformat_minor": 5
}
