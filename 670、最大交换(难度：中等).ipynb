{
 "cells": [
  {
   "cell_type": "markdown",
   "metadata": {},
   "source": [
    "# 最大交换\n",
    "\n",
    "**题目来源：力扣（LeetCode）**\n",
    "\n",
    "**链接：https://leetcode.cn/problems/maximum-swap/**\n",
    "\n",
    "## 一、题目\n",
    "\n",
    "给定一个非负整数，你至多可以交换一次数字中的任意两位。返回你能得到的最大值。\n",
    "\n",
    "### 提示：\n",
    "\n",
    "- 给定数字的范围是 [0, 10^8]\n",
    "\n",
    "## 二、示例\n",
    "\n",
    "### 示例 1：\n",
    "\n",
    "输入: 2736\n",
    "\n",
    "输出: 7236\n",
    "\n",
    "解释: 交换数字2和数字7。\n",
    "\n",
    "### 示例 2 :\n",
    "\n",
    "输入: 9973\n",
    "\n",
    "输出: 9973\n",
    "\n",
    "解释: 不需要交换。\n",
    "\n",
    "## 三、解题思路\n",
    "\n",
    "### 枚举最大结果"
   ]
  },
  {
   "cell_type": "code",
   "execution_count": 1,
   "metadata": {},
   "outputs": [],
   "source": [
    "class Solution:\n",
    "    def maximumSwap(self, num: int) -> int:\n",
    "        ret = num\n",
    "        s = list(str(num))\n",
    "        for i in range(len(s)):\n",
    "            for j in range(i):\n",
    "                s[i], s[j] = s[j], s[i]\n",
    "                ret = max(ret, int(''.join(s)))\n",
    "                s[i], s[j] = s[j], s[i]\n",
    "        return ret"
   ]
  },
  {
   "cell_type": "code",
   "execution_count": 2,
   "metadata": {},
   "outputs": [
    {
     "data": {
      "text/plain": [
       "7236"
      ]
     },
     "execution_count": 2,
     "metadata": {},
     "output_type": "execute_result"
    }
   ],
   "source": [
    "s = Solution()\n",
    "s.maximumSwap(2736)"
   ]
  },
  {
   "cell_type": "code",
   "execution_count": 3,
   "metadata": {},
   "outputs": [
    {
     "data": {
      "text/plain": [
       "9973"
      ]
     },
     "execution_count": 3,
     "metadata": {},
     "output_type": "execute_result"
    }
   ],
   "source": [
    "s.maximumSwap(9973)"
   ]
  },
  {
   "cell_type": "code",
   "execution_count": null,
   "metadata": {},
   "outputs": [],
   "source": []
  }
 ],
 "metadata": {
  "kernelspec": {
   "display_name": "Python 3.10.4 64-bit",
   "language": "python",
   "name": "python3"
  },
  "language_info": {
   "codemirror_mode": {
    "name": "ipython",
    "version": 3
   },
   "file_extension": ".py",
   "mimetype": "text/x-python",
   "name": "python",
   "nbconvert_exporter": "python",
   "pygments_lexer": "ipython3",
   "version": "3.10.4"
  },
  "orig_nbformat": 4,
  "vscode": {
   "interpreter": {
    "hash": "4f946df053fbf2b937619d3c5458e7af74262f9a954d8797ba0b27400bcafe06"
   }
  }
 },
 "nbformat": 4,
 "nbformat_minor": 2
}
