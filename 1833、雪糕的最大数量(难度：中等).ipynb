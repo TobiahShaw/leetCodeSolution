{
 "cells": [
  {
   "cell_type": "markdown",
   "metadata": {},
   "source": [
    "# 雪糕的最大数量\n",
    "\n",
    "**题目来源：力扣（LeetCode）**\n",
    "\n",
    "**链接：https://leetcode-cn.com/problems/maximum-ice-cream-bars/**\n",
    "\n",
    "## 一、题目\n",
    "\n",
    "夏日炎炎，小男孩 Tony 想买一些雪糕消消暑。\n",
    "\n",
    "商店中新到 n 支雪糕，用长度为 n 的数组 costs 表示雪糕的定价，其中 costs[i] 表示第 i 支雪糕的现金价格。Tony 一共有 coins 现金可以用于消费，他想要买尽可能多的雪糕。\n",
    "\n",
    "给你价格数组 costs 和现金量 coins ，请你计算并返回 Tony 用 coins 现金能够买到的雪糕的 最大数量 。\n",
    "\n",
    "注意：Tony 可以按任意顺序购买雪糕。\n",
    "\n",
    "### 提示：\n",
    "\n",
    "- costs.length == n\n",
    "- 1 <= n <= 10^5\n",
    "- 1 <= costs[i] <= 10^5\n",
    "- 1 <= coins <= 10^8\n",
    "\n",
    "## 二、示例\n",
    "\n",
    "### 示例 1：\n",
    "\n",
    "输入：costs = [1,3,2,4,1], coins = 7\n",
    "\n",
    "输出：4\n",
    "\n",
    "解释：Tony 可以买下标为 0、1、2、4 的雪糕，总价为 1 + 3 + 2 + 1 = 7\n",
    "\n",
    "### 示例 2：\n",
    "\n",
    "输入：costs = [10,6,8,7,7,8], coins = 5\n",
    "\n",
    "输出：0\n",
    "\n",
    "解释：Tony 没有足够的钱买任何一支雪糕。\n",
    "\n",
    "### 示例 3：\n",
    "\n",
    "输入：costs = [1,6,3,1,2,5], coins = 20\n",
    "\n",
    "输出：6\n",
    "\n",
    "解释：Tony 可以买下所有的雪糕，总价为 1 + 6 + 3 + 1 + 2 + 5 = 18 。\n",
    "\n",
    "## 三、解题思路\n",
    "\n",
    "### 一、排序 + 贪心"
   ]
  },
  {
   "cell_type": "code",
   "execution_count": 1,
   "metadata": {},
   "outputs": [],
   "source": [
    "def maxIceCream(costs, coins: int) -> int:\n",
    "    costs.sort()\n",
    "    ret = 0\n",
    "    for cost in costs:\n",
    "        if cost > coins:\n",
    "            break\n",
    "        ret+=1\n",
    "        coins -= cost\n",
    "    return ret"
   ]
  },
  {
   "cell_type": "code",
   "execution_count": 2,
   "metadata": {},
   "outputs": [
    {
     "data": {
      "text/plain": [
       "4"
      ]
     },
     "execution_count": 2,
     "metadata": {},
     "output_type": "execute_result"
    }
   ],
   "source": [
    "maxIceCream(costs = [1,3,2,4,1], coins = 7)"
   ]
  },
  {
   "cell_type": "code",
   "execution_count": 3,
   "metadata": {},
   "outputs": [
    {
     "data": {
      "text/plain": [
       "0"
      ]
     },
     "execution_count": 3,
     "metadata": {},
     "output_type": "execute_result"
    }
   ],
   "source": [
    "maxIceCream(costs = [10,6,8,7,7,8], coins = 5)"
   ]
  },
  {
   "cell_type": "code",
   "execution_count": 4,
   "metadata": {},
   "outputs": [
    {
     "data": {
      "text/plain": [
       "6"
      ]
     },
     "execution_count": 4,
     "metadata": {},
     "output_type": "execute_result"
    }
   ],
   "source": [
    "maxIceCream(costs = [1,6,3,1,2,5], coins = 20)"
   ]
  },
  {
   "cell_type": "markdown",
   "metadata": {},
   "source": [
    "### 二、计数排序 + 贪心"
   ]
  },
  {
   "cell_type": "code",
   "execution_count": 5,
   "metadata": {},
   "outputs": [],
   "source": [
    "def maxIceCream(costs, coins: int) -> int:\n",
    "    freq = [0] * 100001\n",
    "    for cost in costs:\n",
    "        freq[cost] += 1\n",
    "    ret = 0\n",
    "    for i in range(1, 100001):\n",
    "        if coins >= i:\n",
    "            cur = min(freq[i], coins // i)\n",
    "            ret += cur\n",
    "            coins -= (cur * i)\n",
    "        else:\n",
    "            break\n",
    "    return ret"
   ]
  },
  {
   "cell_type": "code",
   "execution_count": 6,
   "metadata": {},
   "outputs": [
    {
     "data": {
      "text/plain": [
       "4"
      ]
     },
     "execution_count": 6,
     "metadata": {},
     "output_type": "execute_result"
    }
   ],
   "source": [
    "maxIceCream(costs = [1,3,2,4,1], coins = 7)"
   ]
  },
  {
   "cell_type": "code",
   "execution_count": 7,
   "metadata": {},
   "outputs": [
    {
     "data": {
      "text/plain": [
       "0"
      ]
     },
     "execution_count": 7,
     "metadata": {},
     "output_type": "execute_result"
    }
   ],
   "source": [
    "maxIceCream(costs = [10,6,8,7,7,8], coins = 5)"
   ]
  },
  {
   "cell_type": "code",
   "execution_count": 8,
   "metadata": {},
   "outputs": [
    {
     "data": {
      "text/plain": [
       "6"
      ]
     },
     "execution_count": 8,
     "metadata": {},
     "output_type": "execute_result"
    }
   ],
   "source": [
    "maxIceCream(costs = [1,6,3,1,2,5], coins = 20)"
   ]
  },
  {
   "cell_type": "code",
   "execution_count": null,
   "metadata": {},
   "outputs": [],
   "source": []
  }
 ],
 "metadata": {
  "kernelspec": {
   "display_name": "Python 3",
   "language": "python",
   "name": "python3"
  },
  "language_info": {
   "codemirror_mode": {
    "name": "ipython",
    "version": 3
   },
   "file_extension": ".py",
   "mimetype": "text/x-python",
   "name": "python",
   "nbconvert_exporter": "python",
   "pygments_lexer": "ipython3",
   "version": "3.6.5"
  }
 },
 "nbformat": 4,
 "nbformat_minor": 2
}
