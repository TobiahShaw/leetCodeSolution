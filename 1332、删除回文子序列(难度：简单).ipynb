{
 "cells": [
  {
   "cell_type": "markdown",
   "metadata": {},
   "source": [
    "# 删除回文子序列\n",
    "\n",
    "**题目来源：力扣（LeetCode）**\n",
    "\n",
    "**链接：https://leetcode-cn.com/problems/remove-palindromic-subsequences/**\n",
    "\n",
    "## 一、题目\n",
    "\n",
    "给你一个字符串 s，它仅由字母 'a' 和 'b' 组成。每一次删除操作都可以从 s 中删除一个回文 子序列。\n",
    "\n",
    "返回删除给定字符串中所有字符（字符串为空）的最小删除次数。\n",
    "\n",
    "「子序列」定义：如果一个字符串可以通过删除原字符串某些字符而不改变原字符顺序得到，那么这个字符串就是原字符串的一个子序列。\n",
    "\n",
    "「回文」定义：如果一个字符串向后和向前读是一致的，那么这个字符串就是一个回文。\n",
    "\n",
    "### 提示：\n",
    "\n",
    "- 1 <= s.length <= 1000\n",
    "- s 仅包含字母 'a'  和 'b'\n",
    "\n",
    "## 二、示例\n",
    "\n",
    "### 示例 1：\n",
    "\n",
    "输入：s = \"ababa\"\n",
    "\n",
    "输出：1\n",
    "\n",
    "解释：字符串本身就是回文序列，只需要删除一次。\n",
    "\n",
    "### 示例 2：\n",
    "\n",
    "输入：s = \"abb\"\n",
    "\n",
    "输出：2\n",
    "\n",
    "解释：\"abb\" -> \"bb\" -> \"\". \n",
    "\n",
    "先删除回文子序列 \"a\"，然后再删除 \"bb\"。\n",
    "\n",
    "### 示例 3：\n",
    "\n",
    "输入：s = \"baabb\"\n",
    "\n",
    "输出：2\n",
    "\n",
    "解释：\"baabb\" -> \"b\" -> \"\". \n",
    "\n",
    "先删除回文子序列 \"baab\"，然后再删除 \"b\"。\n",
    "\n",
    "## 三、解题思路\n",
    "\n",
    "### 直接判断\n",
    "\n",
    "因为字符串只包含两种字符，则最多有两个回文子序列组成（全a或全b），如果字符串本身就是回文串则一次即可删除成功"
   ]
  },
  {
   "cell_type": "code",
   "execution_count": 1,
   "metadata": {},
   "outputs": [],
   "source": [
    "def removePalindromeSub(s: str) -> int:\n",
    "    return 1 if s == s[::-1] else 2"
   ]
  },
  {
   "cell_type": "code",
   "execution_count": 2,
   "metadata": {},
   "outputs": [
    {
     "data": {
      "text/plain": [
       "1"
      ]
     },
     "execution_count": 2,
     "metadata": {},
     "output_type": "execute_result"
    }
   ],
   "source": [
    "removePalindromeSub(\"ababa\")"
   ]
  },
  {
   "cell_type": "code",
   "execution_count": 3,
   "metadata": {},
   "outputs": [
    {
     "data": {
      "text/plain": [
       "2"
      ]
     },
     "execution_count": 3,
     "metadata": {},
     "output_type": "execute_result"
    }
   ],
   "source": [
    "removePalindromeSub(\"abb\")"
   ]
  },
  {
   "cell_type": "code",
   "execution_count": 4,
   "metadata": {},
   "outputs": [
    {
     "data": {
      "text/plain": [
       "2"
      ]
     },
     "execution_count": 4,
     "metadata": {},
     "output_type": "execute_result"
    }
   ],
   "source": [
    "removePalindromeSub(\"baabb\")"
   ]
  },
  {
   "cell_type": "code",
   "execution_count": null,
   "metadata": {},
   "outputs": [],
   "source": []
  }
 ],
 "metadata": {
  "kernelspec": {
   "display_name": "Python 3",
   "language": "python",
   "name": "python3"
  },
  "language_info": {
   "codemirror_mode": {
    "name": "ipython",
    "version": 3
   },
   "file_extension": ".py",
   "mimetype": "text/x-python",
   "name": "python",
   "nbconvert_exporter": "python",
   "pygments_lexer": "ipython3",
   "version": "3.6.5"
  }
 },
 "nbformat": 4,
 "nbformat_minor": 2
}
