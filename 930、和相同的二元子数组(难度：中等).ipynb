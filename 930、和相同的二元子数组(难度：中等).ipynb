{
 "cells": [
  {
   "cell_type": "markdown",
   "metadata": {},
   "source": [
    "# 和相同的二元子数组\n",
    "\n",
    "**题目来源：力扣（LeetCode）**\n",
    "\n",
    "**链接：https://leetcode-cn.com/problems/binary-subarrays-with-sum/**\n",
    "\n",
    "## 一、题目\n",
    "\n",
    "给你一个二元数组 nums ，和一个整数 goal ，请你统计并返回有多少个和为 goal 的 非空 子数组。\n",
    "\n",
    "子数组 是数组的一段连续部分。\n",
    "\n",
    "### 提示：\n",
    "\n",
    "- 1 <= nums.length <= 3 * 10^4\n",
    "- nums[i] 不是 0 就是 1\n",
    "- 0 <= goal <= nums.length\n",
    "\n",
    "## 二、示例\n",
    "\n",
    "### 示例 1：\n",
    "\n",
    "输入：nums = [1,0,1,0,1], goal = 2\n",
    "\n",
    "输出：4\n",
    "\n",
    "### 示例 2：\n",
    "\n",
    "输入：nums = [0,0,0,0,0], goal = 0\n",
    "\n",
    "输出：15\n",
    "\n",
    "## 三、解题思路\n",
    "\n",
    "### 前缀和 + hash表"
   ]
  },
  {
   "cell_type": "code",
   "execution_count": 1,
   "metadata": {},
   "outputs": [],
   "source": [
    "def numSubarraysWithSum(A, S: int) -> int:\n",
    "    dic = {}\n",
    "    sum_ = 0\n",
    "    ret = 0\n",
    "    for num in A:\n",
    "        dic[sum_] = dic.get(sum_, 0) + 1\n",
    "        sum_ += num\n",
    "        ret += dic.get(sum_ - S, 0)\n",
    "    return ret "
   ]
  },
  {
   "cell_type": "code",
   "execution_count": 2,
   "metadata": {},
   "outputs": [
    {
     "data": {
      "text/plain": [
       "4"
      ]
     },
     "execution_count": 2,
     "metadata": {},
     "output_type": "execute_result"
    }
   ],
   "source": [
    "numSubarraysWithSum([1,0,1,0,1], 2)"
   ]
  },
  {
   "cell_type": "code",
   "execution_count": 3,
   "metadata": {},
   "outputs": [
    {
     "data": {
      "text/plain": [
       "15"
      ]
     },
     "execution_count": 3,
     "metadata": {},
     "output_type": "execute_result"
    }
   ],
   "source": [
    "numSubarraysWithSum([0,0,0,0,0], 0)"
   ]
  },
  {
   "cell_type": "code",
   "execution_count": null,
   "metadata": {},
   "outputs": [],
   "source": []
  }
 ],
 "metadata": {
  "kernelspec": {
   "display_name": "Python 3",
   "language": "python",
   "name": "python3"
  },
  "language_info": {
   "codemirror_mode": {
    "name": "ipython",
    "version": 3
   },
   "file_extension": ".py",
   "mimetype": "text/x-python",
   "name": "python",
   "nbconvert_exporter": "python",
   "pygments_lexer": "ipython3",
   "version": "3.6.5"
  }
 },
 "nbformat": 4,
 "nbformat_minor": 2
}
