{
 "cells": [
  {
   "cell_type": "markdown",
   "metadata": {
    "collapsed": true
   },
   "source": [
    "# “气球”的最大数量\n",
    "\n",
    "**题目来源：力扣（LeetCode）**\n",
    "\n",
    "**链接：https://leetcode-cn.com/problems/maximum-number-of-balloons/**\n",
    "\n",
    "## 一、题目\n",
    "\n",
    "给你一个字符串 text，你需要使用 text 中的字母来拼凑尽可能多的单词 \"balloon\"（气球）。\n",
    "\n",
    "字符串 text 中的每个字母最多只能被使用一次。请你返回最多可以拼凑出多少个单词 \"balloon\"。\n",
    "\n",
    "### 提示：\n",
    "\n",
    "- 1 <= text.length <= 10^4\n",
    "- text 全部由小写英文字母组成\n",
    "\n",
    "## 二、示例\n",
    "\n",
    "### 示例 1：\n",
    "\n",
    "输入：text = \"nlaebolko\"\n",
    "\n",
    "输出：1\n",
    "\n",
    "### 示例 2：\n",
    "\n",
    "输入：text = \"loonbalxballpoon\"\n",
    "\n",
    "输出：2\n",
    "\n",
    "### 示例 3：\n",
    "\n",
    "输入：text = \"leetcode\"\n",
    "\n",
    "输出：0\n",
    "\n",
    "## 三、解题思路\n",
    "\n",
    "### 计数\n",
    "\n",
    "只需要记下气球中每个字母的出现次数即可。"
   ]
  },
  {
   "cell_type": "code",
   "execution_count": 1,
   "metadata": {},
   "outputs": [],
   "source": [
    "def maxNumberOfBalloons(text: str) -> int:\n",
    "    balloon = [0, 0, 0, 0, 0]\n",
    "    for c in text:\n",
    "        if c == 'b':\n",
    "            balloon[0] += 1\n",
    "        elif c == 'a':\n",
    "            balloon[1] += 1\n",
    "        elif c == 'l':\n",
    "            balloon[2] += 1\n",
    "        elif c == 'o':\n",
    "            balloon[3] += 1\n",
    "        elif c == 'n':\n",
    "            balloon[4] += 1\n",
    "    return min(balloon[0], balloon[1], balloon[2] // 2, balloon[3] // 2, balloon[4])"
   ]
  },
  {
   "cell_type": "code",
   "execution_count": 2,
   "metadata": {},
   "outputs": [
    {
     "data": {
      "text/plain": [
       "1"
      ]
     },
     "execution_count": 2,
     "metadata": {},
     "output_type": "execute_result"
    }
   ],
   "source": [
    "maxNumberOfBalloons(\"nlaebolko\")"
   ]
  },
  {
   "cell_type": "code",
   "execution_count": 3,
   "metadata": {},
   "outputs": [
    {
     "data": {
      "text/plain": [
       "2"
      ]
     },
     "execution_count": 3,
     "metadata": {},
     "output_type": "execute_result"
    }
   ],
   "source": [
    "maxNumberOfBalloons(\"loonbalxballpoon\")"
   ]
  },
  {
   "cell_type": "code",
   "execution_count": 4,
   "metadata": {},
   "outputs": [
    {
     "data": {
      "text/plain": [
       "0"
      ]
     },
     "execution_count": 4,
     "metadata": {},
     "output_type": "execute_result"
    }
   ],
   "source": [
    "maxNumberOfBalloons(\"leetcode\")"
   ]
  },
  {
   "cell_type": "code",
   "execution_count": null,
   "metadata": {},
   "outputs": [],
   "source": []
  }
 ],
 "metadata": {
  "kernelspec": {
   "display_name": "Python 3",
   "language": "python",
   "name": "python3"
  },
  "language_info": {
   "codemirror_mode": {
    "name": "ipython",
    "version": 3
   },
   "file_extension": ".py",
   "mimetype": "text/x-python",
   "name": "python",
   "nbconvert_exporter": "python",
   "pygments_lexer": "ipython3",
   "version": "3.6.5"
  }
 },
 "nbformat": 4,
 "nbformat_minor": 2
}
