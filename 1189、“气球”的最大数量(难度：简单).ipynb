{
  "cells": [
    {
      "metadata": {
        "collapsed": true
      },
      "cell_type": "markdown",
      "source": "# “气球”的最大数量\n\n**题目来源：力扣（LeetCode）**\n\n**链接：https://leetcode-cn.com/problems/maximum-number-of-balloons/**\n\n## 一、题目\n\n给你一个字符串 text，你需要使用 text 中的字母来拼凑尽可能多的单词 \"balloon\"（气球）。\n\n字符串 text 中的每个字母最多只能被使用一次。请你返回最多可以拼凑出多少个单词 \"balloon\"。\n\n## 二、示例\n\n### 示例 1：\n\n输入：text = \"nlaebolko\"\n\n输出：1\n\n### 示例 2：\n\n输入：text = \"loonbalxballpoon\"\n\n输出：2\n\n### 示例 3：\n\n输入：text = \"leetcode\"\n\n输出：0\n\n## 三、解题思路\n\n### 计数\n\n只需要记下气球中每个字母的出现次数即可。"
    },
    {
      "metadata": {
        "trusted": true
      },
      "cell_type": "code",
      "source": "def maxNumberOfBalloons(text: str) -> int:\n    balloon = [0, 0, 0, 0, 0]\n    for c in text:\n        if c == 'b':\n            balloon[0] += 1\n        elif c == 'a':\n            balloon[1] += 1\n        elif c == 'l':\n            balloon[2] += 1\n        elif c == 'o':\n            balloon[3] += 1\n        elif c == 'n':\n            balloon[4] += 1\n    return min(balloon[0], balloon[1], balloon[2] // 2, balloon[3] // 2, balloon[4])",
      "execution_count": 1,
      "outputs": []
    },
    {
      "metadata": {
        "trusted": true
      },
      "cell_type": "code",
      "source": "maxNumberOfBalloons(\"nlaebolko\")",
      "execution_count": 2,
      "outputs": [
        {
          "output_type": "execute_result",
          "execution_count": 2,
          "data": {
            "text/plain": "1"
          },
          "metadata": {}
        }
      ]
    },
    {
      "metadata": {
        "trusted": true
      },
      "cell_type": "code",
      "source": "maxNumberOfBalloons(\"loonbalxballpoon\")",
      "execution_count": 3,
      "outputs": [
        {
          "output_type": "execute_result",
          "execution_count": 3,
          "data": {
            "text/plain": "2"
          },
          "metadata": {}
        }
      ]
    },
    {
      "metadata": {
        "trusted": true
      },
      "cell_type": "code",
      "source": "maxNumberOfBalloons(\"leetcode\")",
      "execution_count": 4,
      "outputs": [
        {
          "output_type": "execute_result",
          "execution_count": 4,
          "data": {
            "text/plain": "0"
          },
          "metadata": {}
        }
      ]
    },
    {
      "metadata": {
        "trusted": true
      },
      "cell_type": "code",
      "source": "",
      "execution_count": null,
      "outputs": []
    }
  ],
  "metadata": {
    "kernelspec": {
      "name": "python36",
      "display_name": "Python 3.6",
      "language": "python"
    },
    "language_info": {
      "mimetype": "text/x-python",
      "nbconvert_exporter": "python",
      "name": "python",
      "pygments_lexer": "ipython3",
      "version": "3.6.6",
      "file_extension": ".py",
      "codemirror_mode": {
        "version": 3,
        "name": "ipython"
      }
    }
  },
  "nbformat": 4,
  "nbformat_minor": 2
}