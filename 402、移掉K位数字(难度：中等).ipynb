{
  "cells": [
    {
      "metadata": {
        "collapsed": true
      },
      "cell_type": "markdown",
      "source": "# 移掉K位数字\n\n**题目来源：力扣（LeetCode）**\n\n**链接：https://leetcode-cn.com/problems/remove-k-digits/**\n\n## 一、题目\n\n给定一个以字符串表示的非负整数 num，移除这个数中的 k 位数字，使得剩下的数字最小。\n\n### 注意:\n\nnum 的长度小于 10002 且 ≥ k。\nnum 不会包含任何前导零。\n\n\n## 二、示例\n\n### 示例 1 :\n\n输入: num = \"1432219\", k = 3\n\n输出: \"1219\"\n\n解释: 移除掉三个数字 4, 3, 和 2 形成一个新的最小的数字 1219。\n\n### 示例 2 :\n\n输入: num = \"10200\", k = 1\n\n输出: \"200\"\n\n解释: 移掉首位的 1 剩下的数字为 200. 注意输出不能有任何前导零\n\n### 示例 3 :\n\n输入: num = \"10\", k = 2\n\n输出: \"0\"\n\n解释: 从原数字移除所有的数字，剩余为空就是0。\n\n## 三、解题思路\n\n### 贪心\n\n- 优先最高位最小\n- 优先此高位最小\n- 以此类推，直至去掉k个数字\n\n在本题中利用栈来处理，很多贪心问题用栈或者队列会比较方便\n\n- 用栈储存最终结果\n- 从高位到低位遍历num\n- 如果遍历数字大于栈顶元素将该数字压入栈\n- 如果小于栈顶元素则pop弹栈，直至栈空或不能删除数字（k==0）或栈顶小于当前元素为止"
    },
    {
      "metadata": {
        "trusted": true
      },
      "cell_type": "code",
      "source": "def removeKdigits(num: str, k: int) -> str:\n    stack = []\n    for c in num:\n        # 栈不为空，仍可删除，栈顶大于当前，即在一定条件下去掉栈里比当前元素的打元素\n        while stack and k > 0 and int(c) < int(stack[-1]):\n            stack.pop()\n            k -= 1\n        # 注意处理数字0的情况\n        if stack or c != \"0\" :\n            stack.append(c)\n    # 当循环结束 k 不等于 0 的情况\n    while stack and k > 0:\n        stack.pop()\n        k -= 1\n    return \"\".join(c for c in stack) if stack else \"0\"",
      "execution_count": 1,
      "outputs": []
    },
    {
      "metadata": {
        "trusted": true
      },
      "cell_type": "code",
      "source": "removeKdigits(num = \"1432219\", k = 3)",
      "execution_count": 2,
      "outputs": [
        {
          "output_type": "execute_result",
          "execution_count": 2,
          "data": {
            "text/plain": "'1219'"
          },
          "metadata": {}
        }
      ]
    },
    {
      "metadata": {
        "trusted": true
      },
      "cell_type": "code",
      "source": "removeKdigits(num = \"10200\", k = 1)",
      "execution_count": 3,
      "outputs": [
        {
          "output_type": "execute_result",
          "execution_count": 3,
          "data": {
            "text/plain": "'200'"
          },
          "metadata": {}
        }
      ]
    },
    {
      "metadata": {
        "trusted": true
      },
      "cell_type": "code",
      "source": "removeKdigits(num = \"10\", k = 2)",
      "execution_count": 4,
      "outputs": [
        {
          "output_type": "execute_result",
          "execution_count": 4,
          "data": {
            "text/plain": "'0'"
          },
          "metadata": {}
        }
      ]
    },
    {
      "metadata": {
        "trusted": true
      },
      "cell_type": "code",
      "source": "",
      "execution_count": null,
      "outputs": []
    }
  ],
  "metadata": {
    "kernelspec": {
      "name": "python36",
      "display_name": "Python 3.6",
      "language": "python"
    },
    "language_info": {
      "mimetype": "text/x-python",
      "nbconvert_exporter": "python",
      "name": "python",
      "pygments_lexer": "ipython3",
      "version": "3.6.6",
      "file_extension": ".py",
      "codemirror_mode": {
        "version": 3,
        "name": "ipython"
      }
    }
  },
  "nbformat": 4,
  "nbformat_minor": 2
}