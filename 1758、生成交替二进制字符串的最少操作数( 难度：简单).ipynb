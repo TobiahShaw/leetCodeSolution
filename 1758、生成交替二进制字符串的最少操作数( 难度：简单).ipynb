{
 "cells": [
  {
   "cell_type": "markdown",
   "id": "32251318",
   "metadata": {},
   "source": [
    "# 生成交替二进制字符串的最少操作数\n",
    "\n",
    "**题目来源：力扣（LeetCode）**\n",
    "\n",
    "**链接：https://leetcode.cn/problems/minimum-changes-to-make-alternating-binary-string/**\n",
    "\n",
    "## 一、题目\n",
    "\n",
    "给你一个仅由字符 '0' 和 '1' 组成的字符串 s 。一步操作中，你可以将任一 '0' 变成 '1' ，或者将 '1' 变成 '0' 。\n",
    "\n",
    "交替字符串 定义为：如果字符串中不存在相邻两个字符相等的情况，那么该字符串就是交替字符串。例如，字符串 \"010\" 是交替字符串，而字符串 \"0100\" 不是。\n",
    "\n",
    "返回使 s 变成 交替字符串 所需的 最少 操作数。\n",
    "\n",
    "### 提示：\n",
    "\n",
    "- 1 <= s.length <= 10^4\n",
    "- s[i] 是 '0' 或 '1'\n",
    "\n",
    "## 二、示例\n",
    "\n",
    "### 示例 1：\n",
    "\n",
    "输入：s = \"0100\"\n",
    "\n",
    "输出：1\n",
    "\n",
    "解释：如果将最后一个字符变为 '1' ，s 就变成 \"0101\" ，即符合交替字符串定义。\n",
    "\n",
    "### 示例 2：\n",
    "\n",
    "输入：s = \"10\"\n",
    "\n",
    "输出：0\n",
    "\n",
    "解释：s 已经是交替字符串。\n",
    "\n",
    "### 示例 3：\n",
    "\n",
    "输入：s = \"1111\"\n",
    "\n",
    "输出：2\n",
    "\n",
    "解释：需要 2 步操作得到 \"0101\" 或 \"1010\" 。\n",
    "\n",
    "## 三、解题思路\n",
    "\n",
    "### 模拟过程\n"
   ]
  },
  {
   "cell_type": "code",
   "execution_count": 1,
   "id": "f5ddde1e",
   "metadata": {},
   "outputs": [],
   "source": [
    "class Solution:\n",
    "    def minOperations(self, s: str) -> int:\n",
    "        m = 0\n",
    "        for i in range(len(s)):\n",
    "            if int(s[i]) != i % 2:\n",
    "                m += 1\n",
    "        return min(m, len(s) - m)"
   ]
  },
  {
   "cell_type": "code",
   "execution_count": 2,
   "id": "5bf835bb",
   "metadata": {},
   "outputs": [
    {
     "data": {
      "text/plain": [
       "1"
      ]
     },
     "execution_count": 2,
     "metadata": {},
     "output_type": "execute_result"
    }
   ],
   "source": [
    "s = Solution()\n",
    "s.minOperations(\"0100\")"
   ]
  },
  {
   "cell_type": "code",
   "execution_count": 3,
   "id": "ac635460",
   "metadata": {},
   "outputs": [
    {
     "data": {
      "text/plain": [
       "0"
      ]
     },
     "execution_count": 3,
     "metadata": {},
     "output_type": "execute_result"
    }
   ],
   "source": [
    "s.minOperations(\"10\")"
   ]
  },
  {
   "cell_type": "code",
   "execution_count": 4,
   "id": "3d4cc720",
   "metadata": {},
   "outputs": [
    {
     "data": {
      "text/plain": [
       "2"
      ]
     },
     "execution_count": 4,
     "metadata": {},
     "output_type": "execute_result"
    }
   ],
   "source": [
    "s.minOperations(\"1111\")"
   ]
  },
  {
   "cell_type": "code",
   "execution_count": null,
   "id": "4bf9bb81",
   "metadata": {},
   "outputs": [],
   "source": []
  }
 ],
 "metadata": {
  "kernelspec": {
   "display_name": "Python 3 (ipykernel)",
   "language": "python",
   "name": "python3"
  },
  "language_info": {
   "codemirror_mode": {
    "name": "ipython",
    "version": 3
   },
   "file_extension": ".py",
   "mimetype": "text/x-python",
   "name": "python",
   "nbconvert_exporter": "python",
   "pygments_lexer": "ipython3",
   "version": "3.9.10+"
  }
 },
 "nbformat": 4,
 "nbformat_minor": 5
}
