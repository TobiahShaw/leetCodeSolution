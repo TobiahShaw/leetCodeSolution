{
  "cells": [
    {
      "metadata": {
        "collapsed": true
      },
      "cell_type": "markdown",
      "source": "# 把数字翻译成字符串\n\n**题目来源：力扣（LeetCode）**\n\n**链接：https://leetcode-cn.com/problems/ba-shu-zi-fan-yi-cheng-zi-fu-chuan-lcof/**\n\n## 一、题目\n\n给定一个数字，我们按照如下规则把它翻译为字符串：0 翻译成 “a” ，1 翻译成 “b”，……，11 翻译成 “l”，……，25 翻译成 “z”。一个数字可能有多个翻译。请编程实现一个函数，用来计算一个数字有多少种不同的翻译方法。\n\n## 二、示例\n\n输入: 12258\n\n输出: 5\n\n解释: 12258有5种不同的翻译，分别是\"bccfi\", \"bwfi\", \"bczi\", \"mcfi\"和\"mzi\"\n\n## 三、解题思路\n\n### 回溯法"
    },
    {
      "metadata": {
        "trusted": true
      },
      "cell_type": "code",
      "source": "def translateNum(num):\n    num_str = str(num)\n    def generate(item, i, result):\n        if i >= len(num_str):\n            result.append(item[:])\n            return\n        c = num_str[i]\n        item.append(c)\n        generate(item, i + 1, result)\n        if c != '0' and i + 1 < len(num_str) and int(num_str[i:i+2]) < 26:\n            item.pop()\n            item.append(num_str[i:i+2])\n            generate(item, i + 2, result)\n    result = []\n    generate([], 0, result)\n    return len(result)",
      "execution_count": 1,
      "outputs": []
    },
    {
      "metadata": {
        "trusted": true
      },
      "cell_type": "code",
      "source": "translateNum(12258)",
      "execution_count": 2,
      "outputs": [
        {
          "output_type": "execute_result",
          "execution_count": 2,
          "data": {
            "text/plain": "5"
          },
          "metadata": {}
        }
      ]
    },
    {
      "metadata": {
        "trusted": true
      },
      "cell_type": "code",
      "source": "",
      "execution_count": null,
      "outputs": []
    }
  ],
  "metadata": {
    "kernelspec": {
      "name": "python36",
      "display_name": "Python 3.6",
      "language": "python"
    },
    "language_info": {
      "mimetype": "text/x-python",
      "nbconvert_exporter": "python",
      "name": "python",
      "pygments_lexer": "ipython3",
      "version": "3.6.6",
      "file_extension": ".py",
      "codemirror_mode": {
        "version": 3,
        "name": "ipython"
      }
    }
  },
  "nbformat": 4,
  "nbformat_minor": 2
}