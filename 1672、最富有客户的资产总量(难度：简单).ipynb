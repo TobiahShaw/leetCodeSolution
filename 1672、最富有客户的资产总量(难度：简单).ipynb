{
 "cells": [
  {
   "cell_type": "markdown",
   "metadata": {},
   "source": [
    "# 最富有客户的资产总量\n",
    "\n",
    "**题目来源：力扣（LeetCode）**\n",
    "\n",
    "**链接：https://leetcode-cn.com/problems/richest-customer-wealth/**\n",
    "\n",
    "## 一、题目\n",
    "\n",
    "给你一个 m x n 的整数网格 accounts ，其中 accounts[i][j] 是第 i 位客户在第 j 家银行托管的资产数量。返回最富有客户所拥有的资产总量 。\n",
    "\n",
    "客户的 资产总量 就是他们在各家银行托管的资产数量之和。最富有客户就是 资产总量 最大的客户。\n",
    "\n",
    "## 二、示例\n",
    "\n",
    "### 示例 1：\n",
    "\n",
    "输入：accounts = [[1,2,3],[3,2,1]]\n",
    "\n",
    "输出：6\n",
    "\n",
    "解释：\n",
    "\n",
    "第 1 位客户的资产总量 = 1 + 2 + 3 = 6\n",
    "\n",
    "第 2 位客户的资产总量 = 3 + 2 + 1 = 6\n",
    "\n",
    "两位客户都是最富有的，资产总量都是 6 ，所以返回 6 。\n",
    "\n",
    "### 示例 2：\n",
    "\n",
    "输入：accounts = [[1,5],[7,3],[3,5]]\n",
    "\n",
    "输出：10\n",
    "\n",
    "解释：\n",
    "\n",
    "第 1 位客户的资产总量 = 6\n",
    "\n",
    "第 2 位客户的资产总量 = 10 \n",
    "\n",
    "第 3 位客户的资产总量 = 8\n",
    "\n",
    "第 2 位客户是最富有的，资产总量是 10\n",
    "\n",
    "### 示例 3：\n",
    "\n",
    "输入：accounts = [[2,8,7],[7,1,3],[1,9,5]]\n",
    "\n",
    "输出：17\n",
    "\n",
    "## 三、解题思路\n",
    "\n",
    "### 循环"
   ]
  },
  {
   "cell_type": "code",
   "execution_count": 1,
   "metadata": {},
   "outputs": [],
   "source": [
    "def maximumWealth(accounts) -> int:\n",
    "    ret = 0\n",
    "    for user in accounts:\n",
    "        userMoney = 0\n",
    "        for bank in user:\n",
    "            userMoney += bank\n",
    "        if userMoney > ret:\n",
    "            ret = userMoney\n",
    "    return ret"
   ]
  },
  {
   "cell_type": "code",
   "execution_count": 2,
   "metadata": {},
   "outputs": [
    {
     "data": {
      "text/plain": [
       "6"
      ]
     },
     "execution_count": 2,
     "metadata": {},
     "output_type": "execute_result"
    }
   ],
   "source": [
    "maximumWealth([[1,2,3],[3,2,1]])"
   ]
  },
  {
   "cell_type": "code",
   "execution_count": 3,
   "metadata": {},
   "outputs": [
    {
     "data": {
      "text/plain": [
       "10"
      ]
     },
     "execution_count": 3,
     "metadata": {},
     "output_type": "execute_result"
    }
   ],
   "source": [
    "maximumWealth([[1,5],[7,3],[3,5]])"
   ]
  },
  {
   "cell_type": "code",
   "execution_count": 4,
   "metadata": {},
   "outputs": [
    {
     "data": {
      "text/plain": [
       "17"
      ]
     },
     "execution_count": 4,
     "metadata": {},
     "output_type": "execute_result"
    }
   ],
   "source": [
    "maximumWealth([[2,8,7],[7,1,3],[1,9,5]])"
   ]
  },
  {
   "cell_type": "code",
   "execution_count": null,
   "metadata": {},
   "outputs": [],
   "source": []
  }
 ],
 "metadata": {
  "kernelspec": {
   "display_name": "Python 3",
   "language": "python",
   "name": "python3"
  },
  "language_info": {
   "codemirror_mode": {
    "name": "ipython",
    "version": 3
   },
   "file_extension": ".py",
   "mimetype": "text/x-python",
   "name": "python",
   "nbconvert_exporter": "python",
   "pygments_lexer": "ipython3",
   "version": "3.6.5"
  }
 },
 "nbformat": 4,
 "nbformat_minor": 2
}
