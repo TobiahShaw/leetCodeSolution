{
 "cells": [
  {
   "cell_type": "markdown",
   "metadata": {},
   "source": [
    "# 删除无效的括号\n",
    "\n",
    "**题目来源：力扣（LeetCode）**\n",
    "\n",
    "**链接：https://leetcode-cn.com/problems/remove-invalid-parentheses/**\n",
    "\n",
    "## 一、题目\n",
    "\n",
    "给你一个由若干括号和字母组成的字符串 s ，删除最小数量的无效括号，使得输入的字符串有效。\n",
    "\n",
    "返回所有可能的结果。答案可以按 任意顺序 返回。\n",
    "\n",
    "### 提示：\n",
    "\n",
    "- 1 <= s.length <= 25\n",
    "- s 由小写英文字母以及括号 '(' 和 ')' 组成\n",
    "- s 中至多含 20 个括号\n",
    "\n",
    "## 二、示例\n",
    "\n",
    "### 示例 1：\n",
    "\n",
    "输入：s = \"()())()\"\n",
    "\n",
    "输出：[\"(())()\",\"()()()\"]\n",
    "\n",
    "### 示例 2：\n",
    "\n",
    "输入：s = \"(a)())()\"\n",
    "\n",
    "输出：[\"(a())()\",\"(a)()()\"]\n",
    "\n",
    "### 示例 3：\n",
    "\n",
    "输入：s = \")(\"\n",
    "\n",
    "输出：[\"\"]\n",
    "\n",
    "## 三、解题思路\n",
    "\n",
    "### 回溯 + 剪枝"
   ]
  },
  {
   "cell_type": "code",
   "execution_count": 1,
   "metadata": {},
   "outputs": [],
   "source": [
    "def removeInvalidParentheses(s: str):\n",
    "    ret = []\n",
    "    lremove, rremove = 0, 0\n",
    "    for c in s:\n",
    "        if c == '(':\n",
    "            lremove += 1\n",
    "        elif c == ')':\n",
    "            if lremove == 0:\n",
    "                rremove += 1\n",
    "            else:\n",
    "                lremove -= 1\n",
    "    def isValid(s):\n",
    "        count = 0\n",
    "        for c in s:\n",
    "            if c == '(':\n",
    "                count += 1\n",
    "            elif c == ')':\n",
    "                count -= 1\n",
    "                if count < 0:\n",
    "                    return False\n",
    "        return count == 0\n",
    "    def helper(s, start, lcount, rcount, lremove, rremove):\n",
    "        if lremove == 0 and rremove == 0:\n",
    "            if isValid(s):\n",
    "                ret.append(s)\n",
    "            return\n",
    "        for  i in range(start, len(s)):\n",
    "            if i > start and s[i] == s[i - 1]:\n",
    "                continue\n",
    "            # 如果剩余的字符无法满足去掉的数量要求，直接返回\n",
    "            if lremove + rremove > len(s) - i:\n",
    "                break\n",
    "            # 尝试去掉一个左括号\n",
    "            if lremove > 0 and s[i] == '(':\n",
    "                helper(s[:i] + s[i + 1:], i, lcount, rcount, lremove - 1, rremove);\n",
    "            # 尝试去掉一个右括号\n",
    "            if rremove > 0 and s[i] == ')':\n",
    "                helper(s[:i] + s[i + 1:], i, lcount, rcount, lremove, rremove - 1);\n",
    "            # 统计当前字符串中已有的括号数量\n",
    "            if s[i] == ')':\n",
    "                lcount += 1\n",
    "            elif s[i] == ')':\n",
    "                rcount += 1\n",
    "            # 当前右括号的数量大于左括号的数量则为非法,直接返回.\n",
    "            if rcount > lcount:\n",
    "                break\n",
    "    helper(s, 0, 0, 0, lremove, rremove)\n",
    "    return ret"
   ]
  },
  {
   "cell_type": "code",
   "execution_count": 2,
   "metadata": {},
   "outputs": [
    {
     "data": {
      "text/plain": [
       "['(())()', '()()()']"
      ]
     },
     "execution_count": 2,
     "metadata": {},
     "output_type": "execute_result"
    }
   ],
   "source": [
    "removeInvalidParentheses(\"()())()\")"
   ]
  },
  {
   "cell_type": "code",
   "execution_count": 3,
   "metadata": {},
   "outputs": [
    {
     "data": {
      "text/plain": [
       "['(a())()', '(a)()()']"
      ]
     },
     "execution_count": 3,
     "metadata": {},
     "output_type": "execute_result"
    }
   ],
   "source": [
    "removeInvalidParentheses(\"(a)())()\")"
   ]
  },
  {
   "cell_type": "code",
   "execution_count": 4,
   "metadata": {},
   "outputs": [
    {
     "data": {
      "text/plain": [
       "['']"
      ]
     },
     "execution_count": 4,
     "metadata": {},
     "output_type": "execute_result"
    }
   ],
   "source": [
    "removeInvalidParentheses(\")(\")"
   ]
  },
  {
   "cell_type": "code",
   "execution_count": null,
   "metadata": {},
   "outputs": [],
   "source": []
  }
 ],
 "metadata": {
  "kernelspec": {
   "display_name": "Python 3",
   "language": "python",
   "name": "python3"
  },
  "language_info": {
   "codemirror_mode": {
    "name": "ipython",
    "version": 3
   },
   "file_extension": ".py",
   "mimetype": "text/x-python",
   "name": "python",
   "nbconvert_exporter": "python",
   "pygments_lexer": "ipython3",
   "version": "3.6.5"
  }
 },
 "nbformat": 4,
 "nbformat_minor": 2
}
