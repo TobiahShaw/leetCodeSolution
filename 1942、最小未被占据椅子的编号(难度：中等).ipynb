{
 "cells": [
  {
   "cell_type": "markdown",
   "metadata": {},
   "source": [
    "# 最小未被占据椅子的编号\n",
    "\n",
    "**题目来源：力扣（LeetCode）**\n",
    "\n",
    "**链接：https://leetcode-cn.com/problems/the-number-of-the-smallest-unoccupied-chair/**\n",
    "\n",
    "## 一、题目\n",
    "\n",
    "有 n 个朋友在举办一个派对，这些朋友从 0 到 n - 1 编号。派对里有 无数 张椅子，编号为 0 到 infinity 。当一个朋友到达派对时，他会占据 编号最小 且未被占据的椅子。\n",
    "\n",
    "- 比方说，当一个朋友到达时，如果椅子 0 ，1 和 5 被占据了，那么他会占据 2 号椅子。\n",
    "当一个朋友离开派对时，他的椅子会立刻变成未占据状态。如果同一时刻有另一个朋友到达，可以立即占据这张椅子。\n",
    "\n",
    "给你一个下标从 0 开始的二维整数数组 times ，其中 times[i] = [arrivali, leavingi] 表示第 i 个朋友到达和离开的时刻，同时给你一个整数 targetFriend 。所有到达时间 互不相同 。\n",
    "\n",
    "请你返回编号为 targetFriend 的朋友占据的 椅子编号。\n",
    "\n",
    "### 提示：\n",
    "\n",
    "- n == times.length\n",
    "- 2 <= n <= 104\n",
    "- times[i].length == 2\n",
    "- 1 <= arrivali < leavingi <= 105\n",
    "- 0 <= targetFriend <= n - 1\n",
    "- 每个 arrivali 时刻 互不相同 。\n",
    "\n",
    "## 二、示例\n",
    "\n",
    "### 示例 1：\n",
    "\n",
    "输入：times = [[1,4],[2,3],[4,6]], targetFriend = 1\n",
    "\n",
    "输出：1\n",
    "\n",
    "解释：\n",
    "\n",
    "- 朋友 0 时刻 1 到达，占据椅子 0 。\n",
    "- 朋友 1 时刻 2 到达，占据椅子 1 。\n",
    "- 朋友 1 时刻 3 离开，椅子 1 变成未占据。\n",
    "- 朋友 0 时刻 4 离开，椅子 0 变成未占据。\n",
    "- 朋友 2 时刻 4 到达，占据椅子 0 。\n",
    "\n",
    "朋友 1 占据椅子 1 ，所以返回 1 。\n",
    "\n",
    "### 示例 2：\n",
    "\n",
    "输入：times = [[3,10],[1,5],[2,6]], targetFriend = 0\n",
    "\n",
    "输出：2\n",
    "\n",
    "解释：\n",
    "\n",
    "- 朋友 1 时刻 1 到达，占据椅子 0 。\n",
    "- 朋友 2 时刻 2 到达，占据椅子 1 。\n",
    "- 朋友 0 时刻 3 到达，占据椅子 2 。\n",
    "- 朋友 1 时刻 5 离开，椅子 0 变成未占据。\n",
    "- 朋友 2 时刻 6 离开，椅子 1 变成未占据。\n",
    "- 朋友 0 时刻 10 离开，椅子 2 变成未占据。\n",
    "\n",
    "朋友 0 占据椅子 2 ，所以返回 2 。\n",
    "\n",
    "## 三、解题思路\n",
    "\n",
    "### 模拟过程"
   ]
  },
  {
   "cell_type": "code",
   "execution_count": 1,
   "metadata": {},
   "outputs": [],
   "source": [
    "def smallestChair(times, targetFriend: int) -> int:\n",
    "    tragetFriendTime = times[targetFriend]\n",
    "    sortedTime = sorted(times, key=lambda x: x[0])\n",
    "    ret = 0\n",
    "    pos = []\n",
    "    for time in sortedTime:\n",
    "        if time[0] > tragetFriendTime[0]:\n",
    "            break\n",
    "        inserted = False\n",
    "        for i in range(len(pos)):\n",
    "            if pos[i] <= time[0]:\n",
    "                pos[i] = time[1]\n",
    "                inserted = True\n",
    "                if time[0] == tragetFriendTime[0]:\n",
    "                    ret = i\n",
    "                break\n",
    "        if not inserted:\n",
    "            pos.append(time[1])\n",
    "            if time[0] == tragetFriendTime[0]:\n",
    "                ret = len(pos) - 1\n",
    "    return ret"
   ]
  },
  {
   "cell_type": "code",
   "execution_count": 2,
   "metadata": {},
   "outputs": [
    {
     "data": {
      "text/plain": [
       "1"
      ]
     },
     "execution_count": 2,
     "metadata": {},
     "output_type": "execute_result"
    }
   ],
   "source": [
    "smallestChair(times = [[1,4],[2,3],[4,6]], targetFriend = 1)"
   ]
  },
  {
   "cell_type": "code",
   "execution_count": 3,
   "metadata": {},
   "outputs": [
    {
     "data": {
      "text/plain": [
       "2"
      ]
     },
     "execution_count": 3,
     "metadata": {},
     "output_type": "execute_result"
    }
   ],
   "source": [
    "smallestChair(times = [[3,10],[1,5],[2,6]], targetFriend = 0)"
   ]
  },
  {
   "cell_type": "code",
   "execution_count": null,
   "metadata": {},
   "outputs": [],
   "source": []
  }
 ],
 "metadata": {
  "kernelspec": {
   "display_name": "Python 3",
   "language": "python",
   "name": "python3"
  },
  "language_info": {
   "codemirror_mode": {
    "name": "ipython",
    "version": 3
   },
   "file_extension": ".py",
   "mimetype": "text/x-python",
   "name": "python",
   "nbconvert_exporter": "python",
   "pygments_lexer": "ipython3",
   "version": "3.6.5"
  }
 },
 "nbformat": 4,
 "nbformat_minor": 2
}
