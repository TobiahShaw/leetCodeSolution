{
 "cells": [
  {
   "cell_type": "markdown",
   "metadata": {},
   "source": [
    "# 停在原地的方案数\n",
    "\n",
    "**题目来源：力扣（LeetCode）**\n",
    "\n",
    "**链接：https://leetcode-cn.com/problems/number-of-ways-to-stay-in-the-same-place-after-some-steps/**\n",
    "\n",
    "## 一、题目\n",
    "\n",
    "有一个长度为 arrLen 的数组，开始有一个指针在索引 0 处。\n",
    "\n",
    "每一步操作中，你可以将指针向左或向右移动 1 步，或者停在原地（指针不能被移动到数组范围外）。\n",
    "\n",
    "给你两个整数 steps 和 arrLen ，请你计算并返回：在恰好执行 steps 次操作以后，指针仍然指向索引 0 处的方案数。\n",
    "\n",
    "由于答案可能会很大，请返回方案数 模 10^9 + 7 后的结果。\n",
    "\n",
    "### 提示：\n",
    "\n",
    "- 1 <= steps <= 500\n",
    "- 1 <= arrLen <= 10^6\n",
    "\n",
    "## 二、示例\n",
    "\n",
    "### 示例 1：\n",
    "\n",
    "输入：steps = 3, arrLen = 2\n",
    "\n",
    "输出：4\n",
    "\n",
    "解释：3 步后，总共有 4 种不同的方法可以停在索引 0 处。\n",
    "\n",
    "- 向右，向左，不动\n",
    "- 不动，向右，向左\n",
    "- 向右，不动，向左\n",
    "- 不动，不动，不动\n",
    "\n",
    "### 示例  2：\n",
    "\n",
    "输入：steps = 2, arrLen = 4\n",
    "\n",
    "输出：2\n",
    "\n",
    "解释：2 步后，总共有 2 种不同的方法可以停在索引 0 处。\n",
    "\n",
    "- 向右，向左\n",
    "- 不动，不动\n",
    "\n",
    "### 示例 3：\n",
    "\n",
    "输入：steps = 4, arrLen = 2\n",
    "\n",
    "输出：8\n",
    "\n",
    "## 三、解题思路\n",
    "\n",
    "### 动态规划\n",
    "\n",
    "dp[i][j]=dp[i−1][j−1]+dp[i−1][j]+dp[i−1][j+1]\n",
    "\n",
    "但要考虑边界条件"
   ]
  },
  {
   "cell_type": "code",
   "execution_count": 1,
   "metadata": {},
   "outputs": [],
   "source": [
    "def numWays(steps: int, arrLen: int) -> int:\n",
    "    mod = 10**9 + 7\n",
    "    maxColumn = min(arrLen-1, steps)\n",
    "    dp = [[0] * (maxColumn + 1) for _ in range(steps + 1)]\n",
    "    dp[0][0] = 1\n",
    "    for i in range(1, steps + 1):\n",
    "        for j in range(0, maxColumn + 1):\n",
    "            dp[i][j] = dp[i - 1][j]\n",
    "            if j - 1 >= 0:\n",
    "                dp[i][j] = (dp[i][j] + dp[i - 1][j - 1]) % mod\n",
    "            if j + 1 <= maxColumn:\n",
    "                dp[i][j] = (dp[i][j] + dp[i - 1][j + 1]) % mod\n",
    "    return dp[steps][0]"
   ]
  },
  {
   "cell_type": "code",
   "execution_count": 2,
   "metadata": {},
   "outputs": [
    {
     "data": {
      "text/plain": [
       "4"
      ]
     },
     "execution_count": 2,
     "metadata": {},
     "output_type": "execute_result"
    }
   ],
   "source": [
    "numWays(3,2)"
   ]
  },
  {
   "cell_type": "code",
   "execution_count": 3,
   "metadata": {},
   "outputs": [
    {
     "data": {
      "text/plain": [
       "8"
      ]
     },
     "execution_count": 3,
     "metadata": {},
     "output_type": "execute_result"
    }
   ],
   "source": [
    "numWays(4,2)"
   ]
  },
  {
   "cell_type": "code",
   "execution_count": null,
   "metadata": {},
   "outputs": [],
   "source": []
  }
 ],
 "metadata": {
  "kernelspec": {
   "display_name": "Python 3",
   "language": "python",
   "name": "python3"
  },
  "language_info": {
   "codemirror_mode": {
    "name": "ipython",
    "version": 3
   },
   "file_extension": ".py",
   "mimetype": "text/x-python",
   "name": "python",
   "nbconvert_exporter": "python",
   "pygments_lexer": "ipython3",
   "version": "3.6.5"
  }
 },
 "nbformat": 4,
 "nbformat_minor": 2
}
