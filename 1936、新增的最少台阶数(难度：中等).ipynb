{
 "cells": [
  {
   "cell_type": "markdown",
   "metadata": {},
   "source": [
    "# 新增的最少台阶数\n",
    "\n",
    "**题目来源：力扣（LeetCode）**\n",
    "\n",
    "**链接：https://leetcode-cn.com/problems/add-minimum-number-of-rungs/**\n",
    "\n",
    "## 一、题目\n",
    "\n",
    "给你一个 严格递增 的整数数组 rungs，用于表示梯子上每一台阶的 高度 。当前你正站在高度为 0 的地板上，并打算爬到最后一个台阶。\n",
    "\n",
    "另给你一个整数 dist 。每次移动中，你可以到达下一个距离你当前位置（地板或台阶）不超过 dist 高度的台阶。当然，你也可以在任何正 整数 高度处插入尚不存在的新台阶。\n",
    "\n",
    "返回爬到最后一阶时必须添加到梯子上的 最少台阶数。\n",
    "\n",
    "提示：\n",
    "\n",
    "- 1 <= rungs.length <= 10^5\n",
    "- 1 <= rungs[i] <= 10^9\n",
    "- 1 <= dist <= 10^9\n",
    "- rungs 严格递增\n",
    "\n",
    "## 二、示例\n",
    "\n",
    "### 示例 1：\n",
    "\n",
    "输入：rungs = [1,3,5,10], dist = 2\n",
    "\n",
    "输出：2\n",
    "\n",
    "解释：\n",
    "\n",
    "现在无法到达最后一阶。在高度为 7 和 8 的位置增设新的台阶，以爬上梯子。 梯子在高度为 [1,3,5,7,8,10] 的位置上有台阶。\n",
    "\n",
    "### 示例 2：\n",
    "\n",
    "输入：rungs = [3,6,8,10], dist = 3\n",
    "\n",
    "输出：0\n",
    "\n",
    "解释：这个梯子无需增设新台阶也可以爬上去。\n",
    "\n",
    "### 示例 3：\n",
    "\n",
    "输入：rungs = [3,4,6,7], dist = 2\n",
    "\n",
    "输出：1\n",
    "\n",
    "解释：\n",
    "\n",
    "现在无法从地板到达梯子的第一阶。 在高度为 1 的位置增设新的台阶，以爬上梯子。 梯子在高度为 [1,3,4,6,7] 的位置上有台阶。\n",
    "\n",
    "### 示例 4：\n",
    "\n",
    "输入：rungs = [5], dist = 10\n",
    "\n",
    "输出：0\n",
    "\n",
    "解释：这个梯子无需增设新台阶也可以爬上去。\n",
    "\n",
    "## 三、解题思路\n",
    "\n",
    "### 计算台阶差"
   ]
  },
  {
   "cell_type": "code",
   "execution_count": 1,
   "metadata": {},
   "outputs": [],
   "source": [
    "def addRungs(rungs, dist: int) -> int:\n",
    "    ret = 0\n",
    "    for i in range(len(rungs)):\n",
    "        high = 0\n",
    "        if i == 0:\n",
    "            high = rungs[i] - 0\n",
    "        else:\n",
    "            high = rungs[i] - rungs[i - 1]\n",
    "        if high > dist:\n",
    "            ret += (high // dist)\n",
    "            if high % dist == 0:\n",
    "                ret -= 1\n",
    "    return ret"
   ]
  },
  {
   "cell_type": "code",
   "execution_count": 2,
   "metadata": {},
   "outputs": [
    {
     "data": {
      "text/plain": [
       "2"
      ]
     },
     "execution_count": 2,
     "metadata": {},
     "output_type": "execute_result"
    }
   ],
   "source": [
    "addRungs(rungs = [1,3,5,10], dist = 2)"
   ]
  },
  {
   "cell_type": "code",
   "execution_count": 3,
   "metadata": {},
   "outputs": [
    {
     "data": {
      "text/plain": [
       "0"
      ]
     },
     "execution_count": 3,
     "metadata": {},
     "output_type": "execute_result"
    }
   ],
   "source": [
    "addRungs(rungs = [3,6,8,10], dist = 3)"
   ]
  },
  {
   "cell_type": "code",
   "execution_count": 4,
   "metadata": {},
   "outputs": [
    {
     "data": {
      "text/plain": [
       "1"
      ]
     },
     "execution_count": 4,
     "metadata": {},
     "output_type": "execute_result"
    }
   ],
   "source": [
    "addRungs(rungs = [3,4,6,7], dist = 2)"
   ]
  },
  {
   "cell_type": "code",
   "execution_count": 5,
   "metadata": {},
   "outputs": [
    {
     "data": {
      "text/plain": [
       "0"
      ]
     },
     "execution_count": 5,
     "metadata": {},
     "output_type": "execute_result"
    }
   ],
   "source": [
    "addRungs(rungs = [5], dist = 10)"
   ]
  },
  {
   "cell_type": "code",
   "execution_count": null,
   "metadata": {},
   "outputs": [],
   "source": []
  }
 ],
 "metadata": {
  "kernelspec": {
   "display_name": "Python 3",
   "language": "python",
   "name": "python3"
  },
  "language_info": {
   "codemirror_mode": {
    "name": "ipython",
    "version": 3
   },
   "file_extension": ".py",
   "mimetype": "text/x-python",
   "name": "python",
   "nbconvert_exporter": "python",
   "pygments_lexer": "ipython3",
   "version": "3.6.5"
  }
 },
 "nbformat": 4,
 "nbformat_minor": 2
}
