{
 "cells": [
  {
   "cell_type": "markdown",
   "metadata": {},
   "source": [
    "# 最长特殊序列Ⅰ\n",
    "\n",
    "**题目来源：力扣（LeetCode）**\n",
    "\n",
    "**链接：https://leetcode-cn.com/problems/longest-uncommon-subsequence-i/**\n",
    "\n",
    "## 一、题目\n",
    "\n",
    "给你两个字符串，请你从这两个字符串中找出最长的特殊序列。\n",
    "\n",
    "「最长特殊序列」定义如下：该序列为某字符串独有的最长子序列（即不能是其他字符串的子序列）。\n",
    "\n",
    "子序列 可以通过删去字符串中的某些字符实现，但不能改变剩余字符的相对顺序。空序列为所有字符串的子序列，任何字符串为其自身的子序列。\n",
    "\n",
    "输入为两个字符串，输出最长特殊序列的长度。如果不存在，则返回 -1。\n",
    "\n",
    "### 提示：\n",
    "\n",
    "- 两个字符串长度均处于区间 [1 - 100] 。\n",
    "- 字符串中的字符仅含有 'a'~'z' 。\n",
    "\n",
    "## 二、示例\n",
    "\n",
    "### 示例 1：\n",
    "\n",
    "输入: a = \"aba\", b = \"cdc\"\n",
    "\n",
    "输出: 3\n",
    "\n",
    "解释: 最长特殊序列可为 \"aba\" (或 \"cdc\")，两者均为自身的子序列且不是对方的子序列。\n",
    "\n",
    "### 示例 2：\n",
    "\n",
    "输入：a = \"aaa\", b = \"bbb\"\n",
    "\n",
    "输出：3\n",
    "\n",
    "### 示例 3：\n",
    "\n",
    "输入：a = \"aaa\", b = \"aaa\"\n",
    "\n",
    "输出：-1\n",
    "\n",
    "## 三、解题思路\n",
    "\n",
    "- a == b 返回-1\n",
    "- a != b\n",
    "    - len(a) == len(b) a 和 b 相互不为子序列，所以返回长度即可\n",
    "    - len(a) != len(b) a 和 b 相互不为子序列，返回长度较长的长度即可"
   ]
  },
  {
   "cell_type": "code",
   "execution_count": 1,
   "metadata": {},
   "outputs": [],
   "source": [
    "def findLUSlength(a: str, b: str) -> int:\n",
    "    return -1 if a == b else max(len(a), len(b))"
   ]
  },
  {
   "cell_type": "code",
   "execution_count": 2,
   "metadata": {},
   "outputs": [
    {
     "data": {
      "text/plain": [
       "3"
      ]
     },
     "execution_count": 2,
     "metadata": {},
     "output_type": "execute_result"
    }
   ],
   "source": [
    "findLUSlength(a = \"aba\", b = \"cdc\")"
   ]
  },
  {
   "cell_type": "code",
   "execution_count": 3,
   "metadata": {},
   "outputs": [
    {
     "data": {
      "text/plain": [
       "3"
      ]
     },
     "execution_count": 3,
     "metadata": {},
     "output_type": "execute_result"
    }
   ],
   "source": [
    "findLUSlength(a = \"aaa\", b = \"bbb\")"
   ]
  },
  {
   "cell_type": "code",
   "execution_count": 4,
   "metadata": {},
   "outputs": [
    {
     "data": {
      "text/plain": [
       "-1"
      ]
     },
     "execution_count": 4,
     "metadata": {},
     "output_type": "execute_result"
    }
   ],
   "source": [
    "findLUSlength(a = \"aaa\", b = \"aaa\")"
   ]
  },
  {
   "cell_type": "code",
   "execution_count": null,
   "metadata": {},
   "outputs": [],
   "source": []
  }
 ],
 "metadata": {
  "kernelspec": {
   "display_name": "Python 3",
   "language": "python",
   "name": "python3"
  },
  "language_info": {
   "codemirror_mode": {
    "name": "ipython",
    "version": 3
   },
   "file_extension": ".py",
   "mimetype": "text/x-python",
   "name": "python",
   "nbconvert_exporter": "python",
   "pygments_lexer": "ipython3",
   "version": "3.6.5"
  }
 },
 "nbformat": 4,
 "nbformat_minor": 2
}
