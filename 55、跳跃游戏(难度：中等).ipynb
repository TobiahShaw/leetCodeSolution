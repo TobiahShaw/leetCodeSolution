{
  "cells": [
    {
      "metadata": {
        "collapsed": true
      },
      "cell_type": "markdown",
      "source": "# 跳跃游戏\n\n**题目来源：力扣（LeetCode）**\n\n**链接：https://leetcode-cn.com/problems/jump-game/**\n\n## 一、题目\n\n给定一个非负整数数组，你最初位于数组的第一个位置。\n\n数组中的每个元素代表你在该位置可以跳跃的最大长度。\n\n判断你是否能够到达最后一个位置。\n\n## 二、示例\n\n### 示例 1:\n\n输入: [2,3,1,1,4]\n\n输出: true\n\n解释: 我们可以先跳 1 步，从位置 0 到达 位置 1, 然后再从位置 1 跳 3 步到达最后一个位置。\n\n### 示例 2:\n\n输入: [3,2,1,0,4]\n\n输出: false\n\n解释: 无论怎样，你总会到达索引为 3 的位置。但该位置的最大跳跃长度是 0 ， 所以你永远不可能到达最后一个位置。\n\n## 三、解题思路\n\n从第i个位置可跳nums[i]步：nums = [2,3,1,1,4]\n\n从第i个位置最远可跳到index[i]位置：index[i] = i + nums[i]，则index = [2,4,3,4,8]\n\n从第0个位置最远可以跳到index[0]，则也一定可以跳到0-index[0]之间的任意位置。\n\n那么问题可以转化为从第0个位置应该跳到0-index[0]之间的哪个位置？之后又可跳的更远的位置中最远的位置是哪一个？\n\n我们应该跳到跳跃之后能到达最远的位置"
    },
    {
      "metadata": {
        "trusted": true
      },
      "cell_type": "code",
      "source": "def canJump(nums) -> bool:\n    len_nums = len(nums)\n    # 最远下标，达到或者超过即可完成游戏\n    max_index =  len_nums - 1\n    # 数组每个位置可以到达的最远位置\n    index = [i + nums[i] for i in range(len_nums)]\n    curr = 0\n    while curr < len_nums:\n        # 找到跳跃一部之后再跳可以到达的最远位置中最远的那一次跳跃到达的下标\n        farest = curr\n        for i in range(curr, index[curr] + 1):\n            if index[i] > index[farest]:\n                farest = i\n            if index[farest] >= max_index:\n                return True\n        # 跳跃之后可到达最远的一次仍和跳远前下标一致，则说明无法前进\n        if curr == farest:\n            return False\n        curr = farest\n    if index[curr] >= max_index:\n        return True\n    return False",
      "execution_count": 4,
      "outputs": []
    },
    {
      "metadata": {
        "trusted": true
      },
      "cell_type": "code",
      "source": "canJump([2,3,1,1,4])",
      "execution_count": 5,
      "outputs": [
        {
          "output_type": "execute_result",
          "execution_count": 5,
          "data": {
            "text/plain": "True"
          },
          "metadata": {}
        }
      ]
    },
    {
      "metadata": {
        "trusted": true
      },
      "cell_type": "code",
      "source": "canJump([3,2,1,0,4])",
      "execution_count": 6,
      "outputs": [
        {
          "output_type": "execute_result",
          "execution_count": 6,
          "data": {
            "text/plain": "False"
          },
          "metadata": {}
        }
      ]
    },
    {
      "metadata": {
        "trusted": true
      },
      "cell_type": "code",
      "source": "",
      "execution_count": null,
      "outputs": []
    }
  ],
  "metadata": {
    "kernelspec": {
      "name": "python36",
      "display_name": "Python 3.6",
      "language": "python"
    },
    "language_info": {
      "mimetype": "text/x-python",
      "nbconvert_exporter": "python",
      "name": "python",
      "pygments_lexer": "ipython3",
      "version": "3.6.6",
      "file_extension": ".py",
      "codemirror_mode": {
        "version": 3,
        "name": "ipython"
      }
    }
  },
  "nbformat": 4,
  "nbformat_minor": 2
}