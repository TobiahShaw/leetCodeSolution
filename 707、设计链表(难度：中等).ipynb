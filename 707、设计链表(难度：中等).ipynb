{
 "cells": [
  {
   "cell_type": "markdown",
   "metadata": {},
   "source": [
    "# 设计链表\n",
    "\n",
    "**题目来源：力扣（LeetCode）**\n",
    "\n",
    "**链接：https://leetcode-cn.com/problems/design-linked-list/**\n",
    "\n",
    "## 一、题目\n",
    "\n",
    "设计链表的实现。您可以选择使用单链表或双链表。单链表中的节点应该具有两个属性：val 和 next。val 是当前节点的值，next 是指向下一个节点的指针/引用。如果要使用双向链表，则还需要一个属性 prev 以指示链表中的上一个节点。假设链表中的所有节点都是 0-index 的。\n",
    "\n",
    "在链表类中实现这些功能：\n",
    "\n",
    "- get(index)：获取链表中第 index 个节点的值。如果索引无效，则返回-1。\n",
    "- addAtHead(val)：在链表的第一个元素之前添加一个值为 val 的节点。插入后，新节点将成为链表的第一个节点。\n",
    "- addAtTail(val)：将值为 val 的节点追加到链表的最后一个元素。\n",
    "- addAtIndex(index,val)：在链表中的第 index 个节点之前添加值为 val  的节点。如果 index 等于链表的长度，则该节点将附加到链表的末尾。如果 index 大于链表长度，则不会插入节点。如果index小于0，则在头部插入节点。\n",
    "- deleteAtIndex(index)：如果索引 index 有效，则删除链表中的第 index 个节点。\n",
    "\n",
    "### 提示：\n",
    "\n",
    "- 所有val值都在 [1, 1000] 之内。\n",
    "- 操作次数将在  [1, 1000] 之内。\n",
    "- 请不要使用内置的 LinkedList 库。\n",
    "\n",
    "## 二、示例\n",
    "\n",
    "```\n",
    "linkedList = MyLinkedList()\n",
    "linkedList.addAtHead(1)\n",
    "linkedList.addAtTail(3)\n",
    "linkedList.addAtIndex(1,2)   # 链表变为1-> 2-> 3\n",
    "linkedList.get(1)            # 返回2\n",
    "linkedList.deleteAtIndex(1)  # 现在链表是1-> 3\n",
    "linkedList.get(1)            # 返回3\n",
    "```\n",
    "\n",
    "## 三、解题思路\n",
    "\n",
    "### 一、单链表"
   ]
  },
  {
   "cell_type": "code",
   "execution_count": 1,
   "metadata": {},
   "outputs": [],
   "source": [
    "class Node:\n",
    "    def __init__(self, x):\n",
    "        self.val = x\n",
    "        self.next = None"
   ]
  },
  {
   "cell_type": "code",
   "execution_count": 2,
   "metadata": {},
   "outputs": [],
   "source": [
    "class MyLinkedList:\n",
    "\n",
    "    def __init__(self):\n",
    "        self.head = None\n",
    "\n",
    "    def get(self, index: int) -> int:\n",
    "        cur = self.head\n",
    "        for _ in range(index):\n",
    "            if cur is None:\n",
    "                break\n",
    "            cur = cur.next\n",
    "        return -1 if cur is None else cur.val\n",
    "\n",
    "    def addAtHead(self, val: int) -> None:\n",
    "        node = Node(val)\n",
    "        node.next = self.head\n",
    "        self.head = node\n",
    "\n",
    "    def addAtTail(self, val: int) -> None:\n",
    "        if self.head is None:\n",
    "            self.addAtHead(val)\n",
    "            return\n",
    "        cur = self.head\n",
    "        while cur.next:\n",
    "            cur = cur.next\n",
    "        node = Node(val)\n",
    "        cur.next = node\n",
    "\n",
    "    def addAtIndex(self, index: int, val: int) -> None:\n",
    "        if index <= 0:\n",
    "            self.addAtHead(val)\n",
    "            return\n",
    "        pre = self.head\n",
    "        for _ in range(index - 1):\n",
    "            if pre is None:\n",
    "                return\n",
    "            pre = pre.next\n",
    "        if pre is None:\n",
    "            return\n",
    "        cur = pre.next\n",
    "        node = Node(val)\n",
    "        pre.next = node\n",
    "        node.next = cur\n",
    "\n",
    "    def deleteAtIndex(self, index: int) -> None:\n",
    "        if self.head is None:\n",
    "            return\n",
    "        if index == 0:\n",
    "            self.head = self.head.next\n",
    "            return\n",
    "        pre = self.head\n",
    "        for _ in range(index - 1):\n",
    "            if pre is None:\n",
    "                return\n",
    "            pre = pre.next\n",
    "        if pre is None or pre.next is None:\n",
    "            return\n",
    "        pre.next = pre.next.next"
   ]
  },
  {
   "cell_type": "code",
   "execution_count": 3,
   "metadata": {},
   "outputs": [
    {
     "name": "stdout",
     "output_type": "stream",
     "text": [
      "2\n",
      "3\n"
     ]
    }
   ],
   "source": [
    "linkedList = MyLinkedList()\n",
    "linkedList.addAtHead(1)\n",
    "linkedList.addAtTail(3)\n",
    "linkedList.addAtIndex(1,2)   # 链表变为1-> 2-> 3\n",
    "print(linkedList.get(1))            # 返回2\n",
    "linkedList.deleteAtIndex(1)  # 现在链表是1-> 3\n",
    "print(linkedList.get(1))            # 返回3"
   ]
  },
  {
   "cell_type": "markdown",
   "metadata": {},
   "source": [
    "### 二、单链表 头节点优化"
   ]
  },
  {
   "cell_type": "code",
   "execution_count": 4,
   "metadata": {},
   "outputs": [],
   "source": [
    "class MyLinkedList:\n",
    "\n",
    "    def __init__(self):\n",
    "        self.holder = Node(0)\n",
    "\n",
    "    def get(self, index: int) -> int:\n",
    "        cur = self.holder.next\n",
    "        for _ in range(index):\n",
    "            if cur is None:\n",
    "                break\n",
    "            cur = cur.next\n",
    "        return -1 if cur is None else cur.val\n",
    "\n",
    "    def addAtHead(self, val: int) -> None:\n",
    "        node = Node(val)\n",
    "        node.next = self.holder.next\n",
    "        self.holder.next = node\n",
    "\n",
    "    def addAtTail(self, val: int) -> None:\n",
    "        cur = self.holder\n",
    "        while cur.next:\n",
    "            cur = cur.next\n",
    "        node = Node(val)\n",
    "        cur.next = node\n",
    "\n",
    "    def addAtIndex(self, index: int, val: int) -> None:\n",
    "        if index <= 0:\n",
    "            self.addAtHead(val)\n",
    "            return\n",
    "        pre = self.holder\n",
    "        for _ in range(index):\n",
    "            if pre is None:\n",
    "                return\n",
    "            pre = pre.next\n",
    "        if pre is None:\n",
    "            return\n",
    "        cur = pre.next\n",
    "        node = Node(val)\n",
    "        pre.next = node\n",
    "        node.next = cur\n",
    "\n",
    "    def deleteAtIndex(self, index: int) -> None:\n",
    "        if self.holder.next is None:\n",
    "            return\n",
    "        pre = self.holder\n",
    "        for _ in range(index):\n",
    "            if pre is None:\n",
    "                return\n",
    "            pre = pre.next\n",
    "        if pre is None or pre.next is None:\n",
    "            return\n",
    "        pre.next = pre.next.next"
   ]
  },
  {
   "cell_type": "code",
   "execution_count": 5,
   "metadata": {},
   "outputs": [
    {
     "name": "stdout",
     "output_type": "stream",
     "text": [
      "2\n",
      "3\n"
     ]
    }
   ],
   "source": [
    "linkedList = MyLinkedList()\n",
    "linkedList.addAtHead(1)\n",
    "linkedList.addAtTail(3)\n",
    "linkedList.addAtIndex(1,2)   # 链表变为1-> 2-> 3\n",
    "print(linkedList.get(1))            # 返回2\n",
    "linkedList.deleteAtIndex(1)  # 现在链表是1-> 3\n",
    "print(linkedList.get(1))            # 返回3"
   ]
  },
  {
   "cell_type": "code",
   "execution_count": null,
   "metadata": {},
   "outputs": [],
   "source": []
  }
 ],
 "metadata": {
  "kernelspec": {
   "display_name": "Python 3",
   "language": "python",
   "name": "python3"
  },
  "language_info": {
   "codemirror_mode": {
    "name": "ipython",
    "version": 3
   },
   "file_extension": ".py",
   "mimetype": "text/x-python",
   "name": "python",
   "nbconvert_exporter": "python",
   "pygments_lexer": "ipython3",
   "version": "3.6.5"
  }
 },
 "nbformat": 4,
 "nbformat_minor": 2
}
