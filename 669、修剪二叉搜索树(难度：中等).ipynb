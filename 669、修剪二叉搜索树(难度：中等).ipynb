{
  "cells": [
    {
      "cell_type": "markdown",
      "metadata": {
        "collapsed": true
      },
      "source": [
        "# 修剪二叉搜索树\n",
        "\n",
        "**题目来源：力扣（LeetCode）**\n",
        "\n",
        "**链接：https://leetcode-cn.com/problems/trim-a-binary-search-tree/**\n",
        "\n",
        "## 一、题目\n",
        "\n",
        "给你二叉搜索树的根节点 root ，同时给定最小边界low 和最大边界 high。通过修剪二叉搜索树，使得所有节点的值在[low, high]中。修剪树 不应该 改变保留在树中的元素的相对结构 (即，如果没有被移除，原有的父代子代关系都应当保留)。 可以证明，存在 唯一的答案 。\n",
        "\n",
        "所以结果应当返回修剪好的二叉搜索树的新的根节点。注意，根节点可能会根据给定的边界发生改变。\n",
        "\n",
        "### 提示：\n",
        "\n",
        "- 树中节点数在范围 [1, 10^4] 内\n",
        "- 0 <= Node.val <= 10^4\n",
        "- 树中每个节点的值都是 唯一 的\n",
        "- 题目数据保证输入是一棵有效的二叉搜索树\n",
        "- 0 <= low <= high <= 10^4\n",
        "\n",
        "## 二、示例\n",
        "\n",
        "### 示例 1:\n",
        "\n",
        "输入: \n",
        "\n",
        "```\n",
        "    1\n",
        "   / \\\n",
        "  0   2\n",
        "```\n",
        "\n",
        "  L = 1\n",
        "  R = 2\n",
        "\n",
        "输出: \n",
        "\n",
        "```\n",
        "    1\n",
        "      \\\n",
        "       2\n",
        "```\n",
        "\n",
        "### 示例 2:\n",
        "\n",
        "输入: \n",
        "\n",
        "```\n",
        "    3\n",
        "   / \\\n",
        "  0   4\n",
        "   \\\n",
        "    2\n",
        "   /\n",
        "  1\n",
        "```\n",
        "\n",
        "  L = 1\n",
        "  R = 3\n",
        "\n",
        "输出: \n",
        "\n",
        "```\n",
        "      3\n",
        "     / \n",
        "   2   \n",
        "  /\n",
        " 1\n",
        "```\n",
        "\n",
        "## 三、解题思路\n",
        "\n",
        "### 递归修减"
      ]
    },
    {
      "cell_type": "code",
      "execution_count": 1,
      "metadata": {
        "trusted": true
      },
      "outputs": [],
      "source": [
        "class TreeNode:\n",
        "    def __init__(self, x):\n",
        "        self.val = x\n",
        "        self.left = None\n",
        "        self.right = None\n",
        "\n",
        "root1 = TreeNode(1)\n",
        "root1.left = TreeNode(0)\n",
        "root1.right = TreeNode(2)\n",
        "\n",
        "root2 = TreeNode(3)\n",
        "root2.left = TreeNode(0)\n",
        "root2.right = TreeNode(4)\n",
        "\n",
        "root2.left.right = TreeNode(2)\n",
        "root2.left.right.left = TreeNode(1)"
      ]
    },
    {
      "cell_type": "code",
      "execution_count": 2,
      "metadata": {
        "trusted": true
      },
      "outputs": [],
      "source": [
        "def trimBST(root: TreeNode, L: int, R: int) -> TreeNode:\n",
        "    if not root:\n",
        "        return None\n",
        "    if root.val > R:\n",
        "        return trimBST(root.left, L, R)\n",
        "    elif root.val < L:\n",
        "        return trimBST(root.right, L, R)\n",
        "    else:\n",
        "        root.left = trimBST(root.left, L, R)\n",
        "        root.right = trimBST(root.right, L, R)\n",
        "        return root"
      ]
    },
    {
      "cell_type": "code",
      "execution_count": 3,
      "metadata": {
        "trusted": true
      },
      "outputs": [],
      "source": [
        "r1 = trimBST(root1, 1, 2)"
      ]
    },
    {
      "cell_type": "code",
      "execution_count": 4,
      "metadata": {
        "trusted": true
      },
      "outputs": [],
      "source": [
        "r2 = trimBST(root2, 1, 3)"
      ]
    },
    {
      "cell_type": "code",
      "execution_count": null,
      "metadata": {
        "trusted": true
      },
      "outputs": [],
      "source": []
    }
  ],
  "metadata": {
    "kernelspec": {
      "display_name": "Python 3.6",
      "language": "python",
      "name": "python36"
    },
    "language_info": {
      "codemirror_mode": {
        "name": "ipython",
        "version": 3
      },
      "file_extension": ".py",
      "mimetype": "text/x-python",
      "name": "python",
      "nbconvert_exporter": "python",
      "pygments_lexer": "ipython3",
      "version": "3.6.6"
    }
  },
  "nbformat": 4,
  "nbformat_minor": 2
}
