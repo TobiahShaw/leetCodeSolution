{
 "cells": [
  {
   "cell_type": "markdown",
   "metadata": {},
   "source": [
    "# 判断国际象棋棋盘中一个格子的颜色\n",
    "\n",
    "**题目来源：力扣（LeetCode）**\n",
    "\n",
    "**链接：https://leetcode-cn.com/problems/determine-color-of-a-chessboard-square/**\n",
    "\n",
    "## 一、题目\n",
    "\n",
    "给你一个坐标 coordinates ，它是一个字符串，表示国际象棋棋盘中一个格子的坐标。下图是国际象棋棋盘示意图。\n",
    "\n",
    "![](https://assets.leetcode-cn.com/aliyun-lc-upload/uploads/2021/04/03/chessboard.png)\n",
    "\n",
    "如果所给格子的颜色是白色，请你返回 true，如果是黑色，请返回 false 。\n",
    "\n",
    "给定坐标一定代表国际象棋棋盘上一个存在的格子。坐标第一个字符是字母，第二个字符是数字。\n",
    "\n",
    "### 提示：\n",
    "\n",
    "- coordinates.length == 2\n",
    "- 'a' <= coordinates[0] <= 'h'\n",
    "- '1' <= coordinates[1] <= '8'\n",
    "\n",
    "## 二、示例\n",
    "\n",
    "### 示例 1：\n",
    "\n",
    "输入：coordinates = \"a1\"\n",
    "\n",
    "输出：false\n",
    "\n",
    "解释：如上图棋盘所示，\"a1\" 坐标的格子是黑色的，所以返回 false 。\n",
    "\n",
    "### 示例 2：\n",
    "\n",
    "输入：coordinates = \"h3\"\n",
    "\n",
    "输出：true\n",
    "\n",
    "解释：如上图棋盘所示，\"h3\" 坐标的格子是白色的，所以返回 true 。\n",
    "\n",
    "### 示例 3：\n",
    "\n",
    "输入：coordinates = \"c7\"\n",
    "\n",
    "输出：false\n",
    "\n",
    "## 三、解题思路\n",
    "\n",
    "### 奇偶性"
   ]
  },
  {
   "cell_type": "code",
   "execution_count": 1,
   "metadata": {},
   "outputs": [],
   "source": [
    "class Solution:\n",
    "    def squareIsWhite(self, coordinates: str) -> bool:\n",
    "        return (ord(coordinates[0]) % 2) != (int(coordinates[1]) % 2)"
   ]
  },
  {
   "cell_type": "code",
   "execution_count": 2,
   "metadata": {},
   "outputs": [
    {
     "data": {
      "text/plain": [
       "False"
      ]
     },
     "execution_count": 2,
     "metadata": {},
     "output_type": "execute_result"
    }
   ],
   "source": [
    "s = Solution()\n",
    "s.squareIsWhite(\"a1\")"
   ]
  },
  {
   "cell_type": "code",
   "execution_count": 3,
   "metadata": {},
   "outputs": [
    {
     "data": {
      "text/plain": [
       "True"
      ]
     },
     "execution_count": 3,
     "metadata": {},
     "output_type": "execute_result"
    }
   ],
   "source": [
    "s.squareIsWhite(\"h3\")"
   ]
  },
  {
   "cell_type": "code",
   "execution_count": 4,
   "metadata": {},
   "outputs": [
    {
     "data": {
      "text/plain": [
       "False"
      ]
     },
     "execution_count": 4,
     "metadata": {},
     "output_type": "execute_result"
    }
   ],
   "source": [
    "s.squareIsWhite(\"c7\")"
   ]
  },
  {
   "cell_type": "code",
   "execution_count": null,
   "metadata": {},
   "outputs": [],
   "source": []
  }
 ],
 "metadata": {
  "kernelspec": {
   "display_name": "Python 3 (ipykernel)",
   "language": "python",
   "name": "python3"
  },
  "language_info": {
   "codemirror_mode": {
    "name": "ipython",
    "version": 3
   },
   "file_extension": ".py",
   "mimetype": "text/x-python",
   "name": "python",
   "nbconvert_exporter": "python",
   "pygments_lexer": "ipython3",
   "version": "3.11.0"
  }
 },
 "nbformat": 4,
 "nbformat_minor": 2
}
