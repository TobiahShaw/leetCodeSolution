{
 "cells": [
  {
   "cell_type": "markdown",
   "metadata": {},
   "source": [
    "# 使数组中所有元素相等的最小操作数\n",
    "\n",
    "**题目来源：力扣（LeetCode）**\n",
    "\n",
    "**链接：https://leetcode-cn.com/problems/minimum-operations-to-make-array-equal/**\n",
    "\n",
    "## 一、题目\n",
    "\n",
    "存在一个长度为 n 的数组 arr ，其中 arr[i] = (2 * i) + 1 （ 0 <= i < n ）。\n",
    "\n",
    "一次操作中，你可以选出两个下标，记作 x 和 y （ 0 <= x, y < n ）并使 arr[x] 减去 1 、arr[y] 加上 1 （即 arr[x] -=1 且 arr[y] += 1 ）。最终的目标是使数组中的所有元素都 相等 。题目测试用例将会 保证 ：在执行若干步操作后，数组中的所有元素最终可以全部相等。\n",
    "\n",
    "给你一个整数 n，即数组的长度。请你返回使数组 arr 中所有元素相等所需的 最小操作数 。\n",
    "\n",
    "### 提示：\n",
    "\n",
    "1 <= n <= 10^4\n",
    "\n",
    "## 二、示例\n",
    "\n",
    "### 示例 1：\n",
    "\n",
    "输入：n = 3\n",
    "\n",
    "输出：2\n",
    "\n",
    "解释：arr = [1, 3, 5]\n",
    "\n",
    "第一次操作选出 x = 2 和 y = 0，使数组变为 [2, 3, 4]\n",
    "\n",
    "第二次操作继续选出 x = 2 和 y = 0，数组将会变成 [3, 3, 3]\n",
    "\n",
    "### 示例 2：\n",
    "\n",
    "输入：n = 6\n",
    "\n",
    "输出：9\n",
    "\n",
    "## 三、解题思路\n",
    "\n",
    "### 模拟\n",
    "\n",
    "1. arr[i] = (2 * i) + 1 (0 <= i < n)是典型的等差数列\n",
    "2. 根据等差数列的求和公式,很容易求出数组arr的元素总和是n^2\n",
    "3. 每次操作选出两个下标x y使arr[x]减一arr[y]加一.换句话说,无论怎样选择x y,无论操作多少次,数组的总和不会变\n",
    "4. 我们假设最终所有元素等于a那么n * a == n^2,所以a == n,也就是说最终数组元素都是n.其实n是数组的平均值.知道最终元素都是n后,通过从数组起始和末尾下标开始向中间遍历,就可以到达操作数最小."
   ]
  },
  {
   "cell_type": "code",
   "execution_count": 1,
   "metadata": {},
   "outputs": [],
   "source": [
    "def minOperations(n: int) -> int:\n",
    "    ret = 0\n",
    "    for i in range(1, n, 2):\n",
    "        ret += (n - i)\n",
    "    return ret"
   ]
  },
  {
   "cell_type": "code",
   "execution_count": 2,
   "metadata": {},
   "outputs": [
    {
     "data": {
      "text/plain": [
       "2"
      ]
     },
     "execution_count": 2,
     "metadata": {},
     "output_type": "execute_result"
    }
   ],
   "source": [
    "minOperations(3)"
   ]
  },
  {
   "cell_type": "code",
   "execution_count": 3,
   "metadata": {},
   "outputs": [
    {
     "data": {
      "text/plain": [
       "9"
      ]
     },
     "execution_count": 3,
     "metadata": {},
     "output_type": "execute_result"
    }
   ],
   "source": [
    "minOperations(6)"
   ]
  },
  {
   "cell_type": "code",
   "execution_count": null,
   "metadata": {},
   "outputs": [],
   "source": []
  }
 ],
 "metadata": {
  "kernelspec": {
   "display_name": "Python 3",
   "language": "python",
   "name": "python3"
  },
  "language_info": {
   "codemirror_mode": {
    "name": "ipython",
    "version": 3
   },
   "file_extension": ".py",
   "mimetype": "text/x-python",
   "name": "python",
   "nbconvert_exporter": "python",
   "pygments_lexer": "ipython3",
   "version": "3.6.5"
  }
 },
 "nbformat": 4,
 "nbformat_minor": 2
}
