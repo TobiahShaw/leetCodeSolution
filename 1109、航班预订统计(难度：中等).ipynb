{
 "cells": [
  {
   "cell_type": "markdown",
   "metadata": {},
   "source": [
    "# 航班预订统计\n",
    "\n",
    "**题目来源：力扣（LeetCode）**\n",
    "\n",
    "**链接：https://leetcode-cn.com/problems/corporate-flight-bookings/**\n",
    "\n",
    "## 一、题目\n",
    "\n",
    "这里有 n 个航班，它们分别从 1 到 n 进行编号。\n",
    "\n",
    "有一份航班预订表 bookings ，表中第 i 条预订记录 bookings[i] = [firsti, lasti, seatsi] 意味着在从 firsti 到 lasti （包含 firsti 和 lasti ）的 每个航班 上预订了 seatsi 个座位。\n",
    "\n",
    "请你返回一个长度为 n 的数组 answer，其中 answer[i] 是航班 i 上预订的座位总数。\n",
    "\n",
    "### 提示：\n",
    "\n",
    "- 1 <= n <= 2 * 104\n",
    "- 1 <= bookings.length <= 2 * 104\n",
    "- bookings[i].length == 3\n",
    "- 1 <= firsti <= lasti <= n\n",
    "- 1 <= seatsi <= 104\n",
    "\n",
    "## 二、示例\n",
    "\n",
    "### 示例 1：\n",
    "\n",
    "输入：bookings = [[1,2,10],[2,3,20],[2,5,25]], n = 5\n",
    "\n",
    "输出：[10,55,45,25,25]\n",
    "\n",
    "解释：\n",
    "\n",
    "```\n",
    "航班编号        1   2   3   4   5\n",
    "预订记录 1 ：   10  10\n",
    "预订记录 2 ：       20  20\n",
    "预订记录 3 ：       25  25  25  25\n",
    "总座位数：      10  55  45  25  25\n",
    "```\n",
    "\n",
    "因此，answer = [10,55,45,25,25]\n",
    "\n",
    "### 示例 2：\n",
    "\n",
    "输入：bookings = [[1,2,10],[2,2,15]], n = 2\n",
    "\n",
    "输出：[10,25]\n",
    "\n",
    "解释：\n",
    "\n",
    "```\n",
    "航班编号        1   2\n",
    "预订记录 1 ：   10  10\n",
    "预订记录 2 ：       15\n",
    "总座位数：      10  25\n",
    "```\n",
    "\n",
    "因此，answer = [10,25]\n",
    "\n",
    "## 三、解题思路\n",
    "\n",
    "### 差分数组+前缀和"
   ]
  },
  {
   "cell_type": "code",
   "execution_count": 1,
   "metadata": {},
   "outputs": [],
   "source": [
    "def corpFlightBookings(bookings, n: int):\n",
    "    counter = [0] * n\n",
    "    for booking in bookings:\n",
    "        counter[booking[0]-1] += booking[2]\n",
    "        if booking[1] < n:\n",
    "            counter[booking[1]] -= booking[2]\n",
    "    ret = []\n",
    "    for num in counter:\n",
    "        ret.append(ret[-1] + num if ret else num)\n",
    "    return ret"
   ]
  },
  {
   "cell_type": "code",
   "execution_count": 2,
   "metadata": {},
   "outputs": [
    {
     "data": {
      "text/plain": [
       "[10, 55, 45, 25, 25]"
      ]
     },
     "execution_count": 2,
     "metadata": {},
     "output_type": "execute_result"
    }
   ],
   "source": [
    "corpFlightBookings(bookings = [[1,2,10],[2,3,20],[2,5,25]], n = 5)"
   ]
  },
  {
   "cell_type": "code",
   "execution_count": 3,
   "metadata": {},
   "outputs": [
    {
     "data": {
      "text/plain": [
       "[10, 25]"
      ]
     },
     "execution_count": 3,
     "metadata": {},
     "output_type": "execute_result"
    }
   ],
   "source": [
    "corpFlightBookings(bookings = [[1,2,10],[2,2,15]], n = 2)"
   ]
  },
  {
   "cell_type": "code",
   "execution_count": null,
   "metadata": {},
   "outputs": [],
   "source": []
  }
 ],
 "metadata": {
  "kernelspec": {
   "display_name": "Python 3",
   "language": "python",
   "name": "python3"
  },
  "language_info": {
   "codemirror_mode": {
    "name": "ipython",
    "version": 3
   },
   "file_extension": ".py",
   "mimetype": "text/x-python",
   "name": "python",
   "nbconvert_exporter": "python",
   "pygments_lexer": "ipython3",
   "version": "3.6.5"
  }
 },
 "nbformat": 4,
 "nbformat_minor": 2
}
