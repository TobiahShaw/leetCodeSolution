{
 "cells": [
  {
   "attachments": {
    "1626630769-qJimuE-%E5%A2%9E%E5%8A%A0.png": {
     "image/png": "[encoded data removed]"
    },
    "1626630780-mgAuPx-%E5%87%8F%E5%B0%91.png": {
     "image/png": "[encoded data removed]"
    }
   },
   "cell_type": "markdown",
   "metadata": {},
   "source": [
    "# 最高频元素的频数\n",
    "\n",
    "**题目来源：力扣（LeetCode）**\n",
    "\n",
    "**链接：https://leetcode-cn.com/problems/frequency-of-the-most-frequent-element/**\n",
    "\n",
    "## 一、题目\n",
    "\n",
    "元素的 频数 是该元素在一个数组中出现的次数。\n",
    "\n",
    "给你一个整数数组 nums 和一个整数 k 。在一步操作中，你可以选择 nums 的一个下标，并将该下标对应元素的值增加 1 。\n",
    "\n",
    "执行最多 k 次操作后，返回数组中最高频元素的 最大可能频数 。\n",
    "\n",
    "### 提示：\n",
    "\n",
    "- 1 <= nums.length <= 10^5\n",
    "- 1 <= nums[i] <= 10^5\n",
    "- 1 <= k <= 10^5\n",
    "\n",
    "## 二、示例\n",
    "\n",
    "### 示例 1：\n",
    "\n",
    "输入：nums = [1,4,8,13], k = 5\n",
    "\n",
    "输出：2\n",
    "\n",
    "解释：存在多种最优解决方案：\n",
    "\n",
    "- 对第一个元素执行 3 次递增操作，此时 nums = [4,4,8,13] 。4 是数组中最高频元素，频数是 2 。\n",
    "- 对第二个元素执行 4 次递增操作，此时 nums = [1,8,8,13] 。8 是数组中最高频元素，频数是 2 。\n",
    "- 对第三个元素执行 5 次递增操作，此时 nums = [1,4,13,13] 。13 是数组中最高频元素，频数是 2 。\n",
    "\n",
    "### 示例 3：\n",
    "\n",
    "输入：nums = [3,9,6], k = 2\n",
    "\n",
    "输出：1\n",
    "\n",
    "## 三、解题思路\n",
    "\n",
    "### 滑动窗口\n",
    "\n",
    "最值问题，我们首先判断出要先将数组排序。\n",
    "\n",
    "我们采用滑动窗口的方法来找出答案，定义一个left跟right，作为滑动窗口的两端。\n",
    "\n",
    "题目的本质就是我们用整数k去补充滑动窗口内的所有数字到滑动窗口最大值之间的差，如下面两幅图所示。\n",
    "\n",
    "当right向右滑动一步，用k减去对应的红色部分的面积：如果k仍大于0，那么这个滑动窗口是符合题意的；如果k小于0，那么这个滑动窗口需要整体右移一步。也就是left也同步向右滑动一步。\n",
    "\n",
    "![1626630769-qJimuE-%E5%A2%9E%E5%8A%A0.png](attachment:1626630769-qJimuE-%E5%A2%9E%E5%8A%A0.png)\n",
    "\n",
    "left向右滑动一步，就要用k加上对应的蓝色部分的面积，这一步是保证滑动窗口的整体右移。\n",
    "\n",
    "![1626630780-mgAuPx-%E5%87%8F%E5%B0%91.png](attachment:1626630780-mgAuPx-%E5%87%8F%E5%B0%91.png)\n",
    "\n",
    "Question：为什么left不用一直向右滑动直到k大于0呢？\n",
    "\n",
    "Answer：因为我们的答案是找出最大可能频数，也就是滑动窗口的大小。如果left一直向右滑动的话，那么会找到比原来更小的答案，但是这样的答案不是我们所需要的。换句话说就是滑动窗口的大小只增不减。\n",
    "\n",
    "#### 本题解和图片出处：\n",
    "\n",
    "作者：AuthenticMan\n",
    "\n",
    "链接：https://leetcode-cn.com/problems/frequency-of-the-most-frequent-element/solution/pai-xu-hua-dong-chuang-kou-tu-jie-by-aut-62jj/\n",
    "\n",
    "来源：力扣（LeetCode）\n",
    "\n",
    "著作权归作者所有。商业转载请联系作者获得授权，非商业转载请注明出处。"
   ]
  },
  {
   "cell_type": "code",
   "execution_count": 1,
   "metadata": {},
   "outputs": [],
   "source": [
    "def maxFrequency(nums, k: int) -> int:\n",
    "    nums.sort()\n",
    "    n = len(nums)\n",
    "    l, r = 0, 1\n",
    "    ret = 1\n",
    "    while r < n:\n",
    "        # 右边右移，需要消耗(nums[r] - nums[r-1]) * (r-l)\n",
    "        k-= (nums[r] - nums[r-1]) * (r-l)\n",
    "        if k >= 0:\n",
    "            ret = r-l + 1\n",
    "        else:\n",
    "            # k不足以右移，则左边右移，则可以恢复左边右移前右边和左边的差\n",
    "            k += (nums[r] - nums[l])\n",
    "            l += 1\n",
    "        r+=1\n",
    "    return ret"
   ]
  },
  {
   "cell_type": "code",
   "execution_count": 2,
   "metadata": {},
   "outputs": [
    {
     "data": {
      "text/plain": [
       "3"
      ]
     },
     "execution_count": 2,
     "metadata": {},
     "output_type": "execute_result"
    }
   ],
   "source": [
    "maxFrequency(nums = [1,2,4], k = 5)"
   ]
  },
  {
   "cell_type": "code",
   "execution_count": 3,
   "metadata": {},
   "outputs": [
    {
     "data": {
      "text/plain": [
       "2"
      ]
     },
     "execution_count": 3,
     "metadata": {},
     "output_type": "execute_result"
    }
   ],
   "source": [
    "maxFrequency(nums = [1,4,8,13], k = 5)"
   ]
  },
  {
   "cell_type": "code",
   "execution_count": 4,
   "metadata": {},
   "outputs": [
    {
     "data": {
      "text/plain": [
       "1"
      ]
     },
     "execution_count": 4,
     "metadata": {},
     "output_type": "execute_result"
    }
   ],
   "source": [
    "maxFrequency(nums = [3,9,6], k = 2)"
   ]
  },
  {
   "cell_type": "code",
   "execution_count": null,
   "metadata": {},
   "outputs": [],
   "source": []
  }
 ],
 "metadata": {
  "kernelspec": {
   "display_name": "Python 3",
   "language": "python",
   "name": "python3"
  },
  "language_info": {
   "codemirror_mode": {
    "name": "ipython",
    "version": 3
   },
   "file_extension": ".py",
   "mimetype": "text/x-python",
   "name": "python",
   "nbconvert_exporter": "python",
   "pygments_lexer": "ipython3",
   "version": "3.6.5"
  }
 },
 "nbformat": 4,
 "nbformat_minor": 2
}
