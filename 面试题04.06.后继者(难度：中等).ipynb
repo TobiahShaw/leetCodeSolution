{
 "cells": [
  {
   "cell_type": "markdown",
   "metadata": {},
   "source": [
    "# 后继者\n",
    "\n",
    "**题目来源：力扣（LeetCode）**\n",
    "\n",
    "**链接：https://leetcode.cn/problems/successor-lcci/**\n",
    "\n",
    "## 一、题目\n",
    "\n",
    "设计一个算法，找出二叉搜索树中指定节点的“下一个”节点（也即中序后继）。\n",
    "\n",
    "如果指定节点没有对应的“下一个”节点，则返回null。\n",
    "\n",
    "## 二、示例\n",
    "\n",
    "### 示例 1：\n",
    "\n",
    "输入: root = [2,1,3], p = 1\n",
    "\n",
    "```\n",
    "  2\n",
    " / \\\n",
    "1   3\n",
    "```\n",
    "\n",
    "输出: 2\n",
    "\n",
    "### 示例 2:\n",
    "\n",
    "输入: root = [5,3,6,2,4,null,null,1], p = 6\n",
    "\n",
    "```\n",
    "      5\n",
    "     / \\\n",
    "    3   6\n",
    "   / \\\n",
    "  2   4\n",
    " /   \n",
    "1\n",
    "```\n",
    "\n",
    "输出: null\n",
    "\n",
    "## 三、解题思路"
   ]
  },
  {
   "cell_type": "code",
   "execution_count": 1,
   "metadata": {},
   "outputs": [],
   "source": [
    "class TreeNode:\n",
    "    def __init__(self, x):\n",
    "        self.val = x\n",
    "        self.left = None\n",
    "        self.right = None"
   ]
  },
  {
   "cell_type": "markdown",
   "metadata": {},
   "source": [
    "### 中序遍历"
   ]
  },
  {
   "cell_type": "code",
   "execution_count": 2,
   "metadata": {},
   "outputs": [],
   "source": [
    "def inorderSuccessor(root: TreeNode, p: TreeNode) -> TreeNode:\n",
    "    stack, pre, cur = [], None, root\n",
    "    while stack or cur:\n",
    "        while cur:\n",
    "            stack.append(cur)\n",
    "            cur = cur.left\n",
    "        cur = stack.pop()\n",
    "        if pre == p:\n",
    "            return cur\n",
    "        pre = cur\n",
    "        cur = cur.right\n",
    "    return None"
   ]
  },
  {
   "cell_type": "code",
   "execution_count": null,
   "metadata": {},
   "outputs": [],
   "source": []
  }
 ],
 "metadata": {
  "kernelspec": {
   "display_name": "Python 3",
   "language": "python",
   "name": "python3"
  },
  "language_info": {
   "codemirror_mode": {
    "name": "ipython",
    "version": 3
   },
   "file_extension": ".py",
   "mimetype": "text/x-python",
   "name": "python",
   "nbconvert_exporter": "python",
   "pygments_lexer": "ipython3",
   "version": "3.6.5"
  }
 },
 "nbformat": 4,
 "nbformat_minor": 2
}
