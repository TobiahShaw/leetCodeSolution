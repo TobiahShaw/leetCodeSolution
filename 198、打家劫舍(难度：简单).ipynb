{
  "cells": [
    {
      "metadata": {
        "collapsed": true
      },
      "cell_type": "markdown",
      "source": "# 打家劫舍\n\n**题目来源：力扣（LeetCode）**\n\n**链接：https://leetcode-cn.com/problems/house-robber/**\n\n## 一、题目\n\n你是一个专业的小偷，计划偷窃沿街的房屋。每间房内都藏有一定的现金，影响你偷窃的唯一制约因素就是相邻的房屋装有相互连通的防盗系统，如果两间相邻的房屋在同一晚上被小偷闯入，系统会自动报警。\n\n给定一个代表每个房屋存放金额的非负整数数组，计算你在不触动警报装置的情况下，能够偷窃到的最高金额。\n\n## 二、示例\n\n### 示例 1:\n\n输入: [1,2,3,1]\n\n输出: 4\n\n解释: 偷窃 1 号房屋 (金额 = 1) ，然后偷窃 3 号房屋 (金额 = 3)。偷窃到的最高金额 = 1 + 3 = 4 。\n\n### 示例 2:\n\n输入: [2,7,9,3,1]\n\n输出: 12\n\n解释: 偷窃 1 号房屋 (金额 = 2), 偷窃 3 号房屋 (金额 = 9)，接着偷窃 5 号房屋 (金额 = 1)。偷窃到的最高金额 = 2 + 9 + 1 = 12 。\n\n## 解题思路\n\n### 动态规划\n\nf(k) = 从前 k 个房屋中能抢劫到的最大数额，$ A_i$ = 第 i 个房屋的钱数。\n\n首先看 $ n = 1 $ 的情况，显然 $ f(1) = A_1 $ 。\n\n再看 $ n = 2，f(2) = max(A_1, A_2) $ 。\n\n对于 $ n = 3 $ ，有两个选项:\n\n- 抢第三个房子，将数额与第一个房子相加。\n\n- 不抢第三个房子，保持现有最大数额。\n\n显然，你想选择数额更大的选项。于是，可以总结出公式：$ f(k) = max(f(k – 2) + A_k, f(k – 1)) $"
    },
    {
      "metadata": {
        "trusted": true
      },
      "cell_type": "code",
      "source": "def rob(nums):\n    curMax, preMax = 0, 0\n    for i in nums:\n        temp = curMax;\n        curMax = max(preMax + i, curMax);\n        preMax = temp;\n    return curMax",
      "execution_count": 1,
      "outputs": []
    },
    {
      "metadata": {
        "trusted": true
      },
      "cell_type": "code",
      "source": "rob([1,2,3,1])",
      "execution_count": 2,
      "outputs": [
        {
          "output_type": "execute_result",
          "execution_count": 2,
          "data": {
            "text/plain": "4"
          },
          "metadata": {}
        }
      ]
    },
    {
      "metadata": {
        "trusted": true
      },
      "cell_type": "code",
      "source": "rob([2,7,9,3,1])",
      "execution_count": 3,
      "outputs": [
        {
          "output_type": "execute_result",
          "execution_count": 3,
          "data": {
            "text/plain": "12"
          },
          "metadata": {}
        }
      ]
    },
    {
      "metadata": {
        "trusted": true
      },
      "cell_type": "code",
      "source": "",
      "execution_count": null,
      "outputs": []
    }
  ],
  "metadata": {
    "kernelspec": {
      "name": "python36",
      "display_name": "Python 3.6",
      "language": "python"
    },
    "language_info": {
      "mimetype": "text/x-python",
      "nbconvert_exporter": "python",
      "name": "python",
      "pygments_lexer": "ipython3",
      "version": "3.6.6",
      "file_extension": ".py",
      "codemirror_mode": {
        "version": 3,
        "name": "ipython"
      }
    }
  },
  "nbformat": 4,
  "nbformat_minor": 2
}