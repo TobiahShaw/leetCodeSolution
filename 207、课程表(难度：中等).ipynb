{
  "cells": [
    {
      "metadata": {
        "collapsed": true
      },
      "cell_type": "markdown",
      "source": "# 课程表\n\n**题目来源：力扣（LeetCode）**\n\n**链接：https://leetcode-cn.com/problems/course-schedule/**\n\n## 一、题目\n\n你这个学期必须选修 numCourse 门课程，记为 0 到 numCourse-1 。\n\n在选修某些课程之前需要一些先修课程。 例如，想要学习课程 0 ，你需要先完成课程 1 ，我们用一个匹配来表示他们：[0,1]\n\n给定课程总量以及它们的先决条件，请你判断是否可能完成所有课程的学习？\n\n## 二、示例\n\n### 示例 1:\n\n输入: 2, [[1,0]] \n\n输出: true\n\n解释: 总共有 2 门课程。学习课程 1 之前，你需要完成课程 0。所以这是可能的。\n\n### 示例 2:\n\n输入: 2, [[1,0],[0,1]]\n\n输出: false\n\n解释: 总共有 2 门课程。学习课程 1 之前，你需要先完成​课程 0；并且学习课程 0 之前，你还应先完成课程 1。这是不可能的。\n\n## 解题思路"
    },
    {
      "metadata": {
        "trusted": true
      },
      "cell_type": "code",
      "source": "",
      "execution_count": null,
      "outputs": []
    }
  ],
  "metadata": {
    "kernelspec": {
      "name": "python36",
      "display_name": "Python 3.6",
      "language": "python"
    },
    "language_info": {
      "mimetype": "text/ x - python",
      "nbconvert_exporter": "python",
      "version": "3.6.0",
      "name": "python",
      "file_extension": ".py",
      "pygments_lexer": "ipython2",
      "codemirror_mode": {
        "version": 2,
        "name": "ipython"
      }
    }
  },
  "nbformat": 4,
  "nbformat_minor": 2
}