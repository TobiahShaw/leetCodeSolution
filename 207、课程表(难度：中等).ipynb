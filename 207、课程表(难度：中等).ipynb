{
  "cells": [
    {
      "metadata": {
        "collapsed": true
      },
      "cell_type": "markdown",
      "source": "# 课程表\n\n**题目来源：力扣（LeetCode）**\n\n**链接：https://leetcode-cn.com/problems/course-schedule/**\n\n## 一、题目\n\n你这个学期必须选修 numCourse 门课程，记为 0 到 numCourse-1 。\n\n在选修某些课程之前需要一些先修课程。 例如，想要学习课程 0 ，你需要先完成课程 1 ，我们用一个匹配来表示他们：[0,1]\n\n给定课程总量以及它们的先决条件，请你判断是否可能完成所有课程的学习？\n\n## 二、示例\n\n### 示例 1:\n\n输入: 2, [[1,0]] \n\n输出: true\n\n解释: 总共有 2 门课程。学习课程 1 之前，你需要完成课程 0。所以这是可能的。\n\n### 示例 2:\n\n输入: 2, [[1,0],[0,1]]\n\n输出: false\n\n解释: 总共有 2 门课程。学习课程 1 之前，你需要先完成​课程 0；并且学习课程 0 之前，你还应先完成课程 1。这是不可能的。\n\n## 解题思路\n\n这个问题可以认为是图是否有环的检测\n\n### 邻接表 + 深搜\n\n- 先构造邻接表来创建课程之间的依赖关系图\n\n- 深度优先搜索图，每个节点设置一个flag， 0代表未访问，-1代表已被别的节点搜索过，1代表本轮搜索中访问了两次\n\n- 终止条件：\n    1. 当 flag[i] == -1，说明当前访问节点已被其他节点启动的 DFS 访问，无需再重复搜索，直接返回 TrueTrue。\n    2. 当 flag[i] == 1，说明在本轮 DFS 搜索中节点 i 被第 22 次访问，即 课程安排图有环 ，直接返回 FalseFalse。\n    \n- 将当前访问节点 i 对应 flag[i] 置 11，即标记其被本轮 DFS 访问过；\n\n- 递归访问当前节点 i 的所有邻接节点 j，当发现环直接返回 FalseFalse；\n\n- 当前节点所有邻接节点已被遍历，并没有发现环，则将当前节点 flag 置为 -1−1 并返回 TrueTrue。"
    },
    {
      "metadata": {
        "trusted": true
      },
      "cell_type": "code",
      "source": "def canFinish(numCourses, prerequisites):\n    def dfs(i, adjacency, flags):\n        if flags[i] == -1: return True\n        if flags[i] == 1: return False\n        flags[i] = 1\n        for j in adjacency[i]:\n            if not dfs(j, adjacency, flags): return False\n        flags[i] = -1\n        return True\n\n    adjacency = [[] for _ in range(numCourses)]\n    flags = [0 for _ in range(numCourses)]\n    for cur, pre in prerequisites:\n        adjacency[pre].append(cur)\n    for i in range(numCourses):\n        if not dfs(i, adjacency, flags): return False\n    return True",
      "execution_count": 1,
      "outputs": []
    },
    {
      "metadata": {
        "trusted": true
      },
      "cell_type": "code",
      "source": "canFinish(2, [[1,0]])",
      "execution_count": 2,
      "outputs": [
        {
          "output_type": "execute_result",
          "execution_count": 2,
          "data": {
            "text/plain": "True"
          },
          "metadata": {}
        }
      ]
    },
    {
      "metadata": {
        "trusted": true
      },
      "cell_type": "code",
      "source": "canFinish(2, [[1,0],[0,1]])",
      "execution_count": 3,
      "outputs": [
        {
          "output_type": "execute_result",
          "execution_count": 3,
          "data": {
            "text/plain": "False"
          },
          "metadata": {}
        }
      ]
    },
    {
      "metadata": {
        "trusted": true
      },
      "cell_type": "code",
      "source": "",
      "execution_count": null,
      "outputs": []
    }
  ],
  "metadata": {
    "kernelspec": {
      "name": "python36",
      "display_name": "Python 3.6",
      "language": "python"
    },
    "language_info": {
      "mimetype": "text/x-python",
      "nbconvert_exporter": "python",
      "name": "python",
      "pygments_lexer": "ipython3",
      "version": "3.6.6",
      "file_extension": ".py",
      "codemirror_mode": {
        "version": 3,
        "name": "ipython"
      }
    }
  },
  "nbformat": 4,
  "nbformat_minor": 2
}