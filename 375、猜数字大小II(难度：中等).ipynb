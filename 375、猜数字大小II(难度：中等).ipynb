{
 "cells": [
  {
   "cell_type": "markdown",
   "metadata": {},
   "source": [
    "# 猜数字大小II\n",
    "\n",
    "**题目来源：力扣（LeetCode）**\n",
    "\n",
    "**链接：https://leetcode-cn.com/problems/guess-number-higher-or-lower-ii/**\n",
    "\n",
    "## 一、题目\n",
    "\n",
    "我们正在玩一个猜数游戏，游戏规则如下：\n",
    "\n",
    "我从 1 到 n 之间选择一个数字，你来猜我选了哪个数字。\n",
    "\n",
    "每次你猜错了，我都会告诉你，我选的数字比你的大了或者小了。\n",
    "\n",
    "然而，当你猜了数字 x 并且猜错了的时候，你需要支付金额为 x 的现金。直到你猜到我选的数字，你才算赢得了这个游戏。\n",
    "\n",
    "## 二、示例\n",
    "\n",
    "n = 10, 我选择了8.\n",
    "\n",
    "第一轮: 你猜我选择的数字是5，我会告诉你，我的数字更大一些，然后你需要支付5块。\n",
    "第二轮: 你猜是7，我告诉你，我的数字更大一些，你支付7块。\n",
    "第三轮: 你猜是9，我告诉你，我的数字更小一些，你支付9块。\n",
    "\n",
    "游戏结束。8 就是我选的数字。\n",
    "\n",
    "你最终要支付 5 + 7 + 9 = 21 块钱。\n",
    "给定 n ≥ 1，计算你至少需要拥有多少现金才能确保你能赢得这个游戏。\n",
    "\n",
    "## 三、解题思路\n",
    "\n",
    "### 动态规划\n",
    "\n",
    "[推荐解析](https://leetcode-cn.com/problems/guess-number-higher-or-lower-ii/solution/xiao-song-man-bu-dong-tai-gui-hua-shou-h-poyk/)"
   ]
  },
  {
   "cell_type": "code",
   "execution_count": 1,
   "metadata": {},
   "outputs": [],
   "source": [
    "def getMoneyAmount(n: int) -> int:\n",
    "    dp = [[0] * (n+1) for _ in range(n+1)]\n",
    "    for i in range(n-1, 0, -1):\n",
    "        for j in range(i+1, n+1):\n",
    "            dp[i][j] = float('inf')\n",
    "            for k in range(i, j):\n",
    "                dp[i][j] = min(dp[i][j], k + max(dp[i][k-1], dp[k+1][j]))\n",
    "    return dp[1][n]"
   ]
  },
  {
   "cell_type": "code",
   "execution_count": 2,
   "metadata": {},
   "outputs": [
    {
     "data": {
      "text/plain": [
       "16"
      ]
     },
     "execution_count": 2,
     "metadata": {},
     "output_type": "execute_result"
    }
   ],
   "source": [
    "getMoneyAmount(10)"
   ]
  },
  {
   "cell_type": "code",
   "execution_count": null,
   "metadata": {},
   "outputs": [],
   "source": []
  }
 ],
 "metadata": {
  "kernelspec": {
   "display_name": "Python 3",
   "language": "python",
   "name": "python3"
  },
  "language_info": {
   "codemirror_mode": {
    "name": "ipython",
    "version": 3
   },
   "file_extension": ".py",
   "mimetype": "text/x-python",
   "name": "python",
   "nbconvert_exporter": "python",
   "pygments_lexer": "ipython3",
   "version": "3.6.5"
  }
 },
 "nbformat": 4,
 "nbformat_minor": 2
}
