{
 "cells": [
  {
   "cell_type": "markdown",
   "metadata": {},
   "source": [
    "# 打印从1到最大的n位数\n",
    "\n",
    "**题目来源：力扣（LeetCode）**\n",
    "\n",
    "**链接：https://leetcode-cn.com/problems/da-yin-cong-1dao-zui-da-de-nwei-shu-lcof/**\n",
    "\n",
    "## 一、题目\n",
    "\n",
    "输入数字 n，按顺序打印出从 1 到最大的 n 位十进制数。比如输入 3，则打印出 1、2、3 一直到最大的 3 位数 999。\n",
    "\n",
    "## 二、示例\n",
    "\n",
    "输入: n = 1\n",
    "\n",
    "输出: [1,2,3,4,5,6,7,8,9]\n",
    "\n",
    "## 三、解题思路\n",
    "\n",
    "### 一、打印1到10的n次方"
   ]
  },
  {
   "cell_type": "code",
   "execution_count": 1,
   "metadata": {},
   "outputs": [],
   "source": [
    "def printNumbers(n: int):\n",
    "    return list(range(1, 10 ** n))"
   ]
  },
  {
   "cell_type": "code",
   "execution_count": 2,
   "metadata": {},
   "outputs": [
    {
     "data": {
      "text/plain": [
       "[1, 2, 3, 4, 5, 6, 7, 8, 9]"
      ]
     },
     "execution_count": 2,
     "metadata": {},
     "output_type": "execute_result"
    }
   ],
   "source": [
    "printNumbers(1)"
   ]
  },
  {
   "cell_type": "markdown",
   "metadata": {},
   "source": [
    "### 二、回溯法\n",
    "\n",
    "兼容大数（需要输出字符串集合）"
   ]
  },
  {
   "cell_type": "code",
   "execution_count": 3,
   "metadata": {},
   "outputs": [],
   "source": [
    "def printNumbers(n: int):\n",
    "    def generate(item, i, result):\n",
    "        if i == n:\n",
    "            new_item = remove_prefix_zero(item)\n",
    "            if new_item:\n",
    "                result.append(int(\"\".join(new_item)))\n",
    "            return\n",
    "        for j in range(0, 10):\n",
    "            item.append(str(j))\n",
    "            generate(item, i+1, result)\n",
    "            item.pop()\n",
    "    def remove_prefix_zero(item):\n",
    "        for i in range(len(item)):\n",
    "            if item[i] != \"0\":\n",
    "                return item[i:]\n",
    "        return []\n",
    "    result = []\n",
    "    generate([], 0, result)\n",
    "    return result"
   ]
  },
  {
   "cell_type": "code",
   "execution_count": 4,
   "metadata": {},
   "outputs": [
    {
     "data": {
      "text/plain": [
       "[1, 2, 3, 4, 5, 6, 7, 8, 9]"
      ]
     },
     "execution_count": 4,
     "metadata": {},
     "output_type": "execute_result"
    }
   ],
   "source": [
    "printNumbers(1)"
   ]
  },
  {
   "cell_type": "code",
   "execution_count": null,
   "metadata": {},
   "outputs": [],
   "source": []
  }
 ],
 "metadata": {
  "kernelspec": {
   "display_name": "Python 3",
   "language": "python",
   "name": "python3"
  },
  "language_info": {
   "codemirror_mode": {
    "name": "ipython",
    "version": 3
   },
   "file_extension": ".py",
   "mimetype": "text/x-python",
   "name": "python",
   "nbconvert_exporter": "python",
   "pygments_lexer": "ipython3",
   "version": "3.6.5"
  }
 },
 "nbformat": 4,
 "nbformat_minor": 2
}
