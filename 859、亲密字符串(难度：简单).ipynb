{
 "cells": [
  {
   "cell_type": "markdown",
   "metadata": {},
   "source": [
    "# 亲密字符串\n",
    "\n",
    "**题目来源：力扣（LeetCode）**\n",
    "\n",
    "**链接：https://leetcode-cn.com/problems/buddy-strings/**\n",
    "\n",
    "## 一、题目\n",
    "\n",
    "给定两个由小写字母构成的字符串 A 和 B ，只要我们可以通过交换 A 中的两个字母得到与 B 相等的结果，就返回 true ；否则返回 false 。\n",
    "\n",
    "## 二、示例\n",
    "\n",
    "### 示例 1：\n",
    "\n",
    "输入： A = \"ab\", B = \"ba\"\n",
    "\n",
    "输出： true\n",
    "\n",
    "### 示例 2：\n",
    "\n",
    "输入： A = \"ab\", B = \"ab\"\n",
    "\n",
    "输出： false\n",
    "\n",
    "### 示例 3:\n",
    "\n",
    "输入： A = \"aa\", B = \"aa\"\n",
    "\n",
    "输出： true\n",
    "\n",
    "### 示例 4：\n",
    "\n",
    "输入： A = \"aaaaaaabc\", B = \"aaaaaaacb\"\n",
    "\n",
    "输出： true\n",
    "\n",
    "### 示例 5：\n",
    "\n",
    "输入： A = \"\", B = \"aa\"\n",
    "\n",
    "输出： false\n",
    "\n",
    "## 三、解题思路\n",
    "\n",
    "### 情况列举"
   ]
  },
  {
   "cell_type": "code",
   "execution_count": 1,
   "metadata": {},
   "outputs": [],
   "source": [
    "def buddyStrings(A: str, B: str) -> bool:\n",
    "    # 不等长肯定不是\n",
    "    if len(A) != len(B):\n",
    "        return False\n",
    "    # 组成不同肯定不是\n",
    "    if sorted(A) != sorted(B):\n",
    "        return False\n",
    "    diff_count = 0\n",
    "    for i in range(len(A)):\n",
    "        if A[i] != B[i]:\n",
    "            diff_count+=1\n",
    "        if diff_count > 2:\n",
    "            return False\n",
    "    # 差异是2个或者是0个但有重复字符则满足条件\n",
    "    return diff_count == 2 or (diff_count == 0 and len(A) - len(set(A)) > 0)"
   ]
  },
  {
   "cell_type": "code",
   "execution_count": 2,
   "metadata": {},
   "outputs": [
    {
     "data": {
      "text/plain": [
       "True"
      ]
     },
     "execution_count": 2,
     "metadata": {},
     "output_type": "execute_result"
    }
   ],
   "source": [
    "buddyStrings(A = \"ab\", B = \"ba\")"
   ]
  },
  {
   "cell_type": "code",
   "execution_count": 3,
   "metadata": {},
   "outputs": [
    {
     "data": {
      "text/plain": [
       "False"
      ]
     },
     "execution_count": 3,
     "metadata": {},
     "output_type": "execute_result"
    }
   ],
   "source": [
    "buddyStrings(A = \"ab\", B = \"ab\")"
   ]
  },
  {
   "cell_type": "code",
   "execution_count": 4,
   "metadata": {},
   "outputs": [
    {
     "data": {
      "text/plain": [
       "True"
      ]
     },
     "execution_count": 4,
     "metadata": {},
     "output_type": "execute_result"
    }
   ],
   "source": [
    "buddyStrings(A = \"aa\", B = \"aa\")"
   ]
  },
  {
   "cell_type": "code",
   "execution_count": 5,
   "metadata": {},
   "outputs": [
    {
     "data": {
      "text/plain": [
       "True"
      ]
     },
     "execution_count": 5,
     "metadata": {},
     "output_type": "execute_result"
    }
   ],
   "source": [
    "buddyStrings(A = \"aaaaaaabc\", B = \"aaaaaaacb\")"
   ]
  },
  {
   "cell_type": "code",
   "execution_count": 6,
   "metadata": {},
   "outputs": [
    {
     "data": {
      "text/plain": [
       "False"
      ]
     },
     "execution_count": 6,
     "metadata": {},
     "output_type": "execute_result"
    }
   ],
   "source": [
    "buddyStrings(A = \"\", B = \"aa\")"
   ]
  },
  {
   "cell_type": "code",
   "execution_count": null,
   "metadata": {},
   "outputs": [],
   "source": []
  }
 ],
 "metadata": {
  "kernelspec": {
   "display_name": "Python 3",
   "language": "python",
   "name": "python3"
  },
  "language_info": {
   "codemirror_mode": {
    "name": "ipython",
    "version": 3
   },
   "file_extension": ".py",
   "mimetype": "text/x-python",
   "name": "python",
   "nbconvert_exporter": "python",
   "pygments_lexer": "ipython3",
   "version": "3.6.5"
  }
 },
 "nbformat": 4,
 "nbformat_minor": 2
}
