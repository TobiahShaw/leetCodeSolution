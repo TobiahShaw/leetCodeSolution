{
  "cells": [
    {
      "metadata": {
        "collapsed": true
      },
      "cell_type": "markdown",
      "source": "# 数据流的中位数\n\n**题目来源：力扣（LeetCode）**\n\n**链接：https://leetcode-cn.com/problems/find-median-from-data-stream/**\n\n## 一、题目\n\n中位数是有序列表中间的数。如果列表长度是偶数，中位数则是中间两个数的平均值。\n\n例如，\n\n[2,3,4] 的中位数是 3\n\n[2,3] 的中位数是 (2 + 3) / 2 = 2.5\n\n设计一个支持以下两种操作的数据结构：\n\n- void addNum(int num) - 从数据流中添加一个整数到数据结构中。\n- double findMedian() - 返回目前所有元素的中位数。\n\n## 二、示例\n\n### 示例 1:\n\naddNum(1)\n\naddNum(2)\n\nfindMedian() -> 1.5\n\naddNum(3) \n\nfindMedian() -> 2\n\n## 三、解题思路\n\n### 一、简单排序\n\n在findMedian时进行排序"
    },
    {
      "metadata": {
        "trusted": true
      },
      "cell_type": "code",
      "source": "class MedianFinder:\n\n    def __init__(self):\n        \"\"\"\n        initialize your data structure here.\n        \"\"\"\n        self._data = []\n\n    def addNum(self, num: int) -> None:\n        self._data.append(num)\n\n    def findMedian(self) -> float:\n        size = len(self._data)\n        self._data = sorted(self._data)\n        if size == 0:\n            return 0\n        if size % 2 == 0:\n            return (self._data[size // 2] + self._data[size // 2 - 1]) / 2\n        else:\n            return self._data[size // 2]",
      "execution_count": 1,
      "outputs": []
    },
    {
      "metadata": {
        "trusted": true
      },
      "cell_type": "code",
      "source": "mf = MedianFinder()\nmf.addNum(1)\nmf.addNum(2)\nmf.findMedian()",
      "execution_count": 2,
      "outputs": [
        {
          "output_type": "execute_result",
          "execution_count": 2,
          "data": {
            "text/plain": "1.5"
          },
          "metadata": {}
        }
      ]
    },
    {
      "metadata": {
        "trusted": true
      },
      "cell_type": "code",
      "source": "mf.addNum(3)\nmf.findMedian()",
      "execution_count": 3,
      "outputs": [
        {
          "output_type": "execute_result",
          "execution_count": 3,
          "data": {
            "text/plain": "2"
          },
          "metadata": {}
        }
      ]
    },
    {
      "metadata": {},
      "cell_type": "markdown",
      "source": "### 二、插入排序\n\n在addNum的时候进行排序"
    },
    {
      "metadata": {
        "trusted": true
      },
      "cell_type": "code",
      "source": "import bisect\n\nclass MedianFinder:\n\n    def __init__(self):\n        \"\"\"\n        initialize your data structure here.\n        \"\"\"\n        self._data = []\n\n    def addNum(self, num: int) -> None:\n        if self._data:\n            bisect.insort_left(self._data, num) # 插入\n        else:\n            self._data.append(num)\n\n    def findMedian(self) -> float:\n        size = len(self._data)\n        if size == 0:\n            return 0\n        if size % 2 == 0:\n            return (self._data[size // 2] + self._data[size // 2 - 1]) / 2\n        else:\n            return self._data[size // 2]",
      "execution_count": 4,
      "outputs": []
    },
    {
      "metadata": {
        "trusted": true
      },
      "cell_type": "code",
      "source": "mf = MedianFinder()\nmf.addNum(1)\nmf.addNum(2)\nmf.findMedian()",
      "execution_count": 5,
      "outputs": [
        {
          "output_type": "execute_result",
          "execution_count": 5,
          "data": {
            "text/plain": "1.5"
          },
          "metadata": {}
        }
      ]
    },
    {
      "metadata": {
        "trusted": true
      },
      "cell_type": "code",
      "source": "mf.addNum(3)\nmf.findMedian()",
      "execution_count": 6,
      "outputs": [
        {
          "output_type": "execute_result",
          "execution_count": 6,
          "data": {
            "text/plain": "2"
          },
          "metadata": {}
        }
      ]
    },
    {
      "metadata": {},
      "cell_type": "markdown",
      "source": "### 利用两个堆\n\n- 实例化一个大顶堆、一个小顶堆\n- addNum时，保持两个堆的规模平衡或接近平衡\n- 大顶堆存放整个数据较小的一部分，小顶堆存放整个数据较大的一部分\n- 则堆顶的某个为中位数或者两个堆顶的平均值为中位数\n\n这里利用了大小顶堆的性质，大顶堆存放小数据则堆顶为小数据的最大值，小顶堆亦然。则两个堆的堆顶为最中间的两个数。"
    },
    {
      "metadata": {
        "trusted": true
      },
      "cell_type": "code",
      "source": "import heapq\nclass MedianFinder:\n\n    def __init__(self):\n        \"\"\"\n        initialize your data structure here.\n        \"\"\"\n        self.max_heap = []\n        self.min_heap = []\n\n    def addNum(self, num: int) -> None:\n        if len(self.max_heap) == len(self.min_heap):# 先加到大顶堆，再把大堆顶元素加到小顶堆\n            heapq.heappush(self.min_heap, -heapq.heappushpop(self.max_heap, -num))\n        else:  # 先加到小顶堆，再把小堆顶元素加到大顶堆\n            heapq.heappush(self.max_heap, -heapq.heappushpop(self.min_heap, num))\n\n    def findMedian(self) -> float:\n        if len(self.min_heap) == len(self.max_heap):\n            return (-self.max_heap[0] + self.min_heap[0]) / 2\n        else:\n            return self.min_heap[0]",
      "execution_count": 7,
      "outputs": []
    },
    {
      "metadata": {
        "trusted": true
      },
      "cell_type": "code",
      "source": "mf = MedianFinder()\nmf.addNum(1)\nmf.addNum(2)\nmf.findMedian()",
      "execution_count": 8,
      "outputs": [
        {
          "output_type": "execute_result",
          "execution_count": 8,
          "data": {
            "text/plain": "1.5"
          },
          "metadata": {}
        }
      ]
    },
    {
      "metadata": {
        "trusted": true
      },
      "cell_type": "code",
      "source": "mf.addNum(3)\nmf.findMedian()",
      "execution_count": 9,
      "outputs": [
        {
          "output_type": "execute_result",
          "execution_count": 9,
          "data": {
            "text/plain": "2"
          },
          "metadata": {}
        }
      ]
    },
    {
      "metadata": {
        "trusted": true
      },
      "cell_type": "code",
      "source": "",
      "execution_count": null,
      "outputs": []
    }
  ],
  "metadata": {
    "kernelspec": {
      "name": "python36",
      "display_name": "Python 3.6",
      "language": "python"
    },
    "language_info": {
      "mimetype": "text/x-python",
      "nbconvert_exporter": "python",
      "name": "python",
      "pygments_lexer": "ipython3",
      "version": "3.6.6",
      "file_extension": ".py",
      "codemirror_mode": {
        "version": 3,
        "name": "ipython"
      }
    }
  },
  "nbformat": 4,
  "nbformat_minor": 2
}