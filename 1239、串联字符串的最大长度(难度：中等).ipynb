{
 "cells": [
  {
   "cell_type": "markdown",
   "metadata": {},
   "source": [
    "# 串联字符串的最大长度\n",
    "\n",
    "**题目来源：力扣（LeetCode）**\n",
    "\n",
    "**链接：https://leetcode-cn.com/problems/maximum-length-of-a-concatenated-string-with-unique-characters/**\n",
    "\n",
    "## 一、题目\n",
    "\n",
    "给定一个字符串数组 arr，字符串 s 是将 arr 某一子序列字符串连接所得的字符串，如果 s 中的每一个字符都只出现过一次，那么它就是一个可行解。\n",
    "\n",
    "请返回所有可行解 s 中最长长度。\n",
    "\n",
    "### 提示：\n",
    "\n",
    "- 1 <= arr.length <= 16\n",
    "- 1 <= arr[i].length <= 26\n",
    "- arr[i] 中只含有小写英文字母\n",
    "\n",
    "## 二、示例\n",
    "\n",
    "### 示例 1：\n",
    "\n",
    "输入：arr = [\"un\",\"iq\",\"ue\"]\n",
    "\n",
    "输出：4\n",
    "\n",
    "解释：所有可能的串联组合是 \"\",\"un\",\"iq\",\"ue\",\"uniq\" 和 \"ique\"，最大长度为 4。\n",
    "\n",
    "### 示例 2：\n",
    "\n",
    "输入：arr = [\"cha\",\"r\",\"act\",\"ers\"]\n",
    "\n",
    "输出：6\n",
    "\n",
    "解释：可能的解答有 \"chaers\" 和 \"acters\"。\n",
    "\n",
    "### 示例 3：\n",
    "\n",
    "输入：arr = [\"abcdefghijklmnopqrstuvwxyz\"]\n",
    "\n",
    "输出：26\n",
    "\n",
    "## 三、解题思路\n",
    "\n",
    "### 过滤+回溯"
   ]
  },
  {
   "cell_type": "code",
   "execution_count": 1,
   "metadata": {},
   "outputs": [],
   "source": [
    "def maxLength(arr) -> int:\n",
    "    t = []\n",
    "    for s in arr:\n",
    "        if len(set(s)) == len(s):\n",
    "            t.append(s)\n",
    "    arr = t[:]\n",
    "    def backtrace(i, tmp):\n",
    "        if i >= len(arr):\n",
    "            return len(tmp)\n",
    "        else:\n",
    "            if not (set(tmp) & set(arr[i])):\n",
    "                return max(backtrace(i+1,tmp+arr[i]),backtrace(i+1,tmp))\n",
    "            else:\n",
    "                return backtrace(i + 1, tmp)\n",
    "    l=backtrace(0,'')\n",
    "    return l"
   ]
  },
  {
   "cell_type": "code",
   "execution_count": 2,
   "metadata": {},
   "outputs": [
    {
     "data": {
      "text/plain": [
       "4"
      ]
     },
     "execution_count": 2,
     "metadata": {},
     "output_type": "execute_result"
    }
   ],
   "source": [
    "maxLength([\"un\",\"iq\",\"ue\"])"
   ]
  },
  {
   "cell_type": "code",
   "execution_count": 3,
   "metadata": {},
   "outputs": [
    {
     "data": {
      "text/plain": [
       "6"
      ]
     },
     "execution_count": 3,
     "metadata": {},
     "output_type": "execute_result"
    }
   ],
   "source": [
    "maxLength([\"cha\",\"r\",\"act\",\"ers\"])"
   ]
  },
  {
   "cell_type": "code",
   "execution_count": 4,
   "metadata": {},
   "outputs": [
    {
     "data": {
      "text/plain": [
       "26"
      ]
     },
     "execution_count": 4,
     "metadata": {},
     "output_type": "execute_result"
    }
   ],
   "source": [
    "maxLength([\"abcdefghijklmnopqrstuvwxyz\"])"
   ]
  },
  {
   "cell_type": "code",
   "execution_count": null,
   "metadata": {},
   "outputs": [],
   "source": []
  }
 ],
 "metadata": {
  "kernelspec": {
   "display_name": "Python 3",
   "language": "python",
   "name": "python3"
  },
  "language_info": {
   "codemirror_mode": {
    "name": "ipython",
    "version": 3
   },
   "file_extension": ".py",
   "mimetype": "text/x-python",
   "name": "python",
   "nbconvert_exporter": "python",
   "pygments_lexer": "ipython3",
   "version": "3.6.5"
  }
 },
 "nbformat": 4,
 "nbformat_minor": 2
}
