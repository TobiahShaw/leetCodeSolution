{
  "cells": [
    {
      "metadata": {
        "collapsed": true
      },
      "cell_type": "markdown",
      "source": "# 二叉树的堂兄弟节点\n\n**题目来源：力扣（LeetCode）**\n\n**链接：https://leetcode-cn.com/problems/cousins-in-binary-tree/**\n\n## 一、题目\n\n在二叉树中，根节点位于深度 0 处，每个深度为 k 的节点的子节点位于深度 k+1 处。\n\n如果二叉树的两个节点深度相同，但父节点不同，则它们是一对堂兄弟节点。\n\n我们给出了具有唯一值的二叉树的根节点 root，以及树中两个不同节点的值 x 和 y。\n\n只有与值 x 和 y 对应的节点是堂兄弟节点时，才返回 true。否则，返回 false。\n\n## 二、示例\n\n### 示例 1:\n\n```\n    1\n   / \\\n  2   3\n /\n4\n```\n\n输入：root = [1,2,3,4], x = 4, y = 3\n\n输出：false\n\n### 示例 2:\n\n```\n    1\n   / \\\n  2   3\n   \\   \\\n    4   5\n```\n\n输入：root = [1,2,3,null,4,null,5], x = 5, y = 4\n\n输出：true\n\n### 示例 3:\n\n```\n    1\n   / \\\n  2   3\n   \\ \n    4\n```\n\n输入：root = [1,2,3,null,4], x = 2, y = 3\n\n输出：false\n\n## 三、解题思路\n\n### 搜索\n\n- 遍历二叉树到两个节点都搜索到\n- 对比两个节点的父节点和深度"
    },
    {
      "metadata": {
        "trusted": true
      },
      "cell_type": "code",
      "source": "class TreeNode:\n    def __init__(self, x):\n        self.val = x\n        self.left = None\n        self.right = None\n\nroot1 = TreeNode(1)\n\nroot1.left = TreeNode(2)\nroot1.right = TreeNode(3)\n\nroot1.left.left = TreeNode(4)\n\nroot2 = TreeNode(1)\n\nroot2.left = TreeNode(2)\nroot2.right = TreeNode(3)\n\nroot2.left.right = TreeNode(4)\nroot2.right.right = TreeNode(5)\n\nroot3 = TreeNode(1)\n\nroot3.left = TreeNode(2)\nroot3.right = TreeNode(3)\n\nroot3.left.right = TreeNode(4)",
      "execution_count": 1,
      "outputs": []
    },
    {
      "metadata": {
        "trusted": true
      },
      "cell_type": "code",
      "source": "def isCousins(root: TreeNode, x: int, y: int) -> bool:\n    def generate(parent, node, depth, result):\n        if not node:\n            return\n        if node.val == x or node.val == y:\n            result.append([depth, parent])\n        if len(result) == 2:\n            return\n        generate(node, node.left, depth + 1, result)\n        generate(node, node.right, depth + 1, result)\n    result = []\n    generate(None, root, 1, result)\n    return result[0][0] == result[1][0] and result[0][1] != result[1][1]",
      "execution_count": 2,
      "outputs": []
    },
    {
      "metadata": {
        "trusted": true
      },
      "cell_type": "code",
      "source": "isCousins(root1, 4, 3)",
      "execution_count": 3,
      "outputs": [
        {
          "output_type": "execute_result",
          "execution_count": 3,
          "data": {
            "text/plain": "False"
          },
          "metadata": {}
        }
      ]
    },
    {
      "metadata": {
        "trusted": true
      },
      "cell_type": "code",
      "source": "isCousins(root2, 4, 5)",
      "execution_count": 4,
      "outputs": [
        {
          "output_type": "execute_result",
          "execution_count": 4,
          "data": {
            "text/plain": "True"
          },
          "metadata": {}
        }
      ]
    },
    {
      "metadata": {
        "trusted": true
      },
      "cell_type": "code",
      "source": "isCousins(root3, 2, 3)",
      "execution_count": 5,
      "outputs": [
        {
          "output_type": "execute_result",
          "execution_count": 5,
          "data": {
            "text/plain": "False"
          },
          "metadata": {}
        }
      ]
    },
    {
      "metadata": {
        "trusted": true
      },
      "cell_type": "code",
      "source": "",
      "execution_count": null,
      "outputs": []
    }
  ],
  "metadata": {
    "kernelspec": {
      "name": "python36",
      "display_name": "Python 3.6",
      "language": "python"
    },
    "language_info": {
      "mimetype": "text/x-python",
      "nbconvert_exporter": "python",
      "name": "python",
      "pygments_lexer": "ipython3",
      "version": "3.6.6",
      "file_extension": ".py",
      "codemirror_mode": {
        "version": 3,
        "name": "ipython"
      }
    }
  },
  "nbformat": 4,
  "nbformat_minor": 2
}