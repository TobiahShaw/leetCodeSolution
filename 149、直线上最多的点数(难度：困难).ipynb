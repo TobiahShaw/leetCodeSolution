{
 "cells": [
  {
   "cell_type": "markdown",
   "metadata": {},
   "source": [
    "# 直线上最多的点数\n",
    "\n",
    "**题目来源：力扣（LeetCode）**\n",
    "\n",
    "**链接：https://leetcode-cn.com/problems/max-points-on-a-line/**\n",
    "\n",
    "## 一、题目\n",
    "\n",
    "给你一个数组 points ，其中 points[i] = [xi, yi] 表示 X-Y 平面上的一个点。求最多有多少个点在同一条直线上。\n",
    "\n",
    "## 二、示例\n",
    "\n",
    "### 示例 1：\n",
    "\n",
    "输入：points = [[1,1],[2,2],[3,3]]\n",
    "\n",
    "输出：3\n",
    "\n",
    "### 示例 2：\n",
    "\n",
    "输入：points = [[1,1],[3,2],[5,3],[4,1],[2,3],[1,4]]\n",
    "\n",
    "输出：4\n",
    "\n",
    "## 三、解题思路\n",
    "\n",
    "### 利用斜率\n",
    "\n",
    "- 遍历每个点，求其他点到此点的斜率\n",
    "- 斜率相同则的点与此点再同一条直线上\n",
    "- 找出斜率相同最多情况的点，即为结果"
   ]
  },
  {
   "cell_type": "code",
   "execution_count": 1,
   "metadata": {},
   "outputs": [],
   "source": [
    "def maxPoints(points) -> int:\n",
    "    res = 0\n",
    "    if not points:\n",
    "        return res\n",
    "    for i in range(len(points)):\n",
    "        dic = {}\n",
    "        same = 0\n",
    "        curMax = 0\n",
    "        for j in range(i+1, len(points)):\n",
    "            if points[i] == points[j]:\n",
    "                same += 1\n",
    "                continue\n",
    "            if (points[i][0] - points[j][0]) == 0:\n",
    "                rate = float('inf')\n",
    "            else:\n",
    "                # * 1000 为了提高精度\n",
    "                rate = (points[i][1] - points[j][1]) * 1000 / (points[i][0] - points[j][0]) * 1000\n",
    "            # 加一代表计入当前点\n",
    "            dic[rate] = dic.get(rate, 0) + 1\n",
    "            curMax = max(curMax, dic[rate])\n",
    "        res = max(res, curMax+same+1)\n",
    "    return res"
   ]
  },
  {
   "cell_type": "code",
   "execution_count": 2,
   "metadata": {},
   "outputs": [
    {
     "data": {
      "text/plain": [
       "3"
      ]
     },
     "execution_count": 2,
     "metadata": {},
     "output_type": "execute_result"
    }
   ],
   "source": [
    "maxPoints([[1,1],[2,2],[3,3]])"
   ]
  },
  {
   "cell_type": "code",
   "execution_count": 3,
   "metadata": {},
   "outputs": [
    {
     "data": {
      "text/plain": [
       "4"
      ]
     },
     "execution_count": 3,
     "metadata": {},
     "output_type": "execute_result"
    }
   ],
   "source": [
    "maxPoints([[1,1],[3,2],[5,3],[4,1],[2,3],[1,4]])"
   ]
  },
  {
   "cell_type": "code",
   "execution_count": null,
   "metadata": {},
   "outputs": [],
   "source": []
  }
 ],
 "metadata": {
  "kernelspec": {
   "display_name": "Python 3",
   "language": "python",
   "name": "python3"
  },
  "language_info": {
   "codemirror_mode": {
    "name": "ipython",
    "version": 3
   },
   "file_extension": ".py",
   "mimetype": "text/x-python",
   "name": "python",
   "nbconvert_exporter": "python",
   "pygments_lexer": "ipython3",
   "version": "3.6.5"
  }
 },
 "nbformat": 4,
 "nbformat_minor": 2
}
