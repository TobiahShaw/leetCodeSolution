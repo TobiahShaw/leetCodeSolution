{
  "cells": [
    {
      "metadata": {
        "collapsed": true
      },
      "cell_type": "markdown",
      "source": "# 最后一个单词的长度\n\n**题目来源：力扣（LeetCode）**\n\n**链接：https://leetcode-cn.com/problems/length-of-last-word/**\n\n## 一、题目\n\n给定一个仅包含大小写字母和空格 ' ' 的字符串 s，返回其最后一个单词的长度。\n\n如果字符串从左向右滚动显示，那么最后一个单词就是最后出现的单词。\n\n如果不存在最后一个单词，请返回 0 。\n\n说明：一个单词是指仅由字母组成、不包含任何空格的 最大子字符串。\n\n## 二、示例\n\n输入: \"Hello World\"\n\n输出: 5\n\n## 三、解题思路\n\n### 模拟\n\n从后向前遍历遇到第一个非空格开始计数，到下一个空格为止。"
    },
    {
      "metadata": {
        "trusted": true
      },
      "cell_type": "code",
      "source": "def lengthOfLastWord(s):\n    res = 0\n    first = False\n    for i in range(len(s) - 1, -1, -1):\n        if s[i] == ' ':\n            if first:\n                break\n            else:\n                continue\n        else:\n            first = True\n            res += 1\n    return res",
      "execution_count": 1,
      "outputs": []
    },
    {
      "metadata": {
        "trusted": true
      },
      "cell_type": "code",
      "source": "lengthOfLastWord(\"Hello World\")",
      "execution_count": 2,
      "outputs": [
        {
          "output_type": "execute_result",
          "execution_count": 2,
          "data": {
            "text/plain": "5"
          },
          "metadata": {}
        }
      ]
    },
    {
      "metadata": {
        "trusted": true
      },
      "cell_type": "code",
      "source": "lengthOfLastWord(\"Hello World \")",
      "execution_count": 3,
      "outputs": [
        {
          "output_type": "execute_result",
          "execution_count": 3,
          "data": {
            "text/plain": "5"
          },
          "metadata": {}
        }
      ]
    },
    {
      "metadata": {
        "trusted": true
      },
      "cell_type": "code",
      "source": "lengthOfLastWord(\"Hello World                         \")",
      "execution_count": 4,
      "outputs": [
        {
          "output_type": "execute_result",
          "execution_count": 4,
          "data": {
            "text/plain": "5"
          },
          "metadata": {}
        }
      ]
    },
    {
      "metadata": {
        "trusted": true
      },
      "cell_type": "code",
      "source": "",
      "execution_count": null,
      "outputs": []
    }
  ],
  "metadata": {
    "kernelspec": {
      "name": "python36",
      "display_name": "Python 3.6",
      "language": "python"
    },
    "language_info": {
      "mimetype": "text/x-python",
      "nbconvert_exporter": "python",
      "name": "python",
      "pygments_lexer": "ipython3",
      "version": "3.6.6",
      "file_extension": ".py",
      "codemirror_mode": {
        "version": 3,
        "name": "ipython"
      }
    }
  },
  "nbformat": 4,
  "nbformat_minor": 2
}