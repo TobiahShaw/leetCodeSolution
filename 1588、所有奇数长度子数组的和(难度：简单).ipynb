{
 "cells": [
  {
   "cell_type": "markdown",
   "metadata": {},
   "source": [
    "# 所有奇数长度子数组的和\n",
    "\n",
    "**题目来源：力扣（LeetCode）**\n",
    "\n",
    "**链接：https://leetcode-cn.com/problems/sum-of-all-odd-length-subarrays/**\n",
    "\n",
    "## 一、题目\n",
    "\n",
    "给你一个正整数数组 arr ，请你计算所有可能的奇数长度子数组的和。\n",
    "\n",
    "子数组 定义为原数组中的一个连续子序列。\n",
    "\n",
    "请你返回 arr 中 所有奇数长度子数组的和 。\n",
    "\n",
    "## 二、示例\n",
    "\n",
    "### 示例 1：\n",
    "\n",
    "输入：arr = [1,4,2,5,3]\n",
    "\n",
    "输出：58\n",
    "\n",
    "解释：所有奇数长度子数组和它们的和为：\n",
    "```\n",
    "[1] = 1\n",
    "[4] = 4\n",
    "[2] = 2\n",
    "[5] = 5\n",
    "[3] = 3\n",
    "[1,4,2] = 7\n",
    "[4,2,5] = 11\n",
    "[2,5,3] = 10\n",
    "[1,4,2,5,3] = 15\n",
    "```\n",
    "我们将所有值求和得到 1 + 4 + 2 + 5 + 3 + 7 + 11 + 10 + 15 = 58\n",
    "\n",
    "### 示例 2：\n",
    "\n",
    "输入：arr = [1,2]\n",
    "\n",
    "输出：3\n",
    "\n",
    "解释：总共只有 2 个长度为奇数的子数组，[1] 和 [2]。它们的和为 3 。\n",
    "\n",
    "### 示例 3：\n",
    "\n",
    "输入：arr = [10,11,12]\n",
    "\n",
    "输出：66\n",
    "\n",
    "## 三、解题思路\n",
    "\n",
    "### 枚举子数组的起点终点后求和"
   ]
  },
  {
   "cell_type": "code",
   "execution_count": 1,
   "metadata": {},
   "outputs": [],
   "source": [
    "def sumOddLengthSubarrays(arr) -> int:\n",
    "    ret = 0\n",
    "    n = len(arr)\n",
    "    for i in range(n):\n",
    "        for j in range(i+1, n+1):\n",
    "            if (j - i) % 2 == 1:\n",
    "                ret += sum(arr[i:j])\n",
    "    return ret"
   ]
  },
  {
   "cell_type": "code",
   "execution_count": 2,
   "metadata": {},
   "outputs": [
    {
     "data": {
      "text/plain": [
       "58"
      ]
     },
     "execution_count": 2,
     "metadata": {},
     "output_type": "execute_result"
    }
   ],
   "source": [
    "sumOddLengthSubarrays([1,4,2,5,3])"
   ]
  },
  {
   "cell_type": "code",
   "execution_count": 3,
   "metadata": {},
   "outputs": [
    {
     "data": {
      "text/plain": [
       "3"
      ]
     },
     "execution_count": 3,
     "metadata": {},
     "output_type": "execute_result"
    }
   ],
   "source": [
    "sumOddLengthSubarrays([1,2])"
   ]
  },
  {
   "cell_type": "code",
   "execution_count": 4,
   "metadata": {},
   "outputs": [
    {
     "data": {
      "text/plain": [
       "66"
      ]
     },
     "execution_count": 4,
     "metadata": {},
     "output_type": "execute_result"
    }
   ],
   "source": [
    "sumOddLengthSubarrays([10,11,12])"
   ]
  },
  {
   "cell_type": "code",
   "execution_count": null,
   "metadata": {},
   "outputs": [],
   "source": []
  }
 ],
 "metadata": {
  "kernelspec": {
   "display_name": "Python 3",
   "language": "python",
   "name": "python3"
  },
  "language_info": {
   "codemirror_mode": {
    "name": "ipython",
    "version": 3
   },
   "file_extension": ".py",
   "mimetype": "text/x-python",
   "name": "python",
   "nbconvert_exporter": "python",
   "pygments_lexer": "ipython3",
   "version": "3.6.5"
  }
 },
 "nbformat": 4,
 "nbformat_minor": 2
}
