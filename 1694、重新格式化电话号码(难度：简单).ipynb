{
 "cells": [
  {
   "cell_type": "markdown",
   "metadata": {},
   "source": [
    "# 重新格式化电话号码\n",
    "\n",
    "**题目来源：力扣（LeetCode）**\n",
    "\n",
    "**链接：https://leetcode.cn/problems/reformat-phone-number/**\n",
    "\n",
    "## 一、题目\n",
    "\n",
    "给你一个字符串形式的电话号码 number 。number 由数字、空格 ' '、和破折号 '-' 组成。\n",
    "\n",
    "请你按下述方式重新格式化电话号码。\n",
    "\n",
    "- 首先，删除 所有的空格和破折号。\n",
    "- 其次，将数组从左到右 每 3 个一组 分块，直到 剩下 4 个或更少数字。剩下的数字将按下述规定再分块：\n",
    "    - 2 个数字：单个含 2 个数字的块。\n",
    "    - 3 个数字：单个含 3 个数字的块。\n",
    "    - 4 个数字：两个分别含 2 个数字的块。\n",
    "- 最后用破折号将这些块连接起来。注意，重新格式化过程中 不应该 生成仅含 1 个数字的块，并且 最多 生成两个含 2 个数字的块。\n",
    "\n",
    "返回格式化后的电话号码。\n",
    "\n",
    "### 提示：\n",
    "\n",
    "- 2 <= number.length <= 100\n",
    "- number 由数字和字符 '-' 及 ' ' 组成。\n",
    "- number 中至少含 2 个数字。\n",
    "\n",
    "## 二、示例\n",
    "\n",
    "### 示例 1：\n",
    "\n",
    "输入：number = \"1-23-45 6\"\n",
    "\n",
    "输出：\"123-456\"\n",
    "\n",
    "解释：数字是 \"123456\"\n",
    "\n",
    "- 步骤 1：共有超过 4 个数字，所以先取 3 个数字分为一组。第 1 个块是 \"123\" 。\n",
    "- 步骤 2：剩下 3 个数字，将它们放入单个含 3 个数字的块。第 2 个块是 \"456\" 。\n",
    "\n",
    "连接这些块后得到 \"123-456\" 。\n",
    "\n",
    "### 示例 2：\n",
    "\n",
    "输入：number = \"123 4-567\"\n",
    "\n",
    "输出：\"123-45-67\"\n",
    "\n",
    "解释：数字是 \"1234567\".\n",
    "\n",
    "- 步骤 1：共有超过 4 个数字，所以先取 3 个数字分为一组。第 1 个块是 \"123\" 。\n",
    "- 步骤 2：剩下 4 个数字，所以将它们分成两个含 2 个数字的块。这 2 块分别是 \"45\" 和 \"67\" 。\n",
    "\n",
    "连接这些块后得到 \"123-45-67\" 。\n",
    "\n",
    "### 示例 3：\n",
    "\n",
    "输入：number = \"123 4-5678\"\n",
    "\n",
    "输出：\"123-456-78\"\n",
    "\n",
    "解释：数字是 \"12345678\" 。\n",
    "\n",
    "- 步骤 1：第 1 个块 \"123\" 。\n",
    "- 步骤 2：第 2 个块 \"456\" 。\n",
    "- 步骤 3：剩下 2 个数字，将它们放入单个含 2 个数字的块。第 3 个块是 \"78\" 。\n",
    "\n",
    "连接这些块后得到 \"123-456-78\" 。\n",
    "\n",
    "### 示例 4：\n",
    "\n",
    "输入：number = \"12\"\n",
    "\n",
    "输出：\"12\"\n",
    "\n",
    "### 示例 5：\n",
    "\n",
    "输入：number = \"--17-5 229 35-39475 \"\n",
    "\n",
    "输出：\"175-229-353-94-75\"\n",
    "\n",
    "## 三、解题思路\n",
    "\n",
    "### 模拟分块"
   ]
  },
  {
   "cell_type": "code",
   "execution_count": 1,
   "metadata": {},
   "outputs": [],
   "source": [
    "class Solution:\n",
    "    def reformatNumber(self, number: str) -> str:\n",
    "        nums = []\n",
    "        for ch in number:\n",
    "            if ch.isdigit():\n",
    "                nums.append(ch)\n",
    "        n, pt = len(nums), 0\n",
    "        ret = []\n",
    "        while n > 0:\n",
    "            if n > 4:\n",
    "                ret.append(\"\".join(nums[pt:pt+3]))\n",
    "                pt += 3\n",
    "                n -= 3\n",
    "            else:\n",
    "                if n == 4:\n",
    "                    ret.append(\"\".join(nums[pt:pt+2]))\n",
    "                    ret.append(\"\".join(nums[pt+2:pt+4]))\n",
    "                else:\n",
    "                    ret.append(\"\".join(nums[pt:pt+n]))\n",
    "                break\n",
    "        return \"-\".join(ret)"
   ]
  },
  {
   "cell_type": "code",
   "execution_count": 2,
   "metadata": {},
   "outputs": [
    {
     "data": {
      "text/plain": [
       "'123-456'"
      ]
     },
     "execution_count": 2,
     "metadata": {},
     "output_type": "execute_result"
    }
   ],
   "source": [
    "s = Solution()\n",
    "s.reformatNumber(\"1-23-45 6\")"
   ]
  },
  {
   "cell_type": "code",
   "execution_count": 3,
   "metadata": {},
   "outputs": [
    {
     "data": {
      "text/plain": [
       "'123-45-67'"
      ]
     },
     "execution_count": 3,
     "metadata": {},
     "output_type": "execute_result"
    }
   ],
   "source": [
    "s.reformatNumber(\"123 4-567\")"
   ]
  },
  {
   "cell_type": "code",
   "execution_count": 4,
   "metadata": {},
   "outputs": [
    {
     "data": {
      "text/plain": [
       "'123-456-78'"
      ]
     },
     "execution_count": 4,
     "metadata": {},
     "output_type": "execute_result"
    }
   ],
   "source": [
    "s.reformatNumber(\"123 4-5678\")"
   ]
  },
  {
   "cell_type": "code",
   "execution_count": 5,
   "metadata": {},
   "outputs": [
    {
     "data": {
      "text/plain": [
       "'12'"
      ]
     },
     "execution_count": 5,
     "metadata": {},
     "output_type": "execute_result"
    }
   ],
   "source": [
    "s.reformatNumber(\"12\")"
   ]
  },
  {
   "cell_type": "code",
   "execution_count": 6,
   "metadata": {},
   "outputs": [
    {
     "data": {
      "text/plain": [
       "'175-229-353-94-75'"
      ]
     },
     "execution_count": 6,
     "metadata": {},
     "output_type": "execute_result"
    }
   ],
   "source": [
    "s.reformatNumber(\"--17-5 229 35-39475 \")"
   ]
  },
  {
   "cell_type": "code",
   "execution_count": null,
   "metadata": {},
   "outputs": [],
   "source": []
  }
 ],
 "metadata": {
  "kernelspec": {
   "display_name": "Python 3.10.4 64-bit",
   "language": "python",
   "name": "python3"
  },
  "language_info": {
   "codemirror_mode": {
    "name": "ipython",
    "version": 3
   },
   "file_extension": ".py",
   "mimetype": "text/x-python",
   "name": "python",
   "nbconvert_exporter": "python",
   "pygments_lexer": "ipython3",
   "version": "3.10.4"
  },
  "orig_nbformat": 4,
  "vscode": {
   "interpreter": {
    "hash": "4f946df053fbf2b937619d3c5458e7af74262f9a954d8797ba0b27400bcafe06"
   }
  }
 },
 "nbformat": 4,
 "nbformat_minor": 2
}
