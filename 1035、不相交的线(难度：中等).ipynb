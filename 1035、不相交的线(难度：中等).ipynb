{
 "cells": [
  {
   "cell_type": "markdown",
   "metadata": {},
   "source": [
    "# 不相交的线\n",
    "\n",
    "**题目来源：力扣（LeetCode）**\n",
    "\n",
    "**链接：https://leetcode-cn.com/problems/uncrossed-lines/**\n",
    "\n",
    "## 一、题目\n",
    "\n",
    "在两条独立的水平线上按给定的顺序写下 nums1 和 nums2 中的整数。\n",
    "\n",
    "现在，可以绘制一些连接两个数字 nums1[i] 和 nums2[j] 的直线，这些直线需要同时满足满足：\n",
    "\n",
    "- nums1[i] == nums2[j]\n",
    "- 且绘制的直线不与任何其他连线（非水平线）相交。\n",
    "\n",
    "请注意，连线即使在端点也不能相交：每个数字只能属于一条连线。\n",
    "\n",
    "以这种方法绘制线条，并返回可以绘制的最大连线数。\n",
    "\n",
    "### 提示：\n",
    "\n",
    "- 1 <= nums1.length <= 500\n",
    "- 1 <= nums2.length <= 500\n",
    "- 1 <= nums1[i], nums2[i] <= 2000\n",
    "\n",
    "## 二、示例\n",
    "\n",
    "### 示例 1：\n",
    "\n",
    "输入：nums1 = [1,4,2], nums2 = [1,2,4]\n",
    "\n",
    "输出：2\n",
    "\n",
    "解释：可以画出两条不交叉的线，但无法画出第三条不相交的直线，因为从 nums1[1]=4 到 nums2[2]=4 的直线将与从 nums1[2]=2 到 nums2[1]=2 的直线相交。\n",
    "\n",
    "### 示例 2：\n",
    "\n",
    "输入：nums1 = [2,5,1,2,5], nums2 = [10,5,2,1,5,2]\n",
    "\n",
    "输出：3\n",
    "\n",
    "### 示例 3：\n",
    "\n",
    "输入：nums1 = [1,3,7,1,7,5], nums2 = [1,9,2,5,1]\n",
    "\n",
    "输出：2\n",
    "\n",
    "## 三、解题思路\n",
    "\n",
    "### 动态规划\n",
    "\n",
    "本题其实是最长公共子序列。"
   ]
  },
  {
   "cell_type": "code",
   "execution_count": 1,
   "metadata": {},
   "outputs": [],
   "source": [
    "def maxUncrossedLines(nums1, nums2) -> int:\n",
    "    m, n = len(nums1), len(nums2)\n",
    "    dp = [[0] * (n + 1) for _ in range(m + 1)]\n",
    "\n",
    "    for i, num1 in enumerate(nums1):\n",
    "        for j, num2 in enumerate(nums2):\n",
    "            if num1 == num2:\n",
    "                dp[i + 1][j + 1] = dp[i][j] + 1\n",
    "            else:\n",
    "                dp[i + 1][j + 1] = max(dp[i][j + 1], dp[i + 1][j])\n",
    "    \n",
    "    return dp[m][n]"
   ]
  },
  {
   "cell_type": "code",
   "execution_count": 2,
   "metadata": {},
   "outputs": [
    {
     "data": {
      "text/plain": [
       "2"
      ]
     },
     "execution_count": 2,
     "metadata": {},
     "output_type": "execute_result"
    }
   ],
   "source": [
    "maxUncrossedLines(nums1 = [1,4,2], nums2 = [1,2,4])"
   ]
  },
  {
   "cell_type": "code",
   "execution_count": 3,
   "metadata": {},
   "outputs": [
    {
     "data": {
      "text/plain": [
       "3"
      ]
     },
     "execution_count": 3,
     "metadata": {},
     "output_type": "execute_result"
    }
   ],
   "source": [
    "maxUncrossedLines(nums1 = [2,5,1,2,5], nums2 = [10,5,2,1,5,2])"
   ]
  },
  {
   "cell_type": "code",
   "execution_count": 4,
   "metadata": {},
   "outputs": [
    {
     "data": {
      "text/plain": [
       "2"
      ]
     },
     "execution_count": 4,
     "metadata": {},
     "output_type": "execute_result"
    }
   ],
   "source": [
    "maxUncrossedLines(nums1 = [1,3,7,1,7,5], nums2 = [1,9,2,5,1])"
   ]
  },
  {
   "cell_type": "code",
   "execution_count": null,
   "metadata": {},
   "outputs": [],
   "source": []
  }
 ],
 "metadata": {
  "kernelspec": {
   "display_name": "Python 3",
   "language": "python",
   "name": "python3"
  },
  "language_info": {
   "codemirror_mode": {
    "name": "ipython",
    "version": 3
   },
   "file_extension": ".py",
   "mimetype": "text/x-python",
   "name": "python",
   "nbconvert_exporter": "python",
   "pygments_lexer": "ipython3",
   "version": "3.6.5"
  }
 },
 "nbformat": 4,
 "nbformat_minor": 2
}
