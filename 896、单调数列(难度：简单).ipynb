{
 "cells": [
  {
   "cell_type": "markdown",
   "metadata": {},
   "source": [
    "# 单调数列\n",
    "\n",
    "**题目来源：力扣（LeetCode）**\n",
    "\n",
    "**链接：https://leetcode-cn.com/problems/monotonic-array/**\n",
    "\n",
    "## 一、题目\n",
    "\n",
    "如果数组是单调递增或单调递减的，那么它是单调的。\n",
    "\n",
    "如果对于所有 i <= j，A[i] <= A[j]，那么数组 A 是单调递增的。 如果对于所有 i <= j，A[i]> = A[j]，那么数组 A 是单调递减的。\n",
    "\n",
    "当给定的数组 A 是单调数组时返回 true，否则返回 false。\n",
    "\n",
    "## 二、示例\n",
    "\n",
    "### 示例 1：\n",
    "\n",
    "输入：[1,2,2,3]\n",
    "\n",
    "输出：true\n",
    "\n",
    "### 示例 2：\n",
    "\n",
    "输入：[6,5,4,4]\n",
    "\n",
    "输出：true\n",
    "\n",
    "### 示例 3：\n",
    "\n",
    "输入：[1,3,2]\n",
    "\n",
    "输出：false\n",
    "\n",
    "### 示例 4：\n",
    "\n",
    "输入：[1,2,4,5]\n",
    "\n",
    "输出：true\n",
    "\n",
    "### 示例 5：\n",
    "\n",
    "输入：[1,1,1]\n",
    "\n",
    "输出：true\n",
    "\n",
    "## 三、解题思路\n",
    "\n",
    "### 轮询"
   ]
  },
  {
   "cell_type": "code",
   "execution_count": 1,
   "metadata": {},
   "outputs": [],
   "source": [
    "def isMonotonic(A) -> bool:\n",
    "    n = len(A)\n",
    "    if n < 2:\n",
    "        return True\n",
    "    increase = None\n",
    "    for i in range(1, n):\n",
    "        if A[i-1] == A[i]:\n",
    "            continue\n",
    "        elif A[i-1] < A[i]:\n",
    "            if increase is None:\n",
    "                increase = True\n",
    "            elif increase:\n",
    "                continue\n",
    "            else:\n",
    "                return False\n",
    "        else:\n",
    "            if increase is None:\n",
    "                increase = False\n",
    "            elif increase:\n",
    "                return False\n",
    "            else:\n",
    "                continue\n",
    "    return True"
   ]
  },
  {
   "cell_type": "code",
   "execution_count": 2,
   "metadata": {},
   "outputs": [
    {
     "data": {
      "text/plain": [
       "True"
      ]
     },
     "execution_count": 2,
     "metadata": {},
     "output_type": "execute_result"
    }
   ],
   "source": [
    "isMonotonic([1,1,1])"
   ]
  },
  {
   "cell_type": "code",
   "execution_count": 3,
   "metadata": {},
   "outputs": [
    {
     "data": {
      "text/plain": [
       "False"
      ]
     },
     "execution_count": 3,
     "metadata": {},
     "output_type": "execute_result"
    }
   ],
   "source": [
    "isMonotonic([1,3,2])"
   ]
  },
  {
   "cell_type": "code",
   "execution_count": 4,
   "metadata": {},
   "outputs": [
    {
     "data": {
      "text/plain": [
       "True"
      ]
     },
     "execution_count": 4,
     "metadata": {},
     "output_type": "execute_result"
    }
   ],
   "source": [
    "isMonotonic([1,2,3,4])"
   ]
  },
  {
   "cell_type": "code",
   "execution_count": null,
   "metadata": {},
   "outputs": [],
   "source": []
  }
 ],
 "metadata": {
  "kernelspec": {
   "display_name": "Python 3",
   "language": "python",
   "name": "python3"
  },
  "language_info": {
   "codemirror_mode": {
    "name": "ipython",
    "version": 3
   },
   "file_extension": ".py",
   "mimetype": "text/x-python",
   "name": "python",
   "nbconvert_exporter": "python",
   "pygments_lexer": "ipython3",
   "version": "3.6.5"
  }
 },
 "nbformat": 4,
 "nbformat_minor": 2
}
