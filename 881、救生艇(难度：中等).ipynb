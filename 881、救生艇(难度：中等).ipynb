{
 "cells": [
  {
   "cell_type": "markdown",
   "metadata": {},
   "source": [
    "# 救生艇\n",
    "\n",
    "**题目来源：力扣（LeetCode）**\n",
    "\n",
    "**链接：https://leetcode-cn.com/problems/boats-to-save-people/**\n",
    "\n",
    "## 一、题目\n",
    "\n",
    "第 i 个人的体重为 people[i]，每艘船可以承载的最大重量为 limit。\n",
    "\n",
    "每艘船最多可同时载两人，但条件是这些人的重量之和最多为 limit。\n",
    "\n",
    "返回载到每一个人所需的最小船数。(保证每个人都能被船载)。\n",
    "\n",
    "### 提示：\n",
    "\n",
    "- 1 <= people.length <= 50000\n",
    "- 1 <= people[i] <= limit <= 30000\n",
    "\n",
    "## 二、示例\n",
    "\n",
    "### 示例 1：\n",
    "\n",
    "输入：people = [1,2], limit = 3\n",
    "\n",
    "输出：1\n",
    "\n",
    "解释：1 艘船载 (1, 2)\n",
    "\n",
    "### 示例 2：\n",
    "\n",
    "输入：people = [3,2,2,1], limit = 3\n",
    "\n",
    "输出：3\n",
    "\n",
    "解释：3 艘船分别载 (1, 2), (2) 和 (3)\n",
    "\n",
    "### 示例 3：\n",
    "\n",
    "输入：people = [3,5,3,4], limit = 5\n",
    "\n",
    "输出：4\n",
    "\n",
    "解释：4 艘船分别载 (3), (3), (4), (5)\n",
    "\n",
    "## 三、解题思路\n",
    "\n",
    "### 排序 + 贪心"
   ]
  },
  {
   "cell_type": "code",
   "execution_count": 1,
   "metadata": {},
   "outputs": [],
   "source": [
    "def numRescueBoats(people, limit: int) -> int:\n",
    "    ret = 0\n",
    "    people.sort()\n",
    "    light, heavy = 0, len(people) - 1\n",
    "    while light <= heavy:\n",
    "        if people[light] + people[heavy] <= limit:\n",
    "            # 如果最轻的能和最重的坐一艘船，那么他能和任意人做一艘船\n",
    "            # 由于一次只能坐两人，那么和最重的坐一艘是最合适的\n",
    "            light += 1\n",
    "            heavy -= 1\n",
    "        else:\n",
    "            heavy -= 1\n",
    "        ret += 1\n",
    "    return ret"
   ]
  },
  {
   "cell_type": "code",
   "execution_count": 2,
   "metadata": {},
   "outputs": [
    {
     "data": {
      "text/plain": [
       "1"
      ]
     },
     "execution_count": 2,
     "metadata": {},
     "output_type": "execute_result"
    }
   ],
   "source": [
    "numRescueBoats(people = [1,2], limit = 3)"
   ]
  },
  {
   "cell_type": "code",
   "execution_count": 3,
   "metadata": {},
   "outputs": [
    {
     "data": {
      "text/plain": [
       "3"
      ]
     },
     "execution_count": 3,
     "metadata": {},
     "output_type": "execute_result"
    }
   ],
   "source": [
    "numRescueBoats(people = [3,2,2,1], limit = 3)"
   ]
  },
  {
   "cell_type": "code",
   "execution_count": 4,
   "metadata": {},
   "outputs": [
    {
     "data": {
      "text/plain": [
       "4"
      ]
     },
     "execution_count": 4,
     "metadata": {},
     "output_type": "execute_result"
    }
   ],
   "source": [
    "numRescueBoats(people = [3,5,3,4], limit = 5)"
   ]
  },
  {
   "cell_type": "code",
   "execution_count": null,
   "metadata": {},
   "outputs": [],
   "source": []
  }
 ],
 "metadata": {
  "kernelspec": {
   "display_name": "Python 3",
   "language": "python",
   "name": "python3"
  },
  "language_info": {
   "codemirror_mode": {
    "name": "ipython",
    "version": 3
   },
   "file_extension": ".py",
   "mimetype": "text/x-python",
   "name": "python",
   "nbconvert_exporter": "python",
   "pygments_lexer": "ipython3",
   "version": "3.6.5"
  }
 },
 "nbformat": 4,
 "nbformat_minor": 2
}
