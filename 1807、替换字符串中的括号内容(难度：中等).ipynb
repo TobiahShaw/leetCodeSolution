{
 "cells": [
  {
   "cell_type": "markdown",
   "id": "d62ee656",
   "metadata": {},
   "source": [
    "# 替换字符串中的括号内容\n",
    "\n",
    "**题目来源：力扣（LeetCode）**\n",
    "\n",
    "**链接：https://leetcode.cn/problems/evaluate-the-bracket-pairs-of-a-string/**\n",
    "\n",
    "## 一、题目\n",
    "\n",
    "给你一个字符串 s ，它包含一些括号对，每个括号中包含一个 非空 的键。\n",
    "\n",
    "- 比方说，字符串 \"(name)is(age)yearsold\" 中，有 两个 括号对，分别包含键 \"name\" 和 \"age\" 。\n",
    "\n",
    "你知道许多键对应的值，这些关系由二维字符串数组 knowledge 表示，其中 knowledge[i] = [keyi, valuei] ，表示键 keyi 对应的值为 valuei 。\n",
    "\n",
    "你需要替换 所有 的括号对。当你替换一个括号对，且它包含的键为 keyi 时，你需要：\n",
    "\n",
    "- 将 keyi 和括号用对应的值 valuei 替换。\n",
    "- 如果从 knowledge 中无法得知某个键对应的值，你需要将 keyi 和括号用问号 \"?\" 替换（不需要引号）。\n",
    "\n",
    "knowledge 中每个键最多只会出现一次。s 中不会有嵌套的括号。\n",
    "\n",
    "请你返回替换 所有 括号对后的结果字符串。\n",
    "\n",
    "### 提示：\n",
    "\n",
    "- 1 <= s.length <= 10^5\n",
    "- 0 <= knowledge.length <= 10^5\n",
    "- knowledge[i].length == 2\n",
    "- 1 <= keyi.length, valuei.length <= 10\n",
    "- s 只包含小写英文字母和圆括号 '(' 和 ')' 。\n",
    "- s 中每一个左圆括号 '(' 都有对应的右圆括号 ')' 。\n",
    "- s 中每对括号内的键都不会为空。\n",
    "- s 中不会有嵌套括号对。\n",
    "- keyi 和 valuei 只包含小写英文字母。\n",
    "- knowledge 中的 keyi 不会重复。\n",
    "\n",
    "## 二、示例\n",
    "\n",
    "### 示例 1：\n",
    "\n",
    "输入：s = \"(name)is(age)yearsold\", knowledge = [[\"name\",\"bob\"],[\"age\",\"two\"]]\n",
    "\n",
    "输出：\"bobistwoyearsold\"\n",
    "\n",
    "解释：键 \"name\" 对应的值为 \"bob\" ，所以将 \"(name)\" 替换为 \"bob\" 。键 \"age\" 对应的值为 \"two\" ，所以将 \"(age)\" 替换为 \"two\" 。\n",
    "\n",
    "### 示例 2：\n",
    "\n",
    "输入：s = \"hi(name)\", knowledge = [[\"a\",\"b\"]]\n",
    "\n",
    "输出：\"hi?\"\n",
    "\n",
    "解释：由于不知道键 \"name\" 对应的值，所以用 \"?\" 替换 \"(name)\" 。\n",
    "\n",
    "### 示例 3：\n",
    "\n",
    "输入：s = \"(a)(a)(a)aaa\", knowledge = [[\"a\",\"yes\"]]\n",
    "\n",
    "输出：\"yesyesyesaaa\"\n",
    "\n",
    "解释：相同的键在 s 中可能会出现多次。键 \"a\" 对应的值为 \"yes\" ，所以将所有的 \"(a)\" 替换为 \"yes\" 。注意，不在括号里的 \"a\" 不需要被替换。\n",
    "\n",
    "## 三、解题思路\n",
    "\n",
    "### 状态机"
   ]
  },
  {
   "cell_type": "code",
   "execution_count": 1,
   "id": "b3c7dd5e",
   "metadata": {},
   "outputs": [],
   "source": [
    "class Solution:\n",
    "    def evaluate(self, s: str, knowledge) -> str:\n",
    "        state = 0\n",
    "        tmp = []\n",
    "        ret = []\n",
    "        dic = {}\n",
    "        for k in knowledge:\n",
    "            dic[k[0]] = k[1]\n",
    "        for ch in s:\n",
    "            if ch == \"(\":\n",
    "                state = 1\n",
    "            elif ch == \")\":\n",
    "                ret.append(dic.get(\"\".join(tmp), \"?\"))\n",
    "                tmp.clear()\n",
    "                state = 0\n",
    "            else:\n",
    "                if state == 0:\n",
    "                    ret.append(ch)\n",
    "                else:\n",
    "                    tmp.append(ch)\n",
    "        if tmp:\n",
    "            ret.append(dic.get(\"\".join(tmp), \"?\"))\n",
    "        return \"\".join(ret)\n"
   ]
  },
  {
   "cell_type": "code",
   "execution_count": 2,
   "id": "4aa11835",
   "metadata": {},
   "outputs": [
    {
     "data": {
      "text/plain": [
       "'bobistwoyearsold'"
      ]
     },
     "execution_count": 2,
     "metadata": {},
     "output_type": "execute_result"
    }
   ],
   "source": [
    "s = Solution()\n",
    "s.evaluate(s = \"(name)is(age)yearsold\", knowledge = [[\"name\",\"bob\"],[\"age\",\"two\"]])"
   ]
  },
  {
   "cell_type": "code",
   "execution_count": 3,
   "id": "3cdbb189",
   "metadata": {},
   "outputs": [
    {
     "data": {
      "text/plain": [
       "'hi?'"
      ]
     },
     "execution_count": 3,
     "metadata": {},
     "output_type": "execute_result"
    }
   ],
   "source": [
    "s.evaluate(s = \"hi(name)\", knowledge = [[\"a\",\"b\"]])"
   ]
  },
  {
   "cell_type": "code",
   "execution_count": 4,
   "id": "5791441d",
   "metadata": {},
   "outputs": [
    {
     "data": {
      "text/plain": [
       "'yesyesyesaaa'"
      ]
     },
     "execution_count": 4,
     "metadata": {},
     "output_type": "execute_result"
    }
   ],
   "source": [
    "s.evaluate(s = \"(a)(a)(a)aaa\", knowledge = [[\"a\",\"yes\"]])"
   ]
  },
  {
   "cell_type": "code",
   "execution_count": null,
   "id": "fff0e8ef",
   "metadata": {},
   "outputs": [],
   "source": []
  }
 ],
 "metadata": {
  "kernelspec": {
   "display_name": "Python 3 (ipykernel)",
   "language": "python",
   "name": "python3"
  },
  "language_info": {
   "codemirror_mode": {
    "name": "ipython",
    "version": 3
   },
   "file_extension": ".py",
   "mimetype": "text/x-python",
   "name": "python",
   "nbconvert_exporter": "python",
   "pygments_lexer": "ipython3",
   "version": "3.11.0"
  }
 },
 "nbformat": 4,
 "nbformat_minor": 5
}
