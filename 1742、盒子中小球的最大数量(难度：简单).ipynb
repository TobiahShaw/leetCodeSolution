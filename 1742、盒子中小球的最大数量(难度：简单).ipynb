{
 "cells": [
  {
   "cell_type": "markdown",
   "metadata": {},
   "source": [
    "# 盒子中小球的最大数量\n",
    "\n",
    "**题目来源：力扣（LeetCode）**\n",
    "\n",
    "**链接：https://leetcode-cn.com/problems/maximum-number-of-balls-in-a-box/**\n",
    "\n",
    "## 一、题目\n",
    "\n",
    "你在一家生产小球的玩具厂工作，有 n 个小球，编号从 lowLimit 开始，到 highLimit 结束（包括 lowLimit 和 highLimit ，即 n == highLimit - lowLimit + 1）。另有无限数量的盒子，编号从 1 到 infinity 。\n",
    "\n",
    "你的工作是将每个小球放入盒子中，其中盒子的编号应当等于小球编号上每位数字的和。例如，编号 321 的小球应当放入编号 3 + 2 + 1 = 6 的盒子，而编号 10 的小球应当放入编号 1 + 0 = 1 的盒子。\n",
    "\n",
    "给你两个整数 lowLimit 和 highLimit ，返回放有最多小球的盒子中的小球数量。如果有多个盒子都满足放有最多小球，只需返回其中任一盒子的小球数量。\n",
    "\n",
    "### 提示：\n",
    "\n",
    "- 1 <= lowLimit <= highLimit <= 10^5\n",
    "\n",
    "## 二、示例\n",
    "\n",
    "### 示例 1：\n",
    "\n",
    "输入：lowLimit = 1, highLimit = 10\n",
    "\n",
    "输出：2\n",
    "\n",
    "解释：\n",
    "\n",
    "盒子编号：1 2 3 4 5 6 7 8 9 10 11 ...\n",
    "\n",
    "小球数量：2 1 1 1 1 1 1 1 1 0  0  ...\n",
    "\n",
    "编号 1 的盒子放有最多小球，小球数量为 2 。\n",
    "\n",
    "### 示例 2：\n",
    "\n",
    "输入：lowLimit = 5, highLimit = 15\n",
    "\n",
    "输出：2\n",
    "\n",
    "解释：\n",
    "\n",
    "盒子编号：1 2 3 4 5 6 7 8 9 10 11 ...\n",
    "\n",
    "小球数量：1 1 1 1 2 2 1 1 1 0  0  ...\n",
    "\n",
    "编号 5 和 6 的盒子放有最多小球，每个盒子中的小球数量都是 2 。\n",
    "\n",
    "### 示例 3：\n",
    "\n",
    "输入：lowLimit = 19, highLimit = 28\n",
    "\n",
    "输出：2\n",
    "\n",
    "解释：\n",
    "\n",
    "盒子编号：1 2 3 4 5 6 7 8 9 10 11 12 ...\n",
    "\n",
    "小球数量：0 1 1 1 1 1 1 1 1 2  0  0  ...\n",
    "\n",
    "编号 10 的盒子放有最多小球，小球数量为 2 。\n",
    "\n",
    "## 三、解题思路\n",
    "\n",
    "### 模拟过程"
   ]
  },
  {
   "cell_type": "code",
   "execution_count": 1,
   "metadata": {},
   "outputs": [],
   "source": [
    "def countBalls(lowLimit: int, highLimit: int) -> int:\n",
    "    dic = {}\n",
    "    ret = 0\n",
    "    for i in range(lowLimit, highLimit + 1):\n",
    "        key = sum([int(c) for c in str(i)])\n",
    "        dic[key] = dic.get(key, 0) + 1\n",
    "        ret = max(ret, dic[key])\n",
    "    return ret"
   ]
  },
  {
   "cell_type": "code",
   "execution_count": 2,
   "metadata": {},
   "outputs": [
    {
     "data": {
      "text/plain": [
       "2"
      ]
     },
     "execution_count": 2,
     "metadata": {},
     "output_type": "execute_result"
    }
   ],
   "source": [
    "countBalls(1, 10)"
   ]
  },
  {
   "cell_type": "code",
   "execution_count": 3,
   "metadata": {},
   "outputs": [
    {
     "data": {
      "text/plain": [
       "2"
      ]
     },
     "execution_count": 3,
     "metadata": {},
     "output_type": "execute_result"
    }
   ],
   "source": [
    "countBalls(5, 15)"
   ]
  },
  {
   "cell_type": "code",
   "execution_count": 4,
   "metadata": {},
   "outputs": [
    {
     "data": {
      "text/plain": [
       "2"
      ]
     },
     "execution_count": 4,
     "metadata": {},
     "output_type": "execute_result"
    }
   ],
   "source": [
    "countBalls(19, 28)"
   ]
  },
  {
   "cell_type": "code",
   "execution_count": null,
   "metadata": {},
   "outputs": [],
   "source": []
  }
 ],
 "metadata": {
  "kernelspec": {
   "display_name": "Python 3",
   "language": "python",
   "name": "python3"
  },
  "language_info": {
   "codemirror_mode": {
    "name": "ipython",
    "version": 3
   },
   "file_extension": ".py",
   "mimetype": "text/x-python",
   "name": "python",
   "nbconvert_exporter": "python",
   "pygments_lexer": "ipython3",
   "version": "3.6.5"
  }
 },
 "nbformat": 4,
 "nbformat_minor": 2
}
