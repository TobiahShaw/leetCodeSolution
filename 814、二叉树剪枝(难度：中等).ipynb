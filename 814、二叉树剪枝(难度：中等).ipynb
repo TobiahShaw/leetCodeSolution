{
 "cells": [
  {
   "cell_type": "markdown",
   "metadata": {},
   "source": [
    "# 二叉树剪枝\n",
    "\n",
    "**题目来源：力扣（LeetCode）**\n",
    "\n",
    "**链接：https://leetcode-cn.com/problems/binary-tree-pruning/**\n",
    "\n",
    "## 一、题目\n",
    "\n",
    "给定二叉树根结点 root ，此外树的每个结点的值要么是 0，要么是 1。\n",
    "\n",
    "返回移除了所有不包含 1 的子树的原二叉树。\n",
    "\n",
    "( 节点 X 的子树为 X 本身，以及所有 X 的后代。)\n",
    "\n",
    "### 提示：\n",
    "\n",
    "- 树中节点的数目在范围 [1, 200] 内\n",
    "- Node.val 为 0 或 1\n",
    "\n",
    "## 二、示例\n",
    "\n",
    "### 示例 1：\n",
    "\n",
    "输入: [1,null,0,0,1]\n",
    "\n",
    "输出: [1,null,0,null,1]\n",
    "\n",
    "### 示例2:\n",
    "\n",
    "输入: [1,0,1,0,0,0,1]\n",
    "\n",
    "输出: [1,null,1,null,1]\n",
    "\n",
    "\n",
    "\n",
    "### 示例3:\n",
    "\n",
    "输入: [1,1,0,1,1,0,1,0]\n",
    "\n",
    "输出: [1,1,0,1,1,null,1]\n",
    "\n",
    "## 三、解题思路\n",
    "\n",
    "### 递归"
   ]
  },
  {
   "cell_type": "code",
   "execution_count": 1,
   "metadata": {},
   "outputs": [],
   "source": [
    "class TreeNode:\n",
    "    def __init__(self, val=0, left=None, right=None):\n",
    "        self.val = val\n",
    "        self.left = left\n",
    "        self.right = right"
   ]
  },
  {
   "cell_type": "code",
   "execution_count": 2,
   "metadata": {},
   "outputs": [],
   "source": [
    "def pruneTree(root: TreeNode) -> TreeNode:\n",
    "    def containOne(node):\n",
    "        if not node:\n",
    "            return False\n",
    "        lc = containOne(node.left)\n",
    "        rc = containOne(node.right)\n",
    "        if not lc:\n",
    "            node.left = None\n",
    "        if not rc:\n",
    "            node.right = None\n",
    "        return node.val == 1 or lc or rc\n",
    "    return root if containOne(root) else None"
   ]
  },
  {
   "cell_type": "code",
   "execution_count": null,
   "metadata": {},
   "outputs": [],
   "source": []
  }
 ],
 "metadata": {
  "kernelspec": {
   "display_name": "Python 3",
   "language": "python",
   "name": "python3"
  },
  "language_info": {
   "codemirror_mode": {
    "name": "ipython",
    "version": 3
   },
   "file_extension": ".py",
   "mimetype": "text/x-python",
   "name": "python",
   "nbconvert_exporter": "python",
   "pygments_lexer": "ipython3",
   "version": "3.6.5"
  }
 },
 "nbformat": 4,
 "nbformat_minor": 2
}
