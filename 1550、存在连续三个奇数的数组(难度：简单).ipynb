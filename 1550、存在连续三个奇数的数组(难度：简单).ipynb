{
 "cells": [
  {
   "cell_type": "markdown",
   "metadata": {},
   "source": [
    "# 存在连续三个奇数的数组\n",
    "\n",
    "**题目来源：力扣（LeetCode）**\n",
    "\n",
    "**链接：https://leetcode-cn.com/problems/three-consecutive-odds/**\n",
    "\n",
    "## 一、题目\n",
    "\n",
    "给你一个整数数组 arr，请你判断数组中是否存在连续三个元素都是奇数的情况：如果存在，请返回 true ；否则，返回 false 。\n",
    "\n",
    "### 提示：\n",
    "\n",
    "- 1 <= arr.length <= 1000\n",
    "- 1 <= arr[i] <= 1000\n",
    "\n",
    "## 二、示例\n",
    "\n",
    "### 示例 1：\n",
    "\n",
    "输入：arr = [2,6,4,1]\n",
    "\n",
    "输出：false\n",
    "\n",
    "解释：不存在连续三个元素都是奇数的情况。\n",
    "\n",
    "### 示例 2：\n",
    "\n",
    "输入：arr = [1,2,34,3,4,5,7,23,12]\n",
    "\n",
    "输出：true\n",
    "\n",
    "解释：存在连续三个元素都是奇数的情况，即 [5,7,23] 。\n",
    "\n",
    "## 三、解题思路\n",
    "\n",
    "### 一、轮询 + 取余"
   ]
  },
  {
   "cell_type": "code",
   "execution_count": 1,
   "metadata": {},
   "outputs": [],
   "source": [
    "def threeConsecutiveOdds(arr) -> bool:\n",
    "    count = 0\n",
    "    for num in arr:\n",
    "        if num % 2 == 1:\n",
    "            count += 1\n",
    "        else:\n",
    "            count = 0\n",
    "        if count == 3:\n",
    "            return True\n",
    "    return False"
   ]
  },
  {
   "cell_type": "code",
   "execution_count": 2,
   "metadata": {},
   "outputs": [
    {
     "data": {
      "text/plain": [
       "False"
      ]
     },
     "execution_count": 2,
     "metadata": {},
     "output_type": "execute_result"
    }
   ],
   "source": [
    "threeConsecutiveOdds([2,6,4,1])"
   ]
  },
  {
   "cell_type": "code",
   "execution_count": 3,
   "metadata": {},
   "outputs": [
    {
     "data": {
      "text/plain": [
       "True"
      ]
     },
     "execution_count": 3,
     "metadata": {},
     "output_type": "execute_result"
    }
   ],
   "source": [
    "threeConsecutiveOdds([1,2,34,3,4,5,7,23,12])"
   ]
  },
  {
   "cell_type": "markdown",
   "metadata": {},
   "source": [
    "### 二、另一种轮询 + 位运算"
   ]
  },
  {
   "cell_type": "code",
   "execution_count": 4,
   "metadata": {},
   "outputs": [],
   "source": [
    "def threeConsecutiveOdds(arr) -> bool:\n",
    "    for i in range(len(arr)-2):\n",
    "        if arr[i] & 1 and arr[i + 1] & 1 and arr[i + 2] & 1:\n",
    "            return True\n",
    "    return False"
   ]
  },
  {
   "cell_type": "code",
   "execution_count": 5,
   "metadata": {},
   "outputs": [
    {
     "data": {
      "text/plain": [
       "False"
      ]
     },
     "execution_count": 5,
     "metadata": {},
     "output_type": "execute_result"
    }
   ],
   "source": [
    "threeConsecutiveOdds([2,6,4,1])"
   ]
  },
  {
   "cell_type": "code",
   "execution_count": 6,
   "metadata": {},
   "outputs": [
    {
     "data": {
      "text/plain": [
       "True"
      ]
     },
     "execution_count": 6,
     "metadata": {},
     "output_type": "execute_result"
    }
   ],
   "source": [
    "threeConsecutiveOdds([1,2,34,3,4,5,7,23,12])"
   ]
  },
  {
   "cell_type": "code",
   "execution_count": null,
   "metadata": {},
   "outputs": [],
   "source": []
  }
 ],
 "metadata": {
  "kernelspec": {
   "display_name": "Python 3",
   "language": "python",
   "name": "python3"
  },
  "language_info": {
   "codemirror_mode": {
    "name": "ipython",
    "version": 3
   },
   "file_extension": ".py",
   "mimetype": "text/x-python",
   "name": "python",
   "nbconvert_exporter": "python",
   "pygments_lexer": "ipython3",
   "version": "3.6.5"
  }
 },
 "nbformat": 4,
 "nbformat_minor": 2
}
