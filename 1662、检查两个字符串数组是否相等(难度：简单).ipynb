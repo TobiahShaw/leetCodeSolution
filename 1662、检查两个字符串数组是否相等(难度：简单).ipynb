{
 "cells": [
  {
   "cell_type": "markdown",
   "metadata": {},
   "source": [
    "# 检查两个字符串数组是否相等\n",
    "\n",
    "**题目来源：力扣（LeetCode）**\n",
    "\n",
    "**链接：https://leetcode-cn.com/problems/check-if-two-string-arrays-are-equivalent/**\n",
    "\n",
    "## 一、题目\n",
    "\n",
    "给你两个字符串数组 word1 和 word2 。如果两个数组表示的字符串相同，返回 true ；否则，返回 false 。\n",
    "\n",
    "数组表示的字符串 是由数组中的所有元素 按顺序 连接形成的字符串。\n",
    "\n",
    "### 提示：\n",
    "\n",
    "- 1 <= word1.length, word2.length <= 103\n",
    "- 1 <= word1[i].length, word2[i].length <= 103\n",
    "- 1 <= sum(word1[i].length), sum(word2[i].length) <= 103\n",
    "- word1[i] 和 word2[i] 由小写字母组成\n",
    "\n",
    "## 二、示例\n",
    "\n",
    "### 示例 1：\n",
    "\n",
    "输入：word1 = [\"ab\", \"c\"], word2 = [\"a\", \"bc\"]\n",
    "\n",
    "输出：true\n",
    "\n",
    "解释：\n",
    "\n",
    "word1 表示的字符串为 \"ab\" + \"c\" -> \"abc\"\n",
    "\n",
    "word2 表示的字符串为 \"a\" + \"bc\" -> \"abc\"\n",
    "\n",
    "两个字符串相同，返回 true\n",
    "### 示例 2：\n",
    "\n",
    "输入：word1 = [\"a\", \"cb\"], word2 = [\"ab\", \"c\"]\n",
    "\n",
    "输出：false\n",
    "\n",
    "### 示例 3：\n",
    "\n",
    "输入：word1  = [\"abc\", \"d\", \"defg\"], word2 = [\"abcddefg\"]\n",
    "\n",
    "输出：true\n",
    "\n",
    "## 三、解题思路\n",
    "\n",
    "### 模拟过程"
   ]
  },
  {
   "cell_type": "code",
   "execution_count": 1,
   "metadata": {},
   "outputs": [],
   "source": [
    "class Solution:\n",
    "    def arrayStringsAreEqual(self, word1, word2) -> bool:\n",
    "        return \"\".join(word1) == \"\".join(word2)"
   ]
  },
  {
   "cell_type": "code",
   "execution_count": 2,
   "metadata": {},
   "outputs": [
    {
     "data": {
      "text/plain": [
       "True"
      ]
     },
     "execution_count": 2,
     "metadata": {},
     "output_type": "execute_result"
    }
   ],
   "source": [
    "s = Solution()\n",
    "s.arrayStringsAreEqual(word1 = [\"ab\", \"c\"], word2 = [\"a\", \"bc\"])"
   ]
  },
  {
   "cell_type": "code",
   "execution_count": 3,
   "metadata": {},
   "outputs": [
    {
     "data": {
      "text/plain": [
       "False"
      ]
     },
     "execution_count": 3,
     "metadata": {},
     "output_type": "execute_result"
    }
   ],
   "source": [
    "s.arrayStringsAreEqual(word1 = [\"a\", \"cb\"], word2 = [\"ab\", \"c\"])"
   ]
  },
  {
   "cell_type": "code",
   "execution_count": 4,
   "metadata": {},
   "outputs": [
    {
     "data": {
      "text/plain": [
       "True"
      ]
     },
     "execution_count": 4,
     "metadata": {},
     "output_type": "execute_result"
    }
   ],
   "source": [
    "s.arrayStringsAreEqual(word1 = [\"abc\", \"d\", \"defg\"], word2 = [\"abcddefg\"])"
   ]
  },
  {
   "cell_type": "code",
   "execution_count": null,
   "metadata": {},
   "outputs": [],
   "source": []
  }
 ],
 "metadata": {
  "kernelspec": {
   "display_name": "Python 3.10.4 64-bit",
   "language": "python",
   "name": "python3"
  },
  "language_info": {
   "codemirror_mode": {
    "name": "ipython",
    "version": 3
   },
   "file_extension": ".py",
   "mimetype": "text/x-python",
   "name": "python",
   "nbconvert_exporter": "python",
   "pygments_lexer": "ipython3",
   "version": "3.10.4"
  },
  "vscode": {
   "interpreter": {
    "hash": "4f946df053fbf2b937619d3c5458e7af74262f9a954d8797ba0b27400bcafe06"
   }
  }
 },
 "nbformat": 4,
 "nbformat_minor": 2
}
