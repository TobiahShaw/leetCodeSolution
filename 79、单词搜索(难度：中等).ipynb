{
 "cells": [
  {
   "cell_type": "markdown",
   "metadata": {},
   "source": [
    "# 单词搜索\n",
    "\n",
    "**题目来源：力扣（LeetCode）**\n",
    "\n",
    "**链接：https://leetcode-cn.com/problems/word-search/**\n",
    "\n",
    "## 一、题目\n",
    "\n",
    "给定一个二维网格和一个单词，找出该单词是否存在于网格中。\n",
    "\n",
    "单词必须按照字母顺序，通过相邻的单元格内的字母构成，其中“相邻”单元格是那些水平相邻或垂直相邻的单元格。同一个单元格内的字母不允许被重复使用。\n",
    "\n",
    "## 二、示例\n",
    "\n",
    "```\n",
    "board =\n",
    "[\n",
    "  ['A','B','C','E'],\n",
    "  ['S','F','C','S'],\n",
    "  ['A','D','E','E']\n",
    "]\n",
    "```\n",
    "\n",
    "给定 word = \"ABCCED\", 返回 true\n",
    "\n",
    "给定 word = \"SEE\", 返回 true\n",
    "\n",
    "给定 word = \"ABCB\", 返回 false\n",
    "\n",
    "## 三、解题思路\n",
    "\n",
    "### 深度优先搜索"
   ]
  },
  {
   "cell_type": "code",
   "execution_count": 1,
   "metadata": {},
   "outputs": [],
   "source": [
    "def exist(board, word: str) -> bool:\n",
    "    def dfs(i, j, k):\n",
    "        if word[k] != board[i][j]:\n",
    "            return False\n",
    "        if k == len(word) - 1:\n",
    "            return True\n",
    "        visited.add((i, j))\n",
    "        result = False\n",
    "        for di, dj in directions:\n",
    "            new_i, new_j = i + di, j + dj\n",
    "            if 0 <= new_i < len(board) and 0 <= new_j < len(board[0]):\n",
    "                if (new_i, new_j) not in visited:\n",
    "                    if dfs(new_i, new_j, k + 1):\n",
    "                        result = True\n",
    "                        break\n",
    "        visited.remove((i, j))\n",
    "        return result\n",
    "            \n",
    "    directions = [(0, 1), (0, -1), (1, 0), (-1, 0)]\n",
    "    visited = set()\n",
    "    h, w = len(board), len(board[0])\n",
    "    for i in range(h):\n",
    "        for j in range(w):\n",
    "            if dfs(i, j, 0):\n",
    "                return True\n",
    "    return False"
   ]
  },
  {
   "cell_type": "code",
   "execution_count": 2,
   "metadata": {},
   "outputs": [],
   "source": [
    "board = [\n",
    "  ['A','B','C','E'],\n",
    "  ['S','F','C','S'],\n",
    "  ['A','D','E','E']\n",
    "]"
   ]
  },
  {
   "cell_type": "code",
   "execution_count": 3,
   "metadata": {},
   "outputs": [
    {
     "data": {
      "text/plain": [
       "True"
      ]
     },
     "execution_count": 3,
     "metadata": {},
     "output_type": "execute_result"
    }
   ],
   "source": [
    "exist(board, \"ABCCED\")"
   ]
  },
  {
   "cell_type": "code",
   "execution_count": 4,
   "metadata": {},
   "outputs": [
    {
     "data": {
      "text/plain": [
       "True"
      ]
     },
     "execution_count": 4,
     "metadata": {},
     "output_type": "execute_result"
    }
   ],
   "source": [
    "exist(board, \"SEE\")"
   ]
  },
  {
   "cell_type": "code",
   "execution_count": 5,
   "metadata": {},
   "outputs": [
    {
     "data": {
      "text/plain": [
       "False"
      ]
     },
     "execution_count": 5,
     "metadata": {},
     "output_type": "execute_result"
    }
   ],
   "source": [
    "exist(board, \"ABCB\")"
   ]
  },
  {
   "cell_type": "code",
   "execution_count": null,
   "metadata": {},
   "outputs": [],
   "source": []
  }
 ],
 "metadata": {
  "kernelspec": {
   "display_name": "Python 3",
   "language": "python",
   "name": "python3"
  },
  "language_info": {
   "codemirror_mode": {
    "name": "ipython",
    "version": 3
   },
   "file_extension": ".py",
   "mimetype": "text/x-python",
   "name": "python",
   "nbconvert_exporter": "python",
   "pygments_lexer": "ipython3",
   "version": "3.6.5"
  }
 },
 "nbformat": 4,
 "nbformat_minor": 2
}
