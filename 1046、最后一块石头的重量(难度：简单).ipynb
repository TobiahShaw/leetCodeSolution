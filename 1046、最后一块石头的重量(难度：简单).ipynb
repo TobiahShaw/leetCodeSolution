{
 "cells": [
  {
   "cell_type": "markdown",
   "metadata": {},
   "source": [
    "# 最后一块石头的重量\n",
    "\n",
    "**题目来源：力扣（LeetCode）**\n",
    "\n",
    "**链接：https://leetcode-cn.com/problems/last-stone-weight/**\n",
    "\n",
    "## 一、题目\n",
    "\n",
    "有一堆石头，每块石头的重量都是正整数。\n",
    "\n",
    "每一回合，从中选出两块 最重的 石头，然后将它们一起粉碎。假设石头的重量分别为 x 和 y，且 x <= y。那么粉碎的可能结果如下：\n",
    "\n",
    "- 如果 x == y，那么两块石头都会被完全粉碎；\n",
    "- 如果 x != y，那么重量为 x 的石头将会完全粉碎，而重量为 y 的石头新重量为 y-x。\n",
    "\n",
    "最后，最多只会剩下一块石头。返回此石头的重量。如果没有石头剩下，就返回 0。\n",
    "\n",
    "## 二、示例\n",
    "\n",
    "输入：[2,7,4,1,8,1]\n",
    "\n",
    "输出：1\n",
    "\n",
    "解释：\n",
    "\n",
    "先选出 7 和 8，得到 1，所以数组转换为 [2,4,1,1,1]，\n",
    "\n",
    "再选出 2 和 4，得到 2，所以数组转换为 [2,1,1,1]，\n",
    "\n",
    "接着是 2 和 1，得到 1，所以数组转换为 [1,1,1]，\n",
    "\n",
    "最后选出 1 和 1，得到 0，最终数组转换为 [1]，这就是最后剩下那块石头的重量。\n",
    "\n",
    "## 三、解题思路\n",
    "\n",
    "### 模拟过程"
   ]
  },
  {
   "cell_type": "code",
   "execution_count": 1,
   "metadata": {},
   "outputs": [],
   "source": [
    "class Solution:\n",
    "    def lastStoneWeight(self, stones) -> int:\n",
    "        def insert(arr, num):\n",
    "            for i in range(len(arr)):\n",
    "                if num <= arr[i]:\n",
    "                    arr.insert(i, num)\n",
    "                    break\n",
    "            else:\n",
    "                arr.append(num)\n",
    "        stones.sort()\n",
    "        while len(stones) >= 2:\n",
    "            y = stones.pop()\n",
    "            x = stones.pop()\n",
    "            ret = y - x\n",
    "            if ret > 0:\n",
    "                insert(stones, ret)\n",
    "        return stones[0] if stones else 0"
   ]
  },
  {
   "cell_type": "code",
   "execution_count": 2,
   "metadata": {},
   "outputs": [
    {
     "data": {
      "text/plain": [
       "1"
      ]
     },
     "execution_count": 2,
     "metadata": {},
     "output_type": "execute_result"
    }
   ],
   "source": [
    "s = Solution()\n",
    "s.lastStoneWeight([2,7,4,1,8,1])"
   ]
  },
  {
   "cell_type": "code",
   "execution_count": null,
   "metadata": {},
   "outputs": [],
   "source": []
  }
 ],
 "metadata": {
  "kernelspec": {
   "display_name": "Python 3 (ipykernel)",
   "language": "python",
   "name": "python3"
  },
  "language_info": {
   "codemirror_mode": {
    "name": "ipython",
    "version": 3
   },
   "file_extension": ".py",
   "mimetype": "text/x-python",
   "name": "python",
   "nbconvert_exporter": "python",
   "pygments_lexer": "ipython3",
   "version": "3.11.0"
  }
 },
 "nbformat": 4,
 "nbformat_minor": 2
}
