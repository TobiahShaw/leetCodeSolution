{
  "cells": [
    {
      "metadata": {
        "collapsed": true
      },
      "cell_type": "markdown",
      "source": "# 回文数\n\n**题目来源：力扣（LeetCode）**\n\n**链接：https://leetcode-cn.com/problems/palindrome-number/**\n\n## 一、题目\n\n判断一个整数是否是回文数。回文数是指正序（从左向右）和倒序（从右向左）读都是一样的整数。\n\n## 二、示例\n\n### 示例 1:\n\n输入: 121\n\n输出: true\n\n### 示例 2:\n\n输入: -121\n\n输出: false\n\n解释: 从左向右读, 为 -121 。 从右向左读, 为 121- 。因此它不是一个回文数。\n\n### 示例 3:\n\n输入: 10\n\n输出: false\n\n解释: 从右向左读, 为 01 。因此它不是一个回文数。\n\n## 三、解题思路\n\n### 翻转一半对比"
    },
    {
      "metadata": {
        "trusted": true
      },
      "cell_type": "code",
      "source": "def isPalindrome(x: int) -> bool:\n    if x < 0 or (x != 0 and x % 10 == 0):\n        return False\n    revnum = 0\n    while x > revnum:\n        revnum = revnum * 10 + x % 10\n        x = x // 10\n    return x == revnum or x == revnum // 10",
      "execution_count": 1,
      "outputs": []
    },
    {
      "metadata": {
        "trusted": true
      },
      "cell_type": "code",
      "source": "isPalindrome(121)",
      "execution_count": 2,
      "outputs": [
        {
          "output_type": "execute_result",
          "execution_count": 2,
          "data": {
            "text/plain": "True"
          },
          "metadata": {}
        }
      ]
    },
    {
      "metadata": {
        "trusted": true
      },
      "cell_type": "code",
      "source": "isPalindrome(-121)",
      "execution_count": 3,
      "outputs": [
        {
          "output_type": "execute_result",
          "execution_count": 3,
          "data": {
            "text/plain": "False"
          },
          "metadata": {}
        }
      ]
    },
    {
      "metadata": {
        "trusted": true
      },
      "cell_type": "code",
      "source": "isPalindrome(10)",
      "execution_count": 4,
      "outputs": [
        {
          "output_type": "execute_result",
          "execution_count": 4,
          "data": {
            "text/plain": "False"
          },
          "metadata": {}
        }
      ]
    },
    {
      "metadata": {
        "trusted": true
      },
      "cell_type": "code",
      "source": "",
      "execution_count": null,
      "outputs": []
    }
  ],
  "metadata": {
    "kernelspec": {
      "name": "python36",
      "display_name": "Python 3.6",
      "language": "python"
    },
    "language_info": {
      "mimetype": "text/x-python",
      "nbconvert_exporter": "python",
      "name": "python",
      "pygments_lexer": "ipython3",
      "version": "3.6.6",
      "file_extension": ".py",
      "codemirror_mode": {
        "version": 3,
        "name": "ipython"
      }
    }
  },
  "nbformat": 4,
  "nbformat_minor": 2
}