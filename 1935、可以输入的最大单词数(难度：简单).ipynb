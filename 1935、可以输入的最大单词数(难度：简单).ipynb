{
 "cells": [
  {
   "cell_type": "markdown",
   "metadata": {},
   "source": [
    "# 可以输入的最大单词数\n",
    "\n",
    "**题目来源：力扣（LeetCode）**\n",
    "\n",
    "**链接：https://leetcode-cn.com/problems/maximum-number-of-words-you-can-type/**\n",
    "\n",
    "## 一、题目\n",
    "\n",
    "键盘出现了一些故障，有些字母键无法正常工作。而键盘上所有其他键都能够正常工作。\n",
    "\n",
    "给你一个由若干单词组成的字符串 text ，单词间由单个空格组成（不含前导和尾随空格）；另有一个字符串 brokenLetters ，由所有已损坏的不同字母键组成，返回你可以使用此键盘完全输入的 text 中单词的数目。\n",
    "\n",
    "### 提示：\n",
    "\n",
    "- 1 <= text.length <= 104\n",
    "- 0 <= brokenLetters.length <= 26\n",
    "- text 由若干用单个空格分隔的单词组成，且不含任何前导和尾随空格\n",
    "- 每个单词仅由小写英文字母组成\n",
    "- brokenLetters 由 互不相同 的小写英文字母组成\n",
    "\n",
    "## 二、示例\n",
    "\n",
    "### 示例 1：\n",
    "\n",
    "输入：text = \"hello world\", brokenLetters = \"ad\"\n",
    "\n",
    "输出：1\n",
    "\n",
    "解释：无法输入 \"world\" ，因为字母键 'd' 已损坏。\n",
    "\n",
    "### 示例 2：\n",
    "\n",
    "输入：text = \"leet code\", brokenLetters = \"lt\"\n",
    "\n",
    "输出：1\n",
    "\n",
    "解释：无法输入 \"leet\" ，因为字母键 'l' 和 't' 已损坏。\n",
    "\n",
    "### 示例 3：\n",
    "\n",
    "输入：text = \"leet code\", brokenLetters = \"e\"\n",
    "\n",
    "输出：0\n",
    "\n",
    "解释：无法输入任何单词，因为字母键 'e' 已损坏。\n",
    "\n",
    "## 三、解题思路\n",
    "\n",
    "### 利用set"
   ]
  },
  {
   "cell_type": "code",
   "execution_count": 1,
   "metadata": {},
   "outputs": [],
   "source": [
    "def canBeTypedWords(text: str, brokenLetters: str) -> int:\n",
    "    words = text.split(\" \")\n",
    "    brokenSet= set(brokenLetters[:])\n",
    "    ret = 0\n",
    "    for word in words:\n",
    "        if not (set(word[:]) & brokenSet):\n",
    "            ret += 1\n",
    "    return ret"
   ]
  },
  {
   "cell_type": "code",
   "execution_count": 2,
   "metadata": {},
   "outputs": [
    {
     "data": {
      "text/plain": [
       "1"
      ]
     },
     "execution_count": 2,
     "metadata": {},
     "output_type": "execute_result"
    }
   ],
   "source": [
    "canBeTypedWords(text = \"hello world\", brokenLetters = \"ad\")"
   ]
  },
  {
   "cell_type": "code",
   "execution_count": 3,
   "metadata": {},
   "outputs": [
    {
     "data": {
      "text/plain": [
       "1"
      ]
     },
     "execution_count": 3,
     "metadata": {},
     "output_type": "execute_result"
    }
   ],
   "source": [
    "canBeTypedWords(text = \"leet code\", brokenLetters = \"lt\")"
   ]
  },
  {
   "cell_type": "code",
   "execution_count": 4,
   "metadata": {},
   "outputs": [
    {
     "data": {
      "text/plain": [
       "0"
      ]
     },
     "execution_count": 4,
     "metadata": {},
     "output_type": "execute_result"
    }
   ],
   "source": [
    "canBeTypedWords(text = \"leet code\", brokenLetters = \"e\")"
   ]
  },
  {
   "cell_type": "code",
   "execution_count": null,
   "metadata": {},
   "outputs": [],
   "source": []
  }
 ],
 "metadata": {
  "kernelspec": {
   "display_name": "Python 3",
   "language": "python",
   "name": "python3"
  },
  "language_info": {
   "codemirror_mode": {
    "name": "ipython",
    "version": 3
   },
   "file_extension": ".py",
   "mimetype": "text/x-python",
   "name": "python",
   "nbconvert_exporter": "python",
   "pygments_lexer": "ipython3",
   "version": "3.6.5"
  }
 },
 "nbformat": 4,
 "nbformat_minor": 2
}
