{
 "cells": [
  {
   "cell_type": "markdown",
   "metadata": {},
   "source": [
    "# 不同字符的最小子序列\n",
    "\n",
    "**题目来源：力扣（LeetCode）**\n",
    "\n",
    "**链接：https://leetcode-cn.com/problems/smallest-subsequence-of-distinct-characters/**\n",
    "\n",
    "## 一、题目\n",
    "\n",
    "返回字符串 text 中按字典序排列最小的子序列，该子序列包含 text 中所有不同字符一次。\n",
    "\n",
    "### 提示：\n",
    "\n",
    "- 1 <= text.length <= 1000\n",
    "- text 由小写英文字母组成\n",
    "\n",
    "## 二、示例\n",
    "\n",
    "### 示例 1：\n",
    "\n",
    "输入：\"cdadabcc\"\n",
    "\n",
    "输出：\"adbc\"\n",
    "\n",
    "### 示例 2：\n",
    "\n",
    "输入：\"abcd\"\n",
    "\n",
    "输出：\"abcd\"\n",
    "\n",
    "### 示例 3：\n",
    "\n",
    "输入：\"ecbacba\"\n",
    "\n",
    "输出：\"eacb\"\n",
    "\n",
    "### 示例 4：\n",
    "\n",
    "输入：\"leetcode\"\n",
    "\n",
    "输出：\"letcod\"\n",
    "\n",
    "## 三、解题思路"
   ]
  },
  {
   "cell_type": "code",
   "execution_count": 1,
   "metadata": {},
   "outputs": [],
   "source": [
    "class Solution:\n",
    "    def smallestSubsequence(self, s: str) -> str:\n",
    "        n = len(s)\n",
    "        stack = []\n",
    "        lastIndex = [0] * 26\n",
    "        visited = [False] * 26\n",
    "        for i in range(n):\n",
    "            lastIndex[ord(s[i]) - ord('a')] = i\n",
    "        for i in range(n):\n",
    "            if visited[ord(s[i]) - ord('a')]:\n",
    "                continue\n",
    "            while stack and ord(stack[-1]) > ord(s[i]) and lastIndex[ord(stack[-1]) - ord('a')] > i:\n",
    "                visited[ord(stack.pop()) - ord('a')] = False\n",
    "            stack.append(s[i])\n",
    "            visited[ord(s[i]) - ord('a')] = True\n",
    "        return \"\".join(stack)"
   ]
  },
  {
   "cell_type": "code",
   "execution_count": 2,
   "metadata": {},
   "outputs": [
    {
     "data": {
      "text/plain": [
       "'adbc'"
      ]
     },
     "execution_count": 2,
     "metadata": {},
     "output_type": "execute_result"
    }
   ],
   "source": [
    "s = Solution()\n",
    "s.smallestSubsequence(\"cdadabcc\")"
   ]
  },
  {
   "cell_type": "code",
   "execution_count": 3,
   "metadata": {},
   "outputs": [
    {
     "data": {
      "text/plain": [
       "'abcd'"
      ]
     },
     "execution_count": 3,
     "metadata": {},
     "output_type": "execute_result"
    }
   ],
   "source": [
    "s.smallestSubsequence(\"abcd\")"
   ]
  },
  {
   "cell_type": "code",
   "execution_count": 4,
   "metadata": {},
   "outputs": [
    {
     "data": {
      "text/plain": [
       "'eacb'"
      ]
     },
     "execution_count": 4,
     "metadata": {},
     "output_type": "execute_result"
    }
   ],
   "source": [
    "s.smallestSubsequence(\"ecbacba\")"
   ]
  },
  {
   "cell_type": "code",
   "execution_count": 5,
   "metadata": {},
   "outputs": [
    {
     "data": {
      "text/plain": [
       "'letcod'"
      ]
     },
     "execution_count": 5,
     "metadata": {},
     "output_type": "execute_result"
    }
   ],
   "source": [
    "s.smallestSubsequence(\"leetcode\")"
   ]
  },
  {
   "cell_type": "code",
   "execution_count": null,
   "metadata": {},
   "outputs": [],
   "source": []
  }
 ],
 "metadata": {
  "kernelspec": {
   "display_name": "Python 3 (ipykernel)",
   "language": "python",
   "name": "python3"
  },
  "language_info": {
   "codemirror_mode": {
    "name": "ipython",
    "version": 3
   },
   "file_extension": ".py",
   "mimetype": "text/x-python",
   "name": "python",
   "nbconvert_exporter": "python",
   "pygments_lexer": "ipython3",
   "version": "3.11.0"
  }
 },
 "nbformat": 4,
 "nbformat_minor": 2
}
