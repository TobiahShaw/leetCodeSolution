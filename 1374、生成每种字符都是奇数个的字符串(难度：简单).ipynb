{
 "cells": [
  {
   "cell_type": "markdown",
   "metadata": {},
   "source": [
    "# 生成每种字符都是奇数个的字符串\n",
    "\n",
    "**题目来源：力扣（LeetCode）**\n",
    "\n",
    "**链接：https://leetcode-cn.com/problems/generate-a-string-with-characters-that-have-odd-counts/**\n",
    "\n",
    "## 一、题目\n",
    "\n",
    "给你一个整数 n，请你返回一个含 n 个字符的字符串，其中每种字符在该字符串中都恰好出现 奇数次 。\n",
    "\n",
    "返回的字符串必须只含小写英文字母。如果存在多个满足题目要求的字符串，则返回其中任意一个即可。\n",
    "\n",
    "### 提示：\n",
    "\n",
    "- 1 <= n <= 500\n",
    "\n",
    "## 二、示例\n",
    "\n",
    "### 示例 1：\n",
    "\n",
    "输入：n = 4\n",
    "\n",
    "输出：\"pppz\"\n",
    "\n",
    "解释：\"pppz\" 是一个满足题目要求的字符串，因为 'p' 出现 3 次，且 'z' 出现 1 次。当然，还有很多其他字符串也满足题目要求，比如：\"ohhh\" 和\"love\"。\n",
    "\n",
    "### 示例 2：\n",
    "\n",
    "输入：n = 2\n",
    "\n",
    "输出：\"xy\"\n",
    "\n",
    "解释：\"xy\" 是一个满足题目要求的字符串，因为 'x' 和 'y' 各出现 1 次。当然，还有很多其他字符串也满足题目要求，比如：\"ag\" 和 \"ur\"。\n",
    "\n",
    "### 示例 3：\n",
    "\n",
    "输入：n = 7\n",
    "\n",
    "输出：\"holasss\"\n",
    "\n",
    "## 三、解题思路"
   ]
  },
  {
   "cell_type": "code",
   "execution_count": 1,
   "metadata": {},
   "outputs": [],
   "source": [
    "def generateTheString(n: int) -> str:\n",
    "    if n <= 0:\n",
    "        return \"\"\n",
    "    if n == 1:\n",
    "        return \"a\"\n",
    "    if n % 2 == 0:\n",
    "        ret = ['a'] * (n - 1)\n",
    "        ret.append('b')\n",
    "        return \"\".join(ret)\n",
    "    else:\n",
    "        ret = ['a'] * (n - 2)\n",
    "        ret.append('b')\n",
    "        ret.append('c')\n",
    "        return \"\".join(ret)"
   ]
  },
  {
   "cell_type": "code",
   "execution_count": 2,
   "metadata": {},
   "outputs": [
    {
     "data": {
      "text/plain": [
       "'aaab'"
      ]
     },
     "execution_count": 2,
     "metadata": {},
     "output_type": "execute_result"
    }
   ],
   "source": [
    "generateTheString(4)"
   ]
  },
  {
   "cell_type": "code",
   "execution_count": 3,
   "metadata": {},
   "outputs": [
    {
     "data": {
      "text/plain": [
       "'ab'"
      ]
     },
     "execution_count": 3,
     "metadata": {},
     "output_type": "execute_result"
    }
   ],
   "source": [
    "generateTheString(2)"
   ]
  },
  {
   "cell_type": "code",
   "execution_count": 4,
   "metadata": {},
   "outputs": [
    {
     "data": {
      "text/plain": [
       "'aaaaabc'"
      ]
     },
     "execution_count": 4,
     "metadata": {},
     "output_type": "execute_result"
    }
   ],
   "source": [
    "generateTheString(7)"
   ]
  },
  {
   "cell_type": "code",
   "execution_count": null,
   "metadata": {},
   "outputs": [],
   "source": []
  }
 ],
 "metadata": {
  "kernelspec": {
   "display_name": "Python 3.10.4 64-bit",
   "language": "python",
   "name": "python3"
  },
  "language_info": {
   "codemirror_mode": {
    "name": "ipython",
    "version": 3
   },
   "file_extension": ".py",
   "mimetype": "text/x-python",
   "name": "python",
   "nbconvert_exporter": "python",
   "pygments_lexer": "ipython3",
   "version": "3.10.4"
  },
  "vscode": {
   "interpreter": {
    "hash": "4f946df053fbf2b937619d3c5458e7af74262f9a954d8797ba0b27400bcafe06"
   }
  }
 },
 "nbformat": 4,
 "nbformat_minor": 2
}
