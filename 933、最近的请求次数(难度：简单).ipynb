{
 "cells": [
  {
   "cell_type": "markdown",
   "metadata": {
    "collapsed": true
   },
   "source": [
    "# 最近的请求次数\n",
    "\n",
    "**题目来源：力扣（LeetCode）**\n",
    "\n",
    "**链接：https://leetcode-cn.com/problems/number-of-recent-calls/**\n",
    "\n",
    "## 一、题目\n",
    "\n",
    "写一个 RecentCounter 类来计算特定时间范围内最近的请求。\n",
    "\n",
    "请你实现 RecentCounter 类：\n",
    "\n",
    "- RecentCounter() 初始化计数器，请求数为 0 。\n",
    "- int ping(int t) 在时间 t 添加一个新请求，其中 t 表示以毫秒为单位的某个时间，并返回过去 3000 毫秒内发生的所有请求数（包括新请求）。确切地说，返回在 [t-3000, t] 内发生的请求数。\n",
    "\n",
    "保证 每次对 ping 的调用都使用比之前更大的 t 值。\n",
    "\n",
    "### 提示：\n",
    "\n",
    "- 1 <= t <= 10^9\n",
    "- 保证每次对 ping 调用所使用的 t 值都 严格递增\n",
    "- 至多调用 ping 方法 10^4 次\n",
    "\n",
    "## 二、示例\n",
    "\n",
    "输入：inputs = [\"RecentCounter\",\"ping\",\"ping\",\"ping\",\"ping\"], inputs = [[],[1],[100],[3001],[3002]]\n",
    "\n",
    "输出：[null,1,2,3,3]\n",
    "\n",
    "解释：\n",
    "\n",
    "```\n",
    "recentCounter = RecentCounter()\n",
    "recentCounter.ping(1)     # requests = [1]，范围是 [-2999,1]，返回 1\n",
    "recentCounter.ping(100)   # requests = [1, 100]，范围是 [-2900,100]，返回 2\n",
    "recentCounter.ping(3001)  # requests = [1, 100, 3001]，范围是 [1,3001]，返回 3\n",
    "recentCounter.ping(3002)  # requests = [1, 100, 3001, 3002]，范围是 [2,3002]，返回 3\n",
    "```\n",
    "\n",
    "## 三、解题思路\n",
    "\n",
    "### 队列"
   ]
  },
  {
   "cell_type": "code",
   "execution_count": 1,
   "metadata": {},
   "outputs": [],
   "source": [
    "import collections\n",
    "class RecentCounter:\n",
    "\n",
    "    def __init__(self):\n",
    "        self.q = collections.deque()\n",
    "\n",
    "    def ping(self, t: int) -> int:\n",
    "        self.q.append(t)\n",
    "        while self.q[0] < t - 3000:\n",
    "            self.q.popleft()\n",
    "        return len(self.q)"
   ]
  },
  {
   "cell_type": "code",
   "execution_count": 2,
   "metadata": {},
   "outputs": [],
   "source": [
    "obj = RecentCounter()"
   ]
  },
  {
   "cell_type": "code",
   "execution_count": 3,
   "metadata": {},
   "outputs": [
    {
     "data": {
      "text/plain": [
       "1"
      ]
     },
     "execution_count": 3,
     "metadata": {},
     "output_type": "execute_result"
    }
   ],
   "source": [
    "obj.ping(1)"
   ]
  },
  {
   "cell_type": "code",
   "execution_count": 4,
   "metadata": {},
   "outputs": [
    {
     "data": {
      "text/plain": [
       "2"
      ]
     },
     "execution_count": 4,
     "metadata": {},
     "output_type": "execute_result"
    }
   ],
   "source": [
    "obj.ping(100)"
   ]
  },
  {
   "cell_type": "code",
   "execution_count": 5,
   "metadata": {},
   "outputs": [
    {
     "data": {
      "text/plain": [
       "3"
      ]
     },
     "execution_count": 5,
     "metadata": {},
     "output_type": "execute_result"
    }
   ],
   "source": [
    "obj.ping(3001)"
   ]
  },
  {
   "cell_type": "code",
   "execution_count": 6,
   "metadata": {},
   "outputs": [
    {
     "data": {
      "text/plain": [
       "3"
      ]
     },
     "execution_count": 6,
     "metadata": {},
     "output_type": "execute_result"
    }
   ],
   "source": [
    "obj.ping(3002)"
   ]
  },
  {
   "cell_type": "code",
   "execution_count": null,
   "metadata": {},
   "outputs": [],
   "source": []
  }
 ],
 "metadata": {
  "kernelspec": {
   "display_name": "Python 3",
   "language": "python",
   "name": "python3"
  },
  "language_info": {
   "codemirror_mode": {
    "name": "ipython",
    "version": 3
   },
   "file_extension": ".py",
   "mimetype": "text/x-python",
   "name": "python",
   "nbconvert_exporter": "python",
   "pygments_lexer": "ipython3",
   "version": "3.6.5"
  }
 },
 "nbformat": 4,
 "nbformat_minor": 2
}
