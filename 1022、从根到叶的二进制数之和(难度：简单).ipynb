{
 "cells": [
  {
   "cell_type": "markdown",
   "metadata": {},
   "source": [
    "# 从根到叶的二进制数之和\n",
    "\n",
    "**题目来源：力扣（LeetCode）**\n",
    "\n",
    "**链接：https://leetcode-cn.com/problems/sum-of-root-to-leaf-binary-numbers/**\n",
    "\n",
    "## 一、题目\n",
    "\n",
    "给出一棵二叉树，其上每个结点的值都是 0 或 1 。每一条从根到叶的路径都代表一个从最高有效位开始的二进制数。例如，如果路径为 0 -> 1 -> 1 -> 0 -> 1，那么它表示二进制数 01101，也就是 13 。\n",
    "\n",
    "对树上的每一片叶子，我们都要找出从根到该叶子的路径所表示的数字。\n",
    "\n",
    "返回这些数字之和。题目数据保证答案是一个 32 位 整数。\n",
    "\n",
    "### 提示：\n",
    "\n",
    "- 树中的结点数介于 1 和 1000 之间。\n",
    "- Node.val 为 0 或 1 。\n",
    "\n",
    "## 二、示例\n",
    "\n",
    "### 示例 1：\n",
    "\n",
    "输入：root = [1,0,1,0,1,0,1]\n",
    "\n",
    "输出：22\n",
    "\n",
    "解释：(100) + (101) + (110) + (111) = 4 + 5 + 6 + 7 = 22\n",
    "\n",
    "### 示例 2：\n",
    "\n",
    "输入：root = [0]\n",
    "\n",
    "输出：0\n",
    "\n",
    "### 示例 3：\n",
    "\n",
    "输入：root = [1]\n",
    "\n",
    "输出：1\n",
    "\n",
    "### 示例 4：\n",
    "\n",
    "输入：root = [1,1]\n",
    "\n",
    "输出：3\n",
    "\n",
    "## 三、解题思路\n",
    "\n",
    "### DFS"
   ]
  },
  {
   "cell_type": "code",
   "execution_count": 1,
   "metadata": {},
   "outputs": [],
   "source": [
    "class TreeNode:\n",
    "    def __init__(self, val=0, left=None, right=None):\n",
    "        self.val = val\n",
    "        self.left = left\n",
    "        self.right = right"
   ]
  },
  {
   "cell_type": "code",
   "execution_count": 2,
   "metadata": {},
   "outputs": [],
   "source": [
    "root = TreeNode(1)\n",
    "\n",
    "root.left = TreeNode(0)\n",
    "root.right = TreeNode(1)\n",
    "\n",
    "root.left.left = TreeNode(0)\n",
    "root.left.right = TreeNode(1)\n",
    "\n",
    "root.right.left = TreeNode(0)\n",
    "root.right.right = TreeNode(1)"
   ]
  },
  {
   "cell_type": "code",
   "execution_count": 3,
   "metadata": {},
   "outputs": [],
   "source": [
    "def sumRootToLeaf(root: TreeNode) -> int:\n",
    "    def dfs(r, s):\n",
    "        if r:\n",
    "            s = s * 2 + r.val\n",
    "            if not r.left and not r.right:\n",
    "                return s\n",
    "            return dfs(r.left, s) + dfs(r.right, s)\n",
    "        return 0\n",
    "    return dfs(root, 0)"
   ]
  },
  {
   "cell_type": "code",
   "execution_count": 4,
   "metadata": {},
   "outputs": [
    {
     "data": {
      "text/plain": [
       "22"
      ]
     },
     "execution_count": 4,
     "metadata": {},
     "output_type": "execute_result"
    }
   ],
   "source": [
    "sumRootToLeaf(root)"
   ]
  },
  {
   "cell_type": "code",
   "execution_count": null,
   "metadata": {},
   "outputs": [],
   "source": []
  }
 ],
 "metadata": {
  "kernelspec": {
   "display_name": "Python 3",
   "language": "python",
   "name": "python3"
  },
  "language_info": {
   "codemirror_mode": {
    "name": "ipython",
    "version": 3
   },
   "file_extension": ".py",
   "mimetype": "text/x-python",
   "name": "python",
   "nbconvert_exporter": "python",
   "pygments_lexer": "ipython3",
   "version": "3.6.5"
  }
 },
 "nbformat": 4,
 "nbformat_minor": 2
}
