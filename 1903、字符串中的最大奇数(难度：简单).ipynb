{
 "cells": [
  {
   "cell_type": "markdown",
   "metadata": {},
   "source": [
    "# 字符串中的最大奇数\n",
    "\n",
    "**题目来源：力扣（LeetCode）**\n",
    "\n",
    "**链接：https://leetcode.cn/problems/largest-odd-number-in-string/**\n",
    "\n",
    "## 一、题目\n",
    "\n",
    "给你一个字符串 num ，表示一个大整数。请你在字符串 num 的所有 非空子字符串 中找出 值最大的奇数 ，并以字符串形式返回。如果不存在奇数，则返回一个空字符串 \"\" 。\n",
    "\n",
    "子字符串 是字符串中的一个连续的字符序列。\n",
    "\n",
    "### 提示：\n",
    "\n",
    "- 1 <= num.length <= 10^5\n",
    "- num 仅由数字组成且不含前导零\n",
    "\n",
    "## 二、示例\n",
    "\n",
    "### 示例 1：\n",
    "\n",
    "输入：num = \"52\"\n",
    "\n",
    "输出：\"5\"\n",
    "\n",
    "解释：非空子字符串仅有 \"5\"、\"2\" 和 \"52\" 。\"5\" 是其中唯一的奇数。\n",
    "\n",
    "### 示例 2：\n",
    "\n",
    "输入：num = \"4206\"\n",
    "\n",
    "输出：\"\"\n",
    "\n",
    "解释：在 \"4206\" 中不存在奇数。\n",
    "\n",
    "### 示例 3：\n",
    "\n",
    "输入：num = \"35427\"\n",
    "\n",
    "输出：\"35427\"\n",
    "\n",
    "解释：\"35427\" 本身就是一个奇数。\n",
    "\n",
    "## 三、解题思路\n",
    "\n",
    "### 找最后一位奇数位"
   ]
  },
  {
   "cell_type": "code",
   "execution_count": 1,
   "metadata": {},
   "outputs": [],
   "source": [
    "def largestOddNumber(num: str) -> str:\n",
    "    n = len(num)\n",
    "    for i in range(n - 1, -1, -1):\n",
    "        if int(num[i]) % 2 != 0:\n",
    "            return num[:i+1]\n",
    "    return \"\""
   ]
  },
  {
   "cell_type": "code",
   "execution_count": 2,
   "metadata": {},
   "outputs": [
    {
     "data": {
      "text/plain": [
       "'5'"
      ]
     },
     "execution_count": 2,
     "metadata": {},
     "output_type": "execute_result"
    }
   ],
   "source": [
    "largestOddNumber(\"52\")"
   ]
  },
  {
   "cell_type": "code",
   "execution_count": 3,
   "metadata": {},
   "outputs": [
    {
     "data": {
      "text/plain": [
       "''"
      ]
     },
     "execution_count": 3,
     "metadata": {},
     "output_type": "execute_result"
    }
   ],
   "source": [
    "largestOddNumber(\"4206\")"
   ]
  },
  {
   "cell_type": "code",
   "execution_count": 4,
   "metadata": {},
   "outputs": [
    {
     "data": {
      "text/plain": [
       "'35427'"
      ]
     },
     "execution_count": 4,
     "metadata": {},
     "output_type": "execute_result"
    }
   ],
   "source": [
    "largestOddNumber(\"35427\")"
   ]
  },
  {
   "cell_type": "code",
   "execution_count": null,
   "metadata": {},
   "outputs": [],
   "source": []
  }
 ],
 "metadata": {
  "kernelspec": {
   "display_name": "Python 3",
   "language": "python",
   "name": "python3"
  },
  "language_info": {
   "codemirror_mode": {
    "name": "ipython",
    "version": 3
   },
   "file_extension": ".py",
   "mimetype": "text/x-python",
   "name": "python",
   "nbconvert_exporter": "python",
   "pygments_lexer": "ipython3",
   "version": "3.6.5"
  }
 },
 "nbformat": 4,
 "nbformat_minor": 2
}
