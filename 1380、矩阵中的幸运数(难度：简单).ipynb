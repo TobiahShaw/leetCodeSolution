{
  "cells": [
    {
      "metadata": {
        "collapsed": true
      },
      "cell_type": "markdown",
      "source": "# 矩阵中的幸运数\n\n**题目来源：力扣（LeetCode）**\n\n**链接：https://leetcode-cn.com/problems/lucky-numbers-in-a-matrix/**\n\n## 一、题目\n\n给你一个 m * n 的矩阵，矩阵中的数字 各不相同 。请你按 任意 顺序返回矩阵中的所有幸运数。\n\n幸运数是指矩阵中满足同时下列两个条件的元素：\n\n- 在同一行的所有元素中最小\n- 在同一列的所有元素中最大\n\n## 二、示例\n\n### 示例 1:\n\n输入：matrix = [[3,7,8],[9,11,13],[15,16,17]]\n\n输出：[15]\n\n解释：15 是唯一的幸运数，因为它是其所在行中的最小值，也是所在列中的最大值。\n\n### 示例 2:\n\n输入：matrix = [[1,10,4,2],[9,3,8,7],[15,16,17,12]]\n\n输出：[12]\n\n解释：12 是唯一的幸运数，因为它是其所在行中的最小值，也是所在列中的最大值。\n\n### 示例 3：\n\n输入：matrix = [[7,8],[1,2]]\n\n输出：[7]\n\n## 三、解题思路"
    },
    {
      "metadata": {
        "trusted": true
      },
      "cell_type": "code",
      "source": "",
      "execution_count": null,
      "outputs": []
    }
  ],
  "metadata": {
    "kernelspec": {
      "name": "python36",
      "display_name": "Python 3.6",
      "language": "python"
    },
    "language_info": {
      "mimetype": "text/x-python",
      "nbconvert_exporter": "python",
      "name": "python",
      "pygments_lexer": "ipython3",
      "version": "3.6.6",
      "file_extension": ".py",
      "codemirror_mode": {
        "version": 3,
        "name": "ipython"
      }
    }
  },
  "nbformat": 4,
  "nbformat_minor": 2
}