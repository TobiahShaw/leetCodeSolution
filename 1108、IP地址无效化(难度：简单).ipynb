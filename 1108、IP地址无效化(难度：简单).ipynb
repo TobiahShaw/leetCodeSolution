{
  "cells": [
    {
      "metadata": {
        "collapsed": true
      },
      "cell_type": "markdown",
      "source": "# IP地址无效化\n\n**题目来源：力扣（LeetCode）**\n\n**链接：https://leetcode-cn.com/problems/defanging-an-ip-address/**\n\n## 一、题目\n\n给你一个有效的 IPv4 地址 address，返回这个 IP 地址的无效化版本。\n\n所谓无效化 IP 地址，其实就是用 \"[.]\" 代替了每个 \".\"。\n\n## 二、示例\n\n### 示例一\n\n输入：address = \"1.1.1.1\"\n\n输出：\"1[.]1[.]1[.]1\"\n\n### 示例二\n\n输入：address = \"255.100.50.0\"\n\n输出：\"255[.]100[.]50[.]0\"\n\n## 三、解题思路\n\n### 一、调内置函数"
    },
    {
      "metadata": {
        "trusted": true
      },
      "cell_type": "code",
      "source": "def defangIPaddr(address):\n    return address.replace('.', '[.]')",
      "execution_count": 1,
      "outputs": []
    },
    {
      "metadata": {
        "trusted": true
      },
      "cell_type": "code",
      "source": "defangIPaddr(\"1.1.1.1\")",
      "execution_count": 2,
      "outputs": [
        {
          "output_type": "execute_result",
          "execution_count": 2,
          "data": {
            "text/plain": "'1[.]1[.]1[.]1'"
          },
          "metadata": {}
        }
      ]
    },
    {
      "metadata": {
        "trusted": true
      },
      "cell_type": "code",
      "source": "defangIPaddr(\"255.100.50.0\")",
      "execution_count": 3,
      "outputs": [
        {
          "output_type": "execute_result",
          "execution_count": 3,
          "data": {
            "text/plain": "'255[.]100[.]50[.]0'"
          },
          "metadata": {}
        }
      ]
    },
    {
      "metadata": {},
      "cell_type": "markdown",
      "source": "### 二、轮询替换"
    },
    {
      "metadata": {
        "trusted": true
      },
      "cell_type": "code",
      "source": "def defangIPaddr(address):\n    result = ''\n    for i in address:\n        if i == '.':\n            result += '[.]'\n        else:\n            result += i\n    return result",
      "execution_count": 4,
      "outputs": []
    },
    {
      "metadata": {
        "trusted": true
      },
      "cell_type": "code",
      "source": "defangIPaddr(\"1.1.1.1\")",
      "execution_count": 5,
      "outputs": [
        {
          "output_type": "execute_result",
          "execution_count": 5,
          "data": {
            "text/plain": "'1[.]1[.]1[.]1'"
          },
          "metadata": {}
        }
      ]
    },
    {
      "metadata": {
        "trusted": true
      },
      "cell_type": "code",
      "source": "defangIPaddr(\"255.100.50.0\")",
      "execution_count": 6,
      "outputs": [
        {
          "output_type": "execute_result",
          "execution_count": 6,
          "data": {
            "text/plain": "'255[.]100[.]50[.]0'"
          },
          "metadata": {}
        }
      ]
    },
    {
      "metadata": {
        "trusted": true
      },
      "cell_type": "code",
      "source": "",
      "execution_count": null,
      "outputs": []
    }
  ],
  "metadata": {
    "kernelspec": {
      "name": "python36",
      "display_name": "Python 3.6",
      "language": "python"
    },
    "language_info": {
      "mimetype": "text/x-python",
      "nbconvert_exporter": "python",
      "name": "python",
      "pygments_lexer": "ipython3",
      "version": "3.6.6",
      "file_extension": ".py",
      "codemirror_mode": {
        "version": 3,
        "name": "ipython"
      }
    }
  },
  "nbformat": 4,
  "nbformat_minor": 2
}