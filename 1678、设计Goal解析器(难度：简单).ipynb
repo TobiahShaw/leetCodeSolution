{
 "cells": [
  {
   "cell_type": "markdown",
   "id": "f945efa5",
   "metadata": {},
   "source": [
    "# 设计Goal解析器\n",
    "\n",
    "**题目来源：力扣（LeetCode）**\n",
    "\n",
    "**链接：https://leetcode.cn/problems/goal-parser-interpretation/**\n",
    "\n",
    "## 一、题目\n",
    "\n",
    "请你设计一个可以解释字符串 command 的 Goal 解析器 。command 由 \"G\"、\"()\" 和/或 \"(al)\" 按某种顺序组成。Goal 解析器会将 \"G\" 解释为字符串 \"G\"、\"()\" 解释为字符串 \"o\" ，\"(al)\" 解释为字符串 \"al\" 。然后，按原顺序将经解释得到的字符串连接成一个字符串。\n",
    "\n",
    "给你字符串 command ，返回 Goal 解析器 对 command 的解释结果。\n",
    "\n",
    "### 提示：\n",
    "\n",
    "- 1 <= command.length <= 100\n",
    "- command 由 \"G\"、\"()\" 和/或 \"(al)\" 按某种顺序组成\n",
    "\n",
    "## 二、示例\n",
    "\n",
    "### 示例 1：\n",
    "\n",
    "输入：command = \"G()(al)\"\n",
    "\n",
    "输出：\"Goal\"\n",
    "\n",
    "解释：Goal 解析器解释命令的步骤如下所示：\n",
    "\n",
    "- G -> G\n",
    "- () -> o\n",
    "- (al) -> al\n",
    "\n",
    "最后连接得到的结果是 \"Goal\"\n",
    "\n",
    "### 示例 2：\n",
    "\n",
    "输入：command = \"G()()()()(al)\"\n",
    "\n",
    "输出：\"Gooooal\"\n",
    "\n",
    "### 示例 3：\n",
    "\n",
    "输入：command = \"(al)G(al)()()G\"\n",
    "\n",
    "输出：\"alGalooG\"\n",
    "\n",
    "## 三、解题思路"
   ]
  },
  {
   "cell_type": "code",
   "execution_count": 1,
   "id": "5c5e9e8c",
   "metadata": {},
   "outputs": [],
   "source": [
    "class Solution:\n",
    "    def interpret(self, command: str) -> str:\n",
    "        return command.replace(\"()\", \"o\").replace(\"(al)\", \"al\")"
   ]
  },
  {
   "cell_type": "code",
   "execution_count": 2,
   "id": "0f7a33ca",
   "metadata": {},
   "outputs": [
    {
     "data": {
      "text/plain": [
       "'Goal'"
      ]
     },
     "execution_count": 2,
     "metadata": {},
     "output_type": "execute_result"
    }
   ],
   "source": [
    "s = Solution()\n",
    "s.interpret(\"G()(al)\")"
   ]
  },
  {
   "cell_type": "code",
   "execution_count": 3,
   "id": "02bcdd88",
   "metadata": {},
   "outputs": [
    {
     "data": {
      "text/plain": [
       "'Gooooal'"
      ]
     },
     "execution_count": 3,
     "metadata": {},
     "output_type": "execute_result"
    }
   ],
   "source": [
    "s.interpret(\"G()()()()(al)\")"
   ]
  },
  {
   "cell_type": "code",
   "execution_count": 4,
   "id": "0c4f144c",
   "metadata": {},
   "outputs": [
    {
     "data": {
      "text/plain": [
       "'alGalooG'"
      ]
     },
     "execution_count": 4,
     "metadata": {},
     "output_type": "execute_result"
    }
   ],
   "source": [
    "s.interpret(\"(al)G(al)()()G\")"
   ]
  },
  {
   "cell_type": "code",
   "execution_count": null,
   "id": "e8f32455",
   "metadata": {},
   "outputs": [],
   "source": []
  }
 ],
 "metadata": {
  "kernelspec": {
   "display_name": "Python 3 (ipykernel)",
   "language": "python",
   "name": "python3"
  },
  "language_info": {
   "codemirror_mode": {
    "name": "ipython",
    "version": 3
   },
   "file_extension": ".py",
   "mimetype": "text/x-python",
   "name": "python",
   "nbconvert_exporter": "python",
   "pygments_lexer": "ipython3",
   "version": "3.9.10+"
  }
 },
 "nbformat": 4,
 "nbformat_minor": 5
}
