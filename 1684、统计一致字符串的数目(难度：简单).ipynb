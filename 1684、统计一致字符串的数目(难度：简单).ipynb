{
 "cells": [
  {
   "cell_type": "markdown",
   "metadata": {},
   "source": [
    "# 统计一致字符串的数目\n",
    "\n",
    "**题目来源：力扣（LeetCode）**\n",
    "\n",
    "**链接：https://leetcode.cn/problems/count-the-number-of-consistent-strings/**\n",
    "\n",
    "## 一、题目\n",
    "\n",
    "给你一个由不同字符组成的字符串 allowed 和一个字符串数组 words 。如果一个字符串的每一个字符都在 allowed 中，就称这个字符串是 一致字符串 。\n",
    "\n",
    "请你返回 words 数组中 一致字符串 的数目。\n",
    "\n",
    "### 提示：\n",
    "\n",
    "- 1 <= words.length <= 10^4\n",
    "- 1 <= allowed.length <= 26\n",
    "- 1 <= words[i].length <= 10\n",
    "- allowed 中的字符 互不相同 。\n",
    "- words[i] 和 allowed 只包含小写英文字母。\n",
    "\n",
    "## 二、示例\n",
    "\n",
    "### 示例 1：\n",
    "\n",
    "输入：allowed = \"ab\", words = [\"ad\",\"bd\",\"aaab\",\"baa\",\"badab\"]\n",
    "\n",
    "输出：2\n",
    "\n",
    "解释：字符串 \"aaab\" 和 \"baa\" 都是一致字符串，因为它们只包含字符 'a' 和 'b' 。\n",
    "\n",
    "### 示例 2：\n",
    "\n",
    "输入：allowed = \"abc\", words = [\"a\",\"b\",\"c\",\"ab\",\"ac\",\"bc\",\"abc\"]\n",
    "\n",
    "输出：7\n",
    "\n",
    "解释：所有字符串都是一致的。\n",
    "\n",
    "### 示例 3：\n",
    "\n",
    "输入：allowed = \"cad\", words = [\"cc\",\"acd\",\"b\",\"ba\",\"bac\",\"bad\",\"ac\",\"d\"]\n",
    "\n",
    "输出：4\n",
    "\n",
    "解释：字符串 \"cc\"，\"acd\"，\"ac\" 和 \"d\" 是一致字符串。\n",
    "\n",
    "## 三、解题思路\n",
    "\n",
    "### 集合 + 遍历"
   ]
  },
  {
   "cell_type": "code",
   "execution_count": 1,
   "metadata": {},
   "outputs": [],
   "source": [
    "def countConsistentStrings(allowed: str, words) -> int:\n",
    "    allowed = {c for c in allowed}\n",
    "    ret = 0\n",
    "    for word in words:\n",
    "        allow = True\n",
    "        for char in word:\n",
    "            if char not in allowed:\n",
    "                allow = False\n",
    "                break\n",
    "        if allow:\n",
    "            ret += 1\n",
    "    return ret"
   ]
  },
  {
   "cell_type": "code",
   "execution_count": 2,
   "metadata": {},
   "outputs": [
    {
     "data": {
      "text/plain": [
       "2"
      ]
     },
     "execution_count": 2,
     "metadata": {},
     "output_type": "execute_result"
    }
   ],
   "source": [
    "countConsistentStrings(allowed = \"ab\", words = [\"ad\",\"bd\",\"aaab\",\"baa\",\"badab\"])"
   ]
  },
  {
   "cell_type": "code",
   "execution_count": 3,
   "metadata": {},
   "outputs": [
    {
     "data": {
      "text/plain": [
       "7"
      ]
     },
     "execution_count": 3,
     "metadata": {},
     "output_type": "execute_result"
    }
   ],
   "source": [
    "countConsistentStrings(allowed = \"abc\", words = [\"a\",\"b\",\"c\",\"ab\",\"ac\",\"bc\",\"abc\"])"
   ]
  },
  {
   "cell_type": "code",
   "execution_count": 4,
   "metadata": {},
   "outputs": [
    {
     "data": {
      "text/plain": [
       "4"
      ]
     },
     "execution_count": 4,
     "metadata": {},
     "output_type": "execute_result"
    }
   ],
   "source": [
    "countConsistentStrings(allowed = \"cad\", words = [\"cc\",\"acd\",\"b\",\"ba\",\"bac\",\"bad\",\"ac\",\"d\"])"
   ]
  },
  {
   "cell_type": "code",
   "execution_count": null,
   "metadata": {},
   "outputs": [],
   "source": []
  }
 ],
 "metadata": {
  "kernelspec": {
   "display_name": "Python 3",
   "language": "python",
   "name": "python3"
  },
  "language_info": {
   "codemirror_mode": {
    "name": "ipython",
    "version": 3
   },
   "file_extension": ".py",
   "mimetype": "text/x-python",
   "name": "python",
   "nbconvert_exporter": "python",
   "pygments_lexer": "ipython3",
   "version": "3.6.5"
  }
 },
 "nbformat": 4,
 "nbformat_minor": 2
}
