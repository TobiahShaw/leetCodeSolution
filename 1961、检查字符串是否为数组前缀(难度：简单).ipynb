{
 "cells": [
  {
   "cell_type": "markdown",
   "metadata": {},
   "source": [
    "# 检查字符串是否为数组前缀\n",
    "\n",
    "**题目来源：力扣（LeetCode）**\n",
    "\n",
    "**链接：https://leetcode-cn.com/problems/check-if-string-is-a-prefix-of-array/**\n",
    "\n",
    "## 一、题目\n",
    "\n",
    "给你一个字符串 s 和一个字符串数组 words ，请你判断 s 是否为 words 的 前缀字符串 。\n",
    "\n",
    "字符串 s 要成为 words 的 前缀字符串 ，需要满足：s 可以由 words 中的前 k（k 为 正数 ）个字符串按顺序相连得到，且 k 不超过 words.length 。\n",
    "\n",
    "如果 s 是 words 的 前缀字符串 ，返回 true ；否则，返回 false 。\n",
    "\n",
    "## 二、示例\n",
    "\n",
    "### 示例 1：\n",
    "\n",
    "输入：s = \"iloveleetcode\", words = [\"i\",\"love\",\"leetcode\",\"apples\"]\n",
    "\n",
    "输出：true\n",
    "\n",
    "解释：s 可以由 \"i\"、\"love\" 和 \"leetcode\" 相连得到。\n",
    "\n",
    "### 示例 2：\n",
    "\n",
    "输入：s = \"iloveleetcode\", words = [\"apples\",\"i\",\"love\",\"leetcode\"]\n",
    "\n",
    "输出：false\n",
    "\n",
    "解释：数组的前缀相连无法得到 s 。\n",
    "\n",
    "## 三、解题思路\n",
    "\n",
    "### 模拟"
   ]
  },
  {
   "cell_type": "code",
   "execution_count": 1,
   "metadata": {},
   "outputs": [],
   "source": [
    "def isPrefixString(s: str, words) -> bool:\n",
    "    for i in range(len(words) + 1):\n",
    "        if s == \"\".join(words[:i]):\n",
    "            return True\n",
    "    return False"
   ]
  },
  {
   "cell_type": "code",
   "execution_count": 2,
   "metadata": {},
   "outputs": [
    {
     "data": {
      "text/plain": [
       "True"
      ]
     },
     "execution_count": 2,
     "metadata": {},
     "output_type": "execute_result"
    }
   ],
   "source": [
    "isPrefixString(s = \"iloveleetcode\", words = [\"i\",\"love\",\"leetcode\",\"apples\"])"
   ]
  },
  {
   "cell_type": "code",
   "execution_count": 3,
   "metadata": {},
   "outputs": [
    {
     "data": {
      "text/plain": [
       "False"
      ]
     },
     "execution_count": 3,
     "metadata": {},
     "output_type": "execute_result"
    }
   ],
   "source": [
    "isPrefixString(s = \"iloveleetcode\", words = [\"apples\",\"i\",\"love\",\"leetcode\"])"
   ]
  },
  {
   "cell_type": "code",
   "execution_count": null,
   "metadata": {},
   "outputs": [],
   "source": []
  }
 ],
 "metadata": {
  "kernelspec": {
   "display_name": "Python 3",
   "language": "python",
   "name": "python3"
  },
  "language_info": {
   "codemirror_mode": {
    "name": "ipython",
    "version": 3
   },
   "file_extension": ".py",
   "mimetype": "text/x-python",
   "name": "python",
   "nbconvert_exporter": "python",
   "pygments_lexer": "ipython3",
   "version": "3.6.5"
  }
 },
 "nbformat": 4,
 "nbformat_minor": 2
}
