{
 "cells": [
  {
   "cell_type": "markdown",
   "metadata": {},
   "source": [
    "# 石子游戏IX\n",
    "\n",
    "**题目来源：力扣（LeetCode）**\n",
    "\n",
    "**链接：https://leetcode-cn.com/problems/stone-game-ix/**\n",
    "\n",
    "## 一、题目\n",
    "\n",
    "Alice 和 Bob 再次设计了一款新的石子游戏。现有一行 n 个石子，每个石子都有一个关联的数字表示它的价值。给你一个整数数组 stones ，其中 stones[i] 是第 i 个石子的价值。\n",
    "\n",
    "Alice 和 Bob 轮流进行自己的回合，Alice 先手。每一回合，玩家需要从 stones 中移除任一石子。\n",
    "\n",
    "如果玩家移除石子后，导致 所有已移除石子 的价值 总和 可以被 3 整除，那么该玩家就 输掉游戏 。\n",
    "如果不满足上一条，且移除后没有任何剩余的石子，那么 Bob 将会直接获胜（即便是在 Alice 的回合）。\n",
    "假设两位玩家均采用 最佳 决策。如果 Alice 获胜，返回 true ；如果 Bob 获胜，返回 false 。\n",
    "\n",
    "### 提示：\n",
    "\n",
    "- 1 <= stones.length <= 10^5\n",
    "- 1 <= stones[i] <= 10^4\n",
    "\n",
    "## 二、示例\n",
    "\n",
    "### 示例 1：\n",
    "\n",
    "输入：stones = [2,1]\n",
    "\n",
    "输出：true\n",
    "\n",
    "解释：游戏进行如下：\n",
    "\n",
    "- 回合 1：Alice 可以移除任意一个石子。\n",
    "- 回合 2：Bob 移除剩下的石子。 \n",
    "\n",
    "已移除的石子的值总和为 1 + 2 = 3 且可以被 3 整除。因此，Bob 输，Alice 获胜。\n",
    "\n",
    "### 示例 2：\n",
    "\n",
    "输入：stones = [2]\n",
    "\n",
    "输出：false\n",
    "\n",
    "解释：Alice 会移除唯一一个石子，已移除石子的值总和为 2 。\n",
    "\n",
    "由于所有石子都已移除，且值总和无法被 3 整除，Bob 获胜。\n",
    "\n",
    "### 示例 3：\n",
    "\n",
    "输入：stones = [5,1,2,4,3]\n",
    "\n",
    "输出：false\n",
    "\n",
    "解释：Bob 总会获胜。其中一种可能的游戏进行方式如下：\n",
    "\n",
    "- 回合 1：Alice 可以移除值为 1 的第 2 个石子。已移除石子值总和为 1 。\n",
    "- 回合 2：Bob 可以移除值为 3 的第 5 个石子。已移除石子值总和为 = 1 + 3 = 4 。\n",
    "- 回合 3：Alices 可以移除值为 4 的第 4 个石子。已移除石子值总和为 = 1 + 3 + 4 = 8 。\n",
    "- 回合 4：Bob 可以移除值为 2 的第 3 个石子。已移除石子值总和为 = 1 + 3 + 4 + 2 = 10.\n",
    "- 回合 5：Alice 可以移除值为 5 的第 1 个石子。已移除石子值总和为 = 1 + 3 + 4 + 2 + 5 = 15.\n",
    "\n",
    "Alice 输掉游戏，因为已移除石子值总和（15）可以被 3 整除，Bob 获胜。\n",
    "\n",
    "## 三、解题思路\n",
    "\n",
    "### 构造"
   ]
  },
  {
   "cell_type": "code",
   "execution_count": 1,
   "metadata": {},
   "outputs": [],
   "source": [
    "def stoneGameIX(stones) -> bool:\n",
    "    cnt0 = cnt1 = cnt2 = 0\n",
    "    for val in stones:\n",
    "        typ = val % 3\n",
    "        if typ == 0:\n",
    "            cnt0 += 1\n",
    "        elif typ == 1:\n",
    "            cnt1 += 1\n",
    "        else:\n",
    "            cnt2 += 1\n",
    "    if cnt0 % 2 == 0:\n",
    "        return cnt1 >= 1 and cnt2 >= 1\n",
    "    return cnt1 - cnt2 > 2 or cnt2 - cnt1 > 2"
   ]
  },
  {
   "cell_type": "code",
   "execution_count": 2,
   "metadata": {},
   "outputs": [
    {
     "data": {
      "text/plain": [
       "True"
      ]
     },
     "execution_count": 2,
     "metadata": {},
     "output_type": "execute_result"
    }
   ],
   "source": [
    "stoneGameIX([2,1])"
   ]
  },
  {
   "cell_type": "code",
   "execution_count": 3,
   "metadata": {},
   "outputs": [
    {
     "data": {
      "text/plain": [
       "False"
      ]
     },
     "execution_count": 3,
     "metadata": {},
     "output_type": "execute_result"
    }
   ],
   "source": [
    "stoneGameIX([2])"
   ]
  },
  {
   "cell_type": "code",
   "execution_count": 4,
   "metadata": {},
   "outputs": [
    {
     "data": {
      "text/plain": [
       "False"
      ]
     },
     "execution_count": 4,
     "metadata": {},
     "output_type": "execute_result"
    }
   ],
   "source": [
    "stoneGameIX([5,1,2,4,3])"
   ]
  },
  {
   "cell_type": "code",
   "execution_count": null,
   "metadata": {},
   "outputs": [],
   "source": []
  }
 ],
 "metadata": {
  "kernelspec": {
   "display_name": "Python 3",
   "language": "python",
   "name": "python3"
  },
  "language_info": {
   "codemirror_mode": {
    "name": "ipython",
    "version": 3
   },
   "file_extension": ".py",
   "mimetype": "text/x-python",
   "name": "python",
   "nbconvert_exporter": "python",
   "pygments_lexer": "ipython3",
   "version": "3.6.5"
  }
 },
 "nbformat": 4,
 "nbformat_minor": 2
}
