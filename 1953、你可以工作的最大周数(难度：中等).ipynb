{
 "cells": [
  {
   "cell_type": "markdown",
   "metadata": {},
   "source": [
    "# 你可以工作的最大周数\n",
    "\n",
    "**题目来源：力扣（LeetCode）**\n",
    "\n",
    "**链接：https://leetcode-cn.com/problems/maximum-number-of-weeks-for-which-you-can-work/**\n",
    "\n",
    "## 一、题目\n",
    "\n",
    "给你 n 个项目，编号从 0 到 n - 1 。同时给你一个整数数组 milestones ，其中每个 milestones[i] 表示第 i 个项目中的阶段任务数量。\n",
    "\n",
    "你可以按下面两个规则参与项目中的工作：\n",
    "\n",
    "- 每周，你将会完成 某一个 项目中的 恰好一个 阶段任务。你每周都 必须 工作。\n",
    "- 在 连续的 两周中，你 不能 参与并完成同一个项目中的两个阶段任务。\n",
    "\n",
    "一旦所有项目中的全部阶段任务都完成，或者仅剩余一个阶段任务都会导致你违反上面的规则，那么你将 停止工作 。注意，由于这些条件的限制，你可能无法完成所有阶段任务。\n",
    "\n",
    "返回在不违反上面规则的情况下你 最多 能工作多少周。\n",
    "\n",
    "### 提示：\n",
    "\n",
    "- n == milestones.length\n",
    "- 1 <= n <= 10^5\n",
    "- 1 <= milestones[i] <= 10^9\n",
    "\n",
    "## 二、示例\n",
    "\n",
    "### 示例 1：\n",
    "\n",
    "输入：milestones = [1,2,3]\n",
    "\n",
    "输出：6\n",
    "\n",
    "解释：一种可能的情形是：\n",
    "\n",
    "- 第 1 周，你参与并完成项目 0 中的一个阶段任务。\n",
    "- 第 2 周，你参与并完成项目 2 中的一个阶段任务。\n",
    "- 第 3 周，你参与并完成项目 1 中的一个阶段任务。\n",
    "- 第 4 周，你参与并完成项目 2 中的一个阶段任务。\n",
    "- 第 5 周，你参与并完成项目 1 中的一个阶段任务。\n",
    "- 第 6 周，你参与并完成项目 2 中的一个阶段任务。\n",
    "\n",
    "总周数是 6 。\n",
    "\n",
    "### 示例 2：\n",
    "\n",
    "输入：milestones = [5,2,1]\n",
    "\n",
    "输出：7\n",
    "\n",
    "解释：一种可能的情形是：\n",
    "\n",
    "- 第 1 周，你参与并完成项目 0 中的一个阶段任务。\n",
    "- 第 2 周，你参与并完成项目 1 中的一个阶段任务。\n",
    "- 第 3 周，你参与并完成项目 0 中的一个阶段任务。\n",
    "- 第 4 周，你参与并完成项目 1 中的一个阶段任务。\n",
    "- 第 5 周，你参与并完成项目 0 中的一个阶段任务。\n",
    "- 第 6 周，你参与并完成项目 2 中的一个阶段任务。\n",
    "- 第 7 周，你参与并完成项目 0 中的一个阶段任务。\n",
    "\n",
    "总周数是 7 。\n",
    "\n",
    "注意，你不能在第 8 周参与完成项目 0 中的最后一个阶段任务，因为这会违反规则。因此，项目 0 中会有一个阶段任务维持未完成状态。\n",
    "\n",
    "## 三、解题思路\n",
    "\n",
    "### 贪心"
   ]
  },
  {
   "cell_type": "code",
   "execution_count": 1,
   "metadata": {},
   "outputs": [],
   "source": [
    "def numberOfWeeks(milestones) -> int:\n",
    "    if max(milestones) <= sum(milestones) - max(milestones):\n",
    "        return sum(milestones)\n",
    "    return 2 * (sum(milestones) - max(milestones)) + 1"
   ]
  },
  {
   "cell_type": "code",
   "execution_count": 2,
   "metadata": {},
   "outputs": [
    {
     "data": {
      "text/plain": [
       "6"
      ]
     },
     "execution_count": 2,
     "metadata": {},
     "output_type": "execute_result"
    }
   ],
   "source": [
    "numberOfWeeks([1, 2, 3])"
   ]
  },
  {
   "cell_type": "code",
   "execution_count": 3,
   "metadata": {},
   "outputs": [
    {
     "data": {
      "text/plain": [
       "7"
      ]
     },
     "execution_count": 3,
     "metadata": {},
     "output_type": "execute_result"
    }
   ],
   "source": [
    "numberOfWeeks([5, 2, 1])"
   ]
  },
  {
   "cell_type": "code",
   "execution_count": null,
   "metadata": {},
   "outputs": [],
   "source": []
  }
 ],
 "metadata": {
  "kernelspec": {
   "display_name": "Python 3",
   "language": "python",
   "name": "python3"
  },
  "language_info": {
   "codemirror_mode": {
    "name": "ipython",
    "version": 3
   },
   "file_extension": ".py",
   "mimetype": "text/x-python",
   "name": "python",
   "nbconvert_exporter": "python",
   "pygments_lexer": "ipython3",
   "version": "3.6.5"
  }
 },
 "nbformat": 4,
 "nbformat_minor": 2
}
