{
 "cells": [
  {
   "cell_type": "markdown",
   "metadata": {},
   "source": [
    "# 从上到下打印二叉树 I\n",
    "\n",
    "**题目来源：力扣（LeetCode）**\n",
    "\n",
    "**链接：https://leetcode-cn.com/problems/cong-shang-dao-xia-da-yin-er-cha-shu-lcof/**\n",
    "\n",
    "## 一、题目\n",
    "\n",
    "给定一个二叉树，返回其按层次遍历的节点值。 （即逐层地，从左到右访问所有节点）。\n",
    "\n",
    "## 二、示例\n",
    "\n",
    "例如:\n",
    "\n",
    "给定二叉树: [3,9,20,null,null,15,7],\n",
    "\n",
    "&emsp;&emsp;&emsp;&emsp;3\n",
    "\n",
    "&emsp;&emsp;&emsp;/&emsp;&emsp;\\\n",
    "\n",
    "&emsp;&emsp;9&emsp;&emsp;&emsp;&emsp;20\n",
    "\n",
    "&emsp;&emsp;&emsp;&emsp;&emsp;&emsp;/&emsp;&emsp;\\\n",
    "\n",
    "&emsp;&emsp;&emsp;&emsp;&emsp;15&emsp;&emsp;&emsp;7\n",
    "\n",
    "返回其层次遍历结果：\n",
    "\n",
    "[3,9,20,15,7]\n",
    "\n",
    "## 三、解题思路"
   ]
  },
  {
   "cell_type": "code",
   "execution_count": 1,
   "metadata": {},
   "outputs": [],
   "source": [
    "class TreeNode:\n",
    "    def __init__(self, x):\n",
    "        self.val = x\n",
    "        self.left = None\n",
    "        self.right = None"
   ]
  },
  {
   "cell_type": "code",
   "execution_count": 2,
   "metadata": {},
   "outputs": [],
   "source": [
    "root = TreeNode(3)\n",
    "\n",
    "root.left = TreeNode(9)\n",
    "root.right = TreeNode(20)\n",
    "\n",
    "root.right.left = TreeNode(15)\n",
    "root.right.right = TreeNode(7)"
   ]
  },
  {
   "cell_type": "code",
   "execution_count": 3,
   "metadata": {},
   "outputs": [],
   "source": [
    "def levelOrder(root: TreeNode):\n",
    "    if not root:\n",
    "        return []\n",
    "    queue = [[root]]\n",
    "    ret = []\n",
    "    while queue:\n",
    "        layer = queue.pop()\n",
    "        next_layer = []\n",
    "        for node in layer:\n",
    "            ret.append(node.val)\n",
    "            if node.left:\n",
    "                next_layer.append(node.left)\n",
    "            if node.right:\n",
    "                next_layer.append(node.right)\n",
    "        if next_layer:\n",
    "            queue.append(next_layer)\n",
    "    return ret"
   ]
  },
  {
   "cell_type": "code",
   "execution_count": 4,
   "metadata": {},
   "outputs": [
    {
     "data": {
      "text/plain": [
       "[3, 9, 20, 15, 7]"
      ]
     },
     "execution_count": 4,
     "metadata": {},
     "output_type": "execute_result"
    }
   ],
   "source": [
    "levelOrder(root)"
   ]
  },
  {
   "cell_type": "code",
   "execution_count": null,
   "metadata": {},
   "outputs": [],
   "source": []
  }
 ],
 "metadata": {
  "kernelspec": {
   "display_name": "Python 3",
   "language": "python",
   "name": "python3"
  },
  "language_info": {
   "codemirror_mode": {
    "name": "ipython",
    "version": 3
   },
   "file_extension": ".py",
   "mimetype": "text/x-python",
   "name": "python",
   "nbconvert_exporter": "python",
   "pygments_lexer": "ipython3",
   "version": "3.6.5"
  }
 },
 "nbformat": 4,
 "nbformat_minor": 2
}
