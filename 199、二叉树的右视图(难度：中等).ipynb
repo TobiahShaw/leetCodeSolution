{
  "cells": [
    {
      "metadata": {
        "collapsed": true
      },
      "cell_type": "markdown",
      "source": "# 二叉树的右视图\n\n**题目来源：力扣（LeetCode）**\n\n**链接：https://leetcode-cn.com/problems/binary-tree-right-side-view/**\n\n## 一、题目\n\n给定一棵二叉树，想象自己站在它的右侧，按照从顶部到底部的顺序，返回从右侧所能看到的节点值。\n\n## 二、示例\n\n输入: [1,2,3,null,5,null,4]\n\n输出: [1, 3, 4]\n\n解释:\n\n```\n   1            <---\n /   \\\n2     3         <---\n \\     \\\n  5     4       <---\n```\n\n## 三、解题思路\n\n### 广度优先搜索\n\n- 层次遍历二叉树\n- 将每层最右边的节点的值放入结果在即可"
    },
    {
      "metadata": {
        "trusted": true
      },
      "cell_type": "code",
      "source": "class TreeNode:\n    def __init__(self, x):\n        self.val = x\n        self.left = None\n        self.right = None\ndef init():\n    root = TreeNode(1)\n    \n    root.left = TreeNode(2)\n    root.right = TreeNode(3)\n    \n    root.left.right = TreeNode(5)\n    root.right.right = TreeNode(4)\n    return root",
      "execution_count": 1,
      "outputs": []
    },
    {
      "metadata": {
        "trusted": true
      },
      "cell_type": "code",
      "source": "def rightSideView(root: TreeNode):\n    if not root:\n        return []\n    layer, output = [root], []\n    while layer:\n        layer_val = []\n        next_layer = []\n        for node in layer:\n            layer_val.append(node.val)\n            if node.left:\n                next_layer.append(node.left)\n            if node.right:\n                next_layer.append(node.right)\n        output.append(layer_val[-1])\n        layer = next_layer\n    return output",
      "execution_count": 2,
      "outputs": []
    },
    {
      "metadata": {
        "trusted": true
      },
      "cell_type": "code",
      "source": "rightSideView(init())",
      "execution_count": 3,
      "outputs": [
        {
          "output_type": "execute_result",
          "execution_count": 3,
          "data": {
            "text/plain": "[1, 3, 4]"
          },
          "metadata": {}
        }
      ]
    },
    {
      "metadata": {
        "trusted": true
      },
      "cell_type": "code",
      "source": "rightSideView(None)",
      "execution_count": 4,
      "outputs": [
        {
          "output_type": "execute_result",
          "execution_count": 4,
          "data": {
            "text/plain": "[]"
          },
          "metadata": {}
        }
      ]
    },
    {
      "metadata": {
        "trusted": true
      },
      "cell_type": "code",
      "source": "",
      "execution_count": null,
      "outputs": []
    }
  ],
  "metadata": {
    "kernelspec": {
      "name": "python36",
      "display_name": "Python 3.6",
      "language": "python"
    },
    "language_info": {
      "mimetype": "text/x-python",
      "nbconvert_exporter": "python",
      "name": "python",
      "pygments_lexer": "ipython3",
      "version": "3.6.6",
      "file_extension": ".py",
      "codemirror_mode": {
        "version": 3,
        "name": "ipython"
      }
    }
  },
  "nbformat": 4,
  "nbformat_minor": 2
}