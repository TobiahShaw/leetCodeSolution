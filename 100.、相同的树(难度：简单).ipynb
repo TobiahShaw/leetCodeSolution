{
  "cells": [
    {
      "metadata": {
        "collapsed": true
      },
      "cell_type": "markdown",
      "source": "# 相同的树\n\n**题目来源：力扣（LeetCode）**\n\n**链接：https://leetcode-cn.com/problems/same-tree/**\n\n## 一、题目\n\n给定两个二叉树，编写一个函数来检验它们是否相同。\n\n如果两个树在结构上相同，并且节点具有相同的值，则认为它们是相同的。\n\n## 二、示例\n\n### 示例 1:\n\n输入: \n\n&emsp;&emsp;&emsp;1&emsp;&emsp;&emsp;&emsp;&emsp;1\n\n&emsp;&emsp;/&emsp;&emsp;\\&emsp;&emsp;&emsp;/ &emsp;&emsp;\\\n\n&emsp;2&emsp;&emsp;&emsp;3&emsp;&emsp;2&emsp;&emsp;&emsp;3\n\n&emsp;&emsp;[1,2,3]&emsp;&emsp;&emsp;[1,2,3]\n\n输出: true\n\n### 示例 2:\n\n输入:\n\n&emsp;&emsp;&emsp;1&emsp;&emsp;&emsp;&emsp;&emsp;1\n\n&emsp;&emsp;/&emsp;&emsp;\\&emsp;&emsp;&emsp;/ &emsp;&emsp;\\\n\n&emsp;2&emsp;&emsp;&emsp;&emsp;&emsp;&emsp;&emsp;&emsp;&emsp;2\n\n&emsp;&emsp;[1,2]&emsp;&emsp;&emsp;[1,null,2]\n\n输出: false\n\n### 示例 3:\n\n输入:\n\n&emsp;&emsp;&emsp;1&emsp;&emsp;&emsp;&emsp;&emsp;1\n\n&emsp;&emsp;/&emsp;&emsp;\\&emsp;&emsp;&emsp;/ &emsp;&emsp;\\\n\n&emsp;2&emsp;&emsp;&emsp;1&emsp;&emsp;1&emsp;&emsp;&emsp;2\n\n&emsp;&emsp;[1,2,1]&emsp;&emsp;&emsp;[1,1,2]\n\n输出: false\n\n## 三、解题思路"
    },
    {
      "metadata": {
        "trusted": true
      },
      "cell_type": "code",
      "source": "class TreeNode:\n    def __init__(self, x):\n        self.val = x\n        self.left = None\n        self.right = None",
      "execution_count": 1,
      "outputs": []
    },
    {
      "metadata": {},
      "cell_type": "markdown",
      "source": "### 递归遍历"
    },
    {
      "metadata": {
        "trusted": true
      },
      "cell_type": "code",
      "source": "def isSameTree(p, q):\n    if p == q == None:\n        return True\n    if p is None:\n        return False\n    if q is None:\n        return False\n    if p.val == q.val:\n        return isSameTree(p.left, q.left) and isSameTree(p.right, q.right)\n    else:\n        return False",
      "execution_count": 2,
      "outputs": []
    },
    {
      "metadata": {
        "trusted": true
      },
      "cell_type": "code",
      "source": "def isSameTree(p, q):\n    def check(p, q):\n        if p == q == None:\n            return True\n        if p is None or q is None:\n            return False\n        return p.val == q.val\n    queue = [(p, q)]\n    while queue:\n        p, q = queue.pop()\n        if not check(p, q):\n            return False\n        if p:\n            queue.append((p.left, q.left))\n            queue.append((p.right, q.right))\n    return True",
      "execution_count": 1,
      "outputs": []
    },
    {
      "metadata": {
        "trusted": true
      },
      "cell_type": "code",
      "source": "",
      "execution_count": null,
      "outputs": []
    }
  ],
  "metadata": {
    "kernelspec": {
      "name": "python36",
      "display_name": "Python 3.6",
      "language": "python"
    },
    "language_info": {
      "mimetype": "text/x-python",
      "nbconvert_exporter": "python",
      "name": "python",
      "pygments_lexer": "ipython3",
      "version": "3.6.6",
      "file_extension": ".py",
      "codemirror_mode": {
        "version": 3,
        "name": "ipython"
      }
    }
  },
  "nbformat": 4,
  "nbformat_minor": 2
}