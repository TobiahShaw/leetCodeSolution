{
 "cells": [
  {
   "cell_type": "markdown",
   "id": "21708c98",
   "metadata": {},
   "source": [
    "# 统计同构子字符串的数目\n",
    "\n",
    "**题目来源：力扣（LeetCode）**\n",
    "\n",
    "**链接：https://leetcode.cn/problems/count-number-of-homogenous-substrings/**\n",
    "\n",
    "## 一、题目\n",
    "\n",
    "给你一个字符串 s ，返回 s 中 同构子字符串 的数目。由于答案可能很大，只需返回对 10^9 + 7 取余 后的结果。\n",
    "\n",
    "同构字符串 的定义为：如果一个字符串中的所有字符都相同，那么该字符串就是同构字符串。\n",
    "\n",
    "子字符串 是字符串中的一个连续字符序列。\n",
    "\n",
    "### 提示：\n",
    "\n",
    "- 1 <= s.length <= 10^5\n",
    "- s 由小写字符串组成\n",
    "\n",
    "## 二、示例\n",
    "\n",
    "### 示例 1：\n",
    "\n",
    "输入：s = \"abbcccaa\"\n",
    "\n",
    "输出：13\n",
    "\n",
    "解释：同构子字符串如下所列：\n",
    "\n",
    "- \"a\"   出现 3 次。\n",
    "- \"aa\"  出现 1 次。\n",
    "- \"b\"   出现 2 次。\n",
    "- \"bb\"  出现 1 次。\n",
    "- \"c\"   出现 3 次。\n",
    "- \"cc\"  出现 2 次。\n",
    "- \"ccc\" 出现 1 次。\n",
    "\n",
    "3 + 1 + 2 + 1 + 3 + 2 + 1 = 13\n",
    "\n",
    "### 示例 2：\n",
    "\n",
    "输入：s = \"xy\"\n",
    "\n",
    "输出：2\n",
    "\n",
    "解释：同构子字符串是 \"x\" 和 \"y\" 。\n",
    "\n",
    "### 示例 3：\n",
    "\n",
    "输入：s = \"zzzzz\"\n",
    "\n",
    "输出：15\n",
    "\n",
    "## 三、解题思路\n",
    "\n",
    "### 数学规律"
   ]
  },
  {
   "cell_type": "code",
   "execution_count": 1,
   "id": "31d426f1",
   "metadata": {},
   "outputs": [],
   "source": [
    "class Solution:\n",
    "    def countHomogenous(self, s: str) -> int:\n",
    "        ret = 0\n",
    "        cur = None\n",
    "        curCount = 0\n",
    "        for ch in s:\n",
    "            if ch == cur:\n",
    "                curCount += 1\n",
    "            else:\n",
    "                ret += (curCount + 1) * curCount // 2\n",
    "                cur = ch\n",
    "                curCount = 1\n",
    "        ret += (curCount + 1) * curCount // 2\n",
    "        return ret % (10 ** 9 + 7)"
   ]
  },
  {
   "cell_type": "code",
   "execution_count": 2,
   "id": "897f8d99",
   "metadata": {},
   "outputs": [
    {
     "data": {
      "text/plain": [
       "13"
      ]
     },
     "execution_count": 2,
     "metadata": {},
     "output_type": "execute_result"
    }
   ],
   "source": [
    "s = Solution()\n",
    "s.countHomogenous(\"abbcccaa\")"
   ]
  },
  {
   "cell_type": "code",
   "execution_count": 3,
   "id": "2492125d",
   "metadata": {},
   "outputs": [
    {
     "data": {
      "text/plain": [
       "2"
      ]
     },
     "execution_count": 3,
     "metadata": {},
     "output_type": "execute_result"
    }
   ],
   "source": [
    "s.countHomogenous(\"xy\")"
   ]
  },
  {
   "cell_type": "code",
   "execution_count": 4,
   "id": "d755c53b",
   "metadata": {},
   "outputs": [
    {
     "data": {
      "text/plain": [
       "15"
      ]
     },
     "execution_count": 4,
     "metadata": {},
     "output_type": "execute_result"
    }
   ],
   "source": [
    "s.countHomogenous(\"zzzzz\")"
   ]
  },
  {
   "cell_type": "code",
   "execution_count": null,
   "id": "86789acb",
   "metadata": {},
   "outputs": [],
   "source": []
  }
 ],
 "metadata": {
  "kernelspec": {
   "display_name": "Python 3 (ipykernel)",
   "language": "python",
   "name": "python3"
  },
  "language_info": {
   "codemirror_mode": {
    "name": "ipython",
    "version": 3
   },
   "file_extension": ".py",
   "mimetype": "text/x-python",
   "name": "python",
   "nbconvert_exporter": "python",
   "pygments_lexer": "ipython3",
   "version": "3.11.0"
  }
 },
 "nbformat": 4,
 "nbformat_minor": 5
}
