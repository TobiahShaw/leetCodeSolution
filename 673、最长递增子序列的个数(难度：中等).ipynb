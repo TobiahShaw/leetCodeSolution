{
 "cells": [
  {
   "cell_type": "markdown",
   "metadata": {},
   "source": [
    "# 最长递增子序列的个数\n",
    "\n",
    "**题目来源：力扣（LeetCode）**\n",
    "\n",
    "**链接：https://leetcode-cn.com/problems/number-of-longest-increasing-subsequence/**\n",
    "\n",
    "## 一、题目\n",
    "\n",
    "给定一个未排序的整数数组，找到最长递增子序列的个数。\n",
    "\n",
    "### 注意: \n",
    "\n",
    "给定的数组长度不超过 2000 并且结果一定是32位有符号整数。\n",
    "\n",
    "## 二、示例\n",
    "\n",
    "### 示例 1：\n",
    "\n",
    "输入: [1,3,5,4,7]\n",
    "\n",
    "输出: 2\n",
    "\n",
    "解释: 有两个最长递增子序列，分别是 [1, 3, 4, 7] 和[1, 3, 5, 7]。\n",
    "\n",
    "### 示例 2:\n",
    "\n",
    "输入: [2,2,2,2,2]\n",
    "\n",
    "输出: 5\n",
    "\n",
    "解释: 最长递增子序列的长度是1，并且存在5个子序列的长度为1，因此输出5。\n",
    "\n",
    "## 三、解题思路\n",
    "\n",
    "### 动态规划"
   ]
  },
  {
   "cell_type": "code",
   "execution_count": 1,
   "metadata": {},
   "outputs": [],
   "source": [
    "def findNumberOfLIS(nums) -> int:\n",
    "    n, max_len, ans = len(nums), 0, 0\n",
    "    dp = [0] * n\n",
    "    cnt = [0] * n\n",
    "    for i, x in enumerate(nums):\n",
    "        dp[i] = 1\n",
    "        cnt[i] = 1\n",
    "        for j in range(i):\n",
    "            if x > nums[j]:\n",
    "                if dp[j] + 1 > dp[i]:\n",
    "                    dp[i] = dp[j] + 1\n",
    "                    cnt[i] = cnt[j]  # 重置计数\n",
    "                elif dp[j] + 1 == dp[i]:\n",
    "                    cnt[i] += cnt[j]\n",
    "        if dp[i] > max_len:\n",
    "            max_len = dp[i]\n",
    "            ans = cnt[i]  # 重置计数\n",
    "        elif dp[i] == max_len:\n",
    "            ans += cnt[i]\n",
    "    return ans"
   ]
  },
  {
   "cell_type": "code",
   "execution_count": 2,
   "metadata": {},
   "outputs": [
    {
     "data": {
      "text/plain": [
       "2"
      ]
     },
     "execution_count": 2,
     "metadata": {},
     "output_type": "execute_result"
    }
   ],
   "source": [
    "findNumberOfLIS([1,3,5,4,7])"
   ]
  },
  {
   "cell_type": "code",
   "execution_count": 3,
   "metadata": {},
   "outputs": [
    {
     "data": {
      "text/plain": [
       "5"
      ]
     },
     "execution_count": 3,
     "metadata": {},
     "output_type": "execute_result"
    }
   ],
   "source": [
    "findNumberOfLIS([2,2,2,2,2])"
   ]
  },
  {
   "cell_type": "code",
   "execution_count": null,
   "metadata": {},
   "outputs": [],
   "source": []
  }
 ],
 "metadata": {
  "kernelspec": {
   "display_name": "Python 3",
   "language": "python",
   "name": "python3"
  },
  "language_info": {
   "codemirror_mode": {
    "name": "ipython",
    "version": 3
   },
   "file_extension": ".py",
   "mimetype": "text/x-python",
   "name": "python",
   "nbconvert_exporter": "python",
   "pygments_lexer": "ipython3",
   "version": "3.6.5"
  }
 },
 "nbformat": 4,
 "nbformat_minor": 2
}
