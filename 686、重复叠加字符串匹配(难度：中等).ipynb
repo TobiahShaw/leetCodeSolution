{
 "cells": [
  {
   "cell_type": "markdown",
   "metadata": {},
   "source": [
    "# 重复叠加字符串匹配\n",
    "\n",
    "**题目来源：力扣（LeetCode）**\n",
    "\n",
    "**链接：https://leetcode-cn.com/problems/repeated-string-match/**\n",
    "\n",
    "## 一、题目\n",
    "\n",
    "给定两个字符串 a 和 b，寻找重复叠加字符串 a 的最小次数，使得字符串 b 成为叠加后的字符串 a 的子串，如果不存在则返回 -1。\n",
    "\n",
    "注意：字符串 \"abc\" 重复叠加 0 次是 \"\"，重复叠加 1 次是 \"abc\"，重复叠加 2 次是 \"abcabc\"。\n",
    "\n",
    "### 提示：\n",
    "\n",
    "- 1 <= a.length <= 10^4\n",
    "- 1 <= b.length <= 10^4\n",
    "- a 和 b 由小写英文字母组成\n",
    "\n",
    "## 二、示例\n",
    "\n",
    "### 示例 1：\n",
    "\n",
    "输入：a = \"abcd\", b = \"cdabcdab\"\n",
    "\n",
    "输出：3\n",
    "\n",
    "解释：a 重复叠加三遍后为 \"abcdabcdabcd\", 此时 b 是其子串。\n",
    "\n",
    "### 示例 2：\n",
    "\n",
    "输入：a = \"a\", b = \"aa\"\n",
    "\n",
    "输出：2\n",
    "\n",
    "### 示例 3：\n",
    "\n",
    "输入：a = \"a\", b = \"a\"\n",
    "\n",
    "输出：1\n",
    "\n",
    "### 示例 4：\n",
    "\n",
    "输入：a = \"abc\", b = \"wxyz\"\n",
    "\n",
    "输出：-1\n",
    "\n",
    "## 三、解题思路\n",
    "\n",
    "### 内置函数"
   ]
  },
  {
   "cell_type": "code",
   "execution_count": 1,
   "metadata": {},
   "outputs": [],
   "source": [
    "def repeatedStringMatch(a: str, b: str) -> int:\n",
    "    from math import ceil\n",
    "    index = (a*(len(b)//len(a)+2)).find(b)\n",
    "    return ceil((index+len(b)) / len(a)) if index >= 0 else -1"
   ]
  },
  {
   "cell_type": "code",
   "execution_count": 2,
   "metadata": {},
   "outputs": [
    {
     "data": {
      "text/plain": [
       "3"
      ]
     },
     "execution_count": 2,
     "metadata": {},
     "output_type": "execute_result"
    }
   ],
   "source": [
    "repeatedStringMatch(a = \"abcd\", b = \"cdabcdab\")"
   ]
  },
  {
   "cell_type": "code",
   "execution_count": 3,
   "metadata": {},
   "outputs": [
    {
     "data": {
      "text/plain": [
       "2"
      ]
     },
     "execution_count": 3,
     "metadata": {},
     "output_type": "execute_result"
    }
   ],
   "source": [
    "repeatedStringMatch(a = \"a\", b = \"aa\")"
   ]
  },
  {
   "cell_type": "code",
   "execution_count": 4,
   "metadata": {},
   "outputs": [
    {
     "data": {
      "text/plain": [
       "1"
      ]
     },
     "execution_count": 4,
     "metadata": {},
     "output_type": "execute_result"
    }
   ],
   "source": [
    "repeatedStringMatch(a = \"a\", b = \"a\")"
   ]
  },
  {
   "cell_type": "code",
   "execution_count": 5,
   "metadata": {},
   "outputs": [
    {
     "data": {
      "text/plain": [
       "-1"
      ]
     },
     "execution_count": 5,
     "metadata": {},
     "output_type": "execute_result"
    }
   ],
   "source": [
    "repeatedStringMatch(a = \"abc\", b = \"wxyz\")"
   ]
  },
  {
   "cell_type": "code",
   "execution_count": null,
   "metadata": {},
   "outputs": [],
   "source": []
  }
 ],
 "metadata": {
  "kernelspec": {
   "display_name": "Python 3",
   "language": "python",
   "name": "python3"
  },
  "language_info": {
   "codemirror_mode": {
    "name": "ipython",
    "version": 3
   },
   "file_extension": ".py",
   "mimetype": "text/x-python",
   "name": "python",
   "nbconvert_exporter": "python",
   "pygments_lexer": "ipython3",
   "version": "3.6.5"
  }
 },
 "nbformat": 4,
 "nbformat_minor": 2
}
