{
  "cells": [
    {
      "metadata": {
        "collapsed": true
      },
      "cell_type": "markdown",
      "source": "# 二叉树中的最大路径和\n\n**题目来源：力扣（LeetCode）**\n\n**链接：https://leetcode-cn.com/problems/binary-tree-maximum-path-sum/**\n\n## 一、题目\n\n给定一个非空二叉树，返回其最大路径和。\n\n本题中，路径被定义为一条从树中任意节点出发，达到任意节点的序列。该路径至少包含一个节点，且不一定经过根节点。\n\n## 二、示例\n\n### 示例 1:\n\n输入: [1,2,3]\n\n```\n       1\n      / \\\n     2   3\n```\n\n输出: 6\n\n### 示例 2:\n\n输入: [-10,9,20,null,null,15,7]\n\n```\n   -10\n   / \\\n  9  20\n    /  \\\n   15   7\n```\n\n输出: 42\n\n## 三、解题思路\n\n### 递归"
    },
    {
      "metadata": {
        "trusted": true
      },
      "cell_type": "code",
      "source": "class TreeNode:\n    def __init__(self, x):\n        self.val = x\n        self.left = None\n        self.right = None",
      "execution_count": 1,
      "outputs": []
    },
    {
      "metadata": {
        "trusted": true
      },
      "cell_type": "code",
      "source": "root1 = TreeNode(1)\nroot1.left = TreeNode(2)\nroot1.right = TreeNode(3)\n\nroot2 = TreeNode(-10)\nroot2.left = TreeNode(9)\nroot2.right = TreeNode(20)\nroot2.right.left = TreeNode(15)\nroot2.right.right = TreeNode(7)",
      "execution_count": 2,
      "outputs": []
    },
    {
      "metadata": {
        "trusted": true
      },
      "cell_type": "code",
      "source": "class Solution:\n    def maxPathSum(self, root: TreeNode) -> int:\n        self.maxValue = float(\"-inf\")\n        def maxGain(node):\n            if not node:\n                return 0\n            leftGain = max(maxGain(node.left), 0)\n            rightGain = max(maxGain(node.right), 0)\n\n            value = node.val + leftGain + rightGain\n            self.maxValue = max(self.maxValue, value)\n            return node.val + max(leftGain, rightGain)\n        maxGain(root)\n        return self.maxValue",
      "execution_count": 3,
      "outputs": []
    },
    {
      "metadata": {
        "trusted": true
      },
      "cell_type": "code",
      "source": "s = Solution()\ns.maxPathSum(root1)",
      "execution_count": 4,
      "outputs": [
        {
          "output_type": "execute_result",
          "execution_count": 4,
          "data": {
            "text/plain": "6"
          },
          "metadata": {}
        }
      ]
    },
    {
      "metadata": {
        "trusted": true
      },
      "cell_type": "code",
      "source": "s.maxPathSum(root2)",
      "execution_count": 5,
      "outputs": [
        {
          "output_type": "execute_result",
          "execution_count": 5,
          "data": {
            "text/plain": "42"
          },
          "metadata": {}
        }
      ]
    },
    {
      "metadata": {
        "trusted": true
      },
      "cell_type": "code",
      "source": "",
      "execution_count": null,
      "outputs": []
    }
  ],
  "metadata": {
    "kernelspec": {
      "name": "python36",
      "display_name": "Python 3.6",
      "language": "python"
    },
    "language_info": {
      "mimetype": "text/x-python",
      "nbconvert_exporter": "python",
      "name": "python",
      "pygments_lexer": "ipython3",
      "version": "3.6.6",
      "file_extension": ".py",
      "codemirror_mode": {
        "version": 3,
        "name": "ipython"
      }
    }
  },
  "nbformat": 4,
  "nbformat_minor": 2
}