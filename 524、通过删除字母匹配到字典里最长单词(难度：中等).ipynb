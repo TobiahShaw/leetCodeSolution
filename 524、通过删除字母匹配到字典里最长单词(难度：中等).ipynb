{
 "cells": [
  {
   "cell_type": "markdown",
   "metadata": {},
   "source": [
    "# 通过删除字母匹配到字典里最长单词\n",
    "\n",
    "**题目来源：力扣（LeetCode）**\n",
    "\n",
    "**链接：https://leetcode-cn.com/problems/longest-word-in-dictionary-through-deleting/**\n",
    "\n",
    "## 一、题目\n",
    "\n",
    "给你一个字符串 s 和一个字符串数组 dictionary 作为字典，找出并返回字典中最长的字符串，该字符串可以通过删除 s 中的某些字符得到。\n",
    "\n",
    "如果答案不止一个，返回长度最长且字典序最小的字符串。如果答案不存在，则返回空字符串。\n",
    "\n",
    "### 提示：\n",
    "\n",
    "- 1 <= s.length <= 1000\n",
    "- 1 <= dictionary.length <= 1000\n",
    "- 1 <= dictionary[i].length <= 1000\n",
    "- s 和 dictionary[i] 仅由小写英文字母组成\n",
    "\n",
    "## 二、示例\n",
    "\n",
    "### 示例 1：\n",
    "\n",
    "输入：s = \"abpcplea\", dictionary = [\"ale\",\"apple\",\"monkey\",\"plea\"]\n",
    "\n",
    "输出：\"apple\"\n",
    "\n",
    "### 示例 2：\n",
    "\n",
    "输入：s = \"abpcplea\", dictionary = [\"a\",\"b\",\"c\"]\n",
    "\n",
    "输出：\"a\"\n",
    "\n",
    "## 三、解题思路\n",
    "\n",
    "### 双指针"
   ]
  },
  {
   "cell_type": "code",
   "execution_count": 1,
   "metadata": {},
   "outputs": [],
   "source": [
    "def findLongestWord(s: str, dictionary) -> str:\n",
    "    def pattern(word, dicWord):\n",
    "        m, n = len(word), len(dicWord)\n",
    "        indexW, indexD = 0, 0\n",
    "        while True:\n",
    "            if indexD >= n:\n",
    "                return True\n",
    "            if indexW >= m:\n",
    "                return False\n",
    "            if word[indexW] == dicWord[indexD]:\n",
    "                indexW += 1\n",
    "                indexD += 1\n",
    "            else:\n",
    "                indexW += 1\n",
    "        return 0\n",
    "    ret = \"\"\n",
    "    for dicWord in dictionary:\n",
    "        if (not pattern(s, dicWord)):\n",
    "            continue\n",
    "        if len(dicWord) > len(ret) or (len(dicWord) == len(ret) and dicWord < ret):\n",
    "            ret = dicWord\n",
    "    return ret"
   ]
  },
  {
   "cell_type": "code",
   "execution_count": 2,
   "metadata": {},
   "outputs": [
    {
     "data": {
      "text/plain": [
       "'apple'"
      ]
     },
     "execution_count": 2,
     "metadata": {},
     "output_type": "execute_result"
    }
   ],
   "source": [
    "findLongestWord(s = \"abpcplea\", dictionary = [\"ale\",\"apple\",\"monkey\",\"plea\"])"
   ]
  },
  {
   "cell_type": "code",
   "execution_count": 3,
   "metadata": {},
   "outputs": [
    {
     "data": {
      "text/plain": [
       "'a'"
      ]
     },
     "execution_count": 3,
     "metadata": {},
     "output_type": "execute_result"
    }
   ],
   "source": [
    "findLongestWord(s = \"abpcplea\", dictionary = [\"a\",\"b\",\"c\"])"
   ]
  },
  {
   "cell_type": "code",
   "execution_count": null,
   "metadata": {},
   "outputs": [],
   "source": []
  }
 ],
 "metadata": {
  "kernelspec": {
   "display_name": "Python 3",
   "language": "python",
   "name": "python3"
  },
  "language_info": {
   "codemirror_mode": {
    "name": "ipython",
    "version": 3
   },
   "file_extension": ".py",
   "mimetype": "text/x-python",
   "name": "python",
   "nbconvert_exporter": "python",
   "pygments_lexer": "ipython3",
   "version": "3.6.5"
  }
 },
 "nbformat": 4,
 "nbformat_minor": 2
}
