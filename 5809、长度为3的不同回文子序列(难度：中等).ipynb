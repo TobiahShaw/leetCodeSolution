{
 "cells": [
  {
   "cell_type": "markdown",
   "metadata": {},
   "source": [
    "# 长度为3的不同回文子序列\n",
    "\n",
    "**题目来源：力扣（LeetCode）**\n",
    "\n",
    "**链接：https://leetcode-cn.com/problems/unique-length-3-palindromic-subsequences/**\n",
    "\n",
    "## 一、题目\n",
    "\n",
    "给你一个字符串 s ，返回 s 中 长度为 3 的不同回文子序列 的个数。\n",
    "\n",
    "即便存在多种方法来构建相同的子序列，但相同的子序列只计数一次。\n",
    "\n",
    "回文 是正着读和反着读一样的字符串。\n",
    "\n",
    "子序列 是由原字符串删除其中部分字符（也可以不删除）且不改变剩余字符之间相对顺序形成的一个新字符串。\n",
    "\n",
    "- 例如，\"ace\" 是 \"abcde\" 的一个子序列。\n",
    "\n",
    "## 二、示例\n",
    "\n",
    "### 示例 1：\n",
    "\n",
    "输入：s = \"aabca\"\n",
    "\n",
    "输出：3\n",
    "\n",
    "解释：长度为 3 的 3 个回文子序列分别是：\n",
    "\n",
    "- \"aba\" (\"aabca\" 的子序列)\n",
    "- \"aaa\" (\"aabca\" 的子序列)\n",
    "- \"aca\" (\"aabca\" 的子序列)\n",
    "\n",
    "### 示例 2：\n",
    "\n",
    "输入：s = \"adc\"\n",
    "\n",
    "输出：0\n",
    "\n",
    "解释：\"adc\" 不存在长度为 3 的回文子序列。\n",
    "\n",
    "### 示例 3：\n",
    "\n",
    "输入：s = \"bbcbaba\"\n",
    "\n",
    "输出：4\n",
    "\n",
    "解释：长度为 3 的 4 个回文子序列分别是：\n",
    "\n",
    "- \"bbb\" (\"bbcbaba\" 的子序列)\n",
    "- \"bcb\" (\"bbcbaba\" 的子序列)\n",
    "- \"bab\" (\"bbcbaba\" 的子序列)\n",
    "- \"aba\" (\"bbcbaba\" 的子序列)\n",
    "\n",
    "## 三、解题思路\n",
    "\n",
    "### 回溯（超时）"
   ]
  },
  {
   "cell_type": "code",
   "execution_count": 1,
   "metadata": {},
   "outputs": [],
   "source": [
    "def countPalindromicSubsequence(s: str) -> int:\n",
    "    def isValid(tmp):\n",
    "        if tmp and len(tmp) == 3:\n",
    "            return tmp[0] == tmp[2]\n",
    "        return False\n",
    "    def backtrace(i, item, result):\n",
    "        if len(item) == 3:\n",
    "            tmp = \"\".join(item)\n",
    "            if isValid(tmp):\n",
    "                result.add(tmp)\n",
    "            return\n",
    "        if i >= len(s):\n",
    "            return\n",
    "        item.append(s[i])\n",
    "        backtrace(i + 1, item, result)\n",
    "        item.pop()\n",
    "        backtrace(i + 1, item, result)\n",
    "    result = set()\n",
    "    backtrace(0, [], result)\n",
    "    return len(result)"
   ]
  },
  {
   "cell_type": "code",
   "execution_count": 2,
   "metadata": {},
   "outputs": [
    {
     "data": {
      "text/plain": [
       "3"
      ]
     },
     "execution_count": 2,
     "metadata": {},
     "output_type": "execute_result"
    }
   ],
   "source": [
    "countPalindromicSubsequence(\"aabca\")"
   ]
  },
  {
   "cell_type": "code",
   "execution_count": 3,
   "metadata": {},
   "outputs": [
    {
     "data": {
      "text/plain": [
       "0"
      ]
     },
     "execution_count": 3,
     "metadata": {},
     "output_type": "execute_result"
    }
   ],
   "source": [
    "countPalindromicSubsequence(\"adc\")"
   ]
  },
  {
   "cell_type": "code",
   "execution_count": 4,
   "metadata": {},
   "outputs": [
    {
     "data": {
      "text/plain": [
       "4"
      ]
     },
     "execution_count": 4,
     "metadata": {},
     "output_type": "execute_result"
    }
   ],
   "source": [
    "countPalindromicSubsequence(\"bbcbaba\")"
   ]
  },
  {
   "cell_type": "code",
   "execution_count": null,
   "metadata": {},
   "outputs": [],
   "source": []
  }
 ],
 "metadata": {
  "kernelspec": {
   "display_name": "Python 3",
   "language": "python",
   "name": "python3"
  },
  "language_info": {
   "codemirror_mode": {
    "name": "ipython",
    "version": 3
   },
   "file_extension": ".py",
   "mimetype": "text/x-python",
   "name": "python",
   "nbconvert_exporter": "python",
   "pygments_lexer": "ipython3",
   "version": "3.6.5"
  }
 },
 "nbformat": 4,
 "nbformat_minor": 2
}
