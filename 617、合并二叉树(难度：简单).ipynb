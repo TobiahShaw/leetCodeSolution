{
  "cells": [
    {
      "metadata": {
        "collapsed": true
      },
      "cell_type": "markdown",
      "source": "# 合并二叉树\n\n**题目来源：力扣（LeetCode）**\n\n**链接：https://leetcode-cn.com/problems/merge-two-binary-trees/**\n\n## 一、题目\n\n给定两个二叉树，想象当你将它们中的一个覆盖到另一个上时，两个二叉树的一些节点便会重叠。\n\n你需要将他们合并为一个新的二叉树。合并的规则是如果两个节点重叠，那么将他们的值相加作为节点合并后的新值，否则不为 NULL 的节点将直接作为新二叉树的节点。\n\n## 二、示例\n\n### 示例一\n\n输入: \n\ntree1：\n\n&emsp;&emsp;&emsp;&emsp;1\n\n&emsp;&emsp;&emsp;/&emsp;&emsp;\\\n\n&emsp;&emsp;3&emsp;&emsp;&emsp;2\n\n&emsp;/\n\n5\n\ntree2:\n\n&emsp;&emsp;2\n\n&emsp;/&emsp;&emsp;\\\n\n1&emsp;&emsp;&emsp;3\n\n&emsp;\\&emsp;&emsp;&emsp;\\\n\n&emsp;&emsp;4&emsp;&emsp;&emsp;7\n\n输出: \n\n合并后的树:\n\ntree1：\n\n&emsp;&emsp;&emsp;&emsp;1\n\n&emsp;&emsp;&emsp;/&emsp;&emsp;\\\n\n&emsp;&emsp;4&emsp;&emsp;&emsp;5\n\n&emsp;/&emsp;&emsp;\\&emsp;&emsp;&emsp;\\\n\n5&emsp;&emsp;&emsp;4&emsp;&emsp;&emsp;7\n\n必须从根节点开始合并！"
    },
    {
      "metadata": {
        "trusted": true
      },
      "cell_type": "code",
      "source": "",
      "execution_count": null,
      "outputs": []
    }
  ],
  "metadata": {
    "kernelspec": {
      "name": "python36",
      "display_name": "Python 3.6",
      "language": "python"
    },
    "language_info": {
      "mimetype": "text/x-python",
      "nbconvert_exporter": "python",
      "name": "python",
      "pygments_lexer": "ipython3",
      "version": "3.6.6",
      "file_extension": ".py",
      "codemirror_mode": {
        "version": 3,
        "name": "ipython"
      }
    }
  },
  "nbformat": 4,
  "nbformat_minor": 2
}