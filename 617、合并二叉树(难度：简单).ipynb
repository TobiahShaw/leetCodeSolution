{
  "cells": [
    {
      "metadata": {
        "collapsed": true
      },
      "cell_type": "markdown",
      "source": "# 合并二叉树\n\n**题目来源：力扣（LeetCode）**\n\n**链接：https://leetcode-cn.com/problems/merge-two-binary-trees/**\n\n## 一、题目\n\n给定两个二叉树，想象当你将它们中的一个覆盖到另一个上时，两个二叉树的一些节点便会重叠。\n\n你需要将他们合并为一个新的二叉树。合并的规则是如果两个节点重叠，那么将他们的值相加作为节点合并后的新值，否则不为 NULL 的节点将直接作为新二叉树的节点。\n\n## 二、示例\n\n### 示例一\n\n输入: \n\ntree1：\n\n&emsp;&emsp;&emsp;&emsp;1\n\n&emsp;&emsp;&emsp;/&emsp;&emsp;\\\n\n&emsp;&emsp;3&emsp;&emsp;&emsp;2\n\n&emsp;/\n\n5\n\ntree2:\n\n&emsp;&emsp;2\n\n&emsp;/&emsp;&emsp;\\\n\n1&emsp;&emsp;&emsp;3\n\n&emsp;\\&emsp;&emsp;&emsp;\\\n\n&emsp;&emsp;4&emsp;&emsp;&emsp;7\n\n输出: \n\n合并后的树:\n\ntree1：\n\n&emsp;&emsp;&emsp;&emsp;1\n\n&emsp;&emsp;&emsp;/&emsp;&emsp;\\\n\n&emsp;&emsp;4&emsp;&emsp;&emsp;5\n\n&emsp;/&emsp;&emsp;\\&emsp;&emsp;&emsp;\\\n\n5&emsp;&emsp;&emsp;4&emsp;&emsp;&emsp;7\n\n必须从根节点开始合并！\n\n## 三、解题思路\n\n### 递归合并"
    },
    {
      "metadata": {
        "trusted": true
      },
      "cell_type": "code",
      "source": "class TreeNode:\n    def __init__(self, x):\n        self.val = x\n        self.left = None\n        self.right = None",
      "execution_count": 1,
      "outputs": []
    },
    {
      "metadata": {
        "trusted": true
      },
      "cell_type": "code",
      "source": "def merge(t1, t2):\n    if not t1 and not t2:\n        return None\n    else:\n        a,b = 0, 0\n        a_left_tree, a_right_tree, b_left_tree, b_right_tree = None, None, None, None\n        if t1:\n            a = t1.val\n            a_left_tree = t1.left\n            a_right_tree = t1.right\n        if t2:\n            b = t2.val\n            b_left_tree = t2.left\n            b_right_tree = t2.right\n        result = TreeNode(a + b)\n        result.left = merge(a_left_tree, b_left_tree)\n        result.right = merge(a_right_tree, b_right_tree)\n        return result",
      "execution_count": 2,
      "outputs": []
    },
    {
      "metadata": {
        "trusted": true
      },
      "cell_type": "code",
      "source": "def mergeTrees(t1, t2):\n    return merge(t1, t2)",
      "execution_count": 3,
      "outputs": []
    },
    {
      "metadata": {
        "trusted": true
      },
      "cell_type": "code",
      "source": "# tree 1\nroot1 = TreeNode(1)\nnode1_1 = TreeNode(3)\nnode1_2 = TreeNode(2)\nnode1_3 = TreeNode(5)\n\nroot1.left = node1_1\nroot1.right = node1_2\n\nnode1_1.left = node1_3",
      "execution_count": 4,
      "outputs": []
    },
    {
      "metadata": {
        "trusted": true
      },
      "cell_type": "code",
      "source": "#tree 2\nroot2 = TreeNode(2)\nnode2_1 = TreeNode(1)\nnode2_2 = TreeNode(3)\nnode2_3 = TreeNode(4)\nnode2_4 = TreeNode(7)\n\nroot2.left = node2_1\nroot2.right = node2_2\n\nnode2_1.right = node2_3\n\nnode2_2.right = node2_4",
      "execution_count": 5,
      "outputs": []
    },
    {
      "metadata": {
        "trusted": true
      },
      "cell_type": "code",
      "source": "# 暂时未能打印结果\nmergeTrees(root1, root2)",
      "execution_count": 6,
      "outputs": [
        {
          "output_type": "execute_result",
          "execution_count": 6,
          "data": {
            "text/plain": "<__main__.TreeNode at 0x7fc63ed75358>"
          },
          "metadata": {}
        }
      ]
    },
    {
      "metadata": {
        "trusted": true
      },
      "cell_type": "code",
      "source": "",
      "execution_count": null,
      "outputs": []
    }
  ],
  "metadata": {
    "kernelspec": {
      "name": "python36",
      "display_name": "Python 3.6",
      "language": "python"
    },
    "language_info": {
      "mimetype": "text/x-python",
      "nbconvert_exporter": "python",
      "name": "python",
      "pygments_lexer": "ipython3",
      "version": "3.6.6",
      "file_extension": ".py",
      "codemirror_mode": {
        "version": 3,
        "name": "ipython"
      }
    }
  },
  "nbformat": 4,
  "nbformat_minor": 2
}