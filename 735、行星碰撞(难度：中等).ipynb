{
 "cells": [
  {
   "cell_type": "markdown",
   "metadata": {},
   "source": [
    "# 行星碰撞\n",
    "\n",
    "**题目来源：力扣（LeetCode）**\n",
    "\n",
    "**链接：https://leetcode-cn.com/problems/asteroid-collision/**\n",
    "\n",
    "## 一、题目\n",
    "\n",
    "给定一个整数数组 asteroids，表示在同一行的行星。\n",
    "\n",
    "对于数组中的每一个元素，其绝对值表示行星的大小，正负表示行星的移动方向（正表示向右移动，负表示向左移动）。每一颗行星以相同的速度移动。\n",
    "\n",
    "找出碰撞后剩下的所有行星。碰撞规则：两个行星相互碰撞，较小的行星会爆炸。如果两颗行星大小相同，则两颗行星都会爆炸。两颗移动方向相同的行星，永远不会发生碰撞。\n",
    "\n",
    "### 提示：\n",
    "\n",
    "- 2 <= asteroids.length <= 104\n",
    "- -1000 <= asteroids[i] <= 1000\n",
    "- asteroids[i] != 0\n",
    "\n",
    "## 二、示例\n",
    "\n",
    "### 示例 1：\n",
    "\n",
    "输入：asteroids = [5,10,-5]\n",
    "\n",
    "输出：[5,10]\n",
    "\n",
    "解释：10 和 -5 碰撞后只剩下 10 。 5 和 10 永远不会发生碰撞。\n",
    "\n",
    "### 示例 2：\n",
    "\n",
    "输入：asteroids = [8,-8]\n",
    "\n",
    "输出：[]\n",
    "\n",
    "解释：8 和 -8 碰撞后，两者都发生爆炸。\n",
    "\n",
    "### 示例 3：\n",
    "\n",
    "输入：asteroids = [10,2,-5]\n",
    "\n",
    "输出：[10]\n",
    "\n",
    "解释：2 和 -5 发生碰撞后剩下 -5 。10 和 -5 发生碰撞后剩下 10 。\n",
    "\n",
    "### 示例 4：\n",
    "\n",
    "输入：asteroids = [-2,-1,1,2]\n",
    "\n",
    "输出：[-2,-1,1,2]\n",
    "\n",
    "解释：-2 和 -1 向左移动，而 1 和 2 向右移动。 由于移动方向相同的行星不会发生碰撞，所以最终没有行星发生碰撞。\n",
    "\n",
    "## 三、解题思路\n",
    "\n",
    "### 栈"
   ]
  },
  {
   "cell_type": "code",
   "execution_count": 1,
   "metadata": {},
   "outputs": [],
   "source": [
    "def asteroidCollision(asteroids):\n",
    "    n = len(asteroids)\n",
    "    stack = [asteroids[0]]\n",
    "    for i in range(1, n):\n",
    "        cur = asteroids[i]\n",
    "        while stack and cur < 0 and stack[-1] > 0:\n",
    "            pre = stack.pop()\n",
    "            if pre > -cur:\n",
    "                cur = pre\n",
    "            elif pre == -cur:\n",
    "                cur = 0\n",
    "        if cur != 0:\n",
    "            stack.append(cur)\n",
    "    return stack"
   ]
  },
  {
   "cell_type": "code",
   "execution_count": 2,
   "metadata": {},
   "outputs": [
    {
     "data": {
      "text/plain": [
       "[5, 10]"
      ]
     },
     "execution_count": 2,
     "metadata": {},
     "output_type": "execute_result"
    }
   ],
   "source": [
    "asteroidCollision([5,10,-5])"
   ]
  },
  {
   "cell_type": "code",
   "execution_count": 3,
   "metadata": {},
   "outputs": [
    {
     "data": {
      "text/plain": [
       "[]"
      ]
     },
     "execution_count": 3,
     "metadata": {},
     "output_type": "execute_result"
    }
   ],
   "source": [
    "asteroidCollision([8,-8])"
   ]
  },
  {
   "cell_type": "code",
   "execution_count": 4,
   "metadata": {},
   "outputs": [
    {
     "data": {
      "text/plain": [
       "[10]"
      ]
     },
     "execution_count": 4,
     "metadata": {},
     "output_type": "execute_result"
    }
   ],
   "source": [
    "asteroidCollision([10,2,-5])"
   ]
  },
  {
   "cell_type": "code",
   "execution_count": 5,
   "metadata": {},
   "outputs": [
    {
     "data": {
      "text/plain": [
       "[-2, -1, 1, 2]"
      ]
     },
     "execution_count": 5,
     "metadata": {},
     "output_type": "execute_result"
    }
   ],
   "source": [
    "asteroidCollision([-2,-1,1,2])"
   ]
  },
  {
   "cell_type": "code",
   "execution_count": null,
   "metadata": {},
   "outputs": [],
   "source": []
  }
 ],
 "metadata": {
  "kernelspec": {
   "display_name": "Python 3",
   "language": "python",
   "name": "python3"
  },
  "language_info": {
   "codemirror_mode": {
    "name": "ipython",
    "version": 3
   },
   "file_extension": ".py",
   "mimetype": "text/x-python",
   "name": "python",
   "nbconvert_exporter": "python",
   "pygments_lexer": "ipython3",
   "version": "3.6.5"
  }
 },
 "nbformat": 4,
 "nbformat_minor": 2
}
