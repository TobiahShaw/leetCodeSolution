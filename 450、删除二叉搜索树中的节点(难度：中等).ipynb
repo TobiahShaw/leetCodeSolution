{
 "cells": [
  {
   "cell_type": "markdown",
   "metadata": {},
   "source": [
    "# 删除二叉搜索树中的节点\n",
    "\n",
    "**题目来源：力扣（LeetCode）**\n",
    "\n",
    "**链接：https://leetcode.cn/problems/delete-node-in-a-bst/**\n",
    "\n",
    "## 一、题目\n",
    "\n",
    "给定一个二叉搜索树的根节点 root 和一个值 key，删除二叉搜索树中的 key 对应的节点，并保证二叉搜索树的性质不变。返回二叉搜索树（有可能被更新）的根节点的引用。\n",
    "\n",
    "一般来说，删除节点可分为两个步骤：\n",
    "\n",
    "- 首先找到需要删除的节点；\n",
    "- 如果找到了，删除它。\n",
    "\n",
    "### 提示：\n",
    "\n",
    "- 节点数的范围 [0, 104].\n",
    "- -10^5 <= Node.val <= 10^5\n",
    "- 节点值唯一\n",
    "- root 是合法的二叉搜索树\n",
    "- -10^5 <= key <= 10^5\n",
    "\n",
    "## 二、示例\n",
    "\n",
    "### 示例 1：\n",
    "\n",
    "输入：root = [5,3,6,2,4,null,7], key = 3\n",
    "\n",
    "输出：[5,4,6,2,null,null,7]\n",
    "\n",
    "### 示例 2：\n",
    "\n",
    "输入: root = [5,3,6,2,4,null,7], key = 0\n",
    "\n",
    "输出: [5,3,6,2,4,null,7]\n",
    "\n",
    "解释: 二叉树不包含值为 0 的节点\n",
    "\n",
    "### 示例 3:\n",
    "\n",
    "输入: root = [], key = 0\n",
    "\n",
    "输出: []\n",
    "\n",
    "## 三、解题思路\n",
    "\n",
    "### 递归"
   ]
  },
  {
   "cell_type": "code",
   "execution_count": 1,
   "metadata": {},
   "outputs": [],
   "source": [
    "class TreeNode:\n",
    "    def __init__(self, val=0, left=None, right=None):\n",
    "        self.val = val\n",
    "        self.left = left\n",
    "        self.right = right\n",
    "\n",
    "class Solution:\n",
    "    def deleteNode(self, root: TreeNode, key: int) -> TreeNode:\n",
    "        if not root:\n",
    "            return root\n",
    "        if key > root.val:\n",
    "            root.right = self.deleteNode(root.right, key)\n",
    "        elif key < root.val:\n",
    "            root.left = self.deleteNode(root.left, key)\n",
    "        else:\n",
    "            if not root.left:\n",
    "                return root.right\n",
    "            if not root.right:\n",
    "                return root.left\n",
    "            node = root.right\n",
    "            while node.left:\n",
    "                node = node.left\n",
    "            node.left = root.left\n",
    "            root = root.right\n",
    "        return root"
   ]
  },
  {
   "cell_type": "code",
   "execution_count": null,
   "metadata": {},
   "outputs": [],
   "source": []
  }
 ],
 "metadata": {
  "kernelspec": {
   "display_name": "Python 3",
   "language": "python",
   "name": "python3"
  },
  "language_info": {
   "codemirror_mode": {
    "name": "ipython",
    "version": 3
   },
   "file_extension": ".py",
   "mimetype": "text/x-python",
   "name": "python",
   "nbconvert_exporter": "python",
   "pygments_lexer": "ipython3",
   "version": "3.6.5"
  }
 },
 "nbformat": 4,
 "nbformat_minor": 2
}
