{
 "cells": [
  {
   "cell_type": "markdown",
   "metadata": {},
   "source": [
    "# Bigram分词\n",
    "\n",
    "**题目来源：力扣（LeetCode）**\n",
    "\n",
    "**链接：https://leetcode-cn.com/problems/occurrences-after-bigram/**\n",
    "\n",
    "## 一、题目\n",
    "\n",
    "给出第一个词 first 和第二个词 second，考虑在某些文本 text 中可能以 \"first second third\" 形式出现的情况，其中 second 紧随 first 出现，third 紧随 second 出现。\n",
    "\n",
    "对于每种这样的情况，将第三个词 \"third\" 添加到答案中，并返回答案。\n",
    "\n",
    "### 提示：\n",
    "\n",
    "- 1 <= text.length <= 1000\n",
    "- text 由小写英文字母和空格组成\n",
    "- text 中的所有单词之间都由 单个空格字符 分隔\n",
    "- 1 <= first.length, second.length <= 10\n",
    "- first 和 second 由小写英文字母组成\n",
    "\n",
    "## 二、示例\n",
    "\n",
    "### 示例 1：\n",
    "\n",
    "输入：text = \"alice is a good girl she is a good student\", first = \"a\", second = \"good\"\n",
    "\n",
    "输出：[\"girl\",\"student\"]\n",
    "\n",
    "### 示例 2：\n",
    "\n",
    "输入：text = \"we will we will rock you\", first = \"we\", second = \"will\"\n",
    "\n",
    "输出：[\"we\",\"rock\"]\n",
    "\n",
    "## 三、解题思路\n",
    "\n",
    "### 单次扫描"
   ]
  },
  {
   "cell_type": "code",
   "execution_count": 1,
   "metadata": {},
   "outputs": [],
   "source": [
    "def findOcurrences(text: str, first: str, second: str):\n",
    "    ret = []\n",
    "    arr = text.split(' ')\n",
    "    n = len(arr)\n",
    "    for i in range(n):\n",
    "        word = arr[i]\n",
    "        if word == first and i <= n - 3 and arr[i+1] == second:\n",
    "            ret.append(arr[i+2])\n",
    "    return ret"
   ]
  },
  {
   "cell_type": "code",
   "execution_count": 2,
   "metadata": {},
   "outputs": [
    {
     "data": {
      "text/plain": [
       "['girl', 'student']"
      ]
     },
     "execution_count": 2,
     "metadata": {},
     "output_type": "execute_result"
    }
   ],
   "source": [
    "findOcurrences(text = \"alice is a good girl she is a good student\", first = \"a\", second = \"good\")"
   ]
  },
  {
   "cell_type": "code",
   "execution_count": 3,
   "metadata": {},
   "outputs": [
    {
     "data": {
      "text/plain": [
       "['we', 'rock']"
      ]
     },
     "execution_count": 3,
     "metadata": {},
     "output_type": "execute_result"
    }
   ],
   "source": [
    "findOcurrences(text = \"we will we will rock you\", first = \"we\", second = \"will\")"
   ]
  },
  {
   "cell_type": "code",
   "execution_count": null,
   "metadata": {},
   "outputs": [],
   "source": []
  }
 ],
 "metadata": {
  "kernelspec": {
   "display_name": "Python 3",
   "language": "python",
   "name": "python3"
  },
  "language_info": {
   "codemirror_mode": {
    "name": "ipython",
    "version": 3
   },
   "file_extension": ".py",
   "mimetype": "text/x-python",
   "name": "python",
   "nbconvert_exporter": "python",
   "pygments_lexer": "ipython3",
   "version": "3.6.5"
  }
 },
 "nbformat": 4,
 "nbformat_minor": 2
}
