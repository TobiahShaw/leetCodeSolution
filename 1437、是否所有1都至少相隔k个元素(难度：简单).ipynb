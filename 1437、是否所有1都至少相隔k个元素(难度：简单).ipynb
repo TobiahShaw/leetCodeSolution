{
 "cells": [
  {
   "cell_type": "markdown",
   "metadata": {},
   "source": [
    "# 是否所有1都至少相隔k个元素\n",
    "\n",
    "**题目来源：力扣（LeetCode）**\n",
    "\n",
    "**链接：https://leetcode.cn/problems/check-if-all-1s-are-at-least-length-k-places-away/**\n",
    "\n",
    "## 一、题目\n",
    "\n",
    "给你一个由若干 0 和 1 组成的数组 nums 以及整数 k。如果所有 1 都至少相隔 k 个元素，则返回 True ；否则，返回 False 。\n",
    "\n",
    "## 二、示例\n",
    "\n",
    "### 示例 1：\n",
    "\n",
    "输入：nums = [1,0,0,0,1,0,0,1], k = 2\n",
    "\n",
    "输出：true\n",
    "\n",
    "解释：每个 1 都至少相隔 2 个元素。\n",
    "\n",
    "### 示例 2：\n",
    "\n",
    "输入：nums = [1,0,0,1,0,1], k = 2\n",
    "\n",
    "输出：false\n",
    "\n",
    "解释：第二个 1 和第三个 1 之间只隔了 1 个元素。\n",
    "\n",
    "### 示例 3：\n",
    "\n",
    "输入：nums = [1,1,1,1,1], k = 0\n",
    "\n",
    "输出：true\n",
    "\n",
    "### 示例 4：\n",
    "\n",
    "输入：nums = [0,1,0,1], k = 1\n",
    "\n",
    "输出：true\n",
    "\n",
    "## 三、解题思路\n",
    "\n",
    "### 遍历"
   ]
  },
  {
   "cell_type": "code",
   "execution_count": 1,
   "metadata": {},
   "outputs": [],
   "source": [
    "class Solution:\n",
    "    def kLengthApart(self, nums, k: int) -> bool:\n",
    "        n = len(nums)\n",
    "        prev = -1\n",
    "        for i in range(n):\n",
    "            if nums[i] == 1:\n",
    "                if prev != -1 and i - prev - 1 < k:\n",
    "                    return False\n",
    "                prev = i\n",
    "        return True"
   ]
  },
  {
   "cell_type": "code",
   "execution_count": 2,
   "metadata": {},
   "outputs": [
    {
     "data": {
      "text/plain": [
       "True"
      ]
     },
     "execution_count": 2,
     "metadata": {},
     "output_type": "execute_result"
    }
   ],
   "source": [
    "s = Solution()\n",
    "s.kLengthApart(nums = [1,0,0,0,1,0,0,1], k = 2)"
   ]
  },
  {
   "cell_type": "code",
   "execution_count": 3,
   "metadata": {},
   "outputs": [
    {
     "data": {
      "text/plain": [
       "False"
      ]
     },
     "execution_count": 3,
     "metadata": {},
     "output_type": "execute_result"
    }
   ],
   "source": [
    "s.kLengthApart(nums = [1,0,0,1,0,1], k = 2)"
   ]
  },
  {
   "cell_type": "code",
   "execution_count": 4,
   "metadata": {},
   "outputs": [
    {
     "data": {
      "text/plain": [
       "True"
      ]
     },
     "execution_count": 4,
     "metadata": {},
     "output_type": "execute_result"
    }
   ],
   "source": [
    "s.kLengthApart(nums = [1,1,1,1,1], k = 0)"
   ]
  },
  {
   "cell_type": "code",
   "execution_count": 5,
   "metadata": {},
   "outputs": [
    {
     "data": {
      "text/plain": [
       "True"
      ]
     },
     "execution_count": 5,
     "metadata": {},
     "output_type": "execute_result"
    }
   ],
   "source": [
    "s.kLengthApart(nums = [0,1,0,1], k = 1)"
   ]
  },
  {
   "cell_type": "code",
   "execution_count": null,
   "metadata": {},
   "outputs": [],
   "source": []
  }
 ],
 "metadata": {
  "kernelspec": {
   "display_name": "Python 3.10.4 64-bit",
   "language": "python",
   "name": "python3"
  },
  "language_info": {
   "codemirror_mode": {
    "name": "ipython",
    "version": 3
   },
   "file_extension": ".py",
   "mimetype": "text/x-python",
   "name": "python",
   "nbconvert_exporter": "python",
   "pygments_lexer": "ipython3",
   "version": "3.10.4"
  },
  "orig_nbformat": 4,
  "vscode": {
   "interpreter": {
    "hash": "4f946df053fbf2b937619d3c5458e7af74262f9a954d8797ba0b27400bcafe06"
   }
  }
 },
 "nbformat": 4,
 "nbformat_minor": 2
}
