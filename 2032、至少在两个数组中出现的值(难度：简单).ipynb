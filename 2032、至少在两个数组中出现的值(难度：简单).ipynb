{
 "cells": [
  {
   "cell_type": "markdown",
   "metadata": {},
   "source": [
    "# 至少在两个数组中出现的值\n",
    "\n",
    "**题目来源：力扣（LeetCode）**\n",
    "\n",
    "**链接：https://leetcode-cn.com/problems/two-out-of-three/**\n",
    "\n",
    "## 一、题目\n",
    "\n",
    "给你三个整数数组 nums1、nums2 和 nums3 ，请你构造并返回一个 与这三个数组都不同的 数组，且由 至少 在 两个 数组中出现的所有值组成。数组中的元素可以按 任意 顺序排列。\n",
    "\n",
    "### 提示：\n",
    "\n",
    "- 1 <= nums1.length, nums2.length, nums3.length <= 100\n",
    "- 1 <= nums1[i], nums2[j], nums3[k] <= 100\n",
    "\n",
    "## 二、示例\n",
    "\n",
    "### 示例 1：\n",
    "\n",
    "输入：nums1 = [1,1,3,2], nums2 = [2,3], nums3 = [3]\n",
    "\n",
    "输出：[3,2]\n",
    "\n",
    "解释：至少在两个数组中出现的所有值为：\n",
    "\n",
    "- 3 ，在全部三个数组中都出现过。\n",
    "- 2 ，在数组 nums1 和 nums2 中出现过。\n",
    "\n",
    "### 示例 2：\n",
    "\n",
    "输入：nums1 = [3,1], nums2 = [2,3], nums3 = [1,2]\n",
    "\n",
    "输出：[2,3,1]\n",
    "\n",
    "解释：至少在两个数组中出现的所有值为：\n",
    "\n",
    "- 2 ，在数组 nums2 和 nums3 中出现过。\n",
    "- 3 ，在数组 nums1 和 nums2 中出现过。\n",
    "- 1 ，在数组 nums1 和 nums3 中出现过。\n",
    "\n",
    "### 示例 3：\n",
    "\n",
    "输入：nums1 = [1,2,2], nums2 = [4,3,3], nums3 = [5]\n",
    "\n",
    "输出：[]\n",
    "\n",
    "解释：不存在至少在两个数组中出现的值。\n",
    "\n",
    "## 三、解题思路\n",
    "\n",
    "### 一、利用数组"
   ]
  },
  {
   "cell_type": "code",
   "execution_count": 1,
   "metadata": {},
   "outputs": [],
   "source": [
    "class Solution:\n",
    "    def twoOutOfThree(self, nums1, nums2, nums3):\n",
    "        nums = [0] * 101\n",
    "        for n in nums1, nums2, nums3:\n",
    "            for i in set(n):\n",
    "                nums[i] += 1\n",
    "        return [idx for idx, v in enumerate(nums) if v > 1]"
   ]
  },
  {
   "cell_type": "code",
   "execution_count": 2,
   "metadata": {},
   "outputs": [
    {
     "data": {
      "text/plain": [
       "[2, 3]"
      ]
     },
     "execution_count": 2,
     "metadata": {},
     "output_type": "execute_result"
    }
   ],
   "source": [
    "s = Solution()\n",
    "s.twoOutOfThree(nums1 = [1,1,3,2], nums2 = [2,3], nums3 = [3])"
   ]
  },
  {
   "cell_type": "code",
   "execution_count": 3,
   "metadata": {},
   "outputs": [
    {
     "data": {
      "text/plain": [
       "[1, 2, 3]"
      ]
     },
     "execution_count": 3,
     "metadata": {},
     "output_type": "execute_result"
    }
   ],
   "source": [
    "s.twoOutOfThree(nums1 = [3,1], nums2 = [2,3], nums3 = [1,2])"
   ]
  },
  {
   "cell_type": "code",
   "execution_count": 4,
   "metadata": {},
   "outputs": [
    {
     "data": {
      "text/plain": [
       "[]"
      ]
     },
     "execution_count": 4,
     "metadata": {},
     "output_type": "execute_result"
    }
   ],
   "source": [
    "s.twoOutOfThree(nums1 = [1,2,2], nums2 = [4,3,3], nums3 = [5])"
   ]
  },
  {
   "cell_type": "markdown",
   "metadata": {},
   "source": [
    "### 二、集合的性质"
   ]
  },
  {
   "cell_type": "code",
   "execution_count": 5,
   "metadata": {},
   "outputs": [],
   "source": [
    "class Solution:\n",
    "    def twoOutOfThree(self, nums1, nums2, nums3):\n",
    "        set1 = set(nums1)\n",
    "        set2 = set(nums2)\n",
    "        set3 = set(nums3)\n",
    "        return list(set((set1 & set2) | (set1 & set3) | (set2 & set3)))"
   ]
  },
  {
   "cell_type": "code",
   "execution_count": 6,
   "metadata": {},
   "outputs": [
    {
     "data": {
      "text/plain": [
       "[2, 3]"
      ]
     },
     "execution_count": 6,
     "metadata": {},
     "output_type": "execute_result"
    }
   ],
   "source": [
    "s = Solution()\n",
    "s.twoOutOfThree(nums1 = [1,1,3,2], nums2 = [2,3], nums3 = [3])"
   ]
  },
  {
   "cell_type": "code",
   "execution_count": 7,
   "metadata": {},
   "outputs": [
    {
     "data": {
      "text/plain": [
       "[1, 2, 3]"
      ]
     },
     "execution_count": 7,
     "metadata": {},
     "output_type": "execute_result"
    }
   ],
   "source": [
    "s.twoOutOfThree(nums1 = [3,1], nums2 = [2,3], nums3 = [1,2])"
   ]
  },
  {
   "cell_type": "code",
   "execution_count": 8,
   "metadata": {},
   "outputs": [
    {
     "data": {
      "text/plain": [
       "[]"
      ]
     },
     "execution_count": 8,
     "metadata": {},
     "output_type": "execute_result"
    }
   ],
   "source": [
    "s.twoOutOfThree(nums1 = [1,2,2], nums2 = [4,3,3], nums3 = [5])"
   ]
  },
  {
   "cell_type": "code",
   "execution_count": null,
   "metadata": {},
   "outputs": [],
   "source": []
  }
 ],
 "metadata": {
  "kernelspec": {
   "display_name": "Python 3 (ipykernel)",
   "language": "python",
   "name": "python3"
  },
  "language_info": {
   "codemirror_mode": {
    "name": "ipython",
    "version": 3
   },
   "file_extension": ".py",
   "mimetype": "text/x-python",
   "name": "python",
   "nbconvert_exporter": "python",
   "pygments_lexer": "ipython3",
   "version": "3.11.0"
  }
 },
 "nbformat": 4,
 "nbformat_minor": 2
}
