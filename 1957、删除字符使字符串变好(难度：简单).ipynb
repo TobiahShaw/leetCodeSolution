{
 "cells": [
  {
   "cell_type": "markdown",
   "metadata": {},
   "source": [
    "# 删除字符使字符串变好\n",
    "\n",
    "**题目来源：力扣（LeetCode）**\n",
    "\n",
    "**链接：https://leetcode-cn.com/problems/delete-characters-to-make-fancy-string/**\n",
    "\n",
    "## 一、题目\n",
    "\n",
    "一个字符串如果没有 三个连续 相同字符，那么它就是一个 好字符串 。\n",
    "\n",
    "给你一个字符串 s ，请你从 s 删除 最少 的字符，使它变成一个 好字符串 。\n",
    "\n",
    "请你返回删除后的字符串。题目数据保证答案总是 唯一的 。\n",
    "\n",
    "### 提示：\n",
    "\n",
    "- 1 <= s.length <= 10^5\n",
    "- s 只包含小写英文字母。\n",
    "\n",
    "## 二、示例\n",
    "\n",
    "### 示例 1：\n",
    "\n",
    "输入：s = \"leeetcode\"\n",
    "\n",
    "输出：\"leetcode\"\n",
    "\n",
    "解释：\n",
    "\n",
    "从第一组 'e' 里面删除一个 'e' ，得到 \"leetcode\" 。没有连续三个相同字符，所以返回 \"leetcode\" 。\n",
    "\n",
    "### 示例 2：\n",
    "\n",
    "输入：s = \"aaabaaaa\"\n",
    "\n",
    "输出：\"aabaa\"\n",
    "\n",
    "解释：\n",
    "\n",
    "从第一组 'a' 里面删除一个 'a' ，得到 \"aabaaaa\" 。\n",
    "\n",
    "从第二组 'a' 里面删除两个 'a' ，得到 \"aabaa\" 。\n",
    "\n",
    "没有连续三个相同字符，所以返回 \"aabaa\" 。\n",
    "\n",
    "### 示例 3：\n",
    "\n",
    "输入：s = \"aab\"\n",
    "\n",
    "输出：\"aab\"\n",
    "\n",
    "解释：没有连续三个相同字符，所以返回 \"aab\" 。\n",
    "\n",
    "## 三、解题思路\n",
    "\n",
    "### 单次扫描"
   ]
  },
  {
   "cell_type": "code",
   "execution_count": 1,
   "metadata": {},
   "outputs": [],
   "source": [
    "def makeFancyString(s: str) -> str:\n",
    "    ret = []\n",
    "    for ch in s:\n",
    "        if len(ret) >= 2 and ret[-1] == ret[-2] == ch:\n",
    "            continue\n",
    "        ret.append(ch)\n",
    "    return \"\".join(ret)"
   ]
  },
  {
   "cell_type": "code",
   "execution_count": 2,
   "metadata": {},
   "outputs": [
    {
     "data": {
      "text/plain": [
       "'leetcode'"
      ]
     },
     "execution_count": 2,
     "metadata": {},
     "output_type": "execute_result"
    }
   ],
   "source": [
    "makeFancyString(\"leetcode\")"
   ]
  },
  {
   "cell_type": "code",
   "execution_count": 3,
   "metadata": {},
   "outputs": [
    {
     "data": {
      "text/plain": [
       "'aabaa'"
      ]
     },
     "execution_count": 3,
     "metadata": {},
     "output_type": "execute_result"
    }
   ],
   "source": [
    "makeFancyString(\"aaabaaaa\")"
   ]
  },
  {
   "cell_type": "code",
   "execution_count": 4,
   "metadata": {},
   "outputs": [
    {
     "data": {
      "text/plain": [
       "'aab'"
      ]
     },
     "execution_count": 4,
     "metadata": {},
     "output_type": "execute_result"
    }
   ],
   "source": [
    "makeFancyString(\"aab\")"
   ]
  },
  {
   "cell_type": "code",
   "execution_count": null,
   "metadata": {},
   "outputs": [],
   "source": []
  }
 ],
 "metadata": {
  "kernelspec": {
   "display_name": "Python 3",
   "language": "python",
   "name": "python3"
  },
  "language_info": {
   "codemirror_mode": {
    "name": "ipython",
    "version": 3
   },
   "file_extension": ".py",
   "mimetype": "text/x-python",
   "name": "python",
   "nbconvert_exporter": "python",
   "pygments_lexer": "ipython3",
   "version": "3.6.5"
  }
 },
 "nbformat": 4,
 "nbformat_minor": 2
}
