{
 "cells": [
  {
   "cell_type": "markdown",
   "metadata": {},
   "source": [
    "# 最长重复子串\n",
    "\n",
    "**题目来源：力扣（LeetCode）**\n",
    "\n",
    "**链接：https://leetcode-cn.com/problems/longest-duplicate-substring/**\n",
    "\n",
    "## 一、题目\n",
    "\n",
    "给你一个字符串 s ，考虑其所有 重复子串 ：即，s 的连续子串，在 s 中出现 2 次或更多次。这些出现之间可能存在重叠。\n",
    "\n",
    "返回 任意一个 可能具有最长长度的重复子串。如果 s 不含重复子串，那么答案为 \"\" 。\n",
    "\n",
    "### 提示：\n",
    "\n",
    "- 2 <= s.length <= 30000\n",
    "- s 由小写英文字母组成\n",
    "\n",
    "## 二、示例\n",
    "\n",
    "### 示例 1：\n",
    "\n",
    "输入：s = \"banana\"\n",
    "\n",
    "输出：\"ana\"\n",
    "\n",
    "### 示例 2：\n",
    "\n",
    "输入：s = \"abcd\"\n",
    "\n",
    "输出：\"\"\n",
    "\n",
    "## 三、解题思路\n",
    "\n",
    "### 二分"
   ]
  },
  {
   "cell_type": "code",
   "execution_count": 1,
   "metadata": {},
   "outputs": [],
   "source": [
    "def longestDupSubstring(s: str) -> str:\n",
    "    l,r=0,len(s)\n",
    "    res=''\n",
    "    while l<r:\n",
    "        mid=(l+r)//2\n",
    "        vi=set()\n",
    "        fi=0\n",
    "        for i in range(len(s)-mid+1):\n",
    "            if s[i:i+mid] in vi:\n",
    "                res=s[i:i+mid]\n",
    "                fi=1\n",
    "                break\n",
    "            else:\n",
    "                vi.add(s[i:i+mid])\n",
    "        if fi==1:\n",
    "            l=mid+1\n",
    "        else:\n",
    "            r=mid\n",
    "    return res"
   ]
  },
  {
   "cell_type": "code",
   "execution_count": 2,
   "metadata": {},
   "outputs": [
    {
     "data": {
      "text/plain": [
       "'ana'"
      ]
     },
     "execution_count": 2,
     "metadata": {},
     "output_type": "execute_result"
    }
   ],
   "source": [
    "longestDupSubstring(\"banana\")"
   ]
  },
  {
   "cell_type": "code",
   "execution_count": 3,
   "metadata": {},
   "outputs": [
    {
     "data": {
      "text/plain": [
       "''"
      ]
     },
     "execution_count": 3,
     "metadata": {},
     "output_type": "execute_result"
    }
   ],
   "source": [
    "longestDupSubstring(\"abcd\")"
   ]
  },
  {
   "cell_type": "code",
   "execution_count": null,
   "metadata": {},
   "outputs": [],
   "source": []
  }
 ],
 "metadata": {
  "kernelspec": {
   "display_name": "Python 3",
   "language": "python",
   "name": "python3"
  },
  "language_info": {
   "codemirror_mode": {
    "name": "ipython",
    "version": 3
   },
   "file_extension": ".py",
   "mimetype": "text/x-python",
   "name": "python",
   "nbconvert_exporter": "python",
   "pygments_lexer": "ipython3",
   "version": "3.6.5"
  }
 },
 "nbformat": 4,
 "nbformat_minor": 2
}
