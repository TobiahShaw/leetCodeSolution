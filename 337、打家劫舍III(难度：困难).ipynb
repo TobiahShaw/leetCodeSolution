{
 "cells": [
  {
   "cell_type": "markdown",
   "metadata": {},
   "source": [
    "# 打家劫舍III\n",
    "\n",
    "**题目来源：力扣（LeetCode）**\n",
    "\n",
    "**链接：https://leetcode-cn.com/problems/house-robber-iii/**\n",
    "\n",
    "## 一、题目\n",
    "\n",
    "在上次打劫完一条街道之后和一圈房屋后，小偷又发现了一个新的可行窃的地区。这个地区只有一个入口，我们称之为“根”。 除了“根”之外，每栋房子有且只有一个“父“房子与之相连。一番侦察之后，聪明的小偷意识到“这个地方的所有房屋的排列类似于一棵二叉树”。 如果两个直接相连的房子在同一天晚上被打劫，房屋将自动报警。\n",
    "\n",
    "计算在不触动警报的情况下，小偷一晚能够盗取的最高金额。\n",
    "\n",
    "## 二、示例\n",
    "\n",
    "### 示例 1:\n",
    "\n",
    "输入: [3,2,3,null,3,null,1]\n",
    "\n",
    "```\n",
    "     3\n",
    "    / \\\n",
    "   2   3\n",
    "    \\   \\ \n",
    "     3   1\n",
    "```\n",
    "\n",
    "输出: 7 \n",
    "\n",
    "解释: 小偷一晚能够盗取的最高金额 = 3 + 3 + 1 = 7.\n",
    "\n",
    "### 示例 2:\n",
    "\n",
    "输入: [3,4,5,1,3,null,1]\n",
    "\n",
    "```\n",
    "     3\n",
    "    / \\\n",
    "   4   5\n",
    "  / \\   \\ \n",
    " 1   3   1\n",
    "```\n",
    "\n",
    "输出: 9\n",
    "\n",
    "解释: 小偷一晚能够盗取的最高金额 = 4 + 5 = 9.\n",
    "\n",
    "## 三、解题思路\n",
    "\n",
    "### 递归\n",
    "\n",
    "将一个节点的收益分成两部分，分别为偷取该节点的最大收益和不偷取该节点的最大收益\n",
    "那么一个节点如果偷取它，它的偷取收益为 node.val + not_steal_left + not_steal_right，即它的左右子节点取不偷取的收益\n",
    "如果该节点不偷取,它的左右子节点可以随意选择偷或不偷，那么最大收益为max(steal_left,not_steal_left) + max(steal_right,not_steal_right)\n",
    "\n",
    "递归完成后，对root得到steal和not_steal的收益，取最大值"
   ]
  },
  {
   "cell_type": "code",
   "execution_count": 1,
   "metadata": {},
   "outputs": [],
   "source": [
    "class TreeNode:\n",
    "    def __init__(self, x):\n",
    "        self.val = x\n",
    "        self.left = None\n",
    "        self.right = None"
   ]
  },
  {
   "cell_type": "code",
   "execution_count": 2,
   "metadata": {},
   "outputs": [],
   "source": [
    "def rob(root: TreeNode) -> int:\n",
    "    def _rob(root):\n",
    "        if not root:\n",
    "            return 0, 0\n",
    "        ln, ls = _rob(root.left)\n",
    "        rn, rs = _rob(root.right)\n",
    "        return max(ln, ls) + max(rn, rs), root.val + ln + rn\n",
    "    return max(_rob(root))"
   ]
  },
  {
   "cell_type": "code",
   "execution_count": 3,
   "metadata": {},
   "outputs": [],
   "source": [
    "root1 = TreeNode(3)\n",
    "\n",
    "root1.left = TreeNode(2)\n",
    "root1.right = TreeNode(3)\n",
    "\n",
    "root1.left.right = TreeNode(3)\n",
    "root1.right.right = TreeNode(1)\n",
    "\n",
    "\n",
    "root2 = TreeNode(3)\n",
    "\n",
    "root2.left = TreeNode(4)\n",
    "root2.right = TreeNode(5)\n",
    "\n",
    "root2.left.left = TreeNode(1)\n",
    "root2.left.right = TreeNode(3)\n",
    "root2.right.right = TreeNode(1)"
   ]
  },
  {
   "cell_type": "code",
   "execution_count": 4,
   "metadata": {},
   "outputs": [
    {
     "data": {
      "text/plain": [
       "7"
      ]
     },
     "execution_count": 4,
     "metadata": {},
     "output_type": "execute_result"
    }
   ],
   "source": [
    "rob(root1)"
   ]
  },
  {
   "cell_type": "code",
   "execution_count": 5,
   "metadata": {},
   "outputs": [
    {
     "data": {
      "text/plain": [
       "9"
      ]
     },
     "execution_count": 5,
     "metadata": {},
     "output_type": "execute_result"
    }
   ],
   "source": [
    "rob(root2)"
   ]
  },
  {
   "cell_type": "code",
   "execution_count": null,
   "metadata": {},
   "outputs": [],
   "source": []
  }
 ],
 "metadata": {
  "kernelspec": {
   "display_name": "Python 3",
   "language": "python",
   "name": "python3"
  },
  "language_info": {
   "codemirror_mode": {
    "name": "ipython",
    "version": 3
   },
   "file_extension": ".py",
   "mimetype": "text/x-python",
   "name": "python",
   "nbconvert_exporter": "python",
   "pygments_lexer": "ipython3",
   "version": "3.6.5"
  }
 },
 "nbformat": 4,
 "nbformat_minor": 2
}
