{
 "cells": [
  {
   "cell_type": "markdown",
   "metadata": {},
   "source": [
    "# 连续字符\n",
    "\n",
    "**题目来源：力扣（LeetCode）**\n",
    "\n",
    "**链接：https://leetcode-cn.com/problems/consecutive-characters/**\n",
    "\n",
    "## 一、题目\n",
    "\n",
    "给你一个字符串 s ，字符串的「能量」定义为：只包含一种字符的最长非空子字符串的长度。\n",
    "\n",
    "请你返回字符串的能量。\n",
    "\n",
    "### 提示：\n",
    "\n",
    "- 1 <= s.length <= 500\n",
    "- s 只包含小写英文字母。\n",
    "\n",
    "## 二、示例\n",
    "\n",
    "### 示例 1：\n",
    "\n",
    "输入：s = \"leetcode\"\n",
    "\n",
    "输出：2\n",
    "\n",
    "解释：子字符串 \"ee\" 长度为 2 ，只包含字符 'e' 。\n",
    "\n",
    "### 示例 2：\n",
    "\n",
    "输入：s = \"abbcccddddeeeeedcba\"\n",
    "\n",
    "输出：5\n",
    "\n",
    "解释：子字符串 \"eeeee\" 长度为 5 ，只包含字符 'e' 。\n",
    "\n",
    "### 示例 3：\n",
    "\n",
    "输入：s = \"triplepillooooow\"\n",
    "\n",
    "输出：5\n",
    "\n",
    "### 示例 4：\n",
    "\n",
    "输入：s = \"hooraaaaaaaaaaay\"\n",
    "\n",
    "输出：11\n",
    "\n",
    "### 示例 5：\n",
    "\n",
    "输入：s = \"tourist\"\n",
    "\n",
    "输出：1\n",
    "\n",
    "## 三、解题思路\n",
    "\n",
    "### 单次扫描"
   ]
  },
  {
   "cell_type": "code",
   "execution_count": 1,
   "metadata": {},
   "outputs": [],
   "source": [
    "def maxPower(s: str) -> int:\n",
    "    if not s:\n",
    "        return 0\n",
    "    curCount, maxCount = 1, 1\n",
    "    for i in range(1, len(s)):\n",
    "        if s[i] == s[i-1]:\n",
    "            curCount += 1\n",
    "        else:\n",
    "            curCount = 1\n",
    "        maxCount = max(maxCount, curCount)\n",
    "    return maxCount"
   ]
  },
  {
   "cell_type": "code",
   "execution_count": 2,
   "metadata": {},
   "outputs": [
    {
     "data": {
      "text/plain": [
       "2"
      ]
     },
     "execution_count": 2,
     "metadata": {},
     "output_type": "execute_result"
    }
   ],
   "source": [
    "maxPower(\"leetcode\")"
   ]
  },
  {
   "cell_type": "code",
   "execution_count": 3,
   "metadata": {},
   "outputs": [
    {
     "data": {
      "text/plain": [
       "5"
      ]
     },
     "execution_count": 3,
     "metadata": {},
     "output_type": "execute_result"
    }
   ],
   "source": [
    "maxPower(\"abbcccddddeeeeedcba\")"
   ]
  },
  {
   "cell_type": "code",
   "execution_count": 4,
   "metadata": {},
   "outputs": [
    {
     "data": {
      "text/plain": [
       "5"
      ]
     },
     "execution_count": 4,
     "metadata": {},
     "output_type": "execute_result"
    }
   ],
   "source": [
    "maxPower(\"triplepillooooow\")"
   ]
  },
  {
   "cell_type": "code",
   "execution_count": 5,
   "metadata": {},
   "outputs": [
    {
     "data": {
      "text/plain": [
       "11"
      ]
     },
     "execution_count": 5,
     "metadata": {},
     "output_type": "execute_result"
    }
   ],
   "source": [
    "maxPower(\"hooraaaaaaaaaaay\")"
   ]
  },
  {
   "cell_type": "code",
   "execution_count": 6,
   "metadata": {},
   "outputs": [
    {
     "data": {
      "text/plain": [
       "1"
      ]
     },
     "execution_count": 6,
     "metadata": {},
     "output_type": "execute_result"
    }
   ],
   "source": [
    "maxPower(\"tourist\")"
   ]
  },
  {
   "cell_type": "code",
   "execution_count": null,
   "metadata": {},
   "outputs": [],
   "source": []
  }
 ],
 "metadata": {
  "kernelspec": {
   "display_name": "Python 3",
   "language": "python",
   "name": "python3"
  },
  "language_info": {
   "codemirror_mode": {
    "name": "ipython",
    "version": 3
   },
   "file_extension": ".py",
   "mimetype": "text/x-python",
   "name": "python",
   "nbconvert_exporter": "python",
   "pygments_lexer": "ipython3",
   "version": "3.6.5"
  }
 },
 "nbformat": 4,
 "nbformat_minor": 2
}
