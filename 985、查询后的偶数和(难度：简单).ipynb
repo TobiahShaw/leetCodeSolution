{
 "cells": [
  {
   "cell_type": "markdown",
   "metadata": {},
   "source": [
    "# 查询后的偶数和\n",
    "\n",
    "**题目来源：力扣（LeetCode）**\n",
    "\n",
    "**链接：https://leetcode-cn.com/problems/sum-of-even-numbers-after-queries/**\n",
    "\n",
    "## 一、题目\n",
    "\n",
    "给出一个整数数组 A 和一个查询数组 queries。\n",
    "\n",
    "对于第 i 次查询，有 val = queries[i][0], index = queries[i][1]，我们会把 val 加到 A[index] 上。然后，第 i 次查询的答案是 A 中偶数值的和。\n",
    "\n",
    "（此处给定的 index = queries[i][1] 是从 0 开始的索引，每次查询都会永久修改数组 A。）\n",
    "\n",
    "返回所有查询的答案。你的答案应当以数组 answer 给出，answer[i] 为第 i 次查询的答案。\n",
    "\n",
    "### 提示：\n",
    "\n",
    "- 1 <= A.length <= 10000\n",
    "- -10000 <= A[i] <= 10000\n",
    "- 1 <= queries.length <= 10000\n",
    "- -10000 <= queries[i][0] <= 10000\n",
    "- 0 <= queries[i][1] < A.length\n",
    "\n",
    "## 二、示例\n",
    "\n",
    "### 示例 1：\n",
    "\n",
    "输入：A = [1,2,3,4], queries = [[1,0],[-3,1],[-4,0],[2,3]]\n",
    "\n",
    "输出：[8,6,2,4]\n",
    "\n",
    "解释：\n",
    "\n",
    "- 开始时，数组为 [1,2,3,4]。\n",
    "- 将 1 加到 A[0] 上之后，数组为 [2,2,3,4]，偶数值之和为 2 + 2 + 4 = 8。\n",
    "- 将 -3 加到 A[1] 上之后，数组为 [2,-1,3,4]，偶数值之和为 2 + 4 = 6。\n",
    "- 将 -4 加到 A[0] 上之后，数组为 [-2,-1,3,4]，偶数值之和为 -2 + 4 = 2。\n",
    "- 将 2 加到 A[3] 上之后，数组为 [-2,-1,3,6]，偶数值之和为 -2 + 6 = 4。\n",
    "\n",
    "## 三、解题思路\n",
    "\n",
    "### 一、暴力（超时）"
   ]
  },
  {
   "cell_type": "code",
   "execution_count": 1,
   "metadata": {},
   "outputs": [],
   "source": [
    "def sumEvenAfterQueries(A, queries):\n",
    "    ans = []\n",
    "    for query in queries:\n",
    "        A[query[1]] += query[0]\n",
    "        ans.append(sum([i if i % 2 == 0 else 0 for i in A]))\n",
    "    return ans"
   ]
  },
  {
   "cell_type": "code",
   "execution_count": 2,
   "metadata": {},
   "outputs": [
    {
     "data": {
      "text/plain": [
       "[8, 6, 2, 4]"
      ]
     },
     "execution_count": 2,
     "metadata": {},
     "output_type": "execute_result"
    }
   ],
   "source": [
    "sumEvenAfterQueries(A = [1,2,3,4], queries = [[1,0],[-3,1],[-4,0],[2,3]])"
   ]
  },
  {
   "cell_type": "markdown",
   "metadata": {},
   "source": [
    "### 二、维护一个偶数和变量"
   ]
  },
  {
   "cell_type": "code",
   "execution_count": 3,
   "metadata": {},
   "outputs": [],
   "source": [
    "def sumEvenAfterQueries(A, queries):\n",
    "    ans = []\n",
    "    curSum = sum([i if i % 2 == 0 else 0 for i in A])\n",
    "    for query in queries:\n",
    "        if A[query[1]] % 2 == 0:\n",
    "            curSum -= A[query[1]]\n",
    "        A[query[1]] += query[0]\n",
    "        if A[query[1]] % 2 == 0:\n",
    "            curSum += A[query[1]]\n",
    "        ans.append(curSum)\n",
    "    return ans"
   ]
  },
  {
   "cell_type": "code",
   "execution_count": 4,
   "metadata": {},
   "outputs": [
    {
     "data": {
      "text/plain": [
       "[8, 6, 2, 4]"
      ]
     },
     "execution_count": 4,
     "metadata": {},
     "output_type": "execute_result"
    }
   ],
   "source": [
    "sumEvenAfterQueries(A = [1,2,3,4], queries = [[1,0],[-3,1],[-4,0],[2,3]])"
   ]
  },
  {
   "cell_type": "code",
   "execution_count": null,
   "metadata": {},
   "outputs": [],
   "source": []
  }
 ],
 "metadata": {
  "kernelspec": {
   "display_name": "Python 3",
   "language": "python",
   "name": "python3"
  },
  "language_info": {
   "codemirror_mode": {
    "name": "ipython",
    "version": 3
   },
   "file_extension": ".py",
   "mimetype": "text/x-python",
   "name": "python",
   "nbconvert_exporter": "python",
   "pygments_lexer": "ipython3",
   "version": "3.6.5"
  }
 },
 "nbformat": 4,
 "nbformat_minor": 2
}
