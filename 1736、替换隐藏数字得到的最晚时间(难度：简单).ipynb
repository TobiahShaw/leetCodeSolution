{
 "cells": [
  {
   "cell_type": "markdown",
   "metadata": {},
   "source": [
    "# 替换隐藏数字得到的最晚时间\n",
    "\n",
    "**题目来源：力扣（LeetCode）**\n",
    "\n",
    "**链接：https://leetcode-cn.com/problems/latest-time-by-replacing-hidden-digits/**\n",
    "\n",
    "## 一、题目\n",
    "\n",
    "给你一个字符串 time ，格式为 hh:mm（小时：分钟），其中某几位数字被隐藏（用 ? 表示）。\n",
    "\n",
    "有效的时间为 00:00 到 23:59 之间的所有时间，包括 00:00 和 23:59 。\n",
    "\n",
    "替换 time 中隐藏的数字，返回你可以得到的最晚有效时间。\n",
    "\n",
    "### 提示：\n",
    "\n",
    "- time 的格式为 hh:mm\n",
    "- 题目数据保证你可以由输入的字符串生成有效的时间\n",
    "\n",
    "## 二、示例\n",
    "\n",
    "### 示例 1：\n",
    "\n",
    "输入：time = \"2?:?0\"\n",
    "\n",
    "输出：\"23:50\"\n",
    "\n",
    "解释：以数字 '2' 开头的最晚一小时是 23 ，以 '0' 结尾的最晚一分钟是 50 。\n",
    "\n",
    "### 示例 2：\n",
    "\n",
    "输入：time = \"0?:3?\"\n",
    "\n",
    "输出：\"09:39\"\n",
    "\n",
    "### 示例 3：\n",
    "\n",
    "输入：time = \"1?:22\"\n",
    "\n",
    "输出：\"19:22\"\n",
    "\n",
    "## 三、解题思路\n",
    "\n",
    "### 贪心"
   ]
  },
  {
   "cell_type": "code",
   "execution_count": 1,
   "metadata": {},
   "outputs": [],
   "source": [
    "def maximumTime(time: str) -> str:\n",
    "    ret = []\n",
    "    for i in range(5):\n",
    "        if time[i] == '?':\n",
    "            maxValue = None\n",
    "            if i == 0:\n",
    "                if time[1] != '?' and int(time[1]) > 3:\n",
    "                    maxValue = \"1\"\n",
    "                else:\n",
    "                    maxValue = \"2\"\n",
    "            elif i == 1:\n",
    "                if int(ret[-1]) < 2:\n",
    "                    maxValue = \"9\"\n",
    "                else:\n",
    "                    maxValue = \"3\"\n",
    "            elif i == 3:\n",
    "                maxValue = \"5\"\n",
    "            else:\n",
    "                maxValue = \"9\"\n",
    "            ret.append(maxValue)\n",
    "        else:\n",
    "            ret.append(time[i])\n",
    "    return \"\".join(ret)"
   ]
  },
  {
   "cell_type": "code",
   "execution_count": 2,
   "metadata": {},
   "outputs": [
    {
     "data": {
      "text/plain": [
       "'23:50'"
      ]
     },
     "execution_count": 2,
     "metadata": {},
     "output_type": "execute_result"
    }
   ],
   "source": [
    "maximumTime(\"2?:?0\")"
   ]
  },
  {
   "cell_type": "code",
   "execution_count": 3,
   "metadata": {},
   "outputs": [
    {
     "data": {
      "text/plain": [
       "'09:39'"
      ]
     },
     "execution_count": 3,
     "metadata": {},
     "output_type": "execute_result"
    }
   ],
   "source": [
    "maximumTime(\"0?:3?\")"
   ]
  },
  {
   "cell_type": "code",
   "execution_count": 4,
   "metadata": {},
   "outputs": [
    {
     "data": {
      "text/plain": [
       "'19:22'"
      ]
     },
     "execution_count": 4,
     "metadata": {},
     "output_type": "execute_result"
    }
   ],
   "source": [
    "maximumTime(\"1?:22\")"
   ]
  },
  {
   "cell_type": "code",
   "execution_count": null,
   "metadata": {},
   "outputs": [],
   "source": []
  }
 ],
 "metadata": {
  "kernelspec": {
   "display_name": "Python 3",
   "language": "python",
   "name": "python3"
  },
  "language_info": {
   "codemirror_mode": {
    "name": "ipython",
    "version": 3
   },
   "file_extension": ".py",
   "mimetype": "text/x-python",
   "name": "python",
   "nbconvert_exporter": "python",
   "pygments_lexer": "ipython3",
   "version": "3.6.5"
  }
 },
 "nbformat": 4,
 "nbformat_minor": 2
}
