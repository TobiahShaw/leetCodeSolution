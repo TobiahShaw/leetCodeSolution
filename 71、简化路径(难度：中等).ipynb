{
 "cells": [
  {
   "cell_type": "markdown",
   "metadata": {},
   "source": [
    "# 简化路径\n",
    "\n",
    "**题目来源：力扣（LeetCode）**\n",
    "\n",
    "**链接：https://leetcode-cn.com/problems/simplify-path/**\n",
    "\n",
    "## 一、题目\n",
    "\n",
    "给你一个字符串 path ，表示指向某一文件或目录的 Unix 风格 绝对路径 （以 '/' 开头），请你将其转化为更加简洁的规范路径。\n",
    "\n",
    "在 Unix 风格的文件系统中，一个点（.）表示当前目录本身；此外，两个点 （..） 表示将目录切换到上一级（指向父目录）；两者都可以是复杂相对路径的组成部分。任意多个连续的斜杠（即，'//'）都被视为单个斜杠 '/' 。 对于此问题，任何其他格式的点（例如，'...'）均被视为文件/目录名称。\n",
    "\n",
    "请注意，返回的 规范路径 必须遵循下述格式：\n",
    "\n",
    "- 始终以斜杠 '/' 开头。\n",
    "- 两个目录名之间必须只有一个斜杠 '/' 。\n",
    "- 最后一个目录名（如果存在）不能 以 '/' 结尾。\n",
    "- 此外，路径仅包含从根目录到目标文件或目录的路径上的目录（即，不含 '.' 或 '..'）。\n",
    "\n",
    "返回简化后得到的 规范路径 。\n",
    "\n",
    "### 提示：\n",
    "\n",
    "- 1 <= path.length <= 3000\n",
    "- path 由英文字母，数字，'.'，'/' 或 '\\_' 组成。\n",
    "- path 是一个有效的 Unix 风格绝对路径。\n",
    "\n",
    "## 二、示例\n",
    "\n",
    "### 示例 1：\n",
    "\n",
    "输入：path = \"/home/\"\n",
    "\n",
    "输出：\"/home\"\n",
    "\n",
    "解释：注意，最后一个目录名后面没有斜杠。 \n",
    "\n",
    "### 示例 2：\n",
    "\n",
    "输入：path = \"/../\"\n",
    "\n",
    "输出：\"/\"\n",
    "\n",
    "解释：从根目录向上一级是不可行的，因为根目录是你可以到达的最高级。\n",
    "\n",
    "### 示例 3：\n",
    "\n",
    "输入：path = \"/home//foo/\"\n",
    "\n",
    "输出：\"/home/foo\"\n",
    "\n",
    "解释：在规范路径中，多个连续斜杠需要用一个斜杠替换。\n",
    "\n",
    "### 示例 4：\n",
    "\n",
    "输入：path = \"/a/./b/../../c/\"\n",
    "\n",
    "输出：\"/c\"\n",
    "\n",
    "## 三、解题思路\n",
    "\n",
    "### 栈"
   ]
  },
  {
   "cell_type": "code",
   "execution_count": 1,
   "metadata": {},
   "outputs": [],
   "source": [
    "def simplifyPath(path: str) -> str:\n",
    "    pathSplit = path.split('/')\n",
    "    stack = []\n",
    "    for ch in pathSplit:\n",
    "        if ch == '' or ch == '.':\n",
    "            continue\n",
    "        if ch == '..':\n",
    "            if stack:\n",
    "                stack.pop()\n",
    "        else:\n",
    "            stack.append(ch)\n",
    "    return \"/\" + \"/\".join(stack)"
   ]
  },
  {
   "cell_type": "code",
   "execution_count": 2,
   "metadata": {},
   "outputs": [
    {
     "data": {
      "text/plain": [
       "'/home'"
      ]
     },
     "execution_count": 2,
     "metadata": {},
     "output_type": "execute_result"
    }
   ],
   "source": [
    "simplifyPath(path = \"/home/\")"
   ]
  },
  {
   "cell_type": "code",
   "execution_count": 3,
   "metadata": {},
   "outputs": [
    {
     "data": {
      "text/plain": [
       "'/'"
      ]
     },
     "execution_count": 3,
     "metadata": {},
     "output_type": "execute_result"
    }
   ],
   "source": [
    "simplifyPath(path = \"/../\")"
   ]
  },
  {
   "cell_type": "code",
   "execution_count": 4,
   "metadata": {},
   "outputs": [
    {
     "data": {
      "text/plain": [
       "'/home/foo'"
      ]
     },
     "execution_count": 4,
     "metadata": {},
     "output_type": "execute_result"
    }
   ],
   "source": [
    "simplifyPath(path = \"/home//foo/\")"
   ]
  },
  {
   "cell_type": "code",
   "execution_count": 5,
   "metadata": {},
   "outputs": [
    {
     "data": {
      "text/plain": [
       "'/c'"
      ]
     },
     "execution_count": 5,
     "metadata": {},
     "output_type": "execute_result"
    }
   ],
   "source": [
    "simplifyPath(path = \"/a/./b/../../c/\")"
   ]
  },
  {
   "cell_type": "code",
   "execution_count": null,
   "metadata": {},
   "outputs": [],
   "source": []
  }
 ],
 "metadata": {
  "kernelspec": {
   "display_name": "Python 3",
   "language": "python",
   "name": "python3"
  },
  "language_info": {
   "codemirror_mode": {
    "name": "ipython",
    "version": 3
   },
   "file_extension": ".py",
   "mimetype": "text/x-python",
   "name": "python",
   "nbconvert_exporter": "python",
   "pygments_lexer": "ipython3",
   "version": "3.6.5"
  }
 },
 "nbformat": 4,
 "nbformat_minor": 2
}
