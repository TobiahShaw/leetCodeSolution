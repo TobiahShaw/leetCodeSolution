{
 "cells": [
  {
   "cell_type": "markdown",
   "metadata": {},
   "source": [
    "# 找到最终的安全状态\n",
    "\n",
    "**题目来源：力扣（LeetCode）**\n",
    "\n",
    "**链接：https://leetcode-cn.com/problems/find-eventual-safe-states/**\n",
    "\n",
    "## 一、题目\n",
    "\n",
    "在有向图中，以某个节点为起始节点，从该点出发，每一步沿着图中的一条有向边行走。如果到达的节点是终点（即它没有连出的有向边），则停止。\n",
    "\n",
    "对于一个起始节点，如果从该节点出发，无论每一步选择沿哪条有向边行走，最后必然在有限步内到达终点，则将该起始节点称作是 安全 的。\n",
    "\n",
    "返回一个由图中所有安全的起始节点组成的数组作为答案。答案数组中的元素应当按 升序 排列。\n",
    "\n",
    "该有向图有 n 个节点，按 0 到 n - 1 编号，其中 n 是 graph 的节点数。图以下述形式给出：graph[i] 是编号 j 节点的一个列表，满足 (i, j) 是图的一条有向边。\n",
    "\n",
    "### 提示：\n",
    "\n",
    "- n == graph.length\n",
    "- 1 <= n <= 104\n",
    "- 0 <= graph[i].length <= n\n",
    "- graph[i] 按严格递增顺序排列。\n",
    "- 图中可能包含自环。\n",
    "- 图中边的数目在范围 [1, 4 * 104] 内。\n",
    "\n",
    "## 二、示例\n",
    "\n",
    "### 示例 1：\n",
    "\n",
    "输入：graph = [[1,2],[2,3],[5],[0],[5],[],[]]\n",
    "\n",
    "输出：[2,4,5,6]\n",
    "\n",
    "### 示例 2：\n",
    "\n",
    "输入：graph = [[1,2,3,4],[1,2],[3,4],[0,4],[]]\n",
    "\n",
    "输出：[4]\n",
    "\n",
    "## 三、解题思路\n",
    "\n",
    "### 深度优先搜索\n",
    "\n",
    "我们可以使用深度优先搜索来找环，并在深度优先搜索时，用三种颜色对节点进行标记，标记的规则如下：\n",
    "\n",
    "- 白色（用 00 表示）：该节点尚未被访问；\n",
    "- 灰色（用 11 表示）：该节点位于递归栈中，或者在某个环上；\n",
    "- 黑色（用 22 表示）：该节点搜索完毕，是一个安全节点。\n",
    "\n",
    "当我们首次访问一个节点时，将其标记为灰色，并继续搜索与其相连的节点。\n",
    "\n",
    "如果在搜索过程中遇到了一个灰色节点，则说明找到了一个环，此时退出搜索，栈中的节点仍保持为灰色，这一做法可以将「找到了环」这一信息传递到栈中的所有节点上。\n",
    "\n",
    "如果搜索过程中没有遇到灰色节点，则说明没有遇到环，那么递归返回前，我们将其标记由灰色改为黑色，即表示它是一个安全的节点。\n",
    "\n",
    "```\n",
    "作者：LeetCode-Solution\n",
    "链接：https://leetcode-cn.com/problems/find-eventual-safe-states/solution/zhao-dao-zui-zhong-de-an-quan-zhuang-tai-yzfz/\n",
    "来源：力扣（LeetCode）\n",
    "著作权归作者所有。商业转载请联系作者获得授权，非商业转载请注明出处。\n",
    "```"
   ]
  },
  {
   "cell_type": "code",
   "execution_count": 1,
   "metadata": {},
   "outputs": [],
   "source": [
    "def eventualSafeNodes(graph):\n",
    "    n = len(graph)\n",
    "    colors = [0] * n\n",
    "\n",
    "    def safe(node):\n",
    "        if colors[node] > 0:\n",
    "            return colors[node] == 2\n",
    "        colors[node] = 1\n",
    "        for nextNode in graph[node]:\n",
    "            if not safe(nextNode):\n",
    "                return False\n",
    "        colors[node] = 2\n",
    "        return True\n",
    "    return [i for i in range(n) if safe(i)]"
   ]
  },
  {
   "cell_type": "code",
   "execution_count": 2,
   "metadata": {},
   "outputs": [
    {
     "data": {
      "text/plain": [
       "[2, 4, 5, 6]"
      ]
     },
     "execution_count": 2,
     "metadata": {},
     "output_type": "execute_result"
    }
   ],
   "source": [
    "eventualSafeNodes(graph = [[1,2],[2,3],[5],[0],[5],[],[]])"
   ]
  },
  {
   "cell_type": "code",
   "execution_count": 3,
   "metadata": {},
   "outputs": [
    {
     "data": {
      "text/plain": [
       "[4]"
      ]
     },
     "execution_count": 3,
     "metadata": {},
     "output_type": "execute_result"
    }
   ],
   "source": [
    "eventualSafeNodes(graph = [[1,2,3,4],[1,2],[3,4],[0,4],[]])"
   ]
  },
  {
   "cell_type": "code",
   "execution_count": null,
   "metadata": {},
   "outputs": [],
   "source": []
  }
 ],
 "metadata": {
  "kernelspec": {
   "display_name": "Python 3",
   "language": "python",
   "name": "python3"
  },
  "language_info": {
   "codemirror_mode": {
    "name": "ipython",
    "version": 3
   },
   "file_extension": ".py",
   "mimetype": "text/x-python",
   "name": "python",
   "nbconvert_exporter": "python",
   "pygments_lexer": "ipython3",
   "version": "3.6.5"
  }
 },
 "nbformat": 4,
 "nbformat_minor": 2
}
