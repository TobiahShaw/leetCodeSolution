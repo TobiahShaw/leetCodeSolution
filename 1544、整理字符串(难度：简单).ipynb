{
 "cells": [
  {
   "cell_type": "markdown",
   "metadata": {},
   "source": [
    "# 整理字符串\n",
    "\n",
    "**题目来源：力扣（LeetCode）**\n",
    "\n",
    "**链接：https://leetcode-cn.com/problems/make-the-string-great/**\n",
    "\n",
    "## 一、题目\n",
    "\n",
    "给你一个由大小写英文字母组成的字符串 s 。\n",
    "\n",
    "一个整理好的字符串中，两个相邻字符 s[i] 和 s[i+1]，其中 0<= i <= s.length-2 ，要满足如下条件:\n",
    "\n",
    "- 若 s[i] 是小写字符，则 s[i+1] 不可以是相同的大写字符。\n",
    "- 若 s[i] 是大写字符，则 s[i+1] 不可以是相同的小写字符。\n",
    "\n",
    "请你将字符串整理好，每次你都可以从字符串中选出满足上述条件的 两个相邻 字符并删除，直到字符串整理好为止。\n",
    "\n",
    "请返回整理好的 字符串 。题目保证在给出的约束条件下，测试样例对应的答案是唯一的。\n",
    "\n",
    "注意：空字符串也属于整理好的字符串，尽管其中没有任何字符。\n",
    "\n",
    "### 提示：\n",
    "\n",
    "- 1 <= s.length <= 100\n",
    "- s 只包含小写和大写英文字母\n",
    "\n",
    "## 二、示例\n",
    "\n",
    "### 示例 1：\n",
    "\n",
    "输入：s = \"leEeetcode\"\n",
    "\n",
    "输出：\"leetcode\"\n",
    "\n",
    "解释：无论你第一次选的是 i = 1 还是 i = 2，都会使 \"leEeetcode\" 缩减为 \"leetcode\" 。\n",
    "\n",
    "### 示例 2：\n",
    "\n",
    "输入：s = \"abBAcC\"\n",
    "\n",
    "输出：\"\"\n",
    "\n",
    "解释：存在多种不同情况，但所有的情况都会导致相同的结果。例如：\n",
    "\n",
    "\"abBAcC\" --> \"aAcC\" --> \"cC\" --> \"\"\n",
    "\n",
    "\"abBAcC\" --> \"abBA\" --> \"aA\" --> \"\"\n",
    "\n",
    "### 示例 3：\n",
    "\n",
    "输入：s = \"s\"\n",
    "\n",
    "输出：\"s\"\n",
    "\n",
    "## 三、解题思路\n",
    "\n",
    "### 模拟过程"
   ]
  },
  {
   "cell_type": "code",
   "execution_count": 1,
   "metadata": {},
   "outputs": [],
   "source": [
    "def makeGood(s: str) -> str:\n",
    "    ret = []\n",
    "    for ch in s:\n",
    "        if ret and ret[-1].lower() == ch.lower() and ret[-1] != ch:\n",
    "            ret.pop()\n",
    "        else:\n",
    "            ret.append(ch)\n",
    "    return \"\".join(ret)"
   ]
  },
  {
   "cell_type": "code",
   "execution_count": 2,
   "metadata": {},
   "outputs": [
    {
     "data": {
      "text/plain": [
       "'leetcode'"
      ]
     },
     "execution_count": 2,
     "metadata": {},
     "output_type": "execute_result"
    }
   ],
   "source": [
    "makeGood(\"leEeetcode\")"
   ]
  },
  {
   "cell_type": "code",
   "execution_count": 3,
   "metadata": {},
   "outputs": [
    {
     "data": {
      "text/plain": [
       "''"
      ]
     },
     "execution_count": 3,
     "metadata": {},
     "output_type": "execute_result"
    }
   ],
   "source": [
    "makeGood(\"abBAcC\")"
   ]
  },
  {
   "cell_type": "code",
   "execution_count": 4,
   "metadata": {},
   "outputs": [
    {
     "data": {
      "text/plain": [
       "'s'"
      ]
     },
     "execution_count": 4,
     "metadata": {},
     "output_type": "execute_result"
    }
   ],
   "source": [
    "makeGood(\"s\")"
   ]
  },
  {
   "cell_type": "code",
   "execution_count": null,
   "metadata": {},
   "outputs": [],
   "source": []
  }
 ],
 "metadata": {
  "kernelspec": {
   "display_name": "Python 3",
   "language": "python",
   "name": "python3"
  },
  "language_info": {
   "codemirror_mode": {
    "name": "ipython",
    "version": 3
   },
   "file_extension": ".py",
   "mimetype": "text/x-python",
   "name": "python",
   "nbconvert_exporter": "python",
   "pygments_lexer": "ipython3",
   "version": "3.6.5"
  }
 },
 "nbformat": 4,
 "nbformat_minor": 2
}
