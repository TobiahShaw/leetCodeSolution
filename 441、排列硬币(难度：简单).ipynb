{
 "cells": [
  {
   "cell_type": "markdown",
   "metadata": {
    "collapsed": true
   },
   "source": [
    "# 排列硬币\n",
    "\n",
    "**题目来源：力扣（LeetCode）**\n",
    "\n",
    "**链接：https://leetcode-cn.com/problems/arranging-coins/**\n",
    "\n",
    "## 一、题目\n",
    "\n",
    "你总共有 n 枚硬币，你需要将它们摆成一个阶梯形状，第 k 行就必须正好有 k 枚硬币。\n",
    "\n",
    "给定一个数字 n，找出可形成完整阶梯行的总行数。\n",
    "\n",
    "n 是一个非负整数，并且在32位有符号整型的范围内。\n",
    "\n",
    "## 二、示例\n",
    "\n",
    "### 示例 1:\n",
    "\n",
    "n = 5\n",
    "\n",
    "硬币可排列成以下几行:\n",
    "\n",
    "¤\n",
    "¤ ¤\n",
    "¤ ¤\n",
    "\n",
    "因为第三行不完整，所以返回2.\n",
    "\n",
    "### 示例 2:\n",
    "\n",
    "n = 8\n",
    "\n",
    "硬币可排列成以下几行:\n",
    "\n",
    "¤\n",
    "¤ ¤\n",
    "¤ ¤ ¤\n",
    "¤ ¤\n",
    "\n",
    "因为第四行不完整，所以返回3.\n",
    "\n",
    "## 三、解题思路\n",
    "\n",
    "### 一、模拟过程"
   ]
  },
  {
   "cell_type": "code",
   "execution_count": 1,
   "metadata": {},
   "outputs": [],
   "source": [
    "def arrangeCoins(n) -> int:\n",
    "    row = 0\n",
    "    while n > row:\n",
    "        row += 1\n",
    "        n -= row\n",
    "    return row"
   ]
  },
  {
   "cell_type": "code",
   "execution_count": 2,
   "metadata": {},
   "outputs": [
    {
     "data": {
      "text/plain": [
       "2"
      ]
     },
     "execution_count": 2,
     "metadata": {},
     "output_type": "execute_result"
    }
   ],
   "source": [
    "arrangeCoins(5)"
   ]
  },
  {
   "cell_type": "code",
   "execution_count": 3,
   "metadata": {},
   "outputs": [
    {
     "data": {
      "text/plain": [
       "3"
      ]
     },
     "execution_count": 3,
     "metadata": {},
     "output_type": "execute_result"
    }
   ],
   "source": [
    "arrangeCoins(8)"
   ]
  },
  {
   "cell_type": "markdown",
   "metadata": {},
   "source": [
    "### 二、二分查找\n",
    "\n",
    "根据等差数列求和公式可知，前 kk 个完整阶梯行所需的硬币数量为\n",
    "\n",
    "$$ \\textit{total} = \\frac{k \\times (k+1)}{2} $$\n",
    "\n",
    "因此，可以通过二分查找计算 nn 枚硬币可形成的完整阶梯行的总行数。"
   ]
  },
  {
   "cell_type": "code",
   "execution_count": 4,
   "metadata": {},
   "outputs": [],
   "source": [
    "def arrangeCoins(n: int) -> int:\n",
    "    left, right = 1, n\n",
    "    while left < right:\n",
    "        mid = (left + right + 1) // 2\n",
    "        if mid * (mid + 1) <= 2 * n:\n",
    "            left = mid\n",
    "        else:\n",
    "            right = mid - 1\n",
    "    return left"
   ]
  },
  {
   "cell_type": "code",
   "execution_count": 5,
   "metadata": {},
   "outputs": [
    {
     "data": {
      "text/plain": [
       "2"
      ]
     },
     "execution_count": 5,
     "metadata": {},
     "output_type": "execute_result"
    }
   ],
   "source": [
    "arrangeCoins(5)"
   ]
  },
  {
   "cell_type": "code",
   "execution_count": 6,
   "metadata": {},
   "outputs": [
    {
     "data": {
      "text/plain": [
       "3"
      ]
     },
     "execution_count": 6,
     "metadata": {},
     "output_type": "execute_result"
    }
   ],
   "source": [
    "arrangeCoins(8)"
   ]
  },
  {
   "cell_type": "code",
   "execution_count": null,
   "metadata": {},
   "outputs": [],
   "source": []
  }
 ],
 "metadata": {
  "kernelspec": {
   "display_name": "Python 3",
   "language": "python",
   "name": "python3"
  },
  "language_info": {
   "codemirror_mode": {
    "name": "ipython",
    "version": 3
   },
   "file_extension": ".py",
   "mimetype": "text/x-python",
   "name": "python",
   "nbconvert_exporter": "python",
   "pygments_lexer": "ipython3",
   "version": "3.6.5"
  }
 },
 "nbformat": 4,
 "nbformat_minor": 2
}
