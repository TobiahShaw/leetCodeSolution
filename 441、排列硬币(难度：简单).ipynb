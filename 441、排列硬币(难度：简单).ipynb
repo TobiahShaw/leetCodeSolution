{
  "cells": [
    {
      "metadata": {
        "collapsed": true
      },
      "cell_type": "markdown",
      "source": "# 排列硬币\n\n**题目来源：力扣（LeetCode）**\n\n**链接：https://leetcode-cn.com/problems/arranging-coins/**\n\n## 一、题目\n\n你总共有 n 枚硬币，你需要将它们摆成一个阶梯形状，第 k 行就必须正好有 k 枚硬币。\n\n给定一个数字 n，找出可形成完整阶梯行的总行数。\n\nn 是一个非负整数，并且在32位有符号整型的范围内。\n\n## 二、示例\n\n### 示例 1:\n\nn = 5\n\n硬币可排列成以下几行:\n\n¤\n¤ ¤\n¤ ¤\n\n因为第三行不完整，所以返回2.\n\n### 示例 2:\n\nn = 8\n\n硬币可排列成以下几行:\n\n¤\n¤ ¤\n¤ ¤ ¤\n¤ ¤\n\n因为第四行不完整，所以返回3.\n\n## 三、解题思路\n\n### 模拟过程"
    },
    {
      "metadata": {
        "trusted": true
      },
      "cell_type": "code",
      "source": "def arrangeCoins(n) -> int:\n    row = 0\n    while n > row:\n        row += 1\n        n -= row\n    return row",
      "execution_count": 1,
      "outputs": []
    },
    {
      "metadata": {
        "trusted": true
      },
      "cell_type": "code",
      "source": "arrangeCoins(5)",
      "execution_count": 2,
      "outputs": [
        {
          "output_type": "execute_result",
          "execution_count": 2,
          "data": {
            "text/plain": "2"
          },
          "metadata": {}
        }
      ]
    },
    {
      "metadata": {
        "trusted": true
      },
      "cell_type": "code",
      "source": "arrangeCoins(8)",
      "execution_count": 3,
      "outputs": [
        {
          "output_type": "execute_result",
          "execution_count": 3,
          "data": {
            "text/plain": "3"
          },
          "metadata": {}
        }
      ]
    },
    {
      "metadata": {
        "trusted": true
      },
      "cell_type": "code",
      "source": "",
      "execution_count": null,
      "outputs": []
    }
  ],
  "metadata": {
    "kernelspec": {
      "name": "python36",
      "display_name": "Python 3.6",
      "language": "python"
    },
    "language_info": {
      "mimetype": "text/x-python",
      "nbconvert_exporter": "python",
      "name": "python",
      "pygments_lexer": "ipython3",
      "version": "3.6.6",
      "file_extension": ".py",
      "codemirror_mode": {
        "version": 3,
        "name": "ipython"
      }
    }
  },
  "nbformat": 4,
  "nbformat_minor": 2
}