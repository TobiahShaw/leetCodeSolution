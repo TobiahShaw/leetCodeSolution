{
  "cells": [
    {
      "metadata": {
        "collapsed": true
      },
      "cell_type": "markdown",
      "source": "# 转换成小写字母\n\n**题目来源：力扣（LeetCode）**\n\n**链接：https://leetcode-cn.com/problems/to-lower-case/**\n\n## 一、题目\n\n实现函数 ToLowerCase()，该函数接收一个字符串参数 str，并将该字符串中的大写字母转换成小写字母，之后返回新的字符串。\n\n## 二、示例\n\n### 示例一\n\n输入: \"Hello\"\n\n输出: \"hello\"\n\n### 示例二\n\n输入: \"here\"\n\n输出: \"here\"\n\n### 示例三\n\n输入: \"LOVELY\"\n\n输出: \"lovely\"\n\n## 三、解题思路\n\n### 暴力枚举 + ASCII码转换\n\n- [a,z] = [97,122]\n\n- [A,Z] = [65,90]\n\n大小写字母之间差32，将大写字母加32即可"
    },
    {
      "metadata": {
        "trusted": true
      },
      "cell_type": "code",
      "source": "def toLowerCase(str):\n    return ''.join([chr(ord(c) + 32) if ord(c) >= 65 and ord(c) <= 90 else c for c in str])",
      "execution_count": 1,
      "outputs": []
    },
    {
      "metadata": {
        "trusted": true
      },
      "cell_type": "code",
      "source": "toLowerCase(\"Hello\")",
      "execution_count": 2,
      "outputs": [
        {
          "output_type": "execute_result",
          "execution_count": 2,
          "data": {
            "text/plain": "'hello'"
          },
          "metadata": {}
        }
      ]
    },
    {
      "metadata": {
        "trusted": true
      },
      "cell_type": "code",
      "source": "toLowerCase(\"here\")",
      "execution_count": 3,
      "outputs": [
        {
          "output_type": "execute_result",
          "execution_count": 3,
          "data": {
            "text/plain": "'here'"
          },
          "metadata": {}
        }
      ]
    },
    {
      "metadata": {
        "trusted": true
      },
      "cell_type": "code",
      "source": "toLowerCase(\"LOVELY\")",
      "execution_count": 4,
      "outputs": [
        {
          "output_type": "execute_result",
          "execution_count": 4,
          "data": {
            "text/plain": "'lovely'"
          },
          "metadata": {}
        }
      ]
    },
    {
      "metadata": {
        "trusted": true
      },
      "cell_type": "code",
      "source": "",
      "execution_count": null,
      "outputs": []
    }
  ],
  "metadata": {
    "kernelspec": {
      "name": "python36",
      "display_name": "Python 3.6",
      "language": "python"
    },
    "language_info": {
      "mimetype": "text/x-python",
      "nbconvert_exporter": "python",
      "name": "python",
      "pygments_lexer": "ipython3",
      "version": "3.6.6",
      "file_extension": ".py",
      "codemirror_mode": {
        "version": 3,
        "name": "ipython"
      }
    }
  },
  "nbformat": 4,
  "nbformat_minor": 2
}