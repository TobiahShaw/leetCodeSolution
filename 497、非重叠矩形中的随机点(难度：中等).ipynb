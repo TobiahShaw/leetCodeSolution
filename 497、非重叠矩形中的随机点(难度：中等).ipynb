{
 "cells": [
  {
   "cell_type": "markdown",
   "metadata": {},
   "source": [
    "# 非重叠矩形中的随机点\n",
    "\n",
    "**题目来源：力扣（LeetCode）**\n",
    "\n",
    "**链接：https://leetcode.cn/problems/random-point-in-non-overlapping-rectangles/**\n",
    "\n",
    "## 一、题目\n",
    "\n",
    "给定一个由非重叠的轴对齐矩形的数组 rects ，其中 rects[i] = [ai, bi, xi, yi] 表示 (ai, bi) 是第 i 个矩形的左下角点，(xi, yi) 是第 i 个矩形的右上角角点。设计一个算法来随机挑选一个被某一矩形覆盖的整数点。矩形周长上的点也算做是被矩形覆盖。所有满足要求的点必须等概率被返回。\n",
    "\n",
    "在一个给定的矩形覆盖的空间内任何整数点都有可能被返回。\n",
    "\n",
    "请注意 ，整数点是具有整数坐标的点。\n",
    "\n",
    "实现 Solution 类:\n",
    "\n",
    "- Solution(int[][] rects) 用给定的矩形数组 rects 初始化对象。\n",
    "- int[] pick() 返回一个随机的整数点 [u, v] 在给定的矩形所覆盖的空间内。\n",
    "\n",
    "### 提示：\n",
    "\n",
    "- 1 <= rects.length <= 100\n",
    "- rects[i].length == 4\n",
    "- -10^9 <= ai < xi <= 10^9\n",
    "- -10^9 <= bi < yi <= 10^9\n",
    "- xi - ai <= 2000\n",
    "- yi - bi <= 2000\n",
    "- 所有的矩形不重叠。\n",
    "- pick 最多被调用 10^4 次。\n",
    "\n",
    "## 二、示例\n",
    "\n",
    "输入: \n",
    "\n",
    "[\"Solution\",\"pick\",\"pick\",\"pick\",\"pick\",\"pick\"]\n",
    "\n",
    "[[[[-2,-2,-1,-1],[1,0,3,0]]],[],[],[],[],[]]\n",
    "\n",
    "输出:\n",
    "\n",
    "[null,[-1,-2],[2,0],[-2,-1],[3,0],[-2,-2]\n",
    "\n",
    "解释：\n",
    "\n",
    "```\n",
    "solution = Solution([[-2, -2, 1, 1], [2, 2, 4, 6]])\n",
    "solution.pick()\n",
    "solution.pick()\n",
    "solution.pick()\n",
    "solution.pick()\n",
    "solution.pick()\n",
    "```\n",
    "\n",
    "## 三、解题思路\n",
    "\n",
    "### 前缀和 + 二分"
   ]
  },
  {
   "cell_type": "code",
   "execution_count": 1,
   "metadata": {},
   "outputs": [],
   "source": [
    "from random import randint\n",
    "from bisect import bisect_left\n",
    "class Solution:\n",
    "\n",
    "    def __init__(self, rects):\n",
    "        self.rects = rects\n",
    "        self.presum = []\n",
    "        for rect in rects:\n",
    "            area = (rect[2] - rect[0] + 1) * (rect[3] - rect[1] + 1)\n",
    "            if self.presum:\n",
    "                self.presum.append(self.presum[-1] + area)\n",
    "            else:\n",
    "                self.presum.append(area)\n",
    "\n",
    "    def pick(self):\n",
    "        a = randint(0, self.presum[-1])\n",
    "        index = bisect_left(self.presum, a)\n",
    "        rect = self.rects[index]\n",
    "        return [randint(rect[0], rect[2]), randint(rect[1], rect[3])]"
   ]
  },
  {
   "cell_type": "code",
   "execution_count": 2,
   "metadata": {},
   "outputs": [
    {
     "name": "stdout",
     "output_type": "stream",
     "text": [
      "[-1, -1]\n",
      "[0, 1]\n",
      "[3, 5]\n",
      "[4, 3]\n",
      "[-2, -2]\n"
     ]
    }
   ],
   "source": [
    "solution = Solution([[-2, -2, 1, 1], [2, 2, 4, 6]])\n",
    "print(solution.pick())\n",
    "print(solution.pick())\n",
    "print(solution.pick())\n",
    "print(solution.pick())\n",
    "print(solution.pick())"
   ]
  },
  {
   "cell_type": "code",
   "execution_count": null,
   "metadata": {},
   "outputs": [],
   "source": []
  }
 ],
 "metadata": {
  "kernelspec": {
   "display_name": "Python 3",
   "language": "python",
   "name": "python3"
  },
  "language_info": {
   "codemirror_mode": {
    "name": "ipython",
    "version": 3
   },
   "file_extension": ".py",
   "mimetype": "text/x-python",
   "name": "python",
   "nbconvert_exporter": "python",
   "pygments_lexer": "ipython3",
   "version": "3.6.5"
  }
 },
 "nbformat": 4,
 "nbformat_minor": 2
}
