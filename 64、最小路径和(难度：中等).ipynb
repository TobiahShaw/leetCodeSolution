{
  "cells": [
    {
      "metadata": {
        "collapsed": true
      },
      "cell_type": "markdown",
      "source": "# 最小路径和\n\n**题目来源：力扣（LeetCode）**\n\n**链接：https://leetcode-cn.com/problems/minimum-path-sum/**\n\n## 一、题目\n\n给定一个包含非负整数的 m x n 网格，请找出一条从左上角到右下角的路径，使得路径上的数字总和为最小。\n\n说明：每次只能向下或者向右移动一步。\n\n## 二、示例\n\n输入:\n\n```\n[\n  [1,3,1],\n  [1,5,1],\n  [4,2,1]\n]\n```\n\n输出: 7\n\n解释: 因为路径 1→3→1→1→1 的总和最小。\n\n## 三、解题思路\n\n### 动态规划\n\n- dp[i][j]代表dii行第j列的最小路径和\n- 边界条件是第一行和第一列的最小路径和 dp[0][0] = grid[0][0], dp[0][j] = dp[0][j-1]+grid[0][j], dp[i][0] = dp[i-1][0]+grid[i][0]\n- 状态转移方程 dp[i][j] = min(dp[i-1][j], dp[i][j-1]) + grid[i][j]"
    },
    {
      "metadata": {
        "trusted": true
      },
      "cell_type": "code",
      "source": "def minPathSum(grid):\n    if not grid or len(grid) == 0 or not grid[0] or len(grid[0]) == 0:\n        return 0\n    row = len(grid)\n    col = len(grid[0])\n\n    dp = [[0] * col for i in range(row)]\n\n    # 边界条件\n    dp[0][0] = grid[0][0]\n    for i in range(1, col):\n        dp[0][i] = dp[0][i-1] + grid[0][i]\n    for i in range(1, row):\n        dp[i][0] = dp[i-1][0] + grid[i][0]\n\n        # dp\n        for j in range(1, col):\n            dp[i][j] = min(dp[i-1][j], dp[i][j-1]) + grid[i][j]\n    return dp[row-1][col-1]",
      "execution_count": 1,
      "outputs": []
    },
    {
      "metadata": {
        "trusted": true
      },
      "cell_type": "code",
      "source": "minPathSum([\n  [1,3,1],\n  [1,5,1],\n  [4,2,1]\n])",
      "execution_count": 2,
      "outputs": [
        {
          "output_type": "execute_result",
          "execution_count": 2,
          "data": {
            "text/plain": "7"
          },
          "metadata": {}
        }
      ]
    },
    {
      "metadata": {
        "trusted": true
      },
      "cell_type": "code",
      "source": "",
      "execution_count": null,
      "outputs": []
    }
  ],
  "metadata": {
    "kernelspec": {
      "name": "python36",
      "display_name": "Python 3.6",
      "language": "python"
    },
    "language_info": {
      "mimetype": "text/x-python",
      "nbconvert_exporter": "python",
      "name": "python",
      "pygments_lexer": "ipython3",
      "version": "3.6.6",
      "file_extension": ".py",
      "codemirror_mode": {
        "version": 3,
        "name": "ipython"
      }
    }
  },
  "nbformat": 4,
  "nbformat_minor": 2
}