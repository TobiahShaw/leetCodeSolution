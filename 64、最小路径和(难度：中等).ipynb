{
  "cells": [
    {
      "cell_type": "markdown",
      "metadata": {
        "collapsed": true
      },
      "source": [
        "# 最小路径和\n",
        "\n",
        "**题目来源：力扣（LeetCode）**\n",
        "\n",
        "**链接：https://leetcode-cn.com/problems/minimum-path-sum/**\n",
        "\n",
        "## 一、题目\n",
        "\n",
        "给定一个包含非负整数的 m x n 网格 grid ，请找出一条从左上角到右下角的路径，使得路径上的数字总和为最小。\n",
        "\n",
        "说明：每次只能向下或者向右移动一步。\n",
        "\n",
        "### 提示：\n",
        "\n",
        "- m == grid.length\n",
        "- n == grid[i].length\n",
        "- 1 <= m, n <= 200\n",
        "- 0 <= grid[i][j] <= 100\n",
        "\n",
        "## 二、示例\n",
        "\n",
        "### 示例 1：\n",
        "\n",
        "输入：grid = [[1,3,1],[1,5,1],[4,2,1]]\n",
        "\n",
        "输出：7\n",
        "\n",
        "解释：因为路径 1→3→1→1→1 的总和最小。\n",
        "\n",
        "### 示例 2：\n",
        "\n",
        "输入：grid = [[1,2,3],[4,5,6]]\n",
        "\n",
        "输出：12\n",
        "\n",
        "## 三、解题思路\n",
        "\n",
        "### 动态规划\n",
        "\n",
        "- dp[i][j]代表dii行第j列的最小路径和\n",
        "- 边界条件是第一行和第一列的最小路径和 dp[0][0] = grid[0][0], dp[0][j] = dp[0][j-1]+grid[0][j], dp[i][0] = dp[i-1][0]+grid[i][0]\n",
        "- 状态转移方程 dp[i][j] = min(dp[i-1][j], dp[i][j-1]) + grid[i][j]"
      ]
    },
    {
      "cell_type": "code",
      "execution_count": 1,
      "metadata": {
        "trusted": true
      },
      "outputs": [],
      "source": [
        "class Solution:\n",
        "    def minPathSum(self, grid) -> int:\n",
        "        if not grid or len(grid) == 0 or not grid[0] or len(grid[0]) == 0:\n",
        "            return 0\n",
        "        row = len(grid)\n",
        "        col = len(grid[0])\n",
        "\n",
        "        dp = [[0] * col for i in range(row)]\n",
        "\n",
        "        # 边界条件\n",
        "        dp[0][0] = grid[0][0]\n",
        "        for i in range(1, col):\n",
        "            dp[0][i] = dp[0][i-1] + grid[0][i]\n",
        "        for i in range(1, row):\n",
        "            dp[i][0] = dp[i-1][0] + grid[i][0]\n",
        "\n",
        "            # dp\n",
        "            for j in range(1, col):\n",
        "                dp[i][j] = min(dp[i-1][j], dp[i][j-1]) + grid[i][j]\n",
        "        return dp[row-1][col-1]"
      ]
    },
    {
      "cell_type": "code",
      "execution_count": 2,
      "metadata": {
        "trusted": true
      },
      "outputs": [
        {
          "data": {
            "text/plain": [
              "7"
            ]
          },
          "execution_count": 2,
          "metadata": {},
          "output_type": "execute_result"
        }
      ],
      "source": [
        "s = Solution()\n",
        "s.minPathSum([\n",
        "  [1,3,1],\n",
        "  [1,5,1],\n",
        "  [4,2,1]\n",
        "])"
      ]
    },
    {
      "cell_type": "code",
      "execution_count": 3,
      "metadata": {
        "trusted": true
      },
      "outputs": [
        {
          "data": {
            "text/plain": [
              "12"
            ]
          },
          "execution_count": 3,
          "metadata": {},
          "output_type": "execute_result"
        }
      ],
      "source": [
        "s.minPathSum([[1,2,3],[4,5,6]])"
      ]
    },
    {
      "cell_type": "code",
      "execution_count": null,
      "metadata": {},
      "outputs": [],
      "source": []
    }
  ],
  "metadata": {
    "kernelspec": {
      "display_name": "Python 3.10.4 64-bit",
      "language": "python",
      "name": "python3"
    },
    "language_info": {
      "codemirror_mode": {
        "name": "ipython",
        "version": 3
      },
      "file_extension": ".py",
      "mimetype": "text/x-python",
      "name": "python",
      "nbconvert_exporter": "python",
      "pygments_lexer": "ipython3",
      "version": "3.10.4"
    },
    "vscode": {
      "interpreter": {
        "hash": "64540e13117c0aced699c2fe7bf875df1d08afdea6a3b3409e16615ccf95e68f"
      }
    }
  },
  "nbformat": 4,
  "nbformat_minor": 2
}
