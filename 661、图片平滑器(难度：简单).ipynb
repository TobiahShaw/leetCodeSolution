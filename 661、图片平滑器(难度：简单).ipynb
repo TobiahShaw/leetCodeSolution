{
  "cells": [
    {
      "metadata": {
        "collapsed": true
      },
      "cell_type": "markdown",
      "source": "# 图片平滑器\n\n**题目来源：力扣（LeetCode）**\n\n**链接：https://leetcode-cn.com/problems/image-smoother/**\n\n## 一、题目\n\n包含整数的二维矩阵 M 表示一个图片的灰度。你需要设计一个平滑器来让每一个单元的灰度成为平均灰度 (向下舍入) ，平均灰度的计算是周围的8个单元和它本身的值求平均，如果周围的单元格不足八个，则尽可能多的利用它们。\n\n## 二、示例\n\n输入:\n\n```\n[[1,1,1],\n [1,0,1],\n [1,1,1]]\n```\n\n输出:\n\n```\n[[0, 0, 0],\n [0, 0, 0],\n [0, 0, 0]]\n```\n\n解释:\n\n对于点 (0,0), (0,2), (2,0), (2,2): 平均(3/4) = 平均(0.75) = 0\n\n对于点 (0,1), (1,0), (1,2), (2,1): 平均(5/6) = 平均(0.83333333) = 0\n\n对于点 (1,1): 平均(8/9) = 平均(0.88888889) = 0\n\n## 三、解题思路\n\n### 轮询计算"
    },
    {
      "metadata": {
        "trusted": true
      },
      "cell_type": "code",
      "source": "def imageSmoother(M):\n    R, C = len(M), len(M[0])\n    # 初始化结果\n    ans = [[0] * C for _ in M]\n\n    for r in range(R):\n        for c in range(C):\n            # 参与计算的像素数\n            count = 0\n            for nr in (r-1, r, r+1):\n                for nc in (c-1, c, c+1):\n                    if 0 <= nr < R and 0 <= nc < C:\n                        # 累加参与计算的像素的值\n                        ans[r][c] += M[nr][nc]\n                        # 累加参与计算的像素数\n                        count += 1\n            # 累加完毕后相除\n            ans[r][c] = ans[r][c] // count\n\n    return ans",
      "execution_count": 1,
      "outputs": []
    },
    {
      "metadata": {
        "trusted": true
      },
      "cell_type": "code",
      "source": "imageSmoother([[1,1,1],[1,0,1],[1,1,1]])",
      "execution_count": 2,
      "outputs": [
        {
          "output_type": "execute_result",
          "execution_count": 2,
          "data": {
            "text/plain": "[[0, 0, 0], [0, 0, 0], [0, 0, 0]]"
          },
          "metadata": {}
        }
      ]
    },
    {
      "metadata": {
        "trusted": true
      },
      "cell_type": "code",
      "source": "",
      "execution_count": null,
      "outputs": []
    }
  ],
  "metadata": {
    "kernelspec": {
      "name": "python36",
      "display_name": "Python 3.6",
      "language": "python"
    },
    "language_info": {
      "mimetype": "text/x-python",
      "nbconvert_exporter": "python",
      "name": "python",
      "pygments_lexer": "ipython3",
      "version": "3.6.6",
      "file_extension": ".py",
      "codemirror_mode": {
        "version": 3,
        "name": "ipython"
      }
    }
  },
  "nbformat": 4,
  "nbformat_minor": 2
}