{
  "cells": [
    {
      "cell_type": "markdown",
      "metadata": {
        "collapsed": true
      },
      "source": [
        "# 图片平滑器\n",
        "\n",
        "**题目来源：力扣（LeetCode）**\n",
        "\n",
        "**链接：https://leetcode-cn.com/problems/image-smoother/**\n",
        "\n",
        "## 一、题目\n",
        "\n",
        "图像平滑器 是大小为 3 x 3 的过滤器，用于对图像的每个单元格平滑处理，平滑处理后单元格的值为该单元格的平均灰度。\n",
        "\n",
        "每个单元格的  平均灰度 定义为：该单元格自身及其周围的 8 个单元格的平均值，结果需向下取整。（即，需要计算蓝色平滑器中 9 个单元格的平均值）。\n",
        "\n",
        "如果一个单元格周围存在单元格缺失的情况，则计算平均灰度时不考虑缺失的单元格（即，需要计算红色平滑器中 4 个单元格的平均值）。\n",
        "\n",
        "### 提示:\n",
        "\n",
        "- m == img.length\n",
        "- n == img[i].length\n",
        "- 1 <= m, n <= 200\n",
        "- 0 <= img[i][j] <= 255\n",
        "\n",
        "## 二、示例\n",
        "\n",
        "输入:\n",
        "\n",
        "```\n",
        "[[1,1,1],\n",
        " [1,0,1],\n",
        " [1,1,1]]\n",
        "```\n",
        "\n",
        "输出:\n",
        "\n",
        "```\n",
        "[[0, 0, 0],\n",
        " [0, 0, 0],\n",
        " [0, 0, 0]]\n",
        "```\n",
        "\n",
        "解释:\n",
        "\n",
        "对于点 (0,0), (0,2), (2,0), (2,2): 平均(3/4) = 平均(0.75) = 0\n",
        "\n",
        "对于点 (0,1), (1,0), (1,2), (2,1): 平均(5/6) = 平均(0.83333333) = 0\n",
        "\n",
        "对于点 (1,1): 平均(8/9) = 平均(0.88888889) = 0\n",
        "\n",
        "## 三、解题思路\n",
        "\n",
        "### 轮询计算"
      ]
    },
    {
      "cell_type": "code",
      "execution_count": 1,
      "metadata": {
        "trusted": true
      },
      "outputs": [],
      "source": [
        "def imageSmoother(M):\n",
        "    R, C = len(M), len(M[0])\n",
        "    # 初始化结果\n",
        "    ans = [[0] * C for _ in M]\n",
        "\n",
        "    for r in range(R):\n",
        "        for c in range(C):\n",
        "            # 参与计算的像素数\n",
        "            count = 0\n",
        "            for nr in (r-1, r, r+1):\n",
        "                for nc in (c-1, c, c+1):\n",
        "                    if 0 <= nr < R and 0 <= nc < C:\n",
        "                        # 累加参与计算的像素的值\n",
        "                        ans[r][c] += M[nr][nc]\n",
        "                        # 累加参与计算的像素数\n",
        "                        count += 1\n",
        "            # 累加完毕后相除\n",
        "            ans[r][c] = ans[r][c] // count\n",
        "\n",
        "    return ans"
      ]
    },
    {
      "cell_type": "code",
      "execution_count": 2,
      "metadata": {
        "trusted": true
      },
      "outputs": [
        {
          "data": {
            "text/plain": [
              "[[0, 0, 0], [0, 0, 0], [0, 0, 0]]"
            ]
          },
          "execution_count": 2,
          "metadata": {},
          "output_type": "execute_result"
        }
      ],
      "source": [
        "imageSmoother([[1,1,1],[1,0,1],[1,1,1]])"
      ]
    },
    {
      "cell_type": "code",
      "execution_count": null,
      "metadata": {
        "trusted": true
      },
      "outputs": [],
      "source": []
    }
  ],
  "metadata": {
    "kernelspec": {
      "display_name": "Python 3.6",
      "language": "python",
      "name": "python36"
    },
    "language_info": {
      "codemirror_mode": {
        "name": "ipython",
        "version": 3
      },
      "file_extension": ".py",
      "mimetype": "text/x-python",
      "name": "python",
      "nbconvert_exporter": "python",
      "pygments_lexer": "ipython3",
      "version": "3.6.6"
    }
  },
  "nbformat": 4,
  "nbformat_minor": 2
}
