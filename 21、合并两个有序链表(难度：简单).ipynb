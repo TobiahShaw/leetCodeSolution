{
  "cells": [
    {
      "metadata": {
        "collapsed": true
      },
      "cell_type": "markdown",
      "source": "# 合并两个有序链表\n\n**题目来源：力扣（LeetCode）**\n\n**链接：https://leetcode-cn.com/problems/merge-two-sorted-lists/**\n\n## 一、题目\n\n将两个有序链表合并为一个新的有序链表并返回。新链表是通过拼接给定的两个链表的所有节点组成的。 \n\n## 二、示例\n\n输入：1->2->4, 1->3->4\n\n输出：1->1->2->3->4->4\n\n## 解题思路"
    },
    {
      "metadata": {
        "trusted": true
      },
      "cell_type": "code",
      "source": "class ListNode:\n    def __init__(self, x):\n        self.val = x\n        self.next = None",
      "execution_count": 1,
      "outputs": []
    },
    {
      "metadata": {},
      "cell_type": "markdown",
      "source": "### 一、递归\n\n每次筛选出比较大的head，然后剩下的进行merge"
    },
    {
      "metadata": {
        "trusted": true
      },
      "cell_type": "code",
      "source": "l1 = ListNode(1)\nl1.next = ListNode(2)\nl1.next.next = ListNode(4)\n\nl2 = ListNode(1)\nl2.next = ListNode(3)\nl2.next.next = ListNode(4)",
      "execution_count": 2,
      "outputs": []
    },
    {
      "metadata": {
        "trusted": true
      },
      "cell_type": "code",
      "source": "def mergeTwoLists(l1, l2):\n    if not l1 and not l2:\n        return None\n    if not l1:\n        return l2\n    if not l2:\n        return l1\n    if l1.val < l2.val:\n        l1.next = mergeTwoLists(l1.next, l2)\n        return l1\n    else:\n        l2.next = mergeTwoLists(l1, l2.next)\n        return l2",
      "execution_count": 3,
      "outputs": []
    },
    {
      "metadata": {
        "trusted": true
      },
      "cell_type": "code",
      "source": "res = mergeTwoLists(l1, l2)\n\nwhile res:\n    print(res.val, end= ' ')\n    res = res.next",
      "execution_count": 4,
      "outputs": [
        {
          "output_type": "stream",
          "text": "1 1 2 3 4 4 ",
          "name": "stdout"
        }
      ]
    },
    {
      "metadata": {},
      "cell_type": "markdown",
      "source": "### 二、迭代"
    },
    {
      "metadata": {
        "trusted": true
      },
      "cell_type": "code",
      "source": "l1 = ListNode(1)\nl1.next = ListNode(2)\nl1.next.next = ListNode(4)\n\nl2 = ListNode(1)\nl2.next = ListNode(3)\nl2.next.next = ListNode(4)",
      "execution_count": 5,
      "outputs": []
    },
    {
      "metadata": {
        "trusted": true
      },
      "cell_type": "code",
      "source": "def mergeTwoLists(l1, l2):\n    holder = ListNode(0)\n    curr = holder\n    while l1 and l2:\n        if l1.val < l2.val:\n            curr.next = l1\n            l1 = l1.next\n        else:\n            curr.next = l2\n            l2 = l2.next\n        curr = curr.next\n    curr.next = l1 if l1 is not None else l2\n    return holder.next",
      "execution_count": 6,
      "outputs": []
    },
    {
      "metadata": {
        "trusted": true
      },
      "cell_type": "code",
      "source": "res = mergeTwoLists(l1, l2)\n\nwhile res:\n    print(res.val, end= ' ')\n    res = res.next",
      "execution_count": 7,
      "outputs": [
        {
          "output_type": "stream",
          "text": "1 1 2 3 4 4 ",
          "name": "stdout"
        }
      ]
    },
    {
      "metadata": {
        "trusted": true
      },
      "cell_type": "code",
      "source": "",
      "execution_count": null,
      "outputs": []
    }
  ],
  "metadata": {
    "kernelspec": {
      "name": "python36",
      "display_name": "Python 3.6",
      "language": "python"
    },
    "language_info": {
      "mimetype": "text/x-python",
      "nbconvert_exporter": "python",
      "name": "python",
      "pygments_lexer": "ipython3",
      "version": "3.6.6",
      "file_extension": ".py",
      "codemirror_mode": {
        "version": 3,
        "name": "ipython"
      }
    }
  },
  "nbformat": 4,
  "nbformat_minor": 2
}