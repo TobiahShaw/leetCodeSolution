{
 "cells": [
  {
   "cell_type": "markdown",
   "id": "4b7bc10d",
   "metadata": {},
   "source": [
    "# 判断一个数的数字计数是否等于数位的值\n",
    "\n",
    "**题目来源：力扣（LeetCode）**\n",
    "\n",
    "**链接：https://leetcode.cn/problems/check-if-number-has-equal-digit-count-and-digit-value/**\n",
    "\n",
    "## 一、题目\n",
    "\n",
    "给你一个下标从 0 开始长度为 n 的字符串 num ，它只包含数字。\n",
    "\n",
    "如果对于 每个 0 <= i < n 的下标 i ，都满足数位 i 在 num 中出现了 num[i]次，那么请你返回 true ，否则返回 false 。\n",
    "\n",
    "### 提示：\n",
    "\n",
    "- n == num.length\n",
    "- 1 <= n <= 10\n",
    "- num 只包含数字。\n",
    "\n",
    "## 二、示例\n",
    "\n",
    "### 示例 1：\n",
    "\n",
    "输入：num = \"1210\"\n",
    "\n",
    "输出：true\n",
    "\n",
    "解释：\n",
    "\n",
    "- num[0] = '1' 。数字 0 在 num 中出现了一次。\n",
    "- num[1] = '2' 。数字 1 在 num 中出现了两次。\n",
    "- num[2] = '1' 。数字 2 在 num 中出现了一次。\n",
    "- num[3] = '0' 。数字 3 在 num 中出现了零次。\n",
    "\n",
    "\"1210\" 满足题目要求条件，所以返回 true 。\n",
    "\n",
    "### 示例 2：\n",
    "\n",
    "输入：num = \"030\"\n",
    "\n",
    "输出：false\n",
    "\n",
    "解释：\n",
    "\n",
    "- num[0] = '0' 。数字 0 应该出现 0 次，但是在 num 中出现了两次。\n",
    "- num[1] = '3' 。数字 1 应该出现 3 次，但是在 num 中出现了零次。\n",
    "- num[2] = '0' 。数字 2 在 num 中出现了 0 次。\n",
    "\n",
    "下标 0 和 1 都违反了题目要求，所以返回 false 。\n",
    "\n",
    "## 三、解题思路\n",
    "\n",
    "### 一、利用字典"
   ]
  },
  {
   "cell_type": "code",
   "execution_count": 1,
   "id": "02f430af",
   "metadata": {},
   "outputs": [],
   "source": [
    "class Solution:\n",
    "    def digitCount(self, num: str) -> bool:\n",
    "        dic = {}\n",
    "        for i in num:\n",
    "            key = int(i)\n",
    "            dic[key] = dic.get(key, 0) + 1\n",
    "        for i in range(len(num)):\n",
    "            if dic.get(i, 0) != int(num[i]):\n",
    "                return False\n",
    "        return True"
   ]
  },
  {
   "cell_type": "code",
   "execution_count": 2,
   "id": "5f1a52d0",
   "metadata": {},
   "outputs": [
    {
     "data": {
      "text/plain": [
       "True"
      ]
     },
     "execution_count": 2,
     "metadata": {},
     "output_type": "execute_result"
    }
   ],
   "source": [
    "s = Solution()\n",
    "s.digitCount(\"1210\")"
   ]
  },
  {
   "cell_type": "code",
   "execution_count": 3,
   "id": "d7de58e6",
   "metadata": {},
   "outputs": [
    {
     "data": {
      "text/plain": [
       "False"
      ]
     },
     "execution_count": 3,
     "metadata": {},
     "output_type": "execute_result"
    }
   ],
   "source": [
    "s.digitCount(\"030\")"
   ]
  },
  {
   "cell_type": "code",
   "execution_count": null,
   "id": "188a0f19",
   "metadata": {},
   "outputs": [],
   "source": []
  }
 ],
 "metadata": {
  "kernelspec": {
   "display_name": "Python 3 (ipykernel)",
   "language": "python",
   "name": "python3"
  },
  "language_info": {
   "codemirror_mode": {
    "name": "ipython",
    "version": 3
   },
   "file_extension": ".py",
   "mimetype": "text/x-python",
   "name": "python",
   "nbconvert_exporter": "python",
   "pygments_lexer": "ipython3",
   "version": "3.11.0"
  }
 },
 "nbformat": 4,
 "nbformat_minor": 5
}
