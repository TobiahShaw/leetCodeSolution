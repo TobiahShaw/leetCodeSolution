{
 "cells": [
  {
   "cell_type": "markdown",
   "metadata": {},
   "source": [
    "# 矩阵中战斗力最弱的K行\n",
    "\n",
    "**题目来源：力扣（LeetCode）**\n",
    "\n",
    "**链接：https://leetcode-cn.com/problems/the-k-weakest-rows-in-a-matrix/**\n",
    "\n",
    "## 一、题目\n",
    "\n",
    "给你一个大小为 m * n 的矩阵 mat，矩阵由若干军人和平民组成，分别用 1 和 0 表示。\n",
    "\n",
    "请你返回矩阵中战斗力最弱的 k 行的索引，按从最弱到最强排序。\n",
    "\n",
    "如果第 i 行的军人数量少于第 j 行，或者两行军人数量相同但 i 小于 j，那么我们认为第 i 行的战斗力比第 j 行弱。\n",
    "\n",
    "军人 总是 排在一行中的靠前位置，也就是说 1 总是出现在 0 之前。\n",
    "\n",
    "## 二、示例\n",
    "\n",
    "### 示例 1：\n",
    "\n",
    "输入：mat = \n",
    "[[1,1,0,0,0],\n",
    " [1,1,1,1,0],\n",
    " [1,0,0,0,0],\n",
    " [1,1,0,0,0],\n",
    " [1,1,1,1,1]], \n",
    "k = 3\n",
    "\n",
    "输出：[2,0,3]\n",
    "\n",
    "解释：\n",
    "\n",
    "每行中的军人数目：\n",
    "\n",
    "- 行 0 -> 2 \n",
    "- 行 1 -> 4 \n",
    "- 行 2 -> 1 \n",
    "- 行 3 -> 2 \n",
    "- 行 4 -> 5 \n",
    "\n",
    "从最弱到最强对这些行排序后得到 [2,0,3,1,4]\n",
    "\n",
    "### 示例 2：\n",
    "\n",
    "输入：mat = \n",
    "[[1,0,0,0],\n",
    " [1,1,1,1],\n",
    " [1,0,0,0],\n",
    " [1,0,0,0]], \n",
    "k = 2\n",
    "\n",
    "输出：[0,2]\n",
    "\n",
    "解释： \n",
    "\n",
    "每行中的军人数目：\n",
    "\n",
    "- 行 0 -> 1 \n",
    "- 行 1 -> 4 \n",
    "- 行 2 -> 1 \n",
    "- 行 3 -> 1 \n",
    "\n",
    "从最弱到最强对这些行排序后得到 [0,2,3,1]\n",
    "\n",
    "## 三、解题思路\n",
    "\n",
    "### 倒排索引"
   ]
  },
  {
   "cell_type": "code",
   "execution_count": 1,
   "metadata": {},
   "outputs": [],
   "source": [
    "def kWeakestRows(mat, k: int):\n",
    "    dic = {}\n",
    "    for i in range(len(mat)):\n",
    "        sumOfRow = sum(mat[i])\n",
    "        if sumOfRow in dic:\n",
    "            dic[sumOfRow].append(i)\n",
    "        else:\n",
    "            dic[sumOfRow] = [i]\n",
    "    ret = []\n",
    "    for key in sorted(dic.keys()):\n",
    "        ret.extend(dic[key])\n",
    "    return ret[:k]"
   ]
  },
  {
   "cell_type": "code",
   "execution_count": 2,
   "metadata": {},
   "outputs": [
    {
     "data": {
      "text/plain": [
       "[2, 0, 3]"
      ]
     },
     "execution_count": 2,
     "metadata": {},
     "output_type": "execute_result"
    }
   ],
   "source": [
    "kWeakestRows(mat = [[1,1,0,0,0], [1,1,1,1,0], [1,0,0,0,0], [1,1,0,0,0], [1,1,1,1,1]], k = 3)"
   ]
  },
  {
   "cell_type": "code",
   "execution_count": 3,
   "metadata": {},
   "outputs": [
    {
     "data": {
      "text/plain": [
       "[0, 2]"
      ]
     },
     "execution_count": 3,
     "metadata": {},
     "output_type": "execute_result"
    }
   ],
   "source": [
    "kWeakestRows(mat = [[1,0,0,0], [1,1,1,1], [1,0,0,0], [1,0,0,0]], k = 2)"
   ]
  },
  {
   "cell_type": "code",
   "execution_count": null,
   "metadata": {},
   "outputs": [],
   "source": []
  }
 ],
 "metadata": {
  "kernelspec": {
   "display_name": "Python 3",
   "language": "python",
   "name": "python3"
  },
  "language_info": {
   "codemirror_mode": {
    "name": "ipython",
    "version": 3
   },
   "file_extension": ".py",
   "mimetype": "text/x-python",
   "name": "python",
   "nbconvert_exporter": "python",
   "pygments_lexer": "ipython3",
   "version": "3.6.5"
  }
 },
 "nbformat": 4,
 "nbformat_minor": 2
}
