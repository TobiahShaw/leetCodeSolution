{
 "cells": [
  {
   "cell_type": "markdown",
   "metadata": {
    "collapsed": true
   },
   "source": [
    "# 有多少小于当前数字的数字\n",
    "\n",
    "**题目来源：力扣（LeetCode）**\n",
    "\n",
    "**链接：https://leetcode-cn.com/problems/how-many-numbers-are-smaller-than-the-current-number/**\n",
    "\n",
    "## 一、题目\n",
    "\n",
    "给你一个数组 nums，对于其中每个元素 nums[i]，请你统计数组中比它小的所有数字的数目。\n",
    "\n",
    "换而言之，对于每个 nums[i] 你必须计算出有效的 j 的数量，其中 j 满足 j != i 且 nums[j] < nums[i] 。\n",
    "\n",
    "以数组形式返回答案。\n",
    "\n",
    "## 二、示例\n",
    "\n",
    "### 示例 1：\n",
    "\n",
    "输入：nums = [8,1,2,2,3]\n",
    "\n",
    "输出：[4,0,1,1,3]\n",
    "\n",
    "解释： \n",
    "\n",
    "对于 nums[0]=8 存在四个比它小的数字：（1，2，2 和 3）。 \n",
    "\n",
    "对于 nums[1]=1 不存在比它小的数字。\n",
    "\n",
    "对于 nums[2]=2 存在一个比它小的数字：（1）。 \n",
    "\n",
    "对于 nums[3]=2 存在一个比它小的数字：（1）。 \n",
    "\n",
    "对于 nums[4]=3 存在三个比它小的数字：（1，2 和 2）。\n",
    "\n",
    "### 示例 2：\n",
    "\n",
    "输入：nums = [6,5,4,8]\n",
    "\n",
    "输出：[2,1,0,3]\n",
    "\n",
    "### 示例 3：\n",
    "\n",
    "输入：nums = [7,7,7,7]\n",
    "\n",
    "输出：[0,0,0,0]\n",
    "\n",
    "## 三、解题思路\n",
    "\n",
    "### 一、轮询"
   ]
  },
  {
   "cell_type": "code",
   "execution_count": 1,
   "metadata": {},
   "outputs": [],
   "source": [
    "def smallerNumbersThanCurrent(nums):\n",
    "    ret = [0] * len(nums)\n",
    "    for i in range(len(nums)):\n",
    "        ret[i] = sum(1 for j in range(len(nums)) if nums[j] < nums[i])\n",
    "    return ret"
   ]
  },
  {
   "cell_type": "code",
   "execution_count": 2,
   "metadata": {},
   "outputs": [
    {
     "data": {
      "text/plain": [
       "[4, 0, 1, 1, 3]"
      ]
     },
     "execution_count": 2,
     "metadata": {},
     "output_type": "execute_result"
    }
   ],
   "source": [
    "smallerNumbersThanCurrent([8,1,2,2,3])"
   ]
  },
  {
   "cell_type": "code",
   "execution_count": 3,
   "metadata": {},
   "outputs": [
    {
     "data": {
      "text/plain": [
       "[2, 1, 0, 3]"
      ]
     },
     "execution_count": 3,
     "metadata": {},
     "output_type": "execute_result"
    }
   ],
   "source": [
    "smallerNumbersThanCurrent([6,5,4,8])"
   ]
  },
  {
   "cell_type": "code",
   "execution_count": 4,
   "metadata": {},
   "outputs": [
    {
     "data": {
      "text/plain": [
       "[0, 0, 0, 0]"
      ]
     },
     "execution_count": 4,
     "metadata": {},
     "output_type": "execute_result"
    }
   ],
   "source": [
    "smallerNumbersThanCurrent([7,7,7,7])"
   ]
  },
  {
   "cell_type": "markdown",
   "metadata": {},
   "source": [
    "### 二、排序"
   ]
  },
  {
   "cell_type": "code",
   "execution_count": 5,
   "metadata": {},
   "outputs": [],
   "source": [
    "def smallerNumbersThanCurrent(nums):\n",
    "    ret = [0] * len(nums)\n",
    "    tmp = sorted([(nums[i], i) for i in range(len(nums))])\n",
    "    pre = -1\n",
    "    for i in range(len(nums)):\n",
    "        if i != 0 and tmp[i][0] != tmp[i - 1][0]:\n",
    "            pre = i - 1\n",
    "        ret[tmp[i][1]] = pre + 1\n",
    "    return ret"
   ]
  },
  {
   "cell_type": "code",
   "execution_count": 6,
   "metadata": {},
   "outputs": [
    {
     "data": {
      "text/plain": [
       "[4, 0, 1, 1, 3]"
      ]
     },
     "execution_count": 6,
     "metadata": {},
     "output_type": "execute_result"
    }
   ],
   "source": [
    "smallerNumbersThanCurrent([8,1,2,2,3])"
   ]
  },
  {
   "cell_type": "code",
   "execution_count": 7,
   "metadata": {},
   "outputs": [
    {
     "data": {
      "text/plain": [
       "[2, 1, 0, 3]"
      ]
     },
     "execution_count": 7,
     "metadata": {},
     "output_type": "execute_result"
    }
   ],
   "source": [
    "smallerNumbersThanCurrent([6,5,4,8])"
   ]
  },
  {
   "cell_type": "code",
   "execution_count": 8,
   "metadata": {},
   "outputs": [
    {
     "data": {
      "text/plain": [
       "[0, 0, 0, 0]"
      ]
     },
     "execution_count": 8,
     "metadata": {},
     "output_type": "execute_result"
    }
   ],
   "source": [
    "smallerNumbersThanCurrent([7,7,7,7])"
   ]
  },
  {
   "cell_type": "code",
   "execution_count": null,
   "metadata": {},
   "outputs": [],
   "source": []
  }
 ],
 "metadata": {
  "kernelspec": {
   "display_name": "Python 3",
   "language": "python",
   "name": "python3"
  },
  "language_info": {
   "codemirror_mode": {
    "name": "ipython",
    "version": 3
   },
   "file_extension": ".py",
   "mimetype": "text/x-python",
   "name": "python",
   "nbconvert_exporter": "python",
   "pygments_lexer": "ipython3",
   "version": "3.6.5"
  }
 },
 "nbformat": 4,
 "nbformat_minor": 2
}
