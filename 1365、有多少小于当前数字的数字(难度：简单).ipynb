{
  "cells": [
    {
      "metadata": {
        "collapsed": true
      },
      "cell_type": "markdown",
      "source": "# 有多少小于当前数字的数字\n\n**题目来源：力扣（LeetCode）**\n\n**链接：https://leetcode-cn.com/problems/how-many-numbers-are-smaller-than-the-current-number/**\n\n## 一、题目\n\n给你一个数组 nums，对于其中每个元素 nums[i]，请你统计数组中比它小的所有数字的数目。\n\n换而言之，对于每个 nums[i] 你必须计算出有效的 j 的数量，其中 j 满足 j != i 且 nums[j] < nums[i] 。\n\n以数组形式返回答案。\n\n## 二、示例\n\n### 示例 1：\n\n输入：nums = [8,1,2,2,3]\n\n输出：[4,0,1,1,3]\n\n解释： \n\n对于 nums[0]=8 存在四个比它小的数字：（1，2，2 和 3）。 \n\n对于 nums[1]=1 不存在比它小的数字。\n\n对于 nums[2]=2 存在一个比它小的数字：（1）。 \n\n对于 nums[3]=2 存在一个比它小的数字：（1）。 \n\n对于 nums[4]=3 存在三个比它小的数字：（1，2 和 2）。\n\n### 示例 2：\n\n输入：nums = [6,5,4,8]\n\n输出：[2,1,0,3]\n\n### 示例 3：\n\n输入：nums = [7,7,7,7]\n\n输出：[0,0,0,0]\n\n## 三、解题思路\n\n### 轮询"
    },
    {
      "metadata": {
        "trusted": true
      },
      "cell_type": "code",
      "source": "def smallerNumbersThanCurrent(nums):\n    ret = [0] * len(nums)\n    for i in range(len(nums)):\n        ret[i] = sum(1 for j in range(len(nums)) if nums[j] < nums[i])\n    return ret",
      "execution_count": 1,
      "outputs": []
    },
    {
      "metadata": {
        "trusted": true
      },
      "cell_type": "code",
      "source": "smallerNumbersThanCurrent([8,1,2,2,3])",
      "execution_count": 2,
      "outputs": [
        {
          "output_type": "execute_result",
          "execution_count": 2,
          "data": {
            "text/plain": "[4, 0, 1, 1, 3]"
          },
          "metadata": {}
        }
      ]
    },
    {
      "metadata": {
        "trusted": true
      },
      "cell_type": "code",
      "source": "smallerNumbersThanCurrent([6,5,4,8])",
      "execution_count": 3,
      "outputs": [
        {
          "output_type": "execute_result",
          "execution_count": 3,
          "data": {
            "text/plain": "[2, 1, 0, 3]"
          },
          "metadata": {}
        }
      ]
    },
    {
      "metadata": {
        "trusted": true
      },
      "cell_type": "code",
      "source": "smallerNumbersThanCurrent([7,7,7,7])",
      "execution_count": 4,
      "outputs": [
        {
          "output_type": "execute_result",
          "execution_count": 4,
          "data": {
            "text/plain": "[0, 0, 0, 0]"
          },
          "metadata": {}
        }
      ]
    },
    {
      "metadata": {
        "trusted": true
      },
      "cell_type": "code",
      "source": "",
      "execution_count": null,
      "outputs": []
    }
  ],
  "metadata": {
    "kernelspec": {
      "name": "python36",
      "display_name": "Python 3.6",
      "language": "python"
    },
    "language_info": {
      "mimetype": "text/x-python",
      "nbconvert_exporter": "python",
      "name": "python",
      "pygments_lexer": "ipython3",
      "version": "3.6.6",
      "file_extension": ".py",
      "codemirror_mode": {
        "version": 3,
        "name": "ipython"
      }
    }
  },
  "nbformat": 4,
  "nbformat_minor": 2
}