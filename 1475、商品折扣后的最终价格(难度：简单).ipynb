{
 "cells": [
  {
   "cell_type": "markdown",
   "metadata": {},
   "source": [
    "# 商品折扣后的最终价格\n",
    "\n",
    "**题目来源：力扣（LeetCode）**\n",
    "\n",
    "**链接：https://leetcode-cn.com/problems/final-prices-with-a-special-discount-in-a-shop/**\n",
    "\n",
    "## 一、题目\n",
    "\n",
    "给你一个数组 prices ，其中 prices[i] 是商店里第 i 件商品的价格。\n",
    "\n",
    "商店里正在进行促销活动，如果你要买第 i 件商品，那么你可以得到与 prices[j] 相等的折扣，其中 j 是满足 j > i 且 prices[j] <= prices[i] 的 最小下标 ，如果没有满足条件的 j ，你将没有任何折扣。\n",
    "\n",
    "请你返回一个数组，数组中第 i 个元素是折扣后你购买商品 i 最终需要支付的价格。\n",
    "\n",
    "### 提示：\n",
    "\n",
    "- 1 <= prices.length <= 500\n",
    "- 1 <= prices[i] <= 10^3\n",
    "\n",
    "## 二、示例\n",
    "\n",
    "### 示例 1：\n",
    "\n",
    "输入：prices = [8,4,6,2,3]\n",
    "\n",
    "输出：[4,2,4,2,3]\n",
    "\n",
    "解释：\n",
    "\n",
    "商品 0 的价格为 price[0]=8 ，你将得到 prices[1]=4 的折扣，所以最终价格为 8 - 4 = 4 。\n",
    "\n",
    "商品 1 的价格为 price[1]=4 ，你将得到 prices[3]=2 的折扣，所以最终价格为 4 - 2 = 2 。\n",
    "\n",
    "商品 2 的价格为 price[2]=6 ，你将得到 prices[3]=2 的折扣，所以最终价格为 6 - 2 = 4 。\n",
    "\n",
    "商品 3 和 4 都没有折扣。\n",
    "\n",
    "### 示例 2：\n",
    "\n",
    "输入：prices = [1,2,3,4,5]\n",
    "\n",
    "输出：[1,2,3,4,5]\n",
    "\n",
    "解释：在这个例子中，所有商品都没有折扣。\n",
    "\n",
    "### 示例 3：\n",
    "\n",
    "输入：prices = [10,1,1,6]\n",
    "\n",
    "输出：[9,0,1,6]\n",
    "\n",
    "## 三、解题思路\n",
    "\n",
    "### 模拟过程"
   ]
  },
  {
   "cell_type": "code",
   "execution_count": 1,
   "metadata": {},
   "outputs": [],
   "source": [
    "def finalPrices(prices):\n",
    "    n = len(prices)\n",
    "    for i in range(n):\n",
    "        for j in range(i+1, n):\n",
    "            if prices[j] <= prices[i]:\n",
    "                prices[i] -= prices[j]\n",
    "                break\n",
    "    return prices"
   ]
  },
  {
   "cell_type": "code",
   "execution_count": 2,
   "metadata": {},
   "outputs": [
    {
     "data": {
      "text/plain": [
       "[4, 2, 4, 2, 3]"
      ]
     },
     "execution_count": 2,
     "metadata": {},
     "output_type": "execute_result"
    }
   ],
   "source": [
    "finalPrices([8,4,6,2,3])"
   ]
  },
  {
   "cell_type": "code",
   "execution_count": 3,
   "metadata": {},
   "outputs": [
    {
     "data": {
      "text/plain": [
       "[1, 2, 3, 4, 5]"
      ]
     },
     "execution_count": 3,
     "metadata": {},
     "output_type": "execute_result"
    }
   ],
   "source": [
    "finalPrices([1,2,3,4,5])"
   ]
  },
  {
   "cell_type": "code",
   "execution_count": 4,
   "metadata": {},
   "outputs": [
    {
     "data": {
      "text/plain": [
       "[9, 0, 1, 6]"
      ]
     },
     "execution_count": 4,
     "metadata": {},
     "output_type": "execute_result"
    }
   ],
   "source": [
    "finalPrices([10,1,1,6])"
   ]
  },
  {
   "cell_type": "code",
   "execution_count": null,
   "metadata": {},
   "outputs": [],
   "source": []
  }
 ],
 "metadata": {
  "kernelspec": {
   "display_name": "Python 3",
   "language": "python",
   "name": "python3"
  },
  "language_info": {
   "codemirror_mode": {
    "name": "ipython",
    "version": 3
   },
   "file_extension": ".py",
   "mimetype": "text/x-python",
   "name": "python",
   "nbconvert_exporter": "python",
   "pygments_lexer": "ipython3",
   "version": "3.6.5"
  }
 },
 "nbformat": 4,
 "nbformat_minor": 2
}
