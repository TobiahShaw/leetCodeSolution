{
 "cells": [
  {
   "cell_type": "markdown",
   "metadata": {},
   "source": [
    "# 区间子数组个数\n",
    "\n",
    "**题目来源：力扣（LeetCode）**\n",
    "\n",
    "**链接：https://leetcode.cn/problems/number-of-subarrays-with-bounded-maximum/**\n",
    "\n",
    "## 一、题目\n",
    "\n",
    "给你一个整数数组 nums 和两个整数：left 及 right 。找出 nums 中连续、非空且其中最大元素在范围 [left, right] 内的子数组，并返回满足条件的子数组的个数。\n",
    "\n",
    "生成的测试用例保证结果符合 32-bit 整数范围。\n",
    "\n",
    "### 提示：\n",
    "\n",
    "- 1 <= nums.length <= 10^5\n",
    "- 0 <= nums[i] <= 10^9\n",
    "- 0 <= left <= right <= 10^9\n",
    "\n",
    "## 二、示例\n",
    "\n",
    "### 示例 1：\n",
    "\n",
    "输入：nums = [2,1,4,3], left = 2, right = 3\n",
    "\n",
    "输出：3\n",
    "\n",
    "解释：满足条件的三个子数组：[2], [2, 1], [3]\n",
    "\n",
    "### 示例 2：\n",
    "\n",
    "输入：nums = [2,9,2,5,6], left = 2, right = 8\n",
    "\n",
    "输出：7\n",
    "\n",
    "## 三、解题思路\n",
    "\n",
    "### 计数"
   ]
  },
  {
   "cell_type": "code",
   "execution_count": 1,
   "metadata": {},
   "outputs": [],
   "source": [
    "class Solution:\n",
    "    def numSubarrayBoundedMax(self, nums, left: int, right: int) -> int:\n",
    "        def count(lower: int) -> int:\n",
    "            res = cur = 0\n",
    "            for x in nums:\n",
    "                if x <= lower:\n",
    "                    cur += 1\n",
    "                else:\n",
    "                    cur = 0\n",
    "                res += cur\n",
    "            return res\n",
    "        return count(right) - count(left - 1)"
   ]
  },
  {
   "cell_type": "code",
   "execution_count": 2,
   "metadata": {},
   "outputs": [],
   "source": [
    "s = Solution()"
   ]
  },
  {
   "cell_type": "code",
   "execution_count": 3,
   "metadata": {},
   "outputs": [
    {
     "data": {
      "text/plain": [
       "3"
      ]
     },
     "execution_count": 3,
     "metadata": {},
     "output_type": "execute_result"
    }
   ],
   "source": [
    "s.numSubarrayBoundedMax(nums = [2,1,4,3], left = 2, right = 3)"
   ]
  },
  {
   "cell_type": "code",
   "execution_count": 4,
   "metadata": {},
   "outputs": [
    {
     "data": {
      "text/plain": [
       "7"
      ]
     },
     "execution_count": 4,
     "metadata": {},
     "output_type": "execute_result"
    }
   ],
   "source": [
    "s.numSubarrayBoundedMax(nums = [2,9,2,5,6], left = 2, right = 8)"
   ]
  },
  {
   "cell_type": "code",
   "execution_count": null,
   "metadata": {},
   "outputs": [],
   "source": []
  }
 ],
 "metadata": {
  "kernelspec": {
   "display_name": "Python 3 (ipykernel)",
   "language": "python",
   "name": "python3"
  },
  "language_info": {
   "codemirror_mode": {
    "name": "ipython",
    "version": 3
   },
   "file_extension": ".py",
   "mimetype": "text/x-python",
   "name": "python",
   "nbconvert_exporter": "python",
   "pygments_lexer": "ipython3",
   "version": "3.9.10+"
  }
 },
 "nbformat": 4,
 "nbformat_minor": 2
}
