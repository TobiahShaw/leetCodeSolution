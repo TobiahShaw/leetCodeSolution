{
 "cells": [
  {
   "cell_type": "markdown",
   "metadata": {
    "collapsed": true
   },
   "source": [
    "# 奇数值单元格的数目\n",
    "\n",
    "**题目来源：力扣（LeetCode）**\n",
    "\n",
    "**链接：https://leetcode-cn.com/problems/cells-with-odd-values-in-a-matrix/**\n",
    "\n",
    "## 一、题目\n",
    "\n",
    "给你一个 m x n 的矩阵，最开始的时候，每个单元格中的值都是 0。\n",
    "\n",
    "另有一个二维索引数组 indices，indices[i] = [ri, ci] 指向矩阵中的某个位置，其中 ri 和 ci 分别表示指定的行和列（从 0 开始编号）。\n",
    "\n",
    "对 indices[i] 所指向的每个位置，应同时执行下述增量操作：\n",
    "\n",
    "- ri 行上的所有单元格，加 1 。\n",
    "- ci 列上的所有单元格，加 1 。\n",
    "\n",
    "给你 m、n 和 indices 。请你在执行完所有 indices 指定的增量操作后，返回矩阵中 奇数值单元格 的数目。\n",
    "\n",
    "### 提示：\n",
    "\n",
    "- 1 <= m, n <= 50\n",
    "- 1 <= indices.length <= 100\n",
    "- 0 <= ri < m\n",
    "- 0 <= ci < n\n",
    "\n",
    "### 进阶：\n",
    "\n",
    "你可以设计一个时间复杂度为 O(n + m + indices.length) 且仅用 O(n + m) 额外空间的算法来解决此问题吗？\n",
    "\n",
    "## 二、示例\n",
    "\n",
    "### 示例一\n",
    "\n",
    "输入：n = 2, m = 3, indices = [[0,1],[1,1]]\n",
    "\n",
    "输出：6\n",
    "\n",
    "解释：最开始的矩阵是 [[0,0,0],[0,0,0]]。\n",
    "\n",
    "第一次增量操作后得到 [[1,2,1],[0,1,0]]。\n",
    "\n",
    "最后的矩阵是 [[1,3,1],[1,3,1]]，里面有 6 个奇数。\n",
    "\n",
    "### 示例二\n",
    "\n",
    "输入：n = 2, m = 2, indices = [[1,1],[0,0]]\n",
    "\n",
    "输出：0\n",
    "\n",
    "解释：最后的矩阵是 [[2,2],[2,2]]，里面没有奇数。\n",
    "\n",
    "## 三、解题思路\n",
    "\n",
    "### 一、模拟"
   ]
  },
  {
   "cell_type": "code",
   "execution_count": 1,
   "metadata": {},
   "outputs": [],
   "source": [
    "def oddCells(n, m, indices):\n",
    "    matrix = [[0] * m for _ in range(n)]\n",
    "    for x, y in indices:\n",
    "        for i in range(n):\n",
    "            matrix[i][y] += 1\n",
    "        for j in range(m):\n",
    "            matrix[x][j] += 1\n",
    "    return sum([1 if i % 2 == 1 else 0 for row in matrix for i in row])"
   ]
  },
  {
   "cell_type": "code",
   "execution_count": 2,
   "metadata": {},
   "outputs": [
    {
     "data": {
      "text/plain": [
       "6"
      ]
     },
     "execution_count": 2,
     "metadata": {},
     "output_type": "execute_result"
    }
   ],
   "source": [
    "oddCells(n = 2, m = 3, indices = [[0,1],[1,1]])"
   ]
  },
  {
   "cell_type": "code",
   "execution_count": 3,
   "metadata": {},
   "outputs": [
    {
     "data": {
      "text/plain": [
       "0"
      ]
     },
     "execution_count": 3,
     "metadata": {},
     "output_type": "execute_result"
    }
   ],
   "source": [
    "oddCells(n = 2, m = 2, indices = [[1,1],[0,0]])"
   ]
  },
  {
   "cell_type": "markdown",
   "metadata": {},
   "source": [
    "### 二、模拟 + 空间优化\n",
    "\n",
    "记录每行每列出现的次数"
   ]
  },
  {
   "cell_type": "code",
   "execution_count": 4,
   "metadata": {},
   "outputs": [],
   "source": [
    "def oddCells(n, m, indices):\n",
    "    rows = [0] * n\n",
    "    cols = [0] * m\n",
    "    for x, y in indices:\n",
    "        rows[x] += 1\n",
    "        cols[y] += 1\n",
    "    return sum([(rows[x] + cols[y]) % 2 for x in range(n) for y in range(m)])"
   ]
  },
  {
   "cell_type": "code",
   "execution_count": 5,
   "metadata": {},
   "outputs": [
    {
     "data": {
      "text/plain": [
       "6"
      ]
     },
     "execution_count": 5,
     "metadata": {},
     "output_type": "execute_result"
    }
   ],
   "source": [
    "oddCells(n = 2, m = 3, indices = [[0,1],[1,1]])"
   ]
  },
  {
   "cell_type": "code",
   "execution_count": 6,
   "metadata": {},
   "outputs": [
    {
     "data": {
      "text/plain": [
       "0"
      ]
     },
     "execution_count": 6,
     "metadata": {},
     "output_type": "execute_result"
    }
   ],
   "source": [
    "oddCells(n = 2, m = 2, indices = [[1,1],[0,0]])"
   ]
  },
  {
   "cell_type": "markdown",
   "metadata": {},
   "source": [
    "### 三、计数"
   ]
  },
  {
   "cell_type": "code",
   "execution_count": 7,
   "metadata": {},
   "outputs": [],
   "source": [
    "def oddCells(n, m, indices):\n",
    "    rows = [0] * n\n",
    "    cols = [0] * m\n",
    "    for x, y in indices:\n",
    "        rows[x] += 1\n",
    "        cols[y] += 1\n",
    "        \n",
    "    odd_rows = sum(x % 2 == 1 for x in rows)\n",
    "    odd_cols = sum(y % 2 == 1 for y in cols)\n",
    "    return odd_rows * (m - odd_cols) + (n - odd_rows) * odd_cols"
   ]
  },
  {
   "cell_type": "code",
   "execution_count": 8,
   "metadata": {},
   "outputs": [
    {
     "data": {
      "text/plain": [
       "6"
      ]
     },
     "execution_count": 8,
     "metadata": {},
     "output_type": "execute_result"
    }
   ],
   "source": [
    "oddCells(n = 2, m = 3, indices = [[0,1],[1,1]])"
   ]
  },
  {
   "cell_type": "code",
   "execution_count": 9,
   "metadata": {},
   "outputs": [
    {
     "data": {
      "text/plain": [
       "0"
      ]
     },
     "execution_count": 9,
     "metadata": {},
     "output_type": "execute_result"
    }
   ],
   "source": [
    "oddCells(n = 2, m = 2, indices = [[1,1],[0,0]])"
   ]
  },
  {
   "cell_type": "code",
   "execution_count": null,
   "metadata": {},
   "outputs": [],
   "source": []
  }
 ],
 "metadata": {
  "kernelspec": {
   "display_name": "Python 3",
   "language": "python",
   "name": "python3"
  },
  "language_info": {
   "codemirror_mode": {
    "name": "ipython",
    "version": 3
   },
   "file_extension": ".py",
   "mimetype": "text/x-python",
   "name": "python",
   "nbconvert_exporter": "python",
   "pygments_lexer": "ipython3",
   "version": "3.6.5"
  }
 },
 "nbformat": 4,
 "nbformat_minor": 2
}
