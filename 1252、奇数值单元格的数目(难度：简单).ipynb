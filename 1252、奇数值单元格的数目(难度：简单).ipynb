{
  "cells": [
    {
      "metadata": {
        "collapsed": true
      },
      "cell_type": "markdown",
      "source": "# 奇数值单元格的数目\n\n**题目来源：力扣（LeetCode）**\n\n**链接：https://leetcode-cn.com/problems/cells-with-odd-values-in-a-matrix/**\n\n## 一、题目\n\n给你一个 n 行 m 列的矩阵，最开始的时候，每个单元格中的值都是 0。\n\n另有一个索引数组 indices，indices[i] = [ri, ci] 中的 ri 和 ci 分别表示指定的行和列（从 0 开始编号）。\n\n你需要将每对 [ri, ci] 指定的行和列上的所有单元格的值加 1。\n\n请你在执行完所有 indices 指定的增量操作后，返回矩阵中 「奇数值单元格」 的数目。\n\n## 二、示例\n\n### 示例一\n\n输入：n = 2, m = 3, indices = [[0,1],[1,1]]\n\n输出：6\n\n解释：最开始的矩阵是 [[0,0,0],[0,0,0]]。\n\n第一次增量操作后得到 [[1,2,1],[0,1,0]]。\n\n最后的矩阵是 [[1,3,1],[1,3,1]]，里面有 6 个奇数。\n\n### 示例二\n\n输入：n = 2, m = 2, indices = [[1,1],[0,0]]\n\n输出：0\n\n解释：最后的矩阵是 [[2,2],[2,2]]，里面没有奇数。\n\n## 三、解题思路\n\n### 模拟"
    },
    {
      "metadata": {
        "trusted": true
      },
      "cell_type": "code",
      "source": "def oddCells(n, m, indices):\n    matrix = [[0] * m for _ in range(n)]\n    for x, y in indices:\n        for i in range(n):\n            matrix[i][y] += 1\n        for j in range(m):\n            matrix[x][j] += 1\n    return sum([1 if i % 2 == 1 else 0 for row in matrix for i in row])",
      "execution_count": 1,
      "outputs": []
    },
    {
      "metadata": {
        "trusted": true
      },
      "cell_type": "code",
      "source": "oddCells(n = 2, m = 3, indices = [[0,1],[1,1]])",
      "execution_count": 2,
      "outputs": [
        {
          "output_type": "execute_result",
          "execution_count": 2,
          "data": {
            "text/plain": "6"
          },
          "metadata": {}
        }
      ]
    },
    {
      "metadata": {
        "trusted": true
      },
      "cell_type": "code",
      "source": "oddCells(n = 2, m = 2, indices = [[1,1],[0,0]])",
      "execution_count": 3,
      "outputs": [
        {
          "output_type": "execute_result",
          "execution_count": 3,
          "data": {
            "text/plain": "0"
          },
          "metadata": {}
        }
      ]
    },
    {
      "metadata": {
        "trusted": true
      },
      "cell_type": "code",
      "source": "",
      "execution_count": null,
      "outputs": []
    }
  ],
  "metadata": {
    "kernelspec": {
      "name": "python36",
      "display_name": "Python 3.6",
      "language": "python"
    },
    "language_info": {
      "mimetype": "text/x-python",
      "nbconvert_exporter": "python",
      "name": "python",
      "pygments_lexer": "ipython3",
      "version": "3.6.6",
      "file_extension": ".py",
      "codemirror_mode": {
        "version": 3,
        "name": "ipython"
      }
    }
  },
  "nbformat": 4,
  "nbformat_minor": 2
}