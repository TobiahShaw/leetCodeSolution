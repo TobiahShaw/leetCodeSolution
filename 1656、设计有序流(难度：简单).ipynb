{
 "cells": [
  {
   "cell_type": "markdown",
   "metadata": {},
   "source": [
    "# 设计有序流\n",
    "\n",
    "**题目来源：力扣（LeetCode）**\n",
    "\n",
    "**链接：https://leetcode.cn/problems/design-an-ordered-stream/**\n",
    "\n",
    "## 一、题目\n",
    "\n",
    "有 n 个 (id, value) 对，其中 id 是 1 到 n 之间的一个整数，value 是一个字符串。不存在 id 相同的两个 (id, value) 对。\n",
    "\n",
    "设计一个流，以 任意 顺序获取 n 个 (id, value) 对，并在多次调用时 按 id 递增的顺序 返回一些值。\n",
    "\n",
    "实现 OrderedStream 类：\n",
    "\n",
    "- OrderedStream(int n) 构造一个能接收 n 个值的流，并将当前指针 ptr 设为 1 。\n",
    "- String[] insert(int id, String value) 向流中存储新的 (id, value) 对。存储后：\n",
    "  - 如果流存储有 id = ptr 的 (id, value) 对，则找出从 id = ptr 开始的 最长 id 连续递增序列 ，并 按顺序 返回与这些 id 关联的值的列表。然后，将 ptr 更新为最后那个  id + 1 。\n",
    "  - 否则，返回一个空列表。\n",
    "\n",
    "### 提示：\n",
    "\n",
    "- 1 <= n <= 1000\n",
    "- 1 <= id <= n\n",
    "- value.length == 5\n",
    "- value 仅由小写字母组成\n",
    "- 每次调用 insert 都会使用一个唯一的 id\n",
    "- 恰好调用 n 次 insert\n",
    "\n",
    "## 二、示例\n",
    "\n",
    "输入\n",
    "\n",
    "[\"OrderedStream\", \"insert\", \"insert\", \"insert\", \"insert\", \"insert\"]\n",
    "\n",
    "[[5], [3, \"ccccc\"], [1, \"aaaaa\"], [2, \"bbbbb\"], [5, \"eeeee\"], [4, \"ddddd\"]]\n",
    "\n",
    "输出\n",
    "\n",
    "[null, [], [\"aaaaa\"], [\"bbbbb\", \"ccccc\"], [], [\"ddddd\", \"eeeee\"]]\n",
    "\n",
    "解释\n",
    "\n",
    "```\n",
    "os= OrderedStream(5)\n",
    "os.insert(3, \"ccccc\") # 插入 (3, \"ccccc\")，返回 []\n",
    "os.insert(1, \"aaaaa\") # 插入 (1, \"aaaaa\")，返回 [\"aaaaa\"]\n",
    "os.insert(2, \"bbbbb\") # 插入 (2, \"bbbbb\")，返回 [\"bbbbb\", \"ccccc\"]\n",
    "os.insert(5, \"eeeee\") # 插入 (5, \"eeeee\")，返回 []\n",
    "os.insert(4, \"ddddd\") # 插入 (4, \"ddddd\")，返回 [\"ddddd\", \"eeeee\"]\n",
    "```\n",
    "\n",
    "## 三、解题思路\n",
    "\n",
    "### 模拟过程"
   ]
  },
  {
   "cell_type": "code",
   "execution_count": 1,
   "metadata": {},
   "outputs": [],
   "source": [
    "class OrderedStream:\n",
    "\n",
    "    def __init__(self, n: int):\n",
    "        self.data = [None] * n\n",
    "        self.ptr = 0\n",
    "\n",
    "    def insert(self, idKey: int, value: str):\n",
    "        index = idKey - 1\n",
    "        self.data[index] = value\n",
    "        ret = []\n",
    "        while self.ptr < len(self.data) and self.data[self.ptr]:\n",
    "            ret.append(self.data[self.ptr])\n",
    "            self.ptr += 1\n",
    "        return ret"
   ]
  },
  {
   "cell_type": "code",
   "execution_count": 2,
   "metadata": {},
   "outputs": [
    {
     "name": "stdout",
     "output_type": "stream",
     "text": [
      "[]\n",
      "['aaaaa']\n",
      "['bbbbb', 'ccccc']\n",
      "[]\n",
      "['ddddd', 'eeeee']\n"
     ]
    }
   ],
   "source": [
    "os= OrderedStream(5)\n",
    "print(os.insert(3, \"ccccc\")) # 插入 (3, \"ccccc\")，返回 []\n",
    "print(os.insert(1, \"aaaaa\")) # 插入 (1, \"aaaaa\")，返回 [\"aaaaa\"]\n",
    "print(os.insert(2, \"bbbbb\")) # 插入 (2, \"bbbbb\")，返回 [\"bbbbb\", \"ccccc\"]\n",
    "print(os.insert(5, \"eeeee\")) # 插入 (5, \"eeeee\")，返回 []\n",
    "print(os.insert(4, \"ddddd\")) # 插入 (4, \"ddddd\")，返回 [\"ddddd\", \"eeeee\"]"
   ]
  },
  {
   "cell_type": "code",
   "execution_count": null,
   "metadata": {},
   "outputs": [],
   "source": []
  }
 ],
 "metadata": {
  "kernelspec": {
   "display_name": "Python 3.10.4 64-bit",
   "language": "python",
   "name": "python3"
  },
  "language_info": {
   "codemirror_mode": {
    "name": "ipython",
    "version": 3
   },
   "file_extension": ".py",
   "mimetype": "text/x-python",
   "name": "python",
   "nbconvert_exporter": "python",
   "pygments_lexer": "ipython3",
   "version": "3.10.4"
  },
  "orig_nbformat": 4,
  "vscode": {
   "interpreter": {
    "hash": "4f946df053fbf2b937619d3c5458e7af74262f9a954d8797ba0b27400bcafe06"
   }
  }
 },
 "nbformat": 4,
 "nbformat_minor": 2
}
