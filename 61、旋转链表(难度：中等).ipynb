{
  "cells": [
    {
      "metadata": {
        "collapsed": true
      },
      "cell_type": "markdown",
      "source": "# 旋转链表\n\n**题目来源：力扣（LeetCode）**\n\n**链接：https://leetcode-cn.com/problems/rotate-list/**\n\n## 一、题目\n\n给定一个链表，旋转链表，将链表每个节点向右移动 k 个位置，其中 k 是非负数。\n\n## 二、示例\n\n### 示例 1:\n\n输入: 1->2->3->4->5->NULL, k = 2\n\n输出: 4->5->1->2->3->NULL\n\n解释:\n\n向右旋转 1 步: 5->1->2->3->4->NULL\n\n向右旋转 2 步: 4->5->1->2->3->NULL\n\n### 示例 2:\n\n输入: 0->1->2->NULL, k = 4\n\n输出: 2->0->1->NULL\n\n解释:\n\n向右旋转 1 步: 2->0->1->NULL\n\n向右旋转 2 步: 1->2->0->NULL\n\n向右旋转 3 步: 0->1->2->NULL\n\n向右旋转 4 步: 2->0->1->NULL\n\n## 三、解题思路\n\n### 接环\n\n- 先将链表闭合成环\n\n- 找到相应的位置断开这个环，确定新的链表头和链表尾"
    },
    {
      "metadata": {
        "trusted": true
      },
      "cell_type": "code",
      "source": "class ListNode:\n    def __init__(self, x):\n        self.val = x\n        self.next = None",
      "execution_count": 1,
      "outputs": []
    },
    {
      "metadata": {
        "trusted": true
      },
      "cell_type": "code",
      "source": "head = ListNode(1)\nhead.next = ListNode(2)\nhead.next.next = ListNode(3)\nhead.next.next.next = ListNode(4)\nhead.next.next.next.next = ListNode(5)",
      "execution_count": 2,
      "outputs": []
    },
    {
      "metadata": {
        "trusted": true
      },
      "cell_type": "code",
      "source": "head2 = ListNode(0)\nhead2.next = ListNode(1)\nhead2.next.next = ListNode(2)",
      "execution_count": 3,
      "outputs": []
    },
    {
      "metadata": {
        "trusted": true
      },
      "cell_type": "code",
      "source": "def rotateRight(head, k):\n    if not head:\n        return None\n    if not head.next:\n        return head\n    old_tail = head\n    n = 1\n    while old_tail.next:\n        old_tail = old_tail.next\n        n += 1\n    old_tail.next = head\n\n    new_tail = head\n    for i in range(n - k % n - 1):\n        new_tail = new_tail.next\n    new_head = new_tail.next\n\n    new_tail.next = None\n    return new_head",
      "execution_count": 4,
      "outputs": []
    },
    {
      "metadata": {
        "trusted": true
      },
      "cell_type": "code",
      "source": "new_head = rotateRight(head, 2)\nwhile new_head is not None:\n    print(new_head.val, end=' ')\n    new_head = new_head.next",
      "execution_count": 5,
      "outputs": [
        {
          "output_type": "stream",
          "text": "4 5 1 2 3 ",
          "name": "stdout"
        }
      ]
    },
    {
      "metadata": {
        "trusted": true
      },
      "cell_type": "code",
      "source": "new_head2 = rotateRight(head2, 4)\nwhile new_head2 is not None:\n    print(new_head2.val, end=' ')\n    new_head2 = new_head2.next",
      "execution_count": 6,
      "outputs": [
        {
          "output_type": "stream",
          "text": "2 0 1 ",
          "name": "stdout"
        }
      ]
    },
    {
      "metadata": {
        "trusted": true
      },
      "cell_type": "code",
      "source": "",
      "execution_count": null,
      "outputs": []
    }
  ],
  "metadata": {
    "kernelspec": {
      "name": "python36",
      "display_name": "Python 3.6",
      "language": "python"
    },
    "language_info": {
      "mimetype": "text/x-python",
      "nbconvert_exporter": "python",
      "name": "python",
      "pygments_lexer": "ipython3",
      "version": "3.6.6",
      "file_extension": ".py",
      "codemirror_mode": {
        "version": 3,
        "name": "ipython"
      }
    }
  },
  "nbformat": 4,
  "nbformat_minor": 2
}