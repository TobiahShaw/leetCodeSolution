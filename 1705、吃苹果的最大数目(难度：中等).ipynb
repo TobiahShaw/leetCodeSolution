{
 "cells": [
  {
   "cell_type": "markdown",
   "metadata": {},
   "source": [
    "# 吃苹果的最大数目\n",
    "\n",
    "**题目来源：力扣（LeetCode）**\n",
    "\n",
    "**链接：https://leetcode-cn.com/problems/maximum-number-of-eaten-apples/**\n",
    "\n",
    "## 一、题目\n",
    "\n",
    "有一棵特殊的苹果树，一连 n 天，每天都可以长出若干个苹果。在第 i 天，树上会长出 apples[i] 个苹果，这些苹果将会在 days[i] 天后（也就是说，第 i + days[i] 天时）腐烂，变得无法食用。也可能有那么几天，树上不会长出新的苹果，此时用 apples[i] == 0 且 days[i] == 0 表示。\n",
    "\n",
    "你打算每天 最多 吃一个苹果来保证营养均衡。注意，你可以在这 n 天之后继续吃苹果。\n",
    "\n",
    "给你两个长度为 n 的整数数组 days 和 apples ，返回你可以吃掉的苹果的最大数目。\n",
    "\n",
    "### 提示：\n",
    "\n",
    "- apples.length == n\n",
    "- days.length == n\n",
    "- 1 <= n <= 2 * 10^4\n",
    "- 0 <= apples[i], days[i] <= 2 * 10^4\n",
    "- 只有在 apples[i] = 0 时，days[i] = 0 才成立\n",
    "\n",
    "## 二、示例\n",
    "\n",
    "### 示例 1：\n",
    "\n",
    "输入：apples = [1,2,3,5,2], days = [3,2,1,4,2]\n",
    "\n",
    "输出：7\n",
    "\n",
    "解释：你可以吃掉 7 个苹果：\n",
    "\n",
    "- 第一天，你吃掉第一天长出来的苹果。\n",
    "- 第二天，你吃掉一个第二天长出来的苹果。\n",
    "- 第三天，你吃掉一个第二天长出来的苹果。过了这一天，第三天长出来的苹果就已经腐烂了。\n",
    "- 第四天到第七天，你吃的都是第四天长出来的苹果。\n",
    "\n",
    "### 示例 2：\n",
    "\n",
    "输入：apples = [3,0,0,0,0,2], days = [3,0,0,0,0,2]\n",
    "\n",
    "输出：5\n",
    "\n",
    "解释：你可以吃掉 5 个苹果：\n",
    "\n",
    "- 第一天到第三天，你吃的都是第一天长出来的苹果。\n",
    "- 第四天和第五天不吃苹果。\n",
    "- 第六天和第七天，你吃的都是第六天长出来的苹果。\n",
    "\n",
    "## 三、解题思路\n",
    "\n",
    "### 贪心+堆"
   ]
  },
  {
   "cell_type": "code",
   "execution_count": 1,
   "metadata": {},
   "outputs": [],
   "source": [
    "def eatenApples(apples, days) -> int:\n",
    "    from heapq import heappop,heappush\n",
    "    ans = 0\n",
    "    pq = []\n",
    "    i = 0\n",
    "    while i < len(apples):\n",
    "        while pq and pq[0][0] <= i:\n",
    "            heappop(pq)\n",
    "        if apples[i]:\n",
    "            heappush(pq, [i + days[i], apples[i]])\n",
    "        if pq:\n",
    "            pq[0][1] -= 1\n",
    "            if pq[0][1] == 0:\n",
    "                heappop(pq)\n",
    "            ans += 1\n",
    "        i += 1\n",
    "    while pq:\n",
    "        while pq and pq[0][0] <= i:\n",
    "            heappop(pq)\n",
    "        if len(pq) == 0:\n",
    "            break\n",
    "        p = heappop(pq)\n",
    "        num = min(p[0] - i, p[1])\n",
    "        ans += num\n",
    "        i += num\n",
    "    return ans"
   ]
  },
  {
   "cell_type": "code",
   "execution_count": 2,
   "metadata": {},
   "outputs": [
    {
     "data": {
      "text/plain": [
       "7"
      ]
     },
     "execution_count": 2,
     "metadata": {},
     "output_type": "execute_result"
    }
   ],
   "source": [
    "eatenApples(apples = [1,2,3,5,2], days = [3,2,1,4,2])"
   ]
  },
  {
   "cell_type": "code",
   "execution_count": 3,
   "metadata": {},
   "outputs": [
    {
     "data": {
      "text/plain": [
       "5"
      ]
     },
     "execution_count": 3,
     "metadata": {},
     "output_type": "execute_result"
    }
   ],
   "source": [
    "eatenApples(apples = [3,0,0,0,0,2], days = [3,0,0,0,0,2])"
   ]
  },
  {
   "cell_type": "code",
   "execution_count": null,
   "metadata": {},
   "outputs": [],
   "source": []
  }
 ],
 "metadata": {
  "kernelspec": {
   "display_name": "Python 3",
   "language": "python",
   "name": "python3"
  },
  "language_info": {
   "codemirror_mode": {
    "name": "ipython",
    "version": 3
   },
   "file_extension": ".py",
   "mimetype": "text/x-python",
   "name": "python",
   "nbconvert_exporter": "python",
   "pygments_lexer": "ipython3",
   "version": "3.6.5"
  }
 },
 "nbformat": 4,
 "nbformat_minor": 2
}
