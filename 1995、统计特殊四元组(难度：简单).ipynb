{
 "cells": [
  {
   "cell_type": "markdown",
   "metadata": {},
   "source": [
    "# 统计特殊四元组\n",
    "\n",
    "**题目来源：力扣（LeetCode）**\n",
    "\n",
    "**链接：https://leetcode-cn.com/problems/count-special-quadruplets/**\n",
    "\n",
    "## 一、题目\n",
    "\n",
    "给你一个 下标从 0 开始 的整数数组 nums ，返回满足下述条件的 不同 四元组 (a, b, c, d) 的 数目 ：\n",
    "\n",
    "- nums[a] + nums[b] + nums[c] == nums[d] ，且\n",
    "- a < b < c < d\n",
    "\n",
    "### 提示：\n",
    "\n",
    "- 4 <= nums.length <= 50\n",
    "- 1 <= nums[i] <= 100\n",
    "\n",
    "## 二、示例\n",
    "\n",
    "### 示例 1：\n",
    "\n",
    "输入：nums = [1,2,3,6]\n",
    "\n",
    "输出：1\n",
    "\n",
    "解释：满足要求的唯一一个四元组是 (0, 1, 2, 3) 因为 1 + 2 + 3 == 6 。\n",
    "\n",
    "### 示例 2：\n",
    "\n",
    "输入：nums = [3,3,6,4,5]\n",
    "\n",
    "输出：0\n",
    "\n",
    "解释：[3,3,6,4,5] 中不存在满足要求的四元组。\n",
    "\n",
    "### 示例 3：\n",
    "\n",
    "输入：nums = [1,1,1,3,5]\n",
    "\n",
    "输出：4\n",
    "\n",
    "解释：满足要求的 4 个四元组如下：\n",
    "\n",
    "- (0, 1, 2, 3): 1 + 1 + 1 == 3\n",
    "- (0, 1, 3, 4): 1 + 1 + 3 == 5\n",
    "- (0, 2, 3, 4): 1 + 1 + 3 == 5\n",
    "- (1, 2, 3, 4): 1 + 1 + 3 == 5\n",
    "\n",
    "## 三、解题思路\n",
    "\n",
    "### 暴力法"
   ]
  },
  {
   "cell_type": "code",
   "execution_count": 1,
   "metadata": {},
   "outputs": [],
   "source": [
    "def countQuadruplets(nums) -> int:\n",
    "    n = len(nums)\n",
    "    ret = 0\n",
    "    for i in range(n):\n",
    "        for j in range(i+1, n):\n",
    "            for k in range(j+1, n):\n",
    "                for l in range(k+1, n):\n",
    "                    if nums[i] + nums[j] + nums[k] == nums[l]:\n",
    "                        ret += 1\n",
    "    return ret"
   ]
  },
  {
   "cell_type": "code",
   "execution_count": 2,
   "metadata": {},
   "outputs": [
    {
     "data": {
      "text/plain": [
       "1"
      ]
     },
     "execution_count": 2,
     "metadata": {},
     "output_type": "execute_result"
    }
   ],
   "source": [
    "countQuadruplets([1,2,3,6])"
   ]
  },
  {
   "cell_type": "code",
   "execution_count": 3,
   "metadata": {},
   "outputs": [
    {
     "data": {
      "text/plain": [
       "0"
      ]
     },
     "execution_count": 3,
     "metadata": {},
     "output_type": "execute_result"
    }
   ],
   "source": [
    "countQuadruplets([3,3,6,4,5])"
   ]
  },
  {
   "cell_type": "code",
   "execution_count": 4,
   "metadata": {},
   "outputs": [
    {
     "data": {
      "text/plain": [
       "4"
      ]
     },
     "execution_count": 4,
     "metadata": {},
     "output_type": "execute_result"
    }
   ],
   "source": [
    "countQuadruplets([1,1,1,3,5])"
   ]
  },
  {
   "cell_type": "code",
   "execution_count": null,
   "metadata": {},
   "outputs": [],
   "source": []
  }
 ],
 "metadata": {
  "kernelspec": {
   "display_name": "Python 3",
   "language": "python",
   "name": "python3"
  },
  "language_info": {
   "codemirror_mode": {
    "name": "ipython",
    "version": 3
   },
   "file_extension": ".py",
   "mimetype": "text/x-python",
   "name": "python",
   "nbconvert_exporter": "python",
   "pygments_lexer": "ipython3",
   "version": "3.6.5"
  }
 },
 "nbformat": 4,
 "nbformat_minor": 2
}
