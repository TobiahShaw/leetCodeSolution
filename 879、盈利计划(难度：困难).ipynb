{
 "cells": [
  {
   "cell_type": "markdown",
   "metadata": {},
   "source": [
    "# 盈利计划\n",
    "\n",
    "**题目来源：力扣（LeetCode）**\n",
    "\n",
    "**链接：https://leetcode-cn.com/problems/profitable-schemes/**\n",
    "\n",
    "## 一、题目\n",
    "\n",
    "集团里有 n 名员工，他们可以完成各种各样的工作创造利润。\n",
    "\n",
    "第 i 种工作会产生 profit[i] 的利润，它要求 group[i] 名成员共同参与。如果成员参与了其中一项工作，就不能参与另一项工作。\n",
    "\n",
    "工作的任何至少产生 minProfit 利润的子集称为 盈利计划 。并且工作的成员总数最多为 n 。\n",
    "\n",
    "有多少种计划可以选择？因为答案很大，所以 返回结果模 10^9 + 7 的值。\n",
    "\n",
    "提示：\n",
    "\n",
    "- 1 <= n <= 100\n",
    "- 0 <= minProfit <= 100\n",
    "- 1 <= group.length <= 100\n",
    "- 1 <= group[i] <= 100\n",
    "- profit.length == group.length\n",
    "- 0 <= profit[i] <= 100\n",
    "\n",
    "## 二、示例\n",
    "\n",
    "### 示例 1：\n",
    "\n",
    "输入：n = 5, minProfit = 3, group = [2,2], profit = [2,3]\n",
    "\n",
    "输出：2\n",
    "\n",
    "解释：至少产生 3 的利润，该集团可以完成工作 0 和工作 1 ，或仅完成工作 1 。总的来说，有两种计划。\n",
    "### 示例 2：\n",
    "\n",
    "输入：n = 10, minProfit = 5, group = [2,3,5], profit = [6,7,8]\n",
    "\n",
    "输出：7\n",
    "\n",
    "解释：至少产生 5 的利润，只要完成其中一种工作就行，所以该集团可以完成任何工作。有 7 种可能的计划：(0)，(1)，(2)，(0,1)，(0,2)，(1,2)，以及 (0,1,2) 。\n",
    "\n",
    "## 三、解题思路\n",
    "\n",
    "### 背包\n",
    "\n",
    "普通背包问题可以用二维动态规划解决，本题有两个限制条件，可以使用三维动态规划解决。"
   ]
  },
  {
   "cell_type": "code",
   "execution_count": 1,
   "metadata": {},
   "outputs": [],
   "source": [
    "def profitableSchemes(n: int, minProfit: int, group, profit) -> int:\n",
    "    MOD = 10**9 + 7\n",
    "    \n",
    "    length = len(group)\n",
    "    dp = [[[0] * (minProfit + 1) for _ in range(n + 1)] for _ in range(length + 1)]\n",
    "    dp[0][0][0] = 1\n",
    "    for i in range(1, length + 1):\n",
    "        members, earn = group[i - 1], profit[i - 1]\n",
    "        for j in range(n + 1):\n",
    "            for k in range(minProfit + 1):\n",
    "                if j < members:\n",
    "                    dp[i][j][k] = dp[i - 1][j][k]\n",
    "                else:\n",
    "                    dp[i][j][k] = (dp[i - 1][j][k] + dp[i - 1][j - members][max(0, k - earn)]) % MOD\n",
    "    \n",
    "    total = sum(dp[length][j][minProfit] for j in range(n + 1))\n",
    "    return total % MOD"
   ]
  },
  {
   "cell_type": "code",
   "execution_count": 2,
   "metadata": {},
   "outputs": [
    {
     "data": {
      "text/plain": [
       "2"
      ]
     },
     "execution_count": 2,
     "metadata": {},
     "output_type": "execute_result"
    }
   ],
   "source": [
    "profitableSchemes(n = 5, minProfit = 3, group = [2,2], profit = [2,3])"
   ]
  },
  {
   "cell_type": "code",
   "execution_count": 3,
   "metadata": {},
   "outputs": [
    {
     "data": {
      "text/plain": [
       "7"
      ]
     },
     "execution_count": 3,
     "metadata": {},
     "output_type": "execute_result"
    }
   ],
   "source": [
    "profitableSchemes(n = 10, minProfit = 5, group = [2,3,5], profit = [6,7,8])"
   ]
  },
  {
   "cell_type": "code",
   "execution_count": null,
   "metadata": {},
   "outputs": [],
   "source": []
  }
 ],
 "metadata": {
  "kernelspec": {
   "display_name": "Python 3",
   "language": "python",
   "name": "python3"
  },
  "language_info": {
   "codemirror_mode": {
    "name": "ipython",
    "version": 3
   },
   "file_extension": ".py",
   "mimetype": "text/x-python",
   "name": "python",
   "nbconvert_exporter": "python",
   "pygments_lexer": "ipython3",
   "version": "3.6.5"
  }
 },
 "nbformat": 4,
 "nbformat_minor": 2
}
