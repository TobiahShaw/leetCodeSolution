{
 "cells": [
  {
   "cell_type": "markdown",
   "metadata": {
    "collapsed": true
   },
   "source": [
    "# 数字的补数\n",
    "\n",
    "**题目来源：力扣（LeetCode）**\n",
    "\n",
    "**链接：https://leetcode-cn.com/problems/number-complement/**\n",
    "\n",
    "## 一、题目\n",
    "\n",
    "给定一个正整数，输出它的补数。补数是对该数的二进制表示取反。\n",
    "\n",
    "### 注意:\n",
    "\n",
    "给定的整数保证在 32 位带符号整数的范围内。\n",
    "\n",
    "你可以假定二进制数不包含前导零位。\n",
    "\n",
    "## 二、示例\n",
    "\n",
    "### 示例 1:\n",
    "\n",
    "输入: 5\n",
    "\n",
    "输出: 2\n",
    "\n",
    "解释: 5 的二进制表示为 101（没有前导零位），其补数为 010。所以你需要输出 2 。\n",
    "\n",
    "### 示例 2:\n",
    "\n",
    "输入: 1\n",
    "\n",
    "输出: 0\n",
    "\n",
    "解释: 1 的二进制表示为 1（没有前导零位），其补数为 0。所以你需要输出 0 。\n",
    "\n",
    "## 三、解题思路\n",
    "\n",
    "### 一、模拟过程"
   ]
  },
  {
   "cell_type": "code",
   "execution_count": 1,
   "metadata": {},
   "outputs": [],
   "source": [
    "def findComplement(num):\n",
    "    binary = bin(num)\n",
    "    res = ''\n",
    "    for i in range(2, len(binary)):\n",
    "        res += '0' if binary[i] == '1' else '1'\n",
    "    return int(res, 2)"
   ]
  },
  {
   "cell_type": "code",
   "execution_count": 2,
   "metadata": {},
   "outputs": [
    {
     "data": {
      "text/plain": [
       "2"
      ]
     },
     "execution_count": 2,
     "metadata": {},
     "output_type": "execute_result"
    }
   ],
   "source": [
    "findComplement(5)"
   ]
  },
  {
   "cell_type": "code",
   "execution_count": 3,
   "metadata": {},
   "outputs": [
    {
     "data": {
      "text/plain": [
       "0"
      ]
     },
     "execution_count": 3,
     "metadata": {},
     "output_type": "execute_result"
    }
   ],
   "source": [
    "findComplement(1)"
   ]
  },
  {
   "cell_type": "markdown",
   "metadata": {},
   "source": [
    "### 二、位运算"
   ]
  },
  {
   "cell_type": "code",
   "execution_count": 4,
   "metadata": {},
   "outputs": [],
   "source": [
    "def findComplement(num: int) -> int:\n",
    "    t = num\n",
    "    t |= t >> 1\n",
    "    t |= t >> 2\n",
    "    t |= t >> 4\n",
    "    t |= t >> 8\n",
    "    t |= t >> 16\n",
    "    return ~num & t"
   ]
  },
  {
   "cell_type": "code",
   "execution_count": 5,
   "metadata": {},
   "outputs": [
    {
     "data": {
      "text/plain": [
       "2"
      ]
     },
     "execution_count": 5,
     "metadata": {},
     "output_type": "execute_result"
    }
   ],
   "source": [
    "findComplement(5)"
   ]
  },
  {
   "cell_type": "code",
   "execution_count": 6,
   "metadata": {},
   "outputs": [
    {
     "data": {
      "text/plain": [
       "0"
      ]
     },
     "execution_count": 6,
     "metadata": {},
     "output_type": "execute_result"
    }
   ],
   "source": [
    "findComplement(1)"
   ]
  },
  {
   "cell_type": "code",
   "execution_count": null,
   "metadata": {},
   "outputs": [],
   "source": []
  }
 ],
 "metadata": {
  "kernelspec": {
   "display_name": "Python 3",
   "language": "python",
   "name": "python3"
  },
  "language_info": {
   "codemirror_mode": {
    "name": "ipython",
    "version": 3
   },
   "file_extension": ".py",
   "mimetype": "text/x-python",
   "name": "python",
   "nbconvert_exporter": "python",
   "pygments_lexer": "ipython3",
   "version": "3.6.5"
  }
 },
 "nbformat": 4,
 "nbformat_minor": 2
}
