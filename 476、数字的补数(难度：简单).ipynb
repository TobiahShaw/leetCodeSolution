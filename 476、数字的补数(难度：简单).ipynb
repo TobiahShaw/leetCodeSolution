{
  "cells": [
    {
      "metadata": {
        "collapsed": true
      },
      "cell_type": "markdown",
      "source": "# 数字的补数\n\n**题目来源：力扣（LeetCode）**\n\n**链接：https://leetcode-cn.com/problems/number-complement/**\n\n## 一、题目\n\n给定一个正整数，输出它的补数。补数是对该数的二进制表示取反。\n\n### 注意:\n\n给定的整数保证在 32 位带符号整数的范围内。\n\n你可以假定二进制数不包含前导零位。\n\n## 二、示例\n\n### 示例 1:\n\n输入: 5\n\n输出: 2\n\n解释: 5 的二进制表示为 101（没有前导零位），其补数为 010。所以你需要输出 2 。\n\n### 示例 2:\n\n输入: 1\n\n输出: 0\n\n解释: 1 的二进制表示为 1（没有前导零位），其补数为 0。所以你需要输出 0 。\n\n## 三、解题思路\n\n### 模拟过程"
    },
    {
      "metadata": {
        "trusted": true
      },
      "cell_type": "code",
      "source": "def findComplement(num):\n    binary = bin(num)\n    res = ''\n    for i in range(2, len(binary)):\n        res += '0' if binary[i] == '1' else '1'\n    return int(res, 2)",
      "execution_count": 1,
      "outputs": []
    },
    {
      "metadata": {
        "trusted": true
      },
      "cell_type": "code",
      "source": "findComplement(5)",
      "execution_count": 2,
      "outputs": [
        {
          "output_type": "execute_result",
          "execution_count": 2,
          "data": {
            "text/plain": "2"
          },
          "metadata": {}
        }
      ]
    },
    {
      "metadata": {
        "trusted": true
      },
      "cell_type": "code",
      "source": "findComplement(1)",
      "execution_count": 3,
      "outputs": [
        {
          "output_type": "execute_result",
          "execution_count": 3,
          "data": {
            "text/plain": "0"
          },
          "metadata": {}
        }
      ]
    },
    {
      "metadata": {
        "trusted": true
      },
      "cell_type": "code",
      "source": "",
      "execution_count": null,
      "outputs": []
    }
  ],
  "metadata": {
    "kernelspec": {
      "name": "python36",
      "display_name": "Python 3.6",
      "language": "python"
    },
    "language_info": {
      "mimetype": "text/x-python",
      "nbconvert_exporter": "python",
      "name": "python",
      "pygments_lexer": "ipython3",
      "version": "3.6.6",
      "file_extension": ".py",
      "codemirror_mode": {
        "version": 3,
        "name": "ipython"
      }
    }
  },
  "nbformat": 4,
  "nbformat_minor": 2
}