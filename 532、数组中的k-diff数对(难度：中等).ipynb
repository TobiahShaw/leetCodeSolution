{
 "cells": [
  {
   "cell_type": "markdown",
   "metadata": {},
   "source": [
    "# 数组中的k-diff数对\n",
    "\n",
    "**题目来源：力扣（LeetCode）**\n",
    "\n",
    "**链接：https://leetcode.cn/problems/k-diff-pairs-in-an-array/**\n",
    "\n",
    "## 一、题目\n",
    "\n",
    "给你一个整数数组 nums 和一个整数 k，请你在数组中找出 不同的 k-diff 数对，并返回不同的 k-diff 数对 的数目。\n",
    "\n",
    "k-diff 数对定义为一个整数对 (nums[i], nums[j]) ，并满足下述全部条件：\n",
    "\n",
    "- 0 <= i, j < nums.length\n",
    "- i != j\n",
    "- nums[i] - nums[j] == k\n",
    "\n",
    "注意，|val| 表示 val 的绝对值。\n",
    "\n",
    "### 提示：\n",
    "\n",
    "- 1 <= nums.length <= 10^4\n",
    "- -10^7 <= nums[i] <= 10^7\n",
    "- 0 <= k <= 10^7\n",
    "\n",
    "## 二、示例\n",
    "\n",
    "### 示例 1：\n",
    "\n",
    "输入：nums = [3, 1, 4, 1, 5], k = 2\n",
    "\n",
    "输出：2\n",
    "\n",
    "解释：数组中有两个 2-diff 数对, (1, 3) 和 (3, 5)。尽管数组中有两个 1 ，但我们只应返回不同的数对的数量。\n",
    "\n",
    "### 示例 2：\n",
    "\n",
    "输入：nums = [1, 2, 3, 4, 5], k = 1\n",
    "\n",
    "输出：4\n",
    "\n",
    "解释：数组中有四个 1-diff 数对, (1, 2), (2, 3), (3, 4) 和 (4, 5) 。\n",
    "\n",
    "### 示例 3：\n",
    "\n",
    "输入：nums = [1, 3, 1, 5, 4], k = 0\n",
    "\n",
    "输出：1\n",
    "\n",
    "解释：数组中只有一个 0-diff 数对，(1, 1) 。\n",
    "\n",
    "## 三、解题思路\n",
    "\n",
    "### 利用集合"
   ]
  },
  {
   "cell_type": "code",
   "execution_count": 1,
   "metadata": {},
   "outputs": [],
   "source": [
    "def findPairs(nums, k: int) -> int:\n",
    "    visited, ret = set(), set()\n",
    "    for num in nums:\n",
    "        if num - k in visited:\n",
    "            ret.add(num - k)\n",
    "        if num + k in visited:\n",
    "            ret.add(num)\n",
    "        visited.add(num)\n",
    "    return len(ret) "
   ]
  },
  {
   "cell_type": "code",
   "execution_count": 2,
   "metadata": {},
   "outputs": [
    {
     "data": {
      "text/plain": [
       "2"
      ]
     },
     "execution_count": 2,
     "metadata": {},
     "output_type": "execute_result"
    }
   ],
   "source": [
    "findPairs(nums = [3, 1, 4, 1, 5], k = 2)"
   ]
  },
  {
   "cell_type": "code",
   "execution_count": 3,
   "metadata": {},
   "outputs": [
    {
     "data": {
      "text/plain": [
       "4"
      ]
     },
     "execution_count": 3,
     "metadata": {},
     "output_type": "execute_result"
    }
   ],
   "source": [
    "findPairs(nums = [1, 2, 3, 4, 5], k = 1)"
   ]
  },
  {
   "cell_type": "code",
   "execution_count": 4,
   "metadata": {},
   "outputs": [
    {
     "data": {
      "text/plain": [
       "1"
      ]
     },
     "execution_count": 4,
     "metadata": {},
     "output_type": "execute_result"
    }
   ],
   "source": [
    "findPairs(nums = [1, 3, 1, 5, 4], k = 0)"
   ]
  },
  {
   "cell_type": "code",
   "execution_count": null,
   "metadata": {},
   "outputs": [],
   "source": []
  }
 ],
 "metadata": {
  "kernelspec": {
   "display_name": "Python 3",
   "language": "python",
   "name": "python3"
  },
  "language_info": {
   "codemirror_mode": {
    "name": "ipython",
    "version": 3
   },
   "file_extension": ".py",
   "mimetype": "text/x-python",
   "name": "python",
   "nbconvert_exporter": "python",
   "pygments_lexer": "ipython3",
   "version": "3.6.5"
  }
 },
 "nbformat": 4,
 "nbformat_minor": 2
}
