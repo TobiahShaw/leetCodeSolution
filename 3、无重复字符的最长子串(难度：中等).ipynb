{
  "cells": [
    {
      "metadata": {},
      "cell_type": "markdown",
      "source": "# 无重复字符的最长子串\n\n**题目来源：力扣（LeetCode）**\n\n**链接：https://leetcode-cn.com/problems/longest-substring-without-repeating-characters**\n\n## 一、题目\n\n给定一个字符串，请你找出其中不含有重复字符的 最长子串 的长度。\n\n## 二、示例\n\n### 示例 1:\n\n输入: \"abcabcbb\"\n\n输出: 3 \n\n解释: 因为无重复字符的最长子串是 \"abc\"，所以其长度为 3。\n\n### 示例 2:\n\n输入: \"bbbbb\"\n\n输出: 1\n\n解释: 因为无重复字符的最长子串是 \"b\"，所以其长度为 1。\n\n### 示例 3:\n\n输入: \"pwwkew\"\n\n输出: 3\n\n解释: 因为无重复字符的最长子串是 \"wke\"，所以其长度为 3。请注意，你的答案必须是 子串 的长度，\"pwke\" 是一个子序列，不是子串。\n\n\n## 三、解题思路\n\n### 方法一：暴力法\n\n逐个检查所有的子字符串，看它是否不含有重复的字符。\n\n即先穷举所有字串后，检查每个子串是否有重复字符，然后找出无重复字符子串中长度最长的。\n\n这种方法比较麻烦，我这里就不去实现了。\n\n### 方法二：\n\n简单的做法，从重复字符后一个开始作为新的子串，再去校验，同时计算有重复字符时的长度，去更新最大值，这样只需要遍历一次字符串，也只保存一个字串和一个数字。 也就是时间复杂度O(n)，空间复杂度O(m + 1),其中m时最长子串的长度"
    },
    {
      "metadata": {
        "trusted": false
      },
      "cell_type": "code",
      "source": "def lengthOfLongestSubstring(s: str) -> int:\n    sub = ''\n    max = 0\n    for i in s:\n        if i in sub:\n            max = len(sub) if max < len(sub) else max\n            sub = sub[sub.index(i) + 1:] + i\n        else:\n            sub += i\n    max = len(sub) if max < len(sub) else max\n    return max",
      "execution_count": 1,
      "outputs": []
    },
    {
      "metadata": {
        "trusted": false
      },
      "cell_type": "code",
      "source": "print(lengthOfLongestSubstring(\"abcabcbb\"))",
      "execution_count": 2,
      "outputs": [
        {
          "name": "stdout",
          "output_type": "stream",
          "text": "3\n"
        }
      ]
    },
    {
      "metadata": {
        "trusted": false
      },
      "cell_type": "code",
      "source": "print(lengthOfLongestSubstring(\"bbbbbb\"))",
      "execution_count": 3,
      "outputs": [
        {
          "name": "stdout",
          "output_type": "stream",
          "text": "1\n"
        }
      ]
    },
    {
      "metadata": {
        "trusted": false
      },
      "cell_type": "code",
      "source": "print(lengthOfLongestSubstring(\"pwwkew\"))",
      "execution_count": 4,
      "outputs": [
        {
          "name": "stdout",
          "output_type": "stream",
          "text": "3\n"
        }
      ]
    },
    {
      "metadata": {
        "trusted": false
      },
      "cell_type": "code",
      "source": "print(lengthOfLongestSubstring(\"\"))",
      "execution_count": 5,
      "outputs": [
        {
          "name": "stdout",
          "output_type": "stream",
          "text": "0\n"
        }
      ]
    },
    {
      "metadata": {
        "trusted": false
      },
      "cell_type": "code",
      "source": "print(lengthOfLongestSubstring(\" \"))",
      "execution_count": 6,
      "outputs": [
        {
          "name": "stdout",
          "output_type": "stream",
          "text": "1\n"
        }
      ]
    },
    {
      "metadata": {
        "trusted": false
      },
      "cell_type": "code",
      "source": "",
      "execution_count": null,
      "outputs": []
    }
  ],
  "metadata": {
    "kernelspec": {
      "name": "python3",
      "display_name": "Python 3",
      "language": "python"
    },
    "language_info": {
      "mimetype": "text/x-python",
      "nbconvert_exporter": "python",
      "name": "python",
      "pygments_lexer": "ipython3",
      "version": "3.5.4",
      "file_extension": ".py",
      "codemirror_mode": {
        "version": 3,
        "name": "ipython"
      }
    }
  },
  "nbformat": 4,
  "nbformat_minor": 2
}