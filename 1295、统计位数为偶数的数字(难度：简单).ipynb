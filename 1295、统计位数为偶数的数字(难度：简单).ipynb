{
  "cells": [
    {
      "metadata": {
        "collapsed": true
      },
      "cell_type": "markdown",
      "source": "# 统计位数为偶数的数字\n\n**题目来源：力扣（LeetCode）**\n\n**链接：https://leetcode-cn.com/problems/find-numbers-with-even-number-of-digits/**\n\n## 一、题目\n\n给你一个整数数组 nums，请你返回其中位数为 偶数 的数字的个数。\n\n## 二、示例\n\n### 示例1:\n\n输入：nums = [12,345,2,6,7896]\n\n输出：2\n\n解释：\n\n12 是 2 位数字（位数为偶数） \n\n345 是 3 位数字（位数为奇数） \n\n2 是 1 位数字（位数为奇数） \n\n6 是 1 位数字 位数为奇数） \n\n7896 是 4 位数字（位数为偶数）  \n\n因此只有 12 和 7896 是位数为偶数的数字\n\n### 示例2:\n\n输入：nums = [555,901,482,1771]\n\n输出：1 \n\n解释： \n\n只有 1771 是位数为偶数的数字。\n\n## 三、解题思路"
    },
    {
      "metadata": {
        "trusted": true
      },
      "cell_type": "code",
      "source": "def findNumbers(nums):\n    return sum(1 if len(str(nums[i])) % 2 == 0 else 0 for i in range(len(nums)))",
      "execution_count": 1,
      "outputs": []
    },
    {
      "metadata": {
        "trusted": true
      },
      "cell_type": "code",
      "source": "findNumbers([12,345,2,6,7896])",
      "execution_count": 2,
      "outputs": [
        {
          "output_type": "execute_result",
          "execution_count": 2,
          "data": {
            "text/plain": "2"
          },
          "metadata": {}
        }
      ]
    },
    {
      "metadata": {
        "trusted": true
      },
      "cell_type": "code",
      "source": "findNumbers([555,901,482,1771])",
      "execution_count": 3,
      "outputs": [
        {
          "output_type": "execute_result",
          "execution_count": 3,
          "data": {
            "text/plain": "1"
          },
          "metadata": {}
        }
      ]
    },
    {
      "metadata": {
        "trusted": true
      },
      "cell_type": "code",
      "source": "",
      "execution_count": null,
      "outputs": []
    }
  ],
  "metadata": {
    "kernelspec": {
      "name": "python36",
      "display_name": "Python 3.6",
      "language": "python"
    },
    "language_info": {
      "mimetype": "text/x-python",
      "nbconvert_exporter": "python",
      "name": "python",
      "pygments_lexer": "ipython3",
      "version": "3.6.6",
      "file_extension": ".py",
      "codemirror_mode": {
        "version": 3,
        "name": "ipython"
      }
    }
  },
  "nbformat": 4,
  "nbformat_minor": 2
}