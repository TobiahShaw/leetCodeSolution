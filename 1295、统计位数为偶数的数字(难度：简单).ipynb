{
 "cells": [
  {
   "cell_type": "markdown",
   "metadata": {
    "collapsed": true
   },
   "source": [
    "# 统计位数为偶数的数字\n",
    "\n",
    "**题目来源：力扣（LeetCode）**\n",
    "\n",
    "**链接：https://leetcode-cn.com/problems/find-numbers-with-even-number-of-digits/**\n",
    "\n",
    "## 一、题目\n",
    "\n",
    "给你一个整数数组 nums，请你返回其中位数为 偶数 的数字的个数。\n",
    "\n",
    "### 提示：\n",
    "\n",
    "- 1 <= nums.length <= 500\n",
    "- 1 <= nums[i] <= 10^5\n",
    "\n",
    "## 二、示例\n",
    "\n",
    "### 示例1:\n",
    "\n",
    "输入：nums = [12,345,2,6,7896]\n",
    "\n",
    "输出：2\n",
    "\n",
    "解释：\n",
    "\n",
    "12 是 2 位数字（位数为偶数） \n",
    "\n",
    "345 是 3 位数字（位数为奇数） \n",
    "\n",
    "2 是 1 位数字（位数为奇数） \n",
    "\n",
    "6 是 1 位数字 位数为奇数） \n",
    "\n",
    "7896 是 4 位数字（位数为偶数）  \n",
    "\n",
    "因此只有 12 和 7896 是位数为偶数的数字\n",
    "\n",
    "### 示例2:\n",
    "\n",
    "输入：nums = [555,901,482,1771]\n",
    "\n",
    "输出：1 \n",
    "\n",
    "解释： \n",
    "\n",
    "只有 1771 是位数为偶数的数字。\n",
    "\n",
    "## 三、解题思路"
   ]
  },
  {
   "cell_type": "code",
   "execution_count": 1,
   "metadata": {},
   "outputs": [],
   "source": [
    "def findNumbers(nums):\n",
    "    return sum(1 if len(str(nums[i])) % 2 == 0 else 0 for i in range(len(nums)))"
   ]
  },
  {
   "cell_type": "code",
   "execution_count": 2,
   "metadata": {},
   "outputs": [
    {
     "data": {
      "text/plain": [
       "2"
      ]
     },
     "execution_count": 2,
     "metadata": {},
     "output_type": "execute_result"
    }
   ],
   "source": [
    "findNumbers([12,345,2,6,7896])"
   ]
  },
  {
   "cell_type": "code",
   "execution_count": 3,
   "metadata": {},
   "outputs": [
    {
     "data": {
      "text/plain": [
       "1"
      ]
     },
     "execution_count": 3,
     "metadata": {},
     "output_type": "execute_result"
    }
   ],
   "source": [
    "findNumbers([555,901,482,1771])"
   ]
  },
  {
   "cell_type": "code",
   "execution_count": null,
   "metadata": {},
   "outputs": [],
   "source": []
  }
 ],
 "metadata": {
  "kernelspec": {
   "display_name": "Python 3",
   "language": "python",
   "name": "python3"
  },
  "language_info": {
   "codemirror_mode": {
    "name": "ipython",
    "version": 3
   },
   "file_extension": ".py",
   "mimetype": "text/x-python",
   "name": "python",
   "nbconvert_exporter": "python",
   "pygments_lexer": "ipython3",
   "version": "3.6.5"
  }
 },
 "nbformat": 4,
 "nbformat_minor": 2
}
