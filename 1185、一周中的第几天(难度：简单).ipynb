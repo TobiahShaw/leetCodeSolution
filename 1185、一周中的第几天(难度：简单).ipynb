{
 "cells": [
  {
   "cell_type": "markdown",
   "metadata": {},
   "source": [
    "# 一周中的第几天\n",
    "\n",
    "**题目来源：力扣（LeetCode）**\n",
    "\n",
    "**链接：https://leetcode-cn.com/problems/day-of-the-week/**\n",
    "\n",
    "## 一、题目\n",
    "\n",
    "给你一个日期，请你设计一个算法来判断它是对应一周中的哪一天。\n",
    "\n",
    "输入为三个整数：day、month 和 year，分别表示日、月、年。\n",
    "\n",
    "您返回的结果必须是这几个值中的一个 {\"Sunday\", \"Monday\", \"Tuesday\", \"Wednesday\", \"Thursday\", \"Friday\", \"Saturday\"}。\n",
    "\n",
    "### 提示：\n",
    "\n",
    "- 给出的日期一定是在 1971 到 2100 年之间的有效日期。\n",
    "\n",
    "## 二、示例\n",
    "\n",
    "### 示例 1：\n",
    "\n",
    "输入：day = 31, month = 8, year = 2019\n",
    "\n",
    "输出：\"Saturday\"\n",
    "\n",
    "### 示例 2：\n",
    "\n",
    "输入：day = 18, month = 7, year = 1999\n",
    "\n",
    "输出：\"Sunday\"\n",
    "\n",
    "### 示例 3：\n",
    "\n",
    "输入：day = 15, month = 8, year = 1993\n",
    "\n",
    "输出：\"Sunday\"\n",
    "\n",
    "## 三、解题思路\n",
    "\n",
    "### 取余"
   ]
  },
  {
   "cell_type": "code",
   "execution_count": 1,
   "metadata": {},
   "outputs": [],
   "source": [
    "def dayOfTheWeek(day: int, month: int, year: int) -> str:\n",
    "    week = [\"Monday\", \"Tuesday\", \"Wednesday\", \"Thursday\", \"Friday\", \"Saturday\", \"Sunday\"]\n",
    "    monthDays = [31, 28, 31, 30, 31, 30, 31, 31, 30, 31, 30]\n",
    "    days = 0\n",
    "    # 输入年份之前的年份的天数贡献\n",
    "    days += 365 * (year - 1971) + (year - 1969) // 4\n",
    "    # 输入年份中，输入月份之前的月份的天数贡献\n",
    "    days += sum(monthDays[:month-1])\n",
    "    if (year % 400 == 0 or (year % 4 == 0 and year % 100 != 0)) and month >= 3:\n",
    "        days += 1\n",
    "    # 输入月份中的天数贡献\n",
    "    days += day\n",
    "    return week[(days + 3) % 7]"
   ]
  },
  {
   "cell_type": "code",
   "execution_count": 2,
   "metadata": {},
   "outputs": [
    {
     "data": {
      "text/plain": [
       "'Saturday'"
      ]
     },
     "execution_count": 2,
     "metadata": {},
     "output_type": "execute_result"
    }
   ],
   "source": [
    "dayOfTheWeek(day = 31, month = 8, year = 2019)"
   ]
  },
  {
   "cell_type": "code",
   "execution_count": 3,
   "metadata": {},
   "outputs": [
    {
     "data": {
      "text/plain": [
       "'Sunday'"
      ]
     },
     "execution_count": 3,
     "metadata": {},
     "output_type": "execute_result"
    }
   ],
   "source": [
    "dayOfTheWeek(day = 18, month = 7, year = 1999)"
   ]
  },
  {
   "cell_type": "code",
   "execution_count": 4,
   "metadata": {},
   "outputs": [
    {
     "data": {
      "text/plain": [
       "'Sunday'"
      ]
     },
     "execution_count": 4,
     "metadata": {},
     "output_type": "execute_result"
    }
   ],
   "source": [
    "dayOfTheWeek(day = 15, month = 8, year = 1993)"
   ]
  },
  {
   "cell_type": "code",
   "execution_count": null,
   "metadata": {},
   "outputs": [],
   "source": []
  }
 ],
 "metadata": {
  "kernelspec": {
   "display_name": "Python 3",
   "language": "python",
   "name": "python3"
  },
  "language_info": {
   "codemirror_mode": {
    "name": "ipython",
    "version": 3
   },
   "file_extension": ".py",
   "mimetype": "text/x-python",
   "name": "python",
   "nbconvert_exporter": "python",
   "pygments_lexer": "ipython3",
   "version": "3.6.5"
  }
 },
 "nbformat": 4,
 "nbformat_minor": 2
}
