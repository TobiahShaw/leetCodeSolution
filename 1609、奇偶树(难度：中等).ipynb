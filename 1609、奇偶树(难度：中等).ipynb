{
 "cells": [
  {
   "cell_type": "markdown",
   "metadata": {},
   "source": [
    "# 奇偶树\n",
    "\n",
    "**题目来源：力扣（LeetCode）**\n",
    "\n",
    "**链接：https://leetcode-cn.com/problems/even-odd-tree/**\n",
    "\n",
    "## 一、题目\n",
    "\n",
    "如果一棵二叉树满足下述几个条件，则可以称为 奇偶树 ：\n",
    "\n",
    "- 二叉树根节点所在层下标为 0 ，根的子节点所在层下标为 1 ，根的孙节点所在层下标为 2 ，依此类推。\n",
    "- 偶数下标 层上的所有节点的值都是 奇 整数，从左到右按顺序 严格递增\n",
    "- 奇数下标 层上的所有节点的值都是 偶 整数，从左到右按顺序 严格递减\n",
    "\n",
    "给你二叉树的根节点，如果二叉树为 奇偶树 ，则返回 true ，否则返回 false 。\n",
    "\n",
    "### 提示：\n",
    "\n",
    "- 树中节点数在范围 [1, 10^5] 内\n",
    "- 1 <= Node.val <= 10^6\n",
    "\n",
    "## 二、示例\n",
    "\n",
    "### 示例 1：\n",
    "\n",
    "输入：root = [1,10,4,3,null,7,9,12,8,6,null,null,2]\n",
    "输出：true\n",
    "解释：每一层的节点值分别是：\n",
    "\n",
    "- 0 层：[1]\n",
    "- 1 层：[10,4]\n",
    "- 2 层：[3,7,9]\n",
    "- 3 层：[12,8,6,2]\n",
    "\n",
    "由于 0 层和 2 层上的节点值都是奇数且严格递增，而 1 层和 3 层上的节点值都是偶数且严格递减，因此这是一棵奇偶树。\n",
    "\n",
    "### 示例 2：\n",
    "\n",
    "输入：root = [5,4,2,3,3,7]\n",
    "\n",
    "输出：false\n",
    "\n",
    "解释：每一层的节点值分别是：\n",
    "\n",
    "- 0 层：[5]\n",
    "- 1 层：[4,2]\n",
    "- 2 层：[3,3,7]\n",
    "\n",
    "2 层上的节点值不满足严格递增的条件，所以这不是一棵奇偶树。\n",
    "\n",
    "### 示例 3：\n",
    "\n",
    "输入：root = [5,9,1,3,5,7]\n",
    "\n",
    "输出：false\n",
    "\n",
    "解释：1 层上的节点值应为偶数。\n",
    "\n",
    "### 示例 4：\n",
    "\n",
    "输入：root = [1]\n",
    "\n",
    "输出：true\n",
    "\n",
    "### 示例 5：\n",
    "\n",
    "输入：root = [11,8,6,1,3,9,11,30,20,18,16,12,10,4,2,17]\n",
    "\n",
    "输出：true\n",
    "\n",
    "## 三、解题思路"
   ]
  },
  {
   "cell_type": "code",
   "execution_count": 1,
   "metadata": {},
   "outputs": [],
   "source": [
    "class TreeNode:\n",
    "    def __init__(self, val=0, left=None, right=None):\n",
    "        self.val = val\n",
    "        self.left = left\n",
    "        self.right = right"
   ]
  },
  {
   "cell_type": "code",
   "execution_count": 2,
   "metadata": {},
   "outputs": [],
   "source": [
    "root = TreeNode(1)\n",
    "\n",
    "root.left = TreeNode(10)\n",
    "root.right = TreeNode(4)\n",
    "\n",
    "root.left.left = TreeNode(3)\n",
    "root.right.left = TreeNode(7)\n",
    "root.right.right = TreeNode(9)\n",
    "\n",
    "root.left.left.left = TreeNode(12)\n",
    "root.left.left.right = TreeNode(8)\n",
    "root.right.left.left = TreeNode(6)\n",
    "root.right.right.right = TreeNode(2)"
   ]
  },
  {
   "cell_type": "markdown",
   "metadata": {},
   "source": [
    "### 层序遍历"
   ]
  },
  {
   "cell_type": "code",
   "execution_count": 3,
   "metadata": {},
   "outputs": [],
   "source": [
    "def isEvenOddTree(root: TreeNode) -> bool:\n",
    "    if not root:\n",
    "        return False\n",
    "    layer = [root]\n",
    "    layer_num = 0\n",
    "    while layer:\n",
    "        next_layer = []\n",
    "        cur = float('inf') if layer_num % 2 == 1 else float('-inf')\n",
    "        for node in layer:\n",
    "            if node.val % 2 == layer_num % 2:\n",
    "                return False\n",
    "            if layer_num % 2 == 1:\n",
    "                if node.val >= cur:\n",
    "                    return False\n",
    "            else:\n",
    "                if node.val <= cur:\n",
    "                    return False\n",
    "            cur = node.val\n",
    "            if node.left:\n",
    "                next_layer.append(node.left)\n",
    "            if node.right:\n",
    "                next_layer.append(node.right)\n",
    "        layer = next_layer\n",
    "        layer_num += 1\n",
    "    return True"
   ]
  },
  {
   "cell_type": "code",
   "execution_count": 4,
   "metadata": {},
   "outputs": [
    {
     "data": {
      "text/plain": [
       "True"
      ]
     },
     "execution_count": 4,
     "metadata": {},
     "output_type": "execute_result"
    }
   ],
   "source": [
    "isEvenOddTree(root)"
   ]
  },
  {
   "cell_type": "code",
   "execution_count": null,
   "metadata": {},
   "outputs": [],
   "source": []
  }
 ],
 "metadata": {
  "kernelspec": {
   "display_name": "Python 3",
   "language": "python",
   "name": "python3"
  },
  "language_info": {
   "codemirror_mode": {
    "name": "ipython",
    "version": 3
   },
   "file_extension": ".py",
   "mimetype": "text/x-python",
   "name": "python",
   "nbconvert_exporter": "python",
   "pygments_lexer": "ipython3",
   "version": "3.6.5"
  }
 },
 "nbformat": 4,
 "nbformat_minor": 2
}
