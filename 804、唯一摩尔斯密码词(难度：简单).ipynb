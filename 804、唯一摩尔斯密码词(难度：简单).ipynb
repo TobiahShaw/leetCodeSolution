{
  "cells": [
    {
      "metadata": {
        "collapsed": true,
        "trusted": false
      },
      "cell_type": "markdown",
      "source": "# 唯一摩尔斯密码词\n\n**题目来源：力扣（LeetCode）**\n\n**链接：https://leetcode-cn.com/problems/unique-morse-code-words/**\n\n## 一、题目\n\n国际摩尔斯密码定义一种标准编码方式，将每个字母对应于一个由一系列点和短线组成的字符串， 比如: \"a\" 对应 \".-\", \"b\" 对应 \"-...\", \"c\" 对应 \"-.-.\", 等等。\n\n为了方便，所有26个英文字母对应摩尔斯密码表如下：\n\n[\".-\",\"-...\",\"-.-.\",\"-..\",\".\",\"..-.\",\"--.\",\"....\",\"..\",\".---\",\"-.-\",\".-..\",\"--\",\"-.\",\"---\",\".--.\",\"--.-\",\".-.\",\"...\",\"-\",\"..-\",\"...-\",\".--\",\"-..-\",\"-.--\",\"--..\"]\n\n给定一个单词列表，每个单词可以写成每个字母对应摩尔斯密码的组合。例如，\"cab\" 可以写成 \"-.-..--...\"，(即 \"-.-.\" + \"-...\" + \".-\"字符串的结合)。我们将这样一个连接过程称作单词翻译。\n\n返回我们可以获得所有词不同单词翻译的数量。\n\n## 二、示例\n\n输入: words = [\"gin\", \"zen\", \"gig\", \"msg\"]\n\n输出: 2\n\n解释: \n\n各单词翻译如下:\n\n\"gin\" -> \"--...-.\"\n\n\"zen\" -> \"--...-.\"\n\n\"gig\" -> \"--...--.\"\n\n\"msg\" -> \"--...--.\"\n\n共有 2 种不同翻译, \"--...-.\" 和 \"--...--.\".\n\n## 三、解题思路\n\n### 利用集合"
    },
    {
      "metadata": {
        "trusted": true
      },
      "cell_type": "code",
      "source": "def uniqueMorseRepresentations(words):\n    morses = [\".-\",\"-...\",\"-.-.\",\"-..\",\".\",\"..-.\",\"--.\",\"....\",\"..\",\".---\",\"-.-\"\n              ,\".-..\",\"--\",\"-.\",\"---\",\".--.\",\"--.-\",\".-.\",\"...\",\"-\",\"..-\",\"...-\"\n              ,\".--\",\"-..-\",\"-.--\",\"--..\"]\n    s = {\"\".join(morses[ord(c) - ord('a')] for c in word) for word in words}\n    return len(s)",
      "execution_count": 1,
      "outputs": []
    },
    {
      "metadata": {
        "trusted": true
      },
      "cell_type": "code",
      "source": "uniqueMorseRepresentations([\"gin\", \"zen\", \"gig\", \"msg\"])",
      "execution_count": 2,
      "outputs": [
        {
          "output_type": "execute_result",
          "execution_count": 2,
          "data": {
            "text/plain": "2"
          },
          "metadata": {}
        }
      ]
    },
    {
      "metadata": {
        "trusted": true
      },
      "cell_type": "code",
      "source": "",
      "execution_count": null,
      "outputs": []
    }
  ],
  "metadata": {
    "kernelspec": {
      "name": "python36",
      "display_name": "Python 3.6",
      "language": "python"
    },
    "language_info": {
      "mimetype": "text/x-python",
      "nbconvert_exporter": "python",
      "name": "python",
      "pygments_lexer": "ipython3",
      "version": "3.6.6",
      "file_extension": ".py",
      "codemirror_mode": {
        "version": 3,
        "name": "ipython"
      }
    }
  },
  "nbformat": 4,
  "nbformat_minor": 2
}