{
 "cells": [
  {
   "cell_type": "markdown",
   "metadata": {},
   "source": [
    "# 一年中的第几天\n",
    "\n",
    "**题目来源：力扣（LeetCode）**\n",
    "\n",
    "**链接：https://leetcode-cn.com/problems/day-of-the-year/**\n",
    "\n",
    "## 一、题目\n",
    "\n",
    "给你一个按 YYYY-MM-DD 格式表示日期的字符串 date，请你计算并返回该日期是当年的第几天。\n",
    "\n",
    "通常情况下，我们认为 1 月 1 日是每年的第 1 天，1 月 2 日是每年的第 2 天，依此类推。每个月的天数与现行公元纪年法（格里高利历）一致。\n",
    "\n",
    "### 提示：\n",
    "\n",
    "- date.length == 10\n",
    "- date[4] == date[7] == '-'，其他的 date[i] 都是数字。\n",
    "- date 表示的范围从 1900 年 1 月 1 日至 2019 年 12 月 31 日。\n",
    "\n",
    "## 二、示例\n",
    "\n",
    "### 示例 1：\n",
    "\n",
    "输入：date = \"2019-01-09\"\n",
    "\n",
    "输出：9\n",
    "\n",
    "### 示例 2：\n",
    "\n",
    "输入：date = \"2019-02-10\"\n",
    "\n",
    "输出：41\n",
    "\n",
    "### 示例 3：\n",
    "\n",
    "输入：date = \"2003-03-01\"\n",
    "\n",
    "输出：60\n",
    "\n",
    "### 示例 4：\n",
    "\n",
    "输入：date = \"2004-03-01\"\n",
    "\n",
    "输出：61\n",
    "\n",
    "## 三、解题思路\n",
    "\n",
    "### 打表"
   ]
  },
  {
   "cell_type": "code",
   "execution_count": 1,
   "metadata": {},
   "outputs": [],
   "source": [
    "def dayOfYear(date: str) -> int:\n",
    "    year, mouth, day = date.split('-')\n",
    "    # 利用字典取值\n",
    "    days_dict = {'01':int(day), '02':int(day)+31, '03':int(day)+59, '04':int(day)+90, '05':int(day)+120, '06':int(day)+151, '07':int(day)+181, '08':int(day)+212, '09':int(day)+243, '10':int(day)+273, '11':int(day)+304, '12':int(day)+334}\n",
    "    days_dict2 = {'01':int(day), '02':int(day)+31, '03':int(day)+60, '04':int(day)+91, '05':int(day)+121,'06':int(day)+152, '07':int(day)+182, '08':int(day)+213, '09':int(day)+244, '10':int(day)+274, '11':int(day)+305, '12':int(day)+335}\n",
    "    if (int(year)%4==0 and int(year)%100!=0) or int(year)%400==0:\n",
    "        return days_dict2[mouth]\n",
    "    else:\n",
    "        return days_dict[mouth]"
   ]
  },
  {
   "cell_type": "code",
   "execution_count": 2,
   "metadata": {},
   "outputs": [
    {
     "data": {
      "text/plain": [
       "9"
      ]
     },
     "execution_count": 2,
     "metadata": {},
     "output_type": "execute_result"
    }
   ],
   "source": [
    "dayOfYear(\"2019-01-09\")"
   ]
  },
  {
   "cell_type": "code",
   "execution_count": 3,
   "metadata": {},
   "outputs": [
    {
     "data": {
      "text/plain": [
       "41"
      ]
     },
     "execution_count": 3,
     "metadata": {},
     "output_type": "execute_result"
    }
   ],
   "source": [
    "dayOfYear(\"2019-02-10\")"
   ]
  },
  {
   "cell_type": "code",
   "execution_count": 4,
   "metadata": {},
   "outputs": [
    {
     "data": {
      "text/plain": [
       "60"
      ]
     },
     "execution_count": 4,
     "metadata": {},
     "output_type": "execute_result"
    }
   ],
   "source": [
    "dayOfYear(\"2003-03-01\")"
   ]
  },
  {
   "cell_type": "code",
   "execution_count": 5,
   "metadata": {},
   "outputs": [
    {
     "data": {
      "text/plain": [
       "61"
      ]
     },
     "execution_count": 5,
     "metadata": {},
     "output_type": "execute_result"
    }
   ],
   "source": [
    "dayOfYear(\"2004-03-01\")"
   ]
  },
  {
   "cell_type": "code",
   "execution_count": null,
   "metadata": {},
   "outputs": [],
   "source": []
  }
 ],
 "metadata": {
  "kernelspec": {
   "display_name": "Python 3",
   "language": "python",
   "name": "python3"
  },
  "language_info": {
   "codemirror_mode": {
    "name": "ipython",
    "version": 3
   },
   "file_extension": ".py",
   "mimetype": "text/x-python",
   "name": "python",
   "nbconvert_exporter": "python",
   "pygments_lexer": "ipython3",
   "version": "3.6.5"
  }
 },
 "nbformat": 4,
 "nbformat_minor": 2
}
