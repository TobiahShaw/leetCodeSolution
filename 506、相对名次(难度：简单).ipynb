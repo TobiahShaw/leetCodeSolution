{
 "cells": [
  {
   "cell_type": "markdown",
   "metadata": {},
   "source": [
    "# 相对名次\n",
    "\n",
    "**题目来源：力扣（LeetCode）**\n",
    "\n",
    "**链接：https://leetcode-cn.com/problems/relative-ranks/**\n",
    "\n",
    "## 一、题目\n",
    "\n",
    "给你一个长度为 n 的整数数组 score ，其中 score[i] 是第 i 位运动员在比赛中的得分。所有得分都 互不相同 。\n",
    "\n",
    "运动员将根据得分 决定名次 ，其中名次第 1 的运动员得分最高，名次第 2 的运动员得分第 2 高，依此类推。运动员的名次决定了他们的获奖情况：\n",
    "\n",
    "- 名次第 1 的运动员获金牌 \"Gold Medal\" 。\n",
    "- 名次第 2 的运动员获银牌 \"Silver Medal\" 。\n",
    "- 名次第 3 的运动员获铜牌 \"Bronze Medal\" 。\n",
    "- 从名次第 4 到第 n 的运动员，只能获得他们的名次编号（即，名次第 x 的运动员获得编号 \"x\"）。\n",
    "\n",
    "使用长度为 n 的数组 answer 返回获奖，其中 answer[i] 是第 i 位运动员的获奖情况。\n",
    "\n",
    "### 提示：\n",
    "\n",
    "- n == score.length\n",
    "- 1 <= n <= 10^4\n",
    "- 0 <= score[i] <= 10^6\n",
    "- score 中的所有值 互不相同\n",
    "\n",
    "## 二、示例\n",
    "\n",
    "### 示例 1：\n",
    "\n",
    "输入：score = [5,4,3,2,1]\n",
    "\n",
    "输出：[\"Gold Medal\",\"Silver Medal\",\"Bronze Medal\",\"4\",\"5\"]\n",
    "\n",
    "解释：名次为 [1st, 2nd, 3rd, 4th, 5th] \n",
    "。\n",
    "### 示例 2：\n",
    "\n",
    "输入：score = [10,3,8,9,4]\n",
    "\n",
    "输出：[\"Gold Medal\",\"5\",\"Bronze Medal\",\"Silver Medal\",\"4\"]\n",
    "\n",
    "解释：名次为 [1st, 5th, 3rd, 2nd, 4th] 。\n",
    "\n",
    "## 三、解题思路\n",
    "\n",
    "### 排序"
   ]
  },
  {
   "cell_type": "code",
   "execution_count": 1,
   "metadata": {},
   "outputs": [],
   "source": [
    "def findRelativeRanks(score):\n",
    "    medals = [\"Gold Medal\",\"Silver Medal\",\"Bronze Medal\"]\n",
    "    def getRanking(pos):\n",
    "        if pos < len(medals):\n",
    "            return medals[pos]\n",
    "        return str(pos+1)\n",
    "    map = {}\n",
    "    rank = sorted(score, reverse=True)\n",
    "    for i in range(len(rank)):\n",
    "        map[rank[i]] = i\n",
    "    return [getRanking(map[s]) for s in score]"
   ]
  },
  {
   "cell_type": "code",
   "execution_count": 2,
   "metadata": {},
   "outputs": [
    {
     "data": {
      "text/plain": [
       "['Gold Medal', 'Silver Medal', 'Bronze Medal', '4', '5']"
      ]
     },
     "execution_count": 2,
     "metadata": {},
     "output_type": "execute_result"
    }
   ],
   "source": [
    "findRelativeRanks(score = [5,4,3,2,1])"
   ]
  },
  {
   "cell_type": "code",
   "execution_count": 3,
   "metadata": {},
   "outputs": [
    {
     "data": {
      "text/plain": [
       "['Gold Medal', '5', 'Bronze Medal', 'Silver Medal', '4']"
      ]
     },
     "execution_count": 3,
     "metadata": {},
     "output_type": "execute_result"
    }
   ],
   "source": [
    "findRelativeRanks(score = [10,3,8,9,4])"
   ]
  },
  {
   "cell_type": "code",
   "execution_count": null,
   "metadata": {},
   "outputs": [],
   "source": []
  }
 ],
 "metadata": {
  "kernelspec": {
   "display_name": "Python 3",
   "language": "python",
   "name": "python3"
  },
  "language_info": {
   "codemirror_mode": {
    "name": "ipython",
    "version": 3
   },
   "file_extension": ".py",
   "mimetype": "text/x-python",
   "name": "python",
   "nbconvert_exporter": "python",
   "pygments_lexer": "ipython3",
   "version": "3.6.5"
  }
 },
 "nbformat": 4,
 "nbformat_minor": 2
}
