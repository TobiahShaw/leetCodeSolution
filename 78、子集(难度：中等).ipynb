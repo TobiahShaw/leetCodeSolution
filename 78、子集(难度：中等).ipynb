{
  "cells": [
    {
      "metadata": {
        "collapsed": true
      },
      "cell_type": "markdown",
      "source": "# 子集\n\n## 一、题目\n\n给定一组不含重复元素的整数数组 nums，返回该数组所有可能的子集（幂集）。\n\n说明：解集不能包含重复的子集。\n\n## 二、示例\n\n输入: nums = [1,2,3]\n\n输出:\n[\n  [3],\n  [1],\n  [2],\n  [1,2,3],\n  [1,3],\n  [2,3],\n  [1,2],\n  []\n]\n\n## 三、解题思路\n\n### 递归求解"
    },
    {
      "metadata": {
        "trusted": true
      },
      "cell_type": "code",
      "source": "def subsets(nums):\n    res = []\n    def helper(sub):\n        if sub in res:\n            return\n        res.append(sub)\n        for i in range(len(sub)):\n            helper(sub[: i] + sub[i + 1:])\n    helper(nums)\n    return res",
      "execution_count": 1,
      "outputs": []
    },
    {
      "metadata": {
        "trusted": true
      },
      "cell_type": "code",
      "source": "subsets([1, 2, 3])",
      "execution_count": 2,
      "outputs": [
        {
          "output_type": "execute_result",
          "execution_count": 2,
          "data": {
            "text/plain": "[[1, 2, 3], [2, 3], [3], [], [2], [1, 3], [1], [1, 2]]"
          },
          "metadata": {}
        }
      ]
    },
    {
      "metadata": {
        "trusted": true
      },
      "cell_type": "markdown",
      "source": "### 迭代"
    },
    {
      "metadata": {
        "trusted": true
      },
      "cell_type": "code",
      "source": "def subsets(nums):\n    res = [[]]\n    for i in nums:\n        res = res + [[i] + num for num in res]\n    return res",
      "execution_count": 3,
      "outputs": []
    },
    {
      "metadata": {
        "trusted": true
      },
      "cell_type": "code",
      "source": "subsets([1, 2, 3])",
      "execution_count": 4,
      "outputs": [
        {
          "output_type": "execute_result",
          "execution_count": 4,
          "data": {
            "text/plain": "[[], [1], [2], [2, 1], [3], [3, 1], [3, 2], [3, 2, 1]]"
          },
          "metadata": {}
        }
      ]
    },
    {
      "metadata": {
        "trusted": true
      },
      "cell_type": "code",
      "source": "",
      "execution_count": null,
      "outputs": []
    }
  ],
  "metadata": {
    "kernelspec": {
      "name": "python36",
      "display_name": "Python 3.6",
      "language": "python"
    },
    "language_info": {
      "mimetype": "text/x-python",
      "nbconvert_exporter": "python",
      "name": "python",
      "pygments_lexer": "ipython3",
      "version": "3.6.6",
      "file_extension": ".py",
      "codemirror_mode": {
        "version": 3,
        "name": "ipython"
      }
    }
  },
  "nbformat": 4,
  "nbformat_minor": 2
}