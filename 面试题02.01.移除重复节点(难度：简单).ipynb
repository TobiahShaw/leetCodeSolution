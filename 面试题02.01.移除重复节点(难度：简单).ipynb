{
  "cells": [
    {
      "metadata": {
        "collapsed": true
      },
      "cell_type": "markdown",
      "source": "# 移除重复节点\n\n**题目来源：力扣（LeetCode）**\n\n**链接：https://leetcode-cn.com/problems/remove-duplicate-node-lcci/**\n\n## 一、题目\n\n编写代码，移除未排序链表中的重复节点。保留最开始出现的节点。\n\n## 二、示例\n\n### 示例1:\n\n输入：[1, 2, 3, 3, 2, 1]\n\n输出：[1, 2, 3]\n\n### 示例2:\n\n输入：[1, 1, 1, 1, 2]\n\n输出：[1, 2]\n\n## 三、解题思路\n\n### 记录前驱值去重"
    },
    {
      "metadata": {
        "trusted": true
      },
      "cell_type": "code",
      "source": "class ListNode:\n    def __init__(self, x):\n        self.val = x\n        self.next = None",
      "execution_count": 1,
      "outputs": []
    },
    {
      "metadata": {
        "trusted": true
      },
      "cell_type": "code",
      "source": "head1 = ListNode(1)\nhead1.next = ListNode(2)\nhead1.next.next = ListNode(3)\nhead1.next.next.next = ListNode(3)\nhead1.next.next.next.next = ListNode(2)\nhead1.next.next.next.next.next = ListNode(1)\n\nhead2 = ListNode(1)\nhead2.next = ListNode(1)\nhead2.next.next = ListNode(1)\nhead2.next.next.next = ListNode(1)\nhead2.next.next.next.next = ListNode(2)",
      "execution_count": 2,
      "outputs": []
    },
    {
      "metadata": {
        "trusted": true
      },
      "cell_type": "code",
      "source": "def removeDuplicateNodes(head: ListNode) -> ListNode:\n    if not head:\n        return head\n    values = {head.val}\n    pos = head\n    while pos.next:\n        cur = pos.next\n        if cur.val in values:\n            pos.next = pos.next.next\n        else:\n            values.add(cur.val)\n            pos = pos.next\n    return head",
      "execution_count": 3,
      "outputs": []
    },
    {
      "metadata": {
        "trusted": true
      },
      "cell_type": "code",
      "source": "ret1 = removeDuplicateNodes(head1)\nwhile ret1:\n    print(ret1.val, end=' ')\n    ret1 = ret1.next",
      "execution_count": 4,
      "outputs": [
        {
          "output_type": "stream",
          "text": "1 2 3 ",
          "name": "stdout"
        }
      ]
    },
    {
      "metadata": {
        "trusted": true
      },
      "cell_type": "code",
      "source": "ret2 = removeDuplicateNodes(head2)\nwhile ret2:\n    print(ret2.val, end=' ')\n    ret2 = ret2.next",
      "execution_count": 5,
      "outputs": [
        {
          "output_type": "stream",
          "text": "1 2 ",
          "name": "stdout"
        }
      ]
    },
    {
      "metadata": {
        "trusted": true
      },
      "cell_type": "code",
      "source": "",
      "execution_count": null,
      "outputs": []
    }
  ],
  "metadata": {
    "kernelspec": {
      "name": "python36",
      "display_name": "Python 3.6",
      "language": "python"
    },
    "language_info": {
      "mimetype": "text/x-python",
      "nbconvert_exporter": "python",
      "name": "python",
      "pygments_lexer": "ipython3",
      "version": "3.6.6",
      "file_extension": ".py",
      "codemirror_mode": {
        "version": 3,
        "name": "ipython"
      }
    }
  },
  "nbformat": 4,
  "nbformat_minor": 2
}