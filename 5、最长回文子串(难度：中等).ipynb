{
  "cells": [
    {
      "metadata": {
        "collapsed": true
      },
      "cell_type": "markdown",
      "source": "# 最长回文子串\n\n**题目来源：力扣（LeetCode）**\n\n**链接：https://leetcode-cn.com/problems/longest-palindromic-substring/**\n\n## 一、题目\n\n给定一个字符串 s，找到 s 中最长的回文子串。你可以假设 s 的最大长度为 1000。注：回文是一个正读和反读都相同的字符串。\n\n## 二、示例\n\n### 示例 1:\n\n输入: \"babad\"\n\n输出: \"bab\"\n\n注意: \"aba\" 也是一个有效答案。\n\n### 示例 2:\n\n输入: \"cbbd\"\n\n输出: \"bb\"\n\n## 三、解题思路\n\n### 一、暴力破解法\n\n暴力求解，列举所有的子串，判断是否为回文串，保存最长的回文串。"
    },
    {
      "metadata": {
        "trusted": true
      },
      "cell_type": "code",
      "source": "def valid(s, left, right):\n    # 验证子串 s[left, right] 是否为回文串\n    while left < right:\n        if s[left] != s[right]:\n            return False\n        left += 1\n        right -= 1\n    return True",
      "execution_count": 1,
      "outputs": []
    },
    {
      "metadata": {
        "trusted": true
      },
      "cell_type": "code",
      "source": "def longestPalindrome(s):\n    # 特判\n    size = len(s)\n    if size < 2:\n        return s\n\n    max_len = 1\n    res = s[0]\n\n    # 枚举所有长度大于等于 2 的子串\n    for i in range(size - 1):\n        for j in range(i + 1, size):\n            if j - i + 1 > max_len and valid(s, i, j):\n                max_len = j - i + 1\n                res = s[i:j + 1]\n    return res",
      "execution_count": 2,
      "outputs": []
    },
    {
      "metadata": {
        "trusted": true
      },
      "cell_type": "code",
      "source": "longestPalindrome(\"babad\")",
      "execution_count": 3,
      "outputs": [
        {
          "output_type": "execute_result",
          "execution_count": 3,
          "data": {
            "text/plain": "'bab'"
          },
          "metadata": {}
        }
      ]
    },
    {
      "metadata": {
        "trusted": true
      },
      "cell_type": "code",
      "source": "longestPalindrome(\"cbbd\")",
      "execution_count": 4,
      "outputs": [
        {
          "output_type": "execute_result",
          "execution_count": 4,
          "data": {
            "text/plain": "'bb'"
          },
          "metadata": {}
        }
      ]
    },
    {
      "metadata": {
        "trusted": true
      },
      "cell_type": "markdown",
      "source": "### 二、最长公共子串\n\n设原本字符串为 S，反转 S 得到 S' ，找到 S 和 S' **位置对应**的最长的公共子串。"
    },
    {
      "metadata": {
        "trusted": true
      },
      "cell_type": "code",
      "source": "def longestPalindrome(s):\n    string1,string2 = s, s[::-1]\n    len1 = len(string1)\n    len2 = len(string2)\n    res = [[0 for i in range(len1+1)] for j in range(len2+1)]\n    max_length = 0\n    max_index = 0\n    for i in range(1,len2+1):\n        for j in range(1,len1+1):\n            if string2[i-1] == string1[j-1]:\n                res[i][j] = res[i-1][j-1]+1\n                if string1[j-1] != string1[j - res[i][j]]:\n                    continue\n                if res[i][j] >= max_length:\n                    max_index = j\n                    max_length = res[i][j]\n    return string1[max_index - max_length : max_index]",
      "execution_count": 5,
      "outputs": []
    },
    {
      "metadata": {
        "trusted": true
      },
      "cell_type": "code",
      "source": "longestPalindrome(\"babad\")",
      "execution_count": 6,
      "outputs": [
        {
          "output_type": "execute_result",
          "execution_count": 6,
          "data": {
            "text/plain": "'bab'"
          },
          "metadata": {}
        }
      ]
    },
    {
      "metadata": {
        "trusted": true
      },
      "cell_type": "code",
      "source": "longestPalindrome(\"cbbd\")",
      "execution_count": 7,
      "outputs": [
        {
          "output_type": "execute_result",
          "execution_count": 7,
          "data": {
            "text/plain": "'bb'"
          },
          "metadata": {}
        }
      ]
    },
    {
      "metadata": {
        "trusted": true
      },
      "cell_type": "code",
      "source": "longestPalindrome(\"adam\")",
      "execution_count": 8,
      "outputs": [
        {
          "output_type": "execute_result",
          "execution_count": 8,
          "data": {
            "text/plain": "'ada'"
          },
          "metadata": {}
        }
      ]
    },
    {
      "metadata": {
        "trusted": true
      },
      "cell_type": "code",
      "source": "longestPalindrome(\"aacdefcaa\")",
      "execution_count": 9,
      "outputs": [
        {
          "output_type": "execute_result",
          "execution_count": 9,
          "data": {
            "text/plain": "'aa'"
          },
          "metadata": {}
        }
      ]
    },
    {
      "metadata": {
        "trusted": true
      },
      "cell_type": "code",
      "source": "",
      "execution_count": null,
      "outputs": []
    }
  ],
  "metadata": {
    "kernelspec": {
      "name": "python36",
      "display_name": "Python 3.6",
      "language": "python"
    },
    "language_info": {
      "mimetype": "text/x-python",
      "nbconvert_exporter": "python",
      "name": "python",
      "pygments_lexer": "ipython3",
      "version": "3.6.6",
      "file_extension": ".py",
      "codemirror_mode": {
        "version": 3,
        "name": "ipython"
      }
    }
  },
  "nbformat": 4,
  "nbformat_minor": 2
}