{
 "cells": [
  {
   "cell_type": "markdown",
   "metadata": {},
   "source": [
    "# 两数之和\n",
    "\n",
    "**题目来源：力扣（LeetCode）**\n",
    "\n",
    "**链接：https://leetcode-cn.com/problems/two-sum**\n",
    "\n",
    "## 一、题目\n",
    "\n",
    "给定一个整数数组和一个目标值，找出数组中和为目标值的两个数的下标。\n",
    "\n",
    "假设每种输入只对应一个答案，且同样的元素不能被重复利用。\n",
    "\n",
    "### 提示：\n",
    "\n",
    "- 2 <= nums.length <= 104\n",
    "- -109 <= nums[i] <= 109\n",
    "- -109 <= target <= 109\n",
    "- 只会存在一个有效答案\n",
    "\n",
    "### 进阶：你可以想出一个时间复杂度小于 O(n2) 的算法吗？\n",
    "\n",
    "## 二、示例\n",
    "\n",
    "### 示例 1：\n",
    "\n",
    "输入：nums = [2,7,11,15], target = 9\n",
    "\n",
    "输出：[0,1]\n",
    "\n",
    "解释：因为 nums[0] + nums[1] == 9 ，返回 [0, 1] 。\n",
    "\n",
    "### 示例 2：\n",
    "\n",
    "输入：nums = [3,2,4], target = 6\n",
    "\n",
    "输出：[1,2]\n",
    "\n",
    "### 示例 3：\n",
    "\n",
    "输入：nums = [3,3], target = 6\n",
    "\n",
    "输出：[0,1]\n",
    "\n",
    "## 三、解题思路\n",
    "\n",
    "### 1、穷举法\n",
    "\n",
    "思路很简单，遍历每个元素 x，并查找是否存在一个值与 target−x 相等的目标元素。"
   ]
  },
  {
   "cell_type": "code",
   "execution_count": 1,
   "metadata": {},
   "outputs": [],
   "source": [
    "def twoSum(nums, target):\n",
    "    for i in range(len(nums)):\n",
    "        for j in range(i + 1, len(nums)):\n",
    "            if nums[i] + nums[j] == target:\n",
    "                return [i, j]\n",
    "    return None"
   ]
  },
  {
   "cell_type": "code",
   "execution_count": 2,
   "metadata": {},
   "outputs": [
    {
     "name": "stdout",
     "output_type": "stream",
     "text": [
      "[0, 1]\n"
     ]
    }
   ],
   "source": [
    "print(twoSum([2, 7, 11, 15], 9))"
   ]
  },
  {
   "cell_type": "markdown",
   "metadata": {},
   "source": [
    "#### 复杂度分析\n",
    "\n",
    "时间复杂度：$O(n^2)$， 对于每个元素，我们试图通过遍历数组的其余部分来寻找它所对应的目标元素，这将耗费$O(n)$ 的时间。因此时间复杂度为$O(n^2)$。\n",
    "\n",
    "空间复杂度：$O(1)$。"
   ]
  },
  {
   "cell_type": "markdown",
   "metadata": {},
   "source": [
    "### 2、利用字典，遍历数组\n",
    "\n",
    "思路是：先便利数组，将数据存在字典当中，其中数组元素x为键，数组下边index为值。然后，遍历数组，搜索每个元素是否又对应的target−x的键在字典中，如果有，取当前x下标和target-x在字典中索引的值返回。"
   ]
  },
  {
   "cell_type": "code",
   "execution_count": 3,
   "metadata": {},
   "outputs": [],
   "source": [
    "def twoSumByDict(nums, target):\n",
    "    dic = {}\n",
    "    for index, x in enumerate(nums):\n",
    "        dic[x] = index\n",
    "    for index, x in enumerate(nums):\n",
    "        if target - x in dic:\n",
    "            return [index, dic[target - x]]\n",
    "    return None"
   ]
  },
  {
   "cell_type": "code",
   "execution_count": 4,
   "metadata": {},
   "outputs": [
    {
     "name": "stdout",
     "output_type": "stream",
     "text": [
      "[0, 1]\n"
     ]
    }
   ],
   "source": [
    "print(twoSumByDict([2, 7, 11, 15], 9))"
   ]
  },
  {
   "cell_type": "markdown",
   "metadata": {},
   "source": [
    "#### 复杂度分析\n",
    "\n",
    "时间复杂度：$O(n)$，我们遍历数组，这将耗费$O(n)$的时间，查找字典耗费$O(1)$的时间。因此时间复杂度为$O(n)$。\n",
    "\n",
    "空间复杂度：$O(n)$，因为存储了数组。"
   ]
  },
  {
   "cell_type": "markdown",
   "metadata": {},
   "source": [
    "### 3、进一步利用字典，减少循环次数\n",
    "\n",
    "思路是：在第一次循环中直接取字典有无对应值，如没有当前值加入字典，如有，返回字典索引的值，和当前索引。"
   ]
  },
  {
   "cell_type": "code",
   "execution_count": 5,
   "metadata": {},
   "outputs": [],
   "source": [
    "def twoSumByDictAdv(nums, target):\n",
    "    dic = {}\n",
    "    for index, x in enumerate(nums):\n",
    "        if target - x in dic:\n",
    "            return [dic[target - x], index]\n",
    "        else:\n",
    "            dic[x] = index\n",
    "    return None"
   ]
  },
  {
   "cell_type": "code",
   "execution_count": 6,
   "metadata": {},
   "outputs": [
    {
     "name": "stdout",
     "output_type": "stream",
     "text": [
      "[0, 1]\n"
     ]
    }
   ],
   "source": [
    "print(twoSumByDictAdv([2, 7, 11, 15], 9))"
   ]
  },
  {
   "cell_type": "markdown",
   "metadata": {},
   "source": [
    "#### 复杂度分析\n",
    "\n",
    "时间复杂度：$O(n)$，我们遍历数组，这将耗费$O(n)$的时间，查找字典耗费$O(1)$的时间。因此时间复杂度为$O(n)$。\n",
    "\n",
    "空间复杂度：$O(n)$，因为存储了数组。"
   ]
  },
  {
   "cell_type": "code",
   "execution_count": null,
   "metadata": {},
   "outputs": [],
   "source": []
  }
 ],
 "metadata": {
  "kernelspec": {
   "display_name": "Python 3 (ipykernel)",
   "language": "python",
   "name": "python3"
  },
  "language_info": {
   "codemirror_mode": {
    "name": "ipython",
    "version": 3
   },
   "file_extension": ".py",
   "mimetype": "text/x-python",
   "name": "python",
   "nbconvert_exporter": "python",
   "pygments_lexer": "ipython3",
   "version": "3.9.10+"
  }
 },
 "nbformat": 4,
 "nbformat_minor": 2
}
