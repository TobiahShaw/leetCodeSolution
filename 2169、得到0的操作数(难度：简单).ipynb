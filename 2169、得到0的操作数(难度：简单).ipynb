{
 "cells": [
  {
   "cell_type": "markdown",
   "metadata": {},
   "source": [
    "# 得到0的操作数\n",
    "\n",
    "**题目来源：力扣（LeetCode）**\n",
    "\n",
    "**链接：https://leetcode-cn.com/problems/count-operations-to-obtain-zero/**\n",
    "\n",
    "## 一、题目\n",
    "\n",
    "给你两个 非负 整数 num1 和 num2 。\n",
    "\n",
    "每一步 操作 中，如果 num1 >= num2 ，你必须用 num1 减 num2 ；否则，你必须用 num2 减 num1 。\n",
    "\n",
    "- 例如，num1 = 5 且 num2 = 4 ，应该用 num1 减 num2 ，因此，得到 num1 = 1 和 num2 = 4 。然而，如果 num1 = 4且 num2 = 5 ，一步操作后，得到 num1 = 4 和 num2 = 1 。\n",
    "\n",
    "返回使 num1 = 0 或 num2 = 0 的 操作数 。\n",
    "\n",
    "### 提示：\n",
    "\n",
    "- 0 <= num1, num2 <= 10^5\n",
    "\n",
    "## 二、示例\n",
    "\n",
    "### 示例 1：\n",
    "\n",
    "输入：num1 = 2, num2 = 3\n",
    "\n",
    "输出：3\n",
    "\n",
    "解释：\n",
    "\n",
    "- 操作 1 ：num1 = 2 ，num2 = 3 。由于 num1 < num2 ，num2 减 num1 得到 num1 = 2 ，num2 = 3 - 2 = 1 。\n",
    "- 操作 2 ：num1 = 2 ，num2 = 1 。由于 num1 > num2 ，num1 减 num2 。\n",
    "- 操作 3 ：num1 = 1 ，num2 = 1 。由于 num1 == num2 ，num1 减 num2 。\n",
    "\n",
    "此时 num1 = 0 ，num2 = 1 。由于 num1 == 0 ，不需要再执行任何操作。\n",
    "\n",
    "所以总操作数是 3 。\n",
    "\n",
    "### 示例 2：\n",
    "\n",
    "输入：num1 = 10, num2 = 10\n",
    "\n",
    "输出：1\n",
    "\n",
    "解释：\n",
    "\n",
    "- 操作 1 ：num1 = 10 ，num2 = 10 。由于 num1 == num2 ，num1 减 num2 得到 num1 = 10 - 10 = 0 。\n",
    "\n",
    "此时 num1 = 0 ，num2 = 10 。由于 num1 == 0 ，不需要再执行任何操作。所以总操作数是 1 。\n",
    "\n",
    "## 三、解题思路\n",
    "\n",
    "### 辗转相除"
   ]
  },
  {
   "cell_type": "code",
   "execution_count": 1,
   "metadata": {},
   "outputs": [],
   "source": [
    "def countOperations(num1: int, num2: int) -> int:\n",
    "    ret = 0   # 相减操作的总次数\n",
    "    while num1 and num2:\n",
    "        # 每一步辗转相除操作\n",
    "        ret += num1 // num2\n",
    "        num1 %= num2\n",
    "        num1, num2 = num2, num1\n",
    "    return ret"
   ]
  },
  {
   "cell_type": "code",
   "execution_count": 2,
   "metadata": {},
   "outputs": [
    {
     "data": {
      "text/plain": [
       "3"
      ]
     },
     "execution_count": 2,
     "metadata": {},
     "output_type": "execute_result"
    }
   ],
   "source": [
    "countOperations(2, 3)"
   ]
  },
  {
   "cell_type": "code",
   "execution_count": 3,
   "metadata": {},
   "outputs": [
    {
     "data": {
      "text/plain": [
       "1"
      ]
     },
     "execution_count": 3,
     "metadata": {},
     "output_type": "execute_result"
    }
   ],
   "source": [
    "countOperations(10, 10)"
   ]
  },
  {
   "cell_type": "code",
   "execution_count": null,
   "metadata": {},
   "outputs": [],
   "source": []
  }
 ],
 "metadata": {
  "kernelspec": {
   "display_name": "Python 3",
   "language": "python",
   "name": "python3"
  },
  "language_info": {
   "codemirror_mode": {
    "name": "ipython",
    "version": 3
   },
   "file_extension": ".py",
   "mimetype": "text/x-python",
   "name": "python",
   "nbconvert_exporter": "python",
   "pygments_lexer": "ipython3",
   "version": "3.6.5"
  }
 },
 "nbformat": 4,
 "nbformat_minor": 2
}
