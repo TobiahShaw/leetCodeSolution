{
 "cells": [
  {
   "cell_type": "markdown",
   "metadata": {},
   "source": [
    "# 查找和最小的K对数字\n",
    "\n",
    "**题目来源：力扣（LeetCode）**\n",
    "\n",
    "**链接：https://leetcode-cn.com/problems/find-k-pairs-with-smallest-sums/**\n",
    "\n",
    "## 一、题目\n",
    "\n",
    "给定两个以升序排列的整数数组 nums1 和 nums2 , 以及一个整数 k 。\n",
    "\n",
    "定义一对值 (u,v)，其中第一个元素来自 nums1，第二个元素来自 nums2 。\n",
    "\n",
    "请找到和最小的 k 个数对 (u1,v1),  (u2,v2)  ...  (uk,vk) \n",
    "\n",
    "### 提示:\n",
    "\n",
    "- 1 <= nums1.length, nums2.length <= 10^4\n",
    "- -10^9 <= nums1[i], nums2[i] <= 10^9\n",
    "- nums1, nums2 均为升序排列\n",
    "- 1 <= k <= 1000\n",
    "\n",
    "## 二、示例\n",
    "\n",
    "### 示例 1：\n",
    "\n",
    "输入: nums1 = [1,7,11], nums2 = [2,4,6], k = 3\n",
    "\n",
    "输出: [1,2],[1,4],[1,6]\n",
    "\n",
    "解释: 返回序列中的前 3 对数：[1,2],[1,4],[1,6],[7,2],[7,4],[11,2],[7,6],[11,4],[11,6]\n",
    "\n",
    "### 示例 2:\n",
    "\n",
    "输入: nums1 = [1,1,2], nums2 = [1,2,3], k = 2\n",
    "\n",
    "输出: [1,1],[1,1]\n",
    "\n",
    "解释: 返回序列中的前 2 对数：[1,1],[1,1],[1,2],[2,1],[1,2],[2,2],[1,3],[1,3],[2,3]\n",
    "\n",
    "### 示例 3:\n",
    "\n",
    "输入: nums1 = [1,2], nums2 = [3], k = 3 \n",
    "\n",
    "输出: [1,3],[2,3]\n",
    "\n",
    "解释: 也可能序列中所有的数对都被返回:[1,3],[2,3]\n",
    "\n",
    "## 三、解题思路\n",
    "\n",
    "### 小顶堆"
   ]
  },
  {
   "cell_type": "code",
   "execution_count": 1,
   "metadata": {},
   "outputs": [],
   "source": [
    "def kSmallestPairs(nums1, nums2, k: int):\n",
    "    import heapq\n",
    "    heap, ans = [], []\n",
    "    n1, n2 = len(nums1), len(nums2)\n",
    "    heapq.heappush(heap, (nums1[0]+nums2[0], [nums1[0], nums2[0]], [0, 0]))\n",
    "\n",
    "    while heap and len(ans) < k:\n",
    "        _, pair, [i, j] = heapq.heappop(heap)\n",
    "        ans.append(pair)\n",
    "        if i == 0 and j+1 < n2:\n",
    "            heapq.heappush(heap, (nums1[0]+nums2[j+1], [nums1[0], nums2[j+1]], [0, j+1]))\n",
    "        if i+1 < n1:\n",
    "            heapq.heappush(heap, (nums1[i+1]+nums2[j], [nums1[i+1], nums2[j]], [i+1, j]))\n",
    "\n",
    "    return ans"
   ]
  },
  {
   "cell_type": "code",
   "execution_count": 2,
   "metadata": {},
   "outputs": [
    {
     "data": {
      "text/plain": [
       "[[1, 2], [1, 4], [1, 6]]"
      ]
     },
     "execution_count": 2,
     "metadata": {},
     "output_type": "execute_result"
    }
   ],
   "source": [
    "kSmallestPairs(nums1 = [1,7,11], nums2 = [2,4,6], k = 3)"
   ]
  },
  {
   "cell_type": "code",
   "execution_count": 3,
   "metadata": {},
   "outputs": [
    {
     "data": {
      "text/plain": [
       "[[1, 1], [1, 1]]"
      ]
     },
     "execution_count": 3,
     "metadata": {},
     "output_type": "execute_result"
    }
   ],
   "source": [
    "kSmallestPairs(nums1 = [1,1,2], nums2 = [1,2,3], k = 2)"
   ]
  },
  {
   "cell_type": "code",
   "execution_count": 4,
   "metadata": {},
   "outputs": [
    {
     "data": {
      "text/plain": [
       "[[1, 3], [2, 3]]"
      ]
     },
     "execution_count": 4,
     "metadata": {},
     "output_type": "execute_result"
    }
   ],
   "source": [
    "kSmallestPairs(nums1 = [1,2], nums2 = [3], k = 3)"
   ]
  },
  {
   "cell_type": "code",
   "execution_count": null,
   "metadata": {},
   "outputs": [],
   "source": []
  }
 ],
 "metadata": {
  "kernelspec": {
   "display_name": "Python 3",
   "language": "python",
   "name": "python3"
  },
  "language_info": {
   "codemirror_mode": {
    "name": "ipython",
    "version": 3
   },
   "file_extension": ".py",
   "mimetype": "text/x-python",
   "name": "python",
   "nbconvert_exporter": "python",
   "pygments_lexer": "ipython3",
   "version": "3.6.5"
  }
 },
 "nbformat": 4,
 "nbformat_minor": 2
}
