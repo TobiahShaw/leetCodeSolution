{
 "cells": [
  {
   "cell_type": "markdown",
   "metadata": {},
   "source": [
    "# 格雷编码\n",
    "\n",
    "**题目来源：力扣（LeetCode）**\n",
    "\n",
    "**链接：https://leetcode-cn.com/problems/gray-code/**\n",
    "\n",
    "## 一、题目\n",
    "\n",
    "n 位格雷码序列 是一个由 2n 个整数组成的序列，其中：\n",
    "\n",
    "- 每个整数都在范围 [0, 2n - 1] 内（含 0 和 2n - 1）\n",
    "- 第一个整数是 0\n",
    "- 一个整数在序列中出现 不超过一次\n",
    "- 每对 相邻 整数的二进制表示 恰好一位不同 ，且\n",
    "- 第一个 和 最后一个 整数的二进制表示 恰好一位不同\n",
    "\n",
    "给你一个整数 n ，返回任一有效的 n 位格雷码序列 。\n",
    "\n",
    "### 提示：\n",
    "\n",
    "-1 <= n <= 16\n",
    "\n",
    "## 二、示例\n",
    "\n",
    "### 示例 1：\n",
    "\n",
    "输入：n = 2\n",
    "\n",
    "输出：[0,1,3,2]\n",
    "\n",
    "解释：\n",
    "\n",
    "[0,1,3,2] 的二进制表示是 [00,01,11,10] 。\n",
    "\n",
    "- 00 和 01 有一位不同\n",
    "- 01 和 11 有一位不同\n",
    "- 11 和 10 有一位不同\n",
    "- 10 和 00 有一位不同\n",
    "\n",
    "[0,2,3,1] 也是一个有效的格雷码序列，其二进制表示是 [00,10,11,01] 。\n",
    "\n",
    "- 00 和 10 有一位不同\n",
    "- 10 和 11 有一位不同\n",
    "- 11 和 01 有一位不同\n",
    "- 01 和 00 有一位不同\n",
    "\n",
    "### 示例 2：\n",
    "\n",
    "输入：n = 1\n",
    "\n",
    "输出：[0,1]\n",
    "\n",
    "## 三、解题思路\n",
    "\n",
    "### 对称生成\n",
    "\n",
    "假设我们已经获取到 n-1 位的格雷码序列 $ G_{n-1} $，我们只需要将 $ G_{n-1} $对称翻转，记作$ G_{n-1}^T $。$ G_{n-1} $的首元素和 $ G_{n-1}^T $的尾元素都是相同的，反之亦然。如果我们给$ G_{n-1}^T $的每个元素都加上$ 2^{n-1} $，记作 $ (G_{n-1}^T)' $，则 $ G_{n-1} $的首元素和$ (G_{n-1}^T)' $的尾元素只有一位不相同，反之亦然。因此 $ G_{n-1} $和 $ (G_{n-1}^T)' $拼接的序列 $ G_n=[G_{n-1},~(G_{n-1}^T)'] $满足 nn 位的格雷码的定义。初始值$ G_0 = [0] $\n",
    "\n",
    "```\n",
    "作者：LeetCode-Solution\n",
    "链接：https://leetcode-cn.com/problems/gray-code/solution/ge-lei-bian-ma-by-leetcode-solution-cqi7/\n",
    "来源：力扣（LeetCode）\n",
    "著作权归作者所有。商业转载请联系作者获得授权，非商业转载请注明出处。\n",
    "```"
   ]
  },
  {
   "cell_type": "code",
   "execution_count": 1,
   "metadata": {},
   "outputs": [],
   "source": [
    "def grayCode(n: int):\n",
    "    ans = [0]\n",
    "    for i in range(1, n + 1):\n",
    "        for j in range(len(ans) - 1, -1, -1):\n",
    "            ans.append(ans[j] | (1 << (i - 1)))\n",
    "    return ans"
   ]
  },
  {
   "cell_type": "code",
   "execution_count": 2,
   "metadata": {},
   "outputs": [
    {
     "data": {
      "text/plain": [
       "[0, 1, 3, 2]"
      ]
     },
     "execution_count": 2,
     "metadata": {},
     "output_type": "execute_result"
    }
   ],
   "source": [
    "grayCode(2)"
   ]
  },
  {
   "cell_type": "code",
   "execution_count": 3,
   "metadata": {},
   "outputs": [
    {
     "data": {
      "text/plain": [
       "[0, 1]"
      ]
     },
     "execution_count": 3,
     "metadata": {},
     "output_type": "execute_result"
    }
   ],
   "source": [
    "grayCode(1)"
   ]
  },
  {
   "cell_type": "code",
   "execution_count": null,
   "metadata": {},
   "outputs": [],
   "source": []
  }
 ],
 "metadata": {
  "kernelspec": {
   "display_name": "Python 3",
   "language": "python",
   "name": "python3"
  },
  "language_info": {
   "codemirror_mode": {
    "name": "ipython",
    "version": 3
   },
   "file_extension": ".py",
   "mimetype": "text/x-python",
   "name": "python",
   "nbconvert_exporter": "python",
   "pygments_lexer": "ipython3",
   "version": "3.6.5"
  }
 },
 "nbformat": 4,
 "nbformat_minor": 2
}
