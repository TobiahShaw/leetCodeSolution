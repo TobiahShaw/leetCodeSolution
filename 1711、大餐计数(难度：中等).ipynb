{
 "cells": [
  {
   "cell_type": "markdown",
   "metadata": {},
   "source": [
    "# 大餐计数\n",
    "\n",
    "**题目来源：力扣（LeetCode）**\n",
    "\n",
    "**链接：https://leetcode-cn.com/problems/count-good-meals/**\n",
    "\n",
    "## 一、题目\n",
    "\n",
    "大餐 是指 恰好包含两道不同餐品 的一餐，其美味程度之和等于 2 的幂。\n",
    "\n",
    "你可以搭配 任意 两道餐品做一顿大餐。\n",
    "\n",
    "给你一个整数数组 deliciousness ，其中 deliciousness[i] 是第 i 道餐品的美味程度，返回你可以用数组中的餐品做出的不同 大餐 的数量。结果需要对 10^9 + 7 取余。\n",
    "\n",
    "注意，只要餐品下标不同，就可以认为是不同的餐品，即便它们的美味程度相同。\n",
    "\n",
    "### 提示：\n",
    "\n",
    "- 1 <= deliciousness.length <= 10^5\n",
    "- 0 <= deliciousness[i] <= 2^20\n",
    "\n",
    "## 二、示例\n",
    "\n",
    "### 示例 1：\n",
    "\n",
    "输入：deliciousness = [1,3,5,7,9]\n",
    "\n",
    "输出：4\n",
    "\n",
    "解释：大餐的美味程度组合为 (1,3) 、(1,7) 、(3,5) 和 (7,9) 。它们各自的美味程度之和分别为 4 、8 、8 和 16 ，都是 2 的幂。\n",
    "\n",
    "### 示例 2：\n",
    "\n",
    "输入：deliciousness = [1,1,1,3,3,3,7]\n",
    "\n",
    "输出：15\n",
    "\n",
    "解释：大餐的美味程度组合为 3 种 (1,1) ，9 种 (1,3) ，和 3 种 (1,7) 。\n",
    "\n",
    "## 三、解题思路\n",
    "\n",
    "### 变种两数之和（利用字典）"
   ]
  },
  {
   "cell_type": "code",
   "execution_count": 1,
   "metadata": {},
   "outputs": [],
   "source": [
    "def countPairs(deliciousness) -> int:\n",
    "    ret = 0\n",
    "    dic = {}\n",
    "    n = len(deliciousness)\n",
    "    for i in range(n):\n",
    "        # 此处最大取到2^21是因为是两个deliciousness[i]的和，而题目中0 <= deliciousness[i] <= 2^20\n",
    "        for j in range(0, 22):\n",
    "            target = 2 ** j\n",
    "            if target - deliciousness[i] < 0:\n",
    "                continue\n",
    "            if target - deliciousness[i] in dic:\n",
    "                ret += dic[target - deliciousness[i]]\n",
    "        if deliciousness[i] in dic:\n",
    "            dic[deliciousness[i]] += 1\n",
    "        else:\n",
    "            dic[deliciousness[i]] = 1\n",
    "    return ret % (10**9 + 7)"
   ]
  },
  {
   "cell_type": "code",
   "execution_count": 2,
   "metadata": {},
   "outputs": [
    {
     "data": {
      "text/plain": [
       "4"
      ]
     },
     "execution_count": 2,
     "metadata": {},
     "output_type": "execute_result"
    }
   ],
   "source": [
    "countPairs([1,3,5,7,9])"
   ]
  },
  {
   "cell_type": "code",
   "execution_count": 3,
   "metadata": {},
   "outputs": [
    {
     "data": {
      "text/plain": [
       "15"
      ]
     },
     "execution_count": 3,
     "metadata": {},
     "output_type": "execute_result"
    }
   ],
   "source": [
    "countPairs([1,1,1,3,3,3,7])"
   ]
  },
  {
   "cell_type": "code",
   "execution_count": null,
   "metadata": {},
   "outputs": [],
   "source": []
  }
 ],
 "metadata": {
  "kernelspec": {
   "display_name": "Python 3",
   "language": "python",
   "name": "python3"
  },
  "language_info": {
   "codemirror_mode": {
    "name": "ipython",
    "version": 3
   },
   "file_extension": ".py",
   "mimetype": "text/x-python",
   "name": "python",
   "nbconvert_exporter": "python",
   "pygments_lexer": "ipython3",
   "version": "3.6.5"
  }
 },
 "nbformat": 4,
 "nbformat_minor": 2
}
