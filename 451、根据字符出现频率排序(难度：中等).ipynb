{
 "cells": [
  {
   "cell_type": "markdown",
   "metadata": {},
   "source": [
    "# 根据字符出现频率排序\n",
    "\n",
    "**题目来源：力扣（LeetCode）**\n",
    "\n",
    "**链接：https://leetcode-cn.com/problems/sort-characters-by-frequency/**\n",
    "\n",
    "## 一、题目\n",
    "\n",
    "给定一个字符串，请将字符串里的字符按照出现的频率降序排列。\n",
    "\n",
    "## 二、示例\n",
    "\n",
    "### 示例 1：\n",
    "\n",
    "输入:\"tree\"\n",
    "\n",
    "输出:\"eert\"\n",
    "\n",
    "解释:\n",
    "\n",
    "'e'出现两次，'r'和't'都只出现一次。因此'e'必须出现在'r'和't'之前。此外，\"eetr\"也是一个有效的答案。\n",
    "\n",
    "### 示例 2:\n",
    "\n",
    "输入:\"cccaaa\"\n",
    "\n",
    "输出:\"cccaaa\"\n",
    "\n",
    "解释:\n",
    "\n",
    "'c'和'a'都出现三次。此外，\"aaaccc\"也是有效的答案。注意\"cacaca\"是不正确的，因为相同的字母必须放在一起。\n",
    "\n",
    "### 示例 3:\n",
    "\n",
    "输入:\"Aabb\"\n",
    "\n",
    "输出:\"bbAa\"\n",
    "\n",
    "解释:\n",
    "\n",
    "此外，\"bbaA\"也是一个有效的答案，但\"Aabb\"是不正确的。注意'A'和'a'被认为是两种不同的字符。\n",
    "\n",
    "## 三、解题思路\n",
    "\n",
    "### 自定义排序"
   ]
  },
  {
   "cell_type": "code",
   "execution_count": 1,
   "metadata": {},
   "outputs": [],
   "source": [
    "def frequencySort(s: str) -> str:\n",
    "    dic = {}\n",
    "    for ch in s:\n",
    "        if ch in dic:\n",
    "            dic[ch] += 1\n",
    "        else:\n",
    "            dic[ch] = 1\n",
    "    ret = sorted(dic.keys(), key = lambda x : -dic[x])\n",
    "    return \"\".join(ch * dic[ch] for ch in ret)"
   ]
  },
  {
   "cell_type": "code",
   "execution_count": 2,
   "metadata": {},
   "outputs": [
    {
     "data": {
      "text/plain": [
       "'eetr'"
      ]
     },
     "execution_count": 2,
     "metadata": {},
     "output_type": "execute_result"
    }
   ],
   "source": [
    "frequencySort(\"tree\")"
   ]
  },
  {
   "cell_type": "code",
   "execution_count": 3,
   "metadata": {},
   "outputs": [
    {
     "data": {
      "text/plain": [
       "'cccaaa'"
      ]
     },
     "execution_count": 3,
     "metadata": {},
     "output_type": "execute_result"
    }
   ],
   "source": [
    "frequencySort(\"cccaaa\")"
   ]
  },
  {
   "cell_type": "code",
   "execution_count": 4,
   "metadata": {},
   "outputs": [
    {
     "data": {
      "text/plain": [
       "'bbAa'"
      ]
     },
     "execution_count": 4,
     "metadata": {},
     "output_type": "execute_result"
    }
   ],
   "source": [
    "frequencySort(\"Aabb\")"
   ]
  },
  {
   "cell_type": "code",
   "execution_count": null,
   "metadata": {},
   "outputs": [],
   "source": []
  }
 ],
 "metadata": {
  "kernelspec": {
   "display_name": "Python 3",
   "language": "python",
   "name": "python3"
  },
  "language_info": {
   "codemirror_mode": {
    "name": "ipython",
    "version": 3
   },
   "file_extension": ".py",
   "mimetype": "text/x-python",
   "name": "python",
   "nbconvert_exporter": "python",
   "pygments_lexer": "ipython3",
   "version": "3.6.5"
  }
 },
 "nbformat": 4,
 "nbformat_minor": 2
}
