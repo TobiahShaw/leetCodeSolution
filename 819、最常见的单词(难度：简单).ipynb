{
 "cells": [
  {
   "cell_type": "markdown",
   "metadata": {},
   "source": [
    "# 最常见的单词\n",
    "\n",
    "**题目来源：力扣（LeetCode）**\n",
    "\n",
    "**链接：https://leetcode-cn.com/problems/most-common-word/**\n",
    "\n",
    "## 一、题目\n",
    "\n",
    "给定一个段落 (paragraph) 和一个禁用单词列表 (banned)。返回出现次数最多，同时不在禁用列表中的单词。\n",
    "\n",
    "题目保证至少有一个词不在禁用列表中，而且答案唯一。\n",
    "\n",
    "禁用列表中的单词用小写字母表示，不含标点符号。段落中的单词不区分大小写。答案都是小写字母。\n",
    "\n",
    "### 提示：\n",
    "\n",
    "- 1 <= 段落长度 <= 1000\n",
    "- 0 <= 禁用单词个数 <= 100\n",
    "- 1 <= 禁用单词长度 <= 10\n",
    "- 答案是唯一的, 且都是小写字母 (即使在 paragraph 里是大写的，即使是一些特定的名词，答案都是小写的。)\n",
    "- paragraph 只包含字母、空格和下列标点符号!?',;.\n",
    "- 不存在没有连字符或者带有连字符的单词。\n",
    "- 单词里只包含字母，不会出现省略号或者其他标点符号。\n",
    "\n",
    "## 二、示例\n",
    "\n",
    "输入: \n",
    "paragraph = \"Bob hit a ball, the hit BALL flew far after it was hit.\"\n",
    "\n",
    "banned = [\"hit\"]\n",
    "\n",
    "输出: \"ball\"\n",
    "\n",
    "解释: \n",
    "\n",
    "\"hit\" 出现了3次，但它是一个禁用的单词。\n",
    "\n",
    "\"ball\" 出现了2次 (同时没有其他单词出现2次)，所以它是段落里出现次数最多的，且不在禁用列表中的单词。 \n",
    "\n",
    "注意，所有这些单词在段落里不区分大小写，标点符号需要忽略（即使是紧挨着单词也忽略， 比如 \"ball,\"），\n",
    "\n",
    "\"hit\"不是最终的答案，虽然它出现次数更多，但它在禁用单词列表中。\n",
    "\n",
    "## 三、解题思路\n",
    "\n",
    "### hash表"
   ]
  },
  {
   "cell_type": "code",
   "execution_count": 1,
   "metadata": {},
   "outputs": [],
   "source": [
    "def mostCommonWord(paragraph: str, banned) -> str:\n",
    "    dic = {}\n",
    "    tmp = []\n",
    "    ret = None\n",
    "    maxCount = 0\n",
    "    bannedSet = set(banned)\n",
    "    for ch in paragraph:\n",
    "        if ch.isalpha():\n",
    "            tmp.append(ch)\n",
    "        else:\n",
    "            if not tmp:\n",
    "                continue\n",
    "            word = \"\".join(tmp).lower()\n",
    "            tmp.clear()\n",
    "            dic[word] = dic.get(word, 0) + 1\n",
    "            if word not in bannedSet and dic[word] > maxCount:\n",
    "                maxCount = dic[word]\n",
    "                ret = word\n",
    "    if tmp:\n",
    "        word = \"\".join(tmp).lower()\n",
    "        tmp.clear()\n",
    "        dic[word] = dic.get(word, 0) + 1\n",
    "        if word not in bannedSet and dic[word] > maxCount:\n",
    "                maxCount = dic[word]\n",
    "                ret = word\n",
    "    return ret"
   ]
  },
  {
   "cell_type": "code",
   "execution_count": 2,
   "metadata": {},
   "outputs": [
    {
     "data": {
      "text/plain": [
       "'ball'"
      ]
     },
     "execution_count": 2,
     "metadata": {},
     "output_type": "execute_result"
    }
   ],
   "source": [
    "mostCommonWord(paragraph = \"Bob hit a ball, the hit BALL flew far after it was hit.\", banned = [\"hit\"])"
   ]
  },
  {
   "cell_type": "code",
   "execution_count": null,
   "metadata": {},
   "outputs": [],
   "source": []
  }
 ],
 "metadata": {
  "kernelspec": {
   "display_name": "Python 3",
   "language": "python",
   "name": "python3"
  },
  "language_info": {
   "codemirror_mode": {
    "name": "ipython",
    "version": 3
   },
   "file_extension": ".py",
   "mimetype": "text/x-python",
   "name": "python",
   "nbconvert_exporter": "python",
   "pygments_lexer": "ipython3",
   "version": "3.6.5"
  }
 },
 "nbformat": 4,
 "nbformat_minor": 2
}
