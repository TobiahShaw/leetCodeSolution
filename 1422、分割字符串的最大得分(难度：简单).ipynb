{
 "cells": [
  {
   "cell_type": "markdown",
   "metadata": {},
   "source": [
    "# 分割字符串的最大得分\n",
    "\n",
    "\n",
    "**题目来源：力扣（LeetCode）**\n",
    "\n",
    "**链接：https://leetcode.cn/problems/maximum-score-after-splitting-a-string/**\n",
    "\n",
    "## 一、题目\n",
    "\n",
    "给你一个由若干 0 和 1 组成的字符串 s ，请你计算并返回将该字符串分割成两个 非空 子字符串（即 左 子字符串和 右 子字符串）所能获得的最大得分。\n",
    "\n",
    "「分割字符串的得分」为 左 子字符串中 0 的数量加上 右 子字符串中 1 的数量。\n",
    "\n",
    "### 提示：\n",
    "\n",
    "- 2 <= s.length <= 500\n",
    "- 字符串 s 仅由字符 '0' 和 '1' 组成。\n",
    "\n",
    "## 二、示例\n",
    "\n",
    "### 示例 1：\n",
    "\n",
    "输入：s = \"011101\"\n",
    "\n",
    "输出：5 \n",
    "\n",
    "解释：\n",
    "\n",
    "将字符串 s 划分为两个非空子字符串的可行方案有：\n",
    "\n",
    "- 左子字符串 = \"0\" 且 右子字符串 = \"11101\"，得分 = 1 + 4 = 5 \n",
    "- 左子字符串 = \"01\" 且 右子字符串 = \"1101\"，得分 = 1 + 3 = 4 \n",
    "- 左子字符串 = \"011\" 且 右子字符串 = \"101\"，得分 = 1 + 2 = 3 \n",
    "- 左子字符串 = \"0111\" 且 右子字符串 = \"01\"，得分 = 1 + 1 = 2 \n",
    "- 左子字符串 = \"01110\" 且 右子字符串 = \"1\"，得分 = 2 + 1 = 3\n",
    "\n",
    "### 示例 2：\n",
    "\n",
    "输入：s = \"00111\"\n",
    "\n",
    "输出：5\n",
    "\n",
    "解释：当 左子字符串 = \"00\" 且 右子字符串 = \"111\" 时，我们得到最大得分 = 2 + 3 = 5\n",
    "\n",
    "### 示例 3：\n",
    "\n",
    "输入：s = \"1111\"\n",
    "\n",
    "输出：3\n",
    "\n",
    "## 三、解题思路\n",
    "\n",
    "### 迭代"
   ]
  },
  {
   "cell_type": "code",
   "execution_count": 1,
   "metadata": {},
   "outputs": [],
   "source": [
    "class Solution:\n",
    "    def maxScore(self, s: str) -> int:\n",
    "        l, r = s[0].count(\"0\"), s[1:].count(\"1\")\n",
    "        ret = l + r\n",
    "        n = len(s)\n",
    "        for i in range(1, n-1):\n",
    "            if s[i] == \"0\":\n",
    "                l += 1\n",
    "            else:\n",
    "                r -= 1\n",
    "            ret = max(ret, l+r)\n",
    "        return ret"
   ]
  },
  {
   "cell_type": "code",
   "execution_count": 2,
   "metadata": {},
   "outputs": [
    {
     "data": {
      "text/plain": [
       "5"
      ]
     },
     "execution_count": 2,
     "metadata": {},
     "output_type": "execute_result"
    }
   ],
   "source": [
    "s = Solution()\n",
    "s.maxScore(\"011101\")"
   ]
  },
  {
   "cell_type": "code",
   "execution_count": 3,
   "metadata": {},
   "outputs": [
    {
     "data": {
      "text/plain": [
       "5"
      ]
     },
     "execution_count": 3,
     "metadata": {},
     "output_type": "execute_result"
    }
   ],
   "source": [
    "s.maxScore(\"00111\")"
   ]
  },
  {
   "cell_type": "code",
   "execution_count": 4,
   "metadata": {},
   "outputs": [
    {
     "data": {
      "text/plain": [
       "3"
      ]
     },
     "execution_count": 4,
     "metadata": {},
     "output_type": "execute_result"
    }
   ],
   "source": [
    "s.maxScore(\"1111\")"
   ]
  },
  {
   "cell_type": "code",
   "execution_count": null,
   "metadata": {},
   "outputs": [],
   "source": []
  }
 ],
 "metadata": {
  "kernelspec": {
   "display_name": "Python 3.10.4 64-bit",
   "language": "python",
   "name": "python3"
  },
  "language_info": {
   "codemirror_mode": {
    "name": "ipython",
    "version": 3
   },
   "file_extension": ".py",
   "mimetype": "text/x-python",
   "name": "python",
   "nbconvert_exporter": "python",
   "pygments_lexer": "ipython3",
   "version": "3.10.4"
  },
  "orig_nbformat": 4,
  "vscode": {
   "interpreter": {
    "hash": "4f946df053fbf2b937619d3c5458e7af74262f9a954d8797ba0b27400bcafe06"
   }
  }
 },
 "nbformat": 4,
 "nbformat_minor": 2
}
