{
  "cells": [
    {
      "metadata": {
        "collapsed": true
      },
      "cell_type": "markdown",
      "source": "# 最长连续序列\n\n**题目来源：力扣（LeetCode）**\n\n**链接：https://leetcode-cn.com/problems/longest-consecutive-sequence/**\n\n## 一、题目\n\n给定一个未排序的整数数组，找出最长连续序列的长度。\n\n要求算法的时间复杂度为 O(n)。\n\n## 二、示例\n\n输入: [100, 4, 200, 1, 3, 2]\n\n输出: 4\n\n解释: 最长连续序列是 [1, 2, 3, 4]。它的长度为 4。\n\n## 三、解题思路\n\n### 利用集合\n\n我们假设数组中存在m个连续序列，比较好的方法应该是从每个连续子序列的最小值，x开始，判断是否存在x+1，x+2...，x+n，得到每个子序列的长度，然后取最长的一个。\n\n这样相当于遍历了整个数组，时间复杂度为O(n)。\n\n但是，我们很有可能从x+j开始计算，导致很多重复的计算使得最坏的复杂度为O(n^2)，为了解决这个问题，我们可以将数组放入集合去重后遍历，判断当前数字-1是否存在，存在则跳过计数。"
    },
    {
      "metadata": {
        "trusted": true
      },
      "cell_type": "code",
      "source": "def longestConsecutive(nums) -> int:\n    longest = 0\n    numsSet = set(nums)\n    for i in numsSet:\n        if i - 1 in numsSet:\n            continue\n        curlongest = 1\n        for j in range(1, len(numsSet)):\n            if i + j in numsSet:\n                curlongest += 1\n            else:\n                break\n        longest = max(longest, curlongest)\n    return longest",
      "execution_count": 1,
      "outputs": []
    },
    {
      "metadata": {
        "trusted": true
      },
      "cell_type": "code",
      "source": "longestConsecutive([100, 4, 200, 1, 3, 2])",
      "execution_count": 2,
      "outputs": [
        {
          "output_type": "execute_result",
          "execution_count": 2,
          "data": {
            "text/plain": "4"
          },
          "metadata": {}
        }
      ]
    },
    {
      "metadata": {
        "trusted": true
      },
      "cell_type": "code",
      "source": "",
      "execution_count": null,
      "outputs": []
    }
  ],
  "metadata": {
    "kernelspec": {
      "name": "python36",
      "display_name": "Python 3.6",
      "language": "python"
    },
    "language_info": {
      "mimetype": "text/x-python",
      "nbconvert_exporter": "python",
      "name": "python",
      "pygments_lexer": "ipython3",
      "version": "3.6.6",
      "file_extension": ".py",
      "codemirror_mode": {
        "version": 3,
        "name": "ipython"
      }
    }
  },
  "nbformat": 4,
  "nbformat_minor": 2
}