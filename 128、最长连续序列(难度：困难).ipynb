{
 "cells": [
  {
   "cell_type": "markdown",
   "metadata": {
    "collapsed": true
   },
   "source": [
    "# 最长连续序列\n",
    "\n",
    "**题目来源：力扣（LeetCode）**\n",
    "\n",
    "**链接：https://leetcode-cn.com/problems/longest-consecutive-sequence/**\n",
    "\n",
    "## 一、题目\n",
    "\n",
    "给定一个未排序的整数数组 nums ，找出数字连续的最长序列（不要求序列元素在原数组中连续）的长度。\n",
    "\n",
    "要求算法的时间复杂度为 O(n)。\n",
    "\n",
    "### 提示：\n",
    "\n",
    "- 0 <= nums.length <= 10^5\n",
    "- -10^9 <= nums[i] <= 10^^9\n",
    "\n",
    "## 二、示例\n",
    "\n",
    "### 示例 1：\n",
    "\n",
    "输入：nums = [100,4,200,1,3,2]\n",
    "\n",
    "输出：4\n",
    "\n",
    "解释：最长数字连续序列是 [1, 2, 3, 4]。它的长度为 4。\n",
    "\n",
    "### 示例 2：\n",
    "\n",
    "输入：nums = [0,3,7,2,5,8,4,6,0,1]\n",
    "\n",
    "输出：9\n",
    "\n",
    "## 三、解题思路\n",
    "\n",
    "### 利用集合\n",
    "\n",
    "我们假设数组中存在m个连续序列，比较好的方法应该是从每个连续子序列的最小值，x开始，判断是否存在x+1，x+2...，x+n，得到每个子序列的长度，然后取最长的一个。\n",
    "\n",
    "这样相当于遍历了整个数组，时间复杂度为O(n)。\n",
    "\n",
    "但是，我们很有可能从x+j开始计算，导致很多重复的计算使得最坏的复杂度为O(n^2)，为了解决这个问题，我们可以将数组放入集合去重后遍历，判断当前数字-1是否存在，存在则跳过计数。"
   ]
  },
  {
   "cell_type": "code",
   "execution_count": 1,
   "metadata": {},
   "outputs": [],
   "source": [
    "def longestConsecutive(nums) -> int:\n",
    "    longest = 0\n",
    "    numsSet = set(nums)\n",
    "    for i in numsSet:\n",
    "        if i - 1 in numsSet:\n",
    "            continue\n",
    "        curlongest = 1\n",
    "        for j in range(1, len(numsSet)):\n",
    "            if i + j in numsSet:\n",
    "                curlongest += 1\n",
    "            else:\n",
    "                break\n",
    "        longest = max(longest, curlongest)\n",
    "    return longest"
   ]
  },
  {
   "cell_type": "code",
   "execution_count": 2,
   "metadata": {},
   "outputs": [
    {
     "data": {
      "text/plain": [
       "4"
      ]
     },
     "execution_count": 2,
     "metadata": {},
     "output_type": "execute_result"
    }
   ],
   "source": [
    "longestConsecutive([100, 4, 200, 1, 3, 2])"
   ]
  },
  {
   "cell_type": "code",
   "execution_count": 3,
   "metadata": {},
   "outputs": [
    {
     "data": {
      "text/plain": [
       "9"
      ]
     },
     "execution_count": 3,
     "metadata": {},
     "output_type": "execute_result"
    }
   ],
   "source": [
    "longestConsecutive([0,3,7,2,5,8,4,6,0,1])"
   ]
  },
  {
   "cell_type": "code",
   "execution_count": null,
   "metadata": {},
   "outputs": [],
   "source": []
  }
 ],
 "metadata": {
  "kernelspec": {
   "display_name": "Python 3",
   "language": "python",
   "name": "python3"
  },
  "language_info": {
   "codemirror_mode": {
    "name": "ipython",
    "version": 3
   },
   "file_extension": ".py",
   "mimetype": "text/x-python",
   "name": "python",
   "nbconvert_exporter": "python",
   "pygments_lexer": "ipython3",
   "version": "3.6.5"
  }
 },
 "nbformat": 4,
 "nbformat_minor": 2
}
