{
  "cells": [
    {
      "metadata": {
        "collapsed": true
      },
      "cell_type": "markdown",
      "source": "# 合并两个有序数组\n\n**题目来源：力扣（LeetCode）**\n\n**链接：https://leetcode-cn.com/problems/merge-sorted-array/**\n\n## 一、题目\n\n给定两个有序整数数组 nums1 和 nums2，将 nums2 合并到 nums1 中，使得 num1 成为一个有序数组。\n\n说明:\n\n- 初始化 nums1 和 nums2 的元素数量分别为 m 和 n。\n- 你可以假设 nums1 有足够的空间（空间大小大于或等于 m + n）来保存 nums2 中的元素。\n\n## 二、示例\n\n输入:\n\nnums1 = [1,2,3,0,0,0], m = 3\n\nnums2 = [2,5,6], n = 3\n\n输出: [1,2,2,3,5,6]\n\n## 三、解题思路\n\n### 一、合并后排序"
    },
    {
      "metadata": {
        "trusted": true
      },
      "cell_type": "code",
      "source": "nums1 = [1,2,3,0,0,0]\nm = 3\nnums2 = [2,5,6]\nn = 3",
      "execution_count": 1,
      "outputs": []
    },
    {
      "metadata": {
        "trusted": true
      },
      "cell_type": "code",
      "source": "def merge(nums1, m, nums2, n):\n    nums1[:] = sorted(nums1[:m] + nums2)",
      "execution_count": 2,
      "outputs": []
    },
    {
      "metadata": {
        "trusted": true
      },
      "cell_type": "code",
      "source": "merge(nums1, m, nums2, n)\nnums1",
      "execution_count": 3,
      "outputs": [
        {
          "output_type": "execute_result",
          "execution_count": 3,
          "data": {
            "text/plain": "[1, 2, 2, 3, 5, 6]"
          },
          "metadata": {}
        }
      ]
    },
    {
      "metadata": {},
      "cell_type": "markdown",
      "source": "### 二、双指针"
    },
    {
      "metadata": {
        "trusted": true
      },
      "cell_type": "code",
      "source": "nums1 = [1,2,3,0,0,0]\nm = 3\nnums2 = [2,5,6]\nn = 3",
      "execution_count": 4,
      "outputs": []
    },
    {
      "metadata": {
        "trusted": true
      },
      "cell_type": "code",
      "source": "def merge(nums1, m, nums2, n):\n    nums1_copy = nums1[:m]\n    nums1[:] = []\n\n    p1 = 0 \n    p2 = 0\n        \n    while p1 < m and p2 < n: \n        if nums1_copy[p1] < nums2[p2]: \n            nums1.append(nums1_copy[p1])\n            p1 += 1\n        else:\n            nums1.append(nums2[p2])\n            p2 += 1\n    if p1 < m: \n        nums1[p1 + p2:] = nums1_copy[p1:]\n    if p2 < n:\n        nums1[p1 + p2:] = nums2[p2:]",
      "execution_count": 5,
      "outputs": []
    },
    {
      "metadata": {
        "trusted": true
      },
      "cell_type": "code",
      "source": "merge(nums1, m, nums2, n)\nnums1",
      "execution_count": 6,
      "outputs": [
        {
          "output_type": "execute_result",
          "execution_count": 6,
          "data": {
            "text/plain": "[1, 2, 2, 3, 5, 6]"
          },
          "metadata": {}
        }
      ]
    },
    {
      "metadata": {},
      "cell_type": "markdown",
      "source": "### 三、三指针"
    },
    {
      "metadata": {
        "trusted": true
      },
      "cell_type": "code",
      "source": "nums1 = [1,2,3,0,0,0]\nm = 3\nnums2 = [2,5,6]\nn = 3",
      "execution_count": 7,
      "outputs": []
    },
    {
      "metadata": {
        "trusted": true
      },
      "cell_type": "code",
      "source": "def merge(nums1, m, nums2, n):\n    p1 = m - 1\n    p2 = n - 1\n    p = m + n - 1\n        \n    while p1 >= 0 and p2 >= 0:\n        if nums1[p1] < nums2[p2]:\n            nums1[p] = nums2[p2]\n            p2 -= 1\n        else:\n            nums1[p] =  nums1[p1]\n            p1 -= 1\n        p -= 1\n        \n    nums1[:p2 + 1] = nums2[:p2 + 1]",
      "execution_count": 8,
      "outputs": []
    },
    {
      "metadata": {
        "trusted": true
      },
      "cell_type": "code",
      "source": "merge(nums1, m, nums2, n)\nnums1",
      "execution_count": 9,
      "outputs": [
        {
          "output_type": "execute_result",
          "execution_count": 9,
          "data": {
            "text/plain": "[1, 2, 2, 3, 5, 6]"
          },
          "metadata": {}
        }
      ]
    },
    {
      "metadata": {
        "trusted": true
      },
      "cell_type": "code",
      "source": "",
      "execution_count": null,
      "outputs": []
    }
  ],
  "metadata": {
    "kernelspec": {
      "name": "python36",
      "display_name": "Python 3.6",
      "language": "python"
    },
    "language_info": {
      "mimetype": "text/x-python",
      "nbconvert_exporter": "python",
      "name": "python",
      "pygments_lexer": "ipython3",
      "version": "3.6.6",
      "file_extension": ".py",
      "codemirror_mode": {
        "version": 3,
        "name": "ipython"
      }
    }
  },
  "nbformat": 4,
  "nbformat_minor": 2
}