{
 "cells": [
  {
   "cell_type": "markdown",
   "metadata": {},
   "source": [
    "# 环形数组是否存在循环\n",
    "\n",
    "**题目来源：力扣（LeetCode）**\n",
    "\n",
    "**链接：https://leetcode-cn.com/problems/circular-array-loop/**\n",
    "\n",
    "## 一、题目\n",
    "\n",
    "存在一个不含 0 的 环形 数组 nums ，每个 nums[i] 都表示位于下标 i 的角色应该向前或向后移动的下标个数：\n",
    "\n",
    "- 如果 nums[i] 是正数，向前 移动 nums[i] 步\n",
    "- 如果 nums[i] 是负数，向后 移动 nums[i] 步\n",
    "\n",
    "因为数组是 环形 的，所以可以假设从最后一个元素向前移动一步会到达第一个元素，而第一个元素向后移动一步会到达最后一个元素。\n",
    "\n",
    "数组中的 循环 由长度为 k 的下标序列 seq ：\n",
    "\n",
    "- 遵循上述移动规则将导致重复下标序列 seq[0] -> seq[1] -> ... -> seq[k - 1] -> seq[0] -> ...\n",
    "- 所有 nums[seq[j]] 应当不是 全正 就是 全负\n",
    "- k > 1\n",
    "\n",
    "如果 nums 中存在循环，返回 true ；否则，返回 false 。\n",
    "\n",
    "### 提示：\n",
    "\n",
    "- 1 <= nums.length <= 5000\n",
    "- -1000 <= nums[i] <= 1000\n",
    "- nums[i] != 0\n",
    "\n",
    "### 进阶：\n",
    "\n",
    "你能设计一个时间复杂度为 O(n) 且额外空间复杂度为 O(1) 的算法吗？\n",
    "\n",
    "## 二、示例\n",
    "\n",
    "### 示例 1：\n",
    "\n",
    "输入：nums = [2,-1,1,2,2]\n",
    "\n",
    "输出：true\n",
    "\n",
    "解释：存在循环，按下标 0 -> 2 -> 3 -> 0 。循环长度为 3 。\n",
    "\n",
    "### 示例 2：\n",
    "\n",
    "输入：nums = [-1,2]\n",
    "\n",
    "输出：false\n",
    "\n",
    "解释：按下标 1 -> 1 -> 1 ... 的运动无法构成循环，因为循环的长度为 1 。根据定义，循环的长度必须大于 1 。\n",
    "\n",
    "### 示例 3:\n",
    "\n",
    "输入：nums = [-2,1,-1,-2,-2]\n",
    "\n",
    "输出：false\n",
    "\n",
    "解释：按下标 1 -> 2 -> 1 -> ... 的运动无法构成循环，因为 nums[1] 是正数，而 nums[2] 是负数。所有 nums[seq[j]] 应当不是全正就是全负。\n",
    "\n",
    "## 三、解题思路\n",
    "\n",
    "### 快慢指针"
   ]
  },
  {
   "cell_type": "code",
   "execution_count": 1,
   "metadata": {},
   "outputs": [],
   "source": [
    "def circularArrayLoop(nums) -> bool:\n",
    "    n = len(nums)\n",
    "    def next(cur):\n",
    "        return (cur + nums[cur]) % n\n",
    "    for i in range(n):\n",
    "        if nums[i] == 0:\n",
    "            continue\n",
    "        slow, fast = i, next(i)\n",
    "        # 确认同向\n",
    "        while nums[slow] * nums[fast] > 0 and nums[slow] * nums[next(fast)] > 0:\n",
    "            if fast == slow:\n",
    "                # 排除循环的长度为 1\n",
    "                if slow == next(slow):\n",
    "                    break\n",
    "                return True\n",
    "            slow = next(slow)\n",
    "            fast = next(next(fast))\n",
    "        # 已知无环的节点标记为0直接跳过\n",
    "        add = i\n",
    "        while nums[add] * nums[next(add)] > 0:\n",
    "            nums[add] = 0\n",
    "            add = next(add)\n",
    "    return False"
   ]
  },
  {
   "cell_type": "code",
   "execution_count": 2,
   "metadata": {},
   "outputs": [
    {
     "data": {
      "text/plain": [
       "True"
      ]
     },
     "execution_count": 2,
     "metadata": {},
     "output_type": "execute_result"
    }
   ],
   "source": [
    "circularArrayLoop([2,-1,1,2,2])"
   ]
  },
  {
   "cell_type": "code",
   "execution_count": 3,
   "metadata": {},
   "outputs": [
    {
     "data": {
      "text/plain": [
       "False"
      ]
     },
     "execution_count": 3,
     "metadata": {},
     "output_type": "execute_result"
    }
   ],
   "source": [
    "circularArrayLoop([-1,2])"
   ]
  },
  {
   "cell_type": "code",
   "execution_count": 4,
   "metadata": {},
   "outputs": [
    {
     "data": {
      "text/plain": [
       "False"
      ]
     },
     "execution_count": 4,
     "metadata": {},
     "output_type": "execute_result"
    }
   ],
   "source": [
    "circularArrayLoop([-2,1,-1,-2,-2])"
   ]
  },
  {
   "cell_type": "code",
   "execution_count": null,
   "metadata": {},
   "outputs": [],
   "source": []
  }
 ],
 "metadata": {
  "kernelspec": {
   "display_name": "Python 3",
   "language": "python",
   "name": "python3"
  },
  "language_info": {
   "codemirror_mode": {
    "name": "ipython",
    "version": 3
   },
   "file_extension": ".py",
   "mimetype": "text/x-python",
   "name": "python",
   "nbconvert_exporter": "python",
   "pygments_lexer": "ipython3",
   "version": "3.6.5"
  }
 },
 "nbformat": 4,
 "nbformat_minor": 2
}
