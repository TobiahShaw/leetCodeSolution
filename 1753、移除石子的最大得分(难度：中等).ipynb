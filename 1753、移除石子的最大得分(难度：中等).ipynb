{
 "cells": [
  {
   "cell_type": "markdown",
   "id": "b06669a3",
   "metadata": {},
   "source": [
    "# 移除石子的最大得分\n",
    "\n",
    "**题目来源：力扣（LeetCode）**\n",
    "\n",
    "**链接：https://leetcode.cn/problems/maximum-score-from-removing-stones/**\n",
    "\n",
    "## 一、题目\n",
    "\n",
    "你正在玩一个单人游戏，面前放置着大小分别为 a、b 和 c 的 三堆 石子。\n",
    "\n",
    "每回合你都要从两个 不同的非空堆 中取出一颗石子，并在得分上加 1 分。当存在 两个或更多 的空堆时，游戏停止。\n",
    "\n",
    "给你三个整数 a 、b 和 c ，返回可以得到的 最大分数 。\n",
    "\n",
    "### 提示：\n",
    "\n",
    "- 1 <= a, b, c <= 10^5\n",
    "\n",
    "## 二、示例\n",
    "\n",
    "### 示例 1：\n",
    "\n",
    "输入：a = 2, b = 4, c = 6\n",
    "\n",
    "输出：6\n",
    "\n",
    "解释：石子起始状态是 (2, 4, 6) ，最优的一组操作是：\n",
    "\n",
    "- 从第一和第三堆取，石子状态现在是 (1, 4, 5)\n",
    "- 从第一和第三堆取，石子状态现在是 (0, 4, 4)\n",
    "- 从第二和第三堆取，石子状态现在是 (0, 3, 3)\n",
    "- 从第二和第三堆取，石子状态现在是 (0, 2, 2)\n",
    "- 从第二和第三堆取，石子状态现在是 (0, 1, 1)\n",
    "- 从第二和第三堆取，石子状态现在是 (0, 0, 0)\n",
    "\n",
    "总分：6 分 。\n",
    "\n",
    "### 示例 2：\n",
    "\n",
    "输入：a = 4, b = 4, c = 6\n",
    "\n",
    "输出：7\n",
    "\n",
    "解释：石子起始状态是 (4, 4, 6) ，最优的一组操作是：\n",
    "\n",
    "- 从第一和第二堆取，石子状态现在是 (3, 3, 6)\n",
    "- 从第一和第三堆取，石子状态现在是 (2, 3, 5)\n",
    "- 从第一和第三堆取，石子状态现在是 (1, 3, 4)\n",
    "- 从第一和第三堆取，石子状态现在是 (0, 3, 3)\n",
    "- 从第二和第三堆取，石子状态现在是 (0, 2, 2)\n",
    "- 从第二和第三堆取，石子状态现在是 (0, 1, 1)\n",
    "- 从第二和第三堆取，石子状态现在是 (0, 0, 0)\n",
    "\n",
    "总分：7 分 。\n",
    "\n",
    "### 示例 3：\n",
    "\n",
    "输入：a = 1, b = 8, c = 8\n",
    "\n",
    "输出：8\n",
    "\n",
    "解释：最优的一组操作是连续从第二和第三堆取 8 回合，直到将它们取空。注意，由于第二和第三堆已经空了，游戏结束，不能继续从第一堆中取石子。\n",
    "\n",
    "## 三、解题思路\n",
    "\n",
    "### 贪心\n",
    "\n",
    "如果最大值大于其他两者之和，那么把其他两个用完都不会消耗完最大；如果小于的话，总是消去较大的那两个石头堆就行。"
   ]
  },
  {
   "cell_type": "code",
   "execution_count": 1,
   "id": "bc1499e9",
   "metadata": {},
   "outputs": [],
   "source": [
    "class Solution:\n",
    "    def maximumScore(self, a: int, b: int, c: int) -> int:\n",
    "        max_value = max(a, b, c)\n",
    "        min_value = min(a, b, c)\n",
    "        middle_value = a + b + c - max_value - min_value\n",
    "        if middle_value + min_value <= max_value:\n",
    "            return middle_value + min_value\n",
    "        return (a + b + c) // 2"
   ]
  },
  {
   "cell_type": "code",
   "execution_count": 2,
   "id": "a91e5f9f",
   "metadata": {},
   "outputs": [
    {
     "data": {
      "text/plain": [
       "6"
      ]
     },
     "execution_count": 2,
     "metadata": {},
     "output_type": "execute_result"
    }
   ],
   "source": [
    "s = Solution()\n",
    "s.maximumScore(2, 4, 6)"
   ]
  },
  {
   "cell_type": "code",
   "execution_count": 3,
   "id": "c893d2b6",
   "metadata": {},
   "outputs": [
    {
     "data": {
      "text/plain": [
       "7"
      ]
     },
     "execution_count": 3,
     "metadata": {},
     "output_type": "execute_result"
    }
   ],
   "source": [
    "s.maximumScore(4, 4, 6)"
   ]
  },
  {
   "cell_type": "code",
   "execution_count": 4,
   "id": "57f80adf",
   "metadata": {},
   "outputs": [
    {
     "data": {
      "text/plain": [
       "8"
      ]
     },
     "execution_count": 4,
     "metadata": {},
     "output_type": "execute_result"
    }
   ],
   "source": [
    "s.maximumScore(1, 8, 8)"
   ]
  },
  {
   "cell_type": "code",
   "execution_count": null,
   "id": "5b0399fe",
   "metadata": {},
   "outputs": [],
   "source": []
  }
 ],
 "metadata": {
  "kernelspec": {
   "display_name": "Python 3 (ipykernel)",
   "language": "python",
   "name": "python3"
  },
  "language_info": {
   "codemirror_mode": {
    "name": "ipython",
    "version": 3
   },
   "file_extension": ".py",
   "mimetype": "text/x-python",
   "name": "python",
   "nbconvert_exporter": "python",
   "pygments_lexer": "ipython3",
   "version": "3.11.0"
  }
 },
 "nbformat": 4,
 "nbformat_minor": 5
}
