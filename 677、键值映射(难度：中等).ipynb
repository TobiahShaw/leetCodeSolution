{
 "cells": [
  {
   "cell_type": "markdown",
   "metadata": {},
   "source": [
    "# 键值映射\n",
    "\n",
    "**题目来源：力扣（LeetCode）**\n",
    "\n",
    "**链接：https://leetcode-cn.com/problems/map-sum-pairs/**\n",
    "\n",
    "## 一、题目\n",
    "\n",
    "实现一个 MapSum 类，支持两个方法，insert 和 sum：\n",
    "\n",
    "- MapSum() 初始化 MapSum 对象\n",
    "- void insert(String key, int val) 插入 key-val 键值对，字符串表示键 key ，整数表示值 val 。如果键 key 已经存在，那么原来的键值对将被替代成新的键值对。\n",
    "- int sum(string prefix) 返回所有以该前缀 prefix 开头的键 key 的值的总和。\n",
    "\n",
    "### 提示：\n",
    "\n",
    "- 1 <= key.length, prefix.length <= 50\n",
    "- key 和 prefix 仅由小写英文字母组成\n",
    "- 1 <= val <= 1000\n",
    "- 最多调用 50 次 insert 和 sum\n",
    "\n",
    "## 二、示例\n",
    "\n",
    "输入：\n",
    "\n",
    "[\"MapSum\", \"insert\", \"sum\", \"insert\", \"sum\"]\n",
    "\n",
    "[[], [\"apple\", 3], [\"ap\"], [\"app\", 2], [\"ap\"]]\n",
    "\n",
    "输出：\n",
    "\n",
    "[null, null, 3, null, 5]\n",
    "\n",
    "解释：\n",
    "\n",
    "```\n",
    "mapSum = MapSum()\n",
    "mapSum.insert(\"apple\", 3)  \n",
    "mapSum.sum(\"ap\")           # return 3 (apple = 3)\n",
    "mapSum.insert(\"app\", 2)    \n",
    "mapSum.sum(\"ap\")           # return 5 (apple + app = 3 + 2 = 5)\n",
    "```\n",
    "\n",
    "## 三、解题思路\n",
    "\n",
    "### 一、利用字典"
   ]
  },
  {
   "cell_type": "code",
   "execution_count": 1,
   "metadata": {},
   "outputs": [],
   "source": [
    "class MapSum:\n",
    "\n",
    "    def __init__(self):\n",
    "        self._map = {}\n",
    "\n",
    "    def insert(self, key: str, val: int) -> None:\n",
    "        self._map[key] = val\n",
    "\n",
    "    def sum(self, prefix: str) -> int:\n",
    "        ret = 0\n",
    "        for key in self._map.keys():\n",
    "            if key.startswith(prefix):\n",
    "                ret += self._map[key]\n",
    "        return ret"
   ]
  },
  {
   "cell_type": "code",
   "execution_count": 2,
   "metadata": {},
   "outputs": [
    {
     "name": "stdout",
     "output_type": "stream",
     "text": [
      "3\n",
      "5\n"
     ]
    }
   ],
   "source": [
    "mapSum = MapSum()\n",
    "mapSum.insert(\"apple\", 3)  \n",
    "print(mapSum.sum(\"ap\"))           # return 3 (apple = 3)\n",
    "mapSum.insert(\"app\", 2)    \n",
    "print(mapSum.sum(\"ap\"))           # return 5 (apple + app = 3 + 2 = 5)"
   ]
  },
  {
   "cell_type": "markdown",
   "metadata": {},
   "source": [
    "### 二、字典树"
   ]
  },
  {
   "cell_type": "code",
   "execution_count": 3,
   "metadata": {},
   "outputs": [],
   "source": [
    "class TrieNode:\n",
    "    def __init__(self):\n",
    "        self.val = 0\n",
    "        self.next = [None for _ in range(26)]\n",
    "\n",
    "class MapSum:\n",
    "\n",
    "    def __init__(self):\n",
    "        self.root = TrieNode()\n",
    "\n",
    "    def insert(self, key: str, val: int) -> None:\n",
    "        node = self.root\n",
    "        n = len(key)\n",
    "        for i in range(n):\n",
    "            index = ord(key[i]) - ord('a')\n",
    "            if not node.next[index]:\n",
    "                node.next[index] = TrieNode()\n",
    "            if i == n-1:\n",
    "                node.next[index].val = val\n",
    "            node = node.next[index]\n",
    "    def sum(self, prefix: str) -> int:\n",
    "        def sumOfTrieNode(node):\n",
    "            if not node:\n",
    "                return 0\n",
    "            ret = node.val\n",
    "            for next_node in node.next:\n",
    "                ret += sumOfTrieNode(next_node)\n",
    "            return ret\n",
    "        node = self.root\n",
    "        for ch in prefix:\n",
    "            i = ord(ch) - ord('a')\n",
    "            if not node.next[i]:\n",
    "                return 0\n",
    "            node = node.next[i]\n",
    "        return sumOfTrieNode(node)"
   ]
  },
  {
   "cell_type": "code",
   "execution_count": 4,
   "metadata": {},
   "outputs": [
    {
     "name": "stdout",
     "output_type": "stream",
     "text": [
      "3\n",
      "5\n"
     ]
    }
   ],
   "source": [
    "mapSum = MapSum()\n",
    "mapSum.insert(\"apple\", 3)  \n",
    "print(mapSum.sum(\"ap\"))           # return 3 (apple = 3)\n",
    "mapSum.insert(\"app\", 2)    \n",
    "print(mapSum.sum(\"ap\"))           # return 5 (apple + app = 3 + 2 = 5)"
   ]
  },
  {
   "cell_type": "code",
   "execution_count": null,
   "metadata": {},
   "outputs": [],
   "source": []
  }
 ],
 "metadata": {
  "kernelspec": {
   "display_name": "Python 3",
   "language": "python",
   "name": "python3"
  },
  "language_info": {
   "codemirror_mode": {
    "name": "ipython",
    "version": 3
   },
   "file_extension": ".py",
   "mimetype": "text/x-python",
   "name": "python",
   "nbconvert_exporter": "python",
   "pygments_lexer": "ipython3",
   "version": "3.6.5"
  }
 },
 "nbformat": 4,
 "nbformat_minor": 2
}
