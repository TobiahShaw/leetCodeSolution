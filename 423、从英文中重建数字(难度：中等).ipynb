{
 "cells": [
  {
   "cell_type": "markdown",
   "metadata": {},
   "source": [
    "# 从英文中重建数字\n",
    "\n",
    "**题目来源：力扣（LeetCode）**\n",
    "\n",
    "**链接：https://leetcode-cn.com/problems/reconstruct-original-digits-from-english/**\n",
    "\n",
    "## 一、题目\n",
    "\n",
    "给你一个字符串 s ，其中包含字母顺序打乱的用英文单词表示的若干数字（0-9）。按 升序 返回原始的数字。\n",
    "\n",
    "### 提示：\n",
    "\n",
    "- 1 <= s.length <= 10^5\n",
    "- s[i] 为 [\"e\",\"g\",\"f\",\"i\",\"h\",\"o\",\"n\",\"s\",\"r\",\"u\",\"t\",\"w\",\"v\",\"x\",\"z\"] 这些字符之一\n",
    "- s 保证是一个符合题目要求的字符串\n",
    "\n",
    "## 二、示例\n",
    "\n",
    "### 示例 1：\n",
    "\n",
    "输入：s = \"owoztneoer\"\n",
    "\n",
    "输出：\"012\"\n",
    "\n",
    "### 示例 2：\n",
    "\n",
    "输入：s = \"fviefuro\"\n",
    "\n",
    "输出：\"45\"\n",
    "\n",
    "## 三、解题思路\n",
    "\n",
    "### 依次确定每一个数字的次数"
   ]
  },
  {
   "cell_type": "code",
   "execution_count": 1,
   "metadata": {},
   "outputs": [],
   "source": [
    "def originalDigits(s: str) -> str:\n",
    "    s_dic = {}\n",
    "    for ch in s:\n",
    "        s_dic[ch] = s_dic.get(ch, 0) + 1\n",
    "    nums = [0] * 10\n",
    "    # z 只出现在0中且每个0一次\n",
    "    nums[0] = s_dic.get('z', 0)\n",
    "    # w 只出现在2中且每个2一次\n",
    "    nums[2] = s_dic.get('w', 0)\n",
    "    # u 只出现在4中且每个4一次\n",
    "    nums[4] = s_dic.get('u', 0)\n",
    "    # x 只出现在6中且每个4一次\n",
    "    nums[6] = s_dic.get('x', 0)\n",
    "    # g 只出现在8中且每个8一次\n",
    "    nums[8] = s_dic.get('g', 0)\n",
    "    # h 只出现在数字3 和 8当中，且各一次\n",
    "    nums[3] = s_dic.get('h', 0) - nums[8]\n",
    "    # f 只出现在数字4 和 5当中，且各一次\n",
    "    nums[5] = s_dic.get('f', 0) - nums[4]\n",
    "    # s 只出现在数字6 和 7当中，且各一次\n",
    "    nums[7] = s_dic.get('s', 0) - nums[6]\n",
    "    # o 只出现在数字0、1、2、4 当中，且各一次\n",
    "    nums[1] = s_dic.get('o', 0) - nums[0] - nums[2] - nums[4]\n",
    "    # i 只出现在数字5、6、8、9 当中，且各一次\n",
    "    nums[9] = s_dic.get('i', 0) - nums[5] - nums[6] - nums[8]\n",
    "    return \"\".join([str(i) * nums[i] for i in range(10)])"
   ]
  },
  {
   "cell_type": "code",
   "execution_count": 2,
   "metadata": {},
   "outputs": [
    {
     "data": {
      "text/plain": [
       "'012'"
      ]
     },
     "execution_count": 2,
     "metadata": {},
     "output_type": "execute_result"
    }
   ],
   "source": [
    "originalDigits(\"owoztneoer\")"
   ]
  },
  {
   "cell_type": "code",
   "execution_count": 3,
   "metadata": {},
   "outputs": [
    {
     "data": {
      "text/plain": [
       "'45'"
      ]
     },
     "execution_count": 3,
     "metadata": {},
     "output_type": "execute_result"
    }
   ],
   "source": [
    "originalDigits(\"fviefuro\")"
   ]
  },
  {
   "cell_type": "code",
   "execution_count": null,
   "metadata": {},
   "outputs": [],
   "source": []
  }
 ],
 "metadata": {
  "kernelspec": {
   "display_name": "Python 3",
   "language": "python",
   "name": "python3"
  },
  "language_info": {
   "codemirror_mode": {
    "name": "ipython",
    "version": 3
   },
   "file_extension": ".py",
   "mimetype": "text/x-python",
   "name": "python",
   "nbconvert_exporter": "python",
   "pygments_lexer": "ipython3",
   "version": "3.6.5"
  }
 },
 "nbformat": 4,
 "nbformat_minor": 2
}
