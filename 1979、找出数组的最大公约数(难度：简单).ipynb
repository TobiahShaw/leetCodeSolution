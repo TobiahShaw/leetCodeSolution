{
 "cells": [
  {
   "cell_type": "markdown",
   "metadata": {},
   "source": [
    "# 找出数组的最大公约数\n",
    "\n",
    "**题目来源：力扣（LeetCode）**\n",
    "\n",
    "**链接：https://leetcode-cn.com/problems/find-greatest-common-divisor-of-array/**\n",
    "\n",
    "## 一、题目\n",
    "\n",
    "给你一个整数数组 nums ，返回数组中最大数和最小数的 最大公约数 。\n",
    "\n",
    "两个数的 最大公约数 是能够被两个数整除的最大正整数。\n",
    "\n",
    "### 提示：\n",
    "\n",
    "- 2 <= nums.length <= 1000\n",
    "- 1 <= nums[i] <= 1000\n",
    "\n",
    "## 二、示例\n",
    "\n",
    "### 示例 1：\n",
    "\n",
    "输入：nums = [2,5,6,9,10]\n",
    "\n",
    "输出：2\n",
    "\n",
    "解释：\n",
    "\n",
    "- nums 中最小的数是 2\n",
    "- nums 中最大的数是 10\n",
    "- 2 和 10 的最大公约数是 2\n",
    "\n",
    "### 示例 2：\n",
    "\n",
    "输入：nums = [7,5,6,8,3]\n",
    "\n",
    "输出：1\n",
    "\n",
    "解释：\n",
    "\n",
    "- nums 中最小的数是 3\n",
    "- nums 中最大的数是 8\n",
    "- 3 和 8 的最大公约数是 1\n",
    "\n",
    "### 示例 3：\n",
    "\n",
    "输入：nums = [3,3]\n",
    "\n",
    "输出：3\n",
    "\n",
    "解释：\n",
    "\n",
    "- nums 中最小的数是 3\n",
    "- nums 中最大的数是 3\n",
    "- 3 和 3 的最大公约数是 3\n",
    "\n",
    "## 三、解题思路\n",
    "\n",
    "### 一、暴力"
   ]
  },
  {
   "cell_type": "code",
   "execution_count": 1,
   "metadata": {},
   "outputs": [],
   "source": [
    "def findGCD(nums) -> int:\n",
    "    minVal, maxVal = float('inf'), -float('inf'),\n",
    "    for num in nums:\n",
    "        minVal = min(minVal, num)\n",
    "        maxVal = max(maxVal, num)\n",
    "    ret = 1\n",
    "    for i in range(1, minVal + 1):\n",
    "        if minVal % i == maxVal % i == 0:\n",
    "            ret = i\n",
    "    return ret"
   ]
  },
  {
   "cell_type": "code",
   "execution_count": 2,
   "metadata": {},
   "outputs": [
    {
     "data": {
      "text/plain": [
       "2"
      ]
     },
     "execution_count": 2,
     "metadata": {},
     "output_type": "execute_result"
    }
   ],
   "source": [
    "findGCD([2,5,6,9,10])"
   ]
  },
  {
   "cell_type": "code",
   "execution_count": 3,
   "metadata": {},
   "outputs": [
    {
     "data": {
      "text/plain": [
       "1"
      ]
     },
     "execution_count": 3,
     "metadata": {},
     "output_type": "execute_result"
    }
   ],
   "source": [
    "findGCD([7,5,6,8,3])"
   ]
  },
  {
   "cell_type": "code",
   "execution_count": 4,
   "metadata": {},
   "outputs": [
    {
     "data": {
      "text/plain": [
       "3"
      ]
     },
     "execution_count": 4,
     "metadata": {},
     "output_type": "execute_result"
    }
   ],
   "source": [
    "findGCD([3,3])"
   ]
  },
  {
   "cell_type": "markdown",
   "metadata": {},
   "source": [
    "### 二、暴力二"
   ]
  },
  {
   "cell_type": "code",
   "execution_count": 5,
   "metadata": {},
   "outputs": [],
   "source": [
    "def findGCD(nums) -> int:\n",
    "    def gcd(a, b):\n",
    "        if b > a:\n",
    "            return gcd(b, a)\n",
    "        if a % b == 0:\n",
    "            return b\n",
    "        return gcd(a%b, b)\n",
    "    minVal, maxVal = float('inf'), -float('inf'),\n",
    "    for num in nums:\n",
    "        minVal = min(minVal, num)\n",
    "        maxVal = max(maxVal, num)\n",
    "    return gcd(minVal, maxVal)"
   ]
  },
  {
   "cell_type": "code",
   "execution_count": 6,
   "metadata": {},
   "outputs": [
    {
     "data": {
      "text/plain": [
       "2"
      ]
     },
     "execution_count": 6,
     "metadata": {},
     "output_type": "execute_result"
    }
   ],
   "source": [
    "findGCD([2,5,6,9,10])"
   ]
  },
  {
   "cell_type": "code",
   "execution_count": 7,
   "metadata": {},
   "outputs": [
    {
     "data": {
      "text/plain": [
       "1"
      ]
     },
     "execution_count": 7,
     "metadata": {},
     "output_type": "execute_result"
    }
   ],
   "source": [
    "findGCD([7,5,6,8,3])"
   ]
  },
  {
   "cell_type": "code",
   "execution_count": 8,
   "metadata": {},
   "outputs": [
    {
     "data": {
      "text/plain": [
       "3"
      ]
     },
     "execution_count": 8,
     "metadata": {},
     "output_type": "execute_result"
    }
   ],
   "source": [
    "findGCD([3,3])"
   ]
  },
  {
   "cell_type": "code",
   "execution_count": null,
   "metadata": {},
   "outputs": [],
   "source": []
  }
 ],
 "metadata": {
  "kernelspec": {
   "display_name": "Python 3",
   "language": "python",
   "name": "python3"
  },
  "language_info": {
   "codemirror_mode": {
    "name": "ipython",
    "version": 3
   },
   "file_extension": ".py",
   "mimetype": "text/x-python",
   "name": "python",
   "nbconvert_exporter": "python",
   "pygments_lexer": "ipython3",
   "version": "3.6.5"
  }
 },
 "nbformat": 4,
 "nbformat_minor": 2
}
