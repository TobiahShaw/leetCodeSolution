{
 "cells": [
  {
   "cell_type": "markdown",
   "metadata": {},
   "source": [
    "# 账户合并\n",
    " \n",
    "**题目来源：力扣（LeetCode）**\n",
    "\n",
    "**链接：https://leetcode-cn.com/problems/accounts-merge/**\n",
    "\n",
    "## 一、题目\n",
    "\n",
    "给定一个列表 accounts，每个元素 accounts[i] 是一个字符串列表，其中第一个元素 accounts[i][0] 是 名称 (name)，其余元素是 emails 表示该账户的邮箱地址。\n",
    "\n",
    "现在，我们想合并这些账户。如果两个账户都有一些共同的邮箱地址，则两个账户必定属于同一个人。请注意，即使两个账户具有相同的名称，它们也可能属于不同的人，因为人们可能具有相同的名称。一个人最初可以拥有任意数量的账户，但其所有账户都具有相同的名称。\n",
    "\n",
    "合并账户后，按以下格式返回账户：每个账户的第一个元素是名称，其余元素是按顺序排列的邮箱地址。账户本身可以以任意顺序返回。\n",
    "\n",
    "## 二、示例\n",
    "\n",
    "输入：\n",
    "\n",
    "accounts = [[\"John\", \"johnsmith@mail.com\", \"john00@mail.com\"], [\"John\", \"johnnybravo@mail.com\"], [\"John\", \"johnsmith@mail.com\", \"john_newyork@mail.com\"], [\"Mary\", \"mary@mail.com\"]]\n",
    "\n",
    "输出：\n",
    "\n",
    "[[\"John\", 'john00@mail.com', 'john_newyork@mail.com', 'johnsmith@mail.com'],  [\"John\", \"johnnybravo@mail.com\"], [\"Mary\", \"mary@mail.com\"]]\n",
    "\n",
    "解释：\n",
    "\n",
    "第一个和第三个 John 是同一个人，因为他们有共同的邮箱地址 \"johnsmith@mail.com\"。 \n",
    "\n",
    "第二个 John 和 Mary 是不同的人，因为他们的邮箱地址没有被其他帐户使用。\n",
    "\n",
    "可以以任何顺序返回这些列表，例如答案 [['Mary'，'mary@mail.com']，['John'，'johnnybravo@mail.com']，['John'，'john00@mail.com'，'john_newyork@mail.com'，'johnsmith@mail.com']] 也是正确的。\n",
    "\n",
    "## 三、解题思路"
   ]
  },
  {
   "cell_type": "code",
   "execution_count": 1,
   "metadata": {},
   "outputs": [],
   "source": [
    "def accountsMerge(accounts):\n",
    "    import collections\n",
    "    belongs = collections.defaultdict(list)\n",
    "    for i, j in enumerate(accounts):\n",
    "        for email in j[1:]:\n",
    "            belongs[email].append(i)\n",
    "    emial_visited = set()\n",
    "    id_visited = set()\n",
    "    def dfs(id):\n",
    "        if id in id_visited:\n",
    "            return\n",
    "        id_visited.add(id)\n",
    "        for email in accounts[id][1:]:\n",
    "            if email in emial_visited:\n",
    "                continue\n",
    "            emial_visited.add(email)\n",
    "            ans[-1].append(email)\n",
    "            for i in belongs[email]:\n",
    "                dfs(i)\n",
    "    ans = []\n",
    "    for i in range(len(accounts)):\n",
    "        if i not in id_visited:\n",
    "            ans.append(accounts[i][:1])\n",
    "            dfs(i)\n",
    "    for i in range(len(ans)):\n",
    "        ans[i] = ans[i][:1] + sorted(ans[i][1:])\n",
    "    return ans"
   ]
  },
  {
   "cell_type": "code",
   "execution_count": 2,
   "metadata": {},
   "outputs": [
    {
     "data": {
      "text/plain": [
       "[['John', 'john00@mail.com', 'john_newyork@mail.com', 'johnsmith@mail.com'],\n",
       " ['John', 'johnnybravo@mail.com'],\n",
       " ['Mary', 'mary@mail.com']]"
      ]
     },
     "execution_count": 2,
     "metadata": {},
     "output_type": "execute_result"
    }
   ],
   "source": [
    "accountsMerge([[\"John\", \"johnsmith@mail.com\", \"john00@mail.com\"], [\"John\", \"johnnybravo@mail.com\"], [\"John\", \"johnsmith@mail.com\", \"john_newyork@mail.com\"], [\"Mary\", \"mary@mail.com\"]])"
   ]
  },
  {
   "cell_type": "code",
   "execution_count": null,
   "metadata": {},
   "outputs": [],
   "source": []
  }
 ],
 "metadata": {
  "kernelspec": {
   "display_name": "Python 3",
   "language": "python",
   "name": "python3"
  },
  "language_info": {
   "codemirror_mode": {
    "name": "ipython",
    "version": 3
   },
   "file_extension": ".py",
   "mimetype": "text/x-python",
   "name": "python",
   "nbconvert_exporter": "python",
   "pygments_lexer": "ipython3",
   "version": "3.6.5"
  }
 },
 "nbformat": 4,
 "nbformat_minor": 2
}
