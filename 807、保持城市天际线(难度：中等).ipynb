{
  "cells": [
    {
      "metadata": {
        "collapsed": true
      },
      "cell_type": "markdown",
      "source": "# 保持城市天际线\n\n**题目来源：力扣（LeetCode）**\n\n**链接：https://leetcode-cn.com/problems/max-increase-to-keep-city-skyline/**\n\n## 一、题目\n\n在二维数组grid中，grid[i][j]代表位于某处的建筑物的高度。 我们被允许增加任何数量（不同建筑物的数量可能不同）的建筑物的高度。 高度 0 也被认为是建筑物。\n\n最后，从新数组的所有四个方向（即顶部，底部，左侧和右侧）观看的“天际线”必须与原始数组的天际线相同。 城市的天际线是从远处观看时，由所有建筑物形成的矩形的外部轮廓。 请看下面的例子。\n\n建筑物高度可以增加的最大总和是多少？\n\n## 二、示例\n\n输入： grid = [[3,0,8,4],[2,4,5,7],[9,2,6,3],[0,3,1,0]]\n\n输出： 35\n\n解释： \n\nThe grid is:\n\n[[3, 0, 8, 4], \n\n [2, 4, 5, 7],\n  \n [9, 2, 6, 3],\n  \n [0, 3, 1, 0]]\n\n从数组竖直方向（即顶部，底部）看“天际线”是：[9, 4, 8, 7]\n\n从水平水平方向（即左侧，右侧）看“天际线”是：[8, 7, 9, 3]\n\n在不影响天际线的情况下对建筑物进行增高后，新数组如下：\n\ngridNew = \n\n[[8, 4, 8, 7],\n\n [7, 4, 7, 7],\n \n [9, 4, 8, 7],\n \n [3, 3, 3, 3]]\n\n## 三、解题思路\n\n- 首先计算出天际的值（竖直方向、 水平方向）\n- 将grid中的元素在不改变天际的情况下增到最大，计算可以增加多少。"
    },
    {
      "metadata": {
        "trusted": true
      },
      "cell_type": "code",
      "source": "def maxIncreaseKeepingSkyline(grid):\n    max_rows = [max(row) for row in grid]\n    max_columns = [max(col) for col in zip(*grid)]\n    \n    return sum(min(max_rows[r], max_columns[c]) - val for r, row in enumerate(grid) for c, val in enumerate(row))",
      "execution_count": 1,
      "outputs": []
    },
    {
      "metadata": {
        "trusted": true
      },
      "cell_type": "code",
      "source": "maxIncreaseKeepingSkyline([[3, 0, 8, 4],[2, 4, 5, 7],[9, 2, 6, 3],[0, 3, 1, 0]])",
      "execution_count": 2,
      "outputs": [
        {
          "output_type": "execute_result",
          "execution_count": 2,
          "data": {
            "text/plain": "35"
          },
          "metadata": {}
        }
      ]
    },
    {
      "metadata": {
        "trusted": true
      },
      "cell_type": "code",
      "source": "",
      "execution_count": null,
      "outputs": []
    }
  ],
  "metadata": {
    "kernelspec": {
      "name": "python36",
      "display_name": "Python 3.6",
      "language": "python"
    },
    "language_info": {
      "mimetype": "text/x-python",
      "nbconvert_exporter": "python",
      "name": "python",
      "pygments_lexer": "ipython3",
      "version": "3.6.6",
      "file_extension": ".py",
      "codemirror_mode": {
        "version": 3,
        "name": "ipython"
      }
    }
  },
  "nbformat": 4,
  "nbformat_minor": 2
}