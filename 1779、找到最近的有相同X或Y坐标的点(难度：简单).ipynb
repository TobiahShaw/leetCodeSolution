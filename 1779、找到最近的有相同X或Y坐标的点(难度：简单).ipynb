{
 "cells": [
  {
   "cell_type": "markdown",
   "id": "72f47482",
   "metadata": {},
   "source": [
    "# 找到最近的有相同X或Y坐标的点\n",
    "\n",
    "**题目来源：力扣（LeetCode）**\n",
    "\n",
    "**链接：https://leetcode.cn/problems/find-nearest-point-that-has-the-same-x-or-y-coordinate/**\n",
    "\n",
    "## 一、题目\n",
    "\n",
    "给你两个整数 x 和 y ，表示你在一个笛卡尔坐标系下的 (x, y) 处。同时，在同一个坐标系下给你一个数组 points ，其中 points[i] = [ai, bi] 表示在 (ai, bi) 处有一个点。当一个点与你所在的位置有相同的 x 坐标或者相同的 y 坐标时，我们称这个点是 有效的 。\n",
    "\n",
    "请返回距离你当前位置 曼哈顿距离 最近的 有效 点的下标（下标从 0 开始）。如果有多个最近的有效点，请返回下标 最小 的一个。如果没有有效点，请返回 -1 。\n",
    "\n",
    "两个点 (x1, y1) 和 (x2, y2) 之间的 曼哈顿距离 为 abs(x1 - x2) + abs(y1 - y2) 。\n",
    "\n",
    "### 提示：\n",
    "\n",
    "- 1 <= points.length <= 10^4\n",
    "- points[i].length == 2\n",
    "- 1 <= x, y, ai, bi <= 10^4\n",
    "\n",
    "## 二、示例\n",
    "\n",
    "### 示例 1：\n",
    "\n",
    "输入：x = 3, y = 4, points = [[1,2],[3,1],[2,4],[2,3],[4,4]]\n",
    "\n",
    "输出：2\n",
    "\n",
    "解释：所有点中，[3,1]，[2,4] 和 [4,4] 是有效点。有效点中，[2,4] 和 [4,4] 距离你当前位置的曼哈顿距离最小，都为 1 。[2,4] 的下标最小，所以返回 2 。\n",
    "\n",
    "### 示例 2：\n",
    "\n",
    "输入：x = 3, y = 4, points = [[3,4]]\n",
    "\n",
    "输出：0\n",
    "\n",
    "提示：答案可以与你当前所在位置坐标相同。\n",
    "\n",
    "### 示例 3：\n",
    "\n",
    "输入：x = 3, y = 4, points = [[2,3]]\n",
    "\n",
    "输出：-1\n",
    "\n",
    "解释：没有 有效点。\n",
    "\n",
    "## 三、解题思路\n",
    "\n",
    "### 模拟过程"
   ]
  },
  {
   "cell_type": "code",
   "execution_count": 1,
   "id": "ea3d5efd",
   "metadata": {},
   "outputs": [],
   "source": [
    "class Solution:\n",
    "    def nearestValidPoint(self, x: int, y: int, points) -> int:\n",
    "        ret = -1\n",
    "        min_dis = float('inf')\n",
    "        for i in range(len(points)):\n",
    "            if points[i][0] == x or points[i][1] == y:\n",
    "                dis = abs(points[i][0] - x) + abs(points[i][1] - y)\n",
    "                if dis < min_dis:\n",
    "                    min_dis = dis\n",
    "                    ret = i\n",
    "        return ret"
   ]
  },
  {
   "cell_type": "code",
   "execution_count": 2,
   "id": "18917763",
   "metadata": {},
   "outputs": [
    {
     "data": {
      "text/plain": [
       "2"
      ]
     },
     "execution_count": 2,
     "metadata": {},
     "output_type": "execute_result"
    }
   ],
   "source": [
    "s = Solution()\n",
    "s.nearestValidPoint(x = 3, y = 4, points = [[1,2],[3,1],[2,4],[2,3],[4,4]])"
   ]
  },
  {
   "cell_type": "code",
   "execution_count": 3,
   "id": "0ff26097",
   "metadata": {},
   "outputs": [
    {
     "data": {
      "text/plain": [
       "0"
      ]
     },
     "execution_count": 3,
     "metadata": {},
     "output_type": "execute_result"
    }
   ],
   "source": [
    "s.nearestValidPoint(x = 3, y = 4, points = [[3,4]])"
   ]
  },
  {
   "cell_type": "code",
   "execution_count": 4,
   "id": "ad60b066",
   "metadata": {},
   "outputs": [
    {
     "data": {
      "text/plain": [
       "-1"
      ]
     },
     "execution_count": 4,
     "metadata": {},
     "output_type": "execute_result"
    }
   ],
   "source": [
    "s.nearestValidPoint(x = 3, y = 4, points = [[2,3]])"
   ]
  },
  {
   "cell_type": "code",
   "execution_count": null,
   "id": "3e75fa23",
   "metadata": {},
   "outputs": [],
   "source": []
  }
 ],
 "metadata": {
  "kernelspec": {
   "display_name": "Python 3 (ipykernel)",
   "language": "python",
   "name": "python3"
  },
  "language_info": {
   "codemirror_mode": {
    "name": "ipython",
    "version": 3
   },
   "file_extension": ".py",
   "mimetype": "text/x-python",
   "name": "python",
   "nbconvert_exporter": "python",
   "pygments_lexer": "ipython3",
   "version": "3.9.10+"
  }
 },
 "nbformat": 4,
 "nbformat_minor": 5
}
