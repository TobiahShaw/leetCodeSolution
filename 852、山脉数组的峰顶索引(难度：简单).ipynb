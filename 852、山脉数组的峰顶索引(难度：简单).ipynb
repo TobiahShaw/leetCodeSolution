{
  "cells": [
    {
      "metadata": {
        "collapsed": true
      },
      "cell_type": "markdown",
      "source": "# 山脉数组的峰顶索引\n\n**题目来源：力扣（LeetCode）**\n\n**链接：https://leetcode-cn.com/problems/peak-index-in-a-mountain-array/**\n\n## 一、题目\n\n我们把符合下列属性的数组 A 称作山脉：\n\n- A.length >= 3\n\n- 存在 0 < i < A.length - 1 使得A[0] < A[1] < ... A[i-1] < A[i] > A[i+1] > ... > A[A.length - 1]\n\n给定一个确定为山脉的数组，返回任何满足 A[0] < A[1] < ... A[i-1] < A[i] > A[i+1] > ... > A[A.length - 1] 的 i 的值。\n\n## 二、示例\n\n### 示例 1：\n\n输入：[0,1,0]\n\n输出：1\n\n### 示例 2：\n\n输入：[0,2,1,0]\n\n输出：1\n\n## 三、解题思路\n\n### 线性查找"
    },
    {
      "metadata": {
        "trusted": true
      },
      "cell_type": "code",
      "source": "def peakIndexInMountainArray(A):\n    for x in range(len(A)):\n        if A[x] > A[x+1]:\n            return x",
      "execution_count": 1,
      "outputs": []
    },
    {
      "metadata": {
        "trusted": true
      },
      "cell_type": "code",
      "source": "peakIndexInMountainArray([0,1,0])",
      "execution_count": 2,
      "outputs": [
        {
          "output_type": "execute_result",
          "execution_count": 2,
          "data": {
            "text/plain": "1"
          },
          "metadata": {}
        }
      ]
    },
    {
      "metadata": {
        "trusted": true
      },
      "cell_type": "code",
      "source": "peakIndexInMountainArray([0,2,1,0])",
      "execution_count": 3,
      "outputs": [
        {
          "output_type": "execute_result",
          "execution_count": 3,
          "data": {
            "text/plain": "1"
          },
          "metadata": {}
        }
      ]
    },
    {
      "metadata": {},
      "cell_type": "markdown",
      "source": "### 二分查找"
    },
    {
      "metadata": {
        "trusted": true
      },
      "cell_type": "code",
      "source": "def peakIndexInMountainArray(A):\n    lo,hi = 0, len(A) - 1\n    while lo < hi:\n        mi = (lo + hi) // 2\n        if A[mi] < A[mi + 1]:\n            lo = mi + 1\n        else:\n            hi = mi\n    return lo",
      "execution_count": 4,
      "outputs": []
    },
    {
      "metadata": {
        "trusted": true
      },
      "cell_type": "code",
      "source": "peakIndexInMountainArray([0,1,0])",
      "execution_count": 5,
      "outputs": [
        {
          "output_type": "execute_result",
          "execution_count": 5,
          "data": {
            "text/plain": "1"
          },
          "metadata": {}
        }
      ]
    },
    {
      "metadata": {
        "trusted": true
      },
      "cell_type": "code",
      "source": "peakIndexInMountainArray([0,2,1,0])",
      "execution_count": 6,
      "outputs": [
        {
          "output_type": "execute_result",
          "execution_count": 6,
          "data": {
            "text/plain": "1"
          },
          "metadata": {}
        }
      ]
    },
    {
      "metadata": {
        "trusted": true
      },
      "cell_type": "code",
      "source": "",
      "execution_count": null,
      "outputs": []
    }
  ],
  "metadata": {
    "kernelspec": {
      "name": "python36",
      "display_name": "Python 3.6",
      "language": "python"
    },
    "language_info": {
      "mimetype": "text/x-python",
      "nbconvert_exporter": "python",
      "name": "python",
      "pygments_lexer": "ipython3",
      "version": "3.6.6",
      "file_extension": ".py",
      "codemirror_mode": {
        "version": 3,
        "name": "ipython"
      }
    }
  },
  "nbformat": 4,
  "nbformat_minor": 2
}