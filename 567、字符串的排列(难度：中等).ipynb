{
 "cells": [
  {
   "cell_type": "markdown",
   "metadata": {},
   "source": [
    "# 字符串的排列\n",
    "\n",
    "**题目来源：力扣（LeetCode）**\n",
    "\n",
    "**链接：https://leetcode-cn.com/problems/permutation-in-string/**\n",
    "\n",
    "## 一、题目\n",
    "\n",
    "给定两个字符串 s1 和 s2，写一个函数来判断 s2 是否包含 s1 的排列。\n",
    "\n",
    "换句话说，第一个字符串的排列之一是第二个字符串的子串。\n",
    "\n",
    "### 注意：\n",
    "\n",
    "- 输入的字符串只包含小写字母\n",
    "- 两个字符串的长度都在 [1, 10,000] 之间\n",
    "\n",
    "## 二、示例\n",
    "\n",
    "### 示例 1：\n",
    "\n",
    "输入: s1 = \"ab\", s2 = \"eidbaooo\"\n",
    "\n",
    "输出: True\n",
    "\n",
    "解释: s2 包含 s1 的排列之一 (\"ba\").\n",
    "\n",
    "### 示例2:\n",
    "\n",
    "输入: s1= \"ab\", s2 = \"eidboaoo\"\n",
    "\n",
    "输出: False\n",
    "\n",
    "## 三、解题思路\n",
    "\n",
    "### 滑动窗口"
   ]
  },
  {
   "cell_type": "code",
   "execution_count": 1,
   "metadata": {},
   "outputs": [],
   "source": [
    "def checkInclusion(s1: str, s2: str) -> bool:\n",
    "    need, window = {}, {}\n",
    "    for c in s1:\n",
    "        need[c] = need.setdefault(c, 0) + 1\n",
    "    left, right = 0, 0\n",
    "    valid = 0\n",
    "    while right < len(s2):\n",
    "        c = s2[right]\n",
    "        right += 1\n",
    "        if c in need:\n",
    "            window[c] = window.setdefault(c, 0) + 1\n",
    "            if window[c] == need[c]:\n",
    "                valid += 1\n",
    "        while right - left >= len(s1):\n",
    "            if valid == len(need):\n",
    "                return True\n",
    "            d = s2[left]\n",
    "            left += 1\n",
    "            if d in need:\n",
    "                if window[d] == need[d]:\n",
    "                    valid -= 1\n",
    "                window[d] -= 1\n",
    "    return False"
   ]
  },
  {
   "cell_type": "code",
   "execution_count": 2,
   "metadata": {},
   "outputs": [
    {
     "data": {
      "text/plain": [
       "True"
      ]
     },
     "execution_count": 2,
     "metadata": {},
     "output_type": "execute_result"
    }
   ],
   "source": [
    "checkInclusion(s1 = \"ab\",s2 = \"eidbaooo\")"
   ]
  },
  {
   "cell_type": "code",
   "execution_count": 3,
   "metadata": {},
   "outputs": [
    {
     "data": {
      "text/plain": [
       "False"
      ]
     },
     "execution_count": 3,
     "metadata": {},
     "output_type": "execute_result"
    }
   ],
   "source": [
    "checkInclusion(s1= \"ab\", s2 = \"eidboaoo\")"
   ]
  },
  {
   "cell_type": "code",
   "execution_count": null,
   "metadata": {},
   "outputs": [],
   "source": []
  }
 ],
 "metadata": {
  "kernelspec": {
   "display_name": "Python 3",
   "language": "python",
   "name": "python3"
  },
  "language_info": {
   "codemirror_mode": {
    "name": "ipython",
    "version": 3
   },
   "file_extension": ".py",
   "mimetype": "text/x-python",
   "name": "python",
   "nbconvert_exporter": "python",
   "pygments_lexer": "ipython3",
   "version": "3.6.5"
  }
 },
 "nbformat": 4,
 "nbformat_minor": 2
}
