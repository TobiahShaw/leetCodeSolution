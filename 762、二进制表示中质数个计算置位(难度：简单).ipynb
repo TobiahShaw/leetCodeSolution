{
 "cells": [
  {
   "cell_type": "markdown",
   "metadata": {},
   "source": [
    "# 二进制表示中质数个计算置位\n",
    "\n",
    "**题目来源：力扣（LeetCode）**\n",
    "\n",
    "**链接：https://leetcode-cn.com/problems/prime-number-of-set-bits-in-binary-representation/**\n",
    "\n",
    "## 一、题目\n",
    "\n",
    "给定两个整数 L 和 R ，找到闭区间 [L, R] 范围内，计算置位位数为质数的整数个数。\n",
    "\n",
    "（注意，计算置位代表二进制表示中1的个数。例如 21 的二进制表示 10101 有 3 个计算置位。还有，1 不是质数。）\n",
    "\n",
    "注意:\n",
    "\n",
    "- L, R 是 L <= R 且在 [1, 10^6] 中的整数。\n",
    "- R - L 的最大值为 10000。\n",
    "\n",
    "## 二、示例\n",
    "\n",
    "### 示例 1：\n",
    "\n",
    "输入: L = 6, R = 10\n",
    "\n",
    "输出: 4\n",
    "\n",
    "解释:\n",
    "\n",
    "6 -> 110 (2 个计算置位，2 是质数)\n",
    "\n",
    "7 -> 111 (3 个计算置位，3 是质数)\n",
    "\n",
    "9 -> 1001 (2 个计算置位，2 是质数)\n",
    "\n",
    "10-> 1010 (2 个计算置位，2 是质数)\n",
    "\n",
    "### 示例 2：\n",
    "\n",
    "输入: L = 10, R = 15\n",
    "\n",
    "输出: 5\n",
    "\n",
    "解释:\n",
    "\n",
    "10 -> 1010 (2 个计算置位, 2 是质数)\n",
    "\n",
    "11 -> 1011 (3 个计算置位, 3 是质数)\n",
    "\n",
    "12 -> 1100 (2 个计算置位, 2 是质数)\n",
    "\n",
    "13 -> 1101 (3 个计算置位, 3 是质数)\n",
    "\n",
    "14 -> 1110 (3 个计算置位, 3 是质数)\n",
    "\n",
    "15 -> 1111 (4 个计算置位, 4 不是质数)\n",
    "\n",
    "## 三、解题思路\n",
    "\n",
    "### 轮询"
   ]
  },
  {
   "cell_type": "code",
   "execution_count": 1,
   "metadata": {},
   "outputs": [],
   "source": [
    "def countPrimeSetBits(L: int, R: int) -> int:\n",
    "    primes = {2, 3, 5, 7, 11, 13, 17, 19}\n",
    "    return sum(bin(x).count('1') in primes\n",
    "               for x in range(L, R+1))"
   ]
  },
  {
   "cell_type": "code",
   "execution_count": 2,
   "metadata": {},
   "outputs": [
    {
     "data": {
      "text/plain": [
       "4"
      ]
     },
     "execution_count": 2,
     "metadata": {},
     "output_type": "execute_result"
    }
   ],
   "source": [
    "countPrimeSetBits(6, 10)"
   ]
  },
  {
   "cell_type": "code",
   "execution_count": 3,
   "metadata": {},
   "outputs": [
    {
     "data": {
      "text/plain": [
       "5"
      ]
     },
     "execution_count": 3,
     "metadata": {},
     "output_type": "execute_result"
    }
   ],
   "source": [
    "countPrimeSetBits(10, 15)"
   ]
  },
  {
   "cell_type": "code",
   "execution_count": null,
   "metadata": {},
   "outputs": [],
   "source": []
  }
 ],
 "metadata": {
  "kernelspec": {
   "display_name": "Python 3",
   "language": "python",
   "name": "python3"
  },
  "language_info": {
   "codemirror_mode": {
    "name": "ipython",
    "version": 3
   },
   "file_extension": ".py",
   "mimetype": "text/x-python",
   "name": "python",
   "nbconvert_exporter": "python",
   "pygments_lexer": "ipython3",
   "version": "3.6.5"
  }
 },
 "nbformat": 4,
 "nbformat_minor": 2
}
