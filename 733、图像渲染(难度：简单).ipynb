{
 "cells": [
  {
   "cell_type": "markdown",
   "metadata": {},
   "source": [
    "# 图像渲染\n",
    "\n",
    "**题目来源：力扣（LeetCode）**\n",
    "\n",
    "**链接：https://leetcode-cn.com/problems/flood-fill/**\n",
    "\n",
    "## 一、题目\n",
    "\n",
    "有一幅以二维整数数组表示的图画，每一个整数表示该图画的像素值大小，数值在 0 到 65535 之间。\n",
    "\n",
    "给你一个坐标 (sr, sc) 表示图像渲染开始的像素值（行 ，列）和一个新的颜色值 newColor，让你重新上色这幅图像。\n",
    "\n",
    "为了完成上色工作，从初始坐标开始，记录初始坐标的上下左右四个方向上像素值与初始坐标相同的相连像素点，接着再记录这四个方向上符合条件的像素点与他们对应四个方向上像素值与初始坐标相同的相连像素点，……，重复该过程。将所有有记录的像素点的颜色值改为新的颜色值。\n",
    "\n",
    "最后返回经过上色渲染后的图像。\n",
    "\n",
    "## 二、示例\n",
    "\n",
    "### 示例 1：\n",
    "\n",
    "输入: \n",
    "\n",
    "image = [[1,1,1],[1,1,0],[1,0,1]], sr = 1, sc = 1, newColor = 2\n",
    "\n",
    "输出: [[2,2,2],[2,2,0],[2,0,1]]\n",
    "\n",
    "解析: \n",
    "\n",
    "在图像的正中间，(坐标(sr,sc)=(1,1)),\n",
    "\n",
    "在路径上所有符合条件的像素点的颜色都被更改成2。\n",
    "\n",
    "注意，右下角的像素没有更改为2，\n",
    "\n",
    "因为它不是在上下左右四个方向上与初始点相连的像素点。\n",
    "\n",
    "## 三、解题思路\n",
    "\n",
    "### 递归"
   ]
  },
  {
   "cell_type": "code",
   "execution_count": 1,
   "metadata": {},
   "outputs": [],
   "source": [
    "def floodFill(image, sr: int, sc: int, newColor: int):\n",
    "    row, col = len(image), len(image[0])\n",
    "    p = image[sr][sc]\n",
    "    if p == newColor:\n",
    "        return image\n",
    "\n",
    "    def dfs(x: int, y: int) -> None:\n",
    "        if x in {-1, row} or y in {-1, col} or image[x][y] != p:\n",
    "            return \n",
    "        image[x][y] = newColor\n",
    "        dfs(x-1, y)\n",
    "        dfs(x, y-1)\n",
    "        dfs(x+1, y)\n",
    "        dfs(x, y+1)\n",
    "        return image\n",
    "    \n",
    "    return dfs(sr, sc)"
   ]
  },
  {
   "cell_type": "code",
   "execution_count": 2,
   "metadata": {},
   "outputs": [
    {
     "data": {
      "text/plain": [
       "[[2, 2, 2], [2, 2, 0], [2, 0, 1]]"
      ]
     },
     "execution_count": 2,
     "metadata": {},
     "output_type": "execute_result"
    }
   ],
   "source": [
    "floodFill(image = [[1,1,1],[1,1,0],[1,0,1]], sr = 1, sc = 1, newColor = 2)"
   ]
  },
  {
   "cell_type": "code",
   "execution_count": null,
   "metadata": {},
   "outputs": [],
   "source": []
  }
 ],
 "metadata": {
  "kernelspec": {
   "display_name": "Python 3",
   "language": "python",
   "name": "python3"
  },
  "language_info": {
   "codemirror_mode": {
    "name": "ipython",
    "version": 3
   },
   "file_extension": ".py",
   "mimetype": "text/x-python",
   "name": "python",
   "nbconvert_exporter": "python",
   "pygments_lexer": "ipython3",
   "version": "3.6.5"
  }
 },
 "nbformat": 4,
 "nbformat_minor": 2
}
