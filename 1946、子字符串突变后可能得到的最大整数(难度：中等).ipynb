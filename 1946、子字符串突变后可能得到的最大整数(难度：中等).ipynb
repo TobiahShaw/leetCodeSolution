{
 "cells": [
  {
   "cell_type": "markdown",
   "metadata": {},
   "source": [
    "# 子字符串突变后可能得到的最大整数\n",
    "\n",
    "**题目来源：力扣（LeetCode）**\n",
    "\n",
    "**链接：https://leetcode-cn.com/problems/largest-number-after-mutating-substring/**\n",
    "\n",
    "## 一、题目\n",
    "\n",
    "给你一个字符串 num ，该字符串表示一个大整数。另给你一个长度为 10 且 下标从 0  开始 的整数数组 change ，该数组将 0-9 中的每个数字映射到另一个数字。更规范的说法是，数字 d 映射为数字 change[d] 。\n",
    "\n",
    "你可以选择 突变  num 的任一子字符串。突变 子字符串意味着将每位数字 num[i] 替换为该数字在 change 中的映射（也就是说，将 num[i] 替换为 change[num[i]]）。\n",
    "\n",
    "请你找出在对 num 的任一子字符串执行突变操作（也可以不执行）后，可能得到的 最大整数 ，并用字符串表示返回。\n",
    "\n",
    "子字符串 是字符串中的一个连续序列。\n",
    "\n",
    "## 二、示例\n",
    "\n",
    "### 示例 1：\n",
    "\n",
    "输入：num = \"132\", change = [9,8,5,0,3,6,4,2,6,8]\n",
    "\n",
    "输出：\"832\"\n",
    "\n",
    "解释：替换子字符串 \"1\"：\n",
    "\n",
    "- 1 映射为 change[1] = 8 。\n",
    "\n",
    "因此 \"132\" 变为 \"832\" 。\n",
    "\n",
    "\"832\" 是可以构造的最大整数，所以返回它的字符串表示。\n",
    "\n",
    "### 示例 2：\n",
    "\n",
    "输入：num = \"021\", change = [9,4,3,5,7,2,1,9,0,6]\n",
    "\n",
    "输出：\"934\"\n",
    "\n",
    "解释：替换子字符串 \"021\"：\n",
    "\n",
    "- 0 映射为 change[0] = 9 。\n",
    "- 2 映射为 change[2] = 3 。\n",
    "- 1 映射为 change[1] = 4 。\n",
    "\n",
    "因此，\"021\" 变为 \"934\" 。\n",
    "\n",
    "\"934\" 是可以构造的最大整数，所以返回它的字符串表示。\n",
    "\n",
    "### 示例 3：\n",
    "\n",
    "输入：num = \"5\", change = [1,4,7,5,3,2,5,6,9,4]\n",
    "\n",
    "输出：\"5\"\n",
    "\n",
    "解释：\"5\" 已经是可以构造的最大整数，所以返回它的字符串表示。\n",
    "\n",
    "## 三、解题思路\n",
    "\n",
    "### 模拟过程\n",
    "\n",
    "由于高位交换会直接影响结果，所以只要高位可交换就进行交换（开始交换前相等不交换，开始后则相等也进行交换，已交换更多位）"
   ]
  },
  {
   "cell_type": "code",
   "execution_count": 1,
   "metadata": {},
   "outputs": [],
   "source": [
    "def maximumNumber(num: str, change) -> str:\n",
    "    started = False\n",
    "    ret = []\n",
    "    for i in range(len(num)):\n",
    "        n = num[i]\n",
    "        if started:\n",
    "            if change[int(n)] < int(n):\n",
    "                ret.extend(num[i:])\n",
    "                break\n",
    "            else:\n",
    "                ret.append(str(change[int(n)]))\n",
    "        else:\n",
    "            if int(n) < change[int(n)]:\n",
    "                ret.append(str(change[int(n)]))\n",
    "                started = True\n",
    "            else:\n",
    "                ret.append(n)\n",
    "    return \"\".join(ret)"
   ]
  },
  {
   "cell_type": "code",
   "execution_count": 2,
   "metadata": {},
   "outputs": [
    {
     "data": {
      "text/plain": [
       "'832'"
      ]
     },
     "execution_count": 2,
     "metadata": {},
     "output_type": "execute_result"
    }
   ],
   "source": [
    "maximumNumber(num = \"132\", change = [9,8,5,0,3,6,4,2,6,8])"
   ]
  },
  {
   "cell_type": "code",
   "execution_count": 3,
   "metadata": {},
   "outputs": [
    {
     "data": {
      "text/plain": [
       "'934'"
      ]
     },
     "execution_count": 3,
     "metadata": {},
     "output_type": "execute_result"
    }
   ],
   "source": [
    "maximumNumber(num = \"021\", change = [9,4,3,5,7,2,1,9,0,6])"
   ]
  },
  {
   "cell_type": "code",
   "execution_count": 4,
   "metadata": {},
   "outputs": [
    {
     "data": {
      "text/plain": [
       "'5'"
      ]
     },
     "execution_count": 4,
     "metadata": {},
     "output_type": "execute_result"
    }
   ],
   "source": [
    "maximumNumber(num = \"5\", change = [1,4,7,5,3,2,5,6,9,4])"
   ]
  },
  {
   "cell_type": "code",
   "execution_count": null,
   "metadata": {},
   "outputs": [],
   "source": []
  }
 ],
 "metadata": {
  "kernelspec": {
   "display_name": "Python 3",
   "language": "python",
   "name": "python3"
  },
  "language_info": {
   "codemirror_mode": {
    "name": "ipython",
    "version": 3
   },
   "file_extension": ".py",
   "mimetype": "text/x-python",
   "name": "python",
   "nbconvert_exporter": "python",
   "pygments_lexer": "ipython3",
   "version": "3.6.5"
  }
 },
 "nbformat": 4,
 "nbformat_minor": 2
}
