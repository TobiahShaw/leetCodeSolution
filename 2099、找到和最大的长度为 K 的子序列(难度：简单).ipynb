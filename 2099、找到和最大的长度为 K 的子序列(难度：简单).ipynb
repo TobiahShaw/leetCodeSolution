{
 "cells": [
  {
   "cell_type": "markdown",
   "metadata": {},
   "source": [
    "# 找到和最大的长度为 K 的子序列\n",
    "\n",
    "**题目来源：力扣（LeetCode）**\n",
    "\n",
    "**链接：https://leetcode-cn.com/problems/find-subsequence-of-length-k-with-the-largest-sum/**\n",
    "\n",
    "## 一、题目\n",
    "\n",
    "给你一个整数数组 nums 和一个整数 k 。你需要找到 nums 中长度为 k 的 子序列 ，且这个子序列的 和最大 。\n",
    "\n",
    "请你返回 任意 一个长度为 k 的整数子序列。\n",
    "\n",
    "子序列 定义为从一个数组里删除一些元素后，不改变剩下元素的顺序得到的数组。\n",
    "\n",
    "### 提示：\n",
    "\n",
    "- 1 <= nums.length <= 1000\n",
    "- -10^5 <= nums[i] <= 10^5\n",
    "- 1 <= k <= nums.length\n",
    "\n",
    "## 二、示例\n",
    "\n",
    "### 示例 1：\n",
    "\n",
    "输入：nums = [2,1,3,3], k = 2\n",
    "\n",
    "输出：[3,3]\n",
    "\n",
    "解释：子序列有最大和：3 + 3 = 6 。\n",
    "\n",
    "### 示例 2：\n",
    "\n",
    "输入：nums = [-1,-2,3,4], k = 3\n",
    "\n",
    "输出：[-1,3,4]\n",
    "\n",
    "解释：子序列有最大和：-1 + 3 + 4 = 6 。\n",
    "\n",
    "### 示例 3：\n",
    "\n",
    "输入：nums = [3,4,3,3], k = 2\n",
    "\n",
    "输出：[3,4]\n",
    "\n",
    "解释：子序列有最大和：3 + 4 = 7 。另一个可行的子序列为 [4, 3] 。\n",
    "\n",
    "## 三、解题思路\n",
    "\n",
    "### 排序"
   ]
  },
  {
   "cell_type": "code",
   "execution_count": 1,
   "metadata": {},
   "outputs": [],
   "source": [
    "def maxSubsequence(nums, k: int):\n",
    "    n = len(nums)\n",
    "    vals = [[i, nums[i]] for i in range(n)]   # 辅助数组\n",
    "    # 按照数值降序排序\n",
    "    vals.sort(key = lambda x: -x[1])\n",
    "    # 取前 k 个并按照下标升序排序\n",
    "    vals = sorted(vals[:k])\n",
    "    return [val for idx, val in vals]   # 目标子序列"
   ]
  },
  {
   "cell_type": "code",
   "execution_count": 2,
   "metadata": {},
   "outputs": [
    {
     "data": {
      "text/plain": [
       "[3, 3]"
      ]
     },
     "execution_count": 2,
     "metadata": {},
     "output_type": "execute_result"
    }
   ],
   "source": [
    "maxSubsequence(nums = [2,1,3,3], k = 2)"
   ]
  },
  {
   "cell_type": "code",
   "execution_count": 3,
   "metadata": {},
   "outputs": [
    {
     "data": {
      "text/plain": [
       "[-1, 3, 4]"
      ]
     },
     "execution_count": 3,
     "metadata": {},
     "output_type": "execute_result"
    }
   ],
   "source": [
    "maxSubsequence(nums = [-1,-2,3,4], k = 3)"
   ]
  },
  {
   "cell_type": "code",
   "execution_count": 4,
   "metadata": {},
   "outputs": [
    {
     "data": {
      "text/plain": [
       "[3, 4]"
      ]
     },
     "execution_count": 4,
     "metadata": {},
     "output_type": "execute_result"
    }
   ],
   "source": [
    "maxSubsequence(nums = [3,4,3,3], k = 2)"
   ]
  },
  {
   "cell_type": "code",
   "execution_count": null,
   "metadata": {},
   "outputs": [],
   "source": []
  }
 ],
 "metadata": {
  "kernelspec": {
   "display_name": "Python 3",
   "language": "python",
   "name": "python3"
  },
  "language_info": {
   "codemirror_mode": {
    "name": "ipython",
    "version": 3
   },
   "file_extension": ".py",
   "mimetype": "text/x-python",
   "name": "python",
   "nbconvert_exporter": "python",
   "pygments_lexer": "ipython3",
   "version": "3.6.5"
  }
 },
 "nbformat": 4,
 "nbformat_minor": 2
}
