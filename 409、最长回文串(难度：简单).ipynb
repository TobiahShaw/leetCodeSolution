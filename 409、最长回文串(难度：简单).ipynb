{
  "cells": [
    {
      "metadata": {
        "collapsed": true
      },
      "cell_type": "markdown",
      "source": "# 最长回文串\n\n**题目来源：力扣（LeetCode）**\n\n**链接：https://leetcode-cn.com/problems/longest-palindrome/**\n\n## 一、题目\n\n给定一个包含大写字母和小写字母的字符串，找到通过这些字母构造成的最长的回文串。\n\n在构造过程中，请注意区分大小写。比如 \"Aa\" 不能当做一个回文字符串。\n\n### 注意:\n\n假设字符串的长度不会超过 1010。\n\n\n## 二、示例\n\n输入:\n\n\"abccccdd\"\n\n输出:\n\n7\n\n解释:\n\n我们可以构造的最长的回文串是\"dccaccd\", 它的长度是 7。\n\n## 三、解题思路\n\n### 回文串的特征\n\n以回文中心为分界，左右两侧对称。则可知：当回文串长度为偶数时，每个字符出现的次数都为偶数，当长度为奇数时，回文串仅回文中心出现的字符为奇数（1次），其他字符都是偶数次。\n\n### 贪心\n\n根据上述特征可知，要将一个字符串中的字符重新组装成回文串时，则\n\n- 首先需要取所有出现偶数次的字符和出现奇数次字符的偶数部分\n- 其次如果出现奇数次的字符去除偶数次部分还有剩余则再取一次。"
    },
    {
      "metadata": {
        "trusted": true
      },
      "cell_type": "code",
      "source": "def longestPalindrome(s):\n    res = 0\n    counter = {}\n    # 计数出现次数\n    for i in s:\n        if i in counter:\n            counter[i] += 1\n        else:\n            counter[i] = 1\n    for v in counter.values():\n        # 取出偶数次字符\n        res += v // 2 * 2\n        # 如果有奇数次出现的字符，且结果未添加过奇数次字符时加一\n        if v % 2 == 1 and res % 2 == 0:\n            res += 1\n    return res",
      "execution_count": 1,
      "outputs": []
    },
    {
      "metadata": {
        "trusted": true
      },
      "cell_type": "code",
      "source": "longestPalindrome(\"abccccdd\")",
      "execution_count": 2,
      "outputs": [
        {
          "output_type": "execute_result",
          "execution_count": 2,
          "data": {
            "text/plain": "7"
          },
          "metadata": {}
        }
      ]
    },
    {
      "metadata": {
        "trusted": true
      },
      "cell_type": "code",
      "source": "",
      "execution_count": null,
      "outputs": []
    }
  ],
  "metadata": {
    "kernelspec": {
      "name": "python36",
      "display_name": "Python 3.6",
      "language": "python"
    },
    "language_info": {
      "mimetype": "text/x-python",
      "nbconvert_exporter": "python",
      "name": "python",
      "pygments_lexer": "ipython3",
      "version": "3.6.6",
      "file_extension": ".py",
      "codemirror_mode": {
        "version": 3,
        "name": "ipython"
      }
    }
  },
  "nbformat": 4,
  "nbformat_minor": 2
}