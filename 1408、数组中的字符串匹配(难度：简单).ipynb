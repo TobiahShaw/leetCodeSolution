{
 "cells": [
  {
   "cell_type": "markdown",
   "metadata": {},
   "source": [
    "# 数组中的字符串匹配\n",
    "\n",
    "**题目来源：力扣（LeetCode）**\n",
    "\n",
    "**链接：https://leetcode-cn.com/problems/string-matching-in-an-array/**\n",
    "\n",
    "## 一、题目\n",
    "\n",
    "给你一个字符串数组 words ，数组中的每个字符串都可以看作是一个单词。请你按 任意 顺序返回 words 中是其他单词的子字符串的所有单词。\n",
    "\n",
    "如果你可以删除 words[j] 最左侧和/或最右侧的若干字符得到 word[i] ，那么字符串 words[i] 就是 words[j] 的一个子字符串。\n",
    "\n",
    "### 提示：\n",
    "\n",
    "- 1 <= words.length <= 100\n",
    "- 1 <= words[i].length <= 30\n",
    "- words[i] 仅包含小写英文字母。\n",
    "- 题目数据 保证 每个 words[i] 都是独一无二的。\n",
    "\n",
    "## 二、示例\n",
    "\n",
    "### 示例 1：\n",
    "\n",
    "输入：words = [\"mass\",\"as\",\"hero\",\"superhero\"]\n",
    "\n",
    "输出：[\"as\",\"hero\"]\n",
    "\n",
    "解释：\"as\" 是 \"mass\" 的子字符串，\"hero\" 是 \"superhero\" 的子字符串。[\"hero\",\"as\"] 也是有效的答案。\n",
    "\n",
    "### 示例 2：\n",
    "\n",
    "输入：words = [\"leetcode\",\"et\",\"code\"]\n",
    "\n",
    "输出：[\"et\",\"code\"]\n",
    "\n",
    "解释：\"et\" 和 \"code\" 都是 \"leetcode\" 的子字符串。\n",
    "\n",
    "### 示例 3：\n",
    "\n",
    "输入：words = [\"blue\",\"green\",\"bu\"]\n",
    "\n",
    "输出：[]\n",
    "\n",
    "## 三、解题思路\n",
    "\n",
    "### 一、暴力法"
   ]
  },
  {
   "cell_type": "code",
   "execution_count": 1,
   "metadata": {},
   "outputs": [],
   "source": [
    "def stringMatching(words):\n",
    "    return [s for s in words if any(s != i and s in i for i in words)]"
   ]
  },
  {
   "cell_type": "code",
   "execution_count": 2,
   "metadata": {},
   "outputs": [
    {
     "data": {
      "text/plain": [
       "['as', 'hero']"
      ]
     },
     "execution_count": 2,
     "metadata": {},
     "output_type": "execute_result"
    }
   ],
   "source": [
    "stringMatching([\"mass\",\"as\",\"hero\",\"superhero\"])"
   ]
  },
  {
   "cell_type": "code",
   "execution_count": 3,
   "metadata": {},
   "outputs": [
    {
     "data": {
      "text/plain": [
       "['et', 'code']"
      ]
     },
     "execution_count": 3,
     "metadata": {},
     "output_type": "execute_result"
    }
   ],
   "source": [
    "stringMatching([\"leetcode\",\"et\",\"code\"])"
   ]
  },
  {
   "cell_type": "code",
   "execution_count": 4,
   "metadata": {},
   "outputs": [
    {
     "data": {
      "text/plain": [
       "[]"
      ]
     },
     "execution_count": 4,
     "metadata": {},
     "output_type": "execute_result"
    }
   ],
   "source": [
    "stringMatching([\"blue\",\"green\",\"bu\"])"
   ]
  },
  {
   "cell_type": "markdown",
   "metadata": {},
   "source": [
    "### 二、暴力法优化\n",
    "\n",
    "先按长度排序，只需匹配比自己长的"
   ]
  },
  {
   "cell_type": "code",
   "execution_count": 5,
   "metadata": {},
   "outputs": [],
   "source": [
    "def stringMatching(words):\n",
    "    words = sorted(words,  key = lambda x : len(x))\n",
    "    n = len(words)\n",
    "    ret = []\n",
    "    for i in range(n):\n",
    "        for j in range(i, n):\n",
    "            wordi, wordj = words[i], words[j]\n",
    "            if len(wordj) > len(wordi) and wordi in wordj:\n",
    "                ret.append(wordi)\n",
    "                break\n",
    "    return ret"
   ]
  },
  {
   "cell_type": "code",
   "execution_count": 6,
   "metadata": {},
   "outputs": [
    {
     "data": {
      "text/plain": [
       "['as', 'hero']"
      ]
     },
     "execution_count": 6,
     "metadata": {},
     "output_type": "execute_result"
    }
   ],
   "source": [
    "stringMatching([\"mass\",\"as\",\"hero\",\"superhero\"])"
   ]
  },
  {
   "cell_type": "code",
   "execution_count": 7,
   "metadata": {},
   "outputs": [
    {
     "data": {
      "text/plain": [
       "['et', 'code']"
      ]
     },
     "execution_count": 7,
     "metadata": {},
     "output_type": "execute_result"
    }
   ],
   "source": [
    "stringMatching([\"leetcode\",\"et\",\"code\"])"
   ]
  },
  {
   "cell_type": "code",
   "execution_count": 8,
   "metadata": {},
   "outputs": [
    {
     "data": {
      "text/plain": [
       "[]"
      ]
     },
     "execution_count": 8,
     "metadata": {},
     "output_type": "execute_result"
    }
   ],
   "source": [
    "stringMatching([\"blue\",\"green\",\"bu\"])"
   ]
  },
  {
   "cell_type": "code",
   "execution_count": null,
   "metadata": {},
   "outputs": [],
   "source": []
  }
 ],
 "metadata": {
  "kernelspec": {
   "display_name": "Python 3",
   "language": "python",
   "name": "python3"
  },
  "language_info": {
   "codemirror_mode": {
    "name": "ipython",
    "version": 3
   },
   "file_extension": ".py",
   "mimetype": "text/x-python",
   "name": "python",
   "nbconvert_exporter": "python",
   "pygments_lexer": "ipython3",
   "version": "3.6.5"
  }
 },
 "nbformat": 4,
 "nbformat_minor": 2
}
