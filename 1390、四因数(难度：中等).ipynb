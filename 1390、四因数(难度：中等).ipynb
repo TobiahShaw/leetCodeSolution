{
  "cells": [
    {
      "metadata": {
        "collapsed": true
      },
      "cell_type": "markdown",
      "source": "# 四因数\n\n**题目来源：力扣（LeetCode）**\n\n**链接：https://leetcode-cn.com/problems/four-divisors/**\n\n## 一、题目\n\n给你一个整数数组 nums，请你返回该数组中恰有四个因数的这些整数的各因数之和。\n\n如果数组中不存在满足题意的整数，则返回 0 。\n\n## 二、示例\n\n输入：nums = [21,4,7]\n\n输出：32\n\n解释：\n\n21 有 4 个因数：1, 3, 7, 21\n\n4 有 3 个因数：1, 2, 4\n\n7 有 2 个因数：1, 7\n\n答案仅为 21 的所有因数的和。\n\n## 三、解题思路\n\n如何寻找因数？\n\n从1开始迭代，迭代到数字本身？\n\n其实只需要迭代到数字的平方根，在这个过程中，只要得到的因数不是平方个，那么数字除以因数的结果也是因数。"
    },
    {
      "metadata": {
        "trusted": true
      },
      "cell_type": "code",
      "source": "def sumFourDivisors(nums):\n    def get_four_divisors(num):\n        result = []\n        for i in range(1, int(num**0.5) + 1):\n            if num % i == 0:\n                result.append(i)\n                if num//i != i:\n                    result.append(num//i)\n        return result if len(result) == 4 else [] \n    result = 0\n    for num in nums:\n        divisors = get_four_divisors(num)\n        result += sum(divisors) \n    return result",
      "execution_count": 1,
      "outputs": []
    },
    {
      "metadata": {
        "trusted": true
      },
      "cell_type": "code",
      "source": "sumFourDivisors([21,4,7])",
      "execution_count": 2,
      "outputs": [
        {
          "output_type": "execute_result",
          "execution_count": 2,
          "data": {
            "text/plain": "32"
          },
          "metadata": {}
        }
      ]
    },
    {
      "metadata": {
        "trusted": true
      },
      "cell_type": "code",
      "source": "",
      "execution_count": null,
      "outputs": []
    }
  ],
  "metadata": {
    "kernelspec": {
      "name": "python36",
      "display_name": "Python 3.6",
      "language": "python"
    },
    "language_info": {
      "mimetype": "text/x-python",
      "nbconvert_exporter": "python",
      "name": "python",
      "pygments_lexer": "ipython3",
      "version": "3.6.6",
      "file_extension": ".py",
      "codemirror_mode": {
        "version": 3,
        "name": "ipython"
      }
    }
  },
  "nbformat": 4,
  "nbformat_minor": 2
}