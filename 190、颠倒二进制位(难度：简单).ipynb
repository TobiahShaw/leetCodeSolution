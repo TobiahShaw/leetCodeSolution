{
 "cells": [
  {
   "cell_type": "markdown",
   "metadata": {},
   "source": [
    "# 颠倒二进制位\n",
    "\n",
    "**题目来源：力扣（LeetCode）**\n",
    "\n",
    "**链接：https://leetcode-cn.com/problems/reverse-bits/**\n",
    "\n",
    "## 一、题目\n",
    "\n",
    "颠倒给定的 32 位无符号整数的二进制位。\n",
    "\n",
    "### 提示：\n",
    "\n",
    "- 请注意，在某些语言（如 Java）中，没有无符号整数类型。在这种情况下，输入和输出都将被指定为有符号整数类型，并且不应影响您的实现，因为无论整数是有符号的还是无符号的，其内部的二进制表示形式都是相同的。\n",
    "- 在 Java 中，编译器使用二进制补码记法来表示有符号整数。因此，在 示例 2 中，输入表示有符号整数 -3，输出表示有符号整数 -1073741825。\n",
    "- 输入是一个长度为 32 的二进制字符串\n",
    "\n",
    "### 进阶:\n",
    "\n",
    "- 如果多次调用这个函数，你将如何优化你的算法？\n",
    "\n",
    "## 二、示例\n",
    "\n",
    "### 示例 1：\n",
    "\n",
    "输入: 00000010100101000001111010011100\n",
    "\n",
    "输出: 00111001011110000010100101000000\n",
    "\n",
    "解释: 输入的二进制串 00000010100101000001111010011100 表示无符号整数 43261596，因此返回 964176192，其二进制表示形式为 00111001011110000010100101000000。\n",
    "\n",
    "### 示例 2：\n",
    "\n",
    "输入：11111111111111111111111111111101\n",
    "\n",
    "输出：10111111111111111111111111111111\n",
    "\n",
    "解释：输入的二进制串 11111111111111111111111111111101 表示无符号整数 4294967293，因此返回 3221225471 其二进制表示形式为 10111111111111111111111111111111 。\n",
    "\n",
    "## 三、解题思路\n",
    "\n",
    "### 一、利用字符串\n",
    "\n",
    "将n转换为二进制，把0b之后的值（在前面加\"0\"）反转，再转换为整数。"
   ]
  },
  {
   "cell_type": "code",
   "execution_count": 1,
   "metadata": {},
   "outputs": [],
   "source": [
    "def reverseBits(n: int) -> int:\n",
    "    return int(\"0b\"+(\"0\"*32+bin(n)[2:])[-32:][::-1], 2)"
   ]
  },
  {
   "cell_type": "code",
   "execution_count": 2,
   "metadata": {},
   "outputs": [
    {
     "data": {
      "text/plain": [
       "'0b111001011110000010100101000000'"
      ]
     },
     "execution_count": 2,
     "metadata": {},
     "output_type": "execute_result"
    }
   ],
   "source": [
    "bin(reverseBits(int(\"00000010100101000001111010011100\", 2)))"
   ]
  },
  {
   "cell_type": "code",
   "execution_count": 3,
   "metadata": {},
   "outputs": [
    {
     "data": {
      "text/plain": [
       "'0b10111111111111111111111111111111'"
      ]
     },
     "execution_count": 3,
     "metadata": {},
     "output_type": "execute_result"
    }
   ],
   "source": [
    "bin(reverseBits(int(\"11111111111111111111111111111101\", 2)))"
   ]
  },
  {
   "cell_type": "markdown",
   "metadata": {},
   "source": [
    "### 二、逐位颠倒"
   ]
  },
  {
   "cell_type": "code",
   "execution_count": 4,
   "metadata": {},
   "outputs": [],
   "source": [
    "def reverseBits(n: int) -> int:\n",
    "    result = 0\n",
    "    for i in range(32):\n",
    "        result = (result << 1) + (n & 1)\n",
    "        n >>= 1\n",
    "    return result"
   ]
  },
  {
   "cell_type": "code",
   "execution_count": 5,
   "metadata": {},
   "outputs": [
    {
     "data": {
      "text/plain": [
       "'0b111001011110000010100101000000'"
      ]
     },
     "execution_count": 5,
     "metadata": {},
     "output_type": "execute_result"
    }
   ],
   "source": [
    "bin(reverseBits(int(\"00000010100101000001111010011100\", 2)))"
   ]
  },
  {
   "cell_type": "code",
   "execution_count": 6,
   "metadata": {},
   "outputs": [
    {
     "data": {
      "text/plain": [
       "'0b10111111111111111111111111111111'"
      ]
     },
     "execution_count": 6,
     "metadata": {},
     "output_type": "execute_result"
    }
   ],
   "source": [
    "bin(reverseBits(int(\"11111111111111111111111111111101\", 2)))"
   ]
  },
  {
   "cell_type": "code",
   "execution_count": null,
   "metadata": {},
   "outputs": [],
   "source": []
  }
 ],
 "metadata": {
  "kernelspec": {
   "display_name": "Python 3 (ipykernel)",
   "language": "python",
   "name": "python3"
  },
  "language_info": {
   "codemirror_mode": {
    "name": "ipython",
    "version": 3
   },
   "file_extension": ".py",
   "mimetype": "text/x-python",
   "name": "python",
   "nbconvert_exporter": "python",
   "pygments_lexer": "ipython3",
   "version": "3.9.10+"
  }
 },
 "nbformat": 4,
 "nbformat_minor": 2
}
