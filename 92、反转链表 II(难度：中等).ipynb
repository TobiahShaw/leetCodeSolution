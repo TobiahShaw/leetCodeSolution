{
  "cells": [
    {
      "metadata": {
        "collapsed": true
      },
      "cell_type": "markdown",
      "source": "# 反转链表 II\n\n**题目来源：力扣（LeetCode）**\n\n**链接：https://leetcode-cn.com/problems/reverse-linked-list-ii/**\n\n## 一、题目\n\n反转从位置 m 到 n 的链表。请使用一趟扫描完成反转。\n\n说明:\n\n1 ≤ m ≤ n ≤ 链表长度。\n\n## 二、示例\n\n输入: 1->2->3->4->5->NULL, m = 2, n = 4\n\n输出: 1->4->3->2->5->NULL\n\n## 三、解题思路"
    },
    {
      "metadata": {
        "trusted": true
      },
      "cell_type": "code",
      "source": "class ListNode:\n    def __init__(self, x):\n        self.val = x\n        self.next = None",
      "execution_count": 1,
      "outputs": []
    },
    {
      "metadata": {},
      "cell_type": "markdown",
      "source": "### 部分区间调转指针方向\n\n- 寻找关键节点——逆置段的前驱和后继，逆置前逆置段的头节点和尾节点\n- 对区间进行逆置\n- 将逆置段的前驱的next指向逆置前逆置段的尾节点，将逆置前逆置段头节点的next指向逆置段的后继\n\n**注意**需要有个holder，其next指向初始链表的head用于返回，并方便处理m=1的情况"
    },
    {
      "metadata": {
        "trusted": true
      },
      "cell_type": "code",
      "source": "def reverseBetween(head: ListNode, m: int, n: int) -> ListNode:\n        start = None\n        end = None\n        tail = None\n        holder = ListNode(0)\n        holder.next = head\n\n        curr = holder\n        prev = None\n        index = 0\n        while curr:\n            if index < m or index > n:\n                if index == m - 1:\n                    start = curr\n                if index == n + 1:\n                    tail = curr\n                    break\n                index += 1\n                curr = curr.next\n                continue\n            if index == m:\n                end = curr\n            curr_n = curr.next\n            curr.next = prev\n            prev = curr\n            curr = curr_n\n            index += 1\n        if start:\n            start.next = prev\n        else:\n            start = prev\n        if end:\n            end.next = tail\n        return holder.next",
      "execution_count": 2,
      "outputs": []
    },
    {
      "metadata": {
        "trusted": true
      },
      "cell_type": "code",
      "source": "head = ListNode(1)\nhead.next = ListNode(2)\nhead.next.next = ListNode(3)\nhead.next.next.next = ListNode(4)\nhead.next.next.next.next = ListNode(5)",
      "execution_count": 3,
      "outputs": []
    },
    {
      "metadata": {
        "trusted": true
      },
      "cell_type": "code",
      "source": "reverseBetween(head, 2, 4)\nwhile head is not None:\n    print(head.val, end=' ')\n    head = head.next",
      "execution_count": 4,
      "outputs": [
        {
          "output_type": "stream",
          "text": "1 4 3 2 5 ",
          "name": "stdout"
        }
      ]
    },
    {
      "metadata": {},
      "cell_type": "markdown",
      "source": "### 另一种写法"
    },
    {
      "metadata": {
        "trusted": true
      },
      "cell_type": "code",
      "source": "def reverseBetween(head: ListNode, m: int, n: int) -> ListNode:\n    change_len = n - m + 1 # 需要逆置的长度\n    pre_head = None # 逆置段的前躯\n    result = head\n    while head and m - 1:\n        # 索引逆置段前驱，并将head指向逆置段逆置前head\n        pre_head = head\n        head = head.next\n        m -= 1\n    modify_list_tail = head # 逆置前的链表头，逆置后的链表尾\n    new_head = None\n    while head and change_len:\n        _next = head.next\n        head.next = new_head\n        new_head = head\n        head = _next\n        change_len -= 1\n    modify_list_tail.next = head\n    if pre_head:\n        pre_head.next = new_head\n    else:\n        result = new_head\n    return result",
      "execution_count": 5,
      "outputs": []
    },
    {
      "metadata": {
        "trusted": true
      },
      "cell_type": "code",
      "source": "head = ListNode(1)\nhead.next = ListNode(2)\nhead.next.next = ListNode(3)\nhead.next.next.next = ListNode(4)\nhead.next.next.next.next = ListNode(5)",
      "execution_count": 6,
      "outputs": []
    },
    {
      "metadata": {
        "trusted": true
      },
      "cell_type": "code",
      "source": "reverseBetween(head, 2, 4)\nwhile head is not None:\n    print(head.val, end=' ')\n    head = head.next",
      "execution_count": 7,
      "outputs": [
        {
          "output_type": "stream",
          "text": "1 4 3 2 5 ",
          "name": "stdout"
        }
      ]
    },
    {
      "metadata": {
        "trusted": true
      },
      "cell_type": "code",
      "source": "",
      "execution_count": null,
      "outputs": []
    }
  ],
  "metadata": {
    "kernelspec": {
      "name": "python36",
      "display_name": "Python 3.6",
      "language": "python"
    },
    "language_info": {
      "mimetype": "text/x-python",
      "nbconvert_exporter": "python",
      "name": "python",
      "pygments_lexer": "ipython3",
      "version": "3.6.6",
      "file_extension": ".py",
      "codemirror_mode": {
        "version": 3,
        "name": "ipython"
      }
    }
  },
  "nbformat": 4,
  "nbformat_minor": 2
}