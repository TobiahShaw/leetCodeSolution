{
 "cells": [
  {
   "cell_type": "markdown",
   "metadata": {},
   "source": [
    "# 丑数II\n",
    "\n",
    "**题目来源：力扣（LeetCode）**\n",
    "\n",
    "**链接：https://leetcode-cn.com/problems/ugly-number-ii/**\n",
    "\n",
    "## 一、题目\n",
    "\n",
    "给你一个整数 n ，请你找出并返回第 n 个 丑数 。\n",
    "\n",
    "丑数 就是只包含质因数 2、3 和/或 5 的正整数。\n",
    "\n",
    "## 二、示例\n",
    "\n",
    "### 示例 1：\n",
    "\n",
    "输入：n = 10\n",
    "\n",
    "输出：12\n",
    "\n",
    "解释：[1, 2, 3, 4, 5, 6, 8, 9, 10, 12] 是由前 10 个丑数组成的序列。\n",
    "\n",
    "示例 2：\n",
    "\n",
    "输入：n = 1\n",
    "\n",
    "输出：1\n",
    "\n",
    "解释：1 通常被视为丑数。\n",
    "\n",
    "## 三、解题思路\n",
    "\n",
    "### 暴力法"
   ]
  },
  {
   "cell_type": "code",
   "execution_count": 1,
   "metadata": {},
   "outputs": [],
   "source": [
    "def nthUglyNumber(n: int) -> int:\n",
    "    def isUgly(num: int, uglySet) -> bool:\n",
    "        while True:\n",
    "            if num == 0:\n",
    "                return False\n",
    "            if num == 1:\n",
    "                return True\n",
    "            if num in uglySet:\n",
    "                return True\n",
    "            if num % 2 == 0:\n",
    "                num //= 2\n",
    "            elif num % 3 == 0:\n",
    "                num //= 3\n",
    "            elif num % 5 == 0:\n",
    "                num //= 5\n",
    "            else:\n",
    "                return False\n",
    "    index = 1\n",
    "    cur = 1\n",
    "    uglySet = {1}\n",
    "    while index < n:\n",
    "        cur += 1\n",
    "        if isUgly(cur, uglySet):\n",
    "            index += 1\n",
    "            uglySet.add(cur)\n",
    "    return cur"
   ]
  },
  {
   "cell_type": "code",
   "execution_count": 2,
   "metadata": {},
   "outputs": [
    {
     "data": {
      "text/plain": [
       "12"
      ]
     },
     "execution_count": 2,
     "metadata": {},
     "output_type": "execute_result"
    }
   ],
   "source": [
    "nthUglyNumber(10)"
   ]
  },
  {
   "cell_type": "code",
   "execution_count": 3,
   "metadata": {},
   "outputs": [
    {
     "data": {
      "text/plain": [
       "1"
      ]
     },
     "execution_count": 3,
     "metadata": {},
     "output_type": "execute_result"
    }
   ],
   "source": [
    "nthUglyNumber(1)"
   ]
  },
  {
   "cell_type": "code",
   "execution_count": null,
   "metadata": {},
   "outputs": [],
   "source": []
  }
 ],
 "metadata": {
  "kernelspec": {
   "display_name": "Python 3",
   "language": "python",
   "name": "python3"
  },
  "language_info": {
   "codemirror_mode": {
    "name": "ipython",
    "version": 3
   },
   "file_extension": ".py",
   "mimetype": "text/x-python",
   "name": "python",
   "nbconvert_exporter": "python",
   "pygments_lexer": "ipython3",
   "version": "3.6.5"
  }
 },
 "nbformat": 4,
 "nbformat_minor": 2
}
