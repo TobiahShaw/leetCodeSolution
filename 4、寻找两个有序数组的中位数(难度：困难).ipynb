{
 "cells": [
  {
   "cell_type": "markdown",
   "metadata": {
    "collapsed": true
   },
   "source": [
    "# 寻找两个有序数组的中位数\n",
    "\n",
    "**题目来源：力扣（LeetCode）**\n",
    "\n",
    "**链接：https://leetcode-cn.com/problems/median-of-two-sorted-arrays**\n",
    "\n",
    "## 一、题目\n",
    "\n",
    "给定两个大小为 m 和 n 的有序数组 nums1 和 nums2。\n",
    "\n",
    "请你找出这两个有序数组的中位数，并且要求算法的 **时间复杂度为 $O(log(m + n))$ **。\n",
    "\n",
    "你可以假设 nums1 和 nums2 不会同时为空。\n",
    "\n",
    "### 难点：时间复杂度要求\n",
    "\n",
    "## 二、示例\n",
    "\n",
    "### 示例 1:\n",
    "\n",
    "nums1 = [1, 3]\n",
    "\n",
    "nums2 = [2]\n",
    "\n",
    "则中位数是 2.0\n",
    "\n",
    "### 示例 2:\n",
    "\n",
    "nums1 = [1, 2]\n",
    "\n",
    "nums2 = [3, 4]\n",
    "\n",
    "则中位数是 (2 + 3)/2 = 2.5\n",
    "\n",
    "## 三、解题思路\n",
    "\n",
    "这道题看起来并不是很难，如果使用暴力法肯定能很简单的接出来，之所以这道题难度为困难，主要还是因为其***时间复杂度的要求，同学们看题的时候一定要仔细***。\n",
    "\n",
    "介于笔者本人水平原因，且 python 语言使用不多，从抛砖和联系语法的角度我还是实现暴力法。\n",
    "\n",
    "### 一、暴力法（错误解法，时间复杂度超限）"
   ]
  },
  {
   "cell_type": "code",
   "execution_count": 1,
   "metadata": {},
   "outputs": [],
   "source": [
    "def findMedianSortedArrays(nums1, nums2):\n",
    "    total_nums = len(nums1) + len(nums2)\n",
    "    mid_index1 = 0\n",
    "    mid_index2 = 0\n",
    "    if total_nums % 2:\n",
    "        mid_index1 = mid_index2 = total_nums // 2\n",
    "    else:\n",
    "        mid_index1, mid_index2 = total_nums // 2 - 1, total_nums // 2\n",
    "    sorted_comb = []\n",
    "    index1 = 0\n",
    "    index2 = 0\n",
    "    # 使用 total_nums + 1 和 数组长度判断是为了边界条件\n",
    "    for i in range(total_nums + 1):\n",
    "        if index1 >= len(nums1) or index2 >= len(nums2):\n",
    "            if index1 >= len(nums1):\n",
    "                sorted_comb.append(nums2[index2])\n",
    "                index2 += 1\n",
    "            else:\n",
    "                sorted_comb.append(nums1[index1])\n",
    "                index1 += 1\n",
    "        else:\n",
    "            if nums1[index1] > nums2[index2]:\n",
    "                sorted_comb.append(nums2[index2])\n",
    "                index2 += 1\n",
    "            else:\n",
    "                sorted_comb.append(nums1[index1])\n",
    "                index1 += 1\n",
    "\n",
    "        if len(sorted_comb) == mid_index2 + 1:\n",
    "            return (sorted_comb[mid_index1] + sorted_comb[mid_index2]) / 2"
   ]
  },
  {
   "cell_type": "code",
   "execution_count": 2,
   "metadata": {},
   "outputs": [
    {
     "data": {
      "text/plain": [
       "2.0"
      ]
     },
     "execution_count": 2,
     "metadata": {},
     "output_type": "execute_result"
    }
   ],
   "source": [
    "findMedianSortedArrays([1, 3], [2])"
   ]
  },
  {
   "cell_type": "code",
   "execution_count": 3,
   "metadata": {},
   "outputs": [
    {
     "data": {
      "text/plain": [
       "2.5"
      ]
     },
     "execution_count": 3,
     "metadata": {},
     "output_type": "execute_result"
    }
   ],
   "source": [
    "findMedianSortedArrays([1, 3], [2, 4])"
   ]
  },
  {
   "cell_type": "code",
   "execution_count": 4,
   "metadata": {},
   "outputs": [
    {
     "data": {
      "text/plain": [
       "3.0"
      ]
     },
     "execution_count": 4,
     "metadata": {},
     "output_type": "execute_result"
    }
   ],
   "source": [
    "findMedianSortedArrays([], [2, 4])"
   ]
  },
  {
   "cell_type": "code",
   "execution_count": 5,
   "metadata": {},
   "outputs": [
    {
     "data": {
      "text/plain": [
       "2.0"
      ]
     },
     "execution_count": 5,
     "metadata": {},
     "output_type": "execute_result"
    }
   ],
   "source": [
    "findMedianSortedArrays([], [2])"
   ]
  },
  {
   "cell_type": "code",
   "execution_count": 6,
   "metadata": {},
   "outputs": [
    {
     "data": {
      "text/plain": [
       "3.5"
      ]
     },
     "execution_count": 6,
     "metadata": {},
     "output_type": "execute_result"
    }
   ],
   "source": [
    "findMedianSortedArrays([3, 4], [])"
   ]
  },
  {
   "cell_type": "markdown",
   "metadata": {},
   "source": [
    "### 二、二分查找\n",
    "\n",
    "说到时间复杂度为 $O(log(m + n))$，那首先想到的应该就是二分法了。\n",
    "\n",
    "#### 将问题一般化\n",
    "\n",
    "求两个有序数组的第k个数。则在原问题当中 k = (m+n) / 2。\n",
    "\n",
    "#### 求解思路\n",
    "\n",
    "1. 分别找出第一个和第二个数组的第 k / 2 个数 a 和 b\n",
    "\n",
    "2. 比较 a 和 b，如果 a < b 说明第 k 个数位于 a数组的第 k / 2个数后半段，或者b数组的 第 k / 2 个数前半段\n",
    "\n",
    "3. 重复进行第一步操作\n",
    "\n",
    "**[方法来源](https://leetcode-cn.com/problems/median-of-two-sorted-arrays/solution/zhen-zheng-ologmnde-jie-fa-na-xie-shuo-gui-bing-pa/)， 版权归原作者所有**"
   ]
  },
  {
   "cell_type": "code",
   "execution_count": 7,
   "metadata": {},
   "outputs": [],
   "source": [
    "def find_kth(a, a_begin, b, b_begin, k):\n",
    "    if a_begin >= len(a):\n",
    "        return b[b_begin + k - 1]\n",
    "    if b_begin >= len(b):\n",
    "        return a[a_begin + k - 1]\n",
    "    \n",
    "    if k == 1:\n",
    "        return min(a[a_begin], b[b_begin])\n",
    "    \n",
    "    mid_a = 9223372036854775807\n",
    "    mid_b = 9223372036854775807\n",
    "    \n",
    "    if a_begin + k // 2 - 1 < len(a):\n",
    "        mid_a = a[a_begin + k // 2 - 1]\n",
    "    if b_begin + k // 2 - 1 < len(b):\n",
    "        mid_b = b[b_begin + k // 2 - 1]\n",
    "    \n",
    "    if mid_a < mid_b:\n",
    "        return find_kth(a, a_begin + k // 2, b, b_begin, k - k // 2);\n",
    "    \n",
    "    return find_kth(a, a_begin, b, b_begin + k // 2, k - k // 2)"
   ]
  },
  {
   "cell_type": "code",
   "execution_count": 8,
   "metadata": {},
   "outputs": [],
   "source": [
    "def findMedianSortedArrays(nums1, nums2):\n",
    "    m, n = len(nums1), len(nums2)\n",
    "    \n",
    "    if m == 0:\n",
    "        if n % 2 != 0:\n",
    "            return nums2[n // 2]\n",
    "        return (nums2[n // 2] + nums2[n // 2 - 1]) / 2\n",
    "    \n",
    "    if n == 0:\n",
    "        if m % 2 != 0:\n",
    "            return nums1[m // 2]\n",
    "        return (nums1[m // 2] + nums1[m // 2 - 1]) / 2\n",
    "    \n",
    "    total = m + n\n",
    "    \n",
    "    if total % 2 != 0:\n",
    "        return find_kth(nums1, 0, nums2, 0, total // 2 + 1)\n",
    "    \n",
    "    return (find_kth(nums1, 0, nums2, 0, total // 2) + find_kth(nums1, 0, nums2, 0, total // 2 + 1)) / 2"
   ]
  },
  {
   "cell_type": "code",
   "execution_count": 9,
   "metadata": {},
   "outputs": [
    {
     "data": {
      "text/plain": [
       "2"
      ]
     },
     "execution_count": 9,
     "metadata": {},
     "output_type": "execute_result"
    }
   ],
   "source": [
    "findMedianSortedArrays([1, 3], [2])"
   ]
  },
  {
   "cell_type": "code",
   "execution_count": 10,
   "metadata": {},
   "outputs": [
    {
     "data": {
      "text/plain": [
       "2.5"
      ]
     },
     "execution_count": 10,
     "metadata": {},
     "output_type": "execute_result"
    }
   ],
   "source": [
    "findMedianSortedArrays([1, 3], [2, 4])"
   ]
  },
  {
   "cell_type": "code",
   "execution_count": 11,
   "metadata": {},
   "outputs": [
    {
     "data": {
      "text/plain": [
       "3.0"
      ]
     },
     "execution_count": 11,
     "metadata": {},
     "output_type": "execute_result"
    }
   ],
   "source": [
    "findMedianSortedArrays([], [2, 4])"
   ]
  },
  {
   "cell_type": "code",
   "execution_count": 12,
   "metadata": {},
   "outputs": [
    {
     "data": {
      "text/plain": [
       "2"
      ]
     },
     "execution_count": 12,
     "metadata": {},
     "output_type": "execute_result"
    }
   ],
   "source": [
    "findMedianSortedArrays([], [2])"
   ]
  },
  {
   "cell_type": "code",
   "execution_count": 13,
   "metadata": {},
   "outputs": [
    {
     "data": {
      "text/plain": [
       "3.5"
      ]
     },
     "execution_count": 13,
     "metadata": {},
     "output_type": "execute_result"
    }
   ],
   "source": [
    "findMedianSortedArrays([3, 4], [])"
   ]
  },
  {
   "cell_type": "markdown",
   "metadata": {},
   "source": [
    "### 三、归并排序"
   ]
  },
  {
   "cell_type": "code",
   "execution_count": 14,
   "metadata": {},
   "outputs": [],
   "source": [
    "def findMedianSortedArrays(nums1, nums2) -> float:\n",
    "    nums = []\n",
    "    i = j = 0\n",
    "    while i < len(nums1) or j < len(nums2):\n",
    "        if i >= len(nums1):\n",
    "            nums.append(nums2[j])\n",
    "            j+=1\n",
    "        elif j >= len(nums2):\n",
    "            nums.append(nums1[i])\n",
    "            i+=1\n",
    "        elif nums1[i] < nums2[j]:\n",
    "            nums.append(nums1[i])\n",
    "            i+=1\n",
    "        else:\n",
    "            nums.append(nums2[j])\n",
    "            j+=1\n",
    "    return nums[len(nums) // 2] if len(nums) % 2 == 1 else (nums[len(nums) // 2] + nums[len(nums) // 2 - 1]) / 2"
   ]
  },
  {
   "cell_type": "code",
   "execution_count": 15,
   "metadata": {},
   "outputs": [
    {
     "data": {
      "text/plain": [
       "2"
      ]
     },
     "execution_count": 15,
     "metadata": {},
     "output_type": "execute_result"
    }
   ],
   "source": [
    "findMedianSortedArrays([1, 3], [2])"
   ]
  },
  {
   "cell_type": "code",
   "execution_count": 16,
   "metadata": {},
   "outputs": [
    {
     "data": {
      "text/plain": [
       "2.5"
      ]
     },
     "execution_count": 16,
     "metadata": {},
     "output_type": "execute_result"
    }
   ],
   "source": [
    "findMedianSortedArrays([1, 3], [2, 4])"
   ]
  },
  {
   "cell_type": "code",
   "execution_count": 17,
   "metadata": {},
   "outputs": [
    {
     "data": {
      "text/plain": [
       "3.0"
      ]
     },
     "execution_count": 17,
     "metadata": {},
     "output_type": "execute_result"
    }
   ],
   "source": [
    "findMedianSortedArrays([], [2, 4])"
   ]
  },
  {
   "cell_type": "code",
   "execution_count": 18,
   "metadata": {},
   "outputs": [
    {
     "data": {
      "text/plain": [
       "2"
      ]
     },
     "execution_count": 18,
     "metadata": {},
     "output_type": "execute_result"
    }
   ],
   "source": [
    "findMedianSortedArrays([], [2])"
   ]
  },
  {
   "cell_type": "code",
   "execution_count": 19,
   "metadata": {},
   "outputs": [
    {
     "data": {
      "text/plain": [
       "3.5"
      ]
     },
     "execution_count": 19,
     "metadata": {},
     "output_type": "execute_result"
    }
   ],
   "source": [
    "findMedianSortedArrays([3, 4], [])"
   ]
  },
  {
   "cell_type": "code",
   "execution_count": null,
   "metadata": {},
   "outputs": [],
   "source": []
  }
 ],
 "metadata": {
  "kernelspec": {
   "display_name": "Python 3",
   "language": "python",
   "name": "python3"
  },
  "language_info": {
   "codemirror_mode": {
    "name": "ipython",
    "version": 3
   },
   "file_extension": ".py",
   "mimetype": "text/x-python",
   "name": "python",
   "nbconvert_exporter": "python",
   "pygments_lexer": "ipython3",
   "version": "3.6.5"
  }
 },
 "nbformat": 4,
 "nbformat_minor": 2
}
