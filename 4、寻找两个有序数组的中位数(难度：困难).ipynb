{
  "cells": [
    {
      "metadata": {
        "collapsed": true
      },
      "cell_type": "markdown",
      "source": "# 寻找两个有序数组的中位数\n\n**题目来源：力扣（LeetCode）**\n\n**链接：https://leetcode-cn.com/problems/median-of-two-sorted-arrays**\n\n## 一、题目\n\n给定两个大小为 m 和 n 的有序数组 nums1 和 nums2。\n\n请你找出这两个有序数组的中位数，并且要求算法的 **时间复杂度为 $O(log(m + n))$ **。\n\n你可以假设 nums1 和 nums2 不会同时为空。\n\n### 难点：时间复杂度要求\n\n## 二、示例\n\n### 示例 1:\n\nnums1 = [1, 3]\n\nnums2 = [2]\n\n则中位数是 2.0\n\n### 示例 2:\n\nnums1 = [1, 2]\n\nnums2 = [3, 4]\n\n则中位数是 (2 + 3)/2 = 2.5\n\n## 三、解题思路\n\n这道题看起来并不是很难，如果使用暴力法肯定能很简单的接出来，之所以这道题难度为困难，主要还是因为其***时间复杂度的要求，同学们看题的时候一定要仔细***。\n\n介于笔者本人水平原因，且 python 语言使用不多，从抛砖和联系语法的角度我还是实现暴力法。\n\n### 一、暴力法（错误解法，时间复杂度超限）"
    },
    {
      "metadata": {
        "trusted": true
      },
      "cell_type": "code",
      "source": "def findMedianSortedArrays(nums1, nums2):\n    total_nums = len(nums1) + len(nums2)\n    mid_index1 = 0\n    mid_index2 = 0\n    if total_nums % 2:\n        mid_index1 = mid_index2 = total_nums // 2\n    else:\n        mid_index1, mid_index2 = total_nums // 2 - 1, total_nums // 2\n    sorted_comb = []\n    index1 = 0\n    index2 = 0\n    # 使用 total_nums + 1 和 数组长度判断是为了边界条件\n    for i in range(total_nums + 1):\n        if index1 >= len(nums1) or index2 >= len(nums2):\n            if index1 >= len(nums1):\n                sorted_comb.append(nums2[index2])\n                index2 += 1\n            else:\n                sorted_comb.append(nums1[index1])\n                index1 += 1\n        else:\n            if nums1[index1] > nums2[index2]:\n                sorted_comb.append(nums2[index2])\n                index2 += 1\n            else:\n                sorted_comb.append(nums1[index1])\n                index1 += 1\n\n        if len(sorted_comb) == mid_index2 + 1:\n            return (sorted_comb[mid_index1] + sorted_comb[mid_index2]) / 2",
      "execution_count": 1,
      "outputs": []
    },
    {
      "metadata": {},
      "cell_type": "markdown",
      "source": "### 二、通过数学归纳的方法\n\n**[方法来源](https://leetcode-cn.com/problems/median-of-two-sorted-arrays/solution/4-xun-zhao-liang-ge-you-xu-shu-zu-de-zhong-wei-shu/)， 版权归原作者所有**"
    },
    {
      "metadata": {
        "trusted": true
      },
      "cell_type": "code",
      "source": "",
      "execution_count": null,
      "outputs": []
    }
  ],
  "metadata": {
    "kernelspec": {
      "name": "python36",
      "display_name": "Python 3.6",
      "language": "python"
    },
    "language_info": {
      "mimetype": "text/x-python",
      "nbconvert_exporter": "python",
      "name": "python",
      "pygments_lexer": "ipython3",
      "version": "3.6.6",
      "file_extension": ".py",
      "codemirror_mode": {
        "version": 3,
        "name": "ipython"
      }
    }
  },
  "nbformat": 4,
  "nbformat_minor": 2
}