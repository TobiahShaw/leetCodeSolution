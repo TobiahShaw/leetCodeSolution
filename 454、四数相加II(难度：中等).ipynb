{
 "cells": [
  {
   "cell_type": "markdown",
   "metadata": {},
   "source": [
    "# 四数相加II\n",
    "\n",
    "**题目来源：力扣（LeetCode）**\n",
    "\n",
    "**链接：https://leetcode-cn.com/problems/4sum-ii/**\n",
    "\n",
    "## 一、题目\n",
    "\n",
    "给定四个包含整数的数组列表 A , B , C , D ,计算有多少个元组 (i, j, k, l) ，使得 A[i] + B[j] + C[k] + D[l] = 0。\n",
    "\n",
    "为了使问题简单化，所有的 A, B, C, D 具有相同的长度 N，且 0 ≤ N ≤ 500 。所有整数的范围在 $ -2^{28} $ 到 $ 2^{28} - 1 $ 之间，最终结果不会超过 $ 2^{31} - 1 $ 。\n",
    "\n",
    "## 二、示例\n",
    "\n",
    "A = [ 1, 2]\n",
    "\n",
    "B = [-2,-1]\n",
    "\n",
    "C = [-1, 2]\n",
    "\n",
    "D = [ 0, 2]\n",
    "\n",
    "输出:\n",
    "\n",
    "2\n",
    "\n",
    "解释:\n",
    "两个元组如下:\n",
    "\n",
    "1. (0, 0, 0, 1) -> A[0] + B[0] + C[0] + D[1] = 1 + (-2) + (-1) + 2 = 0\n",
    "\n",
    "2. (1, 1, 0, 0) -> A[1] + B[1] + C[0] + D[0] = 2 + (-1) + (-1) + 0 = 0\n",
    "\n",
    "## 三、解题思路\n",
    "\n",
    "### 一、回溯法（超时）"
   ]
  },
  {
   "cell_type": "code",
   "execution_count": 1,
   "metadata": {},
   "outputs": [],
   "source": [
    "def fourSumCount(A, B, C, D) -> int:\n",
    "    nums = [A, B, C, D]\n",
    "    def generate(item, result):\n",
    "        if len(item) == 4:\n",
    "            if sum(item) == 0:\n",
    "                result.append(item[:])\n",
    "            return\n",
    "        nonlocal nums\n",
    "        for i in nums[len(item)]:\n",
    "            item.append(i)\n",
    "            generate(item, result)\n",
    "            item.pop()\n",
    "    result = []\n",
    "    generate([], result)\n",
    "    return len(result)"
   ]
  },
  {
   "cell_type": "code",
   "execution_count": 2,
   "metadata": {},
   "outputs": [
    {
     "data": {
      "text/plain": [
       "2"
      ]
     },
     "execution_count": 2,
     "metadata": {},
     "output_type": "execute_result"
    }
   ],
   "source": [
    "fourSumCount([ 1, 2], [-2,-1], [-1, 2], [ 0, 2])"
   ]
  },
  {
   "cell_type": "markdown",
   "metadata": {},
   "source": [
    "### 二、利用字典\n",
    "\n",
    "1. 遍历A和B，将AB组合的值放入字典key，次数为value\n",
    "2. 遍历C和D，如果其组合值的相反数存在于字典中，则答案累加对应的value数"
   ]
  },
  {
   "cell_type": "code",
   "execution_count": 3,
   "metadata": {},
   "outputs": [],
   "source": [
    "def fourSumCount(A, B, C, D) -> int:\n",
    "    dic = {}\n",
    "    ret = 0\n",
    "    for i in A:\n",
    "        for j in B:\n",
    "            sumAB = i + j\n",
    "            if sumAB in dic:\n",
    "                dic[sumAB] += 1\n",
    "            else:\n",
    "                dic[sumAB] = 1\n",
    "    for i in C:\n",
    "        for j in D:\n",
    "            subSumCD = -(i + j)\n",
    "            if subSumCD in dic:\n",
    "                ret += dic[subSumCD]\n",
    "    return ret"
   ]
  },
  {
   "cell_type": "code",
   "execution_count": 4,
   "metadata": {},
   "outputs": [
    {
     "data": {
      "text/plain": [
       "2"
      ]
     },
     "execution_count": 4,
     "metadata": {},
     "output_type": "execute_result"
    }
   ],
   "source": [
    "fourSumCount([ 1, 2], [-2,-1], [-1, 2], [ 0, 2])"
   ]
  },
  {
   "cell_type": "code",
   "execution_count": null,
   "metadata": {},
   "outputs": [],
   "source": []
  }
 ],
 "metadata": {
  "kernelspec": {
   "display_name": "Python 3",
   "language": "python",
   "name": "python3"
  },
  "language_info": {
   "codemirror_mode": {
    "name": "ipython",
    "version": 3
   },
   "file_extension": ".py",
   "mimetype": "text/x-python",
   "name": "python",
   "nbconvert_exporter": "python",
   "pygments_lexer": "ipython3",
   "version": "3.6.5"
  }
 },
 "nbformat": 4,
 "nbformat_minor": 2
}
