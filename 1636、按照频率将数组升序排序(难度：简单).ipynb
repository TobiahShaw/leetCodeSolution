{
 "cells": [
  {
   "cell_type": "markdown",
   "metadata": {},
   "source": [
    "# 按照频率将数组升序排序\n",
    "\n",
    "**题目来源：力扣（LeetCode）**\n",
    "\n",
    "**链接：https://leetcode-cn.com/problems/sort-array-by-increasing-frequency/**\n",
    "\n",
    "## 一、题目\n",
    "\n",
    "给你一个整数数组 nums ，请你将数组按照每个值的频率 升序 排序。如果有多个值的频率相同，请你按照数值本身将它们 降序 排序。 \n",
    "\n",
    "请你返回排序后的数组。\n",
    "\n",
    "### 提示：\n",
    "\n",
    "- 1 <= nums.length <= 100\n",
    "- -100 <= nums[i] <= 100\n",
    "\n",
    "## 二、示例\n",
    "\n",
    "### 示例 1：\n",
    "\n",
    "输入：nums = [1,1,2,2,2,3]\n",
    "\n",
    "输出：[3,1,1,2,2,2]\n",
    "\n",
    "解释：'3' 频率为 1，'1' 频率为 2，'2' 频率为 3 。\n",
    "\n",
    "### 示例 2：\n",
    "\n",
    "输入：nums = [2,3,1,3,2]\n",
    "\n",
    "输出：[1,3,3,2,2]\n",
    "\n",
    "解释：'2' 和 '3' 频率都为 2 ，所以它们之间按照数值本身降序排序。\n",
    "\n",
    "### 示例 3：\n",
    "\n",
    "输入：nums = [-1,1,-6,4,5,-6,1,4,1]\n",
    "\n",
    "输出：[5,-1,4,4,-6,-6,1,1,1]\n",
    "\n",
    "## 三、解题思路\n",
    "\n",
    "### 自定义排序"
   ]
  },
  {
   "cell_type": "code",
   "execution_count": 1,
   "metadata": {},
   "outputs": [],
   "source": [
    "def frequencySort(nums):\n",
    "    group = {}\n",
    "    for i in nums:\n",
    "        if i in group:\n",
    "            group[i] += 1\n",
    "        else:\n",
    "            group[i] = 1\n",
    "    keys = list(group.keys())[:]\n",
    "    keys = sorted(keys, key=lambda x : (group[x], -x))\n",
    "    ret = []\n",
    "    for key in keys:\n",
    "        ret = ret + [key] * group[key]\n",
    "    return ret"
   ]
  },
  {
   "cell_type": "code",
   "execution_count": 2,
   "metadata": {},
   "outputs": [
    {
     "data": {
      "text/plain": [
       "[3, 1, 1, 2, 2, 2]"
      ]
     },
     "execution_count": 2,
     "metadata": {},
     "output_type": "execute_result"
    }
   ],
   "source": [
    "frequencySort([1,1,2,2,2,3])"
   ]
  },
  {
   "cell_type": "code",
   "execution_count": 3,
   "metadata": {},
   "outputs": [
    {
     "data": {
      "text/plain": [
       "[1, 3, 3, 2, 2]"
      ]
     },
     "execution_count": 3,
     "metadata": {},
     "output_type": "execute_result"
    }
   ],
   "source": [
    "frequencySort([2,3,1,3,2])"
   ]
  },
  {
   "cell_type": "code",
   "execution_count": 4,
   "metadata": {},
   "outputs": [
    {
     "data": {
      "text/plain": [
       "[5, -1, 4, 4, -6, -6, 1, 1, 1]"
      ]
     },
     "execution_count": 4,
     "metadata": {},
     "output_type": "execute_result"
    }
   ],
   "source": [
    "frequencySort([-1,1,-6,4,5,-6,1,4,1])"
   ]
  },
  {
   "cell_type": "code",
   "execution_count": null,
   "metadata": {},
   "outputs": [],
   "source": []
  }
 ],
 "metadata": {
  "kernelspec": {
   "display_name": "Python 3",
   "language": "python",
   "name": "python3"
  },
  "language_info": {
   "codemirror_mode": {
    "name": "ipython",
    "version": 3
   },
   "file_extension": ".py",
   "mimetype": "text/x-python",
   "name": "python",
   "nbconvert_exporter": "python",
   "pygments_lexer": "ipython3",
   "version": "3.6.5"
  }
 },
 "nbformat": 4,
 "nbformat_minor": 2
}
