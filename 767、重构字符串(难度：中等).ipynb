{
 "cells": [
  {
   "cell_type": "markdown",
   "metadata": {},
   "source": [
    "# 重构字符串\n",
    "\n",
    "**题目来源：力扣（LeetCode）**\n",
    "\n",
    "**链接：https://leetcode-cn.com/problems/reorganize-string/**\n",
    "\n",
    "## 一、题目\n",
    "\n",
    "给定一个字符串S，检查是否能重新排布其中的字母，使得两相邻的字符不同。\n",
    "\n",
    "若可行，输出任意可行的结果。若不可行，返回空字符串。\n",
    "\n",
    "## 二、示例\n",
    "\n",
    "### 示例 1：\n",
    "\n",
    "输入: S = \"aab\"\n",
    "\n",
    "输出: \"aba\"\n",
    "\n",
    "### 示例 2:\n",
    "\n",
    "输入: S = \"aaab\"\n",
    "\n",
    "输出: \"\"\n",
    "\n",
    "## 三、解题思路\n",
    "\n",
    "### 插空"
   ]
  },
  {
   "cell_type": "code",
   "execution_count": 1,
   "metadata": {},
   "outputs": [],
   "source": [
    "def reorganizeString(S: str) -> str:\n",
    "    import collections\n",
    "    # 按照字符出现的次数排序\n",
    "    s = sorted(S)\n",
    "    count=collections.Counter(S)\n",
    "    s.sort(key=count.get)\n",
    "    n=len(s)//2\n",
    "    # 如果某个字符出现超过一半则不能完成\n",
    "    if s[n-1]==s[-1]:\n",
    "        return ''\n",
    "    # 将字符串分为两半，然后相互插空\n",
    "    a,b=s[:n],s[n:]\n",
    "    for i in range(len(b)):\n",
    "        s[i*2]=b[i]\n",
    "    for i in range(len(a)):\n",
    "        s[i*2+1]=a[i]\n",
    "    return ''.join(s)   "
   ]
  },
  {
   "cell_type": "code",
   "execution_count": 2,
   "metadata": {},
   "outputs": [
    {
     "data": {
      "text/plain": [
       "'aba'"
      ]
     },
     "execution_count": 2,
     "metadata": {},
     "output_type": "execute_result"
    }
   ],
   "source": [
    "reorganizeString(\"aab\")"
   ]
  },
  {
   "cell_type": "code",
   "execution_count": 3,
   "metadata": {},
   "outputs": [
    {
     "data": {
      "text/plain": [
       "''"
      ]
     },
     "execution_count": 3,
     "metadata": {},
     "output_type": "execute_result"
    }
   ],
   "source": [
    "reorganizeString(\"aaab\")"
   ]
  },
  {
   "cell_type": "code",
   "execution_count": null,
   "metadata": {},
   "outputs": [],
   "source": []
  }
 ],
 "metadata": {
  "kernelspec": {
   "display_name": "Python 3",
   "language": "python",
   "name": "python3"
  },
  "language_info": {
   "codemirror_mode": {
    "name": "ipython",
    "version": 3
   },
   "file_extension": ".py",
   "mimetype": "text/x-python",
   "name": "python",
   "nbconvert_exporter": "python",
   "pygments_lexer": "ipython3",
   "version": "3.6.5"
  }
 },
 "nbformat": 4,
 "nbformat_minor": 2
}
