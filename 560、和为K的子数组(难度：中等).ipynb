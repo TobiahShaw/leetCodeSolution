{
 "cells": [
  {
   "cell_type": "markdown",
   "metadata": {},
   "source": [
    "# 和为K的子数组\n",
    "\n",
    "**题目来源：力扣（LeetCode）**\n",
    "\n",
    "**链接：https://leetcode-cn.com/problems/subarray-sum-equals-k/**\n",
    "\n",
    "## 一、题目\n",
    "\n",
    "给定一个整数数组和一个整数 k，你需要找到该数组中和为 k 的连续的子数组的个数。\n",
    "\n",
    "## 二、示例\n",
    "\n",
    "### 示例 1：\n",
    "\n",
    "输入:nums = [1,1,1], k = 2\n",
    "\n",
    "输出: 2 , [1,1] 与 [1,1] 为两种不同的情况。\n",
    "\n",
    "## 三、解题思路\n",
    "\n",
    "### 一、暴力法"
   ]
  },
  {
   "cell_type": "code",
   "execution_count": 1,
   "metadata": {},
   "outputs": [],
   "source": [
    "def subarraySum(nums, k: int) -> int:\n",
    "    start, end = 0, 1\n",
    "    count = 0\n",
    "    while start < len(nums):\n",
    "        while end < len(nums) + 1:\n",
    "            cur = sum(nums[start:end])\n",
    "            if cur == k:\n",
    "                count += 1\n",
    "            end += 1\n",
    "        start += 1\n",
    "        end = start + 1\n",
    "    return count"
   ]
  },
  {
   "cell_type": "code",
   "execution_count": 2,
   "metadata": {},
   "outputs": [
    {
     "data": {
      "text/plain": [
       "2"
      ]
     },
     "execution_count": 2,
     "metadata": {},
     "output_type": "execute_result"
    }
   ],
   "source": [
    "subarraySum(nums = [1,1,1], k = 2)"
   ]
  },
  {
   "cell_type": "markdown",
   "metadata": {},
   "source": [
    "### 二、利用字典"
   ]
  },
  {
   "cell_type": "code",
   "execution_count": 3,
   "metadata": {},
   "outputs": [],
   "source": [
    "def subarraySum(nums, k: int) -> int:\n",
    "    dic = {0:1}\n",
    "    count = 0\n",
    "    pre_sum = 0\n",
    "    for i in nums:\n",
    "        pre_sum += i\n",
    "        count += dic.get(pre_sum-k, 0)\n",
    "        dic[pre_sum] = dic.get(pre_sum,0) + 1\n",
    "    return count"
   ]
  },
  {
   "cell_type": "code",
   "execution_count": 4,
   "metadata": {},
   "outputs": [
    {
     "data": {
      "text/plain": [
       "2"
      ]
     },
     "execution_count": 4,
     "metadata": {},
     "output_type": "execute_result"
    }
   ],
   "source": [
    "subarraySum(nums = [1,1,1], k = 2)"
   ]
  },
  {
   "cell_type": "code",
   "execution_count": null,
   "metadata": {},
   "outputs": [],
   "source": []
  }
 ],
 "metadata": {
  "kernelspec": {
   "display_name": "Python 3",
   "language": "python",
   "name": "python3"
  },
  "language_info": {
   "codemirror_mode": {
    "name": "ipython",
    "version": 3
   },
   "file_extension": ".py",
   "mimetype": "text/x-python",
   "name": "python",
   "nbconvert_exporter": "python",
   "pygments_lexer": "ipython3",
   "version": "3.6.5"
  }
 },
 "nbformat": 4,
 "nbformat_minor": 2
}
