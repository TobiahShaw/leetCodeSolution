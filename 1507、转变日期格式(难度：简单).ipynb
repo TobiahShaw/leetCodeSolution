{
 "cells": [
  {
   "cell_type": "markdown",
   "metadata": {},
   "source": [
    "# 转变日期格式\n",
    "\n",
    "**题目来源：力扣（LeetCode）**\n",
    "\n",
    "**链接：https://leetcode-cn.com/problems/reformat-date/**\n",
    "\n",
    "## 一、题目\n",
    "\n",
    "给你一个字符串 date ，它的格式为 Day Month Year ，其中：\n",
    "\n",
    "- Day 是集合 {\"1st\", \"2nd\", \"3rd\", \"4th\", ..., \"30th\", \"31st\"} 中的一个元素。\n",
    "- Month 是集合 {\"Jan\", \"Feb\", \"Mar\", \"Apr\", \"May\", \"Jun\", \"Jul\", \"Aug\", \"Sep\", \"Oct\", \"Nov\", \"Dec\"} 中的一个元素。\n",
    "- Year 的范围在 [1900, 2100] 之间。\n",
    "\n",
    "请你将字符串转变为 YYYY-MM-DD 的格式，其中：\n",
    "\n",
    "- YYYY 表示 4 位的年份。\n",
    "- MM 表示 2 位的月份。\n",
    "- DD 表示 2 位的天数。\n",
    "\n",
    "### 提示：\n",
    "\n",
    "- 给定日期保证是合法的，所以不需要处理异常输入。\n",
    "\n",
    "## 二、示例\n",
    "\n",
    "### 示例 1：\n",
    "\n",
    "输入：date = \"20th Oct 2052\"\n",
    "\n",
    "输出：\"2052-10-20\"\n",
    "\n",
    "### 示例 2：\n",
    "\n",
    "输入：date = \"6th Jun 1933\"\n",
    "\n",
    "输出：\"1933-06-06\"\n",
    "\n",
    "### 示例 3：\n",
    "\n",
    "输入：date = \"26th May 1960\"\n",
    "\n",
    "输出：\"1960-05-26\"\n",
    "\n",
    "## 三、解题思路\n",
    "\n",
    "### 模拟过程"
   ]
  },
  {
   "cell_type": "code",
   "execution_count": 1,
   "metadata": {},
   "outputs": [],
   "source": [
    "def reformatDate(date: str) -> str:\n",
    "    months = {\"Jan\" : \"01\", \"Feb\": \"02\", \"Mar\": \"03\", \"Apr\": \"04\", \"May\" :\"05\", \"Jun\": \"06\", \"Jul\": \"07\"\n",
    "              , \"Aug\": \"08\", \"Sep\": \"09\", \"Oct\": \"10\", \"Nov\": \"11\", \"Dec\": \"12\"}\n",
    "    date_arr = date.split(' ')\n",
    "    year = date_arr[2]\n",
    "    month = months[date_arr[1]]\n",
    "    day = date_arr[0][:-2]\n",
    "    if len(day) == 1:\n",
    "        day = \"0\" + day\n",
    "    return  \"-\".join([year,month, day]) "
   ]
  },
  {
   "cell_type": "code",
   "execution_count": 2,
   "metadata": {},
   "outputs": [
    {
     "data": {
      "text/plain": [
       "'2052-10-20'"
      ]
     },
     "execution_count": 2,
     "metadata": {},
     "output_type": "execute_result"
    }
   ],
   "source": [
    "reformatDate(\"20th Oct 2052\")"
   ]
  },
  {
   "cell_type": "code",
   "execution_count": 3,
   "metadata": {},
   "outputs": [
    {
     "data": {
      "text/plain": [
       "'1933-06-06'"
      ]
     },
     "execution_count": 3,
     "metadata": {},
     "output_type": "execute_result"
    }
   ],
   "source": [
    "reformatDate(\"6th Jun 1933\")"
   ]
  },
  {
   "cell_type": "code",
   "execution_count": 4,
   "metadata": {},
   "outputs": [
    {
     "data": {
      "text/plain": [
       "'1960-05-26'"
      ]
     },
     "execution_count": 4,
     "metadata": {},
     "output_type": "execute_result"
    }
   ],
   "source": [
    "reformatDate(\"26th May 1960\")"
   ]
  },
  {
   "cell_type": "code",
   "execution_count": null,
   "metadata": {},
   "outputs": [],
   "source": []
  }
 ],
 "metadata": {
  "kernelspec": {
   "display_name": "Python 3",
   "language": "python",
   "name": "python3"
  },
  "language_info": {
   "codemirror_mode": {
    "name": "ipython",
    "version": 3
   },
   "file_extension": ".py",
   "mimetype": "text/x-python",
   "name": "python",
   "nbconvert_exporter": "python",
   "pygments_lexer": "ipython3",
   "version": "3.6.5"
  }
 },
 "nbformat": 4,
 "nbformat_minor": 2
}
