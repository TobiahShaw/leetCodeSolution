{
 "cells": [
  {
   "cell_type": "markdown",
   "metadata": {},
   "source": [
    "# 数组中最大数对和的最小值\n",
    "\n",
    "**题目来源：力扣（LeetCode）**\n",
    "\n",
    "**链接：https://leetcode-cn.com/problems/minimize-maximum-pair-sum-in-array/**\n",
    "\n",
    "## 一、题目\n",
    "\n",
    "一个数对 (a,b) 的 数对和 等于 a + b 。最大数对和 是一个数对数组中最大的 数对和 。\n",
    "\n",
    "- 比方说，如果我们有数对 (1,5) ，(2,3) 和 (4,4)，最大数对和 为 max(1+5, 2+3, 4+4) = max(6, 5, 8) = 8 。\n",
    "\n",
    "给你一个长度为 偶数 n 的数组 nums ，请你将 nums 中的元素分成 n / 2 个数对，使得：\n",
    "\n",
    "- nums 中每个元素 恰好 在 一个 数对中，且\n",
    "- 最大数对和 的值 最小 。\n",
    "\n",
    "请你在最优数对划分的方案下，返回最小的 最大数对和 。\n",
    "\n",
    "### 提示：\n",
    "\n",
    "- n == nums.length\n",
    "- 2 <= n <= 100000\n",
    "- n 是 偶数 。\n",
    "- 1 <= nums[i] <= 100000\n",
    "\n",
    "## 二、示例\n",
    "\n",
    "### 示例 1：\n",
    "\n",
    "输入：nums = [3,5,2,3]\n",
    "\n",
    "输出：7\n",
    "\n",
    "解释：数组中的元素可以分为数对 (3,3) 和 (5,2) 。最大数对和为 max(3+3, 5+2) = max(6, 7) = 7 。\n",
    "\n",
    "### 示例 2：\n",
    "\n",
    "输入：nums = [3,5,4,2,4,6]\n",
    "\n",
    "输出：8\n",
    "\n",
    "解释：数组中的元素可以分为数对 (3,5)，(4,4) 和 (6,2) 。最大数对和为 max(3+5, 4+4, 6+2) = max(8, 8, 8) = 8 。\n",
    "\n",
    "## 三、解题思路\n",
    "\n",
    "### 排序"
   ]
  },
  {
   "cell_type": "code",
   "execution_count": 1,
   "metadata": {},
   "outputs": [],
   "source": [
    "def minPairSum(nums) -> int:\n",
    "    nums.sort()\n",
    "    n = len(nums)\n",
    "    return max([nums[i] + nums[n-1-i] for i in range(n>>1)])"
   ]
  },
  {
   "cell_type": "code",
   "execution_count": 2,
   "metadata": {},
   "outputs": [
    {
     "data": {
      "text/plain": [
       "7"
      ]
     },
     "execution_count": 2,
     "metadata": {},
     "output_type": "execute_result"
    }
   ],
   "source": [
    "minPairSum([3,5,2,3])"
   ]
  },
  {
   "cell_type": "code",
   "execution_count": 3,
   "metadata": {},
   "outputs": [
    {
     "data": {
      "text/plain": [
       "8"
      ]
     },
     "execution_count": 3,
     "metadata": {},
     "output_type": "execute_result"
    }
   ],
   "source": [
    "minPairSum([3,5,4,2,4,6])"
   ]
  },
  {
   "cell_type": "code",
   "execution_count": null,
   "metadata": {},
   "outputs": [],
   "source": []
  }
 ],
 "metadata": {
  "kernelspec": {
   "display_name": "Python 3",
   "language": "python",
   "name": "python3"
  },
  "language_info": {
   "codemirror_mode": {
    "name": "ipython",
    "version": 3
   },
   "file_extension": ".py",
   "mimetype": "text/x-python",
   "name": "python",
   "nbconvert_exporter": "python",
   "pygments_lexer": "ipython3",
   "version": "3.6.5"
  }
 },
 "nbformat": 4,
 "nbformat_minor": 2
}
