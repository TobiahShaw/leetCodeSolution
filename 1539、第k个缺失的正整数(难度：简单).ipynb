{
 "cells": [
  {
   "cell_type": "markdown",
   "metadata": {},
   "source": [
    "# 第k个缺失的正整数\n",
    "\n",
    "**题目来源：力扣（LeetCode）**\n",
    "\n",
    "**链接：https://leetcode-cn.com/problems/kth-missing-positive-number/**\n",
    "\n",
    "## 一、题目\n",
    "\n",
    "给你一个 严格升序排列 的正整数数组 arr 和一个整数 k 。\n",
    "\n",
    "请你找到这个数组里第 k 个缺失的正整数。。\n",
    "\n",
    "## 二、示例\n",
    "\n",
    "### 示例 1：\n",
    "\n",
    "输入：arr = [2,3,4,7,11], k = 5\n",
    "\n",
    "输出：9\n",
    "\n",
    "解释：缺失的正整数包括 [1,5,6,8,9,10,12,13,...] 。第 5 个缺失的正整数为 9 。\n",
    "\n",
    "### 示例 2：\n",
    "\n",
    "输入：arr = [1,2,3,4], k = 2\n",
    "\n",
    "输出：6\n",
    "\n",
    "解释：缺失的正整数包括 [5,6,7,...] 。第 2 个缺失的正整数为 6 。\n",
    "\n",
    "## 三、解题思路\n",
    "\n",
    "### 利用集合"
   ]
  },
  {
   "cell_type": "code",
   "execution_count": 1,
   "metadata": {},
   "outputs": [],
   "source": [
    "def findKthPositive(arr, k: int) -> int:\n",
    "    s = set(arr)\n",
    "    res = 0\n",
    "    while k!=0:\n",
    "        res+=1\n",
    "        if res not in s:\n",
    "            k-=1\n",
    "    return res"
   ]
  },
  {
   "cell_type": "code",
   "execution_count": 2,
   "metadata": {},
   "outputs": [
    {
     "data": {
      "text/plain": [
       "9"
      ]
     },
     "execution_count": 2,
     "metadata": {},
     "output_type": "execute_result"
    }
   ],
   "source": [
    "findKthPositive(arr = [2,3,4,7,11], k = 5)"
   ]
  },
  {
   "cell_type": "code",
   "execution_count": 3,
   "metadata": {},
   "outputs": [
    {
     "data": {
      "text/plain": [
       "6"
      ]
     },
     "execution_count": 3,
     "metadata": {},
     "output_type": "execute_result"
    }
   ],
   "source": [
    "findKthPositive(arr = [1,2,3,4], k = 2)"
   ]
  },
  {
   "cell_type": "code",
   "execution_count": null,
   "metadata": {},
   "outputs": [],
   "source": []
  }
 ],
 "metadata": {
  "kernelspec": {
   "display_name": "Python 3",
   "language": "python",
   "name": "python3"
  },
  "language_info": {
   "codemirror_mode": {
    "name": "ipython",
    "version": 3
   },
   "file_extension": ".py",
   "mimetype": "text/x-python",
   "name": "python",
   "nbconvert_exporter": "python",
   "pygments_lexer": "ipython3",
   "version": "3.6.5"
  }
 },
 "nbformat": 4,
 "nbformat_minor": 2
}
