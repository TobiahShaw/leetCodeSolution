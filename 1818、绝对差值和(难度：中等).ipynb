{
 "cells": [
  {
   "cell_type": "markdown",
   "metadata": {},
   "source": [
    "# 绝对差值和\n",
    "\n",
    "**题目来源：力扣（LeetCode）**\n",
    "\n",
    "**链接：https://leetcode-cn.com/problems/minimum-absolute-sum-difference/**\n",
    "\n",
    "## 一、题目\n",
    "\n",
    "给你两个正整数数组 nums1 和 nums2 ，数组的长度都是 n 。\n",
    "\n",
    "数组 nums1 和 nums2 的 绝对差值和 定义为所有 |nums1[i] - nums2[i]|（0 <= i < n）的 总和（下标从 0 开始）。\n",
    "\n",
    "你可以选用 nums1 中的 任意一个 元素来替换 nums1 中的 至多 一个元素，以 最小化 绝对差值和。\n",
    "\n",
    "在替换数组 nums1 中最多一个元素 之后 ，返回最小绝对差值和。因为答案可能很大，所以需要对 109 + 7 取余 后返回。\n",
    "\n",
    "|x| 定义为：\n",
    "\n",
    "- 如果 x >= 0 ，值为 x ，或者\n",
    "- 如果 x <= 0 ，值为 -x\n",
    "\n",
    "### 提示：\n",
    "\n",
    "- n == nums1.length\n",
    "- n == nums2.length\n",
    "- 1 <= n <= 10^5\n",
    "- 1 <= nums1[i], nums2[i] <= 10^5\n",
    "\n",
    "## 二、示例\n",
    "\n",
    "### 示例 1：\n",
    "\n",
    "输入：nums1 = [1,7,5], nums2 = [2,3,5]\n",
    "\n",
    "输出：3\n",
    "\n",
    "解释：有两种可能的最优方案：\n",
    "\n",
    "- 将第二个元素替换为第一个元素：[1,7,5] => [1,1,5] ，或者\n",
    "- 将第二个元素替换为第三个元素：[1,7,5] => [1,5,5]\n",
    "\n",
    "两种方案的绝对差值和都是 |1-2| + (|1-3| 或者 |5-3|) + |5-5| = 3\n",
    "\n",
    "### 示例 2：\n",
    "\n",
    "输入：nums1 = [2,4,6,8,10], nums2 = [2,4,6,8,10]\n",
    "\n",
    "输出：0\n",
    "\n",
    "解释：nums1 和 nums2 相等，所以不用替换元素。绝对差值和为 0\n",
    "\n",
    "### 示例 3：\n",
    "\n",
    "输入：nums1 = [1,10,4,4,2,7], nums2 = [9,3,5,1,7,4]\n",
    "\n",
    "输出：20\n",
    "\n",
    "解释：将第一个元素替换为第二个元素：[1,10,4,4,2,7] => [10,10,4,4,2,7]\n",
    "\n",
    "绝对差值和为 |10-9| + |10-3| + |4-5| + |4-1| + |2-7| + |7-4| = 20\n",
    "\n",
    "## 三、解题思路\n",
    "\n",
    "### 二分法\n",
    "\n",
    "- 首先求出原来的绝对差值和\n",
    "- 只能替换一个元素，那么针对nums1内的任意元素，如果被替换，则应该改换成对于索引nums2中元素绝对差值最小的nums1元素\n",
    "- 将nums1排序后二分找到这个元素\n",
    "- 针对nums1替换过程中，找到替换后绝对差值和最小的元素进行替换"
   ]
  },
  {
   "cell_type": "code",
   "execution_count": 1,
   "metadata": {},
   "outputs": [],
   "source": [
    "def minAbsoluteSumDiff(nums1, nums2) -> int:\n",
    "    import bisect\n",
    "    n = len(nums1)\n",
    "    diff = sum(abs(nums1[i] - nums2[i]) for i in range(n))\n",
    "    if not diff:\n",
    "        # 差值为0则无需替换\n",
    "        return 0\n",
    "    ans = float('inf')\n",
    "    sorted_nums1 = sorted(nums1)\n",
    "    for i in range(n):\n",
    "        num = nums2[i]\n",
    "        idx = bisect.bisect_left(sorted_nums1, num)\n",
    "        if idx:\n",
    "            # idx > 0 尝试用idx-1替换当前值\n",
    "            ans = min(ans, diff - abs(nums1[i] - nums2[i]) + abs(sorted_nums1[idx-1] - nums2[i]))\n",
    "        if idx < n:\n",
    "            # idx < n 尝试用idx替换当前值\n",
    "            ans = min(ans, diff - abs(nums1[i] - nums2[i]) + abs(sorted_nums1[idx] - nums2[i]))\n",
    "    return ans % (10**9 + 7)"
   ]
  },
  {
   "cell_type": "code",
   "execution_count": 2,
   "metadata": {},
   "outputs": [
    {
     "data": {
      "text/plain": [
       "3"
      ]
     },
     "execution_count": 2,
     "metadata": {},
     "output_type": "execute_result"
    }
   ],
   "source": [
    "minAbsoluteSumDiff(nums1 = [1,7,5], nums2 = [2,3,5])"
   ]
  },
  {
   "cell_type": "code",
   "execution_count": 3,
   "metadata": {},
   "outputs": [
    {
     "data": {
      "text/plain": [
       "0"
      ]
     },
     "execution_count": 3,
     "metadata": {},
     "output_type": "execute_result"
    }
   ],
   "source": [
    "minAbsoluteSumDiff(nums1 = [2,4,6,8,10], nums2 = [2,4,6,8,10])"
   ]
  },
  {
   "cell_type": "code",
   "execution_count": 4,
   "metadata": {},
   "outputs": [
    {
     "data": {
      "text/plain": [
       "20"
      ]
     },
     "execution_count": 4,
     "metadata": {},
     "output_type": "execute_result"
    }
   ],
   "source": [
    "minAbsoluteSumDiff(nums1 = [1,10,4,4,2,7], nums2 = [9,3,5,1,7,4])"
   ]
  },
  {
   "cell_type": "code",
   "execution_count": null,
   "metadata": {},
   "outputs": [],
   "source": []
  }
 ],
 "metadata": {
  "kernelspec": {
   "display_name": "Python 3",
   "language": "python",
   "name": "python3"
  },
  "language_info": {
   "codemirror_mode": {
    "name": "ipython",
    "version": 3
   },
   "file_extension": ".py",
   "mimetype": "text/x-python",
   "name": "python",
   "nbconvert_exporter": "python",
   "pygments_lexer": "ipython3",
   "version": "3.6.5"
  }
 },
 "nbformat": 4,
 "nbformat_minor": 2
}
