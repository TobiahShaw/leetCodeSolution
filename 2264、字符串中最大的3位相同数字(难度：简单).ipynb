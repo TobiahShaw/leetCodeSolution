{
 "cells": [
  {
   "cell_type": "markdown",
   "metadata": {},
   "source": [
    "# 字符串中最大的3位相同数字\n",
    "\n",
    "**题目来源：力扣（LeetCode）**\n",
    "\n",
    "**链接：https://leetcode.cn/problems/count-nodes-equal-to-average-of-subtree/**\n",
    "\n",
    "## 一、题目\n",
    "\n",
    "给你一个字符串 num ，表示一个大整数。如果一个整数满足下述所有条件，则认为该整数是一个 优质整数 ：\n",
    "\n",
    "- 该整数是 num 的一个长度为 3 的 子字符串 。\n",
    "- 该整数由唯一一个数字重复 3 次组成。\n",
    "\n",
    "以字符串形式返回 最大的优质整数 。如果不存在满足要求的整数，则返回一个空字符串 \"\" 。\n",
    "\n",
    "注意：\n",
    "\n",
    "- 子字符串 是字符串中的一个连续字符序列。\n",
    "- num 或优质整数中可能存在 前导零 。\n",
    "\n",
    "### 提示：\n",
    "\n",
    "- 3 <= num.length <= 1000\n",
    "- num 仅由数字（0 - 9）组成\n",
    "\n",
    "## 二、示例\n",
    "\n",
    "### 示例 1：\n",
    "\n",
    "输入：num = \"6777133339\"\n",
    "\n",
    "输出：\"777\"\n",
    "\n",
    "解释：num 中存在两个优质整数：\"777\" 和 \"333\" 。\"777\" 是最大的那个，所以返回 \"777\" 。\n",
    "\n",
    "### 示例 2：\n",
    "\n",
    "输入：num = \"2300019\"\n",
    "\n",
    "输出：\"000\"\n",
    "\n",
    "解释：\"000\" 是唯一一个优质整数。\n",
    "\n",
    "### 示例 3：\n",
    "\n",
    "输入：num = \"42352338\"\n",
    "\n",
    "输出：\"\"\n",
    "\n",
    "解释：不存在长度为 3 且仅由一个唯一数字组成的整数。因此，不存在优质整数。\n",
    "\n",
    "## 三、解题思路 "
   ]
  },
  {
   "cell_type": "code",
   "execution_count": 1,
   "metadata": {},
   "outputs": [],
   "source": [
    "class Solution:\n",
    "    def largestGoodInteger(self, num: str) -> str:\n",
    "        n = len(num)\n",
    "        ret = \"\"\n",
    "        for i in range(n - 2):\n",
    "            if num[i] == num[i+1] == num[i+2]:\n",
    "                ret = max(ret, num[i:i+3])\n",
    "        return ret"
   ]
  },
  {
   "cell_type": "code",
   "execution_count": 2,
   "metadata": {},
   "outputs": [
    {
     "data": {
      "text/plain": [
       "'777'"
      ]
     },
     "execution_count": 2,
     "metadata": {},
     "output_type": "execute_result"
    }
   ],
   "source": [
    "s = Solution()\n",
    "s.largestGoodInteger(\"6777133339\")"
   ]
  },
  {
   "cell_type": "code",
   "execution_count": 3,
   "metadata": {},
   "outputs": [
    {
     "data": {
      "text/plain": [
       "'000'"
      ]
     },
     "execution_count": 3,
     "metadata": {},
     "output_type": "execute_result"
    }
   ],
   "source": [
    "s.largestGoodInteger(\"2300019\")"
   ]
  },
  {
   "cell_type": "code",
   "execution_count": 4,
   "metadata": {},
   "outputs": [
    {
     "data": {
      "text/plain": [
       "''"
      ]
     },
     "execution_count": 4,
     "metadata": {},
     "output_type": "execute_result"
    }
   ],
   "source": [
    "s.largestGoodInteger(\"42352338\")"
   ]
  }
 ],
 "metadata": {
  "kernelspec": {
   "display_name": "Python 3.10.4 64-bit",
   "language": "python",
   "name": "python3"
  },
  "language_info": {
   "codemirror_mode": {
    "name": "ipython",
    "version": 3
   },
   "file_extension": ".py",
   "mimetype": "text/x-python",
   "name": "python",
   "nbconvert_exporter": "python",
   "pygments_lexer": "ipython3",
   "version": "3.10.4"
  },
  "orig_nbformat": 4,
  "vscode": {
   "interpreter": {
    "hash": "4f946df053fbf2b937619d3c5458e7af74262f9a954d8797ba0b27400bcafe06"
   }
  }
 },
 "nbformat": 4,
 "nbformat_minor": 2
}
