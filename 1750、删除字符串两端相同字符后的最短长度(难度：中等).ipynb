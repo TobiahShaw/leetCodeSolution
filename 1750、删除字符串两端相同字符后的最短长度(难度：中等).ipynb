{
 "cells": [
  {
   "cell_type": "markdown",
   "id": "997b030e",
   "metadata": {},
   "source": [
    "# 删除字符串两端相同字符后的最短长度\n",
    "\n",
    "**题目来源：力扣（LeetCode）**\n",
    "\n",
    "**链接：https://leetcode.cn/problems/minimum-length-of-string-after-deleting-similar-ends/**\n",
    "\n",
    "## 一、题目\n",
    "\n",
    "给你一个只包含字符 'a'，'b' 和 'c' 的字符串 s ，你可以执行下面这个操作（5 个步骤）任意次：\n",
    "\n",
    "- 选择字符串 s 一个 非空 的前缀，这个前缀的所有字符都相同。\n",
    "- 选择字符串 s 一个 非空 的后缀，这个后缀的所有字符都相同。\n",
    "- 前缀和后缀在字符串中任意位置都不能有交集。\n",
    "- 前缀和后缀包含的所有字符都要相同。\n",
    "- 同时删除前缀和后缀。\n",
    "- 请你返回对字符串 s 执行上面操作任意次以后（可能 0 次），能得到的 最短长度 。\n",
    "\n",
    "### 提示：\n",
    "\n",
    "- 1 <= s.length <= 10^5\n",
    "- s 只包含字符 'a'，'b' 和 'c' 。\n",
    "\n",
    "## 二、示例\n",
    "\n",
    "### 示例 1：\n",
    "\n",
    "输入：s = \"ca\"\n",
    "\n",
    "输出：2\n",
    "\n",
    "解释：你没法删除任何一个字符，所以字符串长度仍然保持不变。\n",
    "\n",
    "### 示例 2：\n",
    "\n",
    "输入：s = \"cabaabac\"\n",
    "\n",
    "输出：0\n",
    "\n",
    "解释：最优操作序列为：\n",
    "\n",
    "- 选择前缀 \"c\" 和后缀 \"c\" 并删除它们，得到 s = \"abaaba\" 。\n",
    "- 选择前缀 \"a\" 和后缀 \"a\" 并删除它们，得到 s = \"baab\" 。\n",
    "- 选择前缀 \"b\" 和后缀 \"b\" 并删除它们，得到 s = \"aa\" 。\n",
    "- 选择前缀 \"a\" 和后缀 \"a\" 并删除它们，得到 s = \"\" 。\n",
    "\n",
    "### 示例 3：\n",
    "\n",
    "输入：s = \"aabccabba\"\n",
    "\n",
    "输出：3\n",
    "\n",
    "解释：最优操作序列为：\n",
    "\n",
    "- 选择前缀 \"aa\" 和后缀 \"a\" 并删除它们，得到 s = \"bccabb\" 。\n",
    "- 选择前缀 \"b\" 和后缀 \"bb\" 并删除它们，得到 s = \"cca\" 。\n",
    "\n",
    "## 三、解题思路\n",
    "\n",
    "### 双指针"
   ]
  },
  {
   "cell_type": "code",
   "execution_count": 1,
   "id": "874b2da1",
   "metadata": {},
   "outputs": [],
   "source": [
    "class Solution:\n",
    "    def minimumLength(self, s: str) -> int:\n",
    "        left, right = 0, len(s) - 1\n",
    "        while left < right and s[left] == s[right]:\n",
    "            c = s[left]\n",
    "            while left <= right and s[left] == c:\n",
    "                left += 1\n",
    "            while right >= left and s[right] == c:\n",
    "                right -= 1\n",
    "        return right - left + 1"
   ]
  },
  {
   "cell_type": "code",
   "execution_count": 2,
   "id": "e344b725",
   "metadata": {},
   "outputs": [
    {
     "data": {
      "text/plain": [
       "2"
      ]
     },
     "execution_count": 2,
     "metadata": {},
     "output_type": "execute_result"
    }
   ],
   "source": [
    "s = Solution()\n",
    "s.minimumLength(\"ca\")"
   ]
  },
  {
   "cell_type": "code",
   "execution_count": 3,
   "id": "6707cbe8",
   "metadata": {},
   "outputs": [
    {
     "data": {
      "text/plain": [
       "0"
      ]
     },
     "execution_count": 3,
     "metadata": {},
     "output_type": "execute_result"
    }
   ],
   "source": [
    "s.minimumLength(\"cabaabac\")"
   ]
  },
  {
   "cell_type": "code",
   "execution_count": 4,
   "id": "d615cdb8",
   "metadata": {},
   "outputs": [
    {
     "data": {
      "text/plain": [
       "3"
      ]
     },
     "execution_count": 4,
     "metadata": {},
     "output_type": "execute_result"
    }
   ],
   "source": [
    "s.minimumLength(\"aabccabba\")"
   ]
  },
  {
   "cell_type": "code",
   "execution_count": null,
   "id": "a66b996e",
   "metadata": {},
   "outputs": [],
   "source": []
  }
 ],
 "metadata": {
  "kernelspec": {
   "display_name": "Python 3 (ipykernel)",
   "language": "python",
   "name": "python3"
  },
  "language_info": {
   "codemirror_mode": {
    "name": "ipython",
    "version": 3
   },
   "file_extension": ".py",
   "mimetype": "text/x-python",
   "name": "python",
   "nbconvert_exporter": "python",
   "pygments_lexer": "ipython3",
   "version": "3.11.0"
  }
 },
 "nbformat": 4,
 "nbformat_minor": 5
}
