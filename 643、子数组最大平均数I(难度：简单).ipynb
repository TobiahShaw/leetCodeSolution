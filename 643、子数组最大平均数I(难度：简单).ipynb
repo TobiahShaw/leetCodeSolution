{
 "cells": [
  {
   "cell_type": "markdown",
   "metadata": {},
   "source": [
    "# 子数组最大平均数I\n",
    "\n",
    "**题目来源：力扣（LeetCode）**\n",
    "\n",
    "**链接：https://leetcode-cn.com/problems/maximum-average-subarray-i/**\n",
    "\n",
    "## 一、题目\n",
    "\n",
    "给定 n 个整数，找出平均数最大且长度为 k 的连续子数组，并输出该最大平均数。\n",
    "\n",
    "## 二、示例\n",
    "\n",
    "输入: [1,12,-5,-6,50,3], k = 4\n",
    "\n",
    "输出: 12.75\n",
    "\n",
    "解释: 最大平均数 (12-5-6+50)/4 = 51/4 = 12.75\n",
    "\n",
    "## 三、解题思路\n",
    "\n",
    "### 一、迭代求解"
   ]
  },
  {
   "cell_type": "code",
   "execution_count": 1,
   "metadata": {},
   "outputs": [],
   "source": [
    "def findMaxAverage(nums, k) -> float:\n",
    "    start, end = 1, k + 1\n",
    "    maxVal = sum(nums[0:k])\n",
    "    last = maxVal\n",
    "    while end <= len(nums):\n",
    "        last = last - nums[start-1] + nums[end-1]\n",
    "        maxVal = max(last, maxVal)\n",
    "        start += 1\n",
    "        end += 1\n",
    "    return maxVal / k"
   ]
  },
  {
   "cell_type": "code",
   "execution_count": 2,
   "metadata": {},
   "outputs": [
    {
     "data": {
      "text/plain": [
       "12.75"
      ]
     },
     "execution_count": 2,
     "metadata": {},
     "output_type": "execute_result"
    }
   ],
   "source": [
    "findMaxAverage([1,12,-5,-6,50,3], k = 4)"
   ]
  },
  {
   "cell_type": "markdown",
   "metadata": {},
   "source": [
    "### 二、滑动窗口"
   ]
  },
  {
   "cell_type": "code",
   "execution_count": 3,
   "metadata": {},
   "outputs": [],
   "source": [
    "def findMaxAverage(nums, k) -> float:\n",
    "    maxTotal = total = sum(nums[:k])\n",
    "    n = len(nums)\n",
    "    for i in range(k, n):\n",
    "        total = total - nums[i - k] + nums[i]\n",
    "        maxTotal = max(maxTotal, total)\n",
    "    return maxTotal / k"
   ]
  },
  {
   "cell_type": "code",
   "execution_count": 4,
   "metadata": {},
   "outputs": [
    {
     "data": {
      "text/plain": [
       "12.75"
      ]
     },
     "execution_count": 4,
     "metadata": {},
     "output_type": "execute_result"
    }
   ],
   "source": [
    "findMaxAverage([1,12,-5,-6,50,3], k = 4)"
   ]
  },
  {
   "cell_type": "code",
   "execution_count": null,
   "metadata": {},
   "outputs": [],
   "source": []
  }
 ],
 "metadata": {
  "kernelspec": {
   "display_name": "Python 3",
   "language": "python",
   "name": "python3"
  },
  "language_info": {
   "codemirror_mode": {
    "name": "ipython",
    "version": 3
   },
   "file_extension": ".py",
   "mimetype": "text/x-python",
   "name": "python",
   "nbconvert_exporter": "python",
   "pygments_lexer": "ipython3",
   "version": "3.6.5"
  }
 },
 "nbformat": 4,
 "nbformat_minor": 2
}
