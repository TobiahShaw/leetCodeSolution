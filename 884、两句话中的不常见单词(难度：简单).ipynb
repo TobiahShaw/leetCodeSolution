{
 "cells": [
  {
   "cell_type": "markdown",
   "metadata": {},
   "source": [
    "# 两句话中的不常见单词\n",
    "\n",
    "**题目来源：力扣（LeetCode）**\n",
    "\n",
    "**链接：https://leetcode-cn.com/problems/uncommon-words-from-two-sentences/**\n",
    "\n",
    "## 一、题目\n",
    "\n",
    "给定两个句子 A 和 B 。 （句子是一串由空格分隔的单词。每个单词仅由小写字母组成。）\n",
    "\n",
    "如果一个单词在其中一个句子中只出现一次，在另一个句子中却没有出现，那么这个单词就是不常见的。\n",
    "\n",
    "返回所有不常用单词的列表。\n",
    "\n",
    "您可以按任何顺序返回列表。\n",
    "\n",
    "### 提示：\n",
    "\n",
    "- 0 <= A.length <= 200\n",
    "- 0 <= B.length <= 200\n",
    "- A 和 B 都只包含空格和小写字母。\n",
    "\n",
    "## 二、示例\n",
    "\n",
    "### 示例 1：\n",
    "\n",
    "输入：A = \"this apple is sweet\", B = \"this apple is sour\"\n",
    "\n",
    "输出：[\"sweet\",\"sour\"]\n",
    "\n",
    "### 示例 2：\n",
    "\n",
    "输入：A = \"apple apple\", B = \"banana\"\n",
    "\n",
    "输出：[\"banana\"]\n",
    "\n",
    "## 三、解题思路\n",
    "\n",
    "### 利用字典\n",
    "\n",
    "题目可以等价为只出现一次的单次"
   ]
  },
  {
   "cell_type": "code",
   "execution_count": 1,
   "metadata": {},
   "outputs": [],
   "source": [
    "def uncommonFromSentences(s1: str, s2: str):\n",
    "    dic = {}\n",
    "    ret = []\n",
    "    if s1:\n",
    "        for word in s1.split(\" \"):\n",
    "            dic[word] = dic.get(word, 0) + 1\n",
    "    if s2:\n",
    "        for word in s2.split(\" \"):\n",
    "            dic[word] = dic.get(word, 0) + 1\n",
    "    for key in dic.keys():\n",
    "        if dic[key] == 1:\n",
    "            ret.append(key)\n",
    "    return ret"
   ]
  },
  {
   "cell_type": "code",
   "execution_count": 2,
   "metadata": {},
   "outputs": [
    {
     "data": {
      "text/plain": [
       "['sweet', 'sour']"
      ]
     },
     "execution_count": 2,
     "metadata": {},
     "output_type": "execute_result"
    }
   ],
   "source": [
    "uncommonFromSentences(\"this apple is sweet\", \"this apple is sour\")"
   ]
  },
  {
   "cell_type": "code",
   "execution_count": 3,
   "metadata": {},
   "outputs": [
    {
     "data": {
      "text/plain": [
       "['banana']"
      ]
     },
     "execution_count": 3,
     "metadata": {},
     "output_type": "execute_result"
    }
   ],
   "source": [
    "uncommonFromSentences(\"apple apple\", \"banana\")"
   ]
  },
  {
   "cell_type": "code",
   "execution_count": null,
   "metadata": {},
   "outputs": [],
   "source": []
  }
 ],
 "metadata": {
  "kernelspec": {
   "display_name": "Python 3",
   "language": "python",
   "name": "python3"
  },
  "language_info": {
   "codemirror_mode": {
    "name": "ipython",
    "version": 3
   },
   "file_extension": ".py",
   "mimetype": "text/x-python",
   "name": "python",
   "nbconvert_exporter": "python",
   "pygments_lexer": "ipython3",
   "version": "3.6.5"
  }
 },
 "nbformat": 4,
 "nbformat_minor": 2
}
