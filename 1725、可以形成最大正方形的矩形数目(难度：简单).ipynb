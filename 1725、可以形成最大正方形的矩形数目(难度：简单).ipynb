{
 "cells": [
  {
   "cell_type": "markdown",
   "metadata": {},
   "source": [
    "# 可以形成最大正方形的矩形数目\n",
    "\n",
    "**题目来源：力扣（LeetCode）**\n",
    "\n",
    "**链接：https://leetcode-cn.com/problems/number-of-rectangles-that-can-form-the-largest-square/**\n",
    "\n",
    "## 一、题目\n",
    "\n",
    "给你一个数组 rectangles ，其中 rectangles[i] = [li, wi] 表示第 i 个矩形的长度为 li 、宽度为 wi 。\n",
    "\n",
    "如果存在 k 同时满足 k <= li 和 k <= wi ，就可以将第 i 个矩形切成边长为 k 的正方形。例如，矩形 [4,6] 可以切成边长最大为 4 的正方形。\n",
    "\n",
    "设 maxLen 为可以从矩形数组 rectangles 切分得到的 最大正方形 的边长。\n",
    "\n",
    "请你统计有多少个矩形能够切出边长为 maxLen 的正方形，并返回矩形 数目 。\n",
    "\n",
    "### 提示：\n",
    "\n",
    "- 1 <= rectangles.length <= 1000\n",
    "- rectangles[i].length == 2\n",
    "- 1 <= li, wi <= 10^9\n",
    "- li != wi\n",
    "\n",
    "## 二、示例\n",
    "\n",
    "### 示例 1：\n",
    "\n",
    "输入：rectangles = [[5,8],[3,9],[5,12],[16,5]]\n",
    "\n",
    "输出：3\n",
    "\n",
    "解释：能从每个矩形中切出的最大正方形边长分别是 [5,3,5,5] 。最大正方形的边长为 5 ，可以由 3 个矩形切分得到。\n",
    "\n",
    "### 示例 2：\n",
    "\n",
    "输入：rectangles = [[2,3],[3,7],[4,3],[3,7]]\n",
    "\n",
    "输出：3\n",
    "\n",
    "## 三、解题思路\n",
    "\n",
    "### 贪心"
   ]
  },
  {
   "cell_type": "code",
   "execution_count": 1,
   "metadata": {},
   "outputs": [],
   "source": [
    "    def countGoodRectangles(rectangles) -> int:\n",
    "        cnt = 0\n",
    "        max_len = 0 \n",
    "        \n",
    "        for width, height in rectangles:\n",
    "            cur_square_len = min(width, height)\n",
    "\n",
    "            if cur_square_len > max_len:\n",
    "                max_len = cur_square_len\n",
    "                cnt = 1\n",
    "            elif cur_square_len == max_len:\n",
    "                cnt += 1\n",
    "        \n",
    "        return cnt"
   ]
  },
  {
   "cell_type": "code",
   "execution_count": 2,
   "metadata": {},
   "outputs": [
    {
     "data": {
      "text/plain": [
       "3"
      ]
     },
     "execution_count": 2,
     "metadata": {},
     "output_type": "execute_result"
    }
   ],
   "source": [
    "countGoodRectangles([[5,8],[3,9],[5,12],[16,5]])"
   ]
  },
  {
   "cell_type": "code",
   "execution_count": 3,
   "metadata": {},
   "outputs": [
    {
     "data": {
      "text/plain": [
       "3"
      ]
     },
     "execution_count": 3,
     "metadata": {},
     "output_type": "execute_result"
    }
   ],
   "source": [
    "countGoodRectangles([[2,3],[3,7],[4,3],[3,7]])"
   ]
  },
  {
   "cell_type": "code",
   "execution_count": null,
   "metadata": {},
   "outputs": [],
   "source": []
  }
 ],
 "metadata": {
  "kernelspec": {
   "display_name": "Python 3",
   "language": "python",
   "name": "python3"
  },
  "language_info": {
   "codemirror_mode": {
    "name": "ipython",
    "version": 3
   },
   "file_extension": ".py",
   "mimetype": "text/x-python",
   "name": "python",
   "nbconvert_exporter": "python",
   "pygments_lexer": "ipython3",
   "version": "3.6.5"
  }
 },
 "nbformat": 4,
 "nbformat_minor": 2
}
