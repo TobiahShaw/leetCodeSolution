{
 "cells": [
  {
   "cell_type": "markdown",
   "metadata": {},
   "source": [
    "# 学生出勤记录I\n",
    "\n",
    "**题目来源：力扣（LeetCode）**\n",
    "\n",
    "**链接：https://leetcode-cn.com/problems/student-attendance-record-i/**\n",
    "\n",
    "## 一、题目\n",
    "\n",
    "给你一个字符串 s 表示一个学生的出勤记录，其中的每个字符用来标记当天的出勤情况（缺勤、迟到、到场）。记录中只含下面三种字符：\n",
    "\n",
    "- 'A'：Absent，缺勤\n",
    "- 'L'：Late，迟到\n",
    "- 'P'：Present，到场\n",
    "\n",
    "如果学生能够 同时 满足下面两个条件，则可以获得出勤奖励：\n",
    "\n",
    "- 按 总出勤 计，学生缺勤（'A'）严格 少于两天。\n",
    "- 学生 不会 存在 连续 3 天或 3 天以上的迟到（'L'）记录。\n",
    "\n",
    "如果学生可以获得出勤奖励，返回 true ；否则，返回 false 。\n",
    "\n",
    "### 提示：\n",
    "\n",
    "- 1 <= s.length <= 1000\n",
    "- s[i] 为 'A'、'L' 或 'P'\n",
    "\n",
    "## 二、示例\n",
    "\n",
    "### 示例 1：\n",
    "\n",
    "输入：s = \"PPALLP\"\n",
    "\n",
    "输出：true\n",
    "\n",
    "解释：学生缺勤次数少于 2 次，且不存在 3 天或以上的连续迟到记录。\n",
    "\n",
    "### 示例 2：\n",
    "\n",
    "输入：s = \"PPALLL\"\n",
    "\n",
    "输出：false\n",
    "\n",
    "解释：学生最后三天连续迟到，所以不满足出勤奖励的条件。\n",
    "\n",
    "## 三、解题思路\n",
    "\n",
    "### 单次扫描"
   ]
  },
  {
   "cell_type": "code",
   "execution_count": 1,
   "metadata": {},
   "outputs": [],
   "source": [
    "def checkRecord(s: str) -> bool:\n",
    "    countA = 0\n",
    "    continueL = 0\n",
    "    for ch in s:\n",
    "        if ch != \"L\":\n",
    "            continueL = 0\n",
    "        if ch == \"A\":\n",
    "            countA += 1\n",
    "        elif ch == \"L\":\n",
    "            continueL += 1\n",
    "        if countA >= 2:\n",
    "            return False\n",
    "        if continueL >= 3:\n",
    "            return False\n",
    "    return True"
   ]
  },
  {
   "cell_type": "code",
   "execution_count": 2,
   "metadata": {},
   "outputs": [
    {
     "data": {
      "text/plain": [
       "True"
      ]
     },
     "execution_count": 2,
     "metadata": {},
     "output_type": "execute_result"
    }
   ],
   "source": [
    "checkRecord(\"PPALLP\")"
   ]
  },
  {
   "cell_type": "code",
   "execution_count": 3,
   "metadata": {},
   "outputs": [
    {
     "data": {
      "text/plain": [
       "False"
      ]
     },
     "execution_count": 3,
     "metadata": {},
     "output_type": "execute_result"
    }
   ],
   "source": [
    "checkRecord(\"PPALLL\")"
   ]
  },
  {
   "cell_type": "code",
   "execution_count": null,
   "metadata": {},
   "outputs": [],
   "source": []
  }
 ],
 "metadata": {
  "kernelspec": {
   "display_name": "Python 3",
   "language": "python",
   "name": "python3"
  },
  "language_info": {
   "codemirror_mode": {
    "name": "ipython",
    "version": 3
   },
   "file_extension": ".py",
   "mimetype": "text/x-python",
   "name": "python",
   "nbconvert_exporter": "python",
   "pygments_lexer": "ipython3",
   "version": "3.6.5"
  }
 },
 "nbformat": 4,
 "nbformat_minor": 2
}
