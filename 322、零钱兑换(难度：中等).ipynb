{
  "cells": [
    {
      "metadata": {
        "collapsed": true
      },
      "cell_type": "markdown",
      "source": "# 零钱兑换\n\n**题目来源：力扣（LeetCode）**\n\n**链接：https://leetcode-cn.com/problems/coin-change/**\n\n## 一、题目\n\n给定不同面额的硬币 coins 和一个总金额 amount。编写一个函数来计算可以凑成总金额所需的最少的硬币个数。如果没有任何一种硬币组合能组成总金额，返回 -1。\n\n## 二、示例\n\n### 示例 1:\n\n输入: coins = [1, 2, 5], amount = 11\n\n输出: 3 \n\n解释: 11 = 5 + 5 + 1\n\n### 示例 2:\n\n输入: coins = [2], amount = 3\n\n输出: -1\n\n### 示例 3:\n\n输入: coins = [1, 2, 5, 7, 10], amount = 14\n\n输出: 2\n\n## 三、解题思路\n\n### 动态规划\n\n钞票面值[1, 2, 5, 7, 10]，金额14\n\ndp[i]代表金额i的最优解（即最小使用多少张钞票）\n\ndp内存放金额1到14的最优解\n\n在计算dp[i]时， dp[0]~dp[i-1]都是已知的\n\n金额i可由：\n\n金额i-1与coin[0]组合；\n\n金额i-2与coin[1]组合；\n\n金额i-5与coin[2]组合；\n\n金额i-7与coin[3]组合；\n\n金额i-10与coin[4]组合；\n\n即状态i可由上述五个状态转移到：\n\ndp[i] = min(dp[i-1], dp[i-2], dp[i-5], dp[i-7], dp[i-10]) + 1"
    },
    {
      "metadata": {
        "trusted": true
      },
      "cell_type": "code",
      "source": "def coinChange(coins, amount):\n    dp = [-1] * (amount + 1)\n    dp[0] = 0\n    for i in range(1, amount + 1):\n        for coin in coins:\n            if i - coin >= 0 and dp[i - coin] != -1:\n                if dp[i] == -1 or dp[i] > dp[i - coin] + 1:\n                    dp[i] = dp[i - coin] + 1\n    return dp[amount]",
      "execution_count": 1,
      "outputs": []
    },
    {
      "metadata": {
        "trusted": true
      },
      "cell_type": "code",
      "source": "coinChange([1, 2, 5], 11)",
      "execution_count": 2,
      "outputs": [
        {
          "output_type": "execute_result",
          "execution_count": 2,
          "data": {
            "text/plain": "3"
          },
          "metadata": {}
        }
      ]
    },
    {
      "metadata": {
        "trusted": true
      },
      "cell_type": "code",
      "source": "coinChange([2], 3)",
      "execution_count": 3,
      "outputs": [
        {
          "output_type": "execute_result",
          "execution_count": 3,
          "data": {
            "text/plain": "-1"
          },
          "metadata": {}
        }
      ]
    },
    {
      "metadata": {
        "trusted": true
      },
      "cell_type": "code",
      "source": "coinChange([1, 2, 5, 7, 10], 14)",
      "execution_count": 4,
      "outputs": [
        {
          "output_type": "execute_result",
          "execution_count": 4,
          "data": {
            "text/plain": "2"
          },
          "metadata": {}
        }
      ]
    },
    {
      "metadata": {
        "trusted": true
      },
      "cell_type": "code",
      "source": "",
      "execution_count": null,
      "outputs": []
    }
  ],
  "metadata": {
    "kernelspec": {
      "name": "python36",
      "display_name": "Python 3.6",
      "language": "python"
    },
    "language_info": {
      "mimetype": "text/x-python",
      "nbconvert_exporter": "python",
      "name": "python",
      "pygments_lexer": "ipython3",
      "version": "3.6.6",
      "file_extension": ".py",
      "codemirror_mode": {
        "version": 3,
        "name": "ipython"
      }
    }
  },
  "nbformat": 4,
  "nbformat_minor": 2
}