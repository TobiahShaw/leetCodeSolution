{
 "cells": [
  {
   "cell_type": "markdown",
   "metadata": {},
   "source": [
    "# 解码异或后的排列\n",
    "\n",
    "**题目来源：力扣（LeetCode）**\n",
    "\n",
    "**链接：https://leetcode-cn.com/problems/decode-xored-permutation/**\n",
    "\n",
    "## 一、题目\n",
    "\n",
    "给你一个整数数组 perm ，它是前 n 个正整数的排列，且 n 是个 奇数 。\n",
    "\n",
    "它被加密成另一个长度为 n - 1 的整数数组 encoded ，满足 encoded[i] = perm[i] XOR perm[i + 1] 。比方说，如果 perm = [1,3,2] ，那么 encoded = [2,1] 。\n",
    "\n",
    "给你 encoded 数组，请你返回原始数组 perm 。题目保证答案存在且唯一。\n",
    "\n",
    "### 提示：\n",
    "\n",
    "- 3 <= n < 105\n",
    "- n 是奇数。\n",
    "- encoded.length == n - 1\n",
    "\n",
    "## 二、示例\n",
    "\n",
    "### 示例 1：\n",
    "\n",
    "输入：encoded = [3,1]\n",
    "\n",
    "输出：[1,2,3]\n",
    "\n",
    "解释：如果 perm = [1,2,3] ，那么 encoded = [1 XOR 2,2 XOR 3] = [3,1]\n",
    "\n",
    "### 示例 2：\n",
    "\n",
    "输入：encoded = [6,5,4,6]\n",
    "\n",
    "输出：[2,4,1,5,3]\n",
    "\n",
    "## 三、解题思路\n",
    "\n",
    "### 利用异或解码\n",
    "\n",
    "因为是小于等于n的数，且不会重复，即所有数字在[1,n]中且不重复\n",
    "\n",
    "设n=5\n",
    "\n",
    "则perm=[a,b,c,d,e]，enco=[f,g,h,i]\n",
    "\n",
    "因为n确定，所以可以知道所有数的异或结果，即a^b^c^d^e的结果是知道的\n",
    "\n",
    "我们知道的是enco的值，只需要找到perm的随意一个位置的值就可以构造答案\n",
    "\n",
    "可以发现\n",
    "\n",
    "- f=a^b\n",
    "- g=b^c\n",
    "- h=c^d\n",
    "- i=d^e\n",
    "\n",
    "现在知道a^b^c^d^e，可以用g=b^c和i=d^e去消除，只剩下一个a，这样perm就构造出来一个元素，即答案"
   ]
  },
  {
   "cell_type": "code",
   "execution_count": 1,
   "metadata": {},
   "outputs": [],
   "source": [
    "def decode(encoded):\n",
    "    from functools import reduce\n",
    "    def xor(x,y):\n",
    "        return x^y\n",
    "    n = len(encoded) + 1\n",
    "    # 前 n 个正整数的排列\n",
    "    total = reduce(xor, range(1, n + 1))\n",
    "    odd = 0\n",
    "    for i in range(1, n - 1, 2):\n",
    "        odd ^= encoded[i]\n",
    "    \n",
    "    perm = [total ^ odd]\n",
    "    for i in range(n - 1):\n",
    "        perm.append(perm[-1] ^ encoded[i])\n",
    "    \n",
    "    return perm"
   ]
  },
  {
   "cell_type": "code",
   "execution_count": 2,
   "metadata": {},
   "outputs": [
    {
     "data": {
      "text/plain": [
       "[1, 2, 3]"
      ]
     },
     "execution_count": 2,
     "metadata": {},
     "output_type": "execute_result"
    }
   ],
   "source": [
    "decode([3,1])"
   ]
  },
  {
   "cell_type": "code",
   "execution_count": 3,
   "metadata": {},
   "outputs": [
    {
     "data": {
      "text/plain": [
       "[2, 4, 1, 5, 3]"
      ]
     },
     "execution_count": 3,
     "metadata": {},
     "output_type": "execute_result"
    }
   ],
   "source": [
    "decode([6,5,4,6])"
   ]
  },
  {
   "cell_type": "code",
   "execution_count": null,
   "metadata": {},
   "outputs": [],
   "source": []
  }
 ],
 "metadata": {
  "kernelspec": {
   "display_name": "Python 3",
   "language": "python",
   "name": "python3"
  },
  "language_info": {
   "codemirror_mode": {
    "name": "ipython",
    "version": 3
   },
   "file_extension": ".py",
   "mimetype": "text/x-python",
   "name": "python",
   "nbconvert_exporter": "python",
   "pygments_lexer": "ipython3",
   "version": "3.6.5"
  }
 },
 "nbformat": 4,
 "nbformat_minor": 2
}
