{
 "cells": [
  {
   "cell_type": "markdown",
   "metadata": {},
   "source": [
    "# 构造矩形\n",
    "\n",
    "**题目来源：力扣（LeetCode）**\n",
    "\n",
    "**链接：https://leetcode-cn.com/problems/construct-the-rectangle/**\n",
    "\n",
    "## 一、题目\n",
    "\n",
    "作为一位web开发者， 懂得怎样去规划一个页面的尺寸是很重要的。 现给定一个具体的矩形页面面积，你的任务是设计一个长度为 L 和宽度为 W 且满足以下要求的矩形的页面。要求：\n",
    "\n",
    "1. 你设计的矩形页面必须等于给定的目标面积。\n",
    "\n",
    "2. 宽度 W 不应大于长度 L，换言之，要求 L >= W 。\n",
    "\n",
    "3. 长度 L 和宽度 W 之间的差距应当尽可能小。\n",
    "\n",
    "你需要按顺序输出你设计的页面的长度 L 和宽度 W。\n",
    "\n",
    "### 说明:\n",
    "\n",
    "- 给定的面积不大于 10,000,000 且为正整数。\n",
    "- 你设计的页面的长度和宽度必须都是正整数。\n",
    "\n",
    "## 二、示例\n",
    "\n",
    "输入: 4\n",
    "\n",
    "输出: [2, 2]\n",
    "\n",
    "解释: 目标面积是 4， 所有可能的构造方案有 [1,4], [2,2], [4,1]。但是根据要求2，[1,4] 不符合要求; 根据要求3，[2,2] 比 [4,1] 更能符合要求. 所以输出长度 L 为 2， 宽度 W 为 2。\n",
    "\n",
    "## 三、解题思路\n",
    "\n",
    "### 开方后取整向前扫描"
   ]
  },
  {
   "cell_type": "code",
   "execution_count": 1,
   "metadata": {},
   "outputs": [],
   "source": [
    "def constructRectangle(area: int):\n",
    "    import math\n",
    "    w = int(math.sqrt(area))\n",
    "    while w >= 1:\n",
    "        if area % w == 0:\n",
    "            return [area // w, w]\n",
    "        w -= 1"
   ]
  },
  {
   "cell_type": "code",
   "execution_count": 2,
   "metadata": {},
   "outputs": [
    {
     "data": {
      "text/plain": [
       "[2, 2]"
      ]
     },
     "execution_count": 2,
     "metadata": {},
     "output_type": "execute_result"
    }
   ],
   "source": [
    "constructRectangle(4)"
   ]
  },
  {
   "cell_type": "code",
   "execution_count": null,
   "metadata": {},
   "outputs": [],
   "source": []
  }
 ],
 "metadata": {
  "kernelspec": {
   "display_name": "Python 3",
   "language": "python",
   "name": "python3"
  },
  "language_info": {
   "codemirror_mode": {
    "name": "ipython",
    "version": 3
   },
   "file_extension": ".py",
   "mimetype": "text/x-python",
   "name": "python",
   "nbconvert_exporter": "python",
   "pygments_lexer": "ipython3",
   "version": "3.6.5"
  }
 },
 "nbformat": 4,
 "nbformat_minor": 2
}
