{
  "cells": [
    {
      "metadata": {
        "collapsed": true
      },
      "cell_type": "markdown",
      "source": "# 二叉树的最近公共祖先\n\n**题目来源：力扣（LeetCode）**\n\n**链接：https://leetcode-cn.com/problems/lowest-common-ancestor-of-a-binary-tree/**\n\n## 一、题目\n\n给定一个二叉树, 找到该树中两个指定节点的最近公共祖先。\n\n百度百科中最近公共祖先的定义为：“对于有根树 T 的两个结点 p、q，最近公共祖先表示为一个结点 x，满足 x 是 p、q 的祖先且 x 的深度尽可能大（一个节点也可以是它自己的祖先）。”\n\n## 二、示例\n\n例如，给定如下二叉树:  root = [3,5,1,6,2,0,8,null,null,7,4]\n\n```\n      3\n    /   \\\n   5     1\n  / \\   /  \\\n 6   2  0   8\n   / \\\n  7   4\n```\n\n### 示例 1:\n\n输入: root = [3,5,1,6,2,0,8,null,null,7,4], p = 5, q = 1\n\n输出: 3\n\n解释: 节点 5 和节点 1 的最近公共祖先是节点 3。\n\n### 示例 2:\n\n输入: root = [3,5,1,6,2,0,8,null,null,7,4], p = 5, q = 4\n\n输出: 5\n\n解释: 节点 5 和节点 4 的最近公共祖先是节点 5。因为根据定义最近公共祖先节点可以为节点本身。\n\n## 三、说明\n\n- 所有节点的值都是唯一的。\n- p、q 为不同节点且均存在于给定的二叉树中。\n\n## 四、解题思路"
    },
    {
      "metadata": {
        "trusted": true
      },
      "cell_type": "code",
      "source": "",
      "execution_count": null,
      "outputs": []
    }
  ],
  "metadata": {
    "kernelspec": {
      "name": "python36",
      "display_name": "Python 3.6",
      "language": "python"
    },
    "language_info": {
      "mimetype": "text/x-python",
      "nbconvert_exporter": "python",
      "name": "python",
      "pygments_lexer": "ipython3",
      "version": "3.6.6",
      "file_extension": ".py",
      "codemirror_mode": {
        "version": 3,
        "name": "ipython"
      }
    }
  },
  "nbformat": 4,
  "nbformat_minor": 2
}