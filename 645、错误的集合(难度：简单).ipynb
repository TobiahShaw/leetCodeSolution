{
 "cells": [
  {
   "cell_type": "markdown",
   "metadata": {},
   "source": [
    "# 错误的集合\n",
    "\n",
    "**题目来源：力扣（LeetCode）**\n",
    "\n",
    "**链接：https://leetcode-cn.com/problems/set-mismatch/**\n",
    "\n",
    "## 一、题目\n",
    "\n",
    "集合 s 包含从 1 到 n 的整数。不幸的是，因为数据错误，导致集合里面某一个数字复制了成了集合里面的另外一个数字的值，导致集合 丢失了一个数字 并且 有一个数字重复 。\n",
    "\n",
    "给定一个数组 nums 代表了集合 S 发生错误后的结果。\n",
    "\n",
    "请你找出重复出现的整数，再找到丢失的整数，将它们以数组的形式返回。\n",
    "\n",
    "### 提示：\n",
    "\n",
    "- 2 <= nums.length <= 10^4\n",
    "- 1 <= nums[i] <= 10^4\n",
    "\n",
    "## 二、示例\n",
    "\n",
    "### 示例 1：\n",
    "\n",
    "输入：nums = [1,2,2,4]\n",
    "\n",
    "输出：[2,3]\n",
    "\n",
    "### 示例 2：\n",
    "\n",
    "输入：nums = [1,1]\n",
    "\n",
    "输出：[1,2]\n",
    "\n",
    "## 三、解题思路\n",
    "\n",
    "### 利用集合"
   ]
  },
  {
   "cell_type": "code",
   "execution_count": 1,
   "metadata": {},
   "outputs": [],
   "source": [
    "def findErrorNums(nums):\n",
    "    if not nums:\n",
    "        return []\n",
    "    n = len(nums)\n",
    "    surplusSum = (1 + n) * n // 2\n",
    "    ret = []\n",
    "    visited = set()\n",
    "    for num in nums:\n",
    "        if num in visited:\n",
    "            ret.append(num)\n",
    "        visited.add(num)\n",
    "        surplusSum -= num\n",
    "    if not ret:\n",
    "        return []\n",
    "    ret.append(ret[-1] + surplusSum)\n",
    "    return ret"
   ]
  },
  {
   "cell_type": "code",
   "execution_count": 2,
   "metadata": {},
   "outputs": [
    {
     "data": {
      "text/plain": [
       "[2, 3]"
      ]
     },
     "execution_count": 2,
     "metadata": {},
     "output_type": "execute_result"
    }
   ],
   "source": [
    "findErrorNums([1,2,2,4])"
   ]
  },
  {
   "cell_type": "code",
   "execution_count": 3,
   "metadata": {},
   "outputs": [
    {
     "data": {
      "text/plain": [
       "[1, 2]"
      ]
     },
     "execution_count": 3,
     "metadata": {},
     "output_type": "execute_result"
    }
   ],
   "source": [
    "findErrorNums([1,1])"
   ]
  },
  {
   "cell_type": "code",
   "execution_count": null,
   "metadata": {},
   "outputs": [],
   "source": []
  }
 ],
 "metadata": {
  "kernelspec": {
   "display_name": "Python 3",
   "language": "python",
   "name": "python3"
  },
  "language_info": {
   "codemirror_mode": {
    "name": "ipython",
    "version": 3
   },
   "file_extension": ".py",
   "mimetype": "text/x-python",
   "name": "python",
   "nbconvert_exporter": "python",
   "pygments_lexer": "ipython3",
   "version": "3.6.5"
  }
 },
 "nbformat": 4,
 "nbformat_minor": 2
}
