{
 "cells": [
  {
   "cell_type": "markdown",
   "metadata": {
    "collapsed": true
   },
   "source": [
    "# 路径总和II\n",
    "\n",
    "**题目来源：力扣（LeetCode）**\n",
    "\n",
    "**链接：https://leetcode-cn.com/problems/path-sum-ii/**\n",
    "\n",
    "## 一、题目\n",
    "\n",
    "给定一个二叉树和一个目标和，找到所有从根节点到叶子节点路径总和等于给定目标和的路径。\n",
    "\n",
    "说明: 叶子节点是指没有子节点的节点。\n",
    "\n",
    "### 提示：\n",
    "\n",
    "- 树中节点总数在范围 [0, 5000] 内\n",
    "- -1000 <= Node.val <= 1000\n",
    "- -1000 <= targetSum <= 1000\n",
    "\n",
    "## 二、示例\n",
    "\n",
    "给定如下二叉树，以及目标和 sum = 22，\n",
    "\n",
    "```\n",
    "              5\n",
    "             / \\\n",
    "            4   8\n",
    "           /   / \\\n",
    "          11  13  4\n",
    "         /  \\    / \\\n",
    "        7    2  5   1\n",
    "\n",
    "```\n",
    "\n",
    "返回:\n",
    "\n",
    "```\n",
    "[\n",
    "   [5,4,11,2],\n",
    "   [5,8,4,5]\n",
    "]\n",
    "```\n",
    "\n",
    "## 三、解题思路\n",
    "\n",
    "深度搜索所有从根节点到叶子节点的路径，检查各路径上节点上的值的和是否为sum。\n",
    "\n",
    "### 思考\n",
    "\n",
    "- 使用何种数据结构存储遍历路径上的节点\n",
    "- 在数的前序遍历时做什么，后续遍历时做什么\n",
    "- 如何判断一个节点为叶子节点，遍历到叶子节点应该做什么\n",
    "\n",
    "### 思路\n",
    "\n",
    "- 从根节点遍历二叉树，先序遍历时，将该节点存储到栈中\n",
    "- 遍历到叶子节点检查和是否为sum，若为sum则存进result\n",
    "- 后续遍历时弹出节点"
   ]
  },
  {
   "cell_type": "code",
   "execution_count": 1,
   "metadata": {},
   "outputs": [],
   "source": [
    "class TreeNode:\n",
    "    def __init__(self, x):\n",
    "        self.val = x\n",
    "        self.left = None\n",
    "        self.right = None"
   ]
  },
  {
   "cell_type": "code",
   "execution_count": 2,
   "metadata": {},
   "outputs": [],
   "source": [
    "root = TreeNode(5)\n",
    "\n",
    "root.left = TreeNode(4)\n",
    "root.right = TreeNode(8)\n",
    "\n",
    "root.left.left = TreeNode(11)\n",
    "\n",
    "root.right.left = TreeNode(13)\n",
    "root.right.right = TreeNode(4)\n",
    "\n",
    "root.left.left.left = TreeNode(7)\n",
    "root.left.left.right = TreeNode(2)\n",
    "\n",
    "root.right.right.left = TreeNode(5)\n",
    "root.right.right.right = TreeNode(1)"
   ]
  },
  {
   "cell_type": "markdown",
   "metadata": {},
   "source": [
    "### 一、回溯法"
   ]
  },
  {
   "cell_type": "code",
   "execution_count": 3,
   "metadata": {},
   "outputs": [],
   "source": [
    "def pathSum(root, target):\n",
    "    def generate(item, node, result):\n",
    "        if not node:\n",
    "            return\n",
    "        item.append(node.val)\n",
    "        if sum(item) == target and not node.left and not node.right:\n",
    "            result.append(item[:])\n",
    "        else:\n",
    "            generate(item, node.left, result)\n",
    "            generate(item, node.right, result)\n",
    "        item.pop()\n",
    "    result = []\n",
    "    generate([], root, result)\n",
    "    return result"
   ]
  },
  {
   "cell_type": "code",
   "execution_count": 4,
   "metadata": {},
   "outputs": [
    {
     "data": {
      "text/plain": [
       "[[5, 4, 11, 2], [5, 8, 4, 5]]"
      ]
     },
     "execution_count": 4,
     "metadata": {},
     "output_type": "execute_result"
    }
   ],
   "source": [
    "pathSum(root, 22)"
   ]
  },
  {
   "cell_type": "markdown",
   "metadata": {},
   "source": [
    "### 二、优化回溯法"
   ]
  },
  {
   "cell_type": "code",
   "execution_count": 5,
   "metadata": {},
   "outputs": [],
   "source": [
    "def pathSum(root, sum):\n",
    "    def generate(item, node, path_val, result):\n",
    "        if not node:\n",
    "            return\n",
    "        item.append(node.val)\n",
    "        path_val += node.val\n",
    "        if path_val == sum and not node.left and not node.right:\n",
    "            result.append(item[:])\n",
    "        else:\n",
    "            generate(item, node.left, path_val, result)\n",
    "            generate(item, node.right, path_val, result)\n",
    "        path_val -= item.pop()\n",
    "    result = []\n",
    "    generate([], root, 0, result)\n",
    "    return result"
   ]
  },
  {
   "cell_type": "code",
   "execution_count": 6,
   "metadata": {},
   "outputs": [
    {
     "data": {
      "text/plain": [
       "[[5, 4, 11, 2], [5, 8, 4, 5]]"
      ]
     },
     "execution_count": 6,
     "metadata": {},
     "output_type": "execute_result"
    }
   ],
   "source": [
    "pathSum(root, 22)"
   ]
  },
  {
   "cell_type": "code",
   "execution_count": null,
   "metadata": {},
   "outputs": [],
   "source": []
  }
 ],
 "metadata": {
  "kernelspec": {
   "display_name": "Python 3",
   "language": "python",
   "name": "python3"
  },
  "language_info": {
   "codemirror_mode": {
    "name": "ipython",
    "version": 3
   },
   "file_extension": ".py",
   "mimetype": "text/x-python",
   "name": "python",
   "nbconvert_exporter": "python",
   "pygments_lexer": "ipython3",
   "version": "3.6.5"
  }
 },
 "nbformat": 4,
 "nbformat_minor": 2
}
