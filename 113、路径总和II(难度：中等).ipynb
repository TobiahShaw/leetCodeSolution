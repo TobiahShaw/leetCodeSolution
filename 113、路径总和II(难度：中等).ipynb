{
  "cells": [
    {
      "metadata": {
        "collapsed": true
      },
      "cell_type": "markdown",
      "source": "# 路径总和II\n\n**题目来源：力扣（LeetCode）**\n\n**链接：https://leetcode-cn.com/problems/path-sum-ii/**\n\n## 一、题目\n\n给定一个二叉树和一个目标和，找到所有从根节点到叶子节点路径总和等于给定目标和的路径。\n\n说明: 叶子节点是指没有子节点的节点。\n\n## 二、示例\n\n给定如下二叉树，以及目标和 sum = 22，\n\n```\n              5\n             / \\\n            4   8\n           /   / \\\n          11  13  4\n         /  \\    / \\\n        7    2  5   1\n\n```\n\n返回:\n\n```\n[\n   [5,4,11,2],\n   [5,8,4,5]\n]\n```\n\n## 三、解题思路"
    },
    {
      "metadata": {
        "trusted": true
      },
      "cell_type": "code",
      "source": "class TreeNode:\n    def __init__(self, x):\n        self.val = x\n        self.left = None\n        self.right = None",
      "execution_count": 1,
      "outputs": []
    },
    {
      "metadata": {
        "trusted": true
      },
      "cell_type": "code",
      "source": "root = TreeNode(5)\n\nroot.left = TreeNode(4)\nroot.right = TreeNode(8)\n\nroot.left.left = TreeNode(11)\n\nroot.right.left = TreeNode(13)\nroot.right.right = TreeNode(4)\n\nroot.left.left.left = TreeNode(7)\nroot.left.left.right = TreeNode(2)\n\nroot.right.right.left = TreeNode(5)\nroot.right.right.right = TreeNode(1)",
      "execution_count": 2,
      "outputs": []
    },
    {
      "metadata": {},
      "cell_type": "markdown",
      "source": "### 一、回溯法"
    },
    {
      "metadata": {
        "trusted": true
      },
      "cell_type": "code",
      "source": "def pathSum(root, target):\n    def generate(item, node, result):\n        if not node:\n            return\n        item.append(node.val)\n        if sum(item) == target and not node.left and not node.right:\n            result.append(item[:])\n        else:\n            generate(item, node.left, result)\n            generate(item, node.right, result)\n        item.pop()\n    result = []\n    generate([], root, result)\n    return result",
      "execution_count": 3,
      "outputs": []
    },
    {
      "metadata": {
        "trusted": true
      },
      "cell_type": "code",
      "source": "pathSum(root, 22)",
      "execution_count": 4,
      "outputs": [
        {
          "output_type": "execute_result",
          "execution_count": 4,
          "data": {
            "text/plain": "[[5, 4, 11, 2], [5, 8, 4, 5]]"
          },
          "metadata": {}
        }
      ]
    },
    {
      "metadata": {
        "trusted": true
      },
      "cell_type": "code",
      "source": "",
      "execution_count": null,
      "outputs": []
    }
  ],
  "metadata": {
    "kernelspec": {
      "name": "python36",
      "display_name": "Python 3.6",
      "language": "python"
    },
    "language_info": {
      "mimetype": "text/x-python",
      "nbconvert_exporter": "python",
      "name": "python",
      "pygments_lexer": "ipython3",
      "version": "3.6.6",
      "file_extension": ".py",
      "codemirror_mode": {
        "version": 3,
        "name": "ipython"
      }
    }
  },
  "nbformat": 4,
  "nbformat_minor": 2
}