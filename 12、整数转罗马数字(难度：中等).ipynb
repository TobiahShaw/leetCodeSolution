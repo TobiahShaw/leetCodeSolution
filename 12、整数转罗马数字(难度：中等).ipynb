{
 "cells": [
  {
   "cell_type": "markdown",
   "metadata": {
    "collapsed": true
   },
   "source": [
    "# 整数转罗马数字\n",
    "\n",
    "**题目来源：力扣（LeetCode）**\n",
    "\n",
    "**链接：https://leetcode-cn.com/problems/roman-to-integer/**\n",
    "\n",
    "## 一、题目\n",
    "\n",
    "罗马数字包含以下七种字符: I， V， X， L，C，D 和 M。\n",
    "\n",
    "字符|数值\n",
    "-|-\n",
    "I | 1\n",
    "V | 5\n",
    "X | 10\n",
    "L | 50\n",
    "C | 100\n",
    "D | 500\n",
    "M | 1000\n",
    "\n",
    "例如， 罗马数字 2 写做 II ，即为两个并列的 1。12 写做 XII ，即为 X + II 。 27 写做  XXVII, 即为 XX + V + II 。\n",
    "\n",
    "通常情况下，罗马数字中小的数字在大的数字的右边。但也存在特例，例如 4 不写做 IIII，而是 IV。数字 1 在数字 5 的左边，所表示的数等于大数 5 减小数 1 得到的数值 4 。同样地，数字 9 表示为 IX。这个特殊的规则只适用于以下六种情况：\n",
    "\n",
    "- I 可以放在 V (5) 和 X (10) 的左边，来表示 4 和 9。\n",
    "- X 可以放在 L (50) 和 C (100) 的左边，来表示 40 和 90。 \n",
    "- C 可以放在 D (500) 和 M (1000) 的左边，来表示 400 和 900。\n",
    "\n",
    "给定一个整数，将其转为罗马数字。输入确保在 1 到 3999 的范围内。\n",
    "\n",
    "### 提示：\n",
    "\n",
    "- 1 <= s.length <= 15\n",
    "- s 仅含字符 ('I', 'V', 'X', 'L', 'C', 'D', 'M')\n",
    "- 题目数据保证 s 是一个有效的罗马数字，且表示整数在范围 [1, 3999] 内\n",
    "- 题目所给测试用例皆符合罗马数字书写规则，不会出现跨位等情况。\n",
    "- IL 和 IM 这样的例子并不符合题目要求，49 应该写作 XLIX，999 应该写作 CMXCIX 。\n",
    "- 关于罗马数字的详尽书写规则，可以参考 [罗马数字 - Mathematics](https://b2b.partcommunity.com/community/knowledge/zh_CN/detail/10753/%E7%BD%97%E9%A9%AC%E6%95%B0%E5%AD%97#knowledge_article) 。\n",
    "\n",
    "## 二、示例\n",
    "\n",
    "### 示例 1:\n",
    "\n",
    "输入: 3\n",
    "\n",
    "输出: \"III\"\n",
    "\n",
    "### 示例 2:\n",
    "\n",
    "输入: 4\n",
    "\n",
    "输出: \"IV\"\n",
    "\n",
    "### 示例 3:\n",
    "\n",
    "输入: 9\n",
    "\n",
    "输出: \"IX\"\n",
    "\n",
    "### 示例 4:\n",
    "\n",
    "输入: 58\n",
    "\n",
    "输出: \"LVIII\"\n",
    "\n",
    "解释: L = 50, V = 5, III = 3.\n",
    "\n",
    "### 示例 5:\n",
    "\n",
    "输入: 1994\n",
    "\n",
    "输出: \"MCMXCIV\"\n",
    "\n",
    "解释: M = 1000, CM = 900, XC = 90, IV = 4.\n",
    "\n",
    "## 三、解题思路\n",
    "\n",
    "### 模拟"
   ]
  },
  {
   "cell_type": "code",
   "execution_count": 1,
   "metadata": {},
   "outputs": [],
   "source": [
    "def intToRoman(num):\n",
    "    hashmap = {1000:'M', 900:'CM', 500:'D', 400:'CD', 100:'C', 90:'XC', 50:'L', 40:'XL', 10:'X', 9:'IX', 5:'V', 4:'IV', 1:'I'}\n",
    "    res = ''\n",
    "    for key in hashmap:\n",
    "        if num // key != 0:\n",
    "            count = num // key\n",
    "            res += hashmap[key] * count \n",
    "            num %= key\n",
    "    return res"
   ]
  },
  {
   "cell_type": "code",
   "execution_count": 2,
   "metadata": {},
   "outputs": [
    {
     "data": {
      "text/plain": [
       "'III'"
      ]
     },
     "execution_count": 2,
     "metadata": {},
     "output_type": "execute_result"
    }
   ],
   "source": [
    "intToRoman(3)"
   ]
  },
  {
   "cell_type": "code",
   "execution_count": 3,
   "metadata": {},
   "outputs": [
    {
     "data": {
      "text/plain": [
       "'IV'"
      ]
     },
     "execution_count": 3,
     "metadata": {},
     "output_type": "execute_result"
    }
   ],
   "source": [
    "intToRoman(4)"
   ]
  },
  {
   "cell_type": "code",
   "execution_count": 4,
   "metadata": {},
   "outputs": [
    {
     "data": {
      "text/plain": [
       "'IX'"
      ]
     },
     "execution_count": 4,
     "metadata": {},
     "output_type": "execute_result"
    }
   ],
   "source": [
    "intToRoman(9)"
   ]
  },
  {
   "cell_type": "code",
   "execution_count": 5,
   "metadata": {},
   "outputs": [
    {
     "data": {
      "text/plain": [
       "'LVIII'"
      ]
     },
     "execution_count": 5,
     "metadata": {},
     "output_type": "execute_result"
    }
   ],
   "source": [
    "intToRoman(58)"
   ]
  },
  {
   "cell_type": "code",
   "execution_count": 6,
   "metadata": {},
   "outputs": [
    {
     "data": {
      "text/plain": [
       "'MCMXCIV'"
      ]
     },
     "execution_count": 6,
     "metadata": {},
     "output_type": "execute_result"
    }
   ],
   "source": [
    "intToRoman(1994)"
   ]
  },
  {
   "cell_type": "code",
   "execution_count": null,
   "metadata": {},
   "outputs": [],
   "source": []
  }
 ],
 "metadata": {
  "kernelspec": {
   "display_name": "Python 3",
   "language": "python",
   "name": "python3"
  },
  "language_info": {
   "codemirror_mode": {
    "name": "ipython",
    "version": 3
   },
   "file_extension": ".py",
   "mimetype": "text/x-python",
   "name": "python",
   "nbconvert_exporter": "python",
   "pygments_lexer": "ipython3",
   "version": "3.6.5"
  }
 },
 "nbformat": 4,
 "nbformat_minor": 2
}
