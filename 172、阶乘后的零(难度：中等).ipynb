{
 "cells": [
  {
   "cell_type": "markdown",
   "metadata": {},
   "source": [
    "# 阶乘后的零\n",
    "\n",
    "**题目来源：力扣（LeetCode）**\n",
    "\n",
    "**链接：https://leetcode-cn.com/problems/factorial-trailing-zeroes/**\n",
    "\n",
    "## 一、题目\n",
    "\n",
    "给定一个整数 n，返回 n! 结果尾数中零的数量。\n",
    "\n",
    "### 提示：\n",
    "\n",
    "- 0 <= n <= 10^4\n",
    "\n",
    "### 进阶：\n",
    "\n",
    "你可以设计并实现对数时间复杂度的算法来解决此问题吗？\n",
    "\n",
    "## 二、示例\n",
    "\n",
    "### 示例 1：\n",
    "\n",
    "输入: 3\n",
    "\n",
    "输出: 0\n",
    "\n",
    "解释: 3! = 6, 尾数中没有零。\n",
    "\n",
    "### 示例 2:\n",
    "\n",
    "输入: 5\n",
    "\n",
    "输出: 1\n",
    "\n",
    "解释: 5! = 120, 尾数中有 1 个零.\n",
    "\n",
    "## 三、解题思路\n",
    "\n",
    "### 求5的个数\n",
    "\n",
    "因为引入的10都是 2 * 5，而自然数列中2又比五多，只需计算五引入的个数就行了"
   ]
  },
  {
   "cell_type": "code",
   "execution_count": 1,
   "metadata": {},
   "outputs": [],
   "source": [
    "def trailingZeroes(n: int) -> int:\n",
    "    p = 0\n",
    "    while n >= 5:\n",
    "        n = n // 5\n",
    "        p += n\n",
    "    return p"
   ]
  },
  {
   "cell_type": "code",
   "execution_count": 2,
   "metadata": {},
   "outputs": [
    {
     "data": {
      "text/plain": [
       "0"
      ]
     },
     "execution_count": 2,
     "metadata": {},
     "output_type": "execute_result"
    }
   ],
   "source": [
    "trailingZeroes(3)"
   ]
  },
  {
   "cell_type": "code",
   "execution_count": 3,
   "metadata": {},
   "outputs": [
    {
     "data": {
      "text/plain": [
       "1"
      ]
     },
     "execution_count": 3,
     "metadata": {},
     "output_type": "execute_result"
    }
   ],
   "source": [
    "trailingZeroes(5)"
   ]
  },
  {
   "cell_type": "code",
   "execution_count": 4,
   "metadata": {},
   "outputs": [
    {
     "data": {
      "text/plain": [
       "2264"
      ]
     },
     "execution_count": 4,
     "metadata": {},
     "output_type": "execute_result"
    }
   ],
   "source": [
    "trailingZeroes(9070)"
   ]
  },
  {
   "cell_type": "code",
   "execution_count": null,
   "metadata": {},
   "outputs": [],
   "source": []
  }
 ],
 "metadata": {
  "kernelspec": {
   "display_name": "Python 3",
   "language": "python",
   "name": "python3"
  },
  "language_info": {
   "codemirror_mode": {
    "name": "ipython",
    "version": 3
   },
   "file_extension": ".py",
   "mimetype": "text/x-python",
   "name": "python",
   "nbconvert_exporter": "python",
   "pygments_lexer": "ipython3",
   "version": "3.6.5"
  }
 },
 "nbformat": 4,
 "nbformat_minor": 2
}
