{
 "cells": [
  {
   "cell_type": "markdown",
   "metadata": {},
   "source": [
    "# 四数之和\n",
    "\n",
    "**题目来源：力扣（LeetCode）**\n",
    "\n",
    "**链接：https://leetcode-cn.com/problems/4sum/**\n",
    "\n",
    "## 一、题目\n",
    "\n",
    "给你一个由 n 个整数组成的数组 nums ，和一个目标值 target 。请你找出并返回满足下述全部条件且不重复的四元组 [nums[a], nums[b], nums[c], nums[d]] （若两个四元组元素一一对应，则认为两个四元组重复）：\n",
    "\n",
    "- 0 <= a, b, c, d < n\n",
    "- a、b、c 和 d 互不相同\n",
    "- nums[a] + nums[b] + nums[c] + nums[d] == target\n",
    "\n",
    "你可以按任意顺序返回答案 。\n",
    "\n",
    "### 提示：\n",
    "\n",
    "- 1 <= nums.length <= 200\n",
    "- -10^9 <= nums[i] <= 10^9\n",
    "- -10^9 <= target <= 10^9\n",
    "\n",
    "## 二、示例\n",
    "\n",
    "### 示例 1：\n",
    "\n",
    "输入：nums = [1,0,-1,0,-2,2], target = 0\n",
    "\n",
    "输出：[[-2,-1,1,2],[-2,0,0,2],[-1,0,0,1]]\n",
    "\n",
    "### 示例 2：\n",
    "\n",
    "输入：nums = [2,2,2,2,2], target = 8\n",
    "\n",
    "输出：[[2,2,2,2]]\n",
    "\n",
    "## 三、解题思路"
   ]
  },
  {
   "cell_type": "code",
   "execution_count": 1,
   "metadata": {},
   "outputs": [],
   "source": [
    "from collections import Counter\n",
    "def fourSum(nums, target):\n",
    "    res = []\n",
    "    dic = Counter(nums) #对每个数出现的次数进行统计\n",
    "    arr = sorted(dic.keys())  #排序键值\n",
    "    for i, a in enumerate(arr):\n",
    "        dic[a] -= 1 #a用掉了一次，而且a的位置之后不会再遍历到了，不需要加回\n",
    "        for j, b in enumerate(arr[i:]):  #从arr[i]开始找b的值\n",
    "            if dic[b] < 1: #b可能等于a，判断一下，如果dic[b]不够1个，跳过这次循环\n",
    "                continue\n",
    "            dic[b] -= 1\n",
    "            for c in arr[i+j:]:  #从arr[i+j]开始找c的值，注意上一层循环枚举j以后，需要再加最外层的i\n",
    "                if dic[c] < 1: #同上层循环b的判断\n",
    "                    continue\n",
    "                d = target - (a + b + c)  \n",
    "                if d < c:   #因为是非递减顺序，如果d小于c，就直接跳出，这样就可以避免重复\n",
    "                    break\n",
    "                if (d == c and dic[d] > 1) or (d > c and dic[d] > 0):\n",
    "                    res.append([a, b, c, d])\n",
    "            dic[b] += 1 #b现在所处的位置，之后a还会遍历到，因此需要加回1\n",
    "    return res"
   ]
  },
  {
   "cell_type": "code",
   "execution_count": 2,
   "metadata": {},
   "outputs": [
    {
     "data": {
      "text/plain": [
       "[[-2, -1, 1, 2], [-2, 0, 0, 2], [-1, 0, 0, 1]]"
      ]
     },
     "execution_count": 2,
     "metadata": {},
     "output_type": "execute_result"
    }
   ],
   "source": [
    "fourSum(nums = [1, 0, -1, 0, -2, 2],target = 0)"
   ]
  },
  {
   "cell_type": "code",
   "execution_count": null,
   "metadata": {},
   "outputs": [],
   "source": []
  }
 ],
 "metadata": {
  "kernelspec": {
   "display_name": "Python 3 (ipykernel)",
   "language": "python",
   "name": "python3"
  },
  "language_info": {
   "codemirror_mode": {
    "name": "ipython",
    "version": 3
   },
   "file_extension": ".py",
   "mimetype": "text/x-python",
   "name": "python",
   "nbconvert_exporter": "python",
   "pygments_lexer": "ipython3",
   "version": "3.9.10+"
  }
 },
 "nbformat": 4,
 "nbformat_minor": 4
}
