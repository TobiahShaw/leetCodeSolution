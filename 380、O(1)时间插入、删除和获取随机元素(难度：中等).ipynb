{
 "cells": [
  {
   "cell_type": "markdown",
   "metadata": {},
   "source": [
    "# O(1)时间插入、删除和获取随机元素\n",
    "\n",
    "**题目来源：力扣（LeetCode）**\n",
    "\n",
    "**链接：https://leetcode-cn.com/problems/insert-delete-getrandom-o1/**\n",
    "\n",
    "## 一、题目\n",
    "\n",
    "实现RandomizedSet 类：\n",
    "\n",
    "- RandomizedSet() 初始化 RandomizedSet 对象\n",
    "- bool insert(int val) 当元素 val 不存在时，向集合中插入该项，并返回 true ；否则，返回 false 。\n",
    "- bool remove(int val) 当元素 val 存在时，从集合中移除该项，并返回 true ；否则，返回 false 。\n",
    "- int getRandom() 随机返回现有集合中的一项（测试用例保证调用此方法时集合中至少存在一个元素）。每个元素应该有 相同的概率 被返回。\n",
    "\n",
    "你必须实现类的所有函数，并满足每个函数的 平均 时间复杂度为 O(1) 。\n",
    "\n",
    "### 提示：\n",
    "\n",
    "- -2^31 <= val <= 2^31 - 1\n",
    "- 最多调用 insert、remove 和 getRandom 函数 2 * 105 次\n",
    "- 在调用 getRandom 方法时，数据结构中 至少存在一个 元素。\n",
    "\n",
    "## 二、示例\n",
    "\n",
    "输入\n",
    "[\"RandomizedSet\", \"insert\", \"remove\", \"insert\", \"getRandom\", \"remove\", \"insert\", \"getRandom\"]\n",
    "\n",
    "[[], [1], [2], [2], [], [1], [2], []]\n",
    "\n",
    "输出\n",
    "\n",
    "[null, true, false, true, 2, true, false, 2]\n",
    "\n",
    "解释\n",
    "\n",
    "```\n",
    "randomizedSet = RandomizedSet()\n",
    "randomizedSet.insert(1) # 向集合中插入 1 。返回 true 表示 1 被成功地插入。\n",
    "randomizedSet.remove(2) # 返回 false ，表示集合中不存在 2 。\n",
    "randomizedSet.insert(2) # 向集合中插入 2 。返回 true 。集合现在包含 [1,2] 。\n",
    "randomizedSet.getRandom() # getRandom 应随机返回 1 或 2 。\n",
    "randomizedSet.remove(1) # 从集合中移除 1 ，返回 true 。集合现在包含 [2] 。\n",
    "randomizedSet.insert(2) # 2 已在集合中，所以返回 false 。\n",
    "randomizedSet.getRandom() # 由于 2 是集合中唯一的数字，getRandom 总是返回 2 。\n",
    "```\n",
    "\n",
    "## 三、解题思路\n",
    "\n",
    "### 可变数组+字典"
   ]
  },
  {
   "cell_type": "code",
   "execution_count": 1,
   "metadata": {},
   "outputs": [],
   "source": [
    "from random import choice\n",
    "\n",
    "class RandomizedSet:\n",
    "\n",
    "    def __init__(self):\n",
    "        self.content = []\n",
    "        self.index = {}\n",
    "\n",
    "    def insert(self, val: int) -> bool:\n",
    "        if val in self.index:\n",
    "            return False\n",
    "        self.content.append(val)\n",
    "        self.index[val] = len(self.content) - 1\n",
    "        return True\n",
    "\n",
    "    def remove(self, val: int) -> bool:\n",
    "        if val not in self.index:\n",
    "            return False\n",
    "        ind = self.index[val]\n",
    "        self.content[ind] = self.content[-1]\n",
    "        self.index[self.content[ind]] = ind\n",
    "        self.content.pop()\n",
    "        del self.index[val]\n",
    "        return True\n",
    "\n",
    "    def getRandom(self) -> int:\n",
    "        return choice(self.content)"
   ]
  },
  {
   "cell_type": "code",
   "execution_count": 2,
   "metadata": {},
   "outputs": [
    {
     "name": "stdout",
     "output_type": "stream",
     "text": [
      "True\n",
      "False\n",
      "True\n",
      "2\n",
      "True\n",
      "False\n",
      "2\n"
     ]
    }
   ],
   "source": [
    "randomizedSet = RandomizedSet()\n",
    "print(randomizedSet.insert(1)) # 向集合中插入 1 。返回 true 表示 1 被成功地插入。\n",
    "print(randomizedSet.remove(2)) # 返回 false ，表示集合中不存在 2 。\n",
    "print(randomizedSet.insert(2)) # 向集合中插入 2 。返回 true 。集合现在包含 [1,2] 。\n",
    "print(randomizedSet.getRandom()) # getRandom 应随机返回 1 或 2 。\n",
    "print(randomizedSet.remove(1)) # 从集合中移除 1 ，返回 true 。集合现在包含 [2] 。\n",
    "print(randomizedSet.insert(2)) # 2 已在集合中，所以返回 false 。\n",
    "print(randomizedSet.getRandom()) # 由于 2 是集合中唯一的数字，getRandom 总是返回 2 。"
   ]
  },
  {
   "cell_type": "code",
   "execution_count": null,
   "metadata": {},
   "outputs": [],
   "source": []
  }
 ],
 "metadata": {
  "kernelspec": {
   "display_name": "Python 3",
   "language": "python",
   "name": "python3"
  },
  "language_info": {
   "codemirror_mode": {
    "name": "ipython",
    "version": 3
   },
   "file_extension": ".py",
   "mimetype": "text/x-python",
   "name": "python",
   "nbconvert_exporter": "python",
   "pygments_lexer": "ipython3",
   "version": "3.6.5"
  }
 },
 "nbformat": 4,
 "nbformat_minor": 2
}
