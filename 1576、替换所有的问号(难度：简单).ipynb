{
 "cells": [
  {
   "cell_type": "markdown",
   "metadata": {},
   "source": [
    "# 替换所有的问号\n",
    "\n",
    "**题目来源：力扣（LeetCode）**\n",
    "\n",
    "**链接：https://leetcode-cn.com/problems/replace-all-s-to-avoid-consecutive-repeating-characters/**\n",
    "\n",
    "## 一、题目\n",
    "\n",
    "给你一个仅包含小写英文字母和 '?' 字符的字符串 s，请你将所有的 '?' 转换为若干小写字母，使最终的字符串不包含任何 连续重复 的字符。\n",
    "\n",
    "注意：你 不能 修改非 '?' 字符。\n",
    "\n",
    "题目测试用例保证 除 '?' 字符 之外，不存在连续重复的字符。\n",
    "\n",
    "在完成所有转换（可能无需转换）后返回最终的字符串。如果有多个解决方案，请返回其中任何一个。可以证明，在给定的约束条件下，答案总是存在的。\n",
    "\n",
    "### 提示：\n",
    "\n",
    "- 1 <= s.length <= 100\n",
    "- s 仅包含小写英文字母和 '?' 字符\n",
    "\n",
    "## 二、示例\n",
    "\n",
    "### 示例 1：\n",
    "\n",
    "输入：s = \"?zs\"\n",
    "\n",
    "输出：\"azs\"\n",
    "\n",
    "解释：该示例共有 25 种解决方案，从 \"azs\" 到 \"yzs\" 都是符合题目要求的。只有 \"z\" 是无效的修改，因为字符串 \"zzs\" 中有连续重复的两个 'z' 。\n",
    "\n",
    "### 示例 2：\n",
    "\n",
    "输入：s = \"ubv?w\"\n",
    "\n",
    "输出：\"ubvaw\"\n",
    "\n",
    "解释：该示例共有 24 种解决方案，只有替换成 \"v\" 和 \"w\" 不符合题目要求。因为 \"ubvvw\" 和 \"ubvww\" 都包含连续重复的字符。\n",
    "\n",
    "### 示例 3：\n",
    "\n",
    "输入：s = \"j?qg??b\"\n",
    "\n",
    "输出：\"jaqgacb\"\n",
    "\n",
    "### 示例 4：\n",
    "\n",
    "输入：s = \"??yw?ipkj?\"\n",
    "\n",
    "输出：\"acywaipkja\"\n",
    "\n",
    "## 三、解题思路\n",
    "\n",
    "### 模拟过程"
   ]
  },
  {
   "cell_type": "code",
   "execution_count": 1,
   "metadata": {},
   "outputs": [],
   "source": [
    "def modifyString(s: str) -> str:\n",
    "    alphabet = ['a', 'b', 'c', 'd', 'e', 'f', 'g', 'h', 'i', 'j', 'k'\n",
    "                , 'l', 'm', 'n', 'o', 'p', 'q', 'r', 's', 't', 'u', 'v', 'w', 'x', 'y', 'z']\n",
    "    ret = []\n",
    "    n = len(s)\n",
    "    for i in range(n):\n",
    "        if s[i] != '?':\n",
    "            ret.append(s[i])\n",
    "        else:\n",
    "            index = 0\n",
    "            while (i+1 < n and s[i+1] == alphabet[index]) or (i > 0 and ret[i-1] == alphabet[index]):\n",
    "                index += 1\n",
    "            ret.append(alphabet[index])\n",
    "    return \"\".join(ret)"
   ]
  },
  {
   "cell_type": "code",
   "execution_count": 2,
   "metadata": {},
   "outputs": [
    {
     "data": {
      "text/plain": [
       "'azs'"
      ]
     },
     "execution_count": 2,
     "metadata": {},
     "output_type": "execute_result"
    }
   ],
   "source": [
    "modifyString(\"?zs\")"
   ]
  },
  {
   "cell_type": "code",
   "execution_count": 3,
   "metadata": {},
   "outputs": [
    {
     "data": {
      "text/plain": [
       "'ubvaw'"
      ]
     },
     "execution_count": 3,
     "metadata": {},
     "output_type": "execute_result"
    }
   ],
   "source": [
    "modifyString(\"ubv?w\")"
   ]
  },
  {
   "cell_type": "code",
   "execution_count": 4,
   "metadata": {},
   "outputs": [
    {
     "data": {
      "text/plain": [
       "'jaqgacb'"
      ]
     },
     "execution_count": 4,
     "metadata": {},
     "output_type": "execute_result"
    }
   ],
   "source": [
    "modifyString(\"j?qg??b\")"
   ]
  },
  {
   "cell_type": "code",
   "execution_count": 5,
   "metadata": {},
   "outputs": [
    {
     "data": {
      "text/plain": [
       "'abywaipkja'"
      ]
     },
     "execution_count": 5,
     "metadata": {},
     "output_type": "execute_result"
    }
   ],
   "source": [
    "modifyString(\"??yw?ipkj?\")"
   ]
  },
  {
   "cell_type": "code",
   "execution_count": null,
   "metadata": {},
   "outputs": [],
   "source": []
  }
 ],
 "metadata": {
  "kernelspec": {
   "display_name": "Python 3",
   "language": "python",
   "name": "python3"
  },
  "language_info": {
   "codemirror_mode": {
    "name": "ipython",
    "version": 3
   },
   "file_extension": ".py",
   "mimetype": "text/x-python",
   "name": "python",
   "nbconvert_exporter": "python",
   "pygments_lexer": "ipython3",
   "version": "3.6.5"
  }
 },
 "nbformat": 4,
 "nbformat_minor": 2
}
