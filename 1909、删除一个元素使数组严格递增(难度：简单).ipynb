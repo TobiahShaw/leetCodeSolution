{
 "cells": [
  {
   "cell_type": "markdown",
   "metadata": {},
   "source": [
    "# 删除一个元素使数组严格递增\n",
    "\n",
    "**题目来源：力扣（LeetCode）**\n",
    "\n",
    "**链接：https://leetcode-cn.com/problems/remove-one-element-to-make-the-array-strictly-increasing/**\n",
    "\n",
    "## 一、题目\n",
    "\n",
    "给你一个下标从 0 开始的整数数组 nums ，如果 恰好 删除 一个 元素后，数组 严格递增 ，那么请你返回 true ，否则返回 false 。如果数组本身已经是严格递增的，请你也返回 true 。\n",
    "\n",
    "数组 nums 是 严格递增 的定义为：对于任意下标的 1 <= i < nums.length 都满足 nums[i - 1] < nums[i] 。\n",
    "\n",
    "### 提示：\n",
    "\n",
    "- 2 <= nums.length <= 1000\n",
    "- 1 <= nums[i] <= 1000\n",
    "\n",
    "## 二、示例\n",
    "\n",
    "### 示例 1：\n",
    "\n",
    "输入：nums = [1,2,10,5,7]\n",
    "\n",
    "输出：true\n",
    "\n",
    "解释：从 nums 中删除下标 2 处的 10 ，得到 [1,2,5,7] 。[1,2,5,7] 是严格递增的，所以返回 true 。\n",
    "\n",
    "### 示例 2：\n",
    "\n",
    "输入：nums = [2,3,1,2]\n",
    "\n",
    "输出：false\n",
    "\n",
    "解释：\n",
    "\n",
    "- [3,1,2] 是删除下标 0 处元素后得到的结果。\n",
    "- [2,1,2] 是删除下标 1 处元素后得到的结果。\n",
    "- [2,3,2] 是删除下标 2 处元素后得到的结果。\n",
    "- [2,3,1] 是删除下标 3 处元素后得到的结果。\n",
    "\n",
    "没有任何结果数组是严格递增的，所以返回 false 。\n",
    "\n",
    "### 示例 3：\n",
    "\n",
    "输入：nums = [1,1,1]\n",
    "\n",
    "输出：false\n",
    "\n",
    "解释：删除任意元素后的结果都是 [1,1] 。[1,1] 不是严格递增的，所以返回 false 。\n",
    "\n",
    "### 示例 4：\n",
    "\n",
    "输入：nums = [1,2,3]\n",
    "\n",
    "输出：true\n",
    "\n",
    "解释：[1,2,3] 已经是严格递增的，所以返回 true 。\n",
    "\n",
    "## 三、解题思路\n",
    "\n",
    "### 寻找非递增相邻下标对"
   ]
  },
  {
   "cell_type": "code",
   "execution_count": 1,
   "metadata": {},
   "outputs": [],
   "source": [
    "def canBeIncreasing(nums) -> bool:\n",
    "    n = len(nums)\n",
    "    # 检查数组 nums 在删去下标为 idx 的元素后是否严格递增\n",
    "    def check(idx: int) -> bool:\n",
    "        for i in range(1, n - 1):\n",
    "            prev, curr = i - 1, i\n",
    "            if prev >= idx:\n",
    "                prev += 1\n",
    "            if curr >= idx:\n",
    "                curr += 1\n",
    "            if nums[curr] <= nums[prev]:\n",
    "                return False\n",
    "        return True\n",
    "    \n",
    "    for i in range(1, n):\n",
    "        # 寻找非递增相邻下标对\n",
    "        if nums[i] <= nums[i-1]:\n",
    "            return check(i) or check(i - 1)\n",
    "    return True"
   ]
  },
  {
   "cell_type": "code",
   "execution_count": 2,
   "metadata": {},
   "outputs": [
    {
     "data": {
      "text/plain": [
       "True"
      ]
     },
     "execution_count": 2,
     "metadata": {},
     "output_type": "execute_result"
    }
   ],
   "source": [
    "canBeIncreasing([1,2,10,5,7])"
   ]
  },
  {
   "cell_type": "code",
   "execution_count": 3,
   "metadata": {},
   "outputs": [
    {
     "data": {
      "text/plain": [
       "False"
      ]
     },
     "execution_count": 3,
     "metadata": {},
     "output_type": "execute_result"
    }
   ],
   "source": [
    "canBeIncreasing([2,3,1,2])"
   ]
  },
  {
   "cell_type": "code",
   "execution_count": 4,
   "metadata": {},
   "outputs": [
    {
     "data": {
      "text/plain": [
       "False"
      ]
     },
     "execution_count": 4,
     "metadata": {},
     "output_type": "execute_result"
    }
   ],
   "source": [
    "canBeIncreasing([1,1,1])"
   ]
  },
  {
   "cell_type": "code",
   "execution_count": 5,
   "metadata": {},
   "outputs": [
    {
     "data": {
      "text/plain": [
       "True"
      ]
     },
     "execution_count": 5,
     "metadata": {},
     "output_type": "execute_result"
    }
   ],
   "source": [
    "canBeIncreasing([1,2,3])"
   ]
  },
  {
   "cell_type": "code",
   "execution_count": null,
   "metadata": {},
   "outputs": [],
   "source": []
  }
 ],
 "metadata": {
  "kernelspec": {
   "display_name": "Python 3",
   "language": "python",
   "name": "python3"
  },
  "language_info": {
   "codemirror_mode": {
    "name": "ipython",
    "version": 3
   },
   "file_extension": ".py",
   "mimetype": "text/x-python",
   "name": "python",
   "nbconvert_exporter": "python",
   "pygments_lexer": "ipython3",
   "version": "3.6.5"
  }
 },
 "nbformat": 4,
 "nbformat_minor": 2
}
