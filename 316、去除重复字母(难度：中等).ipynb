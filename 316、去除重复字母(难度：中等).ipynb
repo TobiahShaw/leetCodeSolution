{
 "cells": [
  {
   "cell_type": "markdown",
   "metadata": {},
   "source": [
    "# 去除重复字母\n",
    "\n",
    "**题目来源：力扣（LeetCode）**\n",
    "\n",
    "**链接：https://leetcode-cn.com/problems/find-common-characters/**\n",
    "\n",
    "## 一、题目\n",
    "\n",
    "给你一个字符串 s ，请你去除字符串中重复的字母，使得每个字母只出现一次。需保证 返回结果的字典序最小（要求不能打乱其他字符的相对位置）。\n",
    "\n",
    "提示：\n",
    "\n",
    "- 1 <= s.length <= 104\n",
    "- s 由小写英文字母组成\n",
    "\n",
    "## 二、示例\n",
    "\n",
    "### 示例 1：\n",
    "\n",
    "输入：s = \"bcabc\"\n",
    "\n",
    "输出：\"abc\"\n",
    "\n",
    "### 示例 2：\n",
    "\n",
    "输入：s = \"cbacdcbc\"\n",
    "\n",
    "输出：\"acdb\"\n",
    "\n",
    "## 三、解题思路\n",
    "\n",
    "### 利用栈\n",
    "\n",
    "1. 轮询字母，如果栈空，则将当前字母压入栈\n",
    "2. 当前字母已经存在则抛弃当前字母，因为后续判断中如果应采用此次出现的此字母时会弹出栈内该字母，如果栈内存在，又出现一次当前字母证明该次重复不需要使用\n",
    "3. 如果栈不空，则判断是否栈顶元素字典序位于当前元素后方，且后续仍有栈顶重复元素，则出栈，继续判断栈顶，知道不满足此条件\n",
    "4. 将当前字母入栈\n",
    "5. 轮询结束后，将字母从栈底到栈顶组成字符串返回"
   ]
  },
  {
   "cell_type": "code",
   "execution_count": 1,
   "metadata": {},
   "outputs": [],
   "source": [
    "def removeDuplicateLetters(s: str) -> str:\n",
    "    n = len(s)\n",
    "    stack = []\n",
    "    lastIndex = [0] * 26\n",
    "    visited = [False] * 26\n",
    "    for i in range(n):\n",
    "        lastIndex[ord(s[i]) - ord('a')] = i\n",
    "    for i in range(n):\n",
    "        if visited[ord(s[i]) - ord('a')]:\n",
    "            continue\n",
    "        while stack and ord(stack[-1]) > ord(s[i]) and lastIndex[ord(stack[-1]) - ord('a')] > i:\n",
    "            visited[ord(stack.pop())  - ord('a')] = False\n",
    "        stack.append(s[i])\n",
    "        visited[ord(s[i]) - ord('a')] = True\n",
    "    return \"\".join(stack)"
   ]
  },
  {
   "cell_type": "code",
   "execution_count": 2,
   "metadata": {},
   "outputs": [
    {
     "data": {
      "text/plain": [
       "'abc'"
      ]
     },
     "execution_count": 2,
     "metadata": {},
     "output_type": "execute_result"
    }
   ],
   "source": [
    "removeDuplicateLetters(\"bcabc\")"
   ]
  },
  {
   "cell_type": "code",
   "execution_count": 3,
   "metadata": {},
   "outputs": [
    {
     "data": {
      "text/plain": [
       "'acdb'"
      ]
     },
     "execution_count": 3,
     "metadata": {},
     "output_type": "execute_result"
    }
   ],
   "source": [
    "removeDuplicateLetters(\"cbacdcbc\")"
   ]
  },
  {
   "cell_type": "code",
   "execution_count": null,
   "metadata": {},
   "outputs": [],
   "source": []
  }
 ],
 "metadata": {
  "kernelspec": {
   "display_name": "Python 3",
   "language": "python",
   "name": "python3"
  },
  "language_info": {
   "codemirror_mode": {
    "name": "ipython",
    "version": 3
   },
   "file_extension": ".py",
   "mimetype": "text/x-python",
   "name": "python",
   "nbconvert_exporter": "python",
   "pygments_lexer": "ipython3",
   "version": "3.6.5"
  }
 },
 "nbformat": 4,
 "nbformat_minor": 2
}
