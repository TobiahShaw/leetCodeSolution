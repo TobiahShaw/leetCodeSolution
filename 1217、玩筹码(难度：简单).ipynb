{
  "cells": [
    {
      "metadata": {
        "collapsed": true
      },
      "cell_type": "markdown",
      "source": "# 玩筹码\n\n**题目来源：力扣（LeetCode）**\n\n**链接：https://leetcode-cn.com/problems/play-with-chips/**\n\n## 一、题目\n\n数轴上放置了一些筹码，每个筹码的位置存在数组 chips 当中。\n\n你可以对 任何筹码 执行下面两种操作之一（不限操作次数，0 次也可以）：\n\n将第 i 个筹码向左或者右移动 2 个单位，代价为 0。\n\n将第 i 个筹码向左或者右移动 1 个单位，代价为 1。\n\n最开始的时候，同一位置上也可能放着两个或者更多的筹码。\n\n返回将所有筹码移动到同一位置（任意位置）上所需要的最小代价。\n\n## 二、示例\n\n### 示例一\n\n输入：chips = [1,2,3]\n\n输出：1\n\n解释：第二个筹码移动到位置三的代价是 1，第一个筹码移动到位置三的代价是 0，总代价为 1。\n\n### 示例二\n\n输入：chips = [2,2,2,3,3]\n\n输出：2\n\n解释：第四和第五个筹码移动到位置二的代价都是 1，所以最小总代价为 2。\n\n## 三、解题思路\n\n### 注意：题目本身描述比较复杂，其实本事就是统计数组中奇偶数中少的那一种的数目。"
    },
    {
      "metadata": {
        "trusted": true
      },
      "cell_type": "code",
      "source": "def minCostToMoveChips(chips):\n    odd = sum(i % 2 for i in chips)\n    return min(odd, len(chips) - odd)",
      "execution_count": 1,
      "outputs": []
    },
    {
      "metadata": {
        "trusted": true
      },
      "cell_type": "code",
      "source": "minCostToMoveChips([1,2,3])",
      "execution_count": 2,
      "outputs": [
        {
          "output_type": "execute_result",
          "execution_count": 2,
          "data": {
            "text/plain": "1"
          },
          "metadata": {}
        }
      ]
    },
    {
      "metadata": {
        "trusted": true
      },
      "cell_type": "code",
      "source": "minCostToMoveChips([2,2,2,3,3])",
      "execution_count": 3,
      "outputs": [
        {
          "output_type": "execute_result",
          "execution_count": 3,
          "data": {
            "text/plain": "2"
          },
          "metadata": {}
        }
      ]
    },
    {
      "metadata": {
        "trusted": true
      },
      "cell_type": "code",
      "source": "",
      "execution_count": null,
      "outputs": []
    }
  ],
  "metadata": {
    "kernelspec": {
      "name": "python36",
      "display_name": "Python 3.6",
      "language": "python"
    },
    "language_info": {
      "mimetype": "text/x-python",
      "nbconvert_exporter": "python",
      "name": "python",
      "pygments_lexer": "ipython3",
      "version": "3.6.6",
      "file_extension": ".py",
      "codemirror_mode": {
        "version": 3,
        "name": "ipython"
      }
    }
  },
  "nbformat": 4,
  "nbformat_minor": 2
}