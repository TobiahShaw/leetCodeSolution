{
 "cells": [
  {
   "cell_type": "markdown",
   "metadata": {
    "collapsed": true
   },
   "source": [
    "# 玩筹码\n",
    "\n",
    "**题目来源：力扣（LeetCode）**\n",
    "\n",
    "**链接：https://leetcode-cn.com/problems/play-with-chips/**\n",
    "\n",
    "## 一、题目\n",
    "\n",
    "有 n 个筹码。第 i 个筹码的位置是 position[i] 。\n",
    "\n",
    "我们需要把所有筹码移到同一个位置。在一步中，我们可以将第 i 个筹码的位置从 position[i] 改变为:\n",
    "\n",
    "- position[i] + 2 或 position[i] - 2 ，此时 cost = 0\n",
    "- position[i] + 1 或 position[i] - 1 ，此时 cost = 1\n",
    "\n",
    "返回将所有筹码移动到同一位置上所需要的 最小代价 。\n",
    "\n",
    "### 提示：\n",
    "\n",
    "- 1 <= chips.length <= 100\n",
    "- 1 <= chips[i] <= 10^9\n",
    "\n",
    "## 二、示例\n",
    "\n",
    "### 示例 1:\n",
    "\n",
    "输入：chips = [1,2,3]\n",
    "\n",
    "输出：1\n",
    "\n",
    "解释：第二个筹码移动到位置三的代价是 1，第一个筹码移动到位置三的代价是 0，总代价为 1。\n",
    "\n",
    "### 示例 2:\n",
    "\n",
    "输入：chips = [2,2,2,3,3]\n",
    "\n",
    "输出：2\n",
    "\n",
    "解释：第四和第五个筹码移动到位置二的代价都是 1，所以最小总代价为 2。\n",
    "\n",
    "### 示例 3:\n",
    "\n",
    "输入：position = [1,1000000000]\n",
    "\n",
    "输出：1\n",
    "\n",
    "## 三、解题思路\n",
    "\n",
    "### 注意：题目本身描述比较复杂，其实本事就是统计数组中奇偶数中少的那一种的数目。"
   ]
  },
  {
   "cell_type": "code",
   "execution_count": 1,
   "metadata": {},
   "outputs": [],
   "source": [
    "def minCostToMoveChips(chips):\n",
    "    odd = sum(i % 2 for i in chips)\n",
    "    return min(odd, len(chips) - odd)"
   ]
  },
  {
   "cell_type": "code",
   "execution_count": 2,
   "metadata": {},
   "outputs": [
    {
     "data": {
      "text/plain": [
       "1"
      ]
     },
     "execution_count": 2,
     "metadata": {},
     "output_type": "execute_result"
    }
   ],
   "source": [
    "minCostToMoveChips([1,2,3])"
   ]
  },
  {
   "cell_type": "code",
   "execution_count": 3,
   "metadata": {},
   "outputs": [
    {
     "data": {
      "text/plain": [
       "2"
      ]
     },
     "execution_count": 3,
     "metadata": {},
     "output_type": "execute_result"
    }
   ],
   "source": [
    "minCostToMoveChips([2,2,2,3,3])"
   ]
  },
  {
   "cell_type": "code",
   "execution_count": null,
   "metadata": {},
   "outputs": [],
   "source": []
  }
 ],
 "metadata": {
  "kernelspec": {
   "display_name": "Python 3",
   "language": "python",
   "name": "python3"
  },
  "language_info": {
   "codemirror_mode": {
    "name": "ipython",
    "version": 3
   },
   "file_extension": ".py",
   "mimetype": "text/x-python",
   "name": "python",
   "nbconvert_exporter": "python",
   "pygments_lexer": "ipython3",
   "version": "3.6.5"
  }
 },
 "nbformat": 4,
 "nbformat_minor": 2
}
