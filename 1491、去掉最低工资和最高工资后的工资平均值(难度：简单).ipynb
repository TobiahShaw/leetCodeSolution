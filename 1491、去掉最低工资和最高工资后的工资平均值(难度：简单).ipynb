{
 "cells": [
  {
   "cell_type": "markdown",
   "metadata": {},
   "source": [
    "# 去掉最低工资和最高工资后的工资平均值\n",
    "\n",
    "**题目来源：力扣（LeetCode）**\n",
    "\n",
    "**链接：https://leetcode-cn.com/problems/average-salary-excluding-the-minimum-and-maximum-salary/**\n",
    "\n",
    "## 一、题目\n",
    "\n",
    "给你一个整数数组 salary ，数组里每个数都是 唯一 的，其中 salary[i] 是第 i 个员工的工资。\n",
    "\n",
    "请你返回去掉最低工资和最高工资以后，剩下员工工资的平均值。\n",
    "\n",
    "## 二、示例\n",
    "\n",
    "### 示例 1：\n",
    "\n",
    "输入：salary = [4000,3000,1000,2000]\n",
    "\n",
    "输出：2500.00000\n",
    "\n",
    "解释：最低工资和最高工资分别是 1000 和 4000 。\n",
    "\n",
    "去掉最低工资和最高工资以后的平均工资是 (2000+3000)/2= 2500\n",
    "\n",
    "### 示例 2：\n",
    "\n",
    "输入：salary = [1000,2000,3000]\n",
    "\n",
    "输出：2000.00000\n",
    "\n",
    "解释：最低工资和最高工资分别是 1000 和 3000 。\n",
    "\n",
    "去掉最低工资和最高工资以后的平均工资是 (2000)/1= 2000\n",
    "\n",
    "### 示例 3：\n",
    "\n",
    "输入：salary = [6000,5000,4000,3000,2000,1000]\n",
    "\n",
    "输出：3500.00000\n",
    "\n",
    "### 示例 4：\n",
    "\n",
    "输入：salary = [8000,9000,2000,3000,6000,1000]\n",
    "\n",
    "输出：4750.00000\n",
    "\n",
    "## 三、解题思路\n",
    "\n",
    "### 迭代"
   ]
  },
  {
   "cell_type": "code",
   "execution_count": 1,
   "metadata": {},
   "outputs": [],
   "source": [
    "def average(salary) -> float:\n",
    "    n = len(salary)\n",
    "    if n == 0:\n",
    "        return 0\n",
    "    if n < 3:\n",
    "        return sum(salary) / n\n",
    "    minS, maxS, totalS = 0, 0, 0\n",
    "    for i in salary:\n",
    "        totalS += i\n",
    "        if minS == 0 or minS > i:\n",
    "            minS = i\n",
    "        if maxS == 0 or maxS < i:\n",
    "            maxS = i\n",
    "    return (totalS - minS -maxS) / (n - 2)"
   ]
  },
  {
   "cell_type": "code",
   "execution_count": 2,
   "metadata": {},
   "outputs": [
    {
     "data": {
      "text/plain": [
       "2500.0"
      ]
     },
     "execution_count": 2,
     "metadata": {},
     "output_type": "execute_result"
    }
   ],
   "source": [
    "average([4000,3000,1000,2000])"
   ]
  },
  {
   "cell_type": "code",
   "execution_count": 3,
   "metadata": {},
   "outputs": [
    {
     "data": {
      "text/plain": [
       "2000.0"
      ]
     },
     "execution_count": 3,
     "metadata": {},
     "output_type": "execute_result"
    }
   ],
   "source": [
    "average([1000,2000,3000])"
   ]
  },
  {
   "cell_type": "code",
   "execution_count": 4,
   "metadata": {},
   "outputs": [
    {
     "data": {
      "text/plain": [
       "3500.0"
      ]
     },
     "execution_count": 4,
     "metadata": {},
     "output_type": "execute_result"
    }
   ],
   "source": [
    "average([6000,5000,4000,3000,2000,1000])"
   ]
  },
  {
   "cell_type": "code",
   "execution_count": 5,
   "metadata": {},
   "outputs": [
    {
     "data": {
      "text/plain": [
       "4750.0"
      ]
     },
     "execution_count": 5,
     "metadata": {},
     "output_type": "execute_result"
    }
   ],
   "source": [
    "average([8000,9000,2000,3000,6000,1000])"
   ]
  },
  {
   "cell_type": "code",
   "execution_count": null,
   "metadata": {},
   "outputs": [],
   "source": []
  }
 ],
 "metadata": {
  "kernelspec": {
   "display_name": "Python 3",
   "language": "python",
   "name": "python3"
  },
  "language_info": {
   "codemirror_mode": {
    "name": "ipython",
    "version": 3
   },
   "file_extension": ".py",
   "mimetype": "text/x-python",
   "name": "python",
   "nbconvert_exporter": "python",
   "pygments_lexer": "ipython3",
   "version": "3.6.5"
  }
 },
 "nbformat": 4,
 "nbformat_minor": 2
}
