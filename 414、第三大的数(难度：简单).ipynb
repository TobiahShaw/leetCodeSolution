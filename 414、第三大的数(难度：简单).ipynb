{
 "cells": [
  {
   "cell_type": "markdown",
   "metadata": {},
   "source": [
    "# 第三大的数\n",
    "\n",
    "**题目来源：力扣（LeetCode）**\n",
    "\n",
    "**链接：https://leetcode-cn.com/problems/third-maximum-number/**\n",
    "\n",
    "## 一、题目\n",
    "\n",
    "给你一个非空数组，返回此数组中 第三大的数 。如果不存在，则返回数组中最大的数。\n",
    "\n",
    "### 提示：\n",
    "\n",
    "- 1 <= nums.length <= 10^4\n",
    "- -2^31 <= nums[i] <= 2^31 - 1\n",
    "\n",
    "### 进阶：\n",
    "\n",
    "你能设计一个时间复杂度 O(n) 的解决方案吗？\n",
    "\n",
    "## 二、示例\n",
    "\n",
    "### 示例 1：\n",
    "\n",
    "输入：[3, 2, 1]\n",
    "\n",
    "输出：1\n",
    "\n",
    "解释：第三大的数是 1 。\n",
    "\n",
    "### 示例 2：\n",
    "\n",
    "输入：[1, 2]\n",
    "\n",
    "输出：2\n",
    "\n",
    "解释：第三大的数不存在, 所以返回最大的数 2 。\n",
    "\n",
    "### 示例 3：\n",
    "\n",
    "输入：[2, 2, 3, 1]\n",
    "\n",
    "输出：1\n",
    "\n",
    "解释：注意，要求返回第三大的数，是指第三大且唯一出现的数。存在两个值为2的数，它们都排第二。\n",
    "\n",
    "## 三、解题思路\n",
    "\n",
    "### 一、排序"
   ]
  },
  {
   "cell_type": "code",
   "execution_count": 1,
   "metadata": {},
   "outputs": [],
   "source": [
    "def thirdMax(nums) -> int:\n",
    "    nums = sorted(list(set(nums)))\n",
    "    return nums[-3] if len(nums) >= 3 else nums[-1]"
   ]
  },
  {
   "cell_type": "code",
   "execution_count": 2,
   "metadata": {},
   "outputs": [
    {
     "data": {
      "text/plain": [
       "1"
      ]
     },
     "execution_count": 2,
     "metadata": {},
     "output_type": "execute_result"
    }
   ],
   "source": [
    "thirdMax([3, 2, 1])"
   ]
  },
  {
   "cell_type": "code",
   "execution_count": 3,
   "metadata": {},
   "outputs": [
    {
     "data": {
      "text/plain": [
       "2"
      ]
     },
     "execution_count": 3,
     "metadata": {},
     "output_type": "execute_result"
    }
   ],
   "source": [
    "thirdMax([1, 2])"
   ]
  },
  {
   "cell_type": "code",
   "execution_count": 4,
   "metadata": {},
   "outputs": [
    {
     "data": {
      "text/plain": [
       "1"
      ]
     },
     "execution_count": 4,
     "metadata": {},
     "output_type": "execute_result"
    }
   ],
   "source": [
    "thirdMax([2, 2, 3, 1])"
   ]
  },
  {
   "cell_type": "markdown",
   "metadata": {},
   "source": [
    "### 二、轮询（进阶）"
   ]
  },
  {
   "cell_type": "code",
   "execution_count": 5,
   "metadata": {},
   "outputs": [],
   "source": [
    "def thirdMax(nums) -> int:\n",
    "    first, second, third = float('-inf'), float('-inf'), float('-inf')\n",
    "    for num in nums:\n",
    "        if num > first:\n",
    "            third = second\n",
    "            second = first\n",
    "            first = num\n",
    "        elif num == first:\n",
    "            continue\n",
    "        elif num > second:\n",
    "            third = second\n",
    "            second = num\n",
    "        elif num == second:\n",
    "            continue\n",
    "        elif num > third:\n",
    "            third = num\n",
    "        else:\n",
    "            continue\n",
    "    return third if third != float('-inf') else first"
   ]
  },
  {
   "cell_type": "code",
   "execution_count": 6,
   "metadata": {},
   "outputs": [
    {
     "data": {
      "text/plain": [
       "1"
      ]
     },
     "execution_count": 6,
     "metadata": {},
     "output_type": "execute_result"
    }
   ],
   "source": [
    "thirdMax([3, 2, 1])"
   ]
  },
  {
   "cell_type": "code",
   "execution_count": 7,
   "metadata": {},
   "outputs": [
    {
     "data": {
      "text/plain": [
       "2"
      ]
     },
     "execution_count": 7,
     "metadata": {},
     "output_type": "execute_result"
    }
   ],
   "source": [
    "thirdMax([1, 2])"
   ]
  },
  {
   "cell_type": "code",
   "execution_count": 8,
   "metadata": {},
   "outputs": [
    {
     "data": {
      "text/plain": [
       "1"
      ]
     },
     "execution_count": 8,
     "metadata": {},
     "output_type": "execute_result"
    }
   ],
   "source": [
    "thirdMax([2, 2, 3, 1])"
   ]
  },
  {
   "cell_type": "code",
   "execution_count": null,
   "metadata": {},
   "outputs": [],
   "source": []
  }
 ],
 "metadata": {
  "kernelspec": {
   "display_name": "Python 3",
   "language": "python",
   "name": "python3"
  },
  "language_info": {
   "codemirror_mode": {
    "name": "ipython",
    "version": 3
   },
   "file_extension": ".py",
   "mimetype": "text/x-python",
   "name": "python",
   "nbconvert_exporter": "python",
   "pygments_lexer": "ipython3",
   "version": "3.6.5"
  }
 },
 "nbformat": 4,
 "nbformat_minor": 2
}
