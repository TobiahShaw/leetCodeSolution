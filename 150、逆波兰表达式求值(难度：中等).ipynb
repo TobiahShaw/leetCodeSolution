{
 "cells": [
  {
   "cell_type": "markdown",
   "metadata": {},
   "source": [
    "# 逆波兰表达式求值\n",
    "\n",
    "**题目来源：力扣（LeetCode）**\n",
    "\n",
    "**链接：https://leetcode-cn.com/problems/evaluate-reverse-polish-notation/**\n",
    "\n",
    "## 一、题目\n",
    "\n",
    "根据 逆波兰表示法，求表达式的值。\n",
    "\n",
    "有效的运算符包括 +, -, * , / 。每个运算对象可以是整数，也可以是另一个逆波兰表达式。\n",
    "\n",
    "### 说明：\n",
    "\n",
    "- 整数除法只保留整数部分。\n",
    "- 给定逆波兰表达式总是有效的。换句话说，表达式总会得出有效数值且不存在除数为 0 的情况。\n",
    "\n",
    "## 二、示例\n",
    "\n",
    "### 示例 1：\n",
    "\n",
    "\n",
    "输入: [\"2\", \"1\", \"+\", \"3\", \"* \"]\n",
    "\n",
    "输出: 9\n",
    "\n",
    "解释: 该算式转化为常见的中缀算术表达式为：((2 + 1) * 3) = 9\n",
    "\n",
    "### 示例 2：\n",
    "\n",
    "输入: [\"4\", \"13\", \"5\", \"/\", \"+\"]\n",
    "\n",
    "输出: 6\n",
    "\n",
    "解释: 该算式转化为常见的中缀算术表达式为：(4 + (13 / 5)) = 6\n",
    "\n",
    "### 示例 3：\n",
    "\n",
    "输入: [\"10\", \"6\", \"9\", \"3\", \"+\", \"-11\", \"* \", \"/\", \"* \", \"17\", \"+\", \"5\", \"+\"]\n",
    "\n",
    "输出: 22\n",
    "\n",
    "解释: \n",
    "\n",
    "该算式转化为常见的中缀算术表达式为：\n",
    "\n",
    "  ((10 * (6 / ((9 + 3) * -11))) + 17) + 5  \n",
    "= ((10 * (6 / (12 * -11))) + 17) + 5  \n",
    "= ((10 * (6 / -132)) + 17) + 5  \n",
    "= ((10 * 0) + 17) + 5  \n",
    "= (0 + 17) + 5  \n",
    "= 17 + 5  \n",
    "= 22\n",
    "\n",
    "## 三、解题思路\n",
    "\n",
    "### 利用栈"
   ]
  },
  {
   "cell_type": "code",
   "execution_count": 1,
   "metadata": {},
   "outputs": [],
   "source": [
    "def evalRPN(tokens) -> int:\n",
    "    def isD(strNum):\n",
    "        try:\n",
    "            int(strNum)\n",
    "            return True\n",
    "        except ValueError as e:\n",
    "            return False\n",
    "    stack = []\n",
    "    for i in tokens:\n",
    "        if isD(i):\n",
    "            stack.append(int(i))\n",
    "        else:\n",
    "            y = stack.pop()\n",
    "            x = stack.pop()\n",
    "            if i == \"+\":\n",
    "                stack.append(x + y)\n",
    "            elif i == \"-\":\n",
    "                stack.append(x - y)\n",
    "            elif i == \"*\":\n",
    "                stack.append(x * y)\n",
    "            elif i == \"/\":\n",
    "                stack.append(int(x / y))\n",
    "    return stack[0]"
   ]
  },
  {
   "cell_type": "code",
   "execution_count": 2,
   "metadata": {},
   "outputs": [
    {
     "data": {
      "text/plain": [
       "9"
      ]
     },
     "execution_count": 2,
     "metadata": {},
     "output_type": "execute_result"
    }
   ],
   "source": [
    "evalRPN([\"2\", \"1\", \"+\", \"3\", \"*\"])"
   ]
  },
  {
   "cell_type": "code",
   "execution_count": 3,
   "metadata": {},
   "outputs": [
    {
     "data": {
      "text/plain": [
       "6"
      ]
     },
     "execution_count": 3,
     "metadata": {},
     "output_type": "execute_result"
    }
   ],
   "source": [
    "evalRPN([\"4\", \"13\", \"5\", \"/\", \"+\"])"
   ]
  },
  {
   "cell_type": "code",
   "execution_count": 4,
   "metadata": {},
   "outputs": [
    {
     "data": {
      "text/plain": [
       "22"
      ]
     },
     "execution_count": 4,
     "metadata": {},
     "output_type": "execute_result"
    }
   ],
   "source": [
    "evalRPN([\"10\", \"6\", \"9\", \"3\", \"+\", \"-11\", \"*\", \"/\", \"*\", \"17\", \"+\", \"5\", \"+\"])"
   ]
  },
  {
   "cell_type": "code",
   "execution_count": null,
   "metadata": {},
   "outputs": [],
   "source": []
  }
 ],
 "metadata": {
  "kernelspec": {
   "display_name": "Python 3",
   "language": "python",
   "name": "python3"
  },
  "language_info": {
   "codemirror_mode": {
    "name": "ipython",
    "version": 3
   },
   "file_extension": ".py",
   "mimetype": "text/x-python",
   "name": "python",
   "nbconvert_exporter": "python",
   "pygments_lexer": "ipython3",
   "version": "3.6.5"
  }
 },
 "nbformat": 4,
 "nbformat_minor": 2
}
