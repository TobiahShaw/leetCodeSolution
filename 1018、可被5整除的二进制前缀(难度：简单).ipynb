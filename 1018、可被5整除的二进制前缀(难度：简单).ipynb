{
 "cells": [
  {
   "cell_type": "markdown",
   "metadata": {},
   "source": [
    "# 可被5整除的二进制前缀\n",
    "\n",
    "**题目来源：力扣（LeetCode）**\n",
    "\n",
    "**链接：https://leetcode-cn.com/problems/binary-prefix-divisible-by-5/**\n",
    "\n",
    "## 一、题目\n",
    "\n",
    "给定由若干 0 和 1 组成的数组 A。我们定义 N_i：从 A[0] 到 A[i] 的第 i 个子数组被解释为一个二进制数（从最高有效位到最低有效位）。\n",
    "\n",
    "返回布尔值列表 answer，只有当 N_i 可以被 5 整除时，答案 answer[i] 为 true，否则为 false。\n",
    "\n",
    "### 提示：\n",
    "\n",
    "- 1 <= A.length <= 30000\n",
    "- A[i] 为 0 或 1\n",
    "\n",
    "## 二、示例\n",
    "\n",
    "### 示例 1：\n",
    "\n",
    "输入：[0,1,1]\n",
    "\n",
    "输出：[true,false,false]\n",
    "\n",
    "解释：\n",
    "\n",
    "输入数字为 0, 01, 011；也就是十进制中的 0, 1, 3 。只有第一个数可以被 5 整除，因此 answer[0] 为真。\n",
    "\n",
    "### 示例 2：\n",
    "\n",
    "输入：[1,1,1]\n",
    "\n",
    "输出：[false,false,false]\n",
    "\n",
    "### 示例 3：\n",
    "\n",
    "输入：[0,1,1,1,1,1]\n",
    "\n",
    "输出：[true,false,false,false,true,false]\n",
    "\n",
    "### 示例 4：\n",
    "\n",
    "输入：[1,1,1,0,1]\n",
    "\n",
    "输出：[false,false,false,false,false]\n",
    "\n",
    "## 三、解题思路\n",
    "\n",
    "### 利用字符串"
   ]
  },
  {
   "cell_type": "code",
   "execution_count": 1,
   "metadata": {},
   "outputs": [],
   "source": [
    "def prefixesDivBy5(A):\n",
    "    binStr = \"\"\n",
    "    ret = []\n",
    "    for i in A:\n",
    "        binStr += str(i)\n",
    "        ret.append(int(binStr, 2) % 5 == 0)\n",
    "    return ret"
   ]
  },
  {
   "cell_type": "code",
   "execution_count": 2,
   "metadata": {},
   "outputs": [
    {
     "data": {
      "text/plain": [
       "[True, False, False]"
      ]
     },
     "execution_count": 2,
     "metadata": {},
     "output_type": "execute_result"
    }
   ],
   "source": [
    "prefixesDivBy5([0,1,1])"
   ]
  },
  {
   "cell_type": "code",
   "execution_count": 3,
   "metadata": {},
   "outputs": [
    {
     "data": {
      "text/plain": [
       "[False, False, False]"
      ]
     },
     "execution_count": 3,
     "metadata": {},
     "output_type": "execute_result"
    }
   ],
   "source": [
    "prefixesDivBy5([1,1,1])"
   ]
  },
  {
   "cell_type": "code",
   "execution_count": 4,
   "metadata": {},
   "outputs": [
    {
     "data": {
      "text/plain": [
       "[True, False, False, False, True, False]"
      ]
     },
     "execution_count": 4,
     "metadata": {},
     "output_type": "execute_result"
    }
   ],
   "source": [
    "prefixesDivBy5([0,1,1,1,1,1])"
   ]
  },
  {
   "cell_type": "code",
   "execution_count": 5,
   "metadata": {},
   "outputs": [
    {
     "data": {
      "text/plain": [
       "[False, False, False, False, False]"
      ]
     },
     "execution_count": 5,
     "metadata": {},
     "output_type": "execute_result"
    }
   ],
   "source": [
    "prefixesDivBy5([1,1,1,0,1])"
   ]
  },
  {
   "cell_type": "code",
   "execution_count": null,
   "metadata": {},
   "outputs": [],
   "source": []
  }
 ],
 "metadata": {
  "kernelspec": {
   "display_name": "Python 3",
   "language": "python",
   "name": "python3"
  },
  "language_info": {
   "codemirror_mode": {
    "name": "ipython",
    "version": 3
   },
   "file_extension": ".py",
   "mimetype": "text/x-python",
   "name": "python",
   "nbconvert_exporter": "python",
   "pygments_lexer": "ipython3",
   "version": "3.6.5"
  }
 },
 "nbformat": 4,
 "nbformat_minor": 2
}
