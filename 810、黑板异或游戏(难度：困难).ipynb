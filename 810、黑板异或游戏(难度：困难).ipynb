{
 "cells": [
  {
   "cell_type": "markdown",
   "metadata": {},
   "source": [
    "# 黑板异或游戏\n",
    "\n",
    "**题目来源：力扣（LeetCode）**\n",
    "\n",
    "**链接：https://leetcode-cn.com/problems/chalkboard-xor-game/**\n",
    "\n",
    "## 一、题目\n",
    "\n",
    "黑板上写着一个非负整数数组 nums[i] 。Alice 和 Bob 轮流从黑板上擦掉一个数字，Alice 先手。如果擦除一个数字后，剩余的所有数字按位异或运算得出的结果等于 0 的话，当前玩家游戏失败。 (另外，如果只剩一个数字，按位异或运算得到它本身；如果无数字剩余，按位异或运算结果为 0。）\n",
    "\n",
    "换种说法就是，轮到某个玩家时，如果当前黑板上所有数字按位异或运算结果等于 0，这个玩家获胜。\n",
    "\n",
    "假设两个玩家每步都使用最优解，当且仅当 Alice 获胜时返回 true。\n",
    "\n",
    "### 提示：\n",
    "\n",
    "- 1 <= N <= 1000\n",
    "- 0 <= nums[i] <= 2^16\n",
    "\n",
    "## 二、示例\n",
    "\n",
    "输入: nums = [1, 1, 2]\n",
    "\n",
    "输出: false\n",
    "\n",
    "解释: Alice 有两个选择: 擦掉数字 1 或 2。如果擦掉 1, 数组变成 [1, 2]。剩余数字按位异或得到 1 XOR 2 = 3。那么 Bob 可以擦掉任意数字，因为 Alice 会成为擦掉最后一个数字的人，她总是会输。如果 Alice 擦掉 2，那么数组变成[1, 1]。剩余数字按位异或得到 1 XOR 1 = 0。Alice 仍然会输掉游戏。\n",
    "\n",
    "## 三、解题思路\n",
    "\n",
    "### 数学\n",
    "\n",
    "其实中只有数组长度是偶数或者所有数字异或和为0时，alice才能必胜。"
   ]
  },
  {
   "cell_type": "code",
   "execution_count": 1,
   "metadata": {},
   "outputs": [],
   "source": [
    "def xorGame(nums) -> bool:\n",
    "    if len(nums) % 2 == 0:\n",
    "        return True\n",
    "    \n",
    "    xorsum = 0\n",
    "    for num in nums:\n",
    "        xorsum ^= num\n",
    "    return xorsum == 0"
   ]
  },
  {
   "cell_type": "code",
   "execution_count": 2,
   "metadata": {},
   "outputs": [
    {
     "data": {
      "text/plain": [
       "False"
      ]
     },
     "execution_count": 2,
     "metadata": {},
     "output_type": "execute_result"
    }
   ],
   "source": [
    "xorGame([1, 1, 2])"
   ]
  },
  {
   "cell_type": "code",
   "execution_count": null,
   "metadata": {},
   "outputs": [],
   "source": []
  }
 ],
 "metadata": {
  "kernelspec": {
   "display_name": "Python 3",
   "language": "python",
   "name": "python3"
  },
  "language_info": {
   "codemirror_mode": {
    "name": "ipython",
    "version": 3
   },
   "file_extension": ".py",
   "mimetype": "text/x-python",
   "name": "python",
   "nbconvert_exporter": "python",
   "pygments_lexer": "ipython3",
   "version": "3.6.5"
  }
 },
 "nbformat": 4,
 "nbformat_minor": 2
}
