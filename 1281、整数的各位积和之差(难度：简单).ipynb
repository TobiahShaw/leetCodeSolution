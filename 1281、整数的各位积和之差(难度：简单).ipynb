{
  "cells": [
    {
      "metadata": {
        "collapsed": true
      },
      "cell_type": "markdown",
      "source": "# 整数的各位积和之差\n\n**题目来源：力扣（LeetCode）**\n\n**链接：https://leetcode-cn.com/problems/subtract-the-product-and-sum-of-digits-of-an-integer/**\n\n## 一、题目\n\n给你一个整数 n，请你帮忙计算并返回该整数「各位数字之积」与「各位数字之和」的差。\n\n## 二、示例\n\n### 示例一\n\n输入：n = 234\n\n输出：15 \n\n解释：\n\n各位数之积 = 2 x 3 x 4 = 24 \n\n各位数之和 = 2 + 3 + 4 = 9 \n\n结果 = 24 - 9 = 15\n\n### 示例二\n\n输入：n = 4421\n\n输出：21\n\n解释： \n\n各位数之积 = 4 x 4 x 2 x 1 = 32 \n\n各位数之和 = 4 + 4 + 2 + 1 = 11 \n\n结果 = 32 - 11 = 21\n\n## 三、解题思路\n\n### 一、将数字分割成数组"
    },
    {
      "metadata": {
        "trusted": true
      },
      "cell_type": "code",
      "source": "def subtractProductAndSum(n):\n    array = str(n)\n    sumAll = 0\n    productAll = 1\n    for i in array:\n        int_i = int(i)\n        productAll *= int_i\n        sumAll += int_i\n    return productAll - sumAll",
      "execution_count": 1,
      "outputs": []
    },
    {
      "metadata": {
        "trusted": true
      },
      "cell_type": "code",
      "source": "subtractProductAndSum(234)",
      "execution_count": 2,
      "outputs": [
        {
          "output_type": "execute_result",
          "execution_count": 2,
          "data": {
            "text/plain": "15"
          },
          "metadata": {}
        }
      ]
    },
    {
      "metadata": {
        "trusted": true
      },
      "cell_type": "code",
      "source": "subtractProductAndSum(4421)",
      "execution_count": 3,
      "outputs": [
        {
          "output_type": "execute_result",
          "execution_count": 3,
          "data": {
            "text/plain": "21"
          },
          "metadata": {}
        }
      ]
    },
    {
      "metadata": {},
      "cell_type": "markdown",
      "source": "### 二、取模"
    },
    {
      "metadata": {
        "trusted": true
      },
      "cell_type": "code",
      "source": "def subtractProductAndSum(n):\n    sumAll = 0\n    productAll = 1\n    while n > 0:\n        digit = n % 10\n        n //= 10\n        sumAll += digit\n        productAll *= digit\n    return productAll - sumAll",
      "execution_count": 4,
      "outputs": []
    },
    {
      "metadata": {
        "trusted": true
      },
      "cell_type": "code",
      "source": "subtractProductAndSum(234)",
      "execution_count": 5,
      "outputs": [
        {
          "output_type": "execute_result",
          "execution_count": 5,
          "data": {
            "text/plain": "15"
          },
          "metadata": {}
        }
      ]
    },
    {
      "metadata": {
        "trusted": true
      },
      "cell_type": "code",
      "source": "subtractProductAndSum(4421)",
      "execution_count": 6,
      "outputs": [
        {
          "output_type": "execute_result",
          "execution_count": 6,
          "data": {
            "text/plain": "21"
          },
          "metadata": {}
        }
      ]
    },
    {
      "metadata": {
        "trusted": true
      },
      "cell_type": "code",
      "source": "",
      "execution_count": null,
      "outputs": []
    }
  ],
  "metadata": {
    "kernelspec": {
      "name": "python36",
      "display_name": "Python 3.6",
      "language": "python"
    },
    "language_info": {
      "mimetype": "text/x-python",
      "nbconvert_exporter": "python",
      "name": "python",
      "pygments_lexer": "ipython3",
      "version": "3.6.6",
      "file_extension": ".py",
      "codemirror_mode": {
        "version": 3,
        "name": "ipython"
      }
    }
  },
  "nbformat": 4,
  "nbformat_minor": 2
}