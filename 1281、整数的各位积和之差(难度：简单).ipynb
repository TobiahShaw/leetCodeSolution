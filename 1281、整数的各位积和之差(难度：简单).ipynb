{
 "cells": [
  {
   "cell_type": "markdown",
   "metadata": {
    "collapsed": true
   },
   "source": [
    "# 整数的各位积和之差\n",
    "\n",
    "**题目来源：力扣（LeetCode）**\n",
    "\n",
    "**链接：https://leetcode-cn.com/problems/subtract-the-product-and-sum-of-digits-of-an-integer/**\n",
    "\n",
    "## 一、题目\n",
    "\n",
    "给你一个整数 n，请你帮忙计算并返回该整数「各位数字之积」与「各位数字之和」的差。\n",
    "\n",
    "### 提示：\n",
    "\n",
    "- 1 <= n <= 10^5\n",
    "\n",
    "## 二、示例\n",
    "\n",
    "### 示例一\n",
    "\n",
    "输入：n = 234\n",
    "\n",
    "输出：15 \n",
    "\n",
    "解释：\n",
    "\n",
    "各位数之积 = 2 x 3 x 4 = 24 \n",
    "\n",
    "各位数之和 = 2 + 3 + 4 = 9 \n",
    "\n",
    "结果 = 24 - 9 = 15\n",
    "\n",
    "### 示例二\n",
    "\n",
    "输入：n = 4421\n",
    "\n",
    "输出：21\n",
    "\n",
    "解释： \n",
    "\n",
    "各位数之积 = 4 x 4 x 2 x 1 = 32 \n",
    "\n",
    "各位数之和 = 4 + 4 + 2 + 1 = 11 \n",
    "\n",
    "结果 = 32 - 11 = 21\n",
    "\n",
    "## 三、解题思路\n",
    "\n",
    "### 一、将数字分割成数组"
   ]
  },
  {
   "cell_type": "code",
   "execution_count": 1,
   "metadata": {},
   "outputs": [],
   "source": [
    "def subtractProductAndSum(n):\n",
    "    array = str(n)\n",
    "    sumAll = 0\n",
    "    productAll = 1\n",
    "    for i in array:\n",
    "        int_i = int(i)\n",
    "        productAll *= int_i\n",
    "        sumAll += int_i\n",
    "    return productAll - sumAll"
   ]
  },
  {
   "cell_type": "code",
   "execution_count": 2,
   "metadata": {},
   "outputs": [
    {
     "data": {
      "text/plain": [
       "15"
      ]
     },
     "execution_count": 2,
     "metadata": {},
     "output_type": "execute_result"
    }
   ],
   "source": [
    "subtractProductAndSum(234)"
   ]
  },
  {
   "cell_type": "code",
   "execution_count": 3,
   "metadata": {},
   "outputs": [
    {
     "data": {
      "text/plain": [
       "21"
      ]
     },
     "execution_count": 3,
     "metadata": {},
     "output_type": "execute_result"
    }
   ],
   "source": [
    "subtractProductAndSum(4421)"
   ]
  },
  {
   "cell_type": "markdown",
   "metadata": {},
   "source": [
    "### 二、取模"
   ]
  },
  {
   "cell_type": "code",
   "execution_count": 4,
   "metadata": {},
   "outputs": [],
   "source": [
    "def subtractProductAndSum(n):\n",
    "    sumAll = 0\n",
    "    productAll = 1\n",
    "    while n > 0:\n",
    "        digit = n % 10\n",
    "        n //= 10\n",
    "        sumAll += digit\n",
    "        productAll *= digit\n",
    "    return productAll - sumAll"
   ]
  },
  {
   "cell_type": "code",
   "execution_count": 5,
   "metadata": {},
   "outputs": [
    {
     "data": {
      "text/plain": [
       "15"
      ]
     },
     "execution_count": 5,
     "metadata": {},
     "output_type": "execute_result"
    }
   ],
   "source": [
    "subtractProductAndSum(234)"
   ]
  },
  {
   "cell_type": "code",
   "execution_count": 6,
   "metadata": {},
   "outputs": [
    {
     "data": {
      "text/plain": [
       "21"
      ]
     },
     "execution_count": 6,
     "metadata": {},
     "output_type": "execute_result"
    }
   ],
   "source": [
    "subtractProductAndSum(4421)"
   ]
  },
  {
   "cell_type": "code",
   "execution_count": null,
   "metadata": {},
   "outputs": [],
   "source": []
  }
 ],
 "metadata": {
  "kernelspec": {
   "display_name": "Python 3",
   "language": "python",
   "name": "python3"
  },
  "language_info": {
   "codemirror_mode": {
    "name": "ipython",
    "version": 3
   },
   "file_extension": ".py",
   "mimetype": "text/x-python",
   "name": "python",
   "nbconvert_exporter": "python",
   "pygments_lexer": "ipython3",
   "version": "3.6.5"
  }
 },
 "nbformat": 4,
 "nbformat_minor": 2
}
