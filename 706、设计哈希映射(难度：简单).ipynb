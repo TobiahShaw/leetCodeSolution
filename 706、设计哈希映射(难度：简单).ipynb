{
 "cells": [
  {
   "cell_type": "markdown",
   "metadata": {},
   "source": [
    "# 设计哈希映射\n",
    "\n",
    "**题目来源：力扣（LeetCode）**\n",
    "\n",
    "**链接：https://leetcode-cn.com/problems/design-hashmap/**\n",
    "\n",
    "## 一、题目\n",
    "\n",
    "不使用任何内建的哈希表库设计一个哈希映射（HashMap）。\n",
    "\n",
    "实现 MyHashMap 类：\n",
    "\n",
    "- MyHashMap() 用空映射初始化对象\n",
    "- void put(int key, int value) 向 HashMap 插入一个键值对 (key, value) 。如果 key 已经存在于映射中，则更新其对应的值 value 。\n",
    "- int get(int key) 返回特定的 key 所映射的 value ；如果映射中不包含 key 的映射，返回 -1 。\n",
    "- void remove(key) 如果映射中存在 key 的映射，则移除 key 和它所对应的 value 。\n",
    "\n",
    "### 提示：\n",
    "\n",
    "- 0 <= key, value <= 106\n",
    "- 最多调用 104 次 put、get 和 remove 方法\n",
    "\n",
    "## 二、示例\n",
    "\n",
    "输入：\n",
    "\n",
    "[\"MyHashMap\", \"put\", \"put\", \"get\", \"get\", \"put\", \"get\", \"remove\", \"get\"]\n",
    "[[], [1, 1], [2, 2], [1], [3], [2, 1], [2], [2], [2]]\n",
    "\n",
    "输出：\n",
    "\n",
    "[null, null, null, 1, -1, null, 1, null, -1]\n",
    "\n",
    "解释：\n",
    "\n",
    "```\n",
    "myHashMap = MyHashMap()\n",
    "myHashMap.put(1, 1) # myHashMap 现在为 [[1,1]]\n",
    "myHashMap.put(2, 2) # myHashMap 现在为 [[1,1], [2,2]]\n",
    "myHashMap.get(1)    # 返回 1 ，myHashMap 现在为 [[1,1], [2,2]]\n",
    "myHashMap.get(3)    # 返回 -1（未找到），myHashMap 现在为 [[1,1], [2,2]]\n",
    "myHashMap.put(2, 1) # myHashMap 现在为 [[1,1], [2,1]]（更新已有的值）\n",
    "myHashMap.get(2)    # 返回 1 ，myHashMap 现在为 [[1,1], [2,1]]\n",
    "myHashMap.remove(2) # 删除键为 2 的数据，myHashMap 现在为 [[1,1]]\n",
    "myHashMap.get(2)    # 返回 -1（未找到），myHashMap 现在为 [[1,1]]\n",
    "```\n",
    "\n",
    "## 三、解题思路\n",
    "\n",
    "### 一、静态代理字典"
   ]
  },
  {
   "cell_type": "code",
   "execution_count": 1,
   "metadata": {},
   "outputs": [],
   "source": [
    "class MyHashMap:\n",
    "\n",
    "    def __init__(self):\n",
    "        \"\"\"\n",
    "        Initialize your data structure here.\n",
    "        \"\"\"\n",
    "        self._dic = {}\n",
    "\n",
    "    def put(self, key: int, value: int) -> None:\n",
    "        \"\"\"\n",
    "        value will always be non-negative.\n",
    "        \"\"\"\n",
    "        self._dic[key] = value\n",
    "\n",
    "    def get(self, key: int) -> int:\n",
    "        \"\"\"\n",
    "        Returns the value to which the specified key is mapped, or -1 if this map contains no mapping for the key\n",
    "        \"\"\"\n",
    "        if key in self._dic:\n",
    "            return self._dic[key]\n",
    "        return -1\n",
    "\n",
    "    def remove(self, key: int) -> None:\n",
    "        \"\"\"\n",
    "        Removes the mapping of the specified value key if this map contains a mapping for the key\n",
    "        \"\"\"\n",
    "        if key in self._dic:\n",
    "            del self._dic[key]"
   ]
  },
  {
   "cell_type": "code",
   "execution_count": 2,
   "metadata": {},
   "outputs": [
    {
     "name": "stdout",
     "output_type": "stream",
     "text": [
      "1\n",
      "-1\n",
      "1\n",
      "-1\n"
     ]
    }
   ],
   "source": [
    "myHashMap = MyHashMap()\n",
    "myHashMap.put(1, 1) # myHashMap 现在为 [[1,1]]\n",
    "myHashMap.put(2, 2) # myHashMap 现在为 [[1,1], [2,2]]\n",
    "print(myHashMap.get(1))    # 返回 1 ，myHashMap 现在为 [[1,1], [2,2]]\n",
    "print(myHashMap.get(3))    # 返回 -1（未找到），myHashMap 现在为 [[1,1], [2,2]]\n",
    "myHashMap.put(2, 1) # myHashMap 现在为 [[1,1], [2,1]]（更新已有的值）\n",
    "print(myHashMap.get(2))    # 返回 1 ，myHashMap 现在为 [[1,1], [2,1]]\n",
    "myHashMap.remove(2) # 删除键为 2 的数据，myHashMap 现在为 [[1,1]]\n",
    "print(myHashMap.get(2))    # 返回 -1（未找到），myHashMap 现在为 [[1,1]]"
   ]
  },
  {
   "cell_type": "markdown",
   "metadata": {},
   "source": [
    "### 二、利用数组"
   ]
  },
  {
   "cell_type": "code",
   "execution_count": 3,
   "metadata": {},
   "outputs": [],
   "source": [
    "class MyHashMap:\n",
    "\n",
    "    def __init__(self):\n",
    "        \"\"\"\n",
    "        Initialize your data structure here.\n",
    "        \"\"\"\n",
    "        self._aar = []\n",
    "\n",
    "    def put(self, key: int, value: int) -> None:\n",
    "        \"\"\"\n",
    "        value will always be non-negative.\n",
    "        \"\"\"\n",
    "        for i in self._aar:\n",
    "            if i[0] == key:\n",
    "                i[1] = value\n",
    "                return\n",
    "        self._aar.append([key, value])\n",
    "\n",
    "    def get(self, key: int) -> int:\n",
    "        \"\"\"\n",
    "        Returns the value to which the specified key is mapped, or -1 if this map contains no mapping for the key\n",
    "        \"\"\"\n",
    "        for i in self._aar:\n",
    "            if i[0] == key:\n",
    "                return i[1]\n",
    "        return -1\n",
    "\n",
    "    def remove(self, key: int) -> None:\n",
    "        \"\"\"\n",
    "        Removes the mapping of the specified value key if this map contains a mapping for the key\n",
    "        \"\"\"\n",
    "        for i in range(len(self._aar)):\n",
    "            if self._aar[i][0] == key:\n",
    "                del self._aar[i]\n",
    "                break"
   ]
  },
  {
   "cell_type": "code",
   "execution_count": 4,
   "metadata": {},
   "outputs": [
    {
     "name": "stdout",
     "output_type": "stream",
     "text": [
      "1\n",
      "-1\n",
      "1\n",
      "-1\n"
     ]
    }
   ],
   "source": [
    "myHashMap = MyHashMap()\n",
    "myHashMap.put(1, 1) # myHashMap 现在为 [[1,1]]\n",
    "myHashMap.put(2, 2) # myHashMap 现在为 [[1,1], [2,2]]\n",
    "print(myHashMap.get(1))    # 返回 1 ，myHashMap 现在为 [[1,1], [2,2]]\n",
    "print(myHashMap.get(3))    # 返回 -1（未找到），myHashMap 现在为 [[1,1], [2,2]]\n",
    "myHashMap.put(2, 1) # myHashMap 现在为 [[1,1], [2,1]]（更新已有的值）\n",
    "print(myHashMap.get(2))    # 返回 1 ，myHashMap 现在为 [[1,1], [2,1]]\n",
    "myHashMap.remove(2) # 删除键为 2 的数据，myHashMap 现在为 [[1,1]]\n",
    "print(myHashMap.get(2))    # 返回 -1（未找到），myHashMap 现在为 [[1,1]]"
   ]
  },
  {
   "cell_type": "code",
   "execution_count": null,
   "metadata": {},
   "outputs": [],
   "source": []
  }
 ],
 "metadata": {
  "kernelspec": {
   "display_name": "Python 3",
   "language": "python",
   "name": "python3"
  },
  "language_info": {
   "codemirror_mode": {
    "name": "ipython",
    "version": 3
   },
   "file_extension": ".py",
   "mimetype": "text/x-python",
   "name": "python",
   "nbconvert_exporter": "python",
   "pygments_lexer": "ipython3",
   "version": "3.6.5"
  }
 },
 "nbformat": 4,
 "nbformat_minor": 2
}
