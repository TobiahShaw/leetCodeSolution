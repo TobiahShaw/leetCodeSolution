{
 "cells": [
  {
   "cell_type": "markdown",
   "metadata": {},
   "source": [
    "# 字符的最短距离\n",
    "\n",
    "**题目来源：力扣（LeetCode）**\n",
    "\n",
    "**链接：https://leetcode-cn.com/problems/shortest-distance-to-a-character/**\n",
    "\n",
    "## 一、题目\n",
    "\n",
    "给你一个字符串 s 和一个字符 c ，且 c 是 s 中出现过的字符。\n",
    "\n",
    "返回一个整数数组 answer ，其中 answer.length == s.length 且 answer[i] 是 s 中从下标 i 到离它 最近 的字符 c 的 距离 。\n",
    "\n",
    "两个下标 i 和 j 之间的 距离 为 abs(i - j) ，其中 abs 是绝对值函数。\n",
    "\n",
    "### 提示：\n",
    "\n",
    "- 1 <= s.length <= 10000\n",
    "- s[i] 和 c 均为小写英文字母\n",
    "- 题目数据保证 c 在 s 中至少出现一次\n",
    "\n",
    "## 二、示例\n",
    "\n",
    "### 示例 1：\n",
    "\n",
    "输入：s = \"loveleetcode\", c = \"e\"\n",
    "\n",
    "输出：[3,2,1,0,1,0,0,1,2,2,1,0]\n",
    "\n",
    "解释：\n",
    "\n",
    "- 字符 'e' 出现在下标 3、5、6 和 11 处（下标从 0 开始计数）。\n",
    "- 距下标 0 最近的 'e' 出现在下标 3 ，所以距离为 abs(0 - 3) = 3 。\n",
    "- 距下标 1 最近的 'e' 出现在下标 3 ，所以距离为 abs(1 - 3) = 2 。\n",
    "- 对于下标 4 ，出现在下标 3 和下标 5 处的 'e' 都离它最近，但距离是一样的 abs(4 - 3) == abs(4 - 5) = 1 。\n",
    "- 距下标 8 最近的 'e' 出现在下标 6 ，所以距离为 abs(8 - 6) = 2 。\n",
    "\n",
    "### 示例 2：\n",
    "\n",
    "输入：s = \"aaab\", c = \"b\"\n",
    "\n",
    "输出：[3,2,1,0]\n",
    "\n",
    "## 三、解题思路\n",
    "\n",
    "### 模拟过程"
   ]
  },
  {
   "cell_type": "code",
   "execution_count": 1,
   "metadata": {},
   "outputs": [],
   "source": [
    "def shortestToChar(s: str, c: str):\n",
    "    c_index = []\n",
    "    n = len(s)\n",
    "    for i in range(n):\n",
    "        if s[i] == c:\n",
    "            c_index.append(i)\n",
    "    index = 0\n",
    "    ret = []\n",
    "    for i in range(n):\n",
    "        if i > c_index[index] and index + 1 < len(c_index):\n",
    "            index += 1\n",
    "        if s[i] == c:\n",
    "            ret.append(0)\n",
    "        else:\n",
    "            dis = min(abs(c_index[max(index-1, 0)]-i), abs(c_index[max(index, 0)]-i))\n",
    "            ret.append(dis)\n",
    "    return ret"
   ]
  },
  {
   "cell_type": "code",
   "execution_count": 2,
   "metadata": {},
   "outputs": [
    {
     "data": {
      "text/plain": [
       "[3, 2, 1, 0, 1, 0, 0, 1, 2, 2, 1, 0]"
      ]
     },
     "execution_count": 2,
     "metadata": {},
     "output_type": "execute_result"
    }
   ],
   "source": [
    "shortestToChar(s = \"loveleetcode\", c = \"e\")"
   ]
  },
  {
   "cell_type": "code",
   "execution_count": 3,
   "metadata": {},
   "outputs": [
    {
     "data": {
      "text/plain": [
       "[3, 2, 1, 0]"
      ]
     },
     "execution_count": 3,
     "metadata": {},
     "output_type": "execute_result"
    }
   ],
   "source": [
    "shortestToChar(s = \"aaab\", c = \"b\")"
   ]
  },
  {
   "cell_type": "code",
   "execution_count": null,
   "metadata": {},
   "outputs": [],
   "source": []
  }
 ],
 "metadata": {
  "kernelspec": {
   "display_name": "Python 3",
   "language": "python",
   "name": "python3"
  },
  "language_info": {
   "codemirror_mode": {
    "name": "ipython",
    "version": 3
   },
   "file_extension": ".py",
   "mimetype": "text/x-python",
   "name": "python",
   "nbconvert_exporter": "python",
   "pygments_lexer": "ipython3",
   "version": "3.6.5"
  }
 },
 "nbformat": 4,
 "nbformat_minor": 2
}
