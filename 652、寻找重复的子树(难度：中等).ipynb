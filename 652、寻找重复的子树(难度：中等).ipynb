{
 "cells": [
  {
   "cell_type": "markdown",
   "metadata": {},
   "source": [
    "# 寻找重复的子树\n",
    "\n",
    "**题目来源：力扣（LeetCode）**\n",
    "\n",
    "**链接：https://leetcode.cn/problems/find-duplicate-subtrees/**\n",
    "\n",
    "## 一、题目\n",
    "\n",
    "给定一棵二叉树 root，返回所有重复的子树。\n",
    "\n",
    "对于同一类的重复子树，你只需要返回其中任意一棵的根结点即可。\n",
    "\n",
    "如果两棵树具有相同的结构和相同的结点值，则它们是重复的。\n",
    "\n",
    "### 提示：\n",
    "\n",
    "提示：\n",
    "\n",
    "- 树中的结点数在[1,10^4]范围内。\n",
    "- -200 <= Node.val <= 200\n",
    "\n",
    "## 二、示例\n",
    "\n",
    "### 示例 1：\n",
    "\n",
    "输入：root = [1,2,3,4,null,2,4,null,null,4]\n",
    "\n",
    "输出：[[2,4],[4]]\n",
    "\n",
    "### 示例 2：\n",
    "\n",
    "输入：root = [2,1,1]\n",
    "\n",
    "输出：[[1]]\n",
    "\n",
    "### 示例 3：\n",
    "\n",
    "输入：root = [2,2,2,3,null,3,null]\n",
    "\n",
    "输出：[[2,3],[3]]\n",
    "\n",
    "## 三、解题思路\n",
    "\n",
    "### DFS"
   ]
  },
  {
   "cell_type": "code",
   "execution_count": 1,
   "metadata": {},
   "outputs": [],
   "source": [
    "class TreeNode:\n",
    "    def __init__(self, val=0, left=None, right=None):\n",
    "        self.val = val\n",
    "        self.left = left\n",
    "        self.right = right\n",
    "\n",
    "class Solution:\n",
    "    def findDuplicateSubtrees(self, root: TreeNode):\n",
    "        def dfs(node, visited, ret):\n",
    "            if not node:\n",
    "                return \"\"\n",
    "            s = str(node.val) + \"(\" + dfs(node.left, visited, ret) + \")(\" + dfs(node.right, visited, ret) + \")\"\n",
    "            tree = visited.get(s, None)\n",
    "            if tree:\n",
    "                ret.add(tree)\n",
    "            else:\n",
    "                visited[s] = node\n",
    "            return s\n",
    "        ret = set()\n",
    "        dfs(root, {}, ret)\n",
    "        return list(ret)"
   ]
  },
  {
   "cell_type": "code",
   "execution_count": null,
   "metadata": {},
   "outputs": [],
   "source": []
  }
 ],
 "metadata": {
  "kernelspec": {
   "display_name": "Python 3.10.4 64-bit",
   "language": "python",
   "name": "python3"
  },
  "language_info": {
   "codemirror_mode": {
    "name": "ipython",
    "version": 3
   },
   "file_extension": ".py",
   "mimetype": "text/x-python",
   "name": "python",
   "nbconvert_exporter": "python",
   "pygments_lexer": "ipython3",
   "version": "3.10.4"
  },
  "orig_nbformat": 4,
  "vscode": {
   "interpreter": {
    "hash": "4f946df053fbf2b937619d3c5458e7af74262f9a954d8797ba0b27400bcafe06"
   }
  }
 },
 "nbformat": 4,
 "nbformat_minor": 2
}
