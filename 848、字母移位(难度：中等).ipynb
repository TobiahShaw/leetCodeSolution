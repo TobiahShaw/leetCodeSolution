{
 "cells": [
  {
   "cell_type": "markdown",
   "metadata": {},
   "source": [
    "# 字母移位\n",
    "\n",
    "**题目来源：力扣（LeetCode）**\n",
    "\n",
    "**链接：https://leetcode-cn.com/problems/shifting-letters/**\n",
    "\n",
    "## 一、题目\n",
    "\n",
    "有一个由小写字母组成的字符串 S，和一个整数数组 shifts。\n",
    "\n",
    "我们将字母表中的下一个字母称为原字母的 移位（由于字母表是环绕的， 'z' 将会变成 'a'）。\n",
    "\n",
    "例如·，shift('a') = 'b'， shift('t') = 'u',， 以及 shift('z') = 'a'。\n",
    "\n",
    "对于每个 shifts[i] = x ， 我们会将 S 中的前 i+1 个字母移位 x 次。\n",
    "\n",
    "返回将所有这些移位都应用到 S 后最终得到的字符串。\n",
    "\n",
    "## 二、示例\n",
    "\n",
    "### 示例 1：\n",
    "\n",
    "输入：S = \"abc\", shifts = [3,5,9]\n",
    "\n",
    "输出：\"rpl\"\n",
    "\n",
    "解释： \n",
    "\n",
    "我们以 \"abc\" 开始。\n",
    "\n",
    "将 S 中的第 1 个字母移位 3 次后，我们得到 \"dbc\"。\n",
    "\n",
    "再将 S 中的前 2 个字母移位 5 次后，我们得到 \"igc\"。\n",
    "\n",
    "最后将 S 中的这 3 个字母移位 9 次后，我们得到答案 \"rpl\"。\n",
    "\n",
    "## 三、解题思路\n",
    "\n",
    "### 后缀和"
   ]
  },
  {
   "cell_type": "code",
   "execution_count": 1,
   "metadata": {},
   "outputs": [],
   "source": [
    "def shiftingLetters(s: str, shifts) -> str:\n",
    "    ret = []\n",
    "    charA = ord('a')\n",
    "    n = len(s)\n",
    "    for i in range(n-1, -1, -1):\n",
    "        if i != n-1:\n",
    "            shifts[i] = shifts[i] + shifts[i+1]\n",
    "    for i in range(n):\n",
    "        orIndex = ord(s[i]) - charA\n",
    "        newIndex = (orIndex + shifts[i]) % 26\n",
    "        newChar = charA + newIndex\n",
    "        ret.append(chr(newChar))\n",
    "    return \"\".join(ret)"
   ]
  },
  {
   "cell_type": "code",
   "execution_count": 2,
   "metadata": {},
   "outputs": [
    {
     "data": {
      "text/plain": [
       "'rpl'"
      ]
     },
     "execution_count": 2,
     "metadata": {},
     "output_type": "execute_result"
    }
   ],
   "source": [
    "shiftingLetters(s = \"abc\", shifts = [3,5,9])"
   ]
  },
  {
   "cell_type": "code",
   "execution_count": null,
   "metadata": {},
   "outputs": [],
   "source": []
  }
 ],
 "metadata": {
  "kernelspec": {
   "display_name": "Python 3",
   "language": "python",
   "name": "python3"
  },
  "language_info": {
   "codemirror_mode": {
    "name": "ipython",
    "version": 3
   },
   "file_extension": ".py",
   "mimetype": "text/x-python",
   "name": "python",
   "nbconvert_exporter": "python",
   "pygments_lexer": "ipython3",
   "version": "3.6.5"
  }
 },
 "nbformat": 4,
 "nbformat_minor": 2
}
