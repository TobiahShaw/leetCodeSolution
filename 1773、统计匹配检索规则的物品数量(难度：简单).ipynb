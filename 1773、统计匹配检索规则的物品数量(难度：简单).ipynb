{
 "cells": [
  {
   "cell_type": "markdown",
   "metadata": {},
   "source": [
    "# 统计匹配检索规则的物品数量\n",
    "\n",
    "**题目来源：力扣（LeetCode）**\n",
    "\n",
    "**链接：https://leetcode-cn.com/problems/count-items-matching-a-rule/**\n",
    "\n",
    "## 一、题目\n",
    "\n",
    "给你一个数组 items ，其中 items[i] = [typei, colori, namei] ，描述第 i 件物品的类型、颜色以及名称。\n",
    "\n",
    "另给你一条由两个字符串 ruleKey 和 ruleValue 表示的检索规则。\n",
    "\n",
    "如果第 i 件物品能满足下述条件之一，则认为该物品与给定的检索规则 匹配 ：\n",
    "\n",
    "- ruleKey == \"type\" 且 ruleValue == typei 。\n",
    "- ruleKey == \"color\" 且 ruleValue == colori 。\n",
    "- ruleKey == \"name\" 且 ruleValue == namei 。\n",
    "\n",
    "统计并返回 匹配检索规则的物品数量 。\n",
    "\n",
    "### 提示：\n",
    "\n",
    "- 1 <= items.length <= 104\n",
    "- 1 <= typei.length, colori.length, namei.length, ruleValue.length <= 10\n",
    "- ruleKey 等于 \"type\"、\"color\" 或 \"name\"\n",
    "- 所有字符串仅由小写字母组成\n",
    "\n",
    "## 二、示例\n",
    "\n",
    "### 示例 1：\n",
    "\n",
    "输入：items = [[\"phone\",\"blue\",\"pixel\"],[\"computer\",\"silver\",\"lenovo\"],[\"phone\",\"gold\",\"iphone\"]], ruleKey = \"color\", ruleValue = \"silver\"\n",
    "\n",
    "输出：1\n",
    "\n",
    "解释：只有一件物品匹配检索规则，这件物品是 [\"computer\",\"silver\",\"lenovo\"] 。\n",
    "\n",
    "### 示例 2：\n",
    "\n",
    "输入：items = [[\"phone\",\"blue\",\"pixel\"],[\"computer\",\"silver\",\"phone\"],[\"phone\",\"gold\",\"iphone\"]], ruleKey = \"type\", ruleValue = \"phone\"\n",
    "\n",
    "输出：2\n",
    "\n",
    "解释：只有两件物品匹配检索规则，这两件物品分别是 [\"phone\",\"blue\",\"pixel\"] 和 [\"phone\",\"gold\",\"iphone\"] 。注意，[\"computer\",\"silver\",\"phone\"] 未匹配检索规则。\n",
    "\n",
    "## 三、解题思路\n",
    "\n",
    "### 轮询"
   ]
  },
  {
   "cell_type": "code",
   "execution_count": 1,
   "metadata": {},
   "outputs": [],
   "source": [
    "class Solution:\n",
    "    def countMatches(self, items, ruleKey: str, ruleValue: str) -> int:\n",
    "        ret = 0\n",
    "        for item in items:\n",
    "            pos = -1\n",
    "            if ruleKey == \"type\":\n",
    "                pos = 0\n",
    "            elif ruleKey == \"color\":\n",
    "                pos = 1\n",
    "            elif ruleKey == \"name\":\n",
    "                pos = 2\n",
    "            if pos != -1 and item[pos] == ruleValue:\n",
    "                ret += 1\n",
    "        return ret"
   ]
  },
  {
   "cell_type": "code",
   "execution_count": 2,
   "metadata": {},
   "outputs": [
    {
     "data": {
      "text/plain": [
       "1"
      ]
     },
     "execution_count": 2,
     "metadata": {},
     "output_type": "execute_result"
    }
   ],
   "source": [
    "s = Solution()\n",
    "s.countMatches(items = [[\"phone\",\"blue\",\"pixel\"],[\"computer\",\"silver\",\"lenovo\"],[\"phone\",\"gold\",\"iphone\"]], ruleKey = \"color\", ruleValue = \"silver\")"
   ]
  },
  {
   "cell_type": "code",
   "execution_count": 3,
   "metadata": {},
   "outputs": [
    {
     "data": {
      "text/plain": [
       "2"
      ]
     },
     "execution_count": 3,
     "metadata": {},
     "output_type": "execute_result"
    }
   ],
   "source": [
    "s.countMatches(items = [[\"phone\",\"blue\",\"pixel\"],[\"computer\",\"silver\",\"phone\"],[\"phone\",\"gold\",\"iphone\"]], ruleKey = \"type\", ruleValue = \"phone\")"
   ]
  },
  {
   "cell_type": "code",
   "execution_count": null,
   "metadata": {},
   "outputs": [],
   "source": []
  }
 ],
 "metadata": {
  "kernelspec": {
   "display_name": "Python 3.10.4 64-bit",
   "language": "python",
   "name": "python3"
  },
  "language_info": {
   "codemirror_mode": {
    "name": "ipython",
    "version": 3
   },
   "file_extension": ".py",
   "mimetype": "text/x-python",
   "name": "python",
   "nbconvert_exporter": "python",
   "pygments_lexer": "ipython3",
   "version": "3.10.4"
  },
  "vscode": {
   "interpreter": {
    "hash": "4f946df053fbf2b937619d3c5458e7af74262f9a954d8797ba0b27400bcafe06"
   }
  }
 },
 "nbformat": 4,
 "nbformat_minor": 2
}
