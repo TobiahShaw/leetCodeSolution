{
 "cells": [
  {
   "cell_type": "markdown",
   "metadata": {},
   "source": [
    "# 设计停车系统\n",
    "\n",
    "**题目来源：力扣（LeetCode）**\n",
    "\n",
    "**链接：https://leetcode-cn.com/problems/design-parking-system/**\n",
    "\n",
    "## 一、题目\n",
    "\n",
    "请你给一个停车场设计一个停车系统。停车场总共有三种不同大小的车位：大，中和小，每种尺寸分别有固定数目的车位。\n",
    "\n",
    "请你实现 ParkingSystem 类：\n",
    "\n",
    "- ParkingSystem(int big, int medium, int small) 初始化 ParkingSystem 类，三个参数分别对应每种停车位的数目。\n",
    "- bool addCar(int carType) 检查是否有 carType 对应的停车位。 carType 有三种类型：大，中，小，分别用数字 1， 2 和 3 表示。一辆车只能停在  carType 对应尺寸的停车位中。如果没有空车位，请返回 false ，否则将该车停入车位并返回 true 。\n",
    "\n",
    "### 提示：\n",
    "\n",
    "- 0 <= big, medium, small <= 1000\n",
    "- carType 取值为 1， 2 或 3\n",
    "- 最多会调用 addCar 函数 1000 次\n",
    "\n",
    "## 二、示例\n",
    "\n",
    "输入：\n",
    "\n",
    "[\"ParkingSystem\", \"addCar\", \"addCar\", \"addCar\", \"addCar\"]\n",
    "\n",
    "[[1, 1, 0], [1], [2], [3], [1]]\n",
    "\n",
    "输出：\n",
    "\n",
    "[null, true, true, false, false]\n",
    "\n",
    "解释：\n",
    "\n",
    "```\n",
    "parkingSystem = ParkingSystem(1, 1, 0);\n",
    "parkingSystem.addCar(1) # 返回 true ，因为有 1 个空的大车位\n",
    "parkingSystem.addCar(2) # 返回 true ，因为有 1 个空的中车位\n",
    "parkingSystem.addCar(3) # 返回 false ，因为没有空的小车位\n",
    "parkingSystem.addCar(1) # 返回 false ，因为没有空的大车位，唯一一个大车位已经被占据了\n",
    "```\n",
    "\n",
    "## 三、解题思路\n",
    "\n",
    "### 模拟"
   ]
  },
  {
   "cell_type": "code",
   "execution_count": 1,
   "metadata": {},
   "outputs": [],
   "source": [
    "class ParkingSystem:\n",
    "\n",
    "    def __init__(self, big: int, medium: int, small: int):\n",
    "        self._big = big\n",
    "        self._medium = medium\n",
    "        self._small = small\n",
    "\n",
    "    def addCar(self, carType: int) -> bool:\n",
    "        if carType == 1 and self._big > 0:\n",
    "            self._big -= 1\n",
    "            return True\n",
    "        if carType == 2 and self._medium > 0:\n",
    "            self._medium -= 1\n",
    "            return True\n",
    "        if carType == 3 and self._small > 0:\n",
    "            self._small -= 1\n",
    "            return True\n",
    "        return False"
   ]
  },
  {
   "cell_type": "code",
   "execution_count": 2,
   "metadata": {},
   "outputs": [
    {
     "name": "stdout",
     "output_type": "stream",
     "text": [
      "True\n",
      "True\n",
      "False\n",
      "False\n"
     ]
    }
   ],
   "source": [
    "parkingSystem = ParkingSystem(1, 1, 0);\n",
    "print(parkingSystem.addCar(1)) # 返回 true ，因为有 1 个空的大车位\n",
    "print(parkingSystem.addCar(2)) # 返回 true ，因为有 1 个空的中车位\n",
    "print(parkingSystem.addCar(3)) # 返回 false ，因为没有空的小车位\n",
    "print(parkingSystem.addCar(1)) # 返回 false ，因为没有空的大车位，唯一一个大车位已经被占据了"
   ]
  },
  {
   "cell_type": "code",
   "execution_count": null,
   "metadata": {},
   "outputs": [],
   "source": []
  }
 ],
 "metadata": {
  "kernelspec": {
   "display_name": "Python 3",
   "language": "python",
   "name": "python3"
  },
  "language_info": {
   "codemirror_mode": {
    "name": "ipython",
    "version": 3
   },
   "file_extension": ".py",
   "mimetype": "text/x-python",
   "name": "python",
   "nbconvert_exporter": "python",
   "pygments_lexer": "ipython3",
   "version": "3.6.5"
  }
 },
 "nbformat": 4,
 "nbformat_minor": 2
}
