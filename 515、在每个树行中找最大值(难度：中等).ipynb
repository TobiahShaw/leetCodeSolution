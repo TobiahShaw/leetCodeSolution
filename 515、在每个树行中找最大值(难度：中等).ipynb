{
 "cells": [
  {
   "cell_type": "markdown",
   "metadata": {},
   "source": [
    "# 在每个树行中找最大值\n",
    "\n",
    "**题目来源：力扣（LeetCode）**\n",
    "\n",
    "**链接：https://leetcode.cn/problems/find-largest-value-in-each-tree-row/**\n",
    "\n",
    "## 一、题目\n",
    "\n",
    "给定一棵二叉树的根节点 root ，请找出该二叉树中每一层的最大值。\n",
    "\n",
    "### 提示：\n",
    "\n",
    "- 二叉树的节点个数的范围是 [0,10^4]\n",
    "- -2^31 <= Node.val <= 2^31 - 1\n",
    "\n",
    "## 二、示例\n",
    "\n",
    "### 示例 1：\n",
    "\n",
    "输入: root = [1,3,2,5,3,null,9]\n",
    "\n",
    "输出: [1,3,9]\n",
    "\n",
    "### 示例 2：\n",
    "\n",
    "输入: root = [1,2,3]\n",
    "\n",
    "输出: [1,3]\n",
    "\n",
    "## 三、解题思路"
   ]
  },
  {
   "cell_type": "code",
   "execution_count": 1,
   "metadata": {},
   "outputs": [],
   "source": [
    "class TreeNode:\n",
    "    def __init__(self, val=0, left=None, right=None):\n",
    "        self.val = val\n",
    "        self.left = left\n",
    "        self.right = right\n",
    "        \n",
    "root1 = TreeNode(1)\n",
    "root1.left = TreeNode(3)\n",
    "root1.right = TreeNode(2)\n",
    "root1.left.left = TreeNode(5)\n",
    "root1.left.right = TreeNode(3)\n",
    "root1.right.right = TreeNode(9)\n",
    "\n",
    "root2 = TreeNode(1)\n",
    "root2.left = TreeNode(2)\n",
    "root2.right = TreeNode(3)"
   ]
  },
  {
   "cell_type": "markdown",
   "metadata": {},
   "source": [
    "### 层序遍历"
   ]
  },
  {
   "cell_type": "code",
   "execution_count": 2,
   "metadata": {},
   "outputs": [],
   "source": [
    "def largestValues(root):\n",
    "    if not root:\n",
    "        return []\n",
    "    layer = [root]\n",
    "    ret = []\n",
    "    while layer:\n",
    "        next_layer = []\n",
    "        max_val = layer[0].val\n",
    "        for node in layer:\n",
    "            max_val = max(max_val, node.val)\n",
    "            if node.left:\n",
    "                next_layer.append(node.left)\n",
    "            if node.right:\n",
    "                next_layer.append(node.right)\n",
    "        ret.append(max_val)\n",
    "        layer = next_layer\n",
    "    return ret"
   ]
  },
  {
   "cell_type": "code",
   "execution_count": 3,
   "metadata": {},
   "outputs": [
    {
     "data": {
      "text/plain": [
       "[1, 3, 9]"
      ]
     },
     "execution_count": 3,
     "metadata": {},
     "output_type": "execute_result"
    }
   ],
   "source": [
    "largestValues(root1)"
   ]
  },
  {
   "cell_type": "code",
   "execution_count": 4,
   "metadata": {},
   "outputs": [
    {
     "data": {
      "text/plain": [
       "[1, 3]"
      ]
     },
     "execution_count": 4,
     "metadata": {},
     "output_type": "execute_result"
    }
   ],
   "source": [
    "largestValues(root2)"
   ]
  },
  {
   "cell_type": "code",
   "execution_count": null,
   "metadata": {},
   "outputs": [],
   "source": []
  }
 ],
 "metadata": {
  "kernelspec": {
   "display_name": "Python 3",
   "language": "python",
   "name": "python3"
  },
  "language_info": {
   "codemirror_mode": {
    "name": "ipython",
    "version": 3
   },
   "file_extension": ".py",
   "mimetype": "text/x-python",
   "name": "python",
   "nbconvert_exporter": "python",
   "pygments_lexer": "ipython3",
   "version": "3.6.5"
  }
 },
 "nbformat": 4,
 "nbformat_minor": 2
}
