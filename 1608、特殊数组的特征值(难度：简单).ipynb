{
 "cells": [
  {
   "cell_type": "markdown",
   "metadata": {},
   "source": [
    "# 特殊数组的特征值\n",
    "\n",
    "**题目来源：力扣（LeetCode）**\n",
    "\n",
    "**链接：https://leetcode.cn/problems/special-array-with-x-elements-greater-than-or-equal-x/**\n",
    "\n",
    "## 一、题目\n",
    "\n",
    "给你一个非负整数数组 nums 。如果存在一个数 x ，使得 nums 中恰好有 x 个元素 大于或者等于 x ，那么就称 nums 是一个 特殊数组 ，而 x 是该数组的 特征值 。\n",
    "\n",
    "注意： x 不必 是 nums 的中的元素。\n",
    "\n",
    "如果数组 nums 是一个 特殊数组 ，请返回它的特征值 x 。否则，返回 -1 。可以证明的是，如果 nums 是特殊数组，那么其特征值 x 是 唯一的 。\n",
    "\n",
    "### 提示：\n",
    "\n",
    "- 1 <= nums.length <= 100\n",
    "- 0 <= nums[i] <= 1000\n",
    "\n",
    "## 二、示例\n",
    "\n",
    "### 示例 1：\n",
    "\n",
    "输入：nums = [3,5]\n",
    "\n",
    "输出：2\n",
    "\n",
    "解释：有 2 个元素（3 和 5）大于或等于 2 。\n",
    "\n",
    "### 示例 2：\n",
    "\n",
    "输入：nums = [0,0]\n",
    "\n",
    "输出：-1\n",
    "\n",
    "解释：没有满足题目要求的特殊数组，故而也不存在特征值 x 。\n",
    "\n",
    "- 如果 x = 0，应该有 0 个元素 >= x，但实际有 2 个。\n",
    "- 如果 x = 1，应该有 1 个元素 >= x，但实际有 0 个。\n",
    "- 如果 x = 2，应该有 2 个元素 >= x，但实际有 0 个。\n",
    "\n",
    "x 不能取更大的值，因为 nums 中只有两个元素。\n",
    "\n",
    "### 示例 3：\n",
    "\n",
    "输入：nums = [0,4,3,0,4]\n",
    "\n",
    "输出：3\n",
    "\n",
    "解释：有 3 个元素大于或等于 3 。\n",
    "\n",
    "### 示例 4：\n",
    "\n",
    "输入：nums = [3,6,7,7,0]\n",
    "\n",
    "输出：-1\n",
    "\n",
    "## 三、解题思路\n",
    "\n",
    "### 排序"
   ]
  },
  {
   "cell_type": "code",
   "execution_count": 1,
   "metadata": {},
   "outputs": [],
   "source": [
    "class Solution:\n",
    "    def specialArray(self, nums) -> int:\n",
    "        nums.sort(reverse=True)\n",
    "        n = len(nums)\n",
    "        for i in range(1, n + 1):\n",
    "            if nums[i - 1] >= i and (i == n or nums[i] < i):\n",
    "                return i\n",
    "        return -1"
   ]
  },
  {
   "cell_type": "code",
   "execution_count": 2,
   "metadata": {},
   "outputs": [
    {
     "data": {
      "text/plain": [
       "2"
      ]
     },
     "execution_count": 2,
     "metadata": {},
     "output_type": "execute_result"
    }
   ],
   "source": [
    "s = Solution()\n",
    "s.specialArray([3,5])"
   ]
  },
  {
   "cell_type": "code",
   "execution_count": 3,
   "metadata": {},
   "outputs": [
    {
     "data": {
      "text/plain": [
       "-1"
      ]
     },
     "execution_count": 3,
     "metadata": {},
     "output_type": "execute_result"
    }
   ],
   "source": [
    "s.specialArray([0,0])"
   ]
  },
  {
   "cell_type": "code",
   "execution_count": 4,
   "metadata": {},
   "outputs": [
    {
     "data": {
      "text/plain": [
       "3"
      ]
     },
     "execution_count": 4,
     "metadata": {},
     "output_type": "execute_result"
    }
   ],
   "source": [
    "s.specialArray([0,4,3,0,4])"
   ]
  },
  {
   "cell_type": "code",
   "execution_count": 5,
   "metadata": {},
   "outputs": [
    {
     "data": {
      "text/plain": [
       "-1"
      ]
     },
     "execution_count": 5,
     "metadata": {},
     "output_type": "execute_result"
    }
   ],
   "source": [
    "s.specialArray([3,6,7,7,0])"
   ]
  },
  {
   "cell_type": "code",
   "execution_count": null,
   "metadata": {},
   "outputs": [],
   "source": []
  }
 ],
 "metadata": {
  "kernelspec": {
   "display_name": "Python 3.10.4 64-bit",
   "language": "python",
   "name": "python3"
  },
  "language_info": {
   "codemirror_mode": {
    "name": "ipython",
    "version": 3
   },
   "file_extension": ".py",
   "mimetype": "text/x-python",
   "name": "python",
   "nbconvert_exporter": "python",
   "pygments_lexer": "ipython3",
   "version": "3.10.4"
  },
  "orig_nbformat": 4,
  "vscode": {
   "interpreter": {
    "hash": "4f946df053fbf2b937619d3c5458e7af74262f9a954d8797ba0b27400bcafe06"
   }
  }
 },
 "nbformat": 4,
 "nbformat_minor": 2
}
