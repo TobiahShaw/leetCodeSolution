{
 "cells": [
  {
   "cell_type": "markdown",
   "metadata": {},
   "source": [
    "# 总持续时间可被60整除的歌曲\n",
    "\n",
    "**题目来源：力扣（LeetCode）**\n",
    "\n",
    "**链接：https://leetcode-cn.com/problems/video-stitching/**\n",
    "\n",
    "## 一、题目\n",
    "\n",
    "在歌曲列表中，第 i 首歌曲的持续时间为 time[i] 秒。\n",
    "\n",
    "返回其总持续时间（以秒为单位）可被 60 整除的歌曲对的数量。形式上，我们希望索引的数字 i 和 j 满足  i < j 且有 (time[i] + time[j]) % 60 == 0。\n",
    "\n",
    "## 二、示例\n",
    "\n",
    "### 示例 1：\n",
    "\n",
    "输入：[30,20,150,100,40]\n",
    "\n",
    "输出：3\n",
    "\n",
    "解释：这三对的总持续时间可被 60 整数：\n",
    "\n",
    "(time[0] = 30, time[2] = 150): 总持续时间 180\n",
    "\n",
    "(time[1] = 20, time[3] = 100): 总持续时间 120\n",
    "\n",
    "(time[1] = 20, time[4] = 40): 总持续时间 60\n",
    "\n",
    "### 示例 2：\n",
    "\n",
    "输入：[60,60,60]\n",
    "\n",
    "输出：3\n",
    "\n",
    "解释：所有三对的总持续时间都是 120，可以被 60 整数。\n",
    "\n",
    "## 三、解题思路\n",
    "\n",
    "### 枚举"
   ]
  },
  {
   "cell_type": "code",
   "execution_count": 1,
   "metadata": {},
   "outputs": [],
   "source": [
    "def numPairsDivisibleBy60(time) -> int:\n",
    "    ret = 0\n",
    "    n = len(time)\n",
    "    for i in range(n):\n",
    "        for j in range(i + 1, n):\n",
    "            if (time[i] + time[j]) % 60 == 0:\n",
    "                ret += 1\n",
    "    return ret "
   ]
  },
  {
   "cell_type": "code",
   "execution_count": 2,
   "metadata": {},
   "outputs": [
    {
     "data": {
      "text/plain": [
       "3"
      ]
     },
     "execution_count": 2,
     "metadata": {},
     "output_type": "execute_result"
    }
   ],
   "source": [
    "numPairsDivisibleBy60([30,20,150,100,40])"
   ]
  },
  {
   "cell_type": "code",
   "execution_count": 3,
   "metadata": {},
   "outputs": [
    {
     "data": {
      "text/plain": [
       "3"
      ]
     },
     "execution_count": 3,
     "metadata": {},
     "output_type": "execute_result"
    }
   ],
   "source": [
    "numPairsDivisibleBy60([60,60,60])"
   ]
  },
  {
   "cell_type": "code",
   "execution_count": null,
   "metadata": {},
   "outputs": [],
   "source": []
  }
 ],
 "metadata": {
  "kernelspec": {
   "display_name": "Python 3",
   "language": "python",
   "name": "python3"
  },
  "language_info": {
   "codemirror_mode": {
    "name": "ipython",
    "version": 3
   },
   "file_extension": ".py",
   "mimetype": "text/x-python",
   "name": "python",
   "nbconvert_exporter": "python",
   "pygments_lexer": "ipython3",
   "version": "3.7.8"
  }
 },
 "nbformat": 4,
 "nbformat_minor": 4
}
