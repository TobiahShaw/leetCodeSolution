{
 "cells": [
  {
   "cell_type": "markdown",
   "metadata": {},
   "source": [
    "# 总持续时间可被60整除的歌曲\n",
    "\n",
    "**题目来源：力扣（LeetCode）**\n",
    "\n",
    "**链接：https://leetcode-cn.com/problems/video-stitching/**\n",
    "\n",
    "## 一、题目\n",
    "\n",
    "在歌曲列表中，第 i 首歌曲的持续时间为 time[i] 秒。\n",
    "\n",
    "返回其总持续时间（以秒为单位）可被 60 整除的歌曲对的数量。形式上，我们希望索引的数字 i 和 j 满足  i < j 且有 (time[i] + time[j]) % 60 == 0。\n",
    "\n",
    "### 提示：\n",
    "\n",
    "- 1 <= time.length <= 6 * 10^4\n",
    "- 1 <= time[i] <= 500\n",
    "\n",
    "## 二、示例\n",
    "\n",
    "### 示例 1：\n",
    "\n",
    "输入：[30,20,150,100,40]\n",
    "\n",
    "输出：3\n",
    "\n",
    "解释：这三对的总持续时间可被 60 整数：\n",
    "\n",
    "(time[0] = 30, time[2] = 150): 总持续时间 180\n",
    "\n",
    "(time[1] = 20, time[3] = 100): 总持续时间 120\n",
    "\n",
    "(time[1] = 20, time[4] = 40): 总持续时间 60\n",
    "\n",
    "### 示例 2：\n",
    "\n",
    "输入：[60,60,60]\n",
    "\n",
    "输出：3\n",
    "\n",
    "解释：所有三对的总持续时间都是 120，可以被 60 整数。\n",
    "\n",
    "## 三、解题思路\n",
    "\n",
    "### 一、枚举"
   ]
  },
  {
   "cell_type": "code",
   "execution_count": 1,
   "metadata": {},
   "outputs": [],
   "source": [
    "class Solution:\n",
    "    def numPairsDivisibleBy60(self, time) -> int:\n",
    "        ret = 0\n",
    "        n = len(time)\n",
    "        for i in range(n):\n",
    "            for j in range(i + 1, n):\n",
    "                if (time[i] + time[j]) % 60 == 0:\n",
    "                    ret += 1\n",
    "        return ret "
   ]
  },
  {
   "cell_type": "code",
   "execution_count": 2,
   "metadata": {},
   "outputs": [
    {
     "data": {
      "text/plain": [
       "3"
      ]
     },
     "execution_count": 2,
     "metadata": {},
     "output_type": "execute_result"
    }
   ],
   "source": [
    "s = Solution()\n",
    "s.numPairsDivisibleBy60([30,20,150,100,40])"
   ]
  },
  {
   "cell_type": "code",
   "execution_count": 3,
   "metadata": {},
   "outputs": [
    {
     "data": {
      "text/plain": [
       "3"
      ]
     },
     "execution_count": 3,
     "metadata": {},
     "output_type": "execute_result"
    }
   ],
   "source": [
    "s.numPairsDivisibleBy60([60,60,60])"
   ]
  },
  {
   "cell_type": "markdown",
   "metadata": {},
   "source": [
    "### 二、记录每个值对60的余数再配对"
   ]
  },
  {
   "cell_type": "code",
   "execution_count": 4,
   "metadata": {},
   "outputs": [],
   "source": [
    "class Solution:\n",
    "    def numPairsDivisibleBy60(self, time) -> int:\n",
    "        # 字典用来统计余数及出现次数\n",
    "        dic={}\n",
    "        for i,t in enumerate(time):\n",
    "            r = t%60\n",
    "            # 若字典中没有余数 r 记录，初始化为 0\n",
    "            dic.setdefault(r,0)\n",
    "            dic[r]+=1\n",
    "        # count 用来统计所有符合题意的组合数\n",
    "        count = 0\n",
    "        # 遍历 0 到 30，通过 60-i 便可拿到整除 60 后所有余数可能\n",
    "        for i in range(31):\n",
    "            # 如果余数为 0  或 30，单独处理\n",
    "            if i in [0,30]:\n",
    "                num = dic.get(i)\n",
    "                if num and num>1:\n",
    "                    count+=num*(num-1)//2\n",
    "            # 正常组合为 60 的余数组，取到互配的余数个数，计算结果\n",
    "            else:\n",
    "                num1 = dic.get(i)\n",
    "                num2 = dic.get(60-i)\n",
    "                if num1 and num2:                  \n",
    "                    count+=num1*num2\n",
    "        return count"
   ]
  },
  {
   "cell_type": "code",
   "execution_count": 5,
   "metadata": {},
   "outputs": [
    {
     "data": {
      "text/plain": [
       "3"
      ]
     },
     "execution_count": 5,
     "metadata": {},
     "output_type": "execute_result"
    }
   ],
   "source": [
    "s = Solution()\n",
    "s.numPairsDivisibleBy60([30,20,150,100,40])"
   ]
  },
  {
   "cell_type": "code",
   "execution_count": 6,
   "metadata": {},
   "outputs": [
    {
     "data": {
      "text/plain": [
       "3"
      ]
     },
     "execution_count": 6,
     "metadata": {},
     "output_type": "execute_result"
    }
   ],
   "source": [
    "s.numPairsDivisibleBy60([60,60,60])"
   ]
  },
  {
   "cell_type": "code",
   "execution_count": null,
   "metadata": {},
   "outputs": [],
   "source": []
  }
 ],
 "metadata": {
  "kernelspec": {
   "display_name": "Python 3 (ipykernel)",
   "language": "python",
   "name": "python3"
  },
  "language_info": {
   "codemirror_mode": {
    "name": "ipython",
    "version": 3
   },
   "file_extension": ".py",
   "mimetype": "text/x-python",
   "name": "python",
   "nbconvert_exporter": "python",
   "pygments_lexer": "ipython3",
   "version": "3.11.0"
  }
 },
 "nbformat": 4,
 "nbformat_minor": 4
}
