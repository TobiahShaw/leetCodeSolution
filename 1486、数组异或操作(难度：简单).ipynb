{
  "cells": [
    {
      "metadata": {
        "collapsed": true
      },
      "cell_type": "markdown",
      "source": "# 数组异或操作\n\n**题目来源：力扣（LeetCode）**\n\n**链接：https://leetcode-cn.com/problems/xor-operation-in-an-array/**\n\n## 一、题目\n\n给你两个整数，n 和 start 。\n\n数组 nums 定义为：nums[i] = start + 2*i（下标从 0 开始）且 n == nums.length 。\n\n请返回 nums 中所有元素按位异或（XOR）后得到的结果。\n\n## 二、示例\n\n### 示例 1：\n\n输入：n = 5, start = 0\n\n输出：8\n\n解释：数组 nums 为 [0, 2, 4, 6, 8]，其中 (0 ^ 2 ^ 4 ^ 6 ^ 8) = 8 。 \"^\" 为按位异或 XOR 运算符。\n\n### 示例 2：\n\n输入：n = 4, start = 3\n\n输出：8\n\n解释：数组 nums 为 [3, 5, 7, 9]，其中 (3 ^ 5 ^ 7 ^ 9) = 8.\n\n### 示例 3：\n\n输入：n = 1, start = 7\n\n输出：7\n\n### 示例 4：\n\n输入：n = 10, start = 5\n\n输出：2\n\n## 三、解题思路\n\n### 迭代"
    },
    {
      "metadata": {
        "trusted": true
      },
      "cell_type": "code",
      "source": "def xorOperation(n: int, start: int) -> int:\n    ret = start\n    for i in range(1, n):\n        ret = ret ^ (start + 2 * i)\n    return ret",
      "execution_count": 1,
      "outputs": []
    },
    {
      "metadata": {
        "trusted": true
      },
      "cell_type": "code",
      "source": "xorOperation(n = 5, start = 0)",
      "execution_count": 2,
      "outputs": [
        {
          "output_type": "execute_result",
          "execution_count": 2,
          "data": {
            "text/plain": "8"
          },
          "metadata": {}
        }
      ]
    },
    {
      "metadata": {
        "trusted": true
      },
      "cell_type": "code",
      "source": "xorOperation(n = 4, start = 3)",
      "execution_count": 3,
      "outputs": [
        {
          "output_type": "execute_result",
          "execution_count": 3,
          "data": {
            "text/plain": "8"
          },
          "metadata": {}
        }
      ]
    },
    {
      "metadata": {
        "trusted": true
      },
      "cell_type": "code",
      "source": "xorOperation(n = 1, start = 7)",
      "execution_count": 4,
      "outputs": [
        {
          "output_type": "execute_result",
          "execution_count": 4,
          "data": {
            "text/plain": "7"
          },
          "metadata": {}
        }
      ]
    },
    {
      "metadata": {
        "trusted": true
      },
      "cell_type": "code",
      "source": "xorOperation(n = 10, start = 5)",
      "execution_count": 5,
      "outputs": [
        {
          "output_type": "execute_result",
          "execution_count": 5,
          "data": {
            "text/plain": "2"
          },
          "metadata": {}
        }
      ]
    },
    {
      "metadata": {
        "trusted": true
      },
      "cell_type": "code",
      "source": "",
      "execution_count": null,
      "outputs": []
    }
  ],
  "metadata": {
    "kernelspec": {
      "name": "python36",
      "display_name": "Python 3.6",
      "language": "python"
    },
    "language_info": {
      "mimetype": "text/x-python",
      "nbconvert_exporter": "python",
      "name": "python",
      "pygments_lexer": "ipython3",
      "version": "3.6.6",
      "file_extension": ".py",
      "codemirror_mode": {
        "version": 3,
        "name": "ipython"
      }
    }
  },
  "nbformat": 4,
  "nbformat_minor": 2
}