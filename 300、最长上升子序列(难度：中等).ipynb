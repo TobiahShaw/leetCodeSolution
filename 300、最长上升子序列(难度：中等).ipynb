{
  "cells": [
    {
      "metadata": {
        "collapsed": true
      },
      "cell_type": "markdown",
      "source": "# 最长上升子序列\n\n**题目来源：力扣（LeetCode）**\n\n**链接：https://leetcode-cn.com/problems/longest-increasing-subsequence/**\n\n## 一、题目\n\n给定一个无序的整数数组，找到其中最长上升子序列的长度。\n\n## 二、示例\n\n输入: [10,9,2,5,3,7,101,18]\n\n输出: 4 \n\n解释: 最长的上升子序列是 [2,3,7,101]，它的长度是 4。\n\n### 说明:\n\n- 可能会有多种最长上升子序列的组合，你只需要输出对应的长度即可。\n- 你算法的时间复杂度应该为 O(n2) 。\n\n### 进阶: 你能将算法的时间复杂度降低到 O(n log n) 吗?\n\n## 三、解题思路\n\n### 一、暴力枚举"
    },
    {
      "metadata": {
        "trusted": true
      },
      "cell_type": "code",
      "source": "def lengthOfLIS(nums):\n    def generate(item, i, result):\n        if i >= len(nums):\n            if not result or len(result[-1]) < len(item):\n                result.append(item[:])\n            return\n        num = nums[i]\n        if not item or num > item[-1]:\n            item.append(num)\n            generate(item, i + 1, result)\n            item.pop()\n        generate(item, i + 1, result)\n    result = []\n    generate([], 0, result)\n    return len(result[-1]) if result else 0",
      "execution_count": 1,
      "outputs": []
    },
    {
      "metadata": {
        "trusted": true
      },
      "cell_type": "code",
      "source": "lengthOfLIS([10,9,2,5,3,7,101,18])",
      "execution_count": 2,
      "outputs": [
        {
          "output_type": "execute_result",
          "execution_count": 2,
          "data": {
            "text/plain": "4"
          },
          "metadata": {}
        }
      ]
    },
    {
      "metadata": {
        "trusted": true
      },
      "cell_type": "markdown",
      "source": "### 二、动态规划\n\n- 若dp[i]代表当前i个数字中最长上升子序列的长度，可否找出dp[i]和dp[i-1]之间的关系？\n- 若dp[i]代表以第i个数字为结尾的最长上升子序列的长度，可否找出dp[i]和dp[i-1]之间的关系？"
    },
    {
      "metadata": {
        "trusted": true
      },
      "cell_type": "code",
      "source": "def lengthOfLIS(nums):\n    if not nums:\n        return 0\n    dp = [1] * (len(nums) + 1)\n    maxLen = 1\n    for i in range(1, len(nums)):\n        for j in range(i):\n            if nums[i] > nums[j]:\n                dp[i] = max(dp[i], dp[j] + 1)\n        maxLen = max(dp[i], maxLen)\n    return maxLen",
      "execution_count": 1,
      "outputs": []
    },
    {
      "metadata": {
        "trusted": true
      },
      "cell_type": "code",
      "source": "lengthOfLIS([10,9,2,5,3,7,101,18])",
      "execution_count": 2,
      "outputs": [
        {
          "output_type": "execute_result",
          "execution_count": 2,
          "data": {
            "text/plain": "4"
          },
          "metadata": {}
        }
      ]
    },
    {
      "metadata": {
        "trusted": true
      },
      "cell_type": "code",
      "source": "",
      "execution_count": null,
      "outputs": []
    }
  ],
  "metadata": {
    "kernelspec": {
      "name": "python36",
      "display_name": "Python 3.6",
      "language": "python"
    },
    "language_info": {
      "mimetype": "text/x-python",
      "nbconvert_exporter": "python",
      "name": "python",
      "pygments_lexer": "ipython3",
      "version": "3.6.6",
      "file_extension": ".py",
      "codemirror_mode": {
        "version": 3,
        "name": "ipython"
      }
    }
  },
  "nbformat": 4,
  "nbformat_minor": 2
}