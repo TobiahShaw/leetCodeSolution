{
 "cells": [
  {
   "cell_type": "markdown",
   "metadata": {
    "collapsed": true
   },
   "source": [
    "# 最长上升子序列\n",
    "\n",
    "**题目来源：力扣（LeetCode）**\n",
    "\n",
    "**链接：https://leetcode-cn.com/problems/longest-increasing-subsequence/**\n",
    "\n",
    "## 一、题目\n",
    "\n",
    "给你一个整数数组 nums ，找到其中最长严格递增子序列的长度。\n",
    "\n",
    "子序列 是由数组派生而来的序列，删除（或不删除）数组中的元素而不改变其余元素的顺序。例如，[3,6,2,7] 是数组 [0,3,1,6,2,2,7] 的子序列。\n",
    "\n",
    "### 提示：\n",
    "\n",
    "- 1 <= nums.length <= 2500\n",
    "- -10^4 <= nums[i] <= 10^4\n",
    "\n",
    "## 二、示例\n",
    "\n",
    "### 示例 1：\n",
    "\n",
    "输入：nums = [10,9,2,5,3,7,101,18]\n",
    "\n",
    "输出：4\n",
    "\n",
    "解释：最长递增子序列是 [2,3,7,101]，因此长度为 4 。\n",
    "\n",
    "### 示例 2：\n",
    "\n",
    "输入：nums = [0,1,0,3,2,3]\n",
    "\n",
    "输出：4\n",
    "\n",
    "### 示例 3：\n",
    "\n",
    "输入：nums = [7,7,7,7,7,7,7]\n",
    "\n",
    "输出：1\n",
    "\n",
    "### 进阶: 你能将算法的时间复杂度降低到 O(n log n) 吗?\n",
    "\n",
    "## 三、解题思路\n",
    "\n",
    "### 一、暴力枚举"
   ]
  },
  {
   "cell_type": "code",
   "execution_count": 1,
   "metadata": {},
   "outputs": [],
   "source": [
    "def lengthOfLIS(nums):\n",
    "    def generate(item, i, result):\n",
    "        if i >= len(nums):\n",
    "            if not result or len(result[-1]) < len(item):\n",
    "                result.append(item[:])\n",
    "            return\n",
    "        num = nums[i]\n",
    "        if not item or num > item[-1]:\n",
    "            item.append(num)\n",
    "            generate(item, i + 1, result)\n",
    "            item.pop()\n",
    "        generate(item, i + 1, result)\n",
    "    result = []\n",
    "    generate([], 0, result)\n",
    "    return len(result[-1]) if result else 0"
   ]
  },
  {
   "cell_type": "code",
   "execution_count": 2,
   "metadata": {},
   "outputs": [
    {
     "data": {
      "text/plain": [
       "4"
      ]
     },
     "execution_count": 2,
     "metadata": {},
     "output_type": "execute_result"
    }
   ],
   "source": [
    "lengthOfLIS([10,9,2,5,3,7,101,18])"
   ]
  },
  {
   "cell_type": "markdown",
   "metadata": {},
   "source": [
    "### 二、动态规划\n",
    "\n",
    "- 若dp[i]代表当前i个数字中最长上升子序列的长度，可否找出dp[i]和dp[i-1]之间的关系？\n",
    "- 若dp[i]代表以第i个数字为结尾的最长上升子序列的长度，可否找出dp[i]和dp[i-1]之间的关系？\n",
    "\n",
    "第一种很难推出递推关系，那么我们采用第二种方式进行递推，假设除了最后一位为结尾的dp[i]都已求得\n",
    "\n",
    "过程模拟：\n",
    "```\n",
    "dp[0] = 1 ([10])\n",
    "dp[1] = 1 ([9])\n",
    "dp[2] = 1 ([2])\n",
    "dp[3] = 2 ([2, 5])\n",
    "dp[4] = 2 ([2, 3])\n",
    "dp[5] = 3 ([2, 5, 7]/[2, 3, 7])\n",
    "dp[6] = 4 ([2, 5, 7, 101]/[2, 3, 7, 101])\n",
    "```\n",
    "那么dp[7]怎么求呢？\n",
    "\n",
    "找到对应的nums[j] (j < i)使得 nums[i] > nums[j]， 取最大的那个+1\n",
    "\n",
    "即：\n",
    "\n",
    "```\n",
    "大于dp[0]对应的nums[0]，则：[10] + [18]\n",
    "大于dp[1]对应的nums[1]，则：[9] + [18]\n",
    "大于dp[2]对应的nums[2]，则：[2] + [18]\n",
    "大于dp[3]对应的nums[3]，则：[2, 5] + [18]\n",
    "大于dp[4]对应的nums[4]，则：[2, 3] + [18]\n",
    "大于dp[5]对应的nums[5]，则：[2, 5, 7] + [18]/[2, 3, 7]+[18]\n",
    "小于dp[6]对应的nums[6]，则：[18]\n",
    "\n",
    "则取最大的+1，即dp[7] = dp[5] + 1\n",
    "```\n",
    "\n",
    "最后找出dp数组中的最大值返回即可"
   ]
  },
  {
   "cell_type": "code",
   "execution_count": 1,
   "metadata": {},
   "outputs": [],
   "source": [
    "def lengthOfLIS(nums):\n",
    "    if not nums:\n",
    "        return 0\n",
    "    dp = [1] * (len(nums) + 1)\n",
    "    maxLen = 1\n",
    "    for i in range(1, len(nums)):\n",
    "        for j in range(i):\n",
    "            if nums[i] > nums[j]:\n",
    "                dp[i] = max(dp[i], dp[j] + 1)\n",
    "        maxLen = max(dp[i], maxLen)\n",
    "    return maxLen"
   ]
  },
  {
   "cell_type": "code",
   "execution_count": 2,
   "metadata": {},
   "outputs": [
    {
     "data": {
      "text/plain": [
       "4"
      ]
     },
     "execution_count": 2,
     "metadata": {},
     "output_type": "execute_result"
    }
   ],
   "source": [
    "lengthOfLIS([10,9,2,5,3,7,101,18])"
   ]
  },
  {
   "cell_type": "markdown",
   "metadata": {},
   "source": [
    "### 三、利用栈\n",
    "\n",
    "设置一个栈 stack，stack[i]代表长度为 i+1 的上升子序列最后一个元素的**最小可能取值**，即若要组成长度为 i+2 的上升子序列，需要一个大于stack[i]的元素。最终栈的大小即为最长上升子序列的长度。\n",
    "\n",
    "[1, 3, 2, 3, 1, 4]\n",
    "\n",
    "长度为1的上升子序列：[1],[2],[3],[4]\n",
    "\n",
    "长度为2的上升子序列：[1, 2], [1, 3], [1, 4], [2, 3], [2, 4], [3, 4]\n",
    "\n",
    "长度为3的上升子序列：[1, 2, 3],[1, 2, 4],[2, 3, 4]\n",
    "\n",
    "长度为4的上升子序列：[1, 2, 3, 4]\n",
    "\n",
    "1. 设置一个栈，stack，将nums[0]push进栈\n",
    "\n",
    "2. 从1到n-1遍历数组nums：若nums[i]大于栈顶，则将其push进栈，否则，从栈底遍历到栈顶，若遍历时，栈中元素大于等于nums[i]，使用其替换该元素，跳出循环\n",
    "\n",
    "3. 返回栈的大小"
   ]
  },
  {
   "cell_type": "code",
   "execution_count": 1,
   "metadata": {},
   "outputs": [],
   "source": [
    "def lengthOfLIS(nums):\n",
    "    if not nums:\n",
    "        return 0\n",
    "    stack = [nums[0]]\n",
    "    for i in range(1, len(nums)):\n",
    "        if nums[i] > stack[-1]:\n",
    "            stack.append(nums[i])\n",
    "        else:\n",
    "            for j in range(len(stack)):\n",
    "                if stack[j] >= nums[i]:\n",
    "                    stack[j] = nums[i]\n",
    "                    break\n",
    "    return len(stack)"
   ]
  },
  {
   "cell_type": "code",
   "execution_count": 2,
   "metadata": {},
   "outputs": [
    {
     "data": {
      "text/plain": [
       "4"
      ]
     },
     "execution_count": 2,
     "metadata": {},
     "output_type": "execute_result"
    }
   ],
   "source": [
    "lengthOfLIS([10,9,2,5,3,7,101,18])"
   ]
  },
  {
   "cell_type": "code",
   "execution_count": null,
   "metadata": {},
   "outputs": [],
   "source": []
  }
 ],
 "metadata": {
  "kernelspec": {
   "display_name": "Python 3 (ipykernel)",
   "language": "python",
   "name": "python3"
  },
  "language_info": {
   "codemirror_mode": {
    "name": "ipython",
    "version": 3
   },
   "file_extension": ".py",
   "mimetype": "text/x-python",
   "name": "python",
   "nbconvert_exporter": "python",
   "pygments_lexer": "ipython3",
   "version": "3.9.10+"
  }
 },
 "nbformat": 4,
 "nbformat_minor": 2
}
