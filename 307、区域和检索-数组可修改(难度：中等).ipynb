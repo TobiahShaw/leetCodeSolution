{
 "cells": [
  {
   "cell_type": "markdown",
   "metadata": {},
   "source": [
    "# 区域和检索-数组可修改\n",
    "\n",
    "**题目来源：力扣（LeetCode）**\n",
    "\n",
    "**链接：https://leetcode-cn.com/problems/range-sum-query-mutable/**\n",
    "\n",
    "## 一、题目\n",
    "给你一个数组 nums ，请你完成两类查询。\n",
    "\n",
    "1. 其中一类查询要求 更新 数组 nums 下标对应的值\n",
    "2. 另一类查询要求返回数组 nums 中索引 left 和索引 right 之间（ 包含 ）的nums元素的 和 ，其中 left <= right\n",
    "\n",
    "实现 NumArray 类：\n",
    "\n",
    "- NumArray(int[] nums) 用整数数组 nums 初始化对象\n",
    "- void update(int index, int val) 将 nums[index] 的值 更新 为 val\n",
    "- int sumRange(int left, int right) 返回数组 nums 中索引 left 和索引 right 之间（ 包含 ）的nums元素的 和 （即，nums[left] + nums[left + 1], ..., nums[right]）\n",
    "\n",
    "### 提示：\n",
    "\n",
    "- 1 <= nums.length <= 3 * 10^4\n",
    "- -100 <= nums[i] <= 100\n",
    "- 0 <= index < nums.length\n",
    "- -100 <= val <= 100\n",
    "- 0 <= left <= right < nums.length\n",
    "- 调用 pdate 和 sumRange 方法次数不大于 3 * 10^4\n",
    "\n",
    "### 提示：\n",
    "\n",
    "- 1 <= words.length <= 100\n",
    "- 1 <= words[i].length <= 100\n",
    "- words[i] 由小写英文字母组成\n",
    "\n",
    "## 二、示例\n",
    "\n",
    "输入：\n",
    "\n",
    "[\"NumArray\", \"sumRange\", \"update\", \"sumRange\"]\n",
    "\n",
    "[[[1, 3, 5]], [0, 2], [1, 2], [0, 2]]\n",
    "\n",
    "输出：\n",
    "\n",
    "[null, 9, null, 8]\n",
    "\n",
    "解释：\n",
    "\n",
    "```\n",
    "numArray = NumArray([1, 3, 5])\n",
    "numArray.sumRange(0, 2) # 返回 1 + 3 + 5 = 9\n",
    "numArray.update(1, 2)   # nums = [1,2,5]\n",
    "numArray.sumRange(0, 2) # 返回 1 + 2 + 5 = 8\n",
    "```\n",
    "\n",
    "## 三、解题思路\n",
    "\n",
    "### 一、暴力（超时）"
   ]
  },
  {
   "cell_type": "code",
   "execution_count": 1,
   "metadata": {},
   "outputs": [],
   "source": [
    "class NumArray:\n",
    "\n",
    "    def __init__(self, nums):\n",
    "        self._nums = nums\n",
    "\n",
    "    def update(self, index: int, val: int) -> None:\n",
    "        self._nums[index] = val\n",
    "\n",
    "    def sumRange(self, left: int, right: int) -> int:\n",
    "        return sum(self._nums[left:right+1])"
   ]
  },
  {
   "cell_type": "code",
   "execution_count": 2,
   "metadata": {},
   "outputs": [
    {
     "name": "stdout",
     "output_type": "stream",
     "text": [
      "9\n",
      "8\n"
     ]
    }
   ],
   "source": [
    "numArray = NumArray([1, 3, 5])\n",
    "print(numArray.sumRange(0, 2)) # 返回 1 + 3 + 5 = 9\n",
    "numArray.update(1, 2)   # nums = [1,2,5]\n",
    "print(numArray.sumRange(0, 2)) # 返回 1 + 2 + 5 = 8"
   ]
  },
  {
   "cell_type": "markdown",
   "metadata": {},
   "source": [
    "### 二、分段和"
   ]
  },
  {
   "cell_type": "code",
   "execution_count": 3,
   "metadata": {},
   "outputs": [],
   "source": [
    "class NumArray:\n",
    "\n",
    "    def __init__(self, nums):\n",
    "        n = len(nums)\n",
    "        size = int(n ** 0.5)\n",
    "        sums = [0] * ((n + size - 1) // size)\n",
    "        for i, num in enumerate(nums):\n",
    "            sums[i // size] += num\n",
    "        self.nums = nums\n",
    "        self.sums = sums\n",
    "        self.size = size\n",
    "\n",
    "    def update(self, index: int, val: int) -> None:\n",
    "        self.sums[index // self.size] += val - self.nums[index]\n",
    "        self.nums[index] = val\n",
    "\n",
    "    def sumRange(self, left: int, right: int) -> int:\n",
    "        m = self.size\n",
    "        b1, b2 = left // m, right // m\n",
    "        if b1 == b2:\n",
    "            return sum(self.nums[left:right + 1])\n",
    "        return sum(self.nums[left:(b1 + 1) * m]) + sum(self.sums[b1 + 1:b2]) + sum(self.nums[b2 * m:right + 1])"
   ]
  },
  {
   "cell_type": "code",
   "execution_count": 4,
   "metadata": {},
   "outputs": [
    {
     "name": "stdout",
     "output_type": "stream",
     "text": [
      "9\n",
      "8\n"
     ]
    }
   ],
   "source": [
    "numArray = NumArray([1, 3, 5])\n",
    "print(numArray.sumRange(0, 2)) # 返回 1 + 3 + 5 = 9\n",
    "numArray.update(1, 2)   # nums = [1,2,5]\n",
    "print(numArray.sumRange(0, 2)) # 返回 1 + 2 + 5 = 8"
   ]
  },
  {
   "cell_type": "code",
   "execution_count": null,
   "metadata": {},
   "outputs": [],
   "source": []
  }
 ],
 "metadata": {
  "kernelspec": {
   "display_name": "Python 3",
   "language": "python",
   "name": "python3"
  },
  "language_info": {
   "codemirror_mode": {
    "name": "ipython",
    "version": 3
   },
   "file_extension": ".py",
   "mimetype": "text/x-python",
   "name": "python",
   "nbconvert_exporter": "python",
   "pygments_lexer": "ipython3",
   "version": "3.6.5"
  }
 },
 "nbformat": 4,
 "nbformat_minor": 2
}
