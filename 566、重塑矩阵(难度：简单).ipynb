{
 "cells": [
  {
   "cell_type": "markdown",
   "metadata": {},
   "source": [
    "# 重塑矩阵\n",
    "\n",
    "**题目来源：力扣（LeetCode）**\n",
    "\n",
    "**链接：https://leetcode-cn.com/problems/reshape-the-matrix/**\n",
    "\n",
    "## 一、题目\n",
    "\n",
    "在MATLAB中，有一个非常有用的函数 reshape，它可以将一个矩阵重塑为另一个大小不同的新矩阵，但保留其原始数据。\n",
    "\n",
    "给出一个由二维数组表示的矩阵，以及两个正整数r和c，分别表示想要的重构的矩阵的行数和列数。\n",
    "\n",
    "重构后的矩阵需要将原始矩阵的所有元素以相同的行遍历顺序填充。\n",
    "\n",
    "如果具有给定参数的reshape操作是可行且合理的，则输出新的重塑矩阵；否则，输出原始矩阵。\n",
    "\n",
    "## 二、示例\n",
    "\n",
    "### 示例 1：\n",
    "\n",
    "输入: \n",
    "\n",
    "nums = [[1,2], [3,4]], r = 1, c = 4\n",
    "\n",
    "输出: \n",
    "\n",
    "[[1,2,3,4]]\n",
    "\n",
    "解释:\n",
    "\n",
    "行遍历nums的结果是 [1,2,3,4]。新的矩阵是 1 * 4 矩阵, 用之前的元素值一行一行填充新矩阵。\n",
    "\n",
    "### 示例 2:\n",
    "\n",
    "输入: \n",
    "\n",
    "nums = [[1,2], [3,4]], r = 2, c = 4\n",
    "\n",
    "输出: \n",
    "\n",
    "[[1,2], [3,4]]\n",
    "\n",
    "解释:\n",
    "\n",
    "没有办法将 2 * 2 矩阵转化为 2 * 4 矩阵。 所以输出原矩阵。\n",
    "\n",
    "## 三、解题思路\n",
    "\n",
    "### 模拟过程"
   ]
  },
  {
   "cell_type": "code",
   "execution_count": 1,
   "metadata": {},
   "outputs": [],
   "source": [
    "def matrixReshape(nums, r: int, c: int):\n",
    "    m, n = len(nums), len(nums[0])\n",
    "    if r * c != m * n:\n",
    "        return nums\n",
    "    ret = []\n",
    "    tmp = []\n",
    "    for i in range(m*n):\n",
    "        if i != 0 and i % c == 0:\n",
    "            ret.append(tmp[:])\n",
    "            tmp.clear()\n",
    "        tmp.append(nums[i // n][i % n])\n",
    "    ret.append(tmp)\n",
    "    return ret"
   ]
  },
  {
   "cell_type": "code",
   "execution_count": 2,
   "metadata": {},
   "outputs": [
    {
     "data": {
      "text/plain": [
       "[[1, 2, 3, 4]]"
      ]
     },
     "execution_count": 2,
     "metadata": {},
     "output_type": "execute_result"
    }
   ],
   "source": [
    "matrixReshape(nums = [[1,2], [3,4]], r = 1, c = 4)"
   ]
  },
  {
   "cell_type": "code",
   "execution_count": 3,
   "metadata": {},
   "outputs": [
    {
     "data": {
      "text/plain": [
       "[[1, 2], [3, 4]]"
      ]
     },
     "execution_count": 3,
     "metadata": {},
     "output_type": "execute_result"
    }
   ],
   "source": [
    "matrixReshape(nums = [[1,2], [3,4]], r = 2, c = 4)"
   ]
  },
  {
   "cell_type": "code",
   "execution_count": null,
   "metadata": {},
   "outputs": [],
   "source": []
  }
 ],
 "metadata": {
  "kernelspec": {
   "display_name": "Python 3",
   "language": "python",
   "name": "python3"
  },
  "language_info": {
   "codemirror_mode": {
    "name": "ipython",
    "version": 3
   },
   "file_extension": ".py",
   "mimetype": "text/x-python",
   "name": "python",
   "nbconvert_exporter": "python",
   "pygments_lexer": "ipython3",
   "version": "3.7.8"
  }
 },
 "nbformat": 4,
 "nbformat_minor": 4
}
