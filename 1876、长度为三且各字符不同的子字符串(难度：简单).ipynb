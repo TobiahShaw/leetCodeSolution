{
 "cells": [
  {
   "cell_type": "markdown",
   "metadata": {},
   "source": [
    "# 长度为三且各字符不同的子字符串\n",
    "\n",
    "**题目来源：力扣（LeetCode）**\n",
    "\n",
    "**链接：https://leetcode.cn/problems/substrings-of-size-three-with-distinct-characters/**\n",
    "\n",
    "## 一、题目\n",
    "\n",
    "如果一个字符串不含有任何重复字符，我们称这个字符串为 好 字符串。\n",
    "\n",
    "给你一个字符串 s ，请你返回 s 中长度为 3 的 好子字符串 的数量。\n",
    "\n",
    "注意，如果相同的好子字符串出现多次，每一次都应该被记入答案之中。\n",
    "\n",
    "子字符串 是一个字符串中连续的字符序列。\n",
    "\n",
    "### 提示：\n",
    "\n",
    "- 1 <= s.length <= 100\n",
    "- s​​​​​​ 只包含小写英文字母。\n",
    "\n",
    "## 二、示例\n",
    "\n",
    "### 示例 1：\n",
    "\n",
    "输入：s = \"xyzzaz\"\n",
    "\n",
    "输出：1\n",
    "\n",
    "解释：总共有 4 个长度为 3 的子字符串：\"xyz\"，\"yzz\"，\"zza\" 和 \"zaz\" 。唯一的长度为 3 的好子字符串是 \"xyz\" 。\n",
    "\n",
    "### 示例 2：\n",
    "\n",
    "输入：s = \"aababcabc\"\n",
    "\n",
    "输出：4\n",
    "\n",
    "解释：总共有 7 个长度为 3 的子字符串：\"aab\"，\"aba\"，\"bab\"，\"abc\"，\"bca\"，\"cab\" 和 \"abc\" 。好子字符串包括 \"abc\"，\"bca\"，\"cab\" 和 \"abc\" 。\n",
    "\n",
    "## 三、解题思路\n",
    "\n",
    "### 遍历 + 集合"
   ]
  },
  {
   "cell_type": "code",
   "execution_count": 1,
   "metadata": {},
   "outputs": [],
   "source": [
    "class Solution:\n",
    "    def countGoodSubstrings(self, s: str) -> int:\n",
    "        n = len(s)\n",
    "        ret = 0\n",
    "        for i in range(3, n+1):\n",
    "            if len(set(s[i-3:i])) == 3:\n",
    "                ret += 1\n",
    "        return ret"
   ]
  },
  {
   "cell_type": "code",
   "execution_count": 2,
   "metadata": {},
   "outputs": [
    {
     "data": {
      "text/plain": [
       "1"
      ]
     },
     "execution_count": 2,
     "metadata": {},
     "output_type": "execute_result"
    }
   ],
   "source": [
    "s = Solution()\n",
    "s.countGoodSubstrings(\"xyzzaz\")"
   ]
  },
  {
   "cell_type": "code",
   "execution_count": 3,
   "metadata": {},
   "outputs": [
    {
     "data": {
      "text/plain": [
       "4"
      ]
     },
     "execution_count": 3,
     "metadata": {},
     "output_type": "execute_result"
    }
   ],
   "source": [
    "s.countGoodSubstrings(\"aababcabc\")"
   ]
  },
  {
   "cell_type": "code",
   "execution_count": null,
   "metadata": {},
   "outputs": [],
   "source": []
  }
 ],
 "metadata": {
  "kernelspec": {
   "display_name": "Python 3.10.4 64-bit",
   "language": "python",
   "name": "python3"
  },
  "language_info": {
   "codemirror_mode": {
    "name": "ipython",
    "version": 3
   },
   "file_extension": ".py",
   "mimetype": "text/x-python",
   "name": "python",
   "nbconvert_exporter": "python",
   "pygments_lexer": "ipython3",
   "version": "3.10.4"
  },
  "orig_nbformat": 4,
  "vscode": {
   "interpreter": {
    "hash": "4f946df053fbf2b937619d3c5458e7af74262f9a954d8797ba0b27400bcafe06"
   }
  }
 },
 "nbformat": 4,
 "nbformat_minor": 2
}
