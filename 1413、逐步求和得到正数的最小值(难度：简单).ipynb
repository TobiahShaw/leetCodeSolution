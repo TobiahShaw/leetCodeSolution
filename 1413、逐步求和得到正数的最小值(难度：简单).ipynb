{
 "cells": [
  {
   "cell_type": "markdown",
   "metadata": {},
   "source": [
    "# 逐步求和得到正数的最小值\n",
    "\n",
    "**题目来源：力扣（LeetCode）**\n",
    "\n",
    "**链接：https://leetcode.cn/problems/minimum-value-to-get-positive-step-by-step-sum/**\n",
    "\n",
    "## 一、题目\n",
    "\n",
    "给你一个整数数组 nums 。你可以选定任意的 正数 startValue 作为初始值。\n",
    "\n",
    "你需要从左到右遍历 nums 数组，并将 startValue 依次累加上 nums 数组中的值。\n",
    "\n",
    "请你在确保累加和始终大于等于 1 的前提下，选出一个最小的 正数 作为 startValue 。\n",
    "\n",
    "### 提示：\n",
    "\n",
    "- 1 <= nums.length <= 100\n",
    "- -100 <= nums[i] <= 100\n",
    "\n",
    "## 二、示例\n",
    "\n",
    "### 示例 1：\n",
    "\n",
    "输入：nums = [-3,2,-3,4,2]\n",
    "\n",
    "输出：5\n",
    "\n",
    "解释：如果你选择 startValue = 4，在第三次累加时，和小于 1 。\n",
    "\n",
    "```\n",
    "                累加求和\n",
    "                startValue = 4 | startValue = 5 | nums\n",
    "                  (4 -3 ) = 1  | (5 -3 ) = 2    |  -3\n",
    "                  (1 +2 ) = 3  | (2 +2 ) = 4    |   2\n",
    "                  (3 -3 ) = 0  | (4 -3 ) = 1    |  -3\n",
    "                  (0 +4 ) = 4  | (1 +4 ) = 5    |   4\n",
    "                  (4 +2 ) = 6  | (5 +2 ) = 7    |   2\n",
    "```\n",
    "\n",
    "### 示例 2：\n",
    "\n",
    "输入：nums = [1,2]\n",
    "\n",
    "输出：1\n",
    "\n",
    "解释：最小的 startValue 需要是正数。\n",
    "\n",
    "### 示例 3：\n",
    "\n",
    "输入：nums = [1,-2,-3]\n",
    "输出：5\n",
    "\n",
    "## 三、解题思路\n",
    "\n",
    "### 一、贪心"
   ]
  },
  {
   "cell_type": "code",
   "execution_count": 1,
   "metadata": {},
   "outputs": [],
   "source": [
    "def minStartValue(nums) -> int:\n",
    "    min_val = 0\n",
    "    start = 0\n",
    "    for i in nums:\n",
    "        start += i\n",
    "        min_val = min(min_val, start)\n",
    "    return -min_val + 1"
   ]
  },
  {
   "cell_type": "code",
   "execution_count": 2,
   "metadata": {},
   "outputs": [
    {
     "data": {
      "text/plain": [
       "5"
      ]
     },
     "execution_count": 2,
     "metadata": {},
     "output_type": "execute_result"
    }
   ],
   "source": [
    "minStartValue([-3,2,-3,4,2])"
   ]
  },
  {
   "cell_type": "code",
   "execution_count": 3,
   "metadata": {},
   "outputs": [
    {
     "data": {
      "text/plain": [
       "1"
      ]
     },
     "execution_count": 3,
     "metadata": {},
     "output_type": "execute_result"
    }
   ],
   "source": [
    "minStartValue([1,2])"
   ]
  },
  {
   "cell_type": "code",
   "execution_count": 4,
   "metadata": {},
   "outputs": [
    {
     "data": {
      "text/plain": [
       "5"
      ]
     },
     "execution_count": 4,
     "metadata": {},
     "output_type": "execute_result"
    }
   ],
   "source": [
    "minStartValue([1,-2,-3])"
   ]
  },
  {
   "cell_type": "code",
   "execution_count": null,
   "metadata": {},
   "outputs": [],
   "source": []
  }
 ],
 "metadata": {
  "kernelspec": {
   "display_name": "Python 3.10.4 64-bit",
   "language": "python",
   "name": "python3"
  },
  "language_info": {
   "codemirror_mode": {
    "name": "ipython",
    "version": 3
   },
   "file_extension": ".py",
   "mimetype": "text/x-python",
   "name": "python",
   "nbconvert_exporter": "python",
   "pygments_lexer": "ipython3",
   "version": "3.10.4"
  },
  "orig_nbformat": 4,
  "vscode": {
   "interpreter": {
    "hash": "4f946df053fbf2b937619d3c5458e7af74262f9a954d8797ba0b27400bcafe06"
   }
  }
 },
 "nbformat": 4,
 "nbformat_minor": 2
}
