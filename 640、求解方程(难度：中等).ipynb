{
 "cells": [
  {
   "cell_type": "markdown",
   "metadata": {},
   "source": [
    "# 求解方程\n",
    "\n",
    "**题目来源：力扣（LeetCode）**\n",
    "\n",
    "**链接：https://leetcode.cn/problems/solve-the-equation/**\n",
    "\n",
    "## 一、题目\n",
    "\n",
    "求解一个给定的方程，将x以字符串 \"x=#value\" 的形式返回。该方程仅包含 '+' ， '-' 操作，变量 x 和其对应系数。\n",
    "\n",
    "如果方程没有解，请返回 \"No solution\" 。如果方程有无限解，则返回 “Infinite solutions” 。\n",
    "\n",
    "题目保证，如果方程中只有一个解，则 'x' 的值是一个整数。\n",
    "\n",
    "### 提示：\n",
    "\n",
    "- 3 <= equation.length <= 1000\n",
    "- equation 只有一个 '='.\n",
    "- equation 方程由整数组成，其绝对值在 [0, 100] 范围内，不含前导零和变量 'x' 。 \n",
    "\n",
    "## 二、示例\n",
    "\n",
    "### 示例 1：\n",
    "\n",
    "输入: equation = \"x+5-3+x=6+x-2\"\n",
    "\n",
    "输出: \"x=2\"\n",
    "\n",
    "### 示例 2:\n",
    "\n",
    "输入: equation = \"x=x\"\n",
    "\n",
    "输出: \"Infinite solutions\"\n",
    "\n",
    "### 示例 3:\n",
    "\n",
    "输入: equation = \"2x=x\"\n",
    "\n",
    "输出: \"x=0\"\n",
    "\n",
    "## 三、解题思路\n",
    "\n",
    "### 移项求解"
   ]
  },
  {
   "cell_type": "code",
   "execution_count": 1,
   "metadata": {},
   "outputs": [],
   "source": [
    "class Solution:\n",
    "    def solveEquation(self, equation: str) -> str:\n",
    "        factor, val = 0, 0\n",
    "        i, n, sign = 0, len(equation), 1\n",
    "        while i < n:\n",
    "            if equation[i] == \"=\":\n",
    "                sign = -1\n",
    "                i += 1\n",
    "                continue\n",
    "            s = sign\n",
    "            if equation[i] == \"+\":\n",
    "                i += 1\n",
    "            elif equation[i] == \"-\":\n",
    "                i += 1\n",
    "                s = -s\n",
    "            \n",
    "            num, valid = 0, False\n",
    "            while i < n and equation[i].isdigit():\n",
    "                valid = True\n",
    "                num = num * 10 + int(equation[i])\n",
    "                i += 1\n",
    "            \n",
    "            if i < n and equation[i] == \"x\":\n",
    "                factor += s * num if valid else s\n",
    "                i += 1\n",
    "            else:\n",
    "                val += s * num\n",
    "        if factor == 0:\n",
    "            return \"No solution\" if val else \"Infinite solutions\"\n",
    "        return f\"x={-val // factor}\""
   ]
  },
  {
   "cell_type": "code",
   "execution_count": 2,
   "metadata": {},
   "outputs": [
    {
     "data": {
      "text/plain": [
       "'x=2'"
      ]
     },
     "execution_count": 2,
     "metadata": {},
     "output_type": "execute_result"
    }
   ],
   "source": [
    "solution = Solution()\n",
    "solution.solveEquation(\"x+5-3+x=6+x-2\")"
   ]
  },
  {
   "cell_type": "code",
   "execution_count": 3,
   "metadata": {},
   "outputs": [
    {
     "data": {
      "text/plain": [
       "'Infinite solutions'"
      ]
     },
     "execution_count": 3,
     "metadata": {},
     "output_type": "execute_result"
    }
   ],
   "source": [
    "solution.solveEquation(\"x=x\")"
   ]
  },
  {
   "cell_type": "code",
   "execution_count": 4,
   "metadata": {},
   "outputs": [
    {
     "data": {
      "text/plain": [
       "'x=0'"
      ]
     },
     "execution_count": 4,
     "metadata": {},
     "output_type": "execute_result"
    }
   ],
   "source": [
    "solution.solveEquation(\"x=2x\")"
   ]
  },
  {
   "cell_type": "code",
   "execution_count": null,
   "metadata": {},
   "outputs": [],
   "source": []
  }
 ],
 "metadata": {
  "kernelspec": {
   "display_name": "Python 3.10.4 64-bit",
   "language": "python",
   "name": "python3"
  },
  "language_info": {
   "codemirror_mode": {
    "name": "ipython",
    "version": 3
   },
   "file_extension": ".py",
   "mimetype": "text/x-python",
   "name": "python",
   "nbconvert_exporter": "python",
   "pygments_lexer": "ipython3",
   "version": "3.10.4"
  },
  "orig_nbformat": 4,
  "vscode": {
   "interpreter": {
    "hash": "4f946df053fbf2b937619d3c5458e7af74262f9a954d8797ba0b27400bcafe06"
   }
  }
 },
 "nbformat": 4,
 "nbformat_minor": 2
}
