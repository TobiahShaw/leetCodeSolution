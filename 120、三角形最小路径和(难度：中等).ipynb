{
  "cells": [
    {
      "metadata": {
        "collapsed": true
      },
      "cell_type": "markdown",
      "source": "# 三角形最小路径和\n\n**题目来源：力扣（LeetCode）**\n\n**链接：https://leetcode-cn.com/problems/triangle/**\n\n## 一、题目\n\n给定一个三角形，找出自顶向下的最小路径和。每一步只能移动到下一行中相邻的结点上。\n\n相邻的结点 在这里指的是 下标 与 上一层结点下标 相同或者等于 上一层结点下标 + 1 的两个结点。\n\n## 二、示例\n\n例如，给定三角形：\n\n```\n[\n     [2],\n    [3,4],\n   [6,5,7],\n  [4,1,8,3]\n]\n```\n\n自顶向下的最小路径和为 11（即，2 + 3 + 5 + 1 = 11）。\n\n## 三、解题思路\n\n### 动态规划\n\n从上到下和从下到上寻找路径的思考方式本质是否一样？\n\n假设 dp[i][j] 代表三角形第i行第j列的最优解，从上到下和从下到上那种递推方式更简单\n\n#### 算法思路\n\n1. 设置一个二维数组，最优值三角形dp，并初始化数组元素为0。dp[i][j] 代表从低至上推时，走到三角形第i行第j列的最优解。\n2. 从三角形底面向上面进行动态规划：\n    1. 底面上的值即为底面的最优值；\n    2. 利用 i 循环，从倒数第二层递推至第一层，对于每层各列进行动态规划递推：dp[i][j] = min(dp[i+1][j], dp[i+1][j+1]) + triangle[i][j]\n    3. 返回dp[0][0]"
    },
    {
      "metadata": {
        "trusted": true
      },
      "cell_type": "code",
      "source": "def minimumTotal(triangle) -> int:\n    if not triangle:\n        return 0\n    if len(triangle) == 1:\n        return triangle[0][0]\n    height = len(triangle)\n    dp = [[0] * (i + 1) for i in range(height)]\n    for i in range(height):\n        dp[-1][i] = triangle[-1][i]\n    for i in range(height - 2, 0 - 1, -1):\n        for j in range(i + 1):\n            dp[i][j] = min(dp[i+1][j], dp[i+1][j+1]) + triangle[i][j]\n    return dp[0][0]",
      "execution_count": 1,
      "outputs": []
    },
    {
      "metadata": {
        "trusted": true
      },
      "cell_type": "code",
      "source": "triangle = [\n     [2],\n    [3,4],\n   [6,5,7],\n  [4,1,8,3]\n]",
      "execution_count": 2,
      "outputs": []
    },
    {
      "metadata": {
        "trusted": true
      },
      "cell_type": "code",
      "source": "minimumTotal(triangle)",
      "execution_count": 3,
      "outputs": [
        {
          "output_type": "execute_result",
          "execution_count": 3,
          "data": {
            "text/plain": "11"
          },
          "metadata": {}
        }
      ]
    },
    {
      "metadata": {
        "trusted": true
      },
      "cell_type": "code",
      "source": "",
      "execution_count": null,
      "outputs": []
    }
  ],
  "metadata": {
    "kernelspec": {
      "name": "python36",
      "display_name": "Python 3.6",
      "language": "python"
    },
    "language_info": {
      "mimetype": "text/x-python",
      "nbconvert_exporter": "python",
      "name": "python",
      "pygments_lexer": "ipython3",
      "version": "3.6.6",
      "file_extension": ".py",
      "codemirror_mode": {
        "version": 3,
        "name": "ipython"
      }
    }
  },
  "nbformat": 4,
  "nbformat_minor": 2
}