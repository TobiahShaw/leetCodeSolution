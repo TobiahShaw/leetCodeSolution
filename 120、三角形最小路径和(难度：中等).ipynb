{
 "cells": [
  {
   "cell_type": "markdown",
   "metadata": {
    "collapsed": true
   },
   "source": [
    "# 三角形最小路径和\n",
    "\n",
    "**题目来源：力扣（LeetCode）**\n",
    "\n",
    "**链接：https://leetcode-cn.com/problems/triangle/**\n",
    "\n",
    "## 一、题目\n",
    "\n",
    "给定一个三角形 triangle ，找出自顶向下的最小路径和。\n",
    "\n",
    "每一步只能移动到下一行中相邻的结点上。相邻的结点 在这里指的是 下标 与 上一层结点下标 相同或者等于 上一层结点下标 + 1 的两个结点。也就是说，如果正位于当前行的下标 i ，那么下一步可以移动到下一行的下标 i 或 i + 1 。\n",
    "\n",
    "### 提示：\n",
    "\n",
    "- 1 <= triangle.length <= 200\n",
    "- triangle[0].length == 1\n",
    "- triangle[i].length == triangle[i - 1].length + 1\n",
    "- -10^4 <= triangle[i][j] <= 10^4\n",
    "\n",
    "## 二、示例\n",
    "\n",
    "### 示例 1：\n",
    "\n",
    "输入：triangle = [[2],[3,4],[6,5,7],[4,1,8,3]]\n",
    "\n",
    "输出：11\n",
    "\n",
    "解释：如下面简图所示：\n",
    "\n",
    "```\n",
    "   2\n",
    "  3 4\n",
    " 6 5 7\n",
    "4 1 8 3\n",
    "```\n",
    "\n",
    "自顶向下的最小路径和为 11（即，2 + 3 + 5 + 1 = 11）。\n",
    "\n",
    "### 示例 2：\n",
    "\n",
    "输入：triangle = [[-10]]\n",
    "\n",
    "输出：-10\n",
    "\n",
    "## 三、解题思路\n",
    "\n",
    "### 动态规划\n",
    "\n",
    "从上到下和从下到上寻找路径的思考方式本质是否一样？\n",
    "\n",
    "假设 dp[i][j] 代表三角形第i行第j列的最优解，从上到下和从下到上那种递推方式更简单\n",
    "\n",
    "#### 算法思路\n",
    "\n",
    "1. 设置一个二维数组，最优值三角形dp，并初始化数组元素为0。dp[i][j] 代表从低至上推时，走到三角形第i行第j列的最优解。\n",
    "2. 从三角形底面向上面进行动态规划：\n",
    "    1. 底面上的值即为底面的最优值；\n",
    "    2. 利用 i 循环，从倒数第二层递推至第一层，对于每层各列进行动态规划递推：dp[i][j] = min(dp[i+1][j], dp[i+1][j+1]) + triangle[i][j]\n",
    "    3. 返回dp[0][0]"
   ]
  },
  {
   "cell_type": "code",
   "execution_count": 1,
   "metadata": {},
   "outputs": [],
   "source": [
    "def minimumTotal(triangle) -> int:\n",
    "    if not triangle:\n",
    "        return 0\n",
    "    if len(triangle) == 1:\n",
    "        return triangle[0][0]\n",
    "    height = len(triangle)\n",
    "    dp = [[0] * (i + 1) for i in range(height)]\n",
    "    for i in range(height):\n",
    "        dp[-1][i] = triangle[-1][i]\n",
    "    for i in range(height - 2, 0 - 1, -1):\n",
    "        for j in range(i + 1):\n",
    "            dp[i][j] = min(dp[i+1][j], dp[i+1][j+1]) + triangle[i][j]\n",
    "    return dp[0][0]"
   ]
  },
  {
   "cell_type": "code",
   "execution_count": 2,
   "metadata": {},
   "outputs": [],
   "source": [
    "triangle = [\n",
    "     [2],\n",
    "    [3,4],\n",
    "   [6,5,7],\n",
    "  [4,1,8,3]\n",
    "]"
   ]
  },
  {
   "cell_type": "code",
   "execution_count": 3,
   "metadata": {},
   "outputs": [
    {
     "data": {
      "text/plain": [
       "11"
      ]
     },
     "execution_count": 3,
     "metadata": {},
     "output_type": "execute_result"
    }
   ],
   "source": [
    "minimumTotal(triangle)"
   ]
  },
  {
   "cell_type": "code",
   "execution_count": null,
   "metadata": {},
   "outputs": [],
   "source": []
  }
 ],
 "metadata": {
  "kernelspec": {
   "display_name": "Python 3",
   "language": "python",
   "name": "python3"
  },
  "language_info": {
   "codemirror_mode": {
    "name": "ipython",
    "version": 3
   },
   "file_extension": ".py",
   "mimetype": "text/x-python",
   "name": "python",
   "nbconvert_exporter": "python",
   "pygments_lexer": "ipython3",
   "version": "3.6.5"
  }
 },
 "nbformat": 4,
 "nbformat_minor": 2
}
