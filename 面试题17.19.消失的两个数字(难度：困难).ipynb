{
 "cells": [
  {
   "cell_type": "markdown",
   "metadata": {},
   "source": [
    "# 消失的两个数字\n",
    "\n",
    "**题目来源：力扣（LeetCode）**\n",
    "\n",
    "**链接：https://leetcode.cn/problems/missing-two-lcci/**\n",
    "\n",
    "## 一、题目\n",
    "\n",
    "给定一个数组，包含从 1 到 N 所有的整数，但其中缺了两个数字。你能在 O(N) 时间内只用 O(1) 的空间找到它们吗？\n",
    "\n",
    "以任意顺序返回这两个数字均可。\n",
    "\n",
    "### 提示：\n",
    "\n",
    "- nums.length <= 30000\n",
    "\n",
    "## 二、示例\n",
    "\n",
    "### 示例 1:\n",
    "\n",
    "输入: [1]\n",
    "\n",
    "输出: [2,3]\n",
    "\n",
    "### 示例 2:\n",
    "\n",
    "输入: [2,3]\n",
    "\n",
    "输出: [1,4]\n",
    "\n",
    "## 三、解题思路\n",
    "\n",
    "### 数学\n",
    "\n",
    "缺的两数为x、y，首先我们计算出n数的和以及实际和，差值即为a = x + y； 然后我们计算出n数的平方和与实际和，差值即为b = x * x + y * y。联立得到一元二次方程，不难得出两根分别为(a (+-) sqrt(2 * b - a * a)) / 2。"
   ]
  },
  {
   "cell_type": "code",
   "execution_count": 1,
   "metadata": {},
   "outputs": [],
   "source": [
    "from math import sqrt\n",
    "\n",
    "class Solution:\n",
    "    def missingTwo(self, nums):\n",
    "        n= len(nums) + 2\n",
    "        # x + y\n",
    "        sumA = (1 + n) * n // 2 - sum(nums)\n",
    "        # x^2 + y^2\n",
    "        sumB = (1 + n) * n // 2 * (2 * n + 1) // 3 - sum([x**2 for x in nums])\n",
    "        tmp = int(sqrt(2 * sumB - sumA ** 2))\n",
    "        return [(sumA + tmp) // 2, (sumA - tmp) // 2]"
   ]
  },
  {
   "cell_type": "code",
   "execution_count": 2,
   "metadata": {},
   "outputs": [
    {
     "data": {
      "text/plain": [
       "[3, 2]"
      ]
     },
     "execution_count": 2,
     "metadata": {},
     "output_type": "execute_result"
    }
   ],
   "source": [
    "s = Solution()\n",
    "s.missingTwo([1])"
   ]
  },
  {
   "cell_type": "code",
   "execution_count": 3,
   "metadata": {},
   "outputs": [
    {
     "data": {
      "text/plain": [
       "[4, 1]"
      ]
     },
     "execution_count": 3,
     "metadata": {},
     "output_type": "execute_result"
    }
   ],
   "source": [
    "s.missingTwo([2, 3])"
   ]
  },
  {
   "cell_type": "code",
   "execution_count": null,
   "metadata": {},
   "outputs": [],
   "source": []
  }
 ],
 "metadata": {
  "kernelspec": {
   "display_name": "Python 3.10.4 64-bit",
   "language": "python",
   "name": "python3"
  },
  "language_info": {
   "codemirror_mode": {
    "name": "ipython",
    "version": 3
   },
   "file_extension": ".py",
   "mimetype": "text/x-python",
   "name": "python",
   "nbconvert_exporter": "python",
   "pygments_lexer": "ipython3",
   "version": "3.10.4"
  },
  "orig_nbformat": 4,
  "vscode": {
   "interpreter": {
    "hash": "4f946df053fbf2b937619d3c5458e7af74262f9a954d8797ba0b27400bcafe06"
   }
  }
 },
 "nbformat": 4,
 "nbformat_minor": 2
}
