{
 "cells": [
  {
   "cell_type": "markdown",
   "metadata": {},
   "source": [
    "# 完全二叉树插入器\n",
    "\n",
    "**题目来源：力扣（LeetCode）**\n",
    "\n",
    "**链接：https://leetcode-cn.com/problems/complete-binary-tree-inserter/**\n",
    "\n",
    "## 一、题目\n",
    "\n",
    "完全二叉树 是每一层（除最后一层外）都是完全填充（即，节点数达到最大）的，并且所有的节点都尽可能地集中在左侧。\n",
    "\n",
    "设计一种算法，将一个新节点插入到一个完整的二叉树中，并在插入后保持其完整。\n",
    "\n",
    "实现 CBTInserter 类:\n",
    "\n",
    "- CBTInserter(TreeNode root) 使用头节点为 root 的给定树初始化该数据结构；\n",
    "- CBTInserter.insert(int v)  向树中插入一个值为 Node.val == val的新节点 TreeNode。使树保持完全二叉树的状态，并返回插入节点 TreeNode 的父节点的值；\n",
    "- CBTInserter.get_root() 将返回树的头节点。\n",
    "\n",
    "### 提示：\n",
    "\n",
    "- 树中节点数量范围为 [1, 1000] \n",
    "- 0 <= Node.val <= 5000\n",
    "- root 是完全二叉树\n",
    "- 0 <= val <= 5000 \n",
    "- 每个测试用例最多调用 insert 和 get_root 操作 10^4 次\n",
    "\n",
    "## 二、示例\n",
    "\n",
    "输入\n",
    "\n",
    "[\"CBTInserter\", \"insert\", \"insert\", \"get_root\"]\n",
    "\n",
    "[[[1, 2]], [3], [4], []]\n",
    "\n",
    "输出\n",
    "\n",
    "[null, 1, 2, [1, 2, 3, 4]]\n",
    "\n",
    "解释\n",
    "\n",
    "```\n",
    "cBTInserter = CBTInserter(root);\n",
    "cBTInserter.insert(3);  // 返回 1\n",
    "cBTInserter.insert(4);  // 返回 2\n",
    "cBTInserter.get_root(); // 返回 [1, 2, 3, 4]\n",
    "```\n",
    "\n",
    "## 三、解题思路"
   ]
  },
  {
   "cell_type": "code",
   "execution_count": 1,
   "metadata": {},
   "outputs": [],
   "source": [
    "class TreeNode:\n",
    "    def __init__(self, val=0, left=None, right=None):\n",
    "        self.val = val\n",
    "        self.left = left\n",
    "        self.right = right\n",
    "        \n",
    "root = TreeNode(1)\n",
    "\n",
    "root.left = TreeNode(2)\n",
    "root.right = TreeNode(3)\n",
    "\n",
    "root.left.left = TreeNode(4)\n",
    "\n",
    "def bfs(root):\n",
    "    if not root:\n",
    "        return []\n",
    "    layer = [root]\n",
    "    ret = []\n",
    "    while layer:\n",
    "        next_layer = []\n",
    "        for node in layer:\n",
    "            ret.append(node.val)\n",
    "            if node.left:\n",
    "                next_layer.append(node.left)\n",
    "            if node.right:\n",
    "                next_layer.append(node.right)\n",
    "        layer = next_layer\n",
    "    return ret"
   ]
  },
  {
   "cell_type": "markdown",
   "metadata": {},
   "source": [
    "### 层序遍历"
   ]
  },
  {
   "cell_type": "code",
   "execution_count": 2,
   "metadata": {},
   "outputs": [],
   "source": [
    "class CBTInserter:\n",
    "\n",
    "    def __init__(self, root: TreeNode):\n",
    "        self.root = root\n",
    "        self.initLayer(root)\n",
    "    \n",
    "    def initLayer(self, root: TreeNode):\n",
    "        layer = [root]\n",
    "        while layer:\n",
    "            next_layer = []\n",
    "            i = 0\n",
    "            for node in layer:\n",
    "                if node.left:\n",
    "                    next_layer.append(node.left)\n",
    "                else:\n",
    "                    self.current_layer = layer\n",
    "                    self.index = i\n",
    "                    return\n",
    "                if node.right:\n",
    "                    next_layer.append(node.right)\n",
    "                else:\n",
    "                    self.current_layer = layer\n",
    "                    self.index = i\n",
    "                    return\n",
    "                i += 1\n",
    "            layer = next_layer\n",
    "\n",
    "    def insert(self, val: int) -> int:\n",
    "        if self.index >= len(self.current_layer):\n",
    "            next_layer = []\n",
    "            for node in self.current_layer:\n",
    "                next_layer.append(node.left)\n",
    "                next_layer.append(node.right)\n",
    "            self.current_layer = next_layer\n",
    "            self.index = 0\n",
    "        parent = self.current_layer[self.index]\n",
    "        if parent.left:\n",
    "            parent.right = TreeNode(val)\n",
    "            self.index += 1\n",
    "        else:\n",
    "            parent.left = TreeNode(val)\n",
    "        return parent.val\n",
    "\n",
    "    def get_root(self) -> TreeNode:\n",
    "        return self.root"
   ]
  },
  {
   "cell_type": "code",
   "execution_count": 3,
   "metadata": {},
   "outputs": [
    {
     "data": {
      "text/plain": [
       "[1, 2, 3, 4, 5, 6]"
      ]
     },
     "execution_count": 3,
     "metadata": {},
     "output_type": "execute_result"
    }
   ],
   "source": [
    "mCBTInserter = CBTInserter(root)\n",
    "mCBTInserter.insert(5)\n",
    "mCBTInserter.insert(6)\n",
    "bfs(mCBTInserter.get_root())"
   ]
  },
  {
   "cell_type": "code",
   "execution_count": null,
   "metadata": {},
   "outputs": [],
   "source": []
  }
 ],
 "metadata": {
  "kernelspec": {
   "display_name": "Python 3",
   "language": "python",
   "name": "python3"
  },
  "language_info": {
   "codemirror_mode": {
    "name": "ipython",
    "version": 3
   },
   "file_extension": ".py",
   "mimetype": "text/x-python",
   "name": "python",
   "nbconvert_exporter": "python",
   "pygments_lexer": "ipython3",
   "version": "3.6.5"
  }
 },
 "nbformat": 4,
 "nbformat_minor": 2
}
