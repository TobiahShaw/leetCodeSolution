{
 "cells": [
  {
   "cell_type": "markdown",
   "metadata": {},
   "source": [
    "# 重新排列字符串\n",
    "\n",
    "**题目来源：力扣（LeetCode）**\n",
    "\n",
    "**链接：https://leetcode-cn.com/problems/shuffle-string/**\n",
    "\n",
    "## 一、题目\n",
    "\n",
    "给你一个字符串 s 和一个 长度相同 的整数数组 indices 。\n",
    "\n",
    "请你重新排列字符串 s ，其中第 i 个字符需要移动到 indices[i] 指示的位置。\n",
    "\n",
    "返回重新排列后的字符串。\n",
    "\n",
    "## 二、示例\n",
    "\n",
    "### 示例 1：\n",
    "\n",
    "输入：s = \"codeleet\", indices = [4,5,6,7,0,2,1,3]\n",
    "\n",
    "输出：\"leetcode\"\n",
    "\n",
    "解释：\"codeleet\" 重新排列后变为 \"leetcode\" 。\n",
    "\n",
    "### 示例 2：\n",
    "\n",
    "输入：s = \"abc\", indices = [0,1,2]\n",
    "\n",
    "输出：\"abc\"\n",
    "\n",
    "解释：重新排列后，每个字符都还留在原来的位置上。\n",
    "\n",
    "### 示例 3：\n",
    "\n",
    "输入：s = \"aiohn\", indices = [3,1,4,2,0]\n",
    "\n",
    "输出：\"nihao\"\n",
    "\n",
    "### 示例 4：\n",
    "\n",
    "输入：s = \"aaiougrt\", indices = [4,0,2,6,7,3,1,5]\n",
    "\n",
    "输出：\"arigatou\"\n",
    "\n",
    "### 示例 5：\n",
    "\n",
    "输入：s = \"art\", indices = [1,0,2]\n",
    "\n",
    "输出：\"rat\"\n",
    "\n",
    "## 三、解题思路\n",
    "\n",
    "### 轮询"
   ]
  },
  {
   "cell_type": "code",
   "execution_count": 1,
   "metadata": {},
   "outputs": [],
   "source": [
    "def restoreString(s: str, indices) -> str:\n",
    "    retArr = [''] * len(s)\n",
    "    for i in range(len(indices)):\n",
    "        retArr[indices[i]] = s[i]\n",
    "    return \"\".join(retArr)"
   ]
  },
  {
   "cell_type": "code",
   "execution_count": 2,
   "metadata": {},
   "outputs": [
    {
     "data": {
      "text/plain": [
       "'leetcode'"
      ]
     },
     "execution_count": 2,
     "metadata": {},
     "output_type": "execute_result"
    }
   ],
   "source": [
    "restoreString(s = \"codeleet\", indices = [4,5,6,7,0,2,1,3])"
   ]
  },
  {
   "cell_type": "code",
   "execution_count": 3,
   "metadata": {},
   "outputs": [
    {
     "data": {
      "text/plain": [
       "'abc'"
      ]
     },
     "execution_count": 3,
     "metadata": {},
     "output_type": "execute_result"
    }
   ],
   "source": [
    "restoreString(s = \"abc\", indices = [0,1,2])"
   ]
  },
  {
   "cell_type": "code",
   "execution_count": 4,
   "metadata": {},
   "outputs": [
    {
     "data": {
      "text/plain": [
       "'nihao'"
      ]
     },
     "execution_count": 4,
     "metadata": {},
     "output_type": "execute_result"
    }
   ],
   "source": [
    "restoreString(s = \"aiohn\", indices = [3,1,4,2,0])"
   ]
  },
  {
   "cell_type": "code",
   "execution_count": 5,
   "metadata": {},
   "outputs": [
    {
     "data": {
      "text/plain": [
       "'arigatou'"
      ]
     },
     "execution_count": 5,
     "metadata": {},
     "output_type": "execute_result"
    }
   ],
   "source": [
    "restoreString(s = \"aaiougrt\", indices = [4,0,2,6,7,3,1,5])"
   ]
  },
  {
   "cell_type": "code",
   "execution_count": 6,
   "metadata": {},
   "outputs": [
    {
     "data": {
      "text/plain": [
       "'rat'"
      ]
     },
     "execution_count": 6,
     "metadata": {},
     "output_type": "execute_result"
    }
   ],
   "source": [
    "restoreString(s = \"art\", indices = [1,0,2])"
   ]
  },
  {
   "cell_type": "code",
   "execution_count": null,
   "metadata": {},
   "outputs": [],
   "source": []
  }
 ],
 "metadata": {
  "kernelspec": {
   "display_name": "Python 3",
   "language": "python",
   "name": "python3"
  },
  "language_info": {
   "codemirror_mode": {
    "name": "ipython",
    "version": 3
   },
   "file_extension": ".py",
   "mimetype": "text/x-python",
   "name": "python",
   "nbconvert_exporter": "python",
   "pygments_lexer": "ipython3",
   "version": "3.6.5"
  }
 },
 "nbformat": 4,
 "nbformat_minor": 2
}
