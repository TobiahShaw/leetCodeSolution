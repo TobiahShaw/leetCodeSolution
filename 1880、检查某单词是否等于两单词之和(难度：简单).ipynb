{
 "cells": [
  {
   "cell_type": "markdown",
   "metadata": {},
   "source": [
    "# 检查某单词是否等于两单词之和\n",
    "\n",
    "**题目来源：力扣（LeetCode）**\n",
    "\n",
    "**链接：https://leetcode-cn.com/problems/check-if-word-equals-summation-of-two-words/**\n",
    "\n",
    "## 一、题目\n",
    "\n",
    "字母的 字母值 取决于字母在字母表中的位置，从 0 开始 计数。即，'a' -> 0、'b' -> 1、'c' -> 2，以此类推。\n",
    "\n",
    "对某个由小写字母组成的字符串 s 而言，其 数值 就等于将 s 中每个字母的 字母值 按顺序 连接 并 转换 成对应整数。\n",
    "\n",
    "- 例如，s = \"acb\" ，依次连接每个字母的字母值可以得到 \"021\" ，转换为整数得到 21 。\n",
    "\n",
    "给你三个字符串 firstWord、secondWord 和 targetWord ，每个字符串都由从 'a' 到 'j' （含 'a' 和 'j' ）的小写英文字母组成。\n",
    "\n",
    "如果 firstWord 和 secondWord 的 数值之和 等于 targetWord 的数值，返回 true ；否则，返回 false 。\n",
    "\n",
    "### 提示：\n",
    "\n",
    "- 1 <= firstWord.length, secondWord.length, targetWord.length <= 8\n",
    "- firstWord、secondWord 和 targetWord 仅由从 'a' 到 'j' （含 'a' 和 'j' ）的小写英文字母组成。\n",
    "\n",
    "## 二、示例\n",
    "\n",
    "### 示例 1：\n",
    "\n",
    "输入：firstWord = \"acb\", secondWord = \"cba\", targetWord = \"cdb\"\n",
    "\n",
    "输出：true\n",
    "\n",
    "解释：\n",
    "\n",
    "- firstWord 的数值为 \"acb\" -> \"021\" -> 21\n",
    "- secondWord 的数值为 \"cba\" -> \"210\" -> 210\n",
    "- targetWord 的数值为 \"cdb\" -> \"231\" -> 231\n",
    "\n",
    "由于 21 + 210 == 231 ，返回 true\n",
    "\n",
    "### 示例 2：\n",
    "\n",
    "输入：firstWord = \"aaa\", secondWord = \"a\", targetWord = \"aab\"\n",
    "\n",
    "输出：false\n",
    "\n",
    "解释：\n",
    "\n",
    "- firstWord 的数值为 \"aaa\" -> \"000\" -> 0\n",
    "- secondWord 的数值为 \"a\" -> \"0\" -> 0\n",
    "- targetWord 的数值为 \"aab\" -> \"001\" -> 1\n",
    "\n",
    "由于 0 + 0 != 1 ，返回 false\n",
    "\n",
    "### 示例 3：\n",
    "\n",
    "输入：firstWord = \"aaa\", secondWord = \"a\", targetWord = \"aaaa\"\n",
    "\n",
    "输出：true\n",
    "\n",
    "解释：\n",
    "\n",
    "- firstWord 的数值为 \"aaa\" -> \"000\" -> 0\n",
    "- secondWord 的数值为 \"a\" -> \"0\" -> 0\n",
    "- targetWord 的数值为 \"aaaa\" -> \"0000\" -> 0\n",
    "\n",
    "由于 0 + 0 == 0 ，返回 true\n",
    "\n",
    "## 三、解题思路\n",
    "\n",
    "### 模拟过程"
   ]
  },
  {
   "cell_type": "code",
   "execution_count": 1,
   "metadata": {},
   "outputs": [],
   "source": [
    "def isSumEqual(firstWord: str, secondWord: str, targetWord: str) -> bool:\n",
    "    def getValue(s):\n",
    "        ret = 0\n",
    "        for ch in s:\n",
    "            ret = ret * 10 + int(ord(ch) - ord('a'))\n",
    "        return ret\n",
    "    return getValue(firstWord) + getValue(secondWord) == getValue(targetWord)"
   ]
  },
  {
   "cell_type": "code",
   "execution_count": 2,
   "metadata": {},
   "outputs": [
    {
     "data": {
      "text/plain": [
       "True"
      ]
     },
     "execution_count": 2,
     "metadata": {},
     "output_type": "execute_result"
    }
   ],
   "source": [
    "isSumEqual(firstWord = \"acb\", secondWord = \"cba\", targetWord = \"cdb\")"
   ]
  },
  {
   "cell_type": "code",
   "execution_count": 3,
   "metadata": {},
   "outputs": [
    {
     "data": {
      "text/plain": [
       "False"
      ]
     },
     "execution_count": 3,
     "metadata": {},
     "output_type": "execute_result"
    }
   ],
   "source": [
    "isSumEqual(firstWord = \"aaa\", secondWord = \"a\", targetWord = \"aab\")"
   ]
  },
  {
   "cell_type": "code",
   "execution_count": 4,
   "metadata": {},
   "outputs": [
    {
     "data": {
      "text/plain": [
       "True"
      ]
     },
     "execution_count": 4,
     "metadata": {},
     "output_type": "execute_result"
    }
   ],
   "source": [
    "isSumEqual(firstWord = \"aaa\", secondWord = \"a\", targetWord = \"aaaa\")"
   ]
  },
  {
   "cell_type": "code",
   "execution_count": null,
   "metadata": {},
   "outputs": [],
   "source": []
  }
 ],
 "metadata": {
  "kernelspec": {
   "display_name": "Python 3",
   "language": "python",
   "name": "python3"
  },
  "language_info": {
   "codemirror_mode": {
    "name": "ipython",
    "version": 3
   },
   "file_extension": ".py",
   "mimetype": "text/x-python",
   "name": "python",
   "nbconvert_exporter": "python",
   "pygments_lexer": "ipython3",
   "version": "3.6.5"
  }
 },
 "nbformat": 4,
 "nbformat_minor": 2
}
