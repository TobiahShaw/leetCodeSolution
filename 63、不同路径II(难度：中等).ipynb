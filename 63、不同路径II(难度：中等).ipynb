{
 "cells": [
  {
   "cell_type": "markdown",
   "metadata": {},
   "source": [
    "# 不同路径II\n",
    "\n",
    "**题目来源：力扣（LeetCode）**\n",
    "\n",
    "**链接：https://leetcode-cn.com/problems/unique-paths-ii/**\n",
    "\n",
    "## 一、题目\n",
    "\n",
    "一个机器人位于一个 m x n 网格的左上角 （起始点在下图中标记为“Start” ）。\n",
    "\n",
    "机器人每次只能向下或者向右移动一步。机器人试图达到网格的右下角（在下图中标记为“Finish”）。\n",
    "\n",
    "现在考虑网格中有障碍物。那么从左上角到右下角将会有多少条不同的路径？\n",
    "\n",
    "网格中的障碍物和空位置分别用 1 和 0 来表示。\n",
    "\n",
    "### 提示：\n",
    "\n",
    "- m == obstacleGrid.length\n",
    "- n == obstacleGrid[i].length\n",
    "- 1 <= m, n <= 100\n",
    "- obstacleGrid[i][j] 为 0 或 1\n",
    "\n",
    "## 二、示例\n",
    "\n",
    "### 示例 1：\n",
    "\n",
    "输入：obstacleGrid = [[0,0,0],[0,1,0],[0,0,0]]\n",
    "\n",
    "输出：2\n",
    "\n",
    "解释：\n",
    "\n",
    "3x3 网格的正中间有一个障碍物。\n",
    "\n",
    "从左上角到右下角一共有 2 条不同的路径：\n",
    "\n",
    "1. 向右 -> 向右 -> 向下 -> 向下\n",
    "2. 向下 -> 向下 -> 向右 -> 向右\n",
    "\n",
    "### 示例 2：\n",
    "\n",
    "输入：obstacleGrid = [[0,1],[0,0]]\n",
    "\n",
    "输出：1\n",
    "\n",
    "## 三、解题思路\n",
    "\n",
    "### 动态规划\n",
    "\n",
    "1. 障碍物处路径数为0，起始位置dp[0][0]根据障碍物决定是0还是1\n",
    "2. 其他位置由其左边和上面的路径数和是否又障碍物决定，即状态转移方程：dp[r][c] = 0 if obstacleGrid[r][c] == 1 else dp[r][c-1] + dp[r-1][c]"
   ]
  },
  {
   "cell_type": "code",
   "execution_count": 1,
   "metadata": {},
   "outputs": [],
   "source": [
    "def uniquePathsWithObstacles(obstacleGrid) -> int:\n",
    "    m, n = len(obstacleGrid), len(obstacleGrid[0])\n",
    "    dp = [[0] * n for _ in range(m)]\n",
    "    dp[0][0] = 0 if obstacleGrid[0][0] == 1 else 1\n",
    "    for c in range(1, n):\n",
    "        dp[0][c] = 0 if obstacleGrid[0][c] == 1 else dp[0][c-1]\n",
    "    for r in range(1, m):\n",
    "        dp[r][0] = 0 if obstacleGrid[r][0] == 1 else dp[r-1][0]\n",
    "    for r in range(1, m):\n",
    "        for c in range(1, n):\n",
    "            dp[r][c] = 0 if obstacleGrid[r][c] == 1 else dp[r][c-1] + dp[r-1][c]\n",
    "    return dp[-1][-1]"
   ]
  },
  {
   "cell_type": "code",
   "execution_count": 2,
   "metadata": {},
   "outputs": [
    {
     "data": {
      "text/plain": [
       "2"
      ]
     },
     "execution_count": 2,
     "metadata": {},
     "output_type": "execute_result"
    }
   ],
   "source": [
    "uniquePathsWithObstacles([[0,0,0],[0,1,0],[0,0,0]])"
   ]
  },
  {
   "cell_type": "code",
   "execution_count": 3,
   "metadata": {},
   "outputs": [
    {
     "data": {
      "text/plain": [
       "1"
      ]
     },
     "execution_count": 3,
     "metadata": {},
     "output_type": "execute_result"
    }
   ],
   "source": [
    "uniquePathsWithObstacles([[0,1],[0,0]])"
   ]
  },
  {
   "cell_type": "code",
   "execution_count": null,
   "metadata": {},
   "outputs": [],
   "source": []
  }
 ],
 "metadata": {
  "kernelspec": {
   "display_name": "Python 3",
   "language": "python",
   "name": "python3"
  },
  "language_info": {
   "codemirror_mode": {
    "name": "ipython",
    "version": 3
   },
   "file_extension": ".py",
   "mimetype": "text/x-python",
   "name": "python",
   "nbconvert_exporter": "python",
   "pygments_lexer": "ipython3",
   "version": "3.6.5"
  }
 },
 "nbformat": 4,
 "nbformat_minor": 2
}
