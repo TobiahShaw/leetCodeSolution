{
  "cells": [
    {
      "metadata": {},
      "cell_type": "markdown",
      "source": "# 两数相加\n\n**题目来源：力扣（LeetCode）**\n\n**链接：https://leetcode-cn.com/problems/add-two-numbers**\n\n## 一、题目\n\n给出两个 非空 的链表用来表示两个非负的整数。其中，它们各自的位数是按照 逆序 的方式存储的，并且它们的每个节点只能存储 一位 数字。\n\n如果，我们将这两个数相加起来，则会返回一个新的链表来表示它们的和。\n\n您可以假设除了数字 0 之外，这两个数都不会以 0 开头。\n\n## 二、实例\n\n输入：(2 -> 4 -> 3) + (5 -> 6 -> 4)\n\n输出：7 -> 0 -> 8\n\n原因：342 + 465 = 807\n\n## 三、解题思路\n\n整体思路可以看作初等数学，对位相加的思想，主要需要考虑的是进位问题和边界条件。\n\n1、首先先定义一个简单的链表\n\n2、根据分析可以得知，当两个链表都取到最后一位后计算结束\n\n3、当只有一个链表取到最后一位，另一个没有时，应用0补位\n\n4、需要考虑进位问题\n\n## 四、复杂度分析\n\n时间复杂度：O(max(m, n))，假设 m 和 n 分别表示 l1 和 l2 的长度，上面的算法最多重复 max(m,n) 次。\n\n空间复杂度：O(max(m, n)， 新列表的长度最多为max(m,n)+1。"
    },
    {
      "metadata": {
        "trusted": false
      },
      "cell_type": "code",
      "source": "class ListNode:\n    def __init__(self, x):\n        self.val = x\n        self.next = None",
      "execution_count": 1,
      "outputs": []
    },
    {
      "metadata": {
        "trusted": false
      },
      "cell_type": "code",
      "source": "def addTwoNumbers(l1: ListNode, l2: ListNode) -> ListNode:\n        result = None\n        resultHeader = None;\n        carry = False\n        while(True):\n            if l1 == None and l2 == None:\n                if carry:\n                    result.next = ListNode(1)\n                return resultHeader;\n            p = (l1.val if l1 else 0) + (l2.val if l2 else 0) + (1 if carry else 0)\n            carry = p // 10\n            if result:\n                result.next = ListNode(p % 10)\n                result = result.next\n            elif carry:\n                result = ListNode(p % 10)\n                resultHeader = result\n                result.next = ListNode(p // 10)\n            else:\n                result = ListNode(p % 10)\n                resultHeader = result\n            \n            l1,l2 = l1.next if l1 else None, l2.next if l2 else None",
      "execution_count": 2,
      "outputs": []
    },
    {
      "metadata": {
        "trusted": false
      },
      "cell_type": "code",
      "source": "l1 = ListNode(2)\nl1.next = ListNode(4)\nl1.next.next = ListNode(3)",
      "execution_count": 3,
      "outputs": []
    },
    {
      "metadata": {
        "trusted": false
      },
      "cell_type": "code",
      "source": "l2 = ListNode(5)\nl2.next = ListNode(6)\nl2.next.next = ListNode(4)",
      "execution_count": 4,
      "outputs": []
    },
    {
      "metadata": {
        "trusted": false
      },
      "cell_type": "code",
      "source": "result = addTwoNumbers(l1, l2)",
      "execution_count": 5,
      "outputs": []
    },
    {
      "metadata": {
        "trusted": false
      },
      "cell_type": "code",
      "source": "def printListNode(node):\n    while(node):\n        print(node.val, end='')\n        node = node.next\n        if node:\n            print('->', end='')",
      "execution_count": 6,
      "outputs": []
    },
    {
      "metadata": {
        "trusted": false
      },
      "cell_type": "code",
      "source": "printListNode(result)",
      "execution_count": 7,
      "outputs": [
        {
          "name": "stdout",
          "output_type": "stream",
          "text": "7->0->8"
        }
      ]
    },
    {
      "metadata": {
        "trusted": false
      },
      "cell_type": "code",
      "source": "",
      "execution_count": null,
      "outputs": []
    }
  ],
  "metadata": {
    "kernelspec": {
      "name": "python3",
      "display_name": "Python 3",
      "language": "python"
    },
    "language_info": {
      "mimetype": "text/x-python",
      "nbconvert_exporter": "python",
      "name": "python",
      "pygments_lexer": "ipython3",
      "version": "3.5.4",
      "file_extension": ".py",
      "codemirror_mode": {
        "version": 3,
        "name": "ipython"
      }
    }
  },
  "nbformat": 4,
  "nbformat_minor": 2
}