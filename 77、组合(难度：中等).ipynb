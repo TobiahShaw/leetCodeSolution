{
 "cells": [
  {
   "cell_type": "markdown",
   "metadata": {},
   "source": [
    "# 组合\n",
    "\n",
    "**题目来源：力扣（LeetCode）**\n",
    "\n",
    "**链接：https://leetcode-cn.com/problems/combinations/**\n",
    "\n",
    "## 一、题目\n",
    "\n",
    "给定两个整数 n 和 k，返回 1 ... n 中所有可能的 k 个数的组合。\n",
    "\n",
    "## 二、示例\n",
    "\n",
    "输入: n = 4, k = 2\n",
    "\n",
    "输出:\n",
    "\n",
    "```\n",
    "[\n",
    "  [2,4],\n",
    "  [3,4],\n",
    "  [2,3],\n",
    "  [1,2],\n",
    "  [1,3],\n",
    "  [1,4],\n",
    "]\n",
    "```\n",
    "\n",
    "## 三、解题思路\n",
    "\n",
    "### 回溯法"
   ]
  },
  {
   "cell_type": "code",
   "execution_count": 1,
   "metadata": {},
   "outputs": [],
   "source": [
    "def combine(n: int, k: int):\n",
    "    def generate(item, i, result):\n",
    "        if len(item) == k:\n",
    "            result.append(item[:])\n",
    "            return\n",
    "        if i > n:\n",
    "            return\n",
    "        item.append(i)\n",
    "        generate(item, i + 1, result)\n",
    "        item.pop()\n",
    "        generate(item, i + 1, result)\n",
    "    result = []\n",
    "    generate([], 1, result)\n",
    "    return result"
   ]
  },
  {
   "cell_type": "code",
   "execution_count": 2,
   "metadata": {},
   "outputs": [
    {
     "data": {
      "text/plain": [
       "[[1, 2], [1, 3], [1, 4], [2, 3], [2, 4], [3, 4]]"
      ]
     },
     "execution_count": 2,
     "metadata": {},
     "output_type": "execute_result"
    }
   ],
   "source": [
    "combine(n = 4, k = 2)"
   ]
  },
  {
   "cell_type": "code",
   "execution_count": null,
   "metadata": {},
   "outputs": [],
   "source": []
  }
 ],
 "metadata": {
  "kernelspec": {
   "display_name": "Python 3",
   "language": "python",
   "name": "python3"
  },
  "language_info": {
   "codemirror_mode": {
    "name": "ipython",
    "version": 3
   },
   "file_extension": ".py",
   "mimetype": "text/x-python",
   "name": "python",
   "nbconvert_exporter": "python",
   "pygments_lexer": "ipython3",
   "version": "3.6.5"
  }
 },
 "nbformat": 4,
 "nbformat_minor": 2
}
