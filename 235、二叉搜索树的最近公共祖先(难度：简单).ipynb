{
 "cells": [
  {
   "cell_type": "markdown",
   "metadata": {
    "collapsed": true
   },
   "source": [
    "# 二叉搜索树的最近公共祖先\n",
    "\n",
    "**题目来源：力扣（LeetCode）**\n",
    "\n",
    "**链接：https://leetcode-cn.com/problems/lowest-common-ancestor-of-a-binary-search-tree/**\n",
    "\n",
    "## 一、题目\n",
    "\n",
    "给定一个二叉搜索树, 找到该树中两个指定节点的最近公共祖先。\n",
    "\n",
    "百度百科中最近公共祖先的定义为：“对于有根树 T 的两个结点 p、q，最近公共祖先表示为一个结点 x，满足 x 是 p、q 的祖先且 x 的深度尽可能大（一个节点也可以是它自己的祖先）。”\n",
    "\n",
    "## 二、示例\n",
    "\n",
    "例如，给定如下二叉树:  root = [3,5,1,6,2,0,8,null,null,7,4]\n",
    "\n",
    "```\n",
    "      6\n",
    "    /   \\\n",
    "   2     8\n",
    "  / \\   /  \\\n",
    " 0   4  7   9\n",
    "   / \\\n",
    "  3   5\n",
    "```\n",
    "\n",
    "### 示例 1:\n",
    "\n",
    "输入: root = [6,2,8,0,4,7,9,null,null,3,5], p = 2, q = 8\n",
    "\n",
    "输出: 6 \n",
    "\n",
    "解释: 节点 2 和节点 8 的最近公共祖先是 6。\n",
    "\n",
    "### 示例 2:\n",
    "\n",
    "输入: root = [6,2,8,0,4,7,9,null,null,3,5], p = 2, q = 4\n",
    "\n",
    "输出: 2\n",
    "\n",
    "解释: 节点 2 和节点 4 的最近公共祖先是 2, 因为根据定义最近公共祖先节点可以为节点本身。\n",
    "\n",
    "## 三、说明\n",
    "\n",
    "- 所有节点的值都是唯一的。\n",
    "- p、q 为不同节点且均存在于给定的二叉树中。\n",
    "\n",
    "## 四、解题思路\n",
    "\n",
    "### 迭代\n",
    "\n",
    "根据二叉搜索树的性质，从根去遍历到分歧点"
   ]
  },
  {
   "cell_type": "code",
   "execution_count": 1,
   "metadata": {},
   "outputs": [],
   "source": [
    "class TreeNode:\n",
    "    def __init__(self, x):\n",
    "        self.val = x\n",
    "        self.left = None\n",
    "        self.right = None"
   ]
  },
  {
   "cell_type": "code",
   "execution_count": 2,
   "metadata": {},
   "outputs": [],
   "source": [
    "root = TreeNode(6)\n",
    "\n",
    "root.left = TreeNode(2)\n",
    "root.right = TreeNode(8)\n",
    "\n",
    "root.left.left = TreeNode(0)\n",
    "root.left.right = TreeNode(4)\n",
    "\n",
    "root.right.left = TreeNode(7)\n",
    "root.right.right = TreeNode(9)\n",
    "\n",
    "root.left.right.left = TreeNode(3)\n",
    "root.left.right.right = TreeNode(5)"
   ]
  },
  {
   "cell_type": "code",
   "execution_count": 3,
   "metadata": {},
   "outputs": [],
   "source": [
    "class Solution:\n",
    "    def lowestCommonAncestor(self, root: 'TreeNode', p: 'TreeNode', q: 'TreeNode') -> 'TreeNode':\n",
    "        while (p.val > root.val and q.val > root.val) or (p.val < root.val and q.val < root.val):\n",
    "            if p.val > root.val and q.val > root.val:\n",
    "                root = root.right\n",
    "            else:\n",
    "                root = root.left\n",
    "        return root"
   ]
  },
  {
   "cell_type": "code",
   "execution_count": 4,
   "metadata": {},
   "outputs": [
    {
     "data": {
      "text/plain": [
       "6"
      ]
     },
     "execution_count": 4,
     "metadata": {},
     "output_type": "execute_result"
    }
   ],
   "source": [
    "s = Solution()\n",
    "s.lowestCommonAncestor(root, root.left, root.right).val"
   ]
  },
  {
   "cell_type": "code",
   "execution_count": 5,
   "metadata": {},
   "outputs": [
    {
     "data": {
      "text/plain": [
       "2"
      ]
     },
     "execution_count": 5,
     "metadata": {},
     "output_type": "execute_result"
    }
   ],
   "source": [
    "s.lowestCommonAncestor(root, root.left, root.left.right).val"
   ]
  },
  {
   "cell_type": "code",
   "execution_count": null,
   "metadata": {},
   "outputs": [],
   "source": []
  }
 ],
 "metadata": {
  "kernelspec": {
   "display_name": "Python 3 (ipykernel)",
   "language": "python",
   "name": "python3"
  },
  "language_info": {
   "codemirror_mode": {
    "name": "ipython",
    "version": 3
   },
   "file_extension": ".py",
   "mimetype": "text/x-python",
   "name": "python",
   "nbconvert_exporter": "python",
   "pygments_lexer": "ipython3",
   "version": "3.11.0"
  }
 },
 "nbformat": 4,
 "nbformat_minor": 2
}
