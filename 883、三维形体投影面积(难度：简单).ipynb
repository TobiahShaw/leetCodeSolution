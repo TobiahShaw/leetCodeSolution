{
 "cells": [
  {
   "cell_type": "markdown",
   "metadata": {},
   "source": [
    "# 三维形体投影面积\n",
    "\n",
    "**题目来源：力扣（LeetCode）**\n",
    "\n",
    "**链接：https://leetcode-cn.com/problems/projection-area-of-3d-shapes/**\n",
    "\n",
    "## 一、题目\n",
    "\n",
    "在 N * N 的网格中，我们放置了一些与 x，y，z 三轴对齐的 1 * 1 * 1 立方体。\n",
    "\n",
    "每个值 v = grid[i][j] 表示 v 个正方体叠放在单元格 (i, j) 上。\n",
    "\n",
    "现在，我们查看这些立方体在 xy、yz 和 zx 平面上的投影。\n",
    "\n",
    "投影就像影子，将三维形体映射到一个二维平面上。\n",
    "\n",
    "在这里，从顶部、前面和侧面看立方体时，我们会看到“影子”。\n",
    "\n",
    "返回所有三个投影的总面积。\n",
    "\n",
    "## 二、示例\n",
    "\n",
    "### 示例 1：\n",
    "\n",
    "输入：[[2]]\n",
    "\n",
    "输出：5\n",
    "\n",
    "### 示例 2：\n",
    "\n",
    "输入：[[1,2],[3,4]]\n",
    "\n",
    "输出：17\n",
    "\n",
    "### 示例 3：\n",
    "\n",
    "输入：[[1,0],[0,2]]\n",
    "\n",
    "输出：8\n",
    "\n",
    "### 示例 4：\n",
    "\n",
    "输入：[[1,1,1],[1,0,1],[1,1,1]]\n",
    "\n",
    "输出：14\n",
    "\n",
    "### 示例 5：\n",
    "\n",
    "输入：[[2,2,2],[2,1,2],[2,2,2]]\n",
    "\n",
    "输出：21\n",
    "\n",
    "## 三、解题思路\n",
    "\n",
    "### 单次扫描"
   ]
  },
  {
   "cell_type": "code",
   "execution_count": 1,
   "metadata": {},
   "outputs": [],
   "source": [
    "def projectionArea(grid) -> int:\n",
    "    ret = 0\n",
    "    m, n = len(grid), len(grid[0])\n",
    "    colMaxs = [0] * n\n",
    "    for i in range(m):\n",
    "        rowMax = 0\n",
    "        for j in range(n):\n",
    "            num = grid[i][j]\n",
    "            if num > 0:\n",
    "                ret += 1\n",
    "                rowMax = max(rowMax, num)\n",
    "                colMaxs[j] = max(colMaxs[j], num)\n",
    "        ret += rowMax\n",
    "    ret += sum(colMaxs)\n",
    "    return ret"
   ]
  },
  {
   "cell_type": "code",
   "execution_count": 2,
   "metadata": {},
   "outputs": [
    {
     "data": {
      "text/plain": [
       "5"
      ]
     },
     "execution_count": 2,
     "metadata": {},
     "output_type": "execute_result"
    }
   ],
   "source": [
    "projectionArea([[2]])"
   ]
  },
  {
   "cell_type": "code",
   "execution_count": 3,
   "metadata": {},
   "outputs": [
    {
     "data": {
      "text/plain": [
       "17"
      ]
     },
     "execution_count": 3,
     "metadata": {},
     "output_type": "execute_result"
    }
   ],
   "source": [
    "projectionArea([[1,2],[3,4]])"
   ]
  },
  {
   "cell_type": "code",
   "execution_count": 4,
   "metadata": {},
   "outputs": [
    {
     "data": {
      "text/plain": [
       "8"
      ]
     },
     "execution_count": 4,
     "metadata": {},
     "output_type": "execute_result"
    }
   ],
   "source": [
    "projectionArea([[1,0],[0,2]])"
   ]
  },
  {
   "cell_type": "code",
   "execution_count": 5,
   "metadata": {},
   "outputs": [
    {
     "data": {
      "text/plain": [
       "14"
      ]
     },
     "execution_count": 5,
     "metadata": {},
     "output_type": "execute_result"
    }
   ],
   "source": [
    "projectionArea([[1,1,1],[1,0,1],[1,1,1]])"
   ]
  },
  {
   "cell_type": "code",
   "execution_count": 6,
   "metadata": {},
   "outputs": [
    {
     "data": {
      "text/plain": [
       "21"
      ]
     },
     "execution_count": 6,
     "metadata": {},
     "output_type": "execute_result"
    }
   ],
   "source": [
    "projectionArea([[2,2,2],[2,1,2],[2,2,2]])"
   ]
  },
  {
   "cell_type": "code",
   "execution_count": null,
   "metadata": {},
   "outputs": [],
   "source": []
  }
 ],
 "metadata": {
  "kernelspec": {
   "display_name": "Python 3",
   "language": "python",
   "name": "python3"
  },
  "language_info": {
   "codemirror_mode": {
    "name": "ipython",
    "version": 3
   },
   "file_extension": ".py",
   "mimetype": "text/x-python",
   "name": "python",
   "nbconvert_exporter": "python",
   "pygments_lexer": "ipython3",
   "version": "3.6.5"
  }
 },
 "nbformat": 4,
 "nbformat_minor": 2
}
