{
 "cells": [
  {
   "cell_type": "markdown",
   "metadata": {},
   "source": [
    "# 单词规律\n",
    "\n",
    "**题目来源：力扣（LeetCode）**\n",
    "\n",
    "**链接：https://leetcode-cn.com/problems/word-pattern/**\n",
    "\n",
    "## 一、题目\n",
    "\n",
    "给定一种规律 pattern 和一个字符串 str ，判断 str 是否遵循相同的规律。\n",
    "\n",
    "这里的 遵循 指完全匹配，例如， pattern 里的每个字母和字符串 str 中的每个非空单词之间存在着双向连接的对应规律。\n",
    "\n",
    "## 二、示例\n",
    "\n",
    "### 示例 1：\n",
    "\n",
    "输入: pattern = \"abba\", str = \"dog cat cat dog\"\n",
    "\n",
    "输出: true\n",
    "\n",
    "### 示例 2:\n",
    "\n",
    "输入:pattern = \"abba\", str = \"dog cat cat fish\"\n",
    "\n",
    "输出: false\n",
    "\n",
    "### ### 示例 3:\n",
    "\n",
    "输入: pattern = \"aaaa\", str = \"dog cat cat dog\"\n",
    "\n",
    "输出: false\n",
    "\n",
    "### 示例 4:\n",
    "\n",
    "输入: pattern = \"abba\", str = \"dog dog dog dog\"\n",
    "\n",
    "输出: false\n",
    "\n",
    "## 三、解题思路\n",
    "\n",
    "### 转为位置\n",
    "\n",
    "- 将pattern的每个字母第一次出现的位置标识为位置数字，并将pattern转为数字列表\n",
    "\n",
    "- 将str转为列表，一样将其每个单词出现的第一次位置作为单词的标识，并将str列表转为数字列表\n",
    "\n",
    "- 比较两个数字列表是否一致\n",
    "\n",
    "#### 1、pythonic"
   ]
  },
  {
   "cell_type": "code",
   "execution_count": 1,
   "metadata": {},
   "outputs": [],
   "source": [
    "def wordPattern(pattern, s) -> bool:\n",
    "    arr = s.split()\n",
    "    return list(map(pattern.index, pattern)) == list(map(arr.index, arr))"
   ]
  },
  {
   "cell_type": "code",
   "execution_count": 2,
   "metadata": {},
   "outputs": [
    {
     "data": {
      "text/plain": [
       "True"
      ]
     },
     "execution_count": 2,
     "metadata": {},
     "output_type": "execute_result"
    }
   ],
   "source": [
    "wordPattern(pattern = \"abba\", s = \"dog cat cat dog\")"
   ]
  },
  {
   "cell_type": "code",
   "execution_count": 3,
   "metadata": {},
   "outputs": [
    {
     "data": {
      "text/plain": [
       "False"
      ]
     },
     "execution_count": 3,
     "metadata": {},
     "output_type": "execute_result"
    }
   ],
   "source": [
    "wordPattern(pattern = \"abba\", s = \"dog cat cat fish\")"
   ]
  },
  {
   "cell_type": "code",
   "execution_count": 4,
   "metadata": {},
   "outputs": [
    {
     "data": {
      "text/plain": [
       "False"
      ]
     },
     "execution_count": 4,
     "metadata": {},
     "output_type": "execute_result"
    }
   ],
   "source": [
    "wordPattern(pattern = \"aaaa\", s = \"dog cat cat dog\")"
   ]
  },
  {
   "cell_type": "code",
   "execution_count": 5,
   "metadata": {},
   "outputs": [
    {
     "data": {
      "text/plain": [
       "False"
      ]
     },
     "execution_count": 5,
     "metadata": {},
     "output_type": "execute_result"
    }
   ],
   "source": [
    "wordPattern(pattern = \"abba\", s = \"dog dog dog dog\")"
   ]
  },
  {
   "cell_type": "markdown",
   "metadata": {},
   "source": [
    "#### 2、一般写法"
   ]
  },
  {
   "cell_type": "code",
   "execution_count": 6,
   "metadata": {},
   "outputs": [],
   "source": [
    "def wordPattern(pattern, s) -> bool:\n",
    "    arr = s.split()\n",
    "    map1,map2 = {}, {}\n",
    "    arr1, arr2 = [], []\n",
    "    for i in range(len(pattern)):\n",
    "        if pattern[i] in map1:\n",
    "            arr1.append(map1[pattern[i]])\n",
    "        else:\n",
    "            map1[pattern[i]] = i\n",
    "            arr1.append(i)\n",
    "    for i in range(len(arr)):\n",
    "        if arr[i] in map2:\n",
    "            arr2.append(map2[arr[i]])\n",
    "        else:\n",
    "            map2[arr[i]] = i\n",
    "            arr2.append(i)\n",
    "    return arr1 == arr2"
   ]
  },
  {
   "cell_type": "code",
   "execution_count": 7,
   "metadata": {},
   "outputs": [
    {
     "data": {
      "text/plain": [
       "True"
      ]
     },
     "execution_count": 7,
     "metadata": {},
     "output_type": "execute_result"
    }
   ],
   "source": [
    "wordPattern(pattern = \"abba\", s = \"dog cat cat dog\")"
   ]
  },
  {
   "cell_type": "code",
   "execution_count": 8,
   "metadata": {},
   "outputs": [
    {
     "data": {
      "text/plain": [
       "False"
      ]
     },
     "execution_count": 8,
     "metadata": {},
     "output_type": "execute_result"
    }
   ],
   "source": [
    "wordPattern(pattern = \"abba\", s = \"dog cat cat fish\")"
   ]
  },
  {
   "cell_type": "code",
   "execution_count": 9,
   "metadata": {},
   "outputs": [
    {
     "data": {
      "text/plain": [
       "False"
      ]
     },
     "execution_count": 9,
     "metadata": {},
     "output_type": "execute_result"
    }
   ],
   "source": [
    "wordPattern(pattern = \"aaaa\", s = \"dog cat cat dog\")"
   ]
  },
  {
   "cell_type": "code",
   "execution_count": 10,
   "metadata": {},
   "outputs": [
    {
     "data": {
      "text/plain": [
       "False"
      ]
     },
     "execution_count": 10,
     "metadata": {},
     "output_type": "execute_result"
    }
   ],
   "source": [
    "wordPattern(pattern = \"abba\", s = \"dog dog dog dog\")"
   ]
  },
  {
   "cell_type": "code",
   "execution_count": null,
   "metadata": {},
   "outputs": [],
   "source": []
  }
 ],
 "metadata": {
  "kernelspec": {
   "display_name": "Python 3",
   "language": "python",
   "name": "python3"
  },
  "language_info": {
   "codemirror_mode": {
    "name": "ipython",
    "version": 3
   },
   "file_extension": ".py",
   "mimetype": "text/x-python",
   "name": "python",
   "nbconvert_exporter": "python",
   "pygments_lexer": "ipython3",
   "version": "3.6.5"
  }
 },
 "nbformat": 4,
 "nbformat_minor": 2
}
