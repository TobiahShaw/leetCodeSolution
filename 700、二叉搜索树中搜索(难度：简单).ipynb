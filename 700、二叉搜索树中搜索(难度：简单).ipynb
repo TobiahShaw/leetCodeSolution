{
  "cells": [
    {
      "metadata": {
        "collapsed": true
      },
      "cell_type": "markdown",
      "source": "# 二叉搜索树中搜索\n\n**题目来源：力扣（LeetCode）**\n\n**链接：https://leetcode-cn.com/problems/search-in-a-binary-search-tree/**\n\n## 一、题目\n\n给定二叉搜索树（BST）的根节点和一个值。 你需要在BST中找到节点值等于给定值的节点。 返回以该节点为根的子树。 如果节点不存在，则返回 NULL。\n\n## 二、示例\n\n给定二叉搜索树:\n\n&emsp;&emsp;&emsp;&emsp;4\n     \n&emsp;&emsp;&emsp;/&emsp;&emsp;\\\n   \n&emsp;&emsp;2&emsp;&emsp;&emsp;7\n  \n&emsp;/&emsp;\\\n \n1&emsp;&emsp;3&emsp;\n\n和值: 2\n\n你应该返回如下子树:\n\n&emsp;&emsp;2\n  \n&emsp;/&emsp;\\\n \n1&emsp;&emsp;3&emsp;\n\n## 解题思路"
    },
    {
      "metadata": {
        "trusted": true
      },
      "cell_type": "code",
      "source": "class TreeNode:\n    def __init__(self, x):\n        self.val = x\n        self.left = None\n        self.right = None",
      "execution_count": 1,
      "outputs": []
    },
    {
      "metadata": {},
      "cell_type": "markdown",
      "source": "### 递归"
    },
    {
      "metadata": {
        "trusted": true
      },
      "cell_type": "code",
      "source": "def searchBST(root, val):\n    if root:\n        if root.val == val:\n            return root\n        if root.val < val:\n            return searchBST(root.right, val)\n        else:\n            return searchBST(root.left, val)",
      "execution_count": 2,
      "outputs": []
    },
    {
      "metadata": {
        "trusted": true
      },
      "cell_type": "code",
      "source": "",
      "execution_count": null,
      "outputs": []
    }
  ],
  "metadata": {
    "kernelspec": {
      "name": "python36",
      "display_name": "Python 3.6",
      "language": "python"
    },
    "language_info": {
      "mimetype": "text/x-python",
      "nbconvert_exporter": "python",
      "name": "python",
      "pygments_lexer": "ipython3",
      "version": "3.6.6",
      "file_extension": ".py",
      "codemirror_mode": {
        "version": 3,
        "name": "ipython"
      }
    }
  },
  "nbformat": 4,
  "nbformat_minor": 2
}