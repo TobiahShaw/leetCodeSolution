{
 "cells": [
  {
   "cell_type": "markdown",
   "metadata": {},
   "source": [
    "# 神奇字符串\n",
    "\n",
    "**题目来源：力扣（LeetCode）**\n",
    "\n",
    "**链接：https://leetcode.cn/problems/magical-string/**\n",
    "\n",
    "## 一、题目\n",
    "\n",
    "神奇字符串 s 仅由 '1' 和 '2' 组成，并需要遵守下面的规则：\n",
    "\n",
    "- 神奇字符串 s 的神奇之处在于，串联字符串中 '1' 和 '2' 的连续出现次数可以生成该字符串。\n",
    "\n",
    "s 的前几个元素是 s = \"1221121221221121122……\" 。如果将 s 中连续的若干 1 和 2 进行分组，可以得到 \"1 22 11 2 1 22 1 22 11 2 11 22 ......\" 。每组中 1 或者 2 的出现次数分别是 \"1 2 2 1 1 2 1 2 2 1 2 2 ......\" 。上面的出现次数正是 s 自身。\n",
    "\n",
    "给你一个整数 n ，返回在神奇字符串 s 的前 n 个数字中 1 的数目。\n",
    "\n",
    "### 提示：\n",
    "\n",
    "- 1 <= n <= 10^5\n",
    "\n",
    "## 二、示例\n",
    "\n",
    "### 示例 1：\n",
    "\n",
    "输入：n = 6\n",
    "\n",
    "输出：3\n",
    "\n",
    "解释：神奇字符串 s 的前 6 个元素是 “122112”，它包含三个 1，因此返回 3 。 \n",
    "\n",
    "### 示例 2：\n",
    "\n",
    "输入：n = 1\n",
    "\n",
    "输出：1\n",
    "\n",
    "## 三、解题思路"
   ]
  },
  {
   "cell_type": "code",
   "execution_count": 1,
   "metadata": {},
   "outputs": [],
   "source": [
    "class Solution:\n",
    "    def magicalString(self, n: int) -> int:\n",
    "        s = [1, 2, 2]\n",
    "        i = 2\n",
    "        while len(s) < n:\n",
    "            s += [s[-1] ^ 3] * s[i]  # 1^3=2, 2^3=1，这样就能在 1 和 2 之间转换\n",
    "            i += 1\n",
    "        return s[:n].count(1)"
   ]
  },
  {
   "cell_type": "code",
   "execution_count": 2,
   "metadata": {},
   "outputs": [
    {
     "data": {
      "text/plain": [
       "3"
      ]
     },
     "execution_count": 2,
     "metadata": {},
     "output_type": "execute_result"
    }
   ],
   "source": [
    "s = Solution()\n",
    "s.magicalString(6)"
   ]
  },
  {
   "cell_type": "code",
   "execution_count": 3,
   "metadata": {},
   "outputs": [
    {
     "data": {
      "text/plain": [
       "1"
      ]
     },
     "execution_count": 3,
     "metadata": {},
     "output_type": "execute_result"
    }
   ],
   "source": [
    "s.magicalString(1)"
   ]
  },
  {
   "cell_type": "code",
   "execution_count": null,
   "metadata": {},
   "outputs": [],
   "source": []
  }
 ],
 "metadata": {
  "kernelspec": {
   "display_name": "Python 3.10.4 64-bit",
   "language": "python",
   "name": "python3"
  },
  "language_info": {
   "codemirror_mode": {
    "name": "ipython",
    "version": 3
   },
   "file_extension": ".py",
   "mimetype": "text/x-python",
   "name": "python",
   "nbconvert_exporter": "python",
   "pygments_lexer": "ipython3",
   "version": "3.10.4"
  },
  "orig_nbformat": 4,
  "vscode": {
   "interpreter": {
    "hash": "4f946df053fbf2b937619d3c5458e7af74262f9a954d8797ba0b27400bcafe06"
   }
  }
 },
 "nbformat": 4,
 "nbformat_minor": 2
}
