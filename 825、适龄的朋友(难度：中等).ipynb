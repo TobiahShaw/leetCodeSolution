{
 "cells": [
  {
   "cell_type": "markdown",
   "metadata": {},
   "source": [
    "# 适龄的朋友\n",
    "\n",
    "**题目来源：力扣（LeetCode）**\n",
    "\n",
    "**链接：https://leetcode-cn.com/problems/friends-of-appropriate-ages/**\n",
    "\n",
    "## 一、题目\n",
    "\n",
    "在社交媒体网站上有 n 个用户。给你一个整数数组 ages ，其中 ages[i] 是第 i 个用户的年龄。\n",
    "\n",
    "如果下述任意一个条件为真，那么用户 x 将不会向用户 y（x != y）发送好友请求：\n",
    "\n",
    "- age[y] <= 0.5 * age[x] + 7\n",
    "- age[y] > age[x]\n",
    "- age[y] > 100 && age[x] < 100\n",
    "\n",
    "否则，x 将会向 y 发送一条好友请求。\n",
    "\n",
    "注意，如果 x 向 y 发送一条好友请求，y 不必也向 x 发送一条好友请求。另外，用户不会向自己发送好友请求。\n",
    "\n",
    "返回在该社交媒体网站上产生的好友请求总数。\n",
    "\n",
    "### 提示：\n",
    "\n",
    "- n == ages.length\n",
    "- 1 <= n <= 2 * 10^4\n",
    "- 1 <= ages[i] <= 120\n",
    "\n",
    "## 二、示例\n",
    "\n",
    "### 示例 1：\n",
    "\n",
    "输入：ages = [16,16]\n",
    "\n",
    "输出：2\n",
    "\n",
    "解释：2 人互发好友请求。\n",
    "\n",
    "### 示例 2：\n",
    "\n",
    "输入：ages = [16,17,18]\n",
    "\n",
    "输出：2\n",
    "\n",
    "解释：产生的好友请求为 17 -> 16 ，18 -> 17 。\n",
    "\n",
    "### 示例 3：\n",
    "\n",
    "输入：ages = [20,30,100,110,120]\n",
    "\n",
    "输出：3\n",
    "\n",
    "解释：产生的好友请求为 110 -> 100 ，120 -> 110 ，120 -> 100 。\n",
    "\n",
    "## 三、解题思路\n",
    "\n",
    "### 排序+双指针"
   ]
  },
  {
   "cell_type": "code",
   "execution_count": 1,
   "metadata": {},
   "outputs": [],
   "source": [
    "def numFriendRequests(ages) -> int:\n",
    "    n = len(ages)\n",
    "    ages.sort()\n",
    "    left = right = ret = 0\n",
    "    for age in ages:\n",
    "        if age < 15:\n",
    "            continue\n",
    "        while ages[left] <= 0.5 * age + 7:\n",
    "            left += 1\n",
    "        while right + 1 < n and ages[right + 1] <= age:\n",
    "            right += 1\n",
    "        ret += right - left\n",
    "    return ret"
   ]
  },
  {
   "cell_type": "code",
   "execution_count": 2,
   "metadata": {},
   "outputs": [
    {
     "data": {
      "text/plain": [
       "2"
      ]
     },
     "execution_count": 2,
     "metadata": {},
     "output_type": "execute_result"
    }
   ],
   "source": [
    "numFriendRequests([16,16])"
   ]
  },
  {
   "cell_type": "code",
   "execution_count": 3,
   "metadata": {},
   "outputs": [
    {
     "data": {
      "text/plain": [
       "2"
      ]
     },
     "execution_count": 3,
     "metadata": {},
     "output_type": "execute_result"
    }
   ],
   "source": [
    "numFriendRequests([16,17,18])"
   ]
  },
  {
   "cell_type": "code",
   "execution_count": 4,
   "metadata": {},
   "outputs": [
    {
     "data": {
      "text/plain": [
       "3"
      ]
     },
     "execution_count": 4,
     "metadata": {},
     "output_type": "execute_result"
    }
   ],
   "source": [
    "numFriendRequests([20,30,100,110,120])"
   ]
  },
  {
   "cell_type": "code",
   "execution_count": null,
   "metadata": {},
   "outputs": [],
   "source": []
  }
 ],
 "metadata": {
  "kernelspec": {
   "display_name": "Python 3",
   "language": "python",
   "name": "python3"
  },
  "language_info": {
   "codemirror_mode": {
    "name": "ipython",
    "version": 3
   },
   "file_extension": ".py",
   "mimetype": "text/x-python",
   "name": "python",
   "nbconvert_exporter": "python",
   "pygments_lexer": "ipython3",
   "version": "3.6.5"
  }
 },
 "nbformat": 4,
 "nbformat_minor": 2
}
