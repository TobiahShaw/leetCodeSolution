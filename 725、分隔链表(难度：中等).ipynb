{
 "cells": [
  {
   "cell_type": "markdown",
   "metadata": {},
   "source": [
    "# 分隔链表\n",
    "\n",
    "**题目来源：力扣（LeetCode）**\n",
    "\n",
    "**链接：https://leetcode-cn.com/problems/split-linked-list-in-parts/**\n",
    "\n",
    "## 一、题目\n",
    "\n",
    "给定一个头结点为 root 的链表, 编写一个函数以将链表分隔为 k 个连续的部分。\n",
    "\n",
    "每部分的长度应该尽可能的相等: 任意两部分的长度差距不能超过 1，也就是说可能有些部分为 null。\n",
    "\n",
    "这k个部分应该按照在链表中出现的顺序进行输出，并且排在前面的部分的长度应该大于或等于后面的长度。\n",
    "\n",
    "返回一个符合上述规则的链表的列表。\n",
    "\n",
    "举例： 1->2->3->4, k = 5 // 5 结果 [ [1], [2], [3], [4], null ]\n",
    "\n",
    "### 提示:\n",
    "\n",
    "- root 的长度范围： [0, 1000].\n",
    "- 输入的每个节点的大小范围：[0, 999].\n",
    "- k 的取值范围： [1, 50].\n",
    "\n",
    "## 二、示例\n",
    "\n",
    "### 示例 1：\n",
    "\n",
    "输入: root = [1, 2, 3], k = 5\n",
    "\n",
    "输出: [[1],[2],[3],[],[]]\n",
    "\n",
    "解释:\n",
    "\n",
    "- 输入输出各部分都应该是链表，而不是数组。\n",
    "- 例如, 输入的结点 root 的 val= 1, root.next.val = 2, \\root.next.next.val = 3, 且 root.next.next.next = null。\n",
    "- 第一个输出 output[0] 是 output[0].val = 1, output[0].next = null。\n",
    "- 最后一个元素 output[4] 为 null, 它代表了最后一个部分为空链表。\n",
    "\n",
    "### 示例 2：\n",
    "\n",
    "输入: root = [1, 2, 3, 4, 5, 6, 7, 8, 9, 10], k = 3\n",
    "\n",
    "输出: [[1, 2, 3, 4], [5, 6, 7], [8, 9, 10]]\n",
    "\n",
    "解释:输入被分成了几个连续的部分，并且每部分的长度相差不超过1.前面部分的长度大于等于后面部分的长度。\n",
    "\n",
    "## 三、解题思路"
   ]
  },
  {
   "cell_type": "code",
   "execution_count": 1,
   "metadata": {},
   "outputs": [],
   "source": [
    "# Definition for singly-linked list.\n",
    "class ListNode:\n",
    "    def __init__(self, val=0, next=None):\n",
    "        self.val = val\n",
    "        self.next = next"
   ]
  },
  {
   "cell_type": "markdown",
   "metadata": {},
   "source": [
    "### 遍历拆分"
   ]
  },
  {
   "cell_type": "code",
   "execution_count": 2,
   "metadata": {},
   "outputs": [],
   "source": [
    "def splitListToParts(head: ListNode, k: int):\n",
    "    # 先遍历链表求长度\n",
    "    size = 0\n",
    "    holder = ListNode(0, head)\n",
    "    while head:\n",
    "        size += 1\n",
    "        head = head.next\n",
    "    head = holder.next\n",
    "    # 计算平局每个长度，在取余数，将结果的前k个加一\n",
    "    per = size // k\n",
    "    pre = size % k\n",
    "    ret = [None] * k\n",
    "    # 分割\n",
    "    for i in range(k):\n",
    "        ret[i] = head\n",
    "        if not head:\n",
    "            continue\n",
    "        len = per + (1 if i < pre else 0)\n",
    "        for j in range(len - 1):\n",
    "            if head:\n",
    "                head = head.next\n",
    "            else:\n",
    "                break\n",
    "        rear = head\n",
    "        if head:\n",
    "            head = head.next\n",
    "            rear.next = None\n",
    "    return ret"
   ]
  },
  {
   "cell_type": "code",
   "execution_count": null,
   "metadata": {},
   "outputs": [],
   "source": []
  }
 ],
 "metadata": {
  "kernelspec": {
   "display_name": "Python 3",
   "language": "python",
   "name": "python3"
  },
  "language_info": {
   "codemirror_mode": {
    "name": "ipython",
    "version": 3
   },
   "file_extension": ".py",
   "mimetype": "text/x-python",
   "name": "python",
   "nbconvert_exporter": "python",
   "pygments_lexer": "ipython3",
   "version": "3.6.5"
  }
 },
 "nbformat": 4,
 "nbformat_minor": 2
}
