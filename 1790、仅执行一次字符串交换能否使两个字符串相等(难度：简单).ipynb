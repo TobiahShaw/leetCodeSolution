{
 "cells": [
  {
   "cell_type": "markdown",
   "metadata": {},
   "source": [
    "# 仅执行一次字符串交换能否使两个字符串相等\n",
    "\n",
    "# 找出星型图的中心节点\n",
    "\n",
    "**题目来源：力扣（LeetCode）**\n",
    "\n",
    "**链接：https://leetcode.cn/problems/check-if-one-string-swap-can-make-strings-equal/**\n",
    "\n",
    "## 一、题目\n",
    "\n",
    "给你长度相等的两个字符串 s1 和 s2 。一次 字符串交换 操作的步骤如下：选出某个字符串中的两个下标（不必不同），并交换这两个下标所对应的字符。\n",
    "\n",
    "如果对 其中一个字符串 执行 最多一次字符串交换 就可以使两个字符串相等，返回 true ；否则，返回 false 。\n",
    "\n",
    "### 提示：\n",
    "\n",
    "- 1 <= s1.length, s2.length <= 100\n",
    "- s1.length == s2.length\n",
    "- s1 和 s2 仅由小写英文字母组成\n",
    "\n",
    "## 二、示例\n",
    "\n",
    "### 示例 1：\n",
    "\n",
    "输入：s1 = \"bank\", s2 = \"kanb\"\n",
    "\n",
    "输出：true\n",
    "\n",
    "解释：例如，交换 s2 中的第一个和最后一个字符可以得到 \"bank\"\n",
    "\n",
    "### 示例 2：\n",
    "\n",
    "输入：s1 = \"attack\", s2 = \"defend\"\n",
    "\n",
    "输出：false\n",
    "\n",
    "解释：一次字符串交换无法使两个字符串相等\n",
    "\n",
    "### 示例 3：\n",
    "\n",
    "输入：s1 = \"kelb\", s2 = \"kelb\"\n",
    "\n",
    "输出：true\n",
    "\n",
    "解释：两个字符串已经相等，所以不需要进行字符串交换\n",
    "\n",
    "### 示例 4：\n",
    "\n",
    "输入：s1 = \"abcd\", s2 = \"dcba\"\n",
    "\n",
    "输出：false\n",
    "\n",
    "## 三、解题思路\n",
    "\n",
    "### 统计计数"
   ]
  },
  {
   "cell_type": "code",
   "execution_count": 1,
   "metadata": {},
   "outputs": [],
   "source": [
    "class Solution:\n",
    "    def areAlmostEqual(self, s1: str, s2: str) -> bool:\n",
    "        i = j = -1\n",
    "        for idx, (x, y) in enumerate(zip(s1, s2)):\n",
    "            if x != y:\n",
    "                if i < 0:\n",
    "                    i = idx\n",
    "                elif j < 0:\n",
    "                    j = idx\n",
    "                else:\n",
    "                    return False\n",
    "        return i < 0 or j >= 0 and s1[i] == s2[j] and s1[j] == s2[i]"
   ]
  },
  {
   "cell_type": "code",
   "execution_count": 2,
   "metadata": {},
   "outputs": [
    {
     "data": {
      "text/plain": [
       "True"
      ]
     },
     "execution_count": 2,
     "metadata": {},
     "output_type": "execute_result"
    }
   ],
   "source": [
    "s = Solution()\n",
    "s.areAlmostEqual(s1 = \"bank\", s2 = \"kanb\")"
   ]
  },
  {
   "cell_type": "code",
   "execution_count": 3,
   "metadata": {},
   "outputs": [
    {
     "data": {
      "text/plain": [
       "False"
      ]
     },
     "execution_count": 3,
     "metadata": {},
     "output_type": "execute_result"
    }
   ],
   "source": [
    "s.areAlmostEqual(s1 = \"attack\", s2 = \"defend\")"
   ]
  },
  {
   "cell_type": "code",
   "execution_count": 4,
   "metadata": {},
   "outputs": [
    {
     "data": {
      "text/plain": [
       "True"
      ]
     },
     "execution_count": 4,
     "metadata": {},
     "output_type": "execute_result"
    }
   ],
   "source": [
    "s.areAlmostEqual(s1 = \"kelb\", s2 = \"kelb\")"
   ]
  },
  {
   "cell_type": "code",
   "execution_count": 5,
   "metadata": {},
   "outputs": [
    {
     "data": {
      "text/plain": [
       "False"
      ]
     },
     "execution_count": 5,
     "metadata": {},
     "output_type": "execute_result"
    }
   ],
   "source": [
    "s.areAlmostEqual(s1 = \"abcd\", s2 = \"dcba\")"
   ]
  },
  {
   "cell_type": "code",
   "execution_count": null,
   "metadata": {},
   "outputs": [],
   "source": []
  }
 ],
 "metadata": {
  "kernelspec": {
   "display_name": "Python 3.10.4 64-bit",
   "language": "python",
   "name": "python3"
  },
  "language_info": {
   "codemirror_mode": {
    "name": "ipython",
    "version": 3
   },
   "file_extension": ".py",
   "mimetype": "text/x-python",
   "name": "python",
   "nbconvert_exporter": "python",
   "pygments_lexer": "ipython3",
   "version": "3.10.4"
  },
  "orig_nbformat": 4,
  "vscode": {
   "interpreter": {
    "hash": "4f946df053fbf2b937619d3c5458e7af74262f9a954d8797ba0b27400bcafe06"
   }
  }
 },
 "nbformat": 4,
 "nbformat_minor": 2
}
