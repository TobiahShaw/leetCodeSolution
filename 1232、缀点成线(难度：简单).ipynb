{
 "cells": [
  {
   "cell_type": "markdown",
   "metadata": {},
   "source": [
    "# 缀点成线\n",
    "\n",
    "**题目来源：力扣（LeetCode）**\n",
    "\n",
    "**链接：https://leetcode-cn.com/problems/check-if-it-is-a-straight-line/**\n",
    "\n",
    "## 一、题目\n",
    "\n",
    "在一个 XY 坐标系中有一些点，我们用数组 coordinates 来分别记录它们的坐标，其中 coordinates[i] = [x, y] 表示横坐标为 x、纵坐标为 y 的点。\n",
    "\n",
    "请你来判断，这些点是否在该坐标系中属于同一条直线上，是则返回 true，否则请返回 false。\n",
    "\n",
    "### 提示：\n",
    "\n",
    "- 2 <= coordinates.length <= 1000\n",
    "- coordinates[i].length == 2\n",
    "- -10^4 <= coordinates[i][0], coordinates[i][1] <= 10^4\n",
    "- coordinates 中不含重复的点\n",
    "\n",
    "## 二、示例\n",
    "\n",
    "### 示例 1：\n",
    "\n",
    "输入：coordinates = [[1,2],[2,3],[3,4],[4,5],[5,6],[6,7]]\n",
    "\n",
    "输出：true\n",
    "\n",
    "### 示例 2：\n",
    "\n",
    "输入：coordinates = [[1,1],[2,2],[3,4],[4,5],[5,6],[7,7]]\n",
    "\n",
    "输出：false\n",
    "\n",
    "## 三、解题思路\n",
    "\n",
    "### 数学方法"
   ]
  },
  {
   "cell_type": "code",
   "execution_count": 1,
   "metadata": {},
   "outputs": [],
   "source": [
    "def checkStraightLine(coordinates) -> bool:\n",
    "    n = len(coordinates)\n",
    "    if n <= 2:\n",
    "        return True\n",
    "    for i in range(len(coordinates)-2):\n",
    "        k1=(coordinates[i][1]-coordinates[i+1][1])*(coordinates[i+1][0]-coordinates[i+2][0])\n",
    "        k2=(coordinates[i+1][1]-coordinates[i+2][1])*(coordinates[i][0]-coordinates[i+1][0])\n",
    "        if k1 != k2:\n",
    "            return False\n",
    "    return True"
   ]
  },
  {
   "cell_type": "code",
   "execution_count": 2,
   "metadata": {},
   "outputs": [
    {
     "data": {
      "text/plain": [
       "True"
      ]
     },
     "execution_count": 2,
     "metadata": {},
     "output_type": "execute_result"
    }
   ],
   "source": [
    "checkStraightLine([[1,2],[2,3],[3,4],[4,5],[5,6],[6,7]])"
   ]
  },
  {
   "cell_type": "code",
   "execution_count": 3,
   "metadata": {},
   "outputs": [
    {
     "data": {
      "text/plain": [
       "False"
      ]
     },
     "execution_count": 3,
     "metadata": {},
     "output_type": "execute_result"
    }
   ],
   "source": [
    "checkStraightLine([[1,1],[2,2],[3,4],[4,5],[5,6],[7,7]])"
   ]
  },
  {
   "cell_type": "code",
   "execution_count": null,
   "metadata": {},
   "outputs": [],
   "source": []
  }
 ],
 "metadata": {
  "kernelspec": {
   "display_name": "Python 3",
   "language": "python",
   "name": "python3"
  },
  "language_info": {
   "codemirror_mode": {
    "name": "ipython",
    "version": 3
   },
   "file_extension": ".py",
   "mimetype": "text/x-python",
   "name": "python",
   "nbconvert_exporter": "python",
   "pygments_lexer": "ipython3",
   "version": "3.6.5"
  }
 },
 "nbformat": 4,
 "nbformat_minor": 2
}
