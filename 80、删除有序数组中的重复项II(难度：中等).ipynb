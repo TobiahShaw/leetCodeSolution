{
 "cells": [
  {
   "cell_type": "markdown",
   "metadata": {},
   "source": [
    "# 删除有序数组中的重复项II\n",
    "\n",
    "**题目来源：力扣（LeetCode）**\n",
    "\n",
    "**链接：https://leetcode-cn.com/problems/remove-duplicates-from-sorted-array-ii/**\n",
    "\n",
    "## 一、题目\n",
    "\n",
    "给你一个有序数组 nums ，请你 原地 删除重复出现的元素，使每个元素 最多出现两次 ，返回删除后数组的新长度。\n",
    "\n",
    "不要使用额外的数组空间，你必须在 原地 修改输入数组 并在使用 O(1) 额外空间的条件下完成。\n",
    "\n",
    "### 说明：\n",
    "\n",
    "为什么返回数值是整数，但输出的答案是数组呢？\n",
    "\n",
    "请注意，输入数组是以「引用」方式传递的，这意味着在函数里修改输入数组对于调用者是可见的。\n",
    "\n",
    "你可以想象内部操作如下:\n",
    "\n",
    "```\n",
    "# nums 是以“引用”方式传递的。也就是说，不对实参做任何拷贝\n",
    "length = removeDuplicates(nums)\n",
    "\n",
    "# 在函数里修改输入数组对于调用者是可见的。\n",
    "# 根据你的函数返回的长度, 它会打印出数组中 该长度范围内 的所有元素。\n",
    "for i in range(length):\n",
    "    print(nums[i])\n",
    "\n",
    "```\n",
    "\n",
    "## 二、示例\n",
    "\n",
    "### 示例 1：\n",
    "\n",
    "输入：nums = [1,1,1,2,2,3]\n",
    "\n",
    "输出：5, nums = [1,1,2,2,3]\n",
    "\n",
    "解释：函数应返回新长度 length = 5, 并且原数组的前五个元素被修改为 1, 1, 2, 2, 3 。 不需要考虑数组中超出新长度后面的元素。\n",
    "\n",
    "### 示例 2：\n",
    "\n",
    "输入：nums = [0,0,1,1,1,1,2,3,3]\n",
    "\n",
    "输出：7, nums = [0,0,1,1,2,3,3]\n",
    "\n",
    "解释：函数应返回新长度 length = 7, 并且原数组的前五个元素被修改为 0, 0, 1, 1, 2, 3, 3 。 不需要考虑数组中超出新长度后面的元素。\n",
    "\n",
    "## 三、解题思路\n",
    "\n",
    "### 双指针"
   ]
  },
  {
   "cell_type": "code",
   "execution_count": 1,
   "metadata": {},
   "outputs": [],
   "source": [
    "def removeDuplicates(nums) -> int:\n",
    "    l = len(nums)\n",
    "    if l <= 2:\n",
    "        return l\n",
    "    i = 2\n",
    "    for j in range(2, len(nums)):\n",
    "        if nums[j] != nums[i - 2]:\n",
    "            nums[i] = nums[j]\n",
    "            i += 1\n",
    "    return i"
   ]
  },
  {
   "cell_type": "code",
   "execution_count": 2,
   "metadata": {},
   "outputs": [
    {
     "name": "stdout",
     "output_type": "stream",
     "text": [
      "1 1 2 2 3 "
     ]
    }
   ],
   "source": [
    "nums = [1,1,1,2,2,3]\n",
    "length = removeDuplicates(nums)\n",
    "for i in range(length):\n",
    "    print(nums[i], end = ' ')"
   ]
  },
  {
   "cell_type": "code",
   "execution_count": 3,
   "metadata": {},
   "outputs": [
    {
     "name": "stdout",
     "output_type": "stream",
     "text": [
      "0 0 1 1 2 3 3 "
     ]
    }
   ],
   "source": [
    "nums = [0,0,1,1,1,1,2,3,3]\n",
    "length = removeDuplicates(nums)\n",
    "for i in range(length):\n",
    "    print(nums[i], end = ' ')"
   ]
  },
  {
   "cell_type": "code",
   "execution_count": null,
   "metadata": {},
   "outputs": [],
   "source": []
  }
 ],
 "metadata": {
  "kernelspec": {
   "display_name": "Python 3",
   "language": "python",
   "name": "python3"
  },
  "language_info": {
   "codemirror_mode": {
    "name": "ipython",
    "version": 3
   },
   "file_extension": ".py",
   "mimetype": "text/x-python",
   "name": "python",
   "nbconvert_exporter": "python",
   "pygments_lexer": "ipython3",
   "version": "3.6.5"
  }
 },
 "nbformat": 4,
 "nbformat_minor": 2
}
