{
  "cells": [
    {
      "metadata": {
        "collapsed": true
      },
      "cell_type": "markdown",
      "source": "# 另一个树的子树\n\n**题目来源：力扣（LeetCode）**\n\n**链接：https://leetcode-cn.com/problems/subtree-of-another-tree/**\n\n## 一、题目\n\n给定两个非空二叉树 s 和 t，检验 s 中是否包含和 t 具有相同结构和节点值的子树。s 的一个子树包括 s 的一个节点和这个节点的所有子孙。s 也可以看做它自身的一棵子树。\n\n## 二、示例\n\n### 示例 1:\n\n给定的树 s:\n\n```\n     3\n    / \\\n   4   5\n  / \\\n 1   2\n```\n\n给定的树 t：\n\n```\n   4 \n  / \\\n 1   2\n```\n\n返回 true，因为 t 与 s 的一个子树拥有相同的结构和节点值。\n\n### 示例 2:\n\n给定的树 s：\n\n```\n     3\n    / \\\n   4   5\n  / \\\n 1   2\n    /\n   0\n```\n\n给定的树 t：\n\n```\n   4\n  / \\\n 1   2\n```\n\n返回 false。\n\n## 三、解题思路"
    },
    {
      "metadata": {
        "trusted": true
      },
      "cell_type": "code",
      "source": "class TreeNode:\n    def __init__(self, x):\n        self.val = x\n        self.left = None\n        self.right = None",
      "execution_count": 1,
      "outputs": []
    },
    {
      "metadata": {
        "trusted": true
      },
      "cell_type": "code",
      "source": "s1 = TreeNode(3)\ns1.left = TreeNode(4)\ns1.right = TreeNode(5)\ns1.left.left = TreeNode(1)\ns1.left.right = TreeNode(2)\n\ns2 = TreeNode(3)\ns2.left = TreeNode(4)\ns2.right = TreeNode(5)\ns2.left.left = TreeNode(1)\ns2.left.right = TreeNode(2)\ns2.left.right.left = TreeNode(0)\n\nt = TreeNode(4)\nt.left = TreeNode(1)\nt.right = TreeNode(2)",
      "execution_count": 2,
      "outputs": []
    },
    {
      "metadata": {
        "trusted": true
      },
      "cell_type": "code",
      "source": "def isSubtree(s: TreeNode, t: TreeNode) -> bool:\n    def check(node1, node2):\n        if not node1 and not node2:\n            return True\n        if (node1 and not node2) or (not node1 and node2) or (node1.val != node2.val):\n            return False\n        return check(node1.left, node2.left) and check(node1.right, node2.right)\n    def dfs(s, t):\n        if not s:\n            return False\n        return check(s, t) or dfs(s.left, t) or dfs(s.right, t)\n    return dfs(s, t)",
      "execution_count": 3,
      "outputs": []
    },
    {
      "metadata": {
        "trusted": true
      },
      "cell_type": "code",
      "source": "isSubtree(s1, t)",
      "execution_count": 4,
      "outputs": [
        {
          "output_type": "execute_result",
          "execution_count": 4,
          "data": {
            "text/plain": "True"
          },
          "metadata": {}
        }
      ]
    },
    {
      "metadata": {
        "trusted": true
      },
      "cell_type": "code",
      "source": "isSubtree(s2, t)",
      "execution_count": 5,
      "outputs": [
        {
          "output_type": "execute_result",
          "execution_count": 5,
          "data": {
            "text/plain": "False"
          },
          "metadata": {}
        }
      ]
    },
    {
      "metadata": {
        "trusted": true
      },
      "cell_type": "code",
      "source": "",
      "execution_count": null,
      "outputs": []
    }
  ],
  "metadata": {
    "kernelspec": {
      "name": "python36",
      "display_name": "Python 3.6",
      "language": "python"
    },
    "language_info": {
      "mimetype": "text/x-python",
      "nbconvert_exporter": "python",
      "name": "python",
      "pygments_lexer": "ipython3",
      "version": "3.6.6",
      "file_extension": ".py",
      "codemirror_mode": {
        "version": 3,
        "name": "ipython"
      }
    }
  },
  "nbformat": 4,
  "nbformat_minor": 2
}