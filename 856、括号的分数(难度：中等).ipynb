{
 "cells": [
  {
   "cell_type": "markdown",
   "metadata": {},
   "source": [
    "# 括号的分数\n",
    "\n",
    "**题目来源：力扣（LeetCode）**\n",
    "\n",
    "**链接：https://leetcode.cn/problems/score-of-parentheses/**\n",
    "\n",
    "## 一、题目\n",
    "\n",
    "给定一个平衡括号字符串 S，按下述规则计算该字符串的分数：\n",
    "\n",
    "- () 得 1 分。\n",
    "- AB 得 A + B 分，其中 A 和 B 是平衡括号字符串。\n",
    "- (A) 得 2 * A 分，其中 A 是平衡括号字符串。\n",
    "\n",
    "### 提示：\n",
    "\n",
    "- S 是平衡括号字符串，且只含有 ( 和 ) 。\n",
    "- 2 <= S.length <= 50\n",
    "\n",
    "## 二、示例\n",
    "\n",
    "### 示例 1：\n",
    "\n",
    "输入： \"()\"\n",
    "\n",
    "输出： 1\n",
    "\n",
    "### 示例 2：\n",
    "\n",
    "输入： \"(())\"\n",
    "\n",
    "输出： 2\n",
    "\n",
    "### 示例 3：\n",
    "\n",
    "输入： \"()()\"\n",
    "\n",
    "输出： 2\n",
    "\n",
    "### 示例 4：\n",
    "\n",
    "输入： \"(()(()))\"\n",
    "\n",
    "输出： 6\n",
    "\n",
    "## 三、解题思路\n",
    "\n",
    "### 栈"
   ]
  },
  {
   "cell_type": "code",
   "execution_count": 1,
   "metadata": {},
   "outputs": [],
   "source": [
    "class Solution:\n",
    "    def scoreOfParentheses(self, s: str) -> int:\n",
    "        stack = [0]\n",
    "        for ch in s:\n",
    "            if ch == \"(\":\n",
    "                stack.append(0)\n",
    "            else:\n",
    "                v = stack.pop()\n",
    "                if v == 0:\n",
    "                    stack[-1] += 1\n",
    "                else:\n",
    "                    stack[-1] += 2 * v\n",
    "        return stack[-1]"
   ]
  },
  {
   "cell_type": "code",
   "execution_count": 2,
   "metadata": {},
   "outputs": [
    {
     "data": {
      "text/plain": [
       "1"
      ]
     },
     "execution_count": 2,
     "metadata": {},
     "output_type": "execute_result"
    }
   ],
   "source": [
    "s = Solution()\n",
    "s.scoreOfParentheses(\"()\")"
   ]
  },
  {
   "cell_type": "code",
   "execution_count": 3,
   "metadata": {},
   "outputs": [
    {
     "data": {
      "text/plain": [
       "2"
      ]
     },
     "execution_count": 3,
     "metadata": {},
     "output_type": "execute_result"
    }
   ],
   "source": [
    "s.scoreOfParentheses(\"(())\")"
   ]
  },
  {
   "cell_type": "code",
   "execution_count": 4,
   "metadata": {},
   "outputs": [
    {
     "data": {
      "text/plain": [
       "2"
      ]
     },
     "execution_count": 4,
     "metadata": {},
     "output_type": "execute_result"
    }
   ],
   "source": [
    "s.scoreOfParentheses(\"()()\")"
   ]
  },
  {
   "cell_type": "code",
   "execution_count": 5,
   "metadata": {},
   "outputs": [
    {
     "data": {
      "text/plain": [
       "6"
      ]
     },
     "execution_count": 5,
     "metadata": {},
     "output_type": "execute_result"
    }
   ],
   "source": [
    "s.scoreOfParentheses(\"(()(()))\")"
   ]
  },
  {
   "cell_type": "code",
   "execution_count": null,
   "metadata": {},
   "outputs": [],
   "source": []
  }
 ],
 "metadata": {
  "kernelspec": {
   "display_name": "Python 3.10.4 64-bit",
   "language": "python",
   "name": "python3"
  },
  "language_info": {
   "codemirror_mode": {
    "name": "ipython",
    "version": 3
   },
   "file_extension": ".py",
   "mimetype": "text/x-python",
   "name": "python",
   "nbconvert_exporter": "python",
   "pygments_lexer": "ipython3",
   "version": "3.10.4"
  },
  "orig_nbformat": 4,
  "vscode": {
   "interpreter": {
    "hash": "4f946df053fbf2b937619d3c5458e7af74262f9a954d8797ba0b27400bcafe06"
   }
  }
 },
 "nbformat": 4,
 "nbformat_minor": 2
}
