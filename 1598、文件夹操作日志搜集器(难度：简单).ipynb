{
 "cells": [
  {
   "cell_type": "markdown",
   "metadata": {},
   "source": [
    "# 文件夹操作日志搜集器\n",
    "\n",
    "**题目来源：力扣（LeetCode）**\n",
    "\n",
    "**链接：https://leetcode.cn/problems/crawler-log-folder/**\n",
    "\n",
    "## 一、题目\n",
    "\n",
    "每当用户执行变更文件夹操作时，LeetCode 文件系统都会保存一条日志记录。\n",
    "\n",
    "下面给出对变更操作的说明：\n",
    "\n",
    "- \"../\" ：移动到当前文件夹的父文件夹。如果已经在主文件夹下，则 继续停留在当前文件夹 。\n",
    "- \"./\" ：继续停留在当前文件夹。\n",
    "- \"x/\" ：移动到名为 x 的子文件夹中。题目数据 保证总是存在文件夹 x 。\n",
    "\n",
    "给你一个字符串列表 logs ，其中 logs[i] 是用户在 ith 步执行的操作。\n",
    "\n",
    "文件系统启动时位于主文件夹，然后执行 logs 中的操作。\n",
    "\n",
    "执行完所有变更文件夹操作后，请你找出 返回主文件夹所需的最小步数 。\n",
    "\n",
    "### 提示：\n",
    "\n",
    "提示：\n",
    "\n",
    "- 1 <= logs.length <= 103\n",
    "- 2 <= logs[i].length <= 10\n",
    "- logs[i] 包含小写英文字母，数字，'.' 和 '/'\n",
    "- logs[i] 符合语句中描述的格式\n",
    "- 文件夹名称由小写英文字母和数字组成\n",
    "\n",
    "## 二、示例\n",
    "\n",
    "### 示例 1：\n",
    "\n",
    "输入：logs = [\"d1/\",\"d2/\",\"../\",\"d21/\",\"./\"]\n",
    "\n",
    "输出：2\n",
    "\n",
    "解释：执行 \"../\" 操作变更文件夹 2 次，即可回到主文件夹\n",
    "\n",
    "### 示例 2：\n",
    "\n",
    "输入：logs = [\"d1/\",\"d2/\",\"./\",\"d3/\",\"../\",\"d31/\"]\n",
    "\n",
    "输出：3\n",
    "\n",
    "### 示例 3：\n",
    "\n",
    "输入：logs = [\"d1/\",\"../\",\"../\",\"../\"]\n",
    "\n",
    "输出：0\n",
    "\n",
    "## 三、解题思路\n",
    "\n",
    "### 栈"
   ]
  },
  {
   "cell_type": "code",
   "execution_count": 1,
   "metadata": {},
   "outputs": [],
   "source": [
    "class Solution:\n",
    "    def minOperations(self, logs: str) -> int:\n",
    "        stack = []\n",
    "        for log in logs:\n",
    "            if log == \"../\":\n",
    "                if stack:\n",
    "                    stack.pop()\n",
    "            elif log == \"./\":\n",
    "                continue\n",
    "            else:\n",
    "                stack.append(log)\n",
    "        return len(stack)"
   ]
  },
  {
   "cell_type": "code",
   "execution_count": 2,
   "metadata": {},
   "outputs": [
    {
     "data": {
      "text/plain": [
       "2"
      ]
     },
     "execution_count": 2,
     "metadata": {},
     "output_type": "execute_result"
    }
   ],
   "source": [
    "s = Solution()\n",
    "s.minOperations([\"d1/\",\"d2/\",\"../\",\"d21/\",\"./\"])"
   ]
  },
  {
   "cell_type": "code",
   "execution_count": 3,
   "metadata": {},
   "outputs": [
    {
     "data": {
      "text/plain": [
       "3"
      ]
     },
     "execution_count": 3,
     "metadata": {},
     "output_type": "execute_result"
    }
   ],
   "source": [
    "s.minOperations([\"d1/\",\"d2/\",\"./\",\"d3/\",\"../\",\"d31/\"])"
   ]
  },
  {
   "cell_type": "code",
   "execution_count": 4,
   "metadata": {},
   "outputs": [
    {
     "data": {
      "text/plain": [
       "0"
      ]
     },
     "execution_count": 4,
     "metadata": {},
     "output_type": "execute_result"
    }
   ],
   "source": [
    "s.minOperations([\"d1/\",\"../\",\"../\",\"../\"])"
   ]
  },
  {
   "cell_type": "code",
   "execution_count": null,
   "metadata": {},
   "outputs": [],
   "source": []
  }
 ],
 "metadata": {
  "kernelspec": {
   "display_name": "Python 3.10.4 64-bit",
   "language": "python",
   "name": "python3"
  },
  "language_info": {
   "codemirror_mode": {
    "name": "ipython",
    "version": 3
   },
   "file_extension": ".py",
   "mimetype": "text/x-python",
   "name": "python",
   "nbconvert_exporter": "python",
   "pygments_lexer": "ipython3",
   "version": "3.10.4"
  },
  "orig_nbformat": 4,
  "vscode": {
   "interpreter": {
    "hash": "4f946df053fbf2b937619d3c5458e7af74262f9a954d8797ba0b27400bcafe06"
   }
  }
 },
 "nbformat": 4,
 "nbformat_minor": 2
}
