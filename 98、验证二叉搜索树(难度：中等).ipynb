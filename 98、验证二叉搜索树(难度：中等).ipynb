{
 "cells": [
  {
   "cell_type": "markdown",
   "metadata": {},
   "source": [
    "# 验证二叉搜索树\n",
    "\n",
    "**题目来源：力扣（LeetCode）**\n",
    "\n",
    "**链接：https://leetcode-cn.com/problems/validate-binary-search-tree/**\n",
    "\n",
    "## 一、题目\n",
    "\n",
    "给定一个二叉树，判断其是否是一个有效的二叉搜索树。\n",
    "\n",
    "假设一个二叉搜索树具有如下特征：\n",
    "\n",
    "- 节点的左子树只包含小于当前节点的数。\n",
    "- 节点的右子树只包含大于当前节点的数。\n",
    "- 所有左子树和右子树自身必须也是二叉搜索树。\n",
    "\n",
    "## 二、示例\n",
    "\n",
    "### 示例 1：\n",
    "\n",
    "输入:\n",
    "\n",
    "```\n",
    "    2\n",
    "   / \\\n",
    "  1   3\n",
    "```\n",
    "\n",
    "输出: true\n",
    "\n",
    "### 示例 2:\n",
    "\n",
    "输入:\n",
    "\n",
    "```\n",
    "    5\n",
    "   / \\\n",
    "  1   4\n",
    "     / \\\n",
    "    3   6\n",
    "```\n",
    "\n",
    "输出: false\n",
    "解释: 输入为: [5,1,4,null,null,3,6]。根节点的值为 5 ，但是其右子节点值为 4 。\n",
    "\n",
    "## 三、解题思路\n",
    "\n",
    "### 中序遍历\n",
    "\n",
    "一颗二叉搜索树中序遍历结果是升序，且无重复元素"
   ]
  },
  {
   "cell_type": "code",
   "execution_count": 1,
   "metadata": {},
   "outputs": [],
   "source": [
    "class TreeNode:\n",
    "    def __init__(self, x):\n",
    "        self.val = x\n",
    "        self.left = None\n",
    "        self.right = None\n",
    "        \n",
    "root1 = TreeNode(2)\n",
    "root1.left = TreeNode(1)\n",
    "root1.right = TreeNode(3)\n",
    "\n",
    "root2 = TreeNode(5)\n",
    "root2.left = TreeNode(1)\n",
    "root2.right = TreeNode(4)\n",
    "root2.right.left = TreeNode(3)\n",
    "root2.right.right = TreeNode(6)"
   ]
  },
  {
   "cell_type": "code",
   "execution_count": 2,
   "metadata": {},
   "outputs": [],
   "source": [
    "def isValidBST(root: TreeNode) -> bool:\n",
    "    def inorder(root, arr):\n",
    "        if not root:\n",
    "            return\n",
    "        inorder(root.left, arr)\n",
    "        arr.append(root.val)\n",
    "        inorder(root.right, arr)\n",
    "    arr = []\n",
    "    inorder(root, arr)\n",
    "    for i in range(1, len(arr)):\n",
    "        if arr[i-1] >= arr[i]:\n",
    "            return False\n",
    "    return True"
   ]
  },
  {
   "cell_type": "code",
   "execution_count": 3,
   "metadata": {},
   "outputs": [
    {
     "data": {
      "text/plain": [
       "True"
      ]
     },
     "execution_count": 3,
     "metadata": {},
     "output_type": "execute_result"
    }
   ],
   "source": [
    "isValidBST(root1)"
   ]
  },
  {
   "cell_type": "code",
   "execution_count": 4,
   "metadata": {},
   "outputs": [
    {
     "data": {
      "text/plain": [
       "False"
      ]
     },
     "execution_count": 4,
     "metadata": {},
     "output_type": "execute_result"
    }
   ],
   "source": [
    "isValidBST(root2)"
   ]
  },
  {
   "cell_type": "code",
   "execution_count": null,
   "metadata": {},
   "outputs": [],
   "source": []
  }
 ],
 "metadata": {
  "kernelspec": {
   "display_name": "Python 3",
   "language": "python",
   "name": "python3"
  },
  "language_info": {
   "codemirror_mode": {
    "name": "ipython",
    "version": 3
   },
   "file_extension": ".py",
   "mimetype": "text/x-python",
   "name": "python",
   "nbconvert_exporter": "python",
   "pygments_lexer": "ipython3",
   "version": "3.6.5"
  }
 },
 "nbformat": 4,
 "nbformat_minor": 2
}
