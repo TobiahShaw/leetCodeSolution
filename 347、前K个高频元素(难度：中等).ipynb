{
 "cells": [
  {
   "cell_type": "markdown",
   "metadata": {},
   "source": [
    "# 前K个高频元素\n",
    "\n",
    "**题目来源：力扣（LeetCode）**\n",
    "\n",
    "**链接：https://leetcode-cn.com/problems/top-k-frequent-elements/**\n",
    "\n",
    "## 一、题目\n",
    "\n",
    "给定一个非空的整数数组，返回其中出现频率前 k 高的元素。\n",
    "\n",
    "## 二、示例\n",
    "\n",
    "### 示例 1：\n",
    "\n",
    "输入: nums = [1,1,1,2,2,3], k = 2\n",
    "\n",
    "输出: [1,2]\n",
    "\n",
    "### 示例 2:\n",
    "\n",
    "输入: nums = [1], k = 1\n",
    "\n",
    "输出: [1]\n",
    "\n",
    "## 三、解题思路\n",
    "\n",
    "### 优先队列"
   ]
  },
  {
   "cell_type": "code",
   "execution_count": 1,
   "metadata": {},
   "outputs": [],
   "source": [
    "def topKFrequent(nums, k: int):\n",
    "    if k<0 or k>len(nums): return []\n",
    "    from queue import PriorityQueue\n",
    "    from collections import defaultdict\n",
    "    queue = PriorityQueue()\n",
    "    d = defaultdict(int)\n",
    "    res = []\n",
    "    for i in nums:\n",
    "        d[i]+=1\n",
    "    d = list(d.items())\n",
    "    for i in range(len(d)):\n",
    "        queue.put([-d[i][1],d[i][0]])\n",
    "    for i in range(k):\n",
    "        res.append(queue.get()[1])\n",
    "    return res"
   ]
  },
  {
   "cell_type": "code",
   "execution_count": 2,
   "metadata": {},
   "outputs": [
    {
     "data": {
      "text/plain": [
       "[1, 2]"
      ]
     },
     "execution_count": 2,
     "metadata": {},
     "output_type": "execute_result"
    }
   ],
   "source": [
    "topKFrequent(nums = [1,1,1,2,2,3], k = 2)"
   ]
  },
  {
   "cell_type": "code",
   "execution_count": 3,
   "metadata": {},
   "outputs": [
    {
     "data": {
      "text/plain": [
       "[1]"
      ]
     },
     "execution_count": 3,
     "metadata": {},
     "output_type": "execute_result"
    }
   ],
   "source": [
    "topKFrequent(nums = [1], k = 1)"
   ]
  },
  {
   "cell_type": "code",
   "execution_count": null,
   "metadata": {},
   "outputs": [],
   "source": []
  }
 ],
 "metadata": {
  "kernelspec": {
   "display_name": "Python 3",
   "language": "python",
   "name": "python3"
  },
  "language_info": {
   "codemirror_mode": {
    "name": "ipython",
    "version": 3
   },
   "file_extension": ".py",
   "mimetype": "text/x-python",
   "name": "python",
   "nbconvert_exporter": "python",
   "pygments_lexer": "ipython3",
   "version": "3.6.5"
  }
 },
 "nbformat": 4,
 "nbformat_minor": 2
}
