{
 "cells": [
  {
   "cell_type": "markdown",
   "id": "a5a0224f",
   "metadata": {},
   "source": [
    "# 统计各位数字之和为偶数的整数个数\n",
    "\n",
    "**题目来源：力扣（LeetCode）**\n",
    "\n",
    "**链接：https://leetcode.cn/problems/count-integers-with-even-digit-sum/**\n",
    "\n",
    "## 一、题目\n",
    "\n",
    "给你一个正整数 num ，请你统计并返回 小于或等于 num 且各位数字之和为 偶数 的正整数的数目。\n",
    "\n",
    "正整数的 各位数字之和 是其所有位上的对应数字相加的结果。\n",
    "\n",
    "### 提示：\n",
    "\n",
    "- 1 <= num <= 1000\n",
    "\n",
    "## 二、示例\n",
    "\n",
    "### 示例 1：\n",
    "\n",
    "输入：num = 4\n",
    "\n",
    "输出：2\n",
    "\n",
    "解释：只有 2 和 4 满足小于等于 4 且各位数字之和为偶数。    \n",
    "\n",
    "### 示例 2：\n",
    "\n",
    "输入：num = 30\n",
    "\n",
    "输出：14\n",
    "\n",
    "解释：只有 14 个整数满足小于等于 30 且各位数字之和为偶数，分别是： 2、4、6、8、11、13、15、17、19、20、22、24、26 和 28 。\n",
    "\n",
    "## 三、解题思路\n",
    "\n",
    "### 暴力枚举"
   ]
  },
  {
   "cell_type": "code",
   "execution_count": 1,
   "id": "d6f0a195",
   "metadata": {},
   "outputs": [],
   "source": [
    "class Solution:\n",
    "    def countEven(self, num: int) -> int:\n",
    "        ret = 0\n",
    "        for x in range(1, num + 1):\n",
    "            s = 0\n",
    "            while x:\n",
    "                s += x % 10\n",
    "                x //= 10\n",
    "            ret += s % 2 == 0\n",
    "        return ret"
   ]
  },
  {
   "cell_type": "code",
   "execution_count": 2,
   "id": "ab84cf11",
   "metadata": {},
   "outputs": [
    {
     "data": {
      "text/plain": [
       "2"
      ]
     },
     "execution_count": 2,
     "metadata": {},
     "output_type": "execute_result"
    }
   ],
   "source": [
    "s = Solution()\n",
    "s.countEven(4)"
   ]
  },
  {
   "cell_type": "code",
   "execution_count": 3,
   "id": "460288a8",
   "metadata": {},
   "outputs": [
    {
     "data": {
      "text/plain": [
       "14"
      ]
     },
     "execution_count": 3,
     "metadata": {},
     "output_type": "execute_result"
    }
   ],
   "source": [
    "s.countEven(30)"
   ]
  },
  {
   "cell_type": "code",
   "execution_count": null,
   "id": "82c15fdd",
   "metadata": {},
   "outputs": [],
   "source": []
  }
 ],
 "metadata": {
  "kernelspec": {
   "display_name": "Python 3 (ipykernel)",
   "language": "python",
   "name": "python3"
  },
  "language_info": {
   "codemirror_mode": {
    "name": "ipython",
    "version": 3
   },
   "file_extension": ".py",
   "mimetype": "text/x-python",
   "name": "python",
   "nbconvert_exporter": "python",
   "pygments_lexer": "ipython3",
   "version": "3.11.0"
  }
 },
 "nbformat": 4,
 "nbformat_minor": 5
}
