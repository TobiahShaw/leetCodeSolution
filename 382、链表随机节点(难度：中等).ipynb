{
 "cells": [
  {
   "cell_type": "markdown",
   "metadata": {},
   "source": [
    "# 链表随机节点\n",
    "\n",
    "**题目来源：力扣（LeetCode）**\n",
    "\n",
    "**链接：https://leetcode-cn.com/problems/linked-list-random-node/**\n",
    "\n",
    "## 一、题目\n",
    "\n",
    "给你一个单链表，随机选择链表的一个节点，并返回相应的节点值。每个节点 被选中的概率一样 。\n",
    "\n",
    "实现 Solution 类：\n",
    "\n",
    "Solution(ListNode head) 使用整数数组初始化对象。\n",
    "int getRandom() 从链表中随机选择一个节点并返回该节点的值。链表中所有节点被选中的概率相等。\n",
    "\n",
    "### 提示：\n",
    "\n",
    "- 链表中的节点数在范围 [1, 10^4] 内\n",
    "- -10^4 <= Node.val <= 10^4\n",
    "- 至多调用 getRandom 方法 10^4 次\n",
    " \n",
    "\n",
    "### 进阶：\n",
    "\n",
    "- 如果链表非常大且长度未知，该怎么处理？\n",
    "- 你能否在不使用额外空间的情况下解决此问题？\n",
    "\n",
    "## 二、示例\n",
    "\n",
    "输入\n",
    "\n",
    "[\"Solution\", \"getRandom\", \"getRandom\", \"getRandom\", \"getRandom\", \"getRandom\"]\n",
    "\n",
    "[[[1, 2, 3]], [], [], [], [], []]\n",
    "\n",
    "输出\n",
    "\n",
    "[null, 1, 3, 2, 2, 3]\n",
    "\n",
    "解释\n",
    "\n",
    "```\n",
    "solution = Solution([1, 2, 3])\n",
    "solution.getRandom() # 返回 1\n",
    "solution.getRandom() # 返回 3\n",
    "solution.getRandom() # 返回 2\n",
    "solution.getRandom() # 返回 2\n",
    "solution.getRandom() # 返回 3\n",
    "# getRandom() 方法应随机返回 1、2、3中的一个，每个元素被返回的概率相等。\n",
    "```\n",
    "\n",
    "## 三、解题思路"
   ]
  },
  {
   "cell_type": "code",
   "execution_count": 1,
   "metadata": {},
   "outputs": [],
   "source": [
    "class ListNode:\n",
    "    def __init__(self, x):\n",
    "        self.val = x\n",
    "        self.next = None"
   ]
  },
  {
   "cell_type": "code",
   "execution_count": 2,
   "metadata": {},
   "outputs": [],
   "source": [
    "head = ListNode(1)\n",
    "head.next = ListNode(2)\n",
    "head.next.next = ListNode(3)"
   ]
  },
  {
   "cell_type": "markdown",
   "metadata": {},
   "source": [
    "### 一、记录每个节点的值"
   ]
  },
  {
   "cell_type": "code",
   "execution_count": 3,
   "metadata": {},
   "outputs": [],
   "source": [
    "import random\n",
    "\n",
    "class Solution:\n",
    "\n",
    "    def __init__(self, head: ListNode):\n",
    "        \"\"\"\n",
    "        @param head The linked list's head.\n",
    "        Note that the head is guaranteed to be not null, so it contains at least one node.\n",
    "        \"\"\"\n",
    "        self._arr = []\n",
    "        while head:\n",
    "            self._arr.append(head.val)\n",
    "            head = head.next\n",
    "        self._size = len(self._arr)\n",
    "        \n",
    "\n",
    "    def getRandom(self) -> int:\n",
    "        \"\"\"\n",
    "        Returns a random node's value.\n",
    "        \"\"\"\n",
    "        return self._arr[random.randint(0, self._size-1)]"
   ]
  },
  {
   "cell_type": "code",
   "execution_count": 4,
   "metadata": {},
   "outputs": [
    {
     "name": "stdout",
     "output_type": "stream",
     "text": [
      "1\n",
      "1\n",
      "2\n",
      "2\n",
      "3\n"
     ]
    }
   ],
   "source": [
    "solution = Solution(head)\n",
    "print(solution.getRandom())\n",
    "print(solution.getRandom())\n",
    "print(solution.getRandom())\n",
    "print(solution.getRandom())\n",
    "print(solution.getRandom())"
   ]
  },
  {
   "cell_type": "markdown",
   "metadata": {},
   "source": [
    "### 二、水塘抽样\n",
    "\n",
    "[参考](https://leetcode-cn.com/problems/linked-list-random-node/solution/lian-biao-sui-ji-jie-dian-by-leetcode-so-x6it/)"
   ]
  },
  {
   "cell_type": "code",
   "execution_count": 5,
   "metadata": {},
   "outputs": [],
   "source": [
    "import random\n",
    "\n",
    "class Solution:\n",
    "\n",
    "    def __init__(self, head: ListNode):\n",
    "        \"\"\"\n",
    "        @param head The linked list's head.\n",
    "        Note that the head is guaranteed to be not null, so it contains at least one node.\n",
    "        \"\"\"\n",
    "        self._head = head\n",
    "        \n",
    "\n",
    "    def getRandom(self) -> int:\n",
    "        \"\"\"\n",
    "        Returns a random node's value.\n",
    "        \"\"\"\n",
    "        node, i, ret = self._head, 1, 0\n",
    "        while node:\n",
    "            if random.randrange(i) == 0:  # 1/i 的概率选中（替换为答案）\n",
    "                ret = node.val\n",
    "            i += 1\n",
    "            node = node.next\n",
    "        return ret"
   ]
  },
  {
   "cell_type": "code",
   "execution_count": 6,
   "metadata": {},
   "outputs": [
    {
     "name": "stdout",
     "output_type": "stream",
     "text": [
      "1\n",
      "1\n",
      "2\n",
      "3\n",
      "1\n"
     ]
    }
   ],
   "source": [
    "solution = Solution(head)\n",
    "print(solution.getRandom())\n",
    "print(solution.getRandom())\n",
    "print(solution.getRandom())\n",
    "print(solution.getRandom())\n",
    "print(solution.getRandom())"
   ]
  },
  {
   "cell_type": "code",
   "execution_count": null,
   "metadata": {},
   "outputs": [],
   "source": []
  }
 ],
 "metadata": {
  "kernelspec": {
   "display_name": "Python 3",
   "language": "python",
   "name": "python3"
  },
  "language_info": {
   "codemirror_mode": {
    "name": "ipython",
    "version": 3
   },
   "file_extension": ".py",
   "mimetype": "text/x-python",
   "name": "python",
   "nbconvert_exporter": "python",
   "pygments_lexer": "ipython3",
   "version": "3.6.5"
  }
 },
 "nbformat": 4,
 "nbformat_minor": 2
}
