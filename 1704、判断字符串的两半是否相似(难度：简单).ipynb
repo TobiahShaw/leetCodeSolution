{
 "cells": [
  {
   "cell_type": "markdown",
   "metadata": {},
   "source": [
    "# 判断字符串的两半是否相似\n",
    "\n",
    "**题目来源：力扣（LeetCode）**\n",
    "\n",
    "**链接：https://leetcode-cn.com/problems/determine-if-string-halves-are-alike/**\n",
    "\n",
    "## 一、题目\n",
    "\n",
    "给你一个偶数长度的字符串 s 。将其拆分成长度相同的两半，前一半为 a ，后一半为 b 。\n",
    "\n",
    "两个字符串 相似 的前提是它们都含有相同数目的元音（'a'，'e'，'i'，'o'，'u'，'A'，'E'，'I'，'O'，'U'）。注意，s 可能同时含有大写和小写字母。\n",
    "\n",
    "如果 a 和 b 相似，返回 true ；否则，返回 false 。\n",
    "\n",
    "## 二、示例\n",
    "\n",
    "### 示例 1：\n",
    "\n",
    "输入：s = \"book\"\n",
    "\n",
    "输出：true\n",
    "\n",
    "解释：a = \"bo\" 且 b = \"ok\" 。a 中有 1 个元音，b 也有 1 个元音。所以，a 和 b 相似。\n",
    "\n",
    "### 示例 2：\n",
    "\n",
    "输入：s = \"textbook\"\n",
    "\n",
    "输出：false\n",
    "\n",
    "解释：a = \"text\" 且 b = \"book\" 。a 中有 1 个元音，b 中有 2 个元音。因此，a 和 b 不相似。注意，元音 o 在 b 中出现两次，记为 2 个。\n",
    "\n",
    "### 示例 3：\n",
    "\n",
    "输入：s = \"MerryChristmas\"\n",
    "\n",
    "输出：false\n",
    "\n",
    "### 示例 4：\n",
    "\n",
    "输入：s = \"AbCdEfGh\"\n",
    "\n",
    "输出：true\n",
    "\n",
    "## 三、解题思路\n",
    "\n",
    "### 计数法"
   ]
  },
  {
   "cell_type": "code",
   "execution_count": 1,
   "metadata": {},
   "outputs": [],
   "source": [
    "def halvesAreAlike(s: str) -> bool:\n",
    "    n = len(s)\n",
    "    mid = n // 2\n",
    "    ret = 0\n",
    "    sets = {'a','e','i','o','u','A','E','I','O','U'}\n",
    "    for i in range(n):\n",
    "        if s[i] in sets:\n",
    "            ret += (1 if i < mid else -1)\n",
    "    return ret == 0"
   ]
  },
  {
   "cell_type": "code",
   "execution_count": 2,
   "metadata": {},
   "outputs": [
    {
     "data": {
      "text/plain": [
       "True"
      ]
     },
     "execution_count": 2,
     "metadata": {},
     "output_type": "execute_result"
    }
   ],
   "source": [
    "halvesAreAlike(\"book\")"
   ]
  },
  {
   "cell_type": "code",
   "execution_count": 3,
   "metadata": {},
   "outputs": [
    {
     "data": {
      "text/plain": [
       "False"
      ]
     },
     "execution_count": 3,
     "metadata": {},
     "output_type": "execute_result"
    }
   ],
   "source": [
    "halvesAreAlike(\"textbook\")"
   ]
  },
  {
   "cell_type": "code",
   "execution_count": 4,
   "metadata": {},
   "outputs": [
    {
     "data": {
      "text/plain": [
       "False"
      ]
     },
     "execution_count": 4,
     "metadata": {},
     "output_type": "execute_result"
    }
   ],
   "source": [
    "halvesAreAlike(\"MerryChristmas\")"
   ]
  },
  {
   "cell_type": "code",
   "execution_count": 5,
   "metadata": {},
   "outputs": [
    {
     "data": {
      "text/plain": [
       "True"
      ]
     },
     "execution_count": 5,
     "metadata": {},
     "output_type": "execute_result"
    }
   ],
   "source": [
    "halvesAreAlike(\"AbCdEfGh\")"
   ]
  },
  {
   "cell_type": "code",
   "execution_count": null,
   "metadata": {},
   "outputs": [],
   "source": []
  }
 ],
 "metadata": {
  "kernelspec": {
   "display_name": "Python 3",
   "language": "python",
   "name": "python3"
  },
  "language_info": {
   "codemirror_mode": {
    "name": "ipython",
    "version": 3
   },
   "file_extension": ".py",
   "mimetype": "text/x-python",
   "name": "python",
   "nbconvert_exporter": "python",
   "pygments_lexer": "ipython3",
   "version": "3.6.5"
  }
 },
 "nbformat": 4,
 "nbformat_minor": 2
}
