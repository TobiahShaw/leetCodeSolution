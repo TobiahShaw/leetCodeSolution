{
 "cells": [
  {
   "cell_type": "markdown",
   "metadata": {},
   "source": [
    "# 一次编辑\n",
    "\n",
    "**题目来源：力扣（LeetCode）**\n",
    "\n",
    "**链接：https://leetcode.cn/problems/one-away-lcci/**\n",
    "\n",
    "## 一、题目\n",
    "\n",
    "字符串有三种编辑操作:插入一个字符、删除一个字符或者替换一个字符。 给定两个字符串，编写一个函数判定它们是否只需要一次(或者零次)编辑。\n",
    "\n",
    "## 二、示例\n",
    "\n",
    "### 示例 1：\n",
    "\n",
    "输入: first = \"pale\", second = \"ple\"\n",
    "\n",
    "输出: True\n",
    "\n",
    "### 示例 2:\n",
    "\n",
    "输入: first = \"pales\", second = \"pal\"\n",
    "\n",
    "输出: False\n",
    "\n",
    "## 三、解题思路\n",
    "\n",
    "### 分组讨论"
   ]
  },
  {
   "cell_type": "code",
   "execution_count": 1,
   "metadata": {},
   "outputs": [],
   "source": [
    "def oneEditAway(first: str, second: str) -> bool:\n",
    "    m, n = len(first), len(second)\n",
    "    if m < n:\n",
    "        return self.oneEditAway(second, first)\n",
    "    if m - n > 1:\n",
    "        return False\n",
    "    for i, (x, y) in enumerate(zip(first, second)):\n",
    "        if x != y:\n",
    "            return first[i + 1:] == second[i + 1:] if m == n else first[i + 1:] == second[i:]\n",
    "    return True"
   ]
  },
  {
   "cell_type": "code",
   "execution_count": 2,
   "metadata": {},
   "outputs": [
    {
     "data": {
      "text/plain": [
       "True"
      ]
     },
     "execution_count": 2,
     "metadata": {},
     "output_type": "execute_result"
    }
   ],
   "source": [
    "oneEditAway(first = \"pale\", second = \"ple\")"
   ]
  },
  {
   "cell_type": "code",
   "execution_count": 3,
   "metadata": {},
   "outputs": [
    {
     "data": {
      "text/plain": [
       "False"
      ]
     },
     "execution_count": 3,
     "metadata": {},
     "output_type": "execute_result"
    }
   ],
   "source": [
    "oneEditAway(first = \"pales\", second = \"pal\")"
   ]
  },
  {
   "cell_type": "code",
   "execution_count": null,
   "metadata": {},
   "outputs": [],
   "source": []
  }
 ],
 "metadata": {
  "kernelspec": {
   "display_name": "Python 3",
   "language": "python",
   "name": "python3"
  },
  "language_info": {
   "codemirror_mode": {
    "name": "ipython",
    "version": 3
   },
   "file_extension": ".py",
   "mimetype": "text/x-python",
   "name": "python",
   "nbconvert_exporter": "python",
   "pygments_lexer": "ipython3",
   "version": "3.6.5"
  }
 },
 "nbformat": 4,
 "nbformat_minor": 2
}
