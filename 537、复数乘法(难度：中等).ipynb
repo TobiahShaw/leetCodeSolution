{
 "cells": [
  {
   "cell_type": "markdown",
   "metadata": {},
   "source": [
    "# 复数乘法\n",
    "\n",
    "**题目来源：力扣（LeetCode）**\n",
    "\n",
    "**链接：https://leetcode-cn.com/problems/complex-number-multiplication/**\n",
    "\n",
    "## 一、题目\n",
    "\n",
    "复数 可以用字符串表示，遵循 \"实部+虚部i\" 的形式，并满足下述条件：\n",
    "\n",
    "实部 是一个整数，取值范围是 [-100, 100]\n",
    "虚部 也是一个整数，取值范围是 [-100, 100]\n",
    "i2 == -1\n",
    "给你两个字符串表示的复数 num1 和 num2 ，请你遵循复数表示形式，返回表示它们乘积的字符串。\n",
    "\n",
    "### 提示：\n",
    "\n",
    "- num1 和 num2 都是有效的复数表示。\n",
    "\n",
    "## 二、示例\n",
    "\n",
    "### 示例 1：\n",
    "\n",
    "输入：num1 = \"1+1i\", num2 = \"1+1i\"\n",
    "\n",
    "输出：\"0+2i\"\n",
    "\n",
    "解释：(1 + i) * (1 + i) = 1 + i2 + 2 * i = 2i ，你需要将它转换为 0+2i 的形式。\n",
    "\n",
    "### 示例 2：\n",
    "\n",
    "输入：num1 = \"1+-1i\", num2 = \"1+-1i\"\n",
    "\n",
    "输出：\"0+-2i\"\n",
    "\n",
    "解释：(1 - i) * (1 - i) = 1 + i2 - 2 * i = -2i ，你需要将它转换为 0+-2i 的形式。 \n",
    "\n",
    "## 三、解题思路\n",
    "\n",
    "### 模拟"
   ]
  },
  {
   "cell_type": "code",
   "execution_count": 1,
   "metadata": {},
   "outputs": [],
   "source": [
    "def complexNumberMultiply(num1: str, num2: str) -> str:\n",
    "    a1, b1 = num1[:-1].split('+')\n",
    "    a2, b2 = num2[:-1].split('+')\n",
    "\n",
    "    a1, b1 = int(a1), int(b1)\n",
    "    a2, b2 = int(a2), int(b2)\n",
    "\n",
    "    a = a1 * a2 - b1 * b2\n",
    "    b = a1 * b2 + a2 * b1\n",
    "    return f\"{a}+{b}i\""
   ]
  },
  {
   "cell_type": "code",
   "execution_count": 2,
   "metadata": {},
   "outputs": [
    {
     "data": {
      "text/plain": [
       "'0+2i'"
      ]
     },
     "execution_count": 2,
     "metadata": {},
     "output_type": "execute_result"
    }
   ],
   "source": [
    "complexNumberMultiply(num1 = \"1+1i\", num2 = \"1+1i\")"
   ]
  },
  {
   "cell_type": "code",
   "execution_count": 3,
   "metadata": {},
   "outputs": [
    {
     "data": {
      "text/plain": [
       "'0+-2i'"
      ]
     },
     "execution_count": 3,
     "metadata": {},
     "output_type": "execute_result"
    }
   ],
   "source": [
    "complexNumberMultiply(num1 = \"1+-1i\", num2 = \"1+-1i\")"
   ]
  },
  {
   "cell_type": "code",
   "execution_count": null,
   "metadata": {},
   "outputs": [],
   "source": []
  }
 ],
 "metadata": {
  "kernelspec": {
   "display_name": "Python 3",
   "language": "python",
   "name": "python3"
  },
  "language_info": {
   "codemirror_mode": {
    "name": "ipython",
    "version": 3
   },
   "file_extension": ".py",
   "mimetype": "text/x-python",
   "name": "python",
   "nbconvert_exporter": "python",
   "pygments_lexer": "ipython3",
   "version": "3.6.5"
  }
 },
 "nbformat": 4,
 "nbformat_minor": 2
}
