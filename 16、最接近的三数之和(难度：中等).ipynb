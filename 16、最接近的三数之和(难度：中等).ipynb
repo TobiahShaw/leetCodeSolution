{
  "cells": [
    {
      "metadata": {
        "collapsed": true
      },
      "cell_type": "markdown",
      "source": "# 最接近的三数之和\n\n**题目来源：力扣（LeetCode）**\n\n**链接：https://leetcode-cn.com/problems/3sum-closest/**\n\n## 一、题目\n\n给定一个包括 n 个整数的数组 nums 和 一个目标值 target。找出 nums 中的三个整数，使得它们的和与 target 最接近。返回这三个数的和。假定每组输入只存在唯一答案。\n\n## 二、示例\n\n例如，给定数组 nums = [-1，2，1，-4], 和 target = 1.\n\n与 target 最接近的三个数的和为 2. (-1 + 2 + 1 = 2).\n\n## 三、解题思路\n\n### 排序"
    },
    {
      "metadata": {
        "trusted": true
      },
      "cell_type": "code",
      "source": "def threeSumClosest(nums, target):\n    sorted(nums)\n    left = 0\n    right = len(nums) - 1\n    while right - left >= 3:\n        if abs(target - nums[left]) > abs(target - nums[right]):\n            left += 1\n        else:\n            right -= 1\n    return sum(nums[left:right + 1])",
      "execution_count": 1,
      "outputs": []
    },
    {
      "metadata": {
        "trusted": true
      },
      "cell_type": "code",
      "source": "threeSumClosest([-1,2,1,-4], 1)",
      "execution_count": 2,
      "outputs": [
        {
          "output_type": "execute_result",
          "execution_count": 2,
          "data": {
            "text/plain": "2"
          },
          "metadata": {}
        }
      ]
    },
    {
      "metadata": {
        "trusted": true
      },
      "cell_type": "code",
      "source": "",
      "execution_count": null,
      "outputs": []
    }
  ],
  "metadata": {
    "kernelspec": {
      "name": "python36",
      "display_name": "Python 3.6",
      "language": "python"
    },
    "language_info": {
      "mimetype": "text/x-python",
      "nbconvert_exporter": "python",
      "name": "python",
      "pygments_lexer": "ipython3",
      "version": "3.6.6",
      "file_extension": ".py",
      "codemirror_mode": {
        "version": 3,
        "name": "ipython"
      }
    }
  },
  "nbformat": 4,
  "nbformat_minor": 2
}