{
  "cells": [
    {
      "metadata": {
        "collapsed": true
      },
      "cell_type": "markdown",
      "source": "# 旋转数组\n\n**题目来源：力扣（LeetCode）**\n\n**链接：https://leetcode-cn.com/problems/rotate-array/**\n\n## 一、题目\n\n给定一个数组，将数组中的元素向右移动 k 个位置，其中 k 是非负数\n\n## 二、示例\n\n### 示例 1:\n\n输入: [1,2,3,4,5,6,7] 和 k = 3\n\n输出: [5,6,7,1,2,3,4]\n\n解释:\n\n向右旋转 1 步: [7,1,2,3,4,5,6]\n\n向右旋转 2 步: [6,7,1,2,3,4,5]\n\n向右旋转 3 步: [5,6,7,1,2,3,4]\n\n### 示例 2:\n\n输入: [-1,-100,3,99] 和 k = 2\n\n输出: [3,99,-1,-100]\n\n解释: \n\n向右旋转 1 步: [99,-1,-100,3]\n\n向右旋转 2 步: [3,99,-1,-100]\n\n## 解题思路"
    },
    {
      "metadata": {
        "trusted": true
      },
      "cell_type": "code",
      "source": "list1 = [1,2,3,4,5,6,7]\nlist2 = [-1,-100,3,99]",
      "execution_count": 1,
      "outputs": []
    },
    {
      "metadata": {},
      "cell_type": "markdown",
      "source": "### 利用切片"
    },
    {
      "metadata": {
        "trusted": true
      },
      "cell_type": "code",
      "source": "def rotate(nums, k):\n    n=len(nums)\n    k%=n\n    nums[:]=nums[n-k:]+nums[:n-k]",
      "execution_count": 2,
      "outputs": []
    },
    {
      "metadata": {
        "trusted": true
      },
      "cell_type": "code",
      "source": "rotate(list1, 3)\nlist1",
      "execution_count": 3,
      "outputs": [
        {
          "output_type": "execute_result",
          "execution_count": 3,
          "data": {
            "text/plain": "[5, 6, 7, 1, 2, 3, 4]"
          },
          "metadata": {}
        }
      ]
    },
    {
      "metadata": {
        "trusted": true
      },
      "cell_type": "code",
      "source": "rotate(list2, 2)\nlist2",
      "execution_count": 4,
      "outputs": [
        {
          "output_type": "execute_result",
          "execution_count": 4,
          "data": {
            "text/plain": "[3, 99, -1, -100]"
          },
          "metadata": {}
        }
      ]
    },
    {
      "metadata": {
        "trusted": true
      },
      "cell_type": "code",
      "source": "",
      "execution_count": null,
      "outputs": []
    }
  ],
  "metadata": {
    "kernelspec": {
      "name": "python36",
      "display_name": "Python 3.6",
      "language": "python"
    },
    "language_info": {
      "mimetype": "text/x-python",
      "nbconvert_exporter": "python",
      "name": "python",
      "pygments_lexer": "ipython3",
      "version": "3.6.6",
      "file_extension": ".py",
      "codemirror_mode": {
        "version": 3,
        "name": "ipython"
      }
    }
  },
  "nbformat": 4,
  "nbformat_minor": 2
}