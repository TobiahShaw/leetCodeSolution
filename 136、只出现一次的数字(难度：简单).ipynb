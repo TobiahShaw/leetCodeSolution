{
  "cells": [
    {
      "metadata": {
        "collapsed": true
      },
      "cell_type": "markdown",
      "source": "# 只出现一次的数字\n\n**题目来源：力扣（LeetCode）**\n\n**链接：https://leetcode-cn.com/problems/single-number/**\n\n## 一、题目\n\n给定一个非空整数数组，除了某个元素只出现一次以外，其余每个元素均出现两次。找出那个只出现了一次的元素。\n\n## 二、示例\n\n### 示例 1:\n\n输入: [2,2,1]\n\n输出: 1\n\n### 示例 2:\n\n输入: [4,1,2,1,2]\n\n输出: 4\n\n## 三、解题思路\n\n### 一、利用字典"
    },
    {
      "metadata": {
        "trusted": true
      },
      "cell_type": "code",
      "source": "def singleNumber(nums):\n    dic = {}\n    for i in nums:\n        if i in dic:\n            dic.pop(i)\n        else:\n            dic[i] = 1\n    return dic.popitem()[0]",
      "execution_count": 1,
      "outputs": []
    },
    {
      "metadata": {
        "trusted": true
      },
      "cell_type": "code",
      "source": "singleNumber([2,2,1])",
      "execution_count": 2,
      "outputs": [
        {
          "output_type": "execute_result",
          "execution_count": 2,
          "data": {
            "text/plain": "1"
          },
          "metadata": {}
        }
      ]
    },
    {
      "metadata": {
        "trusted": true
      },
      "cell_type": "code",
      "source": "singleNumber([4,1,2,1,2])",
      "execution_count": 3,
      "outputs": [
        {
          "output_type": "execute_result",
          "execution_count": 3,
          "data": {
            "text/plain": "4"
          },
          "metadata": {}
        }
      ]
    },
    {
      "metadata": {},
      "cell_type": "markdown",
      "source": "### 二、数学\n\n2 * (a + b + c) - (a + a + b + b + c) = c"
    },
    {
      "metadata": {
        "trusted": true
      },
      "cell_type": "code",
      "source": "def singleNumber(nums):\n    return 2 * sum(set(nums)) - sum(nums)",
      "execution_count": 4,
      "outputs": []
    },
    {
      "metadata": {
        "trusted": true
      },
      "cell_type": "code",
      "source": "singleNumber([2,2,1])",
      "execution_count": 5,
      "outputs": [
        {
          "output_type": "execute_result",
          "execution_count": 5,
          "data": {
            "text/plain": "1"
          },
          "metadata": {}
        }
      ]
    },
    {
      "metadata": {
        "trusted": true
      },
      "cell_type": "code",
      "source": "singleNumber([4,1,2,1,2])",
      "execution_count": 6,
      "outputs": [
        {
          "output_type": "execute_result",
          "execution_count": 6,
          "data": {
            "text/plain": "4"
          },
          "metadata": {}
        }
      ]
    },
    {
      "metadata": {},
      "cell_type": "markdown",
      "source": "### 三、利用异或\n\n如果我们对 0 和二进制位做 XOR 运算，得到的仍然是这个二进制位\n\n$ a \\oplus 0 = a $\n\n如果我们对相同的二进制位做 XOR 运算，返回的结果是 0\n\n$ a \\oplus a = 0 $\n\nXOR 满足交换律和结合律\n\n$ a \\oplus b \\oplus a = (a \\oplus a) \\oplus b = 0 \\oplus b = b $\n\n所以我们只需要将所有的数进行 XOR 操作，得到那个唯一的数字。\n"
    },
    {
      "metadata": {
        "trusted": true
      },
      "cell_type": "code",
      "source": "def singleNumber(nums):\n    a = 0\n    for i in nums:\n        a ^= i\n    return a",
      "execution_count": 7,
      "outputs": []
    },
    {
      "metadata": {
        "trusted": true
      },
      "cell_type": "code",
      "source": "singleNumber([2,2,1])",
      "execution_count": 8,
      "outputs": [
        {
          "output_type": "execute_result",
          "execution_count": 8,
          "data": {
            "text/plain": "1"
          },
          "metadata": {}
        }
      ]
    },
    {
      "metadata": {
        "trusted": true
      },
      "cell_type": "code",
      "source": "singleNumber([4,1,2,1,2])",
      "execution_count": 9,
      "outputs": [
        {
          "output_type": "execute_result",
          "execution_count": 9,
          "data": {
            "text/plain": "4"
          },
          "metadata": {}
        }
      ]
    },
    {
      "metadata": {
        "trusted": true
      },
      "cell_type": "code",
      "source": "",
      "execution_count": null,
      "outputs": []
    }
  ],
  "metadata": {
    "kernelspec": {
      "name": "python36",
      "display_name": "Python 3.6",
      "language": "python"
    },
    "language_info": {
      "mimetype": "text/x-python",
      "nbconvert_exporter": "python",
      "name": "python",
      "pygments_lexer": "ipython3",
      "version": "3.6.6",
      "file_extension": ".py",
      "codemirror_mode": {
        "version": 3,
        "name": "ipython"
      }
    }
  },
  "nbformat": 4,
  "nbformat_minor": 2
}