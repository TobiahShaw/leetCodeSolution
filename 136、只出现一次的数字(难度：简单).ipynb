{
  "cells": [
    {
      "cell_type": "markdown",
      "metadata": {
        "collapsed": true
      },
      "source": [
        "# 只出现一次的数字\n",
        "\n",
        "**题目来源：力扣（LeetCode）**\n",
        "\n",
        "**链接：https://leetcode-cn.com/problems/single-number/**\n",
        "\n",
        "## 一、题目\n",
        "\n",
        "给定一个非空整数数组，除了某个元素只出现一次以外，其余每个元素均出现两次。找出那个只出现了一次的元素。\n",
        "\n",
        "### 说明：\n",
        "\n",
        "你的算法应该具有线性时间复杂度。 你可以不使用额外空间来实现吗？\n",
        "\n",
        "## 二、示例\n",
        "\n",
        "### 示例 1:\n",
        "\n",
        "输入: [2,2,1]\n",
        "\n",
        "输出: 1\n",
        "\n",
        "### 示例 2:\n",
        "\n",
        "输入: [4,1,2,1,2]\n",
        "\n",
        "输出: 4\n",
        "\n",
        "## 三、解题思路\n",
        "\n",
        "### 一、利用字典"
      ]
    },
    {
      "cell_type": "code",
      "execution_count": 1,
      "metadata": {
        "trusted": true
      },
      "outputs": [],
      "source": [
        "def singleNumber(nums):\n",
        "    dic = {}\n",
        "    for i in nums:\n",
        "        if i in dic:\n",
        "            dic.pop(i)\n",
        "        else:\n",
        "            dic[i] = 1\n",
        "    return dic.popitem()[0]"
      ]
    },
    {
      "cell_type": "code",
      "execution_count": 2,
      "metadata": {
        "trusted": true
      },
      "outputs": [
        {
          "data": {
            "text/plain": [
              "1"
            ]
          },
          "execution_count": 2,
          "metadata": {},
          "output_type": "execute_result"
        }
      ],
      "source": [
        "singleNumber([2,2,1])"
      ]
    },
    {
      "cell_type": "code",
      "execution_count": 3,
      "metadata": {
        "trusted": true
      },
      "outputs": [
        {
          "data": {
            "text/plain": [
              "4"
            ]
          },
          "execution_count": 3,
          "metadata": {},
          "output_type": "execute_result"
        }
      ],
      "source": [
        "singleNumber([4,1,2,1,2])"
      ]
    },
    {
      "cell_type": "markdown",
      "metadata": {},
      "source": [
        "### 二、数学\n",
        "\n",
        "2 * (a + b + c) - (a + a + b + b + c) = c"
      ]
    },
    {
      "cell_type": "code",
      "execution_count": 4,
      "metadata": {
        "trusted": true
      },
      "outputs": [],
      "source": [
        "def singleNumber(nums):\n",
        "    return 2 * sum(set(nums)) - sum(nums)"
      ]
    },
    {
      "cell_type": "code",
      "execution_count": 5,
      "metadata": {
        "trusted": true
      },
      "outputs": [
        {
          "data": {
            "text/plain": [
              "1"
            ]
          },
          "execution_count": 5,
          "metadata": {},
          "output_type": "execute_result"
        }
      ],
      "source": [
        "singleNumber([2,2,1])"
      ]
    },
    {
      "cell_type": "code",
      "execution_count": 6,
      "metadata": {
        "trusted": true
      },
      "outputs": [
        {
          "data": {
            "text/plain": [
              "4"
            ]
          },
          "execution_count": 6,
          "metadata": {},
          "output_type": "execute_result"
        }
      ],
      "source": [
        "singleNumber([4,1,2,1,2])"
      ]
    },
    {
      "cell_type": "markdown",
      "metadata": {},
      "source": [
        "### 三、利用异或\n",
        "\n",
        "如果我们对 0 和二进制位做 XOR 运算，得到的仍然是这个二进制位\n",
        "\n",
        "$ a \\oplus 0 = a $\n",
        "\n",
        "如果我们对相同的二进制位做 XOR 运算，返回的结果是 0\n",
        "\n",
        "$ a \\oplus a = 0 $\n",
        "\n",
        "XOR 满足交换律和结合律\n",
        "\n",
        "$ a \\oplus b \\oplus a = (a \\oplus a) \\oplus b = 0 \\oplus b = b $\n",
        "\n",
        "所以我们只需要将所有的数进行 XOR 操作，得到那个唯一的数字。\n"
      ]
    },
    {
      "cell_type": "code",
      "execution_count": 7,
      "metadata": {
        "trusted": true
      },
      "outputs": [],
      "source": [
        "def singleNumber(nums):\n",
        "    a = 0\n",
        "    for i in nums:\n",
        "        a ^= i\n",
        "    return a"
      ]
    },
    {
      "cell_type": "code",
      "execution_count": 8,
      "metadata": {
        "trusted": true
      },
      "outputs": [
        {
          "data": {
            "text/plain": [
              "1"
            ]
          },
          "execution_count": 8,
          "metadata": {},
          "output_type": "execute_result"
        }
      ],
      "source": [
        "singleNumber([2,2,1])"
      ]
    },
    {
      "cell_type": "code",
      "execution_count": 9,
      "metadata": {
        "trusted": true
      },
      "outputs": [
        {
          "data": {
            "text/plain": [
              "4"
            ]
          },
          "execution_count": 9,
          "metadata": {},
          "output_type": "execute_result"
        }
      ],
      "source": [
        "singleNumber([4,1,2,1,2])"
      ]
    },
    {
      "cell_type": "code",
      "execution_count": null,
      "metadata": {
        "trusted": true
      },
      "outputs": [],
      "source": []
    }
  ],
  "metadata": {
    "kernelspec": {
      "display_name": "Python 3.6",
      "language": "python",
      "name": "python36"
    },
    "language_info": {
      "codemirror_mode": {
        "name": "ipython",
        "version": 3
      },
      "file_extension": ".py",
      "mimetype": "text/x-python",
      "name": "python",
      "nbconvert_exporter": "python",
      "pygments_lexer": "ipython3",
      "version": "3.6.6"
    }
  },
  "nbformat": 4,
  "nbformat_minor": 2
}
