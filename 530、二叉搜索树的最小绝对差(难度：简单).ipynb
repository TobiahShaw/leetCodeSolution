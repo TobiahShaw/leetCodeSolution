{
 "cells": [
  {
   "cell_type": "markdown",
   "metadata": {},
   "source": [
    "# 二叉搜索树的最小绝对差\n",
    "\n",
    "**题目来源：力扣（LeetCode）**\n",
    "\n",
    "**链接：https://leetcode-cn.com/problems/minimum-absolute-difference-in-bst/**\n",
    "\n",
    "## 一、题目\n",
    "\n",
    "给你一棵所有节点为非负值的二叉搜索树，请你计算树中任意两节点的差的绝对值的最小值。\n",
    "\n",
    "## 二、示例\n",
    "\n",
    "输入：\n",
    "\n",
    "```\n",
    "   1\n",
    "    \\\n",
    "     3\n",
    "    /\n",
    "   2\n",
    "```\n",
    "\n",
    "输出：\n",
    "\n",
    "1\n",
    "\n",
    "解释：\n",
    "\n",
    "最小绝对差为 1，其中 2 和 1 的差的绝对值为 1（或者 2 和 3）。\n",
    "\n",
    "## 三、解题思路"
   ]
  },
  {
   "cell_type": "code",
   "execution_count": 1,
   "metadata": {},
   "outputs": [],
   "source": [
    "class TreeNode:\n",
    "    def __init__(self, x):\n",
    "        self.val = x\n",
    "        self.left = None\n",
    "        self.right = None"
   ]
  },
  {
   "cell_type": "code",
   "execution_count": 2,
   "metadata": {},
   "outputs": [],
   "source": [
    "root = TreeNode(1)\n",
    "\n",
    "root.right = TreeNode(3)\n",
    "\n",
    "root.right.left = TreeNode(2)"
   ]
  },
  {
   "cell_type": "code",
   "execution_count": 3,
   "metadata": {},
   "outputs": [],
   "source": [
    "def getMinimumDifference(root: TreeNode) -> int:\n",
    "        def dfs(aar, node):\n",
    "            if not node:\n",
    "                return\n",
    "            dfs(aar, node.left)\n",
    "            aar.append(node.val)\n",
    "            dfs(aar, node.right)\n",
    "        aar = []\n",
    "        dfs(aar, root)\n",
    "        ret = float('inf')\n",
    "        for i in range(1, len(aar)):\n",
    "            ret = min(aar[i]-aar[i-1], ret)\n",
    "        return ret"
   ]
  },
  {
   "cell_type": "code",
   "execution_count": 4,
   "metadata": {},
   "outputs": [
    {
     "data": {
      "text/plain": [
       "1"
      ]
     },
     "execution_count": 4,
     "metadata": {},
     "output_type": "execute_result"
    }
   ],
   "source": [
    "getMinimumDifference(root)"
   ]
  },
  {
   "cell_type": "code",
   "execution_count": null,
   "metadata": {},
   "outputs": [],
   "source": []
  }
 ],
 "metadata": {
  "kernelspec": {
   "display_name": "Python 3",
   "language": "python",
   "name": "python3"
  },
  "language_info": {
   "codemirror_mode": {
    "name": "ipython",
    "version": 3
   },
   "file_extension": ".py",
   "mimetype": "text/x-python",
   "name": "python",
   "nbconvert_exporter": "python",
   "pygments_lexer": "ipython3",
   "version": "3.6.5"
  }
 },
 "nbformat": 4,
 "nbformat_minor": 4
}
