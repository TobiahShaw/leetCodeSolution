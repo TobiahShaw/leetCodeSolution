{
 "cells": [
  {
   "cell_type": "markdown",
   "metadata": {},
   "source": [
    "# 边界着色\n",
    "\n",
    "**题目来源：力扣（LeetCode）**\n",
    "\n",
    "**链接：https://leetcode-cn.com/problems/coloring-a-border/**\n",
    "\n",
    "## 一、题目\n",
    "\n",
    "给你一个大小为 m x n 的整数矩阵 grid ，表示一个网格。另给你三个整数 row、col 和 color 。网格中的每个值表示该位置处的网格块的颜色。\n",
    "\n",
    "当两个网格块的颜色相同，而且在四个方向中任意一个方向上相邻时，它们属于同一 连通分量 。\n",
    "\n",
    "连通分量的边界 是指连通分量中的所有与不在分量中的网格块相邻（四个方向上）的所有网格块，或者在网格的边界上（第一行/列或最后一行/列）的所有网格块。\n",
    "\n",
    "请你使用指定颜色 color 为所有包含网格块 grid[row][col] 的 连通分量的边界 进行着色，并返回最终的网格 grid 。\n",
    "\n",
    "### 提示：\n",
    "\n",
    "- m == grid.length\n",
    "- n == grid[i].length\n",
    "- 1 <= m, n <= 50\n",
    "- 1 <= grid[i][j], color <= 1000\n",
    "- 0 <= row < m\n",
    "- 0 <= col < n\n",
    "\n",
    "## 二、示例\n",
    "\n",
    "### 示例 1：\n",
    "\n",
    "输入：grid = [[1,1],[1,2]], row = 0, col = 0, color = 3\n",
    "\n",
    "输出：[[3,3],[3,2]]\n",
    "\n",
    "### 示例 2：\n",
    "\n",
    "输入：grid = [[1,2,2],[2,3,2]], row = 0, col = 1, color = 3\n",
    "\n",
    "输出：[[1,3,3],[2,3,3]]\n",
    "\n",
    "### 示例 3：\n",
    "\n",
    "输入：grid = [[1,1,1],[1,1,1],[1,1,1]], row = 1, col = 1, color = 2\n",
    "\n",
    "输出：[[2,2,2],[2,1,2],[2,2,2]]\n",
    "\n",
    "## 三、解题思路\n",
    "\n",
    "### DFS"
   ]
  },
  {
   "cell_type": "code",
   "execution_count": 1,
   "metadata": {},
   "outputs": [],
   "source": [
    "def colorBorder(grid, row: int, col: int, color: int):\n",
    "    m, n = len(grid), len(grid[0])\n",
    "    visited = [[False] * n for _ in range(m)]\n",
    "    borders = []\n",
    "    originalColor = grid[row][col]\n",
    "    visited[row][col] = True\n",
    "    def dfs(x, y):  \n",
    "        isBorder = False        \n",
    "        direc = ((-1, 0), (1, 0), (0, -1), (0, 1))\n",
    "        for dx, dy in direc:\n",
    "            nx, ny = x + dx, y + dy\n",
    "            if not (0 <= nx < m and 0 <= ny < n and grid[nx][ny] == originalColor):\n",
    "                isBorder = True\n",
    "            elif not visited[nx][ny]:\n",
    "                visited[nx][ny] = True\n",
    "                dfs(nx, ny)\n",
    "        if isBorder:\n",
    "            borders.append((x, y))\n",
    "    dfs(row, col)\n",
    "    for x, y in borders:\n",
    "        grid[x][y] = color\n",
    "    return grid"
   ]
  },
  {
   "cell_type": "code",
   "execution_count": 2,
   "metadata": {},
   "outputs": [
    {
     "data": {
      "text/plain": [
       "[[3, 3], [3, 2]]"
      ]
     },
     "execution_count": 2,
     "metadata": {},
     "output_type": "execute_result"
    }
   ],
   "source": [
    "colorBorder(grid = [[1,1],[1,2]], row = 0, col = 0, color = 3)"
   ]
  },
  {
   "cell_type": "code",
   "execution_count": 3,
   "metadata": {},
   "outputs": [
    {
     "data": {
      "text/plain": [
       "[[1, 3, 3], [2, 3, 3]]"
      ]
     },
     "execution_count": 3,
     "metadata": {},
     "output_type": "execute_result"
    }
   ],
   "source": [
    "colorBorder(grid = [[1,2,2],[2,3,2]], row = 0, col = 1, color = 3)"
   ]
  },
  {
   "cell_type": "code",
   "execution_count": 4,
   "metadata": {},
   "outputs": [
    {
     "data": {
      "text/plain": [
       "[[2, 2, 2], [2, 1, 2], [2, 2, 2]]"
      ]
     },
     "execution_count": 4,
     "metadata": {},
     "output_type": "execute_result"
    }
   ],
   "source": [
    "colorBorder(grid = [[1,1,1],[1,1,1],[1,1,1]], row = 1, col = 1, color = 2)"
   ]
  },
  {
   "cell_type": "code",
   "execution_count": null,
   "metadata": {},
   "outputs": [],
   "source": []
  }
 ],
 "metadata": {
  "kernelspec": {
   "display_name": "Python 3",
   "language": "python",
   "name": "python3"
  },
  "language_info": {
   "codemirror_mode": {
    "name": "ipython",
    "version": 3
   },
   "file_extension": ".py",
   "mimetype": "text/x-python",
   "name": "python",
   "nbconvert_exporter": "python",
   "pygments_lexer": "ipython3",
   "version": "3.6.5"
  }
 },
 "nbformat": 4,
 "nbformat_minor": 2
}
