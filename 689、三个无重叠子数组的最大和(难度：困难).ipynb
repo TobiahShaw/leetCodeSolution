{
 "cells": [
  {
   "cell_type": "markdown",
   "metadata": {},
   "source": [
    "# 三个无重叠子数组的最大和\n",
    "\n",
    "**题目来源：力扣（LeetCode）**\n",
    "\n",
    "**链接：https://leetcode-cn.com/problems/maximum-sum-of-3-non-overlapping-subarrays/**\n",
    "\n",
    "## 一、题目\n",
    "\n",
    "给你一个整数数组 nums 和一个整数 k ，找出三个长度为 k 、互不重叠、且 3 * k 项的和最大的子数组，并返回这三个子数组。\n",
    "\n",
    "以下标的数组形式返回结果，数组中的每一项分别指示每个子数组的起始位置（下标从 0 开始）。如果有多个结果，返回字典序最小的一个。\n",
    "\n",
    "### 提示：\n",
    "\n",
    "- 1 <= nums.length <= 2 * 10^4\n",
    "- 1 <= nums[i] < 2^16\n",
    "- 1 <= k <= floor(nums.length / 3)\n",
    "\n",
    "## 二、示例\n",
    "\n",
    "### 示例 1：\n",
    "\n",
    "输入：nums = [1,2,1,2,6,7,5,1], k = 2\n",
    "\n",
    "输出：[0,3,5]\n",
    "\n",
    "解释：子数组 [1, 2], [2, 6], [7, 5] 对应的起始下标为 [0, 3, 5]。也可以取 [2, 1], 但是结果 [1, 3, 5] 在字典序上更大。\n",
    "\n",
    "### 示例 2：\n",
    "\n",
    "输入：nums = [1,2,1,2,1,2,1,2,1], k = 2\n",
    "\n",
    "输出：[0,2,4]\n",
    "\n",
    "## 三、解题思路\n",
    "\n",
    "### 滑动窗口"
   ]
  },
  {
   "cell_type": "code",
   "execution_count": 1,
   "metadata": {},
   "outputs": [],
   "source": [
    "def maxSumOfThreeSubarrays(nums, k: int):\n",
    "    ans = []\n",
    "    sum1, maxSum1, maxSum1Idx = 0, 0, 0\n",
    "    sum2, maxSum12, maxSum12Idx = 0, 0, ()\n",
    "    sum3, maxTotal = 0, 0\n",
    "    for i in range(k * 2, len(nums)):\n",
    "        sum1 += nums[i - k * 2]\n",
    "        sum2 += nums[i - k]\n",
    "        sum3 += nums[i]\n",
    "        if i >= k * 3 - 1:\n",
    "            if sum1 > maxSum1:\n",
    "                maxSum1 = sum1\n",
    "                maxSum1Idx = i - k * 3 + 1\n",
    "            if maxSum1 + sum2 > maxSum12:\n",
    "                maxSum12 = maxSum1 + sum2\n",
    "                maxSum12Idx = (maxSum1Idx, i - k * 2 + 1)\n",
    "            if maxSum12 + sum3 > maxTotal:\n",
    "                maxTotal = maxSum12 + sum3\n",
    "                ans = [*maxSum12Idx, i - k + 1]\n",
    "            sum1 -= nums[i - k * 3 + 1]\n",
    "            sum2 -= nums[i - k * 2 + 1]\n",
    "            sum3 -= nums[i - k + 1]\n",
    "    return ans"
   ]
  },
  {
   "cell_type": "code",
   "execution_count": 2,
   "metadata": {},
   "outputs": [
    {
     "data": {
      "text/plain": [
       "[0, 3, 5]"
      ]
     },
     "execution_count": 2,
     "metadata": {},
     "output_type": "execute_result"
    }
   ],
   "source": [
    "maxSumOfThreeSubarrays(nums = [1,2,1,2,6,7,5,1], k = 2)"
   ]
  },
  {
   "cell_type": "code",
   "execution_count": 3,
   "metadata": {},
   "outputs": [
    {
     "data": {
      "text/plain": [
       "[0, 2, 4]"
      ]
     },
     "execution_count": 3,
     "metadata": {},
     "output_type": "execute_result"
    }
   ],
   "source": [
    "maxSumOfThreeSubarrays(nums = [1,2,1,2,1,2,1,2,1], k = 2)"
   ]
  },
  {
   "cell_type": "code",
   "execution_count": null,
   "metadata": {},
   "outputs": [],
   "source": []
  }
 ],
 "metadata": {
  "kernelspec": {
   "display_name": "Python 3",
   "language": "python",
   "name": "python3"
  },
  "language_info": {
   "codemirror_mode": {
    "name": "ipython",
    "version": 3
   },
   "file_extension": ".py",
   "mimetype": "text/x-python",
   "name": "python",
   "nbconvert_exporter": "python",
   "pygments_lexer": "ipython3",
   "version": "3.6.5"
  }
 },
 "nbformat": 4,
 "nbformat_minor": 2
}
