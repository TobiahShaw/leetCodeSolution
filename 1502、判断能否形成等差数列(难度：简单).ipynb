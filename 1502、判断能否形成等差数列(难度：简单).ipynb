{
 "cells": [
  {
   "cell_type": "markdown",
   "metadata": {},
   "source": [
    "# 判断能否形成等差数列\n",
    "\n",
    "**题目来源：力扣（LeetCode）**\n",
    "\n",
    "**链接：https://leetcode.cn/problems/can-make-arithmetic-progression-from-sequence/**\n",
    "\n",
    "## 一、题目\n",
    "\n",
    "给你一个数字数组 arr 。\n",
    "\n",
    "如果一个数列中，任意相邻两项的差总等于同一个常数，那么这个数列就称为 等差数列 。\n",
    "\n",
    "如果可以重新排列数组形成等差数列，请返回 true ；否则，返回 false 。\n",
    "\n",
    "### 提示：\n",
    "\n",
    "- 2 <= arr.length <= 1000\n",
    "- -10^6 <= arr[i] <= 10^6\n",
    "\n",
    "## 二、示例\n",
    "\n",
    "### 示例 1：\n",
    "\n",
    "输入：arr = [3,5,1]\n",
    "\n",
    "输出：true\n",
    "\n",
    "解释：对数组重新排序得到 [1,3,5] 或者 [5,3,1] ，任意相邻两项的差分别为 2 或 -2 ，可以形成等差数列。\n",
    "\n",
    "### 示例 2：\n",
    "\n",
    "输入：arr = [1,2,4]\n",
    "\n",
    "输出：false\n",
    "\n",
    "解释：无法通过重新排序得到等差数列。\n",
    "\n",
    "## 三、解题思路\n",
    "\n",
    "### 排序"
   ]
  },
  {
   "cell_type": "code",
   "execution_count": 1,
   "metadata": {},
   "outputs": [],
   "source": [
    "def canMakeArithmeticProgression(arr) -> bool:\n",
    "    arr.sort()\n",
    "    for i in range(1, len(arr) - 1):\n",
    "        if arr[i] * 2 != arr[i - 1] + arr[i + 1]:\n",
    "            return False\n",
    "    return True"
   ]
  },
  {
   "cell_type": "code",
   "execution_count": 2,
   "metadata": {},
   "outputs": [
    {
     "data": {
      "text/plain": [
       "True"
      ]
     },
     "execution_count": 2,
     "metadata": {},
     "output_type": "execute_result"
    }
   ],
   "source": [
    "canMakeArithmeticProgression([3,5,1])"
   ]
  },
  {
   "cell_type": "code",
   "execution_count": 3,
   "metadata": {},
   "outputs": [
    {
     "data": {
      "text/plain": [
       "False"
      ]
     },
     "execution_count": 3,
     "metadata": {},
     "output_type": "execute_result"
    }
   ],
   "source": [
    "canMakeArithmeticProgression([1,2,4])"
   ]
  },
  {
   "cell_type": "code",
   "execution_count": null,
   "metadata": {},
   "outputs": [],
   "source": []
  }
 ],
 "metadata": {
  "kernelspec": {
   "display_name": "Python 3",
   "language": "python",
   "name": "python3"
  },
  "language_info": {
   "codemirror_mode": {
    "name": "ipython",
    "version": 3
   },
   "file_extension": ".py",
   "mimetype": "text/x-python",
   "name": "python",
   "nbconvert_exporter": "python",
   "pygments_lexer": "ipython3",
   "version": "3.6.5"
  }
 },
 "nbformat": 4,
 "nbformat_minor": 2
}
