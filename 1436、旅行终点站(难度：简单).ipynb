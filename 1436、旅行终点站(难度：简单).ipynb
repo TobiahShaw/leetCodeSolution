{
  "cells": [
    {
      "metadata": {
        "collapsed": true
      },
      "cell_type": "markdown",
      "source": "# 旅行终点站\n\n**题目来源：力扣（LeetCode）**\n\n**链接：https://leetcode-cn.com/problems/destination-city/**\n\n## 一、题目\n\n给你一份旅游线路图，该线路图中的旅行线路用数组 paths 表示，其中 paths[i] = [cityAi, cityBi] 表示该线路将会从 cityAi 直接前往 cityBi 。请你找出这次旅行的终点站，即没有任何可以通往其他城市的线路的城市。\n\n题目数据保证线路图会形成一条不存在循环的线路，因此只会有一个旅行终点站。\n\n## 二、示例\n\n### 示例 1：\n\n输入：paths = [[\"London\",\"New York\"],[\"New York\",\"Lima\"],[\"Lima\",\"Sao Paulo\"]]\n\n输出：\"Sao Paulo\" \n\n解释：从 \"London\" 出发，最后抵达终点站 \"Sao Paulo\" 。本次旅行的路线是 \"London\" -> \"New York\" -> \"Lima\" -> \"Sao Paulo\" 。\n\n### 示例 2：\n\n输入：paths = [[\"B\",\"C\"],[\"D\",\"B\"],[\"C\",\"A\"]]\n\n输出：\"A\"\n\n解释：所有可能的线路是：\n\n\"D\" -> \"B\" -> \"C\" -> \"A\". \n\n\"B\" -> \"C\" -> \"A\". \n\n\"C\" -> \"A\". \n\n\"A\". \n\n显然，旅行终点站是 \"A\" 。\n\n### 示例 3：\n\n输入：paths = [[\"A\",\"Z\"]]\n\n输出：\"Z\"\n\n## 三、解题思路\n\n### 利用集合\n\n根据题目给出的条件可以得到一个关键的结论：\n\n#### 作为终点站的地方，不会作为出发站\n\n那我们将所有出发站放到集合中，然后遍历所有的到达站，不在出发站集合中的就是终点站"
    },
    {
      "metadata": {
        "trusted": true
      },
      "cell_type": "code",
      "source": "def destCity(paths):\n    startSet = set()\n    for path in paths:\n        startSet.add(path[0])\n    for path in paths:\n        if path[1] not in startSet:\n            return path[1]\n    return \"\" ",
      "execution_count": 1,
      "outputs": []
    },
    {
      "metadata": {
        "trusted": true
      },
      "cell_type": "code",
      "source": "destCity([[\"London\",\"New York\"],[\"New York\",\"Lima\"],[\"Lima\",\"Sao Paulo\"]])",
      "execution_count": 2,
      "outputs": [
        {
          "output_type": "execute_result",
          "execution_count": 2,
          "data": {
            "text/plain": "'Sao Paulo'"
          },
          "metadata": {}
        }
      ]
    },
    {
      "metadata": {
        "trusted": true
      },
      "cell_type": "code",
      "source": "destCity([[\"B\",\"C\"],[\"D\",\"B\"],[\"C\",\"A\"]])",
      "execution_count": 3,
      "outputs": [
        {
          "output_type": "execute_result",
          "execution_count": 3,
          "data": {
            "text/plain": "'A'"
          },
          "metadata": {}
        }
      ]
    },
    {
      "metadata": {
        "trusted": true
      },
      "cell_type": "code",
      "source": "destCity([[\"A\",\"Z\"]])",
      "execution_count": 4,
      "outputs": [
        {
          "output_type": "execute_result",
          "execution_count": 4,
          "data": {
            "text/plain": "'Z'"
          },
          "metadata": {}
        }
      ]
    },
    {
      "metadata": {
        "trusted": true
      },
      "cell_type": "code",
      "source": "",
      "execution_count": null,
      "outputs": []
    }
  ],
  "metadata": {
    "kernelspec": {
      "name": "python36",
      "display_name": "Python 3.6",
      "language": "python"
    },
    "language_info": {
      "mimetype": "text/x-python",
      "nbconvert_exporter": "python",
      "name": "python",
      "pygments_lexer": "ipython3",
      "version": "3.6.6",
      "file_extension": ".py",
      "codemirror_mode": {
        "version": 3,
        "name": "ipython"
      }
    }
  },
  "nbformat": 4,
  "nbformat_minor": 2
}