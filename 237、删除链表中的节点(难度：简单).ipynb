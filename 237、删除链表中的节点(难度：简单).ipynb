{
  "cells": [
    {
      "metadata": {
        "collapsed": true
      },
      "cell_type": "markdown",
      "source": "# 删除链表中的节点\n\n**题目来源：力扣（LeetCode）**\n\n**链接：https://leetcode-cn.com/problems/delete-node-in-a-linked-list/**\n\n## 一、题目\n\n请编写一个函数，使其可以删除某个链表中给定的（非末尾）节点，你将只被给定要求被删除的节点。\n\n## 二、示例\n\n### 示例一\n\n输入: head = [4,5,1,9], node = 5\n\n输出: [4,1,9]\n\n解释: 给定你链表中值为 5 的第二个节点，那么在调用了你的函数之后，该链表应变为 4 -> 1 -> 9.\n\n### 示例二\n\n输入: head = [4,5,1,9], node = 1\n\n输出: [4,5,9]\n\n解释: 给定你链表中值为 1 的第三个节点，那么在调用了你的函数之后，该链表应变为 4 -> 5 -> 9.\n\n## 三、说明\n\n- 链表至少包含两个节点。\n- 链表中所有节点的值都是唯一的。\n- 给定的节点为非末尾节点并且一定是链表中的一个有效节点。\n- **参数只有一个入参，为需要删除的节点！！！**\n\n## 三、解题思路\n\n将当前节点的值和next都换为下个节点的即可。"
    },
    {
      "metadata": {
        "trusted": true
      },
      "cell_type": "code",
      "source": "class ListNode:\n    def __init__(self, x):\n        self.val = x\n        self.next = None",
      "execution_count": 1,
      "outputs": []
    },
    {
      "metadata": {
        "trusted": true
      },
      "cell_type": "code",
      "source": "def printNode(node):\n    while node:\n        print(node.val, end=' ')\n        node = node.next",
      "execution_count": 2,
      "outputs": []
    },
    {
      "metadata": {
        "trusted": true
      },
      "cell_type": "code",
      "source": "node = ListNode(4)\nnode1 =  ListNode(5)\nnode2 =  ListNode(1)\nnode3 =  ListNode(9)\nnode.next = node1\nnode1.next = node2\nnode2.next = node3",
      "execution_count": 3,
      "outputs": []
    },
    {
      "metadata": {
        "trusted": true
      },
      "cell_type": "code",
      "source": "printNode(node)",
      "execution_count": 4,
      "outputs": [
        {
          "output_type": "stream",
          "text": "4 5 1 9 ",
          "name": "stdout"
        }
      ]
    },
    {
      "metadata": {
        "trusted": true
      },
      "cell_type": "code",
      "source": "def deleteNode(node):\n    node.val, node.next = node.next.val, node.next.next",
      "execution_count": 5,
      "outputs": []
    },
    {
      "metadata": {
        "trusted": true
      },
      "cell_type": "code",
      "source": "deleteNode(node1)",
      "execution_count": 6,
      "outputs": []
    },
    {
      "metadata": {
        "trusted": true
      },
      "cell_type": "code",
      "source": "printNode(node)",
      "execution_count": 7,
      "outputs": [
        {
          "output_type": "stream",
          "text": "4 1 9 ",
          "name": "stdout"
        }
      ]
    },
    {
      "metadata": {
        "trusted": true
      },
      "cell_type": "code",
      "source": "node = ListNode(4)\nnode1 =  ListNode(5)\nnode2 =  ListNode(1)\nnode3 =  ListNode(9)\nnode.next = node1\nnode1.next = node2\nnode2.next = node3",
      "execution_count": 8,
      "outputs": []
    },
    {
      "metadata": {
        "trusted": true
      },
      "cell_type": "code",
      "source": "deleteNode(node2)",
      "execution_count": 9,
      "outputs": []
    },
    {
      "metadata": {
        "trusted": true
      },
      "cell_type": "code",
      "source": "printNode(node)",
      "execution_count": 10,
      "outputs": [
        {
          "output_type": "stream",
          "text": "4 5 9 ",
          "name": "stdout"
        }
      ]
    },
    {
      "metadata": {
        "trusted": true
      },
      "cell_type": "code",
      "source": "",
      "execution_count": null,
      "outputs": []
    }
  ],
  "metadata": {
    "kernelspec": {
      "name": "python36",
      "display_name": "Python 3.6",
      "language": "python"
    },
    "language_info": {
      "mimetype": "text/x-python",
      "nbconvert_exporter": "python",
      "name": "python",
      "pygments_lexer": "ipython3",
      "version": "3.6.6",
      "file_extension": ".py",
      "codemirror_mode": {
        "version": 3,
        "name": "ipython"
      }
    }
  },
  "nbformat": 4,
  "nbformat_minor": 2
}