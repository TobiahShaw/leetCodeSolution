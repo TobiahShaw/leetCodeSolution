{
 "cells": [
  {
   "cell_type": "markdown",
   "metadata": {},
   "source": [
    "# 翻转矩阵后的得分\n",
    "\n",
    "**题目来源：力扣（LeetCode）**\n",
    "\n",
    "**链接：https://leetcode-cn.com/problems/score-after-flipping-matrix/**\n",
    "\n",
    "## 一、题目\n",
    "\n",
    "有一个二维矩阵 A 其中每个元素的值为 0 或 1 。\n",
    "\n",
    "移动是指选择任一行或列，并转换该行或列中的每一个值：将所有 0 都更改为 1，将所有 1 都更改为 0。\n",
    "\n",
    "在做出任意次数的移动后，将该矩阵的每一行都按照二进制数来解释，矩阵的得分就是这些数字的总和。\n",
    "\n",
    "返回尽可能高的分数。\n",
    "\n",
    "提示：\n",
    "\n",
    "1. 1 <= A.length <= 20\n",
    "2. 1 <= A[0].length <= 20\n",
    "3. A[i][j] 是 0 或 1\n",
    "\n",
    "## 二、示例\n",
    "\n",
    "输入：[[0,0,1,1],[1,0,1,0],[1,1,0,0]]\n",
    "\n",
    "输出：39\n",
    "\n",
    "解释：\n",
    "\n",
    "转换为 [[1,1,1,1],[1,0,0,1],[1,1,1,1]]\n",
    "\n",
    "0b1111 + 0b1001 + 0b1111 = 15 + 9 + 15 = 39\n",
    "\n",
    "## 三、解题思路\n",
    "\n",
    "### 贪心\n",
    "\n",
    "1. 先处理第0列，使得每一行的第0列都是1，即遍历每一行，如果行头不是0，则翻转这一行，其间记录每一列1的个数\n",
    "2. 判断每一列1的个数是否大于行号的一半，如果不大于则翻转这一列"
   ]
  },
  {
   "cell_type": "code",
   "execution_count": 1,
   "metadata": {},
   "outputs": [],
   "source": [
    "def matrixScore(A) -> int:\n",
    "    m, n = len(A), len(A[0])\n",
    "    count1 = [0] * n\n",
    "    for r in range(m):\n",
    "        if A[r][0] == 1:\n",
    "            for c in range(n):\n",
    "                count1[c] += A[r][c]\n",
    "        else:\n",
    "            for c in range(n):\n",
    "                A[r][c] = 0 if A[r][c] == 1 else 1\n",
    "                count1[c] += A[r][c]\n",
    "    for i in range(1, n):\n",
    "        c = count1[i]\n",
    "        if c < m / 2:\n",
    "            for j in range(m):\n",
    "                A[j][i] = 0 if A[j][i] == 1 else 1\n",
    "    ret = 0\n",
    "    for i in range(m):\n",
    "        row = 0\n",
    "        for j in range(n):\n",
    "            row = row * 2 + A[i][j]\n",
    "        ret += row\n",
    "    return ret"
   ]
  },
  {
   "cell_type": "code",
   "execution_count": 2,
   "metadata": {},
   "outputs": [
    {
     "data": {
      "text/plain": [
       "39"
      ]
     },
     "execution_count": 2,
     "metadata": {},
     "output_type": "execute_result"
    }
   ],
   "source": [
    "matrixScore([[0,0,1,1],[1,0,1,0],[1,1,0,0]])"
   ]
  },
  {
   "cell_type": "code",
   "execution_count": null,
   "metadata": {},
   "outputs": [],
   "source": []
  }
 ],
 "metadata": {
  "kernelspec": {
   "display_name": "Python 3",
   "language": "python",
   "name": "python3"
  },
  "language_info": {
   "codemirror_mode": {
    "name": "ipython",
    "version": 3
   },
   "file_extension": ".py",
   "mimetype": "text/x-python",
   "name": "python",
   "nbconvert_exporter": "python",
   "pygments_lexer": "ipython3",
   "version": "3.6.5"
  }
 },
 "nbformat": 4,
 "nbformat_minor": 2
}
