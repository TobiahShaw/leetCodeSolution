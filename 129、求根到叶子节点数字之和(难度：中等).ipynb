{
 "cells": [
  {
   "cell_type": "markdown",
   "metadata": {},
   "source": [
    "# 求根到叶子节点数字之和\n",
    "\n",
    "**题目来源：力扣（LeetCode）**\n",
    "\n",
    "**链接：https://leetcode-cn.com/problems/sum-root-to-leaf-numbers/**\n",
    "\n",
    "## 一、题目\n",
    "\n",
    "给定一个二叉树，它的每个结点都存放一个 0-9 的数字，每条从根到叶子节点的路径都代表一个数字。\n",
    "\n",
    "例如，从根到叶子节点路径 1->2->3 代表数字 123。\n",
    "\n",
    "计算从根到叶子节点生成的所有数字之和。\n",
    "\n",
    "说明: 叶子节点是指没有子节点的节点。\n",
    "\n",
    "## 二、示例\n",
    "\n",
    "### 示例 1：\n",
    "\n",
    "输入: [1,2,3]\n",
    "\n",
    "```\n",
    "    1\n",
    "   / \\\n",
    "  2   3\n",
    "```\n",
    "\n",
    "输出: 25\n",
    "\n",
    "解释:\n",
    "\n",
    "从根到叶子节点路径 1->2 代表数字 12.\n",
    "\n",
    "从根到叶子节点路径 1->3 代表数字 13.\n",
    "\n",
    "因此，数字总和 = 12 + 13 = 25.\n",
    "\n",
    "### 示例 2:\n",
    "\n",
    "输入: [4,9,0,5,1]\n",
    "\n",
    "```\n",
    "    4\n",
    "   / \\\n",
    "  9   0\n",
    " / \\\n",
    "5   1\n",
    "```\n",
    "\n",
    "输出: 1026\n",
    "\n",
    "解释:\n",
    "\n",
    "从根到叶子节点路径 4->9->5 代表数字 495.\n",
    "\n",
    "从根到叶子节点路径 4->9->1 代表数字 491.\n",
    "\n",
    "从根到叶子节点路径 4->0 代表数字 40.\n",
    "\n",
    "因此，数字总和 = 495 + 491 + 40 = 1026.\n",
    "\n",
    "## 三、解题思路"
   ]
  },
  {
   "cell_type": "code",
   "execution_count": 1,
   "metadata": {},
   "outputs": [],
   "source": [
    "class TreeNode:\n",
    "    def __init__(self, x):\n",
    "        self.val = x\n",
    "        self.left = None\n",
    "        self.right = None"
   ]
  },
  {
   "cell_type": "code",
   "execution_count": 2,
   "metadata": {},
   "outputs": [],
   "source": [
    "root1 = TreeNode(1)\n",
    "root1.left = TreeNode(2)\n",
    "root1.right = TreeNode(3)\n",
    "\n",
    "root2 = TreeNode(4)\n",
    "root2.left = TreeNode(9)\n",
    "root2.right = TreeNode(0)\n",
    "\n",
    "root2.left.left = TreeNode(5)\n",
    "root2.left.right = TreeNode(1)"
   ]
  },
  {
   "cell_type": "markdown",
   "metadata": {},
   "source": [
    "### 深度优先遍历"
   ]
  },
  {
   "cell_type": "code",
   "execution_count": 3,
   "metadata": {},
   "outputs": [],
   "source": [
    "def sumNumbers(root: TreeNode) -> int:\n",
    "    sumNode = 0\n",
    "    def dfs(node, item):\n",
    "        if not node:\n",
    "            return\n",
    "        item.append(node.val)\n",
    "        if node and not node.left and not node.right:\n",
    "            num = 0\n",
    "            print(item)\n",
    "            n = len(item)\n",
    "            for i in range(n):\n",
    "                num += item[i] * 10**(n - i - 1)\n",
    "            nonlocal sumNode\n",
    "            sumNode += num\n",
    "            return\n",
    "        if node.left:\n",
    "            dfs(node.left, item)\n",
    "            item.pop()\n",
    "        if node.right:\n",
    "            dfs(node.right, item)\n",
    "            item.pop()\n",
    "    if not root:\n",
    "        return sumNode\n",
    "    dfs(root, [])\n",
    "    return sumNode"
   ]
  },
  {
   "cell_type": "code",
   "execution_count": 4,
   "metadata": {},
   "outputs": [
    {
     "name": "stdout",
     "output_type": "stream",
     "text": [
      "[1, 2]\n",
      "[1, 3]\n"
     ]
    },
    {
     "data": {
      "text/plain": [
       "25"
      ]
     },
     "execution_count": 4,
     "metadata": {},
     "output_type": "execute_result"
    }
   ],
   "source": [
    "sumNumbers(root1)"
   ]
  },
  {
   "cell_type": "code",
   "execution_count": 5,
   "metadata": {},
   "outputs": [
    {
     "name": "stdout",
     "output_type": "stream",
     "text": [
      "[4, 9, 5]\n",
      "[4, 9, 1]\n",
      "[4, 0]\n"
     ]
    },
    {
     "data": {
      "text/plain": [
       "1026"
      ]
     },
     "execution_count": 5,
     "metadata": {},
     "output_type": "execute_result"
    }
   ],
   "source": [
    "sumNumbers(root2)"
   ]
  },
  {
   "cell_type": "code",
   "execution_count": null,
   "metadata": {},
   "outputs": [],
   "source": []
  }
 ],
 "metadata": {
  "kernelspec": {
   "display_name": "Python 3",
   "language": "python",
   "name": "python3"
  },
  "language_info": {
   "codemirror_mode": {
    "name": "ipython",
    "version": 3
   },
   "file_extension": ".py",
   "mimetype": "text/x-python",
   "name": "python",
   "nbconvert_exporter": "python",
   "pygments_lexer": "ipython3",
   "version": "3.6.5"
  }
 },
 "nbformat": 4,
 "nbformat_minor": 2
}
