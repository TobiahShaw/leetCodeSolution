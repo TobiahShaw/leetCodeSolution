{
 "cells": [
  {
   "cell_type": "markdown",
   "metadata": {
    "collapsed": true
   },
   "source": [
    "# 序列化和反序列化二叉搜索树\n",
    "\n",
    "**题目来源：力扣（LeetCode）**\n",
    "\n",
    "**链接：https://leetcode-cn.com/problems/arranging-coins/**\n",
    "\n",
    "## 一、题目\n",
    "\n",
    "序列化是将数据结构或对象转换为一系列位的过程，以便它可以存储在文件或内存缓冲区中，或通过网络连接链路传输，以便稍后在同一个或另一个计算机环境中重建。\n",
    "\n",
    "设计一个算法来序列化和反序列化 二叉搜索树 。 对序列化/反序列化算法的工作方式没有限制。 您只需确保二叉搜索树可以序列化为字符串，并且可以将该字符串反序列化为最初的二叉搜索树。\n",
    "\n",
    "编码的字符串应尽可能紧凑。\n",
    "\n",
    "### 提示：\n",
    "\n",
    "- 树中节点数范围是 [0, 10^4]\n",
    "- 0 <= Node.val <= 10^4\n",
    "- 题目数据 保证 输入的树是一棵二叉搜索树。\n",
    "\n",
    "## 二、示例\n",
    "\n",
    "### 示例 1：\n",
    "\n",
    "输入：root = [2,1,3]\n",
    "\n",
    "输出：[2,1,3]\n",
    "\n",
    "### 示例 2：\n",
    "\n",
    "输入：root = []\n",
    "\n",
    "输出：[]\n",
    "\n",
    "## 三、解题思路\n",
    "\n",
    "### 前序遍历和复原"
   ]
  },
  {
   "cell_type": "code",
   "execution_count": 1,
   "metadata": {},
   "outputs": [],
   "source": [
    "class TreeNode:\n",
    "    def __init__(self, x):\n",
    "        self.val = x\n",
    "        self.left = None\n",
    "        self.right = None"
   ]
  },
  {
   "cell_type": "code",
   "execution_count": 2,
   "metadata": {},
   "outputs": [],
   "source": [
    "class Codec:\n",
    "\n",
    "    def serialize(self, root: TreeNode) -> str:\n",
    "        \"\"\"Encodes a tree to a single string.\n",
    "        \"\"\"\n",
    "        if not root:\n",
    "            return \"\"\n",
    "        return \"#\" + str(root.val) + self.serialize(root.left) + self.serialize(root.right)\n",
    "\n",
    "    def deserialize(self, data: str) -> TreeNode:\n",
    "        \"\"\"Decodes your encoded data to tree.\n",
    "        \"\"\"\n",
    "        l = data.split(\"#\")\n",
    "        nodes = []\n",
    "        for s in l:\n",
    "            if not s:\n",
    "                continue\n",
    "            node = TreeNode(int(s))\n",
    "            nodes.append(node)\n",
    "        for i in range(1, len(nodes)):\n",
    "            self.bst_insert(nodes[0], nodes[i])\n",
    "        if not nodes:\n",
    "            return None\n",
    "        return nodes[0]\n",
    "\n",
    "    def bst_insert(self, node: TreeNode, insert_node: TreeNode):\n",
    "        if insert_node.val < node.val:\n",
    "            if node.left:\n",
    "                self.bst_insert(node.left, insert_node)\n",
    "            else:\n",
    "                node.left = insert_node\n",
    "        else:\n",
    "            if node.right:\n",
    "                self.bst_insert(node.right, insert_node)\n",
    "            else:\n",
    "                node.right = insert_node"
   ]
  },
  {
   "cell_type": "code",
   "execution_count": 3,
   "metadata": {},
   "outputs": [],
   "source": [
    "root = TreeNode(2)\n",
    "root.left = TreeNode(1)\n",
    "root.right = TreeNode(3)"
   ]
  },
  {
   "cell_type": "code",
   "execution_count": 4,
   "metadata": {},
   "outputs": [
    {
     "data": {
      "text/plain": [
       "'#2#1#3'"
      ]
     },
     "execution_count": 4,
     "metadata": {},
     "output_type": "execute_result"
    }
   ],
   "source": [
    "codec = Codec()\n",
    "node = codec.deserialize(codec.serialize(root))\n",
    "codec.serialize(node)"
   ]
  },
  {
   "cell_type": "code",
   "execution_count": 5,
   "metadata": {},
   "outputs": [
    {
     "data": {
      "text/plain": [
       "'#2#1#3'"
      ]
     },
     "execution_count": 5,
     "metadata": {},
     "output_type": "execute_result"
    }
   ],
   "source": [
    "codec.serialize(root)"
   ]
  },
  {
   "cell_type": "code",
   "execution_count": null,
   "metadata": {},
   "outputs": [],
   "source": []
  }
 ],
 "metadata": {
  "kernelspec": {
   "display_name": "Python 3",
   "language": "python",
   "name": "python3"
  },
  "language_info": {
   "codemirror_mode": {
    "name": "ipython",
    "version": 3
   },
   "file_extension": ".py",
   "mimetype": "text/x-python",
   "name": "python",
   "nbconvert_exporter": "python",
   "pygments_lexer": "ipython3",
   "version": "3.6.5"
  }
 },
 "nbformat": 4,
 "nbformat_minor": 2
}
