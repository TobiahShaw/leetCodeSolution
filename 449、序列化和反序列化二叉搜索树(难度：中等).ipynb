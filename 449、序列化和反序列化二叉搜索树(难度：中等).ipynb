{
  "cells": [
    {
      "metadata": {
        "collapsed": true
      },
      "cell_type": "markdown",
      "source": "# 序列化和反序列化二叉搜索树\n\n**题目来源：力扣（LeetCode）**\n\n**链接：https://leetcode-cn.com/problems/arranging-coins/**\n\n## 一、题目\n\n序列化是将数据结构或对象转换为一系列位的过程，以便它可以存储在文件或内存缓冲区中，或通过网络连接链路传输，以便稍后在同一个或另一个计算机环境中重建。\n\n设计一个算法来序列化和反序列化二叉搜索树。 对序列化/反序列化算法的工作方式没有限制。 您只需确保二叉搜索树可以序列化为字符串，并且可以将该字符串反序列化为最初的二叉搜索树。\n\n编码的字符串应尽可能紧凑。\n\n注意：不要使用类成员/全局/静态变量来存储状态。 你的序列化和反序列化算法应该是无状态的。\n\n## 二、解题思路\n\n### 前序遍历和复原"
    },
    {
      "metadata": {
        "trusted": true
      },
      "cell_type": "code",
      "source": "class TreeNode:\n    def __init__(self, x):\n        self.val = x\n        self.left = None\n        self.right = None",
      "execution_count": 1,
      "outputs": []
    },
    {
      "metadata": {
        "trusted": true
      },
      "cell_type": "code",
      "source": "class Codec:\n\n    def serialize(self, root: TreeNode) -> str:\n        \"\"\"Encodes a tree to a single string.\n        \"\"\"\n        if not root:\n            return \"\"\n        return \"#\" + str(root.val) + self.serialize(root.left) + self.serialize(root.right)\n\n    def deserialize(self, data: str) -> TreeNode:\n        \"\"\"Decodes your encoded data to tree.\n        \"\"\"\n        l = data.split(\"#\")\n        nodes = []\n        for s in l:\n            if not s:\n                continue\n            node = TreeNode(int(s))\n            nodes.append(node)\n        for i in range(1, len(nodes)):\n            self.bst_insert(nodes[0], nodes[i])\n        if not nodes:\n            return None\n        return nodes[0]\n\n    def bst_insert(self, node: TreeNode, insert_node: TreeNode):\n        if insert_node.val < node.val:\n            if node.left:\n                self.bst_insert(node.left, insert_node)\n            else:\n                node.left = insert_node\n        else:\n            if node.right:\n                self.bst_insert(node.right, insert_node)\n            else:\n                node.right = insert_node",
      "execution_count": 2,
      "outputs": []
    },
    {
      "metadata": {
        "trusted": true
      },
      "cell_type": "code",
      "source": "root = TreeNode(2)\nroot.left = TreeNode(1)\nroot.right = TreeNode(3)",
      "execution_count": 3,
      "outputs": []
    },
    {
      "metadata": {
        "trusted": true
      },
      "cell_type": "code",
      "source": "codec = Codec()\nnode = codec.deserialize(codec.serialize(root))\ncodec.serialize(node)",
      "execution_count": 4,
      "outputs": [
        {
          "output_type": "execute_result",
          "execution_count": 4,
          "data": {
            "text/plain": "'#2#1#3'"
          },
          "metadata": {}
        }
      ]
    },
    {
      "metadata": {
        "trusted": true
      },
      "cell_type": "code",
      "source": "codec.serialize(root)",
      "execution_count": 5,
      "outputs": [
        {
          "output_type": "execute_result",
          "execution_count": 5,
          "data": {
            "text/plain": "'#2#1#3'"
          },
          "metadata": {}
        }
      ]
    },
    {
      "metadata": {
        "trusted": true
      },
      "cell_type": "code",
      "source": "",
      "execution_count": null,
      "outputs": []
    }
  ],
  "metadata": {
    "kernelspec": {
      "name": "python36",
      "display_name": "Python 3.6",
      "language": "python"
    },
    "language_info": {
      "mimetype": "text/x-python",
      "nbconvert_exporter": "python",
      "name": "python",
      "pygments_lexer": "ipython3",
      "version": "3.6.6",
      "file_extension": ".py",
      "codemirror_mode": {
        "version": 3,
        "name": "ipython"
      }
    }
  },
  "nbformat": 4,
  "nbformat_minor": 2
}