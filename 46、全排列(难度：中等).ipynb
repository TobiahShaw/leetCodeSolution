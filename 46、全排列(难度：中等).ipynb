{
  "cells": [
    {
      "metadata": {
        "collapsed": true
      },
      "cell_type": "markdown",
      "source": "# 全排列\n\n**题目来源：力扣（LeetCode）**\n\n**链接：https://leetcode-cn.com/problems/permutations/**\n\n## 一、题目\n\n给定一个没有重复数字的序列，返回其所有可能的全排列。\n\n## 二、示例\n\n输入: [1,2,3]\n\n输出:\n\n[\n  [1,2,3],\n  \n  [1,3,2],\n  \n  [2,1,3],\n  \n  [2,3,1],\n  \n  [3,1,2],\n  \n  [3,2,1]\n]\n\n## 三、解题思路\n\n### 递归"
    },
    {
      "metadata": {
        "trusted": true
      },
      "cell_type": "code",
      "source": "def permute(nums):\n    if not nums:\n        return [[]]\n    if len(nums) == 1:\n        return [nums]\n    if len(nums) == 2:\n        return [[nums[0], nums[1]], [nums[1], nums[0]]]\n    res = []\n    for i in nums:\n        res_sub = []\n        copy_num = nums.copy()\n        copy_num.remove(i)\n        sub = permute(copy_num)\n        for arr in sub:\n            tmp = []\n            tmp.append(i)\n            tmp.extend(arr)\n            res_sub.append(tmp)\n        res.extend(res_sub)\n    return res",
      "execution_count": 1,
      "outputs": []
    },
    {
      "metadata": {
        "trusted": true
      },
      "cell_type": "code",
      "source": "permute([1,2,3])",
      "execution_count": 2,
      "outputs": [
        {
          "output_type": "execute_result",
          "execution_count": 2,
          "data": {
            "text/plain": "[[1, 2, 3], [1, 3, 2], [2, 1, 3], [2, 3, 1], [3, 1, 2], [3, 2, 1]]"
          },
          "metadata": {}
        }
      ]
    },
    {
      "metadata": {},
      "cell_type": "markdown",
      "source": "### 回溯"
    },
    {
      "metadata": {
        "trusted": true
      },
      "cell_type": "code",
      "source": "def permute(nums):\n    def backtrack(first = 0):\n            # if all integers are used up\n        if first == n:  \n            output.append(nums[:])\n        for i in range(first, n):\n            # place i-th integer first \n            # in the current permutation\n            nums[first], nums[i] = nums[i], nums[first]\n            # use next integers to complete the permutations\n            backtrack(first + 1)\n            # backtrack\n            nums[first], nums[i] = nums[i], nums[first]\n        \n    n = len(nums)\n    output = []\n    backtrack()\n    return output",
      "execution_count": 3,
      "outputs": []
    },
    {
      "metadata": {
        "trusted": true
      },
      "cell_type": "code",
      "source": "permute([1,2,3])",
      "execution_count": 4,
      "outputs": [
        {
          "output_type": "execute_result",
          "execution_count": 4,
          "data": {
            "text/plain": "[[1, 2, 3], [1, 3, 2], [2, 1, 3], [2, 3, 1], [3, 2, 1], [3, 1, 2]]"
          },
          "metadata": {}
        }
      ]
    },
    {
      "metadata": {
        "trusted": true
      },
      "cell_type": "code",
      "source": "",
      "execution_count": null,
      "outputs": []
    }
  ],
  "metadata": {
    "kernelspec": {
      "name": "python36",
      "display_name": "Python 3.6",
      "language": "python"
    },
    "language_info": {
      "mimetype": "text/x-python",
      "nbconvert_exporter": "python",
      "name": "python",
      "pygments_lexer": "ipython3",
      "version": "3.6.6",
      "file_extension": ".py",
      "codemirror_mode": {
        "version": 3,
        "name": "ipython"
      }
    }
  },
  "nbformat": 4,
  "nbformat_minor": 2
}