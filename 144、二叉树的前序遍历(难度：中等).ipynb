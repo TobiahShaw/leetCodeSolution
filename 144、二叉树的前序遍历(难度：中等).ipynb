{
 "cells": [
  {
   "cell_type": "markdown",
   "metadata": {},
   "source": [
    "# 二叉树的前序遍历\n",
    "\n",
    "**题目来源：力扣（LeetCode）**\n",
    "\n",
    "**链接：https://leetcode-cn.com/problems/binary-tree-preorder-traversal/**\n",
    "\n",
    "## 一、题目\n",
    "\n",
    "给定一个二叉树，返回它的 前序 遍历。\n",
    "\n",
    "## 二、示例\n",
    "\n",
    "输入: [1,null,2,3] \n",
    "\n",
    "```\n",
    "   1\n",
    "    \\\n",
    "     2\n",
    "    /\n",
    "   3 \n",
    "```\n",
    "\n",
    "输出: [1,2,3]\n",
    "\n",
    "## 三、解题思路"
   ]
  },
  {
   "cell_type": "code",
   "execution_count": 1,
   "metadata": {},
   "outputs": [],
   "source": [
    "class TreeNode:\n",
    "    def __init__(self, val=0, left=None, right=None):\n",
    "        self.val = val\n",
    "        self.left = left\n",
    "        self.right = right"
   ]
  },
  {
   "cell_type": "code",
   "execution_count": 2,
   "metadata": {},
   "outputs": [],
   "source": [
    "root = TreeNode(1)\n",
    "\n",
    "root.right = TreeNode(2)\n",
    "\n",
    "root.left = TreeNode(3)"
   ]
  },
  {
   "cell_type": "markdown",
   "metadata": {},
   "source": [
    "### 递归"
   ]
  },
  {
   "cell_type": "code",
   "execution_count": 3,
   "metadata": {},
   "outputs": [],
   "source": [
    "def preorderTraversal(root: TreeNode):\n",
    "    def dfs(node, ret):\n",
    "        if not node:\n",
    "            return\n",
    "        ret.append(node.val)\n",
    "        dfs(node.left, ret)\n",
    "        dfs(node.right, ret)\n",
    "    ret = []\n",
    "    dfs(root, ret)\n",
    "    return ret"
   ]
  },
  {
   "cell_type": "code",
   "execution_count": 4,
   "metadata": {},
   "outputs": [
    {
     "data": {
      "text/plain": [
       "[1, 3, 2]"
      ]
     },
     "execution_count": 4,
     "metadata": {},
     "output_type": "execute_result"
    }
   ],
   "source": [
    "preorderTraversal(root)"
   ]
  },
  {
   "cell_type": "code",
   "execution_count": null,
   "metadata": {},
   "outputs": [],
   "source": []
  }
 ],
 "metadata": {
  "kernelspec": {
   "display_name": "Python 3",
   "language": "python",
   "name": "python3"
  },
  "language_info": {
   "codemirror_mode": {
    "name": "ipython",
    "version": 3
   },
   "file_extension": ".py",
   "mimetype": "text/x-python",
   "name": "python",
   "nbconvert_exporter": "python",
   "pygments_lexer": "ipython3",
   "version": "3.6.5"
  }
 },
 "nbformat": 4,
 "nbformat_minor": 2
}
