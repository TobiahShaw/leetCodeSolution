{
 "cells": [
  {
   "cell_type": "markdown",
   "metadata": {},
   "source": [
    "# 分发糖果\n",
    "\n",
    "**题目来源：力扣（LeetCode）**\n",
    "\n",
    "**链接：https://leetcode-cn.com/problems/candy/**\n",
    "\n",
    "## 一、题目\n",
    "\n",
    "老师想给孩子们分发糖果，有 N 个孩子站成了一条直线，老师会根据每个孩子的表现，预先给他们评分。\n",
    "\n",
    "你需要按照以下要求，帮助老师给这些孩子分发糖果：\n",
    "\n",
    "- 每个孩子至少分配到 1 个糖果。\n",
    "- 相邻的孩子中，评分高的孩子必须获得更多的糖果。\n",
    "\n",
    "那么这样下来，老师至少需要准备多少颗糖果呢？\n",
    "\n",
    "## 二、示例\n",
    "\n",
    "### 示例 1：\n",
    "\n",
    "输入: [1,0,2]\n",
    "\n",
    "输出: 5\n",
    "\n",
    "解释: 你可以分别给这三个孩子分发 2、1、2 颗糖果。\n",
    "\n",
    "### 示例 2:\n",
    "\n",
    "输入: [1,2,2]\n",
    "\n",
    "输出: 4\n",
    "\n",
    "解释: 你可以分别给这三个孩子分发 1、2、1 颗糖果。第三个孩子只得到 1 颗糖果，这已满足上述两个条件。\n",
    "\n",
    "## 三、解题思路\n",
    "\n",
    "### 两遍循环"
   ]
  },
  {
   "cell_type": "code",
   "execution_count": 1,
   "metadata": {},
   "outputs": [],
   "source": [
    "def candy(ratings) -> int:\n",
    "    n = len(ratings)\n",
    "    sweet1 = [0] * n\n",
    "    for i in range(n):\n",
    "        if i > 0 and ratings[i] > ratings[i-1]:\n",
    "            sweet1[i] = sweet1[i-1] + 1\n",
    "        else:\n",
    "            sweet1[i] = 1\n",
    "    sweet2 = [0] * n\n",
    "    for i in range(n-1, -1, -1):\n",
    "        if i < n - 1 and ratings[i] > ratings[i+1]:\n",
    "            sweet2[i] = sweet2[i+1] + 1\n",
    "        else:\n",
    "            sweet2[i] = 1\n",
    "    ret = 0\n",
    "    for i in range(n):\n",
    "        ret += max(sweet1[i], sweet2[i])\n",
    "    return ret"
   ]
  },
  {
   "cell_type": "code",
   "execution_count": 2,
   "metadata": {},
   "outputs": [
    {
     "data": {
      "text/plain": [
       "5"
      ]
     },
     "execution_count": 2,
     "metadata": {},
     "output_type": "execute_result"
    }
   ],
   "source": [
    "candy([1,0,2])"
   ]
  },
  {
   "cell_type": "code",
   "execution_count": 3,
   "metadata": {},
   "outputs": [
    {
     "data": {
      "text/plain": [
       "4"
      ]
     },
     "execution_count": 3,
     "metadata": {},
     "output_type": "execute_result"
    }
   ],
   "source": [
    "candy([1,2,2])"
   ]
  },
  {
   "cell_type": "code",
   "execution_count": null,
   "metadata": {},
   "outputs": [],
   "source": []
  }
 ],
 "metadata": {
  "kernelspec": {
   "display_name": "Python 3",
   "language": "python",
   "name": "python3"
  },
  "language_info": {
   "codemirror_mode": {
    "name": "ipython",
    "version": 3
   },
   "file_extension": ".py",
   "mimetype": "text/x-python",
   "name": "python",
   "nbconvert_exporter": "python",
   "pygments_lexer": "ipython3",
   "version": "3.6.5"
  }
 },
 "nbformat": 4,
 "nbformat_minor": 2
}
