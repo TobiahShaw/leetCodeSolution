{
 "cells": [
  {
   "cell_type": "markdown",
   "metadata": {},
   "source": [
    "# 构造元素不等于两相邻元素平均值的数组\n",
    "\n",
    "**题目来源：力扣（LeetCode）**\n",
    "\n",
    "**链接：https://leetcode-cn.com/problems/array-with-elements-not-equal-to-average-of-neighbors/**\n",
    "\n",
    "## 一、题目\n",
    "\n",
    "给你一个 下标从 0 开始 的数组 nums ，数组由若干 互不相同的 整数组成。你打算重新排列数组中的元素以满足：重排后，数组中的每个元素都 不等于 其两侧相邻元素的 平均值 。\n",
    "\n",
    "更公式化的说法是，重新排列的数组应当满足这一属性：对于范围 1 <= i < nums.length - 1 中的每个 i ，(nums[i-1] + nums[i+1]) / 2 不等于 nums[i] 均成立 。\n",
    "\n",
    "返回满足题意的任一重排结果。\n",
    "\n",
    "## 二、示例\n",
    "\n",
    "### 示例 1：\n",
    "\n",
    "输入：nums = [1,2,3,4,5]\n",
    "\n",
    "输出：[1,2,4,5,3]\n",
    "\n",
    "解释：\n",
    "\n",
    "- i=1, nums[i] = 2, 两相邻元素平均值为 (1+4) / 2 = 2.5\n",
    "- i=2, nums[i] = 4, 两相邻元素平均值为 (2+5) / 2 = 3.5\n",
    "- i=3, nums[i] = 5, 两相邻元素平均值为 (4+3) / 2 = 3.5\n",
    "\n",
    "### 示例 2：\n",
    "\n",
    "输入：nums = [6,2,0,9,7]\n",
    "\n",
    "输出：[9,7,6,2,0]\n",
    "\n",
    "解释：\n",
    "\n",
    "- i=1, nums[i] = 7, 两相邻元素平均值为 (9+6) / 2 = 7.5\n",
    "- i=2, nums[i] = 6, 两相邻元素平均值为 (7+2) / 2 = 4.5\n",
    "- i=3, nums[i] = 2, 两相邻元素平均值为 (6+0) / 2 = 3\n",
    "\n",
    "## 三、解题思路\n",
    "\n",
    "### 排序后打乱"
   ]
  },
  {
   "cell_type": "code",
   "execution_count": 1,
   "metadata": {},
   "outputs": [],
   "source": [
    "def rearrangeArray(nums):\n",
    "    nums.sort()\n",
    "    ready = False\n",
    "    while not ready:\n",
    "        ready = True\n",
    "        for i in range(1, len(nums)-1):\n",
    "            if nums[i] == (nums[i-1] + nums[i+1]) / 2:\n",
    "                nums[i], nums[i+1] = nums[i+1], nums[i]\n",
    "                ready = False\n",
    "    return nums"
   ]
  },
  {
   "cell_type": "code",
   "execution_count": 2,
   "metadata": {},
   "outputs": [
    {
     "data": {
      "text/plain": [
       "[1, 3, 2, 4, 5]"
      ]
     },
     "execution_count": 2,
     "metadata": {},
     "output_type": "execute_result"
    }
   ],
   "source": [
    "rearrangeArray([1,2,3,4,5])"
   ]
  },
  {
   "cell_type": "code",
   "execution_count": 3,
   "metadata": {},
   "outputs": [
    {
     "data": {
      "text/plain": [
       "[0, 2, 6, 7, 9]"
      ]
     },
     "execution_count": 3,
     "metadata": {},
     "output_type": "execute_result"
    }
   ],
   "source": [
    "rearrangeArray([6,2,0,9,7])"
   ]
  },
  {
   "cell_type": "code",
   "execution_count": null,
   "metadata": {},
   "outputs": [],
   "source": []
  }
 ],
 "metadata": {
  "kernelspec": {
   "display_name": "Python 3",
   "language": "python",
   "name": "python3"
  },
  "language_info": {
   "codemirror_mode": {
    "name": "ipython",
    "version": 3
   },
   "file_extension": ".py",
   "mimetype": "text/x-python",
   "name": "python",
   "nbconvert_exporter": "python",
   "pygments_lexer": "ipython3",
   "version": "3.6.5"
  }
 },
 "nbformat": 4,
 "nbformat_minor": 2
}
