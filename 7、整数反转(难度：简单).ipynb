{
 "cells": [
  {
   "cell_type": "markdown",
   "metadata": {
    "collapsed": true
   },
   "source": [
    "# 整数反转\n",
    "\n",
    "**题目来源：力扣（LeetCode）**\n",
    "\n",
    "**链接：https://leetcode-cn.com/problems/reverse-integer/**\n",
    "\n",
    "## 一、题目\n",
    "\n",
    "给出一个 32 位的有符号整数，你需要将这个整数中每位上的数字进行反转。\n",
    "\n",
    "### 提示：\n",
    "\n",
    "- -231 <= x <= 231 - 1\n",
    "\n",
    "## 二、示例\n",
    "\n",
    "### 示例 1:\n",
    "\n",
    "输入: 123\n",
    "\n",
    "输出: 321\n",
    "\n",
    "### 示例 2:\n",
    "\n",
    "输入: -123\n",
    "\n",
    "输出: -321\n",
    "\n",
    "### 示例 3:\n",
    "\n",
    "输入: 120\n",
    "\n",
    "输出: 21\n",
    "\n",
    "## 三、解题思路\n",
    "\n",
    "### 一、栈"
   ]
  },
  {
   "cell_type": "code",
   "execution_count": 1,
   "metadata": {},
   "outputs": [],
   "source": [
    "def reverse(x):\n",
    "    result_list = []\n",
    "    i = 0\n",
    "    if x<0:\n",
    "        num = (-1)*x\n",
    "    else:\n",
    "        num = x\n",
    "    while num//10:\n",
    "        i += 1\n",
    "        result_list.append(num % 10)\n",
    "        num = num//10\n",
    "    result_list.append(num % 10)\n",
    "    i += 1\n",
    "    result = 0\n",
    "    for j in range(i):\n",
    "        result += result_list[j]*pow(10, i-1-j)\n",
    "    if x<0:\n",
    "        result = result*(-1)\n",
    "    if result<=pow(2, 31)-1 and result>=(-1)*pow(2, 31):\n",
    "        return result\n",
    "    else:\n",
    "        return 0"
   ]
  },
  {
   "cell_type": "code",
   "execution_count": 2,
   "metadata": {},
   "outputs": [
    {
     "data": {
      "text/plain": [
       "321"
      ]
     },
     "execution_count": 2,
     "metadata": {},
     "output_type": "execute_result"
    }
   ],
   "source": [
    "reverse(123)"
   ]
  },
  {
   "cell_type": "code",
   "execution_count": 3,
   "metadata": {},
   "outputs": [
    {
     "data": {
      "text/plain": [
       "-321"
      ]
     },
     "execution_count": 3,
     "metadata": {},
     "output_type": "execute_result"
    }
   ],
   "source": [
    "reverse(-123)"
   ]
  },
  {
   "cell_type": "code",
   "execution_count": 4,
   "metadata": {},
   "outputs": [
    {
     "data": {
      "text/plain": [
       "21"
      ]
     },
     "execution_count": 4,
     "metadata": {},
     "output_type": "execute_result"
    }
   ],
   "source": [
    "reverse(120)"
   ]
  },
  {
   "cell_type": "markdown",
   "metadata": {},
   "source": [
    "### 二、数学"
   ]
  },
  {
   "cell_type": "code",
   "execution_count": 5,
   "metadata": {},
   "outputs": [],
   "source": [
    "def reverse(x: int) -> int:\n",
    "    INT_MIN, INT_MAX = -2**31, 2**31 - 1\n",
    "\n",
    "    rev = 0\n",
    "    while x != 0:\n",
    "        # INT_MIN 也是一个负数，不能写成 rev < INT_MIN // 10\n",
    "        if rev < INT_MIN // 10 + 1 or rev > INT_MAX // 10:\n",
    "            return 0\n",
    "        digit = x % 10\n",
    "        # Python3 的取模运算在 x 为负数时也会返回 [0, 9) 以内的结果，因此这里需要进行特殊判断\n",
    "        if x < 0 and digit > 0:\n",
    "            digit -= 10\n",
    "\n",
    "        # 同理，Python3 的整数除法在 x 为负数时会向下（更小的负数）取整，因此不能写成 x //= 10\n",
    "        x = (x - digit) // 10\n",
    "        rev = rev * 10 + digit\n",
    "    \n",
    "    return rev"
   ]
  },
  {
   "cell_type": "code",
   "execution_count": 6,
   "metadata": {},
   "outputs": [
    {
     "data": {
      "text/plain": [
       "321"
      ]
     },
     "execution_count": 6,
     "metadata": {},
     "output_type": "execute_result"
    }
   ],
   "source": [
    "reverse(123)"
   ]
  },
  {
   "cell_type": "code",
   "execution_count": 7,
   "metadata": {},
   "outputs": [
    {
     "data": {
      "text/plain": [
       "-321"
      ]
     },
     "execution_count": 7,
     "metadata": {},
     "output_type": "execute_result"
    }
   ],
   "source": [
    "reverse(-123)"
   ]
  },
  {
   "cell_type": "code",
   "execution_count": 8,
   "metadata": {},
   "outputs": [
    {
     "data": {
      "text/plain": [
       "21"
      ]
     },
     "execution_count": 8,
     "metadata": {},
     "output_type": "execute_result"
    }
   ],
   "source": [
    "reverse(120)"
   ]
  },
  {
   "cell_type": "code",
   "execution_count": null,
   "metadata": {},
   "outputs": [],
   "source": []
  }
 ],
 "metadata": {
  "kernelspec": {
   "display_name": "Python 3",
   "language": "python",
   "name": "python3"
  },
  "language_info": {
   "codemirror_mode": {
    "name": "ipython",
    "version": 3
   },
   "file_extension": ".py",
   "mimetype": "text/x-python",
   "name": "python",
   "nbconvert_exporter": "python",
   "pygments_lexer": "ipython3",
   "version": "3.6.5"
  }
 },
 "nbformat": 4,
 "nbformat_minor": 2
}
