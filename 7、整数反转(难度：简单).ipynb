{
  "cells": [
    {
      "metadata": {
        "collapsed": true
      },
      "cell_type": "markdown",
      "source": "# 整数反转\n\n**题目来源：力扣（LeetCode）**\n\n**链接：https://leetcode-cn.com/problems/reverse-integer/**\n\n## 一、题目\n\n给出一个 32 位的有符号整数，你需要将这个整数中每位上的数字进行反转。\n\n## 二、示例\n\n### 示例 1:\n\n输入: 123\n\n输出: 321\n\n### 示例 2:\n\n输入: -123\n\n输出: -321\n\n### 示例 3:\n\n输入: 120\n\n输出: 21\n\n## 三、解题思路"
    },
    {
      "metadata": {
        "trusted": true
      },
      "cell_type": "code",
      "source": "def reverse(x):\n    result_list = []\n    i = 0\n    if x<0:\n        num = (-1)*x\n    else:\n        num = x\n    while num//10:\n        i += 1\n        result_list.append(num % 10)\n        num = num//10\n    result_list.append(num % 10)\n    i += 1\n    result = 0\n    for j in range(i):\n        result += result_list[j]*pow(10, i-1-j)\n    if x<0:\n        result = result*(-1)\n    if result<=pow(2, 31)-1 and result>=(-1)*pow(2, 31):\n        return result\n    else:\n        return 0",
      "execution_count": 1,
      "outputs": []
    },
    {
      "metadata": {
        "trusted": true
      },
      "cell_type": "code",
      "source": "reverse(123)",
      "execution_count": 2,
      "outputs": [
        {
          "output_type": "execute_result",
          "execution_count": 2,
          "data": {
            "text/plain": "321"
          },
          "metadata": {}
        }
      ]
    },
    {
      "metadata": {
        "trusted": true
      },
      "cell_type": "code",
      "source": "reverse(-123)",
      "execution_count": 3,
      "outputs": [
        {
          "output_type": "execute_result",
          "execution_count": 3,
          "data": {
            "text/plain": "-321"
          },
          "metadata": {}
        }
      ]
    },
    {
      "metadata": {
        "trusted": true
      },
      "cell_type": "code",
      "source": "reverse(120)",
      "execution_count": 4,
      "outputs": [
        {
          "output_type": "execute_result",
          "execution_count": 4,
          "data": {
            "text/plain": "21"
          },
          "metadata": {}
        }
      ]
    },
    {
      "metadata": {
        "trusted": true
      },
      "cell_type": "code",
      "source": "",
      "execution_count": null,
      "outputs": []
    }
  ],
  "metadata": {
    "kernelspec": {
      "name": "python36",
      "display_name": "Python 3.6",
      "language": "python"
    },
    "language_info": {
      "mimetype": "text/x-python",
      "nbconvert_exporter": "python",
      "name": "python",
      "pygments_lexer": "ipython3",
      "version": "3.6.6",
      "file_extension": ".py",
      "codemirror_mode": {
        "version": 3,
        "name": "ipython"
      }
    }
  },
  "nbformat": 4,
  "nbformat_minor": 2
}