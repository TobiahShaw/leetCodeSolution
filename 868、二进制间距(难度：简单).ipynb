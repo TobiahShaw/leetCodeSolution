{
 "cells": [
  {
   "cell_type": "markdown",
   "metadata": {},
   "source": [
    "# 二进制间距\n",
    "\n",
    "**题目来源：力扣（LeetCode）**\n",
    "\n",
    "**链接：https://leetcode-cn.com/problems/binary-gap/**\n",
    "\n",
    "## 一、题目\n",
    "\n",
    "给定一个正整数 n，找到并返回 n 的二进制表示中两个 相邻 1 之间的 最长距离 。如果不存在两个相邻的 1，返回 0 。\n",
    "\n",
    "如果只有 0 将两个 1 分隔开（可能不存在 0 ），则认为这两个 1 彼此 相邻 。两个 1 之间的距离是它们的二进制表示中位置的绝对差。例如，\"1001\" 中的两个 1 的距离为 3 。\n",
    "\n",
    "### 提示：\n",
    "\n",
    "- 1 <= N <= 10^9\n",
    "\n",
    "## 二、示例\n",
    "\n",
    "### 示例 1：\n",
    "\n",
    "输入：n = 22\n",
    "\n",
    "输出：2\n",
    "\n",
    "解释：\n",
    "\n",
    "22 的二进制是 \"10110\" 。\n",
    "\n",
    "在 22 的二进制表示中，有三个 1，组成两对相邻的 1 。\n",
    "\n",
    "第一对相邻的 1 中，两个 1 之间的距离为 2 。\n",
    "\n",
    "第二对相邻的 1 中，两个 1 之间的距离为 1 。\n",
    "\n",
    "答案取两个距离之中最大的，也就是 2 。\n",
    "\n",
    "### 示例 2：\n",
    "\n",
    "输入：n = 5\n",
    "\n",
    "输出：2\n",
    "\n",
    "解释：\n",
    "\n",
    "5 的二进制是 \"101\" 。\n",
    "\n",
    "### 示例 3：\n",
    "\n",
    "输入：n = 6\n",
    "\n",
    "输出：1\n",
    "\n",
    "解释：\n",
    "\n",
    "6 的二进制是 \"110\" 。\n",
    "\n",
    "### 示例 4：\n",
    "\n",
    "输入：n = 8\n",
    "\n",
    "输出：0\n",
    "\n",
    "解释：\n",
    "\n",
    "8 的二进制是 \"1000\" 。\n",
    "\n",
    "在 8 的二进制表示中没有相邻的两个 1，所以返回 0 。\n",
    "\n",
    "### 示例 5：\n",
    "\n",
    "输入：n = 1\n",
    "\n",
    "输出：0\n",
    "\n",
    "## 三、解题思路\n",
    "\n",
    "### 一、利用字符串模拟过程"
   ]
  },
  {
   "cell_type": "code",
   "execution_count": 1,
   "metadata": {},
   "outputs": [],
   "source": [
    "def binaryGap(n: int) -> int:\n",
    "    distance, index = 0, -1\n",
    "    n_str = str(bin(n)).replace('0b', '')\n",
    "    for i in range(len(n_str)):\n",
    "        if n_str[i] == '1':\n",
    "            if index == -1:\n",
    "                index = i\n",
    "            else:\n",
    "                distance = max(i - index, distance)\n",
    "                index = i\n",
    "    return distance"
   ]
  },
  {
   "cell_type": "code",
   "execution_count": 2,
   "metadata": {},
   "outputs": [
    {
     "data": {
      "text/plain": [
       "2"
      ]
     },
     "execution_count": 2,
     "metadata": {},
     "output_type": "execute_result"
    }
   ],
   "source": [
    "binaryGap(22)"
   ]
  },
  {
   "cell_type": "code",
   "execution_count": 3,
   "metadata": {},
   "outputs": [
    {
     "data": {
      "text/plain": [
       "2"
      ]
     },
     "execution_count": 3,
     "metadata": {},
     "output_type": "execute_result"
    }
   ],
   "source": [
    "binaryGap(5)"
   ]
  },
  {
   "cell_type": "code",
   "execution_count": 4,
   "metadata": {},
   "outputs": [
    {
     "data": {
      "text/plain": [
       "1"
      ]
     },
     "execution_count": 4,
     "metadata": {},
     "output_type": "execute_result"
    }
   ],
   "source": [
    "binaryGap(6)"
   ]
  },
  {
   "cell_type": "code",
   "execution_count": 5,
   "metadata": {},
   "outputs": [
    {
     "data": {
      "text/plain": [
       "0"
      ]
     },
     "execution_count": 5,
     "metadata": {},
     "output_type": "execute_result"
    }
   ],
   "source": [
    "binaryGap(8)"
   ]
  },
  {
   "cell_type": "code",
   "execution_count": 6,
   "metadata": {},
   "outputs": [
    {
     "data": {
      "text/plain": [
       "0"
      ]
     },
     "execution_count": 6,
     "metadata": {},
     "output_type": "execute_result"
    }
   ],
   "source": [
    "binaryGap(1)"
   ]
  },
  {
   "cell_type": "markdown",
   "metadata": {},
   "source": [
    "### 二、位运算"
   ]
  },
  {
   "cell_type": "code",
   "execution_count": 7,
   "metadata": {},
   "outputs": [],
   "source": [
    "def binaryGap(n: int) -> int:\n",
    "    last, ret, i = -1, 0, 0\n",
    "    while n:\n",
    "        if n & 1:\n",
    "            if last != -1:\n",
    "                ret = max(ret, i - last)\n",
    "            last = i\n",
    "        n >>= 1\n",
    "        i += 1\n",
    "    return ret"
   ]
  },
  {
   "cell_type": "code",
   "execution_count": 8,
   "metadata": {},
   "outputs": [
    {
     "data": {
      "text/plain": [
       "2"
      ]
     },
     "execution_count": 8,
     "metadata": {},
     "output_type": "execute_result"
    }
   ],
   "source": [
    "binaryGap(22)"
   ]
  },
  {
   "cell_type": "code",
   "execution_count": 9,
   "metadata": {},
   "outputs": [
    {
     "data": {
      "text/plain": [
       "2"
      ]
     },
     "execution_count": 9,
     "metadata": {},
     "output_type": "execute_result"
    }
   ],
   "source": [
    "binaryGap(5)"
   ]
  },
  {
   "cell_type": "code",
   "execution_count": 10,
   "metadata": {},
   "outputs": [
    {
     "data": {
      "text/plain": [
       "1"
      ]
     },
     "execution_count": 10,
     "metadata": {},
     "output_type": "execute_result"
    }
   ],
   "source": [
    "binaryGap(6)"
   ]
  },
  {
   "cell_type": "code",
   "execution_count": 11,
   "metadata": {},
   "outputs": [
    {
     "data": {
      "text/plain": [
       "0"
      ]
     },
     "execution_count": 11,
     "metadata": {},
     "output_type": "execute_result"
    }
   ],
   "source": [
    "binaryGap(8)"
   ]
  },
  {
   "cell_type": "code",
   "execution_count": 12,
   "metadata": {},
   "outputs": [
    {
     "data": {
      "text/plain": [
       "0"
      ]
     },
     "execution_count": 12,
     "metadata": {},
     "output_type": "execute_result"
    }
   ],
   "source": [
    "binaryGap(1)"
   ]
  },
  {
   "cell_type": "code",
   "execution_count": null,
   "metadata": {},
   "outputs": [],
   "source": []
  }
 ],
 "metadata": {
  "kernelspec": {
   "display_name": "Python 3",
   "language": "python",
   "name": "python3"
  },
  "language_info": {
   "codemirror_mode": {
    "name": "ipython",
    "version": 3
   },
   "file_extension": ".py",
   "mimetype": "text/x-python",
   "name": "python",
   "nbconvert_exporter": "python",
   "pygments_lexer": "ipython3",
   "version": "3.6.5"
  }
 },
 "nbformat": 4,
 "nbformat_minor": 2
}
