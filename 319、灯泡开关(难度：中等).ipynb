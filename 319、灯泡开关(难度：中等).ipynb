{
 "cells": [
  {
   "cell_type": "markdown",
   "metadata": {},
   "source": [
    "# 灯泡开关\n",
    "\n",
    "**题目来源：力扣（LeetCode）**\n",
    "\n",
    "**链接：https://leetcode-cn.com/problems/bulb-switcher/**\n",
    "\n",
    "## 一、题目\n",
    "\n",
    "初始时有 n 个灯泡处于关闭状态。第一轮，你将会打开所有灯泡。接下来的第二轮，你将会每两个灯泡关闭一个。\n",
    "\n",
    "第三轮，你每三个灯泡就切换一个灯泡的开关（即，打开变关闭，关闭变打开）。第 i 轮，你每 i 个灯泡就切换一个灯泡的开关。直到第 n 轮，你只需要切换最后一个灯泡的开关。\n",
    "\n",
    "找出并返回 n 轮后有多少个亮着的灯泡。\n",
    "\n",
    "### 提示：\n",
    "\n",
    "- 0 <= n <= 10^9\n",
    "\n",
    "## 二、示例\n",
    "\n",
    "### 示例 1：\n",
    "\n",
    "输入：n = 3\n",
    "\n",
    "输出：1 \n",
    "\n",
    "解释：\n",
    "\n",
    "- 初始时, 灯泡状态 [关闭, 关闭, 关闭].\n",
    "- 第一轮后, 灯泡状态 [开启, 开启, 开启].\n",
    "- 第二轮后, 灯泡状态 [开启, 关闭, 开启].\n",
    "- 第三轮后, 灯泡状态 [开启, 关闭, 关闭]. \n",
    "\n",
    "你应该返回 1，因为只有一个灯泡还亮着。\n",
    "\n",
    "### 示例 2：\n",
    "\n",
    "输入：n = 0\n",
    "\n",
    "输出：0\n",
    "\n",
    "### 示例 3：\n",
    "\n",
    "输入：n = 1\n",
    "\n",
    "输出：1\n",
    "\n",
    "## 三、解题思路\n",
    "\n",
    "### 数学\n",
    "\n",
    "通过观察 n 从 0 到 20 的结果发现，只需返回 n ^ 0.5 即开方取整即可\n",
    "\n",
    "```\n",
    "1 1 1 2 2 2 2 2 3 3 3 3 3 3 3 4 4 4 4 4\n",
    "```"
   ]
  },
  {
   "cell_type": "code",
   "execution_count": 1,
   "metadata": {},
   "outputs": [],
   "source": [
    "def bulbSwitch(n: int) -> int:\n",
    "    from math import sqrt\n",
    "    return int(sqrt(n))"
   ]
  },
  {
   "cell_type": "code",
   "execution_count": 2,
   "metadata": {},
   "outputs": [
    {
     "data": {
      "text/plain": [
       "1"
      ]
     },
     "execution_count": 2,
     "metadata": {},
     "output_type": "execute_result"
    }
   ],
   "source": [
    "bulbSwitch(1)"
   ]
  },
  {
   "cell_type": "code",
   "execution_count": 3,
   "metadata": {},
   "outputs": [
    {
     "data": {
      "text/plain": [
       "1"
      ]
     },
     "execution_count": 3,
     "metadata": {},
     "output_type": "execute_result"
    }
   ],
   "source": [
    "bulbSwitch(2)"
   ]
  },
  {
   "cell_type": "code",
   "execution_count": 4,
   "metadata": {},
   "outputs": [
    {
     "data": {
      "text/plain": [
       "1"
      ]
     },
     "execution_count": 4,
     "metadata": {},
     "output_type": "execute_result"
    }
   ],
   "source": [
    "bulbSwitch(3)"
   ]
  },
  {
   "cell_type": "code",
   "execution_count": null,
   "metadata": {},
   "outputs": [],
   "source": []
  }
 ],
 "metadata": {
  "kernelspec": {
   "display_name": "Python 3",
   "language": "python",
   "name": "python3"
  },
  "language_info": {
   "codemirror_mode": {
    "name": "ipython",
    "version": 3
   },
   "file_extension": ".py",
   "mimetype": "text/x-python",
   "name": "python",
   "nbconvert_exporter": "python",
   "pygments_lexer": "ipython3",
   "version": "3.6.5"
  }
 },
 "nbformat": 4,
 "nbformat_minor": 2
}
